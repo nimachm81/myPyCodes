{
 "cells": [
  {
   "cell_type": "markdown",
   "metadata": {},
   "source": [
    "### ipython workspace"
   ]
  },
  {
   "cell_type": "code",
   "execution_count": 1,
   "metadata": {
    "collapsed": false
   },
   "outputs": [
    {
     "name": "stdout",
     "output_type": "stream",
     "text": [
      "credential_path:  /home/nima/ipython workspace/credentials/Drive API Quickstart.json\n"
     ]
    }
   ],
   "source": [
    "from WebTools.googledrive import *\n",
    "import os\n",
    "\n",
    "\n",
    "scopes = 'https://www.googleapis.com/auth/drive'\n",
    "client_secret_file = './credentials/client_secret.json'\n",
    "app_name = 'Drive API Quickstart'\n",
    "\n",
    "cwd = os.getcwd()\n",
    "fold_local = '/home/nima/ipython workspace'\n",
    "folds_ignore = ['/home/nima/ipython workspace/other',\n",
    "                '/home/nima/ipython workspace/attachments',\n",
    "                '/home/nima/ipython workspace/backups',\n",
    "                '/home/nima/ipython workspace/downloads']\n",
    "\n",
    "dataFileName = '/home/nima/Documents/GoogDrive/ipython-workspace.gdf'\n",
    "tempFolder = '/home/nima/Documents/GoogDrive/temp'\n",
    "assert os.path.exists(tempFolder)\n",
    "\n",
    "gdrive = GDSyncer(app_name, client_secret_file, scopes, vbose=True)\n",
    "gdrive.SetDataFileName(dataFileName)\n",
    "gdrive.SetTempFolder(tempFolder)\n",
    "\n",
    "gdrive.setupService()\n"
   ]
  },
  {
   "cell_type": "code",
   "execution_count": 2,
   "metadata": {
    "collapsed": true
   },
   "outputs": [],
   "source": [
    "##first time only\n",
    "#gdrive.AddSyncFolder(folder_sync=fold_local, gdfolder_id=None, folders_ignore=folds_ignore, fileTypes_ignore=['.pyc'])"
   ]
  },
  {
   "cell_type": "code",
   "execution_count": 3,
   "metadata": {
    "collapsed": false
   },
   "outputs": [
    {
     "name": "stdout",
     "output_type": "stream",
     "text": [
      "largestChangeId: 95000\n",
      "largestChangeId: 95000\n",
      "Done!\n"
     ]
    },
    {
     "data": {
      "text/plain": [
       "True"
      ]
     },
     "execution_count": 3,
     "metadata": {},
     "output_type": "execute_result"
    }
   ],
   "source": [
    "gdrive.SyncData()"
   ]
  },
  {
   "cell_type": "markdown",
   "metadata": {},
   "source": [
    "### Papers ToDo"
   ]
  },
  {
   "cell_type": "code",
   "execution_count": 1,
   "metadata": {
    "collapsed": false
   },
   "outputs": [
    {
     "name": "stdout",
     "output_type": "stream",
     "text": [
      "credential_path:  /home/nima/ipython workspace/credentials/Drive API Quickstart.json\n"
     ]
    }
   ],
   "source": [
    "from WebTools.googledrive import *\n",
    "import os\n",
    "\n",
    "\n",
    "scopes = 'https://www.googleapis.com/auth/drive'\n",
    "client_secret_file = './credentials/client_secret.json'\n",
    "app_name = 'Drive API Quickstart'\n",
    "\n",
    "cwd = os.getcwd()\n",
    "fold_local = '/home/nima/Documents/Papers ToDo'\n",
    "\n",
    "dataFileName = '/home/nima/Documents/GoogDrive/papersTODO.gdf'\n",
    "tempFolder = '/home/nima/Documents/GoogDrive/temp'\n",
    "\n",
    "gdrive = GDSyncer(app_name, client_secret_file, scopes, vbose=True)\n",
    "gdrive.SetDataFileName(dataFileName)\n",
    "gdrive.SetTempFolder(tempFolder)\n",
    "\n",
    "gdrive.setupService()"
   ]
  },
  {
   "cell_type": "code",
   "execution_count": 2,
   "metadata": {
    "collapsed": true
   },
   "outputs": [],
   "source": [
    "##first time only\n",
    "#gdrive.AddSyncFolder(folder_sync=fold_local, gdfolder_id=None, folders_ignore=[], fileTypes_ignore=[])\n"
   ]
  },
  {
   "cell_type": "code",
   "execution_count": 8,
   "metadata": {
    "collapsed": false
   },
   "outputs": [
    {
     "name": "stdout",
     "output_type": "stream",
     "text": [
      "largestChangeId: 65899\n",
      "largestChangeId: 65899\n",
      "Done!\n"
     ]
    },
    {
     "data": {
      "text/plain": [
       "True"
      ]
     },
     "execution_count": 8,
     "metadata": {},
     "output_type": "execute_result"
    }
   ],
   "source": [
    "gdrive.SyncData()"
   ]
  },
  {
   "cell_type": "markdown",
   "metadata": {
    "collapsed": true
   },
   "source": [
    "### Literature"
   ]
  },
  {
   "cell_type": "code",
   "execution_count": 3,
   "metadata": {
    "collapsed": false
   },
   "outputs": [
    {
     "name": "stdout",
     "output_type": "stream",
     "text": [
      "credential_path:  /home/nima/ipython workspace/credentials/Drive API Quickstart.json\n"
     ]
    }
   ],
   "source": [
    "from WebTools.googledrive import *\n",
    "import os\n",
    "\n",
    "\n",
    "scopes = 'https://www.googleapis.com/auth/drive'\n",
    "client_secret_file = './credentials/client_secret.json'\n",
    "app_name = 'Drive API Quickstart'\n",
    "\n",
    "cwd = os.getcwd()\n",
    "fold_local = '/home/nima/Documents/Literature'\n",
    "\n",
    "dataFileName = '/home/nima/Documents/GoogDrive/Literature.gdf'\n",
    "tempFolder = '/home/nima/Documents/GoogDrive/temp'\n",
    "\n",
    "gdrive = GDSyncer(app_name, client_secret_file, scopes, vbose=True)\n",
    "gdrive.SetDataFileName(dataFileName)\n",
    "gdrive.SetTempFolder(tempFolder)\n",
    "\n",
    "gdrive.setupService()\n"
   ]
  },
  {
   "cell_type": "code",
   "execution_count": null,
   "metadata": {
    "collapsed": true
   },
   "outputs": [],
   "source": [
    "##first time only\n",
    "gdrive.AddSyncFolder(folder_sync=fold_local, gdfolder_id=None, folders_ignore=[], fileTypes_ignore=[])"
   ]
  },
  {
   "cell_type": "code",
   "execution_count": null,
   "metadata": {
    "collapsed": true
   },
   "outputs": [],
   "source": [
    "gdrive.SyncData()"
   ]
  }
 ],
 "metadata": {
  "kernelspec": {
   "display_name": "Python 3",
   "language": "python",
   "name": "python3"
  },
  "language_info": {
   "codemirror_mode": {
    "name": "ipython",
    "version": 3
   },
   "file_extension": ".py",
   "mimetype": "text/x-python",
   "name": "python",
   "nbconvert_exporter": "python",
   "pygments_lexer": "ipython3",
   "version": "3.5.2"
  }
 },
 "nbformat": 4,
 "nbformat_minor": 0
}
