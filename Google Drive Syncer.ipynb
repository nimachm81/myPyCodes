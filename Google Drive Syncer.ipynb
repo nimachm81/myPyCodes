{
 "cells": [
  {
   "cell_type": "code",
   "execution_count": 1,
   "metadata": {
    "collapsed": false
   },
   "outputs": [
    {
     "name": "stdout",
     "output_type": "stream",
     "text": [
      "credential_path:  /home/nima/ipython workspace/credentials/Drive API Quickstart.json\n"
     ]
    }
   ],
   "source": [
    "from WebTools.googledrive import *\n",
    "import os\n",
    "\n",
    "\n",
    "scopes = 'https://www.googleapis.com/auth/drive'\n",
    "client_secret_file = './credentials/client_secret.json'\n",
    "app_name = 'Drive API Quickstart'\n",
    "\n",
    "cwd = os.getcwd()\n",
    "fold_local = os.path.join(cwd, 'other', 'gdfold-0')\n",
    "folds_ignore = [os.path.join(cwd, 'other', 'gdfold-0', 'ignore')]\n",
    "\n",
    "dataFileName = os.path.join(cwd, 'other', 'gdfile')\n",
    "tempFolder = os.path.join(cwd, 'other', 'temp')\n",
    "\n",
    "gdrive = GDSyncer(app_name, client_secret_file, scopes, vbose=True)\n",
    "gdrive.SetDataFileName(dataFileName)\n",
    "gdrive.SetTempFolder(tempFolder)\n",
    "\n",
    "gdrive.setupService()\n"
   ]
  },
  {
   "cell_type": "markdown",
   "metadata": {},
   "source": [
    "### Add new folder"
   ]
  },
  {
   "cell_type": "code",
   "execution_count": 2,
   "metadata": {
    "collapsed": true
   },
   "outputs": [],
   "source": [
    "\n",
    "gdrive.AddSyncFolder(folder_sync=fold_local, gdfolder_id=None, folders_ignore=folds_ignore, fileTypes_ignore=['.pyc'])\n"
   ]
  },
  {
   "cell_type": "markdown",
   "metadata": {},
   "source": [
    "### Sync"
   ]
  },
  {
   "cell_type": "code",
   "execution_count": 4,
   "metadata": {
    "collapsed": false
   },
   "outputs": [
    {
     "name": "stdout",
     "output_type": "stream",
     "text": [
      "largestChangeId: 34708\n",
      "largestChangeId: 34708\n",
      "Done!\n"
     ]
    },
    {
     "data": {
      "text/plain": [
       "True"
      ]
     },
     "execution_count": 4,
     "metadata": {},
     "output_type": "execute_result"
    }
   ],
   "source": [
    "gdrive.SyncData()"
   ]
  },
  {
   "cell_type": "code",
   "execution_count": null,
   "metadata": {
    "collapsed": true
   },
   "outputs": [],
   "source": []
  }
 ],
 "metadata": {
  "kernelspec": {
   "display_name": "Python 3",
   "language": "python",
   "name": "python3"
  },
  "language_info": {
   "codemirror_mode": {
    "name": "ipython",
    "version": 3
   },
   "file_extension": ".py",
   "mimetype": "text/x-python",
   "name": "python",
   "nbconvert_exporter": "python",
   "pygments_lexer": "ipython3",
   "version": "3.4.3"
  }
 },
 "nbformat": 4,
 "nbformat_minor": 0
}
