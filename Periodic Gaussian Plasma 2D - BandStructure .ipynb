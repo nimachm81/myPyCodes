{
 "cells": [
  {
   "cell_type": "code",
   "execution_count": 2,
   "metadata": {},
   "outputs": [
    {
     "name": "stdout",
     "output_type": "stream",
     "text": [
      "Populating the interactive namespace from numpy and matplotlib\n"
     ]
    },
    {
     "data": {
      "text/latex": [
       "$$EQ_E = - \\epsilon_0 \\epsilon_r \\mu_0 \\frac{d^{2}}{d t^{2}} E - \\mu_0 \\frac{d}{d t} J + \\frac{d^{2}}{d x^{2}} E + \\frac{d^{2}}{d y^{2}} E$$"
      ],
      "text/plain": [
       "<IPython.core.display.Math object>"
      ]
     },
     "metadata": {},
     "output_type": "display_data"
    },
    {
     "data": {
      "text/latex": [
       "$$EQ_J = - \\frac{E e^{2} n_{e}}{m_{e}} + J \\gamma + \\frac{d}{d t} J$$"
      ],
      "text/plain": [
       "<IPython.core.display.Math object>"
      ]
     },
     "metadata": {},
     "output_type": "display_data"
    },
    {
     "name": "stdout",
     "output_type": "stream",
     "text": [
      "Plasma frequency\n"
     ]
    },
    {
     "data": {
      "text/latex": [
       "$$EQ_{Jp} = - E \\epsilon_0 \\epsilon_r \\omega_{p}^{2} + J \\gamma + \\frac{d}{d t} J$$"
      ],
      "text/plain": [
       "<IPython.core.display.Math object>"
      ]
     },
     "metadata": {},
     "output_type": "display_data"
    },
    {
     "data": {
      "text/latex": [
       "$$EQ_E = - \\epsilon_0 \\epsilon_r \\mu_0 \\frac{\\partial^{2}}{\\partial t^{2}} E e^{i \\omega t - i k_{x} x - i k_{y} y} - \\mu_0 \\frac{\\partial}{\\partial t} J e^{i \\omega t - i k_{x} x - i k_{y} y} + \\frac{\\partial^{2}}{\\partial x^{2}} E e^{i \\omega t - i k_{x} x - i k_{y} y} + \\frac{\\partial^{2}}{\\partial y^{2}} E e^{i \\omega t - i k_{x} x - i k_{y} y}$$"
      ],
      "text/plain": [
       "<IPython.core.display.Math object>"
      ]
     },
     "metadata": {},
     "output_type": "display_data"
    },
    {
     "data": {
      "text/latex": [
       "$$EQ_J = - \\frac{E e^{2} n_{e} e^{i \\omega t - i k_{x} x - i k_{y} y}}{m_{e}} + J \\gamma e^{i \\omega t - i k_{x} x - i k_{y} y} + \\frac{\\partial}{\\partial t} J e^{i \\omega t - i k_{x} x - i k_{y} y}$$"
      ],
      "text/plain": [
       "<IPython.core.display.Math object>"
      ]
     },
     "metadata": {},
     "output_type": "display_data"
    },
    {
     "name": "stdout",
     "output_type": "stream",
     "text": [
      "harmonic: \n"
     ]
    },
    {
     "data": {
      "text/latex": [
       "$$e^{i \\left(k_{xm} n_{0} x + k_{ym} n_{1} y\\right)}$$"
      ],
      "text/plain": [
       "<IPython.core.display.Math object>"
      ]
     },
     "metadata": {},
     "output_type": "display_data"
    },
    {
     "name": "stdout",
     "output_type": "stream",
     "text": [
      "harmonic: \n"
     ]
    },
    {
     "data": {
      "text/latex": [
       "$$e^{i \\left(k_{xm} n_{0} x + k_{ym} n_{1} y\\right)}$$"
      ],
      "text/plain": [
       "<IPython.core.display.Math object>"
      ]
     },
     "metadata": {},
     "output_type": "display_data"
    },
    {
     "name": "stdout",
     "output_type": "stream",
     "text": [
      "replace harmonics\n"
     ]
    },
    {
     "data": {
      "text/latex": [
       "$$EQ_\\text{E harm} = - \\epsilon_0 \\epsilon_r \\mu_0 \\frac{\\partial^{2}}{\\partial t^{2}} e^{i \\omega t - i k_{x} x - i k_{y} y} \\sum_{\\substack{-\\infty \\leq n_{0} \\leq \\infty\\\\-\\infty \\leq n_{1} \\leq \\infty}} \\tilde{E}{\\left (n_{0},n_{1} \\right )} e^{i \\left(k_{xm} n_{0} x + k_{ym} n_{1} y\\right)} - \\mu_0 \\frac{\\partial}{\\partial t} e^{i \\omega t - i k_{x} x - i k_{y} y} \\sum_{\\substack{-\\infty \\leq n_{0} \\leq \\infty\\\\-\\infty \\leq n_{1} \\leq \\infty}} \\tilde{J}{\\left (n_{0},n_{1} \\right )} e^{i \\left(k_{xm} n_{0} x + k_{ym} n_{1} y\\right)} + \\frac{\\partial^{2}}{\\partial x^{2}} e^{i \\omega t - i k_{x} x - i k_{y} y} \\sum_{\\substack{-\\infty \\leq n_{0} \\leq \\infty\\\\-\\infty \\leq n_{1} \\leq \\infty}} \\tilde{E}{\\left (n_{0},n_{1} \\right )} e^{i \\left(k_{xm} n_{0} x + k_{ym} n_{1} y\\right)} + \\frac{\\partial^{2}}{\\partial y^{2}} e^{i \\omega t - i k_{x} x - i k_{y} y} \\sum_{\\substack{-\\infty \\leq n_{0} \\leq \\infty\\\\-\\infty \\leq n_{1} \\leq \\infty}} \\tilde{E}{\\left (n_{0},n_{1} \\right )} e^{i \\left(k_{xm} n_{0} x + k_{ym} n_{1} y\\right)}$$"
      ],
      "text/plain": [
       "<IPython.core.display.Math object>"
      ]
     },
     "metadata": {},
     "output_type": "display_data"
    },
    {
     "data": {
      "text/latex": [
       "$$EQ_\\text{J harm} = \\gamma e^{i \\omega t - i k_{x} x - i k_{y} y} \\sum_{\\substack{-\\infty \\leq n_{0} \\leq \\infty\\\\-\\infty \\leq n_{1} \\leq \\infty}} \\tilde{J}{\\left (n_{0},n_{1} \\right )} e^{i \\left(k_{xm} n_{0} x + k_{ym} n_{1} y\\right)} - \\frac{e^{2} e^{i \\omega t - i k_{x} x - i k_{y} y} \\left(\\sum_{\\substack{-\\infty \\leq n_{0} \\leq \\infty\\\\-\\infty \\leq n_{1} \\leq \\infty}} \\tilde{E}{\\left (n_{0},n_{1} \\right )} e^{i \\left(k_{xm} n_{0} x + k_{ym} n_{1} y\\right)}\\right) \\sum_{\\substack{-\\infty \\leq n_{0} \\leq \\infty\\\\-\\infty \\leq n_{1} \\leq \\infty}} \\tilde{n_e}{\\left (n_{0},n_{1} \\right )} e^{i \\left(k_{xm} n_{0} x + k_{ym} n_{1} y\\right)}}{m_{e}} + \\frac{\\partial}{\\partial t} e^{i \\omega t - i k_{x} x - i k_{y} y} \\sum_{\\substack{-\\infty \\leq n_{0} \\leq \\infty\\\\-\\infty \\leq n_{1} \\leq \\infty}} \\tilde{J}{\\left (n_{0},n_{1} \\right )} e^{i \\left(k_{xm} n_{0} x + k_{ym} n_{1} y\\right)}$$"
      ],
      "text/plain": [
       "<IPython.core.display.Math object>"
      ]
     },
     "metadata": {},
     "output_type": "display_data"
    },
    {
     "name": "stdout",
     "output_type": "stream",
     "text": [
      "apply derivatives\n"
     ]
    },
    {
     "data": {
      "text/latex": [
       "$$EQ_\\text{E harm} = \\epsilon_0 \\epsilon_r \\mu_0 \\omega^{2} e^{- i \\left(- \\omega t + k_{x} x + k_{y} y\\right)} \\sum_{\\substack{-\\infty \\leq n_{0} \\leq \\infty\\\\-\\infty \\leq n_{1} \\leq \\infty}} \\tilde{E}{\\left (n_{0},n_{1} \\right )} e^{i \\left(k_{xm} n_{0} x + k_{ym} n_{1} y\\right)} - i \\mu_0 \\omega e^{i \\omega t - i k_{x} x - i k_{y} y} \\sum_{\\substack{-\\infty \\leq n_{0} \\leq \\infty\\\\-\\infty \\leq n_{1} \\leq \\infty}} \\tilde{J}{\\left (n_{0},n_{1} \\right )} e^{i \\left(k_{xm} n_{0} x + k_{ym} n_{1} y\\right)} + \\left(- k_{x}^{2} \\sum_{\\substack{-\\infty \\leq n_{0} \\leq \\infty\\\\-\\infty \\leq n_{1} \\leq \\infty}} \\tilde{E}{\\left (n_{0},n_{1} \\right )} e^{i \\left(k_{xm} n_{0} x + k_{ym} n_{1} y\\right)} + 2 k_{x} k_{xm} \\sum_{\\substack{-\\infty \\leq n_{0} \\leq \\infty\\\\-\\infty \\leq n_{1} \\leq \\infty}} n_{0} \\tilde{E}{\\left (n_{0},n_{1} \\right )} e^{i \\left(k_{xm} n_{0} x + k_{ym} n_{1} y\\right)} - k_{xm}^{2} \\sum_{\\substack{-\\infty \\leq n_{0} \\leq \\infty\\\\-\\infty \\leq n_{1} \\leq \\infty}} n_{0}^{2} \\tilde{E}{\\left (n_{0},n_{1} \\right )} e^{i \\left(k_{xm} n_{0} x + k_{ym} n_{1} y\\right)}\\right) e^{i \\left(\\omega t - k_{x} x - k_{y} y\\right)} + \\left(- k_{y}^{2} \\sum_{\\substack{-\\infty \\leq n_{0} \\leq \\infty\\\\-\\infty \\leq n_{1} \\leq \\infty}} \\tilde{E}{\\left (n_{0},n_{1} \\right )} e^{i \\left(k_{xm} n_{0} x + k_{ym} n_{1} y\\right)} + 2 k_{y} k_{ym} \\sum_{\\substack{-\\infty \\leq n_{0} \\leq \\infty\\\\-\\infty \\leq n_{1} \\leq \\infty}} n_{1} \\tilde{E}{\\left (n_{0},n_{1} \\right )} e^{i \\left(k_{xm} n_{0} x + k_{ym} n_{1} y\\right)} - k_{ym}^{2} \\sum_{\\substack{-\\infty \\leq n_{0} \\leq \\infty\\\\-\\infty \\leq n_{1} \\leq \\infty}} n_{1}^{2} \\tilde{E}{\\left (n_{0},n_{1} \\right )} e^{i \\left(k_{xm} n_{0} x + k_{ym} n_{1} y\\right)}\\right) e^{i \\left(\\omega t - k_{x} x - k_{y} y\\right)}$$"
      ],
      "text/plain": [
       "<IPython.core.display.Math object>"
      ]
     },
     "metadata": {},
     "output_type": "display_data"
    },
    {
     "data": {
      "text/latex": [
       "$$EQ_\\text{J harm} = \\gamma e^{i \\omega t - i k_{x} x - i k_{y} y} \\sum_{\\substack{-\\infty \\leq n_{0} \\leq \\infty\\\\-\\infty \\leq n_{1} \\leq \\infty}} \\tilde{J}{\\left (n_{0},n_{1} \\right )} e^{i \\left(k_{xm} n_{0} x + k_{ym} n_{1} y\\right)} + i \\omega e^{i \\omega t - i k_{x} x - i k_{y} y} \\sum_{\\substack{-\\infty \\leq n_{0} \\leq \\infty\\\\-\\infty \\leq n_{1} \\leq \\infty}} \\tilde{J}{\\left (n_{0},n_{1} \\right )} e^{i \\left(k_{xm} n_{0} x + k_{ym} n_{1} y\\right)} - \\frac{e^{2} e^{i \\omega t - i k_{x} x - i k_{y} y} \\left(\\sum_{\\substack{-\\infty \\leq n_{0} \\leq \\infty\\\\-\\infty \\leq n_{1} \\leq \\infty}} \\tilde{E}{\\left (n_{0},n_{1} \\right )} e^{i \\left(k_{xm} n_{0} x + k_{ym} n_{1} y\\right)}\\right) \\sum_{\\substack{-\\infty \\leq n_{0} \\leq \\infty\\\\-\\infty \\leq n_{1} \\leq \\infty}} \\tilde{n_e}{\\left (n_{0},n_{1} \\right )} e^{i \\left(k_{xm} n_{0} x + k_{ym} n_{1} y\\right)}}{m_{e}}$$"
      ],
      "text/plain": [
       "<IPython.core.display.Math object>"
      ]
     },
     "metadata": {},
     "output_type": "display_data"
    },
    {
     "name": "stdout",
     "output_type": "stream",
     "text": [
      "apply convolutions\n"
     ]
    },
    {
     "data": {
      "text/latex": [
       "$$EQ_\\text{E harm} = \\epsilon_0 \\epsilon_r \\mu_0 \\omega^{2} e^{i \\omega t} e^{- i k_{x} x} e^{- i k_{y} y} \\sum_{\\substack{-\\infty \\leq n_{0} \\leq \\infty\\\\-\\infty \\leq n_{1} \\leq \\infty}} \\tilde{E}{\\left (n_{0},n_{1} \\right )} e^{i k_{xm} n_{0} x} e^{i k_{ym} n_{1} y} - i \\mu_0 \\omega e^{i \\omega t} e^{- i k_{x} x} e^{- i k_{y} y} \\sum_{\\substack{-\\infty \\leq n_{0} \\leq \\infty\\\\-\\infty \\leq n_{1} \\leq \\infty}} \\tilde{J}{\\left (n_{0},n_{1} \\right )} e^{i k_{xm} n_{0} x} e^{i k_{ym} n_{1} y} - k_{x}^{2} e^{i \\omega t} e^{- i k_{x} x} e^{- i k_{y} y} \\sum_{\\substack{-\\infty \\leq n_{0} \\leq \\infty\\\\-\\infty \\leq n_{1} \\leq \\infty}} \\tilde{E}{\\left (n_{0},n_{1} \\right )} e^{i k_{xm} n_{0} x} e^{i k_{ym} n_{1} y} + 2 k_{x} k_{xm} e^{i \\omega t} e^{- i k_{x} x} e^{- i k_{y} y} \\sum_{\\substack{-\\infty \\leq n_{0} \\leq \\infty\\\\-\\infty \\leq n_{1} \\leq \\infty}} n_{0} \\tilde{E}{\\left (n_{0},n_{1} \\right )} e^{i k_{xm} n_{0} x} e^{i k_{ym} n_{1} y} - k_{y}^{2} e^{i \\omega t} e^{- i k_{x} x} e^{- i k_{y} y} \\sum_{\\substack{-\\infty \\leq n_{0} \\leq \\infty\\\\-\\infty \\leq n_{1} \\leq \\infty}} \\tilde{E}{\\left (n_{0},n_{1} \\right )} e^{i k_{xm} n_{0} x} e^{i k_{ym} n_{1} y} + 2 k_{y} k_{ym} e^{i \\omega t} e^{- i k_{x} x} e^{- i k_{y} y} \\sum_{\\substack{-\\infty \\leq n_{0} \\leq \\infty\\\\-\\infty \\leq n_{1} \\leq \\infty}} n_{1} \\tilde{E}{\\left (n_{0},n_{1} \\right )} e^{i k_{xm} n_{0} x} e^{i k_{ym} n_{1} y} - k_{xm}^{2} e^{i \\omega t} e^{- i k_{x} x} e^{- i k_{y} y} \\sum_{\\substack{-\\infty \\leq n_{0} \\leq \\infty\\\\-\\infty \\leq n_{1} \\leq \\infty}} n_{0}^{2} \\tilde{E}{\\left (n_{0},n_{1} \\right )} e^{i k_{xm} n_{0} x} e^{i k_{ym} n_{1} y} - k_{ym}^{2} e^{i \\omega t} e^{- i k_{x} x} e^{- i k_{y} y} \\sum_{\\substack{-\\infty \\leq n_{0} \\leq \\infty\\\\-\\infty \\leq n_{1} \\leq \\infty}} n_{1}^{2} \\tilde{E}{\\left (n_{0},n_{1} \\right )} e^{i k_{xm} n_{0} x} e^{i k_{ym} n_{1} y}$$"
      ],
      "text/plain": [
       "<IPython.core.display.Math object>"
      ]
     },
     "metadata": {},
     "output_type": "display_data"
    },
    {
     "data": {
      "text/latex": [
       "$$EQ_\\text{J harm} = \\gamma e^{i \\omega t} e^{- i k_{x} x} e^{- i k_{y} y} \\sum_{\\substack{-\\infty \\leq n_{0} \\leq \\infty\\\\-\\infty \\leq n_{1} \\leq \\infty}} \\tilde{J}{\\left (n_{0},n_{1} \\right )} e^{i k_{xm} n_{0} x} e^{i k_{ym} n_{1} y} + i \\omega e^{i \\omega t} e^{- i k_{x} x} e^{- i k_{y} y} \\sum_{\\substack{-\\infty \\leq n_{0} \\leq \\infty\\\\-\\infty \\leq n_{1} \\leq \\infty}} \\tilde{J}{\\left (n_{0},n_{1} \\right )} e^{i k_{xm} n_{0} x} e^{i k_{ym} n_{1} y} - \\frac{e^{2} e^{i \\omega t} e^{- i k_{x} x} e^{- i k_{y} y} \\sum_{\\substack{-\\infty \\leq n_{0} \\leq \\infty\\\\-\\infty \\leq n_{1} \\leq \\infty}} e^{i \\left(k_{xm} n_{0} x + k_{ym} n_{1} y\\right)} \\sum_{\\substack{-\\infty \\leq m_{0} \\leq \\infty\\\\-\\infty \\leq m_{1} \\leq \\infty}} \\tilde{E}{\\left (m_{0},m_{1} \\right )} \\tilde{n_e}{\\left (- m_{0} + n_{0},- m_{1} + n_{1} \\right )}}{m_{e}}$$"
      ],
      "text/plain": [
       "<IPython.core.display.Math object>"
      ]
     },
     "metadata": {},
     "output_type": "display_data"
    },
    {
     "name": "stdout",
     "output_type": "stream",
     "text": [
      "apply orthogonalities\n"
     ]
    },
    {
     "data": {
      "text/latex": [
       "$$EQ_\\text{E harm} = \\epsilon_0 \\epsilon_r \\mu_0 \\omega^{2} \\tilde{E}{\\left (n_{0},n_{1} \\right )} - i \\mu_0 \\omega \\tilde{J}{\\left (n_{0},n_{1} \\right )} + 2 k_{x} k_{xm} n_{0} \\tilde{E}{\\left (n_{0},n_{1} \\right )} + 2 k_{y} k_{ym} n_{1} \\tilde{E}{\\left (n_{0},n_{1} \\right )} - \\left(k_{x}^{2} + k_{y}^{2} + k_{xm}^{2} n_{0}^{2} + k_{ym}^{2} n_{1}^{2}\\right) \\tilde{E}{\\left (n_{0},n_{1} \\right )}$$"
      ],
      "text/plain": [
       "<IPython.core.display.Math object>"
      ]
     },
     "metadata": {},
     "output_type": "display_data"
    },
    {
     "data": {
      "text/latex": [
       "$$EQ_\\text{J harm} = \\gamma \\tilde{J}{\\left (n_{0},n_{1} \\right )} + i \\omega \\tilde{J}{\\left (n_{0},n_{1} \\right )} - \\frac{e^{2} \\sum_{\\substack{-\\infty \\leq m_{0} \\leq \\infty\\\\-\\infty \\leq m_{1} \\leq \\infty}} \\tilde{E}{\\left (m_{0},m_{1} \\right )} \\tilde{n_e}{\\left (- m_{0} + n_{0},- m_{1} + n_{1} \\right )}}{m_{e}}$$"
      ],
      "text/plain": [
       "<IPython.core.display.Math object>"
      ]
     },
     "metadata": {},
     "output_type": "display_data"
    },
    {
     "name": "stdout",
     "output_type": "stream",
     "text": [
      "harmonic variables\n"
     ]
    },
    {
     "data": {
      "text/latex": [
       "$$\\tilde{E}~~~~\\tilde{J}$$"
      ],
      "text/plain": [
       "<IPython.core.display.Math object>"
      ]
     },
     "metadata": {},
     "output_type": "display_data"
    },
    {
     "data": {
      "text/latex": [
       "$$\\tilde{E}~~~~\\tilde{J}~~~~\\tilde{n_e}$$"
      ],
      "text/plain": [
       "<IPython.core.display.Math object>"
      ]
     },
     "metadata": {},
     "output_type": "display_data"
    }
   ],
   "source": [
    "%pylab inline\n",
    "\n",
    "plot_data = True\n",
    "\n",
    "from sympy import Symbol, symbols, Function, Derivative, latex, exp, I, solve, lambdify, cos, sin\n",
    "from IPython.display import Math, display\n",
    "import numpy as np\n",
    "from scipy import constants\n",
    "\n",
    "from Electromagnetics.FourierBlochND import *\n",
    "from Electromagnetics.SymExprTree import *\n",
    "\n",
    "import matplotlib\n",
    "from matplotlib import pyplot as plt\n",
    "\n",
    "font = {'family' : 'serif', 'weight' : 'normal', 'size'   : 16}\n",
    "matplotlib.rc('font', **font)\n",
    "plt.rcParams[\"figure.figsize\"] = (6,6)\n",
    "\n",
    "\n",
    "t, x, y = symbols('t x y')\n",
    "E, J = symbols('E J')\n",
    "\n",
    "omega, kx, ky, c = symbols(r'\\omega k_x k_y c')\n",
    "eps_r = symbols(r'\\epsilon_r', real=True)\n",
    "mu_0, eps_0 = symbols(r'\\mu_0 \\epsilon_0', real=True)\n",
    "\n",
    "gamma, n_e, e, m_e, omega_p = symbols(r'\\gamma n_e e m_e omega_p')\n",
    "n_0, n_1 = symbols('n_0 n_1')\n",
    "omega_m, kx_m, ky_m = symbols(r'\\omega_m k_{xm} k_{ym}')\n",
    "\n",
    "EQ_E = Derivative(E, x, 2) + Derivative(E, y, 2) - mu_0*eps_0*eps_r*Derivative(E, t, 2) - mu_0*Derivative(J, t, 1)\n",
    "EQ_J = Derivative(J, t, 1) + gamma*J - n_e*e**2/m_e*E\n",
    "\n",
    "display(Math('EQ_E = ' + latex(EQ_E)))\n",
    "display(Math('EQ_J = ' + latex(EQ_J)))\n",
    "\n",
    "## plasma frequency\n",
    "print(\"Plasma frequency\")\n",
    "EQ_J_p = EQ_J.subs(n_e, omega_p**2*m_e/e**2*eps_0*eps_r)\n",
    "display(Math('EQ_{Jp} = ' + latex(EQ_J_p)))\n",
    "\n",
    "\n",
    "BlochFact = exp(I*omega*t-I*kx*x-I*ky*y)\n",
    "#EQ_E = EQ_E.subs([(E, E*BlochFact), (J, J*BlochFact)])\n",
    "#EQ_J = EQ_J.subs([(E, Es*BlochFact), (J, Js*BlochFact)])\n",
    "EQ_E = symExp_replaceSymbol(EQ_E, E, E*BlochFact)\n",
    "EQ_E = symExp_replaceSymbol(EQ_E, J, J*BlochFact)\n",
    "\n",
    "EQ_J = symExp_replaceSymbol(EQ_J, E, E*BlochFact)\n",
    "EQ_J = symExp_replaceSymbol(EQ_J, J, J*BlochFact)\n",
    "\n",
    "\n",
    "display(Math('EQ_E = ' + latex(EQ_E)))\n",
    "display(Math('EQ_J = ' + latex(EQ_J)))\n",
    "\n",
    "harmonic = exp(n_0*I*kx_m*x + n_1*I*ky_m*y)\n",
    "\n",
    "pde_E_FB = PDEFourierSeriesND(EQ_E, [E, J], n_dim=2, harmonic=harmonic, usexyz=False)\n",
    "pde_J_FB = PDEFourierSeriesND(EQ_J, [E, J, n_e], n_dim=2, harmonic=harmonic, usexyz=False)\n",
    "\n",
    "print(\"replace harmonics\")\n",
    "EQ_E_harm = pde_E_FB.putSums()#.doit()\n",
    "EQ_J_harm = pde_J_FB.putSums()#.doit()\n",
    "display(Math('EQ_\\\\text{E harm} = ' + latex(EQ_E_harm)))\n",
    "display(Math('EQ_\\\\text{J harm} = ' + latex(EQ_J_harm)))\n",
    "\n",
    "print(\"apply derivatives\")\n",
    "EQ_E_harm = EQ_E_harm.doit()\n",
    "EQ_J_harm = EQ_J_harm.doit()\n",
    "display(Math('EQ_\\\\text{E harm} = ' + latex(EQ_E_harm)))\n",
    "display(Math('EQ_\\\\text{J harm} = ' + latex(EQ_J_harm)))\n",
    "\n",
    "print(\"apply convolutions\")\n",
    "EQ_E_harm = pde_E_FB.applyConvolutions(EQ_E_harm)\n",
    "EQ_J_harm = pde_J_FB.applyConvolutions(EQ_J_harm)\n",
    "display(Math('EQ_\\\\text{E harm} = ' + latex(EQ_E_harm)))\n",
    "display(Math('EQ_\\\\text{J harm} = ' + latex(EQ_J_harm)))\n",
    "\n",
    "print(\"apply orthogonalities\")\n",
    "EQ_E_harm = (pde_E_FB.applyOrthogonalities(EQ_E_harm)/BlochFact).simplify()\n",
    "EQ_J_harm = (pde_J_FB.applyOrthogonalities(EQ_J_harm)/BlochFact).simplify()\n",
    "display(Math('EQ_\\\\text{E harm} = ' + latex(EQ_E_harm)))\n",
    "display(Math('EQ_\\\\text{J harm} = ' + latex(EQ_J_harm)))\n",
    "\n",
    "\n",
    "print(\"harmonic variables\")\n",
    "E_tilde, J_tilde = pde_E_FB.varsHarm\n",
    "display(Math(latex(E_tilde) + '~~~~' + latex(J_tilde)))\n",
    "E_tilde, J_tilde, ne_tilde = pde_J_FB.varsHarm\n",
    "display(Math(latex(E_tilde) + '~~~~' + latex(J_tilde) + '~~~~' + latex(ne_tilde)))\n",
    "\n"
   ]
  },
  {
   "cell_type": "code",
   "execution_count": 34,
   "metadata": {},
   "outputs": [
    {
     "name": "stdout",
     "output_type": "stream",
     "text": [
      "w_p =  3.118617392664103\n",
      "decay_rate =  3.823584140131649\n",
      "numerical substitution\n"
     ]
    },
    {
     "data": {
      "text/latex": [
       "$$EQ_\\text{E harm} = 11.7 \\omega^{2} \\tilde{E}{\\left (n_{0},n_{1} \\right )} - i \\omega \\tilde{J}{\\left (n_{0},n_{1} \\right )} + 12.5663706143592 k_{x} n_{0} \\tilde{E}{\\left (n_{0},n_{1} \\right )} + 12.5663706143592 k_{y} n_{1} \\tilde{E}{\\left (n_{0},n_{1} \\right )} - \\left(k_{x}^{2} + k_{y}^{2} + 39.4784176043574 n_{0}^{2} + 39.4784176043574 n_{1}^{2}\\right) \\tilde{E}{\\left (n_{0},n_{1} \\right )}$$"
      ],
      "text/plain": [
       "<IPython.core.display.Math object>"
      ]
     },
     "metadata": {},
     "output_type": "display_data"
    },
    {
     "data": {
      "text/latex": [
       "$$EQ_\\text{J harm} = i \\omega \\tilde{J}{\\left (n_{0},n_{1} \\right )} + 0.413619478045709 \\tilde{J}{\\left (n_{0},n_{1} \\right )} - \\sum_{\\substack{-\\infty \\leq m_{0} \\leq \\infty\\\\-\\infty \\leq m_{1} \\leq \\infty}} \\tilde{E}{\\left (m_{0},m_{1} \\right )} \\tilde{n_e}{\\left (- m_{0} + n_{0},- m_{1} + n_{1} \\right )}$$"
      ],
      "text/plain": [
       "<IPython.core.display.Math object>"
      ]
     },
     "metadata": {},
     "output_type": "display_data"
    },
    {
     "name": "stdout",
     "output_type": "stream",
     "text": [
      "polar form\n"
     ]
    },
    {
     "data": {
      "text/latex": [
       "$$EQ_\\text{E harm} = 11.7 \\omega^{2} \\tilde{E}{\\left (n_{0},n_{1} \\right )} - i \\omega \\tilde{J}{\\left (n_{0},n_{1} \\right )} + 12.5663706143592 k_\\rho n_{0} \\tilde{E}{\\left (n_{0},n_{1} \\right )} \\cos{\\left (\\phi \\right )} + 12.5663706143592 k_\\rho n_{1} \\tilde{E}{\\left (n_{0},n_{1} \\right )} \\sin{\\left (\\phi \\right )} - \\left(k_\\rho^{2} \\sin^{2}{\\left (\\phi \\right )} + k_\\rho^{2} \\cos^{2}{\\left (\\phi \\right )} + 39.4784176043574 n_{0}^{2} + 39.4784176043574 n_{1}^{2}\\right) \\tilde{E}{\\left (n_{0},n_{1} \\right )}$$"
      ],
      "text/plain": [
       "<IPython.core.display.Math object>"
      ]
     },
     "metadata": {},
     "output_type": "display_data"
    },
    {
     "data": {
      "text/latex": [
       "$$EQ_\\text{J harm} = 11.7 \\omega^{2} \\tilde{E}{\\left (n_{0},n_{1} \\right )} - i \\omega \\tilde{J}{\\left (n_{0},n_{1} \\right )} + 12.5663706143592 k_\\rho n_{0} \\tilde{E}{\\left (n_{0},n_{1} \\right )} \\cos{\\left (\\phi \\right )} + 12.5663706143592 k_\\rho n_{1} \\tilde{E}{\\left (n_{0},n_{1} \\right )} \\sin{\\left (\\phi \\right )} - \\left(k_\\rho^{2} \\sin^{2}{\\left (\\phi \\right )} + k_\\rho^{2} \\cos^{2}{\\left (\\phi \\right )} + 39.4784176043574 n_{0}^{2} + 39.4784176043574 n_{1}^{2}\\right) \\tilde{E}{\\left (n_{0},n_{1} \\right )}$$"
      ],
      "text/plain": [
       "<IPython.core.display.Math object>"
      ]
     },
     "metadata": {},
     "output_type": "display_data"
    }
   ],
   "source": [
    "## substitutions\n",
    "\n",
    "pitch = 124\n",
    "fwhm = 54\n",
    "\n",
    "X_p = 1.0\n",
    "Y_p = 1.0\n",
    "\n",
    "eps_0_sub = 1.0\n",
    "mu_0_sub = 1\n",
    "kx_m_sub = 2*np.pi/X_p\n",
    "ky_m_sub = 2*np.pi/Y_p\n",
    "eps_r_sub = 11.7\n",
    "e_sub = 1\n",
    "m_e_sub = 1\n",
    "\n",
    "def FWHMtoDecayRate(FWHM):\n",
    "    return (2*np.sqrt(np.log(2)))/FWHM\n",
    "\n",
    "\n",
    "f_p_norm = 1.2\n",
    "w_p = f_p_norm*(2.0*np.pi)*constants.tera/(constants.c/(pitch*constants.micro))\n",
    "gamma_sub = 1.0*constants.tera/(constants.c/(pitch*constants.micro))\n",
    "\n",
    "n_e_max = w_p**2*eps_r_sub*eps_0_sub\n",
    "n_e_x_decay_rate = FWHMtoDecayRate(fwhm/pitch)\n",
    "n_e_y_decay_rate = n_e_x_decay_rate\n",
    "n_e_x_center = X_p/2\n",
    "n_e_y_center = Y_p/2\n",
    "\n",
    "print(\"w_p = \", w_p)\n",
    "print(\"decay_rate = \", n_e_x_decay_rate)\n",
    "\n",
    "EQ_E_harm_kw = EQ_E_harm.subs([(eps_0, eps_0_sub), (mu_0, mu_0_sub), (eps_r, eps_r_sub), (kx_m, kx_m_sub), (ky_m, ky_m_sub), (gamma, gamma_sub), (e, e_sub), (m_e, m_e_sub)])\n",
    "EQ_J_harm_kw = EQ_J_harm.subs([(eps_0, eps_0_sub), (mu_0, mu_0_sub), (eps_r, eps_r_sub), (kx_m, kx_m_sub), (ky_m, ky_m_sub), (gamma, gamma_sub), (e, e_sub), (m_e, m_e_sub)])\n",
    "\n",
    "\n",
    "print(\"numerical substitution\")\n",
    "display(Math('EQ_\\\\text{E harm} = ' + latex(EQ_E_harm_kw)))\n",
    "display(Math('EQ_\\\\text{J harm} = ' + latex(EQ_J_harm_kw)))\n",
    "\n",
    "\n",
    "k_rho, phi = symbols(r'k_\\rho \\phi')\n",
    "EQ_E_harm_krho_w = EQ_E_harm_kw.subs([(kx, k_rho*cos(phi)), (ky, k_rho*sin(phi))])\n",
    "EQ_J_harm_krho_w = EQ_J_harm_kw.subs([(kx, k_rho*cos(phi)), (ky, k_rho*sin(phi))])\n",
    "print(\"polar form\")\n",
    "display(Math('EQ_\\\\text{E harm} = ' + latex(EQ_E_harm_krho_w)))\n",
    "display(Math('EQ_\\\\text{J harm} = ' + latex(EQ_E_harm_krho_w)))\n"
   ]
  },
  {
   "cell_type": "code",
   "execution_count": 32,
   "metadata": {},
   "outputs": [
    {
     "name": "stdout",
     "output_type": "stream",
     "text": [
      "phi:  0.0\n"
     ]
    },
    {
     "name": "stderr",
     "output_type": "stream",
     "text": [
      "/home/nima/.local/lib/python3.6/site-packages/scipy/fftpack/basic.py:160: FutureWarning: Using a non-tuple sequence for multidimensional indexing is deprecated; use `arr[tuple(seq)]` instead of `arr[seq]`. In the future this will be interpreted as an array index, `arr[np.array(seq)]`, which will result either in an error or a different result.\n",
      "  z[index] = x\n"
     ]
    },
    {
     "data": {
      "image/png": "[encoded data removed]",
      "text/plain": [
       "<Figure size 504x432 with 2 Axes>"
      ]
     },
     "metadata": {
      "needs_background": "light"
     },
     "output_type": "display_data"
    }
   ],
   "source": [
    "Ns = [8, 8]\n",
    "\n",
    "def ne_fun(r):\n",
    "    x_ = r[0] - np.floor(r[0]/X_p)*X_p\n",
    "    x_ += (x_ < 0)*X_p\n",
    "    y_ = r[1] - np.floor(r[1]/Y_p)*Y_p\n",
    "    y_ += (y_ < 0)*Y_p\n",
    "    assert np.all(x_>=0) and np.all(x_<X_p)\n",
    "    assert np.all(y_>=0) and np.all(y_<Y_p)\n",
    "    return n_e_max*np.exp(-n_e_x_decay_rate**2*(x_ - n_e_x_center)**2)\\\n",
    "            *np.exp(-n_e_y_decay_rate**2*(y_ - n_e_y_center)**2)\n",
    "\n",
    "\n",
    "def get_ne_harmonics(Ns):\n",
    "    ne_harm_vec = pde_J_FB.getFourierCoeffs(ne_fun, [0.0, 0.0], [X_p, Y_p], Ns)\n",
    "    return ne_harm_vec\n",
    "\n",
    "from enum import Enum\n",
    "class EigSolveMethod(Enum):\n",
    "    set_k_get_omega = 1,\n",
    "    set_omega_get_kx = 2,\n",
    "    set_omegaphi_get_krho = 3\n",
    "\n",
    "A_mat_list = None\n",
    "\n",
    "def set_matrices_list_wphi(w_i, phi_j, Ns):\n",
    "    ## sets omega to w_i and and phi and looks for k_rho\n",
    "    ## it takes losses into account by solving for a complex k_rho\n",
    "    ne_harm_vec = get_ne_harmonics(Ns)\n",
    "    \n",
    "    EQ_E_fin = EQ_E_harm_krho_w.subs([(omega, w_i), (phi, phi_j)])\n",
    "    EQ_J_fin = EQ_J_harm_krho_w.subs([(omega, w_i), (phi, phi_j)])\n",
    "\n",
    "    expr_list = [EQ_E_fin, EQ_J_fin]\n",
    "    vars = [E_tilde, J_tilde]\n",
    "    pars = [ne_tilde]\n",
    "    pars_vecs = [ne_harm_vec]\n",
    "    eig_vars = [k_rho]\n",
    "    pde_J_FB.setupNumericalParameters(expr_list, Ns, vars, pars, pars_vecs, eig_vars)\n",
    "    pde_J_FB.calculateDenseMatrices = True\n",
    "\n",
    "    A_mat_list = pde_J_FB.orthogonalToNumpyMatrix()\n",
    "    return A_mat_list\n",
    "\n",
    "\n",
    "kx_i = 1.0\n",
    "ky_j = 0.0\n",
    "k_rho_i = np.sqrt(kx_i**2 + ky_j**2)\n",
    "phi_j = np.arctan2(ky_j, kx_i)\n",
    "print(\"phi: \", phi_j)\n",
    "w_i = 1.5\n",
    "\n",
    "A_mat_list = set_matrices_list_wphi(w_i, phi_j, Ns)\n",
    "\n",
    "if plot_data:\n",
    "    x = np.linspace(0, X_p, 50)\n",
    "    y = np.linspace(0, X_p, 50)\n",
    "    x_mesh, y_mesh = np.meshgrid(x, y, indexing='ij')\n",
    "    ne_mesh = ne_fun([x_mesh, y_mesh])\n",
    "    ne_mesh /= np.max(ne_mesh)\n",
    "\n",
    "\n",
    "    plt.imshow(ne_mesh, cmap=\"rainbow\", extent=[0, pitch, 0, pitch], origin='lower', aspect='auto')\n",
    "    plt.xlabel(\"x ($\\mu m$)\")\n",
    "    plt.ylabel(\"y ($\\mu m$)\")\n",
    "    plt.colorbar()\n",
    "    savefig('other/periodicGaussian/lattice_127_62.png',  bbox_inches='tight', pad_inches=0.5)\n",
    "    plt.show()\n",
    "\n"
   ]
  },
  {
   "cell_type": "code",
   "execution_count": 33,
   "metadata": {},
   "outputs": [
    {
     "name": "stdout",
     "output_type": "stream",
     "text": [
      "[1.55716628]\n"
     ]
    },
    {
     "name": "stderr",
     "output_type": "stream",
     "text": [
      "/home/nima/Documents/GitProjects/myPyCodes/Electromagnetics/FourierBlochND.py:1843: OptimizeWarning: Unknown solver options: maxiter, ftol\n",
      "  options={'maxfev':maxfev, 'maxiter':maxiter, 'ftol': ftol})\n",
      "/home/nima/Documents/GitProjects/myPyCodes/Electromagnetics/FourierBlochND.py:1816: RuntimeWarning: overflow encountered in exp\n",
      "  det_ = np.exp(log_dets_[i])\n"
     ]
    },
    {
     "name": "stdout",
     "output_type": "stream",
     "text": [
      "success:  True\n",
      "k, omega:  0 ((-3.434636666159731+1.0877545335795915j), 1.5) 7.336258446179254e-12\n",
      "[2.28960202]\n",
      "success:  True\n",
      "k, omega:  1 ((-3.4346366661144763+1.0877545336128025j), 1.5) 8.177242454429269e-13\n",
      "[0.8020609]\n",
      "success:  True\n",
      "k, omega:  2 ((-3.434636666063439+1.0877545336198724j), 1.5) 8.870050052816476e-12\n",
      "[1.42171223]\n",
      "success:  True\n",
      "k, omega:  3 ((-3.4346366897349703+1.0877545292279858j), 1.5) 3.2477742191052297e-09\n",
      "[1.70956527]\n",
      "success:  True\n",
      "k, omega:  4 ((-3.434636666095321+1.0877545336781596j), 1.5) 8.385423002306043e-12\n",
      "[1.18610554]\n",
      "success:  True\n",
      "k, omega:  5 ((-3.434636665880407+1.0877545336459225j), 1.5) 3.422284045429797e-11\n",
      "[1.15671621]\n",
      "success:  True\n",
      "k, omega:  6 ((-3.4346366772835673+1.0877545377339413j), 1.5) 1.7052751355167028e-09\n",
      "[1.45602976]\n",
      "success:  True\n",
      "k, omega:  7 ((-3.434636671991931+1.0877545313245343j), 1.5) 8.469497435247271e-10\n",
      "[2.48694418]\n",
      "success:  True\n",
      "k, omega:  8 ((-2.8485486404717286-1.0877545327715967j), 1.5) 1.1766465490617512e-10\n",
      "[1.7555605]\n",
      "success:  True\n",
      "k, omega:  9 ((-3.4346366662172545+1.0877545341448964j), 1.5) 6.870937026278685e-11\n",
      "[2.4246081]\n",
      "success:  True\n",
      "k, omega:  10 ((-3.4346366660845424+1.0877545335905539j), 1.5) 5.113735162928754e-12\n",
      "[(-3.434636666159731+1.0877545335795915j), (-3.4346366661144763+1.0877545336128025j), (-3.434636666063439+1.0877545336198724j), (-3.4346366897349703+1.0877545292279858j), (-3.434636666095321+1.0877545336781596j), (-3.434636665880407+1.0877545336459225j), (-3.4346366772835673+1.0877545377339413j), (-3.434636671991931+1.0877545313245343j), (-2.8485486404717286-1.0877545327715967j), (-3.4346366662172545+1.0877545341448964j), (-3.4346366660845424+1.0877545335905539j)]\n"
     ]
    }
   ],
   "source": [
    "from Electromagnetics import Misc\n",
    "\n",
    "solver = 'hybr' #'hybr'\n",
    "handle_overflow = True\n",
    "maxiter = 100\n",
    "maxfev = 100\n",
    "tol = 1.0e-6\n",
    "tol_abs = False\n",
    "\n",
    "A_eqs_list = [A_mat_list]\n",
    "\n",
    "\n",
    "sing_val_tol = 1.0e-5\n",
    "del_norm = 1.0e-5\n",
    "sig_small = 1.0e-3j\n",
    "\n",
    "_N_pp = 10\n",
    "\n",
    "def get_eig_points_wphi(w_i, phi_j, Ns, _N_pp, A_eqs_list, vbose=False, eigs_prev=[], get_eig_vecs=False):\n",
    "\n",
    "    _N_2 = Ns[0]#int(Ns[0]/2)\n",
    "    d_wc = 0.0\n",
    "    d_dct = np.array([w_i+i*d_wc for i in range(-_N_2, _N_2)])\n",
    "\n",
    "    roots_prev = []\n",
    "    eig_points_krho = []\n",
    "    eig_vecs_E = []\n",
    "    eig_vecs_H = []\n",
    "\n",
    "    for j in range(0, _N_pp+1):\n",
    "        #eigvar_vals_0 = [j*w_i*np.sqrt(eps_r_sub)]\n",
    "        eigvar_vals_0 = np.random.rand(1)*3.14#np.sqrt(kx_i**2 + ky_j**2)/np.sqrt(eps_r_sub)\n",
    "        if j<len(eigs_prev):\n",
    "            eigvar_vals_0 = [eigs_prev[j] + 0.1]\n",
    "        if vbose:\n",
    "            print(eigvar_vals_0)\n",
    "        res = pde_J_FB.solveDeterminant(eigvar_vals_0, A_eqs_list, solver=solver, handle_overflow=handle_overflow, \\\n",
    "                                      roots_prev=roots_prev, tol=tol, maxiter=maxiter, maxfev=maxfev,\\\n",
    "                                      getMats=True, tol_relative=not tol_abs)\n",
    "\n",
    "        print('success: ', res[2]['success'])\n",
    "        krho_i = res[0][0]\n",
    "\n",
    "        if vbose:\n",
    "            print('k, omega: ', j, (krho_i, w_i), np.abs(res[1][0]))\n",
    "        \n",
    "        if res[2]['success']:\n",
    "            #roots_prev.append([kx_i])\n",
    "            eig_points_krho.append(krho_i)\n",
    "\n",
    "        if get_eig_vecs:\n",
    "            A_mat = res[3][0]\n",
    "            rank, x_nulls, sing_vals = Misc.null(A_mat, rtol=sing_val_tol, forceRank=A_mat.shape[0]-1)\n",
    "            if not rank==A_mat.shape[0]-1:\n",
    "                print('rank: ', rank)\n",
    "                print(sing_vals)\n",
    "                assert False\n",
    "\n",
    "            E_j = x_nulls.T[0,0:2*_N_2]/np.linalg.norm(x_nulls.T[0,0:2*_N_2])\n",
    "            \n",
    "            #d_dz = -np.array([k_i+i*d_k for i in range(-_N_2, _N_2)])\n",
    "            #H_vec = -E_j*d_dz/d_dct\n",
    "            \n",
    "            if res[2]['success']:\n",
    "                eig_vecs_E.append(E_j)\n",
    "                #eig_vecs_H.append(H_vec)\n",
    "            if not np.linalg.norm(A_mat.dot(x_nulls))/np.linalg.norm(x_nulls)<del_norm and vbose:\n",
    "                print('|Ax|=', np.linalg.norm(A_mat.dot(x_nulls)), ' |x|=', np.linalg.norm(x_nulls))\n",
    "                print(res[2])\n",
    "\n",
    "\n",
    "    return [eig_points_krho, [eig_vecs_E, eig_vecs_H]]\n",
    "\n",
    "\n",
    "[eig_points_krho, eig_vecs_EH] = get_eig_points_wphi(w_i, phi_j, Ns, _N_pp, A_eqs_list, vbose=True)\n",
    "print(eig_points_krho)\n",
    "    \n",
    "    "
   ]
  },
  {
   "cell_type": "code",
   "execution_count": null,
   "metadata": {},
   "outputs": [],
   "source": [
    "##get dispsion curves\n",
    "\n",
    "\n",
    "def GetDispersionCurves(phi_j, w_min, w_max, n_pts):\n",
    "    w_pts = []\n",
    "    k_pts = []\n",
    "    w_arr = np.linspace(w_min, w_max, n_pts)\n",
    "\n",
    "    eig_points_k_prev = []\n",
    "\n",
    "    for i in range(n_pts):\n",
    "        w_i = w_arr[i]\n",
    "        A_mat_list = set_matrices_list_wphi(w_i, phi_j, Ns)\n",
    "        A_eqs_list = [A_mat_list]\n",
    "\n",
    "        print('-'*50)\n",
    "        print(i, \": w = \" , w_i, \" phi :\", phi_j)\n",
    "        [eig_points_k, eig_vecs_E] = get_eig_points_wphi(w_i, phi_j, Ns, _N_pp, A_eqs_list, vbose=False, eigs_prev=eig_points_k_prev)\n",
    "        print(eig_points_k)\n",
    "        eig_points_k_real = np.real(eig_points_k)\n",
    "        for j in range(len(eig_points_k)):\n",
    "            if len(eig_points_k_prev)==0:\n",
    "                eig_points_k_prev.append(eig_points_k[j])\n",
    "            else:\n",
    "                eig_exists = False\n",
    "                for _i_ in range(-5, 5):\n",
    "                    if np.min(np.abs(np.array(eig_points_k_prev) - eig_points_k[j] + 2.0*_i_*np.pi/X_p)) < 0.05:\n",
    "                        eig_exists = True\n",
    "                if not eig_exists:\n",
    "                    eig_points_k_prev.append(eig_points_k[j])\n",
    "\n",
    "        k_pts.extend(np.array(eig_points_k).tolist())\n",
    "        w_pts.extend([w_i]*len(eig_points_k))\n",
    "    return w_pts, k_pts\n",
    "\n",
    "\n",
    "w_min = 0.05\n",
    "w_max = 1.0e12*(2.0*np.pi/(constants.c/(pitch*constants.micro)))\n",
    "n_pts = 100\n",
    "\n",
    "for phi_j in np.linspace(0.0, np.pi/4.0, 10, endpoint=True):\n",
    "    w_pts, k_pts = GetDispersionCurves(phi_j, w_min, w_max, n_pts)\n",
    "    filename = 'other/periodicGaussian/square_{}_{}_{}_{:.2f}_{:.1f}'.format(pitch, fwhm, n_pts, f_p_norm, phi_j*180/np.pi)\n",
    "    np.savez(filename, w_pts=w_pts, k_pts=k_pts)\n",
    "    print(\"wrote to {}.npz'\".format(filename))\n"
   ]
  },
  {
   "cell_type": "code",
   "execution_count": 15,
   "metadata": {},
   "outputs": [
    {
     "name": "stdout",
     "output_type": "stream",
     "text": [
      "wrote to other/periodicGaussian/square_124_54_GX_wp_1_2_2pi_no0.npz'\n"
     ]
    }
   ],
   "source": [
    "import os\n",
    "file_no = 0\n",
    "\n",
    "write = \"y\"\n",
    "filename = 'other/periodicGaussian/square_124_54_GX_wp_1_5_2pi_no{}'.format(file_no)\n",
    "\n",
    "#plot(k_pts, np.real(np.array(w_pts)), 'bo', markersize=1)\n",
    "if os.path.exists(filename +'.npz'):\n",
    "    #global write\n",
    "    write = input(\"file will be overwritten. Sure (y/n)?\")\n",
    "if write == \"y\":\n",
    "    np.savez(filename, w_pts=w_pts, k_pts=k_pts)\n",
    "    print(\"wrote to {}.npz'\".format(filename))"
   ]
  },
  {
   "cell_type": "code",
   "execution_count": 31,
   "metadata": {},
   "outputs": [
    {
     "name": "stdout",
     "output_type": "stream",
     "text": [
      "loading  other/periodicGaussian/square_124_54_GX_wp_1_5_2pi_no0.npz\n",
      "0\n"
     ]
    },
    {
     "data": {
      "image/png": "[encoded data removed]",
      "text/plain": [
       "<Figure size 576x432 with 1 Axes>"
      ]
     },
     "metadata": {
      "needs_background": "light"
     },
     "output_type": "display_data"
    }
   ],
   "source": [
    "font = {'family' : 'serif', 'weight' : 'normal', 'size'   : 16}\n",
    "matplotlib.rc('font', **font)\n",
    "\n",
    "convert_to_si = True\n",
    "\n",
    "for i in range(1):\n",
    "    filename = 'other/periodicGaussian/square_124_54_GX_wp_1_5_2pi_no{}.npz'.format(i)\n",
    "    print(\"loading \", filename)\n",
    "    data = np.load(filename)\n",
    "    w_pts_ = np.array(data['w_pts'])\n",
    "    k_pts_ = np.array(data['k_pts'])\n",
    "    \n",
    "    if convert_to_si:\n",
    "        w_pts_ *= (constants.c/(pitch*constants.micro))#/np.sqrt(eps_r_sub)\n",
    "        #k_pts_ *= (2.0*np.pi/(pitch*constants.micro))\n",
    "        pass\n",
    "    \n",
    "    print(len(w_pts))\n",
    "    #print(k_pts)\n",
    "\n",
    "    for _i_ in range(-10, 10):\n",
    "        plot(np.real(k_pts_) + 2.0*_i_*np.pi/X_p, np.real(np.array(w_pts_)/(2.0*np.pi)/constants.tera), 'bo', markersize=1)\n",
    "        plot(-np.real(k_pts_) + 2.0*_i_*np.pi/X_p, np.real(np.array(w_pts_)/(2.0*np.pi)/constants.tera), 'bo', markersize=1)\n",
    "    plot(np.imag(k_pts_), np.real(np.array(w_pts_)/(2.0*np.pi)/constants.tera), 'ro', markersize=1)\n",
    "    #plot(-np.imag(k_pts_), np.real(np.array(w_pts_)/(2.0*np.pi)/constants.tera), 'ro', markersize=1)\n",
    "    \n",
    "    k_diel_a = np.real(np.array(w_pts_))*np.sqrt(eps_r_sub) - 2.0*np.pi\n",
    "    plot(k_diel_a, np.real(np.array(w_pts_)/(2.0*np.pi)/constants.tera), 'ro', markersize=2)\n",
    "    \n",
    "\n",
    "xlabel('$ka$')\n",
    "ylabel(\"$f$ (THz)\")\n",
    "xlim(0, np.pi)\n",
    "ylim(0, 1.0)\n",
    "grid()\n",
    "savefig('other/periodicGaussian/square_124_54_GX_wp_1_2pi.png',  bbox_inches='tight', pad_inches=0.5)\n",
    "show()"
   ]
  },
  {
   "cell_type": "markdown",
   "metadata": {},
   "source": [
    "### read files in folder"
   ]
  },
  {
   "cell_type": "code",
   "execution_count": 35,
   "metadata": {},
   "outputs": [
    {
     "name": "stdout",
     "output_type": "stream",
     "text": [
      "Populating the interactive namespace from numpy and matplotlib\n",
      "loading  other/periodicGaussian/angle sweep/square_124_54_100_1.40_45.0.npz\n",
      "loading  other/periodicGaussian/angle sweep/square_124_54_100_1.40_45.0__2.npz\n"
     ]
    },
    {
     "data": {
      "image/png": "[encoded data removed]",
      "text/plain": [
       "<Figure size 432x288 with 1 Axes>"
      ]
     },
     "metadata": {
      "needs_background": "light"
     },
     "output_type": "display_data"
    }
   ],
   "source": [
    "%pylab inline\n",
    "\n",
    "from scipy import constants\n",
    "\n",
    "font = {'family' : 'serif', 'weight' : 'normal', 'size'   : 16}\n",
    "matplotlib.rc('font', **font)\n",
    "\n",
    "convert_to_si = True\n",
    "pitch = 124\n",
    "X_p = 1\n",
    "eps_r_sub = 11.7\n",
    "\n",
    "files = ['square_124_54_100_1.40_45.0.npz', 'square_124_54_100_1.40_45.0__2.npz']\n",
    "\n",
    "for file in files:\n",
    "    filename = 'other/periodicGaussian/angle sweep/{}'.format(file)\n",
    "    print(\"loading \", filename)\n",
    "    data = np.load(filename)\n",
    "    w_pts_ = np.array(data['w_pts'])\n",
    "    k_pts_ = np.array(data['k_pts'])\n",
    "    \n",
    "    if convert_to_si:\n",
    "        w_pts_ *= (constants.c/(pitch*constants.micro))#/np.sqrt(eps_r_sub)\n",
    "        #k_pts_ *= (2.0*np.pi/(pitch*constants.micro))\n",
    "        pass\n",
    "    \n",
    "    for _i_ in range(1):#(-10, 10):\n",
    "        plot(np.real(k_pts_) + 2.0*_i_*np.pi/X_p, np.real(np.array(w_pts_)/(2.0*np.pi)/constants.tera), 'bo', markersize=1)\n",
    "        plot(-np.real(k_pts_) + 2.0*_i_*np.pi/X_p, np.real(np.array(w_pts_)/(2.0*np.pi)/constants.tera), 'bo', markersize=1)\n",
    "    plot(np.imag(k_pts_), np.real(np.array(w_pts_)/(2.0*np.pi)/constants.tera), 'ro', markersize=1)\n",
    "    plot(-np.imag(k_pts_), np.real(np.array(w_pts_)/(2.0*np.pi)/constants.tera), 'ro', markersize=1)\n",
    "    \n",
    "    k_diel_a = np.real(np.array(w_pts_))*np.sqrt(eps_r_sub) - 2.0*np.pi\n",
    "    plot(k_diel_a, np.real(np.array(w_pts_)/(2.0*np.pi)/constants.tera), 'ro', markersize=2)\n",
    "    \n",
    "\n",
    "xlabel('$ka$')\n",
    "ylabel(\"$f$ (THz)\")\n",
    "xlim(0, 1.4*np.pi)\n",
    "ylim(0, 1.0)\n",
    "grid()\n",
    "savefig('other/periodicGaussian/square_124_54_GX_wp_1_2pi.png',  bbox_inches='tight', pad_inches=0.5)\n",
    "show()"
   ]
  },
  {
   "cell_type": "code",
   "execution_count": null,
   "metadata": {},
   "outputs": [],
   "source": []
  }
 ],
 "metadata": {
  "kernelspec": {
   "display_name": "Python 3",
   "language": "python",
   "name": "python3"
  },
  "language_info": {
   "codemirror_mode": {
    "name": "ipython",
    "version": 3
   },
   "file_extension": ".py",
   "mimetype": "text/x-python",
   "name": "python",
   "nbconvert_exporter": "python",
   "pygments_lexer": "ipython3",
   "version": "3.6.7"
  }
 },
 "nbformat": 4,
 "nbformat_minor": 2
}
