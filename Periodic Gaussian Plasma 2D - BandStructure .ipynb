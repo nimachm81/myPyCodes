{
 "cells": [
  {
   "cell_type": "code",
   "execution_count": 61,
   "metadata": {},
   "outputs": [
    {
     "name": "stdout",
     "output_type": "stream",
     "text": [
      "Populating the interactive namespace from numpy and matplotlib\n"
     ]
    },
    {
     "name": "stderr",
     "output_type": "stream",
     "text": [
      "/home/nima/.local/lib/python3.6/site-packages/IPython/core/magics/pylab.py:160: UserWarning: pylab import has clobbered these variables: ['gamma', 'exp', 'solve', 'cos', 'e', 'sin']\n",
      "`%matplotlib` prevents importing * from pylab and numpy\n",
      "  \"\\n`%matplotlib` prevents importing * from pylab and numpy\"\n"
     ]
    },
    {
     "data": {
      "text/latex": [
       "$$EQ_E = - \\epsilon_0 \\epsilon_r \\mu_0 \\frac{d^{2}}{d t^{2}} E - \\mu_0 \\frac{d}{d t} J + \\frac{d^{2}}{d x^{2}} E + \\frac{d^{2}}{d y^{2}} E$$"
      ],
      "text/plain": [
       "<IPython.core.display.Math object>"
      ]
     },
     "metadata": {},
     "output_type": "display_data"
    },
    {
     "data": {
      "text/latex": [
       "$$EQ_J = - \\frac{E e^{2} n_{e}}{m_{e}} + J \\gamma + \\frac{d}{d t} J$$"
      ],
      "text/plain": [
       "<IPython.core.display.Math object>"
      ]
     },
     "metadata": {},
     "output_type": "display_data"
    },
    {
     "name": "stdout",
     "output_type": "stream",
     "text": [
      "Plasma frequency\n"
     ]
    },
    {
     "data": {
      "text/latex": [
       "$$EQ_{Jp} = - E \\omega_{p}^{2} + J \\gamma + \\frac{d}{d t} J$$"
      ],
      "text/plain": [
       "<IPython.core.display.Math object>"
      ]
     },
     "metadata": {},
     "output_type": "display_data"
    },
    {
     "data": {
      "text/latex": [
       "$$EQ_E = - \\epsilon_0 \\epsilon_r \\mu_0 \\frac{\\partial^{2}}{\\partial t^{2}} E e^{i \\omega t - i k_{x} x - i k_{y} y} - \\mu_0 \\frac{\\partial}{\\partial t} J e^{i \\omega t - i k_{x} x - i k_{y} y} + \\frac{\\partial^{2}}{\\partial x^{2}} E e^{i \\omega t - i k_{x} x - i k_{y} y} + \\frac{\\partial^{2}}{\\partial y^{2}} E e^{i \\omega t - i k_{x} x - i k_{y} y}$$"
      ],
      "text/plain": [
       "<IPython.core.display.Math object>"
      ]
     },
     "metadata": {},
     "output_type": "display_data"
    },
    {
     "data": {
      "text/latex": [
       "$$EQ_J = - \\frac{E e^{2} n_{e} e^{i \\omega t - i k_{x} x - i k_{y} y}}{m_{e}} + J \\gamma e^{i \\omega t - i k_{x} x - i k_{y} y} + \\frac{\\partial}{\\partial t} J e^{i \\omega t - i k_{x} x - i k_{y} y}$$"
      ],
      "text/plain": [
       "<IPython.core.display.Math object>"
      ]
     },
     "metadata": {},
     "output_type": "display_data"
    },
    {
     "name": "stdout",
     "output_type": "stream",
     "text": [
      "harmonic: \n"
     ]
    },
    {
     "data": {
      "text/latex": [
       "$$e^{i \\left(k_{xm} n_{0} x + k_{ym} n_{1} y\\right)}$$"
      ],
      "text/plain": [
       "<IPython.core.display.Math object>"
      ]
     },
     "metadata": {},
     "output_type": "display_data"
    },
    {
     "name": "stdout",
     "output_type": "stream",
     "text": [
      "harmonic: \n"
     ]
    },
    {
     "data": {
      "text/latex": [
       "$$e^{i \\left(k_{xm} n_{0} x + k_{ym} n_{1} y\\right)}$$"
      ],
      "text/plain": [
       "<IPython.core.display.Math object>"
      ]
     },
     "metadata": {},
     "output_type": "display_data"
    },
    {
     "name": "stdout",
     "output_type": "stream",
     "text": [
      "replace harmonics\n"
     ]
    },
    {
     "data": {
      "text/latex": [
       "$$EQ_\\text{E harm} = - \\epsilon_0 \\epsilon_r \\mu_0 \\frac{\\partial^{2}}{\\partial t^{2}} e^{i \\omega t - i k_{x} x - i k_{y} y} \\sum_{\\substack{-\\infty \\leq n_{0} \\leq \\infty\\\\-\\infty \\leq n_{1} \\leq \\infty}} \\tilde{E}{\\left (n_{0},n_{1} \\right )} e^{i \\left(k_{xm} n_{0} x + k_{ym} n_{1} y\\right)} - \\mu_0 \\frac{\\partial}{\\partial t} e^{i \\omega t - i k_{x} x - i k_{y} y} \\sum_{\\substack{-\\infty \\leq n_{0} \\leq \\infty\\\\-\\infty \\leq n_{1} \\leq \\infty}} \\tilde{J}{\\left (n_{0},n_{1} \\right )} e^{i \\left(k_{xm} n_{0} x + k_{ym} n_{1} y\\right)} + \\frac{\\partial^{2}}{\\partial x^{2}} e^{i \\omega t - i k_{x} x - i k_{y} y} \\sum_{\\substack{-\\infty \\leq n_{0} \\leq \\infty\\\\-\\infty \\leq n_{1} \\leq \\infty}} \\tilde{E}{\\left (n_{0},n_{1} \\right )} e^{i \\left(k_{xm} n_{0} x + k_{ym} n_{1} y\\right)} + \\frac{\\partial^{2}}{\\partial y^{2}} e^{i \\omega t - i k_{x} x - i k_{y} y} \\sum_{\\substack{-\\infty \\leq n_{0} \\leq \\infty\\\\-\\infty \\leq n_{1} \\leq \\infty}} \\tilde{E}{\\left (n_{0},n_{1} \\right )} e^{i \\left(k_{xm} n_{0} x + k_{ym} n_{1} y\\right)}$$"
      ],
      "text/plain": [
       "<IPython.core.display.Math object>"
      ]
     },
     "metadata": {},
     "output_type": "display_data"
    },
    {
     "data": {
      "text/latex": [
       "$$EQ_\\text{J harm} = \\gamma e^{i \\omega t - i k_{x} x - i k_{y} y} \\sum_{\\substack{-\\infty \\leq n_{0} \\leq \\infty\\\\-\\infty \\leq n_{1} \\leq \\infty}} \\tilde{J}{\\left (n_{0},n_{1} \\right )} e^{i \\left(k_{xm} n_{0} x + k_{ym} n_{1} y\\right)} - \\frac{e^{2} e^{i \\omega t - i k_{x} x - i k_{y} y} \\left(\\sum_{\\substack{-\\infty \\leq n_{0} \\leq \\infty\\\\-\\infty \\leq n_{1} \\leq \\infty}} \\tilde{E}{\\left (n_{0},n_{1} \\right )} e^{i \\left(k_{xm} n_{0} x + k_{ym} n_{1} y\\right)}\\right) \\sum_{\\substack{-\\infty \\leq n_{0} \\leq \\infty\\\\-\\infty \\leq n_{1} \\leq \\infty}} \\tilde{n_e}{\\left (n_{0},n_{1} \\right )} e^{i \\left(k_{xm} n_{0} x + k_{ym} n_{1} y\\right)}}{m_{e}} + \\frac{\\partial}{\\partial t} e^{i \\omega t - i k_{x} x - i k_{y} y} \\sum_{\\substack{-\\infty \\leq n_{0} \\leq \\infty\\\\-\\infty \\leq n_{1} \\leq \\infty}} \\tilde{J}{\\left (n_{0},n_{1} \\right )} e^{i \\left(k_{xm} n_{0} x + k_{ym} n_{1} y\\right)}$$"
      ],
      "text/plain": [
       "<IPython.core.display.Math object>"
      ]
     },
     "metadata": {},
     "output_type": "display_data"
    },
    {
     "name": "stdout",
     "output_type": "stream",
     "text": [
      "apply derivatives\n"
     ]
    },
    {
     "data": {
      "text/latex": [
       "$$EQ_\\text{E harm} = \\epsilon_0 \\epsilon_r \\mu_0 \\omega^{2} e^{- i \\left(- \\omega t + k_{x} x + k_{y} y\\right)} \\sum_{\\substack{-\\infty \\leq n_{0} \\leq \\infty\\\\-\\infty \\leq n_{1} \\leq \\infty}} \\tilde{E}{\\left (n_{0},n_{1} \\right )} e^{i \\left(k_{xm} n_{0} x + k_{ym} n_{1} y\\right)} - i \\mu_0 \\omega e^{i \\omega t - i k_{x} x - i k_{y} y} \\sum_{\\substack{-\\infty \\leq n_{0} \\leq \\infty\\\\-\\infty \\leq n_{1} \\leq \\infty}} \\tilde{J}{\\left (n_{0},n_{1} \\right )} e^{i \\left(k_{xm} n_{0} x + k_{ym} n_{1} y\\right)} + \\left(- k_{x}^{2} \\sum_{\\substack{-\\infty \\leq n_{0} \\leq \\infty\\\\-\\infty \\leq n_{1} \\leq \\infty}} \\tilde{E}{\\left (n_{0},n_{1} \\right )} e^{i \\left(k_{xm} n_{0} x + k_{ym} n_{1} y\\right)} + 2 k_{x} k_{xm} \\sum_{\\substack{-\\infty \\leq n_{0} \\leq \\infty\\\\-\\infty \\leq n_{1} \\leq \\infty}} n_{0} \\tilde{E}{\\left (n_{0},n_{1} \\right )} e^{i \\left(k_{xm} n_{0} x + k_{ym} n_{1} y\\right)} - k_{xm}^{2} \\sum_{\\substack{-\\infty \\leq n_{0} \\leq \\infty\\\\-\\infty \\leq n_{1} \\leq \\infty}} n_{0}^{2} \\tilde{E}{\\left (n_{0},n_{1} \\right )} e^{i \\left(k_{xm} n_{0} x + k_{ym} n_{1} y\\right)}\\right) e^{i \\left(\\omega t - k_{x} x - k_{y} y\\right)} + \\left(- k_{y}^{2} \\sum_{\\substack{-\\infty \\leq n_{0} \\leq \\infty\\\\-\\infty \\leq n_{1} \\leq \\infty}} \\tilde{E}{\\left (n_{0},n_{1} \\right )} e^{i \\left(k_{xm} n_{0} x + k_{ym} n_{1} y\\right)} + 2 k_{y} k_{ym} \\sum_{\\substack{-\\infty \\leq n_{0} \\leq \\infty\\\\-\\infty \\leq n_{1} \\leq \\infty}} n_{1} \\tilde{E}{\\left (n_{0},n_{1} \\right )} e^{i \\left(k_{xm} n_{0} x + k_{ym} n_{1} y\\right)} - k_{ym}^{2} \\sum_{\\substack{-\\infty \\leq n_{0} \\leq \\infty\\\\-\\infty \\leq n_{1} \\leq \\infty}} n_{1}^{2} \\tilde{E}{\\left (n_{0},n_{1} \\right )} e^{i \\left(k_{xm} n_{0} x + k_{ym} n_{1} y\\right)}\\right) e^{i \\left(\\omega t - k_{x} x - k_{y} y\\right)}$$"
      ],
      "text/plain": [
       "<IPython.core.display.Math object>"
      ]
     },
     "metadata": {},
     "output_type": "display_data"
    },
    {
     "data": {
      "text/latex": [
       "$$EQ_\\text{J harm} = \\gamma e^{i \\omega t - i k_{x} x - i k_{y} y} \\sum_{\\substack{-\\infty \\leq n_{0} \\leq \\infty\\\\-\\infty \\leq n_{1} \\leq \\infty}} \\tilde{J}{\\left (n_{0},n_{1} \\right )} e^{i \\left(k_{xm} n_{0} x + k_{ym} n_{1} y\\right)} + i \\omega e^{i \\omega t - i k_{x} x - i k_{y} y} \\sum_{\\substack{-\\infty \\leq n_{0} \\leq \\infty\\\\-\\infty \\leq n_{1} \\leq \\infty}} \\tilde{J}{\\left (n_{0},n_{1} \\right )} e^{i \\left(k_{xm} n_{0} x + k_{ym} n_{1} y\\right)} - \\frac{e^{2} e^{i \\omega t - i k_{x} x - i k_{y} y} \\left(\\sum_{\\substack{-\\infty \\leq n_{0} \\leq \\infty\\\\-\\infty \\leq n_{1} \\leq \\infty}} \\tilde{E}{\\left (n_{0},n_{1} \\right )} e^{i \\left(k_{xm} n_{0} x + k_{ym} n_{1} y\\right)}\\right) \\sum_{\\substack{-\\infty \\leq n_{0} \\leq \\infty\\\\-\\infty \\leq n_{1} \\leq \\infty}} \\tilde{n_e}{\\left (n_{0},n_{1} \\right )} e^{i \\left(k_{xm} n_{0} x + k_{ym} n_{1} y\\right)}}{m_{e}}$$"
      ],
      "text/plain": [
       "<IPython.core.display.Math object>"
      ]
     },
     "metadata": {},
     "output_type": "display_data"
    },
    {
     "name": "stdout",
     "output_type": "stream",
     "text": [
      "apply convolutions\n"
     ]
    },
    {
     "data": {
      "text/latex": [
       "$$EQ_\\text{E harm} = \\epsilon_0 \\epsilon_r \\mu_0 \\omega^{2} e^{i \\omega t} e^{- i k_{x} x} e^{- i k_{y} y} \\sum_{\\substack{-\\infty \\leq n_{0} \\leq \\infty\\\\-\\infty \\leq n_{1} \\leq \\infty}} \\tilde{E}{\\left (n_{0},n_{1} \\right )} e^{i k_{xm} n_{0} x} e^{i k_{ym} n_{1} y} - i \\mu_0 \\omega e^{i \\omega t} e^{- i k_{x} x} e^{- i k_{y} y} \\sum_{\\substack{-\\infty \\leq n_{0} \\leq \\infty\\\\-\\infty \\leq n_{1} \\leq \\infty}} \\tilde{J}{\\left (n_{0},n_{1} \\right )} e^{i k_{xm} n_{0} x} e^{i k_{ym} n_{1} y} - k_{x}^{2} e^{i \\omega t} e^{- i k_{x} x} e^{- i k_{y} y} \\sum_{\\substack{-\\infty \\leq n_{0} \\leq \\infty\\\\-\\infty \\leq n_{1} \\leq \\infty}} \\tilde{E}{\\left (n_{0},n_{1} \\right )} e^{i k_{xm} n_{0} x} e^{i k_{ym} n_{1} y} + 2 k_{x} k_{xm} e^{i \\omega t} e^{- i k_{x} x} e^{- i k_{y} y} \\sum_{\\substack{-\\infty \\leq n_{0} \\leq \\infty\\\\-\\infty \\leq n_{1} \\leq \\infty}} n_{0} \\tilde{E}{\\left (n_{0},n_{1} \\right )} e^{i k_{xm} n_{0} x} e^{i k_{ym} n_{1} y} - k_{y}^{2} e^{i \\omega t} e^{- i k_{x} x} e^{- i k_{y} y} \\sum_{\\substack{-\\infty \\leq n_{0} \\leq \\infty\\\\-\\infty \\leq n_{1} \\leq \\infty}} \\tilde{E}{\\left (n_{0},n_{1} \\right )} e^{i k_{xm} n_{0} x} e^{i k_{ym} n_{1} y} + 2 k_{y} k_{ym} e^{i \\omega t} e^{- i k_{x} x} e^{- i k_{y} y} \\sum_{\\substack{-\\infty \\leq n_{0} \\leq \\infty\\\\-\\infty \\leq n_{1} \\leq \\infty}} n_{1} \\tilde{E}{\\left (n_{0},n_{1} \\right )} e^{i k_{xm} n_{0} x} e^{i k_{ym} n_{1} y} - k_{xm}^{2} e^{i \\omega t} e^{- i k_{x} x} e^{- i k_{y} y} \\sum_{\\substack{-\\infty \\leq n_{0} \\leq \\infty\\\\-\\infty \\leq n_{1} \\leq \\infty}} n_{0}^{2} \\tilde{E}{\\left (n_{0},n_{1} \\right )} e^{i k_{xm} n_{0} x} e^{i k_{ym} n_{1} y} - k_{ym}^{2} e^{i \\omega t} e^{- i k_{x} x} e^{- i k_{y} y} \\sum_{\\substack{-\\infty \\leq n_{0} \\leq \\infty\\\\-\\infty \\leq n_{1} \\leq \\infty}} n_{1}^{2} \\tilde{E}{\\left (n_{0},n_{1} \\right )} e^{i k_{xm} n_{0} x} e^{i k_{ym} n_{1} y}$$"
      ],
      "text/plain": [
       "<IPython.core.display.Math object>"
      ]
     },
     "metadata": {},
     "output_type": "display_data"
    },
    {
     "data": {
      "text/latex": [
       "$$EQ_\\text{J harm} = \\gamma e^{i \\omega t} e^{- i k_{x} x} e^{- i k_{y} y} \\sum_{\\substack{-\\infty \\leq n_{0} \\leq \\infty\\\\-\\infty \\leq n_{1} \\leq \\infty}} \\tilde{J}{\\left (n_{0},n_{1} \\right )} e^{i k_{xm} n_{0} x} e^{i k_{ym} n_{1} y} + i \\omega e^{i \\omega t} e^{- i k_{x} x} e^{- i k_{y} y} \\sum_{\\substack{-\\infty \\leq n_{0} \\leq \\infty\\\\-\\infty \\leq n_{1} \\leq \\infty}} \\tilde{J}{\\left (n_{0},n_{1} \\right )} e^{i k_{xm} n_{0} x} e^{i k_{ym} n_{1} y} - \\frac{e^{2} e^{i \\omega t} e^{- i k_{x} x} e^{- i k_{y} y} \\sum_{\\substack{-\\infty \\leq n_{0} \\leq \\infty\\\\-\\infty \\leq n_{1} \\leq \\infty}} e^{i \\left(k_{xm} n_{0} x + k_{ym} n_{1} y\\right)} \\sum_{\\substack{-\\infty \\leq m_{0} \\leq \\infty\\\\-\\infty \\leq m_{1} \\leq \\infty}} \\tilde{E}{\\left (m_{0},m_{1} \\right )} \\tilde{n_e}{\\left (- m_{0} + n_{0},- m_{1} + n_{1} \\right )}}{m_{e}}$$"
      ],
      "text/plain": [
       "<IPython.core.display.Math object>"
      ]
     },
     "metadata": {},
     "output_type": "display_data"
    },
    {
     "name": "stdout",
     "output_type": "stream",
     "text": [
      "apply orthogonalities\n"
     ]
    },
    {
     "data": {
      "text/latex": [
       "$$EQ_\\text{E harm} = \\epsilon_0 \\epsilon_r \\mu_0 \\omega^{2} \\tilde{E}{\\left (n_{0},n_{1} \\right )} - i \\mu_0 \\omega \\tilde{J}{\\left (n_{0},n_{1} \\right )} + 2 k_{x} k_{xm} n_{0} \\tilde{E}{\\left (n_{0},n_{1} \\right )} + 2 k_{y} k_{ym} n_{1} \\tilde{E}{\\left (n_{0},n_{1} \\right )} - \\left(k_{x}^{2} + k_{y}^{2} + k_{xm}^{2} n_{0}^{2} + k_{ym}^{2} n_{1}^{2}\\right) \\tilde{E}{\\left (n_{0},n_{1} \\right )}$$"
      ],
      "text/plain": [
       "<IPython.core.display.Math object>"
      ]
     },
     "metadata": {},
     "output_type": "display_data"
    },
    {
     "data": {
      "text/latex": [
       "$$EQ_\\text{J harm} = \\gamma \\tilde{J}{\\left (n_{0},n_{1} \\right )} + i \\omega \\tilde{J}{\\left (n_{0},n_{1} \\right )} - \\frac{e^{2} \\sum_{\\substack{-\\infty \\leq m_{0} \\leq \\infty\\\\-\\infty \\leq m_{1} \\leq \\infty}} \\tilde{E}{\\left (m_{0},m_{1} \\right )} \\tilde{n_e}{\\left (- m_{0} + n_{0},- m_{1} + n_{1} \\right )}}{m_{e}}$$"
      ],
      "text/plain": [
       "<IPython.core.display.Math object>"
      ]
     },
     "metadata": {},
     "output_type": "display_data"
    },
    {
     "name": "stdout",
     "output_type": "stream",
     "text": [
      "harmonic variables\n"
     ]
    },
    {
     "data": {
      "text/latex": [
       "$$\\tilde{E}~~~~\\tilde{J}$$"
      ],
      "text/plain": [
       "<IPython.core.display.Math object>"
      ]
     },
     "metadata": {},
     "output_type": "display_data"
    },
    {
     "data": {
      "text/latex": [
       "$$\\tilde{E}~~~~\\tilde{J}~~~~\\tilde{n_e}$$"
      ],
      "text/plain": [
       "<IPython.core.display.Math object>"
      ]
     },
     "metadata": {},
     "output_type": "display_data"
    }
   ],
   "source": [
    "%pylab inline\n",
    "font = {'family' : 'serif', 'weight' : 'normal', 'size'   : 16}\n",
    "matplotlib.rc('font', **font)\n",
    "figsize(6, 6)\n",
    "\n",
    "from sympy import Symbol, symbols, Function, Derivative, latex, exp, I, solve, lambdify, cos, sin\n",
    "from IPython.display import Math, display\n",
    "import numpy as np\n",
    "from scipy import constants\n",
    "\n",
    "from Electromagnetics.FourierBlochND import *\n",
    "from Electromagnetics.SymExprTree import *\n",
    "\n",
    "\n",
    "t, x, y = symbols('t x y')\n",
    "E, J = symbols('E J')\n",
    "\n",
    "omega, kx, ky, c = symbols(r'\\omega k_x k_y c')\n",
    "eps_r = symbols(r'\\epsilon_r', real=True)\n",
    "mu_0, eps_0 = symbols(r'\\mu_0 \\epsilon_0', real=True)\n",
    "\n",
    "gamma, n_e, e, m_e, omega_p = symbols(r'\\gamma n_e e m_e omega_p')\n",
    "n_0, n_1 = symbols('n_0 n_1')\n",
    "omega_m, kx_m, ky_m = symbols(r'\\omega_m k_{xm} k_{ym}')\n",
    "\n",
    "EQ_E = Derivative(E, x, 2) + Derivative(E, y, 2) - mu_0*eps_0*eps_r*Derivative(E, t, 2) - mu_0*Derivative(J, t, 1)\n",
    "EQ_J = Derivative(J, t, 1) + gamma*J - n_e*e**2/m_e*E\n",
    "\n",
    "display(Math('EQ_E = ' + latex(EQ_E)))\n",
    "display(Math('EQ_J = ' + latex(EQ_J)))\n",
    "\n",
    "## plasma frequency\n",
    "print(\"Plasma frequency\")\n",
    "EQ_J_p = EQ_J.subs(n_e, omega_p**2*m_e/e**2)\n",
    "display(Math('EQ_{Jp} = ' + latex(EQ_J_p)))\n",
    "\n",
    "\n",
    "BlochFact = exp(I*omega*t-I*kx*x-I*ky*y)\n",
    "#EQ_E = EQ_E.subs([(E, E*BlochFact), (J, J*BlochFact)])\n",
    "#EQ_J = EQ_J.subs([(E, Es*BlochFact), (J, Js*BlochFact)])\n",
    "EQ_E = symExp_replaceSymbol(EQ_E, E, E*BlochFact)\n",
    "EQ_E = symExp_replaceSymbol(EQ_E, J, J*BlochFact)\n",
    "\n",
    "EQ_J = symExp_replaceSymbol(EQ_J, E, E*BlochFact)\n",
    "EQ_J = symExp_replaceSymbol(EQ_J, J, J*BlochFact)\n",
    "\n",
    "\n",
    "display(Math('EQ_E = ' + latex(EQ_E)))\n",
    "display(Math('EQ_J = ' + latex(EQ_J)))\n",
    "\n",
    "harmonic = exp(n_0*I*kx_m*x + n_1*I*ky_m*y)\n",
    "\n",
    "pde_E_FB = PDEFourierSeriesND(EQ_E, [E, J], n_dim=2, harmonic=harmonic, usexyz=False)\n",
    "pde_J_FB = PDEFourierSeriesND(EQ_J, [E, J, n_e], n_dim=2, harmonic=harmonic, usexyz=False)\n",
    "\n",
    "print(\"replace harmonics\")\n",
    "EQ_E_harm = pde_E_FB.putSums()#.doit()\n",
    "EQ_J_harm = pde_J_FB.putSums()#.doit()\n",
    "display(Math('EQ_\\\\text{E harm} = ' + latex(EQ_E_harm)))\n",
    "display(Math('EQ_\\\\text{J harm} = ' + latex(EQ_J_harm)))\n",
    "\n",
    "print(\"apply derivatives\")\n",
    "EQ_E_harm = EQ_E_harm.doit()\n",
    "EQ_J_harm = EQ_J_harm.doit()\n",
    "display(Math('EQ_\\\\text{E harm} = ' + latex(EQ_E_harm)))\n",
    "display(Math('EQ_\\\\text{J harm} = ' + latex(EQ_J_harm)))\n",
    "\n",
    "print(\"apply convolutions\")\n",
    "EQ_E_harm = pde_E_FB.applyConvolutions(EQ_E_harm)\n",
    "EQ_J_harm = pde_J_FB.applyConvolutions(EQ_J_harm)\n",
    "display(Math('EQ_\\\\text{E harm} = ' + latex(EQ_E_harm)))\n",
    "display(Math('EQ_\\\\text{J harm} = ' + latex(EQ_J_harm)))\n",
    "\n",
    "print(\"apply orthogonalities\")\n",
    "EQ_E_harm = (pde_E_FB.applyOrthogonalities(EQ_E_harm)/BlochFact).simplify()\n",
    "EQ_J_harm = (pde_J_FB.applyOrthogonalities(EQ_J_harm)/BlochFact).simplify()\n",
    "display(Math('EQ_\\\\text{E harm} = ' + latex(EQ_E_harm)))\n",
    "display(Math('EQ_\\\\text{J harm} = ' + latex(EQ_J_harm)))\n",
    "\n",
    "\n",
    "print(\"harmonic variables\")\n",
    "E_tilde, J_tilde = pde_E_FB.varsHarm\n",
    "display(Math(latex(E_tilde) + '~~~~' + latex(J_tilde)))\n",
    "E_tilde, J_tilde, ne_tilde = pde_J_FB.varsHarm\n",
    "display(Math(latex(E_tilde) + '~~~~' + latex(J_tilde) + '~~~~' + latex(ne_tilde)))\n",
    "\n"
   ]
  },
  {
   "cell_type": "code",
   "execution_count": 62,
   "metadata": {},
   "outputs": [
    {
     "name": "stdout",
     "output_type": "stream",
     "text": [
      "numerical substitution\n"
     ]
    },
    {
     "data": {
      "text/latex": [
       "$$EQ_\\text{E harm} = 11.7 \\omega^{2} \\tilde{E}{\\left (n_{0},n_{1} \\right )} - i \\omega \\tilde{J}{\\left (n_{0},n_{1} \\right )} + 12.5663706143592 k_{x} n_{0} \\tilde{E}{\\left (n_{0},n_{1} \\right )} + 12.5663706143592 k_{y} n_{1} \\tilde{E}{\\left (n_{0},n_{1} \\right )} - \\left(k_{x}^{2} + k_{y}^{2} + 39.4784176043574 n_{0}^{2} + 39.4784176043574 n_{1}^{2}\\right) \\tilde{E}{\\left (n_{0},n_{1} \\right )}$$"
      ],
      "text/plain": [
       "<IPython.core.display.Math object>"
      ]
     },
     "metadata": {},
     "output_type": "display_data"
    },
    {
     "data": {
      "text/latex": [
       "$$EQ_\\text{J harm} = i \\omega \\tilde{J}{\\left (n_{0},n_{1} \\right )} - \\sum_{\\substack{-\\infty \\leq m_{0} \\leq \\infty\\\\-\\infty \\leq m_{1} \\leq \\infty}} \\tilde{E}{\\left (m_{0},m_{1} \\right )} \\tilde{n_e}{\\left (- m_{0} + n_{0},- m_{1} + n_{1} \\right )}$$"
      ],
      "text/plain": [
       "<IPython.core.display.Math object>"
      ]
     },
     "metadata": {},
     "output_type": "display_data"
    }
   ],
   "source": [
    "## substitutions\n",
    "\n",
    "X_p = 1.0\n",
    "Y_p = 1.0\n",
    "\n",
    "eps_0_sub = 1.0\n",
    "mu_0_sub = 1\n",
    "kx_m_sub = 2*np.pi/X_p\n",
    "ky_m_sub = 2*np.pi/Y_p\n",
    "eps_r_sub = 11.7\n",
    "e_sub = 1\n",
    "m_e_sub = 1\n",
    "gamma_sub = 0.0\n",
    "\n",
    "EQ_E_harm_kw = EQ_E_harm.subs([(eps_0, eps_0_sub), (mu_0, mu_0_sub), (eps_r, eps_r_sub), (kx_m, kx_m_sub), (ky_m, ky_m_sub), (gamma, gamma_sub), (e, e_sub), (m_e, m_e_sub)])\n",
    "EQ_J_harm_kw = EQ_J_harm.subs([(eps_0, eps_0_sub), (mu_0, mu_0_sub), (eps_r, eps_r_sub), (kx_m, kx_m_sub), (ky_m, ky_m_sub), (gamma, gamma_sub), (e, e_sub), (m_e, m_e_sub)])\n",
    "\n",
    "\n",
    "print(\"numerical substitution\")\n",
    "display(Math('EQ_\\\\text{E harm} = ' + latex(EQ_E_harm_kw)))\n",
    "display(Math('EQ_\\\\text{J harm} = ' + latex(EQ_J_harm_kw)))"
   ]
  },
  {
   "cell_type": "code",
   "execution_count": 69,
   "metadata": {},
   "outputs": [
    {
     "name": "stdout",
     "output_type": "stream",
     "text": [
      "w_p =  2.1181320045082654\n",
      "decay_rate =  3.4107882457105676\n"
     ]
    },
    {
     "name": "stderr",
     "output_type": "stream",
     "text": [
      "/home/nima/.local/lib/python3.6/site-packages/scipy/fftpack/basic.py:160: FutureWarning: Using a non-tuple sequence for multidimensional indexing is deprecated; use `arr[tuple(seq)]` instead of `arr[seq]`. In the future this will be interpreted as an array index, `arr[np.array(seq)]`, which will result either in an error or a different result.\n",
      "  z[index] = x\n"
     ]
    },
    {
     "data": {
      "image/png": "[encoded data removed]",
      "text/plain": [
       "<Figure size 504x432 with 2 Axes>"
      ]
     },
     "metadata": {
      "needs_background": "light"
     },
     "output_type": "display_data"
    }
   ],
   "source": [
    "def FWHMtoDecayRate(FWHM):\n",
    "    return (2*np.sqrt(np.log(2)))/FWHM\n",
    "\n",
    "\n",
    "pitch = 127\n",
    "fwhm = 62\n",
    "\n",
    "Ns = [8, 8]\n",
    "\n",
    "w_p = 5.0*constants.tera/(constants.c/(pitch*constants.micro))\n",
    "n_e_max = w_p**2*eps_r_sub*eps_0_sub\n",
    "n_e_x_decay_rate = FWHMtoDecayRate(fwhm/pitch)\n",
    "n_e_y_decay_rate = n_e_x_decay_rate\n",
    "n_e_x_center = X_p/2\n",
    "n_e_y_center = Y_p/2\n",
    "\n",
    "print(\"w_p = \", w_p)\n",
    "print(\"decay_rate = \", n_e_x_decay_rate)\n",
    "\n",
    "def ne_fun(r):\n",
    "    x_ = r[0] - np.floor(r[0]/X_p)*X_p\n",
    "    x_ += (x_ < 0)*X_p\n",
    "    y_ = r[1] - np.floor(r[1]/Y_p)*Y_p\n",
    "    y_ += (y_ < 0)*Y_p\n",
    "    assert np.all(x_>=0) and np.all(x_<X_p)\n",
    "    assert np.all(y_>=0) and np.all(y_<Y_p)\n",
    "    return n_e_max*np.exp(-n_e_x_decay_rate**2*(x_ - n_e_x_center)**2)\\\n",
    "            *np.exp(-n_e_y_decay_rate**2*(y_ - n_e_y_center)**2)\n",
    "\n",
    "\n",
    "def get_ne_harmonics(Ns):\n",
    "    ne_harm_vec = pde_J_FB.getFourierCoeffs(ne_fun, [0.0, 0.0], [X_p, Y_p], Ns)\n",
    "    return ne_harm_vec\n",
    "\n",
    "\n",
    "A_mat_list = None\n",
    "\n",
    "def set_matrices_list(kx_i, ky_j, Ns):\n",
    "    ne_harm_vec = get_ne_harmonics(Ns)\n",
    "    \n",
    "    EQ_E_fin = EQ_E_harm_kw.subs([(kx, kx_i), (ky, ky_j)])\n",
    "    EQ_J_fin = EQ_J_harm_kw.subs([(kx, kx_i), (ky, ky_j)])\n",
    "\n",
    "    expr_list = [EQ_E_fin, EQ_J_fin]\n",
    "    vars = [E_tilde, J_tilde]\n",
    "    pars = [ne_tilde]\n",
    "    pars_vecs = [ne_harm_vec]\n",
    "    eig_vars = [omega]\n",
    "    pde_J_FB.setupNumericalParameters(expr_list, Ns, vars, pars, pars_vecs, eig_vars)\n",
    "    pde_J_FB.calculateDenseMatrices = True\n",
    "\n",
    "    A_mat_list = pde_J_FB.orthogonalToNumpyMatrix()\n",
    "    return A_mat_list\n",
    "\n",
    "kx_i = 1.0\n",
    "ky_j = 0.0\n",
    "A_mat_list = set_matrices_list(kx_i, ky_j, Ns)\n",
    "\n",
    "figsize(7, 6)\n",
    "\n",
    "x = np.linspace(0, X_p, 50)\n",
    "y = np.linspace(0, X_p, 50)\n",
    "x_mesh, y_mesh = np.meshgrid(x, y, indexing='ij')\n",
    "ne_mesh = ne_fun([x_mesh, y_mesh])\n",
    "ne_mesh /= np.max(ne_mesh)\n",
    "\n",
    "\n",
    "imshow(ne_mesh, cmap=\"rainbow\", extent=[0, pitch, 0, pitch], origin='lower', aspect='auto')\n",
    "xlabel(\"x ($\\mu m$)\")\n",
    "ylabel(\"y ($\\mu m$)\")\n",
    "colorbar()\n",
    "savefig('other/periodicGaussian/lattice_127_62.png',  bbox_inches='tight', pad_inches=0.5)\n",
    "show()\n",
    "\n"
   ]
  },
  {
   "cell_type": "code",
   "execution_count": 91,
   "metadata": {},
   "outputs": [
    {
     "name": "stdout",
     "output_type": "stream",
     "text": [
      "[0.00743568]\n"
     ]
    },
    {
     "name": "stderr",
     "output_type": "stream",
     "text": [
      "/home/nima/Documents/GitProjects/myPyCodes/Electromagnetics/FourierBlochND.py:1843: OptimizeWarning: Unknown solver options: maxiter, ftol\n",
      "  options={'maxfev':maxfev, 'maxiter':maxiter, 'ftol': ftol})\n"
     ]
    },
    {
     "name": "stdout",
     "output_type": "stream",
     "text": [
      "success:  False\n",
      "k, omega:  0 (0.07022293564595757, 0.0, (0.005710159186436785+0j)) 4.4046673753175784e-30\n",
      "[0.00231739]\n",
      "success:  False\n",
      "k, omega:  1 (0.07022293564595757, 0.0, (0.0017796202084980858+0j)) 4.4046706061447954e-30\n",
      "[0.00439756]\n",
      "success:  False\n",
      "k, omega:  2 (0.07022293564595757, 0.0, (0.0033770638257527457+0j)) 4.404668597774781e-30\n",
      "[0.00757546]\n",
      "success:  False\n",
      "k, omega:  3 (0.07022293564595757, 0.0, (0.005817504814987302+0j)) 4.404666452701347e-30\n",
      "[0.00766342]\n",
      "success:  False\n",
      "k, omega:  4 (0.07022293564595757, 0.0, (0.0058850512738981295+0j)) 4.404667570548794e-30\n",
      "[0.00176353]\n",
      "success:  False\n",
      "k, omega:  5 (0.07022293564595757, 0.0, (0.0013542905147715866+0j)) 4.404670512194382e-30\n",
      "[0.00497544]\n",
      "success:  False\n",
      "k, omega:  6 (0.07022293564595757, 0.0, (0.003820842805654178+0j)) 4.404668261049803e-30\n",
      "[0.0063597]\n",
      "success:  False\n",
      "k, omega:  7 (0.07022293564595757, 0.0, (0.0048838709463048255+0j)) 4.4046672028363166e-30\n",
      "[0.00975369]\n",
      "success:  False\n",
      "k, omega:  8 (0.07022293564595757, 0.0, (0.007490249107879243+0j)) 4.404666688062586e-30\n",
      "[0.00150604]\n",
      "success:  False\n",
      "k, omega:  9 (0.07022293564595757, 0.0, (0.0011565481109612342+0j)) 4.404670941190114e-30\n",
      "[0.00595194]\n",
      "success:  False\n",
      "k, omega:  10 (0.07022293564595757, 0.0, (0.0045707349721378215+0j)) 4.4046666712530715e-30\n",
      "[]\n"
     ]
    }
   ],
   "source": [
    "from Electromagnetics import Misc\n",
    "\n",
    "solver = 'hybr' #'hybr'\n",
    "handle_overflow = True\n",
    "maxiter = 100\n",
    "maxfev = 100\n",
    "tol = 1.0e-4\n",
    "tol_abs = False\n",
    "\n",
    "A_eqs_list = [A_mat_list]\n",
    "\n",
    "\n",
    "sing_val_tol = 1.0e-5\n",
    "del_norm = 1.0e-5\n",
    "sig_small = 1.0e-3j\n",
    "\n",
    "_N_pp = 10\n",
    "\n",
    "def get_eig_points(kx_i, ky_j, Ns, _N_pp, A_eqs_list, vbose=False, eigs_prev=[], get_eig_vecs=False):\n",
    "\n",
    "    _N_2 = Ns[0]#int(Ns[0]/2)\n",
    "\n",
    "    roots_prev = []\n",
    "    eig_points_w = []\n",
    "    eig_vecs_E = []\n",
    "\n",
    "    for j in range(0, _N_pp+1):\n",
    "        #eigvar_vals_0 = [j*w_i*np.sqrt(eps_r_sub)]\n",
    "        eigvar_vals_0 = np.random.rand(1)*0.01#np.sqrt(kx_i**2 + ky_j**2)/np.sqrt(eps_r_sub)\n",
    "        if j<len(eigs_prev):\n",
    "            eigvar_vals_0 = [eigs_prev[j] + 0.1]\n",
    "        if vbose:\n",
    "            print(eigvar_vals_0)\n",
    "        res = pde_J_FB.solveDeterminant(eigvar_vals_0, A_eqs_list, solver=solver, handle_overflow=handle_overflow, \\\n",
    "                                      roots_prev=roots_prev, tol=tol, maxiter=maxiter, maxfev=maxfev,\\\n",
    "                                      getMats=True, tol_relative=not tol_abs)\n",
    "\n",
    "        print('success: ', res[2]['success'])\n",
    "        w_i = res[0][0]\n",
    "\n",
    "        if vbose:\n",
    "            print('k, omega: ', j, (kx_i, ky_j, w_i), np.abs(res[1][0]))\n",
    "        \n",
    "        if res[2]['success']:\n",
    "            #roots_prev.append([w_i])\n",
    "            eig_points_w.append(w_i)\n",
    "\n",
    "        if get_eig_vecs:\n",
    "            A_mat = res[3][0]\n",
    "            rank, x_nulls, sing_vals = Misc.null(A_mat, rtol=sing_val_tol, forceRank=A_mat.shape[0]-1)\n",
    "            if not rank==A_mat.shape[0]-1:\n",
    "                print('rank: ', rank)\n",
    "                print(sing_vals)\n",
    "                assert False\n",
    "\n",
    "            E_j = x_nulls.T[0,0:2*_N_2]/np.linalg.norm(x_nulls.T[0,0:2*_N_2])\n",
    "            if res[2]['success']:\n",
    "                eig_vecs_E.append(E_j)\n",
    "            if not np.linalg.norm(A_mat.dot(x_nulls))/np.linalg.norm(x_nulls)<del_norm and vbose:\n",
    "                print('|Ax|=', np.linalg.norm(A_mat.dot(x_nulls)), ' |x|=', np.linalg.norm(x_nulls))\n",
    "                print(res[2])\n",
    "\n",
    "\n",
    "    return [eig_points_w, eig_vecs_E]\n",
    "\n",
    "[eig_points_w, eig_vecs_E] = get_eig_points(kx_i, ky_j, Ns, _N_pp, A_eqs_list, vbose=True)\n",
    "print(eig_points_w)\n"
   ]
  },
  {
   "cell_type": "code",
   "execution_count": 92,
   "metadata": {},
   "outputs": [
    {
     "name": "stderr",
     "output_type": "stream",
     "text": [
      "/home/nima/.local/lib/python3.6/site-packages/scipy/fftpack/basic.py:160: FutureWarning: Using a non-tuple sequence for multidimensional indexing is deprecated; use `arr[tuple(seq)]` instead of `arr[seq]`. In the future this will be interpreted as an array index, `arr[np.array(seq)]`, which will result either in an error or a different result.\n",
      "  z[index] = x\n"
     ]
    },
    {
     "name": "stdout",
     "output_type": "stream",
     "text": [
      "--------------------------------------------------\n",
      "0 : k =  (0.01, 0.0)\n"
     ]
    },
    {
     "name": "stderr",
     "output_type": "stream",
     "text": [
      "/home/nima/Documents/GitProjects/myPyCodes/Electromagnetics/FourierBlochND.py:1843: OptimizeWarning: Unknown solver options: maxiter, ftol\n",
      "  options={'maxfev':maxfev, 'maxiter':maxiter, 'ftol': ftol})\n"
     ]
    },
    {
     "name": "stdout",
     "output_type": "stream",
     "text": [
      "success:  False\n",
      "success:  False\n",
      "success:  False\n",
      "success:  False\n",
      "success:  False\n",
      "success:  False\n",
      "success:  False\n",
      "success:  False\n",
      "success:  False\n",
      "success:  False\n",
      "success:  False\n",
      "[]\n",
      "--------------------------------------------------\n",
      "1 : k =  (0.07022293564595757, 0.0)\n",
      "success:  False\n",
      "success:  False\n",
      "success:  False\n",
      "success:  False\n",
      "success:  False\n",
      "success:  False\n",
      "success:  False\n",
      "success:  False\n",
      "success:  False\n",
      "success:  False\n",
      "success:  False\n",
      "[]\n",
      "--------------------------------------------------\n",
      "2 : k =  (0.13044587129191512, 0.0)\n",
      "success:  False\n",
      "success:  False\n",
      "success:  False\n",
      "success:  False\n",
      "success:  False\n",
      "success:  False\n",
      "success:  False\n",
      "success:  False\n"
     ]
    },
    {
     "ename": "KeyboardInterrupt",
     "evalue": "",
     "output_type": "error",
     "traceback": [
      "\u001b[0;31m---------------------------------------------------------------------------\u001b[0m",
      "\u001b[0;31mKeyboardInterrupt\u001b[0m                         Traceback (most recent call last)",
      "\u001b[0;32m<ipython-input-92-b08b1fa8c3d7>\u001b[0m in \u001b[0;36m<module>\u001b[0;34m()\u001b[0m\n\u001b[1;32m     22\u001b[0m     \u001b[0mprint\u001b[0m\u001b[0;34m(\u001b[0m\u001b[0;34m'-'\u001b[0m\u001b[0;34m*\u001b[0m\u001b[0;36m50\u001b[0m\u001b[0;34m)\u001b[0m\u001b[0;34m\u001b[0m\u001b[0m\n\u001b[1;32m     23\u001b[0m     \u001b[0mprint\u001b[0m\u001b[0;34m(\u001b[0m\u001b[0mi\u001b[0m\u001b[0;34m,\u001b[0m \u001b[0;34m\": k = \"\u001b[0m \u001b[0;34m,\u001b[0m \u001b[0;34m(\u001b[0m\u001b[0mkx_i\u001b[0m\u001b[0;34m,\u001b[0m \u001b[0mky_i\u001b[0m\u001b[0;34m)\u001b[0m\u001b[0;34m)\u001b[0m\u001b[0;34m\u001b[0m\u001b[0m\n\u001b[0;32m---> 24\u001b[0;31m     \u001b[0;34m[\u001b[0m\u001b[0meig_points_w\u001b[0m\u001b[0;34m,\u001b[0m \u001b[0meig_vecs_E\u001b[0m\u001b[0;34m]\u001b[0m \u001b[0;34m=\u001b[0m \u001b[0mget_eig_points\u001b[0m\u001b[0;34m(\u001b[0m\u001b[0mkx_i\u001b[0m\u001b[0;34m,\u001b[0m \u001b[0mky_i\u001b[0m\u001b[0;34m,\u001b[0m \u001b[0mNs\u001b[0m\u001b[0;34m,\u001b[0m \u001b[0m_N_pp\u001b[0m\u001b[0;34m,\u001b[0m \u001b[0mA_eqs_list\u001b[0m\u001b[0;34m,\u001b[0m \u001b[0mvbose\u001b[0m\u001b[0;34m=\u001b[0m\u001b[0;32mFalse\u001b[0m\u001b[0;34m,\u001b[0m \u001b[0meigs_prev\u001b[0m\u001b[0;34m=\u001b[0m\u001b[0meig_points_w_prev\u001b[0m\u001b[0;34m)\u001b[0m\u001b[0;34m\u001b[0m\u001b[0m\n\u001b[0m\u001b[1;32m     25\u001b[0m     \u001b[0mprint\u001b[0m\u001b[0;34m(\u001b[0m\u001b[0meig_points_w\u001b[0m\u001b[0;34m)\u001b[0m\u001b[0;34m\u001b[0m\u001b[0m\n\u001b[1;32m     26\u001b[0m     \u001b[0meig_points_w_real\u001b[0m \u001b[0;34m=\u001b[0m \u001b[0mnp\u001b[0m\u001b[0;34m.\u001b[0m\u001b[0mreal\u001b[0m\u001b[0;34m(\u001b[0m\u001b[0meig_points_w\u001b[0m\u001b[0;34m)\u001b[0m\u001b[0;34m\u001b[0m\u001b[0m\n",
      "\u001b[0;32m<ipython-input-91-95a04d35a119>\u001b[0m in \u001b[0;36mget_eig_points\u001b[0;34m(kx_i, ky_j, Ns, _N_pp, A_eqs_list, vbose, eigs_prev, get_eig_vecs)\u001b[0m\n\u001b[1;32m     32\u001b[0m         \u001b[0;32mif\u001b[0m \u001b[0mvbose\u001b[0m\u001b[0;34m:\u001b[0m\u001b[0;34m\u001b[0m\u001b[0m\n\u001b[1;32m     33\u001b[0m             \u001b[0mprint\u001b[0m\u001b[0;34m(\u001b[0m\u001b[0meigvar_vals_0\u001b[0m\u001b[0;34m)\u001b[0m\u001b[0;34m\u001b[0m\u001b[0m\n\u001b[0;32m---> 34\u001b[0;31m         \u001b[0mres\u001b[0m \u001b[0;34m=\u001b[0m \u001b[0mpde_J_FB\u001b[0m\u001b[0;34m.\u001b[0m\u001b[0msolveDeterminant\u001b[0m\u001b[0;34m(\u001b[0m\u001b[0meigvar_vals_0\u001b[0m\u001b[0;34m,\u001b[0m \u001b[0mA_eqs_list\u001b[0m\u001b[0;34m,\u001b[0m \u001b[0msolver\u001b[0m\u001b[0;34m=\u001b[0m\u001b[0msolver\u001b[0m\u001b[0;34m,\u001b[0m \u001b[0mhandle_overflow\u001b[0m\u001b[0;34m=\u001b[0m\u001b[0mhandle_overflow\u001b[0m\u001b[0;34m,\u001b[0m                                       \u001b[0mroots_prev\u001b[0m\u001b[0;34m=\u001b[0m\u001b[0mroots_prev\u001b[0m\u001b[0;34m,\u001b[0m \u001b[0mtol\u001b[0m\u001b[0;34m=\u001b[0m\u001b[0mtol\u001b[0m\u001b[0;34m,\u001b[0m \u001b[0mmaxiter\u001b[0m\u001b[0;34m=\u001b[0m\u001b[0mmaxiter\u001b[0m\u001b[0;34m,\u001b[0m \u001b[0mmaxfev\u001b[0m\u001b[0;34m=\u001b[0m\u001b[0mmaxfev\u001b[0m\u001b[0;34m,\u001b[0m                                      \u001b[0mgetMats\u001b[0m\u001b[0;34m=\u001b[0m\u001b[0;32mTrue\u001b[0m\u001b[0;34m,\u001b[0m \u001b[0mtol_relative\u001b[0m\u001b[0;34m=\u001b[0m\u001b[0;32mnot\u001b[0m \u001b[0mtol_abs\u001b[0m\u001b[0;34m)\u001b[0m\u001b[0;34m\u001b[0m\u001b[0m\n\u001b[0m\u001b[1;32m     35\u001b[0m \u001b[0;34m\u001b[0m\u001b[0m\n\u001b[1;32m     36\u001b[0m         \u001b[0mprint\u001b[0m\u001b[0;34m(\u001b[0m\u001b[0;34m'success: '\u001b[0m\u001b[0;34m,\u001b[0m \u001b[0mres\u001b[0m\u001b[0;34m[\u001b[0m\u001b[0;36m2\u001b[0m\u001b[0;34m]\u001b[0m\u001b[0;34m[\u001b[0m\u001b[0;34m'success'\u001b[0m\u001b[0;34m]\u001b[0m\u001b[0;34m)\u001b[0m\u001b[0;34m\u001b[0m\u001b[0m\n",
      "\u001b[0;32m~/Documents/GitProjects/myPyCodes/Electromagnetics/FourierBlochND.py\u001b[0m in \u001b[0;36msolveDeterminant\u001b[0;34m(self, eigvar_vals_0, A_eqs_list, solver, handle_overflow, roots_prev, tol, tol_relative, maxiter, ftol, maxfev, getMats)\u001b[0m\n\u001b[1;32m   1841\u001b[0m                 \u001b[0mx_0\u001b[0m\u001b[0;34m.\u001b[0m\u001b[0mappend\u001b[0m\u001b[0;34m(\u001b[0m\u001b[0meigvar_vals_0\u001b[0m\u001b[0;34m[\u001b[0m\u001b[0mi\u001b[0m\u001b[0;34m]\u001b[0m\u001b[0;34m.\u001b[0m\u001b[0mimag\u001b[0m\u001b[0;34m)\u001b[0m\u001b[0;34m\u001b[0m\u001b[0m\n\u001b[1;32m   1842\u001b[0m             sol = optimize.root(f, x_0, method=solver, tol=tol, \n\u001b[0;32m-> 1843\u001b[0;31m                 options={'maxfev':maxfev, 'maxiter':maxiter, 'ftol': ftol})\n\u001b[0m\u001b[1;32m   1844\u001b[0m             \u001b[0;31m#print('tol: ', tol, '  maxfev: ', maxfev, '  maxiter:', maxiter)\u001b[0m\u001b[0;34m\u001b[0m\u001b[0;34m\u001b[0m\u001b[0m\n\u001b[1;32m   1845\u001b[0m             \u001b[0msol_x\u001b[0m \u001b[0;34m=\u001b[0m \u001b[0msol\u001b[0m\u001b[0;34m.\u001b[0m\u001b[0mx\u001b[0m\u001b[0;34m\u001b[0m\u001b[0m\n",
      "\u001b[0;32m~/.local/lib/python3.6/site-packages/scipy/optimize/_root.py\u001b[0m in \u001b[0;36mroot\u001b[0;34m(fun, x0, args, method, jac, tol, callback, options)\u001b[0m\n\u001b[1;32m    185\u001b[0m \u001b[0;34m\u001b[0m\u001b[0m\n\u001b[1;32m    186\u001b[0m     \u001b[0;32mif\u001b[0m \u001b[0mmeth\u001b[0m \u001b[0;34m==\u001b[0m \u001b[0;34m'hybr'\u001b[0m\u001b[0;34m:\u001b[0m\u001b[0;34m\u001b[0m\u001b[0m\n\u001b[0;32m--> 187\u001b[0;31m         \u001b[0msol\u001b[0m \u001b[0;34m=\u001b[0m \u001b[0m_root_hybr\u001b[0m\u001b[0;34m(\u001b[0m\u001b[0mfun\u001b[0m\u001b[0;34m,\u001b[0m \u001b[0mx0\u001b[0m\u001b[0;34m,\u001b[0m \u001b[0margs\u001b[0m\u001b[0;34m=\u001b[0m\u001b[0margs\u001b[0m\u001b[0;34m,\u001b[0m \u001b[0mjac\u001b[0m\u001b[0;34m=\u001b[0m\u001b[0mjac\u001b[0m\u001b[0;34m,\u001b[0m \u001b[0;34m**\u001b[0m\u001b[0moptions\u001b[0m\u001b[0;34m)\u001b[0m\u001b[0;34m\u001b[0m\u001b[0m\n\u001b[0m\u001b[1;32m    188\u001b[0m     \u001b[0;32melif\u001b[0m \u001b[0mmeth\u001b[0m \u001b[0;34m==\u001b[0m \u001b[0;34m'lm'\u001b[0m\u001b[0;34m:\u001b[0m\u001b[0;34m\u001b[0m\u001b[0m\n\u001b[1;32m    189\u001b[0m         \u001b[0msol\u001b[0m \u001b[0;34m=\u001b[0m \u001b[0m_root_leastsq\u001b[0m\u001b[0;34m(\u001b[0m\u001b[0mfun\u001b[0m\u001b[0;34m,\u001b[0m \u001b[0mx0\u001b[0m\u001b[0;34m,\u001b[0m \u001b[0margs\u001b[0m\u001b[0;34m=\u001b[0m\u001b[0margs\u001b[0m\u001b[0;34m,\u001b[0m \u001b[0mjac\u001b[0m\u001b[0;34m=\u001b[0m\u001b[0mjac\u001b[0m\u001b[0;34m,\u001b[0m \u001b[0;34m**\u001b[0m\u001b[0moptions\u001b[0m\u001b[0;34m)\u001b[0m\u001b[0;34m\u001b[0m\u001b[0m\n",
      "\u001b[0;32m~/.local/lib/python3.6/site-packages/scipy/optimize/minpack.py\u001b[0m in \u001b[0;36m_root_hybr\u001b[0;34m(func, x0, args, jac, col_deriv, xtol, maxfev, band, eps, factor, diag, **unknown_options)\u001b[0m\n\u001b[1;32m    225\u001b[0m         \u001b[0;32mwith\u001b[0m \u001b[0m_MINPACK_LOCK\u001b[0m\u001b[0;34m:\u001b[0m\u001b[0;34m\u001b[0m\u001b[0m\n\u001b[1;32m    226\u001b[0m             retval = _minpack._hybrd(func, x0, args, 1, xtol, maxfev,\n\u001b[0;32m--> 227\u001b[0;31m                                      ml, mu, epsfcn, factor, diag)\n\u001b[0m\u001b[1;32m    228\u001b[0m     \u001b[0;32melse\u001b[0m\u001b[0;34m:\u001b[0m\u001b[0;34m\u001b[0m\u001b[0m\n\u001b[1;32m    229\u001b[0m         \u001b[0m_check_func\u001b[0m\u001b[0;34m(\u001b[0m\u001b[0;34m'fsolve'\u001b[0m\u001b[0;34m,\u001b[0m \u001b[0;34m'fprime'\u001b[0m\u001b[0;34m,\u001b[0m \u001b[0mDfun\u001b[0m\u001b[0;34m,\u001b[0m \u001b[0mx0\u001b[0m\u001b[0;34m,\u001b[0m \u001b[0margs\u001b[0m\u001b[0;34m,\u001b[0m \u001b[0mn\u001b[0m\u001b[0;34m,\u001b[0m \u001b[0;34m(\u001b[0m\u001b[0mn\u001b[0m\u001b[0;34m,\u001b[0m \u001b[0mn\u001b[0m\u001b[0;34m)\u001b[0m\u001b[0;34m)\u001b[0m\u001b[0;34m\u001b[0m\u001b[0m\n",
      "\u001b[0;32m~/Documents/GitProjects/myPyCodes/Electromagnetics/FourierBlochND.py\u001b[0m in \u001b[0;36mf\u001b[0;34m(x_ri)\u001b[0m\n\u001b[1;32m   1811\u001b[0m                     \u001b[0;32mreturn\u001b[0m \u001b[0mdets_ri\u001b[0m\u001b[0;34m\u001b[0m\u001b[0m\n\u001b[1;32m   1812\u001b[0m                 \u001b[0;32melse\u001b[0m\u001b[0;34m:\u001b[0m\u001b[0;34m\u001b[0m\u001b[0m\n\u001b[0;32m-> 1813\u001b[0;31m                     \u001b[0mlog_dets_\u001b[0m \u001b[0;34m=\u001b[0m \u001b[0mself\u001b[0m\u001b[0;34m.\u001b[0m\u001b[0mgetLogDeterminant\u001b[0m\u001b[0;34m(\u001b[0m\u001b[0meigvar_vals\u001b[0m\u001b[0;34m,\u001b[0m \u001b[0mA_eqs_list\u001b[0m\u001b[0;34m)\u001b[0m\u001b[0;34m\u001b[0m\u001b[0m\n\u001b[0m\u001b[1;32m   1814\u001b[0m                     \u001b[0mdets_ri\u001b[0m \u001b[0;34m=\u001b[0m \u001b[0;34m[\u001b[0m\u001b[0;34m]\u001b[0m\u001b[0;34m\u001b[0m\u001b[0m\n\u001b[1;32m   1815\u001b[0m                     \u001b[0;32mfor\u001b[0m \u001b[0mi\u001b[0m \u001b[0;32min\u001b[0m \u001b[0mrange\u001b[0m\u001b[0;34m(\u001b[0m\u001b[0mlen\u001b[0m\u001b[0;34m(\u001b[0m\u001b[0mlog_dets_\u001b[0m\u001b[0;34m)\u001b[0m\u001b[0;34m)\u001b[0m\u001b[0;34m:\u001b[0m\u001b[0;34m\u001b[0m\u001b[0m\n",
      "\u001b[0;32m~/Documents/GitProjects/myPyCodes/Electromagnetics/FourierBlochND.py\u001b[0m in \u001b[0;36mgetLogDeterminant\u001b[0;34m(self, eigvar_vals, A_eqs_list)\u001b[0m\n\u001b[1;32m   1719\u001b[0m                 \u001b[0mC\u001b[0m \u001b[0;34m=\u001b[0m \u001b[0mcomplex\u001b[0m\u001b[0;34m(\u001b[0m\u001b[0mA_eig_dense_list\u001b[0m\u001b[0;34m[\u001b[0m\u001b[0mi\u001b[0m\u001b[0;34m]\u001b[0m\u001b[0;34m[\u001b[0m\u001b[0;36m0\u001b[0m\u001b[0;34m]\u001b[0m\u001b[0;34m.\u001b[0m\u001b[0mevalf\u001b[0m\u001b[0;34m(\u001b[0m\u001b[0msubs\u001b[0m\u001b[0;34m=\u001b[0m\u001b[0mdict\u001b[0m\u001b[0;34m(\u001b[0m\u001b[0mzip\u001b[0m\u001b[0;34m(\u001b[0m\u001b[0meig_vars\u001b[0m\u001b[0;34m,\u001b[0m \u001b[0meigvar_vals\u001b[0m\u001b[0;34m)\u001b[0m\u001b[0;34m)\u001b[0m\u001b[0;34m)\u001b[0m\u001b[0;34m)\u001b[0m\u001b[0;34m\u001b[0m\u001b[0m\n\u001b[1;32m   1720\u001b[0m                 \u001b[0mA_tot\u001b[0m \u001b[0;34m+=\u001b[0m  \u001b[0mC\u001b[0m\u001b[0;34m*\u001b[0m\u001b[0mA_eig_dense_list\u001b[0m\u001b[0;34m[\u001b[0m\u001b[0mi\u001b[0m\u001b[0;34m]\u001b[0m\u001b[0;34m[\u001b[0m\u001b[0;36m1\u001b[0m\u001b[0;34m]\u001b[0m\u001b[0;34m\u001b[0m\u001b[0m\n\u001b[0;32m-> 1721\u001b[0;31m             \u001b[0mP\u001b[0m\u001b[0;34m,\u001b[0m \u001b[0mL\u001b[0m\u001b[0;34m,\u001b[0m \u001b[0mU\u001b[0m \u001b[0;34m=\u001b[0m \u001b[0mplu\u001b[0m \u001b[0;34m=\u001b[0m \u001b[0mlinalg\u001b[0m\u001b[0;34m.\u001b[0m\u001b[0mlu\u001b[0m\u001b[0;34m(\u001b[0m\u001b[0mA_tot\u001b[0m\u001b[0;34m)\u001b[0m\u001b[0;34m\u001b[0m\u001b[0m\n\u001b[0m\u001b[1;32m   1722\u001b[0m             \u001b[0mlog_det\u001b[0m \u001b[0;34m=\u001b[0m \u001b[0;36m0.0\u001b[0m\u001b[0;34m\u001b[0m\u001b[0m\n\u001b[1;32m   1723\u001b[0m             \u001b[0;32mfor\u001b[0m \u001b[0mi\u001b[0m \u001b[0;32min\u001b[0m \u001b[0mrange\u001b[0m\u001b[0;34m(\u001b[0m\u001b[0mA_tot\u001b[0m\u001b[0;34m.\u001b[0m\u001b[0mshape\u001b[0m\u001b[0;34m[\u001b[0m\u001b[0;36m0\u001b[0m\u001b[0;34m]\u001b[0m\u001b[0;34m)\u001b[0m\u001b[0;34m:\u001b[0m\u001b[0;34m\u001b[0m\u001b[0m\n",
      "\u001b[0;32m~/.local/lib/python3.6/site-packages/scipy/linalg/decomp_lu.py\u001b[0m in \u001b[0;36mlu\u001b[0;34m(a, permute_l, overwrite_a, check_finite)\u001b[0m\n\u001b[1;32m    216\u001b[0m     \u001b[0moverwrite_a\u001b[0m \u001b[0;34m=\u001b[0m \u001b[0moverwrite_a\u001b[0m \u001b[0;32mor\u001b[0m \u001b[0;34m(\u001b[0m\u001b[0m_datacopied\u001b[0m\u001b[0;34m(\u001b[0m\u001b[0ma1\u001b[0m\u001b[0;34m,\u001b[0m \u001b[0ma\u001b[0m\u001b[0;34m)\u001b[0m\u001b[0;34m)\u001b[0m\u001b[0;34m\u001b[0m\u001b[0m\n\u001b[1;32m    217\u001b[0m     \u001b[0mflu\u001b[0m\u001b[0;34m,\u001b[0m \u001b[0;34m=\u001b[0m \u001b[0mget_flinalg_funcs\u001b[0m\u001b[0;34m(\u001b[0m\u001b[0;34m(\u001b[0m\u001b[0;34m'lu'\u001b[0m\u001b[0;34m,\u001b[0m\u001b[0;34m)\u001b[0m\u001b[0;34m,\u001b[0m \u001b[0;34m(\u001b[0m\u001b[0ma1\u001b[0m\u001b[0;34m,\u001b[0m\u001b[0;34m)\u001b[0m\u001b[0;34m)\u001b[0m\u001b[0;34m\u001b[0m\u001b[0m\n\u001b[0;32m--> 218\u001b[0;31m     \u001b[0mp\u001b[0m\u001b[0;34m,\u001b[0m \u001b[0ml\u001b[0m\u001b[0;34m,\u001b[0m \u001b[0mu\u001b[0m\u001b[0;34m,\u001b[0m \u001b[0minfo\u001b[0m \u001b[0;34m=\u001b[0m \u001b[0mflu\u001b[0m\u001b[0;34m(\u001b[0m\u001b[0ma1\u001b[0m\u001b[0;34m,\u001b[0m \u001b[0mpermute_l\u001b[0m\u001b[0;34m=\u001b[0m\u001b[0mpermute_l\u001b[0m\u001b[0;34m,\u001b[0m \u001b[0moverwrite_a\u001b[0m\u001b[0;34m=\u001b[0m\u001b[0moverwrite_a\u001b[0m\u001b[0;34m)\u001b[0m\u001b[0;34m\u001b[0m\u001b[0m\n\u001b[0m\u001b[1;32m    219\u001b[0m     \u001b[0;32mif\u001b[0m \u001b[0minfo\u001b[0m \u001b[0;34m<\u001b[0m \u001b[0;36m0\u001b[0m\u001b[0;34m:\u001b[0m\u001b[0;34m\u001b[0m\u001b[0m\n\u001b[1;32m    220\u001b[0m         raise ValueError('illegal value in %d-th argument of '\n",
      "\u001b[0;31mKeyboardInterrupt\u001b[0m: "
     ]
    },
    {
     "data": {
      "image/png": "[encoded data removed]",
      "text/plain": [
       "<Figure size 576x432 with 1 Axes>"
      ]
     },
     "metadata": {
      "needs_background": "light"
     },
     "output_type": "display_data"
    }
   ],
   "source": [
    "##get dispsion curves\n",
    "\n",
    "\n",
    "kx_max = 2.0*np.pi/X_p\n",
    "n_pts = 53\n",
    "\n",
    "kx_arr = np.linspace(0.01, kx_max/2, n_pts)\n",
    "ky_arr = np.zeros(n_pts)\n",
    "\n",
    "eig_points_w_prev = []\n",
    "figsize(8, 6)\n",
    "\n",
    "w_pts = []\n",
    "k_pts = []\n",
    "\n",
    "for i in range(n_pts):\n",
    "    kx_i = kx_arr[i]\n",
    "    ky_i = ky_arr[i]\n",
    "    A_mat_list = set_matrices_list(kx_i, ky_i, Ns)\n",
    "    A_eqs_list = [A_mat_list]\n",
    "    \n",
    "    print('-'*50)\n",
    "    print(i, \": k = \" , (kx_i, ky_i))\n",
    "    [eig_points_w, eig_vecs_E] = get_eig_points(kx_i, ky_i, Ns, _N_pp, A_eqs_list, vbose=False, eigs_prev=eig_points_w_prev)\n",
    "    print(eig_points_w)\n",
    "    eig_points_w_real = np.real(eig_points_w)\n",
    "    for j in range(len(eig_points_w)):\n",
    "        if len(eig_points_w_prev)==0:\n",
    "            eig_points_w_prev.append(eig_points_w[j])\n",
    "        elif np.min(np.abs(np.array(eig_points_w_prev) - eig_points_w[j])) > 0.1:\n",
    "            eig_points_w_prev.append(eig_points_w[j])\n",
    "    plot([kx_i]*len(eig_points_w), eig_points_w_real, 'bo', markersize = 1)\n",
    "    \n",
    "    k_pts.extend([kx_i]*len(eig_points_w))\n",
    "    w_pts.extend(eig_points_w_real.tolist())\n",
    "\n",
    "#xlim(-np.pi/X_p, np.pi/X_p)\n",
    "#ylim(0, 3)\n",
    "show()\n"
   ]
  },
  {
   "cell_type": "code",
   "execution_count": 84,
   "metadata": {},
   "outputs": [
    {
     "name": "stdout",
     "output_type": "stream",
     "text": [
      "file will be overwritten. Sure (y/n)?n\n"
     ]
    },
    {
     "data": {
      "image/png": "[encoded data removed]",
      "text/plain": [
       "<Figure size 576x432 with 1 Axes>"
      ]
     },
     "metadata": {
      "needs_background": "light"
     },
     "output_type": "display_data"
    }
   ],
   "source": [
    "import os\n",
    "file_no = 2\n",
    "\n",
    "write = \"y\"\n",
    "filename = 'other/periodicGaussian/square_127_62_GX_no{}'.format(file_no)\n",
    "\n",
    "#plot(k_pts, np.real(np.array(w_pts)), 'bo', markersize=1)\n",
    "if os.path.exists(filename +'.npz'):\n",
    "    #global write\n",
    "    write = input(\"file will be overwritten. Sure (y/n)?\")\n",
    "if write == \"y\":\n",
    "    np.savez(filename, w_pts=w_pts, k_pts=k_pts)\n",
    "    print(\"wrote to {}.npz'\".format(filename))"
   ]
  },
  {
   "cell_type": "code",
   "execution_count": 86,
   "metadata": {},
   "outputs": [
    {
     "name": "stdout",
     "output_type": "stream",
     "text": [
      "loading  other/periodicGaussian/square_127_62_GX_no0.npz\n",
      "341\n",
      "loading  other/periodicGaussian/square_127_62_GX_no1.npz\n",
      "341\n"
     ]
    },
    {
     "data": {
      "image/png": "[encoded data removed]",
      "text/plain": [
       "<Figure size 576x432 with 1 Axes>"
      ]
     },
     "metadata": {
      "needs_background": "light"
     },
     "output_type": "display_data"
    }
   ],
   "source": [
    "convert_to_si = True\n",
    "\n",
    "for i in range(2):\n",
    "    filename = 'other/periodicGaussian/square_127_62_GX_no{}.npz'.format(i)\n",
    "    print(\"loading \", filename)\n",
    "    data = np.load(filename)\n",
    "    w_pts_ = np.array(data['w_pts'])\n",
    "    k_pts_ = np.array(data['k_pts'])\n",
    "    \n",
    "    if convert_to_si:\n",
    "        w_pts_ *= (constants.c/(pitch*constants.micro))#/np.sqrt(eps_r_sub)\n",
    "        #k_pts_ *= (2.0*np.pi/(pitch*constants.micro))\n",
    "    \n",
    "    print(len(w_pts))\n",
    "    #print(k_pts)\n",
    "\n",
    "    plot(k_pts_, np.real(np.array(w_pts_)/(2.0*np.pi)/constants.tera), 'bo', markersize=1)\n",
    "    \n",
    "xlabel('$ka$')\n",
    "ylabel(\"$f$ (THz)\")\n",
    "savefig('other/periodicGaussian/bands_127_62_GX.png',  bbox_inches='tight', pad_inches=0.5)\n",
    "show()"
   ]
  },
  {
   "cell_type": "code",
   "execution_count": 42,
   "metadata": {},
   "outputs": [
    {
     "data": {
      "text/plain": [
       "14.83190210479412"
      ]
     },
     "execution_count": 42,
     "metadata": {},
     "output_type": "execute_result"
    }
   ],
   "source": [
    "2.0*np.pi*constants.c/(pitch*constants.micro)/constants.tera\n"
   ]
  },
  {
   "cell_type": "code",
   "execution_count": 54,
   "metadata": {},
   "outputs": [
    {
     "data": {
      "text/plain": [
       "43.82256323611096"
      ]
     },
     "execution_count": 54,
     "metadata": {},
     "output_type": "execute_result"
    }
   ],
   "source": [
    "constants.c/(1*constants.tera)/np.sqrt(11.7)/2/constants.micro"
   ]
  },
  {
   "cell_type": "code",
   "execution_count": null,
   "metadata": {},
   "outputs": [],
   "source": []
  }
 ],
 "metadata": {
  "kernelspec": {
   "display_name": "Python 3",
   "language": "python",
   "name": "python3"
  },
  "language_info": {
   "codemirror_mode": {
    "name": "ipython",
    "version": 3
   },
   "file_extension": ".py",
   "mimetype": "text/x-python",
   "name": "python",
   "nbconvert_exporter": "python",
   "pygments_lexer": "ipython3",
   "version": "3.6.6"
  }
 },
 "nbformat": 4,
 "nbformat_minor": 2
}
