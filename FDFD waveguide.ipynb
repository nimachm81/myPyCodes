{
 "cells": [
  {
   "cell_type": "code",
   "execution_count": 1,
   "metadata": {
    "collapsed": false
   },
   "outputs": [
    {
     "data": {
      "text/latex": [
       "$$\\left[\\begin{matrix}i H_{{x}} \\mu \\omega - \\frac{d}{d z} E_{{y}} + \\frac{d}{d y} E_{{z}} & i H_{{y}} \\mu \\omega + \\frac{d}{d z} E_{{x}} - \\frac{d}{d x} E_{{z}} & i H_{{z}} \\mu \\omega - \\frac{d}{d y} E_{{x}} + \\frac{d}{d x} E_{{y}}\\end{matrix}\\right]$$"
      ],
      "text/plain": [
       "<IPython.core.display.Math at 0x7faf656fde10>"
      ]
     },
     "metadata": {},
     "output_type": "display_data"
    },
    {
     "data": {
      "text/latex": [
       "$$\\left[\\begin{matrix}- i E_{{x}} \\epsilon \\omega - \\frac{d}{d z} H_{{y}} + \\frac{d}{d y} H_{{z}} & - i E_{{y}} \\epsilon \\omega + \\frac{d}{d z} H_{{x}} - \\frac{d}{d x} H_{{z}} & - i E_{{z}} \\epsilon \\omega - \\frac{d}{d y} H_{{x}} + \\frac{d}{d x} H_{{y}}\\end{matrix}\\right]$$"
      ],
      "text/plain": [
       "<IPython.core.display.Math at 0x7faf5dd40a90>"
      ]
     },
     "metadata": {},
     "output_type": "display_data"
    },
    {
     "data": {
      "text/latex": [
       "$$H_z = \\frac{i}{\\mu \\omega} \\left(- \\frac{d}{d y} E_{{x}} + \\frac{d}{d x} E_{{y}}\\right)$$"
      ],
      "text/plain": [
       "<IPython.core.display.Math at 0x7faf656fde10>"
      ]
     },
     "metadata": {},
     "output_type": "display_data"
    },
    {
     "data": {
      "text/latex": [
       "$$E_z = \\frac{i}{\\epsilon \\omega} \\left(\\frac{d}{d y} H_{{x}} - \\frac{d}{d x} H_{{y}}\\right)$$"
      ],
      "text/plain": [
       "<IPython.core.display.Math at 0x7faf5c100710>"
      ]
     },
     "metadata": {},
     "output_type": "display_data"
    },
    {
     "data": {
      "text/latex": [
       "$$\\left[\\begin{matrix}i \\mu \\omega \\operatorname{H_{{x}}}{\\left (x,y \\right )} e^{- i k z} - \\frac{\\partial}{\\partial z}\\left(\\operatorname{E_{{y}}}{\\left (x,y \\right )} e^{- i k z}\\right) + \\frac{\\partial}{\\partial y}\\left(\\frac{i}{\\epsilon \\omega} \\left(\\frac{\\partial}{\\partial y}\\left(\\operatorname{H_{{x}}}{\\left (x,y \\right )} e^{- i k z}\\right) - \\frac{\\partial}{\\partial x}\\left(\\operatorname{H_{{y}}}{\\left (x,y \\right )} e^{- i k z}\\right)\\right)\\right)\\\\i \\mu \\omega \\operatorname{H_{{y}}}{\\left (x,y \\right )} e^{- i k z} + \\frac{\\partial}{\\partial z}\\left(\\operatorname{E_{{x}}}{\\left (x,y \\right )} e^{- i k z}\\right) - \\frac{\\partial}{\\partial x}\\left(\\frac{i}{\\epsilon \\omega} \\left(\\frac{\\partial}{\\partial y}\\left(\\operatorname{H_{{x}}}{\\left (x,y \\right )} e^{- i k z}\\right) - \\frac{\\partial}{\\partial x}\\left(\\operatorname{H_{{y}}}{\\left (x,y \\right )} e^{- i k z}\\right)\\right)\\right)\\end{matrix}\\right]$$"
      ],
      "text/plain": [
       "<IPython.core.display.Math at 0x7faf5c0bb400>"
      ]
     },
     "metadata": {},
     "output_type": "display_data"
    },
    {
     "data": {
      "text/latex": [
       "$$\\left[\\begin{matrix}- i \\epsilon \\omega \\operatorname{E_{{x}}}{\\left (x,y \\right )} e^{- i k z} - \\frac{\\partial}{\\partial z}\\left(\\operatorname{H_{{y}}}{\\left (x,y \\right )} e^{- i k z}\\right) + \\frac{\\partial}{\\partial y}\\left(\\frac{i}{\\mu \\omega} \\left(- \\frac{\\partial}{\\partial y}\\left(\\operatorname{E_{{x}}}{\\left (x,y \\right )} e^{- i k z}\\right) + \\frac{\\partial}{\\partial x}\\left(\\operatorname{E_{{y}}}{\\left (x,y \\right )} e^{- i k z}\\right)\\right)\\right)\\\\- i \\epsilon \\omega \\operatorname{E_{{y}}}{\\left (x,y \\right )} e^{- i k z} + \\frac{\\partial}{\\partial z}\\left(\\operatorname{H_{{x}}}{\\left (x,y \\right )} e^{- i k z}\\right) - \\frac{\\partial}{\\partial x}\\left(\\frac{i}{\\mu \\omega} \\left(- \\frac{\\partial}{\\partial y}\\left(\\operatorname{E_{{x}}}{\\left (x,y \\right )} e^{- i k z}\\right) + \\frac{\\partial}{\\partial x}\\left(\\operatorname{E_{{y}}}{\\left (x,y \\right )} e^{- i k z}\\right)\\right)\\right)\\end{matrix}\\right]$$"
      ],
      "text/plain": [
       "<IPython.core.display.Math at 0x7faf5c0bb0f0>"
      ]
     },
     "metadata": {},
     "output_type": "display_data"
    },
    {
     "data": {
      "text/latex": [
       "$$MF = \\left[\\begin{matrix}\\frac{i}{\\epsilon \\omega} \\left(\\epsilon \\omega \\left(\\mu \\omega \\operatorname{H_{{x}}}{\\left (x,y \\right )} + k \\operatorname{E_{{y}}}{\\left (x,y \\right )}\\right) + \\frac{\\partial^{2}}{\\partial y^{2}}  \\operatorname{H_{{x}}}{\\left (x,y \\right )} - \\frac{\\partial^{2}}{\\partial x\\partial y}  \\operatorname{H_{{y}}}{\\left (x,y \\right )}\\right)\\\\\\frac{i}{\\epsilon \\omega} \\left(- \\epsilon \\omega \\left(- \\mu \\omega \\operatorname{H_{{y}}}{\\left (x,y \\right )} + k \\operatorname{E_{{x}}}{\\left (x,y \\right )}\\right) - \\frac{\\partial^{2}}{\\partial x\\partial y}  \\operatorname{H_{{x}}}{\\left (x,y \\right )} + \\frac{\\partial^{2}}{\\partial x^{2}}  \\operatorname{H_{{y}}}{\\left (x,y \\right )}\\right)\\end{matrix}\\right]$$"
      ],
      "text/plain": [
       "<IPython.core.display.Math at 0x7faf5c07c3c8>"
      ]
     },
     "metadata": {},
     "output_type": "display_data"
    },
    {
     "data": {
      "text/latex": [
       "$$MA = \\left[\\begin{matrix}\\frac{i}{\\mu \\omega} \\left(- \\mu \\omega \\left(\\epsilon \\omega \\operatorname{E_{{x}}}{\\left (x,y \\right )} - k \\operatorname{H_{{y}}}{\\left (x,y \\right )}\\right) - \\frac{\\partial^{2}}{\\partial y^{2}}  \\operatorname{E_{{x}}}{\\left (x,y \\right )} + \\frac{\\partial^{2}}{\\partial x\\partial y}  \\operatorname{E_{{y}}}{\\left (x,y \\right )}\\right)\\\\\\frac{i}{\\mu \\omega} \\left(- \\mu \\omega \\left(\\epsilon \\omega \\operatorname{E_{{y}}}{\\left (x,y \\right )} + k \\operatorname{H_{{x}}}{\\left (x,y \\right )}\\right) + \\frac{\\partial^{2}}{\\partial x\\partial y}  \\operatorname{E_{{x}}}{\\left (x,y \\right )} - \\frac{\\partial^{2}}{\\partial x^{2}}  \\operatorname{E_{{y}}}{\\left (x,y \\right )}\\right)\\end{matrix}\\right]$$"
      ],
      "text/plain": [
       "<IPython.core.display.Math at 0x7faf5c0d27b8>"
      ]
     },
     "metadata": {},
     "output_type": "display_data"
    },
    {
     "data": {
      "text/plain": [
       "(2, 1)"
      ]
     },
     "execution_count": 1,
     "metadata": {},
     "output_type": "execute_result"
    }
   ],
   "source": [
    "%reload_ext autoreload\n",
    "%autoreload\n",
    "\n",
    "from sympy import *\n",
    "from Electromagnetics.EMEqs_sym import *\n",
    "from IPython.display import display, Math\n",
    "\n",
    "maxwell = MaxwellEqs_r()\n",
    "\n",
    "MF = maxwell.getMaxwellFaraday()\n",
    "MA = maxwell.getMaxwellAmper()\n",
    "\n",
    "MF = MF[0] - MF[1]\n",
    "MA = MA[0] - MA[1]\n",
    "\n",
    "display(Math(latex(MF)))\n",
    "display(Math(latex(MA)))\n",
    "\n",
    "Hz_rep = solve(MF[2], maxwell.Hz)[0]\n",
    "Ez_rep = solve(MA[2], maxwell.Ez)[0]\n",
    "\n",
    "display(Math('H_z = ' + latex(Hz_rep)))\n",
    "display(Math('E_z = ' + latex(Ez_rep)))\n",
    "\n",
    "\n",
    "MF = Matrix([MF[0].subs(maxwell.Ez, Ez_rep), MF[1].subs(maxwell.Ez, Ez_rep)])\n",
    "MA = Matrix([MA[0].subs(maxwell.Hz, Hz_rep), MA[1].subs(maxwell.Hz, Hz_rep)])\n",
    "\n",
    "MFz = maxwell.getZPropEqs(MF)\n",
    "MAz = maxwell.getZPropEqs(MA)\n",
    "\n",
    "display(Math(latex(MFz)))\n",
    "display(Math(latex(MAz)))\n",
    "\n",
    "\n",
    "for i in range(MFz.shape[0]):\n",
    "    for j in range(MFz.shape[1]):\n",
    "        MFz[i,j] = (MFz[i,j].doit()*exp(I*maxwell.k*maxwell.z)).simplify()\n",
    "for i in range(MAz.shape[0]):\n",
    "    for j in range(MAz.shape[1]):\n",
    "        MAz[i,j] = (MAz[i,j].doit()*exp(I*maxwell.k*maxwell.z)).simplify()\n",
    "\n",
    "## MF:maxwell faraday -- MA:maxwell ampere        \n",
    "display(Math('MF = ' + latex(MFz)))\n",
    "display(Math('MA = ' + latex(MAz)))\n",
    "\n",
    "MF.shape\n"
   ]
  },
  {
   "cell_type": "code",
   "execution_count": 2,
   "metadata": {
    "collapsed": false
   },
   "outputs": [
    {
     "data": {
      "text/latex": [
       "$$\\left[\\begin{matrix}i H_{{x}} \\mu \\omega - \\frac{d}{d z} E_{{y}} + \\frac{d}{d y} E_{{z}} & i H_{{y}} \\mu \\omega + \\frac{d}{d z} E_{{x}} - \\frac{d}{d x} E_{{z}} & i H_{{z}} \\mu \\omega - \\frac{d}{d y} E_{{x}} + \\frac{d}{d x} E_{{y}}\\end{matrix}\\right]$$"
      ],
      "text/plain": [
       "<IPython.core.display.Math at 0x7faf5c12ce80>"
      ]
     },
     "metadata": {},
     "output_type": "display_data"
    },
    {
     "data": {
      "text/latex": [
       "$$\\left[\\begin{matrix}- i E_{{x}} \\epsilon \\omega - \\frac{d}{d z} H_{{y}} + \\frac{d}{d y} H_{{z}} & - i E_{{y}} \\epsilon \\omega + \\frac{d}{d z} H_{{x}} - \\frac{d}{d x} H_{{z}} & - i E_{{z}} \\epsilon \\omega - \\frac{d}{d y} H_{{x}} + \\frac{d}{d x} H_{{y}}\\end{matrix}\\right]$$"
      ],
      "text/plain": [
       "<IPython.core.display.Math at 0x7faf5c12ea20>"
      ]
     },
     "metadata": {},
     "output_type": "display_data"
    },
    {
     "data": {
      "text/latex": [
       "$$\\left[\\begin{matrix}i \\mu \\omega \\operatorname{H_{{x}}}{\\left (x,y \\right )} e^{- i k z} - \\frac{\\partial}{\\partial z}\\left(\\operatorname{E_{{y}}}{\\left (x,y \\right )} e^{- i k z}\\right) + \\frac{\\partial}{\\partial y}\\left(\\operatorname{E_{{z}}}{\\left (x,y \\right )} e^{- i k z}\\right) & i \\mu \\omega \\operatorname{H_{{y}}}{\\left (x,y \\right )} e^{- i k z} + \\frac{\\partial}{\\partial z}\\left(\\operatorname{E_{{x}}}{\\left (x,y \\right )} e^{- i k z}\\right) - \\frac{\\partial}{\\partial x}\\left(\\operatorname{E_{{z}}}{\\left (x,y \\right )} e^{- i k z}\\right) & i \\mu \\omega \\operatorname{H_{{z}}}{\\left (x,y \\right )} e^{- i k z} - \\frac{\\partial}{\\partial y}\\left(\\operatorname{E_{{x}}}{\\left (x,y \\right )} e^{- i k z}\\right) + \\frac{\\partial}{\\partial x}\\left(\\operatorname{E_{{y}}}{\\left (x,y \\right )} e^{- i k z}\\right)\\end{matrix}\\right]$$"
      ],
      "text/plain": [
       "<IPython.core.display.Math at 0x7faf5c0bb080>"
      ]
     },
     "metadata": {},
     "output_type": "display_data"
    },
    {
     "data": {
      "text/latex": [
       "$$\\left[\\begin{matrix}- i \\epsilon \\omega \\operatorname{E_{{x}}}{\\left (x,y \\right )} e^{- i k z} - \\frac{\\partial}{\\partial z}\\left(\\operatorname{H_{{y}}}{\\left (x,y \\right )} e^{- i k z}\\right) + \\frac{\\partial}{\\partial y}\\left(\\operatorname{H_{{z}}}{\\left (x,y \\right )} e^{- i k z}\\right) & - i \\epsilon \\omega \\operatorname{E_{{y}}}{\\left (x,y \\right )} e^{- i k z} + \\frac{\\partial}{\\partial z}\\left(\\operatorname{H_{{x}}}{\\left (x,y \\right )} e^{- i k z}\\right) - \\frac{\\partial}{\\partial x}\\left(\\operatorname{H_{{z}}}{\\left (x,y \\right )} e^{- i k z}\\right) & - i \\epsilon \\omega \\operatorname{E_{{z}}}{\\left (x,y \\right )} e^{- i k z} - \\frac{\\partial}{\\partial y}\\left(\\operatorname{H_{{x}}}{\\left (x,y \\right )} e^{- i k z}\\right) + \\frac{\\partial}{\\partial x}\\left(\\operatorname{H_{{y}}}{\\left (x,y \\right )} e^{- i k z}\\right)\\end{matrix}\\right]$$"
      ],
      "text/plain": [
       "<IPython.core.display.Math at 0x7faf5c18d9e8>"
      ]
     },
     "metadata": {},
     "output_type": "display_data"
    },
    {
     "data": {
      "text/latex": [
       "$$MF = \\left[\\begin{matrix}i \\mu \\omega \\operatorname{H_{{x}}}{\\left (x,y \\right )} + i k \\operatorname{E_{{y}}}{\\left (x,y \\right )} + \\frac{\\partial}{\\partial y} \\operatorname{E_{{z}}}{\\left (x,y \\right )}\\\\i \\mu \\omega \\operatorname{H_{{y}}}{\\left (x,y \\right )} - i k \\operatorname{E_{{x}}}{\\left (x,y \\right )} - \\frac{\\partial}{\\partial x} \\operatorname{E_{{z}}}{\\left (x,y \\right )}\\\\i \\mu \\omega \\operatorname{H_{{z}}}{\\left (x,y \\right )} - \\frac{\\partial}{\\partial y} \\operatorname{E_{{x}}}{\\left (x,y \\right )} + \\frac{\\partial}{\\partial x} \\operatorname{E_{{y}}}{\\left (x,y \\right )}\\end{matrix}\\right]$$"
      ],
      "text/plain": [
       "<IPython.core.display.Math at 0x7faf5c06cf98>"
      ]
     },
     "metadata": {},
     "output_type": "display_data"
    },
    {
     "data": {
      "text/latex": [
       "$$MA = \\left[\\begin{matrix}- i \\epsilon \\omega \\operatorname{E_{{x}}}{\\left (x,y \\right )} + i k \\operatorname{H_{{y}}}{\\left (x,y \\right )} + \\frac{\\partial}{\\partial y} \\operatorname{H_{{z}}}{\\left (x,y \\right )}\\\\- i \\epsilon \\omega \\operatorname{E_{{y}}}{\\left (x,y \\right )} - i k \\operatorname{H_{{x}}}{\\left (x,y \\right )} - \\frac{\\partial}{\\partial x} \\operatorname{H_{{z}}}{\\left (x,y \\right )}\\\\- i \\epsilon \\omega \\operatorname{E_{{z}}}{\\left (x,y \\right )} - \\frac{\\partial}{\\partial y} \\operatorname{H_{{x}}}{\\left (x,y \\right )} + \\frac{\\partial}{\\partial x} \\operatorname{H_{{y}}}{\\left (x,y \\right )}\\end{matrix}\\right]$$"
      ],
      "text/plain": [
       "<IPython.core.display.Math at 0x7faf5c06ca20>"
      ]
     },
     "metadata": {},
     "output_type": "display_data"
    },
    {
     "data": {
      "text/latex": [
       "$$MF = \\left[\\begin{matrix}i E_{{y}} k + i H_{{x}} \\mu \\omega + \\frac{d}{d y} E_{{z}}\\\\- i E_{{x}} k + i H_{{y}} \\mu \\omega - \\frac{d}{d x} E_{{z}}\\\\i H_{{z}} \\mu \\omega - \\frac{d}{d y} E_{{x}} + \\frac{d}{d x} E_{{y}}\\end{matrix}\\right]$$"
      ],
      "text/plain": [
       "<IPython.core.display.Math at 0x7faf5c072cc0>"
      ]
     },
     "metadata": {},
     "output_type": "display_data"
    },
    {
     "data": {
      "text/latex": [
       "$$MA = \\left[\\begin{matrix}- i E_{{x}} \\epsilon \\omega + i H_{{y}} k + \\frac{d}{d y} H_{{z}}\\\\- i E_{{y}} \\epsilon \\omega - i H_{{x}} k - \\frac{d}{d x} H_{{z}}\\\\- i E_{{z}} \\epsilon \\omega - \\frac{d}{d y} H_{{x}} + \\frac{d}{d x} H_{{y}}\\end{matrix}\\right]$$"
      ],
      "text/plain": [
       "<IPython.core.display.Math at 0x7faf5c12ea20>"
      ]
     },
     "metadata": {},
     "output_type": "display_data"
    },
    {
     "name": "stdout",
     "output_type": "stream",
     "text": [
      "normalizing to k_0\n"
     ]
    },
    {
     "data": {
      "text/latex": [
       "$$MF = \\left[\\begin{matrix}\\frac{1}{k_{0}} \\left(- E_{{y}} k - H_{{x}} \\mu \\omega + i \\frac{d}{d y} E_{{z}}\\right)\\\\\\frac{1}{k_{0}} \\left(- E_{{x}} k + H_{{y}} \\mu \\omega + i \\frac{d}{d x} E_{{z}}\\right)\\\\i H_{{z}} \\mu \\omega - \\frac{d}{d y} E_{{x}} + \\frac{d}{d x} E_{{y}}\\end{matrix}\\right]$$"
      ],
      "text/plain": [
       "<IPython.core.display.Math at 0x7faf5c18d9e8>"
      ]
     },
     "metadata": {},
     "output_type": "display_data"
    },
    {
     "data": {
      "text/latex": [
       "$$MA = \\left[\\begin{matrix}\\frac{1}{k_{0}} \\left(E_{{x}} \\epsilon \\omega - H_{{y}} k + i \\frac{d}{d y} H_{{z}}\\right)\\\\\\frac{1}{k_{0}} \\left(- E_{{y}} \\epsilon \\omega - H_{{x}} k + i \\frac{d}{d x} H_{{z}}\\right)\\\\- i E_{{z}} \\epsilon \\omega - \\frac{d}{d y} H_{{x}} + \\frac{d}{d x} H_{{y}}\\end{matrix}\\right]$$"
      ],
      "text/plain": [
       "<IPython.core.display.Math at 0x7faf5c12ea20>"
      ]
     },
     "metadata": {},
     "output_type": "display_data"
    },
    {
     "data": {
      "text/latex": [
       "$$MF = \\left[\\begin{matrix}\\frac{1}{k_{0}} \\left(- H_{{x}} \\mu \\omega + i \\frac{d}{d y} E_{{z}}\\right)\\\\\\frac{1}{k_{0}} \\left(H_{{y}} \\mu \\omega + i \\frac{d}{d x} E_{{z}}\\right)\\\\i H_{{z}} \\mu \\omega - \\frac{d}{d y} E_{{x}} + \\frac{d}{d x} E_{{y}}\\end{matrix}\\right]$$"
      ],
      "text/plain": [
       "<IPython.core.display.Math at 0x7faf5c072240>"
      ]
     },
     "metadata": {},
     "output_type": "display_data"
    },
    {
     "data": {
      "text/latex": [
       "$$MA = \\left[\\begin{matrix}\\frac{1}{k_{0}} \\left(E_{{x}} \\epsilon \\omega + i \\frac{d}{d y} H_{{z}}\\right)\\\\\\frac{1}{k_{0}} \\left(- E_{{y}} \\epsilon \\omega + i \\frac{d}{d x} H_{{z}}\\right)\\\\- i E_{{z}} \\epsilon \\omega - \\frac{d}{d y} H_{{x}} + \\frac{d}{d x} H_{{y}}\\end{matrix}\\right]$$"
      ],
      "text/plain": [
       "<IPython.core.display.Math at 0x7faf5c12ea20>"
      ]
     },
     "metadata": {},
     "output_type": "display_data"
    },
    {
     "data": {
      "text/latex": [
       "$$Eqs = \\left[\\begin{matrix}\\frac{1}{k_{0}} \\left(H_{{y}} \\mu \\omega + i \\frac{d}{d x} E_{{z}}\\right)\\\\\\frac{1}{k_{0}} \\left(- H_{{x}} \\mu \\omega + i \\frac{d}{d y} E_{{z}}\\right)\\\\\\frac{1}{k_{0}} \\left(- E_{{y}} \\epsilon \\omega + i \\frac{d}{d x} H_{{z}}\\right)\\\\\\frac{1}{k_{0}} \\left(E_{{x}} \\epsilon \\omega + i \\frac{d}{d y} H_{{z}}\\right)\\\\- i E_{{z}} \\epsilon \\omega - \\frac{d}{d y} H_{{x}} + \\frac{d}{d x} H_{{y}}\\\\i H_{{z}} \\mu \\omega - \\frac{d}{d y} E_{{x}} + \\frac{d}{d x} E_{{y}}\\end{matrix}\\right]$$"
      ],
      "text/plain": [
       "<IPython.core.display.Math at 0x7faf5c12ea20>"
      ]
     },
     "metadata": {},
     "output_type": "display_data"
    },
    {
     "data": {
      "text/latex": [
       "$$Eqs1 = \\left[\\begin{matrix}376.730313461771 H_{{y}} + 0.0318089677282463 i \\frac{d}{d x} E_{{z}}\\\\- 376.730313461771 H_{{x}} + 0.0318089677282463 i \\frac{d}{d y} E_{{z}}\\\\- 0.00265441872943807 E_{{y}} + 0.0318089677282463 i \\frac{d}{d x} H_{{z}}\\\\0.00265441872943807 E_{{x}} + 0.0318089677282463 i \\frac{d}{d y} H_{{z}}\\\\- 0.0834487542040214 i E_{{z}} - \\frac{d}{d y} H_{{x}} + \\frac{d}{d x} H_{{y}}\\\\11843.5252813072 i H_{{z}} - \\frac{d}{d y} E_{{x}} + \\frac{d}{d x} E_{{y}}\\end{matrix}\\right]$$"
      ],
      "text/plain": [
       "<IPython.core.display.Math at 0x7faf3ce5f630>"
      ]
     },
     "metadata": {},
     "output_type": "display_data"
    },
    {
     "name": "stdout",
     "output_type": "stream",
     "text": [
      "Add(Mul(Float('376.73031346177066', prec=15), Symbol('H_{y}')), Mul(Float('0.031808967728246283', prec=15), I, Derivative(Symbol('E_{z}'), Symbol('x'))))\n"
     ]
    },
    {
     "data": {
      "text/latex": [
       "$$Eqs2 = \\left[\\begin{matrix}376.730313461771 H_{{y}} + 0.0318089677282463 i \\frac{d}{d x} E_{{z}}\\\\- 376.730313461771 H_{{x}} + 0.0318089677282463 i \\frac{d}{d y} E_{{z}}\\\\- 0.0238897685649426 E_{{y}} + 0.0318089677282463 i \\frac{d}{d x} H_{{z}}\\\\0.0238897685649426 E_{{x}} + 0.0318089677282463 i \\frac{d}{d y} H_{{z}}\\\\- 0.751038787836192 i E_{{z}} - \\frac{d}{d y} H_{{x}} + \\frac{d}{d x} H_{{y}}\\\\11843.5252813072 i H_{{z}} - \\frac{d}{d y} E_{{x}} + \\frac{d}{d x} E_{{y}}\\end{matrix}\\right]$$"
      ],
      "text/plain": [
       "<IPython.core.display.Math at 0x7faf3ce5f5f8>"
      ]
     },
     "metadata": {},
     "output_type": "display_data"
    },
    {
     "data": {
      "text/latex": [
       "$$Vars = \\left[\\begin{matrix}E_{{x}}\\\\E_{{y}}\\\\H_{{x}}\\\\H_{{y}}\\\\E_{{z}}\\\\H_{{z}}\\end{matrix}\\right]$$"
      ],
      "text/plain": [
       "<IPython.core.display.Math at 0x7faf3ce5f5f8>"
      ]
     },
     "metadata": {},
     "output_type": "display_data"
    }
   ],
   "source": [
    "%reload_ext autoreload\n",
    "%autoreload\n",
    "\n",
    "from Electromagnetics.EMEqs_sym import *\n",
    "from IPython.display import display, Math\n",
    "from sympy import *\n",
    "\n",
    "maxwell = MaxwellEqs_r()\n",
    "\n",
    "MF = maxwell.getMaxwellFaraday()\n",
    "MA = maxwell.getMaxwellAmper()\n",
    "\n",
    "MF = MF[0] - MF[1]\n",
    "MA = MA[0] - MA[1]\n",
    "\n",
    "display(Math(latex(MF)))\n",
    "display(Math(latex(MA)))\n",
    "\n",
    "\n",
    "MFz = maxwell.getZPropEqs(MF)\n",
    "MAz = maxwell.getZPropEqs(MA)\n",
    "\n",
    "display(Math(latex(MFz)))\n",
    "display(Math(latex(MAz)))\n",
    "\n",
    "\n",
    "for i in range(MFz.shape[0]):\n",
    "    for j in range(MFz.shape[1]):\n",
    "        MFz[i,j] = (MFz[i,j].doit()*exp(I*maxwell.k*maxwell.z)).simplify()\n",
    "for i in range(MAz.shape[0]):\n",
    "    for j in range(MAz.shape[1]):\n",
    "        MAz[i,j] = (MAz[i,j].doit()*exp(I*maxwell.k*maxwell.z)).simplify()\n",
    "\n",
    "## MF:maxwell faraday -- MA:maxwell ampere        \n",
    "display(Math('MF = ' + latex(MFz.T)))\n",
    "display(Math('MA = ' + latex(MAz.T)))\n",
    "\n",
    "MFz = maxwell.ZPropEqs_ReplFunBySym(MFz)\n",
    "MAz = maxwell.ZPropEqs_ReplFunBySym(MAz)\n",
    "display(Math('MF = ' + latex(MFz.T)))\n",
    "display(Math('MA = ' + latex(MAz.T)))\n",
    "\n",
    "k_0 = Symbol('k_0')\n",
    "print('normalizing to k_0')\n",
    "MFz[0] = (MFz[0]/(-I*k_0)).simplify()\n",
    "MFz[1] = (MFz[1]/(I*k_0)).simplify()\n",
    "MAz[0] = (MAz[0]/(-I*k_0)).simplify()\n",
    "MAz[1] = (MAz[1]/(I*k_0)).simplify()\n",
    "display(Math('MF = ' + latex(MFz.T)))\n",
    "display(Math('MA = ' + latex(MAz.T)))\n",
    "\n",
    "\n",
    "MFz = MFz.subs(maxwell.k, 0)\n",
    "MAz = MAz.subs(maxwell.k, 0)\n",
    "display(Math('MF = ' + latex(MFz.T)))\n",
    "display(Math('MA = ' + latex(MAz.T)))\n",
    "\n",
    "Eqs = [MFz[1], MFz[0], MAz[1], MAz[0], MAz[2], MFz[2]]\n",
    "display(Math('Eqs = ' + latex(Matrix(Eqs))))\n",
    "\n",
    "from scipy import constants\n",
    "import math\n",
    "freq = 1.5*constants.giga\n",
    "omega_0 = 2.0*math.pi*freq\n",
    "eps_0 = constants.epsilon_0\n",
    "mu_0 = constants.mu_0\n",
    "eps_r = 9.0\n",
    "mu_r = 1.0\n",
    "k_0_val = omega_0*sqrt(mu_0*eps_0)\n",
    "\n",
    "Eqs1 = [Eqs[i].subs([(maxwell.mu, mu_0), (maxwell.eps, eps_0), (maxwell.omega, omega_0), (k_0, k_0_val)]) for i in range(len(Eqs))]\n",
    "display(Math('Eqs1 = ' + latex(Matrix(Eqs1))))\n",
    "\n",
    "print(srepr(Eqs1[0]))\n",
    "\n",
    "Eqs2 = [Eqs[i].subs([(maxwell.mu, mu_r*mu_0), (maxwell.eps, eps_r*eps_0), (maxwell.omega, omega_0), (k_0, k_0_val)]) for i in range(len(Eqs))]\n",
    "display(Math('Eqs2 = ' + latex(Matrix(Eqs2))))\n",
    "\n",
    "\n",
    "var_list = [maxwell.Ex, maxwell.Ey, maxwell.Hx, maxwell.Hy, maxwell.Ez, maxwell.Hz]\n",
    "display(Math('Vars = ' + latex(Matrix(var_list))))\n",
    "\n"
   ]
  },
  {
   "cell_type": "code",
   "execution_count": 3,
   "metadata": {
    "collapsed": false
   },
   "outputs": [
    {
     "name": "stdout",
     "output_type": "stream",
     "text": [
      "disintegrating equations\n"
     ]
    },
    {
     "data": {
      "text/latex": [
       "$$Eqs_b[0] = \\left[\\begin{matrix}\\frac{H_{{y}} \\mu}{k_{0}} \\omega & \\frac{i}{k_{0}} \\frac{d}{d x} E_{{z}}\\end{matrix}\\right]$$"
      ],
      "text/plain": [
       "<IPython.core.display.Math at 0x7faf3cea6f60>"
      ]
     },
     "metadata": {},
     "output_type": "display_data"
    },
    {
     "data": {
      "text/latex": [
       "$$Eqs_b[1] = \\left[\\begin{matrix}- \\frac{H_{{x}} \\mu}{k_{0}} \\omega & \\frac{i}{k_{0}} \\frac{d}{d y} E_{{z}}\\end{matrix}\\right]$$"
      ],
      "text/plain": [
       "<IPython.core.display.Math at 0x7faf3cea6f98>"
      ]
     },
     "metadata": {},
     "output_type": "display_data"
    },
    {
     "data": {
      "text/latex": [
       "$$Eqs_b[2] = \\left[\\begin{matrix}- \\frac{E_{{y}} \\epsilon}{k_{0}} \\omega & \\frac{i}{k_{0}} \\frac{d}{d x} H_{{z}}\\end{matrix}\\right]$$"
      ],
      "text/plain": [
       "<IPython.core.display.Math at 0x7faf3cea6f60>"
      ]
     },
     "metadata": {},
     "output_type": "display_data"
    },
    {
     "data": {
      "text/latex": [
       "$$Eqs_b[3] = \\left[\\begin{matrix}\\frac{E_{{x}} \\epsilon}{k_{0}} \\omega & \\frac{i}{k_{0}} \\frac{d}{d y} H_{{z}}\\end{matrix}\\right]$$"
      ],
      "text/plain": [
       "<IPython.core.display.Math at 0x7faf3cea6f98>"
      ]
     },
     "metadata": {},
     "output_type": "display_data"
    },
    {
     "data": {
      "text/latex": [
       "$$Eqs_b[4] = \\left[\\begin{matrix}- i E_{{z}} \\epsilon \\omega & - \\frac{d}{d y} H_{{x}} & \\frac{d}{d x} H_{{y}}\\end{matrix}\\right]$$"
      ],
      "text/plain": [
       "<IPython.core.display.Math at 0x7faf3cea6f60>"
      ]
     },
     "metadata": {},
     "output_type": "display_data"
    },
    {
     "data": {
      "text/latex": [
       "$$Eqs_b[5] = \\left[\\begin{matrix}i H_{{z}} \\mu \\omega & - \\frac{d}{d y} E_{{x}} & \\frac{d}{d x} E_{{y}}\\end{matrix}\\right]$$"
      ],
      "text/plain": [
       "<IPython.core.display.Math at 0x7faf3cea6f98>"
      ]
     },
     "metadata": {},
     "output_type": "display_data"
    },
    {
     "name": "stdout",
     "output_type": "stream",
     "text": [
      "Eq1 boundary equations \n"
     ]
    },
    {
     "data": {
      "text/latex": [
       "$$EQs1_b[0] = \\left[\\begin{matrix}376.730313461771 H_{{y}} & 0.0318089677282463 i \\frac{d}{d x} E_{{z}}\\end{matrix}\\right]$$"
      ],
      "text/plain": [
       "<IPython.core.display.Math at 0x7faf3cb78eb8>"
      ]
     },
     "metadata": {},
     "output_type": "display_data"
    },
    {
     "data": {
      "text/latex": [
       "$$EQs1_b[1] = \\left[\\begin{matrix}- 376.730313461771 H_{{x}} & 0.0318089677282463 i \\frac{d}{d y} E_{{z}}\\end{matrix}\\right]$$"
      ],
      "text/plain": [
       "<IPython.core.display.Math at 0x7faf3cb78f28>"
      ]
     },
     "metadata": {},
     "output_type": "display_data"
    },
    {
     "data": {
      "text/latex": [
       "$$EQs1_b[2] = \\left[\\begin{matrix}- 0.00265441872943807 E_{{y}} & 0.0318089677282463 i \\frac{d}{d x} H_{{z}}\\end{matrix}\\right]$$"
      ],
      "text/plain": [
       "<IPython.core.display.Math at 0x7faf3cb78eb8>"
      ]
     },
     "metadata": {},
     "output_type": "display_data"
    },
    {
     "data": {
      "text/latex": [
       "$$EQs1_b[3] = \\left[\\begin{matrix}0.00265441872943807 E_{{x}} & 0.0318089677282463 i \\frac{d}{d y} H_{{z}}\\end{matrix}\\right]$$"
      ],
      "text/plain": [
       "<IPython.core.display.Math at 0x7faf3cb78f28>"
      ]
     },
     "metadata": {},
     "output_type": "display_data"
    },
    {
     "data": {
      "text/latex": [
       "$$EQs1_b[4] = \\left[\\begin{matrix}- 0.0834487542040214 i E_{{z}} & - \\frac{d}{d y} H_{{x}} & \\frac{d}{d x} H_{{y}}\\end{matrix}\\right]$$"
      ],
      "text/plain": [
       "<IPython.core.display.Math at 0x7faf3cb78eb8>"
      ]
     },
     "metadata": {},
     "output_type": "display_data"
    },
    {
     "data": {
      "text/latex": [
       "$$EQs1_b[5] = \\left[\\begin{matrix}11843.5252813072 i H_{{z}} & - \\frac{d}{d y} E_{{x}} & \\frac{d}{d x} E_{{y}}\\end{matrix}\\right]$$"
      ],
      "text/plain": [
       "<IPython.core.display.Math at 0x7faf3cb78f28>"
      ]
     },
     "metadata": {},
     "output_type": "display_data"
    },
    {
     "name": "stdout",
     "output_type": "stream",
     "text": [
      "Eq2 boundary equations \n"
     ]
    },
    {
     "data": {
      "text/latex": [
       "$$Eqs2_b[0] = \\left[\\begin{matrix}376.730313461771 H_{{y}} & 0.0318089677282463 i \\frac{d}{d x} E_{{z}}\\end{matrix}\\right]$$"
      ],
      "text/plain": [
       "<IPython.core.display.Math at 0x7faf3cb78e80>"
      ]
     },
     "metadata": {},
     "output_type": "display_data"
    },
    {
     "data": {
      "text/latex": [
       "$$Eqs2_b[1] = \\left[\\begin{matrix}- 376.730313461771 H_{{x}} & 0.0318089677282463 i \\frac{d}{d y} E_{{z}}\\end{matrix}\\right]$$"
      ],
      "text/plain": [
       "<IPython.core.display.Math at 0x7faf3cb78e80>"
      ]
     },
     "metadata": {},
     "output_type": "display_data"
    },
    {
     "data": {
      "text/latex": [
       "$$Eqs2_b[2] = \\left[\\begin{matrix}- 0.0238897685649426 E_{{y}} & 0.0318089677282463 i \\frac{d}{d x} H_{{z}}\\end{matrix}\\right]$$"
      ],
      "text/plain": [
       "<IPython.core.display.Math at 0x7faf3cb78e80>"
      ]
     },
     "metadata": {},
     "output_type": "display_data"
    },
    {
     "data": {
      "text/latex": [
       "$$Eqs2_b[3] = \\left[\\begin{matrix}0.0238897685649426 E_{{x}} & 0.0318089677282463 i \\frac{d}{d y} H_{{z}}\\end{matrix}\\right]$$"
      ],
      "text/plain": [
       "<IPython.core.display.Math at 0x7faf3cb78e80>"
      ]
     },
     "metadata": {},
     "output_type": "display_data"
    },
    {
     "data": {
      "text/latex": [
       "$$Eqs2_b[4] = \\left[\\begin{matrix}- 0.751038787836192 i E_{{z}} & - \\frac{d}{d y} H_{{x}} & \\frac{d}{d x} H_{{y}}\\end{matrix}\\right]$$"
      ],
      "text/plain": [
       "<IPython.core.display.Math at 0x7faf3cb78e80>"
      ]
     },
     "metadata": {},
     "output_type": "display_data"
    },
    {
     "data": {
      "text/latex": [
       "$$Eqs2_b[5] = \\left[\\begin{matrix}11843.5252813072 i H_{{z}} & - \\frac{d}{d y} E_{{x}} & \\frac{d}{d x} E_{{y}}\\end{matrix}\\right]$$"
      ],
      "text/plain": [
       "<IPython.core.display.Math at 0x7faf3cb78e80>"
      ]
     },
     "metadata": {},
     "output_type": "display_data"
    }
   ],
   "source": [
    "print('disintegrating equations')\n",
    "Eqs_b = [[Eqs[0].subs(maxwell.Ez, 0).doit().simplify(), Eqs[0].subs(maxwell.Hy, 0).simplify()],\n",
    "             [Eqs[1].subs(maxwell.Ez, 0).doit().simplify(), Eqs[1].subs(maxwell.Hx, 0).simplify()],\n",
    "             [Eqs[2].subs(maxwell.Hz, 0).doit().simplify(), Eqs[2].subs(maxwell.Ey, 0).simplify()],\n",
    "             [Eqs[3].subs(maxwell.Hz, 0).doit().simplify(), Eqs[3].subs(maxwell.Ex, 0).simplify()],\n",
    "             [Eqs[4].subs([(maxwell.Hx, 0), (maxwell.Hy, 0)]).doit().simplify(), Eqs[4].subs([(maxwell.Ez, 0), (maxwell.Hy, 0)]).subs(Derivative(0, maxwell.x), 0).simplify(), Eqs[4].subs([(maxwell.Ez, 0), (maxwell.Hx, 0)]).subs(Derivative(0, maxwell.y), 0).simplify()],\n",
    "             [Eqs[5].subs([(maxwell.Ex, 0), (maxwell.Ey, 0)]).doit().simplify(), Eqs[5].subs([(maxwell.Hz, 0), (maxwell.Ey, 0)]).subs(Derivative(0, maxwell.x), 0).simplify(), Eqs[5].subs([(maxwell.Hz, 0), (maxwell.Ex, 0)]).subs(Derivative(0, maxwell.y), 0).simplify()]]\n",
    "for i in range(len(Eqs_b)):\n",
    "    display(Math('Eqs_b[{}] = '.format(i) + latex(Matrix(Eqs_b[i]).T)))\n",
    "\n",
    "print('Eq1 boundary equations ')\n",
    "Eqs1_b = [[Eqs_b[i][j].subs([(maxwell.mu, mu_0), (maxwell.eps, eps_0), (maxwell.omega, omega_0), (k_0, k_0_val)]) for j in range(len(Eqs_b[i]))] for i in range(len(Eqs_b))]\n",
    "for i in range(len(Eqs1_b)):\n",
    "    display(Math('EQs1_b[{}] = '.format(i) + latex(Matrix(Eqs1_b[i]).T)))\n",
    "\n",
    "print('Eq2 boundary equations ')\n",
    "Eqs2_b = [[Eqs_b[i][j].subs([(maxwell.mu, mu_r*mu_0), (maxwell.eps, eps_r*eps_0), (maxwell.omega, omega_0), (k_0, k_0_val)]) for j in range(len(Eqs_b[i]))] for i in range(len(Eqs_b))]\n",
    "for i in range(len(Eqs2_b)):\n",
    "    display(Math('Eqs2_b[{}] = '.format(i) + latex(Matrix(Eqs2_b[i]).T)))\n"
   ]
  },
  {
   "cell_type": "code",
   "execution_count": 4,
   "metadata": {
    "collapsed": false
   },
   "outputs": [
    {
     "name": "stdout",
     "output_type": "stream",
     "text": [
      "cells_in_extended:  [0, 1, 2, 3, 4, 5, 6, 7, 8, 9, 10, 11, 12, 13, 14, 15, 16, 17, 18, 19, 20, 21, 22, 23, 24, 25, 26, 27, 28, 29, 30, 31, 32, 33, 34, 35, 36, 37, 38, 39, 40, 41, 42, 43, 44, 45, 46, 47, 48, 49, 50, 51, 52, 53, 54, 55, 56, 57, 58, 59, 60, 61, 62, 63, 64, 65, 66, 67, 68, 69, 70, 71, 72, 73, 74, 75, 76, 77, 78, 79, 80, 81, 82, 83, 84, 85, 86, 87, 88, 89, 90, 91, 92, 93, 94, 95, 96, 97, 98, 99]\n",
      "cells_in_extended:  [259, 260, 261, 262, 263, 264, 265, 266, 267, 268, 269, 270, 23, 24, 25, 26, 33, 34, 35, 36, 293, 294, 295, 296, 297, 298, 43, 300, 45, 46, 44, 53, 54, 55, 56, 63, 320, 65, 66, 323, 326, 73, 74, 75, 76, 290, 299, 64, 237, 169, 170, 171, 172, 173, 174, 175, 176, 177, 178, 179, 180, 329, 199, 200, 201, 202, 203, 204, 205, 206, 207, 208, 209, 210, 291, 292, 229, 230, 231, 232, 233, 234, 235, 236, 289, 238, 239, 240]\n",
      "cells_in_extended:  [325, 321, 322, 324, 327, 328, 330, 319, 512, 513, 514, 515, 516, 517, 518, 519, 520, 521, 522, 524, 525, 526, 527, 528, 529, 530, 531, 532, 533, 534, 535, 536, 537, 538, 541, 542, 543, 544, 545, 34, 35, 36, 549, 550, 552, 553, 554, 555, 44, 45, 46, 559, 561, 562, 563, 564, 565, 54, 55, 56, 570, 571, 572, 573, 574, 575, 64, 65, 66, 580, 583, 74, 75, 76, 589, 590, 591, 592, 593, 594, 595, 596, 597, 598, 599, 600, 601, 602, 603, 604, 605, 606, 607, 546, 609, 610, 611, 612, 613, 614, 615, 616, 619, 622, 623, 624, 625, 626, 627, 629, 630, 631, 632, 633, 634, 635, 636, 637, 638, 639, 640, 641, 642, 643, 644, 645, 646, 647, 648, 649, 650, 651, 653, 654, 655, 656, 657, 658, 661, 171, 172, 174, 175, 177, 178, 180, 200, 201, 202, 203, 204, 205, 206, 207, 208, 209, 210, 548, 587, 230, 231, 232, 233, 234, 235, 236, 237, 238, 239, 240, 588, 260, 261, 262, 263, 264, 265, 266, 267, 268, 269, 270, 557, 558, 290, 291, 292, 293, 294, 295, 296, 297, 298, 299, 300, 556, 320, 323, 566, 326, 329, 567, 568, 608, 576, 577, 401, 402, 403, 404, 405, 406, 407, 408, 409, 410, 411, 412, 413, 414, 415, 416, 417, 418, 419, 420, 421, 422, 423, 424, 425, 426, 427, 428, 429, 430, 433, 438, 439, 441, 442, 444, 445, 447, 449, 450, 451, 452, 453, 454, 455, 456, 457, 458, 459, 460, 461, 462, 463, 464, 465, 466, 467, 468, 469, 470, 471, 472, 473, 474, 475, 476, 477, 479, 480, 481, 484, 485, 486, 487, 488, 489, 490, 491, 492, 494, 495, 496, 497, 498, 499, 500, 501, 502, 503, 504, 506, 507, 508, 509, 510, 511]\n",
      "cells_in_extended:  [257, 47, 57, 37, 27, 167, 198, 211, 227, 228, 271, 67, 287, 288, 197, 301, 317, 258, 241, 181, 77, 168, 523, 686, 539, 33, 547, 43, 53, 581, 584, 586, 617, 620, 628, 618, 652, 621, 659, 663, 665, 668, 671, 674, 677, 585, 680, 169, 199, 229, 259, 540, 289, 322, 324, 325, 327, 328, 330, 482, 660, 63, 662, 321, 400, 579, 582, 431, 432, 434, 435, 436, 73, 448, 478, 483, 493, 505, 524, 525, 1552, 1555, 1558, 1560, 1564, 1566, 548, 549, 1063, 554, 557, 563, 1076, 566, 1079, 1080, 1082, 572, 1085, 735, 575, 1088, 1091, 1094, 1097, 587, 588, 1101, 1060, 1130, 1131, 1133, 1134, 1135, 1136, 1384, 1138, 629, 630, 1386, 1387, 653, 654, 1169, 1170, 1172, 1173, 1174, 171, 172, 174, 175, 177, 178, 180, 1205, 1206, 969, 1208, 1209, 1211, 703, 705, 971, 709, 712, 714, 718, 720, 721, 724, 726, 727, 729, 1244, 1245, 1247, 1248, 738, 742, 744, 745, 1259, 751, 1265, 1266, 1270, 1272, 764, 765, 1279, 1281, 1282, 1285, 790, 793, 795, 796, 798, 803, 711, 733, 817, 819, 820, 822, 991, 1077, 736, 844, 846, 851, 1370, 1371, 860, 1373, 1374, 1375, 1377, 1378, 827, 1380, 1381, 1383, 872, 873, 874, 875, 876, 1389, 1390, 1392, 1393, 1395, 1396, 1399, 747, 401, 402, 495, 753, 449, 450, 968, 1100, 1483, 972, 1486, 1490, 1491, 479, 480, 994, 494, 1519, 1522, 506, 507]\n",
      "cells_in_extended:  [318, 331, 683, 319, 1061, 1062, 1065, 1078, 1099, 1132, 1168, 1171, 1207, 209, 210, 1064, 239, 240, 723, 1283, 1284, 1286, 1287, 269, 270, 1243, 299, 300, 1075, 1246, 321, 322, 1204, 324, 325, 327, 328, 329, 330, 1369, 1372, 1397, 1398, 1400, 1401, 661, 1264, 430, 433, 1484, 1485, 1488, 1489, 481, 1520, 1521, 1523, 1524, 1176, 1553, 1554, 1556, 1557, 538, 580, 583, 616, 619, 1640, 1129, 791, 792, 658, 665, 1691, 668, 1694, 671, 1697, 674, 1700, 677, 1137, 680, 967, 1709, 686, 1139, 1140, 1730, 1733, 1736, 1739, 1742, 1745, 722, 725, 1487, 1760, 763, 871, 992, 1175, 995, 970, 993, 996, 1703, 2049, 2050, 2052, 2053, 2055, 2057, 2059, 2061, 2062, 2065, 2068, 174, 2070, 2071, 2073, 2074, 175, 2077, 2080, 2082, 2083, 2087, 2088, 2090, 2091, 2093, 2094, 2095, 2097, 2098, 172, 1076, 1077, 2103, 1080, 180, 1082, 2108, 1085, 2110, 2229, 1088, 2113, 1091, 2116, 1206, 1094, 2119, 1097, 2122, 1100, 1101, 2127, 2129, 2130, 2131, 2134, 2136, 2137, 2139, 2140, 2142, 2144, 2146, 1211, 2149, 2153, 1130, 1131, 1133, 1134, 1136, 872, 2163, 2164, 2166, 2167, 2169, 2171, 2173, 2175, 2176, 2178, 2179, 2181, 2182, 2185, 2188, 2190, 2191, 1169, 1170, 1172, 1173, 2199, 2200, 2202, 2203, 2205, 2206, 2208, 2209, 2211, 2213, 2214, 2216, 2217, 2218, 171, 2220, 2222, 2223, 177, 178, 2228, 1205, 2230, 1208, 1209, 2234, 2235, 2237, 2238, 2239, 2242, 2246, 2247, 2248, 2252, 2253, 2254, 2261, 2262, 2264, 2265, 2267, 2268, 1245, 2270, 2271, 1248, 2273, 2274, 2276, 2277, 2257, 2280, 2282, 2283, 1265, 1266, 2225, 1373, 2226, 1244, 2100, 1247, 2101, 1079, 2104, 1370, 1371, 2106, 1374, 2279, 2112, 1259, 2115, 2118, 2121, 2197, 2124, 2125, 1490, 1491, 2232, 972, 554, 557, 563, 566, 572, 575, 873, 2155, 2158, 1993, 1995, 876, 803, 764, 765, 1805, 1806, 1808, 1809, 1811, 1812, 1814, 1815, 1816, 1818, 1819, 1821, 1822, 1824, 1825, 1827, 1829, 1830, 1832, 1833, 1835, 1836, 1838, 1841, 1844, 1846, 1850, 827, 1852, 1855, 1859, 1862, 1865, 1867, 1869, 1871, 1874, 851, 1877, 1880, 1883, 860, 1886, 1887, 1889, 1890, 1891, 1895, 1896, 1897, 875, 1900, 2194, 1903, 1906, 1910, 1911, 1913, 1915, 1917, 1919, 1920, 1922, 1923, 1925, 1926, 1927, 1929, 1930, 1932, 1934, 1935, 1937, 1938, 1939, 1942, 1945, 1948, 1952, 1953, 1955, 1958, 1961, 1964, 1967, 1970, 1973, 1975, 1978, 1981, 1984, 1987, 1991, 968, 969, 971, 1996, 1998, 1999, 2002, 2004, 2005, 2007, 2008, 2010, 2011, 2013, 2014, 2016, 2018, 2019, 2021, 2022, 2023, 2025, 2026, 2028, 2029, 2031, 2032, 2035, 2038, 2041, 2044, 2046, 2047]\n",
      "n_cells:  3562  n_sides:  7621  n_nodes:  4060\n",
      "rg.CellsToIndexTotalShared:  1\n",
      "rg.SidesToIndexTotalShared:  1061\n",
      "rg.NodesToIndexTotalShared:  531\n",
      "84264\n",
      "93796\n",
      "92924\n",
      "[ 2.71391040 +1.35206001e-15j  2.71342569 -4.54818138e-16j\n",
      "  2.36050974 -1.82683949e-15j  2.27943161 -3.71768639e-15j\n",
      "  2.16768496 +4.89025265e-16j]\n",
      "(16672, 5)\n"
     ]
    },
    {
     "name": "stderr",
     "output_type": "stream",
     "text": [
      "/usr/lib/python3/dist-packages/scipy/sparse/linalg/dsolve/linsolve.py:339: SparseEfficiencyWarning: splu requires CSC matrix format\n",
      "  warn('splu requires CSC matrix format', SparseEfficiencyWarning)\n"
     ]
    }
   ],
   "source": [
    "%reload_ext autoreload\n",
    "%autoreload\n",
    "\n",
    "from Electromagnetics.RecGrid2D import RG2D\n",
    "from Electromagnetics.Misc import *\n",
    "\n",
    "rg = RG2D(0.0, 0.3, 0.0, 0.2, 0.03001, 0.02001)\n",
    "rg.RefineCells(list(range(len(rg.cells))))\n",
    "#rg.RefineCells(list(range(len(rg.cells))))\n",
    "#rg.RefineCells(list(range(len(rg.cells))))\n",
    "\n",
    "P00 = Point2D(0.1, 0.05)\n",
    "P11 = Point2D(0.2, 0.15)\n",
    "rect_media = [P00, P11]\n",
    "rg.RefineRectangle(rect_media)\n",
    "rg.RefineRectangle(rect_media)\n",
    "rg.RefineRectangleBorders(rect_media)\n",
    "rg.RefineRectangleBorders(rect_media)\n",
    "\n",
    "\n",
    "print('n_cells: ', len(rg.cells), ' n_sides: ', len(rg.sides), ' n_nodes: ', len(rg.nodes))\n",
    "\n",
    "region_fs = \"freespace\"\n",
    "rg.AddExpression(region_fs, Eqs1, var_list)\n",
    "region_di = \"dielectric\"\n",
    "rg.AddExpression(region_di, Eqs2, var_list)\n",
    "\n",
    "eq_list1 = [{'zero':Float(0), 'one':(Eqs1_b[0][0]+Eqs1_b[0][1])/2.0, 'two':(Eqs1_b[0][0]+Eqs1_b[0][1])},\n",
    "            {'zero':Float(0), 'one':(Eqs1_b[1][0]+Eqs1_b[1][1])/2.0, 'two':(Eqs1_b[1][0]+Eqs1_b[1][1])},\n",
    "            {'zero':Float(0), 'one':(Eqs1_b[2][0]/2.0+Eqs1_b[2][1]), 'two':(Eqs1_b[2][0]+Eqs1_b[2][1])},\n",
    "            {'zero':Float(0), 'one':(Eqs1_b[3][0]/2.0+Eqs1_b[3][1]), 'two':(Eqs1_b[3][0]+Eqs1_b[3][1])},\n",
    "            {'zero':Float(0), 'one':(Eqs1_b[4][0]/4.0), 'two':(Eqs1_b[4][0]/2.0), 'two_x':(Eqs1_b[4][1]+Eqs1_b[4][2]/2.0), 'two_y':(Eqs1_b[4][1]/2.0+Eqs1_b[4][2]), 'three':(Eqs1_b[4][0]*3.0/4.0+Eqs1_b[4][1]+Eqs1_b[4][2]), 'four':(Eqs1_b[4][0]+Eqs1_b[4][1]+Eqs1_b[4][2])},\n",
    "           {}]\n",
    "var_type = ['SX', 'SY', 'SY', 'SX', 'N', 'C']\n",
    "rg.SetRegionBoundaryEquations(region_fs, eq_list1, var_list, var_type)\n",
    "\n",
    "eq_list2 = [{'zero':Float(0), 'one':(Eqs2_b[0][0]+Eqs2_b[0][1])/2.0, 'two':(Eqs2_b[0][0]+Eqs2_b[0][1])},\n",
    "            {'zero':Float(0), 'one':(Eqs2_b[1][0]+Eqs2_b[1][1])/2.0, 'two':(Eqs2_b[1][0]+Eqs2_b[1][1])},\n",
    "            {'zero':Float(0), 'one':(Eqs2_b[2][0]/2.0+Eqs2_b[2][1]), 'two':(Eqs2_b[2][0]+Eqs2_b[2][1])},\n",
    "            {'zero':Float(0), 'one':(Eqs2_b[3][0]/2.0+Eqs2_b[3][1]), 'two':(Eqs2_b[3][0]+Eqs2_b[3][1])},\n",
    "            {'zero':Float(0), 'one':(Eqs2_b[4][0]/4.0), 'two':(Eqs2_b[4][0]/2.0), 'two_x':(Eqs2_b[4][1]+Eqs1_b[4][2]/2.0), 'two_y':(Eqs2_b[4][1]/2.0+Eqs1_b[4][2]), 'three':(Eqs2_b[4][0]*3.0/4.0+Eqs2_b[4][1]+Eqs2_b[4][2]), 'four':(Eqs2_b[4][0]+Eqs2_b[4][1]+Eqs2_b[4][2])},\n",
    "           {}]\n",
    "var_type = ['SX', 'SY', 'SY', 'SX', 'N', 'C']\n",
    "rg.SetRegionBoundaryEquations(region_di, eq_list2, var_list, var_type)\n",
    "\n",
    "cells_fs = list(range(len(rg.cells)))\n",
    "cells_di, nodes_di, sidesX_di, sidesY_di = rg.FindElementsMarkedByRectangle(rect_media[0], rect_media[1])\n",
    "cells_fs, cells_di = rg.RegionsRemoveSharedCells([cells_fs, cells_di])\n",
    "nodes_fs, sidesX_fs, sidesY_fs = rg.Cells_GetNodesSide(cells_fs)\n",
    "\n",
    "rg.AssignVariableToSides(maxwell.Ex, sidesX_fs, region_fs, orient='X')\n",
    "rg.AssignVariableToSides(maxwell.Ey, sidesY_fs, region_fs, orient='Y')\n",
    "rg.AssignVariableToSides(maxwell.Hx, sidesY_fs, region_fs, orient='Y')\n",
    "rg.AssignVariableToSides(maxwell.Hy, sidesX_fs, region_fs, orient='X')\n",
    "rg.AssignVariableToNodes(maxwell.Ez, nodes_fs, region_fs)\n",
    "rg.AssignVariableToCells(maxwell.Hz, cells_fs, region_fs)\n",
    "\n",
    "rg.AssignVariableToSides(maxwell.Ex, sidesX_di, region_di, orient='X')\n",
    "rg.AssignVariableToSides(maxwell.Ey, sidesY_di, region_di, orient='Y')\n",
    "rg.AssignVariableToSides(maxwell.Hx, sidesY_di, region_di, orient='Y')\n",
    "rg.AssignVariableToSides(maxwell.Hy, sidesX_di, region_di, orient='X')\n",
    "rg.AssignVariableToNodes(maxwell.Ez, nodes_di, region_di)\n",
    "rg.AssignVariableToCells(maxwell.Hz, cells_di, region_di)\n",
    "\n",
    "\n",
    "rg.SetTotalIndicesForVariables()\n",
    "\n",
    "print('rg.CellsToIndexTotalShared: ', len(rg.CellsToIndexTotalShared))\n",
    "print('rg.SidesToIndexTotalShared: ', len(rg.SidesToIndexTotalShared))\n",
    "print('rg.NodesToIndexTotalShared: ', len(rg.NodesToIndexTotalShared))\n",
    "\n",
    "A_coo = rg.ConstructInitialMatrix(save=True)\n",
    "#print(A_coo)\n",
    "print(A_coo.nnz)\n",
    "\n",
    "A_coo = rg.ConstructInitialMatrix_Shared(A_coo, save=True)\n",
    "#print(A_coo)\n",
    "print(A_coo.nnz)\n",
    "\n",
    "A_coo = rg.ApplyDirichletBoundaryCondition(A_coo, save=True)\n",
    "#print(A_coo)\n",
    "print(A_coo.nnz) \n",
    "\n",
    "A_fin = rg.EliminateVarible_Direct(A_coo, [maxwell.Ez, maxwell.Hz])\n",
    "\n",
    "k_eigs, k_vecs = rg.SolveEigenvalues(A_fin, 5, lambda_0=3.0)\n",
    "\n",
    "print(k_eigs)\n",
    "print(k_vecs.shape)\n"
   ]
  },
  {
   "cell_type": "code",
   "execution_count": 5,
   "metadata": {
    "collapsed": false
   },
   "outputs": [
    {
     "name": "stdout",
     "output_type": "stream",
     "text": [
      "(3562,) (3562,)\n",
      "(3562,)\n"
     ]
    }
   ],
   "source": [
    "import numpy as np\n",
    "\n",
    "rg.GetFromSolutionIndexToInitialIndex(k_vecs[:,0], A_coo)\n",
    "\n",
    "exy_cell = rg.InterpolateVariablesValuesToCellCenters([maxwell.Ex, maxwell.Ey])\n",
    "ex = np.array(exy_cell[0])\n",
    "ey = np.array(exy_cell[1])\n",
    "\n",
    "exy_max = GetMaxComplexVec2D(ex, ey)\n",
    "\n",
    "print(ex.shape, ey.shape)\n",
    "print(exy_max.shape)"
   ]
  },
  {
   "cell_type": "code",
   "execution_count": 6,
   "metadata": {
    "collapsed": false
   },
   "outputs": [
    {
     "name": "stdout",
     "output_type": "stream",
     "text": [
      "queue started..\n",
      "window started...\n"
     ]
    }
   ],
   "source": [
    "%reload_ext autoreload\n",
    "%autoreload\n",
    "\n",
    "\n",
    "from Electromagnetics.RecGrid2D import *\n",
    "import queue\n",
    "\n",
    "que = queue.Queue()\n",
    "print(\"queue started..\")\n",
    "window = GUIMaker2D(wx=3.0, wy=6.0, wxp=600, wyp=400, que=que)\n",
    "    \n",
    "print('window started...')\n",
    "\n",
    "window.AttachGrid(rg)\n",
    "que.put([\"updategrid\"])\n",
    "que.put([\"toggleTestMode\"])"
   ]
  },
  {
   "cell_type": "code",
   "execution_count": 7,
   "metadata": {
    "collapsed": false
   },
   "outputs": [],
   "source": [
    "import numpy as np\n",
    "from Electromagnetics import Misc \n",
    "\n",
    "\n",
    "colors = Misc.GetColorMap(Misc.NormalizeArrayTo0n1(exy_max))\n",
    "#print(colors)\n",
    "que.put([\"ColorCells\", colors])"
   ]
  },
  {
   "cell_type": "code",
   "execution_count": 246,
   "metadata": {
    "collapsed": false
   },
   "outputs": [],
   "source": [
    "que.put([\"MarkGridSides\", sidesX_di, \"red\"])\n",
    "que.put([\"MarkGridSides\", sidesY_di, \"red\"])"
   ]
  },
  {
   "cell_type": "code",
   "execution_count": 206,
   "metadata": {
    "collapsed": false
   },
   "outputs": [],
   "source": [
    "que.put([\"clearlog\"])"
   ]
  },
  {
   "cell_type": "code",
   "execution_count": null,
   "metadata": {
    "collapsed": false
   },
   "outputs": [],
   "source": []
  }
 ],
 "metadata": {
  "kernelspec": {
   "display_name": "Python 3",
   "language": "python",
   "name": "python3"
  },
  "language_info": {
   "codemirror_mode": {
    "name": "ipython",
    "version": 3
   },
   "file_extension": ".py",
   "mimetype": "text/x-python",
   "name": "python",
   "nbconvert_exporter": "python",
   "pygments_lexer": "ipython3",
   "version": "3.5.2"
  }
 },
 "nbformat": 4,
 "nbformat_minor": 0
}
