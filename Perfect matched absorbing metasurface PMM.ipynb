{
 "cells": [
  {
   "cell_type": "markdown",
   "metadata": {},
   "source": [
    "### uniaxial X_ee, X_mm"
   ]
  },
  {
   "cell_type": "code",
   "execution_count": 35,
   "metadata": {
    "collapsed": false
   },
   "outputs": [
    {
     "name": "stdout",
     "output_type": "stream",
     "text": [
      "--------------------  TE  --------------------\n"
     ]
    },
    {
     "data": {
      "text/latex": [
       "$$E_{ip} = \\left[\\begin{matrix}0 & E_{y}^{p} e^{- i \\left(k_{x} x + k_{z} z\\right)} & 0\\end{matrix}\\right]$$"
      ],
      "text/plain": [
       "<IPython.core.display.Math object>"
      ]
     },
     "metadata": {},
     "output_type": "display_data"
    },
    {
     "data": {
      "text/latex": [
       "$$H_{ip} = \\left[\\begin{matrix}- \\frac{E_{y}^{p} k_{z}}{\\mu \\omega} e^{- i \\left(k_{x} x + k_{z} z\\right)} & 0 & \\frac{E_{y}^{p} k_{x}}{\\mu \\omega} e^{- i \\left(k_{x} x + k_{z} z\\right)}\\end{matrix}\\right]$$"
      ],
      "text/plain": [
       "<IPython.core.display.Math object>"
      ]
     },
     "metadata": {},
     "output_type": "display_data"
    },
    {
     "name": "stdout",
     "output_type": "stream",
     "text": [
      "--------------------  TM  --------------------\n"
     ]
    },
    {
     "data": {
      "text/latex": [
       "$$E_{is} = \\left[\\begin{matrix}\\frac{H_{y}^{s} k_{z}}{\\epsilon \\omega} e^{- i \\left(k_{x} x + k_{z} z\\right)} & 0 & - \\frac{H_{y}^{s} k_{x}}{\\epsilon \\omega} e^{- i \\left(k_{x} x + k_{z} z\\right)}\\end{matrix}\\right]$$"
      ],
      "text/plain": [
       "<IPython.core.display.Math object>"
      ]
     },
     "metadata": {},
     "output_type": "display_data"
    },
    {
     "data": {
      "text/latex": [
       "$$H_{is} = \\left[\\begin{matrix}0 & H_{y}^{s} e^{- i \\left(k_{x} x + k_{z} z\\right)} & 0\\end{matrix}\\right]$$"
      ],
      "text/plain": [
       "<IPython.core.display.Math object>"
      ]
     },
     "metadata": {},
     "output_type": "display_data"
    },
    {
     "name": "stdout",
     "output_type": "stream",
     "text": [
      "--------------------  TE at z=0  --------------------\n"
     ]
    },
    {
     "data": {
      "text/latex": [
       "$$E_{ip} = \\left[\\begin{matrix}0 & E_{y}^{p} & 0\\end{matrix}\\right]$$"
      ],
      "text/plain": [
       "<IPython.core.display.Math object>"
      ]
     },
     "metadata": {},
     "output_type": "display_data"
    },
    {
     "data": {
      "text/latex": [
       "$$H_{ip} = \\left[\\begin{matrix}- \\frac{E_{y}^{p} k_{z}}{\\mu \\omega} & 0 & \\frac{E_{y}^{p} k_{x}}{\\mu \\omega}\\end{matrix}\\right]$$"
      ],
      "text/plain": [
       "<IPython.core.display.Math object>"
      ]
     },
     "metadata": {},
     "output_type": "display_data"
    },
    {
     "name": "stdout",
     "output_type": "stream",
     "text": [
      "--------------------  TM at z=0  --------------------\n"
     ]
    },
    {
     "data": {
      "text/latex": [
       "$$E_{is} = \\left[\\begin{matrix}\\frac{H_{y}^{s} k_{z}}{\\epsilon \\omega} & 0 & - \\frac{H_{y}^{s} k_{x}}{\\epsilon \\omega}\\end{matrix}\\right]$$"
      ],
      "text/plain": [
       "<IPython.core.display.Math object>"
      ]
     },
     "metadata": {},
     "output_type": "display_data"
    },
    {
     "data": {
      "text/latex": [
       "$$H_{is} = \\left[\\begin{matrix}0 & H_{y}^{s} & 0\\end{matrix}\\right]$$"
      ],
      "text/plain": [
       "<IPython.core.display.Math object>"
      ]
     },
     "metadata": {},
     "output_type": "display_data"
    },
    {
     "name": "stdout",
     "output_type": "stream",
     "text": [
      "--------------------  z x dE  --------------------\n"
     ]
    },
    {
     "data": {
      "text/latex": [
       "$$z\\times E_s = \\left[\\begin{matrix}0 & - \\frac{H_{y}^{s} k_{z}}{\\epsilon \\omega} & 0\\end{matrix}\\right]$$"
      ],
      "text/plain": [
       "<IPython.core.display.Math object>"
      ]
     },
     "metadata": {},
     "output_type": "display_data"
    },
    {
     "data": {
      "text/latex": [
       "$$z\\times E_p = \\left[\\begin{matrix}E_{y}^{p} & 0 & 0\\end{matrix}\\right]$$"
      ],
      "text/plain": [
       "<IPython.core.display.Math object>"
      ]
     },
     "metadata": {},
     "output_type": "display_data"
    },
    {
     "name": "stdout",
     "output_type": "stream",
     "text": [
      "--------------------  z x dH  --------------------\n"
     ]
    },
    {
     "data": {
      "text/latex": [
       "$$z\\times H_s = \\left[\\begin{matrix}H_{y}^{s} & 0 & 0\\end{matrix}\\right]$$"
      ],
      "text/plain": [
       "<IPython.core.display.Math object>"
      ]
     },
     "metadata": {},
     "output_type": "display_data"
    },
    {
     "data": {
      "text/latex": [
       "$$z\\times H_p = \\left[\\begin{matrix}0 & \\frac{E_{y}^{p} k_{z}}{\\mu \\omega} & 0\\end{matrix}\\right]$$"
      ],
      "text/plain": [
       "<IPython.core.display.Math object>"
      ]
     },
     "metadata": {},
     "output_type": "display_data"
    },
    {
     "name": "stdout",
     "output_type": "stream",
     "text": [
      "--------------------  X  --------------------\n"
     ]
    },
    {
     "data": {
      "text/latex": [
       "$$X_{ee} = \\left[\\begin{matrix}\\chi_{ee}^t & 0 & 0\\\\0 & \\chi_{ee}^t & 0\\\\0 & 0 & \\chi_{ee}^n\\end{matrix}\\right]$$"
      ],
      "text/plain": [
       "<IPython.core.display.Math object>"
      ]
     },
     "metadata": {},
     "output_type": "display_data"
    },
    {
     "data": {
      "text/latex": [
       "$$X_{mm} = \\left[\\begin{matrix}\\chi_{mm}^t & 0 & 0\\\\0 & \\chi_{mm}^t & 0\\\\0 & 0 & \\chi_{mm}^n\\end{matrix}\\right]$$"
      ],
      "text/plain": [
       "<IPython.core.display.Math object>"
      ]
     },
     "metadata": {},
     "output_type": "display_data"
    },
    {
     "name": "stdout",
     "output_type": "stream",
     "text": [
      "--------------------  average fields  --------------------\n"
     ]
    },
    {
     "data": {
      "text/latex": [
       "$$\\bar{E}_s = \\left[\\begin{matrix}\\frac{H_{y}^{s} k_{z}}{2 \\epsilon \\omega} & 0 & - \\frac{H_{y}^{s} k_{x}}{2 \\epsilon \\omega}\\end{matrix}\\right]$$"
      ],
      "text/plain": [
       "<IPython.core.display.Math object>"
      ]
     },
     "metadata": {},
     "output_type": "display_data"
    },
    {
     "data": {
      "text/latex": [
       "$$\\bar{H}_s = \\left[\\begin{matrix}0 & \\frac{H_{y}^{s}}{2} & 0\\end{matrix}\\right]$$"
      ],
      "text/plain": [
       "<IPython.core.display.Math object>"
      ]
     },
     "metadata": {},
     "output_type": "display_data"
    },
    {
     "data": {
      "text/latex": [
       "$$\\bar{E}_p = \\left[\\begin{matrix}0 & \\frac{E_{y}^{p}}{2} & 0\\end{matrix}\\right]$$"
      ],
      "text/plain": [
       "<IPython.core.display.Math object>"
      ]
     },
     "metadata": {},
     "output_type": "display_data"
    },
    {
     "data": {
      "text/latex": [
       "$$\\bar{H}_p = \\left[\\begin{matrix}- \\frac{E_{y}^{p} k_{z}}{2 \\mu \\omega} & 0 & \\frac{E_{y}^{p} k_{x}}{2 \\mu \\omega}\\end{matrix}\\right]$$"
      ],
      "text/plain": [
       "<IPython.core.display.Math object>"
      ]
     },
     "metadata": {},
     "output_type": "display_data"
    },
    {
     "name": "stdout",
     "output_type": "stream",
     "text": [
      "--------------------  polarization densities  --------------------\n"
     ]
    },
    {
     "data": {
      "text/latex": [
       "$$P_s = \\left[\\begin{matrix}\\frac{H_{y}^{s} \\chi_{ee}^t k_{z}}{2 \\epsilon \\omega} & 0 & - \\frac{H_{y}^{s} \\chi_{ee}^n k_{x}}{2 \\epsilon \\omega}\\end{matrix}\\right]$$"
      ],
      "text/plain": [
       "<IPython.core.display.Math object>"
      ]
     },
     "metadata": {},
     "output_type": "display_data"
    },
    {
     "data": {
      "text/latex": [
       "$$M_s = \\left[\\begin{matrix}0 & \\frac{H_{y}^{s} \\chi_{mm}^t}{2} & 0\\end{matrix}\\right]$$"
      ],
      "text/plain": [
       "<IPython.core.display.Math object>"
      ]
     },
     "metadata": {},
     "output_type": "display_data"
    },
    {
     "data": {
      "text/latex": [
       "$$P_p = \\left[\\begin{matrix}0 & \\frac{E_{y}^{p} \\chi_{ee}^t}{2} & 0\\end{matrix}\\right]$$"
      ],
      "text/plain": [
       "<IPython.core.display.Math object>"
      ]
     },
     "metadata": {},
     "output_type": "display_data"
    },
    {
     "data": {
      "text/latex": [
       "$$M_p = \\left[\\begin{matrix}- \\frac{E_{y}^{p} \\chi_{mm}^t k_{z}}{2 \\mu \\omega} & 0 & \\frac{E_{y}^{p} \\chi_{mm}^n k_{x}}{2 \\mu \\omega}\\end{matrix}\\right]$$"
      ],
      "text/plain": [
       "<IPython.core.display.Math object>"
      ]
     },
     "metadata": {},
     "output_type": "display_data"
    },
    {
     "name": "stdout",
     "output_type": "stream",
     "text": [
      "--------------------  transverse components  --------------------\n"
     ]
    },
    {
     "data": {
      "text/latex": [
       "$$P_{st} = \\left[\\begin{matrix}\\frac{H_{y}^{s} \\chi_{ee}^t k_{z}}{2 \\epsilon \\omega} & 0 & 0\\end{matrix}\\right]$$"
      ],
      "text/plain": [
       "<IPython.core.display.Math object>"
      ]
     },
     "metadata": {},
     "output_type": "display_data"
    },
    {
     "data": {
      "text/latex": [
       "$$M_{st} = \\left[\\begin{matrix}0 & \\frac{H_{y}^{s} \\chi_{mm}^t}{2} & 0\\end{matrix}\\right]$$"
      ],
      "text/plain": [
       "<IPython.core.display.Math object>"
      ]
     },
     "metadata": {},
     "output_type": "display_data"
    },
    {
     "data": {
      "text/latex": [
       "$$P_{pt} = \\left[\\begin{matrix}0 & \\frac{E_{y}^{p} \\chi_{ee}^t}{2} & 0\\end{matrix}\\right]$$"
      ],
      "text/plain": [
       "<IPython.core.display.Math object>"
      ]
     },
     "metadata": {},
     "output_type": "display_data"
    },
    {
     "data": {
      "text/latex": [
       "$$M_{pt} = \\left[\\begin{matrix}- \\frac{E_{y}^{p} \\chi_{mm}^t k_{z}}{2 \\mu \\omega} & 0 & 0\\end{matrix}\\right]$$"
      ],
      "text/plain": [
       "<IPython.core.display.Math object>"
      ]
     },
     "metadata": {},
     "output_type": "display_data"
    },
    {
     "name": "stdout",
     "output_type": "stream",
     "text": [
      "--------------------  normal components  --------------------\n"
     ]
    },
    {
     "data": {
      "text/latex": [
       "$$\\nabla P_{sn} = \\left[\\begin{matrix}\\frac{i H_{y}^{s} \\chi_{ee}^n k_{x}^{2}}{2 \\epsilon \\omega} & 0 & \\frac{i H_{y}^{s} \\chi_{ee}^n k_{x} k_{z}}{2 \\epsilon \\omega}\\end{matrix}\\right]$$"
      ],
      "text/plain": [
       "<IPython.core.display.Math object>"
      ]
     },
     "metadata": {},
     "output_type": "display_data"
    },
    {
     "data": {
      "text/latex": [
       "$$\\nabla M_{sn} = \\left[\\begin{matrix}0 & 0 & 0\\end{matrix}\\right]$$"
      ],
      "text/plain": [
       "<IPython.core.display.Math object>"
      ]
     },
     "metadata": {},
     "output_type": "display_data"
    },
    {
     "data": {
      "text/latex": [
       "$$\\nabla P_{pn} = \\left[\\begin{matrix}0 & 0 & 0\\end{matrix}\\right]$$"
      ],
      "text/plain": [
       "<IPython.core.display.Math object>"
      ]
     },
     "metadata": {},
     "output_type": "display_data"
    },
    {
     "data": {
      "text/latex": [
       "$$\\nabla M_{pn} = \\left[\\begin{matrix}- \\frac{i E_{y}^{p} \\chi_{mm}^n k_{x}^{2}}{2 \\mu \\omega} & 0 & - \\frac{i E_{y}^{p} \\chi_{mm}^n k_{x} k_{z}}{2 \\mu \\omega}\\end{matrix}\\right]$$"
      ],
      "text/plain": [
       "<IPython.core.display.Math object>"
      ]
     },
     "metadata": {},
     "output_type": "display_data"
    },
    {
     "data": {
      "text/latex": [
       "$$z\\times \\nabla P_{sn} = \\left[\\begin{matrix}0 & \\frac{i H_{y}^{s} \\chi_{ee}^n k_{x}^{2}}{2 \\epsilon \\omega} & 0\\end{matrix}\\right]$$"
      ],
      "text/plain": [
       "<IPython.core.display.Math object>"
      ]
     },
     "metadata": {},
     "output_type": "display_data"
    },
    {
     "data": {
      "text/latex": [
       "$$z\\times \\nabla M_{sn} = \\left[\\begin{matrix}0 & 0 & 0\\end{matrix}\\right]$$"
      ],
      "text/plain": [
       "<IPython.core.display.Math object>"
      ]
     },
     "metadata": {},
     "output_type": "display_data"
    },
    {
     "data": {
      "text/latex": [
       "$$z\\times \\nabla P_{pn} = \\left[\\begin{matrix}0 & 0 & 0\\end{matrix}\\right]$$"
      ],
      "text/plain": [
       "<IPython.core.display.Math object>"
      ]
     },
     "metadata": {},
     "output_type": "display_data"
    },
    {
     "data": {
      "text/latex": [
       "$$z\\times \\nabla M_{pn} = \\left[\\begin{matrix}0 & - \\frac{i E_{y}^{p} \\chi_{mm}^n k_{x}^{2}}{2 \\mu \\omega} & 0\\end{matrix}\\right]$$"
      ],
      "text/plain": [
       "<IPython.core.display.Math object>"
      ]
     },
     "metadata": {},
     "output_type": "display_data"
    },
    {
     "name": "stdout",
     "output_type": "stream",
     "text": [
      "--------------------  equations  --------------------\n"
     ]
    },
    {
     "data": {
      "text/latex": [
       "$$s \\Delta H : \\left[\\begin{matrix}- \\frac{i H_{y}^{s} \\chi_{ee}^t k_{z}}{2 \\epsilon} + H_{y}^{s} & 0 & 0\\end{matrix}\\right]$$"
      ],
      "text/plain": [
       "<IPython.core.display.Math object>"
      ]
     },
     "metadata": {},
     "output_type": "display_data"
    },
    {
     "data": {
      "text/latex": [
       "$$s \\Delta E : \\left[\\begin{matrix}0 & \\frac{i H_{y}^{s} \\chi_{ee}^n k_{x}^{2}}{2 \\epsilon^{2} \\omega} + \\frac{i H_{y}^{s}}{2} \\chi_{mm}^t \\omega - \\frac{H_{y}^{s} k_{z}}{\\epsilon \\omega} & 0\\end{matrix}\\right]$$"
      ],
      "text/plain": [
       "<IPython.core.display.Math object>"
      ]
     },
     "metadata": {},
     "output_type": "display_data"
    },
    {
     "data": {
      "text/latex": [
       "$$p \\Delta H : \\left[\\begin{matrix}0 & - \\frac{i E_{y}^{p}}{2} \\chi_{ee}^t \\omega - \\frac{i E_{y}^{p} \\chi_{mm}^n k_{x}^{2}}{2 \\mu^{2} \\omega} + \\frac{E_{y}^{p} k_{z}}{\\mu \\omega} & 0\\end{matrix}\\right]$$"
      ],
      "text/plain": [
       "<IPython.core.display.Math object>"
      ]
     },
     "metadata": {},
     "output_type": "display_data"
    },
    {
     "data": {
      "text/latex": [
       "$$p \\Delta E : \\left[\\begin{matrix}- \\frac{i E_{y}^{p} \\chi_{mm}^t k_{z}}{2 \\mu} + E_{y}^{p} & 0 & 0\\end{matrix}\\right]$$"
      ],
      "text/plain": [
       "<IPython.core.display.Math object>"
      ]
     },
     "metadata": {},
     "output_type": "display_data"
    }
   ],
   "source": [
    "from sympy import *\n",
    "from Electromagnetics.VectorCalculus import *\n",
    "from IPython.display import display, Math, Latex\n",
    "\n",
    "from sympy.utilities.lambdify import lambdastr\n",
    "from Electromagnetics import Misc\n",
    "\n",
    "x, y, z = symbols('x y z')\n",
    "Ey_p = Symbol('E_{y}^{p}')\n",
    "Hy_s = Symbol('H_{y}^{s}')\n",
    "kx, kz = symbols('k_x k_z')\n",
    "omega, k0 = symbols('\\\\omega k_0', real=True, positive=True)\n",
    "eps, mu, eta = symbols('\\\\epsilon \\\\mu \\\\eta')\n",
    "\n",
    "ki = Matrix([kx, 0, kz])\n",
    "r = Matrix([x, y, z])\n",
    "r_T = Matrix([x, y, 0])\n",
    "\n",
    "Ei_p = Matrix([[0, Ey_p, 0]])*exp(-I*dotproduct(ki, r))\n",
    "Hi_s = Matrix([[0, Hy_s, 0]])*exp(-I*dotproduct(ki, r))\n",
    "\n",
    "Hi_p = -1/(I*omega*mu)*curl_r(Ei_p)\n",
    "Hi_p = Misc.SymMatrixdoit(Hi_p)\n",
    "\n",
    "Ei_s = 1/(I*omega*eps)*curl_r(Hi_s)\n",
    "Ei_s = Misc.SymMatrixdoit(Ei_s)\n",
    "\n",
    "print('-'*20, ' TE ', '-'*20)\n",
    "display(Math('E_{ip} = ' + latex(Ei_p)))\n",
    "display(Math('H_{ip} = ' + latex(Hi_p)))\n",
    "\n",
    "print('-'*20, ' TM ', '-'*20)\n",
    "display(Math('E_{is} = ' + latex(Ei_s)))\n",
    "display(Math('H_{is} = ' + latex(Hi_s)))\n",
    "\n",
    "              \n",
    "Ei_p = Misc.SymMatrixSimplify(Ei_p.subs(z,0)*exp(I*dotproduct(ki, r_T)))\n",
    "Hi_p = Misc.SymMatrixSimplify(Hi_p.subs(z,0)*exp(I*dotproduct(ki, r_T)))\n",
    "\n",
    "Ei_s = Misc.SymMatrixSimplify(Ei_s.subs(z,0)*exp(I*dotproduct(ki, r_T)))\n",
    "Hi_s = Misc.SymMatrixSimplify(Hi_s.subs(z,0)*exp(I*dotproduct(ki, r_T)))\n",
    "\n",
    "print('-'*20, ' TE at z=0 ', '-'*20)\n",
    "display(Math('E_{ip} = ' + latex(Ei_p)))\n",
    "display(Math('H_{ip} = ' + latex(Hi_p)))\n",
    "\n",
    "print('-'*20, ' TM at z=0 ', '-'*20)\n",
    "display(Math('E_{is} = ' + latex(Ei_s)))\n",
    "display(Math('H_{is} = ' + latex(Hi_s)))\n",
    "\n",
    "a_z = Matrix([[0, 0, 1]])\n",
    "\n",
    "zxE_s = crossproduct(a_z, -Ei_s)  ## transmission side - incident side\n",
    "zxE_p = crossproduct(a_z, -Ei_p)  ## transmission side - incident side\n",
    "\n",
    "print('-'*20, ' z x dE ', '-'*20)\n",
    "display(Math(r'z\\times E_s = ' + latex(zxE_s)))\n",
    "display(Math(r'z\\times E_p = ' + latex(zxE_p)))\n",
    "\n",
    "zxH_s = crossproduct(a_z, -Hi_s)   ## transmission side - incident side\n",
    "zxH_p = crossproduct(a_z, -Hi_p)   ## transmission side - incident side\n",
    "\n",
    "print('-'*20, ' z x dH ', '-'*20)\n",
    "display(Math(r'z\\times H_s = ' + latex(zxH_s)))\n",
    "display(Math(r'z\\times H_p = ' + latex(zxH_p)))\n",
    "\n",
    "X_ee_t, X_mm_t, X_ee_n, X_mm_n = symbols(r'\\chi_{ee}^t \\chi_{mm}^t \\chi_{ee}^n \\chi_{mm}^n')\n",
    "              \n",
    "X_ee_mat = Matrix([[X_ee_t, 0, 0],\n",
    "                   [0, X_ee_t, 0],\n",
    "                   [0, 0, X_ee_n]])\n",
    "\n",
    "X_mm_mat = Matrix([[X_mm_t, 0, 0],\n",
    "                   [0, X_mm_t, 0],\n",
    "                   [0, 0, X_mm_n]])\n",
    "\n",
    "print('-'*20, ' X ', '-'*20)\n",
    "display(Math(r'X_{ee} = ' + latex(X_ee_mat)))\n",
    "display(Math(r'X_{mm} = ' + latex(X_mm_mat)))\n",
    "\n",
    "E_s_avg = Ei_s/2\n",
    "H_s_avg = Hi_s/2\n",
    "\n",
    "E_p_avg = Ei_p/2\n",
    "H_p_avg = Hi_p/2\n",
    "\n",
    "print('-'*20, ' average fields ', '-'*20)\n",
    "\n",
    "display(Math(r'\\bar{E}_s = ' + latex(E_s_avg)))\n",
    "display(Math(r'\\bar{H}_s = ' + latex(H_s_avg)))\n",
    "\n",
    "display(Math(r'\\bar{E}_p = ' + latex(E_p_avg)))\n",
    "display(Math(r'\\bar{H}_p = ' + latex(H_p_avg)))\n",
    "\n",
    "\n",
    "P_s =  (X_ee_mat * E_s_avg.T).T\n",
    "M_s =  (X_mm_mat * H_s_avg.T).T\n",
    "\n",
    "P_p =  (X_ee_mat * E_p_avg.T).T\n",
    "M_p =  (X_mm_mat * H_p_avg.T).T\n",
    "\n",
    "print('-'*20, ' polarization densities ', '-'*20)\n",
    "\n",
    "display(Math(r'P_s = ' + latex(P_s)))\n",
    "display(Math(r'M_s = ' + latex(M_s)))\n",
    "\n",
    "display(Math(r'P_p = ' + latex(P_p)))\n",
    "display(Math(r'M_p = ' + latex(M_p)))\n",
    "\n",
    "P_s_t = P_s.copy()\n",
    "M_s_t = M_s.copy()\n",
    "P_s_t[2] = 0\n",
    "M_s_t[2] = 0\n",
    "\n",
    "P_p_t = P_p.copy()\n",
    "M_p_t = M_p.copy()\n",
    "P_p_t[2] = 0\n",
    "M_p_t[2] = 0\n",
    "\n",
    "print('-'*20, ' transverse components ', '-'*20)\n",
    "\n",
    "display(Math(r'P_{st} = ' + latex(P_s_t)))\n",
    "display(Math(r'M_{st} = ' + latex(M_s_t)))\n",
    "\n",
    "display(Math(r'P_{pt} = ' + latex(P_p_t)))\n",
    "display(Math(r'M_{pt} = ' + latex(M_p_t)))\n",
    "\n",
    "print('-'*20, ' normal components ', '-'*20)\n",
    "\n",
    "Grad_P_s_n = -I*ki*P_s[2]\n",
    "Grad_M_s_n = -I*ki*M_s[2]\n",
    "Grad_P_p_n = -I*ki*P_p[2]\n",
    "Grad_M_p_n = -I*ki*M_p[2]\n",
    "\n",
    "display(Math(r'\\nabla P_{sn} = ' + latex(Grad_P_s_n.T)))\n",
    "display(Math(r'\\nabla M_{sn} = ' + latex(Grad_M_s_n.T)))\n",
    "\n",
    "display(Math(r'\\nabla P_{pn} = ' + latex(Grad_P_p_n.T)))\n",
    "display(Math(r'\\nabla M_{pn} = ' + latex(Grad_M_p_n.T)))\n",
    "\n",
    "\n",
    "zxGP_sn = crossproduct(a_z, Grad_P_s_n)\n",
    "zxGM_sn = crossproduct(a_z, Grad_M_s_n)\n",
    "zxGP_pn = crossproduct(a_z, Grad_P_p_n)\n",
    "zxGM_pn = crossproduct(a_z, Grad_M_p_n)\n",
    "\n",
    "display(Math(r'z\\times \\nabla P_{sn} = ' + latex(zxGP_sn)))\n",
    "display(Math(r'z\\times \\nabla M_{sn} = ' + latex(zxGM_sn)))\n",
    "\n",
    "display(Math(r'z\\times \\nabla P_{pn} = ' + latex(zxGP_pn)))\n",
    "display(Math(r'z\\times \\nabla M_{pn} = ' + latex(zxGM_pn)))\n",
    "\n",
    "\n",
    "Eq_s_dH = zxH_s - (I*omega*P_s_t - 1/mu*zxGM_sn)\n",
    "Eq_s_dE = zxE_s - (-I*omega*M_s_t - 1/eps*zxGP_sn)\n",
    "Eq_p_dH = zxH_p - (I*omega*P_p_t - 1/mu*zxGM_pn)\n",
    "Eq_p_dE = zxE_p - (-I*omega*M_p_t - 1/eps*zxGP_pn)\n",
    "\n",
    "print('-'*20, ' equations ', '-'*20)\n",
    "\n",
    "display(Math(r's \\Delta H : ' + latex(Eq_s_dH)))\n",
    "display(Math(r's \\Delta E : ' + latex(Eq_s_dE)))\n",
    "\n",
    "display(Math(r'p \\Delta H : ' + latex(Eq_p_dH)))\n",
    "display(Math(r'p \\Delta E : ' + latex(Eq_p_dE)))\n",
    "\n"
   ]
  },
  {
   "cell_type": "markdown",
   "metadata": {},
   "source": [
    "### bianisotropic X_ee, X_mm"
   ]
  },
  {
   "cell_type": "code",
   "execution_count": 1,
   "metadata": {
    "collapsed": false
   },
   "outputs": [
    {
     "name": "stdout",
     "output_type": "stream",
     "text": [
      "--------------------  TE  --------------------\n"
     ]
    },
    {
     "data": {
      "text/latex": [
       "$$E_{ip} = \\left[\\begin{matrix}0 & E_{y}^{p} e^{- i \\left(k_{x} x + k_{z} z\\right)} & 0\\end{matrix}\\right]$$"
      ],
      "text/plain": [
       "<IPython.core.display.Math object>"
      ]
     },
     "metadata": {},
     "output_type": "display_data"
    },
    {
     "data": {
      "text/latex": [
       "$$H_{ip} = \\left[\\begin{matrix}- \\frac{E_{y}^{p} k_{z}}{\\mu \\omega} e^{- i \\left(k_{x} x + k_{z} z\\right)} & 0 & \\frac{E_{y}^{p} k_{x}}{\\mu \\omega} e^{- i \\left(k_{x} x + k_{z} z\\right)}\\end{matrix}\\right]$$"
      ],
      "text/plain": [
       "<IPython.core.display.Math object>"
      ]
     },
     "metadata": {},
     "output_type": "display_data"
    },
    {
     "name": "stdout",
     "output_type": "stream",
     "text": [
      "--------------------  TM  --------------------\n"
     ]
    },
    {
     "data": {
      "text/latex": [
       "$$E_{is} = \\left[\\begin{matrix}\\frac{H_{y}^{s} k_{z}}{\\epsilon \\omega} e^{- i \\left(k_{x} x + k_{z} z\\right)} & 0 & - \\frac{H_{y}^{s} k_{x}}{\\epsilon \\omega} e^{- i \\left(k_{x} x + k_{z} z\\right)}\\end{matrix}\\right]$$"
      ],
      "text/plain": [
       "<IPython.core.display.Math object>"
      ]
     },
     "metadata": {},
     "output_type": "display_data"
    },
    {
     "data": {
      "text/latex": [
       "$$H_{is} = \\left[\\begin{matrix}0 & H_{y}^{s} e^{- i \\left(k_{x} x + k_{z} z\\right)} & 0\\end{matrix}\\right]$$"
      ],
      "text/plain": [
       "<IPython.core.display.Math object>"
      ]
     },
     "metadata": {},
     "output_type": "display_data"
    },
    {
     "name": "stdout",
     "output_type": "stream",
     "text": [
      "--------------------  TE at z=0  --------------------\n"
     ]
    },
    {
     "data": {
      "text/latex": [
       "$$E_{ip} = \\left[\\begin{matrix}0 & E_{y}^{p} & 0\\end{matrix}\\right]$$"
      ],
      "text/plain": [
       "<IPython.core.display.Math object>"
      ]
     },
     "metadata": {},
     "output_type": "display_data"
    },
    {
     "data": {
      "text/latex": [
       "$$H_{ip} = \\left[\\begin{matrix}- \\frac{E_{y}^{p} k_{z}}{\\mu \\omega} & 0 & \\frac{E_{y}^{p} k_{x}}{\\mu \\omega}\\end{matrix}\\right]$$"
      ],
      "text/plain": [
       "<IPython.core.display.Math object>"
      ]
     },
     "metadata": {},
     "output_type": "display_data"
    },
    {
     "name": "stdout",
     "output_type": "stream",
     "text": [
      "--------------------  TM at z=0  --------------------\n"
     ]
    },
    {
     "data": {
      "text/latex": [
       "$$E_{is} = \\left[\\begin{matrix}\\frac{H_{y}^{s} k_{z}}{\\epsilon \\omega} & 0 & - \\frac{H_{y}^{s} k_{x}}{\\epsilon \\omega}\\end{matrix}\\right]$$"
      ],
      "text/plain": [
       "<IPython.core.display.Math object>"
      ]
     },
     "metadata": {},
     "output_type": "display_data"
    },
    {
     "data": {
      "text/latex": [
       "$$H_{is} = \\left[\\begin{matrix}0 & H_{y}^{s} & 0\\end{matrix}\\right]$$"
      ],
      "text/plain": [
       "<IPython.core.display.Math object>"
      ]
     },
     "metadata": {},
     "output_type": "display_data"
    },
    {
     "name": "stdout",
     "output_type": "stream",
     "text": [
      "--------------------  z x dE  --------------------\n"
     ]
    },
    {
     "data": {
      "text/latex": [
       "$$z\\times E_s = \\left[\\begin{matrix}0 & - \\frac{H_{y}^{s} k_{z}}{\\epsilon \\omega} & 0\\end{matrix}\\right]$$"
      ],
      "text/plain": [
       "<IPython.core.display.Math object>"
      ]
     },
     "metadata": {},
     "output_type": "display_data"
    },
    {
     "data": {
      "text/latex": [
       "$$z\\times E_p = \\left[\\begin{matrix}E_{y}^{p} & 0 & 0\\end{matrix}\\right]$$"
      ],
      "text/plain": [
       "<IPython.core.display.Math object>"
      ]
     },
     "metadata": {},
     "output_type": "display_data"
    },
    {
     "name": "stdout",
     "output_type": "stream",
     "text": [
      "--------------------  z x dH  --------------------\n"
     ]
    },
    {
     "data": {
      "text/latex": [
       "$$z\\times H_s = \\left[\\begin{matrix}H_{y}^{s} & 0 & 0\\end{matrix}\\right]$$"
      ],
      "text/plain": [
       "<IPython.core.display.Math object>"
      ]
     },
     "metadata": {},
     "output_type": "display_data"
    },
    {
     "data": {
      "text/latex": [
       "$$z\\times H_p = \\left[\\begin{matrix}0 & \\frac{E_{y}^{p} k_{z}}{\\mu \\omega} & 0\\end{matrix}\\right]$$"
      ],
      "text/plain": [
       "<IPython.core.display.Math object>"
      ]
     },
     "metadata": {},
     "output_type": "display_data"
    },
    {
     "name": "stdout",
     "output_type": "stream",
     "text": [
      "--------------------  average fields  --------------------\n"
     ]
    },
    {
     "data": {
      "text/latex": [
       "$$\\bar{E}_s = \\left[\\begin{matrix}\\frac{H_{y}^{s} k_{z}}{2 \\epsilon \\omega} & 0 & - \\frac{H_{y}^{s} k_{x}}{2 \\epsilon \\omega}\\end{matrix}\\right]$$"
      ],
      "text/plain": [
       "<IPython.core.display.Math object>"
      ]
     },
     "metadata": {},
     "output_type": "display_data"
    },
    {
     "data": {
      "text/latex": [
       "$$\\bar{H}_s = \\left[\\begin{matrix}0 & \\frac{H_{y}^{s}}{2} & 0\\end{matrix}\\right]$$"
      ],
      "text/plain": [
       "<IPython.core.display.Math object>"
      ]
     },
     "metadata": {},
     "output_type": "display_data"
    },
    {
     "data": {
      "text/latex": [
       "$$\\bar{E}_p = \\left[\\begin{matrix}0 & \\frac{E_{y}^{p}}{2} & 0\\end{matrix}\\right]$$"
      ],
      "text/plain": [
       "<IPython.core.display.Math object>"
      ]
     },
     "metadata": {},
     "output_type": "display_data"
    },
    {
     "data": {
      "text/latex": [
       "$$\\bar{H}_p = \\left[\\begin{matrix}- \\frac{E_{y}^{p} k_{z}}{2 \\mu \\omega} & 0 & \\frac{E_{y}^{p} k_{x}}{2 \\mu \\omega}\\end{matrix}\\right]$$"
      ],
      "text/plain": [
       "<IPython.core.display.Math object>"
      ]
     },
     "metadata": {},
     "output_type": "display_data"
    },
    {
     "name": "stdout",
     "output_type": "stream",
     "text": [
      "--------------------  polarization densities  --------------------\n"
     ]
    },
    {
     "data": {
      "text/latex": [
       "$$P_s = \\left[\\begin{matrix}\\frac{H_{y}^{s} \\chi_{ee} k_{z}}{2 \\epsilon \\omega} + \\frac{H_{y}^{s} \\chi_{em}}{2} & 0 & - \\frac{H_{y}^{s} \\chi_{ee} k_{x}}{2 \\epsilon \\omega}\\end{matrix}\\right]$$"
      ],
      "text/plain": [
       "<IPython.core.display.Math object>"
      ]
     },
     "metadata": {},
     "output_type": "display_data"
    },
    {
     "data": {
      "text/latex": [
       "$$M_s = \\left[\\begin{matrix}0 & \\frac{H_{y}^{s} \\chi_{me} k_{z}}{2 \\epsilon \\omega} + \\frac{H_{y}^{s} \\chi_{mm}}{2} & 0\\end{matrix}\\right]$$"
      ],
      "text/plain": [
       "<IPython.core.display.Math object>"
      ]
     },
     "metadata": {},
     "output_type": "display_data"
    },
    {
     "data": {
      "text/latex": [
       "$$P_p = \\left[\\begin{matrix}0 & \\frac{E_{y}^{p} \\chi_{ee}}{2} - \\frac{E_{y}^{p} \\chi_{em} k_{z}}{2 \\mu \\omega} & 0\\end{matrix}\\right]$$"
      ],
      "text/plain": [
       "<IPython.core.display.Math object>"
      ]
     },
     "metadata": {},
     "output_type": "display_data"
    },
    {
     "data": {
      "text/latex": [
       "$$M_p = \\left[\\begin{matrix}\\frac{E_{y}^{p} \\chi_{me}}{2} - \\frac{E_{y}^{p} \\chi_{mm} k_{z}}{2 \\mu \\omega} & 0 & \\frac{E_{y}^{p} \\chi_{mm} k_{x}}{2 \\mu \\omega}\\end{matrix}\\right]$$"
      ],
      "text/plain": [
       "<IPython.core.display.Math object>"
      ]
     },
     "metadata": {},
     "output_type": "display_data"
    },
    {
     "name": "stdout",
     "output_type": "stream",
     "text": [
      "--------------------  transverse components  --------------------\n"
     ]
    },
    {
     "data": {
      "text/latex": [
       "$$P_{st} = \\left[\\begin{matrix}\\frac{H_{y}^{s} \\chi_{ee} k_{z}}{2 \\epsilon \\omega} + \\frac{H_{y}^{s} \\chi_{em}}{2} & 0 & 0\\end{matrix}\\right]$$"
      ],
      "text/plain": [
       "<IPython.core.display.Math object>"
      ]
     },
     "metadata": {},
     "output_type": "display_data"
    },
    {
     "data": {
      "text/latex": [
       "$$M_{st} = \\left[\\begin{matrix}0 & \\frac{H_{y}^{s} \\chi_{me} k_{z}}{2 \\epsilon \\omega} + \\frac{H_{y}^{s} \\chi_{mm}}{2} & 0\\end{matrix}\\right]$$"
      ],
      "text/plain": [
       "<IPython.core.display.Math object>"
      ]
     },
     "metadata": {},
     "output_type": "display_data"
    },
    {
     "data": {
      "text/latex": [
       "$$P_{pt} = \\left[\\begin{matrix}0 & \\frac{E_{y}^{p} \\chi_{ee}}{2} - \\frac{E_{y}^{p} \\chi_{em} k_{z}}{2 \\mu \\omega} & 0\\end{matrix}\\right]$$"
      ],
      "text/plain": [
       "<IPython.core.display.Math object>"
      ]
     },
     "metadata": {},
     "output_type": "display_data"
    },
    {
     "data": {
      "text/latex": [
       "$$M_{pt} = \\left[\\begin{matrix}\\frac{E_{y}^{p} \\chi_{me}}{2} - \\frac{E_{y}^{p} \\chi_{mm} k_{z}}{2 \\mu \\omega} & 0 & 0\\end{matrix}\\right]$$"
      ],
      "text/plain": [
       "<IPython.core.display.Math object>"
      ]
     },
     "metadata": {},
     "output_type": "display_data"
    },
    {
     "name": "stdout",
     "output_type": "stream",
     "text": [
      "--------------------  normal components  --------------------\n"
     ]
    },
    {
     "data": {
      "text/latex": [
       "$$\\nabla P_{sn} = \\left[\\begin{matrix}0 & 0 & 0\\end{matrix}\\right]$$"
      ],
      "text/plain": [
       "<IPython.core.display.Math object>"
      ]
     },
     "metadata": {},
     "output_type": "display_data"
    },
    {
     "data": {
      "text/latex": [
       "$$\\nabla M_{sn} = \\left[\\begin{matrix}0 & 0 & 0\\end{matrix}\\right]$$"
      ],
      "text/plain": [
       "<IPython.core.display.Math object>"
      ]
     },
     "metadata": {},
     "output_type": "display_data"
    },
    {
     "data": {
      "text/latex": [
       "$$\\nabla P_{pn} = \\left[\\begin{matrix}0 & 0 & 0\\end{matrix}\\right]$$"
      ],
      "text/plain": [
       "<IPython.core.display.Math object>"
      ]
     },
     "metadata": {},
     "output_type": "display_data"
    },
    {
     "data": {
      "text/latex": [
       "$$\\nabla M_{pn} = \\left[\\begin{matrix}0 & 0 & 0\\end{matrix}\\right]$$"
      ],
      "text/plain": [
       "<IPython.core.display.Math object>"
      ]
     },
     "metadata": {},
     "output_type": "display_data"
    },
    {
     "data": {
      "text/latex": [
       "$$z\\times \\nabla P_{sn} = \\left[\\begin{matrix}0 & 0 & 0\\end{matrix}\\right]$$"
      ],
      "text/plain": [
       "<IPython.core.display.Math object>"
      ]
     },
     "metadata": {},
     "output_type": "display_data"
    },
    {
     "data": {
      "text/latex": [
       "$$z\\times \\nabla M_{sn} = \\left[\\begin{matrix}0 & 0 & 0\\end{matrix}\\right]$$"
      ],
      "text/plain": [
       "<IPython.core.display.Math object>"
      ]
     },
     "metadata": {},
     "output_type": "display_data"
    },
    {
     "data": {
      "text/latex": [
       "$$z\\times \\nabla P_{pn} = \\left[\\begin{matrix}0 & 0 & 0\\end{matrix}\\right]$$"
      ],
      "text/plain": [
       "<IPython.core.display.Math object>"
      ]
     },
     "metadata": {},
     "output_type": "display_data"
    },
    {
     "data": {
      "text/latex": [
       "$$z\\times \\nabla M_{pn} = \\left[\\begin{matrix}0 & 0 & 0\\end{matrix}\\right]$$"
      ],
      "text/plain": [
       "<IPython.core.display.Math object>"
      ]
     },
     "metadata": {},
     "output_type": "display_data"
    },
    {
     "name": "stdout",
     "output_type": "stream",
     "text": [
      "--------------------  equations  --------------------\n"
     ]
    },
    {
     "data": {
      "text/latex": [
       "$$s \\Delta H : \\left[\\begin{matrix}H_{y}^{s} - i \\omega \\left(\\frac{H_{y}^{s} \\chi_{ee} k_{z}}{2 \\epsilon \\omega} + \\frac{H_{y}^{s} \\chi_{em}}{2}\\right) & 0 & 0\\end{matrix}\\right]$$"
      ],
      "text/plain": [
       "<IPython.core.display.Math object>"
      ]
     },
     "metadata": {},
     "output_type": "display_data"
    },
    {
     "data": {
      "text/latex": [
       "$$s \\Delta E : \\left[\\begin{matrix}0 & - \\frac{H_{y}^{s} k_{z}}{\\epsilon \\omega} + i \\omega \\left(\\frac{H_{y}^{s} \\chi_{me} k_{z}}{2 \\epsilon \\omega} + \\frac{H_{y}^{s} \\chi_{mm}}{2}\\right) & 0\\end{matrix}\\right]$$"
      ],
      "text/plain": [
       "<IPython.core.display.Math object>"
      ]
     },
     "metadata": {},
     "output_type": "display_data"
    },
    {
     "data": {
      "text/latex": [
       "$$p \\Delta H : \\left[\\begin{matrix}0 & \\frac{E_{y}^{p} k_{z}}{\\mu \\omega} - i \\omega \\left(\\frac{E_{y}^{p} \\chi_{ee}}{2} - \\frac{E_{y}^{p} \\chi_{em} k_{z}}{2 \\mu \\omega}\\right) & 0\\end{matrix}\\right]$$"
      ],
      "text/plain": [
       "<IPython.core.display.Math object>"
      ]
     },
     "metadata": {},
     "output_type": "display_data"
    },
    {
     "data": {
      "text/latex": [
       "$$p \\Delta E : \\left[\\begin{matrix}E_{y}^{p} + i \\omega \\left(\\frac{E_{y}^{p} \\chi_{me}}{2} - \\frac{E_{y}^{p} \\chi_{mm} k_{z}}{2 \\mu \\omega}\\right) & 0 & 0\\end{matrix}\\right]$$"
      ],
      "text/plain": [
       "<IPython.core.display.Math object>"
      ]
     },
     "metadata": {},
     "output_type": "display_data"
    }
   ],
   "source": [
    "from sympy import *\n",
    "from Electromagnetics.VectorCalculus import *\n",
    "from IPython.display import display, Math, Latex\n",
    "\n",
    "from sympy.utilities.lambdify import lambdastr\n",
    "from Electromagnetics import Misc\n",
    "\n",
    "x, y, z = symbols('x y z')\n",
    "Ey_p = Symbol('E_{y}^{p}')\n",
    "Hy_s = Symbol('H_{y}^{s}')\n",
    "kx, kz = symbols('k_x k_z')\n",
    "omega, k0 = symbols('\\\\omega k_0', real=True, positive=True)\n",
    "eps, mu, eta = symbols('\\\\epsilon \\\\mu \\\\eta')\n",
    "\n",
    "ki = Matrix([kx, 0, kz])\n",
    "r = Matrix([x, y, z])\n",
    "r_T = Matrix([x, y, 0])\n",
    "\n",
    "Ei_p = Matrix([[0, Ey_p, 0]])*exp(-I*dotproduct(ki, r))\n",
    "Hi_s = Matrix([[0, Hy_s, 0]])*exp(-I*dotproduct(ki, r))\n",
    "\n",
    "Hi_p = -1/(I*omega*mu)*curl_r(Ei_p)\n",
    "Hi_p = Misc.SymMatrixdoit(Hi_p)\n",
    "\n",
    "Ei_s = 1/(I*omega*eps)*curl_r(Hi_s)\n",
    "Ei_s = Misc.SymMatrixdoit(Ei_s)\n",
    "\n",
    "print('-'*20, ' TE ', '-'*20)\n",
    "display(Math('E_{ip} = ' + latex(Ei_p)))\n",
    "display(Math('H_{ip} = ' + latex(Hi_p)))\n",
    "\n",
    "print('-'*20, ' TM ', '-'*20)\n",
    "display(Math('E_{is} = ' + latex(Ei_s)))\n",
    "display(Math('H_{is} = ' + latex(Hi_s)))\n",
    "\n",
    "              \n",
    "Ei_p = Misc.SymMatrixSimplify(Ei_p.subs(z,0)*exp(I*dotproduct(ki, r_T)))\n",
    "Hi_p = Misc.SymMatrixSimplify(Hi_p.subs(z,0)*exp(I*dotproduct(ki, r_T)))\n",
    "\n",
    "Ei_s = Misc.SymMatrixSimplify(Ei_s.subs(z,0)*exp(I*dotproduct(ki, r_T)))\n",
    "Hi_s = Misc.SymMatrixSimplify(Hi_s.subs(z,0)*exp(I*dotproduct(ki, r_T)))\n",
    "\n",
    "print('-'*20, ' TE at z=0 ', '-'*20)\n",
    "display(Math('E_{ip} = ' + latex(Ei_p)))\n",
    "display(Math('H_{ip} = ' + latex(Hi_p)))\n",
    "\n",
    "print('-'*20, ' TM at z=0 ', '-'*20)\n",
    "display(Math('E_{is} = ' + latex(Ei_s)))\n",
    "display(Math('H_{is} = ' + latex(Hi_s)))\n",
    "\n",
    "a_z = Matrix([[0, 0, 1]])\n",
    "\n",
    "zxE_s = crossproduct(a_z, -Ei_s)  ## transmission side - incident side\n",
    "zxE_p = crossproduct(a_z, -Ei_p)  ## transmission side - incident side\n",
    "\n",
    "print('-'*20, ' z x dE ', '-'*20)\n",
    "display(Math(r'z\\times E_s = ' + latex(zxE_s)))\n",
    "display(Math(r'z\\times E_p = ' + latex(zxE_p)))\n",
    "\n",
    "zxH_s = crossproduct(a_z, -Hi_s)   ## transmission side - incident side\n",
    "zxH_p = crossproduct(a_z, -Hi_p)   ## transmission side - incident side\n",
    "\n",
    "print('-'*20, ' z x dH ', '-'*20)\n",
    "display(Math(r'z\\times H_s = ' + latex(zxH_s)))\n",
    "display(Math(r'z\\times H_p = ' + latex(zxH_p)))\n",
    "\n",
    "X_ee, X_mm, X_em, X_me = symbols(r'\\chi_{ee} \\chi_{mm} \\chi_{em} \\chi_{me}')\n",
    "              \n",
    "X_ee_mat = Matrix([[X_ee, 0, 0],\n",
    "                   [0, X_ee, 0],\n",
    "                   [0, 0, X_ee]])\n",
    "\n",
    "X_mm_mat = Matrix([[X_mm, 0, 0],\n",
    "                   [0, X_mm, 0],\n",
    "                   [0, 0, X_mm]])\n",
    "\n",
    "X_em_mat = Matrix([[0, X_em, 0],\n",
    "                   [X_em, 0, 0],\n",
    "                   [0, 0, 0]])\n",
    "\n",
    "X_me_mat = Matrix([[0, X_me, 0],\n",
    "                   [X_me, 0, 0],\n",
    "                   [0,    0, 0]])\n",
    "\n",
    "\n",
    "E_s_avg = Ei_s/2\n",
    "H_s_avg = Hi_s/2\n",
    "\n",
    "E_p_avg = Ei_p/2\n",
    "H_p_avg = Hi_p/2\n",
    "\n",
    "print('-'*20, ' average fields ', '-'*20)\n",
    "\n",
    "display(Math(r'\\bar{E}_s = ' + latex(E_s_avg)))\n",
    "display(Math(r'\\bar{H}_s = ' + latex(H_s_avg)))\n",
    "\n",
    "display(Math(r'\\bar{E}_p = ' + latex(E_p_avg)))\n",
    "display(Math(r'\\bar{H}_p = ' + latex(H_p_avg)))\n",
    "\n",
    "\n",
    "P_s =  (X_ee_mat * E_s_avg.T + X_em_mat * H_s_avg.T).T\n",
    "M_s =  (X_mm_mat * H_s_avg.T + X_me_mat * E_s_avg.T).T\n",
    "\n",
    "P_p =  (X_ee_mat * E_p_avg.T + X_em_mat * H_p_avg.T).T\n",
    "M_p =  (X_mm_mat * H_p_avg.T + X_me_mat * E_p_avg.T).T\n",
    "\n",
    "print('-'*20, ' polarization densities ', '-'*20)\n",
    "\n",
    "display(Math(r'P_s = ' + latex(P_s)))\n",
    "display(Math(r'M_s = ' + latex(M_s)))\n",
    "\n",
    "display(Math(r'P_p = ' + latex(P_p)))\n",
    "display(Math(r'M_p = ' + latex(M_p)))\n",
    "\n",
    "P_s_t = P_s.copy()\n",
    "M_s_t = M_s.copy()\n",
    "P_s_t[2] = 0\n",
    "M_s_t[2] = 0\n",
    "\n",
    "P_p_t = P_p.copy()\n",
    "M_p_t = M_p.copy()\n",
    "P_p_t[2] = 0\n",
    "M_p_t[2] = 0\n",
    "\n",
    "print('-'*20, ' transverse components ', '-'*20)\n",
    "\n",
    "display(Math(r'P_{st} = ' + latex(P_s_t)))\n",
    "display(Math(r'M_{st} = ' + latex(M_s_t)))\n",
    "\n",
    "display(Math(r'P_{pt} = ' + latex(P_p_t)))\n",
    "display(Math(r'M_{pt} = ' + latex(M_p_t)))\n",
    "\n",
    "print('-'*20, ' normal components ', '-'*20)\n",
    "\n",
    "Grad_P_s_n = -I*ki*P_s[2]*0\n",
    "Grad_M_s_n = -I*ki*M_s[2]*0\n",
    "Grad_P_p_n = -I*ki*P_p[2]*0\n",
    "Grad_M_p_n = -I*ki*M_p[2]*0\n",
    "\n",
    "display(Math(r'\\nabla P_{sn} = ' + latex(Grad_P_s_n.T)))\n",
    "display(Math(r'\\nabla M_{sn} = ' + latex(Grad_M_s_n.T)))\n",
    "\n",
    "display(Math(r'\\nabla P_{pn} = ' + latex(Grad_P_p_n.T)))\n",
    "display(Math(r'\\nabla M_{pn} = ' + latex(Grad_M_p_n.T)))\n",
    "\n",
    "\n",
    "zxGP_sn = crossproduct(a_z, Grad_P_s_n)\n",
    "zxGM_sn = crossproduct(a_z, Grad_M_s_n)\n",
    "zxGP_pn = crossproduct(a_z, Grad_P_p_n)\n",
    "zxGM_pn = crossproduct(a_z, Grad_M_p_n)\n",
    "\n",
    "display(Math(r'z\\times \\nabla P_{sn} = ' + latex(zxGP_sn)))\n",
    "display(Math(r'z\\times \\nabla M_{sn} = ' + latex(zxGM_sn)))\n",
    "\n",
    "display(Math(r'z\\times \\nabla P_{pn} = ' + latex(zxGP_pn)))\n",
    "display(Math(r'z\\times \\nabla M_{pn} = ' + latex(zxGM_pn)))\n",
    "\n",
    "\n",
    "Eq_s_dH = zxH_s - (I*omega*P_s_t - 1/mu*zxGM_sn)\n",
    "Eq_s_dE = zxE_s - (-I*omega*M_s_t - 1/eps*zxGP_sn)\n",
    "Eq_p_dH = zxH_p - (I*omega*P_p_t - 1/mu*zxGM_pn)\n",
    "Eq_p_dE = zxE_p - (-I*omega*M_p_t - 1/eps*zxGP_pn)\n",
    "\n",
    "print('-'*20, ' equations ', '-'*20)\n",
    "\n",
    "display(Math(r's \\Delta H : ' + latex(Eq_s_dH)))\n",
    "display(Math(r's \\Delta E : ' + latex(Eq_s_dE)))\n",
    "\n",
    "display(Math(r'p \\Delta H : ' + latex(Eq_p_dH)))\n",
    "display(Math(r'p \\Delta E : ' + latex(Eq_p_dE)))\n",
    "\n"
   ]
  },
  {
   "cell_type": "code",
   "execution_count": null,
   "metadata": {
    "collapsed": true
   },
   "outputs": [],
   "source": []
  }
 ],
 "metadata": {
  "kernelspec": {
   "display_name": "Python 3",
   "language": "python",
   "name": "python3"
  },
  "language_info": {
   "codemirror_mode": {
    "name": "ipython",
    "version": 3
   },
   "file_extension": ".py",
   "mimetype": "text/x-python",
   "name": "python",
   "nbconvert_exporter": "python",
   "pygments_lexer": "ipython3",
   "version": "3.5.2"
  }
 },
 "nbformat": 4,
 "nbformat_minor": 1
}
