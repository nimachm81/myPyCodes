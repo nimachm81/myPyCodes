{
 "cells": [
  {
   "cell_type": "code",
   "execution_count": 3,
   "metadata": {},
   "outputs": [
    {
     "name": "stdout",
     "output_type": "stream",
     "text": [
      "possible material types :  dict_keys(['sigma_tensor', 'all_scalar'])\n",
      "material name:  freespace    type : all_scalar\n",
      "material name:  graphene    type : sigma_tensor\n",
      "-------------------- all scalar material --------------------\n"
     ]
    },
    {
     "name": "stderr",
     "output_type": "stream",
     "text": [
      "[autoreload of Electromagnetics.MaxwellEigState2D failed: Traceback (most recent call last):\n",
      "  File \"/usr/lib/python3/dist-packages/IPython/extensions/autoreload.py\", line 229, in check\n",
      "    superreload(m, reload, self.old_objects)\n",
      "AttributeError: __abstractmethods__\n",
      "]\n"
     ]
    },
    {
     "data": {
      "text/latex": [
       "$$\\left[\\begin{matrix}i H_{{x}} \\mu \\omega - \\frac{d}{d z} E_{{y}} + \\frac{d}{d y} E_{{z}} & i H_{{y}} \\mu \\omega + \\frac{d}{d z} E_{{x}} - \\frac{d}{d x} E_{{z}} & i H_{{z}} \\mu \\omega - \\frac{d}{d y} E_{{x}} + \\frac{d}{d x} E_{{y}}\\end{matrix}\\right]$$"
      ],
      "text/plain": [
       "<IPython.core.display.Math at 0x7f53b0026128>"
      ]
     },
     "metadata": {},
     "output_type": "display_data"
    },
    {
     "data": {
      "text/latex": [
       "$$\\left[\\begin{matrix}- E_{{x}} \\left(i \\epsilon \\omega + \\sigma\\right) - \\frac{d}{d z} H_{{y}} + \\frac{d}{d y} H_{{z}} & - E_{{y}} \\left(i \\epsilon \\omega + \\sigma\\right) + \\frac{d}{d z} H_{{x}} - \\frac{d}{d x} H_{{z}} & - E_{{z}} \\left(i \\epsilon \\omega + \\sigma\\right) - \\frac{d}{d y} H_{{x}} + \\frac{d}{d x} H_{{y}}\\end{matrix}\\right]$$"
      ],
      "text/plain": [
       "<IPython.core.display.Math at 0x7f53b0026128>"
      ]
     },
     "metadata": {},
     "output_type": "display_data"
    },
    {
     "data": {
      "text/latex": [
       "$$\\left[\\begin{matrix}i \\mu \\omega \\operatorname{H_{{x}}}{\\left (x,y \\right )} e^{- i k z} - \\frac{\\partial}{\\partial z}\\left(\\operatorname{E_{{y}}}{\\left (x,y \\right )} e^{- i k z}\\right) + \\frac{\\partial}{\\partial y}\\left(\\operatorname{E_{{z}}}{\\left (x,y \\right )} e^{- i k z}\\right) & i \\mu \\omega \\operatorname{H_{{y}}}{\\left (x,y \\right )} e^{- i k z} + \\frac{\\partial}{\\partial z}\\left(\\operatorname{E_{{x}}}{\\left (x,y \\right )} e^{- i k z}\\right) - \\frac{\\partial}{\\partial x}\\left(\\operatorname{E_{{z}}}{\\left (x,y \\right )} e^{- i k z}\\right) & i \\mu \\omega \\operatorname{H_{{z}}}{\\left (x,y \\right )} e^{- i k z} - \\frac{\\partial}{\\partial y}\\left(\\operatorname{E_{{x}}}{\\left (x,y \\right )} e^{- i k z}\\right) + \\frac{\\partial}{\\partial x}\\left(\\operatorname{E_{{y}}}{\\left (x,y \\right )} e^{- i k z}\\right)\\end{matrix}\\right]$$"
      ],
      "text/plain": [
       "<IPython.core.display.Math at 0x7f53707d9940>"
      ]
     },
     "metadata": {},
     "output_type": "display_data"
    },
    {
     "data": {
      "text/latex": [
       "$$\\left[\\begin{matrix}- \\left(i \\epsilon \\omega + \\sigma\\right) \\operatorname{E_{{x}}}{\\left (x,y \\right )} e^{- i k z} - \\frac{\\partial}{\\partial z}\\left(\\operatorname{H_{{y}}}{\\left (x,y \\right )} e^{- i k z}\\right) + \\frac{\\partial}{\\partial y}\\left(\\operatorname{H_{{z}}}{\\left (x,y \\right )} e^{- i k z}\\right) & - \\left(i \\epsilon \\omega + \\sigma\\right) \\operatorname{E_{{y}}}{\\left (x,y \\right )} e^{- i k z} + \\frac{\\partial}{\\partial z}\\left(\\operatorname{H_{{x}}}{\\left (x,y \\right )} e^{- i k z}\\right) - \\frac{\\partial}{\\partial x}\\left(\\operatorname{H_{{z}}}{\\left (x,y \\right )} e^{- i k z}\\right) & - \\left(i \\epsilon \\omega + \\sigma\\right) \\operatorname{E_{{z}}}{\\left (x,y \\right )} e^{- i k z} - \\frac{\\partial}{\\partial y}\\left(\\operatorname{H_{{x}}}{\\left (x,y \\right )} e^{- i k z}\\right) + \\frac{\\partial}{\\partial x}\\left(\\operatorname{H_{{y}}}{\\left (x,y \\right )} e^{- i k z}\\right)\\end{matrix}\\right]$$"
      ],
      "text/plain": [
       "<IPython.core.display.Math at 0x7f537af838d0>"
      ]
     },
     "metadata": {},
     "output_type": "display_data"
    },
    {
     "data": {
      "text/latex": [
       "$$MF = \\left[\\begin{matrix}i \\mu \\omega \\operatorname{H_{{x}}}{\\left (x,y \\right )} + i k \\operatorname{E_{{y}}}{\\left (x,y \\right )} + \\frac{\\partial}{\\partial y} \\operatorname{E_{{z}}}{\\left (x,y \\right )}\\\\i \\mu \\omega \\operatorname{H_{{y}}}{\\left (x,y \\right )} - i k \\operatorname{E_{{x}}}{\\left (x,y \\right )} - \\frac{\\partial}{\\partial x} \\operatorname{E_{{z}}}{\\left (x,y \\right )}\\\\i \\mu \\omega \\operatorname{H_{{z}}}{\\left (x,y \\right )} - \\frac{\\partial}{\\partial y} \\operatorname{E_{{x}}}{\\left (x,y \\right )} + \\frac{\\partial}{\\partial x} \\operatorname{E_{{y}}}{\\left (x,y \\right )}\\end{matrix}\\right]$$"
      ],
      "text/plain": [
       "<IPython.core.display.Math at 0x7f537b8f1e80>"
      ]
     },
     "metadata": {},
     "output_type": "display_data"
    },
    {
     "data": {
      "text/latex": [
       "$$MA = \\left[\\begin{matrix}i k \\operatorname{H_{{y}}}{\\left (x,y \\right )} - \\left(i \\epsilon \\omega + \\sigma\\right) \\operatorname{E_{{x}}}{\\left (x,y \\right )} + \\frac{\\partial}{\\partial y} \\operatorname{H_{{z}}}{\\left (x,y \\right )}\\\\- i k \\operatorname{H_{{x}}}{\\left (x,y \\right )} - \\left(i \\epsilon \\omega + \\sigma\\right) \\operatorname{E_{{y}}}{\\left (x,y \\right )} - \\frac{\\partial}{\\partial x} \\operatorname{H_{{z}}}{\\left (x,y \\right )}\\\\- \\left(i \\epsilon \\omega + \\sigma\\right) \\operatorname{E_{{z}}}{\\left (x,y \\right )} - \\frac{\\partial}{\\partial y} \\operatorname{H_{{x}}}{\\left (x,y \\right )} + \\frac{\\partial}{\\partial x} \\operatorname{H_{{y}}}{\\left (x,y \\right )}\\end{matrix}\\right]$$"
      ],
      "text/plain": [
       "<IPython.core.display.Math at 0x7f537b8c6e80>"
      ]
     },
     "metadata": {},
     "output_type": "display_data"
    },
    {
     "data": {
      "text/latex": [
       "$$MF = \\left[\\begin{matrix}i E_{{y}} k + i H_{{x}} \\mu \\omega + \\frac{d}{d y} E_{{z}}\\\\- i E_{{x}} k + i H_{{y}} \\mu \\omega - \\frac{d}{d x} E_{{z}}\\\\i H_{{z}} \\mu \\omega - \\frac{d}{d y} E_{{x}} + \\frac{d}{d x} E_{{y}}\\end{matrix}\\right]$$"
      ],
      "text/plain": [
       "<IPython.core.display.Math at 0x7f53707d9f28>"
      ]
     },
     "metadata": {},
     "output_type": "display_data"
    },
    {
     "data": {
      "text/latex": [
       "$$MA = \\left[\\begin{matrix}- E_{{x}} \\left(i \\epsilon \\omega + \\sigma\\right) + i H_{{y}} k + \\frac{d}{d y} H_{{z}}\\\\- E_{{y}} \\left(i \\epsilon \\omega + \\sigma\\right) - i H_{{x}} k - \\frac{d}{d x} H_{{z}}\\\\- E_{{z}} \\left(i \\epsilon \\omega + \\sigma\\right) - \\frac{d}{d y} H_{{x}} + \\frac{d}{d x} H_{{y}}\\end{matrix}\\right]$$"
      ],
      "text/plain": [
       "<IPython.core.display.Math at 0x7f53b0026128>"
      ]
     },
     "metadata": {},
     "output_type": "display_data"
    },
    {
     "name": "stdout",
     "output_type": "stream",
     "text": [
      "normalizing to k_0\n"
     ]
    },
    {
     "data": {
      "text/latex": [
       "$$MF = \\left[\\begin{matrix}\\frac{1}{k_{0}} \\left(- E_{{y}} k - H_{{x}} \\mu \\omega + i \\frac{d}{d y} E_{{z}}\\right)\\\\\\frac{1}{k_{0}} \\left(- E_{{x}} k + H_{{y}} \\mu \\omega + i \\frac{d}{d x} E_{{z}}\\right)\\\\i H_{{z}} \\mu \\omega - \\frac{d}{d y} E_{{x}} + \\frac{d}{d x} E_{{y}}\\end{matrix}\\right]$$"
      ],
      "text/plain": [
       "<IPython.core.display.Math at 0x7f537b8f1e80>"
      ]
     },
     "metadata": {},
     "output_type": "display_data"
    },
    {
     "data": {
      "text/latex": [
       "$$MA = \\left[\\begin{matrix}\\frac{i}{k_{0}} \\left(- E_{{x}} \\left(i \\epsilon \\omega + \\sigma\\right) + i H_{{y}} k + \\frac{d}{d y} H_{{z}}\\right)\\\\\\frac{i}{k_{0}} \\left(E_{{y}} \\left(i \\epsilon \\omega + \\sigma\\right) + i H_{{x}} k + \\frac{d}{d x} H_{{z}}\\right)\\\\- E_{{z}} \\left(i \\epsilon \\omega + \\sigma\\right) - \\frac{d}{d y} H_{{x}} + \\frac{d}{d x} H_{{y}}\\end{matrix}\\right]$$"
      ],
      "text/plain": [
       "<IPython.core.display.Math at 0x7f537b8f1e80>"
      ]
     },
     "metadata": {},
     "output_type": "display_data"
    },
    {
     "data": {
      "text/latex": [
       "$$MF = \\left[\\begin{matrix}\\frac{1}{k_{0}} \\left(- H_{{x}} \\mu \\omega + i \\frac{d}{d y} E_{{z}}\\right)\\\\\\frac{1}{k_{0}} \\left(H_{{y}} \\mu \\omega + i \\frac{d}{d x} E_{{z}}\\right)\\\\i H_{{z}} \\mu \\omega - \\frac{d}{d y} E_{{x}} + \\frac{d}{d x} E_{{y}}\\end{matrix}\\right]$$"
      ],
      "text/plain": [
       "<IPython.core.display.Math at 0x7f537b8c6e80>"
      ]
     },
     "metadata": {},
     "output_type": "display_data"
    },
    {
     "data": {
      "text/latex": [
       "$$MA = \\left[\\begin{matrix}\\frac{i}{k_{0}} \\left(- E_{{x}} \\left(i \\epsilon \\omega + \\sigma\\right) + \\frac{d}{d y} H_{{z}}\\right)\\\\\\frac{i}{k_{0}} \\left(E_{{y}} \\left(i \\epsilon \\omega + \\sigma\\right) + \\frac{d}{d x} H_{{z}}\\right)\\\\- E_{{z}} \\left(i \\epsilon \\omega + \\sigma\\right) - \\frac{d}{d y} H_{{x}} + \\frac{d}{d x} H_{{y}}\\end{matrix}\\right]$$"
      ],
      "text/plain": [
       "<IPython.core.display.Math at 0x7f537b8c6e80>"
      ]
     },
     "metadata": {},
     "output_type": "display_data"
    },
    {
     "name": "stdout",
     "output_type": "stream",
     "text": [
      "scalar epsilon mu sigma equations: \n"
     ]
    },
    {
     "data": {
      "text/latex": [
       "$$Eqs = \\left[\\begin{matrix}\\frac{1}{k_{0}} \\left(H_{{y}} \\mu \\omega + i \\frac{d}{d x} E_{{z}}\\right)\\\\\\frac{1}{k_{0}} \\left(- H_{{x}} \\mu \\omega + i \\frac{d}{d y} E_{{z}}\\right)\\\\\\frac{i}{k_{0}} \\left(E_{{y}} \\left(i \\epsilon \\omega + \\sigma\\right) + \\frac{d}{d x} H_{{z}}\\right)\\\\\\frac{i}{k_{0}} \\left(- E_{{x}} \\left(i \\epsilon \\omega + \\sigma\\right) + \\frac{d}{d y} H_{{z}}\\right)\\\\- E_{{z}} \\left(i \\epsilon \\omega + \\sigma\\right) - \\frac{d}{d y} H_{{x}} + \\frac{d}{d x} H_{{y}}\\\\i H_{{z}} \\mu \\omega - \\frac{d}{d y} E_{{x}} + \\frac{d}{d x} E_{{y}}\\end{matrix}\\right]$$"
      ],
      "text/plain": [
       "<IPython.core.display.Math at 0x7f537b8c6e80>"
      ]
     },
     "metadata": {},
     "output_type": "display_data"
    },
    {
     "data": {
      "text/latex": [
       "$$Vars = \\left[\\begin{matrix}E_{{x}}\\\\E_{{y}}\\\\H_{{x}}\\\\H_{{y}}\\\\E_{{z}}\\\\H_{{z}}\\end{matrix}\\right]$$"
      ],
      "text/plain": [
       "<IPython.core.display.Math at 0x7f537b8c6e80>"
      ]
     },
     "metadata": {},
     "output_type": "display_data"
    },
    {
     "name": "stdout",
     "output_type": "stream",
     "text": [
      "disintegrating equations\n"
     ]
    },
    {
     "data": {
      "text/latex": [
       "$$Eqs_b[0] = \\left[\\begin{matrix}\\frac{H_{{y}} \\mu}{k_{0}} \\omega & \\frac{i}{k_{0}} \\frac{d}{d x} E_{{z}}\\end{matrix}\\right]$$"
      ],
      "text/plain": [
       "<IPython.core.display.Math at 0x7f5381843710>"
      ]
     },
     "metadata": {},
     "output_type": "display_data"
    },
    {
     "data": {
      "text/latex": [
       "$$Eqs_b[1] = \\left[\\begin{matrix}- \\frac{H_{{x}} \\mu}{k_{0}} \\omega & \\frac{i}{k_{0}} \\frac{d}{d y} E_{{z}}\\end{matrix}\\right]$$"
      ],
      "text/plain": [
       "<IPython.core.display.Math at 0x7f53b00260b8>"
      ]
     },
     "metadata": {},
     "output_type": "display_data"
    },
    {
     "data": {
      "text/latex": [
       "$$Eqs_b[2] = \\left[\\begin{matrix}\\frac{E_{{y}}}{k_{0}} \\left(- \\epsilon \\omega + i \\sigma\\right) & \\frac{i}{k_{0}} \\frac{d}{d x} H_{{z}}\\end{matrix}\\right]$$"
      ],
      "text/plain": [
       "<IPython.core.display.Math at 0x7f5381843710>"
      ]
     },
     "metadata": {},
     "output_type": "display_data"
    },
    {
     "data": {
      "text/latex": [
       "$$Eqs_b[3] = \\left[\\begin{matrix}\\frac{E_{{x}}}{k_{0}} \\left(\\epsilon \\omega - i \\sigma\\right) & \\frac{i}{k_{0}} \\frac{d}{d y} H_{{z}}\\end{matrix}\\right]$$"
      ],
      "text/plain": [
       "<IPython.core.display.Math at 0x7f53b00260b8>"
      ]
     },
     "metadata": {},
     "output_type": "display_data"
    },
    {
     "data": {
      "text/latex": [
       "$$Eqs_b[4] = \\left[\\begin{matrix}- E_{{z}} \\left(i \\epsilon \\omega + \\sigma\\right) & - \\frac{d}{d y} H_{{x}} & \\frac{d}{d x} H_{{y}}\\end{matrix}\\right]$$"
      ],
      "text/plain": [
       "<IPython.core.display.Math at 0x7f5381843710>"
      ]
     },
     "metadata": {},
     "output_type": "display_data"
    },
    {
     "data": {
      "text/latex": [
       "$$Eqs_b[5] = \\left[\\begin{matrix}i H_{{z}} \\mu \\omega & - \\frac{d}{d y} E_{{x}} & \\frac{d}{d x} E_{{y}}\\end{matrix}\\right]$$"
      ],
      "text/plain": [
       "<IPython.core.display.Math at 0x7f53b00260b8>"
      ]
     },
     "metadata": {},
     "output_type": "display_data"
    },
    {
     "name": "stdout",
     "output_type": "stream",
     "text": [
      "-------------------- Sigma tensor material --------------------\n"
     ]
    },
    {
     "data": {
      "text/latex": [
       "$$\\left[\\begin{matrix}i H_{{x}} \\mu \\omega - \\frac{d}{d z} E_{{y}} + \\frac{d}{d y} E_{{z}} & i H_{{y}} \\mu \\omega + \\frac{d}{d z} E_{{x}} - \\frac{d}{d x} E_{{z}} & i H_{{z}} \\mu \\omega - \\frac{d}{d y} E_{{x}} + \\frac{d}{d x} E_{{y}}\\end{matrix}\\right]$$"
      ],
      "text/plain": [
       "<IPython.core.display.Math at 0x7f53b0026128>"
      ]
     },
     "metadata": {},
     "output_type": "display_data"
    },
    {
     "data": {
      "text/latex": [
       "$$\\left[\\begin{matrix}- i E_{{x}} \\epsilon \\omega - E_{{x}} \\sigma_{{xx}} - E_{{y}} \\sigma_{{xy}} - E_{{z}} \\sigma_{{xz}} - \\frac{d}{d z} H_{{y}} + \\frac{d}{d y} H_{{z}} & - E_{{x}} \\sigma_{{yx}} - i E_{{y}} \\epsilon \\omega - E_{{y}} \\sigma_{{yy}} - E_{{z}} \\sigma_{{yz}} + \\frac{d}{d z} H_{{x}} - \\frac{d}{d x} H_{{z}} & - E_{{x}} \\sigma_{{zx}} - E_{{y}} \\sigma_{{zy}} - i E_{{z}} \\epsilon \\omega - E_{{z}} \\sigma_{{zz}} - \\frac{d}{d y} H_{{x}} + \\frac{d}{d x} H_{{y}}\\end{matrix}\\right]$$"
      ],
      "text/plain": [
       "<IPython.core.display.Math at 0x7f5371256eb8>"
      ]
     },
     "metadata": {},
     "output_type": "display_data"
    },
    {
     "data": {
      "text/latex": [
       "$$\\left[\\begin{matrix}i \\mu \\omega \\operatorname{H_{{x}}}{\\left (x,y \\right )} e^{- i k z} - \\frac{\\partial}{\\partial z}\\left(\\operatorname{E_{{y}}}{\\left (x,y \\right )} e^{- i k z}\\right) + \\frac{\\partial}{\\partial y}\\left(\\operatorname{E_{{z}}}{\\left (x,y \\right )} e^{- i k z}\\right) & i \\mu \\omega \\operatorname{H_{{y}}}{\\left (x,y \\right )} e^{- i k z} + \\frac{\\partial}{\\partial z}\\left(\\operatorname{E_{{x}}}{\\left (x,y \\right )} e^{- i k z}\\right) - \\frac{\\partial}{\\partial x}\\left(\\operatorname{E_{{z}}}{\\left (x,y \\right )} e^{- i k z}\\right) & i \\mu \\omega \\operatorname{H_{{z}}}{\\left (x,y \\right )} e^{- i k z} - \\frac{\\partial}{\\partial y}\\left(\\operatorname{E_{{x}}}{\\left (x,y \\right )} e^{- i k z}\\right) + \\frac{\\partial}{\\partial x}\\left(\\operatorname{E_{{y}}}{\\left (x,y \\right )} e^{- i k z}\\right)\\end{matrix}\\right]$$"
      ],
      "text/plain": [
       "<IPython.core.display.Math at 0x7f537b8f1e80>"
      ]
     },
     "metadata": {},
     "output_type": "display_data"
    },
    {
     "data": {
      "text/latex": [
       "$$\\left[\\begin{matrix}- i \\epsilon \\omega \\operatorname{E_{{x}}}{\\left (x,y \\right )} e^{- i k z} - \\sigma_{{xx}} \\operatorname{E_{{x}}}{\\left (x,y \\right )} e^{- i k z} - \\sigma_{{xy}} \\operatorname{E_{{y}}}{\\left (x,y \\right )} e^{- i k z} - \\sigma_{{xz}} \\operatorname{E_{{z}}}{\\left (x,y \\right )} e^{- i k z} - \\frac{\\partial}{\\partial z}\\left(\\operatorname{H_{{y}}}{\\left (x,y \\right )} e^{- i k z}\\right) + \\frac{\\partial}{\\partial y}\\left(\\operatorname{H_{{z}}}{\\left (x,y \\right )} e^{- i k z}\\right) & - i \\epsilon \\omega \\operatorname{E_{{y}}}{\\left (x,y \\right )} e^{- i k z} - \\sigma_{{yx}} \\operatorname{E_{{x}}}{\\left (x,y \\right )} e^{- i k z} - \\sigma_{{yy}} \\operatorname{E_{{y}}}{\\left (x,y \\right )} e^{- i k z} - \\sigma_{{yz}} \\operatorname{E_{{z}}}{\\left (x,y \\right )} e^{- i k z} + \\frac{\\partial}{\\partial z}\\left(\\operatorname{H_{{x}}}{\\left (x,y \\right )} e^{- i k z}\\right) - \\frac{\\partial}{\\partial x}\\left(\\operatorname{H_{{z}}}{\\left (x,y \\right )} e^{- i k z}\\right) & - i \\epsilon \\omega \\operatorname{E_{{z}}}{\\left (x,y \\right )} e^{- i k z} - \\sigma_{{zx}} \\operatorname{E_{{x}}}{\\left (x,y \\right )} e^{- i k z} - \\sigma_{{zy}} \\operatorname{E_{{y}}}{\\left (x,y \\right )} e^{- i k z} - \\sigma_{{zz}} \\operatorname{E_{{z}}}{\\left (x,y \\right )} e^{- i k z} - \\frac{\\partial}{\\partial y}\\left(\\operatorname{H_{{x}}}{\\left (x,y \\right )} e^{- i k z}\\right) + \\frac{\\partial}{\\partial x}\\left(\\operatorname{H_{{y}}}{\\left (x,y \\right )} e^{- i k z}\\right)\\end{matrix}\\right]$$"
      ],
      "text/plain": [
       "<IPython.core.display.Math at 0x7f537b8f1e80>"
      ]
     },
     "metadata": {},
     "output_type": "display_data"
    },
    {
     "data": {
      "text/latex": [
       "$$MF = \\left[\\begin{matrix}i \\mu \\omega \\operatorname{H_{{x}}}{\\left (x,y \\right )} + i k \\operatorname{E_{{y}}}{\\left (x,y \\right )} + \\frac{\\partial}{\\partial y} \\operatorname{E_{{z}}}{\\left (x,y \\right )}\\\\i \\mu \\omega \\operatorname{H_{{y}}}{\\left (x,y \\right )} - i k \\operatorname{E_{{x}}}{\\left (x,y \\right )} - \\frac{\\partial}{\\partial x} \\operatorname{E_{{z}}}{\\left (x,y \\right )}\\\\i \\mu \\omega \\operatorname{H_{{z}}}{\\left (x,y \\right )} - \\frac{\\partial}{\\partial y} \\operatorname{E_{{x}}}{\\left (x,y \\right )} + \\frac{\\partial}{\\partial x} \\operatorname{E_{{y}}}{\\left (x,y \\right )}\\end{matrix}\\right]$$"
      ],
      "text/plain": [
       "<IPython.core.display.Math at 0x7f53707d9a90>"
      ]
     },
     "metadata": {},
     "output_type": "display_data"
    },
    {
     "data": {
      "text/latex": [
       "$$MA = \\left[\\begin{matrix}- i \\epsilon \\omega \\operatorname{E_{{x}}}{\\left (x,y \\right )} - \\sigma_{{xx}} \\operatorname{E_{{x}}}{\\left (x,y \\right )} - \\sigma_{{xy}} \\operatorname{E_{{y}}}{\\left (x,y \\right )} - \\sigma_{{xz}} \\operatorname{E_{{z}}}{\\left (x,y \\right )} + i k \\operatorname{H_{{y}}}{\\left (x,y \\right )} + \\frac{\\partial}{\\partial y} \\operatorname{H_{{z}}}{\\left (x,y \\right )}\\\\- i \\epsilon \\omega \\operatorname{E_{{y}}}{\\left (x,y \\right )} - \\sigma_{{yx}} \\operatorname{E_{{x}}}{\\left (x,y \\right )} - \\sigma_{{yy}} \\operatorname{E_{{y}}}{\\left (x,y \\right )} - \\sigma_{{yz}} \\operatorname{E_{{z}}}{\\left (x,y \\right )} - i k \\operatorname{H_{{x}}}{\\left (x,y \\right )} - \\frac{\\partial}{\\partial x} \\operatorname{H_{{z}}}{\\left (x,y \\right )}\\\\- i \\epsilon \\omega \\operatorname{E_{{z}}}{\\left (x,y \\right )} - \\sigma_{{zx}} \\operatorname{E_{{x}}}{\\left (x,y \\right )} - \\sigma_{{zy}} \\operatorname{E_{{y}}}{\\left (x,y \\right )} - \\sigma_{{zz}} \\operatorname{E_{{z}}}{\\left (x,y \\right )} - \\frac{\\partial}{\\partial y} \\operatorname{H_{{x}}}{\\left (x,y \\right )} + \\frac{\\partial}{\\partial x} \\operatorname{H_{{y}}}{\\left (x,y \\right )}\\end{matrix}\\right]$$"
      ],
      "text/plain": [
       "<IPython.core.display.Math at 0x7f53707d9a90>"
      ]
     },
     "metadata": {},
     "output_type": "display_data"
    },
    {
     "data": {
      "text/latex": [
       "$$MF = \\left[\\begin{matrix}i E_{{y}} k + i H_{{x}} \\mu \\omega + \\frac{d}{d y} E_{{z}}\\\\- i E_{{x}} k + i H_{{y}} \\mu \\omega - \\frac{d}{d x} E_{{z}}\\\\i H_{{z}} \\mu \\omega - \\frac{d}{d y} E_{{x}} + \\frac{d}{d x} E_{{y}}\\end{matrix}\\right]$$"
      ],
      "text/plain": [
       "<IPython.core.display.Math at 0x7f537b8f1e80>"
      ]
     },
     "metadata": {},
     "output_type": "display_data"
    },
    {
     "data": {
      "text/latex": [
       "$$MA = \\left[\\begin{matrix}- i E_{{x}} \\epsilon \\omega - E_{{x}} \\sigma_{{xx}} - E_{{y}} \\sigma_{{xy}} - E_{{z}} \\sigma_{{xz}} + i H_{{y}} k + \\frac{d}{d y} H_{{z}}\\\\- E_{{x}} \\sigma_{{yx}} - i E_{{y}} \\epsilon \\omega - E_{{y}} \\sigma_{{yy}} - E_{{z}} \\sigma_{{yz}} - i H_{{x}} k - \\frac{d}{d x} H_{{z}}\\\\- E_{{x}} \\sigma_{{zx}} - E_{{y}} \\sigma_{{zy}} - i E_{{z}} \\epsilon \\omega - E_{{z}} \\sigma_{{zz}} - \\frac{d}{d y} H_{{x}} + \\frac{d}{d x} H_{{y}}\\end{matrix}\\right]$$"
      ],
      "text/plain": [
       "<IPython.core.display.Math at 0x7f537b8f1e80>"
      ]
     },
     "metadata": {},
     "output_type": "display_data"
    },
    {
     "name": "stdout",
     "output_type": "stream",
     "text": [
      "normalizing to k_0\n"
     ]
    },
    {
     "data": {
      "text/latex": [
       "$$MF = \\left[\\begin{matrix}\\frac{1}{k_{0}} \\left(- E_{{y}} k - H_{{x}} \\mu \\omega + i \\frac{d}{d y} E_{{z}}\\right)\\\\\\frac{1}{k_{0}} \\left(- E_{{x}} k + H_{{y}} \\mu \\omega + i \\frac{d}{d x} E_{{z}}\\right)\\\\i H_{{z}} \\mu \\omega - \\frac{d}{d y} E_{{x}} + \\frac{d}{d x} E_{{y}}\\end{matrix}\\right]$$"
      ],
      "text/plain": [
       "<IPython.core.display.Math at 0x7f53707d5b38>"
      ]
     },
     "metadata": {},
     "output_type": "display_data"
    },
    {
     "data": {
      "text/latex": [
       "$$MA = \\left[\\begin{matrix}\\frac{i}{k_{0}} \\left(- i E_{{x}} \\epsilon \\omega - E_{{x}} \\sigma_{{xx}} - E_{{y}} \\sigma_{{xy}} - E_{{z}} \\sigma_{{xz}} + i H_{{y}} k + \\frac{d}{d y} H_{{z}}\\right)\\\\\\frac{i}{k_{0}} \\left(E_{{x}} \\sigma_{{yx}} + i E_{{y}} \\epsilon \\omega + E_{{y}} \\sigma_{{yy}} + E_{{z}} \\sigma_{{yz}} + i H_{{x}} k + \\frac{d}{d x} H_{{z}}\\right)\\\\- E_{{x}} \\sigma_{{zx}} - E_{{y}} \\sigma_{{zy}} - i E_{{z}} \\epsilon \\omega - E_{{z}} \\sigma_{{zz}} - \\frac{d}{d y} H_{{x}} + \\frac{d}{d x} H_{{y}}\\end{matrix}\\right]$$"
      ],
      "text/plain": [
       "<IPython.core.display.Math at 0x7f53707d5b38>"
      ]
     },
     "metadata": {},
     "output_type": "display_data"
    },
    {
     "data": {
      "text/latex": [
       "$$MF = \\left[\\begin{matrix}\\frac{1}{k_{0}} \\left(- H_{{x}} \\mu \\omega + i \\frac{d}{d y} E_{{z}}\\right)\\\\\\frac{1}{k_{0}} \\left(H_{{y}} \\mu \\omega + i \\frac{d}{d x} E_{{z}}\\right)\\\\i H_{{z}} \\mu \\omega - \\frac{d}{d y} E_{{x}} + \\frac{d}{d x} E_{{y}}\\end{matrix}\\right]$$"
      ],
      "text/plain": [
       "<IPython.core.display.Math at 0x7f53707d5b38>"
      ]
     },
     "metadata": {},
     "output_type": "display_data"
    },
    {
     "data": {
      "text/latex": [
       "$$MA = \\left[\\begin{matrix}\\frac{i}{k_{0}} \\left(- i E_{{x}} \\epsilon \\omega - E_{{x}} \\sigma_{{xx}} - E_{{y}} \\sigma_{{xy}} - E_{{z}} \\sigma_{{xz}} + \\frac{d}{d y} H_{{z}}\\right)\\\\\\frac{i}{k_{0}} \\left(E_{{x}} \\sigma_{{yx}} + i E_{{y}} \\epsilon \\omega + E_{{y}} \\sigma_{{yy}} + E_{{z}} \\sigma_{{yz}} + \\frac{d}{d x} H_{{z}}\\right)\\\\- E_{{x}} \\sigma_{{zx}} - E_{{y}} \\sigma_{{zy}} - i E_{{z}} \\epsilon \\omega - E_{{z}} \\sigma_{{zz}} - \\frac{d}{d y} H_{{x}} + \\frac{d}{d x} H_{{y}}\\end{matrix}\\right]$$"
      ],
      "text/plain": [
       "<IPython.core.display.Math at 0x7f53707d5b38>"
      ]
     },
     "metadata": {},
     "output_type": "display_data"
    },
    {
     "name": "stdout",
     "output_type": "stream",
     "text": [
      "scalar epsilon mu sigma equations: \n"
     ]
    },
    {
     "data": {
      "text/latex": [
       "$$Eqs = \\left[\\begin{matrix}\\frac{1}{k_{0}} \\left(H_{{y}} \\mu \\omega + i \\frac{d}{d x} E_{{z}}\\right)\\\\\\frac{1}{k_{0}} \\left(- H_{{x}} \\mu \\omega + i \\frac{d}{d y} E_{{z}}\\right)\\\\\\frac{i}{k_{0}} \\left(E_{{x}} \\sigma_{{yx}} + i E_{{y}} \\epsilon \\omega + E_{{y}} \\sigma_{{yy}} + E_{{z}} \\sigma_{{yz}} + \\frac{d}{d x} H_{{z}}\\right)\\\\\\frac{i}{k_{0}} \\left(- i E_{{x}} \\epsilon \\omega - E_{{x}} \\sigma_{{xx}} - E_{{y}} \\sigma_{{xy}} - E_{{z}} \\sigma_{{xz}} + \\frac{d}{d y} H_{{z}}\\right)\\\\- E_{{x}} \\sigma_{{zx}} - E_{{y}} \\sigma_{{zy}} - i E_{{z}} \\epsilon \\omega - E_{{z}} \\sigma_{{zz}} - \\frac{d}{d y} H_{{x}} + \\frac{d}{d x} H_{{y}}\\\\i H_{{z}} \\mu \\omega - \\frac{d}{d y} E_{{x}} + \\frac{d}{d x} E_{{y}}\\end{matrix}\\right]$$"
      ],
      "text/plain": [
       "<IPython.core.display.Math at 0x7f53707d5b38>"
      ]
     },
     "metadata": {},
     "output_type": "display_data"
    },
    {
     "data": {
      "text/latex": [
       "$$Vars = \\left[\\begin{matrix}E_{{x}}\\\\E_{{y}}\\\\H_{{x}}\\\\H_{{y}}\\\\E_{{z}}\\\\H_{{z}}\\end{matrix}\\right]$$"
      ],
      "text/plain": [
       "<IPython.core.display.Math at 0x7f53707d5b38>"
      ]
     },
     "metadata": {},
     "output_type": "display_data"
    },
    {
     "name": "stdout",
     "output_type": "stream",
     "text": [
      "disintegrating equations\n"
     ]
    },
    {
     "data": {
      "text/latex": [
       "$$Eqs_b[0] = \\left[\\begin{matrix}\\frac{H_{{y}} \\mu}{k_{0}} \\omega & \\frac{i}{k_{0}} \\frac{d}{d x} E_{{z}}\\end{matrix}\\right]$$"
      ],
      "text/plain": [
       "<IPython.core.display.Math at 0x7f53751b22b0>"
      ]
     },
     "metadata": {},
     "output_type": "display_data"
    },
    {
     "data": {
      "text/latex": [
       "$$Eqs_b[1] = \\left[\\begin{matrix}- \\frac{H_{{x}} \\mu}{k_{0}} \\omega & \\frac{i}{k_{0}} \\frac{d}{d y} E_{{z}}\\end{matrix}\\right]$$"
      ],
      "text/plain": [
       "<IPython.core.display.Math at 0x7f53751b22b0>"
      ]
     },
     "metadata": {},
     "output_type": "display_data"
    },
    {
     "data": {
      "text/latex": [
       "$$Eqs_b[2] = \\left[\\begin{matrix}\\frac{i E_{{x}}}{k_{0}} \\sigma_{{yx}} & \\frac{E_{{y}}}{k_{0}} \\left(- \\epsilon \\omega + i \\sigma_{{yy}}\\right) & \\frac{i E_{{z}}}{k_{0}} \\sigma_{{yz}} & \\frac{i}{k_{0}} \\frac{d}{d x} H_{{z}}\\end{matrix}\\right]$$"
      ],
      "text/plain": [
       "<IPython.core.display.Math at 0x7f53751b22b0>"
      ]
     },
     "metadata": {},
     "output_type": "display_data"
    },
    {
     "data": {
      "text/latex": [
       "$$Eqs_b[3] = \\left[\\begin{matrix}\\frac{E_{{x}}}{k_{0}} \\left(\\epsilon \\omega - i \\sigma_{{xx}}\\right) & - \\frac{i E_{{y}}}{k_{0}} \\sigma_{{xy}} & - \\frac{i E_{{z}}}{k_{0}} \\sigma_{{xz}} & \\frac{i}{k_{0}} \\frac{d}{d y} H_{{z}}\\end{matrix}\\right]$$"
      ],
      "text/plain": [
       "<IPython.core.display.Math at 0x7f53751b22b0>"
      ]
     },
     "metadata": {},
     "output_type": "display_data"
    },
    {
     "data": {
      "text/latex": [
       "$$Eqs_b[4] = \\left[\\begin{matrix}- E_{{x}} \\sigma_{{zx}} & - E_{{y}} \\sigma_{{zy}} & - E_{{z}} \\left(i \\epsilon \\omega + \\sigma_{{zz}}\\right) & - \\frac{d}{d y} H_{{x}} & \\frac{d}{d x} H_{{y}}\\end{matrix}\\right]$$"
      ],
      "text/plain": [
       "<IPython.core.display.Math at 0x7f53751b22b0>"
      ]
     },
     "metadata": {},
     "output_type": "display_data"
    },
    {
     "data": {
      "text/latex": [
       "$$Eqs_b[5] = \\left[\\begin{matrix}i H_{{z}} \\mu \\omega & - \\frac{d}{d y} E_{{x}} & \\frac{d}{d x} E_{{y}}\\end{matrix}\\right]$$"
      ],
      "text/plain": [
       "<IPython.core.display.Math at 0x7f53751b22b0>"
      ]
     },
     "metadata": {},
     "output_type": "display_data"
    },
    {
     "name": "stdout",
     "output_type": "stream",
     "text": [
      "refining mesh\n",
      "Number of cells to refine:  15\n",
      "Number of cells to refine:  58\n",
      "Number of cells to refine:  226\n",
      "Number of cells to refine:  108\n",
      "Number of cells to refine:  402\n",
      "Number of cells to refine:  108\n",
      "Number of cells to refine:  396\n",
      "refining materials\n",
      "cecking nodes inside\n",
      "Number of cells to refine:  76\n",
      "cecking nodes inside\n",
      "Number of cells to refine:  156\n",
      "cecking nodes inside\n",
      "Number of cells to refine:  308\n",
      "cecking nodes inside\n",
      "Number of cells to refine:  612\n",
      "cecking nodes inside\n",
      "Number of cells to refine:  276\n",
      "cecking nodes inside\n",
      "Number of cells to refine:  388\n",
      "cecking nodes inside\n",
      "refining border of graphene\n",
      "Number of cells to refine:  3700\n",
      "Number of cells to refine:  5656\n",
      "Number of cells to refine:  11320\n",
      "n_cells :  71536  n_sides:  157399  n_nodes:  85864\n"
     ]
    }
   ],
   "source": [
    "%reload_ext autoreload\n",
    "%autoreload 2\n",
    "\n",
    "import numpy as np \n",
    "from Electromagnetics.graphene import *\n",
    "from scipy import constants\n",
    "\n",
    "from Electromagnetics.MaxwellEigState2D import *\n",
    "from Electromagnetics.Misc import *\n",
    "import math\n",
    "\n",
    "del_graph = 50.0*constants.nano\n",
    "width_graph = 20.0*constants.micro\n",
    "W_x = 6.0*width_graph\n",
    "W_y = 4.0*width_graph\n",
    "\n",
    "\n",
    "fs_name = 'freespace'\n",
    "fs_rect = [Point2D(0.0, 0.0), Point2D(W_x, W_y)]\n",
    "fs_type = 'all_scalar'\n",
    "def fs_eps(f):\n",
    "    return constants.epsilon_0\n",
    "def fs_mu(f):\n",
    "    return constants.mu_0\n",
    "def fs_sig(f):\n",
    "    return 0.0\n",
    "fs_params = [fs_eps, fs_mu, fs_sig]\n",
    "fs_mat = [fs_name, fs_rect, fs_type, fs_params]\n",
    "\n",
    "\n",
    "P00 = Point2D(W_x/2.0-width_graph/2.0, W_y/2.0-del_graph/2.0)\n",
    "P11 = Point2D(W_x/2.0+width_graph/2.0, W_y/2.0+del_graph/2.0)\n",
    "graph_name = 'graphene'\n",
    "graph_rect = [P00, P11]\n",
    "graph_type = 'sigma_tensor'\n",
    "def graph_eps(f):\n",
    "    return constants.epsilon_0\n",
    "def graph_mu(f):\n",
    "    return constants.mu_0\n",
    "\n",
    "mu_c = 0.3*constants.eV\n",
    "B_0 = 1.0\n",
    "tau = 0.2*constants.pico\n",
    "T = 300.0\n",
    "def graph_sig(f):\n",
    "    omega_0 = 2.0*math.pi*f\n",
    "    sigma_d, sigma_o = condKuboLorentzian(mu_c, B_0, tau, np.array([omega_0]), T)\n",
    "    sig_d, sig_o = sigma_d[0]/del_graph, sigma_o[0]/del_graph\n",
    "    sig = [[sig_d , 0.0  ,  sig_o],\n",
    "           [0.0   , 0.0,  0.0  ],\n",
    "           [-sig_o, 0.0  ,  sig_d]]\n",
    "    return sig\n",
    "graph_params = [graph_eps, graph_mu, graph_sig]\n",
    "graph_mat = [graph_name, graph_rect, graph_type, graph_params]\n",
    "\n",
    "\n",
    "w_edge_mode = 5.0*constants.micro\n",
    "P00 = Point2D(W_x/2.0-width_graph/2.0-w_edge_mode, W_y/2.0-w_edge_mode)\n",
    "P11 = Point2D(W_x/2.0-width_graph/2.0+w_edge_mode, W_y/2.0+w_edge_mode)\n",
    "rect_edge_l = [P00, P11]\n",
    "P00 = Point2D(W_x/2.0+width_graph/2.0-w_edge_mode, W_y/2.0-w_edge_mode)\n",
    "P11 = Point2D(W_x/2.0+width_graph/2.0+w_edge_mode, W_y/2.0+w_edge_mode)\n",
    "rect_edge_r = [P00, P11]\n",
    "w_bulk_mode = 10.0*constants.micro\n",
    "P00 = Point2D(W_x/2.0-width_graph/2.0-w_bulk_mode, W_y/2.0-w_bulk_mode)\n",
    "P11 = Point2D(W_x/2.0+width_graph/2.0+w_bulk_mode, W_y/2.0+w_bulk_mode)\n",
    "rect_bulk = [P00, P11]\n",
    "mesh_params = [[rect_bulk, 3], [rect_edge_l, 2], [rect_edge_r, 2]] \n",
    "\n",
    "\n",
    "maxwell2Dsolver = MaxEigState2DSolver([fs_mat, graph_mat], mesh_params, vb=True)\n"
   ]
  },
  {
   "cell_type": "code",
   "execution_count": 4,
   "metadata": {},
   "outputs": [
    {
     "data": {
      "text/latex": [
       "$$Eqs_\\text{ freespace } = \\left[\\begin{matrix}376.730313461771 H_{{y}} + 6.81620737033849 \\cdot 10^{-6} i \\frac{d}{d x} E_{{z}}\\\\- 376.730313461771 H_{{x}} + 6.81620737033849 \\cdot 10^{-6} i \\frac{d}{d y} E_{{z}}\\\\- 0.00265441872943807 E_{{y}} + 6.81620737033849 \\cdot 10^{-6} i \\frac{d}{d x} H_{{z}}\\\\0.00265441872943807 E_{{x}} + 6.81620737033849 \\cdot 10^{-6} i \\frac{d}{d y} H_{{z}}\\\\- 389.427519618766 i E_{{z}} - \\frac{d}{d y} H_{{x}} + \\frac{d}{d x} H_{{y}}\\\\55269784.6461004 i H_{{z}} - \\frac{d}{d y} E_{{x}} + \\frac{d}{d x} E_{{y}}\\end{matrix}\\right]$$"
      ],
      "text/plain": [
       "<IPython.core.display.Math at 0x7f537ac1ea90>"
      ]
     },
     "metadata": {},
     "output_type": "display_data"
    },
    {
     "name": "stdout",
     "output_type": "stream",
     "text": [
      "Eq1 boundary equations \n"
     ]
    },
    {
     "data": {
      "text/latex": [
       "$$EQs_\\text{ freespace }-b[0] = \\left[\\begin{matrix}376.730313461771 H_{{y}} & 6.81620737033849 \\cdot 10^{-6} i \\frac{d}{d x} E_{{z}}\\end{matrix}\\right]$$"
      ],
      "text/plain": [
       "<IPython.core.display.Math at 0x7f537ad8fb70>"
      ]
     },
     "metadata": {},
     "output_type": "display_data"
    },
    {
     "data": {
      "text/latex": [
       "$$EQs_\\text{ freespace }-b[1] = \\left[\\begin{matrix}- 376.730313461771 H_{{x}} & 6.81620737033849 \\cdot 10^{-6} i \\frac{d}{d y} E_{{z}}\\end{matrix}\\right]$$"
      ],
      "text/plain": [
       "<IPython.core.display.Math at 0x7f537ad8fb00>"
      ]
     },
     "metadata": {},
     "output_type": "display_data"
    },
    {
     "data": {
      "text/latex": [
       "$$EQs_\\text{ freespace }-b[2] = \\left[\\begin{matrix}- 0.00265441872943807 E_{{y}} & 6.81620737033849 \\cdot 10^{-6} i \\frac{d}{d x} H_{{z}}\\end{matrix}\\right]$$"
      ],
      "text/plain": [
       "<IPython.core.display.Math at 0x7f537ad8fb70>"
      ]
     },
     "metadata": {},
     "output_type": "display_data"
    },
    {
     "data": {
      "text/latex": [
       "$$EQs_\\text{ freespace }-b[3] = \\left[\\begin{matrix}0.00265441872943807 E_{{x}} & 6.81620737033849 \\cdot 10^{-6} i \\frac{d}{d y} H_{{z}}\\end{matrix}\\right]$$"
      ],
      "text/plain": [
       "<IPython.core.display.Math at 0x7f537ad8fb00>"
      ]
     },
     "metadata": {},
     "output_type": "display_data"
    },
    {
     "data": {
      "text/latex": [
       "$$EQs_\\text{ freespace }-b[4] = \\left[\\begin{matrix}- 389.427519618766 i E_{{z}} & - \\frac{d}{d y} H_{{x}} & \\frac{d}{d x} H_{{y}}\\end{matrix}\\right]$$"
      ],
      "text/plain": [
       "<IPython.core.display.Math at 0x7f537ad8fb70>"
      ]
     },
     "metadata": {},
     "output_type": "display_data"
    },
    {
     "data": {
      "text/latex": [
       "$$EQs_\\text{ freespace }-b[5] = \\left[\\begin{matrix}55269784.6461004 i H_{{z}} & - \\frac{d}{d y} E_{{x}} & \\frac{d}{d x} E_{{y}}\\end{matrix}\\right]$$"
      ],
      "text/plain": [
       "<IPython.core.display.Math at 0x7f537ad8fb00>"
      ]
     },
     "metadata": {},
     "output_type": "display_data"
    },
    {
     "name": "stdout",
     "output_type": "stream",
     "text": [
      "[[(1837.9852403688872-15902.977007446063j), 0.0, (-1174.3608973756297-273.01111659737995j)], [0.0, 0.0, 0.0], [(1174.3608973756297+273.01111659737995j), 0.0, (1837.9852403688872-15902.977007446063j)]]\n"
     ]
    },
    {
     "data": {
      "text/latex": [
       "$$Eqs_\\text{ graphene } = \\left[\\begin{matrix}376.730313461771 H_{{y}} + 6.81620737033849 \\cdot 10^{-6} i \\frac{d}{d x} E_{{z}}\\\\- 376.730313461771 H_{{x}} + 6.81620737033849 \\cdot 10^{-6} i \\frac{d}{d y} E_{{z}}\\\\- 0.00265441872943807 E_{{y}} + 6.81620737033849 \\cdot 10^{-6} i \\frac{d}{d x} H_{{z}}\\\\- 0.105743570359039 E_{{x}} - 0.0125280885419758 i E_{{x}} - 0.0018609003851354 E_{{z}} + 0.00800468740412909 i E_{{z}} + 6.81620737033849 \\cdot 10^{-6} i \\frac{d}{d y} H_{{z}}\\\\- 1174.36089737563 E_{{x}} - 273.01111659738 i E_{{x}} - 1837.98524036889 E_{{z}} + 15513.5494878273 i E_{{z}} - \\frac{d}{d y} H_{{x}} + \\frac{d}{d x} H_{{y}}\\\\55269784.6461004 i H_{{z}} - \\frac{d}{d y} E_{{x}} + \\frac{d}{d x} E_{{y}}\\end{matrix}\\right]$$"
      ],
      "text/plain": [
       "<IPython.core.display.Math at 0x7f537ad38780>"
      ]
     },
     "metadata": {},
     "output_type": "display_data"
    },
    {
     "name": "stdout",
     "output_type": "stream",
     "text": [
      "Eq1 boundary equations \n"
     ]
    },
    {
     "data": {
      "text/latex": [
       "$$EQs_\\text{ graphene }-b[0] = \\left[\\begin{matrix}376.730313461771 H_{{y}} & 6.81620737033849 \\cdot 10^{-6} i \\frac{d}{d x} E_{{z}}\\end{matrix}\\right]$$"
      ],
      "text/plain": [
       "<IPython.core.display.Math at 0x7f537ad70ba8>"
      ]
     },
     "metadata": {},
     "output_type": "display_data"
    },
    {
     "data": {
      "text/latex": [
       "$$EQs_\\text{ graphene }-b[1] = \\left[\\begin{matrix}- 376.730313461771 H_{{x}} & 6.81620737033849 \\cdot 10^{-6} i \\frac{d}{d y} E_{{z}}\\end{matrix}\\right]$$"
      ],
      "text/plain": [
       "<IPython.core.display.Math at 0x7f537ac1e128>"
      ]
     },
     "metadata": {},
     "output_type": "display_data"
    },
    {
     "data": {
      "text/latex": [
       "$$EQs_\\text{ graphene }-b[2] = \\left[\\begin{matrix}0 & - 0.00265441872943807 E_{{y}} & 0 & 6.81620737033849 \\cdot 10^{-6} i \\frac{d}{d x} H_{{z}}\\end{matrix}\\right]$$"
      ],
      "text/plain": [
       "<IPython.core.display.Math at 0x7f537ac1e128>"
      ]
     },
     "metadata": {},
     "output_type": "display_data"
    },
    {
     "data": {
      "text/latex": [
       "$$EQs_\\text{ graphene }-b[3] = \\left[\\begin{matrix}6.81620737033849 \\cdot 10^{-6} E_{{x}} \\left(389.427519618766 - i \\left(1837.98524036889 - 15902.9770074461 i\\right)\\right) & 0 & - 6.81620737033849 \\cdot 10^{-6} i E_{{z}} \\left(-1174.36089737563 - 273.01111659738 i\\right) & 6.81620737033849 \\cdot 10^{-6} i \\frac{d}{d y} H_{{z}}\\end{matrix}\\right]$$"
      ],
      "text/plain": [
       "<IPython.core.display.Math at 0x7f537ac1e128>"
      ]
     },
     "metadata": {},
     "output_type": "display_data"
    },
    {
     "data": {
      "text/latex": [
       "$$EQs_\\text{ graphene }-b[4] = \\left[\\begin{matrix}- E_{{x}} \\left(1174.36089737563 + 273.01111659738 i\\right) & 0 & - E_{{z}} \\left(1837.98524036889 - 15513.5494878273 i\\right) & - \\frac{d}{d y} H_{{x}} & \\frac{d}{d x} H_{{y}}\\end{matrix}\\right]$$"
      ],
      "text/plain": [
       "<IPython.core.display.Math at 0x7f537ac1e128>"
      ]
     },
     "metadata": {},
     "output_type": "display_data"
    },
    {
     "data": {
      "text/latex": [
       "$$EQs_\\text{ graphene }-b[5] = \\left[\\begin{matrix}55269784.6461004 i H_{{z}} & - \\frac{d}{d y} E_{{x}} & \\frac{d}{d x} E_{{y}}\\end{matrix}\\right]$$"
      ],
      "text/plain": [
       "<IPython.core.display.Math at 0x7f537ac1e128>"
      ]
     },
     "metadata": {},
     "output_type": "display_data"
    },
    {
     "name": "stdout",
     "output_type": "stream",
     "text": [
      "rg.CellsToIndexTotalShared:  1\n",
      "rg.SidesToIndexTotalShared:  30145\n",
      "rg.NodesToIndexTotalShared:  15073\n",
      "initial matrix nnz 1843027 0:00:08\n",
      "initial matrix shared nnz 2219743 0:00:07\n",
      "final matrix (application of boundary conditions) nnz:  2219267 0:00:02\n",
      "A_11.shape:  (157356, 157356) A_11.nnz:  157356\n",
      "warning: this inversion mechanism only works for diagonal matrices\n",
      "eliminating z components 0:00:01\n",
      "A_reduced nnz:  2937654\n",
      "solving eigenvalues 0:03:08\n",
      "[ 9.02641986-1.02658503j  8.02320732-1.00381776j  6.59567021-0.78791362j\n",
      "  6.27378802-0.83870303j  5.72267444-0.93216942j]\n",
      "(359926, 5)\n",
      "[ 9.02641986-1.02658503j  8.02320732-1.00381776j  6.59567021-0.78791362j\n",
      "  6.27378802-0.83870303j  5.72267444-0.93216942j]\n",
      "(359926, 5)\n",
      "infinite magnetoplasmon dispersion graphene: \n",
      " [array([ 6.66379808-0.75268401j]), array([ 1.01100742+0.00256274j])]\n"
     ]
    }
   ],
   "source": [
    "freq_0 = 7.0*constants.tera\n",
    "freq_1 = 1.0*constants.tera\n",
    "\n",
    "freq = freq_0 #2.45*constants.tera\n",
    "\n",
    "from Electromagnetics.graphene import *\n",
    "\n",
    "omega_0 = 2.0*math.pi*freq\n",
    "kz_k0_inf = magnetoplasmonDispersion_normalized(mu_c, B_0, np.array([omega_0]), tau, T, cond='Kubo')\n",
    "\n",
    "n_modes = 5\n",
    "lambda_0 = kz_k0_inf[0][0] + 5.0\n",
    "k_eigs, k_vecs = maxwell2Dsolver.Solve(freq, n_modes, lambda_0, tol=1.0e-4, firstPass=True)\n",
    "\n",
    "print(k_eigs)\n",
    "print(k_vecs.shape)\n",
    "\n",
    "print('infinite magnetoplasmon dispersion graphene: \\n', kz_k0_inf)\n"
   ]
  },
  {
   "cell_type": "code",
   "execution_count": 57,
   "metadata": {},
   "outputs": [
    {
     "name": "stdout",
     "output_type": "stream",
     "text": [
      "warning: this inversion mechanism only works for diagonal matrices\n",
      "GetFromSolutionIndexToInitialIndex :  0:00:02\n",
      "InterpolateVariablesValuesToCellCenters :  0:00:00\n",
      "CalculateSurfaceIntegral :  0:00:00\n"
     ]
    }
   ],
   "source": [
    "ex, ey = maxwell2Dsolver.GetEtInCellsFromFinalSolutionVector(k_vecs[:, 0], maxwell2Dsolver.A_coo_final)\n",
    "\n",
    "exy_max = GetMaxComplexVec2D(ex, ey)\n",
    "\n",
    "ex_prev = ex\n",
    "ey_prev = ey\n"
   ]
  },
  {
   "cell_type": "code",
   "execution_count": 58,
   "metadata": {},
   "outputs": [
    {
     "name": "stdout",
     "output_type": "stream",
     "text": [
      "queue started..\n",
      "window started...\n"
     ]
    }
   ],
   "source": [
    "%reload_ext autoreload\n",
    "%autoreload\n",
    "\n",
    "\n",
    "from Electromagnetics.RecGrid2D import *\n",
    "import queue\n",
    "\n",
    "que = queue.Queue()\n",
    "print(\"queue started..\")\n",
    "window = GUIMaker2D(wx=3.0, wy=6.0, wxp=600, wyp=400, que=que)\n",
    "    \n",
    "print('window started...')\n",
    "\n",
    "window.AttachGrid(maxwell2Dsolver.rg)\n",
    "que.put([\"updategrid\"])\n",
    "que.put([\"toggleTestMode\"])"
   ]
  },
  {
   "cell_type": "code",
   "execution_count": 59,
   "metadata": {},
   "outputs": [],
   "source": [
    "%reload_ext autoreload\n",
    "%autoreload\n",
    "\n",
    "import numpy as np\n",
    "from Electromagnetics.Misc import *\n",
    "\n",
    "colors = GetColorMap(NormalizeArrayTo0n1(exy_max, logscale=True, logrange=3.0))\n",
    "que.put([\"ColorCells\", colors])"
   ]
  },
  {
   "cell_type": "code",
   "execution_count": null,
   "metadata": {},
   "outputs": [],
   "source": [
    "[cells_nm, nodes_nm, sidesX_nm, sidesY_nm] = maxwell2Dsolver.GetCellsNodesAndSidesForMaterial('graphene')\n",
    "\n",
    "que.put([\"MarkGridSides\", sidesX_nm, \"yellow\"])\n",
    "que.put([\"MarkGridSides\", sidesY_nm, \"yellow\"])\n"
   ]
  },
  {
   "cell_type": "code",
   "execution_count": null,
   "metadata": {},
   "outputs": [],
   "source": [
    "import time\n",
    "for i in range(n_modes):\n",
    "    ex, ey = maxwell2Dsolver.GetEtInCellsFromFinalSolutionVector(k_vecs[:, i], maxwell2Dsolver.A_coo_final)\n",
    "    \n",
    "    exy_max = GetMaxComplexVec2D(ex, ey)\n",
    "    colors = GetColorMap(NormalizeArrayTo0n1(exy_max, logscale=True, logrange=3.0))\n",
    "    que.put([\"ColorCells\", colors])\n",
    "    que.put([\"logtext\", 'mode: '+str(i)])\n",
    "    time.sleep(5)\n"
   ]
  },
  {
   "cell_type": "code",
   "execution_count": 5,
   "metadata": {},
   "outputs": [
    {
     "name": "stdout",
     "output_type": "stream",
     "text": [
      "X :  [7000000000000.0]\n",
      "Y :  [[(9.0264198593920089-1.0265850275942863j)]]\n",
      "X :  [7000000000000.0]\n",
      "Y :  [[(8.0232073158584836-1.0038177634322727j)]]\n",
      "X :  [7000000000000.0]\n",
      "Y :  [[(6.5956702117118349-0.78791361784606873j)]]\n",
      "X :  [7000000000000.0]\n",
      "Y :  [[(6.2737880213737869-0.83870302667178354j)]]\n",
      "X :  [7000000000000.0]\n",
      "Y :  [[(5.722674439701902-0.93216942168447792j)]]\n",
      "frequency: 6950000000000.0   k_init: (9.02641985939-1.02658502759j)\n"
     ]
    },
    {
     "data": {
      "text/latex": [
       "$$Eqs_\\text{ freespace } = \\left[\\begin{matrix}376.730313461771 H_{{y}} + 6.86524483343445 \\cdot 10^{-6} i \\frac{d}{d x} E_{{z}}\\\\- 376.730313461771 H_{{x}} + 6.86524483343445 \\cdot 10^{-6} i \\frac{d}{d y} E_{{z}}\\\\- 0.00265441872943807 E_{{y}} + 6.86524483343445 \\cdot 10^{-6} i \\frac{d}{d x} H_{{z}}\\\\0.00265441872943807 E_{{x}} + 6.86524483343445 \\cdot 10^{-6} i \\frac{d}{d y} H_{{z}}\\\\- 386.645894478632 i E_{{z}} - \\frac{d}{d y} H_{{x}} + \\frac{d}{d x} H_{{y}}\\\\54875000.4700568 i H_{{z}} - \\frac{d}{d y} E_{{x}} + \\frac{d}{d x} E_{{y}}\\end{matrix}\\right]$$"
      ],
      "text/plain": [
       "<IPython.core.display.Math at 0x7f537ad33470>"
      ]
     },
     "metadata": {},
     "output_type": "display_data"
    },
    {
     "name": "stdout",
     "output_type": "stream",
     "text": [
      "Eq1 boundary equations \n"
     ]
    },
    {
     "data": {
      "text/latex": [
       "$$EQs_\\text{ freespace }-b[0] = \\left[\\begin{matrix}376.730313461771 H_{{y}} & 6.86524483343445 \\cdot 10^{-6} i \\frac{d}{d x} E_{{z}}\\end{matrix}\\right]$$"
      ],
      "text/plain": [
       "<IPython.core.display.Math at 0x7f537ac1d908>"
      ]
     },
     "metadata": {},
     "output_type": "display_data"
    },
    {
     "data": {
      "text/latex": [
       "$$EQs_\\text{ freespace }-b[1] = \\left[\\begin{matrix}- 376.730313461771 H_{{x}} & 6.86524483343445 \\cdot 10^{-6} i \\frac{d}{d y} E_{{z}}\\end{matrix}\\right]$$"
      ],
      "text/plain": [
       "<IPython.core.display.Math at 0x7f537ac22198>"
      ]
     },
     "metadata": {},
     "output_type": "display_data"
    },
    {
     "data": {
      "text/latex": [
       "$$EQs_\\text{ freespace }-b[2] = \\left[\\begin{matrix}- 0.00265441872943807 E_{{y}} & 6.86524483343445 \\cdot 10^{-6} i \\frac{d}{d x} H_{{z}}\\end{matrix}\\right]$$"
      ],
      "text/plain": [
       "<IPython.core.display.Math at 0x7f537ad8fcc0>"
      ]
     },
     "metadata": {},
     "output_type": "display_data"
    },
    {
     "data": {
      "text/latex": [
       "$$EQs_\\text{ freespace }-b[3] = \\left[\\begin{matrix}0.00265441872943807 E_{{x}} & 6.86524483343445 \\cdot 10^{-6} i \\frac{d}{d y} H_{{z}}\\end{matrix}\\right]$$"
      ],
      "text/plain": [
       "<IPython.core.display.Math at 0x7f537ac22198>"
      ]
     },
     "metadata": {},
     "output_type": "display_data"
    },
    {
     "data": {
      "text/latex": [
       "$$EQs_\\text{ freespace }-b[4] = \\left[\\begin{matrix}- 386.645894478632 i E_{{z}} & - \\frac{d}{d y} H_{{x}} & \\frac{d}{d x} H_{{y}}\\end{matrix}\\right]$$"
      ],
      "text/plain": [
       "<IPython.core.display.Math at 0x7f537ad8fcc0>"
      ]
     },
     "metadata": {},
     "output_type": "display_data"
    },
    {
     "data": {
      "text/latex": [
       "$$EQs_\\text{ freespace }-b[5] = \\left[\\begin{matrix}54875000.4700568 i H_{{z}} & - \\frac{d}{d y} E_{{x}} & \\frac{d}{d x} E_{{y}}\\end{matrix}\\right]$$"
      ],
      "text/plain": [
       "<IPython.core.display.Math at 0x7f537ac22198>"
      ]
     },
     "metadata": {},
     "output_type": "display_data"
    },
    {
     "name": "stdout",
     "output_type": "stream",
     "text": [
      "[[(1864.5668056848933-16016.187894140845j), 0.0, (-1190.7901300086533-278.88836148783594j)], [0.0, 0.0, 0.0], [(1190.7901300086533+278.88836148783594j), 0.0, (1864.5668056848933-16016.187894140845j)]]\n"
     ]
    },
    {
     "data": {
      "text/latex": [
       "$$Eqs_\\text{ graphene } = \\left[\\begin{matrix}376.730313461771 H_{{y}} + 6.86524483343445 \\cdot 10^{-6} i \\frac{d}{d x} E_{{z}}\\\\- 376.730313461771 H_{{x}} + 6.86524483343445 \\cdot 10^{-6} i \\frac{d}{d y} E_{{z}}\\\\- 0.00265441872943807 E_{{y}} + 6.86524483343445 \\cdot 10^{-6} i \\frac{d}{d x} H_{{z}}\\\\- 0.107300632462128 E_{{x}} - 0.0128007076293216 i E_{{x}} - 0.00191463688280936 E_{{z}} + 0.00817506578774664 i E_{{z}} + 6.86524483343445 \\cdot 10^{-6} i \\frac{d}{d y} H_{{z}}\\\\- 1190.79013000865 E_{{x}} - 278.888361487836 i E_{{x}} - 1864.56680568489 E_{{z}} + 15629.5419996622 i E_{{z}} - \\frac{d}{d y} H_{{x}} + \\frac{d}{d x} H_{{y}}\\\\54875000.4700568 i H_{{z}} - \\frac{d}{d y} E_{{x}} + \\frac{d}{d x} E_{{y}}\\end{matrix}\\right]$$"
      ],
      "text/plain": [
       "<IPython.core.display.Math at 0x7f5376a8dda0>"
      ]
     },
     "metadata": {},
     "output_type": "display_data"
    },
    {
     "name": "stdout",
     "output_type": "stream",
     "text": [
      "Eq1 boundary equations \n"
     ]
    },
    {
     "data": {
      "text/latex": [
       "$$EQs_\\text{ graphene }-b[0] = \\left[\\begin{matrix}376.730313461771 H_{{y}} & 6.86524483343445 \\cdot 10^{-6} i \\frac{d}{d x} E_{{z}}\\end{matrix}\\right]$$"
      ],
      "text/plain": [
       "<IPython.core.display.Math at 0x7f537a9d6978>"
      ]
     },
     "metadata": {},
     "output_type": "display_data"
    },
    {
     "data": {
      "text/latex": [
       "$$EQs_\\text{ graphene }-b[1] = \\left[\\begin{matrix}- 376.730313461771 H_{{x}} & 6.86524483343445 \\cdot 10^{-6} i \\frac{d}{d y} E_{{z}}\\end{matrix}\\right]$$"
      ],
      "text/plain": [
       "<IPython.core.display.Math at 0x7f537a9d66a0>"
      ]
     },
     "metadata": {},
     "output_type": "display_data"
    },
    {
     "data": {
      "text/latex": [
       "$$EQs_\\text{ graphene }-b[2] = \\left[\\begin{matrix}0 & - 0.00265441872943807 E_{{y}} & 0 & 6.86524483343445 \\cdot 10^{-6} i \\frac{d}{d x} H_{{z}}\\end{matrix}\\right]$$"
      ],
      "text/plain": [
       "<IPython.core.display.Math at 0x7f537a9d6978>"
      ]
     },
     "metadata": {},
     "output_type": "display_data"
    },
    {
     "data": {
      "text/latex": [
       "$$EQs_\\text{ graphene }-b[3] = \\left[\\begin{matrix}6.86524483343445 \\cdot 10^{-6} E_{{x}} \\left(386.645894478632 - i \\left(1864.56680568489 - 16016.1878941408 i\\right)\\right) & 0 & - 6.86524483343445 \\cdot 10^{-6} i E_{{z}} \\left(-1190.79013000865 - 278.888361487836 i\\right) & 6.86524483343445 \\cdot 10^{-6} i \\frac{d}{d y} H_{{z}}\\end{matrix}\\right]$$"
      ],
      "text/plain": [
       "<IPython.core.display.Math at 0x7f537a9d66a0>"
      ]
     },
     "metadata": {},
     "output_type": "display_data"
    },
    {
     "data": {
      "text/latex": [
       "$$EQs_\\text{ graphene }-b[4] = \\left[\\begin{matrix}- E_{{x}} \\left(1190.79013000865 + 278.888361487836 i\\right) & 0 & - E_{{z}} \\left(1864.56680568489 - 15629.5419996622 i\\right) & - \\frac{d}{d y} H_{{x}} & \\frac{d}{d x} H_{{y}}\\end{matrix}\\right]$$"
      ],
      "text/plain": [
       "<IPython.core.display.Math at 0x7f537a9d6978>"
      ]
     },
     "metadata": {},
     "output_type": "display_data"
    },
    {
     "data": {
      "text/latex": [
       "$$EQs_\\text{ graphene }-b[5] = \\left[\\begin{matrix}54875000.4700568 i H_{{z}} & - \\frac{d}{d y} E_{{x}} & \\frac{d}{d x} E_{{y}}\\end{matrix}\\right]$$"
      ],
      "text/plain": [
       "<IPython.core.display.Math at 0x7f537a9d66a0>"
      ]
     },
     "metadata": {},
     "output_type": "display_data"
    },
    {
     "name": "stdout",
     "output_type": "stream",
     "text": [
      "initial matrix nnz 1843027 0:00:08\n",
      "initial matrix shared nnz 2219743 0:00:07\n",
      "final matrix (application of boundary conditions) nnz:  2219267 0:00:02\n",
      "A_11.shape:  (157356, 157356) A_11.nnz:  157356\n",
      "warning: this inversion mechanism only works for diagonal matrices\n",
      "eliminating z components 0:00:01\n",
      "A_reduced nnz:  2939013\n",
      "solving eigenvalues 0:03:05\n",
      "[ 8.95915095-1.02484281j  7.95803180-1.00216507j  6.54355302-0.78802249j\n",
      "  6.21302983-0.84076828j  5.64642626-0.93829748j  4.79140447-1.11966008j]\n",
      "(359926, 6)\n",
      "0 0 x_correlation:  (-0.696724368036-0.717114729036j)     abs(x_correlation):  0.999839176876\n",
      "k_correlation_r:  0.00745244641392     k_correlation_i:  0.00169709593051\n",
      "0 1 x_correlation:  (1.01782193515e-05+2.47104124638e-06j)     abs(x_correlation):  1.04738815158e-05\n",
      "k_correlation_r:  0.104467894172     k_correlation_i:  0.0205153908439\n",
      "0 2 x_correlation:  (-0.108146283643+0.046155163058j)     abs(x_correlation):  0.117583662737\n",
      "k_correlation_r:  0.263806330622     k_correlation_i:  0.231185888377\n",
      "0 3 x_correlation:  (0.133255242892+0.149393904846j)     abs(x_correlation):  0.200188657429\n",
      "k_correlation_r:  0.299734086742     k_correlation_i:  0.18162764577\n",
      "0 4 x_correlation:  (-0.219573123012+0.107897118358j)     abs(x_correlation):  0.244651066826\n",
      "k_correlation_r:  0.361248128062     k_correlation_i:  0.0904269331278\n",
      "1 0 x_correlation:  (-6.56134052706e-06-1.12026651406e-05j)     abs(x_correlation):  1.29827152694e-05\n",
      "k_correlation_r:  0.11836232677     k_correlation_i:  0.0237875668204\n",
      "1 1 x_correlation:  (0.877915122779+0.478510997479j)     abs(x_correlation):  0.999853858077\n",
      "k_correlation_r:  0.00812337396546     k_correlation_i:  0.00164641017419\n",
      "1 2 x_correlation:  (-0.0705582844107-0.127140527271j)     abs(x_correlation):  0.14540696398\n",
      "k_correlation_r:  0.17119328303     k_correlation_i:  0.213788583062\n",
      "1 3 x_correlation:  (0.162424844075-0.171212652935j)     abs(x_correlation):  0.235999157833\n",
      "k_correlation_r:  0.211640745208     k_correlation_i:  0.16310889918\n",
      "1 4 x_correlation:  (-0.135481461983-0.236635658389j)     abs(x_correlation):  0.27267501052\n",
      "k_correlation_r:  0.280893243232     k_correlation_i:  0.0698444280571\n",
      "2 0 x_correlation:  (0.0486840148237+0.110765356393j)     abs(x_correlation):  0.120992138076\n",
      "k_correlation_r:  0.275066623686     k_correlation_i:  0.232384586129\n",
      "2 1 x_correlation:  (-0.122757603839+0.0870074346352j)     abs(x_correlation):  0.150465022454\n",
      "k_correlation_r:  0.184421794541     k_correlation_i:  0.214974550623\n",
      "2 2 x_correlation:  (0.998883654664-0.0466517471303j)     abs(x_correlation):  0.999972470154\n",
      "k_correlation_r:  0.00790172724554     k_correlation_i:  0.000138159742804\n",
      "2 3 x_correlation:  (0.0212939923058+0.0306052821083j)     abs(x_correlation):  0.0372842782047\n",
      "k_correlation_r:  0.0412260743216     k_correlation_i:  0.060427271906\n",
      "2 4 x_correlation:  (0.0645700002658-0.0286621086351j)     abs(x_correlation):  0.0706456042917\n",
      "k_correlation_r:  0.125448450085     k_correlation_i:  0.154635978719\n",
      "3 0 x_correlation:  (0.00191994973596+0.204941887627j)     abs(x_correlation):  0.204950880728\n",
      "k_correlation_r:  0.311683931394     k_correlation_i:  0.181004735433\n",
      "3 1 x_correlation:  (0.236189233735-0.0555139339262j)     abs(x_correlation):  0.242625536563\n",
      "k_correlation_r:  0.225617687964     k_correlation_i:  0.162429370248\n",
      "3 2 x_correlation:  (-0.0315109456914-0.0209341929053j)     abs(x_correlation):  0.0378309414496\n",
      "k_correlation_r:  0.0580138739853     k_correlation_i:  0.0628647154277\n",
      "3 3 x_correlation:  (0.0335607554297-0.999376705227j)     abs(x_correlation):  0.999940059831\n",
      "k_correlation_r:  0.0096844506008     k_correlation_i:  0.00245638383509\n",
      "3 4 x_correlation:  (-0.0443337460822-0.00462717773254j)     abs(x_correlation):  0.0445745646692\n",
      "k_correlation_r:  0.0789237143264     k_correlation_i:  0.0980520743157\n",
      "4 0 x_correlation:  (0.0793779342573+0.236334730133j)     abs(x_correlation):  0.249308967175\n",
      "k_correlation_r:  0.374455615491     k_correlation_i:  0.0860012044652\n",
      "4 1 x_correlation:  (-0.23538970169+0.149056080133j)     abs(x_correlation):  0.278614476807\n",
      "k_correlation_r:  0.296238270684     k_correlation_i:  0.065271095097\n",
      "4 2 x_correlation:  (0.0680917135396+0.0250055565581j)     abs(x_correlation):  0.0725379853011\n",
      "k_correlation_r:  0.143919257024     k_correlation_i:  0.160273116253\n",
      "4 3 x_correlation:  (0.00396170844756+0.0448842368557j)     abs(x_correlation):  0.045058737798\n",
      "k_correlation_r:  0.0999972845705     k_correlation_i:  0.106143791623\n",
      "4 4 x_correlation:  (0.999887238153-0.00929815898671j)     abs(x_correlation):  0.999930469974\n",
      "k_correlation_r:  0.0133238724725     k_correlation_i:  0.00653103859876\n",
      "5 0 x_correlation:  (0.0721281573444-0.257523734519j)     abs(x_correlation):  0.267434001059\n",
      "k_correlation_r:  0.469179968426     k_correlation_i:  0.0831279584632\n",
      "5 1 x_correlation:  (-0.28235274521-0.00451734363301j)     abs(x_correlation):  0.282388879245\n",
      "k_correlation_r:  0.402806846921     k_correlation_i:  0.103462044205\n",
      "5 2 x_correlation:  (0.010125102267+0.00900996538882j)     abs(x_correlation):  0.0135534929898\n",
      "k_correlation_r:  0.273553055116     k_correlation_i:  0.296292125902\n",
      "5 3 x_correlation:  (-0.0689430271876+0.105398437001j)     abs(x_correlation):  0.125944319125\n",
      "k_correlation_r:  0.236282058234     k_correlation_i:  0.250930672436\n",
      "5 4 x_correlation:  (0.0306078680619+0.0259938745928j)     abs(x_correlation):  0.0401562336834\n",
      "k_correlation_r:  0.162733346926     k_correlation_i:  0.167453198961\n",
      "X :  [7000000000000.0, 6950000000000.0]\n",
      "Y :  [[(9.0264198593920089-1.0265850275942863j)], [(8.9591509490803887-1.0248428143216293j)]]\n",
      "X :  [7000000000000.0, 6950000000000.0]\n",
      "Y :  [[(8.0232073158584836-1.0038177634322727j)], [(7.9580318024293435-1.002165067653527j)]]\n",
      "X :  [7000000000000.0, 6950000000000.0]\n",
      "Y :  [[(6.5956702117118349-0.78791361784606873j)], [(6.5435530246973519-0.78802249083072595j)]]\n",
      "X :  [7000000000000.0, 6950000000000.0]\n",
      "Y :  [[(6.2737880213737869-0.83870302667178354j)], [(6.2130298312009069-0.84076827627467954j)]]\n",
      "X :  [7000000000000.0, 6950000000000.0]\n",
      "Y :  [[(5.722674439701902-0.93216942168447792j)], [(5.6464262552655367-0.93829747873521585j)]]\n",
      "----------------------------------------------------------------------------------------------------\n",
      "frequency: 6850000000000.0   k_init: (8.95915094908-1.02484281432j)\n"
     ]
    },
    {
     "data": {
      "text/latex": [
       "$$Eqs_\\text{ freespace } = \\left[\\begin{matrix}376.730313461771 H_{{y}} + 6.96546738574736 \\cdot 10^{-6} i \\frac{d}{d x} E_{{z}}\\\\- 376.730313461771 H_{{x}} + 6.96546738574736 \\cdot 10^{-6} i \\frac{d}{d y} E_{{z}}\\\\- 0.00265441872943807 E_{{y}} + 6.96546738574736 \\cdot 10^{-6} i \\frac{d}{d x} H_{{z}}\\\\0.00265441872943807 E_{{x}} + 6.96546738574736 \\cdot 10^{-6} i \\frac{d}{d y} H_{{z}}\\\\- 381.082644198364 i E_{{z}} - \\frac{d}{d y} H_{{x}} + \\frac{d}{d x} H_{{y}}\\\\54085432.1179697 i H_{{z}} - \\frac{d}{d y} E_{{x}} + \\frac{d}{d x} E_{{y}}\\end{matrix}\\right]$$"
      ],
      "text/plain": [
       "<IPython.core.display.Math at 0x7f537ace93c8>"
      ]
     },
     "metadata": {},
     "output_type": "display_data"
    },
    {
     "name": "stdout",
     "output_type": "stream",
     "text": [
      "Eq1 boundary equations \n"
     ]
    },
    {
     "data": {
      "text/latex": [
       "$$EQs_\\text{ freespace }-b[0] = \\left[\\begin{matrix}376.730313461771 H_{{y}} & 6.96546738574736 \\cdot 10^{-6} i \\frac{d}{d x} E_{{z}}\\end{matrix}\\right]$$"
      ],
      "text/plain": [
       "<IPython.core.display.Math at 0x7f537ac1d160>"
      ]
     },
     "metadata": {},
     "output_type": "display_data"
    },
    {
     "data": {
      "text/latex": [
       "$$EQs_\\text{ freespace }-b[1] = \\left[\\begin{matrix}- 376.730313461771 H_{{x}} & 6.96546738574736 \\cdot 10^{-6} i \\frac{d}{d y} E_{{z}}\\end{matrix}\\right]$$"
      ],
      "text/plain": [
       "<IPython.core.display.Math at 0x7f537ac1d4a8>"
      ]
     },
     "metadata": {},
     "output_type": "display_data"
    },
    {
     "data": {
      "text/latex": [
       "$$EQs_\\text{ freespace }-b[2] = \\left[\\begin{matrix}- 0.00265441872943807 E_{{y}} & 6.96546738574736 \\cdot 10^{-6} i \\frac{d}{d x} H_{{z}}\\end{matrix}\\right]$$"
      ],
      "text/plain": [
       "<IPython.core.display.Math at 0x7f537ac1d160>"
      ]
     },
     "metadata": {},
     "output_type": "display_data"
    },
    {
     "data": {
      "text/latex": [
       "$$EQs_\\text{ freespace }-b[3] = \\left[\\begin{matrix}0.00265441872943807 E_{{x}} & 6.96546738574736 \\cdot 10^{-6} i \\frac{d}{d y} H_{{z}}\\end{matrix}\\right]$$"
      ],
      "text/plain": [
       "<IPython.core.display.Math at 0x7f537ace9198>"
      ]
     },
     "metadata": {},
     "output_type": "display_data"
    },
    {
     "data": {
      "text/latex": [
       "$$EQs_\\text{ freespace }-b[4] = \\left[\\begin{matrix}- 381.082644198364 i E_{{z}} & - \\frac{d}{d y} H_{{x}} & \\frac{d}{d x} H_{{y}}\\end{matrix}\\right]$$"
      ],
      "text/plain": [
       "<IPython.core.display.Math at 0x7f537ace9198>"
      ]
     },
     "metadata": {},
     "output_type": "display_data"
    },
    {
     "data": {
      "text/latex": [
       "$$EQs_\\text{ freespace }-b[5] = \\left[\\begin{matrix}54085432.1179697 i H_{{z}} & - \\frac{d}{d y} E_{{x}} & \\frac{d}{d x} E_{{y}}\\end{matrix}\\right]$$"
      ],
      "text/plain": [
       "<IPython.core.display.Math at 0x7f537ace9198>"
      ]
     },
     "metadata": {},
     "output_type": "display_data"
    },
    {
     "name": "stdout",
     "output_type": "stream",
     "text": [
      "[[(1919.4960594516813-16247.432796871975j), 0.0, (-1224.6824779896813-291.15794866568325j)], [0.0, 0.0, 0.0], [(1224.6824779896813+291.15794866568325j), 0.0, (1919.4960594516813-16247.432796871975j)]]\n"
     ]
    },
    {
     "data": {
      "text/latex": [
       "$$Eqs_\\text{ graphene } = \\left[\\begin{matrix}376.730313461771 H_{{y}} + 6.96546738574736 \\cdot 10^{-6} i \\frac{d}{d x} E_{{z}}\\\\- 376.730313461771 H_{{x}} + 6.96546738574736 \\cdot 10^{-6} i \\frac{d}{d y} E_{{z}}\\\\- 0.00265441872943807 E_{{y}} + 6.96546738574736 \\cdot 10^{-6} i \\frac{d}{d x} H_{{z}}\\\\- 0.110516544519296 E_{{x}} - 0.0133701871991813 i E_{{x}} - 0.00202805119553192 E_{{z}} + 0.00853048585833339 i E_{{z}} + 6.96546738574736 \\cdot 10^{-6} i \\frac{d}{d y} H_{{z}}\\\\- 1224.68247798968 E_{{x}} - 291.157948665683 i E_{{x}} - 1919.49605945168 E_{{z}} + 15866.3501526736 i E_{{z}} - \\frac{d}{d y} H_{{x}} + \\frac{d}{d x} H_{{y}}\\\\54085432.1179697 i H_{{z}} - \\frac{d}{d y} E_{{x}} + \\frac{d}{d x} E_{{y}}\\end{matrix}\\right]$$"
      ],
      "text/plain": [
       "<IPython.core.display.Math at 0x7f537af5c0b8>"
      ]
     },
     "metadata": {},
     "output_type": "display_data"
    },
    {
     "name": "stdout",
     "output_type": "stream",
     "text": [
      "Eq1 boundary equations \n"
     ]
    },
    {
     "data": {
      "text/latex": [
       "$$EQs_\\text{ graphene }-b[0] = \\left[\\begin{matrix}376.730313461771 H_{{y}} & 6.96546738574736 \\cdot 10^{-6} i \\frac{d}{d x} E_{{z}}\\end{matrix}\\right]$$"
      ],
      "text/plain": [
       "<IPython.core.display.Math at 0x7f537ad167f0>"
      ]
     },
     "metadata": {},
     "output_type": "display_data"
    },
    {
     "data": {
      "text/latex": [
       "$$EQs_\\text{ graphene }-b[1] = \\left[\\begin{matrix}- 376.730313461771 H_{{x}} & 6.96546738574736 \\cdot 10^{-6} i \\frac{d}{d y} E_{{z}}\\end{matrix}\\right]$$"
      ],
      "text/plain": [
       "<IPython.core.display.Math at 0x7f537ad16e10>"
      ]
     },
     "metadata": {},
     "output_type": "display_data"
    },
    {
     "data": {
      "text/latex": [
       "$$EQs_\\text{ graphene }-b[2] = \\left[\\begin{matrix}0 & - 0.00265441872943807 E_{{y}} & 0 & 6.96546738574736 \\cdot 10^{-6} i \\frac{d}{d x} H_{{z}}\\end{matrix}\\right]$$"
      ],
      "text/plain": [
       "<IPython.core.display.Math at 0x7f537ad167f0>"
      ]
     },
     "metadata": {},
     "output_type": "display_data"
    },
    {
     "data": {
      "text/latex": [
       "$$EQs_\\text{ graphene }-b[3] = \\left[\\begin{matrix}6.96546738574736 \\cdot 10^{-6} E_{{x}} \\left(381.082644198364 - i \\left(1919.49605945168 - 16247.432796872 i\\right)\\right) & 0 & - 6.96546738574736 \\cdot 10^{-6} i E_{{z}} \\left(-1224.68247798968 - 291.157948665683 i\\right) & 6.96546738574736 \\cdot 10^{-6} i \\frac{d}{d y} H_{{z}}\\end{matrix}\\right]$$"
      ],
      "text/plain": [
       "<IPython.core.display.Math at 0x7f537ad16e10>"
      ]
     },
     "metadata": {},
     "output_type": "display_data"
    },
    {
     "data": {
      "text/latex": [
       "$$EQs_\\text{ graphene }-b[4] = \\left[\\begin{matrix}- E_{{x}} \\left(1224.68247798968 + 291.157948665683 i\\right) & 0 & - E_{{z}} \\left(1919.49605945168 - 15866.3501526736 i\\right) & - \\frac{d}{d y} H_{{x}} & \\frac{d}{d x} H_{{y}}\\end{matrix}\\right]$$"
      ],
      "text/plain": [
       "<IPython.core.display.Math at 0x7f537ad167f0>"
      ]
     },
     "metadata": {},
     "output_type": "display_data"
    },
    {
     "data": {
      "text/latex": [
       "$$EQs_\\text{ graphene }-b[5] = \\left[\\begin{matrix}54085432.1179697 i H_{{z}} & - \\frac{d}{d y} E_{{x}} & \\frac{d}{d x} E_{{y}}\\end{matrix}\\right]$$"
      ],
      "text/plain": [
       "<IPython.core.display.Math at 0x7f537ad16e10>"
      ]
     },
     "metadata": {},
     "output_type": "display_data"
    },
    {
     "name": "stdout",
     "output_type": "stream",
     "text": [
      "initial matrix nnz 1843027 0:00:09\n",
      "initial matrix shared nnz 2219743 0:00:07\n",
      "final matrix (application of boundary conditions) nnz:  2219267 0:00:03\n",
      "A_11.shape:  (157356, 157356) A_11.nnz:  157356\n",
      "warning: this inversion mechanism only works for diagonal matrices\n",
      "eliminating z components 0:00:01\n",
      "A_reduced nnz:  2946219\n",
      "solving eigenvalues 0:03:35\n",
      "[ 8.82505545-1.02138733j  7.82809331-0.99888371j  6.43913209-0.78834761j\n",
      "  6.09035113-0.84530658j  5.49086453-0.95174728j  4.57988859-1.15613081j]\n",
      "(359926, 6)\n",
      "0 0 x_correlation:  (-0.938525679758-0.343373828084j)     abs(x_correlation):  0.999367818862\n",
      "k_correlation_r:  0.0149674343583     k_correlation_i:  0.00337172459816\n",
      "0 1 x_correlation:  (-1.29940541373e-05-1.43141996694e-06j)     abs(x_correlation):  1.30726587213e-05\n",
      "k_correlation_r:  0.0982456878922     k_correlation_i:  0.0188197547016\n",
      "0 2 x_correlation:  (0.120115768115-0.00143660053686j)     abs(x_correlation):  0.120124358774\n",
      "k_correlation_r:  0.258525562222     k_correlation_i:  0.228478295832\n",
      "0 3 x_correlation:  (0.185994420978-0.0822311099017j)     abs(x_correlation):  0.203361451781\n",
      "k_correlation_r:  0.295978380002     k_correlation_i:  0.176836980074\n",
      "0 4 x_correlation:  (0.24594447145-0.0249393365511j)     abs(x_correlation):  0.247205690761\n",
      "k_correlation_r:  0.360182347835     k_correlation_i:  0.0813499890752\n",
      "1 0 x_correlation:  (1.27030452521e-05-1.53495613833e-05j)     abs(x_correlation):  1.99242664441e-05\n",
      "k_correlation_r:  0.126246074155     k_correlation_i:  0.0253298349504\n",
      "1 1 x_correlation:  (0.469925867216-0.882054269181j)     abs(x_correlation):  0.999424861837\n",
      "k_correlation_r:  0.0163279679775     k_correlation_i:  0.0032742636664\n",
      "1 2 x_correlation:  (-0.148081277269-0.00301969371978j)     abs(x_correlation):  0.148112063073\n",
      "k_correlation_r:  0.164093635292     k_correlation_i:  0.211096868425\n",
      "1 3 x_correlation:  (0.223100451821-0.0845659980826j)     abs(x_correlation):  0.238590066085\n",
      "k_correlation_r:  0.206316329917     k_correlation_i:  0.158292137852\n",
      "1 4 x_correlation:  (-0.273740883907+0.00699144052522j)     abs(x_correlation):  0.273830151303\n",
      "k_correlation_r:  0.27869711962     k_correlation_i:  0.0606539433376\n",
      "2 0 x_correlation:  (0.0503435470906+0.116857877214j)     abs(x_correlation):  0.127240859006\n",
      "k_correlation_r:  0.281278758634     k_correlation_i:  0.230762416598\n",
      "2 1 x_correlation:  (0.151086294932-0.0484956971684j)     abs(x_correlation):  0.158678609649\n",
      "k_correlation_r:  0.190863739732     k_correlation_i:  0.213355528644\n",
      "2 2 x_correlation:  (-0.695807152688-0.718063256617j)     abs(x_correlation):  0.999881210062\n",
      "k_correlation_r:  0.0159578340077     k_correlation_i:  0.000412405670389\n",
      "2 3 x_correlation:  (0.0369684939072+0.00570578573768j)     abs(x_correlation):  0.0374062231808\n",
      "k_correlation_r:  0.0351137788893     k_correlation_i:  0.0623485303842\n",
      "2 4 x_correlation:  (-0.0676545020142-0.028685215332j)     abs(x_correlation):  0.0734845100781\n",
      "k_correlation_r:  0.123107559397     k_correlation_i:  0.159810584893\n",
      "3 0 x_correlation:  (0.166260820226+0.133353340782j)     abs(x_correlation):  0.213133230258\n",
      "k_correlation_r:  0.320208894298     k_correlation_i:  0.175184171206\n",
      "3 1 x_correlation:  (-0.172333496021+0.184060776772j)     abs(x_correlation):  0.252145203001\n",
      "k_correlation_r:  0.234691280328     k_correlation_i:  0.156519616816\n",
      "3 2 x_correlation:  (0.03302247936+0.0197963008746j)     abs(x_correlation):  0.0385016580344\n",
      "k_correlation_r:  0.0692592989104     k_correlation_i:  0.0677672292195\n",
      "3 3 x_correlation:  (-0.995684644125+0.0900586785666j)     abs(x_correlation):  0.999749206617\n",
      "k_correlation_r:  0.0197453906887     k_correlation_i:  0.00536882018476\n",
      "3 4 x_correlation:  (0.0443329772462+0.000888827268571j)     abs(x_correlation):  0.0443418863539\n",
      "k_correlation_r:  0.0728898654766     k_correlation_i:  0.0991059931038\n",
      "4 0 x_correlation:  (0.0299935656019+0.254922348851j)     abs(x_correlation):  0.256680770455\n",
      "k_correlation_r:  0.387122222137     k_correlation_i:  0.0713236571317\n",
      "4 1 x_correlation:  (0.285248459776-0.0170597261982j)     abs(x_correlation):  0.2857581461\n",
      "k_correlation_r:  0.310022294264     k_correlation_i:  0.0503088687301\n",
      "4 2 x_correlation:  (-0.0142442794476-0.0759903489868j)     abs(x_correlation):  0.0773138579823\n",
      "k_correlation_r:  0.16087414521     k_correlation_i:  0.17202548405\n",
      "4 3 x_correlation:  (0.0290610209509+0.0347232932633j)     abs(x_correlation):  0.0452796867675\n",
      "k_correlation_r:  0.116233999451     k_correlation_i:  0.116605535154\n",
      "4 4 x_correlation:  (-0.537611151894-0.842855146582j)     abs(x_correlation):  0.999715233834\n",
      "k_correlation_r:  0.027550475827     k_correlation_i:  0.0141316906404\n",
      "5 0 x_correlation:  (-0.0330284472447-0.271291930475j)     abs(x_correlation):  0.273295060088\n",
      "k_correlation_r:  0.488803278553     k_correlation_i:  0.113558081353\n",
      "5 1 x_correlation:  (0.285824291818-0.0230409131944j)     abs(x_correlation):  0.286751476848\n",
      "k_correlation_r:  0.424494811554     k_correlation_i:  0.133173289643\n",
      "5 2 x_correlation:  (-0.00555172543732-0.0126369477715j)     abs(x_correlation):  0.0138026846777\n",
      "k_correlation_r:  0.300091467918     k_correlation_i:  0.318396773684\n",
      "5 3 x_correlation:  (0.0781581058179+0.106474862754j)     abs(x_correlation):  0.132081739478\n",
      "k_correlation_r:  0.262857459798     k_correlation_i:  0.27277409419\n",
      "5 4 x_correlation:  (-0.0177339961968-0.0349706871416j)     abs(x_correlation):  0.0392102484086\n",
      "k_correlation_r:  0.188887203149     k_correlation_i:  0.188415817832\n",
      "X :  [7000000000000.0, 6950000000000.0, 6850000000000.0]\n",
      "Y :  [[(9.0264198593920089-1.0265850275942863j)], [(8.9591509490803887-1.0248428143216293j)], [(8.8250554453441765-1.0213873265953377j)]]\n",
      "X :  [7000000000000.0, 6950000000000.0, 6850000000000.0]\n",
      "Y :  [[(8.0232073158584836-1.0038177634322727j)], [(7.9580318024293435-1.002165067653527j)], [(7.8280933139952493-0.99888371498477257j)]]\n",
      "X :  [7000000000000.0, 6950000000000.0, 6850000000000.0]\n",
      "Y :  [[(6.5956702117118349-0.78791361784606873j)], [(6.5435530246973519-0.78802249083072595j)], [(6.4391320917083572-0.78834760985526786j)]]\n",
      "X :  [7000000000000.0, 6950000000000.0, 6850000000000.0]\n",
      "Y :  [[(6.2737880213737869-0.83870302667178354j)], [(6.2130298312009069-0.84076827627467954j)], [(6.0903511298235351-0.84530657527834485j)]]\n",
      "X :  [7000000000000.0, 6950000000000.0, 6850000000000.0]\n",
      "Y :  [[(5.722674439701902-0.93216942168447792j)], [(5.6464262552655367-0.93829747873521585j)], [(5.4908645252106938-0.95174727681905913j)]]\n",
      "----------------------------------------------------------------------------------------------------\n",
      "frequency: 6650000000000.0   k_init: (8.55686443787-1.01447635114j)\n"
     ]
    },
    {
     "data": {
      "text/latex": [
       "$$Eqs_\\text{ freespace } = \\left[\\begin{matrix}376.730313461771 H_{{y}} + 7.17495512667209 \\cdot 10^{-6} i \\frac{d}{d x} E_{{z}}\\\\- 376.730313461771 H_{{x}} + 7.17495512667209 \\cdot 10^{-6} i \\frac{d}{d y} E_{{z}}\\\\- 0.00265441872943807 E_{{y}} + 7.17495512667209 \\cdot 10^{-6} i \\frac{d}{d x} H_{{z}}\\\\0.00265441872943807 E_{{x}} + 7.17495512667209 \\cdot 10^{-6} i \\frac{d}{d y} H_{{z}}\\\\- 369.956143637828 i E_{{z}} - \\frac{d}{d y} H_{{x}} + \\frac{d}{d x} H_{{y}}\\\\52506295.4137954 i H_{{z}} - \\frac{d}{d y} E_{{x}} + \\frac{d}{d x} E_{{y}}\\end{matrix}\\right]$$"
      ],
      "text/plain": [
       "<IPython.core.display.Math at 0x7f537a9ec048>"
      ]
     },
     "metadata": {},
     "output_type": "display_data"
    },
    {
     "name": "stdout",
     "output_type": "stream",
     "text": [
      "Eq1 boundary equations \n"
     ]
    },
    {
     "data": {
      "text/latex": [
       "$$EQs_\\text{ freespace }-b[0] = \\left[\\begin{matrix}376.730313461771 H_{{y}} & 7.17495512667209 \\cdot 10^{-6} i \\frac{d}{d x} E_{{z}}\\end{matrix}\\right]$$"
      ],
      "text/plain": [
       "<IPython.core.display.Math at 0x7f537521a908>"
      ]
     },
     "metadata": {},
     "output_type": "display_data"
    },
    {
     "data": {
      "text/latex": [
       "$$EQs_\\text{ freespace }-b[1] = \\left[\\begin{matrix}- 376.730313461771 H_{{x}} & 7.17495512667209 \\cdot 10^{-6} i \\frac{d}{d y} E_{{z}}\\end{matrix}\\right]$$"
      ],
      "text/plain": [
       "<IPython.core.display.Math at 0x7f537af5c278>"
      ]
     },
     "metadata": {},
     "output_type": "display_data"
    },
    {
     "data": {
      "text/latex": [
       "$$EQs_\\text{ freespace }-b[2] = \\left[\\begin{matrix}- 0.00265441872943807 E_{{y}} & 7.17495512667209 \\cdot 10^{-6} i \\frac{d}{d x} H_{{z}}\\end{matrix}\\right]$$"
      ],
      "text/plain": [
       "<IPython.core.display.Math at 0x7f537521a908>"
      ]
     },
     "metadata": {},
     "output_type": "display_data"
    },
    {
     "data": {
      "text/latex": [
       "$$EQs_\\text{ freespace }-b[3] = \\left[\\begin{matrix}0.00265441872943807 E_{{x}} & 7.17495512667209 \\cdot 10^{-6} i \\frac{d}{d y} H_{{z}}\\end{matrix}\\right]$$"
      ],
      "text/plain": [
       "<IPython.core.display.Math at 0x7f537af5c278>"
      ]
     },
     "metadata": {},
     "output_type": "display_data"
    },
    {
     "data": {
      "text/latex": [
       "$$EQs_\\text{ freespace }-b[4] = \\left[\\begin{matrix}- 369.956143637828 i E_{{z}} & - \\frac{d}{d y} H_{{x}} & \\frac{d}{d x} H_{{y}}\\end{matrix}\\right]$$"
      ],
      "text/plain": [
       "<IPython.core.display.Math at 0x7f537521a908>"
      ]
     },
     "metadata": {},
     "output_type": "display_data"
    },
    {
     "data": {
      "text/latex": [
       "$$EQs_\\text{ freespace }-b[5] = \\left[\\begin{matrix}52506295.4137954 i H_{{z}} & - \\frac{d}{d y} E_{{x}} & \\frac{d}{d x} E_{{y}}\\end{matrix}\\right]$$"
      ],
      "text/plain": [
       "<IPython.core.display.Math at 0x7f537af5c278>"
      ]
     },
     "metadata": {},
     "output_type": "display_data"
    },
    {
     "name": "stdout",
     "output_type": "stream",
     "text": [
      "[[(2036.922472458665-16730.192818852556j), 0.0, (-1296.8769094096897-317.93896725913288j)], [0.0, 0.0, 0.0], [(1296.8769094096897+317.93896725913288j), 0.0, (2036.922472458665-16730.192818852556j)]]\n"
     ]
    },
    {
     "data": {
      "text/latex": [
       "$$Eqs_\\text{ graphene } = \\left[\\begin{matrix}376.730313461771 H_{{y}} + 7.17495512667209 \\cdot 10^{-6} i \\frac{d}{d x} E_{{z}}\\\\- 376.730313461771 H_{{x}} + 7.17495512667209 \\cdot 10^{-6} i \\frac{d}{d y} E_{{z}}\\\\- 0.00265441872943807 E_{{y}} + 7.17495512667209 \\cdot 10^{-6} i \\frac{d}{d x} H_{{z}}\\\\- 0.117383964006401 E_{{x}} - 0.0146148273364009 i E_{{x}} - 0.00228119782310475 E_{{z}} + 0.00930503362983171 i E_{{z}} + 7.17495512667209 \\cdot 10^{-6} i \\frac{d}{d y} H_{{z}}\\\\- 1296.87690940969 E_{{x}} - 317.938967259133 i E_{{x}} - 2036.92247245866 E_{{z}} + 16360.2366752147 i E_{{z}} - \\frac{d}{d y} H_{{x}} + \\frac{d}{d x} H_{{y}}\\\\52506295.4137954 i H_{{z}} - \\frac{d}{d y} E_{{x}} + \\frac{d}{d x} E_{{y}}\\end{matrix}\\right]$$"
      ],
      "text/plain": [
       "<IPython.core.display.Math at 0x7f5376a8d198>"
      ]
     },
     "metadata": {},
     "output_type": "display_data"
    },
    {
     "name": "stdout",
     "output_type": "stream",
     "text": [
      "Eq1 boundary equations \n"
     ]
    },
    {
     "data": {
      "text/latex": [
       "$$EQs_\\text{ graphene }-b[0] = \\left[\\begin{matrix}376.730313461771 H_{{y}} & 7.17495512667209 \\cdot 10^{-6} i \\frac{d}{d x} E_{{z}}\\end{matrix}\\right]$$"
      ],
      "text/plain": [
       "<IPython.core.display.Math at 0x7f5376a8d780>"
      ]
     },
     "metadata": {},
     "output_type": "display_data"
    },
    {
     "data": {
      "text/latex": [
       "$$EQs_\\text{ graphene }-b[1] = \\left[\\begin{matrix}- 376.730313461771 H_{{x}} & 7.17495512667209 \\cdot 10^{-6} i \\frac{d}{d y} E_{{z}}\\end{matrix}\\right]$$"
      ],
      "text/plain": [
       "<IPython.core.display.Math at 0x7f537521a908>"
      ]
     },
     "metadata": {},
     "output_type": "display_data"
    },
    {
     "data": {
      "text/latex": [
       "$$EQs_\\text{ graphene }-b[2] = \\left[\\begin{matrix}0 & - 0.00265441872943807 E_{{y}} & 0 & 7.17495512667209 \\cdot 10^{-6} i \\frac{d}{d x} H_{{z}}\\end{matrix}\\right]$$"
      ],
      "text/plain": [
       "<IPython.core.display.Math at 0x7f537521a908>"
      ]
     },
     "metadata": {},
     "output_type": "display_data"
    },
    {
     "data": {
      "text/latex": [
       "$$EQs_\\text{ graphene }-b[3] = \\left[\\begin{matrix}7.17495512667209 \\cdot 10^{-6} E_{{x}} \\left(369.956143637828 - i \\left(2036.92247245866 - 16730.1928188526 i\\right)\\right) & 0 & - 7.17495512667209 \\cdot 10^{-6} i E_{{z}} \\left(-1296.87690940969 - 317.938967259133 i\\right) & 7.17495512667209 \\cdot 10^{-6} i \\frac{d}{d y} H_{{z}}\\end{matrix}\\right]$$"
      ],
      "text/plain": [
       "<IPython.core.display.Math at 0x7f537521a908>"
      ]
     },
     "metadata": {},
     "output_type": "display_data"
    },
    {
     "data": {
      "text/latex": [
       "$$EQs_\\text{ graphene }-b[4] = \\left[\\begin{matrix}- E_{{x}} \\left(1296.87690940969 + 317.938967259133 i\\right) & 0 & - E_{{z}} \\left(2036.92247245866 - 16360.2366752147 i\\right) & - \\frac{d}{d y} H_{{x}} & \\frac{d}{d x} H_{{y}}\\end{matrix}\\right]$$"
      ],
      "text/plain": [
       "<IPython.core.display.Math at 0x7f537521a908>"
      ]
     },
     "metadata": {},
     "output_type": "display_data"
    },
    {
     "data": {
      "text/latex": [
       "$$EQs_\\text{ graphene }-b[5] = \\left[\\begin{matrix}52506295.4137954 i H_{{z}} & - \\frac{d}{d y} E_{{x}} & \\frac{d}{d x} E_{{y}}\\end{matrix}\\right]$$"
      ],
      "text/plain": [
       "<IPython.core.display.Math at 0x7f537521a908>"
      ]
     },
     "metadata": {},
     "output_type": "display_data"
    },
    {
     "name": "stdout",
     "output_type": "stream",
     "text": [
      "initial matrix nnz 1843027 0:00:17\n",
      "initial matrix shared nnz 2219743 0:00:13\n",
      "final matrix (application of boundary conditions) nnz:  2219267 0:00:03\n",
      "A_11.shape:  (157356, 157356) A_11.nnz:  157356\n",
      "warning: this inversion mechanism only works for diagonal matrices\n",
      "eliminating z components 0:00:01\n",
      "A_reduced nnz:  2947973\n",
      "solving eigenvalues 0:04:07\n",
      "[ 8.55859642-1.01458632j  7.56983738-0.9924101j   6.22938113-0.78948612j\n",
      "  5.83970970-0.8562628j   5.16578224-0.98437392j  4.12515977-1.2507169j ]\n",
      "(359926, 6)\n",
      "0 0 x_correlation:  (-0.994668145777-0.0765069248433j)     abs(x_correlation):  0.997606149626\n",
      "k_correlation_r:  0.000202367823655     k_correlation_i:  0.00010839214347\n",
      "0 1 x_correlation:  (5.29858389069e-06+1.95924246734e-05j)     abs(x_correlation):  2.02962581731e-05\n",
      "k_correlation_r:  0.115717582229     k_correlation_i:  0.0219452146634\n",
      "0 2 x_correlation:  (0.0917736817768-0.0852545251543j)     abs(x_correlation):  0.12526269487\n",
      "k_correlation_r:  0.272042994173     k_correlation_i:  0.222345276114\n",
      "0 3 x_correlation:  (0.202538978925-0.0537906397319j)     abs(x_correlation):  0.20956018445\n",
      "k_correlation_r:  0.317061649061     k_correlation_i:  0.157899970857\n",
      "0 4 x_correlation:  (0.1284511986-0.216834664946j)     abs(x_correlation):  0.252025757303\n",
      "k_correlation_r:  0.394790826736     k_correlation_i:  0.0354227634265\n",
      "1 0 x_correlation:  (2.72259163413e-05+3.65925944461e-05j)     abs(x_correlation):  4.56099604135e-05\n",
      "k_correlation_r:  0.115349151929     k_correlation_i:  0.0217513698204\n",
      "1 1 x_correlation:  (0.618537278857-0.782971168072j)     abs(x_correlation):  0.997813717769\n",
      "k_correlation_r:  0.000214145243394     k_correlation_i:  8.97725725402e-05\n",
      "1 2 x_correlation:  (-0.0201415365675-0.152118009505j)     abs(x_correlation):  0.153445659147\n",
      "k_correlation_r:  0.176958511591     k_correlation_i:  0.204967938935\n",
      "1 3 x_correlation:  (-0.0909497353282+0.225677658198j)     abs(x_correlation):  0.243315144958\n",
      "k_correlation_r:  0.227857425164     k_correlation_i:  0.139082550097\n",
      "1 4 x_correlation:  (-0.0992482399324-0.256997829693j)     abs(x_correlation):  0.275496093614\n",
      "k_correlation_r:  0.315739453326     k_correlation_i:  0.0138684882957\n",
      "2 0 x_correlation:  (0.0309930795559+0.137308406254j)     abs(x_correlation):  0.140762812591\n",
      "k_correlation_r:  0.272001890561     k_correlation_i:  0.221779665831\n",
      "2 1 x_correlation:  (-0.0468889216125-0.170134163937j)     abs(x_correlation):  0.176477207334\n",
      "k_correlation_r:  0.176902343167     k_correlation_i:  0.204404504875\n",
      "2 2 x_correlation:  (-0.86543273935-0.499923269833j)     abs(x_correlation):  0.999448398898\n",
      "k_correlation_r:  0.000145914909328     k_correlation_i:  0.000618474566401\n",
      "2 3 x_correlation:  (0.0274965931726+0.0258310267849j)     abs(x_correlation):  0.0377267091178\n",
      "k_correlation_r:  0.0617055527974     k_correlation_i:  0.0759577790407\n",
      "2 4 x_correlation:  (-0.0795831448307+0.00494085661246j)     abs(x_correlation):  0.079736371909\n",
      "k_correlation_r:  0.168498289943     k_correlation_i:  0.193288052325\n",
      "3 0 x_correlation:  (0.0670444893401+0.220073210518j)     abs(x_correlation):  0.230059082712\n",
      "k_correlation_r:  0.317540935555     k_correlation_i:  0.155955883785\n",
      "3 1 x_correlation:  (0.0966302926014+0.25377125989j)     abs(x_correlation):  0.271546065695\n",
      "k_correlation_r:  0.228390225817     k_correlation_i:  0.137111089157\n",
      "3 2 x_correlation:  (0.0312134440905+0.0248363079153j)     abs(x_correlation):  0.039888861639\n",
      "k_correlation_r:  0.0626905830586     k_correlation_i:  0.0785564288119\n",
      "3 3 x_correlation:  (-0.588154041495-0.807403338559j)     abs(x_correlation):  0.998912072028\n",
      "k_correlation_r:  0.000904026327579     k_correlation_i:  0.00219514610035\n",
      "3 4 x_correlation:  (0.0437188290274-0.00201259960592j)     abs(x_correlation):  0.0437651295977\n",
      "k_correlation_r:  0.113013945519     k_correlation_i:  0.125054379821\n",
      "4 0 x_correlation:  (0.271354382741-0.00095150654961j)     abs(x_correlation):  0.271356050969\n",
      "k_correlation_r:  0.396299628156     k_correlation_i:  0.0296728768931\n",
      "4 1 x_correlation:  (-0.298185685088+0.0271887097111j)     abs(x_correlation):  0.299422659008\n",
      "k_correlation_r:  0.317437291318     k_correlation_i:  0.0080085882549\n",
      "4 2 x_correlation:  (-0.0740357616192+0.0462632772587j)     abs(x_correlation):  0.087301688536\n",
      "k_correlation_r:  0.170860095469     k_correlation_i:  0.198477496748\n",
      "4 3 x_correlation:  (0.0448067656727-0.00753303246736j)     abs(x_correlation):  0.0454355898851\n",
      "k_correlation_r:  0.116203971436     k_correlation_i:  0.132054236134\n",
      "4 4 x_correlation:  (-0.441223776371+0.896083333278j)     abs(x_correlation):  0.998821185705\n",
      "k_correlation_r:  0.00269488801907     k_correlation_i:  0.0058179581615\n",
      "5 0 x_correlation:  (0.122096743482+0.257066640065j)     abs(x_correlation):  0.284588953059\n",
      "k_correlation_r:  0.517912220918     k_correlation_i:  0.188884111233\n",
      "5 1 x_correlation:  (0.15339285575+0.251346760634j)     abs(x_correlation):  0.294456384336\n",
      "k_correlation_r:  0.454936329909     k_correlation_i:  0.20659822501\n",
      "5 2 x_correlation:  (0.0133912013711+0.00475515129649j)     abs(x_correlation):  0.0142104094949\n",
      "k_correlation_r:  0.337886418883     k_correlation_i:  0.369163519763\n",
      "5 3 x_correlation:  (-0.0742664688473-0.123977063374j)     abs(x_correlation):  0.144519274278\n",
      "k_correlation_r:  0.29424051327     k_correlation_i:  0.316885242158\n",
      "5 4 x_correlation:  (0.0367075259434+0.00297143730947j)     abs(x_correlation):  0.036827596997\n",
      "k_correlation_r:  0.20359729938     k_correlation_i:  0.217531264008\n",
      "X :  [7000000000000.0, 6950000000000.0, 6850000000000.0, 6650000000000.0]\n",
      "Y :  [[(9.0264198593920089-1.0265850275942863j)], [(8.9591509490803887-1.0248428143216293j)], [(8.8250554453441765-1.0213873265953377j)], [(8.5585964224031823-1.0145863243291824j)]]\n",
      "X :  [7000000000000.0, 6950000000000.0, 6850000000000.0, 6650000000000.0]\n",
      "Y :  [[(8.0232073158584836-1.0038177634322727j)], [(7.9580318024293435-1.002165067653527j)], [(7.8280933139952493-0.99888371498477257j)], [(7.5698373817955931-0.99241010085502668j)]]\n",
      "X :  [7000000000000.0, 6950000000000.0, 6850000000000.0, 6650000000000.0]\n",
      "Y :  [[(6.5956702117118349-0.78791361784606873j)], [(6.5435530246973519-0.78802249083072595j)], [(6.4391320917083572-0.78834760985526786j)], [(6.2293811334969185-0.7894861249931886j)]]\n",
      "X :  [7000000000000.0, 6950000000000.0, 6850000000000.0, 6650000000000.0]\n",
      "Y :  [[(6.2737880213737869-0.83870302667178354j)], [(6.2130298312009069-0.84076827627467954j)], [(6.0903511298235351-0.84530657527834485j)], [(5.8397096988549269-0.85626279522147908j)]]\n",
      "X :  [7000000000000.0, 6950000000000.0, 6850000000000.0, 6650000000000.0]\n",
      "Y :  [[(5.722674439701902-0.93216942168447792j)], [(5.6464262552655367-0.93829747873521585j)], [(5.4908645252106938-0.95174727681905913j)], [(5.1657822429627718-0.98437391926430307j)]]\n",
      "----------------------------------------------------------------------------------------------------\n",
      "frequency: 6450000000000.0   k_init: (8.29444671217-1.00793195298j)\n"
     ]
    },
    {
     "data": {
      "text/latex": [
       "$$Eqs_\\text{ freespace } = \\left[\\begin{matrix}376.730313461771 H_{{y}} + 7.39743435540611 \\cdot 10^{-6} i \\frac{d}{d x} E_{{z}}\\\\- 376.730313461771 H_{{x}} + 7.39743435540611 \\cdot 10^{-6} i \\frac{d}{d y} E_{{z}}\\\\- 0.00265441872943807 E_{{y}} + 7.39743435540611 \\cdot 10^{-6} i \\frac{d}{d x} H_{{z}}\\\\0.00265441872943807 E_{{x}} + 7.39743435540611 \\cdot 10^{-6} i \\frac{d}{d y} H_{{z}}\\\\- 358.829643077292 i E_{{z}} - \\frac{d}{d y} H_{{x}} + \\frac{d}{d x} H_{{y}}\\\\50927158.7096211 i H_{{z}} - \\frac{d}{d y} E_{{x}} + \\frac{d}{d x} E_{{y}}\\end{matrix}\\right]$$"
      ],
      "text/plain": [
       "<IPython.core.display.Math at 0x7f537ac220b8>"
      ]
     },
     "metadata": {},
     "output_type": "display_data"
    },
    {
     "name": "stdout",
     "output_type": "stream",
     "text": [
      "Eq1 boundary equations \n"
     ]
    },
    {
     "data": {
      "text/latex": [
       "$$EQs_\\text{ freespace }-b[0] = \\left[\\begin{matrix}376.730313461771 H_{{y}} & 7.39743435540611 \\cdot 10^{-6} i \\frac{d}{d x} E_{{z}}\\end{matrix}\\right]$$"
      ],
      "text/plain": [
       "<IPython.core.display.Math at 0x7f537ad333c8>"
      ]
     },
     "metadata": {},
     "output_type": "display_data"
    },
    {
     "data": {
      "text/latex": [
       "$$EQs_\\text{ freespace }-b[1] = \\left[\\begin{matrix}- 376.730313461771 H_{{x}} & 7.39743435540611 \\cdot 10^{-6} i \\frac{d}{d y} E_{{z}}\\end{matrix}\\right]$$"
      ],
      "text/plain": [
       "<IPython.core.display.Math at 0x7f537af5c0b8>"
      ]
     },
     "metadata": {},
     "output_type": "display_data"
    },
    {
     "data": {
      "text/latex": [
       "$$EQs_\\text{ freespace }-b[2] = \\left[\\begin{matrix}- 0.00265441872943807 E_{{y}} & 7.39743435540611 \\cdot 10^{-6} i \\frac{d}{d x} H_{{z}}\\end{matrix}\\right]$$"
      ],
      "text/plain": [
       "<IPython.core.display.Math at 0x7f537ad333c8>"
      ]
     },
     "metadata": {},
     "output_type": "display_data"
    },
    {
     "data": {
      "text/latex": [
       "$$EQs_\\text{ freespace }-b[3] = \\left[\\begin{matrix}0.00265441872943807 E_{{x}} & 7.39743435540611 \\cdot 10^{-6} i \\frac{d}{d y} H_{{z}}\\end{matrix}\\right]$$"
      ],
      "text/plain": [
       "<IPython.core.display.Math at 0x7f537af5c0b8>"
      ]
     },
     "metadata": {},
     "output_type": "display_data"
    },
    {
     "data": {
      "text/latex": [
       "$$EQs_\\text{ freespace }-b[4] = \\left[\\begin{matrix}- 358.829643077292 i E_{{z}} & - \\frac{d}{d y} H_{{x}} & \\frac{d}{d x} H_{{y}}\\end{matrix}\\right]$$"
      ],
      "text/plain": [
       "<IPython.core.display.Math at 0x7f537ad333c8>"
      ]
     },
     "metadata": {},
     "output_type": "display_data"
    },
    {
     "data": {
      "text/latex": [
       "$$EQs_\\text{ freespace }-b[5] = \\left[\\begin{matrix}50927158.7096211 i H_{{z}} & - \\frac{d}{d y} E_{{x}} & \\frac{d}{d x} E_{{y}}\\end{matrix}\\right]$$"
      ],
      "text/plain": [
       "<IPython.core.display.Math at 0x7f537af5c0b8>"
      ]
     },
     "metadata": {},
     "output_type": "display_data"
    },
    {
     "name": "stdout",
     "output_type": "stream",
     "text": [
      "[[(2165.5025597249655-17241.992436648587j), 0.0, (-1375.5247790405306-348.09929450825592j)], [0.0, 0.0, 0.0], [(1375.5247790405306+348.09929450825592j), 0.0, (2165.5025597249655-17241.992436648587j)]]\n"
     ]
    },
    {
     "data": {
      "text/latex": [
       "$$Eqs_\\text{ graphene } = \\left[\\begin{matrix}376.730313461771 H_{{y}} + 7.39743435540611 \\cdot 10^{-6} i \\frac{d}{d x} E_{{z}}\\\\- 376.730313461771 H_{{x}} + 7.39743435540611 \\cdot 10^{-6} i \\frac{d}{d y} E_{{z}}\\\\- 0.00265441872943807 E_{{y}} + 7.39743435540611 \\cdot 10^{-6} i \\frac{d}{d x} H_{{z}}\\\\- 0.124892088477079 E_{{x}} - 0.0160191630320293 i E_{{x}} - 0.002575041680288 E_{{z}} + 0.0101753542571868 i E_{{z}} + 7.39743435540611 \\cdot 10^{-6} i \\frac{d}{d y} H_{{z}}\\\\- 1375.52477904053 E_{{x}} - 348.099294508256 i E_{{x}} - 2165.50255972497 E_{{z}} + 16883.1627935713 i E_{{z}} - \\frac{d}{d y} H_{{x}} + \\frac{d}{d x} H_{{y}}\\\\50927158.7096211 i H_{{z}} - \\frac{d}{d y} E_{{x}} + \\frac{d}{d x} E_{{y}}\\end{matrix}\\right]$$"
      ],
      "text/plain": [
       "<IPython.core.display.Math at 0x7f537a9ec048>"
      ]
     },
     "metadata": {},
     "output_type": "display_data"
    },
    {
     "name": "stdout",
     "output_type": "stream",
     "text": [
      "Eq1 boundary equations \n"
     ]
    },
    {
     "data": {
      "text/latex": [
       "$$EQs_\\text{ graphene }-b[0] = \\left[\\begin{matrix}376.730313461771 H_{{y}} & 7.39743435540611 \\cdot 10^{-6} i \\frac{d}{d x} E_{{z}}\\end{matrix}\\right]$$"
      ],
      "text/plain": [
       "<IPython.core.display.Math at 0x7f5375209518>"
      ]
     },
     "metadata": {},
     "output_type": "display_data"
    },
    {
     "data": {
      "text/latex": [
       "$$EQs_\\text{ graphene }-b[1] = \\left[\\begin{matrix}- 376.730313461771 H_{{x}} & 7.39743435540611 \\cdot 10^{-6} i \\frac{d}{d y} E_{{z}}\\end{matrix}\\right]$$"
      ],
      "text/plain": [
       "<IPython.core.display.Math at 0x7f5376a8dc50>"
      ]
     },
     "metadata": {},
     "output_type": "display_data"
    },
    {
     "data": {
      "text/latex": [
       "$$EQs_\\text{ graphene }-b[2] = \\left[\\begin{matrix}0 & - 0.00265441872943807 E_{{y}} & 0 & 7.39743435540611 \\cdot 10^{-6} i \\frac{d}{d x} H_{{z}}\\end{matrix}\\right]$$"
      ],
      "text/plain": [
       "<IPython.core.display.Math at 0x7f5375209518>"
      ]
     },
     "metadata": {},
     "output_type": "display_data"
    },
    {
     "data": {
      "text/latex": [
       "$$EQs_\\text{ graphene }-b[3] = \\left[\\begin{matrix}7.39743435540611 \\cdot 10^{-6} E_{{x}} \\left(358.829643077292 - i \\left(2165.50255972497 - 17241.9924366486 i\\right)\\right) & 0 & - 7.39743435540611 \\cdot 10^{-6} i E_{{z}} \\left(-1375.52477904053 - 348.099294508256 i\\right) & 7.39743435540611 \\cdot 10^{-6} i \\frac{d}{d y} H_{{z}}\\end{matrix}\\right]$$"
      ],
      "text/plain": [
       "<IPython.core.display.Math at 0x7f5376a8dc50>"
      ]
     },
     "metadata": {},
     "output_type": "display_data"
    },
    {
     "data": {
      "text/latex": [
       "$$EQs_\\text{ graphene }-b[4] = \\left[\\begin{matrix}- E_{{x}} \\left(1375.52477904053 + 348.099294508256 i\\right) & 0 & - E_{{z}} \\left(2165.50255972497 - 16883.1627935713 i\\right) & - \\frac{d}{d y} H_{{x}} & \\frac{d}{d x} H_{{y}}\\end{matrix}\\right]$$"
      ],
      "text/plain": [
       "<IPython.core.display.Math at 0x7f5375209518>"
      ]
     },
     "metadata": {},
     "output_type": "display_data"
    },
    {
     "data": {
      "text/latex": [
       "$$EQs_\\text{ graphene }-b[5] = \\left[\\begin{matrix}50927158.7096211 i H_{{z}} & - \\frac{d}{d y} E_{{x}} & \\frac{d}{d x} E_{{y}}\\end{matrix}\\right]$$"
      ],
      "text/plain": [
       "<IPython.core.display.Math at 0x7f5375209518>"
      ]
     },
     "metadata": {},
     "output_type": "display_data"
    },
    {
     "name": "stdout",
     "output_type": "stream",
     "text": [
      "initial matrix nnz 1843027 0:00:17\n",
      "initial matrix shared nnz 2219743 0:00:11\n",
      "final matrix (application of boundary conditions) nnz:  2219267 0:00:03\n",
      "A_11.shape:  (157356, 157356) A_11.nnz:  157356\n",
      "warning: this inversion mechanism only works for diagonal matrices\n",
      "eliminating z components 0:00:01\n",
      "A_reduced nnz:  2930820\n",
      "solving eigenvalues 0:03:14\n",
      "[ 8.29438346-1.00792453j  7.31369321-0.98604444j  6.01805796-0.79141025j\n",
      "  5.58061970-0.87030921j  4.81824128-1.02714129j  3.61998167-1.38977331j]\n",
      "(359926, 6)\n",
      "0 0 x_correlation:  (-0.931176727867+0.358071957758j)     abs(x_correlation):  0.997650051599\n",
      "k_correlation_r:  7.62631669208e-06     k_correlation_i:  7.35985956948e-06\n",
      "0 1 x_correlation:  (1.57950812283e-05-4.40663505029e-05j)     abs(x_correlation):  4.68116207544e-05\n",
      "k_correlation_r:  0.118229476463     k_correlation_i:  0.0216973185837\n",
      "0 2 x_correlation:  (-0.0116395443561-0.13777272573j)     abs(x_correlation):  0.138263527179\n",
      "k_correlation_r:  0.274398382451     k_correlation_i:  0.214945515288\n",
      "0 3 x_correlation:  (-0.00207092192253-0.225534272576j)     abs(x_correlation):  0.225543780282\n",
      "k_correlation_r:  0.327011715038     k_correlation_i:  0.137112801834\n",
      "0 4 x_correlation:  (0.253645364477-0.0783611893537j)     abs(x_correlation):  0.265474004222\n",
      "k_correlation_r:  0.418632111308     k_correlation_i:  0.016310258964\n",
      "1 0 x_correlation:  (-7.29074858563e-05+7.00660461139e-05j)     abs(x_correlation):  0.000101117517335\n",
      "k_correlation_r:  0.11824218462     k_correlation_i:  0.0217152703821\n",
      "1 1 x_correlation:  (0.0264426856169-0.997497408822j)     abs(x_correlation):  0.997847832202\n",
      "k_correlation_r:  6.7858254848e-06     k_correlation_i:  1.09901643028e-05\n",
      "1 2 x_correlation:  (0.135141331396-0.101929830437j)     abs(x_correlation):  0.169271585874\n",
      "k_correlation_r:  0.177102747234     k_correlation_i:  0.197525338939\n",
      "1 3 x_correlation:  (-0.222487582897+0.133697599822j)     abs(x_correlation):  0.259568435565\n",
      "k_correlation_r:  0.236770980872     k_correlation_i:  0.117965535684\n",
      "1 4 x_correlation:  (0.205900656327+0.198189674082j)     abs(x_correlation):  0.285787031176\n",
      "k_correlation_r:  0.340676720007     k_correlation_i:  0.0376642650069\n",
      "2 0 x_correlation:  (-0.0764632517243-0.135573966118j)     abs(x_correlation):  0.155650021373\n",
      "k_correlation_r:  0.274447329621     k_correlation_i:  0.214817779476\n",
      "2 1 x_correlation:  (0.0792922376407-0.178282010087j)     abs(x_correlation):  0.195119794154\n",
      "k_correlation_r:  0.177157566114     k_correlation_i:  0.197397682422\n",
      "2 2 x_correlation:  (0.97303847386-0.227673379318j)     abs(x_correlation):  0.999319287947\n",
      "k_correlation_r:  5.98315003749e-05     k_correlation_i:  0.000170041678437\n",
      "2 3 x_correlation:  (-0.0358586600465+0.0158783139705j)     abs(x_correlation):  0.0392168886435\n",
      "k_correlation_r:  0.0724544474644     k_correlation_i:  0.090045603798\n",
      "2 4 x_correlation:  (0.0605526695912+0.0697364813865j)     abs(x_correlation):  0.092356930605\n",
      "k_correlation_r:  0.198730183582     k_correlation_i:  0.227618620208\n",
      "3 0 x_correlation:  (0.0927315078656+0.229279348996j)     abs(x_correlation):  0.24732196107\n",
      "k_correlation_r:  0.327186021116     k_correlation_i:  0.136539717225\n",
      "3 1 x_correlation:  (0.144525186966-0.2505077598j)     abs(x_correlation):  0.289208691756\n",
      "k_correlation_r:  0.236968018258     k_correlation_i:  0.117382938665\n",
      "3 2 x_correlation:  (0.0409841337339+0.00499844938835j)     abs(x_correlation):  0.0412878155659\n",
      "k_correlation_r:  0.0727430951878     k_correlation_i:  0.0908108659048\n",
      "3 3 x_correlation:  (-0.998512539204+0.0231559211437j)     abs(x_correlation):  0.998781000837\n",
      "k_correlation_r:  0.00025137873972     k_correlation_i:  0.000671061945556\n",
      "3 4 x_correlation:  (0.0213969791976+0.0377830476077j)     abs(x_correlation):  0.043421070983\n",
      "k_correlation_r:  0.135922449233     k_correlation_i:  0.150616726701\n",
      "4 0 x_correlation:  (0.0978624454408+0.267944188815j)     abs(x_correlation):  0.285256282223\n",
      "k_correlation_r:  0.419100339807     k_correlation_i:  0.0187017497839\n",
      "4 1 x_correlation:  (-0.158275107216+0.266122832553j)     abs(x_correlation):  0.309632639704\n",
      "k_correlation_r:  0.341207179367     k_correlation_i:  0.040000356059\n",
      "4 2 x_correlation:  (-0.0980451289044-0.017932039174j)     abs(x_correlation):  0.0996714870503\n",
      "k_correlation_r:  0.199417316194     k_correlation_i:  0.229633077662\n",
      "4 3 x_correlation:  (0.0441165952116+0.00751185076285j)     abs(x_correlation):  0.0447515572349\n",
      "k_correlation_r:  0.136828822534     k_correlation_i:  0.153256534265\n",
      "4 4 x_correlation:  (-0.275213248189-0.960088017959j)     abs(x_correlation):  0.998754891957\n",
      "k_correlation_r:  0.000797770824193     k_correlation_i:  0.00243848536499\n",
      "5 0 x_correlation:  (0.0670066718496+0.286755090022j)     abs(x_correlation):  0.294479839252\n",
      "k_correlation_r:  0.563565624054     k_correlation_i:  0.274750819408\n",
      "5 1 x_correlation:  (0.177594894658-0.239526416217j)     abs(x_correlation):  0.298182579428\n",
      "k_correlation_r:  0.505043894405     k_correlation_i:  0.29049200385\n",
      "5 2 x_correlation:  (0.0148398736464+0.00071629390947j)     abs(x_correlation):  0.0148571506961\n",
      "k_correlation_r:  0.398516081273     k_correlation_i:  0.430644068653\n",
      "5 3 x_correlation:  (-0.148290047284-0.0552177374774j)     abs(x_correlation):  0.15823696362\n",
      "k_correlation_r:  0.351492865314     k_correlation_i:  0.374196372448\n",
      "5 4 x_correlation:  (0.00514446007486+0.0325736568592j)     abs(x_correlation):  0.0329773951464\n",
      "k_correlation_r:  0.249291691462     k_correlation_i:  0.262731110629\n",
      "X :  [7000000000000.0, 6950000000000.0, 6850000000000.0, 6650000000000.0, 6450000000000.0]\n",
      "Y :  [[(9.0264198593920089-1.0265850275942863j)], [(8.9591509490803887-1.0248428143216293j)], [(8.8250554453441765-1.0213873265953377j)], [(8.5585964224031823-1.0145863243291824j)], [(8.2943834560896317-1.0079245347408612j)]]\n",
      "X :  [7000000000000.0, 6950000000000.0, 6850000000000.0, 6650000000000.0, 6450000000000.0]\n",
      "Y :  [[(8.0232073158584836-1.0038177634322727j)], [(7.9580318024293435-1.002165067653527j)], [(7.8280933139952493-0.99888371498477257j)], [(7.5698373817955931-0.99241010085502668j)], [(7.3136932127065855-0.98604443809278242j)]]\n",
      "X :  [7000000000000.0, 6950000000000.0, 6850000000000.0, 6650000000000.0, 6450000000000.0]\n",
      "Y :  [[(6.5956702117118349-0.78791361784606873j)], [(6.5435530246973519-0.78802249083072595j)], [(6.4391320917083572-0.78834760985526786j)], [(6.2293811334969185-0.7894861249931886j)], [(6.0180579613309053-0.79141024897694101j)]]\n",
      "X :  [7000000000000.0, 6950000000000.0, 6850000000000.0, 6650000000000.0, 6450000000000.0]\n",
      "Y :  [[(6.2737880213737869-0.83870302667178354j)], [(6.2130298312009069-0.84076827627467954j)], [(6.0903511298235351-0.84530657527834485j)], [(5.8397096988549269-0.85626279522147908j)], [(5.580619695053235-0.87030920913645859j)]]\n",
      "X :  [7000000000000.0, 6950000000000.0, 6850000000000.0, 6650000000000.0, 6450000000000.0]\n",
      "Y :  [[(5.722674439701902-0.93216942168447792j)], [(5.6464262552655367-0.93829747873521585j)], [(5.4908645252106938-0.95174727681905913j)], [(5.1657822429627718-0.98437391926430307j)], [(4.8182412765899674-1.0271412924220784j)]]\n",
      "----------------------------------------------------------------------------------------------------\n",
      "frequency: 6250000000000.0   k_init: (8.0324165464-1.00140195783j)\n"
     ]
    },
    {
     "data": {
      "text/latex": [
       "$$Eqs_\\text{ freespace } = \\left[\\begin{matrix}376.730313461771 H_{{y}} + 7.63415225477911 \\cdot 10^{-6} i \\frac{d}{d x} E_{{z}}\\\\- 376.730313461771 H_{{x}} + 7.63415225477911 \\cdot 10^{-6} i \\frac{d}{d y} E_{{z}}\\\\- 0.00265441872943807 E_{{y}} + 7.63415225477911 \\cdot 10^{-6} i \\frac{d}{d x} H_{{z}}\\\\0.00265441872943807 E_{{x}} + 7.63415225477911 \\cdot 10^{-6} i \\frac{d}{d y} H_{{z}}\\\\- 347.703142516756 i E_{{z}} - \\frac{d}{d y} H_{{x}} + \\frac{d}{d x} H_{{y}}\\\\49348022.0054468 i H_{{z}} - \\frac{d}{d y} E_{{x}} + \\frac{d}{d x} E_{{y}}\\end{matrix}\\right]$$"
      ],
      "text/plain": [
       "<IPython.core.display.Math at 0x7f537521a908>"
      ]
     },
     "metadata": {},
     "output_type": "display_data"
    },
    {
     "name": "stdout",
     "output_type": "stream",
     "text": [
      "Eq1 boundary equations \n"
     ]
    },
    {
     "data": {
      "text/latex": [
       "$$EQs_\\text{ freespace }-b[0] = \\left[\\begin{matrix}376.730313461771 H_{{y}} & 7.63415225477911 \\cdot 10^{-6} i \\frac{d}{d x} E_{{z}}\\end{matrix}\\right]$$"
      ],
      "text/plain": [
       "<IPython.core.display.Math at 0x7f537a9d6cf8>"
      ]
     },
     "metadata": {},
     "output_type": "display_data"
    },
    {
     "data": {
      "text/latex": [
       "$$EQs_\\text{ freespace }-b[1] = \\left[\\begin{matrix}- 376.730313461771 H_{{x}} & 7.63415225477911 \\cdot 10^{-6} i \\frac{d}{d y} E_{{z}}\\end{matrix}\\right]$$"
      ],
      "text/plain": [
       "<IPython.core.display.Math at 0x7f537a9d6c18>"
      ]
     },
     "metadata": {},
     "output_type": "display_data"
    },
    {
     "data": {
      "text/latex": [
       "$$EQs_\\text{ freespace }-b[2] = \\left[\\begin{matrix}- 0.00265441872943807 E_{{y}} & 7.63415225477911 \\cdot 10^{-6} i \\frac{d}{d x} H_{{z}}\\end{matrix}\\right]$$"
      ],
      "text/plain": [
       "<IPython.core.display.Math at 0x7f537a9d6cf8>"
      ]
     },
     "metadata": {},
     "output_type": "display_data"
    },
    {
     "data": {
      "text/latex": [
       "$$EQs_\\text{ freespace }-b[3] = \\left[\\begin{matrix}0.00265441872943807 E_{{x}} & 7.63415225477911 \\cdot 10^{-6} i \\frac{d}{d y} H_{{z}}\\end{matrix}\\right]$$"
      ],
      "text/plain": [
       "<IPython.core.display.Math at 0x7f537a9d6c18>"
      ]
     },
     "metadata": {},
     "output_type": "display_data"
    },
    {
     "data": {
      "text/latex": [
       "$$EQs_\\text{ freespace }-b[4] = \\left[\\begin{matrix}- 347.703142516756 i E_{{z}} & - \\frac{d}{d y} H_{{x}} & \\frac{d}{d x} H_{{y}}\\end{matrix}\\right]$$"
      ],
      "text/plain": [
       "<IPython.core.display.Math at 0x7f537a9d6cf8>"
      ]
     },
     "metadata": {},
     "output_type": "display_data"
    },
    {
     "data": {
      "text/latex": [
       "$$EQs_\\text{ freespace }-b[5] = \\left[\\begin{matrix}49348022.0054468 i H_{{z}} & - \\frac{d}{d y} E_{{x}} & \\frac{d}{d x} E_{{y}}\\end{matrix}\\right]$$"
      ],
      "text/plain": [
       "<IPython.core.display.Math at 0x7f537a9d6c18>"
      ]
     },
     "metadata": {},
     "output_type": "display_data"
    },
    {
     "name": "stdout",
     "output_type": "stream",
     "text": [
      "[[(2306.6946005557379-17785.501889910229j), 0.0, (-1461.4034176469024-382.18662451945056j)], [0.0, 0.0, 0.0], [(1461.4034176469024+382.18662451945056j), 0.0, (2306.6946005557379-17785.501889910229j)]]\n"
     ]
    },
    {
     "data": {
      "text/latex": [
       "$$Eqs_\\text{ graphene } = \\left[\\begin{matrix}376.730313461771 H_{{y}} + 7.63415225477911 \\cdot 10^{-6} i \\frac{d}{d x} E_{{z}}\\\\- 376.730313461771 H_{{x}} + 7.63415225477911 \\cdot 10^{-6} i \\frac{d}{d y} E_{{z}}\\\\- 0.00265441872943807 E_{{y}} + 7.63415225477911 \\cdot 10^{-6} i \\frac{d}{d x} H_{{z}}\\\\- 0.133122810625798 E_{{x}} - 0.0176096577859194 i E_{{x}} - 0.00291767088132158 E_{{z}} + 0.011156576195971 i E_{{z}} + 7.63415225477911 \\cdot 10^{-6} i \\frac{d}{d y} H_{{z}}\\\\- 1461.4034176469 E_{{x}} - 382.186624519451 i E_{{x}} - 2306.69460055574 E_{{z}} + 17437.7987473935 i E_{{z}} - \\frac{d}{d y} H_{{x}} + \\frac{d}{d x} H_{{y}}\\\\49348022.0054468 i H_{{z}} - \\frac{d}{d y} E_{{x}} + \\frac{d}{d x} E_{{y}}\\end{matrix}\\right]$$"
      ],
      "text/plain": [
       "<IPython.core.display.Math at 0x7f537ad70da0>"
      ]
     },
     "metadata": {},
     "output_type": "display_data"
    },
    {
     "name": "stdout",
     "output_type": "stream",
     "text": [
      "Eq1 boundary equations \n"
     ]
    },
    {
     "data": {
      "text/latex": [
       "$$EQs_\\text{ graphene }-b[0] = \\left[\\begin{matrix}376.730313461771 H_{{y}} & 7.63415225477911 \\cdot 10^{-6} i \\frac{d}{d x} E_{{z}}\\end{matrix}\\right]$$"
      ],
      "text/plain": [
       "<IPython.core.display.Math at 0x7f537a9d6160>"
      ]
     },
     "metadata": {},
     "output_type": "display_data"
    },
    {
     "data": {
      "text/latex": [
       "$$EQs_\\text{ graphene }-b[1] = \\left[\\begin{matrix}- 376.730313461771 H_{{x}} & 7.63415225477911 \\cdot 10^{-6} i \\frac{d}{d y} E_{{z}}\\end{matrix}\\right]$$"
      ],
      "text/plain": [
       "<IPython.core.display.Math at 0x7f537ad38518>"
      ]
     },
     "metadata": {},
     "output_type": "display_data"
    },
    {
     "data": {
      "text/latex": [
       "$$EQs_\\text{ graphene }-b[2] = \\left[\\begin{matrix}0 & - 0.00265441872943807 E_{{y}} & 0 & 7.63415225477911 \\cdot 10^{-6} i \\frac{d}{d x} H_{{z}}\\end{matrix}\\right]$$"
      ],
      "text/plain": [
       "<IPython.core.display.Math at 0x7f537ad38518>"
      ]
     },
     "metadata": {},
     "output_type": "display_data"
    },
    {
     "data": {
      "text/latex": [
       "$$EQs_\\text{ graphene }-b[3] = \\left[\\begin{matrix}7.63415225477911 \\cdot 10^{-6} E_{{x}} \\left(347.703142516756 - i \\left(2306.69460055574 - 17785.5018899102 i\\right)\\right) & 0 & - 7.63415225477911 \\cdot 10^{-6} i E_{{z}} \\left(-1461.4034176469 - 382.186624519451 i\\right) & 7.63415225477911 \\cdot 10^{-6} i \\frac{d}{d y} H_{{z}}\\end{matrix}\\right]$$"
      ],
      "text/plain": [
       "<IPython.core.display.Math at 0x7f537ad38518>"
      ]
     },
     "metadata": {},
     "output_type": "display_data"
    },
    {
     "data": {
      "text/latex": [
       "$$EQs_\\text{ graphene }-b[4] = \\left[\\begin{matrix}- E_{{x}} \\left(1461.4034176469 + 382.186624519451 i\\right) & 0 & - E_{{z}} \\left(2306.69460055574 - 17437.7987473935 i\\right) & - \\frac{d}{d y} H_{{x}} & \\frac{d}{d x} H_{{y}}\\end{matrix}\\right]$$"
      ],
      "text/plain": [
       "<IPython.core.display.Math at 0x7f537ad38518>"
      ]
     },
     "metadata": {},
     "output_type": "display_data"
    },
    {
     "data": {
      "text/latex": [
       "$$EQs_\\text{ graphene }-b[5] = \\left[\\begin{matrix}49348022.0054468 i H_{{z}} & - \\frac{d}{d y} E_{{x}} & \\frac{d}{d x} E_{{y}}\\end{matrix}\\right]$$"
      ],
      "text/plain": [
       "<IPython.core.display.Math at 0x7f537ad38518>"
      ]
     },
     "metadata": {},
     "output_type": "display_data"
    },
    {
     "name": "stdout",
     "output_type": "stream",
     "text": [
      "initial matrix nnz 1843027 0:00:19\n",
      "initial matrix shared nnz 2219743 0:00:14\n",
      "final matrix (application of boundary conditions) nnz:  2219267 0:00:03\n",
      "A_11.shape:  (157356, 157356) A_11.nnz:  157356\n",
      "warning: this inversion mechanism only works for diagonal matrices\n",
      "eliminating z components 0:00:01\n",
      "A_reduced nnz:  2946528\n",
      "solving eigenvalues 0:03:13\n",
      "[ 8.03235009-1.00139555j  7.05960850-0.97977554j  5.80463455-0.79432854j\n",
      "  5.31100091-0.88837922j  4.44237149-1.08461599j  3.05842774-1.60625895j]\n",
      "(359926, 6)\n",
      "0 0 x_correlation:  (0.873219311074+0.48258305274j)     abs(x_correlation):  0.997696531027\n",
      "k_correlation_r:  8.27308204799e-06     k_correlation_i:  6.39454608774e-06\n",
      "0 1 x_correlation:  (6.52483395823e-05+8.12463349273e-05j)     abs(x_correlation):  0.000104203228152\n",
      "k_correlation_r:  0.121096475565     k_correlation_i:  0.0215787133548\n",
      "0 2 x_correlation:  (0.0906509607049-0.1230627951j)     abs(x_correlation):  0.152846485778\n",
      "k_correlation_r:  0.277277196886     k_correlation_i:  0.206986711314\n",
      "0 3 x_correlation:  (-0.117736710914+0.2118143155j)     abs(x_correlation):  0.242337032555\n",
      "k_correlation_r:  0.338539648231     k_correlation_i:  0.113790935864\n",
      "0 4 x_correlation:  (-0.127577725605+0.247981649732j)     abs(x_correlation):  0.278874478349\n",
      "k_correlation_r:  0.446209194784     k_correlation_i:  0.072824300669\n",
      "1 0 x_correlation:  (-0.000209275474948+5.34661783451e-05j)     abs(x_correlation):  0.000215997353321\n",
      "k_correlation_r:  0.121110258432     k_correlation_i:  0.0215961394976\n",
      "1 1 x_correlation:  (-0.9739619962-0.217182343348j)     abs(x_correlation):  0.997882828945\n",
      "k_correlation_r:  7.40886763288e-06     k_correlation_i:  1.14159967087e-05\n",
      "1 2 x_correlation:  (-0.182658547244+0.0397032476689j)     abs(x_correlation):  0.186923761884\n",
      "k_correlation_r:  0.177693412738     k_correlation_i:  0.189487848792\n",
      "1 3 x_correlation:  (-0.263094509621+0.083307897188j)     abs(x_correlation):  0.275969068423\n",
      "k_correlation_r:  0.247397201072     k_correlation_i:  0.0942355881793\n",
      "1 4 x_correlation:  (0.281021273122-0.0898816467077j)     abs(x_correlation):  0.295045193762\n",
      "k_correlation_r:  0.369902506005     k_correlation_i:  0.0928419155463\n",
      "2 0 x_correlation:  (-0.163385227051+0.0547560675451j)     abs(x_correlation):  0.172316451192\n",
      "k_correlation_r:  0.277348912844     k_correlation_i:  0.20678351755\n",
      "2 1 x_correlation:  (-0.0459871489274+0.210903982601j)     abs(x_correlation):  0.215859462946\n",
      "k_correlation_r:  0.177774299834     k_correlation_i:  0.189284242311\n",
      "2 2 x_correlation:  (0.190664071241+0.980799852591j)     abs(x_correlation):  0.999160216835\n",
      "k_correlation_r:  9.09579116267e-05     k_correlation_i:  0.000262557231764\n",
      "2 3 x_correlation:  (0.0224569155078+0.0342431381899j)     abs(x_correlation):  0.0409500374507\n",
      "k_correlation_r:  0.0846829248448     k_correlation_i:  0.10492728314\n",
      "2 4 x_correlation:  (-0.0598683328075-0.0883316693411j)     abs(x_correlation):  0.106708486456\n",
      "k_correlation_r:  0.233674129186     k_correlation_i:  0.264544250258\n",
      "3 0 x_correlation:  (-0.241910585169+0.108936456297j)     abs(x_correlation):  0.265307147901\n",
      "k_correlation_r:  0.338804096793     k_correlation_i:  0.112864507273\n",
      "3 1 x_correlation:  (0.0266377305729-0.30560455122j)     abs(x_correlation):  0.30676328075\n",
      "k_correlation_r:  0.247697437776     k_correlation_i:  0.09329326978\n",
      "3 2 x_correlation:  (-0.00318098568917-0.0427293701495j)     abs(x_correlation):  0.0428476107074\n",
      "k_correlation_r:  0.0851245172681     k_correlation_i:  0.106102479015\n",
      "3 3 x_correlation:  (-0.404225302086-0.913182908417j)     abs(x_correlation):  0.99864964781\n",
      "k_correlation_r:  0.000391525188325     k_correlation_i:  0.00105067997295\n",
      "3 4 x_correlation:  (0.0252559310897+0.0341753384021j)     abs(x_correlation):  0.0424948915766\n",
      "k_correlation_r:  0.162447587812     k_correlation_i:  0.177464269387\n",
      "4 0 x_correlation:  (0.131291662138-0.268591699751j)     abs(x_correlation):  0.298963211319\n",
      "k_correlation_r:  0.44694458194     k_correlation_i:  0.0767221122422\n",
      "4 1 x_correlation:  (-0.187260782498-0.25764192014j)     abs(x_correlation):  0.318505823612\n",
      "k_correlation_r:  0.370738678143     k_correlation_i:  0.0966510376725\n",
      "4 2 x_correlation:  (-0.0781262578817-0.0824551753747j)     abs(x_correlation):  0.113589471857\n",
      "k_correlation_r:  0.234755024765     k_correlation_i:  0.267833047763\n",
      "4 3 x_correlation:  (-0.0358299335704-0.024479837066j)     abs(x_correlation):  0.0433940844175\n",
      "k_correlation_r:  0.163880356409     k_correlation_i:  0.181787999281\n",
      "4 4 x_correlation:  (0.90822598034+0.415357121983j)     abs(x_correlation):  0.998697136346\n",
      "k_correlation_r:  0.00131965290637     k_correlation_i:  0.00421032984258\n",
      "5 0 x_correlation:  (-0.00787836168751+0.30366233195j)     abs(x_correlation):  0.303764514762\n",
      "k_correlation_r:  0.619239400002     k_correlation_i:  0.37656256632\n",
      "5 1 x_correlation:  (-0.264874932448-0.141627897723j)     abs(x_correlation):  0.300361767296\n",
      "k_correlation_r:  0.566774123096     k_correlation_i:  0.390019444569\n",
      "5 2 x_correlation:  (-0.0152848508689-0.00139386967011j)     abs(x_correlation):  0.0153482747806\n",
      "k_correlation_r:  0.473153817138     k_correlation_i:  0.505608991853\n",
      "5 3 x_correlation:  (-0.167120926901-0.0420632006726j)     abs(x_correlation):  0.172333157167\n",
      "k_correlation_r:  0.424358921787     k_correlation_i:  0.447507628311\n",
      "5 4 x_correlation:  (0.0281494773748-0.00329786947456j)     abs(x_correlation):  0.0283420009799\n",
      "k_correlation_r:  0.312441184467     k_correlation_i:  0.327599453339\n",
      "X :  [7000000000000.0, 6950000000000.0, 6850000000000.0, 6650000000000.0, 6450000000000.0, 6250000000000.0]\n",
      "Y :  [[(9.0264198593920089-1.0265850275942863j)], [(8.9591509490803887-1.0248428143216293j)], [(8.8250554453441765-1.0213873265953377j)], [(8.5585964224031823-1.0145863243291824j)], [(8.2943834560896317-1.0079245347408612j)], [(8.0323500935623926-1.0013955543194086j)]]\n",
      "X :  [7000000000000.0, 6950000000000.0, 6850000000000.0, 6650000000000.0, 6450000000000.0, 6250000000000.0]\n",
      "Y :  [[(8.0232073158584836-1.0038177634322727j)], [(7.9580318024293435-1.002165067653527j)], [(7.8280933139952493-0.99888371498477257j)], [(7.5698373817955931-0.99241010085502668j)], [(7.3136932127065855-0.98604443809278242j)], [(7.0596085026341342-0.97977554145591095j)]]\n",
      "X :  [7000000000000.0, 6950000000000.0, 6850000000000.0, 6650000000000.0, 6450000000000.0, 6250000000000.0]\n",
      "Y :  [[(6.5956702117118349-0.78791361784606873j)], [(6.5435530246973519-0.78802249083072595j)], [(6.4391320917083572-0.78834760985526786j)], [(6.2293811334969185-0.7894861249931886j)], [(6.0180579613309053-0.79141024897694101j)], [(5.8046345497448524-0.79432853850880258j)]]\n",
      "X :  [7000000000000.0, 6950000000000.0, 6850000000000.0, 6650000000000.0, 6450000000000.0, 6250000000000.0]\n",
      "Y :  [[(6.2737880213737869-0.83870302667178354j)], [(6.2130298312009069-0.84076827627467954j)], [(6.0903511298235351-0.84530657527834485j)], [(5.8397096988549269-0.85626279522147908j)], [(5.580619695053235-0.87030920913645859j)], [(5.3110009133316254-0.88837921927722785j)]]\n",
      "X :  [7000000000000.0, 6950000000000.0, 6850000000000.0, 6650000000000.0, 6450000000000.0, 6250000000000.0]\n",
      "Y :  [[(5.722674439701902-0.93216942168447792j)], [(5.6464262552655367-0.93829747873521585j)], [(5.4908645252106938-0.95174727681905913j)], [(5.1657822429627718-0.98437391926430307j)], [(4.8182412765899674-1.0271412924220784j)], [(4.4423714911030308-1.0846159873516263j)]]\n",
      "----------------------------------------------------------------------------------------------------\n",
      "frequency: 6050000000000.0   k_init: (7.77249633482-0.994999383065j)\n"
     ]
    },
    {
     "data": {
      "text/latex": [
       "$$Eqs_\\text{ freespace } = \\left[\\begin{matrix}376.730313461771 H_{{y}} + 7.88652092435858 \\cdot 10^{-6} i \\frac{d}{d x} E_{{z}}\\\\- 376.730313461771 H_{{x}} + 7.88652092435858 \\cdot 10^{-6} i \\frac{d}{d y} E_{{z}}\\\\- 0.00265441872943807 E_{{y}} + 7.88652092435858 \\cdot 10^{-6} i \\frac{d}{d x} H_{{z}}\\\\0.00265441872943807 E_{{x}} + 7.88652092435858 \\cdot 10^{-6} i \\frac{d}{d y} H_{{z}}\\\\- 336.57664195622 i E_{{z}} - \\frac{d}{d y} H_{{x}} + \\frac{d}{d x} H_{{y}}\\\\47768885.3012725 i H_{{z}} - \\frac{d}{d y} E_{{x}} + \\frac{d}{d x} E_{{y}}\\end{matrix}\\right]$$"
      ],
      "text/plain": [
       "<IPython.core.display.Math at 0x7f537a9ec048>"
      ]
     },
     "metadata": {},
     "output_type": "display_data"
    },
    {
     "name": "stdout",
     "output_type": "stream",
     "text": [
      "Eq1 boundary equations \n"
     ]
    },
    {
     "data": {
      "text/latex": [
       "$$EQs_\\text{ freespace }-b[0] = \\left[\\begin{matrix}376.730313461771 H_{{y}} & 7.88652092435858 \\cdot 10^{-6} i \\frac{d}{d x} E_{{z}}\\end{matrix}\\right]$$"
      ],
      "text/plain": [
       "<IPython.core.display.Math at 0x7f537516f6d8>"
      ]
     },
     "metadata": {},
     "output_type": "display_data"
    },
    {
     "data": {
      "text/latex": [
       "$$EQs_\\text{ freespace }-b[1] = \\left[\\begin{matrix}- 376.730313461771 H_{{x}} & 7.88652092435858 \\cdot 10^{-6} i \\frac{d}{d y} E_{{z}}\\end{matrix}\\right]$$"
      ],
      "text/plain": [
       "<IPython.core.display.Math at 0x7f537516f6d8>"
      ]
     },
     "metadata": {},
     "output_type": "display_data"
    },
    {
     "data": {
      "text/latex": [
       "$$EQs_\\text{ freespace }-b[2] = \\left[\\begin{matrix}- 0.00265441872943807 E_{{y}} & 7.88652092435858 \\cdot 10^{-6} i \\frac{d}{d x} H_{{z}}\\end{matrix}\\right]$$"
      ],
      "text/plain": [
       "<IPython.core.display.Math at 0x7f537516f6d8>"
      ]
     },
     "metadata": {},
     "output_type": "display_data"
    },
    {
     "data": {
      "text/latex": [
       "$$EQs_\\text{ freespace }-b[3] = \\left[\\begin{matrix}0.00265441872943807 E_{{x}} & 7.88652092435858 \\cdot 10^{-6} i \\frac{d}{d y} H_{{z}}\\end{matrix}\\right]$$"
      ],
      "text/plain": [
       "<IPython.core.display.Math at 0x7f537516f6d8>"
      ]
     },
     "metadata": {},
     "output_type": "display_data"
    },
    {
     "data": {
      "text/latex": [
       "$$EQs_\\text{ freespace }-b[4] = \\left[\\begin{matrix}- 336.57664195622 i E_{{z}} & - \\frac{d}{d y} H_{{x}} & \\frac{d}{d x} H_{{y}}\\end{matrix}\\right]$$"
      ],
      "text/plain": [
       "<IPython.core.display.Math at 0x7f537516f6d8>"
      ]
     },
     "metadata": {},
     "output_type": "display_data"
    },
    {
     "data": {
      "text/latex": [
       "$$EQs_\\text{ freespace }-b[5] = \\left[\\begin{matrix}47768885.3012725 i H_{{z}} & - \\frac{d}{d y} E_{{x}} & \\frac{d}{d x} E_{{y}}\\end{matrix}\\right]$$"
      ],
      "text/plain": [
       "<IPython.core.display.Math at 0x7f537516f6d8>"
      ]
     },
     "metadata": {},
     "output_type": "display_data"
    },
    {
     "name": "stdout",
     "output_type": "stream",
     "text": [
      "[[(2462.2034029470815-18363.722726447417j), 0.0, (-1555.4077139823598-420.85844448033095j)], [0.0, 0.0, 0.0], [(1555.4077139823598+420.85844448033095j), 0.0, (2462.2034029470815-18363.722726447417j)]]\n"
     ]
    },
    {
     "data": {
      "text/latex": [
       "$$Eqs_\\text{ graphene } = \\left[\\begin{matrix}376.730313461771 H_{{y}} + 7.88652092435858 \\cdot 10^{-6} i \\frac{d}{d x} E_{{z}}\\\\- 376.730313461771 H_{{x}} + 7.88652092435858 \\cdot 10^{-6} i \\frac{d}{d y} E_{{z}}\\\\- 0.00265441872943807 E_{{y}} + 7.88652092435858 \\cdot 10^{-6} i \\frac{d}{d x} H_{{z}}\\\\- 0.142171464801809 E_{{x}} - 0.0194182186573691 i E_{{x}} - 0.00331910892858713 E_{{z}} + 0.0122667554822306 i E_{{z}} + 7.88652092435858 \\cdot 10^{-6} i \\frac{d}{d y} H_{{z}}\\\\- 1555.40771398236 E_{{x}} - 420.858444480331 i E_{{x}} - 2462.20340294708 E_{{z}} + 18027.1460844912 i E_{{z}} - \\frac{d}{d y} H_{{x}} + \\frac{d}{d x} H_{{y}}\\\\47768885.3012725 i H_{{z}} - \\frac{d}{d y} E_{{x}} + \\frac{d}{d x} E_{{y}}\\end{matrix}\\right]$$"
      ],
      "text/plain": [
       "<IPython.core.display.Math at 0x7f537ad70da0>"
      ]
     },
     "metadata": {},
     "output_type": "display_data"
    },
    {
     "name": "stdout",
     "output_type": "stream",
     "text": [
      "Eq1 boundary equations \n"
     ]
    },
    {
     "data": {
      "text/latex": [
       "$$EQs_\\text{ graphene }-b[0] = \\left[\\begin{matrix}376.730313461771 H_{{y}} & 7.88652092435858 \\cdot 10^{-6} i \\frac{d}{d x} E_{{z}}\\end{matrix}\\right]$$"
      ],
      "text/plain": [
       "<IPython.core.display.Math at 0x7f537a9d6240>"
      ]
     },
     "metadata": {},
     "output_type": "display_data"
    },
    {
     "data": {
      "text/latex": [
       "$$EQs_\\text{ graphene }-b[1] = \\left[\\begin{matrix}- 376.730313461771 H_{{x}} & 7.88652092435858 \\cdot 10^{-6} i \\frac{d}{d y} E_{{z}}\\end{matrix}\\right]$$"
      ],
      "text/plain": [
       "<IPython.core.display.Math at 0x7f537ad33828>"
      ]
     },
     "metadata": {},
     "output_type": "display_data"
    },
    {
     "data": {
      "text/latex": [
       "$$EQs_\\text{ graphene }-b[2] = \\left[\\begin{matrix}0 & - 0.00265441872943807 E_{{y}} & 0 & 7.88652092435858 \\cdot 10^{-6} i \\frac{d}{d x} H_{{z}}\\end{matrix}\\right]$$"
      ],
      "text/plain": [
       "<IPython.core.display.Math at 0x7f537abe2630>"
      ]
     },
     "metadata": {},
     "output_type": "display_data"
    },
    {
     "data": {
      "text/latex": [
       "$$EQs_\\text{ graphene }-b[3] = \\left[\\begin{matrix}7.88652092435858 \\cdot 10^{-6} E_{{x}} \\left(336.57664195622 - i \\left(2462.20340294708 - 18363.7227264474 i\\right)\\right) & 0 & - 7.88652092435858 \\cdot 10^{-6} i E_{{z}} \\left(-1555.40771398236 - 420.858444480331 i\\right) & 7.88652092435858 \\cdot 10^{-6} i \\frac{d}{d y} H_{{z}}\\end{matrix}\\right]$$"
      ],
      "text/plain": [
       "<IPython.core.display.Math at 0x7f537ad33828>"
      ]
     },
     "metadata": {},
     "output_type": "display_data"
    },
    {
     "data": {
      "text/latex": [
       "$$EQs_\\text{ graphene }-b[4] = \\left[\\begin{matrix}- E_{{x}} \\left(1555.40771398236 + 420.858444480331 i\\right) & 0 & - E_{{z}} \\left(2462.20340294708 - 18027.1460844912 i\\right) & - \\frac{d}{d y} H_{{x}} & \\frac{d}{d x} H_{{y}}\\end{matrix}\\right]$$"
      ],
      "text/plain": [
       "<IPython.core.display.Math at 0x7f537abe2630>"
      ]
     },
     "metadata": {},
     "output_type": "display_data"
    },
    {
     "data": {
      "text/latex": [
       "$$EQs_\\text{ graphene }-b[5] = \\left[\\begin{matrix}47768885.3012725 i H_{{z}} & - \\frac{d}{d y} E_{{x}} & \\frac{d}{d x} E_{{y}}\\end{matrix}\\right]$$"
      ],
      "text/plain": [
       "<IPython.core.display.Math at 0x7f537ad33828>"
      ]
     },
     "metadata": {},
     "output_type": "display_data"
    },
    {
     "name": "stdout",
     "output_type": "stream",
     "text": [
      "initial matrix nnz 1843027 0:00:17\n",
      "initial matrix shared nnz 2219743 0:00:14\n",
      "final matrix (application of boundary conditions) nnz:  2219267 0:00:06\n",
      "A_11.shape:  (157356, 157356) A_11.nnz:  157356\n",
      "warning: this inversion mechanism only works for diagonal matrices\n",
      "eliminating z components 0:00:02\n",
      "A_reduced nnz:  2938082\n",
      "solving eigenvalues 0:04:52\n",
      "[ 7.77243696-0.99499398j  6.80753713-0.97359285j  5.58844134-0.79852241j\n",
      "  5.02818279-0.9117954j   4.03052991-1.16451574j  2.45988999-1.95571913j]\n",
      "(359926, 6)\n",
      "0 0 x_correlation:  (-0.92841243924-0.365446513225j)     abs(x_correlation):  0.997747869636\n",
      "k_correlation_r:  7.63933648593e-06     k_correlation_i:  5.42706478053e-06\n",
      "0 1 x_correlation:  (9.83792903625e-05+0.000200325981268j)     abs(x_correlation):  0.000223179263247\n",
      "k_correlation_r:  0.124137862003     k_correlation_i:  0.0214981925083\n",
      "0 2 x_correlation:  (0.0634433108159+0.156817390134j)     abs(x_correlation):  0.169164853134\n",
      "k_correlation_r:  0.280906242294     k_correlation_i:  0.19774289381\n",
      "0 3 x_correlation:  (0.0724940750939+0.249484869955j)     abs(x_correlation):  0.259803947738\n",
      "k_correlation_r:  0.352731533134     k_correlation_i:  0.0849464006086\n",
      "0 4 x_correlation:  (0.117073494969-0.267557654184j)     abs(x_correlation):  0.292050169554\n",
      "k_correlation_r:  0.480449579937     k_correlation_i:  0.139872320274\n",
      "1 0 x_correlation:  (0.000432445940499+9.86956459376e-05j)     abs(x_correlation):  0.000443565465271\n",
      "k_correlation_r:  0.124150486883     k_correlation_i:  0.0215141203899\n",
      "1 1 x_correlation:  (-0.491431542534-0.868527828343j)     abs(x_correlation):  0.997920612876\n",
      "k_correlation_r:  6.77494788326e-06     k_correlation_i:  1.08508195021e-05\n",
      "1 2 x_correlation:  (0.175656598705-0.108592562524j)     abs(x_correlation):  0.206512918008\n",
      "k_correlation_r:  0.178981944343     k_correlation_i:  0.180107992353\n",
      "1 3 x_correlation:  (-0.267793276435+0.116845708104j)     abs(x_correlation):  0.292174876412\n",
      "k_correlation_r:  0.260987746786     k_correlation_i:  0.0648320508204\n",
      "1 4 x_correlation:  (-0.288062943415-0.0938836728637j)     abs(x_correlation):  0.302975912243\n",
      "k_correlation_r:  0.406808540437     k_correlation_i:  0.15837264316\n",
      "2 0 x_correlation:  (-0.188894231093-0.0276259957787j)     abs(x_correlation):  0.190903709191\n",
      "k_correlation_r:  0.280997880946     k_correlation_i:  0.19746442072\n",
      "2 1 x_correlation:  (0.196690214819-0.135377441717j)     abs(x_correlation):  0.238776239043\n",
      "k_correlation_r:  0.179085862258     k_correlation_i:  0.179827846437\n",
      "2 2 x_correlation:  (0.574145406278+0.817491109746j)     abs(x_correlation):  0.998966797278\n",
      "k_correlation_r:  0.000119797885336     k_correlation_i:  0.000352416763333\n",
      "2 3 x_correlation:  (-0.029685972592-0.0309088233242j)     abs(x_correlation):  0.0428557152317\n",
      "k_correlation_r:  0.0997752231707     k_correlation_i:  0.122958551008\n",
      "2 4 x_correlation:  (-0.00441962244869-0.122759486242j)     abs(x_correlation):  0.12283901874\n",
      "k_correlation_r:  0.277406231115     k_correlation_i:  0.309713188065\n",
      "3 0 x_correlation:  (-0.084414836012-0.271000075367j)     abs(x_correlation):  0.283843099947\n",
      "k_correlation_r:  0.353080068786     k_correlation_i:  0.0836221464975\n",
      "3 1 x_correlation:  (-0.285859948794-0.15204040912j)     abs(x_correlation):  0.323778004703\n",
      "k_correlation_r:  0.261385045402     k_correlation_i:  0.0634837669636\n",
      "3 2 x_correlation:  (0.0293035751065-0.0334643106307j)     abs(x_correlation):  0.0444810026867\n",
      "k_correlation_r:  0.100360882906     k_correlation_i:  0.124539348892\n",
      "3 3 x_correlation:  (-0.576724910852+0.815131468271j)     abs(x_correlation):  0.998524377951\n",
      "k_correlation_r:  0.000530836265399     k_correlation_i:  0.00145051537554\n",
      "3 4 x_correlation:  (-0.0371185874342+0.016841658583j)     abs(x_correlation):  0.0407606550111\n",
      "k_correlation_r:  0.196892187155     k_correlation_i:  0.211793765468\n",
      "4 0 x_correlation:  (0.23661762535+0.203806126241j)     abs(x_correlation):  0.312289669569\n",
      "k_correlation_r:  0.481436885325     k_correlation_i:  0.14556811366\n",
      "4 1 x_correlation:  (-0.324328160176+0.0302161536431j)     abs(x_correlation):  0.325732668647\n",
      "k_correlation_r:  0.407935274644     k_correlation_i:  0.163941392207\n",
      "4 2 x_correlation:  (0.0205972420868-0.127439058437j)     abs(x_correlation):  0.129092834801\n",
      "k_correlation_r:  0.278860272911     k_correlation_i:  0.314529667541\n",
      "4 3 x_correlation:  (-0.00684919016828+0.0405605609509j)     abs(x_correlation):  0.0411347846793\n",
      "k_correlation_r:  0.198837726957     k_correlation_i:  0.218153270126\n",
      "4 4 x_correlation:  (-0.68284770705+0.728710720335j)     abs(x_correlation):  0.998649240201\n",
      "k_correlation_r:  0.00189268229221     k_correlation_i:  0.0066274235536\n",
      "5 0 x_correlation:  (0.11345431927-0.290793075237j)     abs(x_correlation):  0.31214178696\n",
      "k_correlation_r:  0.683513521824     k_correlation_i:  0.491236052439\n",
      "5 1 x_correlation:  (-0.133640884447-0.269580786085j)     abs(x_correlation):  0.300888162316\n",
      "k_correlation_r:  0.638654438625     k_correlation_i:  0.502176259461\n",
      "5 2 x_correlation:  (0.0135185855944-0.00808261701954j)     abs(x_correlation):  0.0157505826672\n",
      "k_correlation_r:  0.559878120829     k_correlation_i:  0.591842722804\n",
      "5 3 x_correlation:  (-0.185979133271+0.0139774227796j)     abs(x_correlation):  0.186503636318\n",
      "k_correlation_r:  0.511039217662     k_correlation_i:  0.534456245093\n",
      "5 4 x_correlation:  (-0.0239789387651-0.00146212860136j)     abs(x_correlation):  0.0240234744437\n",
      "k_correlation_r:  0.39084084293     k_correlation_i:  0.408505041219\n",
      "X :  [7000000000000.0, 6950000000000.0, 6850000000000.0, 6650000000000.0, 6450000000000.0, 6250000000000.0, 6050000000000.0]\n",
      "Y :  [[(9.0264198593920089-1.0265850275942863j)], [(8.9591509490803887-1.0248428143216293j)], [(8.8250554453441765-1.0213873265953377j)], [(8.5585964224031823-1.0145863243291824j)], [(8.2943834560896317-1.0079245347408612j)], [(8.0323500935623926-1.0013955543194086j)], [(7.7724369581080106-0.99499398313867937j)]]\n",
      "X :  [7000000000000.0, 6950000000000.0, 6850000000000.0, 6650000000000.0, 6450000000000.0, 6250000000000.0, 6050000000000.0]\n",
      "Y :  [[(8.0232073158584836-1.0038177634322727j)], [(7.9580318024293435-1.002165067653527j)], [(7.8280933139952493-0.99888371498477257j)], [(7.5698373817955931-0.99241010085502668j)], [(7.3136932127065855-0.98604443809278242j)], [(7.0596085026341342-0.97977554145591095j)], [(6.8075371305561374-0.97359284654969247j)]]\n",
      "X :  [7000000000000.0, 6950000000000.0, 6850000000000.0, 6650000000000.0, 6450000000000.0, 6250000000000.0, 6050000000000.0]\n",
      "Y :  [[(6.5956702117118349-0.78791361784606873j)], [(6.5435530246973519-0.78802249083072595j)], [(6.4391320917083572-0.78834760985526786j)], [(6.2293811334969185-0.7894861249931886j)], [(6.0180579613309053-0.79141024897694101j)], [(5.8046345497448524-0.79432853850880258j)], [(5.5884413350732611-0.79852240627067517j)]]\n",
      "X :  [7000000000000.0, 6950000000000.0, 6850000000000.0, 6650000000000.0, 6450000000000.0, 6250000000000.0, 6050000000000.0]\n",
      "Y :  [[(6.2737880213737869-0.83870302667178354j)], [(6.2130298312009069-0.84076827627467954j)], [(6.0903511298235351-0.84530657527834485j)], [(5.8397096988549269-0.85626279522147908j)], [(5.580619695053235-0.87030920913645859j)], [(5.3110009133316254-0.88837921927722785j)], [(5.0281827942839818-0.91179539888921979j)]]\n",
      "X :  [7000000000000.0, 6950000000000.0, 6850000000000.0, 6650000000000.0, 6450000000000.0, 6250000000000.0, 6050000000000.0]\n",
      "Y :  [[(5.722674439701902-0.93216942168447792j)], [(5.6464262552655367-0.93829747873521585j)], [(5.4908645252106938-0.95174727681905913j)], [(5.1657822429627718-0.98437391926430307j)], [(4.8182412765899674-1.0271412924220784j)], [(4.4423714911030308-1.0846159873516263j)], [(4.0305299081864217-1.164515743117954j)]]\n",
      "----------------------------------------------------------------------------------------------------\n",
      "frequency: 5850000000000.0   k_init: (7.51464404973-0.988719821198j)\n"
     ]
    },
    {
     "data": {
      "text/latex": [
       "$$Eqs_\\text{ freespace } = \\left[\\begin{matrix}376.730313461771 H_{{y}} + 8.1561455713452 \\cdot 10^{-6} i \\frac{d}{d x} E_{{z}}\\\\- 376.730313461771 H_{{x}} + 8.1561455713452 \\cdot 10^{-6} i \\frac{d}{d y} E_{{z}}\\\\- 0.00265441872943807 E_{{y}} + 8.1561455713452 \\cdot 10^{-6} i \\frac{d}{d x} H_{{z}}\\\\0.00265441872943807 E_{{x}} + 8.1561455713452 \\cdot 10^{-6} i \\frac{d}{d y} H_{{z}}\\\\- 325.450141395683 i E_{{z}} - \\frac{d}{d y} H_{{x}} + \\frac{d}{d x} H_{{y}}\\\\46189748.5970982 i H_{{z}} - \\frac{d}{d y} E_{{x}} + \\frac{d}{d x} E_{{y}}\\end{matrix}\\right]$$"
      ],
      "text/plain": [
       "<IPython.core.display.Math at 0x7f537516f9b0>"
      ]
     },
     "metadata": {},
     "output_type": "display_data"
    },
    {
     "name": "stdout",
     "output_type": "stream",
     "text": [
      "Eq1 boundary equations \n"
     ]
    },
    {
     "data": {
      "text/latex": [
       "$$EQs_\\text{ freespace }-b[0] = \\left[\\begin{matrix}376.730313461771 H_{{y}} & 8.1561455713452 \\cdot 10^{-6} i \\frac{d}{d x} E_{{z}}\\end{matrix}\\right]$$"
      ],
      "text/plain": [
       "<IPython.core.display.Math at 0x7f537521a908>"
      ]
     },
     "metadata": {},
     "output_type": "display_data"
    },
    {
     "data": {
      "text/latex": [
       "$$EQs_\\text{ freespace }-b[1] = \\left[\\begin{matrix}- 376.730313461771 H_{{x}} & 8.1561455713452 \\cdot 10^{-6} i \\frac{d}{d y} E_{{z}}\\end{matrix}\\right]$$"
      ],
      "text/plain": [
       "<IPython.core.display.Math at 0x7f537521a908>"
      ]
     },
     "metadata": {},
     "output_type": "display_data"
    },
    {
     "data": {
      "text/latex": [
       "$$EQs_\\text{ freespace }-b[2] = \\left[\\begin{matrix}- 0.00265441872943807 E_{{y}} & 8.1561455713452 \\cdot 10^{-6} i \\frac{d}{d x} H_{{z}}\\end{matrix}\\right]$$"
      ],
      "text/plain": [
       "<IPython.core.display.Math at 0x7f537521a908>"
      ]
     },
     "metadata": {},
     "output_type": "display_data"
    },
    {
     "data": {
      "text/latex": [
       "$$EQs_\\text{ freespace }-b[3] = \\left[\\begin{matrix}0.00265441872943807 E_{{x}} & 8.1561455713452 \\cdot 10^{-6} i \\frac{d}{d y} H_{{z}}\\end{matrix}\\right]$$"
      ],
      "text/plain": [
       "<IPython.core.display.Math at 0x7f537521a908>"
      ]
     },
     "metadata": {},
     "output_type": "display_data"
    },
    {
     "data": {
      "text/latex": [
       "$$EQs_\\text{ freespace }-b[4] = \\left[\\begin{matrix}- 325.450141395683 i E_{{z}} & - \\frac{d}{d y} H_{{x}} & \\frac{d}{d x} H_{{y}}\\end{matrix}\\right]$$"
      ],
      "text/plain": [
       "<IPython.core.display.Math at 0x7f537521a908>"
      ]
     },
     "metadata": {},
     "output_type": "display_data"
    },
    {
     "data": {
      "text/latex": [
       "$$EQs_\\text{ freespace }-b[5] = \\left[\\begin{matrix}46189748.5970982 i H_{{z}} & - \\frac{d}{d y} E_{{x}} & \\frac{d}{d x} E_{{y}}\\end{matrix}\\right]$$"
      ],
      "text/plain": [
       "<IPython.core.display.Math at 0x7f537521a908>"
      ]
     },
     "metadata": {},
     "output_type": "display_data"
    },
    {
     "name": "stdout",
     "output_type": "stream",
     "text": [
      "[[(2634.0319024086903-18980.039381316852j), 0.0, (-1658.571320064169-464.90840475434885j)], [0.0, 0.0, 0.0], [(1658.571320064169+464.90840475434885j), 0.0, (2634.0319024086903-18980.039381316852j)]]\n"
     ]
    },
    {
     "data": {
      "text/latex": [
       "$$Eqs_\\text{ graphene } = \\left[\\begin{matrix}376.730313461771 H_{{y}} + 8.1561455713452 \\cdot 10^{-6} i \\frac{d}{d x} E_{{z}}\\\\- 376.730313461771 H_{{x}} + 8.1561455713452 \\cdot 10^{-6} i \\frac{d}{d y} E_{{z}}\\\\- 0.00265441872943807 E_{{y}} + 8.1561455713452 \\cdot 10^{-6} i \\frac{d}{d x} H_{{z}}\\\\- 0.152149545414447 E_{{x}} - 0.0214835476356126 i E_{{x}} - 0.00379186062651834 E_{{z}} + 0.0135275491269015 i E_{{z}} + 8.1561455713452 \\cdot 10^{-6} i \\frac{d}{d y} H_{{z}}\\\\- 1658.57132006417 E_{{x}} - 464.908404754349 i E_{{x}} - 2634.03190240869 E_{{z}} + 18654.5892399212 i E_{{z}} - \\frac{d}{d y} H_{{x}} + \\frac{d}{d x} H_{{y}}\\\\46189748.5970982 i H_{{z}} - \\frac{d}{d y} E_{{x}} + \\frac{d}{d x} E_{{y}}\\end{matrix}\\right]$$"
      ],
      "text/plain": [
       "<IPython.core.display.Math at 0x7f537abe2630>"
      ]
     },
     "metadata": {},
     "output_type": "display_data"
    },
    {
     "name": "stdout",
     "output_type": "stream",
     "text": [
      "Eq1 boundary equations \n"
     ]
    },
    {
     "data": {
      "text/latex": [
       "$$EQs_\\text{ graphene }-b[0] = \\left[\\begin{matrix}376.730313461771 H_{{y}} & 8.1561455713452 \\cdot 10^{-6} i \\frac{d}{d x} E_{{z}}\\end{matrix}\\right]$$"
      ],
      "text/plain": [
       "<IPython.core.display.Math at 0x7f5376a8d710>"
      ]
     },
     "metadata": {},
     "output_type": "display_data"
    },
    {
     "data": {
      "text/latex": [
       "$$EQs_\\text{ graphene }-b[1] = \\left[\\begin{matrix}- 376.730313461771 H_{{x}} & 8.1561455713452 \\cdot 10^{-6} i \\frac{d}{d y} E_{{z}}\\end{matrix}\\right]$$"
      ],
      "text/plain": [
       "<IPython.core.display.Math at 0x7f5376a8dcf8>"
      ]
     },
     "metadata": {},
     "output_type": "display_data"
    },
    {
     "data": {
      "text/latex": [
       "$$EQs_\\text{ graphene }-b[2] = \\left[\\begin{matrix}0 & - 0.00265441872943807 E_{{y}} & 0 & 8.1561455713452 \\cdot 10^{-6} i \\frac{d}{d x} H_{{z}}\\end{matrix}\\right]$$"
      ],
      "text/plain": [
       "<IPython.core.display.Math at 0x7f5376a8d710>"
      ]
     },
     "metadata": {},
     "output_type": "display_data"
    },
    {
     "data": {
      "text/latex": [
       "$$EQs_\\text{ graphene }-b[3] = \\left[\\begin{matrix}8.1561455713452 \\cdot 10^{-6} E_{{x}} \\left(325.450141395683 - i \\left(2634.03190240869 - 18980.0393813169 i\\right)\\right) & 0 & - 8.1561455713452 \\cdot 10^{-6} i E_{{z}} \\left(-1658.57132006417 - 464.908404754349 i\\right) & 8.1561455713452 \\cdot 10^{-6} i \\frac{d}{d y} H_{{z}}\\end{matrix}\\right]$$"
      ],
      "text/plain": [
       "<IPython.core.display.Math at 0x7f53751b2908>"
      ]
     },
     "metadata": {},
     "output_type": "display_data"
    },
    {
     "data": {
      "text/latex": [
       "$$EQs_\\text{ graphene }-b[4] = \\left[\\begin{matrix}- E_{{x}} \\left(1658.57132006417 + 464.908404754349 i\\right) & 0 & - E_{{z}} \\left(2634.03190240869 - 18654.5892399212 i\\right) & - \\frac{d}{d y} H_{{x}} & \\frac{d}{d x} H_{{y}}\\end{matrix}\\right]$$"
      ],
      "text/plain": [
       "<IPython.core.display.Math at 0x7f53751b2828>"
      ]
     },
     "metadata": {},
     "output_type": "display_data"
    },
    {
     "data": {
      "text/latex": [
       "$$EQs_\\text{ graphene }-b[5] = \\left[\\begin{matrix}46189748.5970982 i H_{{z}} & - \\frac{d}{d y} E_{{x}} & \\frac{d}{d x} E_{{y}}\\end{matrix}\\right]$$"
      ],
      "text/plain": [
       "<IPython.core.display.Math at 0x7f53751b2908>"
      ]
     },
     "metadata": {},
     "output_type": "display_data"
    },
    {
     "name": "stdout",
     "output_type": "stream",
     "text": [
      "initial matrix nnz 1843027 0:00:09\n",
      "initial matrix shared nnz 2219743 0:00:07\n",
      "final matrix (application of boundary conditions) nnz:  2219267 0:00:03\n",
      "A_11.shape:  (157356, 157356) A_11.nnz:  157356\n",
      "warning: this inversion mechanism only works for diagonal matrices\n",
      "eliminating z components 0:00:01\n",
      "A_reduced nnz:  2947746\n",
      "solving eigenvalues 0:03:10\n",
      "[ 7.51458963-0.98871677j  6.55743733-0.96748717j  5.36861920-0.80437523j\n",
      "  4.72869567-0.94249855j  3.57331893-1.28072976j  1.91137898-2.47823559j]\n",
      "(359926, 6)\n",
      "0 0 x_correlation:  (-0.955140041625-0.28865066172j)     abs(x_correlation):  0.997803439374\n",
      "k_correlation_r:  7.24168234347e-06     k_correlation_i:  3.08656979715e-06\n",
      "0 1 x_correlation:  (0.000419497639973+0.000188003900359j)     abs(x_correlation):  0.000459699615502\n",
      "k_correlation_r:  0.127366972992     k_correlation_i:  0.0214625833478\n",
      "0 2 x_correlation:  (-0.163885893771-0.090790194635j)     abs(x_correlation):  0.187353797984\n",
      "k_correlation_r:  0.285459541913     k_correlation_i:  0.186832996963\n",
      "0 3 x_correlation:  (-0.226792909548+0.160372942909j)     abs(x_correlation):  0.277766997029\n",
      "k_correlation_r:  0.370269626122     k_correlation_i:  0.0487086119723\n",
      "0 4 x_correlation:  (0.304350353049-0.0168211804739j)     abs(x_correlation):  0.304814844641\n",
      "k_correlation_r:  0.523231912355     k_correlation_i:  0.219541273873\n",
      "1 0 x_correlation:  (-0.000200442093308+0.000859789509434j)     abs(x_correlation):  0.00088284485234\n",
      "k_correlation_r:  0.12737884986     k_correlation_i:  0.0214748962943\n",
      "1 1 x_correlation:  (0.434948425354-0.898190041355j)     abs(x_correlation):  0.997960662104\n",
      "k_correlation_r:  6.36874523868e-06     k_correlation_i:  9.49646983444e-06\n",
      "1 2 x_correlation:  (-0.200897279699-0.108001770555j)     abs(x_correlation):  0.228087920402\n",
      "k_correlation_r:  0.181162084488     k_correlation_i:  0.168989645681\n",
      "1 3 x_correlation:  (0.257284337561-0.168918744913j)     abs(x_correlation):  0.307780396935\n",
      "k_correlation_r:  0.27835142035     k_correlation_i:  0.0278343925998\n",
      "1 4 x_correlation:  (0.309260687812+0.00374741162161j)     abs(x_correlation):  0.309283391277\n",
      "k_correlation_r:  0.453640752386     k_correlation_i:  0.236299186863\n",
      "2 0 x_correlation:  (0.188092425728+0.0967607818063j)     abs(x_correlation):  0.211521652585\n",
      "k_correlation_r:  0.285579041796     k_correlation_i:  0.186447757662\n",
      "2 1 x_correlation:  (-0.152380134237+0.215406406189j)     abs(x_correlation):  0.26385531099\n",
      "k_correlation_r:  0.181298312418     k_correlation_i:  0.168601282294\n",
      "2 2 x_correlation:  (0.770185010815+0.635836481979j)     abs(x_correlation):  0.998735692113\n",
      "k_correlation_r:  0.000159999667912     k_correlation_i:  0.000476612536797\n",
      "2 3 x_correlation:  (-0.034994784545+0.0279813833865j)     abs(x_correlation):  0.0448061687893\n",
      "k_correlation_r:  0.11855075591     k_correlation_i:  0.144789111233\n",
      "2 4 x_correlation:  (-0.140362583472+0.00995548203167j)     abs(x_correlation):  0.14071519627\n",
      "k_correlation_r:  0.332655866871     k_correlation_i:  0.365054093502\n",
      "3 0 x_correlation:  (0.153955502748+0.260632310948j)     abs(x_correlation):  0.302706951253\n",
      "k_correlation_r:  0.370735907328     k_correlation_i:  0.0467486005221\n",
      "3 1 x_correlation:  (0.308930864045-0.141427789451j)     abs(x_correlation):  0.339764769199\n",
      "k_correlation_r:  0.278885132513     k_correlation_i:  0.0258376168943\n",
      "3 2 x_correlation:  (-0.00576471473271-0.0456874662727j)     abs(x_correlation):  0.0460497178099\n",
      "k_correlation_r:  0.119337970981     k_correlation_i:  0.146956937503\n",
      "3 3 x_correlation:  (0.98948809484+0.133184322585j)     abs(x_correlation):  0.998411114528\n",
      "k_correlation_r:  0.000733209421034     k_correlation_i:  0.00205921300348\n",
      "3 4 x_correlation:  (0.0321445992453+0.0202241137624j)     abs(x_correlation):  0.0379774938367\n",
      "k_correlation_r:  0.242345716855     k_correlation_i:  0.256024330752\n",
      "4 0 x_correlation:  (0.176561522002+0.272916365125j)     abs(x_correlation):  0.325049709129\n",
      "k_correlation_r:  0.524485935745     k_correlation_i:  0.228002773536\n",
      "4 1 x_correlation:  (-0.291210186376+0.157378994472j)     abs(x_correlation):  0.331015891688\n",
      "k_correlation_r:  0.455077342841     k_correlation_i:  0.244574160035\n",
      "4 2 x_correlation:  (0.0248339930228+0.14403496335j)     abs(x_correlation):  0.146160178834\n",
      "k_correlation_r:  0.334512829301     k_correlation_i:  0.372239266637\n",
      "4 3 x_correlation:  (-0.0372818765521-0.00585137426645j)     abs(x_correlation):  0.0377382683765\n",
      "k_correlation_r:  0.244887133403     k_correlation_i:  0.265607953643\n",
      "4 4 x_correlation:  (-0.793397771111-0.606417222005j)     abs(x_correlation):  0.998609969081\n",
      "k_correlation_r:  0.0026230359697     k_correlation_i:  0.0108447534795\n",
      "5 0 x_correlation:  (0.279065236096+0.154577867159j)     abs(x_correlation):  0.319016806787\n",
      "k_correlation_r:  0.745646105956     k_correlation_i:  0.60103880982\n",
      "5 1 x_correlation:  (0.156136890599-0.256053651055j)     abs(x_correlation):  0.29990365257\n",
      "k_correlation_r:  0.708519242184     k_correlation_i:  0.609602752609\n",
      "5 2 x_correlation:  (-0.0147806949988-0.00710752813604j)     abs(x_correlation):  0.0164007896411\n",
      "k_correlation_r:  0.644028923585     k_correlation_i:  0.675578926004\n",
      "5 3 x_correlation:  (0.196087862273-0.0386660820249j)     abs(x_correlation):  0.19986374266\n",
      "k_correlation_r:  0.596087871003     k_correlation_i:  0.620472827065\n",
      "5 4 x_correlation:  (0.0193090743907-0.012471286402j)     abs(x_correlation):  0.0229863728836\n",
      "k_correlation_r:  0.466500081279     k_correlation_i:  0.488813507489\n",
      "X :  [7000000000000.0, 6950000000000.0, 6850000000000.0, 6650000000000.0, 6450000000000.0, 6250000000000.0, 6050000000000.0, 5850000000000.0]\n",
      "Y :  [[(9.0264198593920089-1.0265850275942863j)], [(8.9591509490803887-1.0248428143216293j)], [(8.8250554453441765-1.0213873265953377j)], [(8.5585964224031823-1.0145863243291824j)], [(8.2943834560896317-1.0079245347408612j)], [(8.0323500935623926-1.0013955543194086j)], [(7.7724369581080106-0.99499398313867937j)], [(7.514589631061205-0.98871676944562481j)]]\n",
      "X :  [7000000000000.0, 6950000000000.0, 6850000000000.0, 6650000000000.0, 6450000000000.0, 6250000000000.0, 6050000000000.0, 5850000000000.0]\n",
      "Y :  [[(8.0232073158584836-1.0038177634322727j)], [(7.9580318024293435-1.002165067653527j)], [(7.8280933139952493-0.99888371498477257j)], [(7.5698373817955931-0.99241010085502668j)], [(7.3136932127065855-0.98604443809278242j)], [(7.0596085026341342-0.97977554145591095j)], [(6.8075371305561374-0.97359284654969247j)], [(6.5574373335614329-0.96748716557405556j)]]\n",
      "X :  [7000000000000.0, 6950000000000.0, 6850000000000.0, 6650000000000.0, 6450000000000.0, 6250000000000.0, 6050000000000.0, 5850000000000.0]\n",
      "Y :  [[(6.5956702117118349-0.78791361784606873j)], [(6.5435530246973519-0.78802249083072595j)], [(6.4391320917083572-0.78834760985526786j)], [(6.2293811334969185-0.7894861249931886j)], [(6.0180579613309053-0.79141024897694101j)], [(5.8046345497448524-0.79432853850880258j)], [(5.5884413350732611-0.79852240627067517j)], [(5.368619202567892-0.80437522758025648j)]]\n",
      "X :  [7000000000000.0, 6950000000000.0, 6850000000000.0, 6650000000000.0, 6450000000000.0, 6250000000000.0, 6050000000000.0, 5850000000000.0]\n",
      "Y :  [[(6.2737880213737869-0.83870302667178354j)], [(6.2130298312009069-0.84076827627467954j)], [(6.0903511298235351-0.84530657527834485j)], [(5.8397096988549269-0.85626279522147908j)], [(5.580619695053235-0.87030920913645859j)], [(5.3110009133316254-0.88837921927722785j)], [(5.0281827942839818-0.91179539888921979j)], [(4.7286956697010751-0.94249855324883391j)]]\n",
      "X :  [7000000000000.0, 6950000000000.0, 6850000000000.0, 6650000000000.0, 6450000000000.0, 6250000000000.0, 6050000000000.0, 5850000000000.0]\n",
      "Y :  [[(5.722674439701902-0.93216942168447792j)], [(5.6464262552655367-0.93829747873521585j)], [(5.4908645252106938-0.95174727681905913j)], [(5.1657822429627718-0.98437391926430307j)], [(4.8182412765899674-1.0271412924220784j)], [(4.4423714911030308-1.0846159873516263j)], [(4.0305299081864217-1.164515743117954j)], [(3.5733189335176081-1.2807297582230945j)]]\n",
      "----------------------------------------------------------------------------------------------------\n",
      "frequency: 5650000000000.0   k_init: (7.25880811242-0.98256391324j)\n"
     ]
    },
    {
     "data": {
      "text/latex": [
       "$$Eqs_\\text{ freespace } = \\left[\\begin{matrix}376.730313461771 H_{{y}} + 8.44485868891494 \\cdot 10^{-6} i \\frac{d}{d x} E_{{z}}\\\\- 376.730313461771 H_{{x}} + 8.44485868891494 \\cdot 10^{-6} i \\frac{d}{d y} E_{{z}}\\\\- 0.00265441872943807 E_{{y}} + 8.44485868891494 \\cdot 10^{-6} i \\frac{d}{d x} H_{{z}}\\\\0.00265441872943807 E_{{x}} + 8.44485868891494 \\cdot 10^{-6} i \\frac{d}{d y} H_{{z}}\\\\- 314.323640835147 i E_{{z}} - \\frac{d}{d y} H_{{x}} + \\frac{d}{d x} H_{{y}}\\\\44610611.8929239 i H_{{z}} - \\frac{d}{d y} E_{{x}} + \\frac{d}{d x} E_{{y}}\\end{matrix}\\right]$$"
      ],
      "text/plain": [
       "<IPython.core.display.Math at 0x7f537516f9b0>"
      ]
     },
     "metadata": {},
     "output_type": "display_data"
    },
    {
     "name": "stdout",
     "output_type": "stream",
     "text": [
      "Eq1 boundary equations \n"
     ]
    },
    {
     "data": {
      "text/latex": [
       "$$EQs_\\text{ freespace }-b[0] = \\left[\\begin{matrix}376.730313461771 H_{{y}} & 8.44485868891494 \\cdot 10^{-6} i \\frac{d}{d x} E_{{z}}\\end{matrix}\\right]$$"
      ],
      "text/plain": [
       "<IPython.core.display.Math at 0x7f53751b23c8>"
      ]
     },
     "metadata": {},
     "output_type": "display_data"
    },
    {
     "data": {
      "text/latex": [
       "$$EQs_\\text{ freespace }-b[1] = \\left[\\begin{matrix}- 376.730313461771 H_{{x}} & 8.44485868891494 \\cdot 10^{-6} i \\frac{d}{d y} E_{{z}}\\end{matrix}\\right]$$"
      ],
      "text/plain": [
       "<IPython.core.display.Math at 0x7f53751b25f8>"
      ]
     },
     "metadata": {},
     "output_type": "display_data"
    },
    {
     "data": {
      "text/latex": [
       "$$EQs_\\text{ freespace }-b[2] = \\left[\\begin{matrix}- 0.00265441872943807 E_{{y}} & 8.44485868891494 \\cdot 10^{-6} i \\frac{d}{d x} H_{{z}}\\end{matrix}\\right]$$"
      ],
      "text/plain": [
       "<IPython.core.display.Math at 0x7f53751b23c8>"
      ]
     },
     "metadata": {},
     "output_type": "display_data"
    },
    {
     "data": {
      "text/latex": [
       "$$EQs_\\text{ freespace }-b[3] = \\left[\\begin{matrix}0.00265441872943807 E_{{x}} & 8.44485868891494 \\cdot 10^{-6} i \\frac{d}{d y} H_{{z}}\\end{matrix}\\right]$$"
      ],
      "text/plain": [
       "<IPython.core.display.Math at 0x7f53751b25f8>"
      ]
     },
     "metadata": {},
     "output_type": "display_data"
    },
    {
     "data": {
      "text/latex": [
       "$$EQs_\\text{ freespace }-b[4] = \\left[\\begin{matrix}- 314.323640835147 i E_{{z}} & - \\frac{d}{d y} H_{{x}} & \\frac{d}{d x} H_{{y}}\\end{matrix}\\right]$$"
      ],
      "text/plain": [
       "<IPython.core.display.Math at 0x7f53751b23c8>"
      ]
     },
     "metadata": {},
     "output_type": "display_data"
    },
    {
     "data": {
      "text/latex": [
       "$$EQs_\\text{ freespace }-b[5] = \\left[\\begin{matrix}44610611.8929239 i H_{{z}} & - \\frac{d}{d y} E_{{x}} & \\frac{d}{d x} E_{{y}}\\end{matrix}\\right]$$"
      ],
      "text/plain": [
       "<IPython.core.display.Math at 0x7f53751b25f8>"
      ]
     },
     "metadata": {},
     "output_type": "display_data"
    },
    {
     "name": "stdout",
     "output_type": "stream",
     "text": [
      "[[(2824.5458139416046-19638.280302318064j), 0.0, (-1772.0922144291003-515.30016173332899j)], [0.0, 0.0, 0.0], [(1772.0922144291003+515.30016173332899j), 0.0, (2824.5458139416046-19638.280302318064j)]]\n"
     ]
    },
    {
     "data": {
      "text/latex": [
       "$$Eqs_\\text{ graphene } = \\left[\\begin{matrix}376.730313461771 H_{{y}} + 8.44485868891494 \\cdot 10^{-6} i \\frac{d}{d x} E_{{z}}\\\\- 376.730313461771 H_{{x}} + 8.44485868891494 \\cdot 10^{-6} i \\frac{d}{d y} E_{{z}}\\\\- 0.00265441872943807 E_{{y}} + 8.44485868891494 \\cdot 10^{-6} i \\frac{d}{d x} H_{{z}}\\\\- 0.16318808331694 E_{{x}} - 0.0238528902591031 i E_{{x}} - 0.00435163704821298 E_{{z}} + 0.0149650683345801 i E_{{z}} + 8.44485868891494 \\cdot 10^{-6} i \\frac{d}{d y} H_{{z}}\\\\- 1772.0922144291 E_{{x}} - 515.300161733329 i E_{{x}} - 2824.5458139416 E_{{z}} + 19323.9566614829 i E_{{z}} - \\frac{d}{d y} H_{{x}} + \\frac{d}{d x} H_{{y}}\\\\44610611.8929239 i H_{{z}} - \\frac{d}{d y} E_{{x}} + \\frac{d}{d x} E_{{y}}\\end{matrix}\\right]$$"
      ],
      "text/plain": [
       "<IPython.core.display.Math at 0x7f537ace93c8>"
      ]
     },
     "metadata": {},
     "output_type": "display_data"
    },
    {
     "name": "stdout",
     "output_type": "stream",
     "text": [
      "Eq1 boundary equations \n"
     ]
    },
    {
     "data": {
      "text/latex": [
       "$$EQs_\\text{ graphene }-b[0] = \\left[\\begin{matrix}376.730313461771 H_{{y}} & 8.44485868891494 \\cdot 10^{-6} i \\frac{d}{d x} E_{{z}}\\end{matrix}\\right]$$"
      ],
      "text/plain": [
       "<IPython.core.display.Math at 0x7f53751b2e48>"
      ]
     },
     "metadata": {},
     "output_type": "display_data"
    },
    {
     "data": {
      "text/latex": [
       "$$EQs_\\text{ graphene }-b[1] = \\left[\\begin{matrix}- 376.730313461771 H_{{x}} & 8.44485868891494 \\cdot 10^{-6} i \\frac{d}{d y} E_{{z}}\\end{matrix}\\right]$$"
      ],
      "text/plain": [
       "<IPython.core.display.Math at 0x7f53751b2cc0>"
      ]
     },
     "metadata": {},
     "output_type": "display_data"
    },
    {
     "data": {
      "text/latex": [
       "$$EQs_\\text{ graphene }-b[2] = \\left[\\begin{matrix}0 & - 0.00265441872943807 E_{{y}} & 0 & 8.44485868891494 \\cdot 10^{-6} i \\frac{d}{d x} H_{{z}}\\end{matrix}\\right]$$"
      ],
      "text/plain": [
       "<IPython.core.display.Math at 0x7f53751b2e48>"
      ]
     },
     "metadata": {},
     "output_type": "display_data"
    },
    {
     "data": {
      "text/latex": [
       "$$EQs_\\text{ graphene }-b[3] = \\left[\\begin{matrix}8.44485868891494 \\cdot 10^{-6} E_{{x}} \\left(314.323640835147 - i \\left(2824.5458139416 - 19638.2803023181 i\\right)\\right) & 0 & - 8.44485868891494 \\cdot 10^{-6} i E_{{z}} \\left(-1772.0922144291 - 515.300161733329 i\\right) & 8.44485868891494 \\cdot 10^{-6} i \\frac{d}{d y} H_{{z}}\\end{matrix}\\right]$$"
      ],
      "text/plain": [
       "<IPython.core.display.Math at 0x7f53751b2cc0>"
      ]
     },
     "metadata": {},
     "output_type": "display_data"
    },
    {
     "data": {
      "text/latex": [
       "$$EQs_\\text{ graphene }-b[4] = \\left[\\begin{matrix}- E_{{x}} \\left(1772.0922144291 + 515.300161733329 i\\right) & 0 & - E_{{z}} \\left(2824.5458139416 - 19323.9566614829 i\\right) & - \\frac{d}{d y} H_{{x}} & \\frac{d}{d x} H_{{y}}\\end{matrix}\\right]$$"
      ],
      "text/plain": [
       "<IPython.core.display.Math at 0x7f53751b2e48>"
      ]
     },
     "metadata": {},
     "output_type": "display_data"
    },
    {
     "data": {
      "text/latex": [
       "$$EQs_\\text{ graphene }-b[5] = \\left[\\begin{matrix}44610611.8929239 i H_{{z}} & - \\frac{d}{d y} E_{{x}} & \\frac{d}{d x} E_{{y}}\\end{matrix}\\right]$$"
      ],
      "text/plain": [
       "<IPython.core.display.Math at 0x7f53751b2cc0>"
      ]
     },
     "metadata": {},
     "output_type": "display_data"
    },
    {
     "name": "stdout",
     "output_type": "stream",
     "text": [
      "initial matrix nnz 1843027 0:00:08\n",
      "initial matrix shared nnz 2219743 0:00:07\n",
      "final matrix (application of boundary conditions) nnz:  2219267 0:00:03\n",
      "A_11.shape:  (157356, 157356) A_11.nnz:  157356\n",
      "warning: this inversion mechanism only works for diagonal matrices\n",
      "eliminating z components 0:00:01\n",
      "A_reduced nnz:  2939134\n",
      "solving eigenvalues 0:05:07\n",
      "[ 7.25876317-0.98256239j  6.30927482-0.96145117j  5.14405096-0.81241608j\n",
      "  4.40797447-0.98345433j  3.06225580-1.45953349j  1.50994170-3.106897j  ]\n",
      "(359926, 6)\n",
      "0 0 x_correlation:  (-0.511642771885+0.856695125988j)     abs(x_correlation):  0.997850121468\n",
      "k_correlation_r:  6.19201084271e-06     k_correlation_i:  1.55350711284e-06\n",
      "0 1 x_correlation:  (-0.000770631892332-0.000496388761164j)     abs(x_correlation):  0.000916665323708\n",
      "k_correlation_r:  0.130801078981     k_correlation_i:  0.0214784206828\n",
      "0 2 x_correlation:  (0.0689890475806-0.195710835158j)     abs(x_correlation):  0.207514384283\n",
      "k_correlation_r:  0.291178395726     k_correlation_i:  0.173704374065\n",
      "0 3 x_correlation:  (-0.0647885242702-0.288819124462j)     abs(x_correlation):  0.29599668838\n",
      "k_correlation_r:  0.392108622531     k_correlation_i:  0.00211050666316\n",
      "0 4 x_correlation:  (-0.055889437614-0.312017055756j)     abs(x_correlation):  0.316983078917\n",
      "k_correlation_r:  0.576961185128     k_correlation_i:  0.314455342705\n",
      "1 0 x_correlation:  (0.000601858444337-0.00158564474512j)     abs(x_correlation):  0.00169602560262\n",
      "k_correlation_r:  0.130811185677     k_correlation_i:  0.02148740303\n",
      "1 1 x_correlation:  (0.877519855046+0.475337940006j)     abs(x_correlation):  0.997991609789\n",
      "k_correlation_r:  5.43562045668e-06     k_correlation_i:  7.62601333632e-06\n",
      "1 2 x_correlation:  (-0.241510993816-0.0704896465646j)     abs(x_correlation):  0.251587659489\n",
      "k_correlation_r:  0.184507205383     k_correlation_i:  0.155560853445\n",
      "1 3 x_correlation:  (0.31450761676-0.0706268794922j)     abs(x_correlation):  0.322340188477\n",
      "k_correlation_r:  0.300626511315     k_correlation_i:  0.0194163545839\n",
      "1 4 x_correlation:  (-0.310440617471+0.0449007238381j)     abs(x_correlation):  0.313670929442\n",
      "k_correlation_r:  0.513297699603     k_correlation_i:  0.329184874935\n",
      "2 0 x_correlation:  (0.201284697382-0.119806364313j)     abs(x_correlation):  0.2342415299\n",
      "k_correlation_r:  0.291336692778     k_correlation_i:  0.173167194589\n",
      "2 1 x_correlation:  (0.247125537845-0.153510355465j)     abs(x_correlation):  0.290923461911\n",
      "k_correlation_r:  0.184688708001     k_correlation_i:  0.155017009967\n",
      "2 2 x_correlation:  (-0.741971580307+0.668139311863j)     abs(x_correlation):  0.998464804607\n",
      "k_correlation_r:  0.000217133581731     k_correlation_i:  0.00065123581082\n",
      "2 3 x_correlation:  (0.00238004010426-0.0465330568018j)     abs(x_correlation):  0.0465938833563\n",
      "k_correlation_r:  0.142205322042     k_correlation_i:  0.171417180535\n",
      "2 4 x_correlation:  (-0.0223763537592+0.158622209452j)     abs(x_correlation):  0.160192716873\n",
      "k_correlation_r:  0.403050516233     k_correlation_i:  0.433168307197\n",
      "3 0 x_correlation:  (0.138271656792-0.290422390398j)     abs(x_correlation):  0.321658539319\n",
      "k_correlation_r:  0.39274128685     k_correlation_i:  0.000905396181528\n",
      "3 1 x_correlation:  (-0.132808865484+0.328350994511j)     abs(x_correlation):  0.354192843445\n",
      "k_correlation_r:  0.301353857395     k_correlation_i:  0.0223658891481\n",
      "3 2 x_correlation:  (0.0193385860824-0.04321020727j)     abs(x_correlation):  0.0473402885921\n",
      "k_correlation_r:  0.14327883114     k_correlation_i:  0.174453781464\n",
      "3 3 x_correlation:  (0.303003714262+0.951219504391j)     abs(x_correlation):  0.998313476014\n",
      "k_correlation_r:  0.00103456664487     k_correlation_i:  0.00301554082487\n",
      "3 4 x_correlation:  (-0.0112969036372-0.0319875052882j)     abs(x_correlation):  0.0339237457595\n",
      "k_correlation_r:  0.303367434259     k_correlation_i:  0.313833024745\n",
      "4 0 x_correlation:  (-0.329648594508-0.0698856400995j)     abs(x_correlation):  0.336975071115\n",
      "k_correlation_r:  0.578132422023     k_correlation_i:  0.326795913041\n",
      "4 1 x_correlation:  (-0.331624157092-0.040496033347j)     abs(x_correlation):  0.334087578763\n",
      "k_correlation_r:  0.514644829854     k_correlation_i:  0.341256296991\n",
      "4 2 x_correlation:  (0.161885403986+0.0301702224198j)     abs(x_correlation):  0.164672785683\n",
      "k_correlation_r:  0.404828820597     k_correlation_i:  0.443735271747\n",
      "4 3 x_correlation:  (-0.027941543358+0.0177538559013j)     abs(x_correlation):  0.0331048220747\n",
      "k_correlation_r:  0.306010570576     k_correlation_i:  0.328217758373\n",
      "4 4 x_correlation:  (0.875394648849-0.480455759778j)     abs(x_correlation):  0.998575749925\n",
      "k_correlation_r:  0.00276245259029     k_correlation_i:  0.0180026436391\n",
      "5 0 x_correlation:  (0.034964516313+0.321718092613j)     abs(x_correlation):  0.323612497465\n",
      "k_correlation_r:  0.791984898843     k_correlation_i:  0.683747509503\n",
      "5 1 x_correlation:  (-0.0712367016549-0.288798323545j)     abs(x_correlation):  0.297454432384\n",
      "k_correlation_r:  0.760680341213     k_correlation_i:  0.690540594284\n",
      "5 2 x_correlation:  (0.0112220792244+0.0133021480298j)     abs(x_correlation):  0.0174035112643\n",
      "k_correlation_r:  0.706532097862     k_correlation_i:  0.738682356371\n",
      "5 3 x_correlation:  (-0.128773721713-0.166811132041j)     abs(x_correlation):  0.210733540702\n",
      "k_correlation_r:  0.65780664621     k_correlation_i:  0.684415452755\n",
      "5 4 x_correlation:  (0.0256471619721-0.00875949987495j)     abs(x_correlation):  0.0271017666451\n",
      "k_correlation_r:  0.50828060716     k_correlation_i:  0.538685050155\n",
      "X :  [7000000000000.0, 6950000000000.0, 6850000000000.0, 6650000000000.0, 6450000000000.0, 6250000000000.0, 6050000000000.0, 5850000000000.0, 5650000000000.0]\n",
      "Y :  [[(9.0264198593920089-1.0265850275942863j)], [(8.9591509490803887-1.0248428143216293j)], [(8.8250554453441765-1.0213873265953377j)], [(8.5585964224031823-1.0145863243291824j)], [(8.2943834560896317-1.0079245347408612j)], [(8.0323500935623926-1.0013955543194086j)], [(7.7724369581080106-0.99499398313867937j)], [(7.514589631061205-0.98871676944562481j)], [(7.258763165805771-0.98256238682030228j)]]\n",
      "X :  [7000000000000.0, 6950000000000.0, 6850000000000.0, 6650000000000.0, 6450000000000.0, 6250000000000.0, 6050000000000.0, 5850000000000.0, 5650000000000.0]\n",
      "Y :  [[(8.0232073158584836-1.0038177634322727j)], [(7.9580318024293435-1.002165067653527j)], [(7.8280933139952493-0.99888371498477257j)], [(7.5698373817955931-0.99241010085502668j)], [(7.3136932127065855-0.98604443809278242j)], [(7.0596085026341342-0.97977554145591095j)], [(6.8075371305561374-0.97359284654969247j)], [(6.5574373335614329-0.96748716557405556j)], [(6.3092748166396113-0.9614511664337817j)]]\n",
      "X :  [7000000000000.0, 6950000000000.0, 6850000000000.0, 6650000000000.0, 6450000000000.0, 6250000000000.0, 6050000000000.0, 5850000000000.0, 5650000000000.0]\n",
      "Y :  [[(6.5956702117118349-0.78791361784606873j)], [(6.5435530246973519-0.78802249083072595j)], [(6.4391320917083572-0.78834760985526786j)], [(6.2293811334969185-0.7894861249931886j)], [(6.0180579613309053-0.79141024897694101j)], [(5.8046345497448524-0.79432853850880258j)], [(5.5884413350732611-0.79852240627067517j)], [(5.368619202567892-0.80437522758025648j)], [(5.1440509634386773-0.81241607687996109j)]]\n",
      "X :  [7000000000000.0, 6950000000000.0, 6850000000000.0, 6650000000000.0, 6450000000000.0, 6250000000000.0, 6050000000000.0, 5850000000000.0, 5650000000000.0]\n",
      "Y :  [[(6.2737880213737869-0.83870302667178354j)], [(6.2130298312009069-0.84076827627467954j)], [(6.0903511298235351-0.84530657527834485j)], [(5.8397096988549269-0.85626279522147908j)], [(5.580619695053235-0.87030920913645859j)], [(5.3110009133316254-0.88837921927722785j)], [(5.0281827942839818-0.91179539888921979j)], [(4.7286956697010751-0.94249855324883391j)], [(4.4079744733559121-0.98345432903454566j)]]\n",
      "X :  [7000000000000.0, 6950000000000.0, 6850000000000.0, 6650000000000.0, 6450000000000.0, 6250000000000.0, 6050000000000.0, 5850000000000.0, 5650000000000.0]\n",
      "Y :  [[(5.722674439701902-0.93216942168447792j)], [(5.6464262552655367-0.93829747873521585j)], [(5.4908645252106938-0.95174727681905913j)], [(5.1657822429627718-0.98437391926430307j)], [(4.8182412765899674-1.0271412924220784j)], [(4.4423714911030308-1.0846159873516263j)], [(4.0305299081864217-1.164515743117954j)], [(3.5733189335176081-1.2807297582230945j)], [(3.0622557973877278-1.4595334940394458j)]]\n",
      "----------------------------------------------------------------------------------------------------\n"
     ]
    },
    {
     "name": "stdout",
     "output_type": "stream",
     "text": [
      "frequency: 5450000000000.0   k_init: (7.00495756234-0.976530835263j)\n"
     ]
    },
    {
     "data": {
      "text/latex": [
       "$$Eqs_\\text{ freespace } = \\left[\\begin{matrix}376.730313461771 H_{{y}} + 8.75476176006778 \\cdot 10^{-6} i \\frac{d}{d x} E_{{z}}\\\\- 376.730313461771 H_{{x}} + 8.75476176006778 \\cdot 10^{-6} i \\frac{d}{d y} E_{{z}}\\\\- 0.00265441872943807 E_{{y}} + 8.75476176006778 \\cdot 10^{-6} i \\frac{d}{d x} H_{{z}}\\\\0.00265441872943807 E_{{x}} + 8.75476176006778 \\cdot 10^{-6} i \\frac{d}{d y} H_{{z}}\\\\- 303.197140274611 i E_{{z}} - \\frac{d}{d y} H_{{x}} + \\frac{d}{d x} H_{{y}}\\\\43031475.1887496 i H_{{z}} - \\frac{d}{d y} E_{{x}} + \\frac{d}{d x} E_{{y}}\\end{matrix}\\right]$$"
      ],
      "text/plain": [
       "<IPython.core.display.Math at 0x7f5375209588>"
      ]
     },
     "metadata": {},
     "output_type": "display_data"
    },
    {
     "name": "stdout",
     "output_type": "stream",
     "text": [
      "Eq1 boundary equations \n"
     ]
    },
    {
     "data": {
      "text/latex": [
       "$$EQs_\\text{ freespace }-b[0] = \\left[\\begin{matrix}376.730313461771 H_{{y}} & 8.75476176006778 \\cdot 10^{-6} i \\frac{d}{d x} E_{{z}}\\end{matrix}\\right]$$"
      ],
      "text/plain": [
       "<IPython.core.display.Math at 0x7f537a9d6780>"
      ]
     },
     "metadata": {},
     "output_type": "display_data"
    },
    {
     "data": {
      "text/latex": [
       "$$EQs_\\text{ freespace }-b[1] = \\left[\\begin{matrix}- 376.730313461771 H_{{x}} & 8.75476176006778 \\cdot 10^{-6} i \\frac{d}{d y} E_{{z}}\\end{matrix}\\right]$$"
      ],
      "text/plain": [
       "<IPython.core.display.Math at 0x7f537a9d6780>"
      ]
     },
     "metadata": {},
     "output_type": "display_data"
    },
    {
     "data": {
      "text/latex": [
       "$$EQs_\\text{ freespace }-b[2] = \\left[\\begin{matrix}- 0.00265441872943807 E_{{y}} & 8.75476176006778 \\cdot 10^{-6} i \\frac{d}{d x} H_{{z}}\\end{matrix}\\right]$$"
      ],
      "text/plain": [
       "<IPython.core.display.Math at 0x7f537a9d6780>"
      ]
     },
     "metadata": {},
     "output_type": "display_data"
    },
    {
     "data": {
      "text/latex": [
       "$$EQs_\\text{ freespace }-b[3] = \\left[\\begin{matrix}0.00265441872943807 E_{{x}} & 8.75476176006778 \\cdot 10^{-6} i \\frac{d}{d y} H_{{z}}\\end{matrix}\\right]$$"
      ],
      "text/plain": [
       "<IPython.core.display.Math at 0x7f537a9d67f0>"
      ]
     },
     "metadata": {},
     "output_type": "display_data"
    },
    {
     "data": {
      "text/latex": [
       "$$EQs_\\text{ freespace }-b[4] = \\left[\\begin{matrix}- 303.197140274611 i E_{{z}} & - \\frac{d}{d y} H_{{x}} & \\frac{d}{d x} H_{{y}}\\end{matrix}\\right]$$"
      ],
      "text/plain": [
       "<IPython.core.display.Math at 0x7f537a9d6780>"
      ]
     },
     "metadata": {},
     "output_type": "display_data"
    },
    {
     "data": {
      "text/latex": [
       "$$EQs_\\text{ freespace }-b[5] = \\left[\\begin{matrix}43031475.1887496 i H_{{z}} & - \\frac{d}{d y} E_{{x}} & \\frac{d}{d x} E_{{y}}\\end{matrix}\\right]$$"
      ],
      "text/plain": [
       "<IPython.core.display.Math at 0x7f537a9d67f0>"
      ]
     },
     "metadata": {},
     "output_type": "display_data"
    },
    {
     "name": "stdout",
     "output_type": "stream",
     "text": [
      "[[(3036.5552228830029-20342.790592051788j), 0.0, (-1897.3635723879604-573.21113666975793j)], [0.0, 0.0, 0.0], [(1897.3635723879604+573.21113666975793j), 0.0, (3036.5552228830029-20342.790592051788j)]]\n"
     ]
    },
    {
     "data": {
      "text/latex": [
       "$$Eqs_\\text{ graphene } = \\left[\\begin{matrix}376.730313461771 H_{{y}} + 8.75476176006778 \\cdot 10^{-6} i \\frac{d}{d x} E_{{z}}\\\\- 376.730313461771 H_{{x}} + 8.75476176006778 \\cdot 10^{-6} i \\frac{d}{d y} E_{{z}}\\\\- 0.00265441872943807 E_{{y}} + 8.75476176006778 \\cdot 10^{-6} i \\frac{d}{d x} H_{{z}}\\\\- 0.175441866438924 E_{{x}} - 0.0265843175476302 i E_{{x}} - 0.00501832693976139 E_{{z}} + 0.0166109660484877 i E_{{z}} + 8.75476176006778 \\cdot 10^{-6} i \\frac{d}{d y} H_{{z}}\\\\- 1897.36357238796 E_{{x}} - 573.211136669758 i E_{{x}} - 3036.555222883 E_{{z}} + 20039.5934517772 i E_{{z}} - \\frac{d}{d y} H_{{x}} + \\frac{d}{d x} H_{{y}}\\\\43031475.1887496 i H_{{z}} - \\frac{d}{d y} E_{{x}} + \\frac{d}{d x} E_{{y}}\\end{matrix}\\right]$$"
      ],
      "text/plain": [
       "<IPython.core.display.Math at 0x7f537a9d68d0>"
      ]
     },
     "metadata": {},
     "output_type": "display_data"
    },
    {
     "name": "stdout",
     "output_type": "stream",
     "text": [
      "Eq1 boundary equations \n"
     ]
    },
    {
     "data": {
      "text/latex": [
       "$$EQs_\\text{ graphene }-b[0] = \\left[\\begin{matrix}376.730313461771 H_{{y}} & 8.75476176006778 \\cdot 10^{-6} i \\frac{d}{d x} E_{{z}}\\end{matrix}\\right]$$"
      ],
      "text/plain": [
       "<IPython.core.display.Math at 0x7f53751b2e80>"
      ]
     },
     "metadata": {},
     "output_type": "display_data"
    },
    {
     "data": {
      "text/latex": [
       "$$EQs_\\text{ graphene }-b[1] = \\left[\\begin{matrix}- 376.730313461771 H_{{x}} & 8.75476176006778 \\cdot 10^{-6} i \\frac{d}{d y} E_{{z}}\\end{matrix}\\right]$$"
      ],
      "text/plain": [
       "<IPython.core.display.Math at 0x7f53751b2630>"
      ]
     },
     "metadata": {},
     "output_type": "display_data"
    },
    {
     "data": {
      "text/latex": [
       "$$EQs_\\text{ graphene }-b[2] = \\left[\\begin{matrix}0 & - 0.00265441872943807 E_{{y}} & 0 & 8.75476176006778 \\cdot 10^{-6} i \\frac{d}{d x} H_{{z}}\\end{matrix}\\right]$$"
      ],
      "text/plain": [
       "<IPython.core.display.Math at 0x7f53751b2e80>"
      ]
     },
     "metadata": {},
     "output_type": "display_data"
    },
    {
     "data": {
      "text/latex": [
       "$$EQs_\\text{ graphene }-b[3] = \\left[\\begin{matrix}8.75476176006778 \\cdot 10^{-6} E_{{x}} \\left(303.197140274611 - i \\left(3036.555222883 - 20342.7905920518 i\\right)\\right) & 0 & - 8.75476176006778 \\cdot 10^{-6} i E_{{z}} \\left(-1897.36357238796 - 573.211136669758 i\\right) & 8.75476176006778 \\cdot 10^{-6} i \\frac{d}{d y} H_{{z}}\\end{matrix}\\right]$$"
      ],
      "text/plain": [
       "<IPython.core.display.Math at 0x7f537521a908>"
      ]
     },
     "metadata": {},
     "output_type": "display_data"
    },
    {
     "data": {
      "text/latex": [
       "$$EQs_\\text{ graphene }-b[4] = \\left[\\begin{matrix}- E_{{x}} \\left(1897.36357238796 + 573.211136669758 i\\right) & 0 & - E_{{z}} \\left(3036.555222883 - 20039.5934517772 i\\right) & - \\frac{d}{d y} H_{{x}} & \\frac{d}{d x} H_{{y}}\\end{matrix}\\right]$$"
      ],
      "text/plain": [
       "<IPython.core.display.Math at 0x7f5376a8d438>"
      ]
     },
     "metadata": {},
     "output_type": "display_data"
    },
    {
     "data": {
      "text/latex": [
       "$$EQs_\\text{ graphene }-b[5] = \\left[\\begin{matrix}43031475.1887496 i H_{{z}} & - \\frac{d}{d y} E_{{x}} & \\frac{d}{d x} E_{{y}}\\end{matrix}\\right]$$"
      ],
      "text/plain": [
       "<IPython.core.display.Math at 0x7f537521a908>"
      ]
     },
     "metadata": {},
     "output_type": "display_data"
    },
    {
     "name": "stdout",
     "output_type": "stream",
     "text": [
      "initial matrix nnz 1843027 0:00:16\n",
      "initial matrix shared nnz 2219743 0:00:13\n",
      "final matrix (application of boundary conditions) nnz:  2219267 0:00:03\n",
      "A_11.shape:  (157356, 157356) A_11.nnz:  157356\n",
      "warning: this inversion mechanism only works for diagonal matrices\n",
      "eliminating z components 0:00:01\n",
      "A_reduced nnz:  2946546\n",
      "solving eigenvalues 0:05:29\n",
      "[ 7.00491759 -9.76521303e-01j  6.06302185 -9.55473782e-01j\n",
      "  4.91326838 -8.23381175e-01j  4.05998054 -1.03944323e+00j\n",
      "  2.50398249 -1.74841928e+00j  0.97388045 +2.87193900e-04j]\n",
      "(359926, 6)\n",
      "0 0 x_correlation:  (-0.775055781548+0.628544233681j)     abs(x_correlation):  0.997887427621\n",
      "k_correlation_r:  5.7057498951e-06     k_correlation_i:  9.76124496225e-06\n",
      "0 1 x_correlation:  (0.00150742975299-0.00091360512713j)     abs(x_correlation):  0.00176267376122\n",
      "k_correlation_r:  0.134458114803     k_correlation_i:  0.0215422376454\n",
      "0 2 x_correlation:  (0.0842698636916-0.213699706623j)     abs(x_correlation):  0.229714985444\n",
      "k_correlation_r:  0.298387660973     k_correlation_i:  0.157576028753\n",
      "0 3 x_correlation:  (0.258872682064-0.178154333965j)     abs(x_correlation):  0.314251542923\n",
      "k_correlation_r:  0.419547888923     k_correlation_i:  0.0561935997745\n",
      "0 4 x_correlation:  (0.116978414924+0.306747876713j)     abs(x_correlation):  0.328295917467\n",
      "k_correlation_r:  0.643487526248     k_correlation_i:  0.42588874685\n",
      "1 0 x_correlation:  (-0.000876013212405+0.00302470428742j)     abs(x_correlation):  0.00314900542627\n",
      "k_correlation_r:  0.134467011463     k_correlation_i:  0.0215631215493\n",
      "1 1 x_correlation:  (0.500352213803-0.863525339608j)     abs(x_correlation):  0.998012199326\n",
      "k_correlation_r:  4.57299318546e-06     k_correlation_i:  1.15825629047e-05\n",
      "1 2 x_correlation:  (0.276518068317-0.011976774666j)     abs(x_correlation):  0.27677732067\n",
      "k_correlation_r:  0.189391571326     k_correlation_i:  0.139018809804\n",
      "1 3 x_correlation:  (-0.274417377408-0.192851032242j)     abs(x_correlation):  0.335404856346\n",
      "k_correlation_r:  0.329374146508     k_correlation_i:  0.0765359977432\n",
      "1 4 x_correlation:  (-0.24452127915+0.199936690717j)     abs(x_correlation):  0.315856512126\n",
      "k_correlation_r:  0.588103002078     k_correlation_i:  0.438262894331\n",
      "2 0 x_correlation:  (-0.163827685509+0.200590340129j)     abs(x_correlation):  0.258990337836\n",
      "k_correlation_r:  0.298601263592     k_correlation_i:  0.156830336837\n",
      "2 1 x_correlation:  (-0.243379304926-0.207086269577j)     abs(x_correlation):  0.319559398412\n",
      "k_correlation_r:  0.189637439351     k_correlation_i:  0.138258261041\n",
      "2 2 x_correlation:  (0.173914275181-0.982892349692j)     abs(x_correlation):  0.998160080446\n",
      "k_correlation_r:  0.000298741311785     k_correlation_i:  0.000894143914456\n",
      "2 3 x_correlation:  (-0.0255013880698+0.0405562406319j)     abs(x_correlation):  0.0479075093037\n",
      "k_correlation_r:  0.172441053807     k_correlation_i:  0.204203307464\n",
      "2 4 x_correlation:  (0.120679513307+0.134824890822j)     abs(x_correlation):  0.180945561198\n",
      "k_correlation_r:  0.491715024457     k_correlation_i:  0.51592208286\n",
      "3 0 x_correlation:  (-0.340361040144+0.00311377541746j)     abs(x_correlation):  0.340375282953\n",
      "k_correlation_r:  0.420413257172     k_correlation_i:  0.0605250940303\n",
      "3 1 x_correlation:  (0.0129167532181+0.366291430705j)     abs(x_correlation):  0.366519105534\n",
      "k_correlation_r:  0.330373191943     k_correlation_i:  0.0807724586094\n",
      "3 2 x_correlation:  (-0.0447556518489+0.0174991013999j)     abs(x_correlation):  0.0480550405496\n",
      "k_correlation_r:  0.173916965845     k_correlation_i:  0.208571544229\n",
      "3 3 x_correlation:  (0.995311442189+0.076341439776j)     abs(x_correlation):  0.998234883371\n",
      "k_correlation_r:  0.001485154825     k_correlation_i:  0.00459910496419\n",
      "3 4 x_correlation:  (0.00993825574354-0.0268183171945j)     abs(x_correlation):  0.0286005430783\n",
      "k_correlation_r:  0.384888553797     k_correlation_i:  0.388896016704\n",
      "4 0 x_correlation:  (-0.259592943542+0.231395532739j)     abs(x_correlation):  0.347753344927\n",
      "k_correlation_r:  0.642541375741     k_correlation_i:  0.441477883677\n",
      "4 1 x_correlation:  (-0.236437728697-0.236932076233j)     abs(x_correlation):  0.334723181599\n",
      "k_correlation_r:  0.587009398443     k_correlation_i:  0.453515034262\n",
      "4 2 x_correlation:  (0.0865695456714-0.162779023285j)     abs(x_correlation):  0.184367287389\n",
      "k_correlation_r:  0.490515425747     k_correlation_i:  0.529492173525\n",
      "4 3 x_correlation:  (-0.018560015642+0.0205723704416j)     abs(x_correlation):  0.0277073384903\n",
      "k_correlation_r:  0.384168552378     k_correlation_i:  0.408229628112\n",
      "4 4 x_correlation:  (0.394821305219+0.917171761026j)     abs(x_correlation):  0.998542889553\n",
      "k_correlation_r:  0.0026525718327     k_correlation_i:  0.0271630082357\n",
      "5 0 x_correlation:  (-0.0064804499263+0.00713290318462j)     abs(x_correlation):  0.00963714372044\n",
      "k_correlation_r:  0.860972684341     k_correlation_i:  1.00029409609\n",
      "5 1 x_correlation:  (0.00646039692826+0.00658313239359j)     abs(x_correlation):  0.00922357634447\n",
      "k_correlation_r:  0.839374487479     k_correlation_i:  1.000300574\n",
      "5 2 x_correlation:  (-0.000964542025465+0.000458874187576j)     abs(x_correlation):  0.00106813240701\n",
      "k_correlation_r:  0.80184483484     k_correlation_i:  1.00034911039\n",
      "5 3 x_correlation:  (0.00922408051596-0.0125278048856j)     abs(x_correlation):  0.0155572991428\n",
      "k_correlation_r:  0.760483067827     k_correlation_i:  1.00027757248\n",
      "5 4 x_correlation:  (0.00208945145876-0.000748702088448j)     abs(x_correlation):  0.00221954099213\n",
      "k_correlation_r:  0.610032974568     k_correlation_i:  1.00016884552\n",
      "X :  [7000000000000.0, 6950000000000.0, 6850000000000.0, 6650000000000.0, 6450000000000.0, 6250000000000.0, 6050000000000.0, 5850000000000.0, 5650000000000.0, 5450000000000.0]\n",
      "Y :  [[(9.0264198593920089-1.0265850275942863j)], [(8.9591509490803887-1.0248428143216293j)], [(8.8250554453441765-1.0213873265953377j)], [(8.5585964224031823-1.0145863243291824j)], [(8.2943834560896317-1.0079245347408612j)], [(8.0323500935623926-1.0013955543194086j)], [(7.7724369581080106-0.99499398313867937j)], [(7.514589631061205-0.98871676944562481j)], [(7.258763165805771-0.98256238682030228j)], [(7.0049175938053851-0.97652130310611174j)]]\n",
      "X :  [7000000000000.0, 6950000000000.0, 6850000000000.0, 6650000000000.0, 6450000000000.0, 6250000000000.0, 6050000000000.0, 5850000000000.0, 5650000000000.0, 5450000000000.0]\n",
      "Y :  [[(8.0232073158584836-1.0038177634322727j)], [(7.9580318024293435-1.002165067653527j)], [(7.8280933139952493-0.99888371498477257j)], [(7.5698373817955931-0.99241010085502668j)], [(7.3136932127065855-0.98604443809278242j)], [(7.0596085026341342-0.97977554145591095j)], [(6.8075371305561374-0.97359284654969247j)], [(6.5574373335614329-0.96748716557405556j)], [(6.3092748166396113-0.9614511664337817j)], [(6.0630218535066458-0.95547378216544254j)]]\n",
      "X :  [7000000000000.0, 6950000000000.0, 6850000000000.0, 6650000000000.0, 6450000000000.0, 6250000000000.0, 6050000000000.0, 5850000000000.0, 5650000000000.0, 5450000000000.0]\n",
      "Y :  [[(6.5956702117118349-0.78791361784606873j)], [(6.5435530246973519-0.78802249083072595j)], [(6.4391320917083572-0.78834760985526786j)], [(6.2293811334969185-0.7894861249931886j)], [(6.0180579613309053-0.79141024897694101j)], [(5.8046345497448524-0.79432853850880258j)], [(5.5884413350732611-0.79852240627067517j)], [(5.368619202567892-0.80437522758025648j)], [(5.1440509634386773-0.81241607687996109j)], [(4.9132683828200285-0.82338117543705347j)]]\n",
      "X :  [7000000000000.0, 6950000000000.0, 6850000000000.0, 6650000000000.0, 6450000000000.0, 6250000000000.0, 6050000000000.0, 5850000000000.0, 5650000000000.0, 5450000000000.0]\n",
      "Y :  [[(6.2737880213737869-0.83870302667178354j)], [(6.2130298312009069-0.84076827627467954j)], [(6.0903511298235351-0.84530657527834485j)], [(5.8397096988549269-0.85626279522147908j)], [(5.580619695053235-0.87030920913645859j)], [(5.3110009133316254-0.88837921927722785j)], [(5.0281827942839818-0.91179539888921979j)], [(4.7286956697010751-0.94249855324883391j)], [(4.4079744733559121-0.98345432903454566j)], [(4.0599805372069566-1.039443234787458j)]]\n",
      "X :  [7000000000000.0, 6950000000000.0, 6850000000000.0, 6650000000000.0, 6450000000000.0, 6250000000000.0, 6050000000000.0, 5850000000000.0, 5650000000000.0, 5450000000000.0]\n",
      "Y :  [[(5.722674439701902-0.93216942168447792j)], [(5.6464262552655367-0.93829747873521585j)], [(5.4908645252106938-0.95174727681905913j)], [(5.1657822429627718-0.98437391926430307j)], [(4.8182412765899674-1.0271412924220784j)], [(4.4423714911030308-1.0846159873516263j)], [(4.0305299081864217-1.164515743117954j)], [(3.5733189335176081-1.2807297582230945j)], [(3.0622557973877278-1.4595334940394458j)], [(2.5039824932274826-1.7484192778097865j)]]\n",
      "----------------------------------------------------------------------------------------------------\n"
     ]
    },
    {
     "name": "stdout",
     "output_type": "stream",
     "text": [
      "frequency: 5250000000000.0   k_init: (6.75305291506-0.970593518303j)\n"
     ]
    },
    {
     "data": {
      "text/latex": [
       "$$Eqs_\\text{ freespace } = \\left[\\begin{matrix}376.730313461771 H_{{y}} + 9.08827649378465 \\cdot 10^{-6} i \\frac{d}{d x} E_{{z}}\\\\- 376.730313461771 H_{{x}} + 9.08827649378465 \\cdot 10^{-6} i \\frac{d}{d y} E_{{z}}\\\\- 0.00265441872943807 E_{{y}} + 9.08827649378465 \\cdot 10^{-6} i \\frac{d}{d x} H_{{z}}\\\\0.00265441872943807 E_{{x}} + 9.08827649378465 \\cdot 10^{-6} i \\frac{d}{d y} H_{{z}}\\\\- 292.070639714075 i E_{{z}} - \\frac{d}{d y} H_{{x}} + \\frac{d}{d x} H_{{y}}\\\\41452338.4845753 i H_{{z}} - \\frac{d}{d y} E_{{x}} + \\frac{d}{d x} E_{{y}}\\end{matrix}\\right]$$"
      ],
      "text/plain": [
       "<IPython.core.display.Math at 0x7f537a9d6c50>"
      ]
     },
     "metadata": {},
     "output_type": "display_data"
    },
    {
     "name": "stdout",
     "output_type": "stream",
     "text": [
      "Eq1 boundary equations \n"
     ]
    },
    {
     "data": {
      "text/latex": [
       "$$EQs_\\text{ freespace }-b[0] = \\left[\\begin{matrix}376.730313461771 H_{{y}} & 9.08827649378465 \\cdot 10^{-6} i \\frac{d}{d x} E_{{z}}\\end{matrix}\\right]$$"
      ],
      "text/plain": [
       "<IPython.core.display.Math at 0x7f537516f9b0>"
      ]
     },
     "metadata": {},
     "output_type": "display_data"
    },
    {
     "data": {
      "text/latex": [
       "$$EQs_\\text{ freespace }-b[1] = \\left[\\begin{matrix}- 376.730313461771 H_{{x}} & 9.08827649378465 \\cdot 10^{-6} i \\frac{d}{d y} E_{{z}}\\end{matrix}\\right]$$"
      ],
      "text/plain": [
       "<IPython.core.display.Math at 0x7f537ac1d470>"
      ]
     },
     "metadata": {},
     "output_type": "display_data"
    },
    {
     "data": {
      "text/latex": [
       "$$EQs_\\text{ freespace }-b[2] = \\left[\\begin{matrix}- 0.00265441872943807 E_{{y}} & 9.08827649378465 \\cdot 10^{-6} i \\frac{d}{d x} H_{{z}}\\end{matrix}\\right]$$"
      ],
      "text/plain": [
       "<IPython.core.display.Math at 0x7f537516f9b0>"
      ]
     },
     "metadata": {},
     "output_type": "display_data"
    },
    {
     "data": {
      "text/latex": [
       "$$EQs_\\text{ freespace }-b[3] = \\left[\\begin{matrix}0.00265441872943807 E_{{x}} & 9.08827649378465 \\cdot 10^{-6} i \\frac{d}{d y} H_{{z}}\\end{matrix}\\right]$$"
      ],
      "text/plain": [
       "<IPython.core.display.Math at 0x7f537ac1d470>"
      ]
     },
     "metadata": {},
     "output_type": "display_data"
    },
    {
     "data": {
      "text/latex": [
       "$$EQs_\\text{ freespace }-b[4] = \\left[\\begin{matrix}- 292.070639714075 i E_{{z}} & - \\frac{d}{d y} H_{{x}} & \\frac{d}{d x} H_{{y}}\\end{matrix}\\right]$$"
      ],
      "text/plain": [
       "<IPython.core.display.Math at 0x7f537516f9b0>"
      ]
     },
     "metadata": {},
     "output_type": "display_data"
    },
    {
     "data": {
      "text/latex": [
       "$$EQs_\\text{ freespace }-b[5] = \\left[\\begin{matrix}41452338.4845753 i H_{{z}} & - \\frac{d}{d y} E_{{x}} & \\frac{d}{d x} E_{{y}}\\end{matrix}\\right]$$"
      ],
      "text/plain": [
       "<IPython.core.display.Math at 0x7f537ac1d470>"
      ]
     },
     "metadata": {},
     "output_type": "display_data"
    },
    {
     "name": "stdout",
     "output_type": "stream",
     "text": [
      "[[(3273.4183465679366-21098.518551818714j), 0.0, (-2036.01108293365-640.08954824910643j)], [0.0, 0.0, 0.0], [(2036.01108293365+640.08954824910643j), 0.0, (3273.4183465679366-21098.518551818714j)]]\n"
     ]
    },
    {
     "data": {
      "text/latex": [
       "$$Eqs_\\text{ graphene } = \\left[\\begin{matrix}376.730313461771 H_{{y}} + 9.08827649378465 \\cdot 10^{-6} i \\frac{d}{d x} E_{{z}}\\\\- 376.730313461771 H_{{x}} + 9.08827649378465 \\cdot 10^{-6} i \\frac{d}{d y} E_{{z}}\\\\- 0.00265441872943807 E_{{y}} + 9.08827649378465 \\cdot 10^{-6} i \\frac{d}{d x} H_{{z}}\\\\- 0.189094751478735 E_{{x}} - 0.0297497310134368 i E_{{x}} - 0.00581731079526959 E_{{z}} + 0.0185038316661109 i E_{{z}} + 9.08827649378465 \\cdot 10^{-6} i \\frac{d}{d y} H_{{z}}\\\\- 2036.01108293365 E_{{x}} - 640.089548249106 i E_{{x}} - 3273.41834656794 E_{{z}} + 20806.4479121046 i E_{{z}} - \\frac{d}{d y} H_{{x}} + \\frac{d}{d x} H_{{y}}\\\\41452338.4845753 i H_{{z}} - \\frac{d}{d y} E_{{x}} + \\frac{d}{d x} E_{{y}}\\end{matrix}\\right]$$"
      ],
      "text/plain": [
       "<IPython.core.display.Math at 0x7f537ad33320>"
      ]
     },
     "metadata": {},
     "output_type": "display_data"
    },
    {
     "name": "stdout",
     "output_type": "stream",
     "text": [
      "Eq1 boundary equations \n"
     ]
    },
    {
     "data": {
      "text/latex": [
       "$$EQs_\\text{ graphene }-b[0] = \\left[\\begin{matrix}376.730313461771 H_{{y}} & 9.08827649378465 \\cdot 10^{-6} i \\frac{d}{d x} E_{{z}}\\end{matrix}\\right]$$"
      ],
      "text/plain": [
       "<IPython.core.display.Math at 0x7f537ac22cf8>"
      ]
     },
     "metadata": {},
     "output_type": "display_data"
    },
    {
     "data": {
      "text/latex": [
       "$$EQs_\\text{ graphene }-b[1] = \\left[\\begin{matrix}- 376.730313461771 H_{{x}} & 9.08827649378465 \\cdot 10^{-6} i \\frac{d}{d y} E_{{z}}\\end{matrix}\\right]$$"
      ],
      "text/plain": [
       "<IPython.core.display.Math at 0x7f537ac22898>"
      ]
     },
     "metadata": {},
     "output_type": "display_data"
    },
    {
     "data": {
      "text/latex": [
       "$$EQs_\\text{ graphene }-b[2] = \\left[\\begin{matrix}0 & - 0.00265441872943807 E_{{y}} & 0 & 9.08827649378465 \\cdot 10^{-6} i \\frac{d}{d x} H_{{z}}\\end{matrix}\\right]$$"
      ],
      "text/plain": [
       "<IPython.core.display.Math at 0x7f537ac22cf8>"
      ]
     },
     "metadata": {},
     "output_type": "display_data"
    },
    {
     "data": {
      "text/latex": [
       "$$EQs_\\text{ graphene }-b[3] = \\left[\\begin{matrix}9.08827649378465 \\cdot 10^{-6} E_{{x}} \\left(292.070639714075 - i \\left(3273.41834656794 - 21098.5185518187 i\\right)\\right) & 0 & - 9.08827649378465 \\cdot 10^{-6} i E_{{z}} \\left(-2036.01108293365 - 640.089548249106 i\\right) & 9.08827649378465 \\cdot 10^{-6} i \\frac{d}{d y} H_{{z}}\\end{matrix}\\right]$$"
      ],
      "text/plain": [
       "<IPython.core.display.Math at 0x7f537ac22898>"
      ]
     },
     "metadata": {},
     "output_type": "display_data"
    },
    {
     "data": {
      "text/latex": [
       "$$EQs_\\text{ graphene }-b[4] = \\left[\\begin{matrix}- E_{{x}} \\left(2036.01108293365 + 640.089548249106 i\\right) & 0 & - E_{{z}} \\left(3273.41834656794 - 20806.4479121046 i\\right) & - \\frac{d}{d y} H_{{x}} & \\frac{d}{d x} H_{{y}}\\end{matrix}\\right]$$"
      ],
      "text/plain": [
       "<IPython.core.display.Math at 0x7f537ac22cf8>"
      ]
     },
     "metadata": {},
     "output_type": "display_data"
    },
    {
     "data": {
      "text/latex": [
       "$$EQs_\\text{ graphene }-b[5] = \\left[\\begin{matrix}41452338.4845753 i H_{{z}} & - \\frac{d}{d y} E_{{x}} & \\frac{d}{d x} E_{{y}}\\end{matrix}\\right]$$"
      ],
      "text/plain": [
       "<IPython.core.display.Math at 0x7f537ac22898>"
      ]
     },
     "metadata": {},
     "output_type": "display_data"
    },
    {
     "name": "stdout",
     "output_type": "stream",
     "text": [
      "initial matrix nnz 1843027 0:00:09\n",
      "initial matrix shared nnz 2219743 0:00:07\n",
      "final matrix (application of boundary conditions) nnz:  2219267 0:00:03\n",
      "A_11.shape:  (157356, 157356) A_11.nnz:  157356\n",
      "warning: this inversion mechanism only works for diagonal matrices\n",
      "eliminating z components 0:00:01\n",
      "A_reduced nnz:  2946684\n",
      "solving eigenvalues 0:05:15\n",
      "[ 6.75300931 -9.70584048e-01j  5.81865174 -9.49546810e-01j\n",
      "  4.67431760 -8.38314898e-01j  3.67677703 -1.11864285e+00j\n",
      "  1.95897285 -2.20062764e+00j  0.97118148 +7.88294294e-04j]\n",
      "(359926, 6)\n",
      "0 0 x_correlation:  (-0.784163027451-0.617214948538j)     abs(x_correlation):  0.997930832432\n",
      "k_correlation_r:  6.45721525631e-06     k_correlation_i:  9.75760386847e-06\n",
      "0 1 x_correlation:  (-0.00110633164446-0.00307954209149j)     abs(x_correlation):  0.00327223917231\n",
      "k_correlation_r:  0.138357704278     k_correlation_i:  0.0216663718289\n",
      "0 2 x_correlation:  (-0.167035931199-0.191201112137j)     abs(x_correlation):  0.253887509724\n",
      "k_correlation_r:  0.307527763307     k_correlation_i:  0.137353920775\n",
      "0 3 x_correlation:  (-0.332144112761+0.00694073504146j)     abs(x_correlation):  0.332216624275\n",
      "k_correlation_r:  0.454359724299     k_correlation_i:  0.125966319331\n",
      "0 4 x_correlation:  (-0.25860735573-0.218338015437j)     abs(x_correlation):  0.338451257086\n",
      "k_correlation_r:  0.718866221839     k_correlation_i:  0.548016264358\n",
      "1 0 x_correlation:  (0.00249162859826+0.00507479080146j)     abs(x_correlation):  0.00565346926676\n",
      "k_correlation_r:  0.138367222501     k_correlation_i:  0.0216843696835\n",
      "1 1 x_correlation:  (-0.214942966054+0.974613832711j)     abs(x_correlation):  0.998034368931\n",
      "k_correlation_r:  4.58942019112e-06     k_correlation_i:  8.63891908729e-06\n",
      "1 2 x_correlation:  (-0.303115808831+0.00454077448655j)     abs(x_correlation):  0.30314981807\n",
      "k_correlation_r:  0.19633075327     k_correlation_i:  0.118241971063\n",
      "1 3 x_correlation:  (0.237745037962-0.252154629745j)     abs(x_correlation):  0.346561192832\n",
      "k_correlation_r:  0.366740952023     k_correlation_i:  0.144910845158\n",
      "1 4 x_correlation:  (-0.31503682927+0.01836859484j)     abs(x_correlation):  0.315571876238\n",
      "k_correlation_r:  0.673721833522     k_correlation_i:  0.557812932087\n",
      "2 0 x_correlation:  (0.270532973538+0.0915177428771j)     abs(x_correlation):  0.285593394588\n",
      "k_correlation_r:  0.307821564808     k_correlation_i:  0.136286321166\n",
      "2 1 x_correlation:  (0.226679230324-0.265402280481j)     abs(x_correlation):  0.349029861108\n",
      "k_correlation_r:  0.196670232876     k_correlation_i:  0.117149731113\n",
      "2 2 x_correlation:  (0.867380172193+0.49328518634j)     abs(x_correlation):  0.997836979759\n",
      "k_correlation_r:  0.000417824587917     k_correlation_i:  0.00124580285592\n",
      "2 3 x_correlation:  (-0.0415219272278+0.0247279009229j)     abs(x_correlation):  0.0483274200094\n",
      "k_correlation_r:  0.211710847026     k_correlation_i:  0.245077788013\n",
      "2 4 x_correlation:  (0.197797903406+0.043019435825j)     abs(x_correlation):  0.202422040426\n",
      "k_correlation_r:  0.59384466703     k_correlation_i:  0.609611655661\n",
      "3 0 x_correlation:  (-0.262728900396-0.243946238283j)     abs(x_correlation):  0.358519514498\n",
      "k_correlation_r:  0.455538543462     k_correlation_i:  0.132347271683\n",
      "3 1 x_correlation:  (0.331273869679-0.178421230115j)     abs(x_correlation):  0.376266543939\n",
      "k_correlation_r:  0.368107885407     k_correlation_i:  0.151154441093\n",
      "3 2 x_correlation:  (0.0237516192701+0.0414874236962j)     abs(x_correlation):  0.0478052899049\n",
      "k_correlation_r:  0.213737470738     k_correlation_i:  0.251530079133\n",
      "3 3 x_correlation:  (-0.995843603889-0.0682531278087j)     abs(x_correlation):  0.998179829922\n",
      "k_correlation_r:  0.00215398951933     k_correlation_i:  0.00731026584542\n",
      "3 4 x_correlation:  (0.0107377463471+0.0202914166046j)     abs(x_correlation):  0.0229573688483\n",
      "k_correlation_r:  0.483651304525     k_correlation_i:  0.47906791368\n",
      "4 0 x_correlation:  (0.235908339875-0.267553449267j)     abs(x_correlation):  0.35670378893\n",
      "k_correlation_r:  0.709913001378     k_correlation_i:  0.558946957295\n",
      "4 1 x_correlation:  (-0.175163028507-0.28308700086j)     abs(x_correlation):  0.332896885854\n",
      "k_correlation_r:  0.663330278436     k_correlation_i:  0.568507186891\n",
      "4 2 x_correlation:  (0.177968802028-0.100990318885j)     abs(x_correlation):  0.204626339956\n",
      "k_correlation_r:  0.581082307106     k_correlation_i:  0.619531034482\n",
      "4 3 x_correlation:  (0.0111835145813+0.0211579180918j)     abs(x_correlation):  0.0239317466218\n",
      "k_correlation_r:  0.468351430958     k_correlation_i:  0.495387021302\n",
      "4 4 x_correlation:  (0.688662018268-0.723050361458j)     abs(x_correlation):  0.9985275162\n",
      "k_correlation_r:  0.0308701728953     k_correlation_i:  0.0241933408108\n",
      "5 0 x_correlation:  (0.00157792113466+0.00148961135768j)     abs(x_correlation):  0.0021699716828\n",
      "k_correlation_r:  0.856186307475     k_correlation_i:  1.00081217758\n",
      "5 1 x_correlation:  (-0.00286102879195-0.000899626626609j)     abs(x_correlation):  0.00299913551139\n",
      "k_correlation_r:  0.833092430721     k_correlation_i:  1.00083017233\n",
      "5 2 x_correlation:  (0.0010032333405-0.000783709338917j)     abs(x_correlation):  0.00127305831107\n",
      "k_correlation_r:  0.792317130498     k_correlation_i:  1.00094150489\n",
      "5 3 x_correlation:  (0.00231058502722+0.00162360404692j)     abs(x_correlation):  0.00282398535216\n",
      "k_correlation_r:  0.73642960835     k_correlation_i:  1.00070987749\n",
      "5 4 x_correlation:  (0.00327251498176-0.000421233577428j)     abs(x_correlation):  0.00329951390853\n",
      "k_correlation_r:  0.488447734358     k_correlation_i:  1.00036709464\n",
      "X :  [7000000000000.0, 6950000000000.0, 6850000000000.0, 6650000000000.0, 6450000000000.0, 6250000000000.0, 6050000000000.0, 5850000000000.0, 5650000000000.0, 5450000000000.0, 5250000000000.0]\n",
      "Y :  [[(9.0264198593920089-1.0265850275942863j)], [(8.9591509490803887-1.0248428143216293j)], [(8.8250554453441765-1.0213873265953377j)], [(8.5585964224031823-1.0145863243291824j)], [(8.2943834560896317-1.0079245347408612j)], [(8.0323500935623926-1.0013955543194086j)], [(7.7724369581080106-0.99499398313867937j)], [(7.514589631061205-0.98871676944562481j)], [(7.258763165805771-0.98256238682030228j)], [(7.0049175938053851-0.97652130310611174j)], [(6.7530093091440699-0.97058404763619255j)]]\n",
      "X :  [7000000000000.0, 6950000000000.0, 6850000000000.0, 6650000000000.0, 6450000000000.0, 6250000000000.0, 6050000000000.0, 5850000000000.0, 5650000000000.0, 5450000000000.0, 5250000000000.0]\n",
      "Y :  [[(8.0232073158584836-1.0038177634322727j)], [(7.9580318024293435-1.002165067653527j)], [(7.8280933139952493-0.99888371498477257j)], [(7.5698373817955931-0.99241010085502668j)], [(7.3136932127065855-0.98604443809278242j)], [(7.0596085026341342-0.97977554145591095j)], [(6.8075371305561374-0.97359284654969247j)], [(6.5574373335614329-0.96748716557405556j)], [(6.3092748166396113-0.9614511664337817j)], [(6.0630218535066458-0.95547378216544254j)], [(5.8186517398008499-0.94954680963997151j)]]\n",
      "X :  [7000000000000.0, 6950000000000.0, 6850000000000.0, 6650000000000.0, 6450000000000.0, 6250000000000.0, 6050000000000.0, 5850000000000.0, 5650000000000.0, 5450000000000.0, 5250000000000.0]\n",
      "Y :  [[(6.5956702117118349-0.78791361784606873j)], [(6.5435530246973519-0.78802249083072595j)], [(6.4391320917083572-0.78834760985526786j)], [(6.2293811334969185-0.7894861249931886j)], [(6.0180579613309053-0.79141024897694101j)], [(5.8046345497448524-0.79432853850880258j)], [(5.5884413350732611-0.79852240627067517j)], [(5.368619202567892-0.80437522758025648j)], [(5.1440509634386773-0.81241607687996109j)], [(4.9132683828200285-0.82338117543705347j)], [(4.6743175995161046-0.8383148983460913j)]]\n",
      "X :  [7000000000000.0, 6950000000000.0, 6850000000000.0, 6650000000000.0, 6450000000000.0, 6250000000000.0, 6050000000000.0, 5850000000000.0, 5650000000000.0, 5450000000000.0, 5250000000000.0]\n",
      "Y :  [[(6.2737880213737869-0.83870302667178354j)], [(6.2130298312009069-0.84076827627467954j)], [(6.0903511298235351-0.84530657527834485j)], [(5.8397096988549269-0.85626279522147908j)], [(5.580619695053235-0.87030920913645859j)], [(5.3110009133316254-0.88837921927722785j)], [(5.0281827942839818-0.91179539888921979j)], [(4.7286956697010751-0.94249855324883391j)], [(4.4079744733559121-0.98345432903454566j)], [(4.0599805372069566-1.039443234787458j)], [(3.6767770262152428-1.1186428471058749j)]]\n",
      "X :  [7000000000000.0, 6950000000000.0, 6850000000000.0, 6650000000000.0, 6450000000000.0, 6250000000000.0, 6050000000000.0, 5850000000000.0, 5650000000000.0, 5450000000000.0, 5250000000000.0]\n",
      "Y :  [[(5.722674439701902-0.93216942168447792j)], [(5.6464262552655367-0.93829747873521585j)], [(5.4908645252106938-0.95174727681905913j)], [(5.1657822429627718-0.98437391926430307j)], [(4.8182412765899674-1.0271412924220784j)], [(4.4423714911030308-1.0846159873516263j)], [(4.0305299081864217-1.164515743117954j)], [(3.5733189335176081-1.2807297582230945j)], [(3.0622557973877278-1.4595334940394458j)], [(2.5039824932274826-1.7484192778097865j)], [(1.9589728516656573-2.2006276441259631j)]]\n",
      "----------------------------------------------------------------------------------------------------\n"
     ]
    },
    {
     "name": "stdout",
     "output_type": "stream",
     "text": [
      "frequency: 5050000000000.0   k_init: (6.50303831182-0.964750620411j)\n"
     ]
    },
    {
     "data": {
      "text/latex": [
       "$$Eqs_\\text{ freespace } = \\left[\\begin{matrix}376.730313461771 H_{{y}} + 9.44820823611276 \\cdot 10^{-6} i \\frac{d}{d x} E_{{z}}\\\\- 376.730313461771 H_{{x}} + 9.44820823611276 \\cdot 10^{-6} i \\frac{d}{d y} E_{{z}}\\\\- 0.00265441872943807 E_{{y}} + 9.44820823611276 \\cdot 10^{-6} i \\frac{d}{d x} H_{{z}}\\\\0.00265441872943807 E_{{x}} + 9.44820823611276 \\cdot 10^{-6} i \\frac{d}{d y} H_{{z}}\\\\- 280.944139153539 i E_{{z}} - \\frac{d}{d y} H_{{x}} + \\frac{d}{d x} H_{{y}}\\\\39873201.780401 i H_{{z}} - \\frac{d}{d y} E_{{x}} + \\frac{d}{d x} E_{{y}}\\end{matrix}\\right]$$"
      ],
      "text/plain": [
       "<IPython.core.display.Math at 0x7f537a9ec048>"
      ]
     },
     "metadata": {},
     "output_type": "display_data"
    },
    {
     "name": "stdout",
     "output_type": "stream",
     "text": [
      "Eq1 boundary equations \n"
     ]
    },
    {
     "data": {
      "text/latex": [
       "$$EQs_\\text{ freespace }-b[0] = \\left[\\begin{matrix}376.730313461771 H_{{y}} & 9.44820823611276 \\cdot 10^{-6} i \\frac{d}{d x} E_{{z}}\\end{matrix}\\right]$$"
      ],
      "text/plain": [
       "<IPython.core.display.Math at 0x7f537516f6d8>"
      ]
     },
     "metadata": {},
     "output_type": "display_data"
    },
    {
     "data": {
      "text/latex": [
       "$$EQs_\\text{ freespace }-b[1] = \\left[\\begin{matrix}- 376.730313461771 H_{{x}} & 9.44820823611276 \\cdot 10^{-6} i \\frac{d}{d y} E_{{z}}\\end{matrix}\\right]$$"
      ],
      "text/plain": [
       "<IPython.core.display.Math at 0x7f537516f6d8>"
      ]
     },
     "metadata": {},
     "output_type": "display_data"
    },
    {
     "data": {
      "text/latex": [
       "$$EQs_\\text{ freespace }-b[2] = \\left[\\begin{matrix}- 0.00265441872943807 E_{{y}} & 9.44820823611276 \\cdot 10^{-6} i \\frac{d}{d x} H_{{z}}\\end{matrix}\\right]$$"
      ],
      "text/plain": [
       "<IPython.core.display.Math at 0x7f537516f6d8>"
      ]
     },
     "metadata": {},
     "output_type": "display_data"
    },
    {
     "data": {
      "text/latex": [
       "$$EQs_\\text{ freespace }-b[3] = \\left[\\begin{matrix}0.00265441872943807 E_{{x}} & 9.44820823611276 \\cdot 10^{-6} i \\frac{d}{d y} H_{{z}}\\end{matrix}\\right]$$"
      ],
      "text/plain": [
       "<IPython.core.display.Math at 0x7f537516f6d8>"
      ]
     },
     "metadata": {},
     "output_type": "display_data"
    },
    {
     "data": {
      "text/latex": [
       "$$EQs_\\text{ freespace }-b[4] = \\left[\\begin{matrix}- 280.944139153539 i E_{{z}} & - \\frac{d}{d y} H_{{x}} & \\frac{d}{d x} H_{{y}}\\end{matrix}\\right]$$"
      ],
      "text/plain": [
       "<IPython.core.display.Math at 0x7f537516f6d8>"
      ]
     },
     "metadata": {},
     "output_type": "display_data"
    },
    {
     "data": {
      "text/latex": [
       "$$EQs_\\text{ freespace }-b[5] = \\left[\\begin{matrix}39873201.780401 i H_{{z}} & - \\frac{d}{d y} E_{{x}} & \\frac{d}{d x} E_{{y}}\\end{matrix}\\right]$$"
      ],
      "text/plain": [
       "<IPython.core.display.Math at 0x7f537516f6d8>"
      ]
     },
     "metadata": {},
     "output_type": "display_data"
    },
    {
     "name": "stdout",
     "output_type": "stream",
     "text": [
      "[[(3539.1745742641906-21911.118986644073j), 0.0, (-2189.9380509246557-717.72937404805214j)], [0.0, 0.0, 0.0], [(2189.9380509246557+717.72937404805214j), 0.0, (3539.1745742641906-21911.118986644073j)]]\n"
     ]
    },
    {
     "data": {
      "text/latex": [
       "$$Eqs_\\text{ graphene } = \\left[\\begin{matrix}376.730313461771 H_{{y}} + 9.44820823611276 \\cdot 10^{-6} i \\frac{d}{d x} E_{{z}}\\\\- 376.730313461771 H_{{x}} + 9.44820823611276 \\cdot 10^{-6} i \\frac{d}{d y} E_{{z}}\\\\- 0.00265441872943807 E_{{y}} + 9.44820823611276 \\cdot 10^{-6} i \\frac{d}{d x} H_{{z}}\\\\- 0.204366396142619 E_{{x}} - 0.0334388583616038 i E_{{x}} - 0.00678125658318086 E_{{z}} + 0.0206909907293231 i E_{{z}} + 9.44820823611276 \\cdot 10^{-6} i \\frac{d}{d y} H_{{z}}\\\\- 2189.93805092466 E_{{x}} - 717.729374048052 i E_{{x}} - 3539.17457426419 E_{{z}} + 21630.1748474905 i E_{{z}} - \\frac{d}{d y} H_{{x}} + \\frac{d}{d x} H_{{y}}\\\\39873201.780401 i H_{{z}} - \\frac{d}{d y} E_{{x}} + \\frac{d}{d x} E_{{y}}\\end{matrix}\\right]$$"
      ],
      "text/plain": [
       "<IPython.core.display.Math at 0x7f537ac1d978>"
      ]
     },
     "metadata": {},
     "output_type": "display_data"
    },
    {
     "name": "stdout",
     "output_type": "stream",
     "text": [
      "Eq1 boundary equations \n"
     ]
    },
    {
     "data": {
      "text/latex": [
       "$$EQs_\\text{ graphene }-b[0] = \\left[\\begin{matrix}376.730313461771 H_{{y}} & 9.44820823611276 \\cdot 10^{-6} i \\frac{d}{d x} E_{{z}}\\end{matrix}\\right]$$"
      ],
      "text/plain": [
       "<IPython.core.display.Math at 0x7f5376a8d470>"
      ]
     },
     "metadata": {},
     "output_type": "display_data"
    },
    {
     "data": {
      "text/latex": [
       "$$EQs_\\text{ graphene }-b[1] = \\left[\\begin{matrix}- 376.730313461771 H_{{x}} & 9.44820823611276 \\cdot 10^{-6} i \\frac{d}{d y} E_{{z}}\\end{matrix}\\right]$$"
      ],
      "text/plain": [
       "<IPython.core.display.Math at 0x7f5374695e80>"
      ]
     },
     "metadata": {},
     "output_type": "display_data"
    },
    {
     "data": {
      "text/latex": [
       "$$EQs_\\text{ graphene }-b[2] = \\left[\\begin{matrix}0 & - 0.00265441872943807 E_{{y}} & 0 & 9.44820823611276 \\cdot 10^{-6} i \\frac{d}{d x} H_{{z}}\\end{matrix}\\right]$$"
      ],
      "text/plain": [
       "<IPython.core.display.Math at 0x7f5374695e80>"
      ]
     },
     "metadata": {},
     "output_type": "display_data"
    },
    {
     "data": {
      "text/latex": [
       "$$EQs_\\text{ graphene }-b[3] = \\left[\\begin{matrix}9.44820823611276 \\cdot 10^{-6} E_{{x}} \\left(280.944139153539 - i \\left(3539.17457426419 - 21911.1189866441 i\\right)\\right) & 0 & - 9.44820823611276 \\cdot 10^{-6} i E_{{z}} \\left(-2189.93805092466 - 717.729374048052 i\\right) & 9.44820823611276 \\cdot 10^{-6} i \\frac{d}{d y} H_{{z}}\\end{matrix}\\right]$$"
      ],
      "text/plain": [
       "<IPython.core.display.Math at 0x7f5374695e80>"
      ]
     },
     "metadata": {},
     "output_type": "display_data"
    },
    {
     "data": {
      "text/latex": [
       "$$EQs_\\text{ graphene }-b[4] = \\left[\\begin{matrix}- E_{{x}} \\left(2189.93805092466 + 717.729374048052 i\\right) & 0 & - E_{{z}} \\left(3539.17457426419 - 21630.1748474905 i\\right) & - \\frac{d}{d y} H_{{x}} & \\frac{d}{d x} H_{{y}}\\end{matrix}\\right]$$"
      ],
      "text/plain": [
       "<IPython.core.display.Math at 0x7f537abe2630>"
      ]
     },
     "metadata": {},
     "output_type": "display_data"
    },
    {
     "data": {
      "text/latex": [
       "$$EQs_\\text{ graphene }-b[5] = \\left[\\begin{matrix}39873201.780401 i H_{{z}} & - \\frac{d}{d y} E_{{x}} & \\frac{d}{d x} E_{{y}}\\end{matrix}\\right]$$"
      ],
      "text/plain": [
       "<IPython.core.display.Math at 0x7f537a9ec048>"
      ]
     },
     "metadata": {},
     "output_type": "display_data"
    },
    {
     "name": "stdout",
     "output_type": "stream",
     "text": [
      "initial matrix nnz 1843027 0:00:10\n",
      "initial matrix shared nnz 2219743 0:00:07\n",
      "final matrix (application of boundary conditions) nnz:  2219267 0:00:03\n",
      "A_11.shape:  (157356, 157356) A_11.nnz:  157356\n",
      "warning: this inversion mechanism only works for diagonal matrices\n",
      "eliminating z components 0:00:01\n",
      "A_reduced nnz:  2947908\n",
      "solving eigenvalues 0:05:33\n",
      "[ 6.50299866 -9.64744073e-01j  5.57614317 -9.43676087e-01j\n",
      "  4.42456477 -8.58715314e-01j  3.24866632 -1.23599960e+00j\n",
      "  1.53263269 -2.78926634e+00j  0.96898371 -5.98446364e-04j]\n",
      "(359926, 6)\n",
      "0 0 x_correlation:  (0.374202294826-0.925167279691j)     abs(x_correlation):  0.997978883977\n",
      "k_correlation_r:  6.09684017511e-06     k_correlation_i:  6.78613727901e-06\n",
      "0 1 x_correlation:  (0.000711583337567+0.00582283731258j)     abs(x_correlation):  0.00586615591466\n",
      "k_correlation_r:  0.142524124058     k_correlation_i:  0.0218439534403\n",
      "0 2 x_correlation:  (-0.181594504892+0.212935288544j)     abs(x_correlation):  0.279853535468\n",
      "k_correlation_r:  0.319206593391     k_correlation_i:  0.111456323837\n",
      "0 3 x_correlation:  (0.09904313525-0.335211201494j)     abs(x_correlation):  0.349536968356\n",
      "k_correlation_r:  0.498944393376     k_correlation_i:  0.209908216652\n",
      "0 4 x_correlation:  (-0.329529248457-0.107867763433j)     abs(x_correlation):  0.346734740078\n",
      "k_correlation_r:  0.780527884676     k_correlation_i:  0.657425517198\n",
      "1 0 x_correlation:  (-0.00979813942386+0.000515783935323j)     abs(x_correlation):  0.00981170572517\n",
      "k_correlation_r:  0.142532628258     k_correlation_i:  0.0218445401647\n",
      "1 1 x_correlation:  (0.904559942035-0.421764104365j)     abs(x_correlation):  0.998054932589\n",
      "k_correlation_r:  3.82089666362e-06     k_correlation_i:  6.18631392363e-06\n",
      "1 2 x_correlation:  (-0.183544437299+0.274050076837j)     abs(x_correlation):  0.329836330742\n",
      "k_correlation_r:  0.206046459193     k_correlation_i:  0.0916191925835\n",
      "1 3 x_correlation:  (-0.0906288678853+0.343762639953j)     abs(x_correlation):  0.355508571376\n",
      "k_correlation_r:  0.415659920972     k_correlation_i:  0.227162163763\n",
      "1 4 x_correlation:  (-0.296708111486-0.0986432025301j)     abs(x_correlation):  0.312675846248\n",
      "k_correlation_r:  0.744047663537     k_correlation_i:  0.664906625258\n",
      "2 0 x_correlation:  (-0.278823574903-0.143878982992j)     abs(x_correlation):  0.313757466315\n",
      "k_correlation_r:  0.319615761415     k_correlation_i:  0.109909549416\n",
      "2 1 x_correlation:  (-0.100413027205-0.364629940074j)     abs(x_correlation):  0.378203343759\n",
      "k_correlation_r:  0.2065218324     k_correlation_i:  0.0900260811851\n",
      "2 2 x_correlation:  (0.692109061096+0.718349533005j)     abs(x_correlation):  0.997517420409\n",
      "k_correlation_r:  0.000594923219429     k_correlation_i:  0.00174454652166\n",
      "2 3 x_correlation:  (0.0459891193568+0.0110947810583j)     abs(x_correlation):  0.0473084904213\n",
      "k_correlation_r:  0.263574134507     k_correlation_i:  0.296742076152\n",
      "2 4 x_correlation:  (-0.0606307210937+0.215257811558j)     abs(x_correlation):  0.223633650815\n",
      "k_correlation_r:  0.67743112672     k_correlation_i:  0.695075654986\n",
      "3 0 x_correlation:  (-0.37415833145-0.0346211323692j)     abs(x_correlation):  0.375756676322\n",
      "k_correlation_r:  0.500438693336     k_correlation_i:  0.219457174355\n",
      "3 1 x_correlation:  (0.250392540844+0.289915808693j)     abs(x_correlation):  0.383076494503\n",
      "k_correlation_r:  0.417401274549     k_correlation_i:  0.236512496663\n",
      "3 2 x_correlation:  (-0.0408142136231-0.0214823920997j)     abs(x_correlation):  0.0461225888692\n",
      "k_correlation_r:  0.26620271645     k_correlation_i:  0.3064583148\n",
      "3 3 x_correlation:  (-0.998136576504-0.00372691972796j)     abs(x_correlation):  0.998143534411\n",
      "k_correlation_r:  0.00297622494487     k_correlation_i:  0.0120925881979\n",
      "3 4 x_correlation:  (0.0152058740899-0.0143798497354j)     abs(x_correlation):  0.0209284181258\n",
      "k_correlation_r:  0.560672985858     k_correlation_i:  0.561104405396\n",
      "4 0 x_correlation:  (0.0250305724883+0.362210528138j)     abs(x_correlation):  0.363074367387\n",
      "k_correlation_r:  0.764320520106     k_correlation_i:  0.654120294474\n",
      "4 1 x_correlation:  (-0.201399183439+0.259898205171j)     abs(x_correlation):  0.328798887074\n",
      "k_correlation_r:  0.725145717314     k_correlation_i:  0.661677970573\n",
      "4 2 x_correlation:  (0.084549995852-0.207905349585j)     abs(x_correlation):  0.224440050313\n",
      "k_correlation_r:  0.653814337044     k_correlation_i:  0.69267286052\n",
      "4 3 x_correlation:  (-0.0225166572443-0.0114454050772j)     abs(x_correlation):  0.0252586054808\n",
      "k_correlation_r:  0.529631215204     k_correlation_i:  0.562231419655\n",
      "4 4 x_correlation:  (0.989919605519-0.131066407975j)     abs(x_correlation):  0.998558575493\n",
      "k_correlation_r:  0.0687743483802     k_correlation_i:  0.00954926784612\n",
      "5 0 x_correlation:  (-0.00751322173307+0.00142033145023j)     abs(x_correlation):  0.00764629598164\n",
      "k_correlation_r:  0.850995232758     k_correlation_i:  0.999379688024\n",
      "5 1 x_correlation:  (0.0084735426198-0.000862946710196j)     abs(x_correlation):  0.00851737057748\n",
      "k_correlation_r:  0.826227559414     k_correlation_i:  0.999365831057\n",
      "5 2 x_correlation:  (0.00173084189114+0.00268142534883j)     abs(x_correlation):  0.00319152871732\n",
      "k_correlation_r:  0.781129378958     k_correlation_i:  0.999301873163\n",
      "5 3 x_correlation:  (-0.0127977693519+0.00748880099707j)     abs(x_correlation):  0.0148278468011\n",
      "k_correlation_r:  0.702616488597     k_correlation_i:  0.999509893278\n",
      "5 4 x_correlation:  (-0.00717198230207-0.00147274355887j)     abs(x_correlation):  0.00732163258649\n",
      "k_correlation_r:  0.321072403728     k_correlation_i:  0.999787495503\n",
      "X :  [7000000000000.0, 6950000000000.0, 6850000000000.0, 6650000000000.0, 6450000000000.0, 6250000000000.0, 6050000000000.0, 5850000000000.0, 5650000000000.0, 5450000000000.0, 5250000000000.0, 5050000000000.0]\n",
      "Y :  [[(9.0264198593920089-1.0265850275942863j)], [(8.9591509490803887-1.0248428143216293j)], [(8.8250554453441765-1.0213873265953377j)], [(8.5585964224031823-1.0145863243291824j)], [(8.2943834560896317-1.0079245347408612j)], [(8.0323500935623926-1.0013955543194086j)], [(7.7724369581080106-0.99499398313867937j)], [(7.514589631061205-0.98871676944562481j)], [(7.258763165805771-0.98256238682030228j)], [(7.0049175938053851-0.97652130310611174j)], [(6.7530093091440699-0.97058404763619255j)], [(6.5029986638359283-0.96474407348038327j)]]\n",
      "X :  [7000000000000.0, 6950000000000.0, 6850000000000.0, 6650000000000.0, 6450000000000.0, 6250000000000.0, 6050000000000.0, 5850000000000.0, 5650000000000.0, 5450000000000.0, 5250000000000.0, 5050000000000.0]\n",
      "Y :  [[(8.0232073158584836-1.0038177634322727j)], [(7.9580318024293435-1.002165067653527j)], [(7.8280933139952493-0.99888371498477257j)], [(7.5698373817955931-0.99241010085502668j)], [(7.3136932127065855-0.98604443809278242j)], [(7.0596085026341342-0.97977554145591095j)], [(6.8075371305561374-0.97359284654969247j)], [(6.5574373335614329-0.96748716557405556j)], [(6.3092748166396113-0.9614511664337817j)], [(6.0630218535066458-0.95547378216544254j)], [(5.8186517398008499-0.94954680963997151j)], [(5.5761431695747739-0.94367608673403425j)]]\n",
      "X :  [7000000000000.0, 6950000000000.0, 6850000000000.0, 6650000000000.0, 6450000000000.0, 6250000000000.0, 6050000000000.0, 5850000000000.0, 5650000000000.0, 5450000000000.0, 5250000000000.0, 5050000000000.0]\n",
      "Y :  [[(6.5956702117118349-0.78791361784606873j)], [(6.5435530246973519-0.78802249083072595j)], [(6.4391320917083572-0.78834760985526786j)], [(6.2293811334969185-0.7894861249931886j)], [(6.0180579613309053-0.79141024897694101j)], [(5.8046345497448524-0.79432853850880258j)], [(5.5884413350732611-0.79852240627067517j)], [(5.368619202567892-0.80437522758025648j)], [(5.1440509634386773-0.81241607687996109j)], [(4.9132683828200285-0.82338117543705347j)], [(4.6743175995161046-0.8383148983460913j)], [(4.4245647702757411-0.85871531442195226j)]]\n",
      "X :  [7000000000000.0, 6950000000000.0, 6850000000000.0, 6650000000000.0, 6450000000000.0, 6250000000000.0, 6050000000000.0, 5850000000000.0, 5650000000000.0, 5450000000000.0, 5250000000000.0, 5050000000000.0]\n",
      "Y :  [[(6.2737880213737869-0.83870302667178354j)], [(6.2130298312009069-0.84076827627467954j)], [(6.0903511298235351-0.84530657527834485j)], [(5.8397096988549269-0.85626279522147908j)], [(5.580619695053235-0.87030920913645859j)], [(5.3110009133316254-0.88837921927722785j)], [(5.0281827942839818-0.91179539888921979j)], [(4.7286956697010751-0.94249855324883391j)], [(4.4079744733559121-0.98345432903454566j)], [(4.0599805372069566-1.039443234787458j)], [(3.6767770262152428-1.1186428471058749j)], [(3.2486663163422-1.2359996001677609j)]]\n",
      "X :  [7000000000000.0, 6950000000000.0, 6850000000000.0, 6650000000000.0, 6450000000000.0, 6250000000000.0, 6050000000000.0, 5850000000000.0, 5650000000000.0, 5450000000000.0, 5250000000000.0, 5050000000000.0]\n",
      "Y :  [[(5.722674439701902-0.93216942168447792j)], [(5.6464262552655367-0.93829747873521585j)], [(5.4908645252106938-0.95174727681905913j)], [(5.1657822429627718-0.98437391926430307j)], [(4.8182412765899674-1.0271412924220784j)], [(4.4423714911030308-1.0846159873516263j)], [(4.0305299081864217-1.164515743117954j)], [(3.5733189335176081-1.2807297582230945j)], [(3.0622557973877278-1.4595334940394458j)], [(2.5039824932274826-1.7484192778097865j)], [(1.9589728516656573-2.2006276441259631j)], [(1.5326326870612297-2.789266340286265j)]]\n",
      "----------------------------------------------------------------------------------------------------\n"
     ]
    },
    {
     "name": "stdout",
     "output_type": "stream",
     "text": [
      "frequency: 4850000000000.0   k_init: (6.25488565788-0.959001380639j)\n"
     ]
    },
    {
     "data": {
      "text/latex": [
       "$$Eqs_\\text{ freespace } = \\left[\\begin{matrix}376.730313461771 H_{{y}} + 9.83782507059163 \\cdot 10^{-6} i \\frac{d}{d x} E_{{z}}\\\\- 376.730313461771 H_{{x}} + 9.83782507059163 \\cdot 10^{-6} i \\frac{d}{d y} E_{{z}}\\\\- 0.00265441872943807 E_{{y}} + 9.83782507059163 \\cdot 10^{-6} i \\frac{d}{d x} H_{{z}}\\\\0.00265441872943807 E_{{x}} + 9.83782507059163 \\cdot 10^{-6} i \\frac{d}{d y} H_{{z}}\\\\- 269.817638593002 i E_{{z}} - \\frac{d}{d y} H_{{x}} + \\frac{d}{d x} H_{{y}}\\\\38294065.0762267 i H_{{z}} - \\frac{d}{d y} E_{{x}} + \\frac{d}{d x} E_{{y}}\\end{matrix}\\right]$$"
      ],
      "text/plain": [
       "<IPython.core.display.Math at 0x7f537a9ec048>"
      ]
     },
     "metadata": {},
     "output_type": "display_data"
    },
    {
     "name": "stdout",
     "output_type": "stream",
     "text": [
      "Eq1 boundary equations \n"
     ]
    },
    {
     "data": {
      "text/latex": [
       "$$EQs_\\text{ freespace }-b[0] = \\left[\\begin{matrix}376.730313461771 H_{{y}} & 9.83782507059163 \\cdot 10^{-6} i \\frac{d}{d x} E_{{z}}\\end{matrix}\\right]$$"
      ],
      "text/plain": [
       "<IPython.core.display.Math at 0x7f5376a8d7f0>"
      ]
     },
     "metadata": {},
     "output_type": "display_data"
    },
    {
     "data": {
      "text/latex": [
       "$$EQs_\\text{ freespace }-b[1] = \\left[\\begin{matrix}- 376.730313461771 H_{{x}} & 9.83782507059163 \\cdot 10^{-6} i \\frac{d}{d y} E_{{z}}\\end{matrix}\\right]$$"
      ],
      "text/plain": [
       "<IPython.core.display.Math at 0x7f5376a8dc18>"
      ]
     },
     "metadata": {},
     "output_type": "display_data"
    },
    {
     "data": {
      "text/latex": [
       "$$EQs_\\text{ freespace }-b[2] = \\left[\\begin{matrix}- 0.00265441872943807 E_{{y}} & 9.83782507059163 \\cdot 10^{-6} i \\frac{d}{d x} H_{{z}}\\end{matrix}\\right]$$"
      ],
      "text/plain": [
       "<IPython.core.display.Math at 0x7f5376a8d7f0>"
      ]
     },
     "metadata": {},
     "output_type": "display_data"
    },
    {
     "data": {
      "text/latex": [
       "$$EQs_\\text{ freespace }-b[3] = \\left[\\begin{matrix}0.00265441872943807 E_{{x}} & 9.83782507059163 \\cdot 10^{-6} i \\frac{d}{d y} H_{{z}}\\end{matrix}\\right]$$"
      ],
      "text/plain": [
       "<IPython.core.display.Math at 0x7f5376a8dc18>"
      ]
     },
     "metadata": {},
     "output_type": "display_data"
    },
    {
     "data": {
      "text/latex": [
       "$$EQs_\\text{ freespace }-b[4] = \\left[\\begin{matrix}- 269.817638593002 i E_{{z}} & - \\frac{d}{d y} H_{{x}} & \\frac{d}{d x} H_{{y}}\\end{matrix}\\right]$$"
      ],
      "text/plain": [
       "<IPython.core.display.Math at 0x7f5376a8d7f0>"
      ]
     },
     "metadata": {},
     "output_type": "display_data"
    },
    {
     "data": {
      "text/latex": [
       "$$EQs_\\text{ freespace }-b[5] = \\left[\\begin{matrix}38294065.0762267 i H_{{z}} & - \\frac{d}{d y} E_{{x}} & \\frac{d}{d x} E_{{y}}\\end{matrix}\\right]$$"
      ],
      "text/plain": [
       "<IPython.core.display.Math at 0x7f5376a8dc18>"
      ]
     },
     "metadata": {},
     "output_type": "display_data"
    },
    {
     "name": "stdout",
     "output_type": "stream",
     "text": [
      "[[(3838.7165273956539-22787.076643173816j), 0.0, (-2361.3797994302868-808.36975029597659j)], [0.0, 0.0, 0.0], [(2361.3797994302868+808.36975029597659j), 0.0, (3838.7165273956539-22787.076643173816j)]]\n"
     ]
    },
    {
     "data": {
      "text/latex": [
       "$$Eqs_\\text{ graphene } = \\left[\\begin{matrix}376.730313461771 H_{{y}} + 9.83782507059163 \\cdot 10^{-6} i \\frac{d}{d x} E_{{z}}\\\\- 376.730313461771 H_{{x}} + 9.83782507059163 \\cdot 10^{-6} i \\frac{d}{d y} E_{{z}}\\\\- 0.00265441872943807 E_{{y}} + 9.83782507059163 \\cdot 10^{-6} i \\frac{d}{d x} H_{{z}}\\\\- 0.22152085515627 E_{{x}} - 0.0377646216921074 i E_{{x}} - 0.00795260019576966 E_{{z}} + 0.0232308413920239 i E_{{z}} + 9.83782507059163 \\cdot 10^{-6} i \\frac{d}{d y} H_{{z}}\\\\- 2361.37979943029 E_{{x}} - 808.369750295977 i E_{{x}} - 3838.71652739565 E_{{z}} + 22517.2590045808 i E_{{z}} - \\frac{d}{d y} H_{{x}} + \\frac{d}{d x} H_{{y}}\\\\38294065.0762267 i H_{{z}} - \\frac{d}{d y} E_{{x}} + \\frac{d}{d x} E_{{y}}\\end{matrix}\\right]$$"
      ],
      "text/plain": [
       "<IPython.core.display.Math at 0x7f537ac220f0>"
      ]
     },
     "metadata": {},
     "output_type": "display_data"
    },
    {
     "name": "stdout",
     "output_type": "stream",
     "text": [
      "Eq1 boundary equations \n"
     ]
    },
    {
     "data": {
      "text/latex": [
       "$$EQs_\\text{ graphene }-b[0] = \\left[\\begin{matrix}376.730313461771 H_{{y}} & 9.83782507059163 \\cdot 10^{-6} i \\frac{d}{d x} E_{{z}}\\end{matrix}\\right]$$"
      ],
      "text/plain": [
       "<IPython.core.display.Math at 0x7f53751b2748>"
      ]
     },
     "metadata": {},
     "output_type": "display_data"
    },
    {
     "data": {
      "text/latex": [
       "$$EQs_\\text{ graphene }-b[1] = \\left[\\begin{matrix}- 376.730313461771 H_{{x}} & 9.83782507059163 \\cdot 10^{-6} i \\frac{d}{d y} E_{{z}}\\end{matrix}\\right]$$"
      ],
      "text/plain": [
       "<IPython.core.display.Math at 0x7f53751b2b70>"
      ]
     },
     "metadata": {},
     "output_type": "display_data"
    },
    {
     "data": {
      "text/latex": [
       "$$EQs_\\text{ graphene }-b[2] = \\left[\\begin{matrix}0 & - 0.00265441872943807 E_{{y}} & 0 & 9.83782507059163 \\cdot 10^{-6} i \\frac{d}{d x} H_{{z}}\\end{matrix}\\right]$$"
      ],
      "text/plain": [
       "<IPython.core.display.Math at 0x7f53751b2748>"
      ]
     },
     "metadata": {},
     "output_type": "display_data"
    },
    {
     "data": {
      "text/latex": [
       "$$EQs_\\text{ graphene }-b[3] = \\left[\\begin{matrix}9.83782507059163 \\cdot 10^{-6} E_{{x}} \\left(269.817638593002 - i \\left(3838.71652739565 - 22787.0766431738 i\\right)\\right) & 0 & - 9.83782507059163 \\cdot 10^{-6} i E_{{z}} \\left(-2361.37979943029 - 808.369750295977 i\\right) & 9.83782507059163 \\cdot 10^{-6} i \\frac{d}{d y} H_{{z}}\\end{matrix}\\right]$$"
      ],
      "text/plain": [
       "<IPython.core.display.Math at 0x7f53751b2b70>"
      ]
     },
     "metadata": {},
     "output_type": "display_data"
    },
    {
     "data": {
      "text/latex": [
       "$$EQs_\\text{ graphene }-b[4] = \\left[\\begin{matrix}- E_{{x}} \\left(2361.37979943029 + 808.369750295977 i\\right) & 0 & - E_{{z}} \\left(3838.71652739565 - 22517.2590045808 i\\right) & - \\frac{d}{d y} H_{{x}} & \\frac{d}{d x} H_{{y}}\\end{matrix}\\right]$$"
      ],
      "text/plain": [
       "<IPython.core.display.Math at 0x7f53751b2748>"
      ]
     },
     "metadata": {},
     "output_type": "display_data"
    },
    {
     "data": {
      "text/latex": [
       "$$EQs_\\text{ graphene }-b[5] = \\left[\\begin{matrix}38294065.0762267 i H_{{z}} & - \\frac{d}{d y} E_{{x}} & \\frac{d}{d x} E_{{y}}\\end{matrix}\\right]$$"
      ],
      "text/plain": [
       "<IPython.core.display.Math at 0x7f53751b2b70>"
      ]
     },
     "metadata": {},
     "output_type": "display_data"
    },
    {
     "name": "stdout",
     "output_type": "stream",
     "text": [
      "initial matrix nnz 1843027 0:00:11\n",
      "initial matrix shared nnz 2219743 0:00:07\n",
      "final matrix (application of boundary conditions) nnz:  2219267 0:00:03\n",
      "A_11.shape:  (157356, 157356) A_11.nnz:  157356\n",
      "warning: this inversion mechanism only works for diagonal matrices\n",
      "eliminating z components 0:00:01\n",
      "A_reduced nnz:  2947997\n",
      "solving eigenvalues 0:06:21\n",
      "[ 6.25484974 -9.58993032e-01j  5.33547943 -9.37898195e-01j\n",
      "  4.16043392 -8.86795354e-01j  2.76757109 -1.42019673e+00j\n",
      "  0.96653094 +2.66207710e-06j  0.91857542 -1.85798281e-03j]\n",
      "(359926, 6)\n",
      "0 0 x_correlation:  (-0.813785608313+0.577764406677j)     abs(x_correlation):  0.998027417419\n",
      "k_correlation_r:  5.74202711134e-06     k_correlation_i:  8.70514577773e-06\n",
      "0 1 x_correlation:  (-0.00250562730091-0.00983837213369j)     abs(x_correlation):  0.0101524250508\n",
      "k_correlation_r:  0.146982523518     k_correlation_i:  0.0220350077949\n",
      "0 2 x_correlation:  (-0.204561920069-0.229368794845j)     abs(x_correlation):  0.307336335617\n",
      "k_correlation_r:  0.334274991926     k_correlation_i:  0.0775924393753\n",
      "0 3 x_correlation:  (-0.122336687438-0.344800973591j)     abs(x_correlation):  0.365860597062\n",
      "k_correlation_r:  0.556240593778     k_correlation_i:  0.310827357014\n",
      "0 4 x_correlation:  (0.346911684478-0.0616801776476j)     abs(x_correlation):  0.352352325297\n",
      "k_correlation_r:  0.804158045371     k_correlation_i:  0.727119659213\n",
      "1 0 x_correlation:  (0.014823259385+0.00718358461451j)     abs(x_correlation):  0.016472185851\n",
      "k_correlation_r:  0.146990093851     k_correlation_i:  0.0220053759358\n",
      "1 1 x_correlation:  (-0.812315400337+0.579896849445j)     abs(x_correlation):  0.998066463529\n",
      "k_correlation_r:  3.13275995366e-06     k_correlation_i:  3.90034730523e-05\n",
      "1 2 x_correlation:  (-0.265820966122-0.236067118389j)     abs(x_correlation):  0.355511561576\n",
      "k_correlation_r:  0.219562187187     k_correlation_i:  0.0568460109737\n",
      "1 3 x_correlation:  (0.125869731878+0.339563420958j)     abs(x_correlation):  0.362141555549\n",
      "k_correlation_r:  0.479775258242     k_correlation_i:  0.325986992726\n",
      "1 4 x_correlation:  (0.303284155907-0.0487188533972j)     abs(x_correlation):  0.307172273977\n",
      "k_correlation_r:  0.770412009653     k_correlation_i:  0.733122170488\n",
      "2 0 x_correlation:  (0.0816883948378-0.333136591742j)     abs(x_correlation):  0.343005805503\n",
      "k_correlation_r:  0.334850524165     k_correlation_i:  0.0752929333861\n",
      "2 1 x_correlation:  (0.123943866485-0.38609941383j)     abs(x_correlation):  0.405505658899\n",
      "k_correlation_r:  0.220234856258     k_correlation_i:  0.0544496748203\n",
      "2 2 x_correlation:  (0.9879643822+0.135670050051j)     abs(x_correlation):  0.997236172116\n",
      "k_correlation_r:  0.000858782386163     k_correlation_i:  0.0024954234317\n",
      "2 3 x_correlation:  (-0.0403817514507-0.0180474832889j)     abs(x_correlation):  0.0442311824767\n",
      "k_correlation_r:  0.332846413828     k_correlation_i:  0.362711639226\n",
      "2 4 x_correlation:  (-0.128871942226+0.206166705276j)     abs(x_correlation):  0.243131009658\n",
      "k_correlation_r:  0.70556869213     k_correlation_i:  0.747663423908\n",
      "3 0 x_correlation:  (0.262896200489-0.290329300436j)     abs(x_correlation):  0.391670160879\n",
      "k_correlation_r:  0.557534502712     k_correlation_i:  0.324740469239\n",
      "3 1 x_correlation:  (-0.259832521287+0.286559751427j)     abs(x_correlation):  0.386819635303\n",
      "k_correlation_r:  0.481290770529     k_correlation_i:  0.339625566968\n",
      "3 2 x_correlation:  (-0.0345419909604-0.0249013035282j)     abs(x_correlation):  0.0425819686829\n",
      "k_correlation_r:  0.335359145916     k_correlation_i:  0.377140925568\n",
      "3 3 x_correlation:  (0.52106917258+0.851305106566j)     abs(x_correlation):  0.998114956845\n",
      "k_correlation_r:  0.00291006399543     k_correlation_i:  0.0201966671178\n",
      "3 4 x_correlation:  (0.0174968827742+0.0200301556142j)     abs(x_correlation):  0.026596015505\n",
      "k_correlation_r:  0.557387341387     k_correlation_i:  0.595884687532\n",
      "4 0 x_correlation:  (-1.19898739397e-05+0.000214776577921j)     abs(x_correlation):  0.000215110984146\n",
      "k_correlation_r:  0.845475841487     k_correlation_i:  1.00000277588\n",
      "4 1 x_correlation:  (-4.51101847599e-05-0.000195538323342j)     abs(x_correlation):  0.000200674275044\n",
      "k_correlation_r:  0.818848909828     k_correlation_i:  1.00000283845\n",
      "4 2 x_correlation:  (-4.32388307488e-06-1.38523593511e-05j)     abs(x_correlation):  1.45115066219e-05\n",
      "k_correlation_r:  0.767884571067     k_correlation_i:  1.00000300942\n",
      "4 3 x_correlation:  (-0.00037684743342-0.000129363089696j)     abs(x_correlation):  0.000398432926665\n",
      "k_correlation_r:  0.651781925896     k_correlation_i:  1.00000191308\n",
      "4 4 x_correlation:  (8.68550678682e-07+1.68990597553e-05j)     abs(x_correlation):  1.69213652196e-05\n",
      "k_correlation_r:  0.21097067228     k_correlation_i:  1.00000075749\n",
      "5 0 x_correlation:  (-0.210792783601+0.309080381979j)     abs(x_correlation):  0.374118002965\n",
      "k_correlation_r:  0.853142732095     k_correlation_i:  0.998062585888\n",
      "5 1 x_correlation:  (0.18125894136-0.320469953317j)     abs(x_correlation):  0.368179025478\n",
      "k_correlation_r:  0.827836925717     k_correlation_i:  0.998018915817\n",
      "5 2 x_correlation:  (0.0171566450212+0.00299902297437j)     abs(x_correlation):  0.0174167909554\n",
      "k_correlation_r:  0.779401240171     k_correlation_i:  0.997899593346\n",
      "5 3 x_correlation:  (-0.388076604414-0.615631006625j)     abs(x_correlation):  0.727739642463\n",
      "k_correlation_r:  0.669059158839     k_correlation_i:  0.998664775572\n",
      "5 4 x_correlation:  (-0.0286485540415-0.00304030192243j)     abs(x_correlation):  0.0288094270066\n",
      "k_correlation_r:  0.25011925332     k_correlation_i:  0.999471313175\n",
      "X :  [7000000000000.0, 6950000000000.0, 6850000000000.0, 6650000000000.0, 6450000000000.0, 6250000000000.0, 6050000000000.0, 5850000000000.0, 5650000000000.0, 5450000000000.0, 5250000000000.0, 5050000000000.0, 4850000000000.0]\n",
      "Y :  [[(9.0264198593920089-1.0265850275942863j)], [(8.9591509490803887-1.0248428143216293j)], [(8.8250554453441765-1.0213873265953377j)], [(8.5585964224031823-1.0145863243291824j)], [(8.2943834560896317-1.0079245347408612j)], [(8.0323500935623926-1.0013955543194086j)], [(7.7724369581080106-0.99499398313867937j)], [(7.514589631061205-0.98871676944562481j)], [(7.258763165805771-0.98256238682030228j)], [(7.0049175938053851-0.97652130310611174j)], [(6.7530093091440699-0.97058404763619255j)], [(6.5029986638359283-0.96474407348038327j)], [(6.2548497421581803-0.95899303239179656j)]]\n",
      "X :  [7000000000000.0, 6950000000000.0, 6850000000000.0, 6650000000000.0, 6450000000000.0, 6250000000000.0, 6050000000000.0, 5850000000000.0, 5650000000000.0, 5450000000000.0, 5250000000000.0, 5050000000000.0, 4850000000000.0]\n",
      "Y :  [[(8.0232073158584836-1.0038177634322727j)], [(7.9580318024293435-1.002165067653527j)], [(7.8280933139952493-0.99888371498477257j)], [(7.5698373817955931-0.99241010085502668j)], [(7.3136932127065855-0.98604443809278242j)], [(7.0596085026341342-0.97977554145591095j)], [(6.8075371305561374-0.97359284654969247j)], [(6.5574373335614329-0.96748716557405556j)], [(6.3092748166396113-0.9614511664337817j)], [(6.0630218535066458-0.95547378216544254j)], [(5.8186517398008499-0.94954680963997151j)], [(5.5761431695747739-0.94367608673403425j)], [(5.3354794279992186-0.9378981947347097j)]]\n",
      "X :  [7000000000000.0, 6950000000000.0, 6850000000000.0, 6650000000000.0, 6450000000000.0, 6250000000000.0, 6050000000000.0, 5850000000000.0, 5650000000000.0, 5450000000000.0, 5250000000000.0, 5050000000000.0, 4850000000000.0]\n",
      "Y :  [[(6.5956702117118349-0.78791361784606873j)], [(6.5435530246973519-0.78802249083072595j)], [(6.4391320917083572-0.78834760985526786j)], [(6.2293811334969185-0.7894861249931886j)], [(6.0180579613309053-0.79141024897694101j)], [(5.8046345497448524-0.79432853850880258j)], [(5.5884413350732611-0.79852240627067517j)], [(5.368619202567892-0.80437522758025648j)], [(5.1440509634386773-0.81241607687996109j)], [(4.9132683828200285-0.82338117543705347j)], [(4.6743175995161046-0.8383148983460913j)], [(4.4245647702757411-0.85871531442195226j)], [(4.1604339167452462-0.88679535356905737j)]]\n",
      "X :  [7000000000000.0, 6950000000000.0, 6850000000000.0, 6650000000000.0, 6450000000000.0, 6250000000000.0, 6050000000000.0, 5850000000000.0, 5650000000000.0, 5450000000000.0, 5250000000000.0, 5050000000000.0, 4850000000000.0]\n",
      "Y :  [[(6.2737880213737869-0.83870302667178354j)], [(6.2130298312009069-0.84076827627467954j)], [(6.0903511298235351-0.84530657527834485j)], [(5.8397096988549269-0.85626279522147908j)], [(5.580619695053235-0.87030920913645859j)], [(5.3110009133316254-0.88837921927722785j)], [(5.0281827942839818-0.91179539888921979j)], [(4.7286956697010751-0.94249855324883391j)], [(4.4079744733559121-0.98345432903454566j)], [(4.0599805372069566-1.039443234787458j)], [(3.6767770262152428-1.1186428471058749j)], [(3.2486663163422-1.2359996001677609j)], [(2.7675710930930602-1.4201967346649025j)]]\n",
      "X :  [7000000000000.0, 6950000000000.0, 6850000000000.0, 6650000000000.0, 6450000000000.0, 6250000000000.0, 6050000000000.0, 5850000000000.0, 5650000000000.0, 5450000000000.0, 5250000000000.0, 5050000000000.0, 4850000000000.0]\n",
      "Y :  [[(5.722674439701902-0.93216942168447792j)], [(5.6464262552655367-0.93829747873521585j)], [(5.4908645252106938-0.95174727681905913j)], [(5.1657822429627718-0.98437391926430307j)], [(4.8182412765899674-1.0271412924220784j)], [(4.4423714911030308-1.0846159873516263j)], [(4.0305299081864217-1.164515743117954j)], [(3.5733189335176081-1.2807297582230945j)], [(3.0622557973877278-1.4595334940394458j)], [(2.5039824932274826-1.7484192778097865j)], [(1.9589728516656573-2.2006276441259631j)], [(1.5326326870612297-2.789266340286265j)], None]\n",
      "----------------------------------------------------------------------------------------------------\n",
      "frequency: 4650000000000.0   k_init: (6.00856254411-0.95333092437j)\n"
     ]
    },
    {
     "data": {
      "text/latex": [
       "$$Eqs_\\text{ freespace } = \\left[\\begin{matrix}376.730313461771 H_{{y}} + 1.02609573316923 \\cdot 10^{-5} i \\frac{d}{d x} E_{{z}}\\\\- 376.730313461771 H_{{x}} + 1.02609573316923 \\cdot 10^{-5} i \\frac{d}{d y} E_{{z}}\\\\- 0.00265441872943807 E_{{y}} + 1.02609573316923 \\cdot 10^{-5} i \\frac{d}{d x} H_{{z}}\\\\0.00265441872943807 E_{{x}} + 1.02609573316923 \\cdot 10^{-5} i \\frac{d}{d y} H_{{z}}\\\\- 258.691138032466 i E_{{z}} - \\frac{d}{d y} H_{{x}} + \\frac{d}{d x} H_{{y}}\\\\36714928.3720524 i H_{{z}} - \\frac{d}{d y} E_{{x}} + \\frac{d}{d x} E_{{y}}\\end{matrix}\\right]$$"
      ],
      "text/plain": [
       "<IPython.core.display.Math at 0x7f53751dcef0>"
      ]
     },
     "metadata": {},
     "output_type": "display_data"
    },
    {
     "name": "stdout",
     "output_type": "stream",
     "text": [
      "Eq1 boundary equations \n"
     ]
    },
    {
     "data": {
      "text/latex": [
       "$$EQs_\\text{ freespace }-b[0] = \\left[\\begin{matrix}376.730313461771 H_{{y}} & 1.02609573316923 \\cdot 10^{-5} i \\frac{d}{d x} E_{{z}}\\end{matrix}\\right]$$"
      ],
      "text/plain": [
       "<IPython.core.display.Math at 0x7f5376a8d438>"
      ]
     },
     "metadata": {},
     "output_type": "display_data"
    },
    {
     "data": {
      "text/latex": [
       "$$EQs_\\text{ freespace }-b[1] = \\left[\\begin{matrix}- 376.730313461771 H_{{x}} & 1.02609573316923 \\cdot 10^{-5} i \\frac{d}{d y} E_{{z}}\\end{matrix}\\right]$$"
      ],
      "text/plain": [
       "<IPython.core.display.Math at 0x7f53751c7668>"
      ]
     },
     "metadata": {},
     "output_type": "display_data"
    },
    {
     "data": {
      "text/latex": [
       "$$EQs_\\text{ freespace }-b[2] = \\left[\\begin{matrix}- 0.00265441872943807 E_{{y}} & 1.02609573316923 \\cdot 10^{-5} i \\frac{d}{d x} H_{{z}}\\end{matrix}\\right]$$"
      ],
      "text/plain": [
       "<IPython.core.display.Math at 0x7f53751c7668>"
      ]
     },
     "metadata": {},
     "output_type": "display_data"
    },
    {
     "data": {
      "text/latex": [
       "$$EQs_\\text{ freespace }-b[3] = \\left[\\begin{matrix}0.00265441872943807 E_{{x}} & 1.02609573316923 \\cdot 10^{-5} i \\frac{d}{d y} H_{{z}}\\end{matrix}\\right]$$"
      ],
      "text/plain": [
       "<IPython.core.display.Math at 0x7f53751c7668>"
      ]
     },
     "metadata": {},
     "output_type": "display_data"
    },
    {
     "data": {
      "text/latex": [
       "$$EQs_\\text{ freespace }-b[4] = \\left[\\begin{matrix}- 258.691138032466 i E_{{z}} & - \\frac{d}{d y} H_{{x}} & \\frac{d}{d x} H_{{y}}\\end{matrix}\\right]$$"
      ],
      "text/plain": [
       "<IPython.core.display.Math at 0x7f53751c7668>"
      ]
     },
     "metadata": {},
     "output_type": "display_data"
    },
    {
     "data": {
      "text/latex": [
       "$$EQs_\\text{ freespace }-b[5] = \\left[\\begin{matrix}36714928.3720524 i H_{{z}} & - \\frac{d}{d y} E_{{x}} & \\frac{d}{d x} E_{{y}}\\end{matrix}\\right]$$"
      ],
      "text/plain": [
       "<IPython.core.display.Math at 0x7f53751c7668>"
      ]
     },
     "metadata": {},
     "output_type": "display_data"
    },
    {
     "name": "stdout",
     "output_type": "stream",
     "text": [
      "[[(4178.0146065221452-23733.853651120095j), 0.0, (-2552.9689772905399-914.82798264706014j)], [0.0, 0.0, 0.0], [(2552.9689772905399+914.82798264706014j), 0.0, (4178.0146065221452-23733.853651120095j)]]\n"
     ]
    },
    {
     "data": {
      "text/latex": [
       "$$Eqs_\\text{ graphene } = \\left[\\begin{matrix}376.730313461771 H_{{y}} + 1.02609573316923 \\cdot 10^{-5} i \\frac{d}{d x} E_{{z}}\\\\- 376.730313461771 H_{{x}} + 1.02609573316923 \\cdot 10^{-5} i \\frac{d}{d y} E_{{z}}\\\\- 0.00265441872943807 E_{{y}} + 1.02609573316923 \\cdot 10^{-5} i \\frac{d}{d x} H_{{z}}\\\\- 0.240877640901336 E_{{x}} - 0.0428704296087111 i E_{{x}} - 0.00938701089577967 E_{{z}} + 0.0261959057451125 i E_{{z}} + 1.02609573316923 \\cdot 10^{-5} i \\frac{d}{d y} H_{{z}}\\\\- 2552.96897729054 E_{{x}} - 914.82798264706 i E_{{x}} - 4178.01460652215 E_{{z}} + 23475.1625130876 i E_{{z}} - \\frac{d}{d y} H_{{x}} + \\frac{d}{d x} H_{{y}}\\\\36714928.3720524 i H_{{z}} - \\frac{d}{d y} E_{{x}} + \\frac{d}{d x} E_{{y}}\\end{matrix}\\right]$$"
      ],
      "text/plain": [
       "<IPython.core.display.Math at 0x7f536ddbff60>"
      ]
     },
     "metadata": {},
     "output_type": "display_data"
    },
    {
     "name": "stdout",
     "output_type": "stream",
     "text": [
      "Eq1 boundary equations \n"
     ]
    },
    {
     "data": {
      "text/latex": [
       "$$EQs_\\text{ graphene }-b[0] = \\left[\\begin{matrix}376.730313461771 H_{{y}} & 1.02609573316923 \\cdot 10^{-5} i \\frac{d}{d x} E_{{z}}\\end{matrix}\\right]$$"
      ],
      "text/plain": [
       "<IPython.core.display.Math at 0x7f536ddbfeb8>"
      ]
     },
     "metadata": {},
     "output_type": "display_data"
    },
    {
     "data": {
      "text/latex": [
       "$$EQs_\\text{ graphene }-b[1] = \\left[\\begin{matrix}- 376.730313461771 H_{{x}} & 1.02609573316923 \\cdot 10^{-5} i \\frac{d}{d y} E_{{z}}\\end{matrix}\\right]$$"
      ],
      "text/plain": [
       "<IPython.core.display.Math at 0x7f537abe2198>"
      ]
     },
     "metadata": {},
     "output_type": "display_data"
    },
    {
     "data": {
      "text/latex": [
       "$$EQs_\\text{ graphene }-b[2] = \\left[\\begin{matrix}0 & - 0.00265441872943807 E_{{y}} & 0 & 1.02609573316923 \\cdot 10^{-5} i \\frac{d}{d x} H_{{z}}\\end{matrix}\\right]$$"
      ],
      "text/plain": [
       "<IPython.core.display.Math at 0x7f537ad38240>"
      ]
     },
     "metadata": {},
     "output_type": "display_data"
    },
    {
     "data": {
      "text/latex": [
       "$$EQs_\\text{ graphene }-b[3] = \\left[\\begin{matrix}1.02609573316923 \\cdot 10^{-5} E_{{x}} \\left(258.691138032466 - i \\left(4178.01460652215 - 23733.8536511201 i\\right)\\right) & 0 & - 1.02609573316923 \\cdot 10^{-5} i E_{{z}} \\left(-2552.96897729054 - 914.82798264706 i\\right) & 1.02609573316923 \\cdot 10^{-5} i \\frac{d}{d y} H_{{z}}\\end{matrix}\\right]$$"
      ],
      "text/plain": [
       "<IPython.core.display.Math at 0x7f537abe2198>"
      ]
     },
     "metadata": {},
     "output_type": "display_data"
    },
    {
     "data": {
      "text/latex": [
       "$$EQs_\\text{ graphene }-b[4] = \\left[\\begin{matrix}- E_{{x}} \\left(2552.96897729054 + 914.82798264706 i\\right) & 0 & - E_{{z}} \\left(4178.01460652215 - 23475.1625130876 i\\right) & - \\frac{d}{d y} H_{{x}} & \\frac{d}{d x} H_{{y}}\\end{matrix}\\right]$$"
      ],
      "text/plain": [
       "<IPython.core.display.Math at 0x7f537ad38240>"
      ]
     },
     "metadata": {},
     "output_type": "display_data"
    },
    {
     "data": {
      "text/latex": [
       "$$EQs_\\text{ graphene }-b[5] = \\left[\\begin{matrix}36714928.3720524 i H_{{z}} & - \\frac{d}{d y} E_{{x}} & \\frac{d}{d x} E_{{y}}\\end{matrix}\\right]$$"
      ],
      "text/plain": [
       "<IPython.core.display.Math at 0x7f537abe2198>"
      ]
     },
     "metadata": {},
     "output_type": "display_data"
    },
    {
     "name": "stdout",
     "output_type": "stream",
     "text": [
      "initial matrix nnz 1843027 0:00:08\n",
      "initial matrix shared nnz 2219743 0:00:07\n",
      "final matrix (application of boundary conditions) nnz:  2219267 0:00:03\n",
      "A_11.shape:  (157356, 157356) A_11.nnz:  157356\n",
      "warning: this inversion mechanism only works for diagonal matrices\n",
      "eliminating z components 0:00:01\n",
      "A_reduced nnz:  2939090\n",
      "solving eigenvalues 0:04:49\n",
      "[ 6.00852765 -9.53320202e-01j  5.09663473 -9.32318091e-01j\n",
      "  3.87703742 -9.25939693e-01j  2.24458429 -1.72252364e+00j\n",
      "  0.96428450 +1.14147551e-03j]\n",
      "(359926, 5)\n",
      "0 0 x_correlation:  (-0.77534822925-0.628482519266j)     abs(x_correlation):  0.998075725396\n",
      "k_correlation_r:  5.80820115559e-06     k_correlation_i:  1.12469935031e-05\n",
      "0 1 x_correlation:  (0.0151482662924-0.00764481329461j)     abs(x_correlation):  0.0169680034764\n",
      "k_correlation_r:  0.151762159375     k_correlation_i:  0.0221405867319\n",
      "0 2 x_correlation:  (0.0651841027549+0.329501785534j)     abs(x_correlation):  0.335887472112\n",
      "k_correlation_r:  0.353930735087     k_correlation_i:  0.0322716191299\n",
      "0 3 x_correlation:  (0.241755351158+0.294146053087j)     abs(x_correlation):  0.380746044444\n",
      "k_correlation_r:  0.628279756978     k_correlation_i:  0.429571167583\n",
      "1 0 x_correlation:  (0.0227320791576-0.0141083326903j)     abs(x_correlation):  0.0267542982365\n",
      "k_correlation_r:  0.151771377945     k_correlation_i:  0.0220414893289\n",
      "1 1 x_correlation:  (-0.0060350665551+0.998042671177j)     abs(x_correlation):  0.998060917739\n",
      "k_correlation_r:  5.05973504526e-06     k_correlation_i:  0.000112576740458\n",
      "1 2 x_correlation:  (0.209412374004-0.315122356491j)     abs(x_correlation):  0.378359144129\n",
      "k_correlation_r:  0.238335637805     k_correlation_i:  0.0104718285326\n",
      "1 3 x_correlation:  (-0.078918729731+0.358057137355j)     abs(x_correlation):  0.366651168706\n",
      "k_correlation_r:  0.561771349927     k_correlation_i:  0.442137994335\n",
      "2 0 x_correlation:  (-0.197101917546-0.316418802984j)     abs(x_correlation):  0.37278683558\n",
      "k_correlation_r:  0.354747929423     k_correlation_i:  0.0287321339548\n",
      "2 1 x_correlation:  (-0.201886489192-0.378442732465j)     abs(x_correlation):  0.428925467038\n",
      "k_correlation_r:  0.239298475676     k_correlation_i:  0.0067296210144\n",
      "2 2 x_correlation:  (-0.144106975557+0.986558011742j)     abs(x_correlation):  0.997027347135\n",
      "k_correlation_r:  0.00125907020247     k_correlation_i:  0.00365539655335\n",
      "2 3 x_correlation:  (-0.0141084339452-0.0359240075741j)     abs(x_correlation):  0.0385951062775\n",
      "k_correlation_r:  0.423918029951     k_correlation_i:  0.445954573862\n",
      "3 0 x_correlation:  (-0.351227065654-0.203365023408j)     abs(x_correlation):  0.405854388167\n",
      "k_correlation_r:  0.626435727617     k_correlation_i:  0.446549875555\n",
      "3 1 x_correlation:  (0.338897408167+0.188496624588j)     abs(x_correlation):  0.387791736301\n",
      "k_correlation_r:  0.559597056107     k_correlation_i:  0.458809672869\n",
      "3 2 x_correlation:  (-0.0172227102578-0.0330352304668j)     abs(x_correlation):  0.0372551768298\n",
      "k_correlation_r:  0.421785770629     k_correlation_i:  0.464416630949\n",
      "3 3 x_correlation:  (0.739521283273+0.670272055303j)     abs(x_correlation):  0.99807632801\n",
      "k_correlation_r:  0.00494209035395     k_correlation_i:  0.0297757260091\n",
      "4 0 x_correlation:  (-0.00105036083489-0.015745954012j)     abs(x_correlation):  0.0157809481855\n",
      "k_correlation_r:  0.839514942817     k_correlation_i:  1.00119735496\n",
      "4 1 x_correlation:  (0.00360646034724+0.0165615257883j)     abs(x_correlation):  0.0169496516976\n",
      "k_correlation_r:  0.810800719289     k_correlation_i:  1.00122447912\n",
      "4 2 x_correlation:  (-0.00124358378614-0.00256738091804j)     abs(x_correlation):  0.00285270843436\n",
      "k_correlation_r:  0.751596310127     k_correlation_i:  1.00123729804\n",
      "4 3 x_correlation:  (-0.0108093630247+0.0323948447327j)     abs(x_correlation):  0.0341506704803\n",
      "k_correlation_r:  0.568261367708     k_correlation_i:  1.00068301348\n",
      "X :  [7000000000000.0, 6950000000000.0, 6850000000000.0, 6650000000000.0, 6450000000000.0, 6250000000000.0, 6050000000000.0, 5850000000000.0, 5650000000000.0, 5450000000000.0, 5250000000000.0, 5050000000000.0, 4850000000000.0, 4650000000000.0]\n",
      "Y :  [[(9.0264198593920089-1.0265850275942863j)], [(8.9591509490803887-1.0248428143216293j)], [(8.8250554453441765-1.0213873265953377j)], [(8.5585964224031823-1.0145863243291824j)], [(8.2943834560896317-1.0079245347408612j)], [(8.0323500935623926-1.0013955543194086j)], [(7.7724369581080106-0.99499398313867937j)], [(7.514589631061205-0.98871676944562481j)], [(7.258763165805771-0.98256238682030228j)], [(7.0049175938053851-0.97652130310611174j)], [(6.7530093091440699-0.97058404763619255j)], [(6.5029986638359283-0.96474407348038327j)], [(6.2548497421581803-0.95899303239179656j)], [(6.0085276451703766-0.95332020226361569j)]]\n",
      "X :  [7000000000000.0, 6950000000000.0, 6850000000000.0, 6650000000000.0, 6450000000000.0, 6250000000000.0, 6050000000000.0, 5850000000000.0, 5650000000000.0, 5450000000000.0, 5250000000000.0, 5050000000000.0, 4850000000000.0, 4650000000000.0]\n",
      "Y :  [[(8.0232073158584836-1.0038177634322727j)], [(7.9580318024293435-1.002165067653527j)], [(7.8280933139952493-0.99888371498477257j)], [(7.5698373817955931-0.99241010085502668j)], [(7.3136932127065855-0.98604443809278242j)], [(7.0596085026341342-0.97977554145591095j)], [(6.8075371305561374-0.97359284654969247j)], [(6.5574373335614329-0.96748716557405556j)], [(6.3092748166396113-0.9614511664337817j)], [(6.0630218535066458-0.95547378216544254j)], [(5.8186517398008499-0.94954680963997151j)], [(5.5761431695747739-0.94367608673403425j)], [(5.3354794279992186-0.9378981947347097j)], [(5.0966347273222867-0.93231809097391694j)]]\n",
      "X :  [7000000000000.0, 6950000000000.0, 6850000000000.0, 6650000000000.0, 6450000000000.0, 6250000000000.0, 6050000000000.0, 5850000000000.0, 5650000000000.0, 5450000000000.0, 5250000000000.0, 5050000000000.0, 4850000000000.0, 4650000000000.0]\n",
      "Y :  [[(6.5956702117118349-0.78791361784606873j)], [(6.5435530246973519-0.78802249083072595j)], [(6.4391320917083572-0.78834760985526786j)], [(6.2293811334969185-0.7894861249931886j)], [(6.0180579613309053-0.79141024897694101j)], [(5.8046345497448524-0.79432853850880258j)], [(5.5884413350732611-0.79852240627067517j)], [(5.368619202567892-0.80437522758025648j)], [(5.1440509634386773-0.81241607687996109j)], [(4.9132683828200285-0.82338117543705347j)], [(4.6743175995161046-0.8383148983460913j)], [(4.4245647702757411-0.85871531442195226j)], [(4.1604339167452462-0.88679535356905737j)], [(3.877037422780544-0.92593969254811115j)]]\n",
      "X :  [7000000000000.0, 6950000000000.0, 6850000000000.0, 6650000000000.0, 6450000000000.0, 6250000000000.0, 6050000000000.0, 5850000000000.0, 5650000000000.0, 5450000000000.0, 5250000000000.0, 5050000000000.0, 4850000000000.0, 4650000000000.0]\n",
      "Y :  [[(6.2737880213737869-0.83870302667178354j)], [(6.2130298312009069-0.84076827627467954j)], [(6.0903511298235351-0.84530657527834485j)], [(5.8397096988549269-0.85626279522147908j)], [(5.580619695053235-0.87030920913645859j)], [(5.3110009133316254-0.88837921927722785j)], [(5.0281827942839818-0.91179539888921979j)], [(4.7286956697010751-0.94249855324883391j)], [(4.4079744733559121-0.98345432903454566j)], [(4.0599805372069566-1.039443234787458j)], [(3.6767770262152428-1.1186428471058749j)], [(3.2486663163422-1.2359996001677609j)], [(2.7675710930930602-1.4201967346649025j)], [(2.2445842948598753-1.7225236426241923j)]]\n",
      "X :  [7000000000000.0, 6950000000000.0, 6850000000000.0, 6650000000000.0, 6450000000000.0, 6250000000000.0, 6050000000000.0, 5850000000000.0, 5650000000000.0, 5450000000000.0, 5250000000000.0, 5050000000000.0, 4850000000000.0]\n",
      "Y :  [[(5.722674439701902-0.93216942168447792j)], [(5.6464262552655367-0.93829747873521585j)], [(5.4908645252106938-0.95174727681905913j)], [(5.1657822429627718-0.98437391926430307j)], [(4.8182412765899674-1.0271412924220784j)], [(4.4423714911030308-1.0846159873516263j)], [(4.0305299081864217-1.164515743117954j)], [(3.5733189335176081-1.2807297582230945j)], [(3.0622557973877278-1.4595334940394458j)], [(2.5039824932274826-1.7484192778097865j)], [(1.9589728516656573-2.2006276441259631j)], [(1.5326326870612297-2.789266340286265j)], None]\n",
      "----------------------------------------------------------------------------------------------------\n"
     ]
    },
    {
     "name": "stdout",
     "output_type": "stream",
     "text": [
      "frequency: 4450000000000.0   k_init: (5.76403237287-0.947725583096j)\n"
     ]
    },
    {
     "data": {
      "text/latex": [
       "$$Eqs_\\text{ freespace } = \\left[\\begin{matrix}376.730313461771 H_{{y}} + 1.07221239533414 \\cdot 10^{-5} i \\frac{d}{d x} E_{{z}}\\\\- 376.730313461771 H_{{x}} + 1.07221239533414 \\cdot 10^{-5} i \\frac{d}{d y} E_{{z}}\\\\- 0.00265441872943807 E_{{y}} + 1.07221239533414 \\cdot 10^{-5} i \\frac{d}{d x} H_{{z}}\\\\0.00265441872943807 E_{{x}} + 1.07221239533414 \\cdot 10^{-5} i \\frac{d}{d y} H_{{z}}\\\\- 247.56463747193 i E_{{z}} - \\frac{d}{d y} H_{{x}} + \\frac{d}{d x} H_{{y}}\\\\35135791.6678781 i H_{{z}} - \\frac{d}{d y} E_{{x}} + \\frac{d}{d x} E_{{y}}\\end{matrix}\\right]$$"
      ],
      "text/plain": [
       "<IPython.core.display.Math at 0x7f537ace9048>"
      ]
     },
     "metadata": {},
     "output_type": "display_data"
    },
    {
     "name": "stdout",
     "output_type": "stream",
     "text": [
      "Eq1 boundary equations \n"
     ]
    },
    {
     "data": {
      "text/latex": [
       "$$EQs_\\text{ freespace }-b[0] = \\left[\\begin{matrix}376.730313461771 H_{{y}} & 1.07221239533414 \\cdot 10^{-5} i \\frac{d}{d x} E_{{z}}\\end{matrix}\\right]$$"
      ],
      "text/plain": [
       "<IPython.core.display.Math at 0x7f5376a8d128>"
      ]
     },
     "metadata": {},
     "output_type": "display_data"
    },
    {
     "data": {
      "text/latex": [
       "$$EQs_\\text{ freespace }-b[1] = \\left[\\begin{matrix}- 376.730313461771 H_{{x}} & 1.07221239533414 \\cdot 10^{-5} i \\frac{d}{d y} E_{{z}}\\end{matrix}\\right]$$"
      ],
      "text/plain": [
       "<IPython.core.display.Math at 0x7f5376a8d710>"
      ]
     },
     "metadata": {},
     "output_type": "display_data"
    },
    {
     "data": {
      "text/latex": [
       "$$EQs_\\text{ freespace }-b[2] = \\left[\\begin{matrix}- 0.00265441872943807 E_{{y}} & 1.07221239533414 \\cdot 10^{-5} i \\frac{d}{d x} H_{{z}}\\end{matrix}\\right]$$"
      ],
      "text/plain": [
       "<IPython.core.display.Math at 0x7f5376a8d128>"
      ]
     },
     "metadata": {},
     "output_type": "display_data"
    },
    {
     "data": {
      "text/latex": [
       "$$EQs_\\text{ freespace }-b[3] = \\left[\\begin{matrix}0.00265441872943807 E_{{x}} & 1.07221239533414 \\cdot 10^{-5} i \\frac{d}{d y} H_{{z}}\\end{matrix}\\right]$$"
      ],
      "text/plain": [
       "<IPython.core.display.Math at 0x7f5376a8d710>"
      ]
     },
     "metadata": {},
     "output_type": "display_data"
    },
    {
     "data": {
      "text/latex": [
       "$$EQs_\\text{ freespace }-b[4] = \\left[\\begin{matrix}- 247.56463747193 i E_{{z}} & - \\frac{d}{d y} H_{{x}} & \\frac{d}{d x} H_{{y}}\\end{matrix}\\right]$$"
      ],
      "text/plain": [
       "<IPython.core.display.Math at 0x7f5376a8d128>"
      ]
     },
     "metadata": {},
     "output_type": "display_data"
    },
    {
     "data": {
      "text/latex": [
       "$$EQs_\\text{ freespace }-b[5] = \\left[\\begin{matrix}35135791.6678781 i H_{{z}} & - \\frac{d}{d y} E_{{x}} & \\frac{d}{d x} E_{{y}}\\end{matrix}\\right]$$"
      ],
      "text/plain": [
       "<IPython.core.display.Math at 0x7f5376a8d710>"
      ]
     },
     "metadata": {},
     "output_type": "display_data"
    },
    {
     "name": "stdout",
     "output_type": "stream",
     "text": [
      "[[(4564.41277648919-24760.06523392805j), 0.0, (-2767.8132780994906-1040.6791721955587j)], [0.0, 0.0, 0.0], [(2767.8132780994906+1040.6791721955587j), 0.0, (4564.41277648919-24760.06523392805j)]]\n"
     ]
    },
    {
     "data": {
      "text/latex": [
       "$$Eqs_\\text{ graphene } = \\left[\\begin{matrix}376.730313461771 H_{{y}} + 1.07221239533414 \\cdot 10^{-5} i \\frac{d}{d x} E_{{z}}\\\\- 376.730313461771 H_{{x}} + 1.07221239533414 \\cdot 10^{-5} i \\frac{d}{d y} E_{{z}}\\\\- 0.00265441872943807 E_{{y}} + 1.07221239533414 \\cdot 10^{-5} i \\frac{d}{d x} H_{{z}}\\\\- 0.262826069801559 E_{{x}} - 0.0489401995637325 i E_{{x}} - 0.0111582910799415 E_{{z}} + 0.0296768370474871 i E_{{z}} + 1.07221239533414 \\cdot 10^{-5} i \\frac{d}{d y} H_{{z}}\\\\- 2767.81327809949 E_{{x}} - 1040.67917219556 i E_{{x}} - 4564.41277648919 E_{{z}} + 24512.5005964561 i E_{{z}} - \\frac{d}{d y} H_{{x}} + \\frac{d}{d x} H_{{y}}\\\\35135791.6678781 i H_{{z}} - \\frac{d}{d y} E_{{x}} + \\frac{d}{d x} E_{{y}}\\end{matrix}\\right]$$"
      ],
      "text/plain": [
       "<IPython.core.display.Math at 0x7f537af5c0b8>"
      ]
     },
     "metadata": {},
     "output_type": "display_data"
    },
    {
     "name": "stdout",
     "output_type": "stream",
     "text": [
      "Eq1 boundary equations \n"
     ]
    },
    {
     "data": {
      "text/latex": [
       "$$EQs_\\text{ graphene }-b[0] = \\left[\\begin{matrix}376.730313461771 H_{{y}} & 1.07221239533414 \\cdot 10^{-5} i \\frac{d}{d x} E_{{z}}\\end{matrix}\\right]$$"
      ],
      "text/plain": [
       "<IPython.core.display.Math at 0x7f536ddbff60>"
      ]
     },
     "metadata": {},
     "output_type": "display_data"
    },
    {
     "data": {
      "text/latex": [
       "$$EQs_\\text{ graphene }-b[1] = \\left[\\begin{matrix}- 376.730313461771 H_{{x}} & 1.07221239533414 \\cdot 10^{-5} i \\frac{d}{d y} E_{{z}}\\end{matrix}\\right]$$"
      ],
      "text/plain": [
       "<IPython.core.display.Math at 0x7f536ddbfeb8>"
      ]
     },
     "metadata": {},
     "output_type": "display_data"
    },
    {
     "data": {
      "text/latex": [
       "$$EQs_\\text{ graphene }-b[2] = \\left[\\begin{matrix}0 & - 0.00265441872943807 E_{{y}} & 0 & 1.07221239533414 \\cdot 10^{-5} i \\frac{d}{d x} H_{{z}}\\end{matrix}\\right]$$"
      ],
      "text/plain": [
       "<IPython.core.display.Math at 0x7f536ddbff60>"
      ]
     },
     "metadata": {},
     "output_type": "display_data"
    },
    {
     "data": {
      "text/latex": [
       "$$EQs_\\text{ graphene }-b[3] = \\left[\\begin{matrix}1.07221239533414 \\cdot 10^{-5} E_{{x}} \\left(247.56463747193 - i \\left(4564.41277648919 - 24760.065233928 i\\right)\\right) & 0 & - 1.07221239533414 \\cdot 10^{-5} i E_{{z}} \\left(-2767.81327809949 - 1040.67917219556 i\\right) & 1.07221239533414 \\cdot 10^{-5} i \\frac{d}{d y} H_{{z}}\\end{matrix}\\right]$$"
      ],
      "text/plain": [
       "<IPython.core.display.Math at 0x7f536ddbfeb8>"
      ]
     },
     "metadata": {},
     "output_type": "display_data"
    },
    {
     "data": {
      "text/latex": [
       "$$EQs_\\text{ graphene }-b[4] = \\left[\\begin{matrix}- E_{{x}} \\left(2767.81327809949 + 1040.67917219556 i\\right) & 0 & - E_{{z}} \\left(4564.41277648919 - 24512.5005964561 i\\right) & - \\frac{d}{d y} H_{{x}} & \\frac{d}{d x} H_{{y}}\\end{matrix}\\right]$$"
      ],
      "text/plain": [
       "<IPython.core.display.Math at 0x7f5375163550>"
      ]
     },
     "metadata": {},
     "output_type": "display_data"
    },
    {
     "data": {
      "text/latex": [
       "$$EQs_\\text{ graphene }-b[5] = \\left[\\begin{matrix}35135791.6678781 i H_{{z}} & - \\frac{d}{d y} E_{{x}} & \\frac{d}{d x} E_{{y}}\\end{matrix}\\right]$$"
      ],
      "text/plain": [
       "<IPython.core.display.Math at 0x7f53751c7668>"
      ]
     },
     "metadata": {},
     "output_type": "display_data"
    },
    {
     "name": "stdout",
     "output_type": "stream",
     "text": [
      "initial matrix nnz 1843027 0:00:16\n",
      "initial matrix shared nnz 2219743 0:00:08\n",
      "final matrix (application of boundary conditions) nnz:  2219267 0:00:03\n",
      "A_11.shape:  (157356, 157356) A_11.nnz:  157356\n",
      "warning: this inversion mechanism only works for diagonal matrices\n",
      "eliminating z components 0:00:01\n",
      "A_reduced nnz:  2939132\n",
      "solving eigenvalues 0:04:56\n",
      "[ 5.76399867 -9.47711482e-01j  4.85953672 -9.27173646e-01j\n",
      "  3.56771486 -9.81600652e-01j  1.75259483 -2.19169023e+00j\n",
      "  0.96034507 +4.39617133e-04j]\n",
      "(359926, 5)\n",
      "0 0 x_correlation:  (0.964663934366-0.256267601581j)     abs(x_correlation):  0.998123033441\n",
      "k_correlation_r:  5.84685386702e-06     k_correlation_i:  1.4878493993e-05\n",
      "0 1 x_correlation:  (-0.017327750033-0.0212149882364j)     abs(x_correlation):  0.0273920909585\n",
      "k_correlation_r:  0.156903159669     k_correlation_i:  0.0219219744629\n",
      "0 2 x_correlation:  (0.299158057148-0.209142475247j)     abs(x_correlation):  0.365015229969\n",
      "k_correlation_r:  0.379879231044     k_correlation_i:  0.0291316883708\n",
      "0 3 x_correlation:  (0.390924493654-0.0470006061315j)     abs(x_correlation):  0.393739782998\n",
      "k_correlation_r:  0.70858669174     k_correlation_i:  0.557760063528\n",
      "1 0 x_correlation:  (-0.0394118663215+0.0146297878789j)     abs(x_correlation):  0.0420395754061\n",
      "k_correlation_r:  0.156920641493     k_correlation_i:  0.0216855359272\n",
      "1 1 x_correlation:  (0.589845732503+0.80506755741j)     abs(x_correlation):  0.998023927642\n",
      "k_correlation_r:  1.488848379e-05     k_correlation_i:  0.000256554382953\n",
      "1 2 x_correlation:  (-0.078208717936-0.388268017234j)     abs(x_correlation):  0.396066480238\n",
      "k_correlation_r:  0.264461717697     k_correlation_i:  0.0501713560034\n",
      "1 3 x_correlation:  (-0.158437680859+0.334060393439j)     abs(x_correlation):  0.369728069235\n",
      "k_correlation_r:  0.654348548012     k_correlation_i:  0.567343836287\n",
      "2 0 x_correlation:  (0.338097862466-0.218178500769j)     abs(x_correlation):  0.402382930555\n",
      "k_correlation_r:  0.38103837279     k_correlation_i:  0.0345100313743\n",
      "2 1 x_correlation:  (-0.0728486936244+0.440186136532j)     abs(x_correlation):  0.446173471822\n",
      "k_correlation_r:  0.265843238167     k_correlation_i:  0.0556895279374\n",
      "2 2 x_correlation:  (0.608005071615-0.790052335797j)     abs(x_correlation):  0.996921692214\n",
      "k_correlation_r:  0.00186338340059     k_correlation_i:  0.00555452060346\n",
      "2 3 x_correlation:  (-0.0294906158305+0.00852098314616j)     abs(x_correlation):  0.0306969636257\n",
      "k_correlation_r:  0.529192777713     k_correlation_i:  0.541946026572\n",
      "3 0 x_correlation:  (0.338919216526-0.243546665784j)     abs(x_correlation):  0.417350229119\n",
      "k_correlation_r:  0.695942924668     k_correlation_i:  0.567582328841\n",
      "3 1 x_correlation:  (0.00316784233739-0.387015583939j)     abs(x_correlation):  0.387028548607\n",
      "k_correlation_r:  0.639354770918     k_correlation_i:  0.577068070669\n",
      "3 2 x_correlation:  (-0.00738555823975+0.030985014765j)     abs(x_correlation):  0.0318530628119\n",
      "k_correlation_r:  0.509678004123     k_correlation_i:  0.554613913899\n",
      "3 3 x_correlation:  (0.888851611299-0.453908945994j)     abs(x_correlation):  0.998043344832\n",
      "k_correlation_r:  0.0415891355563     k_correlation_i:  0.022224811071\n",
      "4 0 x_correlation:  (-0.00880008176715+0.00106980990192j)     abs(x_correlation):  0.00886487068912\n",
      "k_correlation_r:  0.833390062339     k_correlation_i:  1.00046386543\n",
      "4 1 x_correlation:  (-0.00416689082376+0.00549374886065j)     abs(x_correlation):  0.0068952342731\n",
      "k_correlation_r:  0.802382236724     k_correlation_i:  1.00047426925\n",
      "4 2 x_correlation:  (0.000121567276422+0.00185380009825j)     abs(x_correlation):  0.00185778185129\n",
      "k_correlation_r:  0.731325057712     k_correlation_i:  1.00045035895\n",
      "4 3 x_correlation:  (-0.0163011360317-0.0079280249128j)     abs(x_correlation):  0.0181267927374\n",
      "k_correlation_r:  0.428265947064     k_correlation_i:  1.00020514287\n",
      "X :  [7000000000000.0, 6950000000000.0, 6850000000000.0, 6650000000000.0, 6450000000000.0, 6250000000000.0, 6050000000000.0, 5850000000000.0, 5650000000000.0, 5450000000000.0, 5250000000000.0, 5050000000000.0, 4850000000000.0, 4650000000000.0, 4450000000000.0]\n",
      "Y :  [[(9.0264198593920089-1.0265850275942863j)], [(8.9591509490803887-1.0248428143216293j)], [(8.8250554453441765-1.0213873265953377j)], [(8.5585964224031823-1.0145863243291824j)], [(8.2943834560896317-1.0079245347408612j)], [(8.0323500935623926-1.0013955543194086j)], [(7.7724369581080106-0.99499398313867937j)], [(7.514589631061205-0.98871676944562481j)], [(7.258763165805771-0.98256238682030228j)], [(7.0049175938053851-0.97652130310611174j)], [(6.7530093091440699-0.97058404763619255j)], [(6.5029986638359283-0.96474407348038327j)], [(6.2548497421581803-0.95899303239179656j)], [(6.0085276451703766-0.95332020226361569j)], [(5.7639986714177329-0.94771148236624303j)]]\n",
      "X :  [7000000000000.0, 6950000000000.0, 6850000000000.0, 6650000000000.0, 6450000000000.0, 6250000000000.0, 6050000000000.0, 5850000000000.0, 5650000000000.0, 5450000000000.0, 5250000000000.0, 5050000000000.0, 4850000000000.0, 4650000000000.0, 4450000000000.0]\n",
      "Y :  [[(8.0232073158584836-1.0038177634322727j)], [(7.9580318024293435-1.002165067653527j)], [(7.8280933139952493-0.99888371498477257j)], [(7.5698373817955931-0.99241010085502668j)], [(7.3136932127065855-0.98604443809278242j)], [(7.0596085026341342-0.97977554145591095j)], [(6.8075371305561374-0.97359284654969247j)], [(6.5574373335614329-0.96748716557405556j)], [(6.3092748166396113-0.9614511664337817j)], [(6.0630218535066458-0.95547378216544254j)], [(5.8186517398008499-0.94954680963997151j)], [(5.5761431695747739-0.94367608673403425j)], [(5.3354794279992186-0.9378981947347097j)], [(5.0966347273222867-0.93231809097391694j)], [(4.8595367153326663-0.92717364591425044j)]]\n",
      "X :  [7000000000000.0, 6950000000000.0, 6850000000000.0, 6650000000000.0, 6450000000000.0, 6250000000000.0, 6050000000000.0, 5850000000000.0, 5650000000000.0, 5450000000000.0, 5250000000000.0, 5050000000000.0, 4850000000000.0, 4650000000000.0, 4450000000000.0]\n",
      "Y :  [[(6.5956702117118349-0.78791361784606873j)], [(6.5435530246973519-0.78802249083072595j)], [(6.4391320917083572-0.78834760985526786j)], [(6.2293811334969185-0.7894861249931886j)], [(6.0180579613309053-0.79141024897694101j)], [(5.8046345497448524-0.79432853850880258j)], [(5.5884413350732611-0.79852240627067517j)], [(5.368619202567892-0.80437522758025648j)], [(5.1440509634386773-0.81241607687996109j)], [(4.9132683828200285-0.82338117543705347j)], [(4.6743175995161046-0.8383148983460913j)], [(4.4245647702757411-0.85871531442195226j)], [(4.1604339167452462-0.88679535356905737j)], [(3.877037422780544-0.92593969254811115j)], [(3.5677148568018668-0.98160065240720229j)]]\n",
      "X :  [7000000000000.0, 6950000000000.0, 6850000000000.0, 6650000000000.0, 6450000000000.0, 6250000000000.0, 6050000000000.0, 5850000000000.0, 5650000000000.0, 5450000000000.0, 5250000000000.0, 5050000000000.0, 4850000000000.0, 4650000000000.0, 4450000000000.0]\n",
      "Y :  [[(6.2737880213737869-0.83870302667178354j)], [(6.2130298312009069-0.84076827627467954j)], [(6.0903511298235351-0.84530657527834485j)], [(5.8397096988549269-0.85626279522147908j)], [(5.580619695053235-0.87030920913645859j)], [(5.3110009133316254-0.88837921927722785j)], [(5.0281827942839818-0.91179539888921979j)], [(4.7286956697010751-0.94249855324883391j)], [(4.4079744733559121-0.98345432903454566j)], [(4.0599805372069566-1.039443234787458j)], [(3.6767770262152428-1.1186428471058749j)], [(3.2486663163422-1.2359996001677609j)], [(2.7675710930930602-1.4201967346649025j)], [(2.2445842948598753-1.7225236426241923j)], [(1.752594825411963-2.1916902252273749j)]]\n",
      "X :  [7000000000000.0, 6950000000000.0, 6850000000000.0, 6650000000000.0, 6450000000000.0, 6250000000000.0, 6050000000000.0, 5850000000000.0, 5650000000000.0, 5450000000000.0, 5250000000000.0, 5050000000000.0, 4850000000000.0]\n",
      "Y :  [[(5.722674439701902-0.93216942168447792j)], [(5.6464262552655367-0.93829747873521585j)], [(5.4908645252106938-0.95174727681905913j)], [(5.1657822429627718-0.98437391926430307j)], [(4.8182412765899674-1.0271412924220784j)], [(4.4423714911030308-1.0846159873516263j)], [(4.0305299081864217-1.164515743117954j)], [(3.5733189335176081-1.2807297582230945j)], [(3.0622557973877278-1.4595334940394458j)], [(2.5039824932274826-1.7484192778097865j)], [(1.9589728516656573-2.2006276441259631j)], [(1.5326326870612297-2.789266340286265j)], None]\n",
      "----------------------------------------------------------------------------------------------------\n"
     ]
    },
    {
     "name": "stdout",
     "output_type": "stream",
     "text": [
      "frequency: 4250000000000.0   k_init: (5.5212628209-0.9421668727j)\n"
     ]
    },
    {
     "data": {
      "text/latex": [
       "$$Eqs_\\text{ freespace } = \\left[\\begin{matrix}376.730313461771 H_{{y}} + 1.12266944923222 \\cdot 10^{-5} i \\frac{d}{d x} E_{{z}}\\\\- 376.730313461771 H_{{x}} + 1.12266944923222 \\cdot 10^{-5} i \\frac{d}{d y} E_{{z}}\\\\- 0.00265441872943807 E_{{y}} + 1.12266944923222 \\cdot 10^{-5} i \\frac{d}{d x} H_{{z}}\\\\0.00265441872943807 E_{{x}} + 1.12266944923222 \\cdot 10^{-5} i \\frac{d}{d y} H_{{z}}\\\\- 236.438136911394 i E_{{z}} - \\frac{d}{d y} H_{{x}} + \\frac{d}{d x} H_{{y}}\\\\33556654.9637038 i H_{{z}} - \\frac{d}{d y} E_{{x}} + \\frac{d}{d x} E_{{y}}\\end{matrix}\\right]$$"
      ],
      "text/plain": [
       "<IPython.core.display.Math at 0x7f537ac1d908>"
      ]
     },
     "metadata": {},
     "output_type": "display_data"
    },
    {
     "name": "stdout",
     "output_type": "stream",
     "text": [
      "Eq1 boundary equations \n"
     ]
    },
    {
     "data": {
      "text/latex": [
       "$$EQs_\\text{ freespace }-b[0] = \\left[\\begin{matrix}376.730313461771 H_{{y}} & 1.12266944923222 \\cdot 10^{-5} i \\frac{d}{d x} E_{{z}}\\end{matrix}\\right]$$"
      ],
      "text/plain": [
       "<IPython.core.display.Math at 0x7f537ace9048>"
      ]
     },
     "metadata": {},
     "output_type": "display_data"
    },
    {
     "data": {
      "text/latex": [
       "$$EQs_\\text{ freespace }-b[1] = \\left[\\begin{matrix}- 376.730313461771 H_{{x}} & 1.12266944923222 \\cdot 10^{-5} i \\frac{d}{d y} E_{{z}}\\end{matrix}\\right]$$"
      ],
      "text/plain": [
       "<IPython.core.display.Math at 0x7f537ace9208>"
      ]
     },
     "metadata": {},
     "output_type": "display_data"
    },
    {
     "data": {
      "text/latex": [
       "$$EQs_\\text{ freespace }-b[2] = \\left[\\begin{matrix}- 0.00265441872943807 E_{{y}} & 1.12266944923222 \\cdot 10^{-5} i \\frac{d}{d x} H_{{z}}\\end{matrix}\\right]$$"
      ],
      "text/plain": [
       "<IPython.core.display.Math at 0x7f537ace9048>"
      ]
     },
     "metadata": {},
     "output_type": "display_data"
    },
    {
     "data": {
      "text/latex": [
       "$$EQs_\\text{ freespace }-b[3] = \\left[\\begin{matrix}0.00265441872943807 E_{{x}} & 1.12266944923222 \\cdot 10^{-5} i \\frac{d}{d y} H_{{z}}\\end{matrix}\\right]$$"
      ],
      "text/plain": [
       "<IPython.core.display.Math at 0x7f537521a908>"
      ]
     },
     "metadata": {},
     "output_type": "display_data"
    },
    {
     "data": {
      "text/latex": [
       "$$EQs_\\text{ freespace }-b[4] = \\left[\\begin{matrix}- 236.438136911394 i E_{{z}} & - \\frac{d}{d y} H_{{x}} & \\frac{d}{d x} H_{{y}}\\end{matrix}\\right]$$"
      ],
      "text/plain": [
       "<IPython.core.display.Math at 0x7f537521a908>"
      ]
     },
     "metadata": {},
     "output_type": "display_data"
    },
    {
     "data": {
      "text/latex": [
       "$$EQs_\\text{ freespace }-b[5] = \\left[\\begin{matrix}33556654.9637038 i H_{{z}} & - \\frac{d}{d y} E_{{x}} & \\frac{d}{d x} E_{{y}}\\end{matrix}\\right]$$"
      ],
      "text/plain": [
       "<IPython.core.display.Math at 0x7f537521a908>"
      ]
     },
     "metadata": {},
     "output_type": "display_data"
    },
    {
     "name": "stdout",
     "output_type": "stream",
     "text": [
      "[[(5007.0218855124394-25875.688171727121j), 0.0, (-3009.5866969853382-1190.5009990944009j)], [0.0, 0.0, 0.0], [(3009.5866969853382+1190.5009990944009j), 0.0, (5007.0218855124394-25875.688171727121j)]]\n"
     ]
    },
    {
     "data": {
      "text/latex": [
       "$$Eqs_\\text{ graphene } = \\left[\\begin{matrix}376.730313461771 H_{{y}} + 1.12266944923222 \\cdot 10^{-5} i \\frac{d}{d x} E_{{z}}\\\\- 376.730313461771 H_{{x}} + 1.12266944923222 \\cdot 10^{-5} i \\frac{d}{d y} E_{{z}}\\\\- 0.00265441872943807 E_{{y}} + 1.12266944923222 \\cdot 10^{-5} i \\frac{d}{d x} H_{{z}}\\\\- 0.287844027153138 E_{{x}} - 0.0562123050250193 i E_{{x}} - 0.0133653910096372 E_{{z}} + 0.0337877103952115 i E_{{z}} + 1.12266944923222 \\cdot 10^{-5} i \\frac{d}{d y} H_{{z}}\\\\- 3009.58669698534 E_{{x}} - 1190.5009990944 i E_{{x}} - 5007.02188551244 E_{{z}} + 25639.2500348157 i E_{{z}} - \\frac{d}{d y} H_{{x}} + \\frac{d}{d x} H_{{y}}\\\\33556654.9637038 i H_{{z}} - \\frac{d}{d y} E_{{x}} + \\frac{d}{d x} E_{{y}}\\end{matrix}\\right]$$"
      ],
      "text/plain": [
       "<IPython.core.display.Math at 0x7f537ac1d1d0>"
      ]
     },
     "metadata": {},
     "output_type": "display_data"
    },
    {
     "name": "stdout",
     "output_type": "stream",
     "text": [
      "Eq1 boundary equations \n"
     ]
    },
    {
     "data": {
      "text/latex": [
       "$$EQs_\\text{ graphene }-b[0] = \\left[\\begin{matrix}376.730313461771 H_{{y}} & 1.12266944923222 \\cdot 10^{-5} i \\frac{d}{d x} E_{{z}}\\end{matrix}\\right]$$"
      ],
      "text/plain": [
       "<IPython.core.display.Math at 0x7f537ac1d278>"
      ]
     },
     "metadata": {},
     "output_type": "display_data"
    },
    {
     "data": {
      "text/latex": [
       "$$EQs_\\text{ graphene }-b[1] = \\left[\\begin{matrix}- 376.730313461771 H_{{x}} & 1.12266944923222 \\cdot 10^{-5} i \\frac{d}{d y} E_{{z}}\\end{matrix}\\right]$$"
      ],
      "text/plain": [
       "<IPython.core.display.Math at 0x7f537ac1d278>"
      ]
     },
     "metadata": {},
     "output_type": "display_data"
    },
    {
     "data": {
      "text/latex": [
       "$$EQs_\\text{ graphene }-b[2] = \\left[\\begin{matrix}0 & - 0.00265441872943807 E_{{y}} & 0 & 1.12266944923222 \\cdot 10^{-5} i \\frac{d}{d x} H_{{z}}\\end{matrix}\\right]$$"
      ],
      "text/plain": [
       "<IPython.core.display.Math at 0x7f537ac1d278>"
      ]
     },
     "metadata": {},
     "output_type": "display_data"
    },
    {
     "data": {
      "text/latex": [
       "$$EQs_\\text{ graphene }-b[3] = \\left[\\begin{matrix}1.12266944923222 \\cdot 10^{-5} E_{{x}} \\left(236.438136911394 - i \\left(5007.02188551244 - 25875.6881717271 i\\right)\\right) & 0 & - 1.12266944923222 \\cdot 10^{-5} i E_{{z}} \\left(-3009.58669698534 - 1190.5009990944 i\\right) & 1.12266944923222 \\cdot 10^{-5} i \\frac{d}{d y} H_{{z}}\\end{matrix}\\right]$$"
      ],
      "text/plain": [
       "<IPython.core.display.Math at 0x7f537ac1d278>"
      ]
     },
     "metadata": {},
     "output_type": "display_data"
    },
    {
     "data": {
      "text/latex": [
       "$$EQs_\\text{ graphene }-b[4] = \\left[\\begin{matrix}- E_{{x}} \\left(3009.58669698534 + 1190.5009990944 i\\right) & 0 & - E_{{z}} \\left(5007.02188551244 - 25639.2500348157 i\\right) & - \\frac{d}{d y} H_{{x}} & \\frac{d}{d x} H_{{y}}\\end{matrix}\\right]$$"
      ],
      "text/plain": [
       "<IPython.core.display.Math at 0x7f537ac1d400>"
      ]
     },
     "metadata": {},
     "output_type": "display_data"
    },
    {
     "data": {
      "text/latex": [
       "$$EQs_\\text{ graphene }-b[5] = \\left[\\begin{matrix}33556654.9637038 i H_{{z}} & - \\frac{d}{d y} E_{{x}} & \\frac{d}{d x} E_{{y}}\\end{matrix}\\right]$$"
      ],
      "text/plain": [
       "<IPython.core.display.Math at 0x7f537ac1d278>"
      ]
     },
     "metadata": {},
     "output_type": "display_data"
    },
    {
     "name": "stdout",
     "output_type": "stream",
     "text": [
      "initial matrix nnz 1843027 0:00:14\n",
      "initial matrix shared nnz 2219743 0:00:07\n",
      "final matrix (application of boundary conditions) nnz:  2219267 0:00:03\n",
      "A_11.shape:  (157356, 157356) A_11.nnz:  157356\n",
      "warning: this inversion mechanism only works for diagonal matrices\n",
      "eliminating z components 0:00:01\n",
      "A_reduced nnz:  2937624\n",
      "solving eigenvalues 0:04:43\n",
      "[ 5.52123100 -9.42143300e-01j  4.62397982 -9.22926848e-01j\n",
      "  3.22359275 -1.06323983e+00j  1.39477651 -2.77949595e+00j\n",
      "  0.95530788 +1.23496707e-03j]\n",
      "(359926, 5)\n",
      "0 0 x_correlation:  (-0.837700335138+0.542768358675j)     abs(x_correlation):  0.99816799321\n",
      "k_correlation_r:  5.76298423311e-06     k_correlation_i:  2.50194113476e-05\n",
      "0 1 x_correlation:  (0.0356808758775-0.0234473295205j)     abs(x_correlation):  0.0426954583654\n",
      "k_correlation_r:  0.162472030169     k_correlation_i:  0.0208868870355\n",
      "0 2 x_correlation:  (-0.378942748468+0.108239495168j)     abs(x_correlation):  0.394098204678\n",
      "k_correlation_r:  0.414538855978     k_correlation_i:  0.105937785955\n",
      "0 3 x_correlation:  (-0.393259414808+0.0915034309907j)     abs(x_correlation):  0.403764591337\n",
      "k_correlation_r:  0.766066175407     k_correlation_i:  0.666815973327\n",
      "1 0 x_correlation:  (0.047955171543+0.0422440265541j)     abs(x_correlation):  0.0639081861518\n",
      "k_correlation_r:  0.162514090213     k_correlation_i:  0.0204210375797\n",
      "1 1 x_correlation:  (-0.641649172236-0.764299100125j)     abs(x_correlation):  0.997931247472\n",
      "k_correlation_r:  4.4456542505e-05     k_correlation_i:  0.000500568415949\n",
      "1 2 x_correlation:  (-0.405995390687-0.00419825189577j)     abs(x_correlation):  0.406017096411\n",
      "k_correlation_r:  0.300934185069     k_correlation_i:  0.124173551365\n",
      "1 3 x_correlation:  (0.361334288834+0.091533442467j)     abs(x_correlation):  0.372747688628\n",
      "k_correlation_r:  0.72067294064     k_correlation_i:  0.673611770816\n",
      "2 0 x_correlation:  (0.0600585437581+0.427060296081j)     abs(x_correlation):  0.431262710152\n",
      "k_correlation_r:  0.416149375044     k_correlation_i:  0.113871729564\n",
      "2 1 x_correlation:  (-0.374215635341+0.25849108307j)     abs(x_correlation):  0.454813128395\n",
      "k_correlation_r:  0.30288418927     k_correlation_i:  0.132401897984\n",
      "2 2 x_correlation:  (-0.164438932386+0.98326407592j)     abs(x_correlation):  0.99691945787\n",
      "k_correlation_r:  0.0027451084338     k_correlation_i:  0.00889883711831\n",
      "2 3 x_correlation:  (0.0161535740668-0.0173378480528j)     abs(x_correlation):  0.0236968126598\n",
      "k_correlation_r:  0.599328207529     k_correlation_i:  0.623990821571\n",
      "3 0 x_correlation:  (0.411988899573-0.107738828195j)     abs(x_correlation):  0.425843290979\n",
      "k_correlation_r:  0.747380887364     k_correlation_i:  0.66102959284\n",
      "3 1 x_correlation:  (-0.29102532538-0.25332806635j)     abs(x_correlation):  0.385837853526\n",
      "k_correlation_r:  0.698373573678     k_correlation_i:  0.668117933145\n",
      "3 2 x_correlation:  (-0.022548327338+0.0179309542299j)     abs(x_correlation):  0.0288087865995\n",
      "k_correlation_r:  0.568510103421     k_correlation_i:  0.62087434074\n",
      "3 3 x_correlation:  (0.992728750706+0.103377360512j)     abs(x_correlation):  0.998096814515\n",
      "k_correlation_r:  0.0739715851468     k_correlation_i:  0.0170458662115\n",
      "4 0 x_correlation:  (-0.00599339131536-0.0141880696528j)     abs(x_correlation):  0.0154020148011\n",
      "k_correlation_r:  0.826976561812     k_correlation_i:  1.00131077318\n",
      "4 1 x_correlation:  (-0.00494843065705+0.011563284008j)     abs(x_correlation):  0.0125776191315\n",
      "k_correlation_r:  0.793410558743     k_correlation_i:  1.00133876869\n",
      "4 2 x_correlation:  (0.000411404902848-0.000807953624754j)     abs(x_correlation):  0.000906665899789\n",
      "k_correlation_r:  0.704464699166     k_correlation_i:  1.00117194209\n",
      "4 3 x_correlation:  (0.0145397425487-0.0308915304078j)     abs(x_correlation):  0.0341422138169\n",
      "k_correlation_r:  0.260370168249     k_correlation_i:  1.00043673961\n",
      "X :  [7000000000000.0, 6950000000000.0, 6850000000000.0, 6650000000000.0, 6450000000000.0, 6250000000000.0, 6050000000000.0, 5850000000000.0, 5650000000000.0, 5450000000000.0, 5250000000000.0, 5050000000000.0, 4850000000000.0, 4650000000000.0, 4450000000000.0, 4250000000000.0]\n",
      "Y :  [[(9.0264198593920089-1.0265850275942863j)], [(8.9591509490803887-1.0248428143216293j)], [(8.8250554453441765-1.0213873265953377j)], [(8.5585964224031823-1.0145863243291824j)], [(8.2943834560896317-1.0079245347408612j)], [(8.0323500935623926-1.0013955543194086j)], [(7.7724369581080106-0.99499398313867937j)], [(7.514589631061205-0.98871676944562481j)], [(7.258763165805771-0.98256238682030228j)], [(7.0049175938053851-0.97652130310611174j)], [(6.7530093091440699-0.97058404763619255j)], [(6.5029986638359283-0.96474407348038327j)], [(6.2548497421581803-0.95899303239179656j)], [(6.0085276451703766-0.95332020226361569j)], [(5.7639986714177329-0.94771148236624303j)], [(5.5212310019493929-0.94214330023901227j)]]\n",
      "X :  [7000000000000.0, 6950000000000.0, 6850000000000.0, 6650000000000.0, 6450000000000.0, 6250000000000.0, 6050000000000.0, 5850000000000.0, 5650000000000.0, 5450000000000.0, 5250000000000.0, 5050000000000.0, 4850000000000.0, 4650000000000.0, 4450000000000.0, 4250000000000.0]\n",
      "Y :  [[(8.0232073158584836-1.0038177634322727j)], [(7.9580318024293435-1.002165067653527j)], [(7.8280933139952493-0.99888371498477257j)], [(7.5698373817955931-0.99241010085502668j)], [(7.3136932127065855-0.98604443809278242j)], [(7.0596085026341342-0.97977554145591095j)], [(6.8075371305561374-0.97359284654969247j)], [(6.5574373335614329-0.96748716557405556j)], [(6.3092748166396113-0.9614511664337817j)], [(6.0630218535066458-0.95547378216544254j)], [(5.8186517398008499-0.94954680963997151j)], [(5.5761431695747739-0.94367608673403425j)], [(5.3354794279992186-0.9378981947347097j)], [(5.0966347273222867-0.93231809097391694j)], [(4.8595367153326663-0.92717364591425044j)], [(4.6239798167363606-0.92292684758583232j)]]\n",
      "X :  [7000000000000.0, 6950000000000.0, 6850000000000.0, 6650000000000.0, 6450000000000.0, 6250000000000.0, 6050000000000.0, 5850000000000.0, 5650000000000.0, 5450000000000.0, 5250000000000.0, 5050000000000.0, 4850000000000.0, 4650000000000.0, 4450000000000.0, 4250000000000.0]\n",
      "Y :  [[(6.5956702117118349-0.78791361784606873j)], [(6.5435530246973519-0.78802249083072595j)], [(6.4391320917083572-0.78834760985526786j)], [(6.2293811334969185-0.7894861249931886j)], [(6.0180579613309053-0.79141024897694101j)], [(5.8046345497448524-0.79432853850880258j)], [(5.5884413350732611-0.79852240627067517j)], [(5.368619202567892-0.80437522758025648j)], [(5.1440509634386773-0.81241607687996109j)], [(4.9132683828200285-0.82338117543705347j)], [(4.6743175995161046-0.8383148983460913j)], [(4.4245647702757411-0.85871531442195226j)], [(4.1604339167452462-0.88679535356905737j)], [(3.877037422780544-0.92593969254811115j)], [(3.5677148568018668-0.98160065240720229j)], [(3.2235927485300775-1.0632398312221838j)]]\n",
      "X :  [7000000000000.0, 6950000000000.0, 6850000000000.0, 6650000000000.0, 6450000000000.0, 6250000000000.0, 6050000000000.0, 5850000000000.0, 5650000000000.0, 5450000000000.0, 5250000000000.0, 5050000000000.0, 4850000000000.0, 4650000000000.0, 4450000000000.0, 4250000000000.0]\n",
      "Y :  [[(6.2737880213737869-0.83870302667178354j)], [(6.2130298312009069-0.84076827627467954j)], [(6.0903511298235351-0.84530657527834485j)], [(5.8397096988549269-0.85626279522147908j)], [(5.580619695053235-0.87030920913645859j)], [(5.3110009133316254-0.88837921927722785j)], [(5.0281827942839818-0.91179539888921979j)], [(4.7286956697010751-0.94249855324883391j)], [(4.4079744733559121-0.98345432903454566j)], [(4.0599805372069566-1.039443234787458j)], [(3.6767770262152428-1.1186428471058749j)], [(3.2486663163422-1.2359996001677609j)], [(2.7675710930930602-1.4201967346649025j)], [(2.2445842948598753-1.7225236426241923j)], [(1.752594825411963-2.1916902252273749j)], [(1.3947765144486235-2.7794959465476055j)]]\n",
      "X :  [7000000000000.0, 6950000000000.0, 6850000000000.0, 6650000000000.0, 6450000000000.0, 6250000000000.0, 6050000000000.0, 5850000000000.0, 5650000000000.0, 5450000000000.0, 5250000000000.0, 5050000000000.0, 4850000000000.0]\n",
      "Y :  [[(5.722674439701902-0.93216942168447792j)], [(5.6464262552655367-0.93829747873521585j)], [(5.4908645252106938-0.95174727681905913j)], [(5.1657822429627718-0.98437391926430307j)], [(4.8182412765899674-1.0271412924220784j)], [(4.4423714911030308-1.0846159873516263j)], [(4.0305299081864217-1.164515743117954j)], [(3.5733189335176081-1.2807297582230945j)], [(3.0622557973877278-1.4595334940394458j)], [(2.5039824932274826-1.7484192778097865j)], [(1.9589728516656573-2.2006276441259631j)], [(1.5326326870612297-2.789266340286265j)], None]\n",
      "----------------------------------------------------------------------------------------------------\n"
     ]
    },
    {
     "name": "stdout",
     "output_type": "stream",
     "text": [
      "frequency: 4050000000000.0   k_init: (5.28022463677-0.936615655882j)\n"
     ]
    },
    {
     "data": {
      "text/latex": [
       "$$Eqs_\\text{ freespace } = \\left[\\begin{matrix}376.730313461771 H_{{y}} + 1.17810991586097 \\cdot 10^{-5} i \\frac{d}{d x} E_{{z}}\\\\- 376.730313461771 H_{{x}} + 1.17810991586097 \\cdot 10^{-5} i \\frac{d}{d y} E_{{z}}\\\\- 0.00265441872943807 E_{{y}} + 1.17810991586097 \\cdot 10^{-5} i \\frac{d}{d x} H_{{z}}\\\\0.00265441872943807 E_{{x}} + 1.17810991586097 \\cdot 10^{-5} i \\frac{d}{d y} H_{{z}}\\\\- 225.311636350858 i E_{{z}} - \\frac{d}{d y} H_{{x}} + \\frac{d}{d x} H_{{y}}\\\\31977518.2595295 i H_{{z}} - \\frac{d}{d y} E_{{x}} + \\frac{d}{d x} E_{{y}}\\end{matrix}\\right]$$"
      ],
      "text/plain": [
       "<IPython.core.display.Math at 0x7f537ac1d2b0>"
      ]
     },
     "metadata": {},
     "output_type": "display_data"
    },
    {
     "name": "stdout",
     "output_type": "stream",
     "text": [
      "Eq1 boundary equations \n"
     ]
    },
    {
     "data": {
      "text/latex": [
       "$$EQs_\\text{ freespace }-b[0] = \\left[\\begin{matrix}376.730313461771 H_{{y}} & 1.17810991586097 \\cdot 10^{-5} i \\frac{d}{d x} E_{{z}}\\end{matrix}\\right]$$"
      ],
      "text/plain": [
       "<IPython.core.display.Math at 0x7f537ace9208>"
      ]
     },
     "metadata": {},
     "output_type": "display_data"
    },
    {
     "data": {
      "text/latex": [
       "$$EQs_\\text{ freespace }-b[1] = \\left[\\begin{matrix}- 376.730313461771 H_{{x}} & 1.17810991586097 \\cdot 10^{-5} i \\frac{d}{d y} E_{{z}}\\end{matrix}\\right]$$"
      ],
      "text/plain": [
       "<IPython.core.display.Math at 0x7f537ace9208>"
      ]
     },
     "metadata": {},
     "output_type": "display_data"
    },
    {
     "data": {
      "text/latex": [
       "$$EQs_\\text{ freespace }-b[2] = \\left[\\begin{matrix}- 0.00265441872943807 E_{{y}} & 1.17810991586097 \\cdot 10^{-5} i \\frac{d}{d x} H_{{z}}\\end{matrix}\\right]$$"
      ],
      "text/plain": [
       "<IPython.core.display.Math at 0x7f537ace9208>"
      ]
     },
     "metadata": {},
     "output_type": "display_data"
    },
    {
     "data": {
      "text/latex": [
       "$$EQs_\\text{ freespace }-b[3] = \\left[\\begin{matrix}0.00265441872943807 E_{{x}} & 1.17810991586097 \\cdot 10^{-5} i \\frac{d}{d y} H_{{z}}\\end{matrix}\\right]$$"
      ],
      "text/plain": [
       "<IPython.core.display.Math at 0x7f537ace9208>"
      ]
     },
     "metadata": {},
     "output_type": "display_data"
    },
    {
     "data": {
      "text/latex": [
       "$$EQs_\\text{ freespace }-b[4] = \\left[\\begin{matrix}- 225.311636350858 i E_{{z}} & - \\frac{d}{d y} H_{{x}} & \\frac{d}{d x} H_{{y}}\\end{matrix}\\right]$$"
      ],
      "text/plain": [
       "<IPython.core.display.Math at 0x7f537ace9208>"
      ]
     },
     "metadata": {},
     "output_type": "display_data"
    },
    {
     "data": {
      "text/latex": [
       "$$EQs_\\text{ freespace }-b[5] = \\left[\\begin{matrix}31977518.2595295 i H_{{z}} & - \\frac{d}{d y} E_{{x}} & \\frac{d}{d x} E_{{y}}\\end{matrix}\\right]$$"
      ],
      "text/plain": [
       "<IPython.core.display.Math at 0x7f537ace9208>"
      ]
     },
     "metadata": {},
     "output_type": "display_data"
    },
    {
     "name": "stdout",
     "output_type": "stream",
     "text": [
      "[[(5517.2479812462325-27092.306668923204j), 0.0, (-3282.6348823439939-1370.2105600206137j)], [0.0, 0.0, 0.0], [(3282.6348823439939+1370.2105600206137j), 0.0, (5517.2479812462325-27092.306668923204j)]]\n"
     ]
    },
    {
     "data": {
      "text/latex": [
       "$$Eqs_\\text{ graphene } = \\left[\\begin{matrix}376.730313461771 H_{{y}} + 1.17810991586097 \\cdot 10^{-5} i \\frac{d}{d x} E_{{z}}\\\\- 376.730313461771 H_{{x}} + 1.17810991586097 \\cdot 10^{-5} i \\frac{d}{d y} E_{{z}}\\\\- 0.00265441872943807 E_{{y}} + 1.17810991586097 \\cdot 10^{-5} i \\frac{d}{d x} H_{{z}}\\\\- 0.31652273257261 E_{{x}} - 0.0649992455497013 i E_{{x}} - 0.016142586475777 E_{{z}} + 0.0386730470504058 i E_{{z}} + 1.17810991586097 \\cdot 10^{-5} i \\frac{d}{d y} H_{{z}}\\\\- 3282.63488234399 E_{{x}} - 1370.21056002061 i E_{{x}} - 5517.24798124623 E_{{z}} + 26866.9950325723 i E_{{z}} - \\frac{d}{d y} H_{{x}} + \\frac{d}{d x} H_{{y}}\\\\31977518.2595295 i H_{{z}} - \\frac{d}{d y} E_{{x}} + \\frac{d}{d x} E_{{y}}\\end{matrix}\\right]$$"
      ],
      "text/plain": [
       "<IPython.core.display.Math at 0x7f537ace9048>"
      ]
     },
     "metadata": {},
     "output_type": "display_data"
    },
    {
     "name": "stdout",
     "output_type": "stream",
     "text": [
      "Eq1 boundary equations \n"
     ]
    },
    {
     "data": {
      "text/latex": [
       "$$EQs_\\text{ graphene }-b[0] = \\left[\\begin{matrix}376.730313461771 H_{{y}} & 1.17810991586097 \\cdot 10^{-5} i \\frac{d}{d x} E_{{z}}\\end{matrix}\\right]$$"
      ],
      "text/plain": [
       "<IPython.core.display.Math at 0x7f537af5c0b8>"
      ]
     },
     "metadata": {},
     "output_type": "display_data"
    },
    {
     "data": {
      "text/latex": [
       "$$EQs_\\text{ graphene }-b[1] = \\left[\\begin{matrix}- 376.730313461771 H_{{x}} & 1.17810991586097 \\cdot 10^{-5} i \\frac{d}{d y} E_{{z}}\\end{matrix}\\right]$$"
      ],
      "text/plain": [
       "<IPython.core.display.Math at 0x7f53751dcef0>"
      ]
     },
     "metadata": {},
     "output_type": "display_data"
    },
    {
     "data": {
      "text/latex": [
       "$$EQs_\\text{ graphene }-b[2] = \\left[\\begin{matrix}0 & - 0.00265441872943807 E_{{y}} & 0 & 1.17810991586097 \\cdot 10^{-5} i \\frac{d}{d x} H_{{z}}\\end{matrix}\\right]$$"
      ],
      "text/plain": [
       "<IPython.core.display.Math at 0x7f537af5c0b8>"
      ]
     },
     "metadata": {},
     "output_type": "display_data"
    },
    {
     "data": {
      "text/latex": [
       "$$EQs_\\text{ graphene }-b[3] = \\left[\\begin{matrix}1.17810991586097 \\cdot 10^{-5} E_{{x}} \\left(225.311636350858 - i \\left(5517.24798124623 - 27092.3066689232 i\\right)\\right) & 0 & - 1.17810991586097 \\cdot 10^{-5} i E_{{z}} \\left(-3282.63488234399 - 1370.21056002061 i\\right) & 1.17810991586097 \\cdot 10^{-5} i \\frac{d}{d y} H_{{z}}\\end{matrix}\\right]$$"
      ],
      "text/plain": [
       "<IPython.core.display.Math at 0x7f53751dcef0>"
      ]
     },
     "metadata": {},
     "output_type": "display_data"
    },
    {
     "data": {
      "text/latex": [
       "$$EQs_\\text{ graphene }-b[4] = \\left[\\begin{matrix}- E_{{x}} \\left(3282.63488234399 + 1370.21056002061 i\\right) & 0 & - E_{{z}} \\left(5517.24798124623 - 26866.9950325723 i\\right) & - \\frac{d}{d y} H_{{x}} & \\frac{d}{d x} H_{{y}}\\end{matrix}\\right]$$"
      ],
      "text/plain": [
       "<IPython.core.display.Math at 0x7f537af5c0b8>"
      ]
     },
     "metadata": {},
     "output_type": "display_data"
    },
    {
     "data": {
      "text/latex": [
       "$$EQs_\\text{ graphene }-b[5] = \\left[\\begin{matrix}31977518.2595295 i H_{{z}} & - \\frac{d}{d y} E_{{x}} & \\frac{d}{d x} E_{{y}}\\end{matrix}\\right]$$"
      ],
      "text/plain": [
       "<IPython.core.display.Math at 0x7f53751dcef0>"
      ]
     },
     "metadata": {},
     "output_type": "display_data"
    },
    {
     "name": "stdout",
     "output_type": "stream",
     "text": [
      "initial matrix nnz 1843027 0:00:16\n",
      "initial matrix shared nnz 2219743 0:00:07\n",
      "final matrix (application of boundary conditions) nnz:  2219267 0:00:03\n",
      "A_11.shape:  (157356, 157356) A_11.nnz:  157356\n",
      "warning: this inversion mechanism only works for diagonal matrices\n",
      "eliminating z components 0:00:01\n",
      "A_reduced nnz:  2939381\n",
      "solving eigenvalues 0:05:01\n",
      "[ 5.28019719 -9.36570631e-01j  4.38946830 -9.20372441e-01j\n",
      "  2.83418795 -1.18851738e+00j  0.95165009 +5.04547582e-06j\n",
      "  0.87499482 -5.20426994e-03j]\n",
      "(359926, 5)\n",
      "0 0 x_correlation:  (-0.241259026695-0.968615572427j)     abs(x_correlation):  0.998209419466\n",
      "k_correlation_r:  5.1972892317e-06     k_correlation_i:  4.80720464978e-05\n",
      "0 1 x_correlation:  (0.0640235047693-0.00536320858864j)     abs(x_correlation):  0.0642477483599\n",
      "k_correlation_r:  0.168598468899     k_correlation_i:  0.0181437836104\n",
      "0 2 x_correlation:  (0.324908430334-0.270459147852j)     abs(x_correlation):  0.42274535924\n",
      "k_correlation_r:  0.461256655103     k_correlation_i:  0.200098348749\n",
      "0 3 x_correlation:  (0.225385287855+0.342908439267j)     abs(x_correlation):  0.410347079559\n",
      "k_correlation_r:  0.778203480105     k_correlation_i:  0.731329163972\n",
      "1 0 x_correlation:  (0.0868349321348-0.0360265711929j)     abs(x_correlation):  0.0940118038906\n",
      "k_correlation_r:  0.168696673616     k_correlation_i:  0.0173424552448\n",
      "1 1 x_correlation:  (0.0688644534477+0.995366792885j)     abs(x_correlation):  0.997746142727\n",
      "k_correlation_r:  0.000112922778551     k_correlation_i:  0.000863503473581\n",
      "1 2 x_correlation:  (-0.394555764416+0.0934880146556j)     abs(x_correlation):  0.405480283267\n",
      "k_correlation_r:  0.351932648657     k_correlation_i:  0.213932819478\n",
      "1 3 x_correlation:  (-0.0426154234108+0.37464313839j)     abs(x_correlation):  0.377059087486\n",
      "k_correlation_r:  0.733195621724     k_correlation_i:  0.735975883741\n",
      "2 0 x_correlation:  (0.371344750719+0.269676487099j)     abs(x_correlation):  0.458936086597\n",
      "k_correlation_r:  0.463244815443     k_correlation_i:  0.211946187974\n",
      "2 1 x_correlation:  (0.434029467804+0.128161378453j)     abs(x_correlation):  0.452555983111\n",
      "k_correlation_r:  0.354393810735     k_correlation_i:  0.226281661825\n",
      "2 2 x_correlation:  (-0.185560034446+0.979580555025j)     abs(x_correlation):  0.997000797475\n",
      "k_correlation_r:  0.00368518826811     k_correlation_i:  0.0148589799335\n",
      "2 3 x_correlation:  (0.00281730442399+0.0235654489016j)     abs(x_correlation):  0.0237332590714\n",
      "k_correlation_r:  0.58678486294     k_correlation_i:  0.659054054297\n",
      "3 0 x_correlation:  (-8.07479542854e-05-2.56663078477e-05j)     abs(x_correlation):  8.4728929415e-05\n",
      "k_correlation_r:  0.819770908626     k_correlation_i:  1.00000538692\n",
      "3 1 x_correlation:  (-2.43158574137e-05-5.6182862661e-06j)     abs(x_correlation):  2.49564833727e-05\n",
      "k_correlation_r:  0.783221438331     k_correlation_i:  1.00000548673\n",
      "3 2 x_correlation:  (-7.68566322e-06-3.3736715787e-05j)     abs(x_correlation):  3.46010897404e-05\n",
      "k_correlation_r:  0.665462172686     k_correlation_i:  1.00000430922\n",
      "3 3 x_correlation:  (6.21903380878e-05-4.75301762618e-05j)     abs(x_correlation):  7.82735958478e-05\n",
      "k_correlation_r:  0.187408223686     k_correlation_i:  1.00000144738\n",
      "4 0 x_correlation:  (-0.243453580874-0.0130220905712j)     abs(x_correlation):  0.243801601478\n",
      "k_correlation_r:  0.834288333529     k_correlation_i:  0.994443537314\n",
      "4 1 x_correlation:  (0.170198008907-0.147973422809j)     abs(x_correlation):  0.225529368584\n",
      "k_correlation_r:  0.800682917305     k_correlation_i:  0.994340587026\n",
      "4 2 x_correlation:  (0.0151470545864-0.00636082321049j)     abs(x_correlation):  0.0164284306785\n",
      "k_correlation_r:  0.692409141947     k_correlation_i:  0.99555516265\n",
      "4 3 x_correlation:  (0.478154869702+0.327954038327j)     abs(x_correlation):  0.57981542811\n",
      "k_correlation_r:  0.25286236319     k_correlation_i:  0.998507068757\n",
      "X :  [7000000000000.0, 6950000000000.0, 6850000000000.0, 6650000000000.0, 6450000000000.0, 6250000000000.0, 6050000000000.0, 5850000000000.0, 5650000000000.0, 5450000000000.0, 5250000000000.0, 5050000000000.0, 4850000000000.0, 4650000000000.0, 4450000000000.0, 4250000000000.0, 4050000000000.0]\n",
      "Y :  [[(9.0264198593920089-1.0265850275942863j)], [(8.9591509490803887-1.0248428143216293j)], [(8.8250554453441765-1.0213873265953377j)], [(8.5585964224031823-1.0145863243291824j)], [(8.2943834560896317-1.0079245347408612j)], [(8.0323500935623926-1.0013955543194086j)], [(7.7724369581080106-0.99499398313867937j)], [(7.514589631061205-0.98871676944562481j)], [(7.258763165805771-0.98256238682030228j)], [(7.0049175938053851-0.97652130310611174j)], [(6.7530093091440699-0.97058404763619255j)], [(6.5029986638359283-0.96474407348038327j)], [(6.2548497421581803-0.95899303239179656j)], [(6.0085276451703766-0.95332020226361569j)], [(5.7639986714177329-0.94771148236624303j)], [(5.5212310019493929-0.94214330023901227j)], [(5.2801971939104995-0.93657063085066661j)]]\n",
      "X :  [7000000000000.0, 6950000000000.0, 6850000000000.0, 6650000000000.0, 6450000000000.0, 6250000000000.0, 6050000000000.0, 5850000000000.0, 5650000000000.0, 5450000000000.0, 5250000000000.0, 5050000000000.0, 4850000000000.0, 4650000000000.0, 4450000000000.0, 4250000000000.0, 4050000000000.0]\n",
      "Y :  [[(8.0232073158584836-1.0038177634322727j)], [(7.9580318024293435-1.002165067653527j)], [(7.8280933139952493-0.99888371498477257j)], [(7.5698373817955931-0.99241010085502668j)], [(7.3136932127065855-0.98604443809278242j)], [(7.0596085026341342-0.97977554145591095j)], [(6.8075371305561374-0.97359284654969247j)], [(6.5574373335614329-0.96748716557405556j)], [(6.3092748166396113-0.9614511664337817j)], [(6.0630218535066458-0.95547378216544254j)], [(5.8186517398008499-0.94954680963997151j)], [(5.5761431695747739-0.94367608673403425j)], [(5.3354794279992186-0.9378981947347097j)], [(5.0966347273222867-0.93231809097391694j)], [(4.8595367153326663-0.92717364591425044j)], [(4.6239798167363606-0.92292684758583232j)], [(4.3894683045966207-0.92037244078827407j)]]\n",
      "X :  [7000000000000.0, 6950000000000.0, 6850000000000.0, 6650000000000.0, 6450000000000.0, 6250000000000.0, 6050000000000.0, 5850000000000.0, 5650000000000.0, 5450000000000.0, 5250000000000.0, 5050000000000.0, 4850000000000.0, 4650000000000.0, 4450000000000.0, 4250000000000.0, 4050000000000.0]\n",
      "Y :  [[(6.5956702117118349-0.78791361784606873j)], [(6.5435530246973519-0.78802249083072595j)], [(6.4391320917083572-0.78834760985526786j)], [(6.2293811334969185-0.7894861249931886j)], [(6.0180579613309053-0.79141024897694101j)], [(5.8046345497448524-0.79432853850880258j)], [(5.5884413350732611-0.79852240627067517j)], [(5.368619202567892-0.80437522758025648j)], [(5.1440509634386773-0.81241607687996109j)], [(4.9132683828200285-0.82338117543705347j)], [(4.6743175995161046-0.8383148983460913j)], [(4.4245647702757411-0.85871531442195226j)], [(4.1604339167452462-0.88679535356905737j)], [(3.877037422780544-0.92593969254811115j)], [(3.5677148568018668-0.98160065240720229j)], [(3.2235927485300775-1.0632398312221838j)], [(2.8341879494083608-1.1885173849669517j)]]\n",
      "X :  [7000000000000.0, 6950000000000.0, 6850000000000.0, 6650000000000.0, 6450000000000.0, 6250000000000.0, 6050000000000.0, 5850000000000.0, 5650000000000.0, 5450000000000.0, 5250000000000.0, 5050000000000.0, 4850000000000.0, 4650000000000.0, 4450000000000.0, 4250000000000.0, 4050000000000.0]\n",
      "Y :  [[(6.2737880213737869-0.83870302667178354j)], [(6.2130298312009069-0.84076827627467954j)], [(6.0903511298235351-0.84530657527834485j)], [(5.8397096988549269-0.85626279522147908j)], [(5.580619695053235-0.87030920913645859j)], [(5.3110009133316254-0.88837921927722785j)], [(5.0281827942839818-0.91179539888921979j)], [(4.7286956697010751-0.94249855324883391j)], [(4.4079744733559121-0.98345432903454566j)], [(4.0599805372069566-1.039443234787458j)], [(3.6767770262152428-1.1186428471058749j)], [(3.2486663163422-1.2359996001677609j)], [(2.7675710930930602-1.4201967346649025j)], [(2.2445842948598753-1.7225236426241923j)], [(1.752594825411963-2.1916902252273749j)], [(1.3947765144486235-2.7794959465476055j)], None]\n",
      "X :  [7000000000000.0, 6950000000000.0, 6850000000000.0, 6650000000000.0, 6450000000000.0, 6250000000000.0, 6050000000000.0, 5850000000000.0, 5650000000000.0, 5450000000000.0, 5250000000000.0, 5050000000000.0, 4850000000000.0]\n",
      "Y :  [[(5.722674439701902-0.93216942168447792j)], [(5.6464262552655367-0.93829747873521585j)], [(5.4908645252106938-0.95174727681905913j)], [(5.1657822429627718-0.98437391926430307j)], [(4.8182412765899674-1.0271412924220784j)], [(4.4423714911030308-1.0846159873516263j)], [(4.0305299081864217-1.164515743117954j)], [(3.5733189335176081-1.2807297582230945j)], [(3.0622557973877278-1.4595334940394458j)], [(2.5039824932274826-1.7484192778097865j)], [(1.9589728516656573-2.2006276441259631j)], [(1.5326326870612297-2.789266340286265j)], None]\n",
      "----------------------------------------------------------------------------------------------------\n"
     ]
    },
    {
     "name": "stdout",
     "output_type": "stream",
     "text": [
      "frequency: 3850000000000.0   k_init: (5.0408972473-0.930993474201j)\n"
     ]
    },
    {
     "data": {
      "text/latex": [
       "$$Eqs_\\text{ freespace } = \\left[\\begin{matrix}376.730313461771 H_{{y}} + 1.23931043097063 \\cdot 10^{-5} i \\frac{d}{d x} E_{{z}}\\\\- 376.730313461771 H_{{x}} + 1.23931043097063 \\cdot 10^{-5} i \\frac{d}{d y} E_{{z}}\\\\- 0.00265441872943807 E_{{y}} + 1.23931043097063 \\cdot 10^{-5} i \\frac{d}{d x} H_{{z}}\\\\0.00265441872943807 E_{{x}} + 1.23931043097063 \\cdot 10^{-5} i \\frac{d}{d y} H_{{z}}\\\\- 214.185135790322 i E_{{z}} - \\frac{d}{d y} H_{{x}} + \\frac{d}{d x} H_{{y}}\\\\30398381.5553552 i H_{{z}} - \\frac{d}{d y} E_{{x}} + \\frac{d}{d x} E_{{y}}\\end{matrix}\\right]$$"
      ],
      "text/plain": [
       "<IPython.core.display.Math at 0x7f537516f048>"
      ]
     },
     "metadata": {},
     "output_type": "display_data"
    },
    {
     "name": "stdout",
     "output_type": "stream",
     "text": [
      "Eq1 boundary equations \n"
     ]
    },
    {
     "data": {
      "text/latex": [
       "$$EQs_\\text{ freespace }-b[0] = \\left[\\begin{matrix}376.730313461771 H_{{y}} & 1.23931043097063 \\cdot 10^{-5} i \\frac{d}{d x} E_{{z}}\\end{matrix}\\right]$$"
      ],
      "text/plain": [
       "<IPython.core.display.Math at 0x7f537af5c0b8>"
      ]
     },
     "metadata": {},
     "output_type": "display_data"
    },
    {
     "data": {
      "text/latex": [
       "$$EQs_\\text{ freespace }-b[1] = \\left[\\begin{matrix}- 376.730313461771 H_{{x}} & 1.23931043097063 \\cdot 10^{-5} i \\frac{d}{d y} E_{{z}}\\end{matrix}\\right]$$"
      ],
      "text/plain": [
       "<IPython.core.display.Math at 0x7f537af5c0b8>"
      ]
     },
     "metadata": {},
     "output_type": "display_data"
    },
    {
     "data": {
      "text/latex": [
       "$$EQs_\\text{ freespace }-b[2] = \\left[\\begin{matrix}- 0.00265441872943807 E_{{y}} & 1.23931043097063 \\cdot 10^{-5} i \\frac{d}{d x} H_{{z}}\\end{matrix}\\right]$$"
      ],
      "text/plain": [
       "<IPython.core.display.Math at 0x7f537af5c0b8>"
      ]
     },
     "metadata": {},
     "output_type": "display_data"
    },
    {
     "data": {
      "text/latex": [
       "$$EQs_\\text{ freespace }-b[3] = \\left[\\begin{matrix}0.00265441872943807 E_{{x}} & 1.23931043097063 \\cdot 10^{-5} i \\frac{d}{d y} H_{{z}}\\end{matrix}\\right]$$"
      ],
      "text/plain": [
       "<IPython.core.display.Math at 0x7f537af5c0b8>"
      ]
     },
     "metadata": {},
     "output_type": "display_data"
    },
    {
     "data": {
      "text/latex": [
       "$$EQs_\\text{ freespace }-b[4] = \\left[\\begin{matrix}- 214.185135790322 i E_{{z}} & - \\frac{d}{d y} H_{{x}} & \\frac{d}{d x} H_{{y}}\\end{matrix}\\right]$$"
      ],
      "text/plain": [
       "<IPython.core.display.Math at 0x7f537af5c0b8>"
      ]
     },
     "metadata": {},
     "output_type": "display_data"
    },
    {
     "data": {
      "text/latex": [
       "$$EQs_\\text{ freespace }-b[5] = \\left[\\begin{matrix}30398381.5553552 i H_{{z}} & - \\frac{d}{d y} E_{{x}} & \\frac{d}{d x} E_{{y}}\\end{matrix}\\right]$$"
      ],
      "text/plain": [
       "<IPython.core.display.Math at 0x7f537af5c0b8>"
      ]
     },
     "metadata": {},
     "output_type": "display_data"
    },
    {
     "name": "stdout",
     "output_type": "stream",
     "text": [
      "[[(6109.5116088852292-28423.40021339048j), 0.0, (-3592.0941681385834-1587.5345727222032j)], [0.0, 0.0, 0.0], [(3592.0941681385834+1587.5345727222032j), 0.0, (6109.5116088852292-28423.40021339048j)]]\n"
     ]
    },
    {
     "data": {
      "text/latex": [
       "$$Eqs_\\text{ graphene } = \\left[\\begin{matrix}376.730313461771 H_{{y}} + 1.23931043097063 \\cdot 10^{-5} i \\frac{d}{d x} E_{{z}}\\\\- 376.730313461771 H_{{x}} + 1.23931043097063 \\cdot 10^{-5} i \\frac{d}{d y} E_{{z}}\\\\- 0.00265441872943807 E_{{y}} + 1.23931043097063 \\cdot 10^{-5} i \\frac{d}{d x} H_{{z}}\\\\- 0.34959974495164 E_{{x}} - 0.0757158146502765 i E_{{x}} - 0.0196744815550114 E_{{z}} + 0.0445171977160293 i E_{{z}} + 1.23931043097063 \\cdot 10^{-5} i \\frac{d}{d y} H_{{z}}\\\\- 3592.09416813858 E_{{x}} - 1587.5345727222 i E_{{x}} - 6109.51160888523 E_{{z}} + 28209.2150776002 i E_{{z}} - \\frac{d}{d y} H_{{x}} + \\frac{d}{d x} H_{{y}}\\\\30398381.5553552 i H_{{z}} - \\frac{d}{d y} E_{{x}} + \\frac{d}{d x} E_{{y}}\\end{matrix}\\right]$$"
      ],
      "text/plain": [
       "<IPython.core.display.Math at 0x7f537a9d6a90>"
      ]
     },
     "metadata": {},
     "output_type": "display_data"
    },
    {
     "name": "stdout",
     "output_type": "stream",
     "text": [
      "Eq1 boundary equations \n"
     ]
    },
    {
     "data": {
      "text/latex": [
       "$$EQs_\\text{ graphene }-b[0] = \\left[\\begin{matrix}376.730313461771 H_{{y}} & 1.23931043097063 \\cdot 10^{-5} i \\frac{d}{d x} E_{{z}}\\end{matrix}\\right]$$"
      ],
      "text/plain": [
       "<IPython.core.display.Math at 0x7f53751b2b70>"
      ]
     },
     "metadata": {},
     "output_type": "display_data"
    },
    {
     "data": {
      "text/latex": [
       "$$EQs_\\text{ graphene }-b[1] = \\left[\\begin{matrix}- 376.730313461771 H_{{x}} & 1.23931043097063 \\cdot 10^{-5} i \\frac{d}{d y} E_{{z}}\\end{matrix}\\right]$$"
      ],
      "text/plain": [
       "<IPython.core.display.Math at 0x7f53751b2cc0>"
      ]
     },
     "metadata": {},
     "output_type": "display_data"
    },
    {
     "data": {
      "text/latex": [
       "$$EQs_\\text{ graphene }-b[2] = \\left[\\begin{matrix}0 & - 0.00265441872943807 E_{{y}} & 0 & 1.23931043097063 \\cdot 10^{-5} i \\frac{d}{d x} H_{{z}}\\end{matrix}\\right]$$"
      ],
      "text/plain": [
       "<IPython.core.display.Math at 0x7f53751b2b70>"
      ]
     },
     "metadata": {},
     "output_type": "display_data"
    },
    {
     "data": {
      "text/latex": [
       "$$EQs_\\text{ graphene }-b[3] = \\left[\\begin{matrix}1.23931043097063 \\cdot 10^{-5} E_{{x}} \\left(214.185135790322 - i \\left(6109.51160888523 - 28423.4002133905 i\\right)\\right) & 0 & - 1.23931043097063 \\cdot 10^{-5} i E_{{z}} \\left(-3592.09416813858 - 1587.5345727222 i\\right) & 1.23931043097063 \\cdot 10^{-5} i \\frac{d}{d y} H_{{z}}\\end{matrix}\\right]$$"
      ],
      "text/plain": [
       "<IPython.core.display.Math at 0x7f53751b2cc0>"
      ]
     },
     "metadata": {},
     "output_type": "display_data"
    },
    {
     "data": {
      "text/latex": [
       "$$EQs_\\text{ graphene }-b[4] = \\left[\\begin{matrix}- E_{{x}} \\left(3592.09416813858 + 1587.5345727222 i\\right) & 0 & - E_{{z}} \\left(6109.51160888523 - 28209.2150776002 i\\right) & - \\frac{d}{d y} H_{{x}} & \\frac{d}{d x} H_{{y}}\\end{matrix}\\right]$$"
      ],
      "text/plain": [
       "<IPython.core.display.Math at 0x7f53751b2b70>"
      ]
     },
     "metadata": {},
     "output_type": "display_data"
    },
    {
     "data": {
      "text/latex": [
       "$$EQs_\\text{ graphene }-b[5] = \\left[\\begin{matrix}30398381.5553552 i H_{{z}} & - \\frac{d}{d y} E_{{x}} & \\frac{d}{d x} E_{{y}}\\end{matrix}\\right]$$"
      ],
      "text/plain": [
       "<IPython.core.display.Math at 0x7f53751b2cc0>"
      ]
     },
     "metadata": {},
     "output_type": "display_data"
    },
    {
     "name": "stdout",
     "output_type": "stream",
     "text": [
      "initial matrix nnz 1843027 0:00:15\n",
      "initial matrix shared nnz 2219743 0:00:07\n",
      "final matrix (application of boundary conditions) nnz:  2219267 0:00:03\n",
      "A_11.shape:  (157356, 157356) A_11.nnz:  157356\n",
      "warning: this inversion mechanism only works for diagonal matrices\n",
      "eliminating z components 0:00:01\n",
      "A_reduced nnz:  2947718\n",
      "solving eigenvalues 0:04:19\n",
      "[ 5.04088775 -9.30901827e-01j  4.15498084 -9.20757379e-01j\n",
      "  2.39335635 -1.39186297e+00j  0.94607432 -6.12762341e-04j]\n",
      "(359926, 4)\n",
      "0 0 x_correlation:  (0.407344161882-0.911350150503j)     abs(x_correlation):  0.998242637359\n",
      "k_correlation_r:  1.8848617169e-06     k_correlation_i:  9.84402070937e-05\n",
      "0 1 x_correlation:  (-0.0842152701123-0.0402656496716j)     abs(x_correlation):  0.0933463136046\n",
      "k_correlation_r:  0.175541613223     k_correlation_i:  0.0122369525537\n",
      "0 2 x_correlation:  (-0.402925858129+0.201780707669j)     abs(x_correlation):  0.450627008885\n",
      "k_correlation_r:  0.523992482994     k_correlation_i:  0.314219109215\n",
      "1 0 x_correlation:  (-0.103851870772-0.0844606827185j)     abs(x_correlation):  0.133861189252\n",
      "k_correlation_r:  0.175745777868     k_correlation_i:  0.0109948085517\n",
      "1 1 x_correlation:  (-0.76783341977+0.636605282012j)     abs(x_correlation):  0.997413878789\n",
      "k_correlation_r:  0.000245750471015     k_correlation_i:  0.00135426953515\n",
      "1 2 x_correlation:  (-0.353374039982-0.169405814698j)     abs(x_correlation):  0.391882051371\n",
      "k_correlation_r:  0.422500234737     k_correlation_i:  0.321692366073\n",
      "2 0 x_correlation:  (0.448516114947+0.18374765263j)     abs(x_correlation):  0.484695683099\n",
      "k_correlation_r:  0.525212233375     k_correlation_i:  0.331117001325\n",
      "2 1 x_correlation:  (-0.434284322526+0.053238663537j)     abs(x_correlation):  0.437535402096\n",
      "k_correlation_r:  0.424120526699     k_correlation_i:  0.339367130083\n",
      "2 2 x_correlation:  (-0.467126734251-0.880937342273j)     abs(x_correlation):  0.997124860217\n",
      "k_correlation_r:  0.00256058029917     k_correlation_i:  0.0247363805544\n",
      "3 0 x_correlation:  (0.0055502202739+0.00400527440858j)     abs(x_correlation):  0.00684449911803\n",
      "k_correlation_r:  0.812320253093     k_correlation_i:  0.999341818865\n",
      "3 1 x_correlation:  (0.0039335811558-0.00301839210259j)     abs(x_correlation):  0.00495820043909\n",
      "k_correlation_r:  0.772359522726     k_correlation_i:  0.999333599354\n",
      "3 2 x_correlation:  (-0.000597945288433-0.00389355294292j)     abs(x_correlation):  0.00393919954906\n",
      "k_correlation_r:  0.605720300724     k_correlation_i:  0.999548587518\n",
      "X :  [7000000000000.0, 6950000000000.0, 6850000000000.0, 6650000000000.0, 6450000000000.0, 6250000000000.0, 6050000000000.0, 5850000000000.0, 5650000000000.0, 5450000000000.0, 5250000000000.0, 5050000000000.0, 4850000000000.0, 4650000000000.0, 4450000000000.0, 4250000000000.0, 4050000000000.0, 3850000000000.0]\n",
      "Y :  [[(9.0264198593920089-1.0265850275942863j)], [(8.9591509490803887-1.0248428143216293j)], [(8.8250554453441765-1.0213873265953377j)], [(8.5585964224031823-1.0145863243291824j)], [(8.2943834560896317-1.0079245347408612j)], [(8.0323500935623926-1.0013955543194086j)], [(7.7724369581080106-0.99499398313867937j)], [(7.514589631061205-0.98871676944562481j)], [(7.258763165805771-0.98256238682030228j)], [(7.0049175938053851-0.97652130310611174j)], [(6.7530093091440699-0.97058404763619255j)], [(6.5029986638359283-0.96474407348038327j)], [(6.2548497421581803-0.95899303239179656j)], [(6.0085276451703766-0.95332020226361569j)], [(5.7639986714177329-0.94771148236624303j)], [(5.5212310019493929-0.94214330023901227j)], [(5.2801971939104995-0.93657063085066661j)], [(5.0408877459070469-0.93090182701082791j)]]\n",
      "X :  [7000000000000.0, 6950000000000.0, 6850000000000.0, 6650000000000.0, 6450000000000.0, 6250000000000.0, 6050000000000.0, 5850000000000.0, 5650000000000.0, 5450000000000.0, 5250000000000.0, 5050000000000.0, 4850000000000.0, 4650000000000.0, 4450000000000.0, 4250000000000.0, 4050000000000.0, 3850000000000.0]\n",
      "Y :  [[(8.0232073158584836-1.0038177634322727j)], [(7.9580318024293435-1.002165067653527j)], [(7.8280933139952493-0.99888371498477257j)], [(7.5698373817955931-0.99241010085502668j)], [(7.3136932127065855-0.98604443809278242j)], [(7.0596085026341342-0.97977554145591095j)], [(6.8075371305561374-0.97359284654969247j)], [(6.5574373335614329-0.96748716557405556j)], [(6.3092748166396113-0.9614511664337817j)], [(6.0630218535066458-0.95547378216544254j)], [(5.8186517398008499-0.94954680963997151j)], [(5.5761431695747739-0.94367608673403425j)], [(5.3354794279992186-0.9378981947347097j)], [(5.0966347273222867-0.93231809097391694j)], [(4.8595367153326663-0.92717364591425044j)], [(4.6239798167363606-0.92292684758583232j)], [(4.3894683045966207-0.92037244078827407j)], [(4.1549808394212153-0.92075737918946254j)]]\n",
      "X :  [7000000000000.0, 6950000000000.0, 6850000000000.0, 6650000000000.0, 6450000000000.0, 6250000000000.0, 6050000000000.0, 5850000000000.0, 5650000000000.0, 5450000000000.0, 5250000000000.0, 5050000000000.0, 4850000000000.0, 4650000000000.0, 4450000000000.0, 4250000000000.0, 4050000000000.0, 3850000000000.0]\n",
      "Y :  [[(6.5956702117118349-0.78791361784606873j)], [(6.5435530246973519-0.78802249083072595j)], [(6.4391320917083572-0.78834760985526786j)], [(6.2293811334969185-0.7894861249931886j)], [(6.0180579613309053-0.79141024897694101j)], [(5.8046345497448524-0.79432853850880258j)], [(5.5884413350732611-0.79852240627067517j)], [(5.368619202567892-0.80437522758025648j)], [(5.1440509634386773-0.81241607687996109j)], [(4.9132683828200285-0.82338117543705347j)], [(4.6743175995161046-0.8383148983460913j)], [(4.4245647702757411-0.85871531442195226j)], [(4.1604339167452462-0.88679535356905737j)], [(3.877037422780544-0.92593969254811115j)], [(3.5677148568018668-0.98160065240720229j)], [(3.2235927485300775-1.0632398312221838j)], [(2.8341879494083608-1.1885173849669517j)], [(2.3933563458327187-1.3918629656390147j)]]\n",
      "X :  [7000000000000.0, 6950000000000.0, 6850000000000.0, 6650000000000.0, 6450000000000.0, 6250000000000.0, 6050000000000.0, 5850000000000.0, 5650000000000.0, 5450000000000.0, 5250000000000.0, 5050000000000.0, 4850000000000.0, 4650000000000.0, 4450000000000.0, 4250000000000.0, 4050000000000.0]\n",
      "Y :  [[(6.2737880213737869-0.83870302667178354j)], [(6.2130298312009069-0.84076827627467954j)], [(6.0903511298235351-0.84530657527834485j)], [(5.8397096988549269-0.85626279522147908j)], [(5.580619695053235-0.87030920913645859j)], [(5.3110009133316254-0.88837921927722785j)], [(5.0281827942839818-0.91179539888921979j)], [(4.7286956697010751-0.94249855324883391j)], [(4.4079744733559121-0.98345432903454566j)], [(4.0599805372069566-1.039443234787458j)], [(3.6767770262152428-1.1186428471058749j)], [(3.2486663163422-1.2359996001677609j)], [(2.7675710930930602-1.4201967346649025j)], [(2.2445842948598753-1.7225236426241923j)], [(1.752594825411963-2.1916902252273749j)], [(1.3947765144486235-2.7794959465476055j)], None]\n",
      "X :  [7000000000000.0, 6950000000000.0, 6850000000000.0, 6650000000000.0, 6450000000000.0, 6250000000000.0, 6050000000000.0, 5850000000000.0, 5650000000000.0, 5450000000000.0, 5250000000000.0, 5050000000000.0, 4850000000000.0]\n",
      "Y :  [[(5.722674439701902-0.93216942168447792j)], [(5.6464262552655367-0.93829747873521585j)], [(5.4908645252106938-0.95174727681905913j)], [(5.1657822429627718-0.98437391926430307j)], [(4.8182412765899674-1.0271412924220784j)], [(4.4423714911030308-1.0846159873516263j)], [(4.0305299081864217-1.164515743117954j)], [(3.5733189335176081-1.2807297582230945j)], [(3.0622557973877278-1.4595334940394458j)], [(2.5039824932274826-1.7484192778097865j)], [(1.9589728516656573-2.2006276441259631j)], [(1.5326326870612297-2.789266340286265j)], None]\n",
      "----------------------------------------------------------------------------------------------------\n",
      "frequency: 3650000000000.0   k_init: (4.80330265794-0.92513688872j)\n"
     ]
    },
    {
     "data": {
      "text/latex": [
       "$$Eqs_\\text{ freespace } = \\left[\\begin{matrix}376.730313461771 H_{{y}} + 1.30721785184574 \\cdot 10^{-5} i \\frac{d}{d x} E_{{z}}\\\\- 376.730313461771 H_{{x}} + 1.30721785184574 \\cdot 10^{-5} i \\frac{d}{d y} E_{{z}}\\\\- 0.00265441872943807 E_{{y}} + 1.30721785184574 \\cdot 10^{-5} i \\frac{d}{d x} H_{{z}}\\\\0.00265441872943807 E_{{x}} + 1.30721785184574 \\cdot 10^{-5} i \\frac{d}{d y} H_{{z}}\\\\- 203.058635229785 i E_{{z}} - \\frac{d}{d y} H_{{x}} + \\frac{d}{d x} H_{{y}}\\\\28819244.8511809 i H_{{z}} - \\frac{d}{d y} E_{{x}} + \\frac{d}{d x} E_{{y}}\\end{matrix}\\right]$$"
      ],
      "text/plain": [
       "<IPython.core.display.Math at 0x7f537ad70518>"
      ]
     },
     "metadata": {},
     "output_type": "display_data"
    },
    {
     "name": "stdout",
     "output_type": "stream",
     "text": [
      "Eq1 boundary equations \n"
     ]
    },
    {
     "data": {
      "text/latex": [
       "$$EQs_\\text{ freespace }-b[0] = \\left[\\begin{matrix}376.730313461771 H_{{y}} & 1.30721785184574 \\cdot 10^{-5} i \\frac{d}{d x} E_{{z}}\\end{matrix}\\right]$$"
      ],
      "text/plain": [
       "<IPython.core.display.Math at 0x7f53751c7668>"
      ]
     },
     "metadata": {},
     "output_type": "display_data"
    },
    {
     "data": {
      "text/latex": [
       "$$EQs_\\text{ freespace }-b[1] = \\left[\\begin{matrix}- 376.730313461771 H_{{x}} & 1.30721785184574 \\cdot 10^{-5} i \\frac{d}{d y} E_{{z}}\\end{matrix}\\right]$$"
      ],
      "text/plain": [
       "<IPython.core.display.Math at 0x7f53751c7668>"
      ]
     },
     "metadata": {},
     "output_type": "display_data"
    },
    {
     "data": {
      "text/latex": [
       "$$EQs_\\text{ freespace }-b[2] = \\left[\\begin{matrix}- 0.00265441872943807 E_{{y}} & 1.30721785184574 \\cdot 10^{-5} i \\frac{d}{d x} H_{{z}}\\end{matrix}\\right]$$"
      ],
      "text/plain": [
       "<IPython.core.display.Math at 0x7f53751da4a8>"
      ]
     },
     "metadata": {},
     "output_type": "display_data"
    },
    {
     "data": {
      "text/latex": [
       "$$EQs_\\text{ freespace }-b[3] = \\left[\\begin{matrix}0.00265441872943807 E_{{x}} & 1.30721785184574 \\cdot 10^{-5} i \\frac{d}{d y} H_{{z}}\\end{matrix}\\right]$$"
      ],
      "text/plain": [
       "<IPython.core.display.Math at 0x7f53751c7668>"
      ]
     },
     "metadata": {},
     "output_type": "display_data"
    },
    {
     "data": {
      "text/latex": [
       "$$EQs_\\text{ freespace }-b[4] = \\left[\\begin{matrix}- 203.058635229785 i E_{{z}} & - \\frac{d}{d y} H_{{x}} & \\frac{d}{d x} H_{{y}}\\end{matrix}\\right]$$"
      ],
      "text/plain": [
       "<IPython.core.display.Math at 0x7f53751da4a8>"
      ]
     },
     "metadata": {},
     "output_type": "display_data"
    },
    {
     "data": {
      "text/latex": [
       "$$EQs_\\text{ freespace }-b[5] = \\left[\\begin{matrix}28819244.8511809 i H_{{z}} & - \\frac{d}{d y} E_{{x}} & \\frac{d}{d x} E_{{y}}\\end{matrix}\\right]$$"
      ],
      "text/plain": [
       "<IPython.core.display.Math at 0x7f53751c7668>"
      ]
     },
     "metadata": {},
     "output_type": "display_data"
    },
    {
     "name": "stdout",
     "output_type": "stream",
     "text": [
      "[[(6802.2470817436424-29884.671689305018j), 0.0, (-3944.0168145429107-1852.6810484537186j)], [0.0, 0.0, 0.0], [(3944.0168145429107+1852.6810484537186j), 0.0, (6802.2470817436424-29884.671689305018j)]]\n"
     ]
    },
    {
     "data": {
      "text/latex": [
       "$$Eqs_\\text{ graphene } = \\left[\\begin{matrix}376.730313461771 H_{{y}} + 1.30721785184574 \\cdot 10^{-5} i \\frac{d}{d x} E_{{z}}\\\\- 376.730313461771 H_{{x}} + 1.30721785184574 \\cdot 10^{-5} i \\frac{d}{d y} E_{{z}}\\\\- 0.00265441872943807 E_{{y}} + 1.30721785184574 \\cdot 10^{-5} i \\frac{d}{d x} H_{{z}}\\\\- 0.388003344558646 E_{{x}} - 0.0889201881792086 i E_{{x}} - 0.0242185774031498 E_{{z}} + 0.0515568918795025 i E_{{z}} + 1.30721785184574 \\cdot 10^{-5} i \\frac{d}{d y} H_{{z}}\\\\- 3944.01681454291 E_{{x}} - 1852.68104845372 i E_{{x}} - 6802.24708174364 E_{{z}} + 29681.6130540752 i E_{{z}} - \\frac{d}{d y} H_{{x}} + \\frac{d}{d x} H_{{y}}\\\\28819244.8511809 i H_{{z}} - \\frac{d}{d y} E_{{x}} + \\frac{d}{d x} E_{{y}}\\end{matrix}\\right]$$"
      ],
      "text/plain": [
       "<IPython.core.display.Math at 0x7f537ad33828>"
      ]
     },
     "metadata": {},
     "output_type": "display_data"
    },
    {
     "name": "stdout",
     "output_type": "stream",
     "text": [
      "Eq1 boundary equations \n"
     ]
    },
    {
     "data": {
      "text/latex": [
       "$$EQs_\\text{ graphene }-b[0] = \\left[\\begin{matrix}376.730313461771 H_{{y}} & 1.30721785184574 \\cdot 10^{-5} i \\frac{d}{d x} E_{{z}}\\end{matrix}\\right]$$"
      ],
      "text/plain": [
       "<IPython.core.display.Math at 0x7f537ad16320>"
      ]
     },
     "metadata": {},
     "output_type": "display_data"
    },
    {
     "data": {
      "text/latex": [
       "$$EQs_\\text{ graphene }-b[1] = \\left[\\begin{matrix}- 376.730313461771 H_{{x}} & 1.30721785184574 \\cdot 10^{-5} i \\frac{d}{d y} E_{{z}}\\end{matrix}\\right]$$"
      ],
      "text/plain": [
       "<IPython.core.display.Math at 0x7f537ac22080>"
      ]
     },
     "metadata": {},
     "output_type": "display_data"
    },
    {
     "data": {
      "text/latex": [
       "$$EQs_\\text{ graphene }-b[2] = \\left[\\begin{matrix}0 & - 0.00265441872943807 E_{{y}} & 0 & 1.30721785184574 \\cdot 10^{-5} i \\frac{d}{d x} H_{{z}}\\end{matrix}\\right]$$"
      ],
      "text/plain": [
       "<IPython.core.display.Math at 0x7f537ad16ba8>"
      ]
     },
     "metadata": {},
     "output_type": "display_data"
    },
    {
     "data": {
      "text/latex": [
       "$$EQs_\\text{ graphene }-b[3] = \\left[\\begin{matrix}1.30721785184574 \\cdot 10^{-5} E_{{x}} \\left(203.058635229785 - i \\left(6802.24708174364 - 29884.671689305 i\\right)\\right) & 0 & - 1.30721785184574 \\cdot 10^{-5} i E_{{z}} \\left(-3944.01681454291 - 1852.68104845372 i\\right) & 1.30721785184574 \\cdot 10^{-5} i \\frac{d}{d y} H_{{z}}\\end{matrix}\\right]$$"
      ],
      "text/plain": [
       "<IPython.core.display.Math at 0x7f537ac22cf8>"
      ]
     },
     "metadata": {},
     "output_type": "display_data"
    },
    {
     "data": {
      "text/latex": [
       "$$EQs_\\text{ graphene }-b[4] = \\left[\\begin{matrix}- E_{{x}} \\left(3944.01681454291 + 1852.68104845372 i\\right) & 0 & - E_{{z}} \\left(6802.24708174364 - 29681.6130540752 i\\right) & - \\frac{d}{d y} H_{{x}} & \\frac{d}{d x} H_{{y}}\\end{matrix}\\right]$$"
      ],
      "text/plain": [
       "<IPython.core.display.Math at 0x7f537ac22518>"
      ]
     },
     "metadata": {},
     "output_type": "display_data"
    },
    {
     "data": {
      "text/latex": [
       "$$EQs_\\text{ graphene }-b[5] = \\left[\\begin{matrix}28819244.8511809 i H_{{z}} & - \\frac{d}{d y} E_{{x}} & \\frac{d}{d x} E_{{y}}\\end{matrix}\\right]$$"
      ],
      "text/plain": [
       "<IPython.core.display.Math at 0x7f537ac22cf8>"
      ]
     },
     "metadata": {},
     "output_type": "display_data"
    },
    {
     "name": "stdout",
     "output_type": "stream",
     "text": [
      "initial matrix nnz 1843027 0:00:16\n",
      "initial matrix shared nnz 2219743 0:00:09\n",
      "final matrix (application of boundary conditions) nnz:  2219267 0:00:03\n",
      "A_11.shape:  (157356, 157356) A_11.nnz:  157356\n",
      "warning: this inversion mechanism only works for diagonal matrices\n",
      "eliminating z components 0:00:01\n",
      "A_reduced nnz:  2947492\n",
      "solving eigenvalues 0:04:05\n",
      "[ 4.80334781 -9.24952732e-01j  3.91864836 -9.25931175e-01j\n",
      "  1.92599981 -1.72938203e+00j  0.94005035 -1.54190866e-04j]\n",
      "(359926, 4)\n",
      "0 0 x_correlation:  (-0.932168787081+0.357186712611j)     abs(x_correlation):  0.998258982065\n",
      "k_correlation_r:  9.39995559383e-06     k_correlation_i:  0.000199058833689\n",
      "0 1 x_correlation:  (-0.0902979441325-0.0948213513265j)     abs(x_correlation):  0.130938181528\n",
      "k_correlation_r:  0.183794807925     k_correlation_i:  0.00094174462105\n",
      "0 2 x_correlation:  (0.160868436096+0.449284978134j)     abs(x_correlation):  0.477216560179\n",
      "k_correlation_r:  0.604213974644     k_correlation_i:  0.447220652675\n",
      "1 0 x_correlation:  (0.111625940361+0.146731881477j)     abs(x_correlation):  0.184365386131\n",
      "k_correlation_r:  0.184176255596     k_correlation_i:  0.000857824196587\n",
      "1 1 x_correlation:  (-0.642451487006+0.762242986214j)     abs(x_correlation):  0.996874256457\n",
      "k_correlation_r:  0.000476738425878     k_correlation_i:  0.00199746174074\n",
      "1 2 x_correlation:  (-0.0166337858747+0.362771307805j)     abs(x_correlation):  0.36315245366\n",
      "k_correlation_r:  0.514858756592     k_correlation_i:  0.446635906045\n",
      "2 0 x_correlation:  (-0.285491253533+0.42009389372j)     abs(x_correlation):  0.507921387012\n",
      "k_correlation_r:  0.599025931895     k_correlation_i:  0.465047703391\n",
      "2 1 x_correlation:  (0.143996664959+0.382141792079j)     abs(x_correlation):  0.408371630715\n",
      "k_correlation_r:  0.50873836278     k_correlation_i:  0.465657878535\n",
      "2 2 x_correlation:  (0.808291381861+0.584110465652j)     abs(x_correlation):  0.997256232909\n",
      "k_correlation_r:  0.0129293207612     k_correlation_i:  0.0324424886403\n",
      "3 0 x_correlation:  (-0.00183428110076-0.00256144268577j)     abs(x_correlation):  0.00315048818266\n",
      "k_correlation_r:  0.804290835722     k_correlation_i:  0.999833331837\n",
      "3 1 x_correlation:  (-0.00118038265882+3.23025632656e-05j)     abs(x_correlation):  0.00118082457496\n",
      "k_correlation_r:  0.76022288694     k_correlation_i:  0.999833141515\n",
      "3 2 x_correlation:  (-0.00344559354161+0.00337342957778j)     abs(x_correlation):  0.00482204748735\n",
      "k_correlation_r:  0.505522398258     k_correlation_i:  0.999907850938\n",
      "X :  [7000000000000.0, 6950000000000.0, 6850000000000.0, 6650000000000.0, 6450000000000.0, 6250000000000.0, 6050000000000.0, 5850000000000.0, 5650000000000.0, 5450000000000.0, 5250000000000.0, 5050000000000.0, 4850000000000.0, 4650000000000.0, 4450000000000.0, 4250000000000.0, 4050000000000.0, 3850000000000.0, 3650000000000.0]\n",
      "Y :  [[(9.0264198593920089-1.0265850275942863j)], [(8.9591509490803887-1.0248428143216293j)], [(8.8250554453441765-1.0213873265953377j)], [(8.5585964224031823-1.0145863243291824j)], [(8.2943834560896317-1.0079245347408612j)], [(8.0323500935623926-1.0013955543194086j)], [(7.7724369581080106-0.99499398313867937j)], [(7.514589631061205-0.98871676944562481j)], [(7.258763165805771-0.98256238682030228j)], [(7.0049175938053851-0.97652130310611174j)], [(6.7530093091440699-0.97058404763619255j)], [(6.5029986638359283-0.96474407348038327j)], [(6.2548497421581803-0.95899303239179656j)], [(6.0085276451703766-0.95332020226361569j)], [(5.7639986714177329-0.94771148236624303j)], [(5.5212310019493929-0.94214330023901227j)], [(5.2801971939104995-0.93657063085066661j)], [(5.0408877459070469-0.93090182701082791j)], [(4.8033478091954969-0.92495273204950945j)]]\n",
      "X :  [7000000000000.0, 6950000000000.0, 6850000000000.0, 6650000000000.0, 6450000000000.0, 6250000000000.0, 6050000000000.0, 5850000000000.0, 5650000000000.0, 5450000000000.0, 5250000000000.0, 5050000000000.0, 4850000000000.0, 4650000000000.0, 4450000000000.0, 4250000000000.0, 4050000000000.0, 3850000000000.0, 3650000000000.0]\n",
      "Y :  [[(8.0232073158584836-1.0038177634322727j)], [(7.9580318024293435-1.002165067653527j)], [(7.8280933139952493-0.99888371498477257j)], [(7.5698373817955931-0.99241010085502668j)], [(7.3136932127065855-0.98604443809278242j)], [(7.0596085026341342-0.97977554145591095j)], [(6.8075371305561374-0.97359284654969247j)], [(6.5574373335614329-0.96748716557405556j)], [(6.3092748166396113-0.9614511664337817j)], [(6.0630218535066458-0.95547378216544254j)], [(5.8186517398008499-0.94954680963997151j)], [(5.5761431695747739-0.94367608673403425j)], [(5.3354794279992186-0.9378981947347097j)], [(5.0966347273222867-0.93231809097391694j)], [(4.8595367153326663-0.92717364591425044j)], [(4.6239798167363606-0.92292684758583232j)], [(4.3894683045966207-0.92037244078827407j)], [(4.1549808394212153-0.92075737918946254j)], [(3.9186483599056778-0.92593117488577226j)]]\n",
      "X :  [7000000000000.0, 6950000000000.0, 6850000000000.0, 6650000000000.0, 6450000000000.0, 6250000000000.0, 6050000000000.0, 5850000000000.0, 5650000000000.0, 5450000000000.0, 5250000000000.0, 5050000000000.0, 4850000000000.0, 4650000000000.0, 4450000000000.0, 4250000000000.0, 4050000000000.0, 3850000000000.0, 3650000000000.0]\n",
      "Y :  [[(6.5956702117118349-0.78791361784606873j)], [(6.5435530246973519-0.78802249083072595j)], [(6.4391320917083572-0.78834760985526786j)], [(6.2293811334969185-0.7894861249931886j)], [(6.0180579613309053-0.79141024897694101j)], [(5.8046345497448524-0.79432853850880258j)], [(5.5884413350732611-0.79852240627067517j)], [(5.368619202567892-0.80437522758025648j)], [(5.1440509634386773-0.81241607687996109j)], [(4.9132683828200285-0.82338117543705347j)], [(4.6743175995161046-0.8383148983460913j)], [(4.4245647702757411-0.85871531442195226j)], [(4.1604339167452462-0.88679535356905737j)], [(3.877037422780544-0.92593969254811115j)], [(3.5677148568018668-0.98160065240720229j)], [(3.2235927485300775-1.0632398312221838j)], [(2.8341879494083608-1.1885173849669517j)], [(2.3933563458327187-1.3918629656390147j)], [(1.9259998070949513-1.7293820301048439j)]]\n",
      "X :  [7000000000000.0, 6950000000000.0, 6850000000000.0, 6650000000000.0, 6450000000000.0, 6250000000000.0, 6050000000000.0, 5850000000000.0, 5650000000000.0, 5450000000000.0, 5250000000000.0, 5050000000000.0, 4850000000000.0, 4650000000000.0, 4450000000000.0, 4250000000000.0, 4050000000000.0]\n",
      "Y :  [[(6.2737880213737869-0.83870302667178354j)], [(6.2130298312009069-0.84076827627467954j)], [(6.0903511298235351-0.84530657527834485j)], [(5.8397096988549269-0.85626279522147908j)], [(5.580619695053235-0.87030920913645859j)], [(5.3110009133316254-0.88837921927722785j)], [(5.0281827942839818-0.91179539888921979j)], [(4.7286956697010751-0.94249855324883391j)], [(4.4079744733559121-0.98345432903454566j)], [(4.0599805372069566-1.039443234787458j)], [(3.6767770262152428-1.1186428471058749j)], [(3.2486663163422-1.2359996001677609j)], [(2.7675710930930602-1.4201967346649025j)], [(2.2445842948598753-1.7225236426241923j)], [(1.752594825411963-2.1916902252273749j)], [(1.3947765144486235-2.7794959465476055j)], None]\n",
      "X :  [7000000000000.0, 6950000000000.0, 6850000000000.0, 6650000000000.0, 6450000000000.0, 6250000000000.0, 6050000000000.0, 5850000000000.0, 5650000000000.0, 5450000000000.0, 5250000000000.0, 5050000000000.0, 4850000000000.0]\n",
      "Y :  [[(5.722674439701902-0.93216942168447792j)], [(5.6464262552655367-0.93829747873521585j)], [(5.4908645252106938-0.95174727681905913j)], [(5.1657822429627718-0.98437391926430307j)], [(4.8182412765899674-1.0271412924220784j)], [(4.4423714911030308-1.0846159873516263j)], [(4.0305299081864217-1.164515743117954j)], [(3.5733189335176081-1.2807297582230945j)], [(3.0622557973877278-1.4595334940394458j)], [(2.5039824932274826-1.7484192778097865j)], [(1.9589728516656573-2.2006276441259631j)], [(1.5326326870612297-2.789266340286265j)], None]\n",
      "----------------------------------------------------------------------------------------------------\n",
      "frequency: 3450000000000.0   k_init: (4.56757738378-0.918723345967j)\n"
     ]
    },
    {
     "data": {
      "text/latex": [
       "$$Eqs_\\text{ freespace } = \\left[\\begin{matrix}376.730313461771 H_{{y}} + 1.38299859688027 \\cdot 10^{-5} i \\frac{d}{d x} E_{{z}}\\\\- 376.730313461771 H_{{x}} + 1.38299859688027 \\cdot 10^{-5} i \\frac{d}{d y} E_{{z}}\\\\- 0.00265441872943807 E_{{y}} + 1.38299859688027 \\cdot 10^{-5} i \\frac{d}{d x} H_{{z}}\\\\0.00265441872943807 E_{{x}} + 1.38299859688027 \\cdot 10^{-5} i \\frac{d}{d y} H_{{z}}\\\\- 191.932134669249 i E_{{z}} - \\frac{d}{d y} H_{{x}} + \\frac{d}{d x} H_{{y}}\\\\27240108.1470066 i H_{{z}} - \\frac{d}{d y} E_{{x}} + \\frac{d}{d x} E_{{y}}\\end{matrix}\\right]$$"
      ],
      "text/plain": [
       "<IPython.core.display.Math at 0x7f53751da4a8>"
      ]
     },
     "metadata": {},
     "output_type": "display_data"
    },
    {
     "name": "stdout",
     "output_type": "stream",
     "text": [
      "Eq1 boundary equations \n"
     ]
    },
    {
     "data": {
      "text/latex": [
       "$$EQs_\\text{ freespace }-b[0] = \\left[\\begin{matrix}376.730313461771 H_{{y}} & 1.38299859688027 \\cdot 10^{-5} i \\frac{d}{d x} E_{{z}}\\end{matrix}\\right]$$"
      ],
      "text/plain": [
       "<IPython.core.display.Math at 0x7f53746952b0>"
      ]
     },
     "metadata": {},
     "output_type": "display_data"
    },
    {
     "data": {
      "text/latex": [
       "$$EQs_\\text{ freespace }-b[1] = \\left[\\begin{matrix}- 376.730313461771 H_{{x}} & 1.38299859688027 \\cdot 10^{-5} i \\frac{d}{d y} E_{{z}}\\end{matrix}\\right]$$"
      ],
      "text/plain": [
       "<IPython.core.display.Math at 0x7f53751dcef0>"
      ]
     },
     "metadata": {},
     "output_type": "display_data"
    },
    {
     "data": {
      "text/latex": [
       "$$EQs_\\text{ freespace }-b[2] = \\left[\\begin{matrix}- 0.00265441872943807 E_{{y}} & 1.38299859688027 \\cdot 10^{-5} i \\frac{d}{d x} H_{{z}}\\end{matrix}\\right]$$"
      ],
      "text/plain": [
       "<IPython.core.display.Math at 0x7f53751dcef0>"
      ]
     },
     "metadata": {},
     "output_type": "display_data"
    },
    {
     "data": {
      "text/latex": [
       "$$EQs_\\text{ freespace }-b[3] = \\left[\\begin{matrix}0.00265441872943807 E_{{x}} & 1.38299859688027 \\cdot 10^{-5} i \\frac{d}{d y} H_{{z}}\\end{matrix}\\right]$$"
      ],
      "text/plain": [
       "<IPython.core.display.Math at 0x7f53751dcef0>"
      ]
     },
     "metadata": {},
     "output_type": "display_data"
    },
    {
     "data": {
      "text/latex": [
       "$$EQs_\\text{ freespace }-b[4] = \\left[\\begin{matrix}- 191.932134669249 i E_{{z}} & - \\frac{d}{d y} H_{{x}} & \\frac{d}{d x} H_{{y}}\\end{matrix}\\right]$$"
      ],
      "text/plain": [
       "<IPython.core.display.Math at 0x7f53751dcef0>"
      ]
     },
     "metadata": {},
     "output_type": "display_data"
    },
    {
     "data": {
      "text/latex": [
       "$$EQs_\\text{ freespace }-b[5] = \\left[\\begin{matrix}27240108.1470066 i H_{{z}} & - \\frac{d}{d y} E_{{x}} & \\frac{d}{d x} E_{{y}}\\end{matrix}\\right]$$"
      ],
      "text/plain": [
       "<IPython.core.display.Math at 0x7f53751dcef0>"
      ]
     },
     "metadata": {},
     "output_type": "display_data"
    },
    {
     "name": "stdout",
     "output_type": "stream",
     "text": [
      "[[(7619.3138031247863-31494.385237782441j), 0.0, (-4345.4666393390908-2179.3150447499588j)], [0.0, 0.0, 0.0], [(4345.4666393390908+2179.3150447499588j), 0.0, (7619.3138031247863-31494.385237782441j)]]\n"
     ]
    },
    {
     "data": {
      "text/latex": [
       "$$Eqs_\\text{ graphene } = \\left[\\begin{matrix}376.730313461771 H_{{y}} + 1.38299859688027 \\cdot 10^{-5} i \\frac{d}{d x} E_{{z}}\\\\- 376.730313461771 H_{{x}} + 1.38299859688027 \\cdot 10^{-5} i \\frac{d}{d y} E_{{z}}\\\\- 0.00265441872943807 E_{{y}} + 1.38299859688027 \\cdot 10^{-5} i \\frac{d}{d x} H_{{z}}\\\\- 0.432912487205161 E_{{x}} - 0.105375002989121 i E_{{x}} - 0.0301398964904926 E_{{z}} + 0.06009774264996 i E_{{z}} + 1.38299859688027 \\cdot 10^{-5} i \\frac{d}{d y} H_{{z}}\\\\- 4345.46663933909 E_{{x}} - 2179.31504474996 i E_{{x}} - 7619.31380312479 E_{{z}} + 31302.4531031132 i E_{{z}} - \\frac{d}{d y} H_{{x}} + \\frac{d}{d x} H_{{y}}\\\\27240108.1470066 i H_{{z}} - \\frac{d}{d y} E_{{x}} + \\frac{d}{d x} E_{{y}}\\end{matrix}\\right]$$"
      ],
      "text/plain": [
       "<IPython.core.display.Math at 0x7f537a9ec048>"
      ]
     },
     "metadata": {},
     "output_type": "display_data"
    },
    {
     "name": "stdout",
     "output_type": "stream",
     "text": [
      "Eq1 boundary equations \n"
     ]
    },
    {
     "data": {
      "text/latex": [
       "$$EQs_\\text{ graphene }-b[0] = \\left[\\begin{matrix}376.730313461771 H_{{y}} & 1.38299859688027 \\cdot 10^{-5} i \\frac{d}{d x} E_{{z}}\\end{matrix}\\right]$$"
      ],
      "text/plain": [
       "<IPython.core.display.Math at 0x7f53751c7668>"
      ]
     },
     "metadata": {},
     "output_type": "display_data"
    },
    {
     "data": {
      "text/latex": [
       "$$EQs_\\text{ graphene }-b[1] = \\left[\\begin{matrix}- 376.730313461771 H_{{x}} & 1.38299859688027 \\cdot 10^{-5} i \\frac{d}{d y} E_{{z}}\\end{matrix}\\right]$$"
      ],
      "text/plain": [
       "<IPython.core.display.Math at 0x7f537516fdd8>"
      ]
     },
     "metadata": {},
     "output_type": "display_data"
    },
    {
     "data": {
      "text/latex": [
       "$$EQs_\\text{ graphene }-b[2] = \\left[\\begin{matrix}0 & - 0.00265441872943807 E_{{y}} & 0 & 1.38299859688027 \\cdot 10^{-5} i \\frac{d}{d x} H_{{z}}\\end{matrix}\\right]$$"
      ],
      "text/plain": [
       "<IPython.core.display.Math at 0x7f53751c7668>"
      ]
     },
     "metadata": {},
     "output_type": "display_data"
    },
    {
     "data": {
      "text/latex": [
       "$$EQs_\\text{ graphene }-b[3] = \\left[\\begin{matrix}1.38299859688027 \\cdot 10^{-5} E_{{x}} \\left(191.932134669249 - i \\left(7619.31380312479 - 31494.3852377824 i\\right)\\right) & 0 & - 1.38299859688027 \\cdot 10^{-5} i E_{{z}} \\left(-4345.46663933909 - 2179.31504474996 i\\right) & 1.38299859688027 \\cdot 10^{-5} i \\frac{d}{d y} H_{{z}}\\end{matrix}\\right]$$"
      ],
      "text/plain": [
       "<IPython.core.display.Math at 0x7f537516fdd8>"
      ]
     },
     "metadata": {},
     "output_type": "display_data"
    },
    {
     "data": {
      "text/latex": [
       "$$EQs_\\text{ graphene }-b[4] = \\left[\\begin{matrix}- E_{{x}} \\left(4345.46663933909 + 2179.31504474996 i\\right) & 0 & - E_{{z}} \\left(7619.31380312479 - 31302.4531031132 i\\right) & - \\frac{d}{d y} H_{{x}} & \\frac{d}{d x} H_{{y}}\\end{matrix}\\right]$$"
      ],
      "text/plain": [
       "<IPython.core.display.Math at 0x7f53751c7668>"
      ]
     },
     "metadata": {},
     "output_type": "display_data"
    },
    {
     "data": {
      "text/latex": [
       "$$EQs_\\text{ graphene }-b[5] = \\left[\\begin{matrix}27240108.1470066 i H_{{z}} & - \\frac{d}{d y} E_{{x}} & \\frac{d}{d x} E_{{y}}\\end{matrix}\\right]$$"
      ],
      "text/plain": [
       "<IPython.core.display.Math at 0x7f537516fdd8>"
      ]
     },
     "metadata": {},
     "output_type": "display_data"
    },
    {
     "name": "stdout",
     "output_type": "stream",
     "text": [
      "initial matrix nnz 1843027 0:00:16\n",
      "initial matrix shared nnz 2219743 0:00:11\n",
      "final matrix (application of boundary conditions) nnz:  2219267 0:00:03\n",
      "A_11.shape:  (157356, 157356) A_11.nnz:  157356\n",
      "warning: this inversion mechanism only works for diagonal matrices\n",
      "eliminating z components 0:00:01\n",
      "A_reduced nnz:  2937830\n",
      "solving eigenvalues 0:03:45\n",
      "[ 4.56776845 -9.18381978e-01j  3.67731294 -9.38595500e-01j\n",
      "  1.52449797 -2.22497268e+00j  0.93270361 -1.42293700e-04j]\n",
      "(359926, 4)\n",
      "0 0 x_correlation:  (-0.823933884893+0.563581491467j)     abs(x_correlation):  0.998244030385\n",
      "k_correlation_r:  4.18295277845e-05     k_correlation_i:  0.000371567514033\n",
      "0 1 x_correlation:  (-0.0778643580578-0.159116806148j)     abs(x_correlation):  0.177146877631\n",
      "k_correlation_r:  0.194251874798     k_correlation_i:  0.0187113635528\n",
      "0 2 x_correlation:  (-0.501931304497-0.000915237070984j)     abs(x_correlation):  0.501932138932\n",
      "k_correlation_r:  0.686473088896     k_correlation_i:  0.582757446184\n",
      "1 0 x_correlation:  (-0.19423666055+0.149771053281j)     abs(x_correlation):  0.245273823924\n",
      "k_correlation_r:  0.19490954781     k_correlation_i:  0.0211722235688\n",
      "1 1 x_correlation:  (-0.326069976755-0.941199624749j)     abs(x_correlation):  0.996081504381\n",
      "k_correlation_r:  0.000858021934258     k_correlation_i:  0.00287841977846\n",
      "1 2 x_correlation:  (0.186919555324-0.257346554509j)     abs(x_correlation):  0.318066296988\n",
      "k_correlation_r:  0.610553043473     k_correlation_i:  0.573573967482\n",
      "2 0 x_correlation:  (-0.525485715205-0.0479517246511j)     abs(x_correlation):  0.527669029583\n",
      "k_correlation_r:  0.666234888848     k_correlation_i:  0.587085560774\n",
      "2 1 x_correlation:  (-0.343890476913+0.122081485308j)     abs(x_correlation):  0.364917181243\n",
      "k_correlation_r:  0.585787246069     k_correlation_i:  0.579368395492\n",
      "2 2 x_correlation:  (-0.763866451155-0.641431189378j)     abs(x_correlation):  0.997459736485\n",
      "k_correlation_r:  0.0605967614381     k_correlation_i:  0.0107408511928\n",
      "3 0 x_correlation:  (-0.00259933737088+0.000922622144842j)     abs(x_correlation):  0.00275822159912\n",
      "k_correlation_r:  0.795799056834     k_correlation_i:  0.99984511801\n",
      "3 1 x_correlation:  (0.000398338493743-0.000137202977745j)     abs(x_correlation):  0.000421305367518\n",
      "k_correlation_r:  0.746580357869     k_correlation_i:  0.99984795957\n",
      "3 2 x_correlation:  (-0.00295270557831+0.000606450464344j)     abs(x_correlation):  0.00301434112169\n",
      "k_correlation_r:  0.348724481678     k_correlation_i:  0.999935352622\n",
      "X :  [7000000000000.0, 6950000000000.0, 6850000000000.0, 6650000000000.0, 6450000000000.0, 6250000000000.0, 6050000000000.0, 5850000000000.0, 5650000000000.0, 5450000000000.0, 5250000000000.0, 5050000000000.0, 4850000000000.0, 4650000000000.0, 4450000000000.0, 4250000000000.0, 4050000000000.0, 3850000000000.0, 3650000000000.0, 3450000000000.0]\n",
      "Y :  [[(9.0264198593920089-1.0265850275942863j)], [(8.9591509490803887-1.0248428143216293j)], [(8.8250554453441765-1.0213873265953377j)], [(8.5585964224031823-1.0145863243291824j)], [(8.2943834560896317-1.0079245347408612j)], [(8.0323500935623926-1.0013955543194086j)], [(7.7724369581080106-0.99499398313867937j)], [(7.514589631061205-0.98871676944562481j)], [(7.258763165805771-0.98256238682030228j)], [(7.0049175938053851-0.97652130310611174j)], [(6.7530093091440699-0.97058404763619255j)], [(6.5029986638359283-0.96474407348038327j)], [(6.2548497421581803-0.95899303239179656j)], [(6.0085276451703766-0.95332020226361569j)], [(5.7639986714177329-0.94771148236624303j)], [(5.5212310019493929-0.94214330023901227j)], [(5.2801971939104995-0.93657063085066661j)], [(5.0408877459070469-0.93090182701082791j)], [(4.8033478091954969-0.92495273204950945j)], [(4.5677684513733068-0.918381978216953j)]]\n",
      "X :  [7000000000000.0, 6950000000000.0, 6850000000000.0, 6650000000000.0, 6450000000000.0, 6250000000000.0, 6050000000000.0, 5850000000000.0, 5650000000000.0, 5450000000000.0, 5250000000000.0, 5050000000000.0, 4850000000000.0, 4650000000000.0, 4450000000000.0, 4250000000000.0, 4050000000000.0, 3850000000000.0, 3650000000000.0, 3450000000000.0]\n",
      "Y :  [[(8.0232073158584836-1.0038177634322727j)], [(7.9580318024293435-1.002165067653527j)], [(7.8280933139952493-0.99888371498477257j)], [(7.5698373817955931-0.99241010085502668j)], [(7.3136932127065855-0.98604443809278242j)], [(7.0596085026341342-0.97977554145591095j)], [(6.8075371305561374-0.97359284654969247j)], [(6.5574373335614329-0.96748716557405556j)], [(6.3092748166396113-0.9614511664337817j)], [(6.0630218535066458-0.95547378216544254j)], [(5.8186517398008499-0.94954680963997151j)], [(5.5761431695747739-0.94367608673403425j)], [(5.3354794279992186-0.9378981947347097j)], [(5.0966347273222867-0.93231809097391694j)], [(4.8595367153326663-0.92717364591425044j)], [(4.6239798167363606-0.92292684758583232j)], [(4.3894683045966207-0.92037244078827407j)], [(4.1549808394212153-0.92075737918946254j)], [(3.9186483599056778-0.92593117488577226j)], [(3.677312941318621-0.93859549972758227j)]]\n",
      "X :  [7000000000000.0, 6950000000000.0, 6850000000000.0, 6650000000000.0, 6450000000000.0, 6250000000000.0, 6050000000000.0, 5850000000000.0, 5650000000000.0, 5450000000000.0, 5250000000000.0, 5050000000000.0, 4850000000000.0, 4650000000000.0, 4450000000000.0, 4250000000000.0, 4050000000000.0, 3850000000000.0, 3650000000000.0, 3450000000000.0]\n",
      "Y :  [[(6.5956702117118349-0.78791361784606873j)], [(6.5435530246973519-0.78802249083072595j)], [(6.4391320917083572-0.78834760985526786j)], [(6.2293811334969185-0.7894861249931886j)], [(6.0180579613309053-0.79141024897694101j)], [(5.8046345497448524-0.79432853850880258j)], [(5.5884413350732611-0.79852240627067517j)], [(5.368619202567892-0.80437522758025648j)], [(5.1440509634386773-0.81241607687996109j)], [(4.9132683828200285-0.82338117543705347j)], [(4.6743175995161046-0.8383148983460913j)], [(4.4245647702757411-0.85871531442195226j)], [(4.1604339167452462-0.88679535356905737j)], [(3.877037422780544-0.92593969254811115j)], [(3.5677148568018668-0.98160065240720229j)], [(3.2235927485300775-1.0632398312221838j)], [(2.8341879494083608-1.1885173849669517j)], [(2.3933563458327187-1.3918629656390147j)], [(1.9259998070949513-1.7293820301048439j)], [(1.5244979731893422-2.2249726788156909j)]]\n",
      "X :  [7000000000000.0, 6950000000000.0, 6850000000000.0, 6650000000000.0, 6450000000000.0, 6250000000000.0, 6050000000000.0, 5850000000000.0, 5650000000000.0, 5450000000000.0, 5250000000000.0, 5050000000000.0, 4850000000000.0, 4650000000000.0, 4450000000000.0, 4250000000000.0, 4050000000000.0]\n",
      "Y :  [[(6.2737880213737869-0.83870302667178354j)], [(6.2130298312009069-0.84076827627467954j)], [(6.0903511298235351-0.84530657527834485j)], [(5.8397096988549269-0.85626279522147908j)], [(5.580619695053235-0.87030920913645859j)], [(5.3110009133316254-0.88837921927722785j)], [(5.0281827942839818-0.91179539888921979j)], [(4.7286956697010751-0.94249855324883391j)], [(4.4079744733559121-0.98345432903454566j)], [(4.0599805372069566-1.039443234787458j)], [(3.6767770262152428-1.1186428471058749j)], [(3.2486663163422-1.2359996001677609j)], [(2.7675710930930602-1.4201967346649025j)], [(2.2445842948598753-1.7225236426241923j)], [(1.752594825411963-2.1916902252273749j)], [(1.3947765144486235-2.7794959465476055j)], None]\n",
      "X :  [7000000000000.0, 6950000000000.0, 6850000000000.0, 6650000000000.0, 6450000000000.0, 6250000000000.0, 6050000000000.0, 5850000000000.0, 5650000000000.0, 5450000000000.0, 5250000000000.0, 5050000000000.0, 4850000000000.0]\n",
      "Y :  [[(5.722674439701902-0.93216942168447792j)], [(5.6464262552655367-0.93829747873521585j)], [(5.4908645252106938-0.95174727681905913j)], [(5.1657822429627718-0.98437391926430307j)], [(4.8182412765899674-1.0271412924220784j)], [(4.4423714911030308-1.0846159873516263j)], [(4.0305299081864217-1.164515743117954j)], [(3.5733189335176081-1.2807297582230945j)], [(3.0622557973877278-1.4595334940394458j)], [(2.5039824932274826-1.7484192778097865j)], [(1.9589728516656573-2.2006276441259631j)], [(1.5326326870612297-2.789266340286265j)], None]\n",
      "----------------------------------------------------------------------------------------------------\n",
      "frequency: 3250000000000.0   k_init: (4.33414967244-0.911189565513j)\n"
     ]
    },
    {
     "data": {
      "text/latex": [
       "$$Eqs_\\text{ freespace } = \\left[\\begin{matrix}376.730313461771 H_{{y}} + 1.46810620284214 \\cdot 10^{-5} i \\frac{d}{d x} E_{{z}}\\\\- 376.730313461771 H_{{x}} + 1.46810620284214 \\cdot 10^{-5} i \\frac{d}{d y} E_{{z}}\\\\- 0.00265441872943807 E_{{y}} + 1.46810620284214 \\cdot 10^{-5} i \\frac{d}{d x} H_{{z}}\\\\0.00265441872943807 E_{{x}} + 1.46810620284214 \\cdot 10^{-5} i \\frac{d}{d y} H_{{z}}\\\\- 180.805634108713 i E_{{z}} - \\frac{d}{d y} H_{{x}} + \\frac{d}{d x} H_{{y}}\\\\25660971.4428323 i H_{{z}} - \\frac{d}{d y} E_{{x}} + \\frac{d}{d x} E_{{y}}\\end{matrix}\\right]$$"
      ],
      "text/plain": [
       "<IPython.core.display.Math at 0x7f537ac22518>"
      ]
     },
     "metadata": {},
     "output_type": "display_data"
    },
    {
     "name": "stdout",
     "output_type": "stream",
     "text": [
      "Eq1 boundary equations \n"
     ]
    },
    {
     "data": {
      "text/latex": [
       "$$EQs_\\text{ freespace }-b[0] = \\left[\\begin{matrix}376.730313461771 H_{{y}} & 1.46810620284214 \\cdot 10^{-5} i \\frac{d}{d x} E_{{z}}\\end{matrix}\\right]$$"
      ],
      "text/plain": [
       "<IPython.core.display.Math at 0x7f537ad16a90>"
      ]
     },
     "metadata": {},
     "output_type": "display_data"
    },
    {
     "data": {
      "text/latex": [
       "$$EQs_\\text{ freespace }-b[1] = \\left[\\begin{matrix}- 376.730313461771 H_{{x}} & 1.46810620284214 \\cdot 10^{-5} i \\frac{d}{d y} E_{{z}}\\end{matrix}\\right]$$"
      ],
      "text/plain": [
       "<IPython.core.display.Math at 0x7f537ad16908>"
      ]
     },
     "metadata": {},
     "output_type": "display_data"
    },
    {
     "data": {
      "text/latex": [
       "$$EQs_\\text{ freespace }-b[2] = \\left[\\begin{matrix}- 0.00265441872943807 E_{{y}} & 1.46810620284214 \\cdot 10^{-5} i \\frac{d}{d x} H_{{z}}\\end{matrix}\\right]$$"
      ],
      "text/plain": [
       "<IPython.core.display.Math at 0x7f537ad16a90>"
      ]
     },
     "metadata": {},
     "output_type": "display_data"
    },
    {
     "data": {
      "text/latex": [
       "$$EQs_\\text{ freespace }-b[3] = \\left[\\begin{matrix}0.00265441872943807 E_{{x}} & 1.46810620284214 \\cdot 10^{-5} i \\frac{d}{d y} H_{{z}}\\end{matrix}\\right]$$"
      ],
      "text/plain": [
       "<IPython.core.display.Math at 0x7f537ad16908>"
      ]
     },
     "metadata": {},
     "output_type": "display_data"
    },
    {
     "data": {
      "text/latex": [
       "$$EQs_\\text{ freespace }-b[4] = \\left[\\begin{matrix}- 180.805634108713 i E_{{z}} & - \\frac{d}{d y} H_{{x}} & \\frac{d}{d x} H_{{y}}\\end{matrix}\\right]$$"
      ],
      "text/plain": [
       "<IPython.core.display.Math at 0x7f537ad16a90>"
      ]
     },
     "metadata": {},
     "output_type": "display_data"
    },
    {
     "data": {
      "text/latex": [
       "$$EQs_\\text{ freespace }-b[5] = \\left[\\begin{matrix}25660971.4428323 i H_{{z}} & - \\frac{d}{d y} E_{{x}} & \\frac{d}{d x} E_{{y}}\\end{matrix}\\right]$$"
      ],
      "text/plain": [
       "<IPython.core.display.Math at 0x7f537ad16908>"
      ]
     },
     "metadata": {},
     "output_type": "display_data"
    },
    {
     "name": "stdout",
     "output_type": "stream",
     "text": [
      "[[(8591.9851931950852-33273.646304989568j), 0.0, (-4804.5127090872838-2585.9641305418872j)], [0.0, 0.0, 0.0], [(4804.5127090872838+2585.9641305418872j), 0.0, (8591.9851931950852-33273.646304989568j)]]\n"
     ]
    },
    {
     "data": {
      "text/latex": [
       "$$Eqs_\\text{ graphene } = \\left[\\begin{matrix}376.730313461771 H_{{y}} + 1.46810620284214 \\cdot 10^{-5} i \\frac{d}{d x} E_{{z}}\\\\- 376.730313461771 H_{{x}} + 1.46810620284214 \\cdot 10^{-5} i \\frac{d}{d y} E_{{z}}\\\\- 0.00265441872943807 E_{{y}} + 1.46810620284214 \\cdot 10^{-5} i \\frac{d}{d x} H_{{z}}\\\\- 0.485838046585867 E_{{x}} - 0.126139467568575 i E_{{x}} - 0.0379646998037582 E_{{z}} + 0.0705353490984492 i E_{{z}} + 1.46810620284214 \\cdot 10^{-5} i \\frac{d}{d y} H_{{z}}\\\\- 4804.51270908728 E_{{x}} - 2585.96413054189 i E_{{x}} - 8591.98519319509 E_{{z}} + 33092.8406708809 i E_{{z}} - \\frac{d}{d y} H_{{x}} + \\frac{d}{d x} H_{{y}}\\\\25660971.4428323 i H_{{z}} - \\frac{d}{d y} E_{{x}} + \\frac{d}{d x} E_{{y}}\\end{matrix}\\right]$$"
      ],
      "text/plain": [
       "<IPython.core.display.Math at 0x7f536ddbff60>"
      ]
     },
     "metadata": {},
     "output_type": "display_data"
    },
    {
     "name": "stdout",
     "output_type": "stream",
     "text": [
      "Eq1 boundary equations \n"
     ]
    },
    {
     "data": {
      "text/latex": [
       "$$EQs_\\text{ graphene }-b[0] = \\left[\\begin{matrix}376.730313461771 H_{{y}} & 1.46810620284214 \\cdot 10^{-5} i \\frac{d}{d x} E_{{z}}\\end{matrix}\\right]$$"
      ],
      "text/plain": [
       "<IPython.core.display.Math at 0x7f53752090b8>"
      ]
     },
     "metadata": {},
     "output_type": "display_data"
    },
    {
     "data": {
      "text/latex": [
       "$$EQs_\\text{ graphene }-b[1] = \\left[\\begin{matrix}- 376.730313461771 H_{{x}} & 1.46810620284214 \\cdot 10^{-5} i \\frac{d}{d y} E_{{z}}\\end{matrix}\\right]$$"
      ],
      "text/plain": [
       "<IPython.core.display.Math at 0x7f537abe2198>"
      ]
     },
     "metadata": {},
     "output_type": "display_data"
    },
    {
     "data": {
      "text/latex": [
       "$$EQs_\\text{ graphene }-b[2] = \\left[\\begin{matrix}0 & - 0.00265441872943807 E_{{y}} & 0 & 1.46810620284214 \\cdot 10^{-5} i \\frac{d}{d x} H_{{z}}\\end{matrix}\\right]$$"
      ],
      "text/plain": [
       "<IPython.core.display.Math at 0x7f53752090b8>"
      ]
     },
     "metadata": {},
     "output_type": "display_data"
    },
    {
     "data": {
      "text/latex": [
       "$$EQs_\\text{ graphene }-b[3] = \\left[\\begin{matrix}1.46810620284214 \\cdot 10^{-5} E_{{x}} \\left(180.805634108713 - i \\left(8591.98519319509 - 33273.6463049896 i\\right)\\right) & 0 & - 1.46810620284214 \\cdot 10^{-5} i E_{{z}} \\left(-4804.51270908728 - 2585.96413054189 i\\right) & 1.46810620284214 \\cdot 10^{-5} i \\frac{d}{d y} H_{{z}}\\end{matrix}\\right]$$"
      ],
      "text/plain": [
       "<IPython.core.display.Math at 0x7f537abe2198>"
      ]
     },
     "metadata": {},
     "output_type": "display_data"
    },
    {
     "data": {
      "text/latex": [
       "$$EQs_\\text{ graphene }-b[4] = \\left[\\begin{matrix}- E_{{x}} \\left(4804.51270908728 + 2585.96413054189 i\\right) & 0 & - E_{{z}} \\left(8591.98519319509 - 33092.8406708809 i\\right) & - \\frac{d}{d y} H_{{x}} & \\frac{d}{d x} H_{{y}}\\end{matrix}\\right]$$"
      ],
      "text/plain": [
       "<IPython.core.display.Math at 0x7f53752090b8>"
      ]
     },
     "metadata": {},
     "output_type": "display_data"
    },
    {
     "data": {
      "text/latex": [
       "$$EQs_\\text{ graphene }-b[5] = \\left[\\begin{matrix}25660971.4428323 i H_{{z}} & - \\frac{d}{d y} E_{{x}} & \\frac{d}{d x} E_{{y}}\\end{matrix}\\right]$$"
      ],
      "text/plain": [
       "<IPython.core.display.Math at 0x7f537abe2198>"
      ]
     },
     "metadata": {},
     "output_type": "display_data"
    },
    {
     "name": "stdout",
     "output_type": "stream",
     "text": [
      "initial matrix nnz 1843027 0:00:16\n",
      "initial matrix shared nnz 2219743 0:00:12\n",
      "final matrix (application of boundary conditions) nnz:  2219267 0:00:03\n",
      "A_11.shape:  (157356, 157356) A_11.nnz:  157356\n",
      "warning: this inversion mechanism only works for diagonal matrices\n",
      "eliminating z components 0:00:01\n",
      "A_reduced nnz:  2936622\n",
      "solving eigenvalues 0:04:03\n",
      "[ 4.33467501 -9.10636469e-01j  3.42586474 -9.62757109e-01j\n",
      "  1.25799088 -2.79644859e+00j  0.92380252 +5.70638682e-06j]\n",
      "(359926, 4)\n",
      "0 0 x_correlation:  (0.936999763316-0.344078315167j)     abs(x_correlation):  0.998177561069\n",
      "k_correlation_r:  0.000121193388084     k_correlation_i:  0.000607004607016\n",
      "0 1 x_correlation:  (0.208932904739-0.0978615865444j)     abs(x_correlation):  0.230715948308\n",
      "k_correlation_r:  0.20848170195     k_correlation_i:  0.0501839548528\n",
      "0 2 x_correlation:  (0.262362361912-0.453131269599j)     abs(x_correlation):  0.523604771213\n",
      "k_correlation_r:  0.725734722358     k_correlation_i:  0.683656838342\n",
      "1 0 x_correlation:  (-0.0812781862617+0.303432219579j)     abs(x_correlation):  0.314129360997\n",
      "k_correlation_r:  0.209564736791     k_correlation_i:  0.0535623610545\n",
      "1 1 x_correlation:  (-0.346484752966+0.93280743049j)     abs(x_correlation):  0.995078583035\n",
      "k_correlation_r:  0.00148932800628     k_correlation_i:  0.00416175135071\n",
      "1 2 x_correlation:  (-0.250261481717-0.0611637686666j)     abs(x_correlation):  0.257627280831\n",
      "k_correlation_r:  0.65297787994     k_correlation_i:  0.665550811783\n",
      "2 0 x_correlation:  (0.517958529932-0.165940219296j)     abs(x_correlation):  0.543890793367\n",
      "k_correlation_r:  0.709749092078     k_correlation_i:  0.674161874576\n",
      "2 1 x_correlation:  (-0.254993276423-0.173301394951j)     abs(x_correlation):  0.308309819034\n",
      "k_correlation_r:  0.63334299138     k_correlation_i:  0.657154307043\n",
      "2 2 x_correlation:  (0.540949834904-0.83847627182j)     abs(x_correlation):  0.997832241556\n",
      "k_correlation_r:  0.054960679459     k_correlation_i:  0.0285504508355\n",
      "3 0 x_correlation:  (0.000438341985936-0.00182129088339j)     abs(x_correlation):  0.00187329767484\n",
      "k_correlation_r:  0.786854956766     k_correlation_i:  1.00000626257\n",
      "3 1 x_correlation:  (-0.00156240317809+0.000930871415974j)     abs(x_correlation):  0.00181868779178\n",
      "k_correlation_r:  0.730746323883     k_correlation_i:  1.0000059519\n",
      "3 2 x_correlation:  (-0.00171967086892-0.00295475446547j)     abs(x_correlation):  0.00341874857933\n",
      "k_correlation_r:  0.222944977591     k_correlation_i:  1.00000198232\n",
      "X :  [7000000000000.0, 6950000000000.0, 6850000000000.0, 6650000000000.0, 6450000000000.0, 6250000000000.0, 6050000000000.0, 5850000000000.0, 5650000000000.0, 5450000000000.0, 5250000000000.0, 5050000000000.0, 4850000000000.0, 4650000000000.0, 4450000000000.0, 4250000000000.0, 4050000000000.0, 3850000000000.0, 3650000000000.0, 3450000000000.0, 3250000000000.0]\n",
      "Y :  [[(9.0264198593920089-1.0265850275942863j)], [(8.9591509490803887-1.0248428143216293j)], [(8.8250554453441765-1.0213873265953377j)], [(8.5585964224031823-1.0145863243291824j)], [(8.2943834560896317-1.0079245347408612j)], [(8.0323500935623926-1.0013955543194086j)], [(7.7724369581080106-0.99499398313867937j)], [(7.514589631061205-0.98871676944562481j)], [(7.258763165805771-0.98256238682030228j)], [(7.0049175938053851-0.97652130310611174j)], [(6.7530093091440699-0.97058404763619255j)], [(6.5029986638359283-0.96474407348038327j)], [(6.2548497421581803-0.95899303239179656j)], [(6.0085276451703766-0.95332020226361569j)], [(5.7639986714177329-0.94771148236624303j)], [(5.5212310019493929-0.94214330023901227j)], [(5.2801971939104995-0.93657063085066661j)], [(5.0408877459070469-0.93090182701082791j)], [(4.8033478091954969-0.92495273204950945j)], [(4.5677684513733068-0.918381978216953j)], [(4.3346750063904764-0.91063646924897546j)]]\n",
      "X :  [7000000000000.0, 6950000000000.0, 6850000000000.0, 6650000000000.0, 6450000000000.0, 6250000000000.0, 6050000000000.0, 5850000000000.0, 5650000000000.0, 5450000000000.0, 5250000000000.0, 5050000000000.0, 4850000000000.0, 4650000000000.0, 4450000000000.0, 4250000000000.0, 4050000000000.0, 3850000000000.0, 3650000000000.0, 3450000000000.0, 3250000000000.0]\n",
      "Y :  [[(8.0232073158584836-1.0038177634322727j)], [(7.9580318024293435-1.002165067653527j)], [(7.8280933139952493-0.99888371498477257j)], [(7.5698373817955931-0.99241010085502668j)], [(7.3136932127065855-0.98604443809278242j)], [(7.0596085026341342-0.97977554145591095j)], [(6.8075371305561374-0.97359284654969247j)], [(6.5574373335614329-0.96748716557405556j)], [(6.3092748166396113-0.9614511664337817j)], [(6.0630218535066458-0.95547378216544254j)], [(5.8186517398008499-0.94954680963997151j)], [(5.5761431695747739-0.94367608673403425j)], [(5.3354794279992186-0.9378981947347097j)], [(5.0966347273222867-0.93231809097391694j)], [(4.8595367153326663-0.92717364591425044j)], [(4.6239798167363606-0.92292684758583232j)], [(4.3894683045966207-0.92037244078827407j)], [(4.1549808394212153-0.92075737918946254j)], [(3.9186483599056778-0.92593117488577226j)], [(3.677312941318621-0.93859549972758227j)], [(3.4258647371236117-0.96275710941544779j)]]\n",
      "X :  [7000000000000.0, 6950000000000.0, 6850000000000.0, 6650000000000.0, 6450000000000.0, 6250000000000.0, 6050000000000.0, 5850000000000.0, 5650000000000.0, 5450000000000.0, 5250000000000.0, 5050000000000.0, 4850000000000.0, 4650000000000.0, 4450000000000.0, 4250000000000.0, 4050000000000.0, 3850000000000.0, 3650000000000.0, 3450000000000.0, 3250000000000.0]\n",
      "Y :  [[(6.5956702117118349-0.78791361784606873j)], [(6.5435530246973519-0.78802249083072595j)], [(6.4391320917083572-0.78834760985526786j)], [(6.2293811334969185-0.7894861249931886j)], [(6.0180579613309053-0.79141024897694101j)], [(5.8046345497448524-0.79432853850880258j)], [(5.5884413350732611-0.79852240627067517j)], [(5.368619202567892-0.80437522758025648j)], [(5.1440509634386773-0.81241607687996109j)], [(4.9132683828200285-0.82338117543705347j)], [(4.6743175995161046-0.8383148983460913j)], [(4.4245647702757411-0.85871531442195226j)], [(4.1604339167452462-0.88679535356905737j)], [(3.877037422780544-0.92593969254811115j)], [(3.5677148568018668-0.98160065240720229j)], [(3.2235927485300775-1.0632398312221838j)], [(2.8341879494083608-1.1885173849669517j)], [(2.3933563458327187-1.3918629656390147j)], [(1.9259998070949513-1.7293820301048439j)], [(1.5244979731893422-2.2249726788156909j)], [(1.2579908774963218-2.7964485872495111j)]]\n",
      "X :  [7000000000000.0, 6950000000000.0, 6850000000000.0, 6650000000000.0, 6450000000000.0, 6250000000000.0, 6050000000000.0, 5850000000000.0, 5650000000000.0, 5450000000000.0, 5250000000000.0, 5050000000000.0, 4850000000000.0, 4650000000000.0, 4450000000000.0, 4250000000000.0, 4050000000000.0]\n",
      "Y :  [[(6.2737880213737869-0.83870302667178354j)], [(6.2130298312009069-0.84076827627467954j)], [(6.0903511298235351-0.84530657527834485j)], [(5.8397096988549269-0.85626279522147908j)], [(5.580619695053235-0.87030920913645859j)], [(5.3110009133316254-0.88837921927722785j)], [(5.0281827942839818-0.91179539888921979j)], [(4.7286956697010751-0.94249855324883391j)], [(4.4079744733559121-0.98345432903454566j)], [(4.0599805372069566-1.039443234787458j)], [(3.6767770262152428-1.1186428471058749j)], [(3.2486663163422-1.2359996001677609j)], [(2.7675710930930602-1.4201967346649025j)], [(2.2445842948598753-1.7225236426241923j)], [(1.752594825411963-2.1916902252273749j)], [(1.3947765144486235-2.7794959465476055j)], None]\n",
      "X :  [7000000000000.0, 6950000000000.0, 6850000000000.0, 6650000000000.0, 6450000000000.0, 6250000000000.0, 6050000000000.0, 5850000000000.0, 5650000000000.0, 5450000000000.0, 5250000000000.0, 5050000000000.0, 4850000000000.0]\n",
      "Y :  [[(5.722674439701902-0.93216942168447792j)], [(5.6464262552655367-0.93829747873521585j)], [(5.4908645252106938-0.95174727681905913j)], [(5.1657822429627718-0.98437391926430307j)], [(4.8182412765899674-1.0271412924220784j)], [(4.4423714911030308-1.0846159873516263j)], [(4.0305299081864217-1.164515743117954j)], [(3.5733189335176081-1.2807297582230945j)], [(3.0622557973877278-1.4595334940394458j)], [(2.5039824932274826-1.7484192778097865j)], [(1.9589728516656573-2.2006276441259631j)], [(1.5326326870612297-2.789266340286265j)], None]\n",
      "----------------------------------------------------------------------------------------------------\n"
     ]
    },
    {
     "name": "stdout",
     "output_type": "stream",
     "text": [
      "frequency: 3050000000000.0   k_init: (4.10406747425-0.901716205146j)\n"
     ]
    },
    {
     "data": {
      "text/latex": [
       "$$Eqs_\\text{ freespace } = \\left[\\begin{matrix}376.730313461771 H_{{y}} + 1.5643754620449 \\cdot 10^{-5} i \\frac{d}{d x} E_{{z}}\\\\- 376.730313461771 H_{{x}} + 1.5643754620449 \\cdot 10^{-5} i \\frac{d}{d y} E_{{z}}\\\\- 0.00265441872943807 E_{{y}} + 1.5643754620449 \\cdot 10^{-5} i \\frac{d}{d x} H_{{z}}\\\\0.00265441872943807 E_{{x}} + 1.5643754620449 \\cdot 10^{-5} i \\frac{d}{d y} H_{{z}}\\\\- 169.679133548177 i E_{{z}} - \\frac{d}{d y} H_{{x}} + \\frac{d}{d x} H_{{y}}\\\\24081834.738658 i H_{{z}} - \\frac{d}{d y} E_{{x}} + \\frac{d}{d x} E_{{y}}\\end{matrix}\\right]$$"
      ],
      "text/plain": [
       "<IPython.core.display.Math at 0x7f5375163550>"
      ]
     },
     "metadata": {},
     "output_type": "display_data"
    },
    {
     "name": "stdout",
     "output_type": "stream",
     "text": [
      "Eq1 boundary equations \n"
     ]
    },
    {
     "data": {
      "text/latex": [
       "$$EQs_\\text{ freespace }-b[0] = \\left[\\begin{matrix}376.730313461771 H_{{y}} & 1.5643754620449 \\cdot 10^{-5} i \\frac{d}{d x} E_{{z}}\\end{matrix}\\right]$$"
      ],
      "text/plain": [
       "<IPython.core.display.Math at 0x7f536ddbffd0>"
      ]
     },
     "metadata": {},
     "output_type": "display_data"
    },
    {
     "data": {
      "text/latex": [
       "$$EQs_\\text{ freespace }-b[1] = \\left[\\begin{matrix}- 376.730313461771 H_{{x}} & 1.5643754620449 \\cdot 10^{-5} i \\frac{d}{d y} E_{{z}}\\end{matrix}\\right]$$"
      ],
      "text/plain": [
       "<IPython.core.display.Math at 0x7f536ddbfeb8>"
      ]
     },
     "metadata": {},
     "output_type": "display_data"
    },
    {
     "data": {
      "text/latex": [
       "$$EQs_\\text{ freespace }-b[2] = \\left[\\begin{matrix}- 0.00265441872943807 E_{{y}} & 1.5643754620449 \\cdot 10^{-5} i \\frac{d}{d x} H_{{z}}\\end{matrix}\\right]$$"
      ],
      "text/plain": [
       "<IPython.core.display.Math at 0x7f536ddbffd0>"
      ]
     },
     "metadata": {},
     "output_type": "display_data"
    },
    {
     "data": {
      "text/latex": [
       "$$EQs_\\text{ freespace }-b[3] = \\left[\\begin{matrix}0.00265441872943807 E_{{x}} & 1.5643754620449 \\cdot 10^{-5} i \\frac{d}{d y} H_{{z}}\\end{matrix}\\right]$$"
      ],
      "text/plain": [
       "<IPython.core.display.Math at 0x7f536ddbfeb8>"
      ]
     },
     "metadata": {},
     "output_type": "display_data"
    },
    {
     "data": {
      "text/latex": [
       "$$EQs_\\text{ freespace }-b[4] = \\left[\\begin{matrix}- 169.679133548177 i E_{{z}} & - \\frac{d}{d y} H_{{x}} & \\frac{d}{d x} H_{{y}}\\end{matrix}\\right]$$"
      ],
      "text/plain": [
       "<IPython.core.display.Math at 0x7f536ddbffd0>"
      ]
     },
     "metadata": {},
     "output_type": "display_data"
    },
    {
     "data": {
      "text/latex": [
       "$$EQs_\\text{ freespace }-b[5] = \\left[\\begin{matrix}24081834.738658 i H_{{z}} & - \\frac{d}{d y} E_{{x}} & \\frac{d}{d x} E_{{y}}\\end{matrix}\\right]$$"
      ],
      "text/plain": [
       "<IPython.core.display.Math at 0x7f536ddbfeb8>"
      ]
     },
     "metadata": {},
     "output_type": "display_data"
    },
    {
     "name": "stdout",
     "output_type": "stream",
     "text": [
      "[[(9761.7645254452727-35246.538467338811j), 0.0, (-5330.02955614231-3098.0455036043381j)], [0.0, 0.0, 0.0], [(5330.02955614231+3098.0455036043381j), 0.0, (9761.7645254452727-35246.538467338811j)]]\n"
     ]
    },
    {
     "data": {
      "text/latex": [
       "$$Eqs_\\text{ graphene } = \\left[\\begin{matrix}376.730313461771 H_{{y}} + 1.5643754620449 \\cdot 10^{-5} i \\frac{d}{d x} E_{{z}}\\\\- 376.730313461771 H_{{x}} + 1.5643754620449 \\cdot 10^{-5} i \\frac{d}{d y} E_{{z}}\\\\- 0.00265441872943807 E_{{y}} + 1.5643754620449 \\cdot 10^{-5} i \\frac{d}{d x} H_{{z}}\\\\- 0.548733780273827 E_{{x}} - 0.15271064889867 i E_{{x}} - 0.0484650636613716 E_{{z}} + 0.083381674496031 i E_{{z}} + 1.5643754620449 \\cdot 10^{-5} i \\frac{d}{d y} H_{{z}}\\\\- 5330.02955614231 E_{{x}} - 3098.04550360434 i E_{{x}} - 9761.76452544527 E_{{z}} + 35076.8593337906 i E_{{z}} - \\frac{d}{d y} H_{{x}} + \\frac{d}{d x} H_{{y}}\\\\24081834.738658 i H_{{z}} - \\frac{d}{d y} E_{{x}} + \\frac{d}{d x} E_{{y}}\\end{matrix}\\right]$$"
      ],
      "text/plain": [
       "<IPython.core.display.Math at 0x7f537ace9048>"
      ]
     },
     "metadata": {},
     "output_type": "display_data"
    },
    {
     "name": "stdout",
     "output_type": "stream",
     "text": [
      "Eq1 boundary equations \n"
     ]
    },
    {
     "data": {
      "text/latex": [
       "$$EQs_\\text{ graphene }-b[0] = \\left[\\begin{matrix}376.730313461771 H_{{y}} & 1.5643754620449 \\cdot 10^{-5} i \\frac{d}{d x} E_{{z}}\\end{matrix}\\right]$$"
      ],
      "text/plain": [
       "<IPython.core.display.Math at 0x7f537ad33898>"
      ]
     },
     "metadata": {},
     "output_type": "display_data"
    },
    {
     "data": {
      "text/latex": [
       "$$EQs_\\text{ graphene }-b[1] = \\left[\\begin{matrix}- 376.730313461771 H_{{x}} & 1.5643754620449 \\cdot 10^{-5} i \\frac{d}{d y} E_{{z}}\\end{matrix}\\right]$$"
      ],
      "text/plain": [
       "<IPython.core.display.Math at 0x7f537abe2198>"
      ]
     },
     "metadata": {},
     "output_type": "display_data"
    },
    {
     "data": {
      "text/latex": [
       "$$EQs_\\text{ graphene }-b[2] = \\left[\\begin{matrix}0 & - 0.00265441872943807 E_{{y}} & 0 & 1.5643754620449 \\cdot 10^{-5} i \\frac{d}{d x} H_{{z}}\\end{matrix}\\right]$$"
      ],
      "text/plain": [
       "<IPython.core.display.Math at 0x7f537abe2198>"
      ]
     },
     "metadata": {},
     "output_type": "display_data"
    },
    {
     "data": {
      "text/latex": [
       "$$EQs_\\text{ graphene }-b[3] = \\left[\\begin{matrix}1.5643754620449 \\cdot 10^{-5} E_{{x}} \\left(169.679133548177 - i \\left(9761.76452544527 - 35246.5384673388 i\\right)\\right) & 0 & - 1.5643754620449 \\cdot 10^{-5} i E_{{z}} \\left(-5330.02955614231 - 3098.04550360434 i\\right) & 1.5643754620449 \\cdot 10^{-5} i \\frac{d}{d y} H_{{z}}\\end{matrix}\\right]$$"
      ],
      "text/plain": [
       "<IPython.core.display.Math at 0x7f53751c7668>"
      ]
     },
     "metadata": {},
     "output_type": "display_data"
    },
    {
     "data": {
      "text/latex": [
       "$$EQs_\\text{ graphene }-b[4] = \\left[\\begin{matrix}- E_{{x}} \\left(5330.02955614231 + 3098.04550360434 i\\right) & 0 & - E_{{z}} \\left(9761.76452544527 - 35076.8593337906 i\\right) & - \\frac{d}{d y} H_{{x}} & \\frac{d}{d x} H_{{y}}\\end{matrix}\\right]$$"
      ],
      "text/plain": [
       "<IPython.core.display.Math at 0x7f537abe2198>"
      ]
     },
     "metadata": {},
     "output_type": "display_data"
    },
    {
     "data": {
      "text/latex": [
       "$$EQs_\\text{ graphene }-b[5] = \\left[\\begin{matrix}24081834.738658 i H_{{z}} & - \\frac{d}{d y} E_{{x}} & \\frac{d}{d x} E_{{y}}\\end{matrix}\\right]$$"
      ],
      "text/plain": [
       "<IPython.core.display.Math at 0x7f53751c7668>"
      ]
     },
     "metadata": {},
     "output_type": "display_data"
    },
    {
     "name": "stdout",
     "output_type": "stream",
     "text": [
      "initial matrix nnz 1843027 0:00:16\n",
      "initial matrix shared nnz 2219743 0:00:10\n",
      "final matrix (application of boundary conditions) nnz:  2219267 0:00:03\n",
      "A_11.shape:  (157356, 157356) A_11.nnz:  157356\n",
      "warning: this inversion mechanism only works for diagonal matrices\n",
      "eliminating z components 0:00:01\n",
      "A_reduced nnz:  2939085\n",
      "solving eigenvalues 0:04:34\n",
      "[ 4.10522772 -9.01010409e-01j  3.15620871 -1.00453662e+00j\n",
      "  0.91300145 -5.84979154e-07j  0.75615267 -1.86472767e-02j]\n",
      "(359926, 4)\n",
      "0 0 x_correlation:  (-0.967371453375-0.245521732097j)     abs(x_correlation):  0.998042308591\n",
      "k_correlation_r:  0.000282626270405     k_correlation_i:  0.000782724871057\n",
      "0 1 x_correlation:  (0.13962938337+0.25215170114j)     abs(x_correlation):  0.28823054156\n",
      "k_correlation_r:  0.229201407676     k_correlation_i:  0.0975601293638\n",
      "0 2 x_correlation:  (-0.530280787005-0.111179461992j)     abs(x_correlation):  0.5418104704\n",
      "k_correlation_r:  0.725599017399     k_correlation_i:  0.738368123259\n",
      "1 0 x_correlation:  (0.380874950566-0.0582039989252j)     abs(x_correlation):  0.385296552618\n",
      "k_correlation_r:  0.230955940881     k_correlation_i:  0.102356060253\n",
      "1 1 x_correlation:  (-0.661765837845-0.741805356195j)     abs(x_correlation):  0.994087124259\n",
      "k_correlation_r:  0.00255823671566     k_correlation_i:  0.00609297007512\n",
      "1 2 x_correlation:  (-0.078037690155+0.168853287482j)     abs(x_correlation):  0.186014283802\n",
      "k_correlation_r:  0.643091245297     k_correlation_i:  0.708306588681\n",
      "2 0 x_correlation:  (8.63792101755e-06+7.0817777041e-06j)     abs(x_correlation):  1.11698368366e-05\n",
      "k_correlation_r:  0.777537416827     k_correlation_i:  0.99999935126\n",
      "2 1 x_correlation:  (4.5483357848e-06+4.1939094868e-06j)     abs(x_correlation):  6.18677906465e-06\n",
      "k_correlation_r:  0.711468454124     k_correlation_i:  0.999999414093\n",
      "2 2 x_correlation:  (9.67405992668e-06+4.20987605697e-06j)     abs(x_correlation):  1.05503787553e-05\n",
      "k_correlation_r:  0.189508334501     k_correlation_i:  0.999999830136\n",
      "3 0 x_correlation:  (0.130664850528+0.465378660077j)     abs(x_correlation):  0.483374182615\n",
      "k_correlation_r:  0.815755301994     k_correlation_i:  0.979320237774\n",
      "3 1 x_correlation:  (0.608673994069-0.305203303486j)     abs(x_correlation):  0.680906078336\n",
      "k_correlation_r:  0.761036634669     k_correlation_i:  0.981323139208\n",
      "3 2 x_correlation:  (0.0313760131153-0.024298051857j)     abs(x_correlation):  0.0396843737894\n",
      "k_correlation_r:  0.328746479445     k_correlation_i:  0.99458527676\n",
      "X :  [7000000000000.0, 6950000000000.0, 6850000000000.0, 6650000000000.0, 6450000000000.0, 6250000000000.0, 6050000000000.0, 5850000000000.0, 5650000000000.0, 5450000000000.0, 5250000000000.0, 5050000000000.0, 4850000000000.0, 4650000000000.0, 4450000000000.0, 4250000000000.0, 4050000000000.0, 3850000000000.0, 3650000000000.0, 3450000000000.0, 3250000000000.0, 3050000000000.0]\n",
      "Y :  [[(9.0264198593920089-1.0265850275942863j)], [(8.9591509490803887-1.0248428143216293j)], [(8.8250554453441765-1.0213873265953377j)], [(8.5585964224031823-1.0145863243291824j)], [(8.2943834560896317-1.0079245347408612j)], [(8.0323500935623926-1.0013955543194086j)], [(7.7724369581080106-0.99499398313867937j)], [(7.514589631061205-0.98871676944562481j)], [(7.258763165805771-0.98256238682030228j)], [(7.0049175938053851-0.97652130310611174j)], [(6.7530093091440699-0.97058404763619255j)], [(6.5029986638359283-0.96474407348038327j)], [(6.2548497421581803-0.95899303239179656j)], [(6.0085276451703766-0.95332020226361569j)], [(5.7639986714177329-0.94771148236624303j)], [(5.5212310019493929-0.94214330023901227j)], [(5.2801971939104995-0.93657063085066661j)], [(5.0408877459070469-0.93090182701082791j)], [(4.8033478091954969-0.92495273204950945j)], [(4.5677684513733068-0.918381978216953j)], [(4.3346750063904764-0.91063646924897546j)], [(4.1052277194466695-0.90101040944521849j)]]\n",
      "X :  [7000000000000.0, 6950000000000.0, 6850000000000.0, 6650000000000.0, 6450000000000.0, 6250000000000.0, 6050000000000.0, 5850000000000.0, 5650000000000.0, 5450000000000.0, 5250000000000.0, 5050000000000.0, 4850000000000.0, 4650000000000.0, 4450000000000.0, 4250000000000.0, 4050000000000.0, 3850000000000.0, 3650000000000.0, 3450000000000.0, 3250000000000.0, 3050000000000.0]\n",
      "Y :  [[(8.0232073158584836-1.0038177634322727j)], [(7.9580318024293435-1.002165067653527j)], [(7.8280933139952493-0.99888371498477257j)], [(7.5698373817955931-0.99241010085502668j)], [(7.3136932127065855-0.98604443809278242j)], [(7.0596085026341342-0.97977554145591095j)], [(6.8075371305561374-0.97359284654969247j)], [(6.5574373335614329-0.96748716557405556j)], [(6.3092748166396113-0.9614511664337817j)], [(6.0630218535066458-0.95547378216544254j)], [(5.8186517398008499-0.94954680963997151j)], [(5.5761431695747739-0.94367608673403425j)], [(5.3354794279992186-0.9378981947347097j)], [(5.0966347273222867-0.93231809097391694j)], [(4.8595367153326663-0.92717364591425044j)], [(4.6239798167363606-0.92292684758583232j)], [(4.3894683045966207-0.92037244078827407j)], [(4.1549808394212153-0.92075737918946254j)], [(3.9186483599056778-0.92593117488577226j)], [(3.677312941318621-0.93859549972758227j)], [(3.4258647371236117-0.96275710941544779j)], [(3.156208709294305-1.0045366154869255j)]]\n",
      "X :  [7000000000000.0, 6950000000000.0, 6850000000000.0, 6650000000000.0, 6450000000000.0, 6250000000000.0, 6050000000000.0, 5850000000000.0, 5650000000000.0, 5450000000000.0, 5250000000000.0, 5050000000000.0, 4850000000000.0, 4650000000000.0, 4450000000000.0, 4250000000000.0, 4050000000000.0, 3850000000000.0, 3650000000000.0, 3450000000000.0, 3250000000000.0, 3050000000000.0]\n",
      "Y :  [[(6.5956702117118349-0.78791361784606873j)], [(6.5435530246973519-0.78802249083072595j)], [(6.4391320917083572-0.78834760985526786j)], [(6.2293811334969185-0.7894861249931886j)], [(6.0180579613309053-0.79141024897694101j)], [(5.8046345497448524-0.79432853850880258j)], [(5.5884413350732611-0.79852240627067517j)], [(5.368619202567892-0.80437522758025648j)], [(5.1440509634386773-0.81241607687996109j)], [(4.9132683828200285-0.82338117543705347j)], [(4.6743175995161046-0.8383148983460913j)], [(4.4245647702757411-0.85871531442195226j)], [(4.1604339167452462-0.88679535356905737j)], [(3.877037422780544-0.92593969254811115j)], [(3.5677148568018668-0.98160065240720229j)], [(3.2235927485300775-1.0632398312221838j)], [(2.8341879494083608-1.1885173849669517j)], [(2.3933563458327187-1.3918629656390147j)], [(1.9259998070949513-1.7293820301048439j)], [(1.5244979731893422-2.2249726788156909j)], [(1.2579908774963218-2.7964485872495111j)], None]\n",
      "X :  [7000000000000.0, 6950000000000.0, 6850000000000.0, 6650000000000.0, 6450000000000.0, 6250000000000.0, 6050000000000.0, 5850000000000.0, 5650000000000.0, 5450000000000.0, 5250000000000.0, 5050000000000.0, 4850000000000.0, 4650000000000.0, 4450000000000.0, 4250000000000.0, 4050000000000.0]\n",
      "Y :  [[(6.2737880213737869-0.83870302667178354j)], [(6.2130298312009069-0.84076827627467954j)], [(6.0903511298235351-0.84530657527834485j)], [(5.8397096988549269-0.85626279522147908j)], [(5.580619695053235-0.87030920913645859j)], [(5.3110009133316254-0.88837921927722785j)], [(5.0281827942839818-0.91179539888921979j)], [(4.7286956697010751-0.94249855324883391j)], [(4.4079744733559121-0.98345432903454566j)], [(4.0599805372069566-1.039443234787458j)], [(3.6767770262152428-1.1186428471058749j)], [(3.2486663163422-1.2359996001677609j)], [(2.7675710930930602-1.4201967346649025j)], [(2.2445842948598753-1.7225236426241923j)], [(1.752594825411963-2.1916902252273749j)], [(1.3947765144486235-2.7794959465476055j)], None]\n",
      "X :  [7000000000000.0, 6950000000000.0, 6850000000000.0, 6650000000000.0, 6450000000000.0, 6250000000000.0, 6050000000000.0, 5850000000000.0, 5650000000000.0, 5450000000000.0, 5250000000000.0, 5050000000000.0, 4850000000000.0]\n",
      "Y :  [[(5.722674439701902-0.93216942168447792j)], [(5.6464262552655367-0.93829747873521585j)], [(5.4908645252106938-0.95174727681905913j)], [(5.1657822429627718-0.98437391926430307j)], [(4.8182412765899674-1.0271412924220784j)], [(4.4423714911030308-1.0846159873516263j)], [(4.0305299081864217-1.164515743117954j)], [(3.5733189335176081-1.2807297582230945j)], [(3.0622557973877278-1.4595334940394458j)], [(2.5039824932274826-1.7484192778097865j)], [(1.9589728516656573-2.2006276441259631j)], [(1.5326326870612297-2.789266340286265j)], None]\n",
      "----------------------------------------------------------------------------------------------------\n"
     ]
    },
    {
     "name": "stdout",
     "output_type": "stream",
     "text": [
      "frequency: 2850000000000.0   k_init: (3.87942659054-0.889503798806j)\n"
     ]
    },
    {
     "data": {
      "text/latex": [
       "$$Eqs_\\text{ freespace } = \\left[\\begin{matrix}376.730313461771 H_{{y}} + 1.67415619622349 \\cdot 10^{-5} i \\frac{d}{d x} E_{{z}}\\\\- 376.730313461771 H_{{x}} + 1.67415619622349 \\cdot 10^{-5} i \\frac{d}{d y} E_{{z}}\\\\- 0.00265441872943807 E_{{y}} + 1.67415619622349 \\cdot 10^{-5} i \\frac{d}{d x} H_{{z}}\\\\0.00265441872943807 E_{{x}} + 1.67415619622349 \\cdot 10^{-5} i \\frac{d}{d y} H_{{z}}\\\\- 158.552632987641 i E_{{z}} - \\frac{d}{d y} H_{{x}} + \\frac{d}{d x} H_{{y}}\\\\22502698.0344837 i H_{{z}} - \\frac{d}{d y} E_{{x}} + \\frac{d}{d x} E_{{y}}\\end{matrix}\\right]$$"
      ],
      "text/plain": [
       "<IPython.core.display.Math at 0x7f537ad166d8>"
      ]
     },
     "metadata": {},
     "output_type": "display_data"
    },
    {
     "name": "stdout",
     "output_type": "stream",
     "text": [
      "Eq1 boundary equations \n"
     ]
    },
    {
     "data": {
      "text/latex": [
       "$$EQs_\\text{ freespace }-b[0] = \\left[\\begin{matrix}376.730313461771 H_{{y}} & 1.67415619622349 \\cdot 10^{-5} i \\frac{d}{d x} E_{{z}}\\end{matrix}\\right]$$"
      ],
      "text/plain": [
       "<IPython.core.display.Math at 0x7f536ddbff60>"
      ]
     },
     "metadata": {},
     "output_type": "display_data"
    },
    {
     "data": {
      "text/latex": [
       "$$EQs_\\text{ freespace }-b[1] = \\left[\\begin{matrix}- 376.730313461771 H_{{x}} & 1.67415619622349 \\cdot 10^{-5} i \\frac{d}{d y} E_{{z}}\\end{matrix}\\right]$$"
      ],
      "text/plain": [
       "<IPython.core.display.Math at 0x7f536ddbfeb8>"
      ]
     },
     "metadata": {},
     "output_type": "display_data"
    },
    {
     "data": {
      "text/latex": [
       "$$EQs_\\text{ freespace }-b[2] = \\left[\\begin{matrix}- 0.00265441872943807 E_{{y}} & 1.67415619622349 \\cdot 10^{-5} i \\frac{d}{d x} H_{{z}}\\end{matrix}\\right]$$"
      ],
      "text/plain": [
       "<IPython.core.display.Math at 0x7f536ddbff60>"
      ]
     },
     "metadata": {},
     "output_type": "display_data"
    },
    {
     "data": {
      "text/latex": [
       "$$EQs_\\text{ freespace }-b[3] = \\left[\\begin{matrix}0.00265441872943807 E_{{x}} & 1.67415619622349 \\cdot 10^{-5} i \\frac{d}{d y} H_{{z}}\\end{matrix}\\right]$$"
      ],
      "text/plain": [
       "<IPython.core.display.Math at 0x7f536ddbfeb8>"
      ]
     },
     "metadata": {},
     "output_type": "display_data"
    },
    {
     "data": {
      "text/latex": [
       "$$EQs_\\text{ freespace }-b[4] = \\left[\\begin{matrix}- 158.552632987641 i E_{{z}} & - \\frac{d}{d y} H_{{x}} & \\frac{d}{d x} H_{{y}}\\end{matrix}\\right]$$"
      ],
      "text/plain": [
       "<IPython.core.display.Math at 0x7f536ddbff60>"
      ]
     },
     "metadata": {},
     "output_type": "display_data"
    },
    {
     "data": {
      "text/latex": [
       "$$EQs_\\text{ freespace }-b[5] = \\left[\\begin{matrix}22502698.0344837 i H_{{z}} & - \\frac{d}{d y} E_{{x}} & \\frac{d}{d x} E_{{y}}\\end{matrix}\\right]$$"
      ],
      "text/plain": [
       "<IPython.core.display.Math at 0x7f536ddbfeb8>"
      ]
     },
     "metadata": {},
     "output_type": "display_data"
    },
    {
     "name": "stdout",
     "output_type": "stream",
     "text": [
      "[[(11184.473958901021-37439.91567329986j), 0.0, (-5931.1001377822877-3750.8732997773327j)], [0.0, 0.0, 0.0], [(5931.1001377822877+3750.8732997773327j), 0.0, (11184.473958901021-37439.91567329986j)]]\n"
     ]
    },
    {
     "data": {
      "text/latex": [
       "$$Eqs_\\text{ graphene } = \\left[\\begin{matrix}376.730313461771 H_{{y}} + 1.67415619622349 \\cdot 10^{-5} i \\frac{d}{d x} E_{{z}}\\\\- 376.730313461771 H_{{x}} + 1.67415619622349 \\cdot 10^{-5} i \\frac{d}{d y} E_{{z}}\\\\- 0.00265441872943807 E_{{y}} + 1.67415619622349 \\cdot 10^{-5} i \\frac{d}{d x} H_{{z}}\\\\- 0.624148249375961 E_{{x}} - 0.187245563797944 i E_{{x}} - 0.0627954777607146 E_{{z}} + 0.099295880460902 i E_{{z}} + 1.67415619622349 \\cdot 10^{-5} i \\frac{d}{d y} H_{{z}}\\\\- 5931.10013778229 E_{{x}} - 3750.87329977733 i E_{{x}} - 11184.473958901 E_{{z}} + 37281.3630403122 i E_{{z}} - \\frac{d}{d y} H_{{x}} + \\frac{d}{d x} H_{{y}}\\\\22502698.0344837 i H_{{z}} - \\frac{d}{d y} E_{{x}} + \\frac{d}{d x} E_{{y}}\\end{matrix}\\right]$$"
      ],
      "text/plain": [
       "<IPython.core.display.Math at 0x7f537ace90f0>"
      ]
     },
     "metadata": {},
     "output_type": "display_data"
    },
    {
     "name": "stdout",
     "output_type": "stream",
     "text": [
      "Eq1 boundary equations \n"
     ]
    },
    {
     "data": {
      "text/latex": [
       "$$EQs_\\text{ graphene }-b[0] = \\left[\\begin{matrix}376.730313461771 H_{{y}} & 1.67415619622349 \\cdot 10^{-5} i \\frac{d}{d x} E_{{z}}\\end{matrix}\\right]$$"
      ],
      "text/plain": [
       "<IPython.core.display.Math at 0x7f5374695470>"
      ]
     },
     "metadata": {},
     "output_type": "display_data"
    },
    {
     "data": {
      "text/latex": [
       "$$EQs_\\text{ graphene }-b[1] = \\left[\\begin{matrix}- 376.730313461771 H_{{x}} & 1.67415619622349 \\cdot 10^{-5} i \\frac{d}{d y} E_{{z}}\\end{matrix}\\right]$$"
      ],
      "text/plain": [
       "<IPython.core.display.Math at 0x7f5374695470>"
      ]
     },
     "metadata": {},
     "output_type": "display_data"
    },
    {
     "data": {
      "text/latex": [
       "$$EQs_\\text{ graphene }-b[2] = \\left[\\begin{matrix}0 & - 0.00265441872943807 E_{{y}} & 0 & 1.67415619622349 \\cdot 10^{-5} i \\frac{d}{d x} H_{{z}}\\end{matrix}\\right]$$"
      ],
      "text/plain": [
       "<IPython.core.display.Math at 0x7f53751da4a8>"
      ]
     },
     "metadata": {},
     "output_type": "display_data"
    },
    {
     "data": {
      "text/latex": [
       "$$EQs_\\text{ graphene }-b[3] = \\left[\\begin{matrix}1.67415619622349 \\cdot 10^{-5} E_{{x}} \\left(158.552632987641 - i \\left(11184.473958901 - 37439.9156732999 i\\right)\\right) & 0 & - 1.67415619622349 \\cdot 10^{-5} i E_{{z}} \\left(-5931.10013778229 - 3750.87329977733 i\\right) & 1.67415619622349 \\cdot 10^{-5} i \\frac{d}{d y} H_{{z}}\\end{matrix}\\right]$$"
      ],
      "text/plain": [
       "<IPython.core.display.Math at 0x7f537af5c0b8>"
      ]
     },
     "metadata": {},
     "output_type": "display_data"
    },
    {
     "data": {
      "text/latex": [
       "$$EQs_\\text{ graphene }-b[4] = \\left[\\begin{matrix}- E_{{x}} \\left(5931.10013778229 + 3750.87329977733 i\\right) & 0 & - E_{{z}} \\left(11184.473958901 - 37281.3630403122 i\\right) & - \\frac{d}{d y} H_{{x}} & \\frac{d}{d x} H_{{y}}\\end{matrix}\\right]$$"
      ],
      "text/plain": [
       "<IPython.core.display.Math at 0x7f53751da4a8>"
      ]
     },
     "metadata": {},
     "output_type": "display_data"
    },
    {
     "data": {
      "text/latex": [
       "$$EQs_\\text{ graphene }-b[5] = \\left[\\begin{matrix}22502698.0344837 i H_{{z}} & - \\frac{d}{d y} E_{{x}} & \\frac{d}{d x} E_{{y}}\\end{matrix}\\right]$$"
      ],
      "text/plain": [
       "<IPython.core.display.Math at 0x7f537af5c0b8>"
      ]
     },
     "metadata": {},
     "output_type": "display_data"
    },
    {
     "name": "stdout",
     "output_type": "stream",
     "text": [
      "initial matrix nnz 1843027 0:00:16\n",
      "initial matrix shared nnz 2219743 0:00:09\n",
      "final matrix (application of boundary conditions) nnz:  2219267 0:00:03\n",
      "A_11.shape:  (157356, 157356) A_11.nnz:  157356\n",
      "warning: this inversion mechanism only works for diagonal matrices\n",
      "eliminating z components 0:00:01\n",
      "A_reduced nnz:  2945211\n",
      "solving eigenvalues 0:03:41\n",
      "[ 3.88149586 -8.88996911e-01j  2.85581660 -1.07380463e+00j\n",
      "  0.89964517 +9.36937371e-06j]\n",
      "(359926, 3)\n",
      "0 0 x_correlation:  (0.819132789714-0.569845148698j)     abs(x_correlation):  0.997848696286\n",
      "k_correlation_r:  0.000533110700194     k_correlation_i:  0.000569854645974\n",
      "0 1 x_correlation:  (-0.324641015372+0.113708309465j)     abs(x_correlation):  0.343978732632\n",
      "k_correlation_r:  0.261020760263     k_correlation_i:  0.164424770764\n",
      "1 0 x_correlation:  (-0.0878833163482+0.441497933344j)     abs(x_correlation):  0.450159863204\n",
      "k_correlation_r:  0.26385600226     k_correlation_i:  0.171633483374\n",
      "1 1 x_correlation:  (0.588998022291-0.80009758422j)     abs(x_correlation):  0.99351638866\n",
      "k_correlation_r:  0.00436776578588     k_correlation_i:  0.00919218383755\n",
      "2 0 x_correlation:  (-0.000170309294009-0.000151227125686j)     abs(x_correlation):  0.000227760618126\n",
      "k_correlation_r:  0.768098417104     k_correlation_i:  1.00001053326\n",
      "2 1 x_correlation:  (-0.000149274181067-0.000492243388278j)     abs(x_correlation):  0.000514379562616\n",
      "k_correlation_r:  0.686353903848     k_correlation_i:  1.00000880635\n",
      "X :  [7000000000000.0, 6950000000000.0, 6850000000000.0, 6650000000000.0, 6450000000000.0, 6250000000000.0, 6050000000000.0, 5850000000000.0, 5650000000000.0, 5450000000000.0, 5250000000000.0, 5050000000000.0, 4850000000000.0, 4650000000000.0, 4450000000000.0, 4250000000000.0, 4050000000000.0, 3850000000000.0, 3650000000000.0, 3450000000000.0, 3250000000000.0, 3050000000000.0, 2850000000000.0]\n",
      "Y :  [[(9.0264198593920089-1.0265850275942863j)], [(8.9591509490803887-1.0248428143216293j)], [(8.8250554453441765-1.0213873265953377j)], [(8.5585964224031823-1.0145863243291824j)], [(8.2943834560896317-1.0079245347408612j)], [(8.0323500935623926-1.0013955543194086j)], [(7.7724369581080106-0.99499398313867937j)], [(7.514589631061205-0.98871676944562481j)], [(7.258763165805771-0.98256238682030228j)], [(7.0049175938053851-0.97652130310611174j)], [(6.7530093091440699-0.97058404763619255j)], [(6.5029986638359283-0.96474407348038327j)], [(6.2548497421581803-0.95899303239179656j)], [(6.0085276451703766-0.95332020226361569j)], [(5.7639986714177329-0.94771148236624303j)], [(5.5212310019493929-0.94214330023901227j)], [(5.2801971939104995-0.93657063085066661j)], [(5.0408877459070469-0.93090182701082791j)], [(4.8033478091954969-0.92495273204950945j)], [(4.5677684513733068-0.918381978216953j)], [(4.3346750063904764-0.91063646924897546j)], [(4.1052277194466695-0.90101040944521849j)], [(3.8814958575160263-0.88899691093329636j)]]\n",
      "X :  [7000000000000.0, 6950000000000.0, 6850000000000.0, 6650000000000.0, 6450000000000.0, 6250000000000.0, 6050000000000.0, 5850000000000.0, 5650000000000.0, 5450000000000.0, 5250000000000.0, 5050000000000.0, 4850000000000.0, 4650000000000.0, 4450000000000.0, 4250000000000.0, 4050000000000.0, 3850000000000.0, 3650000000000.0, 3450000000000.0, 3250000000000.0, 3050000000000.0, 2850000000000.0]\n",
      "Y :  [[(8.0232073158584836-1.0038177634322727j)], [(7.9580318024293435-1.002165067653527j)], [(7.8280933139952493-0.99888371498477257j)], [(7.5698373817955931-0.99241010085502668j)], [(7.3136932127065855-0.98604443809278242j)], [(7.0596085026341342-0.97977554145591095j)], [(6.8075371305561374-0.97359284654969247j)], [(6.5574373335614329-0.96748716557405556j)], [(6.3092748166396113-0.9614511664337817j)], [(6.0630218535066458-0.95547378216544254j)], [(5.8186517398008499-0.94954680963997151j)], [(5.5761431695747739-0.94367608673403425j)], [(5.3354794279992186-0.9378981947347097j)], [(5.0966347273222867-0.93231809097391694j)], [(4.8595367153326663-0.92717364591425044j)], [(4.6239798167363606-0.92292684758583232j)], [(4.3894683045966207-0.92037244078827407j)], [(4.1549808394212153-0.92075737918946254j)], [(3.9186483599056778-0.92593117488577226j)], [(3.677312941318621-0.93859549972758227j)], [(3.4258647371236117-0.96275710941544779j)], [(3.156208709294305-1.0045366154869255j)], [(2.8558165992984978-1.0738046274833923j)]]\n",
      "X :  [7000000000000.0, 6950000000000.0, 6850000000000.0, 6650000000000.0, 6450000000000.0, 6250000000000.0, 6050000000000.0, 5850000000000.0, 5650000000000.0, 5450000000000.0, 5250000000000.0, 5050000000000.0, 4850000000000.0, 4650000000000.0, 4450000000000.0, 4250000000000.0, 4050000000000.0, 3850000000000.0, 3650000000000.0, 3450000000000.0, 3250000000000.0, 3050000000000.0]\n",
      "Y :  [[(6.5956702117118349-0.78791361784606873j)], [(6.5435530246973519-0.78802249083072595j)], [(6.4391320917083572-0.78834760985526786j)], [(6.2293811334969185-0.7894861249931886j)], [(6.0180579613309053-0.79141024897694101j)], [(5.8046345497448524-0.79432853850880258j)], [(5.5884413350732611-0.79852240627067517j)], [(5.368619202567892-0.80437522758025648j)], [(5.1440509634386773-0.81241607687996109j)], [(4.9132683828200285-0.82338117543705347j)], [(4.6743175995161046-0.8383148983460913j)], [(4.4245647702757411-0.85871531442195226j)], [(4.1604339167452462-0.88679535356905737j)], [(3.877037422780544-0.92593969254811115j)], [(3.5677148568018668-0.98160065240720229j)], [(3.2235927485300775-1.0632398312221838j)], [(2.8341879494083608-1.1885173849669517j)], [(2.3933563458327187-1.3918629656390147j)], [(1.9259998070949513-1.7293820301048439j)], [(1.5244979731893422-2.2249726788156909j)], [(1.2579908774963218-2.7964485872495111j)], None]\n",
      "X :  [7000000000000.0, 6950000000000.0, 6850000000000.0, 6650000000000.0, 6450000000000.0, 6250000000000.0, 6050000000000.0, 5850000000000.0, 5650000000000.0, 5450000000000.0, 5250000000000.0, 5050000000000.0, 4850000000000.0, 4650000000000.0, 4450000000000.0, 4250000000000.0, 4050000000000.0]\n",
      "Y :  [[(6.2737880213737869-0.83870302667178354j)], [(6.2130298312009069-0.84076827627467954j)], [(6.0903511298235351-0.84530657527834485j)], [(5.8397096988549269-0.85626279522147908j)], [(5.580619695053235-0.87030920913645859j)], [(5.3110009133316254-0.88837921927722785j)], [(5.0281827942839818-0.91179539888921979j)], [(4.7286956697010751-0.94249855324883391j)], [(4.4079744733559121-0.98345432903454566j)], [(4.0599805372069566-1.039443234787458j)], [(3.6767770262152428-1.1186428471058749j)], [(3.2486663163422-1.2359996001677609j)], [(2.7675710930930602-1.4201967346649025j)], [(2.2445842948598753-1.7225236426241923j)], [(1.752594825411963-2.1916902252273749j)], [(1.3947765144486235-2.7794959465476055j)], None]\n",
      "X :  [7000000000000.0, 6950000000000.0, 6850000000000.0, 6650000000000.0, 6450000000000.0, 6250000000000.0, 6050000000000.0, 5850000000000.0, 5650000000000.0, 5450000000000.0, 5250000000000.0, 5050000000000.0, 4850000000000.0]\n",
      "Y :  [[(5.722674439701902-0.93216942168447792j)], [(5.6464262552655367-0.93829747873521585j)], [(5.4908645252106938-0.95174727681905913j)], [(5.1657822429627718-0.98437391926430307j)], [(4.8182412765899674-1.0271412924220784j)], [(4.4423714911030308-1.0846159873516263j)], [(4.0305299081864217-1.164515743117954j)], [(3.5733189335176081-1.2807297582230945j)], [(3.0622557973877278-1.4595334940394458j)], [(2.5039824932274826-1.7484192778097865j)], [(1.9589728516656573-2.2006276441259631j)], [(1.5326326870612297-2.789266340286265j)], None]\n",
      "----------------------------------------------------------------------------------------------------\n",
      "frequency: 2650000000000.0   k_init: (3.6634794206-0.874595973713j)\n"
     ]
    },
    {
     "data": {
      "text/latex": [
       "$$Eqs_\\text{ freespace } = \\left[\\begin{matrix}376.730313461771 H_{{y}} + 1.80050760725922 \\cdot 10^{-5} i \\frac{d}{d x} E_{{z}}\\\\- 376.730313461771 H_{{x}} + 1.80050760725922 \\cdot 10^{-5} i \\frac{d}{d y} E_{{z}}\\\\- 0.00265441872943807 E_{{y}} + 1.80050760725922 \\cdot 10^{-5} i \\frac{d}{d x} H_{{z}}\\\\0.00265441872943807 E_{{x}} + 1.80050760725922 \\cdot 10^{-5} i \\frac{d}{d y} H_{{z}}\\\\- 147.426132427104 i E_{{z}} - \\frac{d}{d y} H_{{x}} + \\frac{d}{d x} H_{{y}}\\\\20923561.3303094 i H_{{z}} - \\frac{d}{d y} E_{{x}} + \\frac{d}{d x} E_{{y}}\\end{matrix}\\right]$$"
      ],
      "text/plain": [
       "<IPython.core.display.Math at 0x7f537a9ec048>"
      ]
     },
     "metadata": {},
     "output_type": "display_data"
    },
    {
     "name": "stdout",
     "output_type": "stream",
     "text": [
      "Eq1 boundary equations \n"
     ]
    },
    {
     "data": {
      "text/latex": [
       "$$EQs_\\text{ freespace }-b[0] = \\left[\\begin{matrix}376.730313461771 H_{{y}} & 1.80050760725922 \\cdot 10^{-5} i \\frac{d}{d x} E_{{z}}\\end{matrix}\\right]$$"
      ],
      "text/plain": [
       "<IPython.core.display.Math at 0x7f5376a8d7b8>"
      ]
     },
     "metadata": {},
     "output_type": "display_data"
    },
    {
     "data": {
      "text/latex": [
       "$$EQs_\\text{ freespace }-b[1] = \\left[\\begin{matrix}- 376.730313461771 H_{{x}} & 1.80050760725922 \\cdot 10^{-5} i \\frac{d}{d y} E_{{z}}\\end{matrix}\\right]$$"
      ],
      "text/plain": [
       "<IPython.core.display.Math at 0x7f5376a8d278>"
      ]
     },
     "metadata": {},
     "output_type": "display_data"
    },
    {
     "data": {
      "text/latex": [
       "$$EQs_\\text{ freespace }-b[2] = \\left[\\begin{matrix}- 0.00265441872943807 E_{{y}} & 1.80050760725922 \\cdot 10^{-5} i \\frac{d}{d x} H_{{z}}\\end{matrix}\\right]$$"
      ],
      "text/plain": [
       "<IPython.core.display.Math at 0x7f5376a8d7b8>"
      ]
     },
     "metadata": {},
     "output_type": "display_data"
    },
    {
     "data": {
      "text/latex": [
       "$$EQs_\\text{ freespace }-b[3] = \\left[\\begin{matrix}0.00265441872943807 E_{{x}} & 1.80050760725922 \\cdot 10^{-5} i \\frac{d}{d y} H_{{z}}\\end{matrix}\\right]$$"
      ],
      "text/plain": [
       "<IPython.core.display.Math at 0x7f5376a8d278>"
      ]
     },
     "metadata": {},
     "output_type": "display_data"
    },
    {
     "data": {
      "text/latex": [
       "$$EQs_\\text{ freespace }-b[4] = \\left[\\begin{matrix}- 147.426132427104 i E_{{z}} & - \\frac{d}{d y} H_{{x}} & \\frac{d}{d x} H_{{y}}\\end{matrix}\\right]$$"
      ],
      "text/plain": [
       "<IPython.core.display.Math at 0x7f5376a8d7b8>"
      ]
     },
     "metadata": {},
     "output_type": "display_data"
    },
    {
     "data": {
      "text/latex": [
       "$$EQs_\\text{ freespace }-b[5] = \\left[\\begin{matrix}20923561.3303094 i H_{{z}} & - \\frac{d}{d y} E_{{x}} & \\frac{d}{d x} E_{{y}}\\end{matrix}\\right]$$"
      ],
      "text/plain": [
       "<IPython.core.display.Math at 0x7f5376a8d278>"
      ]
     },
     "metadata": {},
     "output_type": "display_data"
    },
    {
     "name": "stdout",
     "output_type": "stream",
     "text": [
      "[[(12936.283467934594-39882.333750560196j), 0.0, (-6615.5162383199204-4594.1837078293511j)], [0.0, 0.0, 0.0], [(6615.5162383199204+4594.1837078293511j), 0.0, (12936.283467934594-39882.333750560196j)]]\n"
     ]
    },
    {
     "data": {
      "text/latex": [
       "$$Eqs_\\text{ graphene } = \\left[\\begin{matrix}376.730313461771 H_{{y}} + 1.80050760725922 \\cdot 10^{-5} i \\frac{d}{d x} E_{{z}}\\\\- 376.730313461771 H_{{x}} + 1.80050760725922 \\cdot 10^{-5} i \\frac{d}{d y} E_{{z}}\\\\- 0.00265441872943807 E_{{y}} + 1.80050760725922 \\cdot 10^{-5} i \\frac{d}{d x} H_{{z}}\\\\- 0.715430034401911 E_{{x}} - 0.23291876793678 i E_{{x}} - 0.0827186271509313 E_{{z}} + 0.119112873130419 i E_{{z}} + 1.80050760725922 \\cdot 10^{-5} i \\frac{d}{d y} H_{{z}}\\\\- 6615.51623831992 E_{{x}} - 4594.18370782935 i E_{{x}} - 12936.2834679346 E_{{z}} + 39734.9076181331 i E_{{z}} - \\frac{d}{d y} H_{{x}} + \\frac{d}{d x} H_{{y}}\\\\20923561.3303094 i H_{{z}} - \\frac{d}{d y} E_{{x}} + \\frac{d}{d x} E_{{y}}\\end{matrix}\\right]$$"
      ],
      "text/plain": [
       "<IPython.core.display.Math at 0x7f537a9ec048>"
      ]
     },
     "metadata": {},
     "output_type": "display_data"
    },
    {
     "name": "stdout",
     "output_type": "stream",
     "text": [
      "Eq1 boundary equations \n"
     ]
    },
    {
     "data": {
      "text/latex": [
       "$$EQs_\\text{ graphene }-b[0] = \\left[\\begin{matrix}376.730313461771 H_{{y}} & 1.80050760725922 \\cdot 10^{-5} i \\frac{d}{d x} E_{{z}}\\end{matrix}\\right]$$"
      ],
      "text/plain": [
       "<IPython.core.display.Math at 0x7f537ad70518>"
      ]
     },
     "metadata": {},
     "output_type": "display_data"
    },
    {
     "data": {
      "text/latex": [
       "$$EQs_\\text{ graphene }-b[1] = \\left[\\begin{matrix}- 376.730313461771 H_{{x}} & 1.80050760725922 \\cdot 10^{-5} i \\frac{d}{d y} E_{{z}}\\end{matrix}\\right]$$"
      ],
      "text/plain": [
       "<IPython.core.display.Math at 0x7f537ad70518>"
      ]
     },
     "metadata": {},
     "output_type": "display_data"
    },
    {
     "data": {
      "text/latex": [
       "$$EQs_\\text{ graphene }-b[2] = \\left[\\begin{matrix}0 & - 0.00265441872943807 E_{{y}} & 0 & 1.80050760725922 \\cdot 10^{-5} i \\frac{d}{d x} H_{{z}}\\end{matrix}\\right]$$"
      ],
      "text/plain": [
       "<IPython.core.display.Math at 0x7f537ad70518>"
      ]
     },
     "metadata": {},
     "output_type": "display_data"
    },
    {
     "data": {
      "text/latex": [
       "$$EQs_\\text{ graphene }-b[3] = \\left[\\begin{matrix}1.80050760725922 \\cdot 10^{-5} E_{{x}} \\left(147.426132427104 - i \\left(12936.2834679346 - 39882.3337505602 i\\right)\\right) & 0 & - 1.80050760725922 \\cdot 10^{-5} i E_{{z}} \\left(-6615.51623831992 - 4594.18370782935 i\\right) & 1.80050760725922 \\cdot 10^{-5} i \\frac{d}{d y} H_{{z}}\\end{matrix}\\right]$$"
      ],
      "text/plain": [
       "<IPython.core.display.Math at 0x7f537ad70518>"
      ]
     },
     "metadata": {},
     "output_type": "display_data"
    },
    {
     "data": {
      "text/latex": [
       "$$EQs_\\text{ graphene }-b[4] = \\left[\\begin{matrix}- E_{{x}} \\left(6615.51623831992 + 4594.18370782935 i\\right) & 0 & - E_{{z}} \\left(12936.2834679346 - 39734.9076181331 i\\right) & - \\frac{d}{d y} H_{{x}} & \\frac{d}{d x} H_{{y}}\\end{matrix}\\right]$$"
      ],
      "text/plain": [
       "<IPython.core.display.Math at 0x7f537ad70518>"
      ]
     },
     "metadata": {},
     "output_type": "display_data"
    },
    {
     "data": {
      "text/latex": [
       "$$EQs_\\text{ graphene }-b[5] = \\left[\\begin{matrix}20923561.3303094 i H_{{z}} & - \\frac{d}{d y} E_{{x}} & \\frac{d}{d x} E_{{y}}\\end{matrix}\\right]$$"
      ],
      "text/plain": [
       "<IPython.core.display.Math at 0x7f537ad70518>"
      ]
     },
     "metadata": {},
     "output_type": "display_data"
    },
    {
     "name": "stdout",
     "output_type": "stream",
     "text": [
      "initial matrix nnz 1843027 0:00:16\n",
      "initial matrix shared nnz 2219743 0:00:13\n",
      "final matrix (application of boundary conditions) nnz:  2219267 0:00:03\n",
      "A_11.shape:  (157356, 157356) A_11.nnz:  157356\n",
      "warning: this inversion mechanism only works for diagonal matrices\n",
      "eliminating z components 0:00:01\n",
      "A_reduced nnz:  2946133\n",
      "solving eigenvalues 0:03:29\n",
      "[ 3.66629018 -8.74946328e-01j  2.50635637 -1.18856453e+00j\n",
      "  0.88289602 +4.54007127e-05j]\n",
      "(359926, 3)\n",
      "0 0 x_correlation:  (-0.964969227383+0.253311185901j)     abs(x_correlation):  0.99766335339\n",
      "k_correlation_r:  0.000766650124909     k_correlation_i:  0.000400429890203\n",
      "0 1 x_correlation:  (0.360187558782+0.153551433003j)     abs(x_correlation):  0.391552193301\n",
      "k_correlation_r:  0.311377910227     k_correlation_i:  0.252541115165\n",
      "1 0 x_correlation:  (0.458877117676-0.198762403544j)     abs(x_correlation):  0.50007469661\n",
      "k_correlation_r:  0.315853569478     k_correlation_i:  0.264157770288\n",
      "1 1 x_correlation:  (-0.916557844122-0.383848386642j)     abs(x_correlation):  0.993689018531\n",
      "k_correlation_r:  0.00726110920932     k_correlation_i:  0.0151471660775\n",
      "2 0 x_correlation:  (0.000686269258529+0.000900194364139j)     abs(x_correlation):  0.00113195202567\n",
      "k_correlation_r:  0.759000687964     k_correlation_i:  1.0000519105\n",
      "2 1 x_correlation:  (0.000520667261559-0.00106265479375j)     abs(x_correlation):  0.0011833552332\n",
      "k_correlation_r:  0.650295055212     k_correlation_i:  1.00003878543\n",
      "X :  [7000000000000.0, 6950000000000.0, 6850000000000.0, 6650000000000.0, 6450000000000.0, 6250000000000.0, 6050000000000.0, 5850000000000.0, 5650000000000.0, 5450000000000.0, 5250000000000.0, 5050000000000.0, 4850000000000.0, 4650000000000.0, 4450000000000.0, 4250000000000.0, 4050000000000.0, 3850000000000.0, 3650000000000.0, 3450000000000.0, 3250000000000.0, 3050000000000.0, 2850000000000.0, 2650000000000.0]\n",
      "Y :  [[(9.0264198593920089-1.0265850275942863j)], [(8.9591509490803887-1.0248428143216293j)], [(8.8250554453441765-1.0213873265953377j)], [(8.5585964224031823-1.0145863243291824j)], [(8.2943834560896317-1.0079245347408612j)], [(8.0323500935623926-1.0013955543194086j)], [(7.7724369581080106-0.99499398313867937j)], [(7.514589631061205-0.98871676944562481j)], [(7.258763165805771-0.98256238682030228j)], [(7.0049175938053851-0.97652130310611174j)], [(6.7530093091440699-0.97058404763619255j)], [(6.5029986638359283-0.96474407348038327j)], [(6.2548497421581803-0.95899303239179656j)], [(6.0085276451703766-0.95332020226361569j)], [(5.7639986714177329-0.94771148236624303j)], [(5.5212310019493929-0.94214330023901227j)], [(5.2801971939104995-0.93657063085066661j)], [(5.0408877459070469-0.93090182701082791j)], [(4.8033478091954969-0.92495273204950945j)], [(4.5677684513733068-0.918381978216953j)], [(4.3346750063904764-0.91063646924897546j)], [(4.1052277194466695-0.90101040944521849j)], [(3.8814958575160263-0.88899691093329636j)], [(3.6662901824248366-0.87494632837546438j)]]\n",
      "X :  [7000000000000.0, 6950000000000.0, 6850000000000.0, 6650000000000.0, 6450000000000.0, 6250000000000.0, 6050000000000.0, 5850000000000.0, 5650000000000.0, 5450000000000.0, 5250000000000.0, 5050000000000.0, 4850000000000.0, 4650000000000.0, 4450000000000.0, 4250000000000.0, 4050000000000.0, 3850000000000.0, 3650000000000.0, 3450000000000.0, 3250000000000.0, 3050000000000.0, 2850000000000.0, 2650000000000.0]\n",
      "Y :  [[(8.0232073158584836-1.0038177634322727j)], [(7.9580318024293435-1.002165067653527j)], [(7.8280933139952493-0.99888371498477257j)], [(7.5698373817955931-0.99241010085502668j)], [(7.3136932127065855-0.98604443809278242j)], [(7.0596085026341342-0.97977554145591095j)], [(6.8075371305561374-0.97359284654969247j)], [(6.5574373335614329-0.96748716557405556j)], [(6.3092748166396113-0.9614511664337817j)], [(6.0630218535066458-0.95547378216544254j)], [(5.8186517398008499-0.94954680963997151j)], [(5.5761431695747739-0.94367608673403425j)], [(5.3354794279992186-0.9378981947347097j)], [(5.0966347273222867-0.93231809097391694j)], [(4.8595367153326663-0.92717364591425044j)], [(4.6239798167363606-0.92292684758583232j)], [(4.3894683045966207-0.92037244078827407j)], [(4.1549808394212153-0.92075737918946254j)], [(3.9186483599056778-0.92593117488577226j)], [(3.677312941318621-0.93859549972758227j)], [(3.4258647371236117-0.96275710941544779j)], [(3.156208709294305-1.0045366154869255j)], [(2.8558165992984978-1.0738046274833923j)], [(2.5063563688924888-1.1885645297305534j)]]\n",
      "X :  [7000000000000.0, 6950000000000.0, 6850000000000.0, 6650000000000.0, 6450000000000.0, 6250000000000.0, 6050000000000.0, 5850000000000.0, 5650000000000.0, 5450000000000.0, 5250000000000.0, 5050000000000.0, 4850000000000.0, 4650000000000.0, 4450000000000.0, 4250000000000.0, 4050000000000.0, 3850000000000.0, 3650000000000.0, 3450000000000.0, 3250000000000.0, 3050000000000.0]\n",
      "Y :  [[(6.5956702117118349-0.78791361784606873j)], [(6.5435530246973519-0.78802249083072595j)], [(6.4391320917083572-0.78834760985526786j)], [(6.2293811334969185-0.7894861249931886j)], [(6.0180579613309053-0.79141024897694101j)], [(5.8046345497448524-0.79432853850880258j)], [(5.5884413350732611-0.79852240627067517j)], [(5.368619202567892-0.80437522758025648j)], [(5.1440509634386773-0.81241607687996109j)], [(4.9132683828200285-0.82338117543705347j)], [(4.6743175995161046-0.8383148983460913j)], [(4.4245647702757411-0.85871531442195226j)], [(4.1604339167452462-0.88679535356905737j)], [(3.877037422780544-0.92593969254811115j)], [(3.5677148568018668-0.98160065240720229j)], [(3.2235927485300775-1.0632398312221838j)], [(2.8341879494083608-1.1885173849669517j)], [(2.3933563458327187-1.3918629656390147j)], [(1.9259998070949513-1.7293820301048439j)], [(1.5244979731893422-2.2249726788156909j)], [(1.2579908774963218-2.7964485872495111j)], None]\n",
      "X :  [7000000000000.0, 6950000000000.0, 6850000000000.0, 6650000000000.0, 6450000000000.0, 6250000000000.0, 6050000000000.0, 5850000000000.0, 5650000000000.0, 5450000000000.0, 5250000000000.0, 5050000000000.0, 4850000000000.0, 4650000000000.0, 4450000000000.0, 4250000000000.0, 4050000000000.0]\n",
      "Y :  [[(6.2737880213737869-0.83870302667178354j)], [(6.2130298312009069-0.84076827627467954j)], [(6.0903511298235351-0.84530657527834485j)], [(5.8397096988549269-0.85626279522147908j)], [(5.580619695053235-0.87030920913645859j)], [(5.3110009133316254-0.88837921927722785j)], [(5.0281827942839818-0.91179539888921979j)], [(4.7286956697010751-0.94249855324883391j)], [(4.4079744733559121-0.98345432903454566j)], [(4.0599805372069566-1.039443234787458j)], [(3.6767770262152428-1.1186428471058749j)], [(3.2486663163422-1.2359996001677609j)], [(2.7675710930930602-1.4201967346649025j)], [(2.2445842948598753-1.7225236426241923j)], [(1.752594825411963-2.1916902252273749j)], [(1.3947765144486235-2.7794959465476055j)], None]\n",
      "X :  [7000000000000.0, 6950000000000.0, 6850000000000.0, 6650000000000.0, 6450000000000.0, 6250000000000.0, 6050000000000.0, 5850000000000.0, 5650000000000.0, 5450000000000.0, 5250000000000.0, 5050000000000.0, 4850000000000.0]\n",
      "Y :  [[(5.722674439701902-0.93216942168447792j)], [(5.6464262552655367-0.93829747873521585j)], [(5.4908645252106938-0.95174727681905913j)], [(5.1657822429627718-0.98437391926430307j)], [(4.8182412765899674-1.0271412924220784j)], [(4.4423714911030308-1.0846159873516263j)], [(4.0305299081864217-1.164515743117954j)], [(3.5733189335176081-1.2807297582230945j)], [(3.0622557973877278-1.4595334940394458j)], [(2.5039824932274826-1.7484192778097865j)], [(1.9589728516656573-2.2006276441259631j)], [(1.5326326870612297-2.789266340286265j)], None]\n",
      "----------------------------------------------------------------------------------------------------\n",
      "frequency: 2450000000000.0   k_init: (3.45961069417-0.858858661772j)\n"
     ]
    },
    {
     "data": {
      "text/latex": [
       "$$Eqs_\\text{ freespace } = \\left[\\begin{matrix}376.730313461771 H_{{y}} + 1.94748782009671 \\cdot 10^{-5} i \\frac{d}{d x} E_{{z}}\\\\- 376.730313461771 H_{{x}} + 1.94748782009671 \\cdot 10^{-5} i \\frac{d}{d y} E_{{z}}\\\\- 0.00265441872943807 E_{{y}} + 1.94748782009671 \\cdot 10^{-5} i \\frac{d}{d x} H_{{z}}\\\\0.00265441872943807 E_{{x}} + 1.94748782009671 \\cdot 10^{-5} i \\frac{d}{d y} H_{{z}}\\\\- 136.299631866568 i E_{{z}} - \\frac{d}{d y} H_{{x}} + \\frac{d}{d x} H_{{y}}\\\\19344424.6261351 i H_{{z}} - \\frac{d}{d y} E_{{x}} + \\frac{d}{d x} E_{{y}}\\end{matrix}\\right]$$"
      ],
      "text/plain": [
       "<IPython.core.display.Math at 0x7f537abe2198>"
      ]
     },
     "metadata": {},
     "output_type": "display_data"
    },
    {
     "name": "stdout",
     "output_type": "stream",
     "text": [
      "Eq1 boundary equations \n"
     ]
    },
    {
     "data": {
      "text/latex": [
       "$$EQs_\\text{ freespace }-b[0] = \\left[\\begin{matrix}376.730313461771 H_{{y}} & 1.94748782009671 \\cdot 10^{-5} i \\frac{d}{d x} E_{{z}}\\end{matrix}\\right]$$"
      ],
      "text/plain": [
       "<IPython.core.display.Math at 0x7f5376a8db00>"
      ]
     },
     "metadata": {},
     "output_type": "display_data"
    },
    {
     "data": {
      "text/latex": [
       "$$EQs_\\text{ freespace }-b[1] = \\left[\\begin{matrix}- 376.730313461771 H_{{x}} & 1.94748782009671 \\cdot 10^{-5} i \\frac{d}{d y} E_{{z}}\\end{matrix}\\right]$$"
      ],
      "text/plain": [
       "<IPython.core.display.Math at 0x7f5376a8d160>"
      ]
     },
     "metadata": {},
     "output_type": "display_data"
    },
    {
     "data": {
      "text/latex": [
       "$$EQs_\\text{ freespace }-b[2] = \\left[\\begin{matrix}- 0.00265441872943807 E_{{y}} & 1.94748782009671 \\cdot 10^{-5} i \\frac{d}{d x} H_{{z}}\\end{matrix}\\right]$$"
      ],
      "text/plain": [
       "<IPython.core.display.Math at 0x7f5376a8db00>"
      ]
     },
     "metadata": {},
     "output_type": "display_data"
    },
    {
     "data": {
      "text/latex": [
       "$$EQs_\\text{ freespace }-b[3] = \\left[\\begin{matrix}0.00265441872943807 E_{{x}} & 1.94748782009671 \\cdot 10^{-5} i \\frac{d}{d y} H_{{z}}\\end{matrix}\\right]$$"
      ],
      "text/plain": [
       "<IPython.core.display.Math at 0x7f5376a8d160>"
      ]
     },
     "metadata": {},
     "output_type": "display_data"
    },
    {
     "data": {
      "text/latex": [
       "$$EQs_\\text{ freespace }-b[4] = \\left[\\begin{matrix}- 136.299631866568 i E_{{z}} & - \\frac{d}{d y} H_{{x}} & \\frac{d}{d x} H_{{y}}\\end{matrix}\\right]$$"
      ],
      "text/plain": [
       "<IPython.core.display.Math at 0x7f5376a8db00>"
      ]
     },
     "metadata": {},
     "output_type": "display_data"
    },
    {
     "data": {
      "text/latex": [
       "$$EQs_\\text{ freespace }-b[5] = \\left[\\begin{matrix}19344424.6261351 i H_{{z}} & - \\frac{d}{d y} E_{{x}} & \\frac{d}{d x} E_{{y}}\\end{matrix}\\right]$$"
      ],
      "text/plain": [
       "<IPython.core.display.Math at 0x7f5376a8d160>"
      ]
     },
     "metadata": {},
     "output_type": "display_data"
    },
    {
     "name": "stdout",
     "output_type": "stream",
     "text": [
      "[[(15122.576018880782-42601.057400093894j), 0.0, (-7386.3458772180329-5698.8850756193315j)], [0.0, 0.0, 0.0], [(7386.3458772180329+5698.8850756193315j), 0.0, (15122.576018880782-42601.057400093894j)]]\n"
     ]
    },
    {
     "data": {
      "text/latex": [
       "$$Eqs_\\text{ graphene } = \\left[\\begin{matrix}376.730313461771 H_{{y}} + 1.94748782009671 \\cdot 10^{-5} i \\frac{d}{d x} E_{{z}}\\\\- 376.730313461771 H_{{x}} + 1.94748782009671 \\cdot 10^{-5} i \\frac{d}{d y} E_{{z}}\\\\- 0.00265441872943807 E_{{y}} + 1.94748782009671 \\cdot 10^{-5} i \\frac{d}{d x} H_{{z}}\\\\- 0.826995985369799 E_{{x}} - 0.294510326052569 i E_{{x}} - 0.110985092728996 E_{{z}} + 0.143848186309037 i E_{{z}} + 1.94748782009671 \\cdot 10^{-5} i \\frac{d}{d y} H_{{z}}\\\\- 7386.34587721803 E_{{x}} - 5698.88507561933 i E_{{x}} - 15122.5760188808 E_{{z}} + 42464.7577682273 i E_{{z}} - \\frac{d}{d y} H_{{x}} + \\frac{d}{d x} H_{{y}}\\\\19344424.6261351 i H_{{z}} - \\frac{d}{d y} E_{{x}} + \\frac{d}{d x} E_{{y}}\\end{matrix}\\right]$$"
      ],
      "text/plain": [
       "<IPython.core.display.Math at 0x7f537ad70518>"
      ]
     },
     "metadata": {},
     "output_type": "display_data"
    },
    {
     "name": "stdout",
     "output_type": "stream",
     "text": [
      "Eq1 boundary equations \n"
     ]
    },
    {
     "data": {
      "text/latex": [
       "$$EQs_\\text{ graphene }-b[0] = \\left[\\begin{matrix}376.730313461771 H_{{y}} & 1.94748782009671 \\cdot 10^{-5} i \\frac{d}{d x} E_{{z}}\\end{matrix}\\right]$$"
      ],
      "text/plain": [
       "<IPython.core.display.Math at 0x7f537516fdd8>"
      ]
     },
     "metadata": {},
     "output_type": "display_data"
    },
    {
     "data": {
      "text/latex": [
       "$$EQs_\\text{ graphene }-b[1] = \\left[\\begin{matrix}- 376.730313461771 H_{{x}} & 1.94748782009671 \\cdot 10^{-5} i \\frac{d}{d y} E_{{z}}\\end{matrix}\\right]$$"
      ],
      "text/plain": [
       "<IPython.core.display.Math at 0x7f537516fdd8>"
      ]
     },
     "metadata": {},
     "output_type": "display_data"
    },
    {
     "data": {
      "text/latex": [
       "$$EQs_\\text{ graphene }-b[2] = \\left[\\begin{matrix}0 & - 0.00265441872943807 E_{{y}} & 0 & 1.94748782009671 \\cdot 10^{-5} i \\frac{d}{d x} H_{{z}}\\end{matrix}\\right]$$"
      ],
      "text/plain": [
       "<IPython.core.display.Math at 0x7f537516fdd8>"
      ]
     },
     "metadata": {},
     "output_type": "display_data"
    },
    {
     "data": {
      "text/latex": [
       "$$EQs_\\text{ graphene }-b[3] = \\left[\\begin{matrix}1.94748782009671 \\cdot 10^{-5} E_{{x}} \\left(136.299631866568 - i \\left(15122.5760188808 - 42601.0574000939 i\\right)\\right) & 0 & - 1.94748782009671 \\cdot 10^{-5} i E_{{z}} \\left(-7386.34587721803 - 5698.88507561933 i\\right) & 1.94748782009671 \\cdot 10^{-5} i \\frac{d}{d y} H_{{z}}\\end{matrix}\\right]$$"
      ],
      "text/plain": [
       "<IPython.core.display.Math at 0x7f537516fdd8>"
      ]
     },
     "metadata": {},
     "output_type": "display_data"
    },
    {
     "data": {
      "text/latex": [
       "$$EQs_\\text{ graphene }-b[4] = \\left[\\begin{matrix}- E_{{x}} \\left(7386.34587721803 + 5698.88507561933 i\\right) & 0 & - E_{{z}} \\left(15122.5760188808 - 42464.7577682273 i\\right) & - \\frac{d}{d y} H_{{x}} & \\frac{d}{d x} H_{{y}}\\end{matrix}\\right]$$"
      ],
      "text/plain": [
       "<IPython.core.display.Math at 0x7f5375163550>"
      ]
     },
     "metadata": {},
     "output_type": "display_data"
    },
    {
     "data": {
      "text/latex": [
       "$$EQs_\\text{ graphene }-b[5] = \\left[\\begin{matrix}19344424.6261351 i H_{{z}} & - \\frac{d}{d y} E_{{x}} & \\frac{d}{d x} E_{{y}}\\end{matrix}\\right]$$"
      ],
      "text/plain": [
       "<IPython.core.display.Math at 0x7f537516fdd8>"
      ]
     },
     "metadata": {},
     "output_type": "display_data"
    },
    {
     "name": "stdout",
     "output_type": "stream",
     "text": [
      "initial matrix nnz 1843027 0:00:16\n",
      "initial matrix shared nnz 2219743 0:00:13\n",
      "final matrix (application of boundary conditions) nnz:  2219267 0:00:05\n",
      "A_11.shape:  (157356, 157356) A_11.nnz:  157356\n",
      "warning: this inversion mechanism only works for diagonal matrices\n",
      "eliminating z components 0:00:01\n",
      "A_reduced nnz:  2945330\n",
      "solving eigenvalues 0:03:28\n",
      "[ 3.46225671 -8.60472561e-01j  2.08642346 -1.38901672e+00j\n",
      "  0.86142469 -5.27628525e-05j]\n",
      "(359926, 3)\n",
      "0 0 x_correlation:  (0.755649247024-0.651292668265j)     abs(x_correlation):  0.997591060638\n",
      "k_correlation_r:  0.000764246763088     k_correlation_i:  0.00187559631184\n",
      "0 1 x_correlation:  (-0.344078022003+0.25304466487j)     abs(x_correlation):  0.427108051487\n",
      "k_correlation_r:  0.391198229071     k_correlation_i:  0.362053567448\n",
      "1 0 x_correlation:  (-0.34452308504+0.404172235114j)     abs(x_correlation):  0.531085070175\n",
      "k_correlation_r:  0.396919583763     k_correlation_i:  0.38167867452\n",
      "1 1 x_correlation:  (0.776731428993-0.620971930232j)     abs(x_correlation):  0.994443488049\n",
      "k_correlation_r:  0.0101547946193     k_correlation_i:  0.0289416253093\n",
      "2 0 x_correlation:  (-0.000717946141775-2.25827901673e-05j)     abs(x_correlation):  0.000718301221564\n",
      "k_correlation_r:  0.751005310184     k_correlation_i:  0.999938566315\n",
      "2 1 x_correlation:  (0.00118314093851-0.000415390266631j)     abs(x_correlation):  0.00125394240458\n",
      "k_correlation_r:  0.591321168382     k_correlation_i:  0.999960882107\n",
      "X :  [7000000000000.0, 6950000000000.0, 6850000000000.0, 6650000000000.0, 6450000000000.0, 6250000000000.0, 6050000000000.0, 5850000000000.0, 5650000000000.0, 5450000000000.0, 5250000000000.0, 5050000000000.0, 4850000000000.0, 4650000000000.0, 4450000000000.0, 4250000000000.0, 4050000000000.0, 3850000000000.0, 3650000000000.0, 3450000000000.0, 3250000000000.0, 3050000000000.0, 2850000000000.0, 2650000000000.0, 2450000000000.0]\n",
      "Y :  [[(9.0264198593920089-1.0265850275942863j)], [(8.9591509490803887-1.0248428143216293j)], [(8.8250554453441765-1.0213873265953377j)], [(8.5585964224031823-1.0145863243291824j)], [(8.2943834560896317-1.0079245347408612j)], [(8.0323500935623926-1.0013955543194086j)], [(7.7724369581080106-0.99499398313867937j)], [(7.514589631061205-0.98871676944562481j)], [(7.258763165805771-0.98256238682030228j)], [(7.0049175938053851-0.97652130310611174j)], [(6.7530093091440699-0.97058404763619255j)], [(6.5029986638359283-0.96474407348038327j)], [(6.2548497421581803-0.95899303239179656j)], [(6.0085276451703766-0.95332020226361569j)], [(5.7639986714177329-0.94771148236624303j)], [(5.5212310019493929-0.94214330023901227j)], [(5.2801971939104995-0.93657063085066661j)], [(5.0408877459070469-0.93090182701082791j)], [(4.8033478091954969-0.92495273204950945j)], [(4.5677684513733068-0.918381978216953j)], [(4.3346750063904764-0.91063646924897546j)], [(4.1052277194466695-0.90101040944521849j)], [(3.8814958575160263-0.88899691093329636j)], [(3.6662901824248366-0.87494632837546438j)], [(3.4622567126583665-0.86047256093346358j)]]\n",
      "X :  [7000000000000.0, 6950000000000.0, 6850000000000.0, 6650000000000.0, 6450000000000.0, 6250000000000.0, 6050000000000.0, 5850000000000.0, 5650000000000.0, 5450000000000.0, 5250000000000.0, 5050000000000.0, 4850000000000.0, 4650000000000.0, 4450000000000.0, 4250000000000.0, 4050000000000.0, 3850000000000.0, 3650000000000.0, 3450000000000.0, 3250000000000.0, 3050000000000.0, 2850000000000.0, 2650000000000.0, 2450000000000.0]\n",
      "Y :  [[(8.0232073158584836-1.0038177634322727j)], [(7.9580318024293435-1.002165067653527j)], [(7.8280933139952493-0.99888371498477257j)], [(7.5698373817955931-0.99241010085502668j)], [(7.3136932127065855-0.98604443809278242j)], [(7.0596085026341342-0.97977554145591095j)], [(6.8075371305561374-0.97359284654969247j)], [(6.5574373335614329-0.96748716557405556j)], [(6.3092748166396113-0.9614511664337817j)], [(6.0630218535066458-0.95547378216544254j)], [(5.8186517398008499-0.94954680963997151j)], [(5.5761431695747739-0.94367608673403425j)], [(5.3354794279992186-0.9378981947347097j)], [(5.0966347273222867-0.93231809097391694j)], [(4.8595367153326663-0.92717364591425044j)], [(4.6239798167363606-0.92292684758583232j)], [(4.3894683045966207-0.92037244078827407j)], [(4.1549808394212153-0.92075737918946254j)], [(3.9186483599056778-0.92593117488577226j)], [(3.677312941318621-0.93859549972758227j)], [(3.4258647371236117-0.96275710941544779j)], [(3.156208709294305-1.0045366154869255j)], [(2.8558165992984978-1.0738046274833923j)], [(2.5063563688924888-1.1885645297305534j)], [(2.0864234574600857-1.3890167237969169j)]]\n",
      "X :  [7000000000000.0, 6950000000000.0, 6850000000000.0, 6650000000000.0, 6450000000000.0, 6250000000000.0, 6050000000000.0, 5850000000000.0, 5650000000000.0, 5450000000000.0, 5250000000000.0, 5050000000000.0, 4850000000000.0, 4650000000000.0, 4450000000000.0, 4250000000000.0, 4050000000000.0, 3850000000000.0, 3650000000000.0, 3450000000000.0, 3250000000000.0, 3050000000000.0]\n",
      "Y :  [[(6.5956702117118349-0.78791361784606873j)], [(6.5435530246973519-0.78802249083072595j)], [(6.4391320917083572-0.78834760985526786j)], [(6.2293811334969185-0.7894861249931886j)], [(6.0180579613309053-0.79141024897694101j)], [(5.8046345497448524-0.79432853850880258j)], [(5.5884413350732611-0.79852240627067517j)], [(5.368619202567892-0.80437522758025648j)], [(5.1440509634386773-0.81241607687996109j)], [(4.9132683828200285-0.82338117543705347j)], [(4.6743175995161046-0.8383148983460913j)], [(4.4245647702757411-0.85871531442195226j)], [(4.1604339167452462-0.88679535356905737j)], [(3.877037422780544-0.92593969254811115j)], [(3.5677148568018668-0.98160065240720229j)], [(3.2235927485300775-1.0632398312221838j)], [(2.8341879494083608-1.1885173849669517j)], [(2.3933563458327187-1.3918629656390147j)], [(1.9259998070949513-1.7293820301048439j)], [(1.5244979731893422-2.2249726788156909j)], [(1.2579908774963218-2.7964485872495111j)], None]\n",
      "X :  [7000000000000.0, 6950000000000.0, 6850000000000.0, 6650000000000.0, 6450000000000.0, 6250000000000.0, 6050000000000.0, 5850000000000.0, 5650000000000.0, 5450000000000.0, 5250000000000.0, 5050000000000.0, 4850000000000.0, 4650000000000.0, 4450000000000.0, 4250000000000.0, 4050000000000.0]\n",
      "Y :  [[(6.2737880213737869-0.83870302667178354j)], [(6.2130298312009069-0.84076827627467954j)], [(6.0903511298235351-0.84530657527834485j)], [(5.8397096988549269-0.85626279522147908j)], [(5.580619695053235-0.87030920913645859j)], [(5.3110009133316254-0.88837921927722785j)], [(5.0281827942839818-0.91179539888921979j)], [(4.7286956697010751-0.94249855324883391j)], [(4.4079744733559121-0.98345432903454566j)], [(4.0599805372069566-1.039443234787458j)], [(3.6767770262152428-1.1186428471058749j)], [(3.2486663163422-1.2359996001677609j)], [(2.7675710930930602-1.4201967346649025j)], [(2.2445842948598753-1.7225236426241923j)], [(1.752594825411963-2.1916902252273749j)], [(1.3947765144486235-2.7794959465476055j)], None]\n",
      "X :  [7000000000000.0, 6950000000000.0, 6850000000000.0, 6650000000000.0, 6450000000000.0, 6250000000000.0, 6050000000000.0, 5850000000000.0, 5650000000000.0, 5450000000000.0, 5250000000000.0, 5050000000000.0, 4850000000000.0]\n",
      "Y :  [[(5.722674439701902-0.93216942168447792j)], [(5.6464262552655367-0.93829747873521585j)], [(5.4908645252106938-0.95174727681905913j)], [(5.1657822429627718-0.98437391926430307j)], [(4.8182412765899674-1.0271412924220784j)], [(4.4423714911030308-1.0846159873516263j)], [(4.0305299081864217-1.164515743117954j)], [(3.5733189335176081-1.2807297582230945j)], [(3.0622557973877278-1.4595334940394458j)], [(2.5039824932274826-1.7484192778097865j)], [(1.9589728516656573-2.2006276441259631j)], [(1.5326326870612297-2.789266340286265j)], None]\n",
      "----------------------------------------------------------------------------------------------------\n",
      "frequency: 2250000000000.0   k_init: (3.26939544822-0.845575608607j)\n"
     ]
    },
    {
     "data": {
      "text/latex": [
       "$$Eqs_\\text{ freespace } = \\left[\\begin{matrix}376.730313461771 H_{{y}} + 2.12059784854975 \\cdot 10^{-5} i \\frac{d}{d x} E_{{z}}\\\\- 376.730313461771 H_{{x}} + 2.12059784854975 \\cdot 10^{-5} i \\frac{d}{d y} E_{{z}}\\\\- 0.00265441872943807 E_{{y}} + 2.12059784854975 \\cdot 10^{-5} i \\frac{d}{d x} H_{{z}}\\\\0.00265441872943807 E_{{x}} + 2.12059784854975 \\cdot 10^{-5} i \\frac{d}{d y} H_{{z}}\\\\- 125.173131306032 i E_{{z}} - \\frac{d}{d y} H_{{x}} + \\frac{d}{d x} H_{{y}}\\\\17765287.9219608 i H_{{z}} - \\frac{d}{d y} E_{{x}} + \\frac{d}{d x} E_{{y}}\\end{matrix}\\right]$$"
      ],
      "text/plain": [
       "<IPython.core.display.Math at 0x7f537a9d64a8>"
      ]
     },
     "metadata": {},
     "output_type": "display_data"
    },
    {
     "name": "stdout",
     "output_type": "stream",
     "text": [
      "Eq1 boundary equations \n"
     ]
    },
    {
     "data": {
      "text/latex": [
       "$$EQs_\\text{ freespace }-b[0] = \\left[\\begin{matrix}376.730313461771 H_{{y}} & 2.12059784854975 \\cdot 10^{-5} i \\frac{d}{d x} E_{{z}}\\end{matrix}\\right]$$"
      ],
      "text/plain": [
       "<IPython.core.display.Math at 0x7f537ac1d1d0>"
      ]
     },
     "metadata": {},
     "output_type": "display_data"
    },
    {
     "data": {
      "text/latex": [
       "$$EQs_\\text{ freespace }-b[1] = \\left[\\begin{matrix}- 376.730313461771 H_{{x}} & 2.12059784854975 \\cdot 10^{-5} i \\frac{d}{d y} E_{{z}}\\end{matrix}\\right]$$"
      ],
      "text/plain": [
       "<IPython.core.display.Math at 0x7f537ace9208>"
      ]
     },
     "metadata": {},
     "output_type": "display_data"
    },
    {
     "data": {
      "text/latex": [
       "$$EQs_\\text{ freespace }-b[2] = \\left[\\begin{matrix}- 0.00265441872943807 E_{{y}} & 2.12059784854975 \\cdot 10^{-5} i \\frac{d}{d x} H_{{z}}\\end{matrix}\\right]$$"
      ],
      "text/plain": [
       "<IPython.core.display.Math at 0x7f537ace9048>"
      ]
     },
     "metadata": {},
     "output_type": "display_data"
    },
    {
     "data": {
      "text/latex": [
       "$$EQs_\\text{ freespace }-b[3] = \\left[\\begin{matrix}0.00265441872943807 E_{{x}} & 2.12059784854975 \\cdot 10^{-5} i \\frac{d}{d y} H_{{z}}\\end{matrix}\\right]$$"
      ],
      "text/plain": [
       "<IPython.core.display.Math at 0x7f537ace9208>"
      ]
     },
     "metadata": {},
     "output_type": "display_data"
    },
    {
     "data": {
      "text/latex": [
       "$$EQs_\\text{ freespace }-b[4] = \\left[\\begin{matrix}- 125.173131306032 i E_{{z}} & - \\frac{d}{d y} H_{{x}} & \\frac{d}{d x} H_{{y}}\\end{matrix}\\right]$$"
      ],
      "text/plain": [
       "<IPython.core.display.Math at 0x7f537ace9048>"
      ]
     },
     "metadata": {},
     "output_type": "display_data"
    },
    {
     "data": {
      "text/latex": [
       "$$EQs_\\text{ freespace }-b[5] = \\left[\\begin{matrix}17765287.9219608 i H_{{z}} & - \\frac{d}{d y} E_{{x}} & \\frac{d}{d x} E_{{y}}\\end{matrix}\\right]$$"
      ],
      "text/plain": [
       "<IPython.core.display.Math at 0x7f537ace9208>"
      ]
     },
     "metadata": {},
     "output_type": "display_data"
    },
    {
     "name": "stdout",
     "output_type": "stream",
     "text": [
      "[[(17890.832937453946-45615.039783419721j), 0.0, (-8234.5422300565169-7166.931835115397j)], [0.0, 0.0, 0.0], [(8234.5422300565169+7166.931835115397j), 0.0, (17890.832937453946-45615.039783419721j)]]\n"
     ]
    },
    {
     "data": {
      "text/latex": [
       "$$Eqs_\\text{ graphene } = \\left[\\begin{matrix}376.730313461771 H_{{y}} + 2.12059784854975 \\cdot 10^{-5} i \\frac{d}{d x} E_{{z}}\\\\- 376.730313461771 H_{{x}} + 2.12059784854975 \\cdot 10^{-5} i \\frac{d}{d y} E_{{z}}\\\\- 0.00265441872943807 E_{{y}} + 2.12059784854975 \\cdot 10^{-5} i \\frac{d}{d x} H_{{z}}\\\\- 0.964657133532874 E_{{x}} - 0.379392618359279 i E_{{x}} - 0.151981802302484 E_{{z}} + 0.174621525368499 i E_{{z}} + 2.12059784854975 \\cdot 10^{-5} i \\frac{d}{d y} H_{{z}}\\\\- 8234.54223005652 E_{{x}} - 7166.9318351154 i E_{{x}} - 17890.8329374539 E_{{z}} + 45489.8666521137 i E_{{z}} - \\frac{d}{d y} H_{{x}} + \\frac{d}{d x} H_{{y}}\\\\17765287.9219608 i H_{{z}} - \\frac{d}{d y} E_{{x}} + \\frac{d}{d x} E_{{y}}\\end{matrix}\\right]$$"
      ],
      "text/plain": [
       "<IPython.core.display.Math at 0x7f537ac22198>"
      ]
     },
     "metadata": {},
     "output_type": "display_data"
    },
    {
     "name": "stdout",
     "output_type": "stream",
     "text": [
      "Eq1 boundary equations \n"
     ]
    },
    {
     "data": {
      "text/latex": [
       "$$EQs_\\text{ graphene }-b[0] = \\left[\\begin{matrix}376.730313461771 H_{{y}} & 2.12059784854975 \\cdot 10^{-5} i \\frac{d}{d x} E_{{z}}\\end{matrix}\\right]$$"
      ],
      "text/plain": [
       "<IPython.core.display.Math at 0x7f5374695710>"
      ]
     },
     "metadata": {},
     "output_type": "display_data"
    },
    {
     "data": {
      "text/latex": [
       "$$EQs_\\text{ graphene }-b[1] = \\left[\\begin{matrix}- 376.730313461771 H_{{x}} & 2.12059784854975 \\cdot 10^{-5} i \\frac{d}{d y} E_{{z}}\\end{matrix}\\right]$$"
      ],
      "text/plain": [
       "<IPython.core.display.Math at 0x7f537a9ec048>"
      ]
     },
     "metadata": {},
     "output_type": "display_data"
    },
    {
     "data": {
      "text/latex": [
       "$$EQs_\\text{ graphene }-b[2] = \\left[\\begin{matrix}0 & - 0.00265441872943807 E_{{y}} & 0 & 2.12059784854975 \\cdot 10^{-5} i \\frac{d}{d x} H_{{z}}\\end{matrix}\\right]$$"
      ],
      "text/plain": [
       "<IPython.core.display.Math at 0x7f537a9ec048>"
      ]
     },
     "metadata": {},
     "output_type": "display_data"
    },
    {
     "data": {
      "text/latex": [
       "$$EQs_\\text{ graphene }-b[3] = \\left[\\begin{matrix}2.12059784854975 \\cdot 10^{-5} E_{{x}} \\left(125.173131306032 - i \\left(17890.8329374539 - 45615.0397834197 i\\right)\\right) & 0 & - 2.12059784854975 \\cdot 10^{-5} i E_{{z}} \\left(-8234.54223005652 - 7166.9318351154 i\\right) & 2.12059784854975 \\cdot 10^{-5} i \\frac{d}{d y} H_{{z}}\\end{matrix}\\right]$$"
      ],
      "text/plain": [
       "<IPython.core.display.Math at 0x7f537a9ec048>"
      ]
     },
     "metadata": {},
     "output_type": "display_data"
    },
    {
     "data": {
      "text/latex": [
       "$$EQs_\\text{ graphene }-b[4] = \\left[\\begin{matrix}- E_{{x}} \\left(8234.54223005652 + 7166.9318351154 i\\right) & 0 & - E_{{z}} \\left(17890.8329374539 - 45489.8666521137 i\\right) & - \\frac{d}{d y} H_{{x}} & \\frac{d}{d x} H_{{y}}\\end{matrix}\\right]$$"
      ],
      "text/plain": [
       "<IPython.core.display.Math at 0x7f537a9ec048>"
      ]
     },
     "metadata": {},
     "output_type": "display_data"
    },
    {
     "data": {
      "text/latex": [
       "$$EQs_\\text{ graphene }-b[5] = \\left[\\begin{matrix}17765287.9219608 i H_{{z}} & - \\frac{d}{d y} E_{{x}} & \\frac{d}{d x} E_{{y}}\\end{matrix}\\right]$$"
      ],
      "text/plain": [
       "<IPython.core.display.Math at 0x7f537a9ec048>"
      ]
     },
     "metadata": {},
     "output_type": "display_data"
    },
    {
     "name": "stdout",
     "output_type": "stream",
     "text": [
      "initial matrix nnz 1843027 0:00:21\n",
      "initial matrix shared nnz 2219743 0:00:13\n",
      "final matrix (application of boundary conditions) nnz:  2219267 0:00:05\n",
      "A_11.shape:  (157356, 157356) A_11.nnz:  157356\n",
      "warning: this inversion mechanism only works for diagonal matrices\n",
      "eliminating z components 0:00:02\n",
      "A_reduced nnz:  2939156\n",
      "solving eigenvalues 0:05:44\n",
      "[ 3.27086977 -8.47979307e-01j  1.61328932 -1.76469360e+00j\n",
      "  0.83321147 -9.99649911e-05j]\n",
      "(359926, 3)\n",
      "0 0 x_correlation:  (-0.633895648827+0.770432130702j)     abs(x_correlation):  0.997692017418\n",
      "k_correlation_r:  0.000450744042984     k_correlation_i:  0.00283461877473\n",
      "0 1 x_correlation:  (0.324347499895-0.313813582811j)     abs(x_correlation):  0.451309500726\n",
      "k_correlation_r:  0.512050929683     k_correlation_i:  0.49379241725\n",
      "1 0 x_correlation:  (-0.273053249148+0.471972300779j)     abs(x_correlation):  0.545266842539\n",
      "k_correlation_r:  0.506548124654     k_correlation_i:  0.520837152184\n",
      "1 1 x_correlation:  (0.650716318698-0.753129869306j)     abs(x_correlation):  0.995307152321\n",
      "k_correlation_r:  0.0107057364142     k_correlation_i:  0.0507353717264\n",
      "2 0 x_correlation:  (-0.00117792902109-0.000480857118718j)     abs(x_correlation):  0.00127229727161\n",
      "k_correlation_r:  0.745148151588     k_correlation_i:  0.999881778767\n",
      "2 1 x_correlation:  (0.0016602807474+0.0014481857944j)     abs(x_correlation):  0.00220312828843\n",
      "k_correlation_r:  0.477943517151     k_correlation_i:  0.999940325152\n",
      "X :  [7000000000000.0, 6950000000000.0, 6850000000000.0, 6650000000000.0, 6450000000000.0, 6250000000000.0, 6050000000000.0, 5850000000000.0, 5650000000000.0, 5450000000000.0, 5250000000000.0, 5050000000000.0, 4850000000000.0, 4650000000000.0, 4450000000000.0, 4250000000000.0, 4050000000000.0, 3850000000000.0, 3650000000000.0, 3450000000000.0, 3250000000000.0, 3050000000000.0, 2850000000000.0, 2650000000000.0, 2450000000000.0, 2250000000000.0]\n",
      "Y :  [[(9.0264198593920089-1.0265850275942863j)], [(8.9591509490803887-1.0248428143216293j)], [(8.8250554453441765-1.0213873265953377j)], [(8.5585964224031823-1.0145863243291824j)], [(8.2943834560896317-1.0079245347408612j)], [(8.0323500935623926-1.0013955543194086j)], [(7.7724369581080106-0.99499398313867937j)], [(7.514589631061205-0.98871676944562481j)], [(7.258763165805771-0.98256238682030228j)], [(7.0049175938053851-0.97652130310611174j)], [(6.7530093091440699-0.97058404763619255j)], [(6.5029986638359283-0.96474407348038327j)], [(6.2548497421581803-0.95899303239179656j)], [(6.0085276451703766-0.95332020226361569j)], [(5.7639986714177329-0.94771148236624303j)], [(5.5212310019493929-0.94214330023901227j)], [(5.2801971939104995-0.93657063085066661j)], [(5.0408877459070469-0.93090182701082791j)], [(4.8033478091954969-0.92495273204950945j)], [(4.5677684513733068-0.918381978216953j)], [(4.3346750063904764-0.91063646924897546j)], [(4.1052277194466695-0.90101040944521849j)], [(3.8814958575160263-0.88899691093329636j)], [(3.6662901824248366-0.87494632837546438j)], [(3.4622567126583665-0.86047256093346358j)], [(3.2708697732820666-0.84797930667052701j)]]\n",
      "X :  [7000000000000.0, 6950000000000.0, 6850000000000.0, 6650000000000.0, 6450000000000.0, 6250000000000.0, 6050000000000.0, 5850000000000.0, 5650000000000.0, 5450000000000.0, 5250000000000.0, 5050000000000.0, 4850000000000.0, 4650000000000.0, 4450000000000.0, 4250000000000.0, 4050000000000.0, 3850000000000.0, 3650000000000.0, 3450000000000.0, 3250000000000.0, 3050000000000.0, 2850000000000.0, 2650000000000.0, 2450000000000.0, 2250000000000.0]\n",
      "Y :  [[(8.0232073158584836-1.0038177634322727j)], [(7.9580318024293435-1.002165067653527j)], [(7.8280933139952493-0.99888371498477257j)], [(7.5698373817955931-0.99241010085502668j)], [(7.3136932127065855-0.98604443809278242j)], [(7.0596085026341342-0.97977554145591095j)], [(6.8075371305561374-0.97359284654969247j)], [(6.5574373335614329-0.96748716557405556j)], [(6.3092748166396113-0.9614511664337817j)], [(6.0630218535066458-0.95547378216544254j)], [(5.8186517398008499-0.94954680963997151j)], [(5.5761431695747739-0.94367608673403425j)], [(5.3354794279992186-0.9378981947347097j)], [(5.0966347273222867-0.93231809097391694j)], [(4.8595367153326663-0.92717364591425044j)], [(4.6239798167363606-0.92292684758583232j)], [(4.3894683045966207-0.92037244078827407j)], [(4.1549808394212153-0.92075737918946254j)], [(3.9186483599056778-0.92593117488577226j)], [(3.677312941318621-0.93859549972758227j)], [(3.4258647371236117-0.96275710941544779j)], [(3.156208709294305-1.0045366154869255j)], [(2.8558165992984978-1.0738046274833923j)], [(2.5063563688924888-1.1885645297305534j)], [(2.0864234574600857-1.3890167237969169j)], [(1.6132893151693599-1.764693595219101j)]]\n",
      "X :  [7000000000000.0, 6950000000000.0, 6850000000000.0, 6650000000000.0, 6450000000000.0, 6250000000000.0, 6050000000000.0, 5850000000000.0, 5650000000000.0, 5450000000000.0, 5250000000000.0, 5050000000000.0, 4850000000000.0, 4650000000000.0, 4450000000000.0, 4250000000000.0, 4050000000000.0, 3850000000000.0, 3650000000000.0, 3450000000000.0, 3250000000000.0, 3050000000000.0]\n",
      "Y :  [[(6.5956702117118349-0.78791361784606873j)], [(6.5435530246973519-0.78802249083072595j)], [(6.4391320917083572-0.78834760985526786j)], [(6.2293811334969185-0.7894861249931886j)], [(6.0180579613309053-0.79141024897694101j)], [(5.8046345497448524-0.79432853850880258j)], [(5.5884413350732611-0.79852240627067517j)], [(5.368619202567892-0.80437522758025648j)], [(5.1440509634386773-0.81241607687996109j)], [(4.9132683828200285-0.82338117543705347j)], [(4.6743175995161046-0.8383148983460913j)], [(4.4245647702757411-0.85871531442195226j)], [(4.1604339167452462-0.88679535356905737j)], [(3.877037422780544-0.92593969254811115j)], [(3.5677148568018668-0.98160065240720229j)], [(3.2235927485300775-1.0632398312221838j)], [(2.8341879494083608-1.1885173849669517j)], [(2.3933563458327187-1.3918629656390147j)], [(1.9259998070949513-1.7293820301048439j)], [(1.5244979731893422-2.2249726788156909j)], [(1.2579908774963218-2.7964485872495111j)], None]\n",
      "X :  [7000000000000.0, 6950000000000.0, 6850000000000.0, 6650000000000.0, 6450000000000.0, 6250000000000.0, 6050000000000.0, 5850000000000.0, 5650000000000.0, 5450000000000.0, 5250000000000.0, 5050000000000.0, 4850000000000.0, 4650000000000.0, 4450000000000.0, 4250000000000.0, 4050000000000.0]\n",
      "Y :  [[(6.2737880213737869-0.83870302667178354j)], [(6.2130298312009069-0.84076827627467954j)], [(6.0903511298235351-0.84530657527834485j)], [(5.8397096988549269-0.85626279522147908j)], [(5.580619695053235-0.87030920913645859j)], [(5.3110009133316254-0.88837921927722785j)], [(5.0281827942839818-0.91179539888921979j)], [(4.7286956697010751-0.94249855324883391j)], [(4.4079744733559121-0.98345432903454566j)], [(4.0599805372069566-1.039443234787458j)], [(3.6767770262152428-1.1186428471058749j)], [(3.2486663163422-1.2359996001677609j)], [(2.7675710930930602-1.4201967346649025j)], [(2.2445842948598753-1.7225236426241923j)], [(1.752594825411963-2.1916902252273749j)], [(1.3947765144486235-2.7794959465476055j)], None]\n",
      "X :  [7000000000000.0, 6950000000000.0, 6850000000000.0, 6650000000000.0, 6450000000000.0, 6250000000000.0, 6050000000000.0, 5850000000000.0, 5650000000000.0, 5450000000000.0, 5250000000000.0, 5050000000000.0, 4850000000000.0]\n",
      "Y :  [[(5.722674439701902-0.93216942168447792j)], [(5.6464262552655367-0.93829747873521585j)], [(5.4908645252106938-0.95174727681905913j)], [(5.1657822429627718-0.98437391926430307j)], [(4.8182412765899674-1.0271412924220784j)], [(4.4423714911030308-1.0846159873516263j)], [(4.0305299081864217-1.164515743117954j)], [(3.5733189335176081-1.2807297582230945j)], [(3.0622557973877278-1.4595334940394458j)], [(2.5039824932274826-1.7484192778097865j)], [(1.9589728516656573-2.2006276441259631j)], [(1.5326326870612297-2.789266340286265j)], None]\n",
      "----------------------------------------------------------------------------------------------------\n",
      "frequency: 2050000000000.0   k_init: (3.0921293643-0.837466565587j)\n"
     ]
    },
    {
     "data": {
      "text/latex": [
       "$$Eqs_\\text{ freespace } = \\left[\\begin{matrix}376.730313461771 H_{{y}} + 2.32748544353022 \\cdot 10^{-5} i \\frac{d}{d x} E_{{z}}\\\\- 376.730313461771 H_{{x}} + 2.32748544353022 \\cdot 10^{-5} i \\frac{d}{d y} E_{{z}}\\\\- 0.00265441872943807 E_{{y}} + 2.32748544353022 \\cdot 10^{-5} i \\frac{d}{d x} H_{{z}}\\\\0.00265441872943807 E_{{x}} + 2.32748544353022 \\cdot 10^{-5} i \\frac{d}{d y} H_{{z}}\\\\- 114.046630745496 i E_{{z}} - \\frac{d}{d y} H_{{x}} + \\frac{d}{d x} H_{{y}}\\\\16186151.2177865 i H_{{z}} - \\frac{d}{d y} E_{{x}} + \\frac{d}{d x} E_{{y}}\\end{matrix}\\right]$$"
      ],
      "text/plain": [
       "<IPython.core.display.Math at 0x7f5374695048>"
      ]
     },
     "metadata": {},
     "output_type": "display_data"
    },
    {
     "name": "stdout",
     "output_type": "stream",
     "text": [
      "Eq1 boundary equations \n"
     ]
    },
    {
     "data": {
      "text/latex": [
       "$$EQs_\\text{ freespace }-b[0] = \\left[\\begin{matrix}376.730313461771 H_{{y}} & 2.32748544353022 \\cdot 10^{-5} i \\frac{d}{d x} E_{{z}}\\end{matrix}\\right]$$"
      ],
      "text/plain": [
       "<IPython.core.display.Math at 0x7f537516f9b0>"
      ]
     },
     "metadata": {},
     "output_type": "display_data"
    },
    {
     "data": {
      "text/latex": [
       "$$EQs_\\text{ freespace }-b[1] = \\left[\\begin{matrix}- 376.730313461771 H_{{x}} & 2.32748544353022 \\cdot 10^{-5} i \\frac{d}{d y} E_{{z}}\\end{matrix}\\right]$$"
      ],
      "text/plain": [
       "<IPython.core.display.Math at 0x7f537516f048>"
      ]
     },
     "metadata": {},
     "output_type": "display_data"
    },
    {
     "data": {
      "text/latex": [
       "$$EQs_\\text{ freespace }-b[2] = \\left[\\begin{matrix}- 0.00265441872943807 E_{{y}} & 2.32748544353022 \\cdot 10^{-5} i \\frac{d}{d x} H_{{z}}\\end{matrix}\\right]$$"
      ],
      "text/plain": [
       "<IPython.core.display.Math at 0x7f537516f9b0>"
      ]
     },
     "metadata": {},
     "output_type": "display_data"
    },
    {
     "data": {
      "text/latex": [
       "$$EQs_\\text{ freespace }-b[3] = \\left[\\begin{matrix}0.00265441872943807 E_{{x}} & 2.32748544353022 \\cdot 10^{-5} i \\frac{d}{d y} H_{{z}}\\end{matrix}\\right]$$"
      ],
      "text/plain": [
       "<IPython.core.display.Math at 0x7f537516f048>"
      ]
     },
     "metadata": {},
     "output_type": "display_data"
    },
    {
     "data": {
      "text/latex": [
       "$$EQs_\\text{ freespace }-b[4] = \\left[\\begin{matrix}- 114.046630745496 i E_{{z}} & - \\frac{d}{d y} H_{{x}} & \\frac{d}{d x} H_{{y}}\\end{matrix}\\right]$$"
      ],
      "text/plain": [
       "<IPython.core.display.Math at 0x7f537516f9b0>"
      ]
     },
     "metadata": {},
     "output_type": "display_data"
    },
    {
     "data": {
      "text/latex": [
       "$$EQs_\\text{ freespace }-b[5] = \\left[\\begin{matrix}16186151.2177865 i H_{{z}} & - \\frac{d}{d y} E_{{x}} & \\frac{d}{d x} E_{{y}}\\end{matrix}\\right]$$"
      ],
      "text/plain": [
       "<IPython.core.display.Math at 0x7f537516f048>"
      ]
     },
     "metadata": {},
     "output_type": "display_data"
    },
    {
     "name": "stdout",
     "output_type": "stream",
     "text": [
      "[[(21448.80913909839-48919.526652149922j), 0.0, (-9123.4180081451832-9145.1556987634594j)], [0.0, 0.0, 0.0], [(9123.4180081451832+9145.1556987634594j), 0.0, (21448.80913909839-48919.526652149922j)]]\n"
     ]
    },
    {
     "data": {
      "text/latex": [
       "$$Eqs_\\text{ graphene } = \\left[\\begin{matrix}376.730313461771 H_{{y}} + 2.32748544353022 \\cdot 10^{-5} i \\frac{d}{d x} E_{{z}}\\\\- 376.730313461771 H_{{x}} + 2.32748544353022 \\cdot 10^{-5} i \\frac{d}{d y} E_{{z}}\\\\- 0.00265441872943807 E_{{y}} + 2.32748544353022 \\cdot 10^{-5} i \\frac{d}{d x} H_{{z}}\\\\- 1.13594044314324 E_{{x}} - 0.499217910523094 i E_{{x}} - 0.212852167676894 E_{{z}} + 0.212346226091993 i E_{{z}} + 2.32748544353022 \\cdot 10^{-5} i \\frac{d}{d y} H_{{z}}\\\\- 9123.41800814518 E_{{x}} - 9145.15569876346 i E_{{x}} - 21448.8091390984 E_{{z}} + 48805.4800214044 i E_{{z}} - \\frac{d}{d y} H_{{x}} + \\frac{d}{d x} H_{{y}}\\\\16186151.2177865 i H_{{z}} - \\frac{d}{d y} E_{{x}} + \\frac{d}{d x} E_{{y}}\\end{matrix}\\right]$$"
      ],
      "text/plain": [
       "<IPython.core.display.Math at 0x7f5375209c50>"
      ]
     },
     "metadata": {},
     "output_type": "display_data"
    },
    {
     "name": "stdout",
     "output_type": "stream",
     "text": [
      "Eq1 boundary equations \n"
     ]
    },
    {
     "data": {
      "text/latex": [
       "$$EQs_\\text{ graphene }-b[0] = \\left[\\begin{matrix}376.730313461771 H_{{y}} & 2.32748544353022 \\cdot 10^{-5} i \\frac{d}{d x} E_{{z}}\\end{matrix}\\right]$$"
      ],
      "text/plain": [
       "<IPython.core.display.Math at 0x7f53751b2518>"
      ]
     },
     "metadata": {},
     "output_type": "display_data"
    },
    {
     "data": {
      "text/latex": [
       "$$EQs_\\text{ graphene }-b[1] = \\left[\\begin{matrix}- 376.730313461771 H_{{x}} & 2.32748544353022 \\cdot 10^{-5} i \\frac{d}{d y} E_{{z}}\\end{matrix}\\right]$$"
      ],
      "text/plain": [
       "<IPython.core.display.Math at 0x7f53751b2f98>"
      ]
     },
     "metadata": {},
     "output_type": "display_data"
    },
    {
     "data": {
      "text/latex": [
       "$$EQs_\\text{ graphene }-b[2] = \\left[\\begin{matrix}0 & - 0.00265441872943807 E_{{y}} & 0 & 2.32748544353022 \\cdot 10^{-5} i \\frac{d}{d x} H_{{z}}\\end{matrix}\\right]$$"
      ],
      "text/plain": [
       "<IPython.core.display.Math at 0x7f53751b2518>"
      ]
     },
     "metadata": {},
     "output_type": "display_data"
    },
    {
     "data": {
      "text/latex": [
       "$$EQs_\\text{ graphene }-b[3] = \\left[\\begin{matrix}2.32748544353022 \\cdot 10^{-5} E_{{x}} \\left(114.046630745496 - i \\left(21448.8091390984 - 48919.5266521499 i\\right)\\right) & 0 & - 2.32748544353022 \\cdot 10^{-5} i E_{{z}} \\left(-9123.41800814518 - 9145.15569876346 i\\right) & 2.32748544353022 \\cdot 10^{-5} i \\frac{d}{d y} H_{{z}}\\end{matrix}\\right]$$"
      ],
      "text/plain": [
       "<IPython.core.display.Math at 0x7f53751b2f98>"
      ]
     },
     "metadata": {},
     "output_type": "display_data"
    },
    {
     "data": {
      "text/latex": [
       "$$EQs_\\text{ graphene }-b[4] = \\left[\\begin{matrix}- E_{{x}} \\left(9123.41800814518 + 9145.15569876346 i\\right) & 0 & - E_{{z}} \\left(21448.8091390984 - 48805.4800214044 i\\right) & - \\frac{d}{d y} H_{{x}} & \\frac{d}{d x} H_{{y}}\\end{matrix}\\right]$$"
      ],
      "text/plain": [
       "<IPython.core.display.Math at 0x7f53751b2518>"
      ]
     },
     "metadata": {},
     "output_type": "display_data"
    },
    {
     "data": {
      "text/latex": [
       "$$EQs_\\text{ graphene }-b[5] = \\left[\\begin{matrix}16186151.2177865 i H_{{z}} & - \\frac{d}{d y} E_{{x}} & \\frac{d}{d x} E_{{y}}\\end{matrix}\\right]$$"
      ],
      "text/plain": [
       "<IPython.core.display.Math at 0x7f53751b2f98>"
      ]
     },
     "metadata": {},
     "output_type": "display_data"
    },
    {
     "name": "stdout",
     "output_type": "stream",
     "text": [
      "initial matrix nnz 1843027 0:00:13\n",
      "initial matrix shared nnz 2219743 0:00:07\n",
      "final matrix (application of boundary conditions) nnz:  2219267 0:00:03\n",
      "A_11.shape:  (157356, 157356) A_11.nnz:  157356\n",
      "warning: this inversion mechanism only works for diagonal matrices\n",
      "eliminating z components 0:00:01\n",
      "A_reduced nnz:  2947979\n",
      "solving eigenvalues 0:03:11\n",
      "[ 3.09226999 -8.39786048e-01j  1.22718429 -2.34787726e+00j\n",
      "  0.79473190 +5.62370617e-05j]\n",
      "(359926, 3)\n",
      "0 0 x_correlation:  (0.0791403198813+0.994790677608j)     abs(x_correlation):  0.997933706458\n",
      "k_correlation_r:  4.54754855305e-05     k_correlation_i:  0.00276199191003\n",
      "0 1 x_correlation:  (-0.034043393283+0.465775373164j)     abs(x_correlation):  0.467017827146\n",
      "k_correlation_r:  0.648493195397     k_correlation_i:  0.637334682605\n",
      "1 0 x_correlation:  (-0.467445029267+0.28252385072j)     abs(x_correlation):  0.546190975404\n",
      "k_correlation_r:  0.603126472089     k_correlation_i:  0.64330905166\n",
      "1 1 x_correlation:  (-0.935585021887+0.342561293439j)     abs(x_correlation):  0.996327041158\n",
      "k_correlation_r:  0.114269999004     k_correlation_i:  0.0137494894431\n",
      "2 0 x_correlation:  (-0.000699930630813-0.000242011970798j)     abs(x_correlation):  0.000740589415236\n",
      "k_correlation_r:  0.742982323839     k_correlation_i:  1.00006715141\n",
      "2 1 x_correlation:  (-0.00110667163611-0.000884739576635j)     abs(x_correlation):  0.00141685787171\n",
      "k_correlation_r:  0.268844913406     k_correlation_i:  1.00002428622\n",
      "X :  [7000000000000.0, 6950000000000.0, 6850000000000.0, 6650000000000.0, 6450000000000.0, 6250000000000.0, 6050000000000.0, 5850000000000.0, 5650000000000.0, 5450000000000.0, 5250000000000.0, 5050000000000.0, 4850000000000.0, 4650000000000.0, 4450000000000.0, 4250000000000.0, 4050000000000.0, 3850000000000.0, 3650000000000.0, 3450000000000.0, 3250000000000.0, 3050000000000.0, 2850000000000.0, 2650000000000.0, 2450000000000.0, 2250000000000.0, 2050000000000.0]\n",
      "Y :  [[(9.0264198593920089-1.0265850275942863j)], [(8.9591509490803887-1.0248428143216293j)], [(8.8250554453441765-1.0213873265953377j)], [(8.5585964224031823-1.0145863243291824j)], [(8.2943834560896317-1.0079245347408612j)], [(8.0323500935623926-1.0013955543194086j)], [(7.7724369581080106-0.99499398313867937j)], [(7.514589631061205-0.98871676944562481j)], [(7.258763165805771-0.98256238682030228j)], [(7.0049175938053851-0.97652130310611174j)], [(6.7530093091440699-0.97058404763619255j)], [(6.5029986638359283-0.96474407348038327j)], [(6.2548497421581803-0.95899303239179656j)], [(6.0085276451703766-0.95332020226361569j)], [(5.7639986714177329-0.94771148236624303j)], [(5.5212310019493929-0.94214330023901227j)], [(5.2801971939104995-0.93657063085066661j)], [(5.0408877459070469-0.93090182701082791j)], [(4.8033478091954969-0.92495273204950945j)], [(4.5677684513733068-0.918381978216953j)], [(4.3346750063904764-0.91063646924897546j)], [(4.1052277194466695-0.90101040944521849j)], [(3.8814958575160263-0.88899691093329636j)], [(3.6662901824248366-0.87494632837546438j)], [(3.4622567126583665-0.86047256093346358j)], [(3.2708697732820666-0.84797930667052701j)], [(3.0922699867749484-0.83978604785702027j)]]\n",
      "X :  [7000000000000.0, 6950000000000.0, 6850000000000.0, 6650000000000.0, 6450000000000.0, 6250000000000.0, 6050000000000.0, 5850000000000.0, 5650000000000.0, 5450000000000.0, 5250000000000.0, 5050000000000.0, 4850000000000.0, 4650000000000.0, 4450000000000.0, 4250000000000.0, 4050000000000.0, 3850000000000.0, 3650000000000.0, 3450000000000.0, 3250000000000.0, 3050000000000.0, 2850000000000.0, 2650000000000.0, 2450000000000.0, 2250000000000.0, 2050000000000.0]\n",
      "Y :  [[(8.0232073158584836-1.0038177634322727j)], [(7.9580318024293435-1.002165067653527j)], [(7.8280933139952493-0.99888371498477257j)], [(7.5698373817955931-0.99241010085502668j)], [(7.3136932127065855-0.98604443809278242j)], [(7.0596085026341342-0.97977554145591095j)], [(6.8075371305561374-0.97359284654969247j)], [(6.5574373335614329-0.96748716557405556j)], [(6.3092748166396113-0.9614511664337817j)], [(6.0630218535066458-0.95547378216544254j)], [(5.8186517398008499-0.94954680963997151j)], [(5.5761431695747739-0.94367608673403425j)], [(5.3354794279992186-0.9378981947347097j)], [(5.0966347273222867-0.93231809097391694j)], [(4.8595367153326663-0.92717364591425044j)], [(4.6239798167363606-0.92292684758583232j)], [(4.3894683045966207-0.92037244078827407j)], [(4.1549808394212153-0.92075737918946254j)], [(3.9186483599056778-0.92593117488577226j)], [(3.677312941318621-0.93859549972758227j)], [(3.4258647371236117-0.96275710941544779j)], [(3.156208709294305-1.0045366154869255j)], [(2.8558165992984978-1.0738046274833923j)], [(2.5063563688924888-1.1885645297305534j)], [(2.0864234574600857-1.3890167237969169j)], [(1.6132893151693599-1.764693595219101j)], None]\n",
      "X :  [7000000000000.0, 6950000000000.0, 6850000000000.0, 6650000000000.0, 6450000000000.0, 6250000000000.0, 6050000000000.0, 5850000000000.0, 5650000000000.0, 5450000000000.0, 5250000000000.0, 5050000000000.0, 4850000000000.0, 4650000000000.0, 4450000000000.0, 4250000000000.0, 4050000000000.0, 3850000000000.0, 3650000000000.0, 3450000000000.0, 3250000000000.0, 3050000000000.0]\n",
      "Y :  [[(6.5956702117118349-0.78791361784606873j)], [(6.5435530246973519-0.78802249083072595j)], [(6.4391320917083572-0.78834760985526786j)], [(6.2293811334969185-0.7894861249931886j)], [(6.0180579613309053-0.79141024897694101j)], [(5.8046345497448524-0.79432853850880258j)], [(5.5884413350732611-0.79852240627067517j)], [(5.368619202567892-0.80437522758025648j)], [(5.1440509634386773-0.81241607687996109j)], [(4.9132683828200285-0.82338117543705347j)], [(4.6743175995161046-0.8383148983460913j)], [(4.4245647702757411-0.85871531442195226j)], [(4.1604339167452462-0.88679535356905737j)], [(3.877037422780544-0.92593969254811115j)], [(3.5677148568018668-0.98160065240720229j)], [(3.2235927485300775-1.0632398312221838j)], [(2.8341879494083608-1.1885173849669517j)], [(2.3933563458327187-1.3918629656390147j)], [(1.9259998070949513-1.7293820301048439j)], [(1.5244979731893422-2.2249726788156909j)], [(1.2579908774963218-2.7964485872495111j)], None]\n",
      "X :  [7000000000000.0, 6950000000000.0, 6850000000000.0, 6650000000000.0, 6450000000000.0, 6250000000000.0, 6050000000000.0, 5850000000000.0, 5650000000000.0, 5450000000000.0, 5250000000000.0, 5050000000000.0, 4850000000000.0, 4650000000000.0, 4450000000000.0, 4250000000000.0, 4050000000000.0]\n",
      "Y :  [[(6.2737880213737869-0.83870302667178354j)], [(6.2130298312009069-0.84076827627467954j)], [(6.0903511298235351-0.84530657527834485j)], [(5.8397096988549269-0.85626279522147908j)], [(5.580619695053235-0.87030920913645859j)], [(5.3110009133316254-0.88837921927722785j)], [(5.0281827942839818-0.91179539888921979j)], [(4.7286956697010751-0.94249855324883391j)], [(4.4079744733559121-0.98345432903454566j)], [(4.0599805372069566-1.039443234787458j)], [(3.6767770262152428-1.1186428471058749j)], [(3.2486663163422-1.2359996001677609j)], [(2.7675710930930602-1.4201967346649025j)], [(2.2445842948598753-1.7225236426241923j)], [(1.752594825411963-2.1916902252273749j)], [(1.3947765144486235-2.7794959465476055j)], None]\n",
      "X :  [7000000000000.0, 6950000000000.0, 6850000000000.0, 6650000000000.0, 6450000000000.0, 6250000000000.0, 6050000000000.0, 5850000000000.0, 5650000000000.0, 5450000000000.0, 5250000000000.0, 5050000000000.0, 4850000000000.0]\n",
      "Y :  [[(5.722674439701902-0.93216942168447792j)], [(5.6464262552655367-0.93829747873521585j)], [(5.4908645252106938-0.95174727681905913j)], [(5.1657822429627718-0.98437391926430307j)], [(4.8182412765899674-1.0271412924220784j)], [(4.4423714911030308-1.0846159873516263j)], [(4.0305299081864217-1.164515743117954j)], [(3.5733189335176081-1.2807297582230945j)], [(3.0622557973877278-1.4595334940394458j)], [(2.5039824932274826-1.7484192778097865j)], [(1.9589728516656573-2.2006276441259631j)], [(1.5326326870612297-2.789266340286265j)], None]\n",
      "----------------------------------------------------------------------------------------------------\n",
      "frequency: 1850000000000.0   k_init: (2.92645735314-0.835892784493j)\n"
     ]
    },
    {
     "data": {
      "text/latex": [
       "$$Eqs_\\text{ freespace } = \\left[\\begin{matrix}376.730313461771 H_{{y}} + 2.57910549147943 \\cdot 10^{-5} i \\frac{d}{d x} E_{{z}}\\\\- 376.730313461771 H_{{x}} + 2.57910549147943 \\cdot 10^{-5} i \\frac{d}{d y} E_{{z}}\\\\- 0.00265441872943807 E_{{y}} + 2.57910549147943 \\cdot 10^{-5} i \\frac{d}{d x} H_{{z}}\\\\0.00265441872943807 E_{{x}} + 2.57910549147943 \\cdot 10^{-5} i \\frac{d}{d y} H_{{z}}\\\\- 102.92013018496 i E_{{z}} - \\frac{d}{d y} H_{{x}} + \\frac{d}{d x} H_{{y}}\\\\14607014.5136122 i H_{{z}} - \\frac{d}{d y} E_{{x}} + \\frac{d}{d x} E_{{y}}\\end{matrix}\\right]$$"
      ],
      "text/plain": [
       "<IPython.core.display.Math at 0x7f537a9d6860>"
      ]
     },
     "metadata": {},
     "output_type": "display_data"
    },
    {
     "name": "stdout",
     "output_type": "stream",
     "text": [
      "Eq1 boundary equations \n"
     ]
    },
    {
     "data": {
      "text/latex": [
       "$$EQs_\\text{ freespace }-b[0] = \\left[\\begin{matrix}376.730313461771 H_{{y}} & 2.57910549147943 \\cdot 10^{-5} i \\frac{d}{d x} E_{{z}}\\end{matrix}\\right]$$"
      ],
      "text/plain": [
       "<IPython.core.display.Math at 0x7f537ad70518>"
      ]
     },
     "metadata": {},
     "output_type": "display_data"
    },
    {
     "data": {
      "text/latex": [
       "$$EQs_\\text{ freespace }-b[1] = \\left[\\begin{matrix}- 376.730313461771 H_{{x}} & 2.57910549147943 \\cdot 10^{-5} i \\frac{d}{d y} E_{{z}}\\end{matrix}\\right]$$"
      ],
      "text/plain": [
       "<IPython.core.display.Math at 0x7f537a9ec048>"
      ]
     },
     "metadata": {},
     "output_type": "display_data"
    },
    {
     "data": {
      "text/latex": [
       "$$EQs_\\text{ freespace }-b[2] = \\left[\\begin{matrix}- 0.00265441872943807 E_{{y}} & 2.57910549147943 \\cdot 10^{-5} i \\frac{d}{d x} H_{{z}}\\end{matrix}\\right]$$"
      ],
      "text/plain": [
       "<IPython.core.display.Math at 0x7f537ad70518>"
      ]
     },
     "metadata": {},
     "output_type": "display_data"
    },
    {
     "data": {
      "text/latex": [
       "$$EQs_\\text{ freespace }-b[3] = \\left[\\begin{matrix}0.00265441872943807 E_{{x}} & 2.57910549147943 \\cdot 10^{-5} i \\frac{d}{d y} H_{{z}}\\end{matrix}\\right]$$"
      ],
      "text/plain": [
       "<IPython.core.display.Math at 0x7f537a9ec048>"
      ]
     },
     "metadata": {},
     "output_type": "display_data"
    },
    {
     "data": {
      "text/latex": [
       "$$EQs_\\text{ freespace }-b[4] = \\left[\\begin{matrix}- 102.92013018496 i E_{{z}} & - \\frac{d}{d y} H_{{x}} & \\frac{d}{d x} H_{{y}}\\end{matrix}\\right]$$"
      ],
      "text/plain": [
       "<IPython.core.display.Math at 0x7f537ad70518>"
      ]
     },
     "metadata": {},
     "output_type": "display_data"
    },
    {
     "data": {
      "text/latex": [
       "$$EQs_\\text{ freespace }-b[5] = \\left[\\begin{matrix}14607014.5136122 i H_{{z}} & - \\frac{d}{d y} E_{{x}} & \\frac{d}{d x} E_{{y}}\\end{matrix}\\right]$$"
      ],
      "text/plain": [
       "<IPython.core.display.Math at 0x7f537a9ec048>"
      ]
     },
     "metadata": {},
     "output_type": "display_data"
    },
    {
     "name": "stdout",
     "output_type": "stream",
     "text": [
      "[[(26087.872632408715-52453.433841141697j), 0.0, (-9956.5024358996288-11842.262996284313j)], [0.0, 0.0, 0.0], [(9956.5024358996288+11842.262996284313j), 0.0, (26087.872632408715-52453.433841141697j)]]\n"
     ]
    },
    {
     "data": {
      "text/latex": [
       "$$Eqs_\\text{ graphene } = \\left[\\begin{matrix}376.730313461771 H_{{y}} + 2.57910549147943 \\cdot 10^{-5} i \\frac{d}{d x} E_{{z}}\\\\- 376.730313461771 H_{{x}} + 2.57910549147943 \\cdot 10^{-5} i \\frac{d}{d y} E_{{z}}\\\\- 0.00265441872943807 E_{{y}} + 2.57910549147943 \\cdot 10^{-5} i \\frac{d}{d x} H_{{z}}\\\\- 1.35017497393698 E_{{x}} - 0.672833755672612 i E_{{x}} - 0.305424455252605 E_{{z}} + 0.25678870108357 i E_{{z}} + 2.57910549147943 \\cdot 10^{-5} i \\frac{d}{d y} H_{{z}}\\\\- 9956.50243589963 E_{{x}} - 11842.2629962843 i E_{{x}} - 26087.8726324087 E_{{z}} + 52350.5137109567 i E_{{z}} - \\frac{d}{d y} H_{{x}} + \\frac{d}{d x} H_{{y}}\\\\14607014.5136122 i H_{{z}} - \\frac{d}{d y} E_{{x}} + \\frac{d}{d x} E_{{y}}\\end{matrix}\\right]$$"
      ],
      "text/plain": [
       "<IPython.core.display.Math at 0x7f537aa00278>"
      ]
     },
     "metadata": {},
     "output_type": "display_data"
    },
    {
     "name": "stdout",
     "output_type": "stream",
     "text": [
      "Eq1 boundary equations \n"
     ]
    },
    {
     "data": {
      "text/latex": [
       "$$EQs_\\text{ graphene }-b[0] = \\left[\\begin{matrix}376.730313461771 H_{{y}} & 2.57910549147943 \\cdot 10^{-5} i \\frac{d}{d x} E_{{z}}\\end{matrix}\\right]$$"
      ],
      "text/plain": [
       "<IPython.core.display.Math at 0x7f537aa0c908>"
      ]
     },
     "metadata": {},
     "output_type": "display_data"
    },
    {
     "data": {
      "text/latex": [
       "$$EQs_\\text{ graphene }-b[1] = \\left[\\begin{matrix}- 376.730313461771 H_{{x}} & 2.57910549147943 \\cdot 10^{-5} i \\frac{d}{d y} E_{{z}}\\end{matrix}\\right]$$"
      ],
      "text/plain": [
       "<IPython.core.display.Math at 0x7f537aa0c9e8>"
      ]
     },
     "metadata": {},
     "output_type": "display_data"
    },
    {
     "data": {
      "text/latex": [
       "$$EQs_\\text{ graphene }-b[2] = \\left[\\begin{matrix}0 & - 0.00265441872943807 E_{{y}} & 0 & 2.57910549147943 \\cdot 10^{-5} i \\frac{d}{d x} H_{{z}}\\end{matrix}\\right]$$"
      ],
      "text/plain": [
       "<IPython.core.display.Math at 0x7f53b0026048>"
      ]
     },
     "metadata": {},
     "output_type": "display_data"
    },
    {
     "data": {
      "text/latex": [
       "$$EQs_\\text{ graphene }-b[3] = \\left[\\begin{matrix}2.57910549147943 \\cdot 10^{-5} E_{{x}} \\left(102.92013018496 - i \\left(26087.8726324087 - 52453.4338411417 i\\right)\\right) & 0 & - 2.57910549147943 \\cdot 10^{-5} i E_{{z}} \\left(-9956.50243589963 - 11842.2629962843 i\\right) & 2.57910549147943 \\cdot 10^{-5} i \\frac{d}{d y} H_{{z}}\\end{matrix}\\right]$$"
      ],
      "text/plain": [
       "<IPython.core.display.Math at 0x7f53b0019978>"
      ]
     },
     "metadata": {},
     "output_type": "display_data"
    },
    {
     "data": {
      "text/latex": [
       "$$EQs_\\text{ graphene }-b[4] = \\left[\\begin{matrix}- E_{{x}} \\left(9956.50243589963 + 11842.2629962843 i\\right) & 0 & - E_{{z}} \\left(26087.8726324087 - 52350.5137109567 i\\right) & - \\frac{d}{d y} H_{{x}} & \\frac{d}{d x} H_{{y}}\\end{matrix}\\right]$$"
      ],
      "text/plain": [
       "<IPython.core.display.Math at 0x7f53b0026048>"
      ]
     },
     "metadata": {},
     "output_type": "display_data"
    },
    {
     "data": {
      "text/latex": [
       "$$EQs_\\text{ graphene }-b[5] = \\left[\\begin{matrix}14607014.5136122 i H_{{z}} & - \\frac{d}{d y} E_{{x}} & \\frac{d}{d x} E_{{y}}\\end{matrix}\\right]$$"
      ],
      "text/plain": [
       "<IPython.core.display.Math at 0x7f53b0019978>"
      ]
     },
     "metadata": {},
     "output_type": "display_data"
    },
    {
     "name": "stdout",
     "output_type": "stream",
     "text": [
      "initial matrix nnz 1843027 0:00:17\n",
      "initial matrix shared nnz 2219743 0:00:13\n",
      "final matrix (application of boundary conditions) nnz:  2219267 0:00:05\n",
      "A_11.shape:  (157356, 157356) A_11.nnz:  157356\n",
      "warning: this inversion mechanism only works for diagonal matrices\n",
      "eliminating z components 0:00:02\n",
      "A_reduced nnz:  2939160\n",
      "solving eigenvalues 0:06:27\n",
      "[ 2.92579629 -8.37733281e-01j  0.73997045 -4.50237131e-05j]\n",
      "(359926, 2)\n",
      "0 0 x_correlation:  (0.507725818563+0.859471624469j)     abs(x_correlation):  0.998236935854\n",
      "k_correlation_r:  0.00022589112693     k_correlation_i:  0.00219699579008\n",
      "1 0 x_correlation:  (-5.73329173596e-05-6.4348826472e-05j)     abs(x_correlation):  8.61848877779e-05\n",
      "k_correlation_r:  0.747144632182     k_correlation_i:  0.999946136976\n",
      "X :  [7000000000000.0, 6950000000000.0, 6850000000000.0, 6650000000000.0, 6450000000000.0, 6250000000000.0, 6050000000000.0, 5850000000000.0, 5650000000000.0, 5450000000000.0, 5250000000000.0, 5050000000000.0, 4850000000000.0, 4650000000000.0, 4450000000000.0, 4250000000000.0, 4050000000000.0, 3850000000000.0, 3650000000000.0, 3450000000000.0, 3250000000000.0, 3050000000000.0, 2850000000000.0, 2650000000000.0, 2450000000000.0, 2250000000000.0, 2050000000000.0, 1850000000000.0]\n",
      "Y :  [[(9.0264198593920089-1.0265850275942863j)], [(8.9591509490803887-1.0248428143216293j)], [(8.8250554453441765-1.0213873265953377j)], [(8.5585964224031823-1.0145863243291824j)], [(8.2943834560896317-1.0079245347408612j)], [(8.0323500935623926-1.0013955543194086j)], [(7.7724369581080106-0.99499398313867937j)], [(7.514589631061205-0.98871676944562481j)], [(7.258763165805771-0.98256238682030228j)], [(7.0049175938053851-0.97652130310611174j)], [(6.7530093091440699-0.97058404763619255j)], [(6.5029986638359283-0.96474407348038327j)], [(6.2548497421581803-0.95899303239179656j)], [(6.0085276451703766-0.95332020226361569j)], [(5.7639986714177329-0.94771148236624303j)], [(5.5212310019493929-0.94214330023901227j)], [(5.2801971939104995-0.93657063085066661j)], [(5.0408877459070469-0.93090182701082791j)], [(4.8033478091954969-0.92495273204950945j)], [(4.5677684513733068-0.918381978216953j)], [(4.3346750063904764-0.91063646924897546j)], [(4.1052277194466695-0.90101040944521849j)], [(3.8814958575160263-0.88899691093329636j)], [(3.6662901824248366-0.87494632837546438j)], [(3.4622567126583665-0.86047256093346358j)], [(3.2708697732820666-0.84797930667052701j)], [(3.0922699867749484-0.83978604785702027j)], [(2.9257962923875875-0.83773328098448296j)]]\n",
      "X :  [7000000000000.0, 6950000000000.0, 6850000000000.0, 6650000000000.0, 6450000000000.0, 6250000000000.0, 6050000000000.0, 5850000000000.0, 5650000000000.0, 5450000000000.0, 5250000000000.0, 5050000000000.0, 4850000000000.0, 4650000000000.0, 4450000000000.0, 4250000000000.0, 4050000000000.0, 3850000000000.0, 3650000000000.0, 3450000000000.0, 3250000000000.0, 3050000000000.0, 2850000000000.0, 2650000000000.0, 2450000000000.0, 2250000000000.0, 2050000000000.0]\n",
      "Y :  [[(8.0232073158584836-1.0038177634322727j)], [(7.9580318024293435-1.002165067653527j)], [(7.8280933139952493-0.99888371498477257j)], [(7.5698373817955931-0.99241010085502668j)], [(7.3136932127065855-0.98604443809278242j)], [(7.0596085026341342-0.97977554145591095j)], [(6.8075371305561374-0.97359284654969247j)], [(6.5574373335614329-0.96748716557405556j)], [(6.3092748166396113-0.9614511664337817j)], [(6.0630218535066458-0.95547378216544254j)], [(5.8186517398008499-0.94954680963997151j)], [(5.5761431695747739-0.94367608673403425j)], [(5.3354794279992186-0.9378981947347097j)], [(5.0966347273222867-0.93231809097391694j)], [(4.8595367153326663-0.92717364591425044j)], [(4.6239798167363606-0.92292684758583232j)], [(4.3894683045966207-0.92037244078827407j)], [(4.1549808394212153-0.92075737918946254j)], [(3.9186483599056778-0.92593117488577226j)], [(3.677312941318621-0.93859549972758227j)], [(3.4258647371236117-0.96275710941544779j)], [(3.156208709294305-1.0045366154869255j)], [(2.8558165992984978-1.0738046274833923j)], [(2.5063563688924888-1.1885645297305534j)], [(2.0864234574600857-1.3890167237969169j)], [(1.6132893151693599-1.764693595219101j)], None]\n",
      "X :  [7000000000000.0, 6950000000000.0, 6850000000000.0, 6650000000000.0, 6450000000000.0, 6250000000000.0, 6050000000000.0, 5850000000000.0, 5650000000000.0, 5450000000000.0, 5250000000000.0, 5050000000000.0, 4850000000000.0, 4650000000000.0, 4450000000000.0, 4250000000000.0, 4050000000000.0, 3850000000000.0, 3650000000000.0, 3450000000000.0, 3250000000000.0, 3050000000000.0]\n",
      "Y :  [[(6.5956702117118349-0.78791361784606873j)], [(6.5435530246973519-0.78802249083072595j)], [(6.4391320917083572-0.78834760985526786j)], [(6.2293811334969185-0.7894861249931886j)], [(6.0180579613309053-0.79141024897694101j)], [(5.8046345497448524-0.79432853850880258j)], [(5.5884413350732611-0.79852240627067517j)], [(5.368619202567892-0.80437522758025648j)], [(5.1440509634386773-0.81241607687996109j)], [(4.9132683828200285-0.82338117543705347j)], [(4.6743175995161046-0.8383148983460913j)], [(4.4245647702757411-0.85871531442195226j)], [(4.1604339167452462-0.88679535356905737j)], [(3.877037422780544-0.92593969254811115j)], [(3.5677148568018668-0.98160065240720229j)], [(3.2235927485300775-1.0632398312221838j)], [(2.8341879494083608-1.1885173849669517j)], [(2.3933563458327187-1.3918629656390147j)], [(1.9259998070949513-1.7293820301048439j)], [(1.5244979731893422-2.2249726788156909j)], [(1.2579908774963218-2.7964485872495111j)], None]\n",
      "X :  [7000000000000.0, 6950000000000.0, 6850000000000.0, 6650000000000.0, 6450000000000.0, 6250000000000.0, 6050000000000.0, 5850000000000.0, 5650000000000.0, 5450000000000.0, 5250000000000.0, 5050000000000.0, 4850000000000.0, 4650000000000.0, 4450000000000.0, 4250000000000.0, 4050000000000.0]\n",
      "Y :  [[(6.2737880213737869-0.83870302667178354j)], [(6.2130298312009069-0.84076827627467954j)], [(6.0903511298235351-0.84530657527834485j)], [(5.8397096988549269-0.85626279522147908j)], [(5.580619695053235-0.87030920913645859j)], [(5.3110009133316254-0.88837921927722785j)], [(5.0281827942839818-0.91179539888921979j)], [(4.7286956697010751-0.94249855324883391j)], [(4.4079744733559121-0.98345432903454566j)], [(4.0599805372069566-1.039443234787458j)], [(3.6767770262152428-1.1186428471058749j)], [(3.2486663163422-1.2359996001677609j)], [(2.7675710930930602-1.4201967346649025j)], [(2.2445842948598753-1.7225236426241923j)], [(1.752594825411963-2.1916902252273749j)], [(1.3947765144486235-2.7794959465476055j)], None]\n",
      "X :  [7000000000000.0, 6950000000000.0, 6850000000000.0, 6650000000000.0, 6450000000000.0, 6250000000000.0, 6050000000000.0, 5850000000000.0, 5650000000000.0, 5450000000000.0, 5250000000000.0, 5050000000000.0, 4850000000000.0]\n",
      "Y :  [[(5.722674439701902-0.93216942168447792j)], [(5.6464262552655367-0.93829747873521585j)], [(5.4908645252106938-0.95174727681905913j)], [(5.1657822429627718-0.98437391926430307j)], [(4.8182412765899674-1.0271412924220784j)], [(4.4423714911030308-1.0846159873516263j)], [(4.0305299081864217-1.164515743117954j)], [(3.5733189335176081-1.2807297582230945j)], [(3.0622557973877278-1.4595334940394458j)], [(2.5039824932274826-1.7484192778097865j)], [(1.9589728516656573-2.2006276441259631j)], [(1.5326326870612297-2.789266340286265j)], None]\n",
      "----------------------------------------------------------------------------------------------------\n",
      "frequency: 1650000000000.0   k_init: (2.77144869012-0.841821006053j)\n"
     ]
    },
    {
     "data": {
      "text/latex": [
       "$$Eqs_\\text{ freespace } = \\left[\\begin{matrix}376.730313461771 H_{{y}} + 2.89172433893148 \\cdot 10^{-5} i \\frac{d}{d x} E_{{z}}\\\\- 376.730313461771 H_{{x}} + 2.89172433893148 \\cdot 10^{-5} i \\frac{d}{d y} E_{{z}}\\\\- 0.00265441872943807 E_{{y}} + 2.89172433893148 \\cdot 10^{-5} i \\frac{d}{d x} H_{{z}}\\\\0.00265441872943807 E_{{x}} + 2.89172433893148 \\cdot 10^{-5} i \\frac{d}{d y} H_{{z}}\\\\- 91.7936296244235 i E_{{z}} - \\frac{d}{d y} H_{{x}} + \\frac{d}{d x} H_{{y}}\\\\13027877.809438 i H_{{z}} - \\frac{d}{d y} E_{{x}} + \\frac{d}{d x} E_{{y}}\\end{matrix}\\right]$$"
      ],
      "text/plain": [
       "<IPython.core.display.Math at 0x7f5376a8de10>"
      ]
     },
     "metadata": {},
     "output_type": "display_data"
    },
    {
     "name": "stdout",
     "output_type": "stream",
     "text": [
      "Eq1 boundary equations \n"
     ]
    },
    {
     "data": {
      "text/latex": [
       "$$EQs_\\text{ freespace }-b[0] = \\left[\\begin{matrix}376.730313461771 H_{{y}} & 2.89172433893148 \\cdot 10^{-5} i \\frac{d}{d x} E_{{z}}\\end{matrix}\\right]$$"
      ],
      "text/plain": [
       "<IPython.core.display.Math at 0x7f53751dfeb8>"
      ]
     },
     "metadata": {},
     "output_type": "display_data"
    },
    {
     "data": {
      "text/latex": [
       "$$EQs_\\text{ freespace }-b[1] = \\left[\\begin{matrix}- 376.730313461771 H_{{x}} & 2.89172433893148 \\cdot 10^{-5} i \\frac{d}{d y} E_{{z}}\\end{matrix}\\right]$$"
      ],
      "text/plain": [
       "<IPython.core.display.Math at 0x7f53751df7f0>"
      ]
     },
     "metadata": {},
     "output_type": "display_data"
    },
    {
     "data": {
      "text/latex": [
       "$$EQs_\\text{ freespace }-b[2] = \\left[\\begin{matrix}- 0.00265441872943807 E_{{y}} & 2.89172433893148 \\cdot 10^{-5} i \\frac{d}{d x} H_{{z}}\\end{matrix}\\right]$$"
      ],
      "text/plain": [
       "<IPython.core.display.Math at 0x7f53751dfeb8>"
      ]
     },
     "metadata": {},
     "output_type": "display_data"
    },
    {
     "data": {
      "text/latex": [
       "$$EQs_\\text{ freespace }-b[3] = \\left[\\begin{matrix}0.00265441872943807 E_{{x}} & 2.89172433893148 \\cdot 10^{-5} i \\frac{d}{d y} H_{{z}}\\end{matrix}\\right]$$"
      ],
      "text/plain": [
       "<IPython.core.display.Math at 0x7f53751df7f0>"
      ]
     },
     "metadata": {},
     "output_type": "display_data"
    },
    {
     "data": {
      "text/latex": [
       "$$EQs_\\text{ freespace }-b[4] = \\left[\\begin{matrix}- 91.7936296244235 i E_{{z}} & - \\frac{d}{d y} H_{{x}} & \\frac{d}{d x} H_{{y}}\\end{matrix}\\right]$$"
      ],
      "text/plain": [
       "<IPython.core.display.Math at 0x7f53751dfeb8>"
      ]
     },
     "metadata": {},
     "output_type": "display_data"
    },
    {
     "data": {
      "text/latex": [
       "$$EQs_\\text{ freespace }-b[5] = \\left[\\begin{matrix}13027877.809438 i H_{{z}} & - \\frac{d}{d y} E_{{x}} & \\frac{d}{d x} E_{{y}}\\end{matrix}\\right]$$"
      ],
      "text/plain": [
       "<IPython.core.display.Math at 0x7f53751df7f0>"
      ]
     },
     "metadata": {},
     "output_type": "display_data"
    },
    {
     "name": "stdout",
     "output_type": "stream",
     "text": [
      "[[(32205.015017037542-56032.74792788957j), 0.0, (-10512.798522379724-15541.496093813903j)], [0.0, 0.0, 0.0], [(10512.798522379724+15541.496093813903j), 0.0, (32205.015017037542-56032.74792788957j)]]\n"
     ]
    },
    {
     "data": {
      "text/latex": [
       "$$Eqs_\\text{ graphene } = \\left[\\begin{matrix}376.730313461771 H_{{y}} + 2.89172433893148 \\cdot 10^{-5} i \\frac{d}{d x} E_{{z}}\\\\- 376.730313461771 H_{{x}} + 2.89172433893148 \\cdot 10^{-5} i \\frac{d}{d y} E_{{z}}\\\\- 0.00265441872943807 E_{{y}} + 2.89172433893148 \\cdot 10^{-5} i \\frac{d}{d x} H_{{z}}\\\\- 1.61765819087347 E_{{x}} - 0.931280257604213 i E_{{x}} - 0.449417225178902 E_{{z}} + 0.304001153574483 i E_{{z}} + 2.89172433893148 \\cdot 10^{-5} i \\frac{d}{d y} H_{{z}}\\\\- 10512.7985223797 E_{{x}} - 15541.4960938139 i E_{{x}} - 32205.0150170375 E_{{z}} + 55940.9542982651 i E_{{z}} - \\frac{d}{d y} H_{{x}} + \\frac{d}{d x} H_{{y}}\\\\13027877.809438 i H_{{z}} - \\frac{d}{d y} E_{{x}} + \\frac{d}{d x} E_{{y}}\\end{matrix}\\right]$$"
      ],
      "text/plain": [
       "<IPython.core.display.Math at 0x7f53746958d0>"
      ]
     },
     "metadata": {},
     "output_type": "display_data"
    },
    {
     "name": "stdout",
     "output_type": "stream",
     "text": [
      "Eq1 boundary equations \n"
     ]
    },
    {
     "data": {
      "text/latex": [
       "$$EQs_\\text{ graphene }-b[0] = \\left[\\begin{matrix}376.730313461771 H_{{y}} & 2.89172433893148 \\cdot 10^{-5} i \\frac{d}{d x} E_{{z}}\\end{matrix}\\right]$$"
      ],
      "text/plain": [
       "<IPython.core.display.Math at 0x7f536ddbfe80>"
      ]
     },
     "metadata": {},
     "output_type": "display_data"
    },
    {
     "data": {
      "text/latex": [
       "$$EQs_\\text{ graphene }-b[1] = \\left[\\begin{matrix}- 376.730313461771 H_{{x}} & 2.89172433893148 \\cdot 10^{-5} i \\frac{d}{d y} E_{{z}}\\end{matrix}\\right]$$"
      ],
      "text/plain": [
       "<IPython.core.display.Math at 0x7f5375163438>"
      ]
     },
     "metadata": {},
     "output_type": "display_data"
    },
    {
     "data": {
      "text/latex": [
       "$$EQs_\\text{ graphene }-b[2] = \\left[\\begin{matrix}0 & - 0.00265441872943807 E_{{y}} & 0 & 2.89172433893148 \\cdot 10^{-5} i \\frac{d}{d x} H_{{z}}\\end{matrix}\\right]$$"
      ],
      "text/plain": [
       "<IPython.core.display.Math at 0x7f5375163438>"
      ]
     },
     "metadata": {},
     "output_type": "display_data"
    },
    {
     "data": {
      "text/latex": [
       "$$EQs_\\text{ graphene }-b[3] = \\left[\\begin{matrix}2.89172433893148 \\cdot 10^{-5} E_{{x}} \\left(91.7936296244235 - i \\left(32205.0150170375 - 56032.7479278896 i\\right)\\right) & 0 & - 2.89172433893148 \\cdot 10^{-5} i E_{{z}} \\left(-10512.7985223797 - 15541.4960938139 i\\right) & 2.89172433893148 \\cdot 10^{-5} i \\frac{d}{d y} H_{{z}}\\end{matrix}\\right]$$"
      ],
      "text/plain": [
       "<IPython.core.display.Math at 0x7f5375163438>"
      ]
     },
     "metadata": {},
     "output_type": "display_data"
    },
    {
     "data": {
      "text/latex": [
       "$$EQs_\\text{ graphene }-b[4] = \\left[\\begin{matrix}- E_{{x}} \\left(10512.7985223797 + 15541.4960938139 i\\right) & 0 & - E_{{z}} \\left(32205.0150170375 - 55940.9542982651 i\\right) & - \\frac{d}{d y} H_{{x}} & \\frac{d}{d x} H_{{y}}\\end{matrix}\\right]$$"
      ],
      "text/plain": [
       "<IPython.core.display.Math at 0x7f5375163438>"
      ]
     },
     "metadata": {},
     "output_type": "display_data"
    },
    {
     "data": {
      "text/latex": [
       "$$EQs_\\text{ graphene }-b[5] = \\left[\\begin{matrix}13027877.809438 i H_{{z}} & - \\frac{d}{d y} E_{{x}} & \\frac{d}{d x} E_{{y}}\\end{matrix}\\right]$$"
      ],
      "text/plain": [
       "<IPython.core.display.Math at 0x7f5375163438>"
      ]
     },
     "metadata": {},
     "output_type": "display_data"
    },
    {
     "name": "stdout",
     "output_type": "stream",
     "text": [
      "initial matrix nnz 1843027 0:00:10\n",
      "initial matrix shared nnz 2219743 0:00:07\n",
      "final matrix (application of boundary conditions) nnz:  2219267 0:00:03\n",
      "A_11.shape:  (157356, 157356) A_11.nnz:  157356\n",
      "warning: this inversion mechanism only works for diagonal matrices\n",
      "eliminating z components 0:00:01\n",
      "A_reduced nnz:  2946527\n",
      "solving eigenvalues 0:03:23\n",
      "[ 2.77058697 -8.43264000e-01j  0.65676739 -1.03159950e-04j]\n",
      "(359926, 2)\n",
      "0 0 x_correlation:  (-0.411252394942-0.909915064294j)     abs(x_correlation):  0.998535906502\n",
      "k_correlation_r:  0.000310927090512     k_correlation_i:  0.00171120061199\n",
      "1 0 x_correlation:  (1.59546651834e-05-9.41251330431e-05j)     abs(x_correlation):  9.54677537784e-05\n",
      "k_correlation_r:  0.763023794572     k_correlation_i:  0.999877456194\n",
      "X :  [7000000000000.0, 6950000000000.0, 6850000000000.0, 6650000000000.0, 6450000000000.0, 6250000000000.0, 6050000000000.0, 5850000000000.0, 5650000000000.0, 5450000000000.0, 5250000000000.0, 5050000000000.0, 4850000000000.0, 4650000000000.0, 4450000000000.0, 4250000000000.0, 4050000000000.0, 3850000000000.0, 3650000000000.0, 3450000000000.0, 3250000000000.0, 3050000000000.0, 2850000000000.0, 2650000000000.0, 2450000000000.0, 2250000000000.0, 2050000000000.0, 1850000000000.0, 1650000000000.0]\n",
      "Y :  [[(9.0264198593920089-1.0265850275942863j)], [(8.9591509490803887-1.0248428143216293j)], [(8.8250554453441765-1.0213873265953377j)], [(8.5585964224031823-1.0145863243291824j)], [(8.2943834560896317-1.0079245347408612j)], [(8.0323500935623926-1.0013955543194086j)], [(7.7724369581080106-0.99499398313867937j)], [(7.514589631061205-0.98871676944562481j)], [(7.258763165805771-0.98256238682030228j)], [(7.0049175938053851-0.97652130310611174j)], [(6.7530093091440699-0.97058404763619255j)], [(6.5029986638359283-0.96474407348038327j)], [(6.2548497421581803-0.95899303239179656j)], [(6.0085276451703766-0.95332020226361569j)], [(5.7639986714177329-0.94771148236624303j)], [(5.5212310019493929-0.94214330023901227j)], [(5.2801971939104995-0.93657063085066661j)], [(5.0408877459070469-0.93090182701082791j)], [(4.8033478091954969-0.92495273204950945j)], [(4.5677684513733068-0.918381978216953j)], [(4.3346750063904764-0.91063646924897546j)], [(4.1052277194466695-0.90101040944521849j)], [(3.8814958575160263-0.88899691093329636j)], [(3.6662901824248366-0.87494632837546438j)], [(3.4622567126583665-0.86047256093346358j)], [(3.2708697732820666-0.84797930667052701j)], [(3.0922699867749484-0.83978604785702027j)], [(2.9257962923875875-0.83773328098448296j)], [(2.7705869716422944-0.84326399992566492j)]]\n",
      "X :  [7000000000000.0, 6950000000000.0, 6850000000000.0, 6650000000000.0, 6450000000000.0, 6250000000000.0, 6050000000000.0, 5850000000000.0, 5650000000000.0, 5450000000000.0, 5250000000000.0, 5050000000000.0, 4850000000000.0, 4650000000000.0, 4450000000000.0, 4250000000000.0, 4050000000000.0, 3850000000000.0, 3650000000000.0, 3450000000000.0, 3250000000000.0, 3050000000000.0, 2850000000000.0, 2650000000000.0, 2450000000000.0, 2250000000000.0, 2050000000000.0]\n",
      "Y :  [[(8.0232073158584836-1.0038177634322727j)], [(7.9580318024293435-1.002165067653527j)], [(7.8280933139952493-0.99888371498477257j)], [(7.5698373817955931-0.99241010085502668j)], [(7.3136932127065855-0.98604443809278242j)], [(7.0596085026341342-0.97977554145591095j)], [(6.8075371305561374-0.97359284654969247j)], [(6.5574373335614329-0.96748716557405556j)], [(6.3092748166396113-0.9614511664337817j)], [(6.0630218535066458-0.95547378216544254j)], [(5.8186517398008499-0.94954680963997151j)], [(5.5761431695747739-0.94367608673403425j)], [(5.3354794279992186-0.9378981947347097j)], [(5.0966347273222867-0.93231809097391694j)], [(4.8595367153326663-0.92717364591425044j)], [(4.6239798167363606-0.92292684758583232j)], [(4.3894683045966207-0.92037244078827407j)], [(4.1549808394212153-0.92075737918946254j)], [(3.9186483599056778-0.92593117488577226j)], [(3.677312941318621-0.93859549972758227j)], [(3.4258647371236117-0.96275710941544779j)], [(3.156208709294305-1.0045366154869255j)], [(2.8558165992984978-1.0738046274833923j)], [(2.5063563688924888-1.1885645297305534j)], [(2.0864234574600857-1.3890167237969169j)], [(1.6132893151693599-1.764693595219101j)], None]\n",
      "X :  [7000000000000.0, 6950000000000.0, 6850000000000.0, 6650000000000.0, 6450000000000.0, 6250000000000.0, 6050000000000.0, 5850000000000.0, 5650000000000.0, 5450000000000.0, 5250000000000.0, 5050000000000.0, 4850000000000.0, 4650000000000.0, 4450000000000.0, 4250000000000.0, 4050000000000.0, 3850000000000.0, 3650000000000.0, 3450000000000.0, 3250000000000.0, 3050000000000.0]\n",
      "Y :  [[(6.5956702117118349-0.78791361784606873j)], [(6.5435530246973519-0.78802249083072595j)], [(6.4391320917083572-0.78834760985526786j)], [(6.2293811334969185-0.7894861249931886j)], [(6.0180579613309053-0.79141024897694101j)], [(5.8046345497448524-0.79432853850880258j)], [(5.5884413350732611-0.79852240627067517j)], [(5.368619202567892-0.80437522758025648j)], [(5.1440509634386773-0.81241607687996109j)], [(4.9132683828200285-0.82338117543705347j)], [(4.6743175995161046-0.8383148983460913j)], [(4.4245647702757411-0.85871531442195226j)], [(4.1604339167452462-0.88679535356905737j)], [(3.877037422780544-0.92593969254811115j)], [(3.5677148568018668-0.98160065240720229j)], [(3.2235927485300775-1.0632398312221838j)], [(2.8341879494083608-1.1885173849669517j)], [(2.3933563458327187-1.3918629656390147j)], [(1.9259998070949513-1.7293820301048439j)], [(1.5244979731893422-2.2249726788156909j)], [(1.2579908774963218-2.7964485872495111j)], None]\n",
      "X :  [7000000000000.0, 6950000000000.0, 6850000000000.0, 6650000000000.0, 6450000000000.0, 6250000000000.0, 6050000000000.0, 5850000000000.0, 5650000000000.0, 5450000000000.0, 5250000000000.0, 5050000000000.0, 4850000000000.0, 4650000000000.0, 4450000000000.0, 4250000000000.0, 4050000000000.0]\n",
      "Y :  [[(6.2737880213737869-0.83870302667178354j)], [(6.2130298312009069-0.84076827627467954j)], [(6.0903511298235351-0.84530657527834485j)], [(5.8397096988549269-0.85626279522147908j)], [(5.580619695053235-0.87030920913645859j)], [(5.3110009133316254-0.88837921927722785j)], [(5.0281827942839818-0.91179539888921979j)], [(4.7286956697010751-0.94249855324883391j)], [(4.4079744733559121-0.98345432903454566j)], [(4.0599805372069566-1.039443234787458j)], [(3.6767770262152428-1.1186428471058749j)], [(3.2486663163422-1.2359996001677609j)], [(2.7675710930930602-1.4201967346649025j)], [(2.2445842948598753-1.7225236426241923j)], [(1.752594825411963-2.1916902252273749j)], [(1.3947765144486235-2.7794959465476055j)], None]\n",
      "X :  [7000000000000.0, 6950000000000.0, 6850000000000.0, 6650000000000.0, 6450000000000.0, 6250000000000.0, 6050000000000.0, 5850000000000.0, 5650000000000.0, 5450000000000.0, 5250000000000.0, 5050000000000.0, 4850000000000.0]\n",
      "Y :  [[(5.722674439701902-0.93216942168447792j)], [(5.6464262552655367-0.93829747873521585j)], [(5.4908645252106938-0.95174727681905913j)], [(5.1657822429627718-0.98437391926430307j)], [(4.8182412765899674-1.0271412924220784j)], [(4.4423714911030308-1.0846159873516263j)], [(4.0305299081864217-1.164515743117954j)], [(3.5733189335176081-1.2807297582230945j)], [(3.0622557973877278-1.4595334940394458j)], [(2.5039824932274826-1.7484192778097865j)], [(1.9589728516656573-2.2006276441259631j)], [(1.5326326870612297-2.789266340286265j)], None]\n",
      "----------------------------------------------------------------------------------------------------\n",
      "frequency: 1450000000000.0   k_init: (2.62664202454-0.856378204681j)\n"
     ]
    },
    {
     "data": {
      "text/latex": [
       "$$Eqs_\\text{ freespace } = \\left[\\begin{matrix}376.730313461771 H_{{y}} + 3.29058286843927 \\cdot 10^{-5} i \\frac{d}{d x} E_{{z}}\\\\- 376.730313461771 H_{{x}} + 3.29058286843927 \\cdot 10^{-5} i \\frac{d}{d y} E_{{z}}\\\\- 0.00265441872943807 E_{{y}} + 3.29058286843927 \\cdot 10^{-5} i \\frac{d}{d x} H_{{z}}\\\\0.00265441872943807 E_{{x}} + 3.29058286843927 \\cdot 10^{-5} i \\frac{d}{d y} H_{{z}}\\\\- 80.6671290638873 i E_{{z}} - \\frac{d}{d y} H_{{x}} + \\frac{d}{d x} H_{{y}}\\\\11448741.1052637 i H_{{z}} - \\frac{d}{d y} E_{{x}} + \\frac{d}{d x} E_{{y}}\\end{matrix}\\right]$$"
      ],
      "text/plain": [
       "<IPython.core.display.Math at 0x7f53751b24a8>"
      ]
     },
     "metadata": {},
     "output_type": "display_data"
    },
    {
     "name": "stdout",
     "output_type": "stream",
     "text": [
      "Eq1 boundary equations \n"
     ]
    },
    {
     "data": {
      "text/latex": [
       "$$EQs_\\text{ freespace }-b[0] = \\left[\\begin{matrix}376.730313461771 H_{{y}} & 3.29058286843927 \\cdot 10^{-5} i \\frac{d}{d x} E_{{z}}\\end{matrix}\\right]$$"
      ],
      "text/plain": [
       "<IPython.core.display.Math at 0x7f537a9d6c50>"
      ]
     },
     "metadata": {},
     "output_type": "display_data"
    },
    {
     "data": {
      "text/latex": [
       "$$EQs_\\text{ freespace }-b[1] = \\left[\\begin{matrix}- 376.730313461771 H_{{x}} & 3.29058286843927 \\cdot 10^{-5} i \\frac{d}{d y} E_{{z}}\\end{matrix}\\right]$$"
      ],
      "text/plain": [
       "<IPython.core.display.Math at 0x7f537a9d6978>"
      ]
     },
     "metadata": {},
     "output_type": "display_data"
    },
    {
     "data": {
      "text/latex": [
       "$$EQs_\\text{ freespace }-b[2] = \\left[\\begin{matrix}- 0.00265441872943807 E_{{y}} & 3.29058286843927 \\cdot 10^{-5} i \\frac{d}{d x} H_{{z}}\\end{matrix}\\right]$$"
      ],
      "text/plain": [
       "<IPython.core.display.Math at 0x7f5375163438>"
      ]
     },
     "metadata": {},
     "output_type": "display_data"
    },
    {
     "data": {
      "text/latex": [
       "$$EQs_\\text{ freespace }-b[3] = \\left[\\begin{matrix}0.00265441872943807 E_{{x}} & 3.29058286843927 \\cdot 10^{-5} i \\frac{d}{d y} H_{{z}}\\end{matrix}\\right]$$"
      ],
      "text/plain": [
       "<IPython.core.display.Math at 0x7f5375163438>"
      ]
     },
     "metadata": {},
     "output_type": "display_data"
    },
    {
     "data": {
      "text/latex": [
       "$$EQs_\\text{ freespace }-b[4] = \\left[\\begin{matrix}- 80.6671290638873 i E_{{z}} & - \\frac{d}{d y} H_{{x}} & \\frac{d}{d x} H_{{y}}\\end{matrix}\\right]$$"
      ],
      "text/plain": [
       "<IPython.core.display.Math at 0x7f5375163438>"
      ]
     },
     "metadata": {},
     "output_type": "display_data"
    },
    {
     "data": {
      "text/latex": [
       "$$EQs_\\text{ freespace }-b[5] = \\left[\\begin{matrix}11448741.1052637 i H_{{z}} & - \\frac{d}{d y} E_{{x}} & \\frac{d}{d x} E_{{y}}\\end{matrix}\\right]$$"
      ],
      "text/plain": [
       "<IPython.core.display.Math at 0x7f537a9e7da0>"
      ]
     },
     "metadata": {},
     "output_type": "display_data"
    },
    {
     "name": "stdout",
     "output_type": "stream",
     "text": [
      "[[(40296.010092651442-59223.279317256551j), 0.0, (-10324.362620010861-20579.940712102944j)], [0.0, 0.0, 0.0], [(10324.362620010861+20579.940712102944j), 0.0, (40296.010092651442-59223.279317256551j)]]\n"
     ]
    },
    {
     "data": {
      "text/latex": [
       "$$Eqs_\\text{ graphene } = \\left[\\begin{matrix}376.730313461771 H_{{y}} + 3.29058286843927 \\cdot 10^{-5} i \\frac{d}{d x} E_{{z}}\\\\- 376.730313461771 H_{{x}} + 3.29058286843927 \\cdot 10^{-5} i \\frac{d}{d y} E_{{z}}\\\\- 0.00265441872943807 E_{{y}} + 3.29058286843927 \\cdot 10^{-5} i \\frac{d}{d x} H_{{z}}\\\\- 1.94613666461214 E_{{x}} - 1.32597360477335 i E_{{x}} - 0.677200003407418 E_{{z}} + 0.339731707649625 i E_{{z}} + 3.29058286843927 \\cdot 10^{-5} i \\frac{d}{d y} H_{{z}}\\\\- 10324.3626200109 E_{{x}} - 20579.9407121029 i E_{{x}} - 40296.0100926514 E_{{z}} + 59142.6121881927 i E_{{z}} - \\frac{d}{d y} H_{{x}} + \\frac{d}{d x} H_{{y}}\\\\11448741.1052637 i H_{{z}} - \\frac{d}{d y} E_{{x}} + \\frac{d}{d x} E_{{y}}\\end{matrix}\\right]$$"
      ],
      "text/plain": [
       "<IPython.core.display.Math at 0x7f537abe2390>"
      ]
     },
     "metadata": {},
     "output_type": "display_data"
    },
    {
     "name": "stdout",
     "output_type": "stream",
     "text": [
      "Eq1 boundary equations \n"
     ]
    },
    {
     "data": {
      "text/latex": [
       "$$EQs_\\text{ graphene }-b[0] = \\left[\\begin{matrix}376.730313461771 H_{{y}} & 3.29058286843927 \\cdot 10^{-5} i \\frac{d}{d x} E_{{z}}\\end{matrix}\\right]$$"
      ],
      "text/plain": [
       "<IPython.core.display.Math at 0x7f53746958d0>"
      ]
     },
     "metadata": {},
     "output_type": "display_data"
    },
    {
     "data": {
      "text/latex": [
       "$$EQs_\\text{ graphene }-b[1] = \\left[\\begin{matrix}- 376.730313461771 H_{{x}} & 3.29058286843927 \\cdot 10^{-5} i \\frac{d}{d y} E_{{z}}\\end{matrix}\\right]$$"
      ],
      "text/plain": [
       "<IPython.core.display.Math at 0x7f536ddbfeb8>"
      ]
     },
     "metadata": {},
     "output_type": "display_data"
    },
    {
     "data": {
      "text/latex": [
       "$$EQs_\\text{ graphene }-b[2] = \\left[\\begin{matrix}0 & - 0.00265441872943807 E_{{y}} & 0 & 3.29058286843927 \\cdot 10^{-5} i \\frac{d}{d x} H_{{z}}\\end{matrix}\\right]$$"
      ],
      "text/plain": [
       "<IPython.core.display.Math at 0x7f53746958d0>"
      ]
     },
     "metadata": {},
     "output_type": "display_data"
    },
    {
     "data": {
      "text/latex": [
       "$$EQs_\\text{ graphene }-b[3] = \\left[\\begin{matrix}3.29058286843927 \\cdot 10^{-5} E_{{x}} \\left(80.6671290638873 - i \\left(40296.0100926514 - 59223.2793172566 i\\right)\\right) & 0 & - 3.29058286843927 \\cdot 10^{-5} i E_{{z}} \\left(-10324.3626200109 - 20579.9407121029 i\\right) & 3.29058286843927 \\cdot 10^{-5} i \\frac{d}{d y} H_{{z}}\\end{matrix}\\right]$$"
      ],
      "text/plain": [
       "<IPython.core.display.Math at 0x7f536ddbfeb8>"
      ]
     },
     "metadata": {},
     "output_type": "display_data"
    },
    {
     "data": {
      "text/latex": [
       "$$EQs_\\text{ graphene }-b[4] = \\left[\\begin{matrix}- E_{{x}} \\left(10324.3626200109 + 20579.9407121029 i\\right) & 0 & - E_{{z}} \\left(40296.0100926514 - 59142.6121881927 i\\right) & - \\frac{d}{d y} H_{{x}} & \\frac{d}{d x} H_{{y}}\\end{matrix}\\right]$$"
      ],
      "text/plain": [
       "<IPython.core.display.Math at 0x7f536ddbfeb8>"
      ]
     },
     "metadata": {},
     "output_type": "display_data"
    },
    {
     "data": {
      "text/latex": [
       "$$EQs_\\text{ graphene }-b[5] = \\left[\\begin{matrix}11448741.1052637 i H_{{z}} & - \\frac{d}{d y} E_{{x}} & \\frac{d}{d x} E_{{y}}\\end{matrix}\\right]$$"
      ],
      "text/plain": [
       "<IPython.core.display.Math at 0x7f537acde9b0>"
      ]
     },
     "metadata": {},
     "output_type": "display_data"
    },
    {
     "name": "stdout",
     "output_type": "stream",
     "text": [
      "initial matrix nnz 1843027 0:00:16\n",
      "initial matrix shared nnz 2219743 0:00:13\n",
      "final matrix (application of boundary conditions) nnz:  2219267 0:00:04\n",
      "A_11.shape:  (157356, 157356) A_11.nnz:  157356\n",
      "warning: this inversion mechanism only works for diagonal matrices\n",
      "eliminating z components 0:00:01\n",
      "A_reduced nnz:  2936682\n",
      "solving eigenvalues 0:03:10\n",
      "[ 2.62622718 -8.57571769e-01j  0.51353495 -9.04852842e-07j]\n",
      "(359926, 2)\n",
      "0 0 x_correlation:  (-0.121706498587+0.991353401426j)     abs(x_correlation):  0.998796294705\n",
      "k_correlation_r:  0.000157935724444     k_correlation_i:  0.0013917956759\n",
      "1 0 x_correlation:  (-0.0014548538463-0.000905689907225j)     abs(x_correlation):  0.00171373099468\n",
      "k_correlation_r:  0.804489935522     k_correlation_i:  0.999998943396\n",
      "X :  [7000000000000.0, 6950000000000.0, 6850000000000.0, 6650000000000.0, 6450000000000.0, 6250000000000.0, 6050000000000.0, 5850000000000.0, 5650000000000.0, 5450000000000.0, 5250000000000.0, 5050000000000.0, 4850000000000.0, 4650000000000.0, 4450000000000.0, 4250000000000.0, 4050000000000.0, 3850000000000.0, 3650000000000.0, 3450000000000.0, 3250000000000.0, 3050000000000.0, 2850000000000.0, 2650000000000.0, 2450000000000.0, 2250000000000.0, 2050000000000.0, 1850000000000.0, 1650000000000.0, 1450000000000.0]\n",
      "Y :  [[(9.0264198593920089-1.0265850275942863j)], [(8.9591509490803887-1.0248428143216293j)], [(8.8250554453441765-1.0213873265953377j)], [(8.5585964224031823-1.0145863243291824j)], [(8.2943834560896317-1.0079245347408612j)], [(8.0323500935623926-1.0013955543194086j)], [(7.7724369581080106-0.99499398313867937j)], [(7.514589631061205-0.98871676944562481j)], [(7.258763165805771-0.98256238682030228j)], [(7.0049175938053851-0.97652130310611174j)], [(6.7530093091440699-0.97058404763619255j)], [(6.5029986638359283-0.96474407348038327j)], [(6.2548497421581803-0.95899303239179656j)], [(6.0085276451703766-0.95332020226361569j)], [(5.7639986714177329-0.94771148236624303j)], [(5.5212310019493929-0.94214330023901227j)], [(5.2801971939104995-0.93657063085066661j)], [(5.0408877459070469-0.93090182701082791j)], [(4.8033478091954969-0.92495273204950945j)], [(4.5677684513733068-0.918381978216953j)], [(4.3346750063904764-0.91063646924897546j)], [(4.1052277194466695-0.90101040944521849j)], [(3.8814958575160263-0.88899691093329636j)], [(3.6662901824248366-0.87494632837546438j)], [(3.4622567126583665-0.86047256093346358j)], [(3.2708697732820666-0.84797930667052701j)], [(3.0922699867749484-0.83978604785702027j)], [(2.9257962923875875-0.83773328098448296j)], [(2.7705869716422944-0.84326399992566492j)], [(2.6262271839280289-0.85757176936093249j)]]\n",
      "X :  [7000000000000.0, 6950000000000.0, 6850000000000.0, 6650000000000.0, 6450000000000.0, 6250000000000.0, 6050000000000.0, 5850000000000.0, 5650000000000.0, 5450000000000.0, 5250000000000.0, 5050000000000.0, 4850000000000.0, 4650000000000.0, 4450000000000.0, 4250000000000.0, 4050000000000.0, 3850000000000.0, 3650000000000.0, 3450000000000.0, 3250000000000.0, 3050000000000.0, 2850000000000.0, 2650000000000.0, 2450000000000.0, 2250000000000.0, 2050000000000.0]\n",
      "Y :  [[(8.0232073158584836-1.0038177634322727j)], [(7.9580318024293435-1.002165067653527j)], [(7.8280933139952493-0.99888371498477257j)], [(7.5698373817955931-0.99241010085502668j)], [(7.3136932127065855-0.98604443809278242j)], [(7.0596085026341342-0.97977554145591095j)], [(6.8075371305561374-0.97359284654969247j)], [(6.5574373335614329-0.96748716557405556j)], [(6.3092748166396113-0.9614511664337817j)], [(6.0630218535066458-0.95547378216544254j)], [(5.8186517398008499-0.94954680963997151j)], [(5.5761431695747739-0.94367608673403425j)], [(5.3354794279992186-0.9378981947347097j)], [(5.0966347273222867-0.93231809097391694j)], [(4.8595367153326663-0.92717364591425044j)], [(4.6239798167363606-0.92292684758583232j)], [(4.3894683045966207-0.92037244078827407j)], [(4.1549808394212153-0.92075737918946254j)], [(3.9186483599056778-0.92593117488577226j)], [(3.677312941318621-0.93859549972758227j)], [(3.4258647371236117-0.96275710941544779j)], [(3.156208709294305-1.0045366154869255j)], [(2.8558165992984978-1.0738046274833923j)], [(2.5063563688924888-1.1885645297305534j)], [(2.0864234574600857-1.3890167237969169j)], [(1.6132893151693599-1.764693595219101j)], None]\n",
      "X :  [7000000000000.0, 6950000000000.0, 6850000000000.0, 6650000000000.0, 6450000000000.0, 6250000000000.0, 6050000000000.0, 5850000000000.0, 5650000000000.0, 5450000000000.0, 5250000000000.0, 5050000000000.0, 4850000000000.0, 4650000000000.0, 4450000000000.0, 4250000000000.0, 4050000000000.0, 3850000000000.0, 3650000000000.0, 3450000000000.0, 3250000000000.0, 3050000000000.0]\n",
      "Y :  [[(6.5956702117118349-0.78791361784606873j)], [(6.5435530246973519-0.78802249083072595j)], [(6.4391320917083572-0.78834760985526786j)], [(6.2293811334969185-0.7894861249931886j)], [(6.0180579613309053-0.79141024897694101j)], [(5.8046345497448524-0.79432853850880258j)], [(5.5884413350732611-0.79852240627067517j)], [(5.368619202567892-0.80437522758025648j)], [(5.1440509634386773-0.81241607687996109j)], [(4.9132683828200285-0.82338117543705347j)], [(4.6743175995161046-0.8383148983460913j)], [(4.4245647702757411-0.85871531442195226j)], [(4.1604339167452462-0.88679535356905737j)], [(3.877037422780544-0.92593969254811115j)], [(3.5677148568018668-0.98160065240720229j)], [(3.2235927485300775-1.0632398312221838j)], [(2.8341879494083608-1.1885173849669517j)], [(2.3933563458327187-1.3918629656390147j)], [(1.9259998070949513-1.7293820301048439j)], [(1.5244979731893422-2.2249726788156909j)], [(1.2579908774963218-2.7964485872495111j)], None]\n",
      "X :  [7000000000000.0, 6950000000000.0, 6850000000000.0, 6650000000000.0, 6450000000000.0, 6250000000000.0, 6050000000000.0, 5850000000000.0, 5650000000000.0, 5450000000000.0, 5250000000000.0, 5050000000000.0, 4850000000000.0, 4650000000000.0, 4450000000000.0, 4250000000000.0, 4050000000000.0]\n",
      "Y :  [[(6.2737880213737869-0.83870302667178354j)], [(6.2130298312009069-0.84076827627467954j)], [(6.0903511298235351-0.84530657527834485j)], [(5.8397096988549269-0.85626279522147908j)], [(5.580619695053235-0.87030920913645859j)], [(5.3110009133316254-0.88837921927722785j)], [(5.0281827942839818-0.91179539888921979j)], [(4.7286956697010751-0.94249855324883391j)], [(4.4079744733559121-0.98345432903454566j)], [(4.0599805372069566-1.039443234787458j)], [(3.6767770262152428-1.1186428471058749j)], [(3.2486663163422-1.2359996001677609j)], [(2.7675710930930602-1.4201967346649025j)], [(2.2445842948598753-1.7225236426241923j)], [(1.752594825411963-2.1916902252273749j)], [(1.3947765144486235-2.7794959465476055j)], None]\n",
      "X :  [7000000000000.0, 6950000000000.0, 6850000000000.0, 6650000000000.0, 6450000000000.0, 6250000000000.0, 6050000000000.0, 5850000000000.0, 5650000000000.0, 5450000000000.0, 5250000000000.0, 5050000000000.0, 4850000000000.0]\n",
      "Y :  [[(5.722674439701902-0.93216942168447792j)], [(5.6464262552655367-0.93829747873521585j)], [(5.4908645252106938-0.95174727681905913j)], [(5.1657822429627718-0.98437391926430307j)], [(4.8182412765899674-1.0271412924220784j)], [(4.4423714911030308-1.0846159873516263j)], [(4.0305299081864217-1.164515743117954j)], [(3.5733189335176081-1.2807297582230945j)], [(3.0622557973877278-1.4595334940394458j)], [(2.5039824932274826-1.7484192778097865j)], [(1.9589728516656573-2.2006276441259631j)], [(1.5326326870612297-2.789266340286265j)], None]\n",
      "----------------------------------------------------------------------------------------------------\n",
      "frequency: 1250000000000.0   k_init: (2.49271692924-0.88065658929j)\n"
     ]
    },
    {
     "data": {
      "text/latex": [
       "$$Eqs_\\text{ freespace } = \\left[\\begin{matrix}376.730313461771 H_{{y}} + 3.81707612738955 \\cdot 10^{-5} i \\frac{d}{d x} E_{{z}}\\\\- 376.730313461771 H_{{x}} + 3.81707612738955 \\cdot 10^{-5} i \\frac{d}{d y} E_{{z}}\\\\- 0.00265441872943807 E_{{y}} + 3.81707612738955 \\cdot 10^{-5} i \\frac{d}{d x} H_{{z}}\\\\0.00265441872943807 E_{{x}} + 3.81707612738955 \\cdot 10^{-5} i \\frac{d}{d y} H_{{z}}\\\\- 69.5406285033511 i E_{{z}} - \\frac{d}{d y} H_{{x}} + \\frac{d}{d x} H_{{y}}\\\\9869604.40108936 i H_{{z}} - \\frac{d}{d y} E_{{x}} + \\frac{d}{d x} E_{{y}}\\end{matrix}\\right]$$"
      ],
      "text/plain": [
       "<IPython.core.display.Math at 0x7f53746956a0>"
      ]
     },
     "metadata": {},
     "output_type": "display_data"
    },
    {
     "name": "stdout",
     "output_type": "stream",
     "text": [
      "Eq1 boundary equations \n"
     ]
    },
    {
     "data": {
      "text/latex": [
       "$$EQs_\\text{ freespace }-b[0] = \\left[\\begin{matrix}376.730313461771 H_{{y}} & 3.81707612738955 \\cdot 10^{-5} i \\frac{d}{d x} E_{{z}}\\end{matrix}\\right]$$"
      ],
      "text/plain": [
       "<IPython.core.display.Math at 0x7f537ace9d68>"
      ]
     },
     "metadata": {},
     "output_type": "display_data"
    },
    {
     "data": {
      "text/latex": [
       "$$EQs_\\text{ freespace }-b[1] = \\left[\\begin{matrix}- 376.730313461771 H_{{x}} & 3.81707612738955 \\cdot 10^{-5} i \\frac{d}{d y} E_{{z}}\\end{matrix}\\right]$$"
      ],
      "text/plain": [
       "<IPython.core.display.Math at 0x7f537ace9080>"
      ]
     },
     "metadata": {},
     "output_type": "display_data"
    },
    {
     "data": {
      "text/latex": [
       "$$EQs_\\text{ freespace }-b[2] = \\left[\\begin{matrix}- 0.00265441872943807 E_{{y}} & 3.81707612738955 \\cdot 10^{-5} i \\frac{d}{d x} H_{{z}}\\end{matrix}\\right]$$"
      ],
      "text/plain": [
       "<IPython.core.display.Math at 0x7f537ace9d68>"
      ]
     },
     "metadata": {},
     "output_type": "display_data"
    },
    {
     "data": {
      "text/latex": [
       "$$EQs_\\text{ freespace }-b[3] = \\left[\\begin{matrix}0.00265441872943807 E_{{x}} & 3.81707612738955 \\cdot 10^{-5} i \\frac{d}{d y} H_{{z}}\\end{matrix}\\right]$$"
      ],
      "text/plain": [
       "<IPython.core.display.Math at 0x7f536ddbfe80>"
      ]
     },
     "metadata": {},
     "output_type": "display_data"
    },
    {
     "data": {
      "text/latex": [
       "$$EQs_\\text{ freespace }-b[4] = \\left[\\begin{matrix}- 69.5406285033511 i E_{{z}} & - \\frac{d}{d y} H_{{x}} & \\frac{d}{d x} H_{{y}}\\end{matrix}\\right]$$"
      ],
      "text/plain": [
       "<IPython.core.display.Math at 0x7f536ddbfe80>"
      ]
     },
     "metadata": {},
     "output_type": "display_data"
    },
    {
     "data": {
      "text/latex": [
       "$$EQs_\\text{ freespace }-b[5] = \\left[\\begin{matrix}9869604.40108936 i H_{{z}} & - \\frac{d}{d y} E_{{x}} & \\frac{d}{d x} E_{{y}}\\end{matrix}\\right]$$"
      ],
      "text/plain": [
       "<IPython.core.display.Math at 0x7f536ddbfe80>"
      ]
     },
     "metadata": {},
     "output_type": "display_data"
    },
    {
     "name": "stdout",
     "output_type": "stream",
     "text": [
      "[[(50836.588016026784-61132.702525957968j), 0.0, (-8479.4464544063503-27209.271878011925j)], [0.0, 0.0, 0.0], [(8479.4464544063503+27209.271878011925j), 0.0, (50836.588016026784-61132.702525957968j)]]\n"
     ]
    },
    {
     "data": {
      "text/latex": [
       "$$Eqs_\\text{ graphene } = \\left[\\begin{matrix}376.730313461771 H_{{y}} + 3.81707612738955 \\cdot 10^{-5} i \\frac{d}{d x} E_{{z}}\\\\- 376.730313461771 H_{{x}} + 3.81707612738955 \\cdot 10^{-5} i \\frac{d}{d y} E_{{z}}\\\\- 0.00265441872943807 E_{{y}} + 3.81707612738955 \\cdot 10^{-5} i \\frac{d}{d x} H_{{z}}\\\\- 2.33082737541697 E_{{x}} - 1.94047126513914 i E_{{x}} - 1.03859862129211 E_{{z}} + 0.323666926345925 i E_{{z}} + 3.81707612738955 \\cdot 10^{-5} i \\frac{d}{d y} H_{{z}}\\\\- 8479.44645440635 E_{{x}} - 27209.2718780119 i E_{{x}} - 50836.5880160268 E_{{z}} + 61063.1618974546 i E_{{z}} - \\frac{d}{d y} H_{{x}} + \\frac{d}{d x} H_{{y}}\\\\9869604.40108936 i H_{{z}} - \\frac{d}{d y} E_{{x}} + \\frac{d}{d x} E_{{y}}\\end{matrix}\\right]$$"
      ],
      "text/plain": [
       "<IPython.core.display.Math at 0x7f537aa0cc50>"
      ]
     },
     "metadata": {},
     "output_type": "display_data"
    },
    {
     "name": "stdout",
     "output_type": "stream",
     "text": [
      "Eq1 boundary equations \n"
     ]
    },
    {
     "data": {
      "text/latex": [
       "$$EQs_\\text{ graphene }-b[0] = \\left[\\begin{matrix}376.730313461771 H_{{y}} & 3.81707612738955 \\cdot 10^{-5} i \\frac{d}{d x} E_{{z}}\\end{matrix}\\right]$$"
      ],
      "text/plain": [
       "<IPython.core.display.Math at 0x7f537abe2e80>"
      ]
     },
     "metadata": {},
     "output_type": "display_data"
    },
    {
     "data": {
      "text/latex": [
       "$$EQs_\\text{ graphene }-b[1] = \\left[\\begin{matrix}- 376.730313461771 H_{{x}} & 3.81707612738955 \\cdot 10^{-5} i \\frac{d}{d y} E_{{z}}\\end{matrix}\\right]$$"
      ],
      "text/plain": [
       "<IPython.core.display.Math at 0x7f537a9ec860>"
      ]
     },
     "metadata": {},
     "output_type": "display_data"
    },
    {
     "data": {
      "text/latex": [
       "$$EQs_\\text{ graphene }-b[2] = \\left[\\begin{matrix}0 & - 0.00265441872943807 E_{{y}} & 0 & 3.81707612738955 \\cdot 10^{-5} i \\frac{d}{d x} H_{{z}}\\end{matrix}\\right]$$"
      ],
      "text/plain": [
       "<IPython.core.display.Math at 0x7f53751dfb70>"
      ]
     },
     "metadata": {},
     "output_type": "display_data"
    },
    {
     "data": {
      "text/latex": [
       "$$EQs_\\text{ graphene }-b[3] = \\left[\\begin{matrix}3.81707612738955 \\cdot 10^{-5} E_{{x}} \\left(69.5406285033511 - i \\left(50836.5880160268 - 61132.702525958 i\\right)\\right) & 0 & - 3.81707612738955 \\cdot 10^{-5} i E_{{z}} \\left(-8479.44645440635 - 27209.2718780119 i\\right) & 3.81707612738955 \\cdot 10^{-5} i \\frac{d}{d y} H_{{z}}\\end{matrix}\\right]$$"
      ],
      "text/plain": [
       "<IPython.core.display.Math at 0x7f537aa0ccf8>"
      ]
     },
     "metadata": {},
     "output_type": "display_data"
    },
    {
     "data": {
      "text/latex": [
       "$$EQs_\\text{ graphene }-b[4] = \\left[\\begin{matrix}- E_{{x}} \\left(8479.44645440635 + 27209.2718780119 i\\right) & 0 & - E_{{z}} \\left(50836.5880160268 - 61063.1618974546 i\\right) & - \\frac{d}{d y} H_{{x}} & \\frac{d}{d x} H_{{y}}\\end{matrix}\\right]$$"
      ],
      "text/plain": [
       "<IPython.core.display.Math at 0x7f537acde1d0>"
      ]
     },
     "metadata": {},
     "output_type": "display_data"
    },
    {
     "data": {
      "text/latex": [
       "$$EQs_\\text{ graphene }-b[5] = \\left[\\begin{matrix}9869604.40108936 i H_{{z}} & - \\frac{d}{d y} E_{{x}} & \\frac{d}{d x} E_{{y}}\\end{matrix}\\right]$$"
      ],
      "text/plain": [
       "<IPython.core.display.Math at 0x7f537aa0ccf8>"
      ]
     },
     "metadata": {},
     "output_type": "display_data"
    },
    {
     "name": "stdout",
     "output_type": "stream",
     "text": [
      "initial matrix nnz 1843027 0:00:16\n",
      "initial matrix shared nnz 2219743 0:00:13\n",
      "final matrix (application of boundary conditions) nnz:  2219267 0:00:05\n",
      "A_11.shape:  (157356, 157356) A_11.nnz:  157356\n",
      "warning: this inversion mechanism only works for diagonal matrices\n",
      "eliminating z components 0:00:02\n",
      "A_reduced nnz:  2942286\n",
      "solving eigenvalues 0:05:19\n",
      "[ 2.49402657-0.88184889j  0.00974064-1.0630723j ]\n",
      "(359926, 2)\n",
      "0 0 x_correlation:  (0.915092027896+0.400774405945j)     abs(x_correlation):  0.999006278248\n",
      "k_correlation_r:  0.00052510919858     k_correlation_i:  0.00135204887641\n",
      "1 0 x_correlation:  (-0.191153057513-0.328869391868j)     abs(x_correlation):  0.38038739241\n",
      "k_correlation_r:  0.996092359646     k_correlation_i:  0.171592948476\n",
      "X :  [7000000000000.0, 6950000000000.0, 6850000000000.0, 6650000000000.0, 6450000000000.0, 6250000000000.0, 6050000000000.0, 5850000000000.0, 5650000000000.0, 5450000000000.0, 5250000000000.0, 5050000000000.0, 4850000000000.0, 4650000000000.0, 4450000000000.0, 4250000000000.0, 4050000000000.0, 3850000000000.0, 3650000000000.0, 3450000000000.0, 3250000000000.0, 3050000000000.0, 2850000000000.0, 2650000000000.0, 2450000000000.0, 2250000000000.0, 2050000000000.0, 1850000000000.0, 1650000000000.0, 1450000000000.0, 1250000000000.0]\n",
      "Y :  [[(9.0264198593920089-1.0265850275942863j)], [(8.9591509490803887-1.0248428143216293j)], [(8.8250554453441765-1.0213873265953377j)], [(8.5585964224031823-1.0145863243291824j)], [(8.2943834560896317-1.0079245347408612j)], [(8.0323500935623926-1.0013955543194086j)], [(7.7724369581080106-0.99499398313867937j)], [(7.514589631061205-0.98871676944562481j)], [(7.258763165805771-0.98256238682030228j)], [(7.0049175938053851-0.97652130310611174j)], [(6.7530093091440699-0.97058404763619255j)], [(6.5029986638359283-0.96474407348038327j)], [(6.2548497421581803-0.95899303239179656j)], [(6.0085276451703766-0.95332020226361569j)], [(5.7639986714177329-0.94771148236624303j)], [(5.5212310019493929-0.94214330023901227j)], [(5.2801971939104995-0.93657063085066661j)], [(5.0408877459070469-0.93090182701082791j)], [(4.8033478091954969-0.92495273204950945j)], [(4.5677684513733068-0.918381978216953j)], [(4.3346750063904764-0.91063646924897546j)], [(4.1052277194466695-0.90101040944521849j)], [(3.8814958575160263-0.88899691093329636j)], [(3.6662901824248366-0.87494632837546438j)], [(3.4622567126583665-0.86047256093346358j)], [(3.2708697732820666-0.84797930667052701j)], [(3.0922699867749484-0.83978604785702027j)], [(2.9257962923875875-0.83773328098448296j)], [(2.7705869716422944-0.84326399992566492j)], [(2.6262271839280289-0.85757176936093249j)], [(2.4940265655358189-0.88184889209401585j)]]\n",
      "X :  [7000000000000.0, 6950000000000.0, 6850000000000.0, 6650000000000.0, 6450000000000.0, 6250000000000.0, 6050000000000.0, 5850000000000.0, 5650000000000.0, 5450000000000.0, 5250000000000.0, 5050000000000.0, 4850000000000.0, 4650000000000.0, 4450000000000.0, 4250000000000.0, 4050000000000.0, 3850000000000.0, 3650000000000.0, 3450000000000.0, 3250000000000.0, 3050000000000.0, 2850000000000.0, 2650000000000.0, 2450000000000.0, 2250000000000.0, 2050000000000.0]\n",
      "Y :  [[(8.0232073158584836-1.0038177634322727j)], [(7.9580318024293435-1.002165067653527j)], [(7.8280933139952493-0.99888371498477257j)], [(7.5698373817955931-0.99241010085502668j)], [(7.3136932127065855-0.98604443809278242j)], [(7.0596085026341342-0.97977554145591095j)], [(6.8075371305561374-0.97359284654969247j)], [(6.5574373335614329-0.96748716557405556j)], [(6.3092748166396113-0.9614511664337817j)], [(6.0630218535066458-0.95547378216544254j)], [(5.8186517398008499-0.94954680963997151j)], [(5.5761431695747739-0.94367608673403425j)], [(5.3354794279992186-0.9378981947347097j)], [(5.0966347273222867-0.93231809097391694j)], [(4.8595367153326663-0.92717364591425044j)], [(4.6239798167363606-0.92292684758583232j)], [(4.3894683045966207-0.92037244078827407j)], [(4.1549808394212153-0.92075737918946254j)], [(3.9186483599056778-0.92593117488577226j)], [(3.677312941318621-0.93859549972758227j)], [(3.4258647371236117-0.96275710941544779j)], [(3.156208709294305-1.0045366154869255j)], [(2.8558165992984978-1.0738046274833923j)], [(2.5063563688924888-1.1885645297305534j)], [(2.0864234574600857-1.3890167237969169j)], [(1.6132893151693599-1.764693595219101j)], None]\n",
      "X :  [7000000000000.0, 6950000000000.0, 6850000000000.0, 6650000000000.0, 6450000000000.0, 6250000000000.0, 6050000000000.0, 5850000000000.0, 5650000000000.0, 5450000000000.0, 5250000000000.0, 5050000000000.0, 4850000000000.0, 4650000000000.0, 4450000000000.0, 4250000000000.0, 4050000000000.0, 3850000000000.0, 3650000000000.0, 3450000000000.0, 3250000000000.0, 3050000000000.0]\n",
      "Y :  [[(6.5956702117118349-0.78791361784606873j)], [(6.5435530246973519-0.78802249083072595j)], [(6.4391320917083572-0.78834760985526786j)], [(6.2293811334969185-0.7894861249931886j)], [(6.0180579613309053-0.79141024897694101j)], [(5.8046345497448524-0.79432853850880258j)], [(5.5884413350732611-0.79852240627067517j)], [(5.368619202567892-0.80437522758025648j)], [(5.1440509634386773-0.81241607687996109j)], [(4.9132683828200285-0.82338117543705347j)], [(4.6743175995161046-0.8383148983460913j)], [(4.4245647702757411-0.85871531442195226j)], [(4.1604339167452462-0.88679535356905737j)], [(3.877037422780544-0.92593969254811115j)], [(3.5677148568018668-0.98160065240720229j)], [(3.2235927485300775-1.0632398312221838j)], [(2.8341879494083608-1.1885173849669517j)], [(2.3933563458327187-1.3918629656390147j)], [(1.9259998070949513-1.7293820301048439j)], [(1.5244979731893422-2.2249726788156909j)], [(1.2579908774963218-2.7964485872495111j)], None]\n",
      "X :  [7000000000000.0, 6950000000000.0, 6850000000000.0, 6650000000000.0, 6450000000000.0, 6250000000000.0, 6050000000000.0, 5850000000000.0, 5650000000000.0, 5450000000000.0, 5250000000000.0, 5050000000000.0, 4850000000000.0, 4650000000000.0, 4450000000000.0, 4250000000000.0, 4050000000000.0]\n",
      "Y :  [[(6.2737880213737869-0.83870302667178354j)], [(6.2130298312009069-0.84076827627467954j)], [(6.0903511298235351-0.84530657527834485j)], [(5.8397096988549269-0.85626279522147908j)], [(5.580619695053235-0.87030920913645859j)], [(5.3110009133316254-0.88837921927722785j)], [(5.0281827942839818-0.91179539888921979j)], [(4.7286956697010751-0.94249855324883391j)], [(4.4079744733559121-0.98345432903454566j)], [(4.0599805372069566-1.039443234787458j)], [(3.6767770262152428-1.1186428471058749j)], [(3.2486663163422-1.2359996001677609j)], [(2.7675710930930602-1.4201967346649025j)], [(2.2445842948598753-1.7225236426241923j)], [(1.752594825411963-2.1916902252273749j)], [(1.3947765144486235-2.7794959465476055j)], None]\n",
      "X :  [7000000000000.0, 6950000000000.0, 6850000000000.0, 6650000000000.0, 6450000000000.0, 6250000000000.0, 6050000000000.0, 5850000000000.0, 5650000000000.0, 5450000000000.0, 5250000000000.0, 5050000000000.0, 4850000000000.0]\n",
      "Y :  [[(5.722674439701902-0.93216942168447792j)], [(5.6464262552655367-0.93829747873521585j)], [(5.4908645252106938-0.95174727681905913j)], [(5.1657822429627718-0.98437391926430307j)], [(4.8182412765899674-1.0271412924220784j)], [(4.4423714911030308-1.0846159873516263j)], [(4.0305299081864217-1.164515743117954j)], [(3.5733189335176081-1.2807297582230945j)], [(3.0622557973877278-1.4595334940394458j)], [(2.5039824932274826-1.7484192778097865j)], [(1.9589728516656573-2.2006276441259631j)], [(1.5326326870612297-2.789266340286265j)], None]\n",
      "----------------------------------------------------------------------------------------------------\n",
      "frequency: 1050000000000.0   k_init: (2.37398511647-0.916095368125j)\n"
     ]
    },
    {
     "data": {
      "text/latex": [
       "$$Eqs_\\text{ freespace } = \\left[\\begin{matrix}376.730313461771 H_{{y}} + 4.54413824689233 \\cdot 10^{-5} i \\frac{d}{d x} E_{{z}}\\\\- 376.730313461771 H_{{x}} + 4.54413824689233 \\cdot 10^{-5} i \\frac{d}{d y} E_{{z}}\\\\- 0.00265441872943807 E_{{y}} + 4.54413824689233 \\cdot 10^{-5} i \\frac{d}{d x} H_{{z}}\\\\0.00265441872943807 E_{{x}} + 4.54413824689233 \\cdot 10^{-5} i \\frac{d}{d y} H_{{z}}\\\\- 58.414127942815 i E_{{z}} - \\frac{d}{d y} H_{{x}} + \\frac{d}{d x} H_{{y}}\\\\8290467.69691506 i H_{{z}} - \\frac{d}{d y} E_{{x}} + \\frac{d}{d x} E_{{y}}\\end{matrix}\\right]$$"
      ],
      "text/plain": [
       "<IPython.core.display.Math at 0x7f537a9e02e8>"
      ]
     },
     "metadata": {},
     "output_type": "display_data"
    },
    {
     "name": "stdout",
     "output_type": "stream",
     "text": [
      "Eq1 boundary equations \n"
     ]
    },
    {
     "data": {
      "text/latex": [
       "$$EQs_\\text{ freespace }-b[0] = \\left[\\begin{matrix}376.730313461771 H_{{y}} & 4.54413824689233 \\cdot 10^{-5} i \\frac{d}{d x} E_{{z}}\\end{matrix}\\right]$$"
      ],
      "text/plain": [
       "<IPython.core.display.Math at 0x7f537ad387f0>"
      ]
     },
     "metadata": {},
     "output_type": "display_data"
    },
    {
     "data": {
      "text/latex": [
       "$$EQs_\\text{ freespace }-b[1] = \\left[\\begin{matrix}- 376.730313461771 H_{{x}} & 4.54413824689233 \\cdot 10^{-5} i \\frac{d}{d y} E_{{z}}\\end{matrix}\\right]$$"
      ],
      "text/plain": [
       "<IPython.core.display.Math at 0x7f53751b3f98>"
      ]
     },
     "metadata": {},
     "output_type": "display_data"
    },
    {
     "data": {
      "text/latex": [
       "$$EQs_\\text{ freespace }-b[2] = \\left[\\begin{matrix}- 0.00265441872943807 E_{{y}} & 4.54413824689233 \\cdot 10^{-5} i \\frac{d}{d x} H_{{z}}\\end{matrix}\\right]$$"
      ],
      "text/plain": [
       "<IPython.core.display.Math at 0x7f53751b3f98>"
      ]
     },
     "metadata": {},
     "output_type": "display_data"
    },
    {
     "data": {
      "text/latex": [
       "$$EQs_\\text{ freespace }-b[3] = \\left[\\begin{matrix}0.00265441872943807 E_{{x}} & 4.54413824689233 \\cdot 10^{-5} i \\frac{d}{d y} H_{{z}}\\end{matrix}\\right]$$"
      ],
      "text/plain": [
       "<IPython.core.display.Math at 0x7f53751b3f98>"
      ]
     },
     "metadata": {},
     "output_type": "display_data"
    },
    {
     "data": {
      "text/latex": [
       "$$EQs_\\text{ freespace }-b[4] = \\left[\\begin{matrix}- 58.414127942815 i E_{{z}} & - \\frac{d}{d y} H_{{x}} & \\frac{d}{d x} H_{{y}}\\end{matrix}\\right]$$"
      ],
      "text/plain": [
       "<IPython.core.display.Math at 0x7f53751b3f98>"
      ]
     },
     "metadata": {},
     "output_type": "display_data"
    },
    {
     "data": {
      "text/latex": [
       "$$EQs_\\text{ freespace }-b[5] = \\left[\\begin{matrix}8290467.69691506 i H_{{z}} & - \\frac{d}{d y} E_{{x}} & \\frac{d}{d x} E_{{y}}\\end{matrix}\\right]$$"
      ],
      "text/plain": [
       "<IPython.core.display.Math at 0x7f53751b3f98>"
      ]
     },
     "metadata": {},
     "output_type": "display_data"
    },
    {
     "name": "stdout",
     "output_type": "stream",
     "text": [
      "[[(63871.954652307875-60202.934575390063j), 0.0, (-3439.1075537846841-35155.892020296189j)], [0.0, 0.0, 0.0], [(3439.1075537846841+35155.892020296189j), 0.0, (63871.954652307875-60202.934575390063j)]]\n"
     ]
    },
    {
     "data": {
      "text/latex": [
       "$$Eqs_\\text{ graphene } = \\left[\\begin{matrix}376.730313461771 H_{{y}} + 4.54413824689233 \\cdot 10^{-5} i \\frac{d}{d x} E_{{z}}\\\\- 376.730313461771 H_{{x}} + 4.54413824689233 \\cdot 10^{-5} i \\frac{d}{d y} E_{{z}}\\\\- 0.00265441872943807 E_{{y}} + 4.54413824689233 \\cdot 10^{-5} i \\frac{d}{d x} H_{{z}}\\\\- 2.73305015706243 E_{{x}} - 2.90242992039324 i E_{{x}} - 1.59753233533045 E_{{z}} + 0.156277801703293 i E_{{z}} + 4.54413824689233 \\cdot 10^{-5} i \\frac{d}{d y} H_{{z}}\\\\- 3439.10755378468 E_{{x}} - 35155.8920202962 i E_{{x}} - 63871.9546523079 E_{{z}} + 60144.5204474472 i E_{{z}} - \\frac{d}{d y} H_{{x}} + \\frac{d}{d x} H_{{y}}\\\\8290467.69691506 i H_{{z}} - \\frac{d}{d y} E_{{x}} + \\frac{d}{d x} E_{{y}}\\end{matrix}\\right]$$"
      ],
      "text/plain": [
       "<IPython.core.display.Math at 0x7f53751b3f60>"
      ]
     },
     "metadata": {},
     "output_type": "display_data"
    },
    {
     "name": "stdout",
     "output_type": "stream",
     "text": [
      "Eq1 boundary equations \n"
     ]
    },
    {
     "data": {
      "text/latex": [
       "$$EQs_\\text{ graphene }-b[0] = \\left[\\begin{matrix}376.730313461771 H_{{y}} & 4.54413824689233 \\cdot 10^{-5} i \\frac{d}{d x} E_{{z}}\\end{matrix}\\right]$$"
      ],
      "text/plain": [
       "<IPython.core.display.Math at 0x7f537a9d60f0>"
      ]
     },
     "metadata": {},
     "output_type": "display_data"
    },
    {
     "data": {
      "text/latex": [
       "$$EQs_\\text{ graphene }-b[1] = \\left[\\begin{matrix}- 376.730313461771 H_{{x}} & 4.54413824689233 \\cdot 10^{-5} i \\frac{d}{d y} E_{{z}}\\end{matrix}\\right]$$"
      ],
      "text/plain": [
       "<IPython.core.display.Math at 0x7f536ddbff98>"
      ]
     },
     "metadata": {},
     "output_type": "display_data"
    },
    {
     "data": {
      "text/latex": [
       "$$EQs_\\text{ graphene }-b[2] = \\left[\\begin{matrix}0 & - 0.00265441872943807 E_{{y}} & 0 & 4.54413824689233 \\cdot 10^{-5} i \\frac{d}{d x} H_{{z}}\\end{matrix}\\right]$$"
      ],
      "text/plain": [
       "<IPython.core.display.Math at 0x7f537a9d60f0>"
      ]
     },
     "metadata": {},
     "output_type": "display_data"
    },
    {
     "data": {
      "text/latex": [
       "$$EQs_\\text{ graphene }-b[3] = \\left[\\begin{matrix}4.54413824689233 \\cdot 10^{-5} E_{{x}} \\left(58.414127942815 - i \\left(63871.9546523079 - 60202.9345753901 i\\right)\\right) & 0 & - 4.54413824689233 \\cdot 10^{-5} i E_{{z}} \\left(-3439.10755378468 - 35155.8920202962 i\\right) & 4.54413824689233 \\cdot 10^{-5} i \\frac{d}{d y} H_{{z}}\\end{matrix}\\right]$$"
      ],
      "text/plain": [
       "<IPython.core.display.Math at 0x7f536ddbff98>"
      ]
     },
     "metadata": {},
     "output_type": "display_data"
    },
    {
     "data": {
      "text/latex": [
       "$$EQs_\\text{ graphene }-b[4] = \\left[\\begin{matrix}- E_{{x}} \\left(3439.10755378468 + 35155.8920202962 i\\right) & 0 & - E_{{z}} \\left(63871.9546523079 - 60144.5204474472 i\\right) & - \\frac{d}{d y} H_{{x}} & \\frac{d}{d x} H_{{y}}\\end{matrix}\\right]$$"
      ],
      "text/plain": [
       "<IPython.core.display.Math at 0x7f537a9d60f0>"
      ]
     },
     "metadata": {},
     "output_type": "display_data"
    },
    {
     "data": {
      "text/latex": [
       "$$EQs_\\text{ graphene }-b[5] = \\left[\\begin{matrix}8290467.69691506 i H_{{z}} & - \\frac{d}{d y} E_{{x}} & \\frac{d}{d x} E_{{y}}\\end{matrix}\\right]$$"
      ],
      "text/plain": [
       "<IPython.core.display.Math at 0x7f536ddbff98>"
      ]
     },
     "metadata": {},
     "output_type": "display_data"
    },
    {
     "name": "stdout",
     "output_type": "stream",
     "text": [
      "initial matrix nnz 1843027 0:00:11\n",
      "initial matrix shared nnz 2219743 0:00:07\n",
      "final matrix (application of boundary conditions) nnz:  2219267 0:00:03\n",
      "A_11.shape:  (157356, 157356) A_11.nnz:  157356\n",
      "warning: this inversion mechanism only works for diagonal matrices\n",
      "eliminating z components 0:00:01\n",
      "A_reduced nnz:  2939702\n",
      "solving eigenvalues 0:05:33\n",
      "[  2.37973679e+00-0.91889247j   4.77347900e-04-0.63501461j]\n",
      "(359926, 2)\n",
      "0 0 x_correlation:  (0.862169274844-0.504963436063j)     abs(x_correlation):  0.999161613677\n",
      "k_correlation_r:  0.00241693642207     k_correlation_i:  0.0030439953952\n",
      "1 0 x_correlation:  (2.07149942443e-05+2.24109382705e-05j)     abs(x_correlation):  3.05182099853e-05\n",
      "k_correlation_r:  0.999798925488     k_correlation_i:  0.306824776718\n",
      "X :  [7000000000000.0, 6950000000000.0, 6850000000000.0, 6650000000000.0, 6450000000000.0, 6250000000000.0, 6050000000000.0, 5850000000000.0, 5650000000000.0, 5450000000000.0, 5250000000000.0, 5050000000000.0, 4850000000000.0, 4650000000000.0, 4450000000000.0, 4250000000000.0, 4050000000000.0, 3850000000000.0, 3650000000000.0, 3450000000000.0, 3250000000000.0, 3050000000000.0, 2850000000000.0, 2650000000000.0, 2450000000000.0, 2250000000000.0, 2050000000000.0, 1850000000000.0, 1650000000000.0, 1450000000000.0, 1250000000000.0, 1050000000000.0]\n",
      "Y :  [[(9.0264198593920089-1.0265850275942863j)], [(8.9591509490803887-1.0248428143216293j)], [(8.8250554453441765-1.0213873265953377j)], [(8.5585964224031823-1.0145863243291824j)], [(8.2943834560896317-1.0079245347408612j)], [(8.0323500935623926-1.0013955543194086j)], [(7.7724369581080106-0.99499398313867937j)], [(7.514589631061205-0.98871676944562481j)], [(7.258763165805771-0.98256238682030228j)], [(7.0049175938053851-0.97652130310611174j)], [(6.7530093091440699-0.97058404763619255j)], [(6.5029986638359283-0.96474407348038327j)], [(6.2548497421581803-0.95899303239179656j)], [(6.0085276451703766-0.95332020226361569j)], [(5.7639986714177329-0.94771148236624303j)], [(5.5212310019493929-0.94214330023901227j)], [(5.2801971939104995-0.93657063085066661j)], [(5.0408877459070469-0.93090182701082791j)], [(4.8033478091954969-0.92495273204950945j)], [(4.5677684513733068-0.918381978216953j)], [(4.3346750063904764-0.91063646924897546j)], [(4.1052277194466695-0.90101040944521849j)], [(3.8814958575160263-0.88899691093329636j)], [(3.6662901824248366-0.87494632837546438j)], [(3.4622567126583665-0.86047256093346358j)], [(3.2708697732820666-0.84797930667052701j)], [(3.0922699867749484-0.83978604785702027j)], [(2.9257962923875875-0.83773328098448296j)], [(2.7705869716422944-0.84326399992566492j)], [(2.6262271839280289-0.85757176936093249j)], [(2.4940265655358189-0.88184889209401585j)], [(2.3797367889858938-0.91889247258013296j)]]\n",
      "X :  [7000000000000.0, 6950000000000.0, 6850000000000.0, 6650000000000.0, 6450000000000.0, 6250000000000.0, 6050000000000.0, 5850000000000.0, 5650000000000.0, 5450000000000.0, 5250000000000.0, 5050000000000.0, 4850000000000.0, 4650000000000.0, 4450000000000.0, 4250000000000.0, 4050000000000.0, 3850000000000.0, 3650000000000.0, 3450000000000.0, 3250000000000.0, 3050000000000.0, 2850000000000.0, 2650000000000.0, 2450000000000.0, 2250000000000.0, 2050000000000.0]\n",
      "Y :  [[(8.0232073158584836-1.0038177634322727j)], [(7.9580318024293435-1.002165067653527j)], [(7.8280933139952493-0.99888371498477257j)], [(7.5698373817955931-0.99241010085502668j)], [(7.3136932127065855-0.98604443809278242j)], [(7.0596085026341342-0.97977554145591095j)], [(6.8075371305561374-0.97359284654969247j)], [(6.5574373335614329-0.96748716557405556j)], [(6.3092748166396113-0.9614511664337817j)], [(6.0630218535066458-0.95547378216544254j)], [(5.8186517398008499-0.94954680963997151j)], [(5.5761431695747739-0.94367608673403425j)], [(5.3354794279992186-0.9378981947347097j)], [(5.0966347273222867-0.93231809097391694j)], [(4.8595367153326663-0.92717364591425044j)], [(4.6239798167363606-0.92292684758583232j)], [(4.3894683045966207-0.92037244078827407j)], [(4.1549808394212153-0.92075737918946254j)], [(3.9186483599056778-0.92593117488577226j)], [(3.677312941318621-0.93859549972758227j)], [(3.4258647371236117-0.96275710941544779j)], [(3.156208709294305-1.0045366154869255j)], [(2.8558165992984978-1.0738046274833923j)], [(2.5063563688924888-1.1885645297305534j)], [(2.0864234574600857-1.3890167237969169j)], [(1.6132893151693599-1.764693595219101j)], None]\n",
      "X :  [7000000000000.0, 6950000000000.0, 6850000000000.0, 6650000000000.0, 6450000000000.0, 6250000000000.0, 6050000000000.0, 5850000000000.0, 5650000000000.0, 5450000000000.0, 5250000000000.0, 5050000000000.0, 4850000000000.0, 4650000000000.0, 4450000000000.0, 4250000000000.0, 4050000000000.0, 3850000000000.0, 3650000000000.0, 3450000000000.0, 3250000000000.0, 3050000000000.0]\n",
      "Y :  [[(6.5956702117118349-0.78791361784606873j)], [(6.5435530246973519-0.78802249083072595j)], [(6.4391320917083572-0.78834760985526786j)], [(6.2293811334969185-0.7894861249931886j)], [(6.0180579613309053-0.79141024897694101j)], [(5.8046345497448524-0.79432853850880258j)], [(5.5884413350732611-0.79852240627067517j)], [(5.368619202567892-0.80437522758025648j)], [(5.1440509634386773-0.81241607687996109j)], [(4.9132683828200285-0.82338117543705347j)], [(4.6743175995161046-0.8383148983460913j)], [(4.4245647702757411-0.85871531442195226j)], [(4.1604339167452462-0.88679535356905737j)], [(3.877037422780544-0.92593969254811115j)], [(3.5677148568018668-0.98160065240720229j)], [(3.2235927485300775-1.0632398312221838j)], [(2.8341879494083608-1.1885173849669517j)], [(2.3933563458327187-1.3918629656390147j)], [(1.9259998070949513-1.7293820301048439j)], [(1.5244979731893422-2.2249726788156909j)], [(1.2579908774963218-2.7964485872495111j)], None]\n",
      "X :  [7000000000000.0, 6950000000000.0, 6850000000000.0, 6650000000000.0, 6450000000000.0, 6250000000000.0, 6050000000000.0, 5850000000000.0, 5650000000000.0, 5450000000000.0, 5250000000000.0, 5050000000000.0, 4850000000000.0, 4650000000000.0, 4450000000000.0, 4250000000000.0, 4050000000000.0]\n",
      "Y :  [[(6.2737880213737869-0.83870302667178354j)], [(6.2130298312009069-0.84076827627467954j)], [(6.0903511298235351-0.84530657527834485j)], [(5.8397096988549269-0.85626279522147908j)], [(5.580619695053235-0.87030920913645859j)], [(5.3110009133316254-0.88837921927722785j)], [(5.0281827942839818-0.91179539888921979j)], [(4.7286956697010751-0.94249855324883391j)], [(4.4079744733559121-0.98345432903454566j)], [(4.0599805372069566-1.039443234787458j)], [(3.6767770262152428-1.1186428471058749j)], [(3.2486663163422-1.2359996001677609j)], [(2.7675710930930602-1.4201967346649025j)], [(2.2445842948598753-1.7225236426241923j)], [(1.752594825411963-2.1916902252273749j)], [(1.3947765144486235-2.7794959465476055j)], None]\n",
      "X :  [7000000000000.0, 6950000000000.0, 6850000000000.0, 6650000000000.0, 6450000000000.0, 6250000000000.0, 6050000000000.0, 5850000000000.0, 5650000000000.0, 5450000000000.0, 5250000000000.0, 5050000000000.0, 4850000000000.0]\n",
      "Y :  [[(5.722674439701902-0.93216942168447792j)], [(5.6464262552655367-0.93829747873521585j)], [(5.4908645252106938-0.95174727681905913j)], [(5.1657822429627718-0.98437391926430307j)], [(4.8182412765899674-1.0271412924220784j)], [(4.4423714911030308-1.0846159873516263j)], [(4.0305299081864217-1.164515743117954j)], [(3.5733189335176081-1.2807297582230945j)], [(3.0622557973877278-1.4595334940394458j)], [(2.5039824932274826-1.7484192778097865j)], [(1.9589728516656573-2.2006276441259631j)], [(1.5326326870612297-2.789266340286265j)], None]\n",
      "----------------------------------------------------------------------------------------------------\n",
      "frequency: 2050000000000.0   k_init: (1.08695394202-2.315595144j)\n"
     ]
    },
    {
     "data": {
      "text/latex": [
       "$$Eqs_\\text{ freespace } = \\left[\\begin{matrix}376.730313461771 H_{{y}} + 2.32748544353022 \\cdot 10^{-5} i \\frac{d}{d x} E_{{z}}\\\\- 376.730313461771 H_{{x}} + 2.32748544353022 \\cdot 10^{-5} i \\frac{d}{d y} E_{{z}}\\\\- 0.00265441872943807 E_{{y}} + 2.32748544353022 \\cdot 10^{-5} i \\frac{d}{d x} H_{{z}}\\\\0.00265441872943807 E_{{x}} + 2.32748544353022 \\cdot 10^{-5} i \\frac{d}{d y} H_{{z}}\\\\- 114.046630745496 i E_{{z}} - \\frac{d}{d y} H_{{x}} + \\frac{d}{d x} H_{{y}}\\\\16186151.2177865 i H_{{z}} - \\frac{d}{d y} E_{{x}} + \\frac{d}{d x} E_{{y}}\\end{matrix}\\right]$$"
      ],
      "text/plain": [
       "<IPython.core.display.Math at 0x7f53751b3f60>"
      ]
     },
     "metadata": {},
     "output_type": "display_data"
    },
    {
     "name": "stdout",
     "output_type": "stream",
     "text": [
      "Eq1 boundary equations \n"
     ]
    },
    {
     "data": {
      "text/latex": [
       "$$EQs_\\text{ freespace }-b[0] = \\left[\\begin{matrix}376.730313461771 H_{{y}} & 2.32748544353022 \\cdot 10^{-5} i \\frac{d}{d x} E_{{z}}\\end{matrix}\\right]$$"
      ],
      "text/plain": [
       "<IPython.core.display.Math at 0x7f537ace9d68>"
      ]
     },
     "metadata": {},
     "output_type": "display_data"
    },
    {
     "data": {
      "text/latex": [
       "$$EQs_\\text{ freespace }-b[1] = \\left[\\begin{matrix}- 376.730313461771 H_{{x}} & 2.32748544353022 \\cdot 10^{-5} i \\frac{d}{d y} E_{{z}}\\end{matrix}\\right]$$"
      ],
      "text/plain": [
       "<IPython.core.display.Math at 0x7f537ace9ef0>"
      ]
     },
     "metadata": {},
     "output_type": "display_data"
    },
    {
     "data": {
      "text/latex": [
       "$$EQs_\\text{ freespace }-b[2] = \\left[\\begin{matrix}- 0.00265441872943807 E_{{y}} & 2.32748544353022 \\cdot 10^{-5} i \\frac{d}{d x} H_{{z}}\\end{matrix}\\right]$$"
      ],
      "text/plain": [
       "<IPython.core.display.Math at 0x7f537ace9d68>"
      ]
     },
     "metadata": {},
     "output_type": "display_data"
    },
    {
     "data": {
      "text/latex": [
       "$$EQs_\\text{ freespace }-b[3] = \\left[\\begin{matrix}0.00265441872943807 E_{{x}} & 2.32748544353022 \\cdot 10^{-5} i \\frac{d}{d y} H_{{z}}\\end{matrix}\\right]$$"
      ],
      "text/plain": [
       "<IPython.core.display.Math at 0x7f537ace9ef0>"
      ]
     },
     "metadata": {},
     "output_type": "display_data"
    },
    {
     "data": {
      "text/latex": [
       "$$EQs_\\text{ freespace }-b[4] = \\left[\\begin{matrix}- 114.046630745496 i E_{{z}} & - \\frac{d}{d y} H_{{x}} & \\frac{d}{d x} H_{{y}}\\end{matrix}\\right]$$"
      ],
      "text/plain": [
       "<IPython.core.display.Math at 0x7f537ace9d68>"
      ]
     },
     "metadata": {},
     "output_type": "display_data"
    },
    {
     "data": {
      "text/latex": [
       "$$EQs_\\text{ freespace }-b[5] = \\left[\\begin{matrix}16186151.2177865 i H_{{z}} & - \\frac{d}{d y} E_{{x}} & \\frac{d}{d x} E_{{y}}\\end{matrix}\\right]$$"
      ],
      "text/plain": [
       "<IPython.core.display.Math at 0x7f537ace9ef0>"
      ]
     },
     "metadata": {},
     "output_type": "display_data"
    },
    {
     "name": "stdout",
     "output_type": "stream",
     "text": [
      "[[(21448.80913909839-48919.526652149922j), 0.0, (-9123.4180081451832-9145.1556987634594j)], [0.0, 0.0, 0.0], [(9123.4180081451832+9145.1556987634594j), 0.0, (21448.80913909839-48919.526652149922j)]]\n"
     ]
    },
    {
     "data": {
      "text/latex": [
       "$$Eqs_\\text{ graphene } = \\left[\\begin{matrix}376.730313461771 H_{{y}} + 2.32748544353022 \\cdot 10^{-5} i \\frac{d}{d x} E_{{z}}\\\\- 376.730313461771 H_{{x}} + 2.32748544353022 \\cdot 10^{-5} i \\frac{d}{d y} E_{{z}}\\\\- 0.00265441872943807 E_{{y}} + 2.32748544353022 \\cdot 10^{-5} i \\frac{d}{d x} H_{{z}}\\\\- 1.13594044314324 E_{{x}} - 0.499217910523094 i E_{{x}} - 0.212852167676894 E_{{z}} + 0.212346226091993 i E_{{z}} + 2.32748544353022 \\cdot 10^{-5} i \\frac{d}{d y} H_{{z}}\\\\- 9123.41800814518 E_{{x}} - 9145.15569876346 i E_{{x}} - 21448.8091390984 E_{{z}} + 48805.4800214044 i E_{{z}} - \\frac{d}{d y} H_{{x}} + \\frac{d}{d x} H_{{y}}\\\\16186151.2177865 i H_{{z}} - \\frac{d}{d y} E_{{x}} + \\frac{d}{d x} E_{{y}}\\end{matrix}\\right]$$"
      ],
      "text/plain": [
       "<IPython.core.display.Math at 0x7f537aa0ccf8>"
      ]
     },
     "metadata": {},
     "output_type": "display_data"
    },
    {
     "name": "stdout",
     "output_type": "stream",
     "text": [
      "Eq1 boundary equations \n"
     ]
    },
    {
     "data": {
      "text/latex": [
       "$$EQs_\\text{ graphene }-b[0] = \\left[\\begin{matrix}376.730313461771 H_{{y}} & 2.32748544353022 \\cdot 10^{-5} i \\frac{d}{d x} E_{{z}}\\end{matrix}\\right]$$"
      ],
      "text/plain": [
       "<IPython.core.display.Math at 0x7f537ace9cc0>"
      ]
     },
     "metadata": {},
     "output_type": "display_data"
    },
    {
     "data": {
      "text/latex": [
       "$$EQs_\\text{ graphene }-b[1] = \\left[\\begin{matrix}- 376.730313461771 H_{{x}} & 2.32748544353022 \\cdot 10^{-5} i \\frac{d}{d y} E_{{z}}\\end{matrix}\\right]$$"
      ],
      "text/plain": [
       "<IPython.core.display.Math at 0x7f537ace9c18>"
      ]
     },
     "metadata": {},
     "output_type": "display_data"
    },
    {
     "data": {
      "text/latex": [
       "$$EQs_\\text{ graphene }-b[2] = \\left[\\begin{matrix}0 & - 0.00265441872943807 E_{{y}} & 0 & 2.32748544353022 \\cdot 10^{-5} i \\frac{d}{d x} H_{{z}}\\end{matrix}\\right]$$"
      ],
      "text/plain": [
       "<IPython.core.display.Math at 0x7f537ace9cc0>"
      ]
     },
     "metadata": {},
     "output_type": "display_data"
    },
    {
     "data": {
      "text/latex": [
       "$$EQs_\\text{ graphene }-b[3] = \\left[\\begin{matrix}2.32748544353022 \\cdot 10^{-5} E_{{x}} \\left(114.046630745496 - i \\left(21448.8091390984 - 48919.5266521499 i\\right)\\right) & 0 & - 2.32748544353022 \\cdot 10^{-5} i E_{{z}} \\left(-9123.41800814518 - 9145.15569876346 i\\right) & 2.32748544353022 \\cdot 10^{-5} i \\frac{d}{d y} H_{{z}}\\end{matrix}\\right]$$"
      ],
      "text/plain": [
       "<IPython.core.display.Math at 0x7f537ace9c18>"
      ]
     },
     "metadata": {},
     "output_type": "display_data"
    },
    {
     "data": {
      "text/latex": [
       "$$EQs_\\text{ graphene }-b[4] = \\left[\\begin{matrix}- E_{{x}} \\left(9123.41800814518 + 9145.15569876346 i\\right) & 0 & - E_{{z}} \\left(21448.8091390984 - 48805.4800214044 i\\right) & - \\frac{d}{d y} H_{{x}} & \\frac{d}{d x} H_{{y}}\\end{matrix}\\right]$$"
      ],
      "text/plain": [
       "<IPython.core.display.Math at 0x7f537ace9cc0>"
      ]
     },
     "metadata": {},
     "output_type": "display_data"
    },
    {
     "data": {
      "text/latex": [
       "$$EQs_\\text{ graphene }-b[5] = \\left[\\begin{matrix}16186151.2177865 i H_{{z}} & - \\frac{d}{d y} E_{{x}} & \\frac{d}{d x} E_{{y}}\\end{matrix}\\right]$$"
      ],
      "text/plain": [
       "<IPython.core.display.Math at 0x7f537ace9c18>"
      ]
     },
     "metadata": {},
     "output_type": "display_data"
    },
    {
     "name": "stdout",
     "output_type": "stream",
     "text": [
      "initial matrix nnz 1843027 0:00:13\n",
      "initial matrix shared nnz 2219743 0:00:07\n",
      "final matrix (application of boundary conditions) nnz:  2219267 0:00:03\n",
      "A_11.shape:  (157356, 157356) A_11.nnz:  157356\n",
      "warning: this inversion mechanism only works for diagonal matrices\n",
      "eliminating z components 0:00:01\n",
      "A_reduced nnz:  2947979\n",
      "solving eigenvalues 0:03:56\n",
      "[ 1.22717719-2.34787518j]\n",
      "(359926, 1)\n",
      "0 1 x_correlation:  (0.0896173343559+0.992288410414j)     abs(x_correlation):  0.996327032685\n",
      "k_correlation_r:  0.1142648713     k_correlation_i:  0.0137486159376\n",
      "making refinement...\n",
      "=-=-=-=-=-=-=-=-=-=-=-=-=-=-=-=-=-=-=-=-=-=-=-=-=-=-=-=-=-=-=-=-=-=-=-=-=-=-=-=-=-=-=-=-=-=-=-=-=-=-\n",
      "making refinement...\n",
      "frequency: 2150000000000.0   k_init: (1.35677178245-2.01824128494j)\n"
     ]
    },
    {
     "data": {
      "text/latex": [
       "$$Eqs_\\text{ freespace } = \\left[\\begin{matrix}376.730313461771 H_{{y}} + 2.21923030662183 \\cdot 10^{-5} i \\frac{d}{d x} E_{{z}}\\\\- 376.730313461771 H_{{x}} + 2.21923030662183 \\cdot 10^{-5} i \\frac{d}{d y} E_{{z}}\\\\- 0.00265441872943807 E_{{y}} + 2.21923030662183 \\cdot 10^{-5} i \\frac{d}{d x} H_{{z}}\\\\0.00265441872943807 E_{{x}} + 2.21923030662183 \\cdot 10^{-5} i \\frac{d}{d y} H_{{z}}\\\\- 119.609881025764 i E_{{z}} - \\frac{d}{d y} H_{{x}} + \\frac{d}{d x} H_{{y}}\\\\16975719.5698737 i H_{{z}} - \\frac{d}{d y} E_{{x}} + \\frac{d}{d x} E_{{y}}\\end{matrix}\\right]$$"
      ],
      "text/plain": [
       "<IPython.core.display.Math at 0x7f537ae52f60>"
      ]
     },
     "metadata": {},
     "output_type": "display_data"
    },
    {
     "name": "stdout",
     "output_type": "stream",
     "text": [
      "Eq1 boundary equations \n"
     ]
    },
    {
     "data": {
      "text/latex": [
       "$$EQs_\\text{ freespace }-b[0] = \\left[\\begin{matrix}376.730313461771 H_{{y}} & 2.21923030662183 \\cdot 10^{-5} i \\frac{d}{d x} E_{{z}}\\end{matrix}\\right]$$"
      ],
      "text/plain": [
       "<IPython.core.display.Math at 0x7f53751b3f60>"
      ]
     },
     "metadata": {},
     "output_type": "display_data"
    },
    {
     "data": {
      "text/latex": [
       "$$EQs_\\text{ freespace }-b[1] = \\left[\\begin{matrix}- 376.730313461771 H_{{x}} & 2.21923030662183 \\cdot 10^{-5} i \\frac{d}{d y} E_{{z}}\\end{matrix}\\right]$$"
      ],
      "text/plain": [
       "<IPython.core.display.Math at 0x7f53751b3f98>"
      ]
     },
     "metadata": {},
     "output_type": "display_data"
    },
    {
     "data": {
      "text/latex": [
       "$$EQs_\\text{ freespace }-b[2] = \\left[\\begin{matrix}- 0.00265441872943807 E_{{y}} & 2.21923030662183 \\cdot 10^{-5} i \\frac{d}{d x} H_{{z}}\\end{matrix}\\right]$$"
      ],
      "text/plain": [
       "<IPython.core.display.Math at 0x7f53751b3f60>"
      ]
     },
     "metadata": {},
     "output_type": "display_data"
    },
    {
     "data": {
      "text/latex": [
       "$$EQs_\\text{ freespace }-b[3] = \\left[\\begin{matrix}0.00265441872943807 E_{{x}} & 2.21923030662183 \\cdot 10^{-5} i \\frac{d}{d y} H_{{z}}\\end{matrix}\\right]$$"
      ],
      "text/plain": [
       "<IPython.core.display.Math at 0x7f53751b3f98>"
      ]
     },
     "metadata": {},
     "output_type": "display_data"
    },
    {
     "data": {
      "text/latex": [
       "$$EQs_\\text{ freespace }-b[4] = \\left[\\begin{matrix}- 119.609881025764 i E_{{z}} & - \\frac{d}{d y} H_{{x}} & \\frac{d}{d x} H_{{y}}\\end{matrix}\\right]$$"
      ],
      "text/plain": [
       "<IPython.core.display.Math at 0x7f53751b3f60>"
      ]
     },
     "metadata": {},
     "output_type": "display_data"
    },
    {
     "data": {
      "text/latex": [
       "$$EQs_\\text{ freespace }-b[5] = \\left[\\begin{matrix}16975719.5698737 i H_{{z}} & - \\frac{d}{d y} E_{{x}} & \\frac{d}{d x} E_{{y}}\\end{matrix}\\right]$$"
      ],
      "text/plain": [
       "<IPython.core.display.Math at 0x7f53751b3f98>"
      ]
     },
     "metadata": {},
     "output_type": "display_data"
    },
    {
     "name": "stdout",
     "output_type": "stream",
     "text": [
      "[[(19555.152057829277-47232.908229549168j), 0.0, (-8677.9763315812252-8080.8825931413021j)], [0.0, 0.0, 0.0], [(8677.9763315812252+8080.8825931413021j), 0.0, (19555.152057829277-47232.908229549168j)]]\n"
     ]
    },
    {
     "data": {
      "text/latex": [
       "$$Eqs_\\text{ graphene } = \\left[\\begin{matrix}376.730313461771 H_{{y}} + 2.21923030662183 \\cdot 10^{-5} i \\frac{d}{d x} E_{{z}}\\\\- 376.730313461771 H_{{x}} + 2.21923030662183 \\cdot 10^{-5} i \\frac{d}{d y} E_{{z}}\\\\- 0.00265441872943807 E_{{y}} + 2.21923030662183 \\cdot 10^{-5} i \\frac{d}{d x} H_{{z}}\\\\- 1.0455525953996 E_{{x}} - 0.433973860973331 i E_{{x}} - 0.17933339554952 E_{{z}} + 0.19258428075192 i E_{{z}} + 2.21923030662183 \\cdot 10^{-5} i \\frac{d}{d y} H_{{z}}\\\\- 8677.97633158123 E_{{x}} - 8080.8825931413 i E_{{x}} - 19555.1520578293 E_{{z}} + 47113.2983485234 i E_{{z}} - \\frac{d}{d y} H_{{x}} + \\frac{d}{d x} H_{{y}}\\\\16975719.5698737 i H_{{z}} - \\frac{d}{d y} E_{{x}} + \\frac{d}{d x} E_{{y}}\\end{matrix}\\right]$$"
      ],
      "text/plain": [
       "<IPython.core.display.Math at 0x7f537ac1d518>"
      ]
     },
     "metadata": {},
     "output_type": "display_data"
    },
    {
     "name": "stdout",
     "output_type": "stream",
     "text": [
      "Eq1 boundary equations \n"
     ]
    },
    {
     "data": {
      "text/latex": [
       "$$EQs_\\text{ graphene }-b[0] = \\left[\\begin{matrix}376.730313461771 H_{{y}} & 2.21923030662183 \\cdot 10^{-5} i \\frac{d}{d x} E_{{z}}\\end{matrix}\\right]$$"
      ],
      "text/plain": [
       "<IPython.core.display.Math at 0x7f537acde710>"
      ]
     },
     "metadata": {},
     "output_type": "display_data"
    },
    {
     "data": {
      "text/latex": [
       "$$EQs_\\text{ graphene }-b[1] = \\left[\\begin{matrix}- 376.730313461771 H_{{x}} & 2.21923030662183 \\cdot 10^{-5} i \\frac{d}{d y} E_{{z}}\\end{matrix}\\right]$$"
      ],
      "text/plain": [
       "<IPython.core.display.Math at 0x7f537acde9b0>"
      ]
     },
     "metadata": {},
     "output_type": "display_data"
    },
    {
     "data": {
      "text/latex": [
       "$$EQs_\\text{ graphene }-b[2] = \\left[\\begin{matrix}0 & - 0.00265441872943807 E_{{y}} & 0 & 2.21923030662183 \\cdot 10^{-5} i \\frac{d}{d x} H_{{z}}\\end{matrix}\\right]$$"
      ],
      "text/plain": [
       "<IPython.core.display.Math at 0x7f537acde710>"
      ]
     },
     "metadata": {},
     "output_type": "display_data"
    },
    {
     "data": {
      "text/latex": [
       "$$EQs_\\text{ graphene }-b[3] = \\left[\\begin{matrix}2.21923030662183 \\cdot 10^{-5} E_{{x}} \\left(119.609881025764 - i \\left(19555.1520578293 - 47232.9082295492 i\\right)\\right) & 0 & - 2.21923030662183 \\cdot 10^{-5} i E_{{z}} \\left(-8677.97633158123 - 8080.8825931413 i\\right) & 2.21923030662183 \\cdot 10^{-5} i \\frac{d}{d y} H_{{z}}\\end{matrix}\\right]$$"
      ],
      "text/plain": [
       "<IPython.core.display.Math at 0x7f537acde9b0>"
      ]
     },
     "metadata": {},
     "output_type": "display_data"
    },
    {
     "data": {
      "text/latex": [
       "$$EQs_\\text{ graphene }-b[4] = \\left[\\begin{matrix}- E_{{x}} \\left(8677.97633158123 + 8080.8825931413 i\\right) & 0 & - E_{{z}} \\left(19555.1520578293 - 47113.2983485234 i\\right) & - \\frac{d}{d y} H_{{x}} & \\frac{d}{d x} H_{{y}}\\end{matrix}\\right]$$"
      ],
      "text/plain": [
       "<IPython.core.display.Math at 0x7f537acde710>"
      ]
     },
     "metadata": {},
     "output_type": "display_data"
    },
    {
     "data": {
      "text/latex": [
       "$$EQs_\\text{ graphene }-b[5] = \\left[\\begin{matrix}16975719.5698737 i H_{{z}} & - \\frac{d}{d y} E_{{x}} & \\frac{d}{d x} E_{{y}}\\end{matrix}\\right]$$"
      ],
      "text/plain": [
       "<IPython.core.display.Math at 0x7f537acde9b0>"
      ]
     },
     "metadata": {},
     "output_type": "display_data"
    },
    {
     "name": "stdout",
     "output_type": "stream",
     "text": [
      "initial matrix nnz 1843027 0:00:17\n",
      "initial matrix shared nnz 2219743 0:00:13\n",
      "final matrix (application of boundary conditions) nnz:  2219267 0:00:05\n",
      "A_11.shape:  (157356, 157356) A_11.nnz:  157356\n",
      "warning: this inversion mechanism only works for diagonal matrices\n",
      "eliminating z components 0:00:02\n",
      "A_reduced nnz:  2938146\n",
      "solving eigenvalues 0:05:21\n",
      "[ 1.40101877-2.03782031j]\n",
      "(359926, 1)\n",
      "0 1 x_correlation:  (-0.1750712256+0.983540519515j)     abs(x_correlation):  0.999000444225\n",
      "k_correlation_r:  0.0315820086913     k_correlation_i:  0.00960782795159\n",
      "X :  [7000000000000.0, 6950000000000.0, 6850000000000.0, 6650000000000.0, 6450000000000.0, 6250000000000.0, 6050000000000.0, 5850000000000.0, 5650000000000.0, 5450000000000.0, 5250000000000.0, 5050000000000.0, 4850000000000.0, 4650000000000.0, 4450000000000.0, 4250000000000.0, 4050000000000.0, 3850000000000.0, 3650000000000.0, 3450000000000.0, 3250000000000.0, 3050000000000.0, 2850000000000.0, 2650000000000.0, 2450000000000.0, 2250000000000.0, 2050000000000.0, 1850000000000.0, 1650000000000.0, 1450000000000.0, 1250000000000.0]\n",
      "Y :  [[(9.0264198593920089-1.0265850275942863j)], [(8.9591509490803887-1.0248428143216293j)], [(8.8250554453441765-1.0213873265953377j)], [(8.5585964224031823-1.0145863243291824j)], [(8.2943834560896317-1.0079245347408612j)], [(8.0323500935623926-1.0013955543194086j)], [(7.7724369581080106-0.99499398313867937j)], [(7.514589631061205-0.98871676944562481j)], [(7.258763165805771-0.98256238682030228j)], [(7.0049175938053851-0.97652130310611174j)], [(6.7530093091440699-0.97058404763619255j)], [(6.5029986638359283-0.96474407348038327j)], [(6.2548497421581803-0.95899303239179656j)], [(6.0085276451703766-0.95332020226361569j)], [(5.7639986714177329-0.94771148236624303j)], [(5.5212310019493929-0.94214330023901227j)], [(5.2801971939104995-0.93657063085066661j)], [(5.0408877459070469-0.93090182701082791j)], [(4.8033478091954969-0.92495273204950945j)], [(4.5677684513733068-0.918381978216953j)], [(4.3346750063904764-0.91063646924897546j)], [(4.1052277194466695-0.90101040944521849j)], [(3.8814958575160263-0.88899691093329636j)], [(3.6662901824248366-0.87494632837546438j)], [(3.4622567126583665-0.86047256093346358j)], [(3.2708697732820666-0.84797930667052701j)], [(3.0922699867749484-0.83978604785702027j)], [(2.9257962923875875-0.83773328098448296j)], [(2.7705869716422944-0.84326399992566492j)], [(2.6262271839280289-0.85757176936093249j)], [(2.4940265655358189-0.88184889209401585j)]]\n",
      "X :  [7000000000000.0, 6950000000000.0, 6850000000000.0, 6650000000000.0, 6450000000000.0, 6250000000000.0, 6050000000000.0, 5850000000000.0, 5650000000000.0, 5450000000000.0, 5250000000000.0, 5050000000000.0, 4850000000000.0, 4650000000000.0, 4450000000000.0, 4250000000000.0, 4050000000000.0, 3850000000000.0, 3650000000000.0, 3450000000000.0, 3250000000000.0, 3050000000000.0, 2850000000000.0, 2650000000000.0, 2450000000000.0, 2250000000000.0, 2150000000000.0]\n",
      "Y :  [[(8.0232073158584836-1.0038177634322727j)], [(7.9580318024293435-1.002165067653527j)], [(7.8280933139952493-0.99888371498477257j)], [(7.5698373817955931-0.99241010085502668j)], [(7.3136932127065855-0.98604443809278242j)], [(7.0596085026341342-0.97977554145591095j)], [(6.8075371305561374-0.97359284654969247j)], [(6.5574373335614329-0.96748716557405556j)], [(6.3092748166396113-0.9614511664337817j)], [(6.0630218535066458-0.95547378216544254j)], [(5.8186517398008499-0.94954680963997151j)], [(5.5761431695747739-0.94367608673403425j)], [(5.3354794279992186-0.9378981947347097j)], [(5.0966347273222867-0.93231809097391694j)], [(4.8595367153326663-0.92717364591425044j)], [(4.6239798167363606-0.92292684758583232j)], [(4.3894683045966207-0.92037244078827407j)], [(4.1549808394212153-0.92075737918946254j)], [(3.9186483599056778-0.92593117488577226j)], [(3.677312941318621-0.93859549972758227j)], [(3.4258647371236117-0.96275710941544779j)], [(3.156208709294305-1.0045366154869255j)], [(2.8558165992984978-1.0738046274833923j)], [(2.5063563688924888-1.1885645297305534j)], [(2.0864234574600857-1.3890167237969169j)], [(1.6132893151693599-1.764693595219101j)], [(1.4010187694041538-2.0378203118915641j)]]\n",
      "X :  [7000000000000.0, 6950000000000.0, 6850000000000.0, 6650000000000.0, 6450000000000.0, 6250000000000.0, 6050000000000.0, 5850000000000.0, 5650000000000.0, 5450000000000.0, 5250000000000.0, 5050000000000.0, 4850000000000.0, 4650000000000.0, 4450000000000.0, 4250000000000.0, 4050000000000.0, 3850000000000.0, 3650000000000.0, 3450000000000.0, 3250000000000.0, 3050000000000.0]\n",
      "Y :  [[(6.5956702117118349-0.78791361784606873j)], [(6.5435530246973519-0.78802249083072595j)], [(6.4391320917083572-0.78834760985526786j)], [(6.2293811334969185-0.7894861249931886j)], [(6.0180579613309053-0.79141024897694101j)], [(5.8046345497448524-0.79432853850880258j)], [(5.5884413350732611-0.79852240627067517j)], [(5.368619202567892-0.80437522758025648j)], [(5.1440509634386773-0.81241607687996109j)], [(4.9132683828200285-0.82338117543705347j)], [(4.6743175995161046-0.8383148983460913j)], [(4.4245647702757411-0.85871531442195226j)], [(4.1604339167452462-0.88679535356905737j)], [(3.877037422780544-0.92593969254811115j)], [(3.5677148568018668-0.98160065240720229j)], [(3.2235927485300775-1.0632398312221838j)], [(2.8341879494083608-1.1885173849669517j)], [(2.3933563458327187-1.3918629656390147j)], [(1.9259998070949513-1.7293820301048439j)], [(1.5244979731893422-2.2249726788156909j)], [(1.2579908774963218-2.7964485872495111j)], None]\n",
      "X :  [7000000000000.0, 6950000000000.0, 6850000000000.0, 6650000000000.0, 6450000000000.0, 6250000000000.0, 6050000000000.0, 5850000000000.0, 5650000000000.0, 5450000000000.0, 5250000000000.0, 5050000000000.0, 4850000000000.0, 4650000000000.0, 4450000000000.0, 4250000000000.0, 4050000000000.0]\n",
      "Y :  [[(6.2737880213737869-0.83870302667178354j)], [(6.2130298312009069-0.84076827627467954j)], [(6.0903511298235351-0.84530657527834485j)], [(5.8397096988549269-0.85626279522147908j)], [(5.580619695053235-0.87030920913645859j)], [(5.3110009133316254-0.88837921927722785j)], [(5.0281827942839818-0.91179539888921979j)], [(4.7286956697010751-0.94249855324883391j)], [(4.4079744733559121-0.98345432903454566j)], [(4.0599805372069566-1.039443234787458j)], [(3.6767770262152428-1.1186428471058749j)], [(3.2486663163422-1.2359996001677609j)], [(2.7675710930930602-1.4201967346649025j)], [(2.2445842948598753-1.7225236426241923j)], [(1.752594825411963-2.1916902252273749j)], [(1.3947765144486235-2.7794959465476055j)], None]\n",
      "X :  [7000000000000.0, 6950000000000.0, 6850000000000.0, 6650000000000.0, 6450000000000.0, 6250000000000.0, 6050000000000.0, 5850000000000.0, 5650000000000.0, 5450000000000.0, 5250000000000.0, 5050000000000.0, 4850000000000.0]\n",
      "Y :  [[(5.722674439701902-0.93216942168447792j)], [(5.6464262552655367-0.93829747873521585j)], [(5.4908645252106938-0.95174727681905913j)], [(5.1657822429627718-0.98437391926430307j)], [(4.8182412765899674-1.0271412924220784j)], [(4.4423714911030308-1.0846159873516263j)], [(4.0305299081864217-1.164515743117954j)], [(3.5733189335176081-1.2807297582230945j)], [(3.0622557973877278-1.4595334940394458j)], [(2.5039824932274826-1.7484192778097865j)], [(1.9589728516656573-2.2006276441259631j)], [(1.5326326870612297-2.789266340286265j)], None]\n",
      "----------------------------------------------------------------------------------------------------\n",
      "frequency: 1950000000000.0   k_init: (1.02507072863-2.75465030716j)\n"
     ]
    },
    {
     "data": {
      "text/latex": [
       "$$Eqs_\\text{ freespace } = \\left[\\begin{matrix}376.730313461771 H_{{y}} + 2.44684367140356 \\cdot 10^{-5} i \\frac{d}{d x} E_{{z}}\\\\- 376.730313461771 H_{{x}} + 2.44684367140356 \\cdot 10^{-5} i \\frac{d}{d y} E_{{z}}\\\\- 0.00265441872943807 E_{{y}} + 2.44684367140356 \\cdot 10^{-5} i \\frac{d}{d x} H_{{z}}\\\\0.00265441872943807 E_{{x}} + 2.44684367140356 \\cdot 10^{-5} i \\frac{d}{d y} H_{{z}}\\\\- 108.483380465228 i E_{{z}} - \\frac{d}{d y} H_{{x}} + \\frac{d}{d x} H_{{y}}\\\\15396582.8656994 i H_{{z}} - \\frac{d}{d y} E_{{x}} + \\frac{d}{d x} E_{{y}}\\end{matrix}\\right]$$"
      ],
      "text/plain": [
       "<IPython.core.display.Math at 0x7f53752097f0>"
      ]
     },
     "metadata": {},
     "output_type": "display_data"
    },
    {
     "name": "stdout",
     "output_type": "stream",
     "text": [
      "Eq1 boundary equations \n"
     ]
    },
    {
     "data": {
      "text/latex": [
       "$$EQs_\\text{ freespace }-b[0] = \\left[\\begin{matrix}376.730313461771 H_{{y}} & 2.44684367140356 \\cdot 10^{-5} i \\frac{d}{d x} E_{{z}}\\end{matrix}\\right]$$"
      ],
      "text/plain": [
       "<IPython.core.display.Math at 0x7f537a9d67f0>"
      ]
     },
     "metadata": {},
     "output_type": "display_data"
    },
    {
     "data": {
      "text/latex": [
       "$$EQs_\\text{ freespace }-b[1] = \\left[\\begin{matrix}- 376.730313461771 H_{{x}} & 2.44684367140356 \\cdot 10^{-5} i \\frac{d}{d y} E_{{z}}\\end{matrix}\\right]$$"
      ],
      "text/plain": [
       "<IPython.core.display.Math at 0x7f537a9d67f0>"
      ]
     },
     "metadata": {},
     "output_type": "display_data"
    },
    {
     "data": {
      "text/latex": [
       "$$EQs_\\text{ freespace }-b[2] = \\left[\\begin{matrix}- 0.00265441872943807 E_{{y}} & 2.44684367140356 \\cdot 10^{-5} i \\frac{d}{d x} H_{{z}}\\end{matrix}\\right]$$"
      ],
      "text/plain": [
       "<IPython.core.display.Math at 0x7f537a9d67f0>"
      ]
     },
     "metadata": {},
     "output_type": "display_data"
    },
    {
     "data": {
      "text/latex": [
       "$$EQs_\\text{ freespace }-b[3] = \\left[\\begin{matrix}0.00265441872943807 E_{{x}} & 2.44684367140356 \\cdot 10^{-5} i \\frac{d}{d y} H_{{z}}\\end{matrix}\\right]$$"
      ],
      "text/plain": [
       "<IPython.core.display.Math at 0x7f537a9d67f0>"
      ]
     },
     "metadata": {},
     "output_type": "display_data"
    },
    {
     "data": {
      "text/latex": [
       "$$EQs_\\text{ freespace }-b[4] = \\left[\\begin{matrix}- 108.483380465228 i E_{{z}} & - \\frac{d}{d y} H_{{x}} & \\frac{d}{d x} H_{{y}}\\end{matrix}\\right]$$"
      ],
      "text/plain": [
       "<IPython.core.display.Math at 0x7f537a9d67f0>"
      ]
     },
     "metadata": {},
     "output_type": "display_data"
    },
    {
     "data": {
      "text/latex": [
       "$$EQs_\\text{ freespace }-b[5] = \\left[\\begin{matrix}15396582.8656994 i H_{{z}} & - \\frac{d}{d y} E_{{x}} & \\frac{d}{d x} E_{{y}}\\end{matrix}\\right]$$"
      ],
      "text/plain": [
       "<IPython.core.display.Math at 0x7f537a9d67f0>"
      ]
     },
     "metadata": {},
     "output_type": "display_data"
    },
    {
     "name": "stdout",
     "output_type": "stream",
     "text": [
      "[[(23611.046814037378-50665.30380812868j), 0.0, (-9556.7457772815651-10387.93557355811j)], [0.0, 0.0, 0.0], [(9556.7457772815651+10387.93557355811j), 0.0, (23611.046814037378-50665.30380812868j)]]\n"
     ]
    },
    {
     "data": {
      "text/latex": [
       "$$Eqs_\\text{ graphene } = \\left[\\begin{matrix}376.730313461771 H_{{y}} + 2.44684367140356 \\cdot 10^{-5} i \\frac{d}{d x} E_{{z}}\\\\- 376.730313461771 H_{{x}} + 2.44684367140356 \\cdot 10^{-5} i \\frac{d}{d y} E_{{z}}\\\\- 0.00265441872943807 E_{{y}} + 2.44684367140356 \\cdot 10^{-5} i \\frac{d}{d x} H_{{z}}\\\\- 1.23704636109715 E_{{x}} - 0.577725404721405 i E_{{x}} - 0.254176544171086 E_{{z}} + 0.233838629243541 i E_{{z}} + 2.44684367140356 \\cdot 10^{-5} i \\frac{d}{d y} H_{{z}}\\\\- 9556.74577728157 E_{{x}} - 10387.9355735581 i E_{{x}} - 23611.0468140374 E_{{z}} + 50556.8204276634 i E_{{z}} - \\frac{d}{d y} H_{{x}} + \\frac{d}{d x} H_{{y}}\\\\15396582.8656994 i H_{{z}} - \\frac{d}{d y} E_{{x}} + \\frac{d}{d x} E_{{y}}\\end{matrix}\\right]$$"
      ],
      "text/plain": [
       "<IPython.core.display.Math at 0x7f53751dcef0>"
      ]
     },
     "metadata": {},
     "output_type": "display_data"
    },
    {
     "name": "stdout",
     "output_type": "stream",
     "text": [
      "Eq1 boundary equations \n"
     ]
    },
    {
     "data": {
      "text/latex": [
       "$$EQs_\\text{ graphene }-b[0] = \\left[\\begin{matrix}376.730313461771 H_{{y}} & 2.44684367140356 \\cdot 10^{-5} i \\frac{d}{d x} E_{{z}}\\end{matrix}\\right]$$"
      ],
      "text/plain": [
       "<IPython.core.display.Math at 0x7f53752097f0>"
      ]
     },
     "metadata": {},
     "output_type": "display_data"
    },
    {
     "data": {
      "text/latex": [
       "$$EQs_\\text{ graphene }-b[1] = \\left[\\begin{matrix}- 376.730313461771 H_{{x}} & 2.44684367140356 \\cdot 10^{-5} i \\frac{d}{d y} E_{{z}}\\end{matrix}\\right]$$"
      ],
      "text/plain": [
       "<IPython.core.display.Math at 0x7f537a9ec860>"
      ]
     },
     "metadata": {},
     "output_type": "display_data"
    },
    {
     "data": {
      "text/latex": [
       "$$EQs_\\text{ graphene }-b[2] = \\left[\\begin{matrix}0 & - 0.00265441872943807 E_{{y}} & 0 & 2.44684367140356 \\cdot 10^{-5} i \\frac{d}{d x} H_{{z}}\\end{matrix}\\right]$$"
      ],
      "text/plain": [
       "<IPython.core.display.Math at 0x7f53752097f0>"
      ]
     },
     "metadata": {},
     "output_type": "display_data"
    },
    {
     "data": {
      "text/latex": [
       "$$EQs_\\text{ graphene }-b[3] = \\left[\\begin{matrix}2.44684367140356 \\cdot 10^{-5} E_{{x}} \\left(108.483380465228 - i \\left(23611.0468140374 - 50665.3038081287 i\\right)\\right) & 0 & - 2.44684367140356 \\cdot 10^{-5} i E_{{z}} \\left(-9556.74577728157 - 10387.9355735581 i\\right) & 2.44684367140356 \\cdot 10^{-5} i \\frac{d}{d y} H_{{z}}\\end{matrix}\\right]$$"
      ],
      "text/plain": [
       "<IPython.core.display.Math at 0x7f537a9ec860>"
      ]
     },
     "metadata": {},
     "output_type": "display_data"
    },
    {
     "data": {
      "text/latex": [
       "$$EQs_\\text{ graphene }-b[4] = \\left[\\begin{matrix}- E_{{x}} \\left(9556.74577728157 + 10387.9355735581 i\\right) & 0 & - E_{{z}} \\left(23611.0468140374 - 50556.8204276634 i\\right) & - \\frac{d}{d y} H_{{x}} & \\frac{d}{d x} H_{{y}}\\end{matrix}\\right]$$"
      ],
      "text/plain": [
       "<IPython.core.display.Math at 0x7f53752097f0>"
      ]
     },
     "metadata": {},
     "output_type": "display_data"
    },
    {
     "data": {
      "text/latex": [
       "$$EQs_\\text{ graphene }-b[5] = \\left[\\begin{matrix}15396582.8656994 i H_{{z}} & - \\frac{d}{d y} E_{{x}} & \\frac{d}{d x} E_{{y}}\\end{matrix}\\right]$$"
      ],
      "text/plain": [
       "<IPython.core.display.Math at 0x7f537a9e7da0>"
      ]
     },
     "metadata": {},
     "output_type": "display_data"
    },
    {
     "name": "stdout",
     "output_type": "stream",
     "text": [
      "initial matrix nnz 1843027 0:00:17\n",
      "initial matrix shared nnz 2219743 0:00:14\n",
      "final matrix (application of boundary conditions) nnz:  2219267 0:00:05\n",
      "A_11.shape:  (157356, 157356) A_11.nnz:  157356\n",
      "warning: this inversion mechanism only works for diagonal matrices\n",
      "eliminating z components 0:00:01\n",
      "A_reduced nnz:  2947788\n",
      "solving eigenvalues 0:02:30\n",
      "[ 1.08702024-2.67825337j]\n",
      "(359926, 1)\n",
      "0 1 x_correlation:  (-0.576788785599+0.813018041792j)     abs(x_correlation):  0.996836816872\n",
      "k_correlation_r:  0.056990212443     k_correlation_i:  0.0277338052386\n",
      "X :  [7000000000000.0, 6950000000000.0, 6850000000000.0, 6650000000000.0, 6450000000000.0, 6250000000000.0, 6050000000000.0, 5850000000000.0, 5650000000000.0, 5450000000000.0, 5250000000000.0, 5050000000000.0, 4850000000000.0, 4650000000000.0, 4450000000000.0, 4250000000000.0, 4050000000000.0, 3850000000000.0, 3650000000000.0, 3450000000000.0, 3250000000000.0, 3050000000000.0, 2850000000000.0, 2650000000000.0, 2450000000000.0, 2250000000000.0, 2050000000000.0, 1850000000000.0, 1650000000000.0, 1450000000000.0, 1250000000000.0]\n",
      "Y :  [[(9.0264198593920089-1.0265850275942863j)], [(8.9591509490803887-1.0248428143216293j)], [(8.8250554453441765-1.0213873265953377j)], [(8.5585964224031823-1.0145863243291824j)], [(8.2943834560896317-1.0079245347408612j)], [(8.0323500935623926-1.0013955543194086j)], [(7.7724369581080106-0.99499398313867937j)], [(7.514589631061205-0.98871676944562481j)], [(7.258763165805771-0.98256238682030228j)], [(7.0049175938053851-0.97652130310611174j)], [(6.7530093091440699-0.97058404763619255j)], [(6.5029986638359283-0.96474407348038327j)], [(6.2548497421581803-0.95899303239179656j)], [(6.0085276451703766-0.95332020226361569j)], [(5.7639986714177329-0.94771148236624303j)], [(5.5212310019493929-0.94214330023901227j)], [(5.2801971939104995-0.93657063085066661j)], [(5.0408877459070469-0.93090182701082791j)], [(4.8033478091954969-0.92495273204950945j)], [(4.5677684513733068-0.918381978216953j)], [(4.3346750063904764-0.91063646924897546j)], [(4.1052277194466695-0.90101040944521849j)], [(3.8814958575160263-0.88899691093329636j)], [(3.6662901824248366-0.87494632837546438j)], [(3.4622567126583665-0.86047256093346358j)], [(3.2708697732820666-0.84797930667052701j)], [(3.0922699867749484-0.83978604785702027j)], [(2.9257962923875875-0.83773328098448296j)], [(2.7705869716422944-0.84326399992566492j)], [(2.6262271839280289-0.85757176936093249j)], [(2.4940265655358189-0.88184889209401585j)]]\n",
      "X :  [7000000000000.0, 6950000000000.0, 6850000000000.0, 6650000000000.0, 6450000000000.0, 6250000000000.0, 6050000000000.0, 5850000000000.0, 5650000000000.0, 5450000000000.0, 5250000000000.0, 5050000000000.0, 4850000000000.0, 4650000000000.0, 4450000000000.0, 4250000000000.0, 4050000000000.0, 3850000000000.0, 3650000000000.0, 3450000000000.0, 3250000000000.0, 3050000000000.0, 2850000000000.0, 2650000000000.0, 2450000000000.0, 2250000000000.0, 2150000000000.0, 1950000000000.0]\n",
      "Y :  [[(8.0232073158584836-1.0038177634322727j)], [(7.9580318024293435-1.002165067653527j)], [(7.8280933139952493-0.99888371498477257j)], [(7.5698373817955931-0.99241010085502668j)], [(7.3136932127065855-0.98604443809278242j)], [(7.0596085026341342-0.97977554145591095j)], [(6.8075371305561374-0.97359284654969247j)], [(6.5574373335614329-0.96748716557405556j)], [(6.3092748166396113-0.9614511664337817j)], [(6.0630218535066458-0.95547378216544254j)], [(5.8186517398008499-0.94954680963997151j)], [(5.5761431695747739-0.94367608673403425j)], [(5.3354794279992186-0.9378981947347097j)], [(5.0966347273222867-0.93231809097391694j)], [(4.8595367153326663-0.92717364591425044j)], [(4.6239798167363606-0.92292684758583232j)], [(4.3894683045966207-0.92037244078827407j)], [(4.1549808394212153-0.92075737918946254j)], [(3.9186483599056778-0.92593117488577226j)], [(3.677312941318621-0.93859549972758227j)], [(3.4258647371236117-0.96275710941544779j)], [(3.156208709294305-1.0045366154869255j)], [(2.8558165992984978-1.0738046274833923j)], [(2.5063563688924888-1.1885645297305534j)], [(2.0864234574600857-1.3890167237969169j)], [(1.6132893151693599-1.764693595219101j)], [(1.4010187694041538-2.0378203118915641j)], [(1.0870202432253238-2.678253372039892j)]]\n",
      "X :  [7000000000000.0, 6950000000000.0, 6850000000000.0, 6650000000000.0, 6450000000000.0, 6250000000000.0, 6050000000000.0, 5850000000000.0, 5650000000000.0, 5450000000000.0, 5250000000000.0, 5050000000000.0, 4850000000000.0, 4650000000000.0, 4450000000000.0, 4250000000000.0, 4050000000000.0, 3850000000000.0, 3650000000000.0, 3450000000000.0, 3250000000000.0, 3050000000000.0]\n",
      "Y :  [[(6.5956702117118349-0.78791361784606873j)], [(6.5435530246973519-0.78802249083072595j)], [(6.4391320917083572-0.78834760985526786j)], [(6.2293811334969185-0.7894861249931886j)], [(6.0180579613309053-0.79141024897694101j)], [(5.8046345497448524-0.79432853850880258j)], [(5.5884413350732611-0.79852240627067517j)], [(5.368619202567892-0.80437522758025648j)], [(5.1440509634386773-0.81241607687996109j)], [(4.9132683828200285-0.82338117543705347j)], [(4.6743175995161046-0.8383148983460913j)], [(4.4245647702757411-0.85871531442195226j)], [(4.1604339167452462-0.88679535356905737j)], [(3.877037422780544-0.92593969254811115j)], [(3.5677148568018668-0.98160065240720229j)], [(3.2235927485300775-1.0632398312221838j)], [(2.8341879494083608-1.1885173849669517j)], [(2.3933563458327187-1.3918629656390147j)], [(1.9259998070949513-1.7293820301048439j)], [(1.5244979731893422-2.2249726788156909j)], [(1.2579908774963218-2.7964485872495111j)], None]\n",
      "X :  [7000000000000.0, 6950000000000.0, 6850000000000.0, 6650000000000.0, 6450000000000.0, 6250000000000.0, 6050000000000.0, 5850000000000.0, 5650000000000.0, 5450000000000.0, 5250000000000.0, 5050000000000.0, 4850000000000.0, 4650000000000.0, 4450000000000.0, 4250000000000.0, 4050000000000.0]\n",
      "Y :  [[(6.2737880213737869-0.83870302667178354j)], [(6.2130298312009069-0.84076827627467954j)], [(6.0903511298235351-0.84530657527834485j)], [(5.8397096988549269-0.85626279522147908j)], [(5.580619695053235-0.87030920913645859j)], [(5.3110009133316254-0.88837921927722785j)], [(5.0281827942839818-0.91179539888921979j)], [(4.7286956697010751-0.94249855324883391j)], [(4.4079744733559121-0.98345432903454566j)], [(4.0599805372069566-1.039443234787458j)], [(3.6767770262152428-1.1186428471058749j)], [(3.2486663163422-1.2359996001677609j)], [(2.7675710930930602-1.4201967346649025j)], [(2.2445842948598753-1.7225236426241923j)], [(1.752594825411963-2.1916902252273749j)], [(1.3947765144486235-2.7794959465476055j)], None]\n",
      "X :  [7000000000000.0, 6950000000000.0, 6850000000000.0, 6650000000000.0, 6450000000000.0, 6250000000000.0, 6050000000000.0, 5850000000000.0, 5650000000000.0, 5450000000000.0, 5250000000000.0, 5050000000000.0, 4850000000000.0]\n",
      "Y :  [[(5.722674439701902-0.93216942168447792j)], [(5.6464262552655367-0.93829747873521585j)], [(5.4908645252106938-0.95174727681905913j)], [(5.1657822429627718-0.98437391926430307j)], [(4.8182412765899674-1.0271412924220784j)], [(4.4423714911030308-1.0846159873516263j)], [(4.0305299081864217-1.164515743117954j)], [(3.5733189335176081-1.2807297582230945j)], [(3.0622557973877278-1.4595334940394458j)], [(2.5039824932274826-1.7484192778097865j)], [(1.9589728516656573-2.2006276441259631j)], [(1.5326326870612297-2.789266340286265j)], None]\n",
      "----------------------------------------------------------------------------------------------------\n",
      "frequency: 1750000000000.0   k_init: (0.920411804182-3.44425926793j)\n"
     ]
    },
    {
     "data": {
      "text/latex": [
       "$$Eqs_\\text{ freespace } = \\left[\\begin{matrix}376.730313461771 H_{{y}} + 2.7264829481354 \\cdot 10^{-5} i \\frac{d}{d x} E_{{z}}\\\\- 376.730313461771 H_{{x}} + 2.7264829481354 \\cdot 10^{-5} i \\frac{d}{d y} E_{{z}}\\\\- 0.00265441872943807 E_{{y}} + 2.7264829481354 \\cdot 10^{-5} i \\frac{d}{d x} H_{{z}}\\\\0.00265441872943807 E_{{x}} + 2.7264829481354 \\cdot 10^{-5} i \\frac{d}{d y} H_{{z}}\\\\- 97.3568799046916 i E_{{z}} - \\frac{d}{d y} H_{{x}} + \\frac{d}{d x} H_{{y}}\\\\13817446.1615251 i H_{{z}} - \\frac{d}{d y} E_{{x}} + \\frac{d}{d x} E_{{y}}\\end{matrix}\\right]$$"
      ],
      "text/plain": [
       "<IPython.core.display.Math at 0x7f537a9e02e8>"
      ]
     },
     "metadata": {},
     "output_type": "display_data"
    },
    {
     "name": "stdout",
     "output_type": "stream",
     "text": [
      "Eq1 boundary equations \n"
     ]
    },
    {
     "data": {
      "text/latex": [
       "$$EQs_\\text{ freespace }-b[0] = \\left[\\begin{matrix}376.730313461771 H_{{y}} & 2.7264829481354 \\cdot 10^{-5} i \\frac{d}{d x} E_{{z}}\\end{matrix}\\right]$$"
      ],
      "text/plain": [
       "<IPython.core.display.Math at 0x7f537aa13080>"
      ]
     },
     "metadata": {},
     "output_type": "display_data"
    },
    {
     "data": {
      "text/latex": [
       "$$EQs_\\text{ freespace }-b[1] = \\left[\\begin{matrix}- 376.730313461771 H_{{x}} & 2.7264829481354 \\cdot 10^{-5} i \\frac{d}{d y} E_{{z}}\\end{matrix}\\right]$$"
      ],
      "text/plain": [
       "<IPython.core.display.Math at 0x7f537aa13080>"
      ]
     },
     "metadata": {},
     "output_type": "display_data"
    },
    {
     "data": {
      "text/latex": [
       "$$EQs_\\text{ freespace }-b[2] = \\left[\\begin{matrix}- 0.00265441872943807 E_{{y}} & 2.7264829481354 \\cdot 10^{-5} i \\frac{d}{d x} H_{{z}}\\end{matrix}\\right]$$"
      ],
      "text/plain": [
       "<IPython.core.display.Math at 0x7f537aa13080>"
      ]
     },
     "metadata": {},
     "output_type": "display_data"
    },
    {
     "data": {
      "text/latex": [
       "$$EQs_\\text{ freespace }-b[3] = \\left[\\begin{matrix}0.00265441872943807 E_{{x}} & 2.7264829481354 \\cdot 10^{-5} i \\frac{d}{d y} H_{{z}}\\end{matrix}\\right]$$"
      ],
      "text/plain": [
       "<IPython.core.display.Math at 0x7f537aa13080>"
      ]
     },
     "metadata": {},
     "output_type": "display_data"
    },
    {
     "data": {
      "text/latex": [
       "$$EQs_\\text{ freespace }-b[4] = \\left[\\begin{matrix}- 97.3568799046916 i E_{{z}} & - \\frac{d}{d y} H_{{x}} & \\frac{d}{d x} H_{{y}}\\end{matrix}\\right]$$"
      ],
      "text/plain": [
       "<IPython.core.display.Math at 0x7f537aa13080>"
      ]
     },
     "metadata": {},
     "output_type": "display_data"
    },
    {
     "data": {
      "text/latex": [
       "$$EQs_\\text{ freespace }-b[5] = \\left[\\begin{matrix}13817446.1615251 i H_{{z}} & - \\frac{d}{d y} E_{{x}} & \\frac{d}{d x} E_{{y}}\\end{matrix}\\right]$$"
      ],
      "text/plain": [
       "<IPython.core.display.Math at 0x7f537aa13080>"
      ]
     },
     "metadata": {},
     "output_type": "display_data"
    },
    {
     "name": "stdout",
     "output_type": "stream",
     "text": [
      "[[(28932.489826773875-54256.64646553788j), 0.0, (-10290.753681105469-13546.082998239039j)], [0.0, 0.0, 0.0], [(10290.753681105469+13546.082998239039j), 0.0, (28932.489826773875-54256.64646553788j)]]\n"
     ]
    },
    {
     "data": {
      "text/latex": [
       "$$Eqs_\\text{ graphene } = \\left[\\begin{matrix}376.730313461771 H_{{y}} + 2.7264829481354 \\cdot 10^{-5} i \\frac{d}{d x} E_{{z}}\\\\- 376.730313461771 H_{{x}} + 2.7264829481354 \\cdot 10^{-5} i \\frac{d}{d y} E_{{z}}\\\\- 0.00265441872943807 E_{{y}} + 2.7264829481354 \\cdot 10^{-5} i \\frac{d}{d x} H_{{z}}\\\\- 1.47664379538356 E_{{x}} - 0.788839401597998 i E_{{x}} - 0.369331643087255 E_{{z}} + 0.280575644349956 i E_{{z}} + 2.7264829481354 \\cdot 10^{-5} i \\frac{d}{d y} H_{{z}}\\\\- 10290.7536811055 E_{{x}} - 13546.082998239 i E_{{x}} - 28932.4898267739 E_{{z}} + 54159.2895856332 i E_{{z}} - \\frac{d}{d y} H_{{x}} + \\frac{d}{d x} H_{{y}}\\\\13817446.1615251 i H_{{z}} - \\frac{d}{d y} E_{{x}} + \\frac{d}{d x} E_{{y}}\\end{matrix}\\right]$$"
      ],
      "text/plain": [
       "<IPython.core.display.Math at 0x7f537abe2208>"
      ]
     },
     "metadata": {},
     "output_type": "display_data"
    },
    {
     "name": "stdout",
     "output_type": "stream",
     "text": [
      "Eq1 boundary equations \n"
     ]
    },
    {
     "data": {
      "text/latex": [
       "$$EQs_\\text{ graphene }-b[0] = \\left[\\begin{matrix}376.730313461771 H_{{y}} & 2.7264829481354 \\cdot 10^{-5} i \\frac{d}{d x} E_{{z}}\\end{matrix}\\right]$$"
      ],
      "text/plain": [
       "<IPython.core.display.Math at 0x7f537ad38630>"
      ]
     },
     "metadata": {},
     "output_type": "display_data"
    },
    {
     "data": {
      "text/latex": [
       "$$EQs_\\text{ graphene }-b[1] = \\left[\\begin{matrix}- 376.730313461771 H_{{x}} & 2.7264829481354 \\cdot 10^{-5} i \\frac{d}{d y} E_{{z}}\\end{matrix}\\right]$$"
      ],
      "text/plain": [
       "<IPython.core.display.Math at 0x7f537ad382b0>"
      ]
     },
     "metadata": {},
     "output_type": "display_data"
    },
    {
     "data": {
      "text/latex": [
       "$$EQs_\\text{ graphene }-b[2] = \\left[\\begin{matrix}0 & - 0.00265441872943807 E_{{y}} & 0 & 2.7264829481354 \\cdot 10^{-5} i \\frac{d}{d x} H_{{z}}\\end{matrix}\\right]$$"
      ],
      "text/plain": [
       "<IPython.core.display.Math at 0x7f537ad38630>"
      ]
     },
     "metadata": {},
     "output_type": "display_data"
    },
    {
     "data": {
      "text/latex": [
       "$$EQs_\\text{ graphene }-b[3] = \\left[\\begin{matrix}2.7264829481354 \\cdot 10^{-5} E_{{x}} \\left(97.3568799046916 - i \\left(28932.4898267739 - 54256.6464655379 i\\right)\\right) & 0 & - 2.7264829481354 \\cdot 10^{-5} i E_{{z}} \\left(-10290.7536811055 - 13546.082998239 i\\right) & 2.7264829481354 \\cdot 10^{-5} i \\frac{d}{d y} H_{{z}}\\end{matrix}\\right]$$"
      ],
      "text/plain": [
       "<IPython.core.display.Math at 0x7f537ad382b0>"
      ]
     },
     "metadata": {},
     "output_type": "display_data"
    },
    {
     "data": {
      "text/latex": [
       "$$EQs_\\text{ graphene }-b[4] = \\left[\\begin{matrix}- E_{{x}} \\left(10290.7536811055 + 13546.082998239 i\\right) & 0 & - E_{{z}} \\left(28932.4898267739 - 54159.2895856332 i\\right) & - \\frac{d}{d y} H_{{x}} & \\frac{d}{d x} H_{{y}}\\end{matrix}\\right]$$"
      ],
      "text/plain": [
       "<IPython.core.display.Math at 0x7f537ad33f60>"
      ]
     },
     "metadata": {},
     "output_type": "display_data"
    },
    {
     "data": {
      "text/latex": [
       "$$EQs_\\text{ graphene }-b[5] = \\left[\\begin{matrix}13817446.1615251 i H_{{z}} & - \\frac{d}{d y} E_{{x}} & \\frac{d}{d x} E_{{y}}\\end{matrix}\\right]$$"
      ],
      "text/plain": [
       "<IPython.core.display.Math at 0x7f537ad33f60>"
      ]
     },
     "metadata": {},
     "output_type": "display_data"
    },
    {
     "name": "stdout",
     "output_type": "stream",
     "text": [
      "initial matrix nnz 1843027 0:00:15\n",
      "initial matrix shared nnz 2219743 0:00:13\n",
      "final matrix (application of boundary conditions) nnz:  2219267 0:00:05\n",
      "A_11.shape:  (157356, 157356) A_11.nnz:  157356\n",
      "warning: this inversion mechanism only works for diagonal matrices\n",
      "eliminating z components 0:00:02\n",
      "A_reduced nnz:  2937654\n",
      "solving eigenvalues 0:05:18\n",
      "[ 0.86679847-3.39118446j]\n",
      "(359926, 1)\n",
      "0 1 x_correlation:  (0.670088925026-0.738778352653j)     abs(x_correlation):  0.997402938531\n",
      "k_correlation_r:  0.0582492936451     k_correlation_i:  0.0154096429921\n",
      "X :  [7000000000000.0, 6950000000000.0, 6850000000000.0, 6650000000000.0, 6450000000000.0, 6250000000000.0, 6050000000000.0, 5850000000000.0, 5650000000000.0, 5450000000000.0, 5250000000000.0, 5050000000000.0, 4850000000000.0, 4650000000000.0, 4450000000000.0, 4250000000000.0, 4050000000000.0, 3850000000000.0, 3650000000000.0, 3450000000000.0, 3250000000000.0, 3050000000000.0, 2850000000000.0, 2650000000000.0, 2450000000000.0, 2250000000000.0, 2050000000000.0, 1850000000000.0, 1650000000000.0, 1450000000000.0, 1250000000000.0]\n",
      "Y :  [[(9.0264198593920089-1.0265850275942863j)], [(8.9591509490803887-1.0248428143216293j)], [(8.8250554453441765-1.0213873265953377j)], [(8.5585964224031823-1.0145863243291824j)], [(8.2943834560896317-1.0079245347408612j)], [(8.0323500935623926-1.0013955543194086j)], [(7.7724369581080106-0.99499398313867937j)], [(7.514589631061205-0.98871676944562481j)], [(7.258763165805771-0.98256238682030228j)], [(7.0049175938053851-0.97652130310611174j)], [(6.7530093091440699-0.97058404763619255j)], [(6.5029986638359283-0.96474407348038327j)], [(6.2548497421581803-0.95899303239179656j)], [(6.0085276451703766-0.95332020226361569j)], [(5.7639986714177329-0.94771148236624303j)], [(5.5212310019493929-0.94214330023901227j)], [(5.2801971939104995-0.93657063085066661j)], [(5.0408877459070469-0.93090182701082791j)], [(4.8033478091954969-0.92495273204950945j)], [(4.5677684513733068-0.918381978216953j)], [(4.3346750063904764-0.91063646924897546j)], [(4.1052277194466695-0.90101040944521849j)], [(3.8814958575160263-0.88899691093329636j)], [(3.6662901824248366-0.87494632837546438j)], [(3.4622567126583665-0.86047256093346358j)], [(3.2708697732820666-0.84797930667052701j)], [(3.0922699867749484-0.83978604785702027j)], [(2.9257962923875875-0.83773328098448296j)], [(2.7705869716422944-0.84326399992566492j)], [(2.6262271839280289-0.85757176936093249j)], [(2.4940265655358189-0.88184889209401585j)]]\n",
      "X :  [7000000000000.0, 6950000000000.0, 6850000000000.0, 6650000000000.0, 6450000000000.0, 6250000000000.0, 6050000000000.0, 5850000000000.0, 5650000000000.0, 5450000000000.0, 5250000000000.0, 5050000000000.0, 4850000000000.0, 4650000000000.0, 4450000000000.0, 4250000000000.0, 4050000000000.0, 3850000000000.0, 3650000000000.0, 3450000000000.0, 3250000000000.0, 3050000000000.0, 2850000000000.0, 2650000000000.0, 2450000000000.0, 2250000000000.0, 2150000000000.0, 1950000000000.0, 1750000000000.0]\n",
      "Y :  [[(8.0232073158584836-1.0038177634322727j)], [(7.9580318024293435-1.002165067653527j)], [(7.8280933139952493-0.99888371498477257j)], [(7.5698373817955931-0.99241010085502668j)], [(7.3136932127065855-0.98604443809278242j)], [(7.0596085026341342-0.97977554145591095j)], [(6.8075371305561374-0.97359284654969247j)], [(6.5574373335614329-0.96748716557405556j)], [(6.3092748166396113-0.9614511664337817j)], [(6.0630218535066458-0.95547378216544254j)], [(5.8186517398008499-0.94954680963997151j)], [(5.5761431695747739-0.94367608673403425j)], [(5.3354794279992186-0.9378981947347097j)], [(5.0966347273222867-0.93231809097391694j)], [(4.8595367153326663-0.92717364591425044j)], [(4.6239798167363606-0.92292684758583232j)], [(4.3894683045966207-0.92037244078827407j)], [(4.1549808394212153-0.92075737918946254j)], [(3.9186483599056778-0.92593117488577226j)], [(3.677312941318621-0.93859549972758227j)], [(3.4258647371236117-0.96275710941544779j)], [(3.156208709294305-1.0045366154869255j)], [(2.8558165992984978-1.0738046274833923j)], [(2.5063563688924888-1.1885645297305534j)], [(2.0864234574600857-1.3890167237969169j)], [(1.6132893151693599-1.764693595219101j)], [(1.4010187694041538-2.0378203118915641j)], [(1.0870202432253238-2.678253372039892j)], [(0.86679846672573735-3.391184462235231j)]]\n",
      "X :  [7000000000000.0, 6950000000000.0, 6850000000000.0, 6650000000000.0, 6450000000000.0, 6250000000000.0, 6050000000000.0, 5850000000000.0, 5650000000000.0, 5450000000000.0, 5250000000000.0, 5050000000000.0, 4850000000000.0, 4650000000000.0, 4450000000000.0, 4250000000000.0, 4050000000000.0, 3850000000000.0, 3650000000000.0, 3450000000000.0, 3250000000000.0, 3050000000000.0]\n",
      "Y :  [[(6.5956702117118349-0.78791361784606873j)], [(6.5435530246973519-0.78802249083072595j)], [(6.4391320917083572-0.78834760985526786j)], [(6.2293811334969185-0.7894861249931886j)], [(6.0180579613309053-0.79141024897694101j)], [(5.8046345497448524-0.79432853850880258j)], [(5.5884413350732611-0.79852240627067517j)], [(5.368619202567892-0.80437522758025648j)], [(5.1440509634386773-0.81241607687996109j)], [(4.9132683828200285-0.82338117543705347j)], [(4.6743175995161046-0.8383148983460913j)], [(4.4245647702757411-0.85871531442195226j)], [(4.1604339167452462-0.88679535356905737j)], [(3.877037422780544-0.92593969254811115j)], [(3.5677148568018668-0.98160065240720229j)], [(3.2235927485300775-1.0632398312221838j)], [(2.8341879494083608-1.1885173849669517j)], [(2.3933563458327187-1.3918629656390147j)], [(1.9259998070949513-1.7293820301048439j)], [(1.5244979731893422-2.2249726788156909j)], [(1.2579908774963218-2.7964485872495111j)], None]\n",
      "X :  [7000000000000.0, 6950000000000.0, 6850000000000.0, 6650000000000.0, 6450000000000.0, 6250000000000.0, 6050000000000.0, 5850000000000.0, 5650000000000.0, 5450000000000.0, 5250000000000.0, 5050000000000.0, 4850000000000.0, 4650000000000.0, 4450000000000.0, 4250000000000.0, 4050000000000.0]\n",
      "Y :  [[(6.2737880213737869-0.83870302667178354j)], [(6.2130298312009069-0.84076827627467954j)], [(6.0903511298235351-0.84530657527834485j)], [(5.8397096988549269-0.85626279522147908j)], [(5.580619695053235-0.87030920913645859j)], [(5.3110009133316254-0.88837921927722785j)], [(5.0281827942839818-0.91179539888921979j)], [(4.7286956697010751-0.94249855324883391j)], [(4.4079744733559121-0.98345432903454566j)], [(4.0599805372069566-1.039443234787458j)], [(3.6767770262152428-1.1186428471058749j)], [(3.2486663163422-1.2359996001677609j)], [(2.7675710930930602-1.4201967346649025j)], [(2.2445842948598753-1.7225236426241923j)], [(1.752594825411963-2.1916902252273749j)], [(1.3947765144486235-2.7794959465476055j)], None]\n",
      "X :  [7000000000000.0, 6950000000000.0, 6850000000000.0, 6650000000000.0, 6450000000000.0, 6250000000000.0, 6050000000000.0, 5850000000000.0, 5650000000000.0, 5450000000000.0, 5250000000000.0, 5050000000000.0, 4850000000000.0]\n",
      "Y :  [[(5.722674439701902-0.93216942168447792j)], [(5.6464262552655367-0.93829747873521585j)], [(5.4908645252106938-0.95174727681905913j)], [(5.1657822429627718-0.98437391926430307j)], [(4.8182412765899674-1.0271412924220784j)], [(4.4423714911030308-1.0846159873516263j)], [(4.0305299081864217-1.164515743117954j)], [(3.5733189335176081-1.2807297582230945j)], [(3.0622557973877278-1.4595334940394458j)], [(2.5039824932274826-1.7484192778097865j)], [(1.9589728516656573-2.2006276441259631j)], [(1.5326326870612297-2.789266340286265j)], None]\n",
      "----------------------------------------------------------------------------------------------------\n",
      "frequency: 3050000000000.0   k_init: (1.12647852002-3.44380975541j)\n"
     ]
    },
    {
     "data": {
      "text/latex": [
       "$$Eqs_\\text{ freespace } = \\left[\\begin{matrix}376.730313461771 H_{{y}} + 1.5643754620449 \\cdot 10^{-5} i \\frac{d}{d x} E_{{z}}\\\\- 376.730313461771 H_{{x}} + 1.5643754620449 \\cdot 10^{-5} i \\frac{d}{d y} E_{{z}}\\\\- 0.00265441872943807 E_{{y}} + 1.5643754620449 \\cdot 10^{-5} i \\frac{d}{d x} H_{{z}}\\\\0.00265441872943807 E_{{x}} + 1.5643754620449 \\cdot 10^{-5} i \\frac{d}{d y} H_{{z}}\\\\- 169.679133548177 i E_{{z}} - \\frac{d}{d y} H_{{x}} + \\frac{d}{d x} H_{{y}}\\\\24081834.738658 i H_{{z}} - \\frac{d}{d y} E_{{x}} + \\frac{d}{d x} E_{{y}}\\end{matrix}\\right]$$"
      ],
      "text/plain": [
       "<IPython.core.display.Math at 0x7f53751b3d30>"
      ]
     },
     "metadata": {},
     "output_type": "display_data"
    },
    {
     "name": "stdout",
     "output_type": "stream",
     "text": [
      "Eq1 boundary equations \n"
     ]
    },
    {
     "data": {
      "text/latex": [
       "$$EQs_\\text{ freespace }-b[0] = \\left[\\begin{matrix}376.730313461771 H_{{y}} & 1.5643754620449 \\cdot 10^{-5} i \\frac{d}{d x} E_{{z}}\\end{matrix}\\right]$$"
      ],
      "text/plain": [
       "<IPython.core.display.Math at 0x7f5376a8df60>"
      ]
     },
     "metadata": {},
     "output_type": "display_data"
    },
    {
     "data": {
      "text/latex": [
       "$$EQs_\\text{ freespace }-b[1] = \\left[\\begin{matrix}- 376.730313461771 H_{{x}} & 1.5643754620449 \\cdot 10^{-5} i \\frac{d}{d y} E_{{z}}\\end{matrix}\\right]$$"
      ],
      "text/plain": [
       "<IPython.core.display.Math at 0x7f5376a8da90>"
      ]
     },
     "metadata": {},
     "output_type": "display_data"
    },
    {
     "data": {
      "text/latex": [
       "$$EQs_\\text{ freespace }-b[2] = \\left[\\begin{matrix}- 0.00265441872943807 E_{{y}} & 1.5643754620449 \\cdot 10^{-5} i \\frac{d}{d x} H_{{z}}\\end{matrix}\\right]$$"
      ],
      "text/plain": [
       "<IPython.core.display.Math at 0x7f5376a8df60>"
      ]
     },
     "metadata": {},
     "output_type": "display_data"
    },
    {
     "data": {
      "text/latex": [
       "$$EQs_\\text{ freespace }-b[3] = \\left[\\begin{matrix}0.00265441872943807 E_{{x}} & 1.5643754620449 \\cdot 10^{-5} i \\frac{d}{d y} H_{{z}}\\end{matrix}\\right]$$"
      ],
      "text/plain": [
       "<IPython.core.display.Math at 0x7f5376a8da90>"
      ]
     },
     "metadata": {},
     "output_type": "display_data"
    },
    {
     "data": {
      "text/latex": [
       "$$EQs_\\text{ freespace }-b[4] = \\left[\\begin{matrix}- 169.679133548177 i E_{{z}} & - \\frac{d}{d y} H_{{x}} & \\frac{d}{d x} H_{{y}}\\end{matrix}\\right]$$"
      ],
      "text/plain": [
       "<IPython.core.display.Math at 0x7f5376a8df60>"
      ]
     },
     "metadata": {},
     "output_type": "display_data"
    },
    {
     "data": {
      "text/latex": [
       "$$EQs_\\text{ freespace }-b[5] = \\left[\\begin{matrix}24081834.738658 i H_{{z}} & - \\frac{d}{d y} E_{{x}} & \\frac{d}{d x} E_{{y}}\\end{matrix}\\right]$$"
      ],
      "text/plain": [
       "<IPython.core.display.Math at 0x7f537abe2a20>"
      ]
     },
     "metadata": {},
     "output_type": "display_data"
    },
    {
     "name": "stdout",
     "output_type": "stream",
     "text": [
      "[[(9761.7645254452727-35246.538467338811j), 0.0, (-5330.02955614231-3098.0455036043381j)], [0.0, 0.0, 0.0], [(5330.02955614231+3098.0455036043381j), 0.0, (9761.7645254452727-35246.538467338811j)]]\n"
     ]
    },
    {
     "data": {
      "text/latex": [
       "$$Eqs_\\text{ graphene } = \\left[\\begin{matrix}376.730313461771 H_{{y}} + 1.5643754620449 \\cdot 10^{-5} i \\frac{d}{d x} E_{{z}}\\\\- 376.730313461771 H_{{x}} + 1.5643754620449 \\cdot 10^{-5} i \\frac{d}{d y} E_{{z}}\\\\- 0.00265441872943807 E_{{y}} + 1.5643754620449 \\cdot 10^{-5} i \\frac{d}{d x} H_{{z}}\\\\- 0.548733780273827 E_{{x}} - 0.15271064889867 i E_{{x}} - 0.0484650636613716 E_{{z}} + 0.083381674496031 i E_{{z}} + 1.5643754620449 \\cdot 10^{-5} i \\frac{d}{d y} H_{{z}}\\\\- 5330.02955614231 E_{{x}} - 3098.04550360434 i E_{{x}} - 9761.76452544527 E_{{z}} + 35076.8593337906 i E_{{z}} - \\frac{d}{d y} H_{{x}} + \\frac{d}{d x} H_{{y}}\\\\24081834.738658 i H_{{z}} - \\frac{d}{d y} E_{{x}} + \\frac{d}{d x} E_{{y}}\\end{matrix}\\right]$$"
      ],
      "text/plain": [
       "<IPython.core.display.Math at 0x7f5376a8d320>"
      ]
     },
     "metadata": {},
     "output_type": "display_data"
    },
    {
     "name": "stdout",
     "output_type": "stream",
     "text": [
      "Eq1 boundary equations \n"
     ]
    },
    {
     "data": {
      "text/latex": [
       "$$EQs_\\text{ graphene }-b[0] = \\left[\\begin{matrix}376.730313461771 H_{{y}} & 1.5643754620449 \\cdot 10^{-5} i \\frac{d}{d x} E_{{z}}\\end{matrix}\\right]$$"
      ],
      "text/plain": [
       "<IPython.core.display.Math at 0x7f5376a8df60>"
      ]
     },
     "metadata": {},
     "output_type": "display_data"
    },
    {
     "data": {
      "text/latex": [
       "$$EQs_\\text{ graphene }-b[1] = \\left[\\begin{matrix}- 376.730313461771 H_{{x}} & 1.5643754620449 \\cdot 10^{-5} i \\frac{d}{d y} E_{{z}}\\end{matrix}\\right]$$"
      ],
      "text/plain": [
       "<IPython.core.display.Math at 0x7f537a9e02e8>"
      ]
     },
     "metadata": {},
     "output_type": "display_data"
    },
    {
     "data": {
      "text/latex": [
       "$$EQs_\\text{ graphene }-b[2] = \\left[\\begin{matrix}0 & - 0.00265441872943807 E_{{y}} & 0 & 1.5643754620449 \\cdot 10^{-5} i \\frac{d}{d x} H_{{z}}\\end{matrix}\\right]$$"
      ],
      "text/plain": [
       "<IPython.core.display.Math at 0x7f5376a8df60>"
      ]
     },
     "metadata": {},
     "output_type": "display_data"
    },
    {
     "data": {
      "text/latex": [
       "$$EQs_\\text{ graphene }-b[3] = \\left[\\begin{matrix}1.5643754620449 \\cdot 10^{-5} E_{{x}} \\left(169.679133548177 - i \\left(9761.76452544527 - 35246.5384673388 i\\right)\\right) & 0 & - 1.5643754620449 \\cdot 10^{-5} i E_{{z}} \\left(-5330.02955614231 - 3098.04550360434 i\\right) & 1.5643754620449 \\cdot 10^{-5} i \\frac{d}{d y} H_{{z}}\\end{matrix}\\right]$$"
      ],
      "text/plain": [
       "<IPython.core.display.Math at 0x7f537a9e02e8>"
      ]
     },
     "metadata": {},
     "output_type": "display_data"
    },
    {
     "data": {
      "text/latex": [
       "$$EQs_\\text{ graphene }-b[4] = \\left[\\begin{matrix}- E_{{x}} \\left(5330.02955614231 + 3098.04550360434 i\\right) & 0 & - E_{{z}} \\left(9761.76452544527 - 35076.8593337906 i\\right) & - \\frac{d}{d y} H_{{x}} & \\frac{d}{d x} H_{{y}}\\end{matrix}\\right]$$"
      ],
      "text/plain": [
       "<IPython.core.display.Math at 0x7f5376a8df60>"
      ]
     },
     "metadata": {},
     "output_type": "display_data"
    },
    {
     "data": {
      "text/latex": [
       "$$EQs_\\text{ graphene }-b[5] = \\left[\\begin{matrix}24081834.738658 i H_{{z}} & - \\frac{d}{d y} E_{{x}} & \\frac{d}{d x} E_{{y}}\\end{matrix}\\right]$$"
      ],
      "text/plain": [
       "<IPython.core.display.Math at 0x7f537a9e02e8>"
      ]
     },
     "metadata": {},
     "output_type": "display_data"
    },
    {
     "name": "stdout",
     "output_type": "stream",
     "text": [
      "initial matrix nnz 1843027 0:00:17\n",
      "initial matrix shared nnz 2219743 0:00:14\n",
      "final matrix (application of boundary conditions) nnz:  2219267 0:00:06\n",
      "A_11.shape:  (157356, 157356) A_11.nnz:  157356\n",
      "warning: this inversion mechanism only works for diagonal matrices\n",
      "eliminating z components 0:00:02\n",
      "A_reduced nnz:  2939085\n",
      "solving eigenvalues 0:05:53\n",
      "[ 1.09058355-3.36944368j]\n",
      "(359926, 1)\n",
      "0 2 x_correlation:  (-0.91807316663-0.39203938648j)     abs(x_correlation):  0.998275122317\n",
      "k_correlation_r:  0.0318647639974     k_correlation_i:  0.0215941313602\n",
      "X :  [7000000000000.0, 6950000000000.0, 6850000000000.0, 6650000000000.0, 6450000000000.0, 6250000000000.0, 6050000000000.0, 5850000000000.0, 5650000000000.0, 5450000000000.0, 5250000000000.0, 5050000000000.0, 4850000000000.0, 4650000000000.0, 4450000000000.0, 4250000000000.0, 4050000000000.0, 3850000000000.0, 3650000000000.0, 3450000000000.0, 3250000000000.0, 3050000000000.0, 2850000000000.0, 2650000000000.0, 2450000000000.0, 2250000000000.0, 2050000000000.0, 1850000000000.0, 1650000000000.0, 1450000000000.0, 1250000000000.0]\n",
      "Y :  [[(9.0264198593920089-1.0265850275942863j)], [(8.9591509490803887-1.0248428143216293j)], [(8.8250554453441765-1.0213873265953377j)], [(8.5585964224031823-1.0145863243291824j)], [(8.2943834560896317-1.0079245347408612j)], [(8.0323500935623926-1.0013955543194086j)], [(7.7724369581080106-0.99499398313867937j)], [(7.514589631061205-0.98871676944562481j)], [(7.258763165805771-0.98256238682030228j)], [(7.0049175938053851-0.97652130310611174j)], [(6.7530093091440699-0.97058404763619255j)], [(6.5029986638359283-0.96474407348038327j)], [(6.2548497421581803-0.95899303239179656j)], [(6.0085276451703766-0.95332020226361569j)], [(5.7639986714177329-0.94771148236624303j)], [(5.5212310019493929-0.94214330023901227j)], [(5.2801971939104995-0.93657063085066661j)], [(5.0408877459070469-0.93090182701082791j)], [(4.8033478091954969-0.92495273204950945j)], [(4.5677684513733068-0.918381978216953j)], [(4.3346750063904764-0.91063646924897546j)], [(4.1052277194466695-0.90101040944521849j)], [(3.8814958575160263-0.88899691093329636j)], [(3.6662901824248366-0.87494632837546438j)], [(3.4622567126583665-0.86047256093346358j)], [(3.2708697732820666-0.84797930667052701j)], [(3.0922699867749484-0.83978604785702027j)], [(2.9257962923875875-0.83773328098448296j)], [(2.7705869716422944-0.84326399992566492j)], [(2.6262271839280289-0.85757176936093249j)], [(2.4940265655358189-0.88184889209401585j)]]\n",
      "X :  [7000000000000.0, 6950000000000.0, 6850000000000.0, 6650000000000.0, 6450000000000.0, 6250000000000.0, 6050000000000.0, 5850000000000.0, 5650000000000.0, 5450000000000.0, 5250000000000.0, 5050000000000.0, 4850000000000.0, 4650000000000.0, 4450000000000.0, 4250000000000.0, 4050000000000.0, 3850000000000.0, 3650000000000.0, 3450000000000.0, 3250000000000.0, 3050000000000.0, 2850000000000.0, 2650000000000.0, 2450000000000.0, 2250000000000.0, 2150000000000.0, 1950000000000.0, 1750000000000.0]\n",
      "Y :  [[(8.0232073158584836-1.0038177634322727j)], [(7.9580318024293435-1.002165067653527j)], [(7.8280933139952493-0.99888371498477257j)], [(7.5698373817955931-0.99241010085502668j)], [(7.3136932127065855-0.98604443809278242j)], [(7.0596085026341342-0.97977554145591095j)], [(6.8075371305561374-0.97359284654969247j)], [(6.5574373335614329-0.96748716557405556j)], [(6.3092748166396113-0.9614511664337817j)], [(6.0630218535066458-0.95547378216544254j)], [(5.8186517398008499-0.94954680963997151j)], [(5.5761431695747739-0.94367608673403425j)], [(5.3354794279992186-0.9378981947347097j)], [(5.0966347273222867-0.93231809097391694j)], [(4.8595367153326663-0.92717364591425044j)], [(4.6239798167363606-0.92292684758583232j)], [(4.3894683045966207-0.92037244078827407j)], [(4.1549808394212153-0.92075737918946254j)], [(3.9186483599056778-0.92593117488577226j)], [(3.677312941318621-0.93859549972758227j)], [(3.4258647371236117-0.96275710941544779j)], [(3.156208709294305-1.0045366154869255j)], [(2.8558165992984978-1.0738046274833923j)], [(2.5063563688924888-1.1885645297305534j)], [(2.0864234574600857-1.3890167237969169j)], [(1.6132893151693599-1.764693595219101j)], [(1.4010187694041538-2.0378203118915641j)], [(1.0870202432253238-2.678253372039892j)], [(0.86679846672573735-3.391184462235231j)]]\n",
      "X :  [7000000000000.0, 6950000000000.0, 6850000000000.0, 6650000000000.0, 6450000000000.0, 6250000000000.0, 6050000000000.0, 5850000000000.0, 5650000000000.0, 5450000000000.0, 5250000000000.0, 5050000000000.0, 4850000000000.0, 4650000000000.0, 4450000000000.0, 4250000000000.0, 4050000000000.0, 3850000000000.0, 3650000000000.0, 3450000000000.0, 3250000000000.0, 3050000000000.0]\n",
      "Y :  [[(6.5956702117118349-0.78791361784606873j)], [(6.5435530246973519-0.78802249083072595j)], [(6.4391320917083572-0.78834760985526786j)], [(6.2293811334969185-0.7894861249931886j)], [(6.0180579613309053-0.79141024897694101j)], [(5.8046345497448524-0.79432853850880258j)], [(5.5884413350732611-0.79852240627067517j)], [(5.368619202567892-0.80437522758025648j)], [(5.1440509634386773-0.81241607687996109j)], [(4.9132683828200285-0.82338117543705347j)], [(4.6743175995161046-0.8383148983460913j)], [(4.4245647702757411-0.85871531442195226j)], [(4.1604339167452462-0.88679535356905737j)], [(3.877037422780544-0.92593969254811115j)], [(3.5677148568018668-0.98160065240720229j)], [(3.2235927485300775-1.0632398312221838j)], [(2.8341879494083608-1.1885173849669517j)], [(2.3933563458327187-1.3918629656390147j)], [(1.9259998070949513-1.7293820301048439j)], [(1.5244979731893422-2.2249726788156909j)], [(1.2579908774963218-2.7964485872495111j)], [(1.090583547827632-3.369443675168363j)]]\n",
      "X :  [7000000000000.0, 6950000000000.0, 6850000000000.0, 6650000000000.0, 6450000000000.0, 6250000000000.0, 6050000000000.0, 5850000000000.0, 5650000000000.0, 5450000000000.0, 5250000000000.0, 5050000000000.0, 4850000000000.0, 4650000000000.0, 4450000000000.0, 4250000000000.0, 4050000000000.0]\n",
      "Y :  [[(6.2737880213737869-0.83870302667178354j)], [(6.2130298312009069-0.84076827627467954j)], [(6.0903511298235351-0.84530657527834485j)], [(5.8397096988549269-0.85626279522147908j)], [(5.580619695053235-0.87030920913645859j)], [(5.3110009133316254-0.88837921927722785j)], [(5.0281827942839818-0.91179539888921979j)], [(4.7286956697010751-0.94249855324883391j)], [(4.4079744733559121-0.98345432903454566j)], [(4.0599805372069566-1.039443234787458j)], [(3.6767770262152428-1.1186428471058749j)], [(3.2486663163422-1.2359996001677609j)], [(2.7675710930930602-1.4201967346649025j)], [(2.2445842948598753-1.7225236426241923j)], [(1.752594825411963-2.1916902252273749j)], [(1.3947765144486235-2.7794959465476055j)], None]\n",
      "X :  [7000000000000.0, 6950000000000.0, 6850000000000.0, 6650000000000.0, 6450000000000.0, 6250000000000.0, 6050000000000.0, 5850000000000.0, 5650000000000.0, 5450000000000.0, 5250000000000.0, 5050000000000.0, 4850000000000.0]\n",
      "Y :  [[(5.722674439701902-0.93216942168447792j)], [(5.6464262552655367-0.93829747873521585j)], [(5.4908645252106938-0.95174727681905913j)], [(5.1657822429627718-0.98437391926430307j)], [(4.8182412765899674-1.0271412924220784j)], [(4.4423714911030308-1.0846159873516263j)], [(4.0305299081864217-1.164515743117954j)], [(3.5733189335176081-1.2807297582230945j)], [(3.0622557973877278-1.4595334940394458j)], [(2.5039824932274826-1.7484192778097865j)], [(1.9589728516656573-2.2006276441259631j)], [(1.5326326870612297-2.789266340286265j)], None]\n",
      "----------------------------------------------------------------------------------------------------\n",
      "frequency: 2850000000000.0   k_init: (1.02227598418-3.94395794257j)\n"
     ]
    },
    {
     "data": {
      "text/latex": [
       "$$Eqs_\\text{ freespace } = \\left[\\begin{matrix}376.730313461771 H_{{y}} + 1.67415619622349 \\cdot 10^{-5} i \\frac{d}{d x} E_{{z}}\\\\- 376.730313461771 H_{{x}} + 1.67415619622349 \\cdot 10^{-5} i \\frac{d}{d y} E_{{z}}\\\\- 0.00265441872943807 E_{{y}} + 1.67415619622349 \\cdot 10^{-5} i \\frac{d}{d x} H_{{z}}\\\\0.00265441872943807 E_{{x}} + 1.67415619622349 \\cdot 10^{-5} i \\frac{d}{d y} H_{{z}}\\\\- 158.552632987641 i E_{{z}} - \\frac{d}{d y} H_{{x}} + \\frac{d}{d x} H_{{y}}\\\\22502698.0344837 i H_{{z}} - \\frac{d}{d y} E_{{x}} + \\frac{d}{d x} E_{{y}}\\end{matrix}\\right]$$"
      ],
      "text/plain": [
       "<IPython.core.display.Math at 0x7f53746952b0>"
      ]
     },
     "metadata": {},
     "output_type": "display_data"
    },
    {
     "name": "stdout",
     "output_type": "stream",
     "text": [
      "Eq1 boundary equations \n"
     ]
    },
    {
     "data": {
      "text/latex": [
       "$$EQs_\\text{ freespace }-b[0] = \\left[\\begin{matrix}376.730313461771 H_{{y}} & 1.67415619622349 \\cdot 10^{-5} i \\frac{d}{d x} E_{{z}}\\end{matrix}\\right]$$"
      ],
      "text/plain": [
       "<IPython.core.display.Math at 0x7f537ad38908>"
      ]
     },
     "metadata": {},
     "output_type": "display_data"
    },
    {
     "data": {
      "text/latex": [
       "$$EQs_\\text{ freespace }-b[1] = \\left[\\begin{matrix}- 376.730313461771 H_{{x}} & 1.67415619622349 \\cdot 10^{-5} i \\frac{d}{d y} E_{{z}}\\end{matrix}\\right]$$"
      ],
      "text/plain": [
       "<IPython.core.display.Math at 0x7f537ad38e48>"
      ]
     },
     "metadata": {},
     "output_type": "display_data"
    },
    {
     "data": {
      "text/latex": [
       "$$EQs_\\text{ freespace }-b[2] = \\left[\\begin{matrix}- 0.00265441872943807 E_{{y}} & 1.67415619622349 \\cdot 10^{-5} i \\frac{d}{d x} H_{{z}}\\end{matrix}\\right]$$"
      ],
      "text/plain": [
       "<IPython.core.display.Math at 0x7f537ad38908>"
      ]
     },
     "metadata": {},
     "output_type": "display_data"
    },
    {
     "data": {
      "text/latex": [
       "$$EQs_\\text{ freespace }-b[3] = \\left[\\begin{matrix}0.00265441872943807 E_{{x}} & 1.67415619622349 \\cdot 10^{-5} i \\frac{d}{d y} H_{{z}}\\end{matrix}\\right]$$"
      ],
      "text/plain": [
       "<IPython.core.display.Math at 0x7f537a9e02e8>"
      ]
     },
     "metadata": {},
     "output_type": "display_data"
    },
    {
     "data": {
      "text/latex": [
       "$$EQs_\\text{ freespace }-b[4] = \\left[\\begin{matrix}- 158.552632987641 i E_{{z}} & - \\frac{d}{d y} H_{{x}} & \\frac{d}{d x} H_{{y}}\\end{matrix}\\right]$$"
      ],
      "text/plain": [
       "<IPython.core.display.Math at 0x7f537a9e02e8>"
      ]
     },
     "metadata": {},
     "output_type": "display_data"
    },
    {
     "data": {
      "text/latex": [
       "$$EQs_\\text{ freespace }-b[5] = \\left[\\begin{matrix}22502698.0344837 i H_{{z}} & - \\frac{d}{d y} E_{{x}} & \\frac{d}{d x} E_{{y}}\\end{matrix}\\right]$$"
      ],
      "text/plain": [
       "<IPython.core.display.Math at 0x7f537a9e02e8>"
      ]
     },
     "metadata": {},
     "output_type": "display_data"
    },
    {
     "name": "stdout",
     "output_type": "stream",
     "text": [
      "[[(11184.473958901021-37439.91567329986j), 0.0, (-5931.1001377822877-3750.8732997773327j)], [0.0, 0.0, 0.0], [(5931.1001377822877+3750.8732997773327j), 0.0, (11184.473958901021-37439.91567329986j)]]\n"
     ]
    },
    {
     "data": {
      "text/latex": [
       "$$Eqs_\\text{ graphene } = \\left[\\begin{matrix}376.730313461771 H_{{y}} + 1.67415619622349 \\cdot 10^{-5} i \\frac{d}{d x} E_{{z}}\\\\- 376.730313461771 H_{{x}} + 1.67415619622349 \\cdot 10^{-5} i \\frac{d}{d y} E_{{z}}\\\\- 0.00265441872943807 E_{{y}} + 1.67415619622349 \\cdot 10^{-5} i \\frac{d}{d x} H_{{z}}\\\\- 0.624148249375961 E_{{x}} - 0.187245563797944 i E_{{x}} - 0.0627954777607146 E_{{z}} + 0.099295880460902 i E_{{z}} + 1.67415619622349 \\cdot 10^{-5} i \\frac{d}{d y} H_{{z}}\\\\- 5931.10013778229 E_{{x}} - 3750.87329977733 i E_{{x}} - 11184.473958901 E_{{z}} + 37281.3630403122 i E_{{z}} - \\frac{d}{d y} H_{{x}} + \\frac{d}{d x} H_{{y}}\\\\22502698.0344837 i H_{{z}} - \\frac{d}{d y} E_{{x}} + \\frac{d}{d x} E_{{y}}\\end{matrix}\\right]$$"
      ],
      "text/plain": [
       "<IPython.core.display.Math at 0x7f53751da4a8>"
      ]
     },
     "metadata": {},
     "output_type": "display_data"
    },
    {
     "name": "stdout",
     "output_type": "stream",
     "text": [
      "Eq1 boundary equations \n"
     ]
    },
    {
     "data": {
      "text/latex": [
       "$$EQs_\\text{ graphene }-b[0] = \\left[\\begin{matrix}376.730313461771 H_{{y}} & 1.67415619622349 \\cdot 10^{-5} i \\frac{d}{d x} E_{{z}}\\end{matrix}\\right]$$"
      ],
      "text/plain": [
       "<IPython.core.display.Math at 0x7f537ad38080>"
      ]
     },
     "metadata": {},
     "output_type": "display_data"
    },
    {
     "data": {
      "text/latex": [
       "$$EQs_\\text{ graphene }-b[1] = \\left[\\begin{matrix}- 376.730313461771 H_{{x}} & 1.67415619622349 \\cdot 10^{-5} i \\frac{d}{d y} E_{{z}}\\end{matrix}\\right]$$"
      ],
      "text/plain": [
       "<IPython.core.display.Math at 0x7f537ad389b0>"
      ]
     },
     "metadata": {},
     "output_type": "display_data"
    },
    {
     "data": {
      "text/latex": [
       "$$EQs_\\text{ graphene }-b[2] = \\left[\\begin{matrix}0 & - 0.00265441872943807 E_{{y}} & 0 & 1.67415619622349 \\cdot 10^{-5} i \\frac{d}{d x} H_{{z}}\\end{matrix}\\right]$$"
      ],
      "text/plain": [
       "<IPython.core.display.Math at 0x7f5375163438>"
      ]
     },
     "metadata": {},
     "output_type": "display_data"
    },
    {
     "data": {
      "text/latex": [
       "$$EQs_\\text{ graphene }-b[3] = \\left[\\begin{matrix}1.67415619622349 \\cdot 10^{-5} E_{{x}} \\left(158.552632987641 - i \\left(11184.473958901 - 37439.9156732999 i\\right)\\right) & 0 & - 1.67415619622349 \\cdot 10^{-5} i E_{{z}} \\left(-5931.10013778229 - 3750.87329977733 i\\right) & 1.67415619622349 \\cdot 10^{-5} i \\frac{d}{d y} H_{{z}}\\end{matrix}\\right]$$"
      ],
      "text/plain": [
       "<IPython.core.display.Math at 0x7f537ad8fba8>"
      ]
     },
     "metadata": {},
     "output_type": "display_data"
    },
    {
     "data": {
      "text/latex": [
       "$$EQs_\\text{ graphene }-b[4] = \\left[\\begin{matrix}- E_{{x}} \\left(5931.10013778229 + 3750.87329977733 i\\right) & 0 & - E_{{z}} \\left(11184.473958901 - 37281.3630403122 i\\right) & - \\frac{d}{d y} H_{{x}} & \\frac{d}{d x} H_{{y}}\\end{matrix}\\right]$$"
      ],
      "text/plain": [
       "<IPython.core.display.Math at 0x7f5375163438>"
      ]
     },
     "metadata": {},
     "output_type": "display_data"
    },
    {
     "data": {
      "text/latex": [
       "$$EQs_\\text{ graphene }-b[5] = \\left[\\begin{matrix}22502698.0344837 i H_{{z}} & - \\frac{d}{d y} E_{{x}} & \\frac{d}{d x} E_{{y}}\\end{matrix}\\right]$$"
      ],
      "text/plain": [
       "<IPython.core.display.Math at 0x7f537ad8fba8>"
      ]
     },
     "metadata": {},
     "output_type": "display_data"
    },
    {
     "name": "stdout",
     "output_type": "stream",
     "text": [
      "initial matrix nnz 1843027 0:00:17\n",
      "initial matrix shared nnz 2219743 0:00:09\n",
      "final matrix (application of boundary conditions) nnz:  2219267 0:00:03\n",
      "A_11.shape:  (157356, 157356) A_11.nnz:  157356\n",
      "warning: this inversion mechanism only works for diagonal matrices\n",
      "eliminating z components 0:00:01\n",
      "A_reduced nnz:  2945211\n",
      "solving eigenvalues 0:03:17\n",
      "[ 0.97124111-3.93706162j]\n",
      "(359926, 1)\n",
      "0 2 x_correlation:  (0.48748553206-0.871565747435j)     abs(x_correlation):  0.998633564462\n",
      "k_correlation_r:  0.0499227940894     k_correlation_i:  0.00174857956655\n",
      "X :  [7000000000000.0, 6950000000000.0, 6850000000000.0, 6650000000000.0, 6450000000000.0, 6250000000000.0, 6050000000000.0, 5850000000000.0, 5650000000000.0, 5450000000000.0, 5250000000000.0, 5050000000000.0, 4850000000000.0, 4650000000000.0, 4450000000000.0, 4250000000000.0, 4050000000000.0, 3850000000000.0, 3650000000000.0, 3450000000000.0, 3250000000000.0, 3050000000000.0, 2850000000000.0, 2650000000000.0, 2450000000000.0, 2250000000000.0, 2050000000000.0, 1850000000000.0, 1650000000000.0, 1450000000000.0, 1250000000000.0]\n",
      "Y :  [[(9.0264198593920089-1.0265850275942863j)], [(8.9591509490803887-1.0248428143216293j)], [(8.8250554453441765-1.0213873265953377j)], [(8.5585964224031823-1.0145863243291824j)], [(8.2943834560896317-1.0079245347408612j)], [(8.0323500935623926-1.0013955543194086j)], [(7.7724369581080106-0.99499398313867937j)], [(7.514589631061205-0.98871676944562481j)], [(7.258763165805771-0.98256238682030228j)], [(7.0049175938053851-0.97652130310611174j)], [(6.7530093091440699-0.97058404763619255j)], [(6.5029986638359283-0.96474407348038327j)], [(6.2548497421581803-0.95899303239179656j)], [(6.0085276451703766-0.95332020226361569j)], [(5.7639986714177329-0.94771148236624303j)], [(5.5212310019493929-0.94214330023901227j)], [(5.2801971939104995-0.93657063085066661j)], [(5.0408877459070469-0.93090182701082791j)], [(4.8033478091954969-0.92495273204950945j)], [(4.5677684513733068-0.918381978216953j)], [(4.3346750063904764-0.91063646924897546j)], [(4.1052277194466695-0.90101040944521849j)], [(3.8814958575160263-0.88899691093329636j)], [(3.6662901824248366-0.87494632837546438j)], [(3.4622567126583665-0.86047256093346358j)], [(3.2708697732820666-0.84797930667052701j)], [(3.0922699867749484-0.83978604785702027j)], [(2.9257962923875875-0.83773328098448296j)], [(2.7705869716422944-0.84326399992566492j)], [(2.6262271839280289-0.85757176936093249j)], [(2.4940265655358189-0.88184889209401585j)]]\n",
      "X :  [7000000000000.0, 6950000000000.0, 6850000000000.0, 6650000000000.0, 6450000000000.0, 6250000000000.0, 6050000000000.0, 5850000000000.0, 5650000000000.0, 5450000000000.0, 5250000000000.0, 5050000000000.0, 4850000000000.0, 4650000000000.0, 4450000000000.0, 4250000000000.0, 4050000000000.0, 3850000000000.0, 3650000000000.0, 3450000000000.0, 3250000000000.0, 3050000000000.0, 2850000000000.0, 2650000000000.0, 2450000000000.0, 2250000000000.0, 2150000000000.0, 1950000000000.0, 1750000000000.0]\n",
      "Y :  [[(8.0232073158584836-1.0038177634322727j)], [(7.9580318024293435-1.002165067653527j)], [(7.8280933139952493-0.99888371498477257j)], [(7.5698373817955931-0.99241010085502668j)], [(7.3136932127065855-0.98604443809278242j)], [(7.0596085026341342-0.97977554145591095j)], [(6.8075371305561374-0.97359284654969247j)], [(6.5574373335614329-0.96748716557405556j)], [(6.3092748166396113-0.9614511664337817j)], [(6.0630218535066458-0.95547378216544254j)], [(5.8186517398008499-0.94954680963997151j)], [(5.5761431695747739-0.94367608673403425j)], [(5.3354794279992186-0.9378981947347097j)], [(5.0966347273222867-0.93231809097391694j)], [(4.8595367153326663-0.92717364591425044j)], [(4.6239798167363606-0.92292684758583232j)], [(4.3894683045966207-0.92037244078827407j)], [(4.1549808394212153-0.92075737918946254j)], [(3.9186483599056778-0.92593117488577226j)], [(3.677312941318621-0.93859549972758227j)], [(3.4258647371236117-0.96275710941544779j)], [(3.156208709294305-1.0045366154869255j)], [(2.8558165992984978-1.0738046274833923j)], [(2.5063563688924888-1.1885645297305534j)], [(2.0864234574600857-1.3890167237969169j)], [(1.6132893151693599-1.764693595219101j)], [(1.4010187694041538-2.0378203118915641j)], [(1.0870202432253238-2.678253372039892j)], [(0.86679846672573735-3.391184462235231j)]]\n",
      "X :  [7000000000000.0, 6950000000000.0, 6850000000000.0, 6650000000000.0, 6450000000000.0, 6250000000000.0, 6050000000000.0, 5850000000000.0, 5650000000000.0, 5450000000000.0, 5250000000000.0, 5050000000000.0, 4850000000000.0, 4650000000000.0, 4450000000000.0, 4250000000000.0, 4050000000000.0, 3850000000000.0, 3650000000000.0, 3450000000000.0, 3250000000000.0, 3050000000000.0, 2850000000000.0]\n",
      "Y :  [[(6.5956702117118349-0.78791361784606873j)], [(6.5435530246973519-0.78802249083072595j)], [(6.4391320917083572-0.78834760985526786j)], [(6.2293811334969185-0.7894861249931886j)], [(6.0180579613309053-0.79141024897694101j)], [(5.8046345497448524-0.79432853850880258j)], [(5.5884413350732611-0.79852240627067517j)], [(5.368619202567892-0.80437522758025648j)], [(5.1440509634386773-0.81241607687996109j)], [(4.9132683828200285-0.82338117543705347j)], [(4.6743175995161046-0.8383148983460913j)], [(4.4245647702757411-0.85871531442195226j)], [(4.1604339167452462-0.88679535356905737j)], [(3.877037422780544-0.92593969254811115j)], [(3.5677148568018668-0.98160065240720229j)], [(3.2235927485300775-1.0632398312221838j)], [(2.8341879494083608-1.1885173849669517j)], [(2.3933563458327187-1.3918629656390147j)], [(1.9259998070949513-1.7293820301048439j)], [(1.5244979731893422-2.2249726788156909j)], [(1.2579908774963218-2.7964485872495111j)], [(1.090583547827632-3.369443675168363j)], [(0.97124111072225883-3.9370616183026201j)]]\n",
      "X :  [7000000000000.0, 6950000000000.0, 6850000000000.0, 6650000000000.0, 6450000000000.0, 6250000000000.0, 6050000000000.0, 5850000000000.0, 5650000000000.0, 5450000000000.0, 5250000000000.0, 5050000000000.0, 4850000000000.0, 4650000000000.0, 4450000000000.0, 4250000000000.0, 4050000000000.0]\n",
      "Y :  [[(6.2737880213737869-0.83870302667178354j)], [(6.2130298312009069-0.84076827627467954j)], [(6.0903511298235351-0.84530657527834485j)], [(5.8397096988549269-0.85626279522147908j)], [(5.580619695053235-0.87030920913645859j)], [(5.3110009133316254-0.88837921927722785j)], [(5.0281827942839818-0.91179539888921979j)], [(4.7286956697010751-0.94249855324883391j)], [(4.4079744733559121-0.98345432903454566j)], [(4.0599805372069566-1.039443234787458j)], [(3.6767770262152428-1.1186428471058749j)], [(3.2486663163422-1.2359996001677609j)], [(2.7675710930930602-1.4201967346649025j)], [(2.2445842948598753-1.7225236426241923j)], [(1.752594825411963-2.1916902252273749j)], [(1.3947765144486235-2.7794959465476055j)], None]\n",
      "X :  [7000000000000.0, 6950000000000.0, 6850000000000.0, 6650000000000.0, 6450000000000.0, 6250000000000.0, 6050000000000.0, 5850000000000.0, 5650000000000.0, 5450000000000.0, 5250000000000.0, 5050000000000.0, 4850000000000.0]\n",
      "Y :  [[(5.722674439701902-0.93216942168447792j)], [(5.6464262552655367-0.93829747873521585j)], [(5.4908645252106938-0.95174727681905913j)], [(5.1657822429627718-0.98437391926430307j)], [(4.8182412765899674-1.0271412924220784j)], [(4.4423714911030308-1.0846159873516263j)], [(4.0305299081864217-1.164515743117954j)], [(3.5733189335176081-1.2807297582230945j)], [(3.0622557973877278-1.4595334940394458j)], [(2.5039824932274826-1.7484192778097865j)], [(1.9589728516656573-2.2006276441259631j)], [(1.5326326870612297-2.789266340286265j)], None]\n",
      "----------------------------------------------------------------------------------------------------\n",
      "frequency: 4050000000000.0   k_init: (1.17112936197-3.48594080658j)\n"
     ]
    },
    {
     "data": {
      "text/latex": [
       "$$Eqs_\\text{ freespace } = \\left[\\begin{matrix}376.730313461771 H_{{y}} + 1.17810991586097 \\cdot 10^{-5} i \\frac{d}{d x} E_{{z}}\\\\- 376.730313461771 H_{{x}} + 1.17810991586097 \\cdot 10^{-5} i \\frac{d}{d y} E_{{z}}\\\\- 0.00265441872943807 E_{{y}} + 1.17810991586097 \\cdot 10^{-5} i \\frac{d}{d x} H_{{z}}\\\\0.00265441872943807 E_{{x}} + 1.17810991586097 \\cdot 10^{-5} i \\frac{d}{d y} H_{{z}}\\\\- 225.311636350858 i E_{{z}} - \\frac{d}{d y} H_{{x}} + \\frac{d}{d x} H_{{y}}\\\\31977518.2595295 i H_{{z}} - \\frac{d}{d y} E_{{x}} + \\frac{d}{d x} E_{{y}}\\end{matrix}\\right]$$"
      ],
      "text/plain": [
       "<IPython.core.display.Math at 0x7f537ae52f98>"
      ]
     },
     "metadata": {},
     "output_type": "display_data"
    },
    {
     "name": "stdout",
     "output_type": "stream",
     "text": [
      "Eq1 boundary equations \n"
     ]
    },
    {
     "data": {
      "text/latex": [
       "$$EQs_\\text{ freespace }-b[0] = \\left[\\begin{matrix}376.730313461771 H_{{y}} & 1.17810991586097 \\cdot 10^{-5} i \\frac{d}{d x} E_{{z}}\\end{matrix}\\right]$$"
      ],
      "text/plain": [
       "<IPython.core.display.Math at 0x7f537ad382b0>"
      ]
     },
     "metadata": {},
     "output_type": "display_data"
    },
    {
     "data": {
      "text/latex": [
       "$$EQs_\\text{ freespace }-b[1] = \\left[\\begin{matrix}- 376.730313461771 H_{{x}} & 1.17810991586097 \\cdot 10^{-5} i \\frac{d}{d y} E_{{z}}\\end{matrix}\\right]$$"
      ],
      "text/plain": [
       "<IPython.core.display.Math at 0x7f537ad386a0>"
      ]
     },
     "metadata": {},
     "output_type": "display_data"
    },
    {
     "data": {
      "text/latex": [
       "$$EQs_\\text{ freespace }-b[2] = \\left[\\begin{matrix}- 0.00265441872943807 E_{{y}} & 1.17810991586097 \\cdot 10^{-5} i \\frac{d}{d x} H_{{z}}\\end{matrix}\\right]$$"
      ],
      "text/plain": [
       "<IPython.core.display.Math at 0x7f537a9e02e8>"
      ]
     },
     "metadata": {},
     "output_type": "display_data"
    },
    {
     "data": {
      "text/latex": [
       "$$EQs_\\text{ freespace }-b[3] = \\left[\\begin{matrix}0.00265441872943807 E_{{x}} & 1.17810991586097 \\cdot 10^{-5} i \\frac{d}{d y} H_{{z}}\\end{matrix}\\right]$$"
      ],
      "text/plain": [
       "<IPython.core.display.Math at 0x7f537a9e02e8>"
      ]
     },
     "metadata": {},
     "output_type": "display_data"
    },
    {
     "data": {
      "text/latex": [
       "$$EQs_\\text{ freespace }-b[4] = \\left[\\begin{matrix}- 225.311636350858 i E_{{z}} & - \\frac{d}{d y} H_{{x}} & \\frac{d}{d x} H_{{y}}\\end{matrix}\\right]$$"
      ],
      "text/plain": [
       "<IPython.core.display.Math at 0x7f537a9e02e8>"
      ]
     },
     "metadata": {},
     "output_type": "display_data"
    },
    {
     "data": {
      "text/latex": [
       "$$EQs_\\text{ freespace }-b[5] = \\left[\\begin{matrix}31977518.2595295 i H_{{z}} & - \\frac{d}{d y} E_{{x}} & \\frac{d}{d x} E_{{y}}\\end{matrix}\\right]$$"
      ],
      "text/plain": [
       "<IPython.core.display.Math at 0x7f537a9e02e8>"
      ]
     },
     "metadata": {},
     "output_type": "display_data"
    },
    {
     "name": "stdout",
     "output_type": "stream",
     "text": [
      "[[(5517.2479812462325-27092.306668923204j), 0.0, (-3282.6348823439939-1370.2105600206137j)], [0.0, 0.0, 0.0], [(3282.6348823439939+1370.2105600206137j), 0.0, (5517.2479812462325-27092.306668923204j)]]\n"
     ]
    },
    {
     "data": {
      "text/latex": [
       "$$Eqs_\\text{ graphene } = \\left[\\begin{matrix}376.730313461771 H_{{y}} + 1.17810991586097 \\cdot 10^{-5} i \\frac{d}{d x} E_{{z}}\\\\- 376.730313461771 H_{{x}} + 1.17810991586097 \\cdot 10^{-5} i \\frac{d}{d y} E_{{z}}\\\\- 0.00265441872943807 E_{{y}} + 1.17810991586097 \\cdot 10^{-5} i \\frac{d}{d x} H_{{z}}\\\\- 0.31652273257261 E_{{x}} - 0.0649992455497013 i E_{{x}} - 0.016142586475777 E_{{z}} + 0.0386730470504058 i E_{{z}} + 1.17810991586097 \\cdot 10^{-5} i \\frac{d}{d y} H_{{z}}\\\\- 3282.63488234399 E_{{x}} - 1370.21056002061 i E_{{x}} - 5517.24798124623 E_{{z}} + 26866.9950325723 i E_{{z}} - \\frac{d}{d y} H_{{x}} + \\frac{d}{d x} H_{{y}}\\\\31977518.2595295 i H_{{z}} - \\frac{d}{d y} E_{{x}} + \\frac{d}{d x} E_{{y}}\\end{matrix}\\right]$$"
      ],
      "text/plain": [
       "<IPython.core.display.Math at 0x7f537ad38f28>"
      ]
     },
     "metadata": {},
     "output_type": "display_data"
    },
    {
     "name": "stdout",
     "output_type": "stream",
     "text": [
      "Eq1 boundary equations \n"
     ]
    },
    {
     "data": {
      "text/latex": [
       "$$EQs_\\text{ graphene }-b[0] = \\left[\\begin{matrix}376.730313461771 H_{{y}} & 1.17810991586097 \\cdot 10^{-5} i \\frac{d}{d x} E_{{z}}\\end{matrix}\\right]$$"
      ],
      "text/plain": [
       "<IPython.core.display.Math at 0x7f5375209208>"
      ]
     },
     "metadata": {},
     "output_type": "display_data"
    },
    {
     "data": {
      "text/latex": [
       "$$EQs_\\text{ graphene }-b[1] = \\left[\\begin{matrix}- 376.730313461771 H_{{x}} & 1.17810991586097 \\cdot 10^{-5} i \\frac{d}{d y} E_{{z}}\\end{matrix}\\right]$$"
      ],
      "text/plain": [
       "<IPython.core.display.Math at 0x7f5375209208>"
      ]
     },
     "metadata": {},
     "output_type": "display_data"
    },
    {
     "data": {
      "text/latex": [
       "$$EQs_\\text{ graphene }-b[2] = \\left[\\begin{matrix}0 & - 0.00265441872943807 E_{{y}} & 0 & 1.17810991586097 \\cdot 10^{-5} i \\frac{d}{d x} H_{{z}}\\end{matrix}\\right]$$"
      ],
      "text/plain": [
       "<IPython.core.display.Math at 0x7f537a9ec518>"
      ]
     },
     "metadata": {},
     "output_type": "display_data"
    },
    {
     "data": {
      "text/latex": [
       "$$EQs_\\text{ graphene }-b[3] = \\left[\\begin{matrix}1.17810991586097 \\cdot 10^{-5} E_{{x}} \\left(225.311636350858 - i \\left(5517.24798124623 - 27092.3066689232 i\\right)\\right) & 0 & - 1.17810991586097 \\cdot 10^{-5} i E_{{z}} \\left(-3282.63488234399 - 1370.21056002061 i\\right) & 1.17810991586097 \\cdot 10^{-5} i \\frac{d}{d y} H_{{z}}\\end{matrix}\\right]$$"
      ],
      "text/plain": [
       "<IPython.core.display.Math at 0x7f5375209208>"
      ]
     },
     "metadata": {},
     "output_type": "display_data"
    },
    {
     "data": {
      "text/latex": [
       "$$EQs_\\text{ graphene }-b[4] = \\left[\\begin{matrix}- E_{{x}} \\left(3282.63488234399 + 1370.21056002061 i\\right) & 0 & - E_{{z}} \\left(5517.24798124623 - 26866.9950325723 i\\right) & - \\frac{d}{d y} H_{{x}} & \\frac{d}{d x} H_{{y}}\\end{matrix}\\right]$$"
      ],
      "text/plain": [
       "<IPython.core.display.Math at 0x7f537ad38780>"
      ]
     },
     "metadata": {},
     "output_type": "display_data"
    },
    {
     "data": {
      "text/latex": [
       "$$EQs_\\text{ graphene }-b[5] = \\left[\\begin{matrix}31977518.2595295 i H_{{z}} & - \\frac{d}{d y} E_{{x}} & \\frac{d}{d x} E_{{y}}\\end{matrix}\\right]$$"
      ],
      "text/plain": [
       "<IPython.core.display.Math at 0x7f537ad38780>"
      ]
     },
     "metadata": {},
     "output_type": "display_data"
    },
    {
     "name": "stdout",
     "output_type": "stream",
     "text": [
      "initial matrix nnz 1843027 0:00:17\n",
      "initial matrix shared nnz 2219743 0:00:13\n",
      "final matrix (application of boundary conditions) nnz:  2219267 0:00:06\n",
      "A_11.shape:  (157356, 157356) A_11.nnz:  157356\n",
      "warning: this inversion mechanism only works for diagonal matrices\n",
      "eliminating z components 0:00:02\n",
      "A_reduced nnz:  2939381\n",
      "solving eigenvalues 0:05:14\n",
      "[ 1.175252-3.38405114j]\n",
      "(359926, 1)\n",
      "0 3 x_correlation:  (0.858256701789+0.509857670091j)     abs(x_correlation):  0.998278222699\n",
      "k_correlation_r:  0.00350787497428     k_correlation_i:  0.0292287413459\n",
      "X :  [7000000000000.0, 6950000000000.0, 6850000000000.0, 6650000000000.0, 6450000000000.0, 6250000000000.0, 6050000000000.0, 5850000000000.0, 5650000000000.0, 5450000000000.0, 5250000000000.0, 5050000000000.0, 4850000000000.0, 4650000000000.0, 4450000000000.0, 4250000000000.0, 4050000000000.0, 3850000000000.0, 3650000000000.0, 3450000000000.0, 3250000000000.0, 3050000000000.0, 2850000000000.0, 2650000000000.0, 2450000000000.0, 2250000000000.0, 2050000000000.0, 1850000000000.0, 1650000000000.0, 1450000000000.0, 1250000000000.0]\n",
      "Y :  [[(9.0264198593920089-1.0265850275942863j)], [(8.9591509490803887-1.0248428143216293j)], [(8.8250554453441765-1.0213873265953377j)], [(8.5585964224031823-1.0145863243291824j)], [(8.2943834560896317-1.0079245347408612j)], [(8.0323500935623926-1.0013955543194086j)], [(7.7724369581080106-0.99499398313867937j)], [(7.514589631061205-0.98871676944562481j)], [(7.258763165805771-0.98256238682030228j)], [(7.0049175938053851-0.97652130310611174j)], [(6.7530093091440699-0.97058404763619255j)], [(6.5029986638359283-0.96474407348038327j)], [(6.2548497421581803-0.95899303239179656j)], [(6.0085276451703766-0.95332020226361569j)], [(5.7639986714177329-0.94771148236624303j)], [(5.5212310019493929-0.94214330023901227j)], [(5.2801971939104995-0.93657063085066661j)], [(5.0408877459070469-0.93090182701082791j)], [(4.8033478091954969-0.92495273204950945j)], [(4.5677684513733068-0.918381978216953j)], [(4.3346750063904764-0.91063646924897546j)], [(4.1052277194466695-0.90101040944521849j)], [(3.8814958575160263-0.88899691093329636j)], [(3.6662901824248366-0.87494632837546438j)], [(3.4622567126583665-0.86047256093346358j)], [(3.2708697732820666-0.84797930667052701j)], [(3.0922699867749484-0.83978604785702027j)], [(2.9257962923875875-0.83773328098448296j)], [(2.7705869716422944-0.84326399992566492j)], [(2.6262271839280289-0.85757176936093249j)], [(2.4940265655358189-0.88184889209401585j)]]\n",
      "X :  [7000000000000.0, 6950000000000.0, 6850000000000.0, 6650000000000.0, 6450000000000.0, 6250000000000.0, 6050000000000.0, 5850000000000.0, 5650000000000.0, 5450000000000.0, 5250000000000.0, 5050000000000.0, 4850000000000.0, 4650000000000.0, 4450000000000.0, 4250000000000.0, 4050000000000.0, 3850000000000.0, 3650000000000.0, 3450000000000.0, 3250000000000.0, 3050000000000.0, 2850000000000.0, 2650000000000.0, 2450000000000.0, 2250000000000.0, 2150000000000.0, 1950000000000.0, 1750000000000.0]\n",
      "Y :  [[(8.0232073158584836-1.0038177634322727j)], [(7.9580318024293435-1.002165067653527j)], [(7.8280933139952493-0.99888371498477257j)], [(7.5698373817955931-0.99241010085502668j)], [(7.3136932127065855-0.98604443809278242j)], [(7.0596085026341342-0.97977554145591095j)], [(6.8075371305561374-0.97359284654969247j)], [(6.5574373335614329-0.96748716557405556j)], [(6.3092748166396113-0.9614511664337817j)], [(6.0630218535066458-0.95547378216544254j)], [(5.8186517398008499-0.94954680963997151j)], [(5.5761431695747739-0.94367608673403425j)], [(5.3354794279992186-0.9378981947347097j)], [(5.0966347273222867-0.93231809097391694j)], [(4.8595367153326663-0.92717364591425044j)], [(4.6239798167363606-0.92292684758583232j)], [(4.3894683045966207-0.92037244078827407j)], [(4.1549808394212153-0.92075737918946254j)], [(3.9186483599056778-0.92593117488577226j)], [(3.677312941318621-0.93859549972758227j)], [(3.4258647371236117-0.96275710941544779j)], [(3.156208709294305-1.0045366154869255j)], [(2.8558165992984978-1.0738046274833923j)], [(2.5063563688924888-1.1885645297305534j)], [(2.0864234574600857-1.3890167237969169j)], [(1.6132893151693599-1.764693595219101j)], [(1.4010187694041538-2.0378203118915641j)], [(1.0870202432253238-2.678253372039892j)], [(0.86679846672573735-3.391184462235231j)]]\n",
      "X :  [7000000000000.0, 6950000000000.0, 6850000000000.0, 6650000000000.0, 6450000000000.0, 6250000000000.0, 6050000000000.0, 5850000000000.0, 5650000000000.0, 5450000000000.0, 5250000000000.0, 5050000000000.0, 4850000000000.0, 4650000000000.0, 4450000000000.0, 4250000000000.0, 4050000000000.0, 3850000000000.0, 3650000000000.0, 3450000000000.0, 3250000000000.0, 3050000000000.0, 2850000000000.0]\n",
      "Y :  [[(6.5956702117118349-0.78791361784606873j)], [(6.5435530246973519-0.78802249083072595j)], [(6.4391320917083572-0.78834760985526786j)], [(6.2293811334969185-0.7894861249931886j)], [(6.0180579613309053-0.79141024897694101j)], [(5.8046345497448524-0.79432853850880258j)], [(5.5884413350732611-0.79852240627067517j)], [(5.368619202567892-0.80437522758025648j)], [(5.1440509634386773-0.81241607687996109j)], [(4.9132683828200285-0.82338117543705347j)], [(4.6743175995161046-0.8383148983460913j)], [(4.4245647702757411-0.85871531442195226j)], [(4.1604339167452462-0.88679535356905737j)], [(3.877037422780544-0.92593969254811115j)], [(3.5677148568018668-0.98160065240720229j)], [(3.2235927485300775-1.0632398312221838j)], [(2.8341879494083608-1.1885173849669517j)], [(2.3933563458327187-1.3918629656390147j)], [(1.9259998070949513-1.7293820301048439j)], [(1.5244979731893422-2.2249726788156909j)], [(1.2579908774963218-2.7964485872495111j)], [(1.090583547827632-3.369443675168363j)], [(0.97124111072225883-3.9370616183026201j)]]\n",
      "X :  [7000000000000.0, 6950000000000.0, 6850000000000.0, 6650000000000.0, 6450000000000.0, 6250000000000.0, 6050000000000.0, 5850000000000.0, 5650000000000.0, 5450000000000.0, 5250000000000.0, 5050000000000.0, 4850000000000.0, 4650000000000.0, 4450000000000.0, 4250000000000.0, 4050000000000.0]\n",
      "Y :  [[(6.2737880213737869-0.83870302667178354j)], [(6.2130298312009069-0.84076827627467954j)], [(6.0903511298235351-0.84530657527834485j)], [(5.8397096988549269-0.85626279522147908j)], [(5.580619695053235-0.87030920913645859j)], [(5.3110009133316254-0.88837921927722785j)], [(5.0281827942839818-0.91179539888921979j)], [(4.7286956697010751-0.94249855324883391j)], [(4.4079744733559121-0.98345432903454566j)], [(4.0599805372069566-1.039443234787458j)], [(3.6767770262152428-1.1186428471058749j)], [(3.2486663163422-1.2359996001677609j)], [(2.7675710930930602-1.4201967346649025j)], [(2.2445842948598753-1.7225236426241923j)], [(1.752594825411963-2.1916902252273749j)], [(1.3947765144486235-2.7794959465476055j)], [(1.1752519990458639-3.3840511444019041j)]]\n",
      "X :  [7000000000000.0, 6950000000000.0, 6850000000000.0, 6650000000000.0, 6450000000000.0, 6250000000000.0, 6050000000000.0, 5850000000000.0, 5650000000000.0, 5450000000000.0, 5250000000000.0, 5050000000000.0, 4850000000000.0]\n",
      "Y :  [[(5.722674439701902-0.93216942168447792j)], [(5.6464262552655367-0.93829747873521585j)], [(5.4908645252106938-0.95174727681905913j)], [(5.1657822429627718-0.98437391926430307j)], [(4.8182412765899674-1.0271412924220784j)], [(4.4423714911030308-1.0846159873516263j)], [(4.0305299081864217-1.164515743117954j)], [(3.5733189335176081-1.2807297582230945j)], [(3.0622557973877278-1.4595334940394458j)], [(2.5039824932274826-1.7484192778097865j)], [(1.9589728516656573-2.2006276441259631j)], [(1.5326326870612297-2.789266340286265j)], None]\n",
      "----------------------------------------------------------------------------------------------------\n",
      "frequency: 3850000000000.0   k_init: (1.0940212792-4.00535581879j)\n"
     ]
    },
    {
     "data": {
      "text/latex": [
       "$$Eqs_\\text{ freespace } = \\left[\\begin{matrix}376.730313461771 H_{{y}} + 1.23931043097063 \\cdot 10^{-5} i \\frac{d}{d x} E_{{z}}\\\\- 376.730313461771 H_{{x}} + 1.23931043097063 \\cdot 10^{-5} i \\frac{d}{d y} E_{{z}}\\\\- 0.00265441872943807 E_{{y}} + 1.23931043097063 \\cdot 10^{-5} i \\frac{d}{d x} H_{{z}}\\\\0.00265441872943807 E_{{x}} + 1.23931043097063 \\cdot 10^{-5} i \\frac{d}{d y} H_{{z}}\\\\- 214.185135790322 i E_{{z}} - \\frac{d}{d y} H_{{x}} + \\frac{d}{d x} H_{{y}}\\\\30398381.5553552 i H_{{z}} - \\frac{d}{d y} E_{{x}} + \\frac{d}{d x} E_{{y}}\\end{matrix}\\right]$$"
      ],
      "text/plain": [
       "<IPython.core.display.Math at 0x7f537acde9b0>"
      ]
     },
     "metadata": {},
     "output_type": "display_data"
    },
    {
     "name": "stdout",
     "output_type": "stream",
     "text": [
      "Eq1 boundary equations \n"
     ]
    },
    {
     "data": {
      "text/latex": [
       "$$EQs_\\text{ freespace }-b[0] = \\left[\\begin{matrix}376.730313461771 H_{{y}} & 1.23931043097063 \\cdot 10^{-5} i \\frac{d}{d x} E_{{z}}\\end{matrix}\\right]$$"
      ],
      "text/plain": [
       "<IPython.core.display.Math at 0x7f537ace9978>"
      ]
     },
     "metadata": {},
     "output_type": "display_data"
    },
    {
     "data": {
      "text/latex": [
       "$$EQs_\\text{ freespace }-b[1] = \\left[\\begin{matrix}- 376.730313461771 H_{{x}} & 1.23931043097063 \\cdot 10^{-5} i \\frac{d}{d y} E_{{z}}\\end{matrix}\\right]$$"
      ],
      "text/plain": [
       "<IPython.core.display.Math at 0x7f537acde710>"
      ]
     },
     "metadata": {},
     "output_type": "display_data"
    },
    {
     "data": {
      "text/latex": [
       "$$EQs_\\text{ freespace }-b[2] = \\left[\\begin{matrix}- 0.00265441872943807 E_{{y}} & 1.23931043097063 \\cdot 10^{-5} i \\frac{d}{d x} H_{{z}}\\end{matrix}\\right]$$"
      ],
      "text/plain": [
       "<IPython.core.display.Math at 0x7f537acde710>"
      ]
     },
     "metadata": {},
     "output_type": "display_data"
    },
    {
     "data": {
      "text/latex": [
       "$$EQs_\\text{ freespace }-b[3] = \\left[\\begin{matrix}0.00265441872943807 E_{{x}} & 1.23931043097063 \\cdot 10^{-5} i \\frac{d}{d y} H_{{z}}\\end{matrix}\\right]$$"
      ],
      "text/plain": [
       "<IPython.core.display.Math at 0x7f537a9d6630>"
      ]
     },
     "metadata": {},
     "output_type": "display_data"
    },
    {
     "data": {
      "text/latex": [
       "$$EQs_\\text{ freespace }-b[4] = \\left[\\begin{matrix}- 214.185135790322 i E_{{z}} & - \\frac{d}{d y} H_{{x}} & \\frac{d}{d x} H_{{y}}\\end{matrix}\\right]$$"
      ],
      "text/plain": [
       "<IPython.core.display.Math at 0x7f537acde710>"
      ]
     },
     "metadata": {},
     "output_type": "display_data"
    },
    {
     "data": {
      "text/latex": [
       "$$EQs_\\text{ freespace }-b[5] = \\left[\\begin{matrix}30398381.5553552 i H_{{z}} & - \\frac{d}{d y} E_{{x}} & \\frac{d}{d x} E_{{y}}\\end{matrix}\\right]$$"
      ],
      "text/plain": [
       "<IPython.core.display.Math at 0x7f537a9d6630>"
      ]
     },
     "metadata": {},
     "output_type": "display_data"
    },
    {
     "name": "stdout",
     "output_type": "stream",
     "text": [
      "[[(6109.5116088852292-28423.40021339048j), 0.0, (-3592.0941681385834-1587.5345727222032j)], [0.0, 0.0, 0.0], [(3592.0941681385834+1587.5345727222032j), 0.0, (6109.5116088852292-28423.40021339048j)]]\n"
     ]
    },
    {
     "data": {
      "text/latex": [
       "$$Eqs_\\text{ graphene } = \\left[\\begin{matrix}376.730313461771 H_{{y}} + 1.23931043097063 \\cdot 10^{-5} i \\frac{d}{d x} E_{{z}}\\\\- 376.730313461771 H_{{x}} + 1.23931043097063 \\cdot 10^{-5} i \\frac{d}{d y} E_{{z}}\\\\- 0.00265441872943807 E_{{y}} + 1.23931043097063 \\cdot 10^{-5} i \\frac{d}{d x} H_{{z}}\\\\- 0.34959974495164 E_{{x}} - 0.0757158146502765 i E_{{x}} - 0.0196744815550114 E_{{z}} + 0.0445171977160293 i E_{{z}} + 1.23931043097063 \\cdot 10^{-5} i \\frac{d}{d y} H_{{z}}\\\\- 3592.09416813858 E_{{x}} - 1587.5345727222 i E_{{x}} - 6109.51160888523 E_{{z}} + 28209.2150776002 i E_{{z}} - \\frac{d}{d y} H_{{x}} + \\frac{d}{d x} H_{{y}}\\\\30398381.5553552 i H_{{z}} - \\frac{d}{d y} E_{{x}} + \\frac{d}{d x} E_{{y}}\\end{matrix}\\right]$$"
      ],
      "text/plain": [
       "<IPython.core.display.Math at 0x7f537abe2160>"
      ]
     },
     "metadata": {},
     "output_type": "display_data"
    },
    {
     "name": "stdout",
     "output_type": "stream",
     "text": [
      "Eq1 boundary equations \n"
     ]
    },
    {
     "data": {
      "text/latex": [
       "$$EQs_\\text{ graphene }-b[0] = \\left[\\begin{matrix}376.730313461771 H_{{y}} & 1.23931043097063 \\cdot 10^{-5} i \\frac{d}{d x} E_{{z}}\\end{matrix}\\right]$$"
      ],
      "text/plain": [
       "<IPython.core.display.Math at 0x7f53751dfcf8>"
      ]
     },
     "metadata": {},
     "output_type": "display_data"
    },
    {
     "data": {
      "text/latex": [
       "$$EQs_\\text{ graphene }-b[1] = \\left[\\begin{matrix}- 376.730313461771 H_{{x}} & 1.23931043097063 \\cdot 10^{-5} i \\frac{d}{d y} E_{{z}}\\end{matrix}\\right]$$"
      ],
      "text/plain": [
       "<IPython.core.display.Math at 0x7f53751dfdd8>"
      ]
     },
     "metadata": {},
     "output_type": "display_data"
    },
    {
     "data": {
      "text/latex": [
       "$$EQs_\\text{ graphene }-b[2] = \\left[\\begin{matrix}0 & - 0.00265441872943807 E_{{y}} & 0 & 1.23931043097063 \\cdot 10^{-5} i \\frac{d}{d x} H_{{z}}\\end{matrix}\\right]$$"
      ],
      "text/plain": [
       "<IPython.core.display.Math at 0x7f53751dfcf8>"
      ]
     },
     "metadata": {},
     "output_type": "display_data"
    },
    {
     "data": {
      "text/latex": [
       "$$EQs_\\text{ graphene }-b[3] = \\left[\\begin{matrix}1.23931043097063 \\cdot 10^{-5} E_{{x}} \\left(214.185135790322 - i \\left(6109.51160888523 - 28423.4002133905 i\\right)\\right) & 0 & - 1.23931043097063 \\cdot 10^{-5} i E_{{z}} \\left(-3592.09416813858 - 1587.5345727222 i\\right) & 1.23931043097063 \\cdot 10^{-5} i \\frac{d}{d y} H_{{z}}\\end{matrix}\\right]$$"
      ],
      "text/plain": [
       "<IPython.core.display.Math at 0x7f53751dfdd8>"
      ]
     },
     "metadata": {},
     "output_type": "display_data"
    },
    {
     "data": {
      "text/latex": [
       "$$EQs_\\text{ graphene }-b[4] = \\left[\\begin{matrix}- E_{{x}} \\left(3592.09416813858 + 1587.5345727222 i\\right) & 0 & - E_{{z}} \\left(6109.51160888523 - 28209.2150776002 i\\right) & - \\frac{d}{d y} H_{{x}} & \\frac{d}{d x} H_{{y}}\\end{matrix}\\right]$$"
      ],
      "text/plain": [
       "<IPython.core.display.Math at 0x7f53751dfcf8>"
      ]
     },
     "metadata": {},
     "output_type": "display_data"
    },
    {
     "data": {
      "text/latex": [
       "$$EQs_\\text{ graphene }-b[5] = \\left[\\begin{matrix}30398381.5553552 i H_{{z}} & - \\frac{d}{d y} E_{{x}} & \\frac{d}{d x} E_{{y}}\\end{matrix}\\right]$$"
      ],
      "text/plain": [
       "<IPython.core.display.Math at 0x7f53751dfdd8>"
      ]
     },
     "metadata": {},
     "output_type": "display_data"
    },
    {
     "name": "stdout",
     "output_type": "stream",
     "text": [
      "initial matrix nnz 1843027 0:00:17\n",
      "initial matrix shared nnz 2219743 0:00:13\n",
      "final matrix (application of boundary conditions) nnz:  2219267 0:00:03\n",
      "A_11.shape:  (157356, 157356) A_11.nnz:  157356\n",
      "warning: this inversion mechanism only works for diagonal matrices\n",
      "eliminating z components 0:00:01\n",
      "A_reduced nnz:  2947718\n",
      "solving eigenvalues 0:02:59\n",
      "[ 1.04241386-3.96113244j]\n",
      "(359926, 1)\n",
      "0 3 x_correlation:  (-0.572090904399+0.818439540883j)     abs(x_correlation):  0.99856461232\n",
      "k_correlation_r:  0.0471722257273     k_correlation_i:  0.0110410604275\n",
      "X :  [7000000000000.0, 6950000000000.0, 6850000000000.0, 6650000000000.0, 6450000000000.0, 6250000000000.0, 6050000000000.0, 5850000000000.0, 5650000000000.0, 5450000000000.0, 5250000000000.0, 5050000000000.0, 4850000000000.0, 4650000000000.0, 4450000000000.0, 4250000000000.0, 4050000000000.0, 3850000000000.0, 3650000000000.0, 3450000000000.0, 3250000000000.0, 3050000000000.0, 2850000000000.0, 2650000000000.0, 2450000000000.0, 2250000000000.0, 2050000000000.0, 1850000000000.0, 1650000000000.0, 1450000000000.0, 1250000000000.0]\n",
      "Y :  [[(9.0264198593920089-1.0265850275942863j)], [(8.9591509490803887-1.0248428143216293j)], [(8.8250554453441765-1.0213873265953377j)], [(8.5585964224031823-1.0145863243291824j)], [(8.2943834560896317-1.0079245347408612j)], [(8.0323500935623926-1.0013955543194086j)], [(7.7724369581080106-0.99499398313867937j)], [(7.514589631061205-0.98871676944562481j)], [(7.258763165805771-0.98256238682030228j)], [(7.0049175938053851-0.97652130310611174j)], [(6.7530093091440699-0.97058404763619255j)], [(6.5029986638359283-0.96474407348038327j)], [(6.2548497421581803-0.95899303239179656j)], [(6.0085276451703766-0.95332020226361569j)], [(5.7639986714177329-0.94771148236624303j)], [(5.5212310019493929-0.94214330023901227j)], [(5.2801971939104995-0.93657063085066661j)], [(5.0408877459070469-0.93090182701082791j)], [(4.8033478091954969-0.92495273204950945j)], [(4.5677684513733068-0.918381978216953j)], [(4.3346750063904764-0.91063646924897546j)], [(4.1052277194466695-0.90101040944521849j)], [(3.8814958575160263-0.88899691093329636j)], [(3.6662901824248366-0.87494632837546438j)], [(3.4622567126583665-0.86047256093346358j)], [(3.2708697732820666-0.84797930667052701j)], [(3.0922699867749484-0.83978604785702027j)], [(2.9257962923875875-0.83773328098448296j)], [(2.7705869716422944-0.84326399992566492j)], [(2.6262271839280289-0.85757176936093249j)], [(2.4940265655358189-0.88184889209401585j)]]\n",
      "X :  [7000000000000.0, 6950000000000.0, 6850000000000.0, 6650000000000.0, 6450000000000.0, 6250000000000.0, 6050000000000.0, 5850000000000.0, 5650000000000.0, 5450000000000.0, 5250000000000.0, 5050000000000.0, 4850000000000.0, 4650000000000.0, 4450000000000.0, 4250000000000.0, 4050000000000.0, 3850000000000.0, 3650000000000.0, 3450000000000.0, 3250000000000.0, 3050000000000.0, 2850000000000.0, 2650000000000.0, 2450000000000.0, 2250000000000.0, 2150000000000.0, 1950000000000.0, 1750000000000.0]\n",
      "Y :  [[(8.0232073158584836-1.0038177634322727j)], [(7.9580318024293435-1.002165067653527j)], [(7.8280933139952493-0.99888371498477257j)], [(7.5698373817955931-0.99241010085502668j)], [(7.3136932127065855-0.98604443809278242j)], [(7.0596085026341342-0.97977554145591095j)], [(6.8075371305561374-0.97359284654969247j)], [(6.5574373335614329-0.96748716557405556j)], [(6.3092748166396113-0.9614511664337817j)], [(6.0630218535066458-0.95547378216544254j)], [(5.8186517398008499-0.94954680963997151j)], [(5.5761431695747739-0.94367608673403425j)], [(5.3354794279992186-0.9378981947347097j)], [(5.0966347273222867-0.93231809097391694j)], [(4.8595367153326663-0.92717364591425044j)], [(4.6239798167363606-0.92292684758583232j)], [(4.3894683045966207-0.92037244078827407j)], [(4.1549808394212153-0.92075737918946254j)], [(3.9186483599056778-0.92593117488577226j)], [(3.677312941318621-0.93859549972758227j)], [(3.4258647371236117-0.96275710941544779j)], [(3.156208709294305-1.0045366154869255j)], [(2.8558165992984978-1.0738046274833923j)], [(2.5063563688924888-1.1885645297305534j)], [(2.0864234574600857-1.3890167237969169j)], [(1.6132893151693599-1.764693595219101j)], [(1.4010187694041538-2.0378203118915641j)], [(1.0870202432253238-2.678253372039892j)], [(0.86679846672573735-3.391184462235231j)]]\n",
      "X :  [7000000000000.0, 6950000000000.0, 6850000000000.0, 6650000000000.0, 6450000000000.0, 6250000000000.0, 6050000000000.0, 5850000000000.0, 5650000000000.0, 5450000000000.0, 5250000000000.0, 5050000000000.0, 4850000000000.0, 4650000000000.0, 4450000000000.0, 4250000000000.0, 4050000000000.0, 3850000000000.0, 3650000000000.0, 3450000000000.0, 3250000000000.0, 3050000000000.0, 2850000000000.0]\n",
      "Y :  [[(6.5956702117118349-0.78791361784606873j)], [(6.5435530246973519-0.78802249083072595j)], [(6.4391320917083572-0.78834760985526786j)], [(6.2293811334969185-0.7894861249931886j)], [(6.0180579613309053-0.79141024897694101j)], [(5.8046345497448524-0.79432853850880258j)], [(5.5884413350732611-0.79852240627067517j)], [(5.368619202567892-0.80437522758025648j)], [(5.1440509634386773-0.81241607687996109j)], [(4.9132683828200285-0.82338117543705347j)], [(4.6743175995161046-0.8383148983460913j)], [(4.4245647702757411-0.85871531442195226j)], [(4.1604339167452462-0.88679535356905737j)], [(3.877037422780544-0.92593969254811115j)], [(3.5677148568018668-0.98160065240720229j)], [(3.2235927485300775-1.0632398312221838j)], [(2.8341879494083608-1.1885173849669517j)], [(2.3933563458327187-1.3918629656390147j)], [(1.9259998070949513-1.7293820301048439j)], [(1.5244979731893422-2.2249726788156909j)], [(1.2579908774963218-2.7964485872495111j)], [(1.090583547827632-3.369443675168363j)], [(0.97124111072225883-3.9370616183026201j)]]\n",
      "X :  [7000000000000.0, 6950000000000.0, 6850000000000.0, 6650000000000.0, 6450000000000.0, 6250000000000.0, 6050000000000.0, 5850000000000.0, 5650000000000.0, 5450000000000.0, 5250000000000.0, 5050000000000.0, 4850000000000.0, 4650000000000.0, 4450000000000.0, 4250000000000.0, 4050000000000.0, 3850000000000.0]\n",
      "Y :  [[(6.2737880213737869-0.83870302667178354j)], [(6.2130298312009069-0.84076827627467954j)], [(6.0903511298235351-0.84530657527834485j)], [(5.8397096988549269-0.85626279522147908j)], [(5.580619695053235-0.87030920913645859j)], [(5.3110009133316254-0.88837921927722785j)], [(5.0281827942839818-0.91179539888921979j)], [(4.7286956697010751-0.94249855324883391j)], [(4.4079744733559121-0.98345432903454566j)], [(4.0599805372069566-1.039443234787458j)], [(3.6767770262152428-1.1186428471058749j)], [(3.2486663163422-1.2359996001677609j)], [(2.7675710930930602-1.4201967346649025j)], [(2.2445842948598753-1.7225236426241923j)], [(1.752594825411963-2.1916902252273749j)], [(1.3947765144486235-2.7794959465476055j)], [(1.1752519990458639-3.3840511444019041j)], [(1.0424138604705955-3.9611324431614059j)]]\n",
      "X :  [7000000000000.0, 6950000000000.0, 6850000000000.0, 6650000000000.0, 6450000000000.0, 6250000000000.0, 6050000000000.0, 5850000000000.0, 5650000000000.0, 5450000000000.0, 5250000000000.0, 5050000000000.0, 4850000000000.0]\n",
      "Y :  [[(5.722674439701902-0.93216942168447792j)], [(5.6464262552655367-0.93829747873521585j)], [(5.4908645252106938-0.95174727681905913j)], [(5.1657822429627718-0.98437391926430307j)], [(4.8182412765899674-1.0271412924220784j)], [(4.4423714911030308-1.0846159873516263j)], [(4.0305299081864217-1.164515743117954j)], [(3.5733189335176081-1.2807297582230945j)], [(3.0622557973877278-1.4595334940394458j)], [(2.5039824932274826-1.7484192778097865j)], [(1.9589728516656573-2.2006276441259631j)], [(1.5326326870612297-2.789266340286265j)], None]\n",
      "----------------------------------------------------------------------------------------------------\n",
      "frequency: 3650000000000.0   k_init: (0.996262098723-4.51073984283j)\n"
     ]
    },
    {
     "data": {
      "text/latex": [
       "$$Eqs_\\text{ freespace } = \\left[\\begin{matrix}376.730313461771 H_{{y}} + 1.30721785184574 \\cdot 10^{-5} i \\frac{d}{d x} E_{{z}}\\\\- 376.730313461771 H_{{x}} + 1.30721785184574 \\cdot 10^{-5} i \\frac{d}{d y} E_{{z}}\\\\- 0.00265441872943807 E_{{y}} + 1.30721785184574 \\cdot 10^{-5} i \\frac{d}{d x} H_{{z}}\\\\0.00265441872943807 E_{{x}} + 1.30721785184574 \\cdot 10^{-5} i \\frac{d}{d y} H_{{z}}\\\\- 203.058635229785 i E_{{z}} - \\frac{d}{d y} H_{{x}} + \\frac{d}{d x} H_{{y}}\\\\28819244.8511809 i H_{{z}} - \\frac{d}{d y} E_{{x}} + \\frac{d}{d x} E_{{y}}\\end{matrix}\\right]$$"
      ],
      "text/plain": [
       "<IPython.core.display.Math at 0x7f5375209860>"
      ]
     },
     "metadata": {},
     "output_type": "display_data"
    },
    {
     "name": "stdout",
     "output_type": "stream",
     "text": [
      "Eq1 boundary equations \n"
     ]
    },
    {
     "data": {
      "text/latex": [
       "$$EQs_\\text{ freespace }-b[0] = \\left[\\begin{matrix}376.730313461771 H_{{y}} & 1.30721785184574 \\cdot 10^{-5} i \\frac{d}{d x} E_{{z}}\\end{matrix}\\right]$$"
      ],
      "text/plain": [
       "<IPython.core.display.Math at 0x7f537abe2a20>"
      ]
     },
     "metadata": {},
     "output_type": "display_data"
    },
    {
     "data": {
      "text/latex": [
       "$$EQs_\\text{ freespace }-b[1] = \\left[\\begin{matrix}- 376.730313461771 H_{{x}} & 1.30721785184574 \\cdot 10^{-5} i \\frac{d}{d y} E_{{z}}\\end{matrix}\\right]$$"
      ],
      "text/plain": [
       "<IPython.core.display.Math at 0x7f537abe2208>"
      ]
     },
     "metadata": {},
     "output_type": "display_data"
    },
    {
     "data": {
      "text/latex": [
       "$$EQs_\\text{ freespace }-b[2] = \\left[\\begin{matrix}- 0.00265441872943807 E_{{y}} & 1.30721785184574 \\cdot 10^{-5} i \\frac{d}{d x} H_{{z}}\\end{matrix}\\right]$$"
      ],
      "text/plain": [
       "<IPython.core.display.Math at 0x7f537ac22048>"
      ]
     },
     "metadata": {},
     "output_type": "display_data"
    },
    {
     "data": {
      "text/latex": [
       "$$EQs_\\text{ freespace }-b[3] = \\left[\\begin{matrix}0.00265441872943807 E_{{x}} & 1.30721785184574 \\cdot 10^{-5} i \\frac{d}{d y} H_{{z}}\\end{matrix}\\right]$$"
      ],
      "text/plain": [
       "<IPython.core.display.Math at 0x7f537ac22048>"
      ]
     },
     "metadata": {},
     "output_type": "display_data"
    },
    {
     "data": {
      "text/latex": [
       "$$EQs_\\text{ freespace }-b[4] = \\left[\\begin{matrix}- 203.058635229785 i E_{{z}} & - \\frac{d}{d y} H_{{x}} & \\frac{d}{d x} H_{{y}}\\end{matrix}\\right]$$"
      ],
      "text/plain": [
       "<IPython.core.display.Math at 0x7f537ac22048>"
      ]
     },
     "metadata": {},
     "output_type": "display_data"
    },
    {
     "data": {
      "text/latex": [
       "$$EQs_\\text{ freespace }-b[5] = \\left[\\begin{matrix}28819244.8511809 i H_{{z}} & - \\frac{d}{d y} E_{{x}} & \\frac{d}{d x} E_{{y}}\\end{matrix}\\right]$$"
      ],
      "text/plain": [
       "<IPython.core.display.Math at 0x7f537ac22048>"
      ]
     },
     "metadata": {},
     "output_type": "display_data"
    },
    {
     "name": "stdout",
     "output_type": "stream",
     "text": [
      "[[(6802.2470817436424-29884.671689305018j), 0.0, (-3944.0168145429107-1852.6810484537186j)], [0.0, 0.0, 0.0], [(3944.0168145429107+1852.6810484537186j), 0.0, (6802.2470817436424-29884.671689305018j)]]\n"
     ]
    },
    {
     "data": {
      "text/latex": [
       "$$Eqs_\\text{ graphene } = \\left[\\begin{matrix}376.730313461771 H_{{y}} + 1.30721785184574 \\cdot 10^{-5} i \\frac{d}{d x} E_{{z}}\\\\- 376.730313461771 H_{{x}} + 1.30721785184574 \\cdot 10^{-5} i \\frac{d}{d y} E_{{z}}\\\\- 0.00265441872943807 E_{{y}} + 1.30721785184574 \\cdot 10^{-5} i \\frac{d}{d x} H_{{z}}\\\\- 0.388003344558646 E_{{x}} - 0.0889201881792086 i E_{{x}} - 0.0242185774031498 E_{{z}} + 0.0515568918795025 i E_{{z}} + 1.30721785184574 \\cdot 10^{-5} i \\frac{d}{d y} H_{{z}}\\\\- 3944.01681454291 E_{{x}} - 1852.68104845372 i E_{{x}} - 6802.24708174364 E_{{z}} + 29681.6130540752 i E_{{z}} - \\frac{d}{d y} H_{{x}} + \\frac{d}{d x} H_{{y}}\\\\28819244.8511809 i H_{{z}} - \\frac{d}{d y} E_{{x}} + \\frac{d}{d x} E_{{y}}\\end{matrix}\\right]$$"
      ],
      "text/plain": [
       "<IPython.core.display.Math at 0x7f537aa13080>"
      ]
     },
     "metadata": {},
     "output_type": "display_data"
    },
    {
     "name": "stdout",
     "output_type": "stream",
     "text": [
      "Eq1 boundary equations \n"
     ]
    },
    {
     "data": {
      "text/latex": [
       "$$EQs_\\text{ graphene }-b[0] = \\left[\\begin{matrix}376.730313461771 H_{{y}} & 1.30721785184574 \\cdot 10^{-5} i \\frac{d}{d x} E_{{z}}\\end{matrix}\\right]$$"
      ],
      "text/plain": [
       "<IPython.core.display.Math at 0x7f537abe2630>"
      ]
     },
     "metadata": {},
     "output_type": "display_data"
    },
    {
     "data": {
      "text/latex": [
       "$$EQs_\\text{ graphene }-b[1] = \\left[\\begin{matrix}- 376.730313461771 H_{{x}} & 1.30721785184574 \\cdot 10^{-5} i \\frac{d}{d y} E_{{z}}\\end{matrix}\\right]$$"
      ],
      "text/plain": [
       "<IPython.core.display.Math at 0x7f537abe2198>"
      ]
     },
     "metadata": {},
     "output_type": "display_data"
    },
    {
     "data": {
      "text/latex": [
       "$$EQs_\\text{ graphene }-b[2] = \\left[\\begin{matrix}0 & - 0.00265441872943807 E_{{y}} & 0 & 1.30721785184574 \\cdot 10^{-5} i \\frac{d}{d x} H_{{z}}\\end{matrix}\\right]$$"
      ],
      "text/plain": [
       "<IPython.core.display.Math at 0x7f537abe2630>"
      ]
     },
     "metadata": {},
     "output_type": "display_data"
    },
    {
     "data": {
      "text/latex": [
       "$$EQs_\\text{ graphene }-b[3] = \\left[\\begin{matrix}1.30721785184574 \\cdot 10^{-5} E_{{x}} \\left(203.058635229785 - i \\left(6802.24708174364 - 29884.671689305 i\\right)\\right) & 0 & - 1.30721785184574 \\cdot 10^{-5} i E_{{z}} \\left(-3944.01681454291 - 1852.68104845372 i\\right) & 1.30721785184574 \\cdot 10^{-5} i \\frac{d}{d y} H_{{z}}\\end{matrix}\\right]$$"
      ],
      "text/plain": [
       "<IPython.core.display.Math at 0x7f537abe2198>"
      ]
     },
     "metadata": {},
     "output_type": "display_data"
    },
    {
     "data": {
      "text/latex": [
       "$$EQs_\\text{ graphene }-b[4] = \\left[\\begin{matrix}- E_{{x}} \\left(3944.01681454291 + 1852.68104845372 i\\right) & 0 & - E_{{z}} \\left(6802.24708174364 - 29681.6130540752 i\\right) & - \\frac{d}{d y} H_{{x}} & \\frac{d}{d x} H_{{y}}\\end{matrix}\\right]$$"
      ],
      "text/plain": [
       "<IPython.core.display.Math at 0x7f537abe2630>"
      ]
     },
     "metadata": {},
     "output_type": "display_data"
    },
    {
     "data": {
      "text/latex": [
       "$$EQs_\\text{ graphene }-b[5] = \\left[\\begin{matrix}28819244.8511809 i H_{{z}} & - \\frac{d}{d y} E_{{x}} & \\frac{d}{d x} E_{{y}}\\end{matrix}\\right]$$"
      ],
      "text/plain": [
       "<IPython.core.display.Math at 0x7f537abe2198>"
      ]
     },
     "metadata": {},
     "output_type": "display_data"
    },
    {
     "name": "stdout",
     "output_type": "stream",
     "text": [
      "initial matrix nnz 1843027 0:00:16\n",
      "initial matrix shared nnz 2219743 0:00:14\n",
      "final matrix (application of boundary conditions) nnz:  2219267 0:00:05\n",
      "A_11.shape:  (157356, 157356) A_11.nnz:  157356\n",
      "warning: this inversion mechanism only works for diagonal matrices\n",
      "eliminating z components 0:00:02\n",
      "A_reduced nnz:  2947492\n",
      "solving eigenvalues 0:05:32\n",
      "[ 0.94813106-4.50732271j]\n",
      "(359926, 1)\n",
      "0 3 x_correlation:  (-0.518499868817-0.853703739276j)     abs(x_correlation):  0.998825404371\n",
      "k_correlation_r:  0.0483116180393     k_correlation_i:  0.000757555263457\n",
      "X :  [7000000000000.0, 6950000000000.0, 6850000000000.0, 6650000000000.0, 6450000000000.0, 6250000000000.0, 6050000000000.0, 5850000000000.0, 5650000000000.0, 5450000000000.0, 5250000000000.0, 5050000000000.0, 4850000000000.0, 4650000000000.0, 4450000000000.0, 4250000000000.0, 4050000000000.0, 3850000000000.0, 3650000000000.0, 3450000000000.0, 3250000000000.0, 3050000000000.0, 2850000000000.0, 2650000000000.0, 2450000000000.0, 2250000000000.0, 2050000000000.0, 1850000000000.0, 1650000000000.0, 1450000000000.0, 1250000000000.0]\n",
      "Y :  [[(9.0264198593920089-1.0265850275942863j)], [(8.9591509490803887-1.0248428143216293j)], [(8.8250554453441765-1.0213873265953377j)], [(8.5585964224031823-1.0145863243291824j)], [(8.2943834560896317-1.0079245347408612j)], [(8.0323500935623926-1.0013955543194086j)], [(7.7724369581080106-0.99499398313867937j)], [(7.514589631061205-0.98871676944562481j)], [(7.258763165805771-0.98256238682030228j)], [(7.0049175938053851-0.97652130310611174j)], [(6.7530093091440699-0.97058404763619255j)], [(6.5029986638359283-0.96474407348038327j)], [(6.2548497421581803-0.95899303239179656j)], [(6.0085276451703766-0.95332020226361569j)], [(5.7639986714177329-0.94771148236624303j)], [(5.5212310019493929-0.94214330023901227j)], [(5.2801971939104995-0.93657063085066661j)], [(5.0408877459070469-0.93090182701082791j)], [(4.8033478091954969-0.92495273204950945j)], [(4.5677684513733068-0.918381978216953j)], [(4.3346750063904764-0.91063646924897546j)], [(4.1052277194466695-0.90101040944521849j)], [(3.8814958575160263-0.88899691093329636j)], [(3.6662901824248366-0.87494632837546438j)], [(3.4622567126583665-0.86047256093346358j)], [(3.2708697732820666-0.84797930667052701j)], [(3.0922699867749484-0.83978604785702027j)], [(2.9257962923875875-0.83773328098448296j)], [(2.7705869716422944-0.84326399992566492j)], [(2.6262271839280289-0.85757176936093249j)], [(2.4940265655358189-0.88184889209401585j)]]\n",
      "X :  [7000000000000.0, 6950000000000.0, 6850000000000.0, 6650000000000.0, 6450000000000.0, 6250000000000.0, 6050000000000.0, 5850000000000.0, 5650000000000.0, 5450000000000.0, 5250000000000.0, 5050000000000.0, 4850000000000.0, 4650000000000.0, 4450000000000.0, 4250000000000.0, 4050000000000.0, 3850000000000.0, 3650000000000.0, 3450000000000.0, 3250000000000.0, 3050000000000.0, 2850000000000.0, 2650000000000.0, 2450000000000.0, 2250000000000.0, 2150000000000.0, 1950000000000.0, 1750000000000.0]\n",
      "Y :  [[(8.0232073158584836-1.0038177634322727j)], [(7.9580318024293435-1.002165067653527j)], [(7.8280933139952493-0.99888371498477257j)], [(7.5698373817955931-0.99241010085502668j)], [(7.3136932127065855-0.98604443809278242j)], [(7.0596085026341342-0.97977554145591095j)], [(6.8075371305561374-0.97359284654969247j)], [(6.5574373335614329-0.96748716557405556j)], [(6.3092748166396113-0.9614511664337817j)], [(6.0630218535066458-0.95547378216544254j)], [(5.8186517398008499-0.94954680963997151j)], [(5.5761431695747739-0.94367608673403425j)], [(5.3354794279992186-0.9378981947347097j)], [(5.0966347273222867-0.93231809097391694j)], [(4.8595367153326663-0.92717364591425044j)], [(4.6239798167363606-0.92292684758583232j)], [(4.3894683045966207-0.92037244078827407j)], [(4.1549808394212153-0.92075737918946254j)], [(3.9186483599056778-0.92593117488577226j)], [(3.677312941318621-0.93859549972758227j)], [(3.4258647371236117-0.96275710941544779j)], [(3.156208709294305-1.0045366154869255j)], [(2.8558165992984978-1.0738046274833923j)], [(2.5063563688924888-1.1885645297305534j)], [(2.0864234574600857-1.3890167237969169j)], [(1.6132893151693599-1.764693595219101j)], [(1.4010187694041538-2.0378203118915641j)], [(1.0870202432253238-2.678253372039892j)], [(0.86679846672573735-3.391184462235231j)]]\n",
      "X :  [7000000000000.0, 6950000000000.0, 6850000000000.0, 6650000000000.0, 6450000000000.0, 6250000000000.0, 6050000000000.0, 5850000000000.0, 5650000000000.0, 5450000000000.0, 5250000000000.0, 5050000000000.0, 4850000000000.0, 4650000000000.0, 4450000000000.0, 4250000000000.0, 4050000000000.0, 3850000000000.0, 3650000000000.0, 3450000000000.0, 3250000000000.0, 3050000000000.0, 2850000000000.0]\n",
      "Y :  [[(6.5956702117118349-0.78791361784606873j)], [(6.5435530246973519-0.78802249083072595j)], [(6.4391320917083572-0.78834760985526786j)], [(6.2293811334969185-0.7894861249931886j)], [(6.0180579613309053-0.79141024897694101j)], [(5.8046345497448524-0.79432853850880258j)], [(5.5884413350732611-0.79852240627067517j)], [(5.368619202567892-0.80437522758025648j)], [(5.1440509634386773-0.81241607687996109j)], [(4.9132683828200285-0.82338117543705347j)], [(4.6743175995161046-0.8383148983460913j)], [(4.4245647702757411-0.85871531442195226j)], [(4.1604339167452462-0.88679535356905737j)], [(3.877037422780544-0.92593969254811115j)], [(3.5677148568018668-0.98160065240720229j)], [(3.2235927485300775-1.0632398312221838j)], [(2.8341879494083608-1.1885173849669517j)], [(2.3933563458327187-1.3918629656390147j)], [(1.9259998070949513-1.7293820301048439j)], [(1.5244979731893422-2.2249726788156909j)], [(1.2579908774963218-2.7964485872495111j)], [(1.090583547827632-3.369443675168363j)], [(0.97124111072225883-3.9370616183026201j)]]\n",
      "X :  [7000000000000.0, 6950000000000.0, 6850000000000.0, 6650000000000.0, 6450000000000.0, 6250000000000.0, 6050000000000.0, 5850000000000.0, 5650000000000.0, 5450000000000.0, 5250000000000.0, 5050000000000.0, 4850000000000.0, 4650000000000.0, 4450000000000.0, 4250000000000.0, 4050000000000.0, 3850000000000.0, 3650000000000.0]\n",
      "Y :  [[(6.2737880213737869-0.83870302667178354j)], [(6.2130298312009069-0.84076827627467954j)], [(6.0903511298235351-0.84530657527834485j)], [(5.8397096988549269-0.85626279522147908j)], [(5.580619695053235-0.87030920913645859j)], [(5.3110009133316254-0.88837921927722785j)], [(5.0281827942839818-0.91179539888921979j)], [(4.7286956697010751-0.94249855324883391j)], [(4.4079744733559121-0.98345432903454566j)], [(4.0599805372069566-1.039443234787458j)], [(3.6767770262152428-1.1186428471058749j)], [(3.2486663163422-1.2359996001677609j)], [(2.7675710930930602-1.4201967346649025j)], [(2.2445842948598753-1.7225236426241923j)], [(1.752594825411963-2.1916902252273749j)], [(1.3947765144486235-2.7794959465476055j)], [(1.1752519990458639-3.3840511444019041j)], [(1.0424138604705955-3.9611324431614059j)], [(0.94813106474238373-4.5073227081160194j)]]\n",
      "X :  [7000000000000.0, 6950000000000.0, 6850000000000.0, 6650000000000.0, 6450000000000.0, 6250000000000.0, 6050000000000.0, 5850000000000.0, 5650000000000.0, 5450000000000.0, 5250000000000.0, 5050000000000.0, 4850000000000.0]\n",
      "Y :  [[(5.722674439701902-0.93216942168447792j)], [(5.6464262552655367-0.93829747873521585j)], [(5.4908645252106938-0.95174727681905913j)], [(5.1657822429627718-0.98437391926430307j)], [(4.8182412765899674-1.0271412924220784j)], [(4.4423714911030308-1.0846159873516263j)], [(4.0305299081864217-1.164515743117954j)], [(3.5733189335176081-1.2807297582230945j)], [(3.0622557973877278-1.4595334940394458j)], [(2.5039824932274826-1.7484192778097865j)], [(1.9589728516656573-2.2006276441259631j)], [(1.5326326870612297-2.789266340286265j)], None]\n",
      "----------------------------------------------------------------------------------------------------\n",
      "frequency: 4850000000000.0   k_init: (1.22496199941-3.51433536629j)\n"
     ]
    },
    {
     "data": {
      "text/latex": [
       "$$Eqs_\\text{ freespace } = \\left[\\begin{matrix}376.730313461771 H_{{y}} + 9.83782507059163 \\cdot 10^{-6} i \\frac{d}{d x} E_{{z}}\\\\- 376.730313461771 H_{{x}} + 9.83782507059163 \\cdot 10^{-6} i \\frac{d}{d y} E_{{z}}\\\\- 0.00265441872943807 E_{{y}} + 9.83782507059163 \\cdot 10^{-6} i \\frac{d}{d x} H_{{z}}\\\\0.00265441872943807 E_{{x}} + 9.83782507059163 \\cdot 10^{-6} i \\frac{d}{d y} H_{{z}}\\\\- 269.817638593002 i E_{{z}} - \\frac{d}{d y} H_{{x}} + \\frac{d}{d x} H_{{y}}\\\\38294065.0762267 i H_{{z}} - \\frac{d}{d y} E_{{x}} + \\frac{d}{d x} E_{{y}}\\end{matrix}\\right]$$"
      ],
      "text/plain": [
       "<IPython.core.display.Math at 0x7f53751dcef0>"
      ]
     },
     "metadata": {},
     "output_type": "display_data"
    },
    {
     "name": "stdout",
     "output_type": "stream",
     "text": [
      "Eq1 boundary equations \n"
     ]
    },
    {
     "data": {
      "text/latex": [
       "$$EQs_\\text{ freespace }-b[0] = \\left[\\begin{matrix}376.730313461771 H_{{y}} & 9.83782507059163 \\cdot 10^{-6} i \\frac{d}{d x} E_{{z}}\\end{matrix}\\right]$$"
      ],
      "text/plain": [
       "<IPython.core.display.Math at 0x7f537abe2a20>"
      ]
     },
     "metadata": {},
     "output_type": "display_data"
    },
    {
     "data": {
      "text/latex": [
       "$$EQs_\\text{ freespace }-b[1] = \\left[\\begin{matrix}- 376.730313461771 H_{{x}} & 9.83782507059163 \\cdot 10^{-6} i \\frac{d}{d y} E_{{z}}\\end{matrix}\\right]$$"
      ],
      "text/plain": [
       "<IPython.core.display.Math at 0x7f5371256438>"
      ]
     },
     "metadata": {},
     "output_type": "display_data"
    },
    {
     "data": {
      "text/latex": [
       "$$EQs_\\text{ freespace }-b[2] = \\left[\\begin{matrix}- 0.00265441872943807 E_{{y}} & 9.83782507059163 \\cdot 10^{-6} i \\frac{d}{d x} H_{{z}}\\end{matrix}\\right]$$"
      ],
      "text/plain": [
       "<IPython.core.display.Math at 0x7f537a9eccc0>"
      ]
     },
     "metadata": {},
     "output_type": "display_data"
    },
    {
     "data": {
      "text/latex": [
       "$$EQs_\\text{ freespace }-b[3] = \\left[\\begin{matrix}0.00265441872943807 E_{{x}} & 9.83782507059163 \\cdot 10^{-6} i \\frac{d}{d y} H_{{z}}\\end{matrix}\\right]$$"
      ],
      "text/plain": [
       "<IPython.core.display.Math at 0x7f5371256438>"
      ]
     },
     "metadata": {},
     "output_type": "display_data"
    },
    {
     "data": {
      "text/latex": [
       "$$EQs_\\text{ freespace }-b[4] = \\left[\\begin{matrix}- 269.817638593002 i E_{{z}} & - \\frac{d}{d y} H_{{x}} & \\frac{d}{d x} H_{{y}}\\end{matrix}\\right]$$"
      ],
      "text/plain": [
       "<IPython.core.display.Math at 0x7f537a9eccc0>"
      ]
     },
     "metadata": {},
     "output_type": "display_data"
    },
    {
     "data": {
      "text/latex": [
       "$$EQs_\\text{ freespace }-b[5] = \\left[\\begin{matrix}38294065.0762267 i H_{{z}} & - \\frac{d}{d y} E_{{x}} & \\frac{d}{d x} E_{{y}}\\end{matrix}\\right]$$"
      ],
      "text/plain": [
       "<IPython.core.display.Math at 0x7f5371256438>"
      ]
     },
     "metadata": {},
     "output_type": "display_data"
    },
    {
     "name": "stdout",
     "output_type": "stream",
     "text": [
      "[[(3838.7165273956539-22787.076643173816j), 0.0, (-2361.3797994302868-808.36975029597659j)], [0.0, 0.0, 0.0], [(2361.3797994302868+808.36975029597659j), 0.0, (3838.7165273956539-22787.076643173816j)]]\n"
     ]
    },
    {
     "data": {
      "text/latex": [
       "$$Eqs_\\text{ graphene } = \\left[\\begin{matrix}376.730313461771 H_{{y}} + 9.83782507059163 \\cdot 10^{-6} i \\frac{d}{d x} E_{{z}}\\\\- 376.730313461771 H_{{x}} + 9.83782507059163 \\cdot 10^{-6} i \\frac{d}{d y} E_{{z}}\\\\- 0.00265441872943807 E_{{y}} + 9.83782507059163 \\cdot 10^{-6} i \\frac{d}{d x} H_{{z}}\\\\- 0.22152085515627 E_{{x}} - 0.0377646216921074 i E_{{x}} - 0.00795260019576966 E_{{z}} + 0.0232308413920239 i E_{{z}} + 9.83782507059163 \\cdot 10^{-6} i \\frac{d}{d y} H_{{z}}\\\\- 2361.37979943029 E_{{x}} - 808.369750295977 i E_{{x}} - 3838.71652739565 E_{{z}} + 22517.2590045808 i E_{{z}} - \\frac{d}{d y} H_{{x}} + \\frac{d}{d x} H_{{y}}\\\\38294065.0762267 i H_{{z}} - \\frac{d}{d y} E_{{x}} + \\frac{d}{d x} E_{{y}}\\end{matrix}\\right]$$"
      ],
      "text/plain": [
       "<IPython.core.display.Math at 0x7f537ad70518>"
      ]
     },
     "metadata": {},
     "output_type": "display_data"
    },
    {
     "name": "stdout",
     "output_type": "stream",
     "text": [
      "Eq1 boundary equations \n"
     ]
    },
    {
     "data": {
      "text/latex": [
       "$$EQs_\\text{ graphene }-b[0] = \\left[\\begin{matrix}376.730313461771 H_{{y}} & 9.83782507059163 \\cdot 10^{-6} i \\frac{d}{d x} E_{{z}}\\end{matrix}\\right]$$"
      ],
      "text/plain": [
       "<IPython.core.display.Math at 0x7f53751b25c0>"
      ]
     },
     "metadata": {},
     "output_type": "display_data"
    },
    {
     "data": {
      "text/latex": [
       "$$EQs_\\text{ graphene }-b[1] = \\left[\\begin{matrix}- 376.730313461771 H_{{x}} & 9.83782507059163 \\cdot 10^{-6} i \\frac{d}{d y} E_{{z}}\\end{matrix}\\right]$$"
      ],
      "text/plain": [
       "<IPython.core.display.Math at 0x7f537abe2630>"
      ]
     },
     "metadata": {},
     "output_type": "display_data"
    },
    {
     "data": {
      "text/latex": [
       "$$EQs_\\text{ graphene }-b[2] = \\left[\\begin{matrix}0 & - 0.00265441872943807 E_{{y}} & 0 & 9.83782507059163 \\cdot 10^{-6} i \\frac{d}{d x} H_{{z}}\\end{matrix}\\right]$$"
      ],
      "text/plain": [
       "<IPython.core.display.Math at 0x7f537516f048>"
      ]
     },
     "metadata": {},
     "output_type": "display_data"
    },
    {
     "data": {
      "text/latex": [
       "$$EQs_\\text{ graphene }-b[3] = \\left[\\begin{matrix}9.83782507059163 \\cdot 10^{-6} E_{{x}} \\left(269.817638593002 - i \\left(3838.71652739565 - 22787.0766431738 i\\right)\\right) & 0 & - 9.83782507059163 \\cdot 10^{-6} i E_{{z}} \\left(-2361.37979943029 - 808.369750295977 i\\right) & 9.83782507059163 \\cdot 10^{-6} i \\frac{d}{d y} H_{{z}}\\end{matrix}\\right]$$"
      ],
      "text/plain": [
       "<IPython.core.display.Math at 0x7f537abe2630>"
      ]
     },
     "metadata": {},
     "output_type": "display_data"
    },
    {
     "data": {
      "text/latex": [
       "$$EQs_\\text{ graphene }-b[4] = \\left[\\begin{matrix}- E_{{x}} \\left(2361.37979943029 + 808.369750295977 i\\right) & 0 & - E_{{z}} \\left(3838.71652739565 - 22517.2590045808 i\\right) & - \\frac{d}{d y} H_{{x}} & \\frac{d}{d x} H_{{y}}\\end{matrix}\\right]$$"
      ],
      "text/plain": [
       "<IPython.core.display.Math at 0x7f537516f048>"
      ]
     },
     "metadata": {},
     "output_type": "display_data"
    },
    {
     "data": {
      "text/latex": [
       "$$EQs_\\text{ graphene }-b[5] = \\left[\\begin{matrix}38294065.0762267 i H_{{z}} & - \\frac{d}{d y} E_{{x}} & \\frac{d}{d x} E_{{y}}\\end{matrix}\\right]$$"
      ],
      "text/plain": [
       "<IPython.core.display.Math at 0x7f537abe2630>"
      ]
     },
     "metadata": {},
     "output_type": "display_data"
    },
    {
     "name": "stdout",
     "output_type": "stream",
     "text": [
      "initial matrix nnz 1843027 0:00:16\n",
      "initial matrix shared nnz 2219743 0:00:13\n",
      "final matrix (application of boundary conditions) nnz:  2219267 0:00:03\n",
      "A_11.shape:  (157356, 157356) A_11.nnz:  157356\n",
      "warning: this inversion mechanism only works for diagonal matrices\n",
      "eliminating z components 0:00:01\n",
      "A_reduced nnz:  2947997\n",
      "solving eigenvalues 0:02:48\n",
      "[ 1.25097797-3.41573453j]\n",
      "(359926, 1)\n",
      "0 4 x_correlation:  (0.463596298103+0.884477007998j)     abs(x_correlation):  0.99860958602\n",
      "k_correlation_r:  0.0207965052742     k_correlation_i:  0.0280567516954\n",
      "X :  [7000000000000.0, 6950000000000.0, 6850000000000.0, 6650000000000.0, 6450000000000.0, 6250000000000.0, 6050000000000.0, 5850000000000.0, 5650000000000.0, 5450000000000.0, 5250000000000.0, 5050000000000.0, 4850000000000.0, 4650000000000.0, 4450000000000.0, 4250000000000.0, 4050000000000.0, 3850000000000.0, 3650000000000.0, 3450000000000.0, 3250000000000.0, 3050000000000.0, 2850000000000.0, 2650000000000.0, 2450000000000.0, 2250000000000.0, 2050000000000.0, 1850000000000.0, 1650000000000.0, 1450000000000.0, 1250000000000.0]\n",
      "Y :  [[(9.0264198593920089-1.0265850275942863j)], [(8.9591509490803887-1.0248428143216293j)], [(8.8250554453441765-1.0213873265953377j)], [(8.5585964224031823-1.0145863243291824j)], [(8.2943834560896317-1.0079245347408612j)], [(8.0323500935623926-1.0013955543194086j)], [(7.7724369581080106-0.99499398313867937j)], [(7.514589631061205-0.98871676944562481j)], [(7.258763165805771-0.98256238682030228j)], [(7.0049175938053851-0.97652130310611174j)], [(6.7530093091440699-0.97058404763619255j)], [(6.5029986638359283-0.96474407348038327j)], [(6.2548497421581803-0.95899303239179656j)], [(6.0085276451703766-0.95332020226361569j)], [(5.7639986714177329-0.94771148236624303j)], [(5.5212310019493929-0.94214330023901227j)], [(5.2801971939104995-0.93657063085066661j)], [(5.0408877459070469-0.93090182701082791j)], [(4.8033478091954969-0.92495273204950945j)], [(4.5677684513733068-0.918381978216953j)], [(4.3346750063904764-0.91063646924897546j)], [(4.1052277194466695-0.90101040944521849j)], [(3.8814958575160263-0.88899691093329636j)], [(3.6662901824248366-0.87494632837546438j)], [(3.4622567126583665-0.86047256093346358j)], [(3.2708697732820666-0.84797930667052701j)], [(3.0922699867749484-0.83978604785702027j)], [(2.9257962923875875-0.83773328098448296j)], [(2.7705869716422944-0.84326399992566492j)], [(2.6262271839280289-0.85757176936093249j)], [(2.4940265655358189-0.88184889209401585j)]]\n",
      "X :  [7000000000000.0, 6950000000000.0, 6850000000000.0, 6650000000000.0, 6450000000000.0, 6250000000000.0, 6050000000000.0, 5850000000000.0, 5650000000000.0, 5450000000000.0, 5250000000000.0, 5050000000000.0, 4850000000000.0, 4650000000000.0, 4450000000000.0, 4250000000000.0, 4050000000000.0, 3850000000000.0, 3650000000000.0, 3450000000000.0, 3250000000000.0, 3050000000000.0, 2850000000000.0, 2650000000000.0, 2450000000000.0, 2250000000000.0, 2150000000000.0, 1950000000000.0, 1750000000000.0]\n",
      "Y :  [[(8.0232073158584836-1.0038177634322727j)], [(7.9580318024293435-1.002165067653527j)], [(7.8280933139952493-0.99888371498477257j)], [(7.5698373817955931-0.99241010085502668j)], [(7.3136932127065855-0.98604443809278242j)], [(7.0596085026341342-0.97977554145591095j)], [(6.8075371305561374-0.97359284654969247j)], [(6.5574373335614329-0.96748716557405556j)], [(6.3092748166396113-0.9614511664337817j)], [(6.0630218535066458-0.95547378216544254j)], [(5.8186517398008499-0.94954680963997151j)], [(5.5761431695747739-0.94367608673403425j)], [(5.3354794279992186-0.9378981947347097j)], [(5.0966347273222867-0.93231809097391694j)], [(4.8595367153326663-0.92717364591425044j)], [(4.6239798167363606-0.92292684758583232j)], [(4.3894683045966207-0.92037244078827407j)], [(4.1549808394212153-0.92075737918946254j)], [(3.9186483599056778-0.92593117488577226j)], [(3.677312941318621-0.93859549972758227j)], [(3.4258647371236117-0.96275710941544779j)], [(3.156208709294305-1.0045366154869255j)], [(2.8558165992984978-1.0738046274833923j)], [(2.5063563688924888-1.1885645297305534j)], [(2.0864234574600857-1.3890167237969169j)], [(1.6132893151693599-1.764693595219101j)], [(1.4010187694041538-2.0378203118915641j)], [(1.0870202432253238-2.678253372039892j)], [(0.86679846672573735-3.391184462235231j)]]\n",
      "X :  [7000000000000.0, 6950000000000.0, 6850000000000.0, 6650000000000.0, 6450000000000.0, 6250000000000.0, 6050000000000.0, 5850000000000.0, 5650000000000.0, 5450000000000.0, 5250000000000.0, 5050000000000.0, 4850000000000.0, 4650000000000.0, 4450000000000.0, 4250000000000.0, 4050000000000.0, 3850000000000.0, 3650000000000.0, 3450000000000.0, 3250000000000.0, 3050000000000.0, 2850000000000.0]\n",
      "Y :  [[(6.5956702117118349-0.78791361784606873j)], [(6.5435530246973519-0.78802249083072595j)], [(6.4391320917083572-0.78834760985526786j)], [(6.2293811334969185-0.7894861249931886j)], [(6.0180579613309053-0.79141024897694101j)], [(5.8046345497448524-0.79432853850880258j)], [(5.5884413350732611-0.79852240627067517j)], [(5.368619202567892-0.80437522758025648j)], [(5.1440509634386773-0.81241607687996109j)], [(4.9132683828200285-0.82338117543705347j)], [(4.6743175995161046-0.8383148983460913j)], [(4.4245647702757411-0.85871531442195226j)], [(4.1604339167452462-0.88679535356905737j)], [(3.877037422780544-0.92593969254811115j)], [(3.5677148568018668-0.98160065240720229j)], [(3.2235927485300775-1.0632398312221838j)], [(2.8341879494083608-1.1885173849669517j)], [(2.3933563458327187-1.3918629656390147j)], [(1.9259998070949513-1.7293820301048439j)], [(1.5244979731893422-2.2249726788156909j)], [(1.2579908774963218-2.7964485872495111j)], [(1.090583547827632-3.369443675168363j)], [(0.97124111072225883-3.9370616183026201j)]]\n",
      "X :  [7000000000000.0, 6950000000000.0, 6850000000000.0, 6650000000000.0, 6450000000000.0, 6250000000000.0, 6050000000000.0, 5850000000000.0, 5650000000000.0, 5450000000000.0, 5250000000000.0, 5050000000000.0, 4850000000000.0, 4650000000000.0, 4450000000000.0, 4250000000000.0, 4050000000000.0, 3850000000000.0, 3650000000000.0]\n",
      "Y :  [[(6.2737880213737869-0.83870302667178354j)], [(6.2130298312009069-0.84076827627467954j)], [(6.0903511298235351-0.84530657527834485j)], [(5.8397096988549269-0.85626279522147908j)], [(5.580619695053235-0.87030920913645859j)], [(5.3110009133316254-0.88837921927722785j)], [(5.0281827942839818-0.91179539888921979j)], [(4.7286956697010751-0.94249855324883391j)], [(4.4079744733559121-0.98345432903454566j)], [(4.0599805372069566-1.039443234787458j)], [(3.6767770262152428-1.1186428471058749j)], [(3.2486663163422-1.2359996001677609j)], [(2.7675710930930602-1.4201967346649025j)], [(2.2445842948598753-1.7225236426241923j)], [(1.752594825411963-2.1916902252273749j)], [(1.3947765144486235-2.7794959465476055j)], [(1.1752519990458639-3.3840511444019041j)], [(1.0424138604705955-3.9611324431614059j)], [(0.94813106474238373-4.5073227081160194j)]]\n",
      "X :  [7000000000000.0, 6950000000000.0, 6850000000000.0, 6650000000000.0, 6450000000000.0, 6250000000000.0, 6050000000000.0, 5850000000000.0, 5650000000000.0, 5450000000000.0, 5250000000000.0, 5050000000000.0, 4850000000000.0]\n",
      "Y :  [[(5.722674439701902-0.93216942168447792j)], [(5.6464262552655367-0.93829747873521585j)], [(5.4908645252106938-0.95174727681905913j)], [(5.1657822429627718-0.98437391926430307j)], [(4.8182412765899674-1.0271412924220784j)], [(4.4423714911030308-1.0846159873516263j)], [(4.0305299081864217-1.164515743117954j)], [(3.5733189335176081-1.2807297582230945j)], [(3.0622557973877278-1.4595334940394458j)], [(2.5039824932274826-1.7484192778097865j)], [(1.9589728516656573-2.2006276441259631j)], [(1.5326326870612297-2.789266340286265j)], [(1.2509779693518133-3.4157345315446115j)]]\n",
      "----------------------------------------------------------------------------------------------------\n",
      "frequency: 4650000000000.0   k_init: (1.11400869854-4.0800322179j)\n"
     ]
    },
    {
     "data": {
      "text/latex": [
       "$$Eqs_\\text{ freespace } = \\left[\\begin{matrix}376.730313461771 H_{{y}} + 1.02609573316923 \\cdot 10^{-5} i \\frac{d}{d x} E_{{z}}\\\\- 376.730313461771 H_{{x}} + 1.02609573316923 \\cdot 10^{-5} i \\frac{d}{d y} E_{{z}}\\\\- 0.00265441872943807 E_{{y}} + 1.02609573316923 \\cdot 10^{-5} i \\frac{d}{d x} H_{{z}}\\\\0.00265441872943807 E_{{x}} + 1.02609573316923 \\cdot 10^{-5} i \\frac{d}{d y} H_{{z}}\\\\- 258.691138032466 i E_{{z}} - \\frac{d}{d y} H_{{x}} + \\frac{d}{d x} H_{{y}}\\\\36714928.3720524 i H_{{z}} - \\frac{d}{d y} E_{{x}} + \\frac{d}{d x} E_{{y}}\\end{matrix}\\right]$$"
      ],
      "text/plain": [
       "<IPython.core.display.Math at 0x7f537a9d6390>"
      ]
     },
     "metadata": {},
     "output_type": "display_data"
    },
    {
     "name": "stdout",
     "output_type": "stream",
     "text": [
      "Eq1 boundary equations \n"
     ]
    },
    {
     "data": {
      "text/latex": [
       "$$EQs_\\text{ freespace }-b[0] = \\left[\\begin{matrix}376.730313461771 H_{{y}} & 1.02609573316923 \\cdot 10^{-5} i \\frac{d}{d x} E_{{z}}\\end{matrix}\\right]$$"
      ],
      "text/plain": [
       "<IPython.core.display.Math at 0x7f537aa13080>"
      ]
     },
     "metadata": {},
     "output_type": "display_data"
    },
    {
     "data": {
      "text/latex": [
       "$$EQs_\\text{ freespace }-b[1] = \\left[\\begin{matrix}- 376.730313461771 H_{{x}} & 1.02609573316923 \\cdot 10^{-5} i \\frac{d}{d y} E_{{z}}\\end{matrix}\\right]$$"
      ],
      "text/plain": [
       "<IPython.core.display.Math at 0x7f537aa13080>"
      ]
     },
     "metadata": {},
     "output_type": "display_data"
    },
    {
     "data": {
      "text/latex": [
       "$$EQs_\\text{ freespace }-b[2] = \\left[\\begin{matrix}- 0.00265441872943807 E_{{y}} & 1.02609573316923 \\cdot 10^{-5} i \\frac{d}{d x} H_{{z}}\\end{matrix}\\right]$$"
      ],
      "text/plain": [
       "<IPython.core.display.Math at 0x7f537aa13080>"
      ]
     },
     "metadata": {},
     "output_type": "display_data"
    },
    {
     "data": {
      "text/latex": [
       "$$EQs_\\text{ freespace }-b[3] = \\left[\\begin{matrix}0.00265441872943807 E_{{x}} & 1.02609573316923 \\cdot 10^{-5} i \\frac{d}{d y} H_{{z}}\\end{matrix}\\right]$$"
      ],
      "text/plain": [
       "<IPython.core.display.Math at 0x7f537aa13080>"
      ]
     },
     "metadata": {},
     "output_type": "display_data"
    },
    {
     "data": {
      "text/latex": [
       "$$EQs_\\text{ freespace }-b[4] = \\left[\\begin{matrix}- 258.691138032466 i E_{{z}} & - \\frac{d}{d y} H_{{x}} & \\frac{d}{d x} H_{{y}}\\end{matrix}\\right]$$"
      ],
      "text/plain": [
       "<IPython.core.display.Math at 0x7f537aa13080>"
      ]
     },
     "metadata": {},
     "output_type": "display_data"
    },
    {
     "data": {
      "text/latex": [
       "$$EQs_\\text{ freespace }-b[5] = \\left[\\begin{matrix}36714928.3720524 i H_{{z}} & - \\frac{d}{d y} E_{{x}} & \\frac{d}{d x} E_{{y}}\\end{matrix}\\right]$$"
      ],
      "text/plain": [
       "<IPython.core.display.Math at 0x7f537aa13080>"
      ]
     },
     "metadata": {},
     "output_type": "display_data"
    },
    {
     "name": "stdout",
     "output_type": "stream",
     "text": [
      "[[(4178.0146065221452-23733.853651120095j), 0.0, (-2552.9689772905399-914.82798264706014j)], [0.0, 0.0, 0.0], [(2552.9689772905399+914.82798264706014j), 0.0, (4178.0146065221452-23733.853651120095j)]]\n"
     ]
    },
    {
     "data": {
      "text/latex": [
       "$$Eqs_\\text{ graphene } = \\left[\\begin{matrix}376.730313461771 H_{{y}} + 1.02609573316923 \\cdot 10^{-5} i \\frac{d}{d x} E_{{z}}\\\\- 376.730313461771 H_{{x}} + 1.02609573316923 \\cdot 10^{-5} i \\frac{d}{d y} E_{{z}}\\\\- 0.00265441872943807 E_{{y}} + 1.02609573316923 \\cdot 10^{-5} i \\frac{d}{d x} H_{{z}}\\\\- 0.240877640901336 E_{{x}} - 0.0428704296087111 i E_{{x}} - 0.00938701089577967 E_{{z}} + 0.0261959057451125 i E_{{z}} + 1.02609573316923 \\cdot 10^{-5} i \\frac{d}{d y} H_{{z}}\\\\- 2552.96897729054 E_{{x}} - 914.82798264706 i E_{{x}} - 4178.01460652215 E_{{z}} + 23475.1625130876 i E_{{z}} - \\frac{d}{d y} H_{{x}} + \\frac{d}{d x} H_{{y}}\\\\36714928.3720524 i H_{{z}} - \\frac{d}{d y} E_{{x}} + \\frac{d}{d x} E_{{y}}\\end{matrix}\\right]$$"
      ],
      "text/plain": [
       "<IPython.core.display.Math at 0x7f537ae34f28>"
      ]
     },
     "metadata": {},
     "output_type": "display_data"
    },
    {
     "name": "stdout",
     "output_type": "stream",
     "text": [
      "Eq1 boundary equations \n"
     ]
    },
    {
     "data": {
      "text/latex": [
       "$$EQs_\\text{ graphene }-b[0] = \\left[\\begin{matrix}376.730313461771 H_{{y}} & 1.02609573316923 \\cdot 10^{-5} i \\frac{d}{d x} E_{{z}}\\end{matrix}\\right]$$"
      ],
      "text/plain": [
       "<IPython.core.display.Math at 0x7f537a9d6630>"
      ]
     },
     "metadata": {},
     "output_type": "display_data"
    },
    {
     "data": {
      "text/latex": [
       "$$EQs_\\text{ graphene }-b[1] = \\left[\\begin{matrix}- 376.730313461771 H_{{x}} & 1.02609573316923 \\cdot 10^{-5} i \\frac{d}{d y} E_{{z}}\\end{matrix}\\right]$$"
      ],
      "text/plain": [
       "<IPython.core.display.Math at 0x7f537a9d62b0>"
      ]
     },
     "metadata": {},
     "output_type": "display_data"
    },
    {
     "data": {
      "text/latex": [
       "$$EQs_\\text{ graphene }-b[2] = \\left[\\begin{matrix}0 & - 0.00265441872943807 E_{{y}} & 0 & 1.02609573316923 \\cdot 10^{-5} i \\frac{d}{d x} H_{{z}}\\end{matrix}\\right]$$"
      ],
      "text/plain": [
       "<IPython.core.display.Math at 0x7f537a9d6630>"
      ]
     },
     "metadata": {},
     "output_type": "display_data"
    },
    {
     "data": {
      "text/latex": [
       "$$EQs_\\text{ graphene }-b[3] = \\left[\\begin{matrix}1.02609573316923 \\cdot 10^{-5} E_{{x}} \\left(258.691138032466 - i \\left(4178.01460652215 - 23733.8536511201 i\\right)\\right) & 0 & - 1.02609573316923 \\cdot 10^{-5} i E_{{z}} \\left(-2552.96897729054 - 914.82798264706 i\\right) & 1.02609573316923 \\cdot 10^{-5} i \\frac{d}{d y} H_{{z}}\\end{matrix}\\right]$$"
      ],
      "text/plain": [
       "<IPython.core.display.Math at 0x7f537a9d62b0>"
      ]
     },
     "metadata": {},
     "output_type": "display_data"
    },
    {
     "data": {
      "text/latex": [
       "$$EQs_\\text{ graphene }-b[4] = \\left[\\begin{matrix}- E_{{x}} \\left(2552.96897729054 + 914.82798264706 i\\right) & 0 & - E_{{z}} \\left(4178.01460652215 - 23475.1625130876 i\\right) & - \\frac{d}{d y} H_{{x}} & \\frac{d}{d x} H_{{y}}\\end{matrix}\\right]$$"
      ],
      "text/plain": [
       "<IPython.core.display.Math at 0x7f537a9d6630>"
      ]
     },
     "metadata": {},
     "output_type": "display_data"
    },
    {
     "data": {
      "text/latex": [
       "$$EQs_\\text{ graphene }-b[5] = \\left[\\begin{matrix}36714928.3720524 i H_{{z}} & - \\frac{d}{d y} E_{{x}} & \\frac{d}{d x} E_{{y}}\\end{matrix}\\right]$$"
      ],
      "text/plain": [
       "<IPython.core.display.Math at 0x7f537a9d62b0>"
      ]
     },
     "metadata": {},
     "output_type": "display_data"
    },
    {
     "name": "stdout",
     "output_type": "stream",
     "text": [
      "initial matrix nnz 1843027 0:00:17\n",
      "initial matrix shared nnz 2219743 0:00:13\n",
      "final matrix (application of boundary conditions) nnz:  2219267 0:00:05\n",
      "A_11.shape:  (157356, 157356) A_11.nnz:  157356\n",
      "warning: this inversion mechanism only works for diagonal matrices\n",
      "eliminating z components 0:00:02\n",
      "A_reduced nnz:  2939090\n",
      "solving eigenvalues 0:05:18\n",
      "[ 1.07253663-4.02494463j]\n",
      "(359926, 1)\n",
      "0 4 x_correlation:  (-0.997034033846-0.0573167855246j)     abs(x_correlation):  0.998680168297\n",
      "k_correlation_r:  0.0372277740779     k_correlation_i:  0.0135017535758\n",
      "X :  [7000000000000.0, 6950000000000.0, 6850000000000.0, 6650000000000.0, 6450000000000.0, 6250000000000.0, 6050000000000.0, 5850000000000.0, 5650000000000.0, 5450000000000.0, 5250000000000.0, 5050000000000.0, 4850000000000.0, 4650000000000.0, 4450000000000.0, 4250000000000.0, 4050000000000.0, 3850000000000.0, 3650000000000.0, 3450000000000.0, 3250000000000.0, 3050000000000.0, 2850000000000.0, 2650000000000.0, 2450000000000.0, 2250000000000.0, 2050000000000.0, 1850000000000.0, 1650000000000.0, 1450000000000.0, 1250000000000.0]\n",
      "Y :  [[(9.0264198593920089-1.0265850275942863j)], [(8.9591509490803887-1.0248428143216293j)], [(8.8250554453441765-1.0213873265953377j)], [(8.5585964224031823-1.0145863243291824j)], [(8.2943834560896317-1.0079245347408612j)], [(8.0323500935623926-1.0013955543194086j)], [(7.7724369581080106-0.99499398313867937j)], [(7.514589631061205-0.98871676944562481j)], [(7.258763165805771-0.98256238682030228j)], [(7.0049175938053851-0.97652130310611174j)], [(6.7530093091440699-0.97058404763619255j)], [(6.5029986638359283-0.96474407348038327j)], [(6.2548497421581803-0.95899303239179656j)], [(6.0085276451703766-0.95332020226361569j)], [(5.7639986714177329-0.94771148236624303j)], [(5.5212310019493929-0.94214330023901227j)], [(5.2801971939104995-0.93657063085066661j)], [(5.0408877459070469-0.93090182701082791j)], [(4.8033478091954969-0.92495273204950945j)], [(4.5677684513733068-0.918381978216953j)], [(4.3346750063904764-0.91063646924897546j)], [(4.1052277194466695-0.90101040944521849j)], [(3.8814958575160263-0.88899691093329636j)], [(3.6662901824248366-0.87494632837546438j)], [(3.4622567126583665-0.86047256093346358j)], [(3.2708697732820666-0.84797930667052701j)], [(3.0922699867749484-0.83978604785702027j)], [(2.9257962923875875-0.83773328098448296j)], [(2.7705869716422944-0.84326399992566492j)], [(2.6262271839280289-0.85757176936093249j)], [(2.4940265655358189-0.88184889209401585j)]]\n",
      "X :  [7000000000000.0, 6950000000000.0, 6850000000000.0, 6650000000000.0, 6450000000000.0, 6250000000000.0, 6050000000000.0, 5850000000000.0, 5650000000000.0, 5450000000000.0, 5250000000000.0, 5050000000000.0, 4850000000000.0, 4650000000000.0, 4450000000000.0, 4250000000000.0, 4050000000000.0, 3850000000000.0, 3650000000000.0, 3450000000000.0, 3250000000000.0, 3050000000000.0, 2850000000000.0, 2650000000000.0, 2450000000000.0, 2250000000000.0, 2150000000000.0, 1950000000000.0, 1750000000000.0]\n",
      "Y :  [[(8.0232073158584836-1.0038177634322727j)], [(7.9580318024293435-1.002165067653527j)], [(7.8280933139952493-0.99888371498477257j)], [(7.5698373817955931-0.99241010085502668j)], [(7.3136932127065855-0.98604443809278242j)], [(7.0596085026341342-0.97977554145591095j)], [(6.8075371305561374-0.97359284654969247j)], [(6.5574373335614329-0.96748716557405556j)], [(6.3092748166396113-0.9614511664337817j)], [(6.0630218535066458-0.95547378216544254j)], [(5.8186517398008499-0.94954680963997151j)], [(5.5761431695747739-0.94367608673403425j)], [(5.3354794279992186-0.9378981947347097j)], [(5.0966347273222867-0.93231809097391694j)], [(4.8595367153326663-0.92717364591425044j)], [(4.6239798167363606-0.92292684758583232j)], [(4.3894683045966207-0.92037244078827407j)], [(4.1549808394212153-0.92075737918946254j)], [(3.9186483599056778-0.92593117488577226j)], [(3.677312941318621-0.93859549972758227j)], [(3.4258647371236117-0.96275710941544779j)], [(3.156208709294305-1.0045366154869255j)], [(2.8558165992984978-1.0738046274833923j)], [(2.5063563688924888-1.1885645297305534j)], [(2.0864234574600857-1.3890167237969169j)], [(1.6132893151693599-1.764693595219101j)], [(1.4010187694041538-2.0378203118915641j)], [(1.0870202432253238-2.678253372039892j)], [(0.86679846672573735-3.391184462235231j)]]\n",
      "X :  [7000000000000.0, 6950000000000.0, 6850000000000.0, 6650000000000.0, 6450000000000.0, 6250000000000.0, 6050000000000.0, 5850000000000.0, 5650000000000.0, 5450000000000.0, 5250000000000.0, 5050000000000.0, 4850000000000.0, 4650000000000.0, 4450000000000.0, 4250000000000.0, 4050000000000.0, 3850000000000.0, 3650000000000.0, 3450000000000.0, 3250000000000.0, 3050000000000.0, 2850000000000.0]\n",
      "Y :  [[(6.5956702117118349-0.78791361784606873j)], [(6.5435530246973519-0.78802249083072595j)], [(6.4391320917083572-0.78834760985526786j)], [(6.2293811334969185-0.7894861249931886j)], [(6.0180579613309053-0.79141024897694101j)], [(5.8046345497448524-0.79432853850880258j)], [(5.5884413350732611-0.79852240627067517j)], [(5.368619202567892-0.80437522758025648j)], [(5.1440509634386773-0.81241607687996109j)], [(4.9132683828200285-0.82338117543705347j)], [(4.6743175995161046-0.8383148983460913j)], [(4.4245647702757411-0.85871531442195226j)], [(4.1604339167452462-0.88679535356905737j)], [(3.877037422780544-0.92593969254811115j)], [(3.5677148568018668-0.98160065240720229j)], [(3.2235927485300775-1.0632398312221838j)], [(2.8341879494083608-1.1885173849669517j)], [(2.3933563458327187-1.3918629656390147j)], [(1.9259998070949513-1.7293820301048439j)], [(1.5244979731893422-2.2249726788156909j)], [(1.2579908774963218-2.7964485872495111j)], [(1.090583547827632-3.369443675168363j)], [(0.97124111072225883-3.9370616183026201j)]]\n",
      "X :  [7000000000000.0, 6950000000000.0, 6850000000000.0, 6650000000000.0, 6450000000000.0, 6250000000000.0, 6050000000000.0, 5850000000000.0, 5650000000000.0, 5450000000000.0, 5250000000000.0, 5050000000000.0, 4850000000000.0, 4650000000000.0, 4450000000000.0, 4250000000000.0, 4050000000000.0, 3850000000000.0, 3650000000000.0]\n",
      "Y :  [[(6.2737880213737869-0.83870302667178354j)], [(6.2130298312009069-0.84076827627467954j)], [(6.0903511298235351-0.84530657527834485j)], [(5.8397096988549269-0.85626279522147908j)], [(5.580619695053235-0.87030920913645859j)], [(5.3110009133316254-0.88837921927722785j)], [(5.0281827942839818-0.91179539888921979j)], [(4.7286956697010751-0.94249855324883391j)], [(4.4079744733559121-0.98345432903454566j)], [(4.0599805372069566-1.039443234787458j)], [(3.6767770262152428-1.1186428471058749j)], [(3.2486663163422-1.2359996001677609j)], [(2.7675710930930602-1.4201967346649025j)], [(2.2445842948598753-1.7225236426241923j)], [(1.752594825411963-2.1916902252273749j)], [(1.3947765144486235-2.7794959465476055j)], [(1.1752519990458639-3.3840511444019041j)], [(1.0424138604705955-3.9611324431614059j)], [(0.94813106474238373-4.5073227081160194j)]]\n",
      "X :  [7000000000000.0, 6950000000000.0, 6850000000000.0, 6650000000000.0, 6450000000000.0, 6250000000000.0, 6050000000000.0, 5850000000000.0, 5650000000000.0, 5450000000000.0, 5250000000000.0, 5050000000000.0, 4850000000000.0, 4650000000000.0]\n",
      "Y :  [[(5.722674439701902-0.93216942168447792j)], [(5.6464262552655367-0.93829747873521585j)], [(5.4908645252106938-0.95174727681905913j)], [(5.1657822429627718-0.98437391926430307j)], [(4.8182412765899674-1.0271412924220784j)], [(4.4423714911030308-1.0846159873516263j)], [(4.0305299081864217-1.164515743117954j)], [(3.5733189335176081-1.2807297582230945j)], [(3.0622557973877278-1.4595334940394458j)], [(2.5039824932274826-1.7484192778097865j)], [(1.9589728516656573-2.2006276441259631j)], [(1.5326326870612297-2.789266340286265j)], [(1.2509779693518133-3.4157345315446115j)], [(1.0725366343873728-4.0249446283137917j)]]\n",
      "----------------------------------------------------------------------------------------------------\n",
      "frequency: 4450000000000.0   k_init: (0.997308682168-4.61689663059j)\n"
     ]
    },
    {
     "data": {
      "text/latex": [
       "$$Eqs_\\text{ freespace } = \\left[\\begin{matrix}376.730313461771 H_{{y}} + 1.07221239533414 \\cdot 10^{-5} i \\frac{d}{d x} E_{{z}}\\\\- 376.730313461771 H_{{x}} + 1.07221239533414 \\cdot 10^{-5} i \\frac{d}{d y} E_{{z}}\\\\- 0.00265441872943807 E_{{y}} + 1.07221239533414 \\cdot 10^{-5} i \\frac{d}{d x} H_{{z}}\\\\0.00265441872943807 E_{{x}} + 1.07221239533414 \\cdot 10^{-5} i \\frac{d}{d y} H_{{z}}\\\\- 247.56463747193 i E_{{z}} - \\frac{d}{d y} H_{{x}} + \\frac{d}{d x} H_{{y}}\\\\35135791.6678781 i H_{{z}} - \\frac{d}{d y} E_{{x}} + \\frac{d}{d x} E_{{y}}\\end{matrix}\\right]$$"
      ],
      "text/plain": [
       "<IPython.core.display.Math at 0x7f537a9d64a8>"
      ]
     },
     "metadata": {},
     "output_type": "display_data"
    },
    {
     "name": "stdout",
     "output_type": "stream",
     "text": [
      "Eq1 boundary equations \n"
     ]
    },
    {
     "data": {
      "text/latex": [
       "$$EQs_\\text{ freespace }-b[0] = \\left[\\begin{matrix}376.730313461771 H_{{y}} & 1.07221239533414 \\cdot 10^{-5} i \\frac{d}{d x} E_{{z}}\\end{matrix}\\right]$$"
      ],
      "text/plain": [
       "<IPython.core.display.Math at 0x7f537ad16390>"
      ]
     },
     "metadata": {},
     "output_type": "display_data"
    },
    {
     "data": {
      "text/latex": [
       "$$EQs_\\text{ freespace }-b[1] = \\left[\\begin{matrix}- 376.730313461771 H_{{x}} & 1.07221239533414 \\cdot 10^{-5} i \\frac{d}{d y} E_{{z}}\\end{matrix}\\right]$$"
      ],
      "text/plain": [
       "<IPython.core.display.Math at 0x7f5376a8d4e0>"
      ]
     },
     "metadata": {},
     "output_type": "display_data"
    },
    {
     "data": {
      "text/latex": [
       "$$EQs_\\text{ freespace }-b[2] = \\left[\\begin{matrix}- 0.00265441872943807 E_{{y}} & 1.07221239533414 \\cdot 10^{-5} i \\frac{d}{d x} H_{{z}}\\end{matrix}\\right]$$"
      ],
      "text/plain": [
       "<IPython.core.display.Math at 0x7f5376a8d2e8>"
      ]
     },
     "metadata": {},
     "output_type": "display_data"
    },
    {
     "data": {
      "text/latex": [
       "$$EQs_\\text{ freespace }-b[3] = \\left[\\begin{matrix}0.00265441872943807 E_{{x}} & 1.07221239533414 \\cdot 10^{-5} i \\frac{d}{d y} H_{{z}}\\end{matrix}\\right]$$"
      ],
      "text/plain": [
       "<IPython.core.display.Math at 0x7f53751da4a8>"
      ]
     },
     "metadata": {},
     "output_type": "display_data"
    },
    {
     "data": {
      "text/latex": [
       "$$EQs_\\text{ freespace }-b[4] = \\left[\\begin{matrix}- 247.56463747193 i E_{{z}} & - \\frac{d}{d y} H_{{x}} & \\frac{d}{d x} H_{{y}}\\end{matrix}\\right]$$"
      ],
      "text/plain": [
       "<IPython.core.display.Math at 0x7f53751da4a8>"
      ]
     },
     "metadata": {},
     "output_type": "display_data"
    },
    {
     "data": {
      "text/latex": [
       "$$EQs_\\text{ freespace }-b[5] = \\left[\\begin{matrix}35135791.6678781 i H_{{z}} & - \\frac{d}{d y} E_{{x}} & \\frac{d}{d x} E_{{y}}\\end{matrix}\\right]$$"
      ],
      "text/plain": [
       "<IPython.core.display.Math at 0x7f53751da4a8>"
      ]
     },
     "metadata": {},
     "output_type": "display_data"
    },
    {
     "name": "stdout",
     "output_type": "stream",
     "text": [
      "[[(4564.41277648919-24760.06523392805j), 0.0, (-2767.8132780994906-1040.6791721955587j)], [0.0, 0.0, 0.0], [(2767.8132780994906+1040.6791721955587j), 0.0, (4564.41277648919-24760.06523392805j)]]\n"
     ]
    },
    {
     "data": {
      "text/latex": [
       "$$Eqs_\\text{ graphene } = \\left[\\begin{matrix}376.730313461771 H_{{y}} + 1.07221239533414 \\cdot 10^{-5} i \\frac{d}{d x} E_{{z}}\\\\- 376.730313461771 H_{{x}} + 1.07221239533414 \\cdot 10^{-5} i \\frac{d}{d y} E_{{z}}\\\\- 0.00265441872943807 E_{{y}} + 1.07221239533414 \\cdot 10^{-5} i \\frac{d}{d x} H_{{z}}\\\\- 0.262826069801559 E_{{x}} - 0.0489401995637325 i E_{{x}} - 0.0111582910799415 E_{{z}} + 0.0296768370474871 i E_{{z}} + 1.07221239533414 \\cdot 10^{-5} i \\frac{d}{d y} H_{{z}}\\\\- 2767.81327809949 E_{{x}} - 1040.67917219556 i E_{{x}} - 4564.41277648919 E_{{z}} + 24512.5005964561 i E_{{z}} - \\frac{d}{d y} H_{{x}} + \\frac{d}{d x} H_{{y}}\\\\35135791.6678781 i H_{{z}} - \\frac{d}{d y} E_{{x}} + \\frac{d}{d x} E_{{y}}\\end{matrix}\\right]$$"
      ],
      "text/plain": [
       "<IPython.core.display.Math at 0x7f53751dfb38>"
      ]
     },
     "metadata": {},
     "output_type": "display_data"
    },
    {
     "name": "stdout",
     "output_type": "stream",
     "text": [
      "Eq1 boundary equations \n"
     ]
    },
    {
     "data": {
      "text/latex": [
       "$$EQs_\\text{ graphene }-b[0] = \\left[\\begin{matrix}376.730313461771 H_{{y}} & 1.07221239533414 \\cdot 10^{-5} i \\frac{d}{d x} E_{{z}}\\end{matrix}\\right]$$"
      ],
      "text/plain": [
       "<IPython.core.display.Math at 0x7f5376a8d080>"
      ]
     },
     "metadata": {},
     "output_type": "display_data"
    },
    {
     "data": {
      "text/latex": [
       "$$EQs_\\text{ graphene }-b[1] = \\left[\\begin{matrix}- 376.730313461771 H_{{x}} & 1.07221239533414 \\cdot 10^{-5} i \\frac{d}{d y} E_{{z}}\\end{matrix}\\right]$$"
      ],
      "text/plain": [
       "<IPython.core.display.Math at 0x7f5376a8d3c8>"
      ]
     },
     "metadata": {},
     "output_type": "display_data"
    },
    {
     "data": {
      "text/latex": [
       "$$EQs_\\text{ graphene }-b[2] = \\left[\\begin{matrix}0 & - 0.00265441872943807 E_{{y}} & 0 & 1.07221239533414 \\cdot 10^{-5} i \\frac{d}{d x} H_{{z}}\\end{matrix}\\right]$$"
      ],
      "text/plain": [
       "<IPython.core.display.Math at 0x7f537ae34f28>"
      ]
     },
     "metadata": {},
     "output_type": "display_data"
    },
    {
     "data": {
      "text/latex": [
       "$$EQs_\\text{ graphene }-b[3] = \\left[\\begin{matrix}1.07221239533414 \\cdot 10^{-5} E_{{x}} \\left(247.56463747193 - i \\left(4564.41277648919 - 24760.065233928 i\\right)\\right) & 0 & - 1.07221239533414 \\cdot 10^{-5} i E_{{z}} \\left(-2767.81327809949 - 1040.67917219556 i\\right) & 1.07221239533414 \\cdot 10^{-5} i \\frac{d}{d y} H_{{z}}\\end{matrix}\\right]$$"
      ],
      "text/plain": [
       "<IPython.core.display.Math at 0x7f537ae34f28>"
      ]
     },
     "metadata": {},
     "output_type": "display_data"
    },
    {
     "data": {
      "text/latex": [
       "$$EQs_\\text{ graphene }-b[4] = \\left[\\begin{matrix}- E_{{x}} \\left(2767.81327809949 + 1040.67917219556 i\\right) & 0 & - E_{{z}} \\left(4564.41277648919 - 24512.5005964561 i\\right) & - \\frac{d}{d y} H_{{x}} & \\frac{d}{d x} H_{{y}}\\end{matrix}\\right]$$"
      ],
      "text/plain": [
       "<IPython.core.display.Math at 0x7f5375163438>"
      ]
     },
     "metadata": {},
     "output_type": "display_data"
    },
    {
     "data": {
      "text/latex": [
       "$$EQs_\\text{ graphene }-b[5] = \\left[\\begin{matrix}35135791.6678781 i H_{{z}} & - \\frac{d}{d y} E_{{x}} & \\frac{d}{d x} E_{{y}}\\end{matrix}\\right]$$"
      ],
      "text/plain": [
       "<IPython.core.display.Math at 0x7f537ae34f28>"
      ]
     },
     "metadata": {},
     "output_type": "display_data"
    },
    {
     "name": "stdout",
     "output_type": "stream",
     "text": [
      "initial matrix nnz 1843027 0:00:16\n",
      "initial matrix shared nnz 2219743 0:00:11\n",
      "final matrix (application of boundary conditions) nnz:  2219267 0:00:03\n",
      "A_11.shape:  (157356, 157356) A_11.nnz:  157356\n",
      "warning: this inversion mechanism only works for diagonal matrices\n",
      "eliminating z components 0:00:01\n",
      "A_reduced nnz:  2939132\n",
      "solving eigenvalues 0:03:19\n",
      "[ 0.9545245-4.60372762j]\n",
      "(359926, 1)\n",
      "0 4 x_correlation:  (0.57354109433+0.817749702713j)     abs(x_correlation):  0.998831298655\n",
      "k_correlation_r:  0.0428996436827     k_correlation_i:  0.00285235200204\n",
      "X :  [7000000000000.0, 6950000000000.0, 6850000000000.0, 6650000000000.0, 6450000000000.0, 6250000000000.0, 6050000000000.0, 5850000000000.0, 5650000000000.0, 5450000000000.0, 5250000000000.0, 5050000000000.0, 4850000000000.0, 4650000000000.0, 4450000000000.0, 4250000000000.0, 4050000000000.0, 3850000000000.0, 3650000000000.0, 3450000000000.0, 3250000000000.0, 3050000000000.0, 2850000000000.0, 2650000000000.0, 2450000000000.0, 2250000000000.0, 2050000000000.0, 1850000000000.0, 1650000000000.0, 1450000000000.0, 1250000000000.0]\n",
      "Y :  [[(9.0264198593920089-1.0265850275942863j)], [(8.9591509490803887-1.0248428143216293j)], [(8.8250554453441765-1.0213873265953377j)], [(8.5585964224031823-1.0145863243291824j)], [(8.2943834560896317-1.0079245347408612j)], [(8.0323500935623926-1.0013955543194086j)], [(7.7724369581080106-0.99499398313867937j)], [(7.514589631061205-0.98871676944562481j)], [(7.258763165805771-0.98256238682030228j)], [(7.0049175938053851-0.97652130310611174j)], [(6.7530093091440699-0.97058404763619255j)], [(6.5029986638359283-0.96474407348038327j)], [(6.2548497421581803-0.95899303239179656j)], [(6.0085276451703766-0.95332020226361569j)], [(5.7639986714177329-0.94771148236624303j)], [(5.5212310019493929-0.94214330023901227j)], [(5.2801971939104995-0.93657063085066661j)], [(5.0408877459070469-0.93090182701082791j)], [(4.8033478091954969-0.92495273204950945j)], [(4.5677684513733068-0.918381978216953j)], [(4.3346750063904764-0.91063646924897546j)], [(4.1052277194466695-0.90101040944521849j)], [(3.8814958575160263-0.88899691093329636j)], [(3.6662901824248366-0.87494632837546438j)], [(3.4622567126583665-0.86047256093346358j)], [(3.2708697732820666-0.84797930667052701j)], [(3.0922699867749484-0.83978604785702027j)], [(2.9257962923875875-0.83773328098448296j)], [(2.7705869716422944-0.84326399992566492j)], [(2.6262271839280289-0.85757176936093249j)], [(2.4940265655358189-0.88184889209401585j)]]\n",
      "X :  [7000000000000.0, 6950000000000.0, 6850000000000.0, 6650000000000.0, 6450000000000.0, 6250000000000.0, 6050000000000.0, 5850000000000.0, 5650000000000.0, 5450000000000.0, 5250000000000.0, 5050000000000.0, 4850000000000.0, 4650000000000.0, 4450000000000.0, 4250000000000.0, 4050000000000.0, 3850000000000.0, 3650000000000.0, 3450000000000.0, 3250000000000.0, 3050000000000.0, 2850000000000.0, 2650000000000.0, 2450000000000.0, 2250000000000.0, 2150000000000.0, 1950000000000.0, 1750000000000.0]\n",
      "Y :  [[(8.0232073158584836-1.0038177634322727j)], [(7.9580318024293435-1.002165067653527j)], [(7.8280933139952493-0.99888371498477257j)], [(7.5698373817955931-0.99241010085502668j)], [(7.3136932127065855-0.98604443809278242j)], [(7.0596085026341342-0.97977554145591095j)], [(6.8075371305561374-0.97359284654969247j)], [(6.5574373335614329-0.96748716557405556j)], [(6.3092748166396113-0.9614511664337817j)], [(6.0630218535066458-0.95547378216544254j)], [(5.8186517398008499-0.94954680963997151j)], [(5.5761431695747739-0.94367608673403425j)], [(5.3354794279992186-0.9378981947347097j)], [(5.0966347273222867-0.93231809097391694j)], [(4.8595367153326663-0.92717364591425044j)], [(4.6239798167363606-0.92292684758583232j)], [(4.3894683045966207-0.92037244078827407j)], [(4.1549808394212153-0.92075737918946254j)], [(3.9186483599056778-0.92593117488577226j)], [(3.677312941318621-0.93859549972758227j)], [(3.4258647371236117-0.96275710941544779j)], [(3.156208709294305-1.0045366154869255j)], [(2.8558165992984978-1.0738046274833923j)], [(2.5063563688924888-1.1885645297305534j)], [(2.0864234574600857-1.3890167237969169j)], [(1.6132893151693599-1.764693595219101j)], [(1.4010187694041538-2.0378203118915641j)], [(1.0870202432253238-2.678253372039892j)], [(0.86679846672573735-3.391184462235231j)]]\n",
      "X :  [7000000000000.0, 6950000000000.0, 6850000000000.0, 6650000000000.0, 6450000000000.0, 6250000000000.0, 6050000000000.0, 5850000000000.0, 5650000000000.0, 5450000000000.0, 5250000000000.0, 5050000000000.0, 4850000000000.0, 4650000000000.0, 4450000000000.0, 4250000000000.0, 4050000000000.0, 3850000000000.0, 3650000000000.0, 3450000000000.0, 3250000000000.0, 3050000000000.0, 2850000000000.0]\n",
      "Y :  [[(6.5956702117118349-0.78791361784606873j)], [(6.5435530246973519-0.78802249083072595j)], [(6.4391320917083572-0.78834760985526786j)], [(6.2293811334969185-0.7894861249931886j)], [(6.0180579613309053-0.79141024897694101j)], [(5.8046345497448524-0.79432853850880258j)], [(5.5884413350732611-0.79852240627067517j)], [(5.368619202567892-0.80437522758025648j)], [(5.1440509634386773-0.81241607687996109j)], [(4.9132683828200285-0.82338117543705347j)], [(4.6743175995161046-0.8383148983460913j)], [(4.4245647702757411-0.85871531442195226j)], [(4.1604339167452462-0.88679535356905737j)], [(3.877037422780544-0.92593969254811115j)], [(3.5677148568018668-0.98160065240720229j)], [(3.2235927485300775-1.0632398312221838j)], [(2.8341879494083608-1.1885173849669517j)], [(2.3933563458327187-1.3918629656390147j)], [(1.9259998070949513-1.7293820301048439j)], [(1.5244979731893422-2.2249726788156909j)], [(1.2579908774963218-2.7964485872495111j)], [(1.090583547827632-3.369443675168363j)], [(0.97124111072225883-3.9370616183026201j)]]\n",
      "X :  [7000000000000.0, 6950000000000.0, 6850000000000.0, 6650000000000.0, 6450000000000.0, 6250000000000.0, 6050000000000.0, 5850000000000.0, 5650000000000.0, 5450000000000.0, 5250000000000.0, 5050000000000.0, 4850000000000.0, 4650000000000.0, 4450000000000.0, 4250000000000.0, 4050000000000.0, 3850000000000.0, 3650000000000.0]\n",
      "Y :  [[(6.2737880213737869-0.83870302667178354j)], [(6.2130298312009069-0.84076827627467954j)], [(6.0903511298235351-0.84530657527834485j)], [(5.8397096988549269-0.85626279522147908j)], [(5.580619695053235-0.87030920913645859j)], [(5.3110009133316254-0.88837921927722785j)], [(5.0281827942839818-0.91179539888921979j)], [(4.7286956697010751-0.94249855324883391j)], [(4.4079744733559121-0.98345432903454566j)], [(4.0599805372069566-1.039443234787458j)], [(3.6767770262152428-1.1186428471058749j)], [(3.2486663163422-1.2359996001677609j)], [(2.7675710930930602-1.4201967346649025j)], [(2.2445842948598753-1.7225236426241923j)], [(1.752594825411963-2.1916902252273749j)], [(1.3947765144486235-2.7794959465476055j)], [(1.1752519990458639-3.3840511444019041j)], [(1.0424138604705955-3.9611324431614059j)], [(0.94813106474238373-4.5073227081160194j)]]\n",
      "X :  [7000000000000.0, 6950000000000.0, 6850000000000.0, 6650000000000.0, 6450000000000.0, 6250000000000.0, 6050000000000.0, 5850000000000.0, 5650000000000.0, 5450000000000.0, 5250000000000.0, 5050000000000.0, 4850000000000.0, 4650000000000.0, 4450000000000.0]\n",
      "Y :  [[(5.722674439701902-0.93216942168447792j)], [(5.6464262552655367-0.93829747873521585j)], [(5.4908645252106938-0.95174727681905913j)], [(5.1657822429627718-0.98437391926430307j)], [(4.8182412765899674-1.0271412924220784j)], [(4.4423714911030308-1.0846159873516263j)], [(4.0305299081864217-1.164515743117954j)], [(3.5733189335176081-1.2807297582230945j)], [(3.0622557973877278-1.4595334940394458j)], [(2.5039824932274826-1.7484192778097865j)], [(1.9589728516656573-2.2006276441259631j)], [(1.5326326870612297-2.789266340286265j)], [(1.2509779693518133-3.4157345315446115j)], [(1.0725366343873728-4.0249446283137917j)], [(0.9545244950610412-4.6037276162463305j)]]\n",
      "----------------------------------------------------------------------------------------------------\n",
      "divergence stats:  [0, 0, 0, 0, 0, 0, 0, 0, 0, 0, 0, 0, 0, 0, 0, 0, 0, 0, 0, 0, 0, 0, 0, 0, 0, 0, 0, 0, 0, 0, 0, 0, 1, 1, 1, 1, 1, 1, 1, 1, 1, 1, 1]\n"
     ]
    }
   ],
   "source": [
    "%reload_ext autoreload\n",
    "%autoreload\n",
    "\n",
    "maxwell2Dsolver.vbose = True\n",
    "ind_mode = 2\n",
    "k_init, k_vec_init = k_eigs[ind_mode], k_vecs[:, ind_mode]\n",
    "n_freq = 30\n",
    "f_step = (freq_1 - freq_0)/n_freq\n",
    "#[freq_sweep, x_null_sweep] = maxwell2Dsolver.sweepFrequency(k_init, k_vec_init, freq_0, freq_1, f_step, n_eig=3, stop_cond='Re(k)<1.01')\n",
    "\n",
    "\n",
    "file_sim = './other/datafiles/graphene_plasmons/fdfd_magnetoplasmon_sim'\n",
    "file_sim_start = None #'./other/datafiles/graphene_plasmons/fdfd_magnetoplasmon_sim_1'\n",
    "k_init, k_vec_init = k_eigs[0:5], [k_vecs[:, 0], k_vecs[:, 1], k_vecs[:, 2], k_vecs[:, 3], k_vecs[:, 4]]\n",
    "[freq_sweep, x_null_sweep] = maxwell2Dsolver.sweepFrequencyMultiple(k_init, k_vec_init, freq_0, freq_1, f_step, n_eig=6, tol=1.0e-4,\n",
    "                                        interp_ord=4, stop_cond='Re(k)<1.01', saveToFile=file_sim, readFromFile=file_sim_start)\n",
    "\n"
   ]
  },
  {
   "cell_type": "code",
   "execution_count": 6,
   "metadata": {},
   "outputs": [
    {
     "name": "stdout",
     "output_type": "stream",
     "text": [
      "[(7000000000000.0, [(9.0264198593920089-1.0265850275942863j)]), (6950000000000.0, [(8.9591509490803887-1.0248428143216293j)]), (6850000000000.0, [(8.8250554453441765-1.0213873265953377j)]), (6650000000000.0, [(8.5585964224031823-1.0145863243291824j)]), (6450000000000.0, [(8.2943834560896317-1.0079245347408612j)]), (6250000000000.0, [(8.0323500935623926-1.0013955543194086j)]), (6050000000000.0, [(7.7724369581080106-0.99499398313867937j)]), (5850000000000.0, [(7.514589631061205-0.98871676944562481j)]), (5650000000000.0, [(7.258763165805771-0.98256238682030228j)]), (5450000000000.0, [(7.0049175938053851-0.97652130310611174j)]), (5250000000000.0, [(6.7530093091440699-0.97058404763619255j)]), (5050000000000.0, [(6.5029986638359283-0.96474407348038327j)]), (4850000000000.0, [(6.2548497421581803-0.95899303239179656j)]), (4650000000000.0, [(6.0085276451703766-0.95332020226361569j)]), (4450000000000.0, [(5.7639986714177329-0.94771148236624303j)]), (4250000000000.0, [(5.5212310019493929-0.94214330023901227j)]), (4050000000000.0, [(5.2801971939104995-0.93657063085066661j)]), (3850000000000.0, [(5.0408877459070469-0.93090182701082791j)]), (3650000000000.0, [(4.8033478091954969-0.92495273204950945j)]), (3450000000000.0, [(4.5677684513733068-0.918381978216953j)]), (3250000000000.0, [(4.3346750063904764-0.91063646924897546j)]), (3050000000000.0, [(4.1052277194466695-0.90101040944521849j)]), (2850000000000.0, [(3.8814958575160263-0.88899691093329636j)]), (2650000000000.0, [(3.6662901824248366-0.87494632837546438j)]), (2450000000000.0, [(3.4622567126583665-0.86047256093346358j)]), (2250000000000.0, [(3.2708697732820666-0.84797930667052701j)]), (2050000000000.0, [(3.0922699867749484-0.83978604785702027j)]), (1850000000000.0, [(2.9257962923875875-0.83773328098448296j)]), (1650000000000.0, [(2.7705869716422944-0.84326399992566492j)]), (1450000000000.0, [(2.6262271839280289-0.85757176936093249j)]), (1250000000000.0, [(2.4940265655358189-0.88184889209401585j)])] \n",
      "\n",
      "------------------------------------------------------------\n",
      "[(7000000000000.0, [(8.0232073158584836-1.0038177634322727j)]), (6950000000000.0, [(7.9580318024293435-1.002165067653527j)]), (6850000000000.0, [(7.8280933139952493-0.99888371498477257j)]), (6650000000000.0, [(7.5698373817955931-0.99241010085502668j)]), (6450000000000.0, [(7.3136932127065855-0.98604443809278242j)]), (6250000000000.0, [(7.0596085026341342-0.97977554145591095j)]), (6050000000000.0, [(6.8075371305561374-0.97359284654969247j)]), (5850000000000.0, [(6.5574373335614329-0.96748716557405556j)]), (5650000000000.0, [(6.3092748166396113-0.9614511664337817j)]), (5450000000000.0, [(6.0630218535066458-0.95547378216544254j)]), (5250000000000.0, [(5.8186517398008499-0.94954680963997151j)]), (5050000000000.0, [(5.5761431695747739-0.94367608673403425j)]), (4850000000000.0, [(5.3354794279992186-0.9378981947347097j)]), (4650000000000.0, [(5.0966347273222867-0.93231809097391694j)]), (4450000000000.0, [(4.8595367153326663-0.92717364591425044j)]), (4250000000000.0, [(4.6239798167363606-0.92292684758583232j)]), (4050000000000.0, [(4.3894683045966207-0.92037244078827407j)]), (3850000000000.0, [(4.1549808394212153-0.92075737918946254j)]), (3650000000000.0, [(3.9186483599056778-0.92593117488577226j)]), (3450000000000.0, [(3.677312941318621-0.93859549972758227j)]), (3250000000000.0, [(3.4258647371236117-0.96275710941544779j)]), (3050000000000.0, [(3.156208709294305-1.0045366154869255j)]), (2850000000000.0, [(2.8558165992984978-1.0738046274833923j)]), (2650000000000.0, [(2.5063563688924888-1.1885645297305534j)]), (2450000000000.0, [(2.0864234574600857-1.3890167237969169j)]), (2250000000000.0, [(1.6132893151693599-1.764693595219101j)]), (2150000000000.0, [(1.4010187694041538-2.0378203118915641j)]), (1950000000000.0, [(1.0870202432253238-2.678253372039892j)]), (1750000000000.0, [(0.86679846672573735-3.391184462235231j)])] \n",
      "\n",
      "------------------------------------------------------------\n",
      "[(7000000000000.0, [(6.5956702117118349-0.78791361784606873j)]), (6950000000000.0, [(6.5435530246973519-0.78802249083072595j)]), (6850000000000.0, [(6.4391320917083572-0.78834760985526786j)]), (6650000000000.0, [(6.2293811334969185-0.7894861249931886j)]), (6450000000000.0, [(6.0180579613309053-0.79141024897694101j)]), (6250000000000.0, [(5.8046345497448524-0.79432853850880258j)]), (6050000000000.0, [(5.5884413350732611-0.79852240627067517j)]), (5850000000000.0, [(5.368619202567892-0.80437522758025648j)]), (5650000000000.0, [(5.1440509634386773-0.81241607687996109j)]), (5450000000000.0, [(4.9132683828200285-0.82338117543705347j)]), (5250000000000.0, [(4.6743175995161046-0.8383148983460913j)]), (5050000000000.0, [(4.4245647702757411-0.85871531442195226j)]), (4850000000000.0, [(4.1604339167452462-0.88679535356905737j)]), (4650000000000.0, [(3.877037422780544-0.92593969254811115j)]), (4450000000000.0, [(3.5677148568018668-0.98160065240720229j)]), (4250000000000.0, [(3.2235927485300775-1.0632398312221838j)]), (4050000000000.0, [(2.8341879494083608-1.1885173849669517j)]), (3850000000000.0, [(2.3933563458327187-1.3918629656390147j)]), (3650000000000.0, [(1.9259998070949513-1.7293820301048439j)]), (3450000000000.0, [(1.5244979731893422-2.2249726788156909j)]), (3250000000000.0, [(1.2579908774963218-2.7964485872495111j)]), (3050000000000.0, [(1.090583547827632-3.369443675168363j)]), (2850000000000.0, [(0.97124111072225883-3.9370616183026201j)])] \n",
      "\n",
      "------------------------------------------------------------\n",
      "[(7000000000000.0, [(6.2737880213737869-0.83870302667178354j)]), (6950000000000.0, [(6.2130298312009069-0.84076827627467954j)]), (6850000000000.0, [(6.0903511298235351-0.84530657527834485j)]), (6650000000000.0, [(5.8397096988549269-0.85626279522147908j)]), (6450000000000.0, [(5.580619695053235-0.87030920913645859j)]), (6250000000000.0, [(5.3110009133316254-0.88837921927722785j)]), (6050000000000.0, [(5.0281827942839818-0.91179539888921979j)]), (5850000000000.0, [(4.7286956697010751-0.94249855324883391j)]), (5650000000000.0, [(4.4079744733559121-0.98345432903454566j)]), (5450000000000.0, [(4.0599805372069566-1.039443234787458j)]), (5250000000000.0, [(3.6767770262152428-1.1186428471058749j)]), (5050000000000.0, [(3.2486663163422-1.2359996001677609j)]), (4850000000000.0, [(2.7675710930930602-1.4201967346649025j)]), (4650000000000.0, [(2.2445842948598753-1.7225236426241923j)]), (4450000000000.0, [(1.752594825411963-2.1916902252273749j)]), (4250000000000.0, [(1.3947765144486235-2.7794959465476055j)]), (4050000000000.0, [(1.1752519990458639-3.3840511444019041j)]), (3850000000000.0, [(1.0424138604705955-3.9611324431614059j)]), (3650000000000.0, [(0.94813106474238373-4.5073227081160194j)])] \n",
      "\n",
      "------------------------------------------------------------\n",
      "[(7000000000000.0, [(5.722674439701902-0.93216942168447792j)]), (6950000000000.0, [(5.6464262552655367-0.93829747873521585j)]), (6850000000000.0, [(5.4908645252106938-0.95174727681905913j)]), (6650000000000.0, [(5.1657822429627718-0.98437391926430307j)]), (6450000000000.0, [(4.8182412765899674-1.0271412924220784j)]), (6250000000000.0, [(4.4423714911030308-1.0846159873516263j)]), (6050000000000.0, [(4.0305299081864217-1.164515743117954j)]), (5850000000000.0, [(3.5733189335176081-1.2807297582230945j)]), (5650000000000.0, [(3.0622557973877278-1.4595334940394458j)]), (5450000000000.0, [(2.5039824932274826-1.7484192778097865j)]), (5250000000000.0, [(1.9589728516656573-2.2006276441259631j)]), (5050000000000.0, [(1.5326326870612297-2.789266340286265j)]), (4850000000000.0, [(1.2509779693518133-3.4157345315446115j)]), (4650000000000.0, [(1.0725366343873728-4.0249446283137917j)]), (4450000000000.0, [(0.9545244950610412-4.6037276162463305j)])] \n",
      "\n",
      "------------------------------------------------------------\n"
     ]
    }
   ],
   "source": [
    "#print(dict(zip(freq_sweep.X, freq_sweep.Y)))\n",
    "\n",
    "for i in range(5):\n",
    "    print(list(zip(freq_sweep[i].X, freq_sweep[i].Y)), '\\n')\n",
    "    print('-'*60)\n",
    "    "
   ]
  },
  {
   "cell_type": "code",
   "execution_count": 7,
   "metadata": {},
   "outputs": [],
   "source": [
    "name = 'fdfd_graph_strip_magnetoplasmon'\n",
    "f_name = './other/datafiles/graphene_plasmons/'+name\n",
    "\n",
    "params_dic = {'freq_0':freq_0, 'freq_1':freq_1, 'mu_c':mu_c, 'B_0':B_0, 'tau':tau, 'T':T,\n",
    "              'width_graph':width_graph, 'del_graph':del_graph, 'n_modes':n_modes, 'W_x':W_x, 'W_y':W_y}\n"
   ]
  },
  {
   "cell_type": "code",
   "execution_count": 8,
   "metadata": {},
   "outputs": [],
   "source": [
    "import pickle\n",
    "import os\n",
    "\n",
    "\n",
    "f_dir = os.path.dirname(f_name)\n",
    "if not os.path.exists(f_dir):\n",
    "    os.makedirs(f_dir)\n",
    "\n",
    "f = open(f_name, 'wb')\n",
    "\n",
    "pickle.dump(params_dic, f)\n",
    "pickle.dump(freq_sweep, f)\n",
    "\n",
    "f.close()\n"
   ]
  },
  {
   "cell_type": "code",
   "execution_count": null,
   "metadata": {},
   "outputs": [],
   "source": [
    "import pickle\n",
    "import os\n",
    "\n",
    "#f_name = file_sim_start\n",
    "f = open(f_name, 'rb')\n",
    "\n",
    "params_dic = pickle.load(f)\n",
    "freq_sweep = pickle.load(f)\n",
    "f.close()"
   ]
  },
  {
   "cell_type": "code",
   "execution_count": 9,
   "metadata": {},
   "outputs": [
    {
     "name": "stdout",
     "output_type": "stream",
     "text": [
      "Populating the interactive namespace from numpy and matplotlib\n"
     ]
    },
    {
     "name": "stderr",
     "output_type": "stream",
     "text": [
      "WARNING: pylab import has clobbered these variables: ['f']\n",
      "`%pylab --no-import-all` prevents importing * from pylab and numpy\n"
     ]
    },
    {
     "data": {
      "image/png": "[encoded data removed]",
      "text/plain": [
       "<matplotlib.figure.Figure at 0x7f537aa0ccf8>"
      ]
     },
     "metadata": {},
     "output_type": "display_data"
    },
    {
     "data": {
      "image/png": "[encoded data removed]",
      "text/plain": [
       "<matplotlib.figure.Figure at 0x7f5375cd2e48>"
      ]
     },
     "metadata": {},
     "output_type": "display_data"
    }
   ],
   "source": [
    "%reload_ext autoreload\n",
    "%autoreload\n",
    "%pylab inline\n",
    "\n",
    "for i in range(5):\n",
    "    freq_sweep[i].RemoveNones()\n",
    "\n",
    "for i in range(5):\n",
    "    plot(np.real(np.array(freq_sweep[i].Y)), np.array(freq_sweep[i].X))\n",
    "show()\n",
    "\n",
    "for i in range(5):\n",
    "    plot(-np.imag(np.array(freq_sweep[i].Y)), np.array(freq_sweep[i].X))\n",
    "show()    "
   ]
  },
  {
   "cell_type": "code",
   "execution_count": null,
   "metadata": {},
   "outputs": [],
   "source": []
  }
 ],
 "metadata": {
  "kernelspec": {
   "display_name": "Python 3",
   "language": "python",
   "name": "python3"
  },
  "language_info": {
   "codemirror_mode": {
    "name": "ipython",
    "version": 3
   },
   "file_extension": ".py",
   "mimetype": "text/x-python",
   "name": "python",
   "nbconvert_exporter": "python",
   "pygments_lexer": "ipython3",
   "version": "3.6.6"
  }
 },
 "nbformat": 4,
 "nbformat_minor": 1
}
