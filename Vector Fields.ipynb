{
 "cells": [
  {
   "cell_type": "markdown",
   "metadata": {},
   "source": [
    "# Vector calculus"
   ]
  },
  {
   "cell_type": "code",
   "execution_count": 2,
   "metadata": {
    "collapsed": false
   },
   "outputs": [
    {
     "name": "stdout",
     "output_type": "stream",
     "text": [
      "scalar potential:\n"
     ]
    },
    {
     "data": {
      "text/latex": [
       "$$2 x^{2} y$$"
      ],
      "text/plain": [
       "<IPython.core.display.Math object>"
      ]
     },
     "metadata": {},
     "output_type": "display_data"
    },
    {
     "name": "stdout",
     "output_type": "stream",
     "text": [
      "partial differential with respect to x:\n"
     ]
    },
    {
     "data": {
      "text/latex": [
       "$$4 x y$$"
      ],
      "text/plain": [
       "<IPython.core.display.Math object>"
      ]
     },
     "metadata": {},
     "output_type": "display_data"
    },
    {
     "data": {
      "text/latex": [
       "$$2 x^{2} y \\frac{\\partial}{\\partial x} f{\\left (x,y \\right )} + 4 x y f{\\left (x,y \\right )}$$"
      ],
      "text/plain": [
       "<IPython.core.display.Math object>"
      ]
     },
     "metadata": {},
     "output_type": "display_data"
    },
    {
     "data": {
      "text/latex": [
       "$$x y^{2} z^{3}a_x$$"
      ],
      "text/plain": [
       "<IPython.core.display.Math object>"
      ]
     },
     "metadata": {},
     "output_type": "display_data"
    }
   ],
   "source": [
    "from sympy.physics.mechanics import ReferenceFrame\n",
    "from sympy import *\n",
    "from IPython.display import display, Math, Latex\n",
    "\n",
    "init_printing()\n",
    "R = ReferenceFrame('R', latexs=('a_x', 'a_y', 'a_z'), variables=('x', 'y', 'z'))\n",
    "electric_potential = 2*R[0]**2*R[1]\n",
    "print(\"scalar potential:\")\n",
    "\n",
    "display(Math(latex(electric_potential)))\n",
    "\n",
    "\n",
    "print(\"partial differential with respect to x:\")\n",
    "display(Math(latex(diff(electric_potential, R[0]))))\n",
    "\n",
    "f = Function('f')(R[0],R[1])\n",
    "electric_potential = 2*R[0]**2*R[1]*f\n",
    "electric_potential_diff = diff(electric_potential, R[0])\n",
    "display(Math(latex(electric_potential_diff)))\n",
    "\n",
    "\n",
    "vec_field = R[0]*R[1]**2*R[2]**3*R.x\n",
    "display(Math(latex(vec_field)))\n",
    "\n"
   ]
  },
  {
   "cell_type": "code",
   "execution_count": 19,
   "metadata": {
    "collapsed": false
   },
   "outputs": [
    {
     "data": {
      "text/latex": [
       "$$\\nabla f = \\left[\\begin{matrix}\\frac{\\partial}{\\partial x} f{\\left (x,y,z \\right )} & \\frac{\\partial}{\\partial y} f{\\left (x,y,z \\right )} & \\frac{\\partial}{\\partial z} f{\\left (x,y,z \\right )}\\end{matrix}\\right]$$"
      ],
      "text/plain": [
       "<IPython.core.display.Math object>"
      ]
     },
     "metadata": {},
     "output_type": "display_data"
    },
    {
     "data": {
      "text/latex": [
       "$$\\nabla^2 f = \\frac{\\partial^{2}}{\\partial x^{2}}  f{\\left (x,y,z \\right )} + \\frac{\\partial^{2}}{\\partial y^{2}}  f{\\left (x,y,z \\right )} + \\frac{\\partial^{2}}{\\partial z^{2}}  f{\\left (x,y,z \\right )}$$"
      ],
      "text/plain": [
       "<IPython.core.display.Math object>"
      ]
     },
     "metadata": {},
     "output_type": "display_data"
    },
    {
     "data": {
      "text/latex": [
       "$$\\nabla\\times\\nabla f = \\left[\\begin{matrix}0 & 0 & 0\\end{matrix}\\right]$$"
      ],
      "text/plain": [
       "<IPython.core.display.Math object>"
      ]
     },
     "metadata": {},
     "output_type": "display_data"
    },
    {
     "data": {
      "text/latex": [
       "$$G = \\left[\\begin{matrix}\\operatorname{g_{x}}{\\left (x,y,z \\right )} & \\operatorname{g_{y}}{\\left (x,y,z \\right )} & \\operatorname{g_{z}}{\\left (x,y,z \\right )}\\end{matrix}\\right]$$"
      ],
      "text/plain": [
       "<IPython.core.display.Math object>"
      ]
     },
     "metadata": {},
     "output_type": "display_data"
    },
    {
     "data": {
      "text/latex": [
       "$$\\nabla^2 G = \\left[\\begin{matrix}\\frac{\\partial^{2}}{\\partial x^{2}}  \\operatorname{g_{x}}{\\left (x,y,z \\right )} + \\frac{\\partial^{2}}{\\partial y^{2}}  \\operatorname{g_{x}}{\\left (x,y,z \\right )} + \\frac{\\partial^{2}}{\\partial z^{2}}  \\operatorname{g_{x}}{\\left (x,y,z \\right )}\\\\\\frac{\\partial^{2}}{\\partial x^{2}}  \\operatorname{g_{y}}{\\left (x,y,z \\right )} + \\frac{\\partial^{2}}{\\partial y^{2}}  \\operatorname{g_{y}}{\\left (x,y,z \\right )} + \\frac{\\partial^{2}}{\\partial z^{2}}  \\operatorname{g_{y}}{\\left (x,y,z \\right )}\\\\\\frac{\\partial^{2}}{\\partial x^{2}}  \\operatorname{g_{z}}{\\left (x,y,z \\right )} + \\frac{\\partial^{2}}{\\partial y^{2}}  \\operatorname{g_{z}}{\\left (x,y,z \\right )} + \\frac{\\partial^{2}}{\\partial z^{2}}  \\operatorname{g_{z}}{\\left (x,y,z \\right )}\\end{matrix}\\right]$$"
      ],
      "text/plain": [
       "<IPython.core.display.Math object>"
      ]
     },
     "metadata": {},
     "output_type": "display_data"
    },
    {
     "data": {
      "text/latex": [
       "$$\\nabla\\times G = \\left[\\begin{matrix}- \\frac{\\partial}{\\partial z} \\operatorname{g_{y}}{\\left (x,y,z \\right )} + \\frac{\\partial}{\\partial y} \\operatorname{g_{z}}{\\left (x,y,z \\right )}\\\\\\frac{\\partial}{\\partial z} \\operatorname{g_{x}}{\\left (x,y,z \\right )} - \\frac{\\partial}{\\partial x} \\operatorname{g_{z}}{\\left (x,y,z \\right )}\\\\- \\frac{\\partial}{\\partial y} \\operatorname{g_{x}}{\\left (x,y,z \\right )} + \\frac{\\partial}{\\partial x} \\operatorname{g_{y}}{\\left (x,y,z \\right )}\\end{matrix}\\right]$$"
      ],
      "text/plain": [
       "<IPython.core.display.Math object>"
      ]
     },
     "metadata": {},
     "output_type": "display_data"
    },
    {
     "data": {
      "text/latex": [
       "$$\\nabla\\cdot\\nabla\\times G = 0$$"
      ],
      "text/plain": [
       "<IPython.core.display.Math object>"
      ]
     },
     "metadata": {},
     "output_type": "display_data"
    }
   ],
   "source": [
    "%reload_ext autoreload\n",
    "%autoreload\n",
    "\n",
    "from sympy import *\n",
    "from Electromagnetics.VectorCalculus import *\n",
    "\n",
    "init_printing()\n",
    "from IPython.display import display, Math, Latex\n",
    "\n",
    "x, y, z = symbols('x y z')\n",
    "f = Function('f')(x,y,z)\n",
    "g_1 = Function('g_x')(x,y,z)\n",
    "g_2 = Function('g_y')(x,y,z)\n",
    "g_3 = Function('g_z')(x,y,z)\n",
    "\n",
    "grad_f = gradient_r(f)\n",
    "display(Math(r'\\nabla f = ' + latex(grad_f)))\n",
    "\n",
    "d2_f = del_square_sc_r(f)\n",
    "display(Math(r'\\nabla^2 f = ' + latex(d2_f)))\n",
    "\n",
    "curl_grad = curl_r(grad_f)\n",
    "display(Math(r'\\nabla\\times\\nabla f = ' + latex(curl_grad)))\n",
    "\n",
    "G = Matrix([[g_1, g_2, g_3]])\n",
    "display(Math('G = ' + latex(G)))\n",
    "\n",
    "del2_G = del_square_vec_r(G)\n",
    "display(Math(r'\\nabla^2 G = ' + latex(del2_G.T)))\n",
    "\n",
    "curl_G = curl_r(G)\n",
    "display(Math(r'\\nabla\\times G = ' + latex(curl_G.T)))\n",
    "\n",
    "div_curl = divergence_r(curl_G).doit().simplify()\n",
    "display(Math(r'\\nabla\\cdot\\nabla\\times G = ' + latex(div_curl)))\n"
   ]
  },
  {
   "cell_type": "code",
   "execution_count": 15,
   "metadata": {
    "collapsed": false
   },
   "outputs": [
    {
     "data": {
      "text/latex": [
       "$$\\nabla f = \\left[\\begin{matrix}\\frac{\\partial}{\\partial \\rho} f{\\left (\\rho,\\phi,z \\right )} & \\frac{1}{\\rho} \\frac{\\partial}{\\partial \\phi} f{\\left (\\rho,\\phi,z \\right )} & \\frac{\\partial}{\\partial z} f{\\left (\\rho,\\phi,z \\right )}\\end{matrix}\\right]$$"
      ],
      "text/plain": [
       "<IPython.core.display.Math object>"
      ]
     },
     "metadata": {},
     "output_type": "display_data"
    },
    {
     "data": {
      "text/latex": [
       "$$G = \\left[\\begin{matrix}\\operatorname{g_{{\\rho}}}{\\left (\\rho,\\phi,z \\right )} & \\operatorname{g_{{\\phi}}}{\\left (\\rho,\\phi,z \\right )} & \\operatorname{g_{z}}{\\left (\\rho,\\phi,z \\right )}\\end{matrix}\\right]$$"
      ],
      "text/plain": [
       "<IPython.core.display.Math object>"
      ]
     },
     "metadata": {},
     "output_type": "display_data"
    },
    {
     "data": {
      "text/latex": [
       "$$\\nabla\\times G = \\left[\\begin{matrix}- \\frac{\\partial}{\\partial z} \\operatorname{g_{{\\phi}}}{\\left (\\rho,\\phi,z \\right )} + \\frac{1}{\\rho} \\frac{\\partial}{\\partial \\phi} \\operatorname{g_{z}}{\\left (\\rho,\\phi,z \\right )}\\\\- \\frac{\\partial}{\\partial \\rho} \\operatorname{g_{z}}{\\left (\\rho,\\phi,z \\right )} + \\frac{\\partial}{\\partial z} \\operatorname{g_{{\\rho}}}{\\left (\\rho,\\phi,z \\right )}\\\\\\frac{1}{\\rho} \\frac{\\partial}{\\partial \\rho}\\left(\\rho \\operatorname{g_{{\\phi}}}{\\left (\\rho,\\phi,z \\right )}\\right) - \\frac{1}{\\rho} \\frac{\\partial}{\\partial \\phi} \\operatorname{g_{{\\rho}}}{\\left (\\rho,\\phi,z \\right )}\\end{matrix}\\right]$$"
      ],
      "text/plain": [
       "<IPython.core.display.Math object>"
      ]
     },
     "metadata": {},
     "output_type": "display_data"
    },
    {
     "data": {
      "text/latex": [
       "$$\\nabla \\cdot G = \\frac{\\partial}{\\partial z} \\operatorname{g_{z}}{\\left (\\rho,\\phi,z \\right )} + \\frac{1}{\\rho} \\frac{\\partial}{\\partial \\rho}\\left(\\rho \\operatorname{g_{{\\rho}}}{\\left (\\rho,\\phi,z \\right )}\\right) + \\frac{1}{\\rho} \\frac{\\partial}{\\partial \\phi} \\operatorname{g_{{\\phi}}}{\\left (\\rho,\\phi,z \\right )}$$"
      ],
      "text/plain": [
       "<IPython.core.display.Math object>"
      ]
     },
     "metadata": {},
     "output_type": "display_data"
    },
    {
     "data": {
      "text/latex": [
       "$$\\nabla\\times\\nabla f = \\left[\\begin{matrix}0 & 0 & 0\\end{matrix}\\right]$$"
      ],
      "text/plain": [
       "<IPython.core.display.Math object>"
      ]
     },
     "metadata": {},
     "output_type": "display_data"
    },
    {
     "data": {
      "text/latex": [
       "$$\\nabla\\cdot\\nabla\\times G = 0$$"
      ],
      "text/plain": [
       "<IPython.core.display.Math object>"
      ]
     },
     "metadata": {},
     "output_type": "display_data"
    }
   ],
   "source": [
    "%reload_ext autoreload\n",
    "%autoreload\n",
    "\n",
    "from sympy import *\n",
    "from Electromagnetics.VectorCalculus import *\n",
    "from Electromagnetics import Misc\n",
    "\n",
    "init_printing()\n",
    "from IPython.display import display, Math, Latex\n",
    "\n",
    "rho, phi, z = symbols(r'\\rho \\phi z')\n",
    "f = Function('f')(rho,phi,z)\n",
    "g_1 = Function(r'g_{\\rho}')(rho,phi,z)\n",
    "g_2 = Function(r'g_{\\phi}')(rho,phi,z)\n",
    "g_3 = Function(r'g_z')(rho,phi,z)\n",
    "\n",
    "grad_f = gradient_cy(f)\n",
    "display(Math(r'\\nabla f = ' + latex(grad_f)))\n",
    "\n",
    "G = Matrix([[g_1, g_2, g_3]])\n",
    "display(Math('G = ' + latex(G)))\n",
    "\n",
    "curl_G = curl_cy(G)\n",
    "display(Math(r'\\nabla\\times G = ' + latex(curl_G.T)))\n",
    "\n",
    "div_G = divergence_cy(G)\n",
    "display(Math(r'\\nabla \\cdot G = ' + latex(div_G)))\n",
    "\n",
    "curl_grad = Misc.SymMatrixSimplify(Misc.SymMatrixdoit(curl_cy(grad_f)))\n",
    "display(Math(r'\\nabla\\times\\nabla f = ' + latex(curl_grad)))\n",
    "\n",
    "div_curl = divergence_cy(curl_G).doit().simplify()\n",
    "display(Math(r'\\nabla\\cdot\\nabla\\times G = ' + latex(div_curl)))\n",
    "\n"
   ]
  },
  {
   "cell_type": "code",
   "execution_count": null,
   "metadata": {
    "collapsed": true
   },
   "outputs": [],
   "source": []
  }
 ],
 "metadata": {
  "kernelspec": {
   "display_name": "Python 3",
   "language": "python",
   "name": "python3"
  },
  "language_info": {
   "codemirror_mode": {
    "name": "ipython",
    "version": 3
   },
   "file_extension": ".py",
   "mimetype": "text/x-python",
   "name": "python",
   "nbconvert_exporter": "python",
   "pygments_lexer": "ipython3",
   "version": "3.4.3"
  }
 },
 "nbformat": 4,
 "nbformat_minor": 0
}
