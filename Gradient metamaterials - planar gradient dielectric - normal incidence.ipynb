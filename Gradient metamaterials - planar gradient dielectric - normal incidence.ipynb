{
 "cells": [
  {
   "cell_type": "markdown",
   "metadata": {},
   "source": [
    "testing the analytic solution of the gradient material wave equation in 1D"
   ]
  },
  {
   "cell_type": "code",
   "execution_count": 1,
   "metadata": {
    "collapsed": false
   },
   "outputs": [
    {
     "data": {
      "text/latex": [
       "$$\\frac{\\partial^{2}}{\\partial z^{2}}  f{\\left (z,t \\right )} - \\frac{n_{0}^{2}}{c^{2}} U^{2}{\\left (z \\right )} \\frac{\\partial^{2}}{\\partial t^{2}}  f{\\left (z,t \\right )}$$"
      ],
      "text/plain": [
       "<IPython.core.display.Math at 0x7f510b5b0710>"
      ]
     },
     "metadata": {},
     "output_type": "display_data"
    }
   ],
   "source": [
    "from sympy import *\n",
    "from IPython.display import display, Math, Latex\n",
    "\n",
    "x, y, z, t = symbols('x y z t') \n",
    "\n",
    "f = Function('f')(z, t)\n",
    "U = Function('U')(z)\n",
    "#H = Function('H')(z)\n",
    "\n",
    "n_0, c = symbols('n_0 c')\n",
    "omega, Omega = symbols('\\\\omega \\\\Omega')\n",
    "\n",
    "EQ = diff(f, z, 2) - n_0**2*U**2/c**2*diff(f, t, 2)\n",
    "\n",
    "display(Math(latex(EQ)))\n",
    "\n"
   ]
  },
  {
   "cell_type": "markdown",
   "metadata": {},
   "source": [
    "### change of variable"
   ]
  },
  {
   "cell_type": "code",
   "execution_count": 23,
   "metadata": {
    "collapsed": false
   },
   "outputs": [
    {
     "data": {
      "text/latex": [
       "$$\\left(U{\\left (\\eta^{{-1}}{\\left (\\eta \\right )} \\right )} + \\int_{0}^{\\eta^{{-1}}{\\left (\\eta \\right )}} 0\\, dz\\right) \\frac{\\partial}{\\partial \\eta}\\left(\\left(U{\\left (\\eta^{{-1}}{\\left (\\eta \\right )} \\right )} + \\int_{0}^{\\eta^{{-1}}{\\left (\\eta \\right )}} 0\\, dz\\right) \\frac{\\partial}{\\partial \\eta} f{\\left (z,t \\right )}\\right) - \\frac{n_{0}^{2}}{c^{2}} U^{2}{\\left (z \\right )} \\frac{\\partial^{2}}{\\partial t'^{2}}  f{\\left (z,t \\right )}$$"
      ],
      "text/plain": [
       "<IPython.core.display.Math at 0x7f521ee2a860>"
      ]
     },
     "metadata": {},
     "output_type": "display_data"
    },
    {
     "data": {
      "text/latex": [
       "$$\\left(U{\\left (\\eta^{{-1}}{\\left (\\eta \\right )} \\right )} + \\int_{0}^{\\eta^{{-1}}{\\left (\\eta \\right )}} 0\\, dz\\right) \\frac{\\partial}{\\partial \\eta}\\left(\\left(U{\\left (\\eta^{{-1}}{\\left (\\eta \\right )} \\right )} + \\int_{0}^{\\eta^{{-1}}{\\left (\\eta \\right )}} 0\\, dz\\right) \\frac{\\partial}{\\partial \\eta}\\left(\\frac{f{\\left (\\eta,t' \\right )}}{\\sqrt{U{\\left (\\eta^{{-1}}{\\left (\\eta \\right )} \\right )}}}\\right)\\right) - \\frac{n_{0}^{2}}{c^{2}} U^{2}{\\left (\\eta^{{-1}}{\\left (\\eta \\right )} \\right )} \\frac{\\partial^{2}}{\\partial t'^{2}} \\left(\\frac{f{\\left (\\eta,t' \\right )}}{\\sqrt{U{\\left (\\eta^{{-1}}{\\left (\\eta \\right )} \\right )}}}\\right)$$"
      ],
      "text/plain": [
       "<IPython.core.display.Math at 0x7f521f0ae4a8>"
      ]
     },
     "metadata": {},
     "output_type": "display_data"
    },
    {
     "data": {
      "text/latex": [
       "$$U^{\\frac{3}{2}}{\\left (\\eta^{{-1}}{\\left (\\eta \\right )} \\right )} \\frac{\\partial^{2}}{\\partial \\eta^{2}}  f{\\left (\\eta,t' \\right )} - \\frac{1}{2} \\sqrt{U{\\left (\\eta^{{-1}}{\\left (\\eta \\right )} \\right )}} f{\\left (\\eta,t' \\right )} \\left(\\frac{d}{d \\eta} \\eta^{{-1}}{\\left (\\eta \\right )}\\right)^{2} \\left. \\frac{d^{2}}{d \\xi_{1}^{2}}  U{\\left (\\xi_{1} \\right )} \\right|_{\\substack{ \\xi_{1}=\\eta^{{-1}}{\\left (\\eta \\right )} }} - \\frac{1}{2} \\sqrt{U{\\left (\\eta^{{-1}}{\\left (\\eta \\right )} \\right )}} f{\\left (\\eta,t' \\right )} \\frac{d^{2}}{d \\eta^{2}}  \\eta^{{-1}}{\\left (\\eta \\right )} \\left. \\frac{d}{d \\xi_{1}} U{\\left (\\xi_{1} \\right )} \\right|_{\\substack{ \\xi_{1}=\\eta^{{-1}}{\\left (\\eta \\right )} }} + \\frac{f{\\left (\\eta,t' \\right )} \\left(\\frac{d}{d \\eta} \\eta^{{-1}}{\\left (\\eta \\right )}\\right)^{2}}{4 \\sqrt{U{\\left (\\eta^{{-1}}{\\left (\\eta \\right )} \\right )}}} \\left(\\left. \\frac{d}{d \\xi_{1}} U{\\left (\\xi_{1} \\right )} \\right|_{\\substack{ \\xi_{1}=\\eta^{{-1}}{\\left (\\eta \\right )} }}\\right)^{2} - \\frac{n_{0}^{2}}{c^{2}} U^{\\frac{3}{2}}{\\left (\\eta^{{-1}}{\\left (\\eta \\right )} \\right )} \\frac{\\partial^{2}}{\\partial t'^{2}}  f{\\left (\\eta,t' \\right )}$$"
      ],
      "text/plain": [
       "<IPython.core.display.Math at 0x7f521f0ae4a8>"
      ]
     },
     "metadata": {},
     "output_type": "display_data"
    },
    {
     "data": {
      "text/latex": [
       "$$\\frac{1}{c^{2} \\sqrt{U{\\left (z{\\left (\\eta \\right )} \\right )}}} \\left(\\frac{c^{2}}{2} \\left(2 U{\\left (z{\\left (\\eta \\right )} \\right )} \\frac{\\partial^{2}}{\\partial \\eta^{2}}  f{\\left (\\eta,t' \\right )} - f{\\left (\\eta,t' \\right )} \\left(\\frac{d}{d \\eta} z{\\left (\\eta \\right )}\\right)^{2} \\left. \\frac{d^{2}}{d \\xi_{1}^{2}}  U{\\left (\\xi_{1} \\right )} \\right|_{\\substack{ \\xi_{1}=z{\\left (\\eta \\right )} }} - f{\\left (\\eta,t' \\right )} \\frac{d^{2}}{d \\eta^{2}}  z{\\left (\\eta \\right )} \\left. \\frac{d}{d \\xi_{1}} U{\\left (\\xi_{1} \\right )} \\right|_{\\substack{ \\xi_{1}=z{\\left (\\eta \\right )} }}\\right) U{\\left (z{\\left (\\eta \\right )} \\right )} + \\frac{c^{2}}{4} f{\\left (\\eta,t' \\right )} \\left(\\frac{d}{d \\eta} z{\\left (\\eta \\right )}\\right)^{2} \\left(\\left. \\frac{d}{d \\xi_{1}} U{\\left (\\xi_{1} \\right )} \\right|_{\\substack{ \\xi_{1}=z{\\left (\\eta \\right )} }}\\right)^{2} - n_{0}^{2} U^{2}{\\left (z{\\left (\\eta \\right )} \\right )} \\frac{\\partial^{2}}{\\partial t'^{2}}  f{\\left (\\eta,t' \\right )}\\right)$$"
      ],
      "text/plain": [
       "<IPython.core.display.Math at 0x7f521f0ae4a8>"
      ]
     },
     "metadata": {},
     "output_type": "display_data"
    },
    {
     "data": {
      "text/latex": [
       "$$\\frac{1}{4 c^{2}} \\left(- 2 c^{2} \\left(U^{2}{\\left (z{\\left (\\eta \\right )} \\right )} f{\\left (\\eta,t' \\right )} \\left. \\frac{d^{2}}{d \\xi_{1}^{2}}  U{\\left (\\xi_{1} \\right )} \\right|_{\\substack{ \\xi_{1}=z{\\left (\\eta \\right )} }} - 2 U{\\left (z{\\left (\\eta \\right )} \\right )} \\frac{\\partial^{2}}{\\partial \\eta^{2}}  f{\\left (\\eta,t' \\right )} + f{\\left (\\eta,t' \\right )} \\frac{d}{d \\eta} U{\\left (z{\\left (\\eta \\right )} \\right )} \\left. \\frac{d}{d \\xi_{1}} U{\\left (\\xi_{1} \\right )} \\right|_{\\substack{ \\xi_{1}=z{\\left (\\eta \\right )} }}\\right) + c^{2} U{\\left (z{\\left (\\eta \\right )} \\right )} f{\\left (\\eta,t' \\right )} \\left(\\left. \\frac{d}{d \\xi_{1}} U{\\left (\\xi_{1} \\right )} \\right|_{\\substack{ \\xi_{1}=z{\\left (\\eta \\right )} }}\\right)^{2} - 4 n_{0}^{2} U{\\left (z{\\left (\\eta \\right )} \\right )} \\frac{\\partial^{2}}{\\partial t'^{2}}  f{\\left (\\eta,t' \\right )}\\right) \\sqrt{U{\\left (z{\\left (\\eta \\right )} \\right )}}$$"
      ],
      "text/plain": [
       "<IPython.core.display.Math at 0x7f521f0ae4a8>"
      ]
     },
     "metadata": {},
     "output_type": "display_data"
    },
    {
     "data": {
      "text/latex": [
       "$$\\frac{1}{4 c^{2} U{\\left (z{\\left (\\eta \\right )} \\right )}} \\left(- 2 c^{2} \\left(U^{2}{\\left (z{\\left (\\eta \\right )} \\right )} f{\\left (\\eta,t' \\right )} \\left. \\frac{d^{2}}{d \\xi_{1}^{2}}  U{\\left (\\xi_{1} \\right )} \\right|_{\\substack{ \\xi_{1}=z{\\left (\\eta \\right )} }} - 2 U{\\left (z{\\left (\\eta \\right )} \\right )} \\frac{\\partial^{2}}{\\partial \\eta^{2}}  f{\\left (\\eta,t' \\right )} + f{\\left (\\eta,t' \\right )} \\frac{d}{d \\eta} U{\\left (z{\\left (\\eta \\right )} \\right )} \\left. \\frac{d}{d \\xi_{1}} U{\\left (\\xi_{1} \\right )} \\right|_{\\substack{ \\xi_{1}=z{\\left (\\eta \\right )} }}\\right) + c^{2} U{\\left (z{\\left (\\eta \\right )} \\right )} f{\\left (\\eta,t' \\right )} \\left(\\left. \\frac{d}{d \\xi_{1}} U{\\left (\\xi_{1} \\right )} \\right|_{\\substack{ \\xi_{1}=z{\\left (\\eta \\right )} }}\\right)^{2} - 4 n_{0}^{2} U{\\left (z{\\left (\\eta \\right )} \\right )} \\frac{\\partial^{2}}{\\partial t'^{2}}  f{\\left (\\eta,t' \\right )}\\right)$$"
      ],
      "text/plain": [
       "<IPython.core.display.Math at 0x7f521f0ae4a8>"
      ]
     },
     "metadata": {},
     "output_type": "display_data"
    }
   ],
   "source": [
    "%reload_ext autoreload\n",
    "%autoreload\n",
    "\n",
    "from sympy import *\n",
    "from Electromagnetics.VectorCalculus import *\n",
    "from IPython.display import display, Math, Latex\n",
    "\n",
    "zp, tp = symbols(\"z' t'\")\n",
    "eta = symbols('\\\\eta')\n",
    "\n",
    "eta__z = Integral(U, (z, 0, z))\n",
    "eta_inv = Function('\\\\eta^{-1}')(eta)\n",
    "\n",
    "gs = [eta__z, t]\n",
    "gs_inv = [eta_inv, tp]\n",
    "\n",
    "pde_new = pdeChangeOfVariables(EQ, [z, t], [eta, tp], gs, gs_inv)\n",
    "\n",
    "display(Math(latex(pde_new)))\n",
    "\n",
    "fp = Function('f')(eta, tp)\n",
    "\n",
    "pde_new = pde_new.subs(f, fp/sqrt(Function('U')(eta_inv))).subs(z, eta_inv)\n",
    "display(Math(latex(pde_new)))\n",
    "\n",
    "pde_new = pde_new.doit().simplify()\n",
    "display(Math(latex(pde_new)))\n",
    "\n",
    "pde_new = pde_new.subs(eta_inv, Function('z')(eta)).simplify()\n",
    "display(Math(latex(pde_new)))\n",
    "\n",
    "pde_new = pde_new.subs(Derivative(Function('z')(eta), eta), Function('U')(eta_inv)).subs(eta_inv, Function('z')(eta)).simplify()\n",
    "display(Math(latex(pde_new)))\n"
   ]
  },
  {
   "cell_type": "markdown",
   "metadata": {},
   "source": [
    "### testing the solution (replacing back)"
   ]
  },
  {
   "cell_type": "code",
   "execution_count": 32,
   "metadata": {
    "collapsed": false
   },
   "outputs": [
    {
     "data": {
      "text/latex": [
       "$$\\sqrt{Q{\\left (z \\right )}} e^{- i \\left(\\eta q - \\omega t\\right)}$$"
      ],
      "text/plain": [
       "<IPython.core.display.Math at 0x7f70e81fa668>"
      ]
     },
     "metadata": {},
     "output_type": "display_data"
    },
    {
     "data": {
      "text/latex": [
       "$$\\frac{1}{Q{\\left (z \\right )}}$$"
      ],
      "text/plain": [
       "<IPython.core.display.Math at 0x7f70e81fa2b0>"
      ]
     },
     "metadata": {},
     "output_type": "display_data"
    },
    {
     "data": {
      "text/latex": [
       "$$\\int_{0}^{z} U{\\left (z \\right )}\\, dz$$"
      ],
      "text/plain": [
       "<IPython.core.display.Math at 0x7f70e81fa668>"
      ]
     },
     "metadata": {},
     "output_type": "display_data"
    },
    {
     "data": {
      "text/latex": [
       "$$\\frac{\\partial^{2}}{\\partial z^{2}} \\left(\\sqrt{Q{\\left (z \\right )}} e^{- i \\left(- \\omega t + q \\int_{0}^{z} \\frac{1}{Q{\\left (z \\right )}}\\, dz\\right)}\\right) - \\frac{n_{0}^{2}}{c^{2} Q^{2}{\\left (z \\right )}} \\frac{\\partial^{2}}{\\partial t^{2}} \\left(\\sqrt{Q{\\left (z \\right )}} e^{- i \\left(- \\omega t + q \\int_{0}^{z} \\frac{1}{Q{\\left (z \\right )}}\\, dz\\right)}\\right)$$"
      ],
      "text/plain": [
       "<IPython.core.display.Math at 0x7f70e820af98>"
      ]
     },
     "metadata": {},
     "output_type": "display_data"
    },
    {
     "data": {
      "text/latex": [
       "$$\\frac{1}{c^{2} Q^{\\frac{3}{2}}{\\left (z \\right )}} \\left(\\omega^{2} n_{0}^{2} + \\frac{c^{2}}{4} \\left(- 4 q^{2} + 2 Q{\\left (z \\right )} \\frac{d^{2}}{d z^{2}}  Q{\\left (z \\right )} - \\left(\\frac{d}{d z} Q{\\left (z \\right )}\\right)^{2}\\right)\\right) e^{i \\left(\\omega t - q \\int_{0}^{z} \\frac{1}{Q{\\left (z \\right )}}\\, dz\\right)}$$"
      ],
      "text/plain": [
       "<IPython.core.display.Math at 0x7f70e820af98>"
      ]
     },
     "metadata": {},
     "output_type": "display_data"
    },
    {
     "data": {
      "text/latex": [
       "$$\\frac{1}{L_{1}^{2} L_{2}^{4} c^{2} \\left(\\frac{1}{L_{1} L_{2}^{2}} \\left(L_{1} L_{2}^{2} + L_{1} s_{2} z^{2} + L_{2}^{2} s_{1} z\\right)\\right)^{\\frac{3}{2}}} \\left(L_{1}^{2} L_{2}^{4} \\omega^{2} n_{0}^{2} + \\frac{c^{2}}{4} \\left(- 4 L_{1}^{2} L_{2}^{4} q^{2} + 4 L_{1} s_{2} \\left(L_{1} L_{2}^{2} + L_{1} s_{2} z^{2} + L_{2}^{2} s_{1} z\\right) - \\left(2 L_{1} s_{2} z + L_{2}^{2} s_{1}\\right)^{2}\\right)\\right) e^{i \\left(- L_{1} L_{2}^{2} q \\sqrt{- \\frac{1}{L_{2}^{2} \\left(4 L_{1}^{2} s_{2} - L_{2}^{2} s_{1}^{2}\\right)}} \\left(- \\log{\\left (\\frac{1}{L_{1} s_{2}} \\left(- 4 L_{1}^{2} L_{2}^{2} s_{2} \\sqrt{- \\frac{1}{L_{2}^{2} \\left(4 L_{1}^{2} s_{2} - L_{2}^{2} s_{1}^{2}\\right)}} + 2 L_{1} s_{2} z + L_{2}^{4} s_{1}^{2} \\sqrt{- \\frac{1}{L_{2}^{2} \\left(4 L_{1}^{2} s_{2} - L_{2}^{2} s_{1}^{2}\\right)}} + L_{2}^{2} s_{1}\\right) \\right )} + \\log{\\left (\\frac{1}{L_{1} s_{2}} \\left(4 L_{1}^{2} L_{2}^{2} s_{2} \\sqrt{- \\frac{1}{L_{2}^{2} \\left(4 L_{1}^{2} s_{2} - L_{2}^{2} s_{1}^{2}\\right)}} + 2 L_{1} s_{2} z - L_{2}^{4} s_{1}^{2} \\sqrt{- \\frac{1}{L_{2}^{2} \\left(4 L_{1}^{2} s_{2} - L_{2}^{2} s_{1}^{2}\\right)}} + L_{2}^{2} s_{1}\\right) \\right )} + \\log{\\left (\\frac{L_{2}^{2}}{L_{1} s_{2}} \\left(- 4 L_{1}^{2} s_{2} \\sqrt{- \\frac{1}{L_{2}^{2} \\left(4 L_{1}^{2} s_{2} - L_{2}^{2} s_{1}^{2}\\right)}} + L_{2}^{2} s_{1}^{2} \\sqrt{- \\frac{1}{L_{2}^{2} \\left(4 L_{1}^{2} s_{2} - L_{2}^{2} s_{1}^{2}\\right)}} + s_{1}\\right) \\right )} - \\log{\\left (\\frac{L_{2}^{2}}{L_{1} s_{2}} \\left(4 L_{1}^{2} s_{2} \\sqrt{- \\frac{1}{L_{2}^{2} \\left(4 L_{1}^{2} s_{2} - L_{2}^{2} s_{1}^{2}\\right)}} - L_{2}^{2} s_{1}^{2} \\sqrt{- \\frac{1}{L_{2}^{2} \\left(4 L_{1}^{2} s_{2} - L_{2}^{2} s_{1}^{2}\\right)}} + s_{1}\\right) \\right )}\\right) + \\omega t\\right)}$$"
      ],
      "text/plain": [
       "<IPython.core.display.Math at 0x7f70e820af98>"
      ]
     },
     "metadata": {},
     "output_type": "display_data"
    },
    {
     "data": {
      "text/latex": [
       "$$0$$"
      ],
      "text/plain": [
       "<IPython.core.display.Math at 0x7f70e820af98>"
      ]
     },
     "metadata": {},
     "output_type": "display_data"
    }
   ],
   "source": [
    "\n",
    "q, p, s1, s2, L1, L2, N, eta, z1 = symbols('q p s_1 s_2 L_1 L_2 N \\\\eta z1')\n",
    "\n",
    "Omega_sub = c*p/n_0\n",
    "N_sub = sqrt(1-Omega**2/omega**2)\n",
    "\n",
    "q_sub = omega*n_0/c*N\n",
    "\n",
    "Q = Function('Q')(z)\n",
    "\n",
    "f_sub = exp(-I*(q*eta - omega*t))*sqrt(Q)\n",
    "U_sub = 1/Q\n",
    "\n",
    "Q_sub = (1+s1*z/L1 + s2*z**2/L2**2)\n",
    "p_sq_sub = s1**2/(4*L1**2) - s2/L2**2\n",
    "eta_sub = Integral(U, (z, 0, z))\n",
    "\n",
    "#display(Math(latex(diff(f_sub.subs(eta, eta_sub), z))))\n",
    "\n",
    "\n",
    "display(Math(latex(f_sub)))\n",
    "display(Math(latex(U_sub)))\n",
    "display(Math(latex(eta_sub)))\n",
    "\n",
    "\n",
    "EQ_sub = EQ.subs(f, f_sub).subs(eta, eta_sub).subs(U, U_sub)\n",
    "display(Math(latex(EQ_sub)))\n",
    "\n",
    "EQ_sub = EQ_sub.doit().subs(Integral(0, (z, 0, z)), 0).simplify()\n",
    "display(Math(latex(EQ_sub)))\n",
    "\n",
    "EQ_sub = EQ_sub.subs(Q, Q_sub).subs(Omega, Omega_sub).doit().simplify()\n",
    "display(Math(latex(EQ_sub)))\n",
    "\n",
    "EQ_sub = EQ_sub.subs(q, q_sub).subs(N, N_sub).subs(Omega, Omega_sub).subs(p**2, p_sq_sub).simplify()\n",
    "display(Math(latex(EQ_sub)))\n",
    "\n",
    "#srepr(EQ_sub)\n"
   ]
  },
  {
   "cell_type": "code",
   "execution_count": 41,
   "metadata": {
    "collapsed": false
   },
   "outputs": [
    {
     "name": "stdout",
     "output_type": "stream",
     "text": [
      "q_str = \n",
      " lambda : (N*omega*n_0/c)\n",
      "q_str = \n",
      " lambda : (N*omega*n_0/c)\n",
      "--------------------------------------------------\n",
      "N_str = \n",
      " lambda : (sqrt(-Omega**2/omega**2 + 1))\n",
      "N_str = \n",
      " lambda : (sqrt(-Omega**2/omega**2 + 1))\n",
      "--------------------------------------------------\n",
      "Omega_str = \n",
      " lambda : (c*p/n_0)\n",
      "Omega_str = \n",
      " lambda : (c*p/n_0)\n",
      "--------------------------------------------------\n",
      "p_sq_str = \n",
      " lambda : (-s_2/L_2**2 + s_1**2/(4*L_1**2))\n",
      "p_sq_str = \n",
      " lambda : (-s_2/L_2**2 + s_1**2/(4*L_1**2))\n",
      "--------------------------------------------------\n"
     ]
    },
    {
     "data": {
      "text/latex": [
       "$$- L_{1} L_{2}^{2} \\left(- \\sqrt{- \\frac{1}{L_{2}^{2} \\left(4 L_{1}^{2} s_{2} - L_{2}^{2} s_{1}^{2}\\right)}} \\log{\\left (\\frac{1}{2 L_{1} s_{2}} \\left(- 4 L_{1}^{2} L_{2}^{2} s_{2} \\sqrt{- \\frac{1}{L_{2}^{2} \\left(4 L_{1}^{2} s_{2} - L_{2}^{2} s_{1}^{2}\\right)}} + L_{2}^{4} s_{1}^{2} \\sqrt{- \\frac{1}{L_{2}^{2} \\left(4 L_{1}^{2} s_{2} - L_{2}^{2} s_{1}^{2}\\right)}} + L_{2}^{2} s_{1}\\right) \\right )} + \\sqrt{- \\frac{1}{L_{2}^{2} \\left(4 L_{1}^{2} s_{2} - L_{2}^{2} s_{1}^{2}\\right)}} \\log{\\left (\\frac{1}{2 L_{1} s_{2}} \\left(4 L_{1}^{2} L_{2}^{2} s_{2} \\sqrt{- \\frac{1}{L_{2}^{2} \\left(4 L_{1}^{2} s_{2} - L_{2}^{2} s_{1}^{2}\\right)}} - L_{2}^{4} s_{1}^{2} \\sqrt{- \\frac{1}{L_{2}^{2} \\left(4 L_{1}^{2} s_{2} - L_{2}^{2} s_{1}^{2}\\right)}} + L_{2}^{2} s_{1}\\right) \\right )}\\right) + L_{1} L_{2}^{2} \\left(- \\sqrt{- \\frac{1}{L_{2}^{2} \\left(4 L_{1}^{2} s_{2} - L_{2}^{2} s_{1}^{2}\\right)}} \\log{\\left (z + \\frac{1}{2 L_{1} s_{2}} \\left(- 4 L_{1}^{2} L_{2}^{2} s_{2} \\sqrt{- \\frac{1}{L_{2}^{2} \\left(4 L_{1}^{2} s_{2} - L_{2}^{2} s_{1}^{2}\\right)}} + L_{2}^{4} s_{1}^{2} \\sqrt{- \\frac{1}{L_{2}^{2} \\left(4 L_{1}^{2} s_{2} - L_{2}^{2} s_{1}^{2}\\right)}} + L_{2}^{2} s_{1}\\right) \\right )} + \\sqrt{- \\frac{1}{L_{2}^{2} \\left(4 L_{1}^{2} s_{2} - L_{2}^{2} s_{1}^{2}\\right)}} \\log{\\left (z + \\frac{1}{2 L_{1} s_{2}} \\left(4 L_{1}^{2} L_{2}^{2} s_{2} \\sqrt{- \\frac{1}{L_{2}^{2} \\left(4 L_{1}^{2} s_{2} - L_{2}^{2} s_{1}^{2}\\right)}} - L_{2}^{4} s_{1}^{2} \\sqrt{- \\frac{1}{L_{2}^{2} \\left(4 L_{1}^{2} s_{2} - L_{2}^{2} s_{1}^{2}\\right)}} + L_{2}^{2} s_{1}\\right) \\right )}\\right)$$"
      ],
      "text/plain": [
       "<IPython.core.display.Math at 0x7f7102ec1a90>"
      ]
     },
     "metadata": {},
     "output_type": "display_data"
    },
    {
     "name": "stdout",
     "output_type": "stream",
     "text": [
      "eta_int_str = \n",
      " lambda : (-L_1*L_2**2*(-sqrt(-1/(L_2**2*(4*L_1**2*s_2 - L_2**2*s_1**2)))*log((-4*L_1**2*L_2**2*s_2*sqrt(-1/(L_2**2*(4*L_1**2*s_2 - L_2**2*s_1**2))) + L_2**4*s_1**2*sqrt(-1/(L_2**2*(4*L_1**2*s_2 - L_2**2*s_1**2))) + L_2**2*s_1)/(2*L_1*s_2)) + sqrt(-1/(L_2**2*(4*L_1**2*s_2 - L_2**2*s_1**2)))*log((4*L_1**2*L_2**2*s_2*sqrt(-1/(L_2**2*(4*L_1**2*s_2 - L_2**2*s_1**2))) - L_2**4*s_1**2*sqrt(-1/(L_2**2*(4*L_1**2*s_2 - L_2**2*s_1**2))) + L_2**2*s_1)/(2*L_1*s_2))) + L_1*L_2**2*(-sqrt(-1/(L_2**2*(4*L_1**2*s_2 - L_2**2*s_1**2)))*log(z + (-4*L_1**2*L_2**2*s_2*sqrt(-1/(L_2**2*(4*L_1**2*s_2 - L_2**2*s_1**2))) + L_2**4*s_1**2*sqrt(-1/(L_2**2*(4*L_1**2*s_2 - L_2**2*s_1**2))) + L_2**2*s_1)/(2*L_1*s_2)) + sqrt(-1/(L_2**2*(4*L_1**2*s_2 - L_2**2*s_1**2)))*log(z + (4*L_1**2*L_2**2*s_2*sqrt(-1/(L_2**2*(4*L_1**2*s_2 - L_2**2*s_1**2))) - L_2**4*s_1**2*sqrt(-1/(L_2**2*(4*L_1**2*s_2 - L_2**2*s_1**2))) + L_2**2*s_1)/(2*L_1*s_2))))\n",
      "eta_int_str = \n",
      " lambda : (-L_1*L_2**2*(-sqrt(-1/(L_2**2*(4*L_1**2*s_2 - L_2**2*s_1**2)))*log((-4*L_1**2*L_2**2*s_2*sqrt(-1/(L_2**2*(4*L_1**2*s_2 - L_2**2*s_1**2))) + L_2**4*s_1**2*sqrt(-1/(L_2**2*(4*L_1**2*s_2 - L_2**2*s_1**2))) + L_2**2*s_1)/(2*L_1*s_2)) + sqrt(-1/(L_2**2*(4*L_1**2*s_2 - L_2**2*s_1**2)))*log((4*L_1**2*L_2**2*s_2*sqrt(-1/(L_2**2*(4*L_1**2*s_2 - L_2**2*s_1**2))) - L_2**4*s_1**2*sqrt(-1/(L_2**2*(4*L_1**2*s_2 - L_2**2*s_1**2))) + L_2**2*s_1)/(2*L_1*s_2))) + L_1*L_2**2*(-sqrt(-1/(L_2**2*(4*L_1**2*s_2 - L_2**2*s_1**2)))*log(z + (-4*L_1**2*L_2**2*s_2*sqrt(-1/(L_2**2*(4*L_1**2*s_2 - L_2**2*s_1**2))) + L_2**4*s_1**2*sqrt(-1/(L_2**2*(4*L_1**2*s_2 - L_2**2*s_1**2))) + L_2**2*s_1)/(2*L_1*s_2)) + sqrt(-1/(L_2**2*(4*L_1**2*s_2 - L_2**2*s_1**2)))*log(z + (4*L_1**2*L_2**2*s_2*sqrt(-1/(L_2**2*(4*L_1**2*s_2 - L_2**2*s_1**2))) - L_2**4*s_1**2*sqrt(-1/(L_2**2*(4*L_1**2*s_2 - L_2**2*s_1**2))) + L_2**2*s_1)/(2*L_1*s_2))))\n"
     ]
    }
   ],
   "source": [
    "\n",
    "from sympy.utilities.lambdify import lambdastr\n",
    "\n",
    "from Electromagnetics import Misc\n",
    "\n",
    "q_str = lambdastr((), q_sub).replace('\\\\', '').replace('{', '').replace('}', '')\n",
    "print('q_str = \\n', q_str)\n",
    "\n",
    "q_str = Misc.replace_whole_word(q_str, 'I', '1j')\n",
    "print('q_str = \\n', q_str)\n",
    "\n",
    "print('-'*50)\n",
    "N_str = lambdastr((), N_sub).replace('\\\\', '').replace('{', '').replace('}', '')\n",
    "print('N_str = \\n', N_str)\n",
    "\n",
    "N_str = Misc.replace_whole_word(N_str, 'I', '1j')\n",
    "print('N_str = \\n', N_str)\n",
    "\n",
    "print('-'*50)\n",
    "Omega_str = lambdastr((), Omega_sub).replace('\\\\', '').replace('{', '').replace('}', '')\n",
    "print('Omega_str = \\n', Omega_str)\n",
    "\n",
    "Omega_str = Misc.replace_whole_word(Omega_str, 'I', '1j')\n",
    "print('Omega_str = \\n', Omega_str)\n",
    "\n",
    "print('-'*50)\n",
    "p_sq_str = lambdastr((), p_sq_sub).replace('\\\\', '').replace('{', '').replace('}', '')\n",
    "print('p_sq_str = \\n', p_sq_str)\n",
    "\n",
    "p_sq_str = Misc.replace_whole_word(p_sq_str, 'I', '1j')\n",
    "print('p_sq_str = \\n', p_sq_str)\n",
    "\n",
    "\n",
    "print('-'*50)\n",
    "eta_sub_int = eta_sub.subs(U, U_sub).subs(Q, Q_sub).doit()\n",
    "display(Math(latex(eta_sub_int)))\n",
    "\n",
    "eta_int_str = lambdastr((), eta_sub_int).replace('\\\\', '').replace('{', '').replace('}', '')\n",
    "print('eta_int_str = \\n', eta_int_str)\n",
    "\n",
    "eta_int_str = Misc.replace_whole_word(eta_int_str, 'I', '1j')\n",
    "print('eta_int_str = \\n', eta_int_str)\n",
    "\n"
   ]
  },
  {
   "cell_type": "code",
   "execution_count": 2,
   "metadata": {
    "collapsed": false
   },
   "outputs": [
    {
     "data": {
      "text/latex": [
       "$$E_0 = R e^{- i k_{r} z} + e^{i k_{i} z}$$"
      ],
      "text/plain": [
       "<IPython.core.display.Math at 0x7f4712440d68>"
      ]
     },
     "metadata": {},
     "output_type": "display_data"
    },
    {
     "data": {
      "text/latex": [
       "$$H_0 = - i R k_{r} e^{- i k_{r} z} + i k_{i} e^{i k_{i} z}$$"
      ],
      "text/plain": [
       "<IPython.core.display.Math at 0x7f4712440d30>"
      ]
     },
     "metadata": {},
     "output_type": "display_data"
    },
    {
     "data": {
      "text/latex": [
       "$$E_1 = \\frac{A_{1}}{\\sqrt{U{\\left (z \\right )}}} \\left(Q e^{- i q \\int_{0}^{z} U{\\left (z \\right )}\\, dz} + e^{i q \\int_{0}^{z} U{\\left (z \\right )}\\, dz}\\right)$$"
      ],
      "text/plain": [
       "<IPython.core.display.Math at 0x7f4712440cf8>"
      ]
     },
     "metadata": {},
     "output_type": "display_data"
    },
    {
     "data": {
      "text/latex": [
       "$$H_1 = - \\frac{A_{1} \\frac{d}{d z} U{\\left (z \\right )}}{2 U^{\\frac{3}{2}}{\\left (z \\right )}} \\left(Q e^{- i q \\int_{0}^{z} U{\\left (z \\right )}\\, dz} + e^{i q \\int_{0}^{z} U{\\left (z \\right )}\\, dz}\\right) + \\frac{A_{1}}{\\sqrt{U{\\left (z \\right )}}} \\left(- i Q q \\left(U{\\left (z \\right )} + \\int_{0}^{z} 0\\, dz\\right) e^{- i q \\int_{0}^{z} U{\\left (z \\right )}\\, dz} + i q \\left(U{\\left (z \\right )} + \\int_{0}^{z} 0\\, dz\\right) e^{i q \\int_{0}^{z} U{\\left (z \\right )}\\, dz}\\right)$$"
      ],
      "text/plain": [
       "<IPython.core.display.Math at 0x7f4712440d68>"
      ]
     },
     "metadata": {},
     "output_type": "display_data"
    },
    {
     "data": {
      "text/latex": [
       "$$- \\frac{i \\left(2 i L_{1} \\left(Q + 1\\right) \\left(R k_{r} - k_{i}\\right) - \\left(R + 1\\right) \\left(2 i L_{1} q \\left(Q - 1\\right) - s_{1} \\left(Q + 1\\right)\\right)\\right)}{\\left(R k_{r} - k_{i}\\right) \\left(2 i L_{1} q \\left(Q - 1\\right) - s_{1} \\left(Q + 1\\right)\\right)}$$"
      ],
      "text/plain": [
       "<IPython.core.display.Math at 0x7f4712440d68>"
      ]
     },
     "metadata": {},
     "output_type": "display_data"
    },
    {
     "data": {
      "text/latex": [
       "$$R = \\frac{2 i L_{1} Q k_{i} + 2 i L_{1} Q q + 2 i L_{1} k_{i} - 2 i L_{1} q - Q s_{1} - s_{1}}{2 i L_{1} Q k_{r} - 2 i L_{1} Q q + 2 i L_{1} k_{r} + 2 i L_{1} q + Q s_{1} + s_{1}}$$"
      ],
      "text/plain": [
       "<IPython.core.display.Math at 0x7f4712440d68>"
      ]
     },
     "metadata": {},
     "output_type": "display_data"
    },
    {
     "name": "stdout",
     "output_type": "stream",
     "text": [
      "forward: \n"
     ]
    },
    {
     "data": {
      "text/latex": [
       "$$Q = \\frac{- 2 i L_{1} R k_{r} - 2 i L_{1} R q + 2 i L_{1} k_{i} - 2 i L_{1} q - R s_{1} - s_{1}}{2 i L_{1} R k_{r} - 2 i L_{1} R q - 2 i L_{1} k_{i} - 2 i L_{1} q + R s_{1} + s_{1}}$$"
      ],
      "text/plain": [
       "<IPython.core.display.Math at 0x7f471229b470>"
      ]
     },
     "metadata": {},
     "output_type": "display_data"
    },
    {
     "data": {
      "text/latex": [
       "$$A_1 = \\frac{\\sqrt{U{\\left (0 \\right )}}}{Q + 1} \\left(R + 1\\right)$$"
      ],
      "text/plain": [
       "<IPython.core.display.Math at 0x7f471225fa58>"
      ]
     },
     "metadata": {},
     "output_type": "display_data"
    },
    {
     "data": {
      "text/latex": [
       "$$2 i L_{1} Q k_{i} + 2 i L_{1} Q q + 2 i L_{1} k_{i} - 2 i L_{1} q - Q s_{1} - s_{1}$$"
      ],
      "text/plain": [
       "<IPython.core.display.Math at 0x7f471238eef0>"
      ]
     },
     "metadata": {},
     "output_type": "display_data"
    },
    {
     "data": {
      "text/latex": [
       "$$2 i L_{1} Q k_{r} - 2 i L_{1} Q q + 2 i L_{1} k_{r} + 2 i L_{1} q + Q s_{1} + s_{1}$$"
      ],
      "text/plain": [
       "<IPython.core.display.Math at 0x7f471229e358>"
      ]
     },
     "metadata": {},
     "output_type": "display_data"
    },
    {
     "data": {
      "text/latex": [
       "$$\\frac{A_{1} \\left(Q e^{- i \\eta_{d} q} + e^{i \\eta_{d} q}\\right)}{\\left(- \\frac{A_{1} \\frac{d}{d d} U{\\left (d \\right )}}{2 U^{\\frac{3}{2}}{\\left (d \\right )}} \\left(Q e^{- i \\eta_{d} q} + e^{i \\eta_{d} q}\\right) + \\frac{A_{1}}{\\sqrt{U{\\left (d \\right )}}} \\left(- i Q q U{\\left (d \\right )} e^{- i \\eta_{d} q} + i q U{\\left (d \\right )} e^{i \\eta_{d} q}\\right)\\right) \\sqrt{U{\\left (d \\right )}}} + \\frac{i}{k_{t}}$$"
      ],
      "text/plain": [
       "<IPython.core.display.Math at 0x7f471238eef0>"
      ]
     },
     "metadata": {},
     "output_type": "display_data"
    },
    {
     "data": {
      "text/latex": [
       "$$Q = \\frac{\\left(- 2 k_{t} U{\\left (d \\right )} + 2 q U^{2}{\\left (d \\right )} + i \\frac{d}{d d} U{\\left (d \\right )}\\right) e^{2 i \\eta_{d} q}}{2 k_{t} U{\\left (d \\right )} + 2 q U^{2}{\\left (d \\right )} - i \\frac{d}{d d} U{\\left (d \\right )}}$$"
      ],
      "text/plain": [
       "<IPython.core.display.Math at 0x7f471238eef0>"
      ]
     },
     "metadata": {},
     "output_type": "display_data"
    },
    {
     "name": "stdout",
     "output_type": "stream",
     "text": [
      "forward: \n"
     ]
    },
    {
     "data": {
      "text/latex": [
       "$$T = \\frac{A_{1} e^{- i \\eta_{d} q}}{\\sqrt{U{\\left (d \\right )}}} \\left(Q + e^{2 i \\eta_{d} q}\\right)$$"
      ],
      "text/plain": [
       "<IPython.core.display.Math at 0x7f47122b2e48>"
      ]
     },
     "metadata": {},
     "output_type": "display_data"
    },
    {
     "data": {
      "text/latex": [
       "$$dU/dz/U^2 = - \\frac{2 s_{2}}{L_{2}^{2}} z - \\frac{s_{1}}{L_{1}}$$"
      ],
      "text/plain": [
       "<IPython.core.display.Math at 0x7f47122b2e48>"
      ]
     },
     "metadata": {},
     "output_type": "display_data"
    },
    {
     "data": {
      "text/latex": [
       "$$\\frac{A_{n} \\left(Q_{n} e^{- i \\eta_{d} q} + e^{i \\eta_{d} q}\\right)}{\\left(- \\frac{A_{n} \\frac{d}{d d} U{\\left (d \\right )}}{2 U^{\\frac{3}{2}}{\\left (d \\right )}} \\left(Q_{n} e^{- i \\eta_{d} q} + e^{i \\eta_{d} q}\\right) + \\frac{A_{n}}{\\sqrt{U{\\left (d \\right )}}} \\left(- i Q_{n} q U{\\left (d \\right )} e^{- i \\eta_{d} q} + i q U{\\left (d \\right )} e^{i \\eta_{d} q}\\right)\\right) \\sqrt{U{\\left (d \\right )}}} - \\frac{A_{{n+1}} \\left(Q_{{np1}} + 1\\right)}{\\left(- \\frac{A_{{n+1}}}{2 U^{\\frac{3}{2}}{\\left (0 \\right )}} \\left(Q_{{np1}} + 1\\right) \\left. \\frac{d}{d z} U{\\left (z \\right )} \\right|_{\\substack{ z=0 }} + \\frac{A_{{n+1}}}{\\sqrt{U{\\left (0 \\right )}}} \\left(- i Q_{{np1}} q U{\\left (0 \\right )} + i q U{\\left (0 \\right )}\\right)\\right) \\sqrt{U{\\left (0 \\right )}}}$$"
      ],
      "text/plain": [
       "<IPython.core.display.Math at 0x7f4723524a90>"
      ]
     },
     "metadata": {},
     "output_type": "display_data"
    },
    {
     "data": {
      "text/latex": [
       "$$Q_n = \\frac{\\left(2 i Q_{{np1}} q U^{2}{\\left (0 \\right )} U{\\left (d \\right )} + 2 i Q_{{np1}} q U{\\left (0 \\right )} U^{2}{\\left (d \\right )} - Q_{{np1}} U{\\left (0 \\right )} \\frac{d}{d d} U{\\left (d \\right )} + Q_{{np1}} U{\\left (d \\right )} \\left. \\frac{d}{d z} U{\\left (z \\right )} \\right|_{\\substack{ z=0 }} - 2 i q U^{2}{\\left (0 \\right )} U{\\left (d \\right )} + 2 i q U{\\left (0 \\right )} U^{2}{\\left (d \\right )} - U{\\left (0 \\right )} \\frac{d}{d d} U{\\left (d \\right )} + U{\\left (d \\right )} \\left. \\frac{d}{d z} U{\\left (z \\right )} \\right|_{\\substack{ z=0 }}\\right) e^{2 i \\eta_{d} q}}{- 2 i Q_{{np1}} q U^{2}{\\left (0 \\right )} U{\\left (d \\right )} + 2 i Q_{{np1}} q U{\\left (0 \\right )} U^{2}{\\left (d \\right )} + Q_{{np1}} U{\\left (0 \\right )} \\frac{d}{d d} U{\\left (d \\right )} - Q_{{np1}} U{\\left (d \\right )} \\left. \\frac{d}{d z} U{\\left (z \\right )} \\right|_{\\substack{ z=0 }} + 2 i q U^{2}{\\left (0 \\right )} U{\\left (d \\right )} + 2 i q U{\\left (0 \\right )} U^{2}{\\left (d \\right )} + U{\\left (0 \\right )} \\frac{d}{d d} U{\\left (d \\right )} - U{\\left (d \\right )} \\left. \\frac{d}{d z} U{\\left (z \\right )} \\right|_{\\substack{ z=0 }}}$$"
      ],
      "text/plain": [
       "<IPython.core.display.Math at 0x7f4723524a90>"
      ]
     },
     "metadata": {},
     "output_type": "display_data"
    },
    {
     "name": "stdout",
     "output_type": "stream",
     "text": [
      "forward : \n"
     ]
    },
    {
     "data": {
      "text/latex": [
       "$$Q_np1 = \\frac{2 i Q_{n} q U^{2}{\\left (0 \\right )} U{\\left (d \\right )} + 2 i Q_{n} q U{\\left (0 \\right )} U^{2}{\\left (d \\right )} + Q_{n} U{\\left (0 \\right )} \\frac{d}{d d} U{\\left (d \\right )} - Q_{n} U{\\left (d \\right )} \\left. \\frac{d}{d z} U{\\left (z \\right )} \\right|_{\\substack{ z=0 }} + 2 i q U^{2}{\\left (0 \\right )} U{\\left (d \\right )} e^{2 i \\eta_{d} q} - 2 i q U{\\left (0 \\right )} U^{2}{\\left (d \\right )} e^{2 i \\eta_{d} q} + U{\\left (0 \\right )} e^{2 i \\eta_{d} q} \\frac{d}{d d} U{\\left (d \\right )} - U{\\left (d \\right )} e^{2 i \\eta_{d} q} \\left. \\frac{d}{d z} U{\\left (z \\right )} \\right|_{\\substack{ z=0 }}}{2 i Q_{n} q U^{2}{\\left (0 \\right )} U{\\left (d \\right )} - 2 i Q_{n} q U{\\left (0 \\right )} U^{2}{\\left (d \\right )} - Q_{n} U{\\left (0 \\right )} \\frac{d}{d d} U{\\left (d \\right )} + Q_{n} U{\\left (d \\right )} \\left. \\frac{d}{d z} U{\\left (z \\right )} \\right|_{\\substack{ z=0 }} + 2 i q U^{2}{\\left (0 \\right )} U{\\left (d \\right )} e^{2 i \\eta_{d} q} + 2 i q U{\\left (0 \\right )} U^{2}{\\left (d \\right )} e^{2 i \\eta_{d} q} - U{\\left (0 \\right )} e^{2 i \\eta_{d} q} \\frac{d}{d d} U{\\left (d \\right )} + U{\\left (d \\right )} e^{2 i \\eta_{d} q} \\left. \\frac{d}{d z} U{\\left (z \\right )} \\right|_{\\substack{ z=0 }}}$$"
      ],
      "text/plain": [
       "<IPython.core.display.Math at 0x7f4712313e10>"
      ]
     },
     "metadata": {},
     "output_type": "display_data"
    },
    {
     "data": {
      "text/latex": [
       "$$A_np1 = \\frac{A_{n} \\sqrt{U{\\left (0 \\right )}} e^{- i \\eta_{d} q}}{\\left(Q_{{np1}} + 1\\right) \\sqrt{U{\\left (d \\right )}}} \\left(Q_{n} + e^{2 i \\eta_{d} q}\\right)$$"
      ],
      "text/plain": [
       "<IPython.core.display.Math at 0x7f47120010f0>"
      ]
     },
     "metadata": {},
     "output_type": "display_data"
    }
   ],
   "source": [
    "from sympy import *\n",
    "from IPython.display import display, Math, Latex\n",
    "\n",
    "z = Symbol('z')\n",
    "U = Function('U')(z)\n",
    "\n",
    "q, d = symbols('q d')\n",
    "k_i, k_r, k_t = symbols('k_i k_r k_t')\n",
    "\n",
    "eta = Integral(U, (z, 0, z))\n",
    "\n",
    "s1, s2, L1, L2 = symbols('s_1 s_2 L_1 L_2')\n",
    "Q_sub = (1+s1*z/L1 + s2*z**2/L2**2)\n",
    "U_sub = 1/Q_sub\n",
    "\n",
    "\n",
    "A1, R, T, Q, An, Anp1, Qn, Qnp1 = symbols('A_1 R T Q A_n A_{n+1} Q_n Q_{np1}')\n",
    "\n",
    "E1 = A1*(exp(I*q*eta) + Q*exp(-I*q*eta))/sqrt(U) \n",
    "\n",
    "E0 = exp(+I*k_i*z) + R*exp(-I*k_r*z)\n",
    "\n",
    "Et = T*exp(+I*k_t*z)\n",
    "\n",
    "H0 = diff(E0, z)\n",
    "Ht = diff(Et, z)\n",
    "display(Math('E_0 = ' + latex(E0)))\n",
    "display(Math('H_0 = ' + latex(H0)))\n",
    "\n",
    "H1 = diff(E1, z)\n",
    "display(Math('E_1 = ' + latex(E1)))\n",
    "display(Math('H_1 = ' + latex(H1)))\n",
    "\n",
    "EQ_1 = (E0/H0 - E1/H1).subs(U, U_sub).subs(z,0).doit().simplify()\n",
    "\n",
    "display(Math(latex(EQ_1)))\n",
    "\n",
    "R_sub = solve(EQ_1, R)[0].simplify()\n",
    "display(Math('R = ' + latex(R_sub)))\n",
    "\n",
    "Q_sub_F = solve(EQ_1, Q)[0].simplify()    #solving Q, knowing R, starting the first layer\n",
    "print('forward: ')\n",
    "display(Math('Q = ' + latex(Q_sub_F)))\n",
    "\n",
    "EQ_1_A1 = (E1 - E0).subs(z,0).doit().simplify()\n",
    "A1_sub_F = solve(EQ_1_A1, A1)[0].simplify()\n",
    "display(Math('A_1 = ' + latex(A1_sub_F)))\n",
    "\n",
    "\n",
    "\n",
    "R_sub_num, R_sub_den = fraction(R_sub)\n",
    "display(Math(latex(R_sub_num.simplify())))\n",
    "display(Math(latex(R_sub_den.simplify())))\n",
    "\n",
    "eta_d = symbols('eta_d')\n",
    "\n",
    "EQ_2 = (E1/H1 - Et/Ht).doit().subs(z, d).subs(Integral(U, (z, 0, d)), eta_d).doit()\n",
    "\n",
    "display(Math(latex(EQ_2)))\n",
    "\n",
    "Q_sub = solve(EQ_2, Q)[0].simplify()\n",
    "display(Math('Q = ' + latex(Q_sub)))\n",
    "\n",
    "EQ_2_T = Et.subs(z, 0) - E1.subs(z, d).subs(Integral(U, (z, 0, d)), eta_d).doit().simplify()\n",
    "T_sub_F = solve(EQ_2_T, T)[0]\n",
    "print('forward: ')\n",
    "display(Math('T = ' + latex(T_sub_F)))\n",
    "\n",
    "\n",
    "U_diff_U2 = (diff(U_sub, z).doit()/U_sub**2).simplify()\n",
    "display(Math('dU/dz/U^2 = ' + latex(U_diff_U2)))\n",
    "\n",
    "\n",
    "En = An*(exp(I*q*eta) + Qn*exp(-I*q*eta))/sqrt(U) \n",
    "Enp1 = Anp1*(exp(I*q*eta) + Qnp1*exp(-I*q*eta))/sqrt(U) \n",
    "\n",
    "Hn = diff(En, z)\n",
    "Hnp1 = diff(Enp1, z)\n",
    "\n",
    "EQ_3 = (En/Hn).doit().subs(z, d).subs(Integral(U, (z, 0, d)), eta_d).doit() - (Enp1/Hnp1).doit().subs(z, 0).subs(Integral(U, (z, 0, 0)), 0).doit()\n",
    "display(Math(latex(EQ_3)))\n",
    "\n",
    "Qn_sub = solve(EQ_3, Qn)[0].simplify()\n",
    "display(Math('Q_n = ' + latex(Qn_sub)))\n",
    "\n",
    "print('forward : ')\n",
    "Qnp1_sub_F = solve(EQ_3, Qnp1)[0].simplify()\n",
    "display(Math('Q_np1 = ' + latex(Qnp1_sub_F)))\n",
    "\n",
    "EQ_3_Anp1 = Enp1.doit().subs(z, 0).subs(Integral(U, (z, 0, 0)), 0).doit() - En.subs(z, d).doit().subs(Integral(U, (z, 0, d)), eta_d).doit()\n",
    "Anp1_sub_F = solve(EQ_3_Anp1, Anp1)[0].subs(Integral(U, (z, 0, d)), eta_d).doit().simplify()\n",
    "display(Math('A_np1 = ' + latex(Anp1_sub_F)))\n",
    "\n"
   ]
  },
  {
   "cell_type": "code",
   "execution_count": 3,
   "metadata": {
    "collapsed": false
   },
   "outputs": [
    {
     "name": "stdout",
     "output_type": "stream",
     "text": [
      "R_str = \n",
      " lambda : ((2*I*L_1*Q*k_i + 2*I*L_1*Q*q + 2*I*L_1*k_i - 2*I*L_1*q - Q*s_1 - s_1)/(2*I*L_1*Q*k_r - 2*I*L_1*Q*q + 2*I*L_1*k_r + 2*I*L_1*q + Q*s_1 + s_1))\n",
      "R_str = \n",
      " lambda : ((2*1j*L_1*Q*k_i + 2*1j*L_1*Q*q + 2*1j*L_1*k_i - 2*1j*L_1*q - Q*s_1 - s_1)/(2*1j*L_1*Q*k_r - 2*1j*L_1*Q*q + 2*1j*L_1*k_r + 2*1j*L_1*q + Q*s_1 + s_1))\n",
      "--------------------------------------------------\n",
      "Q_str = \n",
      " lambda : ((-2*k_t*U(d) + 2*q*U(d)**2 + I*Derivative(U(d), d))*exp(2*I*eta_d*q)/(2*k_t*U(d) + 2*q*U(d)**2 - I*Derivative(U(d), d)))\n",
      "Q_str = \n",
      " lambda : ((-2*k_t*U(d) + 2*q*U(d)**2 + 1j*Derivative(U(d), d))*exp(2*1j*eta_d*q)/(2*k_t*U(d) + 2*q*U(d)**2 - 1j*Derivative(U(d), d)))\n",
      "--------------------------------------------------\n",
      "Qn_str = \n",
      " lambda : ((2*I*Q_np1*q*U(0)**2*U(d) + 2*I*Q_np1*q*U(0)*U(d)**2 - Q_np1*U(0)*Derivative(U(d), d) + Q_np1*U(d)*Subs(Derivative(U(z), z), (z,), (0,)) - 2*I*q*U(0)**2*U(d) + 2*I*q*U(0)*U(d)**2 - U(0)*Derivative(U(d), d) + U(d)*Subs(Derivative(U(z), z), (z,), (0,)))*exp(2*I*eta_d*q)/(-2*I*Q_np1*q*U(0)**2*U(d) + 2*I*Q_np1*q*U(0)*U(d)**2 + Q_np1*U(0)*Derivative(U(d), d) - Q_np1*U(d)*Subs(Derivative(U(z), z), (z,), (0,)) + 2*I*q*U(0)**2*U(d) + 2*I*q*U(0)*U(d)**2 + U(0)*Derivative(U(d), d) - U(d)*Subs(Derivative(U(z), z), (z,), (0,))))\n",
      "Qn_str = \n",
      " lambda : ((2*1j*Q_np1*q*U_0**2*U_d + 2*1j*Q_np1*q*U_0*U_d**2 - Q_np1*U_0*dU_d + Q_np1*U_d*dU_0 - 2*1j*q*U_0**2*U_d + 2*1j*q*U_0*U_d**2 - U_0*dU_d + U_d*dU_0)*exp(2*1j*eta_d*q)/(-2*1j*Q_np1*q*U_0**2*U_d + 2*1j*Q_np1*q*U_0*U_d**2 + Q_np1*U_0*dU_d - Q_np1*U_d*dU_0 + 2*1j*q*U_0**2*U_d + 2*1j*q*U_0*U_d**2 + U_0*dU_d - U_d*dU_0))\n",
      "------------------------------ forward ------------------------------\n",
      "--------------------------------------------------\n",
      "Q_F_str = \n",
      " lambda : ((-2*I*L_1*R*k_r - 2*I*L_1*R*q + 2*I*L_1*k_i - 2*I*L_1*q - R*s_1 - s_1)/(2*I*L_1*R*k_r - 2*I*L_1*R*q - 2*I*L_1*k_i - 2*I*L_1*q + R*s_1 + s_1))\n",
      "Q_F_str = \n",
      " lambda : ((-2*1j*L_1*R*k_r - 2*1j*L_1*R*q + 2*1j*L_1*k_i - 2*1j*L_1*q - R*s_1 - s_1)/(2*1j*L_1*R*k_r - 2*1j*L_1*R*q - 2*1j*L_1*k_i - 2*1j*L_1*q + R*s_1 + s_1))\n",
      "--------------------------------------------------\n",
      "A1_F_str = \n",
      " lambda : ((R + 1)*sqrt(U(0))/(Q + 1))\n",
      "A1_F_str = \n",
      " lambda : ((R + 1)*sqrt(U_0)/(Q + 1))\n",
      "--------------------------------------------------\n",
      "Qnp1_F_str = \n",
      " lambda : ((2*I*Q_n*q*U(0)**2*U(d) + 2*I*Q_n*q*U(0)*U(d)**2 + Q_n*U(0)*Derivative(U(d), d) - Q_n*U(d)*Subs(Derivative(U(z), z), (z,), (0,)) + 2*I*q*U(0)**2*U(d)*exp(2*I*eta_d*q) - 2*I*q*U(0)*U(d)**2*exp(2*I*eta_d*q) + U(0)*exp(2*I*eta_d*q)*Derivative(U(d), d) - U(d)*exp(2*I*eta_d*q)*Subs(Derivative(U(z), z), (z,), (0,)))/(2*I*Q_n*q*U(0)**2*U(d) - 2*I*Q_n*q*U(0)*U(d)**2 - Q_n*U(0)*Derivative(U(d), d) + Q_n*U(d)*Subs(Derivative(U(z), z), (z,), (0,)) + 2*I*q*U(0)**2*U(d)*exp(2*I*eta_d*q) + 2*I*q*U(0)*U(d)**2*exp(2*I*eta_d*q) - U(0)*exp(2*I*eta_d*q)*Derivative(U(d), d) + U(d)*exp(2*I*eta_d*q)*Subs(Derivative(U(z), z), (z,), (0,))))\n",
      "Qnp1_F_str = \n",
      " lambda : ((2*1j*Q_n*q*U_0**2*U_d + 2*1j*Q_n*q*U_0*U_d**2 + Q_n*U_0*dU_d - Q_n*U_d*dU_0 + 2*1j*q*U_0**2*U_d*exp(2*1j*eta_d*q) - 2*1j*q*U_0*U_d**2*exp(2*1j*eta_d*q) + U_0*exp(2*1j*eta_d*q)*dU_d - U_d*exp(2*1j*eta_d*q)*dU_0)/(2*1j*Q_n*q*U_0**2*U_d - 2*1j*Q_n*q*U_0*U_d**2 - Q_n*U_0*dU_d + Q_n*U_d*dU_0 + 2*1j*q*U_0**2*U_d*exp(2*1j*eta_d*q) + 2*1j*q*U_0*U_d**2*exp(2*1j*eta_d*q) - U_0*exp(2*1j*eta_d*q)*dU_d + U_d*exp(2*1j*eta_d*q)*dU_0))\n",
      "--------------------------------------------------\n",
      "Anp1_F_str = \n",
      " lambda : (A_n*(Q_n + exp(2*I*eta_d*q))*sqrt(U(0))*exp(-I*eta_d*q)/((Q_np1 + 1)*sqrt(U(d))))\n",
      "Anp1_F_str = \n",
      " lambda : (A_n*(Q_n + exp(2*1j*eta_d*q))*sqrt(U_0)*exp(-1j*eta_d*q)/((Q_np1 + 1)*sqrt(U_d)))\n",
      "--------------------------------------------------\n",
      "T_F_str = \n",
      " lambda : (A_1*(Q + exp(2*I*eta_d*q))*exp(-I*eta_d*q)/sqrt(U(d)))\n",
      "T_F_str = \n",
      " lambda : (A_1*(Q + exp(2*1j*eta_d*q))*exp(-1j*eta_d*q)/sqrt(U_d))\n",
      "--------------------------------------------------\n",
      "--------------------------------------------------\n",
      "U_diff_U2_str = \n",
      " lambda : (-2*s_2*z/L_2**2 - s_1/L_1)\n",
      "U_diff_U2_str = \n",
      " lambda : (-2*s_2*z/L_2**2 - s_1/L_1)\n",
      "--------------------------------------------------\n",
      "U_str = \n",
      " lambda : (1/(1 + s_2*z**2/L_2**2 + s_1*z/L_1))\n",
      "U_str = \n",
      " lambda : (1/(1 + s_2*z**2/L_2**2 + s_1*z/L_1))\n"
     ]
    }
   ],
   "source": [
    "from sympy.utilities.lambdify import lambdastr\n",
    "\n",
    "from Electromagnetics import Misc\n",
    "\n",
    "R_str = lambdastr((), R_sub).replace('\\\\', '').replace('{', '').replace('}', '')\n",
    "print('R_str = \\n', R_str)\n",
    "\n",
    "R_str = Misc.replace_whole_word(R_str, 'I', '1j')\n",
    "print('R_str = \\n', R_str)\n",
    "\n",
    "print('-'*50)\n",
    "Q_str = lambdastr((), Q_sub).replace('\\\\', '').replace('{', '').replace('}', '')\n",
    "print('Q_str = \\n', Q_str)\n",
    "\n",
    "Q_str = Misc.replace_whole_word(Q_str, 'I', '1j')\n",
    "print('Q_str = \\n', Q_str)\n",
    "\n",
    "\n",
    "print('-'*50)\n",
    "Qn_str = lambdastr((), Qn_sub).replace('\\\\', '').replace('{', '').replace('}', '')\n",
    "print('Qn_str = \\n', Qn_str)\n",
    "\n",
    "Qn_str = Misc.replace_whole_word(Qn_str, 'I', '1j')\n",
    "Qn_str = Misc.replace_whole_word(Qn_str, 'Subs(Derivative(U(z), z), (z,), (0,))', 'dU_0')\n",
    "Qn_str = Misc.replace_whole_word(Qn_str, 'Derivative(U(d), d)', 'dU_d') \n",
    "Qn_str = Misc.replace_whole_word(Qn_str, 'U(0)', 'U_0')\n",
    "Qn_str = Misc.replace_whole_word(Qn_str, 'U(d)', 'U_d')\n",
    "print('Qn_str = \\n', Qn_str)\n",
    "\n",
    "\n",
    "print('-'*30, 'forward', '-'*30)\n",
    "\n",
    "print('-'*50)\n",
    "Q_F_str = lambdastr((), Q_sub_F).replace('\\\\', '').replace('{', '').replace('}', '')\n",
    "print('Q_F_str = \\n', Q_F_str)\n",
    "\n",
    "Q_F_str = Misc.replace_whole_word(Q_F_str, 'I', '1j')\n",
    "print('Q_F_str = \\n', Q_F_str)\n",
    "\n",
    "\n",
    "print('-'*50)\n",
    "A1_F_str = lambdastr((), A1_sub_F).replace('\\\\', '').replace('{', '').replace('}', '')\n",
    "print('A1_F_str = \\n', A1_F_str)\n",
    "\n",
    "A1_F_str = Misc.replace_whole_word(A1_F_str, 'I', '1j')\n",
    "A1_F_str = Misc.replace_whole_word(A1_F_str, 'U(0)', 'U_0')\n",
    "print('A1_F_str = \\n', A1_F_str)\n",
    "\n",
    "\n",
    "print('-'*50)\n",
    "Qnp1_F_str = lambdastr((), Qnp1_sub_F).replace('\\\\', '').replace('{', '').replace('}', '')\n",
    "print('Qnp1_F_str = \\n', Qnp1_F_str)\n",
    "\n",
    "Qnp1_F_str = Misc.replace_whole_word(Qnp1_F_str, 'I', '1j')\n",
    "Qnp1_F_str = Misc.replace_whole_word(Qnp1_F_str, 'Subs(Derivative(U(z), z), (z,), (0,))', 'dU_0')\n",
    "Qnp1_F_str = Misc.replace_whole_word(Qnp1_F_str, 'Derivative(U(d), d)', 'dU_d') \n",
    "Qnp1_F_str = Misc.replace_whole_word(Qnp1_F_str, 'U(0)', 'U_0')\n",
    "Qnp1_F_str = Misc.replace_whole_word(Qnp1_F_str, 'U(d)', 'U_d')\n",
    "print('Qnp1_F_str = \\n', Qnp1_F_str)\n",
    "\n",
    "print('-'*50)\n",
    "Anp1_F_str = lambdastr((), Anp1_sub_F).replace('\\\\', '').replace('{', '').replace('}', '')\n",
    "print('Anp1_F_str = \\n', Anp1_F_str)\n",
    "\n",
    "Anp1_F_str = Misc.replace_whole_word(Anp1_F_str, 'I', '1j')\n",
    "Anp1_F_str = Misc.replace_whole_word(Anp1_F_str, 'U(0)', 'U_0')\n",
    "Anp1_F_str = Misc.replace_whole_word(Anp1_F_str, 'U(d)', 'U_d')\n",
    "print('Anp1_F_str = \\n', Anp1_F_str)\n",
    "\n",
    "print('-'*50)\n",
    "T_F_str = lambdastr((), T_sub_F).replace('\\\\', '').replace('{', '').replace('}', '')\n",
    "print('T_F_str = \\n', T_F_str)\n",
    "\n",
    "T_F_str = Misc.replace_whole_word(T_F_str, 'I', '1j')\n",
    "T_F_str = Misc.replace_whole_word(T_F_str, 'U(d)', 'U_d')\n",
    "print('T_F_str = \\n', T_F_str)\n",
    "\n",
    "\n",
    "print('-'*50)\n",
    "print('-'*50)\n",
    "U_diff_U2_str = lambdastr((), U_diff_U2).replace('\\\\', '').replace('{', '').replace('}', '')\n",
    "print('U_diff_U2_str = \\n', U_diff_U2_str)\n",
    "\n",
    "U_diff_U2_str = Misc.replace_whole_word(U_diff_U2_str, 'I', '1j')\n",
    "print('U_diff_U2_str = \\n', U_diff_U2_str)\n",
    "\n",
    "print('-'*50)\n",
    "U_str = lambdastr((), U_sub).replace('\\\\', '').replace('{', '').replace('}', '')\n",
    "print('U_str = \\n', U_str)\n",
    "\n",
    "U_str = Misc.replace_whole_word(U_str, 'I', '1j')\n",
    "print('U_str = \\n', U_str)\n"
   ]
  },
  {
   "cell_type": "code",
   "execution_count": 4,
   "metadata": {
    "collapsed": false
   },
   "outputs": [
    {
     "data": {
      "text/latex": [
       "$$\\frac{A_{n} \\left(Q_{n} e^{- i \\eta_{{nd}} q_{n}} + e^{i \\eta_{{nd}} q_{n}}\\right)}{\\left(- \\frac{A_{n} \\frac{d}{d d} \\operatorname{U_{n}}{\\left (d \\right )}}{2 \\operatorname{U_{n}}^{\\frac{3}{2}}{\\left (d \\right )}} \\left(Q_{n} e^{- i \\eta_{{nd}} q_{n}} + e^{i \\eta_{{nd}} q_{n}}\\right) + \\frac{A_{n}}{\\sqrt{\\operatorname{U_{n}}{\\left (d \\right )}}} \\left(- i Q_{n} q_{n} \\operatorname{U_{n}}{\\left (d \\right )} e^{- i \\eta_{{nd}} q_{n}} + i q_{n} \\operatorname{U_{n}}{\\left (d \\right )} e^{i \\eta_{{nd}} q_{n}}\\right)\\right) \\sqrt{\\operatorname{U_{n}}{\\left (d \\right )}}} - \\frac{A_{{n+1}} \\left(Q_{{np1}} + 1\\right)}{\\left(- \\frac{A_{{n+1}}}{2 \\operatorname{U_{{np1}}}^{\\frac{3}{2}}{\\left (0 \\right )}} \\left(Q_{{np1}} + 1\\right) \\left. \\frac{d}{d z} \\operatorname{U_{{np1}}}{\\left (z \\right )} \\right|_{\\substack{ z=0 }} + \\frac{A_{{n+1}}}{\\sqrt{\\operatorname{U_{{np1}}}{\\left (0 \\right )}}} \\left(- i Q_{{np1}} q_{{np1}} \\operatorname{U_{{np1}}}{\\left (0 \\right )} + i q_{{np1}} \\operatorname{U_{{np1}}}{\\left (0 \\right )}\\right)\\right) \\sqrt{\\operatorname{U_{{np1}}}{\\left (0 \\right )}}}$$"
      ],
      "text/plain": [
       "<IPython.core.display.Math at 0x7f46edee9e10>"
      ]
     },
     "metadata": {},
     "output_type": "display_data"
    },
    {
     "data": {
      "text/latex": [
       "$$Q_n = \\frac{\\left(2 i Q_{{np1}} q_{n} \\operatorname{U_{n}}^{2}{\\left (d \\right )} \\operatorname{U_{{np1}}}{\\left (0 \\right )} + 2 i Q_{{np1}} q_{{np1}} \\operatorname{U_{n}}{\\left (d \\right )} \\operatorname{U_{{np1}}}^{2}{\\left (0 \\right )} + Q_{{np1}} \\operatorname{U_{n}}{\\left (d \\right )} \\left. \\frac{d}{d z} \\operatorname{U_{{np1}}}{\\left (z \\right )} \\right|_{\\substack{ z=0 }} - Q_{{np1}} \\operatorname{U_{{np1}}}{\\left (0 \\right )} \\frac{d}{d d} \\operatorname{U_{n}}{\\left (d \\right )} + 2 i q_{n} \\operatorname{U_{n}}^{2}{\\left (d \\right )} \\operatorname{U_{{np1}}}{\\left (0 \\right )} - 2 i q_{{np1}} \\operatorname{U_{n}}{\\left (d \\right )} \\operatorname{U_{{np1}}}^{2}{\\left (0 \\right )} + \\operatorname{U_{n}}{\\left (d \\right )} \\left. \\frac{d}{d z} \\operatorname{U_{{np1}}}{\\left (z \\right )} \\right|_{\\substack{ z=0 }} - \\operatorname{U_{{np1}}}{\\left (0 \\right )} \\frac{d}{d d} \\operatorname{U_{n}}{\\left (d \\right )}\\right) e^{2 i \\eta_{{nd}} q_{n}}}{2 i Q_{{np1}} q_{n} \\operatorname{U_{n}}^{2}{\\left (d \\right )} \\operatorname{U_{{np1}}}{\\left (0 \\right )} - 2 i Q_{{np1}} q_{{np1}} \\operatorname{U_{n}}{\\left (d \\right )} \\operatorname{U_{{np1}}}^{2}{\\left (0 \\right )} - Q_{{np1}} \\operatorname{U_{n}}{\\left (d \\right )} \\left. \\frac{d}{d z} \\operatorname{U_{{np1}}}{\\left (z \\right )} \\right|_{\\substack{ z=0 }} + Q_{{np1}} \\operatorname{U_{{np1}}}{\\left (0 \\right )} \\frac{d}{d d} \\operatorname{U_{n}}{\\left (d \\right )} + 2 i q_{n} \\operatorname{U_{n}}^{2}{\\left (d \\right )} \\operatorname{U_{{np1}}}{\\left (0 \\right )} + 2 i q_{{np1}} \\operatorname{U_{n}}{\\left (d \\right )} \\operatorname{U_{{np1}}}^{2}{\\left (0 \\right )} - \\operatorname{U_{n}}{\\left (d \\right )} \\left. \\frac{d}{d z} \\operatorname{U_{{np1}}}{\\left (z \\right )} \\right|_{\\substack{ z=0 }} + \\operatorname{U_{{np1}}}{\\left (0 \\right )} \\frac{d}{d d} \\operatorname{U_{n}}{\\left (d \\right )}}$$"
      ],
      "text/plain": [
       "<IPython.core.display.Math at 0x7f46edee9e10>"
      ]
     },
     "metadata": {},
     "output_type": "display_data"
    },
    {
     "name": "stdout",
     "output_type": "stream",
     "text": [
      "forward : \n"
     ]
    },
    {
     "data": {
      "text/latex": [
       "$$Q_np1 = \\frac{2 i Q_{n} q_{n} \\operatorname{U_{n}}^{2}{\\left (d \\right )} \\operatorname{U_{{np1}}}{\\left (0 \\right )} + 2 i Q_{n} q_{{np1}} \\operatorname{U_{n}}{\\left (d \\right )} \\operatorname{U_{{np1}}}^{2}{\\left (0 \\right )} - Q_{n} \\operatorname{U_{n}}{\\left (d \\right )} \\left. \\frac{d}{d z} \\operatorname{U_{{np1}}}{\\left (z \\right )} \\right|_{\\substack{ z=0 }} + Q_{n} \\operatorname{U_{{np1}}}{\\left (0 \\right )} \\frac{d}{d d} \\operatorname{U_{n}}{\\left (d \\right )} - 2 i q_{n} \\operatorname{U_{n}}^{2}{\\left (d \\right )} \\operatorname{U_{{np1}}}{\\left (0 \\right )} e^{2 i \\eta_{{nd}} q_{n}} + 2 i q_{{np1}} \\operatorname{U_{n}}{\\left (d \\right )} \\operatorname{U_{{np1}}}^{2}{\\left (0 \\right )} e^{2 i \\eta_{{nd}} q_{n}} - \\operatorname{U_{n}}{\\left (d \\right )} e^{2 i \\eta_{{nd}} q_{n}} \\left. \\frac{d}{d z} \\operatorname{U_{{np1}}}{\\left (z \\right )} \\right|_{\\substack{ z=0 }} + \\operatorname{U_{{np1}}}{\\left (0 \\right )} e^{2 i \\eta_{{nd}} q_{n}} \\frac{d}{d d} \\operatorname{U_{n}}{\\left (d \\right )}}{- 2 i Q_{n} q_{n} \\operatorname{U_{n}}^{2}{\\left (d \\right )} \\operatorname{U_{{np1}}}{\\left (0 \\right )} + 2 i Q_{n} q_{{np1}} \\operatorname{U_{n}}{\\left (d \\right )} \\operatorname{U_{{np1}}}^{2}{\\left (0 \\right )} + Q_{n} \\operatorname{U_{n}}{\\left (d \\right )} \\left. \\frac{d}{d z} \\operatorname{U_{{np1}}}{\\left (z \\right )} \\right|_{\\substack{ z=0 }} - Q_{n} \\operatorname{U_{{np1}}}{\\left (0 \\right )} \\frac{d}{d d} \\operatorname{U_{n}}{\\left (d \\right )} + 2 i q_{n} \\operatorname{U_{n}}^{2}{\\left (d \\right )} \\operatorname{U_{{np1}}}{\\left (0 \\right )} e^{2 i \\eta_{{nd}} q_{n}} + 2 i q_{{np1}} \\operatorname{U_{n}}{\\left (d \\right )} \\operatorname{U_{{np1}}}^{2}{\\left (0 \\right )} e^{2 i \\eta_{{nd}} q_{n}} + \\operatorname{U_{n}}{\\left (d \\right )} e^{2 i \\eta_{{nd}} q_{n}} \\left. \\frac{d}{d z} \\operatorname{U_{{np1}}}{\\left (z \\right )} \\right|_{\\substack{ z=0 }} - \\operatorname{U_{{np1}}}{\\left (0 \\right )} e^{2 i \\eta_{{nd}} q_{n}} \\frac{d}{d d} \\operatorname{U_{n}}{\\left (d \\right )}}$$"
      ],
      "text/plain": [
       "<IPython.core.display.Math at 0x7f46ede54fd0>"
      ]
     },
     "metadata": {},
     "output_type": "display_data"
    },
    {
     "data": {
      "text/latex": [
       "$$A_np1 = \\frac{A_{n} \\sqrt{\\operatorname{U_{{np1}}}{\\left (0 \\right )}} e^{- i \\eta_{{nd}} q_{n}}}{\\left(Q_{{np1}} + 1\\right) \\sqrt{\\operatorname{U_{n}}{\\left (d \\right )}}} \\left(Q_{n} + e^{2 i \\eta_{{nd}} q_{n}}\\right)$$"
      ],
      "text/plain": [
       "<IPython.core.display.Math at 0x7f46edd34f98>"
      ]
     },
     "metadata": {},
     "output_type": "display_data"
    }
   ],
   "source": [
    "q_n, q_np1 = symbols('q_n q_{np1}')\n",
    "\n",
    "U_n = Function('U_n')(z)\n",
    "U_np1 = Function('U_{np1}')(z)\n",
    "\n",
    "eta_n = Integral(U_n, (z, 0, z))\n",
    "eta_np1 = Integral(U_np1, (z, 0, z))\n",
    "\n",
    "\n",
    "En = An*(exp(I*q_n*eta_n) + Qn*exp(-I*q_n*eta_n))/sqrt(U_n) \n",
    "Enp1 = Anp1*(exp(I*q_np1*eta_np1) + Qnp1*exp(-I*q_np1*eta_np1))/sqrt(U_np1) \n",
    "\n",
    "Hn = diff(En, z)\n",
    "Hnp1 = diff(Enp1, z)\n",
    "\n",
    "eta_nd = symbols('eta_{nd}')\n",
    "\n",
    "EQ_3 = (En/Hn).doit().subs(z, d).subs(Integral(U_n, (z, 0, d)), eta_nd).doit() - (Enp1/Hnp1).doit().subs(z, 0).subs(Integral(U_np1, (z, 0, 0)), 0).doit()\n",
    "display(Math(latex(EQ_3)))\n",
    "\n",
    "Qn_sub = solve(EQ_3, Qn)[0].simplify()\n",
    "display(Math('Q_n = ' + latex(Qn_sub)))\n",
    "\n",
    "print('forward : ')\n",
    "Qnp1_sub_F = solve(EQ_3, Qnp1)[0].simplify()\n",
    "display(Math('Q_np1 = ' + latex(Qnp1_sub_F)))\n",
    "\n",
    "EQ_3_Anp1 = Enp1.doit().subs(z, 0).subs(Integral(U_np1, (z, 0, 0)), 0).doit() - En.subs(z, d).doit().subs(Integral(U_n, (z, 0, d)), eta_nd).doit()\n",
    "Anp1_sub_F = solve(EQ_3_Anp1, Anp1)[0].subs(Integral(U_n, (z, 0, d)), eta_nd).doit().simplify()\n",
    "display(Math('A_np1 = ' + latex(Anp1_sub_F)))\n"
   ]
  },
  {
   "cell_type": "code",
   "execution_count": 5,
   "metadata": {
    "collapsed": false
   },
   "outputs": [
    {
     "name": "stdout",
     "output_type": "stream",
     "text": [
      "--------------------------------------------------\n",
      "Qn_str = \n",
      " lambda : ((2*I*Q_np1*q_n*U_n(d)**2*U_np1(0) + 2*I*Q_np1*q_np1*U_n(d)*U_np1(0)**2 + Q_np1*U_n(d)*Subs(Derivative(U_np1(z), z), (z,), (0,)) - Q_np1*U_np1(0)*Derivative(U_n(d), d) + 2*I*q_n*U_n(d)**2*U_np1(0) - 2*I*q_np1*U_n(d)*U_np1(0)**2 + U_n(d)*Subs(Derivative(U_np1(z), z), (z,), (0,)) - U_np1(0)*Derivative(U_n(d), d))*exp(2*I*eta_nd*q_n)/(2*I*Q_np1*q_n*U_n(d)**2*U_np1(0) - 2*I*Q_np1*q_np1*U_n(d)*U_np1(0)**2 - Q_np1*U_n(d)*Subs(Derivative(U_np1(z), z), (z,), (0,)) + Q_np1*U_np1(0)*Derivative(U_n(d), d) + 2*I*q_n*U_n(d)**2*U_np1(0) + 2*I*q_np1*U_n(d)*U_np1(0)**2 - U_n(d)*Subs(Derivative(U_np1(z), z), (z,), (0,)) + U_np1(0)*Derivative(U_n(d), d)))\n",
      "Qn_str = \n",
      " lambda : ((2*1j*Q_np1*q_n*Un_d**2*Unp1_0 + 2*1j*Q_np1*q_np1*Un_d*Unp1_0**2 + Q_np1*Un_d*dUnp1_0 - Q_np1*Unp1_0*dUn_d + 2*1j*q_n*Un_d**2*Unp1_0 - 2*1j*q_np1*Un_d*Unp1_0**2 + Un_d*dUnp1_0 - Unp1_0*dUn_d)*np.exp(2*1j*eta_nd*q_n)/(2*1j*Q_np1*q_n*Un_d**2*Unp1_0 - 2*1j*Q_np1*q_np1*Un_d*Unp1_0**2 - Q_np1*Un_d*dUnp1_0 + Q_np1*Unp1_0*dUn_d + 2*1j*q_n*Un_d**2*Unp1_0 + 2*1j*q_np1*Un_d*Unp1_0**2 - Un_d*dUnp1_0 + Unp1_0*dUn_d))\n",
      "--------------------------------------------------\n",
      "--------------------------------------------------\n",
      "Qnp1_F_str = \n",
      " lambda : ((2*I*Q_n*q_n*U_n(d)**2*U_np1(0) + 2*I*Q_n*q_np1*U_n(d)*U_np1(0)**2 - Q_n*U_n(d)*Subs(Derivative(U_np1(z), z), (z,), (0,)) + Q_n*U_np1(0)*Derivative(U_n(d), d) - 2*I*q_n*U_n(d)**2*U_np1(0)*exp(2*I*eta_nd*q_n) + 2*I*q_np1*U_n(d)*U_np1(0)**2*exp(2*I*eta_nd*q_n) - U_n(d)*exp(2*I*eta_nd*q_n)*Subs(Derivative(U_np1(z), z), (z,), (0,)) + U_np1(0)*exp(2*I*eta_nd*q_n)*Derivative(U_n(d), d))/(-2*I*Q_n*q_n*U_n(d)**2*U_np1(0) + 2*I*Q_n*q_np1*U_n(d)*U_np1(0)**2 + Q_n*U_n(d)*Subs(Derivative(U_np1(z), z), (z,), (0,)) - Q_n*U_np1(0)*Derivative(U_n(d), d) + 2*I*q_n*U_n(d)**2*U_np1(0)*exp(2*I*eta_nd*q_n) + 2*I*q_np1*U_n(d)*U_np1(0)**2*exp(2*I*eta_nd*q_n) + U_n(d)*exp(2*I*eta_nd*q_n)*Subs(Derivative(U_np1(z), z), (z,), (0,)) - U_np1(0)*exp(2*I*eta_nd*q_n)*Derivative(U_n(d), d)))\n",
      "Qnp1_F_str = \n",
      " lambda : ((2*1j*Q_n*q_n*Un_d**2*Unp1_0 + 2*1j*Q_n*q_np1*Un_d*Unp1_0**2 - Q_n*Un_d*dUnp1_0 + Q_n*Unp1_0*dUn_d - 2*1j*q_n*Un_d**2*Unp1_0*np.exp(2*1j*eta_nd*q_n) + 2*1j*q_np1*Un_d*Unp1_0**2*np.exp(2*1j*eta_nd*q_n) - Un_d*np.exp(2*1j*eta_nd*q_n)*dUnp1_0 + Unp1_0*np.exp(2*1j*eta_nd*q_n)*dUn_d)/(-2*1j*Q_n*q_n*Un_d**2*Unp1_0 + 2*1j*Q_n*q_np1*Un_d*Unp1_0**2 + Q_n*Un_d*dUnp1_0 - Q_n*Unp1_0*dUn_d + 2*1j*q_n*Un_d**2*Unp1_0*np.exp(2*1j*eta_nd*q_n) + 2*1j*q_np1*Un_d*Unp1_0**2*np.exp(2*1j*eta_nd*q_n) + Un_d*np.exp(2*1j*eta_nd*q_n)*dUnp1_0 - Unp1_0*np.exp(2*1j*eta_nd*q_n)*dUn_d))\n",
      "--------------------------------------------------\n",
      "Anp1_F_str = \n",
      " lambda : (A_n*(Q_n + exp(2*I*eta_nd*q_n))*sqrt(U_np1(0))*exp(-I*eta_nd*q_n)/((Q_np1 + 1)*sqrt(U_n(d))))\n",
      "Anp1_F_str = \n",
      " lambda : (A_n*(Q_n + np.exp(2*1j*eta_nd*q_n))*np.sqrt(Unp1_0)*np.exp(-1j*eta_nd*q_n)/((Q_np1 + 1)*np.sqrt(Un_d)))\n"
     ]
    }
   ],
   "source": [
    "from sympy.utilities.lambdify import lambdastr\n",
    "\n",
    "from Electromagnetics import Misc\n",
    "\n",
    "print('-'*50)\n",
    "Qn_str = lambdastr((), Qn_sub).replace('\\\\', '').replace('{', '').replace('}', '')\n",
    "print('Qn_str = \\n', Qn_str)\n",
    "\n",
    "Qn_str = Misc.replace_whole_word(Qn_str, 'I', '1j')\n",
    "Qn_str = Misc.replace_whole_word(Qn_str, 'Subs(Derivative(U_np1(z), z), (z,), (0,))', 'dUnp1_0')\n",
    "Qn_str = Misc.replace_whole_word(Qn_str, 'Derivative(U_n(d), d)', 'dUn_d') \n",
    "Qn_str = Misc.replace_whole_word(Qn_str, 'U_np1(0)', 'Unp1_0')\n",
    "Qn_str = Misc.replace_whole_word(Qn_str, 'U_n(d)', 'Un_d')\n",
    "Qn_str = Misc.replace_whole_word(Qn_str, 'exp', 'np.exp')\n",
    "Qn_str = Misc.replace_whole_word(Qn_str, 'sqrt', 'np.sqrt')\n",
    "print('Qn_str = \\n', Qn_str)\n",
    "\n",
    "print('-'*50)\n",
    "print('-'*50)\n",
    "\n",
    "Qnp1_F_str = lambdastr((), Qnp1_sub_F).replace('\\\\', '').replace('{', '').replace('}', '')\n",
    "print('Qnp1_F_str = \\n', Qnp1_F_str)\n",
    "\n",
    "Qnp1_F_str = Misc.replace_whole_word(Qnp1_F_str, 'I', '1j')\n",
    "Qnp1_F_str = Misc.replace_whole_word(Qnp1_F_str, 'Subs(Derivative(U_np1(z), z), (z,), (0,))', 'dUnp1_0')\n",
    "Qnp1_F_str = Misc.replace_whole_word(Qnp1_F_str, 'Derivative(U_n(d), d)', 'dUn_d') \n",
    "Qnp1_F_str = Misc.replace_whole_word(Qnp1_F_str, 'U_np1(0)', 'Unp1_0')\n",
    "Qnp1_F_str = Misc.replace_whole_word(Qnp1_F_str, 'U_n(d)', 'Un_d')\n",
    "Qnp1_F_str = Misc.replace_whole_word(Qnp1_F_str, 'exp', 'np.exp')\n",
    "Qnp1_F_str = Misc.replace_whole_word(Qnp1_F_str, 'sqrt', 'np.sqrt')\n",
    "print('Qnp1_F_str = \\n', Qnp1_F_str)\n",
    "\n",
    "print('-'*50)\n",
    "Anp1_F_str = lambdastr((), Anp1_sub_F).replace('\\\\', '').replace('{', '').replace('}', '')\n",
    "print('Anp1_F_str = \\n', Anp1_F_str)\n",
    "\n",
    "Anp1_F_str = Misc.replace_whole_word(Anp1_F_str, 'I', '1j')\n",
    "Anp1_F_str = Misc.replace_whole_word(Anp1_F_str, 'U_np1(0)', 'Unp1_0')\n",
    "Anp1_F_str = Misc.replace_whole_word(Anp1_F_str, 'U_n(d)', 'Un_d')\n",
    "Anp1_F_str = Misc.replace_whole_word(Anp1_F_str, 'exp', 'np.exp')\n",
    "Anp1_F_str = Misc.replace_whole_word(Anp1_F_str, 'sqrt', 'np.sqrt')\n",
    "print('Anp1_F_str = \\n', Anp1_F_str)\n"
   ]
  },
  {
   "cell_type": "code",
   "execution_count": null,
   "metadata": {
    "collapsed": false
   },
   "outputs": [],
   "source": []
  }
 ],
 "metadata": {
  "kernelspec": {
   "display_name": "Python 3",
   "language": "python",
   "name": "python3"
  },
  "language_info": {
   "codemirror_mode": {
    "name": "ipython",
    "version": 3
   },
   "file_extension": ".py",
   "mimetype": "text/x-python",
   "name": "python",
   "nbconvert_exporter": "python",
   "pygments_lexer": "ipython3",
   "version": "3.4.3"
  }
 },
 "nbformat": 4,
 "nbformat_minor": 0
}
