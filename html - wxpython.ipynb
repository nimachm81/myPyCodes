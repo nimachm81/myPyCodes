{
 "cells": [
  {
   "cell_type": "code",
   "execution_count": null,
   "metadata": {
    "collapsed": false
   },
   "outputs": [],
   "source": [
    "# python 2 : wx.OPEN\n",
    "# python 3 : wx.FD_OPEN\n",
    "\n",
    "import wx\n",
    "import  wx.html\n",
    "class MyHtmlPanel(wx.Panel):\n",
    "    \"\"\"\n",
    "    class MyHtmlPanel inherits wx.Panel and adds a button and HtmlWindow\n",
    "    \"\"\"\n",
    "    def __init__(self, parent, id):\n",
    "        # default pos is (0, 0) and size is (-1, -1) which fills the frame\n",
    "        wx.Panel.__init__(self, parent, id)\n",
    "        self.SetBackgroundColour(\"yellow\")\n",
    "        self.html1 = wx.html.HtmlWindow(self, id, pos=(0,30), size=(602,310))\n",
    "        \n",
    "        self.btn1 = wx.Button(self, -1, \"Load Html File\", pos=(0,0))\n",
    "        self.btn1.Bind(wx.EVT_BUTTON, self.OnLoadFile)\n",
    "        \n",
    "        self.btn2 = wx.Button(self, -1, \"Clear Page\", pos=(120,0))\n",
    "        self.btn2.Bind(wx.EVT_BUTTON, self.OnClearPage)\n",
    "        \n",
    "    def OnLoadFile(self, event):\n",
    "        dlg = wx.FileDialog(self, wildcard = '*.htm*', style=wx.FD_OPEN)\n",
    "        if dlg.ShowModal():\n",
    "            path = dlg.GetPath()\n",
    "            self.html1.LoadPage(path)\n",
    "        dlg.Destroy()\n",
    "        \n",
    "    def OnClearPage(self, event):\n",
    "        self.html1.SetPage(\"\")\n",
    "        \n",
    "app = wx.PySimpleApp()\n",
    "# create a window/frame, no parent, -1 is default ID, title, size\n",
    "frame = wx.Frame(None, -1, \"HtmlWindow()\", size=(610, 380))\n",
    "# call the derived class, -1 is default ID\n",
    "MyHtmlPanel(frame,-1)\n",
    "# show the frame\n",
    "frame.Show(True)\n",
    "# start the event loop\n",
    "app.MainLoop()"
   ]
  },
  {
   "cell_type": "code",
   "execution_count": null,
   "metadata": {
    "collapsed": false
   },
   "outputs": [],
   "source": []
  }
 ],
 "metadata": {
  "kernelspec": {
   "display_name": "Python 3",
   "language": "python",
   "name": "python3"
  },
  "language_info": {
   "codemirror_mode": {
    "name": "ipython",
    "version": 3
   },
   "file_extension": ".py",
   "mimetype": "text/x-python",
   "name": "python",
   "nbconvert_exporter": "python",
   "pygments_lexer": "ipython3",
   "version": "3.5.2"
  }
 },
 "nbformat": 4,
 "nbformat_minor": 0
}
