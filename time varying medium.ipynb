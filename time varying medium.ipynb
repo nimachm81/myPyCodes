{
 "cells": [
  {
   "cell_type": "code",
   "execution_count": 1,
   "metadata": {
    "collapsed": false
   },
   "outputs": [
    {
     "data": {
      "text/latex": [
       "$$\\mu_{0} \\frac{\\partial}{\\partial t} H{\\left (z,t \\right )} + \\frac{\\partial}{\\partial z} E{\\left (z,t \\right )}$$"
      ],
      "text/plain": [
       "<IPython.core.display.Math at 0x7fb567124cc0>"
      ]
     },
     "metadata": {},
     "output_type": "display_data"
    },
    {
     "data": {
      "text/latex": [
       "$$- \\epsilon_{0} \\frac{\\partial}{\\partial t}\\left(E{\\left (z,t \\right )} \\epsilon_{r}{\\left (t \\right )}\\right) - \\frac{\\partial}{\\partial z} H{\\left (z,t \\right )}$$"
      ],
      "text/plain": [
       "<IPython.core.display.Math at 0x7fb567248a90>"
      ]
     },
     "metadata": {},
     "output_type": "display_data"
    },
    {
     "data": {
      "text/latex": [
       "$$\\mu_{0} \\frac{\\partial^{2}}{\\partial t\\partial z}  H{\\left (z,t \\right )} + \\frac{\\partial^{2}}{\\partial z^{2}}  E{\\left (z,t \\right )}$$"
      ],
      "text/plain": [
       "<IPython.core.display.Math at 0x7fb567248a90>"
      ]
     },
     "metadata": {},
     "output_type": "display_data"
    },
    {
     "data": {
      "text/latex": [
       "$$\\mu_{0} \\frac{\\partial}{\\partial t}\\left(- \\epsilon_{0} \\frac{\\partial}{\\partial t}\\left(E{\\left (z,t \\right )} \\epsilon_{r}{\\left (t \\right )}\\right)\\right) + \\frac{\\partial^{2}}{\\partial z^{2}}  E{\\left (z,t \\right )}$$"
      ],
      "text/plain": [
       "<IPython.core.display.Math at 0x7fb567248a90>"
      ]
     },
     "metadata": {},
     "output_type": "display_data"
    },
    {
     "data": {
      "text/latex": [
       "$$\\mu_{0} \\frac{\\partial}{\\partial t}\\left(- \\epsilon_{0} \\frac{\\partial}{\\partial t} D{\\left (z,t \\right )}\\right) + \\frac{\\partial^{2}}{\\partial z^{2}} \\left(\\frac{D{\\left (z,t \\right )}}{\\epsilon_{r}{\\left (t \\right )}}\\right)$$"
      ],
      "text/plain": [
       "<IPython.core.display.Math at 0x7fb567248a90>"
      ]
     },
     "metadata": {},
     "output_type": "display_data"
    },
    {
     "data": {
      "text/latex": [
       "$$\\frac{c^{2} k^{2} \\operatorname{D_{0}}{\\left (t \\right )}}{n^{2}{\\left (t \\right )}} + \\frac{d^{2}}{d t^{2}}  \\operatorname{D_{0}}{\\left (t \\right )}$$"
      ],
      "text/plain": [
       "<IPython.core.display.Math at 0x7fb566ff20f0>"
      ]
     },
     "metadata": {},
     "output_type": "display_data"
    }
   ],
   "source": [
    "from sympy import *\n",
    "from IPython.display import Math, display\n",
    "\n",
    "z, t = symbols('z t')\n",
    "\n",
    "E = Function('E')(z,t) \n",
    "H = Function('H')(z,t)\n",
    "D = Function('D')(z,t)\n",
    "\n",
    "\n",
    "omega, k = symbols('omega k')\n",
    "\n",
    "eps_r = Function('\\\\epsilon_r')(t)\n",
    "eps_0, mu_0 = symbols('\\\\epsilon_0 \\\\mu_0')\n",
    "omega = Symbol('\\\\omega')\n",
    "\n",
    "MF = Derivative(E, z) + mu_0*Derivative(H, t)\n",
    "MA = -Derivative(H, z) - eps_0*Derivative(eps_r*E, t)\n",
    "\n",
    "display(Math(latex(MF)))\n",
    "display(Math(latex(MA)))\n",
    "\n",
    "EQ = Derivative(MF, z).doit()\n",
    "display(Math(latex(EQ)))\n",
    "\n",
    "EQ = EQ.subs(Derivative(H, z), -eps_0*Derivative(eps_r*E, t)).simplify()\n",
    "display(Math(latex(EQ)))\n",
    "\n",
    "EQ = EQ.subs(E, D/eps_r)\n",
    "display(Math(latex(EQ)))\n",
    "\n",
    "D_0 = Function('D_0')(t)\n",
    "n = Function('n')(t)\n",
    "c = Symbol('c')\n",
    "\n",
    "EQ = EQ.subs([(D, D_0*exp(I*k*z)), (eps_r, n**2)])/exp(I*k*z)\n",
    "EQ = EQ.doit().simplify().subs(eps_0*mu_0, 1/c**2)\n",
    "EQ = (-EQ*c**2).simplify()\n",
    "display(Math(latex(EQ)))\n",
    "\n"
   ]
  },
  {
   "cell_type": "code",
   "execution_count": 2,
   "metadata": {
    "collapsed": false
   },
   "outputs": [
    {
     "data": {
      "text/latex": [
       "$$- D_{I} \\omega_{0}^{2} e^{i \\omega_{0} t} + \\frac{D_{I} c^{2}}{n_{0}^{2}} k^{2} e^{i \\omega_{0} t}$$"
      ],
      "text/plain": [
       "<IPython.core.display.Math at 0x7fb566f8deb8>"
      ]
     },
     "metadata": {},
     "output_type": "display_data"
    },
    {
     "data": {
      "text/latex": [
       "$$- D_{R} \\omega_{1}^{2} e^{i \\omega_{1} t} + \\frac{D_{R} c^{2}}{n_{1}^{2}} k^{2} e^{i \\omega_{1} t}$$"
      ],
      "text/plain": [
       "<IPython.core.display.Math at 0x7fb566f8df28>"
      ]
     },
     "metadata": {},
     "output_type": "display_data"
    },
    {
     "data": {
      "text/latex": [
       "$$- D_{T} \\omega_{1}^{2} e^{i \\omega_{1} t} + \\frac{D_{T} c^{2}}{n_{1}^{2}} k^{2} e^{i \\omega_{1} t}$$"
      ],
      "text/plain": [
       "<IPython.core.display.Math at 0x7fb566f8deb8>"
      ]
     },
     "metadata": {},
     "output_type": "display_data"
    }
   ],
   "source": [
    "eps_r0, eps_r1 = symbols('\\\\epsilon_{r0} \\\\epsilon_{r1}')\n",
    "n_0, n_1 = symbols('n_0 n_1')\n",
    "omega_0, omega_1 = symbols('\\\\omega_0 \\\\omega_1')\n",
    "D_I, D_R, D_T = symbols('D_I D_R D_T')\n",
    "\n",
    "EQ_I = EQ.subs([(D_0, D_I*exp(I*omega_0*t)), (n, n_0)]).doit()\n",
    "EQ_R = EQ.subs([(D_0, D_R*exp(I*omega_1*t)), (n, n_1)]).doit()\n",
    "EQ_T = EQ.subs([(D_0, D_T*exp(I*omega_1*t)), (n, n_1)]).doit()\n",
    "\n",
    "display(Math(latex(EQ_I)))\n",
    "display(Math(latex(EQ_R)))\n",
    "display(Math(latex(EQ_T)))\n",
    "\n"
   ]
  },
  {
   "cell_type": "code",
   "execution_count": 14,
   "metadata": {
    "collapsed": false
   },
   "outputs": [
    {
     "data": {
      "text/latex": [
       "$$- D_{I} + D_{R} + D_{T}$$"
      ],
      "text/plain": [
       "<IPython.core.display.Math at 0x7fb566f1c2e8>"
      ]
     },
     "metadata": {},
     "output_type": "display_data"
    },
    {
     "data": {
      "text/latex": [
       "$$- \\frac{i c k}{n_{0} n_{1}} \\left(D_{I} n_{1} + n_{0} \\left(D_{R} - D_{T}\\right)\\right)$$"
      ],
      "text/plain": [
       "<IPython.core.display.Math at 0x7fb566f1c278>"
      ]
     },
     "metadata": {},
     "output_type": "display_data"
    },
    {
     "data": {
      "text/latex": [
       "$$\\left \\{ D_{R} : \\frac{D_{I} \\left(n_{0} - n_{1}\\right)}{2 n_{0}}, \\quad D_{T} : \\frac{D_{I} \\left(n_{0} + n_{1}\\right)}{2 n_{0}}\\right \\}$$"
      ],
      "text/plain": [
       "<IPython.core.display.Math at 0x7fb566f160f0>"
      ]
     },
     "metadata": {},
     "output_type": "display_data"
    },
    {
     "data": {
      "text/latex": [
       "$$R = \\frac{n_{0} - n_{1}}{2 n_{0}}$$"
      ],
      "text/plain": [
       "<IPython.core.display.Math at 0x7fb566f16438>"
      ]
     },
     "metadata": {},
     "output_type": "display_data"
    },
    {
     "data": {
      "text/latex": [
       "$$T = \\frac{n_{0} + n_{1}}{2 n_{0}}$$"
      ],
      "text/plain": [
       "<IPython.core.display.Math at 0x7fb566f160f0>"
      ]
     },
     "metadata": {},
     "output_type": "display_data"
    },
    {
     "data": {
      "text/latex": [
       "$$E_I = \\frac{D_{I}^{2}}{n_{0}^{3}}$$"
      ],
      "text/plain": [
       "<IPython.core.display.Math at 0x7fb566f66e48>"
      ]
     },
     "metadata": {},
     "output_type": "display_data"
    },
    {
     "data": {
      "text/latex": [
       "$$E_R = \\frac{D_{I}^{2} \\left(n_{0} - n_{1}\\right)^{2}}{4 n_{0}^{5}}$$"
      ],
      "text/plain": [
       "<IPython.core.display.Math at 0x7fb566f6a9e8>"
      ]
     },
     "metadata": {},
     "output_type": "display_data"
    },
    {
     "data": {
      "text/latex": [
       "$$E_T = \\frac{D_{I}^{2} \\left(n_{0} + n_{1}\\right)^{2}}{4 n_{0}^{2} n_{1}^{3}}$$"
      ],
      "text/plain": [
       "<IPython.core.display.Math at 0x7fb566f66e48>"
      ]
     },
     "metadata": {},
     "output_type": "display_data"
    },
    {
     "data": {
      "text/latex": [
       "$$E_T + E_R = \\frac{D_{I}^{2}}{4 n_{0}^{5} n_{1}^{3}} \\left(n_{0}^{3} \\left(n_{0} + n_{1}\\right)^{2} + n_{1}^{3} \\left(n_{0} - n_{1}\\right)^{2}\\right)$$"
      ],
      "text/plain": [
       "<IPython.core.display.Math at 0x7fb566f16438>"
      ]
     },
     "metadata": {},
     "output_type": "display_data"
    },
    {
     "data": {
      "text/latex": [
       "$$(E_T + E_R) / E_I = \\frac{n_{0} \\left(n_{0} + n_{1}\\right)^{2}}{4 n_{1}^{3}} + \\frac{\\left(n_{0} - n_{1}\\right)^{2}}{4 n_{0}^{2}}$$"
      ],
      "text/plain": [
       "<IPython.core.display.Math at 0x7fb566f66e48>"
      ]
     },
     "metadata": {},
     "output_type": "display_data"
    }
   ],
   "source": [
    "\n",
    "EQ_0 = D_I*exp(I*omega_0*t-I*k*z)\n",
    "EQ_1 = D_T*exp(I*omega_1*t-I*k*z) + D_R*exp(-I*omega_1*t-I*k*z)\n",
    "\n",
    "EQ_0 = EQ_0.subs(omega_0, k*c/n_0)\n",
    "EQ_1 = EQ_1.subs(omega_1, k*c/n_1)\n",
    "\n",
    "EQs_t0 = (EQ_1 - EQ_0).subs(t, 0)/exp(-I*k*z)\n",
    "dEQs_t0 = (Derivative(EQ_1, t) - Derivative(EQ_0, t)).subs(t, 0).doit()/exp(-I*k*z)\n",
    "\n",
    "EQs_t0 = EQs_t0.simplify()\n",
    "dEQs_t0 = dEQs_t0.simplify()\n",
    "\n",
    "display(Math(latex(EQs_t0)))\n",
    "display(Math(latex(dEQs_t0)))\n",
    "\n",
    "D_TR_sub =  solve([EQs_t0, dEQs_t0], [D_T, D_R])\n",
    "display(Math(latex(D_TR_sub)))\n",
    "\n",
    "R = D_TR_sub[D_R]/D_I\n",
    "T = D_TR_sub[D_T]/D_I\n",
    "\n",
    "display(Math('R = ' + latex(R)))\n",
    "display(Math('T = ' + latex(T)))\n",
    "\n",
    "## E: poynting power (relations not clear yet)\n",
    "##TODO: the energy conservation law to be checked according to the Poynting theorem\n",
    "E_I = D_I**2/(n_0**3)\n",
    "E_R = (R**2*D_I**2/n_0**3).simplify()\n",
    "E_T = (T**2*D_I**2/n_1**3).simplify()\n",
    "\n",
    "display(Math('E_I = ' + latex(E_I)))\n",
    "display(Math('E_R = ' + latex(E_R)))\n",
    "display(Math('E_T = ' + latex(E_T)))\n",
    "\n",
    "E_TR = (E_T + E_R).simplify()\n",
    "display(Math('E_T + E_R = ' + latex(E_TR)))\n",
    "\n",
    "E_TR_E_I = (E_TR/E_I).simplify()\n",
    "display(Math('(E_T + E_R) / E_I = ' + latex(E_TR_E_I)))\n"
   ]
  },
  {
   "cell_type": "code",
   "execution_count": 1,
   "metadata": {
    "collapsed": false
   },
   "outputs": [
    {
     "name": "stdout",
     "output_type": "stream",
     "text": [
      "2 1\n",
      "5 4\n",
      "14 13\n",
      "41 40\n",
      "122 121\n",
      "365 364\n",
      "1094 1093\n",
      "3281 3280\n",
      "9842 9841\n",
      "29525 29524\n",
      "29525\n"
     ]
    }
   ],
   "source": [
    "# R = (1 - n1/n0)/2 = (n0 - n1)/2n0\n",
    "# T = (1 + n1/n0)/2 = (n0 + n1)/2n0\n",
    "# T + R = 1\n",
    "# T**2 - R**2 = n1/n0\n",
    "\n",
    "import numpy as np\n",
    "from scipy import constants\n",
    "import math, cmath\n",
    "\n",
    "def GetRT(n0, n1):\n",
    "    R = (n0-n1)/(2.0*n0)\n",
    "    T = (n0+n1)/(2.0*n0)\n",
    "    return [R, T]\n",
    "\n",
    "def propWavesForward(waves, n0, k, t):\n",
    "    for i in range(len(waves)):\n",
    "        omega = k*constants.c/n0\n",
    "        waves[i] = waves[i]*cmath.exp(1j*omega*t)\n",
    "        \n",
    "def propWavesBackward(waves, n0, k, t):\n",
    "    for i in range(len(waves)):\n",
    "        omega = k*constants.c/n0\n",
    "        waves[i] = waves[i]*cmath.exp(-1j*omega*t)\n",
    "\n",
    "def switchMedium(waves_F, waves_B, n0, n1):\n",
    "    NF = len(waves_F)\n",
    "    NB = len(waves_B)\n",
    "    for i in range(NF):\n",
    "        R, T = GetRT(n0, n1)\n",
    "        waves_F.append(T*waves_F[i])\n",
    "        waves_B.append(R*waves_F[i])\n",
    "    for i in range(NB):\n",
    "        R, T = GetRT(n0, n1)\n",
    "        waves_F.append(R*waves_B[i])\n",
    "        waves_B.append(T*waves_B[i])\n",
    "\n",
    "waves_F = [1.0]\n",
    "waves_B = []\n",
    "\n",
    "N = 5\n",
    "omega = 2.0*math.pi*constants.giga\n",
    "k = omega/constants.c\n",
    "n0, n1 = 1.0, 1.5\n",
    "dt = 1.0*constants.nano\n",
    "for i in range(N):\n",
    "    switchMedium(waves_F, waves_B, n0, n1)\n",
    "    propWavesForward(waves_F, n1, k, dt)\n",
    "    propWavesBackward(waves_B, n1, k, dt)\n",
    "    print(len(waves_F), len(waves_B))\n",
    "    \n",
    "    switchMedium(waves_F, waves_B, n1, n0)\n",
    "    propWavesForward(waves_F, n0, k, dt)\n",
    "    propWavesBackward(waves_B, n0, k, dt)\n",
    "    print(len(waves_F), len(waves_B))\n",
    "    \n",
    "print(len(waves_F))\n",
    "\n"
   ]
  },
  {
   "cell_type": "code",
   "execution_count": 14,
   "metadata": {
    "collapsed": false
   },
   "outputs": [
    {
     "name": "stdout",
     "output_type": "stream",
     "text": [
      "Using matplotlib backend: TkAgg\n",
      "Populating the interactive namespace from numpy and matplotlib\n"
     ]
    },
    {
     "name": "stderr",
     "output_type": "stream",
     "text": [
      "WARNING: pylab import has clobbered these variables: ['f']\n",
      "`%pylab --no-import-all` prevents importing * from pylab and numpy\n"
     ]
    }
   ],
   "source": [
    "# R = (1 - n1/n0)/2 = (n0 - n1)/2n0\n",
    "# T = (1 + n1/n0)/2 = (n0 + n1)/2n0\n",
    "# T + R = 1\n",
    "# T**2 - R**2 = n1/n0\n",
    "\n",
    "%pylab\n",
    "\n",
    "import numpy as np\n",
    "from scipy import constants\n",
    "import math, cmath\n",
    "import time\n",
    "\n",
    "def GetRT(n0, n1):\n",
    "    R = (n0-n1)/(2.0*n0)\n",
    "    T = (n0+n1)/(2.0*n0)\n",
    "    return [R, T]\n",
    "\n",
    "def propWavesForward(w, n0, k, t):\n",
    "    omega = k*constants.c/n0\n",
    "    return w*cmath.exp(1j*omega*t)\n",
    "        \n",
    "def propWavesBackward(w, n0, k, t):\n",
    "    omega = k*constants.c/n0\n",
    "    return w*cmath.exp(-1j*omega*t)\n",
    "\n",
    "def switchMedium(w_F, w_B, n0, n1):\n",
    "    R, T = GetRT(n0, n1)\n",
    "    w_F_next = T*w_F\n",
    "    w_B_next = R*w_F\n",
    "\n",
    "    w_F_next += R*w_B\n",
    "    w_B_next += T*w_B\n",
    "    return [w_F_next, w_B_next]\n",
    "\n",
    "def plotField(w_F, w_B, k, n, t_st, dt):\n",
    "    omega = k*constants.c/n\n",
    "    t = np.linspace(0.0, dt, n_t, endpoint=True)\n",
    "    w_tot = w_F*np.exp(1j*omega*t) + w_B*np.exp(-1j*omega*t)\n",
    "    w_tot_prop = None\n",
    "    if abs(w_F)<abs(w_B):\n",
    "        w_tot_prop = (w_B - conjugate(w_F))*np.exp(-1j*omega*t) #+ 2.0*abs(w_F)*np.cos(omega*t + angle(w_F))\n",
    "    else:\n",
    "        w_tot_prop = (w_F - conjugate(w_B))*np.exp(1j*omega*t) #+ 2.0*abs(w_B)*np.cos(omega*t + angle(conjugate(w_B)))\n",
    "    \n",
    "    #plot(t_st + t, np.real(w_tot), 'r')\n",
    "    plot(t_st + t, np.real(w_tot_prop), 'r')\n",
    "    draw()\n",
    "    time.sleep(0.1)\n",
    "    \n",
    "\n",
    "w_F = 1.0\n",
    "w_B = 0.0\n",
    "\n",
    "N = 60\n",
    "f = 1.0*constants.giga\n",
    "omega = 2.0*math.pi*f\n",
    "k = omega/constants.c\n",
    "n0, n1 = 1.5, 1.9\n",
    "dt = 0.5*constants.nano\n",
    "\n",
    "n_t = 50\n",
    "\n",
    "for i in range(N):\n",
    "    #clf()\n",
    "    t_st = 2.0*i*dt\n",
    "\n",
    "    w_F, w_B = switchMedium(w_F, w_B, n0, n1)\n",
    "    \n",
    "    plotField(w_F, w_B, k, n1, t_st, dt)\n",
    "\n",
    "    w_F = propWavesForward(w_F, n1, k, dt)\n",
    "    w_B = propWavesBackward(w_B, n1, k, dt)\n",
    "    #print(w_F, w_B)\n",
    "\n",
    "    w_F, w_B = switchMedium(w_F, w_B, n1, n0)\n",
    "    \n",
    "    plotField(w_F, w_B, k, n0, t_st+dt, dt)\n",
    "    \n",
    "    w_F = propWavesForward(w_F, n0, k, dt)\n",
    "    w_B = propWavesBackward(w_B, n0, k, dt)\n",
    "    #print(w_F, w_B)\n"
   ]
  },
  {
   "cell_type": "code",
   "execution_count": null,
   "metadata": {
    "collapsed": false
   },
   "outputs": [],
   "source": []
  }
 ],
 "metadata": {
  "kernelspec": {
   "display_name": "Python 3",
   "language": "python",
   "name": "python3"
  },
  "language_info": {
   "codemirror_mode": {
    "name": "ipython",
    "version": 3
   },
   "file_extension": ".py",
   "mimetype": "text/x-python",
   "name": "python",
   "nbconvert_exporter": "python",
   "pygments_lexer": "ipython3",
   "version": "3.5.2"
  }
 },
 "nbformat": 4,
 "nbformat_minor": 0
}
