{
 "cells": [
  {
   "cell_type": "markdown",
   "metadata": {},
   "source": [
    "### 1D test"
   ]
  },
  {
   "cell_type": "code",
   "execution_count": 12,
   "metadata": {
    "collapsed": false
   },
   "outputs": [
    {
     "name": "stdout",
     "output_type": "stream",
     "text": [
      "Populating the interactive namespace from numpy and matplotlib\n"
     ]
    }
   ],
   "source": [
    "\"\"\" simple 1D domain\n",
    "    source J at the center with sinusoidal variation\n",
    "    domain: z = z0...z1\n",
    "    PEC boundaries\n",
    "    Yee staggered grid\n",
    "\"\"\"\n",
    "%pylab wx\n",
    "\n",
    "import numpy as np\n",
    "from matplotlib import pyplot as plt\n",
    "\n",
    "z0, z1 = -10.0, 10.0\n",
    "c = 1.0\n",
    "eps_0 = 1.0\n",
    "mu_0 = 1.0\n",
    "\n",
    "dz = 0.1\n",
    "S = 2.1 #stability factor\n",
    "dt = S*dz\n",
    "Nz = int((z1-z0)/dz)\n",
    "dz = (z1-z0)/Nz\n",
    "\n",
    "z = np.linspace(z0, z1, Nz, endpoint=True)\n",
    "\n",
    "Et = np.zeros(Nz)\n",
    "Etm1 = np.zeros(Nz)\n",
    "\n",
    "Ht = np.zeros(Nz-1)\n",
    "Htm1 = np.zeros(Nz-1)\n",
    "\n",
    "Jt = np.zeros(Nz)\n",
    "Jtm1 = np.zeros(Nz)\n",
    "\n",
    "Je_tot = np.zeros(Nz)\n",
    "Jm_tot = np.zeros(Nz-1)\n",
    "\n",
    "\n",
    "n_t = 100\n",
    "nz_j = int(Nz/2)\n",
    "for i in range(n_t):\n",
    "    t = i*dt\n",
    "    Jt[nz_j] = np.sin(2.0*np.pi*t)/dz\n",
    "    \n",
    "    Je_tot = Jt + eps_0*(Et - Etm1)/dt - Je_tot\n",
    "    \n",
    "    Htm1 = np.copy(Ht)\n",
    "    #Ht = 0*Ht\n",
    "    Ht -= Je_tot[1:Nz]*dz/2\n",
    "    Ht += Je_tot[0:Nz-1]*dz/2\n",
    "    \n",
    "    Jm_tot = -mu_0*(Ht - Htm1)/dt - Jm_tot\n",
    "\n",
    "    Etm1 = np.copy(Et)\n",
    "    #Et = 0*Et\n",
    "    Et[1:] += Jm_tot*dz/2\n",
    "    Et[:-1] -= Jm_tot*dz/2\n",
    "    \n",
    "    Et[0] = 0.0\n",
    "    Et[-1] = 0.0\n",
    "    \n",
    "    plt.clf()\n",
    "    plt.plot(z, Et)\n",
    "    #plt.plot(z[:-1]+dz/2, Ht, 'r')\n",
    "    #plt.xlim(-1, 1)\n",
    "    plt.show()\n",
    "    \n",
    "    \n",
    "    \n"
   ]
  },
  {
   "cell_type": "code",
   "execution_count": null,
   "metadata": {
    "collapsed": true
   },
   "outputs": [],
   "source": []
  }
 ],
 "metadata": {
  "kernelspec": {
   "display_name": "Python 3",
   "language": "python",
   "name": "python3"
  },
  "language_info": {
   "codemirror_mode": {
    "name": "ipython",
    "version": 3
   },
   "file_extension": ".py",
   "mimetype": "text/x-python",
   "name": "python",
   "nbconvert_exporter": "python",
   "pygments_lexer": "ipython3",
   "version": "3.5.2"
  }
 },
 "nbformat": 4,
 "nbformat_minor": 1
}
