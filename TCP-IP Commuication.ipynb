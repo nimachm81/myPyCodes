{
 "metadata": {
  "name": ""
 },
 "nbformat": 3,
 "nbformat_minor": 0,
 "worksheets": [
  {
   "cells": [
    {
     "cell_type": "code",
     "collapsed": false,
     "input": [
      "import socket\n",
      "\n",
      "s = socket.socket(socket.AF_INET, socket.SOCK_DGRAM)\n",
      "s.connect(('8.8.8.8', 0))  # connecting to a UDP address doesn't send packets\n",
      "local_ip_address = s.getsockname()[0]\n",
      "\n",
      "print(local_ip_address)"
     ],
     "language": "python",
     "metadata": {},
     "outputs": [
      {
       "output_type": "stream",
       "stream": "stdout",
       "text": [
        "192.168.1.5\n"
       ]
      }
     ],
     "prompt_number": 19
    },
    {
     "cell_type": "code",
     "collapsed": false,
     "input": [
      "import socket\n",
      "\n",
      "info = socket.getaddrinfo(\"localhost\", 80, proto=socket.IPPROTO_TCP)\n",
      "print('info: ', info)\n",
      "\n",
      "print(socket.getfqdn())\n",
      "\n",
      "socket.gethostbyname(socket.getfqdn())"
     ],
     "language": "python",
     "metadata": {},
     "outputs": [
      {
       "output_type": "stream",
       "stream": "stdout",
       "text": [
        "info:  [(<AddressFamily.AF_INET: 2>, <SocketKind.SOCK_STREAM: 1>, 6, '', ('127.0.0.1', 80))]\n",
        "nima-desktop\n"
       ]
      },
      {
       "metadata": {},
       "output_type": "pyout",
       "prompt_number": 17,
       "text": [
        "'127.0.1.1'"
       ]
      }
     ],
     "prompt_number": 17
    },
    {
     "cell_type": "heading",
     "level": 3,
     "metadata": {},
     "source": [
      "client side"
     ]
    },
    {
     "cell_type": "code",
     "collapsed": false,
     "input": [
      "import sys\n",
      "import socket\n",
      "from IPython.display import display\n",
      "import time\n",
      "\n",
      "import threading\n",
      "#lock = threading.Lock()\n",
      "\n",
      "TCP_IP = local_ip_address#'localhost'\n",
      "TCP_PORT = 5005\n",
      "BUFFER_SIZE = 1024\n",
      "\n",
      "MESSAGE = input(\"C-Message: \").encode('utf-8')\n",
      "\n",
      "def clientthread():\n",
      "    s = socket.socket(socket.AF_INET, socket.SOCK_STREAM)\n",
      "    s.connect((TCP_IP, TCP_PORT))\n",
      "    \n",
      "    for i in range(3):\n",
      "        s.send(MESSAGE)\n",
      "        data = s.recv(BUFFER_SIZE)\n",
      "        display(\"received data:\" + data.decode('utf-8'))\n",
      "        time.sleep(1.0)\n",
      "    \n",
      "    s.close()\n",
      "    \n",
      "    #sys.stdout.flush()\n",
      "    \n",
      "#import _thread\n",
      "#_thread.start_new_thread(clientthread, ())\n",
      "\n",
      "\n",
      "cl_thread = threading.Thread(target=clientthread, args=())\n",
      "cl_thread.setDaemon(True)\n",
      "cl_thread.start()\n",
      "\n"
     ],
     "language": "python",
     "metadata": {},
     "outputs": [
      {
       "name": "stdout",
       "output_type": "stream",
       "stream": "stdout",
       "text": [
        "C-Message: hi\n"
       ]
      },
      {
       "metadata": {},
       "output_type": "display_data",
       "text": [
        "\"Connection address:('192.168.1.5', 58195)\""
       ]
      },
      {
       "metadata": {},
       "output_type": "display_data",
       "text": [
        "'received data:hi'"
       ]
      },
      {
       "metadata": {},
       "output_type": "display_data",
       "text": [
        "'received data:hi'"
       ]
      },
      {
       "metadata": {},
       "output_type": "display_data",
       "text": [
        "'received data:hi echo !'"
       ]
      },
      {
       "metadata": {},
       "output_type": "display_data",
       "text": [
        "'received data:hi'"
       ]
      },
      {
       "metadata": {},
       "output_type": "display_data",
       "text": [
        "'received data:hi echo !'"
       ]
      }
     ],
     "prompt_number": 21
    },
    {
     "cell_type": "heading",
     "level": 3,
     "metadata": {},
     "source": [
      "server side"
     ]
    },
    {
     "cell_type": "code",
     "collapsed": false,
     "input": [
      "import sys\n",
      "import socket\n",
      "from IPython.display import display\n",
      "\n",
      "\n",
      "TCP_IP = local_ip_address#'localhost'\n",
      "TCP_PORT = 5005\n",
      "BUFFER_SIZE = 1024  # Normally 1024, but we want fast response\n",
      "\n",
      "def serverThread():\n",
      "    s = socket.socket(socket.AF_INET, socket.SOCK_STREAM)\n",
      "    s.bind((TCP_IP, TCP_PORT))\n",
      "    s.listen(1)\n",
      "    \n",
      "    conn, addr = s.accept()\n",
      "    display('Connection address:' + str(addr))\n",
      "    while True:\n",
      "        data = conn.recv(BUFFER_SIZE)\n",
      "        if not data: break\n",
      "        display(\"received data:\"+ data.decode('utf-8'))\n",
      "        #sys.stdout.flush()\n",
      "        conn.send(data + b' echo !')  # echo\n",
      "    conn.close()\n",
      "\n",
      "#import _thread\n",
      "#_thread.start_new_thread(serverThread, ())\n",
      "\n",
      "import threading\n",
      "\n",
      "sv_thread = threading.Thread(target=serverThread, args=())\n",
      "sv_thread.setDaemon(True)\n",
      "sv_thread.start()\n",
      "\n",
      "display()"
     ],
     "language": "python",
     "metadata": {},
     "outputs": [
      {
       "metadata": {},
       "output_type": "display_data",
       "text": [
        "\"Connection address:('192.168.1.7', 59364)\""
       ]
      },
      {
       "metadata": {},
       "output_type": "display_data",
       "text": [
        "'received data:hi'"
       ]
      },
      {
       "metadata": {},
       "output_type": "display_data",
       "text": [
        "'received data:hi'"
       ]
      },
      {
       "metadata": {},
       "output_type": "display_data",
       "text": [
        "'received data:hi'"
       ]
      }
     ],
     "prompt_number": 22
    },
    {
     "cell_type": "markdown",
     "metadata": {},
     "source": [
      "send http request to google via tcp"
     ]
    },
    {
     "cell_type": "code",
     "collapsed": false,
     "input": [
      "import socket\n",
      "HOST = 'google.com'    # The remote host\n",
      "PORT = 80              # The same port as used by the server\n",
      "s = socket.socket(socket.AF_INET, socket.SOCK_STREAM)\n",
      "s.connect((HOST, PORT))\n",
      "s.send(b'GET / HTTP/1.1\\r\\nHost: google.com\\r\\n\\r\\n')\n",
      "data = s.recv(1024)\n",
      "s.close()\n",
      "print('Received :\\n', data)"
     ],
     "language": "python",
     "metadata": {},
     "outputs": [
      {
       "output_type": "stream",
       "stream": "stdout",
       "text": [
        "Received :\n",
        " b'HTTP/1.1 302 Found\\r\\nCache-Control: private\\r\\nContent-Type: text/html; charset=UTF-8\\r\\nLocation: http://www.google.ca/?gfe_rd=cr&ei=pkQZVrXaAeGM8Qf8hJbABA\\r\\nContent-Length: 258\\r\\nDate: Sat, 10 Oct 2015 17:02:30 GMT\\r\\nServer: GFE/2.0\\r\\n\\r\\n<HTML><HEAD><meta http-equiv=\"content-type\" content=\"text/html;charset=utf-8\">\\n<TITLE>302 Moved</TITLE></HEAD><BODY>\\n<H1>302 Moved</H1>\\nThe document has moved\\n<A HREF=\"http://www.google.ca/?gfe_rd=cr&amp;ei=pkQZVrXaAeGM8Qf8hJbABA\">here</A>.\\r\\n</BODY></HTML>\\r\\n'\n"
       ]
      }
     ],
     "prompt_number": 1
    },
    {
     "cell_type": "code",
     "collapsed": false,
     "input": [],
     "language": "python",
     "metadata": {},
     "outputs": [],
     "prompt_number": 21
    },
    {
     "cell_type": "code",
     "collapsed": false,
     "input": [],
     "language": "python",
     "metadata": {},
     "outputs": [],
     "prompt_number": 22
    },
    {
     "cell_type": "code",
     "collapsed": false,
     "input": [],
     "language": "python",
     "metadata": {},
     "outputs": []
    }
   ],
   "metadata": {}
  }
 ]
}