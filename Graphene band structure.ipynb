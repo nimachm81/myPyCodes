{
 "cells": [
  {
   "cell_type": "code",
   "execution_count": 60,
   "metadata": {
    "collapsed": false
   },
   "outputs": [],
   "source": [
    "from scipy import *\n",
    "def graphene_energy_f(k_x, k_y, a):\n",
    "    return 2.0*cos(sqrt(3.0)*k_y*a) + 4.0*cos(sqrt(3.0)/2*k_y*a)*cos(3.0/2*k_x*a)\n",
    "def graphene_energy_band_plus(k_x, k_y, a, gamma, gamma_p):\n",
    "    return gamma*sqrt(3+graphene_energy_f(k_x, k_y, a)) + gamma_p*graphene_energy_f(k_x, k_y, a)\n",
    "def graphene_energy_band_minus(k_x, k_y, a, gamma, gamma_p):\n",
    "    return -gamma*sqrt(3+graphene_energy_f(k_x, k_y, a)) + gamma_p*graphene_energy_f(k_x, k_y, a)\n",
    "\n",
    "a_cc = 1 #1.42\n",
    "gamma = 2.8\n",
    "gamma_p = 0.2\n",
    "theta = r_[0:2*pi:200j]\n",
    "radius = r_[0:1*pi/a_cc:200j]\n",
    "k_x = array([r*cos(theta) for r in radius])\n",
    "k_y = array([r*sin(theta) for r in radius])\n",
    "e_z_p = graphene_energy_band_plus(k_x, k_y, a_cc, gamma, gamma_p)\n",
    "e_z_m = graphene_energy_band_minus(k_x, k_y, a_cc, gamma, gamma_p)\n",
    "\n",
    "import pylab\n",
    "from mpl_toolkits.mplot3d import Axes3D\n",
    "from matplotlib import cm, pyplot\n",
    "fig = pylab.figure()\n",
    "ax = Axes3D(fig)\n",
    "ax.plot_surface(k_x, k_y, e_z_p, rstride=1, cstride=1, cmap=cm.jet, linewidth=0, antialiased=False)\n",
    "ax.plot_surface(k_x, k_y, e_z_m, rstride=1, cstride=1, cmap=cm.jet_r, linewidth=0, antialiased=False)\n",
    "\n",
    "from matplotlib import rc\n",
    "rc('font',**{'family':'sans-serif','sans-serif':['Helvetica']})\n",
    "## for Palatino and other serif fonts use:\n",
    "#rc('font',**{'family':'serif','serif':['Palatino']})\n",
    "rc('text', usetex=True)\n",
    "\n",
    "ax.set_xlabel(r\"$k_x$\", fontsize=20)\n",
    "ax.set_ylabel(r\"$k_y$\", fontsize=20)\n",
    "ax.set_zlabel(r\"$\\epsilon(k_x,k_y)$ \\\\ . \\\\ .\", fontsize=20)\n",
    "#ax.set_title(r\"$\\epsilon(k_x,k_y)$\", fontsize=20)\n",
    "\n",
    "ax.set_xlim(-pi/a_cc, pi/a_cc)\n",
    "ax.set_ylim(-pi/a_cc, pi/a_cc)\n",
    "ax.set_zlim(-5, 10)\n",
    "ax.grid(True);\n",
    "\n",
    "#ax.zaxis.set_major_locator(LinearLocator(10))\n",
    "#ax.zaxis.set_major_formatter(FormatStrFormatter('%.02f'))\n",
    "\n",
    "#fig.colorbar(surf, shrink=0.5, aspect=5)\n",
    "\n",
    "ax.grid(False)\n",
    "for a in (ax.w_xaxis, ax.w_yaxis, ax.w_zaxis):\n",
    "    #for t in a.get_ticklines()+a.get_ticklabels():\n",
    "    #    t.set_visible(False)\n",
    "    #a.line.set_visible(False)\n",
    "    a.pane.set_visible(False)\n",
    "    \n",
    "\n",
    "import numpy\n",
    "x = linspace(-pi/a_cc, pi/a_cc, 200)\n",
    "y = linspace(-pi/a_cc, pi/a_cc, 200)\n",
    "[k_x, k_y] = meshgrid(x, y)\n",
    "e_z_p = graphene_energy_band_plus(k_x, k_y, a_cc, gamma, gamma_p)\n",
    "\n",
    "fig2 = pyplot.figure()\n",
    "#pyplot.pcolor(e_z_p)\n",
    "pyplot.pcolor(k_x, k_y, e_z_p, edgecolor='none')\n",
    "#pyplot.contour(k_x, k_y, e_z_p)\n",
    "pyplot.xlabel(r'$k_x$', fontsize=20)\n",
    "pyplot.ylabel(r'$k_y$', fontsize=20)\n",
    "pyplot.axis([-3, 3, -3, 3])\n",
    "    \n",
    "#pyplot.show()\n",
    "pylab.show()"
   ]
  },
  {
   "cell_type": "code",
   "execution_count": 2,
   "metadata": {
    "collapsed": false
   },
   "outputs": [],
   "source": []
  },
  {
   "cell_type": "code",
   "execution_count": null,
   "metadata": {
    "collapsed": false
   },
   "outputs": [],
   "source": []
  }
 ],
 "metadata": {
  "kernelspec": {
   "display_name": "Python 3",
   "language": "python",
   "name": "python3"
  },
  "language_info": {
   "codemirror_mode": {
    "name": "ipython",
    "version": 3
   },
   "file_extension": ".py",
   "mimetype": "text/x-python",
   "name": "python",
   "nbconvert_exporter": "python",
   "pygments_lexer": "ipython3",
   "version": "3.4.3"
  }
 },
 "nbformat": 4,
 "nbformat_minor": 0
}
