{
 "cells": [
  {
   "cell_type": "markdown",
   "metadata": {},
   "source": [
    "# Circulators using non-reciprocal phasers"
   ]
  },
  {
   "cell_type": "markdown",
   "metadata": {},
   "source": [
    "## A. Symmetrical"
   ]
  },
  {
   "cell_type": "code",
   "execution_count": 3,
   "metadata": {
    "collapsed": false
   },
   "outputs": [
    {
     "data": {
      "text/latex": [
       "$$A = \\left[\\begin{matrix}1 & -2\\\\2 & -1\\end{matrix}\\right]$$"
      ],
      "text/plain": [
       "<IPython.core.display.Math at 0x7ffcf2e22510>"
      ]
     },
     "metadata": {},
     "output_type": "display_data"
    },
    {
     "data": {
      "text/latex": [
       "$$b=\\left[\\begin{matrix}2 \\pi m\\\\\\pi \\left(2 n + 1\\right)\\end{matrix}\\right]$$"
      ],
      "text/plain": [
       "<IPython.core.display.Math at 0x7ffcf2e22510>"
      ]
     },
     "metadata": {},
     "output_type": "display_data"
    },
    {
     "data": {
      "text/latex": [
       "$$x = \\left[\\begin{matrix}- \\frac{2 \\pi}{3} m + \\frac{2 \\pi}{3} \\left(2 n + 1\\right)\\\\- \\frac{4 \\pi}{3} m + \\frac{\\pi}{3} \\left(2 n + 1\\right)\\end{matrix}\\right]$$"
      ],
      "text/plain": [
       "<IPython.core.display.Math at 0x7ffd038cd190>"
      ]
     },
     "metadata": {},
     "output_type": "display_data"
    },
    {
     "data": {
      "text/latex": [
       "$$x_0 + x_1 = \\pi \\left(- 2 m + 2 n + 1\\right)$$"
      ],
      "text/plain": [
       "<IPython.core.display.Math at 0x7ffd038cd190>"
      ]
     },
     "metadata": {},
     "output_type": "display_data"
    },
    {
     "name": "stdout",
     "output_type": "stream",
     "text": [
      "\\pi \\left(- 2 m + 2 n + 1\\right)\n",
      "m=: -1  n=: -1\n"
     ]
    },
    {
     "data": {
      "text/latex": [
       "$$\\left[\\begin{matrix}0\\\\\\pi\\end{matrix}\\right]$$"
      ],
      "text/plain": [
       "<IPython.core.display.Math at 0x7ffcf2e22b10>"
      ]
     },
     "metadata": {},
     "output_type": "display_data"
    },
    {
     "name": "stdout",
     "output_type": "stream",
     "text": [
      "m=: -1  n=: 0\n"
     ]
    },
    {
     "data": {
      "text/latex": [
       "$$\\left[\\begin{matrix}\\frac{4 \\pi}{3}\\\\\\frac{5 \\pi}{3}\\end{matrix}\\right]$$"
      ],
      "text/plain": [
       "<IPython.core.display.Math at 0x7ffcf2e22b10>"
      ]
     },
     "metadata": {},
     "output_type": "display_data"
    },
    {
     "name": "stdout",
     "output_type": "stream",
     "text": [
      "m=: 0  n=: 0\n"
     ]
    },
    {
     "data": {
      "text/latex": [
       "$$\\left[\\begin{matrix}\\frac{2 \\pi}{3}\\\\\\frac{\\pi}{3}\\end{matrix}\\right]$$"
      ],
      "text/plain": [
       "<IPython.core.display.Math at 0x7ffcf2e0a0d0>"
      ]
     },
     "metadata": {},
     "output_type": "display_data"
    }
   ],
   "source": [
    "from sympy import *\n",
    "from IPython.display import display, Math, Latex\n",
    "\n",
    "init_printing()\n",
    "\n",
    "\n",
    "m, n = symbols('m n')\n",
    "A = Matrix([[1, -2], [2, -1]])\n",
    "\n",
    "\n",
    "display(Math('A = ' + latex(A)))\n",
    "b = Matrix([2*m*pi, (2*n+1)*pi])\n",
    "\n",
    "\n",
    "display(Math(r'b=' + latex(b)))\n",
    "\n",
    "x = A.inv()*b\n",
    "display(Math('x = ' + latex(x)))\n",
    "\n",
    "x_01 = simplify(x[0] + x[1])\n",
    "display(Math('x_0 + x_1 = ' + latex(x_01)))\n",
    "print latex(x_01)\n",
    "\n",
    "for m1 in range(-3,3):\n",
    "    for n1 in range(-3,3):\n",
    "        if( 0<=x.subs([(n,n1), (m,m1)])[0]<2*pi and 0<=x.subs([(n,n1), (m,m1)])[1]<2*pi):\n",
    "            print 'm=:', m1, ' n=:', n1\n",
    "            display(Math(latex(x.subs([(n,n1), (m,m1)]))))\n",
    "    \n"
   ]
  },
  {
   "cell_type": "markdown",
   "metadata": {},
   "source": [
    "## B. Asymmetrical"
   ]
  },
  {
   "cell_type": "code",
   "execution_count": 8,
   "metadata": {
    "collapsed": false
   },
   "outputs": [
    {
     "data": {
      "text/latex": [
       "$$A = \\left[\\begin{matrix}-1 & 0 & -1 & 0 & 0 & 1\\\\0 & 1 & -1 & 0 & 0 & 1\\\\0 & 1 & -1 & 0 & -1 & 0\\\\0 & 1 & 0 & 1 & -1 & 0\\\\-1 & 0 & 0 & 1 & -1 & 0\\\\-1 & 0 & 0 & 1 & 0 & 1\\end{matrix}\\right]$$"
      ],
      "text/plain": [
       "<IPython.core.display.Math object>"
      ]
     },
     "metadata": {},
     "output_type": "display_data"
    },
    {
     "name": "stdout",
     "output_type": "stream",
     "text": [
      "A: \n",
      " \\left[\\begin{matrix}-1 & 0 & -1 & 0 & 0 & 1\\\\0 & 1 & -1 & 0 & 0 & 1\\\\0 & 1 & -1 & 0 & -1 & 0\\\\0 & 1 & 0 & 1 & -1 & 0\\\\-1 & 0 & 0 & 1 & -1 & 0\\\\-1 & 0 & 0 & 1 & 0 & 1\\end{matrix}\\right]\n"
     ]
    },
    {
     "data": {
      "text/latex": [
       "$$b = \\left[\\begin{matrix}2 \\pi m\\\\\\pi \\left(2 n + 1\\right)\\\\2 \\pi p\\\\\\pi \\left(2 q + 1\\right)\\\\2 \\pi r\\\\\\pi \\left(2 s + 1\\right)\\end{matrix}\\right]$$"
      ],
      "text/plain": [
       "<IPython.core.display.Math object>"
      ]
     },
     "metadata": {},
     "output_type": "display_data"
    },
    {
     "name": "stdout",
     "output_type": "stream",
     "text": [
      "b: \n",
      " \\left[\\begin{matrix}2 \\pi m\\\\\\pi \\left(2 n + 1\\right)\\\\2 \\pi p\\\\\\pi \\left(2 q + 1\\right)\\\\2 \\pi r\\\\\\pi \\left(2 s + 1\\right)\\end{matrix}\\right]\n"
     ]
    },
    {
     "data": {
      "text/latex": [
       "$$\\text{conditions} = \\left [ 2 \\pi \\left(- m + p - q + s\\right), \\quad 2 \\pi \\left(- m + n - q + r\\right)\\right ]$$"
      ],
      "text/plain": [
       "<IPython.core.display.Math object>"
      ]
     },
     "metadata": {},
     "output_type": "display_data"
    },
    {
     "name": "stdout",
     "output_type": "stream",
     "text": [
      "cond: \n",
      " \\left [ 2 \\pi \\left(- m + p - q + s\\right), \\quad 2 \\pi \\left(- m + n - q + r\\right)\\right ]\n"
     ]
    },
    {
     "data": {
      "text/latex": [
       "$$A2 = \\left[\\begin{matrix}1 & 0 & 0 & -1 & 0 & -1\\\\0 & -1 & 0 & -1 & 0 & -1\\\\0 & 0 & 1 & 1 & 0 & 0\\\\0 & 0 & 0 & 0 & 0 & 0\\\\0 & 0 & 0 & 0 & 1 & 1\\\\0 & 0 & 0 & 0 & 0 & 0\\end{matrix}\\right]$$"
      ],
      "text/plain": [
       "<IPython.core.display.Math object>"
      ]
     },
     "metadata": {},
     "output_type": "display_data"
    },
    {
     "name": "stdout",
     "output_type": "stream",
     "text": [
      "A2: \n",
      " \\left[\\begin{matrix}1 & 0 & 0 & -1 & 0 & -1\\\\0 & -1 & 0 & -1 & 0 & -1\\\\0 & 0 & 1 & 1 & 0 & 0\\\\0 & 0 & 0 & 0 & 0 & 0\\\\0 & 0 & 0 & 0 & 1 & 1\\\\0 & 0 & 0 & 0 & 0 & 0\\end{matrix}\\right]\n"
     ]
    },
    {
     "data": {
      "text/latex": [
       "$$b2 = \\left[\\begin{matrix}- \\pi \\left(2 s + 1\\right)\\\\2 \\pi m - \\pi \\left(2 n + 1\\right) - \\pi \\left(2 s + 1\\right)\\\\- 2 \\pi m + \\pi \\left(2 s + 1\\right)\\\\- 2 \\pi m + 2 \\pi p - \\pi \\left(2 q + 1\\right) + \\pi \\left(2 s + 1\\right)\\\\- 2 \\pi m + \\pi \\left(2 n + 1\\right) - \\pi \\left(2 q + 1\\right) + \\pi \\left(2 s + 1\\right)\\\\- 2 \\pi m + 2 \\pi r + \\pi \\left(2 n + 1\\right) - \\pi \\left(2 q + 1\\right)\\end{matrix}\\right]$$"
      ],
      "text/plain": [
       "<IPython.core.display.Math object>"
      ]
     },
     "metadata": {},
     "output_type": "display_data"
    },
    {
     "name": "stdout",
     "output_type": "stream",
     "text": [
      "b2: \n",
      " \\left[\\begin{matrix}- \\pi \\left(2 s + 1\\right)\\\\2 \\pi m - \\pi \\left(2 n + 1\\right) - \\pi \\left(2 s + 1\\right)\\\\- 2 \\pi m + \\pi \\left(2 s + 1\\right)\\\\- 2 \\pi m + 2 \\pi p - \\pi \\left(2 q + 1\\right) + \\pi \\left(2 s + 1\\right)\\\\- 2 \\pi m + \\pi \\left(2 n + 1\\right) - \\pi \\left(2 q + 1\\right) + \\pi \\left(2 s + 1\\right)\\\\- 2 \\pi m + 2 \\pi r + \\pi \\left(2 n + 1\\right) - \\pi \\left(2 q + 1\\right)\\end{matrix}\\right]\n",
      "r_sub:  m - n + q\n",
      "s_sub:  m - p + q\n"
     ]
    },
    {
     "data": {
      "text/latex": [
       "$$x = \\left[\\begin{matrix}z_{0} + z_{1} - \\pi \\left(2 m - 2 p + 2 q + 1\\right)\\\\2 \\pi n - 2 \\pi p + 2 \\pi q - z_{0} - z_{1} + 2 \\pi\\\\- 2 \\pi p + 2 \\pi q - z_{0} + \\pi\\\\z_{0}\\\\2 \\pi n - 2 \\pi p - z_{1} + \\pi\\\\z_{1}\\end{matrix}\\right]$$"
      ],
      "text/plain": [
       "<IPython.core.display.Math object>"
      ]
     },
     "metadata": {},
     "output_type": "display_data"
    },
    {
     "name": "stdout",
     "output_type": "stream",
     "text": [
      "x: \n",
      " \\left[\\begin{matrix}z_{0} + z_{1} - \\pi \\left(2 m - 2 p + 2 q + 1\\right)\\\\2 \\pi n - 2 \\pi p + 2 \\pi q - z_{0} - z_{1} + 2 \\pi\\\\- 2 \\pi p + 2 \\pi q - z_{0} + \\pi\\\\z_{0}\\\\2 \\pi n - 2 \\pi p - z_{1} + \\pi\\\\z_{1}\\end{matrix}\\right]\n"
     ]
    },
    {
     "data": {
      "text/latex": [
       "$$Ax-b = \\left[\\begin{matrix}0\\\\0\\\\0\\\\0\\\\0\\\\0\\end{matrix}\\right]$$"
      ],
      "text/plain": [
       "<IPython.core.display.Math object>"
      ]
     },
     "metadata": {},
     "output_type": "display_data"
    },
    {
     "data": {
      "text/latex": [
       "$$x = \\left[\\begin{matrix}z_{0} + z_{1} - \\pi\\\\- z_{0} - z_{1} + 2 \\pi\\\\- z_{0} + \\pi\\\\z_{0}\\\\- z_{1} + \\pi\\\\z_{1}\\end{matrix}\\right]$$"
      ],
      "text/plain": [
       "<IPython.core.display.Math object>"
      ]
     },
     "metadata": {},
     "output_type": "display_data"
    },
    {
     "name": "stdout",
     "output_type": "stream",
     "text": [
      "x_simp: \n",
      " \\left[\\begin{matrix}z_{0} + z_{1} - \\pi\\\\- z_{0} - z_{1} + 2 \\pi\\\\- z_{0} + \\pi\\\\z_{0}\\\\- z_{1} + \\pi\\\\z_{1}\\end{matrix}\\right]\n"
     ]
    },
    {
     "data": {
      "text/latex": [
       "$$\\left[\\begin{matrix}0\\\\\\pi\\\\\\frac{\\pi}{2}\\\\\\frac{\\pi}{2}\\\\\\frac{\\pi}{2}\\\\\\frac{\\pi}{2}\\end{matrix}\\right]$$"
      ],
      "text/plain": [
       "<IPython.core.display.Math object>"
      ]
     },
     "metadata": {},
     "output_type": "display_data"
    }
   ],
   "source": [
    "from sympy import *\n",
    "from Electromagnetics.Misc import *\n",
    "from IPython.display import display, Math, Latex\n",
    "\n",
    "#x, y, z, u, v, w = symbols('x y z u v w')\n",
    "init_printing()\n",
    "\n",
    "\n",
    "m, n, p, q, r, s = symbols('m n p q r s')\n",
    "b = Matrix([2*m*pi, (2*n+1)*pi, 2*p*pi, (2*q+1)*pi, 2*r*pi, (2*s+1)*pi])\n",
    "\"\"\"\n",
    "# alpha_1 ... alpha_6 convention\n",
    "A = Matrix([[ 1, 0, 0,-1, 0,-1], \n",
    "            [ 1, 0, 1, 0, 0,-1],\n",
    "            [ 0,-1, 1, 0, 0,-1],\n",
    "            [ 0,-1, 1, 0, 1, 0],\n",
    "            [ 0,-1, 0,-1, 1, 0],\n",
    "            [ 1, 0, 0,-1, 1, 0]]) \n",
    "\"\"\"\n",
    "# alpha_1^+- ... alpha_3^+- convention\n",
    "A = Matrix([[-1, 0,-1, 0, 0, 1], \n",
    "            [ 0, 1,-1, 0, 0, 1],\n",
    "            [ 0, 1,-1, 0,-1, 0],\n",
    "            [ 0, 1, 0, 1,-1, 0],\n",
    "            [-1, 0, 0, 1,-1, 0],\n",
    "            [-1, 0, 0, 1, 0, 1]])\n",
    "\n",
    "\n",
    "A2, b2, x, cond = solve_linear_system_nontrivial(A, b, 'z')\n",
    "cond = [cond[i].simplify() for i in range(len(cond))]\n",
    "\n",
    "display(Math('A = '+latex(A)))\n",
    "print('A: \\n', latex(A))\n",
    "\n",
    "display(Math('b = '+latex(b)))\n",
    "print('b: \\n', latex(b))\n",
    "\n",
    "display(Math('\\\\text{conditions} = '+latex(simplify(cond))))\n",
    "print('cond: \\n', latex(simplify(cond)))\n",
    "\n",
    "\n",
    "display(Math('A2 = '+latex(A2)))\n",
    "print('A2: \\n', latex(A2))\n",
    "\n",
    "display(Math('b2 = '+latex(b2)))\n",
    "print('b2: \\n', latex(b2))\n",
    "\n",
    "\n",
    "r_sub = solve(cond[1], r)[0]\n",
    "print('r_sub: ', latex(r_sub))\n",
    "s_sub = solve(cond[0], s)[0]\n",
    "print('s_sub: ', latex(s_sub))\n",
    "\n",
    "x = x.subs([(r, r_sub), (s, s_sub)])\n",
    "x.simplify()\n",
    "display(Math('x = '+latex(x)))\n",
    "print('x: \\n', latex(x))\n",
    "\n",
    "Ax_b=simplify((A*x-b).subs([(r, r_sub), (s, s_sub)]))\n",
    "display(Math('Ax-b = '+latex(Ax_b)))\n",
    "\n",
    "x_simp = x.subs([(m,0), (n,0), (p,0), (q,0)])\n",
    "display(Math('x = '+latex(x_simp)))\n",
    "print('x_simp: \\n', latex(x_simp))\n",
    "\n",
    "display(Math(latex(x_simp.subs([(Symbol('z0'), pi/2), (Symbol('z1'), pi/2)]))))"
   ]
  },
  {
   "cell_type": "markdown",
   "metadata": {},
   "source": [
    "## 4 ports symmetrical"
   ]
  },
  {
   "cell_type": "code",
   "execution_count": 2,
   "metadata": {
    "collapsed": false
   },
   "outputs": [
    {
     "data": {
      "text/latex": [
       "$$A = \\left[\\begin{matrix}1 & -3\\\\2 & -2\\\\3 & -1\\end{matrix}\\right]$$"
      ],
      "text/plain": [
       "<IPython.core.display.Math at 0x7fc21bee6a50>"
      ]
     },
     "metadata": {},
     "output_type": "display_data"
    },
    {
     "data": {
      "text/latex": [
       "$$b=\\left[\\begin{matrix}2 \\pi m\\\\\\pi \\left(2 n + 1\\right)\\\\\\pi \\left(2 p + 1\\right)\\end{matrix}\\right]$$"
      ],
      "text/plain": [
       "<IPython.core.display.Math at 0x7fc21bf04d50>"
      ]
     },
     "metadata": {},
     "output_type": "display_data"
    },
    {
     "data": {
      "text/latex": [
       "$$A_2 = \\left[\\begin{matrix}4 & 0\\\\0 & -4\\\\0 & 0\\end{matrix}\\right]$$"
      ],
      "text/plain": [
       "<IPython.core.display.Math at 0x7fc23089cc50>"
      ]
     },
     "metadata": {},
     "output_type": "display_data"
    },
    {
     "data": {
      "text/latex": [
       "$$b_2=\\left[\\begin{matrix}- 4 \\pi m + 3 \\pi \\left(2 n + 1\\right)\\\\4 \\pi m - \\pi \\left(2 n + 1\\right)\\\\- 8 \\pi m + 8 \\pi \\left(2 n + 1\\right) - 4 \\pi \\left(2 p + 1\\right)\\end{matrix}\\right]$$"
      ],
      "text/plain": [
       "<IPython.core.display.Math at 0x7fc21bf04d50>"
      ]
     },
     "metadata": {},
     "output_type": "display_data"
    },
    {
     "data": {
      "text/latex": [
       "$$x = \\left[\\begin{matrix}- \\pi m + \\frac{3 \\pi}{4} \\left(2 n + 1\\right)\\\\- \\pi m + \\frac{\\pi}{4} \\left(2 n + 1\\right)\\\\0\\end{matrix}\\right]$$"
      ],
      "text/plain": [
       "<IPython.core.display.Math at 0x7fc23089cc50>"
      ]
     },
     "metadata": {},
     "output_type": "display_data"
    },
    {
     "data": {
      "text/latex": [
       "$$\\text{conditions} = \\begin{bmatrix}4 \\pi \\left(- 2 m + 4 n - 2 p + 1\\right)\\end{bmatrix}$$"
      ],
      "text/plain": [
       "<IPython.core.display.Math at 0x7fc21bf04d50>"
      ]
     },
     "metadata": {},
     "output_type": "display_data"
    },
    {
     "name": "stdout",
     "output_type": "stream",
     "text": [
      "NO SOLUTION\n"
     ]
    }
   ],
   "source": [
    "from sympy import *\n",
    "from Electromagnetics.Misc import *\n",
    "from IPython.display import display, Math, Latex\n",
    "\n",
    "init_printing()\n",
    "\n",
    "\n",
    "m, n, p = symbols('m n p')\n",
    "A = Matrix([[1, -3], \n",
    "            [2, -2],\n",
    "            [3, -1]])\n",
    "\n",
    "b = Matrix([2*m*pi, (2*n+1)*pi, (2*p+1)*pi])\n",
    "\n",
    "display(Math('A = ' + latex(A)))\n",
    "display(Math(r'b=' + latex(b)))\n",
    "\n",
    "A2, b2, x, cond = solve_linear_system_nontrivial(A, b, 'z')\n",
    "cond = [cond[i].simplify() for i in range(len(cond))]\n",
    "\n",
    "display(Math('A_2 = ' + latex(A2)))\n",
    "display(Math(r'b_2=' + latex(b2)))\n",
    "\n",
    "\n",
    "display(Math('x = ' + latex(x)))\n",
    "display(Math('\\\\text{conditions} = '+latex(simplify(cond))))\n",
    "\n",
    "print 'NO SOLUTION'"
   ]
  },
  {
   "cell_type": "markdown",
   "metadata": {},
   "source": [
    "## 4 port asymmetric"
   ]
  },
  {
   "cell_type": "code",
   "execution_count": 3,
   "metadata": {
    "collapsed": false
   },
   "outputs": [
    {
     "data": {
      "text/latex": [
       "$$A = \\left[\\begin{matrix}1 & 0 & 0 & -1 & 0 & -1 & 0 & -1\\\\1 & 0 & 1 & 0 & 0 & -1 & 0 & -1\\\\1 & 0 & 1 & 0 & 1 & 0 & 0 & -1\\\\0 & -1 & 1 & 0 & 0 & -1 & 0 & -1\\\\0 & -1 & 1 & 0 & 1 & 0 & 0 & -1\\\\0 & -1 & 1 & 0 & 1 & 0 & 1 & 0\\\\0 & -1 & 0 & -1 & 1 & 0 & 0 & -1\\\\0 & -1 & 0 & -1 & 1 & 0 & 1 & 0\\\\1 & 0 & 0 & -1 & 1 & 0 & 1 & 0\\\\0 & -1 & 0 & -1 & 0 & -1 & 1 & 0\\\\1 & 0 & 0 & 1 & 0 & -1 & 1 & 0\\\\1 & 0 & 1 & 0 & 0 & -1 & 1 & 0\\end{matrix}\\right]$$"
      ],
      "text/plain": [
       "<IPython.core.display.Math at 0x7fc21be37e90>"
      ]
     },
     "metadata": {},
     "output_type": "display_data"
    },
    {
     "data": {
      "text/latex": [
       "$$b = \\left[\\begin{matrix}2 \\pi m_{1}\\\\\\pi \\left(2 m_{2} + 1\\right)\\\\\\pi \\left(2 m_{3} + 1\\right)\\\\2 \\pi n_{1}\\\\\\pi \\left(2 n_{2} + 1\\right)\\\\\\pi \\left(2 n_{3} + 1\\right)\\\\2 \\pi p_{1}\\\\\\pi \\left(2 p_{2} + 1\\right)\\\\\\pi \\left(2 p_{3} + 1\\right)\\\\2 \\pi q_{1}\\\\\\pi \\left(2 q_{2} + 1\\right)\\\\\\pi \\left(2 q_{3} + 1\\right)\\end{matrix}\\right]$$"
      ],
      "text/plain": [
       "<IPython.core.display.Math at 0x7fc23089cc10>"
      ]
     },
     "metadata": {},
     "output_type": "display_data"
    },
    {
     "data": {
      "text/latex": [
       "$$A_2 = \\left[\\begin{matrix}2 & 0 & 0 & 0 & 0 & -2 & 0 & -2\\\\0 & 2 & 0 & 0 & 0 & 2 & 0 & 2\\\\0 & 0 & 2 & 0 & 0 & 0 & 0 & 0\\\\0 & 0 & 0 & -2 & 0 & 0 & 0 & 0\\\\0 & 0 & 0 & 0 & 1 & 1 & 0 & 0\\\\0 & 0 & 0 & 0 & 0 & 0 & 0 & 0\\\\0 & 0 & 0 & 0 & 0 & 0 & -1 & -1\\\\0 & 0 & 0 & 0 & 0 & 0 & 0 & 0\\\\0 & 0 & 0 & 0 & 0 & 0 & 0 & 0\\\\0 & 0 & 0 & 0 & 0 & 0 & 0 & 0\\\\0 & 0 & 0 & 0 & 0 & 0 & 0 & 0\\\\0 & 0 & 0 & 0 & 0 & 0 & 0 & 0\\end{matrix}\\right]$$"
      ],
      "text/plain": [
       "<IPython.core.display.Math at 0x7fc21be37e90>"
      ]
     },
     "metadata": {},
     "output_type": "display_data"
    },
    {
     "data": {
      "text/latex": [
       "$$b_2=\\left[\\begin{matrix}4 \\pi m_{1} - 2 \\pi n_{1} - \\pi \\left(2 m_{3} + 1\\right) + 2 \\pi \\left(2 n_{2} + 1\\right) - \\pi \\left(2 p_{2} + 1\\right) + \\pi \\left(2 q_{2} + 1\\right)\\\\- 4 \\pi m_{1} + 2 \\pi n_{1} + 3 \\pi \\left(2 m_{3} + 1\\right) - 4 \\pi \\left(2 n_{2} + 1\\right) + \\pi \\left(2 p_{2} + 1\\right) - \\pi \\left(2 q_{2} + 1\\right)\\\\- 4 \\pi m_{1} + 6 \\pi n_{1} + 3 \\pi \\left(2 m_{3} + 1\\right) - 4 \\pi \\left(2 n_{2} + 1\\right) + \\pi \\left(2 p_{2} + 1\\right) - \\pi \\left(2 q_{2} + 1\\right)\\\\2 \\pi n_{1} + \\pi \\left(2 m_{3} + 1\\right) - 2 \\pi \\left(2 n_{2} + 1\\right) + \\pi \\left(2 p_{2} + 1\\right) - \\pi \\left(2 q_{2} + 1\\right)\\\\- 2 \\pi n_{1} + \\pi \\left(2 n_{2} + 1\\right)\\\\- 2 \\pi m_{1} + 2 \\pi n_{1} + \\pi \\left(2 m_{3} + 1\\right) - \\pi \\left(2 n_{2} + 1\\right) - \\pi \\left(2 n_{3} + 1\\right) + \\pi \\left(2 p_{2} + 1\\right)\\\\2 \\pi m_{1} - 2 \\pi n_{1} - \\pi \\left(2 m_{3} + 1\\right) + 2 \\pi \\left(2 n_{2} + 1\\right) - \\pi \\left(2 p_{2} + 1\\right)\\\\2 \\pi m_{1} - 2 \\pi n_{1} - 2 \\pi p_{1} - \\pi \\left(2 m_{3} + 1\\right) + 2 \\pi \\left(2 n_{2} + 1\\right)\\\\- \\pi \\left(2 m_{3} + 1\\right) + \\pi \\left(2 n_{2} + 1\\right) - \\pi \\left(2 p_{2} + 1\\right) + \\pi \\left(2 p_{3} + 1\\right)\\\\2 \\pi n_{1} - 2 \\pi q_{1} - \\pi \\left(2 n_{2} + 1\\right) + \\pi \\left(2 p_{2} + 1\\right)\\\\- 2 \\pi n_{1} + \\pi \\left(2 m_{2} + 1\\right) - \\pi \\left(2 m_{3} + 1\\right) + \\pi \\left(2 n_{2} + 1\\right)\\\\2 \\pi m_{1} - 4 \\pi n_{1} - 2 \\pi \\left(2 m_{3} + 1\\right) + 3 \\pi \\left(2 n_{2} + 1\\right) - \\pi \\left(2 p_{2} + 1\\right) + \\pi \\left(2 q_{3} + 1\\right)\\end{matrix}\\right]$$"
      ],
      "text/plain": [
       "<IPython.core.display.Math at 0x7fc23089cc10>"
      ]
     },
     "metadata": {},
     "output_type": "display_data"
    },
    {
     "data": {
      "text/latex": [
       "$$x = \\left[\\begin{matrix}2 \\pi m_{1} - \\pi n_{1} + z_{0} + z_{1} - \\frac{\\pi}{2} \\left(2 m_{3} + 1\\right) + \\pi \\left(2 n_{2} + 1\\right) - \\frac{\\pi}{2} \\left(2 p_{2} + 1\\right) + \\frac{\\pi}{2} \\left(2 q_{2} + 1\\right)\\\\- 2 \\pi m_{1} + \\pi n_{1} - z_{0} - z_{1} + \\frac{3 \\pi}{2} \\left(2 m_{3} + 1\\right) - 2 \\pi \\left(2 n_{2} + 1\\right) + \\frac{\\pi}{2} \\left(2 p_{2} + 1\\right) - \\frac{\\pi}{2} \\left(2 q_{2} + 1\\right)\\\\- 2 \\pi m_{1} + 3 \\pi n_{1} + \\frac{3 \\pi}{2} \\left(2 m_{3} + 1\\right) - 2 \\pi \\left(2 n_{2} + 1\\right) + \\frac{\\pi}{2} \\left(2 p_{2} + 1\\right) - \\frac{\\pi}{2} \\left(2 q_{2} + 1\\right)\\\\- \\pi n_{1} - \\frac{\\pi}{2} \\left(2 m_{3} + 1\\right) + \\pi \\left(2 n_{2} + 1\\right) - \\frac{\\pi}{2} \\left(2 p_{2} + 1\\right) + \\frac{\\pi}{2} \\left(2 q_{2} + 1\\right)\\\\- 2 \\pi n_{1} - z_{0} + \\pi \\left(2 n_{2} + 1\\right)\\\\z_{0}\\\\- 2 \\pi m_{1} + 2 \\pi n_{1} - z_{1} + \\pi \\left(2 m_{3} + 1\\right) - 2 \\pi \\left(2 n_{2} + 1\\right) + \\pi \\left(2 p_{2} + 1\\right)\\\\z_{1}\\\\0\\\\0\\\\0\\\\0\\end{matrix}\\right]$$"
      ],
      "text/plain": [
       "<IPython.core.display.Math at 0x7fc21be37e90>"
      ]
     },
     "metadata": {},
     "output_type": "display_data"
    },
    {
     "data": {
      "text/latex": [
       "$$\\text{conditions} = \\begin{bmatrix}2 \\pi \\left(- m_{1} + m_{3} + n_{1} - n_{2} - n_{3} + p_{2}\\right), & \\pi \\left(2 m_{1} - 2 m_{3} - 2 n_{1} + 4 n_{2} - 2 p_{1} + 1\\right), & 2 \\pi \\left(- m_{3} + n_{2} - p_{2} + p_{3}\\right), & 2 \\pi \\left(n_{1} - n_{2} + p_{2} - q_{1}\\right), & \\pi \\left(2 m_{2} - 2 m_{3} - 2 n_{1} + 2 n_{2} + 1\\right), & \\pi \\left(2 m_{1} - 4 m_{3} - 4 n_{1} + 6 n_{2} - 2 p_{2} + 2 q_{3} + 1\\right)\\end{bmatrix}$$"
      ],
      "text/plain": [
       "<IPython.core.display.Math at 0x7fc23089cc10>"
      ]
     },
     "metadata": {},
     "output_type": "display_data"
    },
    {
     "name": "stdout",
     "output_type": "stream",
     "text": [
      "NO SOLUTION\n"
     ]
    }
   ],
   "source": [
    "from sympy import *\n",
    "from Electromagnetics.Misc import *\n",
    "from IPython.display import display, Math, Latex\n",
    "\n",
    "#x, y, z, u, v, w = symbols('x y z u v w')\n",
    "init_printing()\n",
    "\n",
    "\n",
    "m1, m2, m3, n1, n2, n3, p1, p2, p3, q1, q2, q3 = symbols('m1 m2 m3 n1 n2 n3 p1 p2 p3 q1 q2 q3')\n",
    "b = Matrix([2*m1*pi, (2*m2+1)*pi, (2*m3+1)*pi, \n",
    "            2*n1*pi, (2*n2+1)*pi, (2*n3+1)*pi,\n",
    "            2*p1*pi, (2*p2+1)*pi, (2*p3+1)*pi,\n",
    "            2*q1*pi, (2*q2+1)*pi, (2*q3+1)*pi])\n",
    "\n",
    "A = Matrix([[ 1, 0, 0,-1, 0,-1, 0,-1], \n",
    "            [ 1, 0, 1, 0, 0,-1, 0,-1],\n",
    "            [ 1, 0, 1, 0, 1, 0, 0,-1],\n",
    "            [ 0,-1, 1, 0, 0,-1, 0,-1],\n",
    "            [ 0,-1, 1, 0, 1, 0, 0,-1],\n",
    "            [ 0,-1, 1, 0, 1, 0, 1, 0],\n",
    "            [ 0,-1, 0,-1, 1, 0, 0,-1],\n",
    "            [ 0,-1, 0,-1, 1, 0, 1, 0],\n",
    "            [ 1, 0, 0,-1, 1, 0, 1, 0],\n",
    "            [ 0,-1, 0,-1, 0,-1, 1, 0],\n",
    "            [ 1, 0, 0, 1, 0,-1, 1, 0],\n",
    "            [ 1, 0, 1, 0, 0,-1, 1, 0]])\n",
    "\n",
    "A2, b2, x, cond = solve_linear_system_nontrivial(A, b, 'z')\n",
    "cond = [cond[i].simplify() for i in range(len(cond))]\n",
    "\n",
    "display(Math('A = '+latex(A)))\n",
    "display(Math('b = '+latex(b)))\n",
    "\n",
    "\n",
    "display(Math('A_2 = ' + latex(A2)))\n",
    "display(Math(r'b_2=' + latex(b2)))\n",
    "\n",
    "\n",
    "display(Math('x = ' + latex(x)))\n",
    "display(Math('\\\\text{conditions} = '+latex(simplify(cond))))\n",
    "\n",
    "print 'NO SOLUTION'"
   ]
  },
  {
   "cell_type": "markdown",
   "metadata": {},
   "source": [
    "## Circulator Symmetric S-Matrix"
   ]
  },
  {
   "cell_type": "code",
   "execution_count": 13,
   "metadata": {
    "collapsed": false
   },
   "outputs": [
    {
     "data": {
      "text/latex": [
       "$$S = \\left[\\begin{array}{ccccccccccccccc}-0.333333333333333 & 0.666666666666667 & 0.666666666666667 & 0 & 0 & 0 & 0 & 0 & 0 & 0 & 0 & 0 & 0 & 0 & 0\\\\0.666666666666667 & -0.333333333333333 & 0.666666666666667 & 0 & 0 & 0 & 0 & 0 & 0 & 0 & 0 & 0 & 0 & 0 & 0\\\\0.666666666666667 & 0.666666666666667 & -0.333333333333333 & 0 & 0 & 0 & 0 & 0 & 0 & 0 & 0 & 0 & 0 & 0 & 0\\\\0 & 0 & 0 & -0.333333333333333 & 0.666666666666667 & 0.666666666666667 & 0 & 0 & 0 & 0 & 0 & 0 & 0 & 0 & 0\\\\0 & 0 & 0 & 0.666666666666667 & -0.333333333333333 & 0.666666666666667 & 0 & 0 & 0 & 0 & 0 & 0 & 0 & 0 & 0\\\\0 & 0 & 0 & 0.666666666666667 & 0.666666666666667 & -0.333333333333333 & 0 & 0 & 0 & 0 & 0 & 0 & 0 & 0 & 0\\\\0 & 0 & 0 & 0 & 0 & 0 & -0.333333333333333 & 0.666666666666667 & 0.666666666666667 & 0 & 0 & 0 & 0 & 0 & 0\\\\0 & 0 & 0 & 0 & 0 & 0 & 0.666666666666667 & -0.333333333333333 & 0.666666666666667 & 0 & 0 & 0 & 0 & 0 & 0\\\\0 & 0 & 0 & 0 & 0 & 0 & 0.666666666666667 & 0.666666666666667 & -0.333333333333333 & 0 & 0 & 0 & 0 & 0 & 0\\\\0 & 0 & 0 & 0 & 0 & 0 & 0 & 0 & 0 & 0 & e^{- \\frac{2 \\pi}{3} i} & 0 & 0 & 0 & 0\\\\0 & 0 & 0 & 0 & 0 & 0 & 0 & 0 & 0 & e^{- \\frac{i \\pi}{3}} & 0 & 0 & 0 & 0 & 0\\\\0 & 0 & 0 & 0 & 0 & 0 & 0 & 0 & 0 & 0 & 0 & 0 & e^{- \\frac{2 \\pi}{3} i} & 0 & 0\\\\0 & 0 & 0 & 0 & 0 & 0 & 0 & 0 & 0 & 0 & 0 & e^{- \\frac{i \\pi}{3}} & 0 & 0 & 0\\\\0 & 0 & 0 & 0 & 0 & 0 & 0 & 0 & 0 & 0 & 0 & 0 & 0 & 0 & e^{- \\frac{2 \\pi}{3} i}\\\\0 & 0 & 0 & 0 & 0 & 0 & 0 & 0 & 0 & 0 & 0 & 0 & 0 & e^{- \\frac{i \\pi}{3}} & 0\\end{array}\\right]$$"
      ],
      "text/plain": [
       "<IPython.core.display.Math object>"
      ]
     },
     "metadata": {},
     "output_type": "display_data"
    },
    {
     "data": {
      "text/latex": [
       "$$S = \\left[\\begin{matrix}-4.9960036108132 \\cdot 10^{-17} + 1.0 \\cdot 10^{-34} i & -0.5 - 0.866025403784438 i & 3.0 \\cdot 10^{-126} + 6.0 \\cdot 10^{-126} i\\\\9.71445146547012 \\cdot 10^{-18} - 1.68259235058562 \\cdot 10^{-17} i & 2.77555756156289 \\cdot 10^{-17} - 3.76158192263132 \\cdot 10^{-37} i & -0.5 - 0.866025403784439 i\\\\-0.5 - 0.866025403784438 i & 2.77555756156289 \\cdot 10^{-17} - 4.80740671595891 \\cdot 10^{-17} i & 2.77555756156289 \\cdot 10^{-17}\\end{matrix}\\right]$$"
      ],
      "text/plain": [
       "<IPython.core.display.Math object>"
      ]
     },
     "metadata": {},
     "output_type": "display_data"
    },
    {
     "data": {
      "text/latex": [
       "$$S = \\left[\\begin{matrix}4.9960036108132 \\cdot 10^{-17} & 1.94289029309402 \\cdot 10^{-17} & 1.0\\\\1.0 & 2.77555756156289 \\cdot 10^{-17} & 5.55111512312578 \\cdot 10^{-17}\\\\5.90910631538287 \\cdot 10^{-126} & 1.0 & 2.77555756156289 \\cdot 10^{-17}\\end{matrix}\\right]$$"
      ],
      "text/plain": [
       "<IPython.core.display.Math object>"
      ]
     },
     "metadata": {},
     "output_type": "display_data"
    }
   ],
   "source": [
    "from sympy import *\n",
    "from Electromagnetics.NetworkAnalysis_sym import *\n",
    "from IPython.display import display, Math, Latex\n",
    "\n",
    "x, y, z, u, v, w = symbols('x y z u v w')\n",
    "init_printing()\n",
    "\n",
    "phi_p = Symbol('\\\\phi^+')\n",
    "phi_m = Symbol('\\\\phi^-')\n",
    "\n",
    "Snet = EmNetwork()\n",
    "\n",
    "S_junc = Matrix([[x, y, y],\n",
    "                 [y, z, w],\n",
    "                 [y, w, z]])\n",
    "S_junc = S_junc.subs([(x, -1/3), (y, 2/3), (z, -1/3), (w, 2/3)])\n",
    "\n",
    "\n",
    "\n",
    "S_phaser = Matrix([[0, exp(-I*phi_m)],\n",
    "                   [exp(-I*phi_p), 0]]).evalf()\n",
    "S_phaser = S_phaser.subs([(phi_p, pi/3), (phi_m, 2*pi/3)])\n",
    "\n",
    "Snet.addComponent(S_junc, \"junction\", 3)\n",
    "Snet.addComponent(S_phaser, \"phaser\", 3)\n",
    "\n",
    "S = Snet.getTotalScatteringMatrix()\n",
    "display(Math('S = ' + latex(S)))\n",
    "#print latex(S)\n",
    "\n",
    "\n",
    "Snet.addConnection(\"junction_0\", 1, \"phaser_0\", 0)\n",
    "Snet.addConnection(\"junction_0\", 2, \"phaser_2\", 1)\n",
    "\n",
    "Snet.addConnection(\"junction_1\", 1, \"phaser_1\", 0)\n",
    "Snet.addConnection(\"junction_1\", 2, \"phaser_0\", 1)\n",
    "\n",
    "Snet.addConnection(\"junction_2\", 1, \"phaser_2\", 0)\n",
    "Snet.addConnection(\"junction_2\", 2, \"phaser_1\", 1)\n",
    "\n",
    "\n",
    "S = Snet.getTotalScatteringMatrix().evalf()\n",
    "display(Math('S = ' + latex(S)))\n",
    "\n",
    "S = Matrix([[abs(S[i,j]) for i in range(S.rows)] for j in range(S.cols)])\n",
    "display(Math('S = ' + latex(S.evalf())))\n",
    "\n"
   ]
  },
  {
   "cell_type": "markdown",
   "metadata": {},
   "source": [
    "## Circulator asymmetric S-Matrix"
   ]
  },
  {
   "cell_type": "code",
   "execution_count": 2,
   "metadata": {
    "collapsed": false
   },
   "outputs": [
    {
     "data": {
      "text/latex": [
       "$$S = \\left[\\begin{array}{ccccccccccccccc}- \\frac{1}{3} & \\frac{2}{3} & \\frac{2}{3} & 0 & 0 & 0 & 0 & 0 & 0 & 0 & 0 & 0 & 0 & 0 & 0\\\\\\frac{2}{3} & - \\frac{1}{3} & \\frac{2}{3} & 0 & 0 & 0 & 0 & 0 & 0 & 0 & 0 & 0 & 0 & 0 & 0\\\\\\frac{2}{3} & \\frac{2}{3} & - \\frac{1}{3} & 0 & 0 & 0 & 0 & 0 & 0 & 0 & 0 & 0 & 0 & 0 & 0\\\\0 & 0 & 0 & - \\frac{1}{3} & \\frac{2}{3} & \\frac{2}{3} & 0 & 0 & 0 & 0 & 0 & 0 & 0 & 0 & 0\\\\0 & 0 & 0 & \\frac{2}{3} & - \\frac{1}{3} & \\frac{2}{3} & 0 & 0 & 0 & 0 & 0 & 0 & 0 & 0 & 0\\\\0 & 0 & 0 & \\frac{2}{3} & \\frac{2}{3} & - \\frac{1}{3} & 0 & 0 & 0 & 0 & 0 & 0 & 0 & 0 & 0\\\\0 & 0 & 0 & 0 & 0 & 0 & - \\frac{1}{3} & \\frac{2}{3} & \\frac{2}{3} & 0 & 0 & 0 & 0 & 0 & 0\\\\0 & 0 & 0 & 0 & 0 & 0 & \\frac{2}{3} & - \\frac{1}{3} & \\frac{2}{3} & 0 & 0 & 0 & 0 & 0 & 0\\\\0 & 0 & 0 & 0 & 0 & 0 & \\frac{2}{3} & \\frac{2}{3} & - \\frac{1}{3} & 0 & 0 & 0 & 0 & 0 & 0\\\\0 & 0 & 0 & 0 & 0 & 0 & 0 & 0 & 0 & 0 & - i & 0 & 0 & 0 & 0\\\\0 & 0 & 0 & 0 & 0 & 0 & 0 & 0 & 0 & - i & 0 & 0 & 0 & 0 & 0\\\\0 & 0 & 0 & 0 & 0 & 0 & 0 & 0 & 0 & 0 & 0 & 0 & -1 & 0 & 0\\\\0 & 0 & 0 & 0 & 0 & 0 & 0 & 0 & 0 & 0 & 0 & 1 & 0 & 0 & 0\\\\0 & 0 & 0 & 0 & 0 & 0 & 0 & 0 & 0 & 0 & 0 & 0 & 0 & 0 & - i\\\\0 & 0 & 0 & 0 & 0 & 0 & 0 & 0 & 0 & 0 & 0 & 0 & 0 & - i & 0\\end{array}\\right]$$"
      ],
      "text/plain": [
       "<IPython.core.display.Math at 0x7f82d44d26d8>"
      ]
     },
     "metadata": {},
     "output_type": "display_data"
    },
    {
     "data": {
      "text/latex": [
       "$$S = \\left[\\begin{matrix}0 & 0 & - i\\\\- i & 0 & 0\\\\0 & -1 & 0\\end{matrix}\\right]$$"
      ],
      "text/plain": [
       "<IPython.core.display.Math at 0x7f82cd907e80>"
      ]
     },
     "metadata": {},
     "output_type": "display_data"
    },
    {
     "name": "stdout",
     "output_type": "stream",
     "text": [
      "1\n",
      "1\n",
      "1\n"
     ]
    }
   ],
   "source": [
    "from sympy import *\n",
    "from Electromagnetics.NetworkAnalysis_sym import *\n",
    "from IPython.display import display, Math, Latex\n",
    "\n",
    "#x, y, z, u, v, w = symbols('x y z u v w')\n",
    "init_printing()\n",
    "\n",
    "phi_p = Symbol('\\\\phi^+')\n",
    "phi_m = Symbol('\\\\phi^-')\n",
    "\n",
    "Snet = EmNetwork()\n",
    "\n",
    "\"\"\"\n",
    "S_junc = Matrix([[0, 1/sqrt(2), 1/sqrt(2)],\n",
    "                 [1/sqrt(2),  -Rational(1,2), Rational(1,2)],\n",
    "                 [1/sqrt(2),  Rational(1,2), -Rational(1,2)]])\n",
    "\"\"\"\n",
    "\n",
    "\n",
    "S_junc = Matrix([[Rational(-1,3),  Rational(2,3),  Rational(2,3)],\n",
    "                 [Rational(2,3),  Rational(-1,3),  Rational(2,3)],\n",
    "                 [Rational(2,3),  Rational(2,3),  Rational(-1,3)]])\n",
    "\n",
    "\n",
    "S_phaser0 = Matrix([[0, exp(-I*pi/2)],\n",
    "                   [exp(-I*pi/2), 0]])\n",
    "S_phaser1 = Matrix([[0, -1],\n",
    "                    [1, 0]])\n",
    "S_phaser2 = Matrix([[0, exp(-I*pi/2)],\n",
    "                   [exp(-I*pi/2), 0]])\n",
    "\n",
    "Snet.addComponent(S_junc, \"junction\", 3)\n",
    "Snet.addComponent(S_phaser0, \"phaser_0\")\n",
    "Snet.addComponent(S_phaser1, \"phaser_1\")\n",
    "Snet.addComponent(S_phaser2, \"phaser_2\")\n",
    "\n",
    "S = Snet.getTotalScatteringMatrix()\n",
    "display(Math('S = ' + latex(S)))\n",
    "\n",
    "\n",
    "Snet.addConnection(\"junction_0\", 1, \"phaser_0\", 0)\n",
    "Snet.addConnection(\"junction_0\", 2, \"phaser_2\", 1)\n",
    "\n",
    "Snet.addConnection(\"junction_1\", 1, \"phaser_1\", 0)\n",
    "Snet.addConnection(\"junction_1\", 2, \"phaser_0\", 1)\n",
    "\n",
    "Snet.addConnection(\"junction_2\", 1, \"phaser_2\", 0)\n",
    "Snet.addConnection(\"junction_2\", 2, \"phaser_1\", 1)\n",
    "\n",
    "S = Snet.getTotalScatteringMatrix()\n",
    "#display(Math('S = ' + latex(S)))\n",
    "\n",
    "#S = S.subs([(phi_p, 2*pi/3), (phi_m, pi/3)])\n",
    "S = Matrix([[S[i,j].expand() for i in range(S.rows)] for j in range(S.cols)])\n",
    "display(Math('S = ' + latex(S)))\n",
    "\n",
    "for i in range(S.cols):\n",
    "    print( (S.col(i).H*S.col(i))[0].expand() )\n"
   ]
  },
  {
   "cell_type": "markdown",
   "metadata": {},
   "source": [
    "## 4-port circulator with magic Ts"
   ]
  },
  {
   "cell_type": "code",
   "execution_count": 41,
   "metadata": {
    "collapsed": false
   },
   "outputs": [
    {
     "data": {
      "image/png": "[encoded data removed]",
      "text/plain": [
       "<IPython.core.display.Image at 0x7f50ad663e10>"
      ]
     },
     "metadata": {},
     "output_type": "display_data"
    }
   ],
   "source": [
    "from IPython.display import Image\n",
    "\n",
    "\n",
    "img = Image(filename='images/circulators/circulator-magic-t.png')\n",
    "\n",
    "display(img)"
   ]
  },
  {
   "cell_type": "code",
   "execution_count": 25,
   "metadata": {
    "collapsed": false
   },
   "outputs": [
    {
     "data": {
      "text/latex": [
       "$$S = \\left[\\begin{matrix}0 & \\frac{\\sqrt{2}}{2} & \\frac{\\sqrt{2}}{2} & 0 & 0 & 0 & 0 & 0 & 0 & 0\\\\\\frac{\\sqrt{2}}{2} & 0 & 0 & \\frac{\\sqrt{2}}{2} & 0 & 0 & 0 & 0 & 0 & 0\\\\\\frac{\\sqrt{2}}{2} & 0 & 0 & - \\frac{\\sqrt{2}}{2} & 0 & 0 & 0 & 0 & 0 & 0\\\\0 & \\frac{\\sqrt{2}}{2} & - \\frac{\\sqrt{2}}{2} & 0 & 0 & 0 & 0 & 0 & 0 & 0\\\\0 & 0 & 0 & 0 & 0 & \\frac{\\sqrt{2}}{2} & \\frac{\\sqrt{2}}{2} & 0 & 0 & 0\\\\0 & 0 & 0 & 0 & \\frac{\\sqrt{2}}{2} & 0 & 0 & \\frac{\\sqrt{2}}{2} & 0 & 0\\\\0 & 0 & 0 & 0 & \\frac{\\sqrt{2}}{2} & 0 & 0 & - \\frac{\\sqrt{2}}{2} & 0 & 0\\\\0 & 0 & 0 & 0 & 0 & \\frac{\\sqrt{2}}{2} & - \\frac{\\sqrt{2}}{2} & 0 & 0 & 0\\\\0 & 0 & 0 & 0 & 0 & 0 & 0 & 0 & 0 & 1\\\\0 & 0 & 0 & 0 & 0 & 0 & 0 & 0 & -1 & 0\\end{matrix}\\right]$$"
      ],
      "text/plain": [
       "<IPython.core.display.Math at 0x7f507f4bcd50>"
      ]
     },
     "metadata": {},
     "output_type": "display_data"
    },
    {
     "data": {
      "text/latex": [
       "$$S = \\left[\\begin{matrix}0 & 0 & 1 & 0\\\\0 & 0 & 0 & 1\\\\0 & 1 & 0 & 0\\\\1 & 0 & 0 & 0\\end{matrix}\\right]$$"
      ],
      "text/plain": [
       "<IPython.core.display.Math at 0x7f507f4bcd10>"
      ]
     },
     "metadata": {},
     "output_type": "display_data"
    },
    {
     "name": "stdout",
     "output_type": "stream",
     "text": [
      "1\n",
      "1\n",
      "1\n",
      "1\n"
     ]
    }
   ],
   "source": [
    "from sympy import *\n",
    "from Electromagnetics.NetworkAnalysis_sym import *\n",
    "from IPython.display import display, Math, Latex\n",
    "\n",
    "#x, y, z, u, v, w = symbols('x y z u v w')\n",
    "init_printing()\n",
    "\n",
    "phi_p = Symbol('\\\\phi^+')\n",
    "phi_m = Symbol('\\\\phi^-')\n",
    "\n",
    "Snet = EmNetwork()\n",
    "\n",
    "\n",
    "MT_junc = Matrix([[0, 1, 1, 0],\n",
    "                  [1, 0, 0, 1],\n",
    "                  [1, 0, 0,-1],\n",
    "                  [0, 1,-1, 0]])\n",
    "\n",
    "MT_junc = 1/sqrt(2)*MT_junc\n",
    "\n",
    "\n",
    "S_gyr = Matrix([[0,  1],\n",
    "                [-1, 0]])\n",
    "\n",
    "Snet.addComponent(MT_junc, \"magic T\", 2)\n",
    "Snet.addComponent(S_gyr, \"gyrator\")\n",
    "\n",
    "S = Snet.getTotalScatteringMatrix()\n",
    "display(Math('S = ' + latex(S)))\n",
    "\n",
    "\n",
    "Snet.addConnection(\"magic T_0\", 2, \"gyrator\", 1)\n",
    "Snet.addConnection(\"magic T_1\", 2, \"gyrator\", 0)\n",
    "Snet.addConnection(\"magic T_0\", 1, \"magic T_1\", 1)\n",
    "\n",
    "\n",
    "S = Snet.getTotalScatteringMatrix()\n",
    "\n",
    "S = Matrix([[S[i,j].expand() for i in range(S.rows)] for j in range(S.cols)])\n",
    "display(Math('S = ' + latex(S)))\n"
   ]
  },
  {
   "cell_type": "markdown",
   "metadata": {
    "collapsed": false
   },
   "source": [
    "### Toshiro's circulator"
   ]
  },
  {
   "cell_type": "code",
   "execution_count": null,
   "metadata": {
    "collapsed": false
   },
   "outputs": [
    {
     "data": {
      "text/latex": [
       "$$S = \\left[\\begin{array}{ccccccccccccccccccccccccccc}0 & \\frac{\\sqrt{2}}{2} & \\frac{\\sqrt{2}}{2} & 0 & 0 & 0 & 0 & 0 & 0 & 0 & 0 & 0 & 0 & 0 & 0 & 0 & 0 & 0 & 0 & 0 & 0 & 0 & 0 & 0 & 0 & 0 & 0\\\\\\frac{\\sqrt{2}}{2} & - \\frac{1}{2} & \\frac{1}{2} & 0 & 0 & 0 & 0 & 0 & 0 & 0 & 0 & 0 & 0 & 0 & 0 & 0 & 0 & 0 & 0 & 0 & 0 & 0 & 0 & 0 & 0 & 0 & 0\\\\\\frac{\\sqrt{2}}{2} & \\frac{1}{2} & - \\frac{1}{2} & 0 & 0 & 0 & 0 & 0 & 0 & 0 & 0 & 0 & 0 & 0 & 0 & 0 & 0 & 0 & 0 & 0 & 0 & 0 & 0 & 0 & 0 & 0 & 0\\\\0 & 0 & 0 & 0 & \\frac{\\sqrt{2}}{2} & \\frac{\\sqrt{2}}{2} & 0 & 0 & 0 & 0 & 0 & 0 & 0 & 0 & 0 & 0 & 0 & 0 & 0 & 0 & 0 & 0 & 0 & 0 & 0 & 0 & 0\\\\0 & 0 & 0 & \\frac{\\sqrt{2}}{2} & - \\frac{1}{2} & \\frac{1}{2} & 0 & 0 & 0 & 0 & 0 & 0 & 0 & 0 & 0 & 0 & 0 & 0 & 0 & 0 & 0 & 0 & 0 & 0 & 0 & 0 & 0\\\\0 & 0 & 0 & \\frac{\\sqrt{2}}{2} & \\frac{1}{2} & - \\frac{1}{2} & 0 & 0 & 0 & 0 & 0 & 0 & 0 & 0 & 0 & 0 & 0 & 0 & 0 & 0 & 0 & 0 & 0 & 0 & 0 & 0 & 0\\\\0 & 0 & 0 & 0 & 0 & 0 & 0 & \\frac{\\sqrt{2}}{2} & \\frac{\\sqrt{2}}{2} & 0 & 0 & 0 & 0 & 0 & 0 & 0 & 0 & 0 & 0 & 0 & 0 & 0 & 0 & 0 & 0 & 0 & 0\\\\0 & 0 & 0 & 0 & 0 & 0 & \\frac{\\sqrt{2}}{2} & - \\frac{1}{2} & \\frac{1}{2} & 0 & 0 & 0 & 0 & 0 & 0 & 0 & 0 & 0 & 0 & 0 & 0 & 0 & 0 & 0 & 0 & 0 & 0\\\\0 & 0 & 0 & 0 & 0 & 0 & \\frac{\\sqrt{2}}{2} & \\frac{1}{2} & - \\frac{1}{2} & 0 & 0 & 0 & 0 & 0 & 0 & 0 & 0 & 0 & 0 & 0 & 0 & 0 & 0 & 0 & 0 & 0 & 0\\\\0 & 0 & 0 & 0 & 0 & 0 & 0 & 0 & 0 & 0 & \\frac{\\sqrt{2}}{2} & \\frac{\\sqrt{2}}{2} & 0 & 0 & 0 & 0 & 0 & 0 & 0 & 0 & 0 & 0 & 0 & 0 & 0 & 0 & 0\\\\0 & 0 & 0 & 0 & 0 & 0 & 0 & 0 & 0 & \\frac{\\sqrt{2}}{2} & - \\frac{1}{2} & \\frac{1}{2} & 0 & 0 & 0 & 0 & 0 & 0 & 0 & 0 & 0 & 0 & 0 & 0 & 0 & 0 & 0\\\\0 & 0 & 0 & 0 & 0 & 0 & 0 & 0 & 0 & \\frac{\\sqrt{2}}{2} & \\frac{1}{2} & - \\frac{1}{2} & 0 & 0 & 0 & 0 & 0 & 0 & 0 & 0 & 0 & 0 & 0 & 0 & 0 & 0 & 0\\\\0 & 0 & 0 & 0 & 0 & 0 & 0 & 0 & 0 & 0 & 0 & 0 & 0 & \\frac{\\sqrt{2}}{2} & \\frac{\\sqrt{2}}{2} & 0 & 0 & 0 & 0 & 0 & 0 & 0 & 0 & 0 & 0 & 0 & 0\\\\0 & 0 & 0 & 0 & 0 & 0 & 0 & 0 & 0 & 0 & 0 & 0 & \\frac{\\sqrt{2}}{2} & - \\frac{1}{2} & \\frac{1}{2} & 0 & 0 & 0 & 0 & 0 & 0 & 0 & 0 & 0 & 0 & 0 & 0\\\\0 & 0 & 0 & 0 & 0 & 0 & 0 & 0 & 0 & 0 & 0 & 0 & \\frac{\\sqrt{2}}{2} & \\frac{1}{2} & - \\frac{1}{2} & 0 & 0 & 0 & 0 & 0 & 0 & 0 & 0 & 0 & 0 & 0 & 0\\\\0 & 0 & 0 & 0 & 0 & 0 & 0 & 0 & 0 & 0 & 0 & 0 & 0 & 0 & 0 & 0 & e^{- i \\theta} & 0 & 0 & 0 & 0 & 0 & 0 & 0 & 0 & 0 & 0\\\\0 & 0 & 0 & 0 & 0 & 0 & 0 & 0 & 0 & 0 & 0 & 0 & 0 & 0 & 0 & e^{- i \\theta} & 0 & 0 & 0 & 0 & 0 & 0 & 0 & 0 & 0 & 0 & 0\\\\0 & 0 & 0 & 0 & 0 & 0 & 0 & 0 & 0 & 0 & 0 & 0 & 0 & 0 & 0 & 0 & 0 & 0 & e^{- i \\theta} & 0 & 0 & 0 & 0 & 0 & 0 & 0 & 0\\\\0 & 0 & 0 & 0 & 0 & 0 & 0 & 0 & 0 & 0 & 0 & 0 & 0 & 0 & 0 & 0 & 0 & e^{- i \\theta} & 0 & 0 & 0 & 0 & 0 & 0 & 0 & 0 & 0\\\\0 & 0 & 0 & 0 & 0 & 0 & 0 & 0 & 0 & 0 & 0 & 0 & 0 & 0 & 0 & 0 & 0 & 0 & 0 & 0 & e^{- i \\theta} & 0 & 0 & 0 & 0 & 0 & 0\\\\0 & 0 & 0 & 0 & 0 & 0 & 0 & 0 & 0 & 0 & 0 & 0 & 0 & 0 & 0 & 0 & 0 & 0 & 0 & e^{- i \\theta} & 0 & 0 & 0 & 0 & 0 & 0 & 0\\\\0 & 0 & 0 & 0 & 0 & 0 & 0 & 0 & 0 & 0 & 0 & 0 & 0 & 0 & 0 & 0 & 0 & 0 & 0 & 0 & 0 & 0 & e^{- i \\theta} & 0 & 0 & 0 & 0\\\\0 & 0 & 0 & 0 & 0 & 0 & 0 & 0 & 0 & 0 & 0 & 0 & 0 & 0 & 0 & 0 & 0 & 0 & 0 & 0 & 0 & e^{- i \\theta} & 0 & 0 & 0 & 0 & 0\\\\0 & 0 & 0 & 0 & 0 & 0 & 0 & 0 & 0 & 0 & 0 & 0 & 0 & 0 & 0 & 0 & 0 & 0 & 0 & 0 & 0 & 0 & 0 & 0 & e^{- 2 i \\theta} & 0 & 0\\\\0 & 0 & 0 & 0 & 0 & 0 & 0 & 0 & 0 & 0 & 0 & 0 & 0 & 0 & 0 & 0 & 0 & 0 & 0 & 0 & 0 & 0 & 0 & e^{- 2 i \\theta} & 0 & 0 & 0\\\\0 & 0 & 0 & 0 & 0 & 0 & 0 & 0 & 0 & 0 & 0 & 0 & 0 & 0 & 0 & 0 & 0 & 0 & 0 & 0 & 0 & 0 & 0 & 0 & 0 & 0 & -1\\\\0 & 0 & 0 & 0 & 0 & 0 & 0 & 0 & 0 & 0 & 0 & 0 & 0 & 0 & 0 & 0 & 0 & 0 & 0 & 0 & 0 & 0 & 0 & 0 & 0 & 1 & 0\\end{array}\\right]$$"
      ],
      "text/plain": [
       "<IPython.core.display.Math object>"
      ]
     },
     "metadata": {},
     "output_type": "display_data"
    }
   ],
   "source": [
    "from sympy import *\n",
    "from Electromagnetics.NetworkAnalysis_sym import *\n",
    "from IPython.display import display, Math, Latex\n",
    "\n",
    "#x, y, z, u, v, w = symbols('x y z u v w')\n",
    "\n",
    "theta = symbols(r'\\theta', real=True)\n",
    "\n",
    "S_RR = EmNetwork()\n",
    "\n",
    "\n",
    "\n",
    "S_junc = Matrix([[0, 1/sqrt(2), 1/sqrt(2)],\n",
    "                 [1/sqrt(2),  -Rational(1,2), Rational(1,2)],\n",
    "                 [1/sqrt(2),  Rational(1,2), -Rational(1,2)]])\n",
    "\n",
    "\n",
    "\"\"\"\n",
    "S_junc = Matrix([[Rational(-1,3),  Rational(2,3),  Rational(2,3)],\n",
    "                 [Rational(2,3),  Rational(-1,3),  Rational(2,3)],\n",
    "                 [Rational(2,3),  Rational(2,3),  Rational(-1,3)]])\n",
    "\"\"\"\n",
    "\n",
    "S_tl1 = Matrix([[0, exp(-I*theta)],\n",
    "               [exp(-I*theta), 0]])\n",
    "S_tl2 = Matrix([[0, exp(-I*2*theta)],\n",
    "               [exp(-I*2*theta), 0]])\n",
    "\n",
    "S_fet = Matrix([[0, -1],\n",
    "                [1, 0]])\n",
    "\n",
    "\n",
    "\n",
    "S_RR.addComponent(S_junc, \"junction\", 5)\n",
    "S_RR.addComponent(S_tl1, \"tl1\", 4)\n",
    "S_RR.addComponent(S_tl2, \"tl2\")\n",
    "S_RR.addComponent(S_fet, \"fet\")\n",
    "\n",
    "S = S_RR.getTotalScatteringMatrix()\n",
    "display(Math('S = ' + latex(S)))\n",
    "\n",
    "\n",
    "S_RR.addConnection(\"junction_0\", 1, \"tl1_0\", 0)\n",
    "S_RR.addConnection(\"tl1_0\", 1, \"junction_1\", 2)\n",
    "\n",
    "S_RR.addConnection(\"junction_1\", 1, \"tl1_1\", 0)\n",
    "S_RR.addConnection(\"tl1_1\", 1, \"junction_2\", 2)\n",
    "\n",
    "S_RR.addConnection(\"junction_2\", 1, \"tl1_2\", 0)\n",
    "S_RR.addConnection(\"tl1_2\", 1, \"junction_3\", 2)\n",
    "\n",
    "S_RR.addConnection(\"junction_3\", 1, \"tl1_3\", 0)\n",
    "S_RR.addConnection(\"tl1_3\", 1, \"junction_4\", 2)\n",
    "\n",
    "S_RR.addConnection(\"junction_4\", 1, \"tl2\", 0)\n",
    "S_RR.addConnection(\"tl2\", 1, \"junction_0\", 2)\n",
    "\n",
    "S_RR.addConnection(\"junction_3\", 0, \"fet\", 0)\n",
    "S_RR.addConnection(\"fet\", 1, \"junction_1\", 0)\n",
    "\n",
    "\n",
    "\n",
    "S = S_RR.getTotalScatteringMatrix()\n",
    "display(Math('S = ' + latex(S)))\n",
    "\n",
    "#S = Matrix([[S[i,j].simplify() for i in range(S.rows)] for j in range(S.cols)])\n",
    "#display(Math('S = ' + latex(S)))\n"
   ]
  },
  {
   "cell_type": "code",
   "execution_count": null,
   "metadata": {
    "collapsed": true
   },
   "outputs": [],
   "source": []
  }
 ],
 "metadata": {
  "kernelspec": {
   "display_name": "Python 3",
   "language": "python",
   "name": "python3"
  },
  "language_info": {
   "codemirror_mode": {
    "name": "ipython",
    "version": 3
   },
   "file_extension": ".py",
   "mimetype": "text/x-python",
   "name": "python",
   "nbconvert_exporter": "python",
   "pygments_lexer": "ipython3",
   "version": "3.5.2"
  }
 },
 "nbformat": 4,
 "nbformat_minor": 0
}
