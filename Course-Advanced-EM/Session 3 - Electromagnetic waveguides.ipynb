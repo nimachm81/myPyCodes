{
 "cells": [
  {
   "cell_type": "markdown",
   "metadata": {},
   "source": [
    "### setting system path for importing modules"
   ]
  },
  {
   "cell_type": "code",
   "execution_count": 6,
   "metadata": {
    "collapsed": false
   },
   "outputs": [
    {
     "name": "stdout",
     "output_type": "stream",
     "text": [
      "['', '/usr/lib/python35.zip', '/usr/lib/python3.5', '/usr/lib/python3.5/plat-x86_64-linux-gnu', '/usr/lib/python3.5/lib-dynload', '/home/nima/.local/lib/python3.5/site-packages', '/usr/local/lib/python3.5/dist-packages', '/usr/lib/python3/dist-packages', '/usr/local/lib/python3.5/dist-packages/IPython/extensions', '/home/nima/.ipython', '../']\n"
     ]
    }
   ],
   "source": [
    "import sys\n",
    "sys.path.append(\"../\")\n",
    "\n",
    "print(sys.path)\n",
    "\n",
    "from Electromagnetics.Misc import *\n"
   ]
  },
  {
   "cell_type": "markdown",
   "metadata": {},
   "source": [
    "### Rectangular waaveguide"
   ]
  },
  {
   "cell_type": "code",
   "execution_count": null,
   "metadata": {
    "collapsed": true
   },
   "outputs": [],
   "source": [
    "%pylab inline\n",
    "\n",
    "import numpy as np\n",
    "import matplotlib.cm as cm\n",
    "import matplotlib.mlab as mlab\n",
    "import matplotlib.pyplot as plt\n",
    "import matplotlib.animation as animation\n",
    "#from matplotlib.pyplot import *\n",
    "import scipy as sp\n",
    "from scipy import constants\n",
    "\n",
    "import os\n",
    "cwd = os.getcwd()\n",
    "dir_name = os.path.join(cwd, 'session-2')\n",
    "file_ext = '.png'\n",
    "if not os.path.exists(dir_name):\n",
    "    os.makedirs(dir_name)\n",
    "\n",
    "figsize(4, 4)\n",
    "\n",
    "\n",
    "class RecWG:\n",
    "    def __init__(a, b, eps_r, mu_r):\n",
    "        self.a = a\n",
    "        self.b = b\n",
    "        self.eps_r = eps_r\n",
    "        self.mu_r = mu_r\n",
    "        self.n = np.sqrt(epsr*mu_r)\n",
    "\n",
    "    def Cutoff(m, n):\n",
    "        a = self.a\n",
    "        b = self.b\n",
    "        kx = m*np.pi/a\n",
    "        ky = n*np.pi/b\n",
    "        kc = np.sqrt(kx**2 + ky**2)\n",
    "        return kc\n",
    "\n",
    "    def PropConst(omega, m, n, plotit=False):\n",
    "        kc = Cutoff_TM(m, n)\n",
    "        k = omega*self.n/constants.c\n",
    "        beta = np.sqrt(k**2 - kc**2 + 0.0j)\n",
    "        beta = beta*(np.imag(beta)<=0) - beta*(np.imag(beta)>0)\n",
    "        \n",
    "        if plotit:\n",
    "            beta_r = np.real(beta)\n",
    "            beta_r = np.ma.masked_where(np.imag(beta)!=0.0, beta_r)\n",
    "            plt.plot(beta_r, omega/constants.c, 'b')\n",
    "            beta_i = np.imag(beta)\n",
    "            beta_i = np.ma.masked_where(np.real(beta)!=0.0, beta_i)\n",
    "            plt.plot(beta_i, omega/constants.c, 'r-.')\n",
    "\n",
    "        return beta\n",
    "\n",
    "    def Hertz_TM(m, n, Nx, Ny, plotit=False):\n",
    "        a, b = self.a, self.b\n",
    "        x = np.linspace(0, a, Nx)\n",
    "        y = np.linspace(0, b, Ny)\n",
    "        X, Y = np.meshgrid(x, y)\n",
    "        \n",
    "        Phi = 2.0/np.sqrt(a*b)*np.sin(m*np.pi*X/a)*np.sin(n*np.pi*Y/b)\n",
    "        \n",
    "        if plotit:\n",
    "            plt.pcolormesh(X, Y, Phi)\n",
    "        return X, Y, Phi\n",
    "        \n",
    "    def Hertz_TE(m, n, Nx, Ny, plotit=False):\n",
    "        a, b = self.a, self.b\n",
    "        x = np.linspace(0, a, Nx)\n",
    "        y = np.linspace(0, b, Ny)\n",
    "        X, Y = np.meshgrid(x, y)\n",
    "        \n",
    "        Phi = 2.0/np.sqrt(a*b)*np.cos(m*np.pi*X/a)*np.cos(n*np.pi*Y/b)\n",
    "        \n",
    "        if plotit:\n",
    "            plt.pcolormesh(X, Y, Phi)\n",
    "        return X, Y, Phi\n",
    "\n",
    "    \n",
    "    \n"
   ]
  }
 ],
 "metadata": {
  "kernelspec": {
   "display_name": "Python 3",
   "language": "python",
   "name": "python3"
  },
  "language_info": {
   "codemirror_mode": {
    "name": "ipython",
    "version": 3
   },
   "file_extension": ".py",
   "mimetype": "text/x-python",
   "name": "python",
   "nbconvert_exporter": "python",
   "pygments_lexer": "ipython3",
   "version": "3.4.3"
  }
 },
 "nbformat": 4,
 "nbformat_minor": 1
}
