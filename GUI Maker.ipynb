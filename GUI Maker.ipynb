{
 "cells": [
  {
   "cell_type": "code",
   "execution_count": 1,
   "metadata": {
    "collapsed": false
   },
   "outputs": [
    {
     "name": "stdout",
     "output_type": "stream",
     "text": [
      "queue started..\n",
      "window started...\n"
     ]
    }
   ],
   "source": [
    "%reload_ext autoreload\n",
    "%autoreload\n",
    "\n",
    "import numpy as np\n",
    "import sys\n",
    "\n",
    "from UserInterface.GUIMaker import *\n",
    "import queue\n",
    "\n",
    "que = queue.Queue()\n",
    "print(\"queue started..\")\n",
    "window = GUIMakerND(W_3D=np.array([2.0, 2.0, 1.0]), que=que)\n",
    "\n",
    "print('window started...')\n"
   ]
  },
  {
   "cell_type": "code",
   "execution_count": 2,
   "metadata": {
    "collapsed": false
   },
   "outputs": [
    {
     "name": "stdout",
     "output_type": "stream",
     "text": [
      "OnCloseFrame\n"
     ]
    }
   ],
   "source": [
    "que.put(['logSimulationParameters'])\n"
   ]
  },
  {
   "cell_type": "code",
   "execution_count": null,
   "metadata": {
    "collapsed": false
   },
   "outputs": [],
   "source": [
    "r0, r1 = np.array([0.0, 0.0, 0.0]), np.array([0.1, 0.1, 0.3])\n",
    "que.put(['add elem', 'cube', [r0, r1]])\n"
   ]
  },
  {
   "cell_type": "code",
   "execution_count": null,
   "metadata": {
    "collapsed": false
   },
   "outputs": [],
   "source": []
  }
 ],
 "metadata": {
  "kernelspec": {
   "display_name": "Python 3",
   "language": "python",
   "name": "python3"
  },
  "language_info": {
   "codemirror_mode": {
    "name": "ipython",
    "version": 3
   },
   "file_extension": ".py",
   "mimetype": "text/x-python",
   "name": "python",
   "nbconvert_exporter": "python",
   "pygments_lexer": "ipython3",
   "version": "3.5.2"
  }
 },
 "nbformat": 4,
 "nbformat_minor": 1
}
