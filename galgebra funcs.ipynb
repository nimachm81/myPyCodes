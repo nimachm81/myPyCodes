{
 "metadata": {
  "name": ""
 },
 "nbformat": 3,
 "nbformat_minor": 0,
 "worksheets": [
  {
   "cells": [
    {
     "cell_type": "code",
     "collapsed": false,
     "input": [
      "from sympy import *\n",
      "from sympy.galgebra.ga import *\n",
      "from sympy.galgebra import *\n",
      "from sympy.galgebra.tests.test_ga import *\n",
      "\n",
      "\n",
      "test_derivatives_in_rectangular_coordinates()\n",
      "\n",
      "X = (x, y, z) = symbols('x y z')\n",
      "(ex, ey, ez, grad) = MV.setup('e_x e_y e_z', metric='[1,1,1]', coords=X)\n",
      "\n",
      "f = MV('f', 'scalar', fct=True)\n",
      "A = MV('A', 'vector', fct=True)\n",
      "B = MV('B', 'grade2', fct=True)\n",
      "C = MV('C', 'mv', fct=True)\n",
      "\n",
      "a = str(B)\n",
      "\n",
      "a\n",
      "\n",
      "\n"
     ],
     "language": "python",
     "metadata": {},
     "outputs": [
      {
       "metadata": {},
       "output_type": "pyout",
       "prompt_number": 47,
       "text": [
        "'B__xy(x, y, z)*e_x^e_y + B__xz(x, y, z)*e_x^e_z + B__yz(x, y, z)*e_y^e_z'"
       ]
      }
     ],
     "prompt_number": 47
    },
    {
     "cell_type": "code",
     "collapsed": false,
     "input": [],
     "language": "python",
     "metadata": {},
     "outputs": []
    }
   ],
   "metadata": {}
  }
 ]
}