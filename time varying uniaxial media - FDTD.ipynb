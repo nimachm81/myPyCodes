{
 "cells": [
  {
   "cell_type": "code",
   "execution_count": 1,
   "metadata": {},
   "outputs": [
    {
     "name": "stdout",
     "output_type": "stream",
     "text": [
      "3.99384141282\n",
      "20.0308404192\n"
     ]
    },
    {
     "data": {
      "image/png": "[encoded data removed]",
      "text/plain": [
       "<matplotlib.figure.Figure at 0x7f5d4458eda0>"
      ]
     },
     "metadata": {},
     "output_type": "display_data"
    }
   ],
   "source": [
    "from Electromagnetics.FDTD import *\n",
    "import numpy as np\n",
    "import time\n",
    "import matplotlib.pyplot as plt\n",
    "\n",
    "n_dim = 2\n",
    "r0, r1, dr = [None]*3\n",
    "S = 0.9\n",
    "n_t = None\n",
    "save_every = 10\n",
    "\n",
    "r_c = None\n",
    "omega = 2.0*np.pi\n",
    "s_pml = None\n",
    "d_pml = None\n",
    "\n",
    "L_0 = 2.0*np.pi/omega\n",
    "\n",
    "eps_r_0 = np.array([3.5, 3.5, 3.5])\n",
    "eps_r_1 = np.array([6.5, 1.0, 1.0])\n",
    "eps_r_max = max(np.max(np.abs(eps_r_0)), np.max(np.abs(eps_r_1)))\n",
    "L_g = L_0/np.sqrt(eps_r_max)\n",
    "\n",
    "def smoothswitch(t, f0=1, f1=2, alpha=1, t0=0):\n",
    "    return f0 + 0.5*(1.0 + np.tanh(alpha*(t-t0)))*(f1 - f0)\n",
    "alpha = 20.0\n",
    "t0 = L_g*1\n",
    "\n",
    "eps_r = [lambda r, t: smoothswitch(t, eps_r_0[0], eps_r_1[0], alpha, t0),\n",
    "         lambda r, t: smoothswitch(t, eps_r_0[1], eps_r_1[1], alpha, t0),\n",
    "         lambda r, t: smoothswitch(t, eps_r_0[2], eps_r_1[2], alpha, t0)]\n",
    "\n",
    "if n_dim==3:\n",
    "    r0 = np.array([0.0, 0.0, 0.0])\n",
    "    r1 = np.array([1.0, 1.0, 1.0])*10.0*L_g\n",
    "    dr = np.array([1.0, 1.0, 1.0])*L_g/40\n",
    "    S /= np.sqrt(3)\n",
    "    n_t = 2000\n",
    "    \n",
    "    r_c = (r0+r1)/2.0    \n",
    "    d_pml = np.array([0.2, 0.2, 0.2])*L_g\n",
    "    s_pml = np.array([1.0+1.0j, 1.0+1.0j, 1.0+1.0j])/d_pml*3.0\n",
    "elif n_dim==2:\n",
    "    r0 = np.array([0.0, 0.0])\n",
    "    r1 = np.array([1.0, 1.0])*2.0*L_g\n",
    "    dr = np.array([1.0, 1.0])*L_g/50\n",
    "    S /= np.sqrt(2)\n",
    "    n_t = 800\n",
    "    \n",
    "    r_c = (r0+r1)/2.0    \n",
    "    d_pml = np.array([1.0, 1.0])*L_g\n",
    "    s_pml = np.array([1.0+1.0j, 1.0+1.0j])/d_pml*3.0\n",
    "\n",
    "elif n_dim==1:\n",
    "    assert False\n",
    "    \n",
    "dt = S*dr[0]/np.sqrt(eps_r_max)\n",
    "d_v = np.prod(dr)\n",
    "\n",
    "print((n_t*dt)/t0)\n",
    "i_change = t0/dt/save_every\n",
    "print(i_change)\n",
    "\n",
    "_t_samples_ = np.linspace(0.0, n_t*dt, n_t)\n",
    "plt.plot(_t_samples_, eps_r[0](0,_t_samples_))\n",
    "plt.show()\n",
    "\n"
   ]
  },
  {
   "cell_type": "code",
   "execution_count": 2,
   "metadata": {},
   "outputs": [
    {
     "name": "stdout",
     "output_type": "stream",
     "text": [
      "simulation time: 0:1\n"
     ]
    }
   ],
   "source": [
    "\n",
    "fdtd = FDTDSimulator()\n",
    "\n",
    "fdtd.SetSimulationBox(r0, r1, dr, dt)\n",
    "fdtd.save_every = save_every \n",
    "\n",
    "d_x_ = np.zeros(n_dim)\n",
    "d_x_[0] = (r1[0]-r0[0])\n",
    "d_x_pml = np.zeros(n_dim)\n",
    "d_x_pml[0] = d_pml[0]\n",
    "\n",
    "t0_j = t0/2\n",
    "T_j = t0_j/4\n",
    "f_t = lambda t: np.exp(-(t - t0_j)**2/T_j**2)*np.sin(omega*(t-t0_j)) \n",
    "\n",
    "## J\n",
    "r_j = r_c\n",
    "je_mag = 1.0/dr[0]\n",
    "src_dir = 'y'\n",
    "je_args = None\n",
    "je_type = FVTypes.JePoint\n",
    "je_args = {'r0':r_j, 'mag':je_mag, 'f_t':f_t, 'src_dir':src_dir}\n",
    "\n",
    "fdtd.AddSources({'type':je_type, 'name':'Je', 'args':je_args})\n",
    "\n",
    "eps_args = {'r0':r0, 'r1':r1, 'mag_in':eps_r, 'mag_out':[1, 1, 1]}\n",
    "fdtd.AddMaterial({'type':FVTypes.EpsDiagSTvarBox, 'name':'eps', 'args':eps_args})\n",
    "\n",
    "\n",
    "pml_args = {'d_pml':d_pml, 's_pml':s_pml}\n",
    "fdtd.AddPML({'type':FVTypes.UPML, 'name':'pml', 'args':pml_args})\n",
    "\n",
    "set_eps_out = False\n",
    "\n",
    "r_out = r_c + np.ones(n_dim)*L_0/100\n",
    "\n",
    "if n_dim==3:\n",
    "    fdtd.AddViewPlane({'type':FVTypes.VPSide, 'r':r_out, 'args':{'A':'E', 'A_dir':'x', 'O_dir':'x', 'name':'E'}})\n",
    "elif n_dim<=2:\n",
    "    fdtd.AddViewPlane({'type':FVTypes.VPSide, 'r':r_out, 'args':{'A':'E', 'A_dir':'x', 'O_dir':None, 'name':'Ex'}})\n",
    "    fdtd.AddViewPlane({'type':FVTypes.VPSide, 'r':r_out, 'args':{'A':'E', 'A_dir':'y', 'O_dir':None, 'name':'Ey'}})\n",
    "    fdtd.AddViewPlane({'type':FVTypes.VPSide, 'r':r_out, 'args':{'A':'E', 'A_dir':'z', 'O_dir':None, 'name':'Ez'}})\n",
    "    fdtd.AddViewPlane({'type':FVTypes.VPSide, 'r':r_out, 'args':{'A':'E', 'A_dir':'x', 'O_dir':'x', 'name':'Ex-slice'}})\n",
    "    fdtd.AddViewPlane({'type':FVTypes.VPSide, 'r':r_out, 'args':{'A':'E', 'A_dir':'y', 'O_dir':'x', 'name':'Ey-slice'}})\n",
    "\n",
    "        \n",
    "fdtd.StepFields(n_t)\n",
    "n_saved = fdtd.n_saved\n",
    "    \n"
   ]
  },
  {
   "cell_type": "code",
   "execution_count": 3,
   "metadata": {},
   "outputs": [
    {
     "name": "stdout",
     "output_type": "stream",
     "text": [
      "max(e_max): 0.159769162108\n",
      "(100, 99) (100, 99)\n"
     ]
    },
    {
     "data": {
      "image/png": "[encoded data removed]",
      "text/plain": [
       "<matplotlib.figure.Figure at 0x7f5d0df0ce48>"
      ]
     },
     "metadata": {},
     "output_type": "display_data"
    }
   ],
   "source": [
    "import matplotlib.pyplot as plt\n",
    "\n",
    "r_E, E_out_list = fdtd.GetOutputs('Ey')\n",
    "x_E, y_E, z_E = [None]*3\n",
    "if n_dim==3:\n",
    "    x_E, y_E, z_E = r_E\n",
    "elif n_dim==2:\n",
    "    x_E, y_E = r_E\n",
    "elif n_dim==1:\n",
    "    x_E = r_E[0]\n",
    "e_max = [np.max(np.abs(e)) for e in E_out_list]\n",
    "print('max(e_max):', max(e_max))\n",
    "e_max = max(e_max)\n",
    "    \n",
    "\n",
    "print(x_E.shape, E_out_list[0].shape)\n",
    "\n",
    "import matplotlib.pyplot as plt\n",
    "import matplotlib.animation as animation\n",
    "\n",
    "plt.rcParams[\"figure.figsize\"] = (5, 5)\n",
    "\n",
    "if n_dim==2:\n",
    "    fig = plt.imshow(E_out_list[-1].T, vmin=-e_max/10, vmax=e_max/10)\n",
    "    ax = plt.gca()\n",
    "    ax.set_adjustable('box-forced')\n",
    "    ax.axes.get_xaxis().set_ticks([])\n",
    "    ax.axes.get_yaxis().set_ticks([])\n",
    "    plt.show()\n"
   ]
  },
  {
   "cell_type": "code",
   "execution_count": 4,
   "metadata": {},
   "outputs": [
    {
     "name": "stdout",
     "output_type": "stream",
     "text": [
      "Populating the interactive namespace from numpy and matplotlib\n"
     ]
    },
    {
     "name": "stderr",
     "output_type": "stream",
     "text": [
      "/usr/local/lib/python3.5/dist-packages/ipykernel/__main__.py:34: RuntimeWarning: divide by zero encountered in log\n",
      "/usr/local/lib/python3.5/dist-packages/ipykernel/__main__.py:35: RuntimeWarning: invalid value encountered in multiply\n"
     ]
    },
    {
     "name": "stdout",
     "output_type": "stream",
     "text": [
      "0/80 0/80 10/80 20/80 30/80 40/80 50/80 60/80 70/80 "
     ]
    }
   ],
   "source": [
    "%pylab tk\n",
    "\n",
    "import numpy as np\n",
    "import matplotlib.pyplot as plt\n",
    "import matplotlib.animation as animation\n",
    "import matplotlib\n",
    "\n",
    "# Set up formatting for the movie files\n",
    "#Writer = animation.writers['mencoder']    ## avconv ffmpeg mencoder\n",
    "#writer = Writer(fps=15, metadata=dict(artist='Me'))\n",
    "#writer = animation.FFMpegWriter()\n",
    "\n",
    "plt_field = 'E'\n",
    "save_anim = False\n",
    "file_format = 'gif'   ## 'gif' / 'mp4'\n",
    "\n",
    "logscale=True\n",
    "log_0 = np.log(e_max)-20\n",
    "\n",
    "use_subplots = False\n",
    "\n",
    "font = {'family' : 'serif', 'weight' : 'normal', 'size' : 14}\n",
    "matplotlib.rc('font', **font)\n",
    "\n",
    "fig = None\n",
    "if n_dim>=2:\n",
    "    def animate_E(i):\n",
    "        plt.clf()\n",
    "        #fig = plt.pcolor(y_E, z_E, E_out_list[i])\n",
    "        if not logscale:\n",
    "            #fig = plt.imshow(np.abs(E_out_list[i]).T, vmin=0.0, vmax=e_max/100)\n",
    "            fig = plt.imshow(E_out_list[i].T, origin='lower', vmin=-e_max/10, vmax=e_max/10, cmap='rainbow', \\\n",
    "                             aspect='auto')\n",
    "        else:\n",
    "            E_log = np.log(np.abs(E_out_list[i]))\n",
    "            E_log = (E_log>=log_0)*E_log + (E_log<log_0)*(log_0)\n",
    "            fig = plt.imshow(E_log.T, origin='lower', vmin=log_0, vmax=np.log(e_max), cmap='rainbow', \\\n",
    "                             aspect='auto')\n",
    "\n",
    "        #CB = plt.colorbar(fig, shrink=0.8, extend='both')\n",
    "        ax = plt.gca()\n",
    "        ax.set_adjustable('box-forced')\n",
    "        ax.axes.get_xaxis().set_ticks([])\n",
    "        ax.axes.get_yaxis().set_ticks([])\n",
    "        plt.colorbar()\n",
    "        if i>i_change:\n",
    "            plt.title('*', fontsize=20, color='r')\n",
    "        if i%10==0:\n",
    "            print(\"{}/{}\".format(i, n_saved), end=\" \")\n",
    "        return fig\n",
    "\n",
    "    fig = plt.figure()\n",
    "    axes = plt.gca()\n",
    "    anim = None\n",
    "    if plt_field=='E':\n",
    "        anim = animation.FuncAnimation(fig, animate_E, frames=n_saved, interval=1, repeat=False)\n",
    "    else:\n",
    "        raise ValuError()\n",
    "\n",
    "    if save_anim:\n",
    "        if file_format=='gif':\n",
    "            anim.save('other/e-2d.gif', writer=\"imagemagick\", fps=15, dpi=200)\n",
    "        elif file_format=='mp4':\n",
    "            anim.save('other/e-2d.mp4', writer=\"mencoder\", fps=15, dpi=200)\n",
    "    plt.show()\n",
    "\n",
    "    "
   ]
  },
  {
   "cell_type": "code",
   "execution_count": 21,
   "metadata": {},
   "outputs": [
    {
     "name": "stdout",
     "output_type": "stream",
     "text": [
      "(60, 10000)\n"
     ]
    },
    {
     "data": {
      "image/png": "[encoded data removed]",
      "text/plain": [
       "<matplotlib.figure.Figure at 0x7fe77edd2828>"
      ]
     },
     "metadata": {},
     "output_type": "display_data"
    },
    {
     "name": "stdout",
     "output_type": "stream",
     "text": [
      "max :  289.097574642\n",
      "0 5000\n",
      "289.097574642\n"
     ]
    },
    {
     "data": {
      "image/png": "[encoded data removed]",
      "text/plain": [
       "<matplotlib.figure.Figure at 0x7fe762f8d6a0>"
      ]
     },
     "metadata": {},
     "output_type": "display_data"
    }
   ],
   "source": [
    "\n",
    "r_E, E_out_list = fdtd.GetOutputs('Ey-slice')\n",
    "x_E, y_E, z_E = [None]*3\n",
    "if n_dim==3:\n",
    "    x_E, y_E, z_E = r_E\n",
    "elif n_dim==2:\n",
    "    x_E, y_E = r_E\n",
    "\n",
    "E_out = np.array(E_out_list).T\n",
    "print(E_out.shape)\n",
    "\n",
    "E_f = np.fft.fftshift(np.fft.fft(E_out))\n",
    "plt.plot(np.abs(E_f))\n",
    "plt.show()\n",
    "\n",
    "print('max : ', np.max(np.abs(E_f)))\n",
    "E_f_abs = np.abs(E_f)\n",
    "ind_max1 = np.argmax(E_f_abs, axis=1)\n",
    "ind_max0 = np.argmax(E_f_abs[np.arange(E_f_abs.shape[0]),ind_max1])\n",
    "ind_max1 = ind_max1[ind_max0]\n",
    "print(ind_max0, ind_max1)\n",
    "print(E_f_abs[(ind_max0, ind_max1)])\n",
    "\n",
    "E_w_r = np.fft.ifftshift(E_f[:,ind_max1])\n",
    "    \n",
    "#plt.plot(np.abs(E_f[:,-1]))\n",
    "plt.plot(np.abs(E_w_r))\n",
    "plt.show()\n",
    "    "
   ]
  },
  {
   "cell_type": "code",
   "execution_count": null,
   "metadata": {
    "collapsed": true
   },
   "outputs": [],
   "source": []
  }
 ],
 "metadata": {
  "kernelspec": {
   "display_name": "Python 3",
   "language": "python",
   "name": "python3"
  },
  "language_info": {
   "codemirror_mode": {
    "name": "ipython",
    "version": 3
   },
   "file_extension": ".py",
   "mimetype": "text/x-python",
   "name": "python",
   "nbconvert_exporter": "python",
   "pygments_lexer": "ipython3",
   "version": "3.6.6"
  }
 },
 "nbformat": 4,
 "nbformat_minor": 1
}
