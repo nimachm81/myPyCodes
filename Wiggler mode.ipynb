{
 "cells": [
  {
   "cell_type": "markdown",
   "metadata": {},
   "source": [
    "### Wiggler mode in a switched plasma"
   ]
  },
  {
   "cell_type": "code",
   "execution_count": 19,
   "metadata": {
    "collapsed": false
   },
   "outputs": [
    {
     "data": {
      "text/latex": [
       "$$E_i = E_{0} e^{i \\omega_0 t - i k z}$$"
      ],
      "text/plain": [
       "<IPython.core.display.Math object>"
      ]
     },
     "metadata": {},
     "output_type": "display_data"
    },
    {
     "data": {
      "text/latex": [
       "$$B_i = \\frac{E_{0}}{\\eta_0} e^{i \\omega_0 t - i k z}$$"
      ],
      "text/plain": [
       "<IPython.core.display.Math object>"
      ]
     },
     "metadata": {},
     "output_type": "display_data"
    },
    {
     "data": {
      "text/latex": [
       "$$E_t = E_{+} e^{i \\omega_1 t - i k z} + E_{-} e^{- i \\omega_1 t - i k z}$$"
      ],
      "text/plain": [
       "<IPython.core.display.Math object>"
      ]
     },
     "metadata": {},
     "output_type": "display_data"
    },
    {
     "data": {
      "text/latex": [
       "$$B_t = B_{s} e^{- i k z} + \\frac{1}{\\eta_0} \\sqrt{1 - \\frac{\\omega_p^{2}}{\\omega_1^{2}}} \\left(E_{+} e^{i \\omega_1 t - i k z} - E_{-} e^{- i \\omega_1 t - i k z}\\right)$$"
      ],
      "text/plain": [
       "<IPython.core.display.Math object>"
      ]
     },
     "metadata": {},
     "output_type": "display_data"
    },
    {
     "data": {
      "text/latex": [
       "$$v_t = v_{s} e^{- i k z} - \\frac{i e}{\\omega_1 m} \\left(E_{+} e^{i \\omega_1 t - i k z} - E_{-} e^{- i \\omega_1 t - i k z}\\right)$$"
      ],
      "text/plain": [
       "<IPython.core.display.Math object>"
      ]
     },
     "metadata": {},
     "output_type": "display_data"
    },
    {
     "data": {
      "text/latex": [
       "$$v_s = \\frac{i B_{s} k}{e n_{0}}$$"
      ],
      "text/plain": [
       "<IPython.core.display.Math object>"
      ]
     },
     "metadata": {},
     "output_type": "display_data"
    },
    {
     "data": {
      "text/latex": [
       "$$eq_1 = E_{+} + E_{-} - E_{0}$$"
      ],
      "text/plain": [
       "<IPython.core.display.Math object>"
      ]
     },
     "metadata": {},
     "output_type": "display_data"
    },
    {
     "data": {
      "text/latex": [
       "$$eq_2 = B_{s} - \\frac{E_{0}}{\\eta_0} + \\frac{1}{\\eta_0} \\sqrt{1 - \\frac{\\omega_p^{2}}{\\omega_1^{2}}} \\left(E_{+} - E_{-}\\right)$$"
      ],
      "text/plain": [
       "<IPython.core.display.Math object>"
      ]
     },
     "metadata": {},
     "output_type": "display_data"
    },
    {
     "data": {
      "text/latex": [
       "$$eq_3 = \\frac{i B_{s} k}{e n_{0}} - \\frac{i e}{\\omega_1 m} \\left(E_{+} - E_{-}\\right)$$"
      ],
      "text/plain": [
       "<IPython.core.display.Math object>"
      ]
     },
     "metadata": {},
     "output_type": "display_data"
    },
    {
     "data": {
      "text/latex": [
       "$$E_{+} = \\frac{E_{0} \\left(\\epsilon_0 \\eta_0 \\omega_p^{2} + \\omega_1 k + k \\sqrt{\\omega_1^{2} - \\omega_p^{2}}\\right)}{2 \\epsilon_0 \\eta_0 \\omega_p^{2} + 2 k \\sqrt{\\omega_1^{2} - \\omega_p^{2}}}$$"
      ],
      "text/plain": [
       "<IPython.core.display.Math object>"
      ]
     },
     "metadata": {},
     "output_type": "display_data"
    },
    {
     "data": {
      "text/latex": [
       "$$E_{-} = \\frac{E_{0} \\left(\\epsilon_0 \\eta_0 \\omega_p^{2} - \\omega_1 k + k \\sqrt{\\omega_1^{2} - \\omega_p^{2}}\\right)}{2 \\epsilon_0 \\eta_0 \\omega_p^{2} + 2 k \\sqrt{\\omega_1^{2} - \\omega_p^{2}}}$$"
      ],
      "text/plain": [
       "<IPython.core.display.Math object>"
      ]
     },
     "metadata": {},
     "output_type": "display_data"
    },
    {
     "data": {
      "text/latex": [
       "$$B_s = \\frac{E_{0} \\epsilon_0 \\omega_p^{2}}{\\epsilon_0 \\eta_0 \\omega_p^{2} + k \\sqrt{\\omega_1^{2} - \\omega_p^{2}}}$$"
      ],
      "text/plain": [
       "<IPython.core.display.Math object>"
      ]
     },
     "metadata": {},
     "output_type": "display_data"
    },
    {
     "data": {
      "text/latex": [
       "$$E_{+} = \\frac{E_{0} \\left(\\epsilon_0 \\eta_0 \\omega_p^{2} + \\omega_1 k + c k^{2}\\right)}{2 \\epsilon_0 \\eta_0 \\omega_p^{2} + 2 c k^{2}}$$"
      ],
      "text/plain": [
       "<IPython.core.display.Math object>"
      ]
     },
     "metadata": {},
     "output_type": "display_data"
    },
    {
     "data": {
      "text/latex": [
       "$$E_{-} = \\frac{E_{0} \\left(\\epsilon_0 \\eta_0 \\omega_p^{2} - \\omega_1 k + c k^{2}\\right)}{2 \\epsilon_0 \\eta_0 \\omega_p^{2} + 2 c k^{2}}$$"
      ],
      "text/plain": [
       "<IPython.core.display.Math object>"
      ]
     },
     "metadata": {},
     "output_type": "display_data"
    },
    {
     "data": {
      "text/latex": [
       "$$B_s = \\frac{E_{0} \\epsilon_0 \\omega_p^{2}}{\\epsilon_0 \\eta_0 \\omega_p^{2} + k^{2}}$$"
      ],
      "text/plain": [
       "<IPython.core.display.Math object>"
      ]
     },
     "metadata": {},
     "output_type": "display_data"
    },
    {
     "data": {
      "text/latex": [
       "$$E_{+} = \\frac{E_{0} \\left(k + k_{1}\\right)}{2 k_{1}}$$"
      ],
      "text/plain": [
       "<IPython.core.display.Math object>"
      ]
     },
     "metadata": {},
     "output_type": "display_data"
    },
    {
     "data": {
      "text/latex": [
       "$$E_{-} = - \\frac{E_{0} \\left(k - k_{1}\\right)}{2 k_{1}}$$"
      ],
      "text/plain": [
       "<IPython.core.display.Math object>"
      ]
     },
     "metadata": {},
     "output_type": "display_data"
    },
    {
     "data": {
      "text/latex": [
       "$$B_s = \\frac{E_{0} \\sqrt{\\epsilon_0} k_{p}^{2}}{\\sqrt{\\epsilon_0} \\mu_0 k^{2} + \\sqrt{\\mu_0} k_{p}^{2}}$$"
      ],
      "text/plain": [
       "<IPython.core.display.Math object>"
      ]
     },
     "metadata": {},
     "output_type": "display_data"
    }
   ],
   "source": [
    "from sympy import *\n",
    "from Electromagnetics.VectorCalculus import *\n",
    "from IPython.display import display, Math, Latex\n",
    "\n",
    "t, z = symbols('t z')\n",
    "k, k_p, k_1 = symbols('k k_p k_1')\n",
    "e, m, n_0 = symbols('e m n_0')\n",
    "eps_0, mu_0, eta_0, c = symbols(r'\\epsilon_0 \\mu_0 \\eta_0 c', real=True, positive=True)\n",
    "\n",
    "omega_0, omega_1, omega_p = symbols(r'\\omega_0 \\omega_1 \\omega_p', real=True, positive=True)\n",
    "\n",
    "E_p0, E_m0 = symbols('E_+ E_-')\n",
    "E0 = symbols('E_0')\n",
    "B_s, v_s = symbols('B_s v_s')\n",
    "\n",
    "E_i = E0*exp(I*omega_0*t - I*k*z)\n",
    "B_i = E0/eta_0*exp(I*omega_0*t - I*k*z)\n",
    "\n",
    "display(Math('E_i = ' + latex(E_i)))\n",
    "display(Math('B_i = ' + latex(B_i)))\n",
    "\n",
    "E_t = E_p0*exp(I*omega_1*t - I*k*z) + E_m0*exp(-I*omega_1*t - I*k*z)\n",
    "B_t = 1/eta_0*sqrt(1-omega_p**2/omega_1**2)*(E_p0*exp(I*omega_1*t - I*k*z) - E_m0*exp(-I*omega_1*t - I*k*z)) + B_s*exp(-I*k*z)\n",
    "display(Math('E_t = ' + latex(E_t)))\n",
    "display(Math('B_t = ' + latex(B_t)))\n",
    "\n",
    "v_t = -I*e/(m*omega_1)*(E_p0*exp(I*omega_1*t - I*k*z) - E_m0*exp(-I*omega_1*t - I*k*z)) + v_s*exp(-I*k*z)\n",
    "display(Math('v_t = ' + latex(v_t)))\n",
    "\n",
    "v_s_sub = I*k*B_s/(e*n_0)\n",
    "display(Math('v_s = ' + latex(v_s_sub)))\n",
    "\n",
    "\n",
    "eq_1 = (E_t - E_i).subs(t, 0).subs(z, 0)\n",
    "eq_2 = (B_t - B_i).subs(t, 0).subs(z, 0)\n",
    "eq_3 = v_t.subs(v_s, v_s_sub).subs(t, 0).subs(z, 0)\n",
    "\n",
    "\n",
    "display(Math('eq_1 = ' + latex(eq_1)))\n",
    "display(Math('eq_2 = ' + latex(eq_2)))\n",
    "display(Math('eq_3 = ' + latex(eq_3)))\n",
    "\n",
    "n_0_sub = eps_0*m*omega_p**2/e**2\n",
    "\n",
    "eq_1 = eq_1.subs(n_0, n_0_sub)\n",
    "eq_2 = eq_2.subs(n_0, n_0_sub)\n",
    "eq_3 = eq_3.subs(n_0, n_0_sub)\n",
    "\n",
    "res = solve([eq_1, eq_2, eq_3], [E_p0, E_m0, B_s])\n",
    "\n",
    "E_p0_sub = res[E_p0]\n",
    "E_m0_sub = res[E_m0]\n",
    "B_s_sub = res[B_s]\n",
    "\n",
    "display(Math('E_{+} = ' + latex(E_p0_sub)))\n",
    "display(Math('E_{-} = ' + latex(E_m0_sub)))\n",
    "display(Math('B_s = ' + latex(B_s_sub)))\n",
    "\n",
    "c_sub = 1/sqrt(mu_0*eps_0)\n",
    "eta_0_sub = sqrt(mu_0/eps_0)\n",
    "\n",
    "E_p0_sub = E_p0_sub.subs(sqrt(omega_1**2 - omega_p**2), k*c).subs(k**2*c**2+omega_p**2, omega_1**2).simplify()\n",
    "E_m0_sub = E_m0_sub.subs(sqrt(omega_1**2 - omega_p**2), k*c).subs(k**2*c**2+omega_p**2, omega_1**2).simplify()\n",
    "B_s_sub = B_s_sub.subs(sqrt(omega_1**2 - omega_p**2), k).simplify()\n",
    "\n",
    "display(Math('E_{+} = ' + latex(E_p0_sub)))\n",
    "display(Math('E_{-} = ' + latex(E_m0_sub)))\n",
    "display(Math('B_s = ' + latex(B_s_sub)))\n",
    "\n",
    "E_p0_sub = E_p0_sub.subs([(omega_p, k_p*c), (omega_1, k_1*c)]).subs(c, c_sub).subs(eta_0, eta_0_sub).simplify().subs(k**2+k_p**2, k_1**2).simplify()\n",
    "E_m0_sub = E_m0_sub.subs([(omega_p, k_p*c), (omega_1, k_1*c)]).subs(c, c_sub).subs(eta_0, eta_0_sub).simplify().subs(k**2+k_p**2, k_1**2).simplify()\n",
    "B_s_sub = B_s_sub.subs([(omega_p, k_p*c), (omega_1, k_1*c)]).subs(c, c_sub).subs(eta_0, eta_0_sub).simplify().subs(k**2+k_p**2, k_1**2).simplify()\n",
    "\n",
    "display(Math('E_{+} = ' + latex(E_p0_sub)))\n",
    "display(Math('E_{-} = ' + latex(E_m0_sub)))\n",
    "display(Math('B_s = ' + latex(B_s_sub)))\n",
    "\n"
   ]
  },
  {
   "cell_type": "code",
   "execution_count": null,
   "metadata": {
    "collapsed": true
   },
   "outputs": [],
   "source": []
  }
 ],
 "metadata": {
  "kernelspec": {
   "display_name": "Python 3",
   "language": "python",
   "name": "python3"
  },
  "language_info": {
   "codemirror_mode": {
    "name": "ipython",
    "version": 3
   },
   "file_extension": ".py",
   "mimetype": "text/x-python",
   "name": "python",
   "nbconvert_exporter": "python",
   "pygments_lexer": "ipython3",
   "version": "3.5.2"
  }
 },
 "nbformat": 4,
 "nbformat_minor": 1
}
