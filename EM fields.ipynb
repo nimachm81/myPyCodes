{
 "cells": [
  {
   "cell_type": "markdown",
   "metadata": {},
   "source": [
    "### A ---> E, H in rectangular system"
   ]
  },
  {
   "cell_type": "code",
   "execution_count": 7,
   "metadata": {
    "collapsed": false
   },
   "outputs": [
    {
     "data": {
      "text/latex": [
       "$$A = \\left[\\begin{matrix}\\operatorname{A_{x}}{\\left (x,y,z \\right )} & \\operatorname{A_{y}}{\\left (x,y,z \\right )} & \\operatorname{A_{z}}{\\left (x,y,z \\right )}\\end{matrix}\\right]$$"
      ],
      "text/plain": [
       "<IPython.core.display.Math object>"
      ]
     },
     "metadata": {},
     "output_type": "display_data"
    },
    {
     "data": {
      "text/latex": [
       "$$E = \\left[\\begin{matrix}- \\frac{i}{\\epsilon \\mu \\omega} \\left(\\epsilon \\mu \\omega^{2} \\operatorname{A_{x}}{\\left (x,y,z \\right )} + \\frac{\\partial^{2}}{\\partial x^{2}}  \\operatorname{A_{x}}{\\left (x,y,z \\right )} + \\frac{\\partial^{2}}{\\partial x\\partial y}  \\operatorname{A_{y}}{\\left (x,y,z \\right )} + \\frac{\\partial^{2}}{\\partial x\\partial z}  \\operatorname{A_{z}}{\\left (x,y,z \\right )}\\right)\\\\- \\frac{i}{\\epsilon \\mu \\omega} \\left(\\epsilon \\mu \\omega^{2} \\operatorname{A_{y}}{\\left (x,y,z \\right )} + \\frac{\\partial^{2}}{\\partial x\\partial y}  \\operatorname{A_{x}}{\\left (x,y,z \\right )} + \\frac{\\partial^{2}}{\\partial y^{2}}  \\operatorname{A_{y}}{\\left (x,y,z \\right )} + \\frac{\\partial^{2}}{\\partial y\\partial z}  \\operatorname{A_{z}}{\\left (x,y,z \\right )}\\right)\\\\- \\frac{i}{\\epsilon \\mu \\omega} \\left(\\epsilon \\mu \\omega^{2} \\operatorname{A_{z}}{\\left (x,y,z \\right )} + \\frac{\\partial^{2}}{\\partial x\\partial z}  \\operatorname{A_{x}}{\\left (x,y,z \\right )} + \\frac{\\partial^{2}}{\\partial y\\partial z}  \\operatorname{A_{y}}{\\left (x,y,z \\right )} + \\frac{\\partial^{2}}{\\partial z^{2}}  \\operatorname{A_{z}}{\\left (x,y,z \\right )}\\right)\\end{matrix}\\right]$$"
      ],
      "text/plain": [
       "<IPython.core.display.Math object>"
      ]
     },
     "metadata": {},
     "output_type": "display_data"
    },
    {
     "data": {
      "text/latex": [
       "$$H = \\left[\\begin{matrix}\\frac{1}{\\mu} \\left(- \\frac{\\partial}{\\partial z} \\operatorname{A_{y}}{\\left (x,y,z \\right )} + \\frac{\\partial}{\\partial y} \\operatorname{A_{z}}{\\left (x,y,z \\right )}\\right)\\\\\\frac{1}{\\mu} \\left(\\frac{\\partial}{\\partial z} \\operatorname{A_{x}}{\\left (x,y,z \\right )} - \\frac{\\partial}{\\partial x} \\operatorname{A_{z}}{\\left (x,y,z \\right )}\\right)\\\\\\frac{1}{\\mu} \\left(- \\frac{\\partial}{\\partial y} \\operatorname{A_{x}}{\\left (x,y,z \\right )} + \\frac{\\partial}{\\partial x} \\operatorname{A_{y}}{\\left (x,y,z \\right )}\\right)\\end{matrix}\\right]$$"
      ],
      "text/plain": [
       "<IPython.core.display.Math object>"
      ]
     },
     "metadata": {},
     "output_type": "display_data"
    }
   ],
   "source": [
    "from sympy import *\n",
    "from Electromagnetics.EMFields_sym import EMFields\n",
    "from IPython.display import display, Math, Latex\n",
    "from Electromagnetics import Misc\n",
    "\n",
    "x, y, z = symbols('x y z')\n",
    "\n",
    "EM = EMFields()\n",
    "\n",
    "Ax = Function('A_x')(x, y, z)\n",
    "Ay = Function('A_y')(x, y, z)\n",
    "Az = Function('A_z')(x, y, z)\n",
    "\n",
    "A = Matrix([[Ax, Ay, Az]])\n",
    "display(Math(r'A = ' + latex(A)))\n",
    "\n",
    "E = Misc.SymMatrixSimplify(Misc.SymMatrixdoit(EM.GetE_VecPotElec(A)))\n",
    "display(Math(r'E = ' + latex(E.T)))\n",
    "\n",
    "H = Misc.SymMatrixSimplify(Misc.SymMatrixdoit(EM.GetH_VecPotElec(A)))\n",
    "display(Math(r'H = ' + latex(H.T)))\n",
    "\n"
   ]
  },
  {
   "cell_type": "markdown",
   "metadata": {},
   "source": [
    "### A ---> E, H in cylindrical system"
   ]
  },
  {
   "cell_type": "code",
   "execution_count": 3,
   "metadata": {
    "collapsed": false
   },
   "outputs": [
    {
     "data": {
      "text/latex": [
       "$$A = \\left[\\begin{matrix}\\operatorname{A_{{\\rho}}}{\\left (\\rho,\\phi,z \\right )} & \\operatorname{A_{{\\phi}}}{\\left (\\rho,\\phi,z \\right )} & \\operatorname{A_{z}}{\\left (\\rho,\\phi,z \\right )}\\end{matrix}\\right]$$"
      ],
      "text/plain": [
       "<IPython.core.display.Math object>"
      ]
     },
     "metadata": {},
     "output_type": "display_data"
    },
    {
     "data": {
      "text/latex": [
       "$$E = \\left[\\begin{matrix}\\frac{i}{\\epsilon \\mu \\omega \\rho^{2}} \\left(- \\epsilon \\mu \\omega^{2} \\rho^{2} \\operatorname{A_{{\\rho}}}{\\left (\\rho,\\phi,z \\right )} - \\rho^{2} \\frac{\\partial^{2}}{\\partial \\rho\\partial z}  \\operatorname{A_{z}}{\\left (\\rho,\\phi,z \\right )} - \\rho^{2} \\frac{\\partial^{2}}{\\partial \\rho^{2}}  \\operatorname{A_{{\\rho}}}{\\left (\\rho,\\phi,z \\right )} - \\rho \\frac{\\partial}{\\partial \\rho} \\operatorname{A_{{\\rho}}}{\\left (\\rho,\\phi,z \\right )} - \\rho \\frac{\\partial^{2}}{\\partial \\phi\\partial \\rho}  \\operatorname{A_{{\\phi}}}{\\left (\\rho,\\phi,z \\right )} + \\operatorname{A_{{\\rho}}}{\\left (\\rho,\\phi,z \\right )} + \\frac{\\partial}{\\partial \\phi} \\operatorname{A_{{\\phi}}}{\\left (\\rho,\\phi,z \\right )}\\right)\\\\- \\frac{i}{\\epsilon \\mu \\omega \\rho^{2}} \\left(\\epsilon \\mu \\omega^{2} \\rho^{2} \\operatorname{A_{{\\phi}}}{\\left (\\rho,\\phi,z \\right )} + \\rho \\frac{\\partial^{2}}{\\partial \\phi\\partial z}  \\operatorname{A_{z}}{\\left (\\rho,\\phi,z \\right )} + \\rho \\frac{\\partial^{2}}{\\partial \\phi\\partial \\rho}  \\operatorname{A_{{\\rho}}}{\\left (\\rho,\\phi,z \\right )} + \\frac{\\partial}{\\partial \\phi} \\operatorname{A_{{\\rho}}}{\\left (\\rho,\\phi,z \\right )} + \\frac{\\partial^{2}}{\\partial \\phi^{2}}  \\operatorname{A_{{\\phi}}}{\\left (\\rho,\\phi,z \\right )}\\right)\\\\- \\frac{i}{\\epsilon \\mu \\omega \\rho} \\left(\\epsilon \\mu \\omega^{2} \\rho \\operatorname{A_{z}}{\\left (\\rho,\\phi,z \\right )} + \\rho \\frac{\\partial^{2}}{\\partial z^{2}}  \\operatorname{A_{z}}{\\left (\\rho,\\phi,z \\right )} + \\rho \\frac{\\partial^{2}}{\\partial \\rho\\partial z}  \\operatorname{A_{{\\rho}}}{\\left (\\rho,\\phi,z \\right )} + \\frac{\\partial}{\\partial z} \\operatorname{A_{{\\rho}}}{\\left (\\rho,\\phi,z \\right )} + \\frac{\\partial^{2}}{\\partial \\phi\\partial z}  \\operatorname{A_{{\\phi}}}{\\left (\\rho,\\phi,z \\right )}\\right)\\end{matrix}\\right]$$"
      ],
      "text/plain": [
       "<IPython.core.display.Math object>"
      ]
     },
     "metadata": {},
     "output_type": "display_data"
    },
    {
     "data": {
      "text/latex": [
       "$$H = \\left[\\begin{matrix}\\frac{1}{\\mu \\rho} \\left(- \\rho \\frac{\\partial}{\\partial z} \\operatorname{A_{{\\phi}}}{\\left (\\rho,\\phi,z \\right )} + \\frac{\\partial}{\\partial \\phi} \\operatorname{A_{z}}{\\left (\\rho,\\phi,z \\right )}\\right)\\\\\\frac{1}{\\mu} \\left(- \\frac{\\partial}{\\partial \\rho} \\operatorname{A_{z}}{\\left (\\rho,\\phi,z \\right )} + \\frac{\\partial}{\\partial z} \\operatorname{A_{{\\rho}}}{\\left (\\rho,\\phi,z \\right )}\\right)\\\\\\frac{1}{\\mu \\rho} \\left(\\rho \\frac{\\partial}{\\partial \\rho} \\operatorname{A_{{\\phi}}}{\\left (\\rho,\\phi,z \\right )} + \\operatorname{A_{{\\phi}}}{\\left (\\rho,\\phi,z \\right )} - \\frac{\\partial}{\\partial \\phi} \\operatorname{A_{{\\rho}}}{\\left (\\rho,\\phi,z \\right )}\\right)\\end{matrix}\\right]$$"
      ],
      "text/plain": [
       "<IPython.core.display.Math object>"
      ]
     },
     "metadata": {},
     "output_type": "display_data"
    }
   ],
   "source": [
    "from sympy import *\n",
    "from Electromagnetics.EMFields_sym import EMFields, CoordSys\n",
    "from IPython.display import display, Math, Latex\n",
    "from Electromagnetics import Misc\n",
    "\n",
    "rho, phi, z = symbols(r'\\rho \\phi z')\n",
    "\n",
    "EM = EMFields(coord=CoordSys.cylindrical)\n",
    "\n",
    "Arho = Function(r'A_{\\rho}')(rho, phi, z)\n",
    "Aphi = Function(r'A_{\\phi}')(rho, phi, z)\n",
    "Az = Function(r'A_z')(rho, phi, z)\n",
    "\n",
    "A = Matrix([[Arho, Aphi, Az]])\n",
    "display(Math(r'A = ' + latex(A)))\n",
    "\n",
    "E = Misc.SymMatrixSimplify(Misc.SymMatrixdoit(EM.GetE_VecPotElec(A)))\n",
    "display(Math(r'E = ' + latex(E.T)))\n",
    "\n",
    "H = Misc.SymMatrixSimplify(Misc.SymMatrixdoit(EM.GetH_VecPotElec(A)))\n",
    "display(Math(r'H = ' + latex(H.T)))\n"
   ]
  },
  {
   "cell_type": "markdown",
   "metadata": {},
   "source": [
    "### E and H in cylindrical coordiate for a z directed 2D current source"
   ]
  },
  {
   "cell_type": "code",
   "execution_count": 3,
   "metadata": {
    "collapsed": false
   },
   "outputs": [
    {
     "data": {
      "text/latex": [
       "$$A = \\left[\\begin{matrix}0 & 0 & - \\frac{i \\mu}{4} H^{(2)}_{0}\\left(\\rho k\\right)\\end{matrix}\\right]$$"
      ],
      "text/plain": [
       "<IPython.core.display.Math object>"
      ]
     },
     "metadata": {},
     "output_type": "display_data"
    },
    {
     "data": {
      "text/latex": [
       "$$E = \\left[\\begin{matrix}0\\\\0\\\\- \\frac{\\mu \\omega}{4} H^{(2)}_{0}\\left(\\rho k\\right)\\end{matrix}\\right]$$"
      ],
      "text/plain": [
       "<IPython.core.display.Math object>"
      ]
     },
     "metadata": {},
     "output_type": "display_data"
    },
    {
     "data": {
      "text/latex": [
       "$$H = \\left[\\begin{matrix}0\\\\\\frac{i k}{8} \\left(H^{(2)}_{-1}\\left(\\rho k\\right) - H^{(2)}_{1}\\left(\\rho k\\right)\\right)\\\\0\\end{matrix}\\right]$$"
      ],
      "text/plain": [
       "<IPython.core.display.Math object>"
      ]
     },
     "metadata": {},
     "output_type": "display_data"
    }
   ],
   "source": [
    "from sympy import *\n",
    "from Electromagnetics.EMFields_sym import EMFields, CoordSys, GetScalarGreen2D\n",
    "from IPython.display import display, Math, Latex\n",
    "from Electromagnetics import Misc\n",
    "\n",
    "rho, phi, z = symbols(r'\\rho \\phi z')\n",
    "\n",
    "EM = EMFields(coord=CoordSys.cylindrical)\n",
    "\n",
    "Az = EM.mu*GetScalarGreen2D()\n",
    "A = Matrix([[0, 0, Az]])\n",
    "display(Math(r'A = ' + latex(A)))\n",
    "\n",
    "E = Misc.SymMatrixSimplify(Misc.SymMatrixdoit(EM.GetE_VecPotElec(A)))\n",
    "display(Math(r'E = ' + latex(E.T)))\n",
    "\n",
    "H = Misc.SymMatrixSimplify(Misc.SymMatrixdoit(EM.GetH_VecPotElec(A)))\n",
    "display(Math(r'H = ' + latex(H.T)))\n",
    "\n"
   ]
  },
  {
   "cell_type": "markdown",
   "metadata": {},
   "source": [
    "### E and H for a 2D current source"
   ]
  },
  {
   "cell_type": "code",
   "execution_count": 1,
   "metadata": {
    "collapsed": false
   },
   "outputs": [
    {
     "data": {
      "text/latex": [
       "$$A = \\left[\\begin{matrix}- \\frac{i J_{x}}{4} \\mu H^{(2)}_{0}\\left(\\rho k\\right) & - \\frac{i J_{y}}{4} \\mu H^{(2)}_{0}\\left(\\rho k\\right) & - \\frac{i J_{z}}{4} \\mu H^{(2)}_{0}\\left(\\rho k\\right)\\end{matrix}\\right]$$"
      ],
      "text/plain": [
       "<IPython.core.display.Math object>"
      ]
     },
     "metadata": {},
     "output_type": "display_data"
    },
    {
     "data": {
      "text/latex": [
       "$$A = \\left[\\begin{matrix}- \\frac{i J_{x}}{4} \\mu H^{(2)}_{0}\\left(k \\sqrt{x^{2} + y^{2}}\\right) & - \\frac{i J_{y}}{4} \\mu H^{(2)}_{0}\\left(k \\sqrt{x^{2} + y^{2}}\\right) & - \\frac{i J_{z}}{4} \\mu H^{(2)}_{0}\\left(k \\sqrt{x^{2} + y^{2}}\\right)\\end{matrix}\\right]$$"
      ],
      "text/plain": [
       "<IPython.core.display.Math object>"
      ]
     },
     "metadata": {},
     "output_type": "display_data"
    },
    {
     "data": {
      "text/latex": [
       "$$E = \\left[\\begin{matrix}- \\frac{1}{16 \\epsilon \\omega \\rho^{6}} \\left(4 J_{x} \\epsilon \\mu \\omega^{2} \\rho^{6} H^{(2)}_{0}\\left(\\rho k\\right) + k \\left(2 J_{x} \\rho^{5} \\left(H^{(2)}_{-1}\\left(\\rho k\\right) - H^{(2)}_{1}\\left(\\rho k\\right)\\right) + \\rho^{4} k x \\left(J_{x} x + J_{y} y\\right) \\left(H^{(2)}_{-2}\\left(\\rho k\\right) - 2 H^{(2)}_{0}\\left(\\rho k\\right) + H^{(2)}_{2}\\left(\\rho k\\right)\\right) - 2 \\rho^{3} x \\left(J_{x} x + J_{y} y\\right) \\left(H^{(2)}_{-1}\\left(\\rho k\\right) - H^{(2)}_{1}\\left(\\rho k\\right)\\right)\\right)\\right)\\\\- \\frac{1}{16 \\epsilon \\omega \\rho^{6}} \\left(4 J_{y} \\epsilon \\mu \\omega^{2} \\rho^{6} H^{(2)}_{0}\\left(\\rho k\\right) + k \\left(2 J_{y} \\rho^{5} \\left(H^{(2)}_{-1}\\left(\\rho k\\right) - H^{(2)}_{1}\\left(\\rho k\\right)\\right) + \\rho^{4} k y \\left(J_{x} x + J_{y} y\\right) \\left(H^{(2)}_{-2}\\left(\\rho k\\right) - 2 H^{(2)}_{0}\\left(\\rho k\\right) + H^{(2)}_{2}\\left(\\rho k\\right)\\right) - 2 \\rho^{3} y \\left(J_{x} x + J_{y} y\\right) \\left(H^{(2)}_{-1}\\left(\\rho k\\right) - H^{(2)}_{1}\\left(\\rho k\\right)\\right)\\right)\\right)\\\\- \\frac{J_{z} \\mu}{4} \\omega H^{(2)}_{0}\\left(\\rho k\\right)\\end{matrix}\\right]$$"
      ],
      "text/plain": [
       "<IPython.core.display.Math object>"
      ]
     },
     "metadata": {},
     "output_type": "display_data"
    },
    {
     "data": {
      "text/latex": [
       "$$H = \\left[\\begin{matrix}- \\frac{i J_{z} k y}{8 \\rho} \\left(H^{(2)}_{-1}\\left(\\rho k\\right) - H^{(2)}_{1}\\left(\\rho k\\right)\\right)\\\\\\frac{i J_{z} k x}{8 \\rho} \\left(H^{(2)}_{-1}\\left(\\rho k\\right) - H^{(2)}_{1}\\left(\\rho k\\right)\\right)\\\\\\frac{i k}{8 \\rho} \\left(J_{x} y - J_{y} x\\right) \\left(H^{(2)}_{-1}\\left(\\rho k\\right) - H^{(2)}_{1}\\left(\\rho k\\right)\\right)\\end{matrix}\\right]$$"
      ],
      "text/plain": [
       "<IPython.core.display.Math object>"
      ]
     },
     "metadata": {},
     "output_type": "display_data"
    },
    {
     "name": "stdout",
     "output_type": "stream",
     "text": [
      "E[0] +=  (-(4*J_x*epsilon*mu*omega**2*rho**6*hankel2(0, rho*k) + k*(2*J_x*rho**5*(hankel2(-1, rho*k) - hankel2(1, rho*k)) + rho**4*k*x*(J_x*x + J_y*y)*(hankel2(-2, rho*k) - 2*hankel2(0, rho*k) + hankel2(2, rho*k)) - 2*rho**3*x*(J_x*x + J_y*y)*(hankel2(-1, rho*k) - hankel2(1, rho*k))))/(16*epsilon*omega*rho**6))\n",
      "E[1] +=  (-(4*J_y*epsilon*mu*omega**2*rho**6*hankel2(0, rho*k) + k*(2*J_y*rho**5*(hankel2(-1, rho*k) - hankel2(1, rho*k)) + rho**4*k*y*(J_x*x + J_y*y)*(hankel2(-2, rho*k) - 2*hankel2(0, rho*k) + hankel2(2, rho*k)) - 2*rho**3*y*(J_x*x + J_y*y)*(hankel2(-1, rho*k) - hankel2(1, rho*k))))/(16*epsilon*omega*rho**6))\n",
      "E[2] +=  (-J_z*mu*omega*hankel2(0, rho*k)/4)\n",
      "H[0] +=  (-1j*J_z*k*y*(hankel2(-1, rho*k) - hankel2(1, rho*k))/(8*rho))\n",
      "H[1] +=  (1j*J_z*k*x*(hankel2(-1, rho*k) - hankel2(1, rho*k))/(8*rho))\n",
      "H[2] +=  (1j*k*(J_x*y - J_y*x)*(hankel2(-1, rho*k) - hankel2(1, rho*k))/(8*rho))\n"
     ]
    }
   ],
   "source": [
    "from sympy import *\n",
    "from Electromagnetics.EMFields_sym import EMFields, CoordSys, GetScalarGreen2D\n",
    "from IPython.display import display, Math, Latex\n",
    "from Electromagnetics import Misc\n",
    "from sympy.utilities.lambdify import lambdastr\n",
    "\n",
    "rho, phi, z = symbols(r'\\rho \\phi z')\n",
    "x, y, z = symbols('x y z')\n",
    "\n",
    "EM = EMFields(coord=CoordSys.rectangular)\n",
    "\n",
    "Jx = Symbol('J_x')\n",
    "Jy = Symbol('J_y')\n",
    "Jz = Symbol('J_z')\n",
    "\n",
    "Ax = Jx*EM.mu*GetScalarGreen2D()\n",
    "Ay = Jy*EM.mu*GetScalarGreen2D()\n",
    "Az = Jz*EM.mu*GetScalarGreen2D()\n",
    "\n",
    "A = Matrix([[Ax, Ay, Az]])\n",
    "display(Math(r'A = ' + latex(A)))\n",
    "A = A.subs(rho, sqrt(x**2 + y**2))\n",
    "display(Math(r'A = ' + latex(A)))\n",
    "\n",
    "\n",
    "E = Misc.SymMatrixSimplify(Misc.SymMatrixdoit(EM.GetE_VecPotElec(A))).subs(sqrt(x**2 + y**2), rho)\n",
    "display(Math(r'E = ' + latex(E.T)))\n",
    "\n",
    "H = Misc.SymMatrixSimplify(Misc.SymMatrixdoit(EM.GetH_VecPotElec(A))).subs(sqrt(x**2 + y**2), rho)\n",
    "display(Math(r'H = ' + latex(H.T)))\n",
    "\n",
    "for i in range(3):\n",
    "    Ei_str = lambdastr((), E[i]).replace('\\\\', '').replace('{', '').replace('}', '')\n",
    "    Ei_str = Misc.replace_whole_word(Ei_str, 'lambda : ', '')\n",
    "    Ei_str = Misc.replace_whole_word(Ei_str, 'I', '1j')\n",
    "    #Ei_str = Misc.replace_whole_word(Ei_str, 'hankel2', 'np.hankel2')\n",
    "    print('E[{}] += '.format(i), Ei_str)\n",
    "\n",
    "for i in range(3):\n",
    "    Hi_str = lambdastr((), H[i]).replace('\\\\', '').replace('{', '').replace('}', '')\n",
    "    Hi_str = Misc.replace_whole_word(Hi_str, 'lambda : ', '')\n",
    "    Hi_str = Misc.replace_whole_word(Hi_str, 'I', '1j')\n",
    "    #Hi_str = Misc.replace_whole_word(Hi_str, 'hankel2', 'np.hankel2')\n",
    "    print('H[{}] += '.format(i), Hi_str)\n",
    "\n"
   ]
  },
  {
   "cell_type": "code",
   "execution_count": 2,
   "metadata": {
    "collapsed": false
   },
   "outputs": [
    {
     "data": {
      "text/latex": [
       "$$F = \\left[\\begin{matrix}- \\frac{i M_{x}}{4} \\mu H^{(2)}_{0}\\left(\\rho k\\right) & - \\frac{i M_{y}}{4} \\mu H^{(2)}_{0}\\left(\\rho k\\right) & - \\frac{i M_{z}}{4} \\mu H^{(2)}_{0}\\left(\\rho k\\right)\\end{matrix}\\right]$$"
      ],
      "text/plain": [
       "<IPython.core.display.Math object>"
      ]
     },
     "metadata": {},
     "output_type": "display_data"
    },
    {
     "data": {
      "text/latex": [
       "$$F = \\left[\\begin{matrix}- \\frac{i M_{x}}{4} \\mu H^{(2)}_{0}\\left(k \\sqrt{x^{2} + y^{2}}\\right) & - \\frac{i M_{y}}{4} \\mu H^{(2)}_{0}\\left(k \\sqrt{x^{2} + y^{2}}\\right) & - \\frac{i M_{z}}{4} \\mu H^{(2)}_{0}\\left(k \\sqrt{x^{2} + y^{2}}\\right)\\end{matrix}\\right]$$"
      ],
      "text/plain": [
       "<IPython.core.display.Math object>"
      ]
     },
     "metadata": {},
     "output_type": "display_data"
    },
    {
     "data": {
      "text/latex": [
       "$$E = \\left[\\begin{matrix}\\frac{i M_{z} \\mu k y}{8 \\epsilon \\rho} \\left(H^{(2)}_{-1}\\left(\\rho k\\right) - H^{(2)}_{1}\\left(\\rho k\\right)\\right)\\\\- \\frac{i M_{z} \\mu k x}{8 \\epsilon \\rho} \\left(H^{(2)}_{-1}\\left(\\rho k\\right) - H^{(2)}_{1}\\left(\\rho k\\right)\\right)\\\\\\frac{i \\mu k}{8 \\epsilon \\rho} \\left(- M_{x} y + M_{y} x\\right) \\left(H^{(2)}_{-1}\\left(\\rho k\\right) - H^{(2)}_{1}\\left(\\rho k\\right)\\right)\\end{matrix}\\right]$$"
      ],
      "text/plain": [
       "<IPython.core.display.Math object>"
      ]
     },
     "metadata": {},
     "output_type": "display_data"
    },
    {
     "data": {
      "text/latex": [
       "$$H = \\left[\\begin{matrix}- \\frac{1}{16 \\epsilon \\omega \\rho^{6}} \\left(4 M_{x} \\epsilon \\mu \\omega^{2} \\rho^{6} H^{(2)}_{0}\\left(\\rho k\\right) + k \\left(2 M_{x} \\rho^{5} \\left(H^{(2)}_{-1}\\left(\\rho k\\right) - H^{(2)}_{1}\\left(\\rho k\\right)\\right) + \\rho^{4} k x \\left(M_{x} x + M_{y} y\\right) \\left(H^{(2)}_{-2}\\left(\\rho k\\right) - 2 H^{(2)}_{0}\\left(\\rho k\\right) + H^{(2)}_{2}\\left(\\rho k\\right)\\right) - 2 \\rho^{3} x \\left(M_{x} x + M_{y} y\\right) \\left(H^{(2)}_{-1}\\left(\\rho k\\right) - H^{(2)}_{1}\\left(\\rho k\\right)\\right)\\right)\\right)\\\\- \\frac{1}{16 \\epsilon \\omega \\rho^{6}} \\left(4 M_{y} \\epsilon \\mu \\omega^{2} \\rho^{6} H^{(2)}_{0}\\left(\\rho k\\right) + k \\left(2 M_{y} \\rho^{5} \\left(H^{(2)}_{-1}\\left(\\rho k\\right) - H^{(2)}_{1}\\left(\\rho k\\right)\\right) + \\rho^{4} k y \\left(M_{x} x + M_{y} y\\right) \\left(H^{(2)}_{-2}\\left(\\rho k\\right) - 2 H^{(2)}_{0}\\left(\\rho k\\right) + H^{(2)}_{2}\\left(\\rho k\\right)\\right) - 2 \\rho^{3} y \\left(M_{x} x + M_{y} y\\right) \\left(H^{(2)}_{-1}\\left(\\rho k\\right) - H^{(2)}_{1}\\left(\\rho k\\right)\\right)\\right)\\right)\\\\- \\frac{M_{z} \\mu}{4} \\omega H^{(2)}_{0}\\left(\\rho k\\right)\\end{matrix}\\right]$$"
      ],
      "text/plain": [
       "<IPython.core.display.Math object>"
      ]
     },
     "metadata": {},
     "output_type": "display_data"
    },
    {
     "name": "stdout",
     "output_type": "stream",
     "text": [
      "E[0] +=  (1j*M_z*mu*k*y*(hankel2(-1, rho*k) - hankel2(1, rho*k))/(8*epsilon*rho))\n",
      "E[1] +=  (-1j*M_z*mu*k*x*(hankel2(-1, rho*k) - hankel2(1, rho*k))/(8*epsilon*rho))\n",
      "E[2] +=  (1j*mu*k*(-M_x*y + M_y*x)*(hankel2(-1, rho*k) - hankel2(1, rho*k))/(8*epsilon*rho))\n",
      "H[0] +=  (-(4*M_x*epsilon*mu*omega**2*rho**6*hankel2(0, rho*k) + k*(2*M_x*rho**5*(hankel2(-1, rho*k) - hankel2(1, rho*k)) + rho**4*k*x*(M_x*x + M_y*y)*(hankel2(-2, rho*k) - 2*hankel2(0, rho*k) + hankel2(2, rho*k)) - 2*rho**3*x*(M_x*x + M_y*y)*(hankel2(-1, rho*k) - hankel2(1, rho*k))))/(16*epsilon*omega*rho**6))\n",
      "H[1] +=  (-(4*M_y*epsilon*mu*omega**2*rho**6*hankel2(0, rho*k) + k*(2*M_y*rho**5*(hankel2(-1, rho*k) - hankel2(1, rho*k)) + rho**4*k*y*(M_x*x + M_y*y)*(hankel2(-2, rho*k) - 2*hankel2(0, rho*k) + hankel2(2, rho*k)) - 2*rho**3*y*(M_x*x + M_y*y)*(hankel2(-1, rho*k) - hankel2(1, rho*k))))/(16*epsilon*omega*rho**6))\n",
      "H[2] +=  (-M_z*mu*omega*hankel2(0, rho*k)/4)\n"
     ]
    }
   ],
   "source": [
    "##magnetic current\n",
    "\n",
    "from sympy import *\n",
    "from Electromagnetics.EMFields_sym import EMFields, CoordSys, GetScalarGreen2D\n",
    "from IPython.display import display, Math, Latex\n",
    "from Electromagnetics import Misc\n",
    "from sympy.utilities.lambdify import lambdastr\n",
    "\n",
    "rho, phi, z = symbols(r'\\rho \\phi z')\n",
    "x, y, z = symbols('x y z')\n",
    "\n",
    "EM = EMFields(coord=CoordSys.rectangular)\n",
    "\n",
    "Mx = Symbol('M_x')\n",
    "My = Symbol('M_y')\n",
    "Mz = Symbol('M_z')\n",
    "\n",
    "Fx = Mx*EM.mu*GetScalarGreen2D()\n",
    "Fy = My*EM.mu*GetScalarGreen2D()\n",
    "Fz = Mz*EM.mu*GetScalarGreen2D()\n",
    "\n",
    "F = Matrix([[Fx, Fy, Fz]])\n",
    "display(Math(r'F = ' + latex(F)))\n",
    "F = F.subs(rho, sqrt(x**2 + y**2))\n",
    "display(Math(r'F = ' + latex(F)))\n",
    "\n",
    "\n",
    "E = Misc.SymMatrixSimplify(Misc.SymMatrixdoit(EM.GetE_VecPotMag(F))).subs(sqrt(x**2 + y**2), rho)\n",
    "display(Math(r'E = ' + latex(E.T)))\n",
    "\n",
    "H = Misc.SymMatrixSimplify(Misc.SymMatrixdoit(EM.GetH_VecPotMag(F))).subs(sqrt(x**2 + y**2), rho)\n",
    "display(Math(r'H = ' + latex(H.T)))\n",
    "\n",
    "for i in range(3):\n",
    "    Ei_str = lambdastr((), E[i]).replace('\\\\', '').replace('{', '').replace('}', '')\n",
    "    Ei_str = Misc.replace_whole_word(Ei_str, 'lambda : ', '')\n",
    "    Ei_str = Misc.replace_whole_word(Ei_str, 'I', '1j')\n",
    "    #Ei_str = Misc.replace_whole_word(Ei_str, 'hankel2', 'np.hankel2')\n",
    "    print('E[{}] += '.format(i), Ei_str)\n",
    "\n",
    "for i in range(3):\n",
    "    Hi_str = lambdastr((), H[i]).replace('\\\\', '').replace('{', '').replace('}', '')\n",
    "    Hi_str = Misc.replace_whole_word(Hi_str, 'lambda : ', '')\n",
    "    Hi_str = Misc.replace_whole_word(Hi_str, 'I', '1j')\n",
    "    #Hi_str = Misc.replace_whole_word(Hi_str, 'hankel2', 'np.hankel2')\n",
    "    print('H[{}] += '.format(i), Hi_str)\n",
    "\n"
   ]
  },
  {
   "cell_type": "markdown",
   "metadata": {},
   "source": [
    "### E and H for a 3D current source"
   ]
  },
  {
   "cell_type": "code",
   "execution_count": 3,
   "metadata": {
    "collapsed": false
   },
   "outputs": [
    {
     "data": {
      "text/latex": [
       "$$A = \\left[\\begin{matrix}\\frac{J_{x} \\mu e^{- i k r}}{4 \\pi r} & \\frac{J_{y} \\mu e^{- i k r}}{4 \\pi r} & \\frac{J_{z} \\mu e^{- i k r}}{4 \\pi r}\\end{matrix}\\right]$$"
      ],
      "text/plain": [
       "<IPython.core.display.Math object>"
      ]
     },
     "metadata": {},
     "output_type": "display_data"
    },
    {
     "data": {
      "text/latex": [
       "$$A = \\left[\\begin{matrix}\\frac{J_{x} \\mu e^{- i k \\sqrt{x^{2} + y^{2} + z^{2}}}}{4 \\pi \\sqrt{x^{2} + y^{2} + z^{2}}} & \\frac{J_{y} \\mu e^{- i k \\sqrt{x^{2} + y^{2} + z^{2}}}}{4 \\pi \\sqrt{x^{2} + y^{2} + z^{2}}} & \\frac{J_{z} \\mu e^{- i k \\sqrt{x^{2} + y^{2} + z^{2}}}}{4 \\pi \\sqrt{x^{2} + y^{2} + z^{2}}}\\end{matrix}\\right]$$"
      ],
      "text/plain": [
       "<IPython.core.display.Math object>"
      ]
     },
     "metadata": {},
     "output_type": "display_data"
    },
    {
     "data": {
      "text/latex": [
       "$$E = \\left[\\begin{matrix}\\frac{i e^{- i k r}}{4 \\pi \\epsilon \\omega r^{5}} \\left(- J_{x} \\epsilon \\mu \\omega^{2} r^{4} + i J_{x} k r^{3} - 3 i k r x \\left(J_{x} x + J_{y} y + J_{z} z\\right) + r^{2} \\left(J_{x} k^{2} x^{2} + J_{x} + J_{y} k^{2} x y + J_{z} k^{2} x z\\right) - 3 x \\left(J_{x} x + J_{y} y + J_{z} z\\right)\\right)\\\\\\frac{i e^{- i k r}}{4 \\pi \\epsilon \\omega r^{5}} \\left(- J_{y} \\epsilon \\mu \\omega^{2} r^{4} + i J_{y} k r^{3} - 3 i k r y \\left(J_{x} x + J_{y} y + J_{z} z\\right) + r^{2} \\left(J_{x} k^{2} x y + J_{y} k^{2} y^{2} + J_{y} + J_{z} k^{2} y z\\right) - 3 y \\left(J_{x} x + J_{y} y + J_{z} z\\right)\\right)\\\\\\frac{i e^{- i k r}}{4 \\pi \\epsilon \\omega r^{5}} \\left(- J_{z} \\epsilon \\mu \\omega^{2} r^{4} + i J_{z} k r^{3} - 3 i k r z \\left(J_{x} x + J_{y} y + J_{z} z\\right) + r^{2} \\left(J_{x} k^{2} x z + J_{y} k^{2} y z + J_{z} k^{2} z^{2} + J_{z}\\right) - 3 z \\left(J_{x} x + J_{y} y + J_{z} z\\right)\\right)\\end{matrix}\\right]$$"
      ],
      "text/plain": [
       "<IPython.core.display.Math object>"
      ]
     },
     "metadata": {},
     "output_type": "display_data"
    },
    {
     "data": {
      "text/latex": [
       "$$H = \\left[\\begin{matrix}\\frac{e^{- i k r}}{4 \\pi r^{3}} \\left(J_{y} z - J_{z} y\\right) \\left(i k r + 1\\right)\\\\- \\frac{e^{- i k r}}{4 \\pi r^{3}} \\left(J_{x} z - J_{z} x\\right) \\left(i k r + 1\\right)\\\\\\frac{e^{- i k r}}{4 \\pi r^{3}} \\left(J_{x} y - J_{y} x\\right) \\left(i k r + 1\\right)\\end{matrix}\\right]$$"
      ],
      "text/plain": [
       "<IPython.core.display.Math object>"
      ]
     },
     "metadata": {},
     "output_type": "display_data"
    },
    {
     "name": "stdout",
     "output_type": "stream",
     "text": [
      "E[0] +=  (1j*(-J_x*epsilon*mu*omega**2*r**4 + 1j*J_x*k*r**3 - 3*1j*k*r*x*(J_x*x + J_y*y + J_z*z) + r**2*(J_x*k**2*x**2 + J_x + J_y*k**2*x*y + J_z*k**2*x*z) - 3*x*(J_x*x + J_y*y + J_z*z))*exp(-1j*k*r)/(4*pi*epsilon*omega*r**5))\n",
      "E[1] +=  (1j*(-J_y*epsilon*mu*omega**2*r**4 + 1j*J_y*k*r**3 - 3*1j*k*r*y*(J_x*x + J_y*y + J_z*z) + r**2*(J_x*k**2*x*y + J_y*k**2*y**2 + J_y + J_z*k**2*y*z) - 3*y*(J_x*x + J_y*y + J_z*z))*exp(-1j*k*r)/(4*pi*epsilon*omega*r**5))\n",
      "E[2] +=  (1j*(-J_z*epsilon*mu*omega**2*r**4 + 1j*J_z*k*r**3 - 3*1j*k*r*z*(J_x*x + J_y*y + J_z*z) + r**2*(J_x*k**2*x*z + J_y*k**2*y*z + J_z*k**2*z**2 + J_z) - 3*z*(J_x*x + J_y*y + J_z*z))*exp(-1j*k*r)/(4*pi*epsilon*omega*r**5))\n",
      "H[0] +=  ((J_y*z - J_z*y)*(1j*k*r + 1)*exp(-1j*k*r)/(4*pi*r**3))\n",
      "H[1] +=  (-(J_x*z - J_z*x)*(1j*k*r + 1)*exp(-1j*k*r)/(4*pi*r**3))\n",
      "H[2] +=  ((J_x*y - J_y*x)*(1j*k*r + 1)*exp(-1j*k*r)/(4*pi*r**3))\n"
     ]
    }
   ],
   "source": [
    "from sympy import *\n",
    "from Electromagnetics.EMFields_sym import EMFields, CoordSys, GetScalarGreen3D\n",
    "from IPython.display import display, Math, Latex\n",
    "from Electromagnetics import Misc\n",
    "from sympy.utilities.lambdify import lambdastr\n",
    "\n",
    "r = Symbol('r')\n",
    "x, y, z = symbols('x y z')\n",
    "\n",
    "EM = EMFields(coord=CoordSys.rectangular)\n",
    "\n",
    "Jx = Symbol('J_x')\n",
    "Jy = Symbol('J_y')\n",
    "Jz = Symbol('J_z')\n",
    "\n",
    "Ax = Jx*EM.mu*GetScalarGreen3D()\n",
    "Ay = Jy*EM.mu*GetScalarGreen3D()\n",
    "Az = Jz*EM.mu*GetScalarGreen3D()\n",
    "\n",
    "A = Matrix([[Ax, Ay, Az]])\n",
    "display(Math(r'A = ' + latex(A)))\n",
    "A = A.subs(r, sqrt(x**2 + y**2 + z**2))\n",
    "display(Math(r'A = ' + latex(A)))\n",
    "\n",
    "\n",
    "E = Misc.SymMatrixSimplify(Misc.SymMatrixdoit(EM.GetE_VecPotElec(A)))\n",
    "E = Misc.SymMatrixSimplify(E.subs([(sqrt(x**2 + y**2 + z**2), r), ((x**2 + y**2 + z**2), r**2)]).subs(sqrt(r**2), r))\n",
    "display(Math(r'E = ' + latex(E.T)))\n",
    "\n",
    "H = Misc.SymMatrixSimplify(Misc.SymMatrixdoit(EM.GetH_VecPotElec(A)))\n",
    "H = Misc.SymMatrixSimplify(H.subs([(sqrt(x**2 + y**2 + z**2), r), ((x**2 + y**2 + z**2), r**2)]).subs(sqrt(r**2), r))\n",
    "display(Math(r'H = ' + latex(H.T)))\n",
    "\n",
    "\n",
    "for i in range(3):\n",
    "    Ei_str = lambdastr((), E[i]).replace('\\\\', '').replace('{', '').replace('}', '')\n",
    "    Ei_str = Misc.replace_whole_word(Ei_str, 'lambda : ', '')\n",
    "    Ei_str = Misc.replace_whole_word(Ei_str, 'I', '1j')\n",
    "    #Ei_str = Misc.replace_whole_word(Ei_str, 'hankel2', 'np.hankel2')\n",
    "    print('E[{}] += '.format(i), Ei_str)\n",
    "\n",
    "for i in range(3):\n",
    "    Hi_str = lambdastr((), H[i]).replace('\\\\', '').replace('{', '').replace('}', '')\n",
    "    Hi_str = Misc.replace_whole_word(Hi_str, 'lambda : ', '')\n",
    "    Hi_str = Misc.replace_whole_word(Hi_str, 'I', '1j')\n",
    "    #Hi_str = Misc.replace_whole_word(Hi_str, 'hankel2', 'np.hankel2')\n",
    "    print('H[{}] += '.format(i), Hi_str)\n"
   ]
  },
  {
   "cell_type": "code",
   "execution_count": 4,
   "metadata": {
    "collapsed": false
   },
   "outputs": [
    {
     "data": {
      "text/latex": [
       "$$F = \\left[\\begin{matrix}\\frac{M_{x} \\mu e^{- i k r}}{4 \\pi r} & \\frac{M_{y} \\mu e^{- i k r}}{4 \\pi r} & \\frac{M_{z} \\mu e^{- i k r}}{4 \\pi r}\\end{matrix}\\right]$$"
      ],
      "text/plain": [
       "<IPython.core.display.Math object>"
      ]
     },
     "metadata": {},
     "output_type": "display_data"
    },
    {
     "data": {
      "text/latex": [
       "$$F = \\left[\\begin{matrix}\\frac{M_{x} \\mu e^{- i k \\sqrt{x^{2} + y^{2} + z^{2}}}}{4 \\pi \\sqrt{x^{2} + y^{2} + z^{2}}} & \\frac{M_{y} \\mu e^{- i k \\sqrt{x^{2} + y^{2} + z^{2}}}}{4 \\pi \\sqrt{x^{2} + y^{2} + z^{2}}} & \\frac{M_{z} \\mu e^{- i k \\sqrt{x^{2} + y^{2} + z^{2}}}}{4 \\pi \\sqrt{x^{2} + y^{2} + z^{2}}}\\end{matrix}\\right]$$"
      ],
      "text/plain": [
       "<IPython.core.display.Math object>"
      ]
     },
     "metadata": {},
     "output_type": "display_data"
    },
    {
     "data": {
      "text/latex": [
       "$$E = \\left[\\begin{matrix}- \\frac{\\mu e^{- i k r}}{4 \\pi \\epsilon r^{3}} \\left(M_{y} z - M_{z} y\\right) \\left(i k r + 1\\right)\\\\\\frac{\\mu e^{- i k r}}{4 \\pi \\epsilon r^{3}} \\left(M_{x} z - M_{z} x\\right) \\left(i k r + 1\\right)\\\\- \\frac{\\mu e^{- i k r}}{4 \\pi \\epsilon r^{3}} \\left(M_{x} y - M_{y} x\\right) \\left(i k r + 1\\right)\\end{matrix}\\right]$$"
      ],
      "text/plain": [
       "<IPython.core.display.Math object>"
      ]
     },
     "metadata": {},
     "output_type": "display_data"
    },
    {
     "data": {
      "text/latex": [
       "$$H = \\left[\\begin{matrix}\\frac{i e^{- i k r}}{4 \\pi \\epsilon \\omega r^{5}} \\left(- M_{x} \\epsilon \\mu \\omega^{2} r^{4} + i M_{x} k r^{3} - 3 i k r x \\left(M_{x} x + M_{y} y + M_{z} z\\right) + r^{2} \\left(M_{x} k^{2} x^{2} + M_{x} + M_{y} k^{2} x y + M_{z} k^{2} x z\\right) - 3 x \\left(M_{x} x + M_{y} y + M_{z} z\\right)\\right)\\\\\\frac{i e^{- i k r}}{4 \\pi \\epsilon \\omega r^{5}} \\left(- M_{y} \\epsilon \\mu \\omega^{2} r^{4} + i M_{y} k r^{3} - 3 i k r y \\left(M_{x} x + M_{y} y + M_{z} z\\right) + r^{2} \\left(M_{x} k^{2} x y + M_{y} k^{2} y^{2} + M_{y} + M_{z} k^{2} y z\\right) - 3 y \\left(M_{x} x + M_{y} y + M_{z} z\\right)\\right)\\\\\\frac{i e^{- i k r}}{4 \\pi \\epsilon \\omega r^{5}} \\left(- M_{z} \\epsilon \\mu \\omega^{2} r^{4} + i M_{z} k r^{3} - 3 i k r z \\left(M_{x} x + M_{y} y + M_{z} z\\right) + r^{2} \\left(M_{x} k^{2} x z + M_{y} k^{2} y z + M_{z} k^{2} z^{2} + M_{z}\\right) - 3 z \\left(M_{x} x + M_{y} y + M_{z} z\\right)\\right)\\end{matrix}\\right]$$"
      ],
      "text/plain": [
       "<IPython.core.display.Math object>"
      ]
     },
     "metadata": {},
     "output_type": "display_data"
    },
    {
     "name": "stdout",
     "output_type": "stream",
     "text": [
      "E[0] +=  (-mu*(M_y*z - M_z*y)*(1j*k*r + 1)*exp(-1j*k*r)/(4*pi*epsilon*r**3))\n",
      "E[1] +=  (mu*(M_x*z - M_z*x)*(1j*k*r + 1)*exp(-1j*k*r)/(4*pi*epsilon*r**3))\n",
      "E[2] +=  (-mu*(M_x*y - M_y*x)*(1j*k*r + 1)*exp(-1j*k*r)/(4*pi*epsilon*r**3))\n",
      "H[0] +=  (1j*(-M_x*epsilon*mu*omega**2*r**4 + 1j*M_x*k*r**3 - 3*1j*k*r*x*(M_x*x + M_y*y + M_z*z) + r**2*(M_x*k**2*x**2 + M_x + M_y*k**2*x*y + M_z*k**2*x*z) - 3*x*(M_x*x + M_y*y + M_z*z))*exp(-1j*k*r)/(4*pi*epsilon*omega*r**5))\n",
      "H[1] +=  (1j*(-M_y*epsilon*mu*omega**2*r**4 + 1j*M_y*k*r**3 - 3*1j*k*r*y*(M_x*x + M_y*y + M_z*z) + r**2*(M_x*k**2*x*y + M_y*k**2*y**2 + M_y + M_z*k**2*y*z) - 3*y*(M_x*x + M_y*y + M_z*z))*exp(-1j*k*r)/(4*pi*epsilon*omega*r**5))\n",
      "H[2] +=  (1j*(-M_z*epsilon*mu*omega**2*r**4 + 1j*M_z*k*r**3 - 3*1j*k*r*z*(M_x*x + M_y*y + M_z*z) + r**2*(M_x*k**2*x*z + M_y*k**2*y*z + M_z*k**2*z**2 + M_z) - 3*z*(M_x*x + M_y*y + M_z*z))*exp(-1j*k*r)/(4*pi*epsilon*omega*r**5))\n"
     ]
    }
   ],
   "source": [
    "from sympy import *\n",
    "from Electromagnetics.EMFields_sym import EMFields, CoordSys, GetScalarGreen3D\n",
    "from IPython.display import display, Math, Latex\n",
    "from Electromagnetics import Misc\n",
    "from sympy.utilities.lambdify import lambdastr\n",
    "\n",
    "r = Symbol('r')\n",
    "x, y, z = symbols('x y z')\n",
    "\n",
    "EM = EMFields(coord=CoordSys.rectangular)\n",
    "\n",
    "Mx = Symbol('M_x')\n",
    "My = Symbol('M_y')\n",
    "Mz = Symbol('M_z')\n",
    "\n",
    "Fx = Mx*EM.mu*GetScalarGreen3D()\n",
    "Fy = My*EM.mu*GetScalarGreen3D()\n",
    "Fz = Mz*EM.mu*GetScalarGreen3D()\n",
    "\n",
    "F = Matrix([[Fx, Fy, Fz]])\n",
    "display(Math(r'F = ' + latex(F)))\n",
    "F = F.subs(r, sqrt(x**2 + y**2 + z**2))\n",
    "display(Math(r'F = ' + latex(F)))\n",
    "\n",
    "\n",
    "E = Misc.SymMatrixSimplify(Misc.SymMatrixdoit(EM.GetE_VecPotMag(F)))\n",
    "E = Misc.SymMatrixSimplify(E.subs([(sqrt(x**2 + y**2 + z**2), r), ((x**2 + y**2 + z**2), r**2)]).subs(sqrt(r**2), r))\n",
    "display(Math(r'E = ' + latex(E.T)))\n",
    "\n",
    "H = Misc.SymMatrixSimplify(Misc.SymMatrixdoit(EM.GetH_VecPotMag(F)))\n",
    "H = Misc.SymMatrixSimplify(H.subs([(sqrt(x**2 + y**2 + z**2), r), ((x**2 + y**2 + z**2), r**2)]).subs(sqrt(r**2), r))\n",
    "display(Math(r'H = ' + latex(H.T)))\n",
    "\n",
    "\n",
    "for i in range(3):\n",
    "    Ei_str = lambdastr((), E[i]).replace('\\\\', '').replace('{', '').replace('}', '')\n",
    "    Ei_str = Misc.replace_whole_word(Ei_str, 'lambda : ', '')\n",
    "    Ei_str = Misc.replace_whole_word(Ei_str, 'I', '1j')\n",
    "    #Ei_str = Misc.replace_whole_word(Ei_str, 'hankel2', 'np.hankel2')\n",
    "    print('E[{}] += '.format(i), Ei_str)\n",
    "\n",
    "for i in range(3):\n",
    "    Hi_str = lambdastr((), H[i]).replace('\\\\', '').replace('{', '').replace('}', '')\n",
    "    Hi_str = Misc.replace_whole_word(Hi_str, 'lambda : ', '')\n",
    "    Hi_str = Misc.replace_whole_word(Hi_str, 'I', '1j')\n",
    "    #Hi_str = Misc.replace_whole_word(Hi_str, 'hankel2', 'np.hankel2')\n",
    "    print('H[{}] += '.format(i), Hi_str)\n"
   ]
  },
  {
   "cell_type": "code",
   "execution_count": null,
   "metadata": {
    "collapsed": true
   },
   "outputs": [],
   "source": []
  }
 ],
 "metadata": {
  "kernelspec": {
   "display_name": "Python 3",
   "language": "python",
   "name": "python3"
  },
  "language_info": {
   "codemirror_mode": {
    "name": "ipython",
    "version": 3
   },
   "file_extension": ".py",
   "mimetype": "text/x-python",
   "name": "python",
   "nbconvert_exporter": "python",
   "pygments_lexer": "ipython3",
   "version": "3.5.2"
  }
 },
 "nbformat": 4,
 "nbformat_minor": 0
}
