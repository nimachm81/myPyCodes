{
 "cells": [
  {
   "cell_type": "markdown",
   "metadata": {},
   "source": [
    "### complex"
   ]
  },
  {
   "cell_type": "code",
   "execution_count": 5,
   "metadata": {
    "collapsed": false
   },
   "outputs": [
    {
     "name": "stdout",
     "output_type": "stream",
     "text": [
      "[[ 0.50123352+0.38108705j  0.33606717+0.62888016j  0.01554074+0.38035886j\n",
      "   0.02416282+0.38643934j  0.52947205+0.65266263j]\n",
      " [ 0.19754254+0.82001439j  0.34739202+0.44001965j  0.06952325+0.97247766j\n",
      "   0.66127508+0.96051018j  0.40411675+0.70158918j]\n",
      " [ 0.33624054+0.59000855j  0.66374923+0.18739737j  0.30603571+0.96451422j\n",
      "   0.61024132+0.78209921j  0.97323197+0.47453836j]\n",
      " [ 0.78609869+0.96336566j  0.32538834+0.86985288j  0.33730678+0.90368692j\n",
      "   0.53904859+0.2750846j   0.77439195+0.20613686j]]\n"
     ]
    }
   ],
   "source": [
    "import numpy as np\n",
    "\n",
    "Nx = 4\n",
    "Ny = 5\n",
    "\n",
    "A = np.random.rand(Nx, Ny) + 1j*np.random.rand(Nx, Ny)\n",
    "\n",
    "print(A)\n",
    "\n",
    "np.savetxt(\"other/A.csv\", A, delimiter=\",\", fmt=[\"%.10e%+.10ei\"]*Ny)\n",
    "\n"
   ]
  },
  {
   "cell_type": "markdown",
   "metadata": {},
   "source": [
    "### float"
   ]
  },
  {
   "cell_type": "code",
   "execution_count": 17,
   "metadata": {
    "collapsed": false
   },
   "outputs": [
    {
     "name": "stdout",
     "output_type": "stream",
     "text": [
      "[[ 0.79449283  0.79753861  0.99422327  0.32302459  0.64355714]\n",
      " [ 0.96528746  0.40707261  0.34726173  0.01354714  0.10935655]\n",
      " [ 0.9965893   0.29748386  0.62055114  0.70779699  0.59053801]\n",
      " [ 0.90654365  0.14789584  0.45017441  0.4986661   0.69480938]]\n"
     ]
    }
   ],
   "source": [
    "import numpy as np\n",
    "\n",
    "Nx = 4\n",
    "Ny = 5\n",
    "\n",
    "A = np.random.rand(Nx, Ny)\n",
    "\n",
    "print(A)\n",
    "\n",
    "np.savetxt(\"other/A.csv\", A, delimiter=\",\", fmt=[\"%.10e\"]*Ny)\n",
    "\n"
   ]
  },
  {
   "cell_type": "markdown",
   "metadata": {},
   "source": [
    "### append"
   ]
  },
  {
   "cell_type": "code",
   "execution_count": 20,
   "metadata": {
    "collapsed": false
   },
   "outputs": [
    {
     "name": "stdout",
     "output_type": "stream",
     "text": [
      "[[ 0.92215095  0.78169847  0.8792918   0.30501292  0.77689167]\n",
      " [ 0.37541911  0.49735735  0.66392947  0.5561751   0.011629  ]\n",
      " [ 0.38659188  0.33537839  0.67976282  0.92101696  0.21261026]\n",
      " [ 0.91766792  0.07208997  0.43641533  0.63973342  0.28542898]]\n",
      "[[ 0.80392468  0.17643853  0.01133508  0.77314856  0.45268345]\n",
      " [ 0.73035236  0.91794498  0.56454891  0.52529852  0.83006657]\n",
      " [ 0.64979941  0.12669817  0.64721517  0.15235392  0.39099388]\n",
      " [ 0.56541136  0.44510304  0.1684274   0.1315902   0.15248326]]\n"
     ]
    }
   ],
   "source": [
    "import numpy as np\n",
    "\n",
    "Nx = 4\n",
    "Ny = 5\n",
    "\n",
    "f = open('other/A.csv','ab')\n",
    "\n",
    "for i in range(2):\n",
    "    A = np.random.rand(Nx, Ny)\n",
    "    print(A)\n",
    "    np.savetxt(f, A, delimiter=\",\", fmt=[\"%.10e\"]*Ny)\n",
    "\n",
    "f.close()\n"
   ]
  },
  {
   "cell_type": "markdown",
   "metadata": {},
   "source": [
    "### load"
   ]
  },
  {
   "cell_type": "code",
   "execution_count": 21,
   "metadata": {
    "collapsed": false
   },
   "outputs": [
    {
     "name": "stdout",
     "output_type": "stream",
     "text": [
      "[[ 0.79449283  0.79753861  0.99422327  0.32302459  0.64355714]\n",
      " [ 0.96528746  0.40707261  0.34726173  0.01354714  0.10935655]\n",
      " [ 0.9965893   0.29748386  0.62055114  0.70779699  0.59053801]\n",
      " [ 0.90654365  0.14789584  0.45017441  0.4986661   0.69480938]\n",
      " [ 0.92215095  0.78169847  0.8792918   0.30501292  0.77689167]\n",
      " [ 0.37541911  0.49735735  0.66392947  0.5561751   0.011629  ]\n",
      " [ 0.38659188  0.33537839  0.67976282  0.92101696  0.21261026]\n",
      " [ 0.91766792  0.07208997  0.43641533  0.63973342  0.28542898]\n",
      " [ 0.80392468  0.17643853  0.01133508  0.77314856  0.45268345]\n",
      " [ 0.73035236  0.91794498  0.56454891  0.52529852  0.83006657]\n",
      " [ 0.64979941  0.12669817  0.64721517  0.15235392  0.39099388]\n",
      " [ 0.56541136  0.44510304  0.1684274   0.1315902   0.15248326]]\n"
     ]
    }
   ],
   "source": [
    "\n",
    "A = np.loadtxt(\"other/A.csv\",delimiter=',')\n",
    "#A = np.genfromtxt(\"other/A.csv\",delimiter=',')\n",
    "\n",
    "print(A)\n"
   ]
  },
  {
   "cell_type": "code",
   "execution_count": null,
   "metadata": {
    "collapsed": true
   },
   "outputs": [],
   "source": []
  }
 ],
 "metadata": {
  "kernelspec": {
   "display_name": "Python 3",
   "language": "python",
   "name": "python3"
  },
  "language_info": {
   "codemirror_mode": {
    "name": "ipython",
    "version": 3
   },
   "file_extension": ".py",
   "mimetype": "text/x-python",
   "name": "python",
   "nbconvert_exporter": "python",
   "pygments_lexer": "ipython3",
   "version": "3.5.2"
  }
 },
 "nbformat": 4,
 "nbformat_minor": 1
}
