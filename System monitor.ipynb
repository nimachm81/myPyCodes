{
 "cells": [
  {
   "cell_type": "code",
   "execution_count": 3,
   "metadata": {
    "collapsed": false
   },
   "outputs": [
    {
     "name": "stdout",
     "output_type": "stream",
     "text": [
      "Using matplotlib backend: TkAgg\n",
      "Populating the interactive namespace from numpy and matplotlib\n"
     ]
    }
   ],
   "source": [
    "%reload_ext autoreload\n",
    "%autoreload\n",
    "\n",
    "%pylab\n",
    "import time\n",
    "from OpSys.SysMonitor import *\n",
    "\n",
    "figure()\n",
    "\n",
    "N_SEC = 21\n",
    "T_MAX = 100.0\n",
    "T_CRIT = 90.0\n",
    "temp_main_arr = [0]*N_SEC\n",
    "INTERVAL = 2.0 \n",
    "\n",
    "for i in range(30):\n",
    "    temp_main, temp_core = getTemprature()\n",
    "    temp_main_arr.append(temp_main)\n",
    "    plot(temp_main_arr[-N_SEC:])\n",
    "    ax = gca()\n",
    "    ax.set_ylim([0, T_MAX])\n",
    "    ax.set_xlim([0, N_SEC-1])\n",
    "    axhline(y=T_CRIT, linewidth=1, linestyle='-.', color = 'r')\n",
    "    draw()\n",
    "    time.sleep(INTERVAL)\n",
    "    clf()\n",
    "    "
   ]
  },
  {
   "cell_type": "code",
   "execution_count": null,
   "metadata": {
    "collapsed": false
   },
   "outputs": [],
   "source": [
    "%reload_ext autoreload\n",
    "%autoreload\n",
    "\n",
    "%pylab\n",
    "import queue\n",
    "from OpSys.SysMonitor import *\n",
    "\n",
    "que = queue.Queue()\n",
    "\n",
    "sysmon = GUISysMonitor(que=que)\n"
   ]
  },
  {
   "cell_type": "code",
   "execution_count": 2,
   "metadata": {
    "collapsed": false
   },
   "outputs": [],
   "source": [
    "import numpy as np \n",
    "\n",
    "x = np.linspace(0.0, 10.0*np.pi, 100)\n",
    "y = np.sin(x)\n",
    "que.put(['plot', (x,y)])"
   ]
  },
  {
   "cell_type": "code",
   "execution_count": 3,
   "metadata": {
    "collapsed": false
   },
   "outputs": [
    {
     "name": "stdout",
     "output_type": "stream",
     "text": [
      "stopping thread!\n",
      "thread exiting..!\n"
     ]
    },
    {
     "name": "stderr",
     "output_type": "stream",
     "text": [
      "Exception in Tkinter callback\n",
      "Traceback (most recent call last):\n",
      "  File \"/usr/lib/python3.4/tkinter/__init__.py\", line 1490, in __call__\n",
      "    return self.func(*args)\n",
      "  File \"/home/nima/ipython workspace/OpSys/SysMonitor.py\", line 116, in TerminateRoot\n",
      "    self.figcanvas.destroy()\n",
      "AttributeError: 'FigureCanvasTkAgg' object has no attribute 'destroy'\n"
     ]
    },
    {
     "data": {
      "text/plain": [
       "0"
      ]
     },
     "execution_count": 3,
     "metadata": {},
     "output_type": "execute_result"
    }
   ],
   "source": [
    "import os\n",
    "\n",
    "os.system('echo ------------------ ')"
   ]
  },
  {
   "cell_type": "code",
   "execution_count": null,
   "metadata": {
    "collapsed": false
   },
   "outputs": [],
   "source": []
  }
 ],
 "metadata": {
  "kernelspec": {
   "display_name": "Python 3",
   "language": "python",
   "name": "python3"
  },
  "language_info": {
   "codemirror_mode": {
    "name": "ipython",
    "version": 3
   },
   "file_extension": ".py",
   "mimetype": "text/x-python",
   "name": "python",
   "nbconvert_exporter": "python",
   "pygments_lexer": "ipython3",
   "version": "3.5.2"
  }
 },
 "nbformat": 4,
 "nbformat_minor": 0
}
