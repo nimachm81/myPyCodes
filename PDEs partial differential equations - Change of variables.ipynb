{
 "metadata": {
  "name": ""
 },
 "nbformat": 3,
 "nbformat_minor": 0,
 "worksheets": [
  {
   "cells": [
    {
     "cell_type": "heading",
     "level": 2,
     "metadata": {},
     "source": [
      "Change of variable"
     ]
    },
    {
     "cell_type": "code",
     "collapsed": false,
     "input": [
      "%reload_ext autoreload\n",
      "%autoreload\n",
      "\n",
      "from sympy import *\n",
      "from Electromagnetics.VectorCalculus import *\n",
      "from IPython.display import display, Math, Latex\n",
      "\n",
      "x, y, r, phi = symbols(\"x y r \\\\phi\")\n",
      "\n",
      "f = Function('f')(x,y)\n",
      "\n",
      "gs = [sqrt(x**2+y**2), atan(y/x)]\n",
      "gs_inv = [r*cos(phi), r*sin(phi)]\n",
      "\n",
      "J = getJacobianMatrix([x, y], [r, phi], gs)\n",
      "\n",
      "display(Math(latex(J)))\n",
      "\n",
      "J = Matrix([[J[i, j].doit() for i in range(J.rows)] for j in range(J.cols)])\n",
      "display(Math(latex(J)))\n",
      "\n",
      "pde = diff(f, x, x) + diff(f,y, y)\n",
      "\n",
      "display(Math(latex(pde)))\n",
      "\n",
      "pde_new = pdeChangeOfVariables(pde, [x, y], [r, phi], gs, gs_inv)\n",
      "\n",
      "display(Math(latex(pde_new)))\n",
      "\n",
      "fp = Function('f')(r, phi)\n",
      "\n",
      "pde_new = pde_new.subs(f, fp)\n",
      "display(Math(latex(pde_new)))\n",
      "\n",
      "\n",
      "pde_new = pde_new.doit().simplify()\n",
      "display(Math(latex(pde_new)))\n",
      "\n"
     ],
     "language": "python",
     "metadata": {},
     "outputs": [
      {
       "latex": [
        "$$\\left[\\begin{matrix}\\frac{\\partial}{\\partial x} \\sqrt{x^{2} + y^{2}} & \\frac{\\partial}{\\partial y} \\sqrt{x^{2} + y^{2}}\\\\\\frac{\\partial}{\\partial x} \\operatorname{atan}{\\left (\\frac{y}{x} \\right )} & \\frac{\\partial}{\\partial y} \\operatorname{atan}{\\left (\\frac{y}{x} \\right )}\\end{matrix}\\right]$$"
       ],
       "metadata": {},
       "output_type": "display_data",
       "text": [
        "<IPython.core.display.Math at 0x7f364829d7f0>"
       ]
      },
      {
       "latex": [
        "$$\\left[\\begin{matrix}\\frac{x}{\\sqrt{x^{2} + y^{2}}} & - \\frac{y}{x^{2} \\left(1 + \\frac{y^{2}}{x^{2}}\\right)}\\\\\\frac{y}{\\sqrt{x^{2} + y^{2}}} & \\frac{1}{x \\left(1 + \\frac{y^{2}}{x^{2}}\\right)}\\end{matrix}\\right]$$"
       ],
       "metadata": {},
       "output_type": "display_data",
       "text": [
        "<IPython.core.display.Math at 0x7f364829d7f0>"
       ]
      },
      {
       "latex": [
        "$$\\frac{\\partial^{2}}{\\partial x^{2}}  f{\\left (x,y \\right )} + \\frac{\\partial^{2}}{\\partial y^{2}}  f{\\left (x,y \\right )}$$"
       ],
       "metadata": {},
       "output_type": "display_data",
       "text": [
        "<IPython.core.display.Math at 0x7f364829d7f0>"
       ]
      },
      {
       "latex": [
        "$$\\frac{r \\sin{\\left (\\phi \\right )}}{\\sqrt{r^{2} \\sin^{2}{\\left (\\phi \\right )} + r^{2} \\cos^{2}{\\left (\\phi \\right )}}} \\frac{\\partial}{\\partial r}\\left(\\frac{r \\sin{\\left (\\phi \\right )} \\frac{\\partial}{\\partial r} f{\\left (x,y \\right )}}{\\sqrt{r^{2} \\sin^{2}{\\left (\\phi \\right )} + r^{2} \\cos^{2}{\\left (\\phi \\right )}}} + \\frac{\\frac{\\partial}{\\partial \\phi} f{\\left (x,y \\right )}}{r \\left(\\frac{\\sin^{2}{\\left (\\phi \\right )}}{\\cos^{2}{\\left (\\phi \\right )}} + 1\\right) \\cos{\\left (\\phi \\right )}}\\right) + \\frac{r \\cos{\\left (\\phi \\right )}}{\\sqrt{r^{2} \\sin^{2}{\\left (\\phi \\right )} + r^{2} \\cos^{2}{\\left (\\phi \\right )}}} \\frac{\\partial}{\\partial r}\\left(\\frac{r \\cos{\\left (\\phi \\right )} \\frac{\\partial}{\\partial r} f{\\left (x,y \\right )}}{\\sqrt{r^{2} \\sin^{2}{\\left (\\phi \\right )} + r^{2} \\cos^{2}{\\left (\\phi \\right )}}} - \\frac{\\sin{\\left (\\phi \\right )} \\frac{\\partial}{\\partial \\phi} f{\\left (x,y \\right )}}{r \\left(\\frac{\\sin^{2}{\\left (\\phi \\right )}}{\\cos^{2}{\\left (\\phi \\right )}} + 1\\right) \\cos^{2}{\\left (\\phi \\right )}}\\right) - \\frac{\\sin{\\left (\\phi \\right )}}{r \\left(\\frac{\\sin^{2}{\\left (\\phi \\right )}}{\\cos^{2}{\\left (\\phi \\right )}} + 1\\right) \\cos^{2}{\\left (\\phi \\right )}} \\frac{\\partial}{\\partial \\phi}\\left(\\frac{r \\cos{\\left (\\phi \\right )} \\frac{\\partial}{\\partial r} f{\\left (x,y \\right )}}{\\sqrt{r^{2} \\sin^{2}{\\left (\\phi \\right )} + r^{2} \\cos^{2}{\\left (\\phi \\right )}}} - \\frac{\\sin{\\left (\\phi \\right )} \\frac{\\partial}{\\partial \\phi} f{\\left (x,y \\right )}}{r \\left(\\frac{\\sin^{2}{\\left (\\phi \\right )}}{\\cos^{2}{\\left (\\phi \\right )}} + 1\\right) \\cos^{2}{\\left (\\phi \\right )}}\\right) + \\frac{1}{r \\left(\\frac{\\sin^{2}{\\left (\\phi \\right )}}{\\cos^{2}{\\left (\\phi \\right )}} + 1\\right) \\cos{\\left (\\phi \\right )}} \\frac{\\partial}{\\partial \\phi}\\left(\\frac{r \\sin{\\left (\\phi \\right )} \\frac{\\partial}{\\partial r} f{\\left (x,y \\right )}}{\\sqrt{r^{2} \\sin^{2}{\\left (\\phi \\right )} + r^{2} \\cos^{2}{\\left (\\phi \\right )}}} + \\frac{\\frac{\\partial}{\\partial \\phi} f{\\left (x,y \\right )}}{r \\left(\\frac{\\sin^{2}{\\left (\\phi \\right )}}{\\cos^{2}{\\left (\\phi \\right )}} + 1\\right) \\cos{\\left (\\phi \\right )}}\\right)$$"
       ],
       "metadata": {},
       "output_type": "display_data",
       "text": [
        "<IPython.core.display.Math at 0x7f364829d7f0>"
       ]
      },
      {
       "latex": [
        "$$\\frac{r \\sin{\\left (\\phi \\right )}}{\\sqrt{r^{2} \\sin^{2}{\\left (\\phi \\right )} + r^{2} \\cos^{2}{\\left (\\phi \\right )}}} \\frac{\\partial}{\\partial r}\\left(\\frac{r \\sin{\\left (\\phi \\right )} \\frac{\\partial}{\\partial r} f{\\left (r,\\phi \\right )}}{\\sqrt{r^{2} \\sin^{2}{\\left (\\phi \\right )} + r^{2} \\cos^{2}{\\left (\\phi \\right )}}} + \\frac{\\frac{\\partial}{\\partial \\phi} f{\\left (r,\\phi \\right )}}{r \\left(\\frac{\\sin^{2}{\\left (\\phi \\right )}}{\\cos^{2}{\\left (\\phi \\right )}} + 1\\right) \\cos{\\left (\\phi \\right )}}\\right) + \\frac{r \\cos{\\left (\\phi \\right )}}{\\sqrt{r^{2} \\sin^{2}{\\left (\\phi \\right )} + r^{2} \\cos^{2}{\\left (\\phi \\right )}}} \\frac{\\partial}{\\partial r}\\left(\\frac{r \\cos{\\left (\\phi \\right )} \\frac{\\partial}{\\partial r} f{\\left (r,\\phi \\right )}}{\\sqrt{r^{2} \\sin^{2}{\\left (\\phi \\right )} + r^{2} \\cos^{2}{\\left (\\phi \\right )}}} - \\frac{\\sin{\\left (\\phi \\right )} \\frac{\\partial}{\\partial \\phi} f{\\left (r,\\phi \\right )}}{r \\left(\\frac{\\sin^{2}{\\left (\\phi \\right )}}{\\cos^{2}{\\left (\\phi \\right )}} + 1\\right) \\cos^{2}{\\left (\\phi \\right )}}\\right) - \\frac{\\sin{\\left (\\phi \\right )}}{r \\left(\\frac{\\sin^{2}{\\left (\\phi \\right )}}{\\cos^{2}{\\left (\\phi \\right )}} + 1\\right) \\cos^{2}{\\left (\\phi \\right )}} \\frac{\\partial}{\\partial \\phi}\\left(\\frac{r \\cos{\\left (\\phi \\right )} \\frac{\\partial}{\\partial r} f{\\left (r,\\phi \\right )}}{\\sqrt{r^{2} \\sin^{2}{\\left (\\phi \\right )} + r^{2} \\cos^{2}{\\left (\\phi \\right )}}} - \\frac{\\sin{\\left (\\phi \\right )} \\frac{\\partial}{\\partial \\phi} f{\\left (r,\\phi \\right )}}{r \\left(\\frac{\\sin^{2}{\\left (\\phi \\right )}}{\\cos^{2}{\\left (\\phi \\right )}} + 1\\right) \\cos^{2}{\\left (\\phi \\right )}}\\right) + \\frac{1}{r \\left(\\frac{\\sin^{2}{\\left (\\phi \\right )}}{\\cos^{2}{\\left (\\phi \\right )}} + 1\\right) \\cos{\\left (\\phi \\right )}} \\frac{\\partial}{\\partial \\phi}\\left(\\frac{r \\sin{\\left (\\phi \\right )} \\frac{\\partial}{\\partial r} f{\\left (r,\\phi \\right )}}{\\sqrt{r^{2} \\sin^{2}{\\left (\\phi \\right )} + r^{2} \\cos^{2}{\\left (\\phi \\right )}}} + \\frac{\\frac{\\partial}{\\partial \\phi} f{\\left (r,\\phi \\right )}}{r \\left(\\frac{\\sin^{2}{\\left (\\phi \\right )}}{\\cos^{2}{\\left (\\phi \\right )}} + 1\\right) \\cos{\\left (\\phi \\right )}}\\right)$$"
       ],
       "metadata": {},
       "output_type": "display_data",
       "text": [
        "<IPython.core.display.Math at 0x7f3640efdef0>"
       ]
      },
      {
       "latex": [
        "$$\\frac{\\partial^{2}}{\\partial r^{2}}  f{\\left (r,\\phi \\right )} + \\frac{1}{\\sqrt{r^{2}}} \\frac{\\partial}{\\partial r} f{\\left (r,\\phi \\right )} + \\frac{1}{r^{2}} \\frac{\\partial^{2}}{\\partial \\phi^{2}}  f{\\left (r,\\phi \\right )}$$"
       ],
       "metadata": {},
       "output_type": "display_data",
       "text": [
        "<IPython.core.display.Math at 0x7f3640ef1198>"
       ]
      }
     ],
     "prompt_number": 1
    },
    {
     "cell_type": "code",
     "collapsed": false,
     "input": [],
     "language": "python",
     "metadata": {},
     "outputs": []
    }
   ],
   "metadata": {}
  }
 ]
}