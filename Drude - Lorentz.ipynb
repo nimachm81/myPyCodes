{
 "cells": [
  {
   "cell_type": "markdown",
   "metadata": {},
   "source": [
    "## Drude media"
   ]
  },
  {
   "cell_type": "code",
   "execution_count": 27,
   "metadata": {
    "collapsed": false
   },
   "outputs": [
    {
     "name": "stdout",
     "output_type": "stream",
     "text": [
      "Populating the interactive namespace from numpy and matplotlib\n",
      "equation of motion: \n"
     ]
    },
    {
     "data": {
      "text/latex": [
       "$$\\frac{d}{d t} p{\\left (t \\right )} + \\frac{1}{\\tau} p{\\left (t \\right )} = e E{\\left (t \\right )}$$"
      ],
      "text/plain": [
       "<IPython.core.display.Math at 0x7fc1fb682438>"
      ]
     },
     "metadata": {},
     "output_type": "display_data"
    },
    {
     "name": "stdout",
     "output_type": "stream",
     "text": [
      "Harmonic equation: \n"
     ]
    },
    {
     "data": {
      "text/latex": [
       "$$i \\omega \\tilde{p} + \\frac{\\tilde{p}}{\\tau} = \\tilde{E} e$$"
      ],
      "text/plain": [
       "<IPython.core.display.Math at 0x7fc228169e10>"
      ]
     },
     "metadata": {},
     "output_type": "display_data"
    },
    {
     "name": "stdout",
     "output_type": "stream",
     "text": [
      "solution: \n"
     ]
    },
    {
     "data": {
      "text/latex": [
       "$$\\tilde{p} = \\frac{\\tau \\tilde{E} e}{i \\omega \\tau + 1}$$"
      ],
      "text/plain": [
       "<IPython.core.display.Math at 0x7fc22816ceb8>"
      ]
     },
     "metadata": {},
     "output_type": "display_data"
    },
    {
     "name": "stdout",
     "output_type": "stream",
     "text": [
      "current: \n"
     ]
    },
    {
     "data": {
      "text/latex": [
       "$$\\tilde{J} = \\frac{\\tau \\tilde{E} e^{2} n_{e}}{m \\left(i \\omega \\tau + 1\\right)}$$"
      ],
      "text/plain": [
       "<IPython.core.display.Math at 0x7fc228166ef0>"
      ]
     },
     "metadata": {},
     "output_type": "display_data"
    },
    {
     "name": "stdout",
     "output_type": "stream",
     "text": [
      "conductivity: \n"
     ]
    },
    {
     "data": {
      "text/latex": [
       "$$\\sigma = \\frac{\\tau e^{2} n_{e}}{m \\left(i \\omega \\tau + 1\\right)}$$"
      ],
      "text/plain": [
       "<IPython.core.display.Math at 0x7fc22816ceb8>"
      ]
     },
     "metadata": {},
     "output_type": "display_data"
    },
    {
     "name": "stdout",
     "output_type": "stream",
     "text": [
      "chi_str = \n",
      " lambda omega: (tau*e**2*n_e/(m*(I*omega*tau + 1)))\n",
      "sigma_str = \n",
      " lambda omega: (tau*e**2*n_e/(m*(1j*omega*tau + 1)))\n"
     ]
    }
   ],
   "source": [
    "%pylab inline --no-import-all\n",
    "from sympy import *\n",
    "from IPython.display import display, Math\n",
    "\n",
    "from sympy.utilities.lambdify import lambdastr\n",
    "from Electromagnetics import Misc\n",
    "\n",
    "t = Symbol('t')\n",
    "tau, m, e = symbols('\\\\tau m e')\n",
    "omega = Symbol('\\\\omega')\n",
    "\n",
    "p = Function('p')(t)\n",
    "E = Function('E')(t)\n",
    "p_tilde = Symbol('\\\\tilde{p}')\n",
    "E_tilde = Symbol('\\\\tilde{E}')\n",
    "\n",
    "\n",
    "LHS = diff(p, t) + p/tau\n",
    "RHS = e*E\n",
    "\n",
    "print('equation of motion: ')\n",
    "display(Math(latex(LHS) + ' = ' + latex(RHS)))\n",
    "\n",
    "LHS = (LHS.subs(p, p_tilde*exp(I*omega*t)).doit()/exp(I*omega*t)).simplify()\n",
    "RHS = (RHS.subs(E, E_tilde*exp(I*omega*t)).doit()/exp(I*omega*t)).simplify()\n",
    "print('Harmonic equation: ')\n",
    "display(Math(latex(LHS) + ' = ' + latex(RHS)))\n",
    "\n",
    "EOM = LHS - RHS\n",
    "p_tilde_rep = solve(EOM, p_tilde)[0]\n",
    "print('solution: ')\n",
    "display(Math(latex(p_tilde) + ' = ' + latex(p_tilde_rep)))\n",
    "\n",
    "n_e =Symbol('n_e')\n",
    "J_tilde = e*n_e*p_tilde_rep/m\n",
    "print('current: ')\n",
    "display(Math('\\\\tilde{J} = ' + latex(J_tilde)))\n",
    "\n",
    "sigma = J_tilde/E_tilde\n",
    "print('conductivity: ')\n",
    "display(Math('\\\\sigma = ' + latex(sigma)))\n",
    "\n",
    "sigma_str = lambdastr(omega, sigma).replace('\\\\', '').replace('{', '').replace('}', '')\n",
    "print('chi_str = \\n', sigma_str)\n",
    "\n",
    "sigma_str = Misc.replace_whole_word(sigma_str, 'I', '1j')\n",
    "print('sigma_str = \\n', sigma_str)\n"
   ]
  },
  {
   "cell_type": "markdown",
   "metadata": {},
   "source": [
    "## Drude Media + magnetic bias"
   ]
  },
  {
   "cell_type": "code",
   "execution_count": 119,
   "metadata": {
    "collapsed": false
   },
   "outputs": [
    {
     "name": "stdout",
     "output_type": "stream",
     "text": [
      "Populating the interactive namespace from numpy and matplotlib\n",
      "equation of motion: \n"
     ]
    },
    {
     "data": {
      "text/latex": [
       "$$\\left[\\begin{matrix}\\frac{d}{d t} \\operatorname{p_{x}}{\\left (t \\right )} + \\frac{1}{\\tau} \\operatorname{p_{x}}{\\left (t \\right )} & \\frac{d}{d t} \\operatorname{p_{y}}{\\left (t \\right )} + \\frac{1}{\\tau} \\operatorname{p_{y}}{\\left (t \\right )} & 0\\end{matrix}\\right] = \\left[\\begin{matrix}e \\left(\\frac{B_{0}}{m} \\operatorname{p_{y}}{\\left (t \\right )} + \\operatorname{E_{x}}{\\left (t \\right )}\\right) & e \\left(- \\frac{B_{0}}{m} \\operatorname{p_{x}}{\\left (t \\right )} + \\operatorname{E_{y}}{\\left (t \\right )}\\right) & 0\\end{matrix}\\right]$$"
      ],
      "text/plain": [
       "<IPython.core.display.Math at 0x7fc228044d68>"
      ]
     },
     "metadata": {},
     "output_type": "display_data"
    },
    {
     "name": "stdout",
     "output_type": "stream",
     "text": [
      "Harmonic equation: \n"
     ]
    },
    {
     "data": {
      "text/latex": [
       "$$\\left[\\begin{matrix}- \\frac{B_{0} \\tilde{p_{y}}}{m} e + i \\omega \\tilde{p_{x}} - \\tilde{E_{x}} e + \\frac{\\tilde{p_{x}}}{\\tau} & \\frac{B_{0} \\tilde{p_{x}}}{m} e + i \\omega \\tilde{p_{y}} - \\tilde{E_{y}} e + \\frac{\\tilde{p_{y}}}{\\tau} & 0\\end{matrix}\\right] = 0$$"
      ],
      "text/plain": [
       "<IPython.core.display.Math at 0x7fc2280d8860>"
      ]
     },
     "metadata": {},
     "output_type": "display_data"
    },
    {
     "data": {
      "text/latex": [
       "$$b = \\left[\\begin{matrix}\\tilde{E_{x}} e\\\\\\tilde{E_{y}} e\\\\0\\end{matrix}\\right]$$"
      ],
      "text/plain": [
       "<IPython.core.display.Math at 0x7fc2280d8860>"
      ]
     },
     "metadata": {},
     "output_type": "display_data"
    },
    {
     "data": {
      "text/latex": [
       "$$A = \\left[\\begin{matrix}i \\omega + \\frac{1}{\\tau} & - \\frac{B_{0} e}{m}\\\\\\frac{B_{0} e}{m} & i \\omega + \\frac{1}{\\tau}\\\\0 & 0\\end{matrix}\\right]$$"
      ],
      "text/plain": [
       "<IPython.core.display.Math at 0x7fc2280b0588>"
      ]
     },
     "metadata": {},
     "output_type": "display_data"
    },
    {
     "data": {
      "text/latex": [
       "$$\\omega_{c} = \\frac{B_{0} e}{m}$$"
      ],
      "text/plain": [
       "<IPython.core.display.Math at 0x7fc1f64b3518>"
      ]
     },
     "metadata": {},
     "output_type": "display_data"
    },
    {
     "name": "stdout",
     "output_type": "stream",
     "text": [
      "solution: \n"
     ]
    },
    {
     "data": {
      "text/latex": [
       "$$\\tilde{p} = \\left[\\begin{matrix}\\frac{\\tau e \\left(\\omega_{c} \\tau \\tilde{E_{y}} \\left(i \\omega \\tau + 1\\right) + \\tilde{E_{x}} \\left(i \\omega \\tau \\left(i \\omega \\tau + 1\\right) + i \\omega \\tau + 1\\right)\\right)}{\\left(i \\omega \\tau + 1\\right) \\left(i \\omega \\tau \\left(i \\omega \\tau + 1\\right) + i \\omega \\tau + \\omega_{c}^{2} \\tau^{2} + 1\\right)}\\\\\\frac{\\tau e \\left(i \\omega \\tau \\tilde{E_{y}} - \\omega_{c} \\tau \\tilde{E_{x}} + \\tilde{E_{y}}\\right)}{- \\omega^{2} \\tau^{2} + 2 i \\omega \\tau + \\omega_{c}^{2} \\tau^{2} + 1}\\end{matrix}\\right]$$"
      ],
      "text/plain": [
       "<IPython.core.display.Math at 0x7fc2280cd8d0>"
      ]
     },
     "metadata": {},
     "output_type": "display_data"
    },
    {
     "name": "stdout",
     "output_type": "stream",
     "text": [
      "current: \n"
     ]
    },
    {
     "data": {
      "text/latex": [
       "$$\\tilde{J} = \\left[\\begin{matrix}\\frac{\\tau e^{2} n_{e} \\left(\\omega_{c} \\tau \\tilde{E_{y}} \\left(i \\omega \\tau + 1\\right) + \\tilde{E_{x}} \\left(i \\omega \\tau \\left(i \\omega \\tau + 1\\right) + i \\omega \\tau + 1\\right)\\right)}{m \\left(i \\omega \\tau + 1\\right) \\left(i \\omega \\tau \\left(i \\omega \\tau + 1\\right) + i \\omega \\tau + \\omega_{c}^{2} \\tau^{2} + 1\\right)}\\\\\\frac{\\tau e^{2} n_{e} \\left(i \\omega \\tau \\tilde{E_{y}} - \\omega_{c} \\tau \\tilde{E_{x}} + \\tilde{E_{y}}\\right)}{m \\left(- \\omega^{2} \\tau^{2} + 2 i \\omega \\tau + \\omega_{c}^{2} \\tau^{2} + 1\\right)}\\end{matrix}\\right]$$"
      ],
      "text/plain": [
       "<IPython.core.display.Math at 0x7fc1fb6657f0>"
      ]
     },
     "metadata": {},
     "output_type": "display_data"
    },
    {
     "name": "stdout",
     "output_type": "stream",
     "text": [
      "conductivity: \n"
     ]
    },
    {
     "data": {
      "text/latex": [
       "$$\\sigma = \\left[\\begin{matrix}\\frac{\\tau e^{2} n_{e} \\left(i \\omega \\tau \\left(i \\omega \\tau + 1\\right) + i \\omega \\tau + 1\\right)}{m \\left(i \\omega \\tau + 1\\right) \\left(i \\omega \\tau \\left(i \\omega \\tau + 1\\right) + i \\omega \\tau + \\omega_{c}^{2} \\tau^{2} + 1\\right)} & \\frac{\\omega_{c} \\tau^{2} e^{2} n_{e}}{m \\left(- \\omega^{2} \\tau^{2} + 2 i \\omega \\tau + \\omega_{c}^{2} \\tau^{2} + 1\\right)}\\\\- \\frac{\\omega_{c} \\tau^{2} e^{2} n_{e}}{m \\left(- \\omega^{2} \\tau^{2} + 2 i \\omega \\tau + \\omega_{c}^{2} \\tau^{2} + 1\\right)} & \\frac{\\tau e^{2} n_{e} \\left(i \\omega \\tau + 1\\right)}{m \\left(- \\omega^{2} \\tau^{2} + 2 i \\omega \\tau + \\omega_{c}^{2} \\tau^{2} + 1\\right)}\\end{matrix}\\right]$$"
      ],
      "text/plain": [
       "<IPython.core.display.Math at 0x7fc2280d8860>"
      ]
     },
     "metadata": {},
     "output_type": "display_data"
    },
    {
     "data": {
      "text/latex": [
       "$$\\sigma_{0} = \\frac{\\tau n_{e}}{m} e^{2}$$"
      ],
      "text/plain": [
       "<IPython.core.display.Math at 0x7fc1f66ae7b8>"
      ]
     },
     "metadata": {},
     "output_type": "display_data"
    },
    {
     "data": {
      "text/latex": [
       "$$\\sigma = \\left[\\begin{matrix}\\frac{\\sigma_{0} \\left(- \\omega^{2} \\tau^{2} + 2 i \\omega \\tau + 1\\right)}{\\left(i \\omega \\tau + 1\\right) \\left(i \\omega \\tau \\left(i \\omega \\tau + 1\\right) + i \\omega \\tau + \\omega_{c}^{2} \\tau^{2} + 1\\right)} & \\frac{\\omega_{c} \\sigma_{0} \\tau}{- \\omega^{2} \\tau^{2} + 2 i \\omega \\tau + \\omega_{c}^{2} \\tau^{2} + 1}\\\\- \\frac{\\omega_{c} \\sigma_{0} \\tau}{- \\omega^{2} \\tau^{2} + 2 i \\omega \\tau + \\omega_{c}^{2} \\tau^{2} + 1} & \\frac{\\sigma_{0} \\left(i \\omega \\tau + 1\\right)}{- \\omega^{2} \\tau^{2} + 2 i \\omega \\tau + \\omega_{c}^{2} \\tau^{2} + 1}\\end{matrix}\\right]$$"
      ],
      "text/plain": [
       "<IPython.core.display.Math at 0x7fc1f6803278>"
      ]
     },
     "metadata": {},
     "output_type": "display_data"
    },
    {
     "name": "stdout",
     "output_type": "stream",
     "text": [
      "sigma_d_str = \n",
      " lambda omega: (sigma_0*(I*omega*tau + 1)/(-omega**2*tau**2 + 2*I*omega*tau + omega_c**2*tau**2 + 1))\n",
      "sigma_d_str = \n",
      " lambda omega: (sigma_0*(1j*omega*tau + 1)/(-omega**2*tau**2 + 2*1j*omega*tau + omega_c**2*tau**2 + 1))\n",
      "sigma_o_str = \n",
      " lambda omega: (omega_c*sigma_0*tau/(-omega**2*tau**2 + 2*I*omega*tau + omega_c**2*tau**2 + 1))\n",
      "sigma_o_str = \n",
      " lambda omega: (omega_c*sigma_0*tau/(-omega**2*tau**2 + 2*I*omega*tau + omega_c**2*tau**2 + 1))\n"
     ]
    }
   ],
   "source": [
    "%reload_ext autoreload\n",
    "%autoreload\n",
    "\n",
    "%pylab inline --no-import-all\n",
    "from sympy import *\n",
    "from IPython.display import display, Math\n",
    "\n",
    "from sympy.utilities.lambdify import lambdastr\n",
    "from Electromagnetics import Misc\n",
    "import Electromagnetics.VectorCalculus as VC\n",
    "\n",
    "t = Symbol('t')\n",
    "tau, m, e = symbols('\\\\tau m e')\n",
    "omega = Symbol('\\\\omega')\n",
    "\n",
    "px = Function('p_x')(t)\n",
    "py = Function('p_y')(t)\n",
    "Ex = Function('E_x')(t)\n",
    "Ey = Function('E_y')(t)\n",
    "px_tilde = Symbol('\\\\tilde{p_x}')\n",
    "py_tilde = Symbol('\\\\tilde{p_y}')\n",
    "Ex_tilde = Symbol('\\\\tilde{E_x}')\n",
    "Ey_tilde = Symbol('\\\\tilde{E_y}')\n",
    "B0 = Symbol('B_0')\n",
    "\n",
    "\n",
    "p = Matrix([px, py, 0]).T\n",
    "E = Matrix([Ex, Ey, 0]).T\n",
    "B = Matrix([0, 0, B0]).T\n",
    "p_tilde = Matrix([px_tilde, py_tilde, 0]).T\n",
    "E_tilde = Matrix([Ex_tilde, Ey_tilde, 0]).T\n",
    "\n",
    "\n",
    "LHS = Misc.SymMatrixdiff(p, t) + p/tau\n",
    "RHS = e*(E + VC.crossproduct(p/m, B))\n",
    "\n",
    "print('equation of motion: ')\n",
    "display(Math(latex(LHS) + ' = ' + latex(RHS)))\n",
    "\n",
    "harmonic = exp(I*omega*t)\n",
    "\n",
    "EOM = LHS - RHS\n",
    "EOM = Misc.SymMatrixSimplify(EOM.subs([(px, px_tilde*harmonic), (py, py_tilde*harmonic)]))\n",
    "EOM = Misc.SymMatrixSimplify(EOM.subs([(Ex, Ex_tilde*harmonic), (Ey, Ey_tilde*harmonic)]))\n",
    "EOM = Misc.SymMatrixSimplify(Misc.SymMatrixdoit(EOM)/harmonic)\n",
    "print('Harmonic equation: ')\n",
    "display(Math(latex(EOM) + ' = 0'))\n",
    "\n",
    "b = -Matrix([EOM[i].subs([(px_tilde, 0), (py_tilde, 0)]) for i in range(EOM.cols)])\n",
    "display(Math('b = ' + latex(b)))\n",
    "EOM = EOM + b.T\n",
    "#display(Math(latex(EOM) + ' = 0'))\n",
    "A = Matrix([[EOM[i].subs([(px_tilde, 1), (py_tilde, 0)]) for i in range(EOM.cols)],\n",
    "            [EOM[i].subs([(px_tilde, 0), (py_tilde, 1)]) for i in range(EOM.cols)]]).T\n",
    "display(Math('A = ' + latex(A)))\n",
    "\n",
    "b.row_del(2)\n",
    "A.row_del(2)\n",
    "\n",
    "omega_c = Symbol('\\\\omega_c')\n",
    "omega_c_rep = e*B0/m\n",
    "display(Math(latex(omega_c) + ' = ' + latex(omega_c_rep)))\n",
    "A = A.subs(omega_c_rep, omega_c)\n",
    "\n",
    "p_tilde = Misc.SymMatrixSimplify(A.inv()*b)\n",
    "print('solution: ')\n",
    "display(Math('\\\\tilde{p} = ' + latex(p_tilde)))\n",
    "\n",
    "n_e =Symbol('n_e')\n",
    "J_tilde = e*n_e*p_tilde/m\n",
    "print('current: ')\n",
    "display(Math('\\\\tilde{J} = ' + latex(J_tilde)))\n",
    "\n",
    "J_tilde = J_tilde.T\n",
    "sigma = Matrix([[J_tilde[i].subs([(Ex_tilde, 1), (Ey_tilde, 0)]) for i in range(J_tilde.cols)],\n",
    "                [J_tilde[i].subs([(Ex_tilde, 0), (Ey_tilde, 1)]) for i in range(J_tilde.cols)]]).T\n",
    "sigma = Misc.SymMatrixSimplify(sigma)\n",
    "print('conductivity: ')\n",
    "display(Math('\\\\sigma = ' + latex(sigma)))\n",
    "\n",
    "sigma_0 = Symbol('\\\\sigma_0')\n",
    "sigma_0_rep = e**2*n_e*tau/m\n",
    "display(Math(latex(sigma_0) + ' = ' + latex(sigma_0_rep)))\n",
    "sigma = sigma.subs(sigma_0_rep, sigma_0)\n",
    "sigma = Misc.SymMatrixSimplify(sigma, frac=True)\n",
    "display(Math('\\\\sigma = ' + latex(sigma)))\n",
    "\n",
    "\n",
    "sigma_d_str = lambdastr(omega, sigma[1,1]).replace('\\\\', '').replace('{', '').replace('}', '')\n",
    "print('sigma_d_str = \\n', sigma_d_str)\n",
    "\n",
    "sigma_d_str = Misc.replace_whole_word(sigma_d_str, 'I', '1j')\n",
    "print('sigma_d_str = \\n', sigma_d_str)\n",
    "\n",
    "sigma_o_str = lambdastr(omega, sigma[0,1]).replace('\\\\', '').replace('{', '').replace('}', '')\n",
    "print('sigma_o_str = \\n', sigma_o_str)\n",
    "\n",
    "sigma_str = Misc.replace_whole_word(sigma_d_str, 'I', '1j')\n",
    "print('sigma_o_str = \\n', sigma_o_str)\n"
   ]
  },
  {
   "cell_type": "markdown",
   "metadata": {},
   "source": [
    "## Lorentz media"
   ]
  },
  {
   "cell_type": "code",
   "execution_count": 3,
   "metadata": {
    "collapsed": false
   },
   "outputs": [
    {
     "name": "stdout",
     "output_type": "stream",
     "text": [
      "Populating the interactive namespace from numpy and matplotlib\n",
      "equation of motion: \n"
     ]
    },
    {
     "data": {
      "text/latex": [
       "$$\\gamma m \\frac{d}{d t} x{\\left (t \\right )} + k x{\\left (t \\right )} + m \\frac{d^{2}}{d t^{2}}  x{\\left (t \\right )} = e E{\\left (t \\right )}$$"
      ],
      "text/plain": [
       "<IPython.core.display.Math object>"
      ]
     },
     "metadata": {},
     "output_type": "display_data"
    },
    {
     "name": "stdout",
     "output_type": "stream",
     "text": [
      "Harmonic equation: \n"
     ]
    },
    {
     "data": {
      "text/latex": [
       "$$\\tilde{x} \\left(i \\gamma \\omega m - \\omega^{2} m + k\\right) = \\tilde{E} e$$"
      ],
      "text/plain": [
       "<IPython.core.display.Math object>"
      ]
     },
     "metadata": {},
     "output_type": "display_data"
    },
    {
     "name": "stdout",
     "output_type": "stream",
     "text": [
      "solution: \n"
     ]
    },
    {
     "data": {
      "text/latex": [
       "$$\\tilde{x} = \\frac{\\tilde{E} e}{i \\gamma \\omega m - \\omega^{2} m + k}$$"
      ],
      "text/plain": [
       "<IPython.core.display.Math object>"
      ]
     },
     "metadata": {},
     "output_type": "display_data"
    },
    {
     "name": "stdout",
     "output_type": "stream",
     "text": [
      "polarization density: \n"
     ]
    },
    {
     "data": {
      "text/latex": [
       "$$\\tilde{P} = \\frac{\\tilde{E} e^{2} n_{e}}{i \\gamma \\omega m - \\omega^{2} m + k}$$"
      ],
      "text/plain": [
       "<IPython.core.display.Math object>"
      ]
     },
     "metadata": {},
     "output_type": "display_data"
    },
    {
     "data": {
      "text/latex": [
       "$$k = \\omega_0^{2} m$$"
      ],
      "text/plain": [
       "<IPython.core.display.Math object>"
      ]
     },
     "metadata": {},
     "output_type": "display_data"
    },
    {
     "data": {
      "text/latex": [
       "$$\\tilde{P} = \\frac{\\tilde{E} e^{2} n_{e}}{m \\left(i \\gamma \\omega - \\omega^{2} + \\omega_0^{2}\\right)}$$"
      ],
      "text/plain": [
       "<IPython.core.display.Math object>"
      ]
     },
     "metadata": {},
     "output_type": "display_data"
    },
    {
     "data": {
      "text/latex": [
       "$$\\chi = \\frac{e^{2} n_{e}}{m \\left(i \\gamma \\omega - \\omega^{2} + \\omega_0^{2}\\right)}$$"
      ],
      "text/plain": [
       "<IPython.core.display.Math object>"
      ]
     },
     "metadata": {},
     "output_type": "display_data"
    },
    {
     "name": "stdout",
     "output_type": "stream",
     "text": [
      "chi_str = \n",
      " lambda omega: (e**2*n_e/(m*(I*gamma*omega - omega**2 + omega_0**2)))\n",
      "chi_str = \n",
      " lambda omega: (e**2*n_e/(m*(1j*gamma*omega - omega**2 + omega_0**2)))\n"
     ]
    },
    {
     "data": {
      "text/latex": [
       "$$\\chi = \\frac{\\epsilon_0 \\omega_p^{2}}{i \\gamma \\omega - \\omega^{2} + \\omega_0^{2}}$$"
      ],
      "text/plain": [
       "<IPython.core.display.Math object>"
      ]
     },
     "metadata": {},
     "output_type": "display_data"
    },
    {
     "name": "stdout",
     "output_type": "stream",
     "text": [
      "chi_str = \n",
      " lambda omega: (epsilon_0*omega_p**2/(I*gamma*omega - omega**2 + omega_0**2))\n",
      "chi_str = \n",
      " lambda omega: (epsilon_0*omega_p**2/(1j*gamma*omega - omega**2 + omega_0**2))\n"
     ]
    }
   ],
   "source": [
    "%pylab inline --no-import-all\n",
    "from sympy import *\n",
    "from IPython.display import display, Math\n",
    "\n",
    "from sympy.utilities.lambdify import lambdastr\n",
    "from Electromagnetics import Misc\n",
    "\n",
    "t = Symbol('t')\n",
    "tau, gamma, m, e, k = symbols('\\\\tau \\\\gamma m e k')\n",
    "omega = Symbol('\\\\omega')\n",
    "\n",
    "x = Function('x')(t)\n",
    "E = Function('E')(t)\n",
    "x_tilde = Symbol('\\\\tilde{x}')\n",
    "E_tilde = Symbol('\\\\tilde{E}')\n",
    "\n",
    "\n",
    "LHS = m*diff(x, t, 2) + m*gamma*diff(x, t) + k*x\n",
    "RHS = e*E\n",
    "\n",
    "print('equation of motion: ')\n",
    "display(Math(latex(LHS) + ' = ' + latex(RHS)))\n",
    "\n",
    "LHS = (LHS.subs(x, x_tilde*exp(I*omega*t)).doit()/exp(I*omega*t)).simplify()\n",
    "RHS = (RHS.subs(E, E_tilde*exp(I*omega*t)).doit()/exp(I*omega*t)).simplify()\n",
    "print('Harmonic equation: ')\n",
    "display(Math(latex(LHS) + ' = ' + latex(RHS)))\n",
    "\n",
    "EOM = LHS - RHS\n",
    "x_tilde_rep = solve(EOM, x_tilde)[0]\n",
    "print('solution: ')\n",
    "display(Math(latex(x_tilde) + ' = ' + latex(x_tilde_rep)))\n",
    "\n",
    "n_e =Symbol('n_e')\n",
    "P_tilde = n_e*e*x_tilde_rep\n",
    "print('polarization density: ')\n",
    "display(Math('\\\\tilde{P} = ' + latex(P_tilde)))\n",
    "\n",
    "omega_0 = Symbol('\\\\omega_0')\n",
    "k_rep = m*omega_0**2\n",
    "display(Math('k = ' + latex(k_rep)))\n",
    "P_tilde = P_tilde.subs(k, k_rep).simplify()\n",
    "display(Math('\\\\tilde{P} = ' + latex(P_tilde)))\n",
    "\n",
    "chi = P_tilde/E_tilde\n",
    "display(Math('\\\\chi = ' + latex(chi)))\n",
    "\n",
    "chi_str = lambdastr(omega, chi).replace('\\\\', '').replace('{', '').replace('}', '')\n",
    "print('chi_str = \\n', chi_str)\n",
    "\n",
    "chi_str = Misc.replace_whole_word(chi_str, 'I', '1j')\n",
    "print('chi_str = \\n', chi_str)\n",
    "\n",
    "omega_p = Symbol('\\\\omega_p')\n",
    "epsilon_0 = Symbol('\\\\epsilon_0')\n",
    "chi = chi.subs(n_e*e**2/m, omega_p**2*epsilon_0)\n",
    "display(Math('\\\\chi = ' + latex(chi)))\n",
    "\n",
    "chi_str = lambdastr(omega, chi).replace('\\\\', '').replace('{', '').replace('}', '')\n",
    "print('chi_str = \\n', chi_str)\n",
    "\n",
    "chi_str = Misc.replace_whole_word(chi_str, 'I', '1j')\n",
    "print('chi_str = \\n', chi_str)\n"
   ]
  },
  {
   "cell_type": "markdown",
   "metadata": {},
   "source": [
    "## Non-local Drude - Boltzmann"
   ]
  },
  {
   "cell_type": "code",
   "execution_count": 52,
   "metadata": {
    "collapsed": false
   },
   "outputs": [
    {
     "name": "stdout",
     "output_type": "stream",
     "text": [
      "Populating the interactive namespace from numpy and matplotlib\n",
      "equation of motion: \n"
     ]
    },
    {
     "data": {
      "text/latex": [
       "$$\\frac{e}{\\hbar} E{\\left (t,x \\right )} \\frac{\\partial}{\\partial k} f{\\left (t,x,k \\right )} + v \\frac{\\partial}{\\partial x} f{\\left (t,x,k \\right )} + \\frac{\\partial}{\\partial t} f{\\left (t,x,k \\right )} = \\gamma \\left(- f{\\left (t,x,k \\right )} + \\operatorname{f_{{0}}}{\\left (k \\right )}\\right)$$"
      ],
      "text/plain": [
       "<IPython.core.display.Math at 0x7fc1fb68eef0>"
      ]
     },
     "metadata": {},
     "output_type": "display_data"
    },
    {
     "data": {
      "text/latex": [
       "$$EQ = \\frac{\\tilde{E} e}{\\hbar} \\delta^{2} e^{2 i \\omega t} e^{- 2 i q x} \\frac{d}{d k} \\tilde{f}{\\left (k \\right )} + \\delta \\gamma \\tilde{f}{\\left (k \\right )} e^{i \\omega t} e^{- i q x} + i \\delta \\omega \\tilde{f}{\\left (k \\right )} e^{i \\omega t} e^{- i q x} + \\frac{\\delta \\tilde{E}}{\\hbar} e e^{i \\omega t} e^{- i q x} \\frac{d}{d k} \\operatorname{f_{{0}}}{\\left (k \\right )} - i \\delta q v \\tilde{f}{\\left (k \\right )} e^{i \\omega t} e^{- i q x}$$"
      ],
      "text/plain": [
       "<IPython.core.display.Math at 0x7fc1fb68ae10>"
      ]
     },
     "metadata": {},
     "output_type": "display_data"
    },
    {
     "data": {
      "text/latex": [
       "$$EQ = \\delta \\gamma \\tilde{f}{\\left (k \\right )} + i \\delta \\omega \\tilde{f}{\\left (k \\right )} + \\frac{\\delta \\tilde{E}}{\\hbar} e \\frac{d}{d k} \\operatorname{f_{{0}}}{\\left (k \\right )} - i \\delta q v \\tilde{f}{\\left (k \\right )}$$"
      ],
      "text/plain": [
       "<IPython.core.display.Math at 0x7fc1fb68ae10>"
      ]
     },
     "metadata": {},
     "output_type": "display_data"
    },
    {
     "data": {
      "text/latex": [
       "$$EQ = \\frac{1}{\\hbar} \\left(\\tilde{E} e \\frac{d}{d k} \\operatorname{f_{{0}}}{\\left (k \\right )} + \\hbar \\left(\\gamma + i \\omega - i q v\\right) \\tilde{f}{\\left (k \\right )}\\right)$$"
      ],
      "text/plain": [
       "<IPython.core.display.Math at 0x7fc1fb68ae10>"
      ]
     },
     "metadata": {},
     "output_type": "display_data"
    },
    {
     "data": {
      "text/latex": [
       "$$\\tilde{f}{\\left (k \\right )} = \\frac{\\tilde{E} e \\frac{d}{d k} \\operatorname{f_{{0}}}{\\left (k \\right )}}{\\hbar \\left(- \\gamma - i \\omega + i q v\\right)}$$"
      ],
      "text/plain": [
       "<IPython.core.display.Math at 0x7fc1fb68ae10>"
      ]
     },
     "metadata": {},
     "output_type": "display_data"
    },
    {
     "data": {
      "text/latex": [
       "$$\\tilde{J} = \\frac{e}{\\pi^{2} \\hbar^{2}} \\int \\frac{\\tilde{E} e v \\frac{d}{d k} \\operatorname{f_{{0}}}{\\left (k \\right )}}{\\hbar \\left(- \\gamma - i \\omega + i q v\\right)}\\, dk$$"
      ],
      "text/plain": [
       "<IPython.core.display.Math at 0x7fc1fb68ae10>"
      ]
     },
     "metadata": {},
     "output_type": "display_data"
    },
    {
     "data": {
      "text/latex": [
       "$$\\tilde{J} = \\frac{e}{\\pi^{2} \\hbar^{2}} \\int - \\frac{\\tilde{E} e k \\frac{d}{d k} \\operatorname{f_{{0}}}{\\left (k \\right )}}{- i \\hbar k q + m \\left(\\gamma + i \\omega\\right)}\\, dk$$"
      ],
      "text/plain": [
       "<IPython.core.display.Math at 0x7fc1fb68ae10>"
      ]
     },
     "metadata": {},
     "output_type": "display_data"
    }
   ],
   "source": [
    "%pylab inline --no-import-all\n",
    "from sympy import *\n",
    "from IPython.display import display, Math\n",
    "\n",
    "from sympy.utilities.lambdify import lambdastr\n",
    "from Electromagnetics import Misc\n",
    "\n",
    "t, x, v, p, k = symbols('t x v p k')\n",
    "\n",
    "tau, gamma, m, e, hbar = symbols('\\\\tau \\\\gamma m e hbar')\n",
    "omega, q = symbols('\\\\omega q')\n",
    "\n",
    "f = Function('f')(t,x,k)\n",
    "f_0 = Function('f_{0}')(k)\n",
    "E = Function('E')(t, x)\n",
    "\n",
    "dims = 2    ## dimension\n",
    "dg = 2     ## degeneracy\n",
    "\n",
    "LHS = diff(f, t) + v*diff(f,x) + e*E/hbar*diff(f, k)\n",
    "RHS = gamma*(f_0 - f)\n",
    "\n",
    "print('equation of motion: ')\n",
    "display(Math(latex(LHS) + ' = ' + latex(RHS)))\n",
    "\n",
    "f_tilde = Function('\\\\tilde{f}')(k)\n",
    "E_tilde = Symbol('\\\\tilde{E}')\n",
    "delta = Symbol('\\\\delta')\n",
    "harmonic = exp(I*(omega*t - q*x))\n",
    "EQ = LHS - RHS\n",
    "EQ = EQ.subs([(E, delta*E_tilde*harmonic), (f, f_0 + delta*f_tilde*harmonic)]).doit().expand()\n",
    "display(Math('EQ = ' + latex(EQ)))\n",
    "\n",
    "EQ = (EQ.subs(delta**2, 0)/harmonic).simplify()\n",
    "display(Math('EQ = ' + latex(EQ)))\n",
    "\n",
    "EQ = EQ.subs(delta, 1).simplify()\n",
    "display(Math('EQ = ' + latex(EQ)))\n",
    "\n",
    "f_tilde_rep = solve(EQ, f_tilde)[0]\n",
    "display(Math(latex(f_tilde) + ' = ' + latex(f_tilde_rep)))\n",
    "\n",
    "J_tilde = 2*e*dg/(2*pi*hbar)**dims*Integral(v*f_tilde_rep, k)\n",
    "display(Math('\\\\tilde{J} = ' + latex(J_tilde)))\n",
    "\n",
    "J_tilde = J_tilde.subs(v, hbar*k/m).simplify()\n",
    "display(Math('\\\\tilde{J} = ' + latex(J_tilde)))\n"
   ]
  },
  {
   "cell_type": "markdown",
   "metadata": {},
   "source": [
    "## Non-local Drude with magnetic bias"
   ]
  },
  {
   "cell_type": "code",
   "execution_count": 59,
   "metadata": {
    "collapsed": false
   },
   "outputs": [
    {
     "name": "stdout",
     "output_type": "stream",
     "text": [
      "Populating the interactive namespace from numpy and matplotlib\n",
      "equation of motion: \n"
     ]
    },
    {
     "data": {
      "text/latex": [
       "$$\\frac{e}{\\hbar} \\left(- B_{0} v_{x} + \\operatorname{E_{y}}{\\left (t,x \\right )}\\right) \\frac{\\partial}{\\partial k_{y}} f{\\left (t,x,y,k_{x},k_{y} \\right )} + \\frac{e}{\\hbar} \\left(B_{0} v_{y} + \\operatorname{E_{x}}{\\left (t,x \\right )}\\right) \\frac{\\partial}{\\partial k_{x}} f{\\left (t,x,y,k_{x},k_{y} \\right )} + v_{x} \\frac{\\partial}{\\partial x} f{\\left (t,x,y,k_{x},k_{y} \\right )} + v_{y} \\frac{\\partial}{\\partial y} f{\\left (t,x,y,k_{x},k_{y} \\right )} + \\frac{\\partial}{\\partial t} f{\\left (t,x,y,k_{x},k_{y} \\right )} = \\gamma \\left(- f{\\left (t,x,y,k_{x},k_{y} \\right )} + \\operatorname{f_{{0}}}{\\left (k_{x},k_{y} \\right )}\\right)$$"
      ],
      "text/plain": [
       "<IPython.core.display.Math at 0x7fc228113978>"
      ]
     },
     "metadata": {},
     "output_type": "display_data"
    },
    {
     "data": {
      "text/plain": [
       "\"\\nf_tilde = Function('\\\\tilde{f}')(kx, ky)\\nEx_tilde = Symbol('\\\\tilde{E_x}')\\ndelta = Symbol('\\\\delta')\\nharmonic = exp(I*(omega*t - qx*x))\\nEQ = LHS - RHS\\nEQ = EQ.subs([(E_x, delta*Ex_tilde*harmonic), (f, f_0 + delta*f_tilde*harmonic)]).doit().expand()\\ndisplay(Math('EQ = ' + latex(EQ)))\\n\\nEQ = (EQ.subs(delta**2, 0)/harmonic).simplify()\\ndisplay(Math('EQ = ' + latex(EQ)))\\n\\nEQ = EQ.subs(delta, 1).simplify()\\ndisplay(Math('EQ = ' + latex(EQ)))\\n\\nf_tilde_rep = solve(EQ, f_tilde)[0]\\ndisplay(Math(latex(f_tilde) + ' = ' + latex(f_tilde_rep)))\\n\\nJ_tilde = 2*e*dg/(2*pi*hbar)**dims*Integral(v*f_tilde_rep, k)\\ndisplay(Math('\\\\tilde{J} = ' + latex(J_tilde)))\\n\\nJ_tilde = J_tilde.subs(v, hbar*k/m).simplify()\\ndisplay(Math('\\\\tilde{J} = ' + latex(J_tilde)))\\n\""
      ]
     },
     "execution_count": 59,
     "metadata": {},
     "output_type": "execute_result"
    }
   ],
   "source": [
    "%pylab inline --no-import-all\n",
    "from sympy import *\n",
    "from IPython.display import display, Math\n",
    "\n",
    "from sympy.utilities.lambdify import lambdastr\n",
    "from Electromagnetics import Misc\n",
    "import Electromagnetics.VectorCalculus as VC\n",
    "\n",
    "t, x, y, z = symbols('t x y z')\n",
    "vx, vy, vz = symbols('v_x v_y v_z')\n",
    "px, py, pz = symbols('p_x p_y p_z') \n",
    "kx, ky, kz = symbols('k_x k_y k_z')\n",
    "\n",
    "tau, gamma, m, e, hbar = symbols('\\\\tau \\\\gamma m e hbar')\n",
    "omega, qx, qy, qz = symbols('\\\\omega q_x q_y q_z')\n",
    "\n",
    "f = Function('f')(t,x,y,kx,ky)\n",
    "f_0 = Function('f_{0}')(kx,ky)\n",
    "Ex = Function('E_x')(t, x)\n",
    "Ey = Function('E_y')(t, x)\n",
    "B_0 = Symbol('B_0')\n",
    "\n",
    "v_vec = Matrix([vx, vy, 0]).T\n",
    "p_vec = Matrix([px, py, 0]).T\n",
    "k_vec = Matrix([kx, ky, 0]).T\n",
    "E_vec = Matrix([Ex, Ey, 0]).T\n",
    "B0_vec = Matrix([0, 0, B_0]).T\n",
    "\n",
    "dims = 2    ## dimension\n",
    "dg = 2     ## degeneracy\n",
    "\n",
    "LHS = diff(f, t) + VC.dotproduct(v_vec, VC.gradient_r(f)) + \\\n",
    "    VC.dotproduct(e*(E_vec+VC.crossproduct(v_vec, B0_vec))/hbar, VC.gradient_r(f, kx, ky, kz))\n",
    "RHS = gamma*(f_0 - f)\n",
    "\n",
    "print('equation of motion: ')\n",
    "display(Math(latex(LHS) + ' = ' + latex(RHS)))\n",
    "\n",
    "\"\"\"\n",
    "f_tilde = Function('\\\\tilde{f}')(kx, ky)\n",
    "Ex_tilde = Symbol('\\\\tilde{E_x}')\n",
    "delta = Symbol('\\\\delta')\n",
    "harmonic = exp(I*(omega*t - qx*x))\n",
    "EQ = LHS - RHS\n",
    "EQ = EQ.subs([(E_x, delta*Ex_tilde*harmonic), (f, f_0 + delta*f_tilde*harmonic)]).doit().expand()\n",
    "display(Math('EQ = ' + latex(EQ)))\n",
    "\n",
    "EQ = (EQ.subs(delta**2, 0)/harmonic).simplify()\n",
    "display(Math('EQ = ' + latex(EQ)))\n",
    "\n",
    "EQ = EQ.subs(delta, 1).simplify()\n",
    "display(Math('EQ = ' + latex(EQ)))\n",
    "\n",
    "f_tilde_rep = solve(EQ, f_tilde)[0]\n",
    "display(Math(latex(f_tilde) + ' = ' + latex(f_tilde_rep)))\n",
    "\n",
    "J_tilde = 2*e*dg/(2*pi*hbar)**dims*Integral(v*f_tilde_rep, k)\n",
    "display(Math('\\\\tilde{J} = ' + latex(J_tilde)))\n",
    "\n",
    "J_tilde = J_tilde.subs(v, hbar*k/m).simplify()\n",
    "display(Math('\\\\tilde{J} = ' + latex(J_tilde)))\n",
    "\"\"\"\n"
   ]
  },
  {
   "cell_type": "markdown",
   "metadata": {},
   "source": [
    "### Drude numerical"
   ]
  },
  {
   "cell_type": "code",
   "execution_count": 21,
   "metadata": {
    "collapsed": false
   },
   "outputs": [
    {
     "name": "stdout",
     "output_type": "stream",
     "text": [
      "Populating the interactive namespace from numpy and matplotlib\n"
     ]
    },
    {
     "name": "stderr",
     "output_type": "stream",
     "text": [
      "/usr/local/lib/python3.5/dist-packages/IPython/core/magics/pylab.py:161: UserWarning: pylab import has clobbered these variables: ['f']\n",
      "`%matplotlib` prevents importing * from pylab and numpy\n",
      "  \"\\n`%matplotlib` prevents importing * from pylab and numpy\"\n"
     ]
    },
    {
     "data": {
      "image/png": "[encoded data removed]",
      "text/plain": [
       "<matplotlib.figure.Figure at 0x7fea3fb13668>"
      ]
     },
     "metadata": {},
     "output_type": "display_data"
    },
    {
     "data": {
      "image/png": "[encoded data removed]",
      "text/plain": [
       "<matplotlib.figure.Figure at 0x7fea3f622358>"
      ]
     },
     "metadata": {},
     "output_type": "display_data"
    }
   ],
   "source": [
    "%reload_ext autoreload\n",
    "%autoreload\n",
    "\n",
    "%pylab inline\n",
    "\n",
    "import numpy as np\n",
    "from Electromagnetics.Causality import *\n",
    "from scipy import constants\n",
    "import math\n",
    "\n",
    "f_0 = 10.0*constants.tera\n",
    "f_1 = 100.0*constants.peta\n",
    "N = 1000\n",
    "\n",
    "f = np.logspace(np.log10(f_0), np.log10(f_1), N)\n",
    "\n",
    "tau = 1.0/5.7e13 #0.1*constants.pico\n",
    "\n",
    "mat_drude = DrudeModel(tau=tau, sigma_0=3.0e7)\n",
    "\n",
    "omega = 2.0*math.pi*f\n",
    "sigma = mat_drude.GetConductivity(omega)\n",
    "\n",
    "font = {'family' : 'serif', 'weight' : 'normal', 'size'   : 18}\n",
    "matplotlib.rc('font', **font)\n",
    "\n",
    "figsize(10, 6)\n",
    "\n",
    "plot(f, np.real(sigma), 'b', f, np.imag(sigma), 'r')\n",
    "xscale('log')\n",
    "\n",
    "xlabel('$f$ - (Hz)', fontsize=18)\n",
    "ylabel('$\\\\sigma$ - (mS)', fontsize=18)\n",
    "show()\n",
    "\n",
    "figsize(6, 4)\n",
    "eps_r = 1.0 - 1j*sigma/(omega*constants.epsilon_0)\n",
    "plot(f, np.real(eps_r), 'b', lw=2, label='real part')\n",
    "plot(f, np.imag(eps_r), 'r-.', lw=2, label='imaginary part')\n",
    "xscale('log')\n",
    "xlabel('$f$ - (Hz)', fontsize=18)\n",
    "ylabel('$\\\\epsilon_r$', fontsize=18)\n",
    "ylim([-10, 1])\n",
    "grid()\n",
    "legend(loc='best', fontsize=10)\n",
    "savefig('other/eps-metal.eps', bbox_inches='tight', pad_inches=0.2)\n",
    "show()\n",
    "\n"
   ]
  },
  {
   "cell_type": "markdown",
   "metadata": {},
   "source": [
    "### Lorentz numerical"
   ]
  },
  {
   "cell_type": "code",
   "execution_count": 28,
   "metadata": {
    "collapsed": false
   },
   "outputs": [
    {
     "name": "stdout",
     "output_type": "stream",
     "text": [
      "Populating the interactive namespace from numpy and matplotlib\n"
     ]
    },
    {
     "name": "stderr",
     "output_type": "stream",
     "text": [
      "WARNING: pylab import has clobbered these variables: ['f', 'gamma']\n",
      "`%pylab --no-import-all` prevents importing * from pylab and numpy\n"
     ]
    },
    {
     "data": {
      "image/png": "[encoded data removed]",
      "text/plain": [
       "<matplotlib.figure.Figure at 0x7fc5e365e1d0>"
      ]
     },
     "metadata": {},
     "output_type": "display_data"
    }
   ],
   "source": [
    "%reload_ext autoreload\n",
    "%autoreload\n",
    "\n",
    "%pylab inline\n",
    "\n",
    "import numpy as np\n",
    "from Electromagnetics.Causality import *\n",
    "from scipy import constants\n",
    "import math\n",
    "\n",
    "f_0 = 1.0*constants.giga\n",
    "f_1 = 100.0*constants.tera\n",
    "N = 1000\n",
    "\n",
    "f = np.logspace(np.log10(f_0), np.log10(f_1), N)\n",
    "\n",
    "gamma = 1.0*constants.tera\n",
    "omega_0 = 10.0*constants.tera\n",
    "\n",
    "mat_lorentz = LorentzModel(gamma=gamma, omega_0=omega_0, chi_0=0.99)\n",
    "\n",
    "omega = 2.0*math.pi*f\n",
    "eps = mat_lorentz.GetPermittivity(omega)\n",
    "\n",
    "figsize(10, 6)\n",
    "\n",
    "plot(f, np.real(eps), 'b', f, np.imag(eps), 'r')\n",
    "xscale('log')\n",
    "\n",
    "xlabel('$f$ - (Hz)', fontsize=18)\n",
    "ylabel('$\\\\epsilon_r$', fontsize=18)\n",
    "\n",
    "font = {'family' : 'serif', 'weight' : 'normal', 'size'   : 18}\n",
    "matplotlib.rc('font', **font)\n"
   ]
  },
  {
   "cell_type": "code",
   "execution_count": null,
   "metadata": {
    "collapsed": false
   },
   "outputs": [],
   "source": []
  }
 ],
 "metadata": {
  "kernelspec": {
   "display_name": "Python 3",
   "language": "python",
   "name": "python3"
  },
  "language_info": {
   "codemirror_mode": {
    "name": "ipython",
    "version": 3
   },
   "file_extension": ".py",
   "mimetype": "text/x-python",
   "name": "python",
   "nbconvert_exporter": "python",
   "pygments_lexer": "ipython3",
   "version": "3.5.2"
  }
 },
 "nbformat": 4,
 "nbformat_minor": 0
}
