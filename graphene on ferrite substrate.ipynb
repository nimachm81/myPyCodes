{
 "cells": [
  {
   "cell_type": "markdown",
   "metadata": {},
   "source": [
    "# Graphene sheet on a ferrite substrate - isolator"
   ]
  },
  {
   "cell_type": "code",
   "execution_count": 14,
   "metadata": {
    "collapsed": false
   },
   "outputs": [
    {
     "data": {
      "text/latex": [
       "$$E_1 = \\left[\\begin{matrix}E_{{x1}} e^{- \\alpha_{1} y - i k z} & E_{{y1}} e^{- \\alpha_{1} y - i k z} & E_{{z1}} e^{- \\alpha_{1} y - i k z}\\end{matrix}\\right]$$"
      ],
      "text/plain": [
       "<IPython.core.display.Math object>"
      ]
     },
     "metadata": {},
     "output_type": "display_data"
    },
    {
     "data": {
      "text/latex": [
       "$$E_2 = \\left[\\begin{matrix}E_{{x2}} e^{\\alpha_{2} y - i k z} & E_{{y2}} e^{\\alpha_{2} y - i k z} & E_{{z2}} e^{\\alpha_{2} y - i k z}\\end{matrix}\\right]$$"
      ],
      "text/plain": [
       "<IPython.core.display.Math object>"
      ]
     },
     "metadata": {},
     "output_type": "display_data"
    },
    {
     "name": "stdout",
     "output_type": "stream",
     "text": [
      "latex:\n",
      " E_1 = \\left[\\begin{matrix}E_{{x1}} e^{- \\alpha_{1} y - i k z} & E_{{y1}} e^{- \\alpha_{1} y - i k z} & E_{{z1}} e^{- \\alpha_{1} y - i k z}\\end{matrix}\\right]\n",
      " E_2 = \\left[\\begin{matrix}E_{{x2}} e^{\\alpha_{2} y - i k z} & E_{{y2}} e^{\\alpha_{2} y - i k z} & E_{{z2}} e^{\\alpha_{2} y - i k z}\\end{matrix}\\right]\n"
     ]
    },
    {
     "data": {
      "text/latex": [
       "$$\\mu_2 = \\left[\\begin{matrix}1 & 0 & 0\\\\0 & \\mu_{{rd2}} & - \\mu_{{ro2}}\\\\0 & \\mu_{{ro2}} & \\mu_{{rd2}}\\end{matrix}\\right]$$"
      ],
      "text/plain": [
       "<IPython.core.display.Math object>"
      ]
     },
     "metadata": {},
     "output_type": "display_data"
    },
    {
     "name": "stdout",
     "output_type": "stream",
     "text": [
      "latex:\n",
      " \\mu_2 = \\left[\\begin{matrix}1 & 0 & 0\\\\0 & \\mu_{{rd2}} & - \\mu_{{ro2}}\\\\0 & \\mu_{{ro2}} & \\mu_{{rd2}}\\end{matrix}\\right]\n"
     ]
    },
    {
     "data": {
      "text/latex": [
       "$$\\mu_2^{-1} = \\left[\\begin{matrix}1 & 0 & 0\\\\0 & \\frac{1}{\\mu_{{rd2}}} - \\frac{\\mu_{{ro2}}^{2}}{\\mu_{{rd2}}^{2} \\left(\\mu_{{rd2}} + \\frac{\\mu_{{ro2}}^{2}}{\\mu_{{rd2}}}\\right)} & \\frac{\\mu_{{ro2}}}{\\mu_{{rd2}} \\left(\\mu_{{rd2}} + \\frac{\\mu_{{ro2}}^{2}}{\\mu_{{rd2}}}\\right)}\\\\0 & - \\frac{\\mu_{{ro2}}}{\\mu_{{rd2}} \\left(\\mu_{{rd2}} + \\frac{\\mu_{{ro2}}^{2}}{\\mu_{{rd2}}}\\right)} & \\frac{1}{\\mu_{{rd2}} + \\frac{\\mu_{{ro2}}^{2}}{\\mu_{{rd2}}}}\\end{matrix}\\right]$$"
      ],
      "text/plain": [
       "<IPython.core.display.Math object>"
      ]
     },
     "metadata": {},
     "output_type": "display_data"
    },
    {
     "name": "stdout",
     "output_type": "stream",
     "text": [
      "latex:\n",
      " \\mu_2^{-1} = \\left[\\begin{matrix}1 & 0 & 0\\\\0 & \\frac{1}{\\mu_{{rd2}}} - \\frac{\\mu_{{ro2}}^{2}}{\\mu_{{rd2}}^{2} \\left(\\mu_{{rd2}} + \\frac{\\mu_{{ro2}}^{2}}{\\mu_{{rd2}}}\\right)} & \\frac{\\mu_{{ro2}}}{\\mu_{{rd2}} \\left(\\mu_{{rd2}} + \\frac{\\mu_{{ro2}}^{2}}{\\mu_{{rd2}}}\\right)}\\\\0 & - \\frac{\\mu_{{ro2}}}{\\mu_{{rd2}} \\left(\\mu_{{rd2}} + \\frac{\\mu_{{ro2}}^{2}}{\\mu_{{rd2}}}\\right)} & \\frac{1}{\\mu_{{rd2}} + \\frac{\\mu_{{ro2}}^{2}}{\\mu_{{rd2}}}}\\end{matrix}\\right]\n"
     ]
    },
    {
     "data": {
      "text/latex": [
       "$$H_1 = \\left[\\begin{matrix}\\frac{i}{\\mu_{0} \\mu_{{r1}} \\omega} \\left(- \\frac{\\partial}{\\partial z}\\left(E_{{y1}} e^{- \\alpha_{1} y - i k z}\\right) + \\frac{\\partial}{\\partial y}\\left(E_{{z1}} e^{- \\alpha_{1} y - i k z}\\right)\\right) & \\frac{i}{\\mu_{0} \\mu_{{r1}} \\omega} \\left(\\frac{\\partial}{\\partial z}\\left(E_{{x1}} e^{- \\alpha_{1} y - i k z}\\right) - \\frac{\\partial}{\\partial x}\\left(E_{{z1}} e^{- \\alpha_{1} y - i k z}\\right)\\right) & \\frac{i}{\\mu_{0} \\mu_{{r1}} \\omega} \\left(- \\frac{\\partial}{\\partial y}\\left(E_{{x1}} e^{- \\alpha_{1} y - i k z}\\right) + \\frac{\\partial}{\\partial x}\\left(E_{{y1}} e^{- \\alpha_{1} y - i k z}\\right)\\right)\\end{matrix}\\right]$$"
      ],
      "text/plain": [
       "<IPython.core.display.Math object>"
      ]
     },
     "metadata": {},
     "output_type": "display_data"
    },
    {
     "data": {
      "text/latex": [
       "$$H_2 = \\left[\\begin{matrix}\\frac{i}{\\mu_{0} \\omega} \\left(- \\frac{\\partial}{\\partial z}\\left(E_{{y2}} e^{\\alpha_{2} y - i k z}\\right) + \\frac{\\partial}{\\partial y}\\left(E_{{z2}} e^{\\alpha_{2} y - i k z}\\right)\\right) & \\frac{i}{\\mu_{0} \\omega} \\left(\\frac{1}{\\mu_{{rd2}}} - \\frac{\\mu_{{ro2}}^{2}}{\\mu_{{rd2}}^{2} \\left(\\mu_{{rd2}} + \\frac{\\mu_{{ro2}}^{2}}{\\mu_{{rd2}}}\\right)}\\right) \\left(\\frac{\\partial}{\\partial z}\\left(E_{{x2}} e^{\\alpha_{2} y - i k z}\\right) - \\frac{\\partial}{\\partial x}\\left(E_{{z2}} e^{\\alpha_{2} y - i k z}\\right)\\right) + \\frac{i \\mu_{{ro2}}}{\\mu_{0} \\mu_{{rd2}} \\omega \\left(\\mu_{{rd2}} + \\frac{\\mu_{{ro2}}^{2}}{\\mu_{{rd2}}}\\right)} \\left(- \\frac{\\partial}{\\partial y}\\left(E_{{x2}} e^{\\alpha_{2} y - i k z}\\right) + \\frac{\\partial}{\\partial x}\\left(E_{{y2}} e^{\\alpha_{2} y - i k z}\\right)\\right) & \\frac{i}{\\mu_{0} \\omega \\left(\\mu_{{rd2}} + \\frac{\\mu_{{ro2}}^{2}}{\\mu_{{rd2}}}\\right)} \\left(- \\frac{\\partial}{\\partial y}\\left(E_{{x2}} e^{\\alpha_{2} y - i k z}\\right) + \\frac{\\partial}{\\partial x}\\left(E_{{y2}} e^{\\alpha_{2} y - i k z}\\right)\\right) - \\frac{i \\mu_{{ro2}}}{\\mu_{0} \\mu_{{rd2}} \\omega \\left(\\mu_{{rd2}} + \\frac{\\mu_{{ro2}}^{2}}{\\mu_{{rd2}}}\\right)} \\left(\\frac{\\partial}{\\partial z}\\left(E_{{x2}} e^{\\alpha_{2} y - i k z}\\right) - \\frac{\\partial}{\\partial x}\\left(E_{{z2}} e^{\\alpha_{2} y - i k z}\\right)\\right)\\end{matrix}\\right]$$"
      ],
      "text/plain": [
       "<IPython.core.display.Math object>"
      ]
     },
     "metadata": {},
     "output_type": "display_data"
    },
    {
     "data": {
      "text/latex": [
       "$$H_1 = \\left[\\begin{matrix}\\frac{i}{\\mu_{0} \\mu_{{r1}} \\omega} \\left(i E_{{y1}} k e^{- \\alpha_{1} y - i k z} - E_{{z1}} \\alpha_{1} e^{- \\alpha_{1} y - i k z}\\right)\\\\\\frac{E_{{x1}} k}{\\mu_{0} \\mu_{{r1}} \\omega} e^{- \\alpha_{1} y - i k z}\\\\\\frac{i E_{{x1}} \\alpha_{1}}{\\mu_{0} \\mu_{{r1}} \\omega} e^{- \\alpha_{1} y - i k z}\\end{matrix}\\right]$$"
      ],
      "text/plain": [
       "<IPython.core.display.Math object>"
      ]
     },
     "metadata": {},
     "output_type": "display_data"
    },
    {
     "data": {
      "text/latex": [
       "$$H_2 = \\left[\\begin{matrix}\\frac{i}{\\mu_{0} \\omega} \\left(i E_{{y2}} k e^{\\alpha_{2} y - i k z} + E_{{z2}} \\alpha_{2} e^{\\alpha_{2} y - i k z}\\right)\\\\- \\frac{i E_{{x2}} \\alpha_{2} \\mu_{{ro2}} e^{\\alpha_{2} y - i k z}}{\\mu_{0} \\mu_{{rd2}} \\omega \\left(\\mu_{{rd2}} + \\frac{\\mu_{{ro2}}^{2}}{\\mu_{{rd2}}}\\right)} + \\frac{E_{{x2}} k}{\\mu_{0} \\omega} \\left(\\frac{1}{\\mu_{{rd2}}} - \\frac{\\mu_{{ro2}}^{2}}{\\mu_{{rd2}}^{2} \\left(\\mu_{{rd2}} + \\frac{\\mu_{{ro2}}^{2}}{\\mu_{{rd2}}}\\right)}\\right) e^{\\alpha_{2} y - i k z}\\\\- \\frac{i E_{{x2}} \\alpha_{2} e^{\\alpha_{2} y - i k z}}{\\mu_{0} \\omega \\left(\\mu_{{rd2}} + \\frac{\\mu_{{ro2}}^{2}}{\\mu_{{rd2}}}\\right)} - \\frac{E_{{x2}} \\mu_{{ro2}} k e^{\\alpha_{2} y - i k z}}{\\mu_{0} \\mu_{{rd2}} \\omega \\left(\\mu_{{rd2}} + \\frac{\\mu_{{ro2}}^{2}}{\\mu_{{rd2}}}\\right)}\\end{matrix}\\right]$$"
      ],
      "text/plain": [
       "<IPython.core.display.Math object>"
      ]
     },
     "metadata": {},
     "output_type": "display_data"
    },
    {
     "name": "stdout",
     "output_type": "stream",
     "text": [
      "latex:\n",
      " H_1 = \\left[\\begin{matrix}\\frac{i}{\\mu_{0} \\mu_{{r1}} \\omega} \\left(i E_{{y1}} k e^{- \\alpha_{1} y - i k z} - E_{{z1}} \\alpha_{1} e^{- \\alpha_{1} y - i k z}\\right)\\\\\\frac{E_{{x1}} k}{\\mu_{0} \\mu_{{r1}} \\omega} e^{- \\alpha_{1} y - i k z}\\\\\\frac{i E_{{x1}} \\alpha_{1}}{\\mu_{0} \\mu_{{r1}} \\omega} e^{- \\alpha_{1} y - i k z}\\end{matrix}\\right]\n",
      "latex:\n",
      " H_2 = \\left[\\begin{matrix}\\frac{i}{\\mu_{0} \\omega} \\left(i E_{{y2}} k e^{\\alpha_{2} y - i k z} + E_{{z2}} \\alpha_{2} e^{\\alpha_{2} y - i k z}\\right)\\\\- \\frac{i E_{{x2}} \\alpha_{2} \\mu_{{ro2}} e^{\\alpha_{2} y - i k z}}{\\mu_{0} \\mu_{{rd2}} \\omega \\left(\\mu_{{rd2}} + \\frac{\\mu_{{ro2}}^{2}}{\\mu_{{rd2}}}\\right)} + \\frac{E_{{x2}} k}{\\mu_{0} \\omega} \\left(\\frac{1}{\\mu_{{rd2}}} - \\frac{\\mu_{{ro2}}^{2}}{\\mu_{{rd2}}^{2} \\left(\\mu_{{rd2}} + \\frac{\\mu_{{ro2}}^{2}}{\\mu_{{rd2}}}\\right)}\\right) e^{\\alpha_{2} y - i k z}\\\\- \\frac{i E_{{x2}} \\alpha_{2} e^{\\alpha_{2} y - i k z}}{\\mu_{0} \\omega \\left(\\mu_{{rd2}} + \\frac{\\mu_{{ro2}}^{2}}{\\mu_{{rd2}}}\\right)} - \\frac{E_{{x2}} \\mu_{{ro2}} k e^{\\alpha_{2} y - i k z}}{\\mu_{0} \\mu_{{rd2}} \\omega \\left(\\mu_{{rd2}} + \\frac{\\mu_{{ro2}}^{2}}{\\mu_{{rd2}}}\\right)}\\end{matrix}\\right]\n"
     ]
    },
    {
     "data": {
      "text/latex": [
       "$$\\sigma = \\left[\\begin{matrix}\\sigma & 0 & 0\\\\0 & 0 & 0\\\\0 & 0 & \\sigma\\end{matrix}\\right]$$"
      ],
      "text/plain": [
       "<IPython.core.display.Math object>"
      ]
     },
     "metadata": {},
     "output_type": "display_data"
    },
    {
     "name": "stdout",
     "output_type": "stream",
     "text": [
      "latex:\n",
      " \\sigma = \\left[\\begin{matrix}\\sigma & 0 & 0\\\\0 & 0 & 0\\\\0 & 0 & \\sigma\\end{matrix}\\right]\n"
     ]
    },
    {
     "data": {
      "text/latex": [
       "$$A = \\left[\\begin{matrix}\\frac{1}{\\mu_{0} \\mu_{{r1}} \\omega \\left(\\mu_{{rd2}}^{2} + \\mu_{{ro2}}^{2}\\right)} \\left(i E_{{x1}} \\alpha_{1} \\left(\\mu_{{rd2}}^{2} + \\mu_{{ro2}}^{2}\\right) - E_{{x1}} \\mu_{0} \\mu_{{r1}} \\omega \\sigma \\left(\\mu_{{rd2}}^{2} + \\mu_{{ro2}}^{2}\\right) + E_{{x2}} \\mu_{{r1}} \\left(i \\alpha_{2} \\mu_{{rd2}} + \\mu_{{ro2}} k\\right)\\right)\\\\0\\\\\\frac{1}{\\mu_{0} \\mu_{{r1}} \\omega} \\left(E_{{y1}} k - E_{{y2}} \\mu_{{r1}} k + i E_{{z1}} \\alpha_{1} - E_{{z1}} \\mu_{0} \\mu_{{r1}} \\omega \\sigma + i E_{{z2}} \\alpha_{2} \\mu_{{r1}}\\right)\\end{matrix}\\right]$$"
      ],
      "text/plain": [
       "<IPython.core.display.Math object>"
      ]
     },
     "metadata": {},
     "output_type": "display_data"
    },
    {
     "name": "stdout",
     "output_type": "stream",
     "text": [
      "latex:\n",
      " A = \\left[\\begin{matrix}\\frac{1}{\\mu_{0} \\mu_{{r1}} \\omega \\left(\\mu_{{rd2}}^{2} + \\mu_{{ro2}}^{2}\\right)} \\left(i E_{{x1}} \\alpha_{1} \\left(\\mu_{{rd2}}^{2} + \\mu_{{ro2}}^{2}\\right) - E_{{x1}} \\mu_{0} \\mu_{{r1}} \\omega \\sigma \\left(\\mu_{{rd2}}^{2} + \\mu_{{ro2}}^{2}\\right) + E_{{x2}} \\mu_{{r1}} \\left(i \\alpha_{2} \\mu_{{rd2}} + \\mu_{{ro2}} k\\right)\\right)\\\\0\\\\\\frac{1}{\\mu_{0} \\mu_{{r1}} \\omega} \\left(E_{{y1}} k - E_{{y2}} \\mu_{{r1}} k + i E_{{z1}} \\alpha_{1} - E_{{z1}} \\mu_{0} \\mu_{{r1}} \\omega \\sigma + i E_{{z2}} \\alpha_{2} \\mu_{{r1}}\\right)\\end{matrix}\\right]\n"
     ]
    },
    {
     "data": {
      "text/latex": [
       "$$E_{y1} = - \\frac{i E_{{z1}}}{\\alpha_{1}} k$$"
      ],
      "text/plain": [
       "<IPython.core.display.Math object>"
      ]
     },
     "metadata": {},
     "output_type": "display_data"
    },
    {
     "name": "stdout",
     "output_type": "stream",
     "text": [
      "latex:\n",
      " E_{y1} =- \\frac{i E_{{z1}}}{\\alpha_{1}} k\n"
     ]
    },
    {
     "data": {
      "text/latex": [
       "$$E_{y2} = \\frac{i E_{{z2}}}{\\alpha_{2}} k$$"
      ],
      "text/plain": [
       "<IPython.core.display.Math object>"
      ]
     },
     "metadata": {},
     "output_type": "display_data"
    },
    {
     "name": "stdout",
     "output_type": "stream",
     "text": [
      "latex:\n",
      " E_{y2} =\\frac{i E_{{z2}}}{\\alpha_{2}} k\n"
     ]
    },
    {
     "data": {
      "text/latex": [
       "$$B = \\left[\\begin{matrix}\\frac{1}{\\mu_{0} \\mu_{{r1}} \\omega \\left(\\mu_{{rd2}}^{2} + \\mu_{{ro2}}^{2}\\right)} \\left(i E_{{x1}} \\alpha_{1} \\left(\\mu_{{rd2}}^{2} + \\mu_{{ro2}}^{2}\\right) - E_{{x1}} \\mu_{0} \\mu_{{r1}} \\omega \\sigma \\left(\\mu_{{rd2}}^{2} + \\mu_{{ro2}}^{2}\\right) + E_{{x1}} \\mu_{{r1}} \\left(i \\alpha_{2} \\mu_{{rd2}} + \\mu_{{ro2}} k\\right)\\right)\\\\0\\\\\\frac{1}{\\mu_{0} \\mu_{{r1}} \\omega} \\left(i E_{{z1}} \\alpha_{1} + i E_{{z1}} \\alpha_{2} \\mu_{{r1}} - E_{{z1}} \\mu_{0} \\mu_{{r1}} \\omega \\sigma - \\frac{i E_{{z1}}}{\\alpha_{2}} \\mu_{{r1}} k^{2} - \\frac{i E_{{z1}}}{\\alpha_{1}} k^{2}\\right)\\end{matrix}\\right]$$"
      ],
      "text/plain": [
       "<IPython.core.display.Math object>"
      ]
     },
     "metadata": {},
     "output_type": "display_data"
    },
    {
     "name": "stdout",
     "output_type": "stream",
     "text": [
      "latex:\n",
      " B =\\left[\\begin{matrix}\\frac{1}{\\mu_{0} \\mu_{{r1}} \\omega \\left(\\mu_{{rd2}}^{2} + \\mu_{{ro2}}^{2}\\right)} \\left(i E_{{x1}} \\alpha_{1} \\left(\\mu_{{rd2}}^{2} + \\mu_{{ro2}}^{2}\\right) - E_{{x1}} \\mu_{0} \\mu_{{r1}} \\omega \\sigma \\left(\\mu_{{rd2}}^{2} + \\mu_{{ro2}}^{2}\\right) + E_{{x1}} \\mu_{{r1}} \\left(i \\alpha_{2} \\mu_{{rd2}} + \\mu_{{ro2}} k\\right)\\right)\\\\0\\\\\\frac{1}{\\mu_{0} \\mu_{{r1}} \\omega} \\left(i E_{{z1}} \\alpha_{1} + i E_{{z1}} \\alpha_{2} \\mu_{{r1}} - E_{{z1}} \\mu_{0} \\mu_{{r1}} \\omega \\sigma - \\frac{i E_{{z1}}}{\\alpha_{2}} \\mu_{{r1}} k^{2} - \\frac{i E_{{z1}}}{\\alpha_{1}} k^{2}\\right)\\end{matrix}\\right]\n"
     ]
    },
    {
     "data": {
      "text/latex": [
       "$$B_\\text{coeff} = \\left[\\begin{matrix}0 & \\frac{1}{\\mu_{0} \\mu_{{r1}} \\omega \\left(\\mu_{{rd2}}^{2} + \\mu_{{ro2}}^{2}\\right)} \\left(i \\alpha_{1} \\left(\\mu_{{rd2}}^{2} + \\mu_{{ro2}}^{2}\\right) - \\mu_{0} \\mu_{{r1}} \\omega \\sigma \\left(\\mu_{{rd2}}^{2} + \\mu_{{ro2}}^{2}\\right) + \\mu_{{r1}} \\left(i \\alpha_{2} \\mu_{{rd2}} + \\mu_{{ro2}} k\\right)\\right)\\\\\\frac{i \\alpha_{1}}{\\mu_{0} \\mu_{{r1}} \\omega} + \\frac{i \\alpha_{2}}{\\mu_{0} \\omega} - \\sigma - \\frac{i k^{2}}{\\alpha_{2} \\mu_{0} \\omega} - \\frac{i k^{2}}{\\alpha_{1} \\mu_{0} \\mu_{{r1}} \\omega} & 0\\end{matrix}\\right]$$"
      ],
      "text/plain": [
       "<IPython.core.display.Math object>"
      ]
     },
     "metadata": {},
     "output_type": "display_data"
    },
    {
     "name": "stdout",
     "output_type": "stream",
     "text": [
      "latex:\n",
      " B_\\text{coeff} = \\left[\\begin{matrix}0 & \\frac{1}{\\mu_{0} \\mu_{{r1}} \\omega \\left(\\mu_{{rd2}}^{2} + \\mu_{{ro2}}^{2}\\right)} \\left(i \\alpha_{1} \\left(\\mu_{{rd2}}^{2} + \\mu_{{ro2}}^{2}\\right) - \\mu_{0} \\mu_{{r1}} \\omega \\sigma \\left(\\mu_{{rd2}}^{2} + \\mu_{{ro2}}^{2}\\right) + \\mu_{{r1}} \\left(i \\alpha_{2} \\mu_{{rd2}} + \\mu_{{ro2}} k\\right)\\right)\\\\\\frac{i \\alpha_{1}}{\\mu_{0} \\mu_{{r1}} \\omega} + \\frac{i \\alpha_{2}}{\\mu_{0} \\omega} - \\sigma - \\frac{i k^{2}}{\\alpha_{2} \\mu_{0} \\omega} - \\frac{i k^{2}}{\\alpha_{1} \\mu_{0} \\mu_{{r1}} \\omega} & 0\\end{matrix}\\right]\n"
     ]
    },
    {
     "data": {
      "text/latex": [
       "$$AK1 = \\left[\\begin{matrix}E_{{x1}} \\left(- \\alpha_{1}^{2} - \\epsilon_{0} \\epsilon_{{r1}} \\mu_{0} \\mu_{{r1}} \\omega^{2} + k^{2}\\right)\\\\\\frac{i E_{{z1}}}{\\alpha_{1}} k \\left(\\alpha_{1}^{2} + \\epsilon_{0} \\epsilon_{{r1}} \\mu_{0} \\mu_{{r1}} \\omega^{2} - k^{2}\\right)\\\\E_{{z1}} \\left(- \\alpha_{1}^{2} - \\epsilon_{0} \\epsilon_{{r1}} \\mu_{0} \\mu_{{r1}} \\omega^{2} + k^{2}\\right)\\end{matrix}\\right]$$"
      ],
      "text/plain": [
       "<IPython.core.display.Math object>"
      ]
     },
     "metadata": {},
     "output_type": "display_data"
    },
    {
     "name": "stdout",
     "output_type": "stream",
     "text": [
      "latex:\n",
      " AK1 = \\left[\\begin{matrix}E_{{x1}} \\left(- \\alpha_{1}^{2} - \\epsilon_{0} \\epsilon_{{r1}} \\mu_{0} \\mu_{{r1}} \\omega^{2} + k^{2}\\right)\\\\\\frac{i E_{{z1}}}{\\alpha_{1}} k \\left(\\alpha_{1}^{2} + \\epsilon_{0} \\epsilon_{{r1}} \\mu_{0} \\mu_{{r1}} \\omega^{2} - k^{2}\\right)\\\\E_{{z1}} \\left(- \\alpha_{1}^{2} - \\epsilon_{0} \\epsilon_{{r1}} \\mu_{0} \\mu_{{r1}} \\omega^{2} + k^{2}\\right)\\end{matrix}\\right]\n"
     ]
    },
    {
     "data": {
      "text/latex": [
       "$$AK2 = \\left[\\begin{matrix}\\frac{E_{{x2}}}{\\mu_{{rd2}}^{2} + \\mu_{{ro2}}^{2}} \\left(- \\alpha_{2}^{2} \\mu_{{rd2}} - \\epsilon_{0} \\epsilon_{{r2}} \\mu_{0} \\mu_{{rd2}}^{2} \\omega^{2} - \\epsilon_{0} \\epsilon_{{r2}} \\mu_{0} \\mu_{{ro2}}^{2} \\omega^{2} + \\mu_{{rd2}} k^{2}\\right)\\\\\\frac{i E_{{z2}}}{\\alpha_{2}} k \\left(- \\alpha_{2}^{2} - \\epsilon_{0} \\epsilon_{{r2}} \\mu_{0} \\omega^{2} + k^{2}\\right)\\\\E_{{z2}} \\left(- \\alpha_{2}^{2} - \\epsilon_{0} \\epsilon_{{r2}} \\mu_{0} \\omega^{2} + k^{2}\\right)\\end{matrix}\\right]$$"
      ],
      "text/plain": [
       "<IPython.core.display.Math object>"
      ]
     },
     "metadata": {},
     "output_type": "display_data"
    },
    {
     "name": "stdout",
     "output_type": "stream",
     "text": [
      "latex:\n",
      " AK2 = \\left[\\begin{matrix}\\frac{E_{{x2}}}{\\mu_{{rd2}}^{2} + \\mu_{{ro2}}^{2}} \\left(- \\alpha_{2}^{2} \\mu_{{rd2}} - \\epsilon_{0} \\epsilon_{{r2}} \\mu_{0} \\mu_{{rd2}}^{2} \\omega^{2} - \\epsilon_{0} \\epsilon_{{r2}} \\mu_{0} \\mu_{{ro2}}^{2} \\omega^{2} + \\mu_{{rd2}} k^{2}\\right)\\\\\\frac{i E_{{z2}}}{\\alpha_{2}} k \\left(- \\alpha_{2}^{2} - \\epsilon_{0} \\epsilon_{{r2}} \\mu_{0} \\omega^{2} + k^{2}\\right)\\\\E_{{z2}} \\left(- \\alpha_{2}^{2} - \\epsilon_{0} \\epsilon_{{r2}} \\mu_{0} \\omega^{2} + k^{2}\\right)\\end{matrix}\\right]\n",
      "--------------------------------------------------\n",
      "TE mode\n"
     ]
    },
    {
     "data": {
      "text/latex": [
       "$$\\alpha_1 = \\sqrt{- \\epsilon_{0} \\epsilon_{{r1}} \\mu_{0} \\mu_{{r1}} \\omega^{2} + k^{2}}$$"
      ],
      "text/plain": [
       "<IPython.core.display.Math object>"
      ]
     },
     "metadata": {},
     "output_type": "display_data"
    },
    {
     "name": "stdout",
     "output_type": "stream",
     "text": [
      "latex:\n",
      " \\alpha_1 = \\sqrt{- \\epsilon_{0} \\epsilon_{{r1}} \\mu_{0} \\mu_{{r1}} \\omega^{2} + k^{2}}\n"
     ]
    },
    {
     "data": {
      "text/latex": [
       "$$\\alpha_2 = \\sqrt{- \\epsilon_{0} \\epsilon_{{r2}} \\mu_{0} \\mu_{{rd2}} \\omega^{2} - \\frac{\\epsilon_{0} \\epsilon_{{r2}}}{\\mu_{{rd2}}} \\mu_{0} \\mu_{{ro2}}^{2} \\omega^{2} + k^{2}}$$"
      ],
      "text/plain": [
       "<IPython.core.display.Math object>"
      ]
     },
     "metadata": {},
     "output_type": "display_data"
    },
    {
     "name": "stdout",
     "output_type": "stream",
     "text": [
      "latex:\n",
      " \\alpha_2 = \\sqrt{- \\epsilon_{0} \\epsilon_{{r2}} \\mu_{0} \\mu_{{rd2}} \\omega^{2} - \\frac{\\epsilon_{0} \\epsilon_{{r2}}}{\\mu_{{rd2}}} \\mu_{0} \\mu_{{ro2}}^{2} \\omega^{2} + k^{2}}\n"
     ]
    },
    {
     "data": {
      "text/latex": [
       "$$EQ = \\frac{1}{\\mu_{0} \\mu_{{r1}} \\omega \\left(\\mu_{{rd2}}^{2} + \\mu_{{ro2}}^{2}\\right)} \\left(- \\mu_{0} \\mu_{{r1}} \\omega \\sigma \\left(\\mu_{{rd2}}^{2} + \\mu_{{ro2}}^{2}\\right) + \\mu_{{r1}} \\left(i \\mu_{{rd2}} \\sqrt{\\frac{1}{\\mu_{{rd2}}} \\left(- \\epsilon_{0} \\epsilon_{{r2}} \\mu_{0} \\mu_{{ro2}}^{2} \\omega^{2} + \\mu_{{rd2}} \\left(- \\epsilon_{0} \\epsilon_{{r2}} \\mu_{0} \\mu_{{rd2}} \\omega^{2} + k^{2}\\right)\\right)} + \\mu_{{ro2}} k\\right) + i \\left(\\mu_{{rd2}}^{2} + \\mu_{{ro2}}^{2}\\right) \\sqrt{- \\epsilon_{0} \\epsilon_{{r1}} \\mu_{0} \\mu_{{r1}} \\omega^{2} + k^{2}}\\right)$$"
      ],
      "text/plain": [
       "<IPython.core.display.Math object>"
      ]
     },
     "metadata": {},
     "output_type": "display_data"
    },
    {
     "name": "stdout",
     "output_type": "stream",
     "text": [
      "latex form: \n",
      " \\frac{1}{\\mu_{0} \\mu_{{r1}} \\omega \\left(\\mu_{{rd2}}^{2} + \\mu_{{ro2}}^{2}\\right)} \\left(- \\mu_{0} \\mu_{{r1}} \\omega \\sigma \\left(\\mu_{{rd2}}^{2} + \\mu_{{ro2}}^{2}\\right) + \\mu_{{r1}} \\left(i \\mu_{{rd2}} \\sqrt{\\frac{1}{\\mu_{{rd2}}} \\left(- \\epsilon_{0} \\epsilon_{{r2}} \\mu_{0} \\mu_{{ro2}}^{2} \\omega^{2} + \\mu_{{rd2}} \\left(- \\epsilon_{0} \\epsilon_{{r2}} \\mu_{0} \\mu_{{rd2}} \\omega^{2} + k^{2}\\right)\\right)} + \\mu_{{ro2}} k\\right) + i \\left(\\mu_{{rd2}}^{2} + \\mu_{{ro2}}^{2}\\right) \\sqrt{- \\epsilon_{0} \\epsilon_{{r1}} \\mu_{0} \\mu_{{r1}} \\omega^{2} + k^{2}}\\right)\n",
      "EQ_str = \n",
      " lambda k: ((-mu_0*mu_r1*omega*sigma*(mu_rd2**2 + mu_ro2**2) + mu_r1*(I*mu_rd2*sqrt((-epsilon_0*epsilon_r2*mu_0*mu_ro2**2*omega**2 + mu_rd2*(-epsilon_0*epsilon_r2*mu_0*mu_rd2*omega**2 + k**2))/mu_rd2) + mu_ro2*k) + I*(mu_rd2**2 + mu_ro2**2)*sqrt(-epsilon_0*epsilon_r1*mu_0*mu_r1*omega**2 + k**2))/(mu_0*mu_r1*omega*(mu_rd2**2 + mu_ro2**2)))\n",
      "EQ_str = \n",
      " lambda k: ((-mu_0*mu_r1*omega*sigma*(mu_rd2**2 + mu_ro2**2) + mu_r1*(1j*mu_rd2*sqrt((-epsilon_0*epsilon_r2*mu_0*mu_ro2**2*omega**2 + mu_rd2*(-epsilon_0*epsilon_r2*mu_0*mu_rd2*omega**2 + k**2))/mu_rd2) + mu_ro2*k) + 1j*(mu_rd2**2 + mu_ro2**2)*sqrt(-epsilon_0*epsilon_r1*mu_0*mu_r1*omega**2 + k**2))/(mu_0*mu_r1*omega*(mu_rd2**2 + mu_ro2**2)))\n"
     ]
    },
    {
     "data": {
      "text/latex": [
       "$$EQ = \\frac{1}{\\sqrt{\\mu_{0}} \\mu_{{r1}} \\left(\\mu_{{rd2}}^{2} + \\mu_{{ro2}}^{2}\\right)} \\left(\\sqrt{\\epsilon_{0}} \\left(\\mu_{{r1}} \\left(K \\mu_{{ro2}} + i \\mu_{{rd2}} \\sqrt{\\frac{1}{\\mu_{{rd2}}} \\left(- \\epsilon_{{r2}} \\mu_{{ro2}}^{2} + \\mu_{{rd2}} \\left(K^{2} - \\epsilon_{{r2}} \\mu_{{rd2}}\\right)\\right)}\\right) + i \\sqrt{K^{2} - \\epsilon_{{r1}} \\mu_{{r1}}} \\left(\\mu_{{rd2}}^{2} + \\mu_{{ro2}}^{2}\\right)\\right) - \\sqrt{\\mu_{0}} \\mu_{{r1}} \\sigma \\left(\\mu_{{rd2}}^{2} + \\mu_{{ro2}}^{2}\\right)\\right)$$"
      ],
      "text/plain": [
       "<IPython.core.display.Math object>"
      ]
     },
     "metadata": {},
     "output_type": "display_data"
    },
    {
     "name": "stdout",
     "output_type": "stream",
     "text": [
      "EQ_str = \n",
      " lambda k: ((sqrt(epsilon_0)*(mu_r1*(K*mu_ro2 + I*mu_rd2*sqrt((-epsilon_r2*mu_ro2**2 + mu_rd2*(K**2 - epsilon_r2*mu_rd2))/mu_rd2)) + I*sqrt(K**2 - epsilon_r1*mu_r1)*(mu_rd2**2 + mu_ro2**2)) - sqrt(mu_0)*mu_r1*sigma*(mu_rd2**2 + mu_ro2**2))/(sqrt(mu_0)*mu_r1*(mu_rd2**2 + mu_ro2**2)))\n",
      "EQ_str = \n",
      " lambda k: ((sqrt(epsilon_0)*(mu_r1*(K*mu_ro2 + 1j*mu_rd2*sqrt((-epsilon_r2*mu_ro2**2 + mu_rd2*(K**2 - epsilon_r2*mu_rd2))/mu_rd2)) + 1j*sqrt(K**2 - epsilon_r1*mu_r1)*(mu_rd2**2 + mu_ro2**2)) - sqrt(mu_0)*mu_r1*sigma*(mu_rd2**2 + mu_ro2**2))/(sqrt(mu_0)*mu_r1*(mu_rd2**2 + mu_ro2**2)))\n",
      "latex form: K=k/k_0\n",
      " \\frac{1}{\\sqrt{\\mu_{0}} \\mu_{{r1}} \\left(\\mu_{{rd2}}^{2} + \\mu_{{ro2}}^{2}\\right)} \\left(\\sqrt{\\epsilon_{0}} \\left(\\mu_{{r1}} \\left(K \\mu_{{ro2}} + i \\mu_{{rd2}} \\sqrt{\\frac{1}{\\mu_{{rd2}}} \\left(- \\epsilon_{{r2}} \\mu_{{ro2}}^{2} + \\mu_{{rd2}} \\left(K^{2} - \\epsilon_{{r2}} \\mu_{{rd2}}\\right)\\right)}\\right) + i \\sqrt{K^{2} - \\epsilon_{{r1}} \\mu_{{r1}}} \\left(\\mu_{{rd2}}^{2} + \\mu_{{ro2}}^{2}\\right)\\right) - \\sqrt{\\mu_{0}} \\mu_{{r1}} \\sigma \\left(\\mu_{{rd2}}^{2} + \\mu_{{ro2}}^{2}\\right)\\right)\n"
     ]
    },
    {
     "data": {
      "text/latex": [
       "$$EQ(\\mu_{{ro2}} = 0) = \\frac{1}{\\sqrt{\\mu_{0}} \\mu_{{r1}} \\mu_{{rd2}}} \\left(i \\sqrt{\\epsilon_{0}} \\left(\\mu_{{r1}} \\sqrt{K^{2} - \\epsilon_{{r2}} \\mu_{{rd2}}} + \\mu_{{rd2}} \\sqrt{K^{2} - \\epsilon_{{r1}} \\mu_{{r1}}}\\right) - \\sqrt{\\mu_{0}} \\mu_{{r1}} \\mu_{{rd2}} \\sigma\\right)$$"
      ],
      "text/plain": [
       "<IPython.core.display.Math object>"
      ]
     },
     "metadata": {},
     "output_type": "display_data"
    },
    {
     "data": {
      "text/latex": [
       "$$EQ(\\mu_{{ro2}} = 0) = \\frac{1}{\\sqrt{\\mu_{0}} \\mu_{{r1}}^{2}} \\left(2 i \\sqrt{\\epsilon_{0}} \\mu_{{r1}} \\sqrt{K^{2} - \\epsilon_{{r1}} \\mu_{{r1}}} - \\sqrt{\\mu_{0}} \\mu_{{r1}}^{2} \\sigma\\right)$$"
      ],
      "text/plain": [
       "<IPython.core.display.Math object>"
      ]
     },
     "metadata": {},
     "output_type": "display_data"
    },
    {
     "name": "stdout",
     "output_type": "stream",
     "text": [
      "equation array:\n"
     ]
    },
    {
     "data": {
      "text/latex": [
       "$$Eq_1 : i \\alpha_{1} \\left(\\mu_{{rd2}}^{2} + \\mu_{{ro2}}^{2}\\right) - \\mu_{0} \\mu_{{r1}} \\omega \\sigma \\left(\\mu_{{rd2}}^{2} + \\mu_{{ro2}}^{2}\\right) + \\mu_{{r1}} \\left(i \\alpha_{2} \\mu_{{rd2}} + \\mu_{{ro2}} k\\right)$$"
      ],
      "text/plain": [
       "<IPython.core.display.Math object>"
      ]
     },
     "metadata": {},
     "output_type": "display_data"
    },
    {
     "data": {
      "text/latex": [
       "$$Eq_2 : \\alpha_{1}^{2} + \\epsilon_{0} \\epsilon_{{r1}} \\mu_{0} \\mu_{{r1}} \\omega^{2} - k^{2}$$"
      ],
      "text/plain": [
       "<IPython.core.display.Math object>"
      ]
     },
     "metadata": {},
     "output_type": "display_data"
    },
    {
     "data": {
      "text/latex": [
       "$$Eq_3 : \\alpha_{2}^{2} \\mu_{{rd2}} + \\epsilon_{0} \\epsilon_{{r2}} \\mu_{0} \\mu_{{rd2}}^{2} \\omega^{2} + \\epsilon_{0} \\epsilon_{{r2}} \\mu_{0} \\mu_{{ro2}}^{2} \\omega^{2} - \\mu_{{rd2}} k^{2}$$"
      ],
      "text/plain": [
       "<IPython.core.display.Math object>"
      ]
     },
     "metadata": {},
     "output_type": "display_data"
    },
    {
     "data": {
      "text/latex": [
       "$$Eq_1 : i \\alpha_{1} \\left(\\mu_{{rd2}}^{2} + \\mu_{{ro2}}^{2}\\right) - \\mu_{{r1}} \\sigma \\left(\\mu_{{rd2}}^{2} + \\mu_{{ro2}}^{2}\\right) + \\mu_{{r1}} \\left(i \\alpha_{2} \\mu_{{rd2}} + \\mu_{{ro2}} k\\right)$$"
      ],
      "text/plain": [
       "<IPython.core.display.Math object>"
      ]
     },
     "metadata": {},
     "output_type": "display_data"
    },
    {
     "data": {
      "text/latex": [
       "$$Eq_2 : \\alpha_{1}^{2} + \\epsilon_{{r1}} \\mu_{{r1}} - k^{2}$$"
      ],
      "text/plain": [
       "<IPython.core.display.Math object>"
      ]
     },
     "metadata": {},
     "output_type": "display_data"
    },
    {
     "data": {
      "text/latex": [
       "$$Eq_3 : \\alpha_{2}^{2} \\mu_{{rd2}} + \\epsilon_{{r2}} \\mu_{{rd2}}^{2} + \\epsilon_{{r2}} \\mu_{{ro2}}^{2} - \\mu_{{rd2}} k^{2}$$"
      ],
      "text/plain": [
       "<IPython.core.display.Math object>"
      ]
     },
     "metadata": {},
     "output_type": "display_data"
    },
    {
     "name": "stdout",
     "output_type": "stream",
     "text": [
      "EQ_1_str = \n",
      " lambda k: (I*alpha_1*(mu_rd2**2 + mu_ro2**2) - mu_r1*sigma*(mu_rd2**2 + mu_ro2**2) + mu_r1*(I*alpha_2*mu_rd2 + mu_ro2*k))\n",
      "eq_1_str = \n",
      " lambda k: (1j*alpha_1*(mu_rd2**2 + mu_ro2**2) - mu_r1*sigma*(mu_rd2**2 + mu_ro2**2) + mu_r1*(1j*alpha_2*mu_rd2 + mu_ro2*k))\n",
      "EQ_2_str = \n",
      " lambda k: (alpha_1**2 + epsilon_r1*mu_r1 - k**2)\n",
      "EQ_3_str = \n",
      " lambda k: (alpha_2**2*mu_rd2 + epsilon_r2*mu_rd2**2 + epsilon_r2*mu_ro2**2 - mu_rd2*k**2)\n",
      "--------------------------------------------------\n",
      "TM mode\n"
     ]
    },
    {
     "data": {
      "text/latex": [
       "$$\\alpha_1 = \\sqrt{- \\epsilon_{0} \\epsilon_{{r1}} \\mu_{0} \\mu_{{r1}} \\omega^{2} + k^{2}}$$"
      ],
      "text/plain": [
       "<IPython.core.display.Math object>"
      ]
     },
     "metadata": {},
     "output_type": "display_data"
    },
    {
     "name": "stdout",
     "output_type": "stream",
     "text": [
      "latex:\n",
      " \\alpha_1 = \\sqrt{- \\epsilon_{0} \\epsilon_{{r1}} \\mu_{0} \\mu_{{r1}} \\omega^{2} + k^{2}}\n"
     ]
    },
    {
     "data": {
      "text/latex": [
       "$$\\alpha_2 = \\sqrt{- \\epsilon_{0} \\epsilon_{{r2}} \\mu_{0} \\omega^{2} + k^{2}}$$"
      ],
      "text/plain": [
       "<IPython.core.display.Math object>"
      ]
     },
     "metadata": {},
     "output_type": "display_data"
    },
    {
     "name": "stdout",
     "output_type": "stream",
     "text": [
      "latex:\n",
      " \\alpha_2 = \\sqrt{- \\epsilon_{0} \\epsilon_{{r2}} \\mu_{0} \\omega^{2} + k^{2}}\n"
     ]
    },
    {
     "data": {
      "text/latex": [
       "$$EQ = - \\frac{i \\epsilon_{0} \\epsilon_{{r1}} \\omega}{\\sqrt{- \\epsilon_{0} \\epsilon_{{r1}} \\mu_{0} \\mu_{{r1}} \\omega^{2} + k^{2}}} - \\frac{i \\epsilon_{0} \\epsilon_{{r2}} \\omega}{\\sqrt{- \\epsilon_{0} \\epsilon_{{r2}} \\mu_{0} \\omega^{2} + k^{2}}} - \\sigma$$"
      ],
      "text/plain": [
       "<IPython.core.display.Math object>"
      ]
     },
     "metadata": {},
     "output_type": "display_data"
    },
    {
     "name": "stdout",
     "output_type": "stream",
     "text": [
      "latex form: \n",
      " - \\frac{i \\epsilon_{0} \\epsilon_{{r1}} \\omega}{\\sqrt{- \\epsilon_{0} \\epsilon_{{r1}} \\mu_{0} \\mu_{{r1}} \\omega^{2} + k^{2}}} - \\frac{i \\epsilon_{0} \\epsilon_{{r2}} \\omega}{\\sqrt{- \\epsilon_{0} \\epsilon_{{r2}} \\mu_{0} \\omega^{2} + k^{2}}} - \\sigma\n",
      "EQ_str = \n",
      " lambda k: (-I*epsilon_0*epsilon_r1*omega/sqrt(-epsilon_0*epsilon_r1*mu_0*mu_r1*omega**2 + k**2) - I*epsilon_0*epsilon_r2*omega/sqrt(-epsilon_0*epsilon_r2*mu_0*omega**2 + k**2) - sigma)\n",
      "EQ_str = \n",
      " lambda k: (-1j*epsilon_0*epsilon_r1*omega/sqrt(-epsilon_0*epsilon_r1*mu_0*mu_r1*omega**2 + k**2) - 1j*epsilon_0*epsilon_r2*omega/sqrt(-epsilon_0*epsilon_r2*mu_0*omega**2 + k**2) - sigma)\n"
     ]
    },
    {
     "data": {
      "text/latex": [
       "$$EQ = - \\frac{i \\sqrt{\\epsilon_{0}} \\epsilon_{{r1}}}{\\sqrt{\\mu_{0}} \\sqrt{K^{2} - \\epsilon_{{r1}} \\mu_{{r1}}}} - \\frac{i \\sqrt{\\epsilon_{0}} \\epsilon_{{r2}}}{\\sqrt{\\mu_{0}} \\sqrt{K^{2} - \\epsilon_{{r2}}}} - \\sigma$$"
      ],
      "text/plain": [
       "<IPython.core.display.Math object>"
      ]
     },
     "metadata": {},
     "output_type": "display_data"
    },
    {
     "name": "stdout",
     "output_type": "stream",
     "text": [
      "EQ_str = \n",
      " lambda k: (-I*sqrt(epsilon_0)*epsilon_r1/(sqrt(mu_0)*sqrt(K**2 - epsilon_r1*mu_r1)) - I*sqrt(epsilon_0)*epsilon_r2/(sqrt(mu_0)*sqrt(K**2 - epsilon_r2)) - sigma)\n",
      "EQ_str = \n",
      " lambda k: (-1j*sqrt(epsilon_0)*epsilon_r1/(sqrt(mu_0)*sqrt(K**2 - epsilon_r1*mu_r1)) - 1j*sqrt(epsilon_0)*epsilon_r2/(sqrt(mu_0)*sqrt(K**2 - epsilon_r2)) - sigma)\n",
      "latex form: K=k/k_0\n",
      " - \\frac{i \\sqrt{\\epsilon_{0}} \\epsilon_{{r1}}}{\\sqrt{\\mu_{0}} \\sqrt{K^{2} - \\epsilon_{{r1}} \\mu_{{r1}}}} - \\frac{i \\sqrt{\\epsilon_{0}} \\epsilon_{{r2}}}{\\sqrt{\\mu_{0}} \\sqrt{K^{2} - \\epsilon_{{r2}}}} - \\sigma\n"
     ]
    }
   ],
   "source": [
    "from sympy import *\n",
    "from Electromagnetics.VectorCalculus import *\n",
    "from IPython.display import display, Math, Latex\n",
    "\n",
    "from sympy.utilities.lambdify import lambdastr\n",
    "from Electromagnetics import Misc\n",
    "\n",
    "init_printing()\n",
    "\n",
    "print_latex = True\n",
    "\n",
    "x, y, z = symbols('x y z')\n",
    "Ex1 = Symbol('E_{x1}')\n",
    "Ey1 = Symbol('E_{y1}')\n",
    "Ez1 = Symbol('E_{z1}')\n",
    "Ex2 = Symbol('E_{x2}')\n",
    "Ey2 = Symbol('E_{y2}')\n",
    "Ez2 = Symbol('E_{z2}')\n",
    "alpha_1, alpha_2 = symbols('\\\\alpha_1 \\\\alpha_2')\n",
    "k, k1, k2 = symbols('k k_1 k_2')\n",
    "omega = Symbol('\\\\omega', real=True)\n",
    "eps_1, mu_1 = symbols('\\\\epsilon_{r1} \\\\mu_{r1}')\n",
    "eps_2, mu_d2, mu_o2 = symbols('\\\\epsilon_{r2} \\\\mu_{rd2} \\\\mu_{ro2}')\n",
    "eps_0, mu_0, eta_0, k_0 = symbols('\\\\epsilon_0 \\\\mu_0 \\\\eta_0 k_0', real=True, positive=True)\n",
    "sigma = Symbol('\\\\sigma')\n",
    "\n",
    "E1 = Matrix([[Ex1, Ey1, Ez1]])*exp(-I*k*z-alpha_1*y)       # upper region\n",
    "E2 = Matrix([[Ex2, Ey2, Ez2]])*exp(-I*k*z+alpha_2*y)       # lower region\n",
    "\n",
    "display(Math('E_1 = ' + latex(E1)))\n",
    "display(Math('E_2 = ' + latex(E2)))\n",
    "if print_latex:\n",
    "    print('latex:\\n E_1 = '+ latex(E1))\n",
    "    print(' E_2 = '+ latex(E2))\n",
    "\n",
    "mu_2_tens = Matrix([[1, 0, 0], [0, mu_d2, -mu_o2], [0, mu_o2, mu_d2]])\n",
    "display(Math('\\\\mu_2 = ' + latex(mu_2_tens)))\n",
    "if print_latex:\n",
    "    print('latex:\\n \\\\mu_2 = '+ latex(mu_2_tens))\n",
    "\n",
    "mu_2_tens_inv = mu_2_tens.inv()\n",
    "display(Math('\\\\mu_2^{-1} = ' + latex(mu_2_tens_inv)))\n",
    "if print_latex:\n",
    "    print('latex:\\n \\\\mu_2^{-1} = '+ latex(mu_2_tens_inv))\n",
    "\n",
    "\n",
    "H1 = -1/(I*omega*mu_0*mu_1)*curl_r(E1)\n",
    "H2 = -1/(I*omega*mu_0)*mu_2_tens_inv*curl_r(E2).T\n",
    "H2 = H2.T\n",
    "\n",
    "display(Math('H_1 = ' + latex(H1)))\n",
    "display(Math('H_2 = ' + latex(H2)))\n",
    "\n",
    "H1 = Matrix([[H1[i].doit() for i in range(H1.cols)]])\n",
    "H2 = Matrix([[H2[i].doit() for i in range(H2.cols)]])\n",
    "\n",
    "display(Math('H_1 = ' + latex(H1.T)))\n",
    "display(Math('H_2 = ' + latex(H2.T)))\n",
    "if print_latex:\n",
    "    print('latex:\\n H_1 = '+ latex(H1.T))\n",
    "    print('latex:\\n H_2 = '+ latex(H2.T))\n",
    "\n",
    "a_y = Matrix([[0, 1, 0]])\n",
    "\n",
    "sigma_mat = Matrix([[sigma, 0, 0], [0, 0, 0], [0, 0, sigma]])\n",
    "display(Math('\\sigma = ' + latex(sigma_mat)))\n",
    "if print_latex:\n",
    "    print('latex:\\n \\\\sigma = '+ latex(sigma_mat))\n",
    "\n",
    "A = simplify((crossproduct(a_y, (H1-H2)) - (sigma_mat*E1.T).T).subs(y, 0)*exp(I*k*z))\n",
    "A = A.T\n",
    "display(Math('A = ' + latex(A)))\n",
    "if print_latex:\n",
    "    print('latex:\\n A = '+ latex(A))\n",
    "\n",
    "div_E1 = divergence_r(E1).doit()\n",
    "Ey1_rep = solve(div_E1, Ey1)[0]\n",
    "display(Math('E_{y1} = ' + latex(Ey1_rep)))\n",
    "if print_latex:\n",
    "    print('latex:\\n E_{y1} ='+ latex(Ey1_rep))\n",
    "\n",
    "div_E2 = divergence_r(E2).doit()\n",
    "Ey2_rep = solve(div_E2, Ey2)[0]\n",
    "display(Math('E_{y2} = ' + latex(Ey2_rep)))\n",
    "if print_latex:\n",
    "    print('latex:\\n E_{y2} ='+ latex(Ey2_rep))\n",
    "\n",
    "B = A.subs([(Ey1, Ey1_rep), (Ey2, Ey2_rep), (Ex2, Ex1), (Ez2, Ez1)])\n",
    "display(Math('B = ' + latex(B)))\n",
    "if print_latex:\n",
    "    print('latex:\\n B ='+ latex(B))\n",
    "\n",
    "B_coeff = simplify(Matrix([[B[0].subs([(Ex1, 0), (Ez1, 1)]), B[0].subs([(Ex1, 1), (Ez1, 0)])], \n",
    "                  [B[2].subs([(Ex1, 0), (Ez1, 1)]), B[2].subs([(Ex1, 1), (Ez1, 0)])]]))\n",
    "\n",
    "display(Math('B_\\\\text{coeff} = ' + latex(B_coeff)))\n",
    "if print_latex:\n",
    "    print('latex:\\n B_\\\\text{coeff} = '+ latex(B_coeff))\n",
    "\n",
    "AK1 = curl_r(curl_r(E1)) - omega**2*mu_0*mu_1*eps_0*eps_1*E1\n",
    "AK1 = AK1.subs([(Ey1, Ey1_rep)])/exp(-I*k*z-alpha_1*y)   \n",
    "AK1 = Matrix([[AK1[i].doit().simplify() for i in range(AK1.cols)]])\n",
    "display(Math('AK1 = ' + latex(AK1.T)))\n",
    "if print_latex:\n",
    "    print('latex:\\n AK1 = '+ latex(AK1.T))\n",
    "\n",
    "#AK2 = curl_r(curl_r(E2)).T - omega**2*mu_0*mu_2_tens*eps_0*eps_2*E2.T\n",
    "AK2 = curl_r((mu_2_tens_inv*curl_r(E2).T).T).T - omega**2*mu_0*eps_0*eps_2*E2.T\n",
    "AK2 = AK2.T\n",
    "AK2 = AK2.subs([(Ey2, Ey2_rep)])/exp(-I*k*z+alpha_2*y)   \n",
    "AK2 = Matrix([[AK2[i].doit().simplify() for i in range(AK2.cols)]])\n",
    "display(Math('AK2 = ' + latex(AK2.T)))\n",
    "if print_latex:\n",
    "    print('latex:\\n AK2 = '+ latex(AK2.T))\n",
    "\n",
    "##-------------------------------------------------\n",
    "print('-'*50)\n",
    "print('TE mode')\n",
    "\n",
    "alpha_1_rep = sqrt(solve(AK1[0], alpha_1**2)[0])\n",
    "display(Math('\\\\alpha_1 = ' + latex(alpha_1_rep)))\n",
    "if print_latex:\n",
    "    print('latex:\\n \\\\alpha_1 = '+ latex(alpha_1_rep))\n",
    "alpha_2_rep = sqrt(solve(AK2[0], alpha_2**2)[0])\n",
    "display(Math('\\\\alpha_2 = ' + latex(alpha_2_rep)))\n",
    "if print_latex:\n",
    "    print('latex:\\n \\\\alpha_2 = '+ latex(alpha_2_rep))\n",
    "\n",
    "\n",
    "EQ = B_coeff[0,1].subs([(alpha_1, alpha_1_rep), (alpha_2, alpha_2_rep)]).simplify()\n",
    "display(Math('EQ = ' + latex(EQ)))\n",
    "print('latex form: \\n', latex(EQ))\n",
    "\n",
    "EQ_str = lambdastr(k, EQ).replace('\\\\', '').replace('{', '').replace('}', '')\n",
    "print('EQ_str = \\n', EQ_str)\n",
    "\n",
    "EQ_str = Misc.replace_whole_word(EQ_str, 'I', '1j')\n",
    "print('EQ_str = \\n', EQ_str)\n",
    "\n",
    "K = Symbol('K')\n",
    "k0 = Symbol('k_0', real=True)\n",
    "EQ = (EQ.subs(omega, k0/sqrt(mu_0*eps_0)).subs(k, K*k0)).simplify()\n",
    "EQ = EQ.subs(abs(k0), k0).simplify()\n",
    "display(Math('EQ = ' + latex(EQ)))\n",
    "\n",
    "#k_TE = solve(EQ, K)\n",
    "#display(Math('k_\\\\text{TE}/k_0 = ' + latex(k_TE)))\n",
    "\n",
    "\n",
    "EQ_str = lambdastr(k, EQ).replace('\\\\', '').replace('{', '').replace('}', '')\n",
    "print('EQ_str = \\n', EQ_str)\n",
    "\n",
    "EQ_str = Misc.replace_whole_word(EQ_str, 'I', '1j')\n",
    "print('EQ_str = \\n', EQ_str)\n",
    "\n",
    "print('latex form: K=k/k_0\\n', latex(EQ))\n",
    "\n",
    "EQ = EQ.subs([(mu_o2, 0)]).simplify()\n",
    "display(Math('EQ({}) = '.format(latex(mu_o2)+' = 0') + latex(EQ)))\n",
    "EQ = EQ.subs([(mu_d2, mu_1), (eps_2, eps_1)])\n",
    "display(Math('EQ({}) = '.format(latex(mu_o2)+' = 0') + latex(EQ)))\n",
    "\n",
    "\n",
    "A_ = Wild('A_a')\n",
    "B_ = Wild('B_b')\n",
    "\n",
    "eq_arr_1 = B_coeff[0,1].match(A_*B_)[B_]\n",
    "eq_arr_2 = AK1[0].match(A_*B_)[B_]\n",
    "eq_arr_3 = AK2[0].match(A_*B_)[B_]\n",
    "print('equation array:')\n",
    "display(Math('Eq_1 : ' + latex(eq_arr_1)))\n",
    "display(Math('Eq_2 : ' + latex(eq_arr_2)))\n",
    "display(Math('Eq_3 : ' + latex(eq_arr_3)))\n",
    "\n",
    "eq_arr_1 = eq_arr_1.subs([(omega, k_0/sqrt(mu_0*eps_0)), (k, k*k_0), (alpha_1, alpha_1*k_0), (alpha_2, alpha_2*k_0), (sigma, sigma/sqrt(mu_0/eps_0))]).subs(k_0, 1).simplify()\n",
    "eq_arr_2 = eq_arr_2.subs([(omega, k_0/sqrt(mu_0*eps_0)), (k, k*k_0), (alpha_1, alpha_1*k_0), (alpha_2, alpha_2*k_0)]).subs(k_0, 1).simplify()\n",
    "eq_arr_3 = eq_arr_3.subs([(omega, k_0/sqrt(mu_0*eps_0)), (k, k*k_0), (alpha_1, alpha_1*k_0), (alpha_2, alpha_2*k_0)]).subs(k_0, 1).simplify()\n",
    "display(Math('Eq_1 : ' + latex(eq_arr_1)))\n",
    "display(Math('Eq_2 : ' + latex(eq_arr_2)))\n",
    "display(Math('Eq_3 : ' + latex(eq_arr_3)))\n",
    "\n",
    "\n",
    "eq_1_str = lambdastr(k, eq_arr_1).replace('\\\\', '').replace('{', '').replace('}', '')\n",
    "print('EQ_1_str = \\n', eq_1_str)\n",
    "eq_1_str = Misc.replace_whole_word(eq_1_str, 'I', '1j')\n",
    "print('eq_1_str = \\n', eq_1_str)\n",
    "\n",
    "eq_2_str = lambdastr(k, eq_arr_2).replace('\\\\', '').replace('{', '').replace('}', '')\n",
    "print('EQ_2_str = \\n', eq_2_str)\n",
    "\n",
    "eq_3_str = lambdastr(k, eq_arr_3).replace('\\\\', '').replace('{', '').replace('}', '')\n",
    "print('EQ_3_str = \\n', eq_3_str)\n",
    "\n",
    "\n",
    "##------------------------------\n",
    "print('-'*50)\n",
    "print('TM mode')\n",
    "\n",
    "alpha_1_rep = sqrt(solve(AK1[2], alpha_1**2)[0])\n",
    "display(Math('\\\\alpha_1 = ' + latex(alpha_1_rep)))\n",
    "if print_latex:\n",
    "    print('latex:\\n \\\\alpha_1 = '+ latex(alpha_1_rep))\n",
    "alpha_2_rep = sqrt(solve(AK2[2], alpha_2**2)[0])\n",
    "display(Math('\\\\alpha_2 = ' + latex(alpha_2_rep)))\n",
    "if print_latex:\n",
    "    print('latex:\\n \\\\alpha_2 = '+ latex(alpha_2_rep))\n",
    "\n",
    "\n",
    "EQ = B_coeff[1,0].subs([(alpha_1, alpha_1_rep), (alpha_2, alpha_2_rep)]).simplify()\n",
    "display(Math('EQ = ' + latex(EQ)))\n",
    "print('latex form: \\n', latex(EQ))\n",
    "\n",
    "EQ_str = lambdastr(k, EQ).replace('\\\\', '').replace('{', '').replace('}', '')\n",
    "print('EQ_str = \\n', EQ_str)\n",
    "\n",
    "EQ_str = Misc.replace_whole_word(EQ_str, 'I', '1j')\n",
    "print('EQ_str = \\n', EQ_str)\n",
    "\n",
    "K = Symbol('K')\n",
    "k0 = Symbol('k_0', real=True)\n",
    "EQ = (EQ.subs(omega, k0/sqrt(mu_0*eps_0)).subs(k, K*k0)).simplify()\n",
    "EQ = EQ.subs(abs(k0), k0).simplify()\n",
    "display(Math('EQ = ' + latex(EQ)))\n",
    "\n",
    "\n",
    "EQ_str = lambdastr(k, EQ).replace('\\\\', '').replace('{', '').replace('}', '')\n",
    "print('EQ_str = \\n', EQ_str)\n",
    "\n",
    "EQ_str = Misc.replace_whole_word(EQ_str, 'I', '1j')\n",
    "print('EQ_str = \\n', EQ_str)\n",
    "\n",
    "print('latex form: K=k/k_0\\n', latex(EQ))"
   ]
  },
  {
   "cell_type": "markdown",
   "metadata": {},
   "source": [
    "### Graphene sheet with ferrite superstrate and substrate"
   ]
  },
  {
   "cell_type": "code",
   "execution_count": 1,
   "metadata": {
    "collapsed": false
   },
   "outputs": [
    {
     "data": {
      "text/latex": [
       "$$E_1 = \\left[\\begin{matrix}E_{{x1}} e^{- \\alpha_{1} y - i k z} & E_{{y1}} e^{- \\alpha_{1} y - i k z} & E_{{z1}} e^{- \\alpha_{1} y - i k z}\\end{matrix}\\right]$$"
      ],
      "text/plain": [
       "<IPython.core.display.Math object>"
      ]
     },
     "metadata": {},
     "output_type": "display_data"
    },
    {
     "data": {
      "text/latex": [
       "$$E_2 = \\left[\\begin{matrix}E_{{x2}} e^{\\alpha_{2} y - i k z} & E_{{y2}} e^{\\alpha_{2} y - i k z} & E_{{z2}} e^{\\alpha_{2} y - i k z}\\end{matrix}\\right]$$"
      ],
      "text/plain": [
       "<IPython.core.display.Math object>"
      ]
     },
     "metadata": {},
     "output_type": "display_data"
    },
    {
     "data": {
      "text/latex": [
       "$$\\mu_1 = \\left[\\begin{matrix}1 & 0 & 0\\\\0 & \\mu_{{rd1}} & - \\mu_{{ro1}}\\\\0 & \\mu_{{ro1}} & \\mu_{{rd1}}\\end{matrix}\\right]$$"
      ],
      "text/plain": [
       "<IPython.core.display.Math object>"
      ]
     },
     "metadata": {},
     "output_type": "display_data"
    },
    {
     "name": "stdout",
     "output_type": "stream",
     "text": [
      "latex:\n",
      " \\mu_1 = \\left[\\begin{matrix}1 & 0 & 0\\\\0 & \\mu_{{rd1}} & - \\mu_{{ro1}}\\\\0 & \\mu_{{ro1}} & \\mu_{{rd1}}\\end{matrix}\\right]\n"
     ]
    },
    {
     "data": {
      "text/latex": [
       "$$\\mu_2 = \\left[\\begin{matrix}1 & 0 & 0\\\\0 & \\mu_{{rd2}} & - \\mu_{{ro2}}\\\\0 & \\mu_{{ro2}} & \\mu_{{rd2}}\\end{matrix}\\right]$$"
      ],
      "text/plain": [
       "<IPython.core.display.Math object>"
      ]
     },
     "metadata": {},
     "output_type": "display_data"
    },
    {
     "name": "stdout",
     "output_type": "stream",
     "text": [
      "latex:\n",
      " \\mu_2 = \\left[\\begin{matrix}1 & 0 & 0\\\\0 & \\mu_{{rd2}} & - \\mu_{{ro2}}\\\\0 & \\mu_{{ro2}} & \\mu_{{rd2}}\\end{matrix}\\right]\n"
     ]
    },
    {
     "data": {
      "text/latex": [
       "$$\\mu_1^{-1} = \\left[\\begin{matrix}1 & 0 & 0\\\\0 & \\frac{1}{\\mu_{{rd1}}} - \\frac{\\mu_{{ro1}}^{2}}{\\mu_{{rd1}}^{2} \\left(\\mu_{{rd1}} + \\frac{\\mu_{{ro1}}^{2}}{\\mu_{{rd1}}}\\right)} & \\frac{\\mu_{{ro1}}}{\\mu_{{rd1}} \\left(\\mu_{{rd1}} + \\frac{\\mu_{{ro1}}^{2}}{\\mu_{{rd1}}}\\right)}\\\\0 & - \\frac{\\mu_{{ro1}}}{\\mu_{{rd1}} \\left(\\mu_{{rd1}} + \\frac{\\mu_{{ro1}}^{2}}{\\mu_{{rd1}}}\\right)} & \\frac{1}{\\mu_{{rd1}} + \\frac{\\mu_{{ro1}}^{2}}{\\mu_{{rd1}}}}\\end{matrix}\\right]$$"
      ],
      "text/plain": [
       "<IPython.core.display.Math object>"
      ]
     },
     "metadata": {},
     "output_type": "display_data"
    },
    {
     "data": {
      "text/latex": [
       "$$\\mu_2^{-1} = \\left[\\begin{matrix}1 & 0 & 0\\\\0 & \\frac{1}{\\mu_{{rd2}}} - \\frac{\\mu_{{ro2}}^{2}}{\\mu_{{rd2}}^{2} \\left(\\mu_{{rd2}} + \\frac{\\mu_{{ro2}}^{2}}{\\mu_{{rd2}}}\\right)} & \\frac{\\mu_{{ro2}}}{\\mu_{{rd2}} \\left(\\mu_{{rd2}} + \\frac{\\mu_{{ro2}}^{2}}{\\mu_{{rd2}}}\\right)}\\\\0 & - \\frac{\\mu_{{ro2}}}{\\mu_{{rd2}} \\left(\\mu_{{rd2}} + \\frac{\\mu_{{ro2}}^{2}}{\\mu_{{rd2}}}\\right)} & \\frac{1}{\\mu_{{rd2}} + \\frac{\\mu_{{ro2}}^{2}}{\\mu_{{rd2}}}}\\end{matrix}\\right]$$"
      ],
      "text/plain": [
       "<IPython.core.display.Math object>"
      ]
     },
     "metadata": {},
     "output_type": "display_data"
    },
    {
     "data": {
      "text/latex": [
       "$$H_1 = \\left[\\begin{matrix}\\frac{i}{\\mu_{0} \\omega} \\left(- \\frac{\\partial}{\\partial z}\\left(E_{{y1}} e^{- \\alpha_{1} y - i k z}\\right) + \\frac{\\partial}{\\partial y}\\left(E_{{z1}} e^{- \\alpha_{1} y - i k z}\\right)\\right) & \\frac{i}{\\mu_{0} \\omega} \\left(\\frac{1}{\\mu_{{rd1}}} - \\frac{\\mu_{{ro1}}^{2}}{\\mu_{{rd1}}^{2} \\left(\\mu_{{rd1}} + \\frac{\\mu_{{ro1}}^{2}}{\\mu_{{rd1}}}\\right)}\\right) \\left(\\frac{\\partial}{\\partial z}\\left(E_{{x1}} e^{- \\alpha_{1} y - i k z}\\right) - \\frac{\\partial}{\\partial x}\\left(E_{{z1}} e^{- \\alpha_{1} y - i k z}\\right)\\right) + \\frac{i \\mu_{{ro1}}}{\\mu_{0} \\mu_{{rd1}} \\omega \\left(\\mu_{{rd1}} + \\frac{\\mu_{{ro1}}^{2}}{\\mu_{{rd1}}}\\right)} \\left(- \\frac{\\partial}{\\partial y}\\left(E_{{x1}} e^{- \\alpha_{1} y - i k z}\\right) + \\frac{\\partial}{\\partial x}\\left(E_{{y1}} e^{- \\alpha_{1} y - i k z}\\right)\\right) & \\frac{i}{\\mu_{0} \\omega \\left(\\mu_{{rd1}} + \\frac{\\mu_{{ro1}}^{2}}{\\mu_{{rd1}}}\\right)} \\left(- \\frac{\\partial}{\\partial y}\\left(E_{{x1}} e^{- \\alpha_{1} y - i k z}\\right) + \\frac{\\partial}{\\partial x}\\left(E_{{y1}} e^{- \\alpha_{1} y - i k z}\\right)\\right) - \\frac{i \\mu_{{ro1}}}{\\mu_{0} \\mu_{{rd1}} \\omega \\left(\\mu_{{rd1}} + \\frac{\\mu_{{ro1}}^{2}}{\\mu_{{rd1}}}\\right)} \\left(\\frac{\\partial}{\\partial z}\\left(E_{{x1}} e^{- \\alpha_{1} y - i k z}\\right) - \\frac{\\partial}{\\partial x}\\left(E_{{z1}} e^{- \\alpha_{1} y - i k z}\\right)\\right)\\end{matrix}\\right]$$"
      ],
      "text/plain": [
       "<IPython.core.display.Math object>"
      ]
     },
     "metadata": {},
     "output_type": "display_data"
    },
    {
     "data": {
      "text/latex": [
       "$$H_2 = \\left[\\begin{matrix}\\frac{i}{\\mu_{0} \\omega} \\left(- \\frac{\\partial}{\\partial z}\\left(E_{{y2}} e^{\\alpha_{2} y - i k z}\\right) + \\frac{\\partial}{\\partial y}\\left(E_{{z2}} e^{\\alpha_{2} y - i k z}\\right)\\right) & \\frac{i}{\\mu_{0} \\omega} \\left(\\frac{1}{\\mu_{{rd2}}} - \\frac{\\mu_{{ro2}}^{2}}{\\mu_{{rd2}}^{2} \\left(\\mu_{{rd2}} + \\frac{\\mu_{{ro2}}^{2}}{\\mu_{{rd2}}}\\right)}\\right) \\left(\\frac{\\partial}{\\partial z}\\left(E_{{x2}} e^{\\alpha_{2} y - i k z}\\right) - \\frac{\\partial}{\\partial x}\\left(E_{{z2}} e^{\\alpha_{2} y - i k z}\\right)\\right) + \\frac{i \\mu_{{ro2}}}{\\mu_{0} \\mu_{{rd2}} \\omega \\left(\\mu_{{rd2}} + \\frac{\\mu_{{ro2}}^{2}}{\\mu_{{rd2}}}\\right)} \\left(- \\frac{\\partial}{\\partial y}\\left(E_{{x2}} e^{\\alpha_{2} y - i k z}\\right) + \\frac{\\partial}{\\partial x}\\left(E_{{y2}} e^{\\alpha_{2} y - i k z}\\right)\\right) & \\frac{i}{\\mu_{0} \\omega \\left(\\mu_{{rd2}} + \\frac{\\mu_{{ro2}}^{2}}{\\mu_{{rd2}}}\\right)} \\left(- \\frac{\\partial}{\\partial y}\\left(E_{{x2}} e^{\\alpha_{2} y - i k z}\\right) + \\frac{\\partial}{\\partial x}\\left(E_{{y2}} e^{\\alpha_{2} y - i k z}\\right)\\right) - \\frac{i \\mu_{{ro2}}}{\\mu_{0} \\mu_{{rd2}} \\omega \\left(\\mu_{{rd2}} + \\frac{\\mu_{{ro2}}^{2}}{\\mu_{{rd2}}}\\right)} \\left(\\frac{\\partial}{\\partial z}\\left(E_{{x2}} e^{\\alpha_{2} y - i k z}\\right) - \\frac{\\partial}{\\partial x}\\left(E_{{z2}} e^{\\alpha_{2} y - i k z}\\right)\\right)\\end{matrix}\\right]$$"
      ],
      "text/plain": [
       "<IPython.core.display.Math object>"
      ]
     },
     "metadata": {},
     "output_type": "display_data"
    },
    {
     "data": {
      "text/latex": [
       "$$H_1 = \\left[\\begin{matrix}\\frac{i}{\\mu_{0} \\omega} \\left(i E_{{y1}} k e^{- \\alpha_{1} y - i k z} - E_{{z1}} \\alpha_{1} e^{- \\alpha_{1} y - i k z}\\right)\\\\\\frac{i E_{{x1}} \\alpha_{1} \\mu_{{ro1}} e^{- \\alpha_{1} y - i k z}}{\\mu_{0} \\mu_{{rd1}} \\omega \\left(\\mu_{{rd1}} + \\frac{\\mu_{{ro1}}^{2}}{\\mu_{{rd1}}}\\right)} + \\frac{E_{{x1}} k}{\\mu_{0} \\omega} \\left(\\frac{1}{\\mu_{{rd1}}} - \\frac{\\mu_{{ro1}}^{2}}{\\mu_{{rd1}}^{2} \\left(\\mu_{{rd1}} + \\frac{\\mu_{{ro1}}^{2}}{\\mu_{{rd1}}}\\right)}\\right) e^{- \\alpha_{1} y - i k z}\\\\\\frac{i E_{{x1}} \\alpha_{1} e^{- \\alpha_{1} y - i k z}}{\\mu_{0} \\omega \\left(\\mu_{{rd1}} + \\frac{\\mu_{{ro1}}^{2}}{\\mu_{{rd1}}}\\right)} - \\frac{E_{{x1}} \\mu_{{ro1}} k e^{- \\alpha_{1} y - i k z}}{\\mu_{0} \\mu_{{rd1}} \\omega \\left(\\mu_{{rd1}} + \\frac{\\mu_{{ro1}}^{2}}{\\mu_{{rd1}}}\\right)}\\end{matrix}\\right]$$"
      ],
      "text/plain": [
       "<IPython.core.display.Math object>"
      ]
     },
     "metadata": {},
     "output_type": "display_data"
    },
    {
     "data": {
      "text/latex": [
       "$$H_2 = \\left[\\begin{matrix}\\frac{i}{\\mu_{0} \\omega} \\left(i E_{{y2}} k e^{\\alpha_{2} y - i k z} + E_{{z2}} \\alpha_{2} e^{\\alpha_{2} y - i k z}\\right)\\\\- \\frac{i E_{{x2}} \\alpha_{2} \\mu_{{ro2}} e^{\\alpha_{2} y - i k z}}{\\mu_{0} \\mu_{{rd2}} \\omega \\left(\\mu_{{rd2}} + \\frac{\\mu_{{ro2}}^{2}}{\\mu_{{rd2}}}\\right)} + \\frac{E_{{x2}} k}{\\mu_{0} \\omega} \\left(\\frac{1}{\\mu_{{rd2}}} - \\frac{\\mu_{{ro2}}^{2}}{\\mu_{{rd2}}^{2} \\left(\\mu_{{rd2}} + \\frac{\\mu_{{ro2}}^{2}}{\\mu_{{rd2}}}\\right)}\\right) e^{\\alpha_{2} y - i k z}\\\\- \\frac{i E_{{x2}} \\alpha_{2} e^{\\alpha_{2} y - i k z}}{\\mu_{0} \\omega \\left(\\mu_{{rd2}} + \\frac{\\mu_{{ro2}}^{2}}{\\mu_{{rd2}}}\\right)} - \\frac{E_{{x2}} \\mu_{{ro2}} k e^{\\alpha_{2} y - i k z}}{\\mu_{0} \\mu_{{rd2}} \\omega \\left(\\mu_{{rd2}} + \\frac{\\mu_{{ro2}}^{2}}{\\mu_{{rd2}}}\\right)}\\end{matrix}\\right]$$"
      ],
      "text/plain": [
       "<IPython.core.display.Math object>"
      ]
     },
     "metadata": {},
     "output_type": "display_data"
    },
    {
     "data": {
      "text/latex": [
       "$$\\sigma = \\left[\\begin{matrix}\\sigma & 0 & 0\\\\0 & 0 & 0\\\\0 & 0 & \\sigma\\end{matrix}\\right]$$"
      ],
      "text/plain": [
       "<IPython.core.display.Math object>"
      ]
     },
     "metadata": {},
     "output_type": "display_data"
    },
    {
     "data": {
      "text/latex": [
       "$$A = \\left[\\begin{matrix}\\frac{1}{\\mu_{0} \\omega \\left(\\mu_{{rd1}}^{2} + \\mu_{{ro1}}^{2}\\right) \\left(\\mu_{{rd2}}^{2} + \\mu_{{ro2}}^{2}\\right)} \\left(- E_{{x1}} \\mu_{0} \\omega \\sigma \\left(\\mu_{{rd1}}^{2} + \\mu_{{ro1}}^{2}\\right) \\left(\\mu_{{rd2}}^{2} + \\mu_{{ro2}}^{2}\\right) + E_{{x1}} \\left(\\mu_{{rd2}}^{2} + \\mu_{{ro2}}^{2}\\right) \\left(i \\alpha_{1} \\mu_{{rd1}} - \\mu_{{ro1}} k\\right) + E_{{x2}} \\left(\\mu_{{rd1}}^{2} + \\mu_{{ro1}}^{2}\\right) \\left(i \\alpha_{2} \\mu_{{rd2}} + \\mu_{{ro2}} k\\right)\\right)\\\\0\\\\\\frac{1}{\\mu_{0} \\omega} \\left(E_{{y1}} k - E_{{y2}} k + i E_{{z1}} \\alpha_{1} - E_{{z1}} \\mu_{0} \\omega \\sigma + i E_{{z2}} \\alpha_{2}\\right)\\end{matrix}\\right]$$"
      ],
      "text/plain": [
       "<IPython.core.display.Math object>"
      ]
     },
     "metadata": {},
     "output_type": "display_data"
    },
    {
     "name": "stdout",
     "output_type": "stream",
     "text": [
      "latex:\n",
      " \\left[\\begin{matrix}\\frac{1}{\\mu_{0} \\omega \\left(\\mu_{{rd1}}^{2} + \\mu_{{ro1}}^{2}\\right) \\left(\\mu_{{rd2}}^{2} + \\mu_{{ro2}}^{2}\\right)} \\left(- E_{{x1}} \\mu_{0} \\omega \\sigma \\left(\\mu_{{rd1}}^{2} + \\mu_{{ro1}}^{2}\\right) \\left(\\mu_{{rd2}}^{2} + \\mu_{{ro2}}^{2}\\right) + E_{{x1}} \\left(\\mu_{{rd2}}^{2} + \\mu_{{ro2}}^{2}\\right) \\left(i \\alpha_{1} \\mu_{{rd1}} - \\mu_{{ro1}} k\\right) + E_{{x2}} \\left(\\mu_{{rd1}}^{2} + \\mu_{{ro1}}^{2}\\right) \\left(i \\alpha_{2} \\mu_{{rd2}} + \\mu_{{ro2}} k\\right)\\right)\\\\0\\\\\\frac{1}{\\mu_{0} \\omega} \\left(E_{{y1}} k - E_{{y2}} k + i E_{{z1}} \\alpha_{1} - E_{{z1}} \\mu_{0} \\omega \\sigma + i E_{{z2}} \\alpha_{2}\\right)\\end{matrix}\\right]\n"
     ]
    },
    {
     "data": {
      "text/latex": [
       "$$E_{y1} = - \\frac{i E_{{z1}}}{\\alpha_{1}} k$$"
      ],
      "text/plain": [
       "<IPython.core.display.Math object>"
      ]
     },
     "metadata": {},
     "output_type": "display_data"
    },
    {
     "data": {
      "text/latex": [
       "$$E_{y2} = \\frac{i E_{{z2}}}{\\alpha_{2}} k$$"
      ],
      "text/plain": [
       "<IPython.core.display.Math object>"
      ]
     },
     "metadata": {},
     "output_type": "display_data"
    },
    {
     "data": {
      "text/latex": [
       "$$B = \\left[\\begin{matrix}\\frac{1}{\\mu_{0} \\omega \\left(\\mu_{{rd1}}^{2} + \\mu_{{ro1}}^{2}\\right) \\left(\\mu_{{rd2}}^{2} + \\mu_{{ro2}}^{2}\\right)} \\left(- E_{{x1}} \\mu_{0} \\omega \\sigma \\left(\\mu_{{rd1}}^{2} + \\mu_{{ro1}}^{2}\\right) \\left(\\mu_{{rd2}}^{2} + \\mu_{{ro2}}^{2}\\right) + E_{{x1}} \\left(\\mu_{{rd1}}^{2} + \\mu_{{ro1}}^{2}\\right) \\left(i \\alpha_{2} \\mu_{{rd2}} + \\mu_{{ro2}} k\\right) + E_{{x1}} \\left(\\mu_{{rd2}}^{2} + \\mu_{{ro2}}^{2}\\right) \\left(i \\alpha_{1} \\mu_{{rd1}} - \\mu_{{ro1}} k\\right)\\right)\\\\0\\\\\\frac{1}{\\mu_{0} \\omega} \\left(i E_{{z1}} \\alpha_{1} + i E_{{z1}} \\alpha_{2} - E_{{z1}} \\mu_{0} \\omega \\sigma - \\frac{i E_{{z1}}}{\\alpha_{2}} k^{2} - \\frac{i E_{{z1}}}{\\alpha_{1}} k^{2}\\right)\\end{matrix}\\right]$$"
      ],
      "text/plain": [
       "<IPython.core.display.Math object>"
      ]
     },
     "metadata": {},
     "output_type": "display_data"
    },
    {
     "data": {
      "text/latex": [
       "$$B_\\text{coeff} = \\left[\\begin{matrix}0 & \\frac{1}{\\mu_{0} \\omega \\left(\\mu_{{rd1}}^{2} + \\mu_{{ro1}}^{2}\\right) \\left(\\mu_{{rd2}}^{2} + \\mu_{{ro2}}^{2}\\right)} \\left(- \\mu_{0} \\omega \\sigma \\left(\\mu_{{rd1}}^{2} + \\mu_{{ro1}}^{2}\\right) \\left(\\mu_{{rd2}}^{2} + \\mu_{{ro2}}^{2}\\right) + \\left(\\mu_{{rd1}}^{2} + \\mu_{{ro1}}^{2}\\right) \\left(i \\alpha_{2} \\mu_{{rd2}} + \\mu_{{ro2}} k\\right) + \\left(\\mu_{{rd2}}^{2} + \\mu_{{ro2}}^{2}\\right) \\left(i \\alpha_{1} \\mu_{{rd1}} - \\mu_{{ro1}} k\\right)\\right)\\\\\\frac{i \\alpha_{1}}{\\mu_{0} \\omega} + \\frac{i \\alpha_{2}}{\\mu_{0} \\omega} - \\sigma - \\frac{i k^{2}}{\\alpha_{2} \\mu_{0} \\omega} - \\frac{i k^{2}}{\\alpha_{1} \\mu_{0} \\omega} & 0\\end{matrix}\\right]$$"
      ],
      "text/plain": [
       "<IPython.core.display.Math object>"
      ]
     },
     "metadata": {},
     "output_type": "display_data"
    },
    {
     "name": "stdout",
     "output_type": "stream",
     "text": [
      "latex:\n",
      " \\left[\\begin{matrix}0 & \\frac{1}{\\mu_{0} \\omega \\left(\\mu_{{rd1}}^{2} + \\mu_{{ro1}}^{2}\\right) \\left(\\mu_{{rd2}}^{2} + \\mu_{{ro2}}^{2}\\right)} \\left(- \\mu_{0} \\omega \\sigma \\left(\\mu_{{rd1}}^{2} + \\mu_{{ro1}}^{2}\\right) \\left(\\mu_{{rd2}}^{2} + \\mu_{{ro2}}^{2}\\right) + \\left(\\mu_{{rd1}}^{2} + \\mu_{{ro1}}^{2}\\right) \\left(i \\alpha_{2} \\mu_{{rd2}} + \\mu_{{ro2}} k\\right) + \\left(\\mu_{{rd2}}^{2} + \\mu_{{ro2}}^{2}\\right) \\left(i \\alpha_{1} \\mu_{{rd1}} - \\mu_{{ro1}} k\\right)\\right)\\\\\\frac{i \\alpha_{1}}{\\mu_{0} \\omega} + \\frac{i \\alpha_{2}}{\\mu_{0} \\omega} - \\sigma - \\frac{i k^{2}}{\\alpha_{2} \\mu_{0} \\omega} - \\frac{i k^{2}}{\\alpha_{1} \\mu_{0} \\omega} & 0\\end{matrix}\\right]\n"
     ]
    },
    {
     "data": {
      "text/latex": [
       "$$AK1 = \\left[\\begin{matrix}\\frac{E_{{x1}}}{\\mu_{{rd1}}^{2} + \\mu_{{ro1}}^{2}} \\left(- \\alpha_{1}^{2} \\mu_{{rd1}} - \\epsilon_{0} \\epsilon_{{r1}} \\mu_{0} \\mu_{{rd1}}^{2} \\omega^{2} - \\epsilon_{0} \\epsilon_{{r1}} \\mu_{0} \\mu_{{ro1}}^{2} \\omega^{2} + \\mu_{{rd1}} k^{2}\\right)\\\\\\frac{i E_{{z1}}}{\\alpha_{1}} k \\left(\\alpha_{1}^{2} + \\epsilon_{0} \\epsilon_{{r1}} \\mu_{0} \\omega^{2} - k^{2}\\right)\\\\E_{{z1}} \\left(- \\alpha_{1}^{2} - \\epsilon_{0} \\epsilon_{{r1}} \\mu_{0} \\omega^{2} + k^{2}\\right)\\end{matrix}\\right]$$"
      ],
      "text/plain": [
       "<IPython.core.display.Math object>"
      ]
     },
     "metadata": {},
     "output_type": "display_data"
    },
    {
     "name": "stdout",
     "output_type": "stream",
     "text": [
      "latex:\n",
      " \\left[\\begin{matrix}\\frac{E_{{x1}}}{\\mu_{{rd1}}^{2} + \\mu_{{ro1}}^{2}} \\left(- \\alpha_{1}^{2} \\mu_{{rd1}} - \\epsilon_{0} \\epsilon_{{r1}} \\mu_{0} \\mu_{{rd1}}^{2} \\omega^{2} - \\epsilon_{0} \\epsilon_{{r1}} \\mu_{0} \\mu_{{ro1}}^{2} \\omega^{2} + \\mu_{{rd1}} k^{2}\\right)\\\\\\frac{i E_{{z1}}}{\\alpha_{1}} k \\left(\\alpha_{1}^{2} + \\epsilon_{0} \\epsilon_{{r1}} \\mu_{0} \\omega^{2} - k^{2}\\right)\\\\E_{{z1}} \\left(- \\alpha_{1}^{2} - \\epsilon_{0} \\epsilon_{{r1}} \\mu_{0} \\omega^{2} + k^{2}\\right)\\end{matrix}\\right]\n"
     ]
    },
    {
     "data": {
      "text/latex": [
       "$$AK2 = \\left[\\begin{matrix}\\frac{E_{{x2}}}{\\mu_{{rd2}}^{2} + \\mu_{{ro2}}^{2}} \\left(- \\alpha_{2}^{2} \\mu_{{rd2}} - \\epsilon_{0} \\epsilon_{{r2}} \\mu_{0} \\mu_{{rd2}}^{2} \\omega^{2} - \\epsilon_{0} \\epsilon_{{r2}} \\mu_{0} \\mu_{{ro2}}^{2} \\omega^{2} + \\mu_{{rd2}} k^{2}\\right)\\\\\\frac{i E_{{z2}}}{\\alpha_{2}} k \\left(- \\alpha_{2}^{2} - \\epsilon_{0} \\epsilon_{{r2}} \\mu_{0} \\omega^{2} + k^{2}\\right)\\\\E_{{z2}} \\left(- \\alpha_{2}^{2} - \\epsilon_{0} \\epsilon_{{r2}} \\mu_{0} \\omega^{2} + k^{2}\\right)\\end{matrix}\\right]$$"
      ],
      "text/plain": [
       "<IPython.core.display.Math object>"
      ]
     },
     "metadata": {},
     "output_type": "display_data"
    },
    {
     "name": "stdout",
     "output_type": "stream",
     "text": [
      "latex:\n",
      " \\left[\\begin{matrix}\\frac{E_{{x2}}}{\\mu_{{rd2}}^{2} + \\mu_{{ro2}}^{2}} \\left(- \\alpha_{2}^{2} \\mu_{{rd2}} - \\epsilon_{0} \\epsilon_{{r2}} \\mu_{0} \\mu_{{rd2}}^{2} \\omega^{2} - \\epsilon_{0} \\epsilon_{{r2}} \\mu_{0} \\mu_{{ro2}}^{2} \\omega^{2} + \\mu_{{rd2}} k^{2}\\right)\\\\\\frac{i E_{{z2}}}{\\alpha_{2}} k \\left(- \\alpha_{2}^{2} - \\epsilon_{0} \\epsilon_{{r2}} \\mu_{0} \\omega^{2} + k^{2}\\right)\\\\E_{{z2}} \\left(- \\alpha_{2}^{2} - \\epsilon_{0} \\epsilon_{{r2}} \\mu_{0} \\omega^{2} + k^{2}\\right)\\end{matrix}\\right]\n"
     ]
    },
    {
     "data": {
      "text/latex": [
       "$$\\alpha_1 = \\sqrt{- \\epsilon_{0} \\epsilon_{{r1}} \\mu_{0} \\mu_{{rd1}} \\omega^{2} - \\frac{\\epsilon_{0} \\epsilon_{{r1}}}{\\mu_{{rd1}}} \\mu_{0} \\mu_{{ro1}}^{2} \\omega^{2} + k^{2}}$$"
      ],
      "text/plain": [
       "<IPython.core.display.Math object>"
      ]
     },
     "metadata": {},
     "output_type": "display_data"
    },
    {
     "name": "stdout",
     "output_type": "stream",
     "text": [
      "latex:\n",
      " \\sqrt{- \\epsilon_{0} \\epsilon_{{r1}} \\mu_{0} \\mu_{{rd1}} \\omega^{2} - \\frac{\\epsilon_{0} \\epsilon_{{r1}}}{\\mu_{{rd1}}} \\mu_{0} \\mu_{{ro1}}^{2} \\omega^{2} + k^{2}}\n"
     ]
    },
    {
     "data": {
      "text/latex": [
       "$$\\alpha_2 = \\sqrt{- \\epsilon_{0} \\epsilon_{{r2}} \\mu_{0} \\mu_{{rd2}} \\omega^{2} - \\frac{\\epsilon_{0} \\epsilon_{{r2}}}{\\mu_{{rd2}}} \\mu_{0} \\mu_{{ro2}}^{2} \\omega^{2} + k^{2}}$$"
      ],
      "text/plain": [
       "<IPython.core.display.Math object>"
      ]
     },
     "metadata": {},
     "output_type": "display_data"
    },
    {
     "name": "stdout",
     "output_type": "stream",
     "text": [
      "latex:\n",
      " \\sqrt{- \\epsilon_{0} \\epsilon_{{r2}} \\mu_{0} \\mu_{{rd2}} \\omega^{2} - \\frac{\\epsilon_{0} \\epsilon_{{r2}}}{\\mu_{{rd2}}} \\mu_{0} \\mu_{{ro2}}^{2} \\omega^{2} + k^{2}}\n"
     ]
    },
    {
     "data": {
      "text/latex": [
       "$$EQ = \\frac{1}{\\mu_{0} \\omega \\left(\\mu_{{rd1}}^{2} + \\mu_{{ro1}}^{2}\\right) \\left(\\mu_{{rd2}}^{2} + \\mu_{{ro2}}^{2}\\right)} \\left(- \\mu_{0} \\omega \\sigma \\left(\\mu_{{rd1}}^{2} + \\mu_{{ro1}}^{2}\\right) \\left(\\mu_{{rd2}}^{2} + \\mu_{{ro2}}^{2}\\right) + \\left(\\mu_{{rd1}}^{2} + \\mu_{{ro1}}^{2}\\right) \\left(i \\mu_{{rd2}} \\sqrt{\\frac{1}{\\mu_{{rd2}}} \\left(- \\epsilon_{0} \\epsilon_{{r2}} \\mu_{0} \\mu_{{ro2}}^{2} \\omega^{2} + \\mu_{{rd2}} \\left(- \\epsilon_{0} \\epsilon_{{r2}} \\mu_{0} \\mu_{{rd2}} \\omega^{2} + k^{2}\\right)\\right)} + \\mu_{{ro2}} k\\right) + \\left(\\mu_{{rd2}}^{2} + \\mu_{{ro2}}^{2}\\right) \\left(i \\mu_{{rd1}} \\sqrt{\\frac{1}{\\mu_{{rd1}}} \\left(- \\epsilon_{0} \\epsilon_{{r1}} \\mu_{0} \\mu_{{ro1}}^{2} \\omega^{2} + \\mu_{{rd1}} \\left(- \\epsilon_{0} \\epsilon_{{r1}} \\mu_{0} \\mu_{{rd1}} \\omega^{2} + k^{2}\\right)\\right)} - \\mu_{{ro1}} k\\right)\\right)$$"
      ],
      "text/plain": [
       "<IPython.core.display.Math object>"
      ]
     },
     "metadata": {},
     "output_type": "display_data"
    },
    {
     "name": "stdout",
     "output_type": "stream",
     "text": [
      "latex:\n",
      " \\frac{1}{\\mu_{0} \\omega \\left(\\mu_{{rd1}}^{2} + \\mu_{{ro1}}^{2}\\right) \\left(\\mu_{{rd2}}^{2} + \\mu_{{ro2}}^{2}\\right)} \\left(- \\mu_{0} \\omega \\sigma \\left(\\mu_{{rd1}}^{2} + \\mu_{{ro1}}^{2}\\right) \\left(\\mu_{{rd2}}^{2} + \\mu_{{ro2}}^{2}\\right) + \\left(\\mu_{{rd1}}^{2} + \\mu_{{ro1}}^{2}\\right) \\left(i \\mu_{{rd2}} \\sqrt{\\frac{1}{\\mu_{{rd2}}} \\left(- \\epsilon_{0} \\epsilon_{{r2}} \\mu_{0} \\mu_{{ro2}}^{2} \\omega^{2} + \\mu_{{rd2}} \\left(- \\epsilon_{0} \\epsilon_{{r2}} \\mu_{0} \\mu_{{rd2}} \\omega^{2} + k^{2}\\right)\\right)} + \\mu_{{ro2}} k\\right) + \\left(\\mu_{{rd2}}^{2} + \\mu_{{ro2}}^{2}\\right) \\left(i \\mu_{{rd1}} \\sqrt{\\frac{1}{\\mu_{{rd1}}} \\left(- \\epsilon_{0} \\epsilon_{{r1}} \\mu_{0} \\mu_{{ro1}}^{2} \\omega^{2} + \\mu_{{rd1}} \\left(- \\epsilon_{0} \\epsilon_{{r1}} \\mu_{0} \\mu_{{rd1}} \\omega^{2} + k^{2}\\right)\\right)} - \\mu_{{ro1}} k\\right)\\right)\n",
      "EQ_str = \n",
      " lambda k: ((-mu_0*omega*sigma*(mu_rd1**2 + mu_ro1**2)*(mu_rd2**2 + mu_ro2**2) + (mu_rd1**2 + mu_ro1**2)*(I*mu_rd2*sqrt((-epsilon_0*epsilon_r2*mu_0*mu_ro2**2*omega**2 + mu_rd2*(-epsilon_0*epsilon_r2*mu_0*mu_rd2*omega**2 + k**2))/mu_rd2) + mu_ro2*k) + (mu_rd2**2 + mu_ro2**2)*(I*mu_rd1*sqrt((-epsilon_0*epsilon_r1*mu_0*mu_ro1**2*omega**2 + mu_rd1*(-epsilon_0*epsilon_r1*mu_0*mu_rd1*omega**2 + k**2))/mu_rd1) - mu_ro1*k))/(mu_0*omega*(mu_rd1**2 + mu_ro1**2)*(mu_rd2**2 + mu_ro2**2)))\n",
      "EQ_str = \n",
      " lambda k: ((-mu_0*omega*sigma*(mu_rd1**2 + mu_ro1**2)*(mu_rd2**2 + mu_ro2**2) + (mu_rd1**2 + mu_ro1**2)*(1j*mu_rd2*sqrt((-epsilon_0*epsilon_r2*mu_0*mu_ro2**2*omega**2 + mu_rd2*(-epsilon_0*epsilon_r2*mu_0*mu_rd2*omega**2 + k**2))/mu_rd2) + mu_ro2*k) + (mu_rd2**2 + mu_ro2**2)*(1j*mu_rd1*sqrt((-epsilon_0*epsilon_r1*mu_0*mu_ro1**2*omega**2 + mu_rd1*(-epsilon_0*epsilon_r1*mu_0*mu_rd1*omega**2 + k**2))/mu_rd1) - mu_ro1*k))/(mu_0*omega*(mu_rd1**2 + mu_ro1**2)*(mu_rd2**2 + mu_ro2**2)))\n",
      "equation array:\n"
     ]
    },
    {
     "data": {
      "text/latex": [
       "$$Eq_1 : - \\mu_{0} \\omega \\sigma \\left(\\mu_{{rd1}}^{2} + \\mu_{{ro1}}^{2}\\right) \\left(\\mu_{{rd2}}^{2} + \\mu_{{ro2}}^{2}\\right) + \\left(\\mu_{{rd1}}^{2} + \\mu_{{ro1}}^{2}\\right) \\left(i \\alpha_{2} \\mu_{{rd2}} + \\mu_{{ro2}} k\\right) + \\left(\\mu_{{rd2}}^{2} + \\mu_{{ro2}}^{2}\\right) \\left(i \\alpha_{1} \\mu_{{rd1}} - \\mu_{{ro1}} k\\right)$$"
      ],
      "text/plain": [
       "<IPython.core.display.Math object>"
      ]
     },
     "metadata": {},
     "output_type": "display_data"
    },
    {
     "data": {
      "text/latex": [
       "$$Eq_2 : \\alpha_{1}^{2} \\mu_{{rd1}} + \\epsilon_{0} \\epsilon_{{r1}} \\mu_{0} \\mu_{{rd1}}^{2} \\omega^{2} + \\epsilon_{0} \\epsilon_{{r1}} \\mu_{0} \\mu_{{ro1}}^{2} \\omega^{2} - \\mu_{{rd1}} k^{2}$$"
      ],
      "text/plain": [
       "<IPython.core.display.Math object>"
      ]
     },
     "metadata": {},
     "output_type": "display_data"
    },
    {
     "data": {
      "text/latex": [
       "$$Eq_3 : \\alpha_{2}^{2} \\mu_{{rd2}} + \\epsilon_{0} \\epsilon_{{r2}} \\mu_{0} \\mu_{{rd2}}^{2} \\omega^{2} + \\epsilon_{0} \\epsilon_{{r2}} \\mu_{0} \\mu_{{ro2}}^{2} \\omega^{2} - \\mu_{{rd2}} k^{2}$$"
      ],
      "text/plain": [
       "<IPython.core.display.Math object>"
      ]
     },
     "metadata": {},
     "output_type": "display_data"
    },
    {
     "data": {
      "text/latex": [
       "$$Eq_1 : - \\sigma \\left(\\mu_{{rd1}}^{2} + \\mu_{{ro1}}^{2}\\right) \\left(\\mu_{{rd2}}^{2} + \\mu_{{ro2}}^{2}\\right) + \\left(\\mu_{{rd1}}^{2} + \\mu_{{ro1}}^{2}\\right) \\left(i \\alpha_{2} \\mu_{{rd2}} + \\mu_{{ro2}} k\\right) + \\left(\\mu_{{rd2}}^{2} + \\mu_{{ro2}}^{2}\\right) \\left(i \\alpha_{1} \\mu_{{rd1}} - \\mu_{{ro1}} k\\right)$$"
      ],
      "text/plain": [
       "<IPython.core.display.Math object>"
      ]
     },
     "metadata": {},
     "output_type": "display_data"
    },
    {
     "data": {
      "text/latex": [
       "$$Eq_2 : \\alpha_{1}^{2} \\mu_{{rd1}} + \\epsilon_{{r1}} \\mu_{{rd1}}^{2} + \\epsilon_{{r1}} \\mu_{{ro1}}^{2} - \\mu_{{rd1}} k^{2}$$"
      ],
      "text/plain": [
       "<IPython.core.display.Math object>"
      ]
     },
     "metadata": {},
     "output_type": "display_data"
    },
    {
     "data": {
      "text/latex": [
       "$$Eq_3 : \\alpha_{2}^{2} \\mu_{{rd2}} + \\epsilon_{{r2}} \\mu_{{rd2}}^{2} + \\epsilon_{{r2}} \\mu_{{ro2}}^{2} - \\mu_{{rd2}} k^{2}$$"
      ],
      "text/plain": [
       "<IPython.core.display.Math object>"
      ]
     },
     "metadata": {},
     "output_type": "display_data"
    },
    {
     "name": "stdout",
     "output_type": "stream",
     "text": [
      "latex eq_arr_1:\n",
      " - \\sigma \\left(\\mu_{{rd1}}^{2} + \\mu_{{ro1}}^{2}\\right) \\left(\\mu_{{rd2}}^{2} + \\mu_{{ro2}}^{2}\\right) + \\left(\\mu_{{rd1}}^{2} + \\mu_{{ro1}}^{2}\\right) \\left(i \\alpha_{2} \\mu_{{rd2}} + \\mu_{{ro2}} k\\right) + \\left(\\mu_{{rd2}}^{2} + \\mu_{{ro2}}^{2}\\right) \\left(i \\alpha_{1} \\mu_{{rd1}} - \\mu_{{ro1}} k\\right)\n",
      "latex eq_arr_2:\n",
      " \\alpha_{1}^{2} \\mu_{{rd1}} + \\epsilon_{{r1}} \\mu_{{rd1}}^{2} + \\epsilon_{{r1}} \\mu_{{ro1}}^{2} - \\mu_{{rd1}} k^{2}\n",
      "latex eq_arr_3:\n",
      " \\alpha_{2}^{2} \\mu_{{rd2}} + \\epsilon_{{r2}} \\mu_{{rd2}}^{2} + \\epsilon_{{r2}} \\mu_{{ro2}}^{2} - \\mu_{{rd2}} k^{2}\n",
      "EQ_1_str = \n",
      " lambda k: (-sigma*(mu_rd1**2 + mu_ro1**2)*(mu_rd2**2 + mu_ro2**2) + (mu_rd1**2 + mu_ro1**2)*(I*alpha_2*mu_rd2 + mu_ro2*k) + (mu_rd2**2 + mu_ro2**2)*(I*alpha_1*mu_rd1 - mu_ro1*k))\n",
      "eq_1_str = \n",
      " lambda k: (-sigma*(mu_rd1**2 + mu_ro1**2)*(mu_rd2**2 + mu_ro2**2) + (mu_rd1**2 + mu_ro1**2)*(1j*alpha_2*mu_rd2 + mu_ro2*k) + (mu_rd2**2 + mu_ro2**2)*(1j*alpha_1*mu_rd1 - mu_ro1*k))\n",
      "EQ_2_str = \n",
      " lambda k: (alpha_1**2*mu_rd1 + epsilon_r1*mu_rd1**2 + epsilon_r1*mu_ro1**2 - mu_rd1*k**2)\n",
      "EQ_3_str = \n",
      " lambda k: (alpha_2**2*mu_rd2 + epsilon_r2*mu_rd2**2 + epsilon_r2*mu_ro2**2 - mu_rd2*k**2)\n",
      "--------------------------------------------------\n",
      "TM mode\n"
     ]
    },
    {
     "data": {
      "text/latex": [
       "$$\\alpha_1 = \\sqrt{- \\epsilon_{0} \\epsilon_{{r1}} \\mu_{0} \\omega^{2} + k^{2}}$$"
      ],
      "text/plain": [
       "<IPython.core.display.Math object>"
      ]
     },
     "metadata": {},
     "output_type": "display_data"
    },
    {
     "name": "stdout",
     "output_type": "stream",
     "text": [
      "latex:\n",
      " \\alpha_1 = \\sqrt{- \\epsilon_{0} \\epsilon_{{r1}} \\mu_{0} \\omega^{2} + k^{2}}\n"
     ]
    },
    {
     "data": {
      "text/latex": [
       "$$\\alpha_2 = \\sqrt{- \\epsilon_{0} \\epsilon_{{r2}} \\mu_{0} \\omega^{2} + k^{2}}$$"
      ],
      "text/plain": [
       "<IPython.core.display.Math object>"
      ]
     },
     "metadata": {},
     "output_type": "display_data"
    },
    {
     "name": "stdout",
     "output_type": "stream",
     "text": [
      "latex:\n",
      " \\alpha_2 = \\sqrt{- \\epsilon_{0} \\epsilon_{{r2}} \\mu_{0} \\omega^{2} + k^{2}}\n"
     ]
    },
    {
     "data": {
      "text/latex": [
       "$$EQ = \\frac{i \\alpha_{1}}{\\mu_{0} \\omega} + \\frac{i \\alpha_{2}}{\\mu_{0} \\omega} - \\sigma - \\frac{i k^{2}}{\\alpha_{2} \\mu_{0} \\omega} - \\frac{i k^{2}}{\\alpha_{1} \\mu_{0} \\omega}$$"
      ],
      "text/plain": [
       "<IPython.core.display.Math object>"
      ]
     },
     "metadata": {},
     "output_type": "display_data"
    },
    {
     "data": {
      "text/latex": [
       "$$EQ = - \\frac{i \\epsilon_{0} \\epsilon_{{r1}} \\omega}{\\sqrt{- \\epsilon_{0} \\epsilon_{{r1}} \\mu_{0} \\omega^{2} + k^{2}}} - \\frac{i \\epsilon_{0} \\epsilon_{{r2}} \\omega}{\\sqrt{- \\epsilon_{0} \\epsilon_{{r2}} \\mu_{0} \\omega^{2} + k^{2}}} - \\sigma$$"
      ],
      "text/plain": [
       "<IPython.core.display.Math object>"
      ]
     },
     "metadata": {},
     "output_type": "display_data"
    },
    {
     "name": "stdout",
     "output_type": "stream",
     "text": [
      "latex form: \n",
      " - \\frac{i \\epsilon_{0} \\epsilon_{{r1}} \\omega}{\\sqrt{- \\epsilon_{0} \\epsilon_{{r1}} \\mu_{0} \\omega^{2} + k^{2}}} - \\frac{i \\epsilon_{0} \\epsilon_{{r2}} \\omega}{\\sqrt{- \\epsilon_{0} \\epsilon_{{r2}} \\mu_{0} \\omega^{2} + k^{2}}} - \\sigma\n",
      "EQ_str = \n",
      " lambda k: (-I*epsilon_0*epsilon_r1*omega/sqrt(-epsilon_0*epsilon_r1*mu_0*omega**2 + k**2) - I*epsilon_0*epsilon_r2*omega/sqrt(-epsilon_0*epsilon_r2*mu_0*omega**2 + k**2) - sigma)\n",
      "EQ_str = \n",
      " lambda k: (-1j*epsilon_0*epsilon_r1*omega/sqrt(-epsilon_0*epsilon_r1*mu_0*omega**2 + k**2) - 1j*epsilon_0*epsilon_r2*omega/sqrt(-epsilon_0*epsilon_r2*mu_0*omega**2 + k**2) - sigma)\n"
     ]
    },
    {
     "data": {
      "text/latex": [
       "$$EQ = - \\frac{i \\sqrt{\\epsilon_{0}} \\epsilon_{{r1}}}{\\sqrt{\\mu_{0}} \\sqrt{K^{2} - \\epsilon_{{r1}}}} - \\frac{i \\sqrt{\\epsilon_{0}} \\epsilon_{{r2}}}{\\sqrt{\\mu_{0}} \\sqrt{K^{2} - \\epsilon_{{r2}}}} - \\sigma$$"
      ],
      "text/plain": [
       "<IPython.core.display.Math object>"
      ]
     },
     "metadata": {},
     "output_type": "display_data"
    },
    {
     "name": "stdout",
     "output_type": "stream",
     "text": [
      "EQ_str = \n",
      " lambda k: (-I*sqrt(epsilon_0)*epsilon_r1/(sqrt(mu_0)*sqrt(K**2 - epsilon_r1)) - I*sqrt(epsilon_0)*epsilon_r2/(sqrt(mu_0)*sqrt(K**2 - epsilon_r2)) - sigma)\n",
      "EQ_str = \n",
      " lambda k: (-1j*sqrt(epsilon_0)*epsilon_r1/(sqrt(mu_0)*sqrt(K**2 - epsilon_r1)) - 1j*sqrt(epsilon_0)*epsilon_r2/(sqrt(mu_0)*sqrt(K**2 - epsilon_r2)) - sigma)\n",
      "latex form: K=k/k_0\n",
      " - \\frac{i \\sqrt{\\epsilon_{0}} \\epsilon_{{r1}}}{\\sqrt{\\mu_{0}} \\sqrt{K^{2} - \\epsilon_{{r1}}}} - \\frac{i \\sqrt{\\epsilon_{0}} \\epsilon_{{r2}}}{\\sqrt{\\mu_{0}} \\sqrt{K^{2} - \\epsilon_{{r2}}}} - \\sigma\n"
     ]
    }
   ],
   "source": [
    "from sympy import *\n",
    "from Electromagnetics.VectorCalculus import *\n",
    "from IPython.display import display, Math, Latex\n",
    "\n",
    "from sympy.utilities.lambdify import lambdastr\n",
    "from Electromagnetics import Misc\n",
    "\n",
    "print_latex = True\n",
    "\n",
    "x, y, z = symbols('x y z')\n",
    "Ex1 = Symbol('E_{x1}')\n",
    "Ey1 = Symbol('E_{y1}')\n",
    "Ez1 = Symbol('E_{z1}')\n",
    "Ex2 = Symbol('E_{x2}')\n",
    "Ey2 = Symbol('E_{y2}')\n",
    "Ez2 = Symbol('E_{z2}')\n",
    "alpha_1, alpha_2 = symbols('\\\\alpha_1 \\\\alpha_2')\n",
    "k, k1, k2 = symbols('k k_1 k_2')\n",
    "omega = Symbol('\\\\omega')\n",
    "eps_1, mu_d1, mu_o1 = symbols('\\\\epsilon_{r1} \\\\mu_{rd1} \\\\mu_{ro1}')\n",
    "eps_2, mu_d2, mu_o2 = symbols('\\\\epsilon_{r2} \\\\mu_{rd2} \\\\mu_{ro2}')\n",
    "eps_0, mu_0, eta_0, k_0 = symbols('\\\\epsilon_0 \\\\mu_0 \\\\eta_0 k_0', real=True, positive=True)\n",
    "sigma = Symbol('\\\\sigma')\n",
    "\n",
    "E1 = Matrix([[Ex1, Ey1, Ez1]])*exp(-I*k*z-alpha_1*y)       # upper region\n",
    "E2 = Matrix([[Ex2, Ey2, Ez2]])*exp(-I*k*z+alpha_2*y)       # lower region\n",
    "\n",
    "display(Math('E_1 = ' + latex(E1)))\n",
    "display(Math('E_2 = ' + latex(E2)))\n",
    "\n",
    "mu_1_tens = Matrix([[1, 0, 0], [0, mu_d1, -mu_o1], [0, mu_o1, mu_d1]])\n",
    "display(Math('\\\\mu_1 = ' + latex(mu_1_tens)))\n",
    "if print_latex:\n",
    "    print('latex:\\n \\\\mu_1 = '+ latex(mu_1_tens))\n",
    "mu_2_tens = Matrix([[1, 0, 0], [0, mu_d2, -mu_o2], [0, mu_o2, mu_d2]])\n",
    "display(Math('\\\\mu_2 = ' + latex(mu_2_tens)))\n",
    "if print_latex:\n",
    "    print('latex:\\n \\\\mu_2 = '+ latex(mu_2_tens))\n",
    "\n",
    "mu_1_tens_inv = mu_1_tens.inv()\n",
    "display(Math('\\\\mu_1^{-1} = ' + latex(mu_1_tens_inv)))\n",
    "mu_2_tens_inv = mu_2_tens.inv()\n",
    "display(Math('\\\\mu_2^{-1} = ' + latex(mu_2_tens_inv)))\n",
    "\n",
    "\n",
    "H1 = -1/(I*omega*mu_0)*mu_1_tens_inv*curl_r(E1).T\n",
    "H1 = H1.T\n",
    "H2 = -1/(I*omega*mu_0)*mu_2_tens_inv*curl_r(E2).T\n",
    "H2 = H2.T\n",
    "\n",
    "display(Math('H_1 = ' + latex(H1)))\n",
    "display(Math('H_2 = ' + latex(H2)))\n",
    "\n",
    "\n",
    "H1 = Matrix([[H1[i].doit() for i in range(H1.cols)]])\n",
    "H2 = Matrix([[H2[i].doit() for i in range(H2.cols)]])\n",
    "\n",
    "display(Math('H_1 = ' + latex(H1.T)))\n",
    "display(Math('H_2 = ' + latex(H2.T)))\n",
    "\n",
    "a_y = Matrix([[0, 1, 0]])\n",
    "\n",
    "sigma_mat = Matrix([[sigma, 0, 0], [0, 0, 0], [0, 0, sigma]])\n",
    "display(Math('\\sigma = ' + latex(sigma_mat)))\n",
    "\n",
    "A = simplify((crossproduct(a_y, (H1-H2)) - (sigma_mat*E1.T).T).subs(y, 0)*exp(I*k*z))\n",
    "A = A.T\n",
    "display(Math('A = ' + latex(A)))\n",
    "if print_latex:\n",
    "    print('latex:\\n '+ latex(A))\n",
    "\n",
    "div_E1 = divergence_r(E1).doit()\n",
    "Ey1_rep = solve(div_E1, Ey1)[0]\n",
    "display(Math('E_{y1} = ' + latex(Ey1_rep)))\n",
    "\n",
    "div_E2 = divergence_r(E2).doit()\n",
    "Ey2_rep = solve(div_E2, Ey2)[0]\n",
    "display(Math('E_{y2} = ' + latex(Ey2_rep)))\n",
    "\n",
    "B = A.subs([(Ey1, Ey1_rep), (Ey2, Ey2_rep), (Ex2, Ex1), (Ez2, Ez1)])\n",
    "display(Math('B = ' + latex(B)))\n",
    "\n",
    "B_coeff = simplify(Matrix([[B[0].subs([(Ex1, 0), (Ez1, 1)]), B[0].subs([(Ex1, 1), (Ez1, 0)])], \n",
    "                  [B[2].subs([(Ex1, 0), (Ez1, 1)]), B[2].subs([(Ex1, 1), (Ez1, 0)])]]))\n",
    "\n",
    "display(Math('B_\\\\text{coeff} = ' + latex(B_coeff)))\n",
    "if print_latex:\n",
    "    print('latex:\\n '+ latex(B_coeff))\n",
    "\n",
    "AK1 = curl_r((mu_1_tens_inv*curl_r(E1).T).T).T - omega**2*mu_0*eps_0*eps_1*E1.T\n",
    "AK1 = AK1.T\n",
    "AK1 = AK1.subs([(Ey1, Ey1_rep)])/exp(-I*k*z-alpha_1*y)   \n",
    "AK1 = Matrix([[AK1[i].doit().simplify() for i in range(AK1.cols)]])\n",
    "display(Math('AK1 = ' + latex(AK1.T)))\n",
    "if print_latex:\n",
    "    print('latex:\\n '+ latex(AK1.T))\n",
    "\n",
    "AK2 = curl_r((mu_2_tens_inv*curl_r(E2).T).T).T - omega**2*mu_0*eps_0*eps_2*E2.T\n",
    "AK2 = AK2.T\n",
    "AK2 = AK2.subs([(Ey2, Ey2_rep)])/exp(-I*k*z+alpha_2*y)   \n",
    "AK2 = Matrix([[AK2[i].doit().simplify() for i in range(AK2.cols)]])\n",
    "display(Math('AK2 = ' + latex(AK2.T)))\n",
    "if print_latex:\n",
    "    print('latex:\\n '+ latex(AK2.T))\n",
    "\n",
    "\n",
    "alpha_1_rep = sqrt(solve(AK1[0], alpha_1**2)[0])\n",
    "display(Math('\\\\alpha_1 = ' + latex(alpha_1_rep)))\n",
    "if print_latex:\n",
    "    print('latex:\\n '+ latex(alpha_1_rep))\n",
    "alpha_2_rep = sqrt(solve(AK2[0], alpha_2**2)[0])\n",
    "display(Math('\\\\alpha_2 = ' + latex(alpha_2_rep)))\n",
    "if print_latex:\n",
    "    print('latex:\\n '+ latex(alpha_2_rep))\n",
    "\n",
    "\n",
    "EQ = B_coeff[0,1].subs([(alpha_1, alpha_1_rep), (alpha_2, alpha_2_rep)]).simplify()\n",
    "display(Math('EQ = ' + latex(EQ)))\n",
    "if print_latex:\n",
    "    print('latex:\\n '+ latex(EQ))\n",
    "\n",
    "EQ_str = lambdastr(k, EQ).replace('\\\\', '').replace('{', '').replace('}', '')\n",
    "print('EQ_str = \\n', EQ_str)\n",
    "\n",
    "EQ_str = Misc.replace_whole_word(EQ_str, 'I', '1j')\n",
    "print('EQ_str = \\n', EQ_str)\n",
    "\n",
    "A_ = Wild('A_a')\n",
    "B_ = Wild('B_b')\n",
    "\n",
    "eq_arr_1 = B_coeff[0,1].match(A_*B_)[B_]\n",
    "eq_arr_2 = AK1[0].match(A_*B_)[B_]\n",
    "eq_arr_3 = AK2[0].match(A_*B_)[B_]\n",
    "print('equation array:')\n",
    "display(Math('Eq_1 : ' + latex(eq_arr_1)))\n",
    "display(Math('Eq_2 : ' + latex(eq_arr_2)))\n",
    "display(Math('Eq_3 : ' + latex(eq_arr_3)))\n",
    "\n",
    "eq_arr_1 = eq_arr_1.subs([(omega, k_0/sqrt(mu_0*eps_0)), (k, k*k_0), (alpha_1, alpha_1*k_0), (alpha_2, alpha_2*k_0), (sigma, sigma/sqrt(mu_0/eps_0))]).subs(k_0, 1).simplify()\n",
    "eq_arr_2 = eq_arr_2.subs([(omega, k_0/sqrt(mu_0*eps_0)), (k, k*k_0), (alpha_1, alpha_1*k_0), (alpha_2, alpha_2*k_0)]).subs(k_0, 1).simplify()\n",
    "eq_arr_3 = eq_arr_3.subs([(omega, k_0/sqrt(mu_0*eps_0)), (k, k*k_0), (alpha_1, alpha_1*k_0), (alpha_2, alpha_2*k_0)]).subs(k_0, 1).simplify()\n",
    "display(Math('Eq_1 : ' + latex(eq_arr_1)))\n",
    "display(Math('Eq_2 : ' + latex(eq_arr_2)))\n",
    "display(Math('Eq_3 : ' + latex(eq_arr_3)))\n",
    "if print_latex:\n",
    "    print('latex eq_arr_1:\\n '+ latex(eq_arr_1))\n",
    "    print('latex eq_arr_2:\\n '+ latex(eq_arr_2))\n",
    "    print('latex eq_arr_3:\\n '+ latex(eq_arr_3))\n",
    "\n",
    "\n",
    "eq_1_str = lambdastr(k, eq_arr_1).replace('\\\\', '').replace('{', '').replace('}', '')\n",
    "print('EQ_1_str = \\n', eq_1_str)\n",
    "eq_1_str = Misc.replace_whole_word(eq_1_str, 'I', '1j')\n",
    "print('eq_1_str = \\n', eq_1_str)\n",
    "\n",
    "eq_2_str = lambdastr(k, eq_arr_2).replace('\\\\', '').replace('{', '').replace('}', '')\n",
    "print('EQ_2_str = \\n', eq_2_str)\n",
    "\n",
    "eq_3_str = lambdastr(k, eq_arr_3).replace('\\\\', '').replace('{', '').replace('}', '')\n",
    "print('EQ_3_str = \\n', eq_3_str)\n",
    "\n",
    "##------------------------------\n",
    "print('-'*50)\n",
    "print('TM mode')\n",
    "\n",
    "alpha_1_rep = sqrt(solve(AK1[2], alpha_1**2)[0])\n",
    "display(Math('\\\\alpha_1 = ' + latex(alpha_1_rep)))\n",
    "if print_latex:\n",
    "    print('latex:\\n \\\\alpha_1 = '+ latex(alpha_1_rep))\n",
    "alpha_2_rep = sqrt(solve(AK2[2], alpha_2**2)[0])\n",
    "display(Math('\\\\alpha_2 = ' + latex(alpha_2_rep)))\n",
    "if print_latex:\n",
    "    print('latex:\\n \\\\alpha_2 = '+ latex(alpha_2_rep))\n",
    "\n",
    "EQ = B_coeff[1,0]\n",
    "display(Math('EQ = ' + latex(EQ)))\n",
    "EQ = EQ.subs([(alpha_1, alpha_1_rep), (alpha_2, alpha_2_rep)]).simplify()\n",
    "display(Math('EQ = ' + latex(EQ)))\n",
    "print('latex form: \\n', latex(EQ))\n",
    "\n",
    "EQ_str = lambdastr(k, EQ).replace('\\\\', '').replace('{', '').replace('}', '')\n",
    "print('EQ_str = \\n', EQ_str)\n",
    "\n",
    "EQ_str = Misc.replace_whole_word(EQ_str, 'I', '1j')\n",
    "print('EQ_str = \\n', EQ_str)\n",
    "\n",
    "K = Symbol('K')\n",
    "k0 = Symbol('k_0', real=True)\n",
    "EQ = (EQ.subs(omega, k0/sqrt(mu_0*eps_0)).subs(k, K*k0)).simplify()\n",
    "EQ = EQ.subs(abs(k0), k0).simplify()\n",
    "display(Math('EQ = ' + latex(EQ)))\n",
    "\n",
    "\n",
    "EQ_str = lambdastr(k, EQ).replace('\\\\', '').replace('{', '').replace('}', '')\n",
    "print('EQ_str = \\n', EQ_str)\n",
    "\n",
    "EQ_str = Misc.replace_whole_word(EQ_str, 'I', '1j')\n",
    "print('EQ_str = \\n', EQ_str)\n",
    "\n",
    "print('latex form: K=k/k_0\\n', latex(EQ))\n"
   ]
  },
  {
   "cell_type": "markdown",
   "metadata": {},
   "source": [
    "### Magnetically biased ferrite"
   ]
  },
  {
   "cell_type": "code",
   "execution_count": 2,
   "metadata": {
    "collapsed": false
   },
   "outputs": [
    {
     "data": {
      "text/latex": [
       "$$LHS = \\left[\\begin{matrix}B_{{0}} M_{{y}} \\gamma + i M_{{x}} \\omega + i M_{{y}} \\alpha \\omega & - B_{{0}} M_{{x}} \\gamma - i M_{{x}} \\alpha \\omega + i M_{{y}} \\omega & i M_{{z}} \\omega\\end{matrix}\\right]$$"
      ],
      "text/plain": [
       "<IPython.core.display.Math object>"
      ]
     },
     "metadata": {},
     "output_type": "display_data"
    },
    {
     "data": {
      "text/latex": [
       "$$RHS = \\left[\\begin{matrix}H_{{y}} M_{{s}} \\gamma \\mu_{0} & - H_{{x}} M_{{s}} \\gamma \\mu_{0} & 0\\end{matrix}\\right]$$"
      ],
      "text/plain": [
       "<IPython.core.display.Math object>"
      ]
     },
     "metadata": {},
     "output_type": "display_data"
    },
    {
     "data": {
      "text/latex": [
       "$$A = \\left[\\begin{matrix}i \\omega & B_{{0}} \\gamma + i \\alpha \\omega\\\\- B_{{0}} \\gamma - i \\alpha \\omega & i \\omega\\end{matrix}\\right]$$"
      ],
      "text/plain": [
       "<IPython.core.display.Math object>"
      ]
     },
     "metadata": {},
     "output_type": "display_data"
    },
    {
     "data": {
      "text/latex": [
       "$$b = \\left[\\begin{matrix}H_{{y}} M_{{s}} \\gamma \\mu_{0}\\\\- H_{{x}} M_{{s}} \\gamma \\mu_{0}\\end{matrix}\\right]$$"
      ],
      "text/plain": [
       "<IPython.core.display.Math object>"
      ]
     },
     "metadata": {},
     "output_type": "display_data"
    },
    {
     "data": {
      "text/latex": [
       "$$x = \\left[\\begin{matrix}- \\frac{H_{{x}} M_{{s}} \\gamma \\mu_{0} \\left(B_{{0}} \\gamma + i \\alpha \\omega\\right)}{\\omega^{2} - \\left(B_{{0}} \\gamma + i \\alpha \\omega\\right)^{2}} + H_{{y}} M_{{s}} \\gamma \\mu_{0} \\left(- \\frac{i}{\\omega} + \\frac{i \\left(- B_{{0}} \\gamma - i \\alpha \\omega\\right) \\left(B_{{0}} \\gamma + i \\alpha \\omega\\right)}{\\omega \\left(\\omega^{2} - \\left(B_{{0}} \\gamma + i \\alpha \\omega\\right)^{2}\\right)}\\right)\\\\\\frac{i H_{{x}} M_{{s}} \\gamma \\mu_{0} \\omega}{\\omega^{2} - \\left(B_{{0}} \\gamma + i \\alpha \\omega\\right)^{2}} + \\frac{H_{{y}} M_{{s}} \\gamma \\mu_{0} \\left(- B_{{0}} \\gamma - i \\alpha \\omega\\right)}{\\omega^{2} - \\left(B_{{0}} \\gamma + i \\alpha \\omega\\right)^{2}}\\end{matrix}\\right]$$"
      ],
      "text/plain": [
       "<IPython.core.display.Math object>"
      ]
     },
     "metadata": {},
     "output_type": "display_data"
    },
    {
     "data": {
      "text/latex": [
       "$$\\chi_{xx} = - \\frac{M_{{s}} \\gamma \\mu_{0} \\left(B_{{0}} \\gamma + i \\alpha \\omega\\right)}{\\omega^{2} - \\left(B_{{0}} \\gamma + i \\alpha \\omega\\right)^{2}}$$"
      ],
      "text/plain": [
       "<IPython.core.display.Math object>"
      ]
     },
     "metadata": {},
     "output_type": "display_data"
    },
    {
     "data": {
      "text/latex": [
       "$$\\chi_{xy} = - \\frac{i M_{{s}} \\gamma \\mu_{0} \\omega}{\\omega^{2} - \\left(B_{{0}} \\gamma + i \\alpha \\omega\\right)^{2}}$$"
      ],
      "text/plain": [
       "<IPython.core.display.Math object>"
      ]
     },
     "metadata": {},
     "output_type": "display_data"
    },
    {
     "data": {
      "text/latex": [
       "$$\\chi_{yx} = \\frac{i M_{{s}} \\gamma \\mu_{0} \\omega}{\\omega^{2} - \\left(B_{{0}} \\gamma + i \\alpha \\omega\\right)^{2}}$$"
      ],
      "text/plain": [
       "<IPython.core.display.Math object>"
      ]
     },
     "metadata": {},
     "output_type": "display_data"
    },
    {
     "data": {
      "text/latex": [
       "$$\\chi_{yy} = - \\frac{M_{{s}} \\gamma \\mu_{0} \\left(B_{{0}} \\gamma + i \\alpha \\omega\\right)}{\\omega^{2} - \\left(B_{{0}} \\gamma + i \\alpha \\omega\\right)^{2}}$$"
      ],
      "text/plain": [
       "<IPython.core.display.Math object>"
      ]
     },
     "metadata": {},
     "output_type": "display_data"
    },
    {
     "data": {
      "text/latex": [
       "$$\\omega_{0} = B_{{0}} \\gamma$$"
      ],
      "text/plain": [
       "<IPython.core.display.Math object>"
      ]
     },
     "metadata": {},
     "output_type": "display_data"
    },
    {
     "data": {
      "text/latex": [
       "$$\\omega_{m} = M_{{s}} \\gamma \\mu_{0}$$"
      ],
      "text/plain": [
       "<IPython.core.display.Math object>"
      ]
     },
     "metadata": {},
     "output_type": "display_data"
    },
    {
     "name": "stdout",
     "output_type": "stream",
     "text": [
      "--------------------\n"
     ]
    },
    {
     "data": {
      "text/latex": [
       "$$\\chi_{xx} = - \\frac{\\omega_{m} \\left(i \\alpha \\omega + \\omega_{0}\\right)}{\\omega^{2} - \\left(i \\alpha \\omega + \\omega_{0}\\right)^{2}}$$"
      ],
      "text/plain": [
       "<IPython.core.display.Math object>"
      ]
     },
     "metadata": {},
     "output_type": "display_data"
    },
    {
     "data": {
      "text/latex": [
       "$$\\chi_{xy} = - \\frac{i \\omega \\omega_{m}}{\\omega^{2} - \\left(i \\alpha \\omega + \\omega_{0}\\right)^{2}}$$"
      ],
      "text/plain": [
       "<IPython.core.display.Math object>"
      ]
     },
     "metadata": {},
     "output_type": "display_data"
    },
    {
     "data": {
      "text/latex": [
       "$$\\chi_{yx} = \\frac{i \\omega \\omega_{m}}{\\omega^{2} - \\left(i \\alpha \\omega + \\omega_{0}\\right)^{2}}$$"
      ],
      "text/plain": [
       "<IPython.core.display.Math object>"
      ]
     },
     "metadata": {},
     "output_type": "display_data"
    },
    {
     "data": {
      "text/latex": [
       "$$\\chi_{yy} = - \\frac{\\omega_{m} \\left(i \\alpha \\omega + \\omega_{0}\\right)}{\\omega^{2} - \\left(i \\alpha \\omega + \\omega_{0}\\right)^{2}}$$"
      ],
      "text/plain": [
       "<IPython.core.display.Math object>"
      ]
     },
     "metadata": {},
     "output_type": "display_data"
    },
    {
     "name": "stdout",
     "output_type": "stream",
     "text": [
      "------------------------------\n",
      "\n",
      "chi_xx_str: \n",
      " lambda omega,omega_0,omega_m,alpha: (-omega_m*(I*alpha*omega + omega_0)/(omega**2 - (I*alpha*omega + omega_0)**2))\n",
      "\n",
      "chi_xy_str: \n",
      " lambda omega,omega_0,omega_m,alpha: (-I*omega*omega_m/(omega**2 - (I*alpha*omega + omega_0)**2))\n",
      "---------- replacing special characters\n",
      "\n",
      "chi_xx_str: \n",
      " lambda omega,omega_0,omega_m,alpha: (-omega_m*(1j*alpha*omega + omega_0)/(omega**2 - (1j*alpha*omega + omega_0)**2))\n",
      "\n",
      "chi_xy_str: \n",
      " lambda omega,omega_0,omega_m,alpha: (-1j*omega*omega_m/(omega**2 - (1j*alpha*omega + omega_0)**2))\n",
      "--------------------\n"
     ]
    },
    {
     "data": {
      "text/latex": [
       "$$\\Re{\\chi_{xx}} = \\frac{\\omega_{0} \\omega_{m} \\left(\\alpha^{2} \\omega^{2} - \\omega^{2} + \\omega_{0}^{2}\\right)}{4 \\alpha^{2} \\omega^{2} \\omega_{0}^{2} + \\left(\\alpha^{2} \\omega^{2} + \\omega^{2} - \\omega_{0}^{2}\\right)^{2}}$$"
      ],
      "text/plain": [
       "<IPython.core.display.Math object>"
      ]
     },
     "metadata": {},
     "output_type": "display_data"
    },
    {
     "data": {
      "text/latex": [
       "$$\\Im{\\chi_{xx}} = - \\frac{\\alpha \\omega \\omega_{m} \\left(\\alpha^{2} \\omega^{2} + \\omega^{2} + \\omega_{0}^{2}\\right)}{4 \\alpha^{2} \\omega^{2} \\omega_{0}^{2} + \\left(\\alpha^{2} \\omega^{2} + \\omega^{2} - \\omega_{0}^{2}\\right)^{2}}$$"
      ],
      "text/plain": [
       "<IPython.core.display.Math object>"
      ]
     },
     "metadata": {},
     "output_type": "display_data"
    },
    {
     "data": {
      "text/latex": [
       "$$\\Re{\\chi_{xy}} = \\frac{2 \\alpha \\omega^{2} \\omega_{0} \\omega_{m}}{4 \\alpha^{2} \\omega^{2} \\omega_{0}^{2} + \\left(\\alpha^{2} \\omega^{2} + \\omega^{2} - \\omega_{0}^{2}\\right)^{2}}$$"
      ],
      "text/plain": [
       "<IPython.core.display.Math object>"
      ]
     },
     "metadata": {},
     "output_type": "display_data"
    },
    {
     "data": {
      "text/latex": [
       "$$\\Im{\\chi_{xy}} = - \\frac{\\omega \\omega_{m} \\left(\\alpha^{2} \\omega^{2} + \\omega^{2} - \\omega_{0}^{2}\\right)}{4 \\alpha^{2} \\omega^{2} \\omega_{0}^{2} + \\left(\\alpha^{2} \\omega^{2} + \\omega^{2} - \\omega_{0}^{2}\\right)^{2}}$$"
      ],
      "text/plain": [
       "<IPython.core.display.Math object>"
      ]
     },
     "metadata": {},
     "output_type": "display_data"
    },
    {
     "name": "stdout",
     "output_type": "stream",
     "text": [
      "\n",
      "chi_xx_r_str: \n",
      " lambda omega,omega_0,omega_m,alpha: (omega_0*omega_m*(alpha**2*omega**2 - omega**2 + omega_0**2)/(4*alpha**2*omega**2*omega_0**2 + (alpha**2*omega**2 + omega**2 - omega_0**2)**2))\n",
      "\n",
      "chi_xx_i_str: \n",
      " lambda omega,omega_0,omega_m,alpha: (-alpha*omega*omega_m*(alpha**2*omega**2 + omega**2 + omega_0**2)/(4*alpha**2*omega**2*omega_0**2 + (alpha**2*omega**2 + omega**2 - omega_0**2)**2))\n",
      "\n",
      "chi_xy_r_str: \n",
      " lambda omega,omega_0,omega_m,alpha: (2*alpha*omega**2*omega_0*omega_m/(4*alpha**2*omega**2*omega_0**2 + (alpha**2*omega**2 + omega**2 - omega_0**2)**2))\n",
      "\n",
      "chi_xy_i_str: \n",
      " lambda omega,omega_0,omega_m,alpha: (-omega*omega_m*(alpha**2*omega**2 + omega**2 - omega_0**2)/(4*alpha**2*omega**2*omega_0**2 + (alpha**2*omega**2 + omega**2 - omega_0**2)**2))\n"
     ]
    }
   ],
   "source": [
    "%reload_ext autoreload\n",
    "%autoreload\n",
    "\n",
    "from Electromagnetics.solidstate_sym import *\n",
    "\n",
    "FerriteModel_sym()"
   ]
  },
  {
   "cell_type": "markdown",
   "metadata": {},
   "source": [
    "### Numerical Simulations"
   ]
  },
  {
   "cell_type": "code",
   "execution_count": 111,
   "metadata": {
    "collapsed": false
   },
   "outputs": [
    {
     "name": "stdout",
     "output_type": "stream",
     "text": [
      "Populating the interactive namespace from numpy and matplotlib\n",
      "Gyromagnetic ratio =  (176085970800.0, 's^-1 T^-1', 3900.0)\n",
      "B_0 =  0.035682486677579124\n",
      "mu_0*M_s =  0.035682486677579124\n"
     ]
    },
    {
     "name": "stderr",
     "output_type": "stream",
     "text": [
      "WARNING: pylab import has clobbered these variables: ['f']\n",
      "`%matplotlib` prevents importing * from pylab and numpy\n"
     ]
    },
    {
     "data": {
      "image/png": "[encoded data removed]",
      "text/plain": [
       "<matplotlib.figure.Figure at 0x7fcdad3264a8>"
      ]
     },
     "metadata": {},
     "output_type": "display_data"
    },
    {
     "data": {
      "image/png": "[encoded data removed]",
      "text/plain": [
       "<matplotlib.figure.Figure at 0x7fcdad011e48>"
      ]
     },
     "metadata": {},
     "output_type": "display_data"
    },
    {
     "data": {
      "image/png": "[encoded data removed]",
      "text/plain": [
       "<matplotlib.figure.Figure at 0x7fcdad149a20>"
      ]
     },
     "metadata": {},
     "output_type": "display_data"
    },
    {
     "data": {
      "image/png": "[encoded data removed]",
      "text/plain": [
       "<matplotlib.figure.Figure at 0x7fcdad33d668>"
      ]
     },
     "metadata": {},
     "output_type": "display_data"
    }
   ],
   "source": [
    "%reload_ext autoreload\n",
    "%autoreload\n",
    "%pylab inline\n",
    "\n",
    "from scipy import constants\n",
    "from Electromagnetics.solidstate import *\n",
    "import numpy as np\n",
    "import math\n",
    "\n",
    "omega_0 = 2.0*math.pi*1.0*constants.giga\n",
    "omega_m = 2.0*math.pi*1.0*constants.giga\n",
    "alpha = 0.05\n",
    "fm = FerriteMedia(omega_0=omega_0, alpha=alpha, omega_m=omega_m)\n",
    "\n",
    "N = 200\n",
    "omega = np.linspace(0.1*omega_0, 10.0*omega_0, N)\n",
    "\n",
    "#mu_rh, mu_lh = fm.getRLHandedRelativePermeabilities(omega)\n",
    "mu_xx, mu_xy = fm.getRelativePermeabilities(omega)\n",
    "\n",
    "figsize(10, 6)\n",
    "plot(omega/omega_0, np.real(mu_xx), 'b', omega/omega_0, np.imag(mu_xx), 'b--')\n",
    "plot(omega/omega_0, np.real(mu_xy), 'r', omega/omega_0, np.imag(mu_xy), 'r--')\n",
    "xlabel('$\\\\omega/\\\\omega_0$', fontsize=18)\n",
    "ylabel('$\\\\mu_{xx},$    $\\\\mu_{xy}$', fontsize=18)\n",
    "\n",
    "font = {'family' : 'serif', 'weight' : 'normal', 'size'   : 18}\n",
    "matplotlib.rc('font', **font)\n",
    "show()\n",
    "\n",
    "mu_rh = mu_xx + 1.0j*mu_xy\n",
    "mu_lh = mu_xx - 1.0j*mu_xy\n",
    "\n",
    "figsize(10, 6)\n",
    "plot(omega/omega_0, np.real(mu_rh), 'b', omega/omega_0, np.imag(mu_rh), 'b--')\n",
    "plot(omega/omega_0, np.real(mu_lh), 'r', omega/omega_0, np.imag(mu_lh), 'r--')\n",
    "xlabel('$\\\\omega/\\\\omega_0$', fontsize=18)\n",
    "ylabel('$\\\\mu_{RH},$    $\\\\mu_{LH}$', fontsize=18)\n",
    "show()\n",
    "\n",
    "N = 200\n",
    "f0, f1 = 10.0, 100.0\n",
    "w0 = f0*constants.tera*2.0*math.pi\n",
    "w1 = f1*constants.tera*2.0*math.pi\n",
    "omega = np.linspace(w0, w1, N)\n",
    "\n",
    "#mu_rh, mu_lh = fm.getRLHandedRelativePermeabilities(omega)\n",
    "mu_xx, mu_xy = fm.getRelativePermeabilities(omega)\n",
    "\n",
    "f = omega/(2.0*np.pi)/constants.tera\n",
    "\n",
    "figsize(8, 6)\n",
    "plot(f, np.real(mu_xx)-1, 'b', f, np.imag(mu_xx), 'b--')\n",
    "plot(f, np.real(mu_xy), 'r', f, np.imag(mu_xy), 'r--')\n",
    "xlabel('$\\\\omega/\\\\omega_0$', fontsize=18)\n",
    "ylabel('$\\\\mu_{xx},$    $\\\\mu_{xy}$', fontsize=18)\n",
    "\n",
    "font = {'family' : 'serif', 'weight' : 'normal', 'size'   : 18}\n",
    "matplotlib.rc('font', **font)\n",
    "show()\n",
    "\n",
    "mu_rh = mu_xx + 1.0j*mu_xy\n",
    "mu_lh = mu_xx - 1.0j*mu_xy\n",
    "\n",
    "plot(f, np.real(mu_rh)-1, 'b', f, np.imag(mu_rh), 'b--', linewidth=2.0, label='RH')\n",
    "plot(f, np.real(mu_lh)-1, 'r', f, np.imag(mu_lh), 'r--', linewidth=2.0, label='LH')\n",
    "xlabel(r'$f$ (THz)', fontsize=18)\n",
    "ylabel(r'$\\Delta\\mu_{RH},$    $\\Delta\\mu_{LH}$', fontsize=18)\n",
    "show()\n"
   ]
  },
  {
   "cell_type": "code",
   "execution_count": 6,
   "metadata": {
    "collapsed": false
   },
   "outputs": [
    {
     "name": "stdout",
     "output_type": "stream",
     "text": [
      "Modules to reload:\n",
      "\n",
      "\n",
      "Modules to skip:\n",
      "\n",
      "Populating the interactive namespace from numpy and matplotlib\n",
      "Gyromagnetic ratio =  (176085970800.0, 's^-1 T^-1', 3900.0)\n",
      "B_0 =  0.003568248667757912\n",
      "mu_0*M_s =  0.003568248667757912\n",
      "omega: \n",
      " [ 285.88493148  285.96386597  286.04280045  286.12173494  286.20066943\n",
      "  286.27960392  286.35853841  286.4374729   286.51640739  286.59534188\n",
      "  286.67427636  286.75321085  286.83214534  286.91107983  286.99001432\n",
      "  287.06894881  287.1478833   287.22681779  287.30575227  287.38468676\n",
      "  287.46362125  287.54255574  287.62149023  287.70042472  287.77935921\n",
      "  287.8582937   287.93722819  288.01616267  288.09509716  288.17403165\n",
      "  288.25296614  288.33190063  288.41083512  288.48976961  288.5687041\n",
      "  288.64763858  288.72657307  288.80550756  288.88444205  288.96337654\n",
      "  289.04231103  289.12124552  289.20018001  289.27911449  289.35804898\n",
      "  289.43698347  289.51591796  289.59485245  289.67378694  289.75272143\n",
      "  289.83165592  289.9105904   289.98952489  290.06845938  290.14739387\n",
      "  290.22632836  290.30526285  290.38419734  290.46313183  290.54206631\n",
      "  290.6210008   290.69993529  290.77886978  290.85780427  290.93673876\n",
      "  291.01567325  291.09460774  291.17354223  291.25247671  291.3314112\n",
      "  291.41034569  291.48928018  291.56821467  291.64714916  291.72608365\n",
      "  291.80501814  291.88395262  291.96288711  292.0418216   292.12075609\n",
      "  292.19969058  292.27862507  292.35755956  292.43649405  292.51542853\n",
      "  292.59436302  292.67329751  292.752232    292.83116649  292.91010098\n",
      "  292.98903547  293.06796996  293.14690444  293.22583893  293.30477342\n",
      "  293.38370791  293.4626424   293.54157689  293.62051138  293.69944587\n",
      "  293.77838036  293.85731484  293.93624933  294.01518382  294.09411831\n",
      "  294.1730528   294.25198729  294.33092178  294.40985627  294.48879075\n",
      "  294.56772524  294.64665973  294.72559422  294.80452871  294.8834632\n",
      "  294.96239769  295.04133218  295.12026666  295.19920115  295.27813564\n",
      "  295.35707013  295.43600462  295.51493911  295.5938736   295.67280809\n",
      "  295.75174257  295.83067706  295.90961155  295.98854604  296.06748053\n",
      "  296.14641502  296.22534951  296.304284    296.38321848  296.46215297\n",
      "  296.54108746  296.62002195  296.69895644  296.77789093  296.85682542\n",
      "  296.93575991  297.0146944   297.09362888  297.17256337  297.25149786\n",
      "  297.33043235  297.40936684  297.48830133  297.56723582  297.64617031\n",
      "  297.72510479  297.80403928  297.88297377  297.96190826  298.04084275\n",
      "  298.11977724  298.19871173  298.27764622  298.3565807   298.43551519\n",
      "  298.51444968  298.59338417  298.67231866  298.75125315  298.83018764\n",
      "  298.90912213  298.98805661  299.0669911   299.14592559  299.22486008\n",
      "  299.30379457  299.38272906  299.46166355  299.54059804  299.61953253\n",
      "  299.69846701  299.7774015   299.85633599  299.93527048  300.01420497\n",
      "  300.09313946  300.17207395  300.25100844  300.32994292  300.40887741\n",
      "  300.4878119   300.56674639  300.64568088  300.72461537  300.80354986\n",
      "  300.88248435  300.96141883  301.04035332  301.11928781  301.1982223\n",
      "  301.27715679  301.35609128  301.43502577  301.51396026  301.59289474]\n",
      "150    freq:  4.73844221106e+13\n",
      "100    freq:  4.6756281407e+13\n",
      "50"
     ]
    },
    {
     "name": "stderr",
     "output_type": "stream",
     "text": [
      "WARNING: pylab import has clobbered these variables: ['roots', 'f']\n",
      "`%matplotlib` prevents importing * from pylab and numpy\n",
      "/usr/local/lib/python3.4/dist-packages/matplotlib/scale.py:101: RuntimeWarning: invalid value encountered in less_equal\n",
      "  a[a <= 0.0] = 1e-300\n"
     ]
    },
    {
     "name": "stdout",
     "output_type": "stream",
     "text": [
      "    freq:  4.61281407035e+13\n",
      "0    freq:  4.55e+13\n",
      "f_m: 46.7311557789  f_p: 46.6683417085 df: -0.0628140703518\n"
     ]
    },
    {
     "data": {
      "image/png": "[encoded data removed]",
      "text/plain": [
       "<matplotlib.figure.Figure at 0x7f46c1112e10>"
      ]
     },
     "metadata": {},
     "output_type": "display_data"
    },
    {
     "data": {
      "image/png": "[encoded data removed]",
      "text/plain": [
       "<matplotlib.figure.Figure at 0x7f46c11b0e10>"
      ]
     },
     "metadata": {},
     "output_type": "display_data"
    },
    {
     "data": {
      "image/png": "[encoded data removed]",
      "text/plain": [
       "<matplotlib.figure.Figure at 0x7f46c15eb940>"
      ]
     },
     "metadata": {},
     "output_type": "display_data"
    },
    {
     "data": {
      "image/png": "[encoded data removed]",
      "text/plain": [
       "<matplotlib.figure.Figure at 0x7f46c136ee10>"
      ]
     },
     "metadata": {},
     "output_type": "display_data"
    },
    {
     "data": {
      "image/png": "[encoded data removed]",
      "text/plain": [
       "<matplotlib.figure.Figure at 0x7f46c1172780>"
      ]
     },
     "metadata": {},
     "output_type": "display_data"
    },
    {
     "data": {
      "image/png": "[encoded data removed]",
      "text/plain": [
       "<matplotlib.figure.Figure at 0x7f46f8779160>"
      ]
     },
     "metadata": {},
     "output_type": "display_data"
    },
    {
     "data": {
      "image/png": "[encoded data removed]",
      "text/plain": [
       "<matplotlib.figure.Figure at 0x7f46c1159cc0>"
      ]
     },
     "metadata": {},
     "output_type": "display_data"
    }
   ],
   "source": [
    "%reload_ext autoreload\n",
    "%autoreload\n",
    "%aimport\n",
    "%pylab inline\n",
    "\n",
    "from scipy import constants\n",
    "from Electromagnetics.solidstate import *\n",
    "import numpy as np\n",
    "import math\n",
    "\n",
    "from Electromagnetics.graphene import GrapheneOnFerriteSubstrate, plasmonDispersion_normalized, \\\n",
    "    plasmonDispersion_TE_normalized, GrapheneOnFerriteSubstrateSuperstrate\n",
    "import matplotlib\n",
    "\n",
    "vbose = False\n",
    "\n",
    "f = 1.0*constants.tera\n",
    "mu_c = 0.1*constants.eV\n",
    "tau = 0.2*constants.pico\n",
    "T = 300.001\n",
    "eps_r1, mu_r1 = 10.0, 1.0\n",
    "eps_r2 = 10.0\n",
    "\n",
    "## _f_ :ferrite\n",
    "omega_f_0 = 2.0*math.pi*0.1*constants.giga   #2.0*math.pi*50.0*constants.giga\n",
    "omega_f_m = 2.0*math.pi*0.1*constants.giga   #2.0*math.pi*10.0*constants.giga\n",
    "alpha_f = 0.05#0.05\n",
    "fm = FerriteMedia(omega_0=omega_f_0, alpha=alpha_f, omega_m=omega_f_m)\n",
    "\n",
    "grf = GrapheneOnFerriteSubstrateSuperstrate(fm)\n",
    "grf.setFrequency(f)\n",
    "grf.setTopMaterialParameters(eps_r1, mu_r1)\n",
    "grf.setButtomMaterialParameters(eps_r2)\n",
    "grf.setGrapheneSheetParameters( mu_c, tau, T)\n",
    "\n",
    "f0, f1 = 45.5, 48.0\n",
    "w0 = f0*constants.tera*2.0*math.pi\n",
    "w1 = f1*constants.tera*2.0*math.pi\n",
    "N = 200\n",
    "grf.vbose = False\n",
    "#omega = grf.findTEmodeOverFrequencyRange(w0, w1, N)\n",
    "omega = np.linspace(w0, w1, N)\n",
    "k_k0_plas_arr = plasmonDispersion_TE_normalized(mu_c=mu_c, omega=omega, tau=tau, T=T, \n",
    "                    eps_r1=eps_r1, mu_r1=mu_r1, eps_r2=eps_r2, mu_r2=1.0, cond='Kubo')\n",
    "\n",
    "print('omega: \\n', omega/constants.tera)\n",
    "k_surf_p = np.zeros(len(omega), dtype=complex)\n",
    "k_surf_m = np.zeros(len(omega), dtype=complex)\n",
    "alpha_1_p = np.zeros(len(omega), dtype=complex)\n",
    "alpha_2_p = np.zeros(len(omega), dtype=complex)\n",
    "alpha_1_m = np.zeros(len(omega), dtype=complex)\n",
    "alpha_2_m = np.zeros(len(omega), dtype=complex)\n",
    "stop_p, stop_m = False, False\n",
    "\n",
    "for i in range(len(omega)-1, -1, -1):\n",
    "    f = omega[i]/(2.0*math.pi)\n",
    "    grf.setFrequency(f)\n",
    "    k0 = 2.0*math.pi*f/constants.c\n",
    "    #print('k0 = ', k0)\n",
    "    if vbose:\n",
    "        print(i, \"   freq: \",f)\n",
    "    elif i%50==0:\n",
    "        print(i, \"   freq: \",f)\n",
    "    \n",
    "    mu_xx, mu_xy = fm.getRelativePermeabilities(omega=np.array([2.0*np.pi*f]))\n",
    "    if vbose:\n",
    "        print('mu_xx: ', mu_xx, ' mu_xy: ', mu_xy)\n",
    "    mu_xx = np.real(mu_xx[0])\n",
    "\n",
    "    k_k0_plas_ = k_k0_plas_arr[i]\n",
    "    if vbose:\n",
    "        print('k_k0_plas_ : ', k_k0_plas_ )\n",
    "\n",
    "\n",
    "    if not stop_p:\n",
    "        k_k0_init = k_k0_plas_\n",
    "        if i<len(omega)-1:\n",
    "            k_k0_init = k_surf_p[i+1]\n",
    "        if  k_k0_init == 0.0:\n",
    "            k_k0_init = k_k0_plas_\n",
    "\n",
    "        res = grf.solveDispersion_alpha_k(f, k_k0_init=+k_k0_init, n_roots=2, n_max_iter=200, tol_y_rel=None, tol_y_abs=1.0e-10, solver='muller')\n",
    "        if vbose:\n",
    "            print('res: \\n', res)\n",
    "        if res[0]<=0.0 or res[2]<=0.0:\n",
    "            stop_p = True\n",
    "        roots = np.array([res[4]+1j*res[5]])\n",
    "        alpha_1_p[i] = (res[0]+1j*res[1])*(res[0]>0.0)\n",
    "        alpha_2_p[i] = (res[2]+1j*res[3])*(res[2]>0.0)\n",
    "        \n",
    "        #roots = np.array(res[0])\n",
    "        if vbose:\n",
    "            print('roots: \\n', roots)\n",
    "        a_ = +1.0\n",
    "        roots_surface = (roots*((np.real(a_*roots)>0.999)*(np.imag(a_*roots)<0.0)*(np.abs(roots)<10.0)))\n",
    "        roots_surface = np.ma.masked_equal(roots_surface, 0.0).compressed()\n",
    "        if len(roots_surface>0):\n",
    "            k_surf_p[i] = roots_surface[0]\n",
    "        if vbose:\n",
    "            print('roots_surface+: \\n', roots_surface)\n",
    "    \n",
    "    if not stop_m:\n",
    "        k_k0_init = -k_k0_plas_\n",
    "        if i<len(omega)-1:\n",
    "            k_k0_init = k_surf_m[i+1]\n",
    "        if  k_k0_init == 0.0:\n",
    "            k_k0_init = -k_k0_plas_\n",
    "\n",
    "        res = grf.solveDispersion_alpha_k(f, k_k0_init=k_k0_init, n_roots=2, n_max_iter=200, tol_y_rel=None, tol_y_abs=1.0e-10, solver='muller')\n",
    "        if vbose:\n",
    "            print('res: \\n', res)\n",
    "        if res[0]<=0.0 or res[2]<=0.0:\n",
    "            stop_m = True\n",
    "        roots = np.array([res[4]+1j*res[5]])\n",
    "        alpha_1_m[i] = (res[0]+1j*res[1])*(res[0]>0.0)\n",
    "        alpha_2_m[i] = (res[2]+1j*res[3])*(res[2]>0.0)\n",
    "\n",
    "        #roots = np.array(res[0])\n",
    "        a_ = -1.0\n",
    "        roots_surface = (roots*((np.real(a_*roots)>0.999)*(np.imag(a_*roots)<0.0)*(np.abs(roots)<10.0)))\n",
    "        roots_surface = np.ma.masked_equal(roots_surface, 0.0).compressed()\n",
    "        if len(roots_surface>0):\n",
    "            k_surf_m[i] = roots_surface[0]\n",
    "        if vbose:\n",
    "            print('roots_surface-: \\n', roots_surface)\n",
    "    \n",
    "#print('k_surf: ', k_surf)\n",
    "\n",
    "import os\n",
    "cwd = os.getcwd()\n",
    "dir_name = os.path.join(cwd, 'other', 'graphene-ferrite')\n",
    "file_ext = '.eps'\n",
    "if not os.path.exists(dir_name):\n",
    "    os.makedirs(dir_name)\n",
    "\n",
    "np.savez(os.path.join(dir_name, 'arrays.npz'), f0=f0, f1=f1, mu_c=mu_c, T=T, tau=tau, eps_r1=eps_r1, eps_r2=eps_r2, \\\n",
    "                        omega_f_0=omega_f_0, omega_f_m=omega_f_m, alpha_f=alpha_f, N=N, \\\n",
    "                        omega=omega, \\\n",
    "                        k_surf_p=k_surf_p, k_surf_m=k_surf_m,\\\n",
    "                        alpha_1_p=alpha_1_p, alpha_2_p=alpha_2_p, alpha_1_m=alpha_1_m, alpha_2_m=alpha_2_m)\n",
    "    \n",
    "    \n",
    "mask_p = np.real(alpha_2_p)>0.0\n",
    "mask_m = np.real(alpha_2_m)>0.0\n",
    "\n",
    "k_surf_p = np.ma.masked_equal(k_surf_p*mask_p, 0)\n",
    "k_surf_m = np.ma.masked_equal(k_surf_m*mask_m, 0)\n",
    "alpha_1_p = np.ma.masked_equal(alpha_1_p,0)\n",
    "alpha_2_p = np.ma.masked_equal(alpha_2_p,0)\n",
    "alpha_1_m = np.ma.masked_equal(alpha_1_m,0)\n",
    "alpha_2_m = np.ma.masked_equal(alpha_2_m,0)\n",
    "\n",
    "f_p = omega[np.argmax(mask_p)]/(2.0*np.pi)/constants.tera\n",
    "f_m = omega[np.argmax(mask_m)]/(2.0*np.pi)/constants.tera\n",
    "\n",
    "print('f_m:', f_m, ' f_p:', f_p, 'df:',(f_p-f_m))\n",
    "\n",
    "#loc='best'\n",
    "loc='upper left'\n",
    "rec_color = (0.8, 1.0, 0.8)\n",
    "rec_alpha = 1.0\n",
    "\n",
    "figsize(8, 5)\n",
    "k_0 = omega*sqrt(constants.mu_0*constants.epsilon_0)\n",
    "\n",
    "f = omega/(2.0*math.pi)\n",
    "f /= constants.tera\n",
    "\n",
    "plot(f, np.real(k_surf_p), 'r', linewidth=2, label='forward')\n",
    "plot(f, -np.real(k_surf_m), 'b', linewidth=2, label='backward')\n",
    "xlabel('$f$ (THz)', fontsize=18)\n",
    "ylabel('$\\\\Re(k_z/k_0)$', fontsize=18)\n",
    "yscale('log')\n",
    "legend(loc=loc, fontsize=14, frameon=False)\n",
    "#gca().yaxis.grid(True)\n",
    "xlim([f0, f1])\n",
    "#axvline(f_p, linestyle='--', color='k', linewidth=2)\n",
    "#axvline(f_m, linestyle='--', color='k', linewidth=2)\n",
    "y0, y1 = gca().get_ylim()\n",
    "gca().add_patch(Rectangle((f_p, y0), width=f_m-f_p, height=y1-y0, color=rec_color, fill=True, alpha=rec_alpha))\n",
    "\n",
    "font = {'family' : 'serif', 'weight' : 'normal', 'size'   : 18}\n",
    "matplotlib.rc('font', **font)\n",
    "\n",
    "ax = gca()\n",
    "#ax.ticklabel_format(axis='y', useOffset=False)\n",
    "\n",
    "file_name = os.path.join(dir_name, 'k-k0-re'+file_ext)\n",
    "savefig(file_name, bbox_inches='tight', pad_inches=0.5)\n",
    "\n",
    "show()\n",
    "\n",
    "plot(f, -np.imag(k_surf_p), 'r', linewidth=2, label='forward')\n",
    "plot(f, np.imag(k_surf_m), 'b', linewidth=2, label='backward')\n",
    "xlabel('$f$ (THz)', fontsize=18)\n",
    "ylabel('$\\\\Im(k_z/k_0)$', fontsize=18)\n",
    "yscale('log')\n",
    "legend(loc=loc, fontsize=14, frameon=False)\n",
    "#gca().yaxis.grid(True)\n",
    "xlim([f0, f1])\n",
    "#axvline(f_p, linestyle='--', color='k', linewidth=2)\n",
    "#axvline(f_m, linestyle='--', color='k', linewidth=2)\n",
    "y0, y1 = gca().get_ylim()\n",
    "gca().add_patch(Rectangle((f_p, y0), width=f_m-f_p, height=y1-y0, color=rec_color, fill=True, alpha=rec_alpha))\n",
    "\n",
    "font = {'family' : 'serif', 'weight' : 'normal', 'size'   : 18}\n",
    "matplotlib.rc('font', **font)\n",
    "\n",
    "ax = gca()\n",
    "#ax.ticklabel_format(axis='y', useOffset=False)\n",
    "\n",
    "file_name = os.path.join(dir_name, 'k-k0-im'+file_ext)\n",
    "savefig(file_name, bbox_inches='tight', pad_inches=0.5)\n",
    "\n",
    "show()\n",
    "\n",
    "#plot(f, np.real(alpha_1_p), 'r-.', linewidth=2, label='forward')\n",
    "#plot(f, np.real(alpha_1_m), 'b-.', linewidth=2, label='backward')\n",
    "plot(f, np.real(alpha_2_p), 'r', linewidth=2, label='forward')\n",
    "plot(f, np.real(alpha_2_m), 'b', linewidth=2, label='backward')\n",
    "xlabel('$f$ (THz)', fontsize=18)\n",
    "ylabel('$\\\\Re(\\\\alpha/k_0)$', fontsize=18)\n",
    "yscale('log')\n",
    "legend(loc=loc, fontsize=14, frameon=False)\n",
    "#gca().yaxis.grid(True)\n",
    "xlim([f0, f1])\n",
    "#axvline(f_p, linestyle='--', color='k', linewidth=2)\n",
    "#axvline(f_m, linestyle='--', color='k', linewidth=2)\n",
    "y0, y1 = gca().get_ylim()\n",
    "gca().add_patch(Rectangle((f_p, y0), width=f_m-f_p, height=y1-y0, color=rec_color, fill=True, alpha=rec_alpha))\n",
    "ylim([1.0e-6, y1])\n",
    "\n",
    "ax = gca()\n",
    "#ax.ticklabel_format(axis='y', useOffset=False)\n",
    "\n",
    "file_name = os.path.join(dir_name, 'alpha-k0'+file_ext)\n",
    "savefig(file_name, bbox_inches='tight', pad_inches=0.5)\n",
    "\n",
    "show()\n",
    "\n",
    "k_0 = omega/constants.c\n",
    "#plot(f, 1/(np.real(alpha_1_p)*k_0), 'r-.', linewidth=2, label='forward')\n",
    "#plot(f, 1/(np.real(alpha_1_m)*k_0), 'b-.', linewidth=2, label='backward')\n",
    "plot(f, 1/(np.real(alpha_2_p)*k_0), 'r', linewidth=2, label='forward')\n",
    "plot(f, 1/(np.real(alpha_2_m)*k_0), 'b', linewidth=2, label='backward')\n",
    "xlabel('$f$ (THz)', fontsize=18)\n",
    "ylabel('$\\\\delta_y$', fontsize=18)\n",
    "yscale('log')\n",
    "legend(loc=loc, fontsize=14, frameon=False)\n",
    "#gca().yaxis.grid(True)\n",
    "xlim([f0, f1])\n",
    "#axvline(f_p, linestyle='--', color='k', linewidth=2)\n",
    "#axvline(f_m, linestyle='--', color='k', linewidth=2)\n",
    "y0, y1 = gca().get_ylim()\n",
    "gca().add_patch(Rectangle((f_p, y0), width=f_m-f_p, height=y1-y0, color=rec_color, fill=True, alpha=rec_alpha))\n",
    "ylim([y0, 1.0])\n",
    "\n",
    "ax = gca()\n",
    "#ax.ticklabel_format(axis='y', useOffset=False)\n",
    "\n",
    "file_name = os.path.join(dir_name, 'delta-y'+file_ext)\n",
    "savefig(file_name, bbox_inches='tight', pad_inches=0.5)\n",
    "\n",
    "show()\n",
    "\n",
    "plot(f, -1.0/(np.imag(k_surf_p)*k_0)/(2.0*math.pi/(np.real(k_surf_p)*k_0)), 'r', linewidth=2, label='forward')\n",
    "plot(f, -1.0/(np.imag(k_surf_m)*k_0)/(2.0*math.pi/(np.real(k_surf_m)*k_0)), 'b', linewidth=2, label='backward')\n",
    "xlabel('$f$ (THz)', fontsize=18)\n",
    "ylabel('$\\\\zeta/\\\\lambda$', fontsize=18)\n",
    "yscale('log')\n",
    "legend(loc=loc, fontsize=14, frameon=False)\n",
    "#gca().yaxis.grid(True)\n",
    "xlim([f0, f1])\n",
    "#axvline(f_p, linestyle='--', color='k', linewidth=2)\n",
    "#axvline(f_m, linestyle='--', color='k', linewidth=2)\n",
    "y0, y1 = gca().get_ylim()\n",
    "gca().add_patch(Rectangle((f_p, y0), width=f_m-f_p, height=y1-y0, color=rec_color, fill=True, alpha=rec_alpha))\n",
    "\n",
    "ax = gca()\n",
    "#ax.ticklabel_format(axis='y', useOffset=False)\n",
    "\n",
    "file_name = os.path.join(dir_name, 'prop-length'+file_ext)\n",
    "savefig(file_name, bbox_inches='tight', pad_inches=0.5)\n",
    "\n",
    "show()\n",
    "\n",
    "plot(f, 20.0*math.log10(math.exp(1.0))*(-np.imag(k_surf_p)*k_0*constants.centi), 'r', linewidth=2, label='forward')\n",
    "plot(f, 20.0*math.log10(math.exp(1.0))*(np.imag(k_surf_m)*k_0*constants.centi), 'b', linewidth=2, label='backward')\n",
    "xlabel('$f$ (THz)', fontsize=18)\n",
    "ylabel('insertion loss (dB/cm)', fontsize=18)\n",
    "#yscale('log')\n",
    "legend(loc=loc, fontsize=14, frameon=False)\n",
    "#gca().yaxis.grid(True)\n",
    "xlim([f0, f1])\n",
    "#axvline(f_p, linestyle='--', color='k', linewidth=2)\n",
    "#axvline(f_m, linestyle='--', color='k', linewidth=2)\n",
    "y0, y1 = gca().get_ylim()\n",
    "gca().add_patch(Rectangle((f_p, y0), width=f_m-f_p, height=y1-y0, color=rec_color, fill=True, alpha=rec_alpha))\n",
    "\n",
    "ax = gca()\n",
    "ax.ticklabel_format(axis='y', useOffset=False)\n",
    "\n",
    "file_name = os.path.join(dir_name, 'insertion-loss'+file_ext)\n",
    "savefig(file_name, bbox_inches='tight', pad_inches=0.5)\n",
    "\n",
    "show()\n",
    "\n",
    "\n",
    "plot(f, 20.0*math.log10(math.exp(1.0))*((np.imag(k_surf_m)+np.imag(k_surf_p))*k_0*constants.centi), 'g', linewidth=2)\n",
    "\n",
    "xlabel('$f$ (THz)', fontsize=18)\n",
    "ylabel('isolation (dB/cm)', fontsize=18)\n",
    "#yscale('log')\n",
    "#legend(loc=loc, fontsize=14, frameon=False)\n",
    "#gca().yaxis.grid(True)\n",
    "xlim([f0, f1])\n",
    "#axvline(f_p, linestyle='--', color='k', linewidth=2)\n",
    "#axvline(f_m, linestyle='--', color='k', linewidth=2)\n",
    "y0, y1 = gca().get_ylim()\n",
    "gca().add_patch(Rectangle((f_p, y0), width=f_m-f_p, height=y1-y0, color=rec_color, fill=True, alpha=rec_alpha))\n",
    "\n",
    "ax = gca()\n",
    "ax.ticklabel_format(axis='y', useOffset=False)\n",
    "\n",
    "\n",
    "file_name = os.path.join(dir_name, 'isolation'+file_ext)\n",
    "savefig(file_name, bbox_inches='tight', pad_inches=0.5)\n",
    "\n",
    "show()\n"
   ]
  },
  {
   "cell_type": "markdown",
   "metadata": {
    "collapsed": true
   },
   "source": [
    "### Reading files"
   ]
  },
  {
   "cell_type": "code",
   "execution_count": 1,
   "metadata": {
    "collapsed": false
   },
   "outputs": [
    {
     "name": "stdout",
     "output_type": "stream",
     "text": [
      "Populating the interactive namespace from numpy and matplotlib\n"
     ]
    },
    {
     "data": {
      "image/png": "[encoded data removed]",
      "text/plain": [
       "<matplotlib.figure.Figure at 0x7fd85ccc7748>"
      ]
     },
     "metadata": {},
     "output_type": "display_data"
    },
    {
     "name": "stderr",
     "output_type": "stream",
     "text": [
      "/usr/local/lib/python3.4/dist-packages/matplotlib/scale.py:101: RuntimeWarning: invalid value encountered in less_equal\n",
      "  a[a <= 0.0] = 1e-300\n"
     ]
    },
    {
     "data": {
      "image/png": "[encoded data removed]",
      "text/plain": [
       "<matplotlib.figure.Figure at 0x7fd85ac0aa58>"
      ]
     },
     "metadata": {},
     "output_type": "display_data"
    },
    {
     "name": "stderr",
     "output_type": "stream",
     "text": [
      "/usr/local/lib/python3.4/dist-packages/matplotlib/scale.py:101: RuntimeWarning: invalid value encountered in less_equal\n",
      "  a[a <= 0.0] = 1e-300\n"
     ]
    },
    {
     "data": {
      "image/png": "[encoded data removed]",
      "text/plain": [
       "<matplotlib.figure.Figure at 0x7fd85a8d7470>"
      ]
     },
     "metadata": {},
     "output_type": "display_data"
    },
    {
     "name": "stderr",
     "output_type": "stream",
     "text": [
      "/usr/local/lib/python3.4/dist-packages/matplotlib/scale.py:101: RuntimeWarning: invalid value encountered in less_equal\n",
      "  a[a <= 0.0] = 1e-300\n"
     ]
    },
    {
     "data": {
      "image/png": "[encoded data removed]",
      "text/plain": [
       "<matplotlib.figure.Figure at 0x7fd85a942358>"
      ]
     },
     "metadata": {},
     "output_type": "display_data"
    }
   ],
   "source": [
    "%pylab inline\n",
    "\n",
    "from scipy import constants\n",
    "import numpy as np\n",
    "import math\n",
    "\n",
    "import os\n",
    "cwd = os.getcwd()\n",
    "dir_name = os.path.join(cwd, 'other', 'graphene-ferrite')\n",
    "file_ext = '.eps'\n",
    "if not os.path.exists(dir_name):\n",
    "    os.makedirs(dir_name)\n",
    "\n",
    "files_npz = []\n",
    "import os\n",
    "for file in os.listdir(dir_name):\n",
    "    if file.endswith(\".npz\"):\n",
    "        files_npz.append(file)\n",
    "\n",
    "files_npz = sorted(files_npz, reverse=False)\n",
    "n_file = len(files_npz)\n",
    "f_band = []\n",
    "colors = ['r', 'b', 'g']\n",
    "rec_colors = [(1.0, 0.8, 0.8), (0.8, 0.8, 1.0), (0.8, 1.0, 0.8)]\n",
    "\n",
    "## Re(kz)\n",
    "for ind, file in enumerate(files_npz):\n",
    "    file_B = np.load(os.path.join(dir_name, file))\n",
    "    f0 = file_B['f0']\n",
    "    f1 = file_B['f1']\n",
    "    omega = file_B['omega']\n",
    "    k_surf_p = file_B['k_surf_p']\n",
    "    k_surf_m = file_B['k_surf_m']\n",
    "    alpha_1_p = file_B['alpha_1_p']\n",
    "    alpha_2_p = file_B['alpha_2_p']\n",
    "    alpha_1_m = file_B['alpha_1_m']\n",
    "    alpha_2_m = file_B['alpha_2_m']\n",
    "\n",
    "    mask_p = np.real(alpha_2_p)>0.0\n",
    "    mask_m = np.real(alpha_2_m)>0.0\n",
    "\n",
    "    k_surf_p = np.ma.masked_equal(k_surf_p*mask_p, 0)\n",
    "    k_surf_m = np.ma.masked_equal(k_surf_m*mask_m, 0)\n",
    "    alpha_1_p = np.ma.masked_equal(alpha_1_p,0)\n",
    "    alpha_2_p = np.ma.masked_equal(alpha_2_p,0)\n",
    "    alpha_1_m = np.ma.masked_equal(alpha_1_m,0)\n",
    "    alpha_2_m = np.ma.masked_equal(alpha_2_m,0)\n",
    "\n",
    "    f_p = omega[np.argmax(mask_p)]/(2.0*np.pi)/constants.tera\n",
    "    f_m = omega[np.argmax(mask_m)]/(2.0*np.pi)/constants.tera\n",
    "\n",
    "    f_band.append([f_m, f_p])\n",
    "\n",
    "    #loc='best'\n",
    "    loc='upper left'\n",
    "\n",
    "    figsize(8, 5)\n",
    "    k_0 = omega*sqrt(constants.mu_0*constants.epsilon_0)\n",
    "\n",
    "    f = omega/(2.0*math.pi)\n",
    "    f /= constants.tera\n",
    "\n",
    "    plot(f, np.real(k_surf_p)+0.1*ind, colors[ind], linewidth=2, label='forward')\n",
    "    plot(f, -np.real(k_surf_m)+0.1*ind, colors[ind]+'--', linewidth=4, label='backward')\n",
    "    xlabel('$f$ (THz)', fontsize=18)\n",
    "    ylabel('$\\\\Re(k_z/k_0)$', fontsize=18)\n",
    "    #yscale('log')\n",
    "    #legend(loc=loc, fontsize=14, frameon=False)\n",
    "    #gca().yaxis.grid(True)\n",
    "    xlim([f0, f1])\n",
    "    axvline(f_p, linestyle='-.', color='k', linewidth=1)\n",
    "    axvline(f_m, linestyle='-.', color='k', linewidth=1)\n",
    "    ylim([2.0, 4.0])\n",
    "\n",
    "    ax = gca()\n",
    "    #ax.ticklabel_format(axis='y', useOffset=False)\n",
    "\n",
    "    font = {'family' : 'serif', 'weight' : 'normal', 'size'   : 18}\n",
    "    matplotlib.rc('font', **font)\n",
    "\n",
    "for ind, file in enumerate(files_npz):\n",
    "    [f_m, f_p] = f_band[ind]\n",
    "\n",
    "    rec_color = rec_colors[ind]\n",
    "    rec_alpha = 1.0\n",
    "\n",
    "    y0, y1 = gca().get_ylim()\n",
    "    dh = (np.log10(y1)-np.log10(y0))/n_file\n",
    "    y0_ = 10.0**(np.log10(y0) + dh*ind)\n",
    "    y1_ = 10.0**(np.log10(y0) + 0.9*dh*(ind+1))    \n",
    "    gca().add_patch(Rectangle((f_p, y0_), width=f_m-f_p, height=y1_-y0_, color=rec_color, fill=True, alpha=rec_alpha))\n",
    "\n",
    "file_name = os.path.join(dir_name, 'k-k0-re'+file_ext)\n",
    "savefig(file_name, bbox_inches='tight', pad_inches=0.5)\n",
    "\n",
    "show()\n",
    "\n",
    "\n",
    "\n",
    "## Im(kz)\n",
    "for ind, file in enumerate(files_npz):\n",
    "    file_B = np.load(os.path.join(dir_name, file))\n",
    "    f0 = file_B['f0']\n",
    "    f1 = file_B['f1']\n",
    "    omega = file_B['omega']\n",
    "    k_surf_p = file_B['k_surf_p']\n",
    "    k_surf_m = file_B['k_surf_m']\n",
    "    alpha_1_p = file_B['alpha_1_p']\n",
    "    alpha_2_p = file_B['alpha_2_p']\n",
    "    alpha_1_m = file_B['alpha_1_m']\n",
    "    alpha_2_m = file_B['alpha_2_m']\n",
    "\n",
    "    mask_p = np.real(alpha_2_p)>0.0\n",
    "    mask_m = np.real(alpha_2_m)>0.0\n",
    "\n",
    "    k_surf_p = np.ma.masked_equal(k_surf_p*mask_p, 0)\n",
    "    k_surf_m = np.ma.masked_equal(k_surf_m*mask_m, 0)\n",
    "    alpha_1_p = np.ma.masked_equal(alpha_1_p,0)\n",
    "    alpha_2_p = np.ma.masked_equal(alpha_2_p,0)\n",
    "    alpha_1_m = np.ma.masked_equal(alpha_1_m,0)\n",
    "    alpha_2_m = np.ma.masked_equal(alpha_2_m,0)\n",
    "\n",
    "    f_p = omega[np.argmax(mask_p)]/(2.0*np.pi)/constants.tera\n",
    "    f_m = omega[np.argmax(mask_m)]/(2.0*np.pi)/constants.tera\n",
    "\n",
    "    f_band.append([f_m, f_p])\n",
    "\n",
    "    #loc='best'\n",
    "    loc='upper left'\n",
    "\n",
    "    figsize(8, 5)\n",
    "    k_0 = omega*sqrt(constants.mu_0*constants.epsilon_0)\n",
    "\n",
    "    f = omega/(2.0*math.pi)\n",
    "    f /= constants.tera\n",
    "\n",
    "    plot(f, -np.imag(k_surf_p), colors[ind], linewidth=2, label='forward')\n",
    "    plot(f, np.imag(k_surf_m), colors[ind]+'--', linewidth=2, label='backward')\n",
    "    xlabel('$f$ (THz)', fontsize=18)\n",
    "    ylabel('$\\\\Im(k_z/k_0)$', fontsize=18)\n",
    "    yscale('log')\n",
    "    #legend(loc=loc, fontsize=14, frameon=False)\n",
    "    #gca().yaxis.grid(True)\n",
    "    xlim([f0, f1])\n",
    "    axvline(f_p, linestyle='-.', color='k', linewidth=1)\n",
    "    axvline(f_m, linestyle='-.', color='k', linewidth=1)\n",
    "    #ylim([1.0e-6, y1])\n",
    "\n",
    "    ax = gca()\n",
    "    #ax.ticklabel_format(axis='y', useOffset=False)\n",
    "\n",
    "    font = {'family' : 'serif', 'weight' : 'normal', 'size'   : 18}\n",
    "    matplotlib.rc('font', **font)\n",
    "\n",
    "for ind, file in enumerate(files_npz):\n",
    "    [f_m, f_p] = f_band[ind]\n",
    "\n",
    "    rec_color = rec_colors[ind]\n",
    "    rec_alpha = 1.0\n",
    "\n",
    "    y0, y1 = gca().get_ylim()\n",
    "    dh = (np.log10(y1)-np.log10(y0))/n_file\n",
    "    y0_ = 10.0**(np.log10(y0) + dh*ind)\n",
    "    y1_ = 10.0**(np.log10(y0) + 0.9*dh*(ind+1))    \n",
    "    gca().add_patch(Rectangle((f_p, y0_), width=f_m-f_p, height=y1_-y0_, color=rec_color, fill=True, alpha=rec_alpha))\n",
    "\n",
    "file_name = os.path.join(dir_name, 'k-k0-im'+file_ext)\n",
    "savefig(file_name, bbox_inches='tight', pad_inches=0.5)\n",
    "\n",
    "show()\n",
    "\n",
    "\n",
    "##alpha_p\n",
    "for ind, file in enumerate(files_npz):\n",
    "    file_B = np.load(os.path.join(dir_name, file))\n",
    "    f0 = file_B['f0']\n",
    "    f1 = file_B['f1']\n",
    "    omega = file_B['omega']\n",
    "    k_surf_p = file_B['k_surf_p']\n",
    "    k_surf_m = file_B['k_surf_m']\n",
    "    alpha_1_p = file_B['alpha_1_p']\n",
    "    alpha_2_p = file_B['alpha_2_p']\n",
    "    alpha_1_m = file_B['alpha_1_m']\n",
    "    alpha_2_m = file_B['alpha_2_m']\n",
    "\n",
    "    mask_p = np.real(alpha_2_p)>0.0\n",
    "    mask_m = np.real(alpha_2_m)>0.0\n",
    "\n",
    "    k_surf_p = np.ma.masked_equal(k_surf_p*mask_p, 0)\n",
    "    k_surf_m = np.ma.masked_equal(k_surf_m*mask_m, 0)\n",
    "    alpha_1_p = np.ma.masked_equal(alpha_1_p,0)\n",
    "    alpha_2_p = np.ma.masked_equal(alpha_2_p,0)\n",
    "    alpha_1_m = np.ma.masked_equal(alpha_1_m,0)\n",
    "    alpha_2_m = np.ma.masked_equal(alpha_2_m,0)\n",
    "\n",
    "    f_p = omega[np.argmax(mask_p)]/(2.0*np.pi)/constants.tera\n",
    "    f_m = omega[np.argmax(mask_m)]/(2.0*np.pi)/constants.tera\n",
    "\n",
    "    f_band.append([f_m, f_p])\n",
    "\n",
    "    #loc='best'\n",
    "    loc='upper left'\n",
    "\n",
    "    figsize(8, 5)\n",
    "    k_0 = omega*sqrt(constants.mu_0*constants.epsilon_0)\n",
    "\n",
    "    f = omega/(2.0*math.pi)\n",
    "    f /= constants.tera\n",
    "\n",
    "    #plot(f, np.real(alpha_1_p), 'r-.', linewidth=2, label='forward')\n",
    "    #plot(f, np.real(alpha_1_m), 'b-.', linewidth=2, label='backward')\n",
    "    plot(f, np.real(alpha_2_p), colors[ind], linewidth=2, label='forward')\n",
    "    plot(f, np.real(alpha_2_m), colors[ind]+'--', linewidth=2, label='backward')\n",
    "    xlabel('$f$ (THz)', fontsize=18)\n",
    "    ylabel('$\\\\Re(\\\\alpha/k_0)$', fontsize=18)\n",
    "    yscale('log')\n",
    "    #legend(loc=loc, fontsize=14, frameon=False)\n",
    "    #gca().yaxis.grid(True)\n",
    "    xlim([f0, f1])\n",
    "    axvline(f_p, linestyle='-.', color='k', linewidth=1)\n",
    "    axvline(f_m, linestyle='-.', color='k', linewidth=1)\n",
    "    y0, y1 = gca().get_ylim()\n",
    "    ylim([1.0e-6, y1])\n",
    "\n",
    "    ax = gca()\n",
    "    #ax.ticklabel_format(axis='y', useOffset=False)\n",
    "\n",
    "    font = {'family' : 'serif', 'weight' : 'normal', 'size'   : 18}\n",
    "    matplotlib.rc('font', **font)\n",
    "\n",
    "for ind, file in enumerate(files_npz):\n",
    "    [f_m, f_p] = f_band[ind]\n",
    "\n",
    "    rec_color = rec_colors[ind]\n",
    "    rec_alpha = 1.0\n",
    "\n",
    "    y0, y1 = gca().get_ylim()\n",
    "    dh = (np.log10(y1)-np.log10(y0))/n_file\n",
    "    y0_ = 10.0**(np.log10(y0) + dh*ind)\n",
    "    y1_ = 10.0**(np.log10(y0) + 0.9*dh*(ind+1))    \n",
    "    gca().add_patch(Rectangle((f_p, y0_), width=f_m-f_p, height=y1_-y0_, color=rec_color, fill=True, alpha=rec_alpha))\n",
    "\n",
    "file_name = os.path.join(dir_name, 'alpha-k0'+file_ext)\n",
    "savefig(file_name, bbox_inches='tight', pad_inches=0.5)\n",
    "    \n",
    "show()\n",
    "\n",
    "\n",
    "\n",
    "\n",
    "##zeta propagation length\n",
    "for ind, file in enumerate(files_npz):\n",
    "    file_B = np.load(os.path.join(dir_name, file))\n",
    "    f0 = file_B['f0']\n",
    "    f1 = file_B['f1']\n",
    "    omega = file_B['omega']\n",
    "    k_surf_p = file_B['k_surf_p']\n",
    "    k_surf_m = file_B['k_surf_m']\n",
    "    alpha_1_p = file_B['alpha_1_p']\n",
    "    alpha_2_p = file_B['alpha_2_p']\n",
    "    alpha_1_m = file_B['alpha_1_m']\n",
    "    alpha_2_m = file_B['alpha_2_m']\n",
    "\n",
    "    mask_p = np.real(alpha_2_p)>0.0\n",
    "    mask_m = np.real(alpha_2_m)>0.0\n",
    "\n",
    "    k_surf_p = np.ma.masked_equal(k_surf_p*mask_p, 0)\n",
    "    k_surf_m = np.ma.masked_equal(k_surf_m*mask_m, 0)\n",
    "    alpha_1_p = np.ma.masked_equal(alpha_1_p,0)\n",
    "    alpha_2_p = np.ma.masked_equal(alpha_2_p,0)\n",
    "    alpha_1_m = np.ma.masked_equal(alpha_1_m,0)\n",
    "    alpha_2_m = np.ma.masked_equal(alpha_2_m,0)\n",
    "\n",
    "    f_p = omega[np.argmax(mask_p)]/(2.0*np.pi)/constants.tera\n",
    "    f_m = omega[np.argmax(mask_m)]/(2.0*np.pi)/constants.tera\n",
    "\n",
    "    f_band.append([f_m, f_p])\n",
    "\n",
    "    #loc='best'\n",
    "    loc='upper left'\n",
    "\n",
    "    figsize(8, 5)\n",
    "    k_0 = omega*sqrt(constants.mu_0*constants.epsilon_0)\n",
    "\n",
    "    f = omega/(2.0*math.pi)\n",
    "    f /= constants.tera\n",
    "\n",
    "    plot(f, -1.0/(np.imag(k_surf_p)*k_0)/(2.0*math.pi/(np.real(k_surf_p)*k_0)), colors[ind], linewidth=2, label='forward')\n",
    "    plot(f, -1.0/(np.imag(k_surf_m)*k_0)/(2.0*math.pi/(np.real(k_surf_m)*k_0)), colors[ind]+'--', linewidth=2, label='backward')\n",
    "    xlabel('$f$ (THz)', fontsize=18)\n",
    "    ylabel('$\\\\zeta/\\\\lambda$', fontsize=18)\n",
    "    yscale('log')\n",
    "    #legend(loc=loc, fontsize=14, frameon=False)\n",
    "    #gca().yaxis.grid(True)\n",
    "    xlim([f0, f1])\n",
    "    axvline(f_p, linestyle='-.', color='k', linewidth=1)\n",
    "    axvline(f_m, linestyle='-.', color='k', linewidth=1)\n",
    "    y0, y1 = gca().get_ylim()\n",
    "\n",
    "    ax = gca()\n",
    "    #ax.ticklabel_format(axis='y', useOffset=False)\n",
    "\n",
    "    font = {'family' : 'serif', 'weight' : 'normal', 'size'   : 18}\n",
    "    matplotlib.rc('font', **font)\n",
    "\n",
    "for ind, file in enumerate(files_npz):\n",
    "    [f_m, f_p] = f_band[ind]\n",
    "\n",
    "    rec_color = rec_colors[ind]\n",
    "    rec_alpha = 1.0\n",
    "\n",
    "    y0, y1 = gca().get_ylim()\n",
    "    dh = (np.log10(y1)-np.log10(y0))/n_file\n",
    "    y0_ = 10.0**(np.log10(y0) + dh*ind)\n",
    "    y1_ = 10.0**(np.log10(y0) + 0.9*dh*(ind+1))    \n",
    "    gca().add_patch(Rectangle((f_p, y0_), width=f_m-f_p, height=y1_-y0_, color=rec_color, fill=True, alpha=rec_alpha))\n",
    "\n",
    "file_name = os.path.join(dir_name, 'prop-length'+file_ext)\n",
    "savefig(file_name, bbox_inches='tight', pad_inches=0.5)\n",
    "\n",
    "show()\n",
    "\n",
    "\n",
    "\n"
   ]
  },
  {
   "cell_type": "markdown",
   "metadata": {},
   "source": [
    "### TE mode sensitivity"
   ]
  },
  {
   "cell_type": "code",
   "execution_count": 2,
   "metadata": {
    "collapsed": false
   },
   "outputs": [
    {
     "name": "stdout",
     "output_type": "stream",
     "text": [
      "Populating the interactive namespace from numpy and matplotlib\n",
      "46.7669172932\n",
      "53.5338345865"
     ]
    },
    {
     "name": "stderr",
     "output_type": "stream",
     "text": [
      "WARNING: pylab import has clobbered these variables: ['colors', 'f']\n",
      "`%matplotlib` prevents importing * from pylab and numpy\n",
      "/usr/local/lib/python3.4/dist-packages/matplotlib/scale.py:101: RuntimeWarning: invalid value encountered in less_equal\n",
      "  a[a <= 0.0] = 1e-300\n"
     ]
    },
    {
     "name": "stdout",
     "output_type": "stream",
     "text": [
      "\n"
     ]
    },
    {
     "data": {
      "image/png": "[encoded data removed]",
      "text/plain": [
       "<matplotlib.figure.Figure at 0x7fd85ed54320>"
      ]
     },
     "metadata": {},
     "output_type": "display_data"
    }
   ],
   "source": [
    "## TE mode dielectric sensitivity\n",
    "\n",
    "%pylab inline \n",
    "\n",
    "from scipy import constants\n",
    "import numpy as np\n",
    "import math\n",
    "from Electromagnetics.graphene import *\n",
    "\n",
    "N = 400\n",
    "f0 = 40.0*constants.tera\n",
    "f1 = 100.0*constants.tera\n",
    "f = np.linspace(f0, f1, N)\n",
    "omega = 2.0*math.pi*f\n",
    "\n",
    "tau = 0.2*constants.pico\n",
    "mu_c = 0.1*constants.eV\n",
    "T = 300.001\n",
    "B_0 = 0.0\n",
    "eps_r1, mu_r1 = 10.0, 1.0\n",
    "eps_mu_2 = [[10.0, 1.0], [10.0001, 1.00001]]#, [10.0001, 1.00002]]\n",
    "ls = ['', '--']\n",
    "\n",
    "figsize(10, 8)\n",
    "x_axis = 'f'#'eV'\n",
    "\n",
    "for ind in range(len(eps_mu_2)):\n",
    "    eps_r2, mu_r2 = eps_mu_2[ind]\n",
    "    k_k0_p = None\n",
    "\n",
    "    k_k0_p = plasmonDispersion_TE_normalized(mu_c, omega, tau, T, cond='Kubo', eps_r1=eps_r1, mu_r1=mu_r1, \n",
    "            eps_r2=eps_r2, mu_r2=mu_r2)\n",
    "    k_k0_p *= (np.imag(k_k0_p)<=0.0)\n",
    "\n",
    "    alpha1_k0_p = np.sqrt(k_k0_p**2 - eps_r1*mu_r1)\n",
    "    alpha2_k0_p = np.sqrt(k_k0_p**2 - eps_r2*mu_r2)\n",
    "\n",
    "    font = {'family' : 'serif', 'weight' : 'normal', 'size'   : 18}\n",
    "    matplotlib.rc('font', **font)\n",
    "\n",
    "    mask_p = np.logical_or(np.real(alpha1_k0_p)>0.0, np.real(alpha2_k0_p)>0.0)\n",
    "\n",
    "    k_k0_p = np.ma.masked_equal(k_k0_p*mask_p, 0)\n",
    "    alpha1_k0_p = np.ma.masked_equal(alpha1_k0_p, 0)\n",
    "    alpha2_k0_p = np.ma.masked_equal(alpha2_k0_p, 0)\n",
    "\n",
    "    f_p = f[np.argmax(mask_p)]/constants.tera\n",
    "    print(f_p)\n",
    "    \n",
    "    if x_axis=='eV':\n",
    "        omega_ev = 2.0*pi*f*constants.hbar/constants.e\n",
    "    else:\n",
    "        omega_ev = f/constants.tera\n",
    "\n",
    "    plot(omega_ev, np.real(k_k0_p), 'r'+ls[ind], label='$\\\\Re(k_z/k_0)$', linewidth=2)\n",
    "    plot(omega_ev, -np.imag(k_k0_p), 'b'+ls[ind], label='$\\\\Im(k_z/k_0)$', linewidth=2)\n",
    "    plot(omega_ev, -np.real(k_k0_p)/(2.0*np.pi*np.imag(k_k0_p)), 'g'+ls[ind], label='$\\\\zeta/\\\\lambda$', linewidth=2)\n",
    "    #plot(omega_ev, -1.0/(2.0*np.pi*np.imag(k_k0_p)), 'g'+ls[ind], label='$\\\\zeta/\\\\lambda$', linewidth=2)\n",
    "    plot(omega_ev, np.real(alpha1_k0_p), 'y'+ls[ind], label='$\\\\Re(\\\\alpha/k_0$)', linewidth=2)\n",
    "    #plot(omega_ev, np.real(alpha2_k0_p), 'y'+ls[ind], label='$\\\\Re(\\\\alpha/k_0$)', linewidth=2)\n",
    "    if x_axis=='eV':\n",
    "        xlabel('$\\\\omega$ (eV)', fontsize=22)\n",
    "    else:\n",
    "        xlabel('$f$ (THz)', fontsize=22)\n",
    "\n",
    "    #axvline(f_p, linestyle='-.', color='k', linewidth=2)\n",
    "    \n",
    "    if ind==0:\n",
    "        legend(loc='upper right', fontsize=24, frameon=True)\n",
    "\n",
    "    if not np.all(k_k0_p==0.0):\n",
    "        yscale('log')\n",
    "\n",
    "import os\n",
    "cwd = os.getcwd()\n",
    "dir_name = os.path.join(cwd, 'other', 'graphene-ferrite')\n",
    "file_ext = '.eps'\n",
    "if not os.path.exists(dir_name):\n",
    "    os.makedirs(dir_name)\n",
    "    \n",
    "file_name = os.path.join(dir_name, 'TE-disp-sensitivity'+file_ext)\n",
    "savefig(file_name, bbox_inches='tight', pad_inches=0.5)\n",
    "\n",
    "show()\n",
    "\n"
   ]
  },
  {
   "cell_type": "code",
   "execution_count": 95,
   "metadata": {
    "collapsed": false
   },
   "outputs": [
    {
     "name": "stdout",
     "output_type": "stream",
     "text": [
      "Populating the interactive namespace from numpy and matplotlib\n",
      "0/101 2\" 1/101 5\" 2/101 8\" 3/101 11\" 4/101 15\" 5/101 18\" 6/101 21\" 7/101 24\" 8/101 27\" 9/101 30\" 10/101 33\" 11/101 37\" 12/101 40\" 13/101 43\" 14/101 46\" 15/101 49\" 16/101 52\" 17/101 56\" 18/101 59\" 19/101 62\" 20/101 65\" 21/101 68\" 22/101 71\" 23/101 75\" 24/101 78\" 25/101 81\" 26/101 84\" 27/101 87\" 28/101 90\" 29/101 94\" 30/101 97\" 31/101 100\" 32/101 103\" 33/101 106\" 34/101 109\" 35/101 112\" 36/101 116\" 37/101 119\" 38/101 122\" 39/101 125\" 40/101 128\" 41/101 131\" 42/101 134\" 43/101 138\" 44/101 141\" 45/101 144\" 46/101 147\" 47/101 150\" 48/101 153\" 49/101 157\" 50/101 160\" 51/101 163\" 52/101 166\" 53/101 169\" 54/101 172\" 55/101 175\" 56/101 179\" 57/101 182\" 58/101 185\" 59/101 188\" 60/101 191\" 61/101 194\" 62/101 197\" 63/101 201\" 64/101 204\" 65/101 207\" 66/101 210\" 67/101 213\" 68/101 216\" 69/101 220\" 70/101 223\" 71/101 226\" 72/101 229\" 73/101 232\" 74/101 235\" 75/101 238\" 76/101 242\" 77/101 245\" 78/101 248\" 79/101 251\" 80/101 254\" 81/101 257\" 82/101 261\" 83/101 264\" 84/101 267\" 85/101 270\" 86/101 273\" 87/101 276\" 88/101 279\" 89/101 283\" 90/101 286\" 91/101 289\" 92/101 292\" 93/101 295\" 94/101 298\" 95/101 301\" 96/101 305\" 97/101 308\" 98/101 311\" 99/101 314\" 100/101 317\" "
     ]
    },
    {
     "name": "stderr",
     "output_type": "stream",
     "text": [
      "WARNING: pylab import has clobbered these variables: ['shape', 'f']\n",
      "`%matplotlib` prevents importing * from pylab and numpy\n"
     ]
    }
   ],
   "source": [
    "## TE mode dielectric sensitivity\n",
    "\n",
    "%pylab inline \n",
    "\n",
    "from scipy import constants\n",
    "import numpy as np\n",
    "import math\n",
    "from Electromagnetics.graphene import *\n",
    "import time\n",
    "\n",
    "t_start = time.perf_counter()\n",
    "\n",
    "N = 100\n",
    "f0 = 10.0*constants.tera\n",
    "f1 = 400.0*constants.tera\n",
    "f = np.linspace(f0, f1, N)\n",
    "omega = 2.0*math.pi*f\n",
    "\n",
    "tau = 0.2*constants.pico\n",
    "mu_c = 0.1*constants.eV\n",
    "T = 300.001\n",
    "B_0 = 0.0\n",
    "eps_r1, mu_r1 = 10.0, 1.0\n",
    "\n",
    "d_eps = 1.0e-3\n",
    "d_mu = 2.0e-4\n",
    "\n",
    "eps_r2_arr = linspace(eps_r1-d_eps, eps_r1+d_eps, 101)\n",
    "mu_r2_arr = linspace(mu_r1-d_mu, mu_r1+d_mu, 101)\n",
    "\n",
    "eps_r2_mg, mu_r2_mg = np.meshgrid(eps_r2_arr, mu_r2_arr, indexing='ij')\n",
    "\n",
    "shape = eps_r2_mg.shape\n",
    "Z = np.zeros(shape)\n",
    "\n",
    "for i in range(shape[0]):\n",
    "    for j in range(shape[1]):\n",
    "        eps_r2, mu_r2 = eps_r2_mg[i, j], mu_r2_mg[i, j]\n",
    "        k_k0_p = None\n",
    "\n",
    "        k_k0_p = plasmonDispersion_TE_normalized(mu_c, omega, tau, T, cond='Kubo', eps_r1=eps_r1, mu_r1=mu_r1, \n",
    "                eps_r2=eps_r2, mu_r2=mu_r2)\n",
    "        k_k0_p *= (np.imag(k_k0_p)<=0.0)\n",
    "\n",
    "        if np.any(k_k0_p!=0.0):\n",
    "            Z[i, j] = 1.0\n",
    "    print('{}/{}'.format(i, shape[0]), end=' ')\n",
    "    t_i = time.perf_counter()\n",
    "    dt_i = int((t_i-t_start)/60)\n",
    "    print('{}\"'.format(dt_i), end=' ')\n",
    "\n"
   ]
  },
  {
   "cell_type": "code",
   "execution_count": 106,
   "metadata": {
    "collapsed": false
   },
   "outputs": [
    {
     "data": {
      "image/png": "[encoded data removed]",
      "text/plain": [
       "<matplotlib.figure.Figure at 0x7fcdad050e48>"
      ]
     },
     "metadata": {},
     "output_type": "display_data"
    }
   ],
   "source": [
    "\n",
    "figsize(6, 3)\n",
    "pcolor(eps_r2_mg-eps_r1, mu_r2_mg-mu_r1, Z, cmap=cm.Blues)\n",
    "axis([np.min(eps_r2_arr)-eps_r1, np.max(eps_r2_arr)-eps_r1, np.min(mu_r2_arr)-mu_r1, np.max(mu_r2_arr)-mu_r1])\n",
    "#colorbar()\n",
    "#gca().ticklabel_format(axis='x', useOffset=False)\n",
    "font = {'family' : 'serif', 'weight' : 'normal', 'size'   : 14}\n",
    "matplotlib.rc('font', **font)\n",
    "#xscale('log')\n",
    "#yscale('log')\n",
    "\n",
    "xlabel(r'$\\Delta\\epsilon_r$', fontsize=22)\n",
    "ylabel(r'$\\Delta\\mu_r$', fontsize=22)\n",
    "grid()\n",
    "\n",
    "import os\n",
    "cwd = os.getcwd()\n",
    "dir_name = os.path.join(cwd, 'other', 'graphene-ferrite')\n",
    "file_ext = '.eps'\n",
    "if not os.path.exists(dir_name):\n",
    "    os.makedirs(dir_name)\n",
    "    \n",
    "file_name = os.path.join(dir_name, 'TE-depsdmu-region'+file_ext)\n",
    "savefig(file_name, bbox_inches='tight', pad_inches=0.5)\n",
    "\n",
    "show()\n"
   ]
  },
  {
   "cell_type": "code",
   "execution_count": null,
   "metadata": {
    "collapsed": true
   },
   "outputs": [],
   "source": []
  }
 ],
 "metadata": {
  "kernelspec": {
   "display_name": "Python 3",
   "language": "python",
   "name": "python3"
  },
  "language_info": {
   "codemirror_mode": {
    "name": "ipython",
    "version": 3
   },
   "file_extension": ".py",
   "mimetype": "text/x-python",
   "name": "python",
   "nbconvert_exporter": "python",
   "pygments_lexer": "ipython3",
   "version": "3.5.2"
  }
 },
 "nbformat": 4,
 "nbformat_minor": 0
}
