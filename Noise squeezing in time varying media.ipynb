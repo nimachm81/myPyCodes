{
 "cells": [
  {
   "cell_type": "code",
   "execution_count": 1,
   "metadata": {
    "collapsed": false
   },
   "outputs": [
    {
     "name": "stdout",
     "output_type": "stream",
     "text": [
      "Populating the interactive namespace from numpy and matplotlib\n"
     ]
    }
   ],
   "source": [
    "%load_ext autoreload\n",
    "%autoreload 2\n",
    "\n",
    "%pylab inline\n",
    "\n",
    "import os\n",
    "cwd = os.getcwd()\n",
    "dir_name = os.path.join(cwd, 'other', 'spacetime-noise')\n",
    "file_ext = '.eps'\n",
    "if not os.path.exists(dir_name):\n",
    "    os.makedirs(dir_name)\n",
    "\n",
    "plt.rc('text', usetex=True)\n",
    "#plt.rc('font', family='serif', size=18)\n",
    "\n",
    "font = {'family' : 'serif', 'weight' : 'normal', 'size'   : 18}\n",
    "matplotlib.rc('font', **font)\n",
    "\n",
    "\n",
    "show_axis = False\n"
   ]
  },
  {
   "cell_type": "code",
   "execution_count": 2,
   "metadata": {
    "collapsed": false
   },
   "outputs": [
    {
     "name": "stdout",
     "output_type": "stream",
     "text": [
      "d_k: 1.22464679915e-16\n",
      "d_wc: 2.0\n"
     ]
    },
    {
     "data": {
      "image/png": "[encoded data removed]",
      "text/plain": [
       "<matplotlib.figure.Figure at 0x7feb618cce10>"
      ]
     },
     "metadata": {},
     "output_type": "display_data"
    },
    {
     "name": "stdout",
     "output_type": "stream",
     "text": [
      "interleaved_range:  [0, 1, -1, 2, -2, 3, -3, 4, -4, 5, -5, 6, -6, 7, -7, 8, -8, 9, -9, 10, -10, 11, -11, 12, -12, 13, -13, 14, -14, 15, -15, 16, -16, 17, -17, 18, -18, 19, -19, 20, -20]\n"
     ]
    }
   ],
   "source": [
    "\n",
    "import numpy as np\n",
    "from scipy import constants\n",
    "\n",
    "c = constants.c\n",
    "n = 3.4\n",
    "N = 200\n",
    "k_max = 20.0\n",
    "w_max = k_max/n*c\n",
    "k_arr = np.linspace(-10.0*k_max, 10.0*k_max, N)\n",
    "w_arr = k_arr/n*c\n",
    "\n",
    "d_kw = 2.0\n",
    "phi =  90.0/180.0*np.pi\n",
    "d_k = d_kw*np.cos(phi)\n",
    "d_wc = d_kw*np.sin(phi)\n",
    "#if d_wc<0.0:\n",
    "#    d_wc *= -1.0\n",
    "#    d_k *= -1.0\n",
    "\n",
    "d_w = d_wc*c\n",
    "n_mode = 20\n",
    "\n",
    "print('d_k:', d_k)\n",
    "print('d_wc:', d_wc)\n",
    "\n",
    "a = 2.0*np.pi/d_k\n",
    "\n",
    "for i in range(-n_mode, n_mode+1):\n",
    "    plot(k_arr+i*d_k, (w_arr+i*d_w)/c, 'b')\n",
    "    plot(k_arr+i*d_k, (-w_arr+i*d_w)/c, 'b')\n",
    "\n",
    "if show_axis:\n",
    "    plot([-k_max, k_max], [0, 0], 'k-', lw=0.5)\n",
    "    plot([0, 0], [-w_max, w_max], 'k-', lw=0.5)\n",
    "plot(10*np.array([-d_k, d_k]), 10*np.array([-d_w, d_w])/c, color='k', linestyle='-', linewidth=2)\n",
    "\n",
    "bz = np.array([0.5*d_k, 0.5*d_w/c])\n",
    "bz_n = 10.0*np.array([-bz[1], bz[0]])  ##normal\n",
    "plot([(bz-bz_n)[0], (bz+bz_n)[0]], [(bz-bz_n)[1], (bz+bz_n)[1]], 'k--')\n",
    "plot([(-bz-bz_n)[0], (-bz+bz_n)[0]], [(-bz-bz_n)[1], (-bz+bz_n)[1]], 'k--')\n",
    "ylabel(r'$\\omega /c$', fontsize=22)\n",
    "xlabel(r'$\\beta$', fontsize=22)\n",
    "xticks([0])\n",
    "yticks([0])\n",
    "axis('equal')\n",
    "xlim(-k_max/2, k_max/2)\n",
    "ylim(-w_max/c/2, w_max/c/2)\n",
    "savefig(os.path.join(dir_name, 'nondispersive-epsr' + file_ext), bbox_inches='tight', pad_inches=0.2)\n",
    "\n",
    "    \n",
    "if 'w_i' in globals():\n",
    "    axhline(w_i, color='g', linestyle='-.')\n",
    "    savefig(os.path.join(dir_name, 'nondispersive-epsr-wi' + file_ext), bbox_inches='tight', pad_inches=0.2)\n",
    "    print('d_k/k_i:', d_k/(w_i*n))\n",
    "    print('d_wc/omega_i:', d_wc/w_i)\n",
    "\n",
    "if 'eig_points_k' in globals():\n",
    "    #plot(np.real(eig_points_k), np.real(eig_points_w), 'ro', lw=0.1)\n",
    "    plot(np.real(eig_points_k_m), np.real(eig_points_w_m), 'yo', lw=0.1, markersize=5)\n",
    "    plot(np.real(eig_points_k_p), np.real(eig_points_w_p), 'ro', lw=0.1, markersize=3)\n",
    "    savefig(os.path.join(dir_name, 'nondispersive-epsr-modes' + file_ext), bbox_inches='tight', pad_inches=0.2)\n",
    "\n",
    "#plot(np.real(eig_points_kp[:,0]), np.real(eig_points_wp[:,0]), 'go')\n",
    "show()\n",
    "\n",
    "\n",
    "interleaved_range = [0]\n",
    "interleaved_range.extend([val for pair in zip(np.arange(1, n_mode+1), -np.arange(1, n_mode+1)) for val in pair])\n",
    "print('interleaved_range: ', interleaved_range)\n",
    "\n",
    "\n",
    "import matplotlib.animation as animation\n",
    "\n",
    "animate_periodic = False\n",
    "ah_len = 0.15*np.sqrt(np.abs(d_k)**2 + np.abs(d_w/c)**2)\n",
    "ah_width = 0.2*ah_len\n",
    "zero_drawn = False\n",
    "if animate_periodic:\n",
    "    figsize(5, 5)\n",
    "\n",
    "    def animate_per(_i_):\n",
    "        global zero_drawn\n",
    "        i = interleaved_range[_i_]\n",
    "        lw = 2\n",
    "        _color_ = 'b'#list(colors_list.keys())[i+n_mode]\n",
    "        if i==0:\n",
    "            lw = 2\n",
    "            #_color_ = 'k'\n",
    "        \n",
    "        plot(k_arr+i*d_k, (w_arr+i*d_w)/c, _color_, lw=lw)\n",
    "        plot(k_arr+i*d_k, (-w_arr+i*d_w)/c, _color_, lw=lw)\n",
    "        \n",
    "        \n",
    "        if i==1:\n",
    "            plot([(bz-bz_n)[0], (bz+bz_n)[0]], [(bz-bz_n)[1], (bz+bz_n)[1]], 'k--')\n",
    "            plot([(-bz-bz_n)[0], (-bz+bz_n)[0]], [(-bz-bz_n)[1], (-bz+bz_n)[1]], 'k--')\n",
    "        if i==0:\n",
    "            gca().arrow(-k_max, 0, 2*k_max, 0, head_width=2.5*ah_width, head_length=2*ah_len, fc='k', ec='k', length_includes_head=True)\n",
    "        \n",
    "        \n",
    "        if i>0:\n",
    "            gca().arrow((i-1)*d_k, (i-1)*d_w/c, d_k, d_w/c, head_width=ah_width, head_length=ah_len, fc='r', ec='r', length_includes_head=True)\n",
    "        elif i<0:\n",
    "            gca().arrow((i+1)*d_k, (i+1)*d_w/c, -d_k, -d_w/c, head_width=ah_width, head_length=ah_len, fc='r', ec='r', length_includes_head=True)\n",
    "        \n",
    "\n",
    "        ylabel(r'$\\omega$', fontsize=26)\n",
    "        xlabel(r'$\\beta$', fontsize=26)\n",
    "        #axis('equal')\n",
    "        xticks([0])\n",
    "        yticks([0])\n",
    "        xlim(-k_max, k_max)\n",
    "        ylim(-w_max/c, w_max/c)\n",
    "        \n",
    "        if abs(i)<3:\n",
    "            if (i==0 and not zero_drawn) or i!=0:\n",
    "                savefig(os.path.join(dir_name, 'anim-{}'.format(i) + file_ext), bbox_inches='tight', pad_inches=0.2)\n",
    "                zero_drawn = True\n",
    "\n",
    "    fig = plt.figure()\n",
    "    axes = plt.gca()\n",
    "    anim = animation.FuncAnimation(fig, animate_per, frames=len(interleaved_range), interval=1, repeat=False)\n",
    "    anim.save(os.path.join(dir_name, 'anim.gif'), writer=\"imagemagick\", fps=1, dpi=200)\n",
    "\n",
    "show()\n",
    "\n",
    "\n",
    "animate_mod_velocity = False\n",
    "if animate_mod_velocity:\n",
    "    figsize(5, 5)\n",
    "\n",
    "    phi_arr = np.linspace(0.0, 180.0, 200)/180.0*np.pi\n",
    "    \n",
    "    def animate_modvel(i):\n",
    "        plt.clf()\n",
    "        _phi_ = phi_arr[i]\n",
    "        _d_k_ = d_kw*np.cos(_phi_)\n",
    "        _d_wc_ = d_kw*np.sin(_phi_)\n",
    "        _d_w_ = _d_wc_*c\n",
    "\n",
    "        for i in interleaved_range:\n",
    "            _color_, lw = 'b', 1\n",
    "            if i==0:\n",
    "                _color_, lw = 'g', 1\n",
    "            plot(k_arr+i*_d_k_, (w_arr+i*_d_w_)/c, _color_, lw=lw)\n",
    "            plot(k_arr+i*_d_k_, (-w_arr+i*_d_w_)/c, _color_, lw=lw)\n",
    "\n",
    "        _bz_ = np.array([0.5*_d_k_, 0.5*_d_w_/c])\n",
    "        _bz_n_ = 10.0*np.array([-_bz_[1], _bz_[0]])  ##normal\n",
    "\n",
    "        plot([(_bz_-_bz_n_)[0], (_bz_+_bz_n_)[0]], [(_bz_-_bz_n_)[1], (_bz_+_bz_n_)[1]], 'k--')\n",
    "        plot([(-_bz_-_bz_n_)[0], (-_bz_+_bz_n_)[0]], [(-_bz_-_bz_n_)[1], (-_bz_+_bz_n_)[1]], 'k--')\n",
    "        gca().arrow(-k_max, 0, 2*k_max, 0, head_width=2.5*ah_width, head_length=2*ah_len, fc='k', ec='k', length_includes_head=True)\n",
    "        \n",
    "        gca().arrow(0, 0, _d_k_, _d_w_/c, head_width=ah_width, head_length=ah_len, fc='r', ec='r', length_includes_head=True)\n",
    "\n",
    "        ylabel(r'$\\omega$', fontsize=26)\n",
    "        xlabel(r'$\\beta$', fontsize=26)\n",
    "        #axis('equal')\n",
    "        xticks([0])\n",
    "        yticks([0])\n",
    "        xlim(-k_max, k_max)\n",
    "        ylim(-w_max/c, w_max/c)\n",
    "        \n",
    "    fig = plt.figure()\n",
    "    axes = plt.gca()\n",
    "    anim = animation.FuncAnimation(fig, animate_modvel, frames=len(phi_arr), interval=1, repeat=False)\n",
    "    anim.save(os.path.join(dir_name, 'anim-modvel.gif'), writer=\"imagemagick\", fps=10, dpi=200)\n",
    "\n",
    "show()\n",
    "\n",
    "        "
   ]
  },
  {
   "cell_type": "markdown",
   "metadata": {},
   "source": [
    "### Nondispersive dielectrics - Equations - Fourier expansion"
   ]
  },
  {
   "cell_type": "code",
   "execution_count": 3,
   "metadata": {
    "collapsed": false
   },
   "outputs": [
    {
     "data": {
      "text/latex": [
       "$$EQ = - \\epsilon_0 \\mu_0 \\frac{\\partial^{2}}{\\partial t^{2}} \\left(E \\epsilon_r\\right) + \\frac{d^{2}}{d z^{2}}  E$$"
      ],
      "text/plain": [
       "<IPython.core.display.Math object>"
      ]
     },
     "metadata": {},
     "output_type": "display_data"
    },
    {
     "data": {
      "text/latex": [
       "$$EQ = - \\epsilon_0 \\mu_0 \\frac{\\partial^{2}}{\\partial t^{2}} \\left(E \\epsilon_r e^{i \\omega t - i k z}\\right) + \\frac{\\partial^{2}}{\\partial z^{2}} \\left(E e^{i \\omega t - i k z}\\right)$$"
      ],
      "text/plain": [
       "<IPython.core.display.Math object>"
      ]
     },
     "metadata": {},
     "output_type": "display_data"
    },
    {
     "name": "stdout",
     "output_type": "stream",
     "text": [
      "harmonic: \n"
     ]
    },
    {
     "data": {
      "text/latex": [
       "$$e^{i n_{0} \\left(\\omega_m t - k_{m} z\\right)}$$"
      ],
      "text/plain": [
       "<IPython.core.display.Math object>"
      ]
     },
     "metadata": {},
     "output_type": "display_data"
    },
    {
     "data": {
      "text/latex": [
       "$$EQ_\\text{harm} = - \\epsilon_0 \\mu_0 \\frac{\\partial^{2}}{\\partial t^{2}} \\left(e^{i \\omega t - i k z} \\left(\\sum_{n_{0}=-\\infty}^{\\infty} \\tilde{E}{\\left (n_{0} \\right )} e^{i n_{0} \\left(\\omega_m t - k_{m} z\\right)}\\right) \\sum_{n_{0}=-\\infty}^{\\infty} \\tilde{\\epsilon_r}{\\left (n_{0} \\right )} e^{i n_{0} \\left(\\omega_m t - k_{m} z\\right)}\\right) + \\frac{\\partial^{2}}{\\partial z^{2}} \\left(e^{i \\omega t - i k z} \\sum_{n_{0}=-\\infty}^{\\infty} \\tilde{E}{\\left (n_{0} \\right )} e^{i n_{0} \\left(\\omega_m t - k_{m} z\\right)}\\right)$$"
      ],
      "text/plain": [
       "<IPython.core.display.Math object>"
      ]
     },
     "metadata": {},
     "output_type": "display_data"
    },
    {
     "data": {
      "text/latex": [
       "$$EQ_\\text{harm} = - \\epsilon_0 \\mu_0 \\left(- \\omega^{2} \\left(\\sum_{n_{0}=-\\infty}^{\\infty} \\tilde{E}{\\left (n_{0} \\right )} e^{i n_{0} \\left(\\omega_m t - k_{m} z\\right)}\\right) \\sum_{n_{0}=-\\infty}^{\\infty} \\tilde{\\epsilon_r}{\\left (n_{0} \\right )} e^{i n_{0} \\left(\\omega_m t - k_{m} z\\right)} + 2 i \\omega \\left(\\sum_{n_{0}=-\\infty}^{\\infty} \\tilde{E}{\\left (n_{0} \\right )} e^{i n_{0} \\left(\\omega_m t - k_{m} z\\right)}\\right) \\sum_{n_{0}=-\\infty}^{\\infty} i \\omega_m n_{0} \\tilde{\\epsilon_r}{\\left (n_{0} \\right )} e^{i n_{0} \\left(\\omega_m t - k_{m} z\\right)} + 2 i \\omega \\left(\\sum_{n_{0}=-\\infty}^{\\infty} \\tilde{\\epsilon_r}{\\left (n_{0} \\right )} e^{i n_{0} \\left(\\omega_m t - k_{m} z\\right)}\\right) \\sum_{n_{0}=-\\infty}^{\\infty} i \\omega_m n_{0} \\tilde{E}{\\left (n_{0} \\right )} e^{i n_{0} \\left(\\omega_m t - k_{m} z\\right)} + \\left(\\sum_{n_{0}=-\\infty}^{\\infty} \\tilde{E}{\\left (n_{0} \\right )} e^{i n_{0} \\left(\\omega_m t - k_{m} z\\right)}\\right) \\sum_{n_{0}=-\\infty}^{\\infty} - \\omega_m^{2} n_{0}^{2} \\tilde{\\epsilon_r}{\\left (n_{0} \\right )} e^{i n_{0} \\left(\\omega_m t - k_{m} z\\right)} + \\left(\\sum_{n_{0}=-\\infty}^{\\infty} \\tilde{\\epsilon_r}{\\left (n_{0} \\right )} e^{i n_{0} \\left(\\omega_m t - k_{m} z\\right)}\\right) \\sum_{n_{0}=-\\infty}^{\\infty} - \\omega_m^{2} n_{0}^{2} \\tilde{E}{\\left (n_{0} \\right )} e^{i n_{0} \\left(\\omega_m t - k_{m} z\\right)} + 2 \\left(\\sum_{n_{0}=-\\infty}^{\\infty} i \\omega_m n_{0} \\tilde{E}{\\left (n_{0} \\right )} e^{i n_{0} \\left(\\omega_m t - k_{m} z\\right)}\\right) \\sum_{n_{0}=-\\infty}^{\\infty} i \\omega_m n_{0} \\tilde{\\epsilon_r}{\\left (n_{0} \\right )} e^{i n_{0} \\left(\\omega_m t - k_{m} z\\right)}\\right) e^{i \\left(\\omega t - k z\\right)} + \\left(- k^{2} \\sum_{n_{0}=-\\infty}^{\\infty} \\tilde{E}{\\left (n_{0} \\right )} e^{i n_{0} \\left(\\omega_m t - k_{m} z\\right)} - 2 i k \\sum_{n_{0}=-\\infty}^{\\infty} - i k_{m} n_{0} \\tilde{E}{\\left (n_{0} \\right )} e^{i n_{0} \\left(\\omega_m t - k_{m} z\\right)} + \\sum_{n_{0}=-\\infty}^{\\infty} - k_{m}^{2} n_{0}^{2} \\tilde{E}{\\left (n_{0} \\right )} e^{i n_{0} \\left(\\omega_m t - k_{m} z\\right)}\\right) e^{i \\left(\\omega t - k z\\right)}$$"
      ],
      "text/plain": [
       "<IPython.core.display.Math object>"
      ]
     },
     "metadata": {},
     "output_type": "display_data"
    },
    {
     "data": {
      "text/latex": [
       "$$EQ_\\text{harm} = \\epsilon_0 \\mu_0 \\omega^{2} e^{i \\omega t} e^{- i k z} \\sum_{n_{0}=-\\infty}^{\\infty} e^{i n_{0} \\left(\\omega_m t - k_{m} z\\right)} \\sum_{m_{0}=-\\infty}^{\\infty} \\tilde{E}{\\left (m_{0} \\right )} \\tilde{\\epsilon_r}{\\left (- m_{0} + n_{0} \\right )} - 2 i \\epsilon_0 \\mu_0 \\omega e^{i \\omega t} e^{- i k z} \\sum_{n_{0}=-\\infty}^{\\infty} e^{i n_{0} \\left(\\omega_m t - k_{m} z\\right)} \\sum_{m_{0}=-\\infty}^{\\infty} i \\omega_m \\left(- m_{0} + n_{0}\\right) \\tilde{E}{\\left (m_{0} \\right )} \\tilde{\\epsilon_r}{\\left (- m_{0} + n_{0} \\right )} - 2 i \\epsilon_0 \\mu_0 \\omega e^{i \\omega t} e^{- i k z} \\sum_{n_{0}=-\\infty}^{\\infty} e^{i n_{0} \\left(\\omega_m t - k_{m} z\\right)} \\sum_{m_{0}=-\\infty}^{\\infty} i \\omega_m \\left(- m_{0} + n_{0}\\right) \\tilde{E}{\\left (- m_{0} + n_{0} \\right )} \\tilde{\\epsilon_r}{\\left (m_{0} \\right )} - \\epsilon_0 \\mu_0 e^{i \\omega t} e^{- i k z} \\sum_{n_{0}=-\\infty}^{\\infty} e^{i n_{0} \\left(\\omega_m t - k_{m} z\\right)} \\sum_{m_{0}=-\\infty}^{\\infty} - \\omega_m^{2} \\left(- m_{0} + n_{0}\\right)^{2} \\tilde{E}{\\left (m_{0} \\right )} \\tilde{\\epsilon_r}{\\left (- m_{0} + n_{0} \\right )} - \\epsilon_0 \\mu_0 e^{i \\omega t} e^{- i k z} \\sum_{n_{0}=-\\infty}^{\\infty} e^{i n_{0} \\left(\\omega_m t - k_{m} z\\right)} \\sum_{m_{0}=-\\infty}^{\\infty} - \\omega_m^{2} \\left(- m_{0} + n_{0}\\right)^{2} \\tilde{E}{\\left (- m_{0} + n_{0} \\right )} \\tilde{\\epsilon_r}{\\left (m_{0} \\right )} - 2 \\epsilon_0 \\mu_0 e^{i \\omega t} e^{- i k z} \\sum_{n_{0}=-\\infty}^{\\infty} e^{i n_{0} \\left(\\omega_m t - k_{m} z\\right)} \\sum_{m_{0}=-\\infty}^{\\infty} - \\omega_m^{2} m_{0} \\left(- m_{0} + n_{0}\\right) \\tilde{E}{\\left (m_{0} \\right )} \\tilde{\\epsilon_r}{\\left (- m_{0} + n_{0} \\right )} - k^{2} e^{i \\omega t} e^{- i k z} \\sum_{n_{0}=-\\infty}^{\\infty} \\tilde{E}{\\left (n_{0} \\right )} e^{i \\omega_m n_{0} t} e^{- i k_{m} n_{0} z} - 2 i k e^{i \\omega t} e^{- i k z} \\sum_{n_{0}=-\\infty}^{\\infty} - i k_{m} n_{0} \\tilde{E}{\\left (n_{0} \\right )} e^{i \\omega_m n_{0} t} e^{- i k_{m} n_{0} z} + e^{i \\omega t} e^{- i k z} \\sum_{n_{0}=-\\infty}^{\\infty} - k_{m}^{2} n_{0}^{2} \\tilde{E}{\\left (n_{0} \\right )} e^{i \\omega_m n_{0} t} e^{- i k_{m} n_{0} z}$$"
      ],
      "text/plain": [
       "<IPython.core.display.Math object>"
      ]
     },
     "metadata": {},
     "output_type": "display_data"
    },
    {
     "data": {
      "text/latex": [
       "$$EQ_\\text{harm} = \\epsilon_0 \\mu_0 \\omega^{2} \\sum_{m_{0}=-\\infty}^{\\infty} \\tilde{E}{\\left (m_{0} \\right )} \\tilde{\\epsilon_r}{\\left (- m_{0} + n_{0} \\right )} + \\epsilon_0 \\mu_0 \\omega \\sum_{m_{0}=-\\infty}^{\\infty} - 2 \\omega_m m_{0} \\tilde{E}{\\left (m_{0} \\right )} \\tilde{\\epsilon_r}{\\left (- m_{0} + n_{0} \\right )} + \\epsilon_0 \\mu_0 \\omega \\sum_{m_{0}=-\\infty}^{\\infty} - 2 \\omega_m m_{0} \\tilde{E}{\\left (- m_{0} + n_{0} \\right )} \\tilde{\\epsilon_r}{\\left (m_{0} \\right )} + \\epsilon_0 \\mu_0 \\omega \\sum_{m_{0}=-\\infty}^{\\infty} 2 \\omega_m n_{0} \\tilde{E}{\\left (m_{0} \\right )} \\tilde{\\epsilon_r}{\\left (- m_{0} + n_{0} \\right )} + \\epsilon_0 \\mu_0 \\omega \\sum_{m_{0}=-\\infty}^{\\infty} 2 \\omega_m n_{0} \\tilde{E}{\\left (- m_{0} + n_{0} \\right )} \\tilde{\\epsilon_r}{\\left (m_{0} \\right )} + \\epsilon_0 \\mu_0 \\sum_{m_{0}=-\\infty}^{\\infty} - 2 \\omega_m^{2} m_{0}^{2} \\tilde{E}{\\left (m_{0} \\right )} \\tilde{\\epsilon_r}{\\left (- m_{0} + n_{0} \\right )} + \\epsilon_0 \\mu_0 \\sum_{m_{0}=-\\infty}^{\\infty} \\omega_m^{2} m_{0}^{2} \\tilde{E}{\\left (m_{0} \\right )} \\tilde{\\epsilon_r}{\\left (- m_{0} + n_{0} \\right )} + \\epsilon_0 \\mu_0 \\sum_{m_{0}=-\\infty}^{\\infty} \\omega_m^{2} m_{0}^{2} \\tilde{E}{\\left (- m_{0} + n_{0} \\right )} \\tilde{\\epsilon_r}{\\left (m_{0} \\right )} + \\epsilon_0 \\mu_0 \\sum_{m_{0}=-\\infty}^{\\infty} \\omega_m^{2} n_{0}^{2} \\tilde{E}{\\left (m_{0} \\right )} \\tilde{\\epsilon_r}{\\left (- m_{0} + n_{0} \\right )} + \\epsilon_0 \\mu_0 \\sum_{m_{0}=-\\infty}^{\\infty} \\omega_m^{2} n_{0}^{2} \\tilde{E}{\\left (- m_{0} + n_{0} \\right )} \\tilde{\\epsilon_r}{\\left (m_{0} \\right )} + \\epsilon_0 \\mu_0 \\sum_{m_{0}=-\\infty}^{\\infty} - 2 \\omega_m^{2} m_{0} n_{0} \\tilde{E}{\\left (m_{0} \\right )} \\tilde{\\epsilon_r}{\\left (- m_{0} + n_{0} \\right )} + \\epsilon_0 \\mu_0 \\sum_{m_{0}=-\\infty}^{\\infty} 2 \\omega_m^{2} m_{0} n_{0} \\tilde{E}{\\left (m_{0} \\right )} \\tilde{\\epsilon_r}{\\left (- m_{0} + n_{0} \\right )} + \\epsilon_0 \\mu_0 \\sum_{m_{0}=-\\infty}^{\\infty} - 2 \\omega_m^{2} m_{0} n_{0} \\tilde{E}{\\left (- m_{0} + n_{0} \\right )} \\tilde{\\epsilon_r}{\\left (m_{0} \\right )} - 2 k k_{m} n_{0} \\tilde{E}{\\left (n_{0} \\right )} - \\left(k^{2} + k_{m}^{2} n_{0}^{2}\\right) \\tilde{E}{\\left (n_{0} \\right )}$$"
      ],
      "text/plain": [
       "<IPython.core.display.Math object>"
      ]
     },
     "metadata": {},
     "output_type": "display_data"
    },
    {
     "data": {
      "text/latex": [
       "$$\\tilde{E}~~~~\\tilde{\\epsilon_r}$$"
      ],
      "text/plain": [
       "<IPython.core.display.Math object>"
      ]
     },
     "metadata": {},
     "output_type": "display_data"
    },
    {
     "data": {
      "text/latex": [
       "$$K = \\omega \\omega_m + k k_{m}$$"
      ],
      "text/plain": [
       "<IPython.core.display.Math object>"
      ]
     },
     "metadata": {},
     "output_type": "display_data"
    },
    {
     "data": {
      "text/latex": [
       "$$\\Omega = \\omega k_{m} - \\omega_m k$$"
      ],
      "text/plain": [
       "<IPython.core.display.Math object>"
      ]
     },
     "metadata": {},
     "output_type": "display_data"
    },
    {
     "data": {
      "text/latex": [
       "$$k = \\frac{K k_{m} - \\Omega \\omega_m}{\\omega_m^{2} + k_{m}^{2}}$$"
      ],
      "text/plain": [
       "<IPython.core.display.Math object>"
      ]
     },
     "metadata": {},
     "output_type": "display_data"
    },
    {
     "data": {
      "text/latex": [
       "$$\\omega = \\frac{K \\omega_m + \\Omega k_{m}}{\\omega_m^{2} + k_{m}^{2}}$$"
      ],
      "text/plain": [
       "<IPython.core.display.Math object>"
      ]
     },
     "metadata": {},
     "output_type": "display_data"
    },
    {
     "data": {
      "text/latex": [
       "$$EQ_\\text{harm} = \\epsilon_0 \\mu_0 \\sum_{m_{0}=-\\infty}^{\\infty} - 2 \\omega_m^{2} m_{0}^{2} \\tilde{E}{\\left (m_{0} \\right )} \\tilde{\\epsilon_r}{\\left (- m_{0} + n_{0} \\right )} + \\epsilon_0 \\mu_0 \\sum_{m_{0}=-\\infty}^{\\infty} \\omega_m^{2} m_{0}^{2} \\tilde{E}{\\left (m_{0} \\right )} \\tilde{\\epsilon_r}{\\left (- m_{0} + n_{0} \\right )} + \\epsilon_0 \\mu_0 \\sum_{m_{0}=-\\infty}^{\\infty} \\omega_m^{2} m_{0}^{2} \\tilde{E}{\\left (- m_{0} + n_{0} \\right )} \\tilde{\\epsilon_r}{\\left (m_{0} \\right )} + \\epsilon_0 \\mu_0 \\sum_{m_{0}=-\\infty}^{\\infty} \\omega_m^{2} n_{0}^{2} \\tilde{E}{\\left (m_{0} \\right )} \\tilde{\\epsilon_r}{\\left (- m_{0} + n_{0} \\right )} + \\epsilon_0 \\mu_0 \\sum_{m_{0}=-\\infty}^{\\infty} \\omega_m^{2} n_{0}^{2} \\tilde{E}{\\left (- m_{0} + n_{0} \\right )} \\tilde{\\epsilon_r}{\\left (m_{0} \\right )} + \\epsilon_0 \\mu_0 \\sum_{m_{0}=-\\infty}^{\\infty} - 2 \\omega_m^{2} m_{0} n_{0} \\tilde{E}{\\left (m_{0} \\right )} \\tilde{\\epsilon_r}{\\left (- m_{0} + n_{0} \\right )} + \\epsilon_0 \\mu_0 \\sum_{m_{0}=-\\infty}^{\\infty} 2 \\omega_m^{2} m_{0} n_{0} \\tilde{E}{\\left (m_{0} \\right )} \\tilde{\\epsilon_r}{\\left (- m_{0} + n_{0} \\right )} + \\epsilon_0 \\mu_0 \\sum_{m_{0}=-\\infty}^{\\infty} - 2 \\omega_m^{2} m_{0} n_{0} \\tilde{E}{\\left (- m_{0} + n_{0} \\right )} \\tilde{\\epsilon_r}{\\left (m_{0} \\right )} + \\frac{\\epsilon_0 \\mu_0}{\\omega_m^{2} + k_{m}^{2}} \\left(K \\omega_m + \\Omega k_{m}\\right) \\sum_{m_{0}=-\\infty}^{\\infty} - 2 \\omega_m m_{0} \\tilde{E}{\\left (m_{0} \\right )} \\tilde{\\epsilon_r}{\\left (- m_{0} + n_{0} \\right )} + \\frac{\\epsilon_0 \\mu_0}{\\omega_m^{2} + k_{m}^{2}} \\left(K \\omega_m + \\Omega k_{m}\\right) \\sum_{m_{0}=-\\infty}^{\\infty} - 2 \\omega_m m_{0} \\tilde{E}{\\left (- m_{0} + n_{0} \\right )} \\tilde{\\epsilon_r}{\\left (m_{0} \\right )} + \\frac{\\epsilon_0 \\mu_0}{\\omega_m^{2} + k_{m}^{2}} \\left(K \\omega_m + \\Omega k_{m}\\right) \\sum_{m_{0}=-\\infty}^{\\infty} 2 \\omega_m n_{0} \\tilde{E}{\\left (m_{0} \\right )} \\tilde{\\epsilon_r}{\\left (- m_{0} + n_{0} \\right )} + \\frac{\\epsilon_0 \\mu_0}{\\omega_m^{2} + k_{m}^{2}} \\left(K \\omega_m + \\Omega k_{m}\\right) \\sum_{m_{0}=-\\infty}^{\\infty} 2 \\omega_m n_{0} \\tilde{E}{\\left (- m_{0} + n_{0} \\right )} \\tilde{\\epsilon_r}{\\left (m_{0} \\right )} + \\frac{\\epsilon_0 \\mu_0}{\\left(\\omega_m^{2} + k_{m}^{2}\\right)^{2}} \\left(K \\omega_m + \\Omega k_{m}\\right)^{2} \\sum_{m_{0}=-\\infty}^{\\infty} \\tilde{E}{\\left (m_{0} \\right )} \\tilde{\\epsilon_r}{\\left (- m_{0} + n_{0} \\right )} - \\frac{2 k_{m} n_{0}}{\\omega_m^{2} + k_{m}^{2}} \\left(K k_{m} - \\Omega \\omega_m\\right) \\tilde{E}{\\left (n_{0} \\right )} - \\left(k_{m}^{2} n_{0}^{2} + \\frac{\\left(K k_{m} - \\Omega \\omega_m\\right)^{2}}{\\left(\\omega_m^{2} + k_{m}^{2}\\right)^{2}}\\right) \\tilde{E}{\\left (n_{0} \\right )}$$"
      ],
      "text/plain": [
       "<IPython.core.display.Math object>"
      ]
     },
     "metadata": {},
     "output_type": "display_data"
    },
    {
     "data": {
      "text/latex": [
       "$$k(\\omega) = k - k_{m} m - n \\left(\\omega - \\omega_m m\\right)$$"
      ],
      "text/plain": [
       "<IPython.core.display.Math object>"
      ]
     },
     "metadata": {},
     "output_type": "display_data"
    },
    {
     "data": {
      "text/latex": [
       "$$K(\\Omega) = - k_{m} m - n \\left(- \\omega_m m + \\frac{K \\omega_m + \\Omega k_{m}}{\\omega_m^{2} + k_{m}^{2}}\\right) + \\frac{K k_{m} - \\Omega \\omega_m}{\\omega_m^{2} + k_{m}^{2}}$$"
      ],
      "text/plain": [
       "<IPython.core.display.Math object>"
      ]
     },
     "metadata": {},
     "output_type": "display_data"
    },
    {
     "data": {
      "text/latex": [
       "$$\\Omega(K)^+ = \\frac{1}{\\omega_m + k_{m} n} \\left(- K \\omega_m n + K k_{m} + \\omega_m^{3} m n - \\omega_m^{2} k_{m} m + \\omega_m k_{m}^{2} m n - k_{m}^{3} m\\right)$$"
      ],
      "text/plain": [
       "<IPython.core.display.Math object>"
      ]
     },
     "metadata": {},
     "output_type": "display_data"
    },
    {
     "data": {
      "text/latex": [
       "$$K(\\Omega)^+ = \\frac{1}{\\omega_m n - k_{m}} \\left(- \\Omega \\omega_m - \\Omega k_{m} n + \\omega_m^{3} m n - \\omega_m^{2} k_{m} m + \\omega_m k_{m}^{2} m n - k_{m}^{3} m\\right)$$"
      ],
      "text/plain": [
       "<IPython.core.display.Math object>"
      ]
     },
     "metadata": {},
     "output_type": "display_data"
    },
    {
     "data": {
      "text/latex": [
       "$$k(\\omega) = k - k_{m} m + n \\left(\\omega - \\omega_m m\\right)$$"
      ],
      "text/plain": [
       "<IPython.core.display.Math object>"
      ]
     },
     "metadata": {},
     "output_type": "display_data"
    },
    {
     "data": {
      "text/latex": [
       "$$K(\\Omega) = - k_{m} m + n \\left(- \\omega_m m + \\frac{K \\omega_m + \\Omega k_{m}}{\\omega_m^{2} + k_{m}^{2}}\\right) + \\frac{K k_{m} - \\Omega \\omega_m}{\\omega_m^{2} + k_{m}^{2}}$$"
      ],
      "text/plain": [
       "<IPython.core.display.Math object>"
      ]
     },
     "metadata": {},
     "output_type": "display_data"
    },
    {
     "data": {
      "text/latex": [
       "$$\\Omega(K)^- = \\frac{1}{\\omega_m - k_{m} n} \\left(K \\omega_m n + K k_{m} - \\omega_m^{3} m n - \\omega_m^{2} k_{m} m - \\omega_m k_{m}^{2} m n - k_{m}^{3} m\\right)$$"
      ],
      "text/plain": [
       "<IPython.core.display.Math object>"
      ]
     },
     "metadata": {},
     "output_type": "display_data"
    },
    {
     "data": {
      "text/latex": [
       "$$K(\\Omega)^- = \\frac{1}{\\omega_m n + k_{m}} \\left(\\Omega \\omega_m - \\Omega k_{m} n + \\omega_m^{3} m n + \\omega_m^{2} k_{m} m + \\omega_m k_{m}^{2} m n + k_{m}^{3} m\\right)$$"
      ],
      "text/plain": [
       "<IPython.core.display.Math object>"
      ]
     },
     "metadata": {},
     "output_type": "display_data"
    },
    {
     "data": {
      "text/latex": [
       "$$\\omega(k)^+ = \\frac{1}{n} \\left(\\omega_m m n + k - k_{m} m\\right)$$"
      ],
      "text/plain": [
       "<IPython.core.display.Math object>"
      ]
     },
     "metadata": {},
     "output_type": "display_data"
    },
    {
     "data": {
      "text/latex": [
       "$$k(\\omega)^+ = \\omega n - \\omega_m m n + k_{m} m$$"
      ],
      "text/plain": [
       "<IPython.core.display.Math object>"
      ]
     },
     "metadata": {},
     "output_type": "display_data"
    },
    {
     "data": {
      "text/latex": [
       "$$\\omega(k)^- = \\frac{1}{n} \\left(\\omega_m m n - k + k_{m} m\\right)$$"
      ],
      "text/plain": [
       "<IPython.core.display.Math object>"
      ]
     },
     "metadata": {},
     "output_type": "display_data"
    },
    {
     "data": {
      "text/latex": [
       "$$k(\\omega)^- = - \\omega n + \\omega_m m n + k_{m} m$$"
      ],
      "text/plain": [
       "<IPython.core.display.Math object>"
      ]
     },
     "metadata": {},
     "output_type": "display_data"
    },
    {
     "data": {
      "text/latex": [
       "$$k_{m0m1} = - \\frac{\\omega_m m_{0}}{2} n + \\frac{\\omega_m m_{1}}{2} n + \\frac{k_{m} m_{0}}{2} + \\frac{k_{m} m_{1}}{2}$$"
      ],
      "text/plain": [
       "<IPython.core.display.Math object>"
      ]
     },
     "metadata": {},
     "output_type": "display_data"
    },
    {
     "data": {
      "text/latex": [
       "$$eq_{bz}^- = \\frac{1}{k_{m}} \\left(\\omega + \\frac{\\omega_m}{2}\\right) + \\frac{1}{\\omega_m} \\left(k + \\frac{k_{m}}{2}\\right)$$"
      ],
      "text/plain": [
       "<IPython.core.display.Math object>"
      ]
     },
     "metadata": {},
     "output_type": "display_data"
    },
    {
     "data": {
      "text/latex": [
       "$$intersection~~k_{bz^-}^+ = \\frac{1}{\\omega_m + k_{m} n} \\left(- \\omega_m^{2} m n - \\frac{\\omega_m^{2} n}{2} + \\omega_m k_{m} m - \\frac{k_{m}^{2} n}{2}\\right)$$"
      ],
      "text/plain": [
       "<IPython.core.display.Math object>"
      ]
     },
     "metadata": {},
     "output_type": "display_data"
    },
    {
     "data": {
      "text/latex": [
       "$$intersection~~k_{bz^-}^- = \\frac{1}{\\omega_m - k_{m} n} \\left(\\omega_m^{2} m n + \\frac{\\omega_m^{2} n}{2} + \\omega_m k_{m} m + \\frac{k_{m}^{2} n}{2}\\right)$$"
      ],
      "text/plain": [
       "<IPython.core.display.Math object>"
      ]
     },
     "metadata": {},
     "output_type": "display_data"
    },
    {
     "name": "stdout",
     "output_type": "stream",
     "text": [
      "k_intsect_bzm_p(m=0) -3.4\n",
      "k_intsect_bzm_m(m=0) 3.4\n"
     ]
    }
   ],
   "source": [
    "\n",
    "from sympy import Symbol, symbols, Derivative, latex, exp, I, solve, lambdify, cos, sin\n",
    "from IPython.display import Math, display\n",
    "\n",
    "from Electromagnetics.FourierBlochND import *\n",
    "\n",
    "t, z = symbols('t z')\n",
    "E = symbols('E')\n",
    "omega, k, c = symbols(r'\\omega k c')\n",
    "eps_r, M = symbols(r'\\epsilon_r M')\n",
    "omega_m, k_m = symbols(r'\\omega_m k_m')\n",
    "mu_0, eps_0 = symbols(r'\\mu_0 \\epsilon_0', real=True)\n",
    "n_0 = symbols('n_0')\n",
    "phi_s = symbols(r'\\phi')\n",
    "\n",
    "EQ = Derivative(E, z, 2) - mu_0*eps_0*Derivative(eps_r*E, t, 2)\n",
    "\n",
    "display(Math('EQ = ' + latex(EQ)))\n",
    "\n",
    "BlochFact = exp(I*omega*t-I*k*z)\n",
    "EQ = EQ.subs(E, E*BlochFact)\n",
    "display(Math('EQ = ' + latex(EQ)))\n",
    "\n",
    "harmonic = exp(n_0*I*(omega_m*t-k_m*z))\n",
    "\n",
    "pde_FB = PDEFourierSeriesND(EQ, [E, eps_r], n_dim=1, harmonic=harmonic, usexyz=False)\n",
    "\n",
    "EQ_harm = pde_FB.putSums()#.doit()\n",
    "display(Math('EQ_\\\\text{harm} = ' + latex(EQ_harm)))\n",
    "\n",
    "EQ_harm = EQ_harm.doit()\n",
    "display(Math('EQ_\\\\text{harm} = ' + latex(EQ_harm)))\n",
    "\n",
    "EQ_harm = pde_FB.applyConvolutions(EQ_harm)\n",
    "display(Math('EQ_\\\\text{harm} = ' + latex(EQ_harm)))\n",
    "\n",
    "EQ_harm = (pde_FB.applyOrthogonalities(EQ_harm)/BlochFact).simplify()\n",
    "display(Math('EQ_\\\\text{harm} = ' + latex(EQ_harm)))\n",
    "\n",
    "E_tilde, eps_r_tilde = pde_FB.varsHarm\n",
    "display(Math(latex(E_tilde) + '~~~~' + latex(eps_r_tilde)))\n",
    "\n",
    "Omega, K = symbols(r'\\Omega K')\n",
    "\n",
    "K_sub = k*k_m + omega*omega_m\n",
    "Omega_sub = -k*omega_m + omega*k_m\n",
    "display(Math('K = ' + latex(K_sub)))\n",
    "display(Math(r'\\Omega = ' + latex(Omega_sub)))\n",
    "#phi_s_sub = np.arccos(d_k/(d_k**2 + d_wc**2))\n",
    "\n",
    "k_omega_sub = solve([K_sub-K, Omega_sub-Omega], [k, omega])\n",
    "k_sub = k_omega_sub[k]\n",
    "omega_sub = k_omega_sub[omega]\n",
    "\n",
    "\n",
    "display(Math('k = ' + latex(k_sub)))\n",
    "display(Math(r'\\omega = ' + latex(omega_sub)))\n",
    "\n",
    "\n",
    "EQ_harm_kw = EQ_harm\n",
    "EQ_harm_KW = EQ_harm.subs([(k, k_sub), (omega, omega_sub)])\n",
    "display(Math('EQ_\\\\text{harm} = ' + latex(EQ_harm_KW)))\n",
    "\n",
    "EQ_harm_kw = EQ_harm_kw.subs([(eps_0, 1), (mu_0, 1), (omega_m, d_wc), (k_m, d_k)])\n",
    "EQ_harm_KW = EQ_harm_KW.subs([(eps_0, 1), (mu_0, 1), (omega_m, d_wc), (k_m, d_k)])\n",
    "omega_sub_fun = lambdify((K, Omega), omega_sub.subs([(omega_m, d_wc), (k_m, d_k)]), modules='numpy')\n",
    "k_sub_fun = lambdify((K, Omega), k_sub.subs([(omega_m, d_wc), (k_m, d_k)]), modules='numpy')\n",
    "Omega_sub_fun = lambdify((k, omega), Omega_sub.subs([(omega_m, d_wc), (k_m, d_k)]), modules='numpy')\n",
    "K_sub_fun = lambdify((k, omega), K_sub.subs([(omega_m, d_wc), (k_m, d_k)]), modules='numpy')\n",
    "\n",
    "n_sym, m = symbols('n m')\n",
    "\n",
    "## c=1 ---> w, w_m normalized to c\n",
    "eq_KW = (k-m*k_m) - (omega-m*omega_m)*n_sym\n",
    "display(Math(r'k(\\omega) = ' + latex(eq_KW)))\n",
    "eq_KW = eq_KW.subs([(k, k_sub), (omega, omega_sub)])\n",
    "display(Math(r'K(\\Omega) = ' + latex(eq_KW)))\n",
    "Omega__K_p = solve(eq_KW, Omega)[0]\n",
    "K__Omega_p = solve(eq_KW, K)[0]\n",
    "display(Math(r'\\Omega(K)^+ = ' + latex(Omega__K_p)))\n",
    "display(Math(r'K(\\Omega)^+ = ' + latex(K__Omega_p)))\n",
    "\n",
    "eq_KW = (k-m*k_m) + (omega-m*omega_m)*n_sym\n",
    "display(Math(r'k(\\omega) = ' + latex(eq_KW)))\n",
    "eq_KW = eq_KW.subs([(k, k_sub), (omega, omega_sub)])\n",
    "display(Math(r'K(\\Omega) = ' + latex(eq_KW)))\n",
    "Omega__K_m = solve(eq_KW, Omega)[0]\n",
    "K__Omega_m = solve(eq_KW, K)[0]\n",
    "display(Math(r'\\Omega(K)^- = ' + latex(Omega__K_m)))\n",
    "display(Math(r'K(\\Omega)^- = ' + latex(K__Omega_m)))\n",
    "\n",
    "Omega__K_p_fun = lambdify((K, m), Omega__K_p.subs([(omega_m, d_wc), (k_m, d_k), (n_sym, n)]), modules='numpy')\n",
    "Omega__K_m_fun = lambdify((K, m), Omega__K_m.subs([(omega_m, d_wc), (k_m, d_k), (n_sym, n)]), modules='numpy')\n",
    "K__Omega_p_fun = lambdify((Omega, m), K__Omega_p.subs([(omega_m, d_wc), (k_m, d_k), (n_sym, n)]), modules='numpy')\n",
    "K__Omega_m_fun = lambdify((Omega, m), K__Omega_m.subs([(omega_m, d_wc), (k_m, d_k), (n_sym, n)]), modules='numpy')\n",
    "\n",
    "eq_kw = (k-m*k_m) - (omega-m*omega_m)*n_sym\n",
    "omega__k_p = solve(eq_kw, omega)[0]\n",
    "k__omega_p = solve(eq_kw, k)[0]\n",
    "display(Math(r'\\omega(k)^+ = ' + latex(omega__k_p)))\n",
    "display(Math(r'k(\\omega)^+ = ' + latex(k__omega_p)))\n",
    "\n",
    "eq_kw = (k-m*k_m) + (omega-m*omega_m)*n_sym\n",
    "omega__k_m = solve(eq_kw, omega)[0]\n",
    "k__omega_m = solve(eq_kw, k)[0]\n",
    "display(Math(r'\\omega(k)^- = ' + latex(omega__k_m)))\n",
    "display(Math(r'k(\\omega)^- = ' + latex(k__omega_m)))\n",
    "\n",
    "omega__k_p_fun = lambdify((k, m), omega__k_p.subs([(omega_m, d_wc), (k_m, d_k), (n_sym, n)]), modules='numpy')\n",
    "omega__k_m_fun = lambdify((k, m), omega__k_m.subs([(omega_m, d_wc), (k_m, d_k), (n_sym, n)]), modules='numpy')\n",
    "k__omega_p_fun = lambdify((omega, m), k__omega_p.subs([(omega_m, d_wc), (k_m, d_k), (n_sym, n)]), modules='numpy')\n",
    "k__omega_m_fun = lambdify((omega, m), k__omega_m.subs([(omega_m, d_wc), (k_m, d_k), (n_sym, n)]), modules='numpy')\n",
    "\n",
    "m0, m1 = symbols('m_0 m_1')\n",
    "k_m0m1 = solve((omega__k_p.subs(m, m0)-omega__k_m.subs(m, m1)), k)[0]\n",
    "display(Math(r'k_{m0m1} = ' + latex(k_m0m1)))\n",
    "k_m0m1_fun = lambdify((m0, m1), k_m0m1.subs([(omega_m, d_wc), (k_m, d_k), (n_sym, n)]), modules='numpy')\n",
    "\n",
    "## Brillouine zone intersections\n",
    "#p1 = [d_k, d_w/c]/2, p2= p1 + [-p1_y, p1_x]\n",
    "eq_bz_m = (k+k_m/2)/omega_m + (omega+omega_m/2)/k_m\n",
    "display(Math(r'eq_{bz}^- = ' + latex(eq_bz_m)))\n",
    "\n",
    "k_intsect_bzm_p = solve(omega__k_p - solve(eq_bz_m, omega)[0], k)[0]\n",
    "display(Math(r'intersection~~k_{bz^-}^+ = ' + latex(k_intsect_bzm_p)))\n",
    "k_intsect_bzm_m = solve(omega__k_m - solve(eq_bz_m, omega)[0], k)[0]\n",
    "display(Math(r'intersection~~k_{bz^-}^- = ' + latex(k_intsect_bzm_m)))\n",
    "\n",
    "k_intsect_bzm_p_fun = lambdify(m, k_intsect_bzm_p.subs([(omega_m, d_wc), (k_m, d_k), (n_sym, n)]), modules='numpy')\n",
    "k_intsect_bzm_m_fun = lambdify(m, k_intsect_bzm_m.subs([(omega_m, d_wc), (k_m, d_k), (n_sym, n)]), modules='numpy')\n",
    "\n",
    "print('k_intsect_bzm_p(m=0)', k_intsect_bzm_p_fun(0))\n",
    "print('k_intsect_bzm_m(m=0)', k_intsect_bzm_m_fun(0))\n"
   ]
  },
  {
   "cell_type": "markdown",
   "metadata": {},
   "source": [
    "### Scattering"
   ]
  },
  {
   "cell_type": "code",
   "execution_count": 4,
   "metadata": {
    "collapsed": false
   },
   "outputs": [],
   "source": [
    "### set omega  get k\n",
    "\n",
    "Ns = [16]\n",
    "#print(d_wc)\n",
    "M_ratio = 0.02\n",
    "eps_r_harm_vec = None\n",
    "\n",
    "def eps_r_fun(x):\n",
    "    z_ = x[0]\n",
    "    #return n**2*(1.0+M_ratio*np.cos(d_k*z_))  ## subluminal\n",
    "    return n**2*(1.0+M_ratio*np.cos(d_w*z_))   ## superluminal\n",
    "\n",
    "def get_eps_r_harmonics(Ns):\n",
    "    #eps_r_harm_vec = pde_FB.getFourierCoeffs(eps_r_fun, [0.0], [(2.0*np.pi)/d_k], Ns)    ## subluminal\n",
    "    eps_r_harm_vec = pde_FB.getFourierCoeffs(eps_r_fun, [0.0], [(2.0*np.pi)/d_w], Ns)    ## superluminal\n",
    "    return eps_r_harm_vec\n",
    "\n",
    "#w_i = 0.259054      ## for phi=-2 degrees, first bandgap\n",
    "w_i = 0.99           ## for phi=+2 degrees, second bandgap\n",
    "\n",
    "A_mat_list = None\n",
    "\n",
    "def set_matrices_list(w_i, Ns):\n",
    "    eps_r_harm_vec = get_eps_r_harmonics(Ns)\n",
    "    \n",
    "    EQ_fin = EQ_harm_kw.subs([(omega, w_i)])\n",
    "\n",
    "    expr_list = [EQ_fin]\n",
    "    vars = [E_tilde]\n",
    "    pars = [eps_r_tilde]\n",
    "    pars_vecs = [eps_r_harm_vec]\n",
    "    eig_vars = [k]\n",
    "    pde_FB.setupNumericalParameters(expr_list, Ns, vars, pars, pars_vecs, eig_vars)\n",
    "    pde_FB.calculateDenseMatrices = True\n",
    "\n",
    "    A_mat_list = pde_FB.orthogonalToNumpyMatrix()\n",
    "    return A_mat_list\n",
    "\n",
    "A_mat_list = set_matrices_list(w_i, Ns)\n",
    "\n"
   ]
  },
  {
   "cell_type": "code",
   "execution_count": 5,
   "metadata": {
    "collapsed": false
   },
   "outputs": [
    {
     "name": "stderr",
     "output_type": "stream",
     "text": [
      "/home/nima/ipython workspace/Electromagnetics/FourierBlochND.py:1824: OptimizeWarning: Unknown solver options: ftol, maxiter\n",
      "  options={'maxfev':maxfev, 'maxiter':maxiter, 'ftol': ftol})\n"
     ]
    },
    {
     "name": "stdout",
     "output_type": "stream",
     "text": [
      "k_i, omega_i:  ((30.563716795582593+5.0994456453592923e-19j), 0.99) 1.07791786448e-14\n",
      "S =  [[ 3.39940809]]\n",
      "k_i, omega_i:  ((-30.563716795582597+4.1918552696687011e-17j), 0.99) 7.80795569154e-17\n",
      "S =  [[-3.39940809]]\n",
      "k_i, omega_i:  ((23.764229710348101-3.1187829785210152e-19j), 0.99) 1.68537610609e-17\n",
      "S =  [[ 3.39941018]]\n",
      "k_i, omega_i:  ((-23.764229710348104+3.3400456108086119e-17j), 0.99) 1.80119372546e-19\n",
      "S =  [[-3.39941018]]\n",
      "k_i, omega_i:  ((16.964745117153996-9.3149837779621978e-19j), 0.99) 6.04792231637e-21\n",
      "S =  [[ 3.3994153]]\n",
      "k_i, omega_i:  ((-16.964745117153996+1.0403635980990964e-16j), 0.99) 2.94044742357e-22\n",
      "S =  [[-3.3994153]]\n",
      "k_i, omega_i:  ((10.165269454750813+9.3597491094744621e-18j), 0.99) 4.30639256888e-23\n",
      "S =  [[ 3.39943435]]\n",
      "k_i, omega_i:  ((-10.165269454750813+2.92197292883924e-17j), 0.99) 3.07998254385e-24\n",
      "S =  [[-3.39943435]]\n",
      "k_i, omega_i:  ((3.3617550224722259-8.6055498432141597e-19j), 0.99) 6.55053837521e-26\n",
      "S =  [[ 3.02681472]]\n",
      "k_i, omega_i:  ((-3.3617550224722259+2.6826794402996249e-18j), 0.99) 1.06047326492e-26\n",
      "S =  [[-3.02681472]]\n",
      "k_i, omega_i:  ((-3.4377774131655761-7.3849848032845402e-19j), 0.99) 1.01168048793e-25\n",
      "S =  [[ 3.05401471]]\n",
      "k_i, omega_i:  ((3.4377774131655761+7.0971456460649559e-19j), 0.99) 1.6471453112e-26\n",
      "S =  [[-3.05401471]]\n",
      "k_i, omega_i:  ((-10.233264088338304+1.4718492121648747e-19j), 0.99) 4.11469431939e-27\n",
      "S =  [[ 3.39943395]]\n",
      "k_i, omega_i:  ((10.233264088338304-1.552389541578491e-19j), 0.99) 3.60424079125e-28\n",
      "S =  [[-3.39943395]]\n",
      "k_i, omega_i:  ((-17.032739939669877+3.695932209266875e-19j), 0.99) 1.13235076687e-30\n",
      "S =  [[ 3.39941521]]\n",
      "k_i, omega_i:  ((17.032739939669877-5.9570108189121158e-19j), 0.99) 7.64042421839e-32\n",
      "S =  [[-3.39941521]]\n",
      "k_i, omega_i:  ((-23.832224572715457+3.601164105525389e-19j), 0.99) 3.93654773018e-34\n",
      "S =  [[ 3.39941015]]\n",
      "k_i, omega_i:  ((23.832224572715457-3.5543270966938708e-19j), 0.99) 1.03611359294e-35\n",
      "S =  [[-3.39941015]]\n",
      "\n",
      " eig_points_k_p:  [(30.563716795582593+5.0994456453592923e-19j), (23.764229710348101-3.1187829785210152e-19j), (16.964745117153996-9.3149837779621978e-19j), (10.165269454750813+9.3597491094744621e-18j), (3.3617550224722259-8.6055498432141597e-19j), (-3.4377774131655761-7.3849848032845402e-19j), (-10.233264088338304+1.4718492121648747e-19j), (-17.032739939669877+3.695932209266875e-19j), (-23.832224572715457+3.601164105525389e-19j)]\n",
      "\n",
      " eig_points_k_m:  [(-30.563716795582597+4.1918552696687011e-17j), (-23.764229710348104+3.3400456108086119e-17j), (-16.964745117153996+1.0403635980990964e-16j), (-10.165269454750813+2.92197292883924e-17j), (-3.3617550224722259+2.6826794402996249e-18j), (3.4377774131655761+7.0971456460649559e-19j), (10.233264088338304-1.552389541578491e-19j), (17.032739939669877-5.9570108189121158e-19j), (23.832224572715457-3.5543270966938708e-19j)]\n"
     ]
    }
   ],
   "source": [
    "from Electromagnetics import Misc\n",
    "\n",
    "solver = 'hybr'\n",
    "maxiter = 4000\n",
    "maxfev = 4000\n",
    "tol = 1.0e-13\n",
    "\n",
    "A_eqs_list = [A_mat_list]\n",
    "\n",
    "\n",
    "sing_val_tol = 1.0e-5\n",
    "del_norm = 1.0e-5\n",
    "sig_small = 1.0e-1j\n",
    "\n",
    "_N_pp = 4\n",
    "\n",
    "def get_eig_points(w_i, Ns, _N_pp, A_eqs_list, vbose=False):\n",
    "\n",
    "    _N_2 = Ns[0]#int(Ns[0]/2)\n",
    "    d_dct = np.array([w_i+i*d_wc for i in range(-_N_2, _N_2)])\n",
    "\n",
    "    roots_prev = []\n",
    "    eig_points_k = []\n",
    "    eig_points_w = []\n",
    "    eig_vecs_E = []\n",
    "    eig_vecs_H = []\n",
    "\n",
    "    for j in range(-_N_pp, _N_pp+1):\n",
    "        eigvar_vals_0 = [k__omega_p_fun(w_i, j)-sig_small]\n",
    "        res = pde_FB.solveDeterminant(eigvar_vals_0, A_eqs_list, solver=solver, handle_overflow=True, \\\n",
    "                                      roots_prev=roots_prev, tol=tol, maxiter=maxiter, maxfev=maxfev,\\\n",
    "                                      getMats=True)\n",
    "\n",
    "        k_i = res[0][0]\n",
    "\n",
    "        if vbose:\n",
    "            print('k_i, omega_i: ', (k_i, w_i), np.abs(res[1][0]))\n",
    "        roots_prev.append([k_i])\n",
    "        eig_points_k.append(k_i)\n",
    "        eig_points_w.append(w_i)\n",
    "\n",
    "        A_mat = res[3][0]\n",
    "        rank, x_nulls, sing_vals = Misc.null(A_mat, rtol=sing_val_tol, forceRank=A_mat.shape[0]-1)\n",
    "        if not rank==A_mat.shape[0]-1:\n",
    "            print('rank: ', rank)\n",
    "            print(sing_vals)\n",
    "            assert False\n",
    "        eig_vecs_E.append(x_nulls.T)\n",
    "        if not np.linalg.norm(A_mat.dot(x_nulls))/np.linalg.norm(x_nulls)<del_norm:\n",
    "            print('|Ax|=', np.linalg.norm(A_mat.dot(x_nulls)), ' |x|=', np.linalg.norm(x_nulls))\n",
    "            print(res[2])\n",
    "\n",
    "        d_dz = -np.array([k_i+i*d_k for i in range(-_N_2, _N_2)])\n",
    "        H_vec = -x_nulls.T*d_dz/d_dct\n",
    "        eig_vecs_H.append(H_vec)\n",
    "        S_P = np.real(eig_vecs_E[-1].dot(np.conjugate(eig_vecs_H[-1]).T))\n",
    "        if vbose:\n",
    "            print('S = ', S_P)\n",
    "\n",
    "        if w_i==0.0 and j==0:\n",
    "            continue\n",
    "\n",
    "        eigvar_vals_0 = [k__omega_m_fun(w_i, j)+sig_small]\n",
    "        res = pde_FB.solveDeterminant(eigvar_vals_0, A_eqs_list, solver=solver, handle_overflow=True, \\\n",
    "                                      roots_prev=roots_prev, tol=tol, maxiter=maxiter, maxfev=maxfev,\\\n",
    "                                      getMats=True)\n",
    "\n",
    "        k_i = res[0][0]\n",
    "\n",
    "        if vbose:\n",
    "            print('k_i, omega_i: ', (k_i, w_i), np.abs(res[1][0]))\n",
    "        roots_prev.append([k_i])\n",
    "        eig_points_k.append(k_i)\n",
    "        eig_points_w.append(w_i)\n",
    "\n",
    "        A_mat = res[3][0]\n",
    "        rank, x_nulls, sing_vals = Misc.null(A_mat, rtol=sing_val_tol, forceRank=A_mat.shape[0]-1)\n",
    "        if not rank==A_mat.shape[0]-1:\n",
    "            print('rank: ', rank)\n",
    "            print(sing_vals)\n",
    "            assert False\n",
    "        eig_vecs_E.append(x_nulls.T)\n",
    "        if not np.linalg.norm(A_mat.dot(x_nulls))/np.linalg.norm(x_nulls)<del_norm:\n",
    "            print('|Ax|=', np.linalg.norm(A_mat.dot(x_nulls)), ' |x|=', np.linalg.norm(x_nulls))\n",
    "\n",
    "        d_dz = -np.array([k_i+i*d_k for i in range(-_N_2, _N_2)])\n",
    "        H_vec = -x_nulls.T*d_dz/d_dct\n",
    "        eig_vecs_H.append(H_vec)\n",
    "        S_P = np.real(eig_vecs_E[-1].dot(np.conjugate(eig_vecs_H[-1]).T))\n",
    "        if vbose:\n",
    "            print('S = ', S_P)\n",
    "\n",
    "    eig_points_k_p = []\n",
    "    eig_points_w_p = []\n",
    "    eig_vecs_E_p = []\n",
    "    eig_vecs_H_p = []\n",
    "\n",
    "    eig_points_k_m = []\n",
    "    eig_points_w_m = []\n",
    "    eig_vecs_E_m = []\n",
    "    eig_vecs_H_m = []\n",
    "\n",
    "    for i in range(len(eig_points_k)):\n",
    "        if np.abs(np.imag(eig_points_k[i]))<1.0e-10:\n",
    "            if np.real(eig_vecs_E[i].dot(np.conjugate(eig_vecs_H[i]).T))>=0:\n",
    "                eig_points_k_p.append(eig_points_k[i])\n",
    "                eig_points_w_p.append(eig_points_w[i])\n",
    "                eig_vecs_E_p.append(eig_vecs_E[i][0,:])\n",
    "                eig_vecs_H_p.append(eig_vecs_H[i][0,:])\n",
    "            else:\n",
    "                eig_points_k_m.append(eig_points_k[i])\n",
    "                eig_points_w_m.append(eig_points_w[i])\n",
    "                eig_vecs_E_m.append(eig_vecs_E[i][0,:])\n",
    "                eig_vecs_H_m.append(eig_vecs_H[i][0,:])\n",
    "        else:\n",
    "            if np.imag(eig_points_k[i])<=0:\n",
    "                eig_points_k_p.append(eig_points_k[i])\n",
    "                eig_points_w_p.append(eig_points_w[i])\n",
    "                eig_vecs_E_p.append(eig_vecs_E[i][0,:])\n",
    "                eig_vecs_H_p.append(eig_vecs_H[i][0,:])\n",
    "            else:\n",
    "                eig_points_k_m.append(eig_points_k[i])\n",
    "                eig_points_w_m.append(eig_points_w[i])\n",
    "                eig_vecs_E_m.append(eig_vecs_E[i][0,:])\n",
    "                eig_vecs_H_m.append(eig_vecs_H[i][0,:])\n",
    "\n",
    "\n",
    "    if vbose:\n",
    "        print('\\n eig_points_k_p: ', eig_points_k_p)\n",
    "        print('\\n eig_points_k_m: ', eig_points_k_m)\n",
    "\n",
    "    ##move inside BZ\n",
    "\n",
    "    eig_points_k_p_BZ = eig_points_k_p.copy()\n",
    "    eig_points_k_m_BZ = eig_points_k_m.copy()\n",
    "    eig_points_w_p_BZ = eig_points_w_p.copy()\n",
    "    eig_points_w_m_BZ = eig_points_w_m.copy()\n",
    "\n",
    "    for i in range(len(eig_points_k_p_BZ)):\n",
    "        _w_, _k_ = eig_points_w_p_BZ[i], eig_points_k_p_BZ[i]\n",
    "        _K_ = K_sub_fun(_k_.real, _w_.real)\n",
    "        while _K_>d_kw: \n",
    "            _w_ -= d_wc*np.sign(d_k)\n",
    "            _k_ -= d_k*np.sign(d_k)\n",
    "            _K_ = K_sub_fun(_k_.real, _w_.real)\n",
    "        while _K_<-d_kw:\n",
    "            _w_ += d_wc*np.sign(d_k)\n",
    "            _k_ += d_k*np.sign(d_k)\n",
    "            _K_ = K_sub_fun(_k_.real, _w_.real)\n",
    "        eig_points_w_p_BZ[i], eig_points_k_p_BZ[i] = _w_, _k_\n",
    "        _K_ = K_sub_fun(_k_.real, _w_.real)\n",
    "        assert -d_kw<=_K_<=d_kw\n",
    "    for i in range(len(eig_points_k_m_BZ)):\n",
    "        _w_, _k_ = eig_points_w_m_BZ[i], eig_points_k_m_BZ[i]\n",
    "        _K_ = K_sub_fun(_k_.real, _w_.real)\n",
    "        while _K_>d_kw:\n",
    "            _w_ -= d_wc*np.sign(d_k)\n",
    "            _k_ -= d_k*np.sign(d_k)\n",
    "            _K_ = K_sub_fun(_k_.real, _w_.real)\n",
    "        while _K_<-d_kw:\n",
    "            _w_ += d_wc*np.sign(d_k)\n",
    "            _k_ += d_k*np.sign(d_k)\n",
    "            _K_ = K_sub_fun(_k_.real, _w_.real)\n",
    "        eig_points_w_m_BZ[i], eig_points_k_m_BZ[i] = _w_, _k_\n",
    "        _K_ = K_sub_fun(_k_.real, _w_.real)\n",
    "        assert -d_kw<=_K_<=d_kw\n",
    "\n",
    "    return [eig_points_k, eig_points_w, eig_vecs_E, eig_vecs_H], \\\n",
    "        [eig_points_k_p, eig_points_w_p, eig_vecs_E_p, eig_vecs_H_p], \\\n",
    "        [eig_points_k_m, eig_points_w_m, eig_vecs_E_m, eig_vecs_H_m], \\\n",
    "        [eig_points_k_p_BZ, eig_points_k_m_BZ, eig_points_w_p_BZ, eig_points_w_m_BZ]\n",
    "\n",
    "[eig_points_k, eig_points_w, eig_vecs_E, eig_vecs_H], \\\n",
    "[eig_points_k_p, eig_points_w_p, eig_vecs_E_p, eig_vecs_H_p], \\\n",
    "[eig_points_k_m, eig_points_w_m, eig_vecs_E_m, eig_vecs_H_m], \\\n",
    "[eig_points_k_p_BZ, eig_points_k_m_BZ, eig_points_w_p_BZ, eig_points_w_m_BZ] = get_eig_points(w_i, Ns, _N_pp, A_eqs_list, True)\n",
    "\n",
    "\n"
   ]
  },
  {
   "cell_type": "code",
   "execution_count": 6,
   "metadata": {
    "collapsed": false
   },
   "outputs": [
    {
     "name": "stdout",
     "output_type": "stream",
     "text": [
      "(32,)\n",
      "linearly_dep:  []\n",
      "To remove:  []\n",
      "eig_points_k_p :  [(30.563716795582593+5.0994456453592923e-19j), (23.764229710348101-3.1187829785210152e-19j), (16.964745117153996-9.3149837779621978e-19j), (10.165269454750813+9.3597491094744621e-18j), (3.3617550224722259-8.6055498432141597e-19j), (-3.4377774131655761-7.3849848032845402e-19j), (-10.233264088338304+1.4718492121648747e-19j), (-17.032739939669877+3.695932209266875e-19j), (-23.832224572715457+3.601164105525389e-19j)]\n",
      "9\n",
      "--------------------------------------------------\n",
      "linearly_dep:  []\n",
      "To remove:  []\n",
      "eig_points_k_m :  [(-30.563716795582597+4.1918552696687011e-17j), (-23.764229710348104+3.3400456108086119e-17j), (-16.964745117153996+1.0403635980990964e-16j), (-10.165269454750813+2.92197292883924e-17j), (-3.3617550224722259+2.6826794402996249e-18j), (3.4377774131655761+7.0971456460649559e-19j), (10.233264088338304-1.552389541578491e-19j), (17.032739939669877-5.9570108189121158e-19j), (23.832224572715457-3.5543270966938708e-19j)]\n",
      "9\n"
     ]
    },
    {
     "name": "stderr",
     "output_type": "stream",
     "text": [
      "/usr/local/lib/python3.5/dist-packages/ipykernel/__main__.py:35: RuntimeWarning: invalid value encountered in true_divide\n",
      "/usr/local/lib/python3.5/dist-packages/ipykernel/__main__.py:35: RuntimeWarning: divide by zero encountered in true_divide\n",
      "/usr/local/lib/python3.5/dist-packages/ipykernel/__main__.py:35: RuntimeWarning: invalid value encountered in multiply\n",
      "/usr/local/lib/python3.5/dist-packages/ipykernel/__main__.py:101: RuntimeWarning: invalid value encountered in true_divide\n",
      "/usr/local/lib/python3.5/dist-packages/ipykernel/__main__.py:101: RuntimeWarning: divide by zero encountered in true_divide\n",
      "/usr/local/lib/python3.5/dist-packages/ipykernel/__main__.py:101: RuntimeWarning: invalid value encountered in multiply\n"
     ]
    }
   ],
   "source": [
    "##check linear dependence\n",
    "\"\"\"\n",
    "E0_E1 = eig_vecs_E_p[0]/np.roll(eig_vecs_E_p[1], np.argmax(np.abs(eig_vecs_E_p[0]))-np.argmax(np.abs(eig_vecs_E_p[1])))\n",
    "plot(np.log10(np.abs(eig_vecs_E_p[0])))\n",
    "plot(np.log10(np.abs(E0_E1)))\n",
    "ylim([-10, 5])\n",
    "grid()\n",
    "\"\"\"\n",
    "\n",
    "\n",
    "def check_linear_dependence(vbose=False):\n",
    "    if vbose:\n",
    "        print(eig_vecs_E_p[0].shape)\n",
    "    _small_ = 1.0e-10\n",
    "    n_elem = eig_vecs_E_p[0].shape[0]\n",
    "\n",
    "    linearly_dep =[]\n",
    "\n",
    "    for i in range(len(eig_points_k_p)):\n",
    "        E_i = (np.abs(eig_vecs_E_p[i])>_small_*np.linalg.norm(eig_vecs_E_p[i]))*eig_vecs_E_p[i]\n",
    "        E_i_nnz = (E_i!=0.0)\n",
    "        s_i = np.argmax(np.abs(E_i))\n",
    "        for j in range(i+1, len(eig_points_k_p)):\n",
    "            E_j = (np.abs(eig_vecs_E_p[j])>_small_*np.linalg.norm(eig_vecs_E_p[j]))*eig_vecs_E_p[j]\n",
    "\n",
    "            E_j_max_inds = np.abs(E_j)>0.9*np.max(np.abs(E_j))\n",
    "            s_j_list = [_i_ for _i_ in range(len(E_j_max_inds)) if E_j_max_inds[_i_]==1]\n",
    "\n",
    "            for s_j in s_j_list:\n",
    "                E_j_s = np.roll(E_j, s_i-s_j)\n",
    "\n",
    "                E_j_nnz = (E_j_s!=0.0)\n",
    "                E_ij_nnz = np.logical_and(E_i_nnz, E_j_nnz)\n",
    "\n",
    "                Ei_Ejs = np.nan_to_num(E_ij_nnz*(E_i/E_j_s))\n",
    "                Ei_Ejs_max = Ei_Ejs[np.argmax(np.abs(Ei_Ejs))]\n",
    "                #print(Ei_Ejs)\n",
    "\n",
    "                if abs(Ei_Ejs_max)>0.0:\n",
    "                    norm_p = np.linalg.norm(E_ij_nnz*(np.ones(n_elem)) - (Ei_Ejs/Ei_Ejs_max))\n",
    "                    norm_m = np.linalg.norm(E_ij_nnz*(np.ones(n_elem)) + (Ei_Ejs/Ei_Ejs_max))\n",
    "\n",
    "                    assert not np.isnan(norm_p)\n",
    "                    assert not np.isnan(norm_m)\n",
    "\n",
    "                    if min([norm_p, norm_m])<1.0e-5:\n",
    "                        found = False\n",
    "                        for k in range(len(linearly_dep)):\n",
    "                            if i in linearly_dep[k]:\n",
    "                                if j not in linearly_dep[k]:\n",
    "                                    linearly_dep[k].append(j)\n",
    "                                found = True\n",
    "                        if not found:\n",
    "                            linearly_dep.append([i, j])\n",
    "                        break\n",
    "\n",
    "    if vbose:\n",
    "        print('linearly_dep: ', linearly_dep)\n",
    "\n",
    "    ind_remove = []\n",
    "    for i in range (len(linearly_dep)):\n",
    "        ld_sorted = sorted(linearly_dep[i])\n",
    "        ind_remove.extend(ld_sorted[1:])\n",
    "\n",
    "    if vbose:\n",
    "        print('To remove: ', ind_remove)\n",
    "\n",
    "    ind_remove = sorted(list(set(ind_remove)), reverse=True)\n",
    "    for i in range(len(ind_remove)):\n",
    "        del eig_points_k_p[ind_remove[i]]\n",
    "        del eig_points_w_p[ind_remove[i]]\n",
    "        del eig_vecs_E_p[ind_remove[i]]\n",
    "        del eig_vecs_H_p[ind_remove[i]]\n",
    "\n",
    "\n",
    "    if vbose:\n",
    "        print('eig_points_k_p : ', eig_points_k_p)\n",
    "        print(len(eig_points_k_p))\n",
    "\n",
    "    ###-----------\n",
    "    if vbose:\n",
    "        print('-'*50)\n",
    "    linearly_dep =[]\n",
    "\n",
    "    for i in range(len(eig_points_k_m)):\n",
    "        E_i = (np.abs(eig_vecs_E_m[i])>_small_*np.linalg.norm(eig_vecs_E_m[i]))*eig_vecs_E_m[i]\n",
    "        E_i_nnz = (E_i!=0.0)\n",
    "        s_i = np.argmax(np.abs(E_i))\n",
    "        for j in range(i+1, len(eig_points_k_m)):\n",
    "            E_j = (np.abs(eig_vecs_E_m[j])>_small_*np.linalg.norm(eig_vecs_E_m[j]))*eig_vecs_E_m[j]\n",
    "\n",
    "            E_j_max_inds = np.abs(E_j)>0.9*np.max(np.abs(E_j))\n",
    "            s_j_list = [_i_ for _i_ in range(len(E_j_max_inds)) if E_j_max_inds[_i_]==1]\n",
    "\n",
    "            for s_j in s_j_list:\n",
    "                E_j_s = np.roll(E_j, s_i-s_j)\n",
    "\n",
    "                E_j_nnz = (E_j_s!=0.0)\n",
    "                E_ij_nnz = np.logical_and(E_i_nnz, E_j_nnz)\n",
    "\n",
    "                Ei_Ejs = np.nan_to_num(E_ij_nnz*(E_i/E_j_s))\n",
    "                Ei_Ejs_max = Ei_Ejs[np.argmax(np.abs(Ei_Ejs))]\n",
    "                #print(Ei_Ejs)\n",
    "\n",
    "                if abs(Ei_Ejs_max)>0.0:\n",
    "                    norm_p = np.linalg.norm(E_ij_nnz*(np.ones(n_elem)) - (Ei_Ejs/Ei_Ejs_max))\n",
    "                    norm_m = np.linalg.norm(E_ij_nnz*(np.ones(n_elem)) + (Ei_Ejs/Ei_Ejs_max))\n",
    "\n",
    "                    assert not np.isnan(norm_p)\n",
    "                    assert not np.isnan(norm_m)\n",
    "\n",
    "                    if min([norm_p, norm_m])<1.0e-5:\n",
    "                        found = False\n",
    "                        for k in range(len(linearly_dep)):\n",
    "                            if i in linearly_dep[k]:\n",
    "                                if j not in linearly_dep[k]:\n",
    "                                    linearly_dep[k].append(j)\n",
    "                                found = True\n",
    "                        if not found:\n",
    "                            linearly_dep.append([i, j])\n",
    "                        break\n",
    "\n",
    "    if vbose:\n",
    "        print('linearly_dep: ', linearly_dep)\n",
    "\n",
    "    ind_remove = []\n",
    "    for i in range (len(linearly_dep)):\n",
    "        ld_sorted = sorted(linearly_dep[i])\n",
    "        ind_remove.extend(ld_sorted[1:])\n",
    "\n",
    "    if vbose:\n",
    "        print('To remove: ', ind_remove)\n",
    "\n",
    "    ind_remove = sorted(list(set(ind_remove)), reverse=True)\n",
    "    for i in range(len(ind_remove)):\n",
    "        del eig_points_k_m[ind_remove[i]]\n",
    "        del eig_points_w_m[ind_remove[i]]\n",
    "        del eig_vecs_E_m[ind_remove[i]]\n",
    "        del eig_vecs_H_m[ind_remove[i]]\n",
    "\n",
    "\n",
    "    if vbose:\n",
    "        print('eig_points_k_m : ', eig_points_k_m)\n",
    "        print(len(eig_points_k_m))\n",
    "\n",
    "check_linear_dependence(vbose=True)\n"
   ]
  },
  {
   "cell_type": "code",
   "execution_count": 8,
   "metadata": {
    "collapsed": false
   },
   "outputs": [
    {
     "data": {
      "image/png": "[encoded data removed]",
      "text/plain": [
       "<matplotlib.figure.Figure at 0x7feb8d4cd2e8>"
      ]
     },
     "metadata": {},
     "output_type": "display_data"
    },
    {
     "data": {
      "image/png": "[encoded data removed]",
      "text/plain": [
       "<matplotlib.figure.Figure at 0x7feb56850748>"
      ]
     },
     "metadata": {},
     "output_type": "display_data"
    },
    {
     "data": {
      "image/png": "[encoded data removed]",
      "text/plain": [
       "<matplotlib.figure.Figure at 0x7feb567da828>"
      ]
     },
     "metadata": {},
     "output_type": "display_data"
    },
    {
     "data": {
      "image/png": "[encoded data removed]",
      "text/plain": [
       "<matplotlib.figure.Figure at 0x7feb565a0e80>"
      ]
     },
     "metadata": {},
     "output_type": "display_data"
    },
    {
     "name": "stderr",
     "output_type": "stream",
     "text": [
      "/usr/local/lib/python3.5/dist-packages/numpy/core/numeric.py:531: ComplexWarning: Casting complex values to real discards the imaginary part\n",
      "  return array(a, dtype, copy=False, order=order)\n"
     ]
    },
    {
     "data": {
      "image/png": "[encoded data removed]",
      "text/plain": [
       "<matplotlib.figure.Figure at 0x7feb56696cc0>"
      ]
     },
     "metadata": {},
     "output_type": "display_data"
    },
    {
     "name": "stdout",
     "output_type": "stream",
     "text": [
      "4 (3.36175502247-8.60554984321e-19j)\n"
     ]
    },
    {
     "data": {
      "image/png": "[encoded data removed]",
      "text/plain": [
       "<matplotlib.figure.Figure at 0x7feb564daa90>"
      ]
     },
     "metadata": {},
     "output_type": "display_data"
    }
   ],
   "source": [
    "## slab\n",
    "\n",
    "lambda_g = 2.0*np.pi/(w_i*n)\n",
    "\n",
    "z_0 = 0.0     ## later assumed z_0=0\n",
    "z_1 = 10.0*lambda_g\n",
    "n_0 = 1.0\n",
    "n_1 = 1.0\n",
    "\n",
    "excitation_from_right_side = False\n",
    "#if phi>0.0:\n",
    "#    excitation_from_right_side = True\n",
    "\n",
    "w_Er = None \n",
    "_N_2 = Ns[0]\n",
    "\n",
    "def solveSlab(Ns, w_i, z_0, z_1, vbose=False):\n",
    "    global w_Er\n",
    "    _N_2 = Ns[0]\n",
    "    \n",
    "    N_mode_p = len(eig_points_k_p)\n",
    "    N_mode_m = len(eig_points_k_m)\n",
    "    if N_mode_p>N_mode_m:\n",
    "        for i in range(N_mode_p-N_mode_m):\n",
    "            del eig_points_k_p[-1]\n",
    "            del eig_points_w_p[-1]\n",
    "            del eig_vecs_E_p[-1]\n",
    "            del eig_vecs_H_p[-1]\n",
    "    elif N_mode_m>N_mode_p:\n",
    "        for i in range(N_mode_m-N_mode_p):\n",
    "            del eig_points_k_m[-1]\n",
    "            del eig_points_w_m[-1]\n",
    "            del eig_vecs_E_m[-1]\n",
    "            del eig_vecs_H_m[-1]\n",
    "\n",
    "    N_mode_p = len(eig_points_k_p)\n",
    "    N_mode_m = len(eig_points_k_m)\n",
    "\n",
    "    assert N_mode_p==N_mode_m\n",
    "\n",
    "    N_mode = int((N_mode_p + N_mode_m)/2)\n",
    "    N_mode_2 = int(N_mode/2)\n",
    "    w_Er = np.array([w_i+(i-N_mode_2)*d_wc for i in range(N_mode)])   ## reflected and transmitted frequencies\n",
    "    if vbose:\n",
    "        print('w_Er: ', w_Er)\n",
    "\n",
    "    Hr_Er_w = -n_0*np.ones(N_mode)    ## H_r(w)/E_r(w)\n",
    "    Ht_Et_w = n_1*np.ones(N_mode)    ## H_t(w)/E_t(w)\n",
    "    Ei_w = np.zeros(N_mode); Ei_w[N_mode_2]=1.0\n",
    "    Hi_Ei_w = n_0*np.ones(N_mode) \n",
    "    Hi_w = Hi_Ei_w*Ei_w\n",
    "    if vbose:\n",
    "        print('Hr_Er: ', Hr_Er_w)\n",
    "        print('Ei   : ', Ei_w)\n",
    "        print('Hi   : ', Hi_w)\n",
    "\n",
    "    k_arr = np.array([(i-_N_2)*d_k for i in range(2*_N_2)])\n",
    "    e_jkpd = [None]*N_mode_p\n",
    "    for i in range(N_mode_p):\n",
    "        e_jkpd[i] = np.exp(-1j*(eig_points_k_p[i]+k_arr)*(z_1-z_0))\n",
    "    e_jkmd = [None]*N_mode_m\n",
    "    for i in range(N_mode_m):\n",
    "        e_jkmd[i] = np.exp(-1j*(eig_points_k_m[i]+k_arr)*(z_1-z_0))\n",
    "\n",
    "    A = np.zeros((4*N_mode, 4*N_mode), dtype=complex)\n",
    "    rhs = np.zeros(4*N_mode, dtype=complex)\n",
    "\n",
    "    ind_r = lambda w_i: w_i\n",
    "    ind_t = lambda w_i: w_i+N_mode\n",
    "    ind_sp = lambda w_i: w_i+2*N_mode\n",
    "    ind_sm = lambda w_i: w_i+3*N_mode\n",
    "    ind_iw_sp = lambda w_i: i_w-N_mode_2+_N_2\n",
    "    ind_iw_sm = lambda w_i: i_w-N_mode_2+_N_2\n",
    "\n",
    "    for i_w in range(N_mode):  ## iterate over frequencies\n",
    "        A[ind_r(i_w), ind_r(i_w)] = -1.0\n",
    "        A[ind_t(i_w), ind_t(i_w)] =  1.0\n",
    "        A[ind_sp(i_w), ind_r(i_w)] = -Hr_Er_w[i_w]\n",
    "        A[ind_sm(i_w), ind_t(i_w)] =  Ht_Et_w[i_w]\n",
    "\n",
    "        rhs[ind_r(i_w)] = Ei_w[i_w]\n",
    "        rhs[ind_sp(i_w)] = Hi_w[i_w]\n",
    "        for i_m in range(N_mode): ## iterate over modes\n",
    "            if d_wc!=0.0:\n",
    "                #left wall E_left(w_i) = E_right(w_i)\n",
    "                A[ind_r(i_w), ind_sp(i_m)] =  eig_vecs_E_p[i_m][ind_iw_sp(i_w)]\n",
    "                A[ind_r(i_w), ind_sm(i_m)] =  eig_vecs_E_m[i_m][ind_iw_sm(i_w)]\n",
    "                #right wall E_left(w_i) = E_right(w_i)\n",
    "                A[ind_t(i_w), ind_sp(i_m)] =  -(eig_vecs_E_p[i_m]*e_jkpd[i_m])[ind_iw_sp(i_w)]\n",
    "                A[ind_t(i_w), ind_sm(i_m)] =  -(eig_vecs_E_m[i_m]*e_jkmd[i_m])[ind_iw_sm(i_w)]\n",
    "\n",
    "                #left wall H_left(w_i) = H_right(w_i)\n",
    "                A[ind_sp(i_w), ind_sp(i_m)] =  eig_vecs_H_p[i_m][ind_iw_sp(i_w)]\n",
    "                A[ind_sp(i_w), ind_sm(i_m)] =  eig_vecs_H_m[i_m][ind_iw_sm(i_w)]\n",
    "                #right wall H_left(w_i) = H_right(w_i)\n",
    "                A[ind_sm(i_w), ind_sp(i_m)] =  -(eig_vecs_H_p[i_m]*e_jkpd[i_m])[ind_iw_sp(i_w)]\n",
    "                A[ind_sm(i_w), ind_sm(i_m)] =  -(eig_vecs_H_m[i_m]*e_jkmd[i_m])[ind_iw_sm(i_w)]\n",
    "            else:\n",
    "                #left wall E_left(w_i) = E_right(w_i)\n",
    "                A[ind_r(i_w), ind_sp(i_m)] =  np.sum(eig_vecs_E_p[i_m])\n",
    "                A[ind_r(i_w), ind_sm(i_m)] =  np.sum(eig_vecs_E_m[i_m])\n",
    "                #right wall E_left(w_i) = E_right(w_i)\n",
    "                A[ind_t(i_w), ind_sp(i_m)] =  -np.sum(eig_vecs_E_p[i_m]*e_jkpd[i_m])\n",
    "                A[ind_t(i_w), ind_sm(i_m)] =  -np.sum(eig_vecs_E_m[i_m]*e_jkmd[i_m])\n",
    "\n",
    "                #left wall H_left(w_i) = H_right(w_i)\n",
    "                A[ind_sp(i_w), ind_sp(i_m)] =  np.sum(eig_vecs_H_p[i_m])\n",
    "                A[ind_sp(i_w), ind_sm(i_m)] =  np.sum(eig_vecs_H_m[i_m])\n",
    "                #right wall H_left(w_i) = H_right(w_i)\n",
    "                A[ind_sm(i_w), ind_sp(i_m)] =  -np.sum(eig_vecs_H_p[i_m]*e_jkpd[i_m])\n",
    "                A[ind_sm(i_w), ind_sm(i_m)] =  -np.sum(eig_vecs_H_m[i_m]*e_jkmd[i_m])\n",
    "\n",
    "    #print('A: \\n', A)\n",
    "    #print('rhs: ', rhs)\n",
    "    #print('eig_vecs_E_p: ', eig_vecs_E_p)\n",
    "    #print('ind_iw_sp(i_w)', ind_iw_sp(0))    \n",
    "\n",
    "    x = np.linalg.solve(A, rhs)\n",
    "\n",
    "    if vbose:\n",
    "        print('|x|: ', np.abs(x))\n",
    "    return x\n",
    "\n",
    "x = solveSlab(Ns, w_i, z_0, z_1)\n",
    "assert len(x)%4==0\n",
    "N_mode = int(len(x)/4)\n",
    "N_mode_2 = int(N_mode/2)\n",
    "\n",
    "\n",
    "font = {'family' : 'serif', 'weight' : 'normal', 'size'   : 16}\n",
    "matplotlib.rc('font', **font)\n",
    "\n",
    "\n",
    "figsize(10, 4)\n",
    "plot(np.arange(4*N_mode), 20*np.log10(np.abs(x)), 'ro')\n",
    "vlines(np.arange(4*N_mode), -100*np.ones(4*N_mode), (20*np.log10(np.abs(x))))\n",
    "ylim([-80, 10.0])\n",
    "grid()\n",
    "show()\n",
    "\n",
    "    \n",
    "figsize(4, 4)\n",
    "w_scaled = (w_Er-w_i)/abs(d_wc)\n",
    "x_R = x[0:N_mode]\n",
    "x_T = x[N_mode:2*N_mode]\n",
    "plot(w_scaled, 20*np.log10(np.abs(x_R)), 'bo')\n",
    "plot(w_scaled, 20*np.log10(np.abs(x_T)), 'rd')\n",
    "vlines(w_scaled, -100*np.ones(N_mode), (20*np.log10(np.abs(x_R))), linewidth=2, color='b', label='$R$')\n",
    "vlines(w_scaled, -100*np.ones(N_mode), (20*np.log10(np.abs(x_T))), linewidth=1, color='r', label='$T$')\n",
    "xlabel(r'$(\\omega-\\omega_0)/\\omega_m$', fontsize=18)\n",
    "ylabel(r'$T, R$ (dB)', fontsize=18)\n",
    "xlim([-2.5, 2.5])\n",
    "ylim([-100, 20.0])\n",
    "xticks(np.arange(-2, 3))\n",
    "yticks(np.arange(-100, 10, 20))\n",
    "legend(loc='upper left', fontsize=14)\n",
    "grid()\n",
    "savefig(os.path.join(dir_name, 'nondispersive-epsr-slab-RT' + file_ext), bbox_inches='tight', pad_inches=0.2)\n",
    "show()\n",
    "\n",
    "\n",
    "k_scaled = np.arange(N_mode)-N_mode_2\n",
    "x_SP = x[2*N_mode:3*N_mode]\n",
    "x_SM = x[3*N_mode:4*N_mode]\n",
    "if excitation_from_right_side:\n",
    "    k_scaled = -k_scaled\n",
    "    x_SP = x[3*N_mode:4*N_mode]\n",
    "    x_SM = x[2*N_mode:3*N_mode]\n",
    "plot(k_scaled, 20*np.log10(np.abs(x_SP)), 'rd')\n",
    "plot(k_scaled, 20*np.log10(np.abs(x_SM)), 'bo')\n",
    "vlines(k_scaled, -100*np.ones(N_mode), 20*np.log10(np.abs(x_SP)), linewidth=2, color='r', label=r'$v_g>0$')\n",
    "vlines(k_scaled, -100*np.ones(N_mode), 20*np.log10(np.abs(x_SM)), linewidth=1, color='b', label=r'$v_g<0$')\n",
    "xlabel(r'$p$', fontsize=18)\n",
    "ylabel(r'$|a_p|$ (dB)', fontsize=18)\n",
    "xlim([-2.5, 2.5])\n",
    "ylim([-100, 20.0])\n",
    "xticks(np.arange(-2, 3))\n",
    "yticks(np.arange(-100, 10, 20))\n",
    "legend(loc='upper left', fontsize=14)\n",
    "grid()\n",
    "savefig(os.path.join(dir_name, 'nondispersive-epsr-slab-modes' + file_ext), bbox_inches='tight', pad_inches=0.2)\n",
    "show()\n",
    "\n",
    "\n",
    "ind_mode_show_p = 0 + N_mode_2\n",
    "eig_vecs_E_p_show = eig_vecs_E_p[ind_mode_show_p]\n",
    "plot(np.arange(-_N_2, _N_2)*np.sign(d_wc), 20*np.log10(np.abs(eig_vecs_E_p_show)), 'ro')\n",
    "vlines(np.arange(-_N_2, _N_2)*np.sign(d_wc), -100*np.ones(N_mode), 20*np.log10(np.abs(eig_vecs_E_p_show)), linewidth=2, color='r')\n",
    "xlabel(r'$(\\omega-\\omega_0)/\\omega_m$', fontsize=18)\n",
    "ylabel(r'magnitude (dB)', fontsize=18)\n",
    "xlim([-2.5, 2.5])\n",
    "ylim([-100, 20])\n",
    "xticks(np.arange(-2, 3))\n",
    "yticks(np.arange(-100, 10, 20))\n",
    "grid()\n",
    "savefig(os.path.join(dir_name, 'nondispersive-epsr-slab-harmonics' + file_ext), bbox_inches='tight', pad_inches=0.2)\n",
    "show()\n",
    "\n",
    "eig_vecs_H_p_show = eig_vecs_H_p[ind_mode_show_p]\n",
    "plot(np.arange(-_N_2, _N_2)*np.sign(d_wc), eig_vecs_E_p_show/eig_vecs_H_p_show*n, 'go')\n",
    "vlines(np.arange(-_N_2, _N_2)*np.sign(d_wc), 0*np.ones(N_mode), eig_vecs_E_p_show/eig_vecs_H_p_show*n, linewidth=2, color='g')\n",
    "xlabel(r'$(\\omega-\\omega_0)/\\omega_m$', fontsize=18)\n",
    "ylabel(r'$n/n_0$', fontsize=18)\n",
    "xlim([-2.5, 2.5])\n",
    "#ylim([-100, 10])\n",
    "#yticks(np.arange(-100, 10, 20))\n",
    "grid()\n",
    "savefig(os.path.join(dir_name, 'nondispersive-epsr-slab-harmimpedance' + file_ext), bbox_inches='tight', pad_inches=0.2)\n",
    "show()\n",
    "\n",
    "\n",
    "figsize(6, 4)\n",
    "\n",
    "z = np.linspace(z_0, z_1/10, 500)\n",
    "k_p_show = eig_points_k_p[ind_mode_show_p]\n",
    "print(ind_mode_show_p, k_p_show)\n",
    "E_mode = np.zeros(len(z), dtype=complex)\n",
    "for m in range(-_N_2, _N_2):\n",
    "    E_mode += eig_vecs_E_p_show[m+_N_2]*np.exp(-1j*(k_p_show+m*d_k)*z)\n",
    "plot(z/lambda_g, np.real(E_mode))\n",
    "xlabel(r'$z/\\lambda$', fontsize=18)\n",
    "ylabel(r'$E(z)$', fontsize=18)\n",
    "xticks(np.arange(0, 30, 10))\n",
    "yticks(np.arange(-1, 2, 1))\n",
    "savefig(os.path.join(dir_name, 'nondispersive-epsr-slab-mode-profile' + file_ext), bbox_inches='tight', pad_inches=0.2)\n",
    "show()\n",
    "\n",
    "np.savez(os.path.join(dir_name, 'nondispersive-epsr-slab-RT'), x_R=x_R, x_T=x_T, w_scaled=w_scaled, w_i=w_i, d_wc=d_wc, d_k=d_k)\n",
    "\n"
   ]
  },
  {
   "cell_type": "markdown",
   "metadata": {},
   "source": [
    "### FDTD"
   ]
  },
  {
   "cell_type": "code",
   "execution_count": 136,
   "metadata": {
    "collapsed": false
   },
   "outputs": [
    {
     "name": "stdout",
     "output_type": "stream",
     "text": [
      "Populating the interactive namespace from numpy and matplotlib\n",
      "f_dig_lp:  0.0048\n",
      "[ 1.  0.  1.  0.  1.  0.  1.  0.  1.  0.  0.  1.  0.  0.  1.  0.  0.  0.\n",
      "  1.  0.  1.  1.  1.  1.  0.  0.  0.  1.  1.  0.  1.  0.  1.  1.  0.  1.\n",
      "  0.  1.  0.  1.  1.  1.  1.  0.  1.  1.  1.  1.  0.  1.  1.  0.  0.  1.\n",
      "  1.  1.  0.  1.  0.  1.  0.  0.  0.  1.  1.  1.  1.  1.  0.  0.  0.  1.\n",
      "  1.  1.  1.  1.  1.  0.  1.  1.  0.  1.  0.  0.  1.  1.  1.  0.  0.  0.\n",
      "  1.  1.  0.  1.  0.  0.  1.  1.  1.  0.  1.  0.  0.  1.  0.  1.  1.  0.]\n",
      "[ 1. -1.  1. -1.  1. -1.  1. -1.  1. -1. -1.  1. -1. -1.  1. -1. -1. -1.\n",
      "  1. -1.  1.  1.  1.  1. -1. -1. -1.  1.  1. -1.  1. -1.  1.  1. -1.  1.\n",
      " -1.  1. -1.  1.  1.  1.  1. -1.  1.  1.  1.  1. -1.  1.  1. -1. -1.  1.\n",
      "  1.  1. -1.  1. -1.  1. -1. -1. -1.  1.  1.  1.  1.  1. -1. -1. -1.  1.\n",
      "  1.  1.  1.  1.  1. -1.  1.  1. -1.  1. -1. -1.  1.  1.  1. -1. -1. -1.\n",
      "  1.  1. -1.  1. -1. -1.  1.  1.  1. -1.  1. -1. -1.  1. -1.  1.  1. -1.]\n",
      "del_eps: 0.1125 omega_m: 2.0 k_m: 0.0\n",
      "r0: [ 0.] r1: [ 125.66370614]\n",
      "r_T_1d: [ 105.13863414] r_R_1d: [ 7.32619407]\n",
      "simulation time: 2:46\n"
     ]
    }
   ],
   "source": [
    "%pylab tk\n",
    "\n",
    "from Electromagnetics.FDTD import *\n",
    "import numpy as np\n",
    "import time\n",
    "import matplotlib.pyplot as plt\n",
    "\n",
    "import os\n",
    "cwd = os.getcwd()\n",
    "dir_name = os.path.join(cwd, 'other', 'spacetime-noise')\n",
    "file_ext = '.png'\n",
    "if not os.path.exists(dir_name):\n",
    "    os.makedirs(dir_name)\n",
    "\n",
    "\n",
    "n_dim = 1\n",
    "r0, r1, dr = [None]*3\n",
    "S = 0.9\n",
    "n_t = None\n",
    "save_every = 1\n",
    "source_at_right = False\n",
    "\n",
    "r_c = None\n",
    "r0_eps, r1_eps = None, None\n",
    "r0_deps, r1_deps = None, None\n",
    "a_eps, b_eps = None, None\n",
    "omega = 1.0 #2.0*np.pi\n",
    "s_pml = None\n",
    "d_pml = None\n",
    "set_pml = True\n",
    "is_t_var = True\n",
    "\n",
    "n = 1.5\n",
    "L_0_air = 2.0*np.pi/(omega)\n",
    "L_0 = 2.0*np.pi/(omega*n)\n",
    "\n",
    "del_eps = 0.05*n**2\n",
    "omega_m = 2*omega\n",
    "k_m = 0.0\n",
    "\n",
    "\n",
    "if n_dim==1:\n",
    "    r0 = np.array([0.0])\n",
    "    r1 = np.array([30.0*L_0])\n",
    "    dr = np.array([L_0/500])\n",
    "    S /= np.sqrt(1)\n",
    "    n_t = 5000#2**18\n",
    "\n",
    "    r_c = (r0+r1)/2.0\n",
    "    a_eps, b_eps = n**2, 1.0\n",
    "\n",
    "    W_slab = np.array([20.0*L_0])\n",
    "    r0_eps = r_c - W_slab/2.0\n",
    "    r1_eps = r_c + W_slab/2.0\n",
    "    \n",
    "    r0_deps = r_c - W_slab/2\n",
    "    r1_deps = r_c + W_slab/2\n",
    "\n",
    "    d_pml = np.array([1.5*L_0])\n",
    "    s_pml = np.array([1.0+5.0j/L_0])\n",
    "    \n",
    "dt = S*dr[0]*np.sqrt(min(a_eps-del_eps, b_eps))\n",
    "d_v = np.prod(dr)\n",
    "\n",
    "\n",
    "fdtd = FDTDSimulator()\n",
    "\n",
    "fdtd.SetSimulationBox(r0, r1, dr, dt)\n",
    "fdtd.save_every = save_every \n",
    "\n",
    "d_x_ = np.zeros(n_dim)\n",
    "d_x_[0] = (r1[0]-r0[0])\n",
    "d_x_pml = np.zeros(n_dim)\n",
    "d_x_pml[0] = d_pml[0]\n",
    "\n",
    "\n",
    "##----- filtered noise\n",
    "\n",
    "from scipy import signal\n",
    "\n",
    "def setLPNoiseSamples(f_anal_lp=2.0):\n",
    "    t_samples = np.linspace(0.0, n_t*dt, n_t)\n",
    "    f_noise = 0.2*np.random.normal(0.0, 1.0, size=n_t)\n",
    "    \n",
    "    f_dig_lp = f_anal_lp*dt/np.pi \n",
    "    print('f_dig_lp: ', f_dig_lp)\n",
    "    b, a = signal.cheby1(8, rp=0.5, Wn=f_dig_lp*2.0*np.pi, btype='low', analog=False, output='ba')\n",
    "    w, h = signal.freqz(b, a, worN=n_t)\n",
    "\n",
    "    plt.figure()\n",
    "    plt.plot(w/(2*np.pi)/dt, np.abs(h), 'b')\n",
    "    xlim(0, 2.0*f_anal_lp)\n",
    "    plt.show()\n",
    "\n",
    "    noise_LP = signal.filtfilt(b, a, f_noise, padlen=0)\n",
    "    plt.figure()\n",
    "    plt.plot(t_samples, noise_LP, 'b')\n",
    "    plt.show()\n",
    "    return noise_LP\n",
    "\n",
    "noise_LP = None\n",
    "read_saved_noise = False\n",
    "\n",
    "if not read_saved_noise:\n",
    "    noise_LP = setLPNoiseSamples()\n",
    "    np.savez(os.path.join(dir_name, 'noise_LP'), noise_LP=noise_LP)\n",
    "else:\n",
    "    data_noise_LP = np.load(os.path.join(dir_name, 'noise_LP.npz'))\n",
    "    noise_LP = data_noise_LP['noise_LP']\n",
    "\n",
    "def f_noise_LP(t):\n",
    "    i_t = int(t//dt)\n",
    "    if i_t<n_t-1:\n",
    "        alpha = (t-i_t*dt)/dt\n",
    "        return (1-alpha)*noise_LP[i_t] + alpha*noise_LP[i_t+1]\n",
    "    else:\n",
    "        return 0.0\n",
    "    \n",
    "def f_pulse_am(t, a_0, w_0, T_pulse, t_rise):\n",
    "    f_t = 0.5*a_0*np.sin(w_0*t)*(np.tanh(t/t_rise) - np.tanh((t-T_pulse)/t_rise))\n",
    "    return f_t\n",
    "\n",
    "def f_ook(t, seq, a_0, w_0, T_pulse, t_rise):\n",
    "    ind = int(t/T_pulse)\n",
    "    A_0 = a_0*seq[ind]\n",
    "    t_start = ind*T_pulse\n",
    "    f_t = f_pulse_am(t-t_start, A_0, w_0, T_pulse, t_rise)\n",
    "    return f_t\n",
    "    \n",
    "    \n",
    "#seq = np.floor(2.0*np.random.rand(100))\n",
    "#print(seq)\n",
    "seq = np.array([1.0, 0, 1.0, 0, 1, 0, 1, 0] + np.floor(2.0*np.random.rand(100)).tolist())\n",
    "print(seq)\n",
    "\n",
    "seq = seq-(seq==0.0)\n",
    "print(seq)\n",
    "\n",
    "##------\n",
    "\n",
    "T_per = 2.0*np.pi/omega\n",
    "t0 = 2.0*T_per\n",
    "noise = lambda t: 2.0*f_noise_LP(t)*np.exp(-(t-t0)**2/(t0/4)**2)*(t<=t0) + 2.0*f_noise_LP(t)*(t>t0)\n",
    "phi = 0.0/180.0*np.pi\n",
    "f_t = lambda t: 1.0*(np.cos(omega*t+phi)*np.exp(-(t-t0)**2/(t0/4)**2)*(t<=t0) + np.cos(omega*t+phi)*(t>t0))# + 10.0*noise(t)\n",
    "#f_t = lambda t: f_ook(t, seq, 0.1, omega, 10.0*T_per, T_per/2) + 0.5*noise(t)\n",
    "#f_t = lambda t: 0.5*noise(t)\n",
    "f_t_dt = lambda t: f_t(t-dt/2)\n",
    "\n",
    "plt.figure()\n",
    "t_samples = np.linspace(0.0, n_t*dt, n_t)\n",
    "signal = np.array([f_t(t_samples[i]) for i in range(n_t)])\n",
    "plt.plot(t_samples, signal, 'b', lw=0.5)\n",
    "plt.savefig(os.path.join(dir_name, 'sig-0' + file_ext), bbox_inches='tight', pad_inches=0.2)\n",
    "plt.show()\n",
    "\n",
    "## J\n",
    "r_j = r0_deps - 2*L_0_air\n",
    "r_j -= r_j - int(r_j/dr[0])*dr[0]\n",
    "je_mag = 1.0/dr[0]\n",
    "src_dir = 'z'\n",
    "je_type = FVTypes.JePoint\n",
    "je_args = {'r0':r_j, 'mag':je_mag, 'f_t':f_t, 'src_dir':src_dir}\n",
    "fdtd.AddSources({'type':je_type, 'name':'Je', 'args':je_args})\n",
    "\n",
    "## M\n",
    "r_m = r_j - dr[0]/2      \n",
    "jm_mag = -1.0/dr[0]/np.sqrt(b_eps)\n",
    "src_dir = 'y'\n",
    "jm_type = FVTypes.JmPoint\n",
    "jm_args = {'r0':r_m, 'mag':jm_mag, 'f_t':f_t_dt, 'src_dir':src_dir}\n",
    "fdtd.AddSources({'type':jm_type, 'name':'Jm', 'args':jm_args})\n",
    "\n",
    "\n",
    "eps_args = {'r0':r0_eps, 'r1':r1_eps, 'mag_in':a_eps, 'mag_out':b_eps}\n",
    "fdtd.AddMaterial({'type':FVTypes.EpsIsoBox, 'name':'eps', 'args':eps_args})\n",
    "\n",
    "deps = None\n",
    "f_deps = None\n",
    "deps_out = []\n",
    "if is_t_var:\n",
    "    print('del_eps:', del_eps, 'omega_m:', omega_m, 'k_m:', k_m)\n",
    "    a_deps = lambda r, t: del_eps*np.cos(omega_m*t - k_m*r[0])\n",
    "    if n_dim==1:\n",
    "        a_deps = lambda r, t: del_eps*np.cos(omega_m*t - k_m*r)\n",
    "    deps_args = {'r0':r0_deps, 'r1':r1_deps, 'mag_in':a_deps, 'mag_out':0.0}\n",
    "    fdtd.AddMaterial({'type':FVTypes.EpsIsoSTvarBox, 'name':'deps', 'args':deps_args})\n",
    "    \n",
    "if set_pml:\n",
    "    pml_args = {'d_pml':d_pml, 's_pml':s_pml}\n",
    "    fdtd.AddPML({'type':FVTypes.UPML, 'name':'pml', 'args':pml_args})\n",
    "\n",
    "set_Efields_entire_out = False\n",
    "set_eps_out = False\n",
    "set_j_out = False\n",
    "set_T_1d = True\n",
    "set_R_1d = True\n",
    "\n",
    "r_R_1d = r_j - (r_j-d_pml)/2.0\n",
    "r_T_1d = r1_deps + 0.1*L_0\n",
    "if source_at_right:\n",
    "    r_R_1d = r_j + (r1-d_pml-r_j)/2.0\n",
    "    r_T_1d = r1 - r_R_1d\n",
    "print('r0:', r0, 'r1:', r1)\n",
    "print('r_T_1d:', r_T_1d, 'r_R_1d:', r_R_1d)\n",
    "\n",
    "if set_Efields_entire_out:\n",
    "    fdtd.AddViewPlane({'type':FVTypes.VPSide, 'r':r_j, 'args':{'A':'E', 'A_dir':'z', 'O_dir':None, 'name':'E'}})\n",
    "if set_j_out:\n",
    "    fdtd.AddViewPlane({'type':FVTypes.VPSide, 'r':r_j, 'args':{'A':'Je', 'A_dir':'z', 'O_dir':None, 'name':'J'}})\n",
    "if n_dim==1 and set_T_1d:\n",
    "    fdtd.AddViewPlane({'type':FVTypes.VPSide, 'r':r_T_1d, 'args':{'A':'E', 'A_dir':'z', 'O_dir':'x', 'name':'T'}})\n",
    "if n_dim==1 and set_R_1d:\n",
    "    fdtd.AddViewPlane({'type':FVTypes.VPSide, 'r':r_R_1d, 'args':{'A':'E', 'A_dir':'z', 'O_dir':'x', 'name':'R'}})\n",
    "        \n",
    "if is_t_var and set_eps_out:\n",
    "    fdtd.AddViewPlane({'type':FVTypes.VPSide, 'r':r_j, 'args':{'A':'deps', 'A_dir':'x', 'O_dir':None, 'name':'Eps'}})\n",
    "\n",
    "\n",
    "fdtd.StepFields(n_t)\n",
    "n_saved = fdtd.n_saved\n",
    "    \n"
   ]
  },
  {
   "cell_type": "code",
   "execution_count": 137,
   "metadata": {
    "collapsed": false
   },
   "outputs": [
    {
     "name": "stdout",
     "output_type": "stream",
     "text": [
      "max(T): 4.17375538731\n",
      "max(R): 3.92807438541\n"
     ]
    }
   ],
   "source": [
    "import matplotlib.pyplot as plt\n",
    "\n",
    "r_E, E_out_list = None, None\n",
    "x_E, y_E, z_E = [None]*3\n",
    "if set_Efields_entire_out:\n",
    "    r_E, E_out_list = fdtd.GetOutputs('E')\n",
    "    if n_dim==3:\n",
    "        x_E, y_E, z_E = r_E\n",
    "    elif n_dim==2:\n",
    "        x_E, y_E = r_E\n",
    "    elif n_dim==1:\n",
    "        x_E = r_E[0]\n",
    "    e_max = [np.max(np.abs(e)) for e in E_out_list]\n",
    "    print('max(e_max):', max(e_max))\n",
    "    e_max = max(e_max)\n",
    "    \n",
    "x_J, y_J, z_J = [None]*3\n",
    "j_max = None\n",
    "J_out_list = None\n",
    "if set_j_out:\n",
    "    r_J, J_out_list = fdtd.GetOutputs('J')\n",
    "    if n_dim==3:\n",
    "        x_J, y_J, z_J = r_J\n",
    "    elif n_dim==2:\n",
    "        x_J, y_J = r_J\n",
    "    elif n_dim==1:\n",
    "        x_J = r_J[0]\n",
    "    j_max = [np.max(np.abs(j)) for j in J_out_list]\n",
    "    print('max(j_max):', max(j_max))\n",
    "    j_max = max(j_max)\n",
    "\n",
    "\n",
    "\n",
    "x_deps, y_deps, z_deps = [None]*3\n",
    "deps_out_list = None\n",
    "deps_max = None\n",
    "if is_t_var and set_eps_out:\n",
    "    r_deps, deps_out_list = fdtd.GetOutputs('Eps')\n",
    "    if n_dim==3:\n",
    "        x_deps, y_deps, z_deps = r_deps\n",
    "    elif n_dim==2:\n",
    "        x_deps, y_deps = r_deps\n",
    "    elif n_dim==1:\n",
    "        x_deps = r_deps[0]\n",
    "    deps_max = [np.max(np.abs(de)) for de in deps_out_list]\n",
    "    print('max(deps_max):', max(deps_max))\n",
    "    deps_max = max(deps_max)\n",
    "\n",
    "\n",
    "x_T = None\n",
    "T_arr = None\n",
    "if n_dim==1 and set_T_1d:\n",
    "    r_T, T_out_list = fdtd.GetOutputs('T')\n",
    "    x_T = r_T[0]\n",
    "    T_arr = np.array([t[0] for t in T_out_list])\n",
    "    T_max = np.max(np.abs(T_arr))\n",
    "    print('max(T):', T_max)\n",
    "    \n",
    "x_R = None\n",
    "R_arr = None\n",
    "if n_dim==1 and set_R_1d:\n",
    "    r_R, R_out_list = fdtd.GetOutputs('R')\n",
    "    x_R = r_R[0]\n",
    "    R_arr = np.array([t[0] for t in R_out_list])\n",
    "    R_max = np.max(np.abs(R_arr))\n",
    "    print('max(R):', R_max)\n",
    "    \n",
    "    \n",
    "#print(x_E.shape, E_out_list[0].shape)\n"
   ]
  },
  {
   "cell_type": "code",
   "execution_count": 140,
   "metadata": {
    "collapsed": false
   },
   "outputs": [
    {
     "name": "stdout",
     "output_type": "stream",
     "text": [
      "\n",
      " 0.943343343343 1.06781517774\n"
     ]
    }
   ],
   "source": [
    "## get the quadratures\n",
    "import matplotlib.pyplot as plt\n",
    "import matplotlib.animation as animation\n",
    "from matplotlib.patches import Circle\n",
    "\n",
    "plt.rcParams[\"figure.figsize\"] = (7, 7)\n",
    "font = {'family' : 'serif', 'weight' : 'normal', 'size'   : 14}\n",
    "matplotlib.rc('font', **font)\n",
    "\n",
    "np.savez(os.path.join(dir_name, 'T_arr-eps={0:.2f}-M={1:.2f}'.format(n**2, del_eps/n**2)), T_arr=T_arr)\n",
    "\n",
    "if set_T_1d:\n",
    "    #ind_st = int((r1_eps[0] - r0_eps[0])/dt*a_eps + (8*L_0_air + t0)/dt)\n",
    "    \n",
    "    ind_st = np.argmax(np.abs(T_arr)>0.5)\n",
    "    T_arr_trimmed = T_arr[ind_st:]\n",
    "    #T_arr_trimmed = T_arr_trimmed[50*int(T_per/dt):]\n",
    "    \n",
    "    ##__f_t = lambda t: 1.0*np.cos(omega*t - 0*np.pi/4) + 5.0*noise(t)\n",
    "    #_n_t_per = int(T_per/dt)\n",
    "    #T_arr_trimmed = np.array([f_t(_t_+t0) for _t_ in np.linspace(0, 400*T_per, 400*_n_t_per)])\n",
    "    ##T_arr_trimmed += 0.5*np.random.normal(0.0, 1.0, size=1000*500)\n",
    "    \n",
    "    plt.figure(1)\n",
    "    plt.plot(np.arange(len(T_arr_trimmed))*dt*save_every/(2.0*np.pi/omega), T_arr_trimmed, 'b', lw=0.5)\n",
    "    plt.xlabel(r'$t/T_{per}$')\n",
    "    plt.ylabel(r'Transmission')\n",
    "    plt.savefig(os.path.join(dir_name, 'T-eps={0:.2f}-M={1:.2f}'.format(n**2, del_eps/n**2) + file_ext), bbox_inches='tight', pad_inches=0.2)\n",
    "    plt.show()\n",
    "    \n",
    "    omega_numerical = omega\n",
    "    \n",
    "    Q_sin = []\n",
    "    Q_cos = []\n",
    "    num_per = 20\n",
    "    nt_per = int(T_per/dt)\n",
    "    n_per = int(len(T_arr_trimmed)/(nt_per*num_per))\n",
    "    t_samples_T = np.linspace(0, num_per*T_per, num_per*nt_per, endpoint=False)\n",
    "    for i in range(n_per):\n",
    "        t_samples_T += num_per*nt_per*dt\n",
    "        q_cos = np.sum(T_arr_trimmed[i*num_per*nt_per:(i+1)*num_per*nt_per]*np.cos(omega_numerical*t_samples_T))*dt/num_per/np.pi\n",
    "        q_sin = np.sum(T_arr_trimmed[i*num_per*nt_per:(i+1)*num_per*nt_per]*np.sin(omega_numerical*t_samples_T))*dt/num_per/np.pi\n",
    "        #print(T_arr_trimmed[i*num_per*nt_per + i], end=' ')\n",
    "        \n",
    "        Q_cos.append(q_cos)\n",
    "        Q_sin.append(q_sin)\n",
    "    \n",
    "    Q_cos = np.array(Q_cos)\n",
    "    Q_sin = np.array(Q_sin)\n",
    "    Q_mag = Q_cos**2 + Q_sin**2\n",
    "    Q_angle = np.arccos(Q_cos/Q_mag)\n",
    "        \n",
    "    plt.figure(2)\n",
    "    plt.plot(Q_cos, Q_sin, 'ro', markersize=1.5 )\n",
    "    #plt.polar(Q_angle, Q_mag)\n",
    "    plt.xlim(-1.3, 1.3)\n",
    "    plt.ylim(-1.3, 1.3)\n",
    "    plt.axvline(x=0)\n",
    "    plt.axhline(y=0)\n",
    "    plt.xlabel(r'$I$', fontsize=20)\n",
    "    plt.ylabel(r'$Q$', fontsize=20)\n",
    "    plt.title(r'$\\epsilon_r$={0:.2f}, M={1:.2f}'.format(n**2, del_eps/n**2))\n",
    "    plt.grid()\n",
    "    \n",
    "    circle = Circle((0, 0), 1.0, color='k', fill=False, alpha=0.4)\n",
    "    plt.gca().add_artist(circle)\n",
    "    \n",
    "    plt.savefig(os.path.join(dir_name, 'IQ-eps={0:.2f}-M={1:.2f}'.format(n**2, del_eps/n**2) + file_ext), bbox_inches='tight', pad_inches=0.5)\n",
    "    plt.show()\n",
    "    \n",
    "    T_fft = np.fft.fft(T_arr_trimmed[0:nt_per*n_per])\n",
    "    T_fft /= len(T_fft)\n",
    "    T_fft_abs = np.abs(T_fft)\n",
    "    T_fft_phase = np.angle(T_fft)\n",
    "    T_fft_r = np.real(T_fft)\n",
    "    T_fft_i = np.imag(T_fft)\n",
    "    freq = np.fft.fftfreq(T_fft.shape[-1], dt*save_every)\n",
    "    plt.figure(3)\n",
    "    plt.plot(2.0*np.pi*freq/omega, T_fft_abs, 'b', lw=0.5)\n",
    "    plt.plot(2.0*np.pi*freq/omega, T_fft_phase/np.pi, 'r', lw=0.5)\n",
    "    plt.xlim(-2.0, 2)\n",
    "    plt.grid()\n",
    "    plt.show()\n",
    "    \n",
    "    \n",
    "    num_per = 1\n",
    "    T_arr_trimmed = T_arr_trimmed[0:nt_per*num_per]\n",
    "    _n_w = 1000\n",
    "    w_array = np.linspace(0.8*omega, 1.2*omega, _n_w)\n",
    "    correlations = np.zeros(_n_w)\n",
    "    #t_samples_T = np.linspace(0, 1, len(T_arr_trimmed), endpoint=True)*dt\n",
    "    t_samples_T = np.linspace(0, num_per*T_per, num_per*nt_per, endpoint=False)\n",
    "    for i_w in range(_n_w):\n",
    "        omega_numerical = w_array[i_w]\n",
    "        q_cos = np.sum(T_arr_trimmed*np.cos(omega_numerical*t_samples_T))*dt/num_per/np.pi\n",
    "        q_sin = np.sum(T_arr_trimmed*np.sin(omega_numerical*t_samples_T))*dt/num_per/np.pi\n",
    "        correlations[i_w] = q_cos**2 + q_sin**2\n",
    "    plt.figure(4)\n",
    "    plt.plot(w_array/omega, correlations)\n",
    "    plt.grid()\n",
    "    plt.show()\n",
    "    \n",
    "    print(\"\\n\", w_array[np.argmax(correlations)]/omega, np.max(correlations))\n",
    "    \n",
    "    "
   ]
  },
  {
   "cell_type": "code",
   "execution_count": 15,
   "metadata": {
    "collapsed": false
   },
   "outputs": [
    {
     "ename": "NameError",
     "evalue": "name 'e_max' is not defined",
     "output_type": "error",
     "traceback": [
      "\u001b[0;31m---------------------------------------------------------------------------\u001b[0m",
      "\u001b[0;31mNameError\u001b[0m                                 Traceback (most recent call last)",
      "\u001b[0;32m<ipython-input-15-827ad765c75d>\u001b[0m in \u001b[0;36m<module>\u001b[0;34m()\u001b[0m\n\u001b[1;32m     19\u001b[0m \u001b[0;34m\u001b[0m\u001b[0m\n\u001b[1;32m     20\u001b[0m \u001b[0mlogscale\u001b[0m\u001b[0;34m=\u001b[0m\u001b[0;32mFalse\u001b[0m\u001b[0;34m\u001b[0m\u001b[0m\n\u001b[0;32m---> 21\u001b[0;31m \u001b[0mlog_0\u001b[0m \u001b[0;34m=\u001b[0m \u001b[0mnp\u001b[0m\u001b[0;34m.\u001b[0m\u001b[0mlog\u001b[0m\u001b[0;34m(\u001b[0m\u001b[0me_max\u001b[0m\u001b[0;34m)\u001b[0m\u001b[0;34m-\u001b[0m\u001b[0;36m10\u001b[0m\u001b[0;34m\u001b[0m\u001b[0m\n\u001b[0m\u001b[1;32m     22\u001b[0m \u001b[0;34m\u001b[0m\u001b[0m\n\u001b[1;32m     23\u001b[0m \u001b[0muse_subplots\u001b[0m \u001b[0;34m=\u001b[0m \u001b[0;32mFalse\u001b[0m\u001b[0;34m\u001b[0m\u001b[0m\n",
      "\u001b[0;31mNameError\u001b[0m: name 'e_max' is not defined"
     ]
    }
   ],
   "source": [
    "## animations\n",
    "%matplotlib tk\n",
    "\n",
    "import numpy as np\n",
    "import matplotlib.pyplot as plt\n",
    "import matplotlib.animation as animation\n",
    "import matplotlib\n",
    "\n",
    "\n",
    "# Set up formatting for the movie files\n",
    "#Writer = animation.writers['mencoder']    ## avconv ffmpeg mencoder\n",
    "#writer = Writer(fps=15, metadata=dict(artist='Me'))\n",
    "#writer = animation.FFMpegWriter()\n",
    "\n",
    "plt.rcParams[\"figure.figsize\"] = (5, 2.5)\n",
    "\n",
    "plt_field = 'E'\n",
    "save_anim = False\n",
    "file_format = 'gif'   ## 'gif' / 'mp4'\n",
    "\n",
    "logscale=False\n",
    "log_0 = np.log(e_max)-10\n",
    "\n",
    "use_subplots = False\n",
    "\n",
    "font = {'family' : 'serif', 'weight' : 'normal', 'size'   : 14}\n",
    "matplotlib.rc('font', **font)\n",
    "\n",
    "if set_T_1d:\n",
    "    print('set_T_1d:', set_T_1d)\n",
    "    f__0 = omega/(2.0*np.pi)\n",
    "    d__f = omega_m/((2.0*np.pi))\n",
    "    #T_arr = T_arr[int(len(T_arr)/2):]\n",
    "    #T_arr = T_arr - np.load(os.path.join(dir_name, 'T-s.npz'))['T_arr']\n",
    "    plt.figure()\n",
    "    plt.plot(np.arange(len(T_arr))*dt*save_every/(2.0*np.pi/omega), T_arr, 'b', lw=0.5)\n",
    "    plt.xlabel(r'$t/T_{per}$')\n",
    "    plt.ylabel(r'Transmission')\n",
    "    plt.savefig(os.path.join(dir_name, 'T' + file_ext), bbox_inches='tight', pad_inches=0.2)\n",
    "    plt.show()\n",
    "    \n",
    "    np.savez(os.path.join(dir_name, 'T'), T_arr=T_arr)\n",
    "\n",
    "    T_fft = np.fft.fft(T_arr)\n",
    "    T_fft = np.abs(T_fft)/len(T_fft)\n",
    "    freq = np.fft.fftfreq(T_fft.shape[-1], dt*save_every)\n",
    "    \"\"\"\n",
    "    plt.figure()\n",
    "    plt.plot(freq, T_fft)\n",
    "    plt.gca().set_xlim([f__0-10.0*d__f, f__0+10.0*d__f])\n",
    "    plt.gca().set_ylim([0, T_max])\n",
    "    plt.xlabel(r'$f$')\n",
    "    plt.ylabel(r'$\\log(T)$')\n",
    "    plt.show()\n",
    "    \"\"\"\n",
    "    ind = np.argmin(np.abs(2.0*np.pi*freq/omega-1.0))\n",
    "    plt.figure()\n",
    "    plt.plot(2.0*np.pi*freq/omega, 20*np.log10(T_fft), 'b', lw=0.5)\n",
    "    #plt.gca().set_xlim([f__0-3.0*d__f, f__0+3.0*d__f])\n",
    "    plt.xlabel(r'$\\omega/\\omega_0$')\n",
    "    plt.ylabel(r'$T$ (dB)')\n",
    "    plt.title('$T(\\omega_0)$={0:.2f} dB'.format(20*np.log10(T_fft[ind])))\n",
    "    plt.xlim(0.0, 10)\n",
    "    plt.ylim([-80.0, 10.0])\n",
    "    plt.axvline(x=1, color='k', linestyle=':')\n",
    "    plt.savefig(os.path.join(dir_name, 'T-f' + file_ext), bbox_inches='tight', pad_inches=0.2)\n",
    "    plt.show()\n",
    "\n",
    "if set_R_1d:\n",
    "    print('set_R_1d:', set_R_1d)\n",
    "    f__0 = omega/(2.0*np.pi)\n",
    "    d__f = omega_m/((2.0*np.pi))\n",
    "    #R_arr = R_arr[int(len(R_arr)/2):]\n",
    "    #R_arr = R_arr - np.load(os.path.join(dir_name, 'R-s.npz'))['R_arr']\n",
    "    plt.figure()\n",
    "    plt.plot(np.arange(len(R_arr))*dt*save_every/(2.0*np.pi/omega), R_arr, 'b', lw=0.5)\n",
    "    plt.xlabel(r'$t/T_{per}$')\n",
    "    plt.ylabel(r'Reflection')\n",
    "    plt.savefig(os.path.join(dir_name, 'R' + file_ext), bbox_inches='tight', pad_inches=0.2)\n",
    "    plt.show()\n",
    "\n",
    "    np.savez(os.path.join(dir_name, 'R'), R_arr=R_arr)\n",
    "    \n",
    "    R_fft = np.fft.fft(R_arr)\n",
    "    R_fft = np.abs(R_fft)/len(R_fft)\n",
    "    freq = np.fft.fftfreq(R_fft.shape[-1], dt*save_every)\n",
    "    #plt.figure()\n",
    "    #plt.plot(freq, R_fft)\n",
    "    #plt.gca().set_xlim([f__0-10.0*d__f, f__0+10.0*d__f])\n",
    "    #plt.gca().set_ylim([0, R_max])\n",
    "    #plt.xlabel(r'$f$')\n",
    "    #plt.ylabel(r'$\\log(R)$')\n",
    "    #plt.show()\n",
    "\n",
    "    ind = np.argmin(np.abs(2.0*np.pi*freq/omega-1.0))\n",
    "    plt.figure()\n",
    "    plt.plot(2.0*np.pi*freq/omega, 20*np.log10(R_fft), 'b', lw=0.5)\n",
    "    #plt.gca().set_xlim([f__0-3.0*d__f, f__0+3.0*d__f])\n",
    "    plt.gca().set_ylim([-80.0, 10.0])\n",
    "    plt.xlabel(r'$\\omega/\\omega_0$')\n",
    "    plt.ylabel(r'$R$ (dB)')\n",
    "    plt.title('$R(\\omega_0)$={0:.2f} dB'.format(20*np.log10(R_fft[ind])))\n",
    "    plt.xlim(0.0, 10)\n",
    "    plt.ylim([-80.0, 10.0])\n",
    "    plt.axvline(x=1, color='k', linestyle=':')\n",
    "    plt.savefig(os.path.join(dir_name, 'R-f' + file_ext), bbox_inches='tight', pad_inches=0.2)\n",
    "    plt.show()\n",
    "\n",
    "fig, axarr = None, None\n",
    "#e_max = 0\n",
    "def animate_E(i):\n",
    "    global e_max\n",
    "    if not is_t_var:\n",
    "        plt.clf()\n",
    "        fig = plt.plot(x_E, E_out_list[i])\n",
    "        axes = plt.gca()\n",
    "        axes.set_ylim([-e_max, e_max])\n",
    "        return fig\n",
    "    else:\n",
    "        if not use_subplots:\n",
    "            plt.clf()\n",
    "            fig = None\n",
    "            if plt_field=='E':\n",
    "                fig = plt.plot(x_E/L_0_air, E_out_list[i])\n",
    "                ax = plt.gca()\n",
    "                #e_max = max(e_max, int(np.max(np.abs(E_out_list[i]))/5.0)*5.0 + 1.0)\n",
    "                ax.set_ylim([-e_max, e_max])\n",
    "                #ax.set_ylim([-2.0, 2.0])\n",
    "                #ax.axes.get_xaxis().set_ticks([])\n",
    "                #ax.axes.get_yaxis().set_ticks([])\n",
    "            elif plt_field=='Eps':\n",
    "                fig = plt.plot(x_deps, deps_out_list[i], 'r', lw=0.5)\n",
    "                ax = plt.gca()\n",
    "                ax.set_ylim([-deps_max, deps_max])\n",
    "                ax.axes.get_xaxis().set_ticks([])\n",
    "            #fig.set_tight_layout(True)\n",
    "            plt.xlabel(r'$z/\\lambda_0$')\n",
    "            plt.ylabel(r'$E(t)$')\n",
    "            ax = plt.gca()\n",
    "            ax.set_adjustable('box-forced')\n",
    "            #plt.gcf().subplots_adjust(left=0.2, bottom=0.3)\n",
    "            plt.axvline(x=r0_deps[0]/L_0_air, linewidth=1.0, linestyle='-.',color='r')\n",
    "            plt.axvline(x=r1_deps[0]/L_0_air, linewidth=1.0, linestyle='-.',color='r')\n",
    "            #plt.tight_layout(pad=0.0)\n",
    "            return fig\n",
    "        else:\n",
    "            plt.clf()\n",
    "            fig, axarr = plt.subplots(2, sharex=True)\n",
    "            axarr[0].plot(x_E, E_out_list[i])\n",
    "            axarr[0].set_ylim([-e_max, e_max])\n",
    "            axarr[1].plot(x_deps, deps_out_list[i], 'r')\n",
    "            axarr[1].set_ylim([-deps_max, deps_max])\n",
    "            return fig\n",
    "\n",
    "\n",
    "def animate_J(i):\n",
    "    plt.clf()\n",
    "    fig = plt.plot(x_J, J_out_list[i])\n",
    "    axes = plt.gca()\n",
    "    axes.set_ylim([-j_max, j_max])\n",
    "    return fig\n",
    "\n",
    "anim = None\n",
    "if is_t_var and use_subplots:\n",
    "    fig, axarr = plt.subplots(2, sharex=True)\n",
    "else:\n",
    "    fig = plt.figure()\n",
    "\n",
    "if plt_field=='E' or plt_field=='Eps':\n",
    "    anim = animation.FuncAnimation(fig, animate_E, frames=n_saved, interval=1)\n",
    "elif plt_field=='J':\n",
    "    anim = animation.FuncAnimation(fig, animate_J, frames=n_saved, interval=1)\n",
    "else:\n",
    "    raise ValuError()\n",
    "\n",
    "if save_anim:\n",
    "    if file_format=='gif':\n",
    "        anim.save(os.path.join(dir_name, 'E1d-anim.gif'), writer=\"imagemagick\", fps=15, dpi=200)\n",
    "    elif file_format=='mp4':\n",
    "        anim.save(os.path.join(dir_name, 'E1d-anim.mp4'), writer=\"mencoder\", fps=15, dpi=200)\n",
    "plt.show()\n",
    "    \n",
    "    \n"
   ]
  },
  {
   "cell_type": "markdown",
   "metadata": {},
   "source": [
    "### FDTD Vs Modal"
   ]
  },
  {
   "cell_type": "code",
   "execution_count": 98,
   "metadata": {
    "collapsed": false
   },
   "outputs": [
    {
     "name": "stdout",
     "output_type": "stream",
     "text": [
      "Populating the interactive namespace from numpy and matplotlib\n",
      "['omega_m', 'R_arr', 'T_arr', 'omega', 'k_m', 'dt']\n",
      "['w_i', 'w_scaled', 'x_T', 'd_k', 'd_wc', 'x_R']\n"
     ]
    },
    {
     "name": "stderr",
     "output_type": "stream",
     "text": [
      "/usr/local/lib/python3.5/dist-packages/IPython/core/magics/pylab.py:161: UserWarning: pylab import has clobbered these variables: ['sin', 'exp', 'solve', 'cos']\n",
      "`%matplotlib` prevents importing * from pylab and numpy\n",
      "  \"\\n`%matplotlib` prevents importing * from pylab and numpy\"\n"
     ]
    },
    {
     "data": {
      "image/png": "[encoded data removed]",
      "text/plain": [
       "<matplotlib.figure.Figure at 0x7f9e75767828>"
      ]
     },
     "metadata": {},
     "output_type": "display_data"
    },
    {
     "data": {
      "image/png": "[encoded data removed]",
      "text/plain": [
       "<matplotlib.figure.Figure at 0x7f9e755239b0>"
      ]
     },
     "metadata": {},
     "output_type": "display_data"
    }
   ],
   "source": [
    "%pylab inline\n",
    "\n",
    "import numpy as np\n",
    "\n",
    "import os\n",
    "cwd = os.getcwd()\n",
    "dir_name = os.path.join(cwd, 'other', 'spacetime-noise')\n",
    "file_ext = '.png'\n",
    "if not os.path.exists(dir_name):\n",
    "    os.makedirs(dir_name)\n",
    "    \n",
    "font = {'family' : 'serif', 'weight' : 'normal', 'size'   : 16}\n",
    "matplotlib.rc('font', **font)\n",
    "\n",
    "data_FDTD = np.load(os.path.join(dir_name, 'nondispersive-epsr-slab-RT-FDTD.npz'))\n",
    "print(data_FDTD.files)\n",
    "\n",
    "data_modal = np.load(os.path.join(dir_name, 'nondispersive-epsr-slab-RT.npz'))\n",
    "print(data_modal.files)\n",
    "\n",
    "\n",
    "x_R = data_modal['x_R']\n",
    "x_T = data_modal['x_T']\n",
    "w_scaled = data_modal['w_scaled']\n",
    "\n",
    "\n",
    "R_arr = data_FDTD['R_arr']\n",
    "T_arr = data_FDTD['T_arr']\n",
    "dt = data_FDTD['dt']\n",
    "R_arr = R_arr[int(len(R_arr)/2):]\n",
    "T_arr = T_arr[int(len(T_arr)/2):]\n",
    "R_fft = np.fft.fft(R_arr)/len(R_arr)\n",
    "T_fft = np.fft.fft(T_arr)/len(T_arr)\n",
    "w_fdtd = 2.0*np.pi*np.fft.fftfreq(R_fft.shape[-1], dt)\n",
    "w0_fdtd = data_FDTD['omega']\n",
    "w_m_fdtd = data_FDTD['omega_m']\n",
    "w_scaled_fdtd = (w_fdtd - w0_fdtd)/w_m_fdtd\n",
    "\n",
    "plot(w_scaled_fdtd, 20*np.log10(np.abs(R_fft)))\n",
    "plot(w_scaled, 20*np.log10(np.abs(x_R)), 'ro')\n",
    "xlim([-5, 5])\n",
    "ylim([-80, 10])\n",
    "xlabel(r'$(\\omega-\\omega_0)/\\Delta\\omega$', fontsize=20)\n",
    "ylabel(r'$R$ (dB)', fontsize=20)\n",
    "grid()\n",
    "savefig(os.path.join(dir_name, 'nondispersive-epsr-slab-R-FDTD-modal-2' + file_ext), bbox_inches='tight', pad_inches=0.2)\n",
    "show()\n",
    "\n",
    "plot(w_scaled_fdtd, 20*np.log10(np.abs(T_fft)))\n",
    "plot(w_scaled, 20*np.log10(np.abs(x_T)), 'ro')\n",
    "xlim([-5, 5])\n",
    "ylim([-80, 10])\n",
    "xlabel(r'$(\\omega-\\omega_0)/\\Delta\\omega$', fontsize=20)\n",
    "ylabel(r'$T$ (dB)', fontsize=20)\n",
    "grid()\n",
    "savefig(os.path.join(dir_name, 'nondispersive-epsr-slab-T-FDTD-modal-2' + file_ext), bbox_inches='tight', pad_inches=0.2)\n",
    "show()\n"
   ]
  },
  {
   "cell_type": "code",
   "execution_count": null,
   "metadata": {
    "collapsed": true
   },
   "outputs": [],
   "source": []
  }
 ],
 "metadata": {
  "kernelspec": {
   "display_name": "Python 3",
   "language": "python",
   "name": "python3"
  },
  "language_info": {
   "codemirror_mode": {
    "name": "ipython",
    "version": 3
   },
   "file_extension": ".py",
   "mimetype": "text/x-python",
   "name": "python",
   "nbconvert_exporter": "python",
   "pygments_lexer": "ipython3",
   "version": "3.5.2"
  }
 },
 "nbformat": 4,
 "nbformat_minor": 1
}
