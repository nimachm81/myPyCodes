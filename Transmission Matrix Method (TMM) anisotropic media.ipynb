{
 "cells": [
  {
   "cell_type": "markdown",
   "metadata": {},
   "source": [
    "### normal incidence"
   ]
  },
  {
   "cell_type": "code",
   "execution_count": 11,
   "metadata": {
    "collapsed": false
   },
   "outputs": [
    {
     "name": "stdout",
     "output_type": "stream",
     "text": [
      "unit k vectors:\n"
     ]
    },
    {
     "data": {
      "text/latex": [
       "$$k_1^+ = \\left[\\begin{matrix}0 & 0 & k_{z1}\\end{matrix}\\right]$$"
      ],
      "text/plain": [
       "<IPython.core.display.Math object>"
      ]
     },
     "metadata": {},
     "output_type": "display_data"
    },
    {
     "data": {
      "text/latex": [
       "$$k_1^- = \\left[\\begin{matrix}0 & 0 & - k_{z1}\\end{matrix}\\right]$$"
      ],
      "text/plain": [
       "<IPython.core.display.Math object>"
      ]
     },
     "metadata": {},
     "output_type": "display_data"
    },
    {
     "data": {
      "text/latex": [
       "$$k_2^+ = \\left[\\begin{matrix}0 & 0 & k_{z2}\\end{matrix}\\right]$$"
      ],
      "text/plain": [
       "<IPython.core.display.Math object>"
      ]
     },
     "metadata": {},
     "output_type": "display_data"
    },
    {
     "data": {
      "text/latex": [
       "$$k_2^- = \\left[\\begin{matrix}0 & 0 & - k_{z2}\\end{matrix}\\right]$$"
      ],
      "text/plain": [
       "<IPython.core.display.Math object>"
      ]
     },
     "metadata": {},
     "output_type": "display_data"
    },
    {
     "name": "stdout",
     "output_type": "stream",
     "text": [
      "Electric field:\n"
     ]
    },
    {
     "data": {
      "text/latex": [
       "$$E_1^+ = \\left[\\begin{matrix}E_{x1}^+ & E_{y1}^+ & 0\\end{matrix}\\right]$$"
      ],
      "text/plain": [
       "<IPython.core.display.Math object>"
      ]
     },
     "metadata": {},
     "output_type": "display_data"
    },
    {
     "data": {
      "text/latex": [
       "$$E_1^- = \\left[\\begin{matrix}E_{x1}^- & E_{y1}^- & 0\\end{matrix}\\right]$$"
      ],
      "text/plain": [
       "<IPython.core.display.Math object>"
      ]
     },
     "metadata": {},
     "output_type": "display_data"
    },
    {
     "data": {
      "text/latex": [
       "$$E_2^+ = \\left[\\begin{matrix}E_{x2}^+ & E_{y2}^+ & 0\\end{matrix}\\right]$$"
      ],
      "text/plain": [
       "<IPython.core.display.Math object>"
      ]
     },
     "metadata": {},
     "output_type": "display_data"
    },
    {
     "data": {
      "text/latex": [
       "$$E_2^- = \\left[\\begin{matrix}E_{x2}^- & E_{y2}^- & 0\\end{matrix}\\right]$$"
      ],
      "text/plain": [
       "<IPython.core.display.Math object>"
      ]
     },
     "metadata": {},
     "output_type": "display_data"
    },
    {
     "name": "stdout",
     "output_type": "stream",
     "text": [
      "Magnetic field:\n"
     ]
    },
    {
     "data": {
      "text/latex": [
       "$$H_1^+ = \\left[\\begin{matrix}- \\frac{E_{y1}^+ k_{z1}}{\\mu_0 \\mu_{1x} \\omega_0} & \\frac{E_{x1}^+ k_{z1}}{\\mu_0 \\mu_{1y} \\omega_0} & 0\\end{matrix}\\right]$$"
      ],
      "text/plain": [
       "<IPython.core.display.Math object>"
      ]
     },
     "metadata": {},
     "output_type": "display_data"
    },
    {
     "data": {
      "text/latex": [
       "$$H_1^- = \\left[\\begin{matrix}\\frac{E_{y1}^- k_{z1}}{\\mu_0 \\mu_{1x} \\omega_0} & - \\frac{E_{x1}^- k_{z1}}{\\mu_0 \\mu_{1y} \\omega_0} & 0\\end{matrix}\\right]$$"
      ],
      "text/plain": [
       "<IPython.core.display.Math object>"
      ]
     },
     "metadata": {},
     "output_type": "display_data"
    },
    {
     "data": {
      "text/latex": [
       "$$H_2^+ = \\left[\\begin{matrix}- \\frac{E_{y2}^+ k_{z2}}{\\mu_0 \\mu_{2x} \\omega_0} & \\frac{E_{x2}^+ k_{z2}}{\\mu_0 \\mu_{2y} \\omega_0} & 0\\end{matrix}\\right]$$"
      ],
      "text/plain": [
       "<IPython.core.display.Math object>"
      ]
     },
     "metadata": {},
     "output_type": "display_data"
    },
    {
     "data": {
      "text/latex": [
       "$$H_2^- = \\left[\\begin{matrix}\\frac{E_{y2}^- k_{z2}}{\\mu_0 \\mu_{2x} \\omega_0} & - \\frac{E_{x2}^- k_{z2}}{\\mu_0 \\mu_{2y} \\omega_0} & 0\\end{matrix}\\right]$$"
      ],
      "text/plain": [
       "<IPython.core.display.Math object>"
      ]
     },
     "metadata": {},
     "output_type": "display_data"
    },
    {
     "data": {
      "text/latex": [
       "$$Eq_E0 = - E_{y1}^+ - E_{y1}^- + E_{y2}^+ + E_{y2}^-$$"
      ],
      "text/plain": [
       "<IPython.core.display.Math object>"
      ]
     },
     "metadata": {},
     "output_type": "display_data"
    },
    {
     "data": {
      "text/latex": [
       "$$Eq_E1 = E_{x1}^+ + E_{x1}^- - E_{x2}^+ - E_{x2}^-$$"
      ],
      "text/plain": [
       "<IPython.core.display.Math object>"
      ]
     },
     "metadata": {},
     "output_type": "display_data"
    },
    {
     "data": {
      "text/latex": [
       "$$Eq_H0 = - \\frac{E_{x1}^+ k_{z1}}{\\mu_0 \\mu_{1y} \\omega_0} + \\frac{E_{x1}^- k_{z1}}{\\mu_0 \\mu_{1y} \\omega_0} + \\frac{E_{x2}^+ k_{z2}}{\\mu_0 \\mu_{2y} \\omega_0} - \\frac{E_{x2}^- k_{z2}}{\\mu_0 \\mu_{2y} \\omega_0}$$"
      ],
      "text/plain": [
       "<IPython.core.display.Math object>"
      ]
     },
     "metadata": {},
     "output_type": "display_data"
    },
    {
     "data": {
      "text/latex": [
       "$$Eq_H1 = - \\frac{E_{y1}^+ k_{z1}}{\\mu_0 \\mu_{1x} \\omega_0} + \\frac{E_{y1}^- k_{z1}}{\\mu_0 \\mu_{1x} \\omega_0} + \\frac{E_{y2}^+ k_{z2}}{\\mu_0 \\mu_{2x} \\omega_0} - \\frac{E_{y2}^- k_{z2}}{\\mu_0 \\mu_{2x} \\omega_0}$$"
      ],
      "text/plain": [
       "<IPython.core.display.Math object>"
      ]
     },
     "metadata": {},
     "output_type": "display_data"
    },
    {
     "data": {
      "text/latex": [
       "$$E_xy2pm = \\left \\{ E_{x2}^+ : \\frac{1}{2 \\mu_{1y} k_{z2}} \\left(E_{x1}^+ \\mu_{2y} k_{z1} - E_{x1}^- \\mu_{2y} k_{z1} + \\mu_{1y} k_{z2} \\left(E_{x1}^+ + E_{x1}^-\\right)\\right), \\quad E_{x2}^- : \\frac{1}{2 \\mu_{1y} k_{z2}} \\left(- E_{x1}^+ \\mu_{2y} k_{z1} + E_{x1}^- \\mu_{2y} k_{z1} + \\mu_{1y} k_{z2} \\left(E_{x1}^+ + E_{x1}^-\\right)\\right), \\quad E_{y2}^+ : \\frac{1}{2 \\mu_{1x} k_{z2}} \\left(E_{y1}^+ \\mu_{2x} k_{z1} - E_{y1}^- \\mu_{2x} k_{z1} + \\mu_{1x} k_{z2} \\left(E_{y1}^+ + E_{y1}^-\\right)\\right), \\quad E_{y2}^- : \\frac{1}{2 \\mu_{1x} k_{z2}} \\left(- E_{y1}^+ \\mu_{2x} k_{z1} + E_{y1}^- \\mu_{2x} k_{z1} + \\mu_{1x} k_{z2} \\left(E_{y1}^+ + E_{y1}^-\\right)\\right)\\right \\}$$"
      ],
      "text/plain": [
       "<IPython.core.display.Math object>"
      ]
     },
     "metadata": {},
     "output_type": "display_data"
    },
    {
     "data": {
      "text/latex": [
       "$$E_x2p = \\frac{1}{2 \\mu_{1y} k_{z2}} \\left(E_{x1}^+ \\mu_{2y} k_{z1} - E_{x1}^- \\mu_{2y} k_{z1} + \\mu_{1y} k_{z2} \\left(E_{x1}^+ + E_{x1}^-\\right)\\right)$$"
      ],
      "text/plain": [
       "<IPython.core.display.Math object>"
      ]
     },
     "metadata": {},
     "output_type": "display_data"
    },
    {
     "data": {
      "text/latex": [
       "$$E_y2p = \\frac{1}{2 \\mu_{1x} k_{z2}} \\left(E_{y1}^+ \\mu_{2x} k_{z1} - E_{y1}^- \\mu_{2x} k_{z1} + \\mu_{1x} k_{z2} \\left(E_{y1}^+ + E_{y1}^-\\right)\\right)$$"
      ],
      "text/plain": [
       "<IPython.core.display.Math object>"
      ]
     },
     "metadata": {},
     "output_type": "display_data"
    },
    {
     "data": {
      "text/latex": [
       "$$E_x2m = \\frac{1}{2 \\mu_{1y} k_{z2}} \\left(- E_{x1}^+ \\mu_{2y} k_{z1} + E_{x1}^- \\mu_{2y} k_{z1} + \\mu_{1y} k_{z2} \\left(E_{x1}^+ + E_{x1}^-\\right)\\right)$$"
      ],
      "text/plain": [
       "<IPython.core.display.Math object>"
      ]
     },
     "metadata": {},
     "output_type": "display_data"
    },
    {
     "data": {
      "text/latex": [
       "$$E_y2m = \\frac{1}{2 \\mu_{1x} k_{z2}} \\left(- E_{y1}^+ \\mu_{2x} k_{z1} + E_{y1}^- \\mu_{2x} k_{z1} + \\mu_{1x} k_{z2} \\left(E_{y1}^+ + E_{y1}^-\\right)\\right)$$"
      ],
      "text/plain": [
       "<IPython.core.display.Math object>"
      ]
     },
     "metadata": {},
     "output_type": "display_data"
    },
    {
     "data": {
      "text/latex": [
       "$$TM = \\left[\\begin{matrix}\\frac{\\mu_{1y} k_{z2} + \\mu_{2y} k_{z1}}{2 \\mu_{1y} k_{z2}} & 0 & \\frac{\\mu_{1y} k_{z2} - \\mu_{2y} k_{z1}}{2 \\mu_{1y} k_{z2}} & 0\\\\0 & \\frac{\\mu_{1x} k_{z2} + \\mu_{2x} k_{z1}}{2 \\mu_{1x} k_{z2}} & 0 & \\frac{\\mu_{1x} k_{z2} - \\mu_{2x} k_{z1}}{2 \\mu_{1x} k_{z2}}\\\\\\frac{\\mu_{1y} k_{z2} - \\mu_{2y} k_{z1}}{2 \\mu_{1y} k_{z2}} & 0 & \\frac{\\mu_{1y} k_{z2} + \\mu_{2y} k_{z1}}{2 \\mu_{1y} k_{z2}} & 0\\\\0 & \\frac{\\mu_{1x} k_{z2} - \\mu_{2x} k_{z1}}{2 \\mu_{1x} k_{z2}} & 0 & \\frac{\\mu_{1x} k_{z2} + \\mu_{2x} k_{z1}}{2 \\mu_{1x} k_{z2}}\\end{matrix}\\right]$$"
      ],
      "text/plain": [
       "<IPython.core.display.Math object>"
      ]
     },
     "metadata": {},
     "output_type": "display_data"
    },
    {
     "data": {
      "text/latex": [
       "$$k_zeq = \\left[\\begin{matrix}- \\epsilon_0 \\epsilon_{1x} \\mu_0 \\omega_0^{2} - \\frac{k_{z1}^{2}}{\\mu_{1y}} & 0 & 0\\\\0 & - \\epsilon_0 \\epsilon_{1y} \\mu_0 \\omega_0^{2} - \\frac{k_{z1}^{2}}{\\mu_{1x}} & 0\\\\0 & 0 & - \\epsilon_0 \\epsilon_{1z} \\mu_0 \\omega_0^{2}\\end{matrix}\\right]$$"
      ],
      "text/plain": [
       "<IPython.core.display.Math object>"
      ]
     },
     "metadata": {},
     "output_type": "display_data"
    },
    {
     "name": "stdout",
     "output_type": "stream",
     "text": [
      "TM_str = \n",
      " lambda epsilon_1x,epsilon_1y,epsilon_1z,epsilon_2x,epsilon_2y,epsilon_2z,mu_1x,mu_1y,mu_1z,mu_2x,mu_2y,mu_2z: (MutableDenseMatrix([[(mu_1y*k_z2 + mu_2y*k_z1)/(2*mu_1y*k_z2), 0, (mu_1y*k_z2 - mu_2y*k_z1)/(2*mu_1y*k_z2), 0], [0, (mu_1x*k_z2 + mu_2x*k_z1)/(2*mu_1x*k_z2), 0, (mu_1x*k_z2 - mu_2x*k_z1)/(2*mu_1x*k_z2)], [(mu_1y*k_z2 - mu_2y*k_z1)/(2*mu_1y*k_z2), 0, (mu_1y*k_z2 + mu_2y*k_z1)/(2*mu_1y*k_z2), 0], [0, (mu_1x*k_z2 - mu_2x*k_z1)/(2*mu_1x*k_z2), 0, (mu_1x*k_z2 + mu_2x*k_z1)/(2*mu_1x*k_z2)]]))\n",
      "TM_str = \n",
      " lambda epsilon_1x,epsilon_1y,epsilon_1z,epsilon_2x,epsilon_2y,epsilon_2z,mu_1x,mu_1y,mu_1z,mu_2x,mu_2y,mu_2z: (np.array([[(mu_1y*k_z2 + mu_2y*k_z1)/(2*mu_1y*k_z2), 0, (mu_1y*k_z2 - mu_2y*k_z1)/(2*mu_1y*k_z2), 0], [0, (mu_1x*k_z2 + mu_2x*k_z1)/(2*mu_1x*k_z2), 0, (mu_1x*k_z2 - mu_2x*k_z1)/(2*mu_1x*k_z2)], [(mu_1y*k_z2 - mu_2y*k_z1)/(2*mu_1y*k_z2), 0, (mu_1y*k_z2 + mu_2y*k_z1)/(2*mu_1y*k_z2), 0], [0, (mu_1x*k_z2 - mu_2x*k_z1)/(2*mu_1x*k_z2), 0, (mu_1x*k_z2 + mu_2x*k_z1)/(2*mu_1x*k_z2)]]))\n"
     ]
    },
    {
     "ename": "NameError",
     "evalue": "name 'k_z1_sub' is not defined",
     "output_type": "error",
     "traceback": [
      "\u001b[0;31m---------------------------------------------------------------------------\u001b[0m",
      "\u001b[0;31mNameError\u001b[0m                                 Traceback (most recent call last)",
      "\u001b[0;32m<ipython-input-11-ca8a81ae0258>\u001b[0m in \u001b[0;36m<module>\u001b[0;34m()\u001b[0m\n\u001b[1;32m    127\u001b[0m \u001b[0mprint\u001b[0m\u001b[0;34m(\u001b[0m\u001b[0;34m'TM_str = \\n'\u001b[0m\u001b[0;34m,\u001b[0m \u001b[0mTM_str\u001b[0m\u001b[0;34m)\u001b[0m\u001b[0;34m\u001b[0m\u001b[0m\n\u001b[1;32m    128\u001b[0m \u001b[0;34m\u001b[0m\u001b[0m\n\u001b[0;32m--> 129\u001b[0;31m \u001b[0mk_z1_str\u001b[0m \u001b[0;34m=\u001b[0m \u001b[0mlambdastr\u001b[0m\u001b[0;34m(\u001b[0m\u001b[0;34m(\u001b[0m\u001b[0meps_1x\u001b[0m\u001b[0;34m,\u001b[0m \u001b[0meps_1y\u001b[0m\u001b[0;34m,\u001b[0m \u001b[0meps_1z\u001b[0m\u001b[0;34m,\u001b[0m \u001b[0meps_2x\u001b[0m\u001b[0;34m,\u001b[0m \u001b[0meps_2y\u001b[0m\u001b[0;34m,\u001b[0m \u001b[0meps_2z\u001b[0m\u001b[0;34m,\u001b[0m \u001b[0mmu_1x\u001b[0m\u001b[0;34m,\u001b[0m \u001b[0mmu_1y\u001b[0m\u001b[0;34m,\u001b[0m \u001b[0mmu_1z\u001b[0m\u001b[0;34m,\u001b[0m \u001b[0mmu_2x\u001b[0m\u001b[0;34m,\u001b[0m \u001b[0mmu_2y\u001b[0m\u001b[0;34m,\u001b[0m \u001b[0mmu_2z\u001b[0m\u001b[0;34m)\u001b[0m\u001b[0;34m,\u001b[0m \u001b[0mk_z1_sub\u001b[0m\u001b[0;34m)\u001b[0m\u001b[0;34m.\u001b[0m\u001b[0mreplace\u001b[0m\u001b[0;34m(\u001b[0m\u001b[0;34m'\\\\'\u001b[0m\u001b[0;34m,\u001b[0m \u001b[0;34m''\u001b[0m\u001b[0;34m)\u001b[0m\u001b[0;34m.\u001b[0m\u001b[0mreplace\u001b[0m\u001b[0;34m(\u001b[0m\u001b[0;34m'{'\u001b[0m\u001b[0;34m,\u001b[0m \u001b[0;34m''\u001b[0m\u001b[0;34m)\u001b[0m\u001b[0;34m.\u001b[0m\u001b[0mreplace\u001b[0m\u001b[0;34m(\u001b[0m\u001b[0;34m'}'\u001b[0m\u001b[0;34m,\u001b[0m \u001b[0;34m''\u001b[0m\u001b[0;34m)\u001b[0m\u001b[0;34m\u001b[0m\u001b[0m\n\u001b[0m\u001b[1;32m    130\u001b[0m \u001b[0mprint\u001b[0m\u001b[0;34m(\u001b[0m\u001b[0;34m'k_z1_str = \\n'\u001b[0m\u001b[0;34m,\u001b[0m \u001b[0mk_z1_str\u001b[0m\u001b[0;34m)\u001b[0m\u001b[0;34m\u001b[0m\u001b[0m\n\u001b[1;32m    131\u001b[0m \u001b[0;34m\u001b[0m\u001b[0m\n",
      "\u001b[0;31mNameError\u001b[0m: name 'k_z1_sub' is not defined"
     ]
    }
   ],
   "source": [
    "from sympy import *\n",
    "from IPython.display import display, Math\n",
    "\n",
    "from sympy.utilities.lambdify import lambdastr\n",
    "\n",
    "from Electromagnetics import Misc\n",
    "from Electromagnetics.VectorCalculus import crossproduct\n",
    "\n",
    "E_x1p, E_x2p, E_y1p, E_y2p= symbols('E_{x1}^+ E_{x2}^+ E_{y1}^+ E_{y2}^+')\n",
    "E_x1m, E_x2m, E_y1m, E_y2m = symbols('E_{x1}^- E_{x2}^- E_{y1}^- E_{y2}^-')\n",
    "eps_1x, eps_2x, mu_1x, mu_2x = symbols(r'\\epsilon_{1x} \\epsilon_{2x} \\mu_{1x} \\mu_{2x}', real=True, positive=True)\n",
    "eps_1y, eps_2y, mu_1y, mu_2y = symbols(r'\\epsilon_{1y} \\epsilon_{2y} \\mu_{1y} \\mu_{2y}', real=True, positive=True)\n",
    "eps_1z, eps_2z, mu_1z, mu_2z = symbols(r'\\epsilon_{1z} \\epsilon_{2z} \\mu_{1z} \\mu_{2z}', real=True, positive=True)\n",
    "omega_0, k_0, eps_0, mu_0 = symbols(r'\\omega_0 k_0 \\epsilon_0 \\mu_0')\n",
    "k_z1, k_z2 = symbols('k_{z1} k_{z2}')\n",
    "\n",
    "k_1p = Matrix([[0, 0, +k_z1]])\n",
    "k_1m = Matrix([[0, 0, -k_z1]])\n",
    "k_2p = Matrix([[0, 0, +k_z2]])\n",
    "k_2m = Matrix([[0, 0, -k_z2]])\n",
    "\n",
    "print('unit k vectors:')\n",
    "display(Math('k_1^+ = '+latex(k_1p)))\n",
    "display(Math('k_1^- = '+latex(k_1m)))\n",
    "display(Math('k_2^+ = '+latex(k_2p)))\n",
    "display(Math('k_2^- = '+latex(k_2m)))\n",
    "\n",
    "\n",
    "E_1p = Matrix([[E_x1p, E_y1p, 0]])\n",
    "E_1m = Matrix([[E_x1m, E_y1m, 0]])\n",
    "E_2p = Matrix([[E_x2p, E_y2p, 0]])\n",
    "E_2m = Matrix([[E_x2m, E_y2m, 0]])\n",
    "\n",
    "print('Electric field:')\n",
    "display(Math('E_1^+ = '+latex(E_1p)))\n",
    "display(Math('E_1^- = '+latex(E_1m)))\n",
    "display(Math('E_2^+ = '+latex(E_2p)))\n",
    "display(Math('E_2^- = '+latex(E_2m)))\n",
    "\n",
    "eps_mat_1 = Matrix([[eps_1x,0,     0],\n",
    "                    [0,     eps_1y, 0],\n",
    "                    [0,     0,      eps_1z]])\n",
    "eps_mat_2 = Matrix([[eps_2x,0,     0],\n",
    "                    [0,     eps_2y, 0],\n",
    "                    [0,     0,      eps_2z]])\n",
    "mu_mat_1 = Matrix([[mu_1x, 0,     0],\n",
    "                    [0,    mu_1y, 0],\n",
    "                    [0,    0,     mu_1z]])\n",
    "mu_mat_2 = Matrix([[mu_2x, 0,     0],\n",
    "                    [0,    mu_2y, 0],\n",
    "                    [0,    0,     mu_2z]])\n",
    "\n",
    "eps_r1_inv = eps_mat_1.inv()\n",
    "eps_r2_inv = eps_mat_2.inv()\n",
    "mu_r1_inv = mu_mat_1.inv()\n",
    "mu_r2_inv = mu_mat_2.inv()\n",
    "\n",
    "H_1p = mu_r1_inv*crossproduct(k_1p, E_1p).T/(omega_0*mu_0)\n",
    "H_1m = mu_r1_inv*crossproduct(k_1m, E_1m).T/(omega_0*mu_0)\n",
    "H_2p = mu_r2_inv*crossproduct(k_2p, E_2p).T/(omega_0*mu_0)\n",
    "H_2m = mu_r2_inv*crossproduct(k_2m, E_2m).T/(omega_0*mu_0)\n",
    "\n",
    "H_1p = H_1p.T\n",
    "H_1m = H_1m.T\n",
    "H_2p = H_2p.T\n",
    "H_2m = H_2m.T\n",
    "\n",
    "print('Magnetic field:')\n",
    "display(Math('H_1^+ = '+latex(H_1p)))\n",
    "display(Math('H_1^- = '+latex(H_1m)))\n",
    "display(Math('H_2^+ = '+latex(H_2p)))\n",
    "display(Math('H_2^- = '+latex(H_2m)))\n",
    "\n",
    "\n",
    "a_z = Matrix([[0, 0, 1]])\n",
    "\n",
    "eq_E_0 = crossproduct(a_z, E_1p+E_1m-E_2p-E_2m)[0]\n",
    "eq_E_1 = crossproduct(a_z, E_1p+E_1m-E_2p-E_2m)[1]\n",
    "eq_H_0 = crossproduct(a_z, H_1p+H_1m-H_2p-H_2m)[0]\n",
    "eq_H_1 = crossproduct(a_z, H_1p+H_1m-H_2p-H_2m)[1]\n",
    "\n",
    "display(Math('Eq_E0 = '+latex(eq_E_0)))\n",
    "display(Math('Eq_E1 = '+latex(eq_E_1)))\n",
    "display(Math('Eq_H0 = '+latex(eq_H_0)))\n",
    "display(Math('Eq_H1 = '+latex(eq_H_1)))\n",
    "\n",
    "\n",
    "E_xy2pm = solve([eq_E_0, eq_E_1, eq_H_0, eq_H_1], [E_x2p, E_y2p, E_x2m, E_y2m])\n",
    "display(Math('E_xy2pm = '+latex(E_xy2pm)))\n",
    "\n",
    "\n",
    "E_x2p_sub = E_xy2pm[E_x2p]\n",
    "E_y2p_sub = E_xy2pm[E_y2p]\n",
    "E_x2m_sub = E_xy2pm[E_x2m]\n",
    "E_y2m_sub = E_xy2pm[E_y2m]\n",
    "display(Math('E_x2p = '+latex(E_x2p_sub)))\n",
    "display(Math('E_y2p = '+latex(E_y2p_sub)))\n",
    "display(Math('E_x2m = '+latex(E_x2m_sub)))\n",
    "display(Math('E_y2m = '+latex(E_y2m_sub)))\n",
    "\n",
    "\n",
    "TM =  Matrix([[E_x2p_sub.subs([(E_x1p, 1), (E_y1p, 0), (E_x1m, 0), (E_y1m, 0)]), E_x2p_sub.subs([(E_x1p, 0), (E_y1p, 1), (E_x1m, 0), (E_y1m, 0)]), E_x2p_sub.subs([(E_x1p, 0), (E_y1p, 0), (E_x1m, 1), (E_y1m, 0)]), E_x2p_sub.subs([(E_x1p, 0), (E_y1p, 0), (E_x1m, 0), (E_y1m, 1)])],\n",
    "              [E_y2p_sub.subs([(E_x1p, 1), (E_y1p, 0), (E_x1m, 0), (E_y1m, 0)]), E_y2p_sub.subs([(E_x1p, 0), (E_y1p, 1), (E_x1m, 0), (E_y1m, 0)]), E_y2p_sub.subs([(E_x1p, 0), (E_y1p, 0), (E_x1m, 1), (E_y1m, 0)]), E_y2p_sub.subs([(E_x1p, 0), (E_y1p, 0), (E_x1m, 0), (E_y1m, 1)])],\n",
    "              [E_x2m_sub.subs([(E_x1p, 1), (E_y1p, 0), (E_x1m, 0), (E_y1m, 0)]), E_x2m_sub.subs([(E_x1p, 0), (E_y1p, 1), (E_x1m, 0), (E_y1m, 0)]), E_x2m_sub.subs([(E_x1p, 0), (E_y1p, 0), (E_x1m, 1), (E_y1m, 0)]), E_x2m_sub.subs([(E_x1p, 0), (E_y1p, 0), (E_x1m, 0), (E_y1m, 1)])],\n",
    "              [E_y2m_sub.subs([(E_x1p, 1), (E_y1p, 0), (E_x1m, 0), (E_y1m, 0)]), E_y2m_sub.subs([(E_x1p, 0), (E_y1p, 1), (E_x1m, 0), (E_y1m, 0)]), E_y2m_sub.subs([(E_x1p, 0), (E_y1p, 0), (E_x1m, 1), (E_y1m, 0)]), E_y2m_sub.subs([(E_x1p, 0), (E_y1p, 0), (E_x1m, 0), (E_y1m, 1)])]])\n",
    "TM = Misc.SymMatrixSimplify(TM)\n",
    "display(Math('TM = '+latex(TM)))\n",
    "\n",
    "\n",
    "## get k x (cross product) in matrix form\n",
    "def cross_to_matrix(x):\n",
    "    A = Matrix([[    0, -x[2],  x[1]],\n",
    "                [ x[2],     0, -x[0]],\n",
    "                [-x[1],  x[0],     0]])\n",
    "    return A\n",
    "\n",
    "k_cross = cross_to_matrix(k_1p)\n",
    "k_z_eq = k_cross*mu_r1_inv*k_cross - omega_0**2*mu_0*eps_0*eps_mat_1\n",
    "display(Math('k_zeq = '+latex(k_z_eq)))\n",
    "\n",
    "\n",
    "TM_str = lambdastr((eps_1x, eps_1y, eps_1z, eps_2x, eps_2y, eps_2z, mu_1x, mu_1y, mu_1z, mu_2x, mu_2y, mu_2z), TM).replace('\\\\', '').replace('{', '').replace('}', '')\n",
    "print('TM_str = \\n', TM_str)\n",
    "\n",
    "TM_str = Misc.replace_whole_word(TM_str, 'I', '1j')\n",
    "TM_str = Misc.replace_whole_word(TM_str, 'MutableDenseMatrix', 'np.array')\n",
    "print('TM_str = \\n', TM_str)\n",
    "\n",
    "k_z1_str = lambdastr((eps_1x, eps_1y, eps_1z, eps_2x, eps_2y, eps_2z, mu_1x, mu_1y, mu_1z, mu_2x, mu_2y, mu_2z), k_z1_sub).replace('\\\\', '').replace('{', '').replace('}', '')\n",
    "print('k_z1_str = \\n', k_z1_str)\n",
    "\n"
   ]
  },
  {
   "cell_type": "code",
   "execution_count": null,
   "metadata": {
    "collapsed": true
   },
   "outputs": [],
   "source": []
  }
 ],
 "metadata": {
  "kernelspec": {
   "display_name": "Python 3",
   "language": "python",
   "name": "python3"
  },
  "language_info": {
   "codemirror_mode": {
    "name": "ipython",
    "version": 3
   },
   "file_extension": ".py",
   "mimetype": "text/x-python",
   "name": "python",
   "nbconvert_exporter": "python",
   "pygments_lexer": "ipython3",
   "version": "3.5.2"
  }
 },
 "nbformat": 4,
 "nbformat_minor": 1
}
