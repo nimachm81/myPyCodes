{
 "cells": [
  {
   "cell_type": "markdown",
   "metadata": {},
   "source": [
    "### Time varying GSTC - 1D"
   ]
  },
  {
   "cell_type": "markdown",
   "metadata": {},
   "source": [
    "### direct space"
   ]
  },
  {
   "cell_type": "code",
   "execution_count": 2,
   "metadata": {
    "collapsed": false
   },
   "outputs": [
    {
     "data": {
      "text/latex": [
       "$$\\mathbf{n}\\times\\left(\\mathbf{H}^{+}-\\mathbf{H}^{-}\\right)=\\frac{\\partial}{\\partial t}\\mathbf{P}_{t}$$"
      ],
      "text/plain": [
       "<IPython.core.display.Math object>"
      ]
     },
     "metadata": {},
     "output_type": "display_data"
    },
    {
     "data": {
      "text/latex": [
       "$$\\mathbf{n}\\times\\left(\\mathbf{E}^{+}-\\mathbf{E}^{-}\\right)=-\\mu_{0}\\frac{\\partial}{\\partial t}\\mathbf{M}_{t}$$"
      ],
      "text/plain": [
       "<IPython.core.display.Math object>"
      ]
     },
     "metadata": {},
     "output_type": "display_data"
    },
    {
     "data": {
      "text/latex": [
       "$$\\mathbf{P}_{t}\\left(t\\right)=\\intop\\mathbf{n}\\times\\left(\\mathbf{H}^{+}-\\mathbf{H^{-}}\\right)dt=\\varepsilon_{0}\\mathbf{\\boldsymbol{\\chi}}_{ee}\\left(t\\right)\\mathbf{\\overline{\\mathbf{E}}}\\left(t\\right)$$"
      ],
      "text/plain": [
       "<IPython.core.display.Math object>"
      ]
     },
     "metadata": {},
     "output_type": "display_data"
    },
    {
     "data": {
      "text/latex": [
       "$$\\mathbf{M}_{t}\\left(t\\right)=-\\frac{1}{\\mu_{0}}\\intop\\mathbf{n}\\times\\left(\\mathbf{E}^{+}-\\mathbf{E^{-}}\\right)dt=\\mathbf{\\boldsymbol{\\chi}}_{mm}\\left(t\\right)\\overline{\\mathbf{H}}\\left(t\\right)$$"
      ],
      "text/plain": [
       "<IPython.core.display.Math object>"
      ]
     },
     "metadata": {},
     "output_type": "display_data"
    }
   ],
   "source": [
    "from IPython.display import display, Math\n",
    "from sympy import latex\n",
    "\n",
    "eq_1_ltx = r'\\mathbf{n}\\times\\left(\\mathbf{H}^{+}-\\mathbf{H}^{-}\\right)=\\frac{\\partial}{\\partial t}\\mathbf{P}_{t}'\n",
    "eq_2_ltx = r'\\mathbf{n}\\times\\left(\\mathbf{E}^{+}-\\mathbf{E}^{-}\\right)=-\\mu_{0}\\frac{\\partial}{\\partial t}\\mathbf{M}_{t}'\n",
    "eq_3_ltx = r'\\mathbf{P}_{t}\\left(t\\right)=\\intop\\mathbf{n}\\times\\left(\\mathbf{H}^{+}-\\mathbf{H^{-}}\\right)dt=\\varepsilon_{0}\\mathbf{\\boldsymbol{\\chi}}_{ee}\\left(t\\right)\\mathbf{\\overline{\\mathbf{E}}}\\left(t\\right)'\n",
    "eq_4_ltx = r'\\mathbf{M}_{t}\\left(t\\right)=-\\frac{1}{\\mu_{0}}\\intop\\mathbf{n}\\times\\left(\\mathbf{E}^{+}-\\mathbf{E^{-}}\\right)dt=\\mathbf{\\boldsymbol{\\chi}}_{mm}\\left(t\\right)\\overline{\\mathbf{H}}\\left(t\\right)'\n",
    "\n",
    "display(Math(eq_1_ltx))\n",
    "display(Math(eq_2_ltx))\n",
    "display(Math(eq_3_ltx))\n",
    "display(Math(eq_4_ltx))\n"
   ]
  },
  {
   "cell_type": "markdown",
   "metadata": {},
   "source": [
    "### differential equation for polarization densities"
   ]
  },
  {
   "cell_type": "code",
   "execution_count": 10,
   "metadata": {
    "collapsed": false
   },
   "outputs": [
    {
     "data": {
      "text/latex": [
       "$$E^i = \\left[\\begin{matrix}\\operatorname{E^{i}_{{x}}}{\\left (t \\right )} & 0 & 0\\end{matrix}\\right]$$"
      ],
      "text/plain": [
       "<IPython.core.display.Math object>"
      ]
     },
     "metadata": {},
     "output_type": "display_data"
    },
    {
     "data": {
      "text/latex": [
       "$$E^r = \\left[\\begin{matrix}\\operatorname{E^{r}_{{x}}}{\\left (t \\right )} & 0 & 0\\end{matrix}\\right]$$"
      ],
      "text/plain": [
       "<IPython.core.display.Math object>"
      ]
     },
     "metadata": {},
     "output_type": "display_data"
    },
    {
     "data": {
      "text/latex": [
       "$$E^t = \\left[\\begin{matrix}\\operatorname{E^{t}_{{x}}}{\\left (t \\right )} & 0 & 0\\end{matrix}\\right]$$"
      ],
      "text/plain": [
       "<IPython.core.display.Math object>"
      ]
     },
     "metadata": {},
     "output_type": "display_data"
    },
    {
     "data": {
      "text/latex": [
       "$$H^i = \\left[\\begin{matrix}0 & \\frac{1}{\\eta_{0}} \\operatorname{E^{i}_{{x}}}{\\left (t \\right )} & 0\\end{matrix}\\right]$$"
      ],
      "text/plain": [
       "<IPython.core.display.Math object>"
      ]
     },
     "metadata": {},
     "output_type": "display_data"
    },
    {
     "data": {
      "text/latex": [
       "$$H^r = \\left[\\begin{matrix}0 & - \\frac{1}{\\eta_{0}} \\operatorname{E^{r}_{{x}}}{\\left (t \\right )} & 0\\end{matrix}\\right]$$"
      ],
      "text/plain": [
       "<IPython.core.display.Math object>"
      ]
     },
     "metadata": {},
     "output_type": "display_data"
    },
    {
     "data": {
      "text/latex": [
       "$$H^t = \\left[\\begin{matrix}0 & \\frac{1}{\\eta_{0}} \\operatorname{E^{t}_{{x}}}{\\left (t \\right )} & 0\\end{matrix}\\right]$$"
      ],
      "text/plain": [
       "<IPython.core.display.Math object>"
      ]
     },
     "metadata": {},
     "output_type": "display_data"
    },
    {
     "data": {
      "text/latex": [
       "$$P = \\left[\\begin{matrix}\\epsilon_{0} \\left(0.5 \\operatorname{E^{i}_{{x}}}{\\left (t \\right )} + 0.5 \\operatorname{E^{r}_{{x}}}{\\left (t \\right )} + 0.5 \\operatorname{E^{t}_{{x}}}{\\left (t \\right )}\\right) \\chi_{{ee}}{\\left (t \\right )}\\\\0\\\\0\\end{matrix}\\right]$$"
      ],
      "text/plain": [
       "<IPython.core.display.Math object>"
      ]
     },
     "metadata": {},
     "output_type": "display_data"
    },
    {
     "data": {
      "text/latex": [
       "$$M = \\left[\\begin{matrix}0\\\\\\left(\\frac{0.5}{\\eta_{0}} \\operatorname{E^{i}_{{x}}}{\\left (t \\right )} - \\frac{0.5}{\\eta_{0}} \\operatorname{E^{r}_{{x}}}{\\left (t \\right )} + \\frac{0.5}{\\eta_{0}} \\operatorname{E^{t}_{{x}}}{\\left (t \\right )}\\right) \\chi_{{mm}}{\\left (t \\right )}\\\\0\\end{matrix}\\right]$$"
      ],
      "text/plain": [
       "<IPython.core.display.Math object>"
      ]
     },
     "metadata": {},
     "output_type": "display_data"
    },
    {
     "data": {
      "text/latex": [
       "$$Eq_0 = \\epsilon_{0} \\left(0.5 \\operatorname{E^{i}_{{x}}}{\\left (t \\right )} + 0.5 \\operatorname{E^{r}_{{x}}}{\\left (t \\right )} + 0.5 \\operatorname{E^{t}_{{x}}}{\\left (t \\right )}\\right) \\chi_{{ee}}{\\left (t \\right )} - \\operatorname{P_{{x}}}{\\left (t \\right )}$$"
      ],
      "text/plain": [
       "<IPython.core.display.Math object>"
      ]
     },
     "metadata": {},
     "output_type": "display_data"
    },
    {
     "data": {
      "text/latex": [
       "$$Eq_1 = \\left(\\frac{0.5}{\\eta_{0}} \\operatorname{E^{i}_{{x}}}{\\left (t \\right )} - \\frac{0.5}{\\eta_{0}} \\operatorname{E^{r}_{{x}}}{\\left (t \\right )} + \\frac{0.5}{\\eta_{0}} \\operatorname{E^{t}_{{x}}}{\\left (t \\right )}\\right) \\chi_{{mm}}{\\left (t \\right )} - \\operatorname{M_{{y}}}{\\left (t \\right )}$$"
      ],
      "text/plain": [
       "<IPython.core.display.Math object>"
      ]
     },
     "metadata": {},
     "output_type": "display_data"
    },
    {
     "data": {
      "text/latex": [
       "$$Er_x = - \\frac{\\eta_{0} \\operatorname{M_{{y}}}{\\left (t \\right )}}{\\chi_{{mm}}{\\left (t \\right )}} + \\frac{\\operatorname{P_{{x}}}{\\left (t \\right )}}{\\epsilon_{0} \\chi_{{ee}}{\\left (t \\right )}}$$"
      ],
      "text/plain": [
       "<IPython.core.display.Math object>"
      ]
     },
     "metadata": {},
     "output_type": "display_data"
    },
    {
     "data": {
      "text/latex": [
       "$$Et_x = \\frac{\\eta_{0} \\operatorname{M_{{y}}}{\\left (t \\right )}}{\\chi_{{mm}}{\\left (t \\right )}} - \\operatorname{E^{i}_{{x}}}{\\left (t \\right )} + \\frac{\\operatorname{P_{{x}}}{\\left (t \\right )}}{\\epsilon_{0} \\chi_{{ee}}{\\left (t \\right )}}$$"
      ],
      "text/plain": [
       "<IPython.core.display.Math object>"
      ]
     },
     "metadata": {},
     "output_type": "display_data"
    },
    {
     "data": {
      "text/latex": [
       "$$DEq_0 : - \\frac{d}{d t} \\operatorname{P_{{x}}}{\\left (t \\right )} + \\frac{1}{\\eta_{0}} \\operatorname{E^{i}_{{x}}}{\\left (t \\right )} - \\frac{1}{\\eta_{0}} \\operatorname{E^{r}_{{x}}}{\\left (t \\right )} - \\frac{1}{\\eta_{0}} \\operatorname{E^{t}_{{x}}}{\\left (t \\right )}$$"
      ],
      "text/plain": [
       "<IPython.core.display.Math object>"
      ]
     },
     "metadata": {},
     "output_type": "display_data"
    },
    {
     "data": {
      "text/latex": [
       "$$DEq_1 : \\mu_{0} \\frac{d}{d t} \\operatorname{M_{{y}}}{\\left (t \\right )} - \\operatorname{E^{i}_{{x}}}{\\left (t \\right )} - \\operatorname{E^{r}_{{x}}}{\\left (t \\right )} + \\operatorname{E^{t}_{{x}}}{\\left (t \\right )}$$"
      ],
      "text/plain": [
       "<IPython.core.display.Math object>"
      ]
     },
     "metadata": {},
     "output_type": "display_data"
    },
    {
     "data": {
      "text/latex": [
       "$$DEq_0 : - \\frac{d}{d t} \\operatorname{P_{{x}}}{\\left (t \\right )} + \\frac{2}{\\eta_{0}} \\operatorname{E^{i}_{{x}}}{\\left (t \\right )} - \\frac{2 \\operatorname{P_{{x}}}{\\left (t \\right )}}{\\epsilon_{0} \\eta_{0} \\chi_{{ee}}{\\left (t \\right )}}$$"
      ],
      "text/plain": [
       "<IPython.core.display.Math object>"
      ]
     },
     "metadata": {},
     "output_type": "display_data"
    },
    {
     "data": {
      "text/latex": [
       "$$DEq_1 : \\frac{2 \\eta_{0} \\operatorname{M_{{y}}}{\\left (t \\right )}}{\\chi_{{mm}}{\\left (t \\right )}} + \\mu_{0} \\frac{d}{d t} \\operatorname{M_{{y}}}{\\left (t \\right )} - 2 \\operatorname{E^{i}_{{x}}}{\\left (t \\right )}$$"
      ],
      "text/plain": [
       "<IPython.core.display.Math object>"
      ]
     },
     "metadata": {},
     "output_type": "display_data"
    }
   ],
   "source": [
    "from sympy import *\n",
    "from Electromagnetics.VectorCalculus import *\n",
    "from IPython.display import display, Math, Latex\n",
    "\n",
    "from sympy.utilities.lambdify import lambdastr\n",
    "from Electromagnetics import Misc\n",
    "\n",
    "t, x, y, z = symbols('t x y z')\n",
    "Ei_x = Function('E^i_{x}')(t)\n",
    "Er_x = Function('E^r_{x}')(t)\n",
    "Et_x = Function('E^t_{x}')(t)\n",
    "\n",
    "X_ee = Function('\\\\chi_{ee}')(t)\n",
    "X_mm = Function('\\\\chi_{mm}')(t)\n",
    "\n",
    "\n",
    "eps_0, mu_0, eta_0 = symbols('\\\\epsilon_0 \\\\mu_0 \\\\eta_0')\n",
    "\n",
    "Ei = Matrix([[Ei_x, 0, 0]])\n",
    "Er = Matrix([[Er_x, 0, 0]])\n",
    "Et = Matrix([[Et_x, 0, 0]])\n",
    "\n",
    "a_z = Matrix([[0, 0, 1]])\n",
    "\n",
    "Hi = crossproduct(a_z, Ei)/eta_0\n",
    "Hr = crossproduct(-a_z, Er)/eta_0\n",
    "Ht = crossproduct(a_z, Et)/eta_0\n",
    "\n",
    "display(Math('E^i = ' + latex(Ei)))\n",
    "display(Math('E^r = ' + latex(Er)))\n",
    "display(Math('E^t = ' + latex(Et)))\n",
    "\n",
    "display(Math('H^i = ' + latex(Hi)))\n",
    "display(Math('H^r = ' + latex(Hr)))\n",
    "display(Math('H^t = ' + latex(Ht)))\n",
    "\n",
    "del_E = Et-Ei-Er\n",
    "del_H = Ht-Hi-Hr\n",
    "E_avg = (Ei+Er+Et)/2.0\n",
    "H_avg = (Hi+Hr+Ht)/2.0\n",
    "\n",
    "P = eps_0*X_ee*E_avg\n",
    "M = X_mm*H_avg\n",
    "\n",
    "display(Math('P = ' + latex(P.T)))\n",
    "display(Math('M = ' + latex(M.T)))\n",
    "\n",
    "P_x = Function('P_{x}')(t)\n",
    "M_y = Function('M_{y}')(t)\n",
    "\n",
    "eq_0 = P[0] - P_x\n",
    "eq_1 = M[1] - M_y\n",
    "\n",
    "display(Math('Eq_0 = ' + latex(eq_0)))\n",
    "display(Math('Eq_1 = ' + latex(eq_1)))\n",
    "\n",
    "Er_Et_sub = solve([eq_0, eq_1], [Er_x, Et_x])\n",
    "Er_x_sub = Er_Et_sub[Er_x]\n",
    "Et_x_sub = Er_Et_sub[Et_x]\n",
    "\n",
    "display(Math('Er_x = ' + latex(Er_x_sub)))\n",
    "display(Math('Et_x = ' + latex(Et_x_sub)))\n",
    "\n",
    "P = Matrix([[P_x, 0, 0]])\n",
    "M = Matrix([[0, M_y, 0]])\n",
    "deq_0 = (crossproduct(a_z, del_H) - Misc.SymMatrixdiff(P, t))[0]\n",
    "deq_1 = (crossproduct(a_z, del_E) + mu_0*Misc.SymMatrixdiff(M, t))[1]\n",
    "\n",
    "display(Math('DEq_0 : ' + latex(deq_0)))\n",
    "display(Math('DEq_1 : ' + latex(deq_1)))\n",
    "\n",
    "deq_0 = deq_0.subs([(Er_x, Er_x_sub), (Et_x, Et_x_sub)]).simplify()\n",
    "deq_1 = deq_1.subs([(Er_x, Er_x_sub), (Et_x, Et_x_sub)]).simplify()\n",
    "\n",
    "display(Math('DEq_0 : ' + latex(deq_0)))\n",
    "display(Math('DEq_1 : ' + latex(deq_1)))\n",
    "\n"
   ]
  },
  {
   "cell_type": "markdown",
   "metadata": {},
   "source": [
    "### calculating susceptibilities"
   ]
  },
  {
   "cell_type": "code",
   "execution_count": 1,
   "metadata": {
    "collapsed": false
   },
   "outputs": [
    {
     "data": {
      "text/latex": [
       "$$E_i : - 1.0 e^{- 9.0 \\left(t - 1.0 z - 24.75\\right)^{2}} + 1.0 e^{- 9.0 \\left(t - 1.0 z - 25.25\\right)^{2}}$$"
      ],
      "text/plain": [
       "<IPython.core.display.Math object>"
      ]
     },
     "metadata": {},
     "output_type": "display_data"
    },
    {
     "data": {
      "text/latex": [
       "$$E_r : 0$$"
      ],
      "text/plain": [
       "<IPython.core.display.Math object>"
      ]
     },
     "metadata": {},
     "output_type": "display_data"
    },
    {
     "data": {
      "text/latex": [
       "$$E_t : 2.0 e^{- 9.0 \\left(t - 1.0 z - 24.75\\right)^{2}} - 2.0 e^{- 9.0 \\left(t - 1.0 z - 25.25\\right)^{2}}$$"
      ],
      "text/plain": [
       "<IPython.core.display.Math object>"
      ]
     },
     "metadata": {},
     "output_type": "display_data"
    },
    {
     "data": {
      "image/png": "[encoded data removed]",
      "text/plain": [
       "<matplotlib.figure.Figure at 0x7fea90b80f98>"
      ]
     },
     "metadata": {},
     "output_type": "display_data"
    },
    {
     "data": {
      "image/png": "[encoded data removed]",
      "text/plain": [
       "<matplotlib.figure.Figure at 0x7fea64faec88>"
      ]
     },
     "metadata": {},
     "output_type": "display_data"
    },
    {
     "name": "stderr",
     "output_type": "stream",
     "text": [
      "/home/nima/ipython workspace/Electromagnetics/GSTCTD.py:45: RuntimeWarning: divide by zero encountered in true_divide\n",
      "  X_ee = (2.0*P_t)/(E_t(t, 0.0)+E_i(t, 0.0)+E_r(t, 0.0))/eps_0\n",
      "/home/nima/ipython workspace/Electromagnetics/GSTCTD.py:45: RuntimeWarning: overflow encountered in true_divide\n",
      "  X_ee = (2.0*P_t)/(E_t(t, 0.0)+E_i(t, 0.0)+E_r(t, 0.0))/eps_0\n",
      "/home/nima/ipython workspace/Electromagnetics/GSTCTD.py:45: RuntimeWarning: invalid value encountered in true_divide\n",
      "  X_ee = (2.0*P_t)/(E_t(t, 0.0)+E_i(t, 0.0)+E_r(t, 0.0))/eps_0\n",
      "/home/nima/ipython workspace/Electromagnetics/GSTCTD.py:46: RuntimeWarning: divide by zero encountered in true_divide\n",
      "  X_mm = (2.0*eta_0*M_t)/(E_t(t, 0.0)+E_i(t, 0.0)-E_r(t, 0.0))\n",
      "/home/nima/ipython workspace/Electromagnetics/GSTCTD.py:46: RuntimeWarning: overflow encountered in true_divide\n",
      "  X_mm = (2.0*eta_0*M_t)/(E_t(t, 0.0)+E_i(t, 0.0)-E_r(t, 0.0))\n",
      "/home/nima/ipython workspace/Electromagnetics/GSTCTD.py:46: RuntimeWarning: invalid value encountered in true_divide\n",
      "  X_mm = (2.0*eta_0*M_t)/(E_t(t, 0.0)+E_i(t, 0.0)-E_r(t, 0.0))\n"
     ]
    },
    {
     "data": {
      "image/png": "[encoded data removed]",
      "text/plain": [
       "<matplotlib.figure.Figure at 0x7fea60cb38d0>"
      ]
     },
     "metadata": {},
     "output_type": "display_data"
    },
    {
     "data": {
      "image/png": "[encoded data removed]",
      "text/plain": [
       "<matplotlib.figure.Figure at 0x7fea5cf0d8d0>"
      ]
     },
     "metadata": {},
     "output_type": "display_data"
    },
    {
     "data": {
      "image/png": "[encoded data removed]",
      "text/plain": [
       "<matplotlib.figure.Figure at 0x7fea5ce9b3c8>"
      ]
     },
     "metadata": {},
     "output_type": "display_data"
    },
    {
     "name": "stdout",
     "output_type": "stream",
     "text": [
      "X_ee_max : 8.0\n",
      "self.X_ee_intervals: [[23.973973973973976, 24.024024024024026], [25.975975975975977, 26.026026026026027]]\n",
      "self.X_mm_intervals: [[23.973973973973976, 24.024024024024026], [25.975975975975977, 26.026026026026027]]\n",
      "self.X_ee_roots :  []\n"
     ]
    },
    {
     "data": {
      "image/png": "[encoded data removed]",
      "text/plain": [
       "<matplotlib.figure.Figure at 0x7fea60d069b0>"
      ]
     },
     "metadata": {},
     "output_type": "display_data"
    },
    {
     "data": {
      "image/png": "[encoded data removed]",
      "text/plain": [
       "<matplotlib.figure.Figure at 0x7fea5ce4c0b8>"
      ]
     },
     "metadata": {},
     "output_type": "display_data"
    },
    {
     "name": "stdout",
     "output_type": "stream",
     "text": [
      "X_ee_roots: []\n",
      "X_mm_roots: []\n",
      "subintervals_ee: [24.0, 25.0, 26.0]\n",
      "subinterval_zeros_ee: [24.0, 26.0]\n",
      "subintervals_mm: [24.0, 25.0, 26.0]\n",
      "subinterval_zeros_mm: [24.0, 26.0]\n",
      "g[t_p]: -0.0260305733084\n"
     ]
    },
    {
     "data": {
      "image/png": "[encoded data removed]",
      "text/plain": [
       "<matplotlib.figure.Figure at 0x7fea5cec85f8>"
      ]
     },
     "metadata": {},
     "output_type": "display_data"
    },
    {
     "name": "stderr",
     "output_type": "stream",
     "text": [
      "/home/nima/ipython workspace/Electromagnetics/GSTCTD.py:397: RuntimeWarning: divide by zero encountered in double_scalars\n",
      "  theta[i] = np.abs(t[i]-t_p)**(a[i])/b\n",
      "/home/nima/ipython workspace/Electromagnetics/GSTCTD.py:513: RuntimeWarning: invalid value encountered in true_divide\n",
      "  (t - t_p)*g/a*is_close_tp\n",
      "/home/nima/ipython workspace/Electromagnetics/GSTCTD.py:441: RuntimeWarning: invalid value encountered in true_divide\n",
      "  f = (int_theta_g + c)/(theta)*np.logical_not(is_close_tp) + \\\n",
      "/home/nima/ipython workspace/Electromagnetics/GSTCTD.py:442: RuntimeWarning: invalid value encountered in true_divide\n",
      "  (t - t_p)*g/a*is_close_tp\n"
     ]
    },
    {
     "data": {
      "image/png": "[encoded data removed]",
      "text/plain": [
       "<matplotlib.figure.Figure at 0x7fea5cd956d8>"
      ]
     },
     "metadata": {},
     "output_type": "display_data"
    },
    {
     "data": {
      "image/png": "[encoded data removed]",
      "text/plain": [
       "<matplotlib.figure.Figure at 0x7fea5cf09dd8>"
      ]
     },
     "metadata": {},
     "output_type": "display_data"
    }
   ],
   "source": [
    "import numpy as np\n",
    "from scipy.integrate import romb, quad\n",
    "import matplotlib.pyplot as plt\n",
    "import matplotlib.animation as animation\n",
    "import matplotlib\n",
    "\n",
    "\n",
    "from Electromagnetics.GSTCTD import GSTCTD1D\n",
    "import sympy\n",
    "from IPython.display import display, Math, Latex\n",
    "from sympy import latex\n",
    "\n",
    "import os\n",
    "cwd = os.getcwd()\n",
    "dir_name = os.path.join(cwd, 'other', 'gstc')\n",
    "file_ext = '.eps'\n",
    "if not os.path.exists(dir_name):\n",
    "    os.makedirs(dir_name)\n",
    "\n",
    "\n",
    "ms = GSTCTD1D()\n",
    "\n",
    "freq = 0.2*ms.c\n",
    "omega = 2.0*np.pi*freq\n",
    "eps_0 = ms.eps_0\n",
    "mu_0 = ms.mu_0\n",
    "eta_0 = ms.eta_0\n",
    "c = ms.c\n",
    "lamda = c/freq\n",
    "k = omega/c\n",
    "\n",
    "d = 10.0*lamda\n",
    "z_0 = -d/2.0\n",
    "\n",
    "n_pts = 1000\n",
    "n_pts_t = 1000\n",
    "\n",
    "A = 1.0\n",
    "sigma = 3.0\n",
    "wnd = [-z_0/c-3.0/sigma, -z_0/c+3.0/sigma]\n",
    "t, z = sympy.symbols('t, z')\n",
    "E_i, E_r, E_t = [None]*3\n",
    "\n",
    "struc = 3\n",
    "T_scale = 1.0\n",
    "\n",
    "if struc==0:   ##absorber\n",
    "    E_i = A*sympy.exp(-(t-(z-z_0)/c)**2*sigma**2)*sympy.sin(omega*(t-(z-z_0)/c))\n",
    "    E_r = 0\n",
    "    E_t = 0\n",
    "elif struc==1:  ##derivative\n",
    "    E_i = A*sympy.exp(-(t-(z-z_0)/c)**2*sigma**2)*sympy.cos(omega/2*(t-(z-z_0)/c))\n",
    "    E_r = 0\n",
    "    E_t = sympy.Derivative(E_i, t).doit()/2.0\n",
    "elif struc==2:  ##time reversal\n",
    "    E_i = A*sympy.exp(-(t-(z-z_0)/c)**2*sigma**2)*sympy.sin(omega*(t-(z-z_0)/c))\n",
    "    E_r = 0\n",
    "    E_t = -0.5*A*sympy.exp(-(t-(z-z_0)/c)**2*sigma**2)*sympy.sin(omega*(t-(z-z_0)/c))\n",
    "elif struc==3:  ##time reversal 2\n",
    "    E_i = A*(sympy.exp(-(t-(z-z_0+0.25)/c)**2*sigma**2) - sympy.exp(-(t-(z-z_0-0.25)/c)**2*sigma**2))\n",
    "    E_r = 0\n",
    "    E_t = -2.0*E_i\n",
    "    T_scale = 2.0\n",
    "\n",
    "\n",
    "display(Math('E_i : ' + latex(E_i)))\n",
    "#print(latex(E_i))\n",
    "display(Math('E_r : ' + latex(E_r)))\n",
    "#print(latex(E_r))\n",
    "display(Math('E_t : ' + latex(E_t)))\n",
    "#print(latex(E_t))\n",
    "\n",
    "ms.SetFieldsSympy(t, z, E_i, E_r, E_t)\n",
    "\n",
    "t = np.linspace(0.0, d/c, n_pts_t)\n",
    "z = np.linspace(-d, d, n_pts)\n",
    "\n",
    "\n",
    "##animation\n",
    "%matplotlib tk\n",
    "_n_ = 5\n",
    "plt.rcParams[\"figure.figsize\"] = (4, 2)\n",
    "font = {'family' : 'serif', 'weight' : 'normal', 'size'   : 8}\n",
    "matplotlib.rc('font', **font)\n",
    "\n",
    "save_anim = False\n",
    "file_format = 'mp4'\n",
    "fig, axarr = None, None\n",
    "def animate_E(i):\n",
    "    plt.clf()\n",
    "    heaviside = lambda x: 0.5*(np.sign(x) + 1)\n",
    "    E_tot = (ms.E_i(t[_n_*i], z) + ms.E_r(t[_n_*i], z))*heaviside(-z) + ms.E_t(t[_n_*i], z)*heaviside(z)\n",
    "    fig = plt.plot(z, E_tot , 'b')\n",
    "    ax = plt.gca()\n",
    "    ax.set_ylim([-1.0, 1.0])\n",
    "    #plt.xlabel(r'$cz$', fontsize=16)\n",
    "    #plt.ylabel(r'$E$', fontsize=16)\n",
    "    plt.axvline(0.0, color= 'r', linestyle='-.')\n",
    "    return fig\n",
    "\n",
    "\n",
    "fig = plt.figure()\n",
    "anim = animation.FuncAnimation(fig, animate_E, frames=int(n_pts_t/_n_), interval=100)\n",
    "\n",
    "if save_anim:\n",
    "    if file_format=='gif':\n",
    "        file_name = os.path.join(dir_name, 'E_tz.gif')\n",
    "        anim.save(file_name, writer=\"imagemagick\", fps=15, dpi=200)\n",
    "    elif file_format=='mp4':\n",
    "        file_name = os.path.join(dir_name, 'E_tz.mp4')\n",
    "        anim.save(file_name, writer=\"ffmpeg\", fps=15, dpi=200)\n",
    "\n",
    "plt.show()\n",
    "\n",
    "\n",
    "%matplotlib inline\n",
    "\n",
    "font = {'family' : 'serif', 'weight' : 'normal', 'size'   : 14}\n",
    "matplotlib.rc('font', **font)\n",
    "fs_lable = 22\n",
    "plt.rcParams[\"figure.figsize\"] = (5, 4)\n",
    "\n",
    "E_i_t0 = ms.E_i(0.0, z) \n",
    "E_r_t0 = ms.E_r(0.0, z)*np.ones(len(z))\n",
    "E_t_t0 = ms.E_t(0.0, z)*np.ones(len(z))\n",
    "\n",
    "plt.plot(z, E_i_t0, 'r')\n",
    "plt.plot(z, E_r_t0, 'g')\n",
    "plt.plot(z, E_t_t0, 'b')\n",
    "plt.xlabel(r'$cz$', fontsize=fs_lable)\n",
    "plt.ylabel(r'$E$', fontsize=fs_lable)\n",
    "file_name = os.path.join(dir_name, 'fields_z_1d'+file_ext)\n",
    "plt.savefig(file_name, bbox_inches='tight', pad_inches=0.1)\n",
    "plt.show()\n",
    "\n",
    "\n",
    "E_i_z0 = ms.E_i(t, 0.0)  \n",
    "E_r_z0 = ms.E_r(t, 0.0)*np.ones(len(t))\n",
    "E_t_z0 = ms.E_t(t, 0.0)*np.ones(len(t))\n",
    "t_shifted = (t+z_0/c)+2\n",
    "plt.plot(t_shifted/T_scale, E_i_z0, 'r', label='$E^i$')\n",
    "#plt.plot(t_shifted/T_scale, E_r_z0, 'g', label='$E^r$')\n",
    "plt.plot(t_shifted/T_scale, E_t_z0, 'b', label='$E^t$')\n",
    "plt.xlabel(r'$t/T_0$', fontsize=fs_lable)\n",
    "plt.ylabel(r'$E$', fontsize=fs_lable)\n",
    "plt.legend()\n",
    "plt.xlim([0, 2])\n",
    "plt.ylim([-2, 2])\n",
    "file_name = os.path.join(dir_name, 'fields_t_1d'+file_ext)\n",
    "plt.savefig(file_name, bbox_inches='tight', pad_inches=0.1)\n",
    "plt.show()\n",
    "\n",
    "ms.GetPMXeeXmm(t)\n",
    "\n",
    "plt.plot(t_shifted/T_scale, ms.P_t, 'b')\n",
    "plt.plot(t_shifted/T_scale, ms.M_t, 'b-.')\n",
    "plt.xlabel(r'$t/T_0$', fontsize=fs_lable)\n",
    "plt.ylabel(r'$P, M$', fontsize=fs_lable)\n",
    "plt.xlim([0, 2])\n",
    "file_name = os.path.join(dir_name, 'P_M_1d'+file_ext)\n",
    "plt.savefig(file_name, bbox_inches='tight', pad_inches=0.1)\n",
    "plt.show()\n",
    "\n",
    "plt.plot(t_shifted/T_scale, ms.X_ee, 'b')\n",
    "plt.plot(t_shifted/T_scale, -ms.X_mm, 'b-.')\n",
    "plt.gca().set_ylim([-4.0, 4.0])\n",
    "plt.xlabel(r'$t/T_0$', fontsize=fs_lable)\n",
    "plt.ylabel(r'$\\chi_{ee}, \\chi_{mm}$', fontsize=fs_lable)\n",
    "plt.xlim([0, 2])\n",
    "file_name = os.path.join(dir_name, 'X_ee_mm_1d'+file_ext)\n",
    "plt.savefig(file_name, bbox_inches='tight', pad_inches=0.1)\n",
    "plt.show()\n",
    "\n",
    "ms.ClipSusceptibilities(X_ee_max=8.0, X_mm_max=8.0)\n",
    "ms.TimeWindowSusceptibilities(wnd, wnd)\n",
    "\n",
    "\n",
    "plt.plot(t_shifted/T_scale, ms.X_ee, 'r')\n",
    "plt.plot(t_shifted/T_scale, ms.X_mm, 'b-.')\n",
    "plt.xlabel(r'$t/T_0$', fontsize=fs_lable)\n",
    "plt.ylabel(r'$\\chi_{ee}, \\chi_{mm}$', fontsize=fs_lable)\n",
    "plt.xlim([0, 2])\n",
    "plt.gca().set_ylim([-4.0, 4.0])\n",
    "plt.show()\n",
    "\n",
    "ms.FindSusceptZeros()\n",
    "ms.AdjustWindowToZeros()\n",
    "    \n",
    "plt.plot(t, ms.X_ee, 'r')\n",
    "plt.plot(t, ms.X_mm, 'b-.')\n",
    "plt.gca().set_ylim([-4.0, 4.0])\n",
    "plt.xlabel(r'$t/T_0$', fontsize=fs_lable)\n",
    "plt.ylabel(r'$\\chi_{ee}, \\chi_{mm}$', fontsize=fs_lable)\n",
    "file_name = os.path.join(dir_name, 'X_ee_mm_wnd_1d'+file_ext)\n",
    "plt.savefig(file_name, bbox_inches='tight', pad_inches=0.1)\n",
    "plt.show()\n",
    "\n",
    "\n",
    "plt.plot(t, 1.0+ms.X_ee, 'r')\n",
    "plt.plot(t, 1.0+ms.X_mm, 'b-.')\n",
    "plt.gca().set_ylim([-1.0, 2.0])\n",
    "plt.xlabel(r'$ct$', fontsize=fs_lable)\n",
    "plt.ylabel(r'$\\epsilon_{r}, \\mu_{r}$', fontsize=fs_lable)\n",
    "plt.grid()\n",
    "file_name = os.path.join(dir_name, 'eps_mu_wnd_1d'+file_ext)\n",
    "plt.savefig(file_name, bbox_inches='tight', pad_inches=0.1)\n",
    "plt.show()\n",
    "\n",
    "print('X_ee_roots:', ms.X_ee_roots)\n",
    "print('X_mm_roots:', ms.X_mm_roots)\n",
    "\n",
    "ms.GetSubintervalsWithSingleZero()\n",
    "print('subintervals_ee:', ms.subintervals_ee)\n",
    "print('subinterval_zeros_ee:', ms.subinterval_zeros_ee)\n",
    "print('subintervals_mm:', ms.subintervals_mm)\n",
    "print('subinterval_zeros_mm:', ms.subinterval_zeros_mm)\n",
    "\n",
    "\n",
    "N = 1000\n",
    "t_p = 0.23\n",
    "t = np.linspace(-1.0, 1.0, N)\n",
    "f__ = (t-t_p)*t**2\n",
    "f_0 = f__[0]\n",
    "a = -1.5*np.cos(t/4.0)\n",
    "g = (t**2+2.0*t*(t-t_p))+a*f__/(t-t_p)\n",
    "\n",
    "print('g[t_p]:', g[np.argmax(t>t_p)])\n",
    "\n",
    "f = ms.SolvePde1D(t, a, g, t_p, f_0)\n",
    "\n",
    "plt.plot(t, f, 'b')\n",
    "plt.plot(t, f__, 'b-.')\n",
    "#plt.plot(t, g, 'g')\n",
    "plt.show()\n",
    "\n",
    "\n",
    "t_P_list = ms.SolveP(dt_min=0.01)\n",
    "\n",
    "for i in range(len(t_P_list)):\n",
    "    t, P = t_P_list[i]\n",
    "    #P = P*(np.abs(P)<0.5)\n",
    "    #print('P:', P)\n",
    "    plt.plot(t, P)\n",
    "\n",
    "plt.plot(ms.t, ms.P_t, 'r-.')\n",
    "plt.xlabel(r'$ct$', fontsize=fs_lable)\n",
    "plt.ylabel(r'$P$', fontsize=fs_lable)\n",
    "file_name = os.path.join(dir_name, 'P_res'+file_ext)\n",
    "plt.savefig(file_name)\n",
    "plt.show()\n",
    "\n",
    "t_M_list = ms.SolveM(dt_min=0.01)\n",
    "\n",
    "for i in range(len(t_M_list)):\n",
    "    t, M = t_M_list[i]\n",
    "    #M = M*(np.abs(M)<1.5)\n",
    "    #print('M:', M)\n",
    "    plt.plot(t, M)\n",
    "\n",
    "plt.plot(ms.t, ms.M_t, 'b-.')\n",
    "plt.xlabel(r'$ct$', fontsize=fs_lable)\n",
    "plt.ylabel(r'$M$', fontsize=fs_lable)\n",
    "file_name = os.path.join(dir_name, 'M_res'+file_ext)\n",
    "plt.savefig(file_name)\n",
    "plt.show()\n",
    "    "
   ]
  },
  {
   "cell_type": "code",
   "execution_count": null,
   "metadata": {
    "collapsed": true
   },
   "outputs": [],
   "source": [
    "## space-time graph"
   ]
  }
 ],
 "metadata": {
  "kernelspec": {
   "display_name": "Python 3",
   "language": "python",
   "name": "python3"
  },
  "language_info": {
   "codemirror_mode": {
    "name": "ipython",
    "version": 3
   },
   "file_extension": ".py",
   "mimetype": "text/x-python",
   "name": "python",
   "nbconvert_exporter": "python",
   "pygments_lexer": "ipython3",
   "version": "3.5.2"
  }
 },
 "nbformat": 4,
 "nbformat_minor": 0
}
