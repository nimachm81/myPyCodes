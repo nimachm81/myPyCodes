{
 "cells": [
  {
   "cell_type": "markdown",
   "metadata": {},
   "source": [
    "### transmission matrix - analytic formulas"
   ]
  },
  {
   "cell_type": "code",
   "execution_count": 3,
   "metadata": {
    "collapsed": false
   },
   "outputs": [
    {
     "data": {
      "text/latex": [
       "$$\\left[\\begin{matrix}\\frac{n_{1}}{2 n_{2}} + \\frac{1}{2} & - \\frac{n_{1}}{2 n_{2}} + \\frac{1}{2}\\\\- \\frac{n_{1}}{2 n_{2}} + \\frac{1}{2} & \\frac{n_{1}}{2 n_{2}} + \\frac{1}{2}\\end{matrix}\\right]$$"
      ],
      "text/plain": [
       "<IPython.core.display.Math object>"
      ]
     },
     "metadata": {},
     "output_type": "display_data"
    },
    {
     "name": "stdout",
     "output_type": "stream",
     "text": [
      "TM_str = \n",
      " lambda n_1,n_2: (ImmutableMatrix([[n_1/(2*n_2) + 1/2, -n_1/(2*n_2) + 1/2], [-n_1/(2*n_2) + 1/2, n_1/(2*n_2) + 1/2]]))\n",
      "TM_str = \n",
      " lambda n_1,n_2: (np.array([[n_1/(2*n_2) + 1/2, -n_1/(2*n_2) + 1/2], [-n_1/(2*n_2) + 1/2, n_1/(2*n_2) + 1/2]]))\n"
     ]
    }
   ],
   "source": [
    "## normal incidence\n",
    "\n",
    "from sympy import *\n",
    "from IPython.display import display, Math\n",
    "\n",
    "from sympy.utilities.lambdify import lambdastr\n",
    "\n",
    "from Electromagnetics import Misc\n",
    "\n",
    "a1, a2, b1, b2 = symbols('a_1 a_2 b_1 b_2')\n",
    "n1, n2 = symbols('n_1 n_2')\n",
    "\n",
    "#  a1 + b1 = a2 + b2\n",
    "# (a1 - b1)/eta_1 = (a2 - b2)/eta_2  or for nonmagnetic material (mu_r=1): (a1 - b1)*n1 = (a2 - b2)*n2\n",
    "\n",
    "A = Matrix([[1, 1],\n",
    "            [n1/n2, -n1/n2]])\n",
    "\n",
    "B = Matrix([[1,  1],\n",
    "            [1, -1]])\n",
    "\n",
    "\n",
    "B_inv = Inverse(B).doit()\n",
    "\n",
    "TM = B_inv*A\n",
    "\n",
    "display(Math(latex(TM)))\n",
    "\n",
    "TM_str = lambdastr((n1, n2), TM).replace('\\\\', '').replace('{', '').replace('}', '')\n",
    "print('TM_str = \\n', TM_str)\n",
    "\n",
    "TM_str = Misc.replace_whole_word(TM_str, 'I', '1j')\n",
    "TM_str = Misc.replace_whole_word(TM_str, 'ImmutableMatrix', 'np.array')\n",
    "print('TM_str = \\n', TM_str)\n",
    "\n"
   ]
  },
  {
   "cell_type": "markdown",
   "metadata": {},
   "source": [
    "### TE oblique"
   ]
  },
  {
   "cell_type": "code",
   "execution_count": 15,
   "metadata": {
    "collapsed": false
   },
   "outputs": [
    {
     "name": "stdout",
     "output_type": "stream",
     "text": [
      "unit k vectors:\n"
     ]
    },
    {
     "data": {
      "text/latex": [
       "$$k_1^+ = \\left[\\begin{matrix}0 & \\frac{k_{t}}{k_{0} n_{1}} & \\frac{k_{{z1}}}{k_{0} n_{1}}\\end{matrix}\\right]$$"
      ],
      "text/plain": [
       "<IPython.core.display.Math object>"
      ]
     },
     "metadata": {},
     "output_type": "display_data"
    },
    {
     "data": {
      "text/latex": [
       "$$k_1^- = \\left[\\begin{matrix}0 & \\frac{k_{t}}{k_{0} n_{1}} & - \\frac{k_{{z1}}}{k_{0} n_{1}}\\end{matrix}\\right]$$"
      ],
      "text/plain": [
       "<IPython.core.display.Math object>"
      ]
     },
     "metadata": {},
     "output_type": "display_data"
    },
    {
     "data": {
      "text/latex": [
       "$$k_2^+ = \\left[\\begin{matrix}0 & \\frac{k_{t}}{k_{0} n_{2}} & \\frac{k_{{z2}}}{k_{0} n_{2}}\\end{matrix}\\right]$$"
      ],
      "text/plain": [
       "<IPython.core.display.Math object>"
      ]
     },
     "metadata": {},
     "output_type": "display_data"
    },
    {
     "data": {
      "text/latex": [
       "$$k_2^- = \\left[\\begin{matrix}0 & \\frac{k_{t}}{k_{0} n_{2}} & - \\frac{k_{{z2}}}{k_{0} n_{2}}\\end{matrix}\\right]$$"
      ],
      "text/plain": [
       "<IPython.core.display.Math object>"
      ]
     },
     "metadata": {},
     "output_type": "display_data"
    },
    {
     "name": "stdout",
     "output_type": "stream",
     "text": [
      "Electric field:\n"
     ]
    },
    {
     "data": {
      "text/latex": [
       "$$E_1^+ = \\left[\\begin{matrix}E^{+}_{{x1}} & 0 & 0\\end{matrix}\\right]$$"
      ],
      "text/plain": [
       "<IPython.core.display.Math object>"
      ]
     },
     "metadata": {},
     "output_type": "display_data"
    },
    {
     "data": {
      "text/latex": [
       "$$E_1^- = \\left[\\begin{matrix}E^{-}_{{x1}} & 0 & 0\\end{matrix}\\right]$$"
      ],
      "text/plain": [
       "<IPython.core.display.Math object>"
      ]
     },
     "metadata": {},
     "output_type": "display_data"
    },
    {
     "data": {
      "text/latex": [
       "$$E_2^+ = \\left[\\begin{matrix}E^{+}_{{x2}} & 0 & 0\\end{matrix}\\right]$$"
      ],
      "text/plain": [
       "<IPython.core.display.Math object>"
      ]
     },
     "metadata": {},
     "output_type": "display_data"
    },
    {
     "data": {
      "text/latex": [
       "$$E_2^- = \\left[\\begin{matrix}E^{-}_{{x2}} & 0 & 0\\end{matrix}\\right]$$"
      ],
      "text/plain": [
       "<IPython.core.display.Math object>"
      ]
     },
     "metadata": {},
     "output_type": "display_data"
    },
    {
     "name": "stdout",
     "output_type": "stream",
     "text": [
      "Magnetic field:\n"
     ]
    },
    {
     "data": {
      "text/latex": [
       "$$H_1^+ = \\left[\\begin{matrix}0 & \\frac{E^{+}_{{x1}} k_{{z1}}}{\\eta_{0} k_{0}} & - \\frac{E^{+}_{{x1}} k_{t}}{\\eta_{0} k_{0}}\\end{matrix}\\right]$$"
      ],
      "text/plain": [
       "<IPython.core.display.Math object>"
      ]
     },
     "metadata": {},
     "output_type": "display_data"
    },
    {
     "data": {
      "text/latex": [
       "$$H_1^- = \\left[\\begin{matrix}0 & - \\frac{E^{-}_{{x1}} k_{{z1}}}{\\eta_{0} k_{0}} & - \\frac{E^{-}_{{x1}} k_{t}}{\\eta_{0} k_{0}}\\end{matrix}\\right]$$"
      ],
      "text/plain": [
       "<IPython.core.display.Math object>"
      ]
     },
     "metadata": {},
     "output_type": "display_data"
    },
    {
     "data": {
      "text/latex": [
       "$$H_2^+ = \\left[\\begin{matrix}0 & \\frac{E^{+}_{{x2}} k_{{z2}}}{\\eta_{0} k_{0}} & - \\frac{E^{+}_{{x2}} k_{t}}{\\eta_{0} k_{0}}\\end{matrix}\\right]$$"
      ],
      "text/plain": [
       "<IPython.core.display.Math object>"
      ]
     },
     "metadata": {},
     "output_type": "display_data"
    },
    {
     "data": {
      "text/latex": [
       "$$H_2^- = \\left[\\begin{matrix}0 & - \\frac{E^{-}_{{x2}} k_{{z2}}}{\\eta_{0} k_{0}} & - \\frac{E^{-}_{{x2}} k_{t}}{\\eta_{0} k_{0}}\\end{matrix}\\right]$$"
      ],
      "text/plain": [
       "<IPython.core.display.Math object>"
      ]
     },
     "metadata": {},
     "output_type": "display_data"
    },
    {
     "data": {
      "text/latex": [
       "$$Eq_E = E^{+}_{{x1}} + E^{-}_{{x1}} - E^{+}_{{x2}} - E^{-}_{{x2}}$$"
      ],
      "text/plain": [
       "<IPython.core.display.Math object>"
      ]
     },
     "metadata": {},
     "output_type": "display_data"
    },
    {
     "data": {
      "text/latex": [
       "$$Eq_H = - \\frac{E^{+}_{{x1}} k_{{z1}}}{\\eta_{0} k_{0}} + \\frac{E^{-}_{{x1}} k_{{z1}}}{\\eta_{0} k_{0}} + \\frac{E^{+}_{{x2}} k_{{z2}}}{\\eta_{0} k_{0}} - \\frac{E^{-}_{{x2}} k_{{z2}}}{\\eta_{0} k_{0}}$$"
      ],
      "text/plain": [
       "<IPython.core.display.Math object>"
      ]
     },
     "metadata": {},
     "output_type": "display_data"
    },
    {
     "data": {
      "text/latex": [
       "$$E_x2pm = \\left \\{ E^{+}_{{x2}} : \\frac{1}{2 k_{{z2}}} \\left(E^{+}_{{x1}} k_{{z1}} - E^{-}_{{x1}} k_{{z1}} + k_{{z2}} \\left(E^{+}_{{x1}} + E^{-}_{{x1}}\\right)\\right), \\quad E^{-}_{{x2}} : \\frac{1}{2 k_{{z2}}} \\left(- E^{+}_{{x1}} k_{{z1}} + E^{-}_{{x1}} k_{{z1}} + k_{{z2}} \\left(E^{+}_{{x1}} + E^{-}_{{x1}}\\right)\\right)\\right \\}$$"
      ],
      "text/plain": [
       "<IPython.core.display.Math object>"
      ]
     },
     "metadata": {},
     "output_type": "display_data"
    },
    {
     "data": {
      "text/latex": [
       "$$E_x2p = E^{+}_{{x2}}$$"
      ],
      "text/plain": [
       "<IPython.core.display.Math object>"
      ]
     },
     "metadata": {},
     "output_type": "display_data"
    },
    {
     "data": {
      "text/latex": [
       "$$E_x2m = E^{-}_{{x2}}$$"
      ],
      "text/plain": [
       "<IPython.core.display.Math object>"
      ]
     },
     "metadata": {},
     "output_type": "display_data"
    },
    {
     "data": {
      "text/latex": [
       "$$TM = \\left[\\begin{matrix}\\frac{k_{{z1}} + k_{{z2}}}{2 k_{{z2}}} & \\frac{- k_{{z1}} + k_{{z2}}}{2 k_{{z2}}}\\\\\\frac{- k_{{z1}} + k_{{z2}}}{2 k_{{z2}}} & \\frac{k_{{z1}} + k_{{z2}}}{2 k_{{z2}}}\\end{matrix}\\right]$$"
      ],
      "text/plain": [
       "<IPython.core.display.Math object>"
      ]
     },
     "metadata": {},
     "output_type": "display_data"
    },
    {
     "name": "stdout",
     "output_type": "stream",
     "text": [
      "TM_str = \n",
      " lambda n_1,n_2: (MutableDenseMatrix([[(k_z1 + k_z2)/(2*k_z2), (-k_z1 + k_z2)/(2*k_z2)], [(-k_z1 + k_z2)/(2*k_z2), (k_z1 + k_z2)/(2*k_z2)]]))\n",
      "TM_str = \n",
      " lambda n_1,n_2: (np.array([[(k_z1 + k_z2)/(2*k_z2), (-k_z1 + k_z2)/(2*k_z2)], [(-k_z1 + k_z2)/(2*k_z2), (k_z1 + k_z2)/(2*k_z2)]]))\n",
      "k_z1_str = \n",
      " lambda n_1: (sqrt(k_0**2*n_1**2 - k_t**2))\n"
     ]
    }
   ],
   "source": [
    "## oblique incidence TE (E is tangent to the intrface)\n",
    "\n",
    "from sympy import *\n",
    "from IPython.display import display, Math\n",
    "\n",
    "from sympy.utilities.lambdify import lambdastr\n",
    "\n",
    "from Electromagnetics import Misc\n",
    "from Electromagnetics.VectorCalculus import crossproduct\n",
    "\n",
    "E_x1p, E_x2p = symbols('E_{x1}^+ E_{x2}^+')\n",
    "E_x1m, E_x2m = symbols('E_{x1}^- E_{x2}^-')\n",
    "a1, a2, b1, b2 = symbols('a_1 a_2 b_1 b_2')\n",
    "n1, n2 = symbols('n_1 n_2')\n",
    "k_0, k_t = symbols('k_0 k_t')\n",
    "k_z1, k_z2 = symbols('k_{z1} k_{z2}')\n",
    "eta_0 = symbols(r'\\eta_0')\n",
    "\n",
    "k_z1_sub = sqrt(k_0**2*n1**2 - k_t**2)\n",
    "k_z2_sub = sqrt(k_0**2*n2**2 - k_t**2)\n",
    "\n",
    "k_1p = Matrix([[0, k_t, +k_z1]])/(k_0*n1)\n",
    "k_1m = Matrix([[0, k_t, -k_z1]])/(k_0*n1)\n",
    "k_2p = Matrix([[0, k_t, +k_z2]])/(k_0*n2)\n",
    "k_2m = Matrix([[0, k_t, -k_z2]])/(k_0*n2)\n",
    "\n",
    "print('unit k vectors:')\n",
    "display(Math('k_1^+ = '+latex(k_1p)))\n",
    "display(Math('k_1^- = '+latex(k_1m)))\n",
    "display(Math('k_2^+ = '+latex(k_2p)))\n",
    "display(Math('k_2^- = '+latex(k_2m)))\n",
    "\n",
    "\n",
    "E_1p = Matrix([[E_x1p, 0, 0]])\n",
    "E_1m = Matrix([[E_x1m, 0, 0]])\n",
    "E_2p = Matrix([[E_x2p, 0, 0]])\n",
    "E_2m = Matrix([[E_x2m, 0, 0]])\n",
    "\n",
    "print('Electric field:')\n",
    "display(Math('E_1^+ = '+latex(E_1p)))\n",
    "display(Math('E_1^- = '+latex(E_1m)))\n",
    "display(Math('E_2^+ = '+latex(E_2p)))\n",
    "display(Math('E_2^- = '+latex(E_2m)))\n",
    "\n",
    "\n",
    "H_1p = crossproduct(k_1p, E_1p)*n1/eta_0\n",
    "H_1m = crossproduct(k_1m, E_1m)*n1/eta_0\n",
    "H_2p = crossproduct(k_2p, E_2p)*n2/eta_0\n",
    "H_2m = crossproduct(k_2m, E_2m)*n2/eta_0\n",
    "\n",
    "print('Magnetic field:')\n",
    "display(Math('H_1^+ = '+latex(H_1p)))\n",
    "display(Math('H_1^- = '+latex(H_1m)))\n",
    "display(Math('H_2^+ = '+latex(H_2p)))\n",
    "display(Math('H_2^- = '+latex(H_2m)))\n",
    "\n",
    "\n",
    "a_z = Matrix([[0, 0, 1]])\n",
    "\n",
    "eq_E = crossproduct(a_z, E_1p+E_1m-E_2p-E_2m)[1]\n",
    "eq_H = crossproduct(a_z, H_1p+H_1m-H_2p-H_2m)[0]\n",
    "\n",
    "display(Math('Eq_E = '+latex(eq_E)))\n",
    "display(Math('Eq_H = '+latex(eq_H)))\n",
    "\n",
    "\n",
    "E_x2pm = solve([eq_E, eq_H], [E_x2p, E_x2m])\n",
    "display(Math('E_x2pm = '+latex(E_x2pm)))\n",
    "\n",
    "\n",
    "E_x2p_sub = E_x2pm[E_x2p]\n",
    "E_x2m_sub = E_x2pm[E_x2m]\n",
    "display(Math('E_x2p = '+latex(E_x2p)))\n",
    "display(Math('E_x2m = '+latex(E_x2m)))\n",
    "\n",
    "\n",
    "TM =  Matrix([[E_x2p_sub.subs([(E_x1p, 1), (E_x1m, 0)]), E_x2p_sub.subs([(E_x1p, 0), (E_x1m, 1)])],\n",
    "            [E_x2m_sub.subs([(E_x1p, 1), (E_x1m, 0)]), E_x2m_sub.subs([(E_x1p, 0), (E_x1m, 1)])]])\n",
    "display(Math('TM = '+latex(TM)))\n",
    "\n",
    "\n",
    "TM_str = lambdastr((n1, n2), TM).replace('\\\\', '').replace('{', '').replace('}', '')\n",
    "print('TM_str = \\n', TM_str)\n",
    "\n",
    "TM_str = Misc.replace_whole_word(TM_str, 'I', '1j')\n",
    "TM_str = Misc.replace_whole_word(TM_str, 'MutableDenseMatrix', 'np.array')\n",
    "print('TM_str = \\n', TM_str)\n",
    "\n",
    "k_z1_str = lambdastr(n1, k_z1_sub).replace('\\\\', '').replace('{', '').replace('}', '')\n",
    "print('k_z1_str = \\n', k_z1_str)\n",
    "\n"
   ]
  },
  {
   "cell_type": "markdown",
   "metadata": {},
   "source": [
    "### TM oblique"
   ]
  },
  {
   "cell_type": "code",
   "execution_count": 16,
   "metadata": {
    "collapsed": false
   },
   "outputs": [
    {
     "name": "stdout",
     "output_type": "stream",
     "text": [
      "unit k vectors:\n"
     ]
    },
    {
     "data": {
      "text/latex": [
       "$$k_1^+ = \\left[\\begin{matrix}0 & \\frac{k_{t}}{k_{0} n_{1}} & \\frac{k_{{z1}}}{k_{0} n_{1}}\\end{matrix}\\right]$$"
      ],
      "text/plain": [
       "<IPython.core.display.Math object>"
      ]
     },
     "metadata": {},
     "output_type": "display_data"
    },
    {
     "data": {
      "text/latex": [
       "$$k_1^- = \\left[\\begin{matrix}0 & \\frac{k_{t}}{k_{0} n_{1}} & - \\frac{k_{{z1}}}{k_{0} n_{1}}\\end{matrix}\\right]$$"
      ],
      "text/plain": [
       "<IPython.core.display.Math object>"
      ]
     },
     "metadata": {},
     "output_type": "display_data"
    },
    {
     "data": {
      "text/latex": [
       "$$k_2^+ = \\left[\\begin{matrix}0 & \\frac{k_{t}}{k_{0} n_{2}} & \\frac{k_{{z2}}}{k_{0} n_{2}}\\end{matrix}\\right]$$"
      ],
      "text/plain": [
       "<IPython.core.display.Math object>"
      ]
     },
     "metadata": {},
     "output_type": "display_data"
    },
    {
     "data": {
      "text/latex": [
       "$$k_2^- = \\left[\\begin{matrix}0 & \\frac{k_{t}}{k_{0} n_{2}} & - \\frac{k_{{z2}}}{k_{0} n_{2}}\\end{matrix}\\right]$$"
      ],
      "text/plain": [
       "<IPython.core.display.Math object>"
      ]
     },
     "metadata": {},
     "output_type": "display_data"
    },
    {
     "name": "stdout",
     "output_type": "stream",
     "text": [
      "Magnetic field:\n"
     ]
    },
    {
     "data": {
      "text/latex": [
       "$$H_1^+ = \\left[\\begin{matrix}H^{+}_{{x1}} & 0 & 0\\end{matrix}\\right]$$"
      ],
      "text/plain": [
       "<IPython.core.display.Math object>"
      ]
     },
     "metadata": {},
     "output_type": "display_data"
    },
    {
     "data": {
      "text/latex": [
       "$$H_1^- = \\left[\\begin{matrix}H^{-}_{{x1}} & 0 & 0\\end{matrix}\\right]$$"
      ],
      "text/plain": [
       "<IPython.core.display.Math object>"
      ]
     },
     "metadata": {},
     "output_type": "display_data"
    },
    {
     "data": {
      "text/latex": [
       "$$H_2^+ = \\left[\\begin{matrix}H^{+}_{{x2}} & 0 & 0\\end{matrix}\\right]$$"
      ],
      "text/plain": [
       "<IPython.core.display.Math object>"
      ]
     },
     "metadata": {},
     "output_type": "display_data"
    },
    {
     "data": {
      "text/latex": [
       "$$H_2^- = \\left[\\begin{matrix}H^{-}_{{x2}} & 0 & 0\\end{matrix}\\right]$$"
      ],
      "text/plain": [
       "<IPython.core.display.Math object>"
      ]
     },
     "metadata": {},
     "output_type": "display_data"
    },
    {
     "name": "stdout",
     "output_type": "stream",
     "text": [
      "Electric field\n"
     ]
    },
    {
     "data": {
      "text/latex": [
       "$$E_1^+ = \\left[\\begin{matrix}0 & - \\frac{H^{+}_{{x1}} \\eta_{0} k_{{z1}}}{k_{0} n_{1}^{2}} & \\frac{H^{+}_{{x1}} \\eta_{0} k_{t}}{k_{0} n_{1}^{2}}\\end{matrix}\\right]$$"
      ],
      "text/plain": [
       "<IPython.core.display.Math object>"
      ]
     },
     "metadata": {},
     "output_type": "display_data"
    },
    {
     "data": {
      "text/latex": [
       "$$E_1^- = \\left[\\begin{matrix}0 & \\frac{H^{-}_{{x1}} \\eta_{0} k_{{z1}}}{k_{0} n_{1}^{2}} & \\frac{H^{-}_{{x1}} \\eta_{0} k_{t}}{k_{0} n_{1}^{2}}\\end{matrix}\\right]$$"
      ],
      "text/plain": [
       "<IPython.core.display.Math object>"
      ]
     },
     "metadata": {},
     "output_type": "display_data"
    },
    {
     "data": {
      "text/latex": [
       "$$E_2^+ = \\left[\\begin{matrix}0 & - \\frac{H^{+}_{{x2}} \\eta_{0} k_{{z2}}}{k_{0} n_{2}^{2}} & \\frac{H^{+}_{{x2}} \\eta_{0} k_{t}}{k_{0} n_{2}^{2}}\\end{matrix}\\right]$$"
      ],
      "text/plain": [
       "<IPython.core.display.Math object>"
      ]
     },
     "metadata": {},
     "output_type": "display_data"
    },
    {
     "data": {
      "text/latex": [
       "$$E_2^- = \\left[\\begin{matrix}0 & \\frac{H^{-}_{{x2}} \\eta_{0} k_{{z2}}}{k_{0} n_{2}^{2}} & \\frac{H^{-}_{{x2}} \\eta_{0} k_{t}}{k_{0} n_{2}^{2}}\\end{matrix}\\right]$$"
      ],
      "text/plain": [
       "<IPython.core.display.Math object>"
      ]
     },
     "metadata": {},
     "output_type": "display_data"
    },
    {
     "data": {
      "text/latex": [
       "$$Eq_E = \\frac{H^{+}_{{x1}} \\eta_{0} k_{{z1}}}{k_{0} n_{1}^{2}} - \\frac{H^{-}_{{x1}} \\eta_{0} k_{{z1}}}{k_{0} n_{1}^{2}} - \\frac{H^{+}_{{x2}} \\eta_{0} k_{{z2}}}{k_{0} n_{2}^{2}} + \\frac{H^{-}_{{x2}} \\eta_{0} k_{{z2}}}{k_{0} n_{2}^{2}}$$"
      ],
      "text/plain": [
       "<IPython.core.display.Math object>"
      ]
     },
     "metadata": {},
     "output_type": "display_data"
    },
    {
     "data": {
      "text/latex": [
       "$$Eq_H = H^{+}_{{x1}} + H^{-}_{{x1}} - H^{+}_{{x2}} - H^{-}_{{x2}}$$"
      ],
      "text/plain": [
       "<IPython.core.display.Math object>"
      ]
     },
     "metadata": {},
     "output_type": "display_data"
    },
    {
     "data": {
      "text/latex": [
       "$$H_x2pm = \\left \\{ H^{+}_{{x2}} : \\frac{1}{2 k_{{z2}} n_{1}^{2}} \\left(H^{+}_{{x1}} k_{{z1}} n_{2}^{2} + H^{+}_{{x1}} k_{{z2}} n_{1}^{2} - H^{-}_{{x1}} k_{{z1}} n_{2}^{2} + H^{-}_{{x1}} k_{{z2}} n_{1}^{2}\\right), \\quad H^{-}_{{x2}} : \\frac{1}{2 k_{{z2}} n_{1}^{2}} \\left(- H^{+}_{{x1}} k_{{z1}} n_{2}^{2} + H^{-}_{{x1}} k_{{z1}} n_{2}^{2} + k_{{z2}} n_{1}^{2} \\left(H^{+}_{{x1}} + H^{-}_{{x1}}\\right)\\right)\\right \\}$$"
      ],
      "text/plain": [
       "<IPython.core.display.Math object>"
      ]
     },
     "metadata": {},
     "output_type": "display_data"
    },
    {
     "data": {
      "text/latex": [
       "$$H_x2p = H^{+}_{{x2}}$$"
      ],
      "text/plain": [
       "<IPython.core.display.Math object>"
      ]
     },
     "metadata": {},
     "output_type": "display_data"
    },
    {
     "data": {
      "text/latex": [
       "$$H_x2m = H^{-}_{{x2}}$$"
      ],
      "text/plain": [
       "<IPython.core.display.Math object>"
      ]
     },
     "metadata": {},
     "output_type": "display_data"
    },
    {
     "data": {
      "text/latex": [
       "$$TM = \\left[\\begin{matrix}\\frac{k_{{z1}} n_{2}^{2} + k_{{z2}} n_{1}^{2}}{2 k_{{z2}} n_{1}^{2}} & \\frac{- k_{{z1}} n_{2}^{2} + k_{{z2}} n_{1}^{2}}{2 k_{{z2}} n_{1}^{2}}\\\\\\frac{- k_{{z1}} n_{2}^{2} + k_{{z2}} n_{1}^{2}}{2 k_{{z2}} n_{1}^{2}} & \\frac{k_{{z1}} n_{2}^{2} + k_{{z2}} n_{1}^{2}}{2 k_{{z2}} n_{1}^{2}}\\end{matrix}\\right]$$"
      ],
      "text/plain": [
       "<IPython.core.display.Math object>"
      ]
     },
     "metadata": {},
     "output_type": "display_data"
    },
    {
     "name": "stdout",
     "output_type": "stream",
     "text": [
      "TM_str = \n",
      " lambda n_1,n_2: (MutableDenseMatrix([[(k_z1*n_2**2 + k_z2*n_1**2)/(2*k_z2*n_1**2), (-k_z1*n_2**2 + k_z2*n_1**2)/(2*k_z2*n_1**2)], [(-k_z1*n_2**2 + k_z2*n_1**2)/(2*k_z2*n_1**2), (k_z1*n_2**2 + k_z2*n_1**2)/(2*k_z2*n_1**2)]]))\n",
      "TM_str = \n",
      " lambda n_1,n_2: (np.array([[(k_z1*n_2**2 + k_z2*n_1**2)/(2*k_z2*n_1**2), (-k_z1*n_2**2 + k_z2*n_1**2)/(2*k_z2*n_1**2)], [(-k_z1*n_2**2 + k_z2*n_1**2)/(2*k_z2*n_1**2), (k_z1*n_2**2 + k_z2*n_1**2)/(2*k_z2*n_1**2)]]))\n",
      "k_z1_str = \n",
      " lambda n_1: (sqrt(k_0**2*n_1**2 - k_t**2))\n"
     ]
    }
   ],
   "source": [
    "## oblique incidence TM (H is tangent to the intrface)\n",
    "\n",
    "from sympy import *\n",
    "from IPython.display import display, Math\n",
    "\n",
    "from sympy.utilities.lambdify import lambdastr\n",
    "\n",
    "from Electromagnetics import Misc\n",
    "from Electromagnetics.VectorCalculus import crossproduct\n",
    "\n",
    "H_x1p, H_x2p = symbols('H_{x1}^+ H_{x2}^+')\n",
    "H_x1m, H_x2m = symbols('H_{x1}^- H_{x2}^-')\n",
    "a1, a2, b1, b2 = symbols('a_1 a_2 b_1 b_2')\n",
    "n1, n2 = symbols('n_1 n_2')\n",
    "k_0, k_t = symbols('k_0 k_t')\n",
    "k_z1, k_z2 = symbols('k_{z1} k_{z2}')\n",
    "eta_0 = symbols(r'\\eta_0')\n",
    "\n",
    "k_z1_sub = sqrt(k_0**2*n1**2 - k_t**2)\n",
    "k_z2_sub = sqrt(k_0**2*n2**2 - k_t**2)\n",
    "\n",
    "k_1p = Matrix([[0, k_t, +k_z1]])/(k_0*n1)\n",
    "k_1m = Matrix([[0, k_t, -k_z1]])/(k_0*n1)\n",
    "k_2p = Matrix([[0, k_t, +k_z2]])/(k_0*n2)\n",
    "k_2m = Matrix([[0, k_t, -k_z2]])/(k_0*n2)\n",
    "\n",
    "print('unit k vectors:')\n",
    "display(Math('k_1^+ = '+latex(k_1p)))\n",
    "display(Math('k_1^- = '+latex(k_1m)))\n",
    "display(Math('k_2^+ = '+latex(k_2p)))\n",
    "display(Math('k_2^- = '+latex(k_2m)))\n",
    "\n",
    "H_1p = Matrix([[H_x1p, 0, 0]])\n",
    "H_1m = Matrix([[H_x1m, 0, 0]])\n",
    "H_2p = Matrix([[H_x2p, 0, 0]])\n",
    "H_2m = Matrix([[H_x2m, 0, 0]])\n",
    "\n",
    "print('Magnetic field:')\n",
    "display(Math('H_1^+ = '+latex(H_1p)))\n",
    "display(Math('H_1^- = '+latex(H_1m)))\n",
    "display(Math('H_2^+ = '+latex(H_2p)))\n",
    "display(Math('H_2^- = '+latex(H_2m)))\n",
    "\n",
    "\n",
    "E_1p = -crossproduct(k_1p, H_1p)/n1*eta_0\n",
    "E_1m = -crossproduct(k_1m, H_1m)/n1*eta_0\n",
    "E_2p = -crossproduct(k_2p, H_2p)/n2*eta_0\n",
    "E_2m = -crossproduct(k_2m, H_2m)/n2*eta_0\n",
    "\n",
    "print('Electric field')\n",
    "display(Math('E_1^+ = '+latex(E_1p)))\n",
    "display(Math('E_1^- = '+latex(E_1m)))\n",
    "display(Math('E_2^+ = '+latex(E_2p)))\n",
    "display(Math('E_2^- = '+latex(E_2m)))\n",
    "\n",
    "\n",
    "a_z = Matrix([[0, 0, 1]])\n",
    "\n",
    "eq_E = crossproduct(a_z, E_1p+E_1m-E_2p-E_2m)[0]\n",
    "eq_H = crossproduct(a_z, H_1p+H_1m-H_2p-H_2m)[1]\n",
    "\n",
    "display(Math('Eq_E = '+latex(eq_E)))\n",
    "display(Math('Eq_H = '+latex(eq_H)))\n",
    "\n",
    "\n",
    "H_x2pm = solve([eq_E, eq_H], [H_x2p, H_x2m])\n",
    "display(Math('H_x2pm = '+latex(H_x2pm)))\n",
    "\n",
    "\n",
    "H_x2p_sub = H_x2pm[H_x2p]\n",
    "H_x2m_sub = H_x2pm[H_x2m]\n",
    "display(Math('H_x2p = '+latex(H_x2p)))\n",
    "display(Math('H_x2m = '+latex(H_x2m)))\n",
    "\n",
    "\n",
    "TM =  Matrix([[H_x2p_sub.subs([(H_x1p, 1), (H_x1m, 0)]), H_x2p_sub.subs([(H_x1p, 0), (H_x1m, 1)])],\n",
    "            [H_x2m_sub.subs([(H_x1p, 1), (H_x1m, 0)]), H_x2m_sub.subs([(H_x1p, 0), (H_x1m, 1)])]])\n",
    "display(Math('TM = '+latex(TM)))\n",
    "\n",
    "\n",
    "TM_str = lambdastr((n1, n2), TM).replace('\\\\', '').replace('{', '').replace('}', '')\n",
    "print('TM_str = \\n', TM_str)\n",
    "\n",
    "TM_str = Misc.replace_whole_word(TM_str, 'I', '1j')\n",
    "TM_str = Misc.replace_whole_word(TM_str, 'MutableDenseMatrix', 'np.array')\n",
    "print('TM_str = \\n', TM_str)\n",
    "\n",
    "k_z1_str = lambdastr(n1, k_z1_sub).replace('\\\\', '').replace('{', '').replace('}', '')\n",
    "print('k_z1_str = \\n', k_z1_str)\n",
    "\n"
   ]
  },
  {
   "cell_type": "markdown",
   "metadata": {},
   "source": [
    "### TE oblique epsilon-mu"
   ]
  },
  {
   "cell_type": "code",
   "execution_count": 8,
   "metadata": {
    "collapsed": false
   },
   "outputs": [
    {
     "name": "stdout",
     "output_type": "stream",
     "text": [
      "unit k vectors:\n"
     ]
    },
    {
     "data": {
      "text/latex": [
       "$$k_1^+ = \\left[\\begin{matrix}0 & \\frac{k_{t}}{\\sqrt{\\epsilon_{1}} \\sqrt{\\mu_{1}} k_{0}} & \\frac{k_{{z1}}}{\\sqrt{\\epsilon_{1}} \\sqrt{\\mu_{1}} k_{0}}\\end{matrix}\\right]$$"
      ],
      "text/plain": [
       "<IPython.core.display.Math object>"
      ]
     },
     "metadata": {},
     "output_type": "display_data"
    },
    {
     "data": {
      "text/latex": [
       "$$k_1^- = \\left[\\begin{matrix}0 & \\frac{k_{t}}{\\sqrt{\\epsilon_{1}} \\sqrt{\\mu_{1}} k_{0}} & - \\frac{k_{{z1}}}{\\sqrt{\\epsilon_{1}} \\sqrt{\\mu_{1}} k_{0}}\\end{matrix}\\right]$$"
      ],
      "text/plain": [
       "<IPython.core.display.Math object>"
      ]
     },
     "metadata": {},
     "output_type": "display_data"
    },
    {
     "data": {
      "text/latex": [
       "$$k_2^+ = \\left[\\begin{matrix}0 & \\frac{k_{t}}{\\sqrt{\\epsilon_{2}} \\sqrt{\\mu_{2}} k_{0}} & \\frac{k_{{z2}}}{\\sqrt{\\epsilon_{2}} \\sqrt{\\mu_{2}} k_{0}}\\end{matrix}\\right]$$"
      ],
      "text/plain": [
       "<IPython.core.display.Math object>"
      ]
     },
     "metadata": {},
     "output_type": "display_data"
    },
    {
     "data": {
      "text/latex": [
       "$$k_2^- = \\left[\\begin{matrix}0 & \\frac{k_{t}}{\\sqrt{\\epsilon_{2}} \\sqrt{\\mu_{2}} k_{0}} & - \\frac{k_{{z2}}}{\\sqrt{\\epsilon_{2}} \\sqrt{\\mu_{2}} k_{0}}\\end{matrix}\\right]$$"
      ],
      "text/plain": [
       "<IPython.core.display.Math object>"
      ]
     },
     "metadata": {},
     "output_type": "display_data"
    },
    {
     "name": "stdout",
     "output_type": "stream",
     "text": [
      "Electric field:\n"
     ]
    },
    {
     "data": {
      "text/latex": [
       "$$E_1^+ = \\left[\\begin{matrix}E^{+}_{{x1}} & 0 & 0\\end{matrix}\\right]$$"
      ],
      "text/plain": [
       "<IPython.core.display.Math object>"
      ]
     },
     "metadata": {},
     "output_type": "display_data"
    },
    {
     "data": {
      "text/latex": [
       "$$E_1^- = \\left[\\begin{matrix}E^{-}_{{x1}} & 0 & 0\\end{matrix}\\right]$$"
      ],
      "text/plain": [
       "<IPython.core.display.Math object>"
      ]
     },
     "metadata": {},
     "output_type": "display_data"
    },
    {
     "data": {
      "text/latex": [
       "$$E_2^+ = \\left[\\begin{matrix}E^{+}_{{x2}} & 0 & 0\\end{matrix}\\right]$$"
      ],
      "text/plain": [
       "<IPython.core.display.Math object>"
      ]
     },
     "metadata": {},
     "output_type": "display_data"
    },
    {
     "data": {
      "text/latex": [
       "$$E_2^- = \\left[\\begin{matrix}E^{-}_{{x2}} & 0 & 0\\end{matrix}\\right]$$"
      ],
      "text/plain": [
       "<IPython.core.display.Math object>"
      ]
     },
     "metadata": {},
     "output_type": "display_data"
    },
    {
     "name": "stdout",
     "output_type": "stream",
     "text": [
      "Magnetic field:\n"
     ]
    },
    {
     "data": {
      "text/latex": [
       "$$H_1^+ = \\left[\\begin{matrix}0 & \\frac{E^{+}_{{x1}} k_{{z1}}}{\\sqrt{\\epsilon_{1}} \\eta_{1} \\sqrt{\\mu_{1}} k_{0}} & - \\frac{E^{+}_{{x1}} k_{t}}{\\sqrt{\\epsilon_{1}} \\eta_{1} \\sqrt{\\mu_{1}} k_{0}}\\end{matrix}\\right]$$"
      ],
      "text/plain": [
       "<IPython.core.display.Math object>"
      ]
     },
     "metadata": {},
     "output_type": "display_data"
    },
    {
     "data": {
      "text/latex": [
       "$$H_1^- = \\left[\\begin{matrix}0 & - \\frac{E^{-}_{{x1}} k_{{z1}}}{\\sqrt{\\epsilon_{1}} \\eta_{1} \\sqrt{\\mu_{1}} k_{0}} & - \\frac{E^{-}_{{x1}} k_{t}}{\\sqrt{\\epsilon_{1}} \\eta_{1} \\sqrt{\\mu_{1}} k_{0}}\\end{matrix}\\right]$$"
      ],
      "text/plain": [
       "<IPython.core.display.Math object>"
      ]
     },
     "metadata": {},
     "output_type": "display_data"
    },
    {
     "data": {
      "text/latex": [
       "$$H_2^+ = \\left[\\begin{matrix}0 & \\frac{E^{+}_{{x2}} k_{{z2}}}{\\sqrt{\\epsilon_{2}} \\eta_{2} \\sqrt{\\mu_{2}} k_{0}} & - \\frac{E^{+}_{{x2}} k_{t}}{\\sqrt{\\epsilon_{2}} \\eta_{2} \\sqrt{\\mu_{2}} k_{0}}\\end{matrix}\\right]$$"
      ],
      "text/plain": [
       "<IPython.core.display.Math object>"
      ]
     },
     "metadata": {},
     "output_type": "display_data"
    },
    {
     "data": {
      "text/latex": [
       "$$H_2^- = \\left[\\begin{matrix}0 & - \\frac{E^{-}_{{x2}} k_{{z2}}}{\\sqrt{\\epsilon_{2}} \\eta_{2} \\sqrt{\\mu_{2}} k_{0}} & - \\frac{E^{-}_{{x2}} k_{t}}{\\sqrt{\\epsilon_{2}} \\eta_{2} \\sqrt{\\mu_{2}} k_{0}}\\end{matrix}\\right]$$"
      ],
      "text/plain": [
       "<IPython.core.display.Math object>"
      ]
     },
     "metadata": {},
     "output_type": "display_data"
    },
    {
     "data": {
      "text/latex": [
       "$$Eq_E = E^{+}_{{x1}} + E^{-}_{{x1}} - E^{+}_{{x2}} - E^{-}_{{x2}}$$"
      ],
      "text/plain": [
       "<IPython.core.display.Math object>"
      ]
     },
     "metadata": {},
     "output_type": "display_data"
    },
    {
     "data": {
      "text/latex": [
       "$$Eq_H = - \\frac{E^{+}_{{x1}} k_{{z1}}}{\\sqrt{\\epsilon_{1}} \\eta_{1} \\sqrt{\\mu_{1}} k_{0}} + \\frac{E^{-}_{{x1}} k_{{z1}}}{\\sqrt{\\epsilon_{1}} \\eta_{1} \\sqrt{\\mu_{1}} k_{0}} + \\frac{E^{+}_{{x2}} k_{{z2}}}{\\sqrt{\\epsilon_{2}} \\eta_{2} \\sqrt{\\mu_{2}} k_{0}} - \\frac{E^{-}_{{x2}} k_{{z2}}}{\\sqrt{\\epsilon_{2}} \\eta_{2} \\sqrt{\\mu_{2}} k_{0}}$$"
      ],
      "text/plain": [
       "<IPython.core.display.Math object>"
      ]
     },
     "metadata": {},
     "output_type": "display_data"
    },
    {
     "data": {
      "text/latex": [
       "$$E_x2pm = \\left \\{ E^{+}_{{x2}} : \\frac{1}{2 \\sqrt{\\epsilon_{1}} \\eta_{1} \\sqrt{\\mu_{1}} k_{{z2}}} \\left(E^{+}_{{x1}} \\sqrt{\\epsilon_{2}} \\eta_{2} \\sqrt{\\mu_{2}} k_{{z1}} - E^{-}_{{x1}} \\sqrt{\\epsilon_{2}} \\eta_{2} \\sqrt{\\mu_{2}} k_{{z1}} + \\sqrt{\\epsilon_{1}} \\eta_{1} \\sqrt{\\mu_{1}} k_{{z2}} \\left(E^{+}_{{x1}} + E^{-}_{{x1}}\\right)\\right), \\quad E^{-}_{{x2}} : \\frac{1}{2 \\sqrt{\\epsilon_{1}} \\eta_{1} \\sqrt{\\mu_{1}} k_{{z2}}} \\left(- E^{+}_{{x1}} \\sqrt{\\epsilon_{2}} \\eta_{2} \\sqrt{\\mu_{2}} k_{{z1}} + E^{-}_{{x1}} \\sqrt{\\epsilon_{2}} \\eta_{2} \\sqrt{\\mu_{2}} k_{{z1}} + \\sqrt{\\epsilon_{1}} \\eta_{1} \\sqrt{\\mu_{1}} k_{{z2}} \\left(E^{+}_{{x1}} + E^{-}_{{x1}}\\right)\\right)\\right \\}$$"
      ],
      "text/plain": [
       "<IPython.core.display.Math object>"
      ]
     },
     "metadata": {},
     "output_type": "display_data"
    },
    {
     "data": {
      "text/latex": [
       "$$E_x2p = \\frac{1}{2 \\sqrt{\\epsilon_{1}} \\eta_{1} \\sqrt{\\mu_{1}} k_{{z2}}} \\left(E^{+}_{{x1}} \\sqrt{\\epsilon_{2}} \\eta_{2} \\sqrt{\\mu_{2}} k_{{z1}} - E^{-}_{{x1}} \\sqrt{\\epsilon_{2}} \\eta_{2} \\sqrt{\\mu_{2}} k_{{z1}} + \\sqrt{\\epsilon_{1}} \\eta_{1} \\sqrt{\\mu_{1}} k_{{z2}} \\left(E^{+}_{{x1}} + E^{-}_{{x1}}\\right)\\right)$$"
      ],
      "text/plain": [
       "<IPython.core.display.Math object>"
      ]
     },
     "metadata": {},
     "output_type": "display_data"
    },
    {
     "data": {
      "text/latex": [
       "$$E_x2m = \\frac{1}{2 \\sqrt{\\epsilon_{1}} \\eta_{1} \\sqrt{\\mu_{1}} k_{{z2}}} \\left(- E^{+}_{{x1}} \\sqrt{\\epsilon_{2}} \\eta_{2} \\sqrt{\\mu_{2}} k_{{z1}} + E^{-}_{{x1}} \\sqrt{\\epsilon_{2}} \\eta_{2} \\sqrt{\\mu_{2}} k_{{z1}} + \\sqrt{\\epsilon_{1}} \\eta_{1} \\sqrt{\\mu_{1}} k_{{z2}} \\left(E^{+}_{{x1}} + E^{-}_{{x1}}\\right)\\right)$$"
      ],
      "text/plain": [
       "<IPython.core.display.Math object>"
      ]
     },
     "metadata": {},
     "output_type": "display_data"
    },
    {
     "data": {
      "text/latex": [
       "$$TM = \\left[\\begin{matrix}\\frac{\\mu_{1} k_{{z2}} + \\mu_{2} k_{{z1}}}{2 \\mu_{1} k_{{z2}}} & \\frac{\\mu_{1} k_{{z2}} - \\mu_{2} k_{{z1}}}{2 \\mu_{1} k_{{z2}}}\\\\\\frac{\\mu_{1} k_{{z2}} - \\mu_{2} k_{{z1}}}{2 \\mu_{1} k_{{z2}}} & \\frac{\\mu_{1} k_{{z2}} + \\mu_{2} k_{{z1}}}{2 \\mu_{1} k_{{z2}}}\\end{matrix}\\right]$$"
      ],
      "text/plain": [
       "<IPython.core.display.Math object>"
      ]
     },
     "metadata": {},
     "output_type": "display_data"
    },
    {
     "name": "stdout",
     "output_type": "stream",
     "text": [
      "TM_str = \n",
      " lambda epsilon_1,epsilon_2,mu_1,mu_2: (MutableDenseMatrix([[(mu_1*k_z2 + mu_2*k_z1)/(2*mu_1*k_z2), (mu_1*k_z2 - mu_2*k_z1)/(2*mu_1*k_z2)], [(mu_1*k_z2 - mu_2*k_z1)/(2*mu_1*k_z2), (mu_1*k_z2 + mu_2*k_z1)/(2*mu_1*k_z2)]]))\n",
      "TM_str = \n",
      " lambda epsilon_1,epsilon_2,mu_1,mu_2: (np.array([[(mu_1*k_z2 + mu_2*k_z1)/(2*mu_1*k_z2), (mu_1*k_z2 - mu_2*k_z1)/(2*mu_1*k_z2)], [(mu_1*k_z2 - mu_2*k_z1)/(2*mu_1*k_z2), (mu_1*k_z2 + mu_2*k_z1)/(2*mu_1*k_z2)]]))\n",
      "k_z1_str = \n",
      " lambda epsilon_1: (sqrt(epsilon_1*mu_1*k_0**2 - k_t**2))\n"
     ]
    }
   ],
   "source": [
    "## oblique incidence TE (E is tangent to the intrface)\n",
    "\n",
    "from sympy import *\n",
    "from IPython.display import display, Math\n",
    "\n",
    "from sympy.utilities.lambdify import lambdastr\n",
    "\n",
    "from Electromagnetics import Misc\n",
    "from Electromagnetics.VectorCalculus import crossproduct\n",
    "\n",
    "E_x1p, E_x2p = symbols('E_{x1}^+ E_{x2}^+')\n",
    "E_x1m, E_x2m = symbols('E_{x1}^- E_{x2}^-')\n",
    "a1, a2, b1, b2 = symbols('a_1 a_2 b_1 b_2')\n",
    "eps_1, eps_2, mu_1, mu_2 = symbols(r'\\epsilon_1 \\epsilon_2 \\mu_1 \\mu_2', real=True, positive=True)\n",
    "k_0, k_t = symbols('k_0 k_t')\n",
    "k_z1, k_z2 = symbols('k_{z1} k_{z2}')\n",
    "eta_0, eta_1, eta_2 = symbols(r'\\eta_0 \\eta_1 \\eta_2')\n",
    "\n",
    "k_z1_sub = sqrt(k_0**2*eps_1*mu_1 - k_t**2)\n",
    "k_z2_sub = sqrt(k_0**2*eps_2*mu_2 - k_t**2)\n",
    "\n",
    "k_1p = Matrix([[0, k_t, +k_z1]])/(k_0*sqrt(eps_1*mu_1))\n",
    "k_1m = Matrix([[0, k_t, -k_z1]])/(k_0*sqrt(eps_1*mu_1))\n",
    "k_2p = Matrix([[0, k_t, +k_z2]])/(k_0*sqrt(eps_2*mu_2))\n",
    "k_2m = Matrix([[0, k_t, -k_z2]])/(k_0*sqrt(eps_2*mu_2))\n",
    "\n",
    "print('unit k vectors:')\n",
    "display(Math('k_1^+ = '+latex(k_1p)))\n",
    "display(Math('k_1^- = '+latex(k_1m)))\n",
    "display(Math('k_2^+ = '+latex(k_2p)))\n",
    "display(Math('k_2^- = '+latex(k_2m)))\n",
    "\n",
    "\n",
    "E_1p = Matrix([[E_x1p, 0, 0]])\n",
    "E_1m = Matrix([[E_x1m, 0, 0]])\n",
    "E_2p = Matrix([[E_x2p, 0, 0]])\n",
    "E_2m = Matrix([[E_x2m, 0, 0]])\n",
    "\n",
    "print('Electric field:')\n",
    "display(Math('E_1^+ = '+latex(E_1p)))\n",
    "display(Math('E_1^- = '+latex(E_1m)))\n",
    "display(Math('E_2^+ = '+latex(E_2p)))\n",
    "display(Math('E_2^- = '+latex(E_2m)))\n",
    "\n",
    "\n",
    "H_1p = crossproduct(k_1p, E_1p)/eta_1\n",
    "H_1m = crossproduct(k_1m, E_1m)/eta_1\n",
    "H_2p = crossproduct(k_2p, E_2p)/eta_2\n",
    "H_2m = crossproduct(k_2m, E_2m)/eta_2\n",
    "\n",
    "print('Magnetic field:')\n",
    "display(Math('H_1^+ = '+latex(H_1p)))\n",
    "display(Math('H_1^- = '+latex(H_1m)))\n",
    "display(Math('H_2^+ = '+latex(H_2p)))\n",
    "display(Math('H_2^- = '+latex(H_2m)))\n",
    "\n",
    "\n",
    "a_z = Matrix([[0, 0, 1]])\n",
    "\n",
    "eq_E = crossproduct(a_z, E_1p+E_1m-E_2p-E_2m)[1]\n",
    "eq_H = crossproduct(a_z, H_1p+H_1m-H_2p-H_2m)[0]\n",
    "\n",
    "display(Math('Eq_E = '+latex(eq_E)))\n",
    "display(Math('Eq_H = '+latex(eq_H)))\n",
    "\n",
    "\n",
    "E_x2pm = solve([eq_E, eq_H], [E_x2p, E_x2m])\n",
    "display(Math('E_x2pm = '+latex(E_x2pm)))\n",
    "\n",
    "\n",
    "E_x2p_sub = E_x2pm[E_x2p]\n",
    "E_x2m_sub = E_x2pm[E_x2m]\n",
    "display(Math('E_x2p = '+latex(E_x2p_sub)))\n",
    "display(Math('E_x2m = '+latex(E_x2m_sub)))\n",
    "\n",
    "E_x2p_sub = E_x2p_sub.subs([(eta_1, sqrt(mu_1/eps_1)), (eta_2, sqrt(mu_2/eps_2))])\n",
    "E_x2m_sub = E_x2m_sub.subs([(eta_1, sqrt(mu_1/eps_1)), (eta_2, sqrt(mu_2/eps_2))])\n",
    "\n",
    "\n",
    "TM =  Matrix([[E_x2p_sub.subs([(E_x1p, 1), (E_x1m, 0)]), E_x2p_sub.subs([(E_x1p, 0), (E_x1m, 1)])],\n",
    "            [E_x2m_sub.subs([(E_x1p, 1), (E_x1m, 0)]), E_x2m_sub.subs([(E_x1p, 0), (E_x1m, 1)])]])\n",
    "TM = Misc.SymMatrixSimplify(TM)\n",
    "display(Math('TM = '+latex(TM)))\n",
    "\n",
    "TM_str = lambdastr((eps_1, eps_2, mu_1, mu_2), TM).replace('\\\\', '').replace('{', '').replace('}', '')\n",
    "print('TM_str = \\n', TM_str)\n",
    "\n",
    "TM_str = Misc.replace_whole_word(TM_str, 'I', '1j')\n",
    "TM_str = Misc.replace_whole_word(TM_str, 'MutableDenseMatrix', 'np.array')\n",
    "print('TM_str = \\n', TM_str)\n",
    "\n",
    "k_z1_str = lambdastr(eps_1, k_z1_sub).replace('\\\\', '').replace('{', '').replace('}', '')\n",
    "print('k_z1_str = \\n', k_z1_str)\n",
    "\n"
   ]
  },
  {
   "cell_type": "markdown",
   "metadata": {},
   "source": [
    "### TM oblique epsilon-mu"
   ]
  },
  {
   "cell_type": "code",
   "execution_count": 10,
   "metadata": {
    "collapsed": false
   },
   "outputs": [
    {
     "name": "stdout",
     "output_type": "stream",
     "text": [
      "unit k vectors:\n"
     ]
    },
    {
     "data": {
      "text/latex": [
       "$$k_1^+ = \\left[\\begin{matrix}0 & \\frac{k_{t}}{\\sqrt{\\epsilon_{1}} \\sqrt{\\mu_{1}} k_{0}} & \\frac{k_{{z1}}}{\\sqrt{\\epsilon_{1}} \\sqrt{\\mu_{1}} k_{0}}\\end{matrix}\\right]$$"
      ],
      "text/plain": [
       "<IPython.core.display.Math object>"
      ]
     },
     "metadata": {},
     "output_type": "display_data"
    },
    {
     "data": {
      "text/latex": [
       "$$k_1^- = \\left[\\begin{matrix}0 & \\frac{k_{t}}{\\sqrt{\\epsilon_{1}} \\sqrt{\\mu_{1}} k_{0}} & - \\frac{k_{{z1}}}{\\sqrt{\\epsilon_{1}} \\sqrt{\\mu_{1}} k_{0}}\\end{matrix}\\right]$$"
      ],
      "text/plain": [
       "<IPython.core.display.Math object>"
      ]
     },
     "metadata": {},
     "output_type": "display_data"
    },
    {
     "data": {
      "text/latex": [
       "$$k_2^+ = \\left[\\begin{matrix}0 & \\frac{k_{t}}{\\sqrt{\\epsilon_{2}} \\sqrt{\\mu_{2}} k_{0}} & \\frac{k_{{z2}}}{\\sqrt{\\epsilon_{2}} \\sqrt{\\mu_{2}} k_{0}}\\end{matrix}\\right]$$"
      ],
      "text/plain": [
       "<IPython.core.display.Math object>"
      ]
     },
     "metadata": {},
     "output_type": "display_data"
    },
    {
     "data": {
      "text/latex": [
       "$$k_2^- = \\left[\\begin{matrix}0 & \\frac{k_{t}}{\\sqrt{\\epsilon_{2}} \\sqrt{\\mu_{2}} k_{0}} & - \\frac{k_{{z2}}}{\\sqrt{\\epsilon_{2}} \\sqrt{\\mu_{2}} k_{0}}\\end{matrix}\\right]$$"
      ],
      "text/plain": [
       "<IPython.core.display.Math object>"
      ]
     },
     "metadata": {},
     "output_type": "display_data"
    },
    {
     "name": "stdout",
     "output_type": "stream",
     "text": [
      "Magnetic field:\n"
     ]
    },
    {
     "data": {
      "text/latex": [
       "$$H_1^+ = \\left[\\begin{matrix}H^{+}_{{x1}} & 0 & 0\\end{matrix}\\right]$$"
      ],
      "text/plain": [
       "<IPython.core.display.Math object>"
      ]
     },
     "metadata": {},
     "output_type": "display_data"
    },
    {
     "data": {
      "text/latex": [
       "$$H_1^- = \\left[\\begin{matrix}H^{-}_{{x1}} & 0 & 0\\end{matrix}\\right]$$"
      ],
      "text/plain": [
       "<IPython.core.display.Math object>"
      ]
     },
     "metadata": {},
     "output_type": "display_data"
    },
    {
     "data": {
      "text/latex": [
       "$$H_2^+ = \\left[\\begin{matrix}H^{+}_{{x2}} & 0 & 0\\end{matrix}\\right]$$"
      ],
      "text/plain": [
       "<IPython.core.display.Math object>"
      ]
     },
     "metadata": {},
     "output_type": "display_data"
    },
    {
     "data": {
      "text/latex": [
       "$$H_2^- = \\left[\\begin{matrix}H^{-}_{{x2}} & 0 & 0\\end{matrix}\\right]$$"
      ],
      "text/plain": [
       "<IPython.core.display.Math object>"
      ]
     },
     "metadata": {},
     "output_type": "display_data"
    },
    {
     "name": "stdout",
     "output_type": "stream",
     "text": [
      "Electric field\n"
     ]
    },
    {
     "data": {
      "text/latex": [
       "$$E_1^+ = \\left[\\begin{matrix}0 & - \\frac{H^{+}_{{x1}} \\eta_{1} k_{{z1}}}{\\sqrt{\\epsilon_{1}} \\sqrt{\\mu_{1}} k_{0}} & \\frac{H^{+}_{{x1}} \\eta_{1} k_{t}}{\\sqrt{\\epsilon_{1}} \\sqrt{\\mu_{1}} k_{0}}\\end{matrix}\\right]$$"
      ],
      "text/plain": [
       "<IPython.core.display.Math object>"
      ]
     },
     "metadata": {},
     "output_type": "display_data"
    },
    {
     "data": {
      "text/latex": [
       "$$E_1^- = \\left[\\begin{matrix}0 & \\frac{H^{-}_{{x1}} \\eta_{1} k_{{z1}}}{\\sqrt{\\epsilon_{1}} \\sqrt{\\mu_{1}} k_{0}} & \\frac{H^{-}_{{x1}} \\eta_{1} k_{t}}{\\sqrt{\\epsilon_{1}} \\sqrt{\\mu_{1}} k_{0}}\\end{matrix}\\right]$$"
      ],
      "text/plain": [
       "<IPython.core.display.Math object>"
      ]
     },
     "metadata": {},
     "output_type": "display_data"
    },
    {
     "data": {
      "text/latex": [
       "$$E_2^+ = \\left[\\begin{matrix}0 & - \\frac{H^{+}_{{x2}} \\eta_{2} k_{{z2}}}{\\sqrt{\\epsilon_{2}} \\sqrt{\\mu_{2}} k_{0}} & \\frac{H^{+}_{{x2}} \\eta_{2} k_{t}}{\\sqrt{\\epsilon_{2}} \\sqrt{\\mu_{2}} k_{0}}\\end{matrix}\\right]$$"
      ],
      "text/plain": [
       "<IPython.core.display.Math object>"
      ]
     },
     "metadata": {},
     "output_type": "display_data"
    },
    {
     "data": {
      "text/latex": [
       "$$E_2^- = \\left[\\begin{matrix}0 & \\frac{H^{-}_{{x2}} \\eta_{2} k_{{z2}}}{\\sqrt{\\epsilon_{2}} \\sqrt{\\mu_{2}} k_{0}} & \\frac{H^{-}_{{x2}} \\eta_{2} k_{t}}{\\sqrt{\\epsilon_{2}} \\sqrt{\\mu_{2}} k_{0}}\\end{matrix}\\right]$$"
      ],
      "text/plain": [
       "<IPython.core.display.Math object>"
      ]
     },
     "metadata": {},
     "output_type": "display_data"
    },
    {
     "data": {
      "text/latex": [
       "$$Eq_E = \\frac{H^{+}_{{x1}} \\eta_{1} k_{{z1}}}{\\sqrt{\\epsilon_{1}} \\sqrt{\\mu_{1}} k_{0}} - \\frac{H^{-}_{{x1}} \\eta_{1} k_{{z1}}}{\\sqrt{\\epsilon_{1}} \\sqrt{\\mu_{1}} k_{0}} - \\frac{H^{+}_{{x2}} \\eta_{2} k_{{z2}}}{\\sqrt{\\epsilon_{2}} \\sqrt{\\mu_{2}} k_{0}} + \\frac{H^{-}_{{x2}} \\eta_{2} k_{{z2}}}{\\sqrt{\\epsilon_{2}} \\sqrt{\\mu_{2}} k_{0}}$$"
      ],
      "text/plain": [
       "<IPython.core.display.Math object>"
      ]
     },
     "metadata": {},
     "output_type": "display_data"
    },
    {
     "data": {
      "text/latex": [
       "$$Eq_H = H^{+}_{{x1}} + H^{-}_{{x1}} - H^{+}_{{x2}} - H^{-}_{{x2}}$$"
      ],
      "text/plain": [
       "<IPython.core.display.Math object>"
      ]
     },
     "metadata": {},
     "output_type": "display_data"
    },
    {
     "data": {
      "text/latex": [
       "$$H_x2pm = \\left \\{ H^{+}_{{x2}} : \\frac{H^{+}_{{x1}}}{2} + \\frac{H^{+}_{{x1}} \\sqrt{\\epsilon_{2}} \\eta_{1} \\sqrt{\\mu_{2}} k_{{z1}}}{2 \\sqrt{\\epsilon_{1}} \\eta_{2} \\sqrt{\\mu_{1}} k_{{z2}}} + \\frac{H^{-}_{{x1}}}{2} - \\frac{H^{-}_{{x1}} \\sqrt{\\epsilon_{2}} \\eta_{1} \\sqrt{\\mu_{2}} k_{{z1}}}{2 \\sqrt{\\epsilon_{1}} \\eta_{2} \\sqrt{\\mu_{1}} k_{{z2}}}, \\quad H^{-}_{{x2}} : \\frac{1}{2 \\sqrt{\\epsilon_{1}} \\eta_{2} \\sqrt{\\mu_{1}} k_{{z2}}} \\left(- H^{+}_{{x1}} \\sqrt{\\epsilon_{2}} \\eta_{1} \\sqrt{\\mu_{2}} k_{{z1}} + H^{-}_{{x1}} \\sqrt{\\epsilon_{2}} \\eta_{1} \\sqrt{\\mu_{2}} k_{{z1}} + \\sqrt{\\epsilon_{1}} \\eta_{2} \\sqrt{\\mu_{1}} k_{{z2}} \\left(H^{+}_{{x1}} + H^{-}_{{x1}}\\right)\\right)\\right \\}$$"
      ],
      "text/plain": [
       "<IPython.core.display.Math object>"
      ]
     },
     "metadata": {},
     "output_type": "display_data"
    },
    {
     "data": {
      "text/latex": [
       "$$H_x2p = \\frac{H^{+}_{{x1}}}{2} + \\frac{H^{+}_{{x1}} \\sqrt{\\epsilon_{2}} \\eta_{1} \\sqrt{\\mu_{2}} k_{{z1}}}{2 \\sqrt{\\epsilon_{1}} \\eta_{2} \\sqrt{\\mu_{1}} k_{{z2}}} + \\frac{H^{-}_{{x1}}}{2} - \\frac{H^{-}_{{x1}} \\sqrt{\\epsilon_{2}} \\eta_{1} \\sqrt{\\mu_{2}} k_{{z1}}}{2 \\sqrt{\\epsilon_{1}} \\eta_{2} \\sqrt{\\mu_{1}} k_{{z2}}}$$"
      ],
      "text/plain": [
       "<IPython.core.display.Math object>"
      ]
     },
     "metadata": {},
     "output_type": "display_data"
    },
    {
     "data": {
      "text/latex": [
       "$$H_x2m = \\frac{1}{2 \\sqrt{\\epsilon_{1}} \\eta_{2} \\sqrt{\\mu_{1}} k_{{z2}}} \\left(- H^{+}_{{x1}} \\sqrt{\\epsilon_{2}} \\eta_{1} \\sqrt{\\mu_{2}} k_{{z1}} + H^{-}_{{x1}} \\sqrt{\\epsilon_{2}} \\eta_{1} \\sqrt{\\mu_{2}} k_{{z1}} + \\sqrt{\\epsilon_{1}} \\eta_{2} \\sqrt{\\mu_{1}} k_{{z2}} \\left(H^{+}_{{x1}} + H^{-}_{{x1}}\\right)\\right)$$"
      ],
      "text/plain": [
       "<IPython.core.display.Math object>"
      ]
     },
     "metadata": {},
     "output_type": "display_data"
    },
    {
     "data": {
      "text/latex": [
       "$$TM = \\left[\\begin{matrix}\\frac{\\epsilon_{1} k_{{z2}} + \\epsilon_{2} k_{{z1}}}{2 \\epsilon_{1} k_{{z2}}} & \\frac{\\epsilon_{1} k_{{z2}} - \\epsilon_{2} k_{{z1}}}{2 \\epsilon_{1} k_{{z2}}}\\\\\\frac{\\epsilon_{1} k_{{z2}} - \\epsilon_{2} k_{{z1}}}{2 \\epsilon_{1} k_{{z2}}} & \\frac{\\epsilon_{1} k_{{z2}} + \\epsilon_{2} k_{{z1}}}{2 \\epsilon_{1} k_{{z2}}}\\end{matrix}\\right]$$"
      ],
      "text/plain": [
       "<IPython.core.display.Math object>"
      ]
     },
     "metadata": {},
     "output_type": "display_data"
    },
    {
     "name": "stdout",
     "output_type": "stream",
     "text": [
      "TM_str = \n",
      " lambda epsilon_1,epsilon_2: (MutableDenseMatrix([[(epsilon_1*k_z2 + epsilon_2*k_z1)/(2*epsilon_1*k_z2), (epsilon_1*k_z2 - epsilon_2*k_z1)/(2*epsilon_1*k_z2)], [(epsilon_1*k_z2 - epsilon_2*k_z1)/(2*epsilon_1*k_z2), (epsilon_1*k_z2 + epsilon_2*k_z1)/(2*epsilon_1*k_z2)]]))\n",
      "TM_str = \n",
      " lambda epsilon_1,epsilon_2: (np.array([[(epsilon_1*k_z2 + epsilon_2*k_z1)/(2*epsilon_1*k_z2), (epsilon_1*k_z2 - epsilon_2*k_z1)/(2*epsilon_1*k_z2)], [(epsilon_1*k_z2 - epsilon_2*k_z1)/(2*epsilon_1*k_z2), (epsilon_1*k_z2 + epsilon_2*k_z1)/(2*epsilon_1*k_z2)]]))\n",
      "k_z1_str = \n",
      " lambda epsilon_1: (sqrt(epsilon_1*mu_1*k_0**2 - k_t**2))\n"
     ]
    }
   ],
   "source": [
    "## oblique incidence TM (H is tangent to the intrface)\n",
    "\n",
    "from sympy import *\n",
    "from IPython.display import display, Math\n",
    "\n",
    "from sympy.utilities.lambdify import lambdastr\n",
    "\n",
    "from Electromagnetics import Misc\n",
    "from Electromagnetics.VectorCalculus import crossproduct\n",
    "\n",
    "H_x1p, H_x2p = symbols('H_{x1}^+ H_{x2}^+')\n",
    "H_x1m, H_x2m = symbols('H_{x1}^- H_{x2}^-')\n",
    "a1, a2, b1, b2 = symbols('a_1 a_2 b_1 b_2')\n",
    "eps_1, eps_2, mu_1, mu_2 = symbols(r'\\epsilon_1 \\epsilon_2 \\mu_1 \\mu_2', real=True, positive=True)\n",
    "k_0, k_t = symbols('k_0 k_t')\n",
    "k_z1, k_z2 = symbols('k_{z1} k_{z2}')\n",
    "eta_0, eta_1, eta_2 = symbols(r'\\eta_0 \\eta_1 \\eta_2')\n",
    "\n",
    "\n",
    "k_z1_sub = sqrt(k_0**2*eps_1*mu_1 - k_t**2)\n",
    "k_z2_sub = sqrt(k_0**2*eps_2*mu_2 - k_t**2)\n",
    "\n",
    "k_1p = Matrix([[0, k_t, +k_z1]])/(k_0*sqrt(eps_1*mu_1))\n",
    "k_1m = Matrix([[0, k_t, -k_z1]])/(k_0*sqrt(eps_1*mu_1))\n",
    "k_2p = Matrix([[0, k_t, +k_z2]])/(k_0*sqrt(eps_2*mu_2))\n",
    "k_2m = Matrix([[0, k_t, -k_z2]])/(k_0*sqrt(eps_2*mu_2))\n",
    "\n",
    "print('unit k vectors:')\n",
    "display(Math('k_1^+ = '+latex(k_1p)))\n",
    "display(Math('k_1^- = '+latex(k_1m)))\n",
    "display(Math('k_2^+ = '+latex(k_2p)))\n",
    "display(Math('k_2^- = '+latex(k_2m)))\n",
    "\n",
    "H_1p = Matrix([[H_x1p, 0, 0]])\n",
    "H_1m = Matrix([[H_x1m, 0, 0]])\n",
    "H_2p = Matrix([[H_x2p, 0, 0]])\n",
    "H_2m = Matrix([[H_x2m, 0, 0]])\n",
    "\n",
    "print('Magnetic field:')\n",
    "display(Math('H_1^+ = '+latex(H_1p)))\n",
    "display(Math('H_1^- = '+latex(H_1m)))\n",
    "display(Math('H_2^+ = '+latex(H_2p)))\n",
    "display(Math('H_2^- = '+latex(H_2m)))\n",
    "\n",
    "\n",
    "E_1p = -crossproduct(k_1p, H_1p)*eta_1\n",
    "E_1m = -crossproduct(k_1m, H_1m)*eta_1\n",
    "E_2p = -crossproduct(k_2p, H_2p)*eta_2\n",
    "E_2m = -crossproduct(k_2m, H_2m)*eta_2\n",
    "\n",
    "print('Electric field')\n",
    "display(Math('E_1^+ = '+latex(E_1p)))\n",
    "display(Math('E_1^- = '+latex(E_1m)))\n",
    "display(Math('E_2^+ = '+latex(E_2p)))\n",
    "display(Math('E_2^- = '+latex(E_2m)))\n",
    "\n",
    "\n",
    "a_z = Matrix([[0, 0, 1]])\n",
    "\n",
    "eq_E = crossproduct(a_z, E_1p+E_1m-E_2p-E_2m)[0]\n",
    "eq_H = crossproduct(a_z, H_1p+H_1m-H_2p-H_2m)[1]\n",
    "\n",
    "display(Math('Eq_E = '+latex(eq_E)))\n",
    "display(Math('Eq_H = '+latex(eq_H)))\n",
    "\n",
    "\n",
    "H_x2pm = solve([eq_E, eq_H], [H_x2p, H_x2m])\n",
    "display(Math('H_x2pm = '+latex(H_x2pm)))\n",
    "\n",
    "\n",
    "H_x2p_sub = H_x2pm[H_x2p]\n",
    "H_x2m_sub = H_x2pm[H_x2m]\n",
    "display(Math('H_x2p = '+latex(H_x2p_sub)))\n",
    "display(Math('H_x2m = '+latex(H_x2m_sub)))\n",
    "\n",
    "H_x2p_sub = H_x2p_sub.subs([(eta_1, sqrt(mu_1/eps_1)), (eta_2, sqrt(mu_2/eps_2))])\n",
    "H_x2m_sub = H_x2m_sub.subs([(eta_1, sqrt(mu_1/eps_1)), (eta_2, sqrt(mu_2/eps_2))])\n",
    "\n",
    "\n",
    "TM =  Matrix([[H_x2p_sub.subs([(H_x1p, 1), (H_x1m, 0)]), H_x2p_sub.subs([(H_x1p, 0), (H_x1m, 1)])],\n",
    "            [H_x2m_sub.subs([(H_x1p, 1), (H_x1m, 0)]), H_x2m_sub.subs([(H_x1p, 0), (H_x1m, 1)])]])\n",
    "TM = Misc.SymMatrixSimplify(TM)\n",
    "display(Math('TM = '+latex(TM)))\n",
    "\n",
    "\n",
    "TM_str = lambdastr((eps_1, eps_2), TM).replace('\\\\', '').replace('{', '').replace('}', '')\n",
    "print('TM_str = \\n', TM_str)\n",
    "\n",
    "TM_str = Misc.replace_whole_word(TM_str, 'I', '1j')\n",
    "TM_str = Misc.replace_whole_word(TM_str, 'MutableDenseMatrix', 'np.array')\n",
    "print('TM_str = \\n', TM_str)\n",
    "\n",
    "k_z1_str = lambdastr(eps_1, k_z1_sub).replace('\\\\', '').replace('{', '').replace('}', '')\n",
    "print('k_z1_str = \\n', k_z1_str)\n",
    "\n"
   ]
  },
  {
   "cell_type": "code",
   "execution_count": 2,
   "metadata": {
    "collapsed": false
   },
   "outputs": [
    {
     "data": {
      "text/latex": [
       "$$\\left[\\begin{matrix}e^{- i d k} & 0\\\\0 & e^{i d k}\\end{matrix}\\right]$$"
      ],
      "text/plain": [
       "<IPython.core.display.Math object>"
      ]
     },
     "metadata": {},
     "output_type": "display_data"
    },
    {
     "name": "stdout",
     "output_type": "stream",
     "text": [
      "PM_str = \n",
      " lambda n,d,k: (MutableDenseMatrix([[exp(-I*d*k), 0], [0, exp(I*d*k)]]))\n",
      "PM_str = \n",
      " lambda n,d,k: (np.array([[exp(-1j*d*k), 0], [0, exp(1j*d*k)]]))\n"
     ]
    }
   ],
   "source": [
    "\n",
    "n, k, d, omega = symbols('n k d \\\\omega')\n",
    "\n",
    "PM = Matrix([[exp(-I*k*d), 0],\n",
    "             [0, exp(+I*k*d)]])\n",
    "\n",
    "\n",
    "display(Math(latex(PM)))\n",
    "\n",
    "PM_str = lambdastr((n, d, k), PM).replace('\\\\', '').replace('{', '').replace('}', '')\n",
    "print('PM_str = \\n', PM_str)\n",
    "\n",
    "PM_str = Misc.replace_whole_word(PM_str, 'I', '1j')\n",
    "PM_str = Misc.replace_whole_word(PM_str, 'MutableDenseMatrix', 'np.array')\n",
    "print('PM_str = \\n', PM_str)\n",
    "\n",
    "\n"
   ]
  },
  {
   "cell_type": "markdown",
   "metadata": {},
   "source": [
    "### dielectric PC - numerical"
   ]
  },
  {
   "cell_type": "code",
   "execution_count": 14,
   "metadata": {
    "collapsed": false
   },
   "outputs": [
    {
     "name": "stdout",
     "output_type": "stream",
     "text": [
      "[[-0.97276677+0.24982697j  0.01028048+0.09264454j]\n",
      " [ 0.01028048-0.09264454j -0.97276677-0.24982697j]]\n",
      "[[-0.97276677+0.24982697j  0.01028048+0.09264454j]\n",
      " [ 0.01028048-0.09264454j -0.97276677-0.24982697j]]\n",
      "T: (-0.964387495186+0.247674994823j)  ---  0.995683756989\n",
      "R: (-0.0130313651672-0.0918914554784j)  ---  0.0928108618\n",
      "[ -9.64387495e-01 +2.47674995e-01j  -1.73472348e-18 -1.38777878e-17j]\n",
      "T: (-0.964387495186+0.247674994823j)  ---  0.995683756989\n",
      "R: (-0.0130313651672-0.0918914554784j)  ---  0.0928108618\n",
      "Populating the interactive namespace from numpy and matplotlib\n"
     ]
    },
    {
     "name": "stderr",
     "output_type": "stream",
     "text": [
      "/usr/local/lib/python3.5/dist-packages/IPython/core/magics/pylab.py:161: UserWarning: pylab import has clobbered these variables: ['f']\n",
      "`%matplotlib` prevents importing * from pylab and numpy\n",
      "  \"\\n`%matplotlib` prevents importing * from pylab and numpy\"\n"
     ]
    },
    {
     "data": {
      "image/png": "[encoded data removed]",
      "text/plain": [
       "<matplotlib.figure.Figure at 0x7f8c0da53278>"
      ]
     },
     "metadata": {},
     "output_type": "display_data"
    }
   ],
   "source": [
    "%reload_ext autoreload\n",
    "%autoreload\n",
    "\n",
    "import numpy as np\n",
    "from scipy import constants\n",
    "from Electromagnetics.TMM import *\n",
    "\n",
    "freq = 2.0*constants.giga\n",
    "l_0 = constants.c/freq\n",
    "theta = 30.0*np.pi/180.0\n",
    "\n",
    "pc = TMM(freq, theta, TETM='TE')\n",
    "pc_emn = TMM_EM_N(freq, theta, TETM='TE')\n",
    "\n",
    "d_ratio = 0.4\n",
    "n = np.array([1.5, 2.5])\n",
    "d = np.array([l_0*d_ratio, l_0*d_ratio/2])\n",
    "\n",
    "n_layer = 10\n",
    "\n",
    "n_p, d_p = pc.RepeatProfile(n, d, n_layer)\n",
    "\n",
    "\n",
    "#print(n_p)\n",
    "#print(d_p)\n",
    "\n",
    "n_0, n_1 = 1.0, 1.0\n",
    "pc.SetupMultilayer(n_0, n_1, n_p, d_p)\n",
    "pc_emn.SetupMultilayer(n_0, n_1, n_p, d_p)\n",
    "\n",
    "TM = pc.GetTMTotal()\n",
    "print(TM)\n",
    "TM = pc_emn.GetTMTotal()\n",
    "print(TM)\n",
    "\n",
    "T, R = pc.GetTransmissionReflection()\n",
    "\n",
    "print('T:', T, ' --- ', abs(T))\n",
    "print('R:', R, ' --- ', abs(R))\n",
    "\n",
    "print(TM.dot(np.array([1.0, R])))\n",
    "\n",
    "T, R = pc_emn.GetTransmissionReflection()\n",
    "\n",
    "print('T:', T, ' --- ', abs(T))\n",
    "print('R:', R, ' --- ', abs(R))\n",
    "\n",
    "%pylab inline\n",
    "\n",
    "d_sides = d[0]*2.0\n",
    "n_pts_0, n_pts_1 = 40, 40\n",
    "n_pts_i = 60\n",
    "\n",
    "[z_pts, n_vec] = pc.GetMediumPlot(n_pts_0, n_pts_i, n_pts_1, d_sides, d_sides)\n",
    "figsize(15, 6)\n",
    "\n",
    "fig = figure()\n",
    "plot(z_pts, np.real(n_vec), 'r', label='Dielectric slabs')\n",
    "\n",
    "xlabel('$z$ - (m)', fontsize=18)\n",
    "ylabel('$n(z)$', fontsize=18)\n",
    "legend(loc='best', fontsize=16)\n",
    "\n",
    "font = {'family' : 'serif', 'weight' : 'normal', 'size'   : 16}\n",
    "matplotlib.rc('font', **font)\n"
   ]
  },
  {
   "cell_type": "code",
   "execution_count": 16,
   "metadata": {
    "collapsed": false
   },
   "outputs": [
    {
     "name": "stdout",
     "output_type": "stream",
     "text": [
      "Populating the interactive namespace from numpy and matplotlib\n"
     ]
    },
    {
     "name": "stderr",
     "output_type": "stream",
     "text": [
      "/usr/local/lib/python3.5/dist-packages/IPython/core/magics/pylab.py:161: UserWarning: pylab import has clobbered these variables: ['f']\n",
      "`%matplotlib` prevents importing * from pylab and numpy\n",
      "  \"\\n`%matplotlib` prevents importing * from pylab and numpy\"\n"
     ]
    },
    {
     "data": {
      "image/png": "[encoded data removed]",
      "text/plain": [
       "<matplotlib.figure.Figure at 0x7f8c0df0be10>"
      ]
     },
     "metadata": {},
     "output_type": "display_data"
    }
   ],
   "source": [
    "%pylab inline\n",
    "\n",
    "f_0 = 1.0*constants.giga\n",
    "f_1 = 3.0*constants.giga\n",
    "N = 300\n",
    "\n",
    "f, T, R = pc.GetTransmissionReflectionFreqBand(f_0, f_1, N)\n",
    "\n",
    "figsize(15, 6)\n",
    "\n",
    "plot(f, abs(T), 'r', label='$T$')\n",
    "plot(f, abs(R), 'b', label='$R$')\n",
    "\n",
    "f, T, R = pc_emn.GetTransmissionReflectionFreqBand(f_0, f_1, N)\n",
    "\n",
    "figsize(15, 6)\n",
    "\n",
    "plot(f, abs(T), 'r-.', label='$T$')\n",
    "plot(f, abs(R), 'b-.', label='$R$')\n",
    "\n",
    "xlabel('$f$ - (Hz)', fontsize=18)\n",
    "ylabel('$T, R$', fontsize=18)\n",
    "legend(loc='best', fontsize=16)\n",
    "\n",
    "font = {'family' : 'serif', 'weight' : 'normal', 'size'   : 16}\n",
    "matplotlib.rc('font', **font)\n",
    "\n",
    "import os\n",
    "dir_name = './other/gradient/periodic-1'\n",
    "file_ext = '.png'\n",
    "if not os.path.exists(dir_name):\n",
    "    os.makedirs(dir_name)\n",
    "\n",
    "savefig(dir_name + '/TrnasRefl' + file_ext)\n"
   ]
  },
  {
   "cell_type": "code",
   "execution_count": 3,
   "metadata": {
    "collapsed": false
   },
   "outputs": [
    {
     "name": "stdout",
     "output_type": "stream",
     "text": [
      "Populating the interactive namespace from numpy and matplotlib\n"
     ]
    },
    {
     "name": "stderr",
     "output_type": "stream",
     "text": [
      "/usr/local/lib/python3.5/dist-packages/IPython/core/magics/pylab.py:161: UserWarning: pylab import has clobbered these variables: ['f']\n",
      "`%matplotlib` prevents importing * from pylab and numpy\n",
      "  \"\\n`%matplotlib` prevents importing * from pylab and numpy\"\n"
     ]
    },
    {
     "data": {
      "image/png": "[encoded data removed]",
      "text/plain": [
       "<matplotlib.figure.Figure at 0x7f8c409c5828>"
      ]
     },
     "metadata": {},
     "output_type": "display_data"
    }
   ],
   "source": [
    "%pylab inline\n",
    "\n",
    "pc.SetFrequency(1.5*constants.giga)\n",
    "pc_emn.SetFrequency(1.5*constants.giga)\n",
    "\n",
    "[z_pts, E_FWD, E_BWD] = pc.GetFieldPlot(100, 30, 100, d0=d[0], d1=d[0])\n",
    "            \n",
    "\n",
    "figsize(15, 6)\n",
    "plot(z_pts, np.abs(E_FWD), 'r', label='forward')\n",
    "plot(z_pts, np.abs(E_BWD), 'b', label='backward')\n",
    "plot(z_pts, np.abs(E_FWD+E_BWD), 'k', label='total')\n",
    "\n",
    "[z_pts, E_FWD, E_BWD] = pc_emn.GetFieldPlot(100, 30, 100, d0=d[0], d1=d[0])\n",
    "            \n",
    "plot(z_pts, np.abs(E_FWD), 'r-.', label='forward')\n",
    "plot(z_pts, np.abs(E_BWD), 'b-.', label='backward')\n",
    "plot(z_pts, np.abs(E_FWD+E_BWD), 'k-.', label='total')\n",
    "\n",
    "\n",
    "xlabel('$z$ - (m)', fontsize=18)\n",
    "ylabel('$|E|$', fontsize=18)\n",
    "legend(loc='best', fontsize=16)\n",
    "\n",
    "font = {'family' : 'serif', 'weight' : 'normal', 'size'   : 16}\n",
    "matplotlib.rc('font', **font)\n",
    "\n",
    "savefig(dir_name + '/E_mag' + file_ext)\n",
    "\n"
   ]
  },
  {
   "cell_type": "markdown",
   "metadata": {},
   "source": [
    "### Magnetodielectric PC"
   ]
  },
  {
   "cell_type": "code",
   "execution_count": 1,
   "metadata": {
    "collapsed": false
   },
   "outputs": [
    {
     "name": "stdout",
     "output_type": "stream",
     "text": [
      "[[ 0.85088950+0.5902926j  -0.03044088+0.26745401j]\n",
      " [-0.03044088-0.26745401j  0.85088950-0.5902926j ]]\n",
      "T: (0.79340101865+0.550410769497j)  ---  0.965627874273\n",
      "R: (-0.123057744935+0.228953269988j)  ---  0.259928467904\n",
      "[ 0.79340102 +5.50410769e-01j  0.00000000 +2.77555756e-17j]\n",
      "T: (0.79340101865+0.550410769497j)  ---  0.965627874273\n",
      "R: (-0.123057744935+0.228953269988j)  ---  0.259928467904\n",
      "Populating the interactive namespace from numpy and matplotlib\n"
     ]
    },
    {
     "data": {
      "image/png": "[encoded data removed]",
      "text/plain": [
       "<matplotlib.figure.Figure at 0x7f01ffc78e80>"
      ]
     },
     "metadata": {},
     "output_type": "display_data"
    }
   ],
   "source": [
    "%reload_ext autoreload\n",
    "%autoreload\n",
    "\n",
    "import numpy as np\n",
    "from scipy import constants\n",
    "from Electromagnetics.TMM import *\n",
    "\n",
    "freq = 5.0*constants.giga\n",
    "l_0 = constants.c/freq\n",
    "theta = 60.0*np.pi/180.0\n",
    "\n",
    "pc_epsmu = TMM_EM_EPSMU(freq, theta, TETM='TM')\n",
    "\n",
    "d_ratio = 0.4\n",
    "eps = np.array([2.5, 1.5])\n",
    "mu = np.array([2.5, 1.5])\n",
    "d = np.array([l_0*d_ratio, l_0*d_ratio/2])\n",
    "\n",
    "n_layer = 5\n",
    "\n",
    "eps_p, mu_p, d_p = pc_epsmu.RepeatProfile(eps, mu, d, n_layer)\n",
    "\n",
    "eps_0, eps_1 = 1.0, 1.0\n",
    "mu_0, mu_1 = 1.0, 1.0\n",
    "pc_epsmu.SetupMultilayer((eps_0, mu_0), (eps_1, mu_1), eps_p, mu_p, d_p)\n",
    "\n",
    "TM = pc_epsmu.GetTMTotal()\n",
    "print(TM)\n",
    "\n",
    "T, R = pc_epsmu.GetTransmissionReflection()\n",
    "\n",
    "print('T:', T, ' --- ', abs(T))\n",
    "print('R:', R, ' --- ', abs(R))\n",
    "\n",
    "print(TM.dot(np.array([1.0, R])))\n",
    "\n",
    "T, R = pc_epsmu.GetTransmissionReflection()\n",
    "\n",
    "print('T:', T, ' --- ', abs(T))\n",
    "print('R:', R, ' --- ', abs(R))\n",
    "\n",
    "%pylab inline\n",
    "\n",
    "d_sides = d[0]*2.0\n",
    "n_pts_0, n_pts_1 = 40, 40\n",
    "n_pts_i = 60\n",
    "\n",
    "[z_pts, eps_vec, mu_vec] = pc_epsmu.GetMediumPlot(n_pts_0, n_pts_i, n_pts_1, d_sides, d_sides)\n",
    "figsize(15, 6)\n",
    "\n",
    "fig = figure()\n",
    "plot(z_pts, np.real(eps_vec), 'r', label='epsilon')\n",
    "plot(z_pts, np.real(mu_vec), 'b-.', label='mu')\n",
    "\n",
    "xlabel('$z$ - (m)', fontsize=18)\n",
    "ylabel('$eps(z), mu(z)$', fontsize=18)\n",
    "legend(loc='best', fontsize=16)\n",
    "\n",
    "font = {'family' : 'serif', 'weight' : 'normal', 'size'   : 16}\n",
    "matplotlib.rc('font', **font)\n"
   ]
  },
  {
   "cell_type": "code",
   "execution_count": 2,
   "metadata": {
    "collapsed": false
   },
   "outputs": [
    {
     "name": "stdout",
     "output_type": "stream",
     "text": [
      "Populating the interactive namespace from numpy and matplotlib\n"
     ]
    },
    {
     "data": {
      "image/png": "[encoded data removed]",
      "text/plain": [
       "<matplotlib.figure.Figure at 0x7f01ff857860>"
      ]
     },
     "metadata": {},
     "output_type": "display_data"
    }
   ],
   "source": [
    "%pylab inline\n",
    "\n",
    "f_0 = 1.0*constants.giga\n",
    "f_1 = 4.0*constants.giga\n",
    "N = 300\n",
    "\n",
    "f, T, R = pc_epsmu.GetTransmissionReflectionFreqBand(f_0, f_1, N)\n",
    "\n",
    "figsize(15, 6)\n",
    "\n",
    "plot(f, abs(T), 'r', label='$T$')\n",
    "plot(f, abs(R), 'b', label='$R$')\n",
    "\n",
    "xlabel('$f$ - (Hz)', fontsize=18)\n",
    "ylabel('$T, R$', fontsize=18)\n",
    "legend(loc='best', fontsize=16)\n",
    "\n",
    "font = {'family' : 'serif', 'weight' : 'normal', 'size'   : 16}\n",
    "matplotlib.rc('font', **font)\n",
    "\n",
    "import os\n",
    "dir_name = './other/gradient/periodic-1'\n",
    "file_ext = '.png'\n",
    "if not os.path.exists(dir_name):\n",
    "    os.makedirs(dir_name)\n",
    "\n",
    "savefig(dir_name + '/TrnasRefl' + file_ext)\n"
   ]
  },
  {
   "cell_type": "markdown",
   "metadata": {},
   "source": [
    "### Symbolic TMM"
   ]
  },
  {
   "cell_type": "code",
   "execution_count": 3,
   "metadata": {
    "collapsed": false
   },
   "outputs": [
    {
     "data": {
      "text/latex": [
       "$$\\left[\\begin{matrix}\\frac{e^{i d k_{z}}}{4 k_{z} k_{{z0}}} \\left(- k_{z} + k_{{z0}}\\right) \\left(k_{z} - k_{{z0}}\\right) + \\frac{\\left(k_{z} + k_{{z0}}\\right)^{2}}{4 k_{z} k_{{z0}}} e^{- i d k_{z}} & \\frac{e^{i d k_{z}}}{4 k_{z} k_{{z0}}} \\left(- k_{z} + k_{{z0}}\\right) \\left(k_{z} + k_{{z0}}\\right) + \\frac{e^{- i d k_{z}}}{4 k_{z} k_{{z0}}} \\left(k_{z} - k_{{z0}}\\right) \\left(k_{z} + k_{{z0}}\\right)\\\\\\frac{e^{- i d k_{z}}}{4 k_{z} k_{{z0}}} \\left(- k_{z} + k_{{z0}}\\right) \\left(k_{z} + k_{{z0}}\\right) + \\frac{e^{i d k_{z}}}{4 k_{z} k_{{z0}}} \\left(k_{z} - k_{{z0}}\\right) \\left(k_{z} + k_{{z0}}\\right) & \\frac{e^{- i d k_{z}}}{4 k_{z} k_{{z0}}} \\left(- k_{z} + k_{{z0}}\\right) \\left(k_{z} - k_{{z0}}\\right) + \\frac{\\left(k_{z} + k_{{z0}}\\right)^{2} e^{i d k_{z}}}{4 k_{z} k_{{z0}}}\\end{matrix}\\right]$$"
      ],
      "text/plain": [
       "<IPython.core.display.Math object>"
      ]
     },
     "metadata": {},
     "output_type": "display_data"
    },
    {
     "data": {
      "text/latex": [
       "$$\\left[\\begin{matrix}\\frac{4 k_{z} k_{{z0}} e^{i d k_{z}}}{\\left(\\left(k_{z} - k_{{z0}}\\right)^{2} - \\left(k_{z} + k_{{z0}}\\right)^{2} e^{2 i d k_{z}}\\right) \\left(- e^{2 i d k_{z}} + 1\\right)} \\left(- \\frac{e^{- i d k_{z}}}{4 k_{z} k_{{z0}}} \\left(- k_{z} + k_{{z0}}\\right) \\left(k_{z} + k_{{z0}}\\right) - \\frac{e^{i d k_{z}}}{4 k_{z} k_{{z0}}} \\left(k_{z} - k_{{z0}}\\right) \\left(k_{z} + k_{{z0}}\\right)\\right) \\left(e^{2 i d k_{z}} - 1\\right) + \\left(- \\frac{e^{i d k_{z}}}{4 k_{z} k_{{z0}}} \\left(- k_{z} + k_{{z0}}\\right) \\left(k_{z} - k_{{z0}}\\right) - \\frac{\\left(k_{z} + k_{{z0}}\\right)^{2}}{4 k_{z} k_{{z0}}} e^{- i d k_{z}}\\right) \\left(- \\frac{16 k_{z}^{2} k_{{z0}}^{2} \\left(\\frac{e^{- i d k_{z}}}{4 k_{z} k_{{z0}}} \\left(- k_{z} + k_{{z0}}\\right) \\left(k_{z} - k_{{z0}}\\right) + \\frac{\\left(k_{z} + k_{{z0}}\\right)^{2} e^{i d k_{z}}}{4 k_{z} k_{{z0}}}\\right) \\left(e^{2 i d k_{z}} - 1\\right) e^{2 i d k_{z}}}{\\left(k_{z} - k_{{z0}}\\right) \\left(k_{z} + k_{{z0}}\\right) \\left(\\left(k_{z} - k_{{z0}}\\right)^{2} - \\left(k_{z} + k_{{z0}}\\right)^{2} e^{2 i d k_{z}}\\right) \\left(- e^{2 i d k_{z}} + 1\\right)^{2}} + \\frac{4 k_{z} k_{{z0}} e^{i d k_{z}}}{\\left(k_{z} - k_{{z0}}\\right) \\left(k_{z} + k_{{z0}}\\right) \\left(- e^{2 i d k_{z}} + 1\\right)}\\right) & 0\\\\- \\frac{4 k_{z} k_{{z0}} e^{i d k_{z}}}{\\left(\\left(k_{z} - k_{{z0}}\\right)^{2} - \\left(k_{z} + k_{{z0}}\\right)^{2} e^{2 i d k_{z}}\\right) \\left(- e^{2 i d k_{z}} + 1\\right)} \\left(\\frac{e^{- i d k_{z}}}{4 k_{z} k_{{z0}}} \\left(- k_{z} + k_{{z0}}\\right) \\left(k_{z} - k_{{z0}}\\right) + \\frac{\\left(k_{z} + k_{{z0}}\\right)^{2} e^{i d k_{z}}}{4 k_{z} k_{{z0}}}\\right) \\left(- \\frac{e^{i d k_{z}}}{4 k_{z} k_{{z0}}} \\left(- k_{z} + k_{{z0}}\\right) \\left(k_{z} - k_{{z0}}\\right) - \\frac{\\left(k_{z} + k_{{z0}}\\right)^{2}}{4 k_{z} k_{{z0}}} e^{- i d k_{z}}\\right) \\left(e^{2 i d k_{z}} - 1\\right) + \\frac{1}{\\left(k_{z} - k_{{z0}}\\right)^{2} - \\left(k_{z} + k_{{z0}}\\right)^{2} e^{2 i d k_{z}}} \\left(k_{z} - k_{{z0}}\\right) \\left(k_{z} + k_{{z0}}\\right) \\left(- \\frac{e^{- i d k_{z}}}{4 k_{z} k_{{z0}}} \\left(- k_{z} + k_{{z0}}\\right) \\left(k_{z} + k_{{z0}}\\right) - \\frac{e^{i d k_{z}}}{4 k_{z} k_{{z0}}} \\left(k_{z} - k_{{z0}}\\right) \\left(k_{z} + k_{{z0}}\\right)\\right) \\left(e^{2 i d k_{z}} - 1\\right) & 0\\end{matrix}\\right]$$"
      ],
      "text/plain": [
       "<IPython.core.display.Math object>"
      ]
     },
     "metadata": {},
     "output_type": "display_data"
    }
   ],
   "source": [
    "from Electromagnetics.TMM_sym import *\n",
    "from sympy import symbols, Symbol, latex\n",
    "from IPython.display import display, Math\n",
    "\n",
    "\n",
    "\n",
    "pc_emn = TMM_sym_EM_N(TETM='TE')\n",
    "\n",
    "n_arr = [Symbol('n')]\n",
    "d_arr = [Symbol('d')]\n",
    "k_z_arr = [Symbol('k_z')]\n",
    "\n",
    "n_0, n_1 = symbols('n_0 n_1')\n",
    "k_z0, k_z1 = symbols('k_{z0} k_{z1}')\n",
    "\n",
    "pc_emn.SetupMultilayer((n_0, k_z0), (n_1, k_z1), (n_arr, k_z_arr), d_arr)\n",
    "\n",
    "\n",
    "TM = pc_emn.GetTMTotal()\n",
    "display(Math(latex(TM)))\n",
    "\n",
    "RT = pc_emn.GetTransmissionReflection()\n",
    "\n",
    "display(Math(latex(RT)))\n"
   ]
  },
  {
   "cell_type": "code",
   "execution_count": null,
   "metadata": {
    "collapsed": true
   },
   "outputs": [],
   "source": []
  }
 ],
 "metadata": {
  "kernelspec": {
   "display_name": "Python 3",
   "language": "python",
   "name": "python3"
  },
  "language_info": {
   "codemirror_mode": {
    "name": "ipython",
    "version": 3
   },
   "file_extension": ".py",
   "mimetype": "text/x-python",
   "name": "python",
   "nbconvert_exporter": "python",
   "pygments_lexer": "ipython3",
   "version": "3.5.2"
  }
 },
 "nbformat": 4,
 "nbformat_minor": 0
}
