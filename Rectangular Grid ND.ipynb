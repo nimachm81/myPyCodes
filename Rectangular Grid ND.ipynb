{
 "cells": [
  {
   "cell_type": "code",
   "execution_count": 1,
   "metadata": {
    "collapsed": false
   },
   "outputs": [
    {
     "name": "stdout",
     "output_type": "stream",
     "text": [
      "-- [182] 182\n"
     ]
    }
   ],
   "source": [
    "%reload_ext autoreload\n",
    "%autoreload\n",
    "#%aimport\n",
    "\n",
    "import numpy as np\n",
    "\n",
    "from Electromagnetics.RecGridND import *\n",
    "\n",
    "\n",
    "x0, x1, dx = None, None, None\n",
    "n_dim = 1\n",
    "BC = 'IC'\n",
    "make_refinements = False\n",
    "\n",
    "from enum import Enum\n",
    "class EqType(Enum):\n",
    "    has_coeff = 1\n",
    "    has_coeff_par = 2\n",
    "    has_rhs = 3\n",
    "    has_der_0 = 4\n",
    "    const_coeff = 5\n",
    "    \n",
    "eq_type = EqType.has_coeff_par\n",
    "\n",
    "if eq_type == EqType.has_der_0:\n",
    "    assert n_dim==2 and BC=='IC'\n",
    "    \n",
    "solve_twice = False\n",
    "extrapolate = False\n",
    "\n",
    "\n",
    "if n_dim==1:\n",
    "    x0 = np.array([1.0])\n",
    "    x1 = np.array([10.1])\n",
    "    dx = np.array([0.05])\n",
    "elif n_dim==2:\n",
    "    x0 = np.array([0.2, 0.1])\n",
    "    x1 = np.array([0.25, 1.5])\n",
    "    dx = np.array([0.03, 0.1])\n",
    "elif n_dim==3:\n",
    "    x0 = np.array([0.0, 0.0, 0.0])\n",
    "    x1 = np.array([1.0, 1.0, 1.0])\n",
    "    dx = np.array([0.35, 0.25, 0.20])\n",
    "\n",
    "    \n",
    "rg = RGND(x0, x1, dx)\n",
    "\n",
    "\"\"\" ##BC singularity test \n",
    "rg.NodesGetConnectedCells()\n",
    "rg.SetupBoundaryCellConnections()\n",
    "cells_ref = {0:[0]}\n",
    "#cells_ref = {0:[11,12,13,14,15,16,17,18,28,38,48,58,68,78,88,87,86,85,84,83,82,81,71,61,51,41,31,21]}\n",
    "#cells_ref = {0:[0,1,2,3,4,5,6,7,8,9,10,20,30,40,50,60,70,80,90]}\n",
    "#cells_ref = {0:[i for i in range(100) if i not in list(range(10))+list(range(10,100,10))+list(range(91,100))+list(range(9,99,10))]}\n",
    "cells_ref = rg.MarkAdditionalCellsForRefinement_PeriodicBoundary(cells_ref)\n",
    "rg.RefineCells(cells_ref)\n",
    "\"\"\"\n",
    "\n",
    "if make_refinements:\n",
    "    n_tot_0 = len(rg.cellsHier[0])\n",
    "    n_ref = int(n_tot_0/5)\n",
    "\n",
    "    cells_ref = {}\n",
    "\n",
    "    import random\n",
    "    cells_ref[0] = list(set([random.randint(0, n_tot_0-1) for i in range(n_ref)]))\n",
    "    print('cells_ref: ', cells_ref)\n",
    "\n",
    "    rg.NodesGetConnectedCells()\n",
    "    rg.SetupBoundaryCellConnections()\n",
    "    #cells_ref = rg.MarkAdditionalCellsForRefinement(cells_ref)\n",
    "    cells_ref = rg.MarkAdditionalCellsForRefinement_PeriodicBoundary(cells_ref)\n",
    "    print('cells_ref: ', cells_ref)\n",
    "\n",
    "    rg.RefineCells(cells_ref)\n",
    "    print('Refinement verification:', rg.VerifyCellsContinuity())\n",
    "\n",
    "    n_tot_1 = len(rg.cellsHier[1])\n",
    "    cells_ref = {0:[]}\n",
    "    cells_ref[1] = list(set([random.randint(0, n_tot_1-1) for i in range(n_ref)]))\n",
    "    print('cells_ref: ', cells_ref)\n",
    "\n",
    "    rg.NodesGetConnectedCells()\n",
    "    rg.SetupBoundaryCellConnections()\n",
    "    #cells_ref = rg.MarkAdditionalCellsForRefinement(cells_ref)\n",
    "    cells_ref = rg.MarkAdditionalCellsForRefinement_PeriodicBoundary(cells_ref)\n",
    "    print('cells_ref: ', cells_ref)\n",
    "\n",
    "    rg.RefineCells(cells_ref)\n",
    "    print('Refinement verification:', rg.VerifyCellsContinuity())\n",
    "\n",
    "    cells_ref = {}\n",
    "    n_tot_0 = len(rg.cellsHier[0])\n",
    "    n_tot_1 = len(rg.cellsHier[1])\n",
    "    n_tot_2 = len(rg.cellsHier[2])\n",
    "    cells_ref[0] = list(set([random.randint(0, n_tot_0-1) for i in range(n_ref)]))\n",
    "    cells_ref[1] = list(set([random.randint(0, n_tot_1-1) for i in range(n_ref)]))\n",
    "    cells_ref[2] = list(set([random.randint(0, n_tot_2-1) for i in range(n_ref)]))\n",
    "    print('cells_ref: ', cells_ref)\n",
    "\n",
    "    rg.NodesGetConnectedCells()\n",
    "    rg.SetupBoundaryCellConnections()\n",
    "    #cells_ref = rg.MarkAdditionalCellsForRefinement(cells_ref)\n",
    "    cells_ref = rg.MarkAdditionalCellsForRefinement_PeriodicBoundary(cells_ref)\n",
    "    print('cells_ref: ', cells_ref)\n",
    "\n",
    "    rg.RefineCells(cells_ref)\n",
    "\n",
    "rg.NodesGetConnectedCells()\n",
    "rg.SetupBoundaryCellConnections()\n",
    "assert rg.VerifyInternalAndBorderCellsContinuity()\n",
    "\n",
    "rg.verbose=0\n"
   ]
  },
  {
   "cell_type": "code",
   "execution_count": 2,
   "metadata": {
    "collapsed": false
   },
   "outputs": [
    {
     "name": "stdout",
     "output_type": "stream",
     "text": [
      "differential equation:\n"
     ]
    },
    {
     "data": {
      "text/latex": [
       "$$\\left(\\alpha{\\left (x \\right )} + 16.0\\right) f{\\left (x \\right )} + \\cos{\\left (4 x \\right )} \\frac{d}{d x} \\beta{\\left (x \\right )} + \\frac{d^{2}}{d x^{2}}  f{\\left (x \\right )}$$"
      ],
      "text/plain": [
       "<IPython.core.display.Math object>"
      ]
     },
     "metadata": {},
     "output_type": "display_data"
    },
    {
     "data": {
      "text/latex": [
       "$$\\cos{\\left (4 x \\right )}$$"
      ],
      "text/plain": [
       "<IPython.core.display.Math object>"
      ]
     },
     "metadata": {},
     "output_type": "display_data"
    },
    {
     "name": "stdout",
     "output_type": "stream",
     "text": [
      "[[[[[\\alpha(x) + 16.0, 0, []], [1, 2, [x, x]]]]], [-cos(4*x)*Derivative(\\beta(x), x)]]\n",
      "f_x0: -0.653643620863612 df_x0: 3.02720998123171\n"
     ]
    },
    {
     "data": {
      "text/latex": [
       "$$\\left [ \\alpha{\\left (x \\right )} + 16.0, \\quad 0, \\quad \\left [ \\right ]\\right ] : \\alpha{\\left (x \\right )} + 16.0;0;\\left [ \\right ]$$"
      ],
      "text/plain": [
       "<IPython.core.display.Math object>"
      ]
     },
     "metadata": {},
     "output_type": "display_data"
    },
    {
     "data": {
      "text/latex": [
       "$$\\left [ 1, \\quad 2, \\quad \\left [ x, \\quad x\\right ]\\right ] : 1;2;\\left [ x, \\quad x\\right ]$$"
      ],
      "text/plain": [
       "<IPython.core.display.Math object>"
      ]
     },
     "metadata": {},
     "output_type": "display_data"
    },
    {
     "name": "stdout",
     "output_type": "stream",
     "text": [
      "self.mask_allp:\n",
      "[1 1 1 1 1 1 0 0]\n",
      "self.mask_xp:\n",
      "[0 0 1 1 1 1 0 0]\n",
      "self.mask_x_F:\n",
      "[0, 0, 1, 1, 1, 1]\n",
      "self.inds_0_allp:\n",
      "[ 0  1  2  3  4  5 -1 -1]\n",
      "self.inds_0_all_F:\n",
      "[[0, (0,)], [1, (1,)], [2, (2,)], [3, (3,)], [4, (4,)], [5, (5,)]]\n",
      "self.inds_keep:\n",
      "[1 1 1 1 1 1]\n",
      "self.inds_keep__x_weight:\n",
      "[[[0, 2, 1.0], [1, 3, 1.0], [2, 4, 1.0], [3, 5, 1.0]]]\n",
      "------------------------------\n"
     ]
    },
    {
     "data": {
      "text/latex": [
       "$$\\left [ \\alpha{\\left (x \\right )} + 16.0, \\quad 0, \\quad \\left [ \\right ]\\right ] : \\alpha{\\left (x \\right )} + 16.0;0;\\left [ \\right ]$$"
      ],
      "text/plain": [
       "<IPython.core.display.Math object>"
      ]
     },
     "metadata": {},
     "output_type": "display_data"
    },
    {
     "data": {
      "text/latex": [
       "$$\\left [ 1, \\quad 2, \\quad \\left [ x, \\quad x\\right ]\\right ] : 1;2;\\left [ x, \\quad x\\right ]$$"
      ],
      "text/plain": [
       "<IPython.core.display.Math object>"
      ]
     },
     "metadata": {},
     "output_type": "display_data"
    },
    {
     "name": "stdout",
     "output_type": "stream",
     "text": [
      "[ -6.53643621e-01+0.j   1.51360499e-01+0.j   1.30728724e-02+0.j ...,\n",
      "   7.97244211e-04+0.j  -5.34359968e-05+0.j  -1.59448334e-06+0.j]\n",
      "x:\n",
      "[ -6.53643621e-01+0.j   1.51360499e-01+0.j   1.30728724e-02+0.j ...,\n",
      "   7.97244211e-04+0.j  -5.34359968e-05+0.j  -1.59448334e-06+0.j]\n",
      "min:\n",
      "2.3337565988e-08\n",
      "max:\n",
      "0.999933560251\n"
     ]
    }
   ],
   "source": [
    "from sympy import symbols, Function, Derivative, latex, sin, cos, lambdify\n",
    "from IPython.display import display, Math, Latex\n",
    "\n",
    "x, y, z = symbols('x, y, z')\n",
    "\n",
    "\n",
    "f_exa = None\n",
    "\n",
    "if n_dim==1:\n",
    "    x = symbols('x')\n",
    "    f = Function('f')(x)\n",
    "    alpha = Function('\\\\alpha')(x)\n",
    "    beta = Function('\\\\beta')(x)\n",
    "    \n",
    "    eq_0 = None\n",
    "    if eq_type==EqType.has_coeff_par:\n",
    "        eq_0 = Derivative(f, x, 2) + (16.0+alpha)*f + Derivative(beta, x)*cos(4*x) \n",
    "        f_exa = cos(4*x)\n",
    "    elif eq_type==EqType.has_coeff:\n",
    "        eq_0 = Derivative(f, x, 2) + (16.0+sin(x))*f - sin(x)*cos(4*x) \n",
    "        f_exa = cos(4*x)\n",
    "    elif eq_type==EqType.has_rhs:\n",
    "        eq_0 = Derivative(f, x, 2) + 16.0*f - 16.0*x\n",
    "        f_exa = cos(4*x) + x\n",
    "    else:\n",
    "        eq_0 = Derivative(f, x, 2) + 16.0*f \n",
    "        f_exa = cos(4*x)\n",
    "\n",
    "        \n",
    "    print('differential equation:')\n",
    "    display(Math(latex(eq_0)))\n",
    "    display(Math(latex(f_exa)))\n",
    "\n",
    "    if eq_type==EqType.has_coeff_par:\n",
    "        rg.AttachDiffEquations(eqs_list=[eq_0], vars_list=[f], pars_list=[alpha, beta], indepVars_list=[x])\n",
    "        rg.SetParsValues([sin(x), cos(x)])\n",
    "    else:\n",
    "        rg.AttachDiffEquations(eqs_list=[eq_0], vars_list=[f], pars_list=[], indepVars_list=[x])\n",
    "\n",
    "    eq_parts = rg.DisintegrateEquations()\n",
    "    print(eq_parts)\n",
    "\n",
    "        \n",
    "    ##-- boundary coditions\n",
    "    rg.ResetBoundaryConditions()\n",
    "    if BC == 'BC':\n",
    "        f_x0 = f_exa.subs(x, x0[0])\n",
    "        f_x1 = f_exa.subs(x, x1[0])\n",
    "        print('f_x0:', f_x0, 'f_x1:', f_x1)\n",
    "        rg.AddBoundaryCondition({'expr':f-f_x0, 'dir':0, 'face':'n'})\n",
    "        rg.AddBoundaryCondition({'expr':f-f_x1, 'dir':0, 'face':'p'})\n",
    "    else:\n",
    "        assert BC=='IC'\n",
    "        f_x0 = f_exa.subs(x, x0[0])\n",
    "        df_x0 = Derivative(f_exa, x).doit().subs(x, x0[0])\n",
    "        print('f_x0:', f_x0, 'df_x0:', df_x0)\n",
    "        rg.AddBoundaryCondition({'expr':f-f_x0, 'dir':0, 'face':'n'})\n",
    "        rg.AddBoundaryCondition({'expr':Derivative(f,x,1)-df_x0, 'dir':0, 'face':'n'})\n",
    "\n",
    "    f_cc = []\n",
    "    f_cc.append({'der':0, 'dir':0, 'face':'n'})\n",
    "    f_cc.append({'der':1, 'dir':0, 'face':'n'})\n",
    "    rg.DefineContinuityCondsAcrossCellBorders({f:f_cc})\n",
    "\n",
    "\n",
    "    poly_order = [[5]]\n",
    "    poly_order_max = [[3]]\n",
    "    der_order_max = [[2]]\n",
    "    \n",
    "elif n_dim==2:\n",
    "    x, y, z = symbols('x, y, z')\n",
    "    f = Function('f')(x,y)\n",
    "\n",
    "    if eq_type==EqType.has_coeff:\n",
    "        eq_0 = Derivative(f, x, 2) + Derivative(f, y, 2) + (2+sin(x+y))*f - sin(x+y)*cos(x)*cos(y)\n",
    "        f_exa = cos(x)*cos(y)\n",
    "    elif eq_type==EqType.has_der_0:\n",
    "        eq_0 = Derivative(f, x, 2) - cos(y)\n",
    "        f_exa = x**2/2*cos(y) + x*sin(y) + (1-y)\n",
    "    else:\n",
    "        eq_0 = Derivative(f, x, 2) + Derivative(f, y, 2) + 2*f\n",
    "        f_exa = cos(x)*cos(y)\n",
    "\n",
    "    print('differential equation:')\n",
    "    display(Math(latex(eq_0)))\n",
    "\n",
    "    #rg.AttachDiffEquations(eqs_list=[eq_0, eq_1], vars_list=[f, g], pars_list=[gamma], indepVars_list=[x, y])\n",
    "    rg.AttachDiffEquations(eqs_list=[eq_0], vars_list=[f], pars_list=[], indepVars_list=[x, y])\n",
    "\n",
    "    eq_parts = rg.DisintegrateEquations()\n",
    "    print(eq_parts)\n",
    "\n",
    "    ##-- boundary coditions\n",
    "    rg.ResetBoundaryConditions()\n",
    "    if eq_type==EqType.has_der_0:\n",
    "        if BC=='IC':        \n",
    "            f_x0 = f_exa.subs(x, x0[0])\n",
    "            df_x0 = Derivative(f_exa, x).doit().subs(x, x0[0])\n",
    "            rg.AddBoundaryCondition({'expr':f-f_x0, 'dir':0, 'face':'n'})\n",
    "            rg.AddBoundaryCondition({'expr':Derivative(f,x,1)-df_x0, 'dir':0, 'face':'n'})\n",
    "        else:\n",
    "            raise NotImplementedError()\n",
    "    else:\n",
    "        if BC == 'BC':\n",
    "            f_x0 = f_exa.subs(x, x0[0])\n",
    "            f_x1 = f_exa.subs(x, x1[0])\n",
    "            f_y0 = f_exa.subs(y, x0[1])\n",
    "            f_y1 = f_exa.subs(y, x1[1])\n",
    "            rg.AddBoundaryCondition({'expr':f-f_x0, 'dir':0, 'face':'n'})\n",
    "            rg.AddBoundaryCondition({'expr':f-f_x1, 'dir':0, 'face':'p'})\n",
    "            rg.AddBoundaryCondition({'expr':f-f_y0, 'dir':1, 'face':'n'})\n",
    "            rg.AddBoundaryCondition({'expr':f-f_y1, 'dir':1, 'face':'p'})\n",
    "        elif BC=='IC':        \n",
    "            f_x0 = f_exa.subs(x, x0[0])\n",
    "            df_x0 = Derivative(f_exa, x).doit().subs(x, x0[0])\n",
    "            f_y0 = f_exa.subs(y, x0[1])\n",
    "            df_y0 = Derivative(f_exa, y).doit().subs(y, x0[1])\n",
    "            rg.AddBoundaryCondition({'expr':f-f_x0, 'dir':0, 'face':'n'})\n",
    "            rg.AddBoundaryCondition({'expr':Derivative(f,x,1)-df_x0, 'dir':0, 'face':'n'})\n",
    "            rg.AddBoundaryCondition({'expr':f-f_y0, 'dir':1, 'face':'n'})\n",
    "            rg.AddBoundaryCondition({'expr':Derivative(f,y,1)-df_y0, 'dir':1, 'face':'n'})\n",
    "        elif BC=='BCIC':\n",
    "            f_x0 = f_exa.subs(x, x0[0])\n",
    "            f_x1 = f_exa.subs(x, x1[0])\n",
    "            f_y0 = f_exa.subs(y, x0[1])\n",
    "            df_y0 = Derivative(f_exa, y).doit().subs(y, x0[1])\n",
    "            rg.AddBoundaryCondition({'expr':f-f_x0, 'dir':0, 'face':'n'})\n",
    "            rg.AddBoundaryCondition({'expr':f-f_x1, 'dir':0, 'face':'p'})\n",
    "            rg.AddBoundaryCondition({'expr':f-f_y0, 'dir':1, 'face':'n'})\n",
    "            rg.AddBoundaryCondition({'expr':Derivative(f,y,1)-df_y0, 'dir':1, 'face':'n'})\n",
    "        else:\n",
    "            raise NotImplementedError()\n",
    "        \n",
    "\n",
    "    f_cc = []\n",
    "    if eq_type==EqType.has_der_0:\n",
    "        f_cc.append({'der':0, 'dir':0, 'face':'n'})\n",
    "        f_cc.append({'der':1, 'dir':0, 'face':'n'})\n",
    "    else:\n",
    "        f_cc.append({'der':0, 'dir':0, 'face':'n'})\n",
    "        f_cc.append({'der':0, 'dir':1, 'face':'n'})\n",
    "        f_cc.append({'der':1, 'dir':0, 'face':'n'})\n",
    "        f_cc.append({'der':1, 'dir':1, 'face':'n'})\n",
    "    rg.DefineContinuityCondsAcrossCellBorders({f:f_cc})\n",
    "\n",
    "    if eq_type==EqType.has_der_0:\n",
    "        poly_order = [[5, 7]]\n",
    "        poly_order_max = [[3, 7]]\n",
    "        der_order_max = [[2, 0]]\n",
    "    else:\n",
    "        poly_order = [[9, 9]]\n",
    "        poly_order_max = [[7, 7]]\n",
    "        der_order_max = [[2, 2]]\n",
    "        \n",
    "elif n_dim==3:\n",
    "    x, y, z = symbols('x, y, z')\n",
    "    f = Function('f')(x,y,z)\n",
    "\n",
    "    if eq_type==EqType.has_coeff:\n",
    "        eq_0 = Derivative(f, x, 2) + Derivative(f, y, 2) + Derivative(f, z, 2) + (3+sin(x+y+z))*f - sin(x+y+z)*cos(x)*cos(y)*cos(z)\n",
    "    else:\n",
    "        eq_0 = Derivative(f, x, 2) + Derivative(f, y, 2) + Derivative(f, z, 2) + 3*f\n",
    "    print('differential equation:')\n",
    "    display(Math(latex(eq_0)))\n",
    "\n",
    "    #rg.AttachDiffEquations(eqs_list=[eq_0, eq_1], vars_list=[f, g], pars_list=[gamma], indepVars_list=[x, y])\n",
    "    rg.AttachDiffEquations(eqs_list=[eq_0], vars_list=[f], pars_list=[], indepVars_list=[x, y, z])\n",
    "\n",
    "    eq_parts = rg.DisintegrateEquations()\n",
    "    print(eq_parts)\n",
    "\n",
    "    ##-- boundary coditions\n",
    "    rg.ResetBoundaryConditions()\n",
    "    if BC == 'BC':\n",
    "        rg.AddBoundaryCondition({'expr':f-cos(y)*cos(z), 'dir':0, 'face':'n'})\n",
    "        rg.AddBoundaryCondition({'expr':f-cos(x1[0])*cos(y)*cos(z), 'dir':0, 'face':'p'})\n",
    "        rg.AddBoundaryCondition({'expr':f-cos(x)*cos(z), 'dir':1, 'face':'n'})\n",
    "        rg.AddBoundaryCondition({'expr':f-cos(x)*cos(x1[1])*cos(z), 'dir':1, 'face':'p'})\n",
    "        rg.AddBoundaryCondition({'expr':f-cos(x)*cos(y), 'dir':2, 'face':'n'})\n",
    "        rg.AddBoundaryCondition({'expr':f-cos(x)*cos(y)*cos(x1[2]), 'dir':2, 'face':'p'})\n",
    "    elif BC=='IC':\n",
    "        rg.AddBoundaryCondition({'expr':f-cos(y)*cos(z), 'dir':0, 'face':'n'})\n",
    "        rg.AddBoundaryCondition({'expr':Derivative(f,x,1), 'dir':0, 'face':'n'})\n",
    "        rg.AddBoundaryCondition({'expr':f-cos(x)*cos(z), 'dir':1, 'face':'n'})\n",
    "        rg.AddBoundaryCondition({'expr':Derivative(f,y,1), 'dir':1, 'face':'n'})\n",
    "        rg.AddBoundaryCondition({'expr':f-cos(x)*cos(y), 'dir':2, 'face':'n'})\n",
    "        rg.AddBoundaryCondition({'expr':Derivative(f,z,1), 'dir':2, 'face':'n'})\n",
    "    elif BC=='BCIC':\n",
    "        rg.AddBoundaryCondition({'expr':f-cos(y)*cos(z), 'dir':0, 'face':'n'})\n",
    "        rg.AddBoundaryCondition({'expr':f-cos(x1[0])*cos(y)*cos(z), 'dir':0, 'face':'p'})\n",
    "        rg.AddBoundaryCondition({'expr':f-cos(x)*cos(z), 'dir':1, 'face':'n'})\n",
    "        rg.AddBoundaryCondition({'expr':f-cos(x)*cos(x1[1])*cos(z), 'dir':1, 'face':'p'})\n",
    "        rg.AddBoundaryCondition({'expr':f-cos(x)*cos(y), 'dir':2, 'face':'n'})\n",
    "        rg.AddBoundaryCondition({'expr':Derivative(f,z,1), 'dir':2, 'face':'n'})\n",
    "    else:\n",
    "        raise NotImplementedError()\n",
    "        \n",
    "\n",
    "    f_cc = []\n",
    "    f_cc.append({'der':0, 'dir':0, 'face':'n'})\n",
    "    f_cc.append({'der':0, 'dir':1, 'face':'n'})\n",
    "    f_cc.append({'der':0, 'dir':2, 'face':'n'})\n",
    "    f_cc.append({'der':1, 'dir':0, 'face':'n'})\n",
    "    f_cc.append({'der':1, 'dir':1, 'face':'n'})\n",
    "    f_cc.append({'der':1, 'dir':2, 'face':'n'})\n",
    "    rg.DefineContinuityCondsAcrossCellBorders({f:f_cc})\n",
    "\n",
    "\n",
    "    poly_order = [[7, 7, 7]]\n",
    "    poly_order_max = [[5, 5, 5]]\n",
    "    der_order_max = [[2, 2, 2]]\n",
    "\n",
    "rg.SetPolynomialBasisFuncs(poly_order)\n",
    "rg.SetMaxPolyOrderToKeepForEachEq(poly_order_max)\n",
    "rg.SetMaxDerivativeOrderForEachVar(der_order_max)\n",
    "\n",
    "x_res = rg.SetupMatrixEQs()\n",
    "rg.SetPolyBasisCoeffs(x_res)\n",
    "    \n",
    "if solve_twice:\n",
    "    if n_dim==1 and BC=='IC':\n",
    "        bcinds_cc = [0, 1]\n",
    "        cc_equiv = [{'v_ind':0, 'dir':0, 'der':0, 'face':'n'},\n",
    "                    {'v_ind':0, 'dir':0, 'der':1, 'face':'n'}]\n",
    "        rg.AdvanceCornerInVarDir(x)\n",
    "        x_res = rg.ResetRHSUseCCasIC_Leapfrog(bcinds_cc, cc_equiv, params_extern=None)\n",
    "        rg.SetPolyBasisCoeffs(x_res)\n",
    "    if n_dim==2 and BC=='IC':\n",
    "        bcinds_cc = [0, 1]\n",
    "        cc_equiv = [{'v_ind':0, 'dir':0, 'der':0, 'face':'n'},\n",
    "                    {'v_ind':0, 'dir':0, 'der':1, 'face':'n'}]\n",
    "        rg.AdvanceCornerInVarDir(x)\n",
    "        x_res = rg.ResetRHSUseCCasIC_Leapfrog(bcinds_cc, cc_equiv, params_extern=None)\n",
    "        rg.SetPolyBasisCoeffs(x_res)\n",
    "elif extrapolate:\n",
    "    if n_dim==1 and BC=='IC':\n",
    "        der_order = [0]\n",
    "        rg.GetCellBoundPolyCoeffOnFaceTemp_scaled_masked(poly_order=poly_order[0], vp_der_ord_max=der_order_max[0])\n",
    "        rg.RegisterICFieldsAtTheGivenSurface(v_ind=0, n_dir=0, face='p', der_order=der_order)\n",
    "        rg.RegisterFieldsAtTheGivenSurface(v_ind=0, n_dir=0, face='p', der_order=der_order)\n",
    "        for i in range(poly_order[0][0]):\n",
    "            bcinds_cc = [0, 1]\n",
    "            cc_equiv = [{'v_ind':0, 'dir':0, 'der':0, 'face':'n'},\n",
    "                        {'v_ind':0, 'dir':0, 'der':1, 'face':'n'}]\n",
    "            rg.AdvanceCornerInVarDir(x)\n",
    "            x_res = rg.ResetRHSUseCCasIC_Leapfrog(bcinds_cc, cc_equiv, n_dir_lf=0)\n",
    "            rg.SetPolyBasisCoeffs(x_res)\n",
    "            rg.RegisterFieldsAtTheGivenSurface(v_ind=0, n_dir=0, face='p', der_order=der_order)\n",
    "            \n",
    "        rg.AdvanceCornerInVarDir(x)\n",
    "        rg.ExtrapolateRegisteredFieldsAndSetPolyBasisCoeffs(poly_order=poly_order[0], n_dir=0, \\\n",
    "                                                            face='p', der_order=der_order)\n",
    "    elif n_dim==2 and BC=='IC':\n",
    "        der_order = [0,0]\n",
    "        rg.GetCellBoundPolyCoeffOnFaceTemp_scaled_masked(poly_order=poly_order[0], vp_der_ord_max=der_order_max[0])\n",
    "        rg.RegisterICFieldsAtTheGivenSurface(v_ind=0, n_dir=0, face='p', der_order=der_order)\n",
    "        rg.RegisterFieldsAtTheGivenSurface(v_ind=0, n_dir=0, face='p', der_order=der_order)\n",
    "        for i in range(poly_order[0][0]):\n",
    "            bcinds_cc = [0, 1]\n",
    "            cc_equiv = [{'v_ind':0, 'dir':0, 'der':0, 'face':'n'},\n",
    "                        {'v_ind':0, 'dir':0, 'der':1, 'face':'n'}]\n",
    "            rg.AdvanceCornerInVarDir(x)\n",
    "            x_res = rg.ResetRHSUseCCasIC_Leapfrog(bcinds_cc, cc_equiv, n_dir_lf=0)\n",
    "            rg.SetPolyBasisCoeffs(x_res)\n",
    "            rg.RegisterFieldsAtTheGivenSurface(v_ind=0, n_dir=0, face='p', der_order=der_order)\n",
    "            \n",
    "        rg.AdvanceCornerInVarDir(x)\n",
    "        rg.ExtrapolateRegisteredFieldsAndSetPolyBasisCoeffs(poly_order=poly_order[0], n_dir=0, \\\n",
    "                                                            face='p', der_order=der_order)\n",
    "        \n",
    "    \n",
    "print(x_res)\n",
    "print('x:', x_res, 'min:', min(np.abs(x_res)), 'max:', max(np.abs(x_res)), sep='\\n')\n"
   ]
  },
  {
   "cell_type": "code",
   "execution_count": 5,
   "metadata": {
    "collapsed": false
   },
   "outputs": [
    {
     "name": "stderr",
     "output_type": "stream",
     "text": [
      "/home/nima/ipython workspace/Electromagnetics/RecGridND.py:5185: ComplexWarning: Casting complex values to real discards the imaginary part\n",
      "  var_vals[i] = self.GetVariableValueAtPointsInsideCell(var_ind, lev, c_ind, [pt_i], printit=printit)[0]\n"
     ]
    }
   ],
   "source": [
    "n_pts_dim = [200]*n_dim\n",
    "gslice=None\n",
    "if n_dim==3:\n",
    "    gslice = [{'dir':0, 'val':0.5}]\n",
    "mesh, var_vals = rg.GetVarValuesOnMesh(0, n_pts_dim, gslice)\n"
   ]
  },
  {
   "cell_type": "code",
   "execution_count": 6,
   "metadata": {
    "collapsed": false
   },
   "outputs": [
    {
     "name": "stdout",
     "output_type": "stream",
     "text": [
      "Populating the interactive namespace from numpy and matplotlib\n",
      "(200,) (200,)\n"
     ]
    },
    {
     "data": {
      "image/png": "[encoded data removed]",
      "text/plain": [
       "<matplotlib.figure.Figure at 0x7fc3f83116a0>"
      ]
     },
     "metadata": {},
     "output_type": "display_data"
    },
    {
     "data": {
      "image/png": "[encoded data removed]",
      "text/plain": [
       "<matplotlib.figure.Figure at 0x7fc3f8271908>"
      ]
     },
     "metadata": {},
     "output_type": "display_data"
    }
   ],
   "source": [
    "%pylab inline\n",
    "\n",
    "figsize(10,8)\n",
    "if n_dim==1:\n",
    "    X, Y = mesh[0]+rg.x0[0], var_vals\n",
    "    print(X.shape, Y.shape)\n",
    "    plot(X, Y)\n",
    "    \n",
    "    Y_0 = lambdify(x, f_exa, 'numpy')(X)\n",
    "    plot(X, Y_0, 'r')\n",
    "    grid()\n",
    "    show()\n",
    "    \n",
    "    Y_err = np.abs(Y_0 - Y)\n",
    "    plot(X, Y_err)\n",
    "    grid()\n",
    "    show()\n",
    "        \n",
    "elif n_dim==2:\n",
    "    X, Y = mesh[0]+rg.x0[0], mesh[1]+rg.x0[1]\n",
    "    Z = var_vals\n",
    "    print('max:', np.max(np.abs(Z)), 'min:', np.min(np.abs(Z)))\n",
    "    #im = imshow(Z, interpolation='bilinear', cmap=cm.rainbow)#, origin='lower', extent=[-3,3,-3,3], vmax=abs(Z).max(), vmin=-abs(Z).max())\n",
    "    im = pcolor(X, Y, Z)\n",
    "    CBI = plt.colorbar(im, orientation='vertical', shrink=1.0)\n",
    "    show()\n",
    "    \n",
    "    Z_anal = lambdify((x,y), f_exa, 'numpy')(X, Y)\n",
    "    Z_err = np.abs(Z-Z_anal)\n",
    "    #im = imshow(Z_err, interpolation='bilinear', cmap=cm.rainbow)\n",
    "    im = pcolor(X, Y, Z_err)\n",
    "    CBI = plt.colorbar(im, orientation='vertical', shrink=1.0)\n",
    "    show()\n",
    "elif n_dim==3:\n",
    "    Z = var_vals\n",
    "    print('max:', np.max(np.abs(Z)), 'min:', np.min(np.abs(Z)))\n",
    "    im = imshow(Z, interpolation='bilinear', cmap=cm.rainbow)#, origin='lower', extent=[-3,3,-3,3], vmax=abs(Z).max(), vmin=-abs(Z).max())\n",
    "    CBI = plt.colorbar(im, orientation='vertical', shrink=1.0)\n",
    "    show()\n",
    "    \n",
    "    X, Y = mesh[0], mesh[1]\n",
    "    Z_anal = np.cos(X)*np.cos(Y)*cos(0.5)\n",
    "    Z_err = np.abs(Z-Z_anal)\n",
    "    im = imshow(Z_err, interpolation='bilinear', cmap=cm.rainbow)\n",
    "    CBI = plt.colorbar(im, orientation='vertical', shrink=1.0)\n",
    "    show()\n",
    "    "
   ]
  },
  {
   "cell_type": "markdown",
   "metadata": {},
   "source": [
    "### GUI"
   ]
  },
  {
   "cell_type": "code",
   "execution_count": 2,
   "metadata": {
    "collapsed": false
   },
   "outputs": [
    {
     "name": "stdout",
     "output_type": "stream",
     "text": [
      "queue started..\n",
      "window started...\n",
      "OnCloseFrame\n"
     ]
    }
   ],
   "source": [
    "%reload_ext autoreload\n",
    "%autoreload\n",
    "\n",
    "import numpy as np\n",
    "\n",
    "from Electromagnetics.RecGridND import *\n",
    "import queue\n",
    "\n",
    "que = queue.Queue()\n",
    "print(\"queue started..\")\n",
    "window = GUIMakerND(W_3D=np.array([2.0, 2.0, 1.0]), que=que)\n",
    "    \n",
    "print('window started...')\n",
    "\n"
   ]
  },
  {
   "cell_type": "code",
   "execution_count": 26,
   "metadata": {
    "collapsed": false
   },
   "outputs": [],
   "source": [
    "window.attachRectGrid(rg)"
   ]
  },
  {
   "cell_type": "code",
   "execution_count": 5,
   "metadata": {
    "collapsed": false
   },
   "outputs": [],
   "source": [
    "cells_unset= [(2, 103), (2, 41), (2, 146), (2, 223), (3, 52), (2, 129), (2, 202), (2, 22), (2, 67), (2, 249), (2, 187), (3, 69), (3, 24), (2, 166), (1, 227), (3, 45), (2, 63), (3, 62), (2, 151), (1, 133), (2, 269), (1, 199), (3, 2), (2, 6), (2, 115), (2, 233), (3, 64), (2, 53), (2, 171), (3, 85), (3, 40), (2, 32), (2, 259), (3, 61), (1, 221), (2, 197), (2, 17), (3, 12), (3, 74), (3, 1), (2, 234), (3, 18), (3, 80), (2, 219), (3, 56), (2, 198), (1, 131), (2, 18), (2, 95), (1, 205), (1, 68), (2, 1), (2, 183), (3, 28), (2, 239), (3, 90), (3, 17), (1, 33), (2, 209), (2, 147), (2, 265), (2, 85), (2, 23), (2, 141), (1, 179), (3, 6), (2, 79), (1, 253), (2, 229), (3, 68), (1, 226), (3, 89), (3, 44), (2, 60), (1, 121), (2, 210), (3, 33), (2, 43), (2, 193), (2, 266), (1, 198), (2, 131), (2, 69), (2, 142), (2, 251), (3, 78), (2, 7), (1, 66), (2, 189), (2, 230), (1, 119), (3, 84), (3, 60), (2, 44), (2, 153), (2, 194), (2, 271), (3, 49), (1, 193), (2, 241), (3, 77), (3, 0), (2, 8), (2, 190), (2, 55), (2, 34), (2, 261), (2, 81), (2, 154), (2, 19), (2, 137), (2, 225), (3, 72), (3, 16), (2, 56), (1, 32), (2, 101), (3, 37), (2, 39), (2, 221), (2, 262), (3, 54), (2, 82), (2, 65), (2, 138), (2, 185), (2, 226), (3, 26), (1, 225), (2, 273), (3, 88), (1, 120), (2, 61), (2, 102), (3, 32), (2, 40), (2, 149), (2, 222), (1, 109), (2, 267), (3, 53), (2, 87), (1, 197), (2, 205), (2, 143), (3, 4), (2, 113), (2, 186), (1, 255), (2, 231), (3, 66), (3, 25), (2, 169), (2, 274), (3, 42), (2, 62), (2, 257), (2, 45), (2, 150), (2, 195), (3, 48), (2, 206), (3, 14), (2, 71), (3, 76), (2, 114), (2, 191), (3, 65), (3, 82), (3, 41), (2, 217), (2, 258), (3, 58), (1, 107), (1, 222), (2, 155), (2, 93), (1, 195), (2, 243), (2, 181), (3, 30), (2, 237), (2, 57), (3, 81), (3, 36), (2, 145), (2, 218), (2, 201), (2, 21), (1, 206), (1, 177), (2, 0), (2, 77), (3, 70), (3, 29), (2, 165), (3, 46), (2, 58)]\n",
    "for c_mark in cells_unset:    \n",
    "    window.MarkRectGridCell(lev=c_mark[0], c_ind=c_mark[1], color=[0.0, 0.0, 1.0])\n",
    "window.MarkRectGridCell(lev=0, c_ind=0, color=[0.0, 1.0, 0.0])"
   ]
  },
  {
   "cell_type": "code",
   "execution_count": 28,
   "metadata": {
    "collapsed": false
   },
   "outputs": [
    {
     "name": "stdout",
     "output_type": "stream",
     "text": [
      "OnCloseFrame\n"
     ]
    }
   ],
   "source": [
    "r0, r1 = np.array([-0.0, -0.0, -0.0]), np.array([0.1, 0.1, 0.3])\n",
    "que.put(['add elem', 'cube', [r0, r1]])"
   ]
  },
  {
   "cell_type": "code",
   "execution_count": 8,
   "metadata": {
    "collapsed": false
   },
   "outputs": [],
   "source": [
    "r0 = np.array([0.0, 0.0, 0.1])\n",
    "r1 = np.array([0.2, 0.0, 0.1])\n",
    "r2 = np.array([0.2, 0.2, 0.1])\n",
    "r3 = np.array([0.0, 0.2, 0.1])\n",
    "\n",
    "que.put(['add elem', 'quad', [r0, r1, r2, r3]])\n"
   ]
  },
  {
   "cell_type": "code",
   "execution_count": 5,
   "metadata": {
    "collapsed": false
   },
   "outputs": [],
   "source": [
    "que.put(['logtext', 'test'])"
   ]
  },
  {
   "cell_type": "code",
   "execution_count": null,
   "metadata": {
    "collapsed": false
   },
   "outputs": [],
   "source": []
  },
  {
   "cell_type": "code",
   "execution_count": 33,
   "metadata": {
    "collapsed": false
   },
   "outputs": [],
   "source": []
  },
  {
   "cell_type": "code",
   "execution_count": null,
   "metadata": {
    "collapsed": false
   },
   "outputs": [],
   "source": []
  }
 ],
 "metadata": {
  "kernelspec": {
   "display_name": "Python 3",
   "language": "python",
   "name": "python3"
  },
  "language_info": {
   "codemirror_mode": {
    "name": "ipython",
    "version": 3
   },
   "file_extension": ".py",
   "mimetype": "text/x-python",
   "name": "python",
   "nbconvert_exporter": "python",
   "pygments_lexer": "ipython3",
   "version": "3.5.2"
  }
 },
 "nbformat": 4,
 "nbformat_minor": 0
}
