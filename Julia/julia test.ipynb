{
 "cells": [
  {
   "cell_type": "code",
   "execution_count": 2,
   "metadata": {
    "collapsed": false
   },
   "outputs": [
    {
     "name": "stdout",
     "output_type": "stream",
     "text": [
      "Hello world!"
     ]
    }
   ],
   "source": [
    "print(\"Hello world!\")"
   ]
  },
  {
   "cell_type": "markdown",
   "metadata": {},
   "source": [
    "### functions"
   ]
  },
  {
   "cell_type": "code",
   "execution_count": 3,
   "metadata": {
    "collapsed": false
   },
   "outputs": [
    {
     "name": "stdout",
     "output_type": "stream",
     "text": [
      "volume = 113.097\n",
      "result 1: 3.0\n",
      "result 2: -2.0\n"
     ]
    }
   ],
   "source": [
    "# function to calculate the volume of a sphere\n",
    "function sphere_vol(r)\n",
    "    # julia allows Unicode names (in UTF-8 encoding)\n",
    "    # so either \"pi\" or the symbol π can be used\n",
    "    return 4/3*pi*r^3\n",
    "end\n",
    "\n",
    "# functions can also be defined more succinctly\n",
    "quadratic(a, sqr_term, b) = (-b + sqr_term) / 2a\n",
    "\n",
    "# calculates x for 0 = a*x^2+b*x+c, arguments types can be defined in function definitions\n",
    "function quadratic2(a::Float64, b::Float64, c::Float64)\n",
    "    # unlike other languages 2a is equivalent to 2*a\n",
    "    # a^2 is used instead of a**2 or pow(a,2)\n",
    "    sqr_term = sqrt(b^2-4a*c)\n",
    "    r1 = quadratic(a, sqr_term, b)\n",
    "    r2 = quadratic(a, -sqr_term, b)\n",
    "    # multiple values can be returned from a function using tuples\n",
    "    # if the return keyword is omitted, the last term is returned\n",
    "    r1, r2\n",
    "end\n",
    "\n",
    "vol = sphere_vol(3)\n",
    "# @printf allows number formatting but does not automatically append the \\n to statements, see below\n",
    "@printf \"volume = %0.3f\\n\" vol \n",
    "#> volume = 113.097\n",
    "\n",
    "quad1, quad2 = quadratic2(2.0, -2.0, -12.0)\n",
    "println(\"result 1: \", quad1)\n",
    "#> result 1: 3.0\n",
    "println(\"result 2: \", quad2)\n",
    "#> result 2: -2.0"
   ]
  },
  {
   "cell_type": "markdown",
   "metadata": {},
   "source": [
    "### Strings"
   ]
  },
  {
   "cell_type": "code",
   "execution_count": 4,
   "metadata": {
    "collapsed": false
   },
   "outputs": [
    {
     "name": "stdout",
     "output_type": "stream",
     "text": [
      "The quick brown fox jumps over the lazy dog α,β,γ\n",
      "this and that.\n",
      "a\n",
      "a ascii value = 97\n",
      "Int('α') == 945\n",
      "false\n",
      "THE QUICK BROWN FOX JUMPS OVER THE LAZY DOG Α,Β,Γ\n",
      "the quick brown fox jumps over the lazy dog α,β,γ\n",
      "'b'\n",
      "\"The quick \"\n",
      "\"dog α,β,γ\"\n",
      "wolcome to julia.\n",
      "1 + 2 = 3\n",
      "this and that\n",
      "this and that\n"
     ]
    }
   ],
   "source": [
    "# strings are defined with double quotes\n",
    "# like variables, strings can contain any unicode character\n",
    "s1 = \"The quick brown fox jumps over the lazy dog α,β,γ\"\n",
    "println(s1)\n",
    "#> The quick brown fox jumps over the lazy dog α,β,γ\n",
    "\n",
    "# println adds a new line to the end of output\n",
    "# print can be used if you dont want that:\n",
    "print(\"this\")\n",
    "#> this\n",
    "print(\" and\")\n",
    "#> and\n",
    "print(\" that.\\n\")\n",
    "#> that.\n",
    "\n",
    "# chars are defined with single quotes\n",
    "c1 = 'a'\n",
    "println(c1)\n",
    "#> a\n",
    "# the ascii value of a char can be found with Int():\n",
    "println(c1, \" ascii value = \", Int(c1))\n",
    "#> a ascii value = 97\n",
    "println(\"Int('α') == \", Int('α'))\n",
    "#> Int('α') == 945\n",
    "\n",
    "# so be aware that\n",
    "println(Int('1') == 1)\n",
    "#> false\n",
    "\n",
    "# strings can be converted to upper case or lower case:\n",
    "s1_caps = uppercase(s1)\n",
    "s1_lower = lowercase(s1)\n",
    "println(s1_caps, \"\\n\", s1_lower)\n",
    "#> THE QUICK BROWN FOX JUMPS OVER THE LAZY DOG Α,Β,Γ\n",
    "#> the quick brown fox jumps over the lazy dog α,β,γ\n",
    "\n",
    "# sub strings can be indexed like arrays:\n",
    "# (show prints the raw value)\n",
    "show(s1[11]); println()\n",
    "#> 'b'\n",
    "\n",
    "# or sub strings can be created:\n",
    "show(s1[1:10]); println()\n",
    "#> \"The quick \"\n",
    "\n",
    "# end is used for the end of the array or string\n",
    "show(s1[end-10:end]); println()\n",
    "#> \"dog α,β,γ\"\n",
    "\n",
    "# julia allows string Interpolation:\n",
    "a = \"wolcome\"\n",
    "b = \"julia\"\n",
    "println(\"$a to $b.\")\n",
    "#> wolcome to julia.\n",
    "\n",
    "# this can extend to evaluate statements:\n",
    "println(\"1 + 2 = $(1 + 2)\")\n",
    "#> 1 + 2 = 3\n",
    "\n",
    "# strings can also be concatenated using the * operator\n",
    "# using * instead of + isn't intuitive when you start with Julia,\n",
    "# however people think it makes more sense\n",
    "s2 = \"this\" * \" and\" * \" that\"\n",
    "println(s2)\n",
    "#> this and that\n",
    "\n",
    "# as well as the string function\n",
    "s3 = string(\"this\", \" and\", \" that\")\n",
    "println(s3)\n",
    "#> this and that"
   ]
  },
  {
   "cell_type": "markdown",
   "metadata": {},
   "source": [
    "### arrays"
   ]
  },
  {
   "cell_type": "code",
   "execution_count": 10,
   "metadata": {
    "collapsed": false
   },
   "outputs": [
    {
     "name": "stdout",
     "output_type": "stream",
     "text": [
      "3-element Array{Int64,1}: [1,2,3]\n",
      "0-element Array{Any,1}: Any[]\n",
      "0-element Array{Int64,1}: Int64[]\n",
      "20-element UnitRange{Int64}: 1:20\n",
      "20-element Array{Int64,1}: [1,2,3,4,5,6,7,8,9,10,11,12,13,14,15,16,17,18,19,20]\n",
      "10-element Array{Int64,1}: [2,4,8,16,32,64,128,256,512,1024]\n",
      "0-element Array{Array{Int64,1},1}: Array{Int64,1}[]\n",
      "4-element Array{Int64,1}: [1,2,3,4]\n",
      "1-element Array{Int64,1}: [1]\n",
      "1-element Array{Array{Int64,1},1}: [[1,2,3]]\n",
      "8-element Array{Int64,1}: [1,1,2,2,3,3,4,4]\n",
      "8-element Array{Int64,1}: [4,3,2,1,4,3,2,1]\n"
     ]
    },
    {
     "name": "stderr",
     "output_type": "stream",
     "text": [
      "WARNING: [a] concatenation is deprecated; use collect(a) instead\n",
      " in depwarn at deprecated.jl:73\n",
      " in oldstyle_vcat_warning at ./abstractarray.jl:29\n",
      " in vect at abstractarray.jl:32\n",
      " in include_string at loading.jl:282\n",
      " in execute_request_0x535c5df2 at /home/nima/.julia/v0.4/IJulia/src/execute_request.jl:183\n",
      " in eventloop at /home/nima/.julia/v0.4/IJulia/src/IJulia.jl:143\n",
      " in anonymous at task.jl:447\n",
      "while loading In[10], in expression starting on line 66\n"
     ]
    }
   ],
   "source": [
    "function printsum(a)\n",
    "    # summary generates a summary of an object\n",
    "    println(summary(a), \": \", repr(a))\n",
    "end\n",
    "\n",
    "# arrays can be initialised directly:\n",
    "a1 = [1,2,3]\n",
    "printsum(a1)\n",
    "#> 3-element Array{Int64,1}: [1,2,3]\n",
    "\n",
    "# or initialised empty:\n",
    "a2 = []\n",
    "printsum(a2)\n",
    "#> 0-element Array{None,1}: None[]\n",
    "\n",
    "# since this array has no type, functions like push! (see below) don't work\n",
    "# instead arrays can be initialised with a type:\n",
    "a3 = Int64[]\n",
    "printsum(a3)\n",
    "#> 0-element Array{Int64,1}: []\n",
    "\n",
    "# ranges are different from arrays:\n",
    "a4 = 1:20\n",
    "printsum(a4)\n",
    "#> 20-element UnitRange{Int64}: 1:20\n",
    "\n",
    "# however they can be used to create arrays thus:\n",
    "a4 = collect(1:20)\n",
    "printsum(a4)\n",
    "#> 20-element Array{Int64,1}: [1,2,3,4,5,6,7,8,9,10,11,12,13,14,15,16,17,18,19,20]\n",
    "\n",
    "# arrays can also be generated from comprehensions:\n",
    "a5 = [2^i for i = 1:10]\n",
    "printsum(a5)\n",
    "#> 10-element Array{Int64,1}: [2,4,8,16,32,64,128,256,512,1024]\n",
    "\n",
    "# arrays can be any type, so arrays of arrays can be created:\n",
    "a6 = (Array{Int64, 1})[]\n",
    "printsum(a6)\n",
    "#> 0-element Array{Array{Int64,1},1}: []\n",
    "# (note this is a \"jagged array\" (i.e., an array of arrays), not a multidimensional array, these are not covered here)\n",
    "\n",
    "# Julia provided a number of \"Dequeue\" functions, the most common for appending to the end of arrays is push!\n",
    "# ! at the end of a function name indicates that the first argument is updated.\n",
    "\n",
    "push!(a1, 4)\n",
    "printsum(a1)\n",
    "#> 4-element Array{Int64,1}: [1,2,3,4]\n",
    "\n",
    "# push!(a2, 1) would cause error:\n",
    "\n",
    "push!(a3, 1)\n",
    "printsum(a3) #> 1-element Array{Int64,1}: [1]\n",
    "#> 1-element Array{Int64,1}: [1]\n",
    "\n",
    "push!(a6, [1,2,3])\n",
    "printsum(a6)\n",
    "#> 1-element Array{Array{Int64,1},1}: [[1,2,3]]\n",
    "\n",
    "# using repeat() to create arrays\n",
    "# you must use the keywords \"inner\" and \"outer\"\n",
    "# all arguments must be arrays (not ranges)\n",
    "a7 = repeat(a1,inner=[2],outer=[1])\n",
    "printsum(a7)\n",
    "#> 8-element Array{Int64,1}: [1,1,2,2,3,3,4,4]\n",
    "a8 = repeat([4:-1:1],inner=[1],outer=[2])\n",
    "printsum(a8)\n",
    "#> 8-element Array{Int64,1}: [4,3,2,1,4,3,2,1]"
   ]
  },
  {
   "cell_type": "markdown",
   "metadata": {},
   "source": [
    "### plots"
   ]
  },
  {
   "cell_type": "code",
   "execution_count": 5,
   "metadata": {
    "collapsed": false
   },
   "outputs": [
    {
     "data": {
      "image/png": "[encoded data removed]",
      "text/plain": [
       "PyPlot.Figure(PyObject <matplotlib.figure.Figure object at 0x7efff3f9af10>)"
      ]
     },
     "metadata": {},
     "output_type": "display_data"
    },
    {
     "data": {
      "text/plain": [
       "PyObject <matplotlib.collections.PathCollection object at 0x7efff1c04410>"
      ]
     },
     "execution_count": 5,
     "metadata": {},
     "output_type": "execute_result"
    }
   ],
   "source": [
    "using PyPlot\n",
    "\n",
    "n = 50\n",
    "srand(1)\n",
    "x = rand(n)\n",
    "y = rand(n)\n",
    "area = pi .* (15 .* rand(n)).^2 # 0 to 15 point radiuses\n",
    "scatter(x, y, s=area, alpha=0.5)"
   ]
  },
  {
   "cell_type": "code",
   "execution_count": 9,
   "metadata": {
    "collapsed": false
   },
   "outputs": [
    {
     "name": "stdout",
     "output_type": "stream",
     "text": [
      "[0.3714904399932142 0.11459727224260452\n",
      " 0.10369066522262793 0.28951858291491916]\n",
      "[0.7447353030164021 0.6183223793578425\n",
      " 0.15755639598925963 0.5727890180392909]\n",
      "[0.2766620453960429 0.07085805804096566\n",
      " 0.01633712751020612 0.16583306481196358]\n"
     ]
    }
   ],
   "source": [
    "a = rand(2, 2)\n",
    "b = rand(2, 2)\n",
    "c = a.*b\n",
    "println(a)\n",
    "println(b)\n",
    "println(c)"
   ]
  },
  {
   "cell_type": "code",
   "execution_count": 6,
   "metadata": {
    "collapsed": false
   },
   "outputs": [
    {
     "data": {
      "text/plain": [
       "Discrete Markov Chain\n",
       "stochastic matrix of type Array{Float64,2}:\n",
       "4x4 Array{Float64,2}:\n",
       " 0.945853     0.0541468    2.92863e-10  0.0        \n",
       " 0.00580845   0.974718     0.0194737    1.43534e-11\n",
       " 1.43534e-11  0.0194737    0.974718     0.00580845 \n",
       " 2.08117e-27  2.92863e-10  0.0541468    0.945853   "
      ]
     },
     "execution_count": 6,
     "metadata": {},
     "output_type": "execute_result"
    }
   ],
   "source": [
    "using QuantEcon: tauchen\n",
    "\n",
    "tauchen(4, 0.9, 1)"
   ]
  },
  {
   "cell_type": "markdown",
   "metadata": {},
   "source": [
    "### Parallel"
   ]
  },
  {
   "cell_type": "code",
   "execution_count": 10,
   "metadata": {
    "collapsed": false
   },
   "outputs": [
    {
     "data": {
      "text/plain": [
       "510"
      ]
     },
     "execution_count": 10,
     "metadata": {},
     "output_type": "execute_result"
    }
   ],
   "source": [
    "addprocs(7)\n",
    "\n",
    "nheads = @parallel (+) for i=1:1000\n",
    "    Int(rand(Bool))\n",
    "end\n"
   ]
  },
  {
   "cell_type": "code",
   "execution_count": 7,
   "metadata": {
    "collapsed": false
   },
   "outputs": [
    {
     "data": {
      "text/plain": [
       "8-element Array{Int64,1}:\n",
       " 1\n",
       " 2\n",
       " 3\n",
       " 4\n",
       " 5\n",
       " 6\n",
       " 7\n",
       " 8"
      ]
     },
     "execution_count": 7,
     "metadata": {},
     "output_type": "execute_result"
    }
   ],
   "source": [
    "procs()"
   ]
  },
  {
   "cell_type": "code",
   "execution_count": 8,
   "metadata": {
    "collapsed": false
   },
   "outputs": [
    {
     "name": "stderr",
     "output_type": "stream",
     "text": [
      "WARNING: rmprocs: process 1 not removed\n"
     ]
    },
    {
     "data": {
      "text/plain": [
       ":ok"
      ]
     },
     "execution_count": 8,
     "metadata": {},
     "output_type": "execute_result"
    }
   ],
   "source": [
    "rmprocs(1:8)"
   ]
  },
  {
   "cell_type": "code",
   "execution_count": null,
   "metadata": {
    "collapsed": true
   },
   "outputs": [],
   "source": []
  }
 ],
 "metadata": {
  "kernelspec": {
   "display_name": "Julia 0.4.6",
   "language": "julia",
   "name": "julia-0.4"
  },
  "language_info": {
   "file_extension": ".jl",
   "mimetype": "application/julia",
   "name": "julia",
   "version": "0.4.6"
  }
 },
 "nbformat": 4,
 "nbformat_minor": 0
}
