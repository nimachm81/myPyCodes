{
 "cells": [
  {
   "cell_type": "code",
   "execution_count": 1,
   "metadata": {
    "collapsed": false
   },
   "outputs": [
    {
     "name": "stdout",
     "output_type": "stream",
     "text": [
      "{'eps_r_iso': 1.5, 'w_iso': 1000000000.0, 'phi': 0.0, 'n_points': 1000, 'eps_r_e': 2.0, 'eps_r_o': 3.0, 'pol': [1.0, 1.0], 'y_lim': [-1.0, 1.0]}\n",
      "{'theta': 1.5707963267948966, 'eps_r_iso': 1.5, 'w_iso': 1000000000.0, 'n_points': 1000, 'eps_r_e': 2.0, 'eps_r_o': 3.0, 'pol': [1.0, 1.0, 0.0], 'y_lim': [-1.0, 1.0]}\n"
     ]
    }
   ],
   "source": [
    "import numpy as np\n",
    "import os\n",
    "\n",
    "from Electromagnetics.Misc import TextInputParameterReader\n",
    "\n",
    "file_params = os.path.join('other', 'params.txt')\n",
    "\n",
    "param_reader = TextInputParameterReader(file_params)\n",
    "    \n",
    "\n",
    "def get_theta_sweep_params():\n",
    "    run_theta_sweep = param_reader.find_param(param_reader.file_data, '$run_theta_sweep')  \n",
    "    if run_theta_sweep!=None and run_theta_sweep[0]=='yes':\n",
    "        block = param_reader.find_block(param_reader.file_data, '$run_theta_sweep_block')\n",
    "        phi = param_reader.liststr_to_floats(param_reader.find_param(block, '$phi'))[0]*np.pi/180.0\n",
    "        w_iso = param_reader.liststr_to_floats(param_reader.find_param(block, '$w_iso'))[0]\n",
    "        eps_r_iso = param_reader.liststr_to_floats(param_reader.find_param(block, '$eps_r_iso'))[0]\n",
    "        eps_r_o = param_reader.liststr_to_floats(param_reader.find_param(block, '$eps_r_o'))[0]\n",
    "        eps_r_e = param_reader.liststr_to_floats(param_reader.find_param(block, '$eps_r_e'))[0]\n",
    "        pol = param_reader.liststr_to_floats(param_reader.find_param(block, '$pol'))\n",
    "        n_points = int(param_reader.liststr_to_floats(param_reader.find_param(block, '$n_points'))[0])\n",
    "        y_lim = param_reader.liststr_to_floats(param_reader.find_param(block, '$y_lim'))\n",
    "        return {'phi':phi, 'w_iso':w_iso, 'eps_r_iso':eps_r_iso, 'eps_r_o':eps_r_o,\\\n",
    "                'eps_r_e':eps_r_e, 'pol':pol, 'n_points':n_points, 'y_lim':y_lim}\n",
    "    else:\n",
    "        return None\n",
    "\n",
    "def get_phi_sweep_params():\n",
    "    run_phi_sweep = param_reader.find_param(param_reader.file_data, '$run_phi_sweep')  \n",
    "    if run_phi_sweep!=None and run_phi_sweep[0]=='yes':\n",
    "        block = param_reader.find_block(param_reader.file_data, '$run_phi_sweep_block')\n",
    "        theta = param_reader.liststr_to_floats(param_reader.find_param(block, '$theta'))[0]*np.pi/180.0\n",
    "        w_iso = param_reader.liststr_to_floats(param_reader.find_param(block, '$w_iso'))[0]\n",
    "        eps_r_iso = param_reader.liststr_to_floats(param_reader.find_param(block, '$eps_r_iso'))[0]\n",
    "        eps_r_o = param_reader.liststr_to_floats(param_reader.find_param(block, '$eps_r_o'))[0]\n",
    "        eps_r_e = param_reader.liststr_to_floats(param_reader.find_param(block, '$eps_r_e'))[0]\n",
    "        pol = param_reader.liststr_to_floats(param_reader.find_param(block, '$pol'))\n",
    "        n_points = int(param_reader.liststr_to_floats(param_reader.find_param(block, '$n_points'))[0])\n",
    "        y_lim = param_reader.liststr_to_floats(param_reader.find_param(block, '$y_lim'))\n",
    "        return {'theta':theta, 'w_iso':w_iso, 'eps_r_iso':eps_r_iso, 'eps_r_o':eps_r_o,\\\n",
    "                'eps_r_e':eps_r_e, 'pol':pol, 'n_points':n_points, 'y_lim':y_lim}\n",
    "    else:\n",
    "        return None\n",
    "\n",
    "print(get_theta_sweep_params())\n",
    "print(get_phi_sweep_params())\n"
   ]
  },
  {
   "cell_type": "code",
   "execution_count": null,
   "metadata": {
    "collapsed": true
   },
   "outputs": [],
   "source": []
  }
 ],
 "metadata": {
  "kernelspec": {
   "display_name": "Python 3",
   "language": "python",
   "name": "python3"
  },
  "language_info": {
   "codemirror_mode": {
    "name": "ipython",
    "version": 3
   },
   "file_extension": ".py",
   "mimetype": "text/x-python",
   "name": "python",
   "nbconvert_exporter": "python",
   "pygments_lexer": "ipython3",
   "version": "3.5.2"
  }
 },
 "nbformat": 4,
 "nbformat_minor": 1
}
