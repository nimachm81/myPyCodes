{
 "metadata": {
  "name": ""
 },
 "nbformat": 3,
 "nbformat_minor": 0,
 "worksheets": [
  {
   "cells": [
    {
     "cell_type": "code",
     "collapsed": false,
     "input": [
      "%reload_ext autoreload\n",
      "%autoreload 2\n",
      "\n",
      "import numpy as np \n",
      "from Electromagnetics.graphene import *\n",
      "from scipy import constants\n",
      "\n",
      "from Electromagnetics.MaxwellEigState2D import *\n",
      "from Electromagnetics.Misc import *\n",
      "import math\n",
      "\n",
      "del_graph = 50.0*constants.nano\n",
      "width_graph = 20.0*constants.micro\n",
      "W_x = 6.0*width_graph\n",
      "W_y = 4.0*width_graph\n",
      "\n",
      "\n",
      "fs_name = 'freespace'\n",
      "fs_rect = [Point2D(0.0, 0.0), Point2D(W_x, W_y)]\n",
      "fs_type = 'all_scalar'\n",
      "def fs_eps(f):\n",
      "    return constants.epsilon_0\n",
      "def fs_mu(f):\n",
      "    return constants.mu_0\n",
      "def fs_sig(f):\n",
      "    return 0.0\n",
      "fs_params = [fs_eps, fs_mu, fs_sig]\n",
      "fs_mat = [fs_name, fs_rect, fs_type, fs_params]\n",
      "\n",
      "\n",
      "P00 = Point2D(W_x/2.0-width_graph/2.0, W_y/2.0-del_graph/2.0)\n",
      "P11 = Point2D(W_x/2.0+width_graph/2.0, W_y/2.0+del_graph/2.0)\n",
      "graph_name = 'graphene'\n",
      "graph_rect = [P00, P11]\n",
      "graph_type = 'all_scalar'\n",
      "def graph_eps(f):\n",
      "    return constants.epsilon_0\n",
      "def graph_mu(f):\n",
      "    return constants.mu_0\n",
      "\n",
      "mu_c = 0.3*constants.eV\n",
      "B_0 = 0.0\n",
      "tau = 0.2*constants.pico\n",
      "T = 300.0\n",
      "def graph_sig(f):\n",
      "    omega_0 = 2.0*math.pi*f\n",
      "    sigma_d, sigma_o = condKuboLorentzian(mu_c, B_0, tau, np.array([omega_0]), T)\n",
      "    return sigma_d[0]/del_graph\n",
      "graph_params = [graph_eps, graph_mu, graph_sig]\n",
      "graph_mat = [graph_name, graph_rect, graph_type, graph_params]\n",
      "\n",
      "\n",
      "w_edge_mode = 5.0*constants.micro\n",
      "P00 = Point2D(W_x/2.0-width_graph/2.0-w_edge_mode, W_y/2.0-w_edge_mode)\n",
      "P11 = Point2D(W_x/2.0-width_graph/2.0+w_edge_mode, W_y/2.0+w_edge_mode)\n",
      "rect_edge_l = [P00, P11]\n",
      "P00 = Point2D(W_x/2.0+width_graph/2.0-w_edge_mode, W_y/2.0-w_edge_mode)\n",
      "P11 = Point2D(W_x/2.0+width_graph/2.0+w_edge_mode, W_y/2.0+w_edge_mode)\n",
      "rect_edge_r = [P00, P11]\n",
      "w_bulk_mode = 10.0*constants.micro\n",
      "P00 = Point2D(W_x/2.0-width_graph/2.0-w_bulk_mode, W_y/2.0-w_bulk_mode)\n",
      "P11 = Point2D(W_x/2.0+width_graph/2.0+w_bulk_mode, W_y/2.0+w_bulk_mode)\n",
      "rect_bulk = [P00, P11]\n",
      "mesh_params = [[rect_bulk, 3], [rect_edge_l, 2], [rect_edge_r, 2]] \n",
      "\n",
      "\n",
      "maxwell2Dsolver = MaxEigState2DSolver([fs_mat, graph_mat], mesh_params, vb=True)\n"
     ],
     "language": "python",
     "metadata": {},
     "outputs": [
      {
       "output_type": "stream",
       "stream": "stdout",
       "text": [
        "possible material types :  dict_keys(['sigma_tensor', 'all_scalar'])\n",
        "material name:  freespace    type : all_scalar\n",
        "material name:  graphene    type : all_scalar\n",
        "-------------------- all scalar material --------------------\n"
       ]
      },
      {
       "latex": [
        "$$\\left[\\begin{matrix}i H_{{x}} \\mu \\omega - \\frac{d}{d z} E_{{y}} + \\frac{d}{d y} E_{{z}} & i H_{{y}} \\mu \\omega + \\frac{d}{d z} E_{{x}} - \\frac{d}{d x} E_{{z}} & i H_{{z}} \\mu \\omega - \\frac{d}{d y} E_{{x}} + \\frac{d}{d x} E_{{y}}\\end{matrix}\\right]$$"
       ],
       "metadata": {},
       "output_type": "display_data",
       "text": [
        "<IPython.core.display.Math at 0x7f06548dc0f0>"
       ]
      },
      {
       "latex": [
        "$$\\left[\\begin{matrix}- E_{{x}} \\left(i \\epsilon \\omega + \\sigma\\right) - \\frac{d}{d z} H_{{y}} + \\frac{d}{d y} H_{{z}} & - E_{{y}} \\left(i \\epsilon \\omega + \\sigma\\right) + \\frac{d}{d z} H_{{x}} - \\frac{d}{d x} H_{{z}} & - E_{{z}} \\left(i \\epsilon \\omega + \\sigma\\right) - \\frac{d}{d y} H_{{x}} + \\frac{d}{d x} H_{{y}}\\end{matrix}\\right]$$"
       ],
       "metadata": {},
       "output_type": "display_data",
       "text": [
        "<IPython.core.display.Math at 0x7f06548dc0f0>"
       ]
      },
      {
       "latex": [
        "$$\\left[\\begin{matrix}i \\mu \\omega \\operatorname{H_{{x}}}{\\left (x,y \\right )} e^{- i k z} - \\frac{\\partial}{\\partial z}\\left(\\operatorname{E_{{y}}}{\\left (x,y \\right )} e^{- i k z}\\right) + \\frac{\\partial}{\\partial y}\\left(\\operatorname{E_{{z}}}{\\left (x,y \\right )} e^{- i k z}\\right) & i \\mu \\omega \\operatorname{H_{{y}}}{\\left (x,y \\right )} e^{- i k z} + \\frac{\\partial}{\\partial z}\\left(\\operatorname{E_{{x}}}{\\left (x,y \\right )} e^{- i k z}\\right) - \\frac{\\partial}{\\partial x}\\left(\\operatorname{E_{{z}}}{\\left (x,y \\right )} e^{- i k z}\\right) & i \\mu \\omega \\operatorname{H_{{z}}}{\\left (x,y \\right )} e^{- i k z} - \\frac{\\partial}{\\partial y}\\left(\\operatorname{E_{{x}}}{\\left (x,y \\right )} e^{- i k z}\\right) + \\frac{\\partial}{\\partial x}\\left(\\operatorname{E_{{y}}}{\\left (x,y \\right )} e^{- i k z}\\right)\\end{matrix}\\right]$$"
       ],
       "metadata": {},
       "output_type": "display_data",
       "text": [
        "<IPython.core.display.Math at 0x7f061b2532b0>"
       ]
      },
      {
       "latex": [
        "$$\\left[\\begin{matrix}- \\left(i \\epsilon \\omega + \\sigma\\right) \\operatorname{E_{{x}}}{\\left (x,y \\right )} e^{- i k z} - \\frac{\\partial}{\\partial z}\\left(\\operatorname{H_{{y}}}{\\left (x,y \\right )} e^{- i k z}\\right) + \\frac{\\partial}{\\partial y}\\left(\\operatorname{H_{{z}}}{\\left (x,y \\right )} e^{- i k z}\\right) & - \\left(i \\epsilon \\omega + \\sigma\\right) \\operatorname{E_{{y}}}{\\left (x,y \\right )} e^{- i k z} + \\frac{\\partial}{\\partial z}\\left(\\operatorname{H_{{x}}}{\\left (x,y \\right )} e^{- i k z}\\right) - \\frac{\\partial}{\\partial x}\\left(\\operatorname{H_{{z}}}{\\left (x,y \\right )} e^{- i k z}\\right) & - \\left(i \\epsilon \\omega + \\sigma\\right) \\operatorname{E_{{z}}}{\\left (x,y \\right )} e^{- i k z} - \\frac{\\partial}{\\partial y}\\left(\\operatorname{H_{{x}}}{\\left (x,y \\right )} e^{- i k z}\\right) + \\frac{\\partial}{\\partial x}\\left(\\operatorname{H_{{y}}}{\\left (x,y \\right )} e^{- i k z}\\right)\\end{matrix}\\right]$$"
       ],
       "metadata": {},
       "output_type": "display_data",
       "text": [
        "<IPython.core.display.Math at 0x7f061b2532b0>"
       ]
      },
      {
       "latex": [
        "$$MF = \\left[\\begin{matrix}i \\mu \\omega \\operatorname{H_{{x}}}{\\left (x,y \\right )} + i k \\operatorname{E_{{y}}}{\\left (x,y \\right )} + \\frac{\\partial}{\\partial y} \\operatorname{E_{{z}}}{\\left (x,y \\right )}\\\\i \\mu \\omega \\operatorname{H_{{y}}}{\\left (x,y \\right )} - i k \\operatorname{E_{{x}}}{\\left (x,y \\right )} - \\frac{\\partial}{\\partial x} \\operatorname{E_{{z}}}{\\left (x,y \\right )}\\\\i \\mu \\omega \\operatorname{H_{{z}}}{\\left (x,y \\right )} - \\frac{\\partial}{\\partial y} \\operatorname{E_{{x}}}{\\left (x,y \\right )} + \\frac{\\partial}{\\partial x} \\operatorname{E_{{y}}}{\\left (x,y \\right )}\\end{matrix}\\right]$$"
       ],
       "metadata": {},
       "output_type": "display_data",
       "text": [
        "<IPython.core.display.Math at 0x7f061a234630>"
       ]
      },
      {
       "latex": [
        "$$MA = \\left[\\begin{matrix}i k \\operatorname{H_{{y}}}{\\left (x,y \\right )} - \\left(i \\epsilon \\omega + \\sigma\\right) \\operatorname{E_{{x}}}{\\left (x,y \\right )} + \\frac{\\partial}{\\partial y} \\operatorname{H_{{z}}}{\\left (x,y \\right )}\\\\- i k \\operatorname{H_{{x}}}{\\left (x,y \\right )} - \\left(i \\epsilon \\omega + \\sigma\\right) \\operatorname{E_{{y}}}{\\left (x,y \\right )} - \\frac{\\partial}{\\partial x} \\operatorname{H_{{z}}}{\\left (x,y \\right )}\\\\- \\left(i \\epsilon \\omega + \\sigma\\right) \\operatorname{E_{{z}}}{\\left (x,y \\right )} - \\frac{\\partial}{\\partial y} \\operatorname{H_{{x}}}{\\left (x,y \\right )} + \\frac{\\partial}{\\partial x} \\operatorname{H_{{y}}}{\\left (x,y \\right )}\\end{matrix}\\right]$$"
       ],
       "metadata": {},
       "output_type": "display_data",
       "text": [
        "<IPython.core.display.Math at 0x7f061a234630>"
       ]
      },
      {
       "latex": [
        "$$MF = \\left[\\begin{matrix}i E_{{y}} k + i H_{{x}} \\mu \\omega + \\frac{d}{d y} E_{{z}}\\\\- i E_{{x}} k + i H_{{y}} \\mu \\omega - \\frac{d}{d x} E_{{z}}\\\\i H_{{z}} \\mu \\omega - \\frac{d}{d y} E_{{x}} + \\frac{d}{d x} E_{{y}}\\end{matrix}\\right]$$"
       ],
       "metadata": {},
       "output_type": "display_data",
       "text": [
        "<IPython.core.display.Math at 0x7f061a3a6f28>"
       ]
      },
      {
       "latex": [
        "$$MA = \\left[\\begin{matrix}- E_{{x}} \\left(i \\epsilon \\omega + \\sigma\\right) + i H_{{y}} k + \\frac{d}{d y} H_{{z}}\\\\- E_{{y}} \\left(i \\epsilon \\omega + \\sigma\\right) - i H_{{x}} k - \\frac{d}{d x} H_{{z}}\\\\- E_{{z}} \\left(i \\epsilon \\omega + \\sigma\\right) - \\frac{d}{d y} H_{{x}} + \\frac{d}{d x} H_{{y}}\\end{matrix}\\right]$$"
       ],
       "metadata": {},
       "output_type": "display_data",
       "text": [
        "<IPython.core.display.Math at 0x7f061a3a6f28>"
       ]
      },
      {
       "output_type": "stream",
       "stream": "stdout",
       "text": [
        "normalizing to k_0\n"
       ]
      },
      {
       "latex": [
        "$$MF = \\left[\\begin{matrix}\\frac{1}{k_{0}} \\left(- E_{{y}} k - H_{{x}} \\mu \\omega + i \\frac{d}{d y} E_{{z}}\\right)\\\\\\frac{1}{k_{0}} \\left(- E_{{x}} k + H_{{y}} \\mu \\omega + i \\frac{d}{d x} E_{{z}}\\right)\\\\i H_{{z}} \\mu \\omega - \\frac{d}{d y} E_{{x}} + \\frac{d}{d x} E_{{y}}\\end{matrix}\\right]$$"
       ],
       "metadata": {},
       "output_type": "display_data",
       "text": [
        "<IPython.core.display.Math at 0x7f061a3a6198>"
       ]
      },
      {
       "latex": [
        "$$MA = \\left[\\begin{matrix}\\frac{i}{k_{0}} \\left(- E_{{x}} \\left(i \\epsilon \\omega + \\sigma\\right) + i H_{{y}} k + \\frac{d}{d y} H_{{z}}\\right)\\\\\\frac{i}{k_{0}} \\left(E_{{y}} \\left(i \\epsilon \\omega + \\sigma\\right) + i H_{{x}} k + \\frac{d}{d x} H_{{z}}\\right)\\\\- E_{{z}} \\left(i \\epsilon \\omega + \\sigma\\right) - \\frac{d}{d y} H_{{x}} + \\frac{d}{d x} H_{{y}}\\end{matrix}\\right]$$"
       ],
       "metadata": {},
       "output_type": "display_data",
       "text": [
        "<IPython.core.display.Math at 0x7f061a3a6198>"
       ]
      },
      {
       "latex": [
        "$$MF = \\left[\\begin{matrix}\\frac{1}{k_{0}} \\left(- H_{{x}} \\mu \\omega + i \\frac{d}{d y} E_{{z}}\\right)\\\\\\frac{1}{k_{0}} \\left(H_{{y}} \\mu \\omega + i \\frac{d}{d x} E_{{z}}\\right)\\\\i H_{{z}} \\mu \\omega - \\frac{d}{d y} E_{{x}} + \\frac{d}{d x} E_{{y}}\\end{matrix}\\right]$$"
       ],
       "metadata": {},
       "output_type": "display_data",
       "text": [
        "<IPython.core.display.Math at 0x7f061a234630>"
       ]
      },
      {
       "latex": [
        "$$MA = \\left[\\begin{matrix}\\frac{i}{k_{0}} \\left(- E_{{x}} \\left(i \\epsilon \\omega + \\sigma\\right) + \\frac{d}{d y} H_{{z}}\\right)\\\\\\frac{i}{k_{0}} \\left(E_{{y}} \\left(i \\epsilon \\omega + \\sigma\\right) + \\frac{d}{d x} H_{{z}}\\right)\\\\- E_{{z}} \\left(i \\epsilon \\omega + \\sigma\\right) - \\frac{d}{d y} H_{{x}} + \\frac{d}{d x} H_{{y}}\\end{matrix}\\right]$$"
       ],
       "metadata": {},
       "output_type": "display_data",
       "text": [
        "<IPython.core.display.Math at 0x7f061a234630>"
       ]
      },
      {
       "output_type": "stream",
       "stream": "stdout",
       "text": [
        "scalar epsilon mu sigma equations: \n"
       ]
      },
      {
       "latex": [
        "$$Eqs = \\left[\\begin{matrix}\\frac{1}{k_{0}} \\left(H_{{y}} \\mu \\omega + i \\frac{d}{d x} E_{{z}}\\right)\\\\\\frac{1}{k_{0}} \\left(- H_{{x}} \\mu \\omega + i \\frac{d}{d y} E_{{z}}\\right)\\\\\\frac{i}{k_{0}} \\left(E_{{y}} \\left(i \\epsilon \\omega + \\sigma\\right) + \\frac{d}{d x} H_{{z}}\\right)\\\\\\frac{i}{k_{0}} \\left(- E_{{x}} \\left(i \\epsilon \\omega + \\sigma\\right) + \\frac{d}{d y} H_{{z}}\\right)\\\\- E_{{z}} \\left(i \\epsilon \\omega + \\sigma\\right) - \\frac{d}{d y} H_{{x}} + \\frac{d}{d x} H_{{y}}\\\\i H_{{z}} \\mu \\omega - \\frac{d}{d y} E_{{x}} + \\frac{d}{d x} E_{{y}}\\end{matrix}\\right]$$"
       ],
       "metadata": {},
       "output_type": "display_data",
       "text": [
        "<IPython.core.display.Math at 0x7f061a234630>"
       ]
      },
      {
       "latex": [
        "$$Vars = \\left[\\begin{matrix}E_{{x}}\\\\E_{{y}}\\\\H_{{x}}\\\\H_{{y}}\\\\E_{{z}}\\\\H_{{z}}\\end{matrix}\\right]$$"
       ],
       "metadata": {},
       "output_type": "display_data",
       "text": [
        "<IPython.core.display.Math at 0x7f061a234630>"
       ]
      },
      {
       "output_type": "stream",
       "stream": "stdout",
       "text": [
        "disintegrating equations\n"
       ]
      },
      {
       "latex": [
        "$$Eqs_b[0] = \\left[\\begin{matrix}\\frac{H_{{y}} \\mu}{k_{0}} \\omega & \\frac{i}{k_{0}} \\frac{d}{d x} E_{{z}}\\end{matrix}\\right]$$"
       ],
       "metadata": {},
       "output_type": "display_data",
       "text": [
        "<IPython.core.display.Math at 0x7f061a21a978>"
       ]
      },
      {
       "latex": [
        "$$Eqs_b[1] = \\left[\\begin{matrix}- \\frac{H_{{x}} \\mu}{k_{0}} \\omega & \\frac{i}{k_{0}} \\frac{d}{d y} E_{{z}}\\end{matrix}\\right]$$"
       ],
       "metadata": {},
       "output_type": "display_data",
       "text": [
        "<IPython.core.display.Math at 0x7f061a21ac18>"
       ]
      },
      {
       "latex": [
        "$$Eqs_b[2] = \\left[\\begin{matrix}\\frac{E_{{y}}}{k_{0}} \\left(- \\epsilon \\omega + i \\sigma\\right) & \\frac{i}{k_{0}} \\frac{d}{d x} H_{{z}}\\end{matrix}\\right]$$"
       ],
       "metadata": {},
       "output_type": "display_data",
       "text": [
        "<IPython.core.display.Math at 0x7f061a21a978>"
       ]
      },
      {
       "latex": [
        "$$Eqs_b[3] = \\left[\\begin{matrix}\\frac{E_{{x}}}{k_{0}} \\left(\\epsilon \\omega - i \\sigma\\right) & \\frac{i}{k_{0}} \\frac{d}{d y} H_{{z}}\\end{matrix}\\right]$$"
       ],
       "metadata": {},
       "output_type": "display_data",
       "text": [
        "<IPython.core.display.Math at 0x7f061a21ac18>"
       ]
      },
      {
       "latex": [
        "$$Eqs_b[4] = \\left[\\begin{matrix}- E_{{z}} \\left(i \\epsilon \\omega + \\sigma\\right) & - \\frac{d}{d y} H_{{x}} & \\frac{d}{d x} H_{{y}}\\end{matrix}\\right]$$"
       ],
       "metadata": {},
       "output_type": "display_data",
       "text": [
        "<IPython.core.display.Math at 0x7f061a39ec50>"
       ]
      },
      {
       "latex": [
        "$$Eqs_b[5] = \\left[\\begin{matrix}i H_{{z}} \\mu \\omega & - \\frac{d}{d y} E_{{x}} & \\frac{d}{d x} E_{{y}}\\end{matrix}\\right]$$"
       ],
       "metadata": {},
       "output_type": "display_data",
       "text": [
        "<IPython.core.display.Math at 0x7f061a39eb38>"
       ]
      },
      {
       "output_type": "stream",
       "stream": "stdout",
       "text": [
        "refining mesh\n",
        "Number of cells to refine:  15\n",
        "Number of cells to refine:  58\n",
        "Number of cells to refine:  226\n",
        "Number of cells to refine:  108\n",
        "Number of cells to refine: "
       ]
      },
      {
       "output_type": "stream",
       "stream": "stdout",
       "text": [
        " 402\n",
        "Number of cells to refine:  108\n",
        "Number of cells to refine: "
       ]
      },
      {
       "output_type": "stream",
       "stream": "stdout",
       "text": [
        " 396\n",
        "refining materials\n",
        "cecking nodes inside"
       ]
      },
      {
       "output_type": "stream",
       "stream": "stdout",
       "text": [
        "\n",
        "Number of cells to refine:  76\n",
        "cecking nodes inside\n",
        "Number of cells to refine:  156\n",
        "cecking nodes inside"
       ]
      },
      {
       "output_type": "stream",
       "stream": "stdout",
       "text": [
        "\n",
        "Number of cells to refine:  308\n",
        "cecking nodes inside"
       ]
      },
      {
       "output_type": "stream",
       "stream": "stdout",
       "text": [
        "\n",
        "Number of cells to refine:  612\n",
        "cecking nodes inside"
       ]
      },
      {
       "output_type": "stream",
       "stream": "stdout",
       "text": [
        "\n",
        "Number of cells to refine:  276\n",
        "cecking nodes inside"
       ]
      },
      {
       "output_type": "stream",
       "stream": "stdout",
       "text": [
        "\n",
        "Number of cells to refine:  388\n",
        "cecking nodes inside"
       ]
      },
      {
       "output_type": "stream",
       "stream": "stdout",
       "text": [
        "\n",
        "refining border of graphene\n",
        "Number of cells to refine: "
       ]
      },
      {
       "output_type": "stream",
       "stream": "stdout",
       "text": [
        " 3700\n",
        "Number of cells to refine: "
       ]
      },
      {
       "output_type": "stream",
       "stream": "stdout",
       "text": [
        " 5656\n",
        "Number of cells to refine: "
       ]
      },
      {
       "output_type": "stream",
       "stream": "stdout",
       "text": [
        " 11320\n",
        "n_cells : "
       ]
      },
      {
       "output_type": "stream",
       "stream": "stdout",
       "text": [
        " 71536  n_sides:  157399  n_nodes:  85864\n"
       ]
      }
     ],
     "prompt_number": 2
    },
    {
     "cell_type": "code",
     "collapsed": false,
     "input": [
      "freq_0 = 7.0*constants.tera\n",
      "freq_1 = 1.0*constants.tera\n",
      "\n",
      "freq = freq_0  #3.05*constants.tera\n",
      "\n",
      "from Electromagnetics.graphene import *\n",
      "\n",
      "omega_0 = 2.0*math.pi*freq\n",
      "kz_k0_inf = magnetoplasmonDispersion_normalized(mu_c, B_0, np.array([omega_0]), tau, T, cond='Kubo')\n",
      "\n",
      "n_modes = 5\n",
      "lambda_0 = kz_k0_inf[0][0] + 5.0\n",
      "k_eigs, k_vecs = maxwell2Dsolver.Solve(freq, n_modes, lambda_0, firstPass=True)\n",
      "\n",
      "print(k_eigs)\n",
      "print(k_vecs.shape)\n",
      "\n",
      "print('infinite magnetoplasmon dispersion graphene: \\n', kz_k0_inf)\n"
     ],
     "language": "python",
     "metadata": {},
     "outputs": [
      {
       "latex": [
        "$$Eqs_\\text{ freespace } = \\left[\\begin{matrix}376.730313461771 H_{{y}} + 6.81620737033849 \\cdot 10^{-6} i \\frac{d}{d x} E_{{z}}\\\\- 376.730313461771 H_{{x}} + 6.81620737033849 \\cdot 10^{-6} i \\frac{d}{d y} E_{{z}}\\\\- 0.00265441872943807 E_{{y}} + 6.81620737033849 \\cdot 10^{-6} i \\frac{d}{d x} H_{{z}}\\\\0.00265441872943807 E_{{x}} + 6.81620737033849 \\cdot 10^{-6} i \\frac{d}{d y} H_{{z}}\\\\- 389.427519618766 i E_{{z}} - \\frac{d}{d y} H_{{x}} + \\frac{d}{d x} H_{{y}}\\\\55269784.6461004 i H_{{z}} - \\frac{d}{d y} E_{{x}} + \\frac{d}{d x} E_{{y}}\\end{matrix}\\right]$$"
       ],
       "metadata": {},
       "output_type": "display_data",
       "text": [
        "<IPython.core.display.Math at 0x7f0614742358>"
       ]
      },
      {
       "output_type": "stream",
       "stream": "stdout",
       "text": [
        "Eq1 boundary equations \n"
       ]
      },
      {
       "latex": [
        "$$EQs_\\text{ freespace }-b[0] = \\left[\\begin{matrix}376.730313461771 H_{{y}} & 6.81620737033849 \\cdot 10^{-6} i \\frac{d}{d x} E_{{z}}\\end{matrix}\\right]$$"
       ],
       "metadata": {},
       "output_type": "display_data",
       "text": [
        "<IPython.core.display.Math at 0x7f06146dfeb8>"
       ]
      },
      {
       "latex": [
        "$$EQs_\\text{ freespace }-b[1] = \\left[\\begin{matrix}- 376.730313461771 H_{{x}} & 6.81620737033849 \\cdot 10^{-6} i \\frac{d}{d y} E_{{z}}\\end{matrix}\\right]$$"
       ],
       "metadata": {},
       "output_type": "display_data",
       "text": [
        "<IPython.core.display.Math at 0x7f06146d6f98>"
       ]
      },
      {
       "latex": [
        "$$EQs_\\text{ freespace }-b[2] = \\left[\\begin{matrix}- 0.00265441872943807 E_{{y}} & 6.81620737033849 \\cdot 10^{-6} i \\frac{d}{d x} H_{{z}}\\end{matrix}\\right]$$"
       ],
       "metadata": {},
       "output_type": "display_data",
       "text": [
        "<IPython.core.display.Math at 0x7f06146d6f98>"
       ]
      },
      {
       "latex": [
        "$$EQs_\\text{ freespace }-b[3] = \\left[\\begin{matrix}0.00265441872943807 E_{{x}} & 6.81620737033849 \\cdot 10^{-6} i \\frac{d}{d y} H_{{z}}\\end{matrix}\\right]$$"
       ],
       "metadata": {},
       "output_type": "display_data",
       "text": [
        "<IPython.core.display.Math at 0x7f06146db4a8>"
       ]
      },
      {
       "latex": [
        "$$EQs_\\text{ freespace }-b[4] = \\left[\\begin{matrix}- 389.427519618766 i E_{{z}} & - \\frac{d}{d y} H_{{x}} & \\frac{d}{d x} H_{{y}}\\end{matrix}\\right]$$"
       ],
       "metadata": {},
       "output_type": "display_data",
       "text": [
        "<IPython.core.display.Math at 0x7f06146d6f98>"
       ]
      },
      {
       "latex": [
        "$$EQs_\\text{ freespace }-b[5] = \\left[\\begin{matrix}55269784.6461004 i H_{{z}} & - \\frac{d}{d y} E_{{x}} & \\frac{d}{d x} E_{{y}}\\end{matrix}\\right]$$"
       ],
       "metadata": {},
       "output_type": "display_data",
       "text": [
        "<IPython.core.display.Math at 0x7f06146db4a8>"
       ]
      },
      {
       "latex": [
        "$$Eqs_\\text{ graphene } = \\left[\\begin{matrix}376.730313461771 H_{{y}} + 6.81620737033849 \\cdot 10^{-6} i \\frac{d}{d x} E_{{z}}\\\\- 376.730313461771 H_{{x}} + 6.81620737033849 \\cdot 10^{-6} i \\frac{d}{d y} E_{{z}}\\\\6.81620737033849 \\cdot 10^{-6} i \\left(E_{{y}} \\left(1806.65784643246 - 15425.6470573858 i\\right) + \\frac{d}{d x} H_{{z}}\\right)\\\\i \\left(- 6.81620737033849 \\cdot 10^{-6} E_{{x}} \\left(1806.65784643246 - 15425.6470573858 i\\right) + 6.81620737033849 \\cdot 10^{-6} \\frac{d}{d y} H_{{z}}\\right)\\\\- E_{{z}} \\left(1806.65784643246 - 15425.6470573858 i\\right) - \\frac{d}{d y} H_{{x}} + \\frac{d}{d x} H_{{y}}\\\\55269784.6461004 i H_{{z}} - \\frac{d}{d y} E_{{x}} + \\frac{d}{d x} E_{{y}}\\end{matrix}\\right]$$"
       ],
       "metadata": {},
       "output_type": "display_data",
       "text": [
        "<IPython.core.display.Math at 0x7f06146db860>"
       ]
      },
      {
       "output_type": "stream",
       "stream": "stdout",
       "text": [
        "Eq1 boundary equations \n"
       ]
      },
      {
       "latex": [
        "$$EQs_\\text{ graphene }-b[0] = \\left[\\begin{matrix}376.730313461771 H_{{y}} & 6.81620737033849 \\cdot 10^{-6} i \\frac{d}{d x} E_{{z}}\\end{matrix}\\right]$$"
       ],
       "metadata": {},
       "output_type": "display_data",
       "text": [
        "<IPython.core.display.Math at 0x7f06146df4a8>"
       ]
      },
      {
       "latex": [
        "$$EQs_\\text{ graphene }-b[1] = \\left[\\begin{matrix}- 376.730313461771 H_{{x}} & 6.81620737033849 \\cdot 10^{-6} i \\frac{d}{d y} E_{{z}}\\end{matrix}\\right]$$"
       ],
       "metadata": {},
       "output_type": "display_data",
       "text": [
        "<IPython.core.display.Math at 0x7f06146dfc50>"
       ]
      },
      {
       "latex": [
        "$$EQs_\\text{ graphene }-b[2] = \\left[\\begin{matrix}6.81620737033849 \\cdot 10^{-6} E_{{y}} \\left(-389.427519618766 + i \\left(1806.65784643246 - 15815.0745770046 i\\right)\\right) & 6.81620737033849 \\cdot 10^{-6} i \\frac{d}{d x} H_{{z}}\\end{matrix}\\right]$$"
       ],
       "metadata": {},
       "output_type": "display_data",
       "text": [
        "<IPython.core.display.Math at 0x7f06146d8320>"
       ]
      },
      {
       "latex": [
        "$$EQs_\\text{ graphene }-b[3] = \\left[\\begin{matrix}6.81620737033849 \\cdot 10^{-6} E_{{x}} \\left(389.427519618766 - i \\left(1806.65784643246 - 15815.0745770046 i\\right)\\right) & 6.81620737033849 \\cdot 10^{-6} i \\frac{d}{d y} H_{{z}}\\end{matrix}\\right]$$"
       ],
       "metadata": {},
       "output_type": "display_data",
       "text": [
        "<IPython.core.display.Math at 0x7f06146db6d8>"
       ]
      },
      {
       "latex": [
        "$$EQs_\\text{ graphene }-b[4] = \\left[\\begin{matrix}- E_{{z}} \\left(1806.65784643246 - 15425.6470573858 i\\right) & - \\frac{d}{d y} H_{{x}} & \\frac{d}{d x} H_{{y}}\\end{matrix}\\right]$$"
       ],
       "metadata": {},
       "output_type": "display_data",
       "text": [
        "<IPython.core.display.Math at 0x7f06146d8320>"
       ]
      },
      {
       "latex": [
        "$$EQs_\\text{ graphene }-b[5] = \\left[\\begin{matrix}55269784.6461004 i H_{{z}} & - \\frac{d}{d y} E_{{x}} & \\frac{d}{d x} E_{{y}}\\end{matrix}\\right]$$"
       ],
       "metadata": {},
       "output_type": "display_data",
       "text": [
        "<IPython.core.display.Math at 0x7f06146db6d8>"
       ]
      },
      {
       "output_type": "stream",
       "stream": "stdout",
       "text": [
        "rg.CellsToIndexTotalShared:  1\n",
        "rg.SidesToIndexTotalShared:  30145\n",
        "rg.NodesToIndexTotalShared:  15073\n",
        "initial matrix nnz"
       ]
      },
      {
       "output_type": "stream",
       "stream": "stdout",
       "text": [
        " 1720704 0:00:08\n",
        "initial matrix shared nnz"
       ]
      },
      {
       "output_type": "stream",
       "stream": "stdout",
       "text": [
        " 2037212 0:00:06\n",
        "final matrix (application of boundary conditions) nnz: "
       ]
      },
      {
       "output_type": "stream",
       "stream": "stdout",
       "text": [
        " 2036736 0:00:02\n",
        "A_11.shape: "
       ]
      },
      {
       "output_type": "stream",
       "stream": "stdout",
       "text": [
        " (157356, 157356) A_11.nnz:  157356\n",
        "warning: this inversion mechanism only works for diagonal matrices\n",
        "eliminating z components"
       ]
      },
      {
       "output_type": "stream",
       "stream": "stdout",
       "text": [
        " 0:00:01\n",
        "A_reduced nnz: "
       ]
      },
      {
       "output_type": "stream",
       "stream": "stdout",
       "text": [
        " 2581892\n",
        "solving eigenvalues 0:04:11\n",
        "[ 8.68431146-1.04280005j  8.68431196-1.0428013j   6.69180397-0.79608322j\n",
        "  6.37840876-0.84488256j  5.84120029-0.93511251j]\n",
        "(359926, 5)\n",
        "[ 8.68431146-1.04280005j  8.68431196-1.0428013j   6.69180397-0.79608322j\n",
        "  6.37840876-0.84488256j  5.84120029-0.93511251j]\n",
        "(359926, 5)"
       ]
      },
      {
       "output_type": "stream",
       "stream": "stdout",
       "text": [
        "\n",
        "infinite magnetoplasmon dispersion graphene: \n",
        " [array([ 6.7012401-0.74869359j]), array([ 1.01089218+0.00250717j])]\n"
       ]
      }
     ],
     "prompt_number": 3
    },
    {
     "cell_type": "code",
     "collapsed": false,
     "input": [
      "%reload_ext autoreload\n",
      "%autoreload\n",
      "\n",
      "from Electromagnetics.graphene import *\n",
      "omega_0 = 2.0*math.pi*freq\n",
      "kz_k0_inf = magnetoplasmonDispersion_normalized(mu_c, B_0, np.array([omega_0]), tau, T, cond='Kubo')\n",
      "print('infinite magnetoplasmon dispersion graphene: \\n', kz_k0_inf)\n",
      "\n",
      "kz_k0_inf = plasmonDispersion(mu_c, np.array([omega_0]), tau, T)\n",
      "print('infinite plasmon dispersion graphene: \\n', kz_k0_inf[0]/(omega_0*math.sqrt(constants.mu_0*constants.epsilon_0)))\n"
     ],
     "language": "python",
     "metadata": {},
     "outputs": [
      {
       "output_type": "stream",
       "stream": "stdout",
       "text": [
        "infinite magnetoplasmon dispersion graphene: \n",
        " [array([ 38.27755835-10.39181727j]), array([ 1.00027427+0.00016086j])]\n",
        "infinite plasmon dispersion graphene: \n"
       ]
      },
      {
       "output_type": "stream",
       "stream": "stdout",
       "text": [
        " (38.2775583451-10.3918172677j)\n"
       ]
      }
     ],
     "prompt_number": 30
    },
    {
     "cell_type": "code",
     "collapsed": false,
     "input": [
      "ex, ey = maxwell2Dsolver.GetEtInCellsFromFinalSolutionVector(k_vecs[:, 0], maxwell2Dsolver.A_coo_final)\n",
      "\n",
      "exy_max = GetMaxComplexVec2D(ex, ey)\n",
      "\n",
      "ex_prev = ex\n",
      "ey_prev = ey\n"
     ],
     "language": "python",
     "metadata": {},
     "outputs": [
      {
       "output_type": "stream",
       "stream": "stdout",
       "text": [
        "warning: this inversion mechanism only works for diagonal matrices\n",
        "GetFromSolutionIndexToInitialIndex : "
       ]
      },
      {
       "output_type": "stream",
       "stream": "stdout",
       "text": [
        " 0:00:00\n",
        "InterpolateVariablesValuesToCellCenters : "
       ]
      },
      {
       "output_type": "stream",
       "stream": "stdout",
       "text": [
        " 0:00:00\n",
        "CalculateSurfaceIntegral : "
       ]
      },
      {
       "output_type": "stream",
       "stream": "stdout",
       "text": [
        " 0:00:00\n"
       ]
      }
     ],
     "prompt_number": 53
    },
    {
     "cell_type": "code",
     "collapsed": false,
     "input": [
      "%reload_ext autoreload\n",
      "%autoreload\n",
      "\n",
      "\n",
      "from Electromagnetics.RecGrid2D import *\n",
      "import queue\n",
      "\n",
      "que = queue.Queue()\n",
      "print(\"queue started..\")\n",
      "window = GUIMaker2D(wx=3.0, wy=6.0, wxp=600, wyp=400, que=que)\n",
      "    \n",
      "print('window started...')\n",
      "\n",
      "window.AttachGrid(maxwell2Dsolver.rg)\n",
      "que.put([\"updategrid\"])\n",
      "que.put([\"toggleTestMode\"])"
     ],
     "language": "python",
     "metadata": {},
     "outputs": [
      {
       "output_type": "stream",
       "stream": "stdout",
       "text": [
        "queue started..\n",
        "window started..."
       ]
      },
      {
       "output_type": "stream",
       "stream": "stdout",
       "text": [
        "\n"
       ]
      }
     ],
     "prompt_number": 60
    },
    {
     "cell_type": "code",
     "collapsed": false,
     "input": [
      "import numpy as np\n",
      "from Electromagnetics.Misc import *\n",
      "\n",
      "   \n",
      "colors = GetColorMap(NormalizeArrayTo0n1(exy_max, logscale=True, logrange=3.0))\n",
      "que.put([\"ColorCells\", colors])"
     ],
     "language": "python",
     "metadata": {},
     "outputs": [],
     "prompt_number": 55
    },
    {
     "cell_type": "code",
     "collapsed": false,
     "input": [
      "[cells_nm, nodes_nm, sidesX_nm, sidesY_nm] = maxwell2Dsolver.GetCellsNodesAndSidesForMaterial('graphene')\n",
      "\n",
      "que.put([\"MarkGridSides\", sidesX_nm, \"yellow\"])\n",
      "que.put([\"MarkGridSides\", sidesY_nm, \"yellow\"])\n"
     ],
     "language": "python",
     "metadata": {},
     "outputs": [
      {
       "output_type": "stream",
       "stream": "stdout",
       "text": [
        "material 0:  freespace\n",
        "material 1:  graphene\n"
       ]
      }
     ],
     "prompt_number": 22
    },
    {
     "cell_type": "code",
     "collapsed": false,
     "input": [
      "import time\n",
      "for i in range(n_modes):\n",
      "    ex, ey = maxwell2Dsolver.GetEtInCellsFromFinalSolutionVector(k_vecs[:, i], maxwell2Dsolver.A_coo_final)\n",
      "    \n",
      "    exy_max = GetMaxComplexVec2D(ex, ey)\n",
      "    colors = GetColorMap(NormalizeArrayTo0n1(exy_max, logscale=True, logrange=3.0))\n",
      "    que.put([\"ColorCells\", colors])\n",
      "    que.put([\"logtext\", 'mode: '+str(i)])\n",
      "    time.sleep(5)\n"
     ],
     "language": "python",
     "metadata": {},
     "outputs": [
      {
       "output_type": "stream",
       "stream": "stdout",
       "text": [
        "warning: this inversion mechanism only works for diagonal matrices\n",
        "GetFromSolutionIndexToInitialIndex : "
       ]
      },
      {
       "output_type": "stream",
       "stream": "stdout",
       "text": [
        " 0:00:01\n",
        "InterpolateVariablesValuesToCellCenters : "
       ]
      },
      {
       "output_type": "stream",
       "stream": "stdout",
       "text": [
        " 0:00:00\n",
        "CalculateSurfaceIntegral : "
       ]
      },
      {
       "output_type": "stream",
       "stream": "stdout",
       "text": [
        " 0:00:00\n",
        "warning: this inversion mechanism only works for diagonal matrices"
       ]
      },
      {
       "output_type": "stream",
       "stream": "stdout",
       "text": [
        "\n",
        "GetFromSolutionIndexToInitialIndex : "
       ]
      },
      {
       "output_type": "stream",
       "stream": "stdout",
       "text": [
        " 0:00:01\n",
        "InterpolateVariablesValuesToCellCenters : "
       ]
      },
      {
       "output_type": "stream",
       "stream": "stdout",
       "text": [
        " 0:00:00\n",
        "CalculateSurfaceIntegral : "
       ]
      },
      {
       "output_type": "stream",
       "stream": "stdout",
       "text": [
        " 0:00:00\n",
        "warning: this inversion mechanism only works for diagonal matrices"
       ]
      },
      {
       "output_type": "stream",
       "stream": "stdout",
       "text": [
        "\n",
        "GetFromSolutionIndexToInitialIndex : "
       ]
      },
      {
       "output_type": "stream",
       "stream": "stdout",
       "text": [
        " 0:00:01\n",
        "InterpolateVariablesValuesToCellCenters : "
       ]
      },
      {
       "output_type": "stream",
       "stream": "stdout",
       "text": [
        " 0:00:00\n",
        "CalculateSurfaceIntegral : "
       ]
      },
      {
       "output_type": "stream",
       "stream": "stdout",
       "text": [
        " 0:00:00\n",
        "warning: this inversion mechanism only works for diagonal matrices"
       ]
      },
      {
       "output_type": "stream",
       "stream": "stdout",
       "text": [
        "\n",
        "GetFromSolutionIndexToInitialIndex : "
       ]
      },
      {
       "output_type": "stream",
       "stream": "stdout",
       "text": [
        " 0:00:01\n",
        "InterpolateVariablesValuesToCellCenters : "
       ]
      },
      {
       "output_type": "stream",
       "stream": "stdout",
       "text": [
        " 0:00:00\n",
        "CalculateSurfaceIntegral : "
       ]
      },
      {
       "output_type": "stream",
       "stream": "stdout",
       "text": [
        " 0:00:00\n",
        "warning: this inversion mechanism only works for diagonal matrices"
       ]
      },
      {
       "output_type": "stream",
       "stream": "stdout",
       "text": [
        "\n",
        "GetFromSolutionIndexToInitialIndex : "
       ]
      },
      {
       "output_type": "stream",
       "stream": "stdout",
       "text": [
        " 0:00:01\n",
        "InterpolateVariablesValuesToCellCenters : "
       ]
      },
      {
       "output_type": "stream",
       "stream": "stdout",
       "text": [
        " 0:00:00\n",
        "CalculateSurfaceIntegral : "
       ]
      },
      {
       "output_type": "stream",
       "stream": "stdout",
       "text": [
        " 0:00:00\n"
       ]
      }
     ],
     "prompt_number": 61
    },
    {
     "cell_type": "code",
     "collapsed": false,
     "input": [
      "%reload_ext autoreload\n",
      "%autoreload\n",
      "\n",
      "maxwell2Dsolver.vbose = True\n",
      "#ind_mode = 2\n",
      "#k_init, k_vec_init = k_eigs[ind_mode], k_vecs[:, ind_mode]\n",
      "n_freq = 30\n",
      "f_step = (freq_1 - freq_0)/n_freq\n",
      "#[freq_sweep, x_null_sweep] = maxwell2Dsolver.sweepFrequency(k_init, k_vec_init, freq_0, freq_1, f_step, n_eig=3, stop_cond='Re(k)<1.01')\n",
      "\n",
      "file_sim = './other/datafiles/graphene_plasmons/fdfd_plasmon_sim'\n",
      "file_sim_start = './other/datafiles/graphene_plasmons/fdfd_plasmon_sim_1'\n",
      "k_init, k_vec_init = k_eigs[0:5], [k_vecs[:, 0], k_vecs[:, 1], k_vecs[:, 2], k_vecs[:, 3], k_vecs[:, 4]]\n",
      "[freq_sweep, x_null_sweep] = maxwell2Dsolver.sweepFrequencyMultiple(k_init, k_vec_init, freq_0, freq_1, f_step, n_eig=6, tol=1.0e-4,\n",
      "                                        interp_ord=4, stop_cond='Re(k)<1.01', saveToFile=file_sim, readFromFile=file_sim_start)\n",
      "\n",
      "\n"
     ],
     "language": "python",
     "metadata": {},
     "outputs": [
      {
       "output_type": "stream",
       "stream": "stdout",
       "text": [
        "X :  [7000000000000.0]\n",
        "Y :  [[(8.6843114604963478-1.0428000504992028j)]]\n",
        "X :  [7000000000000.0]\n",
        "Y :  [[(8.6843119574193128-1.042801304293246j)]]\n",
        "X :  [7000000000000.0]\n",
        "Y :  [[(6.6918039737226893-0.79608321996371645j)]]\n",
        "X :  [7000000000000.0]\n",
        "Y :  [[(6.3784087593180407-0.84488256198879097j)]]\n",
        "X :  [7000000000000.0]\n",
        "Y :  [[(5.8412002922558353-0.93511250888866959j)]]\n",
        "frequency:"
       ]
      },
      {
       "output_type": "stream",
       "stream": "stdout",
       "text": [
        " 4450000000000.0   k_init: (1.0253169466-4.55081261482j)\n"
       ]
      },
      {
       "latex": [
        "$$Eqs_\\text{ freespace } = \\left[\\begin{matrix}376.730313461771 H_{{y}} + 1.07221239533414 \\cdot 10^{-5} i \\frac{d}{d x} E_{{z}}\\\\- 376.730313461771 H_{{x}} + 1.07221239533414 \\cdot 10^{-5} i \\frac{d}{d y} E_{{z}}\\\\- 0.00265441872943807 E_{{y}} + 1.07221239533414 \\cdot 10^{-5} i \\frac{d}{d x} H_{{z}}\\\\0.00265441872943807 E_{{x}} + 1.07221239533414 \\cdot 10^{-5} i \\frac{d}{d y} H_{{z}}\\\\- 247.56463747193 i E_{{z}} - \\frac{d}{d y} H_{{x}} + \\frac{d}{d x} H_{{y}}\\\\35135791.6678781 i H_{{z}} - \\frac{d}{d y} E_{{x}} + \\frac{d}{d x} E_{{y}}\\end{matrix}\\right]$$"
       ],
       "metadata": {},
       "output_type": "display_data",
       "text": [
        "<IPython.core.display.Math at 0x7f060f49e6a0>"
       ]
      },
      {
       "output_type": "stream",
       "stream": "stdout",
       "text": [
        "Eq1 boundary equations \n"
       ]
      },
      {
       "latex": [
        "$$EQs_\\text{ freespace }-b[0] = \\left[\\begin{matrix}376.730313461771 H_{{y}} & 1.07221239533414 \\cdot 10^{-5} i \\frac{d}{d x} E_{{z}}\\end{matrix}\\right]$$"
       ],
       "metadata": {},
       "output_type": "display_data",
       "text": [
        "<IPython.core.display.Math at 0x7f060f4a04a8>"
       ]
      },
      {
       "latex": [
        "$$EQs_\\text{ freespace }-b[1] = \\left[\\begin{matrix}- 376.730313461771 H_{{x}} & 1.07221239533414 \\cdot 10^{-5} i \\frac{d}{d y} E_{{z}}\\end{matrix}\\right]$$"
       ],
       "metadata": {},
       "output_type": "display_data",
       "text": [
        "<IPython.core.display.Math at 0x7f060f4a1828>"
       ]
      },
      {
       "latex": [
        "$$EQs_\\text{ freespace }-b[2] = \\left[\\begin{matrix}- 0.00265441872943807 E_{{y}} & 1.07221239533414 \\cdot 10^{-5} i \\frac{d}{d x} H_{{z}}\\end{matrix}\\right]$$"
       ],
       "metadata": {},
       "output_type": "display_data",
       "text": [
        "<IPython.core.display.Math at 0x7f060f49a8d0>"
       ]
      },
      {
       "latex": [
        "$$EQs_\\text{ freespace }-b[3] = \\left[\\begin{matrix}0.00265441872943807 E_{{x}} & 1.07221239533414 \\cdot 10^{-5} i \\frac{d}{d y} H_{{z}}\\end{matrix}\\right]$$"
       ],
       "metadata": {},
       "output_type": "display_data",
       "text": [
        "<IPython.core.display.Math at 0x7f060f4a1828>"
       ]
      },
      {
       "latex": [
        "$$EQs_\\text{ freespace }-b[4] = \\left[\\begin{matrix}- 247.56463747193 i E_{{z}} & - \\frac{d}{d y} H_{{x}} & \\frac{d}{d x} H_{{y}}\\end{matrix}\\right]$$"
       ],
       "metadata": {},
       "output_type": "display_data",
       "text": [
        "<IPython.core.display.Math at 0x7f060f49a8d0>"
       ]
      },
      {
       "latex": [
        "$$EQs_\\text{ freespace }-b[5] = \\left[\\begin{matrix}35135791.6678781 i H_{{z}} & - \\frac{d}{d y} E_{{x}} & \\frac{d}{d x} E_{{y}}\\end{matrix}\\right]$$"
       ],
       "metadata": {},
       "output_type": "display_data",
       "text": [
        "<IPython.core.display.Math at 0x7f060f4a1828>"
       ]
      },
      {
       "latex": [
        "$$Eqs_\\text{ graphene } = \\left[\\begin{matrix}376.730313461771 H_{{y}} + 1.07221239533414 \\cdot 10^{-5} i \\frac{d}{d x} E_{{z}}\\\\- 376.730313461771 H_{{x}} + 1.07221239533414 \\cdot 10^{-5} i \\frac{d}{d y} E_{{z}}\\\\1.07221239533414 \\cdot 10^{-5} i \\left(E_{{y}} \\left(4381.62298538207 - 24205.6773345654 i\\right) + \\frac{d}{d x} H_{{z}}\\right)\\\\i \\left(- 1.07221239533414 \\cdot 10^{-5} E_{{x}} \\left(4381.62298538207 - 24205.6773345654 i\\right) + 1.07221239533414 \\cdot 10^{-5} \\frac{d}{d y} H_{{z}}\\right)\\\\- E_{{z}} \\left(4381.62298538207 - 24205.6773345654 i\\right) - \\frac{d}{d y} H_{{x}} + \\frac{d}{d x} H_{{y}}\\\\35135791.6678781 i H_{{z}} - \\frac{d}{d y} E_{{x}} + \\frac{d}{d x} E_{{y}}\\end{matrix}\\right]$$"
       ],
       "metadata": {},
       "output_type": "display_data",
       "text": [
        "<IPython.core.display.Math at 0x7f060f49a8d0>"
       ]
      },
      {
       "output_type": "stream",
       "stream": "stdout",
       "text": [
        "Eq1 boundary equations \n"
       ]
      },
      {
       "latex": [
        "$$EQs_\\text{ graphene }-b[0] = \\left[\\begin{matrix}376.730313461771 H_{{y}} & 1.07221239533414 \\cdot 10^{-5} i \\frac{d}{d x} E_{{z}}\\end{matrix}\\right]$$"
       ],
       "metadata": {},
       "output_type": "display_data",
       "text": [
        "<IPython.core.display.Math at 0x7f060f4a5208>"
       ]
      },
      {
       "latex": [
        "$$EQs_\\text{ graphene }-b[1] = \\left[\\begin{matrix}- 376.730313461771 H_{{x}} & 1.07221239533414 \\cdot 10^{-5} i \\frac{d}{d y} E_{{z}}\\end{matrix}\\right]$$"
       ],
       "metadata": {},
       "output_type": "display_data",
       "text": [
        "<IPython.core.display.Math at 0x7f060f4a5c18>"
       ]
      },
      {
       "latex": [
        "$$EQs_\\text{ graphene }-b[2] = \\left[\\begin{matrix}1.07221239533414 \\cdot 10^{-5} E_{{y}} \\left(-247.56463747193 + i \\left(4381.62298538207 - 24453.2419720373 i\\right)\\right) & 1.07221239533414 \\cdot 10^{-5} i \\frac{d}{d x} H_{{z}}\\end{matrix}\\right]$$"
       ],
       "metadata": {},
       "output_type": "display_data",
       "text": [
        "<IPython.core.display.Math at 0x7f060f4a5208>"
       ]
      },
      {
       "latex": [
        "$$EQs_\\text{ graphene }-b[3] = \\left[\\begin{matrix}1.07221239533414 \\cdot 10^{-5} E_{{x}} \\left(247.56463747193 - i \\left(4381.62298538207 - 24453.2419720373 i\\right)\\right) & 1.07221239533414 \\cdot 10^{-5} i \\frac{d}{d y} H_{{z}}\\end{matrix}\\right]$$"
       ],
       "metadata": {},
       "output_type": "display_data",
       "text": [
        "<IPython.core.display.Math at 0x7f060f4a5c18>"
       ]
      },
      {
       "latex": [
        "$$EQs_\\text{ graphene }-b[4] = \\left[\\begin{matrix}- E_{{z}} \\left(4381.62298538207 - 24205.6773345654 i\\right) & - \\frac{d}{d y} H_{{x}} & \\frac{d}{d x} H_{{y}}\\end{matrix}\\right]$$"
       ],
       "metadata": {},
       "output_type": "display_data",
       "text": [
        "<IPython.core.display.Math at 0x7f060f4a5208>"
       ]
      },
      {
       "latex": [
        "$$EQs_\\text{ graphene }-b[5] = \\left[\\begin{matrix}35135791.6678781 i H_{{z}} & - \\frac{d}{d y} E_{{x}} & \\frac{d}{d x} E_{{y}}\\end{matrix}\\right]$$"
       ],
       "metadata": {},
       "output_type": "display_data",
       "text": [
        "<IPython.core.display.Math at 0x7f060f4a5c18>"
       ]
      },
      {
       "output_type": "stream",
       "stream": "stdout",
       "text": [
        "initial matrix nnz 1720704 0:00:08\n",
        "initial matrix shared nnz"
       ]
      },
      {
       "output_type": "stream",
       "stream": "stdout",
       "text": [
        " 2037212 0:00:06\n",
        "final matrix (application of boundary conditions) nnz: "
       ]
      },
      {
       "output_type": "stream",
       "stream": "stdout",
       "text": [
        " 2036736 0:00:02\n",
        "A_11.shape: "
       ]
      },
      {
       "output_type": "stream",
       "stream": "stdout",
       "text": [
        " (157356, 157356) A_11.nnz:  157356\n",
        "warning: this inversion mechanism only works for diagonal matrices\n",
        "eliminating z components"
       ]
      },
      {
       "output_type": "stream",
       "stream": "stdout",
       "text": [
        " 0:00:01\n",
        "A_reduced nnz: "
       ]
      },
      {
       "output_type": "stream",
       "stream": "stdout",
       "text": [
        " 2583370\n",
        "solving eigenvalues 0:03:07\n",
        "[ 0.98004527-4.5313858j]\n",
        "(359926, 1)\n",
        "0 4 x_correlation:  (-0.00115206588401+0.00611297706148j)     abs(x_correlation):  0.00622059035425\n",
        "k_correlation_r:  0.0441538327773     k_correlation_i:  0.00426886718163\n",
        "making refinement...\n",
        "=-=-=-=-=-=-=-=-=-=-=-=-=-=-=-=-=-=-=-=-=-=-=-=-=-=-=-=-=-=-=-=-=-=-=-=-=-=-=-=-=-=-=-=-=-=-=-=-=-=-\n",
        "making refinement...\n",
        "frequency: 4550000000000.0   k_init: (1.05176064858-4.24618543225j)\n"
       ]
      },
      {
       "latex": [
        "$$Eqs_\\text{ freespace } = \\left[\\begin{matrix}376.730313461771 H_{{y}} + 1.04864728774438 \\cdot 10^{-5} i \\frac{d}{d x} E_{{z}}\\\\- 376.730313461771 H_{{x}} + 1.04864728774438 \\cdot 10^{-5} i \\frac{d}{d y} E_{{z}}\\\\- 0.00265441872943807 E_{{y}} + 1.04864728774438 \\cdot 10^{-5} i \\frac{d}{d x} H_{{z}}\\\\0.00265441872943807 E_{{x}} + 1.04864728774438 \\cdot 10^{-5} i \\frac{d}{d y} H_{{z}}\\\\- 253.127887752198 i E_{{z}} - \\frac{d}{d y} H_{{x}} + \\frac{d}{d x} H_{{y}}\\\\35925360.0199653 i H_{{z}} - \\frac{d}{d y} E_{{x}} + \\frac{d}{d x} E_{{y}}\\end{matrix}\\right]$$"
       ],
       "metadata": {},
       "output_type": "display_data",
       "text": [
        "<IPython.core.display.Math at 0x7f060f4a5b70>"
       ]
      },
      {
       "output_type": "stream",
       "stream": "stdout",
       "text": [
        "Eq1 boundary equations \n"
       ]
      },
      {
       "latex": [
        "$$EQs_\\text{ freespace }-b[0] = \\left[\\begin{matrix}376.730313461771 H_{{y}} & 1.04864728774438 \\cdot 10^{-5} i \\frac{d}{d x} E_{{z}}\\end{matrix}\\right]$$"
       ],
       "metadata": {},
       "output_type": "display_data",
       "text": [
        "<IPython.core.display.Math at 0x7f060f4a5da0>"
       ]
      },
      {
       "latex": [
        "$$EQs_\\text{ freespace }-b[1] = \\left[\\begin{matrix}- 376.730313461771 H_{{x}} & 1.04864728774438 \\cdot 10^{-5} i \\frac{d}{d y} E_{{z}}\\end{matrix}\\right]$$"
       ],
       "metadata": {},
       "output_type": "display_data",
       "text": [
        "<IPython.core.display.Math at 0x7f060f4b48d0>"
       ]
      },
      {
       "latex": [
        "$$EQs_\\text{ freespace }-b[2] = \\left[\\begin{matrix}- 0.00265441872943807 E_{{y}} & 1.04864728774438 \\cdot 10^{-5} i \\frac{d}{d x} H_{{z}}\\end{matrix}\\right]$$"
       ],
       "metadata": {},
       "output_type": "display_data",
       "text": [
        "<IPython.core.display.Math at 0x7f060f4b48d0>"
       ]
      },
      {
       "latex": [
        "$$EQs_\\text{ freespace }-b[3] = \\left[\\begin{matrix}0.00265441872943807 E_{{x}} & 1.04864728774438 \\cdot 10^{-5} i \\frac{d}{d y} H_{{z}}\\end{matrix}\\right]$$"
       ],
       "metadata": {},
       "output_type": "display_data",
       "text": [
        "<IPython.core.display.Math at 0x7f060f4b48d0>"
       ]
      },
      {
       "latex": [
        "$$EQs_\\text{ freespace }-b[4] = \\left[\\begin{matrix}- 253.127887752198 i E_{{z}} & - \\frac{d}{d y} H_{{x}} & \\frac{d}{d x} H_{{y}}\\end{matrix}\\right]$$"
       ],
       "metadata": {},
       "output_type": "display_data",
       "text": [
        "<IPython.core.display.Math at 0x7f060f4b48d0>"
       ]
      },
      {
       "latex": [
        "$$EQs_\\text{ freespace }-b[5] = \\left[\\begin{matrix}35925360.0199653 i H_{{z}} & - \\frac{d}{d y} E_{{x}} & \\frac{d}{d x} E_{{y}}\\end{matrix}\\right]$$"
       ],
       "metadata": {},
       "output_type": "display_data",
       "text": [
        "<IPython.core.display.Math at 0x7f060f4b48d0>"
       ]
      },
      {
       "latex": [
        "$$Eqs_\\text{ graphene } = \\left[\\begin{matrix}376.730313461771 H_{{y}} + 1.04864728774438 \\cdot 10^{-5} i \\frac{d}{d x} E_{{z}}\\\\- 376.730313461771 H_{{x}} + 1.04864728774438 \\cdot 10^{-5} i \\frac{d}{d y} E_{{z}}\\\\1.04864728774438 \\cdot 10^{-5} i \\left(E_{{y}} \\left(4196.97950043111 - 23693.8867486105 i\\right) + \\frac{d}{d x} H_{{z}}\\right)\\\\i \\left(- 1.04864728774438 \\cdot 10^{-5} E_{{x}} \\left(4196.97950043111 - 23693.8867486105 i\\right) + 1.04864728774438 \\cdot 10^{-5} \\frac{d}{d y} H_{{z}}\\right)\\\\- E_{{z}} \\left(4196.97950043111 - 23693.8867486105 i\\right) - \\frac{d}{d y} H_{{x}} + \\frac{d}{d x} H_{{y}}\\\\35925360.0199653 i H_{{z}} - \\frac{d}{d y} E_{{x}} + \\frac{d}{d x} E_{{y}}\\end{matrix}\\right]$$"
       ],
       "metadata": {},
       "output_type": "display_data",
       "text": [
        "<IPython.core.display.Math at 0x7f060f4a04a8>"
       ]
      },
      {
       "output_type": "stream",
       "stream": "stdout",
       "text": [
        "Eq1 boundary equations \n"
       ]
      },
      {
       "latex": [
        "$$EQs_\\text{ graphene }-b[0] = \\left[\\begin{matrix}376.730313461771 H_{{y}} & 1.04864728774438 \\cdot 10^{-5} i \\frac{d}{d x} E_{{z}}\\end{matrix}\\right]$$"
       ],
       "metadata": {},
       "output_type": "display_data",
       "text": [
        "<IPython.core.display.Math at 0x7f060f4b47b8>"
       ]
      },
      {
       "latex": [
        "$$EQs_\\text{ graphene }-b[1] = \\left[\\begin{matrix}- 376.730313461771 H_{{x}} & 1.04864728774438 \\cdot 10^{-5} i \\frac{d}{d y} E_{{z}}\\end{matrix}\\right]$$"
       ],
       "metadata": {},
       "output_type": "display_data",
       "text": [
        "<IPython.core.display.Math at 0x7f060f4b49b0>"
       ]
      },
      {
       "latex": [
        "$$EQs_\\text{ graphene }-b[2] = \\left[\\begin{matrix}1.04864728774438 \\cdot 10^{-5} E_{{y}} \\left(-253.127887752198 + i \\left(4196.97950043111 - 23947.0146363627 i\\right)\\right) & 1.04864728774438 \\cdot 10^{-5} i \\frac{d}{d x} H_{{z}}\\end{matrix}\\right]$$"
       ],
       "metadata": {},
       "output_type": "display_data",
       "text": [
        "<IPython.core.display.Math at 0x7f060f49eeb8>"
       ]
      },
      {
       "latex": [
        "$$EQs_\\text{ graphene }-b[3] = \\left[\\begin{matrix}1.04864728774438 \\cdot 10^{-5} E_{{x}} \\left(253.127887752198 - i \\left(4196.97950043111 - 23947.0146363627 i\\right)\\right) & 1.04864728774438 \\cdot 10^{-5} i \\frac{d}{d y} H_{{z}}\\end{matrix}\\right]$$"
       ],
       "metadata": {},
       "output_type": "display_data",
       "text": [
        "<IPython.core.display.Math at 0x7f060f4b47b8>"
       ]
      },
      {
       "latex": [
        "$$EQs_\\text{ graphene }-b[4] = \\left[\\begin{matrix}- E_{{z}} \\left(4196.97950043111 - 23693.8867486105 i\\right) & - \\frac{d}{d y} H_{{x}} & \\frac{d}{d x} H_{{y}}\\end{matrix}\\right]$$"
       ],
       "metadata": {},
       "output_type": "display_data",
       "text": [
        "<IPython.core.display.Math at 0x7f060f4b42e8>"
       ]
      },
      {
       "latex": [
        "$$EQs_\\text{ graphene }-b[5] = \\left[\\begin{matrix}35925360.0199653 i H_{{z}} & - \\frac{d}{d y} E_{{x}} & \\frac{d}{d x} E_{{y}}\\end{matrix}\\right]$$"
       ],
       "metadata": {},
       "output_type": "display_data",
       "text": [
        "<IPython.core.display.Math at 0x7f060f4b47b8>"
       ]
      },
      {
       "output_type": "stream",
       "stream": "stdout",
       "text": [
        "initial matrix nnz 1720704 0:00:07\n",
        "initial matrix shared nnz"
       ]
      },
      {
       "output_type": "stream",
       "stream": "stdout",
       "text": [
        " 2037212 0:00:06\n",
        "final matrix (application of boundary conditions) nnz: "
       ]
      },
      {
       "output_type": "stream",
       "stream": "stdout",
       "text": [
        " 2036736 0:00:02\n",
        "A_11.shape: "
       ]
      },
      {
       "output_type": "stream",
       "stream": "stdout",
       "text": [
        " (157356, 157356) A_11.nnz:  157356\n",
        "warning: this inversion mechanism only works for diagonal matrices\n",
        "eliminating z components"
       ]
      },
      {
       "output_type": "stream",
       "stream": "stdout",
       "text": [
        " 0:00:01\n",
        "A_reduced nnz: "
       ]
      },
      {
       "output_type": "stream",
       "stream": "stdout",
       "text": [
        " 2580625\n",
        "solving eigenvalues 0:03:27\n",
        "[ 1.03729947-4.23898386j]\n",
        "(359926, 1)\n",
        "0 4 x_correlation:  (-0.00554835316506-0.0029125680031j)     abs(x_correlation):  0.00626636060381\n",
        "k_correlation_r:  0.0137494923838     k_correlation_i:  0.00169600882344\n",
        "making refinement...\n",
        "=-=-=-=-=-=-=-=-=-=-=-=-=-=-=-=-=-=-=-=-=-=-=-=-=-=-=-=-=-=-=-=-=-=-=-=-=-=-=-=-=-=-=-=-=-=-=-=-=-=-\n",
        "making refinement...\n",
        "frequency: 4600000000000.0   k_init: (1.07572233812-4.09282025526j)\n"
       ]
      },
      {
       "latex": [
        "$$Eqs_\\text{ freespace } = \\left[\\begin{matrix}376.730313461771 H_{{y}} + 1.0372489476602 \\cdot 10^{-5} i \\frac{d}{d x} E_{{z}}\\\\- 376.730313461771 H_{{x}} + 1.0372489476602 \\cdot 10^{-5} i \\frac{d}{d y} E_{{z}}\\\\- 0.00265441872943807 E_{{y}} + 1.0372489476602 \\cdot 10^{-5} i \\frac{d}{d x} H_{{z}}\\\\0.00265441872943807 E_{{x}} + 1.0372489476602 \\cdot 10^{-5} i \\frac{d}{d y} H_{{z}}\\\\- 255.909512892332 i E_{{z}} - \\frac{d}{d y} H_{{x}} + \\frac{d}{d x} H_{{y}}\\\\36320144.1960088 i H_{{z}} - \\frac{d}{d y} E_{{x}} + \\frac{d}{d x} E_{{y}}\\end{matrix}\\right]$$"
       ],
       "metadata": {},
       "output_type": "display_data",
       "text": [
        "<IPython.core.display.Math at 0x7f0614714b00>"
       ]
      },
      {
       "output_type": "stream",
       "stream": "stdout",
       "text": [
        "Eq1 boundary equations \n"
       ]
      },
      {
       "latex": [
        "$$EQs_\\text{ freespace }-b[0] = \\left[\\begin{matrix}376.730313461771 H_{{y}} & 1.0372489476602 \\cdot 10^{-5} i \\frac{d}{d x} E_{{z}}\\end{matrix}\\right]$$"
       ],
       "metadata": {},
       "output_type": "display_data",
       "text": [
        "<IPython.core.display.Math at 0x7f060f4b4198>"
       ]
      },
      {
       "latex": [
        "$$EQs_\\text{ freespace }-b[1] = \\left[\\begin{matrix}- 376.730313461771 H_{{x}} & 1.0372489476602 \\cdot 10^{-5} i \\frac{d}{d y} E_{{z}}\\end{matrix}\\right]$$"
       ],
       "metadata": {},
       "output_type": "display_data",
       "text": [
        "<IPython.core.display.Math at 0x7f060f4a56d8>"
       ]
      },
      {
       "latex": [
        "$$EQs_\\text{ freespace }-b[2] = \\left[\\begin{matrix}- 0.00265441872943807 E_{{y}} & 1.0372489476602 \\cdot 10^{-5} i \\frac{d}{d x} H_{{z}}\\end{matrix}\\right]$$"
       ],
       "metadata": {},
       "output_type": "display_data",
       "text": [
        "<IPython.core.display.Math at 0x7f060f4a56d8>"
       ]
      },
      {
       "latex": [
        "$$EQs_\\text{ freespace }-b[3] = \\left[\\begin{matrix}0.00265441872943807 E_{{x}} & 1.0372489476602 \\cdot 10^{-5} i \\frac{d}{d y} H_{{z}}\\end{matrix}\\right]$$"
       ],
       "metadata": {},
       "output_type": "display_data",
       "text": [
        "<IPython.core.display.Math at 0x7f060f4a56d8>"
       ]
      },
      {
       "latex": [
        "$$EQs_\\text{ freespace }-b[4] = \\left[\\begin{matrix}- 255.909512892332 i E_{{z}} & - \\frac{d}{d y} H_{{x}} & \\frac{d}{d x} H_{{y}}\\end{matrix}\\right]$$"
       ],
       "metadata": {},
       "output_type": "display_data",
       "text": [
        "<IPython.core.display.Math at 0x7f060f4a56d8>"
       ]
      },
      {
       "latex": [
        "$$EQs_\\text{ freespace }-b[5] = \\left[\\begin{matrix}36320144.1960088 i H_{{z}} & - \\frac{d}{d y} E_{{x}} & \\frac{d}{d x} E_{{y}}\\end{matrix}\\right]$$"
       ],
       "metadata": {},
       "output_type": "display_data",
       "text": [
        "<IPython.core.display.Math at 0x7f060f4a56d8>"
       ]
      },
      {
       "latex": [
        "$$Eqs_\\text{ graphene } = \\left[\\begin{matrix}376.730313461771 H_{{y}} + 1.0372489476602 \\cdot 10^{-5} i \\frac{d}{d x} E_{{z}}\\\\- 376.730313461771 H_{{x}} + 1.0372489476602 \\cdot 10^{-5} i \\frac{d}{d y} E_{{z}}\\\\1.0372489476602 \\cdot 10^{-5} i \\left(E_{{y}} \\left(4108.96563171005 - 23445.490953111 i\\right) + \\frac{d}{d x} H_{{z}}\\right)\\\\i \\left(- 1.0372489476602 \\cdot 10^{-5} E_{{x}} \\left(4108.96563171005 - 23445.490953111 i\\right) + 1.0372489476602 \\cdot 10^{-5} \\frac{d}{d y} H_{{z}}\\right)\\\\- E_{{z}} \\left(4108.96563171005 - 23445.490953111 i\\right) - \\frac{d}{d y} H_{{x}} + \\frac{d}{d x} H_{{y}}\\\\36320144.1960088 i H_{{z}} - \\frac{d}{d y} E_{{x}} + \\frac{d}{d x} E_{{y}}\\end{matrix}\\right]$$"
       ],
       "metadata": {},
       "output_type": "display_data",
       "text": [
        "<IPython.core.display.Math at 0x7f060f4a52e8>"
       ]
      },
      {
       "output_type": "stream",
       "stream": "stdout",
       "text": [
        "Eq1 boundary equations \n"
       ]
      },
      {
       "latex": [
        "$$EQs_\\text{ graphene }-b[0] = \\left[\\begin{matrix}376.730313461771 H_{{y}} & 1.0372489476602 \\cdot 10^{-5} i \\frac{d}{d x} E_{{z}}\\end{matrix}\\right]$$"
       ],
       "metadata": {},
       "output_type": "display_data",
       "text": [
        "<IPython.core.display.Math at 0x7f060f4b4358>"
       ]
      },
      {
       "latex": [
        "$$EQs_\\text{ graphene }-b[1] = \\left[\\begin{matrix}- 376.730313461771 H_{{x}} & 1.0372489476602 \\cdot 10^{-5} i \\frac{d}{d y} E_{{z}}\\end{matrix}\\right]$$"
       ],
       "metadata": {},
       "output_type": "display_data",
       "text": [
        "<IPython.core.display.Math at 0x7f060f4a7128>"
       ]
      },
      {
       "latex": [
        "$$EQs_\\text{ graphene }-b[2] = \\left[\\begin{matrix}1.0372489476602 \\cdot 10^{-5} E_{{y}} \\left(-255.909512892332 + i \\left(4108.96563171005 - 23701.4004660033 i\\right)\\right) & 1.0372489476602 \\cdot 10^{-5} i \\frac{d}{d x} H_{{z}}\\end{matrix}\\right]$$"
       ],
       "metadata": {},
       "output_type": "display_data",
       "text": [
        "<IPython.core.display.Math at 0x7f060f4a7128>"
       ]
      },
      {
       "latex": [
        "$$EQs_\\text{ graphene }-b[3] = \\left[\\begin{matrix}1.0372489476602 \\cdot 10^{-5} E_{{x}} \\left(255.909512892332 - i \\left(4108.96563171005 - 23701.4004660033 i\\right)\\right) & 1.0372489476602 \\cdot 10^{-5} i \\frac{d}{d y} H_{{z}}\\end{matrix}\\right]$$"
       ],
       "metadata": {},
       "output_type": "display_data",
       "text": [
        "<IPython.core.display.Math at 0x7f060f4a7128>"
       ]
      },
      {
       "latex": [
        "$$EQs_\\text{ graphene }-b[4] = \\left[\\begin{matrix}- E_{{z}} \\left(4108.96563171005 - 23445.490953111 i\\right) & - \\frac{d}{d y} H_{{x}} & \\frac{d}{d x} H_{{y}}\\end{matrix}\\right]$$"
       ],
       "metadata": {},
       "output_type": "display_data",
       "text": [
        "<IPython.core.display.Math at 0x7f060f4a7128>"
       ]
      },
      {
       "latex": [
        "$$EQs_\\text{ graphene }-b[5] = \\left[\\begin{matrix}36320144.1960088 i H_{{z}} & - \\frac{d}{d y} E_{{x}} & \\frac{d}{d x} E_{{y}}\\end{matrix}\\right]$$"
       ],
       "metadata": {},
       "output_type": "display_data",
       "text": [
        "<IPython.core.display.Math at 0x7f060f4a7128>"
       ]
      },
      {
       "ename": "KeyboardInterrupt",
       "evalue": "",
       "output_type": "pyerr",
       "traceback": [
        "\u001b[0;31m---------------------------------------------------------------------------\u001b[0m\n\u001b[0;31mKeyboardInterrupt\u001b[0m                         Traceback (most recent call last)",
        "\u001b[0;32m<ipython-input-4-a0a99cf3813c>\u001b[0m in \u001b[0;36m<module>\u001b[0;34m()\u001b[0m\n\u001b[1;32m     13\u001b[0m \u001b[0mk_init\u001b[0m\u001b[0;34m,\u001b[0m \u001b[0mk_vec_init\u001b[0m \u001b[0;34m=\u001b[0m \u001b[0mk_eigs\u001b[0m\u001b[0;34m[\u001b[0m\u001b[0;36m0\u001b[0m\u001b[0;34m:\u001b[0m\u001b[0;36m5\u001b[0m\u001b[0;34m]\u001b[0m\u001b[0;34m,\u001b[0m \u001b[0;34m[\u001b[0m\u001b[0mk_vecs\u001b[0m\u001b[0;34m[\u001b[0m\u001b[0;34m:\u001b[0m\u001b[0;34m,\u001b[0m \u001b[0;36m0\u001b[0m\u001b[0;34m]\u001b[0m\u001b[0;34m,\u001b[0m \u001b[0mk_vecs\u001b[0m\u001b[0;34m[\u001b[0m\u001b[0;34m:\u001b[0m\u001b[0;34m,\u001b[0m \u001b[0;36m1\u001b[0m\u001b[0;34m]\u001b[0m\u001b[0;34m,\u001b[0m \u001b[0mk_vecs\u001b[0m\u001b[0;34m[\u001b[0m\u001b[0;34m:\u001b[0m\u001b[0;34m,\u001b[0m \u001b[0;36m2\u001b[0m\u001b[0;34m]\u001b[0m\u001b[0;34m,\u001b[0m \u001b[0mk_vecs\u001b[0m\u001b[0;34m[\u001b[0m\u001b[0;34m:\u001b[0m\u001b[0;34m,\u001b[0m \u001b[0;36m3\u001b[0m\u001b[0;34m]\u001b[0m\u001b[0;34m,\u001b[0m \u001b[0mk_vecs\u001b[0m\u001b[0;34m[\u001b[0m\u001b[0;34m:\u001b[0m\u001b[0;34m,\u001b[0m \u001b[0;36m4\u001b[0m\u001b[0;34m]\u001b[0m\u001b[0;34m]\u001b[0m\u001b[0;34m\u001b[0m\u001b[0m\n\u001b[1;32m     14\u001b[0m [freq_sweep, x_null_sweep] = maxwell2Dsolver.sweepFrequencyMultiple(k_init, k_vec_init, freq_0, freq_1, f_step, n_eig=6, \n\u001b[0;32m---> 15\u001b[0;31m                                         interp_ord=4, stop_cond='Re(k)<1.01', saveToFile=file_sim, readFromFile=file_sim_start)\n\u001b[0m\u001b[1;32m     16\u001b[0m \u001b[0;34m\u001b[0m\u001b[0m\n\u001b[1;32m     17\u001b[0m \u001b[0;34m\u001b[0m\u001b[0m\n",
        "\u001b[0;32m/home/nima/ipython workspace/Electromagnetics/MaxwellEigState2D.py\u001b[0m in \u001b[0;36msweepFrequencyMultiple\u001b[0;34m(self, eig_val0, eig_vec0, f_start, f_end, f_step, n_eig, interp_ord, stop_cond, record_data, saveToFile, readFromFile)\u001b[0m\n\u001b[1;32m    790\u001b[0m                 \u001b[0mprint\u001b[0m\u001b[0;34m(\u001b[0m\u001b[0;34m'frequency:'\u001b[0m\u001b[0;34m,\u001b[0m \u001b[0mfreq\u001b[0m\u001b[0;34m,\u001b[0m \u001b[0;34m'  k_init:'\u001b[0m\u001b[0;34m,\u001b[0m \u001b[0mk_init\u001b[0m\u001b[0;34m)\u001b[0m\u001b[0;34m\u001b[0m\u001b[0m\n\u001b[1;32m    791\u001b[0m \u001b[0;34m\u001b[0m\u001b[0m\n\u001b[0;32m--> 792\u001b[0;31m             \u001b[0mk_eigs\u001b[0m\u001b[0;34m,\u001b[0m \u001b[0mk_vecs\u001b[0m \u001b[0;34m=\u001b[0m \u001b[0mself\u001b[0m\u001b[0;34m.\u001b[0m\u001b[0mSolve\u001b[0m\u001b[0;34m(\u001b[0m\u001b[0mfreq\u001b[0m\u001b[0;34m,\u001b[0m \u001b[0mn_eig\u001b[0m\u001b[0;34m=\u001b[0m\u001b[0mn_eig_act\u001b[0m\u001b[0;34m,\u001b[0m \u001b[0mlambda_0\u001b[0m\u001b[0;34m=\u001b[0m\u001b[0mk_init\u001b[0m\u001b[0;34m,\u001b[0m \u001b[0mfirstPass\u001b[0m\u001b[0;34m=\u001b[0m\u001b[0;32mFalse\u001b[0m\u001b[0;34m)\u001b[0m\u001b[0;34m\u001b[0m\u001b[0m\n\u001b[0m\u001b[1;32m    793\u001b[0m \u001b[0;34m\u001b[0m\u001b[0m\n\u001b[1;32m    794\u001b[0m             \u001b[0msolvefailure\u001b[0m \u001b[0;34m=\u001b[0m \u001b[0;32mFalse\u001b[0m\u001b[0;34m\u001b[0m\u001b[0m\n",
        "\u001b[0;32m/home/nima/ipython workspace/Electromagnetics/MaxwellEigState2D.py\u001b[0m in \u001b[0;36mSolve\u001b[0;34m(self, freq, n_eig, lambda_0, firstPass)\u001b[0m\n\u001b[1;32m    578\u001b[0m         \u001b[0mself\u001b[0m\u001b[0;34m.\u001b[0m\u001b[0mSetupEquations\u001b[0m\u001b[0;34m(\u001b[0m\u001b[0mfreq\u001b[0m\u001b[0;34m)\u001b[0m\u001b[0;34m\u001b[0m\u001b[0m\n\u001b[1;32m    579\u001b[0m         \u001b[0mself\u001b[0m\u001b[0;34m.\u001b[0m\u001b[0mAddEquationsToGrid\u001b[0m\u001b[0;34m(\u001b[0m\u001b[0mfreq\u001b[0m\u001b[0;34m,\u001b[0m \u001b[0mfirstPass\u001b[0m\u001b[0;34m=\u001b[0m\u001b[0mfirstPass\u001b[0m\u001b[0;34m)\u001b[0m\u001b[0;34m\u001b[0m\u001b[0m\n\u001b[0;32m--> 580\u001b[0;31m         \u001b[0;32mreturn\u001b[0m \u001b[0mself\u001b[0m\u001b[0;34m.\u001b[0m\u001b[0mConstructMatrixAndSolve\u001b[0m\u001b[0;34m(\u001b[0m\u001b[0mn_eig\u001b[0m\u001b[0;34m=\u001b[0m\u001b[0mn_eig\u001b[0m\u001b[0;34m,\u001b[0m \u001b[0mlambda_0\u001b[0m\u001b[0;34m=\u001b[0m\u001b[0mlambda_0\u001b[0m\u001b[0;34m)\u001b[0m\u001b[0;34m\u001b[0m\u001b[0m\n\u001b[0m\u001b[1;32m    581\u001b[0m \u001b[0;34m\u001b[0m\u001b[0m\n\u001b[1;32m    582\u001b[0m \u001b[0;34m\u001b[0m\u001b[0m\n",
        "\u001b[0;32m/home/nima/ipython workspace/Electromagnetics/MaxwellEigState2D.py\u001b[0m in \u001b[0;36mConstructMatrixAndSolve\u001b[0;34m(self, n_eig, lambda_0)\u001b[0m\n\u001b[1;32m    525\u001b[0m             \u001b[0mprint\u001b[0m\u001b[0;34m(\u001b[0m\u001b[0;34m\"initial matrix nnz\"\u001b[0m\u001b[0;34m,\u001b[0m \u001b[0mA_coo\u001b[0m\u001b[0;34m.\u001b[0m\u001b[0mnnz\u001b[0m\u001b[0;34m,\u001b[0m \u001b[0mtoc\u001b[0m\u001b[0;34m(\u001b[0m\u001b[0;34m)\u001b[0m\u001b[0;34m)\u001b[0m\u001b[0;34m\u001b[0m\u001b[0m\n\u001b[1;32m    526\u001b[0m         \u001b[0mtic\u001b[0m\u001b[0;34m(\u001b[0m\u001b[0;34m)\u001b[0m\u001b[0;34m\u001b[0m\u001b[0m\n\u001b[0;32m--> 527\u001b[0;31m         \u001b[0mA_coo\u001b[0m \u001b[0;34m=\u001b[0m \u001b[0mrg\u001b[0m\u001b[0;34m.\u001b[0m\u001b[0mConstructInitialMatrix_Shared\u001b[0m\u001b[0;34m(\u001b[0m\u001b[0mA_coo\u001b[0m\u001b[0;34m,\u001b[0m \u001b[0msave\u001b[0m\u001b[0;34m=\u001b[0m\u001b[0;32mTrue\u001b[0m\u001b[0;34m)\u001b[0m\u001b[0;34m\u001b[0m\u001b[0m\n\u001b[0m\u001b[1;32m    528\u001b[0m         \u001b[0;32mif\u001b[0m \u001b[0mself\u001b[0m\u001b[0;34m.\u001b[0m\u001b[0mvbose\u001b[0m\u001b[0;34m:\u001b[0m\u001b[0;34m\u001b[0m\u001b[0m\n\u001b[1;32m    529\u001b[0m             \u001b[0mprint\u001b[0m\u001b[0;34m(\u001b[0m\u001b[0;34m\"initial matrix shared nnz\"\u001b[0m\u001b[0;34m,\u001b[0m \u001b[0mA_coo\u001b[0m\u001b[0;34m.\u001b[0m\u001b[0mnnz\u001b[0m\u001b[0;34m,\u001b[0m \u001b[0mtoc\u001b[0m\u001b[0;34m(\u001b[0m\u001b[0;34m)\u001b[0m\u001b[0;34m)\u001b[0m\u001b[0;34m\u001b[0m\u001b[0m\n",
        "\u001b[0;32m/home/nima/ipython workspace/Electromagnetics/RecGrid2D.py\u001b[0m in \u001b[0;36mConstructInitialMatrix_Shared\u001b[0;34m(self, A_coo, save)\u001b[0m\n\u001b[1;32m   2525\u001b[0m                                 \u001b[0;32melse\u001b[0m\u001b[0;34m:\u001b[0m\u001b[0;34m\u001b[0m\u001b[0m\n\u001b[1;32m   2526\u001b[0m                                     \u001b[0;32mraise\u001b[0m \u001b[0mNotImplementedError\u001b[0m\u001b[0;34m(\u001b[0m\u001b[0;34m\"Not implemented\"\u001b[0m\u001b[0;34m)\u001b[0m\u001b[0;34m\u001b[0m\u001b[0m\n\u001b[0;32m-> 2527\u001b[0;31m         \u001b[0mrow\u001b[0m \u001b[0;34m=\u001b[0m \u001b[0mnp\u001b[0m\u001b[0;34m.\u001b[0m\u001b[0marray\u001b[0m\u001b[0;34m(\u001b[0m\u001b[0mrow\u001b[0m\u001b[0;34m)\u001b[0m\u001b[0;34m\u001b[0m\u001b[0m\n\u001b[0m\u001b[1;32m   2528\u001b[0m         \u001b[0mcol\u001b[0m \u001b[0;34m=\u001b[0m \u001b[0mnp\u001b[0m\u001b[0;34m.\u001b[0m\u001b[0marray\u001b[0m\u001b[0;34m(\u001b[0m\u001b[0mcol\u001b[0m\u001b[0;34m)\u001b[0m\u001b[0;34m\u001b[0m\u001b[0m\n\u001b[1;32m   2529\u001b[0m         \u001b[0mdata\u001b[0m \u001b[0;34m=\u001b[0m \u001b[0mnp\u001b[0m\u001b[0;34m.\u001b[0m\u001b[0marray\u001b[0m\u001b[0;34m(\u001b[0m\u001b[0mdata\u001b[0m\u001b[0;34m)\u001b[0m\u001b[0;34m\u001b[0m\u001b[0m\n",
        "\u001b[0;31mKeyboardInterrupt\u001b[0m: "
       ]
      },
      {
       "output_type": "stream",
       "stream": "stdout",
       "text": [
        "initial matrix nnz 1720704 0:00:08\n"
       ]
      }
     ],
     "prompt_number": 4
    },
    {
     "cell_type": "code",
     "collapsed": false,
     "input": [
      "#print(dict(zip(freq_sweep.X, freq_sweep.Y)))\n",
      "\n",
      "for i in range(5):\n",
      "    print(list(zip(freq_sweep[i].X, freq_sweep[i].Y)), '\\n')\n",
      "    print('-'*60)\n",
      "    "
     ],
     "language": "python",
     "metadata": {},
     "outputs": [
      {
       "output_type": "stream",
       "stream": "stdout",
       "text": [
        "[(7000000000000.0, [(8.684311458380197-1.042800050901876j)]), (6950000000000.0, [(8.6147320722485929-1.0406539293321302j)]), (6850000000000.0, [(8.4761525459398577-1.0364031493848589j)]), (6650000000000.0, [(8.2012721029477849-1.0280618438849725j)]), (6450000000000.0, [(7.9293588435695748-1.0199227753672291j)]), (6250000000000.0, [(7.6603315824867275-1.0119701021668523j)]), (6050000000000.0, [(7.3941145040794085-1.0041834968633818j)]), (5850000000000.0, [(7.1306390940024702-0.99653443846159284j)]), (5650000000000.0, [(6.8698485257645174-0.98898041645404389j)]), (5450000000000.0, [(6.6117057538369846-0.98145648889349557j)]), (5250000000000.0, [(6.3562079032255294-0.97386421475122265j)]), (5050000000000.0, [(6.1034094425970018-0.9660594605667151j)]), (4850000000000.0, [(5.8534568267091478-0.95784317884988746j)]), (4650000000000.0, [(5.6066335762695703-0.94896329794000878j)]), (4450000000000.0, [(5.3634087969378292-0.93913984985629673j)]), (4250000000000.0, [(5.124469516550314-0.92812444392607074j)]), (4050000000000.0, [(4.8907053421191531-0.91579199426371849j)]), (3850000000000.0, [(4.6631178781311373-0.90223380649540208j)]), (3650000000000.0, [(4.4426641880318147-0.88779753218937996j)]), (3450000000000.0, [(4.2300970106982465-0.87303692238391306j)]), (3250000000000.0, [(4.0258793709481422-0.85859594903894976j)]), (3050000000000.0, [(3.8302015704268144-0.84509883182902268j)]), (2850000000000.0, [(3.6430636409685255-0.83310222952921198j)]), (2650000000000.0, [(3.464365365818086-0.82311688038991004j)]), (2450000000000.0, [(3.2939667520095561-0.81567344989165946j)]), (2250000000000.0, [(3.1317093981890061-0.81140173364536161j)]), (2050000000000.0, [(2.9774103328068189-0.81109687937831576j)]), (1850000000000.0, [(2.8308619069234155-0.81574481366602014j)]), (1650000000000.0, [(2.6919247653248912-0.82647782542170389j)]), (1450000000000.0, [(2.5609358063170311-0.84447448022512817j)]), (1250000000000.0, [(2.4399205197115883-0.8711015708476455j)])] \n",
        "\n",
        "------------------------------------------------------------\n",
        "[(7000000000000.0, [(8.6843119554507275-1.042801304692947j)]), (6950000000000.0, [(8.6147326746944106-1.0406555545763596j)]), (6850000000000.0, [(8.4761534139096337-1.0364058531155649j)]), (6650000000000.0, [(8.2012737378469165-1.0280690406749733j)]), (6450000000000.0, [(7.929361372974193-1.0199409912732433j)]), (6250000000000.0, [(7.6603339714410197-1.0120140197091165j)]), (6050000000000.0, [(7.3941117154624711-1.0042845033950414j)]), (5850000000000.0, [(7.1306150477815056-0.9967563395961142j)]), (5650000000000.0, [(6.8697604243419867-0.98944661986314453j)]), (5450000000000.0, [(6.6114521076668558-0.98239414104445444j)]), (5250000000000.0, [(6.3555681344761643-0.97567113974231379j)]), (5050000000000.0, [(6.1019376746363498-0.96939823964672767j)]), (4850000000000.0, [(5.850307691866786-0.96376200608729379j)]), (4650000000000.0, [(5.6002962642687777-0.95903443215820305j)]), (4450000000000.0, [(5.3513312798769261-0.95559469440955314j)]), (4250000000000.0, [(5.1025720524556188-0.95395579534399788j)]), (4050000000000.0, [(4.8528086043930356-0.954803338635271j)]), (3850000000000.0, [(4.6003272009399918-0.95905958952167092j)]), (3650000000000.0, [(4.3427203657357509-0.96799662242533879j)]), (3450000000000.0, [(4.0766017098896654-0.98344185400530515j)]), (3250000000000.0, [(3.7971620403530615-1.008166080173502j)]), (3050000000000.0, [(3.4974529811566022-1.0466573644576196j)]), (2850000000000.0, [(3.1672404740870896-1.1068059104017702j)]), (2650000000000.0, [(2.7913684948347024-1.2040180037438319j)]), (2450000000000.0, [(2.3495711131423112-1.3726849198357405j)]), (2250000000000.0, [(1.839974467313495-1.6946972248467962j)]), (2050000000000.0, [(1.3825865605248682-2.2508377401455801j)]), (1850000000000.0, [(1.0795684872761113-2.9371287863808737j)]), (1650000000000.0, [(0.86896040762286209-3.7032105339710144j)])] \n",
        "\n",
        "------------------------------------------------------------\n",
        "[(7000000000000.0, [(6.6918039742761959-0.79608322048215518j)]), (6950000000000.0, [(6.6387990117387279-0.79589567766346581j)]), (6850000000000.0, [(6.5326838056576833-0.79562329228783302j)]), (6650000000000.0, [(6.3198742975658417-0.79554099164145331j)]), (6450000000000.0, [(6.1059442753086444-0.79619535010769771j)]), (6250000000000.0, [(5.8903868014164766-0.7977729221297748j)]), (6050000000000.0, [(5.6725634968322458-0.80052630760181676j)]), (5850000000000.0, [(5.4516585596182132-0.80479984721024622j)]), (5650000000000.0, [(5.2266178958103664-0.81107419335115827j)]), (5450000000000.0, [(4.9960559596805565-0.82002161586897693j)]), (5250000000000.0, [(4.7581335369949231-0.83259968637970871j)]), (5050000000000.0, [(4.5103624855347197-0.85020406031882378j)]), (4850000000000.0, [(4.2493569483914815-0.87489491350508508j)]), (4650000000000.0, [(3.9704446089959915-0.90983657527574713j)]), (4450000000000.0, [(3.6671590837023649-0.96007052242566449j)]), (4250000000000.0, [(3.3307195855466714-1.0342282477789346j)]), (4050000000000.0, [(2.9500489442122992-1.1481717113230707j)]), (3850000000000.0, [(2.515858612213604-1.3329261729354236j)]), (3650000000000.0, [(2.0422593207560844-1.6437259966672364j)]), (3450000000000.0, [(1.6124106345242724-2.1226843355081249j)]), (3250000000000.0, [(1.3177141237401453-2.7017627764449159j)]), (3050000000000.0, [(1.1357830988264488-3.2898560176523168j)]), (2850000000000.0, [(1.0106367276228934-3.8699334925029407j)]), (2650000000000.0, [(0.90883636617917207-4.462755646672079j)])] \n",
        "\n",
        "------------------------------------------------------------\n",
        "[(7000000000000.0, [(6.378408759945291-0.84488256227944547j)]), (6950000000000.0, [(6.3170039324552452-0.84656434121299284j)]), (6850000000000.0, [(6.1931411687913585-0.8503178567337768j)]), (6650000000000.0, [(5.9405945057388037-0.85961788554215124j)]), (6450000000000.0, [(5.6802583869862353-0.87185854547340624j)]), (6250000000000.0, [(5.4101184129832403-0.88791645253965823j)]), (6050000000000.0, [(5.1275886888909437-0.90903219616691666j)]), (5850000000000.0, [(4.8293095334361773-0.93700697539443911j)]), (5650000000000.0, [(4.510860919537274-0.9745814187308699j)]), (5450000000000.0, [(4.1663794459934103-1.0261179423439952j)]), (5250000000000.0, [(3.7880876784167419-1.098991056803974j)]), (5050000000000.0, [(3.3661642407859218-1.2065666423463268j)]), (4850000000000.0, [(2.8909354607176025-1.3744547211463534j)]), (4650000000000.0, [(2.3663101433057969-1.6506487045845573j)]), (4450000000000.0, [(1.8514512163857093-2.0932726307555836j)]), (4250000000000.0, [(1.459123536568971-2.6772867826452842j)]), (4050000000000.0, [(1.2160778218590231-3.294542230203779j)]), (3850000000000.0, [(1.0714901784621071-3.8875352379735544j)]), (3650000000000.0, [(0.97422213936040392-4.4469646896211756j)])] \n",
        "\n",
        "------------------------------------------------------------\n",
        "[(7000000000000.0, [(5.8412002932896749-0.93511250889719655j)]), (6950000000000.0, [(5.7646940628392809-0.94068444509529858j)]), (6850000000000.0, [(5.6087761493837203-0.95295570017270448j)]), (6650000000000.0, [(5.28369489943133-0.98290172890135685j)]), (6450000000000.0, [(4.9372339473933238-1.0223489185332295j)]), (6250000000000.0, [(4.5637174369802738-1.0754528546832498j)]), (6050000000000.0, [(4.1557100824538189-1.1491574867938918j)]), (5850000000000.0, [(3.7038130726814629-1.2558312812614267j)]), (5650000000000.0, [(3.1983715409515701-1.418821937196997j)]), (5450000000000.0, [(2.6400967020851684-1.6817940764137325j)]), (5250000000000.0, [(2.0757602865108442-2.1037156945392339j)]), (5050000000000.0, [(1.6135727003504963-2.6809860909524943j)]), (4850000000000.0, [(1.3029291712761235-3.3154785131696687j)]), (4650000000000.0, [(1.1068439200254594-3.9387540211240268j)])] \n",
        "\n",
        "------------------------------------------------------------\n"
       ]
      }
     ],
     "prompt_number": 7
    },
    {
     "cell_type": "code",
     "collapsed": false,
     "input": [
      "name = 'fdfd_graph_strip_plasmon'\n",
      "f_name = './other/datafiles/graphene_plasmons/'+name\n",
      "\n",
      "params_dic = {'freq_0':freq_0, 'freq_1':freq_1, 'mu_c':mu_c, 'B_0':B_0, 'tau':tau, 'T':T,\n",
      "              'width_graph':width_graph, 'del_graph':del_graph, 'n_modes':n_modes, 'W_x':W_x, 'W_y':W_y}\n"
     ],
     "language": "python",
     "metadata": {},
     "outputs": [],
     "prompt_number": 8
    },
    {
     "cell_type": "code",
     "collapsed": false,
     "input": [
      "import pickle\n",
      "import os\n",
      "\n",
      "\n",
      "f_dir = os.path.dirname(f_name)\n",
      "if not os.path.exists(f_dir):\n",
      "    os.makedirs(f_dir)\n",
      "\n",
      "f = open(f_name, 'wb')\n",
      "\n",
      "pickle.dump(params_dic, f)\n",
      "pickle.dump(freq_sweep, f)\n",
      "\n",
      "f.close()\n"
     ],
     "language": "python",
     "metadata": {},
     "outputs": [],
     "prompt_number": 9
    },
    {
     "cell_type": "code",
     "collapsed": false,
     "input": [
      "import pickle\n",
      "import os\n",
      "\n",
      "#f_name = file_sim_start\n",
      "f = open(f_name, 'rb')\n",
      "\n",
      "params_dic = pickle.load(f)\n",
      "freq_sweep = pickle.load(f)\n",
      "f.close()"
     ],
     "language": "python",
     "metadata": {},
     "outputs": [],
     "prompt_number": 6
    },
    {
     "cell_type": "code",
     "collapsed": false,
     "input": [
      "%reload_ext autoreload\n",
      "%autoreload\n",
      "%pylab inline\n",
      "\n",
      "from Electromagnetics.Misc import *\n",
      "\n",
      "for i in range(5):\n",
      "    freq_sweep[i].RemoveNones()\n",
      "\n",
      "for i in range(5):\n",
      "    plot(np.real(np.array(freq_sweep[i].Y)), np.array(freq_sweep[i].X))\n",
      "show()\n",
      "\n",
      "for i in range(5):\n",
      "    plot(-np.imag(np.array(freq_sweep[i].Y)), np.array(freq_sweep[i].X))\n",
      "show()    "
     ],
     "language": "python",
     "metadata": {},
     "outputs": [
      {
       "output_type": "stream",
       "stream": "stdout",
       "text": [
        "Populating the interactive namespace from numpy and matplotlib\n"
       ]
      },
      {
       "output_type": "stream",
       "stream": "stderr",
       "text": [
        "WARNING: pylab import has clobbered these variables: ['f']\n",
        "`%pylab --no-import-all` prevents importing * from pylab and numpy\n"
       ]
      },
      {
       "metadata": {},
       "output_type": "display_data",
       "png": "[encoded data removed]",
       "text": [
        "<matplotlib.figure.Figure at 0x7f064c89bac8>"
       ]
      },
      {
       "metadata": {},
       "output_type": "display_data",
       "png": "[encoded data removed]",
       "text": [
        "<matplotlib.figure.Figure at 0x7f0621d45128>"
       ]
      }
     ],
     "prompt_number": 10
    },
    {
     "cell_type": "code",
     "collapsed": false,
     "input": [],
     "language": "python",
     "metadata": {},
     "outputs": []
    }
   ],
   "metadata": {}
  }
 ]
}