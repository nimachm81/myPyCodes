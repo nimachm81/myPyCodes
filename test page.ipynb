{
 "cells": [
  {
   "cell_type": "code",
   "execution_count": 25,
   "metadata": {},
   "outputs": [
    {
     "data": {
      "text/latex": [
       "$$\\left[\\begin{matrix}x_{0}^{2} & x_{0} & 1\\\\x_{1}^{2} & x_{1} & 1\\\\x_{2}^{2} & x_{2} & 1\\end{matrix}\\right]$$"
      ],
      "text/plain": [
       "<IPython.core.display.Math object>"
      ]
     },
     "metadata": {},
     "output_type": "display_data"
    },
    {
     "data": {
      "text/latex": [
       "$$\\left[\\begin{matrix}\\frac{y_{0} - 2 y_{1} + y_{2}}{2 \\Delta_x^{2}}\\\\\\frac{- \\frac{3 \\Delta_x y_{0}}{2} + 2 \\Delta_x y_{1} - \\frac{\\Delta_x y_{2}}{2} - x_{0} y_{0} + 2 x_{0} y_{1} - x_{0} y_{2}}{\\Delta_x^{2}}\\\\\\frac{2 \\Delta_x^{2} y_{0} + 3 \\Delta_x x_{0} y_{0} - 4 \\Delta_x x_{0} y_{1} + \\Delta_x x_{0} y_{2} + x_{0}^{2} y_{0} - 2 x_{0}^{2} y_{1} + x_{0}^{2} y_{2}}{2 \\Delta_x^{2}}\\end{matrix}\\right]$$"
      ],
      "text/plain": [
       "<IPython.core.display.Math object>"
      ]
     },
     "metadata": {},
     "output_type": "display_data"
    },
    {
     "data": {
      "text/latex": [
       "$$\\frac{- \\frac{3 \\Delta_x y_{0}}{2} + 2 \\Delta_x y_{1} - \\frac{\\Delta_x y_{2}}{2} + x \\left(y_{0} - 2 y_{1} + y_{2}\\right) - x_{0} y_{0} + 2 x_{0} y_{1} - x_{0} y_{2}}{\\Delta_x^{2}}$$"
      ],
      "text/plain": [
       "<IPython.core.display.Math object>"
      ]
     },
     "metadata": {},
     "output_type": "display_data"
    },
    {
     "name": "stdout",
     "output_type": "stream",
     "text": [
      " at x_0 - dx/2 : \n"
     ]
    },
    {
     "data": {
      "text/latex": [
       "$$\\frac{- 2 y_{0} + 3 y_{1} - y_{2}}{\\Delta_x}$$"
      ],
      "text/plain": [
       "<IPython.core.display.Math object>"
      ]
     },
     "metadata": {},
     "output_type": "display_data"
    },
    {
     "name": "stdout",
     "output_type": "stream",
     "text": [
      " at x_2 + dx/2 : \n"
     ]
    },
    {
     "data": {
      "text/latex": [
       "$$\\frac{y_{0} - 3 y_{1} + 2 y_{2}}{\\Delta_x}$$"
      ],
      "text/plain": [
       "<IPython.core.display.Math object>"
      ]
     },
     "metadata": {},
     "output_type": "display_data"
    },
    {
     "name": "stdout",
     "output_type": "stream",
     "text": [
      " at x_0 + dx/2 : \n"
     ]
    },
    {
     "data": {
      "text/latex": [
       "$$\\frac{- y_{0} + y_{1}}{\\Delta_x}$$"
      ],
      "text/plain": [
       "<IPython.core.display.Math object>"
      ]
     },
     "metadata": {},
     "output_type": "display_data"
    }
   ],
   "source": [
    "import sympy as sp\n",
    "from IPython.display import display, Math, Latex, display_latex\n",
    "\n",
    "x0, x1, x2 = sp.symbols('x_0  x_1 x_2')\n",
    "y0, y1, y2 = sp.symbols('y_0  y_1 y_2')\n",
    "dx = sp.symbols('\\Delta_x')\n",
    "\n",
    "A = sp.Matrix([[x0**2, x0, 1],\n",
    "               [x1**2, x1, 1],\n",
    "               [x2**2, x2, 1]])\n",
    "\n",
    "b = sp.Matrix([y0, y1, y2])\n",
    "\n",
    "display(Math(sp.latex(A)))\n",
    "\n",
    "coeffs = A.LUsolve(b)\n",
    "coeffs = coeffs.subs([(x1, x0+dx), (x2, x0+2*dx)])\n",
    "coeffs = sp.simplify(coeffs)\n",
    "\n",
    "display(Math(sp.latex(coeffs)))\n",
    "\n",
    "x = sp.symbols('x')\n",
    "dy_dx = 2*coeffs[0]*x + coeffs[1]\n",
    "dy_dx = sp.simplify(dy_dx)\n",
    "\n",
    "display(Math(sp.latex(dy_dx)))\n",
    "\n",
    "dy_dx_x0mdx = dy_dx.subs(x, x0-dx/2)\n",
    "dy_dx_x0mdx = sp.simplify(dy_dx_x0mdx)\n",
    "\n",
    "print(\" at x_0 - dx/2 : \")\n",
    "display(Math(sp.latex(dy_dx_x0mdx)))\n",
    "\n",
    "dy_dx_x2pdx = dy_dx.subs(x, x0+2*dx+dx/2)\n",
    "dy_dx_x2pdx = sp.simplify(dy_dx_x2pdx)\n",
    "\n",
    "print(\" at x_2 + dx/2 : \")\n",
    "display(Math(sp.latex(dy_dx_x2pdx)))\n",
    "\n",
    "dy_dx_x0pdx = dy_dx.subs(x, x0+dx/2)\n",
    "dy_dx_x0pdx = sp.simplify(dy_dx_x0pdx)\n",
    "\n",
    "print(\" at x_0 + dx/2 : \")\n",
    "display(Math(sp.latex(dy_dx_x0pdx)))\n"
   ]
  },
  {
   "cell_type": "code",
   "execution_count": 1,
   "metadata": {},
   "outputs": [
    {
     "data": {
      "text/plain": [
       "'/home/nima/Documents/GitProjects/myPyCodes'"
      ]
     },
     "execution_count": 1,
     "metadata": {},
     "output_type": "execute_result"
    }
   ],
   "source": [
    "%pwd"
   ]
  },
  {
   "cell_type": "code",
   "execution_count": 64,
   "metadata": {},
   "outputs": [
    {
     "data": {
      "text/latex": [
       "$$\\left[\\begin{matrix}x & y & z\\\\z & x & y\\end{matrix}\\right]$$"
      ],
      "text/plain": [
       "<IPython.core.display.Math object>"
      ]
     },
     "metadata": {},
     "output_type": "display_data"
    },
    {
     "data": {
      "text/latex": [
       "$A\\vphantom0^i\\vphantom1_j\\vphantom1^k$"
      ],
      "text/plain": [
       "<IPython.core.display.Latex object>"
      ]
     },
     "metadata": {},
     "output_type": "display_data"
    },
    {
     "name": "stdout",
     "output_type": "stream",
     "text": [
      "\\left[\\begin{matrix}x & y & z\\\\z & x & y\\end{matrix}\\right]\n"
     ]
    }
   ],
   "source": [
    "from sympy import I, exp, symbols, lambdify, diff, Matrix, latex\n",
    "from IPython.display import display, Math, Latex, display_latex\n",
    "import mpmath, cmath\n",
    "import numpy as np\n",
    "\n",
    "x, y, z = symbols('x y z')\n",
    "\n",
    "A = np.ndarray((4,4), dtype=object)\n",
    "\n",
    "A[:,:] = [[0, x, y, z],\n",
    "          [z, 0, x, y],\n",
    "          [y, z, 0, x],\n",
    "          [x, y, z, 0]]\n",
    "\n",
    "B = Matrix([[x, y, z],\n",
    "           [z, x, y]])\n",
    "\n",
    "\n",
    "display(Math(latex(B)))\n",
    "\n",
    "display(Latex(r\"$A\\vphantom0^i\\vphantom1_j\\vphantom1^k$\"))\n",
    "\n",
    "print(latex(B))\n"
   ]
  },
  {
   "cell_type": "code",
   "execution_count": 23,
   "metadata": {},
   "outputs": [
    {
     "name": "stdout",
     "output_type": "stream",
     "text": [
      "(0.1585290151921035+0.5403023058681398j)\n"
     ]
    },
    {
     "data": {
      "text/plain": [
       "(-1+0.36787944117144233j)"
      ]
     },
     "execution_count": 23,
     "metadata": {},
     "output_type": "execute_result"
    }
   ],
   "source": [
    "from sympy import I, exp, symbols, lambdify\n",
    "import mpmath, cmath\n",
    "import numpy as np\n",
    "\n",
    "x = symbols('x')\n",
    "\n",
    "f_sym = x**2 + I*exp(I*x)\n",
    "\n",
    "print(complex(f_sym.evalf(subs={x:1.0})))\n",
    "\n",
    "f = lambdify(x, f_sym.subs(I, 1j), modules=[{\"I\":1j}, \"numpy\"])\n",
    "f(1.0j)\n"
   ]
  },
  {
   "cell_type": "code",
   "execution_count": 77,
   "metadata": {},
   "outputs": [
    {
     "name": "stdout",
     "output_type": "stream",
     "text": [
      "Populating the interactive namespace from numpy and matplotlib\n"
     ]
    },
    {
     "name": "stderr",
     "output_type": "stream",
     "text": [
      "/usr/local/lib/python3.5/dist-packages/IPython/core/magics/pylab.py:161: UserWarning: pylab import has clobbered these variables: ['f']\n",
      "`%matplotlib` prevents importing * from pylab and numpy\n",
      "  \"\\n`%matplotlib` prevents importing * from pylab and numpy\"\n"
     ]
    },
    {
     "data": {
      "image/png": "[encoded data removed]",
      "text/plain": [
       "<matplotlib.figure.Figure at 0x7fca63f5d860>"
      ]
     },
     "metadata": {},
     "output_type": "display_data"
    },
    {
     "data": {
      "image/png": "[encoded data removed]",
      "text/plain": [
       "<matplotlib.figure.Figure at 0x7fca63f26e80>"
      ]
     },
     "metadata": {},
     "output_type": "display_data"
    },
    {
     "data": {
      "image/png": "[encoded data removed]",
      "text/plain": [
       "<matplotlib.figure.Figure at 0x7fca64623fd0>"
      ]
     },
     "metadata": {},
     "output_type": "display_data"
    }
   ],
   "source": [
    "%pylab inline\n",
    "\n",
    "import numpy as np\n",
    "from scipy import signal\n",
    "import matplotlib.pyplot as plt\n",
    "\n",
    "N = 2001\n",
    "t0, t1 = 0.0, 1.0\n",
    "t = np.linspace(t0, t1, N)\n",
    "dt = t1/N\n",
    "xlow = np.sin(2 * np.pi * 15 * t)\n",
    "xhigh = np.sin(2 * np.pi * 250 * t)\n",
    "x = 0*xlow + 0*xhigh + 0.2*(np.random.rand(N)-0.5)\n",
    "\n",
    "plot(t, x)\n",
    "show()\n",
    "\n",
    "f = 50.0\n",
    "f_lp = f*dt/np.pi\n",
    "#b, a = signal.butter(8, f_lp)\n",
    "b, a = signal.cheby1(8, rp=0.5, Wn=f_lp*2.0*np.pi, btype='low', analog=False, output='ba')\n",
    "\n",
    "w, h = signal.freqz(b, a, worN=2**12)\n",
    "\n",
    "plt.plot(w/(2*np.pi)/dt, np.abs(h), 'b')\n",
    "xlim(0, 100)\n",
    "show()\n",
    "\n",
    "y = signal.filtfilt(b, a, x, padlen=150)\n",
    "np.abs(y - xlow).max()\n",
    "\n",
    "plot(t, y, 'b')\n",
    "#plot(t, xlow, 'r')\n",
    "show()\n"
   ]
  },
  {
   "cell_type": "code",
   "execution_count": 6,
   "metadata": {},
   "outputs": [
    {
     "name": "stdout",
     "output_type": "stream",
     "text": [
      "1.0\n",
      "4.0\n",
      "6.0\n",
      "4.0\n",
      "1.0\n"
     ]
    }
   ],
   "source": [
    "import numpy as np\n",
    "\n",
    "m = 4\n",
    "binom_m = 1.0\n",
    "for i in range(m+1):\n",
    "    print(binom_m)\n",
    "    binom_m *= (m-i)\n",
    "    binom_m /= i+1\n"
   ]
  },
  {
   "cell_type": "code",
   "execution_count": 20,
   "metadata": {},
   "outputs": [
    {
     "name": "stdout",
     "output_type": "stream",
     "text": [
      "Populating the interactive namespace from numpy and matplotlib\n",
      "(256, 256)\n",
      "(-2.2954e-71-1.3715e-71j)\n"
     ]
    },
    {
     "name": "stderr",
     "output_type": "stream",
     "text": [
      "/usr/local/lib/python3.5/dist-packages/IPython/core/magics/pylab.py:161: UserWarning: pylab import has clobbered these variables: ['f']\n",
      "`%matplotlib` prevents importing * from pylab and numpy\n",
      "  \"\\n`%matplotlib` prevents importing * from pylab and numpy\"\n"
     ]
    },
    {
     "data": {
      "text/plain": [
       "<matplotlib.colorbar.Colorbar at 0x7f61ca316a58>"
      ]
     },
     "execution_count": 20,
     "metadata": {},
     "output_type": "execute_result"
    },
    {
     "data": {
      "image/png": "[encoded data removed]",
      "text/plain": [
       "<matplotlib.figure.Figure at 0x7f61ca705898>"
      ]
     },
     "metadata": {},
     "output_type": "display_data"
    }
   ],
   "source": [
    "%pylab inline\n",
    "import numpy as np\n",
    "\n",
    "\n",
    "\"\"\"f = open('other/Ex0.csv', 'r')\n",
    "f_str = f.read()\n",
    "f.close()\n",
    "f = open('other/Ex0.csv', 'w')\n",
    "f_str = f_str.replace('i', 'j')\n",
    "f.write(f_str)\n",
    "f.close()\n",
    "\"\"\"\n",
    "\n",
    "Ex0 = np.genfromtxt('other/Ex0.csv', delimiter=',', dtype=complex)\n",
    "\n",
    "print(Ex0.shape)\n",
    "print(Ex0[0,0])\n",
    "\n",
    "pcolormesh(np.real(Ex0),cmap=\"rainbow\")\n",
    "colorbar()"
   ]
  },
  {
   "cell_type": "code",
   "execution_count": 17,
   "metadata": {},
   "outputs": [
    {
     "name": "stdout",
     "output_type": "stream",
     "text": [
      "Populating the interactive namespace from numpy and matplotlib\n"
     ]
    },
    {
     "data": {
      "text/plain": [
       "[<matplotlib.lines.Line2D at 0x7fa6088ad630>]"
      ]
     },
     "execution_count": 17,
     "metadata": {},
     "output_type": "execute_result"
    },
    {
     "data": {
      "image/png": "[encoded data removed]",
      "text/plain": [
       "<matplotlib.figure.Figure at 0x7fa6088e9390>"
      ]
     },
     "metadata": {},
     "output_type": "display_data"
    }
   ],
   "source": [
    "%pylab inline\n",
    "import numpy as np\n",
    "\n",
    "w_0 = 0.0\n",
    "def mod_inv_gauss(u, lam=10.1, mu=3.0): \n",
    "    u = (u>0)*u + (u<=0)*1.0e-5\n",
    "    return np.sqrt(lam/(2.0*np.pi*u**3))*np.exp((-lam*(u-mu)**2)/(2*mu**2*u))*np.cos(w_0*u)\n",
    "\n",
    "u = np.linspace(-10, 10, 300)\n",
    "\n",
    "plot(u, mod_inv_gauss(u))\n",
    "\n"
   ]
  },
  {
   "cell_type": "code",
   "execution_count": 5,
   "metadata": {},
   "outputs": [
    {
     "data": {
      "text/latex": [
       "$$\\frac{1}{dz} e^{i b t} + \\frac{1}{dz} e^{- i b t} + \\frac{1}{dt} e^{i a x} + \\frac{1}{dt} e^{- i a x}$$"
      ],
      "text/plain": [
       "<IPython.core.display.Math object>"
      ]
     },
     "metadata": {},
     "output_type": "display_data"
    },
    {
     "data": {
      "text/latex": [
       "$$\\frac{1}{dz} e^{i b t} + \\frac{1}{dz} e^{- i b t} + \\frac{1}{dt} e^{i a x} + \\frac{1}{dt} e^{- i a x}$$"
      ],
      "text/plain": [
       "<IPython.core.display.Math object>"
      ]
     },
     "metadata": {},
     "output_type": "display_data"
    }
   ],
   "source": [
    "from sympy import *\n",
    "from IPython.display import display, Math, Latex\n",
    "\n",
    "x, t, a, b, dt, dz = symbols('x t a b dt dz')\n",
    "\n",
    "expr = 1/dt*exp(I*a*x) + 1/dt*exp(-I*a*x) + 1/dz*exp(I*b*t) + 1/dz*exp(-I*b*t)\n",
    "\n",
    "display(Math(latex(expr)))\n",
    "\n",
    "expr = expr.simplify()\n",
    "display(Math(latex(expr)))\n"
   ]
  },
  {
   "cell_type": "code",
   "execution_count": 12,
   "metadata": {},
   "outputs": [
    {
     "name": "stdout",
     "output_type": "stream",
     "text": [
      "Heaviside(t)\n",
      "1 0 Heaviside(0.0)\n"
     ]
    }
   ],
   "source": [
    "from sympy import *\n",
    "from sympy.parsing.sympy_parser import parse_expr\n",
    "\n",
    "x, t = symbols('x t')\n",
    "\n",
    "f_str = 'Heaviside(t)'\n",
    "A = parse_expr(f_str)\n",
    "\n",
    "print(A)\n",
    "\n",
    "B = lambdify(t, A)\n",
    "print(B(1.0), B(-1.0), B(0.0))"
   ]
  },
  {
   "cell_type": "code",
   "execution_count": 16,
   "metadata": {},
   "outputs": [
    {
     "name": "stdout",
     "output_type": "stream",
     "text": [
      "P_e_rec =  5435.2644504151995\n",
      "P_e_rad =  251.32741228718345\n",
      "P_e_rad/P_e_rec =  0.0462401442616071\n"
     ]
    }
   ],
   "source": [
    "import numpy as np\n",
    "\n",
    "r_s = 695700*10**3\n",
    "r_es = 149.6*10**9\n",
    "r_e = 6371*10**3\n",
    "\n",
    "\n",
    "A_s = 4.0*np.pi*r_s**2 ##sun's surface area\n",
    "A_e = 4.0*np.pi*r_e**2 ##earth's surface area\n",
    "\n",
    "\n",
    "P_se = 2*10**7\n",
    "\n",
    "P_e_rec = P_se*A_s*(4*np.pi)/(4*np.pi*r_es**2)\n",
    "\n",
    "print('P_e_rec = ', P_e_rec)\n",
    "\n",
    "P_se = 20\n",
    "P_e_rad = P_se*(4*np.pi)\n",
    "\n",
    "print('P_e_rad = ', P_e_rad)\n",
    "\n",
    "print('P_e_rad/P_e_rec = ', P_e_rad/P_e_rec)\n",
    "\n"
   ]
  },
  {
   "cell_type": "code",
   "execution_count": 12,
   "metadata": {},
   "outputs": [
    {
     "name": "stdout",
     "output_type": "stream",
     "text": [
      "P_sun_on_earth :  1387.636940684794\n",
      "P_o :  459.27\n"
     ]
    }
   ],
   "source": [
    "import numpy as np\n",
    "\n",
    "r_s = 695700*10**3\n",
    "r_es = 149.6*10**9\n",
    "r_e = 6371*10**3\n",
    "\n",
    "\n",
    "A_s = 4.0*np.pi*r_s**2 ##sun's surface area\n",
    "A_e = 4.0*np.pi*r_e**2 ##earth's surface area\n",
    "\n",
    "T_s = 5800 ##K sun's temparature\n",
    "\n",
    "sigma = 5.67*10**-8\n",
    "\n",
    "P_sun = sigma*A_s*T_s**4\n",
    "\n",
    "\n",
    "P_sun_on_earth = P_sun/(4.0*np.pi*r_es**2)\n",
    "\n",
    "print('P_sun_on_earth : ', P_sun_on_earth)\n",
    "\n",
    "T_o = 300\n",
    "A_o = 1\n",
    "\n",
    "P_o = sigma*A_o*T_o**4\n",
    "\n",
    "print('P_o : ', P_o)\n",
    "\n"
   ]
  },
  {
   "cell_type": "code",
   "execution_count": 3,
   "metadata": {},
   "outputs": [
    {
     "name": "stdout",
     "output_type": "stream",
     "text": [
      "24.2496286025\n",
      "22.4795056094\n"
     ]
    }
   ],
   "source": [
    "import numpy as np\n",
    "\n",
    "a = np.arccos(31/34)*180/np.pi\n",
    "\n",
    "print(a)\n",
    "\n",
    "b = np.arcsin(13/34)*180/np.pi\n",
    "\n",
    "print(b)\n"
   ]
  },
  {
   "cell_type": "code",
   "execution_count": 10,
   "metadata": {},
   "outputs": [
    {
     "name": "stdout",
     "output_type": "stream",
     "text": [
      "Populating the interactive namespace from numpy and matplotlib\n"
     ]
    },
    {
     "data": {
      "image/png": "[encoded data removed]",
      "text/plain": [
       "<matplotlib.figure.Figure at 0x7fe99dfe4470>"
      ]
     },
     "metadata": {},
     "output_type": "display_data"
    }
   ],
   "source": [
    "%pylab inline\n",
    "import numpy as np\n",
    "\n",
    "a = b = 1.0/2\n",
    "\n",
    "N = 100\n",
    "X = np.linspace(-5, 5, N)\n",
    "\n",
    "def getTR(X):\n",
    "    A = np.array([[1-a*X, -1-b*X],\n",
    "                  [1, 1]])\n",
    "    #print(A)\n",
    "    rhs = np.array([1+b*X, 1])\n",
    "    TR = np.linalg.inv(A).dot(rhs.T)\n",
    "    TR = TR.T\n",
    "    #print(TR)\n",
    "    return TR[0], TR[1]\n",
    "\n",
    "R = np.zeros(N)\n",
    "T = np.zeros(N)\n",
    "\n",
    "for i in range(N):\n",
    "    T[i], R[i] = getTR(X[i])\n",
    "\n",
    "    \n",
    "plot(X, R, 'b')\n",
    "plot(X, T, 'r')\n",
    "grid()\n",
    "show()\n"
   ]
  },
  {
   "cell_type": "code",
   "execution_count": 8,
   "metadata": {},
   "outputs": [
    {
     "name": "stdout",
     "output_type": "stream",
     "text": [
      "1.5*sin(2*pi*t)\n"
     ]
    },
    {
     "data": {
      "text/plain": [
       "-3.6739403974420594e-16"
      ]
     },
     "execution_count": 8,
     "metadata": {},
     "output_type": "execute_result"
    }
   ],
   "source": [
    "from sympy import symbols, lambdify\n",
    "from sympy.parsing.sympy_parser import parse_expr\n",
    "a = parse_expr(\"1.5*sin(2*pi*alpha*t)\")\n",
    "\n",
    "t, alpha = symbols(\"t alpha\")\n",
    "\n",
    "a = a.replace(alpha, 1)\n",
    "\n",
    "print(a)\n",
    "\n",
    "a_func = lambdify(t, a, modules=\"numpy\")\n",
    "\n",
    "a_func(1)\n"
   ]
  },
  {
   "cell_type": "code",
   "execution_count": 4,
   "metadata": {},
   "outputs": [
    {
     "name": "stdout",
     "output_type": "stream",
     "text": [
      "Populating the interactive namespace from numpy and matplotlib\n"
     ]
    },
    {
     "data": {
      "image/png": "[encoded data removed]",
      "text/plain": [
       "<matplotlib.figure.Figure at 0x7f27c04b9438>"
      ]
     },
     "metadata": {},
     "output_type": "display_data"
    },
    {
     "name": "stdout",
     "output_type": "stream",
     "text": [
      "67\n"
     ]
    },
    {
     "data": {
      "image/png": "[encoded data removed]",
      "text/plain": [
       "<matplotlib.figure.Figure at 0x7f27c04977f0>"
      ]
     },
     "metadata": {},
     "output_type": "display_data"
    },
    {
     "data": {
      "image/png": "[encoded data removed]",
      "text/plain": [
       "<matplotlib.figure.Figure at 0x7f27c0544ba8>"
      ]
     },
     "metadata": {},
     "output_type": "display_data"
    },
    {
     "name": "stdout",
     "output_type": "stream",
     "text": [
      "67\n"
     ]
    }
   ],
   "source": [
    "%pylab inline\n",
    "import numpy as np\n",
    "\n",
    "from Electromagnetics.Misc import Fourier1D, InvFourier1D\n",
    "\n",
    "f_0 = 1\n",
    "f_0_g = 1.5\n",
    "T_g = 1.0/f_0_g\n",
    "\n",
    "t = np.linspace(-50, 50, 10000)*T_g\n",
    "E_pulse = np.cos(2.0*np.pi*f_0_g*t)*np.sinc(t/(2*T_g))\n",
    "plot(t, E_pulse)\n",
    "show()\n",
    "\n",
    "t_F, E_pulse_F = Fourier1D(t, E_pulse)\n",
    "\n",
    "t_F_mask = np.logical_and(t_F>1.0*f_0, t_F<2.0*f_0)\n",
    "print(np.sum(t_F_mask))\n",
    "\n",
    "plot(t_F, np.abs(E_pulse_F))\n",
    "show()\n",
    "\n",
    "t_F, E_pulse_F = t_F[t_F_mask], E_pulse_F[t_F_mask]\n",
    "plot(t_F, np.abs(E_pulse_F))\n",
    "show()\n",
    "print(len(t_F))\n",
    "\n",
    "\n"
   ]
  },
  {
   "cell_type": "code",
   "execution_count": 3,
   "metadata": {},
   "outputs": [
    {
     "name": "stdout",
     "output_type": "stream",
     "text": [
      "Populating the interactive namespace from numpy and matplotlib\n"
     ]
    },
    {
     "name": "stderr",
     "output_type": "stream",
     "text": [
      "/usr/local/lib/python3.5/dist-packages/IPython/core/magics/pylab.py:161: UserWarning: pylab import has clobbered these variables: ['f']\n",
      "`%matplotlib` prevents importing * from pylab and numpy\n",
      "  \"\\n`%matplotlib` prevents importing * from pylab and numpy\"\n"
     ]
    },
    {
     "data": {
      "image/png": "[encoded data removed]",
      "text/plain": [
       "<matplotlib.figure.Figure at 0x7f5394ec69b0>"
      ]
     },
     "metadata": {},
     "output_type": "display_data"
    },
    {
     "data": {
      "image/png": "[encoded data removed]",
      "text/plain": [
       "<matplotlib.figure.Figure at 0x7f53c4295390>"
      ]
     },
     "metadata": {},
     "output_type": "display_data"
    },
    {
     "data": {
      "image/png": "[encoded data removed]",
      "text/plain": [
       "<matplotlib.figure.Figure at 0x7f5390112cf8>"
      ]
     },
     "metadata": {},
     "output_type": "display_data"
    }
   ],
   "source": [
    "%pylab inline\n",
    "import numpy as np\n",
    "\n",
    "def rotMatrix(theta):\n",
    "    A = np.array([[np.cos(theta), -np.sin(theta)],\n",
    "                  [np.sin(theta), np.cos(theta)]])\n",
    "    return A\n",
    "\n",
    "def Hyperbola(a, c, x0, x1, N=100, rot=0.0):\n",
    "    b = np.sqrt(c**2 - a**2)\n",
    "    x = np.linspace(x0, x1, N, endpoint=True)\n",
    "    y = b**2*np.sqrt(1 + x**2/a**2)\n",
    "    xy = np.stack([x, y], axis=0)\n",
    "    A = rotMatrix(rot)\n",
    "    xpyp = A.dot(xy)\n",
    "    xp, yp = xpyp[0], xpyp[1]\n",
    "    return xp, yp\n",
    "\n",
    "def Parabola(f, x0, x1, N=100, rot=0.0):\n",
    "    x = np.linspace(x0, x1, N, endpoint=True)\n",
    "    y = x**2/(4.0*f)\n",
    "    xy = np.stack([x, y], axis=0)\n",
    "    A = rotMatrix(rot)\n",
    "    xpyp = A.dot(xy)\n",
    "    xp, yp = xpyp[0], xpyp[1]\n",
    "    return xp, yp\n",
    "\n",
    "def Ellipse(a, c, x0, x1, N=100, rot=0.0, branch='+'):\n",
    "    assert branch in ['+', '-', '+-']\n",
    "    assert a>=c\n",
    "    b = np.sqrt(a**2 - c**2)\n",
    "    if x0<-a:\n",
    "        x0 = -a\n",
    "    if x1>a:\n",
    "        x1 = a\n",
    "    x = np.linspace(x0, x1, N, endpoint=True)\n",
    "    y = (b/a)*np.sqrt(a**2 - x**2)\n",
    "    if branch=='-':\n",
    "        y *= -1\n",
    "    elif branch=='+-':\n",
    "        y2 = -y\n",
    "        x = np.concatenate((x, np.flip(x, 0)))\n",
    "        y = np.concatenate((y, np.flip(y2, 0)))\n",
    "    x = x[np.logical_not(np.isnan(y))]\n",
    "    y = y[np.logical_not(np.isnan(y))]\n",
    "    xy = np.stack([x, y], axis=0)\n",
    "    A = rotMatrix(rot)\n",
    "    xpyp = A.dot(xy)\n",
    "    xp, yp = xpyp[0], xpyp[1]\n",
    "    return xp, yp\n",
    "\n",
    "\n",
    "\n",
    "a, c = 1.0, 2.0\n",
    "x, y = Hyperbola(a, c, x0=-1, x1=1, N=100, rot=70/180*np.pi)\n",
    "plot(x, y)\n",
    "axis('equal')\n",
    "show()\n",
    "\n",
    "f = 0.5\n",
    "x, y = Parabola(f, x0=-1, x1=1, N=100, rot=10/180*np.pi)\n",
    "plot(x, y)\n",
    "axis('equal')\n",
    "show()\n",
    "\n",
    "a, c = 1.1, 1.0\n",
    "x, y = Ellipse(a, c, x0=-5, x1=5, N=1000, rot=30/180*np.pi, branch='+-')\n",
    "plot(x, y)\n",
    "axis('equal')\n",
    "show()\n"
   ]
  },
  {
   "cell_type": "code",
   "execution_count": 1,
   "metadata": {},
   "outputs": [
    {
     "data": {
      "image/png": "[encoded data removed]",
      "text/plain": [
       "<matplotlib.figure.Figure at 0x7f59eaf80550>"
      ]
     },
     "metadata": {},
     "output_type": "display_data"
    }
   ],
   "source": [
    "import numpy as np\n",
    "import matplotlib.pyplot as plt\n",
    "\n",
    "\n",
    "# Example data\n",
    "t = np.arange(0.0, 1.0 + 0.01, 0.01)\n",
    "s = np.cos(4 * np.pi * t) + 2\n",
    "\n",
    "plt.rc('text', usetex=True)\n",
    "plt.rc('font', family='serif')\n",
    "plt.plot(t, s)\n",
    "\n",
    "plt.xlabel(r'\\textbf{time} (s)')\n",
    "plt.ylabel(r'\\textit{voltage} (mV)',fontsize=16)\n",
    "plt.title(r\"\\TeX\\ is Number \"\n",
    "          r\"$\\displaystyle\\sum_{n=1}^\\infty\\frac{-e^{i\\pi}}{2^n}$!\",\n",
    "          fontsize=16, color='gray')\n",
    "# Make room for the ridiculously large title.\n",
    "plt.subplots_adjust(top=0.8)\n",
    "\n",
    "#plt.savefig('tex_demo')\n",
    "plt.show()"
   ]
  },
  {
   "cell_type": "code",
   "execution_count": 18,
   "metadata": {},
   "outputs": [
    {
     "name": "stdout",
     "output_type": "stream",
     "text": [
      "Populating the interactive namespace from numpy and matplotlib\n"
     ]
    },
    {
     "data": {
      "image/png": "[encoded data removed]",
      "text/plain": [
       "<matplotlib.figure.Figure at 0x7f5390083d68>"
      ]
     },
     "metadata": {},
     "output_type": "display_data"
    }
   ],
   "source": [
    "%pylab inline\n",
    "import matplotlib.pyplot as plt\n",
    "\n",
    "ax = plt.axes()\n",
    "ax.arrow(0, 0, 0.6, 0.6, head_width=0.03, head_length=0.1, fc='k', ec='k', length_includes_head=True)\n",
    "grid()\n",
    "plt.show()\n"
   ]
  },
  {
   "cell_type": "code",
   "execution_count": 9,
   "metadata": {},
   "outputs": [
    {
     "data": {
      "image/png": "[encoded data removed]",
      "text/plain": [
       "<matplotlib.figure.Figure at 0x7fbf3bc02198>"
      ]
     },
     "metadata": {},
     "output_type": "display_data"
    }
   ],
   "source": [
    "import numpy as np\n",
    "import matplotlib.pyplot as plt\n",
    "\n",
    "\n",
    "# Example data\n",
    "t = np.arange(0.0, 1.0 + 0.01, 0.01)\n",
    "s = np.cos(4 * np.pi * t) + 2\n",
    "\n",
    "plt.rc('text', usetex=True)\n",
    "plt.rc('font', family='serif')\n",
    "plt.plot(t, s)\n",
    "\n",
    "plt.xlabel(r'\\textbf{time} (s)')\n",
    "plt.ylabel(r'\\textit{voltage} (mV)',fontsize=16)\n",
    "plt.title(r\"\\TeX\\ is Number \"\n",
    "          r\"$\\displaystyle\\sum_{n=1}^\\infty\\frac{-e^{i\\pi}}{2^n}$!\",\n",
    "          fontsize=16, color='gray')\n",
    "# Make room for the ridiculously large title.\n",
    "plt.subplots_adjust(top=0.8)\n",
    "\n",
    "plt.show()"
   ]
  },
  {
   "cell_type": "code",
   "execution_count": 8,
   "metadata": {},
   "outputs": [
    {
     "name": "stdout",
     "output_type": "stream",
     "text": [
      "DatetimeIndex(['2017-02-24', '2017-02-27', '2017-02-28', '2017-03-01'], dtype='datetime64[ns]', freq='B')\n"
     ]
    },
    {
     "data": {
      "text/plain": [
       "[datetime.date(2017, 2, 24),\n",
       " datetime.date(2017, 2, 27),\n",
       " datetime.date(2017, 2, 28),\n",
       " datetime.date(2017, 3, 1)]"
      ]
     },
     "execution_count": 8,
     "metadata": {},
     "output_type": "execute_result"
    }
   ],
   "source": [
    "import pandas as pd\n",
    "import datetime\n",
    "\n",
    "date_start = datetime.date.today() - datetime.timedelta(days=5)\n",
    "\n",
    "dt_list = pd.bdate_range(start=date_start, end=datetime.date.today())\n",
    "\n",
    "print(dt_list)\n",
    "                   \n",
    "sorted(dt_list.date.tolist())"
   ]
  },
  {
   "cell_type": "code",
   "execution_count": 32,
   "metadata": {},
   "outputs": [
    {
     "name": "stdout",
     "output_type": "stream",
     "text": [
      "0 days 00:01:00\n",
      "20000 milliseconds\n",
      "0:01:00 60\n",
      "20.0\n"
     ]
    }
   ],
   "source": [
    "import pandas as pd\n",
    "import numpy as np\n",
    "\n",
    "a = pd.Timedelta('1 m')\n",
    "a_np =  np.timedelta64(20, 's').astype('timedelta64[ms]')\n",
    "print(a)\n",
    "print(a_np)\n",
    "\n",
    "b = a.to_pytimedelta()\n",
    "b_np = a_np.item().total_seconds()\n",
    "\n",
    "print(b, b.seconds)\n",
    "print(b_np)"
   ]
  },
  {
   "cell_type": "code",
   "execution_count": 2,
   "metadata": {},
   "outputs": [
    {
     "name": "stdout",
     "output_type": "stream",
     "text": [
      "Populating the interactive namespace from numpy and matplotlib\n"
     ]
    },
    {
     "data": {
      "text/plain": [
       "<Container object of 50 artists>"
      ]
     },
     "execution_count": 2,
     "metadata": {},
     "output_type": "execute_result"
    },
    {
     "data": {
      "image/png": "[encoded data removed]",
      "text/plain": [
       "<matplotlib.figure.Figure at 0x7f0b48398c50>"
      ]
     },
     "metadata": {},
     "output_type": "display_data"
    }
   ],
   "source": [
    "%pylab inline\n",
    "import matplotlib.pyplot as plt\n",
    "import numpy as np\n",
    "\n",
    "N = 50\n",
    "x = np.linspace(0, 2.0*pi, N)\n",
    "y = np.sin(x)\n",
    "\n",
    "plot(x, y)\n",
    "bar(x, y, 0.05, color='y',linewidth=0)\n"
   ]
  },
  {
   "cell_type": "code",
   "execution_count": 23,
   "metadata": {},
   "outputs": [
    {
     "name": "stdout",
     "output_type": "stream",
     "text": [
      "         b\n",
      "a         \n",
      "0.0   4.00\n",
      "1.0   2.00\n",
      "2.0   0.00\n",
      "11.0  2.33\n"
     ]
    }
   ],
   "source": [
    "import numpy as np\n",
    "import pandas as pd\n",
    "\n",
    "N = 3\n",
    "df = pd.DataFrame(np.zeros(shape=(N,2)),columns=[\"a\",\"b\"])\n",
    "\n",
    "df.loc[0:10, 'a'] = np.arange(0, N)\n",
    "df.loc[0:10, 'b'] = 2*np.arange(N-1, -1, -1)\n",
    "df = df.set_index('a')\n",
    "\n",
    "df.loc[11.0] = [2.33]\n",
    "\n",
    "print(df)\n",
    "\n",
    "df.to_hdf('other/testdf', 'df', format='table', mode='a', append=True)\n"
   ]
  },
  {
   "cell_type": "code",
   "execution_count": 29,
   "metadata": {},
   "outputs": [
    {
     "name": "stdout",
     "output_type": "stream",
     "text": [
      "          b\n",
      "a          \n",
      "0.0   18.00\n",
      "1.0   16.00\n",
      "2.0   14.00\n",
      "3.0   12.00\n",
      "4.0   10.00\n",
      "5.0    8.00\n",
      "6.0    6.00\n",
      "7.0    4.00\n",
      "8.0    2.00\n",
      "9.0    0.00\n",
      "11.0   2.33\n",
      "0.0    4.00\n",
      "1.0    2.00\n",
      "2.0    0.00\n",
      "11.0   2.33\n",
      "          b\n",
      "a          \n",
      "0.0   18.00\n",
      "1.0   16.00\n",
      "2.0   14.00\n",
      "3.0   12.00\n",
      "4.0   10.00\n",
      "5.0    8.00\n",
      "6.0    6.00\n",
      "7.0    4.00\n",
      "8.0    2.00\n",
      "9.0    0.00\n",
      "11.0   2.33\n"
     ]
    }
   ],
   "source": [
    "df2 = pd.read_hdf('other/testdf', 'df')\n",
    "\n",
    "print(df2)\n",
    "\n",
    "df3 = df2.reset_index().drop_duplicates(subset='a', keep='first').set_index('a')\n",
    "\n",
    "print(df3)\n"
   ]
  },
  {
   "cell_type": "code",
   "execution_count": 12,
   "metadata": {},
   "outputs": [
    {
     "name": "stdout",
     "output_type": "stream",
     "text": [
      "2017-01-06\n",
      "2017-01-06T10:14:10.735389\n",
      "2017-01-06 10:14:10.735000\n",
      "2017-01-06 05:14:10.735389\n"
     ]
    }
   ],
   "source": [
    "import numpy as np\n",
    "import datetime\n",
    "\n",
    "dt1 = datetime.datetime.today()\n",
    "print(dt1.date())\n",
    "\n",
    "dt1 = np.datetime64(dt1)\n",
    "print(dt1)\n",
    "\n",
    "print(dt1.astype('M8[ms]').astype('O'))\n",
    "print(datetime.datetime.fromtimestamp(dt1.astype('M8[ns]').astype('O')/1e9))\n",
    "\n"
   ]
  },
  {
   "cell_type": "code",
   "execution_count": 15,
   "metadata": {},
   "outputs": [
    {
     "name": "stdout",
     "output_type": "stream",
     "text": [
      "<class 'pandas.tslib.Timestamp'>\n",
      "<class 'datetime.datetime'>\n"
     ]
    },
    {
     "data": {
      "text/plain": [
       "40517"
      ]
     },
     "execution_count": 15,
     "metadata": {},
     "output_type": "execute_result"
    }
   ],
   "source": [
    "import pandas as pd\n",
    "import datetime\n",
    "\n",
    "t = pd.tslib.Timestamp('2016-03-03 00:00:00')\n",
    "print(type(t))\n",
    "t = t.to_pydatetime()\n",
    "t2 = datetime.datetime.today()\n",
    "print(type(t2))\n",
    "\n",
    "(t2-t).days"
   ]
  },
  {
   "cell_type": "code",
   "execution_count": 7,
   "metadata": {},
   "outputs": [
    {
     "name": "stdout",
     "output_type": "stream",
     "text": [
      "     a    b\n",
      "0  0.0  8.0\n",
      "1  1.0  6.0\n",
      "2  2.0  4.0\n",
      "3  3.0  2.0\n",
      "4  4.0  0.0\n",
      "[ 8.  6.  4.  2.  0.]\n",
      "       b\n",
      "a       \n",
      "4.0  0.0\n",
      "3.0  2.0\n",
      "1.2  3.0\n",
      "2.0  4.0\n",
      "1.0  6.0\n",
      "0.0  8.0\n",
      "Float64Index([4.0, 3.0, 1.2, 2.0, 1.0, 0.0], dtype='float64', name='a')\n",
      "0.0 2.0 3.0 4.0 6.0 8.0 \n",
      " --------------------\n",
      "[ 0.  2.  3.  4.  6.  8.]\n",
      "       b\n",
      "a       \n",
      "0.0  8.0\n",
      "1.0  6.0\n",
      "1.2  3.0\n",
      "2.0  4.0\n",
      "3.0  2.0\n",
      "4.0  0.0\n",
      "Float64Index([0.0, 1.0, 1.2, 2.0, 3.0, 4.0], dtype='float64', name='a')\n",
      "8.0 6.0 3.0 4.0 2.0 0.0 \n",
      " --------------------\n",
      "[ 8.  6.  3.  4.  2.  0.]\n",
      "[ 0.   1.   1.2  2.   3.   4. ]\n"
     ]
    }
   ],
   "source": [
    "import numpy as np\n",
    "import pandas as pd\n",
    "\n",
    "N = 5\n",
    "df = pd.DataFrame(np.zeros(shape=(N,2)),columns=[\"a\",\"b\"])\n",
    "\n",
    "df.loc[0:10, 'a'] = np.arange(0, N)\n",
    "df.loc[0:10, 'b'] = 2*np.arange(N-1, -1, -1)\n",
    "\n",
    "#df.loc[2] = df.loc[0]\n",
    "\n",
    "print(df)\n",
    "print(df['b'].values)\n",
    "\n",
    "df2 = df.set_index('a')\n",
    "df2.loc[1.2] = 3.0\n",
    "df2.sort_values('b', ascending=True,  inplace=True)\n",
    "\n",
    "print(df2)\n",
    "print(df2.index)\n",
    "for i in range(len(df2)):\n",
    "    print(df2.iloc[i]['b'], end=' ')\n",
    "print('\\n', '-'*20)\n",
    "print(df2['b'].values)\n",
    "\n",
    "df2.sort_index(ascending=True,  inplace=True)\n",
    "print(df2)\n",
    "print(df2.index)\n",
    "for i in range(len(df2)):\n",
    "    print(df2.iloc[i]['b'], end=' ')\n",
    "print('\\n', '-'*20)\n",
    "print(df2['b'].values)\n",
    "print(df2.index.values)"
   ]
  },
  {
   "cell_type": "code",
   "execution_count": 2,
   "metadata": {},
   "outputs": [
    {
     "name": "stdout",
     "output_type": "stream",
     "text": [
      "2017-01-12 09:30:00\n"
     ]
    }
   ],
   "source": [
    "import datetime\n",
    "\n",
    "a = datetime.datetime(2017, 1, 12, 9, 30)\n",
    "\n",
    "print(a)"
   ]
  },
  {
   "cell_type": "code",
   "execution_count": 21,
   "metadata": {},
   "outputs": [
    {
     "data": {
      "text/plain": [
       "'hi there xx bbj'"
      ]
     },
     "execution_count": 21,
     "metadata": {},
     "output_type": "execute_result"
    }
   ],
   "source": [
    "'hi there bbj bbj'.replace('bbj', 'xx', 1)\n"
   ]
  },
  {
   "cell_type": "code",
   "execution_count": 5,
   "metadata": {},
   "outputs": [
    {
     "name": "stdout",
     "output_type": "stream",
     "text": [
      "0x02e00002  0 nima-desktop XdndCollectionWindowImp\n",
      "0x02e00005  0 nima-desktop unity-launcher\n",
      "0x02e00008  0 nima-desktop unity-panel\n",
      "0x02e0000b  0 nima-desktop unity-dash\n",
      "0x02e0000c  0 nima-desktop Hud\n",
      "0x0260000a  0 nima-desktop Bureau\n",
      "0x02600221  0 nima-desktop Transformation Electromagnetics\n",
      "0x03c0000a  0 nima-desktop nima@nima-desktop: ~\n",
      "0x03a00023  0 nima-desktop test page - Mozilla Firefox\n",
      "0x04000002  0 nima-desktop Running shell command from Python and capturing the output - Stack Overflow – Chromium\n",
      "0x04c00008  0 nima-desktop Electromagnetic Waves in Gravitational Fields.pdf — Electromagnetic Waves in Gravitational Fields\n",
      "0x03600008  0 nima-desktop Gestionnaire de mises à jour\n",
      "0x03c00836  0 nima-desktop nima@nima-desktop: ~\n",
      "\n",
      "\n"
     ]
    }
   ],
   "source": [
    "import subprocess\n",
    "p = subprocess.Popen(['wmctrl', '-l'], stdout=subprocess.PIPE, stderr=subprocess.PIPE)\n",
    "out, err = p.communicate()\n",
    "print(out.decode('utf-8'))\n",
    "\n",
    "\n",
    "p = subprocess.Popen(['wmctrl', '-a Chromium'], stdout=subprocess.PIPE, stderr=subprocess.PIPE)\n",
    "out, err = p.communicate()\n",
    "print(out.decode('utf-8'))\n",
    "\n"
   ]
  },
  {
   "cell_type": "code",
   "execution_count": 9,
   "metadata": {},
   "outputs": [
    {
     "data": {
      "text/plain": [
       "datetime.datetime(2016, 12, 7, 15, 37)"
      ]
     },
     "execution_count": 9,
     "metadata": {},
     "output_type": "execute_result"
    }
   ],
   "source": [
    "import datetime\n",
    "\n",
    "datetime.datetime.fromtimestamp(1481143020)"
   ]
  },
  {
   "cell_type": "code",
   "execution_count": 1,
   "metadata": {},
   "outputs": [
    {
     "ename": "ImportError",
     "evalue": "No module named 'gtk'",
     "output_type": "error",
     "traceback": [
      "\u001b[0;31m---------------------------------------------------------------------------\u001b[0m",
      "\u001b[0;31mImportError\u001b[0m                               Traceback (most recent call last)",
      "\u001b[0;32m<ipython-input-1-c61327dfb706>\u001b[0m in \u001b[0;36m<module>\u001b[0;34m()\u001b[0m\n\u001b[0;32m----> 1\u001b[0;31m \u001b[0;32mimport\u001b[0m \u001b[0mgtk\u001b[0m\u001b[0;34m\u001b[0m\u001b[0m\n\u001b[0m\u001b[1;32m      2\u001b[0m \u001b[0mgtk\u001b[0m\u001b[0;34m.\u001b[0m\u001b[0mgtk_init\u001b[0m\u001b[0;34m(\u001b[0m\u001b[0;34m)\u001b[0m\u001b[0;34m\u001b[0m\u001b[0m\n\u001b[1;32m      3\u001b[0m \u001b[0;34m\u001b[0m\u001b[0m\n\u001b[1;32m      4\u001b[0m \u001b[0;32mimport\u001b[0m \u001b[0mgi\u001b[0m\u001b[0;34m\u001b[0m\u001b[0m\n\u001b[1;32m      5\u001b[0m \u001b[0mgi\u001b[0m\u001b[0;34m.\u001b[0m\u001b[0mrequire_version\u001b[0m\u001b[0;34m(\u001b[0m\u001b[0;34m'Wnck'\u001b[0m\u001b[0;34m,\u001b[0m \u001b[0;34m'3.0'\u001b[0m\u001b[0;34m)\u001b[0m\u001b[0;34m\u001b[0m\u001b[0m\n",
      "\u001b[0;31mImportError\u001b[0m: No module named 'gtk'"
     ]
    }
   ],
   "source": [
    "import gtk\n",
    "gtk.gtk_init()\n",
    "\n",
    "import gi\n",
    "gi.require_version('Wnck', '3.0')\n",
    "from gi.repository import Wnck\n",
    "\n",
    "screen = Wnck.Screen.get_default()\n",
    "print(screen)\n",
    "\n",
    "windows = screen.get_windows()\n",
    "print(windows)\n",
    "\n",
    "for w in windows:\n",
    "    print(w.get_name())\n"
   ]
  },
  {
   "cell_type": "code",
   "execution_count": 14,
   "metadata": {},
   "outputs": [
    {
     "ename": "AttributeError",
     "evalue": "When using gi.repository you must not import static modules like \"gobject\". Please change all occurrences of \"import gobject\" to \"from gi.repository import GObject\". See: https://bugzilla.gnome.org/show_bug.cgi?id=709183",
     "output_type": "error",
     "traceback": [
      "\u001b[0;31m---------------------------------------------------------------------------\u001b[0m",
      "\u001b[0;31mAttributeError\u001b[0m                            Traceback (most recent call last)",
      "\u001b[0;32m<ipython-input-14-94f8778f36b4>\u001b[0m in \u001b[0;36m<module>\u001b[0;34m()\u001b[0m\n\u001b[1;32m      9\u001b[0m \u001b[0;34m\u001b[0m\u001b[0m\n\u001b[1;32m     10\u001b[0m \u001b[0mscreen\u001b[0m \u001b[0;34m=\u001b[0m \u001b[0mwnck\u001b[0m\u001b[0;34m.\u001b[0m\u001b[0mScreen\u001b[0m\u001b[0;34m.\u001b[0m\u001b[0mget_default\u001b[0m\u001b[0;34m(\u001b[0m\u001b[0;34m)\u001b[0m\u001b[0;34m\u001b[0m\u001b[0m\n\u001b[0;32m---> 11\u001b[0;31m \u001b[0;32mwhile\u001b[0m \u001b[0mgtk\u001b[0m\u001b[0;34m.\u001b[0m\u001b[0mevents_pending\u001b[0m\u001b[0;34m(\u001b[0m\u001b[0;34m)\u001b[0m\u001b[0;34m:\u001b[0m\u001b[0;34m\u001b[0m\u001b[0m\n\u001b[0m\u001b[1;32m     12\u001b[0m     \u001b[0mgtk\u001b[0m\u001b[0;34m.\u001b[0m\u001b[0mmain_iteration\u001b[0m\u001b[0;34m(\u001b[0m\u001b[0;34m)\u001b[0m\u001b[0;34m\u001b[0m\u001b[0m\n\u001b[1;32m     13\u001b[0m \u001b[0;34m\u001b[0m\u001b[0m\n",
      "\u001b[0;32m/usr/lib/python3/dist-packages/gi/__init__.py\u001b[0m in \u001b[0;36m__getattr__\u001b[0;34m(self, name)\u001b[0m\n\u001b[1;32m     62\u001b[0m \u001b[0;34m\u001b[0m\u001b[0m\n\u001b[1;32m     63\u001b[0m     \u001b[0;32mdef\u001b[0m \u001b[0m__getattr__\u001b[0m\u001b[0;34m(\u001b[0m\u001b[0mself\u001b[0m\u001b[0;34m,\u001b[0m \u001b[0mname\u001b[0m\u001b[0;34m)\u001b[0m\u001b[0;34m:\u001b[0m\u001b[0;34m\u001b[0m\u001b[0m\n\u001b[0;32m---> 64\u001b[0;31m         \u001b[0;32mraise\u001b[0m \u001b[0mAttributeError\u001b[0m\u001b[0;34m(\u001b[0m\u001b[0m_static_binding_error\u001b[0m\u001b[0;34m)\u001b[0m\u001b[0;34m\u001b[0m\u001b[0m\n\u001b[0m\u001b[1;32m     65\u001b[0m \u001b[0;34m\u001b[0m\u001b[0m\n\u001b[1;32m     66\u001b[0m \u001b[0;34m\u001b[0m\u001b[0m\n",
      "\u001b[0;31mAttributeError\u001b[0m: When using gi.repository you must not import static modules like \"gobject\". Please change all occurrences of \"import gobject\" to \"from gi.repository import GObject\". See: https://bugzilla.gnome.org/show_bug.cgi?id=709183"
     ]
    }
   ],
   "source": [
    "#import pygtk\n",
    "#pygtk.require('2.0')\n",
    "import gtk\n",
    "#import wnck\n",
    "import re\n",
    "import sys\n",
    "import time\n",
    "from gi.repository import Wnck as wnck\n",
    "\n",
    "screen = wnck.Screen.get_default()\n",
    "while gtk.events_pending():\n",
    "    gtk.main_iteration()\n",
    "\n",
    "titlePattern = re.compile('.*Geany.*')\n",
    "\n",
    "windows = screen.get_windows()\n",
    "for w in windows:\n",
    "    print(w.get_name())\n",
    "    if titlePattern.match(w.get_name()):\n",
    "        print(w.get_name())\n",
    "        w.activate(int(time.time()))"
   ]
  },
  {
   "cell_type": "code",
   "execution_count": 29,
   "metadata": {},
   "outputs": [
    {
     "name": "stdout",
     "output_type": "stream",
     "text": [
      "                  DATE   CLOSE    HIGH   LOW    OPEN  VOLUME\n",
      "0  2016-12-07 15:35:00  9.5890  9.5996  9.58  9.5850  161038\n",
      "1  2016-12-07 15:36:00  9.5750  9.5850  9.57  9.5850   63029\n",
      "2  2016-12-07 15:37:00  9.5850  9.5900  9.57  9.5750   76203\n",
      "3  2016-12-07 15:38:00  9.5750  9.5900  9.57  9.5800  107084\n",
      "4  2016-12-07 15:39:00  9.5850  9.5900  9.57  9.5750   94446\n",
      "5  2016-12-07 15:40:00  9.5893  9.5950  9.58  9.5865  133360\n",
      "6  2016-12-07 15:41:00  9.5800  9.5900  9.58  9.5850   41699\n",
      "7  2016-12-07 15:42:00  9.5950  9.5950  9.57  9.5800  191863\n",
      "8  2016-12-07 15:43:00  9.5850  9.6000  9.58  9.5900  104358\n",
      "9  2016-12-07 15:44:00  9.5900  9.5900  9.58  9.5801   92532\n",
      "2016-12-07 15:44:00\n"
     ]
    }
   ],
   "source": [
    "import pandas as pd\n",
    "from io import StringIO\n",
    "\n",
    "data = \"\"\"1481142900,9.589,9.5996,9.58,9.585,161038\n",
    "1,9.575,9.585,9.57,9.585,63029\n",
    "2,9.585,9.59,9.57,9.575,76203\n",
    "3,9.575,9.59,9.57,9.58,107084\n",
    "4,9.585,9.59,9.57,9.575,94446\n",
    "5,9.5893,9.595,9.58,9.5865,133360\n",
    "6,9.58,9.59,9.58,9.585,41699\n",
    "7,9.595,9.595,9.57,9.58,191863\n",
    "8,9.585,9.6,9.58,9.59,104358\n",
    "9,9.59,9.59,9.58,9.5801,92532\"\"\"\n",
    "data = 'DATE,CLOSE,HIGH,LOW,OPEN,VOLUME\\n'+data\n",
    "\n",
    "df = pd.read_csv(StringIO(data), sep=',')\n",
    "date_0 = df.loc[0, 'DATE']\n",
    "\n",
    "for i in range(len(df)):\n",
    "    df.loc[i, 'DATE'] = datetime.datetime.fromtimestamp(date_0 + i*60)\n",
    "\n",
    "print(df)\n",
    "print(df.loc[len(df)-1, 'DATE'])\n"
   ]
  },
  {
   "cell_type": "code",
   "execution_count": null,
   "metadata": {
    "collapsed": true
   },
   "outputs": [],
   "source": []
  }
 ],
 "metadata": {
  "kernelspec": {
   "display_name": "Python 3",
   "language": "python",
   "name": "python3"
  },
  "language_info": {
   "codemirror_mode": {
    "name": "ipython",
    "version": 3
   },
   "file_extension": ".py",
   "mimetype": "text/x-python",
   "name": "python",
   "nbconvert_exporter": "python",
   "pygments_lexer": "ipython3",
   "version": "3.6.6"
  }
 },
 "nbformat": 4,
 "nbformat_minor": 1
}
