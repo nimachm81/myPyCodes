{
 "cells": [
  {
   "cell_type": "code",
   "execution_count": 3,
   "metadata": {
    "collapsed": false
   },
   "outputs": [
    {
     "data": {
      "text/latex": [
       "$$\\gamma =\\sqrt{\\left(i C \\omega + G\\right) \\left(i L \\omega + R\\right)}$$"
      ],
      "text/plain": [
       "<IPython.core.display.Math object>"
      ]
     },
     "metadata": {},
     "output_type": "display_data"
    },
    {
     "data": {
      "text/latex": [
       "$$Z_0 =\\sqrt{\\frac{i L \\omega + R}{i C \\omega + G}}$$"
      ],
      "text/plain": [
       "<IPython.core.display.Math object>"
      ]
     },
     "metadata": {},
     "output_type": "display_data"
    },
    {
     "data": {
      "text/latex": [
       "$$\\Gamma_L =\\frac{Z_{L} - Z_{c}}{Z_{L} + Z_{c}}$$"
      ],
      "text/plain": [
       "<IPython.core.display.Math object>"
      ]
     },
     "metadata": {},
     "output_type": "display_data"
    },
    {
     "data": {
      "text/latex": [
       "$$T =\\frac{2 Z_{L}}{Z_{L} + Z_{c}}$$"
      ],
      "text/plain": [
       "<IPython.core.display.Math object>"
      ]
     },
     "metadata": {},
     "output_type": "display_data"
    },
    {
     "data": {
      "text/latex": [
       "$$Z_{in} =\\frac{Z_{c} \\left(Z_{L} + Z_{c} \\tanh{\\left (\\gamma l \\right )}\\right)}{Z_{L} \\tanh{\\left (\\gamma l \\right )} + Z_{c}}$$"
      ],
      "text/plain": [
       "<IPython.core.display.Math object>"
      ]
     },
     "metadata": {},
     "output_type": "display_data"
    },
    {
     "name": "stdout",
     "output_type": "stream",
     "text": [
      "open load ------------------------------\n"
     ]
    },
    {
     "data": {
      "text/latex": [
       "$$\\Gamma_L =1$$"
      ],
      "text/plain": [
       "<IPython.core.display.Math object>"
      ]
     },
     "metadata": {},
     "output_type": "display_data"
    },
    {
     "data": {
      "text/latex": [
       "$$Z_{in} =\\frac{Z_{c}}{\\tanh{\\left (\\gamma l \\right )}}$$"
      ],
      "text/plain": [
       "<IPython.core.display.Math object>"
      ]
     },
     "metadata": {},
     "output_type": "display_data"
    },
    {
     "name": "stdout",
     "output_type": "stream",
     "text": [
      "lossless --------------------\n"
     ]
    },
    {
     "data": {
      "text/latex": [
       "$$\\gamma =\\sqrt{- C L} \\left\\lvert{\\omega}\\right\\rvert$$"
      ],
      "text/plain": [
       "<IPython.core.display.Math object>"
      ]
     },
     "metadata": {},
     "output_type": "display_data"
    },
    {
     "data": {
      "text/latex": [
       "$$Z_0 =\\sqrt{\\frac{L}{C}}$$"
      ],
      "text/plain": [
       "<IPython.core.display.Math object>"
      ]
     },
     "metadata": {},
     "output_type": "display_data"
    },
    {
     "data": {
      "text/latex": [
       "$$\\Gamma_L =\\frac{Z_{L} - Z_{c}}{Z_{L} + Z_{c}}$$"
      ],
      "text/plain": [
       "<IPython.core.display.Math object>"
      ]
     },
     "metadata": {},
     "output_type": "display_data"
    },
    {
     "data": {
      "text/latex": [
       "$$T =\\frac{2 Z_{L}}{Z_{L} + Z_{c}}$$"
      ],
      "text/plain": [
       "<IPython.core.display.Math object>"
      ]
     },
     "metadata": {},
     "output_type": "display_data"
    },
    {
     "data": {
      "text/latex": [
       "$$Z_{in} =\\frac{Z_{c} \\left(Z_{L} + i Z_{c} \\tan{\\left (\\beta l \\right )}\\right)}{i Z_{L} \\tan{\\left (\\beta l \\right )} + Z_{c}}$$"
      ],
      "text/plain": [
       "<IPython.core.display.Math object>"
      ]
     },
     "metadata": {},
     "output_type": "display_data"
    },
    {
     "name": "stdout",
     "output_type": "stream",
     "text": [
      "open load ------------------------------\n"
     ]
    },
    {
     "data": {
      "text/latex": [
       "$$\\Gamma_L =1$$"
      ],
      "text/plain": [
       "<IPython.core.display.Math object>"
      ]
     },
     "metadata": {},
     "output_type": "display_data"
    },
    {
     "data": {
      "text/latex": [
       "$$Z_{in} =- \\frac{i Z_{c}}{\\tan{\\left (\\beta l \\right )}}$$"
      ],
      "text/plain": [
       "<IPython.core.display.Math object>"
      ]
     },
     "metadata": {},
     "output_type": "display_data"
    },
    {
     "name": "stdout",
     "output_type": "stream",
     "text": [
      "∞\n"
     ]
    }
   ],
   "source": [
    "%reload_ext autoreload\n",
    "%autoreload\n",
    "\n",
    "from sympy import *\n",
    "from Electromagnetics.NetworkAnalysis_sym import *\n",
    "\n",
    "from IPython.display import display, Math, Latex\n",
    "\n",
    "init_printing()\n",
    "\n",
    "\n",
    "tl = TL()\n",
    "\n",
    "gamma = tl.propConst()\n",
    "display(Math('\\\\gamma ='+ latex(gamma)))\n",
    "\n",
    "Z_0 = tl.charImp()\n",
    "display(Math('Z_0 ='+ latex(Z_0)))\n",
    "\n",
    "Gamma_L = tl.reflection()\n",
    "display(Math('\\\\Gamma_L ='+ latex(Gamma_L)))\n",
    "\n",
    "T = tl.transmission()\n",
    "display(Math('T ='+ latex(T)))\n",
    "\n",
    "Z_in = tl.inputImp()\n",
    "display(Math('Z_{in} ='+ latex(Z_in)))\n",
    "print('open load', '-'*30)\n",
    "tl.Z_L = oo\n",
    "\n",
    "Gamma_L = tl.reflection()\n",
    "display(Math('\\\\Gamma_L ='+ latex(Gamma_L)))\n",
    "\n",
    "Z_in = tl.inputImp()\n",
    "display(Math('Z_{in} ='+ latex(Z_in)))\n",
    "\n",
    "tl.Z_L = Symbol('Z_L')\n",
    "\n",
    "print('lossless', '-'*20)\n",
    "tl.isLossless()\n",
    "\n",
    "gamma = tl.propConst()\n",
    "display(Math('\\\\gamma ='+ latex(gamma)))\n",
    "\n",
    "Z_0 = tl.charImp()\n",
    "display(Math('Z_0 ='+ latex(Z_0)))\n",
    "\n",
    "Gamma_L = tl.reflection()\n",
    "display(Math('\\\\Gamma_L ='+ latex(Gamma_L)))\n",
    "\n",
    "T = tl.transmission()\n",
    "display(Math('T ='+ latex(T)))\n",
    "\n",
    "Z_in = tl.inputImp()\n",
    "display(Math('Z_{in} ='+ latex(Z_in)))\n",
    "\n",
    "print('open load', '-'*30)\n",
    "tl.Z_L = oo\n",
    "\n",
    "Gamma_L = tl.reflection()\n",
    "display(Math('\\\\Gamma_L ='+ latex(Gamma_L)))\n",
    "\n",
    "Z_in = tl.inputImp()\n",
    "display(Math('Z_{in} ='+ latex(Z_in)))\n",
    "\n",
    "tl.Z_L"
   ]
  },
  {
   "cell_type": "code",
   "execution_count": 5,
   "metadata": {
    "collapsed": false
   },
   "outputs": [],
   "source": []
  },
  {
   "cell_type": "code",
   "execution_count": null,
   "metadata": {
    "collapsed": false
   },
   "outputs": [],
   "source": []
  }
 ],
 "metadata": {
  "kernelspec": {
   "display_name": "Python 3",
   "language": "python",
   "name": "python3"
  },
  "language_info": {
   "codemirror_mode": {
    "name": "ipython",
    "version": 3
   },
   "file_extension": ".py",
   "mimetype": "text/x-python",
   "name": "python",
   "nbconvert_exporter": "python",
   "pygments_lexer": "ipython3",
   "version": "3.4.3"
  }
 },
 "nbformat": 4,
 "nbformat_minor": 0
}
