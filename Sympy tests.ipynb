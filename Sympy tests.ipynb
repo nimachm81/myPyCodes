{
 "cells": [
  {
   "cell_type": "code",
   "execution_count": 16,
   "metadata": {
    "collapsed": false
   },
   "outputs": [
    {
     "name": "stdout",
     "output_type": "stream",
     "text": [
      "0.0 , 0.0\n",
      "0.0 , 0.0\n"
     ]
    }
   ],
   "source": [
    "\n",
    "class Point2D:\n",
    "    def __init__(self, x, y):\n",
    "        self.x = x\n",
    "        self.y = y\n",
    "        return\n",
    "        \n",
    "    def __add__(self, p2):\n",
    "        x = self.x + p2.x\n",
    "        y = self.y + p2.y\n",
    "        return Point2D(x, y)\n",
    "        \n",
    "    def __sub__(self, p2):\n",
    "        x = self.x - p2.x\n",
    "        y = self.y - p2.y\n",
    "        return Point2D(x, y)\n",
    "        \n",
    "    def __neg__(self):\n",
    "        x = -self.x\n",
    "        y = -self.y\n",
    "        return Point2D(x, y)\n",
    "        \n",
    "    def __iadd__(self, p2):\n",
    "        self.x += p2.x\n",
    "        self.y += p2.y\n",
    "        return self\n",
    "    \n",
    "    def __mul__(self, d):\n",
    "        x = self.x * d\n",
    "        y = self.y * d\n",
    "        return Point2D(x, y)\n",
    "\n",
    "    def __truediv__(self, d):\n",
    "        x = self.x / d\n",
    "        y = self.y / d\n",
    "        return Point2D(x, y)\n",
    "        \n",
    "a = Point2D(1.0, 2.0)\n",
    "b = Point2D(3.0, -1.0)\n",
    "\n",
    "b = -a\n",
    "a += b\n",
    "print(a.x, ',', a.y)\n",
    "\n",
    "c = a/2.0\n",
    "print(c.x, ',', c.y)\n"
   ]
  },
  {
   "cell_type": "markdown",
   "metadata": {},
   "source": [
    "# sympy"
   ]
  },
  {
   "cell_type": "code",
   "execution_count": 3,
   "metadata": {
    "collapsed": false
   },
   "outputs": [
    {
     "name": "stdout",
     "output_type": "stream",
     "text": [
      "[ 0.65437954  0.64761033  0.34644418 -0.45509958         nan]\n",
      "[ 0.70927726  0.83924184  0.36027319 -0.69270391         nan]\n",
      "[ 0.71003388  0.92938074  0.36119242 -0.92356202  0.98295843]\n",
      "------------------------------------------------------------\n",
      "[ 0.65437954  0.64761033  0.34644418 -0.45509958  0.99779828]\n",
      "[ 0.71003388  0.92938074  0.36119242 -0.92356202  0.98295843]\n",
      "------------------------------------------------------------\n",
      "[ 0.70467266  0.7932322   0.36630836 -0.55519606  0.94139836]\n",
      "[ 0.71003388  0.92938074  0.36119242 -0.92356202  0.98295843]\n",
      "                           10                            9\n",
      "(-4.759e-06 + 2.324e-05j) x  + (0.0001943 + -0.001113j) x\n",
      "                           8                        7\n",
      " + (-0.003268 + 0.02262j) x + (0.02944 + -0.2548j) x\n",
      "                       6                      5                      4\n",
      " + (-0.1556 + 1.746j) x + (0.5012 + -7.514j) x + (-0.9812 + 20.28j) x\n",
      "                      3                     2\n",
      " + (1.079 + -32.91j) x + (-0.6023 + 28.7j) x + (0.1248 + -10.17j) x + (1 + 0.9922j)\n",
      "[  0.00000000e+00 +0.00000000e+00j   1.32116540e-14 -2.27595720e-14j\n",
      "  -2.27595720e-14 +8.97060204e-14j  -9.63784608e-13 +1.57801550e-12j\n",
      "  -5.87346838e-12 +7.93753951e-12j  -2.22046825e-11 +3.13453152e-11j\n",
      "  -6.60766442e-11 +9.12394604e-11j  -1.65323866e-10 +2.41379361e-10j\n",
      "  -3.80884546e-10 +5.71534597e-10j  -8.15539525e-10 +1.07972464e-09j\n",
      "  -1.60237923e-09 +2.01390393e-09j]\n",
      "1 2\n"
     ]
    }
   ],
   "source": [
    "import scipy as sp\n",
    "import numpy as np\n",
    "from scipy.interpolate import *\n",
    "\n",
    "def fx(x):\n",
    "    return np.cos(-x**2/8.0)\n",
    "\n",
    "x = np.linspace(0, 10, 11)\n",
    "y = fx(x)\n",
    "f = interp1d(x, y, bounds_error=False)\n",
    "f2 = interp1d(x, y, kind='cubic', bounds_error=False)\n",
    "\n",
    "x_new = np.array([2.5, 7.3, 3.1, 8.5, 10.1])\n",
    "print(f(x_new))\n",
    "print(f2(x_new))\n",
    "print(fx(x_new))\n",
    "\n",
    "print('-'*60)\n",
    "print(sp.interp(x_new, x, y))\n",
    "print(fx(x_new))\n",
    "\n",
    "P = PchipInterpolator(x, y, True)\n",
    "\n",
    "print('-'*60)\n",
    "print(P(x_new))\n",
    "print(fx(x_new))\n",
    "\n",
    "y = fx(x) + 1j*fx(x+1)\n",
    "lagr = lagrange(x, y)\n",
    "print(lagr)\n",
    "print(np.polyval(lagr, x)-y)\n",
    "\n",
    "x[-3:-1]\n",
    "\n",
    "a = 1\n",
    "b = 2\n",
    "print(a, b)"
   ]
  },
  {
   "cell_type": "code",
   "execution_count": 25,
   "metadata": {
    "collapsed": false
   },
   "outputs": [
    {
     "data": {
      "image/png": "[encoded data removed]",
      "text/latex": [
       "$$- \\frac{25}{7} + \\frac{16 \\sqrt{3}}{7}$$"
      ],
      "text/plain": [
       "            ___\n",
       "  25   16⋅╲╱ 3 \n",
       "- ── + ────────\n",
       "  7       7    "
      ]
     },
     "execution_count": 25,
     "metadata": {},
     "output_type": "execute_result"
    }
   ],
   "source": [
    "from sympy import *\n",
    "\n",
    "#nsimplify(6.0714, [pi], tolerance=0.01)\n",
    "nsimplify(0.38778, [sqrt(3)], tolerance=0.001)"
   ]
  },
  {
   "cell_type": "code",
   "execution_count": 1,
   "metadata": {
    "collapsed": false
   },
   "outputs": [
    {
     "data": {
      "text/latex": [
       "$$x A{\\left (\\alpha \\right )}$$"
      ],
      "text/plain": [
       "<IPython.core.display.Math at 0x7fa773658c50>"
      ]
     },
     "metadata": {},
     "output_type": "display_data"
    },
    {
     "data": {
      "text/latex": [
       "$$\\left(\\Delta x + x\\right) A{\\left (\\Delta \\alpha + \\alpha \\right )}$$"
      ],
      "text/plain": [
       "<IPython.core.display.Math at 0x7fa788398490>"
      ]
     },
     "metadata": {},
     "output_type": "display_data"
    },
    {
     "data": {
      "image/png": "[encoded data removed]",
      "text/latex": [
       "$$\\left(\\Delta x + x\\right) A{\\left (\\Delta \\alpha + \\alpha \\right )}$$"
      ],
      "text/plain": [
       "(\\Delta x + x)⋅A(\\Delta \\alpha + \\alpha)"
      ]
     },
     "execution_count": 1,
     "metadata": {},
     "output_type": "execute_result"
    }
   ],
   "source": [
    "from sympy import *\n",
    "from IPython.display import display, Math, Latex\n",
    "init_printing()\n",
    "\n",
    "alpha = Symbol('\\\\alpha')\n",
    "x = Symbol('x')\n",
    "A = Function('A')(alpha)\n",
    "dx = Symbol('\\\\Delta x')\n",
    "dalpha = Symbol('\\\\Delta \\\\alpha')\n",
    "\n",
    "expr = A*x\n",
    "display(Math(latex(expr)))\n",
    "\n",
    "expr = expr.subs([(alpha, alpha + dalpha), (x, x + dx)])\n",
    "display(Math(latex(expr)))\n",
    "\n",
    "expr.subs(A, x)"
   ]
  },
  {
   "cell_type": "code",
   "execution_count": 6,
   "metadata": {
    "collapsed": false
   },
   "outputs": [
    {
     "name": "stdout",
     "output_type": "stream",
     "text": [
      "[2, array([[ 0.40824829],\n",
      "       [-0.81649658],\n",
      "       [ 0.40824829]])]\n"
     ]
    },
    {
     "data": {
      "text/plain": [
       "array([[ -1.55431223e-15],\n",
       "       [ -8.88178420e-16],\n",
       "       [  0.00000000e+00]])"
      ]
     },
     "execution_count": 6,
     "metadata": {},
     "output_type": "execute_result"
    }
   ],
   "source": [
    "%reload_ext autoreload\n",
    "%autoreload\n",
    "\n",
    "from Electromagnetics.Misc import *\n",
    "from cmath import *\n",
    "\n",
    "import numpy as np\n",
    "\n",
    "a = np.array([[1.0, 2.0, 3.0], [4.0, 5.0, 6.0], [7.0, 8.0, 9.0]])\n",
    "a += a*1j\n",
    "\n",
    "print null(a)\n",
    "\n",
    "b = null(a)[1]\n",
    "\n",
    "a.dot(b)"
   ]
  },
  {
   "cell_type": "code",
   "execution_count": 7,
   "metadata": {
    "collapsed": false
   },
   "outputs": [
    {
     "data": {
      "image/png": "[encoded data removed]",
      "text/latex": [
       "$$\\int_{0}^{\\infty} \\frac{t}{e^{t - x} + 1}\\, dt$$"
      ],
      "text/plain": [
       "∞              \n",
       "⌠              \n",
       "⎮     t        \n",
       "⎮ ────────── dt\n",
       "⎮  t - x       \n",
       "⎮ ℯ      + 1   \n",
       "⌡              \n",
       "0              "
      ]
     },
     "execution_count": 7,
     "metadata": {},
     "output_type": "execute_result"
    }
   ],
   "source": [
    "from sympy import *\n",
    "init_printing()\n",
    "x, y, z, t = symbols('x y z t')\n",
    "\n",
    "I = integrate(t/(1+exp(t-x)), (t, 0, oo))\n",
    "\n",
    "I.simplify()\n",
    "\n"
   ]
  },
  {
   "cell_type": "code",
   "execution_count": 11,
   "metadata": {
    "collapsed": false
   },
   "outputs": [
    {
     "name": "stdout",
     "output_type": "stream",
     "text": [
      "[1.0, 1.0, 1.0, 1.0, 1.0, 1.0]\n",
      "[1.0, -1.0, 1.0, -1.0, 1.0, -1.0]\n"
     ]
    }
   ],
   "source": [
    "from sympy import *\n",
    "from sympy.mpmath import *\n",
    "init_printing()\n",
    "mp.dps = 15; mp.pretty = True\n",
    "print ([legendre(n, 1) for n in range(6)])\n",
    "\n",
    "nprint([legendre(n, -1) for n in range(6)])\n"
   ]
  },
  {
   "cell_type": "code",
   "execution_count": 6,
   "metadata": {
    "collapsed": false
   },
   "outputs": [
    {
     "data": {
      "image/png": "[encoded data removed]",
      "text/latex": [
       "$$\\frac{m}{x^{2} - 1} \\left(2 m x P_{m - 1}\\left(x\\right) - m P_{m}\\left(x\\right) - m P_{m - 2}\\left(x\\right) - x P_{m - 1}\\left(x\\right) + P_{m - 2}\\left(x\\right)\\right)$$"
      ],
      "text/plain": [
       "m⋅(2⋅m⋅x⋅legendre(m - 1, x) - m⋅legendre(m, x) - m⋅legendre(m - 2, x) - x⋅lege\n",
       "──────────────────────────────────────────────────────────────────────────────\n",
       "                                                       2                      \n",
       "                                                      x  - 1                  \n",
       "\n",
       "ndre(m - 1, x) + legendre(m - 2, x))\n",
       "────────────────────────────────────\n",
       "                                    \n",
       "                                    "
      ]
     },
     "execution_count": 6,
     "metadata": {},
     "output_type": "execute_result"
    }
   ],
   "source": [
    "from sympy import *\n",
    "init_printing()\n",
    "\n",
    "x, y = symbols('x y')\n",
    "m, n = symbols('m n')\n",
    "\n",
    "integrate(legendre(m,x)*legendre(n,x),(x,-1,1))\n",
    "\n",
    "simplify(diff(simplify((1-x**2)*diff(legendre(m,x), x)), x) + m*(m+1)*legendre(m,x))\n",
    "# result: 0\n"
   ]
  },
  {
   "cell_type": "code",
   "execution_count": 13,
   "metadata": {
    "collapsed": false
   },
   "outputs": [
    {
     "data": {
      "image/png": "[encoded data removed]",
      "text/latex": [
       "$$- i k f{\\left (x,y \\right )} e^{i \\left(- k z + \\omega t\\right)}$$"
      ],
      "text/plain": [
       "              ⅈ⋅(-k⋅z + ω⋅t)\n",
       "-ⅈ⋅k⋅f(x, y)⋅ℯ              "
      ]
     },
     "execution_count": 13,
     "metadata": {},
     "output_type": "execute_result"
    }
   ],
   "source": [
    "from sympy import *\n",
    "init_printing()\n",
    "\n",
    "x, y ,z ,t = symbols('x y z t')\n",
    "k = Symbol('k')\n",
    "w = Symbol('omega')\n",
    "\n",
    "f = Function('f')(x,y)\n",
    "g = f*exp(I*(w*t-k*z))\n",
    "\n",
    "diff(g, z)"
   ]
  },
  {
   "cell_type": "code",
   "execution_count": 7,
   "metadata": {
    "collapsed": false
   },
   "outputs": [
    {
     "data": {
      "text/plain": [
       "array([ 1.+0.j,  1.+0.j,  1.+0.j,  1.+0.j,  1.+0.j,  1.+0.j])"
      ]
     },
     "execution_count": 7,
     "metadata": {},
     "output_type": "execute_result"
    }
   ],
   "source": [
    "import numpy\n",
    "import scipy\n",
    "\n",
    "\n",
    "id = numpy.eye(100)\n",
    "vals, vecs = scipy.sparse.linalg.eigs(id, k=6)\n",
    "\n",
    "vals"
   ]
  },
  {
   "cell_type": "code",
   "execution_count": 13,
   "metadata": {
    "collapsed": false
   },
   "outputs": [
    {
     "name": "stdout",
     "output_type": "stream",
     "text": [
      "8\n",
      "100000.0\n",
      "[0.0, 1.0, 5.656854249492381, 15.588457268119896, 32.0, 55.90169943749474, 88.18163074019441, 129.64181424216494, 181.01933598375618, 243.0]\n"
     ]
    }
   ],
   "source": [
    "from multiprocessing import *\n",
    "\n",
    "def f(x):\n",
    "    return x**2.5\n",
    "\n",
    "if __name__ == '__main__':\n",
    "    print cpu_count()\n",
    "    pool = Pool(processes=8)              # start 4 worker processes\n",
    "    result = pool.apply_async(f, [100])    # evaluate \"f(10)\" asynchronously\n",
    "    print result.get(timeout=1)           # prints \"100\" unless your computer is *very* slow\n",
    "    print pool.map(f, range(10))          # prints \"[0, 1, 4,..., 81]\""
   ]
  },
  {
   "cell_type": "code",
   "execution_count": 10,
   "metadata": {
    "collapsed": false
   },
   "outputs": [
    {
     "name": "stdout",
     "output_type": "stream",
     "text": [
      "Populating the interactive namespace from numpy and matplotlib\n"
     ]
    },
    {
     "data": {
      "text/plain": [
       "[<matplotlib.lines.Line2D at 0x7f746ae09050>]"
      ]
     },
     "execution_count": 10,
     "metadata": {},
     "output_type": "execute_result"
    },
    {
     "data": {
      "image/png": "[encoded data removed]",
      "text/plain": [
       "<matplotlib.figure.Figure at 0x7f749cfbdf90>"
      ]
     },
     "metadata": {},
     "output_type": "display_data"
    }
   ],
   "source": [
    "%pylab inline\n",
    "import numpy as np\n",
    "\n",
    "x = np.linspace(0,2*pi, 100)\n",
    "plot(x, sin(x))\n",
    "\n"
   ]
  },
  {
   "cell_type": "code",
   "execution_count": 11,
   "metadata": {
    "collapsed": false
   },
   "outputs": [
    {
     "name": "stdout",
     "output_type": "stream",
     "text": [
      "Populating the interactive namespace from numpy and matplotlib\n"
     ]
    },
    {
     "data": {
      "image/jpeg": "[encoded data removed]",
      "text/plain": [
       "<IPython.core.display.Image at 0x7f746ae18710>"
      ]
     },
     "metadata": {},
     "output_type": "display_data"
    },
    {
     "data": {
      "image/png": "[encoded data removed]",
      "text/plain": [
       "<IPython.core.display.Image at 0x7f746cfb5810>"
      ]
     },
     "metadata": {},
     "output_type": "display_data"
    }
   ],
   "source": [
    "%pylab inline\n",
    "\n",
    "from IPython.display import Image\n",
    "\n",
    "\n",
    "img = Image(filename='images/car.jpg')\n",
    "\n",
    "display(img)\n",
    "\n",
    "img = Image(filename='images/sample.png')\n",
    "\n",
    "display(img)"
   ]
  },
  {
   "cell_type": "code",
   "execution_count": 4,
   "metadata": {
    "collapsed": false
   },
   "outputs": [
    {
     "data": {
      "text/html": [
       "<div style=\"max-height:1000px;max-width:1500px;overflow:auto;\">\n",
       "<table border=\"1\" class=\"dataframe\">\n",
       "  <thead>\n",
       "    <tr style=\"text-align: right;\">\n",
       "      <th></th>\n",
       "      <th>Date</th>\n",
       "      <th>Open</th>\n",
       "      <th>High</th>\n",
       "      <th>Low</th>\n",
       "      <th>Close</th>\n",
       "      <th>Volume</th>\n",
       "      <th>Adj Close</th>\n",
       "    </tr>\n",
       "  </thead>\n",
       "  <tbody>\n",
       "    <tr>\n",
       "      <th>0</th>\n",
       "      <td> 2012-06-01</td>\n",
       "      <td> 569.16</td>\n",
       "      <td> 590.00</td>\n",
       "      <td> 548.50</td>\n",
       "      <td> 584.00</td>\n",
       "      <td> 14077000</td>\n",
       "      <td> 581.50</td>\n",
       "    </tr>\n",
       "    <tr>\n",
       "      <th>1</th>\n",
       "      <td> 2012-05-01</td>\n",
       "      <td> 584.90</td>\n",
       "      <td> 596.76</td>\n",
       "      <td> 522.18</td>\n",
       "      <td> 577.73</td>\n",
       "      <td> 18827900</td>\n",
       "      <td> 575.26</td>\n",
       "    </tr>\n",
       "    <tr>\n",
       "      <th>2</th>\n",
       "      <td> 2012-04-02</td>\n",
       "      <td> 601.83</td>\n",
       "      <td> 644.00</td>\n",
       "      <td> 555.00</td>\n",
       "      <td> 583.98</td>\n",
       "      <td> 28759100</td>\n",
       "      <td> 581.48</td>\n",
       "    </tr>\n",
       "    <tr>\n",
       "      <th>3</th>\n",
       "      <td> 2012-03-01</td>\n",
       "      <td> 548.17</td>\n",
       "      <td> 621.45</td>\n",
       "      <td> 516.22</td>\n",
       "      <td> 599.55</td>\n",
       "      <td> 26486000</td>\n",
       "      <td> 596.99</td>\n",
       "    </tr>\n",
       "    <tr>\n",
       "      <th>4</th>\n",
       "      <td> 2012-02-01</td>\n",
       "      <td> 458.41</td>\n",
       "      <td> 547.61</td>\n",
       "      <td> 453.98</td>\n",
       "      <td> 542.44</td>\n",
       "      <td> 22001000</td>\n",
       "      <td> 540.12</td>\n",
       "    </tr>\n",
       "    <tr>\n",
       "      <th>5</th>\n",
       "      <td> 2012-01-03</td>\n",
       "      <td> 409.40</td>\n",
       "      <td> 458.24</td>\n",
       "      <td> 409.00</td>\n",
       "      <td> 456.48</td>\n",
       "      <td> 12949100</td>\n",
       "      <td> 454.53</td>\n",
       "    </tr>\n",
       "  </tbody>\n",
       "</table>\n",
       "<p>6 rows × 7 columns</p>\n",
       "</div>"
      ],
      "text/plain": [
       "         Date    Open    High     Low   Close    Volume  Adj Close\n",
       "0  2012-06-01  569.16  590.00  548.50  584.00  14077000     581.50\n",
       "1  2012-05-01  584.90  596.76  522.18  577.73  18827900     575.26\n",
       "2  2012-04-02  601.83  644.00  555.00  583.98  28759100     581.48\n",
       "3  2012-03-01  548.17  621.45  516.22  599.55  26486000     596.99\n",
       "4  2012-02-01  458.41  547.61  453.98  542.44  22001000     540.12\n",
       "5  2012-01-03  409.40  458.24  409.00  456.48  12949100     454.53\n",
       "\n",
       "[6 rows x 7 columns]"
      ]
     },
     "execution_count": 4,
     "metadata": {},
     "output_type": "execute_result"
    }
   ],
   "source": [
    "import pandas\n",
    "\n",
    "#pandas.core.format.set_printoptions(notebook_repr_html=True)\n",
    "\n",
    "df = pandas.read_csv('data.csv')\n",
    "\n",
    "df"
   ]
  },
  {
   "cell_type": "code",
   "execution_count": 2,
   "metadata": {
    "collapsed": false
   },
   "outputs": [
    {
     "name": "stdout",
     "output_type": "stream",
     "text": [
      "Writing data.csv\n"
     ]
    }
   ],
   "source": [
    "%%file data.csv\n",
    "Date,Open,High,Low,Close,Volume,Adj Close\n",
    "2012-06-01,569.16,590.00,548.50,584.00,14077000,581.50\n",
    "2012-05-01,584.90,596.76,522.18,577.73,18827900,575.26\n",
    "2012-04-02,601.83,644.00,555.00,583.98,28759100,581.48\n",
    "2012-03-01,548.17,621.45,516.22,599.55,26486000,596.99\n",
    "2012-02-01,458.41,547.61,453.98,542.44,22001000,540.12\n",
    "2012-01-03,409.40,458.24,409.00,456.48,12949100,454.53"
   ]
  },
  {
   "cell_type": "code",
   "execution_count": null,
   "metadata": {
    "collapsed": false
   },
   "outputs": [],
   "source": []
  },
  {
   "cell_type": "code",
   "execution_count": 5,
   "metadata": {
    "collapsed": false
   },
   "outputs": [
    {
     "data": {
      "text/latex": [
       "$$A = \\left[\\begin{matrix}80 & 51 & 92 & 38 & 62 & 74\\\\31 & 28 & 97 & 37 & 37 & 70\\\\30 & 28 & 38 & 76 & 21 & 25\\\\93 & 24 & 97 & 20 & 39 & 90\\\\77 & 46 & 78 & 51 & 64 & 97\\\\67 & 56 & 85 & 53 & 12 & 64\\end{matrix}\\right]$$"
      ],
      "text/plain": [
       "<IPython.core.display.Math at 0x7ff2d82d0250>"
      ]
     },
     "metadata": {},
     "output_type": "display_data"
    },
    {
     "data": {
      "text/latex": [
       "$$b = \\left[\\begin{matrix}73\\\\35\\\\14\\\\66\\\\43\\\\21\\end{matrix}\\right]$$"
      ],
      "text/plain": [
       "<IPython.core.display.Math at 0x7ff2d82d0250>"
      ]
     },
     "metadata": {},
     "output_type": "display_data"
    },
    {
     "data": {
      "text/latex": [
       "$$A = \\left[\\begin{matrix}80 & 51 & 92 & 38 & 62 & 74\\\\31 & 28 & 97 & 37 & 37 & 70\\\\30 & 28 & 38 & 76 & 21 & 25\\\\93 & 24 & 97 & 20 & 39 & 90\\\\77 & 46 & 78 & 51 & 64 & 97\\\\67 & 56 & 85 & 53 & 12 & 64\\end{matrix}\\right]$$"
      ],
      "text/plain": [
       "<IPython.core.display.Math at 0x7ff2dcdb6410>"
      ]
     },
     "metadata": {},
     "output_type": "display_data"
    },
    {
     "data": {
      "text/latex": [
       "$$b = \\left[\\begin{matrix}73\\\\35\\\\14\\\\66\\\\43\\\\21\\end{matrix}\\right]$$"
      ],
      "text/plain": [
       "<IPython.core.display.Math at 0x7ff2dcdb7390>"
      ]
     },
     "metadata": {},
     "output_type": "display_data"
    },
    {
     "data": {
      "text/latex": [
       "$$A2 = \\left[\\begin{matrix}3852536330603984343477231989557269019541248181679497749706185223768249473051768190850974070029764971825915299936202428906425807340825529165649538204127656765849454836553913178303514913635954331378919521164061958098847780141518462717707495275238094753010340585381719962646481976558393182935262495878515894906239941855224498591059257042287232152927507693572860762392209128133759946181807228515435025006708105241201549776319554090102231999348829371248324157747837335932056651144103359325590235886813496084170436559190945310769511385567065044440159827640610339981076156587810750475742153470004889332594268696745727823221928846514443435250108677584289118733290419498336591988480055434386257433617004416473553223181817934027433183608955641790400017235494965854050351024182645397328725843829593998752231939721775338648021559472934726043736140764256329954871795005429197301340279531395120007650993248841294809465977458015899287291049220342407983200828146426314752000000000000000000000000000000000000000000000000000000000000000000000000000000000000000000000000000000000000000000000000000000000000000000000000000000000000000000000000000 & 0 & 0 & 0 & 0 & 0\\\\0 & -178143953092296458754553016501624103363446373083291444818620565527053295632124424933568883462094492006645016265100338132495723145652008799786117771770188660301275172483579528087283357696996237393191164347118693328812096332075915652557480565670609188312594013736180516040573356950194629866296146324983710113136788499537018679447509221884581254545028256767836987434293846213737145482713293826921532727121958313025350513575225987501657556539154266836859583177733228844007266336112640000000000000000000000000000000000000000000000000000000000000000000000000000000000000 & 0 & 0 & 0 & 0\\\\0 & 0 & 29868288212147928063673783078576267973402770330459749725072471026344748382049297310287766467437631440083006288121646261789419708539518099758097463920037317374538680588376272746277942963509300632144904794041365926456607431760940251155592642560000000000000000000000000000000000000000000 & 0 & 0 & 0\\\\0 & 0 & 0 & -18769950196196350641100891628337543645336673511142843959251432911643759247779270937848218047663037258164048020894167450255360000000000000000000000 & 0 & 0\\\\0 & 0 & 0 & 0 & 6204428115077613819045548358258265517286269019412613662609986551808000000000000 & 0\\\\0 & 0 & 0 & 0 & 0 & 77716003626040982995854309583645253517390643200000000\\end{matrix}\\right]$$"
      ],
      "text/plain": [
       "<IPython.core.display.Math at 0x7ff2dcdb6410>"
      ]
     },
     "metadata": {},
     "output_type": "display_data"
    },
    {
     "data": {
      "text/latex": [
       "$$b2 = \\left[\\begin{matrix}3515439401676135713422974190471007980331388965782541696606894016688527644159738474151513838902160536791147711191784716377113549198503295363655203611266486798837627538355445775201957358692808327383264063062206536765198599379135597229908089438654761462121935784160819465914914803609533779428427027489145754101943946942892354964341572051087099339546350770385235445682890829422055950890899096020334460318621146032596414170891593107218286699405806801264095793944901569038001694168994315384601090246717315176805523360261737596077179139329946853051645842722056935232731992886377309809114715041379461515992270185780476638690010072444429634665724168295663820844127507792232140189488050583877459908175516530032117316153408864800032780043172023133740015727389156341820945309566663925062462332494504523861411644996119996516319673019052937514909228447383901083820512942454142537473005072398047006981531339567681513637704430439508099653082413562447284670755683614012211200000000000000000000000000000000000000000000000000000000000000000000000000000000000000000000000000000000000000000000000000000000000000000000000000000000000000000000000000\\\\-756909057144810446908571238550147935383383679261329355830254299659710512549238831280717562509657932653423437848681254584200341134788504763886388104638130878366571294315664155757804858196645621700963975981687923096621957101384770602672148078721859980690839512080888383783923216176851234636766630819354155260672242486651976179746624918477735224167039634218427260722341076477183622688311415349590730858788290252611504458286240918064705854794585655756004298782478058821275183218688000000000000000000000000000000000000000000000000000000000000000000000000000000000000000\\\\-6680035563009715512349809043996524976306941701464696280508063068192006413574779816365629143522243471012455541893976253545747751163230727925148046206881224912670752135856673430552707790684980307189200320707496413203933389058141053940693729280000000000000000000000000000000000000000000\\\\-5536898346219020788931007046832937558040113095763250930962610880740785087580704198732387165842899286416492488043230312529920000000000000000000000\\\\22632900614046275898349848650738360024020001394191285005060682022912000000000000\\\\11354601397114817959514211670202979376221388800000000\\end{matrix}\\right]$$"
      ],
      "text/plain": [
       "<IPython.core.display.Math at 0x7ff2dcdb7390>"
      ]
     },
     "metadata": {},
     "output_type": "display_data"
    },
    {
     "data": {
      "text/latex": [
       "$$x = \\left[\\begin{matrix}\\frac{73}{80}\\\\\\frac{2800}{659}\\\\- \\frac{4613}{20626}\\\\\\frac{113443}{384569}\\\\\\frac{132291736}{36265549}\\\\\\frac{2284729587}{15637717843}\\end{matrix}\\right]$$"
      ],
      "text/plain": [
       "<IPython.core.display.Math at 0x7ff2dcdb6410>"
      ]
     },
     "metadata": {},
     "output_type": "display_data"
    },
    {
     "data": {
      "text/latex": [
       "$$cond = \\begin{bmatrix}\\end{bmatrix}$$"
      ],
      "text/plain": [
       "<IPython.core.display.Math at 0x7ff2dcdb7390>"
      ]
     },
     "metadata": {},
     "output_type": "display_data"
    },
    {
     "data": {
      "text/latex": [
       "$$A*x-b = \\left[\\begin{matrix}\\frac{658557032454483922438395076164814}{1482218857860547926653649635861}\\\\\\frac{29250025819611089796011122207418523}{118577508628843834132291970868880}\\\\\\frac{2686031833817531134899618779452663}{11857750862884383413229197086888}\\\\\\frac{30884328327649011075333779671762049}{118577508628843834132291970868880}\\\\\\frac{55487762739315873250089250152752601}{118577508628843834132291970868880}\\\\\\frac{38872417962293084178160990547949071}{118577508628843834132291970868880}\\end{matrix}\\right]$$"
      ],
      "text/plain": [
       "<IPython.core.display.Math at 0x7ff2dcdb6410>"
      ]
     },
     "metadata": {},
     "output_type": "display_data"
    },
    {
     "data": {
      "text/latex": [
       "$$A2*x-b2 = \\left[\\begin{matrix}0\\\\0\\\\0\\\\0\\\\0\\\\0\\end{matrix}\\right]$$"
      ],
      "text/plain": [
       "<IPython.core.display.Math at 0x7ff2dcdb7390>"
      ]
     },
     "metadata": {},
     "output_type": "display_data"
    },
    {
     "data": {
      "text/latex": [
       "$$A^{-1}*b-x = \\left[\\begin{matrix}- \\frac{301052817419}{1251017427440}\\\\- \\frac{47916117617635}{10305256058537}\\\\\\frac{279890960104491}{322543568229718}\\\\- \\frac{2996992242973202}{6013781513164667}\\\\- \\frac{1587735703764072586}{567110422683490807}\\\\- \\frac{15898736527}{15637717843}\\end{matrix}\\right]$$"
      ],
      "text/plain": [
       "<IPython.core.display.Math at 0x7ff2d82d0d50>"
      ]
     },
     "metadata": {},
     "output_type": "display_data"
    },
    {
     "data": {
      "text/latex": [
       "$$A2^{-1}*b-x2 = \\left[\\begin{matrix}0\\\\0\\\\0\\\\0\\\\0\\\\0\\end{matrix}\\right]$$"
      ],
      "text/plain": [
       "<IPython.core.display.Math at 0x7ff2d82d0e90>"
      ]
     },
     "metadata": {},
     "output_type": "display_data"
    }
   ],
   "source": [
    "from sympy import *\n",
    "from VectorCalculus import *\n",
    "init_printing()\n",
    "from IPython.display import display, Math, Latex\n",
    "\n",
    "A = Matrix([[ 1, 0, 0,-1, 0,-1], \n",
    "            [ 1, 0, 1, 0, 0,-1],\n",
    "            [ 0,-1, 1, 0, 0,-1],\n",
    "            [ 0,-1, 1, 0, 1, 0],\n",
    "            [ 0,-1, 0,-1, 1, 0],\n",
    "            [ 1, 0, 0,-1, 1, 0]])\n",
    "A = randMatrix(6,6)\n",
    "display(Math(r'A = '+latex(A)))\n",
    "b = randMatrix(6,1)\n",
    "display(Math(r'b = '+latex(b)))\n",
    "\n",
    "A2, b2, x, cond = solve_linear_system_nontrivial(A, b)\n",
    "\n",
    "display(Math(r'A = '+latex(A)))\n",
    "display(Math(r'b = '+latex(b)))\n",
    "display(Math(r'A2 = '+latex(A2)))\n",
    "display(Math(r'b2 = '+latex(b2)))\n",
    "display(Math(r'x = '+latex(x)))\n",
    "display(Math(r'cond = '+latex(cond)))\n",
    "display(Math(r'A*x-b = '+latex(A*x-b)))\n",
    "display(Math(r'A2*x-b2 = '+latex(A2*x-b2)))\n",
    "\n",
    "display(Math('A^{-1}*b-x = '+latex(A.inv()*b-x)))\n",
    "display(Math('A2^{-1}*b-x2 = '+latex(A2.inv()*b2-x)))\n",
    "\n"
   ]
  },
  {
   "cell_type": "code",
   "execution_count": 11,
   "metadata": {
    "collapsed": false
   },
   "outputs": [
    {
     "data": {
      "text/latex": [
       "$$A = \\left[\\begin{matrix}1 & 0 & 0 & -1 & 0 & -1\\\\1 & 0 & 1 & 0 & 0 & -1\\\\0 & -1 & 1 & 0 & 0 & -1\\\\0 & -1 & 1 & 0 & 1 & 0\\\\0 & -1 & 0 & -1 & 1 & 0\\\\1 & 0 & 0 & -1 & 1 & 0\\end{matrix}\\right]$$"
      ],
      "text/plain": [
       "<IPython.core.display.Math at 0x7ff2d8174bd0>"
      ]
     },
     "metadata": {},
     "output_type": "display_data"
    },
    {
     "data": {
      "text/latex": [
       "$$b = \\left[\\begin{matrix}93\\\\42\\\\43\\\\27\\\\49\\\\51\\end{matrix}\\right]$$"
      ],
      "text/plain": [
       "<IPython.core.display.Math at 0x7ff2d8174bd0>"
      ]
     },
     "metadata": {},
     "output_type": "display_data"
    },
    {
     "data": {
      "text/latex": [
       "$$A = \\left[\\begin{matrix}1 & 0 & 0 & -1 & 0 & -1\\\\1 & 0 & 1 & 0 & 0 & -1\\\\0 & -1 & 1 & 0 & 0 & -1\\\\0 & -1 & 1 & 0 & 1 & 0\\\\0 & -1 & 0 & -1 & 1 & 0\\\\1 & 0 & 0 & -1 & 1 & 0\\end{matrix}\\right]$$"
      ],
      "text/plain": [
       "<IPython.core.display.Math at 0x7ff2d8174bd0>"
      ]
     },
     "metadata": {},
     "output_type": "display_data"
    },
    {
     "data": {
      "text/latex": [
       "$$b = \\left[\\begin{matrix}93\\\\42\\\\43\\\\27\\\\49\\\\51\\end{matrix}\\right]$$"
      ],
      "text/plain": [
       "<IPython.core.display.Math at 0x7ff2c3f57f10>"
      ]
     },
     "metadata": {},
     "output_type": "display_data"
    },
    {
     "data": {
      "text/latex": [
       "$$A2 = \\left[\\begin{matrix}1 & 0 & 0 & -1 & 0 & -1\\\\0 & -1 & 0 & -1 & 0 & -1\\\\0 & 0 & -1 & -1 & 0 & 0\\\\0 & 0 & 0 & 0 & 0 & 0\\\\0 & 0 & 0 & 0 & 1 & 1\\\\0 & 0 & 0 & 0 & 0 & 0\\end{matrix}\\right]$$"
      ],
      "text/plain": [
       "<IPython.core.display.Math at 0x7ff2d8174bd0>"
      ]
     },
     "metadata": {},
     "output_type": "display_data"
    },
    {
     "data": {
      "text/latex": [
       "$$b2 = \\left[\\begin{matrix}93\\\\94\\\\51\\\\-29\\\\-45\\\\3\\end{matrix}\\right]$$"
      ],
      "text/plain": [
       "<IPython.core.display.Math at 0x7ff2c3f57f10>"
      ]
     },
     "metadata": {},
     "output_type": "display_data"
    },
    {
     "data": {
      "text/latex": [
       "$$x = \\left[\\begin{matrix}x_{0} + x_{1} + 93\\\\- x_{0} - x_{1} - 94\\\\- x_{0} - 51\\\\x_{0}\\\\- x_{1} - 45\\\\x_{1}\\end{matrix}\\right]$$"
      ],
      "text/plain": [
       "<IPython.core.display.Math at 0x7ff2d8174bd0>"
      ]
     },
     "metadata": {},
     "output_type": "display_data"
    },
    {
     "data": {
      "text/latex": [
       "$$cond = \\begin{bmatrix}-29, & 3\\end{bmatrix}$$"
      ],
      "text/plain": [
       "<IPython.core.display.Math at 0x7ff2c3f57f10>"
      ]
     },
     "metadata": {},
     "output_type": "display_data"
    },
    {
     "data": {
      "text/latex": [
       "$$A*x-b = \\left[\\begin{matrix}0\\\\0\\\\0\\\\-29\\\\0\\\\-3\\end{matrix}\\right]$$"
      ],
      "text/plain": [
       "<IPython.core.display.Math at 0x7ff2c3f57f50>"
      ]
     },
     "metadata": {},
     "output_type": "display_data"
    },
    {
     "data": {
      "text/latex": [
       "$$A2*x-b2 = \\left[\\begin{matrix}0\\\\0\\\\0\\\\29\\\\0\\\\-3\\end{matrix}\\right]$$"
      ],
      "text/plain": [
       "<IPython.core.display.Math at 0x7ff2c3f43090>"
      ]
     },
     "metadata": {},
     "output_type": "display_data"
    }
   ],
   "source": [
    "from sympy import *\n",
    "import operator\n",
    "init_printing()\n",
    "\n",
    "\n",
    "def solve_linear_system_nontrivial(A0, b0, dummy='x'):\n",
    "    \"\"\"Finds the non-trivial solution of singular linear systems of equations\n",
    "    \"\"\"\n",
    "    if not isinstance(A0, Matrix):\n",
    "        raise TypeError(\"A should be a sympy Matrix\")\n",
    "    if not isinstance(b0, Matrix):\n",
    "        raise TypeError(\"b should be a sympy Matrix\")\n",
    "    M, N = A0.rows, A0.cols\n",
    "    A, b = A0.copy(), b0.copy()\n",
    "    #lower triangular part\n",
    "    for i in range(0,min(M,N)):\n",
    "        if A[i,i]==0:\n",
    "            for j in range(i+1,M):\n",
    "                if A[j,i]!=0:\n",
    "                    A.row_swap(i,j)\n",
    "                    b.row_swap(i,j)\n",
    "                    break\n",
    "        for j in range(i+1,M):\n",
    "            if A[j,i]!=0:\n",
    "                P = eye(M)\n",
    "                P[j,i] = A[j,i]\n",
    "                P[j,j] = -A[i,i]\n",
    "                A = P*A\n",
    "                b = P*b\n",
    "                #A[j*N] = A[i,i]*A.row(j)-A[j,i]*A.row(i)\n",
    "                #b[j] = A[i,i]*b[j]-A[j,i]*b[i]\n",
    "    #upper triangular part\n",
    "    for i in range(min(M,N)-1,0,-1):\n",
    "        if A[i,i]!=0:\n",
    "            for j in range(0,i):\n",
    "                if A[j,i]!=0:\n",
    "                    P = eye(M)\n",
    "                    P[j,i] = A[j,i]\n",
    "                    P[j,j] = -A[i,i]\n",
    "                    A = P*A\n",
    "                    b = P*b\n",
    "                    #S[j*N] = S[j,i]*S.row(i) - S[i,i]*S.row(j)\n",
    "                    #A[j*N] = A[i,i]*A.row(j)-A[j,i]*A.row(i)\n",
    "                    #b[j] = A[i,i]*b[j]-A[j,i]*b[i]\n",
    "    #zero diagonals\n",
    "    for i in range(min(M,N)-2,-1,-1):\n",
    "        if A[i,i]==0:\n",
    "            for j in range(i+1,min(M,N)):\n",
    "                if A[j,j]==0:\n",
    "                    if A[i,j]!=0:\n",
    "                        A.row_swap(i,j)\n",
    "                        b.row_swap(i,j)\n",
    "                        for k in range(0,j):\n",
    "                            if A[k,j]!=0:\n",
    "                                A[k*N] = A[j,j]*A.row(k)-A[k,j]*A.row(j)\n",
    "                                b[k] = A[j,j]*b[k]-A[k,j]*b[j]\n",
    "                        break\n",
    "    #solve\n",
    "    n_dummies = 0;\n",
    "    Conditions = []    #conditions expr_i==0\n",
    "    x = zeros(M, 1)    #solution\n",
    "    nnz = [0]*M    #number of nonzeros in each row\n",
    "    for i in range(0,M):\n",
    "        for j in range(0, N):\n",
    "            if A[i,j]!=0:\n",
    "                nnz[i]+=1\n",
    "    nnz_dict = dict(zip(range(0, M), nnz))\n",
    "    variable_solved = dict(zip(range(0, N), [[False, 0]]*N))\n",
    "    for (i, v) in sorted(nnz_dict.items(), key=operator.itemgetter(1)):\n",
    "        if v==0:\n",
    "            Conditions.append(b[i])\n",
    "        elif v==1:\n",
    "            for j in range(0, N):\n",
    "                if A[i,j]!=0:\n",
    "                    variable_solved[j] = [True, b[i]/A[i,j]]\n",
    "                    x[j] = b[i]/A[i,j]\n",
    "                    break\n",
    "        else:\n",
    "            x_not_set = []    #variables not solved yet\n",
    "            for j in range(0, N):\n",
    "                if A[i,j]!=0 and variable_solved[j][0]==False:\n",
    "                    x_not_set.append(j)\n",
    "            for k in range(1, len(x_not_set)):\n",
    "                x_dummy_next = dummy + str(n_dummies)    #next dummy variable\n",
    "                n_dummies += 1\n",
    "                variable_solved[x_not_set[k]] = [True, Symbol(x_dummy_next)]\n",
    "                x[x_not_set[k]] = Symbol(x_dummy_next)\n",
    "            if len(x_not_set)>0:\n",
    "                x_ind = x_not_set[0]    #the index to solve (x_not_set[i>0] are set to dummies)\n",
    "                x_val = b[x_ind]    #x_val:the value of the index to solve\n",
    "                for j in range(0, N):\n",
    "                    if A[i,j]!=0 and variable_solved[j][0]==True:\n",
    "                        x_val -= A[i,j]*variable_solved[j][1]\n",
    "                x_val /= A[i, x_ind]\n",
    "                variable_solved[x_ind] = [True, x_val]\n",
    "                x[x_ind] = x_val\n",
    "    return [A, b, x, Conditions]\n",
    "\n",
    "from IPython.display import display, Math, Latex\n",
    "A = Matrix([[ 1, 0, 0,-1, 0,-1], \n",
    "            [ 1, 0, 1, 0, 0,-1],\n",
    "            [ 0,-1, 1, 0, 0,-1],\n",
    "            [ 0,-1, 1, 0, 1, 0],\n",
    "            [ 0,-1, 0,-1, 1, 0],\n",
    "            [ 1, 0, 0,-1, 1, 0]])\n",
    "#A = randMatrix(6)\n",
    "display(Math(r'A = '+latex(A)))\n",
    "b = randMatrix(6,1)\n",
    "display(Math(r'b = '+latex(b)))\n",
    "\n",
    "A2, b2, x, cond = solve_linear_system_nontrivial(A, b)\n",
    "\n",
    "display(Math(r'A = '+latex(A)))\n",
    "display(Math(r'b = '+latex(b)))\n",
    "display(Math(r'A2 = '+latex(A2)))\n",
    "display(Math(r'b2 = '+latex(b2)))\n",
    "display(Math(r'x = '+latex(x)))\n",
    "display(Math(r'cond = '+latex(cond)))\n",
    "display(Math(r'A*x-b = '+latex(A*x-b)))\n",
    "display(Math(r'A2*x-b2 = '+latex(A2*x-b2)))\n",
    "\n",
    "#display(Math('A^{-1}*b-x = '+latex(A.inv()*b-x)))\n",
    "#display(Math('A2^{-1}*b-x2 = '+latex(A2.inv()*b2-x)))\n"
   ]
  },
  {
   "cell_type": "markdown",
   "metadata": {},
   "source": [
    "## Singular value decomposition (asymmertical circulator)"
   ]
  },
  {
   "cell_type": "code",
   "execution_count": 1,
   "metadata": {
    "collapsed": false
   },
   "outputs": [
    {
     "data": {
      "text/latex": [
       "$$c=\\left[\\begin{matrix}2 \\pi m\\\\\\pi \\left(2 n + 1\\right)\\\\2 \\pi p\\\\\\pi \\left(2 q + 1\\right)\\\\2 \\pi r\\\\\\pi \\left(2 s + 1\\right)\\end{matrix}\\right]$$"
      ],
      "text/plain": [
       "<IPython.core.display.Math at 0x7fa0d722a7d0>"
      ]
     },
     "metadata": {},
     "output_type": "display_data"
    },
    {
     "data": {
      "text/latex": [
       "$$A = \\left[\\begin{matrix}1 & 0 & 0 & -1 & 0 & -1\\\\1 & 0 & 1 & 0 & 0 & -1\\\\0 & -1 & 1 & 0 & 0 & -1\\\\0 & -1 & 1 & 0 & 1 & 0\\\\0 & -1 & 0 & -1 & 1 & 0\\\\1 & 0 & 0 & -1 & 1 & 0\\end{matrix}\\right]$$"
      ],
      "text/plain": [
       "<IPython.core.display.Math at 0x7fa0d722a7d0>"
      ]
     },
     "metadata": {},
     "output_type": "display_data"
    },
    {
     "data": {
      "text/latex": [
       "$$U = \\left[\\begin{matrix}1 & 0 & 0 & 0 & 0 & 0\\\\1 & -1 & 1 & 0 & 0 & 0\\\\1 & -1 & 0 & 0 & 0 & 0\\\\-1 & 1 & -1 & 0 & 1 & 0\\\\0 & -1 & 1 & 0 & -1 & 1\\\\-1 & 1 & 0 & -1 & 1 & 0\\end{matrix}\\right]$$"
      ],
      "text/plain": [
       "<IPython.core.display.Math at 0x7fa0d722a7d0>"
      ]
     },
     "metadata": {},
     "output_type": "display_data"
    },
    {
     "data": {
      "text/latex": [
       "$$V = \\left[\\begin{matrix}1 & 0 & 0 & 0 & 1 & -1\\\\0 & 1 & 0 & 0 & -1 & 1\\\\0 & 0 & 1 & 0 & 0 & 1\\\\0 & 0 & 0 & 0 & 0 & -1\\\\0 & 0 & 0 & 1 & -1 & 0\\\\0 & 0 & 0 & 0 & 1 & 0\\end{matrix}\\right]$$"
      ],
      "text/plain": [
       "<IPython.core.display.Math at 0x7fa0d71c2cd0>"
      ]
     },
     "metadata": {},
     "output_type": "display_data"
    },
    {
     "data": {
      "text/latex": [
       "$$S = \\left[\\begin{matrix}1 & 0 & 0 & 0 & 0 & 0\\\\0 & -1 & 0 & 0 & 0 & 0\\\\0 & 0 & -1 & 0 & 0 & 0\\\\0 & 0 & 0 & 1 & 0 & 0\\\\0 & 0 & 0 & 0 & 0 & 0\\\\0 & 0 & 0 & 0 & 0 & 0\\end{matrix}\\right]$$"
      ],
      "text/plain": [
       "<IPython.core.display.Math at 0x7fa0d722a7d0>"
      ]
     },
     "metadata": {},
     "output_type": "display_data"
    },
    {
     "data": {
      "text/latex": [
       "$$UAV-S = \\left[\\begin{matrix}0 & 0 & 0 & 0 & 0 & 0\\\\0 & 0 & 0 & 0 & 0 & 0\\\\0 & 0 & 0 & 0 & 0 & 0\\\\0 & 0 & 0 & 0 & 0 & 0\\\\0 & 0 & 0 & 0 & 0 & 0\\\\0 & 0 & 0 & 0 & 0 & 0\\end{matrix}\\right]$$"
      ],
      "text/plain": [
       "<IPython.core.display.Math at 0x7fa0d71c2d50>"
      ]
     },
     "metadata": {},
     "output_type": "display_data"
    },
    {
     "data": {
      "text/latex": [
       "$$SV^{-1}x = \\left[\\begin{matrix}2 \\pi m\\\\2 \\pi m + 2 \\pi p - \\pi \\left(2 n + 1\\right)\\\\2 \\pi m - \\pi \\left(2 n + 1\\right)\\\\- 2 \\pi m - 2 \\pi p + 2 \\pi r + \\pi \\left(2 n + 1\\right)\\\\2 \\pi p - 2 \\pi r - \\pi \\left(2 n + 1\\right) + \\pi \\left(2 s + 1\\right)\\\\- 2 \\pi m + 2 \\pi r + \\pi \\left(2 n + 1\\right) - \\pi \\left(2 q + 1\\right)\\end{matrix}\\right]$$"
      ],
      "text/plain": [
       "<IPython.core.display.Math at 0x7fa0d71c2d50>"
      ]
     },
     "metadata": {},
     "output_type": "display_data"
    },
    {
     "data": {
      "text/latex": [
       "$$p = n + r - s$$"
      ],
      "text/plain": [
       "<IPython.core.display.Math at 0x7fa0d71c2e90>"
      ]
     },
     "metadata": {},
     "output_type": "display_data"
    },
    {
     "data": {
      "text/latex": [
       "$$q = - m + n + r$$"
      ],
      "text/plain": [
       "<IPython.core.display.Math at 0x7fa0d71c2d50>"
      ]
     },
     "metadata": {},
     "output_type": "display_data"
    },
    {
     "data": {
      "text/latex": [
       "$$SV^{-1}x = \\left[\\begin{matrix}2 \\pi m\\\\\\pi \\left(2 m + 2 r - 2 s - 1\\right)\\\\\\pi \\left(2 m - 2 n - 1\\right)\\\\\\pi \\left(- 2 m + 2 s + 1\\right)\\\\0\\\\0\\end{matrix}\\right]$$"
      ],
      "text/plain": [
       "<IPython.core.display.Math at 0x7fa0d71c2d50>"
      ]
     },
     "metadata": {},
     "output_type": "display_data"
    },
    {
     "data": {
      "text/latex": [
       "$$x = \\left[\\begin{matrix}2 \\pi m\\\\- \\pi \\left(2 m + 2 r - 2 s - 1\\right)\\\\- \\pi \\left(2 m - 2 n - 1\\right)\\\\0\\\\\\pi \\left(- 2 m + 2 s + 1\\right)\\\\0\\end{matrix}\\right]$$"
      ],
      "text/plain": [
       "<IPython.core.display.Math at 0x7fa0d71c2d50>"
      ]
     },
     "metadata": {},
     "output_type": "display_data"
    },
    {
     "data": {
      "image/png": "[encoded data removed]",
      "text/latex": [
       "$$\\left[\\begin{matrix}1 & 0 & 0 & -1 & 0 & -1\\\\0 & -1 & 0 & -1 & 0 & -1\\\\0 & 0 & -1 & -1 & 0 & 0\\\\0 & 0 & 0 & 0 & 1 & 1\\\\0 & 0 & 0 & 0 & 0 & 0\\\\0 & 0 & 0 & 0 & 0 & 0\\end{matrix}\\right]$$"
      ],
      "text/plain": [
       "⎡1  0   0   -1  0  -1⎤\n",
       "⎢                    ⎥\n",
       "⎢0  -1  0   -1  0  -1⎥\n",
       "⎢                    ⎥\n",
       "⎢0  0   -1  -1  0  0 ⎥\n",
       "⎢                    ⎥\n",
       "⎢0  0   0   0   1  1 ⎥\n",
       "⎢                    ⎥\n",
       "⎢0  0   0   0   0  0 ⎥\n",
       "⎢                    ⎥\n",
       "⎣0  0   0   0   0  0 ⎦"
      ]
     },
     "execution_count": 1,
     "metadata": {},
     "output_type": "execute_result"
    }
   ],
   "source": [
    "from sympy import *\n",
    "from VectorCalculus import *\n",
    "from IPython.display import display, Math, Latex\n",
    "\n",
    "#x, y, z, u, v, w = symbols('x y z u v w')\n",
    "init_printing()\n",
    "\n",
    "\n",
    "m, n, p, q, r, s = symbols('m n p q r s')\n",
    "C = Matrix([2*m*pi, (2*n+1)*pi, 2*p*pi, (2*q+1)*pi, 2*r*pi, (2*s+1)*pi])\n",
    "display(Math(r'c=' + latex(C)))\n",
    "\n",
    "A = Matrix([[ 1, 0, 0,-1, 0,-1], \n",
    "            [ 1, 0, 1, 0, 0,-1],\n",
    "            [ 0,-1, 1, 0, 0,-1],\n",
    "            [ 0,-1, 1, 0, 1, 0],\n",
    "            [ 0,-1, 0,-1, 1, 0],\n",
    "            [ 1, 0, 0,-1, 1, 0]])\n",
    "\n",
    "display(Math(r'A = '+latex(A)))\n",
    "\n",
    "\n",
    "S, U, V = svd_symbolic(A)\n",
    "\n",
    "display(Math(r'U = ' + latex(U)))\n",
    "display(Math(r'V = ' + latex(V)))\n",
    "display(Math(r'S = ' + latex(S)))\n",
    "display(Math(r'UAV-S = ' + latex(U*A*V-S)))\n",
    "\n",
    "SV_x = U*C\n",
    "\n",
    "display(Math('SV^{-1}x = ' + latex(SV_x)))\n",
    "\n",
    "p_sub = solve(SV_x[4], p)[0]\n",
    "q_sub = solve(SV_x[5], q)[0]\n",
    "display(Math('p = ' + latex(p_sub)))\n",
    "display(Math('q = ' + latex(q_sub)))\n",
    "\n",
    "SV_x = simplify(SV_x.subs([(p, p_sub), (q, q_sub)]))\n",
    "display(Math('SV^{-1}x = ' + latex(SV_x)))\n",
    "\n",
    "S_inv = zeros(A.rows)\n",
    "for i in range(0,A.rows):\n",
    "    if S[i,i]!=0:\n",
    "        S_inv[i,i] = 1/S[i,i]\n",
    "\n",
    "x = V*S_inv*SV_x\n",
    "\n",
    "display(Math('x = ' + latex(x)))\n",
    "\n",
    "C = simplify(C.subs([(p, p_sub), (q, q_sub)]))\n",
    "simplify(A*x-C)\n",
    "\n",
    "U*A"
   ]
  }
 ],
 "metadata": {
  "kernelspec": {
   "display_name": "Python 3",
   "language": "python",
   "name": "python3"
  },
  "language_info": {
   "codemirror_mode": {
    "name": "ipython",
    "version": 3
   },
   "file_extension": ".py",
   "mimetype": "text/x-python",
   "name": "python",
   "nbconvert_exporter": "python",
   "pygments_lexer": "ipython3",
   "version": "3.5.2"
  }
 },
 "nbformat": 4,
 "nbformat_minor": 0
}
