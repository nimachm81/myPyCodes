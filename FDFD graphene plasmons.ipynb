{
 "cells": [
  {
   "cell_type": "code",
   "execution_count": 1,
   "metadata": {
    "collapsed": false
   },
   "outputs": [
    {
     "data": {
      "text/latex": [
       "$$\\left[\\begin{matrix}i H_{{x}} \\mu \\omega - \\frac{d}{d z} E_{{y}} + \\frac{d}{d y} E_{{z}} & i H_{{y}} \\mu \\omega + \\frac{d}{d z} E_{{x}} - \\frac{d}{d x} E_{{z}} & i H_{{z}} \\mu \\omega - \\frac{d}{d y} E_{{x}} + \\frac{d}{d x} E_{{y}}\\end{matrix}\\right]$$"
      ],
      "text/plain": [
       "<IPython.core.display.Math at 0x7fbeddd99f60>"
      ]
     },
     "metadata": {},
     "output_type": "display_data"
    },
    {
     "data": {
      "text/latex": [
       "$$\\left[\\begin{matrix}- E_{{x}} \\left(i \\epsilon \\omega + \\sigma\\right) - \\frac{d}{d z} H_{{y}} + \\frac{d}{d y} H_{{z}} & - E_{{y}} \\left(i \\epsilon \\omega + \\sigma\\right) + \\frac{d}{d z} H_{{x}} - \\frac{d}{d x} H_{{z}} & - E_{{z}} \\left(i \\epsilon \\omega + \\sigma\\right) - \\frac{d}{d y} H_{{x}} + \\frac{d}{d x} H_{{y}}\\end{matrix}\\right]$$"
      ],
      "text/plain": [
       "<IPython.core.display.Math at 0x7fbed0d18ba8>"
      ]
     },
     "metadata": {},
     "output_type": "display_data"
    },
    {
     "data": {
      "text/latex": [
       "$$H_z = \\frac{i}{\\mu \\omega} \\left(- \\frac{d}{d y} E_{{x}} + \\frac{d}{d x} E_{{y}}\\right)$$"
      ],
      "text/plain": [
       "<IPython.core.display.Math at 0x7fbeddd99f60>"
      ]
     },
     "metadata": {},
     "output_type": "display_data"
    },
    {
     "data": {
      "text/latex": [
       "$$E_z = \\frac{- \\frac{d}{d y} H_{{x}} + \\frac{d}{d x} H_{{y}}}{i \\epsilon \\omega + \\sigma}$$"
      ],
      "text/plain": [
       "<IPython.core.display.Math at 0x7fbed0cca470>"
      ]
     },
     "metadata": {},
     "output_type": "display_data"
    },
    {
     "data": {
      "text/latex": [
       "$$\\left[\\begin{matrix}i \\mu \\omega \\operatorname{H_{{x}}}{\\left (x,y \\right )} e^{- i k z} + \\frac{\\partial}{\\partial y}\\left(\\frac{1}{i \\epsilon \\omega + \\sigma} \\left(- \\frac{\\partial}{\\partial y}\\left(\\operatorname{H_{{x}}}{\\left (x,y \\right )} e^{- i k z}\\right) + \\frac{\\partial}{\\partial x}\\left(\\operatorname{H_{{y}}}{\\left (x,y \\right )} e^{- i k z}\\right)\\right)\\right) - \\frac{\\partial}{\\partial z}\\left(\\operatorname{E_{{y}}}{\\left (x,y \\right )} e^{- i k z}\\right)\\\\i \\mu \\omega \\operatorname{H_{{y}}}{\\left (x,y \\right )} e^{- i k z} - \\frac{\\partial}{\\partial x}\\left(\\frac{1}{i \\epsilon \\omega + \\sigma} \\left(- \\frac{\\partial}{\\partial y}\\left(\\operatorname{H_{{x}}}{\\left (x,y \\right )} e^{- i k z}\\right) + \\frac{\\partial}{\\partial x}\\left(\\operatorname{H_{{y}}}{\\left (x,y \\right )} e^{- i k z}\\right)\\right)\\right) + \\frac{\\partial}{\\partial z}\\left(\\operatorname{E_{{x}}}{\\left (x,y \\right )} e^{- i k z}\\right)\\end{matrix}\\right]$$"
      ],
      "text/plain": [
       "<IPython.core.display.Math at 0x7fbed0c23fd0>"
      ]
     },
     "metadata": {},
     "output_type": "display_data"
    },
    {
     "data": {
      "text/latex": [
       "$$\\left[\\begin{matrix}- \\left(i \\epsilon \\omega + \\sigma\\right) \\operatorname{E_{{x}}}{\\left (x,y \\right )} e^{- i k z} - \\frac{\\partial}{\\partial z}\\left(\\operatorname{H_{{y}}}{\\left (x,y \\right )} e^{- i k z}\\right) + \\frac{\\partial}{\\partial y}\\left(\\frac{i}{\\mu \\omega} \\left(- \\frac{\\partial}{\\partial y}\\left(\\operatorname{E_{{x}}}{\\left (x,y \\right )} e^{- i k z}\\right) + \\frac{\\partial}{\\partial x}\\left(\\operatorname{E_{{y}}}{\\left (x,y \\right )} e^{- i k z}\\right)\\right)\\right)\\\\- \\left(i \\epsilon \\omega + \\sigma\\right) \\operatorname{E_{{y}}}{\\left (x,y \\right )} e^{- i k z} + \\frac{\\partial}{\\partial z}\\left(\\operatorname{H_{{x}}}{\\left (x,y \\right )} e^{- i k z}\\right) - \\frac{\\partial}{\\partial x}\\left(\\frac{i}{\\mu \\omega} \\left(- \\frac{\\partial}{\\partial y}\\left(\\operatorname{E_{{x}}}{\\left (x,y \\right )} e^{- i k z}\\right) + \\frac{\\partial}{\\partial x}\\left(\\operatorname{E_{{y}}}{\\left (x,y \\right )} e^{- i k z}\\right)\\right)\\right)\\end{matrix}\\right]$$"
      ],
      "text/plain": [
       "<IPython.core.display.Math at 0x7fbed0c83208>"
      ]
     },
     "metadata": {},
     "output_type": "display_data"
    },
    {
     "data": {
      "text/latex": [
       "$$MF = \\left[\\begin{matrix}\\frac{1}{i \\epsilon \\omega + \\sigma} \\left(i \\left(i \\epsilon \\omega + \\sigma\\right) \\left(\\mu \\omega \\operatorname{H_{{x}}}{\\left (x,y \\right )} + k \\operatorname{E_{{y}}}{\\left (x,y \\right )}\\right) - \\frac{\\partial^{2}}{\\partial y^{2}}  \\operatorname{H_{{x}}}{\\left (x,y \\right )} + \\frac{\\partial^{2}}{\\partial x\\partial y}  \\operatorname{H_{{y}}}{\\left (x,y \\right )}\\right)\\\\\\frac{1}{i \\epsilon \\omega + \\sigma} \\left(i \\left(i \\epsilon \\omega + \\sigma\\right) \\left(\\mu \\omega \\operatorname{H_{{y}}}{\\left (x,y \\right )} - k \\operatorname{E_{{x}}}{\\left (x,y \\right )}\\right) + \\frac{\\partial^{2}}{\\partial x\\partial y}  \\operatorname{H_{{x}}}{\\left (x,y \\right )} - \\frac{\\partial^{2}}{\\partial x^{2}}  \\operatorname{H_{{y}}}{\\left (x,y \\right )}\\right)\\end{matrix}\\right]$$"
      ],
      "text/plain": [
       "<IPython.core.display.Math at 0x7fbed0be3b00>"
      ]
     },
     "metadata": {},
     "output_type": "display_data"
    },
    {
     "data": {
      "text/latex": [
       "$$MA = \\left[\\begin{matrix}\\frac{1}{\\mu \\omega} \\left(- \\mu \\omega \\left(- i k \\operatorname{H_{{y}}}{\\left (x,y \\right )} + \\left(i \\epsilon \\omega + \\sigma\\right) \\operatorname{E_{{x}}}{\\left (x,y \\right )}\\right) + i \\left(- \\frac{\\partial^{2}}{\\partial y^{2}}  \\operatorname{E_{{x}}}{\\left (x,y \\right )} + \\frac{\\partial^{2}}{\\partial x\\partial y}  \\operatorname{E_{{y}}}{\\left (x,y \\right )}\\right)\\right)\\\\\\frac{1}{\\mu \\omega} \\left(- \\mu \\omega \\left(i k \\operatorname{H_{{x}}}{\\left (x,y \\right )} + \\left(i \\epsilon \\omega + \\sigma\\right) \\operatorname{E_{{y}}}{\\left (x,y \\right )}\\right) + i \\left(\\frac{\\partial^{2}}{\\partial x\\partial y}  \\operatorname{E_{{x}}}{\\left (x,y \\right )} - \\frac{\\partial^{2}}{\\partial x^{2}}  \\operatorname{E_{{y}}}{\\left (x,y \\right )}\\right)\\right)\\end{matrix}\\right]$$"
      ],
      "text/plain": [
       "<IPython.core.display.Math at 0x7fbed0be37b8>"
      ]
     },
     "metadata": {},
     "output_type": "display_data"
    },
    {
     "data": {
      "text/plain": [
       "(2, 1)"
      ]
     },
     "execution_count": 1,
     "metadata": {},
     "output_type": "execute_result"
    }
   ],
   "source": [
    "%reload_ext autoreload\n",
    "%autoreload\n",
    "\n",
    "from sympy import *\n",
    "from Electromagnetics.EMEqs_sym import *\n",
    "from IPython.display import display, Math\n",
    "\n",
    "maxwell = MaxwellEqs_r()\n",
    "\n",
    "MF = maxwell.getMaxwellFaraday()\n",
    "MA = maxwell.getMaxwellAmper(sigma=True)\n",
    "\n",
    "MF = MF[0] - MF[1]\n",
    "MA = MA[0] - MA[1]\n",
    "\n",
    "display(Math(latex(MF)))\n",
    "display(Math(latex(MA)))\n",
    "\n",
    "Hz_rep = solve(MF[2], maxwell.Hz)[0]\n",
    "Ez_rep = solve(MA[2], maxwell.Ez)[0]\n",
    "\n",
    "display(Math('H_z = ' + latex(Hz_rep)))\n",
    "display(Math('E_z = ' + latex(Ez_rep)))\n",
    "\n",
    "\n",
    "MF = Matrix([MF[0].subs(maxwell.Ez, Ez_rep), MF[1].subs(maxwell.Ez, Ez_rep)])\n",
    "MA = Matrix([MA[0].subs(maxwell.Hz, Hz_rep), MA[1].subs(maxwell.Hz, Hz_rep)])\n",
    "\n",
    "MFz = maxwell.getZPropEqs(MF)\n",
    "MAz = maxwell.getZPropEqs(MA)\n",
    "\n",
    "display(Math(latex(MFz)))\n",
    "display(Math(latex(MAz)))\n",
    "\n",
    "\n",
    "for i in range(MFz.shape[0]):\n",
    "    for j in range(MFz.shape[1]):\n",
    "        MFz[i,j] = (MFz[i,j].doit()*exp(I*maxwell.k*maxwell.z)).simplify()\n",
    "for i in range(MAz.shape[0]):\n",
    "    for j in range(MAz.shape[1]):\n",
    "        MAz[i,j] = (MAz[i,j].doit()*exp(I*maxwell.k*maxwell.z)).simplify()\n",
    "\n",
    "## MF:maxwell faraday -- MA:maxwell ampere        \n",
    "display(Math('MF = ' + latex(MFz)))\n",
    "display(Math('MA = ' + latex(MAz)))\n",
    "\n",
    "MF.shape\n"
   ]
  },
  {
   "cell_type": "code",
   "execution_count": 2,
   "metadata": {
    "collapsed": false
   },
   "outputs": [
    {
     "data": {
      "text/latex": [
       "$$\\left[\\begin{matrix}i H_{{x}} \\mu \\omega - \\frac{d}{d z} E_{{y}} + \\frac{d}{d y} E_{{z}} & i H_{{y}} \\mu \\omega + \\frac{d}{d z} E_{{x}} - \\frac{d}{d x} E_{{z}} & i H_{{z}} \\mu \\omega - \\frac{d}{d y} E_{{x}} + \\frac{d}{d x} E_{{y}}\\end{matrix}\\right]$$"
      ],
      "text/plain": [
       "<IPython.core.display.Math at 0x7fbed0c7af28>"
      ]
     },
     "metadata": {},
     "output_type": "display_data"
    },
    {
     "data": {
      "text/latex": [
       "$$\\left[\\begin{matrix}- E_{{x}} \\left(i \\epsilon \\omega + \\sigma\\right) - \\frac{d}{d z} H_{{y}} + \\frac{d}{d y} H_{{z}} & - E_{{y}} \\left(i \\epsilon \\omega + \\sigma\\right) + \\frac{d}{d z} H_{{x}} - \\frac{d}{d x} H_{{z}} & - E_{{z}} \\left(i \\epsilon \\omega + \\sigma\\right) - \\frac{d}{d y} H_{{x}} + \\frac{d}{d x} H_{{y}}\\end{matrix}\\right]$$"
      ],
      "text/plain": [
       "<IPython.core.display.Math at 0x7fbed0c7db38>"
      ]
     },
     "metadata": {},
     "output_type": "display_data"
    },
    {
     "data": {
      "text/latex": [
       "$$\\left[\\begin{matrix}i \\mu \\omega \\operatorname{H_{{x}}}{\\left (x,y \\right )} e^{- i k z} - \\frac{\\partial}{\\partial z}\\left(\\operatorname{E_{{y}}}{\\left (x,y \\right )} e^{- i k z}\\right) + \\frac{\\partial}{\\partial y}\\left(\\operatorname{E_{{z}}}{\\left (x,y \\right )} e^{- i k z}\\right) & i \\mu \\omega \\operatorname{H_{{y}}}{\\left (x,y \\right )} e^{- i k z} + \\frac{\\partial}{\\partial z}\\left(\\operatorname{E_{{x}}}{\\left (x,y \\right )} e^{- i k z}\\right) - \\frac{\\partial}{\\partial x}\\left(\\operatorname{E_{{z}}}{\\left (x,y \\right )} e^{- i k z}\\right) & i \\mu \\omega \\operatorname{H_{{z}}}{\\left (x,y \\right )} e^{- i k z} - \\frac{\\partial}{\\partial y}\\left(\\operatorname{E_{{x}}}{\\left (x,y \\right )} e^{- i k z}\\right) + \\frac{\\partial}{\\partial x}\\left(\\operatorname{E_{{y}}}{\\left (x,y \\right )} e^{- i k z}\\right)\\end{matrix}\\right]$$"
      ],
      "text/plain": [
       "<IPython.core.display.Math at 0x7fbed0c7db70>"
      ]
     },
     "metadata": {},
     "output_type": "display_data"
    },
    {
     "data": {
      "text/latex": [
       "$$\\left[\\begin{matrix}- \\left(i \\epsilon \\omega + \\sigma\\right) \\operatorname{E_{{x}}}{\\left (x,y \\right )} e^{- i k z} - \\frac{\\partial}{\\partial z}\\left(\\operatorname{H_{{y}}}{\\left (x,y \\right )} e^{- i k z}\\right) + \\frac{\\partial}{\\partial y}\\left(\\operatorname{H_{{z}}}{\\left (x,y \\right )} e^{- i k z}\\right) & - \\left(i \\epsilon \\omega + \\sigma\\right) \\operatorname{E_{{y}}}{\\left (x,y \\right )} e^{- i k z} + \\frac{\\partial}{\\partial z}\\left(\\operatorname{H_{{x}}}{\\left (x,y \\right )} e^{- i k z}\\right) - \\frac{\\partial}{\\partial x}\\left(\\operatorname{H_{{z}}}{\\left (x,y \\right )} e^{- i k z}\\right) & - \\left(i \\epsilon \\omega + \\sigma\\right) \\operatorname{E_{{z}}}{\\left (x,y \\right )} e^{- i k z} - \\frac{\\partial}{\\partial y}\\left(\\operatorname{H_{{x}}}{\\left (x,y \\right )} e^{- i k z}\\right) + \\frac{\\partial}{\\partial x}\\left(\\operatorname{H_{{y}}}{\\left (x,y \\right )} e^{- i k z}\\right)\\end{matrix}\\right]$$"
      ],
      "text/plain": [
       "<IPython.core.display.Math at 0x7fbed0c7dc88>"
      ]
     },
     "metadata": {},
     "output_type": "display_data"
    },
    {
     "data": {
      "text/latex": [
       "$$MF = \\left[\\begin{matrix}i \\mu \\omega \\operatorname{H_{{x}}}{\\left (x,y \\right )} + i k \\operatorname{E_{{y}}}{\\left (x,y \\right )} + \\frac{\\partial}{\\partial y} \\operatorname{E_{{z}}}{\\left (x,y \\right )}\\\\i \\mu \\omega \\operatorname{H_{{y}}}{\\left (x,y \\right )} - i k \\operatorname{E_{{x}}}{\\left (x,y \\right )} - \\frac{\\partial}{\\partial x} \\operatorname{E_{{z}}}{\\left (x,y \\right )}\\\\i \\mu \\omega \\operatorname{H_{{z}}}{\\left (x,y \\right )} - \\frac{\\partial}{\\partial y} \\operatorname{E_{{x}}}{\\left (x,y \\right )} + \\frac{\\partial}{\\partial x} \\operatorname{E_{{y}}}{\\left (x,y \\right )}\\end{matrix}\\right]$$"
      ],
      "text/plain": [
       "<IPython.core.display.Math at 0x7fbed0c44eb8>"
      ]
     },
     "metadata": {},
     "output_type": "display_data"
    },
    {
     "data": {
      "text/latex": [
       "$$MA = \\left[\\begin{matrix}i k \\operatorname{H_{{y}}}{\\left (x,y \\right )} - \\left(i \\epsilon \\omega + \\sigma\\right) \\operatorname{E_{{x}}}{\\left (x,y \\right )} + \\frac{\\partial}{\\partial y} \\operatorname{H_{{z}}}{\\left (x,y \\right )}\\\\- i k \\operatorname{H_{{x}}}{\\left (x,y \\right )} - \\left(i \\epsilon \\omega + \\sigma\\right) \\operatorname{E_{{y}}}{\\left (x,y \\right )} - \\frac{\\partial}{\\partial x} \\operatorname{H_{{z}}}{\\left (x,y \\right )}\\\\- \\left(i \\epsilon \\omega + \\sigma\\right) \\operatorname{E_{{z}}}{\\left (x,y \\right )} - \\frac{\\partial}{\\partial y} \\operatorname{H_{{x}}}{\\left (x,y \\right )} + \\frac{\\partial}{\\partial x} \\operatorname{H_{{y}}}{\\left (x,y \\right )}\\end{matrix}\\right]$$"
      ],
      "text/plain": [
       "<IPython.core.display.Math at 0x7fbed855bf98>"
      ]
     },
     "metadata": {},
     "output_type": "display_data"
    },
    {
     "data": {
      "text/latex": [
       "$$MF = \\left[\\begin{matrix}i E_{{y}} k + i H_{{x}} \\mu \\omega + \\frac{d}{d y} E_{{z}}\\\\- i E_{{x}} k + i H_{{y}} \\mu \\omega - \\frac{d}{d x} E_{{z}}\\\\i H_{{z}} \\mu \\omega - \\frac{d}{d y} E_{{x}} + \\frac{d}{d x} E_{{y}}\\end{matrix}\\right]$$"
      ],
      "text/plain": [
       "<IPython.core.display.Math at 0x7fbed0be3c18>"
      ]
     },
     "metadata": {},
     "output_type": "display_data"
    },
    {
     "data": {
      "text/latex": [
       "$$MA = \\left[\\begin{matrix}- E_{{x}} \\left(i \\epsilon \\omega + \\sigma\\right) + i H_{{y}} k + \\frac{d}{d y} H_{{z}}\\\\- E_{{y}} \\left(i \\epsilon \\omega + \\sigma\\right) - i H_{{x}} k - \\frac{d}{d x} H_{{z}}\\\\- E_{{z}} \\left(i \\epsilon \\omega + \\sigma\\right) - \\frac{d}{d y} H_{{x}} + \\frac{d}{d x} H_{{y}}\\end{matrix}\\right]$$"
      ],
      "text/plain": [
       "<IPython.core.display.Math at 0x7fbed858ca90>"
      ]
     },
     "metadata": {},
     "output_type": "display_data"
    },
    {
     "name": "stdout",
     "output_type": "stream",
     "text": [
      "normalizing to k_0\n"
     ]
    },
    {
     "data": {
      "text/latex": [
       "$$MF = \\left[\\begin{matrix}\\frac{1}{k_{0}} \\left(- E_{{y}} k - H_{{x}} \\mu \\omega + i \\frac{d}{d y} E_{{z}}\\right)\\\\\\frac{1}{k_{0}} \\left(- E_{{x}} k + H_{{y}} \\mu \\omega + i \\frac{d}{d x} E_{{z}}\\right)\\\\i H_{{z}} \\mu \\omega - \\frac{d}{d y} E_{{x}} + \\frac{d}{d x} E_{{y}}\\end{matrix}\\right]$$"
      ],
      "text/plain": [
       "<IPython.core.display.Math at 0x7fbed858ca90>"
      ]
     },
     "metadata": {},
     "output_type": "display_data"
    },
    {
     "data": {
      "text/latex": [
       "$$MA = \\left[\\begin{matrix}\\frac{i}{k_{0}} \\left(- E_{{x}} \\left(i \\epsilon \\omega + \\sigma\\right) + i H_{{y}} k + \\frac{d}{d y} H_{{z}}\\right)\\\\\\frac{i}{k_{0}} \\left(E_{{y}} \\left(i \\epsilon \\omega + \\sigma\\right) + i H_{{x}} k + \\frac{d}{d x} H_{{z}}\\right)\\\\- E_{{z}} \\left(i \\epsilon \\omega + \\sigma\\right) - \\frac{d}{d y} H_{{x}} + \\frac{d}{d x} H_{{y}}\\end{matrix}\\right]$$"
      ],
      "text/plain": [
       "<IPython.core.display.Math at 0x7fbed0bc0dd8>"
      ]
     },
     "metadata": {},
     "output_type": "display_data"
    },
    {
     "data": {
      "text/latex": [
       "$$MF = \\left[\\begin{matrix}\\frac{1}{k_{0}} \\left(- H_{{x}} \\mu \\omega + i \\frac{d}{d y} E_{{z}}\\right)\\\\\\frac{1}{k_{0}} \\left(H_{{y}} \\mu \\omega + i \\frac{d}{d x} E_{{z}}\\right)\\\\i H_{{z}} \\mu \\omega - \\frac{d}{d y} E_{{x}} + \\frac{d}{d x} E_{{y}}\\end{matrix}\\right]$$"
      ],
      "text/plain": [
       "<IPython.core.display.Math at 0x7fbed858ca90>"
      ]
     },
     "metadata": {},
     "output_type": "display_data"
    },
    {
     "data": {
      "text/latex": [
       "$$MA = \\left[\\begin{matrix}\\frac{i}{k_{0}} \\left(- E_{{x}} \\left(i \\epsilon \\omega + \\sigma\\right) + \\frac{d}{d y} H_{{z}}\\right)\\\\\\frac{i}{k_{0}} \\left(E_{{y}} \\left(i \\epsilon \\omega + \\sigma\\right) + \\frac{d}{d x} H_{{z}}\\right)\\\\- E_{{z}} \\left(i \\epsilon \\omega + \\sigma\\right) - \\frac{d}{d y} H_{{x}} + \\frac{d}{d x} H_{{y}}\\end{matrix}\\right]$$"
      ],
      "text/plain": [
       "<IPython.core.display.Math at 0x7fbed855bf98>"
      ]
     },
     "metadata": {},
     "output_type": "display_data"
    },
    {
     "data": {
      "text/latex": [
       "$$Eqs = \\left[\\begin{matrix}\\frac{1}{k_{0}} \\left(H_{{y}} \\mu \\omega + i \\frac{d}{d x} E_{{z}}\\right)\\\\\\frac{1}{k_{0}} \\left(- H_{{x}} \\mu \\omega + i \\frac{d}{d y} E_{{z}}\\right)\\\\\\frac{i}{k_{0}} \\left(E_{{y}} \\left(i \\epsilon \\omega + \\sigma\\right) + \\frac{d}{d x} H_{{z}}\\right)\\\\\\frac{i}{k_{0}} \\left(- E_{{x}} \\left(i \\epsilon \\omega + \\sigma\\right) + \\frac{d}{d y} H_{{z}}\\right)\\\\- E_{{z}} \\left(i \\epsilon \\omega + \\sigma\\right) - \\frac{d}{d y} H_{{x}} + \\frac{d}{d x} H_{{y}}\\\\i H_{{z}} \\mu \\omega - \\frac{d}{d y} E_{{x}} + \\frac{d}{d x} E_{{y}}\\end{matrix}\\right]$$"
      ],
      "text/plain": [
       "<IPython.core.display.Math at 0x7fbed855bf98>"
      ]
     },
     "metadata": {},
     "output_type": "display_data"
    }
   ],
   "source": [
    "%reload_ext autoreload\n",
    "%autoreload\n",
    "\n",
    "from Electromagnetics.EMEqs_sym import *\n",
    "from IPython.display import display, Math\n",
    "from sympy import *\n",
    "\n",
    "maxwell = MaxwellEqs_r()\n",
    "\n",
    "MF = maxwell.getMaxwellFaraday()\n",
    "MA = maxwell.getMaxwellAmper(sigma=True)\n",
    "\n",
    "MF = MF[0] - MF[1]\n",
    "MA = MA[0] - MA[1]\n",
    "\n",
    "display(Math(latex(MF)))\n",
    "display(Math(latex(MA)))\n",
    "\n",
    "\n",
    "MFz = maxwell.getZPropEqs(MF)\n",
    "MAz = maxwell.getZPropEqs(MA)\n",
    "\n",
    "display(Math(latex(MFz)))\n",
    "display(Math(latex(MAz)))\n",
    "\n",
    "\n",
    "for i in range(MFz.shape[0]):\n",
    "    for j in range(MFz.shape[1]):\n",
    "        MFz[i,j] = (MFz[i,j].doit()*exp(I*maxwell.k*maxwell.z)).simplify()\n",
    "for i in range(MAz.shape[0]):\n",
    "    for j in range(MAz.shape[1]):\n",
    "        MAz[i,j] = (MAz[i,j].doit()*exp(I*maxwell.k*maxwell.z)).simplify()\n",
    "\n",
    "## MF:maxwell faraday -- MA:maxwell ampere        \n",
    "display(Math('MF = ' + latex(MFz.T)))\n",
    "display(Math('MA = ' + latex(MAz.T)))\n",
    "\n",
    "MFz = maxwell.ZPropEqs_ReplFunBySym(MFz)\n",
    "MAz = maxwell.ZPropEqs_ReplFunBySym(MAz)\n",
    "display(Math('MF = ' + latex(MFz.T)))\n",
    "display(Math('MA = ' + latex(MAz.T)))\n",
    "\n",
    "k_0 = Symbol('k_0')\n",
    "print('normalizing to k_0')\n",
    "MFz[0] = (MFz[0]/(-I*k_0)).simplify()\n",
    "MFz[1] = (MFz[1]/(I*k_0)).simplify()\n",
    "MAz[0] = (MAz[0]/(-I*k_0)).simplify()\n",
    "MAz[1] = (MAz[1]/(I*k_0)).simplify()\n",
    "display(Math('MF = ' + latex(MFz.T)))\n",
    "display(Math('MA = ' + latex(MAz.T)))\n",
    "\n",
    "\n",
    "MFz = MFz.subs(maxwell.k, 0)\n",
    "MAz = MAz.subs(maxwell.k, 0)\n",
    "display(Math('MF = ' + latex(MFz.T)))\n",
    "display(Math('MA = ' + latex(MAz.T)))\n",
    "\n",
    "Eqs = [MFz[1], MFz[0], MAz[1], MAz[0], MAz[2], MFz[2]]\n",
    "display(Math('Eqs = ' + latex(Matrix(Eqs))))\n"
   ]
  },
  {
   "cell_type": "code",
   "execution_count": 3,
   "metadata": {
    "collapsed": false
   },
   "outputs": [
    {
     "data": {
      "text/latex": [
       "$$Eqs1 = \\left[\\begin{matrix}376.730313461771 H_{{y}} + 1.59044838641231 \\cdot 10^{-5} i \\frac{d}{d x} E_{{z}}\\\\- 376.730313461771 H_{{x}} + 1.59044838641231 \\cdot 10^{-5} i \\frac{d}{d y} E_{{z}}\\\\- 0.00265441872943807 E_{{y}} + 1.59044838641231 \\cdot 10^{-5} i \\frac{d}{d x} H_{{z}}\\\\0.00265441872943807 E_{{x}} + 1.59044838641231 \\cdot 10^{-5} i \\frac{d}{d y} H_{{z}}\\\\- 166.897508408043 i E_{{z}} - \\frac{d}{d y} H_{{x}} + \\frac{d}{d x} H_{{y}}\\\\23687050.5626145 i H_{{z}} - \\frac{d}{d y} E_{{x}} + \\frac{d}{d x} E_{{y}}\\end{matrix}\\right]$$"
      ],
      "text/plain": [
       "<IPython.core.display.Math at 0x7fbed0bfa7f0>"
      ]
     },
     "metadata": {},
     "output_type": "display_data"
    },
    {
     "name": "stdout",
     "output_type": "stream",
     "text": [
      "Add(Mul(Float('376.73031346177066', prec=15), Symbol('H_{y}')), Mul(Float('1.5904483864123141e-5', prec=15), I, Derivative(Symbol('E_{z}'), Symbol('x'))))\n"
     ]
    },
    {
     "data": {
      "text/latex": [
       "$$Eqs2 = \\left[\\begin{matrix}376.730313461771 H_{{y}} + 1.59044838641231 \\cdot 10^{-5} i \\frac{d}{d x} E_{{z}}\\\\- 376.730313461771 H_{{x}} + 1.59044838641231 \\cdot 10^{-5} i \\frac{d}{d y} E_{{z}}\\\\1.59044838641231 \\cdot 10^{-5} i \\left(E_{{y}} \\left(464.501067453173 - 1582.62325254303 i\\right) + \\frac{d}{d x} H_{{z}}\\right)\\\\i \\left(- 1.59044838641231 \\cdot 10^{-5} E_{{x}} \\left(464.501067453173 - 1582.62325254303 i\\right) + 1.59044838641231 \\cdot 10^{-5} \\frac{d}{d y} H_{{z}}\\right)\\\\- E_{{z}} \\left(464.501067453173 - 1582.62325254303 i\\right) - \\frac{d}{d y} H_{{x}} + \\frac{d}{d x} H_{{y}}\\\\23687050.5626145 i H_{{z}} - \\frac{d}{d y} E_{{x}} + \\frac{d}{d x} E_{{y}}\\end{matrix}\\right]$$"
      ],
      "text/plain": [
       "<IPython.core.display.Math at 0x7fbea3afe358>"
      ]
     },
     "metadata": {},
     "output_type": "display_data"
    },
    {
     "data": {
      "text/latex": [
       "$$Vars = \\left[\\begin{matrix}E_{{x}}\\\\E_{{y}}\\\\H_{{x}}\\\\H_{{y}}\\\\E_{{z}}\\\\H_{{z}}\\end{matrix}\\right]$$"
      ],
      "text/plain": [
       "<IPython.core.display.Math at 0x7fbea3afe358>"
      ]
     },
     "metadata": {},
     "output_type": "display_data"
    }
   ],
   "source": [
    "\n",
    "from scipy import constants\n",
    "import math\n",
    "freq = 3.0*constants.tera\n",
    "omega_0 = 2.0*math.pi*freq\n",
    "eps_0 = constants.epsilon_0\n",
    "mu_0 = constants.mu_0\n",
    "eps_r = 1.0\n",
    "mu_r = 1.0\n",
    "k_0_val = omega_0*sqrt(mu_0*eps_0)\n",
    "\n",
    "from Electromagnetics.graphene import *\n",
    "import numpy as np \n",
    "\n",
    "mu_c = 0.3*constants.eV\n",
    "B_0 = 0.0\n",
    "tau = 0.2*constants.pico\n",
    "T = 100.0\n",
    "\n",
    "sigma_d, sigma_o = condKuboLorentzian(mu_c, B_0, tau, np.array([omega_0]), T)\n",
    "\n",
    "sig_graph = sigma_d[0]\n",
    "del_graph = 1000.0*constants.nano\n",
    "width_graph = 100.0*constants.micro\n",
    "\n",
    "Eqs1 = [Eqs[i].subs([(maxwell.mu, mu_0), (maxwell.eps, eps_0), (maxwell.sigma, 0.0), (maxwell.omega, omega_0), (k_0, k_0_val)]).simplify() for i in range(len(Eqs))]\n",
    "display(Math('Eqs1 = ' + latex(Matrix(Eqs1))))\n",
    "\n",
    "print(srepr(Eqs1[0]))\n",
    "\n",
    "Eqs2 = [Eqs[i].subs([(maxwell.mu, mu_r*mu_0), (maxwell.eps, eps_r*eps_0), (maxwell.sigma, sig_graph/del_graph), (maxwell.omega, omega_0), (k_0, k_0_val)]).simplify() for i in range(len(Eqs))]\n",
    "display(Math('Eqs2 = ' + latex(Matrix(Eqs2))))\n",
    "\n",
    "\n",
    "var_list = [maxwell.Ex, maxwell.Ey, maxwell.Hx, maxwell.Hy, maxwell.Ez, maxwell.Hz]\n",
    "display(Math('Vars = ' + latex(Matrix(var_list))))\n",
    "\n"
   ]
  },
  {
   "cell_type": "code",
   "execution_count": 4,
   "metadata": {
    "collapsed": false
   },
   "outputs": [
    {
     "name": "stdout",
     "output_type": "stream",
     "text": [
      "disintegrating equations\n"
     ]
    },
    {
     "data": {
      "text/latex": [
       "$$Eqs_b[0] = \\left[\\begin{matrix}\\frac{H_{{y}} \\mu}{k_{0}} \\omega & \\frac{i}{k_{0}} \\frac{d}{d x} E_{{z}}\\end{matrix}\\right]$$"
      ],
      "text/plain": [
       "<IPython.core.display.Math at 0x7fbea3a50518>"
      ]
     },
     "metadata": {},
     "output_type": "display_data"
    },
    {
     "data": {
      "text/latex": [
       "$$Eqs_b[1] = \\left[\\begin{matrix}- \\frac{H_{{x}} \\mu}{k_{0}} \\omega & \\frac{i}{k_{0}} \\frac{d}{d y} E_{{z}}\\end{matrix}\\right]$$"
      ],
      "text/plain": [
       "<IPython.core.display.Math at 0x7fbea3ac84a8>"
      ]
     },
     "metadata": {},
     "output_type": "display_data"
    },
    {
     "data": {
      "text/latex": [
       "$$Eqs_b[2] = \\left[\\begin{matrix}\\frac{E_{{y}}}{k_{0}} \\left(- \\epsilon \\omega + i \\sigma\\right) & \\frac{i}{k_{0}} \\frac{d}{d x} H_{{z}}\\end{matrix}\\right]$$"
      ],
      "text/plain": [
       "<IPython.core.display.Math at 0x7fbea3ac8860>"
      ]
     },
     "metadata": {},
     "output_type": "display_data"
    },
    {
     "data": {
      "text/latex": [
       "$$Eqs_b[3] = \\left[\\begin{matrix}\\frac{E_{{x}}}{k_{0}} \\left(\\epsilon \\omega - i \\sigma\\right) & \\frac{i}{k_{0}} \\frac{d}{d y} H_{{z}}\\end{matrix}\\right]$$"
      ],
      "text/plain": [
       "<IPython.core.display.Math at 0x7fbea3ac84a8>"
      ]
     },
     "metadata": {},
     "output_type": "display_data"
    },
    {
     "data": {
      "text/latex": [
       "$$Eqs_b[4] = \\left[\\begin{matrix}- E_{{z}} \\left(i \\epsilon \\omega + \\sigma\\right) & - \\frac{d}{d y} H_{{x}} & \\frac{d}{d x} H_{{y}}\\end{matrix}\\right]$$"
      ],
      "text/plain": [
       "<IPython.core.display.Math at 0x7fbea3ac8860>"
      ]
     },
     "metadata": {},
     "output_type": "display_data"
    },
    {
     "data": {
      "text/latex": [
       "$$Eqs_b[5] = \\left[\\begin{matrix}i H_{{z}} \\mu \\omega & - \\frac{d}{d y} E_{{x}} & \\frac{d}{d x} E_{{y}}\\end{matrix}\\right]$$"
      ],
      "text/plain": [
       "<IPython.core.display.Math at 0x7fbea3ac84a8>"
      ]
     },
     "metadata": {},
     "output_type": "display_data"
    },
    {
     "name": "stdout",
     "output_type": "stream",
     "text": [
      "Eq1 boundary equations \n"
     ]
    },
    {
     "data": {
      "text/latex": [
       "$$EQs1_b[0] = \\left[\\begin{matrix}376.730313461771 H_{{y}} & 1.59044838641231 \\cdot 10^{-5} i \\frac{d}{d x} E_{{z}}\\end{matrix}\\right]$$"
      ],
      "text/plain": [
       "<IPython.core.display.Math at 0x7fbea3a69550>"
      ]
     },
     "metadata": {},
     "output_type": "display_data"
    },
    {
     "data": {
      "text/latex": [
       "$$EQs1_b[1] = \\left[\\begin{matrix}- 376.730313461771 H_{{x}} & 1.59044838641231 \\cdot 10^{-5} i \\frac{d}{d y} E_{{z}}\\end{matrix}\\right]$$"
      ],
      "text/plain": [
       "<IPython.core.display.Math at 0x7fbea3a693c8>"
      ]
     },
     "metadata": {},
     "output_type": "display_data"
    },
    {
     "data": {
      "text/latex": [
       "$$EQs1_b[2] = \\left[\\begin{matrix}- 0.00265441872943807 E_{{y}} & 1.59044838641231 \\cdot 10^{-5} i \\frac{d}{d x} H_{{z}}\\end{matrix}\\right]$$"
      ],
      "text/plain": [
       "<IPython.core.display.Math at 0x7fbea3a69550>"
      ]
     },
     "metadata": {},
     "output_type": "display_data"
    },
    {
     "data": {
      "text/latex": [
       "$$EQs1_b[3] = \\left[\\begin{matrix}0.00265441872943807 E_{{x}} & 1.59044838641231 \\cdot 10^{-5} i \\frac{d}{d y} H_{{z}}\\end{matrix}\\right]$$"
      ],
      "text/plain": [
       "<IPython.core.display.Math at 0x7fbea3a693c8>"
      ]
     },
     "metadata": {},
     "output_type": "display_data"
    },
    {
     "data": {
      "text/latex": [
       "$$EQs1_b[4] = \\left[\\begin{matrix}- 166.897508408043 i E_{{z}} & - \\frac{d}{d y} H_{{x}} & \\frac{d}{d x} H_{{y}}\\end{matrix}\\right]$$"
      ],
      "text/plain": [
       "<IPython.core.display.Math at 0x7fbea3a69550>"
      ]
     },
     "metadata": {},
     "output_type": "display_data"
    },
    {
     "data": {
      "text/latex": [
       "$$EQs1_b[5] = \\left[\\begin{matrix}23687050.5626145 i H_{{z}} & - \\frac{d}{d y} E_{{x}} & \\frac{d}{d x} E_{{y}}\\end{matrix}\\right]$$"
      ],
      "text/plain": [
       "<IPython.core.display.Math at 0x7fbea3a693c8>"
      ]
     },
     "metadata": {},
     "output_type": "display_data"
    },
    {
     "name": "stdout",
     "output_type": "stream",
     "text": [
      "Eq2 boundary equations \n"
     ]
    },
    {
     "data": {
      "text/latex": [
       "$$Eqs2_b[0] = \\left[\\begin{matrix}376.730313461771 H_{{y}} & 1.59044838641231 \\cdot 10^{-5} i \\frac{d}{d x} E_{{z}}\\end{matrix}\\right]$$"
      ],
      "text/plain": [
       "<IPython.core.display.Math at 0x7fbea3ac8c18>"
      ]
     },
     "metadata": {},
     "output_type": "display_data"
    },
    {
     "data": {
      "text/latex": [
       "$$Eqs2_b[1] = \\left[\\begin{matrix}- 376.730313461771 H_{{x}} & 1.59044838641231 \\cdot 10^{-5} i \\frac{d}{d y} E_{{z}}\\end{matrix}\\right]$$"
      ],
      "text/plain": [
       "<IPython.core.display.Math at 0x7fbea3ac8cc0>"
      ]
     },
     "metadata": {},
     "output_type": "display_data"
    },
    {
     "data": {
      "text/latex": [
       "$$Eqs2_b[2] = \\left[\\begin{matrix}1.59044838641231 \\cdot 10^{-5} E_{{y}} \\left(-166.897508408043 + i \\left(464.501067453173 - 1749.52076095107 i\\right)\\right) & 1.59044838641231 \\cdot 10^{-5} i \\frac{d}{d x} H_{{z}}\\end{matrix}\\right]$$"
      ],
      "text/plain": [
       "<IPython.core.display.Math at 0x7fbea3ac8c18>"
      ]
     },
     "metadata": {},
     "output_type": "display_data"
    },
    {
     "data": {
      "text/latex": [
       "$$Eqs2_b[3] = \\left[\\begin{matrix}1.59044838641231 \\cdot 10^{-5} E_{{x}} \\left(166.897508408043 - i \\left(464.501067453173 - 1749.52076095107 i\\right)\\right) & 1.59044838641231 \\cdot 10^{-5} i \\frac{d}{d y} H_{{z}}\\end{matrix}\\right]$$"
      ],
      "text/plain": [
       "<IPython.core.display.Math at 0x7fbea3ac8cc0>"
      ]
     },
     "metadata": {},
     "output_type": "display_data"
    },
    {
     "data": {
      "text/latex": [
       "$$Eqs2_b[4] = \\left[\\begin{matrix}- E_{{z}} \\left(464.501067453173 - 1582.62325254303 i\\right) & - \\frac{d}{d y} H_{{x}} & \\frac{d}{d x} H_{{y}}\\end{matrix}\\right]$$"
      ],
      "text/plain": [
       "<IPython.core.display.Math at 0x7fbea3aaf6a0>"
      ]
     },
     "metadata": {},
     "output_type": "display_data"
    },
    {
     "data": {
      "text/latex": [
       "$$Eqs2_b[5] = \\left[\\begin{matrix}23687050.5626145 i H_{{z}} & - \\frac{d}{d y} E_{{x}} & \\frac{d}{d x} E_{{y}}\\end{matrix}\\right]$$"
      ],
      "text/plain": [
       "<IPython.core.display.Math at 0x7fbea3aaf6a0>"
      ]
     },
     "metadata": {},
     "output_type": "display_data"
    }
   ],
   "source": [
    "print('disintegrating equations')\n",
    "Eqs_b = [[Eqs[0].subs(maxwell.Ez, 0).doit().simplify(), Eqs[0].subs(maxwell.Hy, 0).simplify()],\n",
    "             [Eqs[1].subs(maxwell.Ez, 0).doit().simplify(), Eqs[1].subs(maxwell.Hx, 0).simplify()],\n",
    "             [Eqs[2].subs(maxwell.Hz, 0).doit().simplify(), Eqs[2].subs(maxwell.Ey, 0).simplify()],\n",
    "             [Eqs[3].subs(maxwell.Hz, 0).doit().simplify(), Eqs[3].subs(maxwell.Ex, 0).simplify()],\n",
    "             [Eqs[4].subs([(maxwell.Hx, 0), (maxwell.Hy, 0)]).doit().simplify(), Eqs[4].subs([(maxwell.Ez, 0), (maxwell.Hy, 0)]).subs(Derivative(0, maxwell.x), 0).simplify(), Eqs[4].subs([(maxwell.Ez, 0), (maxwell.Hx, 0)]).subs(Derivative(0, maxwell.y), 0).simplify()],\n",
    "             [Eqs[5].subs([(maxwell.Ex, 0), (maxwell.Ey, 0)]).doit().simplify(), Eqs[5].subs([(maxwell.Hz, 0), (maxwell.Ey, 0)]).subs(Derivative(0, maxwell.x), 0).simplify(), Eqs[5].subs([(maxwell.Hz, 0), (maxwell.Ex, 0)]).subs(Derivative(0, maxwell.y), 0).simplify()]]\n",
    "for i in range(len(Eqs_b)):\n",
    "    display(Math('Eqs_b[{}] = '.format(i) + latex(Matrix(Eqs_b[i]).T)))\n",
    "\n",
    "print('Eq1 boundary equations ')\n",
    "Eqs1_b = [[Eqs_b[i][j].subs([(maxwell.mu, mu_0), (maxwell.eps, eps_0), (maxwell.sigma, 0.0), (maxwell.omega, omega_0), (k_0, k_0_val)]) for j in range(len(Eqs_b[i]))] for i in range(len(Eqs_b))]\n",
    "for i in range(len(Eqs1_b)):\n",
    "    display(Math('EQs1_b[{}] = '.format(i) + latex(Matrix(Eqs1_b[i]).T)))\n",
    "\n",
    "print('Eq2 boundary equations ')\n",
    "Eqs2_b = [[Eqs_b[i][j].subs([(maxwell.mu, mu_r*mu_0), (maxwell.eps, eps_r*eps_0), (maxwell.sigma, sig_graph/del_graph), (maxwell.omega, omega_0), (k_0, k_0_val)]) for j in range(len(Eqs_b[i]))] for i in range(len(Eqs_b))]\n",
    "for i in range(len(Eqs2_b)):\n",
    "    display(Math('Eqs2_b[{}] = '.format(i) + latex(Matrix(Eqs2_b[i]).T)))\n"
   ]
  },
  {
   "cell_type": "code",
   "execution_count": 5,
   "metadata": {
    "collapsed": false
   },
   "outputs": [
    {
     "name": "stdout",
     "output_type": "stream",
     "text": [
      "cells_in_extended:  [69, 70, 71, 72, 73, 47, 48, 49, 50, 51, 58, 59, 60, 61, 62]\n",
      "cells_in_extended:  [46, 52, 57, 63, 68, 74, 128, 131, 134, 136, 138, 139, 141, 142, 144, 145, 147, 148, 150, 151, 152, 153, 154, 155, 156, 157, 158, 159, 160, 161, 162, 163, 164, 165, 58, 59, 60, 61, 62, 69, 70, 71, 72, 73, 122, 125]\n",
      "cells_in_extended:  [256, 257, 258, 259, 260, 261, 262, 265, 269, 270, 271, 272, 273, 274, 275, 276, 277, 278, 279, 280, 281, 282, 284, 287, 290, 293, 296, 299, 302, 59, 60, 61, 62, 70, 71, 72, 73, 122, 125, 128, 131, 134, 152, 153, 154, 155, 156, 157, 158, 159, 160, 161, 162, 163, 164, 165, 185, 188, 195, 196, 198, 199, 201, 202, 204, 205, 207, 208, 210, 211, 213, 214, 216, 217, 219, 220, 224, 225, 226, 227, 228, 229, 230, 231, 232, 233, 234, 235, 236, 237, 238, 239, 240, 241, 242, 243, 244, 245, 246, 247, 248, 249, 250, 251, 252, 253, 254, 255]\n",
      "cells_in_extended:  [179, 173, 174, 168, 151, 268, 58, 193, 69, 223, 386, 555, 537, 391, 486, 269, 270, 271, 536, 532, 533, 534, 535, 152, 153, 154, 539, 284, 538, 542, 543, 416, 545, 546, 547, 548, 549, 550, 551, 552, 540, 554, 299, 556, 430, 431, 432, 433, 434, 435, 436, 59, 480, 70, 225, 328, 329, 330, 331, 332, 333, 334, 227, 544, 484, 478, 224, 481, 226, 483, 228, 229, 230, 231, 232, 487, 371, 553, 122, 541]\n",
      "cells_in_extended:  [169, 175, 74, 63, 263, 264, 266, 267, 222, 191, 259, 260, 261, 262, 265, 522, 523, 525, 526, 400, 401, 402, 531, 280, 281, 282, 623, 413, 624, 163, 164, 134, 296, 428, 308, 309, 311, 312, 313, 314, 315, 316, 317, 318, 319, 320, 321, 322, 323, 324, 325, 326, 327, 73, 463, 464, 465, 466, 467, 468, 469, 470, 471, 476, 165, 528, 529, 361, 362, 363, 364, 365, 366, 367, 368, 369, 626, 627, 62, 383]\n",
      "cells_in_extended:  [257, 578, 455, 587, 461, 605, 452, 156, 157, 159, 160, 162, 614, 233, 242, 239, 560, 437, 251, 248, 443, 446, 704, 971, 260, 773, 902, 1034, 845, 464, 154, 163, 230, 551, 743, 434, 308, 956]\n",
      "cells_in_extended:  [600, 621, 598, 349, 567, 573, 565, 336, 594, 340, 342, 343, 345, 351, 352, 354, 571, 358, 360, 619, 625, 592, 257, 1154, 1157, 1160, 1163, 1166, 1169, 1172, 156, 157, 159, 160, 162, 560, 437, 443, 446, 578, 452, 455, 587, 461, 1109, 1112, 1115, 605, 1118, 1121, 1124, 614, 1127, 233, 1130, 1133, 239, 1136, 242, 1139, 1142, 248, 1145, 251, 1148, 1151]\n",
      "cells_in_extended:  [307, 438, 442, 444, 445, 447, 451, 453, 454, 456, 460, 462, 559, 561, 577, 579, 586, 588, 604, 606, 613, 615, 1033, 1035, 1069, 1071, 1075, 1077, 1087, 1089, 1099, 1101, 1108, 1110, 1111, 1113, 1114, 1116, 1117, 1119, 1120, 1122, 1123, 1125, 1126, 1128, 1129, 1131, 1132, 1134, 1135, 1137, 1138, 1140, 1141, 1143, 1144, 1146, 1147, 1149, 1150, 1152, 1153, 1155, 1156, 1158, 1159, 1161, 1162, 1164, 1165, 1167, 1168, 1170, 1171, 1173, 1222, 1224, 1225, 1227, 1228, 1230, 1231, 1233, 1234, 1236, 1237, 1239, 1240, 1242, 1243, 1245, 1246, 1248, 1249, 1251, 1252, 1254, 1255, 1257, 1258, 1260, 1261, 1263, 1264, 1266, 1267, 1269, 1270, 1272, 1273, 1275, 1276, 1278, 1279, 1281, 1282, 1284, 1285, 1287, 703, 705, 727, 729, 742, 744, 748, 750, 772, 774, 811, 813, 817, 819, 844, 846, 901, 903, 955, 957, 970, 972, 1034, 1109, 1112, 1115, 1118, 1121, 1124, 1127, 1130, 1133, 1136, 1139, 1142, 1145, 1148, 1151, 1154, 1157, 1160, 1163, 1166, 1169, 1172, 1174, 1175, 1176, 1177, 1178, 1179, 156, 1181, 1182, 159, 160, 1185, 162, 163, 1189, 1190, 1191, 1192, 1193, 1194, 1195, 1196, 1197, 1198, 1199, 1200, 1201, 1202, 1203, 1204, 1205, 1206, 1207, 1208, 1209, 1210, 1211, 1212, 1214, 1215, 1216, 1217, 1218, 1219, 1220, 1221, 1288, 1289, 1290, 1291, 1292, 1293, 1294, 1295, 1296, 1297, 1298, 1299, 1300, 1301, 1302, 1303, 1304, 1305, 1306, 1307, 1308, 1309, 1310, 1311, 1312, 1313, 1314, 1315, 1316, 1317, 1318, 1319, 1320, 1321, 1322, 1323, 1324, 1325, 1326, 1327, 1328, 1329, 1330, 1331, 308, 1333, 1334, 1335, 1336, 1337, 1338, 1339, 1340, 1341, 1342, 1343, 1344, 1345, 1346, 1347, 1348, 1349, 1350, 1351, 1352, 1353, 1354, 1355, 1356, 1357, 1358, 1359, 1360, 1361, 1362, 1363, 1364, 1365, 1366, 1367, 1368, 1369, 1370, 1371, 1372, 1373, 1374, 1375, 1376, 1377, 1378, 1379, 1380, 1381, 1382, 1383, 1384, 1385, 1386, 1387, 1388, 1389, 1390, 1391, 1392, 1393, 1394, 1395, 1396, 1397, 1398, 1399, 1400, 1401, 1402, 1403, 1404, 1405, 1406, 1407, 1408, 1409, 1410, 1411, 1412, 1413, 1414, 1415, 1416, 1417, 1418, 1419, 239, 242, 437, 443, 446, 452, 455, 461, 464, 248, 251, 257, 260, 551, 560, 578, 587, 605, 614, 704, 1183, 743, 230, 773, 1332, 845, 233, 902, 154, 1180, 157, 956, 1184, 971, 1186]\n",
      "n_cells:  2554  n_sides:  5418  n_nodes:  2865\n",
      "grid:  0:00:00\n",
      "rg.CellsToIndexTotalShared:  1\n",
      "rg.SidesToIndexTotalShared:  961\n",
      "rg.NodesToIndexTotalShared:  481\n",
      "initial matrix 57607 0:00:00\n",
      "initial matrix shared 66903 0:00:00\n",
      "initial matrix boundary conditions:  66427 0:00:00\n",
      "eliminating z components\n",
      "0:00:06\n",
      "solving eigenvalues\n",
      "0:00:34\n",
      "[ 5.16228916-1.73250063j  5.16228916-1.73250061j  3.76784508-1.07021586j\n",
      "  3.64954281-1.11676565j  3.44680453-1.21292231j]\n",
      "(12188, 5)\n",
      "A_reduced nnz:  82648\n",
      "0:00:34\n"
     ]
    },
    {
     "name": "stderr",
     "output_type": "stream",
     "text": [
      "[autoreload of Electromagnetics.graphene failed: Traceback (most recent call last):\n",
      "  File \"/usr/lib/python3/dist-packages/IPython/extensions/autoreload.py\", line 229, in check\n",
      "    superreload(m, reload, self.old_objects)\n",
      "ImportError: cannot import name 'SymExprTree'\n",
      "]\n",
      "[autoreload of Electromagnetics.Misc failed: Traceback (most recent call last):\n",
      "  File \"/usr/lib/python3/dist-packages/IPython/extensions/autoreload.py\", line 229, in check\n",
      "    superreload(m, reload, self.old_objects)\n",
      "RuntimeError: maximum recursion depth exceeded in __instancecheck__\n",
      "]\n"
     ]
    }
   ],
   "source": [
    "%reload_ext autoreload\n",
    "%autoreload\n",
    "\n",
    "from Electromagnetics.RecGrid2D import RG2D\n",
    "from Electromagnetics.Misc import *\n",
    "\n",
    "W_x = 3.0*width_graph\n",
    "W_y = 2.0*width_graph\n",
    "rg = RG2D(0.0, W_x, 0.0, W_y, W_x/10.0, W_y/10.0)\n",
    "#rg.RefineCells(list(range(len(rg.cells))))\n",
    "\n",
    "w_edge_mode = 10.0*constants.micro\n",
    "P00 = Point2D(W_x/2.0-width_graph/2.0-w_edge_mode, W_y/2.0-w_edge_mode)\n",
    "P11 = Point2D(W_x/2.0-width_graph/2.0+w_edge_mode, W_y/2.0+del_graph+w_edge_mode)\n",
    "rect_edge_l = [P00, P11]\n",
    "P00 = Point2D(W_x/2.0+width_graph/2.0-w_edge_mode, W_y/2.0-w_edge_mode)\n",
    "P11 = Point2D(W_x/2.0+width_graph/2.0+w_edge_mode, W_y/2.0+del_graph+w_edge_mode)\n",
    "rect_edge_r = [P00, P11]\n",
    "w_bulk_mode = 10.0*constants.micro\n",
    "P00 = Point2D(W_x/2.0-width_graph/2.0-w_edge_mode, W_y/2.0-w_edge_mode)\n",
    "P11 = Point2D(W_x/2.0+width_graph/2.0+w_edge_mode, W_y/2.0+del_graph+w_edge_mode)\n",
    "rect_bulk = [P00, P11]\n",
    "rg.RefineRectangle(rect_bulk)\n",
    "rg.RefineRectangle(rect_bulk)\n",
    "rg.RefineRectangle(rect_bulk)\n",
    "rg.RefineRectangle(rect_edge_l)\n",
    "rg.RefineRectangle(rect_edge_r)\n",
    "\n",
    "\n",
    "P00 = Point2D(W_x/2.0-width_graph/2.0, W_y/2.0)\n",
    "P11 = Point2D(W_x/2.0+width_graph/2.0, W_y/2.0+del_graph)\n",
    "rect_graph = [P00, P11]\n",
    "rg.RefineThinRectangle(rect_graph)\n",
    "rg.RefineRectangleBorders(rect_graph)\n",
    "#rg.RefineRectangleBorders(rect_graph)\n",
    "\n",
    "\n",
    "print('n_cells: ', len(rg.cells), ' n_sides: ', len(rg.sides), ' n_nodes: ', len(rg.nodes))\n",
    "\n",
    "\n",
    "\n",
    "##-------------\n",
    "tic()\n",
    "\n",
    "region_fs = \"freespace\"\n",
    "rg.AddExpression(region_fs, Eqs1, var_list)\n",
    "region_di = \"dielectric\"\n",
    "rg.AddExpression(region_di, Eqs2, var_list)\n",
    "\n",
    "eq_list1 = [{'zero':Float(0), 'one':(Eqs1_b[0][0]+Eqs1_b[0][1])/2.0, 'two':(Eqs1_b[0][0]+Eqs1_b[0][1])},\n",
    "            {'zero':Float(0), 'one':(Eqs1_b[1][0]+Eqs1_b[1][1])/2.0, 'two':(Eqs1_b[1][0]+Eqs1_b[1][1])},\n",
    "            {'zero':Float(0), 'one':(Eqs1_b[2][0]/2.0+Eqs1_b[2][1]), 'two':(Eqs1_b[2][0]+Eqs1_b[2][1])},\n",
    "            {'zero':Float(0), 'one':(Eqs1_b[3][0]/2.0+Eqs1_b[3][1]), 'two':(Eqs1_b[3][0]+Eqs1_b[3][1])},\n",
    "            {'zero':Float(0), 'one':(Eqs1_b[4][0]/4.0), 'two':(Eqs1_b[4][0]/2.0), 'two_x':(Eqs1_b[4][1]+Eqs1_b[4][2]/2.0), 'two_y':(Eqs1_b[4][1]/2.0+Eqs1_b[4][2]), 'three':(Eqs1_b[4][0]*3.0/4.0+Eqs1_b[4][1]+Eqs1_b[4][2]), 'four':(Eqs1_b[4][0]+Eqs1_b[4][1]+Eqs1_b[4][2])},\n",
    "           {}]\n",
    "var_type = ['SX', 'SY', 'SY', 'SX', 'N', 'C']\n",
    "rg.SetRegionBoundaryEquations(region_fs, eq_list1, var_list, var_type)\n",
    "\n",
    "eq_list2 = [{'zero':Float(0), 'one':(Eqs2_b[0][0]+Eqs2_b[0][1])/2.0, 'two':(Eqs2_b[0][0]+Eqs2_b[0][1])},\n",
    "            {'zero':Float(0), 'one':(Eqs2_b[1][0]+Eqs2_b[1][1])/2.0, 'two':(Eqs2_b[1][0]+Eqs2_b[1][1])},\n",
    "            {'zero':Float(0), 'one':(Eqs2_b[2][0]/2.0+Eqs2_b[2][1]), 'two':(Eqs2_b[2][0]+Eqs2_b[2][1])},\n",
    "            {'zero':Float(0), 'one':(Eqs2_b[3][0]/2.0+Eqs2_b[3][1]), 'two':(Eqs2_b[3][0]+Eqs2_b[3][1])},\n",
    "            {'zero':Float(0), 'one':(Eqs2_b[4][0]/4.0), 'two':(Eqs2_b[4][0]/2.0), 'two_x':(Eqs2_b[4][1]+Eqs2_b[4][2]/2.0), 'two_y':(Eqs2_b[4][1]/2.0+Eqs2_b[4][2]), 'three':(Eqs2_b[4][0]*3.0/4.0+Eqs2_b[4][1]+Eqs2_b[4][2]), 'four':(Eqs2_b[4][0]+Eqs2_b[4][1]+Eqs2_b[4][2])},\n",
    "           {}]\n",
    "var_type = ['SX', 'SY', 'SY', 'SX', 'N', 'C']\n",
    "rg.SetRegionBoundaryEquations(region_di, eq_list2, var_list, var_type)\n",
    "\n",
    "cells_fs = list(range(len(rg.cells)))\n",
    "cells_di, nodes_di, sidesX_di, sidesY_di = rg.FindElementsMarkedByRectangle(rect_graph[0], rect_graph[1])\n",
    "cells_fs, cells_di = rg.RegionsRemoveSharedCells([cells_fs, cells_di])\n",
    "nodes_fs, sidesX_fs, sidesY_fs = rg.Cells_GetNodesSide(cells_fs)\n",
    "\n",
    "rg.AssignVariableToSides(maxwell.Ex, sidesX_fs, region_fs, orient='X')\n",
    "rg.AssignVariableToSides(maxwell.Ey, sidesY_fs, region_fs, orient='Y')\n",
    "rg.AssignVariableToSides(maxwell.Hx, sidesY_fs, region_fs, orient='Y')\n",
    "rg.AssignVariableToSides(maxwell.Hy, sidesX_fs, region_fs, orient='X')\n",
    "rg.AssignVariableToNodes(maxwell.Ez, nodes_fs, region_fs)\n",
    "rg.AssignVariableToCells(maxwell.Hz, cells_fs, region_fs)\n",
    "\n",
    "rg.AssignVariableToSides(maxwell.Ex, sidesX_di, region_di, orient='X')\n",
    "rg.AssignVariableToSides(maxwell.Ey, sidesY_di, region_di, orient='Y')\n",
    "rg.AssignVariableToSides(maxwell.Hx, sidesY_di, region_di, orient='Y')\n",
    "rg.AssignVariableToSides(maxwell.Hy, sidesX_di, region_di, orient='X')\n",
    "rg.AssignVariableToNodes(maxwell.Ez, nodes_di, region_di)\n",
    "rg.AssignVariableToCells(maxwell.Hz, cells_di, region_di)\n",
    "\n",
    "rg.SetTotalIndicesForVariables()\n",
    "\n",
    "print('grid: ', toc())\n",
    "print('rg.CellsToIndexTotalShared: ', len(rg.CellsToIndexTotalShared))\n",
    "print('rg.SidesToIndexTotalShared: ', len(rg.SidesToIndexTotalShared))\n",
    "print('rg.NodesToIndexTotalShared: ', len(rg.NodesToIndexTotalShared))\n",
    "\n",
    "A_coo = rg.ConstructInitialMatrix(save=True)\n",
    "print(\"initial matrix\", A_coo.nnz, toc())\n",
    "\n",
    "A_coo = rg.ConstructInitialMatrix_Shared(A_coo, save=True)\n",
    "print(\"initial matrix shared\", A_coo.nnz, toc())\n",
    "\n",
    "A_coo = rg.ApplyDirichletBoundaryCondition(A_coo, save=True)\n",
    "print(\"initial matrix boundary conditions: \", A_coo.nnz, toc()) \n",
    "\n",
    "tic()\n",
    "print(\"eliminating z components\")\n",
    "A_fin = rg.EliminateVarible_Direct(A_coo, [maxwell.Ez, maxwell.Hz])\n",
    "print(toc())\n",
    "\n",
    "\n",
    "tic()\n",
    "print(\"solving eigenvalues\")\n",
    "k_eigs, k_vecs = rg.SolveEigenvalues(A_fin, 5, lambda_0=15.0)\n",
    "print(toc())\n",
    "\n",
    "print(k_eigs)\n",
    "print(k_vecs.shape)\n",
    "\n",
    "print(\"A_reduced nnz: \", A_fin.nnz)\n",
    "print(toc())"
   ]
  },
  {
   "cell_type": "code",
   "execution_count": 6,
   "metadata": {
    "collapsed": false
   },
   "outputs": [
    {
     "name": "stdout",
     "output_type": "stream",
     "text": [
      "GetFromSolutionIndexToInitialIndex :  0:00:06\n",
      "InterpolateVariablesValuesToCellCenters :  0:00:00\n",
      "exy_len:  (5.49932724557e-07+0j)\n",
      "CalculateSurfaceIntegral :  0:00:00\n",
      "(2554,) (2554,)\n",
      "(2554,)\n"
     ]
    },
    {
     "name": "stderr",
     "output_type": "stream",
     "text": [
      "/usr/lib/python3/dist-packages/scipy/sparse/linalg/dsolve/linsolve.py:339: SparseEfficiencyWarning: splu requires CSC matrix format\n",
      "  warn('splu requires CSC matrix format', SparseEfficiencyWarning)\n"
     ]
    }
   ],
   "source": [
    "import numpy as np\n",
    "\n",
    "tic()\n",
    "rg.GetFromSolutionIndexToInitialIndex(k_vecs[:,0], A_coo)\n",
    "print('GetFromSolutionIndexToInitialIndex : ', toc())\n",
    "\n",
    "tic()\n",
    "exy_cell = rg.InterpolateVariablesValuesToCellCenters([maxwell.Ex, maxwell.Ey])\n",
    "ex = np.array(exy_cell[0])\n",
    "ey = np.array(exy_cell[1])\n",
    "print('InterpolateVariablesValuesToCellCenters : ', toc())\n",
    "\n",
    "\n",
    "tic()\n",
    "ex_sq = rg.CalculateSurfaceIntegral(ex, np.conjugate(ex))\n",
    "ey_sq = rg.CalculateSurfaceIntegral(ey, np.conjugate(ey))\n",
    "exy_len = np.sqrt(ex_sq + ey_sq)\n",
    "ex /= exy_len\n",
    "ey /= exy_len\n",
    "print('exy_len: ', exy_len)\n",
    "print('CalculateSurfaceIntegral : ', toc())\n",
    "\n",
    "\n",
    "\n",
    "exy_max = GetMaxComplexVec2D(ex, ey)\n",
    "\n",
    "print(ex.shape, ey.shape)\n",
    "print(exy_max.shape)\n",
    "\n",
    "ex_prev = ex\n",
    "ey_prev = ey\n"
   ]
  },
  {
   "cell_type": "code",
   "execution_count": 7,
   "metadata": {
    "collapsed": false
   },
   "outputs": [
    {
     "name": "stdout",
     "output_type": "stream",
     "text": [
      "queue started..\n",
      "window started...\n"
     ]
    },
    {
     "name": "stderr",
     "output_type": "stream",
     "text": [
      "[autoreload of Electromagnetics.graphene failed: Traceback (most recent call last):\n",
      "  File \"/usr/lib/python3/dist-packages/IPython/extensions/autoreload.py\", line 229, in check\n",
      "    superreload(m, reload, self.old_objects)\n",
      "ImportError: cannot import name 'SymExprTree'\n",
      "]\n",
      "[autoreload of Electromagnetics.Misc failed: Traceback (most recent call last):\n",
      "  File \"/usr/lib/python3/dist-packages/IPython/extensions/autoreload.py\", line 229, in check\n",
      "    superreload(m, reload, self.old_objects)\n",
      "RuntimeError: maximum recursion depth exceeded in __instancecheck__\n",
      "]\n"
     ]
    }
   ],
   "source": [
    "%reload_ext autoreload\n",
    "%autoreload\n",
    "\n",
    "\n",
    "from Electromagnetics.RecGrid2D import *\n",
    "import queue\n",
    "\n",
    "que = queue.Queue()\n",
    "print(\"queue started..\")\n",
    "window = GUIMaker2D(wx=3.0, wy=6.0, wxp=600, wyp=400, que=que)\n",
    "    \n",
    "print('window started...')\n",
    "\n",
    "window.AttachGrid(rg)\n",
    "que.put([\"updategrid\"])\n",
    "que.put([\"toggleTestMode\"])"
   ]
  },
  {
   "cell_type": "code",
   "execution_count": 8,
   "metadata": {
    "collapsed": false
   },
   "outputs": [],
   "source": [
    "import numpy as np\n",
    "#from Electromagnetics import Misc \n",
    "from Electromagnetics.Misc import *\n",
    "\n",
    "colors = GetColorMap(NormalizeArrayTo0n1(exy_max, logscale=True))\n",
    "#print(colors)\n",
    "que.put([\"ColorCells\", colors])"
   ]
  },
  {
   "cell_type": "code",
   "execution_count": 35,
   "metadata": {
    "collapsed": false
   },
   "outputs": [],
   "source": [
    "que.put([\"MarkGridSides\", sidesX_di, \"red\"])\n",
    "que.put([\"MarkGridSides\", sidesY_di, \"red\"])"
   ]
  },
  {
   "cell_type": "code",
   "execution_count": 9,
   "metadata": {
    "collapsed": false
   },
   "outputs": [
    {
     "name": "stdout",
     "output_type": "stream",
     "text": [
      "k_eigs:  [ 5.42497272-1.81351735j  5.42497272-1.81351735j  3.91856675-1.08699424j\n",
      "  3.81398313-1.12728558j  3.63745319-1.2087989j ]\n"
     ]
    }
   ],
   "source": [
    "\n",
    "vbose = False\n",
    "freq = 3.1*constants.tera\n",
    "\n",
    "omega_0 = 2.0*math.pi*freq\n",
    "k_0_val = omega_0*sqrt(mu_0*eps_0)\n",
    "\n",
    "sigma_d, sigma_o = condKuboLorentzian(mu_c, B_0, tau, np.array([omega_0]), T)\n",
    "\n",
    "sig_graph = sigma_d[0]\n",
    "del_graph = 1.0*constants.micro\n",
    "width_graph = 100.0*constants.micro\n",
    "\n",
    "Eqs1 = [Eqs[i].subs([(maxwell.mu, mu_0), (maxwell.eps, eps_0), (maxwell.sigma, 0.0), (maxwell.omega, omega_0), (k_0, k_0_val)]).simplify() for i in range(len(Eqs))]\n",
    "if vbose:\n",
    "    display(Math('Eqs1 = ' + latex(Matrix(Eqs1))))\n",
    "    print(srepr(Eqs1[0]))\n",
    "\n",
    "Eqs2 = [Eqs[i].subs([(maxwell.mu, mu_r*mu_0), (maxwell.eps, eps_r*eps_0), (maxwell.sigma, sig_graph/del_graph), (maxwell.omega, omega_0), (k_0, k_0_val)]).simplify() for i in range(len(Eqs))]\n",
    "if vbose:\n",
    "    display(Math('Eqs2 = ' + latex(Matrix(Eqs2))))\n",
    "\n",
    "\n",
    "var_list = [maxwell.Ex, maxwell.Ey, maxwell.Hx, maxwell.Hy, maxwell.Ez, maxwell.Hz]\n",
    "if vbose:\n",
    "    display(Math('Vars = ' + latex(Matrix(var_list))))\n",
    "\n",
    "\n",
    "\n",
    "if vbose:\n",
    "    print('disintegrating equations')\n",
    "Eqs_b = [[Eqs[0].subs(maxwell.Ez, 0).doit().simplify(), Eqs[0].subs(maxwell.Hy, 0).simplify()],\n",
    "             [Eqs[1].subs(maxwell.Ez, 0).doit().simplify(), Eqs[1].subs(maxwell.Hx, 0).simplify()],\n",
    "             [Eqs[2].subs(maxwell.Hz, 0).doit().simplify(), Eqs[2].subs(maxwell.Ey, 0).simplify()],\n",
    "             [Eqs[3].subs(maxwell.Hz, 0).doit().simplify(), Eqs[3].subs(maxwell.Ex, 0).simplify()],\n",
    "             [Eqs[4].subs([(maxwell.Hx, 0), (maxwell.Hy, 0)]).doit().simplify(), Eqs[4].subs([(maxwell.Ez, 0), (maxwell.Hy, 0)]).subs(Derivative(0, maxwell.x), 0).simplify(), Eqs[4].subs([(maxwell.Ez, 0), (maxwell.Hx, 0)]).subs(Derivative(0, maxwell.y), 0).simplify()],\n",
    "             [Eqs[5].subs([(maxwell.Ex, 0), (maxwell.Ey, 0)]).doit().simplify(), Eqs[5].subs([(maxwell.Hz, 0), (maxwell.Ey, 0)]).subs(Derivative(0, maxwell.x), 0).simplify(), Eqs[5].subs([(maxwell.Hz, 0), (maxwell.Ex, 0)]).subs(Derivative(0, maxwell.y), 0).simplify()]]\n",
    "if vbose:\n",
    "    for i in range(len(Eqs_b)):\n",
    "        display(Math('Eqs_b[{}] = '.format(i) + latex(Matrix(Eqs_b[i]).T)))\n",
    "\n",
    "if vbose:\n",
    "    print('Eq1 boundary equations ')\n",
    "Eqs1_b = [[Eqs_b[i][j].subs([(maxwell.mu, mu_0), (maxwell.eps, eps_0), (maxwell.sigma, 0.0), (maxwell.omega, omega_0), (k_0, k_0_val)]) for j in range(len(Eqs_b[i]))] for i in range(len(Eqs_b))]\n",
    "if vbose:\n",
    "    for i in range(len(Eqs1_b)):\n",
    "        display(Math('EQs1_b[{}] = '.format(i) + latex(Matrix(Eqs1_b[i]).T)))\n",
    "\n",
    "if vbose:\n",
    "    print('Eq2 boundary equations ')\n",
    "Eqs2_b = [[Eqs_b[i][j].subs([(maxwell.mu, mu_r*mu_0), (maxwell.eps, eps_r*eps_0), (maxwell.sigma, sig_graph/del_graph), (maxwell.omega, omega_0), (k_0, k_0_val)]) for j in range(len(Eqs_b[i]))] for i in range(len(Eqs_b))]\n",
    "if vbose:\n",
    "    for i in range(len(Eqs2_b)):\n",
    "        display(Math('Eqs2_b[{}] = '.format(i) + latex(Matrix(Eqs2_b[i]).T)))\n",
    "\n",
    "    \n",
    "    \n",
    "rg.AddExpression(region_fs, Eqs1, var_list)\n",
    "rg.AddExpression(region_di, Eqs2, var_list)\n",
    "\n",
    "eq_list1 = [{'zero':Float(0), 'one':(Eqs1_b[0][0]+Eqs1_b[0][1])/2.0, 'two':(Eqs1_b[0][0]+Eqs1_b[0][1])},\n",
    "            {'zero':Float(0), 'one':(Eqs1_b[1][0]+Eqs1_b[1][1])/2.0, 'two':(Eqs1_b[1][0]+Eqs1_b[1][1])},\n",
    "            {'zero':Float(0), 'one':(Eqs1_b[2][0]/2.0+Eqs1_b[2][1]), 'two':(Eqs1_b[2][0]+Eqs1_b[2][1])},\n",
    "            {'zero':Float(0), 'one':(Eqs1_b[3][0]/2.0+Eqs1_b[3][1]), 'two':(Eqs1_b[3][0]+Eqs1_b[3][1])},\n",
    "            {'zero':Float(0), 'one':(Eqs1_b[4][0]/4.0), 'two':(Eqs1_b[4][0]/2.0), 'two_x':(Eqs1_b[4][1]+Eqs1_b[4][2]/2.0), 'two_y':(Eqs1_b[4][1]/2.0+Eqs1_b[4][2]), 'three':(Eqs1_b[4][0]*3.0/4.0+Eqs1_b[4][1]+Eqs1_b[4][2]), 'four':(Eqs1_b[4][0]+Eqs1_b[4][1]+Eqs1_b[4][2])},\n",
    "           {}]\n",
    "var_type = ['SX', 'SY', 'SY', 'SX', 'N', 'C']\n",
    "rg.SetRegionBoundaryEquations(region_fs, eq_list1, var_list, var_type)\n",
    "\n",
    "eq_list2 = [{'zero':Float(0), 'one':(Eqs2_b[0][0]+Eqs2_b[0][1])/2.0, 'two':(Eqs2_b[0][0]+Eqs2_b[0][1])},\n",
    "            {'zero':Float(0), 'one':(Eqs2_b[1][0]+Eqs2_b[1][1])/2.0, 'two':(Eqs2_b[1][0]+Eqs2_b[1][1])},\n",
    "            {'zero':Float(0), 'one':(Eqs2_b[2][0]/2.0+Eqs2_b[2][1]), 'two':(Eqs2_b[2][0]+Eqs2_b[2][1])},\n",
    "            {'zero':Float(0), 'one':(Eqs2_b[3][0]/2.0+Eqs2_b[3][1]), 'two':(Eqs2_b[3][0]+Eqs2_b[3][1])},\n",
    "            {'zero':Float(0), 'one':(Eqs2_b[4][0]/4.0), 'two':(Eqs2_b[4][0]/2.0), 'two_x':(Eqs2_b[4][1]+Eqs1_b[4][2]/2.0), 'two_y':(Eqs2_b[4][1]/2.0+Eqs1_b[4][2]), 'three':(Eqs2_b[4][0]*3.0/4.0+Eqs2_b[4][1]+Eqs2_b[4][2]), 'four':(Eqs2_b[4][0]+Eqs2_b[4][1]+Eqs2_b[4][2])},\n",
    "           {}]\n",
    "var_type = ['SX', 'SY', 'SY', 'SX', 'N', 'C']\n",
    "rg.SetRegionBoundaryEquations(region_di, eq_list2, var_list, var_type)\n",
    "\n",
    "\n",
    "A_coo = rg.ConstructInitialMatrix(save=True)\n",
    "if vbose:\n",
    "    print(\"InitialMatrix nnz: \", A_coo.nnz)\n",
    "\n",
    "A_coo = rg.ConstructInitialMatrix_Shared(A_coo, save=True)\n",
    "if vbose:\n",
    "    print(\"InitialMatrix_Shared nnz: \", A_coo.nnz)\n",
    "\n",
    "A_coo = rg.ApplyDirichletBoundaryCondition(A_coo, save=True)\n",
    "\n",
    "if vbose:\n",
    "    print(\"InitialMatrixfinal nnz: \",A_coo.nnz) \n",
    "\n",
    "A_fin = rg.EliminateVarible_Direct(A_coo, [maxwell.Ez, maxwell.Hz])\n",
    "\n",
    "k_eigs, k_vecs = rg.SolveEigenvalues(A_fin, 5, lambda_0=15.0)\n",
    "\n",
    "print('k_eigs: ', k_eigs)\n",
    "\n",
    "if vbose:\n",
    "    print('k_eigs: ', k_eigs)\n",
    "    print('k_vecs.shape: ', k_vecs.shape)\n"
   ]
  },
  {
   "cell_type": "code",
   "execution_count": 62,
   "metadata": {
    "collapsed": false
   },
   "outputs": [
    {
     "name": "stdout",
     "output_type": "stream",
     "text": [
      "exy_len:  (5.75616691887e-07+0j)\n",
      "(3544,) (3544,)\n",
      "(3544,)\n",
      "correlation:  0.152877384062\n"
     ]
    }
   ],
   "source": [
    "rg.GetFromSolutionIndexToInitialIndex(k_vecs[:,4], A_coo)\n",
    "\n",
    "\n",
    "exy_cell = rg.InterpolateVariablesValuesToCellCenters([maxwell.Ex, maxwell.Ey])\n",
    "ex = np.array(exy_cell[0])\n",
    "ey = np.array(exy_cell[1])\n",
    "\n",
    "ex_sq = rg.CalculateSurfaceIntegral(ex, np.conjugate(ex))\n",
    "ey_sq = rg.CalculateSurfaceIntegral(ey, np.conjugate(ey))\n",
    "exy_len = np.sqrt(ex_sq + ey_sq)\n",
    "ex /= exy_len\n",
    "ey /= exy_len\n",
    "print('exy_len: ', exy_len)\n",
    "\n",
    "\n",
    "exy_max = GetMaxComplexVec2D(ex, ey)\n",
    "\n",
    "print(ex.shape, ey.shape)\n",
    "print(exy_max.shape)\n",
    "\n",
    "ex0_ex1 =  rg.CalculateSurfaceIntegral(ex, np.conjugate(ex_prev))\n",
    "ey0_ey1 =  rg.CalculateSurfaceIntegral(ey, np.conjugate(ey_prev))\n",
    "\n",
    "e0e1_corr = ex0_ex1 + ey0_ey1\n",
    "\n",
    "print('correlation: ', abs(e0e1_corr))\n"
   ]
  },
  {
   "cell_type": "code",
   "execution_count": 27,
   "metadata": {
    "collapsed": false
   },
   "outputs": [],
   "source": []
  },
  {
   "cell_type": "code",
   "execution_count": null,
   "metadata": {
    "collapsed": false
   },
   "outputs": [],
   "source": []
  },
  {
   "cell_type": "code",
   "execution_count": 35,
   "metadata": {
    "collapsed": false
   },
   "outputs": [
    {
     "name": "stdout",
     "output_type": "stream",
     "text": [
      "n_ratio:  47   val_max:  0.173262740383\n",
      "n_high:  87\n",
      "cells_in_extended:  [274, 518, 519, 603, 553, 601, 674, 790, 1271, 2437, 602, 673, 675, 1450, 1452, 1453, 1454, 980, 983, 2431, 2306, 772, 2309, 774, 2312, 2614, 2615, 2616, 2617, 2618, 2619, 2620, 2621, 2622, 2623, 2624, 2625, 2629, 2631, 844, 845, 846, 1948, 1451, 2750, 979, 981, 982, 984, 2806, 2807, 2808, 2305, 2307, 2311, 2313, 4363, 4365, 4366, 4624, 4626, 4627, 4372, 4629, 4374, 4375, 4632, 2308, 2310, 4630, 4631, 4368, 4628, 3450, 3451, 3452, 3453, 3454, 3455, 3456, 3457, 3458, 3459, 3460, 3461, 3462, 3463, 3464, 3465, 3466, 3467, 3468, 4377, 1949, 1950, 1967, 1968, 4071, 4591, 4592, 4593, 4594, 4595, 4596]\n"
     ]
    }
   ],
   "source": [
    "cell_ref = rg.FindCellIndicesWithHighestValues([maxwell.Ex, maxwell.Ey], 2.0)\n",
    "rg.RefineCells(cell_ref)\n"
   ]
  },
  {
   "cell_type": "code",
   "execution_count": 38,
   "metadata": {
    "collapsed": false
   },
   "outputs": [
    {
     "name": "stdout",
     "output_type": "stream",
     "text": [
      "stopping thread!\n",
      "thread exiting..!\n"
     ]
    }
   ],
   "source": []
  },
  {
   "cell_type": "code",
   "execution_count": null,
   "metadata": {
    "collapsed": false
   },
   "outputs": [],
   "source": []
  }
 ],
 "metadata": {
  "kernelspec": {
   "display_name": "Python 3",
   "language": "python",
   "name": "python3"
  },
  "language_info": {
   "codemirror_mode": {
    "name": "ipython",
    "version": 3
   },
   "file_extension": ".py",
   "mimetype": "text/x-python",
   "name": "python",
   "nbconvert_exporter": "python",
   "pygments_lexer": "ipython3",
   "version": "3.5.2"
  }
 },
 "nbformat": 4,
 "nbformat_minor": 0
}
