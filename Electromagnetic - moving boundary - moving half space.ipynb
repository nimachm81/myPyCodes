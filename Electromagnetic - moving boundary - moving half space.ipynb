{
 "cells": [
  {
   "cell_type": "code",
   "execution_count": 1,
   "metadata": {
    "collapsed": false
   },
   "outputs": [
    {
     "data": {
      "text/latex": [
       "$$E_I = E_{i} e^{i \\omega_i t - i k_{i} z}$$"
      ],
      "text/plain": [
       "<IPython.core.display.Math object>"
      ]
     },
     "metadata": {},
     "output_type": "display_data"
    },
    {
     "data": {
      "text/latex": [
       "$$H_I = H_{i} e^{i \\omega_i t - i k_{i} z}$$"
      ],
      "text/plain": [
       "<IPython.core.display.Math object>"
      ]
     },
     "metadata": {},
     "output_type": "display_data"
    },
    {
     "data": {
      "text/latex": [
       "$$E_R = E_{r} e^{- i \\omega_r t - i k_{r} z}$$"
      ],
      "text/plain": [
       "<IPython.core.display.Math object>"
      ]
     },
     "metadata": {},
     "output_type": "display_data"
    },
    {
     "data": {
      "text/latex": [
       "$$H_R = - H_{r} e^{- i \\omega_r t - i k_{r} z}$$"
      ],
      "text/plain": [
       "<IPython.core.display.Math object>"
      ]
     },
     "metadata": {},
     "output_type": "display_data"
    },
    {
     "data": {
      "text/latex": [
       "$$E_T = E_{t} e^{i \\omega_t t - i k_{t} z}$$"
      ],
      "text/plain": [
       "<IPython.core.display.Math object>"
      ]
     },
     "metadata": {},
     "output_type": "display_data"
    },
    {
     "data": {
      "text/latex": [
       "$$H_T = H_{t} e^{i \\omega_t t - i k_{t} z}$$"
      ],
      "text/plain": [
       "<IPython.core.display.Math object>"
      ]
     },
     "metadata": {},
     "output_type": "display_data"
    },
    {
     "data": {
      "text/latex": [
       "$$EQ_1 = E_{i} \\epsilon_1 e^{i \\omega_i t - i k_{i} z} + \\frac{H_{i}}{v} e^{i \\omega_i t - i k_{i} z} - \\epsilon_2 \\left(E_{r} e^{- i \\omega_r t - i k_{r} z} + E_{t} e^{i \\omega_t t - i k_{t} z}\\right) - \\frac{1}{v} \\left(- H_{r} e^{- i \\omega_r t - i k_{r} z} + H_{t} e^{i \\omega_t t - i k_{t} z}\\right)$$"
      ],
      "text/plain": [
       "<IPython.core.display.Math object>"
      ]
     },
     "metadata": {},
     "output_type": "display_data"
    },
    {
     "data": {
      "text/latex": [
       "$$EQ_2 = \\frac{E_{i}}{v} e^{i \\omega_i t - i k_{i} z} + H_{i} \\mu_1 e^{i \\omega_i t - i k_{i} z} - \\mu_2 \\left(- H_{r} e^{- i \\omega_r t - i k_{r} z} + H_{t} e^{i \\omega_t t - i k_{t} z}\\right) - \\frac{1}{v} \\left(E_{r} e^{- i \\omega_r t - i k_{r} z} + E_{t} e^{i \\omega_t t - i k_{t} z}\\right)$$"
      ],
      "text/plain": [
       "<IPython.core.display.Math object>"
      ]
     },
     "metadata": {},
     "output_type": "display_data"
    },
    {
     "data": {
      "text/latex": [
       "$$EQ_1 = E_{i} \\epsilon_1 e^{i c_{1} k_{i} t - i k_{i} z} + \\frac{H_{i}}{v} e^{i c_{1} k_{i} t - i k_{i} z} - \\epsilon_2 \\left(E_{r} e^{- i c_{2} k_{r} t - i k_{r} z} + E_{t} e^{i c_{2} k_{t} t - i k_{t} z}\\right) - \\frac{1}{v} \\left(- H_{r} e^{- i c_{2} k_{r} t - i k_{r} z} + H_{t} e^{i c_{2} k_{t} t - i k_{t} z}\\right)$$"
      ],
      "text/plain": [
       "<IPython.core.display.Math object>"
      ]
     },
     "metadata": {},
     "output_type": "display_data"
    },
    {
     "data": {
      "text/latex": [
       "$$EQ_2 = \\frac{E_{i}}{v} e^{i c_{1} k_{i} t - i k_{i} z} + H_{i} \\mu_1 e^{i c_{1} k_{i} t - i k_{i} z} - \\mu_2 \\left(- H_{r} e^{- i c_{2} k_{r} t - i k_{r} z} + H_{t} e^{i c_{2} k_{t} t - i k_{t} z}\\right) - \\frac{1}{v} \\left(E_{r} e^{- i c_{2} k_{r} t - i k_{r} z} + E_{t} e^{i c_{2} k_{t} t - i k_{t} z}\\right)$$"
      ],
      "text/plain": [
       "<IPython.core.display.Math object>"
      ]
     },
     "metadata": {},
     "output_type": "display_data"
    },
    {
     "data": {
      "text/latex": [
       "$$EQ_1 = E_{i} \\epsilon_1 e^{- \\frac{i c_{1}}{v} k_{i} z - i k_{i} z} + \\frac{H_{i}}{v} e^{- \\frac{i c_{1}}{v} k_{i} z - i k_{i} z} - \\epsilon_2 \\left(E_{r} e^{\\frac{i c_{2}}{v} k_{r} z - i k_{r} z} + E_{t} e^{- \\frac{i c_{2}}{v} k_{t} z - i k_{t} z}\\right) - \\frac{1}{v} \\left(- H_{r} e^{\\frac{i c_{2}}{v} k_{r} z - i k_{r} z} + H_{t} e^{- \\frac{i c_{2}}{v} k_{t} z - i k_{t} z}\\right)$$"
      ],
      "text/plain": [
       "<IPython.core.display.Math object>"
      ]
     },
     "metadata": {},
     "output_type": "display_data"
    },
    {
     "data": {
      "text/latex": [
       "$$EQ_2 = \\frac{E_{i}}{v} e^{- \\frac{i c_{1}}{v} k_{i} z - i k_{i} z} + H_{i} \\mu_1 e^{- \\frac{i c_{1}}{v} k_{i} z - i k_{i} z} - \\mu_2 \\left(- H_{r} e^{\\frac{i c_{2}}{v} k_{r} z - i k_{r} z} + H_{t} e^{- \\frac{i c_{2}}{v} k_{t} z - i k_{t} z}\\right) - \\frac{1}{v} \\left(E_{r} e^{\\frac{i c_{2}}{v} k_{r} z - i k_{r} z} + E_{t} e^{- \\frac{i c_{2}}{v} k_{t} z - i k_{t} z}\\right)$$"
      ],
      "text/plain": [
       "<IPython.core.display.Math object>"
      ]
     },
     "metadata": {},
     "output_type": "display_data"
    },
    {
     "data": {
      "text/latex": [
       "$$k_t = \\frac{k_{i} \\left(c_{1} + v\\right)}{c_{2} + v}$$"
      ],
      "text/plain": [
       "<IPython.core.display.Math object>"
      ]
     },
     "metadata": {},
     "output_type": "display_data"
    },
    {
     "data": {
      "text/latex": [
       "$$k_r = \\frac{k_{i} \\left(c_{1} + v\\right)}{- c_{2} + v}$$"
      ],
      "text/plain": [
       "<IPython.core.display.Math object>"
      ]
     },
     "metadata": {},
     "output_type": "display_data"
    },
    {
     "data": {
      "text/latex": [
       "$$EQ_1 = E_{i} \\epsilon_1 + \\frac{H_{i}}{v} - \\epsilon_2 \\left(E_{r} + E_{t}\\right) - \\frac{1}{v} \\left(- H_{r} + H_{t}\\right)$$"
      ],
      "text/plain": [
       "<IPython.core.display.Math object>"
      ]
     },
     "metadata": {},
     "output_type": "display_data"
    },
    {
     "data": {
      "text/latex": [
       "$$EQ_2 = \\frac{E_{i}}{v} + H_{i} \\mu_1 - \\mu_2 \\left(- H_{r} + H_{t}\\right) - \\frac{1}{v} \\left(E_{r} + E_{t}\\right)$$"
      ],
      "text/plain": [
       "<IPython.core.display.Math object>"
      ]
     },
     "metadata": {},
     "output_type": "display_data"
    },
    {
     "data": {
      "text/latex": [
       "$$EQ_1 = E_{i} \\epsilon_1 + \\frac{E_{i}}{\\eta_1 v} - \\epsilon_2 \\left(E_{r} + E_{t}\\right) - \\frac{1}{v} \\left(- \\frac{E_{r}}{\\eta_2} + \\frac{E_{t}}{\\eta_2}\\right)$$"
      ],
      "text/plain": [
       "<IPython.core.display.Math object>"
      ]
     },
     "metadata": {},
     "output_type": "display_data"
    },
    {
     "data": {
      "text/latex": [
       "$$EQ_2 = \\frac{E_{i}}{v} + \\frac{E_{i} \\mu_1}{\\eta_1} - \\mu_2 \\left(- \\frac{E_{r}}{\\eta_2} + \\frac{E_{t}}{\\eta_2}\\right) - \\frac{1}{v} \\left(E_{r} + E_{t}\\right)$$"
      ],
      "text/plain": [
       "<IPython.core.display.Math object>"
      ]
     },
     "metadata": {},
     "output_type": "display_data"
    },
    {
     "data": {
      "text/latex": [
       "$$\\text{coeff-eqs} : \\left[\\begin{matrix}- \\epsilon_2 \\left(R + T\\right) - \\frac{1}{v} \\left(- \\frac{R}{\\eta_2} + \\frac{T}{\\eta_2}\\right)\\\\- \\mu_2 \\left(- \\frac{R}{\\eta_2} + \\frac{T}{\\eta_2}\\right) - \\frac{1}{v} \\left(R + T\\right)\\end{matrix}\\right]$$"
      ],
      "text/plain": [
       "<IPython.core.display.Math object>"
      ]
     },
     "metadata": {},
     "output_type": "display_data"
    },
    {
     "data": {
      "text/latex": [
       "$$rhs : \\left[\\begin{matrix}- \\epsilon_1 - \\frac{1}{\\eta_1 v}\\\\- \\frac{1}{v} - \\frac{\\mu_1}{\\eta_1}\\end{matrix}\\right]$$"
      ],
      "text/plain": [
       "<IPython.core.display.Math object>"
      ]
     },
     "metadata": {},
     "output_type": "display_data"
    },
    {
     "data": {
      "text/latex": [
       "$$coeff: \\left[\\begin{matrix}- \\epsilon_2 - \\frac{1}{\\eta_2 v} & - \\epsilon_2 + \\frac{1}{\\eta_2 v}\\\\- \\frac{1}{v} - \\frac{\\mu_2}{\\eta_2} & - \\frac{1}{v} + \\frac{\\mu_2}{\\eta_2}\\end{matrix}\\right]$$"
      ],
      "text/plain": [
       "<IPython.core.display.Math object>"
      ]
     },
     "metadata": {},
     "output_type": "display_data"
    },
    {
     "data": {
      "text/latex": [
       "$$TR: \\left \\{ R : \\frac{\\eta_2 \\left(\\left(\\eta_1 + \\mu_1 v\\right) \\left(\\epsilon_2 \\eta_2 v + 1\\right) - \\left(\\eta_2 + \\mu_2 v\\right) \\left(\\epsilon_1 \\eta_1 v + 1\\right)\\right)}{\\eta_1 \\left(\\left(\\eta_2 - \\mu_2 v\\right) \\left(\\epsilon_2 \\eta_2 v + 1\\right) - \\left(\\eta_2 + \\mu_2 v\\right) \\left(\\epsilon_2 \\eta_2 v - 1\\right)\\right)}, \\quad T : \\frac{\\eta_2 \\left(- \\left(\\eta_1 + \\mu_1 v\\right) \\left(\\epsilon_2 \\eta_2 v - 1\\right) + \\left(\\eta_2 - \\mu_2 v\\right) \\left(\\epsilon_1 \\eta_1 v + 1\\right)\\right)}{\\eta_1 \\left(\\left(\\eta_2 - \\mu_2 v\\right) \\left(\\epsilon_2 \\eta_2 v + 1\\right) - \\left(\\eta_2 + \\mu_2 v\\right) \\left(\\epsilon_2 \\eta_2 v - 1\\right)\\right)}\\right \\}$$"
      ],
      "text/plain": [
       "<IPython.core.display.Math object>"
      ]
     },
     "metadata": {},
     "output_type": "display_data"
    },
    {
     "data": {
      "text/latex": [
       "$$T : \\frac{\\left(n_{1} + n_{2}\\right) \\left(n_{1} v + 1\\right)}{2 n_{2} \\left(n_{2} v + 1\\right)}$$"
      ],
      "text/plain": [
       "<IPython.core.display.Math object>"
      ]
     },
     "metadata": {},
     "output_type": "display_data"
    },
    {
     "data": {
      "text/latex": [
       "$$R : \\frac{\\left(n_{1} - n_{2}\\right) \\left(n_{1} v + 1\\right)}{2 n_{2} \\left(n_{2} v - 1\\right)}$$"
      ],
      "text/plain": [
       "<IPython.core.display.Math object>"
      ]
     },
     "metadata": {},
     "output_type": "display_data"
    }
   ],
   "source": [
    "## incident wave propagating forward (+z direction)\n",
    "\n",
    "from sympy import symbols, exp, I, latex, Matrix, solve, sqrt, cos, sin, eye\n",
    "from IPython.display import display, Math\n",
    "from Electromagnetics import Misc\n",
    "\n",
    "print_latex = True\n",
    "\n",
    "z, t = symbols('z, t')\n",
    "omega_i, omega_r, omega_t = symbols(r'\\omega_i \\omega_r \\omega_t')\n",
    "k_i, k_r, k_t = symbols(r'k_i k_r k_t')\n",
    "eps_1, eps_2 = symbols(r'\\epsilon_1 \\epsilon_2', real=True, positive=True)\n",
    "mu_1, mu_2 = symbols(r'\\mu_1 \\mu_2', real=True, positive=True)\n",
    "c_1, c_2 = symbols(r'c_1 c_2')\n",
    "n_1, n_2 = symbols(r'n_1 n_2')\n",
    "eta_1, eta_2 = symbols(r'\\eta_1 \\eta_2')\n",
    "T, R = symbols(r'T R')\n",
    "v = symbols('v')\n",
    "\n",
    "E_i, E_r, E_t = symbols('E_i E_r E_t')\n",
    "H_i, H_r, H_t = symbols('H_i H_r H_t')\n",
    "\n",
    "E_I = E_i*exp(I*omega_i*t - I*k_i*z)\n",
    "H_I = H_i*exp(I*omega_i*t - I*k_i*z)\n",
    "E_R =  E_r*exp(-I*omega_r*t - I*k_r*z)\n",
    "H_R = -H_r*exp(-I*omega_r*t - I*k_r*z)\n",
    "E_T = E_t*exp(I*omega_t*t - I*k_t*z)\n",
    "H_T = H_t*exp(I*omega_t*t - I*k_t*z)\n",
    "\n",
    "display(Math(\"E_I = \"+ latex(E_I)))\n",
    "display(Math(\"H_I = \"+ latex(H_I)))\n",
    "display(Math(\"E_R = \"+ latex(E_R)))\n",
    "display(Math(\"H_R = \"+ latex(H_R)))\n",
    "display(Math(\"E_T = \"+ latex(E_T)))\n",
    "display(Math(\"H_T = \"+ latex(H_T)))\n",
    "\n",
    "## Half space moving at velocity -v\n",
    "## Boundary conditions: continuity of D+H/v and B+E/v\n",
    "\n",
    "eq_1 = eps_1*E_I+H_I/v - ( eps_2*(E_R+E_T)+(H_R+H_T)/v )\n",
    "eq_2 = mu_1*H_I+E_I/v - ( mu_2*(H_R+H_T)+(E_R+E_T)/v )\n",
    "\n",
    "display(Math(\"EQ_1 = \"+ latex(eq_1)))\n",
    "display(Math(\"EQ_2 = \"+ latex(eq_2)))\n",
    "\n",
    "eq_1 = eq_1.subs([(omega_i, k_i*c_1), (omega_r, k_r*c_2),(omega_t, k_t*c_2)])\n",
    "eq_2 = eq_2.subs([(omega_i, k_i*c_1), (omega_r, k_r*c_2),(omega_t, k_t*c_2)])\n",
    "\n",
    "display(Math(\"EQ_1 = \"+ latex(eq_1)))\n",
    "display(Math(\"EQ_2 = \"+ latex(eq_2)))\n",
    "\n",
    "eq_1 = eq_1.subs(t, -z/v)\n",
    "eq_2 = eq_2.subs(t, -z/v)\n",
    "\n",
    "display(Math(\"EQ_1 = \"+ latex(eq_1)))\n",
    "display(Math(\"EQ_2 = \"+ latex(eq_2)))\n",
    "\n",
    "eq_kt = (1+c_2/v)*k_t - (1+c_1/v)*k_i\n",
    "eq_kr = (1-c_2/v)*k_r - (1+c_1/v)*k_i\n",
    "k_t_res = solve(eq_kt, k_t)[0]\n",
    "k_r_res = solve(eq_kr, k_r)[0]\n",
    "display(Math(\"k_t = \"+ latex(k_t_res)))\n",
    "display(Math(\"k_r = \"+ latex(k_r_res)))\n",
    "\n",
    "\n",
    "eq_1 = eq_1.subs(z, 0)\n",
    "eq_2 = eq_2.subs(z, 0)\n",
    "\n",
    "display(Math(\"EQ_1 = \"+ latex(eq_1)))\n",
    "display(Math(\"EQ_2 = \"+ latex(eq_2)))\n",
    "\n",
    "eq_1 = eq_1.subs([(H_i, E_i/eta_1), (H_r, E_r/eta_2), (H_t, E_t/eta_2)])\n",
    "eq_2 = eq_2.subs([(H_i, E_i/eta_1), (H_r, E_r/eta_2), (H_t, E_t/eta_2)])\n",
    "\n",
    "display(Math(\"EQ_1 = \"+ latex(eq_1)))\n",
    "display(Math(\"EQ_2 = \"+ latex(eq_2)))\n",
    "\n",
    "eqs_mat = Matrix([eq_1, eq_2]).subs([(E_t, T), (E_r, R), (E_i, 1)])\n",
    "eq_rhs = -eqs_mat.subs([(T, 0), (R, 0)])\n",
    "eq_coeffs = eqs_mat + eq_rhs\n",
    "\n",
    "\n",
    "display(Math(r\"\\text{coeff-eqs} : \" + latex(eq_coeffs)))\n",
    "display(Math(\"rhs : \" + latex(eq_rhs)))\n",
    "\n",
    "coeffs = Misc.SymEqSysLinearToMat(eq_coeffs, [T, R])\n",
    "display(Math(\"coeff: \"+latex(coeffs)))\n",
    "\n",
    "TR = solve(eqs_mat, [T, R])\n",
    "display(Math(\"TR: \"+latex(TR)))\n",
    "\n",
    "T_res = TR[T].subs([(eta_1, 1/n_1), (eta_2, 1/n_2), (eps_1, n_1**2), (eps_2, n_2**2), (mu_1, 1), (mu_2, 1)]).simplify()\n",
    "R_res = TR[R].subs([(eta_1, 1/n_1), (eta_2, 1/n_2), (eps_1, n_1**2), (eps_2, n_2**2), (mu_1, 1), (mu_2, 1)]).simplify()\n",
    "\n",
    "display(Math(\"T : \"+latex(T_res)))\n",
    "display(Math(\"R : \"+latex(R_res)))\n",
    "\n",
    "Gamma_pp = T_res\n",
    "Gamma_mp = R_res\n",
    "\n",
    "k_pp = k_t_res\n",
    "k_mp = k_r_res\n"
   ]
  },
  {
   "cell_type": "code",
   "execution_count": 2,
   "metadata": {
    "collapsed": false
   },
   "outputs": [
    {
     "data": {
      "text/latex": [
       "$$E_I = E_{i} e^{- i \\omega_i t - i k_{i} z}$$"
      ],
      "text/plain": [
       "<IPython.core.display.Math object>"
      ]
     },
     "metadata": {},
     "output_type": "display_data"
    },
    {
     "data": {
      "text/latex": [
       "$$H_I = - H_{i} e^{- i \\omega_i t - i k_{i} z}$$"
      ],
      "text/plain": [
       "<IPython.core.display.Math object>"
      ]
     },
     "metadata": {},
     "output_type": "display_data"
    },
    {
     "data": {
      "text/latex": [
       "$$E_R = E_{r} e^{- i \\omega_r t - i k_{r} z}$$"
      ],
      "text/plain": [
       "<IPython.core.display.Math object>"
      ]
     },
     "metadata": {},
     "output_type": "display_data"
    },
    {
     "data": {
      "text/latex": [
       "$$H_R = - H_{r} e^{- i \\omega_r t - i k_{r} z}$$"
      ],
      "text/plain": [
       "<IPython.core.display.Math object>"
      ]
     },
     "metadata": {},
     "output_type": "display_data"
    },
    {
     "data": {
      "text/latex": [
       "$$E_T = E_{t} e^{i \\omega_t t - i k_{t} z}$$"
      ],
      "text/plain": [
       "<IPython.core.display.Math object>"
      ]
     },
     "metadata": {},
     "output_type": "display_data"
    },
    {
     "data": {
      "text/latex": [
       "$$H_T = H_{t} e^{i \\omega_t t - i k_{t} z}$$"
      ],
      "text/plain": [
       "<IPython.core.display.Math object>"
      ]
     },
     "metadata": {},
     "output_type": "display_data"
    },
    {
     "data": {
      "text/latex": [
       "$$EQ_1 = E_{i} \\epsilon_1 e^{- i \\omega_i t - i k_{i} z} - \\frac{H_{i}}{v} e^{- i \\omega_i t - i k_{i} z} - \\epsilon_2 \\left(E_{r} e^{- i \\omega_r t - i k_{r} z} + E_{t} e^{i \\omega_t t - i k_{t} z}\\right) - \\frac{1}{v} \\left(- H_{r} e^{- i \\omega_r t - i k_{r} z} + H_{t} e^{i \\omega_t t - i k_{t} z}\\right)$$"
      ],
      "text/plain": [
       "<IPython.core.display.Math object>"
      ]
     },
     "metadata": {},
     "output_type": "display_data"
    },
    {
     "data": {
      "text/latex": [
       "$$EQ_2 = \\frac{E_{i}}{v} e^{- i \\omega_i t - i k_{i} z} - H_{i} \\mu_1 e^{- i \\omega_i t - i k_{i} z} - \\mu_2 \\left(- H_{r} e^{- i \\omega_r t - i k_{r} z} + H_{t} e^{i \\omega_t t - i k_{t} z}\\right) - \\frac{1}{v} \\left(E_{r} e^{- i \\omega_r t - i k_{r} z} + E_{t} e^{i \\omega_t t - i k_{t} z}\\right)$$"
      ],
      "text/plain": [
       "<IPython.core.display.Math object>"
      ]
     },
     "metadata": {},
     "output_type": "display_data"
    },
    {
     "data": {
      "text/latex": [
       "$$EQ_1 = E_{i} \\epsilon_1 e^{- i c_{1} k_{i} t - i k_{i} z} - \\frac{H_{i}}{v} e^{- i c_{1} k_{i} t - i k_{i} z} - \\epsilon_2 \\left(E_{r} e^{- i c_{2} k_{r} t - i k_{r} z} + E_{t} e^{i c_{2} k_{t} t - i k_{t} z}\\right) - \\frac{1}{v} \\left(- H_{r} e^{- i c_{2} k_{r} t - i k_{r} z} + H_{t} e^{i c_{2} k_{t} t - i k_{t} z}\\right)$$"
      ],
      "text/plain": [
       "<IPython.core.display.Math object>"
      ]
     },
     "metadata": {},
     "output_type": "display_data"
    },
    {
     "data": {
      "text/latex": [
       "$$EQ_2 = \\frac{E_{i}}{v} e^{- i c_{1} k_{i} t - i k_{i} z} - H_{i} \\mu_1 e^{- i c_{1} k_{i} t - i k_{i} z} - \\mu_2 \\left(- H_{r} e^{- i c_{2} k_{r} t - i k_{r} z} + H_{t} e^{i c_{2} k_{t} t - i k_{t} z}\\right) - \\frac{1}{v} \\left(E_{r} e^{- i c_{2} k_{r} t - i k_{r} z} + E_{t} e^{i c_{2} k_{t} t - i k_{t} z}\\right)$$"
      ],
      "text/plain": [
       "<IPython.core.display.Math object>"
      ]
     },
     "metadata": {},
     "output_type": "display_data"
    },
    {
     "data": {
      "text/latex": [
       "$$EQ_1 = E_{i} \\epsilon_1 e^{\\frac{i c_{1}}{v} k_{i} z - i k_{i} z} - \\frac{H_{i}}{v} e^{\\frac{i c_{1}}{v} k_{i} z - i k_{i} z} - \\epsilon_2 \\left(E_{r} e^{\\frac{i c_{2}}{v} k_{r} z - i k_{r} z} + E_{t} e^{- \\frac{i c_{2}}{v} k_{t} z - i k_{t} z}\\right) - \\frac{1}{v} \\left(- H_{r} e^{\\frac{i c_{2}}{v} k_{r} z - i k_{r} z} + H_{t} e^{- \\frac{i c_{2}}{v} k_{t} z - i k_{t} z}\\right)$$"
      ],
      "text/plain": [
       "<IPython.core.display.Math object>"
      ]
     },
     "metadata": {},
     "output_type": "display_data"
    },
    {
     "data": {
      "text/latex": [
       "$$EQ_2 = \\frac{E_{i}}{v} e^{\\frac{i c_{1}}{v} k_{i} z - i k_{i} z} - H_{i} \\mu_1 e^{\\frac{i c_{1}}{v} k_{i} z - i k_{i} z} - \\mu_2 \\left(- H_{r} e^{\\frac{i c_{2}}{v} k_{r} z - i k_{r} z} + H_{t} e^{- \\frac{i c_{2}}{v} k_{t} z - i k_{t} z}\\right) - \\frac{1}{v} \\left(E_{r} e^{\\frac{i c_{2}}{v} k_{r} z - i k_{r} z} + E_{t} e^{- \\frac{i c_{2}}{v} k_{t} z - i k_{t} z}\\right)$$"
      ],
      "text/plain": [
       "<IPython.core.display.Math object>"
      ]
     },
     "metadata": {},
     "output_type": "display_data"
    },
    {
     "data": {
      "text/latex": [
       "$$k_t = \\frac{k_{i} \\left(- c_{1} + v\\right)}{c_{2} + v}$$"
      ],
      "text/plain": [
       "<IPython.core.display.Math object>"
      ]
     },
     "metadata": {},
     "output_type": "display_data"
    },
    {
     "data": {
      "text/latex": [
       "$$k_r = \\frac{k_{i} \\left(c_{1} - v\\right)}{c_{2} - v}$$"
      ],
      "text/plain": [
       "<IPython.core.display.Math object>"
      ]
     },
     "metadata": {},
     "output_type": "display_data"
    },
    {
     "data": {
      "text/latex": [
       "$$EQ_1 = E_{i} \\epsilon_1 - \\frac{H_{i}}{v} - \\epsilon_2 \\left(E_{r} + E_{t}\\right) - \\frac{1}{v} \\left(- H_{r} + H_{t}\\right)$$"
      ],
      "text/plain": [
       "<IPython.core.display.Math object>"
      ]
     },
     "metadata": {},
     "output_type": "display_data"
    },
    {
     "data": {
      "text/latex": [
       "$$EQ_2 = \\frac{E_{i}}{v} - H_{i} \\mu_1 - \\mu_2 \\left(- H_{r} + H_{t}\\right) - \\frac{1}{v} \\left(E_{r} + E_{t}\\right)$$"
      ],
      "text/plain": [
       "<IPython.core.display.Math object>"
      ]
     },
     "metadata": {},
     "output_type": "display_data"
    },
    {
     "data": {
      "text/latex": [
       "$$EQ_1 = E_{i} \\epsilon_1 - \\frac{E_{i}}{\\eta_1 v} - \\epsilon_2 \\left(E_{r} + E_{t}\\right) - \\frac{1}{v} \\left(- \\frac{E_{r}}{\\eta_2} + \\frac{E_{t}}{\\eta_2}\\right)$$"
      ],
      "text/plain": [
       "<IPython.core.display.Math object>"
      ]
     },
     "metadata": {},
     "output_type": "display_data"
    },
    {
     "data": {
      "text/latex": [
       "$$EQ_2 = \\frac{E_{i}}{v} - \\frac{E_{i} \\mu_1}{\\eta_1} - \\mu_2 \\left(- \\frac{E_{r}}{\\eta_2} + \\frac{E_{t}}{\\eta_2}\\right) - \\frac{1}{v} \\left(E_{r} + E_{t}\\right)$$"
      ],
      "text/plain": [
       "<IPython.core.display.Math object>"
      ]
     },
     "metadata": {},
     "output_type": "display_data"
    },
    {
     "data": {
      "text/latex": [
       "$$\\text{coeff-eqs} : \\left[\\begin{matrix}- \\epsilon_2 \\left(R + T\\right) - \\frac{1}{v} \\left(- \\frac{R}{\\eta_2} + \\frac{T}{\\eta_2}\\right)\\\\- \\mu_2 \\left(- \\frac{R}{\\eta_2} + \\frac{T}{\\eta_2}\\right) - \\frac{1}{v} \\left(R + T\\right)\\end{matrix}\\right]$$"
      ],
      "text/plain": [
       "<IPython.core.display.Math object>"
      ]
     },
     "metadata": {},
     "output_type": "display_data"
    },
    {
     "data": {
      "text/latex": [
       "$$rhs : \\left[\\begin{matrix}- \\epsilon_1 + \\frac{1}{\\eta_1 v}\\\\- \\frac{1}{v} + \\frac{\\mu_1}{\\eta_1}\\end{matrix}\\right]$$"
      ],
      "text/plain": [
       "<IPython.core.display.Math object>"
      ]
     },
     "metadata": {},
     "output_type": "display_data"
    },
    {
     "data": {
      "text/latex": [
       "$$coeff: \\left[\\begin{matrix}- \\epsilon_2 - \\frac{1}{\\eta_2 v} & - \\epsilon_2 + \\frac{1}{\\eta_2 v}\\\\- \\frac{1}{v} - \\frac{\\mu_2}{\\eta_2} & - \\frac{1}{v} + \\frac{\\mu_2}{\\eta_2}\\end{matrix}\\right]$$"
      ],
      "text/plain": [
       "<IPython.core.display.Math object>"
      ]
     },
     "metadata": {},
     "output_type": "display_data"
    },
    {
     "data": {
      "text/latex": [
       "$$TR: \\left \\{ R : \\frac{\\eta_2 \\left(\\left(\\eta_1 - \\mu_1 v\\right) \\left(\\epsilon_2 \\eta_2 v + 1\\right) - \\left(\\eta_2 + \\mu_2 v\\right) \\left(\\epsilon_1 \\eta_1 v - 1\\right)\\right)}{\\eta_1 \\left(\\left(\\eta_2 - \\mu_2 v\\right) \\left(\\epsilon_2 \\eta_2 v + 1\\right) - \\left(\\eta_2 + \\mu_2 v\\right) \\left(\\epsilon_2 \\eta_2 v - 1\\right)\\right)}, \\quad T : \\frac{\\eta_2 \\left(- \\left(\\eta_1 - \\mu_1 v\\right) \\left(\\epsilon_2 \\eta_2 v - 1\\right) + \\left(\\eta_2 - \\mu_2 v\\right) \\left(\\epsilon_1 \\eta_1 v - 1\\right)\\right)}{\\eta_1 \\left(\\left(\\eta_2 - \\mu_2 v\\right) \\left(\\epsilon_2 \\eta_2 v + 1\\right) - \\left(\\eta_2 + \\mu_2 v\\right) \\left(\\epsilon_2 \\eta_2 v - 1\\right)\\right)}\\right \\}$$"
      ],
      "text/plain": [
       "<IPython.core.display.Math object>"
      ]
     },
     "metadata": {},
     "output_type": "display_data"
    },
    {
     "data": {
      "text/latex": [
       "$$T : \\frac{\\left(n_{1} - n_{2}\\right) \\left(n_{1} v - 1\\right)}{2 n_{2} \\left(n_{2} v + 1\\right)}$$"
      ],
      "text/plain": [
       "<IPython.core.display.Math object>"
      ]
     },
     "metadata": {},
     "output_type": "display_data"
    },
    {
     "data": {
      "text/latex": [
       "$$R : \\frac{\\left(n_{1} + n_{2}\\right) \\left(n_{1} v - 1\\right)}{2 n_{2} \\left(n_{2} v - 1\\right)}$$"
      ],
      "text/plain": [
       "<IPython.core.display.Math object>"
      ]
     },
     "metadata": {},
     "output_type": "display_data"
    }
   ],
   "source": [
    "## incident wave propagating backward (-z direction using -omega)\n",
    "\n",
    "from sympy import symbols, exp, I, latex, Matrix, solve, sqrt\n",
    "from IPython.display import display, Math\n",
    "from Electromagnetics import Misc\n",
    "\n",
    "z, t = symbols('z, t')\n",
    "omega_i, omega_r, omega_t = symbols(r'\\omega_i \\omega_r \\omega_t')\n",
    "k_i, k_r, k_t = symbols(r'k_i k_r k_t')\n",
    "eps_1, eps_2 = symbols(r'\\epsilon_1 \\epsilon_2', real=True, positive=True)\n",
    "mu_1, mu_2 = symbols(r'\\mu_1 \\mu_2', real=True, positive=True)\n",
    "c_1, c_2 = symbols(r'c_1 c_2')\n",
    "n_1, n_2 = symbols(r'n_1 n_2')\n",
    "eta_1, eta_2 = symbols(r'\\eta_1 \\eta_2')\n",
    "T, R = symbols(r'T R')\n",
    "v = symbols('v')\n",
    "\n",
    "E_i, E_r, E_t = symbols('E_i E_r E_t')\n",
    "H_i, H_r, H_t = symbols('H_i H_r H_t')\n",
    "\n",
    "E_I = E_i*exp(-I*omega_i*t - I*k_i*z)\n",
    "H_I = -H_i*exp(-I*omega_i*t - I*k_i*z)\n",
    "E_R =  E_r*exp(-I*omega_r*t - I*k_r*z)\n",
    "H_R = -H_r*exp(-I*omega_r*t - I*k_r*z)\n",
    "E_T = E_t*exp(I*omega_t*t - I*k_t*z)\n",
    "H_T = H_t*exp(I*omega_t*t - I*k_t*z)\n",
    "\n",
    "display(Math(\"E_I = \"+ latex(E_I)))\n",
    "display(Math(\"H_I = \"+ latex(H_I)))\n",
    "display(Math(\"E_R = \"+ latex(E_R)))\n",
    "display(Math(\"H_R = \"+ latex(H_R)))\n",
    "display(Math(\"E_T = \"+ latex(E_T)))\n",
    "display(Math(\"H_T = \"+ latex(H_T)))\n",
    "\n",
    "## Half space moving at velocity -v\n",
    "## Boundary conditions: continuity of D+H/v and B+E/v\n",
    "\n",
    "eq_1 = eps_1*E_I+H_I/v - ( eps_2*(E_R+E_T)+(H_R+H_T)/v )\n",
    "eq_2 = mu_1*H_I+E_I/v - ( mu_2*(H_R+H_T)+(E_R+E_T)/v )\n",
    "\n",
    "display(Math(\"EQ_1 = \"+ latex(eq_1)))\n",
    "display(Math(\"EQ_2 = \"+ latex(eq_2)))\n",
    "\n",
    "eq_1 = eq_1.subs([(omega_i, k_i*c_1), (omega_r, k_r*c_2),(omega_t, k_t*c_2)])\n",
    "eq_2 = eq_2.subs([(omega_i, k_i*c_1), (omega_r, k_r*c_2),(omega_t, k_t*c_2)])\n",
    "\n",
    "display(Math(\"EQ_1 = \"+ latex(eq_1)))\n",
    "display(Math(\"EQ_2 = \"+ latex(eq_2)))\n",
    "\n",
    "eq_1 = eq_1.subs(t, -z/v)\n",
    "eq_2 = eq_2.subs(t, -z/v)\n",
    "\n",
    "display(Math(\"EQ_1 = \"+ latex(eq_1)))\n",
    "display(Math(\"EQ_2 = \"+ latex(eq_2)))\n",
    "\n",
    "eq_kt = (1+c_2/v)*k_t - (1-c_1/v)*k_i\n",
    "eq_kr = (1-c_2/v)*k_r - (1-c_1/v)*k_i\n",
    "k_t_res = solve(eq_kt, k_t)[0]\n",
    "k_r_res = solve(eq_kr, k_r)[0]\n",
    "display(Math(\"k_t = \"+ latex(k_t_res)))\n",
    "display(Math(\"k_r = \"+ latex(k_r_res)))\n",
    "\n",
    "\n",
    "eq_1 = eq_1.subs(z, 0)\n",
    "eq_2 = eq_2.subs(z, 0)\n",
    "\n",
    "display(Math(\"EQ_1 = \"+ latex(eq_1)))\n",
    "display(Math(\"EQ_2 = \"+ latex(eq_2)))\n",
    "\n",
    "eq_1 = eq_1.subs([(H_i, E_i/eta_1), (H_r, E_r/eta_2), (H_t, E_t/eta_2)])\n",
    "eq_2 = eq_2.subs([(H_i, E_i/eta_1), (H_r, E_r/eta_2), (H_t, E_t/eta_2)])\n",
    "\n",
    "display(Math(\"EQ_1 = \"+ latex(eq_1)))\n",
    "display(Math(\"EQ_2 = \"+ latex(eq_2)))\n",
    "\n",
    "eqs_mat = Matrix([eq_1, eq_2]).subs([(E_t, T), (E_r, R), (E_i, 1)])\n",
    "eq_rhs = -eqs_mat.subs([(T, 0), (R, 0)])\n",
    "eq_coeffs = eqs_mat + eq_rhs\n",
    "\n",
    "\n",
    "display(Math(r\"\\text{coeff-eqs} : \" + latex(eq_coeffs)))\n",
    "display(Math(\"rhs : \" + latex(eq_rhs)))\n",
    "\n",
    "coeffs = Misc.SymEqSysLinearToMat(eq_coeffs, [T, R])\n",
    "display(Math(\"coeff: \"+latex(coeffs)))\n",
    "\n",
    "TR = solve(eqs_mat, [T, R])\n",
    "display(Math(\"TR: \"+latex(TR)))\n",
    "\n",
    "T_res = TR[T].subs([(eta_1, 1/n_1), (eta_2, 1/n_2), (eps_1, n_1**2), (eps_2, n_2**2), (mu_1, 1), (mu_2, 1)]).simplify()\n",
    "R_res = TR[R].subs([(eta_1, 1/n_1), (eta_2, 1/n_2), (eps_1, n_1**2), (eps_2, n_2**2), (mu_1, 1), (mu_2, 1)]).simplify()\n",
    "\n",
    "display(Math(\"T : \"+latex(T_res)))\n",
    "display(Math(\"R : \"+latex(R_res)))\n",
    "\n",
    "Gamma_pm = T_res\n",
    "Gamma_mm = R_res\n",
    "\n",
    "k_pm = k_t_res\n",
    "k_mm = k_r_res\n"
   ]
  },
  {
   "cell_type": "code",
   "execution_count": 3,
   "metadata": {
    "collapsed": false
   },
   "outputs": [
    {
     "data": {
      "text/latex": [
       "$$M_{21} : \\left[\\begin{matrix}\\frac{\\left(n_{1} + n_{2}\\right) \\left(n_{1} v + 1\\right)}{2 n_{2} \\left(n_{2} v + 1\\right)} & \\frac{\\left(n_{1} - n_{2}\\right) \\left(n_{1} v - 1\\right)}{2 n_{2} \\left(n_{2} v + 1\\right)}\\\\\\frac{\\left(n_{1} - n_{2}\\right) \\left(n_{1} v + 1\\right)}{2 n_{2} \\left(n_{2} v - 1\\right)} & \\frac{\\left(n_{1} + n_{2}\\right) \\left(n_{1} v - 1\\right)}{2 n_{2} \\left(n_{2} v - 1\\right)}\\end{matrix}\\right]$$"
      ],
      "text/plain": [
       "<IPython.core.display.Math object>"
      ]
     },
     "metadata": {},
     "output_type": "display_data"
    },
    {
     "name": "stdout",
     "output_type": "stream",
     "text": [
      "\\left[\\begin{matrix}\\frac{\\left(n_{1} + n_{2}\\right) \\left(n_{1} v + 1\\right)}{2 n_{2} \\left(n_{2} v + 1\\right)} & \\frac{\\left(n_{1} - n_{2}\\right) \\left(n_{1} v - 1\\right)}{2 n_{2} \\left(n_{2} v + 1\\right)}\\\\\\frac{\\left(n_{1} - n_{2}\\right) \\left(n_{1} v + 1\\right)}{2 n_{2} \\left(n_{2} v - 1\\right)} & \\frac{\\left(n_{1} + n_{2}\\right) \\left(n_{1} v - 1\\right)}{2 n_{2} \\left(n_{2} v - 1\\right)}\\end{matrix}\\right]\n"
     ]
    },
    {
     "data": {
      "text/latex": [
       "$$M_{12} : \\left[\\begin{matrix}\\frac{\\left(n_{1} + n_{2}\\right) \\left(n_{2} v + 1\\right)}{2 n_{1} \\left(n_{1} v + 1\\right)} & \\frac{\\left(- n_{1} + n_{2}\\right) \\left(n_{2} v - 1\\right)}{2 n_{1} \\left(n_{1} v + 1\\right)}\\\\\\frac{\\left(- n_{1} + n_{2}\\right) \\left(n_{2} v + 1\\right)}{2 n_{1} \\left(n_{1} v - 1\\right)} & \\frac{\\left(n_{1} + n_{2}\\right) \\left(n_{2} v - 1\\right)}{2 n_{1} \\left(n_{1} v - 1\\right)}\\end{matrix}\\right]$$"
      ],
      "text/plain": [
       "<IPython.core.display.Math object>"
      ]
     },
     "metadata": {},
     "output_type": "display_data"
    },
    {
     "name": "stdout",
     "output_type": "stream",
     "text": [
      "\\left[\\begin{matrix}\\frac{\\left(n_{1} + n_{2}\\right) \\left(n_{2} v + 1\\right)}{2 n_{1} \\left(n_{1} v + 1\\right)} & \\frac{\\left(- n_{1} + n_{2}\\right) \\left(n_{2} v - 1\\right)}{2 n_{1} \\left(n_{1} v + 1\\right)}\\\\\\frac{\\left(- n_{1} + n_{2}\\right) \\left(n_{2} v + 1\\right)}{2 n_{1} \\left(n_{1} v - 1\\right)} & \\frac{\\left(n_{1} + n_{2}\\right) \\left(n_{2} v - 1\\right)}{2 n_{1} \\left(n_{1} v - 1\\right)}\\end{matrix}\\right]\n"
     ]
    },
    {
     "data": {
      "text/latex": [
       "$$M_{12}*M_{21} : \\left[\\begin{matrix}1 & 0\\\\0 & 1\\end{matrix}\\right]$$"
      ],
      "text/plain": [
       "<IPython.core.display.Math object>"
      ]
     },
     "metadata": {},
     "output_type": "display_data"
    },
    {
     "data": {
      "text/latex": [
       "$$k_{21}^{++} : \\frac{c_{1} + v}{c_{2} + v}$$"
      ],
      "text/plain": [
       "<IPython.core.display.Math object>"
      ]
     },
     "metadata": {},
     "output_type": "display_data"
    },
    {
     "data": {
      "text/latex": [
       "$$k_{21}^{-+} : \\frac{c_{1} + v}{- c_{2} + v}$$"
      ],
      "text/plain": [
       "<IPython.core.display.Math object>"
      ]
     },
     "metadata": {},
     "output_type": "display_data"
    },
    {
     "data": {
      "text/latex": [
       "$$k_{21}^{+-} : \\frac{- c_{1} + v}{c_{2} + v}$$"
      ],
      "text/plain": [
       "<IPython.core.display.Math object>"
      ]
     },
     "metadata": {},
     "output_type": "display_data"
    },
    {
     "data": {
      "text/latex": [
       "$$k_{21}^{--} : \\frac{c_{1} - v}{c_{2} - v}$$"
      ],
      "text/plain": [
       "<IPython.core.display.Math object>"
      ]
     },
     "metadata": {},
     "output_type": "display_data"
    },
    {
     "data": {
      "text/latex": [
       "$$k_{12}^{++} : \\frac{c_{2} + v}{c_{1} + v}$$"
      ],
      "text/plain": [
       "<IPython.core.display.Math object>"
      ]
     },
     "metadata": {},
     "output_type": "display_data"
    },
    {
     "data": {
      "text/latex": [
       "$$k_{12}^{-+} : \\frac{c_{2} + v}{- c_{1} + v}$$"
      ],
      "text/plain": [
       "<IPython.core.display.Math object>"
      ]
     },
     "metadata": {},
     "output_type": "display_data"
    },
    {
     "data": {
      "text/latex": [
       "$$k_{12}^{+-} : \\frac{- c_{2} + v}{c_{1} + v}$$"
      ],
      "text/plain": [
       "<IPython.core.display.Math object>"
      ]
     },
     "metadata": {},
     "output_type": "display_data"
    },
    {
     "data": {
      "text/latex": [
       "$$k_{12}^{--} : \\frac{c_{2} - v}{c_{1} - v}$$"
      ],
      "text/plain": [
       "<IPython.core.display.Math object>"
      ]
     },
     "metadata": {},
     "output_type": "display_data"
    },
    {
     "name": "stdout",
     "output_type": "stream",
     "text": [
      "forward waves: \n"
     ]
    },
    {
     "data": {
      "text/latex": [
       "$$k_{21}^{++}*k_{12}^{++} : 1$$"
      ],
      "text/plain": [
       "<IPython.core.display.Math object>"
      ]
     },
     "metadata": {},
     "output_type": "display_data"
    },
    {
     "data": {
      "text/latex": [
       "$$k_{21}^{-+}*k_{12}^{+-} : 1$$"
      ],
      "text/plain": [
       "<IPython.core.display.Math object>"
      ]
     },
     "metadata": {},
     "output_type": "display_data"
    },
    {
     "data": {
      "text/latex": [
       "$$k_{21}^{+-}*k_{12}^{++} : \\frac{- c_{1} + v}{c_{1} + v}$$"
      ],
      "text/plain": [
       "<IPython.core.display.Math object>"
      ]
     },
     "metadata": {},
     "output_type": "display_data"
    },
    {
     "data": {
      "text/latex": [
       "$$k_{21}^{--}*k_{12}^{+-} : \\frac{- c_{1} + v}{c_{1} + v}$$"
      ],
      "text/plain": [
       "<IPython.core.display.Math object>"
      ]
     },
     "metadata": {},
     "output_type": "display_data"
    },
    {
     "name": "stdout",
     "output_type": "stream",
     "text": [
      "backward waves: \n"
     ]
    },
    {
     "data": {
      "text/latex": [
       "$$k_{21}^{++}*k_{12}^{-+} : \\frac{c_{1} + v}{- c_{1} + v}$$"
      ],
      "text/plain": [
       "<IPython.core.display.Math object>"
      ]
     },
     "metadata": {},
     "output_type": "display_data"
    },
    {
     "data": {
      "text/latex": [
       "$$k_{21}^{-+}*k_{12}^{--} : \\frac{c_{1} + v}{- c_{1} + v}$$"
      ],
      "text/plain": [
       "<IPython.core.display.Math object>"
      ]
     },
     "metadata": {},
     "output_type": "display_data"
    },
    {
     "data": {
      "text/latex": [
       "$$k_{21}^{+-}*k_{12}^{-+} : 1$$"
      ],
      "text/plain": [
       "<IPython.core.display.Math object>"
      ]
     },
     "metadata": {},
     "output_type": "display_data"
    },
    {
     "data": {
      "text/latex": [
       "$$k_{21}^{--}*k_{12}^{--} : 1$$"
      ],
      "text/plain": [
       "<IPython.core.display.Math object>"
      ]
     },
     "metadata": {},
     "output_type": "display_data"
    },
    {
     "name": "stdout",
     "output_type": "stream",
     "text": [
      "--------------------  considering frequencies  --------------------\n"
     ]
    },
    {
     "data": {
      "text/latex": [
       "$$\\Psi_{i} : \\left \\{ \\left ( +, \\quad k_{i}\\right ) : a_{+}, \\quad \\left ( -, \\quad k_{i}\\right ) : a_{-}\\right \\}$$"
      ],
      "text/plain": [
       "<IPython.core.display.Math object>"
      ]
     },
     "metadata": {},
     "output_type": "display_data"
    },
    {
     "data": {
      "text/latex": [
       "$$\\Psi_{1} : \\left \\{ \\left ( +, \\quad \\frac{k_{i} \\left(- c_{1} + v\\right)}{c_{2} + v}\\right ) : \\frac{a_{-} \\left(n_{1} - n_{2}\\right) \\left(n_{1} v - 1\\right)}{2 n_{2} \\left(n_{2} v + 1\\right)}, \\quad \\left ( +, \\quad \\frac{k_{i} \\left(c_{1} + v\\right)}{c_{2} + v}\\right ) : \\frac{a_{+} \\left(n_{1} + n_{2}\\right) \\left(n_{1} v + 1\\right)}{2 n_{2} \\left(n_{2} v + 1\\right)}, \\quad \\left ( -, \\quad \\frac{k_{i} \\left(c_{1} - v\\right)}{c_{2} - v}\\right ) : \\frac{a_{-} \\left(n_{1} + n_{2}\\right) \\left(n_{1} v - 1\\right)}{2 n_{2} \\left(n_{2} v - 1\\right)}, \\quad \\left ( -, \\quad \\frac{k_{i} \\left(c_{1} + v\\right)}{- c_{2} + v}\\right ) : \\frac{a_{+} \\left(n_{1} - n_{2}\\right) \\left(n_{1} v + 1\\right)}{2 n_{2} \\left(n_{2} v - 1\\right)}\\right \\}$$"
      ],
      "text/plain": [
       "<IPython.core.display.Math object>"
      ]
     },
     "metadata": {},
     "output_type": "display_data"
    },
    {
     "data": {
      "text/latex": [
       "$$\\Psi_{2} : \\left \\{ \\left ( +, \\quad k_{i}\\right ) : \\frac{a_{+}}{4 n_{1} n_{2}} \\left(- n_{1} + n_{2}\\right) \\left(n_{1} - n_{2}\\right) + \\frac{a_{+} \\left(n_{1} + n_{2}\\right)^{2}}{4 n_{1} n_{2}}, \\quad \\left ( +, \\quad \\frac{k_{i} \\left(- c_{1} + v\\right)}{c_{1} + v}\\right ) : \\frac{a_{-} \\left(- n_{1} + n_{2}\\right) \\left(n_{1} + n_{2}\\right) \\left(n_{1} v - 1\\right)}{4 n_{1} n_{2} \\left(n_{1} v + 1\\right)} + \\frac{a_{-} \\left(n_{1} - n_{2}\\right) \\left(n_{1} + n_{2}\\right) \\left(n_{1} v - 1\\right)}{4 n_{1} n_{2} \\left(n_{1} v + 1\\right)}, \\quad \\left ( -, \\quad k_{i}\\right ) : \\frac{a_{-}}{4 n_{1} n_{2}} \\left(- n_{1} + n_{2}\\right) \\left(n_{1} - n_{2}\\right) + \\frac{a_{-} \\left(n_{1} + n_{2}\\right)^{2}}{4 n_{1} n_{2}}, \\quad \\left ( -, \\quad \\frac{k_{i} \\left(c_{1} + v\\right)}{- c_{1} + v}\\right ) : \\frac{a_{+} \\left(- n_{1} + n_{2}\\right) \\left(n_{1} + n_{2}\\right) \\left(n_{1} v + 1\\right)}{4 n_{1} n_{2} \\left(n_{1} v - 1\\right)} + \\frac{a_{+} \\left(n_{1} - n_{2}\\right) \\left(n_{1} + n_{2}\\right) \\left(n_{1} v + 1\\right)}{4 n_{1} n_{2} \\left(n_{1} v - 1\\right)}\\right \\}$$"
      ],
      "text/plain": [
       "<IPython.core.display.Math object>"
      ]
     },
     "metadata": {},
     "output_type": "display_data"
    },
    {
     "name": "stdout",
     "output_type": "stream",
     "text": [
      "----------------------------------------\n"
     ]
    },
    {
     "data": {
      "text/latex": [
       "$$\\Psi_{i} : \\left \\{ \\left ( +, \\quad k_{i}\\right ) : a_{+}, \\quad \\left ( -, \\quad \\frac{k_{i} \\left(c_{1} + v\\right)}{- c_{1} + v}\\right ) : a_{-}\\right \\}$$"
      ],
      "text/plain": [
       "<IPython.core.display.Math object>"
      ]
     },
     "metadata": {},
     "output_type": "display_data"
    },
    {
     "data": {
      "text/latex": [
       "$$\\Psi_{1} : \\left \\{ \\left ( +, \\quad \\frac{k_{i} \\left(c_{1} + v\\right)}{c_{2} + v}\\right ) : \\frac{a_{+} \\left(n_{1} + n_{2}\\right) \\left(n_{1} v + 1\\right)}{2 n_{2} \\left(n_{2} v + 1\\right)} + \\frac{a_{-} \\left(n_{1} - n_{2}\\right) \\left(n_{1} v - 1\\right)}{2 n_{2} \\left(n_{2} v + 1\\right)}, \\quad \\left ( -, \\quad \\frac{k_{i} \\left(c_{1} + v\\right)}{- c_{2} + v}\\right ) : \\frac{a_{+} \\left(n_{1} - n_{2}\\right) \\left(n_{1} v + 1\\right)}{2 n_{2} \\left(n_{2} v - 1\\right)} + \\frac{a_{-} \\left(n_{1} + n_{2}\\right) \\left(n_{1} v - 1\\right)}{2 n_{2} \\left(n_{2} v - 1\\right)}\\right \\}$$"
      ],
      "text/plain": [
       "<IPython.core.display.Math object>"
      ]
     },
     "metadata": {},
     "output_type": "display_data"
    },
    {
     "data": {
      "text/latex": [
       "$$\\Psi_{2} : \\left \\{ \\left ( +, \\quad k_{i}\\right ) : \\frac{1}{2 n_{1} \\left(n_{1} v + 1\\right)} \\left(- n_{1} + n_{2}\\right) \\left(n_{2} v - 1\\right) \\left(\\frac{a_{+} \\left(n_{1} - n_{2}\\right) \\left(n_{1} v + 1\\right)}{2 n_{2} \\left(n_{2} v - 1\\right)} + \\frac{a_{-} \\left(n_{1} + n_{2}\\right) \\left(n_{1} v - 1\\right)}{2 n_{2} \\left(n_{2} v - 1\\right)}\\right) + \\frac{1}{2 n_{1} \\left(n_{1} v + 1\\right)} \\left(n_{1} + n_{2}\\right) \\left(n_{2} v + 1\\right) \\left(\\frac{a_{+} \\left(n_{1} + n_{2}\\right) \\left(n_{1} v + 1\\right)}{2 n_{2} \\left(n_{2} v + 1\\right)} + \\frac{a_{-} \\left(n_{1} - n_{2}\\right) \\left(n_{1} v - 1\\right)}{2 n_{2} \\left(n_{2} v + 1\\right)}\\right), \\quad \\left ( -, \\quad \\frac{k_{i} \\left(c_{1} + v\\right)}{- c_{1} + v}\\right ) : \\frac{1}{2 n_{1} \\left(n_{1} v - 1\\right)} \\left(- n_{1} + n_{2}\\right) \\left(n_{2} v + 1\\right) \\left(\\frac{a_{+} \\left(n_{1} + n_{2}\\right) \\left(n_{1} v + 1\\right)}{2 n_{2} \\left(n_{2} v + 1\\right)} + \\frac{a_{-} \\left(n_{1} - n_{2}\\right) \\left(n_{1} v - 1\\right)}{2 n_{2} \\left(n_{2} v + 1\\right)}\\right) + \\frac{1}{2 n_{1} \\left(n_{1} v - 1\\right)} \\left(n_{1} + n_{2}\\right) \\left(n_{2} v - 1\\right) \\left(\\frac{a_{+} \\left(n_{1} - n_{2}\\right) \\left(n_{1} v + 1\\right)}{2 n_{2} \\left(n_{2} v - 1\\right)} + \\frac{a_{-} \\left(n_{1} + n_{2}\\right) \\left(n_{1} v - 1\\right)}{2 n_{2} \\left(n_{2} v - 1\\right)}\\right)\\right \\}$$"
      ],
      "text/plain": [
       "<IPython.core.display.Math object>"
      ]
     },
     "metadata": {},
     "output_type": "display_data"
    },
    {
     "name": "stdout",
     "output_type": "stream",
     "text": [
      "--------------------  considering one period : n_1:T_1, n_2:T_2  --------------------\n"
     ]
    },
    {
     "data": {
      "text/latex": [
       "$$\\Psi_{i} : \\left \\{ \\left ( +, \\quad k_{i}\\right ) : a_{+}, \\quad \\left ( -, \\quad \\frac{k_{i} \\left(c_{1} + v\\right)}{- c_{1} + v}\\right ) : a_{-}\\right \\}$$"
      ],
      "text/plain": [
       "<IPython.core.display.Math object>"
      ]
     },
     "metadata": {},
     "output_type": "display_data"
    },
    {
     "data": {
      "text/latex": [
       "$$P_1\\Psi_{1} : \\left \\{ \\left ( +, \\quad k_{i}\\right ) : a_{+} e^{i T_{1} c_{1} k_{i} - i Z_{1} k_{i}}, \\quad \\left ( -, \\quad \\frac{k_{i} \\left(c_{1} + v\\right)}{- c_{1} + v}\\right ) : a_{-} e^{- \\frac{i T_{1} c_{1} k_{i} \\left(c_{1} + v\\right)}{- c_{1} + v} - \\frac{i Z_{1} k_{i} \\left(c_{1} + v\\right)}{- c_{1} + v}}\\right \\}$$"
      ],
      "text/plain": [
       "<IPython.core.display.Math object>"
      ]
     },
     "metadata": {},
     "output_type": "display_data"
    },
    {
     "data": {
      "text/latex": [
       "$$M_{21}P_1\\Psi_{1} : \\left \\{ \\left ( +, \\quad \\frac{k_{i} \\left(c_{1} + v\\right)}{c_{2} + v}\\right ) : \\frac{a_{+} e^{i T_{1} c_{1} k_{i} - i Z_{1} k_{i}}}{2 n_{2} \\left(n_{2} v + 1\\right)} \\left(n_{1} + n_{2}\\right) \\left(n_{1} v + 1\\right) + \\frac{a_{-}}{2 n_{2} \\left(n_{2} v + 1\\right)} \\left(n_{1} - n_{2}\\right) \\left(n_{1} v - 1\\right) e^{- \\frac{i T_{1} c_{1} k_{i} \\left(c_{1} + v\\right)}{- c_{1} + v} - \\frac{i Z_{1} k_{i} \\left(c_{1} + v\\right)}{- c_{1} + v}}, \\quad \\left ( -, \\quad \\frac{k_{i} \\left(c_{1} + v\\right)}{- c_{2} + v}\\right ) : \\frac{a_{+} e^{i T_{1} c_{1} k_{i} - i Z_{1} k_{i}}}{2 n_{2} \\left(n_{2} v - 1\\right)} \\left(n_{1} - n_{2}\\right) \\left(n_{1} v + 1\\right) + \\frac{a_{-}}{2 n_{2} \\left(n_{2} v - 1\\right)} \\left(n_{1} + n_{2}\\right) \\left(n_{1} v - 1\\right) e^{- \\frac{i T_{1} c_{1} k_{i} \\left(c_{1} + v\\right)}{- c_{1} + v} - \\frac{i Z_{1} k_{i} \\left(c_{1} + v\\right)}{- c_{1} + v}}\\right \\}$$"
      ],
      "text/plain": [
       "<IPython.core.display.Math object>"
      ]
     },
     "metadata": {},
     "output_type": "display_data"
    },
    {
     "data": {
      "text/latex": [
       "$$P_2 M_{21}P_1\\Psi_{1} : \\left \\{ \\left ( +, \\quad \\frac{k_{i} \\left(c_{1} + v\\right)}{c_{2} + v}\\right ) : \\left(\\frac{a_{+} e^{i T_{1} c_{1} k_{i} - i Z_{1} k_{i}}}{2 n_{2} \\left(n_{2} v + 1\\right)} \\left(n_{1} + n_{2}\\right) \\left(n_{1} v + 1\\right) + \\frac{a_{-}}{2 n_{2} \\left(n_{2} v + 1\\right)} \\left(n_{1} - n_{2}\\right) \\left(n_{1} v - 1\\right) e^{- \\frac{i T_{1} c_{1} k_{i} \\left(c_{1} + v\\right)}{- c_{1} + v} - \\frac{i Z_{1} k_{i} \\left(c_{1} + v\\right)}{- c_{1} + v}}\\right) e^{\\frac{i T_{2} c_{2} k_{i}}{c_{2} + v} \\left(c_{1} + v\\right) - \\frac{i Z_{2} k_{i} \\left(c_{1} + v\\right)}{c_{2} + v}}, \\quad \\left ( -, \\quad \\frac{k_{i} \\left(c_{1} + v\\right)}{- c_{2} + v}\\right ) : \\left(\\frac{a_{+} e^{i T_{1} c_{1} k_{i} - i Z_{1} k_{i}}}{2 n_{2} \\left(n_{2} v - 1\\right)} \\left(n_{1} - n_{2}\\right) \\left(n_{1} v + 1\\right) + \\frac{a_{-}}{2 n_{2} \\left(n_{2} v - 1\\right)} \\left(n_{1} + n_{2}\\right) \\left(n_{1} v - 1\\right) e^{- \\frac{i T_{1} c_{1} k_{i} \\left(c_{1} + v\\right)}{- c_{1} + v} - \\frac{i Z_{1} k_{i} \\left(c_{1} + v\\right)}{- c_{1} + v}}\\right) e^{- \\frac{i T_{2} c_{2} k_{i} \\left(c_{1} + v\\right)}{- c_{2} + v} - \\frac{i Z_{2} k_{i} \\left(c_{1} + v\\right)}{- c_{2} + v}}\\right \\}$$"
      ],
      "text/plain": [
       "<IPython.core.display.Math object>"
      ]
     },
     "metadata": {},
     "output_type": "display_data"
    },
    {
     "data": {
      "text/latex": [
       "$$\\Psi_{2} = M_{12} P_2 M_{21}P_1\\Psi_{1} : \\left \\{ \\left ( +, \\quad k_{i}\\right ) : \\frac{1}{2 n_{1} \\left(n_{1} v + 1\\right)} \\left(- n_{1} + n_{2}\\right) \\left(n_{2} v - 1\\right) \\left(\\frac{a_{+} e^{i T_{1} c_{1} k_{i} - i Z_{1} k_{i}}}{2 n_{2} \\left(n_{2} v - 1\\right)} \\left(n_{1} - n_{2}\\right) \\left(n_{1} v + 1\\right) + \\frac{a_{-}}{2 n_{2} \\left(n_{2} v - 1\\right)} \\left(n_{1} + n_{2}\\right) \\left(n_{1} v - 1\\right) e^{- \\frac{i T_{1} c_{1} k_{i} \\left(c_{1} + v\\right)}{- c_{1} + v} - \\frac{i Z_{1} k_{i} \\left(c_{1} + v\\right)}{- c_{1} + v}}\\right) e^{- \\frac{i T_{2} c_{2} k_{i} \\left(c_{1} + v\\right)}{- c_{2} + v} - \\frac{i Z_{2} k_{i} \\left(c_{1} + v\\right)}{- c_{2} + v}} + \\frac{1}{2 n_{1} \\left(n_{1} v + 1\\right)} \\left(n_{1} + n_{2}\\right) \\left(n_{2} v + 1\\right) \\left(\\frac{a_{+} e^{i T_{1} c_{1} k_{i} - i Z_{1} k_{i}}}{2 n_{2} \\left(n_{2} v + 1\\right)} \\left(n_{1} + n_{2}\\right) \\left(n_{1} v + 1\\right) + \\frac{a_{-}}{2 n_{2} \\left(n_{2} v + 1\\right)} \\left(n_{1} - n_{2}\\right) \\left(n_{1} v - 1\\right) e^{- \\frac{i T_{1} c_{1} k_{i} \\left(c_{1} + v\\right)}{- c_{1} + v} - \\frac{i Z_{1} k_{i} \\left(c_{1} + v\\right)}{- c_{1} + v}}\\right) e^{\\frac{i T_{2} c_{2} k_{i}}{c_{2} + v} \\left(c_{1} + v\\right) - \\frac{i Z_{2} k_{i} \\left(c_{1} + v\\right)}{c_{2} + v}}, \\quad \\left ( -, \\quad \\frac{k_{i} \\left(c_{1} + v\\right)}{- c_{1} + v}\\right ) : \\frac{1}{2 n_{1} \\left(n_{1} v - 1\\right)} \\left(- n_{1} + n_{2}\\right) \\left(n_{2} v + 1\\right) \\left(\\frac{a_{+} e^{i T_{1} c_{1} k_{i} - i Z_{1} k_{i}}}{2 n_{2} \\left(n_{2} v + 1\\right)} \\left(n_{1} + n_{2}\\right) \\left(n_{1} v + 1\\right) + \\frac{a_{-}}{2 n_{2} \\left(n_{2} v + 1\\right)} \\left(n_{1} - n_{2}\\right) \\left(n_{1} v - 1\\right) e^{- \\frac{i T_{1} c_{1} k_{i} \\left(c_{1} + v\\right)}{- c_{1} + v} - \\frac{i Z_{1} k_{i} \\left(c_{1} + v\\right)}{- c_{1} + v}}\\right) e^{\\frac{i T_{2} c_{2} k_{i}}{c_{2} + v} \\left(c_{1} + v\\right) - \\frac{i Z_{2} k_{i} \\left(c_{1} + v\\right)}{c_{2} + v}} + \\frac{1}{2 n_{1} \\left(n_{1} v - 1\\right)} \\left(n_{1} + n_{2}\\right) \\left(n_{2} v - 1\\right) \\left(\\frac{a_{+} e^{i T_{1} c_{1} k_{i} - i Z_{1} k_{i}}}{2 n_{2} \\left(n_{2} v - 1\\right)} \\left(n_{1} - n_{2}\\right) \\left(n_{1} v + 1\\right) + \\frac{a_{-}}{2 n_{2} \\left(n_{2} v - 1\\right)} \\left(n_{1} + n_{2}\\right) \\left(n_{1} v - 1\\right) e^{- \\frac{i T_{1} c_{1} k_{i} \\left(c_{1} + v\\right)}{- c_{1} + v} - \\frac{i Z_{1} k_{i} \\left(c_{1} + v\\right)}{- c_{1} + v}}\\right) e^{- \\frac{i T_{2} c_{2} k_{i} \\left(c_{1} + v\\right)}{- c_{2} + v} - \\frac{i Z_{2} k_{i} \\left(c_{1} + v\\right)}{- c_{2} + v}}\\right \\}$$"
      ],
      "text/plain": [
       "<IPython.core.display.Math object>"
      ]
     },
     "metadata": {},
     "output_type": "display_data"
    },
    {
     "data": {
      "text/latex": [
       "$$M : \\left[\\begin{matrix}\\frac{1}{4 n_{1} n_{2}} \\left(- n_{1} + n_{2}\\right) \\left(n_{1} - n_{2}\\right) e^{i T_{1} c_{1} k_{i} - i Z_{1} k_{i}} e^{- \\frac{i T_{2} c_{2} k_{i} \\left(c_{1} + v\\right)}{- c_{2} + v} - \\frac{i Z_{2} k_{i} \\left(c_{1} + v\\right)}{- c_{2} + v}} + \\frac{\\left(n_{1} + n_{2}\\right)^{2}}{4 n_{1} n_{2}} e^{i T_{1} c_{1} k_{i} - i Z_{1} k_{i}} e^{\\frac{i T_{2} c_{2} k_{i}}{c_{2} + v} \\left(c_{1} + v\\right) - \\frac{i Z_{2} k_{i} \\left(c_{1} + v\\right)}{c_{2} + v}} & \\frac{1}{4 n_{1} n_{2} \\left(n_{1} v + 1\\right)} \\left(- n_{1} + n_{2}\\right) \\left(n_{1} + n_{2}\\right) \\left(n_{1} v - 1\\right) e^{- \\frac{i T_{1} c_{1} k_{i} \\left(c_{1} + v\\right)}{- c_{1} + v} - \\frac{i Z_{1} k_{i} \\left(c_{1} + v\\right)}{- c_{1} + v}} e^{- \\frac{i T_{2} c_{2} k_{i} \\left(c_{1} + v\\right)}{- c_{2} + v} - \\frac{i Z_{2} k_{i} \\left(c_{1} + v\\right)}{- c_{2} + v}} + \\frac{1}{4 n_{1} n_{2} \\left(n_{1} v + 1\\right)} \\left(n_{1} - n_{2}\\right) \\left(n_{1} + n_{2}\\right) \\left(n_{1} v - 1\\right) e^{- \\frac{i T_{1} c_{1} k_{i} \\left(c_{1} + v\\right)}{- c_{1} + v} - \\frac{i Z_{1} k_{i} \\left(c_{1} + v\\right)}{- c_{1} + v}} e^{\\frac{i T_{2} c_{2} k_{i}}{c_{2} + v} \\left(c_{1} + v\\right) - \\frac{i Z_{2} k_{i} \\left(c_{1} + v\\right)}{c_{2} + v}}\\\\\\frac{e^{i T_{1} c_{1} k_{i} - i Z_{1} k_{i}}}{4 n_{1} n_{2} \\left(n_{1} v - 1\\right)} \\left(- n_{1} + n_{2}\\right) \\left(n_{1} + n_{2}\\right) \\left(n_{1} v + 1\\right) e^{\\frac{i T_{2} c_{2} k_{i}}{c_{2} + v} \\left(c_{1} + v\\right) - \\frac{i Z_{2} k_{i} \\left(c_{1} + v\\right)}{c_{2} + v}} + \\frac{e^{i T_{1} c_{1} k_{i} - i Z_{1} k_{i}}}{4 n_{1} n_{2} \\left(n_{1} v - 1\\right)} \\left(n_{1} - n_{2}\\right) \\left(n_{1} + n_{2}\\right) \\left(n_{1} v + 1\\right) e^{- \\frac{i T_{2} c_{2} k_{i} \\left(c_{1} + v\\right)}{- c_{2} + v} - \\frac{i Z_{2} k_{i} \\left(c_{1} + v\\right)}{- c_{2} + v}} & \\frac{1}{4 n_{1} n_{2}} \\left(- n_{1} + n_{2}\\right) \\left(n_{1} - n_{2}\\right) e^{- \\frac{i T_{1} c_{1} k_{i} \\left(c_{1} + v\\right)}{- c_{1} + v} - \\frac{i Z_{1} k_{i} \\left(c_{1} + v\\right)}{- c_{1} + v}} e^{\\frac{i T_{2} c_{2} k_{i}}{c_{2} + v} \\left(c_{1} + v\\right) - \\frac{i Z_{2} k_{i} \\left(c_{1} + v\\right)}{c_{2} + v}} + \\frac{\\left(n_{1} + n_{2}\\right)^{2}}{4 n_{1} n_{2}} e^{- \\frac{i T_{1} c_{1} k_{i} \\left(c_{1} + v\\right)}{- c_{1} + v} - \\frac{i Z_{1} k_{i} \\left(c_{1} + v\\right)}{- c_{1} + v}} e^{- \\frac{i T_{2} c_{2} k_{i} \\left(c_{1} + v\\right)}{- c_{2} + v} - \\frac{i Z_{2} k_{i} \\left(c_{1} + v\\right)}{- c_{2} + v}}\\end{matrix}\\right]$$"
      ],
      "text/plain": [
       "<IPython.core.display.Math object>"
      ]
     },
     "metadata": {},
     "output_type": "display_data"
    },
    {
     "data": {
      "text/latex": [
       "$$A_{EH/\\pm} : \\left[\\begin{matrix}1 & 1\\\\\\frac{1}{\\eta_1} & - \\frac{1}{\\eta_1}\\end{matrix}\\right]$$"
      ],
      "text/plain": [
       "<IPython.core.display.Math object>"
      ]
     },
     "metadata": {},
     "output_type": "display_data"
    },
    {
     "data": {
      "text/plain": [
       "'\\nM_tot_EH = A_eh_pm*M_tot*A_eh_pm.inv()\\ndisplay(Math(r\"M_{EH} : \"+latex(M_tot_EH)))\\n\\n\\ntheta = symbols(\\'theta\\')\\nOmega = symbols(\\'Omega\\')\\n\\nT_tot = (T_1 + T_2)*cos(theta)**2\\nZ_tot = (T_1 + T_2)*cos(theta)*sin(theta)\\ndisp_rel = (M_tot_EH - exp(I*Omega*T_tot - I*k_i*Z_tot)*eye(2)).det()\\nprint(\\'dispersion relation: \\')\\ndisplay(Math(latex(disp_rel)))\\n'"
      ]
     },
     "execution_count": 3,
     "metadata": {},
     "output_type": "execute_result"
    }
   ],
   "source": [
    "## transition matrix\n",
    "\n",
    "M_21 = Matrix([[Gamma_pp, Gamma_pm],\n",
    "            [Gamma_mp, Gamma_mm]])##.subs(v, -v)\n",
    "\n",
    "\n",
    "display(Math(\"M_{21} : \"+latex(M_21)))\n",
    "if print_latex:\n",
    "    print(latex(M_21))\n",
    "\n",
    "## transition matrix\n",
    "temp = symbols('_temp_')\n",
    "M_12 = M_21.subs(n_1, temp).subs(n_2, n_1).subs(temp, n_2)\n",
    "\n",
    "\n",
    "display(Math(\"M_{12} : \"+latex(M_12)))\n",
    "if print_latex:\n",
    "    print(latex(M_12))\n",
    "\n",
    "\n",
    "\n",
    "M_12_M_21 = Misc.SymMatrixSimplify(M_12*M_21)\n",
    "display(Math(\"M_{12}*M_{21} : \"+latex(M_12_M_21)))\n",
    "\n",
    "\n",
    "k_21_pp = k_pp/k_i\n",
    "k_21_mp = k_mp/k_i\n",
    "k_21_pm = k_pm/k_i\n",
    "k_21_mm = k_mm/k_i\n",
    "\n",
    "w_21_pp =  k_21_pp*c_2/c_1\n",
    "w_21_mp =  k_21_mp*c_2/c_1\n",
    "w_21_pm =  k_21_pm*c_2/c_1\n",
    "w_21_mm =  k_21_mm*c_2/c_1\n",
    "\n",
    "k_12_pp = k_21_pp.subs(c_1, temp).subs(c_2, c_1).subs(temp, c_2)\n",
    "k_12_mp = k_21_mp.subs(c_1, temp).subs(c_2, c_1).subs(temp, c_2)\n",
    "k_12_pm = k_21_pm.subs(c_1, temp).subs(c_2, c_1).subs(temp, c_2)\n",
    "k_12_mm = k_21_mm.subs(c_1, temp).subs(c_2, c_1).subs(temp, c_2)\n",
    "\n",
    "w_12_pp =  k_12_pp*c_1/c_2\n",
    "w_12_mp =  k_12_mp*c_1/c_2\n",
    "w_12_pm =  k_12_pm*c_1/c_2\n",
    "w_12_mm =  k_12_mm*c_1/c_2\n",
    "\n",
    "\n",
    "display(Math(\"k_{21}^{++} : \"+latex(k_21_pp)))\n",
    "display(Math(\"k_{21}^{-+} : \"+latex(k_21_mp)))\n",
    "display(Math(\"k_{21}^{+-} : \"+latex(k_21_pm)))\n",
    "display(Math(\"k_{21}^{--} : \"+latex(k_21_mm)))\n",
    "\n",
    "display(Math(\"k_{12}^{++} : \"+latex(k_12_pp)))\n",
    "display(Math(\"k_{12}^{-+} : \"+latex(k_12_mp)))\n",
    "display(Math(\"k_{12}^{+-} : \"+latex(k_12_pm)))\n",
    "display(Math(\"k_{12}^{--} : \"+latex(k_12_mm)))\n",
    "\n",
    "print('forward waves: ')\n",
    "display(Math(\"k_{21}^{++}*k_{12}^{++} : \"+latex((k_21_pp*k_12_pp).simplify())))\n",
    "display(Math(\"k_{21}^{-+}*k_{12}^{+-} : \"+latex((k_21_mp*k_12_pm).simplify())))\n",
    "display(Math(\"k_{21}^{+-}*k_{12}^{++} : \"+latex((k_21_pm*k_12_pp).simplify())))\n",
    "display(Math(\"k_{21}^{--}*k_{12}^{+-} : \"+latex((k_21_mm*k_12_pm).simplify())))\n",
    "\n",
    "print('backward waves: ')\n",
    "display(Math(\"k_{21}^{++}*k_{12}^{-+} : \"+latex((k_21_pp*k_12_mp).simplify())))\n",
    "display(Math(\"k_{21}^{-+}*k_{12}^{--} : \"+latex((k_21_mp*k_12_mm).simplify())))\n",
    "display(Math(\"k_{21}^{+-}*k_{12}^{-+} : \"+latex((k_21_pm*k_12_mp).simplify())))\n",
    "display(Math(\"k_{21}^{--}*k_{12}^{--} : \"+latex((k_21_mm*k_12_mm).simplify())))\n",
    "\n",
    "\n",
    "\n",
    "k_ip, k_im = symbols('k_i^+ k_i^-')\n",
    "w_ip, w_im = symbols(r'\\omega_i^+ \\omega_i^-')\n",
    "\n",
    "\n",
    "def Get_M_21_kw(psi_i):\n",
    "\n",
    "    psi_next = {}\n",
    "    for wk in psi_i:\n",
    "        coeff = psi_i[wk]\n",
    "        \n",
    "        if wk[0]=='+':\n",
    "            wk_pp = ('+', (wk[1]*k_21_pp).simplify())\n",
    "            if wk_pp in psi_next:\n",
    "                psi_next[wk_pp] += coeff*M_21[0,0]\n",
    "            else:\n",
    "                psi_next[wk_pp] = coeff*M_21[0,0]\n",
    "\n",
    "            wk_mp = ('-', (wk[1]*k_21_mp).simplify())\n",
    "            if wk_mp in psi_next:\n",
    "                psi_next[wk_mp] += coeff*M_21[1,0]\n",
    "            else:\n",
    "                psi_next[wk_mp] = coeff*M_21[1,0]\n",
    "\n",
    "        else:\n",
    "            assert wk[0]=='-'\n",
    "            wk_pm = ('+', (wk[1]*k_21_pm).simplify())\n",
    "            if wk_pm in psi_next:\n",
    "                psi_next[wk_pm] += coeff*M_21[0,1]\n",
    "            else:\n",
    "                psi_next[wk_pm] = coeff*M_21[0,1]\n",
    "\n",
    "            wk_mm = ('-', (wk[1]*k_21_mm).simplify())\n",
    "            if wk_mm in psi_next:\n",
    "                psi_next[wk_mm] += coeff*M_21[1,1]\n",
    "            else:\n",
    "                psi_next[wk_mm] = coeff*M_21[1,1]\n",
    "\n",
    "    return psi_next\n",
    "\n",
    "def Get_M_12_kw(psi_i):\n",
    "\n",
    "    psi_next = {}\n",
    "    for wk in psi_i:\n",
    "        coeff = psi_i[wk]\n",
    "        \n",
    "        if wk[0]=='+':\n",
    "            wk_pp = ('+', (wk[1]*k_12_pp).simplify())\n",
    "            if wk_pp in psi_next:\n",
    "                psi_next[wk_pp] += coeff*M_12[0,0]\n",
    "            else:\n",
    "                psi_next[wk_pp] = coeff*M_12[0,0]\n",
    "\n",
    "            wk_mp = ('-', (wk[1]*k_12_mp).simplify())\n",
    "            if wk_mp in psi_next:\n",
    "                psi_next[wk_mp] += coeff*M_12[1,0]\n",
    "            else:\n",
    "                psi_next[wk_mp] = coeff*M_12[1,0]\n",
    "\n",
    "        else:\n",
    "            assert wk[0]=='-'\n",
    "            wk_pm = ('+', (wk[1]*k_12_pm).simplify())\n",
    "            if wk_pm in psi_next:\n",
    "                psi_next[wk_pm] += coeff*M_12[0,1]\n",
    "            else:\n",
    "                psi_next[wk_pm] = coeff*M_12[0,1]\n",
    "\n",
    "            wk_mm = ('-', (wk[1]*k_12_mm).simplify())\n",
    "            if wk_mm in psi_next:\n",
    "                psi_next[wk_mm] += coeff*M_12[1,1]\n",
    "            else:\n",
    "                psi_next[wk_mm] = coeff*M_12[1,1]\n",
    "\n",
    "    return psi_next\n",
    "\n",
    "\n",
    "def Get_P1_kw(psi_i, T0, Z0):\n",
    "    \"\"\" \n",
    "        (Z0, T0) is parallel to the space-time period vector\n",
    "        for an approaching slab T0>0, Z0>0\n",
    "    \"\"\"\n",
    "    psi_next = {}\n",
    "    for wk in psi_i:\n",
    "        coeff = psi_i[wk]\n",
    "        \n",
    "        if wk[0]=='+':\n",
    "            wp = wk[1]*c_1\n",
    "            kp = wk[1]\n",
    "            psi_next[wk] = psi_i[wk]*exp(I*wp*T0-I*kp*Z0)\n",
    "        else:\n",
    "            assert wk[0]=='-'\n",
    "            wm = -wk[1]*c_1\n",
    "            km = wk[1]\n",
    "            psi_next[wk] = psi_i[wk]*exp(I*wm*T0-I*km*Z0)\n",
    "    \n",
    "    return psi_next\n",
    "\n",
    "\n",
    "def Get_P2_kw(psi_i, T0, Z0):\n",
    "    \"\"\" \n",
    "        (Z0, T0) is parallel to the space-time period vector\n",
    "        for an approaching slab T0>0, Z0>0\n",
    "    \"\"\"\n",
    "    psi_next = {}\n",
    "    for wk in psi_i:\n",
    "        coeff = psi_i[wk]\n",
    "        \n",
    "        if wk[0]=='+':\n",
    "            wp = wk[1]*c_2\n",
    "            kp = wk[1]\n",
    "            psi_next[wk] = psi_i[wk]*exp(I*wp*T0-I*kp*Z0)\n",
    "        else:\n",
    "            assert wk[0]=='-'\n",
    "            wm = -wk[1]*c_2\n",
    "            km = wk[1]\n",
    "            psi_next[wk] = psi_i[wk]*exp(I*wm*T0-I*km*Z0)\n",
    "    \n",
    "    return psi_next\n",
    "\n",
    "\n",
    "print('-'*20, ' considering frequencies ', '-'*20)\n",
    "\n",
    "a_p, a_m = symbols('a_{+}, a_{-}')\n",
    "psi_i = {('+', k_i):a_p, ('-', k_i):a_m} \n",
    "display(Math(r\"\\Psi_{i} : \"+latex(psi_i)))\n",
    "\n",
    "psi_i = Get_M_21_kw(psi_i)\n",
    "display(Math(r\"\\Psi_{1} : \"+latex(psi_i)))\n",
    "\n",
    "psi_i = Get_M_12_kw(psi_i)\n",
    "display(Math(r\"\\Psi_{2} : \"+latex(psi_i)))\n",
    "\n",
    "print('-'*40)\n",
    "\n",
    "a_p, a_m = symbols('a_{+}, a_{-}')\n",
    "psi_i = {('+', k_i):a_p, ('-', k_i*(v+c_1)/(v-c_1)):a_m} \n",
    "display(Math(r\"\\Psi_{i} : \"+latex(psi_i)))\n",
    "\n",
    "psi_i = Get_M_21_kw(psi_i)\n",
    "display(Math(r\"\\Psi_{1} : \"+latex(psi_i)))\n",
    "\n",
    "psi_i = Get_M_12_kw(psi_i)\n",
    "display(Math(r\"\\Psi_{2} : \"+latex(psi_i)))\n",
    "\n",
    "\n",
    "print('-'*20, ' considering one period : n_1:T_1, n_2:T_2 ', '-'*20)\n",
    "\n",
    "a_p, a_m = symbols('a_{+}, a_{-}')\n",
    "T_1, T_2 = symbols('T_1, T_2')\n",
    "Z_1, Z_2 = symbols('Z_1, Z_2')\n",
    "\n",
    "#k_1, k_2 = symbols('k_1 k_2')\n",
    "\n",
    "psi_i = {('+', k_i):a_p, ('-', k_i*(v+c_1)/(v-c_1)):a_m} \n",
    "display(Math(r\"\\Psi_{i} : \"+latex(psi_i)))\n",
    "\n",
    "psi_i = Get_P1_kw(psi_i, T_1, Z_1)\n",
    "display(Math(r\"P_1\\Psi_{1} : \"+latex(psi_i)))  \n",
    "\n",
    "psi_i = Get_M_21_kw(psi_i)\n",
    "display(Math(r\"M_{21}P_1\\Psi_{1} : \"+latex(psi_i)))\n",
    "\n",
    "psi_i = Get_P2_kw(psi_i, T_2, Z_2)\n",
    "display(Math(r\"P_2 M_{21}P_1\\Psi_{1} : \"+latex(psi_i)))\n",
    "\n",
    "psi_i = Get_M_12_kw(psi_i)\n",
    "display(Math(r\"\\Psi_{2} = M_{12} P_2 M_{21}P_1\\Psi_{1} : \"+latex(psi_i)))\n",
    "\n",
    "eqs = Matrix([psi_i[('+', k_i)], psi_i[('-', k_i*(v+c_1)/(v-c_1))]])\n",
    "M_tot = Misc.SymEqSysLinearToMat(eqs, [a_p, a_m])\n",
    "\n",
    "display(Math(r\"M : \"+latex(M_tot)))\n",
    "\n",
    "##-----  E+, E-  to E, H\n",
    "##       E = (E+ + E-)\n",
    "##       H = (E+ - E-)/eta\n",
    "\n",
    "A_eh_pm = Matrix([[1, 1],\n",
    "                  [1/eta_1, -1/eta_1]])\n",
    "\n",
    "display(Math(r\"A_{EH/\\pm} : \"+latex(A_eh_pm)))\n",
    "\n",
    "\"\"\"\n",
    "M_tot_EH = A_eh_pm*M_tot*A_eh_pm.inv()\n",
    "display(Math(r\"M_{EH} : \"+latex(M_tot_EH)))\n",
    "\n",
    "\n",
    "theta = symbols('theta')\n",
    "Omega = symbols('Omega')\n",
    "\n",
    "T_tot = (T_1 + T_2)*cos(theta)**2\n",
    "Z_tot = (T_1 + T_2)*cos(theta)*sin(theta)\n",
    "disp_rel = (M_tot_EH - exp(I*Omega*T_tot - I*k_i*Z_tot)*eye(2)).det()\n",
    "print('dispersion relation: ')\n",
    "display(Math(latex(disp_rel)))\n",
    "\"\"\"\n",
    "\n",
    "#display(Math(r\"M : \"+latex(M_tot.subs([(n_2, n_1), (c_2, c_1)]))))\n"
   ]
  },
  {
   "cell_type": "code",
   "execution_count": 6,
   "metadata": {
    "collapsed": false
   },
   "outputs": [
    {
     "name": "stdout",
     "output_type": "stream",
     "text": [
      "v:  2.74747741945\n"
     ]
    },
    {
     "name": "stderr",
     "output_type": "stream",
     "text": [
      "/home/nima/ipython workspace/Electromagnetics/Misc.py:310: RuntimeWarning: invalid value encountered in cdouble_scalars\n",
      "  y_01 = (y_1 - y_0)/(x_1 - x_0)\n",
      "/usr/local/lib/python3.5/dist-packages/numpy/linalg/linalg.py:1821: RuntimeWarning: invalid value encountered in det\n",
      "  r = _umath_linalg.det(a, signature=signature)\n",
      "/home/nima/ipython workspace/Electromagnetics/Misc.py:311: RuntimeWarning: invalid value encountered in cdouble_scalars\n",
      "  y_12 = (y_2 - y_1)/(x_2 - x_1)\n"
     ]
    }
   ],
   "source": [
    "from sympy import lambdify\n",
    "import numpy as np\n",
    "\n",
    "\n",
    "M_tot_f = lambdify([k_i, v, n_1, n_2, c_1, c_2, T_1, T_2, Z_1, Z_2], M_tot, dummify=False, modules=['numpy'])\n",
    "A_eh_pm_f = lambdify(eta_1, A_eh_pm, dummify=True, modules=['numpy'])\n",
    "\n",
    "_c = 1.0\n",
    "_n_1 = 2.0\n",
    "_n_2 = 2.1\n",
    "_eta_1 = 1.0/_n_1\n",
    "_eta_2 = 1.0/_n_2\n",
    "_c_1 = _c/_n_1\n",
    "_c_2 = _c/_n_2\n",
    "_T_1 = 1.0\n",
    "_T_2 = 1.0\n",
    "_k_i = 0.1\n",
    "_theta = 20.0/180*np.pi\n",
    "_Z_1 = _T_1*np.tan(_theta)\n",
    "_Z_2 = _T_2*np.tan(_theta)\n",
    "_T_p = (_T_1 + _T_2)\n",
    "_Z_p = (_Z_1 + _Z_2)\n",
    "_v = 1/(_Z_p/_T_p)\n",
    "\n",
    "print('v: ', _v)\n",
    "\n",
    "_T_o1 = _T_1/np.cos(_theta)**2\n",
    "_T_o2 = _T_2/np.cos(_theta)**2\n",
    "_Z_o1 = _Z_1/np.sin(_theta)**2\n",
    "_Z_o2 = _Z_2/np.sin(_theta)**2\n",
    "\n",
    "_T_o = _T_o1 + _T_o2\n",
    "_Z_o = _Z_o1 + _Z_o2\n",
    "\n",
    "_N = 400\n",
    "_n_b = 5 #number of branches\n",
    "_k_i_vec = np.linspace(-10.0, 10.0, _N)\n",
    "_Omega_i_vec = np.zeros((_n_b, _N),dtype=complex)\n",
    "_Del_phi_i_vec = np.zeros((_n_b, _N),dtype=complex)\n",
    "\n",
    "for i in range(_N):\n",
    "    _k_i = _k_i_vec[i]\n",
    "    M_tot_i = M_tot_f(k_i=_k_i, v=_v, n_1=_n_1, n_2=_n_2, c_1=_c_1, c_2=_c_2, T_1=_T_1, T_2=_T_2, Z_1=_Z_1, Z_2=_Z_2)\n",
    "    A_eh_pm_i = A_eh_pm_f(_eta_1)\n",
    "\n",
    "\n",
    "    M_tot_EH_i = A_eh_pm_i.dot(M_tot_i).dot(np.linalg.inv(A_eh_pm_i))\n",
    "\n",
    "    disp_rel = lambda _Del_phi: np.linalg.det(M_tot_EH_i - np.exp(1j*_Del_phi)*np.eye(2))\n",
    "    #disp_rel = lambda _Omega: np.linalg.det(M_tot_EH_i - np.exp(1j*_Omega*_T_per - 1j*_k_i*_Z_per)*np.eye(2))\n",
    "    #disp_rel = lambda _Omega: np.linalg.det(M_tot_EH_i - np.exp(1j*_Omega*(_T_1 + _T_2) - 0j*_k_i*_Z_tot)*np.eye(2))\n",
    "\n",
    "    _Omega_init = np.random.rand()\n",
    "    res = Misc.solveMuller(disp_rel, x_0=_Omega_init, x_1=_Omega_init+0.01, x_2=_Omega_init+0.02, n_roots=5)\n",
    "    \n",
    "    for j in range(_n_b):\n",
    "        if j<len(res[0]):\n",
    "            #_Omega_i_vec[j,i] = res[0][j]\n",
    "            _Del_phi_i_vec[j,i] = res[0][j]\n",
    "        else:\n",
    "            #_Omega_i_vec[j,i] = np.nan\n",
    "            _Del_phi_i_vec[j,i] = np.nan\n",
    "    \n"
   ]
  },
  {
   "cell_type": "code",
   "execution_count": 7,
   "metadata": {
    "collapsed": false
   },
   "outputs": [
    {
     "name": "stdout",
     "output_type": "stream",
     "text": [
      "Populating the interactive namespace from numpy and matplotlib\n"
     ]
    },
    {
     "data": {
      "text/plain": [
       "<matplotlib.text.Text at 0x7fc0e759d4a8>"
      ]
     },
     "execution_count": 7,
     "metadata": {},
     "output_type": "execute_result"
    },
    {
     "data": {
      "image/png": "[encoded data removed]",
      "text/plain": [
       "<matplotlib.figure.Figure at 0x7fc0e7597080>"
      ]
     },
     "metadata": {},
     "output_type": "display_data"
    }
   ],
   "source": [
    "%pylab inline\n",
    "figsize(6,6)\n",
    "font = {'family' : 'serif', 'weight' : 'normal', 'size'   : 16}\n",
    "matplotlib.rc('font', **font)\n",
    "\n",
    "for i in range(_n_b):\n",
    "    plot(_k_i_vec, np.real(_Del_phi_i_vec[i]), 'o', markersize=1)\n",
    "    \n",
    "    #plot(_k_i_vec, np.real(_Omega_i_vec[i]), 'o', markersize=1)\n",
    "    \n",
    "    ## manual rotation\n",
    "    #plot(_k_i_vec*np.cos(_theta)+np.real(_Omega_i_vec[i])*np.sin(_theta), np.real(_Omega_i_vec[i])*np.cos(_theta)-_k_i_vec*np.sin(_theta), 'o', markersize=1)\n",
    "xlim(-10, 10)\n",
    "ylim(-10, 10)\n",
    "grid()\n",
    "xlabel(r\"$k_i$\", fontsize=20)\n",
    "ylabel(r\"$\\Delta\\phi$\", fontsize=20)\n"
   ]
  },
  {
   "cell_type": "code",
   "execution_count": 11,
   "metadata": {
    "collapsed": false
   },
   "outputs": [
    {
     "data": {
      "text/plain": [
       "<matplotlib.text.Text at 0x7fc0e6fc68d0>"
      ]
     },
     "execution_count": 11,
     "metadata": {},
     "output_type": "execute_result"
    },
    {
     "data": {
      "image/png": "[encoded data removed]",
      "text/plain": [
       "<matplotlib.figure.Figure at 0x7fc0e6fb3cf8>"
      ]
     },
     "metadata": {},
     "output_type": "display_data"
    }
   ],
   "source": [
    "## _Omega*_T_per - _Beta*_Z_per = Del_phi\n",
    "## _Omega*_Z_per + _Beta*_T_per = (c_1*_Z_per+_T_per)*k_i\n",
    "\n",
    "## _Omega = (Del_phi*_T_per + (_c_1*_Z_per+_T_per)*k_i*_Z_per)/(_T_per**2 + _Z_per**2)\n",
    "## _Beta = (-Del_phi*_Z_per + (_c_1*_Z_per+_T_per)*k_i*_T_per)/(_T_per**2 + _Z_per**2)\n",
    "\n",
    "##--- new\n",
    "## _Omega*_T_p - _Beta*_Z_p = Del_phi\n",
    "## _Omega*_T_o + _Beta*_Z_o = (_Z_o + c_1*_T_o)*k_i\n",
    "\n",
    "## _Omega = (Del_phi*_Z_o + (_Z_o + _c_1*_T_o)*k_i*_Z_p)/(_T_p*_Z_o + _Z_p*_T_o)\n",
    "## _Beta= (-Del_phi*_T_o + (_Z_o + _c_1*_T_o)*k_i*_T_p)/(_T_p*_Z_o + _Z_p*_T_o)\n",
    "\n",
    "\n",
    "\n",
    "for i in range(_n_b):\n",
    "    #_Omega_i_vec = (_Del_phi_i_vec[i]*_T_per + (_c_1*_Z_per+_T_per)*_k_i_vec*_Z_per)/(_T_per**2 + _Z_per**2)\n",
    "    #_Beta_i_vec = (-_Del_phi_i_vec[i]*_Z_per + (_c_1*_Z_per+_T_per)*_k_i_vec*_T_per)/(_T_per**2 + _Z_per**2)\n",
    "\n",
    "    _Omega_i_vec = (_Del_phi_i_vec[i]*_Z_o + (_Z_o + _c_1*_T_o)*_k_i_vec*_Z_p)/(_T_p*_Z_o + _Z_p*_T_o)\n",
    "    _Beta_i_vec = (-_Del_phi_i_vec[i]*_T_o + (_Z_o + _c_1*_T_o)*_k_i_vec*_T_p)/(_T_p*_Z_o + _Z_p*_T_o)\n",
    "\n",
    "    plot(np.real(_Beta_i_vec), np.real(_Omega_i_vec), 'o', markersize=1)\n",
    "    #plot(-2.0*np.pi/np.sqrt(_T_per**2+_Z_per**2)*np.sin(_theta), 2.0*np.pi/np.sqrt(_T_per**2+_Z_per**2)*np.cos(_theta), 'o', markersize=3)\n",
    "    \n",
    "    plot(-2.0*np.pi/_T_o, np.real(_Omega_i_vec), 'o', markersize=1)\n",
    "    \n",
    "    \n",
    "    plot([0, -10.0*np.sin(_theta)], [0, 10], linestyle='--')\n",
    "    \n",
    "xlim(-10, 10)\n",
    "ylim(-10, 10)\n",
    "grid()\n",
    "xlabel(r\"$\\beta$\", fontsize=20)\n",
    "ylabel(r\"$\\Omega$\", fontsize=20)\n",
    "\n"
   ]
  },
  {
   "cell_type": "code",
   "execution_count": null,
   "metadata": {
    "collapsed": true
   },
   "outputs": [],
   "source": []
  }
 ],
 "metadata": {
  "kernelspec": {
   "display_name": "Python 3",
   "language": "python",
   "name": "python3"
  },
  "language_info": {
   "codemirror_mode": {
    "name": "ipython",
    "version": 3
   },
   "file_extension": ".py",
   "mimetype": "text/x-python",
   "name": "python",
   "nbconvert_exporter": "python",
   "pygments_lexer": "ipython3",
   "version": "3.5.2"
  }
 },
 "nbformat": 4,
 "nbformat_minor": 1
}
