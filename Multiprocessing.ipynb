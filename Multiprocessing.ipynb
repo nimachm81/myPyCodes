{
 "cells": [
  {
   "cell_type": "code",
   "execution_count": 9,
   "metadata": {
    "collapsed": false
   },
   "outputs": [
    {
     "name": "stdout",
     "output_type": "stream",
     "text": [
      "4500000.0\n",
      "[49999999.999999993, 49999999.999999993, 49999999.999999993, 49999999.999999993, 49999999.999999993, 49999999.999999993, 49999999.999999993, 49999999.999999993]\n",
      "processing time: 6.565761048999775\n"
     ]
    }
   ],
   "source": [
    "from multiprocessing import Pool\n",
    "import numpy as np\n",
    "import time\n",
    "\n",
    "\n",
    "def f(x, n=100000):\n",
    "    res = 0.0\n",
    "    for i in range(n):\n",
    "         res += sum(x)\n",
    "    return res        \n",
    "\n",
    "def g(x, n=1000):\n",
    "    res = 0.0\n",
    "    for i in range(n):\n",
    "         res += np.sin(x)\n",
    "    return res        \n",
    "\n",
    "\n",
    "if __name__ == '__main__':\n",
    "    tic = time.perf_counter()\n",
    "    pool = Pool(processes=4)              # start 8 worker processes\n",
    "    result = pool.apply_async(f, [range(10)])    # evaluate \"f(10)\" asynchronously\n",
    "    print(result.get(timeout=1))           # prints \"100\" unless your computer is *very* slow\n",
    "    n = 100\n",
    "    print(pool.map(f, [np.linspace(0.0, 10.0, n)]*8))          # prints \"[0, 1, 4,..., 81]\"\n",
    "    toc = time.perf_counter()\n",
    "    print('processing time: {}'.format(toc-tic))"
   ]
  },
  {
   "cell_type": "code",
   "execution_count": 6,
   "metadata": {
    "collapsed": false
   },
   "outputs": [
    {
     "name": "stdout",
     "output_type": "stream",
     "text": [
      "[42, None, 'hello']\n"
     ]
    }
   ],
   "source": [
    "from multiprocessing import Process, Queue\n",
    "\n",
    "def f(q):\n",
    "    q.put([42, None, 'hello'])\n",
    "\n",
    "if __name__ == '__main__':\n",
    "    q = Queue()\n",
    "    p = Process(target=f, args=(q,))\n",
    "    p.start()\n",
    "    print(q.get())    # prints \"[42, None, 'hello']\"\n",
    "    p.join()\n",
    "\n",
    "    \n",
    "    \n"
   ]
  },
  {
   "cell_type": "code",
   "execution_count": 7,
   "metadata": {
    "collapsed": false
   },
   "outputs": [
    {
     "name": "stdout",
     "output_type": "stream",
     "text": [
      "[42, None, 'hello']\n"
     ]
    }
   ],
   "source": [
    "from multiprocessing import Process, Pipe\n",
    "\n",
    "def f(conn):\n",
    "    conn.send([42, None, 'hello'])\n",
    "    conn.close()\n",
    "\n",
    "\n",
    "parent_conn, child_conn = Pipe()\n",
    "p = Process(target=f, args=(child_conn,))\n",
    "p.start()\n",
    "print(parent_conn.recv())   # prints \"[42, None, 'hello']\"\n",
    "p.join()\n"
   ]
  },
  {
   "cell_type": "markdown",
   "metadata": {},
   "source": [
    "### multiprocessing subclassing"
   ]
  },
  {
   "cell_type": "code",
   "execution_count": 1,
   "metadata": {
    "collapsed": false
   },
   "outputs": [
    {
     "name": "stdout",
     "output_type": "stream",
     "text": [
      "running\n",
      "running\n",
      "5\n",
      "10\n",
      "before:  [ 1.  1.  1.  1.  1.  1.  1.  1.  1.  1.]\n",
      "after:  [ 1.  1.  1.  1.  1.  1.  1.  1.  1.  0.]\n",
      "quitting process!\n",
      "quitting process!\n",
      "arr_1_new: ['modified: ', array([ 1.,  1.,  1.,  1.,  1.,  1.,  1.,  1.,  1.,  0.])]\n",
      "arr_1    : [ 1.  1.  1.  1.  1.  1.  1.  1.  1.  1.]\n",
      "p1.arr =  [ 0  1  2  3  4  5  6  7  8  9 10]\n"
     ]
    }
   ],
   "source": [
    "from multiprocessing import Process, Pipe, Queue\n",
    "import numpy as np\n",
    "\n",
    "\n",
    "class NPComm(Process):\n",
    "    def __init__(self, arr, conn, commands):\n",
    "        super(NPComm, self).__init__()\n",
    "        self.arr = arr\n",
    "        self.conn = conn\n",
    "        self.commands = commands\n",
    "        \n",
    "    def run(self):\n",
    "        print('running')\n",
    "        while True:\n",
    "            comm = self.commands.recv()\n",
    "            if comm[0] == 'print':\n",
    "                print(comm[1])\n",
    "                self.commands.send(['received print command: ', comm[1]])\n",
    "            if comm[0] == 'printlen':\n",
    "                print(len(comm[1]))\n",
    "            if comm[0] == 'send':\n",
    "                conn.send(comm[1])\n",
    "                print('sent!')\n",
    "            if comm[0] == 'recv':\n",
    "                recv = conn.recv()\n",
    "                print('received!  len:', len(recv))\n",
    "            if comm[0] == 'modifyArr':\n",
    "                print('before: ', comm[1])\n",
    "                comm[1][-1] = 0\n",
    "                print('after: ', comm[1])\n",
    "                self.commands.send(['modified: ', comm[1]])\n",
    "            if comm[0] == 'quit':\n",
    "                print('quitting process!')\n",
    "                return\n",
    "\n",
    "commPipe0, commPipeResp0 = Pipe()\n",
    "commPipe1, commPipeResp1 = Pipe()\n",
    "conn0, conn1 = Pipe()\n",
    "\n",
    "p1_arr = np.arange(11)\n",
    "\n",
    "p1 =  NPComm(p1_arr, conn0, commands=commPipeResp0)\n",
    "p2 =  NPComm(None, conn1, commands=commPipeResp1)\n",
    "\n",
    "p1.start()\n",
    "p2.start()\n",
    "arr_1 = np.ones(10)\n",
    "arr_2 = np.ones(5)\n",
    "\n",
    "commPipe0.send(['printlen', arr_1])\n",
    "commPipe1.send(['printlen', arr_2])\n",
    "\n",
    "commPipe0.send(['modifyArr', arr_1])\n",
    "arr_1_new = commPipe0.recv()\n",
    "print('arr_1_new:', arr_1_new)\n",
    "print('arr_1    :', arr_1)\n",
    "\n",
    "\n",
    "print('p1.arr = ', p1.arr)\n",
    "\n",
    "commPipe0.send(['quit'])\n",
    "commPipe1.send(['quit'])\n",
    "                  \n",
    "p1.join()\n",
    "p2.join()\n",
    "                  \n",
    "            "
   ]
  },
  {
   "cell_type": "markdown",
   "metadata": {},
   "source": [
    "### threading subclassing"
   ]
  },
  {
   "cell_type": "code",
   "execution_count": 51,
   "metadata": {
    "collapsed": false
   },
   "outputs": [
    {
     "name": "stdout",
     "output_type": "stream",
     "text": [
      "running\n",
      "running\n",
      "10\n",
      "before:  5\n",
      "quitting process!\n",
      "[ 1.  1.  1.  1.  1.  1.  1.  1.  1.  1.]\n",
      "after:  [ 1.  1.  1.  1.  1.  1.  1.  1.  1.  0.]\n",
      "quitting process!\n",
      "arr_1    : [ 1.  1.  1.  1.  1.  1.  1.  1.  1.  0.]\n"
     ]
    }
   ],
   "source": [
    "## queue.Queue passes objects by reference\n",
    "## multiprocessing.Queue passes a copy of the object\n",
    "\n",
    "from threading import Thread\n",
    "from queue import Queue\n",
    "#from multiprocessing import Queue\n",
    "import numpy as np\n",
    "\n",
    "\n",
    "\n",
    "class NPComm(Thread):\n",
    "    def __init__(self, arr, conn, commands):\n",
    "        super(NPComm, self).__init__()\n",
    "        ##or: Thread.__init__(self)\n",
    "        self.arr = arr\n",
    "        self.conn = conn\n",
    "        self.commands = commands\n",
    "        \n",
    "    def run(self):\n",
    "        print('running')\n",
    "        while True:\n",
    "            comm = self.commands.get()\n",
    "            if comm[0] == 'print':\n",
    "                print(comm[1])\n",
    "            if comm[0] == 'printlen':\n",
    "                print(len(comm[1]))\n",
    "            if comm[0] == 'send':\n",
    "                conn.send(comm[1])\n",
    "                print('sent!')\n",
    "            if comm[0] == 'recv':\n",
    "                recv = conn.recv()\n",
    "                print('received!  len:', len(recv))\n",
    "            if comm[0] == 'modifyArr':\n",
    "                print('before: ', comm[1])\n",
    "                comm[1][-1] = 0\n",
    "                print('after: ', comm[1])\n",
    "            if comm[0] == 'quit':\n",
    "                print('quitting process!')\n",
    "                return\n",
    "\n",
    "commPipe0 = Queue()\n",
    "commPipe1 = Queue()\n",
    "conn0, conn1 = Pipe()\n",
    "                  \n",
    "p1 =  NPComm(None, conn0, commands=commPipe0)\n",
    "p2 =  NPComm(None, conn1, commands=commPipe1)\n",
    "\n",
    "p1.start()\n",
    "p2.start()\n",
    "arr_1 = np.ones(10)\n",
    "arr_2 = np.ones(5)\n",
    "\n",
    "commPipe0.put(['printlen', arr_1])\n",
    "commPipe1.put(['printlen', arr_2])\n",
    "\n",
    "commPipe0.put(['modifyArr', arr_1])\n",
    "\n",
    "commPipe0.put(['quit'])\n",
    "commPipe1.put(['quit'])\n",
    "                  \n",
    "p1.join()\n",
    "p2.join()\n",
    "                  \n",
    "print('arr_1    :', arr_1)"
   ]
  },
  {
   "cell_type": "code",
   "execution_count": 49,
   "metadata": {
    "collapsed": false
   },
   "outputs": [
    {
     "name": "stdout",
     "output_type": "stream",
     "text": [
      "arr_1    : [ 1.  1.  1.  1.  1.  1.  1.  1.  1.  1.]\n"
     ]
    }
   ],
   "source": [
    "print('arr_1    :', arr_1)"
   ]
  },
  {
   "cell_type": "code",
   "execution_count": 18,
   "metadata": {
    "collapsed": false
   },
   "outputs": [
    {
     "name": "stdout",
     "output_type": "stream",
     "text": [
      "processing time: 3.767641413000092\n"
     ]
    }
   ],
   "source": [
    "from multiprocessing import Process, Pipe\n",
    "import numpy as np\n",
    "import time\n",
    "import os\n",
    "\n",
    "#print(np.__config__.show())\n",
    "\n",
    "#os.system(\"taskset -p 0xff %d\" % os.getpid())\n",
    "\n",
    "tic = time.perf_counter()\n",
    "\n",
    "\n",
    "class NPTest(Process):\n",
    "    def __init__(self, rand_size, n):\n",
    "        super(NPTest, self).__init__()\n",
    "        self.rand_size = rand_size\n",
    "        self.daemon = True\n",
    "        self.n = n\n",
    "        \n",
    "    def run(self):\n",
    "        import numpy as np\n",
    "        self.arr = np.random.random(self.rand_size)\n",
    "        for i in range(self.n):\n",
    "            #a = self.arr.dot(self.arr)\n",
    "            a = self.arr*self.arr\n",
    "\n",
    "\n",
    "n_proc = 8\n",
    "rand_size = (int(2**12), 2**14)\n",
    "\n",
    "\n",
    "Ps = [None]*n_proc\n",
    "\n",
    "for i in range(n_proc):\n",
    "    Ps[i] = NPTest(rand_size, 2)\n",
    "    Ps[i].start()\n",
    "    \n",
    "\n",
    "for i in range(n_proc):\n",
    "    Ps[i].join()\n",
    "    \n",
    "toc = time.perf_counter()\n",
    "print('processing time: {}'.format(toc-tic))\n",
    "\n",
    "\n"
   ]
  },
  {
   "cell_type": "code",
   "execution_count": 5,
   "metadata": {
    "collapsed": false
   },
   "outputs": [
    {
     "name": "stdout",
     "output_type": "stream",
     "text": [
      "333343333.601\n"
     ]
    }
   ],
   "source": [
    "import numpy as np\n",
    "\n",
    "a = np.random.random(10**9)\n",
    "\n",
    "print(a.dot(a))"
   ]
  },
  {
   "cell_type": "code",
   "execution_count": 20,
   "metadata": {
    "collapsed": false
   },
   "outputs": [
    {
     "name": "stdout",
     "output_type": "stream",
     "text": [
      "processing time: 20.874418754000544\n"
     ]
    }
   ],
   "source": [
    "import numpy as np\n",
    "import math\n",
    "\n",
    "n = (10000,10000)\n",
    "def g(x):\n",
    "    y = np.random.random(n)\n",
    "    y**2\n",
    "    \n",
    "\n",
    "from multiprocessing import Pool\n",
    "\n",
    "n_p = 1\n",
    "p = Pool(n_p)\n",
    "\n",
    "tic = time.perf_counter()\n",
    "p.map(g, range(int(16)))\n",
    "toc = time.perf_counter()\n",
    "print('processing time: {}'.format(toc-tic))\n",
    "\n",
    "\n"
   ]
  },
  {
   "cell_type": "code",
   "execution_count": 13,
   "metadata": {
    "collapsed": false
   },
   "outputs": [
    {
     "name": "stdout",
     "output_type": "stream",
     "text": [
      "processing time: 0.0019614360001014575\n",
      "processing time: 0.0010588840000309574\n"
     ]
    }
   ],
   "source": [
    "from multiprocessing import Process, Pipe\n",
    "import numpy as np\n",
    "import time\n",
    "\n",
    "a = np.random.random(25000)\n",
    "b = None\n",
    "\n",
    "n = 10\n",
    "\n",
    "p1, p2 = Pipe()\n",
    "\n",
    "\n",
    "tic = time.perf_counter()\n",
    "for i in range(n):\n",
    "    p1.send(a)\n",
    "    #time.sleep(0.1)\n",
    "    b = p2.recv()\n",
    "toc = time.perf_counter()\n",
    "print('processing time: {}'.format(toc-tic))\n",
    "\n",
    "\n",
    "tic = time.perf_counter()\n",
    "for i in range(n):\n",
    "    p1.send_bytes(a)\n",
    "    #time.sleep(0.1)\n",
    "    b = p2.recv_bytes()\n",
    "    b = np.frombuffer(b)\n",
    "    b = b.reshape(a.shape)\n",
    "toc = time.perf_counter()\n",
    "print('processing time: {}'.format(toc-tic))\n",
    "\n",
    "#print('a:', a)\n",
    "#print('b:', b)\n",
    "\n"
   ]
  },
  {
   "cell_type": "code",
   "execution_count": null,
   "metadata": {
    "collapsed": true
   },
   "outputs": [],
   "source": []
  }
 ],
 "metadata": {
  "kernelspec": {
   "display_name": "Python 3",
   "language": "python",
   "name": "python3"
  },
  "language_info": {
   "codemirror_mode": {
    "name": "ipython",
    "version": 3
   },
   "file_extension": ".py",
   "mimetype": "text/x-python",
   "name": "python",
   "nbconvert_exporter": "python",
   "pygments_lexer": "ipython3",
   "version": "3.5.2"
  }
 },
 "nbformat": 4,
 "nbformat_minor": 0
}
