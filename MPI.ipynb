{
 "cells": [
  {
   "cell_type": "code",
   "execution_count": 48,
   "metadata": {
    "collapsed": false
   },
   "outputs": [
    {
     "name": "stdout",
     "output_type": "stream",
     "text": [
      "importing numpy on engine(s)\n",
      "[0, 1, 2, 3]\n",
      "[0, 1, 4, 9, 16, 25, 36, 49, 64, 81, 100, 121, 144, 169, 196, 225]\n"
     ]
    }
   ],
   "source": [
    "from ipyparallel import Client\n",
    "import numpy as np\n",
    "\n",
    "c = Client(profile='mpi')\n",
    "with c[:].sync_imports():\n",
    "    import numpy as np\n",
    "\n",
    "print(c.ids)\n",
    "    \n",
    "#dview = c[:]\n",
    "dview = c.direct_view()\n",
    "\n",
    "def square(x):\n",
    "    return x**2\n",
    " \n",
    "result = dview.map_sync(square, range(16))\n",
    "print(result)\n"
   ]
  },
  {
   "cell_type": "code",
   "execution_count": 32,
   "metadata": {
    "collapsed": false
   },
   "outputs": [
    {
     "name": "stdout",
     "output_type": "stream",
     "text": [
      "[0, 4, 18, 40]\n"
     ]
    }
   ],
   "source": [
    "def multi(a, b):\n",
    "    return a*b\n",
    " \n",
    "results = dview.map_sync(multi, [0, 1, 3, 5], [2, 4, 6, 8])\n",
    "print(results)\n"
   ]
  },
  {
   "cell_type": "code",
   "execution_count": 35,
   "metadata": {
    "collapsed": false
   },
   "outputs": [
    {
     "name": "stdout",
     "output_type": "stream",
     "text": [
      "importing random on engine(s)\n",
      "3.141228\n",
      "3.14094\n"
     ]
    }
   ],
   "source": [
    "import random\n",
    "with dview.sync_imports():\n",
    "    import random\n",
    "    \n",
    "def mc_pi(n):\n",
    "    count = 0\n",
    "    for i in range(n):\n",
    "        x = random.random()\n",
    "        y = random.random()\n",
    "        if (x**2 + y**2) <= 1:\n",
    "            count += 1\n",
    "    return count/n\n",
    "\n",
    "\n",
    "est_pi = mc_pi(10**6)\n",
    "print(est_pi*4) \n",
    "\n",
    "est_pis = dview.map_sync(mc_pi, [250000]*4)\n",
    "print(sum(est_pis)*4/4)\n"
   ]
  },
  {
   "cell_type": "code",
   "execution_count": 50,
   "metadata": {
    "collapsed": false
   },
   "outputs": [
    {
     "name": "stdout",
     "output_type": "stream",
     "text": [
      "[array([ 0.,  1.,  2.,  3.]), array([ 4.,  5.,  6.,  7.]), array([  8.,   9.,  10.,  11.]), array([ 12.,  13.,  14.,  15.])]\n"
     ]
    },
    {
     "data": {
      "text/plain": [
       "[ipyparallel.error.TaskAborted('43bd0863-ad50-458f-9f01-7cef1af342bb'),\n",
       " ipyparallel.error.TaskAborted('6e1e8737-6ea7-4dec-8c41-18e516450130'),\n",
       " ipyparallel.error.TaskAborted('a4067801-ab14-4c5e-940f-ba6f0cb69a61'),\n",
       " ipyparallel.error.TaskAborted('df3e843d-be41-4cb9-84ba-6cf5241071d4')]"
      ]
     },
     "execution_count": 50,
     "metadata": {},
     "output_type": "execute_result"
    }
   ],
   "source": [
    "\n",
    "from ipyparallel import Client\n",
    "c = Client(profile='mpi')\n",
    "\n",
    "view = c[:]\n",
    "\n",
    "view.activate() # enable magics\n",
    "\n",
    "# run the contents of the file on each engine:\n",
    "view.run('other/psum.py')\n",
    "\n",
    "view.scatter('a',np.arange(16,dtype='float'))\n",
    "\n",
    "print(view['a'])\n",
    "\n",
    "%px totalsum = psum(a)\n",
    "\n",
    "view['totalsum']\n"
   ]
  },
  {
   "cell_type": "code",
   "execution_count": 46,
   "metadata": {
    "collapsed": false
   },
   "outputs": [
    {
     "name": "stdout",
     "output_type": "stream",
     "text": [
      "np:  1\n",
      "True\n"
     ]
    },
    {
     "ename": "Exception",
     "evalue": "MPI_ERR_RANK: invalid rank",
     "output_type": "error",
     "traceback": [
      "\u001b[1;31m---------------------------------------------------------------------------\u001b[0m",
      "\u001b[1;31mException\u001b[0m                                 Traceback (most recent call last)",
      "\u001b[1;32m<ipython-input-46-a4e8f0631791>\u001b[0m in \u001b[0;36m<module>\u001b[1;34m()\u001b[0m\n\u001b[0;32m     10\u001b[0m \u001b[1;32mif\u001b[0m \u001b[0mrank\u001b[0m \u001b[1;33m==\u001b[0m \u001b[1;36m0\u001b[0m\u001b[1;33m:\u001b[0m\u001b[1;33m\u001b[0m\u001b[0m\n\u001b[0;32m     11\u001b[0m     \u001b[0mdata\u001b[0m \u001b[1;33m=\u001b[0m \u001b[1;33m{\u001b[0m\u001b[1;34m'a'\u001b[0m\u001b[1;33m:\u001b[0m \u001b[1;36m7\u001b[0m\u001b[1;33m,\u001b[0m \u001b[1;34m'b'\u001b[0m\u001b[1;33m:\u001b[0m \u001b[1;36m3.14\u001b[0m\u001b[1;33m}\u001b[0m\u001b[1;33m\u001b[0m\u001b[0m\n\u001b[1;32m---> 12\u001b[1;33m     \u001b[0mcomm\u001b[0m\u001b[1;33m.\u001b[0m\u001b[0msend\u001b[0m\u001b[1;33m(\u001b[0m\u001b[0mdata\u001b[0m\u001b[1;33m,\u001b[0m \u001b[0mdest\u001b[0m\u001b[1;33m=\u001b[0m\u001b[1;36m1\u001b[0m\u001b[1;33m,\u001b[0m \u001b[0mtag\u001b[0m\u001b[1;33m=\u001b[0m\u001b[1;36m11\u001b[0m\u001b[1;33m)\u001b[0m\u001b[1;33m\u001b[0m\u001b[0m\n\u001b[0m\u001b[0;32m     13\u001b[0m \u001b[1;32melif\u001b[0m \u001b[0mrank\u001b[0m \u001b[1;33m==\u001b[0m \u001b[1;36m1\u001b[0m\u001b[1;33m:\u001b[0m\u001b[1;33m\u001b[0m\u001b[0m\n\u001b[0;32m     14\u001b[0m     \u001b[0mdata\u001b[0m \u001b[1;33m=\u001b[0m \u001b[0mcomm\u001b[0m\u001b[1;33m.\u001b[0m\u001b[0mrecv\u001b[0m\u001b[1;33m(\u001b[0m\u001b[0msource\u001b[0m\u001b[1;33m=\u001b[0m\u001b[1;36m0\u001b[0m\u001b[1;33m,\u001b[0m \u001b[0mtag\u001b[0m\u001b[1;33m=\u001b[0m\u001b[1;36m11\u001b[0m\u001b[1;33m)\u001b[0m\u001b[1;33m\u001b[0m\u001b[0m\n",
      "\u001b[1;32mMPI/Comm.pyx\u001b[0m in \u001b[0;36mmpi4py.MPI.Comm.send (src/mpi4py.MPI.c:106424)\u001b[1;34m()\u001b[0m\n",
      "\u001b[1;32mMPI/msgpickle.pxi\u001b[0m in \u001b[0;36mmpi4py.MPI.PyMPI_send (src/mpi4py.MPI.c:42120)\u001b[1;34m()\u001b[0m\n",
      "\u001b[1;31mException\u001b[0m: MPI_ERR_RANK: invalid rank"
     ]
    }
   ],
   "source": [
    "from mpi4py import MPI\n",
    "\n",
    "#MPI_Init()\n",
    "\n",
    "comm = MPI.COMM_WORLD\n",
    "rank = comm.Get_rank()\n",
    "print('np: ', comm.Get_size())\n",
    "print(MPI.Is_initialized())\n",
    "\n",
    "if rank == 0:\n",
    "    data = {'a': 7, 'b': 3.14}\n",
    "    comm.send(data, dest=1, tag=11)\n",
    "elif rank == 1:\n",
    "    data = comm.recv(source=0, tag=11)\n",
    "\n"
   ]
  },
  {
   "cell_type": "code",
   "execution_count": null,
   "metadata": {
    "collapsed": true
   },
   "outputs": [],
   "source": []
  }
 ],
 "metadata": {
  "kernelspec": {
   "display_name": "Python 3",
   "language": "python",
   "name": "python3"
  },
  "language_info": {
   "codemirror_mode": {
    "name": "ipython",
    "version": 3
   },
   "file_extension": ".py",
   "mimetype": "text/x-python",
   "name": "python",
   "nbconvert_exporter": "python",
   "pygments_lexer": "ipython3",
   "version": "3.5.2"
  }
 },
 "nbformat": 4,
 "nbformat_minor": 0
}
