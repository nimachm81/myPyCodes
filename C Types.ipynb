{
 "cells": [
  {
   "cell_type": "code",
   "execution_count": 1,
   "metadata": {
    "collapsed": false
   },
   "outputs": [
    {
     "name": "stdout",
     "output_type": "stream",
     "text": [
      "c_int(5)\n"
     ]
    }
   ],
   "source": [
    "from ctypes import *\n",
    "\n",
    "a_Ci = c_int(2)\n",
    "b_Ci = c_int(3)\n",
    "c_Ci = c_int(0)\n",
    "\n",
    "c_Ci.value = a_Ci.value + b_Ci.value\n",
    "\n",
    "print(c_Ci)"
   ]
  },
  {
   "cell_type": "code",
   "execution_count": 11,
   "metadata": {
    "collapsed": false
   },
   "outputs": [
    {
     "name": "stdout",
     "output_type": "stream",
     "text": [
      "c_double(5.0)\n",
      "<class 'ctypes.c_double'> 136\n",
      "<class 'float'> 24\n"
     ]
    },
    {
     "data": {
      "text/plain": [
       "112"
      ]
     },
     "execution_count": 11,
     "metadata": {},
     "output_type": "execute_result"
    }
   ],
   "source": [
    "from ctypes import *\n",
    "import sys\n",
    "\n",
    "a_Cd = c_double(2)\n",
    "b_Cd = c_double(3)\n",
    "c_Cd = c_double(0)\n",
    "\n",
    "c_Cd.value = a_Cd.value + b_Cd.value\n",
    "\n",
    "print(c_Cd)\n",
    "\n",
    "c = c_Cd.value\n",
    "\n",
    "print(type(c_Cd), sys.getsizeof(c_Cd))\n",
    "print(type(c), sys.getsizeof(c))\n"
   ]
  },
  {
   "cell_type": "code",
   "execution_count": null,
   "metadata": {
    "collapsed": true
   },
   "outputs": [],
   "source": []
  }
 ],
 "metadata": {
  "kernelspec": {
   "display_name": "Python 3",
   "language": "python",
   "name": "python3"
  },
  "language_info": {
   "codemirror_mode": {
    "name": "ipython",
    "version": 3
   },
   "file_extension": ".py",
   "mimetype": "text/x-python",
   "name": "python",
   "nbconvert_exporter": "python",
   "pygments_lexer": "ipython3",
   "version": "3.4.3"
  }
 },
 "nbformat": 4,
 "nbformat_minor": 0
}
