{
 "metadata": {
  "name": ""
 },
 "nbformat": 3,
 "nbformat_minor": 0,
 "worksheets": [
  {
   "cells": [
    {
     "cell_type": "code",
     "collapsed": false,
     "input": [
      "from sympy import *\n",
      "from IPython.display import Math, display\n",
      "\n",
      "z, t = symbols('z t')\n",
      "\n",
      "E = Function('E')(z,t)\n",
      "H = Function('H')(z,t)\n",
      "D = Function('D')(z,t)\n",
      "\n",
      "\n",
      "omega, k = symbols('omega k')\n",
      "\n",
      "eps_r = Function('\\\\epsilon_r')(t)\n",
      "eps_0, mu_0 = symbols('\\\\epsilon_0 \\\\mu_0')\n",
      "omega = Symbol('\\\\omega')\n",
      "\n",
      "MF = Derivative(E, z) + mu_0*Derivative(H, t)\n",
      "MA = -Derivative(H, z) - eps_0*Derivative(eps_r*E, t)\n",
      "\n",
      "display(Math(latex(MF)))\n",
      "display(Math(latex(MA)))\n",
      "\n",
      "EQ = Derivative(MF, z).doit()\n",
      "display(Math(latex(EQ)))\n",
      "\n",
      "EQ = EQ.subs(Derivative(H, z), -eps_0*Derivative(eps_r*E, t)).simplify()\n",
      "display(Math(latex(EQ)))\n",
      "\n",
      "EQ = EQ.subs(E, D/eps_r)\n",
      "display(Math(latex(EQ)))\n",
      "\n",
      "D_0 = Function('D_0')(t)\n",
      "n = Function('n')(t)\n",
      "c = Symbol('c')\n",
      "\n",
      "EQ = EQ.subs([(D, D_0*exp(-I*k*z)), (eps_r, n**2)])/exp(-I*k*z)\n",
      "EQ = EQ.doit().simplify().subs(eps_0*mu_0, 1/c**2)\n",
      "EQ = (-EQ*c**2).simplify()\n",
      "display(Math(latex(EQ)))\n",
      "\n",
      "D = Function('D')(t)\n",
      "EQ = EQ.subs(D_0, D)\n",
      "display(Math(latex(EQ)))\n",
      "\n",
      "n_0 = symbols('n_0')\n",
      "U = Function('U')(t)\n",
      "n_sub = n_0*U\n",
      "EQ = EQ.subs(n, n_sub)\n",
      "display(Math(latex(EQ)))\n",
      "\n",
      "print(latex(EQ))"
     ],
     "language": "python",
     "metadata": {},
     "outputs": [
      {
       "latex": [
        "$$\\mu_{0} \\frac{\\partial}{\\partial t} H{\\left (z,t \\right )} + \\frac{\\partial}{\\partial z} E{\\left (z,t \\right )}$$"
       ],
       "metadata": {},
       "output_type": "display_data",
       "text": [
        "<IPython.core.display.Math at 0x7f52bc3dc940>"
       ]
      },
      {
       "latex": [
        "$$- \\epsilon_{0} \\frac{\\partial}{\\partial t}\\left(E{\\left (z,t \\right )} \\epsilon_{r}{\\left (t \\right )}\\right) - \\frac{\\partial}{\\partial z} H{\\left (z,t \\right )}$$"
       ],
       "metadata": {},
       "output_type": "display_data",
       "text": [
        "<IPython.core.display.Math at 0x7f52b5033c50>"
       ]
      },
      {
       "latex": [
        "$$\\mu_{0} \\frac{\\partial^{2}}{\\partial t\\partial z}  H{\\left (z,t \\right )} + \\frac{\\partial^{2}}{\\partial z^{2}}  E{\\left (z,t \\right )}$$"
       ],
       "metadata": {},
       "output_type": "display_data",
       "text": [
        "<IPython.core.display.Math at 0x7f52b5033c50>"
       ]
      },
      {
       "latex": [
        "$$\\mu_{0} \\frac{\\partial}{\\partial t}\\left(- \\epsilon_{0} \\frac{\\partial}{\\partial t}\\left(E{\\left (z,t \\right )} \\epsilon_{r}{\\left (t \\right )}\\right)\\right) + \\frac{\\partial^{2}}{\\partial z^{2}}  E{\\left (z,t \\right )}$$"
       ],
       "metadata": {},
       "output_type": "display_data",
       "text": [
        "<IPython.core.display.Math at 0x7f52b5033c50>"
       ]
      },
      {
       "latex": [
        "$$\\mu_{0} \\frac{\\partial}{\\partial t}\\left(- \\epsilon_{0} \\frac{\\partial}{\\partial t} D{\\left (z,t \\right )}\\right) + \\frac{\\partial^{2}}{\\partial z^{2}} \\left(\\frac{D{\\left (z,t \\right )}}{\\epsilon_{r}{\\left (t \\right )}}\\right)$$"
       ],
       "metadata": {},
       "output_type": "display_data",
       "text": [
        "<IPython.core.display.Math at 0x7f52b5033c50>"
       ]
      },
      {
       "latex": [
        "$$\\frac{c^{2} k^{2} \\operatorname{D_{0}}{\\left (t \\right )}}{n^{2}{\\left (t \\right )}} + \\frac{d^{2}}{d t^{2}}  \\operatorname{D_{0}}{\\left (t \\right )}$$"
       ],
       "metadata": {},
       "output_type": "display_data",
       "text": [
        "<IPython.core.display.Math at 0x7f52b4f9b630>"
       ]
      },
      {
       "latex": [
        "$$\\frac{c^{2} k^{2} D{\\left (t \\right )}}{n^{2}{\\left (t \\right )}} + \\frac{d^{2}}{d t^{2}}  D{\\left (t \\right )}$$"
       ],
       "metadata": {},
       "output_type": "display_data",
       "text": [
        "<IPython.core.display.Math at 0x7f52b4f33630>"
       ]
      },
      {
       "latex": [
        "$$\\frac{c^{2} k^{2} D{\\left (t \\right )}}{n_{0}^{2} U^{2}{\\left (t \\right )}} + \\frac{d^{2}}{d t^{2}}  D{\\left (t \\right )}$$"
       ],
       "metadata": {},
       "output_type": "display_data",
       "text": [
        "<IPython.core.display.Math at 0x7f52b4f35cc0>"
       ]
      },
      {
       "output_type": "stream",
       "stream": "stdout",
       "text": [
        "\\frac{c^{2} k^{2} D{\\left (t \\right )}}{n_{0}^{2} U^{2}{\\left (t \\right )}} + \\frac{d^{2}}{d t^{2}}  D{\\left (t \\right )}\n"
       ]
      }
     ],
     "prompt_number": 1
    },
    {
     "cell_type": "code",
     "collapsed": false,
     "input": [
      "%reload_ext autoreload\n",
      "%autoreload\n",
      "\n",
      "from sympy import *\n",
      "from Electromagnetics.VectorCalculus import *\n",
      "from IPython.display import display, Math, Latex\n",
      "\n",
      "zp, tp = symbols(\"z' t'\")\n",
      "eta = symbols('\\\\eta')\n",
      "\n",
      "eta__t = Integral(1/U, (t, 0, t))\n",
      "eta_inv = Function('\\\\tilde{t}')(eta)\n",
      "display(Math('\\\\eta = ' + latex(eta__t)))\n",
      "print(latex(eta__t))\n",
      "\n",
      "gs = [eta__t]\n",
      "gs_inv = [eta_inv]\n",
      "\n",
      "pde_new = pdeChangeOfVariables(EQ, [t], [eta], gs, gs_inv)\n",
      "\n",
      "display(Math(latex(pde_new)))\n",
      "\n",
      "pde_new = pde_new.subs(Function('D')(t), Function('D')(eta)*sqrt(U)).subs(t, eta_inv)\n",
      "display(Math(latex(pde_new)))\n",
      "\n",
      "pde_new = pde_new.doit().simplify()\n",
      "display(Math(latex(pde_new)))\n"
     ],
     "language": "python",
     "metadata": {},
     "outputs": [
      {
       "latex": [
        "$$\\eta = \\int_{0}^{t} \\frac{1}{U{\\left (t \\right )}}\\, dt$$"
       ],
       "metadata": {},
       "output_type": "display_data",
       "text": [
        "<IPython.core.display.Math at 0x7f52bc3d5278>"
       ]
      },
      {
       "output_type": "stream",
       "stream": "stdout",
       "text": [
        "\\int_{0}^{t} \\frac{1}{U{\\left (t \\right )}}\\, dt\n"
       ]
      },
      {
       "latex": [
        "$$\\frac{c^{2} k^{2} D{\\left (t \\right )}}{n_{0}^{2} U^{2}{\\left (t \\right )}} + \\left(\\int_{0}^{\\tilde{t}{\\left (\\eta \\right )}} 0\\, dt + \\frac{1}{U{\\left (\\tilde{t}{\\left (\\eta \\right )} \\right )}}\\right) \\frac{\\partial}{\\partial \\eta}\\left(\\left(\\int_{0}^{\\tilde{t}{\\left (\\eta \\right )}} 0\\, dt + \\frac{1}{U{\\left (\\tilde{t}{\\left (\\eta \\right )} \\right )}}\\right) \\frac{d}{d \\eta} D{\\left (t \\right )}\\right)$$"
       ],
       "metadata": {},
       "output_type": "display_data",
       "text": [
        "<IPython.core.display.Math at 0x7f52bc3d5390>"
       ]
      },
      {
       "latex": [
        "$$\\frac{c^{2} k^{2} D{\\left (\\eta \\right )}}{n_{0}^{2} U^{\\frac{3}{2}}{\\left (\\tilde{t}{\\left (\\eta \\right )} \\right )}} + \\left(\\int_{0}^{\\tilde{t}{\\left (\\eta \\right )}} 0\\, dt + \\frac{1}{U{\\left (\\tilde{t}{\\left (\\eta \\right )} \\right )}}\\right) \\frac{d}{d \\eta}\\left(\\left(\\int_{0}^{\\tilde{t}{\\left (\\eta \\right )}} 0\\, dt + \\frac{1}{U{\\left (\\tilde{t}{\\left (\\eta \\right )} \\right )}}\\right) \\frac{d}{d \\eta}\\left(D{\\left (\\eta \\right )} \\sqrt{U{\\left (\\tilde{t}{\\left (\\eta \\right )} \\right )}}\\right)\\right)$$"
       ],
       "metadata": {},
       "output_type": "display_data",
       "text": [
        "<IPython.core.display.Math at 0x7f52bc3d5390>"
       ]
      },
      {
       "latex": [
        "$$\\frac{c^{2} k^{2} D{\\left (\\eta \\right )}}{n_{0}^{2} U^{\\frac{3}{2}}{\\left (\\tilde{t}{\\left (\\eta \\right )} \\right )}} + \\frac{D{\\left (\\eta \\right )} \\left(\\frac{d}{d \\eta} \\tilde{t}{\\left (\\eta \\right )}\\right)^{2}}{2 U^{\\frac{5}{2}}{\\left (\\tilde{t}{\\left (\\eta \\right )} \\right )}} \\left. \\frac{d^{2}}{d \\xi_{1}^{2}}  U{\\left (\\xi_{1} \\right )} \\right|_{\\substack{ \\xi_{1}=\\tilde{t}{\\left (\\eta \\right )} }} + \\frac{D{\\left (\\eta \\right )} \\frac{d^{2}}{d \\eta^{2}}  \\tilde{t}{\\left (\\eta \\right )}}{2 U^{\\frac{5}{2}}{\\left (\\tilde{t}{\\left (\\eta \\right )} \\right )}} \\left. \\frac{d}{d \\xi_{1}} U{\\left (\\xi_{1} \\right )} \\right|_{\\substack{ \\xi_{1}=\\tilde{t}{\\left (\\eta \\right )} }} - \\frac{3 D{\\left (\\eta \\right )} \\left(\\frac{d}{d \\eta} \\tilde{t}{\\left (\\eta \\right )}\\right)^{2}}{4 U^{\\frac{7}{2}}{\\left (\\tilde{t}{\\left (\\eta \\right )} \\right )}} \\left(\\left. \\frac{d}{d \\xi_{1}} U{\\left (\\xi_{1} \\right )} \\right|_{\\substack{ \\xi_{1}=\\tilde{t}{\\left (\\eta \\right )} }}\\right)^{2} + \\frac{\\frac{d^{2}}{d \\eta^{2}}  D{\\left (\\eta \\right )}}{U^{\\frac{3}{2}}{\\left (\\tilde{t}{\\left (\\eta \\right )} \\right )}}$$"
       ],
       "metadata": {},
       "output_type": "display_data",
       "text": [
        "<IPython.core.display.Math at 0x7f52bc3d5390>"
       ]
      }
     ],
     "prompt_number": 2
    },
    {
     "cell_type": "code",
     "collapsed": false,
     "input": [
      "%reload_ext autoreload\n",
      "%autoreload\n",
      "\n",
      "from Electromagnetics.Misc import SimplifyDiffEquationCoeffs, GetDiffEquationCoeffs\n",
      "\n",
      "pde_new = SimplifyDiffEquationCoeffs(pde_new, Function('D')(eta), eta, 2)\n",
      "display(Math(latex(pde_new)))\n",
      "\n",
      "pde_coeffs, pde_inhomog = GetDiffEquationCoeffs(pde_new, Function('D')(eta), eta, 2)\n",
      "\n",
      "#pde_inhomog = pde_inhomog.subs(Derivative(Integer(0), eta), 0)\n",
      "\n",
      "display(Math(latex(pde_coeffs[0])))\n",
      "display(Math(latex(pde_inhomog)))\n",
      "\n",
      "print(srepr(pde_inhomog))"
     ],
     "language": "python",
     "metadata": {},
     "outputs": [
      {
       "latex": [
        "$$\\frac{\\frac{d^{2}}{d \\eta^{2}}  0}{U^{\\frac{3}{2}}{\\left (\\tilde{t}{\\left (\\eta \\right )} \\right )}} + \\frac{\\frac{d^{2}}{d \\eta^{2}}  D{\\left (\\eta \\right )}}{U^{\\frac{3}{2}}{\\left (\\tilde{t}{\\left (\\eta \\right )} \\right )}} + \\frac{D{\\left (\\eta \\right )}}{n_{0}^{2} U^{\\frac{7}{2}}{\\left (\\tilde{t}{\\left (\\eta \\right )} \\right )}} \\left(c^{2} k^{2} U^{2}{\\left (\\tilde{t}{\\left (\\eta \\right )} \\right )} + \\frac{n_{0}^{2}}{2} \\left(\\left(\\frac{d}{d \\eta} \\tilde{t}{\\left (\\eta \\right )}\\right)^{2} \\left. \\frac{d^{2}}{d \\xi_{1}^{2}}  U{\\left (\\xi_{1} \\right )} \\right|_{\\substack{ \\xi_{1}=\\tilde{t}{\\left (\\eta \\right )} }} + \\frac{d^{2}}{d \\eta^{2}}  \\tilde{t}{\\left (\\eta \\right )} \\left. \\frac{d}{d \\xi_{1}} U{\\left (\\xi_{1} \\right )} \\right|_{\\substack{ \\xi_{1}=\\tilde{t}{\\left (\\eta \\right )} }}\\right) U{\\left (\\tilde{t}{\\left (\\eta \\right )} \\right )} - \\frac{3 n_{0}^{2}}{4} \\left(\\frac{d}{d \\eta} \\tilde{t}{\\left (\\eta \\right )}\\right)^{2} \\left(\\left. \\frac{d}{d \\xi_{1}} U{\\left (\\xi_{1} \\right )} \\right|_{\\substack{ \\xi_{1}=\\tilde{t}{\\left (\\eta \\right )} }}\\right)^{2}\\right)$$"
       ],
       "metadata": {},
       "output_type": "display_data",
       "text": [
        "<IPython.core.display.Math at 0x7f52bc3d5208>"
       ]
      },
      {
       "latex": [
        "$$\\frac{1}{n_{0}^{2} U^{\\frac{7}{2}}{\\left (\\tilde{t}{\\left (\\eta \\right )} \\right )}} \\left(c^{2} k^{2} U^{2}{\\left (\\tilde{t}{\\left (\\eta \\right )} \\right )} + \\frac{n_{0}^{2}}{2} \\left(\\left(\\frac{d}{d \\eta} \\tilde{t}{\\left (\\eta \\right )}\\right)^{2} \\left. \\frac{d^{2}}{d \\xi_{1}^{2}}  U{\\left (\\xi_{1} \\right )} \\right|_{\\substack{ \\xi_{1}=\\tilde{t}{\\left (\\eta \\right )} }} + \\frac{d^{2}}{d \\eta^{2}}  \\tilde{t}{\\left (\\eta \\right )} \\left. \\frac{d}{d \\xi_{1}} U{\\left (\\xi_{1} \\right )} \\right|_{\\substack{ \\xi_{1}=\\tilde{t}{\\left (\\eta \\right )} }}\\right) U{\\left (\\tilde{t}{\\left (\\eta \\right )} \\right )} - \\frac{3 n_{0}^{2}}{4} \\left(\\frac{d}{d \\eta} \\tilde{t}{\\left (\\eta \\right )}\\right)^{2} \\left(\\left. \\frac{d}{d \\xi_{1}} U{\\left (\\xi_{1} \\right )} \\right|_{\\substack{ \\xi_{1}=\\tilde{t}{\\left (\\eta \\right )} }}\\right)^{2}\\right)$$"
       ],
       "metadata": {},
       "output_type": "display_data",
       "text": [
        "<IPython.core.display.Math at 0x7f52bc3d5208>"
       ]
      },
      {
       "latex": [
        "$$\\frac{2 \\frac{d^{2}}{d \\eta^{2}}  0}{U^{\\frac{3}{2}}{\\left (\\tilde{t}{\\left (\\eta \\right )} \\right )}}$$"
       ],
       "metadata": {},
       "output_type": "display_data",
       "text": [
        "<IPython.core.display.Math at 0x7f5288d7aa20>"
       ]
      },
      {
       "output_type": "stream",
       "stream": "stdout",
       "text": [
        "Mul(Integer(2), Pow(Function('U')(Function('\\\\tilde{t}')(Symbol('\\\\eta'))), Rational(-3, 2)), Derivative(Integer(0), Symbol('\\\\eta'), Symbol('\\\\eta')))\n"
       ]
      }
     ],
     "prompt_number": 3
    },
    {
     "cell_type": "code",
     "collapsed": false,
     "input": [
      "pde_coeffs_0 = pde_coeffs[0]\n",
      "\n",
      "t__eta = eta_inv\n",
      "t_inv = Function('\\\\tilde{\\eta}')(t)\n",
      "\n",
      "gs = [t__eta]\n",
      "gs_inv = [t_inv]\n",
      "\n",
      "pde_coeffs_0_new = pdeChangeOfVariables(pde_coeffs_0, [eta], [t], gs, gs_inv)\n",
      "\n",
      "display(Math(latex(pde_coeffs_0_new)))\n",
      "\n",
      "pde_coeffs_0_new = pde_coeffs_0_new.subs(eta, t_inv)\n",
      "display(Math(latex(pde_coeffs_0_new)))\n",
      "\n",
      "pde_coeffs_0_new = pde_coeffs_0_new.subs(eta_inv.subs(eta, t_inv), t)\n",
      "display(Math(latex(pde_coeffs_0_new)))\n",
      "\n",
      "pde_coeffs_0_new = pde_coeffs_0_new.doit().simplify()\n",
      "display(Math(latex(pde_coeffs_0_new)))\n",
      "\n",
      "pde_coeffs_0_new = pde_coeffs_0_new.subs(Derivative(t__eta, eta, 2).subs(eta, t_inv), 1/Derivative(t_inv, t)*Derivative(Derivative(t__eta, eta).subs(eta, t_inv), t))\n",
      "display(Math(latex(pde_coeffs_0_new)))\n",
      "\n",
      "pde_coeffs_0_new = pde_coeffs_0_new.subs(Derivative(t__eta, eta).subs(eta, t_inv), 1/Derivative(t_inv, t))\n",
      "display(Math(latex(pde_coeffs_0_new)))\n",
      "\n",
      "pde_coeffs_0_new = pde_coeffs_0_new.subs(t_inv, eta__t)\n",
      "display(Math(latex(pde_coeffs_0_new)))\n",
      "\n",
      "pde_coeffs_0_new = pde_coeffs_0_new.doit().simplify()\n",
      "display(Math(latex(pde_coeffs_0_new)))\n",
      "\n",
      "print(srepr(pde_coeffs_0_new))\n",
      "\n",
      "pde_coeffs_0_new = pde_coeffs_0_new.subs(Integral(Integer(0), Tuple(Symbol('t'), Integer(0), Symbol('t'))), 0).simplify()\n",
      "display(Math(latex(pde_coeffs_0_new)))\n",
      "\n",
      "\n",
      "pde_coeffs_0_new = (pde_coeffs_0_new*(U*sqrt(U))).simplify()\n",
      "display(Math(latex(pde_coeffs_0_new)))\n",
      "\n",
      "print(latex(pde_coeffs_0_new))\n",
      "\n",
      "p_sq = pde_coeffs_0_new - pde_coeffs_0_new.subs(U, 0).doit()\n",
      "p_sq = -p_sq\n",
      "display(Math('p^2 = '+latex(p_sq)))\n",
      "\n",
      "p = symbols('p')\n",
      "Omega_sq = pde_coeffs_0_new.subs(U, 0).doit() - p**2\n",
      "display(Math('\\\\Omega^2 = '+latex(Omega_sq)))\n"
     ],
     "language": "python",
     "metadata": {},
     "outputs": [
      {
       "latex": [
        "$$\\frac{1}{n_{0}^{2} U^{\\frac{7}{2}}{\\left (\\tilde{t}{\\left (\\eta \\right )} \\right )}} \\left(c^{2} k^{2} U^{2}{\\left (\\tilde{t}{\\left (\\eta \\right )} \\right )} + \\frac{n_{0}^{2}}{2} \\left(\\frac{\\partial}{\\partial t}\\left(\\frac{d}{d t} \\tilde{t}{\\left (\\eta \\right )} \\left. \\frac{d}{d \\eta} \\tilde{t}{\\left (\\eta \\right )} \\right|_{\\substack{ \\eta=\\tilde{\\eta}{\\left (t \\right )} }}\\right) \\left. \\frac{d}{d \\xi_{1}} U{\\left (\\xi_{1} \\right )} \\right|_{\\substack{ \\xi_{1}=\\tilde{t}{\\left (\\eta \\right )} }} \\left. \\frac{d}{d \\eta} \\tilde{t}{\\left (\\eta \\right )} \\right|_{\\substack{ \\eta=\\tilde{\\eta}{\\left (t \\right )} }} + \\left(\\frac{d}{d t} \\tilde{t}{\\left (\\eta \\right )}\\right)^{2} \\left(\\left. \\frac{d}{d \\eta} \\tilde{t}{\\left (\\eta \\right )} \\right|_{\\substack{ \\eta=\\tilde{\\eta}{\\left (t \\right )} }}\\right)^{2} \\left. \\frac{d^{2}}{d \\xi_{1}^{2}}  U{\\left (\\xi_{1} \\right )} \\right|_{\\substack{ \\xi_{1}=\\tilde{t}{\\left (\\eta \\right )} }}\\right) U{\\left (\\tilde{t}{\\left (\\eta \\right )} \\right )} - \\frac{3 n_{0}^{2}}{4} \\left(\\frac{d}{d t} \\tilde{t}{\\left (\\eta \\right )}\\right)^{2} \\left(\\left. \\frac{d}{d \\xi_{1}} U{\\left (\\xi_{1} \\right )} \\right|_{\\substack{ \\xi_{1}=\\tilde{t}{\\left (\\eta \\right )} }}\\right)^{2} \\left(\\left. \\frac{d}{d \\eta} \\tilde{t}{\\left (\\eta \\right )} \\right|_{\\substack{ \\eta=\\tilde{\\eta}{\\left (t \\right )} }}\\right)^{2}\\right)$$"
       ],
       "metadata": {},
       "output_type": "display_data",
       "text": [
        "<IPython.core.display.Math at 0x7f52b4e7f518>"
       ]
      },
      {
       "latex": [
        "$$\\frac{1}{n_{0}^{2} U^{\\frac{7}{2}}{\\left (\\tilde{t}{\\left (\\tilde{\\eta}{\\left (t \\right )} \\right )} \\right )}} \\left(c^{2} k^{2} U^{2}{\\left (\\tilde{t}{\\left (\\tilde{\\eta}{\\left (t \\right )} \\right )} \\right )} + \\frac{n_{0}^{2}}{2} \\left(\\frac{d}{d t}\\left(\\frac{d}{d t} \\tilde{t}{\\left (\\tilde{\\eta}{\\left (t \\right )} \\right )} \\left. \\frac{d}{d \\eta} \\tilde{t}{\\left (\\eta \\right )} \\right|_{\\substack{ \\eta=\\tilde{\\eta}{\\left (t \\right )} }}\\right) \\left. \\frac{d}{d \\xi_{1}} U{\\left (\\xi_{1} \\right )} \\right|_{\\substack{ \\xi_{1}=\\tilde{t}{\\left (\\tilde{\\eta}{\\left (t \\right )} \\right )} }} \\left. \\frac{d}{d \\eta} \\tilde{t}{\\left (\\eta \\right )} \\right|_{\\substack{ \\eta=\\tilde{\\eta}{\\left (t \\right )} }} + \\left(\\frac{d}{d t} \\tilde{t}{\\left (\\tilde{\\eta}{\\left (t \\right )} \\right )}\\right)^{2} \\left(\\left. \\frac{d}{d \\eta} \\tilde{t}{\\left (\\eta \\right )} \\right|_{\\substack{ \\eta=\\tilde{\\eta}{\\left (t \\right )} }}\\right)^{2} \\left. \\frac{d^{2}}{d \\xi_{1}^{2}}  U{\\left (\\xi_{1} \\right )} \\right|_{\\substack{ \\xi_{1}=\\tilde{t}{\\left (\\tilde{\\eta}{\\left (t \\right )} \\right )} }}\\right) U{\\left (\\tilde{t}{\\left (\\tilde{\\eta}{\\left (t \\right )} \\right )} \\right )} - \\frac{3 n_{0}^{2}}{4} \\left(\\frac{d}{d t} \\tilde{t}{\\left (\\tilde{\\eta}{\\left (t \\right )} \\right )}\\right)^{2} \\left(\\left. \\frac{d}{d \\xi_{1}} U{\\left (\\xi_{1} \\right )} \\right|_{\\substack{ \\xi_{1}=\\tilde{t}{\\left (\\tilde{\\eta}{\\left (t \\right )} \\right )} }}\\right)^{2} \\left(\\left. \\frac{d}{d \\eta} \\tilde{t}{\\left (\\eta \\right )} \\right|_{\\substack{ \\eta=\\tilde{\\eta}{\\left (t \\right )} }}\\right)^{2}\\right)$$"
       ],
       "metadata": {},
       "output_type": "display_data",
       "text": [
        "<IPython.core.display.Math at 0x7f52b4e7f898>"
       ]
      },
      {
       "latex": [
        "$$\\frac{1}{n_{0}^{2} U^{\\frac{7}{2}}{\\left (t \\right )}} \\left(c^{2} k^{2} U^{2}{\\left (t \\right )} + \\frac{n_{0}^{2}}{2} \\left(\\left(\\frac{d}{d t} t\\right)^{2} \\left(\\left. \\frac{d}{d \\eta} \\tilde{t}{\\left (\\eta \\right )} \\right|_{\\substack{ \\eta=\\tilde{\\eta}{\\left (t \\right )} }}\\right)^{2} \\left. \\frac{d^{2}}{d \\xi_{1}^{2}}  U{\\left (\\xi_{1} \\right )} \\right|_{\\substack{ \\xi_{1}=t }} + \\frac{d}{d t}\\left(\\frac{d}{d t} t \\left. \\frac{d}{d \\eta} \\tilde{t}{\\left (\\eta \\right )} \\right|_{\\substack{ \\eta=\\tilde{\\eta}{\\left (t \\right )} }}\\right) \\left. \\frac{d}{d \\xi_{1}} U{\\left (\\xi_{1} \\right )} \\right|_{\\substack{ \\xi_{1}=t }} \\left. \\frac{d}{d \\eta} \\tilde{t}{\\left (\\eta \\right )} \\right|_{\\substack{ \\eta=\\tilde{\\eta}{\\left (t \\right )} }}\\right) U{\\left (t \\right )} - \\frac{3 n_{0}^{2}}{4} \\left(\\frac{d}{d t} t\\right)^{2} \\left(\\left. \\frac{d}{d \\xi_{1}} U{\\left (\\xi_{1} \\right )} \\right|_{\\substack{ \\xi_{1}=t }}\\right)^{2} \\left(\\left. \\frac{d}{d \\eta} \\tilde{t}{\\left (\\eta \\right )} \\right|_{\\substack{ \\eta=\\tilde{\\eta}{\\left (t \\right )} }}\\right)^{2}\\right)$$"
       ],
       "metadata": {},
       "output_type": "display_data",
       "text": [
        "<IPython.core.display.Math at 0x7f52b4e7f518>"
       ]
      },
      {
       "latex": [
        "$$\\frac{1}{n_{0}^{2} U^{\\frac{7}{2}}{\\left (t \\right )}} \\left(c^{2} k^{2} U^{2}{\\left (t \\right )} + \\frac{n_{0}^{2}}{2} \\left(\\frac{d}{d t} U{\\left (t \\right )} \\frac{d}{d t} \\tilde{\\eta}{\\left (t \\right )} \\left. \\frac{d^{2}}{d \\eta^{2}}  \\tilde{t}{\\left (\\eta \\right )} \\right|_{\\substack{ \\eta=\\tilde{\\eta}{\\left (t \\right )} }} + \\frac{d^{2}}{d t^{2}}  U{\\left (t \\right )} \\left. \\frac{d}{d \\eta} \\tilde{t}{\\left (\\eta \\right )} \\right|_{\\substack{ \\eta=\\tilde{\\eta}{\\left (t \\right )} }}\\right) U{\\left (t \\right )} \\left. \\frac{d}{d \\eta} \\tilde{t}{\\left (\\eta \\right )} \\right|_{\\substack{ \\eta=\\tilde{\\eta}{\\left (t \\right )} }} - \\frac{3 n_{0}^{2}}{4} \\left(\\frac{d}{d t} U{\\left (t \\right )}\\right)^{2} \\left(\\left. \\frac{d}{d \\eta} \\tilde{t}{\\left (\\eta \\right )} \\right|_{\\substack{ \\eta=\\tilde{\\eta}{\\left (t \\right )} }}\\right)^{2}\\right)$$"
       ],
       "metadata": {},
       "output_type": "display_data",
       "text": [
        "<IPython.core.display.Math at 0x7f52b4e7f518>"
       ]
      },
      {
       "latex": [
        "$$\\frac{1}{n_{0}^{2} U^{\\frac{7}{2}}{\\left (t \\right )}} \\left(c^{2} k^{2} U^{2}{\\left (t \\right )} + \\frac{n_{0}^{2}}{2} \\left(\\frac{d}{d t} U{\\left (t \\right )} \\frac{d}{d t} \\left. \\frac{d}{d \\eta} \\tilde{t}{\\left (\\eta \\right )} \\right|_{\\substack{ \\eta=\\tilde{\\eta}{\\left (t \\right )} }} + \\frac{d^{2}}{d t^{2}}  U{\\left (t \\right )} \\left. \\frac{d}{d \\eta} \\tilde{t}{\\left (\\eta \\right )} \\right|_{\\substack{ \\eta=\\tilde{\\eta}{\\left (t \\right )} }}\\right) U{\\left (t \\right )} \\left. \\frac{d}{d \\eta} \\tilde{t}{\\left (\\eta \\right )} \\right|_{\\substack{ \\eta=\\tilde{\\eta}{\\left (t \\right )} }} - \\frac{3 n_{0}^{2}}{4} \\left(\\frac{d}{d t} U{\\left (t \\right )}\\right)^{2} \\left(\\left. \\frac{d}{d \\eta} \\tilde{t}{\\left (\\eta \\right )} \\right|_{\\substack{ \\eta=\\tilde{\\eta}{\\left (t \\right )} }}\\right)^{2}\\right)$$"
       ],
       "metadata": {},
       "output_type": "display_data",
       "text": [
        "<IPython.core.display.Math at 0x7f52b4e7f518>"
       ]
      },
      {
       "latex": [
        "$$\\frac{1}{n_{0}^{2} U^{\\frac{7}{2}}{\\left (t \\right )}} \\left(c^{2} k^{2} U^{2}{\\left (t \\right )} + \\frac{n_{0}^{2} U{\\left (t \\right )}}{2 \\frac{d}{d t} \\tilde{\\eta}{\\left (t \\right )}} \\left(\\frac{d}{d t} U{\\left (t \\right )} \\frac{d}{d t} \\frac{1}{\\frac{d}{d t} \\tilde{\\eta}{\\left (t \\right )}} + \\frac{\\frac{d^{2}}{d t^{2}}  U{\\left (t \\right )}}{\\frac{d}{d t} \\tilde{\\eta}{\\left (t \\right )}}\\right) - \\frac{3 n_{0}^{2} \\left(\\frac{d}{d t} U{\\left (t \\right )}\\right)^{2}}{4 \\left(\\frac{d}{d t} \\tilde{\\eta}{\\left (t \\right )}\\right)^{2}}\\right)$$"
       ],
       "metadata": {},
       "output_type": "display_data",
       "text": [
        "<IPython.core.display.Math at 0x7f52b4e7f518>"
       ]
      },
      {
       "latex": [
        "$$\\frac{1}{n_{0}^{2} U^{\\frac{7}{2}}{\\left (t \\right )}} \\left(c^{2} k^{2} U^{2}{\\left (t \\right )} + \\frac{n_{0}^{2} U{\\left (t \\right )}}{2 \\frac{d}{d t} \\int_{0}^{t} \\frac{1}{U{\\left (t \\right )}}\\, dt} \\left(\\frac{d}{d t} U{\\left (t \\right )} \\frac{d}{d t} \\frac{1}{\\frac{d}{d t} \\int_{0}^{t} \\frac{1}{U{\\left (t \\right )}}\\, dt} + \\frac{\\frac{d^{2}}{d t^{2}}  U{\\left (t \\right )}}{\\frac{d}{d t} \\int_{0}^{t} \\frac{1}{U{\\left (t \\right )}}\\, dt}\\right) - \\frac{3 n_{0}^{2} \\left(\\frac{d}{d t} U{\\left (t \\right )}\\right)^{2}}{4 \\left(\\frac{d}{d t} \\int_{0}^{t} \\frac{1}{U{\\left (t \\right )}}\\, dt\\right)^{2}}\\right)$$"
       ],
       "metadata": {},
       "output_type": "display_data",
       "text": [
        "<IPython.core.display.Math at 0x7f5288d2b8d0>"
       ]
      },
      {
       "latex": [
        "$$\\frac{1}{4 n_{0}^{2} \\left(\\left(U{\\left (t \\right )} \\int_{0}^{t} 0\\, dt + 1\\right)^{3}\\right) U^{\\frac{3}{2}}{\\left (t \\right )}} \\left(4 c^{2} k^{2} \\left(U{\\left (t \\right )} \\int_{0}^{t} 0\\, dt + 1\\right)^{3} - 3 n_{0}^{2} \\left(U{\\left (t \\right )} \\int_{0}^{t} 0\\, dt + 1\\right) \\left(\\frac{d}{d t} U{\\left (t \\right )}\\right)^{2} + 2 n_{0}^{2} \\left(\\left(U{\\left (t \\right )} \\int_{0}^{t} 0\\, dt + 1\\right) U{\\left (t \\right )} \\frac{d^{2}}{d t^{2}}  U{\\left (t \\right )} - \\left(U^{2}{\\left (t \\right )} \\int_{0}^{t} 0\\, dt - \\frac{d}{d t} U{\\left (t \\right )}\\right) \\frac{d}{d t} U{\\left (t \\right )}\\right)\\right)$$"
       ],
       "metadata": {},
       "output_type": "display_data",
       "text": [
        "<IPython.core.display.Math at 0x7f52c5441d68>"
       ]
      },
      {
       "output_type": "stream",
       "stream": "stdout",
       "text": [
        "Mul(Rational(1, 4), Pow(Symbol('n_0'), Integer(-2)), Pow(Add(Mul(Function('U')(Symbol('t')), Integral(Integer(0), Tuple(Symbol('t'), Integer(0), Symbol('t')))), Integer(1)), Integer(-3)), Add(Mul(Integer(4), Pow(Symbol('c'), Integer(2)), Pow(Symbol('k'), Integer(2)), Pow(Add(Mul(Function('U')(Symbol('t')), Integral(Integer(0), Tuple(Symbol('t'), Integer(0), Symbol('t')))), Integer(1)), Integer(3))), Mul(Integer(-1), Integer(3), Pow(Symbol('n_0'), Integer(2)), Add(Mul(Function('U')(Symbol('t')), Integral(Integer(0), Tuple(Symbol('t'), Integer(0), Symbol('t')))), Integer(1)), Pow(Derivative(Function('U')(Symbol('t')), Symbol('t')), Integer(2))), Mul(Integer(2), Pow(Symbol('n_0'), Integer(2)), Add(Mul(Add(Mul(Function('U')(Symbol('t')), Integral(Integer(0), Tuple(Symbol('t'), Integer(0), Symbol('t')))), Integer(1)), Function('U')(Symbol('t')), Derivative(Function('U')(Symbol('t')), Symbol('t'), Symbol('t'))), Mul(Integer(-1), Add(Mul(Pow(Function('U')(Symbol('t')), Integer(2)), Integral(Integer(0), Tuple(Symbol('t'), Integer(0), Symbol('t')))), Mul(Integer(-1), Derivative(Function('U')(Symbol('t')), Symbol('t')))), Derivative(Function('U')(Symbol('t')), Symbol('t')))))), Pow(Function('U')(Symbol('t')), Rational(-3, 2)))\n"
       ]
      },
      {
       "latex": [
        "$$\\frac{1}{n_{0}^{2} U^{\\frac{3}{2}}{\\left (t \\right )}} \\left(c^{2} k^{2} + \\frac{n_{0}^{2}}{2} U{\\left (t \\right )} \\frac{d^{2}}{d t^{2}}  U{\\left (t \\right )} - \\frac{n_{0}^{2}}{4} \\left(\\frac{d}{d t} U{\\left (t \\right )}\\right)^{2}\\right)$$"
       ],
       "metadata": {},
       "output_type": "display_data",
       "text": [
        "<IPython.core.display.Math at 0x7f5288d2b4e0>"
       ]
      },
      {
       "latex": [
        "$$\\frac{c^{2} k^{2}}{n_{0}^{2}} + \\frac{1}{2} U{\\left (t \\right )} \\frac{d^{2}}{d t^{2}}  U{\\left (t \\right )} - \\frac{1}{4} \\left(\\frac{d}{d t} U{\\left (t \\right )}\\right)^{2}$$"
       ],
       "metadata": {},
       "output_type": "display_data",
       "text": [
        "<IPython.core.display.Math at 0x7f5288d2b4e0>"
       ]
      },
      {
       "output_type": "stream",
       "stream": "stdout",
       "text": [
        "\\frac{c^{2} k^{2}}{n_{0}^{2}} + \\frac{1}{2} U{\\left (t \\right )} \\frac{d^{2}}{d t^{2}}  U{\\left (t \\right )} - \\frac{1}{4} \\left(\\frac{d}{d t} U{\\left (t \\right )}\\right)^{2}\n"
       ]
      },
      {
       "latex": [
        "$$p^2 = - \\frac{1}{2} U{\\left (t \\right )} \\frac{d^{2}}{d t^{2}}  U{\\left (t \\right )} + \\frac{1}{4} \\left(\\frac{d}{d t} U{\\left (t \\right )}\\right)^{2}$$"
       ],
       "metadata": {},
       "output_type": "display_data",
       "text": [
        "<IPython.core.display.Math at 0x7f5288d2beb8>"
       ]
      },
      {
       "latex": [
        "$$\\Omega^2 = \\frac{c^{2} k^{2}}{n_{0}^{2}} - p^{2}$$"
       ],
       "metadata": {},
       "output_type": "display_data",
       "text": [
        "<IPython.core.display.Math at 0x7f5288d27208>"
       ]
      }
     ],
     "prompt_number": 4
    },
    {
     "cell_type": "code",
     "collapsed": false,
     "input": [
      "\n",
      "s1, s2, T1, T2 = symbols('s_1 s_2 T_1 T_2')\n",
      "\n",
      "U_sub = 1 + s1*t/T1 + s2*(t/T2)**2\n",
      "display(Math('U(t) = ' + latex(U_sub)))\n",
      "\n",
      "dU_sub = diff(U_sub, t)\n",
      "display(Math('dU(t) = ' + latex(dU_sub)))\n",
      "\n",
      "EQ_Ut = p_sq\n",
      "display(Math(latex(EQ_Ut)))\n",
      "\n",
      "EQ_Ut = EQ_Ut.subs(U, U_sub).doit()\n",
      "display(Math(latex(EQ_Ut)))\n",
      "\n",
      "p_sq_sub = EQ_Ut.simplify()\n",
      "display(Math('p^2 = '+latex(p_sq_sub)))\n",
      "\n",
      "t_1 = solve(U_sub-1, t)[1]\n",
      "display(Math('t_1 = ' + latex(t_1)))\n",
      "\n",
      "t_m = solve(diff(U_sub, t), t)[0]\n",
      "display(Math('t_m = ' + latex(t_m)))\n",
      "\n",
      "U_m = U_sub.subs(t, t_m).simplify()\n",
      "display(Math('U_m = ' + latex(U_m)))\n",
      "\n",
      "u_m, t_d = symbols('U_m t_d')\n",
      "T12_sub = solve([U_m-u_m, t_1-t_d], [T1, T2])\n",
      "display(Math('T_{12} = ' + latex(T12_sub)))\n",
      "\n",
      "T1_sub, T2_sub = T12_sub[1]   ## [1]: correct sign (T1, T2>0)\n",
      "display(Math('T_{1} = ' + latex(T1_sub)))\n",
      "display(Math('T_{2} = ' + latex(T2_sub)))\n",
      "\n",
      "y = Symbol('y')\n",
      "y_sub = T2/(2*T1)\n",
      "display(Math('y = ' + latex(y_sub)))\n",
      "\n",
      "U_m = U_m.subs(T2, solve(y_sub-y, T2)[0])\n",
      "display(Math('U_m = ' + latex(U_m)))\n",
      "\n",
      "T12_sub = solve([y_sub-y, t_1-t_d], [T1, T2])\n",
      "display(Math('T_{12} = ' + latex(T12_sub)))\n",
      "\n",
      "T1_sub, T2_sub = T12_sub[0]\n",
      "display(Math('T_{1} = ' + latex(T1_sub)))\n",
      "display(Math('T_{2} = ' + latex(T2_sub)))\n"
     ],
     "language": "python",
     "metadata": {},
     "outputs": [
      {
       "latex": [
        "$$U(t) = 1 + \\frac{s_{2} t^{2}}{T_{2}^{2}} + \\frac{s_{1} t}{T_{1}}$$"
       ],
       "metadata": {},
       "output_type": "display_data",
       "text": [
        "<IPython.core.display.Math at 0x7f5288ce5860>"
       ]
      },
      {
       "latex": [
        "$$dU(t) = \\frac{2 s_{2}}{T_{2}^{2}} t + \\frac{s_{1}}{T_{1}}$$"
       ],
       "metadata": {},
       "output_type": "display_data",
       "text": [
        "<IPython.core.display.Math at 0x7f5288ce5860>"
       ]
      },
      {
       "latex": [
        "$$- \\frac{1}{2} U{\\left (t \\right )} \\frac{d^{2}}{d t^{2}}  U{\\left (t \\right )} + \\frac{1}{4} \\left(\\frac{d}{d t} U{\\left (t \\right )}\\right)^{2}$$"
       ],
       "metadata": {},
       "output_type": "display_data",
       "text": [
        "<IPython.core.display.Math at 0x7f5288d89eb8>"
       ]
      },
      {
       "latex": [
        "$$\\frac{1}{4} \\left(\\frac{2 s_{2}}{T_{2}^{2}} t + \\frac{s_{1}}{T_{1}}\\right)^{2} - \\frac{s_{2}}{T_{2}^{2}} \\left(1 + \\frac{s_{2} t^{2}}{T_{2}^{2}} + \\frac{s_{1} t}{T_{1}}\\right)$$"
       ],
       "metadata": {},
       "output_type": "display_data",
       "text": [
        "<IPython.core.display.Math at 0x7f5288d89eb8>"
       ]
      },
      {
       "latex": [
        "$$p^2 = - \\frac{s_{2}}{T_{2}^{2}} + \\frac{s_{1}^{2}}{4 T_{1}^{2}}$$"
       ],
       "metadata": {},
       "output_type": "display_data",
       "text": [
        "<IPython.core.display.Math at 0x7f5288d2b128>"
       ]
      },
      {
       "latex": [
        "$$t_1 = - \\frac{T_{2}^{2} s_{1}}{T_{1} s_{2}}$$"
       ],
       "metadata": {},
       "output_type": "display_data",
       "text": [
        "<IPython.core.display.Math at 0x7f5288ce56d8>"
       ]
      },
      {
       "latex": [
        "$$t_m = - \\frac{T_{2}^{2} s_{1}}{2 T_{1} s_{2}}$$"
       ],
       "metadata": {},
       "output_type": "display_data",
       "text": [
        "<IPython.core.display.Math at 0x7f5288d81b38>"
       ]
      },
      {
       "latex": [
        "$$U_m = 1 - \\frac{T_{2}^{2} s_{1}^{2}}{4 T_{1}^{2} s_{2}}$$"
       ],
       "metadata": {},
       "output_type": "display_data",
       "text": [
        "<IPython.core.display.Math at 0x7f5288d512e8>"
       ]
      },
      {
       "latex": [
        "$$T_{12} = \\left [ \\left ( \\frac{s_{1} t_{d}}{4 U_{m} - 4}, \\quad - \\frac{1}{2} \\sqrt{- \\frac{s_{2} t_{d}^{2}}{U_{m} - 1}}\\right ), \\quad \\left ( \\frac{s_{1} t_{d}}{4 U_{m} - 4}, \\quad \\frac{1}{2} \\sqrt{- \\frac{s_{2} t_{d}^{2}}{U_{m} - 1}}\\right )\\right ]$$"
       ],
       "metadata": {},
       "output_type": "display_data",
       "text": [
        "<IPython.core.display.Math at 0x7f5288d26978>"
       ]
      },
      {
       "latex": [
        "$$T_{1} = \\frac{s_{1} t_{d}}{4 U_{m} - 4}$$"
       ],
       "metadata": {},
       "output_type": "display_data",
       "text": [
        "<IPython.core.display.Math at 0x7f5288d26978>"
       ]
      },
      {
       "latex": [
        "$$T_{2} = \\frac{1}{2} \\sqrt{- \\frac{s_{2} t_{d}^{2}}{U_{m} - 1}}$$"
       ],
       "metadata": {},
       "output_type": "display_data",
       "text": [
        "<IPython.core.display.Math at 0x7f5288d26eb8>"
       ]
      },
      {
       "latex": [
        "$$y = \\frac{T_{2}}{2 T_{1}}$$"
       ],
       "metadata": {},
       "output_type": "display_data",
       "text": [
        "<IPython.core.display.Math at 0x7f5288d26978>"
       ]
      },
      {
       "latex": [
        "$$U_m = - \\frac{s_{1}^{2} y^{2}}{s_{2}} + 1$$"
       ],
       "metadata": {},
       "output_type": "display_data",
       "text": [
        "<IPython.core.display.Math at 0x7f5288d26978>"
       ]
      },
      {
       "latex": [
        "$$T_{12} = \\left [ \\left ( - \\frac{s_{2} t_{d}}{4 s_{1} y^{2}}, \\quad - \\frac{s_{2} t_{d}}{2 s_{1} y}\\right )\\right ]$$"
       ],
       "metadata": {},
       "output_type": "display_data",
       "text": [
        "<IPython.core.display.Math at 0x7f5288d26978>"
       ]
      },
      {
       "latex": [
        "$$T_{1} = - \\frac{s_{2} t_{d}}{4 s_{1} y^{2}}$$"
       ],
       "metadata": {},
       "output_type": "display_data",
       "text": [
        "<IPython.core.display.Math at 0x7f5288d26978>"
       ]
      },
      {
       "latex": [
        "$$T_{2} = - \\frac{s_{2} t_{d}}{2 s_{1} y}$$"
       ],
       "metadata": {},
       "output_type": "display_data",
       "text": [
        "<IPython.core.display.Math at 0x7f5288c1fb70>"
       ]
      }
     ],
     "prompt_number": 5
    },
    {
     "cell_type": "code",
     "collapsed": false,
     "input": [
      "from sympy.utilities.lambdify import lambdastr\n",
      "\n",
      "y_str = lambdastr((), y_sub).replace('\\\\', '').replace('{', '').replace('}', '')\n",
      "print('y_str = \\n', y_str)\n",
      "print('-'*50)\n",
      "\n",
      "\n",
      "T1_str = lambdastr((), T1_sub).replace('\\\\', '').replace('{', '').replace('}', '')\n",
      "print('T1_str = \\n', T1_str)\n",
      "print('-'*50)\n",
      "\n",
      "\n",
      "T2_str = lambdastr((), T2_sub).replace('\\\\', '').replace('{', '').replace('}', '')\n",
      "print('T2_str = \\n', T2_str)\n",
      "print('-'*50)\n",
      "\n",
      "\n",
      "U_m_str = lambdastr((), U_m).replace('\\\\', '').replace('{', '').replace('}', '')\n",
      "print('U_m_str = \\n', U_m_str)\n",
      "print('-'*50)\n",
      "\n",
      "t_d_str = lambdastr((), t_1).replace('\\\\', '').replace('{', '').replace('}', '')\n",
      "print('t_d_str = \\n', t_d_str)\n",
      "print('-'*50)\n"
     ],
     "language": "python",
     "metadata": {},
     "outputs": [
      {
       "output_type": "stream",
       "stream": "stdout",
       "text": [
        "y_str = \n",
        " lambda : (T_2/(2*T_1))\n",
        "--------------------------------------------------\n",
        "T1_str = \n",
        " lambda : (-s_2*t_d/(4*s_1*y**2))\n",
        "--------------------------------------------------\n",
        "T2_str = \n",
        " lambda : (-s_2*t_d/(2*s_1*y))\n",
        "--------------------------------------------------\n",
        "U_m_str = \n",
        " lambda : (-s_1**2*y**2/s_2 + 1)\n",
        "--------------------------------------------------\n",
        "t_d_str = \n",
        " lambda : (-T_2**2*s_1/(T_1*s_2))\n",
        "--------------------------------------------------\n"
       ]
      }
     ],
     "prompt_number": 6
    },
    {
     "cell_type": "heading",
     "level": 3,
     "metadata": {},
     "source": [
      "Replacing back"
     ]
    },
    {
     "cell_type": "code",
     "collapsed": false,
     "input": [
      "from sympy import *\n",
      "from IPython.display import display, Math, Latex\n",
      "\n",
      "display(Math('EQ = ' + latex(EQ)))\n",
      "Omega = symbols('\\\\Omega')\n",
      "\n",
      "f_sub = exp(+I*Omega*eta)*sqrt(U)\n",
      "\n",
      "display(Math(latex(f_sub)))\n",
      "\n",
      "EQ_sub = EQ.subs(D, f_sub).subs(eta, eta__t)\n",
      "display(Math(latex(EQ_sub)))\n",
      "\n",
      "\n",
      "EQ_sub = EQ_sub.doit().subs(Integral(0, (t, 0, t)), 0).simplify()\n",
      "display(Math(latex(EQ_sub)))\n",
      "\n",
      "\n",
      "EQ_sub = EQ_sub.subs(U, U_sub).subs(Omega**2, Omega_sq).doit().simplify()\n",
      "display(Math(latex(EQ_sub)))\n",
      "\n",
      "\n",
      "EQ_sub = EQ_sub.subs(p**2, p_sq_sub).simplify()\n",
      "display(Math(latex(EQ_sub)))\n",
      "\n"
     ],
     "language": "python",
     "metadata": {},
     "outputs": [
      {
       "latex": [
        "$$EQ = \\frac{c^{2} k^{2} D{\\left (t \\right )}}{n_{0}^{2} U^{2}{\\left (t \\right )}} + \\frac{d^{2}}{d t^{2}}  D{\\left (t \\right )}$$"
       ],
       "metadata": {},
       "output_type": "display_data",
       "text": [
        "<IPython.core.display.Math at 0x7f5288d89160>"
       ]
      },
      {
       "latex": [
        "$$\\sqrt{U{\\left (t \\right )}} e^{i \\Omega \\eta}$$"
       ],
       "metadata": {},
       "output_type": "display_data",
       "text": [
        "<IPython.core.display.Math at 0x7f5288d89128>"
       ]
      },
      {
       "latex": [
        "$$\\frac{c^{2} k^{2} e^{i \\Omega \\int_{0}^{t} \\frac{1}{U{\\left (t \\right )}}\\, dt}}{n_{0}^{2} U^{\\frac{3}{2}}{\\left (t \\right )}} + \\frac{\\partial^{2}}{\\partial t^{2}} \\left(\\sqrt{U{\\left (t \\right )}} e^{i \\Omega \\int_{0}^{t} \\frac{1}{U{\\left (t \\right )}}\\, dt}\\right)$$"
       ],
       "metadata": {},
       "output_type": "display_data",
       "text": [
        "<IPython.core.display.Math at 0x7f5288d82208>"
       ]
      },
      {
       "latex": [
        "$$\\frac{1}{n_{0}^{2} U^{\\frac{3}{2}}{\\left (t \\right )}} \\left(c^{2} k^{2} + \\frac{n_{0}^{2}}{4} \\left(- 4 \\Omega^{2} + 2 U{\\left (t \\right )} \\frac{d^{2}}{d t^{2}}  U{\\left (t \\right )} - \\left(\\frac{d}{d t} U{\\left (t \\right )}\\right)^{2}\\right)\\right) e^{i \\Omega \\int_{0}^{t} \\frac{1}{U{\\left (t \\right )}}\\, dt}$$"
       ],
       "metadata": {},
       "output_type": "display_data",
       "text": [
        "<IPython.core.display.Math at 0x7f5288d82208>"
       ]
      },
      {
       "latex": [
        "$$\\frac{1}{T_{1}^{2} T_{2}^{4} \\left(\\frac{1}{T_{1} T_{2}^{2}} \\left(T_{1} T_{2}^{2} + T_{1} s_{2} t^{2} + T_{2}^{2} s_{1} t\\right)\\right)^{\\frac{3}{2}}} \\left(T_{1}^{2} T_{2}^{4} p^{2} + T_{1} s_{2} \\left(T_{1} T_{2}^{2} + T_{1} s_{2} t^{2} + T_{2}^{2} s_{1} t\\right) - \\frac{1}{4} \\left(2 T_{1} s_{2} t + T_{2}^{2} s_{1}\\right)^{2}\\right) e^{i T_{1} T_{2}^{2} \\Omega \\sqrt{- \\frac{1}{T_{2}^{2} \\left(4 T_{1}^{2} s_{2} - T_{2}^{2} s_{1}^{2}\\right)}} \\left(- \\log{\\left (\\frac{1}{T_{1} s_{2}} \\left(- 4 T_{1}^{2} T_{2}^{2} s_{2} \\sqrt{- \\frac{1}{T_{2}^{2} \\left(4 T_{1}^{2} s_{2} - T_{2}^{2} s_{1}^{2}\\right)}} + 2 T_{1} s_{2} t + T_{2}^{4} s_{1}^{2} \\sqrt{- \\frac{1}{T_{2}^{2} \\left(4 T_{1}^{2} s_{2} - T_{2}^{2} s_{1}^{2}\\right)}} + T_{2}^{2} s_{1}\\right) \\right )} + \\log{\\left (\\frac{1}{T_{1} s_{2}} \\left(4 T_{1}^{2} T_{2}^{2} s_{2} \\sqrt{- \\frac{1}{T_{2}^{2} \\left(4 T_{1}^{2} s_{2} - T_{2}^{2} s_{1}^{2}\\right)}} + 2 T_{1} s_{2} t - T_{2}^{4} s_{1}^{2} \\sqrt{- \\frac{1}{T_{2}^{2} \\left(4 T_{1}^{2} s_{2} - T_{2}^{2} s_{1}^{2}\\right)}} + T_{2}^{2} s_{1}\\right) \\right )} + \\log{\\left (\\frac{T_{2}^{2}}{T_{1} s_{2}} \\left(- 4 T_{1}^{2} s_{2} \\sqrt{- \\frac{1}{T_{2}^{2} \\left(4 T_{1}^{2} s_{2} - T_{2}^{2} s_{1}^{2}\\right)}} + T_{2}^{2} s_{1}^{2} \\sqrt{- \\frac{1}{T_{2}^{2} \\left(4 T_{1}^{2} s_{2} - T_{2}^{2} s_{1}^{2}\\right)}} + s_{1}\\right) \\right )} - \\log{\\left (\\frac{T_{2}^{2}}{T_{1} s_{2}} \\left(4 T_{1}^{2} s_{2} \\sqrt{- \\frac{1}{T_{2}^{2} \\left(4 T_{1}^{2} s_{2} - T_{2}^{2} s_{1}^{2}\\right)}} - T_{2}^{2} s_{1}^{2} \\sqrt{- \\frac{1}{T_{2}^{2} \\left(4 T_{1}^{2} s_{2} - T_{2}^{2} s_{1}^{2}\\right)}} + s_{1}\\right) \\right )}\\right)}$$"
       ],
       "metadata": {},
       "output_type": "display_data",
       "text": [
        "<IPython.core.display.Math at 0x7f5288d82208>"
       ]
      },
      {
       "latex": [
        "$$0$$"
       ],
       "metadata": {},
       "output_type": "display_data",
       "text": [
        "<IPython.core.display.Math at 0x7f5288d82208>"
       ]
      }
     ],
     "prompt_number": 7
    },
    {
     "cell_type": "heading",
     "level": 3,
     "metadata": {},
     "source": [
      "Transmission coefficients"
     ]
    },
    {
     "cell_type": "code",
     "collapsed": false,
     "input": [
      "from sympy import *\n",
      "from IPython.display import display, Math, Latex\n",
      "\n",
      "t = Symbol('t')\n",
      "U = Function('U')(t)\n",
      "\n",
      "omega_1 = symbols('\\\\omega_1')\n",
      "k = symbols('k')\n",
      "\n",
      "A_p, A_m = symbols('A^{+} A^{-}')\n",
      "\n",
      "Omega = symbols('\\\\Omega')\n",
      "\n",
      "\n",
      "D1 = exp(+I*omega_1*t)\n",
      "dD1 = diff(D1, t)\n",
      "display(Math('D_1 = ' + latex(D1)))\n",
      "display(Math('dD_1 = ' + latex(dD1)))\n",
      "\n",
      "D2 = (A_p*exp(I*Omega*eta) + A_m*exp(-I*Omega*eta))*sqrt(U) \n",
      "dD2 = Derivative(D2, t)\n",
      "display(Math('D_2 = ' + latex(D2)))\n",
      "display(Math('dD_2 = ' + latex(dD2)))\n",
      "\n",
      "D2 = D2.subs(eta, eta__t).doit()\n",
      "dD2 = dD2.subs(eta, eta__t).doit()\n",
      "display(Math('D_2 = ' + latex(D2)))\n",
      "display(Math('dD_2 = ' + latex(dD2)))\n",
      "\n",
      "EQ_1 = (D2 - D1).subs(t,0).doit().simplify()\n",
      "EQ_2 = (dD2 - dD1).subs(t,0).doit().simplify()\n",
      "\n",
      "display(Math(latex(EQ_1)))\n",
      "display(Math(latex(EQ_2)))\n",
      "\n",
      "A_pm = solve([EQ_1, EQ_2], [A_p, A_m])\n",
      "display(Math('A^{+-} = ' + latex(A_pm)))\n",
      "\n",
      "A_p_sub = A_pm[A_p]\n",
      "A_m_sub = A_pm[A_m]\n",
      "display(Math('A^{+} = ' + latex(A_p_sub)))\n",
      "display(Math('A^{-} = ' + latex(A_m_sub)))\n",
      "\n",
      "A_p_sub = A_p_sub.subs(U, U_sub).doit().simplify()\n",
      "A_m_sub = A_m_sub.subs(U, U_sub).doit().simplify()\n",
      "\n",
      "display(Math('A^{+} = ' + latex(A_p_sub)))\n",
      "display(Math('A^{-} = ' + latex(A_m_sub)))\n",
      "\n",
      "print('A_p: ', latex(A_p_sub))\n",
      "print('A_m: ', latex(A_m_sub))\n"
     ],
     "language": "python",
     "metadata": {},
     "outputs": [
      {
       "latex": [
        "$$D_1 = e^{i \\omega_{1} t}$$"
       ],
       "metadata": {},
       "output_type": "display_data",
       "text": [
        "<IPython.core.display.Math at 0x7f5288d23a90>"
       ]
      },
      {
       "latex": [
        "$$dD_1 = i \\omega_{1} e^{i \\omega_{1} t}$$"
       ],
       "metadata": {},
       "output_type": "display_data",
       "text": [
        "<IPython.core.display.Math at 0x7f5288d23a20>"
       ]
      },
      {
       "latex": [
        "$$D_2 = \\left(A^{{+}} e^{i \\Omega \\eta} + A^{{-}} e^{- i \\Omega \\eta}\\right) \\sqrt{U{\\left (t \\right )}}$$"
       ],
       "metadata": {},
       "output_type": "display_data",
       "text": [
        "<IPython.core.display.Math at 0x7f5288d6e898>"
       ]
      },
      {
       "latex": [
        "$$dD_2 = \\frac{\\partial}{\\partial t}\\left(\\left(A^{{+}} e^{i \\Omega \\eta} + A^{{-}} e^{- i \\Omega \\eta}\\right) \\sqrt{U{\\left (t \\right )}}\\right)$$"
       ],
       "metadata": {},
       "output_type": "display_data",
       "text": [
        "<IPython.core.display.Math at 0x7f5288d23a20>"
       ]
      },
      {
       "latex": [
        "$$D_2 = \\left(A^{{+}} e^{i \\Omega \\int_{0}^{t} \\frac{1}{U{\\left (t \\right )}}\\, dt} + A^{{-}} e^{- i \\Omega \\int_{0}^{t} \\frac{1}{U{\\left (t \\right )}}\\, dt}\\right) \\sqrt{U{\\left (t \\right )}}$$"
       ],
       "metadata": {},
       "output_type": "display_data",
       "text": [
        "<IPython.core.display.Math at 0x7f5288a9de48>"
       ]
      },
      {
       "latex": [
        "$$dD_2 = \\frac{\\frac{d}{d t} U{\\left (t \\right )}}{2 \\sqrt{U{\\left (t \\right )}}} \\left(A^{{+}} e^{i \\Omega \\int_{0}^{t} \\frac{1}{U{\\left (t \\right )}}\\, dt} + A^{{-}} e^{- i \\Omega \\int_{0}^{t} \\frac{1}{U{\\left (t \\right )}}\\, dt}\\right) + \\left(i A^{{+}} \\Omega \\left(\\int_{0}^{t} 0\\, dt + \\frac{1}{U{\\left (t \\right )}}\\right) e^{i \\Omega \\int_{0}^{t} \\frac{1}{U{\\left (t \\right )}}\\, dt} - i A^{{-}} \\Omega \\left(\\int_{0}^{t} 0\\, dt + \\frac{1}{U{\\left (t \\right )}}\\right) e^{- i \\Omega \\int_{0}^{t} \\frac{1}{U{\\left (t \\right )}}\\, dt}\\right) \\sqrt{U{\\left (t \\right )}}$$"
       ],
       "metadata": {},
       "output_type": "display_data",
       "text": [
        "<IPython.core.display.Math at 0x7f5288d7a7b8>"
       ]
      },
      {
       "latex": [
        "$$\\left(A^{{+}} + A^{{-}}\\right) \\sqrt{U{\\left (0 \\right )}} - 1$$"
       ],
       "metadata": {},
       "output_type": "display_data",
       "text": [
        "<IPython.core.display.Math at 0x7f5288adce48>"
       ]
      },
      {
       "latex": [
        "$$\\frac{1}{\\sqrt{U{\\left (0 \\right )}}} \\left(i A^{{+}} \\Omega - i A^{{-}} \\Omega - i \\omega_{1} \\sqrt{U{\\left (0 \\right )}} + \\frac{1}{2} \\left(A^{{+}} + A^{{-}}\\right) \\left. \\frac{d}{d t} U{\\left (t \\right )} \\right|_{\\substack{ t=0 }}\\right)$$"
       ],
       "metadata": {},
       "output_type": "display_data",
       "text": [
        "<IPython.core.display.Math at 0x7f5288b23fd0>"
       ]
      },
      {
       "latex": [
        "$$A^{+-} = \\left \\{ A^{{+}} : \\frac{1}{4 \\Omega \\sqrt{U{\\left (0 \\right )}}} \\left(2 \\Omega + 2 \\omega_{1} U{\\left (0 \\right )} + i \\left. \\frac{d}{d t} U{\\left (t \\right )} \\right|_{\\substack{ t=0 }}\\right), \\quad A^{{-}} : \\frac{1}{\\Omega \\sqrt{U{\\left (0 \\right )}}} \\left(\\frac{\\Omega}{2} - \\frac{\\omega_{1}}{2} U{\\left (0 \\right )} - \\frac{i}{4} \\left. \\frac{d}{d t} U{\\left (t \\right )} \\right|_{\\substack{ t=0 }}\\right)\\right \\}$$"
       ],
       "metadata": {},
       "output_type": "display_data",
       "text": [
        "<IPython.core.display.Math at 0x7f5288b23fd0>"
       ]
      },
      {
       "latex": [
        "$$A^{+} = \\frac{1}{4 \\Omega \\sqrt{U{\\left (0 \\right )}}} \\left(2 \\Omega + 2 \\omega_{1} U{\\left (0 \\right )} + i \\left. \\frac{d}{d t} U{\\left (t \\right )} \\right|_{\\substack{ t=0 }}\\right)$$"
       ],
       "metadata": {},
       "output_type": "display_data",
       "text": [
        "<IPython.core.display.Math at 0x7f5288c78208>"
       ]
      },
      {
       "latex": [
        "$$A^{-} = \\frac{1}{\\Omega \\sqrt{U{\\left (0 \\right )}}} \\left(\\frac{\\Omega}{2} - \\frac{\\omega_{1}}{2} U{\\left (0 \\right )} - \\frac{i}{4} \\left. \\frac{d}{d t} U{\\left (t \\right )} \\right|_{\\substack{ t=0 }}\\right)$$"
       ],
       "metadata": {},
       "output_type": "display_data",
       "text": [
        "<IPython.core.display.Math at 0x7f5288b23fd0>"
       ]
      },
      {
       "latex": [
        "$$A^{+} = \\frac{2 T_{1} \\left(\\Omega + \\omega_{1} U{\\left (0 \\right )}\\right) + i s_{1}}{4 T_{1} \\Omega \\sqrt{U{\\left (0 \\right )}}}$$"
       ],
       "metadata": {},
       "output_type": "display_data",
       "text": [
        "<IPython.core.display.Math at 0x7f5288d9acf8>"
       ]
      },
      {
       "latex": [
        "$$A^{-} = \\frac{2 T_{1} \\left(\\Omega - \\omega_{1} U{\\left (0 \\right )}\\right) - i s_{1}}{4 T_{1} \\Omega \\sqrt{U{\\left (0 \\right )}}}$$"
       ],
       "metadata": {},
       "output_type": "display_data",
       "text": [
        "<IPython.core.display.Math at 0x7f5288d23c88>"
       ]
      },
      {
       "output_type": "stream",
       "stream": "stdout",
       "text": [
        "A_p:  \\frac{2 T_{1} \\left(\\Omega + \\omega_{1} U{\\left (0 \\right )}\\right) + i s_{1}}{4 T_{1} \\Omega \\sqrt{U{\\left (0 \\right )}}}\n",
        "A_m:  \\frac{2 T_{1} \\left(\\Omega - \\omega_{1} U{\\left (0 \\right )}\\right) - i s_{1}}{4 T_{1} \\Omega \\sqrt{U{\\left (0 \\right )}}}\n"
       ]
      }
     ],
     "prompt_number": 10
    },
    {
     "cell_type": "code",
     "collapsed": false,
     "input": [
      "from sympy.utilities.lambdify import lambdastr\n",
      "\n",
      "from Electromagnetics import Misc\n",
      "\n",
      "eta_str = lambdastr((), eta__t).replace('\\\\', '').replace('{', '').replace('}', '')\n",
      "print('eta_str = \\n', eta_str)\n",
      "\n",
      "eta_str = Misc.replace_whole_word(eta_str, 'I', '1j')\n",
      "print('eta_str = \\n', eta_str)\n",
      "\n",
      "print('-'*50)\n",
      "U_str = lambdastr((), U_sub).replace('\\\\', '').replace('{', '').replace('}', '')\n",
      "print('U_str = \\n', U_str)\n",
      "\n",
      "U_str = Misc.replace_whole_word(U_str, 'I', '1j')\n",
      "print('U_str = \\n', U_str)\n",
      "print('-'*50)\n",
      "\n",
      "dU_str = lambdastr((), dU_sub).replace('\\\\', '').replace('{', '').replace('}', '')\n",
      "print('dU_str = \\n', dU_str)\n",
      "\n",
      "dU_str = Misc.replace_whole_word(dU_str, 'I', '1j')\n",
      "print('dU_str = \\n', dU_str)\n",
      "print('-'*50)\n",
      "\n",
      "p_sq_str = lambdastr((), p_sq_sub).replace('\\\\', '').replace('{', '').replace('}', '')\n",
      "print('p_sq_str = \\n', p_sq_str)\n",
      "\n",
      "p_sq_str = Misc.replace_whole_word(p_sq_str, 'I', '1j')\n",
      "print('p_sq_str = \\n', p_sq_str)\n",
      "\n",
      "\n",
      "print('-'*50)\n",
      "Omega_sq_str = lambdastr((), Omega_sq).replace('\\\\', '').replace('{', '').replace('}', '')\n",
      "print('Omega_sq_str = \\n', Omega_sq_str)\n",
      "\n",
      "Omega_sq_str = Misc.replace_whole_word(Omega_sq_str, 'I', '1j')\n",
      "print('Omega_sq_str = \\n', Omega_sq_str)\n",
      "\n",
      "print('-'*50)\n",
      "A_p_str = lambdastr((), A_p_sub).replace('\\\\', '').replace('{', '').replace('}', '')\n",
      "print('A_p_str = \\n', A_p_str)\n",
      "\n",
      "A_p_str = Misc.replace_whole_word(A_p_str, 'I', '1j')\n",
      "A_p_str = Misc.replace_whole_word(A_p_str, 'U(0)', 'U_0')\n",
      "A_p_str = Misc.replace_whole_word(A_p_str, 'sqrt', 'np.sqrt')\n",
      "print('A_p_str = \\n', A_p_str)\n",
      "\n",
      "print('-'*50)\n",
      "A_m_str = lambdastr((), A_m_sub).replace('\\\\', '').replace('{', '').replace('}', '')\n",
      "print('A_m_str = \\n', A_m_str)\n",
      "\n",
      "A_m_str = Misc.replace_whole_word(A_m_str, 'I', '1j')\n",
      "A_m_str = Misc.replace_whole_word(A_m_str, 'U(0)', 'U_0')\n",
      "A_m_str = Misc.replace_whole_word(A_m_str, 'sqrt', 'np.sqrt')\n",
      "print('A_m_str = \\n', A_m_str)\n"
     ],
     "language": "python",
     "metadata": {},
     "outputs": [
      {
       "output_type": "stream",
       "stream": "stdout",
       "text": [
        "eta_str = \n",
        " lambda : (Integral(1/U(t), (t, 0, t)))\n",
        "eta_str = \n",
        " lambda : (Integral(1/U(t), (t, 0, t)))\n",
        "--------------------------------------------------\n",
        "U_str = \n",
        " lambda : (1 + s_2*t**2/T_2**2 + s_1*t/T_1)\n",
        "U_str = \n",
        " lambda : (1 + s_2*t**2/T_2**2 + s_1*t/T_1)\n",
        "--------------------------------------------------\n",
        "dU_str = \n",
        " lambda : (2*s_2*t/T_2**2 + s_1/T_1)\n",
        "dU_str = \n",
        " lambda : (2*s_2*t/T_2**2 + s_1/T_1)\n",
        "--------------------------------------------------\n",
        "p_sq_str = \n",
        " lambda : (-s_2/T_2**2 + s_1**2/(4*T_1**2))\n",
        "p_sq_str = \n",
        " lambda : (-s_2/T_2**2 + s_1**2/(4*T_1**2))\n",
        "--------------------------------------------------\n",
        "Omega_sq_str = \n",
        " lambda : (c**2*k**2/n_0**2 - p**2)\n",
        "Omega_sq_str = \n",
        " lambda : (c**2*k**2/n_0**2 - p**2)\n",
        "--------------------------------------------------\n",
        "A_p_str = \n",
        " lambda : ((2*T_1*(Omega + omega_1*U(0)) + I*s_1)/(4*T_1*Omega*sqrt(U(0))))\n",
        "A_p_str = \n",
        " lambda : ((2*T_1*(Omega + omega_1*U_0) + 1j*s_1)/(4*T_1*Omega*np.sqrt(U_0)))\n",
        "--------------------------------------------------\n",
        "A_m_str = \n",
        " lambda : ((2*T_1*(Omega - omega_1*U(0)) - I*s_1)/(4*T_1*Omega*sqrt(U(0))))\n",
        "A_m_str = \n",
        " lambda : ((2*T_1*(Omega - omega_1*U_0) - 1j*s_1)/(4*T_1*Omega*np.sqrt(U_0)))\n"
       ]
      }
     ],
     "prompt_number": 14
    },
    {
     "cell_type": "code",
     "collapsed": false,
     "input": [
      "from sympy import *\n",
      "from IPython.display import display, Math, Latex\n",
      "\n",
      "t = Symbol('t')\n",
      "U = Function('U')(t)\n",
      "\n",
      "omega_1, omega_3 = symbols('\\\\omega_1 \\\\omega_3')\n",
      "k = symbols('k')\n",
      "\n",
      "A_p, A_m = symbols('A^{+} A^{-}')\n",
      "A_p3, A_m3 = symbols('A^{+}_{3} A^{-}_{3}')\n",
      "\n",
      "Omega = symbols('\\\\Omega')\n",
      "T = symbols('T')\n",
      "\n",
      "D3 = A_p3*exp(+I*omega_3*(t-T)) + A_m3*exp(-I*omega_3*(t-T))\n",
      "dD3 = diff(D3, t)\n",
      "display(Math('D_3 = ' + latex(D3)))\n",
      "display(Math('dD_3 = ' + latex(dD3)))\n",
      "\n",
      "D2 = (A_p*exp(I*Omega*eta) + A_m*exp(-I*Omega*eta))*sqrt(U) \n",
      "dD2 = Derivative(D2, t)\n",
      "display(Math('D_2 = ' + latex(D2)))\n",
      "display(Math('dD_2 = ' + latex(dD2)))\n",
      "\n",
      "D2 = D2.subs(eta, eta__t).doit()\n",
      "dD2 = dD2.subs(eta, eta__t).doit()\n",
      "display(Math('D_2 = ' + latex(D2)))\n",
      "display(Math('dD_2 = ' + latex(dD2)))\n",
      "\n",
      "EQ_1 = (D2 - D3).subs(t,T).doit().simplify()\n",
      "EQ_2 = (dD2 - dD3).subs(t,T).doit().simplify()\n",
      "\n",
      "display(Math(latex(EQ_1)))\n",
      "display(Math(latex(EQ_2)))\n",
      "\n",
      "A_pm3 = solve([EQ_1, EQ_2], [A_p3, A_m3])\n",
      "display(Math('A_{pm3} = ' + latex(A_pm3)))\n",
      "\n",
      "A_p3_sub = A_pm3[A_p3]\n",
      "A_m3_sub = A_pm3[A_m3]\n",
      "\n",
      "display(Math('A^{+}_{3} = ' + latex(A_p3_sub)))\n",
      "display(Math('A^{-}_{3} = ' + latex(A_m3_sub)))\n",
      "\n",
      "print('A_p3: ', latex(A_p3_sub))\n",
      "print('A_m3: ', latex(A_m3_sub))\n",
      "\n",
      "A_p3_p = A_p3_sub.subs([(A_p, 1), (A_m, 0)]).simplify()\n",
      "A_p3_m = A_p3_sub.subs([(A_p, 0), (A_m, 1)]).simplify()\n",
      "A_m3_p = A_m3_sub.subs([(A_p, 1), (A_m, 0)]).simplify()\n",
      "A_m3_m = A_m3_sub.subs([(A_p, 0), (A_m, 1)]).simplify()\n",
      "\n",
      "display(Math('\\\\alpha^{++}_{3} = ' + latex(A_p3_p)))\n",
      "display(Math('\\\\alpha^{+-}_{3} = ' + latex(A_p3_m)))\n",
      "display(Math('\\\\alpha^{-+}_{3} = ' + latex(A_m3_p)))\n",
      "display(Math('\\\\alpha^{--}_{3} = ' + latex(A_m3_m)))\n",
      "\n"
     ],
     "language": "python",
     "metadata": {},
     "outputs": [
      {
       "latex": [
        "$$D_3 = A^{{+}}_{{3}} e^{i \\omega_{3} \\left(- T + t\\right)} + A^{{-}}_{{3}} e^{- i \\omega_{3} \\left(- T + t\\right)}$$"
       ],
       "metadata": {},
       "output_type": "display_data",
       "text": [
        "<IPython.core.display.Math at 0x7f5288d804e0>"
       ]
      },
      {
       "latex": [
        "$$dD_3 = i A^{{+}}_{{3}} \\omega_{3} e^{i \\omega_{3} \\left(- T + t\\right)} - i A^{{-}}_{{3}} \\omega_{3} e^{- i \\omega_{3} \\left(- T + t\\right)}$$"
       ],
       "metadata": {},
       "output_type": "display_data",
       "text": [
        "<IPython.core.display.Math at 0x7f5288a9d9b0>"
       ]
      },
      {
       "latex": [
        "$$D_2 = \\left(A^{{+}} e^{i \\Omega \\eta} + A^{{-}} e^{- i \\Omega \\eta}\\right) \\sqrt{U{\\left (t \\right )}}$$"
       ],
       "metadata": {},
       "output_type": "display_data",
       "text": [
        "<IPython.core.display.Math at 0x7f5288d804e0>"
       ]
      },
      {
       "latex": [
        "$$dD_2 = \\frac{\\partial}{\\partial t}\\left(\\left(A^{{+}} e^{i \\Omega \\eta} + A^{{-}} e^{- i \\Omega \\eta}\\right) \\sqrt{U{\\left (t \\right )}}\\right)$$"
       ],
       "metadata": {},
       "output_type": "display_data",
       "text": [
        "<IPython.core.display.Math at 0x7f5288a9d9b0>"
       ]
      },
      {
       "latex": [
        "$$D_2 = \\left(A^{{+}} e^{i \\Omega \\int_{0}^{t} \\frac{1}{U{\\left (t \\right )}}\\, dt} + A^{{-}} e^{- i \\Omega \\int_{0}^{t} \\frac{1}{U{\\left (t \\right )}}\\, dt}\\right) \\sqrt{U{\\left (t \\right )}}$$"
       ],
       "metadata": {},
       "output_type": "display_data",
       "text": [
        "<IPython.core.display.Math at 0x7f5288d804e0>"
       ]
      },
      {
       "latex": [
        "$$dD_2 = \\frac{\\frac{d}{d t} U{\\left (t \\right )}}{2 \\sqrt{U{\\left (t \\right )}}} \\left(A^{{+}} e^{i \\Omega \\int_{0}^{t} \\frac{1}{U{\\left (t \\right )}}\\, dt} + A^{{-}} e^{- i \\Omega \\int_{0}^{t} \\frac{1}{U{\\left (t \\right )}}\\, dt}\\right) + \\left(i A^{{+}} \\Omega \\left(\\int_{0}^{t} 0\\, dt + \\frac{1}{U{\\left (t \\right )}}\\right) e^{i \\Omega \\int_{0}^{t} \\frac{1}{U{\\left (t \\right )}}\\, dt} - i A^{{-}} \\Omega \\left(\\int_{0}^{t} 0\\, dt + \\frac{1}{U{\\left (t \\right )}}\\right) e^{- i \\Omega \\int_{0}^{t} \\frac{1}{U{\\left (t \\right )}}\\, dt}\\right) \\sqrt{U{\\left (t \\right )}}$$"
       ],
       "metadata": {},
       "output_type": "display_data",
       "text": [
        "<IPython.core.display.Math at 0x7f5288d1b128>"
       ]
      },
      {
       "latex": [
        "$$A^{{+}} \\sqrt{U{\\left (T \\right )}} e^{i \\Omega \\int_{0}^{T} \\frac{1}{U{\\left (t \\right )}}\\, dt} - A^{{+}}_{{3}} + A^{{-}} \\sqrt{U{\\left (T \\right )}} e^{- i \\Omega \\int_{0}^{T} \\frac{1}{U{\\left (t \\right )}}\\, dt} - A^{{-}}_{{3}}$$"
       ],
       "metadata": {},
       "output_type": "display_data",
       "text": [
        "<IPython.core.display.Math at 0x7f5288a99748>"
       ]
      },
      {
       "latex": [
        "$$\\frac{1}{U^{2}{\\left (T \\right )}} \\left(i \\Omega \\left(A^{{+}} e^{2 i \\Omega \\int_{0}^{T} \\frac{1}{U{\\left (t \\right )}}\\, dt} - A^{{-}}\\right) U^{\\frac{3}{2}}{\\left (T \\right )} + i \\omega_{3} \\left(- A^{{+}}_{{3}} + A^{{-}}_{{3}}\\right) U^{2}{\\left (T \\right )} e^{i \\Omega \\int_{0}^{T} \\frac{1}{U{\\left (t \\right )}}\\, dt} + \\frac{1}{2} \\left(A^{{+}} e^{2 i \\Omega \\int_{0}^{T} \\frac{1}{U{\\left (t \\right )}}\\, dt} + A^{{-}}\\right) U^{\\frac{3}{2}}{\\left (T \\right )} \\frac{d}{d T} U{\\left (T \\right )}\\right) e^{- i \\Omega \\int_{0}^{T} \\frac{1}{U{\\left (t \\right )}}\\, dt}$$"
       ],
       "metadata": {},
       "output_type": "display_data",
       "text": [
        "<IPython.core.display.Math at 0x7f5288d80198>"
       ]
      },
      {
       "latex": [
        "$$A_{pm3} = \\left \\{ A^{{+}}_{{3}} : \\frac{1}{4 \\omega_{3} \\sqrt{U{\\left (T \\right )}}} \\left(2 A^{{+}} \\Omega e^{2 i \\Omega \\int_{0}^{T} \\frac{1}{U{\\left (t \\right )}}\\, dt} - i A^{{+}} \\left(e^{2 i \\Omega \\int_{0}^{T} \\frac{1}{U{\\left (t \\right )}}\\, dt}\\right) \\frac{d}{d T} U{\\left (T \\right )} - 2 A^{{-}} \\Omega - i A^{{-}} \\frac{d}{d T} U{\\left (T \\right )} + 2 \\omega_{3} \\left(A^{{+}} e^{2 i \\Omega \\int_{0}^{T} \\frac{1}{U{\\left (t \\right )}}\\, dt} + A^{{-}}\\right) U{\\left (T \\right )}\\right) e^{- i \\Omega \\int_{0}^{T} \\frac{1}{U{\\left (t \\right )}}\\, dt}, \\quad A^{{-}}_{{3}} : \\frac{1}{4 \\omega_{3} \\sqrt{U{\\left (T \\right )}}} \\left(- 2 A^{{+}} \\Omega e^{2 i \\Omega \\int_{0}^{T} \\frac{1}{U{\\left (t \\right )}}\\, dt} + i A^{{+}} \\left(e^{2 i \\Omega \\int_{0}^{T} \\frac{1}{U{\\left (t \\right )}}\\, dt}\\right) \\frac{d}{d T} U{\\left (T \\right )} + 2 A^{{-}} \\Omega + i A^{{-}} \\frac{d}{d T} U{\\left (T \\right )} + 2 \\omega_{3} \\left(A^{{+}} e^{2 i \\Omega \\int_{0}^{T} \\frac{1}{U{\\left (t \\right )}}\\, dt} + A^{{-}}\\right) U{\\left (T \\right )}\\right) e^{- i \\Omega \\int_{0}^{T} \\frac{1}{U{\\left (t \\right )}}\\, dt}\\right \\}$$"
       ],
       "metadata": {},
       "output_type": "display_data",
       "text": [
        "<IPython.core.display.Math at 0x7f5288acb518>"
       ]
      },
      {
       "latex": [
        "$$A^{+}_{3} = \\frac{1}{4 \\omega_{3} \\sqrt{U{\\left (T \\right )}}} \\left(2 A^{{+}} \\Omega e^{2 i \\Omega \\int_{0}^{T} \\frac{1}{U{\\left (t \\right )}}\\, dt} - i A^{{+}} \\left(e^{2 i \\Omega \\int_{0}^{T} \\frac{1}{U{\\left (t \\right )}}\\, dt}\\right) \\frac{d}{d T} U{\\left (T \\right )} - 2 A^{{-}} \\Omega - i A^{{-}} \\frac{d}{d T} U{\\left (T \\right )} + 2 \\omega_{3} \\left(A^{{+}} e^{2 i \\Omega \\int_{0}^{T} \\frac{1}{U{\\left (t \\right )}}\\, dt} + A^{{-}}\\right) U{\\left (T \\right )}\\right) e^{- i \\Omega \\int_{0}^{T} \\frac{1}{U{\\left (t \\right )}}\\, dt}$$"
       ],
       "metadata": {},
       "output_type": "display_data",
       "text": [
        "<IPython.core.display.Math at 0x7f5288d23a20>"
       ]
      },
      {
       "latex": [
        "$$A^{-}_{3} = \\frac{1}{4 \\omega_{3} \\sqrt{U{\\left (T \\right )}}} \\left(- 2 A^{{+}} \\Omega e^{2 i \\Omega \\int_{0}^{T} \\frac{1}{U{\\left (t \\right )}}\\, dt} + i A^{{+}} \\left(e^{2 i \\Omega \\int_{0}^{T} \\frac{1}{U{\\left (t \\right )}}\\, dt}\\right) \\frac{d}{d T} U{\\left (T \\right )} + 2 A^{{-}} \\Omega + i A^{{-}} \\frac{d}{d T} U{\\left (T \\right )} + 2 \\omega_{3} \\left(A^{{+}} e^{2 i \\Omega \\int_{0}^{T} \\frac{1}{U{\\left (t \\right )}}\\, dt} + A^{{-}}\\right) U{\\left (T \\right )}\\right) e^{- i \\Omega \\int_{0}^{T} \\frac{1}{U{\\left (t \\right )}}\\, dt}$$"
       ],
       "metadata": {},
       "output_type": "display_data",
       "text": [
        "<IPython.core.display.Math at 0x7f5288acb518>"
       ]
      },
      {
       "output_type": "stream",
       "stream": "stdout",
       "text": [
        "A_p3:  \\frac{1}{4 \\omega_{3} \\sqrt{U{\\left (T \\right )}}} \\left(2 A^{{+}} \\Omega e^{2 i \\Omega \\int_{0}^{T} \\frac{1}{U{\\left (t \\right )}}\\, dt} - i A^{{+}} \\left(e^{2 i \\Omega \\int_{0}^{T} \\frac{1}{U{\\left (t \\right )}}\\, dt}\\right) \\frac{d}{d T} U{\\left (T \\right )} - 2 A^{{-}} \\Omega - i A^{{-}} \\frac{d}{d T} U{\\left (T \\right )} + 2 \\omega_{3} \\left(A^{{+}} e^{2 i \\Omega \\int_{0}^{T} \\frac{1}{U{\\left (t \\right )}}\\, dt} + A^{{-}}\\right) U{\\left (T \\right )}\\right) e^{- i \\Omega \\int_{0}^{T} \\frac{1}{U{\\left (t \\right )}}\\, dt}\n",
        "A_m3:  \\frac{1}{4 \\omega_{3} \\sqrt{U{\\left (T \\right )}}} \\left(- 2 A^{{+}} \\Omega e^{2 i \\Omega \\int_{0}^{T} \\frac{1}{U{\\left (t \\right )}}\\, dt} + i A^{{+}} \\left(e^{2 i \\Omega \\int_{0}^{T} \\frac{1}{U{\\left (t \\right )}}\\, dt}\\right) \\frac{d}{d T} U{\\left (T \\right )} + 2 A^{{-}} \\Omega + i A^{{-}} \\frac{d}{d T} U{\\left (T \\right )} + 2 \\omega_{3} \\left(A^{{+}} e^{2 i \\Omega \\int_{0}^{T} \\frac{1}{U{\\left (t \\right )}}\\, dt} + A^{{-}}\\right) U{\\left (T \\right )}\\right) e^{- i \\Omega \\int_{0}^{T} \\frac{1}{U{\\left (t \\right )}}\\, dt}\n"
       ]
      },
      {
       "latex": [
        "$$\\alpha^{++}_{3} = \\frac{1}{4 \\omega_{3} \\sqrt{U{\\left (T \\right )}}} \\left(2 \\Omega + 2 \\omega_{3} U{\\left (T \\right )} - i \\frac{d}{d T} U{\\left (T \\right )}\\right) e^{i \\Omega \\int_{0}^{T} \\frac{1}{U{\\left (t \\right )}}\\, dt}$$"
       ],
       "metadata": {},
       "output_type": "display_data",
       "text": [
        "<IPython.core.display.Math at 0x7f5288a91978>"
       ]
      },
      {
       "latex": [
        "$$\\alpha^{+-}_{3} = \\frac{1}{4 \\omega_{3} \\sqrt{U{\\left (T \\right )}}} \\left(- 2 \\Omega + 2 \\omega_{3} U{\\left (T \\right )} - i \\frac{d}{d T} U{\\left (T \\right )}\\right) e^{- i \\Omega \\int_{0}^{T} \\frac{1}{U{\\left (t \\right )}}\\, dt}$$"
       ],
       "metadata": {},
       "output_type": "display_data",
       "text": [
        "<IPython.core.display.Math at 0x7f5288a911d0>"
       ]
      },
      {
       "latex": [
        "$$\\alpha^{-+}_{3} = \\frac{1}{4 \\omega_{3} \\sqrt{U{\\left (T \\right )}}} \\left(- 2 \\Omega + 2 \\omega_{3} U{\\left (T \\right )} + i \\frac{d}{d T} U{\\left (T \\right )}\\right) e^{i \\Omega \\int_{0}^{T} \\frac{1}{U{\\left (t \\right )}}\\, dt}$$"
       ],
       "metadata": {},
       "output_type": "display_data",
       "text": [
        "<IPython.core.display.Math at 0x7f5288a91978>"
       ]
      },
      {
       "latex": [
        "$$\\alpha^{--}_{3} = \\frac{1}{4 \\omega_{3} \\sqrt{U{\\left (T \\right )}}} \\left(2 \\Omega + 2 \\omega_{3} U{\\left (T \\right )} + i \\frac{d}{d T} U{\\left (T \\right )}\\right) e^{- i \\Omega \\int_{0}^{T} \\frac{1}{U{\\left (t \\right )}}\\, dt}$$"
       ],
       "metadata": {},
       "output_type": "display_data",
       "text": [
        "<IPython.core.display.Math at 0x7f5288a911d0>"
       ]
      }
     ],
     "prompt_number": 15
    },
    {
     "cell_type": "code",
     "collapsed": false,
     "input": [
      "print('-'*50)\n",
      "A_p3_p_str = lambdastr((), A_p3_p).replace('\\\\', '').replace('{', '').replace('}', '')\n",
      "print('A_p3_p_str = \\n', A_p3_p_str)\n",
      "\n",
      "A_p3_p_str = Misc.replace_whole_word(A_p3_p_str, 'I', '1j')\n",
      "A_p3_p_str = Misc.replace_whole_word(A_p3_p_str, 'U(T)', 'U_T')\n",
      "A_p3_p_str = Misc.replace_whole_word(A_p3_p_str, 'Derivative(U(T), T)', 'dU_T')\n",
      "A_p3_p_str = Misc.replace_whole_word(A_p3_p_str, 'Integral(1/U(t), (t, 0, T))', 'eta_T')\n",
      "A_p3_p_str = Misc.replace_whole_word(A_p3_p_str, 'exp', 'np.exp')\n",
      "A_p3_p_str = Misc.replace_whole_word(A_p3_p_str, 'sqrt', 'np.sqrt')\n",
      "print('A_p3_p_str = \\n', A_p3_p_str)\n",
      "\n",
      "print('-'*50)\n",
      "A_p3_m_str = lambdastr((), A_p3_m).replace('\\\\', '').replace('{', '').replace('}', '')\n",
      "print('A_p3_m_str = \\n', A_p3_m_str)\n",
      "\n",
      "A_p3_m_str = Misc.replace_whole_word(A_p3_m_str, 'I', '1j')\n",
      "A_p3_m_str = Misc.replace_whole_word(A_p3_m_str, 'U(T)', 'U_T')\n",
      "A_p3_m_str = Misc.replace_whole_word(A_p3_m_str, 'Derivative(U(T), T)', 'dU_T')\n",
      "A_p3_m_str = Misc.replace_whole_word(A_p3_m_str, 'Integral(1/U(t), (t, 0, T))', 'eta_T')\n",
      "A_p3_m_str = Misc.replace_whole_word(A_p3_m_str, 'exp', 'np.exp')\n",
      "A_p3_m_str = Misc.replace_whole_word(A_p3_m_str, 'sqrt', 'np.sqrt')\n",
      "print('A_p3_m_str = \\n', A_p3_m_str)\n",
      "\n",
      "print('-'*50)\n",
      "A_m3_p_str = lambdastr((), A_m3_p).replace('\\\\', '').replace('{', '').replace('}', '')\n",
      "print('A_m3_p_str = \\n', A_m3_p_str)\n",
      "\n",
      "A_m3_p_str = Misc.replace_whole_word(A_m3_p_str, 'I', '1j')\n",
      "A_m3_p_str = Misc.replace_whole_word(A_m3_p_str, 'U(T)', 'U_T')\n",
      "A_m3_p_str = Misc.replace_whole_word(A_m3_p_str, 'Derivative(U(T), T)', 'dU_T')\n",
      "A_m3_p_str = Misc.replace_whole_word(A_m3_p_str, 'Integral(1/U(t), (t, 0, T))', 'eta_T')\n",
      "A_m3_p_str = Misc.replace_whole_word(A_m3_p_str, 'exp', 'np.exp')\n",
      "A_m3_p_str = Misc.replace_whole_word(A_m3_p_str, 'sqrt', 'np.sqrt')\n",
      "print('A_m3_p_str = \\n', A_m3_p_str)\n",
      "\n",
      "print('-'*50)\n",
      "A_m3_m_str = lambdastr((), A_m3_m).replace('\\\\', '').replace('{', '').replace('}', '')\n",
      "print('A_m3_m_str = \\n', A_m3_m_str)\n",
      "\n",
      "A_m3_m_str = Misc.replace_whole_word(A_m3_m_str, 'I', '1j')\n",
      "A_m3_m_str = Misc.replace_whole_word(A_m3_m_str, 'U(T)', 'U_T')\n",
      "A_m3_m_str = Misc.replace_whole_word(A_m3_m_str, 'Derivative(U(T), T)', 'dU_T')\n",
      "A_m3_m_str = Misc.replace_whole_word(A_m3_m_str, 'Integral(1/U(t), (t, 0, T))', 'eta_T')\n",
      "A_m3_m_str = Misc.replace_whole_word(A_m3_m_str, 'exp', 'np.exp')\n",
      "A_m3_m_str = Misc.replace_whole_word(A_m3_m_str, 'sqrt', 'np.sqrt')\n",
      "print('A_m3_m_str = \\n', A_m3_m_str)"
     ],
     "language": "python",
     "metadata": {},
     "outputs": [
      {
       "output_type": "stream",
       "stream": "stdout",
       "text": [
        "--------------------------------------------------\n",
        "A_p3_p_str = \n",
        " lambda : ((2*Omega + 2*omega_3*U(T) - I*Derivative(U(T), T))*exp(I*Omega*Integral(1/U(t), (t, 0, T)))/(4*omega_3*sqrt(U(T))))\n",
        "A_p3_p_str = \n",
        " lambda : ((2*Omega + 2*omega_3*U_T - 1j*dU_T)*np.exp(1j*Omega*eta_T)/(4*omega_3*np.sqrt(U_T)))\n",
        "--------------------------------------------------\n",
        "A_p3_m_str = \n",
        " lambda : ((-2*Omega + 2*omega_3*U(T) - I*Derivative(U(T), T))*exp(-I*Omega*Integral(1/U(t), (t, 0, T)))/(4*omega_3*sqrt(U(T))))\n",
        "A_p3_m_str = \n",
        " lambda : ((-2*Omega + 2*omega_3*U_T - 1j*dU_T)*np.exp(-1j*Omega*eta_T)/(4*omega_3*np.sqrt(U_T)))\n",
        "--------------------------------------------------\n",
        "A_m3_p_str = \n",
        " lambda : ((-2*Omega + 2*omega_3*U(T) + I*Derivative(U(T), T))*exp(I*Omega*Integral(1/U(t), (t, 0, T)))/(4*omega_3*sqrt(U(T))))\n",
        "A_m3_p_str = \n",
        " lambda : ((-2*Omega + 2*omega_3*U_T + 1j*dU_T)*np.exp(1j*Omega*eta_T)/(4*omega_3*np.sqrt(U_T)))\n",
        "--------------------------------------------------\n",
        "A_m3_m_str = \n",
        " lambda : ((2*Omega + 2*omega_3*U(T) + I*Derivative(U(T), T))*exp(-I*Omega*Integral(1/U(t), (t, 0, T)))/(4*omega_3*sqrt(U(T))))\n",
        "A_m3_m_str = \n",
        " lambda : ((2*Omega + 2*omega_3*U_T + 1j*dU_T)*np.exp(-1j*Omega*eta_T)/(4*omega_3*np.sqrt(U_T)))\n"
       ]
      }
     ],
     "prompt_number": 16
    },
    {
     "cell_type": "heading",
     "level": 3,
     "metadata": {},
     "source": [
      "testing the boundary conditions"
     ]
    },
    {
     "cell_type": "code",
     "collapsed": false,
     "input": [
      "D1 = exp(+I*omega_1*t)\n",
      "dD1 = diff(D1, t)\n",
      "display(Math('D_1 = ' + latex(D1)))\n",
      "display(Math('dD_1 = ' + latex(dD1)))\n",
      "\n",
      "\n",
      "D2 = (A_p*exp(I*Omega*eta) + A_m*exp(-I*Omega*eta))*sqrt(U) \n",
      "dD2 = Derivative(D2, t)\n",
      "display(Math('D_2 = ' + latex(D2)))\n",
      "display(Math('dD_2 = ' + latex(dD2)))\n",
      "\n",
      "D2 = D2.subs(eta, eta__t).doit()\n",
      "dD2 = dD2.subs(eta, eta__t).doit()\n",
      "display(Math('D_2 = ' + latex(D2)))\n",
      "display(Math('dD_2 = ' + latex(dD2)))\n",
      "\n",
      "D3 = A_p3*exp(+I*omega_3*(t-T)) + A_m3*exp(-I*omega_3*(t-T))\n",
      "dD3 = diff(D3, t)\n",
      "display(Math('D_3 = ' + latex(D3)))\n",
      "display(Math('dD_3 = ' + latex(dD3)))\n",
      "\n",
      "print('-'*50)\n",
      "D2_ = D2.subs([(A_p, A_p_sub), (A_m, A_m_sub)])\n",
      "dD2_ = dD2.subs([(A_p, A_p_sub), (A_m, A_m_sub)])\n",
      "\n",
      "BC_12 = (D2_ - D1).subs(U, U_sub).subs(t, 0).doit().simplify()\n",
      "display(Math('BC_{12} = ' + latex(BC_12)))\n",
      "\n",
      "dBC_12 = (dD2_ - dD1).subs(U, U_sub).subs(t, 0).doit().simplify()\n",
      "display(Math('dBC_{12} = ' + latex(dBC_12)))\n",
      "\n",
      "D3_ = D3.subs([(A_p3, A_p3_sub), (A_m3, A_m3_sub)])\n",
      "dD3_ = dD3.subs([(A_p3, A_p3_sub), (A_m3, A_m3_sub)])\n",
      "\n",
      "BC_23 = (D3_ - D2).subs(t, T).doit().simplify()\n",
      "display(Math('BC_{23} = ' + latex(BC_23)))\n",
      "\n",
      "dBC_23 = (dD3_ - dD2).subs(t, T).doit().simplify()\n",
      "display(Math('dBC_{23} = ' + latex(dBC_23)))\n",
      "\n"
     ],
     "language": "python",
     "metadata": {},
     "outputs": [
      {
       "latex": [
        "$$D_1 = e^{i \\omega_{1} t}$$"
       ],
       "metadata": {},
       "output_type": "display_data",
       "text": [
        "<IPython.core.display.Math at 0x7f5288d7aa58>"
       ]
      },
      {
       "latex": [
        "$$dD_1 = i \\omega_{1} e^{i \\omega_{1} t}$$"
       ],
       "metadata": {},
       "output_type": "display_data",
       "text": [
        "<IPython.core.display.Math at 0x7f5288be0898>"
       ]
      },
      {
       "latex": [
        "$$D_2 = \\left(A^{{+}} e^{i \\Omega \\eta} + A^{{-}} e^{- i \\Omega \\eta}\\right) \\sqrt{U{\\left (t \\right )}}$$"
       ],
       "metadata": {},
       "output_type": "display_data",
       "text": [
        "<IPython.core.display.Math at 0x7f5288d7a7b8>"
       ]
      },
      {
       "latex": [
        "$$dD_2 = \\frac{\\partial}{\\partial t}\\left(\\left(A^{{+}} e^{i \\Omega \\eta} + A^{{-}} e^{- i \\Omega \\eta}\\right) \\sqrt{U{\\left (t \\right )}}\\right)$$"
       ],
       "metadata": {},
       "output_type": "display_data",
       "text": [
        "<IPython.core.display.Math at 0x7f5288be0898>"
       ]
      },
      {
       "latex": [
        "$$D_2 = \\left(A^{{+}} e^{i \\Omega \\int_{0}^{t} \\frac{1}{U{\\left (t \\right )}}\\, dt} + A^{{-}} e^{- i \\Omega \\int_{0}^{t} \\frac{1}{U{\\left (t \\right )}}\\, dt}\\right) \\sqrt{U{\\left (t \\right )}}$$"
       ],
       "metadata": {},
       "output_type": "display_data",
       "text": [
        "<IPython.core.display.Math at 0x7f5288a9d710>"
       ]
      },
      {
       "latex": [
        "$$dD_2 = \\frac{\\frac{d}{d t} U{\\left (t \\right )}}{2 \\sqrt{U{\\left (t \\right )}}} \\left(A^{{+}} e^{i \\Omega \\int_{0}^{t} \\frac{1}{U{\\left (t \\right )}}\\, dt} + A^{{-}} e^{- i \\Omega \\int_{0}^{t} \\frac{1}{U{\\left (t \\right )}}\\, dt}\\right) + \\left(i A^{{+}} \\Omega \\left(\\int_{0}^{t} 0\\, dt + \\frac{1}{U{\\left (t \\right )}}\\right) e^{i \\Omega \\int_{0}^{t} \\frac{1}{U{\\left (t \\right )}}\\, dt} - i A^{{-}} \\Omega \\left(\\int_{0}^{t} 0\\, dt + \\frac{1}{U{\\left (t \\right )}}\\right) e^{- i \\Omega \\int_{0}^{t} \\frac{1}{U{\\left (t \\right )}}\\, dt}\\right) \\sqrt{U{\\left (t \\right )}}$$"
       ],
       "metadata": {},
       "output_type": "display_data",
       "text": [
        "<IPython.core.display.Math at 0x7f5288aa92e8>"
       ]
      },
      {
       "latex": [
        "$$D_3 = A^{{+}}_{{3}} e^{i \\omega_{3} \\left(- T + t\\right)} + A^{{-}}_{{3}} e^{- i \\omega_{3} \\left(- T + t\\right)}$$"
       ],
       "metadata": {},
       "output_type": "display_data",
       "text": [
        "<IPython.core.display.Math at 0x7f5288d23208>"
       ]
      },
      {
       "latex": [
        "$$dD_3 = i A^{{+}}_{{3}} \\omega_{3} e^{i \\omega_{3} \\left(- T + t\\right)} - i A^{{-}}_{{3}} \\omega_{3} e^{- i \\omega_{3} \\left(- T + t\\right)}$$"
       ],
       "metadata": {},
       "output_type": "display_data",
       "text": [
        "<IPython.core.display.Math at 0x7f5288aa92e8>"
       ]
      },
      {
       "output_type": "stream",
       "stream": "stdout",
       "text": [
        "--------------------------------------------------\n"
       ]
      },
      {
       "latex": [
        "$$BC_{12} = -1 + \\frac{1}{\\sqrt{U{\\left (0 \\right )}}}$$"
       ],
       "metadata": {},
       "output_type": "display_data",
       "text": [
        "<IPython.core.display.Math at 0x7f5288a87fd0>"
       ]
      },
      {
       "latex": [
        "$$dBC_{12} = i \\omega_{1} \\left(\\sqrt{U{\\left (0 \\right )}} - 1\\right)$$"
       ],
       "metadata": {},
       "output_type": "display_data",
       "text": [
        "<IPython.core.display.Math at 0x7f5288a192b0>"
       ]
      },
      {
       "latex": [
        "$$BC_{23} = 0$$"
       ],
       "metadata": {},
       "output_type": "display_data",
       "text": [
        "<IPython.core.display.Math at 0x7f5288a4c160>"
       ]
      },
      {
       "latex": [
        "$$dBC_{23} = 0$$"
       ],
       "metadata": {},
       "output_type": "display_data",
       "text": [
        "<IPython.core.display.Math at 0x7f5288adc630>"
       ]
      }
     ],
     "prompt_number": 17
    },
    {
     "cell_type": "code",
     "collapsed": false,
     "input": [],
     "language": "python",
     "metadata": {},
     "outputs": []
    }
   ],
   "metadata": {}
  }
 ]
}