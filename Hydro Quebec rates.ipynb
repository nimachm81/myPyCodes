{
 "cells": [
  {
   "cell_type": "code",
   "execution_count": 1,
   "metadata": {
    "collapsed": false
   },
   "outputs": [
    {
     "data": {
      "text/plain": [
       "11.6866772"
      ]
     },
     "execution_count": 1,
     "metadata": {},
     "output_type": "execute_result"
    }
   ],
   "source": [
    "##Hydro Quebec rate D\n",
    "\n",
    "fixed_rate = 40.64*1.0e-2\n",
    "tire_1_rate = 5.82*1.0e-2\n",
    "tire_2_rate = 8.92*1.0e-2\n",
    "\n",
    "tire_1 = 33 ##KWh\n",
    "tax = 0.15\n",
    "\n",
    "def get_price(consumption):\n",
    "    price = None\n",
    "    if consumption<=tire_1:\n",
    "        price = fixed_rate + consumption*tire_1_rate\n",
    "    else:\n",
    "        price = fixed_rate + tire_1*tire_1_rate + (consumption-tire_1)*tire_2_rate\n",
    "    return price*(1+tax)\n",
    "\n",
    "\n",
    "get_price(120.84)\n",
    "        \n"
   ]
  },
  {
   "cell_type": "code",
   "execution_count": 2,
   "metadata": {
    "collapsed": false
   },
   "outputs": [
    {
     "data": {
      "text/plain": [
       "6.569999999999993"
      ]
     },
     "execution_count": 2,
     "metadata": {},
     "output_type": "execute_result"
    }
   ],
   "source": [
    "199.09-192.52"
   ]
  },
  {
   "cell_type": "code",
   "execution_count": null,
   "metadata": {
    "collapsed": true
   },
   "outputs": [],
   "source": []
  }
 ],
 "metadata": {
  "kernelspec": {
   "display_name": "Python 3",
   "language": "python",
   "name": "python3"
  },
  "language_info": {
   "codemirror_mode": {
    "name": "ipython",
    "version": 3
   },
   "file_extension": ".py",
   "mimetype": "text/x-python",
   "name": "python",
   "nbconvert_exporter": "python",
   "pygments_lexer": "ipython3",
   "version": "3.5.2"
  }
 },
 "nbformat": 4,
 "nbformat_minor": 1
}
