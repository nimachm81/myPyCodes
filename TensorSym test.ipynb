{
 "cells": [
  {
   "cell_type": "code",
   "execution_count": 1,
   "metadata": {
    "collapsed": false
   },
   "outputs": [
    {
     "data": {
      "text/latex": [
       "$$A\\vphantom1_{\\alpha}\\vphantom1^{\\beta}$$"
      ],
      "text/plain": [
       "<IPython.core.display.Math object>"
      ]
     },
     "metadata": {},
     "output_type": "display_data"
    },
    {
     "data": {
      "text/latex": [
       "$$A\\vphantom1_{\\alpha^\\prime}\\vphantom1^{\\beta}$$"
      ],
      "text/plain": [
       "<IPython.core.display.Math object>"
      ]
     },
     "metadata": {},
     "output_type": "display_data"
    },
    {
     "data": {
      "text/latex": [
       "$$(A.A)\\vphantom1_{\\alpha^\\prime}\\vphantom1^{\\beta}\\vphantom1_{\\alpha^\\prime}\\vphantom1^{\\beta}$$"
      ],
      "text/plain": [
       "<IPython.core.display.Math object>"
      ]
     },
     "metadata": {},
     "output_type": "display_data"
    },
    {
     "data": {
      "text/latex": [
       "$$x y + x z + y z + 1$$"
      ],
      "text/plain": [
       "<IPython.core.display.Math object>"
      ]
     },
     "metadata": {},
     "output_type": "display_data"
    }
   ],
   "source": [
    "from Electromagnetics.TensorSym import *\n",
    "from sympy import Symbol, symbols, latex, Function\n",
    "from IPython.display import display, Math, Latex\n",
    "\n",
    "t, x, y, z = symbols('t x y z')\n",
    "\n",
    "ind_alpha = TensorIndex(r'\\alpha', type=IndexType.covariant, range=(0, 4))\n",
    "ind_beta = TensorIndex(r'\\beta', type=IndexType.contravariant, range=(0, 4))\n",
    "ind_gamma = TensorIndex(r'\\gamma', type=IndexType.covariant, range=(0, 4))\n",
    "\n",
    "A = Tensor('A', indices=[ind_alpha, ind_beta])\n",
    "\n",
    "A[:,:] = [[x*y, x, y, z],\n",
    "          [z, y*z, x, y],\n",
    "          [y, z, z*x, x],\n",
    "          [x, y, z, 1]]\n",
    "\n",
    "display(Math(latex(A)))\n",
    "\n",
    "A.resetIndexLabel(0, r'\\alpha^\\prime')\n",
    "display(Math(latex(A)))\n",
    "\n",
    "AA = Tensor.TensorProd(A, A)\n",
    "display(Math(latex(AA)))\n",
    "\n",
    "A.Contract(0, 1)\n",
    "display(Math(latex(A.items)))\n"
   ]
  },
  {
   "cell_type": "code",
   "execution_count": 2,
   "metadata": {
    "collapsed": false
   },
   "outputs": [
    {
     "data": {
      "text/latex": [
       "$$(A.B)\\vphantom1_{\\alpha}\\vphantom1^{\\beta}$$"
      ],
      "text/plain": [
       "<IPython.core.display.Math object>"
      ]
     },
     "metadata": {},
     "output_type": "display_data"
    },
    {
     "name": "stdout",
     "output_type": "stream",
     "text": [
      "[[-z -1 -x -y]\n",
      " [x*z x x**2 x*y]\n",
      " [y*z y x*y y**2]\n",
      " [z**2 z x*z y*z]]\n"
     ]
    },
    {
     "data": {
      "text/latex": [
       "$$x y + x + y z - z$$"
      ],
      "text/plain": [
       "<IPython.core.display.Math object>"
      ]
     },
     "metadata": {},
     "output_type": "display_data"
    }
   ],
   "source": [
    "A = Tensor('A', indices=[ind_alpha])\n",
    "A[:] = [-1, x, y, z]\n",
    "\n",
    "B = Tensor('B', indices=[ind_beta])\n",
    "B[:] = [z, 1, x, y]\n",
    "\n",
    "AB = Tensor.TensorProd(A, B)\n",
    "display(Math(latex(AB)))\n",
    "\n",
    "print(AB.items)\n",
    "\n",
    "AB.Contract(0, 1)\n",
    "display(Math(latex(AB.items)))\n",
    "\n"
   ]
  },
  {
   "cell_type": "code",
   "execution_count": 3,
   "metadata": {
    "collapsed": false
   },
   "outputs": [
    {
     "data": {
      "text/latex": [
       "$$(B.A)\\vphantom1_{\\alpha}\\vphantom1_{\\alpha}$$"
      ],
      "text/plain": [
       "<IPython.core.display.Math object>"
      ]
     },
     "metadata": {},
     "output_type": "display_data"
    },
    {
     "name": "stdout",
     "output_type": "stream",
     "text": [
      "[[\\partial_t(t**2) \\partial_t(x*y) \\partial_t(y*z) \\partial_t(x + z)]\n",
      " [\\partial_x(t**2) \\partial_x(x*y) \\partial_x(y*z) \\partial_x(x + z)]\n",
      " [\\partial_y(t**2) \\partial_y(x*y) \\partial_y(y*z) \\partial_y(x + z)]\n",
      " [\\partial_z(t**2) \\partial_z(x*y) \\partial_z(y*z) \\partial_z(x + z)]]\n"
     ]
    },
    {
     "data": {
      "text/latex": [
       "$$\\partial_{t}{\\left (t^{2} \\right )} + \\partial_{x}{\\left (x y \\right )} + \\partial_{y}{\\left (y z \\right )} + \\partial_{z}{\\left (x + z \\right )}$$"
      ],
      "text/plain": [
       "<IPython.core.display.Math object>"
      ]
     },
     "metadata": {},
     "output_type": "display_data"
    }
   ],
   "source": [
    "\n",
    "A = Tensor('A', indices=[ind_alpha])\n",
    "A[:] = [t**2, x*y, y*z, z+x]\n",
    "\n",
    "\n",
    "del_t=Function('\\partial_t')(v__unset___arg)\n",
    "del_x=Function('\\partial_x')(v__unset___arg)\n",
    "del_y=Function('\\partial_y')(v__unset___arg)\n",
    "del_z=Function('\\partial_z')(v__unset___arg)\n",
    "\n",
    "\n",
    "\n",
    "B = Tensor('B', indices=[ind_alpha])\n",
    "B[:] = [del_t, del_x, del_y, del_z]\n",
    "\n",
    "\n",
    "BA = Tensor.TensorProd(B, A)\n",
    "display(Math(latex(BA)))\n",
    "\n",
    "print(BA.items)\n",
    "\n",
    "BA.Contract(0, 1)\n",
    "display(Math(latex(BA.items)))\n",
    "\n"
   ]
  },
  {
   "cell_type": "code",
   "execution_count": null,
   "metadata": {
    "collapsed": true
   },
   "outputs": [],
   "source": []
  }
 ],
 "metadata": {
  "kernelspec": {
   "display_name": "Python 3",
   "language": "python",
   "name": "python3"
  },
  "language_info": {
   "codemirror_mode": {
    "name": "ipython",
    "version": 3
   },
   "file_extension": ".py",
   "mimetype": "text/x-python",
   "name": "python",
   "nbconvert_exporter": "python",
   "pygments_lexer": "ipython3",
   "version": "3.5.2"
  }
 },
 "nbformat": 4,
 "nbformat_minor": 1
}
