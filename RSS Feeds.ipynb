{
 "cells": [
  {
   "cell_type": "code",
   "execution_count": 9,
   "metadata": {
    "collapsed": false
   },
   "outputs": [
    {
     "name": "stdout",
     "output_type": "stream",
     "text": [
      "feed[ \"bozo\" ]:  0\n",
      "feed[ \"url\" ]:  http://feeds.reuters.com/reuters/companyNews?format=xml\n",
      "feed[ \"version\" ]:  rss20\n",
      "feed[ \"channel\" ]:  dict_keys(['title', 'link', 'subtitle_detail', 'links', 'updated_parsed', 'language', 'rights_detail', 'updated', 'image', 'rights', 'subtitle', 'title_detail', 'feedburner_info'])\n",
      "feed[ \"items\" ]:  10\n",
      "1  :  UPDATE 1-China's HNA to tap M&A brake after $50 bln deal splurge\n",
      "2  :  PRECIOUS-Gold hits highest in over six weeks as U.S. jobs data disappoints\n",
      "3  :  RPT-CORRECTED-China's HNA to tap M&A brake after $50 bln deal splurge\n",
      "4  :  BRIEF-Delivery services firm S.F. Holding resumes cooperation with Alibaba's Cainiao\n",
      "5  :  Kleiner Perkins invests $30 million in online retailer UNTUCKit\n",
      "6  :  RPT-UPDATE 1-Nikkei tops 20,000 but autos, banks and yen make investors doubt sustainability\n",
      "7  :  GLOBAL MARKETS-Dollar dented by jobs miss, London attacks hurt sterling; stocks subdued\n",
      "8  :  CORRECTED-China's HNA to tap M&A brake after $50 bln deal splurge\n",
      "9  :  Finnair says its A350 deliveries getting back on track\n",
      "10  :  Sovereign investors raise property holdings, wary of UK on Brexit\n",
      "11  :  BHP CEO says he has not met with Elliott since Barcelona\n"
     ]
    },
    {
     "ename": "KeyboardInterrupt",
     "evalue": "",
     "output_type": "error",
     "traceback": [
      "\u001b[0;31m---------------------------------------------------------------------------\u001b[0m",
      "\u001b[0;31mKeyboardInterrupt\u001b[0m                         Traceback (most recent call last)",
      "\u001b[0;32m<ipython-input-9-f045eab49d8f>\u001b[0m in \u001b[0;36m<module>\u001b[0;34m()\u001b[0m\n\u001b[1;32m     22\u001b[0m             \u001b[0mnews_titles\u001b[0m\u001b[0;34m.\u001b[0m\u001b[0mappend\u001b[0m\u001b[0;34m(\u001b[0m\u001b[0mf_title\u001b[0m\u001b[0;34m)\u001b[0m\u001b[0;34m\u001b[0m\u001b[0m\n\u001b[1;32m     23\u001b[0m             \u001b[0mprint\u001b[0m\u001b[0;34m(\u001b[0m\u001b[0mlen\u001b[0m\u001b[0;34m(\u001b[0m\u001b[0mnews_titles\u001b[0m\u001b[0;34m)\u001b[0m\u001b[0;34m,\u001b[0m \u001b[0;34m\" : \"\u001b[0m\u001b[0;34m,\u001b[0m \u001b[0mf_title\u001b[0m\u001b[0;34m)\u001b[0m\u001b[0;34m\u001b[0m\u001b[0m\n\u001b[0;32m---> 24\u001b[0;31m     \u001b[0mtime\u001b[0m\u001b[0;34m.\u001b[0m\u001b[0msleep\u001b[0m\u001b[0;34m(\u001b[0m\u001b[0;36m60\u001b[0m\u001b[0;34m)\u001b[0m\u001b[0;34m\u001b[0m\u001b[0m\n\u001b[0m\u001b[1;32m     25\u001b[0m \u001b[0;34m\u001b[0m\u001b[0m\n",
      "\u001b[0;31mKeyboardInterrupt\u001b[0m: "
     ]
    }
   ],
   "source": [
    "import feedparser\n",
    "import time\n",
    "\n",
    "reuters_rss_url = \"http://feeds.reuters.com/reuters/companyNews?format=xml\"\n",
    "    \n",
    "feed = feedparser.parse( reuters_rss_url )\n",
    "\n",
    "print('feed[ \"bozo\" ]: ', feed[ \"bozo\" ])\n",
    "print('feed[ \"url\" ]: ', feed[ \"url\" ])\n",
    "print('feed[ \"version\" ]: ', feed[ \"version\" ])\n",
    "print('feed[ \"channel\" ]: ', feed[ \"channel\" ].keys() )\n",
    "print('feed[ \"items\" ]: ', len(feed[ \"items\" ]))\n",
    "\n",
    "#print(feed[ \"items\" ][0].keys())\n",
    "news_titles = []\n",
    "while True:\n",
    "    feed = feedparser.parse( reuters_rss_url )\n",
    "\n",
    "    for f in feed[ \"items\" ]:\n",
    "        f_title = f['title']\n",
    "        if f_title not in news_titles:\n",
    "            news_titles.append(f_title)\n",
    "            print(len(news_titles), \" : \", f_title)\n",
    "    time.sleep(60)\n",
    "    "
   ]
  },
  {
   "cell_type": "code",
   "execution_count": null,
   "metadata": {
    "collapsed": true
   },
   "outputs": [],
   "source": []
  }
 ],
 "metadata": {
  "kernelspec": {
   "display_name": "Python 3",
   "language": "python",
   "name": "python3"
  },
  "language_info": {
   "codemirror_mode": {
    "name": "ipython",
    "version": 3
   },
   "file_extension": ".py",
   "mimetype": "text/x-python",
   "name": "python",
   "nbconvert_exporter": "python",
   "pygments_lexer": "ipython3",
   "version": "3.5.2"
  }
 },
 "nbformat": 4,
 "nbformat_minor": 1
}
