{
 "cells": [
  {
   "cell_type": "code",
   "execution_count": 4,
   "metadata": {},
   "outputs": [
    {
     "name": "stdout",
     "output_type": "stream",
     "text": [
      "Coordinate transformation:\n"
     ]
    },
    {
     "data": {
      "text/latex": [
       "$$x = \\frac{d \\sqrt{- \\eta^{2} + 1} \\sqrt{\\xi^{2} - 1} \\cos{\\left (\\phi \\right )}}{2}$$"
      ],
      "text/plain": [
       "<IPython.core.display.Math object>"
      ]
     },
     "metadata": {},
     "output_type": "display_data"
    },
    {
     "data": {
      "text/latex": [
       "$$y = \\frac{d \\sqrt{- \\eta^{2} + 1} \\sqrt{\\xi^{2} - 1} \\sin{\\left (\\phi \\right )}}{2}$$"
      ],
      "text/plain": [
       "<IPython.core.display.Math object>"
      ]
     },
     "metadata": {},
     "output_type": "display_data"
    },
    {
     "data": {
      "text/latex": [
       "$$z = \\frac{\\eta \\xi d}{2}$$"
      ],
      "text/plain": [
       "<IPython.core.display.Math object>"
      ]
     },
     "metadata": {},
     "output_type": "display_data"
    },
    {
     "name": "stdout",
     "output_type": "stream",
     "text": [
      "Metric coefficients:\n"
     ]
    },
    {
     "data": {
      "text/latex": [
       "$$h_\\eta = \\frac{d \\sqrt{\\frac{\\eta^{2} - \\xi^{2}}{\\eta^{2} - 1}}}{2}$$"
      ],
      "text/plain": [
       "<IPython.core.display.Math object>"
      ]
     },
     "metadata": {},
     "output_type": "display_data"
    },
    {
     "data": {
      "text/latex": [
       "$$h_\\xi = \\frac{d \\sqrt{\\frac{- \\eta^{2} + \\xi^{2}}{\\xi^{2} - 1}}}{2}$$"
      ],
      "text/plain": [
       "<IPython.core.display.Math object>"
      ]
     },
     "metadata": {},
     "output_type": "display_data"
    },
    {
     "data": {
      "text/latex": [
       "$$h_\\phi = \\frac{d \\sqrt{- \\left(\\eta^{2} - 1\\right) \\left(\\xi^{2} - 1\\right)}}{2}$$"
      ],
      "text/plain": [
       "<IPython.core.display.Math object>"
      ]
     },
     "metadata": {},
     "output_type": "display_data"
    },
    {
     "name": "stdout",
     "output_type": "stream",
     "text": [
      "sqrt's rearranged:\n"
     ]
    },
    {
     "data": {
      "text/latex": [
       "$$h_\\eta = \\frac{d \\sqrt{- \\eta^{2} + \\xi^{2}}}{2 \\sqrt{- \\eta^{2} + 1}}$$"
      ],
      "text/plain": [
       "<IPython.core.display.Math object>"
      ]
     },
     "metadata": {},
     "output_type": "display_data"
    },
    {
     "data": {
      "text/latex": [
       "$$h_\\xi = \\frac{d \\sqrt{- \\eta^{2} + \\xi^{2}}}{2 \\sqrt{\\xi^{2} - 1}}$$"
      ],
      "text/plain": [
       "<IPython.core.display.Math object>"
      ]
     },
     "metadata": {},
     "output_type": "display_data"
    },
    {
     "data": {
      "text/latex": [
       "$$h_\\phi = \\frac{d \\sqrt{- \\eta^{2} + 1} \\sqrt{\\xi^{2} - 1}}{2}$$"
      ],
      "text/plain": [
       "<IPython.core.display.Math object>"
      ]
     },
     "metadata": {},
     "output_type": "display_data"
    },
    {
     "name": "stdout",
     "output_type": "stream",
     "text": [
      "Spheroidal wave functions:\n"
     ]
    },
    {
     "data": {
      "text/latex": [
       "$$\\psi_{mn}^e= \\operatorname{R_{mn}}{\\left (\\xi \\right )} \\operatorname{S_{mn}}{\\left (\\eta \\right )} \\cos{\\left (\\phi m \\right )}$$"
      ],
      "text/plain": [
       "<IPython.core.display.Math object>"
      ]
     },
     "metadata": {},
     "output_type": "display_data"
    },
    {
     "data": {
      "text/latex": [
       "$$\\psi_{mn}^o= \\operatorname{R_{mn}}{\\left (\\xi \\right )} \\operatorname{S_{mn}}{\\left (\\eta \\right )} \\sin{\\left (\\phi m \\right )}$$"
      ],
      "text/plain": [
       "<IPython.core.display.Math object>"
      ]
     },
     "metadata": {},
     "output_type": "display_data"
    },
    {
     "name": "stdout",
     "output_type": "stream",
     "text": [
      "basis vectors:\n"
     ]
    },
    {
     "data": {
      "text/latex": [
       "$$\\hat x = \\left[\\begin{matrix}- \\frac{\\eta \\sqrt{\\xi^{2} - 1} \\cos{\\left (\\phi \\right )}}{\\sqrt{- \\eta^{2} + \\xi^{2}}}\\\\\\frac{\\xi \\sqrt{- \\eta^{2} + 1} \\cos{\\left (\\phi \\right )}}{\\sqrt{- \\eta^{2} + \\xi^{2}}}\\\\- \\sin{\\left (\\phi \\right )}\\end{matrix}\\right]$$"
      ],
      "text/plain": [
       "<IPython.core.display.Math object>"
      ]
     },
     "metadata": {},
     "output_type": "display_data"
    },
    {
     "data": {
      "text/latex": [
       "$$\\hat y = \\left[\\begin{matrix}- \\frac{\\eta \\sqrt{\\xi^{2} - 1} \\sin{\\left (\\phi \\right )}}{\\sqrt{- \\eta^{2} + \\xi^{2}}}\\\\\\frac{\\xi \\sqrt{- \\eta^{2} + 1} \\sin{\\left (\\phi \\right )}}{\\sqrt{- \\eta^{2} + \\xi^{2}}}\\\\\\cos{\\left (\\phi \\right )}\\end{matrix}\\right]$$"
      ],
      "text/plain": [
       "<IPython.core.display.Math object>"
      ]
     },
     "metadata": {},
     "output_type": "display_data"
    },
    {
     "data": {
      "text/latex": [
       "$$\\hat z = \\left[\\begin{matrix}\\frac{\\xi \\sqrt{- \\eta^{2} + 1}}{\\sqrt{- \\eta^{2} + \\xi^{2}}}\\\\\\frac{\\eta \\sqrt{\\xi^{2} - 1}}{\\sqrt{- \\eta^{2} + \\xi^{2}}}\\\\0\\end{matrix}\\right]$$"
      ],
      "text/plain": [
       "<IPython.core.display.Math object>"
      ]
     },
     "metadata": {},
     "output_type": "display_data"
    },
    {
     "data": {
      "text/latex": [
       "$$A = \\left[\\begin{matrix}- \\frac{\\eta d \\sqrt{\\xi^{2} - 1} \\cos{\\left (\\phi \\right )}}{2 \\sqrt{- \\eta^{2} + 1}} & \\frac{\\xi d \\sqrt{- \\eta^{2} + 1} \\cos{\\left (\\phi \\right )}}{2 \\sqrt{\\xi^{2} - 1}} & - \\frac{d \\sqrt{- \\eta^{2} + 1} \\sqrt{\\xi^{2} - 1} \\sin{\\left (\\phi \\right )}}{2}\\\\- \\frac{\\eta d \\sqrt{\\xi^{2} - 1} \\sin{\\left (\\phi \\right )}}{2 \\sqrt{- \\eta^{2} + 1}} & \\frac{\\xi d \\sqrt{- \\eta^{2} + 1} \\sin{\\left (\\phi \\right )}}{2 \\sqrt{\\xi^{2} - 1}} & \\frac{d \\sqrt{- \\eta^{2} + 1} \\sqrt{\\xi^{2} - 1} \\cos{\\left (\\phi \\right )}}{2}\\\\\\frac{\\xi d}{2} & \\frac{\\eta d}{2} & 0\\end{matrix}\\right]$$"
      ],
      "text/plain": [
       "<IPython.core.display.Math object>"
      ]
     },
     "metadata": {},
     "output_type": "display_data"
    }
   ],
   "source": [
    "import sympy as sym\n",
    "from sympy import latex, sqrt, cos, sin, diff\n",
    "from IPython.display import display, Math, Latex\n",
    "from Electromagnetics import Misc\n",
    "\n",
    "ksi, eta, phi = sym.symbols(r'\\xi \\eta \\phi', real=True) \n",
    "d = sym.Symbol('d', real=True, positive=True)\n",
    "m = sym.Symbol('m')\n",
    "\n",
    "print(\"Coordinate transformation:\")\n",
    "x = d/2*sqrt((1 - eta**2))*sqrt((ksi**2 - 1))*cos(phi)\n",
    "y = d/2*sqrt((1 - eta**2))*sqrt((ksi**2 - 1))*sin(phi)\n",
    "z = d/2*eta*ksi\n",
    "\n",
    "\n",
    "display(Math(\"x = \" + latex(x)))\n",
    "display(Math(\"y = \" + latex(y)))\n",
    "display(Math(\"z = \" + latex(z)))\n",
    "\n",
    "h_eta = (sqrt(diff(x, eta)**2 + diff(y, eta)**2 + diff(z, eta)**2)).simplify()\n",
    "h_ksi = (sqrt(diff(x, ksi)**2 + diff(y, ksi)**2 + diff(z, ksi)**2)).simplify()\n",
    "h_phi = (sqrt(diff(x, phi)**2 + diff(y, phi)**2 + diff(z, phi)**2)).simplify()\n",
    "\n",
    "print(\"Metric coefficients:\")\n",
    "display(Math(r\"h_\\eta = \" + latex(h_eta)))\n",
    "display(Math(r\"h_\\xi = \" + latex(h_ksi)))\n",
    "display(Math(r\"h_\\phi = \" + latex(h_phi)))\n",
    "\n",
    "h_eta = d/2*sqrt(ksi**2 - eta**2)/sqrt(1 - eta**2)\n",
    "h_ksi = d/2*sqrt(ksi**2 - eta**2)/sqrt(ksi**2 - 1)\n",
    "h_phi = d/2*sqrt(1 - eta**2)*sqrt(ksi**2 - 1)\n",
    "\n",
    "print(\"sqrt's rearranged:\")\n",
    "display(Math(r\"h_\\eta = \" + latex(h_eta)))\n",
    "display(Math(r\"h_\\xi = \" + latex(h_ksi)))\n",
    "display(Math(r\"h_\\phi = \" + latex(h_phi)))\n",
    "\n",
    "S_mn = sym.Function(r\"S_{mn}\")(eta)\n",
    "R_mn = sym.Function(r\"R_{mn}\")(ksi)\n",
    "\n",
    "psi_mn_e = S_mn*R_mn*cos(m*phi)\n",
    "psi_mn_o = S_mn*R_mn*sin(m*phi)\n",
    "\n",
    "print(\"Spheroidal wave functions:\")\n",
    "display(Math(r\"\\psi_{mn}^e= \" + latex(psi_mn_e)))\n",
    "display(Math(r\"\\psi_{mn}^o= \" + latex(psi_mn_o)))\n",
    "\n",
    "\n",
    "x_hat = sym.Matrix([-eta*sqrt((ksi**2 - 1))/sqrt((ksi**2 - eta**2))*cos(phi), \n",
    "                    +ksi*sqrt((1 - eta**2))/sqrt((ksi**2 - eta**2))*cos(phi), \n",
    "                    -sin(phi)])\n",
    "y_hat = sym.Matrix([-eta*sqrt((ksi**2 - 1))/sqrt((ksi**2 - eta**2))*sin(phi), \n",
    "                    +ksi*sqrt((1 - eta**2))/sqrt((ksi**2 - eta**2))*sin(phi), \n",
    "                    +cos(phi)])\n",
    "z_hat = sym.Matrix([+ksi*sqrt((1 - eta**2))/sqrt((ksi**2 - eta**2)),\n",
    "                    +eta*sqrt((ksi**2 - 1))/sqrt((ksi**2 - eta**2)),\n",
    "                    0])\n",
    "print(\"basis vectors:\")\n",
    "display(Math(r\"\\hat x = \" + latex(x_hat)))\n",
    "display(Math(r\"\\hat y = \" + latex(y_hat)))\n",
    "display(Math(r\"\\hat z = \" + latex(z_hat)))\n",
    "\n",
    "#eta_ksi_phi_hat = sym.Matrix([x_hat.T, y_hat.T, z_hat.T]).inv(\"LU\")\n",
    "#display(Math(r\"\\hat {\\eta\\xi\\phi} = \" + latex(eta_ksi_phi_hat)))\n",
    "\n",
    "# transformation matrix\n",
    "A_coord = sym.Matrix([[diff(x, eta), diff(x, ksi), diff(x, phi)],\n",
    "                      [diff(y, eta), diff(y, ksi), diff(y, phi)],\n",
    "                      [diff(z, eta), diff(z, ksi), diff(z, phi)]])\n",
    "display(Math(r\"A = \" + latex(A_coord)))\n",
    "\n"
   ]
  },
  {
   "cell_type": "code",
   "execution_count": 8,
   "metadata": {},
   "outputs": [
    {
     "data": {
      "text/latex": [
       "$$A = \\left[\\begin{matrix}\\frac{\\frac{x}{\\sqrt{x^{2} + y^{2} + \\left(\\frac{d}{2} + z\\right)^{2}}} - \\frac{x}{\\sqrt{x^{2} + y^{2} + \\left(- \\frac{d}{2} + z\\right)^{2}}}}{d} & \\frac{\\frac{y}{\\sqrt{x^{2} + y^{2} + \\left(\\frac{d}{2} + z\\right)^{2}}} - \\frac{y}{\\sqrt{x^{2} + y^{2} + \\left(- \\frac{d}{2} + z\\right)^{2}}}}{d} & \\frac{- \\frac{- \\frac{d}{2} + z}{\\sqrt{x^{2} + y^{2} + \\left(- \\frac{d}{2} + z\\right)^{2}}} + \\frac{\\frac{d}{2} + z}{\\sqrt{x^{2} + y^{2} + \\left(\\frac{d}{2} + z\\right)^{2}}}}{d}\\\\\\frac{\\frac{x}{\\sqrt{x^{2} + y^{2} + \\left(\\frac{d}{2} + z\\right)^{2}}} + \\frac{x}{\\sqrt{x^{2} + y^{2} + \\left(- \\frac{d}{2} + z\\right)^{2}}}}{d} & \\frac{\\frac{y}{\\sqrt{x^{2} + y^{2} + \\left(\\frac{d}{2} + z\\right)^{2}}} + \\frac{y}{\\sqrt{x^{2} + y^{2} + \\left(- \\frac{d}{2} + z\\right)^{2}}}}{d} & \\frac{\\frac{- \\frac{d}{2} + z}{\\sqrt{x^{2} + y^{2} + \\left(- \\frac{d}{2} + z\\right)^{2}}} + \\frac{\\frac{d}{2} + z}{\\sqrt{x^{2} + y^{2} + \\left(\\frac{d}{2} + z\\right)^{2}}}}{d}\\\\- \\frac{y}{x^{2} \\left(1 + \\frac{y^{2}}{x^{2}}\\right)} & \\frac{1}{x \\left(1 + \\frac{y^{2}}{x^{2}}\\right)} & 0\\end{matrix}\\right]$$"
      ],
      "text/plain": [
       "<IPython.core.display.Math object>"
      ]
     },
     "metadata": {},
     "output_type": "display_data"
    },
    {
     "data": {
      "text/latex": [
       "$$A = \\left[\\begin{matrix}\\frac{\\frac{x}{d \\left(\\eta + \\xi\\right)} - \\frac{x}{d \\left(- \\eta + \\xi\\right)}}{d} & \\frac{\\frac{y}{d \\left(\\eta + \\xi\\right)} - \\frac{y}{d \\left(- \\eta + \\xi\\right)}}{d} & \\frac{\\frac{\\frac{d}{2} + z}{d \\left(\\eta + \\xi\\right)} - \\frac{- \\frac{d}{2} + z}{d \\left(- \\eta + \\xi\\right)}}{d}\\\\\\frac{\\frac{x}{d \\left(\\eta + \\xi\\right)} + \\frac{x}{d \\left(- \\eta + \\xi\\right)}}{d} & \\frac{\\frac{y}{d \\left(\\eta + \\xi\\right)} + \\frac{y}{d \\left(- \\eta + \\xi\\right)}}{d} & \\frac{\\frac{\\frac{d}{2} + z}{d \\left(\\eta + \\xi\\right)} + \\frac{- \\frac{d}{2} + z}{d \\left(- \\eta + \\xi\\right)}}{d}\\\\- \\frac{y}{\\rho^{2}} & \\frac{x}{\\rho^{2}} & 0\\end{matrix}\\right]$$"
      ],
      "text/plain": [
       "<IPython.core.display.Math object>"
      ]
     },
     "metadata": {},
     "output_type": "display_data"
    }
   ],
   "source": [
    "## inverse coordinate transform\n",
    "\n",
    "import sympy as sym\n",
    "from sympy import latex, sqrt, cos, sin, diff, atan\n",
    "from IPython.display import display, Math, Latex\n",
    "from Electromagnetics import Misc\n",
    "\n",
    "x, y, z = sym.symbols(\"x y z\", real=True)\n",
    "d = sym.Symbol('d', real=True, positive=True)\n",
    "\n",
    "ksi = (sqrt(x**2 + y**2 + (z + d/2)**2) + sqrt(x**2 + y**2 + (z - d/2)**2))/d\n",
    "eta = (sqrt(x**2 + y**2 + (z + d/2)**2) - sqrt(x**2 + y**2 + (z - d/2)**2))/d\n",
    "phi = atan(y/x)\n",
    "\n",
    "# transformation matrix\n",
    "A_coord = sym.Matrix([[diff(eta, x), diff(eta, y), diff(eta, z)],\n",
    "                      [diff(ksi, x), diff(ksi, y), diff(ksi, z)],\n",
    "                      [diff(phi, x), diff(phi, y), diff(phi, z)]])\n",
    "display(Math(r\"A = \" + latex(A_coord)))\n",
    "\n",
    "ksi, eta, phi = sym.symbols(r'\\xi \\eta \\phi', real=True) \n",
    "rho = sym.Symbol(r'\\rho', real=True)\n",
    "A_coord = A_coord.subs([(sqrt(x**2 + y**2 + (z + d/2)**2), (ksi + eta)*d), (sqrt(x**2 + y**2 + (z - d/2)**2), (ksi - eta)*d)])\n",
    "A_coord = A_coord.subs(1+y**2/x**2, rho**2/x**2)\n",
    "display(Math(r\"A = \" + latex(A_coord)))"
   ]
  },
  {
   "cell_type": "code",
   "execution_count": 112,
   "metadata": {},
   "outputs": [
    {
     "name": "stdout",
     "output_type": "stream",
     "text": [
      "gradients:\n"
     ]
    },
    {
     "data": {
      "text/latex": [
       "$$\\nabla \\psi_{mn}^e = \\left[\\begin{matrix}\\frac{2 \\sqrt{- \\eta^{2} + 1} \\operatorname{R_{mn}}{\\left (\\xi \\right )} \\cos{\\left (\\phi m \\right )} \\frac{d}{d \\eta} \\operatorname{S_{mn}}{\\left (\\eta \\right )}}{d \\sqrt{- \\eta^{2} + \\xi^{2}}}\\\\\\frac{2 \\sqrt{\\xi^{2} - 1} \\operatorname{S_{mn}}{\\left (\\eta \\right )} \\cos{\\left (\\phi m \\right )} \\frac{d}{d \\xi} \\operatorname{R_{mn}}{\\left (\\xi \\right )}}{d \\sqrt{- \\eta^{2} + \\xi^{2}}}\\\\- \\frac{2 m \\operatorname{R_{mn}}{\\left (\\xi \\right )} \\operatorname{S_{mn}}{\\left (\\eta \\right )} \\sin{\\left (\\phi m \\right )}}{d \\sqrt{- \\eta^{2} + 1} \\sqrt{\\xi^{2} - 1}}\\end{matrix}\\right]$$"
      ],
      "text/plain": [
       "<IPython.core.display.Math object>"
      ]
     },
     "metadata": {},
     "output_type": "display_data"
    },
    {
     "data": {
      "text/latex": [
       "$$\\nabla \\psi_{mn}^o = \\left[\\begin{matrix}\\frac{2 \\sqrt{- \\eta^{2} + 1} \\operatorname{R_{mn}}{\\left (\\xi \\right )} \\sin{\\left (\\phi m \\right )} \\frac{d}{d \\eta} \\operatorname{S_{mn}}{\\left (\\eta \\right )}}{d \\sqrt{- \\eta^{2} + \\xi^{2}}}\\\\\\frac{2 \\sqrt{\\xi^{2} - 1} \\operatorname{S_{mn}}{\\left (\\eta \\right )} \\sin{\\left (\\phi m \\right )} \\frac{d}{d \\xi} \\operatorname{R_{mn}}{\\left (\\xi \\right )}}{d \\sqrt{- \\eta^{2} + \\xi^{2}}}\\\\\\frac{2 m \\operatorname{R_{mn}}{\\left (\\xi \\right )} \\operatorname{S_{mn}}{\\left (\\eta \\right )} \\cos{\\left (\\phi m \\right )}}{d \\sqrt{- \\eta^{2} + 1} \\sqrt{\\xi^{2} - 1}}\\end{matrix}\\right]$$"
      ],
      "text/plain": [
       "<IPython.core.display.Math object>"
      ]
     },
     "metadata": {},
     "output_type": "display_data"
    }
   ],
   "source": [
    "grad_psi_mn_e = sym.Matrix([1/h_eta*diff(psi_mn_e, eta),\n",
    "                         1/h_ksi*diff(psi_mn_e, ksi),\n",
    "                         1/h_phi*diff(psi_mn_e, phi)\n",
    "                        ])\n",
    "grad_psi_mn_o = sym.Matrix([1/h_eta*diff(psi_mn_o, eta),\n",
    "                         1/h_ksi*diff(psi_mn_o, ksi),\n",
    "                         1/h_phi*diff(psi_mn_o, phi)\n",
    "                        ])\n",
    "\n",
    "print(\"gradients:\")\n",
    "display(Math(r\"\\nabla \\psi_{mn}^e = \" + latex(grad_psi_mn_e)))\n",
    "display(Math(r\"\\nabla \\psi_{mn}^o = \" + latex(grad_psi_mn_o)))\n"
   ]
  },
  {
   "cell_type": "code",
   "execution_count": 113,
   "metadata": {},
   "outputs": [
    {
     "name": "stdout",
     "output_type": "stream",
     "text": [
      "Vector wave functions:\n"
     ]
    },
    {
     "data": {
      "text/latex": [
       "$$M_{mn}^{ex} = \\left[\\begin{matrix}\\frac{2 \\left(\\xi m \\operatorname{R_{mn}}{\\left (\\xi \\right )} \\sin{\\left (\\phi m \\right )} \\cos{\\left (\\phi \\right )} - \\left(\\xi^{2} - 1\\right) \\sin{\\left (\\phi \\right )} \\cos{\\left (\\phi m \\right )} \\frac{d}{d \\xi} \\operatorname{R_{mn}}{\\left (\\xi \\right )}\\right) \\operatorname{S_{mn}}{\\left (\\eta \\right )}}{d \\sqrt{- \\eta^{2} + \\xi^{2}} \\sqrt{\\xi^{2} - 1}}\\\\\\frac{2 \\left(\\eta m \\operatorname{S_{mn}}{\\left (\\eta \\right )} \\sin{\\left (\\phi m \\right )} \\cos{\\left (\\phi \\right )} + \\left(- \\eta^{2} + 1\\right) \\sin{\\left (\\phi \\right )} \\cos{\\left (\\phi m \\right )} \\frac{d}{d \\eta} \\operatorname{S_{mn}}{\\left (\\eta \\right )}\\right) \\operatorname{R_{mn}}{\\left (\\xi \\right )}}{d \\sqrt{- \\eta^{2} + 1} \\sqrt{- \\eta^{2} + \\xi^{2}}}\\\\\\frac{2 \\left(- \\eta \\left(\\xi^{2} - 1\\right) \\operatorname{S_{mn}}{\\left (\\eta \\right )} \\frac{d}{d \\xi} \\operatorname{R_{mn}}{\\left (\\xi \\right )} + \\xi \\left(\\eta^{2} - 1\\right) \\operatorname{R_{mn}}{\\left (\\xi \\right )} \\frac{d}{d \\eta} \\operatorname{S_{mn}}{\\left (\\eta \\right )}\\right) \\cos{\\left (\\phi \\right )} \\cos{\\left (\\phi m \\right )}}{d \\left(\\eta^{2} - \\xi^{2}\\right)}\\end{matrix}\\right]$$"
      ],
      "text/plain": [
       "<IPython.core.display.Math object>"
      ]
     },
     "metadata": {},
     "output_type": "display_data"
    },
    {
     "data": {
      "text/latex": [
       "$$M_{mn}^{ey} = \\left[\\begin{matrix}\\frac{2 \\left(\\xi m \\operatorname{R_{mn}}{\\left (\\xi \\right )} \\sin{\\left (\\phi \\right )} \\sin{\\left (\\phi m \\right )} + \\left(\\xi^{2} - 1\\right) \\cos{\\left (\\phi \\right )} \\cos{\\left (\\phi m \\right )} \\frac{d}{d \\xi} \\operatorname{R_{mn}}{\\left (\\xi \\right )}\\right) \\operatorname{S_{mn}}{\\left (\\eta \\right )}}{d \\sqrt{- \\eta^{2} + \\xi^{2}} \\sqrt{\\xi^{2} - 1}}\\\\\\frac{2 \\left(\\eta m \\operatorname{S_{mn}}{\\left (\\eta \\right )} \\sin{\\left (\\phi \\right )} \\sin{\\left (\\phi m \\right )} - \\left(- \\eta^{2} + 1\\right) \\cos{\\left (\\phi \\right )} \\cos{\\left (\\phi m \\right )} \\frac{d}{d \\eta} \\operatorname{S_{mn}}{\\left (\\eta \\right )}\\right) \\operatorname{R_{mn}}{\\left (\\xi \\right )}}{d \\sqrt{- \\eta^{2} + 1} \\sqrt{- \\eta^{2} + \\xi^{2}}}\\\\\\frac{2 \\left(- \\eta \\left(\\xi^{2} - 1\\right) \\operatorname{S_{mn}}{\\left (\\eta \\right )} \\frac{d}{d \\xi} \\operatorname{R_{mn}}{\\left (\\xi \\right )} + \\xi \\left(\\eta^{2} - 1\\right) \\operatorname{R_{mn}}{\\left (\\xi \\right )} \\frac{d}{d \\eta} \\operatorname{S_{mn}}{\\left (\\eta \\right )}\\right) \\sin{\\left (\\phi \\right )} \\cos{\\left (\\phi m \\right )}}{d \\left(\\eta^{2} - \\xi^{2}\\right)}\\end{matrix}\\right]$$"
      ],
      "text/plain": [
       "<IPython.core.display.Math object>"
      ]
     },
     "metadata": {},
     "output_type": "display_data"
    },
    {
     "data": {
      "text/latex": [
       "$$M_{mn}^{ez} = \\left[\\begin{matrix}\\frac{2 \\eta m \\operatorname{R_{mn}}{\\left (\\xi \\right )} \\operatorname{S_{mn}}{\\left (\\eta \\right )} \\sin{\\left (\\phi m \\right )}}{d \\sqrt{- \\eta^{2} + 1} \\sqrt{- \\eta^{2} + \\xi^{2}}}\\\\- \\frac{2 \\xi m \\operatorname{R_{mn}}{\\left (\\xi \\right )} \\operatorname{S_{mn}}{\\left (\\eta \\right )} \\sin{\\left (\\phi m \\right )}}{d \\sqrt{- \\eta^{2} + \\xi^{2}} \\sqrt{\\xi^{2} - 1}}\\\\\\frac{2 \\sqrt{- \\eta^{2} + 1} \\sqrt{\\xi^{2} - 1} \\left(- \\eta \\operatorname{R_{mn}}{\\left (\\xi \\right )} \\frac{d}{d \\eta} \\operatorname{S_{mn}}{\\left (\\eta \\right )} + \\xi \\operatorname{S_{mn}}{\\left (\\eta \\right )} \\frac{d}{d \\xi} \\operatorname{R_{mn}}{\\left (\\xi \\right )}\\right) \\cos{\\left (\\phi m \\right )}}{d \\left(\\eta^{2} - \\xi^{2}\\right)}\\end{matrix}\\right]$$"
      ],
      "text/plain": [
       "<IPython.core.display.Math object>"
      ]
     },
     "metadata": {},
     "output_type": "display_data"
    }
   ],
   "source": [
    "def GetCrossProd(a, b):\n",
    "    return sym.Matrix([(a[1]*b[2] - a[2]*b[1]).simplify(),\n",
    "                       (a[2]*b[0] - a[0]*b[2]).simplify(),\n",
    "                       (a[0]*b[1] - a[1]*b[0]).simplify()\n",
    "                      ])\n",
    "\n",
    "\n",
    "M_mn_e_x = GetCrossProd(grad_psi_mn_e, x_hat)\n",
    "M_mn_e_y = GetCrossProd(grad_psi_mn_e, y_hat)\n",
    "M_mn_e_z = GetCrossProd(grad_psi_mn_e, z_hat)\n",
    "\n",
    "print(\"Vector wave functions:\")\n",
    "display(Math(r\"M_{mn}^{ex} = \" + latex(M_mn_e_x)))\n",
    "display(Math(r\"M_{mn}^{ey} = \" + latex(M_mn_e_y)))\n",
    "display(Math(r\"M_{mn}^{ez} = \" + latex(M_mn_e_z)))\n"
   ]
  },
  {
   "cell_type": "code",
   "execution_count": 114,
   "metadata": {},
   "outputs": [
    {
     "name": "stdout",
     "output_type": "stream",
     "text": [
      "Vector wave functions:\n"
     ]
    },
    {
     "data": {
      "text/latex": [
       "$$M_{mn}^{ox} = \\left[\\begin{matrix}- \\frac{2 \\left(\\xi m \\operatorname{R_{mn}}{\\left (\\xi \\right )} \\cos{\\left (\\phi \\right )} \\cos{\\left (\\phi m \\right )} + \\left(\\xi^{2} - 1\\right) \\sin{\\left (\\phi \\right )} \\sin{\\left (\\phi m \\right )} \\frac{d}{d \\xi} \\operatorname{R_{mn}}{\\left (\\xi \\right )}\\right) \\operatorname{S_{mn}}{\\left (\\eta \\right )}}{d \\sqrt{- \\eta^{2} + \\xi^{2}} \\sqrt{\\xi^{2} - 1}}\\\\\\frac{2 \\left(- \\eta m \\operatorname{S_{mn}}{\\left (\\eta \\right )} \\cos{\\left (\\phi \\right )} \\cos{\\left (\\phi m \\right )} + \\left(- \\eta^{2} + 1\\right) \\sin{\\left (\\phi \\right )} \\sin{\\left (\\phi m \\right )} \\frac{d}{d \\eta} \\operatorname{S_{mn}}{\\left (\\eta \\right )}\\right) \\operatorname{R_{mn}}{\\left (\\xi \\right )}}{d \\sqrt{- \\eta^{2} + 1} \\sqrt{- \\eta^{2} + \\xi^{2}}}\\\\\\frac{2 \\left(- \\eta \\left(\\xi^{2} - 1\\right) \\operatorname{S_{mn}}{\\left (\\eta \\right )} \\frac{d}{d \\xi} \\operatorname{R_{mn}}{\\left (\\xi \\right )} + \\xi \\left(\\eta^{2} - 1\\right) \\operatorname{R_{mn}}{\\left (\\xi \\right )} \\frac{d}{d \\eta} \\operatorname{S_{mn}}{\\left (\\eta \\right )}\\right) \\sin{\\left (\\phi m \\right )} \\cos{\\left (\\phi \\right )}}{d \\left(\\eta^{2} - \\xi^{2}\\right)}\\end{matrix}\\right]$$"
      ],
      "text/plain": [
       "<IPython.core.display.Math object>"
      ]
     },
     "metadata": {},
     "output_type": "display_data"
    },
    {
     "data": {
      "text/latex": [
       "$$M_{mn}^{oy} = \\left[\\begin{matrix}\\frac{2 \\left(- \\xi m \\operatorname{R_{mn}}{\\left (\\xi \\right )} \\sin{\\left (\\phi \\right )} \\cos{\\left (\\phi m \\right )} + \\left(\\xi^{2} - 1\\right) \\sin{\\left (\\phi m \\right )} \\cos{\\left (\\phi \\right )} \\frac{d}{d \\xi} \\operatorname{R_{mn}}{\\left (\\xi \\right )}\\right) \\operatorname{S_{mn}}{\\left (\\eta \\right )}}{d \\sqrt{- \\eta^{2} + \\xi^{2}} \\sqrt{\\xi^{2} - 1}}\\\\- \\frac{2 \\left(\\eta m \\operatorname{S_{mn}}{\\left (\\eta \\right )} \\sin{\\left (\\phi \\right )} \\cos{\\left (\\phi m \\right )} - \\left(\\eta^{2} - 1\\right) \\sin{\\left (\\phi m \\right )} \\cos{\\left (\\phi \\right )} \\frac{d}{d \\eta} \\operatorname{S_{mn}}{\\left (\\eta \\right )}\\right) \\operatorname{R_{mn}}{\\left (\\xi \\right )}}{d \\sqrt{- \\eta^{2} + 1} \\sqrt{- \\eta^{2} + \\xi^{2}}}\\\\\\frac{2 \\left(- \\eta \\left(\\xi^{2} - 1\\right) \\operatorname{S_{mn}}{\\left (\\eta \\right )} \\frac{d}{d \\xi} \\operatorname{R_{mn}}{\\left (\\xi \\right )} + \\xi \\left(\\eta^{2} - 1\\right) \\operatorname{R_{mn}}{\\left (\\xi \\right )} \\frac{d}{d \\eta} \\operatorname{S_{mn}}{\\left (\\eta \\right )}\\right) \\sin{\\left (\\phi \\right )} \\sin{\\left (\\phi m \\right )}}{d \\left(\\eta^{2} - \\xi^{2}\\right)}\\end{matrix}\\right]$$"
      ],
      "text/plain": [
       "<IPython.core.display.Math object>"
      ]
     },
     "metadata": {},
     "output_type": "display_data"
    },
    {
     "data": {
      "text/latex": [
       "$$M_{mn}^{oz} = \\left[\\begin{matrix}- \\frac{2 \\eta m \\operatorname{R_{mn}}{\\left (\\xi \\right )} \\operatorname{S_{mn}}{\\left (\\eta \\right )} \\cos{\\left (\\phi m \\right )}}{d \\sqrt{- \\eta^{2} + 1} \\sqrt{- \\eta^{2} + \\xi^{2}}}\\\\\\frac{2 \\xi m \\operatorname{R_{mn}}{\\left (\\xi \\right )} \\operatorname{S_{mn}}{\\left (\\eta \\right )} \\cos{\\left (\\phi m \\right )}}{d \\sqrt{- \\eta^{2} + \\xi^{2}} \\sqrt{\\xi^{2} - 1}}\\\\\\frac{2 \\sqrt{- \\eta^{2} + 1} \\sqrt{\\xi^{2} - 1} \\left(- \\eta \\operatorname{R_{mn}}{\\left (\\xi \\right )} \\frac{d}{d \\eta} \\operatorname{S_{mn}}{\\left (\\eta \\right )} + \\xi \\operatorname{S_{mn}}{\\left (\\eta \\right )} \\frac{d}{d \\xi} \\operatorname{R_{mn}}{\\left (\\xi \\right )}\\right) \\sin{\\left (\\phi m \\right )}}{d \\left(\\eta^{2} - \\xi^{2}\\right)}\\end{matrix}\\right]$$"
      ],
      "text/plain": [
       "<IPython.core.display.Math object>"
      ]
     },
     "metadata": {},
     "output_type": "display_data"
    }
   ],
   "source": [
    "\n",
    "M_mn_o_x = GetCrossProd(grad_psi_mn_o, x_hat)\n",
    "M_mn_o_y = GetCrossProd(grad_psi_mn_o, y_hat)\n",
    "M_mn_o_z = GetCrossProd(grad_psi_mn_o, z_hat)\n",
    "\n",
    "print(\"Vector wave functions:\")\n",
    "display(Math(r\"M_{mn}^{ox} = \" + latex(M_mn_o_x)))\n",
    "display(Math(r\"M_{mn}^{oy} = \" + latex(M_mn_o_y)))\n",
    "display(Math(r\"M_{mn}^{oz} = \" + latex(M_mn_o_z)))\n"
   ]
  },
  {
   "cell_type": "code",
   "execution_count": 115,
   "metadata": {},
   "outputs": [
    {
     "name": "stdout",
     "output_type": "stream",
     "text": [
      "Vector wave functions:\n"
     ]
    },
    {
     "data": {
      "text/latex": [
       "$$M_{m+1,n}^{e+} = \\left[\\begin{matrix}\\frac{\\left(- \\xi^{2} \\frac{d}{d \\xi} \\operatorname{R_{mn}}{\\left (\\xi \\right )} + \\xi m \\operatorname{R_{mn}}{\\left (\\xi \\right )} + \\frac{d}{d \\xi} \\operatorname{R_{mn}}{\\left (\\xi \\right )}\\right) \\operatorname{S_{mn}}{\\left (\\eta \\right )} \\sin{\\left (\\phi \\left(m + 1\\right) \\right )}}{d \\sqrt{- \\eta^{2} + \\xi^{2}} \\sqrt{\\xi^{2} - 1}}\\\\\\frac{\\left(- \\eta^{2} \\frac{d}{d \\eta} \\operatorname{S_{mn}}{\\left (\\eta \\right )} + \\eta m \\operatorname{S_{mn}}{\\left (\\eta \\right )} + \\frac{d}{d \\eta} \\operatorname{S_{mn}}{\\left (\\eta \\right )}\\right) \\operatorname{R_{mn}}{\\left (\\xi \\right )} \\sin{\\left (\\phi \\left(m + 1\\right) \\right )}}{d \\sqrt{- \\eta^{2} + 1} \\sqrt{- \\eta^{2} + \\xi^{2}}}\\\\- \\frac{\\left(\\eta \\left(\\xi^{2} - 1\\right) \\operatorname{S_{mn}}{\\left (\\eta \\right )} \\frac{d}{d \\xi} \\operatorname{R_{mn}}{\\left (\\xi \\right )} - \\xi \\left(\\eta^{2} - 1\\right) \\operatorname{R_{mn}}{\\left (\\xi \\right )} \\frac{d}{d \\eta} \\operatorname{S_{mn}}{\\left (\\eta \\right )}\\right) \\cos{\\left (\\phi m + \\phi \\right )}}{d \\left(\\eta^{2} - \\xi^{2}\\right)}\\end{matrix}\\right]$$"
      ],
      "text/plain": [
       "<IPython.core.display.Math object>"
      ]
     },
     "metadata": {},
     "output_type": "display_data"
    },
    {
     "data": {
      "text/latex": [
       "$$M_{m+1,n}^{o+} = \\left[\\begin{matrix}\\frac{\\left(\\xi^{2} \\frac{d}{d \\xi} \\operatorname{R_{mn}}{\\left (\\xi \\right )} - \\xi m \\operatorname{R_{mn}}{\\left (\\xi \\right )} - \\frac{d}{d \\xi} \\operatorname{R_{mn}}{\\left (\\xi \\right )}\\right) \\operatorname{S_{mn}}{\\left (\\eta \\right )} \\cos{\\left (\\phi \\left(m + 1\\right) \\right )}}{d \\sqrt{- \\eta^{2} + \\xi^{2}} \\sqrt{\\xi^{2} - 1}}\\\\\\frac{\\left(\\eta^{2} \\frac{d}{d \\eta} \\operatorname{S_{mn}}{\\left (\\eta \\right )} - \\eta m \\operatorname{S_{mn}}{\\left (\\eta \\right )} - \\frac{d}{d \\eta} \\operatorname{S_{mn}}{\\left (\\eta \\right )}\\right) \\operatorname{R_{mn}}{\\left (\\xi \\right )} \\cos{\\left (\\phi \\left(m + 1\\right) \\right )}}{d \\sqrt{- \\eta^{2} + 1} \\sqrt{- \\eta^{2} + \\xi^{2}}}\\\\- \\frac{\\left(\\eta \\left(\\xi^{2} - 1\\right) \\operatorname{S_{mn}}{\\left (\\eta \\right )} \\frac{d}{d \\xi} \\operatorname{R_{mn}}{\\left (\\xi \\right )} - \\xi \\left(\\eta^{2} - 1\\right) \\operatorname{R_{mn}}{\\left (\\xi \\right )} \\frac{d}{d \\eta} \\operatorname{S_{mn}}{\\left (\\eta \\right )}\\right) \\sin{\\left (\\phi m + \\phi \\right )}}{d \\left(\\eta^{2} - \\xi^{2}\\right)}\\end{matrix}\\right]$$"
      ],
      "text/plain": [
       "<IPython.core.display.Math object>"
      ]
     },
     "metadata": {},
     "output_type": "display_data"
    },
    {
     "data": {
      "text/latex": [
       "$$M_{m-1,n}^{e-} = \\left[\\begin{matrix}\\frac{\\left(\\xi^{2} \\frac{d}{d \\xi} \\operatorname{R_{mn}}{\\left (\\xi \\right )} + \\xi m \\operatorname{R_{mn}}{\\left (\\xi \\right )} - \\frac{d}{d \\xi} \\operatorname{R_{mn}}{\\left (\\xi \\right )}\\right) \\operatorname{S_{mn}}{\\left (\\eta \\right )} \\sin{\\left (\\phi \\left(m - 1\\right) \\right )}}{d \\sqrt{- \\eta^{2} + \\xi^{2}} \\sqrt{\\xi^{2} - 1}}\\\\\\frac{\\left(\\eta^{2} \\frac{d}{d \\eta} \\operatorname{S_{mn}}{\\left (\\eta \\right )} + \\eta m \\operatorname{S_{mn}}{\\left (\\eta \\right )} - \\frac{d}{d \\eta} \\operatorname{S_{mn}}{\\left (\\eta \\right )}\\right) \\operatorname{R_{mn}}{\\left (\\xi \\right )} \\sin{\\left (\\phi \\left(m - 1\\right) \\right )}}{d \\sqrt{- \\eta^{2} + 1} \\sqrt{- \\eta^{2} + \\xi^{2}}}\\\\- \\frac{\\left(\\eta \\left(\\xi^{2} - 1\\right) \\operatorname{S_{mn}}{\\left (\\eta \\right )} \\frac{d}{d \\xi} \\operatorname{R_{mn}}{\\left (\\xi \\right )} - \\xi \\left(\\eta^{2} - 1\\right) \\operatorname{R_{mn}}{\\left (\\xi \\right )} \\frac{d}{d \\eta} \\operatorname{S_{mn}}{\\left (\\eta \\right )}\\right) \\cos{\\left (\\phi \\left(m - 1\\right) \\right )}}{d \\left(\\eta^{2} - \\xi^{2}\\right)}\\end{matrix}\\right]$$"
      ],
      "text/plain": [
       "<IPython.core.display.Math object>"
      ]
     },
     "metadata": {},
     "output_type": "display_data"
    },
    {
     "data": {
      "text/latex": [
       "$$M_{m-1,n}^{o-} = \\left[\\begin{matrix}\\frac{\\left(- \\xi^{2} \\frac{d}{d \\xi} \\operatorname{R_{mn}}{\\left (\\xi \\right )} - \\xi m \\operatorname{R_{mn}}{\\left (\\xi \\right )} + \\frac{d}{d \\xi} \\operatorname{R_{mn}}{\\left (\\xi \\right )}\\right) \\operatorname{S_{mn}}{\\left (\\eta \\right )} \\cos{\\left (\\phi \\left(m - 1\\right) \\right )}}{d \\sqrt{- \\eta^{2} + \\xi^{2}} \\sqrt{\\xi^{2} - 1}}\\\\\\frac{\\left(- \\eta^{2} \\frac{d}{d \\eta} \\operatorname{S_{mn}}{\\left (\\eta \\right )} - \\eta m \\operatorname{S_{mn}}{\\left (\\eta \\right )} + \\frac{d}{d \\eta} \\operatorname{S_{mn}}{\\left (\\eta \\right )}\\right) \\operatorname{R_{mn}}{\\left (\\xi \\right )} \\cos{\\left (\\phi \\left(m - 1\\right) \\right )}}{d \\sqrt{- \\eta^{2} + 1} \\sqrt{- \\eta^{2} + \\xi^{2}}}\\\\- \\frac{\\left(\\eta \\left(\\xi^{2} - 1\\right) \\operatorname{S_{mn}}{\\left (\\eta \\right )} \\frac{d}{d \\xi} \\operatorname{R_{mn}}{\\left (\\xi \\right )} - \\xi \\left(\\eta^{2} - 1\\right) \\operatorname{R_{mn}}{\\left (\\xi \\right )} \\frac{d}{d \\eta} \\operatorname{S_{mn}}{\\left (\\eta \\right )}\\right) \\sin{\\left (\\phi \\left(m - 1\\right) \\right )}}{d \\left(\\eta^{2} - \\xi^{2}\\right)}\\end{matrix}\\right]$$"
      ],
      "text/plain": [
       "<IPython.core.display.Math object>"
      ]
     },
     "metadata": {},
     "output_type": "display_data"
    }
   ],
   "source": [
    "M_mplus1n_e_plus = (M_mn_e_x - M_mn_o_y)/2\n",
    "M_mplus1n_o_plus = (M_mn_o_x + M_mn_e_y)/2\n",
    "M_mminus1n_e_minus = (M_mn_e_x + M_mn_o_y)/2\n",
    "M_mminus1n_o_minus = (M_mn_o_x - M_mn_e_y)/2\n",
    "\n",
    "from Electromagnetics.Misc import SymMatrixSimplify\n",
    "\n",
    "M_mplus1n_e_plus = SymMatrixSimplify(M_mplus1n_e_plus)\n",
    "M_mplus1n_o_plus = SymMatrixSimplify(M_mplus1n_o_plus)\n",
    "M_mminus1n_e_minus = SymMatrixSimplify(M_mminus1n_e_minus)\n",
    "M_mminus1n_o_minus = SymMatrixSimplify(M_mminus1n_o_minus)\n",
    "\n",
    "print(\"Vector wave functions:\")\n",
    "display(Math(r\"M_{m+1,n}^{e+} = \" + latex(M_mplus1n_e_plus)))\n",
    "display(Math(r\"M_{m+1,n}^{o+} = \" + latex(M_mplus1n_o_plus)))\n",
    "display(Math(r\"M_{m-1,n}^{e-} = \" + latex(M_mminus1n_e_minus)))\n",
    "display(Math(r\"M_{m-1,n}^{o-} = \" + latex(M_mminus1n_o_minus)))\n"
   ]
  },
  {
   "cell_type": "code",
   "execution_count": 116,
   "metadata": {},
   "outputs": [
    {
     "name": "stdout",
     "output_type": "stream",
     "text": [
      "==================================================\n",
      "M_mplus1n_o_plus\n",
      "eta :  lambda m,n,\\eta,\\xi,\\phi,d: (  (ksi**2*GetDerivativeRadialFunc(4, m, n, c, ksi) - ksi*m*GetRadialFunc(4, m, n, c, ksi) - GetDerivativeRadialFunc(4, m, n, c, ksi))*pro_ang1(m, n, c, eta)[0]*np.cos(phi*(m + 1))/(d*np.sqrt(-eta**2 + ksi**2)*np.sqrt(ksi**2 - 1)))\n",
      "ksi :  lambda m,n,\\eta,\\xi,\\phi,d: (  (eta**2*pro_ang1(m, n, c, eta)[1] - eta*m*pro_ang1(m, n, c, eta)[0] - pro_ang1(m, n, c, eta)[1])*GetRadialFunc(4, m, n, c, ksi)*np.cos(phi*(m + 1))/(d*np.sqrt(-eta**2 + 1)*np.sqrt(-eta**2 + ksi**2)))\n",
      "phi :  lambda m,n,\\eta,\\xi,\\phi,d: (  -(eta*(ksi**2 - 1)*pro_ang1(m, n, c, eta)[0]*GetDerivativeRadialFunc(4, m, n, c, ksi) - ksi*(eta**2 - 1)*GetRadialFunc(4, m, n, c, ksi)*pro_ang1(m, n, c, eta)[1])*np.sin(phi*m + phi)/(d*(eta**2 - ksi**2)))\n",
      "==================================================\n",
      "M_mminus1n_o_minus\n",
      "eta :  lambda m,n,\\eta,\\xi,\\phi,d: (  (-ksi**2*GetDerivativeRadialFunc(4, m, n, c, ksi) - ksi*m*GetRadialFunc(4, m, n, c, ksi) + GetDerivativeRadialFunc(4, m, n, c, ksi))*pro_ang1(m, n, c, eta)[0]*np.cos(phi*(m - 1))/(d*np.sqrt(-eta**2 + ksi**2)*np.sqrt(ksi**2 - 1)))\n",
      "ksi :  lambda m,n,\\eta,\\xi,\\phi,d: (  (-eta**2*pro_ang1(m, n, c, eta)[1] - eta*m*pro_ang1(m, n, c, eta)[0] + pro_ang1(m, n, c, eta)[1])*GetRadialFunc(4, m, n, c, ksi)*np.cos(phi*(m - 1))/(d*np.sqrt(-eta**2 + 1)*np.sqrt(-eta**2 + ksi**2)))\n",
      "phi :  lambda m,n,\\eta,\\xi,\\phi,d: (  -(eta*(ksi**2 - 1)*pro_ang1(m, n, c, eta)[0]*GetDerivativeRadialFunc(4, m, n, c, ksi) - ksi*(eta**2 - 1)*GetRadialFunc(4, m, n, c, ksi)*pro_ang1(m, n, c, eta)[1])*np.sin(phi*(m - 1))/(d*(eta**2 - ksi**2)))\n",
      "==================================================\n",
      "M_mn_o_z\n",
      "eta :  lambda m,n,\\eta,\\xi,\\phi,d: (  -2*eta*m*GetRadialFunc(4, m, n, c, ksi)*pro_ang1(m, n, c, eta)[0]*np.cos(phi*m)/(d*np.sqrt(-eta**2 + 1)*np.sqrt(-eta**2 + ksi**2)))\n",
      "ksi :  lambda m,n,\\eta,\\xi,\\phi,d: (  2*ksi*m*GetRadialFunc(4, m, n, c, ksi)*pro_ang1(m, n, c, eta)[0]*np.cos(phi*m)/(d*np.sqrt(-eta**2 + ksi**2)*np.sqrt(ksi**2 - 1)))\n",
      "phi :  lambda m,n,\\eta,\\xi,\\phi,d: (  2*np.sqrt(-eta**2 + 1)*np.sqrt(ksi**2 - 1)*(-eta*GetRadialFunc(4, m, n, c, ksi)*pro_ang1(m, n, c, eta)[1] + ksi*pro_ang1(m, n, c, eta)[0]*GetDerivativeRadialFunc(4, m, n, c, ksi))*np.sin(phi*m)/(d*(eta**2 - ksi**2)))\n"
     ]
    }
   ],
   "source": [
    "from sympy.utilities.lambdify import lambdastr\n",
    "\n",
    "def GetLambdaStr(expr):\n",
    "    string = lambdastr((m, n, eta, ksi, phi, d), expr)\n",
    "    string = string.replace('# Not supported in Python:\\n  # Derivative\\n  # Derivative\\n  # R_{mn}\\n  # S_{mn}\\n', '')\n",
    "    string = string.replace('# Not supported in Python:\\n  # Derivative\\n  # R_{mn}\\n  # S_{mn}\\n', '')\n",
    "    string = string.replace('# Not supported in Python:\\n  # R_{mn}\\n  # S_{mn}\\n', '')\n",
    "    string = replace_whole_word(string, r'\\eta', 'eta')\n",
    "    string = replace_whole_word(string, r'\\xi', 'ksi')\n",
    "    string = replace_whole_word(string, r'\\phi', 'phi')\n",
    "    string = replace_whole_word(string, r'math', 'np')\n",
    "    string = replace_whole_word(string, r'sqrt', 'np.sqrt')\n",
    "    string = replace_whole_word(string, 'Derivative(S_{mn}(eta), eta)', 'pro_ang1(m, n, c, eta)[1]')\n",
    "    string = replace_whole_word(string, 'S_{mn}(eta)', 'pro_ang1(m, n, c, eta)[0]')\n",
    "    string = replace_whole_word(string, 'Derivative(R_{mn}(ksi), ksi)', 'GetDerivativeRadialFunc(4, m, n, c, ksi)')\n",
    "    string = replace_whole_word(string, 'R_{mn}(ksi)', 'GetRadialFunc(4, m, n, c, ksi)')\n",
    "    return string\n",
    "\n",
    "\n",
    "print(\"=\"*50)\n",
    "print(\"M_mplus1n_o_plus\")\n",
    "print(\"eta : \", GetLambdaStr(M_mplus1n_o_plus[0]))\n",
    "print(\"ksi : \", GetLambdaStr(M_mplus1n_o_plus[1]))\n",
    "print(\"phi : \", GetLambdaStr(M_mplus1n_o_plus[2]))\n",
    "\n",
    "print(\"=\"*50)\n",
    "print(\"M_mminus1n_o_minus\")\n",
    "print(\"eta : \", GetLambdaStr(M_mminus1n_o_minus[0]))\n",
    "print(\"ksi : \", GetLambdaStr(M_mminus1n_o_minus[1]))\n",
    "print(\"phi : \", GetLambdaStr(M_mminus1n_o_minus[2]))\n",
    "\n",
    "print('='*50)\n",
    "print(\"M_mn_o_z\")\n",
    "print(\"eta : \", GetLambdaStr(M_mn_o_z[0]))\n",
    "print(\"ksi : \", GetLambdaStr(M_mn_o_z[1]))\n",
    "print(\"phi : \", GetLambdaStr(M_mn_o_z[2]))\n"
   ]
  },
  {
   "cell_type": "code",
   "execution_count": 117,
   "metadata": {},
   "outputs": [
    {
     "name": "stdout",
     "output_type": "stream",
     "text": [
      "================================================================================\n",
      "incident eta harmonics:\n"
     ]
    },
    {
     "data": {
      "text/latex": [
       "$$expr = \\frac{2 \\left(\\xi m \\operatorname{R_{mn}}{\\left (\\xi \\right )} \\sin{\\left (\\phi \\right )} \\sin{\\left (\\phi m \\right )} + \\left(\\xi^{2} - 1\\right) \\cos{\\left (\\phi \\right )} \\cos{\\left (\\phi m \\right )} \\frac{d}{d \\xi} \\operatorname{R_{mn}}{\\left (\\xi \\right )}\\right) \\operatorname{S_{mn}}{\\left (\\eta \\right )}}{d \\sqrt{- \\eta^{2} + \\xi^{2}} \\sqrt{\\xi^{2} - 1}}$$"
      ],
      "text/plain": [
       "<IPython.core.display.Math object>"
      ]
     },
     "metadata": {},
     "output_type": "display_data"
    },
    {
     "data": {
      "text/latex": [
       "$$expr = \\frac{2 \\left(\\xi m \\left(\\frac{\\cos{\\left (\\phi \\left(m - 1\\right) \\right )}}{2} - \\frac{\\cos{\\left (\\phi \\left(m + 1\\right) \\right )}}{2}\\right) \\operatorname{R_{mn}}{\\left (\\xi \\right )} + \\left(\\xi^{2} - 1\\right) \\left(\\frac{\\cos{\\left (\\phi \\left(m - 1\\right) \\right )}}{2} + \\frac{\\cos{\\left (\\phi \\left(m + 1\\right) \\right )}}{2}\\right) \\frac{d}{d \\xi} \\operatorname{R_{mn}}{\\left (\\xi \\right )}\\right) \\operatorname{S_{mn}}{\\left (\\eta \\right )}}{d \\sqrt{- \\eta^{2} + \\xi^{2}} \\sqrt{\\xi^{2} - 1}}$$"
      ],
      "text/plain": [
       "<IPython.core.display.Math object>"
      ]
     },
     "metadata": {},
     "output_type": "display_data"
    },
    {
     "data": {
      "text/latex": [
       "$$cos((m+1)\\phi)~~~factor = \\frac{2 \\left(- \\frac{\\xi m \\operatorname{R_{mn}}{\\left (\\xi \\right )}}{2} + \\frac{\\left(\\xi^{2} - 1\\right) \\frac{d}{d \\xi} \\operatorname{R_{mn}}{\\left (\\xi \\right )}}{2}\\right) \\operatorname{S_{mn}}{\\left (\\eta \\right )}}{d \\sqrt{- \\eta^{2} + \\xi^{2}} \\sqrt{\\xi^{2} - 1}}$$"
      ],
      "text/plain": [
       "<IPython.core.display.Math object>"
      ]
     },
     "metadata": {},
     "output_type": "display_data"
    },
    {
     "data": {
      "text/latex": [
       "$$cos((m-1)\\phi)~~~factor = \\frac{2 \\left(\\frac{\\xi m \\operatorname{R_{mn}}{\\left (\\xi \\right )}}{2} + \\frac{\\left(\\xi^{2} - 1\\right) \\frac{d}{d \\xi} \\operatorname{R_{mn}}{\\left (\\xi \\right )}}{2}\\right) \\operatorname{S_{mn}}{\\left (\\eta \\right )}}{d \\sqrt{- \\eta^{2} + \\xi^{2}} \\sqrt{\\xi^{2} - 1}}$$"
      ],
      "text/plain": [
       "<IPython.core.display.Math object>"
      ]
     },
     "metadata": {},
     "output_type": "display_data"
    },
    {
     "name": "stdout",
     "output_type": "stream",
     "text": [
      "--------------------------------------------------------------------------------\n",
      "incident phi harmonics:\n"
     ]
    },
    {
     "data": {
      "text/latex": [
       "$$expr = \\frac{2 \\left(- \\eta \\left(\\xi^{2} - 1\\right) \\operatorname{S_{mn}}{\\left (\\eta \\right )} \\frac{d}{d \\xi} \\operatorname{R_{mn}}{\\left (\\xi \\right )} + \\xi \\left(\\eta^{2} - 1\\right) \\operatorname{R_{mn}}{\\left (\\xi \\right )} \\frac{d}{d \\eta} \\operatorname{S_{mn}}{\\left (\\eta \\right )}\\right) \\sin{\\left (\\phi \\right )} \\cos{\\left (\\phi m \\right )}}{d \\left(\\eta^{2} - \\xi^{2}\\right)}$$"
      ],
      "text/plain": [
       "<IPython.core.display.Math object>"
      ]
     },
     "metadata": {},
     "output_type": "display_data"
    },
    {
     "data": {
      "text/latex": [
       "$$expr = \\frac{2 \\left(- \\eta \\left(\\xi^{2} - 1\\right) \\operatorname{S_{mn}}{\\left (\\eta \\right )} \\frac{d}{d \\xi} \\operatorname{R_{mn}}{\\left (\\xi \\right )} + \\xi \\left(\\eta^{2} - 1\\right) \\operatorname{R_{mn}}{\\left (\\xi \\right )} \\frac{d}{d \\eta} \\operatorname{S_{mn}}{\\left (\\eta \\right )}\\right) \\left(- \\frac{\\sin{\\left (\\phi \\left(m - 1\\right) \\right )}}{2} + \\frac{\\sin{\\left (\\phi \\left(m + 1\\right) \\right )}}{2}\\right)}{d \\left(\\eta^{2} - \\xi^{2}\\right)}$$"
      ],
      "text/plain": [
       "<IPython.core.display.Math object>"
      ]
     },
     "metadata": {},
     "output_type": "display_data"
    },
    {
     "data": {
      "text/latex": [
       "$$sin((m+1)\\phi)~~~factor = \\frac{- \\eta \\left(\\xi^{2} - 1\\right) \\operatorname{S_{mn}}{\\left (\\eta \\right )} \\frac{d}{d \\xi} \\operatorname{R_{mn}}{\\left (\\xi \\right )} + \\xi \\left(\\eta^{2} - 1\\right) \\operatorname{R_{mn}}{\\left (\\xi \\right )} \\frac{d}{d \\eta} \\operatorname{S_{mn}}{\\left (\\eta \\right )}}{d \\left(\\eta^{2} - \\xi^{2}\\right)}$$"
      ],
      "text/plain": [
       "<IPython.core.display.Math object>"
      ]
     },
     "metadata": {},
     "output_type": "display_data"
    },
    {
     "data": {
      "text/latex": [
       "$$sin((m-1)\\phi)~~~factor = - \\frac{- \\eta \\left(\\xi^{2} - 1\\right) \\operatorname{S_{mn}}{\\left (\\eta \\right )} \\frac{d}{d \\xi} \\operatorname{R_{mn}}{\\left (\\xi \\right )} + \\xi \\left(\\eta^{2} - 1\\right) \\operatorname{R_{mn}}{\\left (\\xi \\right )} \\frac{d}{d \\eta} \\operatorname{S_{mn}}{\\left (\\eta \\right )}}{d \\left(\\eta^{2} - \\xi^{2}\\right)}$$"
      ],
      "text/plain": [
       "<IPython.core.display.Math object>"
      ]
     },
     "metadata": {},
     "output_type": "display_data"
    },
    {
     "name": "stdout",
     "output_type": "stream",
     "text": [
      "================================================================================\n",
      "TM M^+_o eta harmonics:\n"
     ]
    },
    {
     "data": {
      "text/latex": [
       "$$expr = \\frac{\\left(\\xi^{2} \\frac{d}{d \\xi} \\operatorname{R_{mn}}{\\left (\\xi \\right )} - \\xi m \\operatorname{R_{mn}}{\\left (\\xi \\right )} - \\frac{d}{d \\xi} \\operatorname{R_{mn}}{\\left (\\xi \\right )}\\right) \\operatorname{S_{mn}}{\\left (\\eta \\right )} \\cos{\\left (\\phi \\left(m + 1\\right) \\right )}}{d \\sqrt{- \\eta^{2} + \\xi^{2}} \\sqrt{\\xi^{2} - 1}}$$"
      ],
      "text/plain": [
       "<IPython.core.display.Math object>"
      ]
     },
     "metadata": {},
     "output_type": "display_data"
    },
    {
     "data": {
      "text/latex": [
       "$$cos((m+1)\\phi)~~~factor = \\frac{\\left(\\xi^{2} \\frac{d}{d \\xi} \\operatorname{R_{mn}}{\\left (\\xi \\right )} - \\xi m \\operatorname{R_{mn}}{\\left (\\xi \\right )} - \\frac{d}{d \\xi} \\operatorname{R_{mn}}{\\left (\\xi \\right )}\\right) \\operatorname{S_{mn}}{\\left (\\eta \\right )}}{d \\sqrt{- \\eta^{2} + \\xi^{2}} \\sqrt{\\xi^{2} - 1}}$$"
      ],
      "text/plain": [
       "<IPython.core.display.Math object>"
      ]
     },
     "metadata": {},
     "output_type": "display_data"
    },
    {
     "name": "stdout",
     "output_type": "stream",
     "text": [
      "--------------------------------------------------------------------------------\n",
      "TM M^+_o phi harmonics:\n"
     ]
    },
    {
     "data": {
      "text/latex": [
       "$$expr = - \\frac{\\left(\\eta \\left(\\xi^{2} - 1\\right) \\operatorname{S_{mn}}{\\left (\\eta \\right )} \\frac{d}{d \\xi} \\operatorname{R_{mn}}{\\left (\\xi \\right )} - \\xi \\left(\\eta^{2} - 1\\right) \\operatorname{R_{mn}}{\\left (\\xi \\right )} \\frac{d}{d \\eta} \\operatorname{S_{mn}}{\\left (\\eta \\right )}\\right) \\sin{\\left (\\phi m + \\phi \\right )}}{d \\left(\\eta^{2} - \\xi^{2}\\right)}$$"
      ],
      "text/plain": [
       "<IPython.core.display.Math object>"
      ]
     },
     "metadata": {},
     "output_type": "display_data"
    },
    {
     "data": {
      "text/latex": [
       "$$sin((m+1)\\phi)~~~factor = - \\frac{\\eta \\left(\\xi^{2} - 1\\right) \\operatorname{S_{mn}}{\\left (\\eta \\right )} \\frac{d}{d \\xi} \\operatorname{R_{mn}}{\\left (\\xi \\right )} - \\xi \\left(\\eta^{2} - 1\\right) \\operatorname{R_{mn}}{\\left (\\xi \\right )} \\frac{d}{d \\eta} \\operatorname{S_{mn}}{\\left (\\eta \\right )}}{d \\left(\\eta^{2} - \\xi^{2}\\right)}$$"
      ],
      "text/plain": [
       "<IPython.core.display.Math object>"
      ]
     },
     "metadata": {},
     "output_type": "display_data"
    },
    {
     "name": "stdout",
     "output_type": "stream",
     "text": [
      "================================================================================\n",
      "TM M^-_o eta harmonics:\n"
     ]
    },
    {
     "data": {
      "text/latex": [
       "$$expr = \\frac{\\left(- \\xi^{2} \\frac{d}{d \\xi} \\operatorname{R_{mn}}{\\left (\\xi \\right )} - \\xi m \\operatorname{R_{mn}}{\\left (\\xi \\right )} + \\frac{d}{d \\xi} \\operatorname{R_{mn}}{\\left (\\xi \\right )}\\right) \\operatorname{S_{mn}}{\\left (\\eta \\right )} \\cos{\\left (\\phi \\left(m - 1\\right) \\right )}}{d \\sqrt{- \\eta^{2} + \\xi^{2}} \\sqrt{\\xi^{2} - 1}}$$"
      ],
      "text/plain": [
       "<IPython.core.display.Math object>"
      ]
     },
     "metadata": {},
     "output_type": "display_data"
    },
    {
     "data": {
      "text/latex": [
       "$$cos((m-1)\\phi)~~~factor = \\frac{\\left(- \\xi^{2} \\frac{d}{d \\xi} \\operatorname{R_{mn}}{\\left (\\xi \\right )} - \\xi m \\operatorname{R_{mn}}{\\left (\\xi \\right )} + \\frac{d}{d \\xi} \\operatorname{R_{mn}}{\\left (\\xi \\right )}\\right) \\operatorname{S_{mn}}{\\left (\\eta \\right )}}{d \\sqrt{- \\eta^{2} + \\xi^{2}} \\sqrt{\\xi^{2} - 1}}$$"
      ],
      "text/plain": [
       "<IPython.core.display.Math object>"
      ]
     },
     "metadata": {},
     "output_type": "display_data"
    },
    {
     "name": "stdout",
     "output_type": "stream",
     "text": [
      "--------------------------------------------------------------------------------\n",
      "TM M^-_o phi harmonics:\n"
     ]
    },
    {
     "data": {
      "text/latex": [
       "$$expr = - \\frac{\\left(\\eta \\left(\\xi^{2} - 1\\right) \\operatorname{S_{mn}}{\\left (\\eta \\right )} \\frac{d}{d \\xi} \\operatorname{R_{mn}}{\\left (\\xi \\right )} - \\xi \\left(\\eta^{2} - 1\\right) \\operatorname{R_{mn}}{\\left (\\xi \\right )} \\frac{d}{d \\eta} \\operatorname{S_{mn}}{\\left (\\eta \\right )}\\right) \\sin{\\left (\\phi \\left(m - 1\\right) \\right )}}{d \\left(\\eta^{2} - \\xi^{2}\\right)}$$"
      ],
      "text/plain": [
       "<IPython.core.display.Math object>"
      ]
     },
     "metadata": {},
     "output_type": "display_data"
    },
    {
     "data": {
      "text/latex": [
       "$$sin((m-1)\\phi)~~~factor = - \\frac{\\eta \\left(\\xi^{2} - 1\\right) \\operatorname{S_{mn}}{\\left (\\eta \\right )} \\frac{d}{d \\xi} \\operatorname{R_{mn}}{\\left (\\xi \\right )} - \\xi \\left(\\eta^{2} - 1\\right) \\operatorname{R_{mn}}{\\left (\\xi \\right )} \\frac{d}{d \\eta} \\operatorname{S_{mn}}{\\left (\\eta \\right )}}{d \\left(\\eta^{2} - \\xi^{2}\\right)}$$"
      ],
      "text/plain": [
       "<IPython.core.display.Math object>"
      ]
     },
     "metadata": {},
     "output_type": "display_data"
    },
    {
     "name": "stdout",
     "output_type": "stream",
     "text": [
      "================================================================================\n",
      "TM M^z_o eta harmonics:\n"
     ]
    },
    {
     "data": {
      "text/latex": [
       "$$expr = - \\frac{2 \\eta m \\operatorname{R_{mn}}{\\left (\\xi \\right )} \\operatorname{S_{mn}}{\\left (\\eta \\right )} \\cos{\\left (\\phi m \\right )}}{d \\sqrt{- \\eta^{2} + 1} \\sqrt{- \\eta^{2} + \\xi^{2}}}$$"
      ],
      "text/plain": [
       "<IPython.core.display.Math object>"
      ]
     },
     "metadata": {},
     "output_type": "display_data"
    },
    {
     "data": {
      "text/latex": [
       "$$cos(m\\phi)~~~factor = - \\frac{2 \\eta m \\operatorname{R_{mn}}{\\left (\\xi \\right )} \\operatorname{S_{mn}}{\\left (\\eta \\right )}}{d \\sqrt{- \\eta^{2} + 1} \\sqrt{- \\eta^{2} + \\xi^{2}}}$$"
      ],
      "text/plain": [
       "<IPython.core.display.Math object>"
      ]
     },
     "metadata": {},
     "output_type": "display_data"
    },
    {
     "name": "stdout",
     "output_type": "stream",
     "text": [
      "--------------------------------------------------------------------------------\n",
      "TM M^z_o phi harmonics:\n"
     ]
    },
    {
     "data": {
      "text/latex": [
       "$$expr = \\frac{2 \\sqrt{- \\eta^{2} + 1} \\sqrt{\\xi^{2} - 1} \\left(- \\eta \\operatorname{R_{mn}}{\\left (\\xi \\right )} \\frac{d}{d \\eta} \\operatorname{S_{mn}}{\\left (\\eta \\right )} + \\xi \\operatorname{S_{mn}}{\\left (\\eta \\right )} \\frac{d}{d \\xi} \\operatorname{R_{mn}}{\\left (\\xi \\right )}\\right) \\sin{\\left (\\phi m \\right )}}{d \\left(\\eta^{2} - \\xi^{2}\\right)}$$"
      ],
      "text/plain": [
       "<IPython.core.display.Math object>"
      ]
     },
     "metadata": {},
     "output_type": "display_data"
    },
    {
     "data": {
      "text/latex": [
       "$$sin(m\\phi)~~~factor = \\frac{2 \\sqrt{- \\eta^{2} + 1} \\sqrt{\\xi^{2} - 1} \\left(- \\eta \\operatorname{R_{mn}}{\\left (\\xi \\right )} \\frac{d}{d \\eta} \\operatorname{S_{mn}}{\\left (\\eta \\right )} + \\xi \\operatorname{S_{mn}}{\\left (\\eta \\right )} \\frac{d}{d \\xi} \\operatorname{R_{mn}}{\\left (\\xi \\right )}\\right)}{d \\left(\\eta^{2} - \\xi^{2}\\right)}$$"
      ],
      "text/plain": [
       "<IPython.core.display.Math object>"
      ]
     },
     "metadata": {},
     "output_type": "display_data"
    }
   ],
   "source": [
    "\n",
    "def Get_Einc_harmonics_eta(vbose = True):\n",
    "    expr = M_mn_e_y[0]\n",
    "    if vbose:\n",
    "        print(\"incident eta harmonics:\")\n",
    "        display(Math(r\"expr = \" + latex(expr)))\n",
    "\n",
    "    expr = expr.subs(cos(phi)*cos(m*phi), (cos((m-1)*phi) + cos((m+1)*phi))/2)\n",
    "    expr = expr.subs(sin(phi)*sin(m*phi), (cos((m-1)*phi) - cos((m+1)*phi))/2)\n",
    "    if vbose:\n",
    "        display(Math(r\"expr = \" + latex(expr)))\n",
    "\n",
    "    coeff_m_p1 = expr.subs([(cos((m-1)*phi), 0), (cos((m+1)*phi), 1)])\n",
    "    coeff_m_m1 = expr.subs([(cos((m-1)*phi), 1), (cos((m+1)*phi), 0)])\n",
    "\n",
    "    if vbose:\n",
    "        display(Math(r\"cos((m+1)\\phi)~~~factor = \" + latex(coeff_m_p1)))\n",
    "        display(Math(r\"cos((m-1)\\phi)~~~factor = \" + latex(coeff_m_m1)))\n",
    "        \n",
    "    return coeff_m_p1, coeff_m_m1\n",
    "\n",
    "def Get_Einc_harmonics_phi(vbose = True):\n",
    "    expr = M_mn_e_y[2]\n",
    "    if vbose:\n",
    "        print(\"incident phi harmonics:\")\n",
    "        display(Math(r\"expr = \" + latex(expr)))\n",
    "\n",
    "    expr = expr.subs(sin(phi)*cos(m*phi), (sin((m+1)*phi) - sin((m-1)*phi))/2)\n",
    "    expr = expr.subs(cos(phi)*sin(m*phi), (sin((m+1)*phi) + sin((m-1)*phi))/2)\n",
    "    if vbose:\n",
    "        display(Math(r\"expr = \" + latex(expr)))\n",
    "\n",
    "    coeff_m_p1 = expr.subs([(sin((m-1)*phi), 0), (sin((m+1)*phi), 1)])\n",
    "    coeff_m_m1 = expr.subs([(sin((m-1)*phi), 1), (sin((m+1)*phi), 0)])\n",
    "\n",
    "    if vbose:\n",
    "        display(Math(r\"sin((m+1)\\phi)~~~factor = \" + latex(coeff_m_p1)))\n",
    "        display(Math(r\"sin((m-1)\\phi)~~~factor = \" + latex(coeff_m_m1)))\n",
    "        \n",
    "    return coeff_m_p1, coeff_m_m1\n",
    "\n",
    "def GetTM_Moplus_harmonics_eta(vbose = True):\n",
    "    expr = M_mplus1n_o_plus[0]\n",
    "    if vbose:\n",
    "        print(\"TM M^+_o eta harmonics:\")\n",
    "        display(Math(r\"expr = \" + latex(expr)))\n",
    "\n",
    "    expr = expr.subs(m*phi + phi, (m+1)*phi)\n",
    "\n",
    "    coeff_m_p1 = expr.subs([(cos((m+1)*phi), 1)])\n",
    "    \n",
    "    if vbose:\n",
    "        display(Math(r\"cos((m+1)\\phi)~~~factor = \" + latex(coeff_m_p1)))\n",
    "        \n",
    "    return coeff_m_p1\n",
    "\n",
    "def GetTM_Moplus_harmonics_phi(vbose = True):\n",
    "    expr = M_mplus1n_o_plus[2]\n",
    "    if vbose:\n",
    "        print(\"TM M^+_o phi harmonics:\")\n",
    "        display(Math(r\"expr = \" + latex(expr)))\n",
    "\n",
    "    expr = expr.subs(m*phi + phi, (m+1)*phi)\n",
    "\n",
    "    coeff_m_p1 = expr.subs([(sin((m+1)*phi), 1)])\n",
    "    \n",
    "    if vbose:\n",
    "        display(Math(r\"sin((m+1)\\phi)~~~factor = \" + latex(coeff_m_p1)))\n",
    "        \n",
    "    return coeff_m_p1\n",
    "\n",
    "def GetTM_Mominus_harmonics_eta(vbose = True):\n",
    "    expr = M_mminus1n_o_minus[0]\n",
    "    if vbose:\n",
    "        print(\"TM M^-_o eta harmonics:\")\n",
    "        display(Math(r\"expr = \" + latex(expr)))\n",
    "\n",
    "    expr = expr.subs(m*phi - phi, (m-1)*phi)\n",
    "\n",
    "    coeff_m_m1 = expr.subs([(cos((m-1)*phi), 1)])\n",
    "    \n",
    "    if vbose:\n",
    "        display(Math(r\"cos((m-1)\\phi)~~~factor = \" + latex(coeff_m_m1)))\n",
    "        \n",
    "    return coeff_m_m1\n",
    "\n",
    "def GetTM_Mominus_harmonics_phi(vbose = True):\n",
    "    expr = M_mminus1n_o_minus[2]\n",
    "    if vbose:\n",
    "        print(\"TM M^-_o phi harmonics:\")\n",
    "        display(Math(r\"expr = \" + latex(expr)))\n",
    "\n",
    "    expr = expr.subs(m*phi - phi, (m-1)*phi)\n",
    "\n",
    "    coeff_m_m1 = expr.subs([(sin((m-1)*phi), 1)])\n",
    "    \n",
    "    if vbose:\n",
    "        display(Math(r\"sin((m-1)\\phi)~~~factor = \" + latex(coeff_m_m1)))\n",
    "        \n",
    "    return coeff_m_m1\n",
    "\n",
    "\n",
    "def GetTM_Mzo_harmonics_eta(vbose = True):\n",
    "    expr = M_mn_o_z[0]\n",
    "    if vbose:\n",
    "        print(\"TM M^z_o eta harmonics:\")\n",
    "        display(Math(r\"expr = \" + latex(expr)))\n",
    "\n",
    "    coeff_m = expr.subs([(cos(m*phi), 1)])\n",
    "    \n",
    "    if vbose:\n",
    "        display(Math(r\"cos(m\\phi)~~~factor = \" + latex(coeff_m)))\n",
    "        \n",
    "    return coeff_m\n",
    "\n",
    "def GetTM_Mzo_harmonics_phi(vbose = True):\n",
    "    expr = M_mn_o_z[2]\n",
    "    if vbose:\n",
    "        print(\"TM M^z_o phi harmonics:\")\n",
    "        display(Math(r\"expr = \" + latex(expr)))\n",
    "\n",
    "    coeff_m = expr.subs([(sin(m*phi), 1)])\n",
    "    \n",
    "    if vbose:\n",
    "        display(Math(r\"sin(m\\phi)~~~factor = \" + latex(coeff_m)))\n",
    "        \n",
    "    return coeff_m\n",
    "\n",
    "print(\"=\"*80)\n",
    "inc_eta_coeff_m_p1, inc_eta_coeff_m_m1 = Get_Einc_harmonics_eta()\n",
    "print(\"-\"*80)\n",
    "inc_phi_coeff_m_p1, inc_phi_coeff_m_m1 = Get_Einc_harmonics_phi()\n",
    "\n",
    "print(\"=\"*80)\n",
    "M_o_plus_eta_coeff_cos_m_p1 = GetTM_Moplus_harmonics_eta()\n",
    "print(\"-\"*80)\n",
    "M_o_plus_phi_coeff_sin_m_p1 = GetTM_Moplus_harmonics_phi()\n",
    "\n",
    "print(\"=\"*80)\n",
    "M_o_minus_eta_coeff_cos_m_m1 = GetTM_Mominus_harmonics_eta()\n",
    "print(\"-\"*80)\n",
    "M_o_minus_phi_coeff_sin_m_m1 = GetTM_Mominus_harmonics_phi()\n",
    "\n",
    "print(\"=\"*80)\n",
    "M_o_z_eta_coeff_cos_m = GetTM_Mzo_harmonics_eta()\n",
    "print(\"-\"*80)\n",
    "M_o_z_phi_coeff_sin_m = GetTM_Mzo_harmonics_phi()\n"
   ]
  },
  {
   "cell_type": "code",
   "execution_count": 120,
   "metadata": {},
   "outputs": [
    {
     "data": {
      "text/latex": [
       "$$M_o^+ ,_\\eta, cos(m+1): \\left(\\xi^{2} \\frac{\\partial}{\\partial \\xi} R{\\left (4,m,n,\\xi \\right )} - \\xi m R{\\left (4,m,n,\\xi \\right )} - \\frac{\\partial}{\\partial \\xi} R{\\left (4,m,n,\\xi \\right )}\\right) S{\\left (m,n,\\eta \\right )}$$"
      ],
      "text/plain": [
       "<IPython.core.display.Math object>"
      ]
     },
     "metadata": {},
     "output_type": "display_data"
    },
    {
     "data": {
      "text/latex": [
       "$$M_o^+ ,_\\phi, sin(m+1): \\eta \\left(\\xi^{2} - 1\\right) S{\\left (m,n,\\eta \\right )} \\frac{\\partial}{\\partial \\xi} R{\\left (4,m,n,\\xi \\right )} - \\xi \\left(\\eta^{2} - 1\\right) R{\\left (4,m,n,\\xi \\right )} \\frac{\\partial}{\\partial \\eta} S{\\left (m,n,\\eta \\right )}$$"
      ],
      "text/plain": [
       "<IPython.core.display.Math object>"
      ]
     },
     "metadata": {},
     "output_type": "display_data"
    },
    {
     "data": {
      "text/latex": [
       "$$M_o^z ,_\\eta, cos(m): - \\frac{2 \\eta m \\sqrt{\\xi^{2} - 1} R{\\left (4,m,n,\\xi \\right )} S{\\left (m,n,\\eta \\right )}}{\\sqrt{- \\eta^{2} + 1}}$$"
      ],
      "text/plain": [
       "<IPython.core.display.Math object>"
      ]
     },
     "metadata": {},
     "output_type": "display_data"
    },
    {
     "data": {
      "text/latex": [
       "$$M_o^z ,_\\phi, sin(m): 2 \\sqrt{- \\eta^{2} + 1} \\sqrt{\\xi^{2} - 1} \\left(\\eta R{\\left (4,m,n,\\xi \\right )} \\frac{\\partial}{\\partial \\eta} S{\\left (m,n,\\eta \\right )} - \\xi S{\\left (m,n,\\eta \\right )} \\frac{\\partial}{\\partial \\xi} R{\\left (4,m,n,\\xi \\right )}\\right)$$"
      ],
      "text/plain": [
       "<IPython.core.display.Math object>"
      ]
     },
     "metadata": {},
     "output_type": "display_data"
    },
    {
     "data": {
      "text/latex": [
       "$$M_o^z ,_\\eta, cos(m+1): - \\frac{2 \\eta \\sqrt{\\xi^{2} - 1} \\left(m + 1\\right) R{\\left (4,m + 1,n,\\xi \\right )} S{\\left (m + 1,n,\\eta \\right )}}{\\sqrt{- \\eta^{2} + 1}}$$"
      ],
      "text/plain": [
       "<IPython.core.display.Math object>"
      ]
     },
     "metadata": {},
     "output_type": "display_data"
    },
    {
     "data": {
      "text/latex": [
       "$$M_o^z ,_\\phi, sin(m+1): 2 \\sqrt{- \\eta^{2} + 1} \\sqrt{\\xi^{2} - 1} \\left(\\eta R{\\left (4,m + 1,n,\\xi \\right )} \\frac{\\partial}{\\partial \\eta} S{\\left (m + 1,n,\\eta \\right )} - \\xi S{\\left (m + 1,n,\\eta \\right )} \\frac{\\partial}{\\partial \\xi} R{\\left (4,m + 1,n,\\xi \\right )}\\right)$$"
      ],
      "text/plain": [
       "<IPython.core.display.Math object>"
      ]
     },
     "metadata": {},
     "output_type": "display_data"
    },
    {
     "data": {
      "text/latex": [
       "$$M_o^- ,_\\eta, cos(m-1): \\left(- \\xi^{2} \\frac{\\partial}{\\partial \\xi} R{\\left (4,m,n,\\xi \\right )} - \\xi m R{\\left (4,m,n,\\xi \\right )} + \\frac{\\partial}{\\partial \\xi} R{\\left (4,m,n,\\xi \\right )}\\right) S{\\left (m,n,\\eta \\right )}$$"
      ],
      "text/plain": [
       "<IPython.core.display.Math object>"
      ]
     },
     "metadata": {},
     "output_type": "display_data"
    },
    {
     "data": {
      "text/latex": [
       "$$M_o^- ,_\\phi, sin(m-1): \\eta \\left(\\xi^{2} - 1\\right) S{\\left (m,n,\\eta \\right )} \\frac{\\partial}{\\partial \\xi} R{\\left (4,m,n,\\xi \\right )} - \\xi \\left(\\eta^{2} - 1\\right) R{\\left (4,m,n,\\xi \\right )} \\frac{\\partial}{\\partial \\eta} S{\\left (m,n,\\eta \\right )}$$"
      ],
      "text/plain": [
       "<IPython.core.display.Math object>"
      ]
     },
     "metadata": {},
     "output_type": "display_data"
    },
    {
     "data": {
      "text/latex": [
       "$$M_o^- ,_\\eta, cos(0): \\left(- \\xi^{2} \\frac{\\partial}{\\partial \\xi} R{\\left (4,1,n,\\xi \\right )} - \\xi R{\\left (4,1,n,\\xi \\right )} + \\frac{\\partial}{\\partial \\xi} R{\\left (4,1,n,\\xi \\right )}\\right) S{\\left (1,n,\\eta \\right )}$$"
      ],
      "text/plain": [
       "<IPython.core.display.Math object>"
      ]
     },
     "metadata": {},
     "output_type": "display_data"
    },
    {
     "data": {
      "text/latex": [
       "$$M_o^- ,_\\phi, sin(0): \\eta \\left(\\xi^{2} - 1\\right) S{\\left (1,n,\\eta \\right )} \\frac{\\partial}{\\partial \\xi} R{\\left (4,1,n,\\xi \\right )} - \\xi \\left(\\eta^{2} - 1\\right) R{\\left (4,1,n,\\xi \\right )} \\frac{\\partial}{\\partial \\eta} S{\\left (1,n,\\eta \\right )}$$"
      ],
      "text/plain": [
       "<IPython.core.display.Math object>"
      ]
     },
     "metadata": {},
     "output_type": "display_data"
    },
    {
     "data": {
      "text/latex": [
       "$$M_I ,_\\eta, cos(m+1) part : - \\left(\\xi m R{\\left (1,m,n,\\xi \\right )} - \\left(\\xi^{2} - 1\\right) \\frac{\\partial}{\\partial \\xi} R{\\left (1,m,n,\\xi \\right )}\\right) S{\\left (m,n,\\eta \\right )}$$"
      ],
      "text/plain": [
       "<IPython.core.display.Math object>"
      ]
     },
     "metadata": {},
     "output_type": "display_data"
    },
    {
     "data": {
      "text/latex": [
       "$$M_I ,_\\eta, cos(m-1) part : \\left(\\xi m R{\\left (1,m,n,\\xi \\right )} + \\left(\\xi^{2} - 1\\right) \\frac{\\partial}{\\partial \\xi} R{\\left (1,m,n,\\xi \\right )}\\right) S{\\left (m,n,\\eta \\right )}$$"
      ],
      "text/plain": [
       "<IPython.core.display.Math object>"
      ]
     },
     "metadata": {},
     "output_type": "display_data"
    },
    {
     "data": {
      "text/latex": [
       "$$M_I ,_\\phi, sin(m+1) part : \\eta \\left(\\xi^{2} - 1\\right) S{\\left (m,n,\\eta \\right )} \\frac{\\partial}{\\partial \\xi} R{\\left (1,m,n,\\xi \\right )} - \\xi \\left(\\eta^{2} - 1\\right) R{\\left (1,m,n,\\xi \\right )} \\frac{\\partial}{\\partial \\eta} S{\\left (m,n,\\eta \\right )}$$"
      ],
      "text/plain": [
       "<IPython.core.display.Math object>"
      ]
     },
     "metadata": {},
     "output_type": "display_data"
    },
    {
     "data": {
      "text/latex": [
       "$$M_I ,_\\phi, sin(m-1) part : - \\eta \\left(\\xi^{2} - 1\\right) S{\\left (m,n,\\eta \\right )} \\frac{\\partial}{\\partial \\xi} R{\\left (1,m,n,\\xi \\right )} + \\xi \\left(\\eta^{2} - 1\\right) R{\\left (1,m,n,\\xi \\right )} \\frac{\\partial}{\\partial \\eta} S{\\left (m,n,\\eta \\right )}$$"
      ],
      "text/plain": [
       "<IPython.core.display.Math object>"
      ]
     },
     "metadata": {},
     "output_type": "display_data"
    },
    {
     "data": {
      "text/latex": [
       "$$M_I ,_\\eta, cos(m+1): - \\left(\\xi m R{\\left (1,m,n,\\xi \\right )} - \\left(\\xi^{2} - 1\\right) \\frac{\\partial}{\\partial \\xi} R{\\left (1,m,n,\\xi \\right )}\\right) S{\\left (m,n,\\eta \\right )} + \\left(\\xi \\left(m + 2\\right) R{\\left (1,m + 2,n,\\xi \\right )} + \\left(\\xi^{2} - 1\\right) \\frac{\\partial}{\\partial \\xi} R{\\left (1,m + 2,n,\\xi \\right )}\\right) S{\\left (m + 2,n,\\eta \\right )}$$"
      ],
      "text/plain": [
       "<IPython.core.display.Math object>"
      ]
     },
     "metadata": {},
     "output_type": "display_data"
    },
    {
     "data": {
      "text/latex": [
       "$$M_I ,_\\phi, sin(m+1): \\eta \\left(\\xi^{2} - 1\\right) S{\\left (m,n,\\eta \\right )} \\frac{\\partial}{\\partial \\xi} R{\\left (1,m,n,\\xi \\right )} - \\eta \\left(\\xi^{2} - 1\\right) S{\\left (m + 2,n,\\eta \\right )} \\frac{\\partial}{\\partial \\xi} R{\\left (1,m + 2,n,\\xi \\right )} - \\xi \\left(\\eta^{2} - 1\\right) R{\\left (1,m,n,\\xi \\right )} \\frac{\\partial}{\\partial \\eta} S{\\left (m,n,\\eta \\right )} + \\xi \\left(\\eta^{2} - 1\\right) R{\\left (1,m + 2,n,\\xi \\right )} \\frac{\\partial}{\\partial \\eta} S{\\left (m + 2,n,\\eta \\right )}$$"
      ],
      "text/plain": [
       "<IPython.core.display.Math object>"
      ]
     },
     "metadata": {},
     "output_type": "display_data"
    },
    {
     "data": {
      "text/latex": [
       "$$M_I ,_\\eta, cos(0): \\left(\\xi R{\\left (1,1,n,\\xi \\right )} + \\left(\\xi^{2} - 1\\right) \\frac{\\partial}{\\partial \\xi} R{\\left (1,1,n,\\xi \\right )}\\right) S{\\left (1,n,\\eta \\right )}$$"
      ],
      "text/plain": [
       "<IPython.core.display.Math object>"
      ]
     },
     "metadata": {},
     "output_type": "display_data"
    },
    {
     "data": {
      "text/latex": [
       "$$M_I ,_\\phi, sin(0): - \\eta \\left(\\xi^{2} - 1\\right) S{\\left (1,n,\\eta \\right )} \\frac{\\partial}{\\partial \\xi} R{\\left (1,1,n,\\xi \\right )} + \\xi \\left(\\eta^{2} - 1\\right) R{\\left (1,1,n,\\xi \\right )} \\frac{\\partial}{\\partial \\eta} S{\\left (1,n,\\eta \\right )}$$"
      ],
      "text/plain": [
       "<IPython.core.display.Math object>"
      ]
     },
     "metadata": {},
     "output_type": "display_data"
    },
    {
     "data": {
      "text/latex": [
       "$$M_I ,_\\eta, cos(1): 2 \\left(\\xi^{2} - 1\\right) S{\\left (0,n,\\eta \\right )} \\frac{\\partial}{\\partial \\xi} R{\\left (1,0,n,\\xi \\right )}$$"
      ],
      "text/plain": [
       "<IPython.core.display.Math object>"
      ]
     },
     "metadata": {},
     "output_type": "display_data"
    },
    {
     "data": {
      "text/latex": [
       "$$M_I ,_\\phi, sin(1): 2 \\eta \\left(\\xi^{2} - 1\\right) S{\\left (0,n,\\eta \\right )} \\frac{\\partial}{\\partial \\xi} R{\\left (1,0,n,\\xi \\right )} - 2 \\xi \\left(\\eta^{2} - 1\\right) R{\\left (1,0,n,\\xi \\right )} \\frac{\\partial}{\\partial \\eta} S{\\left (0,n,\\eta \\right )}$$"
      ],
      "text/plain": [
       "<IPython.core.display.Math object>"
      ]
     },
     "metadata": {},
     "output_type": "display_data"
    }
   ],
   "source": [
    "\n",
    "i, n = sym.symbols('i n')\n",
    "R = sym.Function('R')(i, m, n, ksi)\n",
    "S = sym.Function('S')(m, n, eta)\n",
    "\n",
    "eta_factor = d*sqrt(ksi**2 - eta**2)*sqrt(ksi**2 - 1)\n",
    "phi_factor = d*(ksi**2 - eta**2)\n",
    "\n",
    "M_o_p_eta_cos_mp1 = (M_o_plus_eta_coeff_cos_m_p1.subs([(S_mn, S), (R_mn, R.subs(i, 4))])*eta_factor).simplify()\n",
    "M_o_p_phi_sin_mp1 = (M_o_plus_phi_coeff_sin_m_p1.subs([(S_mn, S), (R_mn, R.subs(i, 4))])*phi_factor).simplify()\n",
    "\n",
    "display(Math(r\"M_o^+ ,_\\eta, cos(m+1): \" + latex(M_o_p_eta_cos_mp1)))\n",
    "display(Math(r\"M_o^+ ,_\\phi, sin(m+1): \" + latex(M_o_p_phi_sin_mp1)))\n",
    "\n",
    "M_o_z_eta_cos_m = (M_o_z_eta_coeff_cos_m.subs(m, m).subs([(S_mn, S.subs([(m, m)])), (R_mn, R.subs([(i, 4), (m, m)]))])*eta_factor).simplify()\n",
    "M_o_z_phi_sin_m = (M_o_z_phi_coeff_sin_m.subs(m, m).subs([(S_mn, S.subs([(m, m)])), (R_mn, R.subs([(i, 4), (m, m)]))])*phi_factor).simplify()\n",
    "\n",
    "display(Math(r\"M_o^z ,_\\eta, cos(m): \" + latex(M_o_z_eta_cos_m)))\n",
    "display(Math(r\"M_o^z ,_\\phi, sin(m): \" + latex(M_o_z_phi_sin_m)))\n",
    "\n",
    "M_o_z_eta_cos_mp1 = (M_o_z_eta_coeff_cos_m.subs(m, m+1).subs([(S_mn, S.subs([(m, m+1)])), (R_mn, R.subs([(i, 4), (m, m+1)]))])*eta_factor).simplify()\n",
    "M_o_z_phi_sin_mp1 = (M_o_z_phi_coeff_sin_m.subs(m, m+1).subs([(S_mn, S.subs([(m, m+1)])), (R_mn, R.subs([(i, 4), (m, m+1)]))])*phi_factor).simplify()\n",
    "\n",
    "display(Math(r\"M_o^z ,_\\eta, cos(m+1): \" + latex(M_o_z_eta_cos_mp1)))\n",
    "display(Math(r\"M_o^z ,_\\phi, sin(m+1): \" + latex(M_o_z_phi_sin_mp1)))\n",
    "\n",
    "M_o_m_eta_cos_mm1 = (M_o_minus_eta_coeff_cos_m_m1.subs(m, m).subs([(S_mn, S.subs([(m, m)])), (R_mn, R.subs([(i, 4), (m, m)]))])*eta_factor).simplify()\n",
    "M_o_m_phi_sin_mm1 = (M_o_minus_phi_coeff_sin_m_m1.subs(m, m).subs([(S_mn, S.subs([(m, m)])), (R_mn, R.subs([(i, 4), (m, m)]))])*phi_factor).simplify()\n",
    "\n",
    "display(Math(r\"M_o^- ,_\\eta, cos(m-1): \" + latex(M_o_m_eta_cos_mm1)))\n",
    "display(Math(r\"M_o^- ,_\\phi, sin(m-1): \" + latex(M_o_m_phi_sin_mm1)))\n",
    "\n",
    "M_o_m_eta_cos_0 = (M_o_minus_eta_coeff_cos_m_m1.subs(m, 1).subs([(S_mn, S.subs([(m, 1)])), (R_mn, R.subs([(i, 4), (m, 1)]))])*eta_factor).simplify()\n",
    "M_o_m_phi_sin_0 = (M_o_minus_phi_coeff_sin_m_m1.subs(m, 1).subs([(S_mn, S.subs([(m, 1)])), (R_mn, R.subs([(i, 4), (m, 1)]))])*phi_factor).simplify()\n",
    "\n",
    "display(Math(r\"M_o^- ,_\\eta, cos(0): \" + latex(M_o_m_eta_cos_0)))\n",
    "display(Math(r\"M_o^- ,_\\phi, sin(0): \" + latex(M_o_m_phi_sin_0)))\n",
    "\n",
    "M_I_eta_cos_mp1_part = (inc_eta_coeff_m_p1.subs([(S_mn, S.subs([(m, m)])), (R_mn, R.subs([(i, 1), (m, m)]))])*eta_factor).simplify()\n",
    "M_I_eta_cos_mm1_part = (inc_eta_coeff_m_m1.subs(m, m).subs([(S_mn, S.subs([(m, m)])), (R_mn, R.subs([(i, 1), (m, m)]))])*eta_factor).simplify()\n",
    "M_I_phi_sin_mp1_part = (inc_phi_coeff_m_p1.subs([(S_mn, S.subs([(m, m)])), (R_mn, R.subs([(i, 1), (m, m)]))])*phi_factor).simplify()\n",
    "M_I_phi_sin_mm1_part = (inc_phi_coeff_m_m1.subs(m, m).subs([(S_mn, S.subs([(m, m)])), (R_mn, R.subs([(i, 1), (m, m)]))])*phi_factor).simplify()\n",
    "\n",
    "display(Math(r\"M_I ,_\\eta, cos(m+1) part : \" + latex(M_I_eta_cos_mp1_part)))\n",
    "display(Math(r\"M_I ,_\\eta, cos(m-1) part : \" + latex(M_I_eta_cos_mm1_part)))\n",
    "display(Math(r\"M_I ,_\\phi, sin(m+1) part : \" + latex(M_I_phi_sin_mp1_part)))\n",
    "display(Math(r\"M_I ,_\\phi, sin(m-1) part : \" + latex(M_I_phi_sin_mm1_part)))\n",
    "\n",
    "M_I_eta_cos_mp1 = (inc_eta_coeff_m_p1.subs([(S_mn, S.subs([(m, m)])), (R_mn, R.subs([(i, 1), (m, m)]))])*eta_factor).simplify() + \\\n",
    "         (inc_eta_coeff_m_m1.subs(m, m+2).subs([(S_mn, S.subs([(m, m+2)])), (R_mn, R.subs([(i, 1), (m, m+2)]))])*eta_factor).simplify()\n",
    "M_I_phi_sin_mp1 = (inc_phi_coeff_m_p1.subs([(S_mn, S.subs([(m, m)])), (R_mn, R.subs([(i, 1), (m, m)]))])*phi_factor).simplify() + \\\n",
    "         (inc_phi_coeff_m_m1.subs(m, m+2).subs([(S_mn, S.subs([(m, m+2)])), (R_mn, R.subs([(i, 1), (m, m+2)]))])*phi_factor).simplify()\n",
    "\n",
    "display(Math(r\"M_I ,_\\eta, cos(m+1): \" + latex(M_I_eta_cos_mp1)))\n",
    "display(Math(r\"M_I ,_\\phi, sin(m+1): \" + latex(M_I_phi_sin_mp1)))\n",
    "\n",
    "M_I_eta_cos_0 = (inc_eta_coeff_m_m1.subs(m, 1).subs([(S_mn, S.subs([(m, 1)])), (R_mn, R.subs([(i, 1), (m, 1)]))])*eta_factor).simplify()\n",
    "M_I_phi_sin_0 = (inc_phi_coeff_m_m1.subs(m, 1).subs([(S_mn, S.subs([(m, 1)])), (R_mn, R.subs([(i, 1), (m, 1)]))])*phi_factor).simplify()\n",
    "\n",
    "display(Math(r\"M_I ,_\\eta, cos(0): \" + latex(M_I_eta_cos_0)))\n",
    "display(Math(r\"M_I ,_\\phi, sin(0): \" + latex(M_I_phi_sin_0)))\n",
    "\n",
    "M_I_eta_cos_1 = (inc_eta_coeff_m_p1.subs(m, 0).subs([(S_mn, S.subs([(m, 0)])), (R_mn, R.subs([(i, 1), (m, 0)]))])*eta_factor).simplify() + \\\n",
    "         (inc_eta_coeff_m_m1.subs(m, 0).subs([(S_mn, S.subs([(m, 0)])), (R_mn, R.subs([(i, 1), (m, 0)]))])*eta_factor).simplify()\n",
    "M_I_phi_sin_1 = (inc_phi_coeff_m_p1.subs(m, 0).subs([(S_mn, S.subs([(m, 0)])), (R_mn, R.subs([(i, 1), (m, 0)]))])*phi_factor).simplify() - \\\n",
    "         (inc_phi_coeff_m_m1.subs(m, 0).subs([(S_mn, S.subs([(m, 0)])), (R_mn, R.subs([(i, 1), (m, 0)]))])*phi_factor).simplify()\n",
    "\n",
    "display(Math(r\"M_I ,_\\eta, cos(1): \" + latex(M_I_eta_cos_1)))\n",
    "display(Math(r\"M_I ,_\\phi, sin(1): \" + latex(M_I_phi_sin_1)))\n",
    "\n"
   ]
  },
  {
   "cell_type": "code",
   "execution_count": 98,
   "metadata": {},
   "outputs": [
    {
     "name": "stdout",
     "output_type": "stream",
     "text": [
      "================================================================================\n"
     ]
    },
    {
     "data": {
      "text/latex": [
       "$$Eq ,_\\eta, cos(m+1): - \\frac{2 \\eta \\sqrt{\\xi^{2} - 1} \\left(m + 1\\right) R{\\left (4,m + 1,n + 1,\\xi \\right )} S{\\left (m + 1,n + 1,\\eta \\right )} \\beta{\\left (m + 1,n + 1 \\right )}}{\\sqrt{- \\eta^{2} + 1}} + \\left(- \\left(\\xi m R{\\left (1,m,n,\\xi \\right )} - \\left(\\xi^{2} - 1\\right) \\frac{\\partial}{\\partial \\xi} R{\\left (1,m,n,\\xi \\right )}\\right) S{\\left (m,n,\\eta \\right )} + \\left(\\xi \\left(m + 2\\right) R{\\left (1,m + 2,n,\\xi \\right )} + \\left(\\xi^{2} - 1\\right) \\frac{\\partial}{\\partial \\xi} R{\\left (1,m + 2,n,\\xi \\right )}\\right) S{\\left (m + 2,n,\\eta \\right )}\\right) A{\\left (m,n \\right )} + \\left(\\xi^{2} \\frac{\\partial}{\\partial \\xi} R{\\left (4,m,n,\\xi \\right )} - \\xi m R{\\left (4,m,n,\\xi \\right )} - \\frac{\\partial}{\\partial \\xi} R{\\left (4,m,n,\\xi \\right )}\\right) S{\\left (m,n,\\eta \\right )} \\alpha{\\left (m,n \\right )}$$"
      ],
      "text/plain": [
       "<IPython.core.display.Math object>"
      ]
     },
     "metadata": {},
     "output_type": "display_data"
    },
    {
     "name": "stdout",
     "output_type": "stream",
     "text": [
      "================================================================================\n"
     ]
    },
    {
     "data": {
      "text/latex": [
       "$$Eq ,_\\eta, cos(1): - \\frac{2 \\eta \\sqrt{\\xi^{2} - 1} R{\\left (4,1,n + 1,\\xi \\right )} S{\\left (1,n + 1,\\eta \\right )} \\beta{\\left (1,n + 1 \\right )}}{\\sqrt{- \\eta^{2} + 1}} + 2 \\left(\\xi^{2} - 1\\right) A{\\left (0,n \\right )} S{\\left (0,n,\\eta \\right )} \\frac{\\partial}{\\partial \\xi} R{\\left (1,0,n,\\xi \\right )} + \\left(\\xi^{2} \\frac{\\partial}{\\partial \\xi} R{\\left (4,0,n,\\xi \\right )} - \\frac{\\partial}{\\partial \\xi} R{\\left (4,0,n,\\xi \\right )}\\right) S{\\left (0,n,\\eta \\right )} \\alpha{\\left (0,n \\right )}$$"
      ],
      "text/plain": [
       "<IPython.core.display.Math object>"
      ]
     },
     "metadata": {},
     "output_type": "display_data"
    },
    {
     "name": "stdout",
     "output_type": "stream",
     "text": [
      "================================================================================\n"
     ]
    },
    {
     "data": {
      "text/latex": [
       "$$Eq ,_\\eta, cos(0): \\left(\\xi R{\\left (1,1,n,\\xi \\right )} + \\left(\\xi^{2} - 1\\right) \\frac{\\partial}{\\partial \\xi} R{\\left (1,1,n,\\xi \\right )}\\right) A{\\left (1,n \\right )} S{\\left (1,n,\\eta \\right )} + \\left(- \\xi^{2} \\frac{\\partial}{\\partial \\xi} R{\\left (4,1,n,\\xi \\right )} - \\xi R{\\left (4,1,n,\\xi \\right )} + \\frac{\\partial}{\\partial \\xi} R{\\left (4,1,n,\\xi \\right )}\\right) S{\\left (1,n,\\eta \\right )} \\gamma{\\left (n - 1 \\right )}$$"
      ],
      "text/plain": [
       "<IPython.core.display.Math object>"
      ]
     },
     "metadata": {},
     "output_type": "display_data"
    }
   ],
   "source": [
    "alpha = sym.Function(r'\\alpha')(m, n)\n",
    "beta = sym.Function(r'\\beta')(m, n)\n",
    "gamma = sym.Function(r'\\gamma')(n)\n",
    "A = sym.Function('A')(m, n)\n",
    "\n",
    "## eta components\n",
    "\n",
    "print('='*80)\n",
    "Eq_eta_cos_mp1 = alpha.subs(m, m) * M_o_p_eta_cos_mp1 \\\n",
    "                 + beta.subs([(m, m+1), (n, n+1)]) * M_o_z_eta_cos_mp1.subs(n, n+1) \\\n",
    "                 + A.subs(m, m) * M_I_eta_cos_mp1\n",
    "display(Math(r\"Eq ,_\\eta, cos(m+1): \" + latex(Eq_eta_cos_mp1)))\n",
    "\n",
    "print('='*80)\n",
    "Eq_eta_cos_1 = alpha.subs(m, 0) * M_o_p_eta_cos_mp1.subs(m, 0) \\\n",
    "            + beta.subs([(m, 1), (n, n+1)]) * M_o_z_eta_cos_mp1.subs([(m, 0), (n, n+1)]) \\\n",
    "            + A.subs(m, 0) * M_I_eta_cos_1\n",
    "display(Math(r\"Eq ,_\\eta, cos(1): \" + latex(Eq_eta_cos_1)))\n",
    "\n",
    "print('='*80)\n",
    "Eq_eta_cos_0 = gamma.subs(n, n-1) * M_o_m_eta_cos_0 + beta.subs(m, 0) * M_o_z_eta_cos_mp1.subs(m, -1) \\\n",
    "            + A.subs(m, 1) * M_I_eta_cos_0\n",
    "display(Math(r\"Eq ,_\\eta, cos(0): \" + latex(Eq_eta_cos_0)))"
   ]
  },
  {
   "cell_type": "code",
   "execution_count": 99,
   "metadata": {},
   "outputs": [
    {
     "name": "stdout",
     "output_type": "stream",
     "text": [
      "================================================================================\n"
     ]
    },
    {
     "data": {
      "text/latex": [
       "$$Eq ,_\\phi, sin(m+1): 2 \\sqrt{- \\eta^{2} + 1} \\sqrt{\\xi^{2} - 1} \\left(\\eta R{\\left (4,m + 1,n + 1,\\xi \\right )} \\frac{\\partial}{\\partial \\eta} S{\\left (m + 1,n + 1,\\eta \\right )} - \\xi S{\\left (m + 1,n + 1,\\eta \\right )} \\frac{\\partial}{\\partial \\xi} R{\\left (4,m + 1,n + 1,\\xi \\right )}\\right) \\beta{\\left (m + 1,n + 1 \\right )} + \\left(\\eta \\left(\\xi^{2} - 1\\right) S{\\left (m,n,\\eta \\right )} \\frac{\\partial}{\\partial \\xi} R{\\left (4,m,n,\\xi \\right )} - \\xi \\left(\\eta^{2} - 1\\right) R{\\left (4,m,n,\\xi \\right )} \\frac{\\partial}{\\partial \\eta} S{\\left (m,n,\\eta \\right )}\\right) \\alpha{\\left (m,n \\right )} + \\left(\\eta \\left(\\xi^{2} - 1\\right) S{\\left (m,n,\\eta \\right )} \\frac{\\partial}{\\partial \\xi} R{\\left (1,m,n,\\xi \\right )} - \\eta \\left(\\xi^{2} - 1\\right) S{\\left (m + 2,n,\\eta \\right )} \\frac{\\partial}{\\partial \\xi} R{\\left (1,m + 2,n,\\xi \\right )} - \\xi \\left(\\eta^{2} - 1\\right) R{\\left (1,m,n,\\xi \\right )} \\frac{\\partial}{\\partial \\eta} S{\\left (m,n,\\eta \\right )} + \\xi \\left(\\eta^{2} - 1\\right) R{\\left (1,m + 2,n,\\xi \\right )} \\frac{\\partial}{\\partial \\eta} S{\\left (m + 2,n,\\eta \\right )}\\right) A{\\left (m,n \\right )}$$"
      ],
      "text/plain": [
       "<IPython.core.display.Math object>"
      ]
     },
     "metadata": {},
     "output_type": "display_data"
    },
    {
     "name": "stdout",
     "output_type": "stream",
     "text": [
      "================================================================================\n"
     ]
    },
    {
     "data": {
      "text/latex": [
       "$$Eq ,_\\phi, sin(1): 2 \\sqrt{- \\eta^{2} + 1} \\sqrt{\\xi^{2} - 1} \\left(\\eta R{\\left (4,1,n + 1,\\xi \\right )} \\frac{\\partial}{\\partial \\eta} S{\\left (1,n + 1,\\eta \\right )} - \\xi S{\\left (1,n + 1,\\eta \\right )} \\frac{\\partial}{\\partial \\xi} R{\\left (4,1,n + 1,\\xi \\right )}\\right) \\beta{\\left (0,n + 1 \\right )} + \\left(2 \\eta \\left(\\xi^{2} - 1\\right) S{\\left (0,n,\\eta \\right )} \\frac{\\partial}{\\partial \\xi} R{\\left (1,0,n,\\xi \\right )} - 2 \\xi \\left(\\eta^{2} - 1\\right) R{\\left (1,0,n,\\xi \\right )} \\frac{\\partial}{\\partial \\eta} S{\\left (0,n,\\eta \\right )}\\right) A{\\left (1,n \\right )} + \\left(\\eta \\left(\\xi^{2} - 1\\right) S{\\left (0,n,\\eta \\right )} \\frac{\\partial}{\\partial \\xi} R{\\left (4,0,n,\\xi \\right )} - \\xi \\left(\\eta^{2} - 1\\right) R{\\left (4,0,n,\\xi \\right )} \\frac{\\partial}{\\partial \\eta} S{\\left (0,n,\\eta \\right )}\\right) \\alpha{\\left (0,n \\right )}$$"
      ],
      "text/plain": [
       "<IPython.core.display.Math object>"
      ]
     },
     "metadata": {},
     "output_type": "display_data"
    },
    {
     "name": "stdout",
     "output_type": "stream",
     "text": [
      "================================================================================\n"
     ]
    },
    {
     "data": {
      "text/latex": [
       "$$Eq ,_\\phi, sin(0): 2 \\sqrt{- \\eta^{2} + 1} \\sqrt{\\xi^{2} - 1} \\left(\\eta R{\\left (4,0,n,\\xi \\right )} \\frac{\\partial}{\\partial \\eta} S{\\left (0,n,\\eta \\right )} - \\xi S{\\left (0,n,\\eta \\right )} \\frac{\\partial}{\\partial \\xi} R{\\left (4,0,n,\\xi \\right )}\\right) \\beta{\\left (0,n \\right )} + \\left(- \\eta \\left(\\xi^{2} - 1\\right) S{\\left (1,n,\\eta \\right )} \\frac{\\partial}{\\partial \\xi} R{\\left (1,1,n,\\xi \\right )} + \\xi \\left(\\eta^{2} - 1\\right) R{\\left (1,1,n,\\xi \\right )} \\frac{\\partial}{\\partial \\eta} S{\\left (1,n,\\eta \\right )}\\right) A{\\left (1,n \\right )} + \\left(\\eta \\left(\\xi^{2} - 1\\right) S{\\left (1,n,\\eta \\right )} \\frac{\\partial}{\\partial \\xi} R{\\left (4,1,n,\\xi \\right )} - \\xi \\left(\\eta^{2} - 1\\right) R{\\left (4,1,n,\\xi \\right )} \\frac{\\partial}{\\partial \\eta} S{\\left (1,n,\\eta \\right )}\\right) \\gamma{\\left (n \\right )}$$"
      ],
      "text/plain": [
       "<IPython.core.display.Math object>"
      ]
     },
     "metadata": {},
     "output_type": "display_data"
    }
   ],
   "source": [
    "## phi components\n",
    "\n",
    "print('='*80)\n",
    "Eq_phi_sin_mp1 = alpha.subs(m, m) * M_o_p_phi_sin_mp1 \\\n",
    "                 + beta.subs([(m, m+1), (n, n+1)]) * M_o_z_phi_sin_mp1.subs(n, n+1) \\\n",
    "                 + A.subs(m, m) * M_I_phi_sin_mp1\n",
    "display(Math(r\"Eq ,_\\phi, sin(m+1): \" + latex(Eq_phi_sin_mp1)))\n",
    "\n",
    "print('='*80)\n",
    "Eq_phi_sin_1 = alpha.subs(m, 0) * M_o_p_phi_sin_mp1.subs(m, 0) \\\n",
    "               + beta.subs([(m, 0), (n, n+1)]) * M_o_z_phi_sin_mp1.subs([(m, 0), (n, n+1)]) \\\n",
    "               + A.subs(m, 1) * M_I_phi_sin_1\n",
    "display(Math(r\"Eq ,_\\phi, sin(1): \" + latex(Eq_phi_sin_1)))\n",
    "\n",
    "print('='*80)\n",
    "Eq_eta_sin_0 = gamma * M_o_m_phi_sin_0 + beta.subs(m, 0) * M_o_z_phi_sin_mp1.subs(m, -1) \\\n",
    "            + A.subs(m, 1) * M_I_phi_sin_0\n",
    "display(Math(r\"Eq ,_\\phi, sin(0): \" + latex(Eq_eta_sin_0)))\n"
   ]
  },
  {
   "cell_type": "code",
   "execution_count": 30,
   "metadata": {},
   "outputs": [
    {
     "name": "stdout",
     "output_type": "stream",
     "text": [
      "a = 0.00015,  b = 2.7386127875258307e-06,  ksi = 1.0003334444814937,  d = 0.00014994999999999999 \n",
      "c_0 = 1.5713598052082731 \n",
      "condition:  3.695750056289893e+32\n",
      "error:  8.505433029906627e-22\n",
      "{36: (1, 1), 37: (1, 2), 38: (1, 3), 39: (1, 4), 40: (1, 5), 41: (1, 6), 42: (1, 7), 43: (1, 8), 44: (2, 2), 45: (2, 3), 46: (2, 4), 47: (2, 5), 48: (2, 6), 49: (2, 7), 50: (2, 8), 51: (3, 3), 52: (3, 4), 53: (3, 5), 54: (3, 6), 55: (3, 7), 56: (3, 8), 57: (4, 4), 58: (4, 5), 59: (4, 6), 60: (4, 7), 61: (4, 8), 62: (5, 5), 63: (5, 6), 64: (5, 7), 65: (5, 8), 66: (6, 6), 67: (6, 7), 68: (6, 8), 69: (7, 7), 70: (7, 8), 71: (8, 8)}\n"
     ]
    },
    {
     "data": {
      "image/png": "[encoded data removed]",
      "text/plain": [
       "<Figure size 432x288 with 2 Axes>"
      ]
     },
     "metadata": {
      "needs_background": "light"
     },
     "output_type": "display_data"
    },
    {
     "data": {
      "image/png": "[encoded data removed]",
      "text/plain": [
       "<Figure size 432x288 with 2 Axes>"
      ]
     },
     "metadata": {
      "needs_background": "light"
     },
     "output_type": "display_data"
    },
    {
     "name": "stdout",
     "output_type": "stream",
     "text": [
      "==================================================\n",
      "1.7068e-01+3.0977e-05j 1.7068e-01+3.0983e-05j -1.7068e-01-3.4921e-05j || 1.00000e+00\n",
      "9.9850e-01+1.8099e-02j 9.9850e-01+1.8099e-02j -9.9850e-01-1.8099e-02j || 1.00000e+00\n",
      "9.9914e-01+2.4893e-02j 9.9914e-01+2.4893e-02j -9.9914e-01-2.4893e-02j || 1.00000e+00\n",
      "9.9927e-01+2.9583e-02j 9.9927e-01+2.9583e-02j -9.9927e-01-2.9583e-02j || 1.00000e+00\n",
      "9.9928e-01+3.3078e-02j 9.9928e-01+3.3078e-02j -9.9928e-01-3.3078e-02j || 1.00000e+00\n",
      "9.9927e-01+3.5730e-02j 9.9927e-01+3.5730e-02j -9.9927e-01-3.5730e-02j || 1.00000e+00\n",
      "9.9924e-01+3.7717e-02j 9.9924e-01+3.7717e-02j -9.9924e-01-3.7717e-02j || 1.00000e+00\n",
      "9.9921e-01+3.9141e-02j 9.9921e-01+3.9141e-02j -9.9921e-01-3.9141e-02j || 1.00000e+00\n",
      "9.9919e-01+4.0062e-02j 9.9919e-01+4.0062e-02j -9.9919e-01-4.0062e-02j || 1.00000e+00\n",
      "9.9918e-01+4.0515e-02j 9.9918e-01+4.0515e-02j -9.9918e-01-4.0515e-02j || 1.00000e+00\n",
      "9.9918e-01+4.0515e-02j 9.9918e-01+4.0515e-02j -9.9918e-01-4.0515e-02j || 1.00000e+00\n",
      "9.9919e-01+4.0062e-02j 9.9919e-01+4.0062e-02j -9.9919e-01-4.0062e-02j || 1.00000e+00\n",
      "9.9921e-01+3.9141e-02j 9.9921e-01+3.9141e-02j -9.9921e-01-3.9141e-02j || 1.00000e+00\n",
      "9.9924e-01+3.7717e-02j 9.9924e-01+3.7717e-02j -9.9924e-01-3.7717e-02j || 1.00000e+00\n",
      "9.9927e-01+3.5730e-02j 9.9927e-01+3.5730e-02j -9.9927e-01-3.5730e-02j || 1.00000e+00\n",
      "9.9928e-01+3.3078e-02j 9.9928e-01+3.3078e-02j -9.9928e-01-3.3078e-02j || 1.00000e+00\n",
      "9.9927e-01+2.9583e-02j 9.9927e-01+2.9583e-02j -9.9927e-01-2.9583e-02j || 1.00000e+00\n",
      "9.9914e-01+2.4893e-02j 9.9914e-01+2.4893e-02j -9.9914e-01-2.4893e-02j || 1.00000e+00\n",
      "9.9850e-01+1.8099e-02j 9.9850e-01+1.8099e-02j -9.9850e-01-1.8099e-02j || 1.00000e+00\n",
      "1.7068e-01+3.0977e-05j 1.7068e-01+3.0983e-05j -1.7068e-01-3.4921e-05j || 1.00000e+00\n",
      "--------------------------------------------------\n",
      "-9.853e-01-1.788e-04j -9.853e-01-1.788e-04j 7.301e+02+5.858e+02j || 936.071\n",
      "-5.164e-02-9.361e-04j -5.164e-02-9.361e-04j 4.275e+01+3.385e+01j || 54.528\n",
      "-3.318e-02-8.266e-04j -3.318e-02-8.266e-04j 3.016e+01+2.363e+01j || 38.317\n",
      "-2.420e-02-7.166e-04j -2.420e-02-7.166e-04j 2.380e+01+1.850e+01j || 30.146\n",
      "-1.832e-02-6.064e-04j -1.832e-02-6.064e-04j 1.923e+01+1.485e+01j || 24.294\n",
      "-1.388e-02-4.961e-04j -1.388e-02-4.961e-04j 1.536e+01+1.180e+01j || 19.366\n",
      "-1.022e-02-3.859e-04j -1.022e-02-3.859e-04j 1.179e+01+9.027e+00j || 14.851\n",
      "-7.037e-03-2.756e-04j -7.037e-03-2.756e-04j 8.369e+00+6.389e+00j || 10.529\n",
      "-4.125e-03-1.654e-04j -4.125e-03-1.654e-04j 5.005e+00+3.815e+00j || 6.293\n",
      "-1.360e-03-5.513e-05j -1.360e-03-5.513e-05j 1.666e+00+1.269e+00j || 2.095\n",
      "1.360e-03+5.513e-05j 1.360e-03+5.513e-05j -1.666e+00-1.269e+00j || 2.095\n",
      "4.125e-03+1.654e-04j 4.125e-03+1.654e-04j -5.005e+00-3.815e+00j || 6.293\n",
      "7.037e-03+2.756e-04j 7.037e-03+2.756e-04j -8.369e+00-6.389e+00j || 10.529\n",
      "1.022e-02+3.859e-04j 1.022e-02+3.859e-04j -1.179e+01-9.027e+00j || 14.851\n",
      "1.388e-02+4.961e-04j 1.388e-02+4.961e-04j -1.536e+01-1.180e+01j || 19.366\n",
      "1.832e-02+6.064e-04j 1.832e-02+6.064e-04j -1.923e+01-1.485e+01j || 24.294\n",
      "2.420e-02+7.166e-04j 2.420e-02+7.166e-04j -2.380e+01-1.850e+01j || 30.146\n",
      "3.318e-02+8.266e-04j 3.318e-02+8.266e-04j -3.016e+01-2.363e+01j || 38.317\n",
      "5.164e-02+9.361e-04j 5.164e-02+9.361e-04j -4.275e+01-3.385e+01j || 54.528\n",
      "9.853e-01+1.788e-04j 9.853e-01+1.788e-04j -7.301e+02-5.858e+02j || 936.071\n"
     ]
    },
    {
     "data": {
      "image/png": "[encoded data removed]",
      "text/plain": [
       "<Figure size 432x288 with 2 Axes>"
      ]
     },
     "metadata": {
      "needs_background": "light"
     },
     "output_type": "display_data"
    }
   ],
   "source": [
    "%matplotlib inline\n",
    "from scipy.special import pro_rad1, pro_rad2, pro_ang1\n",
    "from scipy import constants\n",
    "import numpy as np\n",
    "import matplotlib.pyplot as plt\n",
    "import matplotlib\n",
    "\n",
    "font = {'family' : 'serif', 'weight' : 'normal', 'size'   : 14}\n",
    "matplotlib.rc('font', **font)\n",
    "\n",
    "def Map2DIndexTo1D(m_0, m_1, ind_start = 0):\n",
    "    ## m = m_0 .. m_1-1   n = m ... m_1-1\n",
    "    map2DTo1D, map1DTo2D = {}, {}\n",
    "    ind = ind_start\n",
    "    for m in range(m_0, m_1):\n",
    "        for n in range(m, m_1):\n",
    "            map2DTo1D[(m,n)] = ind\n",
    "            map1DTo2D[ind] = (m, n)\n",
    "            ind += 1\n",
    "    return map2DTo1D, map1DTo2D\n",
    "            \n",
    "def GetRadialFunc(i, m, n, c, x):\n",
    "    if i == 1:\n",
    "        return pro_rad1(m, n, c, x)[0]\n",
    "    elif i == 2:\n",
    "        return pro_rad2(m, n, c, x)[0]\n",
    "    elif i == 3:\n",
    "        return pro_rad1(m, n, c, x)[0] + 1j*pro_rad2(m, n, c, x)[0]\n",
    "    elif i == 4:\n",
    "        return pro_rad1(m, n, c, x)[0] - 1j*pro_rad2(m, n, c, x)[0]\n",
    "    else:\n",
    "        assert False\n",
    "\n",
    "def GetDerivativeRadialFunc(i, m, n, c, x):\n",
    "    if i == 1:\n",
    "        return pro_rad1(m, n, c, x)[1]\n",
    "    elif i == 2:\n",
    "        return pro_rad2(m, n, c, x)[1]\n",
    "    elif i == 3:\n",
    "        return pro_rad1(m, n, c, x)[1] + 1j*pro_rad2(m, n, c, x)[1]\n",
    "    elif i == 4:\n",
    "        return pro_rad1(m, n, c, x)[1] - 1j*pro_rad2(m, n, c, x)[1]\n",
    "    else:\n",
    "        assert False\n",
    "\n",
    "def GetIncExpansionCoeffs_Amn(E0, k, theta_0, m, n, c):\n",
    "    eps_m = 2.0\n",
    "    if m==0:\n",
    "        eps_m = 1.0\n",
    "    N_mn = GetInt_Sm_mpn_Sm_mpN(c, m, n-m, n-m)\n",
    "    A_mn = 2.0* eps_m * pro_ang1(m, n, c, np.cos(theta_0))[0] / N_mn\n",
    "    \n",
    "    j_nm1 = 1j**((n-1)%4)\n",
    "    \n",
    "    return E0/k * j_nm1 * A_mn\n",
    "\n",
    "def ConstructMatrix(E0, k, theta_0, ksi_0, c_0, N_t):\n",
    "    alphaInd_2DTo1D, alphaInd_1DTo2D = Map2DIndexTo1D(0, N_t)\n",
    "    n_total = len(alphaInd_2DTo1D)\n",
    "    betaInd_2DTo1D, betaInd_1DTo2D = Map2DIndexTo1D(1, N_t+1, n_total)\n",
    "    n_total += len(betaInd_2DTo1D)\n",
    "    gammaInd = [n_total + i for i in range(N_t - 1)]\n",
    "    n_total += len(gammaInd)\n",
    "    \n",
    "\n",
    "    ##construct coefficient marix\n",
    "    A = np.zeros((n_total, n_total), dtype=complex)\n",
    "    b = np.zeros(n_total, dtype=complex)\n",
    "    \n",
    "    ## eta: cos(m*phi) m=1..Nt\n",
    "    for m in range(0, N_t):\n",
    "        for N in range(m, N_t):\n",
    "            ind_row = alphaInd_2DTo1D[(m, N)]\n",
    "            for n in range(m, N_t):\n",
    "                ind_col = alphaInd_2DTo1D[(m, n)]\n",
    "                elem = ((ksi_0**2 - 1)*GetDerivativeRadialFunc(4, m, n, c_0, ksi_0) \\\n",
    "                        - ksi_0*m*GetRadialFunc(4, m, n, c_0, ksi_0)) \\\n",
    "                        * GetInt_Sm_mpn_Sm_mpN(c_0, m, n-m, N-m)\n",
    "                \n",
    "                A[ind_row, ind_col] += elem\n",
    "\n",
    "                ind_col = betaInd_2DTo1D[(m+1, n+1)]\n",
    "                elem = -2.0*np.sqrt(ksi_0**2 - 1)*(m+1)*GetRadialFunc(4, m+1, n+1, c_0, ksi_0) \\\n",
    "                        * GetInt_Smp1_mpnp1_Sm_mpN_x_div_sqrt_1mx2(c_0, m, n-m, N-m)\n",
    "                \n",
    "                A[ind_row, ind_col] += elem\n",
    "            \n",
    "                ##---- rhs\n",
    "                A_mn = GetIncExpansionCoeffs_Amn(E0, k, theta_0, m, n, c_0)\n",
    "                b[ind_row] -= A_mn * \\\n",
    "                              ( \\\n",
    "                                  -ksi_0*m*GetRadialFunc(1, m, n, c_0, ksi_0) \\\n",
    "                                  + (ksi_0**2 - 1)*GetDerivativeRadialFunc(1, m, n, c_0, ksi_0) \\\n",
    "                              ) * GetInt_Sm_mpn_Sm_mpN(c_0, m, n-m, N-m)\n",
    "                A_mp2np2 = GetIncExpansionCoeffs_Amn(E0, k, theta_0, m+2, n+2, c_0)\n",
    "                b[ind_row] -= A_mp2np2 * \\\n",
    "                              ( \\\n",
    "                                  ksi_0*(m+2)*GetRadialFunc(1, m+2, n+2, c_0, ksi_0) \\\n",
    "                                  + (ksi_0**2 - 1)*GetDerivativeRadialFunc(1, m+2, n+2, c_0, ksi_0) \\\n",
    "                              ) * GetInt_Smp2_mpnp2_Sm_mpN(c_0, m, n-m, N-m)\n",
    "                if m==0:\n",
    "                    A_0n = GetIncExpansionCoeffs_Amn(E0, k, theta_0, 0, n, c_0)\n",
    "                    b[ind_row] -= A_0n * (ksi_0**2 - 1)*GetDerivativeRadialFunc(1, m, n, c_0, ksi_0) \\\n",
    "                                       * GetInt_Sm_mpn_Sm_mpN(c_0, m, n-m, N-m)\n",
    "                \n",
    "            \n",
    "    ## eta: cos(0*phi)\n",
    "    for N in range(N_t - 1):\n",
    "        ind_row = gammaInd[N]\n",
    "        for n in range(N_t - 1):\n",
    "            ind_col = gammaInd[n]\n",
    "            \n",
    "            elem = (-(ksi_0**2 - 1)*GetDerivativeRadialFunc(4, 1, n+1, c_0, ksi_0) \\\n",
    "                    - ksi_0*1*GetRadialFunc(4, 1, n+1, c_0, ksi_0)) \\\n",
    "                    * GetInt_Sm_mpn_Sm_mpN(c_0, 1, n, N)\n",
    "\n",
    "            A[ind_row, ind_col] += elem\n",
    "            \n",
    "            ## rhs\n",
    "            A_1np1 = GetIncExpansionCoeffs_Amn(E0, k, theta_0, 1, n+1, c_0)\n",
    "            b[ind_row] -= A_1np1 * \\\n",
    "                              ( \\\n",
    "                                  ksi_0*GetRadialFunc(1, 1, n+1, c_0, ksi_0) \\\n",
    "                                  + (ksi_0**2 - 1)*GetDerivativeRadialFunc(1, 1, n+1, c_0, ksi_0) \\\n",
    "                              ) * GetInt_Sm_mpn_Sm_mpN(c_0, 1, n, N)\n",
    "                    \n",
    "            \n",
    "    ## phi: sin(m*phi), m=1...Nt-2\n",
    "    for m in range(0, N_t):\n",
    "        for N in range(m, N_t):\n",
    "            ind_row = betaInd_2DTo1D[(m+1, N+1)]\n",
    "            for n in range(m, N_t):\n",
    "                ind_col = alphaInd_2DTo1D[(m, n)]\n",
    "                elem = (ksi_0**2 - 1)*GetDerivativeRadialFunc(4, m, n, c_0, ksi_0) \\\n",
    "                        * GetInt_Sm_mpn_Sm_mpN_x(c_0, m, n-m, N-m) \\\n",
    "                    +  \\\n",
    "                        ksi_0 * GetRadialFunc(4, m, n, c_0, ksi_0) \\\n",
    "                        * GetInt_dxSm_mpn_Sm_mpN_1mx2(c_0, m, n-m, N-m) \n",
    "                \n",
    "                A[ind_row, ind_col] += elem\n",
    "\n",
    "                ind_col = betaInd_2DTo1D[(m+1, n+1)]\n",
    "                elem = 2.0*np.sqrt(ksi_0**2 - 1) * \\\n",
    "                        ( \\\n",
    "                            GetRadialFunc(4, m+1, n+1, c_0, ksi_0) \\\n",
    "                            * GetInt_dxSmp1_mpnp1_Sm_mpN_x_sqrt_1mx2(c_0, m, n-m, N-m) \\\n",
    "                        - \\\n",
    "                            ksi_0 * GetDerivativeRadialFunc(4, m+1, n+1, c_0, ksi_0) \\\n",
    "                            * GetInt_Smp1_mpnp1_Sm_mpN_sqrt_1mx2(c_0, m, n-m, N-m) \\\n",
    "                        )\n",
    "\n",
    "                ##---- rhs\n",
    "                A_mn = GetIncExpansionCoeffs_Amn(E0, k, theta_0, m, n, c_0)\n",
    "                b[ind_row] -= A_mn * \\\n",
    "                    ( \\\n",
    "                       ksi_0*GetRadialFunc(1, m, n, c_0, ksi_0)*GetInt_dxSm_mpn_Sm_mpN_1mx2(c_0, m, n-m, N-m) \\\n",
    "                       + (ksi_0**2 - 1)*GetDerivativeRadialFunc(1, m, n, c_0, ksi_0) \\\n",
    "                                       *GetInt_Sm_mpn_Sm_mpN_x(c_0, m, n-m, N-m) \\\n",
    "                    )\n",
    "                A_mp2np2 = GetIncExpansionCoeffs_Amn(E0, k, theta_0, m+2, n+2, c_0)\n",
    "                b[ind_row] += A_mp2np2 * \\\n",
    "                    ( \\\n",
    "                       ksi_0*GetRadialFunc(1, m+2, n+2, c_0, ksi_0)*GetInt_dxSmp2_mpnp2_Sm_mpN_1mx2(c_0, m, n-m, N-m) \\\n",
    "                       + (ksi_0**2 - 1)*GetDerivativeRadialFunc(1, m+2, n+2, c_0, ksi_0) \\\n",
    "                                       *GetInt_Smp2_mpnp2_Sm_mpN_x(c_0, m, n-m, N-m) \\\n",
    "                    )\n",
    "                if m==0:\n",
    "                    A_0n = GetIncExpansionCoeffs_Amn(E0, k, theta_0, 0, n, c_0)\n",
    "                    b[ind_row] -= A_0n * \\\n",
    "                    ( \\\n",
    "                       ksi_0*GetRadialFunc(1, m, n, c_0, ksi_0)*GetInt_dxSm_mpn_Sm_mpN_1mx2(c_0, m, n-m, N-m) \\\n",
    "                       + (ksi_0**2 - 1)*GetDerivativeRadialFunc(1, m, n, c_0, ksi_0) \\\n",
    "                                       *GetInt_Sm_mpn_Sm_mpN_x(c_0, m, n-m, N-m) \\\n",
    "                    )                    \n",
    "\n",
    "                A[ind_row, ind_col] += elem\n",
    "    return A, b\n",
    "\n",
    "def GetAlphaBetaGamma_from_X(x, N_t):\n",
    "    alphaInd_2DTo1D, alphaInd_1DTo2D = Map2DIndexTo1D(0, N_t)\n",
    "    n_total = len(alphaInd_2DTo1D)\n",
    "    n_end_alpha = n_total\n",
    "    \n",
    "    betaInd_2DTo1D, betaInd_1DTo2D = Map2DIndexTo1D(1, N_t+1, n_total)\n",
    "    n_total += len(betaInd_2DTo1D)\n",
    "    n_end_beta = n_total\n",
    "\n",
    "    gammaInd = [n_total + i for i in range(N_t - 1)]\n",
    "    n_total += len(gammaInd)\n",
    "        \n",
    "    alpha = np.zeros((N_t, N_t), dtype=complex)\n",
    "    beta = np.zeros((N_t+1, N_t+1), dtype=complex)\n",
    "    gamma = np.zeros(N_t, dtype=complex)\n",
    "    \n",
    "    for i in range(n_end_alpha):\n",
    "        alpha[alphaInd_1DTo2D[i]] = x[i]\n",
    "    print(betaInd_1DTo2D)\n",
    "    for i in range(n_end_alpha, n_end_beta):\n",
    "        beta[betaInd_1DTo2D[i]] = x[i]\n",
    "    for i in range(n_end_beta, len(x)):\n",
    "        gamma[i - n_end_beta + 1] = x[i]\n",
    "        \n",
    "    return alpha, beta, gamma\n",
    "    \n",
    "def Get_ProlateSpheroidParameters(tipRadius, length):\n",
    "    b2_div_a = tipRadius\n",
    "    a = length/2.0\n",
    "    b = np.sqrt(b2_div_a * a)\n",
    "    \n",
    "    # d*ksi = a     d*sqrt(ksi**2 - 1) = b\n",
    "    # ksi**2 * (1 - (b/a)**2) = 1\n",
    "    ksi = 1.0/(1.0 - (b/a)**2)\n",
    "    d = a / ksi\n",
    "    \n",
    "    return a, b, ksi, d\n",
    "    \n",
    "def Get_c0(freq, d):\n",
    "    lambda_0 = constants.c / freq\n",
    "    k = 2.0*np.pi/lambda_0\n",
    "    c0 = k*d/2\n",
    "    return c0\n",
    "\n",
    "def GetETMonSurface_direct(E_0, k, etas, ksi_0, phi_0, d):\n",
    "    import numpy as np\n",
    "    assert phi_0 == 0\n",
    "    n = len(etas)\n",
    "    E_eta = np.zeros(n, dtype=complex)\n",
    "    E_ksi = np.zeros(n, dtype=complex)\n",
    "    for i in range(n):\n",
    "        eta = etas[i]\n",
    "        z_hat_eta = ksi_0*np.sqrt((1 - eta**2)/(ksi_0**2 - eta**2))\n",
    "        z_hat_ksi = eta * np.sqrt((ksi_0**2 - 1)/(ksi_0**2 - eta**2))\n",
    "        x = d/2*np.sqrt(1 - eta**2)*np.sqrt(ksi_0**2 - 1)*np.cos(phi_0)\n",
    "        E_eta[i] = E_0*np.exp(1j*k*x)*z_hat_eta\n",
    "        E_ksi[i] = E_0*np.exp(1j*k*x)*z_hat_ksi\n",
    "    return E_eta, E_ksi\n",
    "\n",
    "def GetETMonSurface_expansion(E_0, k, etas, ksi_0, phi_0, d, c_0):\n",
    "    assert phi_0 == 0\n",
    "    theta_0 = np.pi/2\n",
    "    n_eta = len(etas)\n",
    "    E_eta = np.zeros(n_eta, dtype=complex)\n",
    "    E_ksi = np.zeros(n_eta, dtype=complex)\n",
    "    N = 10\n",
    "    for i in range(n_eta):\n",
    "        eta = etas[i]\n",
    "        for m in range(N):\n",
    "            for n in range(m, N):\n",
    "                A_mn = GetIncExpansionCoeffs_Amn(E_0, k, theta_0, m, n, c_0)\n",
    "                E_eta[i] += A_mn * 2*(ksi_0**2 - 1)*GetDerivativeRadialFunc(1, m, n, c_0, ksi_0) \\\n",
    "                                     *pro_ang1(m, n, c_0, eta)[0] \\\n",
    "                                    /(d*np.sqrt(ksi_0**2 - eta**2)*np.sqrt(ksi_0**2 - 1))\n",
    "                E_ksi[i] += A_mn * (-2)*(1 - eta**2)*pro_ang1(m, n, c_0, eta)[1] \\\n",
    "                                    *GetRadialFunc(1, m, n, c_0, ksi_0) \\\n",
    "                                    /(d*np.sqrt(ksi_0**2 - eta**2)*np.sqrt(1 - eta**2))\n",
    "    return E_eta, E_ksi\n",
    "\n",
    "def GetM_mplus1n_o_plus_eta(eta, ksi, phi, m, n, c, d):\n",
    "    return  (ksi**2*GetDerivativeRadialFunc(4, m, n, c, ksi) - ksi*m*GetRadialFunc(4, m, n, c, ksi) - GetDerivativeRadialFunc(4, m, n, c, ksi))*pro_ang1(m, n, c, eta)[0]*np.cos(phi*(m + 1))/(d*np.sqrt(-eta**2 + ksi**2)*np.sqrt(ksi**2 - 1))\n",
    "def GetM_mplus1n_o_plus_ksi(eta, ksi, phi, m, n, c, d):\n",
    "    return (eta**2*pro_ang1(m, n, c, eta)[1] - eta*m*pro_ang1(m, n, c, eta)[0] - pro_ang1(m, n, c, eta)[1])*GetRadialFunc(4, m, n, c, ksi)*np.cos(phi*(m + 1))/(d*np.sqrt(-eta**2 + 1)*np.sqrt(-eta**2 + ksi**2))\n",
    "def GetM_mplus1n_o_plus_phi(eta, ksi, phi, m, n, c, d):\n",
    "    return -(eta*(ksi**2 - 1)*pro_ang1(m, n, c, eta)[0]*GetDerivativeRadialFunc(4, m, n, c, ksi) - ksi*(eta**2 - 1)*GetRadialFunc(4, m, n, c, ksi)*pro_ang1(m, n, c, eta)[1])*np.sin(phi*m + phi)/(d*(eta**2 - ksi**2))\n",
    "\n",
    "def GetM_mminus1n_o_minus_eta(eta, ksi, phi, m, n, c, d):\n",
    "    return  (-ksi**2*GetDerivativeRadialFunc(4, m, n, c, ksi) - ksi*m*GetRadialFunc(4, m, n, c, ksi) + GetDerivativeRadialFunc(4, m, n, c, ksi))*pro_ang1(m, n, c, eta)[0]*np.cos(phi*(m - 1))/(d*np.sqrt(-eta**2 + ksi**2)*np.sqrt(ksi**2 - 1))\n",
    "def GetM_mminus1n_o_minus_ksi(eta, ksi, phi, m, n, c, d):\n",
    "    return  (-eta**2*pro_ang1(m, n, c, eta)[1] - eta*m*pro_ang1(m, n, c, eta)[0] + pro_ang1(m, n, c, eta)[1])*GetRadialFunc(4, m, n, c, ksi)*np.cos(phi*(m - 1))/(d*np.sqrt(-eta**2 + 1)*np.sqrt(-eta**2 + ksi**2))\n",
    "def GetM_mminus1n_o_minus_phi(eta, ksi, phi, m, n, c, d):\n",
    "    return  -(eta*(ksi**2 - 1)*pro_ang1(m, n, c, eta)[0]*GetDerivativeRadialFunc(4, m, n, c, ksi) - ksi*(eta**2 - 1)*GetRadialFunc(4, m, n, c, ksi)*pro_ang1(m, n, c, eta)[1])*np.sin(phi*(m - 1))/(d*(eta**2 - ksi**2))\n",
    "\n",
    "def GetM_mn_o_z_eta(eta, ksi, phi, m, n, c, d):\n",
    "    return  -2*eta*m*GetRadialFunc(4, m, n, c, ksi)*pro_ang1(m, n, c, eta)[0]*np.cos(phi*m)/(d*np.sqrt(-eta**2 + 1)*np.sqrt(-eta**2 + ksi**2))\n",
    "def GetM_mn_o_z_ksi(eta, ksi, phi, m, n, c, d):\n",
    "    return  2*ksi*m*GetRadialFunc(4, m, n, c, ksi)*pro_ang1(m, n, c, eta)[0]*np.cos(phi*m)/(d*np.sqrt(-eta**2 + ksi**2)*np.sqrt(ksi**2 - 1))\n",
    "def GetM_mn_o_z_phi(eta, ksi, phi, m, n, c, d):\n",
    "    return  2*np.sqrt(-eta**2 + 1)*np.sqrt(ksi**2 - 1)*(-eta*GetRadialFunc(4, m, n, c, ksi)*pro_ang1(m, n, c, eta)[1] + ksi*pro_ang1(m, n, c, eta)[0]*GetDerivativeRadialFunc(4, m, n, c, ksi))*np.sin(phi*m)/(d*(eta**2 - ksi**2))\n",
    "\n",
    "def GetFieldOnSurface(alpha, beta, gamma, etas, ksi_0, phi_0, c, d):\n",
    "    ksi = ksi_0\n",
    "    phi = phi_0\n",
    "    n_eta = len(etas)\n",
    "    E_eta = np.zeros(n_eta, dtype=complex)\n",
    "    E_ksi = np.zeros(n_eta, dtype=complex)\n",
    "    for i in range(n_eta):\n",
    "        eta = etas[i]\n",
    "        M, N = alpha.shape\n",
    "        for m in range(M):\n",
    "            for n in range(m, N):\n",
    "                E_eta[i] += alpha[m, n]*GetM_mplus1n_o_plus_eta(eta, ksi, phi, m, n, c, d)\n",
    "                E_ksi[i] += alpha[m, n]*GetM_mplus1n_o_plus_ksi(eta, ksi, phi, m, n, c, d)\n",
    "\n",
    "        M, N = beta.shape\n",
    "        for m in range(M):\n",
    "            for n in range(m, N):\n",
    "                E_eta[i] += beta[m, n]*GetM_mn_o_z_eta(eta, ksi, phi, m, n, c, d)\n",
    "                E_ksi[i] += beta[m, n]*GetM_mn_o_z_ksi(eta, ksi, phi, m, n, c, d)\n",
    "\n",
    "        N = len(gamma)\n",
    "        for n in range(1,N):\n",
    "            E_eta[i] += gamma[n]*GetM_mminus1n_o_minus_eta(eta, ksi, phi, 1, n, c, d)\n",
    "            E_ksi[i] += gamma[n]*GetM_mminus1n_o_minus_ksi(eta, ksi, phi, 1, n, c, d)\n",
    "              \n",
    "    return E_eta, E_ksi\n",
    "\n",
    "def GetFieldAtCartesianPoints(alpha, beta, gamma, r_pts, c, d, E0, k, totalField=True):\n",
    "    ## r = [x, y, z]\n",
    "    n_pts = len(r_pts)\n",
    "    E_eta = np.zeros(n_pts, dtype=complex)\n",
    "    E_ksi = np.zeros(n_pts, dtype=complex)\n",
    "    E_phi = np.zeros(n_pts, dtype=complex)\n",
    "    for i in range(n_pts):\n",
    "        x, y, z = r_pts[i]\n",
    "        eta, ksi, phi = CoordinatePointTransformRectToSpheroid(x, y, z, d)\n",
    "        M, N = alpha.shape\n",
    "        for m in range(M):\n",
    "            for n in range(m, N):\n",
    "                E_eta[i] += alpha[m, n]*GetM_mplus1n_o_plus_eta(eta, ksi, phi, m, n, c, d)\n",
    "                E_ksi[i] += alpha[m, n]*GetM_mplus1n_o_plus_ksi(eta, ksi, phi, m, n, c, d)\n",
    "                E_phi[i] += alpha[m, n]*GetM_mplus1n_o_plus_phi(eta, ksi, phi, m, n, c, d)\n",
    "\n",
    "        M, N = beta.shape\n",
    "        for m in range(M):\n",
    "            for n in range(m, N):\n",
    "                E_eta[i] += beta[m, n]*GetM_mn_o_z_eta(eta, ksi, phi, m, n, c, d)\n",
    "                E_ksi[i] += beta[m, n]*GetM_mn_o_z_ksi(eta, ksi, phi, m, n, c, d)\n",
    "                E_phi[i] += beta[m, n]*GetM_mn_o_z_phi(eta, ksi, phi, m, n, c, d)\n",
    "\n",
    "        N = len(gamma)\n",
    "        for n in range(1,N):\n",
    "            E_eta[i] += gamma[n]*GetM_mminus1n_o_minus_eta(eta, ksi, phi, 1, n, c, d)\n",
    "            E_ksi[i] += gamma[n]*GetM_mminus1n_o_minus_ksi(eta, ksi, phi, 1, n, c, d)\n",
    "            E_phi[i] += gamma[n]*GetM_mminus1n_o_minus_phi(eta, ksi, phi, 1, n, c, d)\n",
    "\n",
    "        if totalField:\n",
    "            z_hat_eta = ksi*np.sqrt((1 - eta**2)/(ksi**2 - eta**2))\n",
    "            z_hat_ksi = eta * np.sqrt((ksi**2 - 1)/(ksi**2 - eta**2))\n",
    "            #x = d/2*np.sqrt(1 - eta**2)*np.sqrt(ksi**2 - 1)*np.cos(phi)\n",
    "            E_eta[i] += E_0*np.exp(1j*k*x)*z_hat_eta\n",
    "            E_ksi[i] += E_0*np.exp(1j*k*x)*z_hat_ksi\n",
    "            \n",
    "    return E_eta, E_ksi, E_phi\n",
    "                \n",
    "def CoordinatePointTransformSpheroidToRect(eta, ksi, phi, d):\n",
    "    x = d/2*sqrt((1 - eta**2))*sqrt((ksi**2 - 1))*cos(phi)\n",
    "    y = d/2*sqrt((1 - eta**2))*sqrt((ksi**2 - 1))*sin(phi)\n",
    "    z = d/2*eta*ksi\n",
    "    return x, y, z\n",
    "\n",
    "def CoordinatePointTransformRectToSpheroid(x, y, z, d):\n",
    "    ksi = (np.sqrt(x**2 + y**2 + (z + d/2)**2) + np.sqrt(x**2 + y**2 + (z - d/2)**2))/d\n",
    "    eta = (np.sqrt(x**2 + y**2 + (z + d/2)**2) - np.sqrt(x**2 + y**2 + (z - d/2)**2))/d\n",
    "    phi = np.arctan2(y, x)\n",
    "    return eta, ksi, phi\n",
    "    \n",
    "def PlotFieldAroundTipAtXZPlane(Dx, Dz, nx, nz, ksi_0, alpha, beta, gamma, a, c, d, E0, k, totalField=True):\n",
    "    x = np.linspace(-Dx/2, Dx/2, nx)\n",
    "    z = np.linspace(a/2-Dz/2, a/2+Dz/2, nz)\n",
    "    X, Z = np.meshgrid(x, z, indexing=\"ij\")\n",
    "    \n",
    "    r_pts = []\n",
    "    r_inds = []\n",
    "    for i in range(nx):\n",
    "        x_i = x[i]\n",
    "        for j in range(nz):\n",
    "            z_j = z[j]\n",
    "            eta, ksi, phi = CoordinatePointTransformRectToSpheroid(x_i, 0.0, z_j, d)\n",
    "            if ksi > ksi_0:\n",
    "                r_pts.append([x_i, 0.0, z_j])\n",
    "                r_inds.append((i, j))\n",
    "    E_eta, E_ksi, E_phi = GetFieldAtCartesianPoints(alpha, beta, gamma, r_pts, c, d, E0, k, totalField)\n",
    "    \n",
    "    E_ksi_mesh = np.zeros(X.shape, dtype=complex)\n",
    "    for i in range(len(r_inds)):\n",
    "        E_ksi_mesh[r_inds[i]] = E_ksi[i]\n",
    "        \n",
    "    E_ksi_mesh *= np.isfinite(E_ksi_mesh)\n",
    "    \n",
    "    #plt.imshow(np.log10(np.abs(E_ksi_mesh.T) + 1.0e-100), origin=\"lower\", vmin=-10)\n",
    "    plt.imshow(np.abs(E_ksi_mesh.T), origin=\"lower\", cmap=\"rainbow\", aspect=\"auto\", \n",
    "               extent=np.array([-Dx/2, Dx/2, -Dz/2, Dz/2])/constants.nano)\n",
    "    plt.colorbar()\n",
    "    plt.xlabel(r'x (nm)', fontsize=18)\n",
    "    plt.ylabel(r'z (nm)', fontsize=18)\n",
    "    plt.title(r'R=50 nm, f=1 THz, L=300 $\\mu$m', fontsize=18)\n",
    "    plt.savefig(\"other/tip_field.png\", bbox_inches='tight', pad_inches=0.5)\n",
    "    plt.show()\n",
    "\n",
    "tipRadius = 50.0*constants.nano\n",
    "length = 300.0*constants.micro\n",
    "freq = 1.0*constants.tera\n",
    "k = 2.0*np.pi*freq/constants.c\n",
    "E_0 = 1\n",
    "\n",
    "ellipse_a, ellipse_b, ellipse_ksi, ellipse_d = Get_ProlateSpheroidParameters(tipRadius, length)\n",
    "print(\"a = {},  b = {},  ksi = {},  d = {} \".format(ellipse_a, ellipse_b, ellipse_ksi, ellipse_d))\n",
    "c_0 = Get_c0(freq, ellipse_d)\n",
    "print(\"c_0 = {} \".format(c_0))\n",
    "\n",
    "N_max = 8\n",
    "A, b = ConstructMatrix(E0=E_0, k=k, theta_0=np.pi/2, ksi_0=ellipse_ksi, c_0=c_0, N_t=N_max)\n",
    "cond = np.linalg.cond(A)\n",
    "print(\"condition: \", cond)\n",
    "\n",
    "x = np.linalg.solve(A, b)\n",
    "print(\"error: \", np.linalg.norm(A.dot(x) - b))\n",
    "\n",
    "alpha, beta, gamma = GetAlphaBetaGamma_from_X(x, N_max)\n",
    "#np.set_printoptions(precision=1)\n",
    "#print(\"alpha: \\n\", np.abs(alpha))\n",
    "#print(\"beta: \\n\", np.abs(beta))\n",
    "#print(\"gamma: \\n\", np.abs(gamma))\n",
    "\n",
    "plt.imshow(np.log10(np.abs(alpha) + 1.0e-100))\n",
    "plt.colorbar()\n",
    "plt.show()\n",
    "plt.imshow(np.log10(np.abs(beta) + 1.0e-100))\n",
    "plt.colorbar()\n",
    "plt.show()\n",
    "\n",
    "np.set_printoptions(precision=5)\n",
    "\n",
    "eps = 1.0e-5\n",
    "etas = np.linspace(-1.0+eps, 1.0-eps, 20)\n",
    "phi_0 = 0.0\n",
    "ksi_0 = ellipse_ksi\n",
    "d = ellipse_d\n",
    "E_eta0, E_ksi0 = GetETMonSurface_direct(E_0, k, etas, ksi_0, phi_0, d)\n",
    "E_eta1, E_ksi1 = GetETMonSurface_expansion(E_0, k, etas, ksi_0, phi_0, d, c_0)\n",
    "E_eta2, E_ksi2 = GetFieldOnSurface(alpha, beta, gamma, etas, ksi_0, phi_0, c_0, d)\n",
    "\n",
    "print('='*50)\n",
    "for i in range(len(E_eta0)):\n",
    "    print(\"{:.4e} {:.4e} {:.4e} || {:.5e}\".format(E_eta0[i], E_eta1[i], E_eta2[i], abs(E_eta2[i]/E_eta0[i])))\n",
    "print('-'*50)\n",
    "for i in range(len(E_eta0)):\n",
    "    print(\"{:.3e} {:.3e} {:.3e} || {:.3f}\".format(E_ksi0[i], E_ksi1[i], E_ksi2[i], abs(E_ksi2[i])))\n",
    "\n",
    "PlotFieldAroundTipAtXZPlane(Dx=4.0*tipRadius, Dz=4.0*tipRadius, nx=40, nz=40, \n",
    "                            ksi_0=ksi_0, alpha=alpha, beta=beta, gamma=gamma, \n",
    "                            a=ellipse_a, c=c_0, d=ellipse_d, E0=E_0, k=k, totalField=True)"
   ]
  },
  {
   "cell_type": "markdown",
   "metadata": {},
   "source": [
    "### Integrals"
   ]
  },
  {
   "cell_type": "code",
   "execution_count": 2,
   "metadata": {},
   "outputs": [],
   "source": [
    "from scipy.integrate import quadrature, quad\n",
    "import numpy as np\n",
    "from scipy.special import pro_ang1\n",
    "from Electromagnetics import specfun\n",
    "\n",
    "def Get_Int_PmnPmn(m, n):\n",
    "    if m > n:\n",
    "        return 0\n",
    "    fact_mpn_div_fact_mmn = 1.0\n",
    "    for i in range(n + m, max(n - m, 0), -1):\n",
    "        fact_mpn_div_fact_mmn *= i\n",
    "    return 2.0/(2*n + 1)*fact_mpn_div_fact_mmn\n",
    "\n",
    "def Get_Int_Pm2muPmnu(m, mu, nu):\n",
    "    if m + 2 > mu or m > nu:\n",
    "        return 0\n",
    "    if mu < nu:\n",
    "        return 0.0\n",
    "    elif mu == nu:\n",
    "        fact_div = 1.0\n",
    "        for i in range(nu + m, max(nu - m - 2, 0), -1):\n",
    "            fact_div *= i        \n",
    "        return -2.0/(2.0*nu + 1)*fact_div\n",
    "    elif (mu + nu) % 2 == 0:\n",
    "        fact_div = 1.0\n",
    "        for i in range(nu + m, max(nu - m, 0), -1):\n",
    "            fact_div *= i                \n",
    "        return 4*(m + 1)*fact_div\n",
    "    else:\n",
    "        return 0.0\n",
    "    \n",
    "def Get_Int_PmnPmn_div_1mx2(m, n):\n",
    "    if m > n:\n",
    "        return 0\n",
    "    if m!=0:\n",
    "        fact_div = 1.0\n",
    "        for i in range(n + m, max(n - m, 0), -1):\n",
    "            fact_div *= i                \n",
    "        return fact_div / m\n",
    "    else:\n",
    "        return np.inf\n",
    "        \n",
    "\n",
    "def Expand_P_minusm_n(m, n):\n",
    "    coeff = 0.0\n",
    "    if abs(m) <= n:\n",
    "        fact_mpn_div_fact_mmn = 1.0\n",
    "        for i in range(n + m, max(n - m, 0), -1):\n",
    "            fact_mpn_div_fact_mmn *= i        \n",
    "        coeff = 1.0 / fact_mpn_div_fact_mmn\n",
    "        if m % 2 == 1:\n",
    "            coeff *= -1.0\n",
    "    return {(m, n):coeff}\n",
    "\n",
    "def Expand_xPmn(m, n):\n",
    "    return {(m, n-1):(n + m)/(2*n + 1), (m, n+1):(n - m + 1)/(2*n + 1)}\n",
    "\n",
    "def Expand_x_div_sqrt_1mx2_Pmn(m, n):\n",
    "    return {(m-1, n):-(n + m)*(n - m + 1)/(2*m), (m+1, n):-1/(2*m)}\n",
    "    \n",
    "def Expand_1_div_sqrt_1mx2_Pmn__nm1(m, n):\n",
    "    return {(m-1, n-1):-(n + m)*(n + m - 1)/(2*m), (m+1, n-1):-1/(2*m)}\n",
    "\n",
    "def Expand_1_div_sqrt_1mx2_Pmn__np1(m, n):\n",
    "    return {(m-1, n+1):-(n - m + 1)*(n - m + 2)/(2*m), (m+1, n+1):-1/(2*m)}\n",
    "\n",
    "def Expand_1mx2_dxPmn(m, n):\n",
    "    return {(m, n-1):(n + 1)*(n + m)/(2*n + 1), (m, n+1):-n*(n - m + 1)/(2*n + 1)}\n",
    "\n",
    "def Expand_sqrt_1mx2_Pmn__mm1(m, n):\n",
    "    return {(m-1, n-1):-(n + m)*(n + m - 1)/(2*n + 1), (m-1, n+1):(n - m + 1)*(n - m + 2)/(2*n + 1)}\n",
    "\n",
    "def Expand_sqrt_1mx2_Pmn__mp1(m, n):\n",
    "    return {(m+1, n-1):1/(2*n + 1), (m+1, n+1):-1/(2*n + 1)}\n",
    "\n",
    "def Expand_sqrt_1mx2_dxPmn(m, n):\n",
    "    return {(m-1, n):(n + m)*(n - m + 1)/2, (m+1, n):-1.0/2}\n",
    "\n",
    "\n",
    "from Electromagnetics import specfun\n",
    "\n",
    "def Get_Expansion_Coeff_d_mn(m, n, c, thresh_rel=1.0e-14):\n",
    "    cv = specfun.segv(m, n, c, 1)[0]\n",
    "    d_mn = specfun.sdmn(m, n, c, cv, 1)\n",
    "\n",
    "    if m % 2 == 1:\n",
    "        d_mn *= -1.0\n",
    "        \n",
    "    d_inds = None\n",
    "    if (n - m) % 2 == 0:\n",
    "        d_inds = np.array([2*i for i in range(len(d_mn))])\n",
    "    else:\n",
    "        d_inds = np.array([2*i+1 for i in range(len(d_mn))])\n",
    "        \n",
    "    if thresh_rel != 0.0:\n",
    "        d_mn_max = np.max(np.abs(d_mn))\n",
    "        filt = np.abs(d_mn) > d_mn_max*thresh_rel\n",
    "        d_mn = d_mn[filt]\n",
    "        d_inds = d_inds[filt]\n",
    "    else:\n",
    "        ind_max = np.argmax(d_mn==0.0)\n",
    "        if ind_max > 0:\n",
    "            d_mn = d_mn[:ind_max]\n",
    "            d_inds = d_inds[:ind_max]\n",
    "        \n",
    "    return d_mn.copy(), d_inds.copy()\n",
    "\n",
    "## I_1mNn\n",
    "def GetInt_Sm_mpn_Sm_mpN(c, m, n, N):\n",
    "    if n == N:\n",
    "        d_mn, d_inds = Get_Expansion_Coeff_d_mn(m, m+n, c)\n",
    "        I = 0.0\n",
    "        for i in range(len(d_mn)):\n",
    "            I += d_mn[i]**2 * Get_Int_PmnPmn(m, m+d_inds[i])\n",
    "        return I\n",
    "    else:\n",
    "        return 0.0\n",
    "\n",
    "def GetInt_Sm_mpn_Sm_mpN_quad1(c, m, n, N):\n",
    "    def f(x):\n",
    "        return pro_ang1(m, m+n, c, x)[0]*pro_ang1(m, m+N, c, x)[0]\n",
    "    return quad(f, -1, 1)\n",
    "\n",
    "def GetInt_Sm_mpn_Sm_mpN_quad2(c, m, n, N):\n",
    "    def f(x):\n",
    "        cv_n = specfun.segv(m, m+n, c, 1)[0]\n",
    "        cv_N = specfun.segv(m, m+N, c, 1)[0]\n",
    "        return specfun.aswfa(m, m+n, c, x, 1, cv_n)[0]*specfun.aswfa(m, m+N, c, x, 1, cv_N)[0]\n",
    "    return quad(f, -1, 1)\n",
    "\n",
    "## I_2mNn\n",
    "def GetInt_Smp1_mpnp1_Sm_mpN_x_div_sqrt_1mx2(c, m, n, N):\n",
    "    d_q, d_q_inds = Get_Expansion_Coeff_d_mn(m+1, m+n+1, c)\n",
    "    m_q = m + 1\n",
    "    d_r, d_r_inds = Get_Expansion_Coeff_d_mn(m, m+N, c)\n",
    "    m_r = m\n",
    "    len_q = len(d_q_inds)\n",
    "    len_r = len(d_r_inds)\n",
    "    \n",
    "    I = 0.0\n",
    "    for q in range(len(d_q)):\n",
    "        q_expansion = Expand_x_div_sqrt_1mx2_Pmn(m_q, m_q + d_q_inds[q])\n",
    "        for mn_pair in q_expansion:\n",
    "            m_q_expan, n_q_expan = mn_pair\n",
    "            coeff = q_expansion[mn_pair]\n",
    "            if m_q_expan == m_r:\n",
    "                for r in range(len(d_r)):\n",
    "                    if n_q_expan == m_r + d_r_inds[r]:\n",
    "                        I += coeff*d_q[q]*d_r[r]*Get_Int_PmnPmn(m_q_expan, n_q_expan)\n",
    "            elif m_q_expan == m_r + 2:\n",
    "                for r in range(len(d_r)):\n",
    "                    I += coeff*d_q[q]*d_r[r]*Get_Int_Pm2muPmnu(m_r, n_q_expan, m_r + d_r_inds[r])\n",
    "            else:\n",
    "                assert False\n",
    "    return I\n",
    "\n",
    "def GetInt_Smp1_mpnp1_Sm_mpN_x_div_sqrt_1mx2_quad1(c, m, n, N):\n",
    "    def f(x):\n",
    "        return pro_ang1(m+1, m+n+1, c, x)[0]*pro_ang1(m, m+N, c, x)[0]*x/np.sqrt(1 - x**2)\n",
    "    return quad(f, -1, 1)\n",
    "\n",
    "def GetInt_Smp1_mpnp1_Sm_mpN_x_div_sqrt_1mx2_quad2(c, m, n, N):\n",
    "    def f(x):\n",
    "        cv_n = specfun.segv(m+1, m+n+1, c, 1)[0]\n",
    "        cv_N = specfun.segv(m, m+N, c, 1)[0]\n",
    "        return specfun.aswfa(m+1, m+n+1, c, x, 1, cv_n)[0]*specfun.aswfa(m, m+N, c, x, 1, cv_N)[0]*x/np.sqrt(1 - x**2)\n",
    "    return quad(f, -1, 1)\n",
    "\n",
    "## I_3mNn\n",
    "def GetInt_Sm_mpn_Sm_mpN_x(c, m, n, N):\n",
    "    d_q, d_q_inds = Get_Expansion_Coeff_d_mn(m, m+n, c)\n",
    "    m_q = m\n",
    "    d_r, d_r_inds = Get_Expansion_Coeff_d_mn(m, m+N, c)\n",
    "    m_r = m\n",
    "    len_q = len(d_q_inds)\n",
    "    len_r = len(d_r_inds)\n",
    "    \n",
    "    I = 0.0\n",
    "    for q in range(len(d_q)):\n",
    "        q_expansion = Expand_xPmn(m_q, m_q + d_q_inds[q])\n",
    "        for mn_pair in q_expansion:\n",
    "            m_q_expan, n_q_expan = mn_pair\n",
    "            coeff = q_expansion[mn_pair]\n",
    "            if m_q_expan == m_r:\n",
    "                for r in range(len(d_r)):\n",
    "                    if n_q_expan == m_r + d_r_inds[r]:\n",
    "                        I += coeff*d_q[q]*d_r[r]*Get_Int_PmnPmn(m_q_expan, n_q_expan)\n",
    "            else:\n",
    "                assert False\n",
    "    return I\n",
    "\n",
    "def GetInt_Sm_mpn_Sm_mpN_x_quad1(c, m, n, N):\n",
    "    def f(x):\n",
    "        return pro_ang1(m, m+n, c, x)[0]*pro_ang1(m, m+N, c, x)[0]*x\n",
    "    return quad(f, -1, 1)\n",
    "\n",
    "def GetInt_Sm_mpn_Sm_mpN_x_quad2(c, m, n, N):\n",
    "    def f(x):\n",
    "        cv_n = specfun.segv(m, m+n, c, 1)[0]\n",
    "        cv_N = specfun.segv(m, m+N, c, 1)[0]\n",
    "        return specfun.aswfa(m, m+n, c, x, 1, cv_n)[0]*specfun.aswfa(m, m+N, c, x, 1, cv_N)[0]*x\n",
    "    return quad(f, -1, 1)\n",
    "\n",
    "## I_4mNn\n",
    "def GetInt_dxSm_mpn_Sm_mpN_1mx2(c, m, n, N):\n",
    "    d_q, d_q_inds = Get_Expansion_Coeff_d_mn(m, m+n, c)\n",
    "    m_q = m\n",
    "    d_r, d_r_inds = Get_Expansion_Coeff_d_mn(m, m+N, c)\n",
    "    m_r = m\n",
    "    len_q = len(d_q_inds)\n",
    "    len_r = len(d_r_inds)\n",
    "    \n",
    "    I = 0.0\n",
    "    for q in range(len(d_q)):\n",
    "        q_expansion = Expand_1mx2_dxPmn(m_q, m_q + d_q_inds[q])\n",
    "        for mn_pair in q_expansion:\n",
    "            m_q_expan, n_q_expan = mn_pair\n",
    "            coeff = q_expansion[mn_pair]\n",
    "            if m_q_expan == m_r:\n",
    "                for r in range(len(d_r)):\n",
    "                    if n_q_expan == m_r + d_r_inds[r]:\n",
    "                        I += coeff*d_q[q]*d_r[r]*Get_Int_PmnPmn(m_q_expan, n_q_expan)\n",
    "            else:\n",
    "                assert False\n",
    "    return I\n",
    "\n",
    "def GetInt_dxSm_mpn_Sm_mpN_1mx2_quad1(c, m, n, N):\n",
    "    def f(x):\n",
    "        return pro_ang1(m, m+n, c, x)[1]*pro_ang1(m, m+N, c, x)[0]*(1 - x**2)\n",
    "    return quad(f, -1, 1)\n",
    "\n",
    "def GetInt_dxSm_mpn_Sm_mpN_1mx2_quad2(c, m, n, N):\n",
    "    def f(x):\n",
    "        cv_n = specfun.segv(m, m+n, c, 1)[0]\n",
    "        cv_N = specfun.segv(m, m+N, c, 1)[0]\n",
    "        return specfun.aswfa(m, m+n, c, x, 1, cv_n)[1]*specfun.aswfa(m, m+N, c, x, 1, cv_N)[0]*(1 - x**2)\n",
    "    return quad(f, -1, 1)\n",
    "\n",
    "## I_5mNn\n",
    "def GetInt_Smp1_mpnp1_Sm_mpN_sqrt_1mx2(c, m, n, N):\n",
    "    d_q, d_q_inds = Get_Expansion_Coeff_d_mn(m+1, m+n+1, c)\n",
    "    m_q = m + 1\n",
    "    d_r, d_r_inds = Get_Expansion_Coeff_d_mn(m, m+N, c)\n",
    "    m_r = m\n",
    "    len_q = len(d_q_inds)\n",
    "    len_r = len(d_r_inds)\n",
    "    \n",
    "    I = 0.0\n",
    "    for q in range(len(d_q)):\n",
    "        q_expansion = Expand_sqrt_1mx2_Pmn__mm1(m_q, m_q + d_q_inds[q])\n",
    "        for mn_pair in q_expansion:\n",
    "            m_q_expan, n_q_expan = mn_pair\n",
    "            coeff = q_expansion[mn_pair]\n",
    "            if m_q_expan == m_r:\n",
    "                for r in range(len(d_r)):\n",
    "                    if n_q_expan == m_r + d_r_inds[r]:\n",
    "                        I += coeff*d_q[q]*d_r[r]*Get_Int_PmnPmn(m_q_expan, n_q_expan)\n",
    "            else:\n",
    "                assert False\n",
    "    return I\n",
    "\n",
    "def GetInt_Smp1_mpnp1_Sm_mpN_sqrt_1mx2_quad1(c, m, n, N):\n",
    "    def f(x):\n",
    "        return pro_ang1(m+1, m+n+1, c, x)[0]*pro_ang1(m, m+N, c, x)[0]*np.sqrt(1 - x**2)\n",
    "    return quad(f, -1, 1)\n",
    "\n",
    "def GetInt_Smp1_mpnp1_Sm_mpN_sqrt_1mx2_quad2(c, m, n, N):\n",
    "    def f(x):\n",
    "        cv_n = specfun.segv(m+1, m+n+1, c, 1)[0]\n",
    "        cv_N = specfun.segv(m, m+N, c, 1)[0]\n",
    "        return specfun.aswfa(m+1, m+n+1, c, x, 1, cv_n)[0]*specfun.aswfa(m, m+N, c, x, 1, cv_N)[0]*np.sqrt(1 - x**2)\n",
    "    return quad(f, -1, 1)\n",
    "\n",
    "## I_6mNn\n",
    "def GetInt_dxSmp1_mpnp1_Sm_mpN_x_sqrt_1mx2(c, m, n, N):\n",
    "    d_q, d_q_inds = Get_Expansion_Coeff_d_mn(m+1, m+n+1, c)\n",
    "    m_q = m + 1\n",
    "    d_r, d_r_inds = Get_Expansion_Coeff_d_mn(m, m+N, c)\n",
    "    m_r = m\n",
    "    len_q = len(d_q_inds)\n",
    "    len_r = len(d_r_inds)\n",
    "    \n",
    "    I = 0.0\n",
    "    for q in range(len(d_q)):\n",
    "        q_expansion = Expand_sqrt_1mx2_dxPmn(m_q, m_q + d_q_inds[q])\n",
    "        for mn_q_pair in q_expansion:\n",
    "            m_q_expan, n_q_expan = mn_q_pair\n",
    "            coeff_q = q_expansion[mn_q_pair]\n",
    "            if m_q_expan == m_r:\n",
    "                for r in range(len(d_r)):\n",
    "                    r_expansion = Expand_xPmn(m_r, m_r + d_r_inds[r])\n",
    "                    for mn_r_pair in r_expansion:\n",
    "                        m_r_expan, n_r_expan = mn_r_pair\n",
    "                        coeff_r = r_expansion[mn_r_pair]\n",
    "                        assert m_r_expan == m_q_expan\n",
    "                        if n_q_expan == n_r_expan:\n",
    "                            I += coeff_q*coeff_r*d_q[q]*d_r[r]*Get_Int_PmnPmn(m_q_expan, n_q_expan)\n",
    "            elif m_q_expan == m_r + 2:\n",
    "                for r in range(len(d_r)):\n",
    "                    r_expansion = Expand_xPmn(m_r, m_r + d_r_inds[r])\n",
    "                    for mn_r_pair in r_expansion:\n",
    "                        m_r_expan, n_r_expan = mn_r_pair\n",
    "                        coeff_r = r_expansion[mn_r_pair]\n",
    "                        assert m_r_expan + 2 == m_q_expan\n",
    "                        I += coeff_q*coeff_r*d_q[q]*d_r[r]*Get_Int_Pm2muPmnu(m_r_expan, n_q_expan, n_r_expan)\n",
    "            else:\n",
    "                assert False\n",
    "    return I\n",
    "\n",
    "def GetInt_dxSmp1_mpnp1_Sm_mpN_x_sqrt_1mx2_quad1(c, m, n, N):\n",
    "    def f(x):\n",
    "        return pro_ang1(m+1, m+n+1, c, x)[1]*pro_ang1(m, m+N, c, x)[0]*x*np.sqrt(1 - x**2)\n",
    "    return quad(f, -1, 1)\n",
    "\n",
    "def GetInt_dxSmp1_mpnp1_Sm_mpN_x_sqrt_1mx2_quad2(c, m, n, N):\n",
    "    def f(x):\n",
    "        cv_n = specfun.segv(m+1, m+n+1, c, 1)[0]\n",
    "        cv_N = specfun.segv(m, m+N, c, 1)[0]\n",
    "        return specfun.aswfa(m+1, m+n+1, c, x, 1, cv_n)[1]*specfun.aswfa(m, m+N, c, x, 1, cv_N)[0]*x*np.sqrt(1 - x**2)\n",
    "    return quad(f, -1, 1)\n",
    "\n",
    "## I_7mNn\n",
    "def GetInt_Smp2_mpnp2_Sm_mpN(c, m, n, N):\n",
    "    d_q, d_q_inds = Get_Expansion_Coeff_d_mn(m+2, m+n+2, c)\n",
    "    m_q = m + 2\n",
    "    d_r, d_r_inds = Get_Expansion_Coeff_d_mn(m, m+N, c)\n",
    "    m_r = m\n",
    "    len_q = len(d_q_inds)\n",
    "    len_r = len(d_r_inds)\n",
    "    \n",
    "    I = 0.0\n",
    "    for q in range(len(d_q)):\n",
    "        for r in range(len(d_r)):\n",
    "            I += d_q[q]*d_r[r]*Get_Int_Pm2muPmnu(m_r, m_q + d_q_inds[q], m_r + d_r_inds[r])\n",
    "    return I\n",
    "\n",
    "def GetInt_Smp2_mpnp2_Sm_mpN_quad1(c, m, n, N):\n",
    "    def f(x):\n",
    "        return pro_ang1(m+2, m+n+2, c, x)[0]*pro_ang1(m, m+N, c, x)[0]\n",
    "    return quad(f, -1, 1)\n",
    "\n",
    "def GetInt_Smp2_mpnp2_Sm_mpN_quad2(c, m, n, N):\n",
    "    def f(x):\n",
    "        cv_n = specfun.segv(m+2, m+n+2, c, 1)[0]\n",
    "        cv_N = specfun.segv(m, m+N, c, 1)[0]\n",
    "        return specfun.aswfa(m+2, m+n+2, c, x, 1, cv_n)[0]*specfun.aswfa(m, m+N, c, x, 1, cv_N)[0]\n",
    "    return quad(f, -1, 1)\n",
    "\n",
    "## I_8mNn\n",
    "def GetInt_Smp2_mpnp2_Sm_mpN_x(c, m, n, N):\n",
    "    d_q, d_q_inds = Get_Expansion_Coeff_d_mn(m+2, m+n+2, c)\n",
    "    m_q = m + 2\n",
    "    d_r, d_r_inds = Get_Expansion_Coeff_d_mn(m, m+N, c)\n",
    "    m_r = m\n",
    "    len_q = len(d_q_inds)\n",
    "    len_r = len(d_r_inds)\n",
    "    \n",
    "    I = 0.0\n",
    "    for q in range(len(d_q)):\n",
    "        q_expansion = Expand_xPmn(m_q, m_q + d_q_inds[q])\n",
    "        for mn_pair in q_expansion:\n",
    "            m_q_expan, n_q_expan = mn_pair\n",
    "            coeff = q_expansion[mn_pair]\n",
    "            if m_q_expan == m_r + 2:\n",
    "                for r in range(len(d_r)):\n",
    "                    I += coeff*d_q[q]*d_r[r]*Get_Int_Pm2muPmnu(m_r, n_q_expan, m_r + d_r_inds[r])\n",
    "            else:\n",
    "                assert False\n",
    "    return I\n",
    "\n",
    "def GetInt_Smp2_mpnp2_Sm_mpN_x_quad1(c, m, n, N):\n",
    "    def f(x):\n",
    "        return pro_ang1(m+2, m+n+2, c, x)[0]*pro_ang1(m, m+N, c, x)[0]*x\n",
    "    return quad(f, -1, 1)\n",
    "\n",
    "def GetInt_Smp2_mpnp2_Sm_mpN_x_quad2(c, m, n, N):\n",
    "    def f(x):\n",
    "        cv_n = specfun.segv(m+2, m+n+2, c, 1)[0]\n",
    "        cv_N = specfun.segv(m, m+N, c, 1)[0]\n",
    "        return specfun.aswfa(m+2, m+n+2, c, x, 1, cv_n)[0]*specfun.aswfa(m, m+N, c, x, 1, cv_N)[0]*x\n",
    "    return quad(f, -1, 1)\n",
    "\n",
    "## I_9mNn\n",
    "def GetInt_dxSmp2_mpnp2_Sm_mpN_1mx2(c, m, n, N):\n",
    "    d_q, d_q_inds = Get_Expansion_Coeff_d_mn(m+2, m+n+2, c)\n",
    "    m_q = m + 2\n",
    "    d_r, d_r_inds = Get_Expansion_Coeff_d_mn(m, m+N, c)\n",
    "    m_r = m\n",
    "    len_q = len(d_q_inds)\n",
    "    len_r = len(d_r_inds)\n",
    "    \n",
    "    I = 0.0\n",
    "    for q in range(len(d_q)):\n",
    "        q_expansion = Expand_1mx2_dxPmn(m_q, m_q + d_q_inds[q])\n",
    "        for mn_pair in q_expansion:\n",
    "            m_q_expan, n_q_expan = mn_pair\n",
    "            coeff = q_expansion[mn_pair]\n",
    "            if m_q_expan == m_r + 2:\n",
    "                for r in range(len(d_r)):\n",
    "                    I += coeff*d_q[q]*d_r[r]*Get_Int_Pm2muPmnu(m_r, n_q_expan, m_r + d_r_inds[r])\n",
    "            else:\n",
    "                assert False\n",
    "    return I\n",
    "\n",
    "def GetInt_dxSmp2_mpnp2_Sm_mpN_1mx2_quad1(c, m, n, N):\n",
    "    def f(x):\n",
    "        return pro_ang1(m+2, m+n+2, c, x)[1]*pro_ang1(m, m+N, c, x)[0]*(1 - x**2)\n",
    "    return quad(f, -1, 1)\n",
    "\n",
    "def GetInt_dxSmp2_mpnp2_Sm_mpN_1mx2_quad2(c, m, n, N):\n",
    "    def f(x):\n",
    "        cv_n = specfun.segv(m+2, m+n+2, c, 1)[0]\n",
    "        cv_N = specfun.segv(m, m+N, c, 1)[0]\n",
    "        return specfun.aswfa(m+2, m+n+2, c, x, 1, cv_n)[1]*specfun.aswfa(m, m+N, c, x, 1, cv_N)[0]*(1 - x**2)\n",
    "    return quad(f, -1, 1)\n",
    "\n",
    "## I_10Nn\n",
    "def GetInt_S0_n_S1_1pN_sqrt_1mx2(c, n, N):\n",
    "    d_q, d_q_inds = Get_Expansion_Coeff_d_mn(0, n, c)\n",
    "    m_q = 0\n",
    "    d_r, d_r_inds = Get_Expansion_Coeff_d_mn(1, 1+N, c)\n",
    "    m_r = 1\n",
    "    len_q = len(d_q_inds)\n",
    "    len_r = len(d_r_inds)\n",
    "    \n",
    "    I = 0.0\n",
    "    for q in range(len(d_q)):\n",
    "        q_expansion = Expand_sqrt_1mx2_Pmn__mp1(m_q, m_q + d_q_inds[q])\n",
    "        for mn_pair in q_expansion:\n",
    "            m_q_expan, n_q_expan = mn_pair\n",
    "            coeff = q_expansion[mn_pair]\n",
    "            if m_q_expan == m_r:\n",
    "                for r in range(len(d_r)):\n",
    "                    if n_q_expan == m_r + d_r_inds[r]:\n",
    "                        I += coeff*d_q[q]*d_r[r]*Get_Int_PmnPmn(m_q_expan, n_q_expan)\n",
    "            else:\n",
    "                assert False\n",
    "    return I\n",
    "\n",
    "def GetInt_S0_n_S1_1pN_sqrt_1mx2_quad1(c, n, N):\n",
    "    def f(x):\n",
    "        return pro_ang1(0, n, c, x)[0]*pro_ang1(1, 1+N, c, x)[0]*np.sqrt(1 - x**2)\n",
    "    return quad(f, -1, 1)\n",
    "\n",
    "def GetInt_S0_n_S1_1pN_sqrt_1mx2_quad2(c, n, N):\n",
    "    def f(x):\n",
    "        cv_n = specfun.segv(0, n, c, 1)[0]\n",
    "        cv_N = specfun.segv(1, 1+N, c, 1)[0]\n",
    "        return specfun.aswfa(0, n, c, x, 1, cv_n)[0]*specfun.aswfa(1, 1+N, c, x, 1, cv_N)[0]*np.sqrt(1 - x**2)\n",
    "    return quad(f, -1, 1)\n",
    "\n",
    "## I_11Nn\n",
    "def GetInt_dxS0_n_S1_1pN_sqrt_x_sqrt_1mx2(c, n, N):\n",
    "    d_q, d_q_inds = Get_Expansion_Coeff_d_mn(0, n, c)\n",
    "    m_q = 0\n",
    "    d_r, d_r_inds = Get_Expansion_Coeff_d_mn(1, 1+N, c)\n",
    "    m_r = 1\n",
    "    len_q = len(d_q_inds)\n",
    "    len_r = len(d_r_inds)\n",
    "    \n",
    "    I = 0.0\n",
    "    for q in range(len(d_q)):\n",
    "        q_expansion = Expand_sqrt_1mx2_dxPmn(m_q, m_q + d_q_inds[q])\n",
    "        for mn_q_pair in q_expansion:\n",
    "            m_q_expan, n_q_expan = mn_q_pair\n",
    "            coeff_q = q_expansion[mn_q_pair]\n",
    "            if m_q_expan < 0:\n",
    "                minusm_expansion = Expand_P_minusm_n(abs(m_q_expan), n_q_expan)\n",
    "                assert len(minusm_expansion) == 1\n",
    "                m_q_expan, n_q_expan = list(minusm_expansion.keys())[0]\n",
    "                coeff_q *= list(minusm_expansion.values())[0]\n",
    "            if m_q_expan == m_r:\n",
    "                for r in range(len(d_r)):\n",
    "                    r_expansion = Expand_xPmn(m_r, m_r + d_r_inds[r])\n",
    "                    for mn_r_pair in r_expansion:\n",
    "                        m_r_expan, n_r_expan = mn_r_pair\n",
    "                        coeff_r = r_expansion[mn_r_pair]\n",
    "                        assert m_r_expan == m_q_expan\n",
    "                        if n_q_expan == n_r_expan:\n",
    "                            I += coeff_q*coeff_r*d_q[q]*d_r[r]*Get_Int_PmnPmn(m_q_expan, n_q_expan)\n",
    "            else:\n",
    "                assert False\n",
    "    return I\n",
    "\n",
    "def GetInt_dxS0_n_S1_1pN_sqrt_x_sqrt_1mx2_quad1(c, n, N):\n",
    "    def f(x):\n",
    "        return pro_ang1(0, n, c, x)[1]*pro_ang1(1, 1+N, c, x)[0]*x*np.sqrt(1 - x**2)\n",
    "    return quad(f, -1, 1)\n",
    "\n",
    "def GetInt_dxS0_n_S1_1pN_sqrt_x_sqrt_1mx2_quad2(c, n, N):\n",
    "    def f(x):\n",
    "        cv_n = specfun.segv(0, n, c, 1)[0]\n",
    "        cv_N = specfun.segv(1, 1+N, c, 1)[0]\n",
    "        return specfun.aswfa(0, n, c, x, 1, cv_n)[1]*specfun.aswfa(1, 1+N, c, x, 1, cv_N)[0]*x*np.sqrt(1 - x**2)\n",
    "    return quad(f, -1, 1)\n",
    "\n",
    "\n",
    "## I_3mNn.....?\n",
    "def GetInt_Sm_mpn_Sm_mpN_x_div_sqrt_1mx2_quad1(c, m, n, N):\n",
    "    def f(x):\n",
    "        return pro_ang1(m, m+n, c, x)[0]*pro_ang1(m, m+N, c, x)[0]*x/np.sqrt(1 - x**2)\n",
    "    return quad(f, -1, 1)\n",
    "\n",
    "def GetInt_Sm_mpn_Sm_mpN_x_div_sqrt_1mx2_quad2(c, m, n, N):\n",
    "    def f(x):\n",
    "        cv_n = specfun.segv(m, m+n, c, 1)[0]\n",
    "        cv_N = specfun.segv(m, m+N, c, 1)[0]\n",
    "        return specfun.aswfa(m, m+n, c, x, 1, cv_n)[0]*specfun.aswfa(m, m+N, c, x, 1, cv_N)[0]*x/np.sqrt(1 - x**2)\n",
    "    return quad(f, -1, 1)\n"
   ]
  },
  {
   "cell_type": "code",
   "execution_count": 8,
   "metadata": {},
   "outputs": [
    {
     "data": {
      "text/plain": [
       "[<matplotlib.lines.Line2D at 0x7ffafc320a90>]"
      ]
     },
     "execution_count": 8,
     "metadata": {},
     "output_type": "execute_result"
    },
    {
     "data": {
      "image/png": "[encoded data removed]",
      "text/plain": [
       "<Figure size 432x288 with 1 Axes>"
      ]
     },
     "metadata": {
      "needs_background": "light"
     },
     "output_type": "display_data"
    }
   ],
   "source": [
    "%matplotlib inline\n",
    "from scipy.special import lpmv\n",
    "import numpy as np\n",
    "import matplotlib.pyplot as plt\n",
    "\n",
    "N = 100\n",
    "x = np.linspace(-1, 1, N)\n",
    "m = 3\n",
    "n = 4\n",
    "\n",
    "P_expansion = Expand_sqrt_1mx2_dxPmn(m, n)\n",
    "y = np.zeros(len(x))\n",
    "for mn in P_expansion:\n",
    "    y += P_expansion[mn]*lpmv(mn[0], mn[1], x)\n",
    "\n",
    "dxPmn = (lpmv(m, n, x + 1.0e-3) - lpmv(m, n, x - 1.0e-3))/2.0e-3\n",
    "Pmn = lpmv(m, n, x)\n",
    "    \n",
    "plt.plot(x, np.sqrt(1 - x**2)*dxPmn, \"b\", lw=3)\n",
    "plt.plot(x, y, \"r\", lw=2)\n"
   ]
  },
  {
   "cell_type": "code",
   "execution_count": 48,
   "metadata": {},
   "outputs": [
    {
     "name": "stdout",
     "output_type": "stream",
     "text": [
      "I0:  (152.72727272727275, 1.6956133467002394e-12)\n",
      "I1:  152.72727272727272\n"
     ]
    },
    {
     "data": {
      "text/plain": [
       "[<matplotlib.lines.Line2D at 0x7f05e3865e80>]"
      ]
     },
     "execution_count": 48,
     "metadata": {},
     "output_type": "execute_result"
    },
    {
     "data": {
      "image/png": "[encoded data removed]",
      "text/plain": [
       "<Figure size 432x288 with 1 Axes>"
      ]
     },
     "metadata": {
      "needs_background": "light"
     },
     "output_type": "display_data"
    }
   ],
   "source": [
    "from scipy.integrate import quadrature, quad\n",
    "\n",
    "m = 2\n",
    "n = 5\n",
    "\n",
    "def f(x):\n",
    "    return lpmv(m, n, x)*lpmv(m, n, x)\n",
    "\n",
    "I0 = quad(f, -1, 1)\n",
    "I1 = Get_Int_PmnPmn(m, n)\n",
    "\n",
    "print(\"I0: \", I0)\n",
    "print(\"I1: \", I1)\n",
    "\n",
    "x = np.linspace(-1, 1, 100)\n",
    "plt.plot(x, lpmv(m, n, x))\n"
   ]
  },
  {
   "cell_type": "code",
   "execution_count": 6,
   "metadata": {},
   "outputs": [
    {
     "name": "stdout",
     "output_type": "stream",
     "text": [
      "[ 2.83459410e-02  1.00065279e+00 -2.04714515e-03  2.79125691e-06\n",
      " -2.83531597e-09  2.24819629e-12 -1.43421582e-15  7.52903438e-19\n",
      " -3.31126746e-22  1.23817198e-25 -3.98548660e-29  1.11607827e-32\n",
      " -2.74411318e-36  5.97153690e-40 -1.15829939e-43  2.01530209e-47\n",
      " -3.16294946e-51  4.50072407e-55 -5.83321043e-59  6.91488935e-63\n",
      " -7.52620238e-67  7.54750352e-71 -6.99633465e-75  6.01275982e-79\n",
      " -4.80412551e-83  3.57773598e-87 -2.48940601e-91]\n"
     ]
    },
    {
     "data": {
      "text/plain": [
       "[<matplotlib.lines.Line2D at 0x7f05e43b3438>]"
      ]
     },
     "execution_count": 6,
     "metadata": {},
     "output_type": "execute_result"
    },
    {
     "data": {
      "image/png": "[encoded data removed]",
      "text/plain": [
       "<Figure size 432x288 with 1 Axes>"
      ]
     },
     "metadata": {
      "needs_background": "light"
     },
     "output_type": "display_data"
    }
   ],
   "source": [
    "%matplotlib inline\n",
    "from scipy.special import lpmv\n",
    "import numpy as np\n",
    "import matplotlib.pyplot as plt\n",
    "from scipy.special import pro_ang1\n",
    "from Electromagnetics import specfun\n",
    "\n",
    "m = 4\n",
    "n = 6\n",
    "c = 1.0\n",
    "x = np.linspace(-1, 1, 100)\n",
    "\n",
    "d_mn, d_inds = Get_Expansion_Coeff_d_mn(m, n, c)\n",
    "print(d_mn)\n",
    "\n",
    "y = np.zeros(len(x))\n",
    "for i in range(len(d_mn)):\n",
    "    y += d_mn[i]*lpmv(m, m+d_inds[i], x)\n",
    "\n",
    "cv = specfun.segv(m, n, c, 1)[0]\n",
    "z = np.array([specfun.aswfa(m, n, c, x[i], 1, cv)[0] for i in range(len(x))])\n",
    "\n",
    "plt.plot(x, pro_ang1(m, n, c, x)[0], 'b-.', lw = 2)\n",
    "plt.plot(x, y, 'r')\n",
    "plt.plot(x, z, 'y')\n"
   ]
  },
  {
   "cell_type": "code",
   "execution_count": 38,
   "metadata": {},
   "outputs": [
    {
     "name": "stdout",
     "output_type": "stream",
     "text": [
      "I0:  (43357.65539194137, 5.3293937839205e-10)\n",
      "I1:  (43357.65539194137, 5.3293937839205e-10)\n",
      "I2:   43357.655391941444\n"
     ]
    },
    {
     "data": {
      "text/plain": [
       "-0.4215855152888361"
      ]
     },
     "execution_count": 38,
     "metadata": {},
     "output_type": "execute_result"
    },
    {
     "data": {
      "image/png": "[encoded data removed]",
      "text/plain": [
       "<Figure size 432x288 with 1 Axes>"
      ]
     },
     "metadata": {
      "needs_background": "light"
     },
     "output_type": "display_data"
    }
   ],
   "source": [
    "%matplotlib inline\n",
    "from scipy.integrate import quadrature, quad\n",
    "import numpy as np\n",
    "import matplotlib.pyplot as plt\n",
    "from scipy.special import pro_ang1\n",
    "from Electromagnetics import specfun\n",
    "\n",
    "m = 3\n",
    "n = 6\n",
    "N = 7\n",
    "c = 1.0\n",
    "\n",
    "I0 = GetInt_Sm_mpn_Sm_mpN_x_quad1(c, m, n, N)\n",
    "I1 = GetInt_Sm_mpn_Sm_mpN_x_quad2(c, m, n, N)\n",
    "I2 = GetInt_Sm_mpn_Sm_mpN_x(c, m, n, N)\n",
    "\n",
    "print(\"I0: \", I0)\n",
    "print(\"I1: \", I1)\n",
    "print(\"I2:  \", I2)\n",
    "\n",
    "x = np.linspace(-1, 1, 100)\n",
    "def f(x):\n",
    "    return pro_ang1(m, m+n, c, x)[1]*pro_ang1(m, m+N, c, x)[0]*x\n",
    "plt.plot(x, f(x))\n",
    "f(0.99999)"
   ]
  },
  {
   "cell_type": "code",
   "execution_count": 14,
   "metadata": {},
   "outputs": [
    {
     "data": {
      "text/plain": [
       "[<matplotlib.lines.Line2D at 0x7f3f087859b0>]"
      ]
     },
     "execution_count": 14,
     "metadata": {},
     "output_type": "execute_result"
    },
    {
     "data": {
      "image/png": "[encoded data removed]",
      "text/plain": [
       "<Figure size 432x288 with 1 Axes>"
      ]
     },
     "metadata": {
      "needs_background": "light"
     },
     "output_type": "display_data"
    }
   ],
   "source": [
    "%matplotlib inline\n",
    "from scipy.special import pro_rad1, pro_rad2\n",
    "import numpy as np\n",
    "import matplotlib.pyplot as plt\n",
    "\n",
    "x = np.linspace(10, 20, 1000)\n",
    "y = pro_rad1(2, 3, 1.0, x)[0]\n",
    "z = pro_rad2(2, 3, 1.0, x)[0]\n",
    "plt.plot(x, y, 'b')\n",
    "plt.plot(x, z, 'r')\n",
    "\n"
   ]
  },
  {
   "cell_type": "code",
   "execution_count": 60,
   "metadata": {},
   "outputs": [
    {
     "data": {
      "text/plain": [
       "(-1+0j)"
      ]
     },
     "execution_count": 60,
     "metadata": {},
     "output_type": "execute_result"
    }
   ],
   "source": [
    "1j**2"
   ]
  },
  {
   "cell_type": "code",
   "execution_count": null,
   "metadata": {},
   "outputs": [],
   "source": []
  }
 ],
 "metadata": {
  "kernelspec": {
   "display_name": "Python 3",
   "language": "python",
   "name": "python3"
  },
  "language_info": {
   "codemirror_mode": {
    "name": "ipython",
    "version": 3
   },
   "file_extension": ".py",
   "mimetype": "text/x-python",
   "name": "python",
   "nbconvert_exporter": "python",
   "pygments_lexer": "ipython3",
   "version": "3.6.8"
  }
 },
 "nbformat": 4,
 "nbformat_minor": 2
}
