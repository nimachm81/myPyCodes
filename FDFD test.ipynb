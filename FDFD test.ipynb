{
 "cells": [
  {
   "cell_type": "code",
   "execution_count": 1,
   "metadata": {
    "collapsed": false
   },
   "outputs": [
    {
     "data": {
      "text/latex": [
       "$$\\left[\\begin{matrix}i H_{{x}} \\mu \\omega - \\frac{d}{d z} E_{{y}} + \\frac{d}{d y} E_{{z}} & i H_{{y}} \\mu \\omega + \\frac{d}{d z} E_{{x}} - \\frac{d}{d x} E_{{z}} & i H_{{z}} \\mu \\omega - \\frac{d}{d y} E_{{x}} + \\frac{d}{d x} E_{{y}}\\end{matrix}\\right]$$"
      ],
      "text/plain": [
       "<IPython.core.display.Math at 0x7f9353d41ef0>"
      ]
     },
     "metadata": {},
     "output_type": "display_data"
    },
    {
     "data": {
      "text/latex": [
       "$$\\left[\\begin{matrix}- i E_{{x}} \\epsilon \\omega - \\frac{d}{d z} H_{{y}} + \\frac{d}{d y} H_{{z}} & - i E_{{y}} \\epsilon \\omega + \\frac{d}{d z} H_{{x}} - \\frac{d}{d x} H_{{z}} & - i E_{{z}} \\epsilon \\omega - \\frac{d}{d y} H_{{x}} + \\frac{d}{d x} H_{{y}}\\end{matrix}\\right]$$"
      ],
      "text/plain": [
       "<IPython.core.display.Math at 0x7f9336c9cb70>"
      ]
     },
     "metadata": {},
     "output_type": "display_data"
    },
    {
     "data": {
      "text/latex": [
       "$$H_z = \\frac{i}{\\mu \\omega} \\left(- \\frac{d}{d y} E_{{x}} + \\frac{d}{d x} E_{{y}}\\right)$$"
      ],
      "text/plain": [
       "<IPython.core.display.Math at 0x7f9336cc4e48>"
      ]
     },
     "metadata": {},
     "output_type": "display_data"
    },
    {
     "data": {
      "text/latex": [
       "$$E_z = \\frac{i}{\\epsilon \\omega} \\left(\\frac{d}{d y} H_{{x}} - \\frac{d}{d x} H_{{y}}\\right)$$"
      ],
      "text/plain": [
       "<IPython.core.display.Math at 0x7f9336c4e828>"
      ]
     },
     "metadata": {},
     "output_type": "display_data"
    },
    {
     "data": {
      "text/latex": [
       "$$\\left[\\begin{matrix}i \\mu \\omega \\operatorname{H_{{x}}}{\\left (x,y \\right )} e^{- i k z} - \\frac{\\partial}{\\partial z}\\left(\\operatorname{E_{{y}}}{\\left (x,y \\right )} e^{- i k z}\\right) + \\frac{\\partial}{\\partial y}\\left(\\frac{i}{\\epsilon \\omega} \\left(\\frac{\\partial}{\\partial y}\\left(\\operatorname{H_{{x}}}{\\left (x,y \\right )} e^{- i k z}\\right) - \\frac{\\partial}{\\partial x}\\left(\\operatorname{H_{{y}}}{\\left (x,y \\right )} e^{- i k z}\\right)\\right)\\right)\\\\i \\mu \\omega \\operatorname{H_{{y}}}{\\left (x,y \\right )} e^{- i k z} + \\frac{\\partial}{\\partial z}\\left(\\operatorname{E_{{x}}}{\\left (x,y \\right )} e^{- i k z}\\right) - \\frac{\\partial}{\\partial x}\\left(\\frac{i}{\\epsilon \\omega} \\left(\\frac{\\partial}{\\partial y}\\left(\\operatorname{H_{{x}}}{\\left (x,y \\right )} e^{- i k z}\\right) - \\frac{\\partial}{\\partial x}\\left(\\operatorname{H_{{y}}}{\\left (x,y \\right )} e^{- i k z}\\right)\\right)\\right)\\end{matrix}\\right]$$"
      ],
      "text/plain": [
       "<IPython.core.display.Math at 0x7f9336bfeef0>"
      ]
     },
     "metadata": {},
     "output_type": "display_data"
    },
    {
     "data": {
      "text/latex": [
       "$$\\left[\\begin{matrix}- i \\epsilon \\omega \\operatorname{E_{{x}}}{\\left (x,y \\right )} e^{- i k z} - \\frac{\\partial}{\\partial z}\\left(\\operatorname{H_{{y}}}{\\left (x,y \\right )} e^{- i k z}\\right) + \\frac{\\partial}{\\partial y}\\left(\\frac{i}{\\mu \\omega} \\left(- \\frac{\\partial}{\\partial y}\\left(\\operatorname{E_{{x}}}{\\left (x,y \\right )} e^{- i k z}\\right) + \\frac{\\partial}{\\partial x}\\left(\\operatorname{E_{{y}}}{\\left (x,y \\right )} e^{- i k z}\\right)\\right)\\right)\\\\- i \\epsilon \\omega \\operatorname{E_{{y}}}{\\left (x,y \\right )} e^{- i k z} + \\frac{\\partial}{\\partial z}\\left(\\operatorname{H_{{x}}}{\\left (x,y \\right )} e^{- i k z}\\right) - \\frac{\\partial}{\\partial x}\\left(\\frac{i}{\\mu \\omega} \\left(- \\frac{\\partial}{\\partial y}\\left(\\operatorname{E_{{x}}}{\\left (x,y \\right )} e^{- i k z}\\right) + \\frac{\\partial}{\\partial x}\\left(\\operatorname{E_{{y}}}{\\left (x,y \\right )} e^{- i k z}\\right)\\right)\\right)\\end{matrix}\\right]$$"
      ],
      "text/plain": [
       "<IPython.core.display.Math at 0x7f9336bfa9b0>"
      ]
     },
     "metadata": {},
     "output_type": "display_data"
    },
    {
     "data": {
      "text/latex": [
       "$$MF = \\left[\\begin{matrix}\\frac{i}{\\epsilon \\omega} \\left(\\epsilon \\omega \\left(\\mu \\omega \\operatorname{H_{{x}}}{\\left (x,y \\right )} + k \\operatorname{E_{{y}}}{\\left (x,y \\right )}\\right) + \\frac{\\partial^{2}}{\\partial y^{2}}  \\operatorname{H_{{x}}}{\\left (x,y \\right )} - \\frac{\\partial^{2}}{\\partial x\\partial y}  \\operatorname{H_{{y}}}{\\left (x,y \\right )}\\right)\\\\\\frac{i}{\\epsilon \\omega} \\left(- \\epsilon \\omega \\left(- \\mu \\omega \\operatorname{H_{{y}}}{\\left (x,y \\right )} + k \\operatorname{E_{{x}}}{\\left (x,y \\right )}\\right) - \\frac{\\partial^{2}}{\\partial x\\partial y}  \\operatorname{H_{{x}}}{\\left (x,y \\right )} + \\frac{\\partial^{2}}{\\partial x^{2}}  \\operatorname{H_{{y}}}{\\left (x,y \\right )}\\right)\\end{matrix}\\right]$$"
      ],
      "text/plain": [
       "<IPython.core.display.Math at 0x7f9336bcd828>"
      ]
     },
     "metadata": {},
     "output_type": "display_data"
    },
    {
     "data": {
      "text/latex": [
       "$$MA = \\left[\\begin{matrix}\\frac{i}{\\mu \\omega} \\left(- \\mu \\omega \\left(\\epsilon \\omega \\operatorname{E_{{x}}}{\\left (x,y \\right )} - k \\operatorname{H_{{y}}}{\\left (x,y \\right )}\\right) - \\frac{\\partial^{2}}{\\partial y^{2}}  \\operatorname{E_{{x}}}{\\left (x,y \\right )} + \\frac{\\partial^{2}}{\\partial x\\partial y}  \\operatorname{E_{{y}}}{\\left (x,y \\right )}\\right)\\\\\\frac{i}{\\mu \\omega} \\left(- \\mu \\omega \\left(\\epsilon \\omega \\operatorname{E_{{y}}}{\\left (x,y \\right )} + k \\operatorname{H_{{x}}}{\\left (x,y \\right )}\\right) + \\frac{\\partial^{2}}{\\partial x\\partial y}  \\operatorname{E_{{x}}}{\\left (x,y \\right )} - \\frac{\\partial^{2}}{\\partial x^{2}}  \\operatorname{E_{{y}}}{\\left (x,y \\right )}\\right)\\end{matrix}\\right]$$"
      ],
      "text/plain": [
       "<IPython.core.display.Math at 0x7f9336bcd3c8>"
      ]
     },
     "metadata": {},
     "output_type": "display_data"
    },
    {
     "data": {
      "text/plain": [
       "(2, 1)"
      ]
     },
     "execution_count": 1,
     "metadata": {},
     "output_type": "execute_result"
    }
   ],
   "source": [
    "%reload_ext autoreload\n",
    "%autoreload\n",
    "\n",
    "from sympy import *\n",
    "from Electromagnetics.EMEqs_sym import *\n",
    "from IPython.display import display, Math\n",
    "\n",
    "maxwell = MaxwellEqs_r()\n",
    "\n",
    "MF = maxwell.getMaxwellFaraday()\n",
    "MA = maxwell.getMaxwellAmper()\n",
    "\n",
    "MF = MF[0] - MF[1]\n",
    "MA = MA[0] - MA[1]\n",
    "\n",
    "display(Math(latex(MF)))\n",
    "display(Math(latex(MA)))\n",
    "\n",
    "Hz_rep = solve(MF[2], maxwell.Hz)[0]\n",
    "Ez_rep = solve(MA[2], maxwell.Ez)[0]\n",
    "\n",
    "display(Math('H_z = ' + latex(Hz_rep)))\n",
    "display(Math('E_z = ' + latex(Ez_rep)))\n",
    "\n",
    "\n",
    "MF = Matrix([MF[0].subs(maxwell.Ez, Ez_rep), MF[1].subs(maxwell.Ez, Ez_rep)])\n",
    "MA = Matrix([MA[0].subs(maxwell.Hz, Hz_rep), MA[1].subs(maxwell.Hz, Hz_rep)])\n",
    "\n",
    "MFz = maxwell.getZPropEqs(MF)\n",
    "MAz = maxwell.getZPropEqs(MA)\n",
    "\n",
    "display(Math(latex(MFz)))\n",
    "display(Math(latex(MAz)))\n",
    "\n",
    "\n",
    "for i in range(MFz.shape[0]):\n",
    "    for j in range(MFz.shape[1]):\n",
    "        MFz[i,j] = (MFz[i,j].doit()*exp(I*maxwell.k*maxwell.z)).simplify()\n",
    "for i in range(MAz.shape[0]):\n",
    "    for j in range(MAz.shape[1]):\n",
    "        MAz[i,j] = (MAz[i,j].doit()*exp(I*maxwell.k*maxwell.z)).simplify()\n",
    "\n",
    "## MF:maxwell faraday -- MA:maxwell ampere        \n",
    "display(Math('MF = ' + latex(MFz)))\n",
    "display(Math('MA = ' + latex(MAz)))\n",
    "\n",
    "MF.shape\n"
   ]
  },
  {
   "cell_type": "code",
   "execution_count": 2,
   "metadata": {
    "collapsed": false
   },
   "outputs": [
    {
     "data": {
      "text/latex": [
       "$$\\left[\\begin{matrix}i H_{{x}} \\mu \\omega - \\frac{d}{d z} E_{{y}} + \\frac{d}{d y} E_{{z}} & i H_{{y}} \\mu \\omega + \\frac{d}{d z} E_{{x}} - \\frac{d}{d x} E_{{z}} & i H_{{z}} \\mu \\omega - \\frac{d}{d y} E_{{x}} + \\frac{d}{d x} E_{{y}}\\end{matrix}\\right]$$"
      ],
      "text/plain": [
       "<IPython.core.display.Math at 0x7f9336bfaf98>"
      ]
     },
     "metadata": {},
     "output_type": "display_data"
    },
    {
     "data": {
      "text/latex": [
       "$$\\left[\\begin{matrix}- i E_{{x}} \\epsilon \\omega - \\frac{d}{d z} H_{{y}} + \\frac{d}{d y} H_{{z}} & - i E_{{y}} \\epsilon \\omega + \\frac{d}{d z} H_{{x}} - \\frac{d}{d x} H_{{z}} & - i E_{{z}} \\epsilon \\omega - \\frac{d}{d y} H_{{x}} + \\frac{d}{d x} H_{{y}}\\end{matrix}\\right]$$"
      ],
      "text/plain": [
       "<IPython.core.display.Math at 0x7f9336bfaf28>"
      ]
     },
     "metadata": {},
     "output_type": "display_data"
    },
    {
     "data": {
      "text/latex": [
       "$$\\left[\\begin{matrix}i \\mu \\omega \\operatorname{H_{{x}}}{\\left (x,y \\right )} e^{- i k z} - \\frac{\\partial}{\\partial z}\\left(\\operatorname{E_{{y}}}{\\left (x,y \\right )} e^{- i k z}\\right) + \\frac{\\partial}{\\partial y}\\left(\\operatorname{E_{{z}}}{\\left (x,y \\right )} e^{- i k z}\\right) & i \\mu \\omega \\operatorname{H_{{y}}}{\\left (x,y \\right )} e^{- i k z} + \\frac{\\partial}{\\partial z}\\left(\\operatorname{E_{{x}}}{\\left (x,y \\right )} e^{- i k z}\\right) - \\frac{\\partial}{\\partial x}\\left(\\operatorname{E_{{z}}}{\\left (x,y \\right )} e^{- i k z}\\right) & i \\mu \\omega \\operatorname{H_{{z}}}{\\left (x,y \\right )} e^{- i k z} - \\frac{\\partial}{\\partial y}\\left(\\operatorname{E_{{x}}}{\\left (x,y \\right )} e^{- i k z}\\right) + \\frac{\\partial}{\\partial x}\\left(\\operatorname{E_{{y}}}{\\left (x,y \\right )} e^{- i k z}\\right)\\end{matrix}\\right]$$"
      ],
      "text/plain": [
       "<IPython.core.display.Math at 0x7f9336cac1d0>"
      ]
     },
     "metadata": {},
     "output_type": "display_data"
    },
    {
     "data": {
      "text/latex": [
       "$$\\left[\\begin{matrix}- i \\epsilon \\omega \\operatorname{E_{{x}}}{\\left (x,y \\right )} e^{- i k z} - \\frac{\\partial}{\\partial z}\\left(\\operatorname{H_{{y}}}{\\left (x,y \\right )} e^{- i k z}\\right) + \\frac{\\partial}{\\partial y}\\left(\\operatorname{H_{{z}}}{\\left (x,y \\right )} e^{- i k z}\\right) & - i \\epsilon \\omega \\operatorname{E_{{y}}}{\\left (x,y \\right )} e^{- i k z} + \\frac{\\partial}{\\partial z}\\left(\\operatorname{H_{{x}}}{\\left (x,y \\right )} e^{- i k z}\\right) - \\frac{\\partial}{\\partial x}\\left(\\operatorname{H_{{z}}}{\\left (x,y \\right )} e^{- i k z}\\right) & - i \\epsilon \\omega \\operatorname{E_{{z}}}{\\left (x,y \\right )} e^{- i k z} - \\frac{\\partial}{\\partial y}\\left(\\operatorname{H_{{x}}}{\\left (x,y \\right )} e^{- i k z}\\right) + \\frac{\\partial}{\\partial x}\\left(\\operatorname{H_{{y}}}{\\left (x,y \\right )} e^{- i k z}\\right)\\end{matrix}\\right]$$"
      ],
      "text/plain": [
       "<IPython.core.display.Math at 0x7f9336cac198>"
      ]
     },
     "metadata": {},
     "output_type": "display_data"
    },
    {
     "data": {
      "text/latex": [
       "$$MF = \\left[\\begin{matrix}i \\mu \\omega \\operatorname{H_{{x}}}{\\left (x,y \\right )} + i k \\operatorname{E_{{y}}}{\\left (x,y \\right )} + \\frac{\\partial}{\\partial y} \\operatorname{E_{{z}}}{\\left (x,y \\right )}\\\\i \\mu \\omega \\operatorname{H_{{y}}}{\\left (x,y \\right )} - i k \\operatorname{E_{{x}}}{\\left (x,y \\right )} - \\frac{\\partial}{\\partial x} \\operatorname{E_{{z}}}{\\left (x,y \\right )}\\\\i \\mu \\omega \\operatorname{H_{{z}}}{\\left (x,y \\right )} - \\frac{\\partial}{\\partial y} \\operatorname{E_{{x}}}{\\left (x,y \\right )} + \\frac{\\partial}{\\partial x} \\operatorname{E_{{y}}}{\\left (x,y \\right )}\\end{matrix}\\right]$$"
      ],
      "text/plain": [
       "<IPython.core.display.Math at 0x7f9336b34438>"
      ]
     },
     "metadata": {},
     "output_type": "display_data"
    },
    {
     "data": {
      "text/latex": [
       "$$MA = \\left[\\begin{matrix}- i \\epsilon \\omega \\operatorname{E_{{x}}}{\\left (x,y \\right )} + i k \\operatorname{H_{{y}}}{\\left (x,y \\right )} + \\frac{\\partial}{\\partial y} \\operatorname{H_{{z}}}{\\left (x,y \\right )}\\\\- i \\epsilon \\omega \\operatorname{E_{{y}}}{\\left (x,y \\right )} - i k \\operatorname{H_{{x}}}{\\left (x,y \\right )} - \\frac{\\partial}{\\partial x} \\operatorname{H_{{z}}}{\\left (x,y \\right )}\\\\- i \\epsilon \\omega \\operatorname{E_{{z}}}{\\left (x,y \\right )} - \\frac{\\partial}{\\partial y} \\operatorname{H_{{x}}}{\\left (x,y \\right )} + \\frac{\\partial}{\\partial x} \\operatorname{H_{{y}}}{\\left (x,y \\right )}\\end{matrix}\\right]$$"
      ],
      "text/plain": [
       "<IPython.core.display.Math at 0x7f9336b344a8>"
      ]
     },
     "metadata": {},
     "output_type": "display_data"
    },
    {
     "data": {
      "text/latex": [
       "$$MF = \\left[\\begin{matrix}i E_{{y}} k + i H_{{x}} \\mu \\omega + \\frac{d}{d y} E_{{z}}\\\\- i E_{{x}} k + i H_{{y}} \\mu \\omega - \\frac{d}{d x} E_{{z}}\\\\i H_{{z}} \\mu \\omega - \\frac{d}{d y} E_{{x}} + \\frac{d}{d x} E_{{y}}\\end{matrix}\\right]$$"
      ],
      "text/plain": [
       "<IPython.core.display.Math at 0x7f9336bfaf98>"
      ]
     },
     "metadata": {},
     "output_type": "display_data"
    },
    {
     "data": {
      "text/latex": [
       "$$MA = \\left[\\begin{matrix}- i E_{{x}} \\epsilon \\omega + i H_{{y}} k + \\frac{d}{d y} H_{{z}}\\\\- i E_{{y}} \\epsilon \\omega - i H_{{x}} k - \\frac{d}{d x} H_{{z}}\\\\- i E_{{z}} \\epsilon \\omega - \\frac{d}{d y} H_{{x}} + \\frac{d}{d x} H_{{y}}\\end{matrix}\\right]$$"
      ],
      "text/plain": [
       "<IPython.core.display.Math at 0x7f9336bfaf28>"
      ]
     },
     "metadata": {},
     "output_type": "display_data"
    },
    {
     "data": {
      "text/latex": [
       "$$MF = \\left[\\begin{matrix}2.0 i H_{{x}} \\mu \\omega + 2.0 \\frac{d}{d y} E_{{z}}\\\\2.0 i H_{{y}} \\mu \\omega - 2.0 \\frac{d}{d x} E_{{z}}\\\\2.0 i H_{{z}} \\mu \\omega - 2.0 \\frac{d}{d y} E_{{x}} + 2.0 \\frac{d}{d x} E_{{y}}\\end{matrix}\\right]$$"
      ],
      "text/plain": [
       "<IPython.core.display.Math at 0x7f9336b64668>"
      ]
     },
     "metadata": {},
     "output_type": "display_data"
    },
    {
     "data": {
      "text/latex": [
       "$$MA = \\left[\\begin{matrix}- 3.0 i E_{{x}} \\epsilon \\omega + 3.0 \\frac{d}{d y} H_{{z}}\\\\- 3.0 i E_{{y}} \\epsilon \\omega - 3.0 \\frac{d}{d x} H_{{z}}\\\\- 3.0 i E_{{z}} \\epsilon \\omega - 3.0 \\frac{d}{d y} H_{{x}} + 3.0 \\frac{d}{d x} H_{{y}}\\end{matrix}\\right]$$"
      ],
      "text/plain": [
       "<IPython.core.display.Math at 0x7f9336bfaf28>"
      ]
     },
     "metadata": {},
     "output_type": "display_data"
    },
    {
     "data": {
      "text/latex": [
       "$$Eqs = \\left[\\begin{matrix}2.0 i H_{{y}} \\mu \\omega - 2.0 \\frac{d}{d x} E_{{z}}\\\\2.0 i H_{{x}} \\mu \\omega + 2.0 \\frac{d}{d y} E_{{z}}\\\\- 3.0 i E_{{y}} \\epsilon \\omega - 3.0 \\frac{d}{d x} H_{{z}}\\\\- 3.0 i E_{{x}} \\epsilon \\omega + 3.0 \\frac{d}{d y} H_{{z}}\\\\- 3.0 i E_{{z}} \\epsilon \\omega - 3.0 \\frac{d}{d y} H_{{x}} + 3.0 \\frac{d}{d x} H_{{y}}\\\\2.0 i H_{{z}} \\mu \\omega - 2.0 \\frac{d}{d y} E_{{x}} + 2.0 \\frac{d}{d x} E_{{y}}\\end{matrix}\\right]$$"
      ],
      "text/plain": [
       "<IPython.core.display.Math at 0x7f9336bfaf28>"
      ]
     },
     "metadata": {},
     "output_type": "display_data"
    },
    {
     "data": {
      "text/latex": [
       "$$Eqs1 = \\left[\\begin{matrix}4.0 i H_{{y}} - 2.0 \\frac{d}{d x} E_{{z}}\\\\4.0 i H_{{x}} + 2.0 \\frac{d}{d y} E_{{z}}\\\\- 9.0 i E_{{y}} - 3.0 \\frac{d}{d x} H_{{z}}\\\\- 9.0 i E_{{x}} + 3.0 \\frac{d}{d y} H_{{z}}\\\\- 9.0 i E_{{z}} - 3.0 \\frac{d}{d y} H_{{x}} + 3.0 \\frac{d}{d x} H_{{y}}\\\\4.0 i H_{{z}} - 2.0 \\frac{d}{d y} E_{{x}} + 2.0 \\frac{d}{d x} E_{{y}}\\end{matrix}\\right]$$"
      ],
      "text/plain": [
       "<IPython.core.display.Math at 0x7f9336bfaf28>"
      ]
     },
     "metadata": {},
     "output_type": "display_data"
    },
    {
     "name": "stdout",
     "output_type": "stream",
     "text": [
      "Add(Mul(Float('4.0', prec=15), I, Symbol('H_{y}')), Mul(Integer(-1), Float('2.0', prec=15), Derivative(Symbol('E_{z}'), Symbol('x'))))\n"
     ]
    },
    {
     "data": {
      "text/latex": [
       "$$Eqs2 = \\left[\\begin{matrix}6.0 i H_{{y}} - 2.0 \\frac{d}{d x} E_{{z}}\\\\6.0 i H_{{x}} + 2.0 \\frac{d}{d y} E_{{z}}\\\\- 6.0 i E_{{y}} - 3.0 \\frac{d}{d x} H_{{z}}\\\\- 6.0 i E_{{x}} + 3.0 \\frac{d}{d y} H_{{z}}\\\\- 6.0 i E_{{z}} - 3.0 \\frac{d}{d y} H_{{x}} + 3.0 \\frac{d}{d x} H_{{y}}\\\\6.0 i H_{{z}} - 2.0 \\frac{d}{d y} E_{{x}} + 2.0 \\frac{d}{d x} E_{{y}}\\end{matrix}\\right]$$"
      ],
      "text/plain": [
       "<IPython.core.display.Math at 0x7f934c076f60>"
      ]
     },
     "metadata": {},
     "output_type": "display_data"
    },
    {
     "data": {
      "text/latex": [
       "$$Vars = \\left[\\begin{matrix}E_{{x}}\\\\E_{{y}}\\\\H_{{x}}\\\\H_{{y}}\\\\E_{{z}}\\\\H_{{z}}\\end{matrix}\\right]$$"
      ],
      "text/plain": [
       "<IPython.core.display.Math at 0x7f934c076f60>"
      ]
     },
     "metadata": {},
     "output_type": "display_data"
    }
   ],
   "source": [
    "%reload_ext autoreload\n",
    "%autoreload\n",
    "\n",
    "from Electromagnetics.EMEqs_sym import *\n",
    "from IPython.display import display, Math\n",
    "from sympy import *\n",
    "\n",
    "maxwell = MaxwellEqs_r()\n",
    "\n",
    "MF = maxwell.getMaxwellFaraday()\n",
    "MA = maxwell.getMaxwellAmper()\n",
    "\n",
    "MF = MF[0] - MF[1]\n",
    "MA = MA[0] - MA[1]\n",
    "\n",
    "display(Math(latex(MF)))\n",
    "display(Math(latex(MA)))\n",
    "\n",
    "\n",
    "MFz = maxwell.getZPropEqs(MF)\n",
    "MAz = maxwell.getZPropEqs(MA)\n",
    "\n",
    "display(Math(latex(MFz)))\n",
    "display(Math(latex(MAz)))\n",
    "\n",
    "\n",
    "for i in range(MFz.shape[0]):\n",
    "    for j in range(MFz.shape[1]):\n",
    "        MFz[i,j] = (MFz[i,j].doit()*exp(I*maxwell.k*maxwell.z)).simplify()\n",
    "for i in range(MAz.shape[0]):\n",
    "    for j in range(MAz.shape[1]):\n",
    "        MAz[i,j] = (MAz[i,j].doit()*exp(I*maxwell.k*maxwell.z)).simplify()\n",
    "\n",
    "## MF:maxwell faraday -- MA:maxwell ampere        \n",
    "display(Math('MF = ' + latex(MFz.T)))\n",
    "display(Math('MA = ' + latex(MAz.T)))\n",
    "\n",
    "MFz = maxwell.ZPropEqs_ReplFunBySym(MFz)\n",
    "MAz = maxwell.ZPropEqs_ReplFunBySym(MAz)\n",
    "display(Math('MF = ' + latex(MFz.T)))\n",
    "display(Math('MA = ' + latex(MAz.T)))\n",
    "\n",
    "MFz = MFz.subs(maxwell.k, 0)*2.0\n",
    "MAz = MAz.subs(maxwell.k, 0)*3.0                ### *3 test\n",
    "display(Math('MF = ' + latex(MFz.T)))\n",
    "display(Math('MA = ' + latex(MAz.T)))\n",
    "\n",
    "Eqs = [MFz[1], MFz[0], MAz[1], MAz[0], MAz[2], MFz[2]]\n",
    "display(Math('Eqs = ' + latex(Matrix(Eqs))))\n",
    "\n",
    "Eqs1 = [Eqs[i].subs([(maxwell.mu, 2.0), (maxwell.eps, 3.0), (maxwell.omega, 1.0)]) for i in range(len(Eqs))]\n",
    "display(Math('Eqs1 = ' + latex(Matrix(Eqs1))))\n",
    "\n",
    "print(srepr(Eqs1[0]))\n",
    "\n",
    "Eqs2 = [Eqs[i].subs([(maxwell.mu, 3.0), (maxwell.eps, 2.0), (maxwell.omega, 1.0)]) for i in range(len(Eqs))]\n",
    "display(Math('Eqs2 = ' + latex(Matrix(Eqs2))))\n",
    "\n",
    "\n",
    "var_list = [maxwell.Ex, maxwell.Ey, maxwell.Hx, maxwell.Hy, maxwell.Ez, maxwell.Hz]\n",
    "display(Math('Vars = ' + latex(Matrix(var_list))))\n"
   ]
  },
  {
   "cell_type": "code",
   "execution_count": 22,
   "metadata": {
    "collapsed": false
   },
   "outputs": [
    {
     "name": "stdout",
     "output_type": "stream",
     "text": [
      "cells_in_extended:  [129, 130, 259, 260, 139, 140, 279, 280, 281, 282, 283, 284, 285, 286, 159, 288, 289, 290, 169, 170, 309, 310, 311, 312, 313, 314, 287, 316, 189, 190, 319, 320, 160, 199, 200, 219, 220, 315, 229, 99, 100, 101, 230, 103, 104, 105, 106, 107, 108, 109, 110, 317, 318, 249, 250, 102]\n",
      "cells_in_extended:  [69, 70, 71, 72, 73, 74, 75, 76, 78, 79, 80, 77, 260, 762, 742, 280, 103, 290, 310, 311, 312, 313, 314, 315, 316, 317, 318, 319, 320, 655, 601, 602, 603, 754, 607, 608, 609, 100, 101, 614, 615, 104, 105, 106, 107, 620, 621, 110, 623, 624, 626, 627, 629, 630, 632, 633, 635, 636, 638, 639, 641, 130, 643, 644, 645, 647, 648, 649, 650, 651, 140, 109, 656, 657, 661, 664, 702, 667, 670, 160, 673, 619, 676, 678, 680, 170, 685, 686, 687, 108, 712, 691, 696, 700, 701, 190, 706, 707, 708, 200, 715, 716, 718, 719, 720, 721, 724, 726, 730, 220, 733, 736, 739, 230, 745, 748, 749, 750, 613, 102, 757, 760, 761, 250, 682, 766]\n",
      "n_cells:  1146  n_sides:  2443  n_nodes:  1298\n",
      "rg.CellsToIndexTotalShared:  1\n",
      "rg.SidesToIndexTotalShared:  265\n",
      "rg.NodesToIndexTotalShared:  133\n",
      "26529\n",
      "29204\n",
      "28112\n",
      "[  1.03431840e+00 +3.76872992e-16j   8.46472702e-01 -4.47213499e-15j\n",
      "   4.11226608e-13 +1.50497616e-01j   4.44089210e-16 -4.77702762e-16j\n",
      "   2.44249065e-15 +1.34522385e-16j]\n",
      "(5082, 5)\n"
     ]
    }
   ],
   "source": [
    "%reload_ext autoreload\n",
    "%autoreload\n",
    "\n",
    "from Electromagnetics.RecGrid2D import RG2D\n",
    "from Electromagnetics.Misc import *\n",
    "\n",
    "rg = RG2D(0.0, 3.0, 0.0, 6.0, 0.1001, 0.3001)\n",
    "#rg.RefineCells(list(range(100, 200)))\n",
    "\n",
    "P00 = Point2D(1.0, 1.0)\n",
    "P11 = Point2D(2.0, 3.0)\n",
    "rect_media = [P00, P11]\n",
    "rg.RefineRectangleBorders(rect_media)\n",
    "rg.RefineRectangleBorders(rect_media)\n",
    "\n",
    "\n",
    "print('n_cells: ', len(rg.cells), ' n_sides: ', len(rg.sides), ' n_nodes: ', len(rg.nodes))\n",
    "\n",
    "region_fs = \"freespace\"\n",
    "rg.AddExpression(region_fs, Eqs1, var_list)\n",
    "region_di = \"dielectric\"\n",
    "rg.AddExpression(region_di, Eqs2, var_list)\n",
    "\n",
    "eq_list1 = [{'zero':Eqs1[0], 'one':Eqs1[0], 'two':Eqs1[0]},\n",
    "           {'zero':Eqs1[1], 'one':Eqs1[1], 'two':Eqs1[1]},\n",
    "           {'zero':Eqs1[2], 'one':Eqs1[2], 'two':Eqs1[2]},\n",
    "           {'zero':Eqs1[3], 'one':Eqs1[3], 'two':Eqs1[3]},\n",
    "           {'zero':Eqs1[4], 'one':Eqs1[4], 'two':Eqs1[4], 'three':Eqs1[4], 'four':Eqs1[4]},\n",
    "           {}]\n",
    "var_type = ['SX', 'SY', 'SY', 'SX', 'N', 'C']\n",
    "rg.SetRegionBoundaryEquations(region_fs, eq_list1, var_list, var_type)\n",
    "\n",
    "eq_list2 = [{'zero':Eqs2[0], 'one':Eqs2[0], 'two':Eqs2[0]},\n",
    "           {'zero':Eqs2[1], 'one':Eqs2[1], 'two':Eqs2[1]},\n",
    "           {'zero':Eqs2[2], 'one':Eqs2[2], 'two':Eqs2[2]},\n",
    "           {'zero':Eqs2[3], 'one':Eqs2[3], 'two':Eqs2[3]},\n",
    "           {'zero':Eqs2[4], 'one':Eqs2[4], 'two':Eqs2[4], 'three':Eqs2[4], 'four':Eqs2[4]},\n",
    "           {}]\n",
    "var_type = ['SX', 'SY', 'SY', 'SX', 'N', 'C']\n",
    "rg.SetRegionBoundaryEquations(region_di, eq_list2, var_list, var_type)\n",
    "\n",
    "cells_fs = list(range(len(rg.cells)))\n",
    "cells_di, nodes_di, sidesX_di, sidesY_di = rg.FindElementsMarkedByRectangle(rect_media[0], rect_media[1])\n",
    "cells_fs, cells_di = rg.RegionsRemoveSharedCells([cells_fs, cells_di])\n",
    "nodes_fs, sidesX_fs, sidesY_fs = rg.Cells_GetNodesSide(cells_fs)\n",
    "\n",
    "rg.AssignVariableToSides(maxwell.Ex, sidesX_fs, region_fs, orient='X')\n",
    "rg.AssignVariableToSides(maxwell.Ey, sidesY_fs, region_fs, orient='Y')\n",
    "rg.AssignVariableToSides(maxwell.Hx, sidesY_fs, region_fs, orient='Y')\n",
    "rg.AssignVariableToSides(maxwell.Hy, sidesX_fs, region_fs, orient='X')\n",
    "rg.AssignVariableToNodes(maxwell.Ez, nodes_fs, region_fs)\n",
    "rg.AssignVariableToCells(maxwell.Hz, cells_fs, region_fs)\n",
    "\n",
    "rg.AssignVariableToSides(maxwell.Ex, sidesX_di, region_di, orient='X')\n",
    "rg.AssignVariableToSides(maxwell.Ey, sidesY_di, region_di, orient='Y')\n",
    "rg.AssignVariableToSides(maxwell.Hx, sidesY_di, region_di, orient='Y')\n",
    "rg.AssignVariableToSides(maxwell.Hy, sidesX_di, region_di, orient='X')\n",
    "rg.AssignVariableToNodes(maxwell.Ez, nodes_di, region_di)\n",
    "rg.AssignVariableToCells(maxwell.Hz, cells_di, region_di)\n",
    "\n",
    "\n",
    "rg.SetTotalIndicesForVariables()\n",
    "\n",
    "print('rg.CellsToIndexTotalShared: ', len(rg.CellsToIndexTotalShared))\n",
    "print('rg.SidesToIndexTotalShared: ', len(rg.SidesToIndexTotalShared))\n",
    "print('rg.NodesToIndexTotalShared: ', len(rg.NodesToIndexTotalShared))\n",
    "\n",
    "A_coo = rg.ConstructInitialMatrix(save=True)\n",
    "#print(A_coo)\n",
    "print(A_coo.nnz)\n",
    "\n",
    "A_coo = rg.ConstructInitialMatrix_Shared(A_coo, save=True)\n",
    "#print(A_coo)\n",
    "print(A_coo.nnz)\n",
    "\n",
    "A_coo = rg.ApplyDirichletBoundaryCondition(A_coo, save=True)\n",
    "#print(A_coo)\n",
    "print(A_coo.nnz) \n",
    "\n",
    "A_fin = rg.EliminateVarible_Direct(A_coo, [maxwell.Ez, maxwell.Hz])\n",
    "\n",
    "k_eigs, k_vecs = rg.SolveEigenvalues(A_fin, 5, lambda_0=1.0)\n",
    "\n",
    "print(k_eigs)\n",
    "print(k_vecs.shape)\n"
   ]
  },
  {
   "cell_type": "code",
   "execution_count": 29,
   "metadata": {
    "collapsed": false
   },
   "outputs": [
    {
     "name": "stdout",
     "output_type": "stream",
     "text": [
      "(1146,) (1146,)\n",
      "(1146,)\n"
     ]
    }
   ],
   "source": [
    "import numpy as np\n",
    "\n",
    "rg.GetFromSolutionIndexToInitialIndex(k_vecs[:,0], A_coo)\n",
    "\n",
    "exy_cell = rg.InterpolateVariablesValuesToCellCenters([maxwell.Ex, maxwell.Ey])\n",
    "ex = np.array(exy_cell[0])\n",
    "ey = np.array(exy_cell[1])\n",
    "\n",
    "exy_max = GetMaxComplexVec2D(ex, ey)\n",
    "\n",
    "print(ex.shape, ey.shape)\n",
    "print(exy_max.shape)"
   ]
  },
  {
   "cell_type": "code",
   "execution_count": 26,
   "metadata": {
    "collapsed": false
   },
   "outputs": [
    {
     "name": "stdout",
     "output_type": "stream",
     "text": [
      "queue started..\n",
      "window started...\n"
     ]
    }
   ],
   "source": [
    "%reload_ext autoreload\n",
    "%autoreload\n",
    "\n",
    "from Electromagnetics.RecGrid2D import *\n",
    "import queue\n",
    "\n",
    "que = queue.Queue()\n",
    "print(\"queue started..\")\n",
    "window = GUIMaker2D(wx=3.0, wy=6.0, wxp=600, wyp=400, que=que)\n",
    "    \n",
    "print('window started...')\n",
    "\n",
    "window.AttachGrid(rg)\n",
    "que.put([\"updategrid\"])\n",
    "que.put([\"toggleTestMode\"])"
   ]
  },
  {
   "cell_type": "code",
   "execution_count": 46,
   "metadata": {
    "collapsed": false
   },
   "outputs": [],
   "source": [
    "que.put([\"clearlog\"])"
   ]
  },
  {
   "cell_type": "code",
   "execution_count": 100,
   "metadata": {
    "collapsed": false
   },
   "outputs": [],
   "source": [
    "que.put([\"addelement\",\"line00\",\"line\",(0.0, 0.0, 1.0, 1.0, 'red')])\n",
    "que.put([\"addelement\",\"rect00\",\"rectangle\",(P00.x, P00.y, P11.x, P11.y, '')])"
   ]
  },
  {
   "cell_type": "code",
   "execution_count": 35,
   "metadata": {
    "collapsed": false
   },
   "outputs": [],
   "source": [
    "que.put([\"toggleelemvisibility\",\"line00\"])"
   ]
  },
  {
   "cell_type": "code",
   "execution_count": 102,
   "metadata": {
    "collapsed": false
   },
   "outputs": [],
   "source": [
    "que.put([\"toggleelemvisibility\",\"rect00\"])"
   ]
  },
  {
   "cell_type": "code",
   "execution_count": 45,
   "metadata": {
    "collapsed": false
   },
   "outputs": [],
   "source": [
    "que.put([\"MarkGridSides\", sidesX_di, \"red\"])\n",
    "que.put([\"MarkGridSides\", sidesY_di, \"red\"])"
   ]
  },
  {
   "cell_type": "code",
   "execution_count": 32,
   "metadata": {
    "collapsed": false
   },
   "outputs": [],
   "source": [
    "import numpy as np\n",
    "from Electromagnetics import Misc \n",
    "\n",
    "#N_cells = len(rg.cells)\n",
    "#a = np.random.rand(N_cells)\n",
    "\n",
    "colors = Misc.GetColorMap(Misc.NormalizeArrayTo0n1(exy_max))\n",
    "#print(colors)\n",
    "que.put([\"ColorCells\", colors])"
   ]
  },
  {
   "cell_type": "code",
   "execution_count": 124,
   "metadata": {
    "collapsed": false
   },
   "outputs": [
    {
     "name": "stdout",
     "output_type": "stream",
     "text": [
      "stopping thread!\n",
      "thread exiting..!\n",
      "stopping thread!\n",
      "thread exiting..!\n"
     ]
    }
   ],
   "source": []
  },
  {
   "cell_type": "code",
   "execution_count": null,
   "metadata": {
    "collapsed": false
   },
   "outputs": [],
   "source": []
  }
 ],
 "metadata": {
  "kernelspec": {
   "display_name": "Python 3",
   "language": "python",
   "name": "python3"
  },
  "language_info": {
   "codemirror_mode": {
    "name": "ipython",
    "version": 3
   },
   "file_extension": ".py",
   "mimetype": "text/x-python",
   "name": "python",
   "nbconvert_exporter": "python",
   "pygments_lexer": "ipython3",
   "version": "3.5.2"
  }
 },
 "nbformat": 4,
 "nbformat_minor": 0
}
