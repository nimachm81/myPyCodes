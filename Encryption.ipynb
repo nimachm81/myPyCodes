{
 "cells": [
  {
   "cell_type": "markdown",
   "metadata": {},
   "source": [
    "### simple use"
   ]
  },
  {
   "cell_type": "code",
   "execution_count": null,
   "metadata": {
    "collapsed": false
   },
   "outputs": [],
   "source": [
    "from simplecrypt import encrypt, decrypt\n",
    "plaintext = ('Hellow .. -+=/').encode('utf-8')\n",
    "\n",
    "PASS = 'testpass'\n",
    "\n",
    "ciphertext = encrypt(PASS, plaintext)\n",
    "print(ciphertext)\n",
    "\n",
    "plaintext = decrypt(PASS, ciphertext)\n",
    "print(plaintext)\n"
   ]
  },
  {
   "cell_type": "markdown",
   "metadata": {},
   "source": [
    "### interactive use"
   ]
  },
  {
   "cell_type": "code",
   "execution_count": null,
   "metadata": {
    "collapsed": false
   },
   "outputs": [],
   "source": [
    "from binascii import hexlify\n",
    "from getpass import getpass\n",
    "from sys import stdin\n",
    "\n",
    "from simplecrypt import encrypt, decrypt\n",
    "\n",
    "# read the password from the user (without displaying it)\n",
    "password = getpass(\"password: \")\n",
    "\n",
    "# read the (single line) plaintext we will encrypt\n",
    "message = input('message:')\n",
    "\n",
    "# encrypt the plaintext.  we explicitly convert to bytes first (optional)\n",
    "ciphertext = encrypt(password, message.encode('utf8'))\n",
    "\n",
    "# the ciphertext plaintext is bytes, so we display it as a hex string\n",
    "print(\"ciphertext: %s\" % hexlify(ciphertext))\n",
    "\n",
    "# now decrypt the plaintext (using the same salt and password)\n",
    "plaintext = decrypt(password, ciphertext)\n",
    "\n",
    "# the decrypted plaintext is bytes, but we can convert it back to a string\n",
    "print(\"plaintext: %s\" % plaintext)\n",
    "print(\"plaintext as string: %s\" % plaintext.decode('utf8'))"
   ]
  },
  {
   "cell_type": "markdown",
   "metadata": {},
   "source": [
    "### encrypy/decrypt files"
   ]
  },
  {
   "cell_type": "code",
   "execution_count": null,
   "metadata": {
    "collapsed": false
   },
   "outputs": [],
   "source": [
    "from simplecrypt import encrypt, decrypt\n",
    "from os.path import exists\n",
    "from os import unlink\n",
    "\n",
    "\n",
    "def read_encrypted(password, filename):\n",
    "    with open(filename, 'rb') as input:\n",
    "        ciphertext = input.read()\n",
    "        plaintext = decrypt(password, ciphertext)\n",
    "        return plaintext\n",
    "\n",
    "def write_encrypted(password, filename, plaintext):\n",
    "    with open(filename, 'wb') as output:\n",
    "        ciphertext = encrypt(password, plaintext)\n",
    "        output.write(ciphertext)\n",
    "\n",
    "\n",
    "def encrypt_file(password, file_in, file_out=None):\n",
    "    file_r = open(file_in, 'rb')\n",
    "    data = file_r.read()\n",
    "    write_encrypted(password, file_out, data)\n",
    "    file_r.close()\n",
    "    return True\n",
    "\n",
    "def decrypt_file(password, file_in, file_out):\n",
    "    data_dec = read_encrypted(password, file_in)\n",
    "    file_w = open(file_out, 'wb')\n",
    "    file_w.write(data_dec)\n",
    "    file_w.close()\n",
    "    return True\n",
    "\n"
   ]
  },
  {
   "cell_type": "markdown",
   "metadata": {},
   "source": [
    "#### encrypt"
   ]
  },
  {
   "cell_type": "code",
   "execution_count": null,
   "metadata": {
    "collapsed": false
   },
   "outputs": [],
   "source": [
    "import os\n",
    "from getpass import getpass\n",
    "\n",
    "cwd = os.getcwd()\n",
    "file_name = input(\"file name: \")\n",
    "file_encrypted = input(\"Encrypted file name: \")\n",
    "\n",
    "PASS = getpass(\"Pass:\")\n",
    "\n",
    "encrypt_file(PASS, file_name, file_encrypted)\n",
    "\n"
   ]
  },
  {
   "cell_type": "markdown",
   "metadata": {},
   "source": [
    "#### decrypt"
   ]
  },
  {
   "cell_type": "code",
   "execution_count": null,
   "metadata": {
    "collapsed": false
   },
   "outputs": [],
   "source": [
    "import os\n",
    "from getpass import getpass\n",
    "\n",
    "cwd = os.getcwd()\n",
    "file_encrypted = input(\"file name :\")\n",
    "file_name = input(\"new file name:\")\n",
    "\n",
    "PASS = getpass(\"Pass:\")\n",
    "\n",
    "decrypt_file(PASS, file_encrypted, file_name)"
   ]
  },
  {
   "cell_type": "code",
   "execution_count": null,
   "metadata": {
    "collapsed": true
   },
   "outputs": [],
   "source": []
  }
 ],
 "metadata": {
  "kernelspec": {
   "display_name": "Python 3",
   "language": "python",
   "name": "python3"
  },
  "language_info": {
   "codemirror_mode": {
    "name": "ipython",
    "version": 3
   },
   "file_extension": ".py",
   "mimetype": "text/x-python",
   "name": "python",
   "nbconvert_exporter": "python",
   "pygments_lexer": "ipython3",
   "version": "3.5.2"
  }
 },
 "nbformat": 4,
 "nbformat_minor": 0
}
