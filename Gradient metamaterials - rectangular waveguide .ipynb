{
 "metadata": {
  "name": ""
 },
 "nbformat": 3,
 "nbformat_minor": 0,
 "worksheets": [
  {
   "cells": [
    {
     "cell_type": "code",
     "collapsed": false,
     "input": [
      "from sympy import *\n",
      "from IPython.display import display, Math, Latex\n",
      "\n",
      "x, y, z, t = symbols('x y z t')\n",
      "\n",
      "f = Function('f')(z)\n",
      "U = Function('U')(z)\n",
      "#H = Function('H')(z)\n",
      "\n",
      "n_0, c = symbols('n_0 c')\n",
      "omega, Omega = symbols('\\\\omega \\\\Omega')\n",
      "k_T = symbols('k_T')\n",
      "\n",
      "EQ = diff(f, z, 2) + (omega**2*n_0**2*U**2/c**2 - k_T**2)*f\n",
      "\n",
      "display(Math(latex(EQ)))\n",
      "\n"
     ],
     "language": "python",
     "metadata": {},
     "outputs": [
      {
       "latex": [
        "$$\\left(\\frac{\\omega^{2} n_{0}^{2}}{c^{2}} U^{2}{\\left (z \\right )} - k_{T}^{2}\\right) f{\\left (z \\right )} + \\frac{d^{2}}{d z^{2}}  f{\\left (z \\right )}$$"
       ],
       "metadata": {},
       "output_type": "display_data",
       "text": [
        "<IPython.core.display.Math at 0x7f9ba7bcd860>"
       ]
      }
     ],
     "prompt_number": 1
    },
    {
     "cell_type": "code",
     "collapsed": false,
     "input": [
      "%reload_ext autoreload\n",
      "%autoreload\n",
      "\n",
      "from sympy import *\n",
      "from Electromagnetics.VectorCalculus import *\n",
      "from IPython.display import display, Math, Latex\n",
      "\n",
      "zp, tp = symbols(\"z' t'\")\n",
      "eta = symbols('\\\\eta')\n",
      "\n",
      "eta__z = Integral(U, (z, 0, z))\n",
      "eta_inv = Function('\\\\eta^{-1}')(eta)\n",
      "\n",
      "gs = [eta__z]\n",
      "gs_inv = [eta_inv]\n",
      "\n",
      "display(Math(latex(EQ)))\n",
      "\n",
      "pde_new = pdeChangeOfVariables(EQ, [z], [eta], gs, gs_inv)\n",
      "\n",
      "display(Math(latex(pde_new)))\n",
      "\n",
      "f_p = Function('f')(eta)\n",
      "\n",
      "pde_new = pde_new.subs(f, f_p/sqrt(Function('U')(eta_inv))).subs(z, eta_inv)\n",
      "display(Math(latex(pde_new)))\n",
      "\n",
      "pde_new = pde_new.subs(eta_inv, Function('z')(eta)).simplify()\n",
      "display(Math(latex(pde_new)))\n",
      "\n",
      "pde_new = pde_new.subs(Function('U')(Function('z')(eta)), Function('U')(eta)).simplify()\n",
      "display(Math(latex(pde_new)))\n",
      "\n",
      "pde_new = pde_new.doit().simplify()\n",
      "display(Math(latex(pde_new)))\n",
      "\n",
      "\n",
      "pde_new = pde_new.subs(Derivative(Function('z')(eta), eta), Function('U')(eta_inv)).subs(eta_inv, Function('z')(eta)).simplify()\n",
      "display(Math(latex(pde_new)))\n",
      "\n",
      "pde_new = (pde_new/(Function('U')(eta)**2/sqrt(Function('U')(eta)))).expand()\n",
      "display(Math(latex(pde_new)))\n"
     ],
     "language": "python",
     "metadata": {},
     "outputs": [
      {
       "latex": [
        "$$\\left(\\frac{\\omega^{2} n_{0}^{2}}{c^{2}} U^{2}{\\left (z \\right )} - k_{T}^{2}\\right) f{\\left (z \\right )} + \\frac{d^{2}}{d z^{2}}  f{\\left (z \\right )}$$"
       ],
       "metadata": {},
       "output_type": "display_data",
       "text": [
        "<IPython.core.display.Math at 0x7f9ba7b61b38>"
       ]
      },
      {
       "latex": [
        "$$\\left(\\frac{\\omega^{2} n_{0}^{2}}{c^{2}} U^{2}{\\left (z \\right )} - k_{T}^{2}\\right) f{\\left (z \\right )} + \\left(U{\\left (\\eta^{{-1}}{\\left (\\eta \\right )} \\right )} + \\int_{0}^{\\eta^{{-1}}{\\left (\\eta \\right )}} 0\\, dz\\right) \\frac{\\partial}{\\partial \\eta}\\left(\\left(U{\\left (\\eta^{{-1}}{\\left (\\eta \\right )} \\right )} + \\int_{0}^{\\eta^{{-1}}{\\left (\\eta \\right )}} 0\\, dz\\right) \\frac{d}{d \\eta} f{\\left (z \\right )}\\right)$$"
       ],
       "metadata": {},
       "output_type": "display_data",
       "text": [
        "<IPython.core.display.Math at 0x7f9ba7b61b38>"
       ]
      },
      {
       "latex": [
        "$$\\frac{f{\\left (\\eta \\right )}}{\\sqrt{U{\\left (\\eta^{{-1}}{\\left (\\eta \\right )} \\right )}}} \\left(\\frac{\\omega^{2} n_{0}^{2}}{c^{2}} U^{2}{\\left (\\eta^{{-1}}{\\left (\\eta \\right )} \\right )} - k_{T}^{2}\\right) + \\left(U{\\left (\\eta^{{-1}}{\\left (\\eta \\right )} \\right )} + \\int_{0}^{\\eta^{{-1}}{\\left (\\eta \\right )}} 0\\, dz\\right) \\frac{d}{d \\eta}\\left(\\left(U{\\left (\\eta^{{-1}}{\\left (\\eta \\right )} \\right )} + \\int_{0}^{\\eta^{{-1}}{\\left (\\eta \\right )}} 0\\, dz\\right) \\frac{d}{d \\eta}\\left(\\frac{f{\\left (\\eta \\right )}}{\\sqrt{U{\\left (\\eta^{{-1}}{\\left (\\eta \\right )} \\right )}}}\\right)\\right)$$"
       ],
       "metadata": {},
       "output_type": "display_data",
       "text": [
        "<IPython.core.display.Math at 0x7f9bc4e0e4a8>"
       ]
      },
      {
       "latex": [
        "$$\\frac{1}{c^{2} \\sqrt{U{\\left (z{\\left (\\eta \\right )} \\right )}}} \\left(c^{2} \\left(U{\\left (z{\\left (\\eta \\right )} \\right )} + \\int_{0}^{z{\\left (\\eta \\right )}} 0\\, dz\\right) \\sqrt{U{\\left (z{\\left (\\eta \\right )} \\right )}} \\frac{d}{d \\eta}\\left(\\left(U{\\left (z{\\left (\\eta \\right )} \\right )} + \\int_{0}^{z{\\left (\\eta \\right )}} 0\\, dz\\right) \\frac{d}{d \\eta}\\left(\\frac{f{\\left (\\eta \\right )}}{\\sqrt{U{\\left (z{\\left (\\eta \\right )} \\right )}}}\\right)\\right) + \\left(\\omega^{2} n_{0}^{2} U^{2}{\\left (z{\\left (\\eta \\right )} \\right )} - c^{2} k_{T}^{2}\\right) f{\\left (\\eta \\right )}\\right)$$"
       ],
       "metadata": {},
       "output_type": "display_data",
       "text": [
        "<IPython.core.display.Math at 0x7f9bc4e0e4a8>"
       ]
      },
      {
       "latex": [
        "$$\\frac{1}{c^{2} \\sqrt{U{\\left (\\eta \\right )}}} \\left(c^{2} \\left(U{\\left (\\eta \\right )} + \\int_{0}^{z{\\left (\\eta \\right )}} 0\\, dz\\right) \\sqrt{U{\\left (\\eta \\right )}} \\frac{d}{d \\eta}\\left(\\left(U{\\left (\\eta \\right )} + \\int_{0}^{z{\\left (\\eta \\right )}} 0\\, dz\\right) \\frac{d}{d \\eta}\\left(\\frac{f{\\left (\\eta \\right )}}{\\sqrt{U{\\left (\\eta \\right )}}}\\right)\\right) + \\left(\\omega^{2} n_{0}^{2} U^{2}{\\left (\\eta \\right )} - c^{2} k_{T}^{2}\\right) f{\\left (\\eta \\right )}\\right)$$"
       ],
       "metadata": {},
       "output_type": "display_data",
       "text": [
        "<IPython.core.display.Math at 0x7f9bc4e0e4a8>"
       ]
      },
      {
       "latex": [
        "$$\\frac{1}{c^{2} \\sqrt{U{\\left (\\eta \\right )}}} \\left(\\omega^{2} n_{0}^{2} U^{2}{\\left (\\eta \\right )} f{\\left (\\eta \\right )} - c^{2} k_{T}^{2} f{\\left (\\eta \\right )} + c^{2} U^{2}{\\left (\\eta \\right )} \\frac{d^{2}}{d \\eta^{2}}  f{\\left (\\eta \\right )} - \\frac{c^{2}}{2} U{\\left (\\eta \\right )} f{\\left (\\eta \\right )} \\frac{d^{2}}{d \\eta^{2}}  U{\\left (\\eta \\right )} + \\frac{c^{2}}{4} f{\\left (\\eta \\right )} \\left(\\frac{d}{d \\eta} U{\\left (\\eta \\right )}\\right)^{2}\\right)$$"
       ],
       "metadata": {},
       "output_type": "display_data",
       "text": [
        "<IPython.core.display.Math at 0x7f9bc4e0e4a8>"
       ]
      },
      {
       "latex": [
        "$$\\frac{1}{c^{2} \\sqrt{U{\\left (\\eta \\right )}}} \\left(\\omega^{2} n_{0}^{2} U^{2}{\\left (\\eta \\right )} f{\\left (\\eta \\right )} - c^{2} k_{T}^{2} f{\\left (\\eta \\right )} + c^{2} U^{2}{\\left (\\eta \\right )} \\frac{d^{2}}{d \\eta^{2}}  f{\\left (\\eta \\right )} - \\frac{c^{2}}{2} U{\\left (\\eta \\right )} f{\\left (\\eta \\right )} \\frac{d^{2}}{d \\eta^{2}}  U{\\left (\\eta \\right )} + \\frac{c^{2}}{4} f{\\left (\\eta \\right )} \\left(\\frac{d}{d \\eta} U{\\left (\\eta \\right )}\\right)^{2}\\right)$$"
       ],
       "metadata": {},
       "output_type": "display_data",
       "text": [
        "<IPython.core.display.Math at 0x7f9bc4e0e4a8>"
       ]
      },
      {
       "latex": [
        "$$\\frac{\\omega^{2} n_{0}^{2}}{c^{2}} f{\\left (\\eta \\right )} - \\frac{k_{T}^{2} f{\\left (\\eta \\right )}}{U^{2}{\\left (\\eta \\right )}} + \\frac{d^{2}}{d \\eta^{2}}  f{\\left (\\eta \\right )} - \\frac{f{\\left (\\eta \\right )} \\frac{d^{2}}{d \\eta^{2}}  U{\\left (\\eta \\right )}}{2 U{\\left (\\eta \\right )}} + \\frac{f{\\left (\\eta \\right )} \\left(\\frac{d}{d \\eta} U{\\left (\\eta \\right )}\\right)^{2}}{4 U^{2}{\\left (\\eta \\right )}}$$"
       ],
       "metadata": {},
       "output_type": "display_data",
       "text": [
        "<IPython.core.display.Math at 0x7f9bc4e0e4a8>"
       ]
      }
     ],
     "prompt_number": 2
    },
    {
     "cell_type": "code",
     "collapsed": false,
     "input": [
      "M, L, d = symbols('M L d')\n",
      "\n",
      "pde_final = pde_new.subs(Function('U')(eta), cosh(eta)/sqrt(1+M**2)).doit().simplify()\n",
      "display(Math(latex(pde_final)))\n",
      "\n",
      "coeff_f = pde_final.subs(Derivative(f_p, eta, 2), 0).subs(f_p, 1)\n",
      "display(Math(latex(coeff_f)))\n",
      "\n"
     ],
     "language": "python",
     "metadata": {},
     "outputs": [
      {
       "latex": [
        "$$- \\frac{M^{2} k_{T}^{2} f{\\left (\\eta \\right )}}{\\cosh^{2}{\\left (\\eta \\right )}} + \\frac{\\omega^{2} n_{0}^{2}}{c^{2}} f{\\left (\\eta \\right )} - \\frac{k_{T}^{2} f{\\left (\\eta \\right )}}{\\cosh^{2}{\\left (\\eta \\right )}} - \\frac{1}{4} f{\\left (\\eta \\right )} - \\frac{f{\\left (\\eta \\right )}}{4 \\cosh^{2}{\\left (\\eta \\right )}} + \\frac{d^{2}}{d \\eta^{2}}  f{\\left (\\eta \\right )}$$"
       ],
       "metadata": {},
       "output_type": "display_data",
       "text": [
        "<IPython.core.display.Math at 0x7f9ba7b610b8>"
       ]
      },
      {
       "latex": [
        "$$- \\frac{M^{2} k_{T}^{2}}{\\cosh^{2}{\\left (\\eta \\right )}} + \\frac{\\omega^{2} n_{0}^{2}}{c^{2}} - \\frac{k_{T}^{2}}{\\cosh^{2}{\\left (\\eta \\right )}} - \\frac{1}{4} - \\frac{1}{4 \\cosh^{2}{\\left (\\eta \\right )}}$$"
       ],
       "metadata": {},
       "output_type": "display_data",
       "text": [
        "<IPython.core.display.Math at 0x7f9ba7b610b8>"
       ]
      }
     ],
     "prompt_number": 3
    },
    {
     "cell_type": "code",
     "collapsed": false,
     "input": [
      "M, L, d = symbols('M L d')\n",
      "vsig, vsig_0 = symbols('\\\\varsigma \\\\varsigma_0')\n",
      "\n",
      "pde__1 = pdeChangeOfVariables(pde_new, [eta], [vsig], [eta*sqrt(1+M**2)/L - vsig_0], [Function('vsig^{-1}')(vsig)])\n",
      "display(Math(latex(pde__1)))\n",
      "\n",
      "pde__1 = pde__1.subs(Function('U')(eta), Function('U')(vsig)).subs(Function('f')(eta), Function('f')(vsig)).doit()\n",
      "display(Math(latex(pde__1)))\n",
      "\n",
      "\n",
      "pde_final = pde__1.subs(Function('U')(vsig), cosh(vsig)/sqrt(1+M**2)).doit().simplify()\n",
      "display(Math(latex(pde_final)))\n",
      "\n",
      "coeff_f = pde_final.subs(Derivative(f_p, eta, 2), 0).subs(f_p, 1)\n",
      "display(Math(latex(coeff_f)))\n",
      "\n"
     ],
     "language": "python",
     "metadata": {},
     "outputs": [
      {
       "latex": [
        "$$\\frac{\\omega^{2} n_{0}^{2}}{c^{2}} f{\\left (\\eta \\right )} - \\frac{k_{T}^{2} f{\\left (\\eta \\right )}}{U^{2}{\\left (\\eta \\right )}} + \\frac{1}{L} \\sqrt{M^{2} + 1} \\frac{\\partial}{\\partial \\varsigma}\\left(\\frac{1}{L} \\sqrt{M^{2} + 1} \\frac{d}{d \\varsigma} f{\\left (\\eta \\right )}\\right) - \\frac{\\sqrt{M^{2} + 1} f{\\left (\\eta \\right )}}{2 L U{\\left (\\eta \\right )}} \\frac{\\partial}{\\partial \\varsigma}\\left(\\frac{1}{L} \\sqrt{M^{2} + 1} \\frac{d}{d \\varsigma} U{\\left (\\eta \\right )}\\right) + \\frac{f{\\left (\\eta \\right )} \\left(\\frac{d}{d \\varsigma} U{\\left (\\eta \\right )}\\right)^{2}}{4 L^{2} U^{2}{\\left (\\eta \\right )}} \\left(M^{2} + 1\\right)$$"
       ],
       "metadata": {},
       "output_type": "display_data",
       "text": [
        "<IPython.core.display.Math at 0x7f9bc4e0e4a8>"
       ]
      },
      {
       "latex": [
        "$$\\frac{\\omega^{2} n_{0}^{2}}{c^{2}} f{\\left (\\varsigma \\right )} - \\frac{k_{T}^{2} f{\\left (\\varsigma \\right )}}{U^{2}{\\left (\\varsigma \\right )}} + \\frac{1}{L^{2}} \\left(M^{2} + 1\\right) \\frac{d^{2}}{d \\varsigma^{2}}  f{\\left (\\varsigma \\right )} - \\frac{f{\\left (\\varsigma \\right )} \\frac{d^{2}}{d \\varsigma^{2}}  U{\\left (\\varsigma \\right )}}{2 L^{2} U{\\left (\\varsigma \\right )}} \\left(M^{2} + 1\\right) + \\frac{f{\\left (\\varsigma \\right )} \\left(\\frac{d}{d \\varsigma} U{\\left (\\varsigma \\right )}\\right)^{2}}{4 L^{2} U^{2}{\\left (\\varsigma \\right )}} \\left(M^{2} + 1\\right)$$"
       ],
       "metadata": {},
       "output_type": "display_data",
       "text": [
        "<IPython.core.display.Math at 0x7f9bc4e0e4a8>"
       ]
      },
      {
       "latex": [
        "$$\\frac{1}{L^{2} c^{2} \\cosh^{2}{\\left (\\varsigma \\right )}} \\left(L^{2} \\omega^{2} n_{0}^{2} f{\\left (\\varsigma \\right )} \\cosh^{2}{\\left (\\varsigma \\right )} - L^{2} c^{2} k_{T}^{2} \\left(M^{2} + 1\\right) f{\\left (\\varsigma \\right )} - \\frac{c^{2}}{2} \\left(M^{2} + 1\\right) \\left(f{\\left (\\varsigma \\right )} - 2 \\frac{d^{2}}{d \\varsigma^{2}}  f{\\left (\\varsigma \\right )}\\right) \\cosh^{2}{\\left (\\varsigma \\right )} + \\frac{c^{2}}{4} \\left(M^{2} + 1\\right) f{\\left (\\varsigma \\right )} \\sinh^{2}{\\left (\\varsigma \\right )}\\right)$$"
       ],
       "metadata": {},
       "output_type": "display_data",
       "text": [
        "<IPython.core.display.Math at 0x7f9bc4e0e4a8>"
       ]
      },
      {
       "latex": [
        "$$\\frac{1}{L^{2} c^{2} \\cosh^{2}{\\left (\\varsigma \\right )}} \\left(L^{2} \\omega^{2} n_{0}^{2} f{\\left (\\varsigma \\right )} \\cosh^{2}{\\left (\\varsigma \\right )} - L^{2} c^{2} k_{T}^{2} \\left(M^{2} + 1\\right) f{\\left (\\varsigma \\right )} - \\frac{c^{2}}{2} \\left(M^{2} + 1\\right) \\left(f{\\left (\\varsigma \\right )} - 2 \\frac{d^{2}}{d \\varsigma^{2}}  f{\\left (\\varsigma \\right )}\\right) \\cosh^{2}{\\left (\\varsigma \\right )} + \\frac{c^{2}}{4} \\left(M^{2} + 1\\right) f{\\left (\\varsigma \\right )} \\sinh^{2}{\\left (\\varsigma \\right )}\\right)$$"
       ],
       "metadata": {},
       "output_type": "display_data",
       "text": [
        "<IPython.core.display.Math at 0x7f9bc4e0e4a8>"
       ]
      }
     ],
     "prompt_number": 4
    },
    {
     "cell_type": "code",
     "collapsed": false,
     "input": [
      "N, q, p = symbols('N q p')\n",
      "\n",
      "vsig, nu = symbols('\\\\varsigma \\\\nu')\n",
      "\n",
      "_file_ = open('./other/ChangeOfVar.txt', 'w')\n",
      "\n",
      "f = Function('f')(vsig)\n",
      "\n",
      "EQ = diff(f, vsig, 2) + (q**2 - N/cosh(vsig)**2)*f\n",
      "display(Math(latex(EQ)))\n",
      "print(latex(EQ))\n",
      "_file_.write(latex(EQ)+'\\r\\n\\r\\n')\n",
      "\n",
      "g_vsig = (1-tanh(vsig))/2\n",
      "display(Math(latex(g_vsig)))\n",
      "print(latex(g_vsig))\n",
      "_file_.write(latex(g_vsig)+'\\r\\n\\r\\n')\n",
      "\n",
      "nu_inv = atanh(1-2*nu)\n",
      "display(Math(latex(nu_inv)))\n",
      "print(latex(nu_inv))\n",
      "_file_.write(latex(nu_inv)+'\\r\\n\\r\\n')\n",
      "\n",
      "dg_vsig = diff(g_vsig, vsig)\n",
      "display(Math(latex(dg_vsig)))\n",
      "print(latex(dg_vsig))\n",
      "_file_.write(latex(dg_vsig)+'\\r\\n\\r\\n')\n",
      "\n",
      "\n",
      "dg_vsig = dg_vsig.subs(vsig, nu_inv)\n",
      "display(Math(latex(dg_vsig)))\n",
      "print(latex(dg_vsig))\n",
      "_file_.write(latex(dg_vsig)+'\\r\\n\\r\\n')\n",
      "\n",
      "\n",
      "EQ = pdeChangeOfVariables(EQ, [vsig], [nu], [g_vsig], [nu_inv])\n",
      "display(Math(latex(EQ)))\n",
      "print(latex(EQ))\n",
      "_file_.write(latex(EQ)+'\\r\\n\\r\\n')\n",
      "\n",
      "#EQ = EQ.subs(Function('f')(x), Function('f')(z)).subs(x, z_inv).doit().simplify()\n",
      "#display(Math(latex(EQ)))\n",
      "\n",
      "EQ = EQ.subs(Function('f')(vsig), (Function('F')(nu)*cosh(vsig)**(-2*p)))\n",
      "display(Math(latex(EQ)))\n",
      "print(latex(EQ))\n",
      "_file_.write(latex(EQ)+'\\r\\n\\r\\n')\n",
      "\n",
      "\n",
      "EQ = EQ.subs(vsig, atanh(1-2*nu)).simplify()\n",
      "display(Math(latex(EQ)))\n",
      "print(latex(EQ))\n",
      "_file_.write(latex(EQ)+'\\r\\n\\r\\n')\n",
      "\n",
      "\n",
      "EQ = EQ.doit().simplify()\n",
      "display(Math(latex(EQ)))\n",
      "print(latex(EQ))\n",
      "_file_.write(latex(EQ)+'\\r\\n\\r\\n')\n",
      "\n",
      "_file_.close()\n",
      "\n",
      "A = Wild('A')\n",
      "B = Wild('B')\n",
      "A_B_ = EQ.match(A*B)\n",
      "display(Math(latex(A_B_)))\n",
      "\n",
      "EQ = A_B_[B]\n",
      "display(Math(latex(EQ)))\n",
      "\n",
      "EQ = SimplifyDiffEquationCoeffs(EQ, Function('F')(nu), nu, 2)\n",
      "display(Math(latex(EQ)))\n",
      "\n",
      "EQ = EQ.subs(q**2, -4*p**2)\n",
      "EQ = SimplifyDiffEquationCoeffs(EQ, Function('F')(nu), nu, 2)\n",
      "display(Math(latex(EQ)))\n",
      "\n",
      "EQ = EQ/(4*nu*(1-nu))\n",
      "EQ = SimplifyDiffEquationCoeffs(EQ, Function('F')(nu), nu, 2)\n",
      "display(Math(latex(EQ)))\n"
     ],
     "language": "python",
     "metadata": {},
     "outputs": [
      {
       "latex": [
        "$$\\left(- \\frac{N}{\\cosh^{2}{\\left (\\varsigma \\right )}} + q^{2}\\right) f{\\left (\\varsigma \\right )} + \\frac{d^{2}}{d \\varsigma^{2}}  f{\\left (\\varsigma \\right )}$$"
       ],
       "metadata": {},
       "output_type": "display_data",
       "text": [
        "<IPython.core.display.Math at 0x7fa7ff1b84a8>"
       ]
      },
      {
       "output_type": "stream",
       "stream": "stdout",
       "text": [
        "\\left(- \\frac{N}{\\cosh^{2}{\\left (\\varsigma \\right )}} + q^{2}\\right) f{\\left (\\varsigma \\right )} + \\frac{d^{2}}{d \\varsigma^{2}}  f{\\left (\\varsigma \\right )}\n"
       ]
      },
      {
       "latex": [
        "$$- \\frac{1}{2} \\tanh{\\left (\\varsigma \\right )} + \\frac{1}{2}$$"
       ],
       "metadata": {},
       "output_type": "display_data",
       "text": [
        "<IPython.core.display.Math at 0x7fa7ff1b84a8>"
       ]
      },
      {
       "output_type": "stream",
       "stream": "stdout",
       "text": [
        "- \\frac{1}{2} \\tanh{\\left (\\varsigma \\right )} + \\frac{1}{2}\n"
       ]
      },
      {
       "latex": [
        "$$\\operatorname{atanh}{\\left (- 2 \\nu + 1 \\right )}$$"
       ],
       "metadata": {},
       "output_type": "display_data",
       "text": [
        "<IPython.core.display.Math at 0x7fa7ff1b84a8>"
       ]
      },
      {
       "output_type": "stream",
       "stream": "stdout",
       "text": [
        "\\operatorname{atanh}{\\left (- 2 \\nu + 1 \\right )}\n"
       ]
      },
      {
       "latex": [
        "$$\\frac{1}{2} \\tanh^{2}{\\left (\\varsigma \\right )} - \\frac{1}{2}$$"
       ],
       "metadata": {},
       "output_type": "display_data",
       "text": [
        "<IPython.core.display.Math at 0x7fa7ff1b84a8>"
       ]
      },
      {
       "output_type": "stream",
       "stream": "stdout",
       "text": [
        "\\frac{1}{2} \\tanh^{2}{\\left (\\varsigma \\right )} - \\frac{1}{2}\n"
       ]
      },
      {
       "latex": [
        "$$\\frac{1}{2} \\left(- 2 \\nu + 1\\right)^{2} - \\frac{1}{2}$$"
       ],
       "metadata": {},
       "output_type": "display_data",
       "text": [
        "<IPython.core.display.Math at 0x7fa7ff1b84a8>"
       ]
      },
      {
       "output_type": "stream",
       "stream": "stdout",
       "text": [
        "\\frac{1}{2} \\left(- 2 \\nu + 1\\right)^{2} - \\frac{1}{2}\n"
       ]
      },
      {
       "latex": [
        "$$\\left(- \\frac{N}{\\cosh^{2}{\\left (\\varsigma \\right )}} + q^{2}\\right) f{\\left (\\varsigma \\right )} + \\left(\\frac{1}{2} \\left(- 2 \\nu + 1\\right)^{2} - \\frac{1}{2}\\right) \\frac{\\partial}{\\partial \\nu}\\left(\\left(\\frac{1}{2} \\left(- 2 \\nu + 1\\right)^{2} - \\frac{1}{2}\\right) \\frac{d}{d \\nu} f{\\left (\\varsigma \\right )}\\right)$$"
       ],
       "metadata": {},
       "output_type": "display_data",
       "text": [
        "<IPython.core.display.Math at 0x7fa7ff1b84a8>"
       ]
      },
      {
       "output_type": "stream",
       "stream": "stdout",
       "text": [
        "\\left(- \\frac{N}{\\cosh^{2}{\\left (\\varsigma \\right )}} + q^{2}\\right) f{\\left (\\varsigma \\right )} + \\left(\\frac{1}{2} \\left(- 2 \\nu + 1\\right)^{2} - \\frac{1}{2}\\right) \\frac{\\partial}{\\partial \\nu}\\left(\\left(\\frac{1}{2} \\left(- 2 \\nu + 1\\right)^{2} - \\frac{1}{2}\\right) \\frac{d}{d \\nu} f{\\left (\\varsigma \\right )}\\right)\n"
       ]
      },
      {
       "latex": [
        "$$\\left(- \\frac{N}{\\cosh^{2}{\\left (\\varsigma \\right )}} + q^{2}\\right) F{\\left (\\nu \\right )} \\cosh^{- 2 p}{\\left (\\varsigma \\right )} + \\left(\\frac{1}{2} \\left(- 2 \\nu + 1\\right)^{2} - \\frac{1}{2}\\right) \\frac{\\partial}{\\partial \\nu}\\left(\\left(\\frac{1}{2} \\left(- 2 \\nu + 1\\right)^{2} - \\frac{1}{2}\\right) \\frac{\\partial}{\\partial \\nu}\\left(F{\\left (\\nu \\right )} \\cosh^{- 2 p}{\\left (\\varsigma \\right )}\\right)\\right)$$"
       ],
       "metadata": {},
       "output_type": "display_data",
       "text": [
        "<IPython.core.display.Math at 0x7fa7ff1b84a8>"
       ]
      },
      {
       "output_type": "stream",
       "stream": "stdout",
       "text": [
        "\\left(- \\frac{N}{\\cosh^{2}{\\left (\\varsigma \\right )}} + q^{2}\\right) F{\\left (\\nu \\right )} \\cosh^{- 2 p}{\\left (\\varsigma \\right )} + \\left(\\frac{1}{2} \\left(- 2 \\nu + 1\\right)^{2} - \\frac{1}{2}\\right) \\frac{\\partial}{\\partial \\nu}\\left(\\left(\\frac{1}{2} \\left(- 2 \\nu + 1\\right)^{2} - \\frac{1}{2}\\right) \\frac{\\partial}{\\partial \\nu}\\left(F{\\left (\\nu \\right )} \\cosh^{- 2 p}{\\left (\\varsigma \\right )}\\right)\\right)\n"
       ]
      },
      {
       "latex": [
        "$$\\left(N \\left(\\left(2 \\nu - 1\\right)^{2} - 1\\right) + q^{2}\\right) \\left(- \\left(2 \\nu - 1\\right)^{2} + 1\\right)^{p} F{\\left (\\nu \\right )} + \\frac{1}{2} \\left(\\left(2 \\nu - 1\\right)^{2} - 1\\right) \\frac{\\partial}{\\partial \\nu}\\left(\\frac{1}{2} \\left(\\left(2 \\nu - 1\\right)^{2} - 1\\right) \\frac{\\partial}{\\partial \\nu}\\left(\\left(- \\left(2 \\nu - 1\\right)^{2} + 1\\right)^{p} F{\\left (\\nu \\right )}\\right)\\right)$$"
       ],
       "metadata": {},
       "output_type": "display_data",
       "text": [
        "<IPython.core.display.Math at 0x7fa7ff2f5b70>"
       ]
      },
      {
       "output_type": "stream",
       "stream": "stdout",
       "text": [
        "\\left(N \\left(\\left(2 \\nu - 1\\right)^{2} - 1\\right) + q^{2}\\right) \\left(- \\left(2 \\nu - 1\\right)^{2} + 1\\right)^{p} F{\\left (\\nu \\right )} + \\frac{1}{2} \\left(\\left(2 \\nu - 1\\right)^{2} - 1\\right) \\frac{\\partial}{\\partial \\nu}\\left(\\frac{1}{2} \\left(\\left(2 \\nu - 1\\right)^{2} - 1\\right) \\frac{\\partial}{\\partial \\nu}\\left(\\left(- \\left(2 \\nu - 1\\right)^{2} + 1\\right)^{p} F{\\left (\\nu \\right )}\\right)\\right)\n"
       ]
      },
      {
       "latex": [
        "$$\\left(4 \\nu \\left(- \\nu + 1\\right)\\right)^{p} \\left(4 N \\nu^{2} F{\\left (\\nu \\right )} - 4 N \\nu F{\\left (\\nu \\right )} + 4 \\nu^{4} \\frac{d^{2}}{d \\nu^{2}}  F{\\left (\\nu \\right )} + 16 \\nu^{3} p \\frac{d}{d \\nu} F{\\left (\\nu \\right )} + 8 \\nu^{3} \\frac{d}{d \\nu} F{\\left (\\nu \\right )} - 8 \\nu^{3} \\frac{d^{2}}{d \\nu^{2}}  F{\\left (\\nu \\right )} + 16 \\nu^{2} p^{2} F{\\left (\\nu \\right )} + 8 \\nu^{2} p F{\\left (\\nu \\right )} - 24 \\nu^{2} p \\frac{d}{d \\nu} F{\\left (\\nu \\right )} - 12 \\nu^{2} \\frac{d}{d \\nu} F{\\left (\\nu \\right )} + 4 \\nu^{2} \\frac{d^{2}}{d \\nu^{2}}  F{\\left (\\nu \\right )} - 16 \\nu p^{2} F{\\left (\\nu \\right )} - 8 \\nu p F{\\left (\\nu \\right )} + 8 \\nu p \\frac{d}{d \\nu} F{\\left (\\nu \\right )} + 4 \\nu \\frac{d}{d \\nu} F{\\left (\\nu \\right )} + 4 p^{2} F{\\left (\\nu \\right )} + q^{2} F{\\left (\\nu \\right )}\\right)$$"
       ],
       "metadata": {},
       "output_type": "display_data",
       "text": [
        "<IPython.core.display.Math at 0x7fa7ff2f5b70>"
       ]
      },
      {
       "output_type": "stream",
       "stream": "stdout",
       "text": [
        "\\left(4 \\nu \\left(- \\nu + 1\\right)\\right)^{p} \\left(4 N \\nu^{2} F{\\left (\\nu \\right )} - 4 N \\nu F{\\left (\\nu \\right )} + 4 \\nu^{4} \\frac{d^{2}}{d \\nu^{2}}  F{\\left (\\nu \\right )} + 16 \\nu^{3} p \\frac{d}{d \\nu} F{\\left (\\nu \\right )} + 8 \\nu^{3} \\frac{d}{d \\nu} F{\\left (\\nu \\right )} - 8 \\nu^{3} \\frac{d^{2}}{d \\nu^{2}}  F{\\left (\\nu \\right )} + 16 \\nu^{2} p^{2} F{\\left (\\nu \\right )} + 8 \\nu^{2} p F{\\left (\\nu \\right )} - 24 \\nu^{2} p \\frac{d}{d \\nu} F{\\left (\\nu \\right )} - 12 \\nu^{2} \\frac{d}{d \\nu} F{\\left (\\nu \\right )} + 4 \\nu^{2} \\frac{d^{2}}{d \\nu^{2}}  F{\\left (\\nu \\right )} - 16 \\nu p^{2} F{\\left (\\nu \\right )} - 8 \\nu p F{\\left (\\nu \\right )} + 8 \\nu p \\frac{d}{d \\nu} F{\\left (\\nu \\right )} + 4 \\nu \\frac{d}{d \\nu} F{\\left (\\nu \\right )} + 4 p^{2} F{\\left (\\nu \\right )} + q^{2} F{\\left (\\nu \\right )}\\right)\n"
       ]
      },
      {
       "latex": [
        "$$\\left \\{ A : \\left(- 4 \\nu \\left(\\nu - 1\\right)\\right)^{p}, \\quad B : 4 N \\nu^{2} F{\\left (\\nu \\right )} - 4 N \\nu F{\\left (\\nu \\right )} + 4 \\nu^{4} \\frac{d^{2}}{d \\nu^{2}}  F{\\left (\\nu \\right )} + 16 \\nu^{3} p \\frac{d}{d \\nu} F{\\left (\\nu \\right )} + 8 \\nu^{3} \\frac{d}{d \\nu} F{\\left (\\nu \\right )} - 8 \\nu^{3} \\frac{d^{2}}{d \\nu^{2}}  F{\\left (\\nu \\right )} + 16 \\nu^{2} p^{2} F{\\left (\\nu \\right )} + 8 \\nu^{2} p F{\\left (\\nu \\right )} - 24 \\nu^{2} p \\frac{d}{d \\nu} F{\\left (\\nu \\right )} - 12 \\nu^{2} \\frac{d}{d \\nu} F{\\left (\\nu \\right )} + 4 \\nu^{2} \\frac{d^{2}}{d \\nu^{2}}  F{\\left (\\nu \\right )} - 16 \\nu p^{2} F{\\left (\\nu \\right )} - 8 \\nu p F{\\left (\\nu \\right )} + 8 \\nu p \\frac{d}{d \\nu} F{\\left (\\nu \\right )} + 4 \\nu \\frac{d}{d \\nu} F{\\left (\\nu \\right )} + 4 p^{2} F{\\left (\\nu \\right )} + q^{2} F{\\left (\\nu \\right )}\\right \\}$$"
       ],
       "metadata": {},
       "output_type": "display_data",
       "text": [
        "<IPython.core.display.Math at 0x7fa81b39c2b0>"
       ]
      },
      {
       "latex": [
        "$$4 N \\nu^{2} F{\\left (\\nu \\right )} - 4 N \\nu F{\\left (\\nu \\right )} + 4 \\nu^{4} \\frac{d^{2}}{d \\nu^{2}}  F{\\left (\\nu \\right )} + 16 \\nu^{3} p \\frac{d}{d \\nu} F{\\left (\\nu \\right )} + 8 \\nu^{3} \\frac{d}{d \\nu} F{\\left (\\nu \\right )} - 8 \\nu^{3} \\frac{d^{2}}{d \\nu^{2}}  F{\\left (\\nu \\right )} + 16 \\nu^{2} p^{2} F{\\left (\\nu \\right )} + 8 \\nu^{2} p F{\\left (\\nu \\right )} - 24 \\nu^{2} p \\frac{d}{d \\nu} F{\\left (\\nu \\right )} - 12 \\nu^{2} \\frac{d}{d \\nu} F{\\left (\\nu \\right )} + 4 \\nu^{2} \\frac{d^{2}}{d \\nu^{2}}  F{\\left (\\nu \\right )} - 16 \\nu p^{2} F{\\left (\\nu \\right )} - 8 \\nu p F{\\left (\\nu \\right )} + 8 \\nu p \\frac{d}{d \\nu} F{\\left (\\nu \\right )} + 4 \\nu \\frac{d}{d \\nu} F{\\left (\\nu \\right )} + 4 p^{2} F{\\left (\\nu \\right )} + q^{2} F{\\left (\\nu \\right )}$$"
       ],
       "metadata": {},
       "output_type": "display_data",
       "text": [
        "<IPython.core.display.Math at 0x7fa81b39c2b0>"
       ]
      },
      {
       "latex": [
        "$$4 \\nu^{2} \\left(\\nu^{2} - 2 \\nu + 1\\right) \\frac{d^{2}}{d \\nu^{2}}  F{\\left (\\nu \\right )} + 4 \\nu \\left(4 \\nu^{2} p + 2 \\nu^{2} - 6 \\nu p - 3 \\nu + 2 p + 1\\right) \\frac{d}{d \\nu} F{\\left (\\nu \\right )} + \\left(4 N \\nu^{2} - 4 N \\nu + 16 \\nu^{2} p^{2} + 8 \\nu^{2} p - 16 \\nu p^{2} - 8 \\nu p + 4 p^{2} + q^{2}\\right) F{\\left (\\nu \\right )}$$"
       ],
       "metadata": {},
       "output_type": "display_data",
       "text": [
        "<IPython.core.display.Math at 0x7fa81b39c2b0>"
       ]
      },
      {
       "latex": [
        "$$4 \\nu^{2} \\left(\\nu^{2} - 2 \\nu + 1\\right) \\frac{d^{2}}{d \\nu^{2}}  F{\\left (\\nu \\right )} + 4 \\nu \\left(N \\nu - N + 4 \\nu p^{2} + 2 \\nu p - 4 p^{2} - 2 p\\right) F{\\left (\\nu \\right )} + 4 \\nu \\left(4 \\nu^{2} p + 2 \\nu^{2} - 6 \\nu p - 3 \\nu + 2 p + 1\\right) \\frac{d}{d \\nu} F{\\left (\\nu \\right )}$$"
       ],
       "metadata": {},
       "output_type": "display_data",
       "text": [
        "<IPython.core.display.Math at 0x7fa7ff1e7898>"
       ]
      },
      {
       "latex": [
        "$$\\nu \\left(- \\nu + 1\\right) \\frac{d^{2}}{d \\nu^{2}}  F{\\left (\\nu \\right )} + \\left(- N - 4 p^{2} - 2 p\\right) F{\\left (\\nu \\right )} + \\left(- 4 \\nu p - 2 \\nu + 2 p + 1\\right) \\frac{d}{d \\nu} F{\\left (\\nu \\right )}$$"
       ],
       "metadata": {},
       "output_type": "display_data",
       "text": [
        "<IPython.core.display.Math at 0x7fa7ff1bea90>"
       ]
      }
     ],
     "prompt_number": 79
    },
    {
     "cell_type": "heading",
     "level": 3,
     "metadata": {},
     "source": [
      "testing Alex response"
     ]
    },
    {
     "cell_type": "code",
     "collapsed": false,
     "input": [
      "%reload_ext autoreload\n",
      "%autoreload\n",
      "\n",
      "from sympy import *\n",
      "from Electromagnetics.VectorCalculus import *\n",
      "from IPython.display import display, Math, Latex\n",
      "\n",
      "N, q, p = symbols('N q p')\n",
      "\n",
      "x, z = symbols('x z')\n",
      "\n",
      "vsig, nu = symbols('\\\\varsigma \\\\nu')\n",
      "\n",
      "f = Function('f')(vsig)\n",
      "\n",
      "EQ = diff(f, vsig, 2) + (q**2 - N/cosh(vsig)**2)*f\n",
      "display(Math(latex(EQ)))\n",
      "\n",
      "\n",
      "g_vsig = tanh(vsig)\n",
      "vsig_inv = atanh(x)\n",
      "\n",
      "EQ = pdeChangeOfVariables(EQ, [vsig], [x], [g_vsig], [vsig_inv])\n",
      "display(Math(latex(EQ)))\n",
      "\n",
      "EQ = EQ.subs(Function('f')(vsig), Function('f')(x)).subs(vsig, vsig_inv).simplify()\n",
      "display(Math(latex(EQ)))\n",
      "\n",
      "EQ = EQ.doit().simplify()\n",
      "display(Math(latex(EQ)))\n",
      "\n",
      "EQ = (EQ/(1-x**2)).doit().simplify()\n",
      "display(Math(latex(EQ)))\n"
     ],
     "language": "python",
     "metadata": {},
     "outputs": [
      {
       "latex": [
        "$$\\left(- \\frac{N}{\\cosh^{2}{\\left (\\varsigma \\right )}} + q^{2}\\right) f{\\left (\\varsigma \\right )} + \\frac{d^{2}}{d \\varsigma^{2}}  f{\\left (\\varsigma \\right )}$$"
       ],
       "metadata": {},
       "output_type": "display_data",
       "text": [
        "<IPython.core.display.Math at 0x7fa7ff1f7cc0>"
       ]
      },
      {
       "latex": [
        "$$\\left(- x^{2} + 1\\right) \\frac{\\partial}{\\partial x}\\left(\\left(- x^{2} + 1\\right) \\frac{d}{d x} f{\\left (\\varsigma \\right )}\\right) + \\left(- \\frac{N}{\\cosh^{2}{\\left (\\varsigma \\right )}} + q^{2}\\right) f{\\left (\\varsigma \\right )}$$"
       ],
       "metadata": {},
       "output_type": "display_data",
       "text": [
        "<IPython.core.display.Math at 0x7fa7ff1f7cc0>"
       ]
      },
      {
       "latex": [
        "$$- \\left(x^{2} - 1\\right) \\frac{d}{d x}\\left(- \\left(x^{2} - 1\\right) \\frac{d}{d x} f{\\left (x \\right )}\\right) + \\left(N \\left(x^{2} - 1\\right) + q^{2}\\right) f{\\left (x \\right )}$$"
       ],
       "metadata": {},
       "output_type": "display_data",
       "text": [
        "<IPython.core.display.Math at 0x7fa7ff1f7cc0>"
       ]
      },
      {
       "latex": [
        "$$\\left(x^{2} - 1\\right) \\left(2 x \\frac{d}{d x} f{\\left (x \\right )} + \\left(x^{2} - 1\\right) \\frac{d^{2}}{d x^{2}}  f{\\left (x \\right )}\\right) + \\left(N \\left(x^{2} - 1\\right) + q^{2}\\right) f{\\left (x \\right )}$$"
       ],
       "metadata": {},
       "output_type": "display_data",
       "text": [
        "<IPython.core.display.Math at 0x7fa7ff215278>"
       ]
      },
      {
       "latex": [
        "$$- \\frac{1}{x^{2} - 1} \\left(\\left(x^{2} - 1\\right) \\left(2 x \\frac{d}{d x} f{\\left (x \\right )} + \\left(x^{2} - 1\\right) \\frac{d^{2}}{d x^{2}}  f{\\left (x \\right )}\\right) + \\left(N \\left(x^{2} - 1\\right) + q^{2}\\right) f{\\left (x \\right )}\\right)$$"
       ],
       "metadata": {},
       "output_type": "display_data",
       "text": [
        "<IPython.core.display.Math at 0x7fa81b674f28>"
       ]
      }
     ],
     "prompt_number": 70
    },
    {
     "cell_type": "code",
     "collapsed": false,
     "input": [
      "\n",
      "EQ = EQ.subs(Function('f')(x), (Function('f')(x)*cosh(vsig)**(-2*p))).subs(vsig, vsig_inv).doit().simplify()\n",
      "display(Math(latex(EQ)))\n",
      "\n",
      "EQ = EQ.expand().simplify()\n",
      "display(Math(latex(EQ)))\n",
      "\n",
      "A = Wild('A')\n",
      "B = Wild('B')\n",
      "A_B_ = EQ.match(A*B)\n",
      "display(Math(latex(A_B_)))\n",
      "\n",
      "EQ = A_B_[B]\n",
      "display(Math(latex(EQ)))\n",
      "\n",
      "EQ = EQ/(1-x**2).expand()\n",
      "display(Math(latex(EQ)))\n",
      "\n",
      "from Electromagnetics.Misc import SimplifyDiffEquationCoeffs\n",
      "\n",
      "EQ = SimplifyDiffEquationCoeffs(EQ, Function('f')(x), x, 2)\n",
      "display(Math(latex(EQ)))\n",
      "\n",
      "EQ = EQ.subs(q**2, -4*p**2)\n",
      "EQ = SimplifyDiffEquationCoeffs(EQ, Function('f')(x), x, 2)\n",
      "display(Math(latex(EQ)))\n"
     ],
     "language": "python",
     "metadata": {},
     "outputs": [
      {
       "latex": [
        "$$- \\frac{1}{\\left(x^{2} - 1\\right)^{3}} \\left(2 x \\left(x^{2} - 1\\right)^{2} \\left(2 p x \\left(- x^{2} + 1\\right)^{p} f{\\left (x \\right )} - \\left(- x^{2} + 1\\right)^{p + 1} \\frac{d}{d x} f{\\left (x \\right )}\\right) + \\left(- x^{2} + 1\\right)^{p + 2} \\left(N \\left(x^{2} - 1\\right) + q^{2}\\right) f{\\left (x \\right )} + \\left(- x^{2} + 1\\right)^{p + 2} \\left(4 p x^{2} \\left(p - 1\\right) f{\\left (x \\right )} + 2 p \\left(x^{2} - 1\\right) \\left(2 x \\frac{d}{d x} f{\\left (x \\right )} + f{\\left (x \\right )}\\right) + \\left(x^{2} - 1\\right)^{2} \\frac{d^{2}}{d x^{2}}  f{\\left (x \\right )}\\right)\\right)$$"
       ],
       "metadata": {},
       "output_type": "display_data",
       "text": [
        "<IPython.core.display.Math at 0x7fa7ff2eecc0>"
       ]
      },
      {
       "latex": [
        "$$\\left(- x^{2} + 1\\right)^{p - 1} \\left(N x^{2} f{\\left (x \\right )} - N f{\\left (x \\right )} + 4 p^{2} x^{2} f{\\left (x \\right )} + 4 p x^{3} \\frac{d}{d x} f{\\left (x \\right )} + 2 p x^{2} f{\\left (x \\right )} - 4 p x \\frac{d}{d x} f{\\left (x \\right )} - 2 p f{\\left (x \\right )} + q^{2} f{\\left (x \\right )} + x^{4} \\frac{d^{2}}{d x^{2}}  f{\\left (x \\right )} + 2 x^{3} \\frac{d}{d x} f{\\left (x \\right )} - 2 x^{2} \\frac{d^{2}}{d x^{2}}  f{\\left (x \\right )} - 2 x \\frac{d}{d x} f{\\left (x \\right )} + \\frac{d^{2}}{d x^{2}}  f{\\left (x \\right )}\\right)$$"
       ],
       "metadata": {},
       "output_type": "display_data",
       "text": [
        "<IPython.core.display.Math at 0x7fa7ff2f5d30>"
       ]
      },
      {
       "latex": [
        "$$\\left \\{ A : \\left(- x^{2} + 1\\right)^{p - 1}, \\quad B : N x^{2} f{\\left (x \\right )} - N f{\\left (x \\right )} + 4 p^{2} x^{2} f{\\left (x \\right )} + 4 p x^{3} \\frac{d}{d x} f{\\left (x \\right )} + 2 p x^{2} f{\\left (x \\right )} - 4 p x \\frac{d}{d x} f{\\left (x \\right )} - 2 p f{\\left (x \\right )} + q^{2} f{\\left (x \\right )} + x^{4} \\frac{d^{2}}{d x^{2}}  f{\\left (x \\right )} + 2 x^{3} \\frac{d}{d x} f{\\left (x \\right )} - 2 x^{2} \\frac{d^{2}}{d x^{2}}  f{\\left (x \\right )} - 2 x \\frac{d}{d x} f{\\left (x \\right )} + \\frac{d^{2}}{d x^{2}}  f{\\left (x \\right )}\\right \\}$$"
       ],
       "metadata": {},
       "output_type": "display_data",
       "text": [
        "<IPython.core.display.Math at 0x7fa7ff215550>"
       ]
      },
      {
       "latex": [
        "$$N x^{2} f{\\left (x \\right )} - N f{\\left (x \\right )} + 4 p^{2} x^{2} f{\\left (x \\right )} + 4 p x^{3} \\frac{d}{d x} f{\\left (x \\right )} + 2 p x^{2} f{\\left (x \\right )} - 4 p x \\frac{d}{d x} f{\\left (x \\right )} - 2 p f{\\left (x \\right )} + q^{2} f{\\left (x \\right )} + x^{4} \\frac{d^{2}}{d x^{2}}  f{\\left (x \\right )} + 2 x^{3} \\frac{d}{d x} f{\\left (x \\right )} - 2 x^{2} \\frac{d^{2}}{d x^{2}}  f{\\left (x \\right )} - 2 x \\frac{d}{d x} f{\\left (x \\right )} + \\frac{d^{2}}{d x^{2}}  f{\\left (x \\right )}$$"
       ],
       "metadata": {},
       "output_type": "display_data",
       "text": [
        "<IPython.core.display.Math at 0x7fa7ff215550>"
       ]
      },
      {
       "latex": [
        "$$\\frac{1}{- x^{2} + 1} \\left(N x^{2} f{\\left (x \\right )} - N f{\\left (x \\right )} + 4 p^{2} x^{2} f{\\left (x \\right )} + 4 p x^{3} \\frac{d}{d x} f{\\left (x \\right )} + 2 p x^{2} f{\\left (x \\right )} - 4 p x \\frac{d}{d x} f{\\left (x \\right )} - 2 p f{\\left (x \\right )} + q^{2} f{\\left (x \\right )} + x^{4} \\frac{d^{2}}{d x^{2}}  f{\\left (x \\right )} + 2 x^{3} \\frac{d}{d x} f{\\left (x \\right )} - 2 x^{2} \\frac{d^{2}}{d x^{2}}  f{\\left (x \\right )} - 2 x \\frac{d}{d x} f{\\left (x \\right )} + \\frac{d^{2}}{d x^{2}}  f{\\left (x \\right )}\\right)$$"
       ],
       "metadata": {},
       "output_type": "display_data",
       "text": [
        "<IPython.core.display.Math at 0x7fa7ff215550>"
       ]
      },
      {
       "latex": [
        "$$- 2 x \\left(2 p + 1\\right) \\frac{d}{d x} f{\\left (x \\right )} + \\left(- x^{2} + 1\\right) \\frac{d^{2}}{d x^{2}}  f{\\left (x \\right )} + \\frac{f{\\left (x \\right )}}{x^{2} - 1} \\left(- N x^{2} + N - 4 p^{2} x^{2} - 2 p x^{2} + 2 p - q^{2}\\right)$$"
       ],
       "metadata": {},
       "output_type": "display_data",
       "text": [
        "<IPython.core.display.Math at 0x7fa7ff237c88>"
       ]
      },
      {
       "latex": [
        "$$- 2 x \\left(2 p + 1\\right) \\frac{d}{d x} f{\\left (x \\right )} + \\left(- x^{2} + 1\\right) \\frac{d^{2}}{d x^{2}}  f{\\left (x \\right )} + \\left(- N - 4 p^{2} - 2 p\\right) f{\\left (x \\right )}$$"
       ],
       "metadata": {},
       "output_type": "display_data",
       "text": [
        "<IPython.core.display.Math at 0x7fa7ffc90630>"
       ]
      }
     ],
     "prompt_number": 71
    },
    {
     "cell_type": "code",
     "collapsed": false,
     "input": [
      "g_x = (1-x)/2\n",
      "x_inv = 1 - 2*nu\n",
      "\n",
      "EQ = pdeChangeOfVariables(EQ, [x], [nu], [g_x], [x_inv])\n",
      "display(Math(latex(EQ)))\n",
      "\n",
      "EQ = EQ.subs(Function('f')(x), Function('f')(nu)).subs(x, x_inv).simplify()\n",
      "display(Math(latex(EQ)))\n",
      "\n",
      "EQ = EQ.doit().simplify()\n",
      "display(Math(latex(EQ)))\n",
      "\n",
      "EQ = SimplifyDiffEquationCoeffs(EQ, Function('f')(nu), nu, 2)\n",
      "display(Math(latex(EQ)))\n"
     ],
     "language": "python",
     "metadata": {},
     "outputs": [
      {
       "latex": [
        "$$x \\left(2 p + 1\\right) \\frac{d}{d \\nu} f{\\left (x \\right )} - \\frac{1}{2} \\left(- x^{2} + 1\\right) \\frac{d}{d \\nu}\\left(- \\frac{1}{2} \\frac{d}{d \\nu} f{\\left (x \\right )}\\right) + \\left(- N - 4 p^{2} - 2 p\\right) f{\\left (x \\right )}$$"
       ],
       "metadata": {},
       "output_type": "display_data",
       "text": [
        "<IPython.core.display.Math at 0x7fa7ff2153c8>"
       ]
      },
      {
       "latex": [
        "$$- \\left(2 \\nu - 1\\right) \\left(2 p + 1\\right) \\frac{d}{d \\nu} f{\\left (\\nu \\right )} + \\frac{1}{2} \\left(\\left(2 \\nu - 1\\right)^{2} - 1\\right) \\frac{d}{d \\nu}\\left(- \\frac{1}{2} \\frac{d}{d \\nu} f{\\left (\\nu \\right )}\\right) - \\left(N + 4 p^{2} + 2 p\\right) f{\\left (\\nu \\right )}$$"
       ],
       "metadata": {},
       "output_type": "display_data",
       "text": [
        "<IPython.core.display.Math at 0x7fa7ff2153c8>"
       ]
      },
      {
       "latex": [
        "$$- \\left(2 \\nu - 1\\right) \\left(2 p + 1\\right) \\frac{d}{d \\nu} f{\\left (\\nu \\right )} - \\frac{1}{4} \\left(\\left(2 \\nu - 1\\right)^{2} - 1\\right) \\frac{d^{2}}{d \\nu^{2}}  f{\\left (\\nu \\right )} - \\left(N + 4 p^{2} + 2 p\\right) f{\\left (\\nu \\right )}$$"
       ],
       "metadata": {},
       "output_type": "display_data",
       "text": [
        "<IPython.core.display.Math at 0x7fa7ff2153c8>"
       ]
      },
      {
       "latex": [
        "$$\\nu \\left(- \\nu + 1\\right) \\frac{d^{2}}{d \\nu^{2}}  f{\\left (\\nu \\right )} - \\left(2 \\nu - 1\\right) \\left(2 p + 1\\right) \\frac{d}{d \\nu} f{\\left (\\nu \\right )} + \\left(- N - 4 p^{2} - 2 p\\right) f{\\left (\\nu \\right )}$$"
       ],
       "metadata": {},
       "output_type": "display_data",
       "text": [
        "<IPython.core.display.Math at 0x7fa7ff2153c8>"
       ]
      }
     ],
     "prompt_number": 72
    },
    {
     "cell_type": "code",
     "collapsed": false,
     "input": [],
     "language": "python",
     "metadata": {},
     "outputs": []
    }
   ],
   "metadata": {}
  }
 ]
}