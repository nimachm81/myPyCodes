{
 "cells": [
  {
   "cell_type": "markdown",
   "metadata": {},
   "source": [
    "### Wave equation, central difference"
   ]
  },
  {
   "cell_type": "code",
   "execution_count": 1,
   "metadata": {
    "collapsed": false
   },
   "outputs": [
    {
     "data": {
      "text/latex": [
       "$$\\frac{1}{dt^{2}} \\left(- 2 E{\\left (t,z \\right )} + E{\\left (- dt + t,z \\right )} + E{\\left (dt + t,z \\right )}\\right) - \\frac{1}{c^{2} dz^{2}} \\left(- 2 E{\\left (t,z \\right )} + E{\\left (t,- dz + z \\right )} + E{\\left (t,dz + z \\right )}\\right)$$"
      ],
      "text/plain": [
       "<IPython.core.display.Math object>"
      ]
     },
     "metadata": {},
     "output_type": "display_data"
    },
    {
     "data": {
      "text/latex": [
       "$$\\frac{1}{dt^{2}} e^{i \\omega dt} - \\frac{2}{dt^{2}} + \\frac{1}{dt^{2}} e^{- i \\omega dt} - \\frac{e^{i dz k}}{c^{2} dz^{2}} + \\frac{2}{c^{2} dz^{2}} - \\frac{e^{- i dz k}}{c^{2} dz^{2}}$$"
      ],
      "text/plain": [
       "<IPython.core.display.Math object>"
      ]
     },
     "metadata": {},
     "output_type": "display_data"
    },
    {
     "data": {
      "text/latex": [
       "$$\\left [ - \\frac{i}{dt} \\log{\\left (\\frac{e^{- i dz k}}{2 c^{2} dz^{2}} \\left(2 c^{2} dz^{2} e^{i dz k} + dt^{2} e^{2 i dz k} - 2 dt^{2} e^{i dz k} + dt^{2} - dt \\left(e^{i dz k} - 1\\right) \\sqrt{4 c^{2} dz^{2} e^{i dz k} + dt^{2} e^{2 i dz k} - 2 dt^{2} e^{i dz k} + dt^{2}}\\right) \\right )}, \\quad - \\frac{i}{dt} \\log{\\left (\\frac{e^{- i dz k}}{2 c^{2} dz^{2}} \\left(2 c^{2} dz^{2} e^{i dz k} + dt^{2} e^{2 i dz k} - 2 dt^{2} e^{i dz k} + dt^{2} + dt \\left(e^{i dz k} - 1\\right) \\sqrt{4 c^{2} dz^{2} e^{i dz k} + dt^{2} e^{2 i dz k} - 2 dt^{2} e^{i dz k} + dt^{2}}\\right) \\right )}\\right ]$$"
      ],
      "text/plain": [
       "<IPython.core.display.Math object>"
      ]
     },
     "metadata": {},
     "output_type": "display_data"
    }
   ],
   "source": [
    "from sympy import *\n",
    "from IPython.display import display, Math, Latex\n",
    "from Electromagnetics.SymExprTree import *\n",
    "\n",
    "t, z = symbols('t z', real=True)\n",
    "dt, dz = symbols('dt dz', real=True)\n",
    "w, k = symbols(r'\\omega k', real=True)\n",
    "c = symbols('c')\n",
    "S = symbols('S')\n",
    "\n",
    "E = Function('E')\n",
    "\n",
    "expr = (E(t+dt,z) - 2*E(t,z) + E(t-dt,z))/dt**2 - 1/c**2*(E(t,z+dz) - 2*E(t,z) + E(t, z-dz))/dz**2\n",
    "\n",
    "display(Math(latex(expr)))\n",
    "\n",
    "harm = exp(I*(w*t-k*z))\n",
    "expr_wk = symExp_replaceFunction_withArgs(expr, E, (t, z), harm)\n",
    "expr_wk = (expr_wk / harm).simplify()\n",
    "\n",
    "display(Math(latex(expr_wk)))\n",
    "\n",
    "w_sub = solve(expr_wk, w)\n",
    "display(Math(latex(w_sub)))\n"
   ]
  },
  {
   "cell_type": "markdown",
   "metadata": {},
   "source": [
    "### Maxwell, Yee, central difference"
   ]
  },
  {
   "cell_type": "code",
   "execution_count": 2,
   "metadata": {
    "collapsed": false
   },
   "outputs": [
    {
     "data": {
      "text/latex": [
       "$$\\frac{\\mu}{dt} \\left(- H{\\left (- \\frac{dt}{2} + t,\\frac{dz}{2} + z \\right )} + H{\\left (\\frac{dt}{2} + t,\\frac{dz}{2} + z \\right )}\\right) + \\frac{1}{dz} \\left(- E{\\left (t,z \\right )} + E{\\left (t,dz + z \\right )}\\right)$$"
      ],
      "text/plain": [
       "<IPython.core.display.Math object>"
      ]
     },
     "metadata": {},
     "output_type": "display_data"
    },
    {
     "data": {
      "text/latex": [
       "$$\\frac{\\epsilon}{dt} \\left(- E{\\left (t,z \\right )} + E{\\left (dt + t,z \\right )}\\right) + \\frac{1}{dz} \\left(- H{\\left (\\frac{dt}{2} + t,- \\frac{dz}{2} + z \\right )} + H{\\left (\\frac{dt}{2} + t,\\frac{dz}{2} + z \\right )}\\right)$$"
      ],
      "text/plain": [
       "<IPython.core.display.Math object>"
      ]
     },
     "metadata": {},
     "output_type": "display_data"
    },
    {
     "data": {
      "text/latex": [
       "$$\\frac{1}{dt dz} \\left(- E_{0} dt + E_{0} dt e^{- i dz k} + H_{0} \\mu dz e^{\\frac{i}{2} \\left(\\omega dt - dz k\\right)} - H_{0} \\mu dz e^{- \\frac{i}{2} \\left(\\omega dt + dz k\\right)}\\right)$$"
      ],
      "text/plain": [
       "<IPython.core.display.Math object>"
      ]
     },
     "metadata": {},
     "output_type": "display_data"
    },
    {
     "data": {
      "text/latex": [
       "$$\\frac{1}{dt dz} \\left(E_{0} \\epsilon dz e^{i \\omega dt} - E_{0} \\epsilon dz + H_{0} dt e^{\\frac{i}{2} \\left(\\omega dt - dz k\\right)} - H_{0} dt e^{\\frac{i}{2} \\left(\\omega dt + dz k\\right)}\\right)$$"
      ],
      "text/plain": [
       "<IPython.core.display.Math object>"
      ]
     },
     "metadata": {},
     "output_type": "display_data"
    },
    {
     "data": {
      "text/latex": [
       "$$mat = \\left[\\begin{matrix}- \\frac{1}{dz} + \\frac{1}{dz} e^{- i dz k} & \\frac{\\mu}{dt} \\left(e^{i \\omega dt} - 1\\right) e^{- \\frac{i}{2} \\left(\\omega dt + dz k\\right)}\\\\\\frac{\\epsilon}{dt} \\left(e^{i \\omega dt} - 1\\right) & \\frac{1}{dz} \\left(e^{\\frac{i}{2} \\left(\\omega dt - dz k\\right)} - e^{\\frac{i}{2} \\left(\\omega dt + dz k\\right)}\\right)\\end{matrix}\\right]$$"
      ],
      "text/plain": [
       "<IPython.core.display.Math object>"
      ]
     },
     "metadata": {},
     "output_type": "display_data"
    }
   ],
   "source": [
    "from sympy import *\n",
    "from IPython.display import display, Math, Latex\n",
    "from Electromagnetics.SymExprTree import *\n",
    "from Electromagnetics import Misc\n",
    "\n",
    "t, z = symbols('t z', real=True)\n",
    "dt, dz = symbols('dt dz', real=True)\n",
    "w, k = symbols(r'\\omega k', real=True)\n",
    "c = symbols('c')\n",
    "S = symbols('S')\n",
    "mu, eps = symbols(r'\\mu \\epsilon')\n",
    "E_0, H_0 = symbols('E_0 H_0')\n",
    "\n",
    "E = Function('E')\n",
    "H = Function('H')\n",
    "\n",
    "## curl E + mu d/dt H = 0\n",
    "expr_Ht = (E(t, z+dz) - E(t, z))/dz + mu*(H(t+dt/2, z+dz/2) - H(t-dt/2, z+dz/2))/dt\n",
    "## curl H - eps d/dt E = 0\n",
    "expr_Et = (H(t+dt/2, z+dz/2) - H(t+dt/2, z-dz/2))/dz + eps*(E(t+dt, z) - E(t, z))/dt\n",
    "\n",
    "display(Math(latex(expr_Ht)))\n",
    "display(Math(latex(expr_Et)))\n",
    "\n",
    "\n",
    "harm = exp(I*(w*t-k*z))\n",
    "expr_Ht_wk = symExp_replaceFunction_withArgs(expr_Ht, E, (t, z), E_0*harm)\n",
    "expr_Ht_wk = symExp_replaceFunction_withArgs(expr_Ht_wk, H, (t, z), H_0*harm)\n",
    "expr_Ht_wk = (expr_Ht_wk / harm).simplify()\n",
    "\n",
    "display(Math(latex(expr_Ht_wk)))\n",
    "\n",
    "expr_Et_wk = symExp_replaceFunction_withArgs(expr_Et, E, (t, z), E_0*harm)\n",
    "expr_Et_wk = symExp_replaceFunction_withArgs(expr_Et_wk, H, (t, z), H_0*harm)\n",
    "expr_Et_wk = (expr_Et_wk / harm).simplify()\n",
    "\n",
    "display(Math(latex(expr_Et_wk)))\n",
    "\n",
    "\n",
    "eqs = Matrix([expr_Ht_wk, expr_Et_wk])\n",
    "mat = Misc.SymEqSysLinearToMat(eqs, [E_0, H_0])\n",
    "mat = Misc.SymMatrixSimplify(mat)\n",
    "display(Math('mat = '+latex(mat)))\n",
    "\n"
   ]
  },
  {
   "cell_type": "markdown",
   "metadata": {},
   "source": [
    "### Maxwell, Colocated, central in t and central difference in z"
   ]
  },
  {
   "cell_type": "code",
   "execution_count": 6,
   "metadata": {
    "collapsed": false
   },
   "outputs": [
    {
     "data": {
      "text/latex": [
       "$$\\frac{\\mu}{2 dt} \\left(- H{\\left (- dt + t,z \\right )} + H{\\left (dt + t,z \\right )}\\right) + \\frac{1}{2 dz} \\left(- E{\\left (t,- dz + z \\right )} + E{\\left (t,dz + z \\right )}\\right)$$"
      ],
      "text/plain": [
       "<IPython.core.display.Math object>"
      ]
     },
     "metadata": {},
     "output_type": "display_data"
    },
    {
     "data": {
      "text/latex": [
       "$$\\frac{\\epsilon}{2 dt} \\left(- E{\\left (- dt + t,z \\right )} + E{\\left (dt + t,z \\right )}\\right) + \\frac{1}{2 dz} \\left(- H{\\left (t,- dz + z \\right )} + H{\\left (t,dz + z \\right )}\\right)$$"
      ],
      "text/plain": [
       "<IPython.core.display.Math object>"
      ]
     },
     "metadata": {},
     "output_type": "display_data"
    },
    {
     "data": {
      "text/latex": [
       "$$\\frac{1}{2 dt dz} \\left(- E_{0} dt e^{i dz k} + E_{0} dt e^{- i dz k} + H_{0} \\mu dz e^{i \\omega dt} - H_{0} \\mu dz e^{- i \\omega dt}\\right)$$"
      ],
      "text/plain": [
       "<IPython.core.display.Math object>"
      ]
     },
     "metadata": {},
     "output_type": "display_data"
    },
    {
     "data": {
      "text/latex": [
       "$$\\frac{1}{2 dt dz} \\left(E_{0} \\epsilon dz e^{i \\omega dt} - E_{0} \\epsilon dz e^{- i \\omega dt} - H_{0} dt e^{i dz k} + H_{0} dt e^{- i dz k}\\right)$$"
      ],
      "text/plain": [
       "<IPython.core.display.Math object>"
      ]
     },
     "metadata": {},
     "output_type": "display_data"
    },
    {
     "data": {
      "text/latex": [
       "$$mat = \\left[\\begin{matrix}\\frac{e^{- i dz k}}{2 dz} \\left(- e^{2 i dz k} + 1\\right) & \\frac{i \\mu}{dt} \\sin{\\left (\\omega dt \\right )}\\\\\\frac{i \\epsilon}{dt} \\sin{\\left (\\omega dt \\right )} & \\frac{e^{- i dz k}}{2 dz} \\left(- e^{2 i dz k} + 1\\right)\\end{matrix}\\right]$$"
      ],
      "text/plain": [
       "<IPython.core.display.Math object>"
      ]
     },
     "metadata": {},
     "output_type": "display_data"
    }
   ],
   "source": [
    "from sympy import *\n",
    "from IPython.display import display, Math, Latex\n",
    "from Electromagnetics.SymExprTree import *\n",
    "from Electromagnetics import Misc\n",
    "\n",
    "t, z = symbols('t z', real=True)\n",
    "dt, dz = symbols('dt dz', real=True)\n",
    "w, k = symbols(r'\\omega k', real=True)\n",
    "c = symbols('c')\n",
    "S = symbols('S')\n",
    "mu, eps = symbols(r'\\mu \\epsilon')\n",
    "E_0, H_0 = symbols('E_0 H_0')\n",
    "\n",
    "E = Function('E')\n",
    "H = Function('H')\n",
    "\n",
    "## curl E + mu d/dt H = 0\n",
    "expr_Ht = (E(t, z+dz) - E(t, z-dz))/(2*dz) + mu*(H(t+dt, z) - H(t-dt, z))/(2*dt)\n",
    "## curl H - eps d/dt E = 0\n",
    "expr_Et = (H(t, z+dz) - H(t, z-dz))/(2*dz) + eps*(E(t+dt, z) - E(t-dt, z))/(2*dt)\n",
    "\n",
    "display(Math(latex(expr_Ht)))\n",
    "display(Math(latex(expr_Et)))\n",
    "\n",
    "\n",
    "harm = exp(I*(w*t-k*z))\n",
    "expr_Ht_wk = symExp_replaceFunction_withArgs(expr_Ht, E, (t, z), E_0*harm)\n",
    "expr_Ht_wk = symExp_replaceFunction_withArgs(expr_Ht_wk, H, (t, z), H_0*harm)\n",
    "expr_Ht_wk = (expr_Ht_wk / harm).simplify()\n",
    "\n",
    "display(Math(latex(expr_Ht_wk)))\n",
    "\n",
    "expr_Et_wk = symExp_replaceFunction_withArgs(expr_Et, E, (t, z), E_0*harm)\n",
    "expr_Et_wk = symExp_replaceFunction_withArgs(expr_Et_wk, H, (t, z), H_0*harm)\n",
    "expr_Et_wk = (expr_Et_wk / harm).simplify()\n",
    "\n",
    "display(Math(latex(expr_Et_wk)))\n",
    "\n",
    "eqs = Matrix([expr_Ht_wk, expr_Et_wk])\n",
    "mat = Misc.SymEqSysLinearToMat(eqs, [E_0, H_0])\n",
    "mat = Misc.SymMatrixSimplify(mat)\n",
    "display(Math('mat = '+latex(mat)))\n",
    "\n"
   ]
  },
  {
   "cell_type": "markdown",
   "metadata": {},
   "source": [
    "### Maxwell, Colocated, forward in t and central difference in z"
   ]
  },
  {
   "cell_type": "code",
   "execution_count": 7,
   "metadata": {
    "collapsed": false
   },
   "outputs": [
    {
     "data": {
      "text/latex": [
       "$$\\frac{\\mu}{dt} \\left(- H{\\left (t,z \\right )} + H{\\left (dt + t,z \\right )}\\right) + \\frac{1}{2 dz} \\left(- E{\\left (t,- dz + z \\right )} + E{\\left (t,dz + z \\right )}\\right)$$"
      ],
      "text/plain": [
       "<IPython.core.display.Math object>"
      ]
     },
     "metadata": {},
     "output_type": "display_data"
    },
    {
     "data": {
      "text/latex": [
       "$$\\frac{\\epsilon}{dt} \\left(- E{\\left (t,z \\right )} + E{\\left (dt + t,z \\right )}\\right) + \\frac{1}{2 dz} \\left(- H{\\left (t,- dz + z \\right )} + H{\\left (t,dz + z \\right )}\\right)$$"
      ],
      "text/plain": [
       "<IPython.core.display.Math object>"
      ]
     },
     "metadata": {},
     "output_type": "display_data"
    },
    {
     "data": {
      "text/latex": [
       "$$- \\frac{E_{0} e^{i dz k}}{2 dz} + \\frac{E_{0}}{2 dz} e^{- i dz k} + \\frac{H_{0} \\mu}{dt} e^{i \\omega dt} - \\frac{H_{0} \\mu}{dt}$$"
      ],
      "text/plain": [
       "<IPython.core.display.Math object>"
      ]
     },
     "metadata": {},
     "output_type": "display_data"
    },
    {
     "data": {
      "text/latex": [
       "$$\\frac{E_{0} \\epsilon}{dt} e^{i \\omega dt} - \\frac{E_{0} \\epsilon}{dt} - \\frac{H_{0} e^{i dz k}}{2 dz} + \\frac{H_{0}}{2 dz} e^{- i dz k}$$"
      ],
      "text/plain": [
       "<IPython.core.display.Math object>"
      ]
     },
     "metadata": {},
     "output_type": "display_data"
    },
    {
     "data": {
      "text/latex": [
       "$$mat = \\left[\\begin{matrix}\\frac{e^{- i dz k}}{2 dz} \\left(- e^{2 i dz k} + 1\\right) & \\frac{\\mu}{dt} \\left(e^{i \\omega dt} - 1\\right)\\\\\\frac{\\epsilon}{dt} \\left(e^{i \\omega dt} - 1\\right) & \\frac{e^{- i dz k}}{2 dz} \\left(- e^{2 i dz k} + 1\\right)\\end{matrix}\\right]$$"
      ],
      "text/plain": [
       "<IPython.core.display.Math object>"
      ]
     },
     "metadata": {},
     "output_type": "display_data"
    }
   ],
   "source": [
    "from sympy import *\n",
    "from IPython.display import display, Math, Latex\n",
    "from Electromagnetics.SymExprTree import *\n",
    "\n",
    "t, z = symbols('t z', real=True)\n",
    "dt, dz = symbols('dt dz', real=True)\n",
    "w, k = symbols(r'\\omega k', real=True)\n",
    "c = symbols('c')\n",
    "S = symbols('S')\n",
    "mu, eps = symbols(r'\\mu \\epsilon')\n",
    "E_0, H_0 = symbols('E_0 H_0')\n",
    "\n",
    "E = Function('E')\n",
    "H = Function('H')\n",
    "\n",
    "## curl E + mu d/dt H = 0\n",
    "expr_Ht = (E(t, z+dz) - E(t, z-dz))/(2*dz) + mu*(H(t+dt, z) - H(t, z))/dt\n",
    "## curl H - eps d/dt E = 0\n",
    "expr_Et = (H(t, z+dz) - H(t, z-dz))/(2*dz) + eps*(E(t+dt, z) - E(t, z))/dt\n",
    "\n",
    "display(Math(latex(expr_Ht)))\n",
    "display(Math(latex(expr_Et)))\n",
    "\n",
    "\n",
    "harm = exp(I*(w*t-k*z))\n",
    "expr_Ht_wk = symExp_replaceFunction_withArgs(expr_Ht, E, (t, z), E_0*harm)\n",
    "expr_Ht_wk = symExp_replaceFunction_withArgs(expr_Ht_wk, H, (t, z), H_0*harm)\n",
    "expr_Ht_wk = (expr_Ht_wk / harm).simplify()\n",
    "\n",
    "display(Math(latex(expr_Ht_wk)))\n",
    "\n",
    "expr_Et_wk = symExp_replaceFunction_withArgs(expr_Et, E, (t, z), E_0*harm)\n",
    "expr_Et_wk = symExp_replaceFunction_withArgs(expr_Et_wk, H, (t, z), H_0*harm)\n",
    "expr_Et_wk = (expr_Et_wk / harm).simplify()\n",
    "\n",
    "display(Math(latex(expr_Et_wk)))\n",
    "\n",
    "\n",
    "eqs = Matrix([expr_Ht_wk, expr_Et_wk])\n",
    "mat = Misc.SymEqSysLinearToMat(eqs, [E_0, H_0])\n",
    "mat = Misc.SymMatrixSimplify(mat)\n",
    "display(Math('mat = '+latex(mat)))\n"
   ]
  },
  {
   "cell_type": "markdown",
   "metadata": {},
   "source": [
    "### Maxwell, staggered t Colocated z, forward in t and central difference in z"
   ]
  },
  {
   "cell_type": "code",
   "execution_count": 31,
   "metadata": {
    "collapsed": false
   },
   "outputs": [
    {
     "data": {
      "text/latex": [
       "$$\\frac{\\mu}{dt} \\left(- H{\\left (- \\frac{dt}{2} + t,z \\right )} + H{\\left (\\frac{dt}{2} + t,z \\right )}\\right) + \\frac{1}{2 dz} \\left(- E{\\left (t,- dz + z \\right )} + E{\\left (t,dz + z \\right )}\\right)$$"
      ],
      "text/plain": [
       "<IPython.core.display.Math object>"
      ]
     },
     "metadata": {},
     "output_type": "display_data"
    },
    {
     "data": {
      "text/latex": [
       "$$\\frac{\\epsilon}{dt} \\left(- E{\\left (t,z \\right )} + E{\\left (dt + t,z \\right )}\\right) + \\frac{1}{2 dz} \\left(- H{\\left (\\frac{dt}{2} + t,- dz + z \\right )} + H{\\left (\\frac{dt}{2} + t,dz + z \\right )}\\right)$$"
      ],
      "text/plain": [
       "<IPython.core.display.Math object>"
      ]
     },
     "metadata": {},
     "output_type": "display_data"
    },
    {
     "data": {
      "text/latex": [
       "$$- \\frac{E_{0} e^{i dz k}}{2 dz} + \\frac{E_{0}}{2 dz} e^{- i dz k} + \\frac{H_{0} \\mu}{dt} e^{\\frac{i \\omega}{2} dt} - \\frac{H_{0} \\mu}{dt} e^{- \\frac{i \\omega}{2} dt}$$"
      ],
      "text/plain": [
       "<IPython.core.display.Math object>"
      ]
     },
     "metadata": {},
     "output_type": "display_data"
    },
    {
     "data": {
      "text/latex": [
       "$$\\frac{1}{dt dz} \\left(E_{0} \\epsilon dz e^{i \\omega dt} - E_{0} \\epsilon dz + \\frac{H_{0} dt}{2} e^{i \\left(\\frac{\\omega dt}{2} - dz k\\right)} - \\frac{H_{0} dt}{2} e^{i \\left(\\frac{\\omega dt}{2} + dz k\\right)}\\right)$$"
      ],
      "text/plain": [
       "<IPython.core.display.Math object>"
      ]
     },
     "metadata": {},
     "output_type": "display_data"
    },
    {
     "data": {
      "text/latex": [
       "$$mat = \\left[\\begin{matrix}\\frac{e^{- i dz k}}{2 dz} \\left(- e^{2 i dz k} + 1\\right) & \\frac{2 i}{dt} \\mu \\sin{\\left (\\frac{\\omega dt}{2} \\right )}\\\\\\frac{\\epsilon}{dt} \\left(e^{i \\omega dt} - 1\\right) & \\frac{1}{2 dz} \\left(- e^{2 i dz k} + 1\\right) e^{i \\left(\\frac{\\omega dt}{2} - dz k\\right)}\\end{matrix}\\right]$$"
      ],
      "text/plain": [
       "<IPython.core.display.Math object>"
      ]
     },
     "metadata": {},
     "output_type": "display_data"
    }
   ],
   "source": [
    "from sympy import *\n",
    "from IPython.display import display, Math, Latex\n",
    "from Electromagnetics.SymExprTree import *\n",
    "\n",
    "t, z = symbols('t z', real=True)\n",
    "dt, dz = symbols('dt dz', real=True)\n",
    "w, k = symbols(r'\\omega k', real=True)\n",
    "c = symbols('c')\n",
    "S = symbols('S')\n",
    "mu, eps = symbols(r'\\mu \\epsilon')\n",
    "E_0, H_0 = symbols('E_0 H_0')\n",
    "\n",
    "E = Function('E')\n",
    "H = Function('H')\n",
    "\n",
    "## curl E + mu d/dt H = 0\n",
    "expr_Ht = (E(t, z+dz) - E(t, z-dz))/(2*dz) + mu*(H(t+dt/2, z) - H(t-dt/2, z))/dt\n",
    "## curl H - eps d/dt E = 0\n",
    "expr_Et = (H(t+dt/2, z+dz) - H(t+dt/2, z-dz))/(2*dz) + eps*(E(t+dt, z) - E(t, z))/dt\n",
    "\n",
    "display(Math(latex(expr_Ht)))\n",
    "display(Math(latex(expr_Et)))\n",
    "\n",
    "\n",
    "harm = exp(I*(w*t-k*z))\n",
    "expr_Ht_wk = symExp_replaceFunction_withArgs(expr_Ht, E, (t, z), E_0*harm)\n",
    "expr_Ht_wk = symExp_replaceFunction_withArgs(expr_Ht_wk, H, (t, z), H_0*harm)\n",
    "expr_Ht_wk = (expr_Ht_wk / harm).simplify()\n",
    "\n",
    "display(Math(latex(expr_Ht_wk)))\n",
    "\n",
    "expr_Et_wk = symExp_replaceFunction_withArgs(expr_Et, E, (t, z), E_0*harm)\n",
    "expr_Et_wk = symExp_replaceFunction_withArgs(expr_Et_wk, H, (t, z), H_0*harm)\n",
    "expr_Et_wk = (expr_Et_wk / harm).simplify()\n",
    "\n",
    "display(Math(latex(expr_Et_wk)))\n",
    "\n",
    "\n",
    "eqs = Matrix([expr_Ht_wk, expr_Et_wk])\n",
    "mat = Misc.SymEqSysLinearToMat(eqs, [E_0, H_0])\n",
    "mat = Misc.SymMatrixSimplify(mat)\n",
    "display(Math('mat = '+latex(mat)))\n"
   ]
  },
  {
   "cell_type": "markdown",
   "metadata": {},
   "source": [
    "### Numerical implementations"
   ]
  },
  {
   "cell_type": "code",
   "execution_count": 24,
   "metadata": {
    "collapsed": false
   },
   "outputs": [
    {
     "name": "stdout",
     "output_type": "stream",
     "text": [
      "Populating the interactive namespace from numpy and matplotlib\n"
     ]
    },
    {
     "name": "stderr",
     "output_type": "stream",
     "text": [
      "/usr/local/lib/python3.5/dist-packages/IPython/core/magics/pylab.py:161: UserWarning: pylab import has clobbered these variables: ['f']\n",
      "`%matplotlib` prevents importing * from pylab and numpy\n",
      "  \"\\n`%matplotlib` prevents importing * from pylab and numpy\"\n"
     ]
    }
   ],
   "source": [
    "## Yee, staggered in z, leapfrog in t, central difference in z, t\n",
    "\n",
    "%pylab wx\n",
    "\n",
    "import numpy as np\n",
    "import matplotlib.pyplot as plt\n",
    "import time\n",
    "\n",
    "f = 1\n",
    "omega = 2.0*np.pi*f\n",
    "eps_0, mu_0, c = 1.0, 1.0, 1.0\n",
    "z0, z1 = -10.0, 10.0\n",
    "\n",
    "lamda = c/f\n",
    "dz = lamda/30\n",
    "\n",
    "Nz = int((z1-z0)/dz)\n",
    "dz = (z1-z0)/Nz\n",
    "S = 0.99\n",
    "dt = S*dz/c\n",
    "\n",
    "z = np.linspace(z0, z1, Nz, endpoint=True)\n",
    "E_t = np.zeros(Nz)    ## Ex(t)\n",
    "H_t = np.zeros(Nz)    ## Hy(t)\n",
    "E_tp1 = np.zeros(Nz)   ## Ex(t+dt)\n",
    "H_tp1 = np.zeros(Nz)   ## Hy(t+dt)\n",
    "\n",
    "# eps_0*dE/dt = -Je + curl H    --->  E(t+dt,z) - E(t,z) = -dt/eps_0*(H(t+dt/2,z+dz/2) - H(t+dt/2,z-dz/2))/dz\n",
    "# mu_0*dH/dt = Jm -curl E    --->     H(t+dt/2,z+dz/2) - H(t-dt/2,z+dz/2) = -dt/mu_0*(E(t,z+dz) - E(t,z))/dz\n",
    "\n",
    "w_0 = omega\n",
    "mod_gauss = lambda z, t: np.exp(-(t-z/c)**2)*np.cos(w_0*(t-z/c))\n",
    "\n",
    "E_t = mod_gauss(z, t=0)\n",
    "H_t = mod_gauss(z-dz/2, t=+dt/2)\n",
    "\n",
    "t_max = 6.0\n",
    "Nt = int(t_max/dt)\n",
    "t = 0.0\n",
    "\n",
    "plt.ion()\n",
    "while True:\n",
    "    t += dt\n",
    "    E_tp1[1:-1] = E_t[1:-1] - dt/(eps_0*dz)*(H_t[2:] - H_t[:-2])\n",
    "    E_tp1[0], E_tp1[-1] = 0.0, 0.0\n",
    "\n",
    "    E_t[:] = E_tp1[:]\n",
    "    \n",
    "    H_tp1[1:-1] = H_t[1:-1] - dt/(mu_0*dz)*(E_t[2:] - E_t[:-2])\n",
    "    H_tp1[0] = H_t[0] - dt/(mu_0*dz)*(E_t[1] - 0.0)\n",
    "    H_tp1[-1] = H_t[-1] - dt/(mu_0*dz)*(0.0 - E_t[-2])\n",
    "    \n",
    "    H_t[:] = H_tp1[:]\n",
    "    \n",
    "    plot(z, E_t)\n",
    "    #show()\n",
    "    plt.pause(0.05)\n",
    "    clf()\n",
    "    \n",
    "    if t>t_max:\n",
    "        break\n",
    "        \n",
    "plt.show()       \n",
    "\n"
   ]
  },
  {
   "cell_type": "code",
   "execution_count": 25,
   "metadata": {
    "collapsed": false
   },
   "outputs": [
    {
     "name": "stdout",
     "output_type": "stream",
     "text": [
      "Populating the interactive namespace from numpy and matplotlib\n"
     ]
    },
    {
     "name": "stderr",
     "output_type": "stream",
     "text": [
      "/usr/local/lib/python3.5/dist-packages/IPython/core/magics/pylab.py:161: UserWarning: pylab import has clobbered these variables: ['f']\n",
      "`%matplotlib` prevents importing * from pylab and numpy\n",
      "  \"\\n`%matplotlib` prevents importing * from pylab and numpy\"\n"
     ]
    }
   ],
   "source": [
    "## (colocated t, z) Upwinding (backward difference) in t and central difference in z\n",
    "\n",
    "%pylab wx\n",
    "\n",
    "import numpy as np\n",
    "import matplotlib.pyplot as plt\n",
    "\n",
    "f = 1\n",
    "omega = 2.0*np.pi*f\n",
    "eps_0, mu_0, c = 1.0, 1.0, 1.0\n",
    "z0, z1 = -10.0, 10.0\n",
    "\n",
    "lamda = c/f\n",
    "dz = lamda/30\n",
    "\n",
    "Nz = int((z1-z0)/dz)\n",
    "dz = (z1-z0)/Nz\n",
    "S = 0.99\n",
    "dt = S*dz/c\n",
    "\n",
    "z = np.linspace(z0, z1, Nz, endpoint=True)\n",
    "E_t = np.zeros(Nz)    ## Ex(t)\n",
    "H_t = np.zeros(Nz)    ## Hy(t)\n",
    "E_t1 = np.zeros(Nz)   ## Ex(t+dt)\n",
    "H_t1 = np.zeros(Nz)   ## Hy(t+dt)\n",
    "\n",
    "# eps_0*dE/dt = -Je + curl H    --->  E(t+dt) - E(t) = -dt/eps_0*(H(z+dz) - H(z-dz))/2dz\n",
    "# mu_0*dH/dt = Jm -curl E    --->  H(t+dt) - H(t) = -dt/mu_0*(E(z+dz) - E(z-dz))/2dz\n",
    "\n",
    "w_0 = omega\n",
    "mod_gauss = lambda z, t: np.exp(-(t-z/c)**2)*np.cos(w_0*(t-z/c))\n",
    "\n",
    "E_t = mod_gauss(z, t=0)\n",
    "H_t = mod_gauss(z, t=0)\n",
    "\n",
    "t_max = 6.0\n",
    "Nt = int(t_max/dt)\n",
    "t = 0.0\n",
    "\n",
    "plt.ion()\n",
    "while True:\n",
    "    t += dt\n",
    "    E_t1[1:-1] = E_t[1:-1] - dt/(eps_0*2*dz)*(H_t[2:] - H_t[:-2])\n",
    "    E_t1[0], E_t1[-1] = 0.0, 0.0\n",
    "    \n",
    "    H_t1[1:-1] = H_t[1:-1] - dt/(mu_0*2*dz)*(E_t[2:] - E_t[:-2])\n",
    "    H_t1[0] = H_t[0] - dt/(mu_0*2*dz)*(E_t[1] - 0.0)\n",
    "    H_t1[-1] = H_t[-1] - dt/(mu_0*2*dz)*(0.0 - E_t[-2])\n",
    "\n",
    "    E_t[:] = E_t1[:]\n",
    "    H_t[:] = H_t1[:]\n",
    "    \n",
    "    plot(z, E_t)\n",
    "    plt.pause(0.05)\n",
    "    clf()\n",
    "    \n",
    "    if t>t_max:\n",
    "        break\n",
    "        \n",
    "plt.show()\n"
   ]
  },
  {
   "cell_type": "code",
   "execution_count": 26,
   "metadata": {
    "collapsed": false
   },
   "outputs": [
    {
     "name": "stdout",
     "output_type": "stream",
     "text": [
      "Populating the interactive namespace from numpy and matplotlib\n"
     ]
    },
    {
     "name": "stderr",
     "output_type": "stream",
     "text": [
      "/usr/local/lib/python3.5/dist-packages/IPython/core/magics/pylab.py:161: UserWarning: pylab import has clobbered these variables: ['f']\n",
      "`%matplotlib` prevents importing * from pylab and numpy\n",
      "  \"\\n`%matplotlib` prevents importing * from pylab and numpy\"\n"
     ]
    }
   ],
   "source": [
    "## (staggered t, colocated z) leapfrog in t and central difference in z\n",
    "\n",
    "%pylab wx\n",
    "\n",
    "import numpy as np\n",
    "import matplotlib.pyplot as plt\n",
    "\n",
    "f = 1\n",
    "omega = 2.0*np.pi*f\n",
    "eps_0, mu_0, c = 1.0, 1.0, 1.0\n",
    "z0, z1 = -10.0, 10.0\n",
    "\n",
    "lamda = c/f\n",
    "dz = lamda/30\n",
    "\n",
    "Nz = int((z1-z0)/dz)\n",
    "dz = (z1-z0)/Nz\n",
    "S = 0.99\n",
    "dt = S*dz/c\n",
    "\n",
    "z = np.linspace(z0, z1, Nz, endpoint=True)\n",
    "E_t = np.zeros(Nz)    ## Ex(t)\n",
    "H_t = np.zeros(Nz)    ## Hy(t)\n",
    "E_t1 = np.zeros(Nz)   ## Ex(t+dt)\n",
    "H_t1 = np.zeros(Nz)   ## Hy(t+dt)\n",
    "\n",
    "# eps_0*dE/dt = -Je + curl H    --->  E(t+dt, z) - E(t, z) = -dt/eps_0*(H(t+dt/2, z+dz) - H(t+dt/2, z-dz))/2dz\n",
    "# mu_0*dH/dt = Jm -curl E    --->  H(t+dt/2, z) - H(t-dt/2,z) = -dt/mu_0*(E(t,z+dz) - E(t,z-dz))/2dz\n",
    "\n",
    "w_0 = omega\n",
    "mod_gauss = lambda z, t: np.exp(-(t-z/c)**2)*np.cos(w_0*(t-z/c))\n",
    "\n",
    "E_t = mod_gauss(z, t=0)\n",
    "H_t = mod_gauss(z, t=dt/2)\n",
    "E_tm1 = mod_gauss(z, t=-dt)\n",
    "H_tm1 = mod_gauss(z, t=-dt/2)\n",
    "\n",
    "t_max = 4.0\n",
    "Nt = int(t_max/dt)\n",
    "t = 0.0\n",
    "plt.ion()\n",
    "while True:\n",
    "    t += dt\n",
    "    E_t1[1:-1] = E_t[1:-1] - dt/(eps_0*2*dz)*(H_t[2:] - H_t[:-2])\n",
    "    E_t1[0], E_t1[-1] = 0.0, 0.0\n",
    "    \n",
    "    E_t[:] = E_t1\n",
    "\n",
    "    H_t1[1:-1] = H_t[1:-1] - dt/(mu_0*2*dz)*(E_t[2:] - E_t[:-2])\n",
    "    H_t1[0] = H_t[0] - dt/(mu_0*2*dz)*(E_t[1] - 0.0)\n",
    "    H_t1[-1] = H_t[-1] - dt/(mu_0*2*dz)*(0.0 - E_t[-2])\n",
    "\n",
    "    H_t[:] = H_t1\n",
    "    \n",
    "    plt.pause(0.05)\n",
    "    clf()\n",
    "    plot(z, E_t)\n",
    "    \n",
    "    if t>t_max:\n",
    "        break\n",
    "        \n",
    "plt.show()\n"
   ]
  },
  {
   "cell_type": "code",
   "execution_count": 9,
   "metadata": {
    "collapsed": false
   },
   "outputs": [
    {
     "name": "stdout",
     "output_type": "stream",
     "text": [
      "Populating the interactive namespace from numpy and matplotlib\n"
     ]
    },
    {
     "name": "stderr",
     "output_type": "stream",
     "text": [
      "/usr/local/lib/python3.5/dist-packages/IPython/core/magics/pylab.py:161: UserWarning: pylab import has clobbered these variables: ['f']\n",
      "`%matplotlib` prevents importing * from pylab and numpy\n",
      "  \"\\n`%matplotlib` prevents importing * from pylab and numpy\"\n"
     ]
    }
   ],
   "source": [
    "## colocated t, z: central difference in t and central difference in z\n",
    "\n",
    "%pylab wx\n",
    "\n",
    "import numpy as np\n",
    "import matplotlib.pyplot as plt\n",
    "\n",
    "f = 1\n",
    "omega = 2.0*np.pi*f\n",
    "eps_0, mu_0, c = 1.0, 1.0, 1.0\n",
    "z0, z1 = -10.0, 10.0\n",
    "\n",
    "lamda = c/f\n",
    "dz = lamda/30\n",
    "\n",
    "Nz = int((z1-z0)/dz)\n",
    "dz = (z1-z0)/Nz\n",
    "S = 0.99\n",
    "dt = S*dz/c\n",
    "\n",
    "z = np.linspace(z0, z1, Nz, endpoint=True)\n",
    "E_t = np.zeros(Nz)    ## Ex(t)\n",
    "H_t = np.zeros(Nz)    ## Hy(t)\n",
    "E_tp1 = np.zeros(Nz)   ## Ex(t+dt)\n",
    "H_tp1 = np.zeros(Nz)   ## Hy(t+dt)\n",
    "E_tm1 = np.zeros(Nz)   ## Ex(t-dt)\n",
    "H_tm1 = np.zeros(Nz)   ## Hy(t-dt)\n",
    "\n",
    "# eps_0*dE/dt = -Je + curl H    --->  E(t+dt,z) - E(t-dt,z) = -2dt/eps_0*(H(t,z+dz) - H(t,z-dz))/2dz\n",
    "# mu_0*dH/dt = Jm -curl E    --->  H(t+dt,z) - H(t-dt,z) = -2dt/mu_0*(E(t,z+dz) - E(t,z-dz))/2dz\n",
    "\n",
    "w_0 = omega\n",
    "mod_gauss = lambda z, t: np.exp(-(t-z/c)**2)*np.cos(w_0*(t-z/c))\n",
    "\n",
    "E_t = mod_gauss(z, t=0)\n",
    "H_t = mod_gauss(z, t=0)\n",
    "E_tm1 = mod_gauss(z, t=-dt)\n",
    "H_tm1 = mod_gauss(z, t=-dt)\n",
    "\n",
    "t_max = 20.0\n",
    "Nt = int(t_max/dt)\n",
    "t = 0.0\n",
    "plt.ion()\n",
    "while True:\n",
    "    t += dt\n",
    "    E_tp1[1:-1] = E_tm1[1:-1] - dt/(eps_0*dz)*(H_t[2:] - H_t[:-2])\n",
    "    E_tp1[0], E_tp1[-1] = 0.0, 0.0\n",
    "\n",
    "    H_tp1[1:-1] = H_tm1[1:-1] - dt/(mu_0*dz)*(E_t[2:] - E_t[:-2])\n",
    "    H_tp1[0] = H_tm1[0] - 2*dt/(mu_0*dz)*(E_t[1] - E_t[0])\n",
    "    H_tp1[-1] = H_tm1[-1] - 2*dt/(mu_0*dz)*(E_t[-1] - E_t[-2])\n",
    "    \n",
    "    E_tm1[:] = E_t[:]\n",
    "    E_t[:] = E_tp1[:]\n",
    "    H_tm1[:] = H_t[:]\n",
    "    H_t[:] = H_tp1[:]\n",
    "    \n",
    "    plt.pause(0.01)\n",
    "    clf()\n",
    "    plot(z, E_t)\n",
    "    \n",
    "    if t>t_max:\n",
    "        break\n",
    "        \n",
    "plt.show()       \n",
    "\n"
   ]
  },
  {
   "cell_type": "markdown",
   "metadata": {
    "collapsed": true
   },
   "source": [
    "## colocated t, z + metasurface (GSTC)"
   ]
  },
  {
   "cell_type": "markdown",
   "metadata": {},
   "source": [
    "#### slab"
   ]
  },
  {
   "cell_type": "code",
   "execution_count": 8,
   "metadata": {
    "collapsed": false
   },
   "outputs": [
    {
     "name": "stdout",
     "output_type": "stream",
     "text": [
      "Populating the interactive namespace from numpy and matplotlib\n",
      "Ms position :  0.0\n"
     ]
    },
    {
     "name": "stderr",
     "output_type": "stream",
     "text": [
      "/usr/local/lib/python3.5/dist-packages/IPython/core/magics/pylab.py:161: UserWarning: pylab import has clobbered these variables: ['f']\n",
      "`%matplotlib` prevents importing * from pylab and numpy\n",
      "  \"\\n`%matplotlib` prevents importing * from pylab and numpy\"\n"
     ]
    }
   ],
   "source": [
    "## colocated t, z: central difference in t and central difference in z\n",
    "\n",
    "%pylab wx\n",
    "\n",
    "import numpy as np\n",
    "import matplotlib.pyplot as plt\n",
    "\n",
    "f = 1\n",
    "omega = 2.0*np.pi*f\n",
    "eps_0, mu_0, c = 1.0, 1.0, 1.0\n",
    "z0, z1 = -10.0, 10.0\n",
    "\n",
    "lamda = c/f\n",
    "dz = lamda/200\n",
    "\n",
    "Nz = int((z1-z0)/dz)\n",
    "if Nz%2==0: \n",
    "    Nz +=1\n",
    "dz = (z1-z0)/Nz\n",
    "S = 0.99\n",
    "dt = S*dz/c\n",
    "\n",
    "z = np.linspace(z0, z1, Nz, endpoint=True)\n",
    "E_t = np.zeros(Nz)    ## Ex(t)\n",
    "H_t = np.zeros(Nz)    ## Hy(t)\n",
    "E_tp1 = np.zeros(Nz)   ## Ex(t+dt)\n",
    "H_tp1 = np.zeros(Nz)   ## Hy(t+dt)\n",
    "E_tm1 = np.zeros(Nz)   ## Ex(t-dt)\n",
    "H_tm1 = np.zeros(Nz)   ## Hy(t-dt)\n",
    "\n",
    "# eps_0*dE/dt = -Je + curl H    --->  E(t+dt,z) - E(t-dt,z) = -Je*2dt/eps_0 -2dt/eps_0*(H(t,z+dz) - H(t,z-dz))/2dz\n",
    "# mu_0*dH/dt = Jm -curl E    --->  H(t+dt,z) - H(t-dt,z) = -Jm*2dt/mu_0 -2dt/mu_0*(E(t,z+dz) - E(t,z-dz))/2dz\n",
    "\n",
    "w_0 = omega\n",
    "mod_gauss = lambda z, t: np.exp(-(t-z/c)**2)*np.cos(w_0*(t-z/c))\n",
    "\n",
    "zg = -3\n",
    "tg = zg/c\n",
    "E_t = mod_gauss(z, t=tg+0)\n",
    "H_t = mod_gauss(z, t=tg+0)\n",
    "E_tm1 = mod_gauss(z, t=tg-dt)\n",
    "H_tm1 = mod_gauss(z, t=tg-dt)\n",
    "\n",
    "ind_ms = int(Nz/2)\n",
    "print('Ms position : ', z[ind_ms])\n",
    "\n",
    "Je_ms_t, Jm_ms_t = 0.0, 0.0\n",
    "sigma_e_ms_t, sigma_m_ms_t = 0.0, 0.0\n",
    "Em_ms_t, Em_ms_tm1 = 0.0, 0.0\n",
    "Ep_ms_t, Ep_ms_tm1 = 0.0, 0.0\n",
    "Hm_ms_t, Hm_ms_tm1 = 0.0, 0.0\n",
    "Hp_ms_t, Hp_ms_tm1 = 0.0, 0.0\n",
    "\n",
    "t_max = 10.0\n",
    "Nt = int(t_max/dt)\n",
    "i_t = 0\n",
    "t = 0.0\n",
    "plt.ion()\n",
    "while True:\n",
    "    sigma_e_ms_t = mod_gauss(0.0, tg+t)/E_t[ind_ms]\n",
    "    sigma_m_ms_t = mod_gauss(0.0, tg+t)/H_t[ind_ms]\n",
    "    \n",
    "    Je_ms_t = sigma_e_ms_t*E_t[ind_ms]\n",
    "    Jm_ms_t = sigma_m_ms_t*H_t[ind_ms]\n",
    "    \n",
    "    t += dt\n",
    "    i_t += 1\n",
    "    E_tp1[1:-1] = E_tm1[1:-1] - dt/(eps_0*dz)*(H_t[2:] - H_t[:-2])\n",
    "    E_tp1[0], E_tp1[-1] = 0.0, 0.0\n",
    "    \n",
    "    E_tp1[ind_ms  ] -= Je_ms_t*dt/(eps_0*dz)\n",
    "    E_tp1[ind_ms+1] -= 0.5*Je_ms_t*dt/(eps_0*dz)\n",
    "    E_tp1[ind_ms-1] -= 0.5*Je_ms_t*dt/(eps_0*dz)\n",
    "\n",
    "    H_tp1[1:-1] = H_tm1[1:-1] - dt/(mu_0*dz)*(E_t[2:] - E_t[:-2])\n",
    "    H_tp1[0] = H_tm1[0] - 2*dt/(mu_0*dz)*(E_t[1] - E_t[0])\n",
    "    H_tp1[-1] = H_tm1[-1] - 2*dt/(mu_0*dz)*(E_t[-1] - E_t[-2])\n",
    "    \n",
    "    H_tp1[ind_ms  ] -= Jm_ms_t*dt/(mu_0*dz)\n",
    "    H_tp1[ind_ms+1] -= 0.5*Jm_ms_t*dt/(mu_0*dz)\n",
    "    H_tp1[ind_ms-1] -= 0.5*Jm_ms_t*dt/(mu_0*dz)\n",
    "\n",
    "    E_tm1[:] = E_t[:]\n",
    "    E_t[:] = E_tp1[:]\n",
    "    H_tm1[:] = H_t[:]\n",
    "    H_t[:] = H_tp1[:]\n",
    "    \n",
    "    if i_t%20==0:\n",
    "        plt.pause(0.005)\n",
    "        clf()\n",
    "        plot(z, E_t)\n",
    "        ylim([-1.5, 1.5])\n",
    "        grid()\n",
    "    \n",
    "    if t>t_max:\n",
    "        break\n",
    "        \n",
    "plt.show()       \n",
    "\n"
   ]
  },
  {
   "cell_type": "markdown",
   "metadata": {},
   "source": [
    "#### metasurface (GSTC)"
   ]
  },
  {
   "cell_type": "code",
   "execution_count": 3,
   "metadata": {
    "collapsed": false
   },
   "outputs": [
    {
     "name": "stdout",
     "output_type": "stream",
     "text": [
      "Populating the interactive namespace from numpy and matplotlib\n",
      "Ms position :  0.0\n"
     ]
    },
    {
     "name": "stderr",
     "output_type": "stream",
     "text": [
      "/usr/local/lib/python3.5/dist-packages/IPython/core/magics/pylab.py:161: UserWarning: pylab import has clobbered these variables: ['f']\n",
      "`%matplotlib` prevents importing * from pylab and numpy\n",
      "  \"\\n`%matplotlib` prevents importing * from pylab and numpy\"\n"
     ]
    }
   ],
   "source": [
    "## colocated t, z: central difference in t and central difference in z\n",
    "\n",
    "%pylab wx\n",
    "\n",
    "import numpy as np\n",
    "import matplotlib.pyplot as plt\n",
    "\n",
    "f = 1\n",
    "omega = 2.0*np.pi*f\n",
    "eps_0, mu_0, c = 1.0, 1.0, 1.0\n",
    "z0, z1 = -10.0, 10.0\n",
    "\n",
    "lamda = c/f\n",
    "dz = lamda/200\n",
    "\n",
    "Nz = int((z1-z0)/dz)\n",
    "if Nz%2==0: \n",
    "    Nz +=1\n",
    "dz = (z1-z0)/Nz\n",
    "S = 0.5\n",
    "dt = S*dz/c\n",
    "\n",
    "z = np.linspace(z0, z1, Nz, endpoint=True)\n",
    "E_t = np.zeros(Nz)    ## Ex(t)\n",
    "H_t = np.zeros(Nz)    ## Hy(t)\n",
    "E_tp1 = np.zeros(Nz)   ## Ex(t+dt)\n",
    "H_tp1 = np.zeros(Nz)   ## Hy(t+dt)\n",
    "E_tm1 = np.zeros(Nz)   ## Ex(t-dt)\n",
    "H_tm1 = np.zeros(Nz)   ## Hy(t-dt)\n",
    "\n",
    "# eps_0*dE/dt = -Je + curl H    --->  E(t+dt,z) - E(t-dt,z) = -Je*2dt/eps_0 -2dt/eps_0*(H(t,z+dz) - H(t,z-dz))/2dz\n",
    "# mu_0*dH/dt = Jm -curl E    --->  H(t+dt,z) - H(t-dt,z) = -Jm*2dt/mu_0 -2dt/mu_0*(E(t,z+dz) - E(t,z-dz))/2dz\n",
    "\n",
    "w_0 = omega\n",
    "mod_gauss = lambda z, t: np.exp(-(t-z/c)**2)*np.cos(w_0*(t-z/c))\n",
    "\n",
    "zg = -3\n",
    "tg = zg/c\n",
    "E_t = mod_gauss(z, t=tg+0)\n",
    "H_t = mod_gauss(z, t=tg+0)\n",
    "E_tm1 = mod_gauss(z, t=tg-dt)\n",
    "H_tm1 = mod_gauss(z, t=tg-dt)\n",
    "\n",
    "ind_ms = int(Nz/2)\n",
    "print('Ms position : ', z[ind_ms])\n",
    "\n",
    "Je_ms_t, Jm_ms_t = 0.0, 0.0\n",
    "sigma_e_ms_t, sigma_m_ms_t = 0.0, 0.0\n",
    "Em_ms_t, Em_ms_tm1 = 0.0, 0.0\n",
    "Ep_ms_t, Ep_ms_tm1 = 0.0, 0.0\n",
    "Hm_ms_t, Hm_ms_tm1 = 0.0, 0.0\n",
    "Hp_ms_t, Hp_ms_tm1 = 0.0, 0.0\n",
    "\n",
    "Em_ms_t, Ep_ms_t = 0.0, 0.0\n",
    "Hm_ms_t, Hp_ms_t = 0.0, 0.0\n",
    "Em_ms_tm1, Ep_ms_tm1 = 0.0, 0.0\n",
    "Hm_ms_tm1, Hp_ms_tm1 = 0.0, 0.0\n",
    "\n",
    "t_max = 15.0\n",
    "Nt = int(t_max/dt)\n",
    "i_t = 0\n",
    "t = 0.0\n",
    "plt.ion()\n",
    "while True:\n",
    "    sigma_e_ms_t = mod_gauss(0.0, tg+t)/E_t[ind_ms]\n",
    "    sigma_m_ms_t = mod_gauss(0.0, tg+t)/H_t[ind_ms]\n",
    "    \n",
    "    Je_ms_t = sigma_e_ms_t*E_t[ind_ms]\n",
    "    Jm_ms_t = sigma_m_ms_t*H_t[ind_ms]\n",
    "    \n",
    "    Ep_ms_t = -0.5*Jm_ms_t\n",
    "    Em_ms_t =  0.5*Jm_ms_t\n",
    "    Hp_ms_t = -0.5*Je_ms_t\n",
    "    Hm_ms_t =  0.5*Je_ms_t\n",
    "    \n",
    "    t += dt\n",
    "    i_t += 1\n",
    "    E_tp1[1:-1] = E_tm1[1:-1] - dt/(eps_0*dz)*(H_t[2:] - H_t[:-2])\n",
    "    E_tp1[0], E_tp1[-1] = 0.0, 0.0\n",
    "    \n",
    "    E_tp1[ind_ms  ] -= Je_ms_t*dt/(eps_0*dz) ## ---> ?\n",
    "    E_tp1[ind_ms+1] += - dt/(eps_0*dz)*(0 - Hp_ms_t)\n",
    "    E_tp1[ind_ms-1] += - dt/(eps_0*dz)*(Hm_ms_t - 0)\n",
    "\n",
    "    # E_tp1[ind_ms  ] -= Je_ms_t*dt/(eps_0*dz)\n",
    "    # E_tp1[ind_ms+1] -= 0.5*Je_ms_t*dt/(eps_0*dz)\n",
    "    # E_tp1[ind_ms-1] -= 0.5*Je_ms_t*dt/(eps_0*dz)\n",
    "\n",
    "    \n",
    "    H_tp1[1:-1] = H_tm1[1:-1] - dt/(mu_0*dz)*(E_t[2:] - E_t[:-2])\n",
    "    H_tp1[0] = H_tm1[0] - 2*dt/(mu_0*dz)*(E_t[1] - E_t[0])\n",
    "    H_tp1[-1] = H_tm1[-1] - 2*dt/(mu_0*dz)*(E_t[-1] - E_t[-2])\n",
    "\n",
    "    H_tp1[ind_ms  ] -= Jm_ms_t*dt/(mu_0*dz) ## ---> ?\n",
    "    H_tp1[ind_ms+1] += - dt/(mu_0*dz)*(0 - Ep_ms_t)\n",
    "    H_tp1[ind_ms-1] += - dt/(mu_0*dz)*(Em_ms_t - 0)\n",
    "    \n",
    "    #H_tp1[ind_ms  ] -= Jm_ms_t*dt/(mu_0*dz)\n",
    "    #H_tp1[ind_ms+1] -= 0.5*Jm_ms_t*dt/(mu_0*dz)\n",
    "    #H_tp1[ind_ms-1] -= 0.5*Jm_ms_t*dt/(mu_0*dz)\n",
    "    \n",
    "    E_tm1[:] = E_t[:]\n",
    "    E_t[:] = E_tp1[:]\n",
    "    H_tm1[:] = H_t[:]\n",
    "    H_t[:] = H_tp1[:]\n",
    "    \n",
    "    Em_ms_tm1 = Em_ms_t\n",
    "    Ep_ms_tm1 = Ep_ms_t\n",
    "    Hm_ms_tm1 = Hm_ms_t\n",
    "    Hp_ms_tm1 = Hp_ms_t\n",
    "    \n",
    "    if i_t%20==0:\n",
    "        plt.pause(0.005)\n",
    "        clf()\n",
    "        plot(z, E_t)\n",
    "        ylim([-1.5, 1.5])\n",
    "        grid()\n",
    "    \n",
    "    if t>t_max:\n",
    "        break\n",
    "        \n",
    "plt.show()       \n",
    "\n"
   ]
  },
  {
   "cell_type": "markdown",
   "metadata": {
    "collapsed": true
   },
   "source": [
    "### time reversal"
   ]
  },
  {
   "cell_type": "markdown",
   "metadata": {
    "collapsed": true
   },
   "source": [
    "#### slab"
   ]
  },
  {
   "cell_type": "code",
   "execution_count": 37,
   "metadata": {
    "collapsed": false
   },
   "outputs": [
    {
     "name": "stdout",
     "output_type": "stream",
     "text": [
      "Populating the interactive namespace from numpy and matplotlib\n",
      "Ms position :  0.0\n"
     ]
    },
    {
     "name": "stderr",
     "output_type": "stream",
     "text": [
      "/usr/local/lib/python3.5/dist-packages/IPython/core/magics/pylab.py:161: UserWarning: pylab import has clobbered these variables: ['f']\n",
      "`%matplotlib` prevents importing * from pylab and numpy\n",
      "  \"\\n`%matplotlib` prevents importing * from pylab and numpy\"\n"
     ]
    }
   ],
   "source": [
    "## colocated t, z: central difference in t and central difference in z\n",
    "\n",
    "%pylab wx\n",
    "\n",
    "import numpy as np\n",
    "import matplotlib.pyplot as plt\n",
    "\n",
    "f = 1\n",
    "omega = 2.0*np.pi*f\n",
    "eps_0, mu_0, c = 1.0, 1.0, 1.0\n",
    "z0, z1 = -10.0, 10.0\n",
    "\n",
    "lamda = c/f\n",
    "dz = lamda/200\n",
    "\n",
    "Nz = int((z1-z0)/dz)\n",
    "if Nz%2==0: \n",
    "    Nz +=1\n",
    "dz = (z1-z0)/Nz\n",
    "S = 0.99\n",
    "dt = S*dz/c\n",
    "\n",
    "z = np.linspace(z0, z1, Nz, endpoint=True)\n",
    "E_t = np.zeros(Nz)    ## Ex(t)\n",
    "H_t = np.zeros(Nz)    ## Hy(t)\n",
    "E_tp1 = np.zeros(Nz)   ## Ex(t+dt)\n",
    "H_tp1 = np.zeros(Nz)   ## Hy(t+dt)\n",
    "E_tm1 = np.zeros(Nz)   ## Ex(t-dt)\n",
    "H_tm1 = np.zeros(Nz)   ## Hy(t-dt)\n",
    "\n",
    "# eps_0*dE/dt = -Je + curl H    --->  E(t+dt,z) - E(t-dt,z) = -Je*2dt/eps_0 -2dt/eps_0*(H(t,z+dz) - H(t,z-dz))/2dz\n",
    "# mu_0*dH/dt = Jm -curl E    --->  H(t+dt,z) - H(t-dt,z) = -Jm*2dt/mu_0 -2dt/mu_0*(E(t,z+dz) - E(t,z-dz))/2dz\n",
    "\n",
    "w_0 = omega\n",
    "mod_gauss = lambda z, t: np.exp(-(t-z/c)**2)*np.cos(w_0*(t-z/c))\n",
    "chirped_gauss = lambda z, t: np.exp(-(t-z/c)**2)*np.cos(w_0*(t-1.5-z/c)**2)\n",
    "def mod_inv_gauss(z, t, lam=10.0, mu=3.0): \n",
    "    u = t - z/c\n",
    "    u = (u>0)*u + (u<=0)*1.0e-5\n",
    "    return np.sqrt(lam/(2.0*np.pi*u**3))*np.exp((-lam*(u-mu)**2)/(2*mu**2*u))*np.cos(w_0*u)\n",
    "\n",
    "\n",
    "\n",
    "zg = -3           ## inv_gauss: -1   chirped_gauss:-3\n",
    "tg = zg/c\n",
    "\n",
    "st_func_inc = lambda z, t: chirped_gauss(z, t+tg)\n",
    "#st_func_inc = lambda z, t: mod_inv_gauss(z, t)\n",
    "\n",
    "E_t = st_func_inc(z, t=tg+0)\n",
    "H_t = st_func_inc(z, t=tg+0)\n",
    "E_tm1 = st_func_inc(z, t=tg-dt)\n",
    "H_tm1 = st_func_inc(z, t=tg-dt)\n",
    "\n",
    "ind_ms = int(Nz/2)\n",
    "print('Ms position : ', z[ind_ms])\n",
    "\n",
    "Je_ms_t, Jm_ms_t = 0.0, 0.0\n",
    "sigma_e_ms_t, sigma_m_ms_t = 0.0, 0.0\n",
    "Em_ms_t, Em_ms_tm1 = 0.0, 0.0\n",
    "Ep_ms_t, Ep_ms_tm1 = 0.0, 0.0\n",
    "Hm_ms_t, Hm_ms_tm1 = 0.0, 0.0\n",
    "Hp_ms_t, Hp_ms_tm1 = 0.0, 0.0\n",
    "\n",
    "T_tr = 6.0    ## inv_gauss: 10      chirped_gauss:6.0\n",
    "st_func_trans = lambda z, t: st_func_inc(z, T_tr-t)\n",
    "\n",
    "plt.figure()\n",
    "plot(np.linspace(-10, 10, 500), st_func_inc(0.0, np.linspace(-10, 10, 500)), 'r')\n",
    "plot(np.linspace(-10, 10, 500), st_func_trans(0.0, np.linspace(-10, 10, 500)), 'b')\n",
    "plt.show()\n",
    "\n",
    "t_max = 15.0\n",
    "Nt = int(t_max/dt)\n",
    "t = 0.0\n",
    "i_t = 0\n",
    "plt.figure()\n",
    "plt.ion()\n",
    "while True:\n",
    "    sigma_e_ms_t = (st_func_inc(0.0, tg+t)-st_func_trans(0.0, tg+t))/E_t[ind_ms]\n",
    "    sigma_m_ms_t = (st_func_inc(0.0, tg+t)-st_func_trans(0.0, tg+t))/H_t[ind_ms]\n",
    "    \n",
    "    Je_ms_t = sigma_e_ms_t*E_t[ind_ms]\n",
    "    Jm_ms_t = sigma_m_ms_t*H_t[ind_ms]\n",
    "    \n",
    "    if abs(E_t[ind_ms])==0.0:\n",
    "        Je_ms_t = 0.0\n",
    "    if abs(H_t[ind_ms])==0.0:\n",
    "        Jm_ms_t = 0.0\n",
    "    \n",
    "    t += dt\n",
    "    i_t += 1\n",
    "    E_tp1[1:-1] = E_tm1[1:-1] - dt/(eps_0*dz)*(H_t[2:] - H_t[:-2])\n",
    "    E_tp1[0], E_tp1[-1] = 0.0, 0.0\n",
    "    \n",
    "    E_tp1[ind_ms  ] -= Je_ms_t*dt/(eps_0*dz)\n",
    "    E_tp1[ind_ms+1] -= 0.5*Je_ms_t*dt/(eps_0*dz)\n",
    "    E_tp1[ind_ms-1] -= 0.5*Je_ms_t*dt/(eps_0*dz)\n",
    "\n",
    "    H_tp1[1:-1] = H_tm1[1:-1] - dt/(mu_0*dz)*(E_t[2:] - E_t[:-2])\n",
    "    H_tp1[0] = H_tm1[0] - 2*dt/(mu_0*dz)*(E_t[1] - E_t[0])\n",
    "    H_tp1[-1] = H_tm1[-1] - 2*dt/(mu_0*dz)*(E_t[-1] - E_t[-2])\n",
    "    \n",
    "    H_tp1[ind_ms  ] -= Jm_ms_t*dt/(mu_0*dz)\n",
    "    H_tp1[ind_ms+1] -= 0.5*Jm_ms_t*dt/(mu_0*dz)\n",
    "    H_tp1[ind_ms-1] -= 0.5*Jm_ms_t*dt/(mu_0*dz)\n",
    "\n",
    "    E_tm1[:] = E_t[:]\n",
    "    E_t[:] = E_tp1[:]\n",
    "    H_tm1[:] = H_t[:]\n",
    "    H_t[:] = H_tp1[:]\n",
    "    \n",
    "    if i_t%20==0:\n",
    "        plt.pause(0.005)\n",
    "        clf()\n",
    "        plot(z, E_t)\n",
    "        ylim([-1.5, 1.5])\n",
    "        grid()\n",
    "    \n",
    "    if t>t_max:\n",
    "        break\n",
    "        \n",
    "plt.show()       \n",
    "\n"
   ]
  },
  {
   "cell_type": "markdown",
   "metadata": {},
   "source": [
    "## 2D time reversal"
   ]
  },
  {
   "cell_type": "markdown",
   "metadata": {},
   "source": [
    "#### slab"
   ]
  },
  {
   "cell_type": "code",
   "execution_count": 4,
   "metadata": {
    "collapsed": false,
    "scrolled": true
   },
   "outputs": [
    {
     "name": "stdout",
     "output_type": "stream",
     "text": [
      "Populating the interactive namespace from numpy and matplotlib\n",
      "max |f_t| :  0.94667986265\n",
      "Source position :  -30.0\n",
      "Ms position :  0.0\n"
     ]
    },
    {
     "name": "stderr",
     "output_type": "stream",
     "text": [
      "/usr/local/lib/python3.5/dist-packages/IPython/core/magics/pylab.py:161: UserWarning: pylab import has clobbered these variables: ['f']\n",
      "`%matplotlib` prevents importing * from pylab and numpy\n",
      "  \"\\n`%matplotlib` prevents importing * from pylab and numpy\"\n"
     ]
    },
    {
     "name": "stdout",
     "output_type": "stream",
     "text": [
      "."
     ]
    },
    {
     "name": "stderr",
     "output_type": "stream",
     "text": [
      "/usr/local/lib/python3.5/dist-packages/ipykernel/__main__.py:338: RuntimeWarning: invalid value encountered in true_divide\n",
      "/usr/local/lib/python3.5/dist-packages/ipykernel/__main__.py:339: RuntimeWarning: invalid value encountered in true_divide\n"
     ]
    },
    {
     "name": "stdout",
     "output_type": "stream",
     "text": [
      "...................................................................................................3.49799232167 ....................................................................................................6.99598464334 ....................................................................................................10.493976965 ....................................................................................................13.9919692867 ....................................................................................................17.4899616084 ....................................................................................................20.98795393 ..."
     ]
    },
    {
     "name": "stderr",
     "output_type": "stream",
     "text": [
      "/usr/local/lib/python3.5/dist-packages/ipykernel/__main__.py:338: RuntimeWarning: divide by zero encountered in true_divide\n",
      "/usr/local/lib/python3.5/dist-packages/ipykernel/__main__.py:339: RuntimeWarning: divide by zero encountered in true_divide\n",
      "/usr/local/lib/python3.5/dist-packages/ipykernel/__main__.py:343: RuntimeWarning: invalid value encountered in multiply\n",
      "/usr/local/lib/python3.5/dist-packages/ipykernel/__main__.py:344: RuntimeWarning: invalid value encountered in multiply\n"
     ]
    },
    {
     "name": "stdout",
     "output_type": "stream",
     "text": [
      ".................................................................................................24.4859462517 ....................................................................................................27.9839385734 ....................................................................................................31.4819308951 ....................................................................................................34.9799232167 ....................................................................................................38.4779155384 ....................................................................................................41.9759078601 ....................................................................................................45.4739001817 ....................................................................................................48.9718925034 ....................................................................................................52.4698848251 ....................................................................................................55.9678771468 ....................................................................................................59.4658694684 ................e_max:  40.025000000000006\n"
     ]
    }
   ],
   "source": [
    "## colocated t, z: central difference in t and central difference in z\n",
    "\n",
    "%pylab wx \n",
    "\n",
    "import numpy as np\n",
    "import matplotlib.pyplot as plt\n",
    "import os\n",
    "\n",
    "\n",
    "subfold = \"Gaussian\"      ## Gaussian, Chirp, Gaussian_Deriv\n",
    "\n",
    "eps_0, mu_0, c = 1.0, 1.0, 1.0\n",
    "f = 1.0\n",
    "omega = 2.0*np.pi*f\n",
    "lamda = c/f\n",
    "\n",
    "z0, z1 = -40.0*lamda, 40.0*lamda\n",
    "y0, y1 = -40.0*lamda, 40.0*lamda\n",
    "\n",
    "\n",
    "dz = lamda/20\n",
    "dy = dz\n",
    "\n",
    "Nz = int((z1-z0)/dz)\n",
    "Ny = int((y1-y0)/dy)\n",
    "if Nz%2==0: \n",
    "    Nz +=1\n",
    "if Ny%2==0: \n",
    "    Ny +=1\n",
    "dz = (z1-z0)/Nz\n",
    "dy = (y1-y0)/Ny\n",
    "S = 0.99\n",
    "dt = S*dz/c/np.sqrt(2.0)\n",
    "\n",
    "z = np.linspace(z0, z1, Nz, endpoint=True)\n",
    "y = np.linspace(y0, y1, Ny, endpoint=True)\n",
    "Z, Y = np.meshgrid(z, y, indexing='ij')\n",
    "\n",
    "Ex_t = np.zeros((Nz, Ny))    ## Ex(t)\n",
    "Hy_t = np.zeros((Nz, Ny))    ## Hy(t)\n",
    "Hz_t = np.zeros((Nz, Ny))    ## Hz(t)\n",
    "Ex_tp1 = np.zeros((Nz, Ny))   ## Ex(t+dt)\n",
    "Hy_tp1 = np.zeros((Nz, Ny))   ## Hy(t+dt)\n",
    "Hz_tp1 = np.zeros((Nz, Ny))   ## Hz(t+dt)\n",
    "Ex_tm1 = np.zeros((Nz, Ny))   ## Ex(t-dt)\n",
    "Hy_tm1 = np.zeros((Nz, Ny))   ## Hy(t-dt)\n",
    "Hz_tm1 = np.zeros((Nz, Ny))   ## Hz(t-dt)\n",
    "\n",
    "# eps_0*dE/dt = -Je + curl H    --->  \n",
    "# E_x(t+dt,z) - E_x(t-dt,z) = -Je_x*2dt/eps_0 \n",
    "#                             -2dt/eps_0*[(H_y(t,z+dz) - H_y(t,z-dz))/2dz - (H_z(t,y+dy) - H_z(t,y-dy))/2dy]  \n",
    "# mu_0*dH/dt = Jm -curl E    --->  \n",
    "# H_y(t+dt,z,y) - H_y(t-dt,z,y) = -Jm_y*2dt/mu_0 -2dt/mu_0*(E_x(t,z+dz,y) - E_x(t,z-dz,y))/2dz\n",
    "# H_z(t+dt,z,y) - H_z(t-dt,z,y) = -Jm_z*2dt/mu_0 +2dt/mu_0*(E_x(t,z,y+dy) - E_x(t,z,y-dy))/2dy\n",
    "\n",
    "w_0 = omega\n",
    "mod_gauss_t = lambda t, alpha=1.0: np.exp(-t**2/alpha**2)*np.cos(w_0*t)\n",
    "\n",
    "mod_gauss_deriv_t = lambda t, alpha=1.0: -t*np.exp(-t**2/alpha**2)*np.cos(w_0*t)\n",
    "mod_gauss_deriv_2_t = lambda t, alpha=1.0: (-1+2*t**2/alpha**2)*np.exp(-t**2/alpha**2)*np.cos(w_0*t)\n",
    "\n",
    "gauss_t = lambda t, alpha=1.0: np.exp(-t**2/alpha**2)\n",
    "gauss_deriv_t = lambda t, alpha=1.0: -t*np.exp(-t**2/alpha**2)\n",
    "gauss_deriv_2_t = lambda t, alpha=1.0: (-1+2*t**2/alpha**2)*np.exp(-t**2/alpha**2)\n",
    "\n",
    "##  wc_l, wc_u = 2.0*w_0, 0.2*w_0 for chirp down and opposite for up\n",
    "def chirped_gauss_t(t, alpha=1.0): \n",
    "    wc_l, wc_u = 2.0*w_0, 0.2*w_0\n",
    "    tc_l, tc_u = -3.0*alpha, 3.0*alpha\n",
    "    w_t = wc_l*(t-tc_u)/(tc_l-tc_u) + wc_u*(t-tc_l)/(tc_u-tc_l)\n",
    "    return np.exp(-t**2/alpha**2)*np.cos(w_t*t)\n",
    "\n",
    "\n",
    "#down chirp: np.cos(w_0*(t-1.5*alpha)**2)\n",
    "#up chirp: np.cos(w_0*(t+1.5*alpha)**2)\n",
    "\n",
    "\n",
    "def mod_inv_gauss_t(t, lam=10.0, mu=3.0): \n",
    "    u = t\n",
    "    u = (u>0)*u + (u<=0)*1.0e-5\n",
    "    return np.sqrt(lam/(2.0*np.pi*u**3))*np.exp((-lam*(u-mu)**2)/(2*mu**2*u))*np.cos(w_0*u)\n",
    "\n",
    "gauss_y = lambda y, z0=1.0, alpha=1.0: np.exp(-y**2/alpha**2)#*np.cos(w_0/c*(np.sqrt(y**2 + z0**2)-z0))\n",
    "\n",
    "\n",
    "def tilted_gaussian_aperture(y, k, W, r0, theta):\n",
    "    \"\"\" r0: focal distance\n",
    "        W:  width\n",
    "        theta: tilt angle\n",
    "        k: wave vector\n",
    "        y: cross section sample points\n",
    "    \"\"\"\n",
    "    b = k*W**2/2\n",
    "    a = 1/b - 1j/r0\n",
    "    _y_ = y*np.cos(theta)\n",
    "    _z_ = y*np.sin(theta)\n",
    "    u = 1.0/(1.0-1j*a*_z_)*np.exp(-1j*k*_z_ - k*a/2*_y_**2/(1 - 1j*a*_z_))\n",
    "    return np.real(u)\n",
    "\n",
    "\n",
    "def tilted_gaussian_aperture_data(y, i_t, prefix):\n",
    "    ## 45 degree tilted gaussian. reads from saved diagonal data\n",
    "    diag_params = np.load('other/ST-MS/{}/{}Params_diag.npz'.format(subfold, prefix))\n",
    "    nd_chunk = diag_params['nd_chunk']\n",
    "    id_ch = i_t%nd_chunk\n",
    "    _dy_ = diag_params['dy']\n",
    "    _dz_ = diag_params['dz']\n",
    "    assert abs(_dy_-_dz_)/_dy_<1.0e-9\n",
    "    _dt_ = diag_params['dt']\n",
    "    assert abs(_dt_-dt)/_dt_<1.0e-9\n",
    "    _y_ = diag_params['y']\n",
    "    _Ny_ = len(_y_)\n",
    "    _y_d_ = _y_*np.sqrt(2.0)\n",
    "    file_i_t = 'other/ST-MS/{}/{}EH_d_{}.npz'.format(subfold, prefix, str(int(i_t/nd_chunk)))\n",
    "    if os.path.exists(file_i_t):\n",
    "        diag_fields = np.load(file_i_t)\n",
    "        #print(diag_fields.files)\n",
    "        Ex_d_ = diag_fields['Ex_d'] \n",
    "        Hy_d_ = diag_fields['Hy_d']\n",
    "        Hz_d_ = diag_fields['Hz_d']\n",
    "        Ex_d, Hy_d, Hz_d = np.zeros(_Ny_), np.zeros(_Ny_), np.zeros(_Ny_)\n",
    "        if id_ch<Ex_d_.shape[0]:\n",
    "            Ex_d = Ex_d_[id_ch,:]\n",
    "            Hy_d = Hy_d_[id_ch,:]\n",
    "            Hz_d = Hz_d_[id_ch,:]\n",
    "        _Ex_ = np.zeros(_Ny_)\n",
    "        _Hy_ = np.zeros(_Ny_)\n",
    "        _Hz_ = np.zeros(_Ny_)\n",
    "        for i in range(len(y)):\n",
    "            y_i = y[i]\n",
    "            ind_y_0  = np.argmax(_y_d_ > y_i)\n",
    "            assert ind_y_0>=0 and ind_y_0<_Ny_-1\n",
    "            ind_y_1 = ind_y_0+1\n",
    "            _Ex_[i] = Ex_d[ind_y_0] + (y_i - _y_d_[ind_y_0])/(_y_d_[ind_y_1] - _y_d_[ind_y_0])*Ex_d[ind_y_1]\n",
    "            _Hy_[i] = Hy_d[ind_y_0] + (y_i - _y_d_[ind_y_0])/(_y_d_[ind_y_1] - _y_d_[ind_y_0])*Hy_d[ind_y_1]\n",
    "            _Hz_[i] = Hz_d[ind_y_0] + (y_i - _y_d_[ind_y_0])/(_y_d_[ind_y_1] - _y_d_[ind_y_0])*Hz_d[ind_y_1]\n",
    "            \n",
    "        Jm_ms = -_Ex_\n",
    "        Je_ms = -(_Hy_ - _Hz_)/np.sqrt(2.0)\n",
    "        return Je_ms, Jm_ms\n",
    "        \n",
    "    else:\n",
    "        print(file_i_t, \": was not found.\")\n",
    "        _Ex_ = np.zeros(_Ny_)\n",
    "        _Hy_ = np.zeros(_Ny_)\n",
    "        _Hz_ = np.zeros(_Ny_)\n",
    "\n",
    "        Jm_ms = -_Ex_\n",
    "        Je_ms = -(_Hy_ - _Hz_)/np.sqrt(2.0)\n",
    "        return Je_ms, Jm_ms\n",
    "\n",
    "def horizontal_gaussian_aperture_data(y, i_t, prefix):\n",
    "    ## 45 degree tilted gaussian. reads from saved diagonal data\n",
    "    vert_params = np.load('other/ST-MS/{}/{}Params_vert.npz'.format(subfold, prefix))\n",
    "    nv_chunk = vert_params['nv_chunk']\n",
    "    id_ch = i_t%nv_chunk\n",
    "    _dy_ = vert_params['dy']\n",
    "    _dz_ = vert_params['dz']\n",
    "    assert abs(_dy_-_dz_)/_dy_<1.0e-9\n",
    "    _dt_ = vert_params['dt']\n",
    "    assert abs(_dt_-dt)/_dt_<1.0e-9\n",
    "    _y_ = vert_params['y']\n",
    "    _Ny_ = len(_y_)\n",
    "    _y_v_ = _y_\n",
    "    file_i_t = 'other/ST-MS/{}/{}EH_v_{}.npz'.format(subfold, prefix, str(int(i_t/nv_chunk)))\n",
    "    if os.path.exists(file_i_t):\n",
    "        vert_fields = np.load(file_i_t)\n",
    "        #print(vert_fields.files)\n",
    "        Ex_v_ = vert_fields['Ex_v'] \n",
    "        Hy_v_ = vert_fields['Hy_v']\n",
    "        Hz_v_ = vert_fields['Hz_v']\n",
    "        Ex_v, Hy_v, Hz_v = np.zeros(_Ny_), np.zeros(_Ny_), np.zeros(_Ny_)\n",
    "        if id_ch<Ex_v_.shape[0]:\n",
    "            Ex_v = Ex_v_[id_ch,:]\n",
    "            Hy_v = Hy_v_[id_ch,:]\n",
    "            Hz_v = Hz_v_[id_ch,:]\n",
    "            \n",
    "        Jm_ms = -Ex_v\n",
    "        Je_ms = -Hy_v\n",
    "        return Je_ms, Jm_ms\n",
    "        \n",
    "    else:\n",
    "        print(file_i_t, \": was not found.\")\n",
    "        _Ex_ = np.zeros(_Ny_)\n",
    "        _Hy_ = np.zeros(_Ny_)\n",
    "        _Hz_ = np.zeros(_Ny_)\n",
    "\n",
    "        Jm_ms = -_Ex_\n",
    "        Je_ms = -_Hy_\n",
    "        return Je_ms, Jm_ms\n",
    "\n",
    "\n",
    "## _df : diagonal flipped\n",
    "\n",
    "prefix = \"gaussian_to_flipderiv_downup_\" ## \"gaussian_deriv_2_\" \"gaussian_deriv_\" / \"gaussian_\" / \"chirp_up_\" / \"chirp_down_\"\n",
    "#st_func_inc = lambda t: mod_gauss_deriv_2_t(t, alpha=2.5)\n",
    "#st_func_inc = lambda t: mod_gauss_deriv_t(t, alpha=2.5)\n",
    "#st_func_inc = lambda t: mod_gauss_t(t, alpha=2.5)\n",
    "#st_func_inc = lambda t: chirped_gauss_t(t, alpha=3.5)\n",
    "\n",
    "st_func_inc = lambda t: (-gauss_t(t+0.25/f, alpha=2.5/f) + gauss_t(t-0.25/f, alpha=2.5/f))/0.18\n",
    "#st_func_inc = lambda t: (gauss_deriv_t(t+0.25/f, alpha=2.5/f) - gauss_deriv_t(t-0.25/f, alpha=2.5/f))/0.48\n",
    "\n",
    "\n",
    "plt.figure()\n",
    "_t_ = np.linspace(-10.0/f, 10.0/f, 200)\n",
    "plt.plot(_t_, st_func_inc(_t_))\n",
    "plt.show()\n",
    "print(\"max |f_t| : \", np.max(np.abs(st_func_inc(_t_))))\n",
    "\n",
    "z_src = -30.0*lamda\n",
    "ind_src = np.argmin(np.abs(z - z_src))\n",
    "print('Source position : ', z[ind_src])\n",
    "\n",
    "z_ms = 0.0\n",
    "ind_ms = np.argmin(np.abs(z - z_ms))\n",
    "print('Ms position : ', z[ind_ms])\n",
    "\n",
    "Jex_ms_t, Jmy_ms_t = np.zeros((1, Ny)), np.zeros((1, Ny))\n",
    "sigma_e_ms_t, sigma_m_ms_t = np.zeros((1, Ny)), np.zeros((1, Ny))\n",
    "Exm_ms_t, Exm_ms_tm1 = np.zeros((1, Ny)), np.zeros((1, Ny))\n",
    "Exp_ms_t, Exp_ms_tm1 = np.zeros((1, Ny)), np.zeros((1, Ny))\n",
    "Hym_ms_t, Hym_ms_tm1 = np.zeros((1, Ny)), np.zeros((1, Ny))\n",
    "Hyp_ms_t, Hyp_ms_tm1 = np.zeros((1, Ny)), np.zeros((1, Ny))\n",
    "\n",
    "Jex_src_t, Jmy_src_t = np.zeros((1, Ny)), np.zeros((1, Ny))\n",
    "\n",
    "\n",
    "n_tot_chunk = 50    ## total domain chunk\n",
    "save_tot_every = 10  ## saves every 10 time steps\n",
    "nd_chunk = 200      ## diagonal_chunk\n",
    "nv_chunk = nd_chunk     ## vertical_chunk\n",
    "\n",
    "flip_diag = False        ## True: downward\n",
    "write_diag_fields_to_file = False        ## diagonal cross section\n",
    "Ex_diagonal, Hy_diagonal, Hz_diagonal = [None]*3\n",
    "if write_diag_fields_to_file:\n",
    "    Ex_diagonal = np.zeros((nd_chunk, Ny))\n",
    "    Hy_diagonal = np.zeros((nd_chunk, Ny))\n",
    "    Hz_diagonal = np.zeros((nd_chunk, Ny))\n",
    "    np.savez('other/ST-MS/{}/{}Params_diag'.format(subfold, prefix), nd_chunk=nd_chunk, dz=dz, dy=dy, S=S, dt=dt, y=y, z=z)\n",
    "    \n",
    "write_vert_fields_to_file = True      ## vertical cross section\n",
    "Ex_vertical, Hy_vertical, Hz_vertical = [None]*3\n",
    "if write_vert_fields_to_file:\n",
    "    Ex_vertical = np.zeros((nv_chunk, Ny))\n",
    "    Hy_vertical = np.zeros((nv_chunk, Ny))\n",
    "    Hz_vertical = np.zeros((nv_chunk, Ny))\n",
    "    np.savez('other/ST-MS/{}/{}Params_vert'.format(subfold, prefix), nv_chunk=nv_chunk, dz=dz, dy=dy, S=S, dt=dt, y=y, z=z)\n",
    "\n",
    "\n",
    "write_all_fields_to_file = True\n",
    "Ex_tot_t, Hy_tot_t, Hz_tot_t = [None]*3\n",
    "if write_all_fields_to_file:\n",
    "    Ex_tot_t = np.zeros((n_tot_chunk, Nz, Ny))\n",
    "    Hy_tot_t = np.zeros((n_tot_chunk, Nz, Ny))\n",
    "    Hz_tot_t = np.zeros((n_tot_chunk, Nz, Ny))\n",
    "    np.savez('other/ST-MS/{}/{}Params_tot'.format(subfold, prefix), n_tot_chunk=n_tot_chunk, save_tot_every=save_tot_every, dz=dz, dy=dy, S=S, dt=dt, y=y, z=z)\n",
    "\n",
    "write_susceptibilities_to_file = True\n",
    "ms_type = \"mono\"  ## \"mono\" / \"bi\"\n",
    "X_ee_t, X_mm_t, X_me_t, X_em_t = [None]*4\n",
    "Pex_t, Pmy_t = [None]*2\n",
    "truncate_X_ = True\n",
    "\n",
    "e_max = 1.0/(dy/2.0)\n",
    "E_thresh = 0.01*e_max\n",
    "if write_susceptibilities_to_file:\n",
    "    Pex_t, Pmy_t = np.zeros((1, Ny)), np.zeros((1, Ny))\n",
    "    X_ee_t = np.zeros((nv_chunk, Ny))\n",
    "    X_mm_t = np.zeros((nv_chunk, Ny))\n",
    "    if ms_type==\"bi\":\n",
    "        X_em_t = np.zeros((nv_chunk, Ny))\n",
    "        X_me_t = np.zeros((nv_chunk, Ny))\n",
    "\n",
    "    \n",
    "plot_dynamic_fields = True\n",
    "    \n",
    "t_max = 60.0/f\n",
    "Nt = int(t_max/dt)\n",
    "i_t = 0\n",
    "t = 0.0\n",
    "if plot_dynamic_fields:\n",
    "    plt.figure()\n",
    "    plt.ion()\n",
    "\n",
    "while True:\n",
    "    id_ch = i_t%nd_chunk\n",
    "    if write_diag_fields_to_file:\n",
    "        if not flip_diag:\n",
    "            for i in range(min(Ny,Nz)):\n",
    "                Ex_diagonal[id_ch, i] = Ex_t[i, i]\n",
    "                Hy_diagonal[id_ch, i] = Hy_t[i, i]\n",
    "                Hz_diagonal[id_ch, i] = Hz_t[i, i]\n",
    "        else:\n",
    "            for i in range(min(Ny,Nz)):\n",
    "                Ex_diagonal[id_ch, i] = Ex_t[Nz-1-i, i]\n",
    "                Hy_diagonal[id_ch, i] = Hy_t[Nz-1-i, i]\n",
    "                Hz_diagonal[id_ch, i] = Hz_t[Nz-1-i, i]\n",
    "\n",
    "        if id_ch==nd_chunk-1:\n",
    "            np.savez('other/ST-MS/{}/{}EH_d_{}'.format(subfold, prefix, str(int(i_t/nd_chunk))), i_t=i_t, Ex_d=Ex_diagonal, Hy_d=Hy_diagonal, Hz_d=Hz_diagonal)\n",
    "    if write_vert_fields_to_file:\n",
    "        Ex_vertical[id_ch, :] = Ex_t[ind_ms, :]\n",
    "        Hy_vertical[id_ch, :] = Hy_t[ind_ms, :]\n",
    "        Hz_vertical[id_ch, :] = Hz_t[ind_ms, :]\n",
    "        assert nd_chunk==nv_chunk\n",
    "        if id_ch==nv_chunk-1:\n",
    "            np.savez('other/ST-MS/{}/{}EH_v_{}'.format(subfold, prefix, str(int(i_t/nv_chunk))), i_t=i_t, Ex_v=Ex_vertical, Hy_v=Hy_vertical, Hz_v=Hz_vertical)\n",
    "    \n",
    "    _jem_ = gauss_y(y, z0=20.0*lamda, alpha=12.0*lamda)*st_func_inc(t-8.0/f)\n",
    "    ##_jem_ = gauss_y_theta_E(y, alpha=3.0, theta=30/180*np.pi)*st_func_inc(t-8.0)\n",
    "    ##_jem_ = tilted_gaussian_aperture(y, k=omega/c, W=4.0, r0=40.0, theta=0.0/180*np.pi)*st_func_inc(t-8.0)\n",
    "    Jex_src_t[0, :] = _jem_\n",
    "    Jmy_src_t[0, :] = _jem_\n",
    "    \n",
    "    j_ex_horiz, j_my_horiz = horizontal_gaussian_aperture_data(y, i_t, \"gaussian_\")   ## \"gaussian_\"/\"chirp_down_\"\n",
    "    Jex_ms_t[0, :] = -j_ex_horiz*dy/2\n",
    "    Jmy_ms_t[0, :] = -j_my_horiz*dy/2\n",
    "    \n",
    "    j_ex_tilted, j_my_tilted = tilted_gaussian_aperture_data(y, i_t, \"gaussian_flip_\")    ## \"gaussian_deriv_\"/\"chirp_up_\"\n",
    "    Jex_ms_t[0, :] += j_ex_tilted*dy/2*np.sqrt(2.0)\n",
    "    Jmy_ms_t[0, :] += j_my_tilted*dy/2*np.sqrt(2.0)\n",
    "\n",
    "    j_ex_tilted_2, j_my_tilted_2 = tilted_gaussian_aperture_data(y, i_t, \"gaussian_deriv_\")\n",
    "    Jex_ms_t[0, :] += j_ex_tilted_2*dy/2*np.sqrt(2.0)\n",
    "    Jmy_ms_t[0, :] += j_my_tilted_2*dy/2*np.sqrt(2.0)\n",
    "\n",
    "    \n",
    "    if i_t<(z_ms-z_src)/dz+1:\n",
    "        Jex_ms_t[0, :] *= 0.0\n",
    "        Jmy_ms_t[0, :] *= 0.0\n",
    "    print(\".\", end='')\n",
    "\n",
    "    if write_susceptibilities_to_file:\n",
    "        Pex_t[0, :] += Jex_ms_t[0, :]*dt\n",
    "        Pmy_t[0, :] += Jmy_ms_t[0, :]*dt\n",
    "        X_ee_t[id_ch, :] = Pex_t[0, :]/Ex_t[ind_ms, :]\n",
    "        X_mm_t[id_ch, :] = Pmy_t[0, :]/Hy_t[ind_ms, :]\n",
    "        #print(\"X_ee : \", X_ee_t[id_ch, :], Pex_t[0, :], Ex_t[ind_ms, :])\n",
    "        #print('X_ee - X_mm : ', np.max(np.abs(X_ee_t[id_ch, :]-X_mm_t[id_ch, :])), end=\" \")\n",
    "        if truncate_X_:\n",
    "            X_ee_t[id_ch, :] = X_ee_t[id_ch, :]*(np.abs(Ex_t[ind_ms, :])>E_thresh)\n",
    "            X_mm_t[id_ch, :] = X_mm_t[id_ch, :]*(np.abs(Ex_t[ind_ms, :])>E_thresh)\n",
    "        assert nd_chunk==nv_chunk\n",
    "        if id_ch==nv_chunk-1:\n",
    "            np.savez('other/ST-MS/{}/{}X_{}'.format(subfold, prefix, str(int(i_t/nv_chunk))), i_t=i_t, X_ee_t=X_ee_t, X_mm_t=X_mm_t, X_em_t=X_em_t, X_me_t=X_me_t)\n",
    "\n",
    "    \n",
    "    i_t += 1\n",
    "    t += dt\n",
    "    Ex_tp1[1:-1, :] = Ex_tm1[1:-1, :] - dt/(eps_0*dz)*(Hy_t[2:, :] - Hy_t[:-2, :])\n",
    "    Ex_tp1[:, 1:-1] += dt/(eps_0*dy)*(Hz_t[:, 2:] - Hz_t[:, :-2])\n",
    "    Ex_tp1[0, :], Ex_tp1[-1, :] = 0.0, 0.0\n",
    "    Ex_tp1[:, 0], Ex_tp1[:, -1] = 0.0, 0.0\n",
    "    \n",
    "    Ex_tp1[ind_src  , :] -= Jex_src_t[0, :]*dt/(eps_0*dy*dz)\n",
    "    Ex_tp1[ind_src+1, :] -= 0.5*Jex_src_t[0, :]*dt/(eps_0*dy*dz)\n",
    "    Ex_tp1[ind_src-1, :] -= 0.5*Jex_src_t[0, :]*dt/(eps_0*dy*dz)\n",
    "    Ex_tp1[ind_src, 1:] -= 0.5*Jex_src_t[0, :-1]*dt/(eps_0*dy*dz)\n",
    "    Ex_tp1[ind_src,:-1] -= 0.5*Jex_src_t[0, 1: ]*dt/(eps_0*dy*dz)\n",
    "    Ex_tp1[ind_src+1, 1:] -= 0.25*Jex_src_t[0, :-1]*dt/(eps_0*dy*dz)\n",
    "    Ex_tp1[ind_src+1,:-1] -= 0.25*Jex_src_t[0, 1: ]*dt/(eps_0*dy*dz)\n",
    "    Ex_tp1[ind_src-1, 1:] -= 0.25*Jex_src_t[0, :-1]*dt/(eps_0*dy*dz)\n",
    "    Ex_tp1[ind_src-1,:-1] -= 0.25*Jex_src_t[0, 1: ]*dt/(eps_0*dy*dz)\n",
    "\n",
    "    Ex_tp1[ind_ms  , :] -= Jex_ms_t[0, :]*dt/(eps_0*dy*dz)\n",
    "    Ex_tp1[ind_ms+1, :] -= 0.5*Jex_ms_t[0, :]*dt/(eps_0*dy*dz)\n",
    "    Ex_tp1[ind_ms-1, :] -= 0.5*Jex_ms_t[0, :]*dt/(eps_0*dy*dz)\n",
    "    Ex_tp1[ind_ms, 1:] -= 0.5*Jex_ms_t[0, :-1]*dt/(eps_0*dy*dz)\n",
    "    Ex_tp1[ind_ms,:-1] -= 0.5*Jex_ms_t[0, 1: ]*dt/(eps_0*dy*dz)\n",
    "    Ex_tp1[ind_ms+1, 1:] -= 0.25*Jex_ms_t[0, :-1]*dt/(eps_0*dy*dz)\n",
    "    Ex_tp1[ind_ms+1,:-1] -= 0.25*Jex_ms_t[0, 1: ]*dt/(eps_0*dy*dz)\n",
    "    Ex_tp1[ind_ms-1, 1:] -= 0.25*Jex_ms_t[0, :-1]*dt/(eps_0*dy*dz)\n",
    "    Ex_tp1[ind_ms-1,:-1] -= 0.25*Jex_ms_t[0, 1: ]*dt/(eps_0*dy*dz)\n",
    "\n",
    "    Hy_tp1[1:-1, :] = Hy_tm1[1:-1, :] - dt/(mu_0*dz)*(Ex_t[2:, :] - Ex_t[:-2, :])\n",
    "    Hy_tp1[0, :] = Hy_tm1[0, :] - 2*dt/(mu_0*dz)*(Ex_t[1, :] - Ex_t[0, :])\n",
    "    Hy_tp1[-1, :] = Hy_tm1[-1, :] - 2*dt/(mu_0*dz)*(Ex_t[-1, :] - Ex_t[-2, :])\n",
    "\n",
    "    Hz_tp1[:, 1:-1] = Hz_tm1[:, 1:-1] + dt/(mu_0*dy)*(Ex_t[:, 2:] - Ex_t[:, :-2])\n",
    "    Hz_tp1[:, 0] = Hz_tm1[:, 0] + 2*dt/(mu_0*dy)*(Ex_t[:, 1] - Ex_t[:, 0])\n",
    "    Hz_tp1[:,-1] = Hz_tm1[:,-1] + 2*dt/(mu_0*dy)*(Ex_t[:, -1] - Ex_t[:, -2])\n",
    "\n",
    "    \n",
    "    Hy_tp1[ind_src , :] -= Jmy_src_t[0, :]*dt/(mu_0*dy*dz)\n",
    "    Hy_tp1[ind_src+1,:] -= 0.5*Jmy_src_t[0, :]*dt/(mu_0*dy*dz)\n",
    "    Hy_tp1[ind_src-1,:] -= 0.5*Jmy_src_t[0, :]*dt/(mu_0*dy*dz)\n",
    "    Hy_tp1[ind_src  , 1:] -= 0.5*Jmy_src_t[0,:-1]*dt/(mu_0*dy*dz)\n",
    "    Hy_tp1[ind_src  ,:-1] -= 0.5*Jmy_src_t[0, 1:]*dt/(mu_0*dy*dz)\n",
    "    Hy_tp1[ind_src+1, 1:] -= 0.25*Jmy_src_t[0,:-1]*dt/(mu_0*dy*dz)\n",
    "    Hy_tp1[ind_src+1,:-1] -= 0.25*Jmy_src_t[0, 1:]*dt/(mu_0*dy*dz)\n",
    "    Hy_tp1[ind_src-1, 1:] -= 0.25*Jmy_src_t[0,:-1]*dt/(mu_0*dy*dz)\n",
    "    Hy_tp1[ind_src-1,:-1] -= 0.25*Jmy_src_t[0, 1:]*dt/(mu_0*dy*dz)\n",
    "\n",
    "    Hy_tp1[ind_ms , :] -= Jmy_ms_t[0, :]*dt/(mu_0*dy*dz)\n",
    "    Hy_tp1[ind_ms+1,:] -= 0.5*Jmy_ms_t[0, :]*dt/(mu_0*dy*dz)\n",
    "    Hy_tp1[ind_ms-1,:] -= 0.5*Jmy_ms_t[0, :]*dt/(mu_0*dy*dz)\n",
    "    Hy_tp1[ind_ms  , 1:] -= 0.5*Jmy_ms_t[0,:-1]*dt/(mu_0*dy*dz)\n",
    "    Hy_tp1[ind_ms  ,:-1] -= 0.5*Jmy_ms_t[0, 1:]*dt/(mu_0*dy*dz)\n",
    "    Hy_tp1[ind_ms+1, 1:] -= 0.25*Jmy_ms_t[0,:-1]*dt/(mu_0*dy*dz)\n",
    "    Hy_tp1[ind_ms+1,:-1] -= 0.25*Jmy_ms_t[0, 1:]*dt/(mu_0*dy*dz)\n",
    "    Hy_tp1[ind_ms-1, 1:] -= 0.25*Jmy_ms_t[0,:-1]*dt/(mu_0*dy*dz)\n",
    "    Hy_tp1[ind_ms-1,:-1] -= 0.25*Jmy_ms_t[0, 1:]*dt/(mu_0*dy*dz)\n",
    "\n",
    "    if write_all_fields_to_file:\n",
    "        if i_t%save_tot_every==0:\n",
    "            ind_save_tot = int(i_t/save_tot_every)\n",
    "            Ex_tot_t[ind_save_tot%n_tot_chunk, :, :] = Ex_t\n",
    "            Hy_tot_t[ind_save_tot%n_tot_chunk, :, :] = Hy_t\n",
    "            Hz_tot_t[ind_save_tot%n_tot_chunk, :, :] = Hz_t\n",
    "            if ind_save_tot%n_tot_chunk==(n_tot_chunk-1):\n",
    "                np.savez('other/ST-MS/{}/{}EH_tot_{}'.format(subfold, prefix, str(int(ind_save_tot/n_tot_chunk))), i_t=i_t, ind_save_tot=ind_save_tot, Ex_tot_t=Ex_tot_t, Hy_tot_t=Hy_tot_t, Hz_tot_t=Hz_tot_t)\n",
    "        \n",
    "    if i_t%100==0:\n",
    "        if plot_dynamic_fields:\n",
    "            e_max_i = np.max(np.abs(Ex_t))\n",
    "            #if e_max_i>e_max:\n",
    "            #    e_max = e_max_i\n",
    "            plt.pause(0.005)\n",
    "            clf()\n",
    "            #plt.pcolor(Z, Y, Ex_t)\n",
    "            plt.gca().pcolorfast(z, y, Ex_t.T, cmap=\"rainbow\", vmin=-e_max, vmax=e_max)\n",
    "            plt.axvline(x=z_ms, linestyle=\"--\", color='k')\n",
    "        print(t, end=' ')\n",
    "    \n",
    "    if t>t_max:\n",
    "        if write_diag_fields_to_file:\n",
    "            if id_ch!=nd_chunk-1:\n",
    "                np.savez('other/ST-MS/{}/{}EH_d_{}'.format(subfold, prefix, str(int(i_t/nd_chunk))), i_t=i_t, Ex_d=Ex_diagonal[0:id_ch+1,:], Hy_d=Hy_diagonal[0:id_ch+1,:], Hz_d=Hz_diagonal[0:id_ch+1,:])\n",
    "        if write_vert_fields_to_file:\n",
    "            if id_ch!=nv_chunk-1:\n",
    "                np.savez('other/ST-MS/{}/{}EH_v_{}'.format(subfold, prefix, str(int(i_t/nv_chunk))), i_t=i_t, Ex_v=Ex_vertical[0:id_ch+1,:], Hy_v=Hy_vertical[0:id_ch+1,:], Hz_v=Hz_vertical[0:id_ch+1,:])\n",
    "        if write_susceptibilities_to_file:\n",
    "            if id_ch!=nv_chunk-1:\n",
    "                X_me_t__,  X_em_t__= None, None\n",
    "                if ms_type==\"bi\":\n",
    "                    X_em_t__ = X_em_t[0:id_ch+1,:]\n",
    "                    X_me_t__ = X_me_t[0:id_ch+1,:]\n",
    "                np.savez('other/ST-MS/{}/{}X_{}'.format(subfold, prefix, str(int(i_t/nv_chunk))), i_t=i_t, X_ee_t=X_ee_t[0:id_ch+1,:], X_mm_t=X_mm_t[0:id_ch+1,:], X_em_t=X_em_t__, X_me_t=X_me_t__)\n",
    "        if write_all_fields_to_file:\n",
    "            if i_t%save_tot_every!=0:\n",
    "                ind_save_tot = int(i_t/save_tot_every)\n",
    "                itot_ch = ind_save_tot%n_tot_chunk\n",
    "                if itot_ch!=(n_tot_chunk-1):\n",
    "                    np.savez('other/ST-MS/{}/{}EH_tot_{}'.format(subfold, prefix, str(int(ind_save_tot/n_tot_chunk))), i_t=i_t, ind_save_tot=ind_save_tot, Ex_tot_t=Ex_tot_t[0:itot_ch+1,:,:], Hy_tot_t=Hy_tot_t[0:itot_ch+1,:,:], Hz_tot_t=Hz_tot_t[0:itot_ch+1,:,:])\n",
    "        break\n",
    "\n",
    "    Ex_tm1[:, :] = Ex_t\n",
    "    Ex_t[:, :] = Ex_tp1\n",
    "    Hy_tm1[:, :] = Hy_t\n",
    "    Hy_t[:, :] = Hy_tp1   \n",
    "    Hz_tm1[:, :] = Hz_t\n",
    "    Hz_t[:, :] = Hz_tp1\n",
    "\n",
    "        \n",
    "plt.show()       \n",
    "print('e_max: ', e_max)\n"
   ]
  },
  {
   "cell_type": "code",
   "execution_count": 5,
   "metadata": {
    "collapsed": false
   },
   "outputs": [
    {
     "name": "stdout",
     "output_type": "stream",
     "text": [
      "Populating the interactive namespace from numpy and matplotlib\n"
     ]
    },
    {
     "name": "stderr",
     "output_type": "stream",
     "text": [
      "/usr/local/lib/python3.5/dist-packages/IPython/core/magics/pylab.py:161: UserWarning: pylab import has clobbered these variables: ['f']\n",
      "`%matplotlib` prevents importing * from pylab and numpy\n",
      "  \"\\n`%matplotlib` prevents importing * from pylab and numpy\"\n"
     ]
    },
    {
     "data": {
      "image/png": "[encoded data removed]",
      "text/plain": [
       "<matplotlib.figure.Figure at 0x7f6db8190fd0>"
      ]
     },
     "metadata": {},
     "output_type": "display_data"
    },
    {
     "data": {
      "image/png": "[encoded data removed]",
      "text/plain": [
       "<matplotlib.figure.Figure at 0x7f6db8190940>"
      ]
     },
     "metadata": {},
     "output_type": "display_data"
    },
    {
     "data": {
      "image/png": "[encoded data removed]",
      "text/plain": [
       "<matplotlib.figure.Figure at 0x7f6dffd7fcc0>"
      ]
     },
     "metadata": {},
     "output_type": "display_data"
    },
    {
     "data": {
      "image/png": "[encoded data removed]",
      "text/plain": [
       "<matplotlib.figure.Figure at 0x7f6daae844a8>"
      ]
     },
     "metadata": {},
     "output_type": "display_data"
    },
    {
     "name": "stdout",
     "output_type": "stream",
     "text": [
      "n_tot_chunk :  50\n",
      "E_out_list :  [0, 50, 100, 150, 172]\n",
      "0/172 0/172 1/172 2/172 3/172 4/172 5/172 6/172 7/172 8/172 9/172 10/172 11/172 12/172 13/172 14/172 15/172 16/172 17/172 18/172 19/172 20/172 21/172 22/172 23/172 24/172 25/172 26/172 27/172 28/172 29/172 30/172 31/172 32/172 33/172 34/172 35/172 36/172 37/172 38/172 39/172 40/172 41/172 42/172 43/172 44/172 45/172 46/172 47/172 48/172 49/172 \n",
      "chunk 1 loaded!\n",
      "50/172 51/172 52/172 53/172 54/172 55/172 56/172 57/172 58/172 59/172 60/172 61/172 62/172 63/172 64/172 65/172 66/172 67/172 68/172 69/172 70/172 71/172 72/172 73/172 74/172 75/172 76/172 77/172 78/172 79/172 80/172 81/172 82/172 83/172 84/172 85/172 86/172 87/172 88/172 89/172 90/172 91/172 92/172 93/172 94/172 95/172 96/172 97/172 98/172 99/172 \n",
      "chunk 2 loaded!\n",
      "100/172 101/172 102/172 103/172 104/172 105/172 106/172 107/172 108/172 109/172 110/172 111/172 112/172 113/172 114/172 115/172 116/172 117/172 118/172 119/172 120/172 121/172 122/172 123/172 124/172 125/172 126/172 127/172 128/172 129/172 130/172 131/172 132/172 133/172 134/172 135/172 136/172 137/172 138/172 139/172 140/172 141/172 142/172 143/172 144/172 145/172 146/172 147/172 148/172 149/172 \n",
      "chunk 3 loaded!\n",
      "150/172 151/172 152/172 153/172 154/172 155/172 156/172 157/172 158/172 159/172 160/172 161/172 162/172 163/172 164/172 165/172 166/172 167/172 168/172 169/172 170/172 171/172 \n",
      "chunk 0 loaded!\n",
      "0/172 "
     ]
    },
    {
     "data": {
      "image/png": "[encoded data removed]",
      "text/plain": [
       "<matplotlib.figure.Figure at 0x7f6daaf0fb70>"
      ]
     },
     "metadata": {},
     "output_type": "display_data"
    }
   ],
   "source": [
    "## animate fields\n",
    "%pylab inline\n",
    "\n",
    "font = {'family' : 'serif', 'weight' : 'normal', 'size'   : 14}\n",
    "matplotlib.rc('font', **font)\n",
    "\n",
    "figsize(5, 5)\n",
    "\n",
    "import numpy as np\n",
    "import matplotlib.pyplot as plt\n",
    "import matplotlib.animation as animation\n",
    "import matplotlib\n",
    "import os\n",
    "\n",
    "subfold = \"Gaussian\"      ## Gaussian, Chirp, Gaussian_Deriv\n",
    "prefix = \"gaussian_to_flipderiv_downup_\"    ## \"gaussian_to_flip_down_\", \"gaussian_to_flipderiv_downup_\"\n",
    "use_imshow = True\n",
    "\n",
    "## 45 degree tilted gaussian. reads from saved diagonal data\n",
    "tot_params = np.load('other/ST-MS/{}/{}Params_tot.npz'.format(subfold, prefix))\n",
    "n_tot_chunk = tot_params['n_tot_chunk']\n",
    "y = tot_params['y']\n",
    "z = tot_params['z']\n",
    "Z, Y = np.meshgrid(z, y, indexing='ij')\n",
    "i_file = 0\n",
    "E_out_list = [0]\n",
    "e_max = 0.0\n",
    "while True:\n",
    "    file_i_t = 'other/ST-MS/{}/{}EH_tot_{}.npz'.format(subfold, prefix, i_file)\n",
    "    if os.path.exists(file_i_t):\n",
    "        tot_fields = np.load(file_i_t)\n",
    "        Ex_tot = tot_fields['Ex_tot_t'] \n",
    "        E_out_list.append(E_out_list[-1]+Ex_tot.shape[0])\n",
    "        ei_max = np.max(np.abs(Ex_tot))\n",
    "        if ei_max>e_max:\n",
    "            e_max = ei_max\n",
    "        \n",
    "        fig = None\n",
    "        if use_imshow:\n",
    "            fig = imshow( Ex_tot[-1].T/np.max(np.abs(Ex_tot[-1])), \\\n",
    "                  cmap='rainbow', interpolation='bilinear',\\\n",
    "                  origin='lower', \\\n",
    "                  extent=[z[0], z[-1], y[0], y[-1]],\\\n",
    "                  aspect='auto')\n",
    "            #plt.axis([-15, 15, -15, 15])\n",
    "        else:\n",
    "            fig = plt.gca().pcolorfast(z, y, Ex_tot[-1].T/np.max(np.abs(Ex_tot[-1])), vmin=-1, vmax=1, cmap='rainbow')\n",
    "        \n",
    "        \n",
    "        #fig = plt.pcolormesh(Z, Y, Ex_tot[-1].T/np.max(np.abs(Ex_tot[-1])), vmin=-1, vmax=1, cmap='rainbow')\n",
    "        plt.colorbar(fig, ticks=[-1, 0, 1])\n",
    "        ax = plt.gca()\n",
    "        ax.set_adjustable('box-forced')\n",
    "        #ax.axes.get_xaxis().set_ticks([])\n",
    "        #ax.axes.get_yaxis().set_ticks([])\n",
    "        plt.title(r'$E_x$', fontsize=18)\n",
    "        plt.xlabel(r\"$z/\\lambda_0$\")\n",
    "        plt.ylabel(r\"$y/\\lambda_0$\")\n",
    "        plt.axvline(x=0.0, linestyle=\"--\", color='k')\n",
    "        plt.tight_layout()\n",
    "        savefig('other/ST-MS/{}/{}E_tot_{}.eps'.format(subfold, prefix, i_file), bbox_inches='tight')\n",
    "        plt.show()\n",
    "            \n",
    "        i_file += 1\n",
    "    else:\n",
    "        break\n",
    "\n",
    "print('n_tot_chunk : ', n_tot_chunk)\n",
    "print(\"E_out_list : \", E_out_list)\n",
    "#assert False\n",
    "\n",
    "ind_chunk = 0\n",
    "file_i_t = 'other/ST-MS/{}/{}EH_tot_{}.npz'.format(subfold, prefix, ind_chunk)\n",
    "assert os.path.exists(file_i_t)\n",
    "tot_fields = np.load(file_i_t)\n",
    "Ex_tot_chunk = tot_fields['Ex_tot_t'] \n",
    "\n",
    "def load_e_tot(i):\n",
    "    global ind_chunk, Ex_tot_chunk\n",
    "    if i>=E_out_list[ind_chunk] and i<E_out_list[ind_chunk+1]:\n",
    "        ind = None\n",
    "        if ind_chunk==0:\n",
    "            ind = i\n",
    "        else:\n",
    "            ind = i%E_out_list[ind_chunk]\n",
    "        return Ex_tot_chunk[ind,:,:]\n",
    "    elif i<E_out_list[-1]:\n",
    "        ind_chunk_next = -1\n",
    "        for j in range(len(E_out_list)-1):\n",
    "            if i<E_out_list[j+1]:\n",
    "                ind_chunk_next = j\n",
    "                break\n",
    "        assert ind_chunk_next>=0\n",
    "\n",
    "        ind_chunk = ind_chunk_next\n",
    "        assert i>=E_out_list[ind_chunk] and i<E_out_list[ind_chunk+1]\n",
    "\n",
    "        file_i_t = 'other/ST-MS/{}/{}EH_tot_{}.npz'.format(subfold, prefix, ind_chunk)\n",
    "        assert os.path.exists(file_i_t)\n",
    "        tot_fields = np.load(file_i_t)\n",
    "        Ex_tot_chunk = tot_fields['Ex_tot_t'] \n",
    "        \n",
    "        print(\"\\nchunk {} loaded!\".format(ind_chunk))\n",
    "        \n",
    "        return load_e_tot(i)\n",
    "    else:\n",
    "        raise ValueError()\n",
    "    \n",
    "\n",
    "# Set up formatting for the movie files\n",
    "#Writer = animation.writers['mencoder']    ## avconv ffmpeg mencoder\n",
    "#writer = Writer(fps=15, metadata=dict(artist='Me'))\n",
    "#writer = animation.FFMpegWriter()\n",
    "\n",
    "logscale=False\n",
    "log_0 = -20\n",
    "\n",
    "save_anim = True\n",
    "file_format = 'mp4'   ## 'gif' / 'mp4'\n",
    "\n",
    "font = {'family' : 'serif', 'weight' : 'normal', 'size' : 14}\n",
    "matplotlib.rc('font', **font)\n",
    "\n",
    "fig = None\n",
    "\n",
    "\n",
    "def animate_E(i):\n",
    "    plt.clf()\n",
    "    if not logscale:\n",
    "        E = load_e_tot(i)/e_max\n",
    "        #fig = plt.imshow(E.T, origin='lower', vmin=-1, vmax=1, cmap='rainbow', aspect='auto')\n",
    "        if use_imshow:\n",
    "            fig = imshow( E.T, \\\n",
    "                  cmap='rainbow', interpolation='bilinear',\\\n",
    "                  origin='lower', \\\n",
    "                  extent=[z[0], z[-1], y[0], y[-1]],\\\n",
    "                  vmin=-1, vmax=1, aspect='auto')\n",
    "            #plt.axis([-15, 15, -15, 15])\n",
    "        else:\n",
    "            fig = plt.gca().pcolorfast(z, y, E.T, vmin=-1, vmax=1, cmap='rainbow')\n",
    "    else:\n",
    "        E = load_e_tot(i)/e_max\n",
    "        E_log = np.log(np.abs(E))\n",
    "        E_log = (E_log>=log_0)*E_log + (E_log<log_0)*(log_0)\n",
    "        fig = plt.gca().pcolorfast(z, y, E_log.T, vmin=log_0, vmax=0, cmap='rainbow')\n",
    "\n",
    "    #CB = plt.colorbar(fig, shrink=0.8, extend='both')\n",
    "    ax = plt.gca()\n",
    "    ax.set_adjustable('box-forced')\n",
    "    ax.axes.get_xaxis().set_ticks([])\n",
    "    ax.axes.get_yaxis().set_ticks([])\n",
    "    plt.axvline(x=0.0, linestyle=\"--\", color='k')\n",
    "    #plt.colorbar()\n",
    "    print(\"{}/{}\".format(i, E_out_list[-1]) , end=\" \")\n",
    "    return fig\n",
    "\n",
    "fig = plt.figure()\n",
    "axes = plt.gca()\n",
    "anim = None\n",
    "anim = animation.FuncAnimation(fig, animate_E, frames=E_out_list[-1], interval=1, repeat=False)\n",
    "\n",
    "if save_anim:\n",
    "    if file_format=='gif':\n",
    "        anim.save('other/ST-MS/{}/{}EH_tot_anim.gif'.format(subfold, prefix), writer=\"imagemagick\", fps=15, dpi=200)\n",
    "    elif file_format=='mp4':\n",
    "        anim.save('other/ST-MS/{}/{}EH_tot_anim.mp4'.format(subfold, prefix), writer=\"ffmpeg\", fps=15, dpi=200)\n",
    "plt.show()\n",
    "\n",
    "    "
   ]
  },
  {
   "cell_type": "code",
   "execution_count": 21,
   "metadata": {
    "collapsed": false,
    "scrolled": true
   },
   "outputs": [
    {
     "name": "stdout",
     "output_type": "stream",
     "text": [
      "Populating the interactive namespace from numpy and matplotlib\n",
      "other/ST-MS/Gaussian/gaussian_diffract_X_0.npz\n",
      "other/ST-MS/Gaussian/gaussian_diffract_X_1.npz\n",
      "max:  nan\n"
     ]
    },
    {
     "data": {
      "image/png": "[encoded data removed]",
      "text/plain": [
       "<matplotlib.figure.Figure at 0x7f1306085588>"
      ]
     },
     "metadata": {},
     "output_type": "display_data"
    },
    {
     "name": "stdout",
     "output_type": "stream",
     "text": [
      "other/ST-MS/Gaussian/gaussian_diffract_X_2.npz\n",
      "max:  6512426.54821\n"
     ]
    },
    {
     "data": {
      "image/png": "[encoded data removed]",
      "text/plain": [
       "<matplotlib.figure.Figure at 0x7f13060f4fd0>"
      ]
     },
     "metadata": {},
     "output_type": "display_data"
    },
    {
     "name": "stdout",
     "output_type": "stream",
     "text": [
      "other/ST-MS/Gaussian/gaussian_diffract_X_3.npz\n",
      "max:  26555419.9739\n"
     ]
    },
    {
     "data": {
      "image/png": "[encoded data removed]",
      "text/plain": [
       "<matplotlib.figure.Figure at 0x7f13060f4c18>"
      ]
     },
     "metadata": {},
     "output_type": "display_data"
    },
    {
     "name": "stdout",
     "output_type": "stream",
     "text": [
      "other/ST-MS/Gaussian/gaussian_diffract_X_4.npz\n",
      "max:  31464782.8373\n"
     ]
    },
    {
     "data": {
      "image/png": "[encoded data removed]",
      "text/plain": [
       "<matplotlib.figure.Figure at 0x7f13403be4a8>"
      ]
     },
     "metadata": {},
     "output_type": "display_data"
    },
    {
     "name": "stdout",
     "output_type": "stream",
     "text": [
      "other/ST-MS/Gaussian/gaussian_diffract_X_5.npz\n",
      "max:  553524.479683\n"
     ]
    },
    {
     "data": {
      "image/png": "[encoded data removed]",
      "text/plain": [
       "<matplotlib.figure.Figure at 0x7f13064fb780>"
      ]
     },
     "metadata": {},
     "output_type": "display_data"
    },
    {
     "name": "stdout",
     "output_type": "stream",
     "text": [
      "other/ST-MS/Gaussian/gaussian_diffract_X_6.npz\n",
      "X_out_list :  [0, 200, 400, 600, 800, 1000, 1001]\n"
     ]
    },
    {
     "ename": "AssertionError",
     "evalue": "",
     "output_type": "error",
     "traceback": [
      "\u001b[0;31m---------------------------------------------------------------------------\u001b[0m",
      "\u001b[0;31mAssertionError\u001b[0m                            Traceback (most recent call last)",
      "\u001b[0;32m<ipython-input-21-097aa66a0641>\u001b[0m in \u001b[0;36m<module>\u001b[0;34m()\u001b[0m\n\u001b[1;32m     80\u001b[0m \u001b[0;34m\u001b[0m\u001b[0m\n\u001b[1;32m     81\u001b[0m \u001b[0;34m\u001b[0m\u001b[0m\n\u001b[0;32m---> 82\u001b[0;31m \u001b[0;32massert\u001b[0m \u001b[0;32mFalse\u001b[0m\u001b[0;34m\u001b[0m\u001b[0m\n\u001b[0m\u001b[1;32m     83\u001b[0m \u001b[0;34m\u001b[0m\u001b[0m\n\u001b[1;32m     84\u001b[0m \u001b[0;34m\u001b[0m\u001b[0m\n",
      "\u001b[0;31mAssertionError\u001b[0m: "
     ]
    }
   ],
   "source": [
    "### plot susceptibilities\n",
    "%pylab inline \n",
    "\n",
    "import numpy as np\n",
    "import matplotlib.pyplot as plt\n",
    "import matplotlib.animation as animation\n",
    "import matplotlib\n",
    "import os\n",
    "\n",
    "subfold = \"Gaussian\"      ## Gaussian, Chirp, Gaussian_Deriv\n",
    "prefix = \"gaussian_diffract_\"    ## \"chirp_down_to_up_\", \"gaussian_to_derives_\"\n",
    "\n",
    "## 45 degree tilted gaussian. reads from saved diagonal data\n",
    "X_params = np.load('other/ST-MS/{}/{}Params_vert.npz'.format(subfold, prefix))\n",
    "nv_chunk = X_params['nv_chunk']\n",
    "y = X_params['y']\n",
    "dy = X_params['dy']\n",
    "\n",
    "i_file = 0\n",
    "X_out_list = [0]\n",
    "\n",
    "while True:\n",
    "    file_i_t = 'other/ST-MS/{}/{}X_{}.npz'.format(subfold, prefix, i_file)\n",
    "    print(file_i_t)\n",
    "    if os.path.exists(file_i_t):\n",
    "        X_file = np.load(file_i_t)\n",
    "        X_ee = X_file['X_ee_t'] \n",
    "        X_mm = X_file['X_mm_t'] \n",
    "        X_out_list.append(X_out_list[-1]+X_ee.shape[0])\n",
    "        i_file += 1\n",
    "        if i_file>1:\n",
    "            plt.plot(y, X_ee[-1,:]/(dy/2), 'b')\n",
    "            plt.plot(y, X_mm[-1,:]/(dy/2), 'r')\n",
    "            plt.ylim(-5.0, 5.0)\n",
    "            print(\"max: \", np.max(np.abs(X_ee)))\n",
    "            plt.show()\n",
    "    else:\n",
    "        break\n",
    "\n",
    "print(\"X_out_list : \", X_out_list)\n",
    "\n",
    "ind_chunk = 0\n",
    "file_i_t = 'other/ST-MS/{}/{}X_{}.npz'.format(subfold, prefix, ind_chunk)\n",
    "assert os.path.exists(file_i_t)\n",
    "X_file = np.load(file_i_t)\n",
    "X_ee_chunk = X_file['X_ee_t'] \n",
    "X_mm_chunk = X_file['X_mm_t'] \n",
    "\n",
    "def load_X_eemm(i):\n",
    "    global ind_chunk, X_ee_chunk, X_mm_chunk\n",
    "    if i>=X_out_list[ind_chunk] and i<X_out_list[ind_chunk+1]:\n",
    "        ind = None\n",
    "        if ind_chunk==0:\n",
    "            ind = i\n",
    "        else:\n",
    "            ind = i%X_out_list[ind_chunk]\n",
    "        return X_ee_chunk[ind,:], X_mm_chunk[ind,:]\n",
    "    elif i<X_out_list[-1]:\n",
    "        ind_chunk_next = -1\n",
    "        for j in range(len(X_out_list)-1):\n",
    "            if i<X_out_list[j+1]:\n",
    "                ind_chunk_next = j\n",
    "                break\n",
    "        assert ind_chunk_next>=0\n",
    "\n",
    "        ind_chunk = ind_chunk_next\n",
    "        assert i>=X_out_list[ind_chunk] and i<X_out_list[ind_chunk+1]\n",
    "\n",
    "        file_i_t = 'other/ST-MS/{}/{}X_{}.npz'.format(subfold, prefix, ind_chunk)\n",
    "        assert os.path.exists(file_i_t)\n",
    "        X_file = np.load(file_i_t)\n",
    "        X_ee_chunk = X_file['X_ee_t'] \n",
    "        X_mm_chunk = X_file['X_mm_t'] \n",
    "        \n",
    "        print(\"\\nchunk {} loaded!\".format(ind_chunk))\n",
    "        \n",
    "        return load_X_eemm(i)\n",
    "    else:\n",
    "        raise ValueError()\n",
    "    \n",
    "\n",
    "assert False\n",
    "\n",
    "    \n",
    "# Set up formatting for the movie files\n",
    "#Writer = animation.writers['mencoder']    ## avconv ffmpeg mencoder\n",
    "#writer = Writer(fps=15, metadata=dict(artist='Me'))\n",
    "#writer = animation.FFMpegWriter()\n",
    "\n",
    "plot_anim = False\n",
    "save_anim = False\n",
    "file_format = 'mp4'   ## 'gif' / 'mp4'\n",
    "\n",
    "font = {'family' : 'serif', 'weight' : 'normal', 'size' : 14}\n",
    "matplotlib.rc('font', **font)\n",
    "\n",
    "fig = None\n",
    "\n",
    "\n",
    "def animate_X(i):\n",
    "    plt.clf()\n",
    "    X_ee, X_mm = load_X_eemm(i)\n",
    "    fig = plt.plot(y, X_ee/(dy/2), 'r')\n",
    "    plt.plot(y, X_mm/(dy/2), 'b')\n",
    "\n",
    "    ax = plt.gca()\n",
    "    ax.set_adjustable('box-forced')\n",
    "    #ax.axes.get_xaxis().set_ticks([])\n",
    "    #ax.axes.get_yaxis().set_ticks([])\n",
    "    print(\"{}/{}\".format(i, X_out_list[-1]) , end=\" \")\n",
    "    plt.ylim([-0.5, 0.5])\n",
    "    return fig\n",
    "\n",
    "fig = plt.figure()\n",
    "axes = plt.gca()\n",
    "anim = None\n",
    "if plot_anim:\n",
    "    anim = animation.FuncAnimation(fig, animate_X, frames=X_out_list[-1], interval=1, repeat=False)\n",
    "\n",
    "    if save_anim:\n",
    "        if file_format=='gif':\n",
    "            anim.save('other/ST-MS/{}/{}X_anim.gif'.format(subfold, prefix), writer=\"imagemagick\", fps=15, dpi=200)\n",
    "        elif file_format=='mp4':\n",
    "            anim.save('other/ST-MS/{}/{}X_anim.mp4'.format(subfold, prefix), writer=\"ffmpeg\", fps=15, dpi=200)\n",
    "    plt.show()\n",
    "\n"
   ]
  },
  {
   "cell_type": "code",
   "execution_count": 25,
   "metadata": {
    "collapsed": false
   },
   "outputs": [
    {
     "name": "stdout",
     "output_type": "stream",
     "text": [
      "\n",
      "chunk 0 loaded!\n",
      "(1201,)\n",
      "\n",
      "chunk 1 loaded!\n",
      "\n",
      "chunk 2 loaded!\n",
      "\n",
      "chunk 3 loaded!\n",
      "\n",
      "chunk 4 loaded!\n",
      "\n",
      "chunk 5 loaded!\n",
      "_N_t_tot:  1001   _N_t : 1001   X_ee_tot.shape: (1001, 1201)\n"
     ]
    },
    {
     "data": {
      "image/png": "[encoded data removed]",
      "text/plain": [
       "<matplotlib.figure.Figure at 0x7f1306513f98>"
      ]
     },
     "metadata": {},
     "output_type": "display_data"
    },
    {
     "name": "stdout",
     "output_type": "stream",
     "text": [
      "(1001, 1201)\n"
     ]
    },
    {
     "data": {
      "image/png": "[encoded data removed]",
      "text/plain": [
       "<matplotlib.figure.Figure at 0x7f12f1718668>"
      ]
     },
     "metadata": {},
     "output_type": "display_data"
    },
    {
     "name": "stdout",
     "output_type": "stream",
     "text": [
      "_N_t_tot:  1001   _N_t : 1001   X_mm_tot.shape: (1001, 1201)\n"
     ]
    },
    {
     "data": {
      "image/png": "[encoded data removed]",
      "text/plain": [
       "<matplotlib.figure.Figure at 0x7f1306211550>"
      ]
     },
     "metadata": {},
     "output_type": "display_data"
    },
    {
     "name": "stdout",
     "output_type": "stream",
     "text": [
      "(1001, 1201)\n"
     ]
    },
    {
     "data": {
      "image/png": "[encoded data removed]",
      "text/plain": [
       "<matplotlib.figure.Figure at 0x7f130003b5f8>"
      ]
     },
     "metadata": {},
     "output_type": "display_data"
    }
   ],
   "source": [
    "\n",
    "X_ee, X_mm = load_X_eemm(0)\n",
    "print(X_ee.shape)\n",
    "\n",
    "X_ee_max = 20.0\n",
    "X_mm_max = X_ee_max\n",
    "\n",
    "X_ee_tot = np.zeros((X_out_list[-1], X_ee.shape[0]))\n",
    "X_mm_tot = np.zeros(X_ee_tot.shape)\n",
    "for i in range(X_out_list[-1]):\n",
    "    X_ee, X_mm = load_X_eemm(i)\n",
    "    X_ee_tot[i, :] = X_ee\n",
    "    X_mm_tot[i, :] = X_mm\n",
    "    #print(np.max(np.abs(X_ee-X_mm)))\n",
    "\n",
    "\n",
    "X_ee_tot = np.nan_to_num(X_ee_tot)\n",
    "X_ee_tot = X_ee_tot*np.isfinite(X_ee_tot)\n",
    "X_ee_mag = np.abs(X_ee_tot)\n",
    "X_ee_tot = (np.abs(X_ee_tot)<=X_ee_max)*X_ee_tot + (X_ee_tot>X_ee_max)*X_ee_max - (X_ee_tot<-X_ee_max)*X_ee_max\n",
    "\n",
    "figsize(5, 4.5)\n",
    "T_0_per = (2.0*np.pi/w_0)\n",
    "t_start = 0*T_0_per\n",
    "_N_t = int(X_out_list[-1]*(t_max-t_start)/t_max)\n",
    "_N_t_tot = X_out_list[-1]\n",
    "print(\"_N_t_tot: \", _N_t_tot, \"  _N_t :\", _N_t, \"  X_ee_tot.shape:\", X_mm_tot.shape)\n",
    "t_samps = np.linspace(t_start, t_max, _N_t)/T_0_per\n",
    "y_samps = np.linspace(y0, y1, (X_ee.shape)[0])/T_0_per\n",
    "#gca().pcolorfast(t_samps, y_samps, np.abs(X_ee_tot[-_N_t:,:]).T, cmap=\"rainbow\")\n",
    "gca().pcolorfast(t_samps, y_samps, X_ee_tot[-_N_t:,:].T, cmap=\"rainbow\")\n",
    "xlabel('$t/T_0$')\n",
    "ylabel('$y/\\lambda_0$')\n",
    "\n",
    "savefig('other/ST-MS/{}/{}X_ee_all.eps'.format(subfold, prefix), bbox_inches='tight', pad_inches=0.0)\n",
    "show()\n",
    "\n",
    "print(X_ee_mag.shape)\n",
    "\n",
    "X_mag_max = +0.1\n",
    "X_mag_min = 0.0001\n",
    "X_ee_mag = np.logical_and(X_ee_mag<=X_mag_max, X_ee_mag>=X_mag_min)*X_ee_mag + (X_ee_mag>X_mag_max)*X_mag_max + (X_ee_mag<X_mag_min)*X_mag_min\n",
    "X_ee_mag = np.log10(X_ee_mag)\n",
    "\n",
    "gca().pcolorfast(X_ee_mag[:,:].T, vmin=np.log10(X_mag_min), vmax=np.log10(X_mag_max), cmap=\"rainbow\")\n",
    "\n",
    "savefig('other/ST-MS/{}/{}X_ee_mag.eps'.format(subfold, prefix), bbox_inches='tight', pad_inches=0.5)\n",
    "show()\n",
    "\n",
    "##--------------------\n",
    "\n",
    "X_mm_tot = np.nan_to_num(X_mm_tot)\n",
    "X_mm_tot = X_mm_tot*np.isfinite(X_mm_tot)\n",
    "X_mm_mag = np.abs(X_mm_tot)\n",
    "X_mm_tot = (np.abs(X_mm_tot)<=X_mm_max)*X_mm_tot + (X_mm_tot>X_mm_max)*X_mm_max - (X_mm_tot<-X_mm_max)*X_mm_max\n",
    "\n",
    "figsize(5, 4.5)\n",
    "T_0_per = (2.0*np.pi/w_0)\n",
    "t_start = 0*T_0_per\n",
    "_N_t = int(X_out_list[-1]*(t_max-t_start)/t_max)\n",
    "_N_t_tot = X_out_list[-1]\n",
    "print(\"_N_t_tot: \", _N_t_tot, \"  _N_t :\", _N_t, \"  X_mm_tot.shape:\", X_mm_tot.shape)\n",
    "t_samps = np.linspace(t_start, t_max, _N_t)/T_0_per\n",
    "y_samps = np.linspace(y0, y1, (X_mm.shape)[0])/T_0_per\n",
    "gca().pcolorfast(t_samps, y_samps, np.abs(X_mm_tot[-_N_t:,:]).T, cmap=\"rainbow\")\n",
    "xlabel('$t/T_0$')\n",
    "ylabel('$y/\\lambda_0$')\n",
    "\n",
    "savefig('other/ST-MS/{}/{}X_mm_all.eps'.format(subfold, prefix), bbox_inches='tight', pad_inches=0.0)\n",
    "show()\n",
    "\n",
    "print(X_mm_mag.shape)\n",
    "\n",
    "X_mag_max = +0.1\n",
    "X_mag_min = 0.0001\n",
    "X_mm_mag = np.logical_and(X_mm_mag<=X_mag_max, X_mm_mag>=X_mag_min)*X_mm_mag + (X_mm_mag>X_mag_max)*X_mag_max + (X_mm_mag<X_mag_min)*X_mag_min\n",
    "X_mm_mag = np.log10(X_mm_mag)\n",
    "\n",
    "gca().pcolorfast(X_mm_mag[:,:].T, vmin=np.log10(X_mag_min), vmax=np.log10(X_mag_max), cmap=\"rainbow\")\n",
    "\n",
    "savefig('other/ST-MS/{}/{}X_mm_mag.eps'.format(subfold, prefix), bbox_inches='tight', pad_inches=0.5)\n",
    "show()\n"
   ]
  },
  {
   "cell_type": "markdown",
   "metadata": {
    "collapsed": true
   },
   "source": [
    "### pulses"
   ]
  },
  {
   "cell_type": "code",
   "execution_count": 11,
   "metadata": {
    "collapsed": false
   },
   "outputs": [
    {
     "name": "stdout",
     "output_type": "stream",
     "text": [
      "Populating the interactive namespace from numpy and matplotlib\n"
     ]
    },
    {
     "data": {
      "image/png": "[encoded data removed]",
      "text/plain": [
       "<matplotlib.figure.Figure at 0x7f51e4c69c88>"
      ]
     },
     "metadata": {},
     "output_type": "display_data"
    },
    {
     "data": {
      "image/png": "[encoded data removed]",
      "text/plain": [
       "<matplotlib.figure.Figure at 0x7f51e4cf21d0>"
      ]
     },
     "metadata": {},
     "output_type": "display_data"
    },
    {
     "data": {
      "image/png": "[encoded data removed]",
      "text/plain": [
       "<matplotlib.figure.Figure at 0x7f51e4deac18>"
      ]
     },
     "metadata": {},
     "output_type": "display_data"
    }
   ],
   "source": [
    "%pylab inline\n",
    "import numpy as np\n",
    "\n",
    "N = 1000\n",
    "z = np.linspace(-3, 3, N)\n",
    "fz_gauss = np.exp(-z**2)*np.cos(4*np.pi*z)\n",
    "fz_rect = 0.5*(np.sign(z-1) - np.sign(z+1))*np.cos(8*np.pi*z)\n",
    "fz_bat = 0.5*(1+z**2)*(np.sign(z-1) - np.sign(z+1))*np.cos(8*np.pi*z)\n",
    "\n",
    "plot(z, fz_gauss)\n",
    "gca().set_xticks([])\n",
    "gca().set_yticks([])\n",
    "savefig('other/ST-MS/fz_gauss.eps', bbox_inches='tight', pad_inches=0.0)\n",
    "show()\n",
    "\n",
    "plot(z, fz_rect)\n",
    "gca().set_xticks([])\n",
    "gca().set_yticks([])\n",
    "savefig('other/ST-MS/fz_rect.eps', bbox_inches='tight', pad_inches=0.0)\n",
    "show()\n",
    "\n",
    "plot(z, fz_bat)\n",
    "gca().set_xticks([])\n",
    "gca().set_yticks([])\n",
    "savefig('other/ST-MS/fz_bat.eps', bbox_inches='tight', pad_inches=0.0)\n",
    "show()\n",
    "\n",
    "\n"
   ]
  },
  {
   "cell_type": "code",
   "execution_count": null,
   "metadata": {
    "collapsed": true
   },
   "outputs": [],
   "source": []
  }
 ],
 "metadata": {
  "kernelspec": {
   "display_name": "Python 3",
   "language": "python",
   "name": "python3"
  },
  "language_info": {
   "codemirror_mode": {
    "name": "ipython",
    "version": 3
   },
   "file_extension": ".py",
   "mimetype": "text/x-python",
   "name": "python",
   "nbconvert_exporter": "python",
   "pygments_lexer": "ipython3",
   "version": "3.5.2"
  }
 },
 "nbformat": 4,
 "nbformat_minor": 1
}
