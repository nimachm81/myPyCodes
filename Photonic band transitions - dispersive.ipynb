{
 "cells": [
  {
   "cell_type": "code",
   "execution_count": 153,
   "metadata": {
    "collapsed": false
   },
   "outputs": [
    {
     "data": {
      "text/latex": [
       "$$EQ = - \\frac{E \\omega_{c}^{2}}{c^{2}} + \\frac{d^{2}}{d z^{2}}  E - \\frac{1}{c^{2}} \\frac{d^{2}}{d t^{2}}  E$$"
      ],
      "text/plain": [
       "<IPython.core.display.Math at 0x7fbbcd344278>"
      ]
     },
     "metadata": {},
     "output_type": "display_data"
    },
    {
     "data": {
      "text/latex": [
       "$$EQ = - \\frac{E \\omega_{c}^{2}}{c^{2}} e^{i \\omega t - i k z} + \\frac{\\partial^{2}}{\\partial z^{2}} \\left(E e^{i \\omega t - i k z}\\right) - \\frac{1}{c^{2}} \\frac{\\partial^{2}}{\\partial t^{2}} \\left(E e^{i \\omega t - i k z}\\right)$$"
      ],
      "text/plain": [
       "<IPython.core.display.Math at 0x7fbbcd344f60>"
      ]
     },
     "metadata": {},
     "output_type": "display_data"
    },
    {
     "data": {
      "text/latex": [
       "$$\\text{dispersion} : - \\frac{E}{c^{2}} \\left(- \\omega^{2} + \\omega_{c}^{2} + c^{2} k^{2}\\right)$$"
      ],
      "text/plain": [
       "<IPython.core.display.Math at 0x7fbbcd0574e0>"
      ]
     },
     "metadata": {},
     "output_type": "display_data"
    },
    {
     "data": {
      "text/latex": [
       "$$EQ = - \\frac{E \\omega^{2}_{c}}{c^{2}} e^{i \\omega t - i k z} + \\frac{\\partial^{2}}{\\partial z^{2}} \\left(E e^{i \\omega t - i k z}\\right) - \\frac{1}{c^{2}} \\frac{\\partial^{2}}{\\partial t^{2}} \\left(E e^{i \\omega t - i k z}\\right)$$"
      ],
      "text/plain": [
       "<IPython.core.display.Math at 0x7fbbcd344f60>"
      ]
     },
     "metadata": {},
     "output_type": "display_data"
    }
   ],
   "source": [
    "## 1D uniform plasma - \n",
    "## the plasma frequency is modulated spatiotemporally\n",
    "\n",
    "%reload_ext autoreload\n",
    "%autoreload\n",
    "\n",
    "from sympy import Symbol, symbols, Derivative\n",
    "from IPython.display import Math, display\n",
    "\n",
    "from Electromagnetics.FourierBlochND import *\n",
    "\n",
    "t, z = symbols('t z')\n",
    "E = symbols('E')\n",
    "omega, omega_c, k, c = symbols('\\\\omega \\\\omega_c k c')\n",
    "\n",
    "EQ = Derivative(E, z, 2) - Derivative(E, t, 2)/c**2 - omega_c**2/c**2*E\n",
    "\n",
    "display(Math('EQ = ' + latex(EQ)))\n",
    "BlochFact = exp(I*omega*t-I*k*z)\n",
    "\n",
    "\n",
    "EQ = EQ.subs(E, E*BlochFact)\n",
    "display(Math('EQ = ' + latex(EQ)))\n",
    "\n",
    "EQ_disp = (EQ.doit()/BlochFact).simplify()\n",
    "display(Math('\\\\text{dispersion} : ' + latex(EQ_disp)))\n",
    "\n",
    "\n",
    "omega_c_sq = symbols('\\\\omega_c^2')\n",
    "EQ = EQ.subs(omega_c**2, omega_c_sq)\n",
    "display(Math('EQ = ' + latex(EQ)))\n",
    "\n"
   ]
  },
  {
   "cell_type": "code",
   "execution_count": 154,
   "metadata": {
    "collapsed": false
   },
   "outputs": [
    {
     "data": {
      "text/latex": [
       "$$EQ_x = - \\frac{E \\omega^{2}_{c}}{c^{2}} e^{i \\omega x_{0} - i k x_{1}} + \\frac{\\partial^{2}}{\\partial x_{1}^{2}} \\left(E e^{i \\omega x_{0} - i k x_{1}}\\right) - \\frac{1}{c^{2}} \\frac{\\partial^{2}}{\\partial x_{0}^{2}} \\left(E e^{i \\omega x_{0} - i k x_{1}}\\right)$$"
      ],
      "text/plain": [
       "<IPython.core.display.Math at 0x7fbbca97d048>"
      ]
     },
     "metadata": {},
     "output_type": "display_data"
    },
    {
     "name": "stdout",
     "output_type": "stream",
     "text": [
      "harmonic: \n"
     ]
    },
    {
     "data": {
      "text/latex": [
       "$$e^{\\frac{2 i \\pi}{X_{0} X_{1}} \\left(X_{0} n_{1} x_{1} + X_{1} n_{0} x_{0}\\right)}$$"
      ],
      "text/plain": [
       "<IPython.core.display.Math at 0x7fbbcd3e1a90>"
      ]
     },
     "metadata": {},
     "output_type": "display_data"
    },
    {
     "data": {
      "text/latex": [
       "$$EQ_\\text{harm} = \\left(- k^{2} \\sum_{\\substack{-\\infty \\leq n_{0} \\leq \\infty\\\\-\\infty \\leq n_{1} \\leq \\infty}} \\tilde{E}{\\left (n_{0},n_{1} \\right )} e^{\\frac{2 i \\pi}{X_{0} X_{1}} \\left(X_{0} n_{1} x_{1} + X_{1} n_{0} x_{0}\\right)} - 2 i k \\sum_{\\substack{-\\infty \\leq n_{0} \\leq \\infty\\\\-\\infty \\leq n_{1} \\leq \\infty}} \\frac{2 \\pi}{X_{1}} i n_{1} \\tilde{E}{\\left (n_{0},n_{1} \\right )} e^{\\frac{2 i \\pi}{X_{0} X_{1}} \\left(X_{0} n_{1} x_{1} + X_{1} n_{0} x_{0}\\right)} + \\sum_{\\substack{-\\infty \\leq n_{0} \\leq \\infty\\\\-\\infty \\leq n_{1} \\leq \\infty}} - \\frac{4 \\pi^{2}}{X_{1}^{2}} n_{1}^{2} \\tilde{E}{\\left (n_{0},n_{1} \\right )} e^{\\frac{2 i \\pi}{X_{0} X_{1}} \\left(X_{0} n_{1} x_{1} + X_{1} n_{0} x_{0}\\right)}\\right) e^{i \\left(\\omega x_{0} - k x_{1}\\right)} - \\frac{1}{c^{2}} \\left(- \\omega^{2} \\sum_{\\substack{-\\infty \\leq n_{0} \\leq \\infty\\\\-\\infty \\leq n_{1} \\leq \\infty}} \\tilde{E}{\\left (n_{0},n_{1} \\right )} e^{\\frac{2 i \\pi}{X_{0} X_{1}} \\left(X_{0} n_{1} x_{1} + X_{1} n_{0} x_{0}\\right)} + 2 i \\omega \\sum_{\\substack{-\\infty \\leq n_{0} \\leq \\infty\\\\-\\infty \\leq n_{1} \\leq \\infty}} \\frac{2 \\pi}{X_{0}} i n_{0} \\tilde{E}{\\left (n_{0},n_{1} \\right )} e^{\\frac{2 i \\pi}{X_{0} X_{1}} \\left(X_{0} n_{1} x_{1} + X_{1} n_{0} x_{0}\\right)} + \\sum_{\\substack{-\\infty \\leq n_{0} \\leq \\infty\\\\-\\infty \\leq n_{1} \\leq \\infty}} - \\frac{4 \\pi^{2}}{X_{0}^{2}} n_{0}^{2} \\tilde{E}{\\left (n_{0},n_{1} \\right )} e^{\\frac{2 i \\pi}{X_{0} X_{1}} \\left(X_{0} n_{1} x_{1} + X_{1} n_{0} x_{0}\\right)}\\right) e^{i \\left(\\omega x_{0} - k x_{1}\\right)} - \\frac{1}{c^{2}} e^{i \\omega x_{0} - i k x_{1}} \\left(\\sum_{\\substack{-\\infty \\leq n_{0} \\leq \\infty\\\\-\\infty \\leq n_{1} \\leq \\infty}} \\tilde{E}{\\left (n_{0},n_{1} \\right )} e^{\\frac{2 i \\pi}{X_{0} X_{1}} \\left(X_{0} n_{1} x_{1} + X_{1} n_{0} x_{0}\\right)}\\right) \\sum_{\\substack{-\\infty \\leq n_{0} \\leq \\infty\\\\-\\infty \\leq n_{1} \\leq \\infty}} \\tilde{\\omega^{2}}_{c}{\\left (n_{0},n_{1} \\right )} e^{\\frac{2 i \\pi}{X_{0} X_{1}} \\left(X_{0} n_{1} x_{1} + X_{1} n_{0} x_{0}\\right)}$$"
      ],
      "text/plain": [
       "<IPython.core.display.Math at 0x7fbbcd208d68>"
      ]
     },
     "metadata": {},
     "output_type": "display_data"
    },
    {
     "data": {
      "text/latex": [
       "$$EQ_\\text{harm} = \\frac{\\omega^{2}}{c^{2}} e^{i \\omega x_{0}} e^{- i k x_{1}} \\sum_{\\substack{-\\infty \\leq n_{0} \\leq \\infty\\\\-\\infty \\leq n_{1} \\leq \\infty}} \\tilde{E}{\\left (n_{0},n_{1} \\right )} e^{\\frac{2 \\pi}{X_{0}} i n_{0} x_{0}} e^{\\frac{2 \\pi}{X_{1}} i n_{1} x_{1}} - \\frac{2 i}{c^{2}} \\omega e^{i \\omega x_{0}} e^{- i k x_{1}} \\sum_{\\substack{-\\infty \\leq n_{0} \\leq \\infty\\\\-\\infty \\leq n_{1} \\leq \\infty}} \\frac{2 \\pi}{X_{0}} i n_{0} \\tilde{E}{\\left (n_{0},n_{1} \\right )} e^{\\frac{2 \\pi}{X_{0}} i n_{0} x_{0}} e^{\\frac{2 \\pi}{X_{1}} i n_{1} x_{1}} - k^{2} e^{i \\omega x_{0}} e^{- i k x_{1}} \\sum_{\\substack{-\\infty \\leq n_{0} \\leq \\infty\\\\-\\infty \\leq n_{1} \\leq \\infty}} \\tilde{E}{\\left (n_{0},n_{1} \\right )} e^{\\frac{2 \\pi}{X_{0}} i n_{0} x_{0}} e^{\\frac{2 \\pi}{X_{1}} i n_{1} x_{1}} - 2 i k e^{i \\omega x_{0}} e^{- i k x_{1}} \\sum_{\\substack{-\\infty \\leq n_{0} \\leq \\infty\\\\-\\infty \\leq n_{1} \\leq \\infty}} \\frac{2 \\pi}{X_{1}} i n_{1} \\tilde{E}{\\left (n_{0},n_{1} \\right )} e^{\\frac{2 \\pi}{X_{0}} i n_{0} x_{0}} e^{\\frac{2 \\pi}{X_{1}} i n_{1} x_{1}} + e^{i \\omega x_{0}} e^{- i k x_{1}} \\sum_{\\substack{-\\infty \\leq n_{0} \\leq \\infty\\\\-\\infty \\leq n_{1} \\leq \\infty}} - \\frac{4 \\pi^{2}}{X_{1}^{2}} n_{1}^{2} \\tilde{E}{\\left (n_{0},n_{1} \\right )} e^{\\frac{2 \\pi}{X_{0}} i n_{0} x_{0}} e^{\\frac{2 \\pi}{X_{1}} i n_{1} x_{1}} - \\frac{1}{c^{2}} e^{i \\omega x_{0}} e^{- i k x_{1}} \\sum_{\\substack{-\\infty \\leq n_{0} \\leq \\infty\\\\-\\infty \\leq n_{1} \\leq \\infty}} e^{\\frac{2 i \\pi}{X_{0} X_{1}} \\left(X_{0} n_{1} x_{1} + X_{1} n_{0} x_{0}\\right)} \\sum_{\\substack{-\\infty \\leq m_{0} \\leq \\infty\\\\-\\infty \\leq m_{1} \\leq \\infty}} \\tilde{E}{\\left (m_{0},m_{1} \\right )} \\tilde{\\omega^{2}}_{c}{\\left (- m_{0} + n_{0},- m_{1} + n_{1} \\right )} - \\frac{1}{c^{2}} e^{i \\omega x_{0}} e^{- i k x_{1}} \\sum_{\\substack{-\\infty \\leq n_{0} \\leq \\infty\\\\-\\infty \\leq n_{1} \\leq \\infty}} - \\frac{4 \\pi^{2}}{X_{0}^{2}} n_{0}^{2} \\tilde{E}{\\left (n_{0},n_{1} \\right )} e^{\\frac{2 \\pi}{X_{0}} i n_{0} x_{0}} e^{\\frac{2 \\pi}{X_{1}} i n_{1} x_{1}}$$"
      ],
      "text/plain": [
       "<IPython.core.display.Math at 0x7fbbca97d048>"
      ]
     },
     "metadata": {},
     "output_type": "display_data"
    },
    {
     "data": {
      "text/latex": [
       "$$EQ_\\text{harm} = \\frac{e^{i \\left(\\omega x_{0} - k x_{1}\\right)}}{X_{0}^{2} X_{1}^{2} c^{2}} \\left(X_{0}^{2} \\left(X_{1}^{2} \\omega^{2} \\tilde{E}{\\left (n_{0},n_{1} \\right )} - X_{1}^{2} c^{2} k^{2} \\tilde{E}{\\left (n_{0},n_{1} \\right )} + X_{1}^{2} \\sum_{\\substack{-\\infty \\leq m_{0} \\leq \\infty\\\\-\\infty \\leq m_{1} \\leq \\infty}} - \\tilde{E}{\\left (m_{0},m_{1} \\right )} \\tilde{\\omega^{2}}_{c}{\\left (- m_{0} + n_{0},- m_{1} + n_{1} \\right )} + 4 \\pi X_{1} c^{2} k n_{1} \\tilde{E}{\\left (n_{0},n_{1} \\right )} - 4 \\pi^{2} c^{2} n_{1}^{2} \\tilde{E}{\\left (n_{0},n_{1} \\right )}\\right) + 4 \\pi X_{0} X_{1}^{2} \\omega n_{0} \\tilde{E}{\\left (n_{0},n_{1} \\right )} + 4 \\pi^{2} X_{1}^{2} n_{0}^{2} \\tilde{E}{\\left (n_{0},n_{1} \\right )}\\right) e^{- i \\omega x_{0} + i k x_{1}}$$"
      ],
      "text/plain": [
       "<IPython.core.display.Math at 0x7fbbcd200b70>"
      ]
     },
     "metadata": {},
     "output_type": "display_data"
    },
    {
     "data": {
      "text/latex": [
       "$$\\tilde{E}~~~~\\tilde{\\omega^{2}}_{c}$$"
      ],
      "text/plain": [
       "<IPython.core.display.Math at 0x7fbbcd200b70>"
      ]
     },
     "metadata": {},
     "output_type": "display_data"
    }
   ],
   "source": [
    "x_0, x_1 = symbols('x_0 x_1')\n",
    "EQ_x = EQ.subs([(t, x_0), (z, x_1)])\n",
    "BlochFact_x = BlochFact.subs([(t, x_0), (z, x_1)])\n",
    "display(Math('EQ_x = ' + latex(EQ_x)))\n",
    "\n",
    "pde_FB = PDEFourierSeriesND(EQ_x, [E, omega_c_sq], n_dim=2, usexyz=False)\n",
    "\n",
    "EQ_harm = pde_FB.putSums().doit()\n",
    "display(Math('EQ_\\\\text{harm} = ' + latex(EQ_harm)))\n",
    "\n",
    "EQ_harm = pde_FB.applyConvolutions(EQ_harm)\n",
    "display(Math('EQ_\\\\text{harm} = ' + latex(EQ_harm)))\n",
    "\n",
    "EQ_harm = pde_FB.applyOrthogonalities(EQ_harm)/BlochFact_x\n",
    "display(Math('EQ_\\\\text{harm} = ' + latex(EQ_harm)))\n",
    "\n",
    "E_tilde, omega_c_sq_tilde = pde_FB.varsHarm\n",
    "display(Math(latex(E_tilde) + '~~~~' + latex(omega_c_sq_tilde)))\n"
   ]
  },
  {
   "cell_type": "code",
   "execution_count": 201,
   "metadata": {
    "collapsed": false
   },
   "outputs": [
    {
     "data": {
      "text/latex": [
       "$$EQ_\\text{harm} = 1.11265005605362 \\cdot 10^{-17} \\omega^{2} \\tilde{E}{\\left (n_{0},n_{1} \\right )} + 7.08335025409631 \\cdot 10^{-27} \\pi \\omega n_{0} \\tilde{E}{\\left (n_{0},n_{1} \\right )} + 1.12735020659066 \\cdot 10^{-36} \\pi^{2} n_{0}^{2} \\tilde{E}{\\left (n_{0},n_{1} \\right )} - 0.00582802806491489 \\pi^{2} n_{1}^{2} \\tilde{E}{\\left (n_{0},n_{1} \\right )} + 1.11265005605362 \\cdot 10^{-17} \\sum_{\\substack{-\\infty \\leq m_{0} \\leq \\infty\\\\-\\infty \\leq m_{1} \\leq \\infty}} - \\tilde{E}{\\left (m_{0},m_{1} \\right )} \\tilde{\\omega^{2}}_{c}{\\left (- m_{0} + n_{0},- m_{1} + n_{1} \\right )}$$"
      ],
      "text/plain": [
       "<IPython.core.display.Math at 0x7fbbc87c1470>"
      ]
     },
     "metadata": {},
     "output_type": "display_data"
    }
   ],
   "source": [
    "import numpy as np\n",
    "from scipy import constants\n",
    "import math\n",
    "\n",
    "c_sub = constants.c\n",
    "f_scale = constants.giga\n",
    "\n",
    "f_p = 1.0*f_scale\n",
    "T_p = 1.0/f_p\n",
    "v_p = 0.99*c_sub\n",
    "Z_p = v_p/f_p\n",
    "k_sub = 0.0\n",
    "\n",
    "X0_sub = 2.0*math.pi/T_p\n",
    "X1_sub = 2.0*math.pi/Z_p\n",
    "EQ_k_fin = EQ_harm.subs([(I, 1j), (pi, math.pi), (c, c_sub), (Symbol('X_0'), X0_sub), (Symbol('X_1'), X1_sub)])\n",
    "EQ_fin = EQ_k_fin.subs(k, k_sub)\n",
    "\n",
    "display(Math('EQ_\\\\text{harm} = ' + latex(EQ_fin)))\n",
    "\n",
    "Ns = [8, 8]\n",
    "omega_c_0 = 2.0*2.0*math.pi*f_scale\n",
    "omega_p = 2.0*math.pi*f_p\n",
    "k_p = omega_p/v_p\n",
    "delta = 0.0\n",
    "\n",
    "import numpy\n",
    "def omega_c_sq_fun(x):\n",
    "    t = x[0]\n",
    "    z = x[1]\n",
    "    return (omega_c_0*(1.0+delta*np.cos(omega_p*t - k_p*z)))**2\n",
    "\n",
    "\n",
    "omega_c_sq_harm_vec = pde_FB.getFourierCoeffs(omega_c_sq_fun, [0.0, 0.0], [T_p, Z_p], Ns)\n",
    "\n",
    "expr_list = [EQ_fin]\n",
    "vars = [E_tilde]\n",
    "pars = [omega_c_sq_tilde]\n",
    "pars_vecs = [omega_c_sq_harm_vec]\n",
    "eig_vars = [omega]\n",
    "pde_FB.setupNumericalParameters(expr_list, Ns, vars, pars, pars_vecs, eig_vars)\n",
    "pde_FB.calculateDenseMatrices = True\n"
   ]
  },
  {
   "cell_type": "code",
   "execution_count": 202,
   "metadata": {
    "collapsed": false
   },
   "outputs": [],
   "source": [
    "A_mat_list = pde_FB.orthogonalToNumpyMatrix()"
   ]
  },
  {
   "cell_type": "code",
   "execution_count": 203,
   "metadata": {
    "collapsed": false
   },
   "outputs": [
    {
     "name": "stdout",
     "output_type": "stream",
     "text": [
      "omega/omega_c:  (1+0j)\n",
      "det:  [(1+0j)]\n",
      "res: \n",
      " [[(12566370614.360172+0j)], [(1+0j)],        x: array([  1.25663706e+10,   0.00000000e+00])\n",
      "    fjac: array([[ -1.34564804e+82,   0.00000000e+00],\n",
      "       [  1.82016452e+00,  -1.61426473e+04]])\n",
      "   cov_x: array([[  5.52251671e-165,   5.19074437e-091],\n",
      "       [  5.19074437e-091,   3.83751849e-009]])\n",
      "    ipvt: array([1, 2], dtype=int32)\n",
      " success: True\n",
      "    nfev: 4\n",
      "     qtf: array([-1.,  0.])\n",
      "     fun: array([ 1.,  0.])\n",
      "  status: 2\n",
      " message: 'The relative error between two consecutive iterates is at most 0.000000']\n"
     ]
    }
   ],
   "source": [
    "eigvar_vals_0 = [omega_c_0+0.001]\n",
    "A_eqs_list = [A_mat_list]\n",
    "res = pde_FB.solveDeterminant(eigvar_vals_0, A_eqs_list, solver='lm', handle_overflow=True)\n",
    "\n",
    "print('omega/omega_c: ', res[0][0]/omega_c_0)\n",
    "print('det: ', res[1])\n",
    "print('res: \\n', res)\n"
   ]
  },
  {
   "cell_type": "code",
   "execution_count": 204,
   "metadata": {
    "collapsed": false
   },
   "outputs": [
    {
     "name": "stdout",
     "output_type": "stream",
     "text": [
      "0:  1.0\n",
      "1:  1.00000085556\n",
      "2:  1.00000344722\n",
      "3:  1.00000165783\n",
      "4:  1.00006014904\n",
      "5:  1.00028137133\n",
      "6:  1.00066514193\n",
      "7:  1.00121126511\n",
      "8:  1.00191949122\n",
      "9:  1.00278946955\n",
      "10:  1.00382078392\n",
      "11:  1.00501291657\n",
      "12:  1.00636533756\n",
      "13:  1.00787735445\n",
      "14:  1.00954829347\n",
      "15:  1.01137733594\n",
      "16:  1.01336363994\n",
      "17:  1.01550627\n",
      "18:  1.0178042595\n",
      "19:  1.02025653719\n",
      "20:  1.02286202034\n",
      "21:  1.02561951084\n",
      "22:  1.02852780098\n",
      "23:  1.03158561521\n",
      "24:  1.03479162788\n",
      "25:  1.03814446591\n",
      "26:  1.0416427114\n",
      "27:  1.04528488883\n",
      "28:  1.04906952993\n",
      "29:  1.05299508323\n",
      "30:  1.05705996301\n",
      "31:  1.06126259955\n",
      "32:  1.06560134744\n",
      "33:  1.07007453504\n",
      "34:  1.07468051522\n",
      "35:  1.07941755629\n",
      "36:  1.08428397243\n",
      "37:  1.08927799746\n",
      "38:  1.09439790046\n",
      "39:  1.09964193949\n",
      "40:  1.10500831475\n",
      "41:  1.11049527206\n",
      "42:  1.11610103976\n",
      "43:  1.12182381365\n",
      "44:  1.12766182537\n",
      "45:  1.13361331141\n",
      "46:  1.13967646063\n",
      "47:  1.14584951698\n",
      "48:  1.15213071727\n",
      "49:  1.15851830953\n"
     ]
    }
   ],
   "source": [
    "eigvar_vals_0 = [omega_c_0+0.001]\n",
    "\n",
    "n_pts = 50\n",
    "\n",
    "k_arr = np.linspace(0.0, X1_sub, n_pts)\n",
    "omega_arr = np.zeros(n_pts)\n",
    "\n",
    "for i in range(len(k_arr)):\n",
    "    k_sub = k_arr[i]\n",
    "    EQ_fin = EQ_k_fin.subs(k, k_sub)\n",
    "    \n",
    "    expr_list = [EQ_fin]\n",
    "    pde_FB.setupNumericalParameters(expr_list, Ns, vars, pars, pars_vecs, eig_vars)\n",
    "    A_mat_list = pde_FB.orthogonalToNumpyMatrix()  \n",
    "\n",
    "    A_eqs_list = [A_mat_list]\n",
    "    res = pde_FB.solveDeterminant(eigvar_vals_0, A_eqs_list, solver='lm', handle_overflow=True)\n",
    "    \n",
    "    omega_arr[i] = res[0][0]\n",
    "    \n",
    "    eigvar_vals_0 = [res[0][0]]\n",
    "    print('{}: '.format(i), omega_arr[i]/omega_c_0)\n",
    "    \n"
   ]
  },
  {
   "cell_type": "code",
   "execution_count": 205,
   "metadata": {
    "collapsed": false
   },
   "outputs": [
    {
     "name": "stdout",
     "output_type": "stream",
     "text": [
      "Populating the interactive namespace from numpy and matplotlib\n"
     ]
    },
    {
     "data": {
      "text/plain": [
       "[<matplotlib.lines.Line2D at 0x7fbbc86bf320>]"
      ]
     },
     "execution_count": 205,
     "metadata": {},
     "output_type": "execute_result"
    },
    {
     "data": {
      "image/png": "[encoded data removed]",
      "text/plain": [
       "<matplotlib.figure.Figure at 0x7fbbc8889400>"
      ]
     },
     "metadata": {},
     "output_type": "display_data"
    }
   ],
   "source": [
    "%pylab inline\n",
    "\n",
    "plot(k_arr, np.real(omega_arr))"
   ]
  },
  {
   "cell_type": "code",
   "execution_count": null,
   "metadata": {
    "collapsed": false
   },
   "outputs": [],
   "source": []
  }
 ],
 "metadata": {
  "kernelspec": {
   "display_name": "Python 3",
   "language": "python",
   "name": "python3"
  },
  "language_info": {
   "codemirror_mode": {
    "name": "ipython",
    "version": 3
   },
   "file_extension": ".py",
   "mimetype": "text/x-python",
   "name": "python",
   "nbconvert_exporter": "python",
   "pygments_lexer": "ipython3",
   "version": "3.5.2"
  }
 },
 "nbformat": 4,
 "nbformat_minor": 0
}
