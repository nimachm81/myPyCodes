{
 "cells": [
  {
   "cell_type": "code",
   "execution_count": 166,
   "metadata": {
    "collapsed": false
   },
   "outputs": [
    {
     "name": "stdout",
     "output_type": "stream",
     "text": [
      "-- [20  5] 100\n"
     ]
    }
   ],
   "source": [
    "%reload_ext autoreload\n",
    "%autoreload\n",
    "#%aimport\n",
    "\n",
    "import numpy as np\n",
    "\n",
    "from Electromagnetics.RecGridND import *\n",
    "\n",
    "n_dim_space = 1\n",
    "\n",
    "x0, x1, dx = None, None, None\n",
    "n_dim = n_dim_space+1\n",
    "BC = 'IC'\n",
    "make_refinements = False\n",
    "S = 0.9\n",
    "\n",
    "assert n_dim>1\n",
    "if n_dim==2:\n",
    "    x0 = np.array([0.0, 0.0])\n",
    "    x1 = np.array([1.0, 0.2])\n",
    "    dx = np.array([0.05, S*0.05])\n",
    "elif n_dim==3:\n",
    "    x0 = np.array([0.0, 0.0, 0.0])\n",
    "    x1 = np.array([1.0, 1.0, 1.0])\n",
    "    dx = np.array([0.35, 0.25, 0.20])\n",
    "\n",
    "    \n",
    "rg = RGND(x0, x1, dx)\n",
    "\n",
    "\n",
    "if make_refinements:\n",
    "    pass\n",
    "\n",
    "\n",
    "rg.NodesGetConnectedCells()\n",
    "rg.SetupBoundaryCellConnections()\n",
    "assert rg.VerifyInternalAndBorderCellsContinuity()\n"
   ]
  },
  {
   "cell_type": "code",
   "execution_count": 167,
   "metadata": {
    "collapsed": false
   },
   "outputs": [
    {
     "name": "stdout",
     "output_type": "stream",
     "text": [
      "differential equation:\n"
     ]
    },
    {
     "data": {
      "text/latex": [
       "$$- 1.0 \\frac{\\partial^{2}}{\\partial t^{2}}  f{\\left (x,t \\right )} + \\frac{\\partial^{2}}{\\partial x^{2}}  f{\\left (x,t \\right )}$$"
      ],
      "text/plain": [
       "<IPython.core.display.Math object>"
      ]
     },
     "metadata": {},
     "output_type": "display_data"
    },
    {
     "name": "stdout",
     "output_type": "stream",
     "text": [
      "[[[[[-1.00000000000000, 2, [t, t]], [1, 2, [x, x]]]]], [0]]\n",
      "self.indexInfo :  [{'N': 100}]\n",
      "n_unkn_v:  [60]\n",
      "cell_n_tot__vars:  [60]\n",
      "n_unkn_v:  [60]\n",
      "n_ind:\n",
      "60\n",
      "inds_keep:\n",
      "[[1 1 1 1 1 1 1 1 1 1]\n",
      " [1 1 1 1 1 1 1 1 1 1]\n",
      " [1 1 1 1 1 1 1 1 0 0]\n",
      " [1 1 1 1 1 1 1 1 0 0]\n",
      " [1 1 1 1 1 1 0 0 0 0]\n",
      " [1 1 1 1 1 1 0 0 0 0]\n",
      " [1 1 1 1 0 0 0 0 0 0]\n",
      " [1 1 1 1 0 0 0 0 0 0]\n",
      " [1 1 0 0 0 0 0 0 0 0]\n",
      " [1 1 0 0 0 0 0 0 0 0]]\n",
      "inds_0_all:\n",
      "[[ 0  1  2  3  4  5  6  7  8  9 -1 -1]\n",
      " [10 11 12 13 14 15 16 17 18 19 -1 -1]\n",
      " [20 21 22 23 24 25 26 27 -1 -1 -1 -1]\n",
      " [28 29 30 31 32 33 34 35 -1 -1 -1 -1]\n",
      " [36 37 38 39 40 41 -1 -1 -1 -1 -1 -1]\n",
      " [42 43 44 45 46 47 -1 -1 -1 -1 -1 -1]\n",
      " [48 49 50 51 -1 -1 -1 -1 -1 -1 -1 -1]\n",
      " [52 53 54 55 -1 -1 -1 -1 -1 -1 -1 -1]\n",
      " [56 57 -1 -1 -1 -1 -1 -1 -1 -1 -1 -1]\n",
      " [58 59 -1 -1 -1 -1 -1 -1 -1 -1 -1 -1]\n",
      " [-1 -1 -1 -1 -1 -1 -1 -1 -1 -1 -1 -1]\n",
      " [-1 -1 -1 -1 -1 -1 -1 -1 -1 -1 -1 -1]]\n",
      "mask_all:\n",
      "[[1 1 1 1 1 1 1 1 1 1 0 0]\n",
      " [1 1 1 1 1 1 1 1 1 1 0 0]\n",
      " [1 1 1 1 1 1 1 1 0 0 0 0]\n",
      " [1 1 1 1 1 1 1 1 0 0 0 0]\n",
      " [1 1 1 1 1 1 0 0 0 0 0 0]\n",
      " [1 1 1 1 1 1 0 0 0 0 0 0]\n",
      " [1 1 1 1 0 0 0 0 0 0 0 0]\n",
      " [1 1 1 1 0 0 0 0 0 0 0 0]\n",
      " [1 1 0 0 0 0 0 0 0 0 0 0]\n",
      " [1 1 0 0 0 0 0 0 0 0 0 0]\n",
      " [0 0 0 0 0 0 0 0 0 0 0 0]\n",
      " [0 0 0 0 0 0 0 0 0 0 0 0]]\n",
      "mask_x:\n",
      "[[0 0 0 0 0 0 0 0 0 0 0 0]\n",
      " [0 0 0 0 0 0 0 0 0 0 0 0]\n",
      " [0 0 1 1 1 1 1 1 0 0 0 0]\n",
      " [0 0 1 1 1 1 1 1 0 0 0 0]\n",
      " [0 0 1 1 1 1 0 0 0 0 0 0]\n",
      " [0 0 1 1 1 1 0 0 0 0 0 0]\n",
      " [0 0 1 1 0 0 0 0 0 0 0 0]\n",
      " [0 0 1 1 0 0 0 0 0 0 0 0]\n",
      " [0 0 0 0 0 0 0 0 0 0 0 0]\n",
      " [0 0 0 0 0 0 0 0 0 0 0 0]\n",
      " [0 0 0 0 0 0 0 0 0 0 0 0]\n",
      " [0 0 0 0 0 0 0 0 0 0 0 0]]\n",
      "inds_0_all_F:\n",
      "[[0, (0, 0)], [1, (0, 1)], [2, (0, 2)], [3, (0, 3)], [4, (0, 4)], [5, (0, 5)], [6, (0, 6)], [7, (0, 7)], [8, (0, 8)], [9, (0, 9)], [10, (1, 0)], [11, (1, 1)], [12, (1, 2)], [13, (1, 3)], [14, (1, 4)], [15, (1, 5)], [16, (1, 6)], [17, (1, 7)], [18, (1, 8)], [19, (1, 9)], [20, (2, 0)], [21, (2, 1)], [22, (2, 2)], [23, (2, 3)], [24, (2, 4)], [25, (2, 5)], [26, (2, 6)], [27, (2, 7)], [28, (3, 0)], [29, (3, 1)], [30, (3, 2)], [31, (3, 3)], [32, (3, 4)], [33, (3, 5)], [34, (3, 6)], [35, (3, 7)], [36, (4, 0)], [37, (4, 1)], [38, (4, 2)], [39, (4, 3)], [40, (4, 4)], [41, (4, 5)], [42, (5, 0)], [43, (5, 1)], [44, (5, 2)], [45, (5, 3)], [46, (5, 4)], [47, (5, 5)], [48, (6, 0)], [49, (6, 1)], [50, (6, 2)], [51, (6, 3)], [52, (7, 0)], [53, (7, 1)], [54, (7, 2)], [55, (7, 3)], [56, (8, 0)], [57, (8, 1)], [58, (9, 0)], [59, (9, 1)]]\n",
      "mask_x_F:\n",
      "[0, 0, 0, 0, 0, 0, 0, 0, 0, 0, 0, 0, 0, 0, 0, 0, 0, 0, 0, 0, 0, 0, 1, 1, 1, 1, 1, 1, 0, 0, 1, 1, 1, 1, 1, 1, 0, 0, 1, 1, 1, 1, 0, 0, 1, 1, 1, 1, 0, 0, 1, 1, 0, 0, 1, 1, 0, 0, 0, 0]\n",
      "eq_ind: 0   eq_arr: [[[-1.00000000000000, 2, [t, t]], [1, 2, [x, x]]]]\n",
      "v_ind: 0   eq_v: [[-1.00000000000000, 2, [t, t]], [1, 2, [x, x]]]\n",
      "eq_part: [-1.00000000000000, 2, [t, t]]\n"
     ]
    },
    {
     "data": {
      "text/latex": [
       "$$\\left [ -1.0, \\quad 2, \\quad \\left [ t, \\quad t\\right ]\\right ] : -1.0;2;\\left [ t, \\quad t\\right ]$$"
      ],
      "text/plain": [
       "<IPython.core.display.Math object>"
      ]
     },
     "metadata": {},
     "output_type": "display_data"
    },
    {
     "name": "stdout",
     "output_type": "stream",
     "text": [
      "eq_part: [1, 2, [x, x]]\n"
     ]
    },
    {
     "data": {
      "text/latex": [
       "$$\\left [ 1, \\quad 2, \\quad \\left [ x, \\quad x\\right ]\\right ] : 1;2;\\left [ x, \\quad x\\right ]$$"
      ],
      "text/plain": [
       "<IPython.core.display.Math object>"
      ]
     },
     "metadata": {},
     "output_type": "display_data"
    },
    {
     "name": "stdout",
     "output_type": "stream",
     "text": [
      "eqs_inds_all:\n",
      "[[[[2, 20], [3, 21], [4, 22], [5, 23], [6, 24], [7, 25], [8, 26], [9, 27], [-1, -1], [-1, -1], [12, 28], [13, 29], [14, 30], [15, 31], [16, 32], [17, 33], [18, 34], [19, 35], [-1, -1], [-1, -1], [22, 36], [23, 37], [24, 38], [25, 39], [26, 40], [27, 41], [-1, -1], [-1, -1], [30, 42], [31, 43], [32, 44], [33, 45], [34, 46], [35, 47], [-1, -1], [-1, -1], [38, 48], [39, 49], [40, 50], [41, 51], [-1, -1], [-1, -1], [44, 52], [45, 53], [46, 54], [47, 55], [-1, -1], [-1, -1], [50, 56], [51, 57], [-1, -1], [-1, -1], [54, 58], [55, 59], [-1, -1], [-1, -1], [-1, -1], [-1, -1], [-1, -1], [-1, -1]]]]\n",
      "n_ind_x:\n",
      "24\n",
      "eqs_inds_keep:\n",
      "[[[None, None, [22], [23], [24], [25], [26], [27], None, None, None, None, [30], [31], [32], [33], [34], [35], None, None, [22], [23], [24, 38], [25, 39], [26, 40], [27, 41], None, None, [30], [31], [32, 44], [33, 45], [34, 46], [35, 47], None, None, [38], [39], [40, 50], [41, 51], None, None, [44], [45], [46, 54], [47, 55], None, None, [50], [51], None, None, [54], [55], None, None, None, None, None, None]]]\n",
      "n_try:\n",
      "3\n",
      "mask_x_F:\n",
      "[0, 0, 0, 0, 0, 0, 0, 0, 0, 0, 0, 0, 0, 0, 0, 0, 0, 0, 0, 0, 0, 0, 1, 1, 1, 1, 1, 1, 0, 0, 1, 1, 1, 1, 1, 1, 0, 0, 1, 1, 1, 1, 0, 0, 1, 1, 1, 1, 0, 0, 1, 1, 0, 0, 1, 1, 0, 0, 0, 0]\n",
      "x_assign:\n",
      "[[[], [], [], [], [], [], [], [], [], [], [], [], [], [], [], [], [], [], [], [], [], [], [2, 20], [3, 21], [4], [5], [6], [7], [], [], [12, 28], [13, 29], [14], [15], [16], [17], [], [], [36, 22], [37, 23], [24, 38], [25, 39], [], [], [42, 30], [43, 31], [32, 44], [33, 45], [], [], [48], [49], [], [], [52], [53], [], [], [], []]]\n",
      "x_assign:\n",
      "[[None, None, None, None, None, None, None, None, None, None, None, None, None, None, None, None, None, None, None, None, None, None, [2, 20], [3, 21], [4], [5], [6], [7], None, None, [12, 28], [13, 29], [14], [15], [16], [17], None, None, [36, 22], [37, 23], [24, 38], [25, 39], None, None, [42, 30], [43, 31], [32, 44], [33, 45], None, None, [48], [49], None, None, [52], [53], None, None, None, None]]\n",
      "inds_keep__x_weight:\n",
      "[[[2, 22, 0.5], [20, 22, 0.5], [3, 23, 0.5], [21, 23, 0.5], [4, 24, 1.0], [5, 25, 1.0], [6, 26, 1.0], [7, 27, 1.0], [12, 30, 0.5], [28, 30, 0.5], [13, 31, 0.5], [29, 31, 0.5], [14, 32, 1.0], [15, 33, 1.0], [16, 34, 1.0], [17, 35, 1.0], [36, 38, 0.5], [22, 38, 0.5], [37, 39, 0.5], [23, 39, 0.5], [24, 40, 0.5], [38, 40, 0.5], [25, 41, 0.5], [39, 41, 0.5], [42, 44, 0.5], [30, 44, 0.5], [43, 45, 0.5], [31, 45, 0.5], [32, 46, 0.5], [44, 46, 0.5], [33, 47, 0.5], [45, 47, 0.5], [48, 50, 1.0], [49, 51, 1.0], [52, 54, 1.0], [53, 55, 1.0]]]\n",
      "self.mask_allp:\n",
      "[[1 1 1 1 1 1 1 1 1 1 0 0]\n",
      " [1 1 1 1 1 1 1 1 1 1 0 0]\n",
      " [1 1 1 1 1 1 1 1 0 0 0 0]\n",
      " [1 1 1 1 1 1 1 1 0 0 0 0]\n",
      " [1 1 1 1 1 1 0 0 0 0 0 0]\n",
      " [1 1 1 1 1 1 0 0 0 0 0 0]\n",
      " [1 1 1 1 0 0 0 0 0 0 0 0]\n",
      " [1 1 1 1 0 0 0 0 0 0 0 0]\n",
      " [1 1 0 0 0 0 0 0 0 0 0 0]\n",
      " [1 1 0 0 0 0 0 0 0 0 0 0]\n",
      " [0 0 0 0 0 0 0 0 0 0 0 0]\n",
      " [0 0 0 0 0 0 0 0 0 0 0 0]]\n",
      "self.mask_xp:\n",
      "[[0 0 0 0 0 0 0 0 0 0 0 0]\n",
      " [0 0 0 0 0 0 0 0 0 0 0 0]\n",
      " [0 0 1 1 1 1 1 1 0 0 0 0]\n",
      " [0 0 1 1 1 1 1 1 0 0 0 0]\n",
      " [0 0 1 1 1 1 0 0 0 0 0 0]\n",
      " [0 0 1 1 1 1 0 0 0 0 0 0]\n",
      " [0 0 1 1 0 0 0 0 0 0 0 0]\n",
      " [0 0 1 1 0 0 0 0 0 0 0 0]\n",
      " [0 0 0 0 0 0 0 0 0 0 0 0]\n",
      " [0 0 0 0 0 0 0 0 0 0 0 0]\n",
      " [0 0 0 0 0 0 0 0 0 0 0 0]\n",
      " [0 0 0 0 0 0 0 0 0 0 0 0]]\n",
      "self.mask_x_F:\n",
      "[0, 0, 0, 0, 0, 0, 0, 0, 0, 0, 0, 0, 0, 0, 0, 0, 0, 0, 0, 0, 0, 0, 1, 1, 1, 1, 1, 1, 0, 0, 1, 1, 1, 1, 1, 1, 0, 0, 1, 1, 1, 1, 0, 0, 1, 1, 1, 1, 0, 0, 1, 1, 0, 0, 1, 1, 0, 0, 0, 0]\n",
      "self.inds_0_allp:\n",
      "[[ 0  1  2  3  4  5  6  7  8  9 -1 -1]\n",
      " [10 11 12 13 14 15 16 17 18 19 -1 -1]\n",
      " [20 21 22 23 24 25 26 27 -1 -1 -1 -1]\n",
      " [28 29 30 31 32 33 34 35 -1 -1 -1 -1]\n",
      " [36 37 38 39 40 41 -1 -1 -1 -1 -1 -1]\n",
      " [42 43 44 45 46 47 -1 -1 -1 -1 -1 -1]\n",
      " [48 49 50 51 -1 -1 -1 -1 -1 -1 -1 -1]\n",
      " [52 53 54 55 -1 -1 -1 -1 -1 -1 -1 -1]\n",
      " [56 57 -1 -1 -1 -1 -1 -1 -1 -1 -1 -1]\n",
      " [58 59 -1 -1 -1 -1 -1 -1 -1 -1 -1 -1]\n",
      " [-1 -1 -1 -1 -1 -1 -1 -1 -1 -1 -1 -1]\n",
      " [-1 -1 -1 -1 -1 -1 -1 -1 -1 -1 -1 -1]]\n",
      "self.inds_0_all_F:\n",
      "[[0, (0, 0)], [1, (0, 1)], [2, (0, 2)], [3, (0, 3)], [4, (0, 4)], [5, (0, 5)], [6, (0, 6)], [7, (0, 7)], [8, (0, 8)], [9, (0, 9)], [10, (1, 0)], [11, (1, 1)], [12, (1, 2)], [13, (1, 3)], [14, (1, 4)], [15, (1, 5)], [16, (1, 6)], [17, (1, 7)], [18, (1, 8)], [19, (1, 9)], [20, (2, 0)], [21, (2, 1)], [22, (2, 2)], [23, (2, 3)], [24, (2, 4)], [25, (2, 5)], [26, (2, 6)], [27, (2, 7)], [28, (3, 0)], [29, (3, 1)], [30, (3, 2)], [31, (3, 3)], [32, (3, 4)], [33, (3, 5)], [34, (3, 6)], [35, (3, 7)], [36, (4, 0)], [37, (4, 1)], [38, (4, 2)], [39, (4, 3)], [40, (4, 4)], [41, (4, 5)], [42, (5, 0)], [43, (5, 1)], [44, (5, 2)], [45, (5, 3)], [46, (5, 4)], [47, (5, 5)], [48, (6, 0)], [49, (6, 1)], [50, (6, 2)], [51, (6, 3)], [52, (7, 0)], [53, (7, 1)], [54, (7, 2)], [55, (7, 3)], [56, (8, 0)], [57, (8, 1)], [58, (9, 0)], [59, (9, 1)]]\n",
      "self.inds_keep:\n",
      "[[1 1 1 1 1 1 1 1 1 1]\n",
      " [1 1 1 1 1 1 1 1 1 1]\n",
      " [1 1 1 1 1 1 1 1 0 0]\n",
      " [1 1 1 1 1 1 1 1 0 0]\n",
      " [1 1 1 1 1 1 0 0 0 0]\n",
      " [1 1 1 1 1 1 0 0 0 0]\n",
      " [1 1 1 1 0 0 0 0 0 0]\n",
      " [1 1 1 1 0 0 0 0 0 0]\n",
      " [1 1 0 0 0 0 0 0 0 0]\n",
      " [1 1 0 0 0 0 0 0 0 0]]\n",
      "self.inds_keep__x_weight:\n",
      "[[[2, 22, 0.5], [20, 22, 0.5], [3, 23, 0.5], [21, 23, 0.5], [4, 24, 1.0], [5, 25, 1.0], [6, 26, 1.0], [7, 27, 1.0], [12, 30, 0.5], [28, 30, 0.5], [13, 31, 0.5], [29, 31, 0.5], [14, 32, 1.0], [15, 33, 1.0], [16, 34, 1.0], [17, 35, 1.0], [36, 38, 0.5], [22, 38, 0.5], [37, 39, 0.5], [23, 39, 0.5], [24, 40, 0.5], [38, 40, 0.5], [25, 41, 0.5], [39, 41, 0.5], [42, 44, 0.5], [30, 44, 0.5], [43, 45, 0.5], [31, 45, 0.5], [32, 46, 0.5], [44, 46, 0.5], [33, 47, 0.5], [45, 47, 0.5], [48, 50, 1.0], [49, 51, 1.0], [52, 54, 1.0], [53, 55, 1.0]]]\n",
      "self.EQs_parts: [[[[-1.00000000000000, 2, [t, t]], [1, 2, [x, x]]]]]\n",
      "eq_ind: 0   eq_arr: [[[-1.00000000000000, 2, [t, t]], [1, 2, [x, x]]]]\n",
      "v_ind: 0   eq_v: [[-1.00000000000000, 2, [t, t]], [1, 2, [x, x]]]\n",
      "eq_part: [-1.00000000000000, 2, [t, t]]\n"
     ]
    },
    {
     "data": {
      "text/latex": [
       "$$\\left [ -1.0, \\quad 2, \\quad \\left [ t, \\quad t\\right ]\\right ] : -1.0;2;\\left [ t, \\quad t\\right ]$$"
      ],
      "text/plain": [
       "<IPython.core.display.Math object>"
      ]
     },
     "metadata": {},
     "output_type": "display_data"
    },
    {
     "name": "stdout",
     "output_type": "stream",
     "text": [
      "arr_F:\n",
      "[3750.0, 625.0, 6250.0, 1875.0, 18750.0, 26250.0, 35000.0, 45000.0, 3750.0, 625.0, 6250.0, 1875.0, 18750.0, 26250.0, 35000.0, 45000.0, 625.0, 3750.0, 1875.0, 6250.0, 9375.0, 3750.0, 13125.0, 6250.0, 625.0, 3750.0, 1875.0, 6250.0, 9375.0, 3750.0, 13125.0, 6250.0, 1250.0, 3750.0, 1250.0, 3750.0]\n",
      "inds_F:\n",
      "[4, 22, 5, 23, 6, 7, 8, 9, 14, 30, 15, 31, 16, 17, 18, 19, 38, 24, 39, 25, 26, 40, 27, 41, 44, 32, 45, 33, 34, 46, 35, 47, 50, 51, 54, 55]\n",
      "inds_0_F:\n",
      "[22, 22, 23, 23, 24, 25, 26, 27, 30, 30, 31, 31, 32, 33, 34, 35, 38, 38, 39, 39, 40, 40, 41, 41, 44, 44, 45, 45, 46, 46, 47, 47, 50, 51, 54, 55]\n",
      "--------------------\n",
      "coeff_sym: -1.00000000000000\n",
      "coeff_sym:  -1.00000000000000\n",
      "eq_part: [1, 2, [x, x]]\n"
     ]
    },
    {
     "data": {
      "text/latex": [
       "$$\\left [ 1, \\quad 2, \\quad \\left [ x, \\quad x\\right ]\\right ] : 1;2;\\left [ x, \\quad x\\right ]$$"
      ],
      "text/plain": [
       "<IPython.core.display.Math object>"
      ]
     },
     "metadata": {},
     "output_type": "display_data"
    },
    {
     "name": "stdout",
     "output_type": "stream",
     "text": [
      "arr_F:\n",
      "[400.0, 2400.0, 400.0, 2400.0, 800.0, 800.0, 800.0, 800.0, 1200.0, 4000.0, 1200.0, 4000.0, 2400.0, 2400.0, 2400.0, 2400.0, 6000.0, 2400.0, 6000.0, 2400.0, 2400.0, 6000.0, 2400.0, 6000.0, 8400.0, 4000.0, 8400.0, 4000.0, 4000.0, 8400.0, 4000.0, 8400.0, 22400.0, 22400.0, 28800.0, 28800.0]\n",
      "inds_F:\n",
      "[22, 36, 23, 37, 24, 25, 26, 27, 30, 42, 31, 43, 32, 33, 34, 35, 48, 38, 49, 39, 40, 50, 41, 51, 52, 44, 53, 45, 46, 54, 47, 55, 56, 57, 58, 59]\n",
      "inds_0_F:\n",
      "[22, 22, 23, 23, 24, 25, 26, 27, 30, 30, 31, 31, 32, 33, 34, 35, 38, 38, 39, 39, 40, 40, 41, 41, 44, 44, 45, 45, 46, 46, 47, 47, 50, 51, 54, 55]\n",
      "--------------------\n",
      "coeff_sym: 1\n",
      "coeff_sym:  1\n",
      "n_dir: 0 d_ord: 0 lev: 0 dr: [ 1.  0.]\n",
      "arr_I_FL_f0[n_dir]:\n",
      "[{0: 1.0}, {1: 1.0}, {2: 1.0}, {3: 1.0}, {4: 1.0}, {5: 1.0}, {6: 1.0}, {7: 1.0}, {8: 1.0}, {9: 1.0}]\n",
      "inds_0_FL_f0[n_dir]:\n",
      "[0, 1, 2, 3, 4, 5, 6, 7, 8, 9]\n",
      "arr_I_FL_f0_nb[n_dir]:\n",
      "[{0: 1.0, 48: 1.0, 58: 1.0, 20: 1.0, 56: 1.0, 36: 1.0, 10: 1.0, 28: 1.0, 42: 1.0, 52: 1.0}, {1: 1.0, 53: 1.0, 43: 1.0, 37: 1.0, 59: 1.0, 49: 1.0, 57: 1.0, 11: 1.0, 29: 1.0, 21: 1.0}, {2: 1.0, 22: 1.0, 38: 1.0, 44: 1.0, 54: 1.0, 12: 1.0, 50: 1.0, 30: 1.0}, {51: 1.0, 45: 1.0, 3: 1.0, 39: 1.0, 55: 1.0, 23: 1.0, 13: 1.0, 31: 1.0}, {32: 1.0, 40: 1.0, 4: 1.0, 46: 1.0, 24: 1.0, 14: 1.0}, {33: 1.0, 5: 1.0, 41: 1.0, 25: 1.0, 47: 1.0, 15: 1.0}, {16: 1.0, 26: 1.0, 34: 1.0, 6: 1.0}, {17: 1.0, 27: 1.0, 35: 1.0, 7: 1.0}, {8: 1.0, 18: 1.0}, {9: 1.0, 19: 1.0}]\n",
      "inds_0_FL_f0_nb[n_dir]:\n",
      "[0, 1, 2, 3, 4, 5, 6, 7, 8, 9]\n",
      "------------------------------\n",
      "n_dir: 0 d_ord: 1 lev: 0 dr: [ 1.  0.]\n",
      "arr_I_FL_f0[n_dir]:\n",
      "[{10: 20.0}, {11: 20.0}, {12: 20.0}, {13: 20.0}, {14: 20.0}, {15: 20.0}, {16: 20.0}, {17: 20.0}, {18: 20.0}, {19: 20.0}]\n",
      "inds_0_FL_f0[n_dir]:\n",
      "[0, 1, 2, 3, 4, 5, 6, 7, 8, 9]\n",
      "arr_I_FL_f0_nb[n_dir]:\n",
      "[{48: 120.0, 58: 180.0, 20: 40.0, 56: 160.0, 36: 80.0, 10: 20.0, 28: 60.0, 42: 100.0, 52: 140.0}, {49: 120.0, 53: 140.0, 11: 20.0, 37: 80.0, 59: 180.0, 57: 160.0, 43: 100.0, 29: 60.0, 21: 40.0}, {50: 120.0, 22: 40.0, 38: 80.0, 12: 20.0, 54: 140.0, 44: 100.0, 30: 60.0}, {51: 120.0, 39: 80.0, 55: 140.0, 23: 40.0, 13: 20.0, 45: 100.0, 31: 60.0}, {24: 40.0, 32: 60.0, 46: 100.0, 14: 20.0, 40: 80.0}, {25: 40.0, 41: 80.0, 47: 100.0, 33: 60.0, 15: 20.0}, {16: 20.0, 26: 40.0, 34: 60.0}, {17: 20.0, 27: 40.0, 35: 60.0}, {18: 20.0}, {19: 20.0}]\n",
      "inds_0_FL_f0_nb[n_dir]:\n",
      "[0, 1, 2, 3, 4, 5, 6, 7, 8, 9]\n",
      "------------------------------\n",
      "n_dir: 1 d_ord: 0 lev: 0 dr: [ 0.  1.]\n",
      "arr_I_FL_f0[n_dir]:\n",
      "[{0: 1.0}, {10: 1.0}, {20: 1.0}, {28: 1.0}, {36: 1.0}, {42: 1.0}, {48: 1.0}, {52: 1.0}, {56: 1.0}, {58: 1.0}]\n",
      "inds_0_FL_f0[n_dir]:\n",
      "[0, 10, 20, 28, 36, 42, 48, 52, 56, 58]\n",
      "arr_I_FL_f0_nb[n_dir]:\n",
      "[{0: 1.0, 1: 1.0, 2: 1.0, 3: 1.0, 4: 1.0, 5: 1.0, 6: 1.0, 7: 1.0, 8: 1.0, 9: 1.0}, {16: 1.0, 17: 1.0, 18: 1.0, 19: 1.0, 10: 1.0, 11: 1.0, 12: 1.0, 13: 1.0, 14: 1.0, 15: 1.0}, {20: 1.0, 21: 1.0, 22: 1.0, 23: 1.0, 24: 1.0, 25: 1.0, 26: 1.0, 27: 1.0}, {32: 1.0, 33: 1.0, 34: 1.0, 35: 1.0, 28: 1.0, 29: 1.0, 30: 1.0, 31: 1.0}, {36: 1.0, 37: 1.0, 38: 1.0, 39: 1.0, 40: 1.0, 41: 1.0}, {42: 1.0, 43: 1.0, 44: 1.0, 45: 1.0, 46: 1.0, 47: 1.0}, {48: 1.0, 49: 1.0, 50: 1.0, 51: 1.0}, {52: 1.0, 53: 1.0, 54: 1.0, 55: 1.0}, {56: 1.0, 57: 1.0}, {58: 1.0, 59: 1.0}]\n",
      "inds_0_FL_f0_nb[n_dir]:\n",
      "[0, 10, 20, 28, 36, 42, 48, 52, 56, 58]\n",
      "------------------------------\n",
      "n_dir: 1 d_ord: 1 lev: 0 dr: [ 0.  1.]\n",
      "arr_I_FL_f0[n_dir]:\n",
      "[{1: 25.0}, {11: 25.0}, {21: 25.0}, {29: 25.0}, {37: 25.0}, {43: 25.0}, {49: 25.0}, {53: 25.0}, {57: 25.0}, {59: 25.0}]\n",
      "inds_0_FL_f0[n_dir]:\n",
      "[0, 10, 20, 28, 36, 42, 48, 52, 56, 58]\n",
      "arr_I_FL_f0_nb[n_dir]:\n",
      "[{1: 25.0, 2: 50.0, 3: 75.0, 4: 100.0, 5: 125.0, 6: 150.0, 7: 175.0, 8: 200.0, 9: 225.0}, {16: 150.0, 17: 175.0, 18: 200.0, 19: 225.0, 11: 25.0, 12: 50.0, 13: 75.0, 14: 100.0, 15: 125.0}, {21: 25.0, 22: 50.0, 23: 75.0, 24: 100.0, 25: 125.0, 26: 150.0, 27: 175.0}, {32: 100.0, 33: 125.0, 34: 150.0, 35: 175.0, 29: 25.0, 30: 50.0, 31: 75.0}, {40: 100.0, 41: 125.0, 37: 25.0, 38: 50.0, 39: 75.0}, {43: 25.0, 44: 50.0, 45: 75.0, 46: 100.0, 47: 125.0}, {49: 25.0, 50: 50.0, 51: 75.0}, {53: 25.0, 54: 50.0, 55: 75.0}, {57: 25.0}, {59: 25.0}]\n",
      "inds_0_FL_f0_nb[n_dir]:\n",
      "[0, 10, 20, 28, 36, 42, 48, 52, 56, 58]\n",
      "------------------------------\n",
      "self.cc_eqindex_and_multiplicity[n_dir][d_ord]:  [[[[2.0, 2.0, 1.0, 1.0, 1.0, 1.0, 1.0, 1.0, 1.0, 1.0], [0, 1, 2, 3, 4, 5, 6, 7, 8, 9]], [[2.0, 2.0, 1.0, 1.0, 1.0, 1.0, 1.0, 1.0, 1.0, 1.0], [10, 11, 12, 13, 14, 15, 16, 17, 18, 19]]], [[[2.0, 2.0, 1.0, 1.0, 1.0, 1.0, 1.0, 1.0, 1.0, 1.0], [0, 10, 20, 28, 36, 42, 48, 52, 56, 58]], [[2.0, 2.0, 1.0, 1.0, 1.0, 1.0, 1.0, 1.0, 1.0, 1.0], [1, 11, 21, 29, 37, 43, 49, 53, 57, 59]]]]\n",
      "n_unkn_v:  [60]\n",
      "bc_max_ders:  [{0: 0, 'dir': 0, 'face': 'n'}, {0: 1, 'dir': 0, 'face': 'n'}, {0: 0, 'dir': 1, 'face': 'n'}, {0: 1, 'dir': 1, 'face': 'n'}]\n",
      "self.bc_inds: {'n': [[[0, 1]], [[2, 3]]], 'p': [[[None, None]], [[None, None]]]}\n",
      "self.bcic_to_bcic_map:\n",
      "[{'v_ind': 0, 'dir': 0, 'face': 'n', 'd_ord': 0}, {'v_ind': 0, 'dir': 0, 'face': 'n', 'd_ord': 1}, {'v_ind': 0, 'dir': 1, 'face': 'n', 'd_ord': 0}, {'v_ind': 0, 'dir': 1, 'face': 'n', 'd_ord': 1}]\n",
      "inds_empt:\n",
      " [[]]\n",
      "self.bc_dic[n/p][n_dir][lev][d_ord]:\n",
      "{'n': [[[[[{0: 1.0}, {1: 1.0}, {2: 1.0}, {3: 1.0}, {4: 1.0}, {5: 1.0}, {6: 1.0}, {7: 1.0}, {8: 1.0}, {9: 1.0}], [0, 1, 2, 3, 4, 5, 6, 7, 8, 9]], [[{10: 20.0}, {11: 20.0}, {12: 20.0}, {13: 20.0}, {14: 20.0}, {15: 20.0}, {16: 20.0}, {17: 20.0}, {18: 20.0}, {19: 20.0}], [0, 1, 2, 3, 4, 5, 6, 7, 8, 9]]]], [[[[{0: 1.0}, {10: 1.0}, {20: 1.0}, {28: 1.0}, {36: 1.0}, {42: 1.0}, {48: 1.0}, {52: 1.0}, {56: 1.0}, {58: 1.0}], [0, 10, 20, 28, 36, 42, 48, 52, 56, 58]], [[{1: 25.0}, {11: 25.0}, {21: 25.0}, {29: 25.0}, {37: 25.0}, {43: 25.0}, {49: 25.0}, {53: 25.0}, {57: 25.0}, {59: 25.0}], [0, 10, 20, 28, 36, 42, 48, 52, 56, 58]]]]], 'p': [[[[[{0: 1.0, 48: 1.0, 58: 1.0, 20: 1.0, 56: 1.0, 36: 1.0, 10: 1.0, 28: 1.0, 42: 1.0, 52: 1.0}, {1: 1.0, 53: 1.0, 43: 1.0, 37: 1.0, 59: 1.0, 49: 1.0, 57: 1.0, 11: 1.0, 29: 1.0, 21: 1.0}, {2: 1.0, 22: 1.0, 38: 1.0, 44: 1.0, 54: 1.0, 12: 1.0, 50: 1.0, 30: 1.0}, {51: 1.0, 45: 1.0, 3: 1.0, 39: 1.0, 55: 1.0, 23: 1.0, 13: 1.0, 31: 1.0}, {32: 1.0, 40: 1.0, 4: 1.0, 46: 1.0, 24: 1.0, 14: 1.0}, {33: 1.0, 5: 1.0, 41: 1.0, 25: 1.0, 47: 1.0, 15: 1.0}, {16: 1.0, 26: 1.0, 34: 1.0, 6: 1.0}, {17: 1.0, 27: 1.0, 35: 1.0, 7: 1.0}, {8: 1.0, 18: 1.0}, {9: 1.0, 19: 1.0}], [0, 1, 2, 3, 4, 5, 6, 7, 8, 9]], [[{48: 120.0, 58: 180.0, 20: 40.0, 56: 160.0, 36: 80.0, 10: 20.0, 28: 60.0, 42: 100.0, 52: 140.0}, {49: 120.0, 53: 140.0, 11: 20.0, 37: 80.0, 59: 180.0, 57: 160.0, 43: 100.0, 29: 60.0, 21: 40.0}, {50: 120.0, 22: 40.0, 38: 80.0, 12: 20.0, 54: 140.0, 44: 100.0, 30: 60.0}, {51: 120.0, 39: 80.0, 55: 140.0, 23: 40.0, 13: 20.0, 45: 100.0, 31: 60.0}, {24: 40.0, 32: 60.0, 46: 100.0, 14: 20.0, 40: 80.0}, {25: 40.0, 41: 80.0, 47: 100.0, 33: 60.0, 15: 20.0}, {16: 20.0, 26: 40.0, 34: 60.0}, {17: 20.0, 27: 40.0, 35: 60.0}, {18: 20.0}, {19: 20.0}], [0, 1, 2, 3, 4, 5, 6, 7, 8, 9]]]], [[[[{0: 1.0, 1: 1.0, 2: 1.0, 3: 1.0, 4: 1.0, 5: 1.0, 6: 1.0, 7: 1.0, 8: 1.0, 9: 1.0}, {16: 1.0, 17: 1.0, 18: 1.0, 19: 1.0, 10: 1.0, 11: 1.0, 12: 1.0, 13: 1.0, 14: 1.0, 15: 1.0}, {20: 1.0, 21: 1.0, 22: 1.0, 23: 1.0, 24: 1.0, 25: 1.0, 26: 1.0, 27: 1.0}, {32: 1.0, 33: 1.0, 34: 1.0, 35: 1.0, 28: 1.0, 29: 1.0, 30: 1.0, 31: 1.0}, {36: 1.0, 37: 1.0, 38: 1.0, 39: 1.0, 40: 1.0, 41: 1.0}, {42: 1.0, 43: 1.0, 44: 1.0, 45: 1.0, 46: 1.0, 47: 1.0}, {48: 1.0, 49: 1.0, 50: 1.0, 51: 1.0}, {52: 1.0, 53: 1.0, 54: 1.0, 55: 1.0}, {56: 1.0, 57: 1.0}, {58: 1.0, 59: 1.0}], [0, 10, 20, 28, 36, 42, 48, 52, 56, 58]], [[{1: 25.0, 2: 50.0, 3: 75.0, 4: 100.0, 5: 125.0, 6: 150.0, 7: 175.0, 8: 200.0, 9: 225.0}, {16: 150.0, 17: 175.0, 18: 200.0, 19: 225.0, 11: 25.0, 12: 50.0, 13: 75.0, 14: 100.0, 15: 125.0}, {21: 25.0, 22: 50.0, 23: 75.0, 24: 100.0, 25: 125.0, 26: 150.0, 27: 175.0}, {32: 100.0, 33: 125.0, 34: 150.0, 35: 175.0, 29: 25.0, 30: 50.0, 31: 75.0}, {40: 100.0, 41: 125.0, 37: 25.0, 38: 50.0, 39: 75.0}, {43: 25.0, 44: 50.0, 45: 75.0, 46: 100.0, 47: 125.0}, {49: 25.0, 50: 50.0, 51: 75.0}, {53: 25.0, 54: 50.0, 55: 75.0}, {57: 25.0}, {59: 25.0}], [0, 10, 20, 28, 36, 42, 48, 52, 56, 58]]]]]}\n",
      "self.bc_eqindex_and_multiplicity[n_dir][d_ord]:\n",
      "[[[[2.0, 2.0, 1.0, 1.0, 1.0, 1.0, 1.0, 1.0, 1.0, 1.0], [0, 1, 2, 3, 4, 5, 6, 7, 8, 9]], [[2.0, 2.0, 1.0, 1.0, 1.0, 1.0, 1.0, 1.0, 1.0, 1.0], [10, 11, 12, 13, 14, 15, 16, 17, 18, 19]]], [[[2.0, 2.0, 1.0, 1.0, 1.0, 1.0, 1.0, 1.0, 1.0, 1.0], [0, 10, 20, 28, 36, 42, 48, 52, 56, 58]], [[2.0, 2.0, 1.0, 1.0, 1.0, 1.0, 1.0, 1.0, 1.0, 1.0], [1, 11, 21, 29, 37, 43, 49, 53, 57, 59]]]]\n",
      "------------------------------\n",
      "bc_max_ders:  [{0: 0, 'dir': 0, 'face': 'n'}, {0: 1, 'dir': 0, 'face': 'n'}, {0: 0, 'dir': 1, 'face': 'n'}, {0: 1, 'dir': 1, 'face': 'n'}]\n",
      "self.BCs:\n",
      "[{'dir': 0, 'face': 'n', 'expr': f(x, t) - exp(-2.0*t**2)*cos(1.0*t)}, {'dir': 0, 'face': 'n', 'expr': -4.0*t*exp(-2.0*t**2)*cos(1.0*t) - 1.0*exp(-2.0*t**2)*sin(1.0*t) + Derivative(f(x, t), x)}, {'dir': 1, 'face': 'n', 'expr': f(x, t) - exp(-2.0*x**2)*cos(1.0*x)}, {'dir': 1, 'face': 'n', 'expr': -4.0*x*exp(-2.0*x**2)*cos(1.0*x) - 1.0*exp(-2.0*x**2)*sin(1.0*x) + Derivative(f(x, t), t)}]\n",
      "bc_inds:\n",
      "[[[0, 1]], [[2, 3]]]\n",
      "bctoic_map:\n",
      "[{'v_ind': 0, 'dir': 0, 'd_ord': 0}, {'v_ind': 0, 'dir': 0, 'd_ord': 1}, {'v_ind': 0, 'dir': 1, 'd_ord': 0}, {'v_ind': 0, 'dir': 1, 'd_ord': 1}]\n",
      "rows_oor[0]: []\n",
      "cells_oor[0]: []\n",
      "cols_oor[0]: []\n",
      "cells_oor[0]: []\n",
      "n_total: 6000\n",
      "rows_unset[0]: []\n",
      "cells_unset[0]: []\n",
      "cols_unset[0]: []\n",
      "cells_unset[0]: []\n",
      "rows_zero[0]: []\n",
      "cells_zero[0]: []\n",
      "coeff_sym: exp(-2.0*t**2)*cos(1.0*t)\n",
      "coeff_sym: 4.0*t*exp(-2.0*t**2)*cos(1.0*t) + 1.0*exp(-2.0*t**2)*sin(1.0*t)\n",
      "coeff_sym: exp(-2.0*x**2)*cos(1.0*x)\n",
      "coeff_sym: 4.0*x*exp(-2.0*x**2)*cos(1.0*x) + 1.0*exp(-2.0*x**2)*sin(1.0*x)\n",
      "min:  0.5     max:  45000.0\n",
      "data_rhs [ 1.000+0.j  0.000+0.j -0.004+0.j ...,  0.000+0.j  0.000+0.j  0.000+0.j]\n",
      "solving matrix..\n",
      "[  1.00000000e+00+0.j   0.00000000e+00+0.j  -4.00000000e-03+0.j ...,\n",
      "  -4.03143361e-13+0.j   8.20455577e-13+0.j   1.91115861e-13+0.j]\n",
      "x_vec:\n",
      "min:\n",
      "0.0\n",
      "max:\n",
      "1.0\n",
      "self.N_indexed_acc: [0, 100]\n",
      "n_pind_v_acc: [0, 60]\n"
     ]
    }
   ],
   "source": [
    "from sympy import symbols, Function, Derivative, latex, sin, cos, exp, lambdify\n",
    "from IPython.display import display, Math, Latex\n",
    "\n",
    "c_ph = 1.0\n",
    "f_ex = None\n",
    "\n",
    "if n_dim==2:\n",
    "    t, x, y, z = symbols('t, x, y, z')\n",
    "    f = Function('f')(x,t)\n",
    "\n",
    "    c = c_ph\n",
    "    eq_0 = Derivative(f, x, 2) - 1/c**2*Derivative(f, t, 2)\n",
    "    \n",
    "    print('differential equation:')\n",
    "    display(Math(latex(eq_0)))\n",
    "\n",
    "    #rg.AttachDiffEquations(eqs_list=[eq_0, eq_1], vars_list=[f, g], pars_list=[gamma], indepVars_list=[x, y])\n",
    "    rg.AttachDiffEquations(eqs_list=[eq_0], vars_list=[f], pars_list=[], indepVars_list=[x, t])\n",
    "\n",
    "    eq_parts = rg.DisintegrateEquations()\n",
    "    print(eq_parts)\n",
    "    \n",
    "    sigma = 2.0\n",
    "    x_mid = 0.0\n",
    "    \n",
    "    ##-- boundary coditions\n",
    "    f_ex = exp(-sigma*((t-x)/c)**2)*cos((t-x)/c)\n",
    "    f_t0 = f_ex.subs(t, 0)\n",
    "    dfdt_t0 = Derivative(f_ex, t).doit().subs(t, 0)\n",
    "    f_x0 = f_ex.subs(x,0)\n",
    "    dfdx_x0 = Derivative(f_ex, x).doit().subs(x, 0)\n",
    "    f_x1 = f_ex.subs(x, x1[0])\n",
    "    f_t1 = f_ex.subs(t, x1[1])\n",
    "    \n",
    "    rg.ResetBoundaryConditions()\n",
    "    if BC == 'BC':\n",
    "        rg.AddBoundaryCondition({'expr':f-f_x0, 'dir':0, 'face':'n'})\n",
    "        rg.AddBoundaryCondition({'expr':f-f_x1, 'dir':0, 'face':'p'})\n",
    "        rg.AddBoundaryCondition({'expr':f-f_t0, 'dir':1, 'face':'n'})\n",
    "        rg.AddBoundaryCondition({'expr':Derivative(f,t,1)-dfdt_t0, 'dir':1, 'face':'n'})\n",
    "        #rg.AddBoundaryCondition({'expr':f-f_t1, 'dir':1, 'face':'n'})\n",
    "    elif BC=='IC':\n",
    "        rg.AddBoundaryCondition({'expr':f-f_x0, 'dir':0, 'face':'n'})\n",
    "        rg.AddBoundaryCondition({'expr':Derivative(f,x,1)-dfdx_x0, 'dir':0, 'face':'n'})\n",
    "        rg.AddBoundaryCondition({'expr':f-f_t0, 'dir':1, 'face':'n'})\n",
    "        rg.AddBoundaryCondition({'expr':Derivative(f,t,1)-dfdt_t0, 'dir':1, 'face':'n'})\n",
    "    else:\n",
    "        raise NotImplementedError()\n",
    "        \n",
    "\n",
    "    f_cc = []\n",
    "    f_cc.append({'der':0, 'dir':0, 'face':'n'})\n",
    "    f_cc.append({'der':0, 'dir':1, 'face':'n'})\n",
    "    f_cc.append({'der':1, 'dir':0, 'face':'n'})\n",
    "    f_cc.append({'der':1, 'dir':1, 'face':'n'})\n",
    "    rg.DefineContinuityCondsAcrossCellBorders({f:f_cc})\n",
    "\n",
    "\n",
    "    poly_order = [[9, 9]]\n",
    "    poly_order_max = [[7, 7]]\n",
    "    der_order_max = [[2, 2]]\n",
    "elif n_dim==3:\n",
    "    t, x, y, z = symbols('t, x, y, z')\n",
    "    f = Function('f')(x,y,t)\n",
    "\n",
    "    eq_0 = Derivative(f, x, 2) + Derivative(f, y, 2) - Derivative(f, t, 2)\n",
    "    print('differential equation:')\n",
    "    display(Math(latex(eq_0)))\n",
    "\n",
    "    #rg.AttachDiffEquations(eqs_list=[eq_0, eq_1], vars_list=[f, g], pars_list=[gamma], indepVars_list=[x, y])\n",
    "    rg.AttachDiffEquations(eqs_list=[eq_0], vars_list=[f], pars_list=[], indepVars_list=[x, y, t])\n",
    "\n",
    "    eq_parts = rg.DisintegrateEquations()\n",
    "    print(eq_parts)\n",
    "\n",
    "    ##-- boundary coditions\n",
    "    rg.ResetBoundaryConditions()\n",
    "    if BC == 'BC':\n",
    "        rg.AddBoundaryCondition({'expr':f, 'dir':0, 'face':'n'})\n",
    "        rg.AddBoundaryCondition({'expr':f, 'dir':0, 'face':'p'})\n",
    "        rg.AddBoundaryCondition({'expr':f, 'dir':1, 'face':'n'})\n",
    "        rg.AddBoundaryCondition({'expr':f, 'dir':1, 'face':'p'})\n",
    "        rg.AddBoundaryCondition({'expr':f-f_0t, 'dir':2, 'face':'n'})\n",
    "        rg.AddBoundaryCondition({'expr':Derivative(f,t,1)-df_0t, 'dir':2, 'face':'p'})\n",
    "    elif BC=='IC':\n",
    "        rg.AddBoundaryCondition({'expr':f, 'dir':0, 'face':'n'})\n",
    "        rg.AddBoundaryCondition({'expr':Derivative(f,x,1), 'dir':0, 'face':'n'})\n",
    "        rg.AddBoundaryCondition({'expr':f, 'dir':1, 'face':'n'})\n",
    "        rg.AddBoundaryCondition({'expr':Derivative(f,y,1), 'dir':1, 'face':'n'})\n",
    "        rg.AddBoundaryCondition({'expr':f-f_0t, 'dir':2, 'face':'n'})\n",
    "        rg.AddBoundaryCondition({'expr':Derivative(f,t,1)-df_0t, 'dir':2, 'face':'p'})\n",
    "    else:\n",
    "        raise NotImplementedError()\n",
    "        \n",
    "\n",
    "    f_cc = []\n",
    "    f_cc.append({'der':0, 'dir':0, 'face':'n'})\n",
    "    f_cc.append({'der':0, 'dir':1, 'face':'n'})\n",
    "    f_cc.append({'der':0, 'dir':2, 'face':'n'})\n",
    "    f_cc.append({'der':1, 'dir':0, 'face':'n'})\n",
    "    f_cc.append({'der':1, 'dir':1, 'face':'n'})\n",
    "    f_cc.append({'der':1, 'dir':2, 'face':'n'})\n",
    "    rg.DefineContinuityCondsAcrossCellBorders({f:f_cc})\n",
    "\n",
    "\n",
    "    poly_order = [[7, 7, 7]]\n",
    "    poly_order_max = [[5, 5, 5]]\n",
    "    der_order_max = [[2, 2, 2]]\n",
    "\n",
    "rg.SetPolynomialBasisFuncs(poly_order)\n",
    "rg.SetMaxPolyOrderToKeepForEachEq(poly_order_max)\n",
    "rg.SetMaxDerivativeOrderForEachVar(der_order_max)\n",
    "\n",
    "x_vec = rg.SetupMatrixEQs()\n",
    "print(x_vec)\n",
    "print('x_vec:', 'min:', np.min(np.abs(x_vec)), 'max:', np.max(np.abs(x_vec)), sep='\\n')\n",
    "\n",
    "rg.SetPolyBasisCoeffs(x_vec)\n"
   ]
  },
  {
   "cell_type": "code",
   "execution_count": 168,
   "metadata": {
    "collapsed": false
   },
   "outputs": [
    {
     "name": "stderr",
     "output_type": "stream",
     "text": [
      "/home/nima/ipython workspace/Electromagnetics/RecGridND.py:4150: ComplexWarning: Casting complex values to real discards the imaginary part\n",
      "  var_vals[i] = self.GetVariableValueAtPointsInsideCell(var_ind, lev, c_ind, [pt_i], printit=printit)[0]\n"
     ]
    }
   ],
   "source": [
    "n_pts_dim = [50]*n_dim\n",
    "gslice=None\n",
    "if n_dim==3:\n",
    "    gslice = [{'dir':0, 'val':0.5}]\n",
    "mesh, var_vals = rg.GetVarValuesOnMesh(0, n_pts_dim, gslice)\n"
   ]
  },
  {
   "cell_type": "code",
   "execution_count": 169,
   "metadata": {
    "collapsed": false
   },
   "outputs": [
    {
     "name": "stdout",
     "output_type": "stream",
     "text": [
      "Populating the interactive namespace from numpy and matplotlib\n",
      "max: 1.0000051956 min: 0.000787920320589\n"
     ]
    },
    {
     "name": "stderr",
     "output_type": "stream",
     "text": [
      "WARNING: pylab import has clobbered these variables: ['sin', 'exp', 'cos', 'f']\n",
      "`%matplotlib` prevents importing * from pylab and numpy\n"
     ]
    },
    {
     "data": {
      "image/png": "[encoded data removed]",
      "text/plain": [
       "<matplotlib.figure.Figure at 0x7f260ff10470>"
      ]
     },
     "metadata": {},
     "output_type": "display_data"
    },
    {
     "data": {
      "image/png": "[encoded data removed]",
      "text/plain": [
       "<matplotlib.figure.Figure at 0x7f260f5a3c88>"
      ]
     },
     "metadata": {},
     "output_type": "display_data"
    }
   ],
   "source": [
    "%pylab inline\n",
    "\n",
    "figsize(10,8)\n",
    "if n_dim==1:\n",
    "    X, Y = mesh[0], var_vals\n",
    "    print(X.shape, Y.shape)\n",
    "    plot(X, Y)\n",
    "    \n",
    "    Y_0 = np.cos(4.0*X) \n",
    "    if has_rhs:\n",
    "        Y_0 = np.cos(4.0*X) + X\n",
    "    plot(X, Y_0, 'r')\n",
    "    show()\n",
    "        \n",
    "elif n_dim==2:\n",
    "    X, Y = mesh[0], mesh[1]\n",
    "    Z = var_vals\n",
    "    print('max:', np.max(np.abs(Z)), 'min:', np.min(np.abs(Z)))\n",
    "    #im = imshow(Z, interpolation='bilinear', cmap=cm.rainbow)#, origin='lower', extent=[-3,3,-3,3], vmax=abs(Z).max(), vmin=-abs(Z).max())\n",
    "    im = pcolor(X, Y, Z)\n",
    "    CBI = plt.colorbar(im, orientation='vertical', shrink=1.0)\n",
    "    show()\n",
    "    \n",
    "    Z_anal = lambdify((t,x), f_ex, 'numpy')(Y, X)\n",
    "    Z_err = np.abs(Z-Z_anal)\n",
    "    #im = imshow(Z_err, interpolation='bilinear', cmap=cm.rainbow)\n",
    "    im = pcolor(X, Y, Z_err)\n",
    "    CBI = plt.colorbar(im, orientation='vertical', shrink=1.0)\n",
    "    show()\n",
    "elif n_dim==3:\n",
    "    Z = var_vals\n",
    "    print('max:', np.max(np.abs(Z)), 'min:', np.min(np.abs(Z)))\n",
    "    im = imshow(Z, interpolation='bilinear', cmap=cm.rainbow)#, origin='lower', extent=[-3,3,-3,3], vmax=abs(Z).max(), vmin=-abs(Z).max())\n",
    "    CBI = plt.colorbar(im, orientation='vertical', shrink=1.0)\n",
    "    show()\n",
    "    \n",
    "    X, Y = mesh[0], mesh[1]\n",
    "    Z_anal = np.cos(X)*np.cos(Y)*cos(0.5)\n",
    "    Z_err = np.abs(Z-Z_anal)\n",
    "    im = imshow(Z_err, interpolation='bilinear', cmap=cm.rainbow)\n",
    "    CBI = plt.colorbar(im, orientation='vertical', shrink=1.0)\n",
    "    show()\n",
    "    "
   ]
  },
  {
   "cell_type": "code",
   "execution_count": null,
   "metadata": {
    "collapsed": true
   },
   "outputs": [],
   "source": [
    " "
   ]
  }
 ],
 "metadata": {
  "kernelspec": {
   "display_name": "Python 3",
   "language": "python",
   "name": "python3"
  },
  "language_info": {
   "codemirror_mode": {
    "name": "ipython",
    "version": 3
   },
   "file_extension": ".py",
   "mimetype": "text/x-python",
   "name": "python",
   "nbconvert_exporter": "python",
   "pygments_lexer": "ipython3",
   "version": "3.4.3"
  }
 },
 "nbformat": 4,
 "nbformat_minor": 0
}
