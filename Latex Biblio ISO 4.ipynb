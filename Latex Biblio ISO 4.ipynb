{
 "cells": [
  {
   "cell_type": "code",
   "execution_count": 1,
   "metadata": {},
   "outputs": [
    {
     "name": "stdout",
     "output_type": "stream",
     "text": [
      "trans.\n"
     ]
    }
   ],
   "source": [
    "\n",
    "import pandas as pd\n",
    "import os\n",
    "\n",
    "cwd = os.getcwd()\n",
    "ltwa_path = os.path.join(cwd, 'latex', 'LTWA.txt')\n",
    "\n",
    "df = pd.read_csv(ltwa_path, sep='\\t')\n",
    "df = df[df['ABBREVIATIONS']!='n.a.']\n",
    "#print(df.head(20))\n",
    "\n",
    "words = df['WORD'].values\n",
    "abbrs = df['ABBREVIATIONS'].values\n",
    "langs = df['LANGUAGE CODES'].values\n",
    "\n",
    "N = len(words)\n",
    "assert(len(abbrs)==N and len(langs)==N)\n",
    "\n",
    "words_eng, abbrs_eng, langs_eng = [], [], []\n",
    "\n",
    "for i in range(N):\n",
    "    if str(langs[i]).find('eng')>=0 or str(langs[i]).find('mul')>=0:\n",
    "        words_eng.append(words[i])\n",
    "        abbrs_eng.append(abbrs[i])\n",
    "        langs_eng.append(langs[i])\n",
    "        \n",
    "eng_abbr_dic = dict(zip(words_eng, abbrs_eng))\n",
    "print(eng_abbr_dic['transact-'])\n",
    "\n",
    "new_abbs = {'photonic':'photon.', 'technique':'tech.', 'express':'expr.'}\n",
    "\n",
    "for w_new in new_abbs:\n",
    "    if w_new not in eng_abbr_dic:\n",
    "        eng_abbr_dic[w_new] = new_abbs[w_new]\n"
   ]
  },
  {
   "cell_type": "code",
   "execution_count": 4,
   "metadata": {},
   "outputs": [
    {
     "name": "stdout",
     "output_type": "stream",
     "text": [
      "IEEE Transactions on Antennas and Propagation\n",
      "IEEE Trans. Antennas Propag. \n",
      "\n",
      "Advanced Electromagnetic Materials in Microwaves and Optics (METAMATERIALS), 2016 10th International Congress on\n",
      "Adv. Electromagn. Mater. Microw. Opt. (METAMATERIALS), 2016 10th Int. Congr. \n",
      "\n",
      "Advanced Electromagnetic Materials in Microwaves and Optics (METAMATERIALS), 2016 10th International Congress on\n",
      "Adv. Electromagn. Mater. Microw. Opt. (METAMATERIALS), 2016 10th Int. Congr. \n",
      "\n"
     ]
    }
   ],
   "source": [
    "\n",
    "ref_file = ltwa_path = os.path.join(cwd, 'latex', 'ReferenceList2.bib')\n",
    "ref_file_new = ltwa_path = os.path.join(cwd, 'latex', 'ReferenceList2_abbr.bib')\n",
    "\n",
    "f = open(ref_file, 'r')\n",
    "f_new = open(ref_file_new, 'w')\n",
    "\n",
    "words_remove = ['in', 'on', 'and', 'of', 'the']\n",
    "\n",
    "while True:\n",
    "    f_line = f.readline()\n",
    "    f_line_new = f_line\n",
    "\n",
    "    if f_line=='':\n",
    "        break\n",
    "    if f_line.lower().strip().startswith('journal') or f_line.lower().strip().startswith('booktitle'):\n",
    "        brack_open = f_line.find(r'{')\n",
    "        brack_close = f_line.find(r'}', brack_open)\n",
    "        if brack_open>=0 and brack_close>=0:\n",
    "            journal = f_line[brack_open+1:brack_close].strip()\n",
    "            fj_words = journal.split()\n",
    "            \n",
    "            inds_rem = []\n",
    "            for i in range(len(fj_words)):\n",
    "                w = fj_words[i].lower().strip()\n",
    "                if w in words_remove:\n",
    "                    inds_rem.append(i)\n",
    "                else:\n",
    "                    for j in range(len(w), 1, -1):\n",
    "                        #print(w[:j]+'-')\n",
    "                        if w[:j] in eng_abbr_dic:\n",
    "                            fj_words[i] = eng_abbr_dic[w[:j]]\n",
    "                            fj_words[i] = fj_words[i][0].upper() + fj_words[i][1:]\n",
    "                            break\n",
    "                        elif w[:j]+'-' in eng_abbr_dic:\n",
    "                            fj_words[i] = eng_abbr_dic[w[:j]+'-']\n",
    "                            fj_words[i] = fj_words[i][0].upper() + fj_words[i][1:]\n",
    "                            break\n",
    "            for i in reversed(inds_rem):\n",
    "                del fj_words[i]\n",
    "            journal_abbr = ' '.join(fj_words)\n",
    "            \n",
    "            print(journal)\n",
    "            print(journal_abbr, '\\n')\n",
    "            \n",
    "            f_line_new = f_line[:brack_open+1] + journal_abbr + f_line[brack_close:]\n",
    "    f_new.write(f_line_new)\n",
    "\n",
    "f.close()\n",
    "f_new.close()"
   ]
  },
  {
   "cell_type": "code",
   "execution_count": null,
   "metadata": {
    "collapsed": true
   },
   "outputs": [],
   "source": []
  }
 ],
 "metadata": {
  "kernelspec": {
   "display_name": "Python 3",
   "language": "python",
   "name": "python3"
  },
  "language_info": {
   "codemirror_mode": {
    "name": "ipython",
    "version": 3
   },
   "file_extension": ".py",
   "mimetype": "text/x-python",
   "name": "python",
   "nbconvert_exporter": "python",
   "pygments_lexer": "ipython3",
   "version": "3.6.6"
  }
 },
 "nbformat": 4,
 "nbformat_minor": 1
}
