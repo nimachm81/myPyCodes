{
 "cells": [
  {
   "cell_type": "code",
   "execution_count": null,
   "metadata": {
    "collapsed": false
   },
   "outputs": [],
   "source": [
    "%reload_ext autoreload\n",
    "%autoreload\n",
    "\n",
    "from WebTools.emailcli import *\n",
    "from getpass import getpass\n",
    "from simplecrypt import encrypt, decrypt\n",
    "\n",
    "server = 'imap.gmail.com'\n",
    "user = input('User:')\n",
    "password = getpass('Pass:')\n",
    "\n",
    "mail = ImapClient(15)\n",
    "mail.SetDebug(True)\n",
    "\n",
    "mail.setmailserver(server)\n",
    "mail.setUserPass(user, password)\n",
    "mail.login()\n",
    "\n",
    "mail.getMailBoxes()\n",
    "print('-'*60)\n",
    "\n",
    "\n"
   ]
  },
  {
   "cell_type": "code",
   "execution_count": null,
   "metadata": {
    "collapsed": false
   },
   "outputs": [],
   "source": [
    "mail.SetDebug(False)"
   ]
  },
  {
   "cell_type": "code",
   "execution_count": null,
   "metadata": {
    "collapsed": false
   },
   "outputs": [],
   "source": [
    "#mailbox = '\"[Gmail]/Sent Mail\"'\n",
    "mailbox = 'INBOX'\n",
    "print(mail.getMailBoxStatus(mailbox))\n",
    "\n",
    "mail.selectMailbox(mailbox)\n",
    "msg_unseen = mail.getSelectedMailBoxUnseens_UID()\n",
    "print('UnSeen :', msg_unseen)\n",
    "\n",
    "msg_deleted = mail.getSelectedMailBoxDeleted_UID()\n",
    "print('Marked Deleted', msg_deleted)\n"
   ]
  },
  {
   "cell_type": "code",
   "execution_count": null,
   "metadata": {
    "collapsed": false
   },
   "outputs": [],
   "source": [
    "\n",
    "print('Unseen:')\n",
    "mail.PeekMailbox_Unseen(showFullHeader=False, peekbody=False)\n",
    "\n",
    "print('All messages:')\n",
    "print('#'*90)\n",
    "mail.PeekMailbox_All(showFullHeader=False)\n"
   ]
  },
  {
   "cell_type": "code",
   "execution_count": null,
   "metadata": {
    "collapsed": false
   },
   "outputs": [],
   "source": [
    "\n",
    "ids = mail.SearchMail(All='APS URSI 2016')\n",
    "print('number of emails found: %s\\n'%(len(ids)))\n",
    "print(ids)"
   ]
  },
  {
   "cell_type": "markdown",
   "metadata": {},
   "source": [
    "### Read emails"
   ]
  },
  {
   "cell_type": "code",
   "execution_count": null,
   "metadata": {
    "collapsed": false,
    "scrolled": false
   },
   "outputs": [],
   "source": [
    "msg_id = b'17733'\n",
    "\n",
    "flags = mail.readMailFlags(msg_id)\n",
    "print('FLAGS: ', flags)\n",
    "envelope = mail.readMailEnvelope(msg_id)\n",
    "print('ENVELOPE: ', envelope)\n",
    "\n",
    "header = mail.readMailHeader(msg_id)\n",
    "#print(type(header))\n",
    "print('HEADER: ', header)\n",
    "\n",
    "text_list, html_list = mail.readMailBody(msg_id)\n",
    "\n",
    "from IPython.core.display import display, DisplayObject, HTML\n",
    "\n",
    "html_text = None\n",
    "\n",
    "print('='*30, 'HTML', '='*30)\n",
    "for html_part in html_list:\n",
    "    #display(html_part)     ## displays html text\n",
    "    display(HTML(html_part))\n",
    "    print('-'*60)\n",
    "\n",
    "print('='*30, 'TEXT', '='*30)\n",
    "for text_part in text_list:\n",
    "    print(text_part)\n",
    "    print('-'*60)\n"
   ]
  },
  {
   "cell_type": "code",
   "execution_count": null,
   "metadata": {
    "collapsed": false
   },
   "outputs": [],
   "source": [
    "#mail.MarkAsUnread(b'3309')\n",
    "\n",
    "#mail.MarkAsRead(b'3309')\n",
    "\n",
    "#mail.DeleteMessage(b'3309')\n",
    "#mail.ExpungeDeletedMessages()"
   ]
  },
  {
   "cell_type": "code",
   "execution_count": null,
   "metadata": {
    "collapsed": false
   },
   "outputs": [],
   "source": [
    "mail.IssueUIDCommand('fetch', b'3304', '(FLAGS ENVELOPE)')"
   ]
  },
  {
   "cell_type": "markdown",
   "metadata": {},
   "source": [
    "### send emails"
   ]
  },
  {
   "cell_type": "code",
   "execution_count": null,
   "metadata": {
    "collapsed": false
   },
   "outputs": [],
   "source": [
    "## send email (SMTP)\n",
    "\n",
    "from WebTools.emailcli import SMTPEmailer\n",
    "\n",
    "smtphost = 'smtp.gmail.com'\n",
    "smtpport = 587\n",
    "From = input(\"User:\")\n",
    "\n",
    "To = ['nima.chamanara@polymtl.ca']\n",
    "In_reply_To = None\n",
    "\n",
    "Subject = 'Test'\n",
    "Body = \"Test\\\n",
    "\\n\\\n",
    "Nima\"\n",
    "\n",
    "print('Message: \\n', Body)\n",
    "\n",
    "\n",
    "import os\n",
    "cwd = os.getcwd()\n",
    "Attachments = [os.path.join(cwd, 'attachments', 'test.txt')]\n",
    "\n",
    "emailsender = SMTPEmailer(smtphost, smtpport, From=From, To=To, Subject=Subject, Body=Body, \n",
    "                          In_reply_To=In_reply_To, Attachments=Attachments)\n",
    "emailsender.SetDebug(2)\n",
    "\n",
    "res = emailsender.sendEMail(user, password)\n",
    "\n",
    "if res:\n",
    "    print('Email sent')\n",
    "else:\n",
    "    print('Problem sending email.')"
   ]
  },
  {
   "cell_type": "markdown",
   "metadata": {},
   "source": [
    "### Raw data"
   ]
  },
  {
   "cell_type": "code",
   "execution_count": null,
   "metadata": {
    "collapsed": false
   },
   "outputs": [],
   "source": [
    "raw_mail = mail.getRawMail(b'17733')"
   ]
  },
  {
   "cell_type": "code",
   "execution_count": null,
   "metadata": {
    "collapsed": false,
    "scrolled": true
   },
   "outputs": [],
   "source": [
    "for i in range(len(raw_mail)):\n",
    "    for j in range(len(raw_mail[i])):\n",
    "        print('[%s][%s]'%(i, j))\n",
    "        if type(raw_mail[i][j]) is not int:\n",
    "            print(raw_mail[i][j].decode('latin-1'))\n",
    "        else:\n",
    "            print(raw_mail[i][j])\n",
    "        print('-'*60)\n",
    "    "
   ]
  },
  {
   "cell_type": "code",
   "execution_count": null,
   "metadata": {
    "collapsed": false
   },
   "outputs": [],
   "source": [
    "text = 'Voici les r=E9sum=E9s des pr=E9sentations qui auront lieu cet = apr=E8s-midi dans le cadre du cours ele6904. Bienvenu =E0 tous.'\n",
    "\n",
    "import quopri\n",
    "text_de = quopri.decodestring(text)\n",
    "\n",
    "text_de.decode('iso-8859-1')"
   ]
  },
  {
   "cell_type": "code",
   "execution_count": null,
   "metadata": {
    "collapsed": false
   },
   "outputs": [],
   "source": [
    "import poplib\n",
    "from email import parser\n",
    "\n",
    "pop_conn = poplib.POP3_SSL('pop.gmail.com')\n",
    "pop_conn.user(input(\"User:\"))\n",
    "pop_conn.pass_(getpass(\"Pass:\"))\n",
    "#Get messages from server:\n",
    "#messages = [pop_conn.retr(i) for i in range(1, len(pop_conn.list()[1]) + 1)]\n",
    "messages = [pop_conn.retr(i) for i in range(1, 10)]\n",
    "# Concat message pieces:\n",
    "messages = [\"\\n\".join(mssg[1]) for mssg in messages]\n",
    "#Parse message intom an email object:\n",
    "messages = [parser.Parser().parsestr(mssg) for mssg in messages]\n",
    "for message in messages:\n",
    "    print(message['subject'])\n",
    "pop_conn.quit()"
   ]
  },
  {
   "cell_type": "code",
   "execution_count": null,
   "metadata": {
    "collapsed": false
   },
   "outputs": [],
   "source": [
    "sys.stdout.encoding\n"
   ]
  },
  {
   "cell_type": "code",
   "execution_count": null,
   "metadata": {
    "collapsed": false
   },
   "outputs": [],
   "source": []
  }
 ],
 "metadata": {
  "kernelspec": {
   "display_name": "Python 3",
   "language": "python",
   "name": "python3"
  },
  "language_info": {
   "codemirror_mode": {
    "name": "ipython",
    "version": 3
   },
   "file_extension": ".py",
   "mimetype": "text/x-python",
   "name": "python",
   "nbconvert_exporter": "python",
   "pygments_lexer": "ipython3",
   "version": "3.5.2"
  }
 },
 "nbformat": 4,
 "nbformat_minor": 0
}
