{
 "cells": [
  {
   "cell_type": "markdown",
   "metadata": {},
   "source": [
    "## Lorentz transformations"
   ]
  },
  {
   "cell_type": "code",
   "execution_count": 3,
   "metadata": {
    "collapsed": false
   },
   "outputs": [
    {
     "data": {
      "text/latex": [
       "$$\\gamma = \\frac{1}{\\sqrt{- \\beta^{2} + 1}}$$"
      ],
      "text/plain": [
       "<IPython.core.display.Math at 0x7fd1b53e6f60>"
      ]
     },
     "metadata": {},
     "output_type": "display_data"
    },
    {
     "data": {
      "text/latex": [
       "$$\\beta_{x} = \\frac{v_{x}}{c}$$"
      ],
      "text/plain": [
       "<IPython.core.display.Math at 0x7fd1bc1f8fd0>"
      ]
     },
     "metadata": {},
     "output_type": "display_data"
    },
    {
     "name": "stdout",
     "output_type": "stream",
     "text": [
      "Boost x:\n"
     ]
    },
    {
     "data": {
      "text/latex": [
       "$$\\Lambda = \\left[\\begin{matrix}\\gamma & - \\beta_{x} \\gamma & 0 & 0\\\\- \\beta_{x} \\gamma & \\gamma & 0 & 0\\\\0 & 0 & 1 & 0\\\\0 & 0 & 0 & 1\\end{matrix}\\right]$$"
      ],
      "text/plain": [
       "<IPython.core.display.Math at 0x7fd1b55b0470>"
      ]
     },
     "metadata": {},
     "output_type": "display_data"
    },
    {
     "name": "stdout",
     "output_type": "stream",
     "text": [
      "Boost y:\n"
     ]
    },
    {
     "data": {
      "text/latex": [
       "$$\\Lambda = \\left[\\begin{matrix}\\gamma & 0 & - \\beta_{y} \\gamma & 0\\\\0 & 1 & 0 & 0\\\\- \\beta_{y} \\gamma & 0 & \\gamma & 0\\\\0 & 0 & 0 & 1\\end{matrix}\\right]$$"
      ],
      "text/plain": [
       "<IPython.core.display.Math at 0x7fd1bc681710>"
      ]
     },
     "metadata": {},
     "output_type": "display_data"
    },
    {
     "name": "stdout",
     "output_type": "stream",
     "text": [
      "Boost z:\n"
     ]
    },
    {
     "data": {
      "text/latex": [
       "$$\\Lambda = \\left[\\begin{matrix}\\gamma & 0 & 0 & - \\beta_{z} \\gamma\\\\0 & 1 & 0 & 0\\\\0 & 0 & 1 & 0\\\\- \\beta_{z} \\gamma & 0 & 0 & \\gamma\\end{matrix}\\right]$$"
      ],
      "text/plain": [
       "<IPython.core.display.Math at 0x7fd1b578c518>"
      ]
     },
     "metadata": {},
     "output_type": "display_data"
    },
    {
     "name": "stdout",
     "output_type": "stream",
     "text": [
      "Boost xyz:\n"
     ]
    },
    {
     "data": {
      "text/latex": [
       "$$\\Lambda = \\left[\\begin{matrix}\\gamma & \\beta_{x} \\gamma & \\beta_{y} \\gamma & \\beta_{z} \\gamma\\\\\\beta_{x} \\gamma & 1 + \\frac{\\beta_{x}^{2}}{\\beta^{2}} \\left(\\gamma - 1\\right) & \\frac{\\beta_{x} \\beta_{y}}{\\beta^{2}} \\left(\\gamma - 1\\right) & \\frac{\\beta_{x} \\beta_{z}}{\\beta^{2}} \\left(\\gamma - 1\\right)\\\\\\beta_{y} \\gamma & \\frac{\\beta_{x} \\beta_{y}}{\\beta^{2}} \\left(\\gamma - 1\\right) & 1 + \\frac{\\beta_{y}^{2}}{\\beta^{2}} \\left(\\gamma - 1\\right) & \\frac{\\beta_{y} \\beta_{z}}{\\beta^{2}} \\left(\\gamma - 1\\right)\\\\\\beta_{z} \\gamma & \\frac{\\beta_{x} \\beta_{z}}{\\beta^{2}} \\left(\\gamma - 1\\right) & \\frac{\\beta_{y} \\beta_{z}}{\\beta^{2}} \\left(\\gamma - 1\\right) & 1 + \\frac{\\beta_{z}^{2}}{\\beta^{2}} \\left(\\gamma - 1\\right)\\end{matrix}\\right]$$"
      ],
      "text/plain": [
       "<IPython.core.display.Math at 0x7fd1bc1f8fd0>"
      ]
     },
     "metadata": {},
     "output_type": "display_data"
    },
    {
     "name": "stdout",
     "output_type": "stream",
     "text": [
      "Lorentz transform x:\n"
     ]
    },
    {
     "data": {
      "text/latex": [
       "$$\\left[\\begin{matrix}c t_{2}\\\\x_{2}\\\\y_{2}\\\\z_{2}\\end{matrix}\\right] = \\left[\\begin{matrix}- \\beta_{x} \\gamma x_{1} + \\gamma c t_{1}\\\\- \\beta_{x} \\gamma c t_{1} + \\gamma x_{1}\\\\y_{1}\\\\z_{1}\\end{matrix}\\right]$$"
      ],
      "text/plain": [
       "<IPython.core.display.Math at 0x7fd1b5e5b128>"
      ]
     },
     "metadata": {},
     "output_type": "display_data"
    },
    {
     "data": {
      "text/latex": [
       "$$\\eta = \\left[\\begin{matrix}-1 & 0 & 0 & 0\\\\0 & 1 & 0 & 0\\\\0 & 0 & 1 & 0\\\\0 & 0 & 0 & 1\\end{matrix}\\right]$$"
      ],
      "text/plain": [
       "<IPython.core.display.Math at 0x7fd1bc203a20>"
      ]
     },
     "metadata": {},
     "output_type": "display_data"
    },
    {
     "name": "stdout",
     "output_type": "stream",
     "text": [
      "testing Boost xyz:\n"
     ]
    },
    {
     "data": {
      "text/latex": [
       "$$\\Lambda^T \\eta \\Lambda = \\left[\\begin{matrix}-1 & 0 & 0 & 0\\\\0 & 1 & 0 & 0\\\\0 & 0 & 1 & 0\\\\0 & 0 & 0 & 1\\end{matrix}\\right]$$"
      ],
      "text/plain": [
       "<IPython.core.display.Math at 0x7fd1b5603860>"
      ]
     },
     "metadata": {},
     "output_type": "display_data"
    },
    {
     "data": {
      "text/latex": [
       "$$\\det(\\Lambda) = 1$$"
      ],
      "text/plain": [
       "<IPython.core.display.Math at 0x7fd1bc1fe160>"
      ]
     },
     "metadata": {},
     "output_type": "display_data"
    }
   ],
   "source": [
    "from sympy import *\n",
    "from IPython.display import display, Math, Latex \n",
    "init_printing()\n",
    "\n",
    "t1, x1, y1, z1 = symbols('t_1 x_1 y_1 z_1')\n",
    "t2, x2, y2, z2 = symbols('t_2 x_2 y_2 z_2')\n",
    "v_x, v_y, v_z, v, c = symbols('v_x, v_y, v_z v c')    ## relative velocity of the frames\n",
    "gamma, beta_x, beta_y, beta_z, beta = symbols('\\\\gamma \\\\beta_x \\\\beta_y \\\\beta_z \\\\beta')\n",
    "\n",
    "beta_x_rep = v_x/c\n",
    "beta_y_rep = v_y/c\n",
    "beta_z_rep = v_z/c\n",
    "beta_rep = v/c\n",
    "gamma_rep = 1/sqrt(1-beta**2)\n",
    "\n",
    "display(Math(latex(gamma) + ' = ' + latex(gamma_rep)))\n",
    "display(Math(latex(beta_x) + ' = ' + latex(beta_x_rep)))\n",
    "\n",
    "LBx = Matrix([[gamma,      -beta_x*gamma, 0, 0],\n",
    "              [-beta_x*gamma, gamma,      0, 0],\n",
    "              [0, 0,                    1, 0],\n",
    "              [0, 0,                    0, 1]])\n",
    "print('Boost x:')\n",
    "display(Math('\\\\Lambda = ' + latex(LBx)))\n",
    "\n",
    "LBy = Matrix([[gamma, 0, -beta_y*gamma,  0],\n",
    "              [0,     1,  0,           0],\n",
    "              [-beta_y*gamma, 0, gamma,  0],\n",
    "              [0, 0, 0,                 1]])\n",
    "print('Boost y:')\n",
    "display(Math('\\\\Lambda = ' + latex(LBy)))\n",
    "\n",
    "LBz = Matrix([[gamma, 0, 0, -beta_z*gamma ],\n",
    "              [0,     1, 0,            0],\n",
    "              [0,     0, 1,            0],\n",
    "              [-beta_z*gamma, 0, 0, gamma]])\n",
    "print('Boost z:')\n",
    "display(Math('\\\\Lambda = ' + latex(LBz)))\n",
    "\n",
    "beta_vec= Matrix([beta_x, beta_y, beta_z])\n",
    "LBxyz = zeros(4)\n",
    "LBxyz[0, 0] = gamma\n",
    "LBxyz[0,1:4] = gamma*beta_vec.T\n",
    "LBxyz[1:4,0] = gamma*beta_vec\n",
    "LBxyz[1:4,1:4] = eye(3) + (gamma-1)*beta_vec*beta_vec.T/beta**2\n",
    "print('Boost xyz:')\n",
    "display(Math('\\\\Lambda = ' + latex(LBxyz)))\n",
    "\n",
    "\n",
    "RF1 = Matrix([c*t1, x1, y1, z1])\n",
    "RF2 = Matrix([c*t2, x2, y2, z2])\n",
    "\n",
    "LBx_RF1 = LBx*RF1\n",
    "print('Lorentz transform x:')\n",
    "display(Math(latex(RF2) + ' = ' + latex(LBx_RF1)))\n",
    "\n",
    "#metric\n",
    "eta = eye(4)\n",
    "eta[0,0] = -1\n",
    "display(Math('\\\\eta = ' + latex(eta)))\n",
    "\n",
    "print('testing Boost xyz:')\n",
    "res=(LBxyz.T*eta*LBxyz).subs([(gamma, gamma_rep)])\n",
    "res = res.subs(beta**2, beta_x**2+beta_y**2+beta_z**2)\n",
    "res = Matrix([[res[i,j].simplify() for i in range(res.rows)] for j in range(res.cols)])\n",
    "display(Math('\\\\Lambda^T \\\\eta \\\\Lambda = ' + latex(res)))\n",
    "\n",
    "LBxyz_det = LBxyz.det().simplify()\n",
    "LBxyz_det = LBxyz_det.subs([(gamma, gamma_rep)])\n",
    "LBxyz_det = LBxyz_det.subs(beta**2, beta_x**2+beta_y**2+beta_z**2).simplify()\n",
    "display(Math('\\\\det(\\\\Lambda) = ' + latex(LBxyz_det)))\n",
    "\n"
   ]
  },
  {
   "cell_type": "markdown",
   "metadata": {},
   "source": [
    "### Proper time"
   ]
  },
  {
   "cell_type": "code",
   "execution_count": 23,
   "metadata": {
    "collapsed": false
   },
   "outputs": [
    {
     "data": {
      "text/latex": [
       "$$-(cd\\tau)^2 = - c^{2} dt^{2} + dx^{2} + dy^{2} + dz^{2}$$"
      ],
      "text/plain": [
       "<IPython.core.display.Math at 0x7f82f03e8588>"
      ]
     },
     "metadata": {},
     "output_type": "display_data"
    },
    {
     "data": {
      "text/latex": [
       "$$d\\tau = \\sqrt{1 - \\frac{dX^{2}}{c^{2} dt^{2}}}$$"
      ],
      "text/plain": [
       "<IPython.core.display.Math at 0x7f82f03e8588>"
      ]
     },
     "metadata": {},
     "output_type": "display_data"
    }
   ],
   "source": [
    "tau = Symbol('tau')\n",
    "t, x, y, z = symbols('t x y z')\n",
    "X = Function('X')\n",
    "dt, dx, dy, dz, dX, dtau = symbols('dt dx dy dz dX d\\\\tau')\n",
    "\n",
    "_c_d_tau_sq = -(c*dt)**2 + dx**2 + dy**2 + dz**2\n",
    "display(Math('-(cd\\\\tau)^2 = ' + latex(_c_d_tau_sq)))\n",
    "\n",
    "\n",
    "#d_tau = sqrt(1-(diff(X(t),t))**2/c**2)\n",
    "d_tau = sqrt(1-(dX/dt)**2/c**2)\n",
    "display(Math('d\\\\tau = ' + latex(d_tau)))\n",
    "\n",
    "\n"
   ]
  },
  {
   "cell_type": "markdown",
   "metadata": {},
   "source": [
    "### dynamics"
   ]
  },
  {
   "cell_type": "code",
   "execution_count": 41,
   "metadata": {
    "collapsed": false
   },
   "outputs": [
    {
     "data": {
      "text/latex": [
       "$$U = \\left[\\begin{matrix}\\frac{c dt}{d\\tau}\\\\\\frac{dx}{d\\tau}\\\\\\frac{dy}{d\\tau}\\\\\\frac{dz}{d\\tau}\\end{matrix}\\right]$$"
      ],
      "text/plain": [
       "<IPython.core.display.Math at 0x7f82e24f62b0>"
      ]
     },
     "metadata": {},
     "output_type": "display_data"
    },
    {
     "data": {
      "text/latex": [
       "$$U^2 = - c^{2}$$"
      ],
      "text/plain": [
       "<IPython.core.display.Math at 0x7f82f03e8828>"
      ]
     },
     "metadata": {},
     "output_type": "display_data"
    },
    {
     "data": {
      "text/latex": [
       "$$P = \\left[\\begin{matrix}\\frac{c dt}{d\\tau} m\\\\\\frac{dx m}{d\\tau}\\\\\\frac{dy m}{d\\tau}\\\\\\frac{dz m}{d\\tau}\\end{matrix}\\right]$$"
      ],
      "text/plain": [
       "<IPython.core.display.Math at 0x7f82f03e8828>"
      ]
     },
     "metadata": {},
     "output_type": "display_data"
    },
    {
     "data": {
      "text/latex": [
       "$$P^2 = \\left[\\begin{matrix}- \\frac{c^{2} dt^{2}}{d\\tau^{2}} m^{2} + \\frac{dx^{2} m^{2}}{d\\tau^{2}} + \\frac{dy^{2} m^{2}}{d\\tau^{2}} + \\frac{dz^{2} m^{2}}{d\\tau^{2}}\\end{matrix}\\right]$$"
      ],
      "text/plain": [
       "<IPython.core.display.Math at 0x7f82e24e31d0>"
      ]
     },
     "metadata": {},
     "output_type": "display_data"
    },
    {
     "data": {
      "text/latex": [
       "$$P^2 = - c^{2} m^{2}$$"
      ],
      "text/plain": [
       "<IPython.core.display.Math at 0x7f82e24e31d0>"
      ]
     },
     "metadata": {},
     "output_type": "display_data"
    },
    {
     "data": {
      "text/latex": [
       "$$P^2 = - c^{2} m^{2} = - \\frac{E^{2}}{c^{2}} + p^{2}$$"
      ],
      "text/plain": [
       "<IPython.core.display.Math at 0x7f82e26f8cf8>"
      ]
     },
     "metadata": {},
     "output_type": "display_data"
    }
   ],
   "source": [
    "m = symbols('m')\n",
    "\n",
    "dX = Matrix([c*dt, dx, dy, dz])\n",
    "dtau_rep = sqrt((c*dt)**2 - dx**2 - dy**2 - dz**2)/c\n",
    "\n",
    "U = dX/dtau\n",
    "display(Math('U = ' + latex(U)))\n",
    "\n",
    "U_sq = U.T*eta*U\n",
    "U_sq = U_sq[0].subs(dtau, dtau_rep).simplify()\n",
    "display(Math('U^2 = ' + latex(U_sq)))\n",
    "\n",
    "P = m*U\n",
    "display(Math('P = ' + latex(P)))\n",
    "\n",
    "P_sq = P.T*eta*P\n",
    "display(Math('P^2 = ' + latex(P_sq)))\n",
    "P_sq = P_sq[0].subs(dtau, dtau_rep).simplify()\n",
    "display(Math('P^2 = ' + latex(P_sq)))\n",
    "\n",
    "p, E = symbols('p E')\n",
    "P_sq_rep = -(E/c)**2 + p**2\n",
    "display(Math('P^2 = ' + latex(P_sq) + ' = ' + latex(P_sq_rep)))\n"
   ]
  },
  {
   "cell_type": "code",
   "execution_count": null,
   "metadata": {
    "collapsed": false
   },
   "outputs": [],
   "source": []
  }
 ],
 "metadata": {
  "kernelspec": {
   "display_name": "Python 3",
   "language": "python",
   "name": "python3"
  },
  "language_info": {
   "codemirror_mode": {
    "name": "ipython",
    "version": 3
   },
   "file_extension": ".py",
   "mimetype": "text/x-python",
   "name": "python",
   "nbconvert_exporter": "python",
   "pygments_lexer": "ipython3",
   "version": "3.4.3"
  }
 },
 "nbformat": 4,
 "nbformat_minor": 0
}
