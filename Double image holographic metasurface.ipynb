{
 "cells": [
  {
   "cell_type": "code",
   "execution_count": 2,
   "metadata": {
    "collapsed": false
   },
   "outputs": [
    {
     "name": "stdout",
     "output_type": "stream",
     "text": [
      "unit k vectors:\n"
     ]
    },
    {
     "data": {
      "text/latex": [
       "$$k_1^+ = \\left[\\begin{matrix}0 & 0 & \\sqrt{\\epsilon_{r1}} k_{0}\\end{matrix}\\right]$$"
      ],
      "text/plain": [
       "<IPython.core.display.Math object>"
      ]
     },
     "metadata": {},
     "output_type": "display_data"
    },
    {
     "data": {
      "text/latex": [
       "$$k_1^- = \\left[\\begin{matrix}0 & 0 & - \\sqrt{\\epsilon_{r1}} k_{0}\\end{matrix}\\right]$$"
      ],
      "text/plain": [
       "<IPython.core.display.Math object>"
      ]
     },
     "metadata": {},
     "output_type": "display_data"
    },
    {
     "data": {
      "text/latex": [
       "$$k_2^+ = \\left[\\begin{matrix}0 & 0 & \\sqrt{\\epsilon_{r2}} k_{0}\\end{matrix}\\right]$$"
      ],
      "text/plain": [
       "<IPython.core.display.Math object>"
      ]
     },
     "metadata": {},
     "output_type": "display_data"
    },
    {
     "data": {
      "text/latex": [
       "$$k_2^- = \\left[\\begin{matrix}0 & 0 & - \\sqrt{\\epsilon_{r2}} k_{0}\\end{matrix}\\right]$$"
      ],
      "text/plain": [
       "<IPython.core.display.Math object>"
      ]
     },
     "metadata": {},
     "output_type": "display_data"
    },
    {
     "name": "stdout",
     "output_type": "stream",
     "text": [
      "Electric field:\n"
     ]
    },
    {
     "data": {
      "text/latex": [
       "$$E_1^+ = \\left[\\begin{matrix}E_{x1}^+ & E_{y1}^+ & 0\\end{matrix}\\right]$$"
      ],
      "text/plain": [
       "<IPython.core.display.Math object>"
      ]
     },
     "metadata": {},
     "output_type": "display_data"
    },
    {
     "data": {
      "text/latex": [
       "$$E_1^- = \\left[\\begin{matrix}E_{x1}^- & E_{y1}^- & 0\\end{matrix}\\right]$$"
      ],
      "text/plain": [
       "<IPython.core.display.Math object>"
      ]
     },
     "metadata": {},
     "output_type": "display_data"
    },
    {
     "data": {
      "text/latex": [
       "$$E_2^+ = \\left[\\begin{matrix}E_{x2}^+ & E_{y2}^+ & 0\\end{matrix}\\right]$$"
      ],
      "text/plain": [
       "<IPython.core.display.Math object>"
      ]
     },
     "metadata": {},
     "output_type": "display_data"
    },
    {
     "data": {
      "text/latex": [
       "$$E_2^- = \\left[\\begin{matrix}E_{x2}^- & E_{y2}^- & 0\\end{matrix}\\right]$$"
      ],
      "text/plain": [
       "<IPython.core.display.Math object>"
      ]
     },
     "metadata": {},
     "output_type": "display_data"
    },
    {
     "name": "stdout",
     "output_type": "stream",
     "text": [
      "Magnetic field:\n"
     ]
    },
    {
     "data": {
      "text/latex": [
       "$$H_1^+ = \\left[\\begin{matrix}- \\frac{E_{y1}^+ \\sqrt{\\epsilon_{r1}} k_{0}}{\\mu_0 \\omega} & \\frac{E_{x1}^+ \\sqrt{\\epsilon_{r1}} k_{0}}{\\mu_0 \\omega} & 0\\end{matrix}\\right]$$"
      ],
      "text/plain": [
       "<IPython.core.display.Math object>"
      ]
     },
     "metadata": {},
     "output_type": "display_data"
    },
    {
     "data": {
      "text/latex": [
       "$$H_1^- = \\left[\\begin{matrix}\\frac{E_{y1}^- \\sqrt{\\epsilon_{r1}} k_{0}}{\\mu_0 \\omega} & - \\frac{E_{x1}^- \\sqrt{\\epsilon_{r1}} k_{0}}{\\mu_0 \\omega} & 0\\end{matrix}\\right]$$"
      ],
      "text/plain": [
       "<IPython.core.display.Math object>"
      ]
     },
     "metadata": {},
     "output_type": "display_data"
    },
    {
     "data": {
      "text/latex": [
       "$$H_2^+ = \\left[\\begin{matrix}- \\frac{E_{y2}^+ \\sqrt{\\epsilon_{r2}} k_{0}}{\\mu_0 \\omega} & \\frac{E_{x2}^+ \\sqrt{\\epsilon_{r2}} k_{0}}{\\mu_0 \\omega} & 0\\end{matrix}\\right]$$"
      ],
      "text/plain": [
       "<IPython.core.display.Math object>"
      ]
     },
     "metadata": {},
     "output_type": "display_data"
    },
    {
     "data": {
      "text/latex": [
       "$$H_2^- = \\left[\\begin{matrix}\\frac{E_{y2}^- \\sqrt{\\epsilon_{r2}} k_{0}}{\\mu_0 \\omega} & - \\frac{E_{x2}^- \\sqrt{\\epsilon_{r2}} k_{0}}{\\mu_0 \\omega} & 0\\end{matrix}\\right]$$"
      ],
      "text/plain": [
       "<IPython.core.display.Math object>"
      ]
     },
     "metadata": {},
     "output_type": "display_data"
    },
    {
     "data": {
      "text/latex": [
       "$$Eq_E1_0 = - E_{y1}^+ - E_{y1}^- + E_{y2}^+ + E_{y2}^-$$"
      ],
      "text/plain": [
       "<IPython.core.display.Math object>"
      ]
     },
     "metadata": {},
     "output_type": "display_data"
    },
    {
     "data": {
      "text/latex": [
       "$$Eq_E1_1 = E_{x1}^+ + E_{x1}^- - E_{x2}^+ - E_{x2}^-$$"
      ],
      "text/plain": [
       "<IPython.core.display.Math object>"
      ]
     },
     "metadata": {},
     "output_type": "display_data"
    },
    {
     "data": {
      "text/latex": [
       "$$Eq_H1_0 = - \\frac{E_{x1}^+ \\sqrt{\\epsilon_{r1}} k_{0}}{\\mu_0 \\omega} + \\frac{E_{x1}^- \\sqrt{\\epsilon_{r1}} k_{0}}{\\mu_0 \\omega} + \\frac{E_{x2}^+ \\sqrt{\\epsilon_{r2}} k_{0}}{\\mu_0 \\omega} - \\frac{E_{x2}^- \\sqrt{\\epsilon_{r2}} k_{0}}{\\mu_0 \\omega}$$"
      ],
      "text/plain": [
       "<IPython.core.display.Math object>"
      ]
     },
     "metadata": {},
     "output_type": "display_data"
    },
    {
     "data": {
      "text/latex": [
       "$$Eq_H1_1 = - \\frac{E_{y1}^+ \\sqrt{\\epsilon_{r1}} k_{0}}{\\mu_0 \\omega} + \\frac{E_{y1}^- \\sqrt{\\epsilon_{r1}} k_{0}}{\\mu_0 \\omega} + \\frac{E_{y2}^+ \\sqrt{\\epsilon_{r2}} k_{0}}{\\mu_0 \\omega} - \\frac{E_{y2}^- \\sqrt{\\epsilon_{r2}} k_{0}}{\\mu_0 \\omega}$$"
      ],
      "text/plain": [
       "<IPython.core.display.Math object>"
      ]
     },
     "metadata": {},
     "output_type": "display_data"
    },
    {
     "data": {
      "text/latex": [
       "$$Eq_E2_0 = - E_{y2}^+ e^{- i \\sqrt{\\epsilon_{r2}} d k_{0}} - E_{y2}^- e^{i \\sqrt{\\epsilon_{r2}} d k_{0}}$$"
      ],
      "text/plain": [
       "<IPython.core.display.Math object>"
      ]
     },
     "metadata": {},
     "output_type": "display_data"
    },
    {
     "data": {
      "text/latex": [
       "$$Eq_E2_1 = E_{x2}^+ e^{- i \\sqrt{\\epsilon_{r2}} d k_{0}} + E_{x2}^- e^{i \\sqrt{\\epsilon_{r2}} d k_{0}}$$"
      ],
      "text/plain": [
       "<IPython.core.display.Math object>"
      ]
     },
     "metadata": {},
     "output_type": "display_data"
    },
    {
     "data": {
      "text/latex": [
       "$$E_xy_pm = \\left \\{ E_{x1}^- : \\frac{E_{x1}^+ \\left(\\epsilon_{r1} e^{4 i \\sqrt{\\epsilon_{r2}} d k_{0}} - 2 \\epsilon_{r1} e^{2 i \\sqrt{\\epsilon_{r2}} d k_{0}} + \\epsilon_{r1} - \\epsilon_{r2} e^{4 i \\sqrt{\\epsilon_{r2}} d k_{0}} - 2 \\epsilon_{r2} e^{2 i \\sqrt{\\epsilon_{r2}} d k_{0}} - \\epsilon_{r2}\\right)}{2 \\sqrt{\\epsilon_{r1}} \\sqrt{\\epsilon_{r2}} e^{4 i \\sqrt{\\epsilon_{r2}} d k_{0}} - 2 \\sqrt{\\epsilon_{r1}} \\sqrt{\\epsilon_{r2}} + \\epsilon_{r1} e^{4 i \\sqrt{\\epsilon_{r2}} d k_{0}} - 2 \\epsilon_{r1} e^{2 i \\sqrt{\\epsilon_{r2}} d k_{0}} + \\epsilon_{r1} + \\epsilon_{r2} e^{4 i \\sqrt{\\epsilon_{r2}} d k_{0}} + 2 \\epsilon_{r2} e^{2 i \\sqrt{\\epsilon_{r2}} d k_{0}} + \\epsilon_{r2}}, \\quad E_{x2}^+ : \\frac{2 E_{x1}^+ \\left(\\sqrt{\\epsilon_{r1}} \\sqrt{\\epsilon_{r2}} e^{2 i \\sqrt{\\epsilon_{r2}} d k_{0}} + \\sqrt{\\epsilon_{r1}} \\sqrt{\\epsilon_{r2}} + \\epsilon_{r1} e^{2 i \\sqrt{\\epsilon_{r2}} d k_{0}} - \\epsilon_{r1}\\right) e^{2 i \\sqrt{\\epsilon_{r2}} d k_{0}}}{2 \\sqrt{\\epsilon_{r1}} \\sqrt{\\epsilon_{r2}} e^{4 i \\sqrt{\\epsilon_{r2}} d k_{0}} - 2 \\sqrt{\\epsilon_{r1}} \\sqrt{\\epsilon_{r2}} + \\epsilon_{r1} e^{4 i \\sqrt{\\epsilon_{r2}} d k_{0}} - 2 \\epsilon_{r1} e^{2 i \\sqrt{\\epsilon_{r2}} d k_{0}} + \\epsilon_{r1} + \\epsilon_{r2} e^{4 i \\sqrt{\\epsilon_{r2}} d k_{0}} + 2 \\epsilon_{r2} e^{2 i \\sqrt{\\epsilon_{r2}} d k_{0}} + \\epsilon_{r2}}, \\quad E_{x2}^- : - \\frac{2 E_{x1}^+ \\left(\\sqrt{\\epsilon_{r1}} \\sqrt{\\epsilon_{r2}} e^{2 i \\sqrt{\\epsilon_{r2}} d k_{0}} + \\sqrt{\\epsilon_{r1}} \\sqrt{\\epsilon_{r2}} + \\epsilon_{r1} e^{2 i \\sqrt{\\epsilon_{r2}} d k_{0}} - \\epsilon_{r1}\\right)}{2 \\sqrt{\\epsilon_{r1}} \\sqrt{\\epsilon_{r2}} e^{4 i \\sqrt{\\epsilon_{r2}} d k_{0}} - 2 \\sqrt{\\epsilon_{r1}} \\sqrt{\\epsilon_{r2}} + \\epsilon_{r1} e^{4 i \\sqrt{\\epsilon_{r2}} d k_{0}} - 2 \\epsilon_{r1} e^{2 i \\sqrt{\\epsilon_{r2}} d k_{0}} + \\epsilon_{r1} + \\epsilon_{r2} e^{4 i \\sqrt{\\epsilon_{r2}} d k_{0}} + 2 \\epsilon_{r2} e^{2 i \\sqrt{\\epsilon_{r2}} d k_{0}} + \\epsilon_{r2}}, \\quad E_{y1}^- : \\frac{E_{y1}^+ \\left(\\epsilon_{r1} e^{4 i \\sqrt{\\epsilon_{r2}} d k_{0}} - 2 \\epsilon_{r1} e^{2 i \\sqrt{\\epsilon_{r2}} d k_{0}} + \\epsilon_{r1} - \\epsilon_{r2} e^{4 i \\sqrt{\\epsilon_{r2}} d k_{0}} - 2 \\epsilon_{r2} e^{2 i \\sqrt{\\epsilon_{r2}} d k_{0}} - \\epsilon_{r2}\\right)}{2 \\sqrt{\\epsilon_{r1}} \\sqrt{\\epsilon_{r2}} e^{4 i \\sqrt{\\epsilon_{r2}} d k_{0}} - 2 \\sqrt{\\epsilon_{r1}} \\sqrt{\\epsilon_{r2}} + \\epsilon_{r1} e^{4 i \\sqrt{\\epsilon_{r2}} d k_{0}} - 2 \\epsilon_{r1} e^{2 i \\sqrt{\\epsilon_{r2}} d k_{0}} + \\epsilon_{r1} + \\epsilon_{r2} e^{4 i \\sqrt{\\epsilon_{r2}} d k_{0}} + 2 \\epsilon_{r2} e^{2 i \\sqrt{\\epsilon_{r2}} d k_{0}} + \\epsilon_{r2}}, \\quad E_{y2}^+ : \\frac{2 E_{y1}^+ \\left(\\sqrt{\\epsilon_{r1}} \\sqrt{\\epsilon_{r2}} e^{2 i \\sqrt{\\epsilon_{r2}} d k_{0}} + \\sqrt{\\epsilon_{r1}} \\sqrt{\\epsilon_{r2}} + \\epsilon_{r1} e^{2 i \\sqrt{\\epsilon_{r2}} d k_{0}} - \\epsilon_{r1}\\right) e^{2 i \\sqrt{\\epsilon_{r2}} d k_{0}}}{2 \\sqrt{\\epsilon_{r1}} \\sqrt{\\epsilon_{r2}} e^{4 i \\sqrt{\\epsilon_{r2}} d k_{0}} - 2 \\sqrt{\\epsilon_{r1}} \\sqrt{\\epsilon_{r2}} + \\epsilon_{r1} e^{4 i \\sqrt{\\epsilon_{r2}} d k_{0}} - 2 \\epsilon_{r1} e^{2 i \\sqrt{\\epsilon_{r2}} d k_{0}} + \\epsilon_{r1} + \\epsilon_{r2} e^{4 i \\sqrt{\\epsilon_{r2}} d k_{0}} + 2 \\epsilon_{r2} e^{2 i \\sqrt{\\epsilon_{r2}} d k_{0}} + \\epsilon_{r2}}, \\quad E_{y2}^- : - \\frac{2 E_{y1}^+ \\left(\\sqrt{\\epsilon_{r1}} \\sqrt{\\epsilon_{r2}} e^{2 i \\sqrt{\\epsilon_{r2}} d k_{0}} + \\sqrt{\\epsilon_{r1}} \\sqrt{\\epsilon_{r2}} + \\epsilon_{r1} e^{2 i \\sqrt{\\epsilon_{r2}} d k_{0}} - \\epsilon_{r1}\\right)}{2 \\sqrt{\\epsilon_{r1}} \\sqrt{\\epsilon_{r2}} e^{4 i \\sqrt{\\epsilon_{r2}} d k_{0}} - 2 \\sqrt{\\epsilon_{r1}} \\sqrt{\\epsilon_{r2}} + \\epsilon_{r1} e^{4 i \\sqrt{\\epsilon_{r2}} d k_{0}} - 2 \\epsilon_{r1} e^{2 i \\sqrt{\\epsilon_{r2}} d k_{0}} + \\epsilon_{r1} + \\epsilon_{r2} e^{4 i \\sqrt{\\epsilon_{r2}} d k_{0}} + 2 \\epsilon_{r2} e^{2 i \\sqrt{\\epsilon_{r2}} d k_{0}} + \\epsilon_{r2}}\\right \\}$$"
      ],
      "text/plain": [
       "<IPython.core.display.Math object>"
      ]
     },
     "metadata": {},
     "output_type": "display_data"
    },
    {
     "data": {
      "text/latex": [
       "$$E_{rx} = \\frac{E_{x1}^+ \\left(\\epsilon_{r1} e^{4 i \\sqrt{\\epsilon_{r2}} d k_{0}} - 2 \\epsilon_{r1} e^{2 i \\sqrt{\\epsilon_{r2}} d k_{0}} + \\epsilon_{r1} - \\epsilon_{r2} e^{4 i \\sqrt{\\epsilon_{r2}} d k_{0}} - 2 \\epsilon_{r2} e^{2 i \\sqrt{\\epsilon_{r2}} d k_{0}} - \\epsilon_{r2}\\right)}{2 \\sqrt{\\epsilon_{r1}} \\sqrt{\\epsilon_{r2}} e^{4 i \\sqrt{\\epsilon_{r2}} d k_{0}} - 2 \\sqrt{\\epsilon_{r1}} \\sqrt{\\epsilon_{r2}} + \\epsilon_{r1} e^{4 i \\sqrt{\\epsilon_{r2}} d k_{0}} - 2 \\epsilon_{r1} e^{2 i \\sqrt{\\epsilon_{r2}} d k_{0}} + \\epsilon_{r1} + \\epsilon_{r2} e^{4 i \\sqrt{\\epsilon_{r2}} d k_{0}} + 2 \\epsilon_{r2} e^{2 i \\sqrt{\\epsilon_{r2}} d k_{0}} + \\epsilon_{r2}}$$"
      ],
      "text/plain": [
       "<IPython.core.display.Math object>"
      ]
     },
     "metadata": {},
     "output_type": "display_data"
    },
    {
     "data": {
      "text/latex": [
       "$$E_{ry} = \\frac{E_{y1}^+ \\left(\\epsilon_{r1} e^{4 i \\sqrt{\\epsilon_{r2}} d k_{0}} - 2 \\epsilon_{r1} e^{2 i \\sqrt{\\epsilon_{r2}} d k_{0}} + \\epsilon_{r1} - \\epsilon_{r2} e^{4 i \\sqrt{\\epsilon_{r2}} d k_{0}} - 2 \\epsilon_{r2} e^{2 i \\sqrt{\\epsilon_{r2}} d k_{0}} - \\epsilon_{r2}\\right)}{2 \\sqrt{\\epsilon_{r1}} \\sqrt{\\epsilon_{r2}} e^{4 i \\sqrt{\\epsilon_{r2}} d k_{0}} - 2 \\sqrt{\\epsilon_{r1}} \\sqrt{\\epsilon_{r2}} + \\epsilon_{r1} e^{4 i \\sqrt{\\epsilon_{r2}} d k_{0}} - 2 \\epsilon_{r1} e^{2 i \\sqrt{\\epsilon_{r2}} d k_{0}} + \\epsilon_{r1} + \\epsilon_{r2} e^{4 i \\sqrt{\\epsilon_{r2}} d k_{0}} + 2 \\epsilon_{r2} e^{2 i \\sqrt{\\epsilon_{r2}} d k_{0}} + \\epsilon_{r2}}$$"
      ],
      "text/plain": [
       "<IPython.core.display.Math object>"
      ]
     },
     "metadata": {},
     "output_type": "display_data"
    }
   ],
   "source": [
    "## oblique incidence TE (E is tangent to the intrface)\n",
    "\n",
    "from sympy import *\n",
    "from IPython.display import display, Math\n",
    "\n",
    "from sympy.utilities.lambdify import lambdastr\n",
    "\n",
    "from Electromagnetics import Misc\n",
    "from Electromagnetics.VectorCalculus import crossproduct\n",
    "\n",
    "E_x1p, E_x2p = symbols('E_{x1}^+ E_{x2}^+')\n",
    "E_y1p, E_y2p = symbols('E_{y1}^+ E_{y2}^+')\n",
    "E_x1m, E_x2m = symbols('E_{x1}^- E_{x2}^-')\n",
    "E_y1m, E_y2m = symbols('E_{y1}^- E_{y2}^-')\n",
    "chi_xx, chi_yy = symbols(r'\\chi_{xx}, \\chi_{yy}')\n",
    "k_0 = symbols('k_0', Real=True, Positive=True)\n",
    "mu_0, eps_0, eta_0 = symbols(r'\\mu_0 \\epsilon_0 \\eta_0', Real=True, Positive=True)\n",
    "eps_r1, eps_r2 = symbols(r'\\epsilon_{r1} \\epsilon_{r2}', Real=True, Positive=True) \n",
    "omega = symbols(r'\\omega')\n",
    "d = symbols('d')\n",
    "\n",
    "n1 = sqrt(eps_r1)\n",
    "n2 = sqrt(eps_r2)\n",
    "\n",
    "k_1 = k_0*n1\n",
    "k_2 = k_0*n2\n",
    "\n",
    "k_1p = Matrix([[0, 0, +1]])*(k_0*n1)\n",
    "k_1m = Matrix([[0, 0, -1]])*(k_0*n1)\n",
    "k_2p = Matrix([[0, 0, +1]])*(k_0*n2)\n",
    "k_2m = Matrix([[0, 0, -1]])*(k_0*n2)\n",
    "\n",
    "print('unit k vectors:')\n",
    "display(Math('k_1^+ = '+latex(k_1p)))\n",
    "display(Math('k_1^- = '+latex(k_1m)))\n",
    "display(Math('k_2^+ = '+latex(k_2p)))\n",
    "display(Math('k_2^- = '+latex(k_2m)))\n",
    "\n",
    "E_1p = Matrix([[E_x1p, E_y1p, 0]])\n",
    "E_1m = Matrix([[E_x1m, E_y1m, 0]])\n",
    "E_2p = Matrix([[E_x2p, E_y2p, 0]])\n",
    "E_2m = Matrix([[E_x2m, E_y2m, 0]])\n",
    "\n",
    "print('Electric field:')\n",
    "display(Math('E_1^+ = '+latex(E_1p)))\n",
    "display(Math('E_1^- = '+latex(E_1m)))\n",
    "display(Math('E_2^+ = '+latex(E_2p)))\n",
    "display(Math('E_2^- = '+latex(E_2m)))\n",
    "\n",
    "H_1p = crossproduct(k_1p, E_1p)/(omega*mu_0)\n",
    "H_1m = crossproduct(k_1m, E_1m)/(omega*mu_0)\n",
    "H_2p = crossproduct(k_2p, E_2p)/(omega*mu_0)\n",
    "H_2m = crossproduct(k_2m, E_2m)/(omega*mu_0)\n",
    "\n",
    "print('Magnetic field:')\n",
    "display(Math('H_1^+ = '+latex(H_1p)))\n",
    "display(Math('H_1^- = '+latex(H_1m)))\n",
    "display(Math('H_2^+ = '+latex(H_2p)))\n",
    "display(Math('H_2^- = '+latex(H_2m)))\n",
    "\n",
    "\n",
    "a_z = Matrix([[0, 0, 1]])\n",
    "\n",
    "eq_E1_0 = crossproduct(a_z, E_1p+E_1m-E_2p-E_2m)[0]\n",
    "eq_E1_1 = crossproduct(a_z, E_1p+E_1m-E_2p-E_2m)[1]\n",
    "eq_H1_0 = crossproduct(a_z, H_1p+H_1m-H_2p-H_2m)[0]\n",
    "eq_H1_1 = crossproduct(a_z, H_1p+H_1m-H_2p-H_2m)[1]\n",
    "eq_E2_0 = crossproduct(a_z, E_2p*exp(-I*k_2*d)+E_2m*exp(+I*k_2*d))[0]\n",
    "eq_E2_1 = crossproduct(a_z, E_2p*exp(-I*k_2*d)+E_2m*exp(+I*k_2*d))[1]\n",
    "\n",
    "display(Math('Eq_E1_0 = '+latex(eq_E1_0)))\n",
    "display(Math('Eq_E1_1 = '+latex(eq_E1_1)))\n",
    "display(Math('Eq_H1_0 = '+latex(eq_H1_0)))\n",
    "display(Math('Eq_H1_1 = '+latex(eq_H1_1)))\n",
    "display(Math('Eq_E2_0 = '+latex(eq_E2_0)))\n",
    "display(Math('Eq_E2_1 = '+latex(eq_E2_1)))\n",
    "\n",
    "\n",
    "E_xy_pm = solve([eq_E1_0, eq_E1_1, eq_H1_0, eq_H1_1, eq_E2_0, eq_E2_1,], \\\n",
    "               [E_x1m, E_y1m, E_x2p, E_y2p, E_x2m, E_y2m])\n",
    "\n",
    "display(Math('E_xy_pm = '+latex(E_xy_pm)))\n",
    "\n",
    "\n",
    "E_x1m_sub = E_xy_pm[E_x1m]\n",
    "E_y1m_sub = E_xy_pm[E_y1m]\n",
    "display(Math(r'E_{rx} = '+latex(E_x1m_sub)))\n",
    "display(Math(r'E_{ry} = '+latex(E_y1m_sub)))\n"
   ]
  },
  {
   "cell_type": "code",
   "execution_count": null,
   "metadata": {
    "collapsed": true
   },
   "outputs": [],
   "source": []
  }
 ],
 "metadata": {
  "kernelspec": {
   "display_name": "Python 3",
   "language": "python",
   "name": "python3"
  },
  "language_info": {
   "codemirror_mode": {
    "name": "ipython",
    "version": 3
   },
   "file_extension": ".py",
   "mimetype": "text/x-python",
   "name": "python",
   "nbconvert_exporter": "python",
   "pygments_lexer": "ipython3",
   "version": "3.5.2"
  }
 },
 "nbformat": 4,
 "nbformat_minor": 1
}
