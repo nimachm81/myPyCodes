{
 "cells": [
  {
   "cell_type": "markdown",
   "metadata": {},
   "source": [
    "### Time varying GSTC - 1D FDTD"
   ]
  },
  {
   "cell_type": "code",
   "execution_count": 33,
   "metadata": {
    "collapsed": false
   },
   "outputs": [
    {
     "name": "stdout",
     "output_type": "stream",
     "text": [
      "simulation time: 0:1\n"
     ]
    }
   ],
   "source": [
    "from Electromagnetics.FDTD import *\n",
    "import numpy as np\n",
    "import time, sys\n",
    "\n",
    "n_dim = 1\n",
    "r0, r1, dr = [None]*3\n",
    "S = 0.95\n",
    "n_t = None\n",
    "save_every = 10\n",
    "omega = 1.0\n",
    "\n",
    "L_0 = 2.0*np.pi/omega\n",
    "L_tot = 10.0*L_0\n",
    "\n",
    "r0 = np.array([0.0])\n",
    "r1 = np.array([L_tot])\n",
    "dr = np.array([L_0/100])\n",
    "    \n",
    "dt = S*dr[0]\n",
    "d_v = np.prod(dr)\n",
    "n_t = 2000\n",
    "\n",
    "## fdtd simulator\n",
    "fdtd = FDTDSimulator()\n",
    "\n",
    "fdtd.SetSimulationBox(r0, r1, dr, dt)\n",
    "fdtd.save_every = save_every \n",
    "\n",
    "## epsilon_r\n",
    "#eps_r = 1.0\n",
    "#eps_args = {'r0':r0, 'r1':r1, 'mag_in':eps_r, 'mag_out':1.0}\n",
    "#fdtd.AddMaterial({'type':FVTypes.EpsIsoBox, 'name':'eps_r', 'args':eps_args})\n",
    "\n",
    "\n",
    "## J_e\n",
    "alpha = 0.5\n",
    "t_0 = 6.0/alpha\n",
    "t_1 = t_0*1.4\n",
    "f_t = lambda t: -np.exp(-alpha**2*(t-t_0)**2)# + np.exp(-alpha**2*(t-t_1)**2)\n",
    "\n",
    "r_j0 = r0 + 1.0*L_0\n",
    "je_mag = 1.0/dr[0]\n",
    "je_args = {'r0':r_j0, 'mag':je_mag, 'f_t':f_t, 'src_dir':'z'}\n",
    "fdtd.AddSources({'type':FVTypes.JePoint, 'name':'Je', 'args':je_args})\n",
    "\n",
    "## J_m\n",
    "jm_args = {'r0':r_j0, 'mag':-je_mag, 'f_t':f_t, 'src_dir':'y'}\n",
    "fdtd.AddSources({'type':FVTypes.JmPoint, 'name':'Jm', 'args':jm_args})\n",
    "\n",
    "## metasurface sources\n",
    "## J_e\n",
    "dL_ms = 4.0*L_0\n",
    "dt_ms = dL_ms\n",
    "#g_t = lambda t: -2.0*alpha**2*(t-t_0)*np.exp(-alpha**2*(t-t_0)**2) +2.0*alpha**2*(t-t_1)*np.exp(-alpha**2*(t-t_1)**2)\n",
    "g_t = lambda t: 0.0#np.exp(-alpha**2*(t-t_0)**2) - np.exp(-alpha**2*(t-t_1)**2)\n",
    "\n",
    "f_t_ms = lambda t: -f_t(t - dt_ms) + g_t(t - dt_ms)\n",
    "\n",
    "r_j1 = r_j0 + dL_ms\n",
    "je_args = {'r0':r_j1, 'mag':je_mag, 'f_t':f_t_ms, 'src_dir':'z'}\n",
    "fdtd.AddSources({'type':FVTypes.JePoint, 'name':'Je', 'args':je_args})\n",
    "\n",
    "## J_m\n",
    "jm_args = {'r0':r_j1, 'mag':-je_mag, 'f_t':f_t_ms, 'src_dir':'y'}\n",
    "fdtd.AddSources({'type':FVTypes.JmPoint, 'name':'Jm', 'args':jm_args})\n",
    "\n",
    "\n",
    "## pml\n",
    "d_pml = np.array([0.9*L_0])\n",
    "s_pml = np.array([1.0+3.0j/L_0])\n",
    "pml_args = {'d_pml':d_pml, 's_pml':s_pml}\n",
    "fdtd.AddPML({'type':FVTypes.UPML, 'name':'pml', 'args':pml_args})\n",
    "\n",
    "\n",
    "## view planes\n",
    "fdtd.AddViewPlane({'type':FVTypes.VPSide, 'r':r0, 'args':{'A':'E', 'A_dir':'z', 'O_dir':None, 'name':'E'}})        \n",
    "\n",
    "fdtd.StepFields(n_t)\n",
    "n_saved = fdtd.n_saved\n",
    "\n",
    "x_ms = r_j1[0]\n",
    " "
   ]
  },
  {
   "cell_type": "code",
   "execution_count": 34,
   "metadata": {
    "collapsed": false
   },
   "outputs": [
    {
     "name": "stdout",
     "output_type": "stream",
     "text": [
      "max(e_max): 1.00777414437\n"
     ]
    }
   ],
   "source": [
    "%matplotlib wx\n",
    "    \n",
    "import matplotlib.pyplot as plt\n",
    "\n",
    "r_E, E_out_list = fdtd.GetOutputs('E')\n",
    "x_E = r_E[0]\n",
    "e_max = [np.max(np.abs(e)) for e in E_out_list]\n",
    "print('max(e_max):', max(e_max))\n",
    "e_max = max(e_max)\n",
    "N_x = len(x_E)\n",
    "\n",
    "##---\n",
    "import numpy as np\n",
    "import matplotlib.pyplot as plt\n",
    "import matplotlib.animation as animation\n",
    "import matplotlib\n",
    "\n",
    "save_anim = False\n",
    "file_format = 'gif'   ## 'gif' / 'mp4'\n",
    "\n",
    "use_subplots = False\n",
    "\n",
    "font = {'family' : 'serif', 'weight' : 'normal', 'size'   : 14}\n",
    "matplotlib.rc('font', **font)\n",
    "\n",
    "fig, axarr = None, None\n",
    "def animate_E(i):\n",
    "    plt.clf()\n",
    "    fig = plt.plot(x_E, E_out_list[i], 'b')\n",
    "    ax = plt.gca()\n",
    "    ax.set_ylim([-e_max, e_max])\n",
    "    plt.axvline(x_ms, color= 'r', linestyle='-.')\n",
    "    return fig\n",
    "\n",
    "\n",
    "fig = plt.figure()\n",
    "anim = animation.FuncAnimation(fig, animate_E, frames=n_saved, interval=100)\n",
    "\n",
    "if save_anim:\n",
    "    if file_format=='gif':\n",
    "        anim.save('other/e-1d.gif', writer=\"imagemagick\", fps=15, dpi=200)\n",
    "    elif file_format=='mp4':\n",
    "        anim.save('other/e-1d.mp4', writer=\"mencoder\", fps=15, dpi=200)\n",
    "\n",
    "plt.show()\n",
    "\n"
   ]
  },
  {
   "cell_type": "code",
   "execution_count": null,
   "metadata": {
    "collapsed": true
   },
   "outputs": [],
   "source": []
  },
  {
   "cell_type": "code",
   "execution_count": null,
   "metadata": {
    "collapsed": true
   },
   "outputs": [],
   "source": []
  }
 ],
 "metadata": {
  "kernelspec": {
   "display_name": "Python 3",
   "language": "python",
   "name": "python3"
  },
  "language_info": {
   "codemirror_mode": {
    "name": "ipython",
    "version": 3
   },
   "file_extension": ".py",
   "mimetype": "text/x-python",
   "name": "python",
   "nbconvert_exporter": "python",
   "pygments_lexer": "ipython3",
   "version": "3.5.2"
  }
 },
 "nbformat": 4,
 "nbformat_minor": 0
}
