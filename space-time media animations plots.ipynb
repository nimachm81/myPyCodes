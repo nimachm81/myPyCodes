{
 "cells": [
  {
   "cell_type": "markdown",
   "metadata": {},
   "source": [
    "### Animation"
   ]
  },
  {
   "cell_type": "code",
   "execution_count": 17,
   "metadata": {
    "collapsed": false
   },
   "outputs": [
    {
     "name": "stdout",
     "output_type": "stream",
     "text": [
      "Populating the interactive namespace from numpy and matplotlib\n"
     ]
    },
    {
     "data": {
      "image/png": "[encoded data removed]",
      "text/plain": [
       "<matplotlib.figure.Figure at 0x7f5c7548f2b0>"
      ]
     },
     "metadata": {},
     "output_type": "display_data"
    },
    {
     "data": {
      "image/png": "[encoded data removed]",
      "text/plain": [
       "<matplotlib.figure.Figure at 0x7f5c7548b438>"
      ]
     },
     "metadata": {},
     "output_type": "display_data"
    }
   ],
   "source": [
    "%pylab inline\n",
    "\n",
    "import numpy as np\n",
    "import matplotlib.pyplot as plt\n",
    "import matplotlib.animation as animation\n",
    "\n",
    "figsize(5, 1)\n",
    "\n",
    "Px = 1\n",
    "k = 2.0*np.pi/Px\n",
    "Nx = 200\n",
    "x = np.linspace(0, 3*Px, Nx)\n",
    "\n",
    "Pt = 1\n",
    "w = 2.0*np.pi/Pt\n",
    "Nt = 200\n",
    "t = np.linspace(0, 1*Pt, Nt)\n",
    "\n",
    "X, T = np.meshgrid(x, t, indexing='ij')\n",
    "\n",
    "Nphi = 50\n",
    "fig = None\n",
    "def updateEps(i):\n",
    "    phi_i = i*2.0*np.pi/Nphi\n",
    "    Z = np.cos(k*X - phi_i)\n",
    "    fig = plt.imshow(Z.T, origin='lower', vmin=-1, vmax=1, cmap='rainbow', aspect='auto')\n",
    "    ax = plt.gca()\n",
    "    ax.set_adjustable('box-forced')\n",
    "    ax.axes.get_xaxis().set_ticks([])\n",
    "    ax.axes.get_yaxis().set_ticks([])\n",
    "    return fig\n",
    "    \n",
    "fig = plt.figure()\n",
    "eps_anim = animation.FuncAnimation(fig, updateEps, frames=25, interval=Nphi)\n",
    "eps_anim.save('other/eps_anim.mp4', writer=\"ffmpeg\")\n",
    "plt.show()\n",
    "\n",
    "\n",
    "fig = plt.figure()\n",
    "updateEps(0)\n",
    "savefig('other/eps_anim.png', bbox_inches='tight', pad_inches=0.5)\n",
    "plt.show()\n"
   ]
  },
  {
   "cell_type": "markdown",
   "metadata": {},
   "source": [
    "### space-time diagram"
   ]
  },
  {
   "cell_type": "code",
   "execution_count": 34,
   "metadata": {
    "collapsed": false
   },
   "outputs": [
    {
     "name": "stdout",
     "output_type": "stream",
     "text": [
      "Populating the interactive namespace from numpy and matplotlib\n"
     ]
    },
    {
     "data": {
      "image/png": "[encoded data removed]",
      "text/plain": [
       "<matplotlib.figure.Figure at 0x7f5c74c12fd0>"
      ]
     },
     "metadata": {},
     "output_type": "display_data"
    }
   ],
   "source": [
    "\n",
    "%pylab inline\n",
    "\n",
    "import numpy as np\n",
    "import matplotlib.pyplot as plt\n",
    "import matplotlib.animation as animation\n",
    "\n",
    "figsize(5, 5)\n",
    "\n",
    "Px = 1\n",
    "k = 2.0*np.pi/Px\n",
    "Nx = 200\n",
    "x = np.linspace(0, 3*Px, Nx)\n",
    "\n",
    "Pt = 1\n",
    "w = 2.0*np.pi/Pt\n",
    "Nt = 200\n",
    "t = np.linspace(0, 3*Pt, Nt)\n",
    "\n",
    "X, T = np.meshgrid(x, t, indexing='ij')\n",
    "\n",
    "## periodic\n",
    "Z = np.cos(w*T + 0.5*k*X)\n",
    "\n",
    "## ST interface\n",
    "#v = 1.5\n",
    "#Z = np.sign(v*T + (X-3*Px))\n",
    "\n",
    "fig = plt.imshow(Z.T, origin='lower', vmin=-1, vmax=1, cmap='rainbow', aspect='auto')\n",
    "ax = plt.gca()\n",
    "ax.set_adjustable('box-forced')\n",
    "ax.axes.get_xaxis().set_ticks([])\n",
    "ax.axes.get_yaxis().set_ticks([])\n",
    "\n",
    "savefig('other/eps_ST.png', bbox_inches='tight', pad_inches=0.5)\n",
    "\n",
    "plt.show()\n"
   ]
  },
  {
   "cell_type": "code",
   "execution_count": null,
   "metadata": {
    "collapsed": true
   },
   "outputs": [],
   "source": []
  }
 ],
 "metadata": {
  "kernelspec": {
   "display_name": "Python 3",
   "language": "python",
   "name": "python3"
  },
  "language_info": {
   "codemirror_mode": {
    "name": "ipython",
    "version": 3
   },
   "file_extension": ".py",
   "mimetype": "text/x-python",
   "name": "python",
   "nbconvert_exporter": "python",
   "pygments_lexer": "ipython3",
   "version": "3.5.2"
  }
 },
 "nbformat": 4,
 "nbformat_minor": 1
}
