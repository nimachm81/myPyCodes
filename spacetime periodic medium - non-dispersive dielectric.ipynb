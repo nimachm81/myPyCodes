{
 "cells": [
  {
   "cell_type": "markdown",
   "metadata": {},
   "source": [
    "### Nondispersive dielectric"
   ]
  },
  {
   "cell_type": "code",
   "execution_count": 9,
   "metadata": {
    "collapsed": false
   },
   "outputs": [
    {
     "name": "stdout",
     "output_type": "stream",
     "text": [
      "The autoreload extension is already loaded. To reload it, use:\n",
      "  %reload_ext autoreload\n",
      "Populating the interactive namespace from numpy and matplotlib\n"
     ]
    }
   ],
   "source": [
    "%load_ext autoreload\n",
    "%autoreload 2\n",
    "\n",
    "%pylab inline\n",
    "\n",
    "import os\n",
    "cwd = os.getcwd()\n",
    "dir_name = os.path.join(cwd, 'other', 'spacetime')\n",
    "file_ext = '.png'\n",
    "if not os.path.exists(dir_name):\n",
    "    os.makedirs(dir_name)\n",
    "\n",
    "plt.rc('text', usetex=True)\n",
    "#plt.rc('font', family='serif', size=18)\n",
    "\n",
    "font = {'family' : 'serif', 'weight' : 'normal', 'size'   : 18}\n",
    "matplotlib.rc('font', **font)\n",
    "\n",
    "\n",
    "show_axis = False\n",
    "\n"
   ]
  },
  {
   "cell_type": "code",
   "execution_count": 12,
   "metadata": {
    "collapsed": false
   },
   "outputs": [
    {
     "name": "stdout",
     "output_type": "stream",
     "text": [
      "d_k: 0.845236523481\n",
      "d_wc: 1.81261557407\n"
     ]
    },
    {
     "data": {
      "image/png": "[encoded data removed]",
      "text/plain": [
       "<matplotlib.figure.Figure at 0x7fd058b835c0>"
      ]
     },
     "metadata": {},
     "output_type": "display_data"
    },
    {
     "name": "stdout",
     "output_type": "stream",
     "text": [
      "interleaved_range:  [0, 1, -1, 2, -2, 3, -3, 4, -4, 5, -5, 6, -6, 7, -7, 8, -8, 9, -9, 10, -10, 11, -11, 12, -12, 13, -13, 14, -14, 15, -15, 16, -16, 17, -17, 18, -18, 19, -19, 20, -20]\n"
     ]
    }
   ],
   "source": [
    "\n",
    "import numpy as np\n",
    "from scipy import constants\n",
    "\n",
    "c = constants.c\n",
    "n = 1#3.4\n",
    "N = 400\n",
    "k_max = 5.0\n",
    "w_max = k_max/n*c\n",
    "k_arr = np.linspace(-10.0*k_max, 10.0*k_max, N)\n",
    "w_arr = k_arr/n*c\n",
    "\n",
    "d_kw = 2.0\n",
    "phi =  65.0/180.0*np.pi\n",
    "d_k = d_kw*np.cos(phi)\n",
    "d_wc = d_kw*np.sin(phi)\n",
    "#if d_wc<0.0:\n",
    "#    d_wc *= -1.0\n",
    "#    d_k *= -1.0\n",
    "\n",
    "d_w = d_wc*c\n",
    "n_mode = 20\n",
    "\n",
    "print('d_k:', d_k)\n",
    "print('d_wc:', d_wc)\n",
    "\n",
    "a = 2.0*np.pi/d_k\n",
    "\n",
    "for i in range(-n_mode, n_mode+1):\n",
    "    color = 'b'\n",
    "    if i==0:\n",
    "        color = 'g'\n",
    "    plot(k_arr+i*d_k, (w_arr+i*d_w)/c, color)\n",
    "    plot(k_arr+i*d_k, (-w_arr+i*d_w)/c, color)\n",
    "\n",
    "if show_axis:\n",
    "    plot([-k_max, k_max], [0, 0], 'k-', lw=0.5)\n",
    "    plot([0, 0], [-w_max, w_max], 'k-', lw=0.5)\n",
    "#plot(10*np.array([-d_k, d_k]), 10*np.array([-d_w, d_w])/c, color='k', linestyle='-', linewidth=2)\n",
    "\n",
    "bz = np.array([0.5*d_k, 0.5*d_w/c])\n",
    "bz_n = 10.0*np.array([-bz[1], bz[0]])  ##normal\n",
    "plot([(bz-bz_n)[0], (bz+bz_n)[0]], [(bz-bz_n)[1], (bz+bz_n)[1]], 'k--')\n",
    "plot([(-bz-bz_n)[0], (-bz+bz_n)[0]], [(-bz-bz_n)[1], (-bz+bz_n)[1]], 'k--')\n",
    "ylabel(r'$\\omega /c$', fontsize=22)\n",
    "xlabel(r'$\\beta$', fontsize=22)\n",
    "xticks([0])\n",
    "yticks([0])\n",
    "axis('equal')\n",
    "xlim(-k_max/2, k_max/2)\n",
    "ylim(-w_max/c/2, w_max/c/2)\n",
    "savefig(os.path.join(dir_name, 'nondispersive-epsr' + file_ext), bbox_inches='tight', pad_inches=0.2)\n",
    "\n",
    "    \n",
    "if 'w_i' in globals():\n",
    "    axhline(w_i, color='g', linestyle='-.')\n",
    "    savefig(os.path.join(dir_name, 'nondispersive-epsr-wi' + file_ext), bbox_inches='tight', pad_inches=0.2)\n",
    "    print('d_k/k_i:', d_k/(w_i*n))\n",
    "    print('d_wc/omega_i:', d_wc/w_i)\n",
    "\n",
    "if 'eig_points_k' in globals():\n",
    "    #plot(np.real(eig_points_k), np.real(eig_points_w), 'ro', lw=0.1)\n",
    "    plot(np.real(eig_points_k_m), np.real(eig_points_w_m), 'yo', lw=0.1, markersize=5)\n",
    "    plot(np.real(eig_points_k_p), np.real(eig_points_w_p), 'ro', lw=0.1, markersize=3)\n",
    "    savefig(os.path.join(dir_name, 'nondispersive-epsr-modes' + file_ext), bbox_inches='tight', pad_inches=0.2)\n",
    "\n",
    "#plot(np.real(eig_points_kp[:,0]), np.real(eig_points_wp[:,0]), 'go')\n",
    "show()\n",
    "\n",
    "\n",
    "interleaved_range = [0]\n",
    "interleaved_range.extend([val for pair in zip(np.arange(1, n_mode+1), -np.arange(1, n_mode+1)) for val in pair])\n",
    "print('interleaved_range: ', interleaved_range)\n",
    "\n",
    "\n",
    "import matplotlib.animation as animation\n",
    "\n",
    "animate_periodic = False\n",
    "ah_len = 0.15*np.sqrt(np.abs(d_k)**2 + np.abs(d_w/c)**2)\n",
    "ah_width = 0.2*ah_len\n",
    "zero_drawn = False\n",
    "if animate_periodic:\n",
    "    figsize(5, 5)\n",
    "\n",
    "    def animate_per(_i_):\n",
    "        global zero_drawn\n",
    "        i = interleaved_range[_i_]\n",
    "        lw = 2\n",
    "        _color_ = 'b'#list(colors_list.keys())[i+n_mode]\n",
    "        if i==0:\n",
    "            lw = 2\n",
    "            _color_ = 'g'\n",
    "        \n",
    "        plot(k_arr+i*d_k, (w_arr+i*d_w)/c, _color_, lw=lw)\n",
    "        plot(k_arr+i*d_k, (-w_arr+i*d_w)/c, _color_, lw=lw)\n",
    "        \n",
    "        \n",
    "        if i==1:\n",
    "            plot([(bz-bz_n)[0], (bz+bz_n)[0]], [(bz-bz_n)[1], (bz+bz_n)[1]], 'k--')\n",
    "            plot([(-bz-bz_n)[0], (-bz+bz_n)[0]], [(-bz-bz_n)[1], (-bz+bz_n)[1]], 'k--')\n",
    "        if i==0:\n",
    "            gca().arrow(-k_max, 0, 2*k_max, 0, head_width=2.5*ah_width, head_length=2*ah_len, fc='k', ec='k', length_includes_head=True)\n",
    "        \n",
    "        \n",
    "        if i>0:\n",
    "            gca().arrow((i-1)*d_k, (i-1)*d_w/c, d_k, d_w/c, head_width=ah_width, head_length=ah_len, fc='r', ec='r', length_includes_head=True)\n",
    "        elif i<0:\n",
    "            gca().arrow((i+1)*d_k, (i+1)*d_w/c, -d_k, -d_w/c, head_width=ah_width, head_length=ah_len, fc='r', ec='r', length_includes_head=True)\n",
    "        \n",
    "\n",
    "        ylabel(r'$\\omega$', fontsize=26)\n",
    "        xlabel(r'$\\beta$', fontsize=26)\n",
    "        #axis('equal')\n",
    "        xticks([0])\n",
    "        yticks([0])\n",
    "        xlim(-k_max, k_max)\n",
    "        ylim(-w_max/c, w_max/c)\n",
    "        \n",
    "        if abs(i)<3:\n",
    "            if (i==0 and not zero_drawn) or i!=0:\n",
    "                savefig(os.path.join(dir_name, 'anim-{}'.format(i) + file_ext), bbox_inches='tight', pad_inches=0.2)\n",
    "                zero_drawn = True\n",
    "\n",
    "    fig = plt.figure()\n",
    "    axes = plt.gca()\n",
    "    anim = animation.FuncAnimation(fig, animate_per, frames=len(interleaved_range), interval=1, repeat=False)\n",
    "    anim.save(os.path.join(dir_name, 'anim.gif'), writer=\"imagemagick\", fps=1, dpi=200)\n",
    "\n",
    "show()\n",
    "\n",
    "\n",
    "animate_mod_velocity = False\n",
    "if animate_mod_velocity:\n",
    "    figsize(5, 5)\n",
    "\n",
    "    phi_arr = np.linspace(0.0, 180.0, 200)/180.0*np.pi\n",
    "    \n",
    "    def animate_modvel(i):\n",
    "        plt.clf()\n",
    "        _phi_ = phi_arr[i]\n",
    "        _d_k_ = d_kw*np.cos(_phi_)\n",
    "        _d_wc_ = d_kw*np.sin(_phi_)\n",
    "        _d_w_ = _d_wc_*c\n",
    "\n",
    "        for i in interleaved_range:\n",
    "            _color_, lw = 'b', 1\n",
    "            if i==0:\n",
    "                _color_, lw = 'g', 1\n",
    "            plot(k_arr+i*_d_k_, (w_arr+i*_d_w_)/c, _color_, lw=lw)\n",
    "            plot(k_arr+i*_d_k_, (-w_arr+i*_d_w_)/c, _color_, lw=lw)\n",
    "\n",
    "        _bz_ = np.array([0.5*_d_k_, 0.5*_d_w_/c])\n",
    "        _bz_n_ = 10.0*np.array([-_bz_[1], _bz_[0]])  ##normal\n",
    "\n",
    "        plot([(_bz_-_bz_n_)[0], (_bz_+_bz_n_)[0]], [(_bz_-_bz_n_)[1], (_bz_+_bz_n_)[1]], 'k--')\n",
    "        plot([(-_bz_-_bz_n_)[0], (-_bz_+_bz_n_)[0]], [(-_bz_-_bz_n_)[1], (-_bz_+_bz_n_)[1]], 'k--')\n",
    "        gca().arrow(-k_max, 0, 2*k_max, 0, head_width=2.5*ah_width, head_length=2*ah_len, fc='k', ec='k', length_includes_head=True)\n",
    "        \n",
    "        gca().arrow(0, 0, _d_k_, _d_w_/c, head_width=ah_width, head_length=ah_len, fc='r', ec='r', length_includes_head=True)\n",
    "\n",
    "        ylabel(r'$\\omega$', fontsize=26)\n",
    "        xlabel(r'$\\beta$', fontsize=26)\n",
    "        #axis('equal')\n",
    "        xticks([0])\n",
    "        yticks([0])\n",
    "        xlim(-k_max, k_max)\n",
    "        ylim(-w_max/c, w_max/c)\n",
    "        \n",
    "    fig = plt.figure()\n",
    "    axes = plt.gca()\n",
    "    anim = animation.FuncAnimation(fig, animate_modvel, frames=len(phi_arr), interval=1, repeat=False)\n",
    "    anim.save(os.path.join(dir_name, 'anim-modvel.mp4'), writer=\"ffmpeg\", fps=10, dpi=200)\n",
    "\n",
    "show()\n",
    "\n",
    "        "
   ]
  },
  {
   "cell_type": "markdown",
   "metadata": {
    "collapsed": true
   },
   "source": [
    "### Nondispersive ST dielectric - numerical "
   ]
  },
  {
   "cell_type": "code",
   "execution_count": 26,
   "metadata": {
    "collapsed": false
   },
   "outputs": [
    {
     "data": {
      "text/latex": [
       "$$EQ = - \\epsilon_0 \\mu_0 \\frac{\\partial^{2}}{\\partial t^{2}} \\left(E \\epsilon_r\\right) + \\frac{d^{2}}{d z^{2}}  E$$"
      ],
      "text/plain": [
       "<IPython.core.display.Math object>"
      ]
     },
     "metadata": {},
     "output_type": "display_data"
    },
    {
     "data": {
      "text/latex": [
       "$$EQ = - \\epsilon_0 \\mu_0 \\frac{\\partial^{2}}{\\partial t^{2}} \\left(E \\epsilon_r e^{i \\omega t - i k z}\\right) + \\frac{\\partial^{2}}{\\partial z^{2}} \\left(E e^{i \\omega t - i k z}\\right)$$"
      ],
      "text/plain": [
       "<IPython.core.display.Math object>"
      ]
     },
     "metadata": {},
     "output_type": "display_data"
    },
    {
     "name": "stdout",
     "output_type": "stream",
     "text": [
      "harmonic: \n"
     ]
    },
    {
     "data": {
      "text/latex": [
       "$$e^{i n_{0} \\left(\\omega_m t - k_{m} z\\right)}$$"
      ],
      "text/plain": [
       "<IPython.core.display.Math object>"
      ]
     },
     "metadata": {},
     "output_type": "display_data"
    },
    {
     "data": {
      "text/latex": [
       "$$EQ_\\text{harm} = - \\epsilon_0 \\mu_0 \\frac{\\partial^{2}}{\\partial t^{2}} \\left(e^{i \\omega t - i k z} \\left(\\sum_{n_{0}=-\\infty}^{\\infty} \\tilde{E}{\\left (n_{0} \\right )} e^{i n_{0} \\left(\\omega_m t - k_{m} z\\right)}\\right) \\sum_{n_{0}=-\\infty}^{\\infty} \\tilde{\\epsilon_r}{\\left (n_{0} \\right )} e^{i n_{0} \\left(\\omega_m t - k_{m} z\\right)}\\right) + \\frac{\\partial^{2}}{\\partial z^{2}} \\left(e^{i \\omega t - i k z} \\sum_{n_{0}=-\\infty}^{\\infty} \\tilde{E}{\\left (n_{0} \\right )} e^{i n_{0} \\left(\\omega_m t - k_{m} z\\right)}\\right)$$"
      ],
      "text/plain": [
       "<IPython.core.display.Math object>"
      ]
     },
     "metadata": {},
     "output_type": "display_data"
    },
    {
     "data": {
      "text/latex": [
       "$$EQ_\\text{harm} = - \\epsilon_0 \\mu_0 \\left(- \\omega^{2} \\left(\\sum_{n_{0}=-\\infty}^{\\infty} \\tilde{E}{\\left (n_{0} \\right )} e^{i n_{0} \\left(\\omega_m t - k_{m} z\\right)}\\right) \\sum_{n_{0}=-\\infty}^{\\infty} \\tilde{\\epsilon_r}{\\left (n_{0} \\right )} e^{i n_{0} \\left(\\omega_m t - k_{m} z\\right)} + 2 i \\omega \\left(\\sum_{n_{0}=-\\infty}^{\\infty} \\tilde{E}{\\left (n_{0} \\right )} e^{i n_{0} \\left(\\omega_m t - k_{m} z\\right)}\\right) \\sum_{n_{0}=-\\infty}^{\\infty} i \\omega_m n_{0} \\tilde{\\epsilon_r}{\\left (n_{0} \\right )} e^{i n_{0} \\left(\\omega_m t - k_{m} z\\right)} + 2 i \\omega \\left(\\sum_{n_{0}=-\\infty}^{\\infty} \\tilde{\\epsilon_r}{\\left (n_{0} \\right )} e^{i n_{0} \\left(\\omega_m t - k_{m} z\\right)}\\right) \\sum_{n_{0}=-\\infty}^{\\infty} i \\omega_m n_{0} \\tilde{E}{\\left (n_{0} \\right )} e^{i n_{0} \\left(\\omega_m t - k_{m} z\\right)} + \\left(\\sum_{n_{0}=-\\infty}^{\\infty} \\tilde{E}{\\left (n_{0} \\right )} e^{i n_{0} \\left(\\omega_m t - k_{m} z\\right)}\\right) \\sum_{n_{0}=-\\infty}^{\\infty} - \\omega_m^{2} n_{0}^{2} \\tilde{\\epsilon_r}{\\left (n_{0} \\right )} e^{i n_{0} \\left(\\omega_m t - k_{m} z\\right)} + \\left(\\sum_{n_{0}=-\\infty}^{\\infty} \\tilde{\\epsilon_r}{\\left (n_{0} \\right )} e^{i n_{0} \\left(\\omega_m t - k_{m} z\\right)}\\right) \\sum_{n_{0}=-\\infty}^{\\infty} - \\omega_m^{2} n_{0}^{2} \\tilde{E}{\\left (n_{0} \\right )} e^{i n_{0} \\left(\\omega_m t - k_{m} z\\right)} + 2 \\left(\\sum_{n_{0}=-\\infty}^{\\infty} i \\omega_m n_{0} \\tilde{E}{\\left (n_{0} \\right )} e^{i n_{0} \\left(\\omega_m t - k_{m} z\\right)}\\right) \\sum_{n_{0}=-\\infty}^{\\infty} i \\omega_m n_{0} \\tilde{\\epsilon_r}{\\left (n_{0} \\right )} e^{i n_{0} \\left(\\omega_m t - k_{m} z\\right)}\\right) e^{i \\left(\\omega t - k z\\right)} + \\left(- k^{2} \\sum_{n_{0}=-\\infty}^{\\infty} \\tilde{E}{\\left (n_{0} \\right )} e^{i n_{0} \\left(\\omega_m t - k_{m} z\\right)} - 2 i k \\sum_{n_{0}=-\\infty}^{\\infty} - i k_{m} n_{0} \\tilde{E}{\\left (n_{0} \\right )} e^{i n_{0} \\left(\\omega_m t - k_{m} z\\right)} + \\sum_{n_{0}=-\\infty}^{\\infty} - k_{m}^{2} n_{0}^{2} \\tilde{E}{\\left (n_{0} \\right )} e^{i n_{0} \\left(\\omega_m t - k_{m} z\\right)}\\right) e^{i \\left(\\omega t - k z\\right)}$$"
      ],
      "text/plain": [
       "<IPython.core.display.Math object>"
      ]
     },
     "metadata": {},
     "output_type": "display_data"
    },
    {
     "data": {
      "text/latex": [
       "$$EQ_\\text{harm} = \\epsilon_0 \\mu_0 \\omega^{2} e^{i \\omega t} e^{- i k z} \\sum_{n_{0}=-\\infty}^{\\infty} e^{i n_{0} \\left(\\omega_m t - k_{m} z\\right)} \\sum_{m_{0}=-\\infty}^{\\infty} \\tilde{E}{\\left (m_{0} \\right )} \\tilde{\\epsilon_r}{\\left (- m_{0} + n_{0} \\right )} - 2 i \\epsilon_0 \\mu_0 \\omega e^{i \\omega t} e^{- i k z} \\sum_{n_{0}=-\\infty}^{\\infty} e^{i n_{0} \\left(\\omega_m t - k_{m} z\\right)} \\sum_{m_{0}=-\\infty}^{\\infty} i \\omega_m \\left(- m_{0} + n_{0}\\right) \\tilde{E}{\\left (m_{0} \\right )} \\tilde{\\epsilon_r}{\\left (- m_{0} + n_{0} \\right )} - 2 i \\epsilon_0 \\mu_0 \\omega e^{i \\omega t} e^{- i k z} \\sum_{n_{0}=-\\infty}^{\\infty} e^{i n_{0} \\left(\\omega_m t - k_{m} z\\right)} \\sum_{m_{0}=-\\infty}^{\\infty} i \\omega_m \\left(- m_{0} + n_{0}\\right) \\tilde{E}{\\left (- m_{0} + n_{0} \\right )} \\tilde{\\epsilon_r}{\\left (m_{0} \\right )} - \\epsilon_0 \\mu_0 e^{i \\omega t} e^{- i k z} \\sum_{n_{0}=-\\infty}^{\\infty} e^{i n_{0} \\left(\\omega_m t - k_{m} z\\right)} \\sum_{m_{0}=-\\infty}^{\\infty} - \\omega_m^{2} \\left(- m_{0} + n_{0}\\right)^{2} \\tilde{E}{\\left (m_{0} \\right )} \\tilde{\\epsilon_r}{\\left (- m_{0} + n_{0} \\right )} - \\epsilon_0 \\mu_0 e^{i \\omega t} e^{- i k z} \\sum_{n_{0}=-\\infty}^{\\infty} e^{i n_{0} \\left(\\omega_m t - k_{m} z\\right)} \\sum_{m_{0}=-\\infty}^{\\infty} - \\omega_m^{2} \\left(- m_{0} + n_{0}\\right)^{2} \\tilde{E}{\\left (- m_{0} + n_{0} \\right )} \\tilde{\\epsilon_r}{\\left (m_{0} \\right )} - 2 \\epsilon_0 \\mu_0 e^{i \\omega t} e^{- i k z} \\sum_{n_{0}=-\\infty}^{\\infty} e^{i n_{0} \\left(\\omega_m t - k_{m} z\\right)} \\sum_{m_{0}=-\\infty}^{\\infty} - \\omega_m^{2} m_{0} \\left(- m_{0} + n_{0}\\right) \\tilde{E}{\\left (m_{0} \\right )} \\tilde{\\epsilon_r}{\\left (- m_{0} + n_{0} \\right )} - k^{2} e^{i \\omega t} e^{- i k z} \\sum_{n_{0}=-\\infty}^{\\infty} \\tilde{E}{\\left (n_{0} \\right )} e^{i \\omega_m n_{0} t} e^{- i k_{m} n_{0} z} - 2 i k e^{i \\omega t} e^{- i k z} \\sum_{n_{0}=-\\infty}^{\\infty} - i k_{m} n_{0} \\tilde{E}{\\left (n_{0} \\right )} e^{i \\omega_m n_{0} t} e^{- i k_{m} n_{0} z} + e^{i \\omega t} e^{- i k z} \\sum_{n_{0}=-\\infty}^{\\infty} - k_{m}^{2} n_{0}^{2} \\tilde{E}{\\left (n_{0} \\right )} e^{i \\omega_m n_{0} t} e^{- i k_{m} n_{0} z}$$"
      ],
      "text/plain": [
       "<IPython.core.display.Math object>"
      ]
     },
     "metadata": {},
     "output_type": "display_data"
    },
    {
     "data": {
      "text/latex": [
       "$$EQ_\\text{harm} = \\epsilon_0 \\mu_0 \\omega^{2} \\sum_{m_{0}=-\\infty}^{\\infty} \\tilde{E}{\\left (m_{0} \\right )} \\tilde{\\epsilon_r}{\\left (- m_{0} + n_{0} \\right )} + \\epsilon_0 \\mu_0 \\omega \\sum_{m_{0}=-\\infty}^{\\infty} - 2 \\omega_m m_{0} \\tilde{E}{\\left (m_{0} \\right )} \\tilde{\\epsilon_r}{\\left (- m_{0} + n_{0} \\right )} + \\epsilon_0 \\mu_0 \\omega \\sum_{m_{0}=-\\infty}^{\\infty} - 2 \\omega_m m_{0} \\tilde{E}{\\left (- m_{0} + n_{0} \\right )} \\tilde{\\epsilon_r}{\\left (m_{0} \\right )} + \\epsilon_0 \\mu_0 \\omega \\sum_{m_{0}=-\\infty}^{\\infty} 2 \\omega_m n_{0} \\tilde{E}{\\left (m_{0} \\right )} \\tilde{\\epsilon_r}{\\left (- m_{0} + n_{0} \\right )} + \\epsilon_0 \\mu_0 \\omega \\sum_{m_{0}=-\\infty}^{\\infty} 2 \\omega_m n_{0} \\tilde{E}{\\left (- m_{0} + n_{0} \\right )} \\tilde{\\epsilon_r}{\\left (m_{0} \\right )} + \\epsilon_0 \\mu_0 \\sum_{m_{0}=-\\infty}^{\\infty} - 2 \\omega_m^{2} m_{0}^{2} \\tilde{E}{\\left (m_{0} \\right )} \\tilde{\\epsilon_r}{\\left (- m_{0} + n_{0} \\right )} + \\epsilon_0 \\mu_0 \\sum_{m_{0}=-\\infty}^{\\infty} \\omega_m^{2} m_{0}^{2} \\tilde{E}{\\left (m_{0} \\right )} \\tilde{\\epsilon_r}{\\left (- m_{0} + n_{0} \\right )} + \\epsilon_0 \\mu_0 \\sum_{m_{0}=-\\infty}^{\\infty} \\omega_m^{2} m_{0}^{2} \\tilde{E}{\\left (- m_{0} + n_{0} \\right )} \\tilde{\\epsilon_r}{\\left (m_{0} \\right )} + \\epsilon_0 \\mu_0 \\sum_{m_{0}=-\\infty}^{\\infty} \\omega_m^{2} n_{0}^{2} \\tilde{E}{\\left (m_{0} \\right )} \\tilde{\\epsilon_r}{\\left (- m_{0} + n_{0} \\right )} + \\epsilon_0 \\mu_0 \\sum_{m_{0}=-\\infty}^{\\infty} \\omega_m^{2} n_{0}^{2} \\tilde{E}{\\left (- m_{0} + n_{0} \\right )} \\tilde{\\epsilon_r}{\\left (m_{0} \\right )} + \\epsilon_0 \\mu_0 \\sum_{m_{0}=-\\infty}^{\\infty} - 2 \\omega_m^{2} m_{0} n_{0} \\tilde{E}{\\left (m_{0} \\right )} \\tilde{\\epsilon_r}{\\left (- m_{0} + n_{0} \\right )} + \\epsilon_0 \\mu_0 \\sum_{m_{0}=-\\infty}^{\\infty} 2 \\omega_m^{2} m_{0} n_{0} \\tilde{E}{\\left (m_{0} \\right )} \\tilde{\\epsilon_r}{\\left (- m_{0} + n_{0} \\right )} + \\epsilon_0 \\mu_0 \\sum_{m_{0}=-\\infty}^{\\infty} - 2 \\omega_m^{2} m_{0} n_{0} \\tilde{E}{\\left (- m_{0} + n_{0} \\right )} \\tilde{\\epsilon_r}{\\left (m_{0} \\right )} - 2 k k_{m} n_{0} \\tilde{E}{\\left (n_{0} \\right )} - \\left(k^{2} + k_{m}^{2} n_{0}^{2}\\right) \\tilde{E}{\\left (n_{0} \\right )}$$"
      ],
      "text/plain": [
       "<IPython.core.display.Math object>"
      ]
     },
     "metadata": {},
     "output_type": "display_data"
    },
    {
     "data": {
      "text/latex": [
       "$$\\tilde{E}~~~~\\tilde{\\epsilon_r}$$"
      ],
      "text/plain": [
       "<IPython.core.display.Math object>"
      ]
     },
     "metadata": {},
     "output_type": "display_data"
    },
    {
     "data": {
      "text/latex": [
       "$$K = \\omega \\omega_m + k k_{m}$$"
      ],
      "text/plain": [
       "<IPython.core.display.Math object>"
      ]
     },
     "metadata": {},
     "output_type": "display_data"
    },
    {
     "data": {
      "text/latex": [
       "$$\\Omega = \\omega k_{m} - \\omega_m k$$"
      ],
      "text/plain": [
       "<IPython.core.display.Math object>"
      ]
     },
     "metadata": {},
     "output_type": "display_data"
    },
    {
     "data": {
      "text/latex": [
       "$$k = \\frac{K k_{m} - \\Omega \\omega_m}{\\omega_m^{2} + k_{m}^{2}}$$"
      ],
      "text/plain": [
       "<IPython.core.display.Math object>"
      ]
     },
     "metadata": {},
     "output_type": "display_data"
    },
    {
     "data": {
      "text/latex": [
       "$$\\omega = \\frac{K \\omega_m + \\Omega k_{m}}{\\omega_m^{2} + k_{m}^{2}}$$"
      ],
      "text/plain": [
       "<IPython.core.display.Math object>"
      ]
     },
     "metadata": {},
     "output_type": "display_data"
    },
    {
     "data": {
      "text/latex": [
       "$$EQ_\\text{harm} = \\epsilon_0 \\mu_0 \\sum_{m_{0}=-\\infty}^{\\infty} - 2 \\omega_m^{2} m_{0}^{2} \\tilde{E}{\\left (m_{0} \\right )} \\tilde{\\epsilon_r}{\\left (- m_{0} + n_{0} \\right )} + \\epsilon_0 \\mu_0 \\sum_{m_{0}=-\\infty}^{\\infty} \\omega_m^{2} m_{0}^{2} \\tilde{E}{\\left (m_{0} \\right )} \\tilde{\\epsilon_r}{\\left (- m_{0} + n_{0} \\right )} + \\epsilon_0 \\mu_0 \\sum_{m_{0}=-\\infty}^{\\infty} \\omega_m^{2} m_{0}^{2} \\tilde{E}{\\left (- m_{0} + n_{0} \\right )} \\tilde{\\epsilon_r}{\\left (m_{0} \\right )} + \\epsilon_0 \\mu_0 \\sum_{m_{0}=-\\infty}^{\\infty} \\omega_m^{2} n_{0}^{2} \\tilde{E}{\\left (m_{0} \\right )} \\tilde{\\epsilon_r}{\\left (- m_{0} + n_{0} \\right )} + \\epsilon_0 \\mu_0 \\sum_{m_{0}=-\\infty}^{\\infty} \\omega_m^{2} n_{0}^{2} \\tilde{E}{\\left (- m_{0} + n_{0} \\right )} \\tilde{\\epsilon_r}{\\left (m_{0} \\right )} + \\epsilon_0 \\mu_0 \\sum_{m_{0}=-\\infty}^{\\infty} - 2 \\omega_m^{2} m_{0} n_{0} \\tilde{E}{\\left (m_{0} \\right )} \\tilde{\\epsilon_r}{\\left (- m_{0} + n_{0} \\right )} + \\epsilon_0 \\mu_0 \\sum_{m_{0}=-\\infty}^{\\infty} 2 \\omega_m^{2} m_{0} n_{0} \\tilde{E}{\\left (m_{0} \\right )} \\tilde{\\epsilon_r}{\\left (- m_{0} + n_{0} \\right )} + \\epsilon_0 \\mu_0 \\sum_{m_{0}=-\\infty}^{\\infty} - 2 \\omega_m^{2} m_{0} n_{0} \\tilde{E}{\\left (- m_{0} + n_{0} \\right )} \\tilde{\\epsilon_r}{\\left (m_{0} \\right )} + \\frac{\\epsilon_0 \\mu_0}{\\omega_m^{2} + k_{m}^{2}} \\left(K \\omega_m + \\Omega k_{m}\\right) \\sum_{m_{0}=-\\infty}^{\\infty} - 2 \\omega_m m_{0} \\tilde{E}{\\left (m_{0} \\right )} \\tilde{\\epsilon_r}{\\left (- m_{0} + n_{0} \\right )} + \\frac{\\epsilon_0 \\mu_0}{\\omega_m^{2} + k_{m}^{2}} \\left(K \\omega_m + \\Omega k_{m}\\right) \\sum_{m_{0}=-\\infty}^{\\infty} - 2 \\omega_m m_{0} \\tilde{E}{\\left (- m_{0} + n_{0} \\right )} \\tilde{\\epsilon_r}{\\left (m_{0} \\right )} + \\frac{\\epsilon_0 \\mu_0}{\\omega_m^{2} + k_{m}^{2}} \\left(K \\omega_m + \\Omega k_{m}\\right) \\sum_{m_{0}=-\\infty}^{\\infty} 2 \\omega_m n_{0} \\tilde{E}{\\left (m_{0} \\right )} \\tilde{\\epsilon_r}{\\left (- m_{0} + n_{0} \\right )} + \\frac{\\epsilon_0 \\mu_0}{\\omega_m^{2} + k_{m}^{2}} \\left(K \\omega_m + \\Omega k_{m}\\right) \\sum_{m_{0}=-\\infty}^{\\infty} 2 \\omega_m n_{0} \\tilde{E}{\\left (- m_{0} + n_{0} \\right )} \\tilde{\\epsilon_r}{\\left (m_{0} \\right )} + \\frac{\\epsilon_0 \\mu_0}{\\left(\\omega_m^{2} + k_{m}^{2}\\right)^{2}} \\left(K \\omega_m + \\Omega k_{m}\\right)^{2} \\sum_{m_{0}=-\\infty}^{\\infty} \\tilde{E}{\\left (m_{0} \\right )} \\tilde{\\epsilon_r}{\\left (- m_{0} + n_{0} \\right )} - \\frac{2 k_{m} n_{0}}{\\omega_m^{2} + k_{m}^{2}} \\left(K k_{m} - \\Omega \\omega_m\\right) \\tilde{E}{\\left (n_{0} \\right )} - \\left(k_{m}^{2} n_{0}^{2} + \\frac{\\left(K k_{m} - \\Omega \\omega_m\\right)^{2}}{\\left(\\omega_m^{2} + k_{m}^{2}\\right)^{2}}\\right) \\tilde{E}{\\left (n_{0} \\right )}$$"
      ],
      "text/plain": [
       "<IPython.core.display.Math object>"
      ]
     },
     "metadata": {},
     "output_type": "display_data"
    },
    {
     "data": {
      "text/latex": [
       "$$k(\\omega) = k - k_{m} m - n \\left(\\omega - \\omega_m m\\right)$$"
      ],
      "text/plain": [
       "<IPython.core.display.Math object>"
      ]
     },
     "metadata": {},
     "output_type": "display_data"
    },
    {
     "data": {
      "text/latex": [
       "$$K(\\Omega) = - k_{m} m - n \\left(- \\omega_m m + \\frac{K \\omega_m + \\Omega k_{m}}{\\omega_m^{2} + k_{m}^{2}}\\right) + \\frac{K k_{m} - \\Omega \\omega_m}{\\omega_m^{2} + k_{m}^{2}}$$"
      ],
      "text/plain": [
       "<IPython.core.display.Math object>"
      ]
     },
     "metadata": {},
     "output_type": "display_data"
    },
    {
     "data": {
      "text/latex": [
       "$$\\Omega(K)^+ = \\frac{1}{\\omega_m + k_{m} n} \\left(- K \\omega_m n + K k_{m} + \\omega_m^{3} m n - \\omega_m^{2} k_{m} m + \\omega_m k_{m}^{2} m n - k_{m}^{3} m\\right)$$"
      ],
      "text/plain": [
       "<IPython.core.display.Math object>"
      ]
     },
     "metadata": {},
     "output_type": "display_data"
    },
    {
     "data": {
      "text/latex": [
       "$$K(\\Omega)^+ = \\frac{1}{\\omega_m n - k_{m}} \\left(- \\Omega \\omega_m - \\Omega k_{m} n + \\omega_m^{3} m n - \\omega_m^{2} k_{m} m + \\omega_m k_{m}^{2} m n - k_{m}^{3} m\\right)$$"
      ],
      "text/plain": [
       "<IPython.core.display.Math object>"
      ]
     },
     "metadata": {},
     "output_type": "display_data"
    },
    {
     "data": {
      "text/latex": [
       "$$k(\\omega) = k - k_{m} m + n \\left(\\omega - \\omega_m m\\right)$$"
      ],
      "text/plain": [
       "<IPython.core.display.Math object>"
      ]
     },
     "metadata": {},
     "output_type": "display_data"
    },
    {
     "data": {
      "text/latex": [
       "$$K(\\Omega) = - k_{m} m + n \\left(- \\omega_m m + \\frac{K \\omega_m + \\Omega k_{m}}{\\omega_m^{2} + k_{m}^{2}}\\right) + \\frac{K k_{m} - \\Omega \\omega_m}{\\omega_m^{2} + k_{m}^{2}}$$"
      ],
      "text/plain": [
       "<IPython.core.display.Math object>"
      ]
     },
     "metadata": {},
     "output_type": "display_data"
    },
    {
     "data": {
      "text/latex": [
       "$$\\Omega(K)^- = \\frac{1}{\\omega_m - k_{m} n} \\left(K \\omega_m n + K k_{m} - \\omega_m^{3} m n - \\omega_m^{2} k_{m} m - \\omega_m k_{m}^{2} m n - k_{m}^{3} m\\right)$$"
      ],
      "text/plain": [
       "<IPython.core.display.Math object>"
      ]
     },
     "metadata": {},
     "output_type": "display_data"
    },
    {
     "data": {
      "text/latex": [
       "$$K(\\Omega)^- = \\frac{1}{\\omega_m n + k_{m}} \\left(\\Omega \\omega_m - \\Omega k_{m} n + \\omega_m^{3} m n + \\omega_m^{2} k_{m} m + \\omega_m k_{m}^{2} m n + k_{m}^{3} m\\right)$$"
      ],
      "text/plain": [
       "<IPython.core.display.Math object>"
      ]
     },
     "metadata": {},
     "output_type": "display_data"
    },
    {
     "data": {
      "text/latex": [
       "$$\\omega(k)^+ = \\frac{1}{n} \\left(\\omega_m m n + k - k_{m} m\\right)$$"
      ],
      "text/plain": [
       "<IPython.core.display.Math object>"
      ]
     },
     "metadata": {},
     "output_type": "display_data"
    },
    {
     "data": {
      "text/latex": [
       "$$k(\\omega)^+ = \\omega n - \\omega_m m n + k_{m} m$$"
      ],
      "text/plain": [
       "<IPython.core.display.Math object>"
      ]
     },
     "metadata": {},
     "output_type": "display_data"
    },
    {
     "data": {
      "text/latex": [
       "$$\\omega(k)^- = \\frac{1}{n} \\left(\\omega_m m n - k + k_{m} m\\right)$$"
      ],
      "text/plain": [
       "<IPython.core.display.Math object>"
      ]
     },
     "metadata": {},
     "output_type": "display_data"
    },
    {
     "data": {
      "text/latex": [
       "$$k(\\omega)^- = - \\omega n + \\omega_m m n + k_{m} m$$"
      ],
      "text/plain": [
       "<IPython.core.display.Math object>"
      ]
     },
     "metadata": {},
     "output_type": "display_data"
    },
    {
     "data": {
      "text/latex": [
       "$$k_{m0m1} = - \\frac{\\omega_m m_{0}}{2} n + \\frac{\\omega_m m_{1}}{2} n + \\frac{k_{m} m_{0}}{2} + \\frac{k_{m} m_{1}}{2}$$"
      ],
      "text/plain": [
       "<IPython.core.display.Math object>"
      ]
     },
     "metadata": {},
     "output_type": "display_data"
    },
    {
     "data": {
      "text/latex": [
       "$$eq_{bz}^- = \\frac{1}{k_{m}} \\left(\\omega + \\frac{\\omega_m}{2}\\right) + \\frac{1}{\\omega_m} \\left(k + \\frac{k_{m}}{2}\\right)$$"
      ],
      "text/plain": [
       "<IPython.core.display.Math object>"
      ]
     },
     "metadata": {},
     "output_type": "display_data"
    },
    {
     "data": {
      "text/latex": [
       "$$intersection~~k_{bz^-}^+ = \\frac{1}{\\omega_m + k_{m} n} \\left(- \\omega_m^{2} m n - \\frac{\\omega_m^{2} n}{2} + \\omega_m k_{m} m - \\frac{k_{m}^{2} n}{2}\\right)$$"
      ],
      "text/plain": [
       "<IPython.core.display.Math object>"
      ]
     },
     "metadata": {},
     "output_type": "display_data"
    },
    {
     "data": {
      "text/latex": [
       "$$intersection~~k_{bz^-}^- = \\frac{1}{\\omega_m - k_{m} n} \\left(\\omega_m^{2} m n + \\frac{\\omega_m^{2} n}{2} + \\omega_m k_{m} m + \\frac{k_{m}^{2} n}{2}\\right)$$"
      ],
      "text/plain": [
       "<IPython.core.display.Math object>"
      ]
     },
     "metadata": {},
     "output_type": "display_data"
    },
    {
     "name": "stdout",
     "output_type": "stream",
     "text": [
      "k_intsect_bzm_p(m=0) -1.01099326867919\n",
      "k_intsect_bzm_m(m=0) -0.990436950055004\n"
     ]
    }
   ],
   "source": [
    "\n",
    "from sympy import Symbol, symbols, Derivative, latex, exp, I, solve, lambdify, cos, sin\n",
    "from IPython.display import Math, display\n",
    "\n",
    "from Electromagnetics.FourierBlochND import *\n",
    "\n",
    "t, z = symbols('t z')\n",
    "E = symbols('E')\n",
    "omega, k, c = symbols(r'\\omega k c')\n",
    "eps_r, M = symbols(r'\\epsilon_r M')\n",
    "omega_m, k_m = symbols(r'\\omega_m k_m')\n",
    "mu_0, eps_0 = symbols(r'\\mu_0 \\epsilon_0', real=True)\n",
    "n_0 = symbols('n_0')\n",
    "phi_s = symbols(r'\\phi')\n",
    "\n",
    "EQ = Derivative(E, z, 2) - mu_0*eps_0*Derivative(eps_r*E, t, 2)\n",
    "\n",
    "display(Math('EQ = ' + latex(EQ)))\n",
    "\n",
    "BlochFact = exp(I*omega*t-I*k*z)\n",
    "EQ = EQ.subs(E, E*BlochFact)\n",
    "display(Math('EQ = ' + latex(EQ)))\n",
    "\n",
    "harmonic = exp(n_0*I*(omega_m*t-k_m*z))\n",
    "\n",
    "pde_FB = PDEFourierSeriesND(EQ, [E, eps_r], n_dim=1, harmonic=harmonic, usexyz=False)\n",
    "\n",
    "EQ_harm = pde_FB.putSums()#.doit()\n",
    "display(Math('EQ_\\\\text{harm} = ' + latex(EQ_harm)))\n",
    "\n",
    "EQ_harm = EQ_harm.doit()\n",
    "display(Math('EQ_\\\\text{harm} = ' + latex(EQ_harm)))\n",
    "\n",
    "EQ_harm = pde_FB.applyConvolutions(EQ_harm)\n",
    "display(Math('EQ_\\\\text{harm} = ' + latex(EQ_harm)))\n",
    "\n",
    "EQ_harm = (pde_FB.applyOrthogonalities(EQ_harm)/BlochFact).simplify()\n",
    "display(Math('EQ_\\\\text{harm} = ' + latex(EQ_harm)))\n",
    "\n",
    "E_tilde, eps_r_tilde = pde_FB.varsHarm\n",
    "display(Math(latex(E_tilde) + '~~~~' + latex(eps_r_tilde)))\n",
    "\n",
    "Omega, K = symbols(r'\\Omega K')\n",
    "\n",
    "K_sub = k*k_m + omega*omega_m\n",
    "Omega_sub = -k*omega_m + omega*k_m\n",
    "display(Math('K = ' + latex(K_sub)))\n",
    "display(Math(r'\\Omega = ' + latex(Omega_sub)))\n",
    "#phi_s_sub = np.arccos(d_k/(d_k**2 + d_wc**2))\n",
    "\n",
    "k_omega_sub = solve([K_sub-K, Omega_sub-Omega], [k, omega])\n",
    "k_sub = k_omega_sub[k]\n",
    "omega_sub = k_omega_sub[omega]\n",
    "\n",
    "\n",
    "display(Math('k = ' + latex(k_sub)))\n",
    "display(Math(r'\\omega = ' + latex(omega_sub)))\n",
    "\n",
    "\n",
    "EQ_harm_kw = EQ_harm\n",
    "EQ_harm_KW = EQ_harm.subs([(k, k_sub), (omega, omega_sub)])\n",
    "display(Math('EQ_\\\\text{harm} = ' + latex(EQ_harm_KW)))\n",
    "\n",
    "EQ_harm_kw = EQ_harm_kw.subs([(eps_0, 1), (mu_0, 1), (omega_m, d_wc), (k_m, d_k)])\n",
    "EQ_harm_KW = EQ_harm_KW.subs([(eps_0, 1), (mu_0, 1), (omega_m, d_wc), (k_m, d_k)])\n",
    "omega_sub_fun = lambdify((K, Omega), omega_sub.subs([(omega_m, d_wc), (k_m, d_k)]), modules='numpy')\n",
    "k_sub_fun = lambdify((K, Omega), k_sub.subs([(omega_m, d_wc), (k_m, d_k)]), modules='numpy')\n",
    "Omega_sub_fun = lambdify((k, omega), Omega_sub.subs([(omega_m, d_wc), (k_m, d_k)]), modules='numpy')\n",
    "K_sub_fun = lambdify((k, omega), K_sub.subs([(omega_m, d_wc), (k_m, d_k)]), modules='numpy')\n",
    "\n",
    "n_sym, m = symbols('n m')\n",
    "\n",
    "## c=1 ---> w, w_m normalized to c\n",
    "eq_KW = (k-m*k_m) - (omega-m*omega_m)*n_sym\n",
    "display(Math(r'k(\\omega) = ' + latex(eq_KW)))\n",
    "eq_KW = eq_KW.subs([(k, k_sub), (omega, omega_sub)])\n",
    "display(Math(r'K(\\Omega) = ' + latex(eq_KW)))\n",
    "Omega__K_p = solve(eq_KW, Omega)[0]\n",
    "K__Omega_p = solve(eq_KW, K)[0]\n",
    "display(Math(r'\\Omega(K)^+ = ' + latex(Omega__K_p)))\n",
    "display(Math(r'K(\\Omega)^+ = ' + latex(K__Omega_p)))\n",
    "\n",
    "eq_KW = (k-m*k_m) + (omega-m*omega_m)*n_sym\n",
    "display(Math(r'k(\\omega) = ' + latex(eq_KW)))\n",
    "eq_KW = eq_KW.subs([(k, k_sub), (omega, omega_sub)])\n",
    "display(Math(r'K(\\Omega) = ' + latex(eq_KW)))\n",
    "Omega__K_m = solve(eq_KW, Omega)[0]\n",
    "K__Omega_m = solve(eq_KW, K)[0]\n",
    "display(Math(r'\\Omega(K)^- = ' + latex(Omega__K_m)))\n",
    "display(Math(r'K(\\Omega)^- = ' + latex(K__Omega_m)))\n",
    "\n",
    "Omega__K_p_fun = lambdify((K, m), Omega__K_p.subs([(omega_m, d_wc), (k_m, d_k), (n_sym, n)]), modules='numpy')\n",
    "Omega__K_m_fun = lambdify((K, m), Omega__K_m.subs([(omega_m, d_wc), (k_m, d_k), (n_sym, n)]), modules='numpy')\n",
    "K__Omega_p_fun = lambdify((Omega, m), K__Omega_p.subs([(omega_m, d_wc), (k_m, d_k), (n_sym, n)]), modules='numpy')\n",
    "K__Omega_m_fun = lambdify((Omega, m), K__Omega_m.subs([(omega_m, d_wc), (k_m, d_k), (n_sym, n)]), modules='numpy')\n",
    "\n",
    "eq_kw = (k-m*k_m) - (omega-m*omega_m)*n_sym\n",
    "omega__k_p = solve(eq_kw, omega)[0]\n",
    "k__omega_p = solve(eq_kw, k)[0]\n",
    "display(Math(r'\\omega(k)^+ = ' + latex(omega__k_p)))\n",
    "display(Math(r'k(\\omega)^+ = ' + latex(k__omega_p)))\n",
    "\n",
    "eq_kw = (k-m*k_m) + (omega-m*omega_m)*n_sym\n",
    "omega__k_m = solve(eq_kw, omega)[0]\n",
    "k__omega_m = solve(eq_kw, k)[0]\n",
    "display(Math(r'\\omega(k)^- = ' + latex(omega__k_m)))\n",
    "display(Math(r'k(\\omega)^- = ' + latex(k__omega_m)))\n",
    "\n",
    "omega__k_p_fun = lambdify((k, m), omega__k_p.subs([(omega_m, d_wc), (k_m, d_k), (n_sym, n)]), modules='numpy')\n",
    "omega__k_m_fun = lambdify((k, m), omega__k_m.subs([(omega_m, d_wc), (k_m, d_k), (n_sym, n)]), modules='numpy')\n",
    "k__omega_p_fun = lambdify((omega, m), k__omega_p.subs([(omega_m, d_wc), (k_m, d_k), (n_sym, n)]), modules='numpy')\n",
    "k__omega_m_fun = lambdify((omega, m), k__omega_m.subs([(omega_m, d_wc), (k_m, d_k), (n_sym, n)]), modules='numpy')\n",
    "\n",
    "m0, m1 = symbols('m_0 m_1')\n",
    "k_m0m1 = solve((omega__k_p.subs(m, m0)-omega__k_m.subs(m, m1)), k)[0]\n",
    "display(Math(r'k_{m0m1} = ' + latex(k_m0m1)))\n",
    "k_m0m1_fun = lambdify((m0, m1), k_m0m1.subs([(omega_m, d_wc), (k_m, d_k), (n_sym, n)]), modules='numpy')\n",
    "\n",
    "## Brillouine zone intersections\n",
    "#p1 = [d_k, d_w/c]/2, p2= p1 + [-p1_y, p1_x]\n",
    "eq_bz_m = (k+k_m/2)/omega_m + (omega+omega_m/2)/k_m\n",
    "display(Math(r'eq_{bz}^- = ' + latex(eq_bz_m)))\n",
    "\n",
    "k_intsect_bzm_p = solve(omega__k_p - solve(eq_bz_m, omega)[0], k)[0]\n",
    "display(Math(r'intersection~~k_{bz^-}^+ = ' + latex(k_intsect_bzm_p)))\n",
    "k_intsect_bzm_m = solve(omega__k_m - solve(eq_bz_m, omega)[0], k)[0]\n",
    "display(Math(r'intersection~~k_{bz^-}^- = ' + latex(k_intsect_bzm_m)))\n",
    "\n",
    "k_intsect_bzm_p_fun = lambdify(m, k_intsect_bzm_p.subs([(omega_m, d_wc), (k_m, d_k), (n_sym, n)]), modules='numpy')\n",
    "k_intsect_bzm_m_fun = lambdify(m, k_intsect_bzm_m.subs([(omega_m, d_wc), (k_m, d_k), (n_sym, n)]), modules='numpy')\n",
    "\n",
    "print('k_intsect_bzm_p(m=0)', k_intsect_bzm_p_fun(0))\n",
    "print('k_intsect_bzm_m(m=0)', k_intsect_bzm_m_fun(0))\n"
   ]
  },
  {
   "cell_type": "markdown",
   "metadata": {},
   "source": [
    "### Dispersion curves"
   ]
  },
  {
   "cell_type": "code",
   "execution_count": 24,
   "metadata": {
    "collapsed": false
   },
   "outputs": [
    {
     "name": "stdout",
     "output_type": "stream",
     "text": [
      "0/100 "
     ]
    },
    {
     "name": "stderr",
     "output_type": "stream",
     "text": [
      "/home/nima/ipython workspace/Electromagnetics/FourierBlochND.py:1824: OptimizeWarning: Unknown solver options: maxiter, ftol\n",
      "  options={'maxfev':maxfev, 'maxiter':maxiter, 'ftol': ftol})\n"
     ]
    },
    {
     "name": "stdout",
     "output_type": "stream",
     "text": [
      "1/100 2/100 3/100 4/100 5/100 6/100 7/100 8/100 "
     ]
    },
    {
     "ename": "KeyboardInterrupt",
     "evalue": "",
     "output_type": "error",
     "traceback": [
      "\u001b[0;31m---------------------------------------------------------------------------\u001b[0m",
      "\u001b[0;31mKeyboardInterrupt\u001b[0m                         Traceback (most recent call last)",
      "\u001b[0;32m<ipython-input-24-0f91fc017d58>\u001b[0m in \u001b[0;36m<module>\u001b[0;34m()\u001b[0m\n\u001b[1;32m    138\u001b[0m         \u001b[0meigvar_vals_0\u001b[0m \u001b[0;34m=\u001b[0m \u001b[0;34m[\u001b[0m\u001b[0mW_appr\u001b[0m\u001b[0;34m+\u001b[0m\u001b[0mdW_appr\u001b[0m\u001b[0;34m+\u001b[0m\u001b[0;36m1.0e-15j\u001b[0m\u001b[0;34m]\u001b[0m\u001b[0;34m\u001b[0m\u001b[0m\n\u001b[1;32m    139\u001b[0m \u001b[0;34m\u001b[0m\u001b[0m\n\u001b[0;32m--> 140\u001b[0;31m         \u001b[0mres\u001b[0m \u001b[0;34m=\u001b[0m \u001b[0mpde_FB\u001b[0m\u001b[0;34m.\u001b[0m\u001b[0msolveDeterminant\u001b[0m\u001b[0;34m(\u001b[0m\u001b[0meigvar_vals_0\u001b[0m\u001b[0;34m,\u001b[0m \u001b[0mA_eqs_list\u001b[0m\u001b[0;34m,\u001b[0m \u001b[0msolver\u001b[0m\u001b[0;34m=\u001b[0m\u001b[0msolver\u001b[0m\u001b[0;34m,\u001b[0m \u001b[0mhandle_overflow\u001b[0m\u001b[0;34m=\u001b[0m\u001b[0mhandle_overflow\u001b[0m\u001b[0;34m,\u001b[0m                                       \u001b[0mroots_prev\u001b[0m\u001b[0;34m=\u001b[0m\u001b[0mroots_prev_p\u001b[0m\u001b[0;34m,\u001b[0m \u001b[0mtol\u001b[0m\u001b[0;34m=\u001b[0m\u001b[0mtol\u001b[0m\u001b[0;34m,\u001b[0m \u001b[0mmaxiter\u001b[0m\u001b[0;34m=\u001b[0m\u001b[0mmaxiter\u001b[0m\u001b[0;34m,\u001b[0m \u001b[0mmaxfev\u001b[0m\u001b[0;34m=\u001b[0m\u001b[0mmaxfev\u001b[0m\u001b[0;34m,\u001b[0m                                      \u001b[0mgetMats\u001b[0m\u001b[0;34m=\u001b[0m\u001b[0;32mTrue\u001b[0m\u001b[0;34m,\u001b[0m \u001b[0mtol_relative\u001b[0m\u001b[0;34m=\u001b[0m\u001b[0mtol_relative\u001b[0m\u001b[0;34m)\u001b[0m\u001b[0;34m\u001b[0m\u001b[0m\n\u001b[0m\u001b[1;32m    141\u001b[0m         \u001b[0mOmega_i\u001b[0m \u001b[0;34m=\u001b[0m \u001b[0mres\u001b[0m\u001b[0;34m[\u001b[0m\u001b[0;36m0\u001b[0m\u001b[0;34m]\u001b[0m\u001b[0;34m[\u001b[0m\u001b[0;36m0\u001b[0m\u001b[0;34m]\u001b[0m\u001b[0;34m\u001b[0m\u001b[0m\n\u001b[1;32m    142\u001b[0m \u001b[0;34m\u001b[0m\u001b[0m\n",
      "\u001b[0;32m/home/nima/ipython workspace/Electromagnetics/FourierBlochND.py\u001b[0m in \u001b[0;36msolveDeterminant\u001b[0;34m(self, eigvar_vals_0, A_eqs_list, solver, handle_overflow, roots_prev, tol, tol_relative, maxiter, ftol, maxfev, getMats)\u001b[0m\n\u001b[1;32m   1779\u001b[0m                 \u001b[0;32mraise\u001b[0m \u001b[0mValueError\u001b[0m\u001b[0;34m(\u001b[0m\u001b[0;34m'Available methods: {0}'\u001b[0m\u001b[0;34m.\u001b[0m\u001b[0mformat\u001b[0m\u001b[0;34m(\u001b[0m\u001b[0mmethods_list\u001b[0m\u001b[0;34m)\u001b[0m\u001b[0;34m)\u001b[0m\u001b[0;34m\u001b[0m\u001b[0m\n\u001b[1;32m   1780\u001b[0m             \u001b[0mdet_0\u001b[0m \u001b[0;34m=\u001b[0m \u001b[0mself\u001b[0m\u001b[0;34m.\u001b[0m\u001b[0mgetDeterminant\u001b[0m\u001b[0;34m(\u001b[0m\u001b[0meigvar_vals_0\u001b[0m\u001b[0;34m,\u001b[0m \u001b[0mA_eqs_list\u001b[0m\u001b[0;34m)\u001b[0m\u001b[0;34m\u001b[0m\u001b[0m\n\u001b[0;32m-> 1781\u001b[0;31m             \u001b[0mlog_det_0\u001b[0m \u001b[0;34m=\u001b[0m \u001b[0mself\u001b[0m\u001b[0;34m.\u001b[0m\u001b[0mgetLogDeterminant\u001b[0m\u001b[0;34m(\u001b[0m\u001b[0meigvar_vals_0\u001b[0m\u001b[0;34m,\u001b[0m \u001b[0mA_eqs_list\u001b[0m\u001b[0;34m)\u001b[0m\u001b[0;34m\u001b[0m\u001b[0m\n\u001b[0m\u001b[1;32m   1782\u001b[0m             \u001b[0;31m#print(\"xxxxxx det_0\", det_0,  \"  log_det_0: \", log_det_0)\u001b[0m\u001b[0;34m\u001b[0m\u001b[0;34m\u001b[0m\u001b[0m\n\u001b[1;32m   1783\u001b[0m             \u001b[0;32mdef\u001b[0m \u001b[0mf\u001b[0m\u001b[0;34m(\u001b[0m\u001b[0mx_ri\u001b[0m\u001b[0;34m)\u001b[0m\u001b[0;34m:\u001b[0m\u001b[0;34m\u001b[0m\u001b[0m\n",
      "\u001b[0;32m/home/nima/ipython workspace/Electromagnetics/FourierBlochND.py\u001b[0m in \u001b[0;36mgetLogDeterminant\u001b[0;34m(self, eigvar_vals, A_eqs_list)\u001b[0m\n\u001b[1;32m   1713\u001b[0m                 \u001b[0mC\u001b[0m \u001b[0;34m=\u001b[0m \u001b[0mcomplex\u001b[0m\u001b[0;34m(\u001b[0m\u001b[0mA_eig_dense_list\u001b[0m\u001b[0;34m[\u001b[0m\u001b[0mi\u001b[0m\u001b[0;34m]\u001b[0m\u001b[0;34m[\u001b[0m\u001b[0;36m0\u001b[0m\u001b[0;34m]\u001b[0m\u001b[0;34m.\u001b[0m\u001b[0mevalf\u001b[0m\u001b[0;34m(\u001b[0m\u001b[0msubs\u001b[0m\u001b[0;34m=\u001b[0m\u001b[0mdict\u001b[0m\u001b[0;34m(\u001b[0m\u001b[0mzip\u001b[0m\u001b[0;34m(\u001b[0m\u001b[0meig_vars\u001b[0m\u001b[0;34m,\u001b[0m \u001b[0meigvar_vals\u001b[0m\u001b[0;34m)\u001b[0m\u001b[0;34m)\u001b[0m\u001b[0;34m)\u001b[0m\u001b[0;34m)\u001b[0m\u001b[0;34m\u001b[0m\u001b[0m\n\u001b[1;32m   1714\u001b[0m                 \u001b[0mA_tot\u001b[0m \u001b[0;34m+=\u001b[0m  \u001b[0mC\u001b[0m\u001b[0;34m*\u001b[0m\u001b[0mA_eig_dense_list\u001b[0m\u001b[0;34m[\u001b[0m\u001b[0mi\u001b[0m\u001b[0;34m]\u001b[0m\u001b[0;34m[\u001b[0m\u001b[0;36m1\u001b[0m\u001b[0;34m]\u001b[0m\u001b[0;34m\u001b[0m\u001b[0m\n\u001b[0;32m-> 1715\u001b[0;31m             \u001b[0mP\u001b[0m\u001b[0;34m,\u001b[0m \u001b[0mL\u001b[0m\u001b[0;34m,\u001b[0m \u001b[0mU\u001b[0m \u001b[0;34m=\u001b[0m \u001b[0mplu\u001b[0m \u001b[0;34m=\u001b[0m \u001b[0mlinalg\u001b[0m\u001b[0;34m.\u001b[0m\u001b[0mlu\u001b[0m\u001b[0;34m(\u001b[0m\u001b[0mA_tot\u001b[0m\u001b[0;34m)\u001b[0m\u001b[0;34m\u001b[0m\u001b[0m\n\u001b[0m\u001b[1;32m   1716\u001b[0m             \u001b[0mlog_det\u001b[0m \u001b[0;34m=\u001b[0m \u001b[0;36m0.0\u001b[0m\u001b[0;34m\u001b[0m\u001b[0m\n\u001b[1;32m   1717\u001b[0m             \u001b[0;32mfor\u001b[0m \u001b[0mi\u001b[0m \u001b[0;32min\u001b[0m \u001b[0mrange\u001b[0m\u001b[0;34m(\u001b[0m\u001b[0mA_tot\u001b[0m\u001b[0;34m.\u001b[0m\u001b[0mshape\u001b[0m\u001b[0;34m[\u001b[0m\u001b[0;36m0\u001b[0m\u001b[0;34m]\u001b[0m\u001b[0;34m)\u001b[0m\u001b[0;34m:\u001b[0m\u001b[0;34m\u001b[0m\u001b[0m\n",
      "\u001b[0;32m/usr/local/lib/python3.5/dist-packages/scipy/linalg/decomp_lu.py\u001b[0m in \u001b[0;36mlu\u001b[0;34m(a, permute_l, overwrite_a, check_finite)\u001b[0m\n\u001b[1;32m    183\u001b[0m     \u001b[0moverwrite_a\u001b[0m \u001b[0;34m=\u001b[0m \u001b[0moverwrite_a\u001b[0m \u001b[0;32mor\u001b[0m \u001b[0;34m(\u001b[0m\u001b[0m_datacopied\u001b[0m\u001b[0;34m(\u001b[0m\u001b[0ma1\u001b[0m\u001b[0;34m,\u001b[0m \u001b[0ma\u001b[0m\u001b[0;34m)\u001b[0m\u001b[0;34m)\u001b[0m\u001b[0;34m\u001b[0m\u001b[0m\n\u001b[1;32m    184\u001b[0m     \u001b[0mflu\u001b[0m\u001b[0;34m,\u001b[0m \u001b[0;34m=\u001b[0m \u001b[0mget_flinalg_funcs\u001b[0m\u001b[0;34m(\u001b[0m\u001b[0;34m(\u001b[0m\u001b[0;34m'lu'\u001b[0m\u001b[0;34m,\u001b[0m\u001b[0;34m)\u001b[0m\u001b[0;34m,\u001b[0m \u001b[0;34m(\u001b[0m\u001b[0ma1\u001b[0m\u001b[0;34m,\u001b[0m\u001b[0;34m)\u001b[0m\u001b[0;34m)\u001b[0m\u001b[0;34m\u001b[0m\u001b[0m\n\u001b[0;32m--> 185\u001b[0;31m     \u001b[0mp\u001b[0m\u001b[0;34m,\u001b[0m \u001b[0ml\u001b[0m\u001b[0;34m,\u001b[0m \u001b[0mu\u001b[0m\u001b[0;34m,\u001b[0m \u001b[0minfo\u001b[0m \u001b[0;34m=\u001b[0m \u001b[0mflu\u001b[0m\u001b[0;34m(\u001b[0m\u001b[0ma1\u001b[0m\u001b[0;34m,\u001b[0m \u001b[0mpermute_l\u001b[0m\u001b[0;34m=\u001b[0m\u001b[0mpermute_l\u001b[0m\u001b[0;34m,\u001b[0m \u001b[0moverwrite_a\u001b[0m\u001b[0;34m=\u001b[0m\u001b[0moverwrite_a\u001b[0m\u001b[0;34m)\u001b[0m\u001b[0;34m\u001b[0m\u001b[0m\n\u001b[0m\u001b[1;32m    186\u001b[0m     \u001b[0;32mif\u001b[0m \u001b[0minfo\u001b[0m \u001b[0;34m<\u001b[0m \u001b[0;36m0\u001b[0m\u001b[0;34m:\u001b[0m\u001b[0;34m\u001b[0m\u001b[0m\n\u001b[1;32m    187\u001b[0m         raise ValueError('illegal value in %d-th argument of '\n",
      "\u001b[0;31mKeyboardInterrupt\u001b[0m: "
     ]
    }
   ],
   "source": [
    "### set K  get Omega\n",
    "\n",
    "solver = 'hybr'\n",
    "maxiter = 4000\n",
    "maxfev = 4000\n",
    "tol = 1.0e-13\n",
    "handle_overflow = False\n",
    "tol_relative = True\n",
    "\n",
    "\n",
    "Ns = [32]\n",
    "#print(d_wc)\n",
    "\n",
    "def eps_r_fun(x):\n",
    "    z_ = x[0]\n",
    "    return n**2*(1.0+0.5*np.cos(d_k*z_))\n",
    "\n",
    "\n",
    "eps_r_harm_vec = pde_FB.getFourierCoeffs(eps_r_fun, [0.0], [(2.0*np.pi)/d_k], Ns)\n",
    "#plot(np.abs(eps_r_harm_vec))\n",
    "\n",
    "n_K = 100 #even\n",
    "K_i_arr = np.linspace(-1.0, 1.0, n_K)*np.sqrt(d_k**2 + d_wc**2)\n",
    "\n",
    "_N_pp = 5\n",
    "\n",
    "eig_points_kp = np.zeros((2*_N_pp+1, n_K), dtype=complex)\n",
    "eig_points_wp = np.zeros((2*_N_pp+1, n_K), dtype=complex)\n",
    "eig_points_km = np.zeros((2*_N_pp+1, n_K), dtype=complex)\n",
    "eig_points_wm = np.zeros((2*_N_pp+1, n_K), dtype=complex)\n",
    "\n",
    "\n",
    "ind_p_now, ind_m_now = [None]*(2*_N_pp+1), [None]*(2*_N_pp+1)\n",
    "p_porm_now, m_porm_now = [None]*(2*_N_pp+1), [None]*(2*_N_pp+1)\n",
    "k_p_now, k_m_now = [None]*(2*_N_pp+1), [None]*(2*_N_pp+1)\n",
    "ind_p_next, ind_m_next = [None]*(2*_N_pp+1), [None]*(2*_N_pp+1)\n",
    "p_porm_next, m_porm_next = [None]*(2*_N_pp+1), [None]*(2*_N_pp+1)\n",
    "k_p_next, k_m_next = [None]*(2*_N_pp+1), [None]*(2*_N_pp+1)\n",
    "for j in range(-_N_pp, _N_pp+1):\n",
    "    k_j_bz = k_intsect_bzm_p_fun(j)\n",
    "    ind_p_now[j+_N_pp] = j\n",
    "    p_porm_now[j+_N_pp] = '+'\n",
    "    ind_p_next[j+_N_pp] = None\n",
    "    \n",
    "    for i in range(-100, 100):\n",
    "        if k_m0m1_fun(j, i)<=k_j_bz<k_m0m1_fun(j, i+1):\n",
    "            ind_p_next[j+_N_pp] = i+1\n",
    "            break\n",
    "    \n",
    "    p_porm_next[j+_N_pp] = '-'\n",
    "    k_p_next[j+_N_pp] = k_m0m1_fun(ind_p_now[j+_N_pp], ind_p_next[j+_N_pp])\n",
    "    k_p_now[j+_N_pp] = k_m0m1_fun(ind_p_now[j+_N_pp], ind_p_next[j+_N_pp]-1)\n",
    "    #print(j, 'k_j_bz:', k_j_bz, 'ind_p_now:', ind_p_now[j+_N_pp], 'ind_p_next:', ind_p_next[j+_N_pp], 'k_p_next:', k_p_next[j+_N_pp])\n",
    "\n",
    "for j in range(-_N_pp, _N_pp+1):\n",
    "    k_j_bz = k_intsect_bzm_m_fun(j)\n",
    "    ind_m_now[j+_N_pp] = j\n",
    "    m_porm_now[j+_N_pp] = '-'\n",
    "    ind_m_next[j+_N_pp] = None\n",
    "    \n",
    "    for i in range(-20, 20):\n",
    "        if k_m0m1_fun(i, j)<=k_j_bz<k_m0m1_fun(i+1,j):\n",
    "            ind_m_next[j+_N_pp] = i+1\n",
    "            break\n",
    "    \n",
    "    m_porm_next[j+_N_pp] = '+'\n",
    "    k_m_next[j+_N_pp] = k_m0m1_fun(ind_m_next[j+_N_pp], ind_m_now[j+_N_pp])\n",
    "    k_m_now[j+_N_pp] = k_m0m1_fun(ind_m_next[j+_N_pp]-1, ind_m_now[j+_N_pp])\n",
    "    #print(j, 'k_j_bz:', k_j_bz, 'ind_m_now:', ind_m_now[j+_N_pp], 'ind_m_next:', ind_m_next[j+_N_pp], 'k_m_next:', k_m_next[j+_N_pp])\n",
    "\n",
    "    \n",
    "dW_eps = 0.2\n",
    "    \n",
    "for i_K in range(n_K):\n",
    "    print(\"{}/{}\".format(i_K, n_K), end=' ')\n",
    "    K_i = K_i_arr[i_K]\n",
    "    EQ_fin = EQ_harm_KW.subs(K, K_i)\n",
    "\n",
    "    expr_list = [EQ_fin]\n",
    "    vars = [E_tilde]\n",
    "    pars = [eps_r_tilde]\n",
    "    pars_vecs = [eps_r_harm_vec]\n",
    "    eig_vars = [Omega]\n",
    "    pde_FB.setupNumericalParameters(expr_list, Ns, vars, pars, pars_vecs, eig_vars)\n",
    "    pde_FB.calculateDenseMatrices = True\n",
    "\n",
    "    A_mat_list = pde_FB.orthogonalToNumpyMatrix()\n",
    "\n",
    "    A_eqs_list = [A_mat_list]\n",
    "    roots_prev_p = []\n",
    "    roots_prev_m = []\n",
    "\n",
    "    for j in range(-_N_pp, _N_pp+1):\n",
    "        _j_ = ind_p_now[j+_N_pp]\n",
    "        k_appr, W_appr, dW_appr = None, None, None\n",
    "        if p_porm_now[j+_N_pp]=='+':\n",
    "            W_appr = Omega__K_p_fun(K_i, _j_)\n",
    "            k_appr = k_sub_fun(K_i, W_appr)\n",
    "            if abs(k_appr - k_p_next[j+_N_pp])>abs(k_appr - k_p_now[j+_N_pp]):\n",
    "                dW_appr = +abs(k_appr - k_p_next[j+_N_pp])/abs(k_p_next[j+_N_pp] - k_p_now[j+_N_pp])*dW_eps\n",
    "            else:\n",
    "                dW_appr = -abs(k_appr - k_p_now[j+_N_pp])/abs(k_p_next[j+_N_pp] - k_p_now[j+_N_pp])*dW_eps\n",
    "        else:\n",
    "            W_appr = Omega__K_m_fun(K_i, _j_)\n",
    "            k_appr = k_sub_fun(K_i, W_appr)\n",
    "            if abs(k_appr - k_p_next[j+_N_pp])>abs(k_appr - k_p_now[j+_N_pp]):\n",
    "                dW_appr = -abs(k_appr - k_p_next[j+_N_pp])/abs(k_p_next[j+_N_pp] - k_p_now[j+_N_pp])*dW_eps\n",
    "            else:\n",
    "                dW_appr = +abs(k_appr - k_p_now[j+_N_pp])/abs(k_p_next[j+_N_pp] - k_p_now[j+_N_pp])*dW_eps\n",
    "        dW_appr *= abs(k_appr - 0.5*(k_p_now[j+_N_pp]+k_p_next[j+_N_pp]))/abs(k_p_next[j+_N_pp] - k_p_now[j+_N_pp])\n",
    "            \n",
    "        if k_appr>k_p_next[j+_N_pp]:\n",
    "            _j_ = ind_p_next[j+_N_pp]\n",
    "            if p_porm_next[j+_N_pp]=='+':\n",
    "                W_appr = Omega__K_p_fun(K_i, _j_)\n",
    "                k_appr = k_sub_fun(K_i, W_appr)\n",
    "            else:\n",
    "                W_appr = Omega__K_m_fun(K_i, _j_)\n",
    "                k_appr = k_sub_fun(K_i, W_appr)\n",
    "            ind_p_now_saved = ind_p_now[j+_N_pp]\n",
    "            ind_p_now[j+_N_pp] = ind_p_next[j+_N_pp]\n",
    "            p_porm_now[j+_N_pp] = p_porm_next[j+_N_pp]\n",
    "            k_p_now[j+_N_pp] = k_p_next[j+_N_pp]\n",
    "            if p_porm_next[j+_N_pp]=='-':\n",
    "                k_p_next[j+_N_pp] += k_m0m1_fun(1, 0)\n",
    "                p_porm_next[j+_N_pp] = '+'\n",
    "                ind_p_next[j+_N_pp] = ind_p_now_saved+1\n",
    "            else:\n",
    "                k_p_next[j+_N_pp] += k_m0m1_fun(0, 1)\n",
    "                p_porm_next[j+_N_pp] = '-'\n",
    "                ind_p_next[j+_N_pp] = ind_p_now_saved+1\n",
    "            #print('ind_p_now:', ind_p_now[j+_N_pp], 'ind_p_next:', ind_p_next[j+_N_pp], 'k_p_next:', k_p_next[j+_N_pp])\n",
    "            \n",
    "            \n",
    "        #if i_K>0:\n",
    "        #    W_appr = Omega_sub_fun(eig_points_kp[j+_N_pp, i_K-1], eig_points_wp[j+_N_pp, i_K-1])\n",
    "\n",
    "        eigvar_vals_0 = [W_appr+dW_appr+1.0e-15j]\n",
    "        \n",
    "        res = pde_FB.solveDeterminant(eigvar_vals_0, A_eqs_list, solver=solver, handle_overflow=handle_overflow, \\\n",
    "                                      roots_prev=roots_prev_p, tol=tol, maxiter=maxiter, maxfev=maxfev,\\\n",
    "                                      getMats=True, tol_relative=tol_relative)\n",
    "        Omega_i = res[0][0]\n",
    "\n",
    "        k_i = k_sub_fun(K_i, Omega_i)\n",
    "        w_i = omega_sub_fun(K_i, Omega_i)\n",
    "\n",
    "        #print('k_i, omega_i: ', (k_i.real, w_i.real), np.abs(res[1][0]))\n",
    "        #roots_prev_p.append([np.real(Omega_i)])\n",
    "        eig_points_kp[j+_N_pp, i_K] = k_i\n",
    "        eig_points_wp[j+_N_pp, i_K] = w_i\n",
    "\n",
    "        #if K_i==0.0 and j==0:\n",
    "        #    continue\n",
    "\n",
    "        _j_ = ind_m_now[j+_N_pp]\n",
    "        k_appr, W_appr = None, None\n",
    "        if m_porm_now[j+_N_pp]=='+':\n",
    "            W_appr = Omega__K_p_fun(K_i, _j_)\n",
    "            k_appr = k_sub_fun(K_i, W_appr)\n",
    "            if abs(k_appr - k_m_next[j+_N_pp])>abs(k_appr - k_m_now[j+_N_pp]):\n",
    "                dW_appr = +abs(k_appr - k_m_next[j+_N_pp])/abs(k_m_next[j+_N_pp] - k_m_now[j+_N_pp])*dW_eps\n",
    "            else:\n",
    "                dW_appr = -abs(k_appr - k_m_now[j+_N_pp])/abs(k_m_next[j+_N_pp] - k_m_now[j+_N_pp])*dW_eps\n",
    "        else:\n",
    "            W_appr = Omega__K_m_fun(K_i, _j_)\n",
    "            k_appr = k_sub_fun(K_i, W_appr)\n",
    "            if abs(k_appr - k_m_next[j+_N_pp])>abs(k_appr - k_m_now[j+_N_pp]):\n",
    "                dW_appr = -abs(k_appr - k_m_next[j+_N_pp])/abs(k_m_next[j+_N_pp] - k_m_now[j+_N_pp])*dW_eps\n",
    "            else:\n",
    "                dW_appr = +abs(k_appr - k_m_now[j+_N_pp])/abs(k_m_next[j+_N_pp] - k_m_now[j+_N_pp])*dW_eps\n",
    "        dW_appr *= abs(k_appr - 0.5*(k_m_now[j+_N_pp]+k_m_next[j+_N_pp]))/abs(k_m_next[j+_N_pp] - k_m_now[j+_N_pp])\n",
    "            \n",
    "        if k_appr>k_m_next[j+_N_pp]:\n",
    "            _j_ = ind_m_next[j+_N_pp]\n",
    "            if m_porm_next[j+_N_pp]=='+':\n",
    "                W_appr = Omega__K_p_fun(K_i, _j_)\n",
    "                k_appr = k_sub_fun(K_i, W_appr)\n",
    "            else:\n",
    "                W_appr = Omega__K_m_fun(K_i, _j_)\n",
    "                k_appr = k_sub_fun(K_i, W_appr)\n",
    "            ind_m_now_saved = ind_m_now[j+_N_pp]\n",
    "            ind_m_now[j+_N_pp] = ind_m_next[j+_N_pp]\n",
    "            m_porm_now[j+_N_pp] = m_porm_next[j+_N_pp]\n",
    "            k_m_now[j+_N_pp] = k_m_next[j+_N_pp]\n",
    "            if m_porm_next[j+_N_pp]=='-':\n",
    "                k_m_next[j+_N_pp] += k_m0m1_fun(1, 0)\n",
    "                m_porm_next[j+_N_pp] = '+'\n",
    "                ind_m_next[j+_N_pp] = ind_m_now_saved+1\n",
    "            else:\n",
    "                k_m_next[j+_N_pp] += k_m0m1_fun(0, 1)\n",
    "                m_porm_next[j+_N_pp] = '-'\n",
    "                ind_m_next[j+_N_pp] = ind_m_now_saved+1\n",
    "            #print('ind_m_now:', ind_m_now[j+_N_pp], 'ind_m_next:', ind_m_next[j+_N_pp], 'k_m_next:', k_m_next[j+_N_pp])\n",
    "            \n",
    "        #if i_K>0:\n",
    "        #    W_appr = Omega_sub_fun(eig_points_km[j+_N_pp, i_K-1], eig_points_wm[j+_N_pp, i_K-1])\n",
    "\n",
    "        eigvar_vals_0 = [W_appr+dW_appr+1.0e-15j]\n",
    "\n",
    "        res = pde_FB.solveDeterminant(eigvar_vals_0, A_eqs_list, solver=solver, handle_overflow=handle_overflow, \\\n",
    "                                      roots_prev=roots_prev_m, tol=tol, maxiter=maxiter, maxfev=maxfev,\\\n",
    "                                      getMats=True, tol_relative=tol_relative)\n",
    "\n",
    "        Omega_i = res[0][0]\n",
    "\n",
    "        k_i = k_sub_fun(K_i, Omega_i)\n",
    "        w_i = omega_sub_fun(K_i, Omega_i)\n",
    "\n",
    "        #print('k_i, omega_i: ', (k_i.real, w_i.real), np.abs(res[1][0]))\n",
    "        #roots_prev_m.append([np.real(Omega_i)])\n",
    "        eig_points_km[j+_N_pp, i_K] = k_i\n",
    "        eig_points_wm[j+_N_pp, i_K] = w_i\n",
    "\n",
    "_N_pp__ = _N_pp"
   ]
  },
  {
   "cell_type": "code",
   "execution_count": 31,
   "metadata": {
    "collapsed": false
   },
   "outputs": [
    {
     "name": "stderr",
     "output_type": "stream",
     "text": [
      "/usr/local/lib/python3.5/dist-packages/numpy/core/numeric.py:482: ComplexWarning: Casting complex values to real discards the imaginary part\n",
      "  return array(a, dtype, copy=False, order=order)\n"
     ]
    },
    {
     "data": {
      "image/png": "[encoded data removed]",
      "text/plain": [
       "<matplotlib.figure.Figure at 0x7ff9050bd860>"
      ]
     },
     "metadata": {},
     "output_type": "display_data"
    }
   ],
   "source": [
    "\n",
    "for j in range(2*_N_pp__+1):\n",
    "    for i in range(-10, 10):\n",
    "        if j in range(_N_pp__-2, _N_pp__+3):\n",
    "            plot((np.real(eig_points_kp[j])+i*d_k)*a, (np.real(eig_points_wp[j])+i*d_wc)*a, 'b')\n",
    "        plot((np.real(eig_points_km[j])+i*d_k)*a, (np.real(eig_points_wm[j])+i*d_wc)*a, 'b')\n",
    "\n",
    "plot(10*np.array([-d_k, d_k])*a, 10*np.array([-d_w, d_w])*a/constants.c, color='k', linestyle='-', linewidth=2)\n",
    "\n",
    "\n",
    "show_limit = True ##small modulation limit\n",
    "if show_limit:\n",
    "    N = 200\n",
    "    k_arr = np.linspace(-10.0*k_max, 10.0*k_max, N)\n",
    "    w_arr = k_arr/n*constants.c\n",
    "    for i in range(-n_mode, n_mode+1):\n",
    "        plot((k_arr+i*d_k)*a, (w_arr+i*d_w)*a/constants.c, 'b:', lw=0.6)\n",
    "        plot((k_arr+i*d_k)*a, (-w_arr+i*d_w)*a/constants.c, 'b:', lw=0.6)\n",
    "\n",
    "bz = np.array([0.5*d_k*a, 0.5*d_w*a/constants.c])\n",
    "bz_n = 10.0*np.array([-bz[1], bz[0]])  ##normal\n",
    "plot([(bz-bz_n)[0], (bz+bz_n)[0]], [(bz-bz_n)[1], (bz+bz_n)[1]], 'k--')\n",
    "plot([(-bz-bz_n)[0], (-bz+bz_n)[0]], [(-bz-bz_n)[1], (-bz+bz_n)[1]], 'k--')\n",
    "\n",
    "xticks([-4*pi, -2*pi, 0, 2*pi, 4*pi], ['$-4\\pi$', r'$-2\\pi$', r'$0$', r'$2\\pi$', r'$4\\pi$'])\n",
    "yticks(np.arange(-1, 2)*5)\n",
    "\n",
    "xlim(-1*k_max*a/2, 1*k_max*a/2)\n",
    "ylim(-w_max*a/constants.c/2, w_max*a/constants.c/2)\n",
    "ylabel(r'$\\omega a/c$', fontsize=22)\n",
    "xlabel(r'$ka$', fontsize=22)\n",
    "gca().set_aspect('equal', 'datalim')\n",
    "\n",
    "savefig(os.path.join(dir_name, 'nondispersive-epsr-disp' + file_ext), bbox_inches='tight', pad_inches=0.2)\n",
    "\n",
    "\n",
    "show_wi = False\n",
    "if show_wi:\n",
    "    _w_i_ = 2.9\n",
    "    axhline(_w_i_, color='g', linestyle='-.')\n",
    "    savefig(os.path.join(dir_name, 'nondispersive-epsr-disp-wi-set' + file_ext), bbox_inches='tight', pad_inches=0.2)\n",
    "\n",
    "\n",
    "if 'w_i' in globals():\n",
    "    axhline(w_i*a, color='g', linestyle='-.')\n",
    "    savefig(os.path.join(dir_name, 'nondispersive-epsr-disp-wi' + file_ext), bbox_inches='tight', pad_inches=0.2)\n",
    "\n",
    "if 'eig_points_k' in globals():\n",
    "    #plot(np.real(eig_points_k), np.real(eig_points_w), 'ro', lw=0.1)\n",
    "    plot(np.real(eig_points_k_m)*a, np.real(eig_points_w_m)*a, 'yo', lw=0.1, markersize=5)\n",
    "    plot(np.real(eig_points_k_p)*a, np.real(eig_points_w_p)*a, 'ro', lw=0.1, markersize=3)\n",
    "    savefig(os.path.join(dir_name, 'nondispersive-epsr-disp-modes' + file_ext), bbox_inches='tight', pad_inches=0.2)\n",
    "\n",
    "\n",
    "if 'eig_points_k_p_BZ' in globals():\n",
    "    #plot(np.real(eig_points_k), np.real(eig_points_w), 'ro', lw=0.1)\n",
    "    plot(np.real(eig_points_k_m_BZ)*a, np.real(eig_points_w_m_BZ)*a, 'yo', lw=0.1, markersize=5)\n",
    "    plot(np.real(eig_points_k_p_BZ)*a, np.real(eig_points_w_p_BZ)*a, 'ro', lw=0.1, markersize=3)\n",
    "    savefig(os.path.join(dir_name, 'nondispersive-epsr-disp-modes-BZ' + file_ext), bbox_inches='tight', pad_inches=0.2)\n",
    "\n",
    "show()\n"
   ]
  },
  {
   "cell_type": "code",
   "execution_count": 53,
   "metadata": {
    "collapsed": false
   },
   "outputs": [
    {
     "data": {
      "image/png": "[encoded data removed]",
      "text/plain": [
       "<matplotlib.figure.Figure at 0x7ff9054e1080>"
      ]
     },
     "metadata": {},
     "output_type": "display_data"
    }
   ],
   "source": [
    "figsize(4, 3)\n",
    "\n",
    "n_pt = len(eig_points_kp)\n",
    "n_pt_2 = int(n_pt/2)\n",
    "pm_ratio = 1.2\n",
    "\n",
    "for j in range(2*_N_pp__+1):\n",
    "    for i in range(-10, 10):\n",
    "        if j in range(_N_pp__-2, _N_pp__+3):\n",
    "            _x_ = (np.real(eig_points_kp[j])+i*d_k)*a\n",
    "            _y_ = (np.real(eig_points_wp[j])+i*d_wc)*a\n",
    "            _y_ = np.ma.masked_where(_x_<0, _y_)\n",
    "            _x_ = np.ma.masked_where(_x_<0, _x_)\n",
    "            plot(_x_, _y_, 'b')\n",
    "        _x_ = (np.real(eig_points_km[j])+i*d_k)*a\n",
    "        _y_ = (np.real(eig_points_wm[j])+i*d_wc)*a\n",
    "        _y_ = np.ma.masked_where(_x_<0, _y_)\n",
    "        _x_ = np.ma.masked_where(_x_<0, _x_)\n",
    "        plot(_x_*(_x_>0), _y_*(_x_>0), 'b')\n",
    "for j in range(2*_N_pp__+1):\n",
    "    for i in range(-10, 10):\n",
    "        if j in range(_N_pp__-2, _N_pp__+3):\n",
    "            _x_ = (np.real(eig_points_kp[j])+i*d_k)*a\n",
    "            _y_ = (np.real(eig_points_wp[j])+i*d_wc)*a*pm_ratio\n",
    "            _y_ = np.ma.masked_where(_x_>0, _y_)\n",
    "            _x_ = np.ma.masked_where(_x_>0, _x_)\n",
    "            plot(_x_, _y_, 'b')\n",
    "        _x_ = (np.real(eig_points_km[j])+i*d_k)*a\n",
    "        _y_ = (np.real(eig_points_wm[j])+i*d_wc)*a*pm_ratio\n",
    "        _y_ = np.ma.masked_where(_x_>0, _y_)\n",
    "        _x_ = np.ma.masked_where(_x_>0, _x_)\n",
    "        plot(_x_, _y_, 'b')\n",
    "\n",
    "plot(10*np.array([-d_k, d_k])*a, 10*np.array([-d_w, d_w])*a/constants.c, color='k', linestyle='-', linewidth=2)\n",
    "\n",
    "bz = np.array([0.5*d_k*a, 0.5*d_w*a/constants.c])\n",
    "bz_n = 10.0*np.array([-bz[1], bz[0]])  ##normal\n",
    "plot([(bz-bz_n)[0], (bz+bz_n)[0]], [(bz-bz_n)[1], (bz+bz_n)[1]], 'k--')\n",
    "plot([(-bz-bz_n)[0], (-bz+bz_n)[0]], [(-bz-bz_n)[1], (-bz+bz_n)[1]], 'k--')\n",
    "\n",
    "xticks([])#[-4*pi, -2*pi, 0, 2*pi, 4*pi], ['$-4\\pi$', r'$-2\\pi$', r'$0$', r'$2\\pi$', r'$4\\pi$'])\n",
    "yticks([])#np.arange(-1, 2)*5)\n",
    "\n",
    "#xlim(-1*k_max*a/3, 1*k_max*a/3)\n",
    "xlim(-np.pi, np.pi)\n",
    "ylim(0, w_max*a/constants.c/3)\n",
    "ylabel(r'$\\omega$', fontsize=22)\n",
    "xlabel(r'$\\beta$', fontsize=22)\n",
    "#gca().set_aspect('equal', 'datalim')\n",
    "\n",
    "savefig(os.path.join(dir_name, 'nondispersive-epsr-disp' + file_ext), bbox_inches='tight', pad_inches=0.2)\n"
   ]
  },
  {
   "cell_type": "markdown",
   "metadata": {},
   "source": [
    "### Scattering"
   ]
  },
  {
   "cell_type": "code",
   "execution_count": 27,
   "metadata": {
    "collapsed": false
   },
   "outputs": [],
   "source": [
    "### set omega  get k\n",
    "\n",
    "Ns = [16]\n",
    "#print(d_wc)\n",
    "M_ratio = 0.02\n",
    "eps_r_harm_vec = None\n",
    "\n",
    "def eps_r_fun(x):\n",
    "    z_ = x[0]\n",
    "    return n**2*(1.0+M_ratio*np.cos(d_k*z_))\n",
    "\n",
    "def get_eps_r_harmonics(Ns):\n",
    "    eps_r_harm_vec = pde_FB.getFourierCoeffs(eps_r_fun, [0.0], [(2.0*np.pi)/d_k], Ns)\n",
    "    return eps_r_harm_vec\n",
    "\n",
    "w_i = 0.259054      ## for phi=-2 degrees, first bandgap\n",
    "#w_i = 0.33           ## for phi=+2 degrees, second bandgap\n",
    "\n",
    "A_mat_list = None\n",
    "\n",
    "def set_matrices_list(w_i, Ns):\n",
    "    eps_r_harm_vec = get_eps_r_harmonics(Ns)\n",
    "    \n",
    "    EQ_fin = EQ_harm_kw.subs([(omega, w_i)])\n",
    "\n",
    "    expr_list = [EQ_fin]\n",
    "    vars = [E_tilde]\n",
    "    pars = [eps_r_tilde]\n",
    "    pars_vecs = [eps_r_harm_vec]\n",
    "    eig_vars = [k]\n",
    "    pde_FB.setupNumericalParameters(expr_list, Ns, vars, pars, pars_vecs, eig_vars)\n",
    "    pde_FB.calculateDenseMatrices = True\n",
    "\n",
    "    A_mat_list = pde_FB.orthogonalToNumpyMatrix()\n",
    "    return A_mat_list\n",
    "\n",
    "A_mat_list = set_matrices_list(w_i, Ns)\n",
    "\n"
   ]
  },
  {
   "cell_type": "code",
   "execution_count": 28,
   "metadata": {
    "collapsed": false
   },
   "outputs": [
    {
     "name": "stderr",
     "output_type": "stream",
     "text": [
      "/home/nima/ipython workspace/Electromagnetics/FourierBlochND.py:1824: OptimizeWarning: Unknown solver options: maxiter, ftol\n",
      "  options={'maxfev':maxfev, 'maxiter':maxiter, 'ftol': ftol})\n"
     ]
    },
    {
     "name": "stdout",
     "output_type": "stream",
     "text": [
      "k_i, omega_i:  ((-8.0636094376011602-1.5253022541478552e-21j), 0.259054) 4.98584824491e-13\n",
      "S =  [[ 3.40000367]]\n",
      "k_i, omega_i:  ((-7.9266438028458452+2.7513043863759237e-20j), 0.259054) 2.603125166e-12\n",
      "S =  [[-3.4000063]]\n",
      "k_i, omega_i:  ((-5.8275106490259061-2.0884568541907192e-22j), 0.259054) 7.69156301004e-15\n",
      "S =  [[ 3.40000394]]\n",
      "k_i, omega_i:  ((-6.1651791483793232-4.7422376650220447e-15j), 0.259054) 1.69899227919e-13\n",
      "S =  [[-3.40000839]]\n",
      "k_i, omega_i:  ((-3.5914088009799672-7.0768060304983603e-18j), 0.259054) 2.00829817919e-16\n",
      "S =  [[ 3.39998915]]\n",
      "k_i, omega_i:  ((-4.4037155496251934+1.680146326779115e-17j), 0.259054) 9.16017253318e-16\n",
      "S =  [[-3.40002012]]\n",
      "k_i, omega_i:  ((-1.3552903295552436+3.0281132814901011e-19j), 0.259054) 6.34024125527e-19\n",
      "S =  [[ 3.39966807]]\n",
      "k_i, omega_i:  ((-2.6422558728049621-1.5797950383188145e-18j), 0.259054) 7.68399306216e-18\n",
      "S =  [[-3.4000343]]\n",
      "k_i, omega_i:  ((0.88072866042622344-0.0049615836901116695j), 0.259054) 1.40687429525e-23\n",
      "S =  [[-0.40364905]]\n",
      "k_i, omega_i:  ((-0.88081323440945436+1.3267871705390227e-19j), 0.259054) 1.11288948937e-20\n",
      "S =  [[-3.39990287]]\n",
      "k_i, omega_i:  ((3.116789921768508+1.1406741555918797e-18j), 0.259054) 4.48201179799e-24\n",
      "S =  [[ 3.39804724]]\n",
      "k_i, omega_i:  ((0.88072866042622344+0.0049615836901116695j), 0.259054) 3.9466051072e-22\n",
      "S =  [[-0.40364905]]\n",
      "k_i, omega_i:  ((5.3529075542394429+7.072843325511788e-18j), 0.259054) 3.48069419324e-25\n",
      "S =  [[ 3.3991472]]\n",
      "k_i, omega_i:  ((2.64222815142343-1.7487544057770076e-18j), 0.259054) 4.71017659729e-23\n",
      "S =  [[-3.39863005]]\n",
      "k_i, omega_i:  ((7.5890077832600973+3.3359782030873741e-18j), 0.259054) 2.41429342929e-27\n",
      "S =  [[ 3.39940504]]\n",
      "k_i, omega_i:  ((4.4036711892388407+1.815972250105267e-20j), 0.259054) 7.56327690962e-27\n",
      "S =  [[-3.39937989]]\n",
      "k_i, omega_i:  ((9.825103476024724+2.4425896218331212e-18j), 0.259054) 2.86085304929e-30\n",
      "S =  [[ 3.39950685]]\n",
      "k_i, omega_i:  ((6.1651315856866322-9.0954077053883464e-18j), 0.259054) 6.11497547376e-27\n",
      "S =  [[-3.39956255]]\n",
      "\n",
      " eig_points_k_p:  [(-8.0636094376011602-1.5253022541478552e-21j), (-5.8275106490259061-2.0884568541907192e-22j), (-3.5914088009799672-7.0768060304983603e-18j), (-1.3552903295552436+3.0281132814901011e-19j), (0.88072866042622344-0.0049615836901116695j), (3.116789921768508+1.1406741555918797e-18j), (5.3529075542394429+7.072843325511788e-18j), (7.5890077832600973+3.3359782030873741e-18j), (9.825103476024724+2.4425896218331212e-18j)]\n",
      "\n",
      " eig_points_k_m:  [(-7.9266438028458452+2.7513043863759237e-20j), (-6.1651791483793232-4.7422376650220447e-15j), (-4.4037155496251934+1.680146326779115e-17j), (-2.6422558728049621-1.5797950383188145e-18j), (-0.88081323440945436+1.3267871705390227e-19j), (0.88072866042622344+0.0049615836901116695j), (2.64222815142343-1.7487544057770076e-18j), (4.4036711892388407+1.815972250105267e-20j), (6.1651315856866322-9.0954077053883464e-18j)]\n"
     ]
    }
   ],
   "source": [
    "from Electromagnetics import Misc\n",
    "\n",
    "solver = 'hybr'\n",
    "maxiter = 4000\n",
    "maxfev = 4000\n",
    "tol = 1.0e-13\n",
    "\n",
    "A_eqs_list = [A_mat_list]\n",
    "\n",
    "\n",
    "sing_val_tol = 1.0e-5\n",
    "del_norm = 1.0e-5\n",
    "sig_small = 1.0e-1j\n",
    "\n",
    "_N_pp = 4\n",
    "\n",
    "def get_eig_points(w_i, Ns, _N_pp, A_eqs_list, vbose=False):\n",
    "\n",
    "    _N_2 = Ns[0]#int(Ns[0]/2)\n",
    "    d_dct = np.array([w_i+i*d_wc for i in range(-_N_2, _N_2)])\n",
    "\n",
    "    roots_prev = []\n",
    "    eig_points_k = []\n",
    "    eig_points_w = []\n",
    "    eig_vecs_E = []\n",
    "    eig_vecs_H = []\n",
    "\n",
    "    for j in range(-_N_pp, _N_pp+1):\n",
    "        eigvar_vals_0 = [k__omega_p_fun(w_i, j)-sig_small]\n",
    "        res = pde_FB.solveDeterminant(eigvar_vals_0, A_eqs_list, solver=solver, handle_overflow=True, \\\n",
    "                                      roots_prev=roots_prev, tol=tol, maxiter=maxiter, maxfev=maxfev,\\\n",
    "                                      getMats=True)\n",
    "\n",
    "        k_i = res[0][0]\n",
    "\n",
    "        if vbose:\n",
    "            print('k_i, omega_i: ', (k_i, w_i), np.abs(res[1][0]))\n",
    "        roots_prev.append([k_i])\n",
    "        eig_points_k.append(k_i)\n",
    "        eig_points_w.append(w_i)\n",
    "\n",
    "        A_mat = res[3][0]\n",
    "        rank, x_nulls, sing_vals = Misc.null(A_mat, rtol=sing_val_tol, forceRank=A_mat.shape[0]-1)\n",
    "        if not rank==A_mat.shape[0]-1:\n",
    "            print('rank: ', rank)\n",
    "            print(sing_vals)\n",
    "            assert False\n",
    "        eig_vecs_E.append(x_nulls.T)\n",
    "        if not np.linalg.norm(A_mat.dot(x_nulls))/np.linalg.norm(x_nulls)<del_norm:\n",
    "            print('|Ax|=', np.linalg.norm(A_mat.dot(x_nulls)), ' |x|=', np.linalg.norm(x_nulls))\n",
    "            print(res[2])\n",
    "\n",
    "        d_dz = -np.array([k_i+i*d_k for i in range(-_N_2, _N_2)])\n",
    "        H_vec = -x_nulls.T*d_dz/d_dct\n",
    "        eig_vecs_H.append(H_vec)\n",
    "        S_P = np.real(eig_vecs_E[-1].dot(np.conjugate(eig_vecs_H[-1]).T))\n",
    "        if vbose:\n",
    "            print('S = ', S_P)\n",
    "\n",
    "        if w_i==0.0 and j==0:\n",
    "            continue\n",
    "\n",
    "        eigvar_vals_0 = [k__omega_m_fun(w_i, j)+sig_small]\n",
    "        res = pde_FB.solveDeterminant(eigvar_vals_0, A_eqs_list, solver=solver, handle_overflow=True, \\\n",
    "                                      roots_prev=roots_prev, tol=tol, maxiter=maxiter, maxfev=maxfev,\\\n",
    "                                      getMats=True)\n",
    "\n",
    "        k_i = res[0][0]\n",
    "\n",
    "        if vbose:\n",
    "            print('k_i, omega_i: ', (k_i, w_i), np.abs(res[1][0]))\n",
    "        roots_prev.append([k_i])\n",
    "        eig_points_k.append(k_i)\n",
    "        eig_points_w.append(w_i)\n",
    "\n",
    "        A_mat = res[3][0]\n",
    "        rank, x_nulls, sing_vals = Misc.null(A_mat, rtol=sing_val_tol, forceRank=A_mat.shape[0]-1)\n",
    "        if not rank==A_mat.shape[0]-1:\n",
    "            print('rank: ', rank)\n",
    "            print(sing_vals)\n",
    "            assert False\n",
    "        eig_vecs_E.append(x_nulls.T)\n",
    "        if not np.linalg.norm(A_mat.dot(x_nulls))/np.linalg.norm(x_nulls)<del_norm:\n",
    "            print('|Ax|=', np.linalg.norm(A_mat.dot(x_nulls)), ' |x|=', np.linalg.norm(x_nulls))\n",
    "\n",
    "        d_dz = -np.array([k_i+i*d_k for i in range(-_N_2, _N_2)])\n",
    "        H_vec = -x_nulls.T*d_dz/d_dct\n",
    "        eig_vecs_H.append(H_vec)\n",
    "        S_P = np.real(eig_vecs_E[-1].dot(np.conjugate(eig_vecs_H[-1]).T))\n",
    "        if vbose:\n",
    "            print('S = ', S_P)\n",
    "\n",
    "    eig_points_k_p = []\n",
    "    eig_points_w_p = []\n",
    "    eig_vecs_E_p = []\n",
    "    eig_vecs_H_p = []\n",
    "\n",
    "    eig_points_k_m = []\n",
    "    eig_points_w_m = []\n",
    "    eig_vecs_E_m = []\n",
    "    eig_vecs_H_m = []\n",
    "\n",
    "    for i in range(len(eig_points_k)):\n",
    "        if np.abs(np.imag(eig_points_k[i]))<1.0e-10:\n",
    "            if np.real(eig_vecs_E[i].dot(np.conjugate(eig_vecs_H[i]).T))>=0:\n",
    "                eig_points_k_p.append(eig_points_k[i])\n",
    "                eig_points_w_p.append(eig_points_w[i])\n",
    "                eig_vecs_E_p.append(eig_vecs_E[i][0,:])\n",
    "                eig_vecs_H_p.append(eig_vecs_H[i][0,:])\n",
    "            else:\n",
    "                eig_points_k_m.append(eig_points_k[i])\n",
    "                eig_points_w_m.append(eig_points_w[i])\n",
    "                eig_vecs_E_m.append(eig_vecs_E[i][0,:])\n",
    "                eig_vecs_H_m.append(eig_vecs_H[i][0,:])\n",
    "        else:\n",
    "            if np.imag(eig_points_k[i])<=0:\n",
    "                eig_points_k_p.append(eig_points_k[i])\n",
    "                eig_points_w_p.append(eig_points_w[i])\n",
    "                eig_vecs_E_p.append(eig_vecs_E[i][0,:])\n",
    "                eig_vecs_H_p.append(eig_vecs_H[i][0,:])\n",
    "            else:\n",
    "                eig_points_k_m.append(eig_points_k[i])\n",
    "                eig_points_w_m.append(eig_points_w[i])\n",
    "                eig_vecs_E_m.append(eig_vecs_E[i][0,:])\n",
    "                eig_vecs_H_m.append(eig_vecs_H[i][0,:])\n",
    "\n",
    "\n",
    "    if vbose:\n",
    "        print('\\n eig_points_k_p: ', eig_points_k_p)\n",
    "        print('\\n eig_points_k_m: ', eig_points_k_m)\n",
    "\n",
    "    ##move inside BZ\n",
    "\n",
    "    eig_points_k_p_BZ = eig_points_k_p.copy()\n",
    "    eig_points_k_m_BZ = eig_points_k_m.copy()\n",
    "    eig_points_w_p_BZ = eig_points_w_p.copy()\n",
    "    eig_points_w_m_BZ = eig_points_w_m.copy()\n",
    "\n",
    "    for i in range(len(eig_points_k_p_BZ)):\n",
    "        _w_, _k_ = eig_points_w_p_BZ[i], eig_points_k_p_BZ[i]\n",
    "        _K_ = K_sub_fun(_k_.real, _w_.real)\n",
    "        while _K_>d_kw: \n",
    "            _w_ -= d_wc*np.sign(d_k)\n",
    "            _k_ -= d_k*np.sign(d_k)\n",
    "            _K_ = K_sub_fun(_k_.real, _w_.real)\n",
    "        while _K_<-d_kw:\n",
    "            _w_ += d_wc*np.sign(d_k)\n",
    "            _k_ += d_k*np.sign(d_k)\n",
    "            _K_ = K_sub_fun(_k_.real, _w_.real)\n",
    "        eig_points_w_p_BZ[i], eig_points_k_p_BZ[i] = _w_, _k_\n",
    "        _K_ = K_sub_fun(_k_.real, _w_.real)\n",
    "        assert -d_kw<=_K_<=d_kw\n",
    "    for i in range(len(eig_points_k_m_BZ)):\n",
    "        _w_, _k_ = eig_points_w_m_BZ[i], eig_points_k_m_BZ[i]\n",
    "        _K_ = K_sub_fun(_k_.real, _w_.real)\n",
    "        while _K_>d_kw:\n",
    "            _w_ -= d_wc*np.sign(d_k)\n",
    "            _k_ -= d_k*np.sign(d_k)\n",
    "            _K_ = K_sub_fun(_k_.real, _w_.real)\n",
    "        while _K_<-d_kw:\n",
    "            _w_ += d_wc*np.sign(d_k)\n",
    "            _k_ += d_k*np.sign(d_k)\n",
    "            _K_ = K_sub_fun(_k_.real, _w_.real)\n",
    "        eig_points_w_m_BZ[i], eig_points_k_m_BZ[i] = _w_, _k_\n",
    "        _K_ = K_sub_fun(_k_.real, _w_.real)\n",
    "        assert -d_kw<=_K_<=d_kw\n",
    "\n",
    "    return [eig_points_k, eig_points_w, eig_vecs_E, eig_vecs_H], \\\n",
    "        [eig_points_k_p, eig_points_w_p, eig_vecs_E_p, eig_vecs_H_p], \\\n",
    "        [eig_points_k_m, eig_points_w_m, eig_vecs_E_m, eig_vecs_H_m], \\\n",
    "        [eig_points_k_p_BZ, eig_points_k_m_BZ, eig_points_w_p_BZ, eig_points_w_m_BZ]\n",
    "\n",
    "[eig_points_k, eig_points_w, eig_vecs_E, eig_vecs_H], \\\n",
    "[eig_points_k_p, eig_points_w_p, eig_vecs_E_p, eig_vecs_H_p], \\\n",
    "[eig_points_k_m, eig_points_w_m, eig_vecs_E_m, eig_vecs_H_m], \\\n",
    "[eig_points_k_p_BZ, eig_points_k_m_BZ, eig_points_w_p_BZ, eig_points_w_m_BZ] = get_eig_points(w_i, Ns, _N_pp, A_eqs_list, True)\n",
    "\n",
    "\n"
   ]
  },
  {
   "cell_type": "code",
   "execution_count": 29,
   "metadata": {
    "collapsed": false
   },
   "outputs": [
    {
     "name": "stdout",
     "output_type": "stream",
     "text": [
      "(32,)\n",
      "linearly_dep:  []\n",
      "To remove:  []\n",
      "eig_points_k_p :  [(-8.0636094376011602-1.5253022541478552e-21j), (-5.8275106490259061-2.0884568541907192e-22j), (-3.5914088009799672-7.0768060304983603e-18j), (-1.3552903295552436+3.0281132814901011e-19j), (0.88072866042622344-0.0049615836901116695j), (3.116789921768508+1.1406741555918797e-18j), (5.3529075542394429+7.072843325511788e-18j), (7.5890077832600973+3.3359782030873741e-18j), (9.825103476024724+2.4425896218331212e-18j)]\n",
      "9\n",
      "--------------------------------------------------\n",
      "linearly_dep:  []\n",
      "To remove:  []\n",
      "eig_points_k_m :  [(-7.9266438028458452+2.7513043863759237e-20j), (-6.1651791483793232-4.7422376650220447e-15j), (-4.4037155496251934+1.680146326779115e-17j), (-2.6422558728049621-1.5797950383188145e-18j), (-0.88081323440945436+1.3267871705390227e-19j), (0.88072866042622344+0.0049615836901116695j), (2.64222815142343-1.7487544057770076e-18j), (4.4036711892388407+1.815972250105267e-20j), (6.1651315856866322-9.0954077053883464e-18j)]\n",
      "9\n"
     ]
    },
    {
     "name": "stderr",
     "output_type": "stream",
     "text": [
      "/usr/local/lib/python3.5/dist-packages/ipykernel/__main__.py:35: RuntimeWarning: invalid value encountered in true_divide\n",
      "/usr/local/lib/python3.5/dist-packages/ipykernel/__main__.py:35: RuntimeWarning: divide by zero encountered in true_divide\n",
      "/usr/local/lib/python3.5/dist-packages/ipykernel/__main__.py:35: RuntimeWarning: invalid value encountered in multiply\n",
      "/usr/local/lib/python3.5/dist-packages/ipykernel/__main__.py:101: RuntimeWarning: invalid value encountered in true_divide\n"
     ]
    }
   ],
   "source": [
    "##check linear dependence\n",
    "\"\"\"\n",
    "E0_E1 = eig_vecs_E_p[0]/np.roll(eig_vecs_E_p[1], np.argmax(np.abs(eig_vecs_E_p[0]))-np.argmax(np.abs(eig_vecs_E_p[1])))\n",
    "plot(np.log10(np.abs(eig_vecs_E_p[0])))\n",
    "plot(np.log10(np.abs(E0_E1)))\n",
    "ylim([-10, 5])\n",
    "grid()\n",
    "\"\"\"\n",
    "\n",
    "\n",
    "def check_linear_dependence(vbose=False):\n",
    "    if vbose:\n",
    "        print(eig_vecs_E_p[0].shape)\n",
    "    _small_ = 1.0e-10\n",
    "    n_elem = eig_vecs_E_p[0].shape[0]\n",
    "\n",
    "    linearly_dep =[]\n",
    "\n",
    "    for i in range(len(eig_points_k_p)):\n",
    "        E_i = (np.abs(eig_vecs_E_p[i])>_small_*np.linalg.norm(eig_vecs_E_p[i]))*eig_vecs_E_p[i]\n",
    "        E_i_nnz = (E_i!=0.0)\n",
    "        s_i = np.argmax(np.abs(E_i))\n",
    "        for j in range(i+1, len(eig_points_k_p)):\n",
    "            E_j = (np.abs(eig_vecs_E_p[j])>_small_*np.linalg.norm(eig_vecs_E_p[j]))*eig_vecs_E_p[j]\n",
    "\n",
    "            E_j_max_inds = np.abs(E_j)>0.9*np.max(np.abs(E_j))\n",
    "            s_j_list = [_i_ for _i_ in range(len(E_j_max_inds)) if E_j_max_inds[_i_]==1]\n",
    "\n",
    "            for s_j in s_j_list:\n",
    "                E_j_s = np.roll(E_j, s_i-s_j)\n",
    "\n",
    "                E_j_nnz = (E_j_s!=0.0)\n",
    "                E_ij_nnz = np.logical_and(E_i_nnz, E_j_nnz)\n",
    "\n",
    "                Ei_Ejs = np.nan_to_num(E_ij_nnz*(E_i/E_j_s))\n",
    "                Ei_Ejs_max = Ei_Ejs[np.argmax(np.abs(Ei_Ejs))]\n",
    "                #print(Ei_Ejs)\n",
    "\n",
    "                if abs(Ei_Ejs_max)>0.0:\n",
    "                    norm_p = np.linalg.norm(E_ij_nnz*(np.ones(n_elem)) - (Ei_Ejs/Ei_Ejs_max))\n",
    "                    norm_m = np.linalg.norm(E_ij_nnz*(np.ones(n_elem)) + (Ei_Ejs/Ei_Ejs_max))\n",
    "\n",
    "                    assert not np.isnan(norm_p)\n",
    "                    assert not np.isnan(norm_m)\n",
    "\n",
    "                    if min([norm_p, norm_m])<1.0e-5:\n",
    "                        found = False\n",
    "                        for k in range(len(linearly_dep)):\n",
    "                            if i in linearly_dep[k]:\n",
    "                                if j not in linearly_dep[k]:\n",
    "                                    linearly_dep[k].append(j)\n",
    "                                found = True\n",
    "                        if not found:\n",
    "                            linearly_dep.append([i, j])\n",
    "                        break\n",
    "\n",
    "    if vbose:\n",
    "        print('linearly_dep: ', linearly_dep)\n",
    "\n",
    "    ind_remove = []\n",
    "    for i in range (len(linearly_dep)):\n",
    "        ld_sorted = sorted(linearly_dep[i])\n",
    "        ind_remove.extend(ld_sorted[1:])\n",
    "\n",
    "    if vbose:\n",
    "        print('To remove: ', ind_remove)\n",
    "\n",
    "    ind_remove = sorted(list(set(ind_remove)), reverse=True)\n",
    "    for i in range(len(ind_remove)):\n",
    "        del eig_points_k_p[ind_remove[i]]\n",
    "        del eig_points_w_p[ind_remove[i]]\n",
    "        del eig_vecs_E_p[ind_remove[i]]\n",
    "        del eig_vecs_H_p[ind_remove[i]]\n",
    "\n",
    "\n",
    "    if vbose:\n",
    "        print('eig_points_k_p : ', eig_points_k_p)\n",
    "        print(len(eig_points_k_p))\n",
    "\n",
    "    ###-----------\n",
    "    if vbose:\n",
    "        print('-'*50)\n",
    "    linearly_dep =[]\n",
    "\n",
    "    for i in range(len(eig_points_k_m)):\n",
    "        E_i = (np.abs(eig_vecs_E_m[i])>_small_*np.linalg.norm(eig_vecs_E_m[i]))*eig_vecs_E_m[i]\n",
    "        E_i_nnz = (E_i!=0.0)\n",
    "        s_i = np.argmax(np.abs(E_i))\n",
    "        for j in range(i+1, len(eig_points_k_m)):\n",
    "            E_j = (np.abs(eig_vecs_E_m[j])>_small_*np.linalg.norm(eig_vecs_E_m[j]))*eig_vecs_E_m[j]\n",
    "\n",
    "            E_j_max_inds = np.abs(E_j)>0.9*np.max(np.abs(E_j))\n",
    "            s_j_list = [_i_ for _i_ in range(len(E_j_max_inds)) if E_j_max_inds[_i_]==1]\n",
    "\n",
    "            for s_j in s_j_list:\n",
    "                E_j_s = np.roll(E_j, s_i-s_j)\n",
    "\n",
    "                E_j_nnz = (E_j_s!=0.0)\n",
    "                E_ij_nnz = np.logical_and(E_i_nnz, E_j_nnz)\n",
    "\n",
    "                Ei_Ejs = np.nan_to_num(E_ij_nnz*(E_i/E_j_s))\n",
    "                Ei_Ejs_max = Ei_Ejs[np.argmax(np.abs(Ei_Ejs))]\n",
    "                #print(Ei_Ejs)\n",
    "\n",
    "                if abs(Ei_Ejs_max)>0.0:\n",
    "                    norm_p = np.linalg.norm(E_ij_nnz*(np.ones(n_elem)) - (Ei_Ejs/Ei_Ejs_max))\n",
    "                    norm_m = np.linalg.norm(E_ij_nnz*(np.ones(n_elem)) + (Ei_Ejs/Ei_Ejs_max))\n",
    "\n",
    "                    assert not np.isnan(norm_p)\n",
    "                    assert not np.isnan(norm_m)\n",
    "\n",
    "                    if min([norm_p, norm_m])<1.0e-5:\n",
    "                        found = False\n",
    "                        for k in range(len(linearly_dep)):\n",
    "                            if i in linearly_dep[k]:\n",
    "                                if j not in linearly_dep[k]:\n",
    "                                    linearly_dep[k].append(j)\n",
    "                                found = True\n",
    "                        if not found:\n",
    "                            linearly_dep.append([i, j])\n",
    "                        break\n",
    "\n",
    "    if vbose:\n",
    "        print('linearly_dep: ', linearly_dep)\n",
    "\n",
    "    ind_remove = []\n",
    "    for i in range (len(linearly_dep)):\n",
    "        ld_sorted = sorted(linearly_dep[i])\n",
    "        ind_remove.extend(ld_sorted[1:])\n",
    "\n",
    "    if vbose:\n",
    "        print('To remove: ', ind_remove)\n",
    "\n",
    "    ind_remove = sorted(list(set(ind_remove)), reverse=True)\n",
    "    for i in range(len(ind_remove)):\n",
    "        del eig_points_k_m[ind_remove[i]]\n",
    "        del eig_points_w_m[ind_remove[i]]\n",
    "        del eig_vecs_E_m[ind_remove[i]]\n",
    "        del eig_vecs_H_m[ind_remove[i]]\n",
    "\n",
    "\n",
    "    if vbose:\n",
    "        print('eig_points_k_m : ', eig_points_k_m)\n",
    "        print(len(eig_points_k_m))\n",
    "\n",
    "check_linear_dependence(vbose=True)\n"
   ]
  },
  {
   "cell_type": "code",
   "execution_count": 30,
   "metadata": {
    "collapsed": false
   },
   "outputs": [
    {
     "name": "stdout",
     "output_type": "stream",
     "text": [
      "w_Er:  [ 0.53824997  0.46845098  0.39865199  0.32885299  0.259054    0.18925501\n",
      "  0.11945601  0.04965702 -0.02014197]\n",
      "Hr_Er:  [-3.4 -3.4 -3.4 -3.4 -3.4 -3.4 -3.4 -3.4 -3.4]\n",
      "Ei   :  [ 0.  0.  0.  0.  1.  0.  0.  0.  0.]\n",
      "Hi   :  [ 0.   0.   0.   0.   3.4  0.   0.   0.   0. ]\n",
      "|x|:  [  2.84057983e-07   8.38511107e-06   4.33566750e-03   1.12667596e+00\n",
      "   2.81664932e-03   9.13230529e-04   7.56516738e-07   2.93584467e-10\n",
      "   5.18698816e-14   4.85748383e-14   3.42089509e-10   1.06802242e-06\n",
      "   1.43888776e-03   1.50648497e+00   2.50047881e-03   1.70742565e-03\n",
      "   9.20067597e-06   1.40986077e-09]\n"
     ]
    },
    {
     "data": {
      "image/png": "[encoded data removed]",
      "text/plain": [
       "<matplotlib.figure.Figure at 0x7fc38e3eeba8>"
      ]
     },
     "metadata": {},
     "output_type": "display_data"
    },
    {
     "data": {
      "image/png": "[encoded data removed]",
      "text/plain": [
       "<matplotlib.figure.Figure at 0x7fc38e0bffd0>"
      ]
     },
     "metadata": {},
     "output_type": "display_data"
    },
    {
     "data": {
      "image/png": "[encoded data removed]",
      "text/plain": [
       "<matplotlib.figure.Figure at 0x7fc38e103ac8>"
      ]
     },
     "metadata": {},
     "output_type": "display_data"
    }
   ],
   "source": [
    "##--- half-space \n",
    "\n",
    "z_0 = 0.0\n",
    "n_0 = n\n",
    "\n",
    "_N_2 = Ns[0]\n",
    "N_mode = len(eig_points_k_p)\n",
    "\n",
    "N_mode_2 = int(N_mode/2)\n",
    "w_Er = np.array([w_i+(i-N_mode_2)*d_wc for i in range(N_mode)])   ## reflected frequencies\n",
    "print('w_Er: ', w_Er)\n",
    "\n",
    "Hr_Er_w = -n_0*np.ones(N_mode)    ## H_r(w)/E_r(w)\n",
    "Ei_w = np.zeros(N_mode); Ei_w[N_mode_2]=1.0\n",
    "Hi_Ei_w = n_0*np.ones(N_mode) \n",
    "Hi_w = Hi_Ei_w*Ei_w\n",
    "print('Hr_Er: ', Hr_Er_w)\n",
    "print('Ei   : ', Ei_w)\n",
    "print('Hi   : ', Hi_w)\n",
    "\n",
    "A = np.zeros((2*N_mode, 2*N_mode), dtype=complex)\n",
    "rhs = np.zeros(2*N_mode, dtype=complex)\n",
    "\n",
    "ind_r = lambda w_i: w_i\n",
    "ind_sp = lambda w_i: w_i+N_mode\n",
    "ind_iw_sp = lambda w_i: i_w-N_mode_2+_N_2\n",
    "\n",
    "for i_w in range(N_mode):  ## iterate over frequencies\n",
    "    A[ind_r(i_w), ind_r(i_w)] = -1.0\n",
    "    A[ind_sp(i_w), ind_r(i_w)] = -Hr_Er_w[i_w]\n",
    "\n",
    "    rhs[ind_r(i_w)] = Ei_w[i_w]\n",
    "    rhs[ind_sp(i_w)] = Hi_w[i_w]\n",
    "    for i_m in range(N_mode): ## iterate over modes\n",
    "        if d_wc!=0.0:\n",
    "            #E_left(w_i) = E_right(w_i)\n",
    "            A[ind_r(i_w), ind_sp(i_m)] =  eig_vecs_E_p[i_m][ind_iw_sp(i_w)]\n",
    "\n",
    "            #H_left(w_i) = H_right(w_i)\n",
    "            A[ind_sp(i_w), ind_sp(i_m)] =  eig_vecs_H_p[i_m][ind_iw_sp(i_w)]\n",
    "        else:\n",
    "            #E_left(w_i) = E_right(w_i)\n",
    "            A[ind_r(i_w), ind_sp(i_m)] =  np.sum(eig_vecs_E_p[i_m])\n",
    "\n",
    "            #H_left(w_i) = H_right(w_i)\n",
    "            A[ind_sp(i_w), ind_sp(i_m)] =  np.sum(eig_vecs_H_p[i_m])\n",
    "        \n",
    "#print('A: \\n', A)\n",
    "#print('rhs: ', rhs)\n",
    "#print('eig_vecs_E_p: ', eig_vecs_E_p)\n",
    "#print('ind_iw_sp(i_w)', ind_iw_sp(0))    \n",
    "    \n",
    "x = np.linalg.solve(A, rhs)\n",
    "\n",
    "print('|x|: ', np.abs(x))\n",
    "\n",
    "figsize(8, 4)\n",
    "plot(np.arange(2*N_mode), 20*np.log10(np.abs(x)), 'ro')\n",
    "vlines(np.arange(2*N_mode), -100*np.ones(2*N_mode), (20*np.log10(np.abs(x))))\n",
    "ylim([-80, 10.0])\n",
    "grid()\n",
    "show()\n",
    "\n",
    "w_scaled = (w_Er-w_i)/abs(d_wc)\n",
    "x_R = x[0:N_mode]\n",
    "plot(w_scaled, 20*np.log10(np.abs(x_R)), 'bo')\n",
    "vlines(w_scaled, -100*np.ones(len(w_scaled)), (20*np.log10(np.abs(x_R))), linewidth=2, color='b')\n",
    "xlabel(r'$(\\omega-\\omega_0)/\\omega_m$', fontsize=20)\n",
    "ylabel(r'$R$ (dB)', fontsize=20)\n",
    "ylim([-80, 10.0])\n",
    "grid()\n",
    "savefig(os.path.join(dir_name, 'nondispersive-epsr-halfspace-R' + file_ext), bbox_inches='tight', pad_inches=0.2)\n",
    "show()\n",
    "\n",
    "k_scaled = np.arange(N_mode)-int(N_mode/2)\n",
    "x_SP = x[N_mode:2*N_mode]\n",
    "plot(k_scaled, 20*np.log10(np.abs(x_SP)), 'ro')\n",
    "vlines(k_scaled, -100*np.ones(len(k_scaled)), (20*np.log10(np.abs(x_SP))), linewidth=2, color='r')\n",
    "xlabel(r'mode index', fontsize=20)\n",
    "ylabel(r'$X^+$ (dB)', fontsize=20)\n",
    "ylim([-80, 30.0])\n",
    "grid()\n",
    "savefig(os.path.join(dir_name, 'nondispersive-epsr-halfspace-modes' + file_ext), bbox_inches='tight', pad_inches=0.2)\n",
    "show()\n",
    "\n"
   ]
  },
  {
   "cell_type": "code",
   "execution_count": 31,
   "metadata": {
    "collapsed": false
   },
   "outputs": [
    {
     "data": {
      "image/png": "[encoded data removed]",
      "text/plain": [
       "<matplotlib.figure.Figure at 0x7fc3992bcd68>"
      ]
     },
     "metadata": {},
     "output_type": "display_data"
    },
    {
     "data": {
      "image/png": "[encoded data removed]",
      "text/plain": [
       "<matplotlib.figure.Figure at 0x7fc38e3080b8>"
      ]
     },
     "metadata": {},
     "output_type": "display_data"
    },
    {
     "data": {
      "image/png": "[encoded data removed]",
      "text/plain": [
       "<matplotlib.figure.Figure at 0x7fc3992bcda0>"
      ]
     },
     "metadata": {},
     "output_type": "display_data"
    },
    {
     "data": {
      "image/png": "[encoded data removed]",
      "text/plain": [
       "<matplotlib.figure.Figure at 0x7fc38e0e9b38>"
      ]
     },
     "metadata": {},
     "output_type": "display_data"
    },
    {
     "name": "stderr",
     "output_type": "stream",
     "text": [
      "/usr/local/lib/python3.5/dist-packages/numpy/core/numeric.py:531: ComplexWarning: Casting complex values to real discards the imaginary part\n",
      "  return array(a, dtype, copy=False, order=order)\n"
     ]
    },
    {
     "data": {
      "image/png": "[encoded data removed]",
      "text/plain": [
       "<matplotlib.figure.Figure at 0x7fc38e332f60>"
      ]
     },
     "metadata": {},
     "output_type": "display_data"
    },
    {
     "name": "stdout",
     "output_type": "stream",
     "text": [
      "4 (0.880728660426-0.00496158369011j)\n"
     ]
    },
    {
     "data": {
      "image/png": "[encoded data removed]",
      "text/plain": [
       "<matplotlib.figure.Figure at 0x7fc38e432400>"
      ]
     },
     "metadata": {},
     "output_type": "display_data"
    }
   ],
   "source": [
    "## slab\n",
    "\n",
    "lambda_g = 2.0*np.pi/(w_i*n)\n",
    "\n",
    "z_0 = 0.0     ## later assumed z_0=0\n",
    "z_1 = 200.0*lambda_g\n",
    "n_0 = n\n",
    "n_1 = n\n",
    "\n",
    "excitation_from_right_side = False\n",
    "#if phi>0.0:\n",
    "#    excitation_from_right_side = True\n",
    "\n",
    "w_Er = None \n",
    "_N_2 = Ns[0]\n",
    "\n",
    "def solveSlab(Ns, w_i, z_0, z_1, vbose=False):\n",
    "    global w_Er\n",
    "    _N_2 = Ns[0]\n",
    "    \n",
    "    N_mode_p = len(eig_points_k_p)\n",
    "    N_mode_m = len(eig_points_k_m)\n",
    "    if N_mode_p>N_mode_m:\n",
    "        for i in range(N_mode_p-N_mode_m):\n",
    "            del eig_points_k_p[-1]\n",
    "            del eig_points_w_p[-1]\n",
    "            del eig_vecs_E_p[-1]\n",
    "            del eig_vecs_H_p[-1]\n",
    "    elif N_mode_m>N_mode_p:\n",
    "        for i in range(N_mode_m-N_mode_p):\n",
    "            del eig_points_k_m[-1]\n",
    "            del eig_points_w_m[-1]\n",
    "            del eig_vecs_E_m[-1]\n",
    "            del eig_vecs_H_m[-1]\n",
    "\n",
    "    N_mode_p = len(eig_points_k_p)\n",
    "    N_mode_m = len(eig_points_k_m)\n",
    "\n",
    "    assert N_mode_p==N_mode_m\n",
    "\n",
    "    N_mode = int((N_mode_p + N_mode_m)/2)\n",
    "    N_mode_2 = int(N_mode/2)\n",
    "    w_Er = np.array([w_i+(i-N_mode_2)*d_wc for i in range(N_mode)])   ## reflected and transmitted frequencies\n",
    "    if vbose:\n",
    "        print('w_Er: ', w_Er)\n",
    "\n",
    "    Hr_Er_w = -n_0*np.ones(N_mode)    ## H_r(w)/E_r(w)\n",
    "    Ht_Et_w = n_1*np.ones(N_mode)    ## H_t(w)/E_t(w)\n",
    "    Ei_w = np.zeros(N_mode); Ei_w[N_mode_2]=1.0\n",
    "    Hi_Ei_w = n_0*np.ones(N_mode) \n",
    "    Hi_w = Hi_Ei_w*Ei_w\n",
    "    if vbose:\n",
    "        print('Hr_Er: ', Hr_Er_w)\n",
    "        print('Ei   : ', Ei_w)\n",
    "        print('Hi   : ', Hi_w)\n",
    "\n",
    "    k_arr = np.array([(i-_N_2)*d_k for i in range(2*_N_2)])\n",
    "    e_jkpd = [None]*N_mode_p\n",
    "    for i in range(N_mode_p):\n",
    "        e_jkpd[i] = np.exp(-1j*(eig_points_k_p[i]+k_arr)*(z_1-z_0))\n",
    "    e_jkmd = [None]*N_mode_m\n",
    "    for i in range(N_mode_m):\n",
    "        e_jkmd[i] = np.exp(-1j*(eig_points_k_m[i]+k_arr)*(z_1-z_0))\n",
    "\n",
    "    A = np.zeros((4*N_mode, 4*N_mode), dtype=complex)\n",
    "    rhs = np.zeros(4*N_mode, dtype=complex)\n",
    "\n",
    "    ind_r = lambda w_i: w_i\n",
    "    ind_t = lambda w_i: w_i+N_mode\n",
    "    ind_sp = lambda w_i: w_i+2*N_mode\n",
    "    ind_sm = lambda w_i: w_i+3*N_mode\n",
    "    ind_iw_sp = lambda w_i: i_w-N_mode_2+_N_2\n",
    "    ind_iw_sm = lambda w_i: i_w-N_mode_2+_N_2\n",
    "\n",
    "    for i_w in range(N_mode):  ## iterate over frequencies\n",
    "        A[ind_r(i_w), ind_r(i_w)] = -1.0\n",
    "        A[ind_t(i_w), ind_t(i_w)] =  1.0\n",
    "        A[ind_sp(i_w), ind_r(i_w)] = -Hr_Er_w[i_w]\n",
    "        A[ind_sm(i_w), ind_t(i_w)] =  Ht_Et_w[i_w]\n",
    "\n",
    "        rhs[ind_r(i_w)] = Ei_w[i_w]\n",
    "        rhs[ind_sp(i_w)] = Hi_w[i_w]\n",
    "        for i_m in range(N_mode): ## iterate over modes\n",
    "            if d_wc!=0.0:\n",
    "                #left wall E_left(w_i) = E_right(w_i)\n",
    "                A[ind_r(i_w), ind_sp(i_m)] =  eig_vecs_E_p[i_m][ind_iw_sp(i_w)]\n",
    "                A[ind_r(i_w), ind_sm(i_m)] =  eig_vecs_E_m[i_m][ind_iw_sm(i_w)]\n",
    "                #right wall E_left(w_i) = E_right(w_i)\n",
    "                A[ind_t(i_w), ind_sp(i_m)] =  -(eig_vecs_E_p[i_m]*e_jkpd[i_m])[ind_iw_sp(i_w)]\n",
    "                A[ind_t(i_w), ind_sm(i_m)] =  -(eig_vecs_E_m[i_m]*e_jkmd[i_m])[ind_iw_sm(i_w)]\n",
    "\n",
    "                #left wall H_left(w_i) = H_right(w_i)\n",
    "                A[ind_sp(i_w), ind_sp(i_m)] =  eig_vecs_H_p[i_m][ind_iw_sp(i_w)]\n",
    "                A[ind_sp(i_w), ind_sm(i_m)] =  eig_vecs_H_m[i_m][ind_iw_sm(i_w)]\n",
    "                #right wall H_left(w_i) = H_right(w_i)\n",
    "                A[ind_sm(i_w), ind_sp(i_m)] =  -(eig_vecs_H_p[i_m]*e_jkpd[i_m])[ind_iw_sp(i_w)]\n",
    "                A[ind_sm(i_w), ind_sm(i_m)] =  -(eig_vecs_H_m[i_m]*e_jkmd[i_m])[ind_iw_sm(i_w)]\n",
    "            else:\n",
    "                #left wall E_left(w_i) = E_right(w_i)\n",
    "                A[ind_r(i_w), ind_sp(i_m)] =  np.sum(eig_vecs_E_p[i_m])\n",
    "                A[ind_r(i_w), ind_sm(i_m)] =  np.sum(eig_vecs_E_m[i_m])\n",
    "                #right wall E_left(w_i) = E_right(w_i)\n",
    "                A[ind_t(i_w), ind_sp(i_m)] =  -np.sum(eig_vecs_E_p[i_m]*e_jkpd[i_m])\n",
    "                A[ind_t(i_w), ind_sm(i_m)] =  -np.sum(eig_vecs_E_m[i_m]*e_jkmd[i_m])\n",
    "\n",
    "                #left wall H_left(w_i) = H_right(w_i)\n",
    "                A[ind_sp(i_w), ind_sp(i_m)] =  np.sum(eig_vecs_H_p[i_m])\n",
    "                A[ind_sp(i_w), ind_sm(i_m)] =  np.sum(eig_vecs_H_m[i_m])\n",
    "                #right wall H_left(w_i) = H_right(w_i)\n",
    "                A[ind_sm(i_w), ind_sp(i_m)] =  -np.sum(eig_vecs_H_p[i_m]*e_jkpd[i_m])\n",
    "                A[ind_sm(i_w), ind_sm(i_m)] =  -np.sum(eig_vecs_H_m[i_m]*e_jkmd[i_m])\n",
    "\n",
    "    #print('A: \\n', A)\n",
    "    #print('rhs: ', rhs)\n",
    "    #print('eig_vecs_E_p: ', eig_vecs_E_p)\n",
    "    #print('ind_iw_sp(i_w)', ind_iw_sp(0))    \n",
    "\n",
    "    x = np.linalg.solve(A, rhs)\n",
    "\n",
    "    if vbose:\n",
    "        print('|x|: ', np.abs(x))\n",
    "    return x\n",
    "\n",
    "x = solveSlab(Ns, w_i, z_0, z_1)\n",
    "assert len(x)%4==0\n",
    "N_mode = int(len(x)/4)\n",
    "N_mode_2 = int(N_mode/2)\n",
    "\n",
    "\n",
    "font = {'family' : 'serif', 'weight' : 'normal', 'size'   : 16}\n",
    "matplotlib.rc('font', **font)\n",
    "\n",
    "\n",
    "figsize(10, 4)\n",
    "plot(np.arange(4*N_mode), 20*np.log10(np.abs(x)), 'ro')\n",
    "vlines(np.arange(4*N_mode), -100*np.ones(4*N_mode), (20*np.log10(np.abs(x))))\n",
    "ylim([-80, 10.0])\n",
    "grid()\n",
    "show()\n",
    "\n",
    "    \n",
    "figsize(4, 4)\n",
    "w_scaled = (w_Er-w_i)/abs(d_wc)\n",
    "x_R = x[0:N_mode]\n",
    "x_T = x[N_mode:2*N_mode]\n",
    "plot(w_scaled, 20*np.log10(np.abs(x_R)), 'bo')\n",
    "plot(w_scaled, 20*np.log10(np.abs(x_T)), 'rd')\n",
    "vlines(w_scaled, -100*np.ones(N_mode), (20*np.log10(np.abs(x_R))), linewidth=2, color='b', label='$R$')\n",
    "vlines(w_scaled, -100*np.ones(N_mode), (20*np.log10(np.abs(x_T))), linewidth=1, color='r', label='$T$')\n",
    "xlabel(r'$(\\omega-\\omega_0)/\\omega_m$', fontsize=18)\n",
    "ylabel(r'$T, R$ (dB)', fontsize=18)\n",
    "xlim([-2.5, 2.5])\n",
    "ylim([-100, 20.0])\n",
    "xticks(np.arange(-2, 3))\n",
    "yticks(np.arange(-100, 10, 20))\n",
    "legend(loc='upper left', fontsize=14)\n",
    "grid()\n",
    "savefig(os.path.join(dir_name, 'nondispersive-epsr-slab-RT' + file_ext), bbox_inches='tight', pad_inches=0.2)\n",
    "show()\n",
    "\n",
    "\n",
    "k_scaled = np.arange(N_mode)-N_mode_2\n",
    "x_SP = x[2*N_mode:3*N_mode]\n",
    "x_SM = x[3*N_mode:4*N_mode]\n",
    "if excitation_from_right_side:\n",
    "    k_scaled = -k_scaled\n",
    "    x_SP = x[3*N_mode:4*N_mode]\n",
    "    x_SM = x[2*N_mode:3*N_mode]\n",
    "plot(k_scaled, 20*np.log10(np.abs(x_SP)), 'rd')\n",
    "plot(k_scaled, 20*np.log10(np.abs(x_SM)), 'bo')\n",
    "vlines(k_scaled, -100*np.ones(N_mode), 20*np.log10(np.abs(x_SP)), linewidth=2, color='r', label=r'$v_g>0$')\n",
    "vlines(k_scaled, -100*np.ones(N_mode), 20*np.log10(np.abs(x_SM)), linewidth=1, color='b', label=r'$v_g<0$')\n",
    "xlabel(r'$p$', fontsize=18)\n",
    "ylabel(r'$|a_p|$ (dB)', fontsize=18)\n",
    "xlim([-2.5, 2.5])\n",
    "ylim([-100, 20.0])\n",
    "xticks(np.arange(-2, 3))\n",
    "yticks(np.arange(-100, 10, 20))\n",
    "legend(loc='upper left', fontsize=14)\n",
    "grid()\n",
    "savefig(os.path.join(dir_name, 'nondispersive-epsr-slab-modes' + file_ext), bbox_inches='tight', pad_inches=0.2)\n",
    "show()\n",
    "\n",
    "\n",
    "ind_mode_show_p = 0 + N_mode_2\n",
    "eig_vecs_E_p_show = eig_vecs_E_p[ind_mode_show_p]\n",
    "plot(np.arange(-_N_2, _N_2)*np.sign(d_wc), 20*np.log10(np.abs(eig_vecs_E_p_show)), 'ro')\n",
    "vlines(np.arange(-_N_2, _N_2)*np.sign(d_wc), -100*np.ones(N_mode), 20*np.log10(np.abs(eig_vecs_E_p_show)), linewidth=2, color='r')\n",
    "xlabel(r'$(\\omega-\\omega_0)/\\omega_m$', fontsize=18)\n",
    "ylabel(r'magnitude (dB)', fontsize=18)\n",
    "xlim([-2.5, 2.5])\n",
    "ylim([-100, 20])\n",
    "xticks(np.arange(-2, 3))\n",
    "yticks(np.arange(-100, 10, 20))\n",
    "grid()\n",
    "savefig(os.path.join(dir_name, 'nondispersive-epsr-slab-harmonics' + file_ext), bbox_inches='tight', pad_inches=0.2)\n",
    "show()\n",
    "\n",
    "eig_vecs_H_p_show = eig_vecs_H_p[ind_mode_show_p]\n",
    "plot(np.arange(-_N_2, _N_2)*np.sign(d_wc), eig_vecs_E_p_show/eig_vecs_H_p_show*n, 'go')\n",
    "vlines(np.arange(-_N_2, _N_2)*np.sign(d_wc), 0*np.ones(N_mode), eig_vecs_E_p_show/eig_vecs_H_p_show*n, linewidth=2, color='g')\n",
    "xlabel(r'$(\\omega-\\omega_0)/\\omega_m$', fontsize=18)\n",
    "ylabel(r'$n/n_0$', fontsize=18)\n",
    "xlim([-2.5, 2.5])\n",
    "#ylim([-100, 10])\n",
    "#yticks(np.arange(-100, 10, 20))\n",
    "grid()\n",
    "savefig(os.path.join(dir_name, 'nondispersive-epsr-slab-harmimpedance' + file_ext), bbox_inches='tight', pad_inches=0.2)\n",
    "show()\n",
    "\n",
    "\n",
    "figsize(6, 4)\n",
    "\n",
    "z = np.linspace(z_0, z_1/10, 500)\n",
    "k_p_show = eig_points_k_p[ind_mode_show_p]\n",
    "print(ind_mode_show_p, k_p_show)\n",
    "E_mode = np.zeros(len(z), dtype=complex)\n",
    "for m in range(-_N_2, _N_2):\n",
    "    E_mode += eig_vecs_E_p_show[m+_N_2]*np.exp(-1j*(k_p_show+m*d_k)*z)\n",
    "plot(z/lambda_g, np.real(E_mode))\n",
    "xlabel(r'$z/\\lambda$', fontsize=18)\n",
    "ylabel(r'$E(z)$', fontsize=18)\n",
    "xticks(np.arange(0, 30, 10))\n",
    "yticks(np.arange(-1, 2, 1))\n",
    "savefig(os.path.join(dir_name, 'nondispersive-epsr-slab-mode-profile' + file_ext), bbox_inches='tight', pad_inches=0.2)\n",
    "show()\n",
    "\n",
    "np.savez(os.path.join(dir_name, 'nondispersive-epsr-slab-RT'), x_R=x_R, x_T=x_T, w_scaled=w_scaled, w_i=w_i, d_wc=d_wc, d_k=d_k)\n"
   ]
  },
  {
   "cell_type": "code",
   "execution_count": 21,
   "metadata": {
    "collapsed": false
   },
   "outputs": [
    {
     "name": "stdout",
     "output_type": "stream",
     "text": [
      "0\n"
     ]
    },
    {
     "name": "stderr",
     "output_type": "stream",
     "text": [
      "/home/nima/ipython workspace/Electromagnetics/FourierBlochND.py:1824: OptimizeWarning: Unknown solver options: ftol, maxiter\n",
      "  options={'maxfev':maxfev, 'maxiter':maxiter, 'ftol': ftol})\n",
      "/usr/local/lib/python3.5/dist-packages/ipykernel/__main__.py:35: RuntimeWarning: invalid value encountered in true_divide\n",
      "/usr/local/lib/python3.5/dist-packages/ipykernel/__main__.py:35: RuntimeWarning: divide by zero encountered in true_divide\n",
      "/usr/local/lib/python3.5/dist-packages/ipykernel/__main__.py:35: RuntimeWarning: invalid value encountered in multiply\n",
      "/usr/local/lib/python3.5/dist-packages/ipykernel/__main__.py:101: RuntimeWarning: divide by zero encountered in true_divide\n",
      "/usr/local/lib/python3.5/dist-packages/ipykernel/__main__.py:101: RuntimeWarning: invalid value encountered in true_divide\n",
      "/usr/local/lib/python3.5/dist-packages/ipykernel/__main__.py:101: RuntimeWarning: invalid value encountered in multiply\n",
      "/usr/local/lib/python3.5/dist-packages/ipykernel/__main__.py:55: RuntimeWarning: overflow encountered in exp\n",
      "/usr/local/lib/python3.5/dist-packages/ipykernel/__main__.py:82: RuntimeWarning: invalid value encountered in multiply\n",
      "/usr/local/lib/python3.5/dist-packages/ipykernel/__main__.py:89: RuntimeWarning: invalid value encountered in multiply\n"
     ]
    },
    {
     "name": "stdout",
     "output_type": "stream",
     "text": [
      "1\n",
      "2\n"
     ]
    },
    {
     "data": {
      "image/png": "[encoded data removed]",
      "text/plain": [
       "<matplotlib.figure.Figure at 0x7fdabc80d588>"
      ]
     },
     "metadata": {},
     "output_type": "display_data"
    }
   ],
   "source": [
    "## isolation/length\n",
    "w_i = 0.259054\n",
    "Ns = [32]\n",
    "lambda_g = 2.0*np.pi/(w_i*n)\n",
    "\n",
    "N_z1 = 500\n",
    "#z_1_arr = np.linspace(1.0*lambda_g, 10000.0*lambda_g, N_z1)\n",
    "z_1_arr = np.logspace(np.log10(1.0*lambda_g), np.log10(1.0e4*lambda_g), N_z1, endpoint=True)\n",
    "\n",
    "M_ratio_arr = [0.1, 0.01, 0.001]\n",
    "colors = ['r', 'g', 'b']\n",
    "labels = [r'$M = 0.1$', r'$M = 0.01$', r'$M = 0.001$']\n",
    "N_M_rat = len(M_ratio_arr)\n",
    "\n",
    "R_abs = np.zeros((N_M_rat, N_z1))\n",
    "T_abs = np.zeros((N_M_rat, N_z1))\n",
    "\n",
    "for j in range(N_M_rat):\n",
    "    print(j)\n",
    "    global M_ratio\n",
    "    global eig_points_k, eig_points_w, eig_vecs_E, eig_vecs_H, \\\n",
    "        eig_points_k_p, eig_points_w_p, eig_vecs_E_p, eig_vecs_H_p, \\\n",
    "        eig_points_k_m, eig_points_w_m, eig_vecs_E_m, eig_vecs_H_m, \\\n",
    "        eig_points_k_p_BZ, eig_points_k_m_BZ, eig_points_w_p_BZ, eig_points_w_m_BZ\n",
    "\n",
    "    M_ratio = M_ratio_arr[j]\n",
    "    A_mat_list = set_matrices_list(w_i, Ns)\n",
    "    [eig_points_k, eig_points_w, eig_vecs_E, eig_vecs_H], \\\n",
    "    [eig_points_k_p, eig_points_w_p, eig_vecs_E_p, eig_vecs_H_p], \\\n",
    "    [eig_points_k_m, eig_points_w_m, eig_vecs_E_m, eig_vecs_H_m], \\\n",
    "    [eig_points_k_p_BZ, eig_points_k_m_BZ, eig_points_w_p_BZ, eig_points_w_m_BZ] = get_eig_points(w_i, Ns, _N_pp=10, A_eqs_list=[A_mat_list], vbose=False)\n",
    "    check_linear_dependence(vbose=False)\n",
    "\n",
    "    for i in range(N_z1):\n",
    "\n",
    "        z_1 = z_1_arr[i]\n",
    "        x = solveSlab(Ns, w_i, z_0, z_1)\n",
    "        assert len(x)%4==0\n",
    "        N_mode = int(len(x)/4)\n",
    "        N_mode_2 = int(N_mode/2)\n",
    "\n",
    "        x_R = x[0:N_mode]\n",
    "        x_T = x[N_mode:2*N_mode]\n",
    "\n",
    "        R_abs[j, i] = np.linalg.norm(x_R)\n",
    "        T_abs[j, i] = np.linalg.norm(x_T)\n",
    "    \n",
    "for j in range(N_M_rat):\n",
    "    #plot(z_1_arr/lambda_g, 20*np.log10(R_abs[j]), 'r')\n",
    "    plot(z_1_arr/lambda_g, 20*np.log10(T_abs[j]), colors[j], label=labels[j], lw=2)\n",
    "xscale('log')\n",
    "xlabel(r'$z/\\lambda$', fontsize=18)\n",
    "ylabel(r'Isolatin (dB)', fontsize=18)\n",
    "#xticks(np.arange(0, 30, 10))\n",
    "yticks(np.arange(-80, 10, 20))\n",
    "ylim([-100, 0])\n",
    "legend(loc='best', fontsize=18)\n",
    "savefig(os.path.join(dir_name, 'nondispersive-epsr-slab-isolation' + file_ext), bbox_inches='tight', pad_inches=0.2)\n",
    "show()\n",
    "\n",
    "np.savez(os.path.join(dir_name, 'nondispersive-epsr-slab-RT-L-M-1-p'), R_abs=R_abs, T_abs=T_abs, z_1_arr=z_1_arr, w_scaled=w_scaled, w_i=w_i, d_wc=d_wc, d_k=d_k)\n",
    "\n"
   ]
  },
  {
   "cell_type": "code",
   "execution_count": 32,
   "metadata": {
    "collapsed": false
   },
   "outputs": [
    {
     "name": "stderr",
     "output_type": "stream",
     "text": [
      "/home/nima/ipython workspace/Electromagnetics/FourierBlochND.py:1824: OptimizeWarning: Unknown solver options: ftol, maxiter\n",
      "  options={'maxfev':maxfev, 'maxiter':maxiter, 'ftol': ftol})\n",
      "/usr/local/lib/python3.5/dist-packages/ipykernel/__main__.py:35: RuntimeWarning: invalid value encountered in true_divide\n",
      "/usr/local/lib/python3.5/dist-packages/ipykernel/__main__.py:101: RuntimeWarning: invalid value encountered in true_divide\n"
     ]
    },
    {
     "name": "stdout",
     "output_type": "stream",
     "text": [
      "(0: w=0.282240, T=86561.1480) "
     ]
    },
    {
     "name": "stderr",
     "output_type": "stream",
     "text": [
      "/usr/local/lib/python3.5/dist-packages/ipykernel/__main__.py:35: RuntimeWarning: divide by zero encountered in true_divide\n",
      "/usr/local/lib/python3.5/dist-packages/ipykernel/__main__.py:35: RuntimeWarning: invalid value encountered in multiply\n",
      "/usr/local/lib/python3.5/dist-packages/ipykernel/__main__.py:101: RuntimeWarning: divide by zero encountered in true_divide\n",
      "/usr/local/lib/python3.5/dist-packages/ipykernel/__main__.py:101: RuntimeWarning: invalid value encountered in multiply\n"
     ]
    },
    {
     "name": "stdout",
     "output_type": "stream",
     "text": [
      "(1: w=0.284592, T=0.8589) (2: w=0.286944, T=0.0208) (3: w=0.289296, T=0.0000) (4: w=0.291648, T=0.0000) (5: w=0.294000, T=0.0000) (6: w=0.296352, T=0.0000) (7: w=0.298704, T=0.0000) (8: w=0.301056, T=0.0034) (9: w=0.303408, T=0.7734) (10: w=0.305760, T=0.9751) --------------------------------------------------\n",
      "(0: w=0.291060, T=0.9713) (1: w=0.291648, T=0.9929) (2: w=0.292236, T=0.9341) (3: w=0.292824, T=0.7594) (4: w=0.293412, T=0.0024) (5: w=0.294000, T=0.0002) (6: w=0.294588, T=155.4830) (7: w=0.295176, T=52.7666) (8: w=0.295764, T=0.9645) (9: w=0.296352, T=12.6973) (10: w=0.296940, T=0.9932) --------------------------------------------------\n",
      "(0: w=0.293706, T=1.5263) (1: w=0.293765, T=0.9238) (2: w=0.293824, T=0.9404) (3: w=0.293882, T=0.0055) (4: w=0.293941, T=0.0002) (5: w=0.294000, T=0.0032) (6: w=0.294059, T=0.8037) (7: w=0.294118, T=0.9082) (8: w=0.294176, T=0.9993) (9: w=0.294235, T=0.9681) (10: w=0.294294, T=1.0000) --------------------------------------------------\n"
     ]
    },
    {
     "data": {
      "image/png": "[encoded data removed]",
      "text/plain": [
       "<matplotlib.figure.Figure at 0x7f8c6dc972e8>"
      ]
     },
     "metadata": {},
     "output_type": "display_data"
    }
   ],
   "source": [
    "## bandwidth\n",
    "w_i = 0.29394#0.259054\n",
    "M_ratio = 0.001\n",
    "Ns = [32]\n",
    "lambda_g = 2.0*np.pi/(w_i*n)\n",
    "\n",
    "N_wi = 11\n",
    "\n",
    "M_ratio_arr = [0.1, 0.01, 0.001]\n",
    "colors = ['r', 'g', 'b']\n",
    "labels = [r'$M = 0.1$', r'$M = 0.01$', r'$M = 0.001$']\n",
    "z1_arr = [100*lambda_g, 600*lambda_g, 6000*lambda_g]\n",
    "d_w_arr = [0.04*w_i, 0.01*w_i, 0.001*w_i]\n",
    "N_M_rat = len(M_ratio_arr)\n",
    "\n",
    "R_abs = np.zeros((N_M_rat, N_wi))\n",
    "T_abs = np.zeros((N_M_rat, N_wi))\n",
    "w_i_arr = np.zeros((N_M_rat, N_wi))\n",
    "\n",
    "for j in range(N_M_rat):\n",
    "    global M_ratio\n",
    "    global eig_points_k, eig_points_w, eig_vecs_E, eig_vecs_H, \\\n",
    "        eig_points_k_p, eig_points_w_p, eig_vecs_E_p, eig_vecs_H_p, \\\n",
    "        eig_points_k_m, eig_points_w_m, eig_vecs_E_m, eig_vecs_H_m, \\\n",
    "        eig_points_k_p_BZ, eig_points_k_m_BZ, eig_points_w_p_BZ, eig_points_w_m_BZ\n",
    "\n",
    "    M_ratio = M_ratio_arr[j]\n",
    "    d_w_i = d_w_arr[j]\n",
    "    w_i_arr[j] = np.linspace(w_i-d_w_i, w_i+d_w_i, N_wi, endpoint=True)\n",
    "    for i in range(N_wi):\n",
    "        _w_i = w_i_arr[j, i]\n",
    "        A_mat_list = set_matrices_list(_w_i, Ns)\n",
    "        [eig_points_k, eig_points_w, eig_vecs_E, eig_vecs_H], \\\n",
    "        [eig_points_k_p, eig_points_w_p, eig_vecs_E_p, eig_vecs_H_p], \\\n",
    "        [eig_points_k_m, eig_points_w_m, eig_vecs_E_m, eig_vecs_H_m], \\\n",
    "        [eig_points_k_p_BZ, eig_points_k_m_BZ, eig_points_w_p_BZ, eig_points_w_m_BZ] = get_eig_points(_w_i, Ns, _N_pp=10, A_eqs_list=[A_mat_list], vbose=False)\n",
    "        check_linear_dependence(vbose=False)\n",
    "\n",
    "        x = solveSlab(Ns, _w_i, z_0=0.0, z_1=z1_arr[j])\n",
    "        assert len(x)%4==0\n",
    "        N_mode = int(len(x)/4)\n",
    "        N_mode_2 = int(N_mode/2)\n",
    "\n",
    "        x_R = x[0:N_mode]\n",
    "        x_T = x[N_mode:2*N_mode]\n",
    "\n",
    "        R_abs[j, i] = np.linalg.norm(x_R)\n",
    "        T_abs[j, i] = np.linalg.norm(x_T)\n",
    "        print('({}: w={:8.6f}, T={:6.4f})'.format(i, _w_i, T_abs[j, i]), end=' ')\n",
    "    print('-'*50)\n",
    "\n",
    "for j in range(N_M_rat):\n",
    "    plot((w_i_arr[j]-w_i)/w_i, 20*np.log10(T_abs[j]), colors[j], label=labels[j], lw=1)\n",
    "#xscale('log')\n",
    "xlabel(r'$\\omega-\\omega_0/\\omega_0$', fontsize=18)\n",
    "ylabel(r'Isolatin (dB)', fontsize=18)\n",
    "#xticks(np.arange(0, 30, 10))\n",
    "yticks(np.arange(-60, 10, 20))\n",
    "ylim([-80, 0])\n",
    "legend(loc='best', fontsize=14)\n",
    "savefig(os.path.join(dir_name, 'nondispersive-epsr-slab-bandwidth' + file_ext), bbox_inches='tight', pad_inches=0.2)\n",
    "show()\n"
   ]
  },
  {
   "cell_type": "markdown",
   "metadata": {
    "collapsed": true
   },
   "source": [
    "### FDTD"
   ]
  },
  {
   "cell_type": "code",
   "execution_count": 5,
   "metadata": {
    "collapsed": false
   },
   "outputs": [
    {
     "name": "stdout",
     "output_type": "stream",
     "text": [
      "del_eps: 0.1 omega_m: -0.069798993405 k_m: 1.99878165404\n",
      "r0: [ 0.] r1: [ 661.38792707]\n",
      "r_T_1d: [ 641.54628926] r_R_1d: [ 19.84163781]\n"
     ]
    },
    {
     "name": "stderr",
     "output_type": "stream",
     "text": [
      "/home/nima/ipython workspace/Electromagnetics/FDTD.py:2239: FutureWarning: comparison to `None` will result in an elementwise object comparison in the future.\n",
      "  if c==None:\n",
      "/home/nima/ipython workspace/Electromagnetics/FDTD.py:2199: FutureWarning: comparison to `None` will result in an elementwise object comparison in the future.\n",
      "  if c==None:\n",
      "/home/nima/ipython workspace/Electromagnetics/FDTD.py:2219: FutureWarning: comparison to `None` will result in an elementwise object comparison in the future.\n",
      "  if b==None:\n"
     ]
    },
    {
     "name": "stdout",
     "output_type": "stream",
     "text": [
      "simulation time: 2:21\n"
     ]
    }
   ],
   "source": [
    "from Electromagnetics.FDTD import *\n",
    "import numpy as np\n",
    "import time\n",
    "\n",
    "import os\n",
    "cwd = os.getcwd()\n",
    "dir_name = os.path.join(cwd, 'other', 'spacetime')\n",
    "#file_ext = '.png'\n",
    "if not os.path.exists(dir_name):\n",
    "    os.makedirs(dir_name)\n",
    "\n",
    "\n",
    "n_dim = 1\n",
    "r0, r1, dr = [None]*3\n",
    "S = 0.9\n",
    "n_t = None\n",
    "save_every = 10\n",
    "source_at_right = False\n",
    "\n",
    "r_c = None\n",
    "r0_eps, r1_eps = None, None\n",
    "r0_deps, r1_deps = None, None\n",
    "a_eps, b_eps = None, None\n",
    "omega = 0.95 #2.0*np.pi\n",
    "s_pml = None\n",
    "d_pml = None\n",
    "set_pml = True\n",
    "is_t_var = True\n",
    "\n",
    "n = 1.0\n",
    "L_0 = 2.0*np.pi/(omega*n)\n",
    "\n",
    "if n_dim==1:\n",
    "    r0 = np.array([0.0])\n",
    "    r1 = np.array([100.0*L_0])\n",
    "    dr = np.array([L_0/100])\n",
    "    S /= np.sqrt(1)\n",
    "    n_t = 40000#2**18\n",
    "\n",
    "    r_c = (r0+r1)/2.0\n",
    "    a_eps, b_eps = n**2, n**2\n",
    "    w_eps = (r1-r0)/2\n",
    "    r0_eps = r_c - w_eps/2.0\n",
    "    r1_eps = r_c + w_eps/2.0\n",
    "    \n",
    "    r0_deps = r0_eps\n",
    "    r1_deps = r1_eps\n",
    "\n",
    "    d_pml = np.array([0.5*L_0])\n",
    "    s_pml = np.array([1.0+5.0j/L_0])\n",
    "    \n",
    "dt = S*dr[0]*np.sqrt(min(a_eps, b_eps))\n",
    "d_v = np.prod(dr)\n",
    "\n",
    "\n",
    "fdtd = FDTDSimulator()\n",
    "\n",
    "fdtd.SetSimulationBox(r0, r1, dr, dt)\n",
    "fdtd.save_every = save_every \n",
    "\n",
    "d_x_ = np.zeros(n_dim)\n",
    "d_x_[0] = (r1[0]-r0[0])\n",
    "d_x_pml = np.zeros(n_dim)\n",
    "d_x_pml[0] = d_pml[0]\n",
    "\n",
    "t0 = 10.0*2.0*np.pi/omega\n",
    "f_t = lambda t: 2.0*np.cos(omega*t)*np.exp(-(t-t0)**2/(t0/4)**2)*(t<=t0) + 2.0*np.cos(omega*t)*(t>t0)\n",
    "\n",
    "## J\n",
    "r_j = r_c - d_x_*0.45 + set_pml*d_x_pml\n",
    "je_mag = 1.0/dr[0]\n",
    "src_dir = 'z'\n",
    "je_args = None\n",
    "je_type = FVTypes.JePoint\n",
    "if source_at_right:\n",
    "    r_j = r_c + d_x_*0.45 - set_pml*d_x_pml\n",
    "je_args = {'r0':r_j, 'mag':je_mag, 'f_t':f_t, 'src_dir':src_dir}\n",
    "\n",
    "fdtd.AddSources({'type':je_type, 'name':'Je', 'args':je_args})\n",
    "\n",
    "## M\n",
    "r_m = r_c - d_x_*0.45 + set_pml*d_x_pml\n",
    "jm_mag = -1.0/dr[0]/np.sqrt(b_eps)\n",
    "src_dir = 'y'\n",
    "jm_args = None\n",
    "jm_type = FVTypes.JmPoint\n",
    "if source_at_right:\n",
    "    r_m = r_c + d_x_*0.45 - set_pml*d_x_pml\n",
    "    jm_mag *= -1.0\n",
    "jm_args = {'r0':r_m, 'mag':jm_mag, 'f_t':f_t, 'src_dir':src_dir}\n",
    "fdtd.AddSources({'type':jm_type, 'name':'Jm', 'args':jm_args})\n",
    "\n",
    "\n",
    "eps_args = {'r0':r0_eps, 'r1':r1_eps, 'mag_in':a_eps, 'mag_out':b_eps}\n",
    "fdtd.AddMaterial({'type':FVTypes.EpsIsoBox, 'name':'eps', 'args':eps_args})\n",
    "\n",
    "deps = None\n",
    "f_deps = None\n",
    "deps_out = []\n",
    "if is_t_var:\n",
    "    del_eps = 0.1*n**2\n",
    "    omega_m = -0.069798993405 #0.1*omega\n",
    "    k_m = 1.99878165404 #1.9*omega*np.sqrt(a_eps)\n",
    "    print('del_eps:', del_eps, 'omega_m:', omega_m, 'k_m:', k_m)\n",
    "    a_deps = lambda r, t: del_eps*np.cos(omega_m*t - k_m*r[0])\n",
    "    if n_dim==1:\n",
    "        a_deps = lambda r, t: del_eps*np.cos(omega_m*t - k_m*r)\n",
    "    deps_args = {'r0':r0_deps, 'r1':r1_deps, 'mag_in':a_deps, 'mag_out':0.0}\n",
    "    fdtd.AddMaterial({'type':FVTypes.EpsIsoSTvarBox, 'name':'deps', 'args':deps_args})\n",
    "    \n",
    "if set_pml:\n",
    "    pml_args = {'d_pml':d_pml, 's_pml':s_pml}\n",
    "    fdtd.AddPML({'type':FVTypes.UPML, 'name':'pml', 'args':pml_args})\n",
    "\n",
    "set_eps_out = True\n",
    "set_j_out = False\n",
    "set_T_1d = True\n",
    "set_R_1d = True\n",
    "\n",
    "r_R_1d = r_j - (r_j-d_pml)/2.0\n",
    "r_T_1d = r1 - r_R_1d\n",
    "if source_at_right:\n",
    "    r_R_1d = r_j + (r1-d_pml-r_j)/2.0\n",
    "    r_T_1d = r1 - r_R_1d\n",
    "print('r0:', r0, 'r1:', r1)\n",
    "print('r_T_1d:', r_T_1d, 'r_R_1d:', r_R_1d)\n",
    "\n",
    "fdtd.AddViewPlane({'type':FVTypes.VPSide, 'r':r_j, 'args':{'A':'E', 'A_dir':'z', 'O_dir':None, 'name':'E'}})\n",
    "if set_j_out:\n",
    "    fdtd.AddViewPlane({'type':FVTypes.VPSide, 'r':r_j, 'args':{'A':'Je', 'A_dir':'z', 'O_dir':None, 'name':'J'}})\n",
    "if n_dim==1 and set_T_1d:\n",
    "    fdtd.AddViewPlane({'type':FVTypes.VPSide, 'r':r_T_1d, 'args':{'A':'E', 'A_dir':'z', 'O_dir':'x', 'name':'T'}})\n",
    "if n_dim==1 and set_R_1d:\n",
    "    fdtd.AddViewPlane({'type':FVTypes.VPSide, 'r':r_R_1d, 'args':{'A':'E', 'A_dir':'z', 'O_dir':'x', 'name':'R'}})\n",
    "        \n",
    "if is_t_var and set_eps_out:\n",
    "    fdtd.AddViewPlane({'type':FVTypes.VPSide, 'r':r_j, 'args':{'A':'deps', 'A_dir':'x', 'O_dir':None, 'name':'Eps'}})\n",
    "\n",
    "\n",
    "fdtd.StepFields(n_t)\n",
    "n_saved = fdtd.n_saved\n",
    "    "
   ]
  },
  {
   "cell_type": "code",
   "execution_count": 6,
   "metadata": {
    "collapsed": false
   },
   "outputs": [
    {
     "name": "stdout",
     "output_type": "stream",
     "text": [
      "max(e_max): 4.19698401184\n",
      "max(deps_max): 0.1\n",
      "max(T): 0.660058216419\n",
      "max(R): 2.1972218619\n",
      "(10000,) (10000,)\n"
     ]
    }
   ],
   "source": [
    "import matplotlib.pyplot as plt\n",
    "\n",
    "r_E, E_out_list = fdtd.GetOutputs('E')\n",
    "x_E, y_E, z_E = [None]*3\n",
    "if n_dim==3:\n",
    "    x_E, y_E, z_E = r_E\n",
    "elif n_dim==2:\n",
    "    x_E, y_E = r_E\n",
    "elif n_dim==1:\n",
    "    x_E = r_E[0]\n",
    "e_max = [np.max(np.abs(e)) for e in E_out_list]\n",
    "print('max(e_max):', max(e_max))\n",
    "e_max = max(e_max)\n",
    "    \n",
    "x_J, y_J, z_J = [None]*3\n",
    "j_max = None\n",
    "J_out_list = None\n",
    "if set_j_out:\n",
    "    r_J, J_out_list = fdtd.GetOutputs('J')\n",
    "    if n_dim==3:\n",
    "        x_J, y_J, z_J = r_J\n",
    "    elif n_dim==2:\n",
    "        x_J, y_J = r_J\n",
    "    elif n_dim==1:\n",
    "        x_J = r_J[0]\n",
    "    j_max = [np.max(np.abs(j)) for j in J_out_list]\n",
    "    print('max(j_max):', max(j_max))\n",
    "    j_max = max(j_max)\n",
    "\n",
    "\n",
    "\n",
    "x_deps, y_deps, z_deps = [None]*3\n",
    "deps_out_list = None\n",
    "deps_max = None\n",
    "if is_t_var and set_eps_out:\n",
    "    r_deps, deps_out_list = fdtd.GetOutputs('Eps')\n",
    "    if n_dim==3:\n",
    "        x_deps, y_deps, z_deps = r_deps\n",
    "    elif n_dim==2:\n",
    "        x_deps, y_deps = r_deps\n",
    "    elif n_dim==1:\n",
    "        x_deps = r_deps[0]\n",
    "    deps_max = [np.max(np.abs(de)) for de in deps_out_list]\n",
    "    print('max(deps_max):', max(deps_max))\n",
    "    deps_max = max(deps_max)\n",
    "\n",
    "\n",
    "x_T = None\n",
    "T_arr = None\n",
    "if n_dim==1 and set_T_1d:\n",
    "    r_T, T_out_list = fdtd.GetOutputs('T')\n",
    "    x_T = r_T[0]\n",
    "    T_arr = np.array([t[0] for t in T_out_list])\n",
    "    T_max = np.max(np.abs(T_arr))\n",
    "    print('max(T):', T_max)\n",
    "    \n",
    "x_R = None\n",
    "R_arr = None\n",
    "if n_dim==1 and set_R_1d:\n",
    "    r_R, R_out_list = fdtd.GetOutputs('R')\n",
    "    x_R = r_R[0]\n",
    "    R_arr = np.array([t[0] for t in R_out_list])\n",
    "    R_max = np.max(np.abs(R_arr))\n",
    "    print('max(R):', R_max)\n",
    "    \n",
    "    \n",
    "print(x_E.shape, E_out_list[0].shape)\n",
    "\n",
    "import matplotlib.pyplot as plt\n",
    "import matplotlib.animation as animation\n",
    "\n",
    "plt.rcParams[\"figure.figsize\"] = (5, 2)\n",
    "\n",
    "np.savez(os.path.join(dir_name, 'nondispersive-epsr-slab-RT-FDTD'), T_arr=T_arr, R_arr=R_arr, dt=dt, omega=omega, omega_m=omega_m, k_m=k_m)\n",
    "\n"
   ]
  },
  {
   "cell_type": "code",
   "execution_count": 7,
   "metadata": {
    "collapsed": false
   },
   "outputs": [
    {
     "name": "stdout",
     "output_type": "stream",
     "text": [
      "set_T_1d: True\n",
      "set_R_1d: True\n"
     ]
    }
   ],
   "source": [
    "%matplotlib tk\n",
    "\n",
    "import numpy as np\n",
    "import matplotlib.pyplot as plt\n",
    "import matplotlib.animation as animation\n",
    "import matplotlib\n",
    "\n",
    "\n",
    "# Set up formatting for the movie files\n",
    "#Writer = animation.writers['mencoder']    ## avconv ffmpeg mencoder\n",
    "#writer = Writer(fps=15, metadata=dict(artist='Me'))\n",
    "#writer = animation.FFMpegWriter()\n",
    "\n",
    "plt_field = 'E'\n",
    "save_anim = False\n",
    "file_format = 'gif'   ## 'gif' / 'mp4'\n",
    "\n",
    "logscale=False\n",
    "log_0 = np.log(e_max)-10\n",
    "\n",
    "use_subplots = False\n",
    "\n",
    "font = {'family' : 'serif', 'weight' : 'normal', 'size'   : 14}\n",
    "matplotlib.rc('font', **font)\n",
    "\n",
    "if set_T_1d:\n",
    "    print('set_T_1d:', set_T_1d)\n",
    "    f__0 = omega/(2.0*np.pi)\n",
    "    d__f = omega_m/((2.0*np.pi))\n",
    "    T_arr = T_arr[int(len(T_arr)/2):]\n",
    "    plt.figure()\n",
    "    plt.plot(T_arr)\n",
    "    plt.show()\n",
    "    T_fft = np.fft.fft(T_arr)\n",
    "    T_fft = np.abs(T_fft)/len(T_fft)\n",
    "    freq = np.fft.fftfreq(T_fft.shape[-1], dt)\n",
    "    #plt.figure()\n",
    "    #plt.plot(freq, T_fft)\n",
    "    #plt.gca().set_xlim([f__0-10.0*d__f, f__0+10.0*d__f])\n",
    "    #plt.gca().set_ylim([0, T_max])\n",
    "    plt.show()\n",
    "    plt.figure()\n",
    "    plt.plot(freq, 20*np.log10(T_fft))\n",
    "    #plt.gca().set_xlim([f__0-3.0*d__f, f__0+3.0*d__f])\n",
    "    plt.gca().set_ylim([-80.0, 10.0])\n",
    "    plt.show()\n",
    "\n",
    "if set_R_1d:\n",
    "    print('set_R_1d:', set_R_1d)\n",
    "    f__0 = omega/(2.0*np.pi)\n",
    "    d__f = omega_m/((2.0*np.pi))\n",
    "    R_arr = R_arr[int(len(R_arr)/2):]\n",
    "    plt.figure()\n",
    "    plt.plot(R_arr)\n",
    "    plt.show()\n",
    "    R_fft = np.fft.fft(R_arr)\n",
    "    R_fft = np.abs(R_fft)/len(R_fft)\n",
    "    freq = np.fft.fftfreq(R_fft.shape[-1], dt)\n",
    "    #plt.figure()\n",
    "    #plt.plot(freq, R_fft)\n",
    "    #plt.gca().set_xlim([f__0-10.0*d__f, f__0+10.0*d__f])\n",
    "    #plt.gca().set_ylim([0, R_max])\n",
    "    plt.show()\n",
    "    plt.figure()\n",
    "    plt.plot(freq, 20*np.log10(R_fft))\n",
    "    #plt.gca().set_xlim([f__0-3.0*d__f, f__0+3.0*d__f])\n",
    "    plt.gca().set_ylim([-80.0, 10.0])\n",
    "    plt.show()\n",
    "\n",
    "fig, axarr = None, None\n",
    "def animate_E(i):\n",
    "    #global fig\n",
    "    if not is_t_var:\n",
    "        plt.clf()\n",
    "        fig = plt.plot(x_E, E_out_list[i])\n",
    "        axes = plt.gca()\n",
    "        axes.set_ylim([-e_max, e_max])\n",
    "        return fig\n",
    "    else:\n",
    "        if not use_subplots:\n",
    "            plt.clf()\n",
    "            fig = None\n",
    "            if plt_field=='E':\n",
    "                fig = plt.plot(x_E, E_out_list[i])\n",
    "                ax = plt.gca()\n",
    "                ax.set_ylim([-e_max, e_max])\n",
    "                ax.axes.get_xaxis().set_ticks([])\n",
    "                ax.axes.get_yaxis().set_ticks([])\n",
    "            elif plt_field=='Eps':\n",
    "                fig = plt.plot(x_deps, deps_out_list[i], 'r')\n",
    "                ax = plt.gca()\n",
    "                ax.set_ylim([-deps_max, deps_max])\n",
    "                ax.axes.get_xaxis().set_ticks([])\n",
    "            #fig.set_tight_layout(True)\n",
    "            ax = plt.gca()\n",
    "            ax.set_adjustable('box-forced')\n",
    "            plt.axvline(x=r0_deps[0], linewidth=1.0, linestyle='-.',color='r')\n",
    "            plt.axvline(x=r1_deps[0], linewidth=1.0, linestyle='-.',color='r')\n",
    "            return fig\n",
    "        else:\n",
    "            plt.clf()\n",
    "            fig, axarr = plt.subplots(2, sharex=True)\n",
    "            axarr[0].plot(x_E, E_out_list[i])\n",
    "            axarr[0].set_ylim([-e_max, e_max])\n",
    "            axarr[1].plot(x_deps, deps_out_list[i], 'r')\n",
    "            axarr[1].set_ylim([-deps_max, deps_max])\n",
    "            return fig\n",
    "\n",
    "\n",
    "def animate_J(i):\n",
    "    plt.clf()\n",
    "    fig = plt.plot(x_J, J_out_list[i])\n",
    "    axes = plt.gca()\n",
    "    axes.set_ylim([-j_max, j_max])\n",
    "    return fig\n",
    "\n",
    "anim = None\n",
    "if is_t_var and use_subplots:\n",
    "    fig, axarr = plt.subplots(2, sharex=True)\n",
    "else:\n",
    "    fig = plt.figure()\n",
    "\n",
    "if plt_field=='E' or plt_field=='Eps':\n",
    "    anim = animation.FuncAnimation(fig, animate_E, frames=n_saved, interval=1)\n",
    "elif plt_field=='J':\n",
    "    anim = animation.FuncAnimation(fig, animate_J, frames=n_saved, interval=1)\n",
    "else:\n",
    "    raise ValuError()\n",
    "\n",
    "if save_anim:\n",
    "    if file_format=='gif':\n",
    "        anim.save(os.path.join(dir_name, 'nondispersive-epsr-E1d-anim.gif'), writer=\"imagemagick\", fps=15, dpi=200)\n",
    "    elif file_format=='mp4':\n",
    "        anim.save(os.path.join(dir_name, 'nondispersive-epsr-E1d-anim.mp4'), writer=\"mencoder\", fps=15, dpi=200)\n",
    "plt.show()\n",
    "    "
   ]
  },
  {
   "cell_type": "markdown",
   "metadata": {
    "collapsed": true
   },
   "source": [
    "### FDTD and modal"
   ]
  },
  {
   "cell_type": "code",
   "execution_count": 16,
   "metadata": {
    "collapsed": false
   },
   "outputs": [
    {
     "name": "stdout",
     "output_type": "stream",
     "text": [
      "Populating the interactive namespace from numpy and matplotlib\n",
      "['T_arr', 'k_m', 'omega_m', 'R_arr', 'omega', 'dt']\n",
      "['d_wc', 'd_k', 'w_i', 'x_T', 'w_scaled', 'x_R']\n"
     ]
    },
    {
     "data": {
      "image/png": "[encoded data removed]",
      "text/plain": [
       "<matplotlib.figure.Figure at 0x7fd9a87038d0>"
      ]
     },
     "metadata": {},
     "output_type": "display_data"
    },
    {
     "data": {
      "image/png": "[encoded data removed]",
      "text/plain": [
       "<matplotlib.figure.Figure at 0x7fd9a8617a90>"
      ]
     },
     "metadata": {},
     "output_type": "display_data"
    }
   ],
   "source": [
    "%pylab inline\n",
    "\n",
    "import numpy as np\n",
    "\n",
    "import os\n",
    "cwd = os.getcwd()\n",
    "dir_name = os.path.join(cwd, 'other', 'spacetime')\n",
    "file_ext = '.png'\n",
    "if not os.path.exists(dir_name):\n",
    "    os.makedirs(dir_name)\n",
    "    \n",
    "font = {'family' : 'serif', 'weight' : 'normal', 'size'   : 16}\n",
    "matplotlib.rc('font', **font)\n",
    "\n",
    "data_FDTD = np.load(os.path.join(dir_name, 'nondispersive-epsr-slab-RT-FDTD.npz'))\n",
    "print(data_FDTD.files)\n",
    "\n",
    "data_modal = np.load(os.path.join(dir_name, 'nondispersive-epsr-slab-RT.npz'))\n",
    "print(data_modal.files)\n",
    "\n",
    "\n",
    "x_R = data_modal['x_R']\n",
    "x_T = data_modal['x_T']\n",
    "w_scaled = data_modal['w_scaled']\n",
    "\n",
    "\n",
    "R_arr = data_FDTD['R_arr']\n",
    "T_arr = data_FDTD['T_arr']\n",
    "dt = data_FDTD['dt']\n",
    "R_arr = R_arr[int(len(R_arr)/2):]\n",
    "T_arr = T_arr[int(len(T_arr)/2):]\n",
    "R_fft = np.fft.fft(R_arr)/len(R_arr)\n",
    "T_fft = np.fft.fft(T_arr)/len(T_arr)\n",
    "w_fdtd = 2.0*np.pi*np.fft.fftfreq(R_fft.shape[-1], dt)\n",
    "w0_fdtd = data_FDTD['omega']\n",
    "w_m_fdtd = data_FDTD['omega_m']\n",
    "w_scaled_fdtd = (w_fdtd - w0_fdtd)/w_m_fdtd\n",
    "\n",
    "plot(w_scaled_fdtd, 20*np.log10(np.abs(R_fft)))\n",
    "plot(w_scaled, 20*np.log10(np.abs(x_R)), 'ro')\n",
    "xlim([-5, 5])\n",
    "ylim([-80, 10])\n",
    "xlabel(r'$(\\omega-\\omega_0)/\\Delta\\omega$', fontsize=20)\n",
    "ylabel(r'$R$ (dB)', fontsize=20)\n",
    "grid()\n",
    "savefig(os.path.join(dir_name, 'nondispersive-epsr-slab-R-FDTD-modal-2' + file_ext), bbox_inches='tight', pad_inches=0.2)\n",
    "show()\n",
    "\n",
    "plot(w_scaled_fdtd, 20*np.log10(np.abs(T_fft)))\n",
    "plot(w_scaled, 20*np.log10(np.abs(x_T)), 'ro')\n",
    "xlim([-5, 5])\n",
    "ylim([-80, 10])\n",
    "xlabel(r'$(\\omega-\\omega_0)/\\Delta\\omega$', fontsize=20)\n",
    "ylabel(r'$T$ (dB)', fontsize=20)\n",
    "grid()\n",
    "savefig(os.path.join(dir_name, 'nondispersive-epsr-slab-T-FDTD-modal-2' + file_ext), bbox_inches='tight', pad_inches=0.2)\n",
    "show()\n"
   ]
  },
  {
   "cell_type": "markdown",
   "metadata": {
    "collapsed": true
   },
   "source": [
    "### Experiment"
   ]
  },
  {
   "cell_type": "code",
   "execution_count": 24,
   "metadata": {
    "collapsed": false
   },
   "outputs": [
    {
     "data": {
      "image/png": "[encoded data removed]",
      "text/plain": [
       "<matplotlib.figure.Figure at 0x7f32b0d4c9e8>"
      ]
     },
     "metadata": {},
     "output_type": "display_data"
    },
    {
     "data": {
      "image/png": "[encoded data removed]",
      "text/plain": [
       "<matplotlib.figure.Figure at 0x7f329eedf828>"
      ]
     },
     "metadata": {},
     "output_type": "display_data"
    }
   ],
   "source": [
    "import numpy as np\n",
    "\n",
    "figsize(4, 4)\n",
    "\n",
    "Et_fwd_exp = np.loadtxt(os.path.join(dir_name, 'exp-fwd-T.txt'))\n",
    "Er_fwd_exp = np.loadtxt(os.path.join(dir_name, 'exp-fwd-R.txt'))\n",
    "Et_bwd_exp = np.loadtxt(os.path.join(dir_name, 'exp-bwd-T.txt'))\n",
    "Er_bwd_exp = np.loadtxt(os.path.join(dir_name, 'exp-bwd-R.txt'))\n",
    "#print(Et_fwd_exp.shape)\n",
    "#print(Er_fwd_exp.shape)\n",
    "\n",
    "f0 = 2.5e9\n",
    "df = 0.27*f0\n",
    "N = Et_fwd_exp.shape[0]\n",
    "\n",
    "plot((Er_fwd_exp[:,0]-f0)/df, Er_fwd_exp[:,1], 'bo', lw=1)\n",
    "vlines((Er_fwd_exp[:,0]-f0)/df, -100*np.ones(N), Er_fwd_exp[:,1], linewidth=2, color='b', label='$R$')\n",
    "plot((Et_fwd_exp[:,0]-f0)/df, Et_fwd_exp[:,1], 'rd', lw=1)\n",
    "vlines((Et_fwd_exp[:,0]-f0)/df, -100*np.ones(N), Et_fwd_exp[:,1], linewidth=1, color='r', label='$T$')\n",
    "\n",
    "xlim([-2.5, 2.5])\n",
    "yticks(np.arange(-80, 10, 10))\n",
    "ylim([-40, 5])\n",
    "xlabel(r'$(\\omega-\\omega_0)/\\omega_m$', fontsize=20)\n",
    "ylabel(r'$T, R$ (dB)', fontsize=20)\n",
    "legend(loc='upper left', fontsize=14)\n",
    "grid()\n",
    "\n",
    "savefig(os.path.join(dir_name, 'exp-fwd-TR' + file_ext), bbox_inches='tight', pad_inches=0.2)\n",
    "show()\n",
    "\n",
    "N = Et_bwd_exp.shape[0]\n",
    "\n",
    "plot((Er_bwd_exp[:,0]-f0)/df, Er_bwd_exp[:,1], 'rd', lw=1)\n",
    "vlines((Er_bwd_exp[:,0]-f0)/df, -100*np.ones(N), Er_bwd_exp[:,1], linewidth=2, color='r', label='$R$')\n",
    "plot((Et_bwd_exp[:,0]-f0)/df, Et_bwd_exp[:,1], 'bo', lw=1)\n",
    "vlines((Et_bwd_exp[:,0]-f0)/df, -100*np.ones(N), Et_bwd_exp[:,1], linewidth=1, color='b', label='$T$')\n",
    "\n",
    "#plot(w_scaled+0.1, 20*np.log10(np.abs(x_R)), 'rd')\n",
    "#plot(w_scaled+0.1, 20*np.log10(np.abs(x_T)), 'bo')\n",
    "#vlines(w_scaled+0.1, -100*np.ones(N_mode), (20*np.log10(np.abs(x_R))), linewidth=2, color='r', linestyle='--')\n",
    "#vlines(w_scaled+0.1, -100*np.ones(N_mode), (20*np.log10(np.abs(x_T))), linewidth=1, color='b', linestyle='--')\n",
    "\n",
    "savefig(os.path.join(dir_name, 'exp-bwd-TR' + file_ext), bbox_inches='tight', pad_inches=0.2)\n",
    "xlim([-2.5, 2.5])\n",
    "yticks(np.arange(-80, 10, 10))\n",
    "ylim([-40, 5])\n",
    "xlabel(r'$(\\omega-\\omega_0)/\\omega_m$', fontsize=20)\n",
    "ylabel(r'$T, R$ (dB)', fontsize=20)\n",
    "legend(loc='upper left', fontsize=14)\n",
    "grid()\n",
    "\n",
    "savefig(os.path.join(dir_name, 'exp-bwd-TR' + file_ext), bbox_inches='tight', pad_inches=0.2)\n",
    "show()\n"
   ]
  },
  {
   "cell_type": "code",
   "execution_count": 42,
   "metadata": {
    "collapsed": false
   },
   "outputs": [
    {
     "name": "stdout",
     "output_type": "stream",
     "text": [
      "(31, 500)\n"
     ]
    },
    {
     "data": {
      "image/png": "[encoded data removed]",
      "text/plain": [
       "<matplotlib.figure.Figure at 0x7fa0f6cee470>"
      ]
     },
     "metadata": {},
     "output_type": "display_data"
    }
   ],
   "source": [
    "import numpy as np\n",
    "from scipy import constants\n",
    "\n",
    "figsize(6, 4)\n",
    "\n",
    "dispersion_exp = np.loadtxt(os.path.join(dir_name, 'dispersion-st.txt'))\n",
    "\n",
    "print(dispersion_exp.shape)\n",
    "\n",
    "f0 = 2.5e9\n",
    "f_m = 0.27*f0\n",
    "omega_0 = 2.0*np.pi*f0\n",
    "omega_m = 2.0*np.pi*f_m\n",
    "k_m = 415.79\n",
    "\n",
    "a = 2.0*np.pi/k_m\n",
    "c = constants.c\n",
    "\n",
    "\n",
    "for i in range(1, dispersion_exp.shape[0]):\n",
    "    plot(dispersion_exp[0,:]*k_m*a, dispersion_exp[i,:]*omega_m*a/c, 'b')\n",
    "axhline(omega_0*a/c, color='g', linestyle='-.')\n",
    "\n",
    "xticks([-2*pi, 0, 2*pi], [r'$-2\\pi$', r'$0$', r'$2\\pi$'])\n",
    "yticks(np.arange(-1, 2)*2)\n",
    "\n",
    "xlim(-2*k_m*a, 2*k_m*a)\n",
    "ylim(-10*omega_m*a/c, 10*omega_m*a/c)\n",
    "\n",
    "ylabel(r'$\\omega a/c$', fontsize=22)\n",
    "xlabel(r'$\\beta a$', fontsize=22)\n",
    "#gca().set_aspect('equal', 'datalim')\n",
    "\n",
    "savefig(os.path.join(dir_name, 'exp-disp' + file_ext), bbox_inches='tight', pad_inches=0.2)\n"
   ]
  },
  {
   "cell_type": "code",
   "execution_count": null,
   "metadata": {
    "collapsed": true
   },
   "outputs": [],
   "source": []
  }
 ],
 "metadata": {
  "kernelspec": {
   "display_name": "Python 3",
   "language": "python",
   "name": "python3"
  },
  "language_info": {
   "codemirror_mode": {
    "name": "ipython",
    "version": 3
   },
   "file_extension": ".py",
   "mimetype": "text/x-python",
   "name": "python",
   "nbconvert_exporter": "python",
   "pygments_lexer": "ipython3",
   "version": "3.5.2"
  }
 },
 "nbformat": 4,
 "nbformat_minor": 1
}
