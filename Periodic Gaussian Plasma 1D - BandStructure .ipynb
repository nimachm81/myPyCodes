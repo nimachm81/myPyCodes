{
 "cells": [
  {
   "cell_type": "code",
   "execution_count": 35,
   "metadata": {},
   "outputs": [
    {
     "name": "stdout",
     "output_type": "stream",
     "text": [
      "Populating the interactive namespace from numpy and matplotlib\n"
     ]
    },
    {
     "name": "stderr",
     "output_type": "stream",
     "text": [
      "/home/nima/.local/lib/python3.6/site-packages/IPython/core/magics/pylab.py:160: UserWarning: pylab import has clobbered these variables: ['solve', 'e', 'exp', 'sin', 'gamma', 'cos']\n",
      "`%matplotlib` prevents importing * from pylab and numpy\n",
      "  \"\\n`%matplotlib` prevents importing * from pylab and numpy\"\n"
     ]
    },
    {
     "data": {
      "text/latex": [
       "$$EQ_E = - \\epsilon_0 \\epsilon_r \\mu_0 \\frac{d^{2}}{d t^{2}} E - \\mu_0 \\frac{d}{d t} J + \\frac{d^{2}}{d z^{2}} E$$"
      ],
      "text/plain": [
       "<IPython.core.display.Math object>"
      ]
     },
     "metadata": {},
     "output_type": "display_data"
    },
    {
     "data": {
      "text/latex": [
       "$$EQ_J = - \\frac{E e^{2} n_{e}}{m_{e}} + J \\gamma + \\frac{d}{d t} J$$"
      ],
      "text/plain": [
       "<IPython.core.display.Math object>"
      ]
     },
     "metadata": {},
     "output_type": "display_data"
    },
    {
     "name": "stdout",
     "output_type": "stream",
     "text": [
      "Plasma frequency\n"
     ]
    },
    {
     "data": {
      "text/latex": [
       "$$EQ_{Jp} = - E \\omega_{p}^{2} + J \\gamma + \\frac{d}{d t} J$$"
      ],
      "text/plain": [
       "<IPython.core.display.Math object>"
      ]
     },
     "metadata": {},
     "output_type": "display_data"
    },
    {
     "data": {
      "text/latex": [
       "$$EQ_E = - \\epsilon_0 \\epsilon_r \\mu_0 \\frac{\\partial^{2}}{\\partial t^{2}} E e^{i \\omega t - i k z} - \\mu_0 \\frac{\\partial}{\\partial t} J e^{i \\omega t - i k z} + \\frac{\\partial^{2}}{\\partial z^{2}} E e^{i \\omega t - i k z}$$"
      ],
      "text/plain": [
       "<IPython.core.display.Math object>"
      ]
     },
     "metadata": {},
     "output_type": "display_data"
    },
    {
     "data": {
      "text/latex": [
       "$$EQ_J = - \\frac{E e^{2} n_{e} e^{i \\omega t - i k z}}{m_{e}} + J \\gamma e^{i \\omega t - i k z} + \\frac{\\partial}{\\partial t} J e^{i \\omega t - i k z}$$"
      ],
      "text/plain": [
       "<IPython.core.display.Math object>"
      ]
     },
     "metadata": {},
     "output_type": "display_data"
    },
    {
     "name": "stdout",
     "output_type": "stream",
     "text": [
      "harmonic: \n"
     ]
    },
    {
     "data": {
      "text/latex": [
       "$$e^{i k_{m} n_{0} z}$$"
      ],
      "text/plain": [
       "<IPython.core.display.Math object>"
      ]
     },
     "metadata": {},
     "output_type": "display_data"
    },
    {
     "name": "stdout",
     "output_type": "stream",
     "text": [
      "harmonic: \n"
     ]
    },
    {
     "data": {
      "text/latex": [
       "$$e^{i k_{m} n_{0} z}$$"
      ],
      "text/plain": [
       "<IPython.core.display.Math object>"
      ]
     },
     "metadata": {},
     "output_type": "display_data"
    },
    {
     "name": "stdout",
     "output_type": "stream",
     "text": [
      "replace harmonics\n"
     ]
    },
    {
     "data": {
      "text/latex": [
       "$$EQ_\\text{E harm} = - \\epsilon_0 \\epsilon_r \\mu_0 \\frac{\\partial^{2}}{\\partial t^{2}} e^{i \\omega t - i k z} \\sum_{n_{0}=-\\infty}^{\\infty} \\tilde{E}{\\left (n_{0} \\right )} e^{i k_{m} n_{0} z} - \\mu_0 \\frac{\\partial}{\\partial t} e^{i \\omega t - i k z} \\sum_{n_{0}=-\\infty}^{\\infty} \\tilde{J}{\\left (n_{0} \\right )} e^{i k_{m} n_{0} z} + \\frac{\\partial^{2}}{\\partial z^{2}} e^{i \\omega t - i k z} \\sum_{n_{0}=-\\infty}^{\\infty} \\tilde{E}{\\left (n_{0} \\right )} e^{i k_{m} n_{0} z}$$"
      ],
      "text/plain": [
       "<IPython.core.display.Math object>"
      ]
     },
     "metadata": {},
     "output_type": "display_data"
    },
    {
     "data": {
      "text/latex": [
       "$$EQ_\\text{J harm} = \\gamma e^{i \\omega t - i k z} \\sum_{n_{0}=-\\infty}^{\\infty} \\tilde{J}{\\left (n_{0} \\right )} e^{i k_{m} n_{0} z} - \\frac{e^{2} e^{i \\omega t - i k z} \\left(\\sum_{n_{0}=-\\infty}^{\\infty} \\tilde{E}{\\left (n_{0} \\right )} e^{i k_{m} n_{0} z}\\right) \\sum_{n_{0}=-\\infty}^{\\infty} \\tilde{n_e}{\\left (n_{0} \\right )} e^{i k_{m} n_{0} z}}{m_{e}} + \\frac{\\partial}{\\partial t} e^{i \\omega t - i k z} \\sum_{n_{0}=-\\infty}^{\\infty} \\tilde{J}{\\left (n_{0} \\right )} e^{i k_{m} n_{0} z}$$"
      ],
      "text/plain": [
       "<IPython.core.display.Math object>"
      ]
     },
     "metadata": {},
     "output_type": "display_data"
    },
    {
     "name": "stdout",
     "output_type": "stream",
     "text": [
      "apply derivatives\n"
     ]
    },
    {
     "data": {
      "text/latex": [
       "$$EQ_\\text{E harm} = \\epsilon_0 \\epsilon_r \\mu_0 \\omega^{2} e^{i \\left(\\omega t - k z\\right)} \\sum_{n_{0}=-\\infty}^{\\infty} \\tilde{E}{\\left (n_{0} \\right )} e^{i k_{m} n_{0} z} - i \\mu_0 \\omega e^{i \\omega t - i k z} \\sum_{n_{0}=-\\infty}^{\\infty} \\tilde{J}{\\left (n_{0} \\right )} e^{i k_{m} n_{0} z} + \\left(- k^{2} \\sum_{n_{0}=-\\infty}^{\\infty} \\tilde{E}{\\left (n_{0} \\right )} e^{i k_{m} n_{0} z} + 2 k k_{m} \\sum_{n_{0}=-\\infty}^{\\infty} n_{0} \\tilde{E}{\\left (n_{0} \\right )} e^{i k_{m} n_{0} z} - k_{m}^{2} \\sum_{n_{0}=-\\infty}^{\\infty} n_{0}^{2} \\tilde{E}{\\left (n_{0} \\right )} e^{i k_{m} n_{0} z}\\right) e^{i \\left(\\omega t - k z\\right)}$$"
      ],
      "text/plain": [
       "<IPython.core.display.Math object>"
      ]
     },
     "metadata": {},
     "output_type": "display_data"
    },
    {
     "data": {
      "text/latex": [
       "$$EQ_\\text{J harm} = \\gamma e^{i \\omega t - i k z} \\sum_{n_{0}=-\\infty}^{\\infty} \\tilde{J}{\\left (n_{0} \\right )} e^{i k_{m} n_{0} z} + i \\omega e^{i \\omega t - i k z} \\sum_{n_{0}=-\\infty}^{\\infty} \\tilde{J}{\\left (n_{0} \\right )} e^{i k_{m} n_{0} z} - \\frac{e^{2} e^{i \\omega t - i k z} \\left(\\sum_{n_{0}=-\\infty}^{\\infty} \\tilde{E}{\\left (n_{0} \\right )} e^{i k_{m} n_{0} z}\\right) \\sum_{n_{0}=-\\infty}^{\\infty} \\tilde{n_e}{\\left (n_{0} \\right )} e^{i k_{m} n_{0} z}}{m_{e}}$$"
      ],
      "text/plain": [
       "<IPython.core.display.Math object>"
      ]
     },
     "metadata": {},
     "output_type": "display_data"
    },
    {
     "name": "stdout",
     "output_type": "stream",
     "text": [
      "apply convolutions\n"
     ]
    },
    {
     "data": {
      "text/latex": [
       "$$EQ_\\text{E harm} = \\epsilon_0 \\epsilon_r \\mu_0 \\omega^{2} e^{i \\omega t} e^{- i k z} \\sum_{n_{0}=-\\infty}^{\\infty} \\tilde{E}{\\left (n_{0} \\right )} e^{i k_{m} n_{0} z} - i \\mu_0 \\omega e^{i \\omega t} e^{- i k z} \\sum_{n_{0}=-\\infty}^{\\infty} \\tilde{J}{\\left (n_{0} \\right )} e^{i k_{m} n_{0} z} - k^{2} e^{i \\omega t} e^{- i k z} \\sum_{n_{0}=-\\infty}^{\\infty} \\tilde{E}{\\left (n_{0} \\right )} e^{i k_{m} n_{0} z} + 2 k k_{m} e^{i \\omega t} e^{- i k z} \\sum_{n_{0}=-\\infty}^{\\infty} n_{0} \\tilde{E}{\\left (n_{0} \\right )} e^{i k_{m} n_{0} z} - k_{m}^{2} e^{i \\omega t} e^{- i k z} \\sum_{n_{0}=-\\infty}^{\\infty} n_{0}^{2} \\tilde{E}{\\left (n_{0} \\right )} e^{i k_{m} n_{0} z}$$"
      ],
      "text/plain": [
       "<IPython.core.display.Math object>"
      ]
     },
     "metadata": {},
     "output_type": "display_data"
    },
    {
     "data": {
      "text/latex": [
       "$$EQ_\\text{J harm} = \\gamma e^{i \\omega t} e^{- i k z} \\sum_{n_{0}=-\\infty}^{\\infty} \\tilde{J}{\\left (n_{0} \\right )} e^{i k_{m} n_{0} z} + i \\omega e^{i \\omega t} e^{- i k z} \\sum_{n_{0}=-\\infty}^{\\infty} \\tilde{J}{\\left (n_{0} \\right )} e^{i k_{m} n_{0} z} - \\frac{e^{2} e^{i \\omega t} e^{- i k z} \\sum_{n_{0}=-\\infty}^{\\infty} e^{i k_{m} n_{0} z} \\sum_{m_{0}=-\\infty}^{\\infty} \\tilde{E}{\\left (m_{0} \\right )} \\tilde{n_e}{\\left (- m_{0} + n_{0} \\right )}}{m_{e}}$$"
      ],
      "text/plain": [
       "<IPython.core.display.Math object>"
      ]
     },
     "metadata": {},
     "output_type": "display_data"
    },
    {
     "name": "stdout",
     "output_type": "stream",
     "text": [
      "apply orthogonalities\n"
     ]
    },
    {
     "data": {
      "text/latex": [
       "$$EQ_\\text{E harm} = \\epsilon_0 \\epsilon_r \\mu_0 \\omega^{2} \\tilde{E}{\\left (n_{0} \\right )} - i \\mu_0 \\omega \\tilde{J}{\\left (n_{0} \\right )} + 2 k k_{m} n_{0} \\tilde{E}{\\left (n_{0} \\right )} - \\left(k^{2} + k_{m}^{2} n_{0}^{2}\\right) \\tilde{E}{\\left (n_{0} \\right )}$$"
      ],
      "text/plain": [
       "<IPython.core.display.Math object>"
      ]
     },
     "metadata": {},
     "output_type": "display_data"
    },
    {
     "data": {
      "text/latex": [
       "$$EQ_\\text{J harm} = \\gamma \\tilde{J}{\\left (n_{0} \\right )} + i \\omega \\tilde{J}{\\left (n_{0} \\right )} - \\frac{e^{2} \\sum_{m_{0}=-\\infty}^{\\infty} \\tilde{E}{\\left (m_{0} \\right )} \\tilde{n_e}{\\left (- m_{0} + n_{0} \\right )}}{m_{e}}$$"
      ],
      "text/plain": [
       "<IPython.core.display.Math object>"
      ]
     },
     "metadata": {},
     "output_type": "display_data"
    },
    {
     "name": "stdout",
     "output_type": "stream",
     "text": [
      "harmonic variables\n"
     ]
    },
    {
     "data": {
      "text/latex": [
       "$$\\tilde{E}~~~~\\tilde{J}$$"
      ],
      "text/plain": [
       "<IPython.core.display.Math object>"
      ]
     },
     "metadata": {},
     "output_type": "display_data"
    },
    {
     "data": {
      "text/latex": [
       "$$\\tilde{E}~~~~\\tilde{J}~~~~\\tilde{n_e}$$"
      ],
      "text/plain": [
       "<IPython.core.display.Math object>"
      ]
     },
     "metadata": {},
     "output_type": "display_data"
    }
   ],
   "source": [
    "%pylab inline\n",
    "\n",
    "from sympy import Symbol, symbols, Function, Derivative, latex, exp, I, solve, lambdify, cos, sin\n",
    "from IPython.display import Math, display\n",
    "import numpy as np\n",
    "from scipy import constants\n",
    "\n",
    "from Electromagnetics.FourierBlochND import *\n",
    "from Electromagnetics.SymExprTree import *\n",
    "\n",
    "\n",
    "t, z = symbols('t z')\n",
    "E, J = symbols('E J')\n",
    "\n",
    "omega, k, c = symbols(r'\\omega k c')\n",
    "eps_r = symbols(r'\\epsilon_r', real=True)\n",
    "mu_0, eps_0 = symbols(r'\\mu_0 \\epsilon_0', real=True)\n",
    "\n",
    "gamma, n_e, e, m_e, omega_p = symbols(r'\\gamma n_e e m_e omega_p')\n",
    "n_0 = symbols('n_0')\n",
    "omega_m, k_m = symbols(r'\\omega_m k_m')\n",
    "\n",
    "EQ_E = Derivative(E, z, 2) - mu_0*eps_0*eps_r*Derivative(E, t, 2) - mu_0*Derivative(J, t, 1)\n",
    "EQ_J = Derivative(J, t, 1) + gamma*J - n_e*e**2/m_e*E\n",
    "\n",
    "display(Math('EQ_E = ' + latex(EQ_E)))\n",
    "display(Math('EQ_J = ' + latex(EQ_J)))\n",
    "\n",
    "## plasma frequency\n",
    "print(\"Plasma frequency\")\n",
    "EQ_J_p = EQ_J.subs(n_e, omega_p**2*m_e/e**2)\n",
    "display(Math('EQ_{Jp} = ' + latex(EQ_J_p)))\n",
    "\n",
    "\n",
    "BlochFact = exp(I*omega*t-I*k*z)\n",
    "#EQ_E = EQ_E.subs([(E, E*BlochFact), (J, J*BlochFact)])\n",
    "#EQ_J = EQ_J.subs([(E, Es*BlochFact), (J, Js*BlochFact)])\n",
    "EQ_E = symExp_replaceSymbol(EQ_E, E, E*BlochFact)\n",
    "EQ_E = symExp_replaceSymbol(EQ_E, J, J*BlochFact)\n",
    "\n",
    "EQ_J = symExp_replaceSymbol(EQ_J, E, E*BlochFact)\n",
    "EQ_J = symExp_replaceSymbol(EQ_J, J, J*BlochFact)\n",
    "\n",
    "\n",
    "display(Math('EQ_E = ' + latex(EQ_E)))\n",
    "display(Math('EQ_J = ' + latex(EQ_J)))\n",
    "\n",
    "harmonic = exp(n_0*I*(k_m*z))\n",
    "\n",
    "pde_E_FB = PDEFourierSeriesND(EQ_E, [E, J], n_dim=1, harmonic=harmonic, usexyz=False)\n",
    "pde_J_FB = PDEFourierSeriesND(EQ_J, [E, J, n_e], n_dim=1, harmonic=harmonic, usexyz=False)\n",
    "\n",
    "print(\"replace harmonics\")\n",
    "EQ_E_harm = pde_E_FB.putSums()#.doit()\n",
    "EQ_J_harm = pde_J_FB.putSums()#.doit()\n",
    "display(Math('EQ_\\\\text{E harm} = ' + latex(EQ_E_harm)))\n",
    "display(Math('EQ_\\\\text{J harm} = ' + latex(EQ_J_harm)))\n",
    "\n",
    "print(\"apply derivatives\")\n",
    "EQ_E_harm = EQ_E_harm.doit()\n",
    "EQ_J_harm = EQ_J_harm.doit()\n",
    "display(Math('EQ_\\\\text{E harm} = ' + latex(EQ_E_harm)))\n",
    "display(Math('EQ_\\\\text{J harm} = ' + latex(EQ_J_harm)))\n",
    "\n",
    "print(\"apply convolutions\")\n",
    "EQ_E_harm = pde_E_FB.applyConvolutions(EQ_E_harm)\n",
    "EQ_J_harm = pde_J_FB.applyConvolutions(EQ_J_harm)\n",
    "display(Math('EQ_\\\\text{E harm} = ' + latex(EQ_E_harm)))\n",
    "display(Math('EQ_\\\\text{J harm} = ' + latex(EQ_J_harm)))\n",
    "\n",
    "print(\"apply orthogonalities\")\n",
    "EQ_E_harm = (pde_E_FB.applyOrthogonalities(EQ_E_harm)/BlochFact).simplify()\n",
    "EQ_J_harm = (pde_J_FB.applyOrthogonalities(EQ_J_harm)/BlochFact).simplify()\n",
    "display(Math('EQ_\\\\text{E harm} = ' + latex(EQ_E_harm)))\n",
    "display(Math('EQ_\\\\text{J harm} = ' + latex(EQ_J_harm)))\n",
    "\n",
    "\n",
    "print(\"harmonic variables\")\n",
    "E_tilde, J_tilde = pde_E_FB.varsHarm\n",
    "display(Math(latex(E_tilde) + '~~~~' + latex(J_tilde)))\n",
    "E_tilde, J_tilde, ne_tilde = pde_J_FB.varsHarm\n",
    "display(Math(latex(E_tilde) + '~~~~' + latex(J_tilde) + '~~~~' + latex(ne_tilde)))\n",
    "\n"
   ]
  },
  {
   "cell_type": "code",
   "execution_count": 55,
   "metadata": {},
   "outputs": [
    {
     "name": "stdout",
     "output_type": "stream",
     "text": [
      "numerical substitution\n"
     ]
    },
    {
     "data": {
      "text/latex": [
       "$$EQ_\\text{E harm} = 11.7 \\omega^{2} \\tilde{E}{\\left (n_{0} \\right )} - i \\omega \\tilde{J}{\\left (n_{0} \\right )} + 12.5663706143592 k n_{0} \\tilde{E}{\\left (n_{0} \\right )} - \\left(k^{2} + 39.4784176043574 n_{0}^{2}\\right) \\tilde{E}{\\left (n_{0} \\right )}$$"
      ],
      "text/plain": [
       "<IPython.core.display.Math object>"
      ]
     },
     "metadata": {},
     "output_type": "display_data"
    },
    {
     "data": {
      "text/latex": [
       "$$EQ_\\text{J harm} = i \\omega \\tilde{J}{\\left (n_{0} \\right )} + 0.001 \\tilde{J}{\\left (n_{0} \\right )} - \\sum_{m_{0}=-\\infty}^{\\infty} \\tilde{E}{\\left (m_{0} \\right )} \\tilde{n_e}{\\left (- m_{0} + n_{0} \\right )}$$"
      ],
      "text/plain": [
       "<IPython.core.display.Math object>"
      ]
     },
     "metadata": {},
     "output_type": "display_data"
    }
   ],
   "source": [
    "## substitutions\n",
    "\n",
    "Z_p = 1\n",
    "\n",
    "eps_0_sub = 1.0\n",
    "mu_0_sub = 1\n",
    "k_m_sub = 2*np.pi/Z_p\n",
    "eps_r_sub = 11.7\n",
    "e_sub = 1\n",
    "m_e_sub = 1\n",
    "gamma_sub = 0.001\n",
    "\n",
    "EQ_E_harm_kw = EQ_E_harm.subs([(eps_0, eps_0_sub), (mu_0, mu_0_sub), (eps_r, eps_r_sub), (k_m, k_m_sub), (gamma, gamma_sub), (e, e_sub), (m_e, m_e_sub)])\n",
    "EQ_J_harm_kw = EQ_J_harm.subs([(eps_0, eps_0_sub), (mu_0, mu_0_sub), (eps_r, eps_r_sub), (k_m, k_m_sub), (gamma, gamma_sub), (e, e_sub), (m_e, m_e_sub)])\n",
    "\n",
    "\n",
    "print(\"numerical substitution\")\n",
    "display(Math('EQ_\\\\text{E harm} = ' + latex(EQ_E_harm_kw)))\n",
    "display(Math('EQ_\\\\text{J harm} = ' + latex(EQ_J_harm_kw)))\n"
   ]
  },
  {
   "cell_type": "code",
   "execution_count": 59,
   "metadata": {},
   "outputs": [
    {
     "name": "stdout",
     "output_type": "stream",
     "text": [
      "w_p =  0.07305053684839528\n"
     ]
    },
    {
     "name": "stderr",
     "output_type": "stream",
     "text": [
      "/home/nima/.local/lib/python3.6/site-packages/scipy/fftpack/basic.py:160: FutureWarning: Using a non-tuple sequence for multidimensional indexing is deprecated; use `arr[tuple(seq)]` instead of `arr[seq]`. In the future this will be interpreted as an array index, `arr[np.array(seq)]`, which will result either in an error or a different result.\n",
      "  z[index] = x\n"
     ]
    },
    {
     "data": {
      "image/png": "[encoded data removed]",
      "text/plain": [
       "<Figure size 576x432 with 1 Axes>"
      ]
     },
     "metadata": {
      "needs_background": "light"
     },
     "output_type": "display_data"
    }
   ],
   "source": [
    "\n",
    "Ns = [64]\n",
    "\n",
    "\n",
    "w_p = 0.5\n",
    "print(\"w_p = \", w_p)\n",
    "n_e_max = w_p**2*eps_r_sub*eps_0_sub\n",
    "n_e_decay_rate = 0.0\n",
    "n_e_z_center = Z_p/2\n",
    "\n",
    "def ne_fun(x):\n",
    "    z_ = x[0] - np.floor(x[0]/Z_p)*Z_p\n",
    "    z_ += (z_ < 0)*Z_p\n",
    "    assert np.all(z_>=0) and np.all(z_<Z_p)\n",
    "    return n_e_max*(np.exp(-n_e_decay_rate**2*(z_ - n_e_z_center)**2))\n",
    "\n",
    "\n",
    "def get_ne_harmonics(Ns):\n",
    "    ne_harm_vec = pde_J_FB.getFourierCoeffs(ne_fun, [0.0], [Z_p], Ns)\n",
    "    return ne_harm_vec\n",
    "\n",
    "\n",
    "A_mat_list = None\n",
    "\n",
    "def set_matrices_list(w_i, Ns):\n",
    "    ne_harm_vec = get_ne_harmonics(Ns)\n",
    "    \n",
    "    EQ_E_fin = EQ_E_harm_kw.subs([(omega, w_i)])\n",
    "    EQ_J_fin = EQ_J_harm_kw.subs([(omega, w_i)])\n",
    "\n",
    "    expr_list = [EQ_E_fin, EQ_J_fin]\n",
    "    vars = [E_tilde, J_tilde]\n",
    "    pars = [ne_tilde]\n",
    "    pars_vecs = [ne_harm_vec]\n",
    "    eig_vars = [k]\n",
    "    pde_J_FB.setupNumericalParameters(expr_list, Ns, vars, pars, pars_vecs, eig_vars)\n",
    "    pde_J_FB.calculateDenseMatrices = True\n",
    "\n",
    "    A_mat_list = pde_J_FB.orthogonalToNumpyMatrix()\n",
    "    return A_mat_list\n",
    "\n",
    "w_i = 0.1\n",
    "A_mat_list = set_matrices_list(w_i, Ns)\n",
    "\n",
    "\n",
    "figsize(8, 6)\n",
    "x = np.linspace(0, Z_p, 100)\n",
    "plot(x, ne_fun([x]), 'bo', markersize=1)\n",
    "show()\n"
   ]
  },
  {
   "cell_type": "code",
   "execution_count": 57,
   "metadata": {},
   "outputs": [
    {
     "name": "stdout",
     "output_type": "stream",
     "text": [
      "[0.61542005]\n"
     ]
    },
    {
     "name": "stderr",
     "output_type": "stream",
     "text": [
      "/home/nima/Documents/GitProjects/myPyCodes/Electromagnetics/FourierBlochND.py:1830: OptimizeWarning: Unknown solver options: maxiter, ftol\n",
      "  for k in range(len(eigvar_vals)):\n",
      "/home/nima/Documents/GitProjects/myPyCodes/Electromagnetics/FourierBlochND.py:1811: RuntimeWarning: overflow encountered in exp\n",
      "  return dets_ri\n"
     ]
    },
    {
     "name": "stdout",
     "output_type": "stream",
     "text": [
      "k_i, omega_i:  -4 ((0.008727113479765417-1.6756442616958669j), 0.1) 1.7848691081464555e-11\n",
      "[0.89364595]\n",
      "k_i, omega_i:  -3 ((-0.00872711345237576+1.67564426167945j), 0.1) 1.5857174303551992e-11\n",
      "[1.73855158]\n",
      "k_i, omega_i:  -2 ((6.274458193687004+1.6756442616954936j), 0.1) 2.855674256719706e-14\n",
      "[0.71645615]\n",
      "k_i, omega_i:  -1 ((6.291912420754014-1.6756442616321756j), 0.1) 9.35413653811174e-13\n",
      "[-2.22520279]\n",
      "k_i, omega_i:  0 ((-12.557643498300711-1.6756442636528803j), 0.1) 4.4800480749137194e-14\n",
      "[-3.12259471]\n",
      "k_i, omega_i:  1 ((-6.291912420672381+1.6756442616974987j), 0.1) 1.2853806007807167e-17\n",
      "[-1.9864797]\n",
      "k_i, omega_i:  2 ((-6.274458193685938-1.6756442616967648j), 0.1) 1.8831318116875118e-18\n",
      "[-1.11492662]\n",
      "k_i, omega_i:  3 ((-1.1149266181652737+0j), 0.1) 1.2567548710309172e-05\n",
      "|Ax|= 0.10000681870632495  |x|= 0.9999999999999999\n",
      "    fjac: array([[-0.7275126 ,  0.68609432],\n",
      "       [-0.68609432, -0.7275126 ]])\n",
      "     fun: array([ 1.24185793e-05, -1.92929219e-06])\n",
      " message: 'The iteration is not making good progress, as measured by the \\n  improvement from the last ten iterations.'\n",
      "    nfev: 15\n",
      "     qtf: array([-1.03583493e-05, -7.11673240e-06])\n",
      "       r: array([-1.64611194e+04, -1.84965539e+04,  2.59263423e-07])\n",
      "  status: 5\n",
      " success: False\n",
      "       x: array([-1.11492662,  0.        ])\n",
      "[0.85683236]\n",
      "k_i, omega_i:  4 ((25.124014120870473+1.6756442652475936j), 0.1) 6.672200039826476e-20\n"
     ]
    }
   ],
   "source": [
    "from Electromagnetics import Misc\n",
    "\n",
    "solver = 'hybr'\n",
    "handle_overflow = True\n",
    "maxiter = 400\n",
    "maxfev = 400\n",
    "tol = 1.0e-7\n",
    "tol_abs = False\n",
    "\n",
    "A_eqs_list = [A_mat_list]\n",
    "\n",
    "\n",
    "sing_val_tol = 1.0e-5\n",
    "del_norm = 1.0e-5\n",
    "sig_small = 1.0e-3j\n",
    "\n",
    "_N_pp = 4\n",
    "\n",
    "def get_eig_points(w_i, Ns, _N_pp, A_eqs_list, vbose=False):\n",
    "\n",
    "    _N_2 = Ns[0]#int(Ns[0]/2)\n",
    "\n",
    "    roots_prev = []\n",
    "    eig_points_k = []\n",
    "    eig_points_w = []\n",
    "    eig_vecs_E = []\n",
    "    eig_vecs_H = []\n",
    "\n",
    "    for j in range(-_N_pp, _N_pp+1):\n",
    "        #eigvar_vals_0 = [j*w_i*np.sqrt(eps_r_sub)]\n",
    "        eigvar_vals_0 = np.random.rand(1)*(2*np.pi/Z_p) - np.pi/Z_p\n",
    "        if vbose:\n",
    "            print(eigvar_vals_0)\n",
    "        res = pde_J_FB.solveDeterminant(eigvar_vals_0, A_eqs_list, solver=solver, handle_overflow=handle_overflow, \\\n",
    "                                      roots_prev=roots_prev, tol=tol, maxiter=maxiter, maxfev=maxfev,\\\n",
    "                                      getMats=True, tol_relative=not tol_abs)\n",
    "\n",
    "        k_i = res[0][0]\n",
    "\n",
    "        if vbose:\n",
    "            print('k_i, omega_i: ', j, (k_i, w_i), np.abs(res[1][0]))\n",
    "        roots_prev.append([k_i])\n",
    "        eig_points_k.append(k_i)\n",
    "        eig_points_w.append(w_i)\n",
    "\n",
    "        A_mat = res[3][0]\n",
    "        rank, x_nulls, sing_vals = Misc.null(A_mat, rtol=sing_val_tol, forceRank=A_mat.shape[0]-1)\n",
    "        if not rank==A_mat.shape[0]-1:\n",
    "            print('rank: ', rank)\n",
    "            print(sing_vals)\n",
    "            assert False\n",
    "        E_j = x_nulls.T[0,0:2*_N_2]/np.linalg.norm(x_nulls.T[0,0:2*_N_2])\n",
    "        eig_vecs_E.append(E_j)\n",
    "        if not np.linalg.norm(A_mat.dot(x_nulls))/np.linalg.norm(x_nulls)<del_norm:\n",
    "            print('|Ax|=', np.linalg.norm(A_mat.dot(x_nulls)), ' |x|=', np.linalg.norm(x_nulls))\n",
    "            print(res[2])\n",
    "\n",
    "\n",
    "    return [eig_points_k, eig_vecs_E]\n",
    "\n",
    "[eig_points_k, eig_vecs_E] = get_eig_points(w_i, Ns, _N_pp, A_eqs_list, vbose=True)\n"
   ]
  },
  {
   "cell_type": "code",
   "execution_count": 58,
   "metadata": {},
   "outputs": [
    {
     "name": "stderr",
     "output_type": "stream",
     "text": [
      "/home/nima/.local/lib/python3.6/site-packages/scipy/fftpack/basic.py:160: FutureWarning: Using a non-tuple sequence for multidimensional indexing is deprecated; use `arr[tuple(seq)]` instead of `arr[seq]`. In the future this will be interpreted as an array index, `arr[np.array(seq)]`, which will result either in an error or a different result.\n",
      "  z[index] = x\n",
      "/home/nima/Documents/GitProjects/myPyCodes/Electromagnetics/FourierBlochND.py:1830: OptimizeWarning: Unknown solver options: maxiter, ftol\n",
      "  for k in range(len(eigvar_vals)):\n"
     ]
    },
    {
     "name": "stdout",
     "output_type": "stream",
     "text": [
      "0 : w_i =  0.01\n",
      "[(-0.08499995947233521+1.7035535204597136j), (0.0849999594722996-1.703553520459693j), (31.330926577245634+1.7035535185910797j), (-31.3309265529883-1.703553515821759j), (6.368185266651811-1.703553520459668j), (-18.764555962023817-1.7035535204661292j), (6.19818534770747+1.7035535204594783j), (-6.198185347693346-1.703553520483868j), (-6.368185266650796+1.7035535206034j)]\n",
      "1 : w_i =  0.07862068965517241\n"
     ]
    },
    {
     "name": "stderr",
     "output_type": "stream",
     "text": [
      "/home/nima/Documents/GitProjects/myPyCodes/Electromagnetics/FourierBlochND.py:1811: RuntimeWarning: overflow encountered in exp\n",
      "  return dets_ri\n"
     ]
    },
    {
     "name": "stdout",
     "output_type": "stream",
     "text": [
      "[(-0.011012579191415737+1.688883641703912j), (6.294197886302813-1.6888836416667898j), (6.27217272808038+1.6888836414012272j), (0.011012579123046871-1.6888836416669575j), (-18.83854334221246-1.6888836415112254j), (-25.14375380784767+1.6888836416749677j), (18.838543341002328+1.6888836435846817j), (-12.577383192839656+1.688883641660345j), (-6.272172727630797-1.688883640594104j)]\n",
      "2 : w_i =  0.14724137931034484\n",
      "|Ax|= 0.13376257460385432  |x|= 0.9999999999999998\n",
      "    fjac: array([[ 0.33167275,  0.9433945 ],\n",
      "       [-0.9433945 ,  0.33167275]])\n",
      "     fun: array([0.85965715, 0.00099837])\n",
      " message: 'The iteration is not making good progress, as measured by the \\n  improvement from the last ten iterations.'\n",
      "    nfev: 31\n",
      "     qtf: array([ 0.28610468, -0.81066423])\n",
      "       r: array([-0.00335022,  0.00351725, -0.00021987])\n",
      "  status: 5\n",
      " success: False\n",
      "       x: array([ 0.00073465, -0.01345973])\n",
      "[(0.0007346488121538651-0.013459732430304457j), (6.2771083098611005+1.6343946099558946j), (6.289262304492198-1.6343946099448867j), (-25.126664231531976-1.6343946106364151j), (-6.289262304318405+1.6343946104076752j), (-6.277108309815661-1.6343946099564515j), (-25.138818226011846+1.6343946099175546j), (12.560293617047797+1.6343946099698754j), (-12.560293617015228-1.6343946099351911j)]\n",
      "3 : w_i =  0.21586206896551724\n",
      "[(-0.004391794127694688+1.5426529914739937j), (0.004391794125348623-1.542652991510526j), (12.56197882023217+1.5426529915005234j), (12.570762408478645-1.5426529915126477j), (6.287577101325451-1.5426529915534215j), (-12.57076240853559+1.5426529914662486j), (-6.287577101219003+1.5426529915208351j), (-18.85394771584429+1.5426529917342937j), (50.26109066332384+1.5426529914978648j)]\n",
      "4 : w_i =  0.28448275862068967\n",
      "[(0.0036552023677152348-1.4064462561291886j), (-0.0036552022811143156+1.4064462561205684j), (-6.279530104890403-1.4064462561195021j), (6.2795301049402825+1.4064462560323192j), (-6.286840509561257+1.4064462560846143j), (6.286840505892715-1.406446258802204j), (62.82819786976941+1.4064462561992435j), (25.12908602643396+1.4064462561225346j), (25.13639643100307-1.4064462561215618j)]\n",
      "5 : w_i =  0.3531034482758621\n",
      "[(-0.0034205236248255294+1.2108708898356466j), (0.0034205234743296827-1.2108708898145384j), (-6.2866058308036035+1.2108708898312368j), (6.286605830810637-1.2108708898295228j), (12.562950090723046+1.2108708898332707j), (12.56979113942372-1.2108708891612445j), (-12.562950090951043-1.2108708900889702j), (-12.56979113798984+1.2108708898882274j), (31.412506012274008+1.2108708898287983j)]\n",
      "6 : w_i =  0.42172413793103447\n",
      "|Ax|= 0.10037558739160596  |x|= 1.0\n",
      "    fjac: array([[-0.28299169, -0.95912236],\n",
      "       [ 0.95912236, -0.28299169]])\n",
      "     fun: array([1.87585723e-05, 2.82680996e-06])\n",
      " message: 'The iteration is not making good progress, as measured by the \\n  improvement from the last ten iterations.'\n",
      "    nfev: 32\n",
      "     qtf: array([-8.02582021e-06,  1.71966355e-05])\n",
      "       r: array([-3.02158844e-07,  2.16142164e-07, -3.32233267e-07])\n",
      "  status: 5\n",
      " success: False\n",
      "       x: array([-6.4251099 ,  0.03303144])\n",
      "[(-12.570145103738122+0.918769934535805j), (0.003774489300116988-0.9187699347082255j), (-0.003774489335147452+0.9187699346920717j), (6.28695979677621-0.9187699356938698j), (6.279410817943736+0.9187699399435981j), (-6.425109902899221+0.03303143803188591j), (12.5701451054932-0.9187699399930422j), (-6.279410817913525-0.9187699346628617j), (-18.84578143223843-0.9187699347077437j)]\n",
      "7 : w_i =  0.4903448275862069\n",
      "[(0.008914473732591292-0.3345775220960214j), (-0.008914473731613698+0.33457752209658453j), (18.840641451811095+0.33457752229994714j), (-6.27427083427444-0.33457752345576924j), (-6.292099780447018+0.334577523945698j), (6.292099780928826-0.33457752209488617j), (6.27427083344864+0.3345775220460702j), (12.575285065812208-0.33457746469149646j), (-12.557456139528963-0.33457752628681625j)]\n",
      "8 : w_i =  0.5589655172413793\n",
      "[(0.8547487294438371-0.003061054090585307j), (-13.421119343588241+0.003061054248628057j), (-0.8547487294437806+0.0030610540903578893j), (-11.71162188490219-0.003061053353682307j), (5.428436568343745+0.0030610781017650045j), (-5.428436577766317-0.0030610513222303864j), (7.13793403662343-0.003061054091040497j), (11.711621884851251+0.0030610540901832464j), (-7.137934036623382+0.003061054061591469j)]\n",
      "9 : w_i =  0.6275862068965518\n",
      "[(1.297391492019442-0.0017961819973233949j), (-1.2973914920251806+0.0017961819855103242j), (-7.5805767992045805+0.0017961819981357206j), (-4.985793815148411-0.0017961834536029805j), (4.985793815288861+0.0017961472745858884j), (13.863762106412999-0.0017961819855408115j), (-86.66720280849127-0.0017961821087907053j), (-17.552164429513763-0.0017961819855867914j), (7.580576799207674-0.001796181069554549j)]\n",
      "10 : w_i =  0.6962068965517242\n",
      "[(-1.6571194714098916+0.0012676689580796764j), (1.6571194713696644-0.0012676601460409448j), (-4.626065835809982-0.0012676601350563158j), (-17.19243645013265-0.001267660162508542j), (4.626065835811004+0.0012676595970551275j), (7.940304778742585-0.00126758337220308j), (-7.940304778549315+0.0012676600400544906j), (-10.909251143055283-0.0012676598147712335j), (-102.18808438624644+0.001267660147905134j)]\n",
      "11 : w_i =  0.7648275862068966\n",
      "[(-1.9796596681878653+0.000965919426826735j), (1.9796596681787757-0.0009659197649746393j), (4.303525639000887+0.0009659197609995027j), (-8.262844975358432+0.0009659197659601757j), (-16.86989625336162-0.0009659197340526369j), (-4.303525639007009-0.0009659171241230715j), (10.58671094618035+0.0009659197549338682j), (-20.829215589715748+0.000965919765647043j), (-27.11240089685785+0.0009659197664947895j)]\n",
      "12 : w_i =  0.8334482758620689\n",
      "[(2.280843338904303-0.0007693446906209625j), (-2.28084333890186+0.000769344969722736j), (-4.002341968277887-0.0007693450085732831j), (4.002341968277976+0.0007693449832547027j), (-8.564028646091304+0.0007693402168031464j), (8.564028646081319-0.000769345071195371j), (10.28552727545274+0.000769345287004815j), (-10.285527275457477-0.0007693448415691828j), (14.847213953260832-0.000769345008638775j)]\n",
      "13 : w_i =  0.9020689655172414\n",
      "[(-2.5681951814675754+0.0006312880500056673j), (8.851380488647465-0.0006312880913397918j), (2.5681951814675608-0.0006312880527768177j), (3.7149901257128484+0.0006312880815071873j), (-3.714990125767628-0.0006312883518859413j), (-15.134565795826639+0.0006312880794282785j), (9.998175432891736+0.000631287906923947j), (-8.851380488630246+0.0006312920947408732j), (15.134565795815183-0.0006312880561287774j)]\n",
      "14 : w_i =  0.9706896551724138\n",
      "[(-2.845908069929815+0.0005294124357679976j), (-3.437277237249809-0.0005294124354405151j), (3.4372772372504437+0.0005294124441643882j), (-22.286833158893664-0.0005294124506687655j), (2.8459080700048713-0.0005294242439987151j), (9.12909337711088-0.0005294129339326542j), (-9.720462545589655-0.0005294117171789897j), (15.412278684082816-0.0005294113705544723j), (-9.129093377109289+0.0005294123569817619j)]\n",
      "15 : w_i =  1.0393103448275862\n",
      "|Ax|= 0.6537586730553638  |x|= 0.9999999999999997\n",
      "    fjac: array([[ 0.99003339, -0.14083281],\n",
      "       [ 0.14083281,  0.99003339]])\n",
      "     fun: array([-1.38778553e-01, -1.45765854e-05])\n",
      " message: 'The solution converged.'\n",
      "    nfev: 10\n",
      "     qtf: array([-0.13739335, -0.019559  ])\n",
      "       r: array([-3.95497408e+29,  7.76049608e+31,  1.68780161e+07])\n",
      "  status: 1\n",
      " success: True\n",
      "       x: array([-1.94859977,  0.        ])\n",
      "[(3.1165598066315066-0.00045151767645726045j), (-3.1165598063885174+0.0004515176667570116j), (-3.166625500556322-0.00045151429433960995j), (-1.948599769865208+0j), (3.1666255005483737+0.0004515176604372656j), (9.399745113143819-0.00045151766225230656j), (9.449810807727733+0.00045151767650408866j), (15.68293042089779-0.00045151767047715597j), (15.732996114907262+0.00045151767650388397j)]\n",
      "16 : w_i =  1.1079310344827586\n",
      "[(2.901339168144812+0.0003903271437254126j), (-15.948216753127202+0.00039032516297212724j), (-2.9013391681582608-0.00039032429410547364j), (3.38184613902961-0.0003903342275067538j), (-85.06325513269185+0.0003903272057330693j), (15.467709782483034+0.0003903273194038636j), (-72.01637754485964-0.00039032471648265435j), (-3.381846139105631+0.0003903044993976618j), (9.184524475323094+0.00039032730941630187j)]\n",
      "17 : w_i =  1.176551724137931\n",
      "[(2.640245895599851+0.0003412185069048808j), (-2.6402458956010717-0.00034121801357788205j), (-3.642939411636373+0.0003411778156223877j), (3.6429394115798632-0.00034121849331259434j), (-8.923431202778978-0.0003412183835477464j), (-21.489801816509097-0.00034121299008785873j), (8.923431202779366+0.0003412185506863742j), (9.92612471876019-0.0003412169183308834j), (-9.926124718759398+0.00034121851092226826j)]\n",
      "18 : w_i =  1.2451724137931035\n"
     ]
    },
    {
     "name": "stdout",
     "output_type": "stream",
     "text": [
      "[(2.3825036031678946+0.00030110983982141497j), (-2.3825036031636464-0.0003011102852692585j), (8.665688910336012+0.0003011102885231806j), (-3.900681704015937+0.000301110285461496j), (-40.081615446241535-0.0003011102918591606j), (-10.183867011195527+0.0003011102856256359j), (-14.948874217673335-0.0003011098899290951j), (3.9006817040159314-0.00030111028590698997j), (-109.19665382378177-0.0003011133555313955j)]\n",
      "19 : w_i =  1.313793103448276\n",
      "|Ax|= 0.1128518753436265  |x|= 1.0\n",
      "    fjac: array([[-0.91767546,  0.39733078],\n",
      "       [-0.39733078, -0.91767546]])\n",
      "     fun: array([3.08549042e-05, 1.66621395e-07])\n",
      " message: 'The iteration is not making good progress, as measured by the \\n  improvement from the last ten iterations.'\n",
      "    nfev: 15\n",
      "     qtf: array([-2.82485847e-05, -1.24125075e-05])\n",
      "       r: array([ 1.20687687e-01, -1.22119929e-01, -1.85449706e-07])\n",
      "  status: 5\n",
      " success: False\n",
      "       x: array([-2.17750257,  0.        ])\n",
      "[(2.1274887476612867+0.0002678704390292388j), (-2.1274887476614808-0.00026787045572044605j), (-14.693859362114997-0.000267870531313535j), (-4.15569655951651+0.000267875643398418j), (-16.722067173886764+0.00026787369781411196j), (4.1556965595193684-0.0002678703549607495j), (8.4106740548409+0.0002678704586082257j), (-8.410674054842834-0.00026787045320305415j), (-2.1775025664230676+0j)]\n",
      "20 : w_i =  1.3824137931034484\n",
      "[(-4.408457322452985+0.00023997773345782607j), (-1.8747279847267624-0.000239977687188928j), (8.157913291906626+0.00023997773703554191j), (1.874727984726072+0.00023997773094296717j), (4.4084573224531525-0.00023997746034618635j), (14.441098599085722+0.00023997773423000952j), (-8.157913291906082-0.00023997773744626304j), (-10.691642629633396+0.0002399750262421278j), (10.691642629717737-0.00023997792282074142j)]\n",
      "21 : w_i =  1.4510344827586208\n",
      "|Ax|= 0.15489176649977374  |x|= 0.9999999999999999\n",
      "    fjac: array([[ 0.59925065,  0.80056146],\n",
      "       [-0.80056146,  0.59925065]])\n",
      "     fun: array([-2.05118676,  0.0089748 ])\n",
      " message: 'The solution converged.'\n",
      "    nfev: 14\n",
      "     qtf: array([-1.22199013,  1.64747923])\n",
      "       r: array([-1.06117904e+22,  6.70049634e+23,  2.50000000e-01])\n",
      "  status: 1\n",
      " success: True\n",
      "       x: array([-1.57444294,  0.        ])\n",
      "[(-1.6238544585684014-0.00021631885993101687j), (1.6238544585683705+0.00021631886934437482j), (-4.6593308486104075+0.00021631884313033412j), (-1.5744429355286063+0j), (-7.907039765747981-0.0002163188581519806j), (4.659330848610654-0.0002163188694068853j), (7.907039765761366+0.00021631885995110906j), (10.942516155790308-0.0002163188724437736j), (14.190225072927548+0.0002163188598807551j)]\n",
      "22 : w_i =  1.5196551724137932\n",
      "[(-17.474977124218988+0.00019606153461642768j), (-1.3745787973186632-0.00019606121802262627j), (1.3745787973191717+0.00019606149044643014j), (7.657764104483504+0.00019605604061322888j), (-4.90860650986037+0.00019606153947296923j), (-111.7227567335236+0.0001960615632314837j), (4.908606509871654-0.0001961315480759771j), (-7.657764104503865-0.0001960612860842173j), (11.191791817039869-0.00019606154512520353j)]\n",
      "23 : w_i =  1.5882758620689656\n",
      "|Ax|= 1.026541133835281  |x|= 1.0\n",
      "    fjac: array([[-0.9904182 , -0.13810064],\n",
      "       [ 0.13810064, -0.9904182 ]])\n",
      "     fun: array([-1.47815865e+00, -3.90171398e-04])\n",
      " message: 'The iteration is not making good progress, as measured by the \\n  improvement from the last ten iterations.'\n",
      "    nfev: 15\n",
      "     qtf: array([ 1.46404911, -0.20374822])\n",
      "       r: array([-2.24623717e+06,  2.21750409e+07, -2.73833712e-03])\n",
      "  status: 5\n",
      " success: False\n",
      "       x: array([-1.80318659,  0.        ])\n",
      "[(-1.1266692647765975-0.000178571974800866j), (-1.8031865862333334+0j), (1.1266692647767411+0.00017857201270773162j), (5.156516042402115-0.00017857477455236897j), (7.409854571956265+0.00017857201223867036j), (11.439701349570027-0.0001785720127301628j), (30.289257271121457-0.00017857199621103604j), (130.82022218598294-0.0001785720184345742j), (-114.22400479728591-0.00017857219374155302j)]\n",
      "24 : w_i =  1.6568965517241379\n",
      "[(-7.16312312419657-0.0001633625103204048j), (-0.8799378175127767-0.00016335989928485954j), (-13.446308431871692-0.00016335988613825725j), (0.8799378175127947+0.00016335989835743878j), (5.403247489666785-0.0001633599572893681j), (7.163123124692582+0.00016335976257173774j), (-5.403247489754474+0.0001633054175304859j), (-19.729493739051502-0.00016335990128388833j), (11.686432796845795-0.00016335978441269893j)]\n",
      "25 : w_i =  1.7255172413793103\n",
      "[(-0.6342300866642596-0.0001500404277755112j), (0.6342300866642655+0.00015004042282397575j), (5.648955220515327-0.00015004042168005748j), (6.917415393843838+0.0001500404277711772j), (-5.648955220516654+0.00015004042445247476j), (-6.917415393847108-0.00015004028015036644j), (-19.48378600820183-0.00015004045714116874j), (62.1976229852004-0.00015004032346321514j), (-57.18289785122503-0.00015004296059134025j)]\n",
      "26 : w_i =  1.7941379310344827\n",
      "[(0.38941803657387963+0.00013830787805020172j), (-0.38941803657244806-0.0001383088800604611j), (5.893767270608345-0.00013830429573811573j), (-5.893767270607489+0.00013830417656638948j), (-6.672603343753481-0.0001383078760774837j), (62.442435035417034-0.000138303213079082j), (49.87606442081602-0.00013830788255842028j), (6.672603343753478+0.00013830785711642094j), (-12.176952577785281+0.0001383078814901738j)]\n",
      "27 : w_i =  1.8627586206896551\n",
      "[(0.14539449100708973+0.00012791697156979784j), (-0.14539449100712598-0.0001279166521879352j), (12.420976123352768-0.00012791726266995132j), (18.704161425476567-0.00012791493510774335j), (-6.428579798188259-0.00012791665209283988j), (12.711765105330443+0.00012792345917164344j), (-6.137790816302194+0.00012791198838441758j), (6.137790816184062-0.0001279059525116826j), (-12.420976123338297+0.00012791661245563775j)]\n",
      "28 : w_i =  1.9313793103448276\n",
      "[(-0.09793101139860415+0.00011866742649414266j), (0.09793101139860323-0.00011866742601610528j), (-6.185254295781184-0.00011866745646053768j), (6.185254295780739+0.0001186674701473512j), (12.468439602969902+0.00011866896529638881j), (-18.75162490605676-0.000118659040501868j), (-12.468439602972607-0.00011866750607958984j), (-56.45073677257531-0.00011867512808839121j), (6.381116318578188-0.00011866742595366163j)]\n",
      "29 : w_i =  2.0\n",
      "[(-0.34063539868731885+0.00011039694500375077j), (-5.942549908494943-0.00011039697700193812j), (0.34063539868476955-0.00011039698227537975j), (5.942549908492387+0.00011039726224892748j), (-6.623820705864363+0.00011039697877229746j), (6.623820705864367-0.00011039697071801218j), (12.22573521567734+0.00011039715337624719j), (-12.225735215674586-0.00011039698741790458j), (49.92484705811435+0.00011039687635392947j)]\n"
     ]
    },
    {
     "data": {
      "image/png": "[encoded data removed]",
      "text/plain": [
       "<Figure size 576x432 with 1 Axes>"
      ]
     },
     "metadata": {
      "needs_background": "light"
     },
     "output_type": "display_data"
    }
   ],
   "source": [
    "##get dispsion curves\n",
    "\n",
    "w_min  = 0.01\n",
    "w_max = 2.0\n",
    "n_pts = 30\n",
    "\n",
    "omega_arr = np.linspace(w_min, w_max, n_pts)\n",
    "\n",
    "figsize(8, 6)\n",
    "\n",
    "w_pts = []\n",
    "k_pts = []\n",
    "\n",
    "for i in range(n_pts):\n",
    "    w_i = omega_arr[i]\n",
    "    A_mat_list = set_matrices_list(w_i, Ns)\n",
    "    A_eqs_list = [A_mat_list]\n",
    "    \n",
    "    print(i, \": w_i = \" , w_i)\n",
    "    [eig_points_k, eig_vecs_E] = get_eig_points(w_i, Ns, _N_pp, A_eqs_list, vbose=False)\n",
    "    print(eig_points_k)\n",
    "    eig_points_k_real = np.real(eig_points_k)\n",
    "    plot(eig_points_k_real, [w_i]*len(eig_points_k), 'bo', markersize = 1)\n",
    "\n",
    "    w_pts.extend([w_i]*len(eig_points_k))\n",
    "    k_pts.extend(eig_points_k_real.tolist())\n",
    "    \n",
    "xlim(-np.pi/Z_p, np.pi/Z_p)\n",
    "show()\n"
   ]
  },
  {
   "cell_type": "code",
   "execution_count": null,
   "metadata": {},
   "outputs": [],
   "source": []
  }
 ],
 "metadata": {
  "kernelspec": {
   "display_name": "Python 3",
   "language": "python",
   "name": "python3"
  },
  "language_info": {
   "codemirror_mode": {
    "name": "ipython",
    "version": 3
   },
   "file_extension": ".py",
   "mimetype": "text/x-python",
   "name": "python",
   "nbconvert_exporter": "python",
   "pygments_lexer": "ipython3",
   "version": "3.6.6"
  }
 },
 "nbformat": 4,
 "nbformat_minor": 2
}
