{
 "cells": [
  {
   "cell_type": "markdown",
   "metadata": {},
   "source": [
    "# Gyrator with coupler"
   ]
  },
  {
   "cell_type": "markdown",
   "metadata": {},
   "source": [
    "The following S matrix describes an all pass 2- port network connecting two ports of a backward coupler to a reciprocal phaser"
   ]
  },
  {
   "cell_type": "code",
   "execution_count": 3,
   "metadata": {
    "collapsed": false
   },
   "outputs": [
    {
     "data": {
      "text/latex": [
       "$$S = \\left[\\begin{matrix}0 & S_{1} & S_{2} & 0 & 0 & 0\\\\S_{1} & 0 & 0 & S_{2} & 0 & 0\\\\S_{2} & 0 & 0 & S_{1} & 0 & 0\\\\0 & S_{2} & S_{1} & 0 & 0 & 0\\\\0 & 0 & 0 & 0 & 0 & e^{- i \\alpha}\\\\0 & 0 & 0 & 0 & e^{- i \\alpha} & 0\\end{matrix}\\right]$$"
      ],
      "text/plain": [
       "<IPython.core.display.Math at 0x7f669d7088d0>"
      ]
     },
     "metadata": {},
     "output_type": "display_data"
    },
    {
     "data": {
      "text/latex": [
       "$$S = \\left[\\begin{matrix}0 & \\frac{S_{1}^{2} e^{- i \\alpha}}{- S_{2} e^{- i \\alpha} + 1} + S_{2}\\\\\\frac{S_{1}^{2} e^{- i \\alpha}}{- S_{2} e^{- i \\alpha} + 1} + S_{2} & 0\\end{matrix}\\right]$$"
      ],
      "text/plain": [
       "<IPython.core.display.Math at 0x7f66a47e7e10>"
      ]
     },
     "metadata": {},
     "output_type": "display_data"
    },
    {
     "data": {
      "text/latex": [
       "$$S_{21} = \\frac{S_{1}^{2} e^{- i \\alpha}}{- S_{2} e^{- i \\alpha} + 1} + S_{2}$$"
      ],
      "text/plain": [
       "<IPython.core.display.Math at 0x7f66a47e7e10>"
      ]
     },
     "metadata": {},
     "output_type": "display_data"
    },
    {
     "data": {
      "text/latex": [
       "$$S_1 = \\frac{i k \\sin{\\left (\\theta \\right )}}{\\sqrt{- k^{2} + 1} \\cos{\\left (\\theta \\right )} + i \\sin{\\left (\\theta \\right )}}$$"
      ],
      "text/plain": [
       "<IPython.core.display.Math at 0x7f66a47e7be0>"
      ]
     },
     "metadata": {},
     "output_type": "display_data"
    },
    {
     "data": {
      "text/latex": [
       "$$S_2 = \\frac{\\sqrt{- k^{2} + 1}}{\\sqrt{- k^{2} + 1} \\cos{\\left (\\theta \\right )} + i \\sin{\\left (\\theta \\right )}}$$"
      ],
      "text/plain": [
       "<IPython.core.display.Math at 0x7f66a47e7e10>"
      ]
     },
     "metadata": {},
     "output_type": "display_data"
    },
    {
     "data": {
      "text/latex": [
       "$$S_{21} = \\frac{k^{2} \\sin^{2}{\\left (\\theta \\right )} + \\sqrt{- k^{2} + 1} \\left(\\sqrt{- k^{2} + 1} - \\left(\\sqrt{- k^{2} + 1} \\cos{\\left (\\theta \\right )} + i \\sin{\\left (\\theta \\right )}\\right) e^{i \\alpha}\\right)}{\\left(\\sqrt{- k^{2} + 1} \\cos{\\left (\\theta \\right )} + i \\sin{\\left (\\theta \\right )}\\right) \\left(\\sqrt{- k^{2} + 1} - \\left(\\sqrt{- k^{2} + 1} \\cos{\\left (\\theta \\right )} + i \\sin{\\left (\\theta \\right )}\\right) e^{i \\alpha}\\right)}$$"
      ],
      "text/plain": [
       "<IPython.core.display.Math at 0x7f66a434ee80>"
      ]
     },
     "metadata": {},
     "output_type": "display_data"
    },
    {
     "data": {
      "text/latex": [
       "$$PQ = \\left \\{ P : \\frac{1}{k^{2} \\sin^{2}{\\left (\\theta \\right )} + \\sqrt{- k^{2} + 1} \\left(\\sqrt{- k^{2} + 1} - \\left(\\sqrt{- k^{2} + 1} \\cos{\\left (\\theta \\right )} + i \\sin{\\left (\\theta \\right )}\\right) e^{i \\alpha}\\right)}, \\quad Q : \\frac{1}{\\left(\\sqrt{- k^{2} + 1} \\cos{\\left (\\theta \\right )} + i \\sin{\\left (\\theta \\right )}\\right) \\left(\\sqrt{- k^{2} + 1} - \\left(\\sqrt{- k^{2} + 1} \\cos{\\left (\\theta \\right )} + i \\sin{\\left (\\theta \\right )}\\right) e^{i \\alpha}\\right)}\\right \\}$$"
      ],
      "text/plain": [
       "<IPython.core.display.Math at 0x7f66a47e7e10>"
      ]
     },
     "metadata": {},
     "output_type": "display_data"
    },
    {
     "data": {
      "text/latex": [
       "$$P = k^{2} e^{i \\alpha} \\cos{\\left (\\theta \\right )} - k^{2} \\cos^{2}{\\left (\\theta \\right )} - i \\sqrt{- k^{2} + 1} e^{i \\alpha} \\sin{\\left (\\theta \\right )} - e^{i \\alpha} \\cos{\\left (\\theta \\right )} + 1$$"
      ],
      "text/plain": [
       "<IPython.core.display.Math at 0x7f669d502780>"
      ]
     },
     "metadata": {},
     "output_type": "display_data"
    },
    {
     "data": {
      "text/latex": [
       "$$Q = \\frac{k^{2}}{2} e^{i \\alpha} \\cos{\\left (2 \\theta \\right )} + \\frac{k^{2}}{2} e^{i \\alpha} - k^{2} \\cos{\\left (\\theta \\right )} - i \\sqrt{- k^{2} + 1} e^{i \\alpha} \\sin{\\left (2 \\theta \\right )} + i \\sqrt{- k^{2} + 1} \\sin{\\left (\\theta \\right )} - e^{i \\alpha} \\cos{\\left (2 \\theta \\right )} + \\cos{\\left (\\theta \\right )}$$"
      ],
      "text/plain": [
       "<IPython.core.display.Math at 0x7f669d502940>"
      ]
     },
     "metadata": {},
     "output_type": "display_data"
    },
    {
     "data": {
      "text/latex": [
       "$$P(k=0.5, \\alpha=\\pi/3.0, \\theta=\\pi/4) = (1.1401650429449552-0.7654655446197431j)$$"
      ],
      "text/plain": [
       "<IPython.core.display.Math at 0x7f66a434ee80>"
      ]
     },
     "metadata": {},
     "output_type": "display_data"
    },
    {
     "data": {
      "text/latex": [
       "$$Q(k=0.5, \\alpha=\\pi/3.0, \\theta=\\pi/4) = (1.3428300858899105+0.28761290927662997j)$$"
      ],
      "text/plain": [
       "<IPython.core.display.Math at 0x7f669d50cf98>"
      ]
     },
     "metadata": {},
     "output_type": "display_data"
    },
    {
     "name": "stdout",
     "output_type": "stream",
     "text": [
      "abs(P/Q) =  1.0\n"
     ]
    },
    {
     "data": {
      "text/latex": [
       "$$abs(P)**2 = k^{4} \\sin^{4}{\\left (\\theta \\right )} - 3 k^{4} \\sin^{2}{\\left (\\theta \\right )} - 2 k^{4} \\cos{\\left (\\alpha \\right )} \\cos^{3}{\\left (\\theta \\right )} + 2 k^{4} + 2 k^{2} t \\sin{\\left (\\alpha \\right )} \\sin^{3}{\\left (\\theta \\right )} - 2 k^{2} t \\sin{\\left (\\alpha \\right )} \\sin{\\left (\\theta \\right )} + 3 k^{2} \\sin^{2}{\\left (\\theta \\right )} + 2 k^{2} \\cos{\\left (\\alpha \\right )} \\cos^{3}{\\left (\\theta \\right )} + 2 k^{2} \\cos{\\left (\\alpha \\right )} \\cos{\\left (\\theta \\right )} - 4 k^{2} + 2 t \\sin{\\left (\\alpha \\right )} \\sin{\\left (\\theta \\right )} - 2 \\cos{\\left (\\alpha \\right )} \\cos{\\left (\\theta \\right )} + 2$$"
      ],
      "text/plain": [
       "<IPython.core.display.Math at 0x7f669d6b6b38>"
      ]
     },
     "metadata": {},
     "output_type": "display_data"
    },
    {
     "data": {
      "text/latex": [
       "$$abs(Q)**2 = - 2 k^{4} \\cos{\\left (\\alpha \\right )} \\cos^{3}{\\left (\\theta \\right )} + k^{4} \\cos^{4}{\\left (\\theta \\right )} + k^{4} \\cos^{2}{\\left (\\theta \\right )} - 2 k^{2} t \\sin{\\left (\\alpha \\right )} \\sin{\\left (\\theta \\right )} \\cos^{2}{\\left (\\theta \\right )} + 2 k^{2} \\cos{\\left (\\alpha \\right )} \\cos^{3}{\\left (\\theta \\right )} + 2 k^{2} \\cos{\\left (\\alpha \\right )} \\cos{\\left (\\theta \\right )} - 3 k^{2} \\cos^{2}{\\left (\\theta \\right )} - k^{2} + 2 t \\sin{\\left (\\alpha \\right )} \\sin{\\left (\\theta \\right )} - 2 \\cos{\\left (\\alpha \\right )} \\cos{\\left (\\theta \\right )} + 2$$"
      ],
      "text/plain": [
       "<IPython.core.display.Math at 0x7f669d6a9a90>"
      ]
     },
     "metadata": {},
     "output_type": "display_data"
    },
    {
     "data": {
      "image/png": "[encoded data removed]",
      "text/latex": [
       "$$\\frac{k^{4} \\sin^{4}{\\left (\\theta \\right )} - 3 k^{4} \\sin^{2}{\\left (\\theta \\right )} - 2 k^{4} \\cos{\\left (\\alpha \\right )} \\cos^{3}{\\left (\\theta \\right )} + 2 k^{4} + 2 k^{2} t \\sin{\\left (\\alpha \\right )} \\sin^{3}{\\left (\\theta \\right )} - 2 k^{2} t \\sin{\\left (\\alpha \\right )} \\sin{\\left (\\theta \\right )} + 3 k^{2} \\sin^{2}{\\left (\\theta \\right )} + 2 k^{2} \\cos{\\left (\\alpha \\right )} \\cos^{3}{\\left (\\theta \\right )} + 2 k^{2} \\cos{\\left (\\alpha \\right )} \\cos{\\left (\\theta \\right )} - 4 k^{2} + 2 t \\sin{\\left (\\alpha \\right )} \\sin{\\left (\\theta \\right )} - 2 \\cos{\\left (\\alpha \\right )} \\cos{\\left (\\theta \\right )} + 2}{- 2 k^{4} \\cos{\\left (\\alpha \\right )} \\cos^{3}{\\left (\\theta \\right )} + k^{4} \\cos^{4}{\\left (\\theta \\right )} + k^{4} \\cos^{2}{\\left (\\theta \\right )} - 2 k^{2} t \\sin{\\left (\\alpha \\right )} \\sin{\\left (\\theta \\right )} \\cos^{2}{\\left (\\theta \\right )} + 2 k^{2} \\cos{\\left (\\alpha \\right )} \\cos^{3}{\\left (\\theta \\right )} + 2 k^{2} \\cos{\\left (\\alpha \\right )} \\cos{\\left (\\theta \\right )} - 3 k^{2} \\cos^{2}{\\left (\\theta \\right )} - k^{2} + 2 t \\sin{\\left (\\alpha \\right )} \\sin{\\left (\\theta \\right )} - 2 \\cos{\\left (\\alpha \\right )} \\cos{\\left (\\theta \\right )} + 2}$$"
      ],
      "text/plain": [
       " 4    4              4    2              4                3              4    \n",
       "k ⋅sin (\\theta) - 3⋅k ⋅sin (\\theta) - 2⋅k ⋅cos(\\alpha)⋅cos (\\theta) + 2⋅k  + 2\n",
       "──────────────────────────────────────────────────────────────────────────────\n",
       "                    4                3            4    4            4    2    \n",
       "               - 2⋅k ⋅cos(\\alpha)⋅cos (\\theta) + k ⋅cos (\\theta) + k ⋅cos (\\th\n",
       "\n",
       "  2                  3              2                                2    2   \n",
       "⋅k ⋅t⋅sin(\\alpha)⋅sin (\\theta) - 2⋅k ⋅t⋅sin(\\alpha)⋅sin(\\theta) + 3⋅k ⋅sin (\\t\n",
       "──────────────────────────────────────────────────────────────────────────────\n",
       "          2                              2              2                3    \n",
       "eta) - 2⋅k ⋅t⋅sin(\\alpha)⋅sin(\\theta)⋅cos (\\theta) + 2⋅k ⋅cos(\\alpha)⋅cos (\\th\n",
       "\n",
       "           2                3              2                              2   \n",
       "heta) + 2⋅k ⋅cos(\\alpha)⋅cos (\\theta) + 2⋅k ⋅cos(\\alpha)⋅cos(\\theta) - 4⋅k  + \n",
       "──────────────────────────────────────────────────────────────────────────────\n",
       "          2                              2    2            2                  \n",
       "eta) + 2⋅k ⋅cos(\\alpha)⋅cos(\\theta) - 3⋅k ⋅cos (\\theta) - k  + 2⋅t⋅sin(\\alpha)\n",
       "\n",
       "                                                           \n",
       "2⋅t⋅sin(\\alpha)⋅sin(\\theta) - 2⋅cos(\\alpha)⋅cos(\\theta) + 2\n",
       "───────────────────────────────────────────────────────────\n",
       "                                                           \n",
       "⋅sin(\\theta) - 2⋅cos(\\alpha)⋅cos(\\theta) + 2               "
      ]
     },
     "execution_count": 3,
     "metadata": {},
     "output_type": "execute_result"
    }
   ],
   "source": [
    "from sympy import *\n",
    "from Electromagnetics.NetworkAnalysis_sym import *\n",
    "from IPython.display import display, Math, Latex\n",
    "\n",
    "init_printing()\n",
    "\n",
    "k = Symbol('k', real=True)\n",
    "alpha = Symbol('\\\\alpha', real=True)\n",
    "theta = Symbol('\\\\theta', real=True)\n",
    "\n",
    "S_1 = Symbol('S_1')\n",
    "S_2 = Symbol('S_2')\n",
    "\n",
    "Snet = EmNetwork()\n",
    "\n",
    "S1_subs = I*k*sin(theta)/(sqrt(1-k**2)*cos(theta) + I*sin(theta))\n",
    "S2_subs = sqrt(1-k**2)/(sqrt(1-k**2)*cos(theta) + I*sin(theta))\n",
    "\n",
    "S_coupler = Matrix([[0, S_1, S_2, 0],\n",
    "                    [S_1, 0, 0, S_2],\n",
    "                    [S_2, 0, 0, S_1],\n",
    "                    [0, S_2, S_1, 0]])\n",
    "                 \n",
    "\n",
    "\n",
    "S_phaser = Matrix([[0, exp(-I*alpha)],\n",
    "                   [exp(-I*alpha), 0]])\n",
    "\n",
    "Snet.addComponent(S_coupler, \"coupler\")\n",
    "Snet.addComponent(S_phaser, \"phaser\")\n",
    "\n",
    "S = Snet.getTotalScatteringMatrix()\n",
    "display(Math('S = ' + latex(S)))\n",
    "\n",
    "\n",
    "Snet.addConnection(\"coupler\", 3, \"phaser\", 0)\n",
    "Snet.addConnection(\"coupler\", 1, \"phaser\", 1)\n",
    "\n",
    "S = Snet.getTotalScatteringMatrix()\n",
    "display(Math('S = ' + latex(S)))\n",
    "\n",
    "S_21 = S[1,0]\n",
    "display(Math('S_{21} = ' + latex(S_21)))\n",
    "\n",
    "display(Math('S_1 = ' + latex(S1_subs)))\n",
    "display(Math('S_2 = ' + latex(S2_subs)))\n",
    "\n",
    "\n",
    "S_21 = S_21.subs([(S_1, S1_subs), (S_2, S2_subs)]).simplify()\n",
    "display(Math('S_{21} = ' + latex(S_21)))\n",
    "\n",
    "p = Wild('P')\n",
    "q = Wild('Q')\n",
    "\n",
    "pq = S_21.match(q/p)\n",
    "\n",
    "display(Math('PQ = ' + latex(pq)))\n",
    "\n",
    "\n",
    "p = (1/pq[p]).expand().trigsimp()\n",
    "q = (1/pq[q]).expand().trigsimp()\n",
    "\n",
    "display(Math('P = ' + latex(p)))\n",
    "display(Math('Q = ' + latex(q)))\n",
    "\n",
    "p_eval = complex(p.subs([(k,0.5), (alpha, pi/3.0), (theta, pi/4.0)]).evalf())\n",
    "q_eval = complex(q.subs([(k,0.5), (alpha, pi/3.0), (theta, pi/4.0)]).evalf())\n",
    "display(Math( 'P(k=0.5, \\\\alpha=\\\\pi/3.0, \\\\theta=\\\\pi/4) = {0}'.format(p_eval)))\n",
    "display(Math( 'Q(k=0.5, \\\\alpha=\\\\pi/3.0, \\\\theta=\\\\pi/4) = {0}'.format(q_eval)))\n",
    "\n",
    "print('abs(P/Q) = ', abs(complex(p_eval/q_eval)))\n",
    "\n",
    "t = Symbol('t', real=True)\n",
    "p = p.subs(sqrt(1-k**2), t)\n",
    "abs_p = (re(p)**2 + im(p)**2).expand().subs(t**2, 1-k**2).trigsimp()\n",
    "display(Math('abs(P)**2 = ' + latex(abs_p)))\n",
    "q = q.subs(sqrt(1-k**2), t)\n",
    "abs_q = (re(q)**2 + im(q)**2).expand().subs(t**2, 1-k**2).trigsimp()\n",
    "display(Math('abs(Q)**2 = ' + latex(abs_q)))\n",
    "\n",
    "simplify(abs_p/abs_q)"
   ]
  },
  {
   "cell_type": "code",
   "execution_count": 11,
   "metadata": {
    "collapsed": false
   },
   "outputs": [
    {
     "data": {
      "text/latex": [
       "$$S_\\text{coupler} = \\left[\\begin{matrix}0 & S_{1} & S_{2} & 0\\\\S_{1} & 0 & 0 & S_{2}\\\\S_{2} & 0 & 0 & S_{1}\\\\0 & S_{2} & S_{1} & 0\\end{matrix}\\right]$$"
      ],
      "text/plain": [
       "<IPython.core.display.Math at 0x7f66a42f47f0>"
      ]
     },
     "metadata": {},
     "output_type": "display_data"
    },
    {
     "data": {
      "text/latex": [
       "$$S_\\text{phaser} = \\left[\\begin{matrix}0 & 0\\\\e^{- i \\alpha_{1}} & e^{- i \\alpha_{2}}\\end{matrix}\\right]$$"
      ],
      "text/plain": [
       "<IPython.core.display.Math at 0x7f669d62c860>"
      ]
     },
     "metadata": {},
     "output_type": "display_data"
    },
    {
     "data": {
      "text/latex": [
       "$$S = \\left[\\begin{matrix}0 & S_{1} & S_{2} & 0 & 0 & 0\\\\S_{1} & 0 & 0 & S_{2} & 0 & 0\\\\S_{2} & 0 & 0 & S_{1} & 0 & 0\\\\0 & S_{2} & S_{1} & 0 & 0 & 0\\\\0 & 0 & 0 & 0 & 0 & 0\\\\0 & 0 & 0 & 0 & e^{- i \\alpha_{1}} & e^{- i \\alpha_{2}}\\end{matrix}\\right]$$"
      ],
      "text/plain": [
       "<IPython.core.display.Math at 0x7f669d62c860>"
      ]
     },
     "metadata": {},
     "output_type": "display_data"
    },
    {
     "data": {
      "text/latex": [
       "$$S = \\left[\\begin{matrix}\\frac{S_{1}^{2} e^{- i \\alpha_{2}}}{- S_{2} e^{- i \\alpha_{1}} + 1} & \\frac{S_{1}^{2} e^{- i \\alpha_{1}}}{- S_{2} e^{- i \\alpha_{1}} + 1} + S_{2}\\\\S_{2} & 0\\end{matrix}\\right]$$"
      ],
      "text/plain": [
       "<IPython.core.display.Math at 0x7f669d766208>"
      ]
     },
     "metadata": {},
     "output_type": "display_data"
    },
    {
     "data": {
      "text/latex": [
       "$$S_{21} = S_{2}$$"
      ],
      "text/plain": [
       "<IPython.core.display.Math at 0x7f669d766208>"
      ]
     },
     "metadata": {},
     "output_type": "display_data"
    },
    {
     "data": {
      "text/latex": [
       "$$S_{12} = \\frac{S_{1}^{2} e^{- i \\alpha_{1}}}{- S_{2} e^{- i \\alpha_{1}} + 1} + S_{2}$$"
      ],
      "text/plain": [
       "<IPython.core.display.Math at 0x7f669d766208>"
      ]
     },
     "metadata": {},
     "output_type": "display_data"
    },
    {
     "data": {
      "text/latex": [
       "$$S_1 = \\frac{i k \\sin{\\left (\\theta \\right )}}{\\sqrt{- k^{2} + 1} \\cos{\\left (\\theta \\right )} + i \\sin{\\left (\\theta \\right )}}$$"
      ],
      "text/plain": [
       "<IPython.core.display.Math at 0x7f66a42f47f0>"
      ]
     },
     "metadata": {},
     "output_type": "display_data"
    },
    {
     "data": {
      "text/latex": [
       "$$S_2 = \\frac{\\sqrt{- k^{2} + 1}}{\\sqrt{- k^{2} + 1} \\cos{\\left (\\theta \\right )} + i \\sin{\\left (\\theta \\right )}}$$"
      ],
      "text/plain": [
       "<IPython.core.display.Math at 0x7f669d766208>"
      ]
     },
     "metadata": {},
     "output_type": "display_data"
    },
    {
     "data": {
      "text/latex": [
       "$$S_{21} = \\frac{\\sqrt{- k^{2} + 1}}{\\sqrt{- k^{2} + 1} \\cos{\\left (\\theta \\right )} + i \\sin{\\left (\\theta \\right )}}$$"
      ],
      "text/plain": [
       "<IPython.core.display.Math at 0x7f669d3d1dd8>"
      ]
     },
     "metadata": {},
     "output_type": "display_data"
    },
    {
     "data": {
      "text/latex": [
       "$$S_{12} = \\frac{k^{2} \\sin^{2}{\\left (\\theta \\right )} + \\sqrt{- k^{2} + 1} \\left(\\sqrt{- k^{2} + 1} - \\left(\\sqrt{- k^{2} + 1} \\cos{\\left (\\theta \\right )} + i \\sin{\\left (\\theta \\right )}\\right) e^{i \\alpha_{1}}\\right)}{\\left(\\sqrt{- k^{2} + 1} \\cos{\\left (\\theta \\right )} + i \\sin{\\left (\\theta \\right )}\\right) \\left(\\sqrt{- k^{2} + 1} - \\left(\\sqrt{- k^{2} + 1} \\cos{\\left (\\theta \\right )} + i \\sin{\\left (\\theta \\right )}\\right) e^{i \\alpha_{1}}\\right)}$$"
      ],
      "text/plain": [
       "<IPython.core.display.Math at 0x7f66a42f47f0>"
      ]
     },
     "metadata": {},
     "output_type": "display_data"
    }
   ],
   "source": [
    "from sympy import *\n",
    "from Electromagnetics.NetworkAnalysis_sym import *\n",
    "from IPython.display import display, Math, Latex\n",
    "\n",
    "init_printing()\n",
    "\n",
    "k = Symbol('k', real=True)\n",
    "alpha_1 = Symbol('\\\\alpha_1', real=True)\n",
    "alpha_2 = Symbol('\\\\alpha_2', real=True)\n",
    "theta = Symbol('\\\\theta', real=True)\n",
    "\n",
    "S_1 = Symbol('S_1')\n",
    "S_2 = Symbol('S_2')\n",
    "\n",
    "Snet = EmNetwork()\n",
    "\n",
    "S1_subs = I*k*sin(theta)/(sqrt(1-k**2)*cos(theta) + I*sin(theta))\n",
    "S2_subs = sqrt(1-k**2)/(sqrt(1-k**2)*cos(theta) + I*sin(theta))\n",
    "\n",
    "S_coupler = Matrix([[0, S_1, S_2, 0],\n",
    "                    [S_1, 0, 0, S_2],\n",
    "                    [S_2, 0, 0, S_1],\n",
    "                    [0, S_2, S_1, 0]])\n",
    "\n",
    "S_phaser = Matrix([[0, 0],\n",
    "                   [exp(-I*alpha_1), exp(-I*alpha_2)]])\n",
    "\n",
    "\n",
    "display(Math('S_\\\\text{coupler} = ' + latex(S_coupler)))\n",
    "display(Math('S_\\\\text{phaser} = ' + latex(S_phaser)))\n",
    "\n",
    "Snet.addComponent(S_coupler, \"coupler\")\n",
    "Snet.addComponent(S_phaser, \"phaser\")\n",
    "\n",
    "S = Snet.getTotalScatteringMatrix()\n",
    "display(Math('S = ' + latex(S)))\n",
    "\n",
    "\n",
    "Snet.addConnection(\"coupler\", 3, \"phaser\", 0)\n",
    "Snet.addConnection(\"coupler\", 1, \"phaser\", 1)\n",
    "\n",
    "S = Snet.getTotalScatteringMatrix()\n",
    "display(Math('S = ' + latex(S)))\n",
    "\n",
    "S_21 = S[1,0]\n",
    "display(Math('S_{21} = ' + latex(S_21)))\n",
    "\n",
    "S_12 = S[0,1]\n",
    "display(Math('S_{12} = ' + latex(S_12)))\n",
    "\n",
    "\n",
    "display(Math('S_1 = ' + latex(S1_subs)))\n",
    "display(Math('S_2 = ' + latex(S2_subs)))\n",
    "\n",
    "\n",
    "S_21 = S_21.subs([(S_1, S1_subs), (S_2, S2_subs)]).simplify()\n",
    "display(Math('S_{21} = ' + latex(S_21)))\n",
    "\n",
    "S_12 = S_12.subs([(S_1, S1_subs), (S_2, S2_subs)]).simplify()\n",
    "display(Math('S_{12} = ' + latex(S_12)))\n"
   ]
  },
  {
   "cell_type": "code",
   "execution_count": 12,
   "metadata": {
    "collapsed": false
   },
   "outputs": [
    {
     "data": {
      "text/latex": [
       "$$S_\\text{coupler} = \\left[\\begin{matrix}0 & S_{1} & S_{2} & 0\\\\S_{1} & 0 & 0 & S_{2}\\\\S_{2} & 0 & 0 & S_{1}\\\\0 & S_{2} & S_{1} & 0\\end{matrix}\\right]$$"
      ],
      "text/plain": [
       "<IPython.core.display.Math at 0x7f66a43343c8>"
      ]
     },
     "metadata": {},
     "output_type": "display_data"
    },
    {
     "data": {
      "text/latex": [
       "$$S_\\text{phaser} = \\left[\\begin{matrix}0 & 1\\\\-1 & 0\\end{matrix}\\right]$$"
      ],
      "text/plain": [
       "<IPython.core.display.Math at 0x7f669d5d6048>"
      ]
     },
     "metadata": {},
     "output_type": "display_data"
    },
    {
     "data": {
      "text/latex": [
       "$$S = \\left[\\begin{matrix}0 & S_{1} & S_{2} & 0 & 0 & 0\\\\S_{1} & 0 & 0 & S_{2} & 0 & 0\\\\S_{2} & 0 & 0 & S_{1} & 0 & 0\\\\0 & S_{2} & S_{1} & 0 & 0 & 0\\\\0 & 0 & 0 & 0 & 0 & 1\\\\0 & 0 & 0 & 0 & -1 & 0\\end{matrix}\\right]$$"
      ],
      "text/plain": [
       "<IPython.core.display.Math at 0x7f669d5d6048>"
      ]
     },
     "metadata": {},
     "output_type": "display_data"
    },
    {
     "data": {
      "text/latex": [
       "$$S = \\left[\\begin{matrix}0 & - \\frac{S_{1}^{2}}{S_{2} + 1} + S_{2}\\\\\\frac{S_{1}^{2}}{- S_{2} + 1} + S_{2} & 0\\end{matrix}\\right]$$"
      ],
      "text/plain": [
       "<IPython.core.display.Math at 0x7f66a47e7a58>"
      ]
     },
     "metadata": {},
     "output_type": "display_data"
    },
    {
     "data": {
      "text/latex": [
       "$$S_{21} = \\frac{S_{1}^{2}}{- S_{2} + 1} + S_{2}$$"
      ],
      "text/plain": [
       "<IPython.core.display.Math at 0x7f66a47e7a58>"
      ]
     },
     "metadata": {},
     "output_type": "display_data"
    },
    {
     "data": {
      "text/latex": [
       "$$S_{12} = - \\frac{S_{1}^{2}}{S_{2} + 1} + S_{2}$$"
      ],
      "text/plain": [
       "<IPython.core.display.Math at 0x7f66a47e7a58>"
      ]
     },
     "metadata": {},
     "output_type": "display_data"
    },
    {
     "data": {
      "text/latex": [
       "$$S_1 = \\frac{i k \\sin{\\left (\\theta \\right )}}{\\sqrt{- k^{2} + 1} \\cos{\\left (\\theta \\right )} + i \\sin{\\left (\\theta \\right )}}$$"
      ],
      "text/plain": [
       "<IPython.core.display.Math at 0x7f66a43343c8>"
      ]
     },
     "metadata": {},
     "output_type": "display_data"
    },
    {
     "data": {
      "text/latex": [
       "$$S_2 = \\frac{\\sqrt{- k^{2} + 1}}{\\sqrt{- k^{2} + 1} \\cos{\\left (\\theta \\right )} + i \\sin{\\left (\\theta \\right )}}$$"
      ],
      "text/plain": [
       "<IPython.core.display.Math at 0x7f66a47e7a58>"
      ]
     },
     "metadata": {},
     "output_type": "display_data"
    },
    {
     "data": {
      "text/latex": [
       "$$S_{21} = \\frac{k^{2} \\sin^{2}{\\left (\\theta \\right )} + \\sqrt{- k^{2} + 1} \\left(- \\sqrt{- k^{2} + 1} \\cos{\\left (\\theta \\right )} + \\sqrt{- k^{2} + 1} - i \\sin{\\left (\\theta \\right )}\\right)}{\\left(\\sqrt{- k^{2} + 1} \\cos{\\left (\\theta \\right )} + i \\sin{\\left (\\theta \\right )}\\right) \\left(- \\sqrt{- k^{2} + 1} \\cos{\\left (\\theta \\right )} + \\sqrt{- k^{2} + 1} - i \\sin{\\left (\\theta \\right )}\\right)}$$"
      ],
      "text/plain": [
       "<IPython.core.display.Math at 0x7f66a47e7a58>"
      ]
     },
     "metadata": {},
     "output_type": "display_data"
    },
    {
     "data": {
      "text/latex": [
       "$$S_{12} = \\frac{k^{2} \\sin^{2}{\\left (\\theta \\right )} + \\sqrt{- k^{2} + 1} \\left(\\sqrt{- k^{2} + 1} \\cos{\\left (\\theta \\right )} + \\sqrt{- k^{2} + 1} + i \\sin{\\left (\\theta \\right )}\\right)}{\\left(\\sqrt{- k^{2} + 1} \\cos{\\left (\\theta \\right )} + i \\sin{\\left (\\theta \\right )}\\right) \\left(\\sqrt{- k^{2} + 1} \\cos{\\left (\\theta \\right )} + \\sqrt{- k^{2} + 1} + i \\sin{\\left (\\theta \\right )}\\right)}$$"
      ],
      "text/plain": [
       "<IPython.core.display.Math at 0x7f66a47e7a58>"
      ]
     },
     "metadata": {},
     "output_type": "display_data"
    }
   ],
   "source": [
    "from sympy import *\n",
    "from Electromagnetics.NetworkAnalysis_sym import *\n",
    "from IPython.display import display, Math, Latex\n",
    "\n",
    "init_printing()\n",
    "\n",
    "k = Symbol('k', real=True)\n",
    "alpha_1 = Symbol('\\\\alpha_1', real=True)\n",
    "alpha_2 = Symbol('\\\\alpha_2', real=True)\n",
    "theta = Symbol('\\\\theta', real=True)\n",
    "\n",
    "S_1 = Symbol('S_1')\n",
    "S_2 = Symbol('S_2')\n",
    "\n",
    "Snet = EmNetwork()\n",
    "\n",
    "S1_subs = I*k*sin(theta)/(sqrt(1-k**2)*cos(theta) + I*sin(theta))\n",
    "S2_subs = sqrt(1-k**2)/(sqrt(1-k**2)*cos(theta) + I*sin(theta))\n",
    "\n",
    "S_coupler = Matrix([[0, S_1, S_2, 0],\n",
    "                    [S_1, 0, 0, S_2],\n",
    "                    [S_2, 0, 0, S_1],\n",
    "                    [0, S_2, S_1, 0]])\n",
    "\n",
    "S_phaser = Matrix([[0, 1],\n",
    "                   [-1,0]])\n",
    "\n",
    "display(Math('S_\\\\text{coupler} = ' + latex(S_coupler)))\n",
    "display(Math('S_\\\\text{phaser} = ' + latex(S_phaser)))\n",
    "\n",
    "\n",
    "Snet.addComponent(S_coupler, \"coupler\")\n",
    "Snet.addComponent(S_phaser, \"phaser\")\n",
    "\n",
    "S = Snet.getTotalScatteringMatrix()\n",
    "display(Math('S = ' + latex(S)))\n",
    "\n",
    "\n",
    "Snet.addConnection(\"coupler\", 3, \"phaser\", 0)\n",
    "Snet.addConnection(\"coupler\", 1, \"phaser\", 1)\n",
    "\n",
    "S = Snet.getTotalScatteringMatrix()\n",
    "display(Math('S = ' + latex(S)))\n",
    "\n",
    "S_21 = S[1,0]\n",
    "display(Math('S_{21} = ' + latex(S_21)))\n",
    "\n",
    "S_12 = S[0,1]\n",
    "display(Math('S_{12} = ' + latex(S_12)))\n",
    "\n",
    "\n",
    "display(Math('S_1 = ' + latex(S1_subs)))\n",
    "display(Math('S_2 = ' + latex(S2_subs)))\n",
    "\n",
    "\n",
    "S_21 = S_21.subs([(S_1, S1_subs), (S_2, S2_subs)]).simplify()\n",
    "display(Math('S_{21} = ' + latex(S_21)))\n",
    "\n",
    "S_12 = S_12.subs([(S_1, S1_subs), (S_2, S2_subs)]).simplify()\n",
    "display(Math('S_{12} = ' + latex(S_12)))\n"
   ]
  },
  {
   "cell_type": "code",
   "execution_count": null,
   "metadata": {
    "collapsed": false
   },
   "outputs": [],
   "source": []
  }
 ],
 "metadata": {
  "kernelspec": {
   "display_name": "Python 3",
   "language": "python",
   "name": "python3"
  },
  "language_info": {
   "codemirror_mode": {
    "name": "ipython",
    "version": 3
   },
   "file_extension": ".py",
   "mimetype": "text/x-python",
   "name": "python",
   "nbconvert_exporter": "python",
   "pygments_lexer": "ipython3",
   "version": "3.4.3"
  }
 },
 "nbformat": 4,
 "nbformat_minor": 0
}
